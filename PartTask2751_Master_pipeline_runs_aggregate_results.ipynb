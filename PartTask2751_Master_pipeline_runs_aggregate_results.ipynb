{
 "cells": [
  {
   "cell_type": "markdown",
   "metadata": {},
   "source": [
    "# Description"
   ]
  },
  {
   "cell_type": "markdown",
   "metadata": {},
   "source": [
    "- Evaluate multiple runs from DAG modeling pipelines\n",
    "- Calculate top-level stats and adjust for multiple hypothesis testing"
   ]
  },
  {
   "cell_type": "markdown",
   "metadata": {},
   "source": [
    "# Imports"
   ]
  },
  {
   "cell_type": "code",
   "execution_count": 3,
   "metadata": {},
   "outputs": [
    {
     "name": "stdout",
     "output_type": "stream",
     "text": [
      "The autoreload extension is already loaded. To reload it, use:\n",
      "  %reload_ext autoreload\n"
     ]
    },
    {
     "name": "stderr",
     "output_type": "stream",
     "text": [
      "/wd/dima/.conda/envs/p1_develop/lib/python3.7/site-packages/tqdm/std.py:668: FutureWarning: The Panel class is removed from pandas. Accessing it from the top-level namespace will also be removed in the next version\n",
      "  from pandas import Panel\n",
      "/wd/dima/.conda/envs/p1_develop/lib/python3.7/site-packages/tensorflow/python/framework/dtypes.py:526: FutureWarning: Passing (type, 1) or '1type' as a synonym of type is deprecated; in a future version of numpy, it will be understood as (type, (1,)) / '(1,)type'.\n",
      "  _np_qint8 = np.dtype([(\"qint8\", np.int8, 1)])\n",
      "/wd/dima/.conda/envs/p1_develop/lib/python3.7/site-packages/tensorflow/python/framework/dtypes.py:527: FutureWarning: Passing (type, 1) or '1type' as a synonym of type is deprecated; in a future version of numpy, it will be understood as (type, (1,)) / '(1,)type'.\n",
      "  _np_quint8 = np.dtype([(\"quint8\", np.uint8, 1)])\n",
      "/wd/dima/.conda/envs/p1_develop/lib/python3.7/site-packages/tensorflow/python/framework/dtypes.py:528: FutureWarning: Passing (type, 1) or '1type' as a synonym of type is deprecated; in a future version of numpy, it will be understood as (type, (1,)) / '(1,)type'.\n",
      "  _np_qint16 = np.dtype([(\"qint16\", np.int16, 1)])\n",
      "/wd/dima/.conda/envs/p1_develop/lib/python3.7/site-packages/tensorflow/python/framework/dtypes.py:529: FutureWarning: Passing (type, 1) or '1type' as a synonym of type is deprecated; in a future version of numpy, it will be understood as (type, (1,)) / '(1,)type'.\n",
      "  _np_quint16 = np.dtype([(\"quint16\", np.uint16, 1)])\n",
      "/wd/dima/.conda/envs/p1_develop/lib/python3.7/site-packages/tensorflow/python/framework/dtypes.py:530: FutureWarning: Passing (type, 1) or '1type' as a synonym of type is deprecated; in a future version of numpy, it will be understood as (type, (1,)) / '(1,)type'.\n",
      "  _np_qint32 = np.dtype([(\"qint32\", np.int32, 1)])\n",
      "/wd/dima/.conda/envs/p1_develop/lib/python3.7/site-packages/tensorflow/python/framework/dtypes.py:535: FutureWarning: Passing (type, 1) or '1type' as a synonym of type is deprecated; in a future version of numpy, it will be understood as (type, (1,)) / '(1,)type'.\n",
      "  np_resource = np.dtype([(\"resource\", np.ubyte, 1)])\n",
      "/wd/dima/.conda/envs/p1_develop/lib/python3.7/site-packages/tqdm/std.py:668: FutureWarning: The Panel class is removed from pandas. Accessing it from the top-level namespace will also be removed in the next version\n",
      "  from pandas import Panel\n"
     ]
    }
   ],
   "source": [
    "%load_ext autoreload\n",
    "%autoreload 2\n",
    "\n",
    "\n",
    "import pandas as pd\n",
    "\n",
    "import automl.notebooks.utils as amlnut\n",
    "import core.config as cfg\n",
    "import core.config_builders as cfgb\n",
    "import core.plotting as plot\n",
    "import core.statistics as stats\n",
    "import core.timeseries_study as tss"
   ]
  },
  {
   "cell_type": "markdown",
   "metadata": {},
   "source": [
    "# Load config"
   ]
  },
  {
   "cell_type": "code",
   "execution_count": 4,
   "metadata": {},
   "outputs": [],
   "source": [
    "eval_config = cfgb.get_config_from_env()"
   ]
  },
  {
   "cell_type": "code",
   "execution_count": 5,
   "metadata": {},
   "outputs": [],
   "source": [
    "# if eval_config is None:\n",
    "if True:\n",
    "    eval_config = cfgb.get_config_from_nested_dict(\n",
    "        {\n",
    "            \"results_directory\": \"/data/automl/experiments/basf/RH_1\",\n",
    "            \"metrics\": {\n",
    "                \"perf_\": stats.compute_annualized_sharpe_ratio,\n",
    "                \"ttest_\": stats.ttest_1samp,\n",
    "                \"moments_\": stats.compute_moments,\n",
    "            },\n",
    "            \"perform_global_adj\": {\"pval_col\": \"ttest_pval\",},\n",
    "            \"global_adj_pval_threshold\": 0.2,\n",
    "            \"perform_family_adj\": {\"pval_col\": \"ttest_pval\", \"tag_col\": \"tag\",},\n",
    "            \"perform_family_selection\": {\n",
    "                \"tag_col\": \"tag\",\n",
    "                \"sr_col\": \"perf_ann_sharpe\",\n",
    "                \"adj_pval_threshold\": 0.2,\n",
    "                \"ann_sharpe_threshold\": 0.7,\n",
    "                \"num\": 10,\n",
    "            },\n",
    "            \"tags\": (\n",
    "                \"rh1\",\n",
    "                \"rh2\",\n",
    "                \"rh3\",\n",
    "                \"rh4\",\n",
    "                \"rh5\",\n",
    "                \"rh6\",\n",
    "                \"rh7\",\n",
    "                \"rh8\",\n",
    "                \"rh9\",\n",
    "                \"rh10\",\n",
    "                \"rh11\",  # Selected (Propylene)\n",
    "                \"rh12\",\n",
    "                \"rh13\",  # Selected (Butadiene)\n",
    "                \"rh14\",\n",
    "                \"rh15\",  # Selected (Butadiene)\n",
    "                \"butadiene\",\n",
    "            ),\n",
    "            \"pipeline_stages_to_plot\": {\n",
    "                \"sig/load_data\",\n",
    "                \"sig/dropna\",\n",
    "                \"rets/clip\",\n",
    "                \"model/ml\",\n",
    "            },\n",
    "        }\n",
    "    )"
   ]
  },
  {
   "cell_type": "code",
   "execution_count": 6,
   "metadata": {},
   "outputs": [
    {
     "data": {
      "text/plain": [
       "results_directory: /data/automl/experiments/basf/RH_1\n",
       "metrics:\n",
       "  perf_: <function compute_annualized_sharpe_ratio>\n",
       "  ttest_: <function ttest_1samp>\n",
       "  moments_: <function compute_moments>\n",
       "perform_global_adj:\n",
       "  pval_col: ttest_pval\n",
       "global_adj_pval_threshold: 0.2\n",
       "perform_family_adj:\n",
       "  pval_col: ttest_pval\n",
       "  tag_col: tag\n",
       "perform_family_selection:\n",
       "  tag_col: tag\n",
       "  sr_col: perf_ann_sharpe\n",
       "  adj_pval_threshold: 0.2\n",
       "  ann_sharpe_threshold: 0.7\n",
       "  num: 10\n",
       "tags: ('rh1', 'rh2', 'rh3', 'rh4', 'rh5', 'rh6', 'rh7', 'rh8', 'rh9', 'rh10', 'rh11', 'rh12', 'rh13', 'rh14', 'rh15', 'butadiene')\n",
       "pipeline_stages_to_plot: {'model/ml', 'rets/clip', 'sig/load_data', 'sig/dropna'}"
      ]
     },
     "execution_count": 6,
     "metadata": {},
     "output_type": "execute_result"
    }
   ],
   "source": [
    "eval_config"
   ]
  },
  {
   "cell_type": "markdown",
   "metadata": {},
   "source": [
    "# Load pipeline run configs"
   ]
  },
  {
   "cell_type": "code",
   "execution_count": 7,
   "metadata": {},
   "outputs": [
    {
     "data": {
      "application/vnd.jupyter.widget-view+json": {
       "model_id": "015193346da04d06ac418ff75cd02266",
       "version_major": 2,
       "version_minor": 0
      },
      "text/plain": [
       "HBox(children=(FloatProgress(value=0.0, max=4896.0), HTML(value='')))"
      ]
     },
     "metadata": {},
     "output_type": "display_data"
    },
    {
     "name": "stdout",
     "output_type": "stream",
     "text": [
      "\n"
     ]
    }
   ],
   "source": [
    "# Load configs before loading (larger) result_bundles.\n",
    "config_dict = amlnut.load_files(eval_config[\"results_directory\"], \"config.pkl\")"
   ]
  },
  {
   "cell_type": "code",
   "execution_count": 8,
   "metadata": {},
   "outputs": [],
   "source": [
    "# Create config dataframe.\n",
    "configs = cfg.convert_to_dataframe(config_dict.values())"
   ]
  },
  {
   "cell_type": "code",
   "execution_count": 9,
   "metadata": {},
   "outputs": [
    {
     "data": {
      "text/html": [
       "<div>\n",
       "<style scoped>\n",
       "    .dataframe tbody tr th:only-of-type {\n",
       "        vertical-align: middle;\n",
       "    }\n",
       "\n",
       "    .dataframe tbody tr th {\n",
       "        vertical-align: top;\n",
       "    }\n",
       "\n",
       "    .dataframe thead th {\n",
       "        text-align: right;\n",
       "    }\n",
       "</style>\n",
       "<table border=\"1\" class=\"dataframe\">\n",
       "  <thead>\n",
       "    <tr style=\"text-align: right;\">\n",
       "      <th></th>\n",
       "      <th>tag</th>\n",
       "      <th>DAG.rets/read_price_data.source_node_name</th>\n",
       "      <th>DAG.rets/read_price_data.source_node_kwargs.source_code</th>\n",
       "      <th>DAG.rets/read_price_data.source_node_kwargs.dataset_code</th>\n",
       "      <th>DAG.rets/read_price_data.source_node_kwargs.payload_code</th>\n",
       "      <th>DAG.rets/read_price_data.source_node_kwargs.end_date</th>\n",
       "      <th>DAG.rets/process_outliers.col_mode</th>\n",
       "      <th>DAG.rets/process_outliers.transformer_kwargs.mode</th>\n",
       "      <th>DAG.rets/process_outliers.transformer_kwargs.lower_quantile</th>\n",
       "      <th>DAG.rets/process_outliers.transformer_kwargs.window</th>\n",
       "      <th>...</th>\n",
       "      <th>DAG.sig/dropna</th>\n",
       "      <th>DAG.model/ml.steps_ahead</th>\n",
       "      <th>DAG.model/ml.model_func</th>\n",
       "      <th>DAG.model/ml.y_vars</th>\n",
       "      <th>DAG.model/ml.x_vars</th>\n",
       "      <th>DAG.model/ml.model_kwargs.fit_intercept</th>\n",
       "      <th>meta.dag_builder</th>\n",
       "      <th>meta.result_dir</th>\n",
       "      <th>meta.id</th>\n",
       "      <th>meta.experiment_result_dir</th>\n",
       "    </tr>\n",
       "  </thead>\n",
       "  <tbody>\n",
       "    <tr>\n",
       "      <th>0</th>\n",
       "      <td>rh1</td>\n",
       "      <td>wind</td>\n",
       "      <td></td>\n",
       "      <td></td>\n",
       "      <td>S5425051</td>\n",
       "      <td>2018</td>\n",
       "      <td>replace_all</td>\n",
       "      <td>winsorize</td>\n",
       "      <td>0.01</td>\n",
       "      <td>252</td>\n",
       "      <td>...</td>\n",
       "      <td>{}</td>\n",
       "      <td>1</td>\n",
       "      <td>&lt;class 'sklearn.linear_model._base.LinearRegre...</td>\n",
       "      <td>[zret_0]</td>\n",
       "      <td>[S0070156, S5426781]</td>\n",
       "      <td>False</td>\n",
       "      <td>&lt;dataflow_p1.task2561_pipeline.ReturnsPredicti...</td>\n",
       "      <td>/data/automl/experiments/basf/RH_1</td>\n",
       "      <td>0</td>\n",
       "      <td>/data/automl/experiments/basf/RH_1/result_0</td>\n",
       "    </tr>\n",
       "    <tr>\n",
       "      <th>1</th>\n",
       "      <td>rh1</td>\n",
       "      <td>wind</td>\n",
       "      <td></td>\n",
       "      <td></td>\n",
       "      <td>S5425051</td>\n",
       "      <td>2018</td>\n",
       "      <td>replace_all</td>\n",
       "      <td>winsorize</td>\n",
       "      <td>0.01</td>\n",
       "      <td>252</td>\n",
       "      <td>...</td>\n",
       "      <td>{}</td>\n",
       "      <td>1</td>\n",
       "      <td>&lt;class 'sklearn.linear_model._base.LinearRegre...</td>\n",
       "      <td>[zret_0]</td>\n",
       "      <td>[S0070156, S5426781]</td>\n",
       "      <td>False</td>\n",
       "      <td>&lt;dataflow_p1.task2561_pipeline.ReturnsPredicti...</td>\n",
       "      <td>/data/automl/experiments/basf/RH_1</td>\n",
       "      <td>1</td>\n",
       "      <td>/data/automl/experiments/basf/RH_1/result_1</td>\n",
       "    </tr>\n",
       "    <tr>\n",
       "      <th>2</th>\n",
       "      <td>rh1</td>\n",
       "      <td>wind</td>\n",
       "      <td></td>\n",
       "      <td></td>\n",
       "      <td>S5425051</td>\n",
       "      <td>2018</td>\n",
       "      <td>replace_all</td>\n",
       "      <td>winsorize</td>\n",
       "      <td>0.01</td>\n",
       "      <td>252</td>\n",
       "      <td>...</td>\n",
       "      <td>{}</td>\n",
       "      <td>1</td>\n",
       "      <td>&lt;class 'sklearn.linear_model._base.LinearRegre...</td>\n",
       "      <td>[zret_0]</td>\n",
       "      <td>[S0070156, S5426781]</td>\n",
       "      <td>False</td>\n",
       "      <td>&lt;dataflow_p1.task2561_pipeline.ReturnsPredicti...</td>\n",
       "      <td>/data/automl/experiments/basf/RH_1</td>\n",
       "      <td>2</td>\n",
       "      <td>/data/automl/experiments/basf/RH_1/result_2</td>\n",
       "    </tr>\n",
       "  </tbody>\n",
       "</table>\n",
       "<p>3 rows × 56 columns</p>\n",
       "</div>"
      ],
      "text/plain": [
       "   tag DAG.rets/read_price_data.source_node_name  \\\n",
       "0  rh1                                      wind   \n",
       "1  rh1                                      wind   \n",
       "2  rh1                                      wind   \n",
       "\n",
       "  DAG.rets/read_price_data.source_node_kwargs.source_code  \\\n",
       "0                                                           \n",
       "1                                                           \n",
       "2                                                           \n",
       "\n",
       "  DAG.rets/read_price_data.source_node_kwargs.dataset_code  \\\n",
       "0                                                            \n",
       "1                                                            \n",
       "2                                                            \n",
       "\n",
       "  DAG.rets/read_price_data.source_node_kwargs.payload_code  \\\n",
       "0                                           S5425051         \n",
       "1                                           S5425051         \n",
       "2                                           S5425051         \n",
       "\n",
       "  DAG.rets/read_price_data.source_node_kwargs.end_date  \\\n",
       "0                                               2018     \n",
       "1                                               2018     \n",
       "2                                               2018     \n",
       "\n",
       "  DAG.rets/process_outliers.col_mode  \\\n",
       "0                        replace_all   \n",
       "1                        replace_all   \n",
       "2                        replace_all   \n",
       "\n",
       "  DAG.rets/process_outliers.transformer_kwargs.mode  \\\n",
       "0                                         winsorize   \n",
       "1                                         winsorize   \n",
       "2                                         winsorize   \n",
       "\n",
       "  DAG.rets/process_outliers.transformer_kwargs.lower_quantile  \\\n",
       "0                                               0.01            \n",
       "1                                               0.01            \n",
       "2                                               0.01            \n",
       "\n",
       "  DAG.rets/process_outliers.transformer_kwargs.window  ... DAG.sig/dropna  \\\n",
       "0                                                252   ...             {}   \n",
       "1                                                252   ...             {}   \n",
       "2                                                252   ...             {}   \n",
       "\n",
       "  DAG.model/ml.steps_ahead                            DAG.model/ml.model_func  \\\n",
       "0                        1  <class 'sklearn.linear_model._base.LinearRegre...   \n",
       "1                        1  <class 'sklearn.linear_model._base.LinearRegre...   \n",
       "2                        1  <class 'sklearn.linear_model._base.LinearRegre...   \n",
       "\n",
       "  DAG.model/ml.y_vars   DAG.model/ml.x_vars  \\\n",
       "0            [zret_0]  [S0070156, S5426781]   \n",
       "1            [zret_0]  [S0070156, S5426781]   \n",
       "2            [zret_0]  [S0070156, S5426781]   \n",
       "\n",
       "  DAG.model/ml.model_kwargs.fit_intercept  \\\n",
       "0                                   False   \n",
       "1                                   False   \n",
       "2                                   False   \n",
       "\n",
       "                                    meta.dag_builder  \\\n",
       "0  <dataflow_p1.task2561_pipeline.ReturnsPredicti...   \n",
       "1  <dataflow_p1.task2561_pipeline.ReturnsPredicti...   \n",
       "2  <dataflow_p1.task2561_pipeline.ReturnsPredicti...   \n",
       "\n",
       "                      meta.result_dir meta.id  \\\n",
       "0  /data/automl/experiments/basf/RH_1       0   \n",
       "1  /data/automl/experiments/basf/RH_1       1   \n",
       "2  /data/automl/experiments/basf/RH_1       2   \n",
       "\n",
       "                    meta.experiment_result_dir  \n",
       "0  /data/automl/experiments/basf/RH_1/result_0  \n",
       "1  /data/automl/experiments/basf/RH_1/result_1  \n",
       "2  /data/automl/experiments/basf/RH_1/result_2  \n",
       "\n",
       "[3 rows x 56 columns]"
      ]
     },
     "execution_count": 9,
     "metadata": {},
     "output_type": "execute_result"
    }
   ],
   "source": [
    "configs.head(3)"
   ]
  },
  {
   "cell_type": "code",
   "execution_count": 10,
   "metadata": {},
   "outputs": [],
   "source": [
    "# Create dataframe of config diffs.\n",
    "diffs = cfg.diff_configs(config_dict.values())\n",
    "config_diffs = cfg.convert_to_dataframe(diffs).dropna(how=\"all\", axis=1)"
   ]
  },
  {
   "cell_type": "code",
   "execution_count": 11,
   "metadata": {},
   "outputs": [
    {
     "data": {
      "text/html": [
       "<div>\n",
       "<style scoped>\n",
       "    .dataframe tbody tr th:only-of-type {\n",
       "        vertical-align: middle;\n",
       "    }\n",
       "\n",
       "    .dataframe tbody tr th {\n",
       "        vertical-align: top;\n",
       "    }\n",
       "\n",
       "    .dataframe thead th {\n",
       "        text-align: right;\n",
       "    }\n",
       "</style>\n",
       "<table border=\"1\" class=\"dataframe\">\n",
       "  <thead>\n",
       "    <tr style=\"text-align: right;\">\n",
       "      <th></th>\n",
       "      <th>tag</th>\n",
       "      <th>DAG.rets/read_price_data.source_node_kwargs.payload_code</th>\n",
       "      <th>DAG.rets/resample.rule</th>\n",
       "      <th>DAG.sig/load_data.payload_codes</th>\n",
       "      <th>DAG.sig/resample.rule</th>\n",
       "      <th>DAG.sig/add_lags.method_kwargs.periods</th>\n",
       "      <th>DAG.sig/compute_smooth_moving_average.transformer_kwargs.tau</th>\n",
       "      <th>DAG.sig/compute_smooth_moving_average.transformer_kwargs.max_depth</th>\n",
       "      <th>DAG.sig/zscore.transformer_kwargs.tau</th>\n",
       "      <th>DAG.model/ml.x_vars</th>\n",
       "      <th>meta.dag_builder</th>\n",
       "      <th>meta.id</th>\n",
       "      <th>meta.experiment_result_dir</th>\n",
       "    </tr>\n",
       "  </thead>\n",
       "  <tbody>\n",
       "    <tr>\n",
       "      <th>0</th>\n",
       "      <td>rh1</td>\n",
       "      <td>S5425051</td>\n",
       "      <td>W</td>\n",
       "      <td>[S0070156, S5426781]</td>\n",
       "      <td>W</td>\n",
       "      <td>4</td>\n",
       "      <td>2</td>\n",
       "      <td>1</td>\n",
       "      <td>2</td>\n",
       "      <td>[S0070156, S5426781]</td>\n",
       "      <td>&lt;dataflow_p1.task2561_pipeline.ReturnsPredicti...</td>\n",
       "      <td>0</td>\n",
       "      <td>/data/automl/experiments/basf/RH_1/result_0</td>\n",
       "    </tr>\n",
       "    <tr>\n",
       "      <th>1</th>\n",
       "      <td>rh1</td>\n",
       "      <td>S5425051</td>\n",
       "      <td>W</td>\n",
       "      <td>[S0070156, S5426781]</td>\n",
       "      <td>W</td>\n",
       "      <td>4</td>\n",
       "      <td>2</td>\n",
       "      <td>1</td>\n",
       "      <td>4</td>\n",
       "      <td>[S0070156, S5426781]</td>\n",
       "      <td>&lt;dataflow_p1.task2561_pipeline.ReturnsPredicti...</td>\n",
       "      <td>1</td>\n",
       "      <td>/data/automl/experiments/basf/RH_1/result_1</td>\n",
       "    </tr>\n",
       "    <tr>\n",
       "      <th>2</th>\n",
       "      <td>rh1</td>\n",
       "      <td>S5425051</td>\n",
       "      <td>W</td>\n",
       "      <td>[S0070156, S5426781]</td>\n",
       "      <td>W</td>\n",
       "      <td>4</td>\n",
       "      <td>2</td>\n",
       "      <td>1</td>\n",
       "      <td>8</td>\n",
       "      <td>[S0070156, S5426781]</td>\n",
       "      <td>&lt;dataflow_p1.task2561_pipeline.ReturnsPredicti...</td>\n",
       "      <td>2</td>\n",
       "      <td>/data/automl/experiments/basf/RH_1/result_2</td>\n",
       "    </tr>\n",
       "  </tbody>\n",
       "</table>\n",
       "</div>"
      ],
      "text/plain": [
       "   tag DAG.rets/read_price_data.source_node_kwargs.payload_code  \\\n",
       "0  rh1                                           S5425051         \n",
       "1  rh1                                           S5425051         \n",
       "2  rh1                                           S5425051         \n",
       "\n",
       "  DAG.rets/resample.rule DAG.sig/load_data.payload_codes  \\\n",
       "0                      W            [S0070156, S5426781]   \n",
       "1                      W            [S0070156, S5426781]   \n",
       "2                      W            [S0070156, S5426781]   \n",
       "\n",
       "  DAG.sig/resample.rule DAG.sig/add_lags.method_kwargs.periods  \\\n",
       "0                     W                                      4   \n",
       "1                     W                                      4   \n",
       "2                     W                                      4   \n",
       "\n",
       "  DAG.sig/compute_smooth_moving_average.transformer_kwargs.tau  \\\n",
       "0                                                  2             \n",
       "1                                                  2             \n",
       "2                                                  2             \n",
       "\n",
       "  DAG.sig/compute_smooth_moving_average.transformer_kwargs.max_depth  \\\n",
       "0                                                  1                   \n",
       "1                                                  1                   \n",
       "2                                                  1                   \n",
       "\n",
       "  DAG.sig/zscore.transformer_kwargs.tau   DAG.model/ml.x_vars  \\\n",
       "0                                     2  [S0070156, S5426781]   \n",
       "1                                     4  [S0070156, S5426781]   \n",
       "2                                     8  [S0070156, S5426781]   \n",
       "\n",
       "                                    meta.dag_builder meta.id  \\\n",
       "0  <dataflow_p1.task2561_pipeline.ReturnsPredicti...       0   \n",
       "1  <dataflow_p1.task2561_pipeline.ReturnsPredicti...       1   \n",
       "2  <dataflow_p1.task2561_pipeline.ReturnsPredicti...       2   \n",
       "\n",
       "                    meta.experiment_result_dir  \n",
       "0  /data/automl/experiments/basf/RH_1/result_0  \n",
       "1  /data/automl/experiments/basf/RH_1/result_1  \n",
       "2  /data/automl/experiments/basf/RH_1/result_2  "
      ]
     },
     "execution_count": 11,
     "metadata": {},
     "output_type": "execute_result"
    }
   ],
   "source": [
    "config_diffs.head(3)"
   ]
  },
  {
   "cell_type": "markdown",
   "metadata": {},
   "source": [
    "# Load pipeline result bundles"
   ]
  },
  {
   "cell_type": "code",
   "execution_count": 12,
   "metadata": {},
   "outputs": [
    {
     "data": {
      "application/vnd.jupyter.widget-view+json": {
       "model_id": "ea3505d79d59493fb4efb28b903a0a15",
       "version_major": 2,
       "version_minor": 0
      },
      "text/plain": [
       "HBox(children=(FloatProgress(value=0.0, max=4896.0), HTML(value='')))"
      ]
     },
     "metadata": {},
     "output_type": "display_data"
    },
    {
     "name": "stdout",
     "output_type": "stream",
     "text": [
      "\n"
     ]
    }
   ],
   "source": [
    "result_bundles = amlnut.load_files(\n",
    "    eval_config[\"results_directory\"], \"result_bundle.pkl\"\n",
    ")"
   ]
  },
  {
   "cell_type": "code",
   "execution_count": 13,
   "metadata": {},
   "outputs": [
    {
     "data": {
      "text/plain": [
       "4896"
      ]
     },
     "execution_count": 13,
     "metadata": {},
     "output_type": "execute_result"
    }
   ],
   "source": [
    "len(result_bundles)"
   ]
  },
  {
   "cell_type": "markdown",
   "metadata": {},
   "source": [
    "# Calculate metrics and performance statistics"
   ]
  },
  {
   "cell_type": "code",
   "execution_count": 14,
   "metadata": {},
   "outputs": [
    {
     "data": {
      "application/vnd.jupyter.widget-view+json": {
       "model_id": "d35f9a1614d140309abc28fc0b0be828",
       "version_major": 2,
       "version_minor": 0
      },
      "text/plain": [
       "HBox(children=(FloatProgress(value=0.0, max=4896.0), HTML(value='')))"
      ]
     },
     "metadata": {},
     "output_type": "display_data"
    },
    {
     "name": "stdout",
     "output_type": "stream",
     "text": [
      "\n"
     ]
    }
   ],
   "source": [
    "pnls = amlnut.compute_pnl_v2(result_bundles)"
   ]
  },
  {
   "cell_type": "code",
   "execution_count": 15,
   "metadata": {},
   "outputs": [
    {
     "name": "stderr",
     "output_type": "stream",
     "text": [
      "/wd/dima/commodity_research/amp/core/finance.py:318: RuntimeWarning: invalid value encountered in double_scalars\n",
      "  sr = log_rets.mean() / log_rets.std()\n"
     ]
    }
   ],
   "source": [
    "# TODO: Add a progress bar.\n",
    "pnl_stats = tss.map_dict_to_dataframe(\n",
    "    pnls, eval_config[\"metrics\"].to_dict()\n",
    ").transpose()"
   ]
  },
  {
   "cell_type": "code",
   "execution_count": 16,
   "metadata": {},
   "outputs": [
    {
     "data": {
      "text/html": [
       "<div>\n",
       "<style scoped>\n",
       "    .dataframe tbody tr th:only-of-type {\n",
       "        vertical-align: middle;\n",
       "    }\n",
       "\n",
       "    .dataframe tbody tr th {\n",
       "        vertical-align: top;\n",
       "    }\n",
       "\n",
       "    .dataframe thead th {\n",
       "        text-align: right;\n",
       "    }\n",
       "</style>\n",
       "<table border=\"1\" class=\"dataframe\">\n",
       "  <thead>\n",
       "    <tr style=\"text-align: right;\">\n",
       "      <th></th>\n",
       "      <th>perf_ann_sharpe</th>\n",
       "      <th>perf_ann_sharpe_se</th>\n",
       "      <th>ttest_tval</th>\n",
       "      <th>ttest_pval</th>\n",
       "      <th>moments_mean</th>\n",
       "      <th>moments_std</th>\n",
       "      <th>moments_skew</th>\n",
       "      <th>moments_kurtosis</th>\n",
       "    </tr>\n",
       "  </thead>\n",
       "  <tbody>\n",
       "    <tr>\n",
       "      <th>0</th>\n",
       "      <td>0.437339</td>\n",
       "      <td>0.052468</td>\n",
       "      <td>1.209925</td>\n",
       "      <td>0.227028</td>\n",
       "      <td>0.005449</td>\n",
       "      <td>0.089852</td>\n",
       "      <td>0.334719</td>\n",
       "      <td>18.073834</td>\n",
       "    </tr>\n",
       "    <tr>\n",
       "      <th>1</th>\n",
       "      <td>0.256548</td>\n",
       "      <td>0.050944</td>\n",
       "      <td>0.709755</td>\n",
       "      <td>0.478273</td>\n",
       "      <td>0.001960</td>\n",
       "      <td>0.055093</td>\n",
       "      <td>1.451462</td>\n",
       "      <td>29.880921</td>\n",
       "    </tr>\n",
       "    <tr>\n",
       "      <th>2</th>\n",
       "      <td>0.241849</td>\n",
       "      <td>0.050853</td>\n",
       "      <td>0.669089</td>\n",
       "      <td>0.503828</td>\n",
       "      <td>0.001649</td>\n",
       "      <td>0.049165</td>\n",
       "      <td>2.553386</td>\n",
       "      <td>28.624280</td>\n",
       "    </tr>\n",
       "  </tbody>\n",
       "</table>\n",
       "</div>"
      ],
      "text/plain": [
       "   perf_ann_sharpe  perf_ann_sharpe_se  ttest_tval  ttest_pval  moments_mean  \\\n",
       "0         0.437339            0.052468    1.209925    0.227028      0.005449   \n",
       "1         0.256548            0.050944    0.709755    0.478273      0.001960   \n",
       "2         0.241849            0.050853    0.669089    0.503828      0.001649   \n",
       "\n",
       "   moments_std  moments_skew  moments_kurtosis  \n",
       "0     0.089852      0.334719         18.073834  \n",
       "1     0.055093      1.451462         29.880921  \n",
       "2     0.049165      2.553386         28.624280  "
      ]
     },
     "execution_count": 16,
     "metadata": {},
     "output_type": "execute_result"
    }
   ],
   "source": [
    "pnl_stats.head(3)"
   ]
  },
  {
   "cell_type": "markdown",
   "metadata": {},
   "source": [
    "## Global adjustment"
   ]
  },
  {
   "cell_type": "code",
   "execution_count": 17,
   "metadata": {},
   "outputs": [],
   "source": [
    "pnl_stats_with_adj = amlnut.perform_global_adj(\n",
    "    pnl_stats, **eval_config[\"perform_global_adj\"].to_dict()\n",
    ")"
   ]
  },
  {
   "cell_type": "code",
   "execution_count": 18,
   "metadata": {},
   "outputs": [
    {
     "data": {
      "text/html": [
       "<div>\n",
       "<style scoped>\n",
       "    .dataframe tbody tr th:only-of-type {\n",
       "        vertical-align: middle;\n",
       "    }\n",
       "\n",
       "    .dataframe tbody tr th {\n",
       "        vertical-align: top;\n",
       "    }\n",
       "\n",
       "    .dataframe thead th {\n",
       "        text-align: right;\n",
       "    }\n",
       "</style>\n",
       "<table border=\"1\" class=\"dataframe\">\n",
       "  <thead>\n",
       "    <tr style=\"text-align: right;\">\n",
       "      <th></th>\n",
       "      <th>perf_ann_sharpe</th>\n",
       "      <th>perf_ann_sharpe_se</th>\n",
       "      <th>ttest_tval</th>\n",
       "      <th>ttest_pval</th>\n",
       "      <th>moments_mean</th>\n",
       "      <th>moments_std</th>\n",
       "      <th>moments_skew</th>\n",
       "      <th>moments_kurtosis</th>\n",
       "      <th>global_adj_pval</th>\n",
       "    </tr>\n",
       "  </thead>\n",
       "  <tbody>\n",
       "    <tr>\n",
       "      <th>0</th>\n",
       "      <td>0.437339</td>\n",
       "      <td>0.052468</td>\n",
       "      <td>1.209925</td>\n",
       "      <td>0.227028</td>\n",
       "      <td>0.005449</td>\n",
       "      <td>0.089852</td>\n",
       "      <td>0.334719</td>\n",
       "      <td>18.073834</td>\n",
       "      <td>0.355231</td>\n",
       "    </tr>\n",
       "    <tr>\n",
       "      <th>1</th>\n",
       "      <td>0.256548</td>\n",
       "      <td>0.050944</td>\n",
       "      <td>0.709755</td>\n",
       "      <td>0.478273</td>\n",
       "      <td>0.001960</td>\n",
       "      <td>0.055093</td>\n",
       "      <td>1.451462</td>\n",
       "      <td>29.880921</td>\n",
       "      <td>0.557954</td>\n",
       "    </tr>\n",
       "    <tr>\n",
       "      <th>2</th>\n",
       "      <td>0.241849</td>\n",
       "      <td>0.050853</td>\n",
       "      <td>0.669089</td>\n",
       "      <td>0.503828</td>\n",
       "      <td>0.001649</td>\n",
       "      <td>0.049165</td>\n",
       "      <td>2.553386</td>\n",
       "      <td>28.624280</td>\n",
       "      <td>0.576147</td>\n",
       "    </tr>\n",
       "    <tr>\n",
       "      <th>3</th>\n",
       "      <td>0.396306</td>\n",
       "      <td>0.052056</td>\n",
       "      <td>1.096403</td>\n",
       "      <td>0.273567</td>\n",
       "      <td>0.004568</td>\n",
       "      <td>0.083127</td>\n",
       "      <td>0.541993</td>\n",
       "      <td>20.865001</td>\n",
       "      <td>0.397162</td>\n",
       "    </tr>\n",
       "    <tr>\n",
       "      <th>4</th>\n",
       "      <td>0.220550</td>\n",
       "      <td>0.050731</td>\n",
       "      <td>0.610164</td>\n",
       "      <td>0.542102</td>\n",
       "      <td>0.001482</td>\n",
       "      <td>0.048448</td>\n",
       "      <td>2.033791</td>\n",
       "      <td>34.043340</td>\n",
       "      <td>0.607013</td>\n",
       "    </tr>\n",
       "    <tr>\n",
       "      <th>...</th>\n",
       "      <td>...</td>\n",
       "      <td>...</td>\n",
       "      <td>...</td>\n",
       "      <td>...</td>\n",
       "      <td>...</td>\n",
       "      <td>...</td>\n",
       "      <td>...</td>\n",
       "      <td>...</td>\n",
       "      <td>...</td>\n",
       "    </tr>\n",
       "    <tr>\n",
       "      <th>4891</th>\n",
       "      <td>0.771240</td>\n",
       "      <td>0.129805</td>\n",
       "      <td>1.953639</td>\n",
       "      <td>0.054424</td>\n",
       "      <td>0.032741</td>\n",
       "      <td>0.147060</td>\n",
       "      <td>0.439014</td>\n",
       "      <td>0.812976</td>\n",
       "      <td>0.142709</td>\n",
       "    </tr>\n",
       "    <tr>\n",
       "      <th>4892</th>\n",
       "      <td>0.929530</td>\n",
       "      <td>0.136373</td>\n",
       "      <td>2.354605</td>\n",
       "      <td>0.021126</td>\n",
       "      <td>0.049306</td>\n",
       "      <td>0.183752</td>\n",
       "      <td>0.510950</td>\n",
       "      <td>0.833226</td>\n",
       "      <td>0.082437</td>\n",
       "    </tr>\n",
       "    <tr>\n",
       "      <th>4893</th>\n",
       "      <td>0.577719</td>\n",
       "      <td>0.123103</td>\n",
       "      <td>1.463429</td>\n",
       "      <td>0.147474</td>\n",
       "      <td>0.023521</td>\n",
       "      <td>0.141034</td>\n",
       "      <td>0.426989</td>\n",
       "      <td>0.710542</td>\n",
       "      <td>0.265105</td>\n",
       "    </tr>\n",
       "    <tr>\n",
       "      <th>4894</th>\n",
       "      <td>0.878924</td>\n",
       "      <td>0.134176</td>\n",
       "      <td>2.226414</td>\n",
       "      <td>0.028949</td>\n",
       "      <td>0.040947</td>\n",
       "      <td>0.161386</td>\n",
       "      <td>0.362052</td>\n",
       "      <td>0.252377</td>\n",
       "      <td>0.099218</td>\n",
       "    </tr>\n",
       "    <tr>\n",
       "      <th>4895</th>\n",
       "      <td>0.772523</td>\n",
       "      <td>0.129855</td>\n",
       "      <td>1.956890</td>\n",
       "      <td>0.054033</td>\n",
       "      <td>0.042796</td>\n",
       "      <td>0.191904</td>\n",
       "      <td>0.428868</td>\n",
       "      <td>0.614739</td>\n",
       "      <td>0.142197</td>\n",
       "    </tr>\n",
       "  </tbody>\n",
       "</table>\n",
       "<p>4896 rows × 9 columns</p>\n",
       "</div>"
      ],
      "text/plain": [
       "      perf_ann_sharpe  perf_ann_sharpe_se  ttest_tval  ttest_pval  \\\n",
       "0            0.437339            0.052468    1.209925    0.227028   \n",
       "1            0.256548            0.050944    0.709755    0.478273   \n",
       "2            0.241849            0.050853    0.669089    0.503828   \n",
       "3            0.396306            0.052056    1.096403    0.273567   \n",
       "4            0.220550            0.050731    0.610164    0.542102   \n",
       "...               ...                 ...         ...         ...   \n",
       "4891         0.771240            0.129805    1.953639    0.054424   \n",
       "4892         0.929530            0.136373    2.354605    0.021126   \n",
       "4893         0.577719            0.123103    1.463429    0.147474   \n",
       "4894         0.878924            0.134176    2.226414    0.028949   \n",
       "4895         0.772523            0.129855    1.956890    0.054033   \n",
       "\n",
       "      moments_mean  moments_std  moments_skew  moments_kurtosis  \\\n",
       "0         0.005449     0.089852      0.334719         18.073834   \n",
       "1         0.001960     0.055093      1.451462         29.880921   \n",
       "2         0.001649     0.049165      2.553386         28.624280   \n",
       "3         0.004568     0.083127      0.541993         20.865001   \n",
       "4         0.001482     0.048448      2.033791         34.043340   \n",
       "...            ...          ...           ...               ...   \n",
       "4891      0.032741     0.147060      0.439014          0.812976   \n",
       "4892      0.049306     0.183752      0.510950          0.833226   \n",
       "4893      0.023521     0.141034      0.426989          0.710542   \n",
       "4894      0.040947     0.161386      0.362052          0.252377   \n",
       "4895      0.042796     0.191904      0.428868          0.614739   \n",
       "\n",
       "      global_adj_pval  \n",
       "0            0.355231  \n",
       "1            0.557954  \n",
       "2            0.576147  \n",
       "3            0.397162  \n",
       "4            0.607013  \n",
       "...               ...  \n",
       "4891         0.142709  \n",
       "4892         0.082437  \n",
       "4893         0.265105  \n",
       "4894         0.099218  \n",
       "4895         0.142197  \n",
       "\n",
       "[4896 rows x 9 columns]"
      ]
     },
     "execution_count": 18,
     "metadata": {},
     "output_type": "execute_result"
    }
   ],
   "source": [
    "pnl_stats_with_adj"
   ]
  },
  {
   "cell_type": "code",
   "execution_count": 19,
   "metadata": {},
   "outputs": [],
   "source": [
    "results_df = pd.concat([pnl_stats_with_adj, config_diffs], axis=1)"
   ]
  },
  {
   "cell_type": "code",
   "execution_count": 20,
   "metadata": {},
   "outputs": [
    {
     "data": {
      "text/html": [
       "<div>\n",
       "<style scoped>\n",
       "    .dataframe tbody tr th:only-of-type {\n",
       "        vertical-align: middle;\n",
       "    }\n",
       "\n",
       "    .dataframe tbody tr th {\n",
       "        vertical-align: top;\n",
       "    }\n",
       "\n",
       "    .dataframe thead th {\n",
       "        text-align: right;\n",
       "    }\n",
       "</style>\n",
       "<table border=\"1\" class=\"dataframe\">\n",
       "  <thead>\n",
       "    <tr style=\"text-align: right;\">\n",
       "      <th></th>\n",
       "      <th>perf_ann_sharpe</th>\n",
       "      <th>perf_ann_sharpe_se</th>\n",
       "      <th>ttest_tval</th>\n",
       "      <th>ttest_pval</th>\n",
       "      <th>moments_mean</th>\n",
       "      <th>moments_std</th>\n",
       "      <th>moments_skew</th>\n",
       "      <th>moments_kurtosis</th>\n",
       "      <th>global_adj_pval</th>\n",
       "      <th>tag</th>\n",
       "      <th>...</th>\n",
       "      <th>DAG.sig/load_data.payload_codes</th>\n",
       "      <th>DAG.sig/resample.rule</th>\n",
       "      <th>DAG.sig/add_lags.method_kwargs.periods</th>\n",
       "      <th>DAG.sig/compute_smooth_moving_average.transformer_kwargs.tau</th>\n",
       "      <th>DAG.sig/compute_smooth_moving_average.transformer_kwargs.max_depth</th>\n",
       "      <th>DAG.sig/zscore.transformer_kwargs.tau</th>\n",
       "      <th>DAG.model/ml.x_vars</th>\n",
       "      <th>meta.dag_builder</th>\n",
       "      <th>meta.id</th>\n",
       "      <th>meta.experiment_result_dir</th>\n",
       "    </tr>\n",
       "  </thead>\n",
       "  <tbody>\n",
       "    <tr>\n",
       "      <th>0</th>\n",
       "      <td>0.437339</td>\n",
       "      <td>0.052468</td>\n",
       "      <td>1.209925</td>\n",
       "      <td>0.227028</td>\n",
       "      <td>0.005449</td>\n",
       "      <td>0.089852</td>\n",
       "      <td>0.334719</td>\n",
       "      <td>18.073834</td>\n",
       "      <td>0.355231</td>\n",
       "      <td>rh1</td>\n",
       "      <td>...</td>\n",
       "      <td>[S0070156, S5426781]</td>\n",
       "      <td>W</td>\n",
       "      <td>4</td>\n",
       "      <td>2</td>\n",
       "      <td>1</td>\n",
       "      <td>2</td>\n",
       "      <td>[S0070156, S5426781]</td>\n",
       "      <td>&lt;dataflow_p1.task2561_pipeline.ReturnsPredicti...</td>\n",
       "      <td>0</td>\n",
       "      <td>/data/automl/experiments/basf/RH_1/result_0</td>\n",
       "    </tr>\n",
       "    <tr>\n",
       "      <th>1</th>\n",
       "      <td>0.256548</td>\n",
       "      <td>0.050944</td>\n",
       "      <td>0.709755</td>\n",
       "      <td>0.478273</td>\n",
       "      <td>0.001960</td>\n",
       "      <td>0.055093</td>\n",
       "      <td>1.451462</td>\n",
       "      <td>29.880921</td>\n",
       "      <td>0.557954</td>\n",
       "      <td>rh1</td>\n",
       "      <td>...</td>\n",
       "      <td>[S0070156, S5426781]</td>\n",
       "      <td>W</td>\n",
       "      <td>4</td>\n",
       "      <td>2</td>\n",
       "      <td>1</td>\n",
       "      <td>4</td>\n",
       "      <td>[S0070156, S5426781]</td>\n",
       "      <td>&lt;dataflow_p1.task2561_pipeline.ReturnsPredicti...</td>\n",
       "      <td>1</td>\n",
       "      <td>/data/automl/experiments/basf/RH_1/result_1</td>\n",
       "    </tr>\n",
       "    <tr>\n",
       "      <th>2</th>\n",
       "      <td>0.241849</td>\n",
       "      <td>0.050853</td>\n",
       "      <td>0.669089</td>\n",
       "      <td>0.503828</td>\n",
       "      <td>0.001649</td>\n",
       "      <td>0.049165</td>\n",
       "      <td>2.553386</td>\n",
       "      <td>28.624280</td>\n",
       "      <td>0.576147</td>\n",
       "      <td>rh1</td>\n",
       "      <td>...</td>\n",
       "      <td>[S0070156, S5426781]</td>\n",
       "      <td>W</td>\n",
       "      <td>4</td>\n",
       "      <td>2</td>\n",
       "      <td>1</td>\n",
       "      <td>8</td>\n",
       "      <td>[S0070156, S5426781]</td>\n",
       "      <td>&lt;dataflow_p1.task2561_pipeline.ReturnsPredicti...</td>\n",
       "      <td>2</td>\n",
       "      <td>/data/automl/experiments/basf/RH_1/result_2</td>\n",
       "    </tr>\n",
       "    <tr>\n",
       "      <th>3</th>\n",
       "      <td>0.396306</td>\n",
       "      <td>0.052056</td>\n",
       "      <td>1.096403</td>\n",
       "      <td>0.273567</td>\n",
       "      <td>0.004568</td>\n",
       "      <td>0.083127</td>\n",
       "      <td>0.541993</td>\n",
       "      <td>20.865001</td>\n",
       "      <td>0.397162</td>\n",
       "      <td>rh1</td>\n",
       "      <td>...</td>\n",
       "      <td>[S0070156, S5426781]</td>\n",
       "      <td>W</td>\n",
       "      <td>4</td>\n",
       "      <td>2</td>\n",
       "      <td>2</td>\n",
       "      <td>2</td>\n",
       "      <td>[S0070156, S5426781]</td>\n",
       "      <td>&lt;dataflow_p1.task2561_pipeline.ReturnsPredicti...</td>\n",
       "      <td>3</td>\n",
       "      <td>/data/automl/experiments/basf/RH_1/result_3</td>\n",
       "    </tr>\n",
       "    <tr>\n",
       "      <th>4</th>\n",
       "      <td>0.220550</td>\n",
       "      <td>0.050731</td>\n",
       "      <td>0.610164</td>\n",
       "      <td>0.542102</td>\n",
       "      <td>0.001482</td>\n",
       "      <td>0.048448</td>\n",
       "      <td>2.033791</td>\n",
       "      <td>34.043340</td>\n",
       "      <td>0.607013</td>\n",
       "      <td>rh1</td>\n",
       "      <td>...</td>\n",
       "      <td>[S0070156, S5426781]</td>\n",
       "      <td>W</td>\n",
       "      <td>4</td>\n",
       "      <td>2</td>\n",
       "      <td>2</td>\n",
       "      <td>4</td>\n",
       "      <td>[S0070156, S5426781]</td>\n",
       "      <td>&lt;dataflow_p1.task2561_pipeline.ReturnsPredicti...</td>\n",
       "      <td>4</td>\n",
       "      <td>/data/automl/experiments/basf/RH_1/result_4</td>\n",
       "    </tr>\n",
       "  </tbody>\n",
       "</table>\n",
       "<p>5 rows × 22 columns</p>\n",
       "</div>"
      ],
      "text/plain": [
       "   perf_ann_sharpe  perf_ann_sharpe_se  ttest_tval  ttest_pval  moments_mean  \\\n",
       "0         0.437339            0.052468    1.209925    0.227028      0.005449   \n",
       "1         0.256548            0.050944    0.709755    0.478273      0.001960   \n",
       "2         0.241849            0.050853    0.669089    0.503828      0.001649   \n",
       "3         0.396306            0.052056    1.096403    0.273567      0.004568   \n",
       "4         0.220550            0.050731    0.610164    0.542102      0.001482   \n",
       "\n",
       "   moments_std  moments_skew  moments_kurtosis  global_adj_pval  tag  ...  \\\n",
       "0     0.089852      0.334719         18.073834         0.355231  rh1  ...   \n",
       "1     0.055093      1.451462         29.880921         0.557954  rh1  ...   \n",
       "2     0.049165      2.553386         28.624280         0.576147  rh1  ...   \n",
       "3     0.083127      0.541993         20.865001         0.397162  rh1  ...   \n",
       "4     0.048448      2.033791         34.043340         0.607013  rh1  ...   \n",
       "\n",
       "  DAG.sig/load_data.payload_codes DAG.sig/resample.rule  \\\n",
       "0            [S0070156, S5426781]                     W   \n",
       "1            [S0070156, S5426781]                     W   \n",
       "2            [S0070156, S5426781]                     W   \n",
       "3            [S0070156, S5426781]                     W   \n",
       "4            [S0070156, S5426781]                     W   \n",
       "\n",
       "  DAG.sig/add_lags.method_kwargs.periods  \\\n",
       "0                                      4   \n",
       "1                                      4   \n",
       "2                                      4   \n",
       "3                                      4   \n",
       "4                                      4   \n",
       "\n",
       "  DAG.sig/compute_smooth_moving_average.transformer_kwargs.tau  \\\n",
       "0                                                  2             \n",
       "1                                                  2             \n",
       "2                                                  2             \n",
       "3                                                  2             \n",
       "4                                                  2             \n",
       "\n",
       "  DAG.sig/compute_smooth_moving_average.transformer_kwargs.max_depth  \\\n",
       "0                                                  1                   \n",
       "1                                                  1                   \n",
       "2                                                  1                   \n",
       "3                                                  2                   \n",
       "4                                                  2                   \n",
       "\n",
       "  DAG.sig/zscore.transformer_kwargs.tau   DAG.model/ml.x_vars  \\\n",
       "0                                     2  [S0070156, S5426781]   \n",
       "1                                     4  [S0070156, S5426781]   \n",
       "2                                     8  [S0070156, S5426781]   \n",
       "3                                     2  [S0070156, S5426781]   \n",
       "4                                     4  [S0070156, S5426781]   \n",
       "\n",
       "                                    meta.dag_builder meta.id  \\\n",
       "0  <dataflow_p1.task2561_pipeline.ReturnsPredicti...       0   \n",
       "1  <dataflow_p1.task2561_pipeline.ReturnsPredicti...       1   \n",
       "2  <dataflow_p1.task2561_pipeline.ReturnsPredicti...       2   \n",
       "3  <dataflow_p1.task2561_pipeline.ReturnsPredicti...       3   \n",
       "4  <dataflow_p1.task2561_pipeline.ReturnsPredicti...       4   \n",
       "\n",
       "                    meta.experiment_result_dir  \n",
       "0  /data/automl/experiments/basf/RH_1/result_0  \n",
       "1  /data/automl/experiments/basf/RH_1/result_1  \n",
       "2  /data/automl/experiments/basf/RH_1/result_2  \n",
       "3  /data/automl/experiments/basf/RH_1/result_3  \n",
       "4  /data/automl/experiments/basf/RH_1/result_4  \n",
       "\n",
       "[5 rows x 22 columns]"
      ]
     },
     "execution_count": 20,
     "metadata": {},
     "output_type": "execute_result"
    }
   ],
   "source": [
    "results_df.head()"
   ]
  },
  {
   "cell_type": "code",
   "execution_count": 21,
   "metadata": {},
   "outputs": [
    {
     "data": {
      "image/png": "[encoded data removed]",
      "text/plain": [
       "<Figure size 720x1152 with 1 Axes>"
      ]
     },
     "metadata": {},
     "output_type": "display_data"
    }
   ],
   "source": [
    "plot.multipletests_plot(\n",
    "    results_df[\"global_adj_pval\"].dropna(),\n",
    "    threshold=eval_config[\"global_adj_pval_threshold\"],\n",
    ")"
   ]
  },
  {
   "cell_type": "markdown",
   "metadata": {},
   "source": [
    "## Family-wise adjustment"
   ]
  },
  {
   "cell_type": "code",
   "execution_count": 23,
   "metadata": {},
   "outputs": [],
   "source": [
    "results_df = amlnut.perform_family_adj(\n",
    "    results_df, **eval_config[\"perform_family_adj\"].to_dict()\n",
    ")"
   ]
  },
  {
   "cell_type": "code",
   "execution_count": 24,
   "metadata": {},
   "outputs": [
    {
     "data": {
      "text/plain": [
       "Index(['perf_ann_sharpe', 'perf_ann_sharpe_se', 'ttest_tval', 'ttest_pval',\n",
       "       'moments_mean', 'moments_std', 'moments_skew', 'moments_kurtosis',\n",
       "       'global_adj_pval', 'tag',\n",
       "       'DAG.rets/read_price_data.source_node_kwargs.payload_code',\n",
       "       'DAG.rets/resample.rule', 'DAG.sig/load_data.payload_codes',\n",
       "       'DAG.sig/resample.rule', 'DAG.sig/add_lags.method_kwargs.periods',\n",
       "       'DAG.sig/compute_smooth_moving_average.transformer_kwargs.tau',\n",
       "       'DAG.sig/compute_smooth_moving_average.transformer_kwargs.max_depth',\n",
       "       'DAG.sig/zscore.transformer_kwargs.tau', 'DAG.model/ml.x_vars',\n",
       "       'meta.dag_builder', 'meta.id', 'meta.experiment_result_dir',\n",
       "       'rh1_adj_pval', 'rh2_adj_pval', 'rh3_adj_pval', 'rh4_adj_pval',\n",
       "       'rh5_adj_pval', 'rh6_adj_pval', 'rh7_adj_pval', 'rh8_adj_pval',\n",
       "       'rh9_adj_pval', 'rh10_adj_pval', 'rh11_adj_pval', 'rh12_adj_pval',\n",
       "       'rh13_adj_pval', 'rh14_adj_pval', 'rh15_adj_pval'],\n",
       "      dtype='object')"
      ]
     },
     "execution_count": 24,
     "metadata": {},
     "output_type": "execute_result"
    }
   ],
   "source": [
    "results_df.columns"
   ]
  },
  {
   "cell_type": "code",
   "execution_count": 30,
   "metadata": {},
   "outputs": [
    {
     "data": {
      "text/html": [
       "<div>\n",
       "<style scoped>\n",
       "    .dataframe tbody tr th:only-of-type {\n",
       "        vertical-align: middle;\n",
       "    }\n",
       "\n",
       "    .dataframe tbody tr th {\n",
       "        vertical-align: top;\n",
       "    }\n",
       "\n",
       "    .dataframe thead th {\n",
       "        text-align: right;\n",
       "    }\n",
       "</style>\n",
       "<table border=\"1\" class=\"dataframe\">\n",
       "  <thead>\n",
       "    <tr style=\"text-align: right;\">\n",
       "      <th></th>\n",
       "      <th>perf_ann_sharpe</th>\n",
       "      <th>perf_ann_sharpe_se</th>\n",
       "      <th>ttest_tval</th>\n",
       "      <th>ttest_pval</th>\n",
       "      <th>moments_mean</th>\n",
       "      <th>moments_std</th>\n",
       "      <th>moments_skew</th>\n",
       "      <th>moments_kurtosis</th>\n",
       "      <th>global_adj_pval</th>\n",
       "      <th>tag</th>\n",
       "      <th>...</th>\n",
       "      <th>rh6_adj_pval</th>\n",
       "      <th>rh7_adj_pval</th>\n",
       "      <th>rh8_adj_pval</th>\n",
       "      <th>rh9_adj_pval</th>\n",
       "      <th>rh10_adj_pval</th>\n",
       "      <th>rh11_adj_pval</th>\n",
       "      <th>rh12_adj_pval</th>\n",
       "      <th>rh13_adj_pval</th>\n",
       "      <th>rh14_adj_pval</th>\n",
       "      <th>rh15_adj_pval</th>\n",
       "    </tr>\n",
       "  </thead>\n",
       "  <tbody>\n",
       "    <tr>\n",
       "      <th>0</th>\n",
       "      <td>0.437339</td>\n",
       "      <td>0.052468</td>\n",
       "      <td>1.209925</td>\n",
       "      <td>0.227028</td>\n",
       "      <td>0.005449</td>\n",
       "      <td>0.089852</td>\n",
       "      <td>0.334719</td>\n",
       "      <td>18.073834</td>\n",
       "      <td>0.355231</td>\n",
       "      <td>rh1</td>\n",
       "      <td>...</td>\n",
       "      <td>NaN</td>\n",
       "      <td>NaN</td>\n",
       "      <td>NaN</td>\n",
       "      <td>NaN</td>\n",
       "      <td>NaN</td>\n",
       "      <td>NaN</td>\n",
       "      <td>NaN</td>\n",
       "      <td>NaN</td>\n",
       "      <td>NaN</td>\n",
       "      <td>NaN</td>\n",
       "    </tr>\n",
       "    <tr>\n",
       "      <th>1</th>\n",
       "      <td>0.256548</td>\n",
       "      <td>0.050944</td>\n",
       "      <td>0.709755</td>\n",
       "      <td>0.478273</td>\n",
       "      <td>0.001960</td>\n",
       "      <td>0.055093</td>\n",
       "      <td>1.451462</td>\n",
       "      <td>29.880921</td>\n",
       "      <td>0.557954</td>\n",
       "      <td>rh1</td>\n",
       "      <td>...</td>\n",
       "      <td>NaN</td>\n",
       "      <td>NaN</td>\n",
       "      <td>NaN</td>\n",
       "      <td>NaN</td>\n",
       "      <td>NaN</td>\n",
       "      <td>NaN</td>\n",
       "      <td>NaN</td>\n",
       "      <td>NaN</td>\n",
       "      <td>NaN</td>\n",
       "      <td>NaN</td>\n",
       "    </tr>\n",
       "    <tr>\n",
       "      <th>2</th>\n",
       "      <td>0.241849</td>\n",
       "      <td>0.050853</td>\n",
       "      <td>0.669089</td>\n",
       "      <td>0.503828</td>\n",
       "      <td>0.001649</td>\n",
       "      <td>0.049165</td>\n",
       "      <td>2.553386</td>\n",
       "      <td>28.624280</td>\n",
       "      <td>0.576147</td>\n",
       "      <td>rh1</td>\n",
       "      <td>...</td>\n",
       "      <td>NaN</td>\n",
       "      <td>NaN</td>\n",
       "      <td>NaN</td>\n",
       "      <td>NaN</td>\n",
       "      <td>NaN</td>\n",
       "      <td>NaN</td>\n",
       "      <td>NaN</td>\n",
       "      <td>NaN</td>\n",
       "      <td>NaN</td>\n",
       "      <td>NaN</td>\n",
       "    </tr>\n",
       "  </tbody>\n",
       "</table>\n",
       "<p>3 rows × 37 columns</p>\n",
       "</div>"
      ],
      "text/plain": [
       "   perf_ann_sharpe  perf_ann_sharpe_se  ttest_tval  ttest_pval  moments_mean  \\\n",
       "0         0.437339            0.052468    1.209925    0.227028      0.005449   \n",
       "1         0.256548            0.050944    0.709755    0.478273      0.001960   \n",
       "2         0.241849            0.050853    0.669089    0.503828      0.001649   \n",
       "\n",
       "   moments_std  moments_skew  moments_kurtosis  global_adj_pval  tag  ...  \\\n",
       "0     0.089852      0.334719         18.073834         0.355231  rh1  ...   \n",
       "1     0.055093      1.451462         29.880921         0.557954  rh1  ...   \n",
       "2     0.049165      2.553386         28.624280         0.576147  rh1  ...   \n",
       "\n",
       "  rh6_adj_pval rh7_adj_pval rh8_adj_pval rh9_adj_pval rh10_adj_pval  \\\n",
       "0          NaN          NaN          NaN          NaN           NaN   \n",
       "1          NaN          NaN          NaN          NaN           NaN   \n",
       "2          NaN          NaN          NaN          NaN           NaN   \n",
       "\n",
       "  rh11_adj_pval rh12_adj_pval rh13_adj_pval rh14_adj_pval rh15_adj_pval  \n",
       "0           NaN           NaN           NaN           NaN           NaN  \n",
       "1           NaN           NaN           NaN           NaN           NaN  \n",
       "2           NaN           NaN           NaN           NaN           NaN  \n",
       "\n",
       "[3 rows x 37 columns]"
      ]
     },
     "execution_count": 30,
     "metadata": {},
     "output_type": "execute_result"
    }
   ],
   "source": [
    "results_df.head(3)"
   ]
  },
  {
   "cell_type": "code",
   "execution_count": 42,
   "metadata": {},
   "outputs": [],
   "source": [
    "#For some reasons there is no _adj_pval for 'butadiene'. Might need tfixing\n",
    "adj_cols = []\n",
    "for tag in eval_config[\"tags\"][:-1]:\n",
    "    adj_cols.append(tag + \"_adj_pval\")"
   ]
  },
  {
   "cell_type": "code",
   "execution_count": 83,
   "metadata": {},
   "outputs": [
    {
     "data": {
      "image/png": "[encoded data removed]",
      "text/plain": [
       "<Figure size 2160x3456 with 15 Axes>"
      ]
     },
     "metadata": {},
     "output_type": "display_data"
    }
   ],
   "source": [
    "plot.multipletests_plot(\n",
    "    results_df[adj_cols],\n",
    "    threshold=eval_config[\"global_adj_pval_threshold\"],\n",
    "    num_cols=3\n",
    ")"
   ]
  },
  {
   "cell_type": "markdown",
   "metadata": {},
   "source": [
    "## Plot selected PnL"
   ]
  },
  {
   "cell_type": "code",
   "execution_count": 23,
   "metadata": {},
   "outputs": [
    {
     "name": "stderr",
     "output_type": "stream",
     "text": [
      "No data remaining after filtering.\n",
      "No data remaining after filtering.\n",
      "No data remaining after filtering.\n",
      "No data remaining after filtering.\n",
      "No data remaining after filtering.\n"
     ]
    }
   ],
   "source": [
    "selected = amlnut.perform_family_selection(\n",
    "    results_df, pnls, **eval_config[\"perform_family_selection\"].to_dict()\n",
    ")"
   ]
  },
  {
   "cell_type": "code",
   "execution_count": 24,
   "metadata": {},
   "outputs": [
    {
     "data": {
      "text/plain": [
       "dict_keys(['rh2', 'rh3', 'rh4', 'rh5', 'rh6', 'rh7', 'rh8', 'rh11', 'rh13', 'rh15'])"
      ]
     },
     "execution_count": 24,
     "metadata": {},
     "output_type": "execute_result"
    }
   ],
   "source": [
    "selected.keys()"
   ]
  },
  {
   "cell_type": "code",
   "execution_count": 25,
   "metadata": {},
   "outputs": [],
   "source": [
    "# TODO(2752): Make these fancy.\n",
    "#\n",
    "# for tag in selected.keys():\n",
    "#    selected[tag].cumsum().plot()"
   ]
  }
 ],
 "metadata": {
  "jupytext": {
   "text_representation": {
    "extension": ".py",
    "format_name": "percent",
    "format_version": "1.3",
    "jupytext_version": "1.4.2"
   }
  },
  "kernelspec": {
   "display_name": "Python [conda env:.conda-p1_develop] *",
   "language": "python",
   "name": "conda-env-.conda-p1_develop-py"
  },
  "language_info": {
   "codemirror_mode": {
    "name": "ipython",
    "version": 3
   },
   "file_extension": ".py",
   "mimetype": "text/x-python",
   "name": "python",
   "nbconvert_exporter": "python",
   "pygments_lexer": "ipython3",
   "version": "3.7.6"
  }
 },
 "nbformat": 4,
 "nbformat_minor": 4
}
