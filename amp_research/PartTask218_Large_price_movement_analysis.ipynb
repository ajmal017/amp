{
 "cells": [
  {
   "cell_type": "markdown",
   "metadata": {},
   "source": [
    "# Imports"
   ]
  },
  {
   "cell_type": "code",
   "execution_count": 1,
   "metadata": {
    "ExecuteTime": {
     "end_time": "2019-10-14T23:05:03.951696Z",
     "start_time": "2019-10-14T23:05:03.494948Z"
    }
   },
   "outputs": [],
   "source": [
    "%load_ext autoreload\n",
    "%autoreload 2\n",
    "\n",
    "import logging \n",
    "import os\n",
    "\n",
    "import numpy as np\n",
    "import pandas as pd\n",
    "from matplotlib import pyplot as plt"
   ]
  },
  {
   "cell_type": "code",
   "execution_count": 2,
   "metadata": {
    "ExecuteTime": {
     "end_time": "2019-10-14T23:05:04.469643Z",
     "start_time": "2019-10-14T23:05:03.953461Z"
    }
   },
   "outputs": [
    {
     "name": "stderr",
     "output_type": "stream",
     "text": [
      "/wd/julia/.conda/envs/p1_develop/lib/python3.7/site-packages/tqdm/autonotebook.py:17: TqdmExperimentalWarning: Using `tqdm.autonotebook.tqdm` in notebook mode. Use `tqdm.tqdm` instead to force console mode (e.g. in jupyter console)\n",
      "  \" (e.g. in jupyter console)\", TqdmExperimentalWarning)\n"
     ]
    }
   ],
   "source": [
    "from tqdm.autonotebook import tqdm\n",
    "\n",
    "import core.signal_processing as sigp\n",
    "import helpers.dbg as dbg\n",
    "import helpers.env as env\n",
    "import helpers.printing as pri\n",
    "import helpers.s3 as hs3\n",
    "import vendors.kibot.utils as kut\n",
    "import vendors.particle_one.price_movement_analysis as pma\n",
    "import vendors.cme.read as cmer"
   ]
  },
  {
   "cell_type": "code",
   "execution_count": 3,
   "metadata": {
    "ExecuteTime": {
     "end_time": "2019-10-14T23:05:04.550622Z",
     "start_time": "2019-10-14T23:05:04.471937Z"
    }
   },
   "outputs": [
    {
     "name": "stdout",
     "output_type": "stream",
     "text": [
      "# Packages\n",
      "         python: 3.7.3\n",
      "         joblib: 0.14.0\n",
      "          numpy: 1.17.2\n",
      "         pandas: 0.25.1\n",
      "        pyarrow: 0.15.0\n",
      "          scipy: 1.3.1\n",
      "        seaborn: 0.9.0\n",
      "        sklearn: 0.21.3\n",
      "    statsmodels: 0.10.1\n",
      "# Last commits:\n",
      "  *   f61a82a Julia    Merge remote-tracking branch 'origin/master' into PartTask218_PRICE_Large_price_movement_analysis (   9 hours ago) Mon Oct 14 13:36:44 2019  (HEAD -> PartTask218_PRICE_Large_price_movement_analysis)\n",
      "  |\\  \n",
      "  | * c171df8 saggese  Refactor pandoc toolchain: no functional change                   (  27 hours ago) Sun Oct 13 19:51:29 2019  (origin/master, origin/HEAD)\n",
      "  | * f526793 saggese  Small improvements to the doc                                     (  27 hours ago) Sun Oct 13 19:36:56 2019           \n",
      "\u001b[0mWARNING: Running in Jupyter\n"
     ]
    }
   ],
   "source": [
    "print(env.get_system_signature())\n",
    "\n",
    "pri.config_notebook()\n",
    "\n",
    "dbg.init_logger(verb=logging.INFO)\n",
    "\n",
    "_LOG = logging.getLogger(__name__)"
   ]
  },
  {
   "cell_type": "markdown",
   "metadata": {},
   "source": [
    "# Load CME metadata"
   ]
  },
  {
   "cell_type": "code",
   "execution_count": 4,
   "metadata": {
    "ExecuteTime": {
     "end_time": "2019-10-14T23:05:04.958220Z",
     "start_time": "2019-10-14T23:05:04.552569Z"
    }
   },
   "outputs": [
    {
     "name": "stdout",
     "output_type": "stream",
     "text": [
      "Reading s3://default00-bucket/cme/product_slate_export_with_contract_specs_20190905.csv\n"
     ]
    }
   ],
   "source": [
    "product_list = cmer.read_product_specs()"
   ]
  },
  {
   "cell_type": "code",
   "execution_count": 5,
   "metadata": {
    "ExecuteTime": {
     "end_time": "2019-10-14T23:05:05.019081Z",
     "start_time": "2019-10-14T23:05:04.959699Z"
    }
   },
   "outputs": [
    {
     "data": {
      "text/html": [
       "<div>\n",
       "<style scoped>\n",
       "    .dataframe tbody tr th:only-of-type {\n",
       "        vertical-align: middle;\n",
       "    }\n",
       "\n",
       "    .dataframe tbody tr th {\n",
       "        vertical-align: top;\n",
       "    }\n",
       "\n",
       "    .dataframe thead th {\n",
       "        text-align: right;\n",
       "    }\n",
       "</style>\n",
       "<table border=\"1\" class=\"dataframe\">\n",
       "  <thead>\n",
       "    <tr style=\"text-align: right;\">\n",
       "      <th></th>\n",
       "      <th>Clearing</th>\n",
       "      <th>Globex</th>\n",
       "      <th>Floor</th>\n",
       "      <th>Clearport</th>\n",
       "      <th>Product Name</th>\n",
       "      <th>Product Group</th>\n",
       "      <th>Sub Group</th>\n",
       "      <th>Category</th>\n",
       "      <th>Sub Category</th>\n",
       "      <th>Cleared As</th>\n",
       "      <th>Exchange</th>\n",
       "      <th>Volume</th>\n",
       "      <th>Open Interest</th>\n",
       "      <th>product_link</th>\n",
       "      <th>Contract Unit</th>\n",
       "      <th>Price Quotation</th>\n",
       "      <th>Trading Hours</th>\n",
       "      <th>Minimum Price Fluctuation</th>\n",
       "      <th>Product Code</th>\n",
       "      <th>Listed Contracts</th>\n",
       "      <th>Settlement Method</th>\n",
       "      <th>Termination Of Trading</th>\n",
       "      <th>Settlement Procedures</th>\n",
       "      <th>Position Limits</th>\n",
       "      <th>Exchange Rulebook</th>\n",
       "      <th>Block Minimum</th>\n",
       "      <th>Price Limit Or Circuit</th>\n",
       "      <th>All Or None Minimum</th>\n",
       "      <th>Vendor Codes</th>\n",
       "      <th>Settlement Procedures Link</th>\n",
       "      <th>Position Limits Link</th>\n",
       "      <th>Exchange Rulebook Link</th>\n",
       "      <th>Block Minimum Link</th>\n",
       "      <th>Price Limit Or Circuit Link</th>\n",
       "      <th>All Or None Minimum Link</th>\n",
       "      <th>Vendor Codes Link</th>\n",
       "      <th>Delivery Procedure</th>\n",
       "      <th>Last Delivery Date</th>\n",
       "      <th>Grade And Quality</th>\n",
       "      <th>Trade At Marker Or Trade At Settlement Rules</th>\n",
       "      <th>Delivery Period</th>\n",
       "      <th>Minimum Price Fluctuation_0</th>\n",
       "      <th>Grade And Quality Link</th>\n",
       "      <th>Floating Price</th>\n",
       "      <th>Days Or Hours</th>\n",
       "      <th>Trading Hours_0</th>\n",
       "      <th>Delivery Period Link</th>\n",
       "      <th>Delivery Procedure Link</th>\n",
       "      <th>Trade At Marker Or Trade At Settlement Rules Link</th>\n",
       "      <th>Minimum Price Fluctuation Link</th>\n",
       "      <th>Listed Contracts Link</th>\n",
       "      <th>Termination Of Trading_0</th>\n",
       "      <th>Termination Of Trading Link</th>\n",
       "      <th>Reportable Positions</th>\n",
       "      <th>Termination Of Trading_1</th>\n",
       "      <th>CME Globex:</th>\n",
       "      <th>Reportable Positions Link</th>\n",
       "    </tr>\n",
       "  </thead>\n",
       "  <tbody>\n",
       "    <tr>\n",
       "      <td>0</td>\n",
       "      <td>ED</td>\n",
       "      <td>GE</td>\n",
       "      <td>NaN</td>\n",
       "      <td>ED</td>\n",
       "      <td>Eurodollar Futures</td>\n",
       "      <td>Interest Rate</td>\n",
       "      <td>Stirs</td>\n",
       "      <td>NaN</td>\n",
       "      <td>NaN</td>\n",
       "      <td>Futures</td>\n",
       "      <td>CME</td>\n",
       "      <td>3104281</td>\n",
       "      <td>13213901</td>\n",
       "      <td>http://www.cmegroup.com/trading/interest-rates...</td>\n",
       "      <td>$2,500 x Contract IMM Index</td>\n",
       "      <td>Contract IMM Index = 100 minus R R = three-mon...</td>\n",
       "      <td>SUN - FRI: 5:00 p.m. - 4:00 p.m. CT</td>\n",
       "      <td>Nearest expiring contract month: One quarter o...</td>\n",
       "      <td>CME Globex: GECME ClearPort: EDClearing: ED</td>\n",
       "      <td>Nearest 40 months (i.e., 10 years) in the Marc...</td>\n",
       "      <td>Financially Settled</td>\n",
       "      <td>Second London bank business day before 3rd Wed...</td>\n",
       "      <td>Eurodollar Future Settlement Procedures</td>\n",
       "      <td>CME Position Limits</td>\n",
       "      <td>CME 452</td>\n",
       "      <td>Block Minimum Thresholds</td>\n",
       "      <td>Price Limits</td>\n",
       "      <td>All or None Minimums</td>\n",
       "      <td>Quote Vendor Symbols Listing</td>\n",
       "      <td>http://www.cmegroup.com/confluence/display/EPI...</td>\n",
       "      <td>http://www.cmegroup.com/rulebook/files/positio...</td>\n",
       "      <td>http://www.cmegroup.com/rulebook/CME/V/450/452...</td>\n",
       "      <td>http://www.cmegroup.com/clearing/trading-pract...</td>\n",
       "      <td>http://www.cmegroup.com/rulebook/files/special...</td>\n",
       "      <td>http://www.cmegroup.com/clearing/trading-pract...</td>\n",
       "      <td>http://www.cmegroup.com/tools-information/vend...</td>\n",
       "      <td>NaN</td>\n",
       "      <td>NaN</td>\n",
       "      <td>NaN</td>\n",
       "      <td>NaN</td>\n",
       "      <td>NaN</td>\n",
       "      <td>NaN</td>\n",
       "      <td>NaN</td>\n",
       "      <td>NaN</td>\n",
       "      <td>NaN</td>\n",
       "      <td>NaN</td>\n",
       "      <td>NaN</td>\n",
       "      <td>NaN</td>\n",
       "      <td>NaN</td>\n",
       "      <td>NaN</td>\n",
       "      <td>NaN</td>\n",
       "      <td>NaN</td>\n",
       "      <td>NaN</td>\n",
       "      <td>NaN</td>\n",
       "      <td>NaN</td>\n",
       "      <td>NaN</td>\n",
       "      <td>NaN</td>\n",
       "    </tr>\n",
       "    <tr>\n",
       "      <td>1</td>\n",
       "      <td>25</td>\n",
       "      <td>ZF</td>\n",
       "      <td>NaN</td>\n",
       "      <td>25</td>\n",
       "      <td>5-Year T-Note Futures</td>\n",
       "      <td>Interest Rate</td>\n",
       "      <td>US Treasury</td>\n",
       "      <td>NaN</td>\n",
       "      <td>NaN</td>\n",
       "      <td>Futures</td>\n",
       "      <td>CBOT</td>\n",
       "      <td>1166719</td>\n",
       "      <td>4162661</td>\n",
       "      <td>http://www.cmegroup.com/trading/interest-rates...</td>\n",
       "      <td>Face value at maturity of $100,000</td>\n",
       "      <td>Points and fractions of points with par on the...</td>\n",
       "      <td>SUN - FRI: 5:00 p.m. - 4:00 p.m.</td>\n",
       "      <td>One-quarter of one thirty-second (1/32) of one...</td>\n",
       "      <td>CME Globex: ZFCME ClearPort: 25Clearing: 25</td>\n",
       "      <td>The first three consecutive contracts in the M...</td>\n",
       "      <td>Deliverable</td>\n",
       "      <td>Last business day of the calendar month. Tradi...</td>\n",
       "      <td>Treasury Settlement Procedures</td>\n",
       "      <td>CBOT Position Limits</td>\n",
       "      <td>CBOT 20</td>\n",
       "      <td>Block Minimum Thresholds</td>\n",
       "      <td>Price Limits</td>\n",
       "      <td>All or None Minimums</td>\n",
       "      <td>Quote Vendor Symbols Listing</td>\n",
       "      <td>http://www.cmegroup.com/confluence/display/EPI...</td>\n",
       "      <td>http://www.cmegroup.com/rulebook/files/positio...</td>\n",
       "      <td>https://www.cmegroup.com/rulebook/CBOT/II/20.pdf</td>\n",
       "      <td>http://www.cmegroup.com/clearing/trading-pract...</td>\n",
       "      <td>http://www.cmegroup.com/rulebook/files/special...</td>\n",
       "      <td>/clearing/trading-practices/all-or-none.html</td>\n",
       "      <td>http://www.cmegroup.com/tools-information/vend...</td>\n",
       "      <td>Federal Reserve book-entry wire-transfer system.</td>\n",
       "      <td>Third business day following the last trading ...</td>\n",
       "      <td>U.S. Treasury notes with an original term to m...</td>\n",
       "      <td>NaN</td>\n",
       "      <td>NaN</td>\n",
       "      <td>NaN</td>\n",
       "      <td>NaN</td>\n",
       "      <td>NaN</td>\n",
       "      <td>NaN</td>\n",
       "      <td>NaN</td>\n",
       "      <td>NaN</td>\n",
       "      <td>NaN</td>\n",
       "      <td>NaN</td>\n",
       "      <td>NaN</td>\n",
       "      <td>NaN</td>\n",
       "      <td>NaN</td>\n",
       "      <td>NaN</td>\n",
       "      <td>NaN</td>\n",
       "      <td>NaN</td>\n",
       "      <td>NaN</td>\n",
       "      <td>NaN</td>\n",
       "    </tr>\n",
       "    <tr>\n",
       "      <td>2</td>\n",
       "      <td>21</td>\n",
       "      <td>ZN</td>\n",
       "      <td>NaN</td>\n",
       "      <td>21</td>\n",
       "      <td>10-Year T-Note Futures</td>\n",
       "      <td>Interest Rate</td>\n",
       "      <td>US Treasury</td>\n",
       "      <td>NaN</td>\n",
       "      <td>NaN</td>\n",
       "      <td>Futures</td>\n",
       "      <td>CBOT</td>\n",
       "      <td>2181982</td>\n",
       "      <td>3656744</td>\n",
       "      <td>http://www.cmegroup.com/trading/interest-rates...</td>\n",
       "      <td>Face value at maturity of $100,000</td>\n",
       "      <td>Points and fractions of points with par on the...</td>\n",
       "      <td>Sunday - Friday 6:00 p.m. - 5:00 p.m. (5:00 p....</td>\n",
       "      <td>Outrights: One-half of one thirty-second (1/32...</td>\n",
       "      <td>CME Globex: ZNCME ClearPort: 21Clearing: 21</td>\n",
       "      <td>Quarterly contracts (Mar, Jun, Sep, Dec) liste...</td>\n",
       "      <td>Deliverable</td>\n",
       "      <td>Trading terminates on the seventh business day...</td>\n",
       "      <td>Treasury Settlement Procedures</td>\n",
       "      <td>CBOT Position Limits</td>\n",
       "      <td>CBOT Chapter 19</td>\n",
       "      <td>Block Minimum Thresholds</td>\n",
       "      <td>Price Limits</td>\n",
       "      <td>All or None Minimums</td>\n",
       "      <td>Quote Vendor Symbols Listing</td>\n",
       "      <td>http://www.cmegroup.com/confluence/display/EPI...</td>\n",
       "      <td>http://www.cmegroup.com/rulebook/files/positio...</td>\n",
       "      <td>https://www.cmegroup.com/rulebook/CBOT/II/19.pdf</td>\n",
       "      <td>http://www.cmegroup.com/clearing/trading-pract...</td>\n",
       "      <td>http://www.cmegroup.com/rulebook/files/special...</td>\n",
       "      <td>http://www.cmegroup.com/clearing/trading-pract...</td>\n",
       "      <td>http://www.cmegroup.com/tools-information/vend...</td>\n",
       "      <td>Federal Reserve book-entry wire-transfer system.</td>\n",
       "      <td>Last business day of the delivery month.</td>\n",
       "      <td>U.S. Treasury notes with a remaining term to m...</td>\n",
       "      <td>NaN</td>\n",
       "      <td>NaN</td>\n",
       "      <td>NaN</td>\n",
       "      <td>NaN</td>\n",
       "      <td>NaN</td>\n",
       "      <td>NaN</td>\n",
       "      <td>NaN</td>\n",
       "      <td>NaN</td>\n",
       "      <td>NaN</td>\n",
       "      <td>NaN</td>\n",
       "      <td>NaN</td>\n",
       "      <td>NaN</td>\n",
       "      <td>NaN</td>\n",
       "      <td>NaN</td>\n",
       "      <td>NaN</td>\n",
       "      <td>NaN</td>\n",
       "      <td>NaN</td>\n",
       "      <td>NaN</td>\n",
       "    </tr>\n",
       "    <tr>\n",
       "      <td>3</td>\n",
       "      <td>26</td>\n",
       "      <td>ZT</td>\n",
       "      <td>NaN</td>\n",
       "      <td>26</td>\n",
       "      <td>2-Year T-Note Futures</td>\n",
       "      <td>Interest Rate</td>\n",
       "      <td>US Treasury</td>\n",
       "      <td>NaN</td>\n",
       "      <td>NaN</td>\n",
       "      <td>Futures</td>\n",
       "      <td>CBOT</td>\n",
       "      <td>666626</td>\n",
       "      <td>3510507</td>\n",
       "      <td>http://www.cmegroup.com/trading/interest-rates...</td>\n",
       "      <td>Face value at maturity of $200,000</td>\n",
       "      <td>Points and fractions of points with par on the...</td>\n",
       "      <td>SUN - FRI: 5:00 p.m. - 4:00 p.m.</td>\n",
       "      <td>One-eighth of one thirty-second (1/32) of one ...</td>\n",
       "      <td>CME Globex: ZTCME ClearPort: 26Clearing: 26</td>\n",
       "      <td>The first three consecutive contracts in the M...</td>\n",
       "      <td>Deliverable</td>\n",
       "      <td>Last business day of the calendar month. Tradi...</td>\n",
       "      <td>Treasury Settlement Procedures</td>\n",
       "      <td>CBOT Position Limits</td>\n",
       "      <td>CBOT 21</td>\n",
       "      <td>Block Minimum Thresholds</td>\n",
       "      <td>Price Limits</td>\n",
       "      <td>All or None Minimums</td>\n",
       "      <td>Quote Vendor Symbols Listing</td>\n",
       "      <td>http://www.cmegroup.com/confluence/display/EPI...</td>\n",
       "      <td>http://www.cmegroup.com/rulebook/files/positio...</td>\n",
       "      <td>https://www.cmegroup.com/rulebook/CBOT/II/21.pdf</td>\n",
       "      <td>http://www.cmegroup.com/clearing/trading-pract...</td>\n",
       "      <td>http://www.cmegroup.com/rulebook/files/special...</td>\n",
       "      <td>/clearing/trading-practices/all-or-none.html</td>\n",
       "      <td>http://www.cmegroup.com/tools-information/vend...</td>\n",
       "      <td>Federal Reserve book-entry wire-transfer system.</td>\n",
       "      <td>Third business day following the last trading ...</td>\n",
       "      <td>U.S. Treasury notes with an original term to m...</td>\n",
       "      <td>NaN</td>\n",
       "      <td>NaN</td>\n",
       "      <td>NaN</td>\n",
       "      <td>NaN</td>\n",
       "      <td>NaN</td>\n",
       "      <td>NaN</td>\n",
       "      <td>NaN</td>\n",
       "      <td>NaN</td>\n",
       "      <td>NaN</td>\n",
       "      <td>NaN</td>\n",
       "      <td>NaN</td>\n",
       "      <td>NaN</td>\n",
       "      <td>NaN</td>\n",
       "      <td>NaN</td>\n",
       "      <td>NaN</td>\n",
       "      <td>NaN</td>\n",
       "      <td>NaN</td>\n",
       "      <td>NaN</td>\n",
       "    </tr>\n",
       "    <tr>\n",
       "      <td>4</td>\n",
       "      <td>ES</td>\n",
       "      <td>ES</td>\n",
       "      <td>NaN</td>\n",
       "      <td>ES</td>\n",
       "      <td>E-mini S&amp;P 500 Futures</td>\n",
       "      <td>Equities</td>\n",
       "      <td>US Index</td>\n",
       "      <td>NaN</td>\n",
       "      <td>NaN</td>\n",
       "      <td>Futures</td>\n",
       "      <td>CME</td>\n",
       "      <td>2025324</td>\n",
       "      <td>2619124</td>\n",
       "      <td>http://www.cmegroup.com/trading/equity-index/u...</td>\n",
       "      <td>$50 x S&amp;P 500 Index</td>\n",
       "      <td>NaN</td>\n",
       "      <td>CME Globex: Sunday - Friday 6:00 p.m. - 5:00 p...</td>\n",
       "      <td>Outright: 0.25 index points = $12.50 Calendar ...</td>\n",
       "      <td>CME Globex: ESCME ClearPort: ESClearing: ESBTI...</td>\n",
       "      <td>Quarterly contracts (Mar, Jun, Sep, Dec) liste...</td>\n",
       "      <td>Financially Settled</td>\n",
       "      <td>Trading terminates at 9:30 a.m. ET on the 3rd ...</td>\n",
       "      <td>Settlement Procedures</td>\n",
       "      <td>CME Position Limits</td>\n",
       "      <td>CME 358</td>\n",
       "      <td>NaN</td>\n",
       "      <td>Price Limits</td>\n",
       "      <td>NaN</td>\n",
       "      <td>Quote Vendor Symbols Listing</td>\n",
       "      <td>http://www.cmegroup.com/confluence/display/EPI...</td>\n",
       "      <td>http://www.cmegroup.com/rulebook/files/positio...</td>\n",
       "      <td>http://www.cmegroup.com/rulebook/CME/IV/350/35...</td>\n",
       "      <td>NaN</td>\n",
       "      <td>https://www.cmegroup.com/trading/price-limits....</td>\n",
       "      <td>NaN</td>\n",
       "      <td>http://www.cmegroup.com/tools-information/vend...</td>\n",
       "      <td>NaN</td>\n",
       "      <td>NaN</td>\n",
       "      <td>NaN</td>\n",
       "      <td>NaN</td>\n",
       "      <td>NaN</td>\n",
       "      <td>NaN</td>\n",
       "      <td>NaN</td>\n",
       "      <td>NaN</td>\n",
       "      <td>NaN</td>\n",
       "      <td>NaN</td>\n",
       "      <td>NaN</td>\n",
       "      <td>NaN</td>\n",
       "      <td>NaN</td>\n",
       "      <td>NaN</td>\n",
       "      <td>NaN</td>\n",
       "      <td>NaN</td>\n",
       "      <td>NaN</td>\n",
       "      <td>NaN</td>\n",
       "      <td>NaN</td>\n",
       "      <td>NaN</td>\n",
       "      <td>NaN</td>\n",
       "    </tr>\n",
       "  </tbody>\n",
       "</table>\n",
       "</div>"
      ],
      "text/plain": [
       "  Clearing Globex Floor Clearport            Product Name  Product Group    Sub Group Category Sub Category Cleared As Exchange   Volume  Open Interest                                       product_link                       Contract Unit                                    Price Quotation                                      Trading Hours                          Minimum Price Fluctuation                                       Product Code                                   Listed Contracts    Settlement Method                             Termination Of Trading                    Settlement Procedures       Position Limits Exchange Rulebook             Block Minimum Price Limit Or Circuit   All Or None Minimum                  Vendor Codes                         Settlement Procedures Link                               Position Limits Link                             Exchange Rulebook Link                                 Block Minimum Link  \\\n",
       "0       ED     GE   NaN        ED      Eurodollar Futures  Interest Rate        Stirs      NaN          NaN    Futures      CME  3104281       13213901  http://www.cmegroup.com/trading/interest-rates...         $2,500 x Contract IMM Index  Contract IMM Index = 100 minus R R = three-mon...                SUN - FRI: 5:00 p.m. - 4:00 p.m. CT  Nearest expiring contract month: One quarter o...        CME Globex: GECME ClearPort: EDClearing: ED  Nearest 40 months (i.e., 10 years) in the Marc...  Financially Settled  Second London bank business day before 3rd Wed...  Eurodollar Future Settlement Procedures   CME Position Limits           CME 452  Block Minimum Thresholds           Price Limits  All or None Minimums  Quote Vendor Symbols Listing  http://www.cmegroup.com/confluence/display/EPI...  http://www.cmegroup.com/rulebook/files/positio...  http://www.cmegroup.com/rulebook/CME/V/450/452...  http://www.cmegroup.com/clearing/trading-pract...   \n",
       "1       25     ZF   NaN        25   5-Year T-Note Futures  Interest Rate  US Treasury      NaN          NaN    Futures     CBOT  1166719        4162661  http://www.cmegroup.com/trading/interest-rates...  Face value at maturity of $100,000  Points and fractions of points with par on the...                   SUN - FRI: 5:00 p.m. - 4:00 p.m.  One-quarter of one thirty-second (1/32) of one...        CME Globex: ZFCME ClearPort: 25Clearing: 25  The first three consecutive contracts in the M...          Deliverable  Last business day of the calendar month. Tradi...           Treasury Settlement Procedures  CBOT Position Limits           CBOT 20  Block Minimum Thresholds           Price Limits  All or None Minimums  Quote Vendor Symbols Listing  http://www.cmegroup.com/confluence/display/EPI...  http://www.cmegroup.com/rulebook/files/positio...   https://www.cmegroup.com/rulebook/CBOT/II/20.pdf  http://www.cmegroup.com/clearing/trading-pract...   \n",
       "2       21     ZN   NaN        21  10-Year T-Note Futures  Interest Rate  US Treasury      NaN          NaN    Futures     CBOT  2181982        3656744  http://www.cmegroup.com/trading/interest-rates...  Face value at maturity of $100,000  Points and fractions of points with par on the...  Sunday - Friday 6:00 p.m. - 5:00 p.m. (5:00 p....  Outrights: One-half of one thirty-second (1/32...        CME Globex: ZNCME ClearPort: 21Clearing: 21  Quarterly contracts (Mar, Jun, Sep, Dec) liste...          Deliverable  Trading terminates on the seventh business day...           Treasury Settlement Procedures  CBOT Position Limits   CBOT Chapter 19  Block Minimum Thresholds           Price Limits  All or None Minimums  Quote Vendor Symbols Listing  http://www.cmegroup.com/confluence/display/EPI...  http://www.cmegroup.com/rulebook/files/positio...   https://www.cmegroup.com/rulebook/CBOT/II/19.pdf  http://www.cmegroup.com/clearing/trading-pract...   \n",
       "3       26     ZT   NaN        26   2-Year T-Note Futures  Interest Rate  US Treasury      NaN          NaN    Futures     CBOT   666626        3510507  http://www.cmegroup.com/trading/interest-rates...  Face value at maturity of $200,000  Points and fractions of points with par on the...                   SUN - FRI: 5:00 p.m. - 4:00 p.m.  One-eighth of one thirty-second (1/32) of one ...        CME Globex: ZTCME ClearPort: 26Clearing: 26  The first three consecutive contracts in the M...          Deliverable  Last business day of the calendar month. Tradi...           Treasury Settlement Procedures  CBOT Position Limits           CBOT 21  Block Minimum Thresholds           Price Limits  All or None Minimums  Quote Vendor Symbols Listing  http://www.cmegroup.com/confluence/display/EPI...  http://www.cmegroup.com/rulebook/files/positio...   https://www.cmegroup.com/rulebook/CBOT/II/21.pdf  http://www.cmegroup.com/clearing/trading-pract...   \n",
       "4       ES     ES   NaN        ES  E-mini S&P 500 Futures       Equities     US Index      NaN          NaN    Futures      CME  2025324        2619124  http://www.cmegroup.com/trading/equity-index/u...                 $50 x S&P 500 Index                                                NaN  CME Globex: Sunday - Friday 6:00 p.m. - 5:00 p...  Outright: 0.25 index points = $12.50 Calendar ...  CME Globex: ESCME ClearPort: ESClearing: ESBTI...  Quarterly contracts (Mar, Jun, Sep, Dec) liste...  Financially Settled  Trading terminates at 9:30 a.m. ET on the 3rd ...                    Settlement Procedures   CME Position Limits           CME 358                       NaN           Price Limits                   NaN  Quote Vendor Symbols Listing  http://www.cmegroup.com/confluence/display/EPI...  http://www.cmegroup.com/rulebook/files/positio...  http://www.cmegroup.com/rulebook/CME/IV/350/35...                                                NaN   \n",
       "\n",
       "                         Price Limit Or Circuit Link                           All Or None Minimum Link                                  Vendor Codes Link                                Delivery Procedure                                 Last Delivery Date                                  Grade And Quality Trade At Marker Or Trade At Settlement Rules Delivery Period Minimum Price Fluctuation_0 Grade And Quality Link Floating Price Days Or Hours Trading Hours_0 Delivery Period Link Delivery Procedure Link Trade At Marker Or Trade At Settlement Rules Link Minimum Price Fluctuation Link Listed Contracts Link Termination Of Trading_0 Termination Of Trading Link Reportable Positions Termination Of Trading_1 CME Globex: Reportable Positions Link  \n",
       "0  http://www.cmegroup.com/rulebook/files/special...  http://www.cmegroup.com/clearing/trading-pract...  http://www.cmegroup.com/tools-information/vend...                                               NaN                                                NaN                                                NaN                                          NaN             NaN                         NaN                    NaN            NaN           NaN             NaN                  NaN                     NaN                                               NaN                            NaN                   NaN                      NaN                         NaN                  NaN                      NaN         NaN                       NaN  \n",
       "1  http://www.cmegroup.com/rulebook/files/special...       /clearing/trading-practices/all-or-none.html  http://www.cmegroup.com/tools-information/vend...  Federal Reserve book-entry wire-transfer system.  Third business day following the last trading ...  U.S. Treasury notes with an original term to m...                                          NaN             NaN                         NaN                    NaN            NaN           NaN             NaN                  NaN                     NaN                                               NaN                            NaN                   NaN                      NaN                         NaN                  NaN                      NaN         NaN                       NaN  \n",
       "2  http://www.cmegroup.com/rulebook/files/special...  http://www.cmegroup.com/clearing/trading-pract...  http://www.cmegroup.com/tools-information/vend...  Federal Reserve book-entry wire-transfer system.           Last business day of the delivery month.  U.S. Treasury notes with a remaining term to m...                                          NaN             NaN                         NaN                    NaN            NaN           NaN             NaN                  NaN                     NaN                                               NaN                            NaN                   NaN                      NaN                         NaN                  NaN                      NaN         NaN                       NaN  \n",
       "3  http://www.cmegroup.com/rulebook/files/special...       /clearing/trading-practices/all-or-none.html  http://www.cmegroup.com/tools-information/vend...  Federal Reserve book-entry wire-transfer system.  Third business day following the last trading ...  U.S. Treasury notes with an original term to m...                                          NaN             NaN                         NaN                    NaN            NaN           NaN             NaN                  NaN                     NaN                                               NaN                            NaN                   NaN                      NaN                         NaN                  NaN                      NaN         NaN                       NaN  \n",
       "4  https://www.cmegroup.com/trading/price-limits....                                                NaN  http://www.cmegroup.com/tools-information/vend...                                               NaN                                                NaN                                                NaN                                          NaN             NaN                         NaN                    NaN            NaN           NaN             NaN                  NaN                     NaN                                               NaN                            NaN                   NaN                      NaN                         NaN                  NaN                      NaN         NaN                       NaN  "
      ]
     },
     "execution_count": 5,
     "metadata": {},
     "output_type": "execute_result"
    }
   ],
   "source": [
    "product_list.head()"
   ]
  },
  {
   "cell_type": "code",
   "execution_count": 6,
   "metadata": {
    "ExecuteTime": {
     "end_time": "2019-10-14T23:05:05.041469Z",
     "start_time": "2019-10-14T23:05:05.020766Z"
    }
   },
   "outputs": [
    {
     "data": {
      "text/plain": [
       "Energy           892\n",
       "Equities         100\n",
       "Agriculture       57\n",
       "FX                55\n",
       "Metals            44\n",
       "Interest Rate     30\n",
       "Name: Product Group, dtype: int64"
      ]
     },
     "execution_count": 6,
     "metadata": {},
     "output_type": "execute_result"
    }
   ],
   "source": [
    "product_list[\"Product Group\"].value_counts()"
   ]
  },
  {
   "cell_type": "code",
   "execution_count": 7,
   "metadata": {
    "ExecuteTime": {
     "end_time": "2019-10-14T23:05:05.061178Z",
     "start_time": "2019-10-14T23:05:05.043073Z"
    }
   },
   "outputs": [],
   "source": [
    "product_list.set_index(\"Product Group\", inplace=True)"
   ]
  },
  {
   "cell_type": "code",
   "execution_count": 8,
   "metadata": {
    "ExecuteTime": {
     "end_time": "2019-10-14T23:05:05.080150Z",
     "start_time": "2019-10-14T23:05:05.063659Z"
    }
   },
   "outputs": [],
   "source": [
    "commodity_groups = [\"Energy\", \"Agriculture\", \"Metals\"]"
   ]
  },
  {
   "cell_type": "code",
   "execution_count": 9,
   "metadata": {
    "ExecuteTime": {
     "end_time": "2019-10-14T23:05:05.100988Z",
     "start_time": "2019-10-14T23:05:05.081946Z"
    }
   },
   "outputs": [],
   "source": [
    "commodity_symbols = {\n",
    "    group: product_list.loc[group][\"Globex\"].values for group in commodity_groups\n",
    "}"
   ]
  },
  {
   "cell_type": "code",
   "execution_count": 10,
   "metadata": {
    "ExecuteTime": {
     "end_time": "2019-10-14T23:05:05.121740Z",
     "start_time": "2019-10-14T23:05:05.102386Z"
    },
    "scrolled": false
   },
   "outputs": [
    {
     "data": {
      "text/plain": [
       "{'Energy': array(['CL', 'NG', 'NN', 'N9L', 'D2L', 'HO', 'RB', 'H2L', 'HH', 'BZ',\n",
       "        'V3L', 'BK', 'CSX', 'HTT', 'B0', 'NPG', 'WTT', 'B6L', 'E4L', 'HP',\n",
       "        'AL1', 'AFF', 'EJL', 'LT', 'AD0', 'A1R', 'R7L', 'D4L', 'AW6', 'CU',\n",
       "        'ADB', 'AC0', 'L3L', 'A4P', 'ME', 'CY', 'WOL', 'A8K', 'T7K', 'ZGL',\n",
       "        'MTF', 'LPS', 'T3L', 'AE5', 'AYV', 'MFB', 'AU6', 'RBB', 'AWJ',\n",
       "        'POL', 'A7Q', 'IDL', 'PWL', 'AZ9', 'RVR', 'ZJL', 'TL', 'A46', 'GZ',\n",
       "        'RLX', 'K4L', 'FTL', 'HOB', 'GCU', 'CRB', 'WCW', 'AOL', 'JDL',\n",
       "        'EN', 'AA6', 'PD', 'AGA', 'FO', 'N1B', 'NOI', 'MPX', 'NHN', 'NL',\n",
       "        'JKM', 'MTS', 'AB3', 'NR', 'AH3', 'AP8', 'A7E', 'PGN', 'AFH',\n",
       "        'AZ1', 'A8I', 'MNC', 'UV', 'SE', 'MAF', 'B7H', 'J4L', 'AYX', 'QM',\n",
       "        'D3L', 'IN', 'MEO', 'QG', 'EXR', 'PM', 'TTF', 'MFF', 'PGG', 'D7L',\n",
       "        'BOO', 'MXB', 'EVC', 'A5C', 'AA8', 'EWG', 'HB', 'A8O', 'RKA',\n",
       "        'ARE', 'GCI', 'A1M', 'AL6', 'A1L', 'A0D', 'MBR', 'APS', 'N3L',\n",
       "        'JET', 'VR', 'A9N', 'PH', 'PEL', 'MJN', 'CIN', 'NJ', 'TC', 'A4N',\n",
       "        'TRZ', 'UN', 'DCB', 'AHL', 'FOC', 'MNB', 'D1N', 'AJS', 'AA5',\n",
       "        'CSW', 'PTL', 'ALY', 'EPN', 'CC5', 'ABY', 'A8J', 'NFN', 'NOO',\n",
       "        'T2D', 'DEB', 'JA', 'MAE', 'MM', 'A8L', 'A8M', 'JNL', 'AEZ', 'NX',\n",
       "        'TH', 'AKS', 'LSW', 'AQA', 'NKN', '1S', 'UDL', 'GNL', 'COL', 'NW',\n",
       "        'FLP', 'AFY', 'PNL', 'HCL', 'ZAL', 'ICI', 'SGB', 'TZ6', 'MGH',\n",
       "        'NLS', '5ZN', 'AR0', 'AVZ', 'K3L', 'WPL', 'A91', 'A47', 'HIL',\n",
       "        'H5L', 'A0F', 'FSS', 'MEF', 'MPS', 'MAS', 'R5M', 'STR', 'TM',\n",
       "        'LHV', 'FRC', 'EWN', 'MBE', 'MEB', 'AUB', 'AJ9', 'EH', 'SMU',\n",
       "        'JTB', 'S5M', 'A7Y', 'MBC', 'MGN', 'UA', 'ACB', 'DBL', 'VDL',\n",
       "        'MSG', 'AJL', 'PF', 'GY', 'ANL', 'AXA', 'PW', 'AUF', 'AGE', 'ABT',\n",
       "        'AP7', 'A3C', 'STS', 'AA9', 'WS', 'MT2', 'PAL', 'R5O', 'GBB',\n",
       "        'PDL', 'SF3', 'HJC', 'JML', '22', '1NM', 'A3G', 'SD', '0B', 'USC',\n",
       "        'ABH', 'BB', 'AFI', 'AVU', 'GSW', 'MJC', 'PE', 'NRR', 'H5G', 'MUD',\n",
       "        'GCB', 'RT', 'MFD', 'UKG', 'A8C', 'MTB', 'AJB', 'A32', 'A7I',\n",
       "        'BR7', 'NYF', 'AKL', 'GLI', 'CPB', 'TD3', 'AGX', 'NHH', 'E6M',\n",
       "        'JE', 'EFF', 'MMF', 'R53', 'AUI', 'MEE', 'ENS', 'STI', 'ARY',\n",
       "        'TMB', 'E6', '51', '7D', 'FEW', 'A8G', '0C', 'MGB', 'FVB', 'EOB',\n",
       "        'S53', 'A1P', 'S5F', 'AFK', '3NA', 'ALW', 'ABS', 'MSB', 'AA7',\n",
       "        'FRS', 'ATP', 'GOC', 'AUJ', '1T', 'CBB', '63', 'MAA', 'S5O', 'AKR',\n",
       "        'AVL', 'AKZ', 'NCC', 'AT0', 'AWQ', 'SFB', 'EFM', 'A1W', 'AUH',\n",
       "        'QU', 'QH', 'NFC', 'GUD', 'XH', 'AI3', '39', 'B2K', 'T5B', 'GNO',\n",
       "        'HBC', 'A7G', 'AF', 'AI6', '3L', 'PLP', 'HHT', 'AM1', 'MMP', 'CBC',\n",
       "        'RBF', 'PVL', 'EAB', 'EAW', 'NRP', 'GDH', 'PNF', 'M1B', 'JKF',\n",
       "        'A43', 'QXB', 'AP3', 'PSO', '3ZW', 'CLL', 'PRP', 'AW2', 'AO1',\n",
       "        'XPP', 'EMC', 'B8', 'AE9', 'XX', 'MNS', 'AI7', 'JNG', '36', 'DEP',\n",
       "        'TKB', 'GNS', 'HDB', 'AR3', 'AP5', 'JPP', 'WCE', 'MNT', 'CGB',\n",
       "        'BFR', 'OVL', 'WTI', 'ERL', 'AU2', 'CMF', 'NWP', '3NB', 'A4L',\n",
       "        'B1', 'MH', 'PZO', '4U', 'BZL', 'PPP', 'LAP', 'EL1', 'ABI', 'AET',\n",
       "        'NYT', 'MDB', 'AJ1', 'JFB', '38', 'ITP', 'UNB', 'T2B', 'FOM',\n",
       "        'GES', 'H5B', 'A7L', 'AKX', 'PHP', 'UR', 'YUE', 'MGF', 'MBL',\n",
       "        'CIL', 'WTS', 'YWK', 'EAE', 'BDB', 'WDB', 'DAB', 'S5B', '7P',\n",
       "        'PBO', '4Y', 'HOL', 'NOD', '8D', 'MDD', 'SMW', 'AYH', 'AR1', '5L',\n",
       "        'A1V', 'NCO', 'SSI', 'WBR', 'USE', 'UPB', 'A4R', '8W', 'CLT',\n",
       "        'PCP', 'AUT', 'OPO', 'MJB', 'STY', 'NYR', 'DCL', 'ULB', 'MNE',\n",
       "        'AD6', 'AGT', 'FCN', '1ZA', 'NCF', 'NYP', 'T4D', 'FCB', 'SBM',\n",
       "        'MQ', 'PUO', 'ATU', 'RBL', 'MOI', 'DAZ', 'IBE', 'ABX', 'F3', 'MHS',\n",
       "        'AV0', 'SF1', 'AY', 'C6C', 'A1X', 'SSW', 'NHO', 'NBP', 'TC9',\n",
       "        'LEL', 'WNT', 'PPW', 'WMR', 'BPU', 'RBT', 'PQP', 'AUY', 'OFF',\n",
       "        'C9C', 'WCC', 'HOA', 'MBS', 'AD8', 'YRP', 'LLR', 'FOR', 'C4D',\n",
       "        'ESS', 'NNT', '29', 'AU4', 'C8C', '26', 'NRO', 'T2M', 'MTH', 'XER',\n",
       "        'A3M', 'R5E', '7U', 'PYO', 'ATY', 'BBT', 'A58', 'MRI', 'STT',\n",
       "        'AF5', 'AZ0', 'AH1', 'LWB', 'GBR', 'HPE', 'A1D', '2D', 'EGB',\n",
       "        'TD8', 'CSN', 'WTD', 'HTE', 'A6V', 'E9X', 'AHJ', 'AL9', 'PPL',\n",
       "        'FZE', 'BZS', 'YNO', 'TC6', 'MGS', 'X6', 'DBT', 'Z4', 'EAF', 'UCM',\n",
       "        'HTA', 'SDD', 'NWO', 'GHB', 'LCF', 'R5F', 'MSD', '3P', '7X', 'AJR',\n",
       "        'PMO', 'U9', 'DAX', 'NYG', 'MRT', 'OAD', 'CF', 'AE3', 'X9', 'GCG',\n",
       "        'A1G', '2FW', 'UNS', 'NBD', 'T9B', 'MDM', 'HTI', 'A6X', 'AHM',\n",
       "        'LL', 'RYA', 'PVP', 'AVK', 'AN1', 'ACM', 'MPA', 'MLD', 'CK', 'YHE',\n",
       "        'Z6', 'VV', 'HIA', 'NMP', 'SGG', 'TIL', 'A3R', 'JCC', 'A81', 'AJU',\n",
       "        'AQ8', 'AOJ', 'POC', 'A6L', 'NEP', 'AAW', 'CFC', 'EP1', 'AXB',\n",
       "        'BUC', 'GFC', 'A33', '2JW', 'TTD', 'ANC', 'T4B', 'MAB', 'HBR',\n",
       "        'AI5', 'ALX', 'PXP', 'NCP', 'RBG', 'MXL', 'ENP', 'HIB', 'NNP',\n",
       "        'RHB', 'PMF', 'M35', 'A42', 'QP', 'AP2', 'PLO', 'ALM', 'MIP',\n",
       "        'APA', 'PSP', 'NFG', 'GBA', 'AB7', 'AE8', 'XR', 'MFR', 'AI4',\n",
       "        '2ZW', 'TLB', 'JNC', 'GNB', 'CLD', 'AJ', 'AP1', 'ASP', '3XW',\n",
       "        'AP4', 'PRO', 'NGT', 'MBB', 'FAL', 'MTI', 'CBO', 'FBD', 'VLD',\n",
       "        'EAC', 'YWF', '0E', 'NSP', 'GDL', 'SR5', 'JKB', '4G', 'PFO', 'TK',\n",
       "        '4C', 'PHF', 'PFP', 'BG', 'AY1', 'AI9', 'A49', 'MAC', 'JFC', '37',\n",
       "        'ITB', 'UMB', 'T8B', 'AOB', 'RGF', 'AJ2', 'ZKU', 'AR6', 'PZP',\n",
       "        'RGI', 'MCT', 'CPP', 'FBT', 'QVL', 'YWE', 'YHF', 'A1Q', 'AU3',\n",
       "        'CMB', 'WHD', 'A4M', 'R5B', '7N', 'AML', 'PHO', '4XW', 'PEX',\n",
       "        'NCD', '88', 'LAF', 'EMW', 'YF', 'MEW', 'A50', 'A1U', 'ACT', 'M5F',\n",
       "        'FLB', 'SGF', 'UP5', 'A4Q', 'AR8', 'PBP', 'AUS', 'OMM', 'NYA',\n",
       "        'CRG', 'MME', 'AD5', 'AGP', 'WTA', '1Y', 'TTE', 'WHB', 'TMD',\n",
       "        'DBB', 'RBM', 'PCO', 'C4Z', 'FEF', 'NFO', 'AW4', 'MOA', 'SDM',\n",
       "        'AF2', 'YS', 'MFP', 'AR4', 'NMO', 'DCW', 'HPD', 'CCM', 'WMB',\n",
       "        'UPM', '4V', '8XN', 'AL5', 'ARI', 'HOT', 'PUP', 'EBE', '1NA', 'W0',\n",
       "        'HWA', 'MPE', 'CHB', 'AFE', 'C3D', 'ESB', '23', 'THD', 'Z1B',\n",
       "        'NEO', 'TLD', 'FOA', 'HGB', '7S', 'AP9', 'PQO', 'TW', 'A55', 'MMO',\n",
       "        'AA4', 'MXR', 'AF4', 'C7C', '7FT', '2C', 'EGN', 'T5C', 'ASD',\n",
       "        'WNC', 'WMD', 'TCS', 'ABF', 'A5U', '9Q', 'AL8', 'PYP', 'AUZ',\n",
       "        'OOD', 'MO', 'CLS', 'CC0', 'X0', 'MNG', 'MHE', 'AD9', 'AX1', 'LBB',\n",
       "        'C5D', 'EUB', 'AU5', '27', 'SRT', 'NSO', 'GHS', 'H5F', 'GKS',\n",
       "        'A3N', 'SRB', '7V', 'PTO', 'U7', 'BZT', 'A59', 'MMR', 'IBS', 'PDJ',\n",
       "        'X7', 'GCC', 'LPE', '1E', 'C2E', 'UMD', 'EWB', 'T6B', 'MDR', 'HTC',\n",
       "        'A6W', 'AA3', 'AJJ', 'YRW', 'PMP', 'AS4', 'MX', 'MSE', 'MDL',\n",
       "        'AZ5', 'MB', 'V7', 'NTP', 'MGO', 'THB', 'WTL', 'A3Q', 'AEB', 'AQ5',\n",
       "        'PVO', '5Y', 'N3P', 'AQK', 'CFB', 'MPP', 'EO1', 'GCM', '1H', 'DHA',\n",
       "        'CPD', 'ANT', 'TB2', 'MBM', 'HTM', 'AI1', 'PKP', 'NBB', 'UGG',\n",
       "        'OML', 'FL', 'EAA', 'AZ7', '0A', 'AI2', 'HTB', 'NHP', 'RHS', 'T3B',\n",
       "        '3V', 'K2L', 'AOH', 'PXO', 'AK1', 'NFD', 'CBA'], dtype=object),\n",
       " 'Agriculture': array(['ZC', 'ZS', 'ZL', 'ZM', 'ZW', 'LE', 'KE', 'HE', 'GF', 'GIE', 'AW',\n",
       "        'DC', 'CSC', 'BWF', 'GD', 'XK', 'XC', 'GNF', 'CB', 'GDK', 'ZR',\n",
       "        'ZO', 'BCF', 'CPO', 'DY', 'LBS', 'DRS', 'UME', 'XW', 'UFV', 'UFE',\n",
       "        'DFN', 'UFB', 'TT', 'GIT', 'GFT', 'POG', 'AUW', 'ZCT', 'ZWT',\n",
       "        'MFC', 'YO', 'ZLT', 'LET', 'DRT', 'CJ', 'HET', 'OPF', 'BWH', 'BCH',\n",
       "        'MKC', 'SBT', 'AWT', 'KT', 'KET', 'ZMT', 'BSF'], dtype=object),\n",
       " 'Metals': array(['GC', 'HG', 'SI', 'PL', 'AUP', 'PA', 'MGC', 'HRC', 'EDP', 'AEP',\n",
       "        'HGS', 'MJP', 'TIO', 'UX', 'SIL', 'BUS', 'QO', 'QI', 'ALA', 'ALI',\n",
       "        'A38', 'QC', 'GSR', 'ALB', 'GSP', 'ZNC', 'TIC', 'GCT', 'CUP',\n",
       "        'GCK', 'LED', 'PPS', 'PAT', 'GPS', 'HGF', 'HG0', 'PAM', 'SSP',\n",
       "        'GCD', 'SIT', 'HGT', 'MGT', 'FSF', 'HRP'], dtype=object)}"
      ]
     },
     "execution_count": 10,
     "metadata": {},
     "output_type": "execute_result"
    }
   ],
   "source": [
    "commodity_symbols"
   ]
  },
  {
   "cell_type": "markdown",
   "metadata": {},
   "source": [
    "# Daily price movements"
   ]
  },
  {
   "cell_type": "markdown",
   "metadata": {},
   "source": [
    "## Load kibot commodity daily prices"
   ]
  },
  {
   "cell_type": "code",
   "execution_count": 11,
   "metadata": {
    "ExecuteTime": {
     "end_time": "2019-10-14T23:05:05.453071Z",
     "start_time": "2019-10-14T23:05:05.123178Z"
    },
    "scrolled": false
   },
   "outputs": [
    {
     "data": {
      "text/html": [
       "<div>\n",
       "<style scoped>\n",
       "    .dataframe tbody tr th:only-of-type {\n",
       "        vertical-align: middle;\n",
       "    }\n",
       "\n",
       "    .dataframe tbody tr th {\n",
       "        vertical-align: top;\n",
       "    }\n",
       "\n",
       "    .dataframe thead th {\n",
       "        text-align: right;\n",
       "    }\n",
       "</style>\n",
       "<table border=\"1\" class=\"dataframe\">\n",
       "  <thead>\n",
       "    <tr style=\"text-align: right;\">\n",
       "      <th></th>\n",
       "      <th>Symbol</th>\n",
       "      <th>Link</th>\n",
       "      <th>Description</th>\n",
       "    </tr>\n",
       "    <tr>\n",
       "      <th>All_Futures_Contracts_daily.csv</th>\n",
       "      <th></th>\n",
       "      <th></th>\n",
       "      <th></th>\n",
       "    </tr>\n",
       "  </thead>\n",
       "  <tbody>\n",
       "    <tr>\n",
       "      <td>1</td>\n",
       "      <td>JY</td>\n",
       "      <td>http://api.kibot.com/?action=download&amp;link=151...</td>\n",
       "      <td>CONTINUOUS JAPANESE YEN CONTRACT</td>\n",
       "    </tr>\n",
       "    <tr>\n",
       "      <td>2</td>\n",
       "      <td>JYF18</td>\n",
       "      <td>http://api.kibot.com/?action=download&amp;link=vrv...</td>\n",
       "      <td>JAPANESE YEN JANUARY 2018</td>\n",
       "    </tr>\n",
       "    <tr>\n",
       "      <td>3</td>\n",
       "      <td>JYF19</td>\n",
       "      <td>http://api.kibot.com/?action=download&amp;link=8r8...</td>\n",
       "      <td>JAPANESE YEN JANUARY 2019</td>\n",
       "    </tr>\n",
       "  </tbody>\n",
       "</table>\n",
       "</div>"
      ],
      "text/plain": [
       "                                Symbol                                               Link                       Description\n",
       "All_Futures_Contracts_daily.csv                                                                                            \n",
       "1                                   JY  http://api.kibot.com/?action=download&link=151...  CONTINUOUS JAPANESE YEN CONTRACT\n",
       "2                                JYF18  http://api.kibot.com/?action=download&link=vrv...         JAPANESE YEN JANUARY 2018\n",
       "3                                JYF19  http://api.kibot.com/?action=download&link=8r8...         JAPANESE YEN JANUARY 2019"
      ]
     },
     "execution_count": 11,
     "metadata": {},
     "output_type": "execute_result"
    }
   ],
   "source": [
    "daily_metadata = kut.read_metadata2()\n",
    "daily_metadata.head(3)"
   ]
  },
  {
   "cell_type": "code",
   "execution_count": 12,
   "metadata": {
    "ExecuteTime": {
     "end_time": "2019-10-14T23:05:05.474300Z",
     "start_time": "2019-10-14T23:05:05.454633Z"
    }
   },
   "outputs": [
    {
     "data": {
      "text/plain": [
       "14962"
      ]
     },
     "execution_count": 12,
     "metadata": {},
     "output_type": "execute_result"
    }
   ],
   "source": [
    "len(daily_metadata[\"Symbol\"])"
   ]
  },
  {
   "cell_type": "code",
   "execution_count": 13,
   "metadata": {
    "ExecuteTime": {
     "end_time": "2019-10-14T23:05:05.496103Z",
     "start_time": "2019-10-14T23:05:05.475897Z"
    }
   },
   "outputs": [
    {
     "data": {
      "text/plain": [
       "14962"
      ]
     },
     "execution_count": 13,
     "metadata": {},
     "output_type": "execute_result"
    }
   ],
   "source": [
    "daily_metadata[\"Symbol\"].nunique()"
   ]
  },
  {
   "cell_type": "code",
   "execution_count": 14,
   "metadata": {
    "ExecuteTime": {
     "end_time": "2019-10-14T23:05:05.514129Z",
     "start_time": "2019-10-14T23:05:05.497525Z"
    }
   },
   "outputs": [
    {
     "data": {
      "text/plain": [
       "892"
      ]
     },
     "execution_count": 14,
     "metadata": {},
     "output_type": "execute_result"
    }
   ],
   "source": [
    "len(commodity_symbols[\"Energy\"])"
   ]
  },
  {
   "cell_type": "code",
   "execution_count": 15,
   "metadata": {
    "ExecuteTime": {
     "end_time": "2019-10-14T23:05:05.550018Z",
     "start_time": "2019-10-14T23:05:05.515844Z"
    }
   },
   "outputs": [
    {
     "data": {
      "text/plain": [
       "array(['ALM', 'BB', 'BZ', 'CCM', 'CL', 'FRC', 'HO', 'IN', 'JE', 'LL',\n",
       "       'ME', 'MME', 'NG', 'NN', 'PM', 'QG', 'QM', 'RB', 'STS', 'TC', 'TL',\n",
       "       'TM', 'TW'], dtype=object)"
      ]
     },
     "execution_count": 15,
     "metadata": {},
     "output_type": "execute_result"
    }
   ],
   "source": [
    "energy_symbols_kibot = np.intersect1d(\n",
    "    daily_metadata[\"Symbol\"].values, commodity_symbols[\"Energy\"]\n",
    ")\n",
    "energy_symbols_kibot"
   ]
  },
  {
   "cell_type": "code",
   "execution_count": 16,
   "metadata": {
    "ExecuteTime": {
     "end_time": "2019-10-14T23:05:05.568507Z",
     "start_time": "2019-10-14T23:05:05.551476Z"
    }
   },
   "outputs": [
    {
     "data": {
      "text/plain": [
       "23"
      ]
     },
     "execution_count": 16,
     "metadata": {},
     "output_type": "execute_result"
    }
   ],
   "source": [
    "len(energy_symbols_kibot)"
   ]
  },
  {
   "cell_type": "code",
   "execution_count": 17,
   "metadata": {
    "ExecuteTime": {
     "end_time": "2019-10-14T23:05:05.634768Z",
     "start_time": "2019-10-14T23:05:05.569885Z"
    }
   },
   "outputs": [],
   "source": [
    "commodity_symbols_kibot = {\n",
    "    group: np.intersect1d(\n",
    "        daily_metadata[\"Symbol\"].values, commodity_symbols[group]\n",
    "    )\n",
    "    for group in commodity_symbols.keys()\n",
    "}"
   ]
  },
  {
   "cell_type": "code",
   "execution_count": 18,
   "metadata": {
    "ExecuteTime": {
     "end_time": "2019-10-14T23:05:05.655765Z",
     "start_time": "2019-10-14T23:05:05.636268Z"
    }
   },
   "outputs": [
    {
     "data": {
      "text/plain": [
       "{'Energy': array(['ALM', 'BB', 'BZ', 'CCM', 'CL', 'FRC', 'HO', 'IN', 'JE', 'LL',\n",
       "        'ME', 'MME', 'NG', 'NN', 'PM', 'QG', 'QM', 'RB', 'STS', 'TC', 'TL',\n",
       "        'TM', 'TW'], dtype=object),\n",
       " 'Agriculture': array(['GF', 'HE', 'LE', 'TT', 'ZCT', 'ZLT', 'ZMT', 'ZWT'], dtype=object),\n",
       " 'Metals': array(['GC', 'GCK', 'HG', 'HGT', 'MGC', 'PA', 'PL', 'QC', 'QI', 'QO',\n",
       "        'SI', 'SIL', 'UX'], dtype=object)}"
      ]
     },
     "execution_count": 18,
     "metadata": {},
     "output_type": "execute_result"
    }
   ],
   "source": [
    "commodity_symbols_kibot"
   ]
  },
  {
   "cell_type": "code",
   "execution_count": 19,
   "metadata": {
    "ExecuteTime": {
     "end_time": "2019-10-14T23:05:05.675533Z",
     "start_time": "2019-10-14T23:05:05.657520Z"
    },
    "scrolled": true
   },
   "outputs": [
    {
     "data": {
      "text/plain": [
       "{'Energy': 23, 'Agriculture': 8, 'Metals': 13}"
      ]
     },
     "execution_count": 19,
     "metadata": {},
     "output_type": "execute_result"
    }
   ],
   "source": [
    "{\n",
    "    group: len(commodity_symbols_kibot[group])\n",
    "    for group in commodity_symbols_kibot.keys()\n",
    "}"
   ]
  },
  {
   "cell_type": "code",
   "execution_count": 20,
   "metadata": {
    "ExecuteTime": {
     "end_time": "2019-10-14T23:05:05.695892Z",
     "start_time": "2019-10-14T23:05:05.676917Z"
    }
   },
   "outputs": [
    {
     "data": {
      "text/plain": [
       "['ALM', 'BB', 'BZ', 'CCM', 'CL']"
      ]
     },
     "execution_count": 20,
     "metadata": {},
     "output_type": "execute_result"
    }
   ],
   "source": [
    "comm_list = []\n",
    "for comm_group in commodity_symbols_kibot.values():\n",
    "    comm_list.extend(list(comm_group))\n",
    "comm_list[:5]"
   ]
  },
  {
   "cell_type": "code",
   "execution_count": 21,
   "metadata": {
    "ExecuteTime": {
     "end_time": "2019-10-14T23:05:05.926354Z",
     "start_time": "2019-10-14T23:05:05.697370Z"
    }
   },
   "outputs": [
    {
     "name": "stdout",
     "output_type": "stream",
     "text": [
      "args=('s3://default00-bucket/kibot/All_Futures_Continuous_Contracts_daily/ALM.csv.gz', None) kwargs={}\n",
      "args=('s3://default00-bucket/kibot/All_Futures_Continuous_Contracts_daily/BB.csv.gz', None) kwargs={}\n",
      "args=('s3://default00-bucket/kibot/All_Futures_Continuous_Contracts_daily/BZ.csv.gz', None) kwargs={}\n",
      "args=('s3://default00-bucket/kibot/All_Futures_Continuous_Contracts_daily/CCM.csv.gz', None) kwargs={}\n",
      "args=('s3://default00-bucket/kibot/All_Futures_Continuous_Contracts_daily/CL.csv.gz', None) kwargs={}\n",
      "args=('s3://default00-bucket/kibot/All_Futures_Continuous_Contracts_daily/FRC.csv.gz', None) kwargs={}\n",
      "args=('s3://default00-bucket/kibot/All_Futures_Continuous_Contracts_daily/HO.csv.gz', None) kwargs={}\n",
      "args=('s3://default00-bucket/kibot/All_Futures_Continuous_Contracts_daily/IN.csv.gz', None) kwargs={}\n",
      "args=('s3://default00-bucket/kibot/All_Futures_Continuous_Contracts_daily/JE.csv.gz', None) kwargs={}\n",
      "args=('s3://default00-bucket/kibot/All_Futures_Continuous_Contracts_daily/LL.csv.gz', None) kwargs={}\n",
      "args=('s3://default00-bucket/kibot/All_Futures_Continuous_Contracts_daily/ME.csv.gz', None) kwargs={}\n",
      "args=('s3://default00-bucket/kibot/All_Futures_Continuous_Contracts_daily/MME.csv.gz', None) kwargs={}\n",
      "args=('s3://default00-bucket/kibot/All_Futures_Continuous_Contracts_daily/NG.csv.gz', None) kwargs={}\n",
      "args=('s3://default00-bucket/kibot/All_Futures_Continuous_Contracts_daily/NN.csv.gz', None) kwargs={}\n",
      "args=('s3://default00-bucket/kibot/All_Futures_Continuous_Contracts_daily/PM.csv.gz', None) kwargs={}\n",
      "args=('s3://default00-bucket/kibot/All_Futures_Continuous_Contracts_daily/QG.csv.gz', None) kwargs={}\n",
      "args=('s3://default00-bucket/kibot/All_Futures_Continuous_Contracts_daily/QM.csv.gz', None) kwargs={}\n",
      "args=('s3://default00-bucket/kibot/All_Futures_Continuous_Contracts_daily/RB.csv.gz', None) kwargs={}\n",
      "args=('s3://default00-bucket/kibot/All_Futures_Continuous_Contracts_daily/STS.csv.gz', None) kwargs={}\n",
      "args=('s3://default00-bucket/kibot/All_Futures_Continuous_Contracts_daily/TC.csv.gz', None) kwargs={}\n",
      "args=('s3://default00-bucket/kibot/All_Futures_Continuous_Contracts_daily/TL.csv.gz', None) kwargs={}\n",
      "args=('s3://default00-bucket/kibot/All_Futures_Continuous_Contracts_daily/TM.csv.gz', None) kwargs={}\n",
      "args=('s3://default00-bucket/kibot/All_Futures_Continuous_Contracts_daily/TW.csv.gz', None) kwargs={}\n",
      "args=('s3://default00-bucket/kibot/All_Futures_Continuous_Contracts_daily/GF.csv.gz', None) kwargs={}\n",
      "args=('s3://default00-bucket/kibot/All_Futures_Continuous_Contracts_daily/HE.csv.gz', None) kwargs={}\n",
      "args=('s3://default00-bucket/kibot/All_Futures_Continuous_Contracts_daily/LE.csv.gz', None) kwargs={}\n",
      "args=('s3://default00-bucket/kibot/All_Futures_Continuous_Contracts_daily/TT.csv.gz', None) kwargs={}\n",
      "args=('s3://default00-bucket/kibot/All_Futures_Continuous_Contracts_daily/ZCT.csv.gz', None) kwargs={}\n",
      "args=('s3://default00-bucket/kibot/All_Futures_Continuous_Contracts_daily/ZLT.csv.gz', None) kwargs={}\n",
      "args=('s3://default00-bucket/kibot/All_Futures_Continuous_Contracts_daily/ZMT.csv.gz', None) kwargs={}\n",
      "args=('s3://default00-bucket/kibot/All_Futures_Continuous_Contracts_daily/ZWT.csv.gz', None) kwargs={}\n",
      "args=('s3://default00-bucket/kibot/All_Futures_Continuous_Contracts_daily/GC.csv.gz', None) kwargs={}\n",
      "args=('s3://default00-bucket/kibot/All_Futures_Continuous_Contracts_daily/GCK.csv.gz', None) kwargs={}\n",
      "args=('s3://default00-bucket/kibot/All_Futures_Continuous_Contracts_daily/HG.csv.gz', None) kwargs={}\n",
      "args=('s3://default00-bucket/kibot/All_Futures_Continuous_Contracts_daily/HGT.csv.gz', None) kwargs={}\n",
      "args=('s3://default00-bucket/kibot/All_Futures_Continuous_Contracts_daily/MGC.csv.gz', None) kwargs={}\n",
      "args=('s3://default00-bucket/kibot/All_Futures_Continuous_Contracts_daily/PA.csv.gz', None) kwargs={}\n",
      "args=('s3://default00-bucket/kibot/All_Futures_Continuous_Contracts_daily/PL.csv.gz', None) kwargs={}\n",
      "args=('s3://default00-bucket/kibot/All_Futures_Continuous_Contracts_daily/QC.csv.gz', None) kwargs={}\n",
      "args=('s3://default00-bucket/kibot/All_Futures_Continuous_Contracts_daily/QI.csv.gz', None) kwargs={}\n",
      "args=('s3://default00-bucket/kibot/All_Futures_Continuous_Contracts_daily/QO.csv.gz', None) kwargs={}\n",
      "args=('s3://default00-bucket/kibot/All_Futures_Continuous_Contracts_daily/SI.csv.gz', None) kwargs={}\n",
      "args=('s3://default00-bucket/kibot/All_Futures_Continuous_Contracts_daily/SIL.csv.gz', None) kwargs={}\n",
      "args=('s3://default00-bucket/kibot/All_Futures_Continuous_Contracts_daily/UX.csv.gz', None) kwargs={}\n"
     ]
    },
    {
     "data": {
      "text/html": [
       "<div>\n",
       "<style scoped>\n",
       "    .dataframe tbody tr th:only-of-type {\n",
       "        vertical-align: middle;\n",
       "    }\n",
       "\n",
       "    .dataframe tbody tr th {\n",
       "        vertical-align: top;\n",
       "    }\n",
       "\n",
       "    .dataframe thead th {\n",
       "        text-align: right;\n",
       "    }\n",
       "</style>\n",
       "<table border=\"1\" class=\"dataframe\">\n",
       "  <thead>\n",
       "    <tr style=\"text-align: right;\">\n",
       "      <th></th>\n",
       "      <th>open</th>\n",
       "      <th>high</th>\n",
       "      <th>low</th>\n",
       "      <th>close</th>\n",
       "      <th>vol</th>\n",
       "    </tr>\n",
       "    <tr>\n",
       "      <th>date</th>\n",
       "      <th></th>\n",
       "      <th></th>\n",
       "      <th></th>\n",
       "      <th></th>\n",
       "      <th></th>\n",
       "    </tr>\n",
       "  </thead>\n",
       "  <tbody>\n",
       "    <tr>\n",
       "      <td>2019-07-18</td>\n",
       "      <td>56.72</td>\n",
       "      <td>57.45</td>\n",
       "      <td>54.85</td>\n",
       "      <td>55.42</td>\n",
       "      <td>764491</td>\n",
       "    </tr>\n",
       "    <tr>\n",
       "      <td>2019-07-19</td>\n",
       "      <td>55.84</td>\n",
       "      <td>56.49</td>\n",
       "      <td>55.12</td>\n",
       "      <td>55.76</td>\n",
       "      <td>710948</td>\n",
       "    </tr>\n",
       "  </tbody>\n",
       "</table>\n",
       "</div>"
      ],
      "text/plain": [
       "             open   high    low  close     vol\n",
       "date                                          \n",
       "2019-07-18  56.72  57.45  54.85  55.42  764491\n",
       "2019-07-19  55.84  56.49  55.12  55.76  710948"
      ]
     },
     "execution_count": 21,
     "metadata": {},
     "output_type": "execute_result"
    }
   ],
   "source": [
    "s3_path = hs3.get_path()\n",
    "kibot_path = os.path.join(s3_path, \"kibot/All_Futures_Continuous_Contracts_daily/%s.csv.gz\")\n",
    "\n",
    "daily_price_dict_df = kut.read_multiple_symbol_data(\n",
    "    comm_list, kibot_path, nrows=None\n",
    ")\n",
    "\n",
    "daily_price_dict_df[\"CL\"].tail(2)"
   ]
  },
  {
   "cell_type": "markdown",
   "metadata": {},
   "source": [
    "## Largest movements for a specific symbol"
   ]
  },
  {
   "cell_type": "code",
   "execution_count": 22,
   "metadata": {
    "ExecuteTime": {
     "end_time": "2019-10-14T23:05:05.946225Z",
     "start_time": "2019-10-14T23:05:05.927909Z"
    }
   },
   "outputs": [],
   "source": [
    "symbol = \"CL\""
   ]
  },
  {
   "cell_type": "code",
   "execution_count": 23,
   "metadata": {
    "ExecuteTime": {
     "end_time": "2019-10-14T23:05:05.974145Z",
     "start_time": "2019-10-14T23:05:05.949708Z"
    }
   },
   "outputs": [
    {
     "data": {
      "text/plain": [
       "date\n",
       "2014-12-01    3.606042\n",
       "2001-11-16    3.548594\n",
       "2002-03-18    3.467714\n",
       "2001-09-25    3.415421\n",
       "2001-09-14    3.312830\n",
       "Name: ret_0, dtype: float64"
      ]
     },
     "execution_count": 23,
     "metadata": {},
     "output_type": "execute_result"
    }
   ],
   "source": [
    "top_daily_movements_cl = pma.get_top_movements_for_symbol(daily_price_dict_df, symbol, 'daily')\n",
    "top_daily_movements_cl.head()"
   ]
  },
  {
   "cell_type": "code",
   "execution_count": 24,
   "metadata": {
    "ExecuteTime": {
     "end_time": "2019-10-14T23:05:06.355869Z",
     "start_time": "2019-10-14T23:05:05.975872Z"
    }
   },
   "outputs": [
    {
     "data": {
      "image/png": "[encoded data removed]",
      "text/plain": [
       "<Figure size 1440x360 with 1 Axes>"
      ]
     },
     "metadata": {},
     "output_type": "display_data"
    }
   ],
   "source": [
    "top_daily_movements_cl.index.year.value_counts(sort=False).plot(kind=\"bar\")\n",
    "plt.title(\"How many of the top-100 price movements occured during each year\")\n",
    "plt.show()"
   ]
  },
  {
   "cell_type": "markdown",
   "metadata": {},
   "source": [
    "## Largest movement for energy group"
   ]
  },
  {
   "cell_type": "code",
   "execution_count": 25,
   "metadata": {
    "ExecuteTime": {
     "end_time": "2019-10-14T23:05:06.375672Z",
     "start_time": "2019-10-14T23:05:06.357377Z"
    }
   },
   "outputs": [],
   "source": [
    "group = \"Energy\""
   ]
  },
  {
   "cell_type": "code",
   "execution_count": 26,
   "metadata": {
    "ExecuteTime": {
     "end_time": "2019-10-14T23:05:06.395903Z",
     "start_time": "2019-10-14T23:05:06.377052Z"
    }
   },
   "outputs": [
    {
     "data": {
      "text/plain": [
       "array(['ALM', 'BB', 'BZ', 'CCM', 'CL', 'FRC', 'HO', 'IN', 'JE', 'LL',\n",
       "       'ME', 'MME', 'NG', 'NN', 'PM', 'QG', 'QM', 'RB', 'STS', 'TC', 'TL',\n",
       "       'TM', 'TW'], dtype=object)"
      ]
     },
     "execution_count": 26,
     "metadata": {},
     "output_type": "execute_result"
    }
   ],
   "source": [
    "commodity_symbols_kibot[group]"
   ]
  },
  {
   "cell_type": "code",
   "execution_count": 27,
   "metadata": {
    "ExecuteTime": {
     "end_time": "2019-10-14T23:05:06.508167Z",
     "start_time": "2019-10-14T23:05:06.397408Z"
    }
   },
   "outputs": [
    {
     "data": {
      "text/plain": [
       "date\n",
       "2016-03-04         inf\n",
       "2016-03-16         inf\n",
       "2008-04-07         inf\n",
       "2016-02-17         inf\n",
       "2016-02-19         inf\n",
       "2008-02-19         inf\n",
       "2016-02-25         inf\n",
       "2016-03-02         inf\n",
       "2017-03-20         inf\n",
       "2016-03-09         inf\n",
       "2016-03-10         inf\n",
       "2016-03-11         inf\n",
       "2016-03-17         inf\n",
       "1999-03-11    2.572095\n",
       "1996-01-08    2.518336\n",
       "1995-12-11    2.285279\n",
       "1998-03-19    2.251804\n",
       "2004-11-25    2.224038\n",
       "1998-01-27    2.189276\n",
       "2011-08-05    2.073438\n",
       "1997-09-26    2.064404\n",
       "1996-01-12    2.048205\n",
       "1996-05-24    2.025408\n",
       "1997-08-05    2.007946\n",
       "2002-05-16    2.006559\n",
       "2010-11-28    1.982404\n",
       "1995-12-05    1.960390\n",
       "1997-09-29    1.932066\n",
       "1999-05-07    1.921030\n",
       "1995-11-03    1.874681\n",
       "1998-03-17    1.872827\n",
       "1998-09-11    1.869164\n",
       "1995-12-19    1.848931\n",
       "1996-10-04    1.838519\n",
       "1997-10-07    1.837312\n",
       "1997-05-19    1.801880\n",
       "2008-09-30    1.799340\n",
       "1998-07-22    1.789856\n",
       "2002-12-13    1.780252\n",
       "1998-12-18    1.779402\n",
       "1996-02-14    1.778150\n",
       "1998-08-11    1.775876\n",
       "2003-06-27    1.754280\n",
       "1999-09-10    1.750960\n",
       "1998-12-17    1.750243\n",
       "1996-12-16    1.749651\n",
       "1998-01-06    1.738127\n",
       "2005-04-28    1.724746\n",
       "2000-03-02    1.702480\n",
       "2004-01-19    1.690324\n",
       "1997-07-07    1.686708\n",
       "2010-02-05    1.679738\n",
       "2011-05-06    1.672994\n",
       "1997-05-09    1.671358\n",
       "1998-11-10    1.664291\n",
       "1997-05-28    1.662257\n",
       "1999-01-06    1.650589\n",
       "1997-12-11    1.649058\n",
       "1996-02-27    1.648500\n",
       "1997-05-13    1.647659\n",
       "1996-01-15    1.640938\n",
       "1996-11-01    1.638096\n",
       "1998-01-20    1.634875\n",
       "1998-03-23    1.627254\n",
       "1995-11-28    1.620071\n",
       "2000-04-03    1.609578\n",
       "2004-12-06    1.604086\n",
       "2018-10-11    1.602369\n",
       "2001-09-14    1.601878\n",
       "2015-08-24    1.601648\n",
       "1997-06-26    1.601581\n",
       "1996-03-27    1.600955\n",
       "1995-11-20    1.598876\n",
       "1999-09-24    1.589699\n",
       "2000-01-04    1.581096\n",
       "2014-12-01    1.575445\n",
       "1997-10-06    1.568316\n",
       "1998-07-21    1.561599\n",
       "2015-08-25    1.546033\n",
       "1996-11-20    1.542052\n",
       "1996-09-17    1.536604\n",
       "1998-06-12    1.536443\n",
       "1996-03-18    1.536340\n",
       "1999-03-18    1.528353\n",
       "2003-11-19    1.516912\n",
       "1998-06-18    1.512911\n",
       "2001-05-28    1.511047\n",
       "2000-03-08    1.508153\n",
       "2010-05-05    1.504940\n",
       "2008-09-18    1.503605\n",
       "2018-02-06    1.503061\n",
       "1996-07-19    1.502858\n",
       "1997-07-21    1.502505\n",
       "1997-02-25    1.497950\n",
       "1998-01-30    1.493818\n",
       "2004-05-11    1.493316\n",
       "2001-08-16    1.485777\n",
       "2008-10-14    1.485397\n",
       "1998-02-02    1.484813\n",
       "2003-08-22    1.483773\n",
       "dtype: float64"
      ]
     },
     "execution_count": 27,
     "metadata": {},
     "output_type": "execute_result"
    }
   ],
   "source": [
    "pma.get_top_movements_by_group(\n",
    "    daily_price_dict_df, commodity_symbols_kibot, group, 'daily'\n",
    ")"
   ]
  },
  {
   "cell_type": "markdown",
   "metadata": {},
   "source": [
    "## Largest movements for each group"
   ]
  },
  {
   "cell_type": "code",
   "execution_count": 28,
   "metadata": {
    "ExecuteTime": {
     "end_time": "2019-10-14T23:05:06.716684Z",
     "start_time": "2019-10-14T23:05:06.509614Z"
    }
   },
   "outputs": [
    {
     "data": {
      "application/vnd.jupyter.widget-view+json": {
       "model_id": "3eac118785964709af7ca391717e07b6",
       "version_major": 2,
       "version_minor": 0
      },
      "text/plain": [
       "HBox(children=(IntProgress(value=0, max=3), HTML(value='')))"
      ]
     },
     "metadata": {},
     "output_type": "display_data"
    },
    {
     "name": "stdout",
     "output_type": "stream",
     "text": [
      "\n"
     ]
    }
   ],
   "source": [
    "top_100_daily_movements_by_group = {\n",
    "    group: pma.get_top_movements_by_group(\n",
    "        daily_price_dict_df, commodity_symbols_kibot, group, 'daily'\n",
    "    )\n",
    "    for group in tqdm(commodity_symbols_kibot.keys())\n",
    "}"
   ]
  },
  {
   "cell_type": "code",
   "execution_count": 29,
   "metadata": {
    "ExecuteTime": {
     "end_time": "2019-10-14T23:05:06.740424Z",
     "start_time": "2019-10-14T23:05:06.718184Z"
    }
   },
   "outputs": [
    {
     "data": {
      "text/plain": [
       "{'Energy': date\n",
       " 2016-03-04         inf\n",
       " 2016-03-16         inf\n",
       " 2008-04-07         inf\n",
       " 2016-02-17         inf\n",
       " 2016-02-19         inf\n",
       " 2008-02-19         inf\n",
       " 2016-02-25         inf\n",
       " 2016-03-02         inf\n",
       " 2017-03-20         inf\n",
       " 2016-03-09         inf\n",
       " 2016-03-10         inf\n",
       " 2016-03-11         inf\n",
       " 2016-03-17         inf\n",
       " 1999-03-11    2.572095\n",
       " 1996-01-08    2.518336\n",
       " dtype: float64, 'Agriculture': date\n",
       " 2019-07-19    inf\n",
       " 2017-10-19    inf\n",
       " 2015-07-27    inf\n",
       " 2015-07-23    inf\n",
       " 2017-09-28    inf\n",
       " 2015-07-17    inf\n",
       " 2015-07-06    inf\n",
       " 2015-06-19    inf\n",
       " 2017-11-28    inf\n",
       " 2017-09-22    inf\n",
       " 2017-12-22    inf\n",
       " 2018-02-08    inf\n",
       " 2018-02-12    inf\n",
       " 2018-02-20    inf\n",
       " 2018-02-22    inf\n",
       " dtype: float64, 'Metals': date\n",
       " 2019-05-15    inf\n",
       " 2014-11-03    inf\n",
       " 2019-04-01    inf\n",
       " 2014-08-25    inf\n",
       " 2019-05-17    inf\n",
       " 2019-03-20    inf\n",
       " 2019-03-05    inf\n",
       " 2019-01-29    inf\n",
       " 2019-03-25    inf\n",
       " 2019-06-10    inf\n",
       " 2019-07-05    inf\n",
       " 2019-04-03    inf\n",
       " 2019-04-05    inf\n",
       " 2015-09-18    inf\n",
       " 2018-07-05    inf\n",
       " dtype: float64}"
      ]
     },
     "execution_count": 29,
     "metadata": {},
     "output_type": "execute_result"
    }
   ],
   "source": [
    "{\n",
    "    group: head_prices_group.head(15)\n",
    "    for group, head_prices_group in top_100_daily_movements_by_group.items()\n",
    "}"
   ]
  },
  {
   "cell_type": "markdown",
   "metadata": {},
   "source": [
    "# 1-minute price movements"
   ]
  },
  {
   "cell_type": "markdown",
   "metadata": {},
   "source": [
    "## Load 1-minute prices"
   ]
  },
  {
   "cell_type": "code",
   "execution_count": 30,
   "metadata": {
    "ExecuteTime": {
     "end_time": "2019-10-14T23:05:07.008258Z",
     "start_time": "2019-10-14T23:05:06.741907Z"
    }
   },
   "outputs": [],
   "source": [
    "minutely_metadata = kut.read_metadata1()"
   ]
  },
  {
   "cell_type": "code",
   "execution_count": 31,
   "metadata": {
    "ExecuteTime": {
     "end_time": "2019-10-14T23:05:07.033555Z",
     "start_time": "2019-10-14T23:05:07.009825Z"
    },
    "scrolled": true
   },
   "outputs": [
    {
     "data": {
      "text/html": [
       "<div>\n",
       "<style scoped>\n",
       "    .dataframe tbody tr th:only-of-type {\n",
       "        vertical-align: middle;\n",
       "    }\n",
       "\n",
       "    .dataframe tbody tr th {\n",
       "        vertical-align: top;\n",
       "    }\n",
       "\n",
       "    .dataframe thead th {\n",
       "        text-align: right;\n",
       "    }\n",
       "</style>\n",
       "<table border=\"1\" class=\"dataframe\">\n",
       "  <thead>\n",
       "    <tr style=\"text-align: right;\">\n",
       "      <th></th>\n",
       "      <th>Symbol</th>\n",
       "      <th>Link</th>\n",
       "      <th>Description</th>\n",
       "    </tr>\n",
       "    <tr>\n",
       "      <th>All_Futures_Contracts_1min.csv</th>\n",
       "      <th></th>\n",
       "      <th></th>\n",
       "      <th></th>\n",
       "    </tr>\n",
       "  </thead>\n",
       "  <tbody>\n",
       "    <tr>\n",
       "      <td>1</td>\n",
       "      <td>JY</td>\n",
       "      <td>http://api.kibot.com/?action=download&amp;link=151...</td>\n",
       "      <td>CONTINUOUS JAPANESE YEN CONTRACT</td>\n",
       "    </tr>\n",
       "    <tr>\n",
       "      <td>2</td>\n",
       "      <td>JYF18</td>\n",
       "      <td>http://api.kibot.com/?action=download&amp;link=vrv...</td>\n",
       "      <td>JAPANESE YEN JANUARY 2018</td>\n",
       "    </tr>\n",
       "    <tr>\n",
       "      <td>3</td>\n",
       "      <td>JYF19</td>\n",
       "      <td>http://api.kibot.com/?action=download&amp;link=8r8...</td>\n",
       "      <td>JAPANESE YEN JANUARY 2019</td>\n",
       "    </tr>\n",
       "    <tr>\n",
       "      <td>4</td>\n",
       "      <td>JYG18</td>\n",
       "      <td>http://api.kibot.com/?action=download&amp;link=vrv...</td>\n",
       "      <td>JAPANESE YEN FEBRUARY 2018</td>\n",
       "    </tr>\n",
       "    <tr>\n",
       "      <td>5</td>\n",
       "      <td>JYG19</td>\n",
       "      <td>http://api.kibot.com/?action=download&amp;link=8r8...</td>\n",
       "      <td>JAPANESE YEN FEBRUARY 2019</td>\n",
       "    </tr>\n",
       "  </tbody>\n",
       "</table>\n",
       "</div>"
      ],
      "text/plain": [
       "                               Symbol                                               Link                       Description\n",
       "All_Futures_Contracts_1min.csv                                                                                            \n",
       "1                                  JY  http://api.kibot.com/?action=download&link=151...  CONTINUOUS JAPANESE YEN CONTRACT\n",
       "2                               JYF18  http://api.kibot.com/?action=download&link=vrv...         JAPANESE YEN JANUARY 2018\n",
       "3                               JYF19  http://api.kibot.com/?action=download&link=8r8...         JAPANESE YEN JANUARY 2019\n",
       "4                               JYG18  http://api.kibot.com/?action=download&link=vrv...        JAPANESE YEN FEBRUARY 2018\n",
       "5                               JYG19  http://api.kibot.com/?action=download&link=8r8...        JAPANESE YEN FEBRUARY 2019"
      ]
     },
     "execution_count": 31,
     "metadata": {},
     "output_type": "execute_result"
    }
   ],
   "source": [
    "minutely_metadata.head()"
   ]
  },
  {
   "cell_type": "code",
   "execution_count": 32,
   "metadata": {
    "ExecuteTime": {
     "end_time": "2019-10-14T23:05:07.053586Z",
     "start_time": "2019-10-14T23:05:07.035082Z"
    }
   },
   "outputs": [
    {
     "data": {
      "text/plain": [
       "True"
      ]
     },
     "execution_count": 32,
     "metadata": {},
     "output_type": "execute_result"
    }
   ],
   "source": [
    "np.array_equal(\n",
    "    minutely_metadata[\"Symbol\"].values, minutely_metadata[\"Symbol\"].values\n",
    ")"
   ]
  },
  {
   "cell_type": "code",
   "execution_count": null,
   "metadata": {
    "ExecuteTime": {
     "start_time": "2019-10-14T23:05:03.510Z"
    }
   },
   "outputs": [
    {
     "name": "stdout",
     "output_type": "stream",
     "text": [
      "args=('s3://default00-bucket/kibot/All_Futures_Continuous_Contracts_1min/ALM.csv.gz', None) kwargs={}\n",
      "args=('s3://default00-bucket/kibot/All_Futures_Continuous_Contracts_1min/BB.csv.gz', None) kwargs={}\n",
      "args=('s3://default00-bucket/kibot/All_Futures_Continuous_Contracts_1min/BZ.csv.gz', None) kwargs={}\n",
      "args=('s3://default00-bucket/kibot/All_Futures_Continuous_Contracts_1min/CCM.csv.gz', None) kwargs={}\n",
      "args=('s3://default00-bucket/kibot/All_Futures_Continuous_Contracts_1min/CL.csv.gz', None) kwargs={}\n",
      "args=('s3://default00-bucket/kibot/All_Futures_Continuous_Contracts_1min/FRC.csv.gz', None) kwargs={}\n",
      "args=('s3://default00-bucket/kibot/All_Futures_Continuous_Contracts_1min/HO.csv.gz', None) kwargs={}\n",
      "args=('s3://default00-bucket/kibot/All_Futures_Continuous_Contracts_1min/IN.csv.gz', None) kwargs={}\n",
      "args=('s3://default00-bucket/kibot/All_Futures_Continuous_Contracts_1min/JE.csv.gz', None) kwargs={}\n",
      "args=('s3://default00-bucket/kibot/All_Futures_Continuous_Contracts_1min/LL.csv.gz', None) kwargs={}\n",
      "args=('s3://default00-bucket/kibot/All_Futures_Continuous_Contracts_1min/ME.csv.gz', None) kwargs={}\n",
      "args=('s3://default00-bucket/kibot/All_Futures_Continuous_Contracts_1min/MME.csv.gz', None) kwargs={}\n",
      "args=('s3://default00-bucket/kibot/All_Futures_Continuous_Contracts_1min/NG.csv.gz', None) kwargs={}\n",
      "args=('s3://default00-bucket/kibot/All_Futures_Continuous_Contracts_1min/NN.csv.gz', None) kwargs={}\n",
      "args=('s3://default00-bucket/kibot/All_Futures_Continuous_Contracts_1min/PM.csv.gz', None) kwargs={}\n",
      "args=('s3://default00-bucket/kibot/All_Futures_Continuous_Contracts_1min/QG.csv.gz', None) kwargs={}\n",
      "args=('s3://default00-bucket/kibot/All_Futures_Continuous_Contracts_1min/QM.csv.gz', None) kwargs={}\n",
      "args=('s3://default00-bucket/kibot/All_Futures_Continuous_Contracts_1min/QM.csv.gz', None) kwargs={}\n",
      "Reading file_name='s3://default00-bucket/kibot/All_Futures_Continuous_Contracts_1min/QM.csv.gz' nrows=None\n",
      "args=('s3://default00-bucket/kibot/All_Futures_Continuous_Contracts_1min/RB.csv.gz', None) kwargs={}\n",
      "args=('s3://default00-bucket/kibot/All_Futures_Continuous_Contracts_1min/RB.csv.gz', None) kwargs={}\n",
      "Reading file_name='s3://default00-bucket/kibot/All_Futures_Continuous_Contracts_1min/RB.csv.gz' nrows=None\n",
      "args=('s3://default00-bucket/kibot/All_Futures_Continuous_Contracts_1min/STS.csv.gz', None) kwargs={}\n",
      "args=('s3://default00-bucket/kibot/All_Futures_Continuous_Contracts_1min/STS.csv.gz', None) kwargs={}\n",
      "Reading file_name='s3://default00-bucket/kibot/All_Futures_Continuous_Contracts_1min/STS.csv.gz' nrows=None\n",
      "args=('s3://default00-bucket/kibot/All_Futures_Continuous_Contracts_1min/TC.csv.gz', None) kwargs={}\n",
      "args=('s3://default00-bucket/kibot/All_Futures_Continuous_Contracts_1min/TC.csv.gz', None) kwargs={}\n",
      "Reading file_name='s3://default00-bucket/kibot/All_Futures_Continuous_Contracts_1min/TC.csv.gz' nrows=None\n",
      "args=('s3://default00-bucket/kibot/All_Futures_Continuous_Contracts_1min/TL.csv.gz', None) kwargs={}\n",
      "args=('s3://default00-bucket/kibot/All_Futures_Continuous_Contracts_1min/TL.csv.gz', None) kwargs={}\n",
      "Reading file_name='s3://default00-bucket/kibot/All_Futures_Continuous_Contracts_1min/TL.csv.gz' nrows=None\n",
      "args=('s3://default00-bucket/kibot/All_Futures_Continuous_Contracts_1min/TM.csv.gz', None) kwargs={}\n",
      "args=('s3://default00-bucket/kibot/All_Futures_Continuous_Contracts_1min/TM.csv.gz', None) kwargs={}\n",
      "Reading file_name='s3://default00-bucket/kibot/All_Futures_Continuous_Contracts_1min/TM.csv.gz' nrows=None\n",
      "args=('s3://default00-bucket/kibot/All_Futures_Continuous_Contracts_1min/TW.csv.gz', None) kwargs={}\n",
      "args=('s3://default00-bucket/kibot/All_Futures_Continuous_Contracts_1min/TW.csv.gz', None) kwargs={}\n",
      "Reading file_name='s3://default00-bucket/kibot/All_Futures_Continuous_Contracts_1min/TW.csv.gz' nrows=None\n",
      "args=('s3://default00-bucket/kibot/All_Futures_Continuous_Contracts_1min/GF.csv.gz', None) kwargs={}\n",
      "args=('s3://default00-bucket/kibot/All_Futures_Continuous_Contracts_1min/GF.csv.gz', None) kwargs={}\n",
      "Reading file_name='s3://default00-bucket/kibot/All_Futures_Continuous_Contracts_1min/GF.csv.gz' nrows=None\n",
      "args=('s3://default00-bucket/kibot/All_Futures_Continuous_Contracts_1min/HE.csv.gz', None) kwargs={}\n",
      "args=('s3://default00-bucket/kibot/All_Futures_Continuous_Contracts_1min/HE.csv.gz', None) kwargs={}\n",
      "Reading file_name='s3://default00-bucket/kibot/All_Futures_Continuous_Contracts_1min/HE.csv.gz' nrows=None\n",
      "args=('s3://default00-bucket/kibot/All_Futures_Continuous_Contracts_1min/LE.csv.gz', None) kwargs={}\n",
      "args=('s3://default00-bucket/kibot/All_Futures_Continuous_Contracts_1min/LE.csv.gz', None) kwargs={}\n",
      "Reading file_name='s3://default00-bucket/kibot/All_Futures_Continuous_Contracts_1min/LE.csv.gz' nrows=None\n",
      "args=('s3://default00-bucket/kibot/All_Futures_Continuous_Contracts_1min/TT.csv.gz', None) kwargs={}\n",
      "args=('s3://default00-bucket/kibot/All_Futures_Continuous_Contracts_1min/TT.csv.gz', None) kwargs={}\n",
      "Reading file_name='s3://default00-bucket/kibot/All_Futures_Continuous_Contracts_1min/TT.csv.gz' nrows=None\n",
      "args=('s3://default00-bucket/kibot/All_Futures_Continuous_Contracts_1min/ZCT.csv.gz', None) kwargs={}\n",
      "args=('s3://default00-bucket/kibot/All_Futures_Continuous_Contracts_1min/ZCT.csv.gz', None) kwargs={}\n",
      "Reading file_name='s3://default00-bucket/kibot/All_Futures_Continuous_Contracts_1min/ZCT.csv.gz' nrows=None\n",
      "args=('s3://default00-bucket/kibot/All_Futures_Continuous_Contracts_1min/ZLT.csv.gz', None) kwargs={}\n",
      "args=('s3://default00-bucket/kibot/All_Futures_Continuous_Contracts_1min/ZLT.csv.gz', None) kwargs={}\n",
      "Reading file_name='s3://default00-bucket/kibot/All_Futures_Continuous_Contracts_1min/ZLT.csv.gz' nrows=None\n",
      "args=('s3://default00-bucket/kibot/All_Futures_Continuous_Contracts_1min/ZMT.csv.gz', None) kwargs={}\n",
      "args=('s3://default00-bucket/kibot/All_Futures_Continuous_Contracts_1min/ZMT.csv.gz', None) kwargs={}\n",
      "Reading file_name='s3://default00-bucket/kibot/All_Futures_Continuous_Contracts_1min/ZMT.csv.gz' nrows=None\n",
      "args=('s3://default00-bucket/kibot/All_Futures_Continuous_Contracts_1min/ZWT.csv.gz', None) kwargs={}\n",
      "args=('s3://default00-bucket/kibot/All_Futures_Continuous_Contracts_1min/ZWT.csv.gz', None) kwargs={}\n",
      "Reading file_name='s3://default00-bucket/kibot/All_Futures_Continuous_Contracts_1min/ZWT.csv.gz' nrows=None\n",
      "args=('s3://default00-bucket/kibot/All_Futures_Continuous_Contracts_1min/GC.csv.gz', None) kwargs={}\n",
      "args=('s3://default00-bucket/kibot/All_Futures_Continuous_Contracts_1min/GC.csv.gz', None) kwargs={}\n",
      "Reading file_name='s3://default00-bucket/kibot/All_Futures_Continuous_Contracts_1min/GC.csv.gz' nrows=None\n"
     ]
    }
   ],
   "source": [
    "s3_path = hs3.get_path()\n",
    "kibot_path = os.path.join(s3_path, \"kibot/All_Futures_Continuous_Contracts_1min/%s.csv.gz\")\n",
    "\n",
    "minutely_price_dict_df = kut.read_multiple_symbol_data(\n",
    "    comm_list, kibot_path, nrows=None\n",
    ")\n",
    "\n",
    "daily_price_dict_df[\"CL\"].tail(2)"
   ]
  },
  {
   "cell_type": "code",
   "execution_count": null,
   "metadata": {
    "ExecuteTime": {
     "start_time": "2019-10-14T23:05:03.514Z"
    }
   },
   "outputs": [],
   "source": [
    "minutely_price_dict_df[\"CL\"].head()"
   ]
  },
  {
   "cell_type": "code",
   "execution_count": null,
   "metadata": {
    "ExecuteTime": {
     "start_time": "2019-10-14T23:05:03.517Z"
    }
   },
   "outputs": [],
   "source": [
    "# five_min_price_dict_df = {\n",
    "#     symbol: minutely_price_dict_df[symbol].resample(\"5Min\").sum()\n",
    "#     for symbol in minutely_price_dict_df.keys()\n",
    "# }"
   ]
  },
  {
   "cell_type": "markdown",
   "metadata": {},
   "source": [
    "## Top movements for a symbol"
   ]
  },
  {
   "cell_type": "code",
   "execution_count": null,
   "metadata": {
    "ExecuteTime": {
     "start_time": "2019-10-14T23:05:03.521Z"
    }
   },
   "outputs": [],
   "source": [
    "symbol = \"CL\""
   ]
  },
  {
   "cell_type": "code",
   "execution_count": null,
   "metadata": {
    "ExecuteTime": {
     "start_time": "2019-10-14T23:05:03.523Z"
    }
   },
   "outputs": [],
   "source": [
    "top_100_movements_cl_1_min = pma.get_top_movements_for_symbol(\n",
    "    minutely_price_dict_df, symbol, 'minutely'\n",
    ")"
   ]
  },
  {
   "cell_type": "code",
   "execution_count": null,
   "metadata": {
    "ExecuteTime": {
     "start_time": "2019-10-14T23:05:03.526Z"
    }
   },
   "outputs": [],
   "source": [
    "top_100_movements_cl_1_min.head()"
   ]
  },
  {
   "cell_type": "code",
   "execution_count": null,
   "metadata": {
    "ExecuteTime": {
     "start_time": "2019-10-14T23:05:03.530Z"
    }
   },
   "outputs": [],
   "source": [
    "# top_100_movements_cl_5_min = pma.get_top_movements_for_symbol(\n",
    "#     five_min_price_dict_df, symbol\n",
    "# )"
   ]
  },
  {
   "cell_type": "code",
   "execution_count": null,
   "metadata": {
    "ExecuteTime": {
     "start_time": "2019-10-14T23:05:03.533Z"
    }
   },
   "outputs": [],
   "source": [
    "# top_100_movements_cl_5_min.head()"
   ]
  },
  {
   "cell_type": "code",
   "execution_count": null,
   "metadata": {
    "ExecuteTime": {
     "start_time": "2019-10-14T23:05:03.537Z"
    }
   },
   "outputs": [],
   "source": [
    "top_100_movements_cl_1_min.plot(kind=\"bar\")\n",
    "plt.title(\n",
    "    f\"Largest price movements in a 1 min interval (in z-score space) for {symbol} symbol\"\n",
    ")\n",
    "plt.show()"
   ]
  },
  {
   "cell_type": "code",
   "execution_count": null,
   "metadata": {
    "ExecuteTime": {
     "start_time": "2019-10-14T23:05:03.539Z"
    }
   },
   "outputs": [],
   "source": [
    "print(f\"Top 100 of the price movements for {symbol} occur at the following time:\")\n",
    "print(pd.Series(top_100_movements_cl_1_min.index).dt.time.value_counts())"
   ]
  },
  {
   "cell_type": "markdown",
   "metadata": {},
   "source": [
    "## Largest movements for energy group"
   ]
  },
  {
   "cell_type": "code",
   "execution_count": null,
   "metadata": {
    "ExecuteTime": {
     "start_time": "2019-10-14T23:05:03.543Z"
    }
   },
   "outputs": [],
   "source": [
    "group = \"Energy\""
   ]
  },
  {
   "cell_type": "code",
   "execution_count": null,
   "metadata": {
    "ExecuteTime": {
     "start_time": "2019-10-14T23:05:03.548Z"
    }
   },
   "outputs": [],
   "source": [
    "commodity_symbols_kibot[group]"
   ]
  },
  {
   "cell_type": "code",
   "execution_count": null,
   "metadata": {
    "ExecuteTime": {
     "start_time": "2019-10-14T23:05:03.551Z"
    }
   },
   "outputs": [],
   "source": [
    "pma.get_top_movements_by_group(\n",
    "    minutely_price_dict_df, commodity_symbols_kibot, group, 'minutely'\n",
    ")"
   ]
  },
  {
   "cell_type": "markdown",
   "metadata": {},
   "source": [
    "## Largest movements for each group"
   ]
  },
  {
   "cell_type": "code",
   "execution_count": null,
   "metadata": {
    "ExecuteTime": {
     "start_time": "2019-10-14T23:05:03.554Z"
    }
   },
   "outputs": [],
   "source": [
    "top_100_1_min_movements_by_group = {\n",
    "    group: pma.get_top_movements_by_group(\n",
    "        minutely_price_dict_df, commodity_symbols_kibot, group, 'minutely'\n",
    "    )\n",
    "    for group in tqdm(commodity_symbols_kibot.keys())\n",
    "}"
   ]
  },
  {
   "cell_type": "code",
   "execution_count": null,
   "metadata": {
    "ExecuteTime": {
     "start_time": "2019-10-14T23:05:03.557Z"
    }
   },
   "outputs": [],
   "source": [
    "{\n",
    "    group: head_prices_group.head()\n",
    "    for group, head_prices_group in top_100_1_min_movements_by_group.items()\n",
    "}"
   ]
  },
  {
   "cell_type": "code",
   "execution_count": null,
   "metadata": {},
   "outputs": [],
   "source": []
  }
 ],
 "metadata": {
  "jupytext": {
   "text_representation": {
    "extension": ".py",
    "format_name": "percent",
    "format_version": "1.2",
    "jupytext_version": "1.2.4"
   }
  },
  "kernelspec": {
   "display_name": "Python [conda env:.conda-p1_develop] *",
   "language": "python",
   "name": "conda-env-.conda-p1_develop-py"
  },
  "language_info": {
   "codemirror_mode": {
    "name": "ipython",
    "version": 3
   },
   "file_extension": ".py",
   "mimetype": "text/x-python",
   "name": "python",
   "nbconvert_exporter": "python",
   "pygments_lexer": "ipython3",
   "version": "3.7.3"
  },
  "toc": {
   "base_numbering": 1,
   "nav_menu": {},
   "number_sections": true,
   "sideBar": true,
   "skip_h1_title": false,
   "title_cell": "Table of Contents",
   "title_sidebar": "Contents",
   "toc_cell": false,
   "toc_position": {
    "height": "calc(100% - 180px)",
    "left": "10px",
    "top": "150px",
    "width": "206.016px"
   },
   "toc_section_display": true,
   "toc_window_display": true
  }
 },
 "nbformat": 4,
 "nbformat_minor": 2
}
