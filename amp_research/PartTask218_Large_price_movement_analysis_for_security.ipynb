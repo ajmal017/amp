{
 "cells": [
  {
   "cell_type": "markdown",
   "metadata": {},
   "source": [
    "## Imports"
   ]
  },
  {
   "cell_type": "code",
   "execution_count": 1,
   "metadata": {
    "ExecuteTime": {
     "end_time": "2019-10-16T17:27:48.882662Z",
     "start_time": "2019-10-16T17:27:47.942924Z"
    }
   },
   "outputs": [],
   "source": [
    "%load_ext autoreload\n",
    "%autoreload 2\n",
    "\n",
    "import logging\n",
    "import os\n",
    "\n",
    "import pandas as pd\n",
    "from matplotlib import pyplot as plt\n",
    "\n",
    "import amp_research.price_movement_analysis as pma\n",
    "import helpers.dbg as dbg\n",
    "import helpers.env as env\n",
    "import helpers.printing as pri\n",
    "import helpers.s3 as hs3\n",
    "import vendors.kibot.utils as kut"
   ]
  },
  {
   "cell_type": "code",
   "execution_count": 2,
   "metadata": {
    "ExecuteTime": {
     "end_time": "2019-10-16T17:27:48.961778Z",
     "start_time": "2019-10-16T17:27:48.884717Z"
    }
   },
   "outputs": [
    {
     "name": "stdout",
     "output_type": "stream",
     "text": [
      "# Packages\n",
      "         python: 3.7.3\n",
      "         joblib: 0.14.0\n",
      "          numpy: 1.17.2\n",
      "         pandas: 0.25.1\n",
      "        pyarrow: 0.15.0\n",
      "          scipy: 1.3.1\n",
      "        seaborn: 0.9.0\n",
      "        sklearn: 0.21.3\n",
      "    statsmodels: 0.10.1\n",
      "# Last commits:\n",
      "  * 7058a7f Julia    PartTask218: Rename notebook for security groups                  (61 minutes ago) Wed Oct 16 16:26:52 2019  (HEAD -> PartTask218_PRICE_Large_price_movement_analysis)\n",
      "  * d6257be Julia    PartTask218: Add abs also to 1-min and 5-min returns              (   2 hours ago) Wed Oct 16 15:50:38 2019  (origin/PartTask218_PRICE_Large_price_movement_analysis)\n",
      "  * 966d4e6 saggese  PartTask218: Comments while reviewing                             (   3 hours ago) Wed Oct 16 14:27:28 2019           \n",
      "\u001b[0mWARNING: Running in Jupyter\n"
     ]
    }
   ],
   "source": [
    "print(env.get_system_signature())\n",
    "\n",
    "pri.config_notebook()\n",
    "\n",
    "dbg.init_logger(verb=logging.INFO)\n",
    "\n",
    "_LOG = logging.getLogger(__name__)"
   ]
  },
  {
   "cell_type": "markdown",
   "metadata": {},
   "source": [
    "## Helper functions"
   ]
  },
  {
   "cell_type": "code",
   "execution_count": 3,
   "metadata": {
    "ExecuteTime": {
     "end_time": "2019-10-16T17:27:48.981538Z",
     "start_time": "2019-10-16T17:27:48.963670Z"
    }
   },
   "outputs": [],
   "source": [
    "SYMBOL = \"CL\""
   ]
  },
  {
   "cell_type": "code",
   "execution_count": 4,
   "metadata": {
    "ExecuteTime": {
     "end_time": "2019-10-16T17:27:48.998012Z",
     "start_time": "2019-10-16T17:27:48.983065Z"
    }
   },
   "outputs": [],
   "source": [
    "def get_top_100(series):\n",
    "    return series.sort_values(ascending=False).head(100)"
   ]
  },
  {
   "cell_type": "markdown",
   "metadata": {},
   "source": [
    "# Load daily and minutely data"
   ]
  },
  {
   "cell_type": "code",
   "execution_count": 5,
   "metadata": {
    "ExecuteTime": {
     "end_time": "2019-10-16T17:27:49.034020Z",
     "start_time": "2019-10-16T17:27:48.999741Z"
    }
   },
   "outputs": [
    {
     "name": "stdout",
     "output_type": "stream",
     "text": [
      "args=('s3://default00-bucket/kibot/All_Futures_Continuous_Contracts_daily/CL.csv.gz',) kwargs={'nrows': None}\n"
     ]
    },
    {
     "data": {
      "text/html": [
       "<div>\n",
       "<style scoped>\n",
       "    .dataframe tbody tr th:only-of-type {\n",
       "        vertical-align: middle;\n",
       "    }\n",
       "\n",
       "    .dataframe tbody tr th {\n",
       "        vertical-align: top;\n",
       "    }\n",
       "\n",
       "    .dataframe thead th {\n",
       "        text-align: right;\n",
       "    }\n",
       "</style>\n",
       "<table border=\"1\" class=\"dataframe\">\n",
       "  <thead>\n",
       "    <tr style=\"text-align: right;\">\n",
       "      <th></th>\n",
       "      <th>open</th>\n",
       "      <th>high</th>\n",
       "      <th>low</th>\n",
       "      <th>close</th>\n",
       "      <th>vol</th>\n",
       "    </tr>\n",
       "    <tr>\n",
       "      <th>date</th>\n",
       "      <th></th>\n",
       "      <th></th>\n",
       "      <th></th>\n",
       "      <th></th>\n",
       "      <th></th>\n",
       "    </tr>\n",
       "  </thead>\n",
       "  <tbody>\n",
       "    <tr>\n",
       "      <td>2019-07-18</td>\n",
       "      <td>56.72</td>\n",
       "      <td>57.45</td>\n",
       "      <td>54.85</td>\n",
       "      <td>55.42</td>\n",
       "      <td>764491</td>\n",
       "    </tr>\n",
       "    <tr>\n",
       "      <td>2019-07-19</td>\n",
       "      <td>55.84</td>\n",
       "      <td>56.49</td>\n",
       "      <td>55.12</td>\n",
       "      <td>55.76</td>\n",
       "      <td>710948</td>\n",
       "    </tr>\n",
       "  </tbody>\n",
       "</table>\n",
       "</div>"
      ],
      "text/plain": [
       "             open   high    low  close     vol\n",
       "date                                          \n",
       "2019-07-18  56.72  57.45  54.85  55.42  764491\n",
       "2019-07-19  55.84  56.49  55.12  55.76  710948"
      ]
     },
     "execution_count": 5,
     "metadata": {},
     "output_type": "execute_result"
    }
   ],
   "source": [
    "# Daily data.\n",
    "s3_path = hs3.get_path()\n",
    "kibot_path = os.path.join(\n",
    "    s3_path, \"kibot/All_Futures_Continuous_Contracts_daily/%s.csv.gz\"\n",
    ")\n",
    "file_name = kibot_path % SYMBOL\n",
    "\n",
    "daily_prices = kut.read_data(file_name, nrows=None)\n",
    "\n",
    "daily_prices.tail(2)"
   ]
  },
  {
   "cell_type": "code",
   "execution_count": 6,
   "metadata": {
    "ExecuteTime": {
     "end_time": "2019-10-16T17:27:57.817079Z",
     "start_time": "2019-10-16T17:27:49.036325Z"
    }
   },
   "outputs": [
    {
     "name": "stdout",
     "output_type": "stream",
     "text": [
      "args=('s3://default00-bucket/kibot/All_Futures_Continuous_Contracts_1min/CL.csv.gz',) kwargs={'nrows': None}\n"
     ]
    },
    {
     "data": {
      "text/html": [
       "<div>\n",
       "<style scoped>\n",
       "    .dataframe tbody tr th:only-of-type {\n",
       "        vertical-align: middle;\n",
       "    }\n",
       "\n",
       "    .dataframe tbody tr th {\n",
       "        vertical-align: top;\n",
       "    }\n",
       "\n",
       "    .dataframe thead th {\n",
       "        text-align: right;\n",
       "    }\n",
       "</style>\n",
       "<table border=\"1\" class=\"dataframe\">\n",
       "  <thead>\n",
       "    <tr style=\"text-align: right;\">\n",
       "      <th></th>\n",
       "      <th>open</th>\n",
       "      <th>high</th>\n",
       "      <th>low</th>\n",
       "      <th>close</th>\n",
       "      <th>vol</th>\n",
       "      <th>time</th>\n",
       "    </tr>\n",
       "    <tr>\n",
       "      <th>datetime</th>\n",
       "      <th></th>\n",
       "      <th></th>\n",
       "      <th></th>\n",
       "      <th></th>\n",
       "      <th></th>\n",
       "      <th></th>\n",
       "    </tr>\n",
       "  </thead>\n",
       "  <tbody>\n",
       "    <tr>\n",
       "      <td>2019-07-19 16:58:00</td>\n",
       "      <td>55.89</td>\n",
       "      <td>55.93</td>\n",
       "      <td>55.88</td>\n",
       "      <td>55.92</td>\n",
       "      <td>49</td>\n",
       "      <td>16:58:00</td>\n",
       "    </tr>\n",
       "    <tr>\n",
       "      <td>2019-07-19 16:59:00</td>\n",
       "      <td>55.91</td>\n",
       "      <td>55.92</td>\n",
       "      <td>55.86</td>\n",
       "      <td>55.86</td>\n",
       "      <td>131</td>\n",
       "      <td>16:59:00</td>\n",
       "    </tr>\n",
       "  </tbody>\n",
       "</table>\n",
       "</div>"
      ],
      "text/plain": [
       "                      open   high    low  close  vol      time\n",
       "datetime                                                      \n",
       "2019-07-19 16:58:00  55.89  55.93  55.88  55.92   49  16:58:00\n",
       "2019-07-19 16:59:00  55.91  55.92  55.86  55.86  131  16:59:00"
      ]
     },
     "execution_count": 6,
     "metadata": {},
     "output_type": "execute_result"
    }
   ],
   "source": [
    "# Minute data.\n",
    "s3_path = hs3.get_path()\n",
    "kibot_path = os.path.join(\n",
    "    s3_path, \"kibot/All_Futures_Continuous_Contracts_1min/%s.csv.gz\"\n",
    ")\n",
    "file_name = kibot_path % SYMBOL\n",
    "minutely_prices = kut.read_data(file_name, nrows=None)\n",
    "\n",
    "minutely_prices.tail(2)"
   ]
  },
  {
   "cell_type": "code",
   "execution_count": 7,
   "metadata": {
    "ExecuteTime": {
     "end_time": "2019-10-16T17:27:58.341133Z",
     "start_time": "2019-10-16T17:27:57.818772Z"
    }
   },
   "outputs": [],
   "source": [
    "# TODO(Julia): Should we move the code to downsample in kut?\n",
    "five_min_prices = minutely_prices.resample(\"5Min\").last()"
   ]
  },
  {
   "cell_type": "code",
   "execution_count": 8,
   "metadata": {
    "ExecuteTime": {
     "end_time": "2019-10-16T17:27:58.366301Z",
     "start_time": "2019-10-16T17:27:58.342688Z"
    }
   },
   "outputs": [
    {
     "data": {
      "text/html": [
       "<div>\n",
       "<style scoped>\n",
       "    .dataframe tbody tr th:only-of-type {\n",
       "        vertical-align: middle;\n",
       "    }\n",
       "\n",
       "    .dataframe tbody tr th {\n",
       "        vertical-align: top;\n",
       "    }\n",
       "\n",
       "    .dataframe thead th {\n",
       "        text-align: right;\n",
       "    }\n",
       "</style>\n",
       "<table border=\"1\" class=\"dataframe\">\n",
       "  <thead>\n",
       "    <tr style=\"text-align: right;\">\n",
       "      <th></th>\n",
       "      <th>open</th>\n",
       "      <th>high</th>\n",
       "      <th>low</th>\n",
       "      <th>close</th>\n",
       "      <th>vol</th>\n",
       "      <th>time</th>\n",
       "    </tr>\n",
       "    <tr>\n",
       "      <th>datetime</th>\n",
       "      <th></th>\n",
       "      <th></th>\n",
       "      <th></th>\n",
       "      <th></th>\n",
       "      <th></th>\n",
       "      <th></th>\n",
       "    </tr>\n",
       "  </thead>\n",
       "  <tbody>\n",
       "    <tr>\n",
       "      <td>2009-09-27 18:00:00</td>\n",
       "      <td>66.39</td>\n",
       "      <td>66.46</td>\n",
       "      <td>66.39</td>\n",
       "      <td>66.46</td>\n",
       "      <td>14.0</td>\n",
       "      <td>18:04:00</td>\n",
       "    </tr>\n",
       "    <tr>\n",
       "      <td>2009-09-27 18:05:00</td>\n",
       "      <td>66.39</td>\n",
       "      <td>66.39</td>\n",
       "      <td>66.37</td>\n",
       "      <td>66.38</td>\n",
       "      <td>4.0</td>\n",
       "      <td>18:09:00</td>\n",
       "    </tr>\n",
       "    <tr>\n",
       "      <td>2009-09-27 18:10:00</td>\n",
       "      <td>66.37</td>\n",
       "      <td>66.39</td>\n",
       "      <td>66.37</td>\n",
       "      <td>66.39</td>\n",
       "      <td>5.0</td>\n",
       "      <td>18:14:00</td>\n",
       "    </tr>\n",
       "    <tr>\n",
       "      <td>2009-09-27 18:15:00</td>\n",
       "      <td>66.41</td>\n",
       "      <td>66.41</td>\n",
       "      <td>66.38</td>\n",
       "      <td>66.38</td>\n",
       "      <td>6.0</td>\n",
       "      <td>18:19:00</td>\n",
       "    </tr>\n",
       "    <tr>\n",
       "      <td>2009-09-27 18:20:00</td>\n",
       "      <td>66.32</td>\n",
       "      <td>66.32</td>\n",
       "      <td>66.30</td>\n",
       "      <td>66.30</td>\n",
       "      <td>5.0</td>\n",
       "      <td>18:24:00</td>\n",
       "    </tr>\n",
       "  </tbody>\n",
       "</table>\n",
       "</div>"
      ],
      "text/plain": [
       "                      open   high    low  close   vol      time\n",
       "datetime                                                       \n",
       "2009-09-27 18:00:00  66.39  66.46  66.39  66.46  14.0  18:04:00\n",
       "2009-09-27 18:05:00  66.39  66.39  66.37  66.38   4.0  18:09:00\n",
       "2009-09-27 18:10:00  66.37  66.39  66.37  66.39   5.0  18:14:00\n",
       "2009-09-27 18:15:00  66.41  66.41  66.38  66.38   6.0  18:19:00\n",
       "2009-09-27 18:20:00  66.32  66.32  66.30  66.30   5.0  18:24:00"
      ]
     },
     "execution_count": 8,
     "metadata": {},
     "output_type": "execute_result"
    }
   ],
   "source": [
    "five_min_prices.head()"
   ]
  },
  {
   "cell_type": "markdown",
   "metadata": {},
   "source": [
    "# Daily price movements"
   ]
  },
  {
   "cell_type": "code",
   "execution_count": 10,
   "metadata": {
    "ExecuteTime": {
     "end_time": "2019-10-16T17:28:54.152739Z",
     "start_time": "2019-10-16T17:28:54.126148Z"
    }
   },
   "outputs": [
    {
     "data": {
      "text/plain": [
       "date\n",
       "2014-12-01    3.655719\n",
       "2001-11-16    3.645029\n",
       "2001-09-25    3.515338\n",
       "2002-03-18    3.365737\n",
       "2011-05-06    3.333398\n",
       "2001-09-14    3.258836\n",
       "2003-07-23    3.011276\n",
       "1999-10-11    2.983219\n",
       "1998-12-17    2.981000\n",
       "1998-01-27    2.967284\n",
       "Name: ret_0, dtype: float64"
      ]
     },
     "execution_count": 10,
     "metadata": {},
     "output_type": "execute_result"
    }
   ],
   "source": [
    "tau = 18\n",
    "zscored_rets = pma.get_zscored_returns(daily_prices, \"daily\", tau=tau)\n",
    "\n",
    "abs_zscored_rets = zscored_rets.abs()\n",
    "pos_zscored_rets = zscored_rets.loc[zscored_rets >= 0]\n",
    "neg_zscored_rets = zscored_rets.loc[zscored_rets < 0]\n",
    "\n",
    "top_daily_movements = get_top_100(abs_zscored_rets)\n",
    "\n",
    "top_daily_movements.head(10)"
   ]
  },
  {
   "cell_type": "code",
   "execution_count": 11,
   "metadata": {
    "ExecuteTime": {
     "end_time": "2019-10-16T17:28:54.524396Z",
     "start_time": "2019-10-16T17:28:54.154326Z"
    }
   },
   "outputs": [
    {
     "data": {
      "image/png": "[encoded data removed]",
      "text/plain": [
       "<Figure size 1440x360 with 1 Axes>"
      ]
     },
     "metadata": {},
     "output_type": "display_data"
    }
   ],
   "source": [
    "top_daily_movements.index.year.value_counts(sort=False).plot(kind=\"bar\")\n",
    "plt.title(\"How many of the top-100 price movements occured during each year\")\n",
    "plt.show()"
   ]
  },
  {
   "cell_type": "code",
   "execution_count": 12,
   "metadata": {
    "ExecuteTime": {
     "end_time": "2019-10-16T17:28:54.580080Z",
     "start_time": "2019-10-16T17:28:54.526150Z"
    }
   },
   "outputs": [
    {
     "data": {
      "text/plain": [
       "date        date      \n",
       "1996-12-31  1996-09-03    2.141749\n",
       "            1996-10-15    1.559034\n",
       "            1996-12-03    1.502157\n",
       "            1996-09-12    1.434554\n",
       "            1996-08-30    1.367639\n",
       "Name: ret_0, dtype: float64"
      ]
     },
     "execution_count": 12,
     "metadata": {},
     "output_type": "execute_result"
    }
   ],
   "source": [
    "top_daily_movements_by_year = zscored_rets.resample(\"Y\").apply(get_top_100)\n",
    "top_daily_movements_by_year.head()"
   ]
  },
  {
   "cell_type": "code",
   "execution_count": 13,
   "metadata": {
    "ExecuteTime": {
     "end_time": "2019-10-16T17:28:54.603853Z",
     "start_time": "2019-10-16T17:28:54.581681Z"
    },
    "scrolled": true
   },
   "outputs": [
    {
     "data": {
      "text/plain": [
       "date        date      \n",
       "2019-12-31  2019-02-01   -0.203385\n",
       "            2019-04-16   -0.233868\n",
       "            2019-05-20   -0.248263\n",
       "            2019-06-18   -0.312890\n",
       "            2019-06-12   -0.343229\n",
       "Name: ret_0, dtype: float64"
      ]
     },
     "execution_count": 13,
     "metadata": {},
     "output_type": "execute_result"
    }
   ],
   "source": [
    "top_daily_movements_by_year.tail()"
   ]
  },
  {
   "cell_type": "code",
   "execution_count": 27,
   "metadata": {
    "ExecuteTime": {
     "end_time": "2019-10-16T17:31:16.626194Z",
     "start_time": "2019-10-16T17:31:16.573405Z"
    }
   },
   "outputs": [
    {
     "data": {
      "text/plain": [
       "date        date      \n",
       "1996-12-31  1996-09-03    2.141749\n",
       "            1996-10-15    1.559034\n",
       "            1996-12-03    1.502157\n",
       "            1996-09-12    1.434554\n",
       "            1996-08-30    1.367639\n",
       "Name: ret_0, dtype: float64"
      ]
     },
     "execution_count": 27,
     "metadata": {},
     "output_type": "execute_result"
    }
   ],
   "source": [
    "top_daily_pos_movements_by_year = pos_zscored_rets.resample(\"Y\").apply(get_top_100)\n",
    "top_daily_pos_movements_by_year.head()"
   ]
  },
  {
   "cell_type": "code",
   "execution_count": 28,
   "metadata": {
    "ExecuteTime": {
     "end_time": "2019-10-16T17:31:22.043689Z",
     "start_time": "2019-10-16T17:31:21.991557Z"
    }
   },
   "outputs": [
    {
     "data": {
      "text/plain": [
       "date        date      \n",
       "1996-12-31  1996-12-05   -0.036022\n",
       "            1996-10-07   -0.062233\n",
       "            1996-09-04   -0.096371\n",
       "            1996-09-05   -0.122438\n",
       "            1996-12-09   -0.125265\n",
       "Name: ret_0, dtype: float64"
      ]
     },
     "execution_count": 28,
     "metadata": {},
     "output_type": "execute_result"
    }
   ],
   "source": [
    "top_daily_neg_movements_by_year = neg_zscored_rets.resample(\"Y\").apply(get_top_100)\n",
    "top_daily_neg_movements_by_year.head()"
   ]
  },
  {
   "cell_type": "markdown",
   "metadata": {},
   "source": [
    "# 1-min movements"
   ]
  },
  {
   "cell_type": "code",
   "execution_count": 14,
   "metadata": {
    "ExecuteTime": {
     "end_time": "2019-10-16T17:28:55.727835Z",
     "start_time": "2019-10-16T17:28:54.605598Z"
    }
   },
   "outputs": [],
   "source": [
    "tau = 18\n",
    "\n",
    "zscored_1min_rets = pma.get_zscored_returns(minutely_prices, \"minutely\", tau=tau)\n",
    "\n",
    "abs_zscored_1min_rets = zscored_1min_rets.abs()\n",
    "pos_zscored_1min_rets = zscored_1min_rets.loc[zscored_1min_rets >= 0]\n",
    "neg_zscored_1min_rets = zscored_1min_rets.loc[zscored_1min_rets < 0]\n",
    "\n",
    "top_1min_movements = get_top_100(zscored_1min_rets)"
   ]
  },
  {
   "cell_type": "code",
   "execution_count": 15,
   "metadata": {
    "ExecuteTime": {
     "end_time": "2019-10-16T17:28:55.748486Z",
     "start_time": "2019-10-16T17:28:55.729336Z"
    }
   },
   "outputs": [
    {
     "data": {
      "text/plain": [
       "datetime\n",
       "2011-02-17 01:16:00    4.300486\n",
       "2015-12-16 18:00:00    4.300040\n",
       "2016-03-16 18:00:00    4.298413\n",
       "2017-01-17 19:19:00    4.298211\n",
       "2016-12-15 19:04:00    4.296084\n",
       "Name: ret_0, dtype: float64"
      ]
     },
     "execution_count": 15,
     "metadata": {},
     "output_type": "execute_result"
    }
   ],
   "source": [
    "top_1min_movements.head()"
   ]
  },
  {
   "cell_type": "code",
   "execution_count": 16,
   "metadata": {
    "ExecuteTime": {
     "end_time": "2019-10-16T17:28:59.205172Z",
     "start_time": "2019-10-16T17:28:55.749902Z"
    }
   },
   "outputs": [
    {
     "data": {
      "image/png": "[encoded data removed]",
      "text/plain": [
       "<Figure size 1440x360 with 1 Axes>"
      ]
     },
     "metadata": {},
     "output_type": "display_data"
    }
   ],
   "source": [
    "top_1min_movements.plot(kind=\"bar\")\n",
    "plt.title(\n",
    "    f\"Largest price movements in a 1 min interval (in z-score space) for the {SYMBOL} symbol\"\n",
    ")\n",
    "plt.show()"
   ]
  },
  {
   "cell_type": "code",
   "execution_count": 17,
   "metadata": {
    "ExecuteTime": {
     "end_time": "2019-10-16T17:28:59.730818Z",
     "start_time": "2019-10-16T17:28:59.207216Z"
    }
   },
   "outputs": [
    {
     "data": {
      "text/plain": [
       "datetime    datetime           \n",
       "2009-12-31  2009-12-08 16:31:00    4.201319\n",
       "            2009-11-22 18:00:00    4.163986\n",
       "            2009-11-17 16:30:00    4.156503\n",
       "            2009-12-16 10:31:00    4.154353\n",
       "            2009-10-29 08:31:00    4.139635\n",
       "Name: ret_0, dtype: float64"
      ]
     },
     "execution_count": 17,
     "metadata": {},
     "output_type": "execute_result"
    }
   ],
   "source": [
    "top_1min_movements_by_year = zscored_1min_rets.resample(\"Y\").apply(get_top_100)\n",
    "top_1min_movements_by_year.head()"
   ]
  },
  {
   "cell_type": "code",
   "execution_count": 23,
   "metadata": {
    "ExecuteTime": {
     "end_time": "2019-10-16T17:30:09.769154Z",
     "start_time": "2019-10-16T17:30:09.455895Z"
    }
   },
   "outputs": [
    {
     "data": {
      "text/plain": [
       "datetime    datetime           \n",
       "2009-12-31  2009-12-08 16:31:00    4.201319\n",
       "            2009-11-22 18:00:00    4.163986\n",
       "            2009-11-17 16:30:00    4.156503\n",
       "            2009-12-16 10:31:00    4.154353\n",
       "            2009-10-29 08:31:00    4.139635\n",
       "Name: ret_0, dtype: float64"
      ]
     },
     "execution_count": 23,
     "metadata": {},
     "output_type": "execute_result"
    }
   ],
   "source": [
    "top_1min_pos_movements_by_year = pos_zscored_1min_rets.resample(\"Y\").apply(get_top_100)\n",
    "top_1min_pos_movements_by_year.head()"
   ]
  },
  {
   "cell_type": "code",
   "execution_count": 24,
   "metadata": {
    "ExecuteTime": {
     "end_time": "2019-10-16T17:30:22.212319Z",
     "start_time": "2019-10-16T17:30:21.971666Z"
    }
   },
   "outputs": [
    {
     "data": {
      "text/plain": [
       "datetime    datetime           \n",
       "2009-12-31  2009-11-06 09:02:00   -0.048218\n",
       "            2009-11-06 08:43:00   -0.048229\n",
       "            2009-11-22 18:10:00   -0.050712\n",
       "            2009-12-23 10:35:00   -0.052191\n",
       "            2009-11-06 09:09:00   -0.057220\n",
       "Name: ret_0, dtype: float64"
      ]
     },
     "execution_count": 24,
     "metadata": {},
     "output_type": "execute_result"
    }
   ],
   "source": [
    "top_1min_neg_movements_by_year = neg_zscored_1min_rets.resample(\"Y\").apply(get_top_100)\n",
    "top_1min_neg_movements_by_year.head()"
   ]
  },
  {
   "cell_type": "markdown",
   "metadata": {},
   "source": [
    "# 5-min movements"
   ]
  },
  {
   "cell_type": "code",
   "execution_count": 18,
   "metadata": {
    "ExecuteTime": {
     "end_time": "2019-10-16T17:28:59.985341Z",
     "start_time": "2019-10-16T17:28:59.732532Z"
    }
   },
   "outputs": [],
   "source": [
    "tau = 18\n",
    "\n",
    "zscored_5min_rets = pma.get_zscored_returns(five_min_prices, \"minutely\", tau=tau)\n",
    "abs_zscored_5min_rets = zscored_5min_rets.abs()\n",
    "pos_zscored_5min_rets = zscored_5min_rets.loc[zscored_5min_rets >= 0]\n",
    "neg_zscored_5min_rets = zscored_5min_rets.loc[zscored_5min_rets < 0]\n",
    "\n",
    "top_5min_movements = get_top_100(zscored_5min_rets)"
   ]
  },
  {
   "cell_type": "code",
   "execution_count": 19,
   "metadata": {
    "ExecuteTime": {
     "end_time": "2019-10-16T17:29:00.005462Z",
     "start_time": "2019-10-16T17:28:59.986861Z"
    }
   },
   "outputs": [
    {
     "data": {
      "text/plain": [
       "datetime\n",
       "2011-02-17 01:15:00    4.292089\n",
       "2018-03-20 01:45:00    4.250278\n",
       "2009-12-04 08:30:00    4.227688\n",
       "2017-04-26 10:30:00    4.211947\n",
       "2015-05-18 02:30:00    4.188955\n",
       "Name: ret_0, dtype: float64"
      ]
     },
     "execution_count": 19,
     "metadata": {},
     "output_type": "execute_result"
    }
   ],
   "source": [
    "top_5min_movements.head()"
   ]
  },
  {
   "cell_type": "code",
   "execution_count": 20,
   "metadata": {
    "ExecuteTime": {
     "end_time": "2019-10-16T17:29:00.027507Z",
     "start_time": "2019-10-16T17:29:00.007160Z"
    }
   },
   "outputs": [
    {
     "name": "stdout",
     "output_type": "stream",
     "text": [
      "Top 100 of the 5-min price movements for CL occur at the following time:\n",
      "10:30:00    12\n",
      "16:30:00    11\n",
      "08:30:00     8\n",
      "09:00:00     3\n",
      "22:15:00     2\n",
      "05:55:00     2\n",
      "03:00:00     2\n",
      "08:00:00     2\n",
      "00:55:00     2\n",
      "10:15:00     2\n",
      "03:15:00     2\n",
      "03:25:00     2\n",
      "02:30:00     2\n",
      "09:05:00     2\n",
      "05:05:00     1\n",
      "02:10:00     1\n",
      "01:45:00     1\n",
      "04:35:00     1\n",
      "21:40:00     1\n",
      "02:05:00     1\n",
      "07:45:00     1\n",
      "07:40:00     1\n",
      "10:35:00     1\n",
      "07:20:00     1\n",
      "08:20:00     1\n",
      "21:50:00     1\n",
      "03:30:00     1\n",
      "01:20:00     1\n",
      "04:10:00     1\n",
      "20:40:00     1\n",
      "10:45:00     1\n",
      "03:35:00     1\n",
      "05:45:00     1\n",
      "00:20:00     1\n",
      "02:35:00     1\n",
      "06:55:00     1\n",
      "02:45:00     1\n",
      "09:20:00     1\n",
      "08:15:00     1\n",
      "04:40:00     1\n",
      "21:20:00     1\n",
      "11:50:00     1\n",
      "03:05:00     1\n",
      "05:00:00     1\n",
      "07:55:00     1\n",
      "00:30:00     1\n",
      "05:40:00     1\n",
      "06:05:00     1\n",
      "21:00:00     1\n",
      "07:00:00     1\n",
      "04:00:00     1\n",
      "22:40:00     1\n",
      "04:25:00     1\n",
      "00:40:00     1\n",
      "11:00:00     1\n",
      "01:15:00     1\n",
      "00:25:00     1\n",
      "02:15:00     1\n",
      "11:25:00     1\n",
      "09:45:00     1\n",
      "Name: datetime, dtype: int64\n"
     ]
    }
   ],
   "source": [
    "print(\n",
    "    f\"Top 100 of the 5-min price movements for {SYMBOL} occur at the following time:\"\n",
    ")\n",
    "print(pd.Series(top_5min_movements.index).dt.time.value_counts())"
   ]
  },
  {
   "cell_type": "code",
   "execution_count": 21,
   "metadata": {
    "ExecuteTime": {
     "end_time": "2019-10-16T17:29:00.173165Z",
     "start_time": "2019-10-16T17:29:00.029133Z"
    }
   },
   "outputs": [
    {
     "data": {
      "text/plain": [
       "datetime    datetime           \n",
       "2009-12-31  2009-12-04 08:30:00    4.227688\n",
       "            2009-12-16 10:30:00    4.026082\n",
       "            2009-10-21 10:30:00    3.899341\n",
       "            2009-11-04 10:30:00    3.856698\n",
       "            2009-10-29 08:30:00    3.805263\n",
       "Name: ret_0, dtype: float64"
      ]
     },
     "execution_count": 21,
     "metadata": {},
     "output_type": "execute_result"
    }
   ],
   "source": [
    "top_5min_movements_by_year = zscored_5min_rets.resample(\"Y\").apply(get_top_100)\n",
    "top_5min_movements_by_year.head()"
   ]
  },
  {
   "cell_type": "code",
   "execution_count": 22,
   "metadata": {
    "ExecuteTime": {
     "end_time": "2019-10-16T17:29:00.197704Z",
     "start_time": "2019-10-16T17:29:00.174649Z"
    },
    "scrolled": true
   },
   "outputs": [
    {
     "data": {
      "text/plain": [
       "datetime    datetime           \n",
       "2019-12-31  2019-03-11 19:15:00    3.151518\n",
       "            2019-01-02 09:55:00    3.142725\n",
       "            2019-03-05 02:00:00    3.127936\n",
       "            2019-05-06 13:15:00    3.121631\n",
       "            2019-07-03 02:15:00    3.116008\n",
       "Name: ret_0, dtype: float64"
      ]
     },
     "execution_count": 22,
     "metadata": {},
     "output_type": "execute_result"
    }
   ],
   "source": [
    "top_5min_movements_by_year.tail()"
   ]
  },
  {
   "cell_type": "code",
   "execution_count": 25,
   "metadata": {
    "ExecuteTime": {
     "end_time": "2019-10-16T17:31:16.626194Z",
     "start_time": "2019-10-16T17:31:16.573405Z"
    },
    "scrolled": true
   },
   "outputs": [
    {
     "data": {
      "text/plain": [
       "datetime    datetime           \n",
       "2009-12-31  2009-12-04 08:30:00    4.227688\n",
       "            2009-12-16 10:30:00    4.026082\n",
       "            2009-10-21 10:30:00    3.899341\n",
       "            2009-11-04 10:30:00    3.856698\n",
       "            2009-10-29 08:30:00    3.805263\n",
       "Name: ret_0, dtype: float64"
      ]
     },
     "execution_count": 25,
     "metadata": {},
     "output_type": "execute_result"
    }
   ],
   "source": [
    "top_5min_pos_movements_by_year = pos_zscored_5min_rets.resample(\"Y\").apply(get_top_100)\n",
    "top_5min_pos_movements_by_year.head()"
   ]
  },
  {
   "cell_type": "code",
   "execution_count": 26,
   "metadata": {
    "ExecuteTime": {
     "end_time": "2019-10-16T17:31:22.043689Z",
     "start_time": "2019-10-16T17:31:21.991557Z"
    }
   },
   "outputs": [
    {
     "data": {
      "text/plain": [
       "datetime    datetime           \n",
       "2009-12-31  2009-11-06 09:55:00   -0.042451\n",
       "            2009-10-07 11:15:00   -0.043685\n",
       "            2009-11-27 10:25:00   -0.043909\n",
       "            2009-10-02 09:25:00   -0.045280\n",
       "            2009-10-27 11:15:00   -0.045293\n",
       "Name: ret_0, dtype: float64"
      ]
     },
     "execution_count": 26,
     "metadata": {},
     "output_type": "execute_result"
    }
   ],
   "source": [
    "top_5min_neg_movements_by_year = neg_zscored_5min_rets.resample(\"Y\").apply(get_top_100)\n",
    "top_5min_neg_movements_by_year.head()"
   ]
  },
  {
   "cell_type": "code",
   "execution_count": null,
   "metadata": {},
   "outputs": [],
   "source": []
  }
 ],
 "metadata": {
  "jupytext": {
   "text_representation": {
    "extension": ".py",
    "format_name": "percent",
    "format_version": "1.2",
    "jupytext_version": "1.2.4"
   }
  },
  "kernelspec": {
   "display_name": "Python [conda env:.conda-p1_develop] *",
   "language": "python",
   "name": "conda-env-.conda-p1_develop-py"
  },
  "language_info": {
   "codemirror_mode": {
    "name": "ipython",
    "version": 3
   },
   "file_extension": ".py",
   "mimetype": "text/x-python",
   "name": "python",
   "nbconvert_exporter": "python",
   "pygments_lexer": "ipython3",
   "version": "3.7.3"
  },
  "toc": {
   "base_numbering": 1,
   "nav_menu": {},
   "number_sections": true,
   "sideBar": true,
   "skip_h1_title": false,
   "title_cell": "Table of Contents",
   "title_sidebar": "Contents",
   "toc_cell": false,
   "toc_position": {
    "height": "calc(100% - 180px)",
    "left": "10px",
    "top": "150px",
    "width": "206.01px"
   },
   "toc_section_display": true,
   "toc_window_display": true
  }
 },
 "nbformat": 4,
 "nbformat_minor": 2
}
