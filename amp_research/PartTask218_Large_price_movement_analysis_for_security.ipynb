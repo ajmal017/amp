{
 "cells": [
  {
   "cell_type": "markdown",
   "metadata": {},
   "source": [
    "## Imports"
   ]
  },
  {
   "cell_type": "code",
   "execution_count": null,
   "metadata": {},
   "outputs": [],
   "source": [
    "%load_ext autoreload\n",
    "%autoreload 2\n",
    "\n",
    "import logging\n",
    "import os\n",
    "\n",
    "import pandas as pd\n",
    "from matplotlib import pyplot as plt\n",
    "\n",
    "import amp_research.price_movement_analysis as pma\n",
    "import core.signal_processing as sigp\n",
    "import helpers.dbg as dbg\n",
    "import helpers.env as env\n",
    "import helpers.printing as pri\n",
    "import helpers.s3 as hs3\n",
    "import vendors.kibot.utils as kut"
   ]
  },
  {
   "cell_type": "code",
   "execution_count": 2,
   "metadata": {
    "ExecuteTime": {
     "end_time": "2019-10-16T19:35:32.869351Z",
     "start_time": "2019-10-16T19:35:32.830012Z"
    }
   },
   "outputs": [
    {
     "name": "stdout",
     "output_type": "stream",
     "text": [
      "# Packages\n",
      "         python: 3.7.3\n",
      "         joblib: 0.13.2\n",
      "          numpy: 1.16.4\n",
      "         pandas: 0.24.2\n",
      "        pyarrow: - (can't import)\n",
      "          scipy: 1.3.0\n",
      "        seaborn: 0.9.0\n",
      "        sklearn: 0.21.2\n",
      "    statsmodels: 0.10.0\n",
      "# Last commits:\n",
      "  * d8bd788 Julia    PartTask218: Print in descending order for negative values, drop nans ( 7 minutes ago) Wed Oct 16 19:28:28 2019  (HEAD -> PartTask218_PRICE_Large_price_movement_analysis, origin/PartTask218_PRICE_Large_price_movement_analysis)\n",
      "  * 2ed8da1 Julia    PartTask218: Drop nans using core.explore                         (10 minutes ago) Wed Oct 16 19:25:59 2019           \n",
      "  * 4b089e0 Julia    PartTask218: Change order to ascending for negative movements     (35 minutes ago) Wed Oct 16 19:00:42 2019           \n",
      "\u001b[0mWARNING: Running in Jupyter\n"
     ]
    }
   ],
   "source": [
    "print(env.get_system_signature())\n",
    "\n",
    "pri.config_notebook()\n",
    "\n",
    "dbg.init_logger(verb=logging.INFO)\n",
    "\n",
    "_LOG = logging.getLogger(__name__)"
   ]
  },
  {
   "cell_type": "markdown",
   "metadata": {},
   "source": [
    "## Helper functions"
   ]
  },
  {
   "cell_type": "code",
   "execution_count": 3,
   "metadata": {
    "ExecuteTime": {
     "end_time": "2019-10-16T19:35:32.887442Z",
     "start_time": "2019-10-16T19:35:32.871586Z"
    }
   },
   "outputs": [],
   "source": [
    "SYMBOL = \"CL\""
   ]
  },
  {
   "cell_type": "code",
   "execution_count": null,
   "metadata": {
    "lines_to_next_cell": 2
   },
   "outputs": [],
   "source": [
    "def get_top_100(series, ascending=False):\n",
    "    # Cannot use this: series = coex.drop_na(pd.DataFrame(series))['ret_0']\n",
    "    # with resample\n",
    "    series = series.dropna()\n",
    "    return series.sort_values(ascending=ascending).head(100)\n",
    "\n",
    "\n",
    "def get_zscored_kibot_returns(\n",
    "    prices: pd.DataFrame, period: str, tau: int, demean: bool = False\n",
    "):\n",
    "    # Compute returns.\n",
    "    rets = pma.compute_kibot_returns(prices, period)\n",
    "    # z-score.\n",
    "    zscored_rets = sigp.rolling_zscore(rets, tau, demean=demean)\n",
    "    _LOG.debug(\"zscored_rets=\\n%s\", zscored_rets.head())\n",
    "    return zscored_rets"
   ]
  },
  {
   "cell_type": "markdown",
   "metadata": {},
   "source": [
    "# Load daily and minutely data"
   ]
  },
  {
   "cell_type": "code",
   "execution_count": 5,
   "metadata": {
    "ExecuteTime": {
     "end_time": "2019-10-16T19:35:32.985573Z",
     "start_time": "2019-10-16T19:35:32.904944Z"
    }
   },
   "outputs": [
    {
     "name": "stdout",
     "output_type": "stream",
     "text": [
      "args=('s3://default00-bucket/kibot/All_Futures_Continuous_Contracts_daily/CL.csv.gz',) kwargs={'nrows': None}\n"
     ]
    },
    {
     "data": {
      "text/html": [
       "<div>\n",
       "<style scoped>\n",
       "    .dataframe tbody tr th:only-of-type {\n",
       "        vertical-align: middle;\n",
       "    }\n",
       "\n",
       "    .dataframe tbody tr th {\n",
       "        vertical-align: top;\n",
       "    }\n",
       "\n",
       "    .dataframe thead th {\n",
       "        text-align: right;\n",
       "    }\n",
       "</style>\n",
       "<table border=\"1\" class=\"dataframe\">\n",
       "  <thead>\n",
       "    <tr style=\"text-align: right;\">\n",
       "      <th></th>\n",
       "      <th>open</th>\n",
       "      <th>high</th>\n",
       "      <th>low</th>\n",
       "      <th>close</th>\n",
       "      <th>vol</th>\n",
       "    </tr>\n",
       "    <tr>\n",
       "      <th>date</th>\n",
       "      <th></th>\n",
       "      <th></th>\n",
       "      <th></th>\n",
       "      <th></th>\n",
       "      <th></th>\n",
       "    </tr>\n",
       "  </thead>\n",
       "  <tbody>\n",
       "    <tr>\n",
       "      <th>2019-07-18</th>\n",
       "      <td>56.72</td>\n",
       "      <td>57.45</td>\n",
       "      <td>54.85</td>\n",
       "      <td>55.42</td>\n",
       "      <td>764491</td>\n",
       "    </tr>\n",
       "    <tr>\n",
       "      <th>2019-07-19</th>\n",
       "      <td>55.84</td>\n",
       "      <td>56.49</td>\n",
       "      <td>55.12</td>\n",
       "      <td>55.76</td>\n",
       "      <td>710948</td>\n",
       "    </tr>\n",
       "  </tbody>\n",
       "</table>\n",
       "</div>"
      ],
      "text/plain": [
       "             open   high    low  close     vol\n",
       "date                                          \n",
       "2019-07-18  56.72  57.45  54.85  55.42  764491\n",
       "2019-07-19  55.84  56.49  55.12  55.76  710948"
      ]
     },
     "execution_count": 5,
     "metadata": {},
     "output_type": "execute_result"
    }
   ],
   "source": [
    "# Daily data.\n",
    "s3_path = hs3.get_path()\n",
    "kibot_path = os.path.join(\n",
    "    s3_path, \"kibot/All_Futures_Continuous_Contracts_daily/%s.csv.gz\"\n",
    ")\n",
    "file_name = kibot_path % SYMBOL\n",
    "\n",
    "daily_prices = kut.read_data(file_name, nrows=None)\n",
    "\n",
    "daily_prices.tail(2)"
   ]
  },
  {
   "cell_type": "code",
   "execution_count": 6,
   "metadata": {
    "ExecuteTime": {
     "end_time": "2019-10-16T19:35:41.976857Z",
     "start_time": "2019-10-16T19:35:32.987243Z"
    }
   },
   "outputs": [
    {
     "name": "stdout",
     "output_type": "stream",
     "text": [
      "args=('s3://default00-bucket/kibot/All_Futures_Continuous_Contracts_1min/CL.csv.gz',) kwargs={'nrows': None}\n"
     ]
    },
    {
     "data": {
      "text/html": [
       "<div>\n",
       "<style scoped>\n",
       "    .dataframe tbody tr th:only-of-type {\n",
       "        vertical-align: middle;\n",
       "    }\n",
       "\n",
       "    .dataframe tbody tr th {\n",
       "        vertical-align: top;\n",
       "    }\n",
       "\n",
       "    .dataframe thead th {\n",
       "        text-align: right;\n",
       "    }\n",
       "</style>\n",
       "<table border=\"1\" class=\"dataframe\">\n",
       "  <thead>\n",
       "    <tr style=\"text-align: right;\">\n",
       "      <th></th>\n",
       "      <th>open</th>\n",
       "      <th>high</th>\n",
       "      <th>low</th>\n",
       "      <th>close</th>\n",
       "      <th>vol</th>\n",
       "      <th>time</th>\n",
       "    </tr>\n",
       "    <tr>\n",
       "      <th>datetime</th>\n",
       "      <th></th>\n",
       "      <th></th>\n",
       "      <th></th>\n",
       "      <th></th>\n",
       "      <th></th>\n",
       "      <th></th>\n",
       "    </tr>\n",
       "  </thead>\n",
       "  <tbody>\n",
       "    <tr>\n",
       "      <th>2019-07-19 16:58:00</th>\n",
       "      <td>55.89</td>\n",
       "      <td>55.93</td>\n",
       "      <td>55.88</td>\n",
       "      <td>55.92</td>\n",
       "      <td>49</td>\n",
       "      <td>16:58:00</td>\n",
       "    </tr>\n",
       "    <tr>\n",
       "      <th>2019-07-19 16:59:00</th>\n",
       "      <td>55.91</td>\n",
       "      <td>55.92</td>\n",
       "      <td>55.86</td>\n",
       "      <td>55.86</td>\n",
       "      <td>131</td>\n",
       "      <td>16:59:00</td>\n",
       "    </tr>\n",
       "  </tbody>\n",
       "</table>\n",
       "</div>"
      ],
      "text/plain": [
       "                      open   high    low  close  vol      time\n",
       "datetime                                                      \n",
       "2019-07-19 16:58:00  55.89  55.93  55.88  55.92   49  16:58:00\n",
       "2019-07-19 16:59:00  55.91  55.92  55.86  55.86  131  16:59:00"
      ]
     },
     "execution_count": 6,
     "metadata": {},
     "output_type": "execute_result"
    }
   ],
   "source": [
    "# Minute data.\n",
    "s3_path = hs3.get_path()\n",
    "kibot_path = os.path.join(\n",
    "    s3_path, \"kibot/All_Futures_Continuous_Contracts_1min/%s.csv.gz\"\n",
    ")\n",
    "file_name = kibot_path % SYMBOL\n",
    "minutely_prices = kut.read_data(file_name, nrows=None)\n",
    "\n",
    "minutely_prices.tail(2)"
   ]
  },
  {
   "cell_type": "code",
   "execution_count": 7,
   "metadata": {
    "ExecuteTime": {
     "end_time": "2019-10-16T19:35:42.684224Z",
     "start_time": "2019-10-16T19:35:41.978492Z"
    }
   },
   "outputs": [],
   "source": [
    "# TODO(Julia): Should we move the code to downsample in kut?\n",
    "five_min_prices = minutely_prices.resample(\"5Min\").last()"
   ]
  },
  {
   "cell_type": "code",
   "execution_count": 8,
   "metadata": {
    "ExecuteTime": {
     "end_time": "2019-10-16T19:35:42.709582Z",
     "start_time": "2019-10-16T19:35:42.686673Z"
    }
   },
   "outputs": [
    {
     "data": {
      "text/html": [
       "<div>\n",
       "<style scoped>\n",
       "    .dataframe tbody tr th:only-of-type {\n",
       "        vertical-align: middle;\n",
       "    }\n",
       "\n",
       "    .dataframe tbody tr th {\n",
       "        vertical-align: top;\n",
       "    }\n",
       "\n",
       "    .dataframe thead th {\n",
       "        text-align: right;\n",
       "    }\n",
       "</style>\n",
       "<table border=\"1\" class=\"dataframe\">\n",
       "  <thead>\n",
       "    <tr style=\"text-align: right;\">\n",
       "      <th></th>\n",
       "      <th>open</th>\n",
       "      <th>high</th>\n",
       "      <th>low</th>\n",
       "      <th>close</th>\n",
       "      <th>vol</th>\n",
       "      <th>time</th>\n",
       "    </tr>\n",
       "    <tr>\n",
       "      <th>datetime</th>\n",
       "      <th></th>\n",
       "      <th></th>\n",
       "      <th></th>\n",
       "      <th></th>\n",
       "      <th></th>\n",
       "      <th></th>\n",
       "    </tr>\n",
       "  </thead>\n",
       "  <tbody>\n",
       "    <tr>\n",
       "      <th>2009-09-27 18:00:00</th>\n",
       "      <td>66.39</td>\n",
       "      <td>66.46</td>\n",
       "      <td>66.39</td>\n",
       "      <td>66.46</td>\n",
       "      <td>14.0</td>\n",
       "      <td>18:04:00</td>\n",
       "    </tr>\n",
       "    <tr>\n",
       "      <th>2009-09-27 18:05:00</th>\n",
       "      <td>66.39</td>\n",
       "      <td>66.39</td>\n",
       "      <td>66.37</td>\n",
       "      <td>66.38</td>\n",
       "      <td>4.0</td>\n",
       "      <td>18:09:00</td>\n",
       "    </tr>\n",
       "    <tr>\n",
       "      <th>2009-09-27 18:10:00</th>\n",
       "      <td>66.37</td>\n",
       "      <td>66.39</td>\n",
       "      <td>66.37</td>\n",
       "      <td>66.39</td>\n",
       "      <td>5.0</td>\n",
       "      <td>18:14:00</td>\n",
       "    </tr>\n",
       "    <tr>\n",
       "      <th>2009-09-27 18:15:00</th>\n",
       "      <td>66.41</td>\n",
       "      <td>66.41</td>\n",
       "      <td>66.38</td>\n",
       "      <td>66.38</td>\n",
       "      <td>6.0</td>\n",
       "      <td>18:19:00</td>\n",
       "    </tr>\n",
       "    <tr>\n",
       "      <th>2009-09-27 18:20:00</th>\n",
       "      <td>66.32</td>\n",
       "      <td>66.32</td>\n",
       "      <td>66.30</td>\n",
       "      <td>66.30</td>\n",
       "      <td>5.0</td>\n",
       "      <td>18:24:00</td>\n",
       "    </tr>\n",
       "  </tbody>\n",
       "</table>\n",
       "</div>"
      ],
      "text/plain": [
       "                      open   high    low  close   vol      time\n",
       "datetime                                                       \n",
       "2009-09-27 18:00:00  66.39  66.46  66.39  66.46  14.0  18:04:00\n",
       "2009-09-27 18:05:00  66.39  66.39  66.37  66.38   4.0  18:09:00\n",
       "2009-09-27 18:10:00  66.37  66.39  66.37  66.39   5.0  18:14:00\n",
       "2009-09-27 18:15:00  66.41  66.41  66.38  66.38   6.0  18:19:00\n",
       "2009-09-27 18:20:00  66.32  66.32  66.30  66.30   5.0  18:24:00"
      ]
     },
     "execution_count": 8,
     "metadata": {},
     "output_type": "execute_result"
    }
   ],
   "source": [
    "five_min_prices.head()"
   ]
  },
  {
   "cell_type": "markdown",
   "metadata": {},
   "source": [
    "# Daily price movements"
   ]
  },
  {
   "cell_type": "code",
   "execution_count": null,
   "metadata": {},
   "outputs": [],
   "source": [
    "tau = 18\n",
    "zscored_rets = get_zscored_kibot_returns(daily_prices, \"daily\", tau=tau)\n",
    "\n",
    "abs_zscored_rets = zscored_rets.abs()\n",
    "pos_zscored_rets = zscored_rets.loc[zscored_rets >= 0]\n",
    "neg_zscored_rets = zscored_rets.loc[zscored_rets < 0]\n",
    "\n",
    "top_daily_movements = get_top_100(abs_zscored_rets)\n",
    "\n",
    "top_daily_movements.head(10)"
   ]
  },
  {
   "cell_type": "code",
   "execution_count": 10,
   "metadata": {
    "ExecuteTime": {
     "end_time": "2019-10-16T19:35:43.188833Z",
     "start_time": "2019-10-16T19:35:42.740747Z"
    }
   },
   "outputs": [
    {
     "data": {
      "image/png": "[encoded data removed]",
      "text/plain": [
       "<Figure size 1440x360 with 1 Axes>"
      ]
     },
     "metadata": {},
     "output_type": "display_data"
    }
   ],
   "source": [
    "top_daily_movements.index.year.value_counts(sort=False).plot(kind=\"bar\")\n",
    "plt.title(\"How many of the top-100 price movements occured during each year\")\n",
    "plt.show()"
   ]
  },
  {
   "cell_type": "code",
   "execution_count": 11,
   "metadata": {
    "ExecuteTime": {
     "end_time": "2019-10-16T19:35:43.266245Z",
     "start_time": "2019-10-16T19:35:43.190493Z"
    }
   },
   "outputs": [
    {
     "data": {
      "text/plain": [
       "date        date      \n",
       "1996-12-31  1996-09-03    2.141749\n",
       "            1996-10-15    1.559034\n",
       "            1996-12-03    1.502157\n",
       "            1996-09-12    1.434554\n",
       "            1996-08-30    1.367639\n",
       "            1996-10-04    1.342593\n",
       "            1996-09-25    1.274381\n",
       "            1996-12-16    1.261530\n",
       "            1996-12-06    1.161479\n",
       "            1996-10-08    1.156479\n",
       "            1996-08-23    1.153066\n",
       "            1996-09-19    1.044562\n",
       "            1996-08-20    1.039710\n",
       "            1996-10-14    1.003564\n",
       "            1996-08-19    1.000000\n",
       "            1996-09-09    0.974478\n",
       "            1996-12-17    0.929521\n",
       "            1996-09-11    0.883376\n",
       "            1996-09-30    0.880155\n",
       "            1996-12-26    0.852903\n",
       "            1996-11-20    0.822971\n",
       "            1996-11-22    0.793647\n",
       "            1996-10-21    0.778211\n",
       "            1996-12-13    0.647858\n",
       "            1996-09-26    0.646597\n",
       "            1996-08-29    0.612505\n",
       "            1996-09-13    0.579171\n",
       "            1996-12-02    0.427315\n",
       "            1996-10-18    0.409255\n",
       "            1996-12-30    0.395745\n",
       "            1996-09-24    0.376938\n",
       "            1996-12-19    0.368608\n",
       "            1996-11-27    0.347702\n",
       "            1996-12-04    0.315970\n",
       "            1996-09-06    0.278127\n",
       "            1996-10-09    0.267964\n",
       "            1996-09-23    0.251604\n",
       "            1996-12-20    0.250633\n",
       "            1996-12-31    0.242304\n",
       "            1996-10-22    0.229616\n",
       "            1996-10-02    0.143457\n",
       "            1996-12-18    0.000000\n",
       "            1996-12-05   -0.036022\n",
       "            1996-10-07   -0.062233\n",
       "            1996-09-04   -0.096371\n",
       "            1996-09-05   -0.122438\n",
       "            1996-12-09   -0.125265\n",
       "            1996-08-28   -0.139596\n",
       "            1996-10-03   -0.169371\n",
       "            1996-11-26   -0.303298\n",
       "            1996-10-17   -0.319406\n",
       "            1996-12-27   -0.347886\n",
       "            1996-09-10   -0.351401\n",
       "            1996-09-18   -0.352351\n",
       "            1996-11-25   -0.379013\n",
       "            1996-10-16   -0.385635\n",
       "            1996-12-23   -0.458760\n",
       "            1996-12-10   -0.497133\n",
       "            1996-09-27   -0.545194\n",
       "            1996-11-19   -0.583798\n",
       "            1996-08-22   -0.710046\n",
       "            1996-09-20   -0.743164\n",
       "            1996-12-24   -0.752939\n",
       "            1996-08-21   -0.758367\n",
       "            1996-10-10   -0.796541\n",
       "            1996-08-26   -0.819950\n",
       "            1996-10-01   -0.924355\n",
       "            1996-08-27   -0.944271\n",
       "            1996-11-21   -1.245106\n",
       "            1996-12-11   -1.470634\n",
       "            1996-10-11   -1.588559\n",
       "            1996-09-16   -1.716851\n",
       "            1996-12-12   -1.865632\n",
       "            1996-09-17   -1.933235\n",
       "            1996-11-18   -2.952996\n",
       "1997-12-31  1997-10-06    2.544569\n",
       "            1997-10-03    2.509501\n",
       "            1997-05-13    2.186146\n",
       "            1997-05-09    2.121205\n",
       "            1997-05-19    2.066795\n",
       "            1997-03-19    2.019985\n",
       "            1997-09-29    1.940654\n",
       "            1997-07-16    1.784967\n",
       "            1997-06-26    1.687847\n",
       "            1997-04-22    1.687307\n",
       "            1997-09-26    1.663983\n",
       "            1997-03-17    1.553652\n",
       "            1997-08-05    1.529743\n",
       "            1997-01-16    1.481095\n",
       "            1997-09-17    1.453205\n",
       "            1997-08-28    1.441390\n",
       "            1997-10-23    1.428564\n",
       "            1997-07-31    1.422124\n",
       "            1997-04-30    1.408653\n",
       "            1997-01-30    1.390252\n",
       "            1997-10-17    1.342134\n",
       "            1997-03-13    1.259464\n",
       "            1997-07-01    1.248492\n",
       "            1997-10-31    1.186482\n",
       "            1997-07-14    1.176882\n",
       "            1997-01-02    1.162784\n",
       "            1997-11-10    1.149004\n",
       "            1997-12-19    1.129532\n",
       "            1997-01-07    1.117366\n",
       "            1997-03-07    1.078775\n",
       "            1997-09-23    1.071273\n",
       "            1997-09-30    1.057780\n",
       "            1997-07-18    1.048900\n",
       "            1997-04-25    1.046444\n",
       "            1997-04-11    1.000608\n",
       "            1997-03-05    0.990750\n",
       "            1997-06-03    0.988841\n",
       "            1997-07-02    0.964455\n",
       "            1997-08-13    0.861597\n",
       "            1997-09-08    0.837339\n",
       "            1997-02-26    0.834672\n",
       "            1997-01-31    0.833703\n",
       "            1997-01-09    0.829862\n",
       "            1997-12-17    0.815894\n",
       "            1997-10-30    0.790226\n",
       "            1997-03-10    0.777946\n",
       "            1997-04-15    0.757944\n",
       "            1997-07-28    0.737880\n",
       "            1997-06-30    0.737482\n",
       "            1997-11-14    0.726510\n",
       "            1997-12-08    0.724596\n",
       "            1997-06-13    0.701548\n",
       "            1997-06-18    0.644905\n",
       "            1997-05-30    0.631092\n",
       "            1997-07-24    0.606046\n",
       "            1997-03-31    0.605659\n",
       "            1997-08-20    0.588608\n",
       "            1997-09-25    0.577965\n",
       "            1997-02-14    0.531639\n",
       "            1997-07-03    0.529992\n",
       "            1997-05-12    0.500265\n",
       "            1997-11-17    0.499414\n",
       "            1997-10-09    0.488123\n",
       "            1997-08-14    0.480247\n",
       "            1997-04-21    0.470033\n",
       "            1997-02-20    0.460651\n",
       "            1997-02-19    0.454285\n",
       "            1997-08-04    0.441641\n",
       "            1997-05-22    0.432414\n",
       "            1997-06-24    0.417428\n",
       "            1997-06-17    0.407548\n",
       "            1997-07-09    0.398958\n",
       "            1997-11-24    0.379365\n",
       "            1997-08-18    0.377521\n",
       "            1997-04-09    0.365243\n",
       "            1997-06-23    0.347342\n",
       "            1997-10-21    0.345230\n",
       "            1997-11-25    0.322331\n",
       "            1997-12-09    0.315883\n",
       "            1997-09-22    0.303693\n",
       "            1997-08-25    0.299315\n",
       "            1997-10-08    0.298099\n",
       "            1997-08-12    0.297862\n",
       "            1997-07-30    0.267717\n",
       "            1997-02-27    0.256947\n",
       "            1997-11-12    0.252564\n",
       "            1997-11-03    0.250243\n",
       "            1997-09-15    0.247949\n",
       "            1997-12-24    0.246689\n",
       "            1997-08-27    0.234559\n",
       "            1997-10-28    0.233364\n",
       "            1997-05-06    0.222314\n",
       "            1997-02-11    0.206787\n",
       "            1997-04-24    0.206255\n",
       "            1997-04-14    0.203321\n",
       "            1997-12-18    0.198109\n",
       "            1997-09-03    0.171695\n",
       "            1997-06-16    0.171551\n",
       "            1997-02-04    0.134597\n",
       "            1997-05-23    0.130044\n",
       "1998-12-31  1998-12-17    2.981000\n",
       "            1998-01-27    2.967284\n",
       "            1998-06-18    2.784169\n",
       "            1998-03-19    2.695683\n",
       "            1998-09-04    2.553662\n",
       "            1998-03-23    2.540969\n",
       "            1998-05-15    2.290958\n",
       "            1998-01-20    1.981853\n",
       "            1998-04-17    1.847161\n",
       "            1998-10-22    1.625800\n",
       "            1998-09-21    1.599575\n",
       "            1998-05-04    1.558263\n",
       "            1998-06-24    1.522164\n",
       "            1998-02-19    1.519549\n",
       "            1998-08-14    1.518867\n",
       "            1998-11-02    1.482986\n",
       "            1998-01-30    1.444909\n",
       "            1998-07-15    1.373259\n",
       "            1998-09-02    1.318083\n",
       "            1998-09-11    1.252239\n",
       "            1998-08-21    1.228551\n",
       "            1998-03-24    1.222234\n",
       "            1998-06-17    1.158947\n",
       "            1998-03-26    1.148734\n",
       "            1998-12-08    1.143570\n",
       "            1998-09-18    1.056773\n",
       "            1998-12-15    1.046265\n",
       "            1998-11-13    0.972605\n",
       "            1998-12-14    0.964365\n",
       "            1998-05-22    0.958336\n",
       "            1998-06-01    0.957686\n",
       "            1998-01-29    0.952244\n",
       "            1998-04-29    0.945062\n",
       "            1998-07-22    0.940113\n",
       "            1998-03-18    0.924334\n",
       "            1998-06-05    0.905457\n",
       "            1998-11-23    0.865554\n",
       "            1998-06-23    0.859032\n",
       "            1998-08-25    0.846593\n",
       "            1998-07-28    0.832319\n",
       "            1998-12-16    0.818471\n",
       "            1998-04-28    0.802150\n",
       "            1998-09-30    0.787395\n",
       "            1998-08-31    0.778930\n",
       "            1998-04-09    0.752011\n",
       "            1998-11-09    0.736315\n",
       "            1998-03-27    0.721622\n",
       "            1998-12-29    0.705425\n",
       "            1998-07-16    0.685090\n",
       "            1998-10-16    0.676040\n",
       "            1998-07-14    0.646977\n",
       "            1998-02-06    0.598457\n",
       "            1998-01-09    0.591703\n",
       "            1998-02-26    0.580345\n",
       "            1998-05-26    0.574738\n",
       "            1998-09-23    0.534483\n",
       "            1998-10-29    0.528473\n",
       "            1998-10-05    0.526826\n",
       "            1998-01-28    0.525838\n",
       "            1998-12-03    0.521647\n",
       "            1998-12-30    0.510295\n",
       "            1998-09-25    0.502893\n",
       "            1998-12-24    0.497762\n",
       "            1998-08-20    0.485305\n",
       "            1998-10-01    0.481588\n",
       "            1998-09-16    0.458515\n",
       "            1998-05-01    0.457225\n",
       "            1998-10-27    0.447702\n",
       "            1998-11-11    0.435572\n",
       "            1998-08-17    0.428493\n",
       "            1998-04-16    0.415232\n",
       "            1998-10-12    0.409658\n",
       "            1998-10-07    0.404853\n",
       "            1998-04-03    0.394745\n",
       "            1998-08-05    0.385029\n",
       "                            ...   \n",
       "2017-12-31  2017-07-14    0.793663\n",
       "            2017-09-18    0.781221\n",
       "            2017-01-05    0.774723\n",
       "            2017-01-27    0.774178\n",
       "            2017-11-01    0.769353\n",
       "            2017-12-11    0.763330\n",
       "            2017-07-31    0.745884\n",
       "            2017-07-17    0.743431\n",
       "            2017-02-13    0.722420\n",
       "            2017-08-07    0.718987\n",
       "            2017-06-07    0.703675\n",
       "            2017-01-18    0.696349\n",
       "            2017-03-27    0.670066\n",
       "            2017-10-23    0.661490\n",
       "            2017-12-15    0.644510\n",
       "            2017-10-17    0.642186\n",
       "            2017-09-07    0.632215\n",
       "            2017-02-16    0.630128\n",
       "            2017-11-03    0.629096\n",
       "            2017-09-12    0.625870\n",
       "            2017-01-13    0.587576\n",
       "            2017-11-16    0.587094\n",
       "            2017-09-21    0.560233\n",
       "            2017-05-12    0.555615\n",
       "            2017-06-19    0.545123\n",
       "            2017-05-19    0.544834\n",
       "            2017-02-24    0.541728\n",
       "            2017-12-29    0.533472\n",
       "            2017-04-03    0.523619\n",
       "            2017-07-28    0.515104\n",
       "            2017-12-21    0.513223\n",
       "            2017-05-24    0.504422\n",
       "            2017-06-26    0.493537\n",
       "            2017-09-15    0.477979\n",
       "            2017-06-27    0.458815\n",
       "            2017-12-20    0.449535\n",
       "            2017-02-22    0.445465\n",
       "            2017-07-19    0.400233\n",
       "            2017-08-01    0.400037\n",
       "            2017-10-10    0.396414\n",
       "            2017-02-17    0.391089\n",
       "            2017-03-15    0.390014\n",
       "            2017-04-12    0.370932\n",
       "            2017-03-17    0.365910\n",
       "            2017-08-18    0.351574\n",
       "            2017-06-23    0.337958\n",
       "            2017-08-14    0.325957\n",
       "            2017-04-18    0.323199\n",
       "            2017-03-16    0.320639\n",
       "            2017-08-28    0.315683\n",
       "2018-12-31  2018-12-27    2.315465\n",
       "            2018-09-12    2.307818\n",
       "            2018-06-25    2.281765\n",
       "            2018-01-04    2.044037\n",
       "            2018-04-11    1.960914\n",
       "            2018-10-02    1.954099\n",
       "            2018-01-25    1.929778\n",
       "            2018-01-10    1.884582\n",
       "            2018-03-12    1.879701\n",
       "            2018-06-27    1.841687\n",
       "            2018-08-23    1.829777\n",
       "            2018-03-22    1.723543\n",
       "            2018-04-19    1.719856\n",
       "            2018-02-15    1.612414\n",
       "            2018-03-21    1.603278\n",
       "            2018-03-26    1.486892\n",
       "            2018-09-20    1.480902\n",
       "            2018-02-02    1.464007\n",
       "            2018-06-19    1.345163\n",
       "            2018-02-23    1.336092\n",
       "            2018-05-07    1.328585\n",
       "            2018-05-31    1.300186\n",
       "            2018-05-22    1.257316\n",
       "            2018-04-10    1.251187\n",
       "            2018-12-14    1.230599\n",
       "            2018-01-29    1.212540\n",
       "            2018-05-10    1.186975\n",
       "            2018-03-19    1.162099\n",
       "            2018-06-28    1.141761\n",
       "            2018-10-01    1.136470\n",
       "            2018-08-30    1.135247\n",
       "            2018-03-06    1.117810\n",
       "            2018-01-16    1.117196\n",
       "            2018-09-25    1.071535\n",
       "            2018-02-26    1.039018\n",
       "            2018-10-04    0.981637\n",
       "            2018-08-03    0.980243\n",
       "            2018-04-12    0.969014\n",
       "            2018-08-13    0.934680\n",
       "            2018-07-19    0.927493\n",
       "            2018-09-24    0.924504\n",
       "            2018-11-23    0.914265\n",
       "            2018-02-01    0.912388\n",
       "            2018-06-08    0.910403\n",
       "            2018-09-19    0.903585\n",
       "            2018-07-31    0.890082\n",
       "            2018-05-04    0.838363\n",
       "            2018-12-12    0.806496\n",
       "            2018-11-15    0.800576\n",
       "            2018-10-15    0.798900\n",
       "            2018-01-24    0.788826\n",
       "            2018-12-03    0.785578\n",
       "            2018-07-25    0.783991\n",
       "            2018-12-20    0.777662\n",
       "            2018-10-22    0.776662\n",
       "            2018-06-29    0.756381\n",
       "            2018-02-16    0.744829\n",
       "            2018-04-04    0.676672\n",
       "            2018-06-14    0.657919\n",
       "            2018-04-24    0.649432\n",
       "            2018-11-30    0.645548\n",
       "            2018-08-22    0.645018\n",
       "            2018-05-15    0.640855\n",
       "            2018-08-27    0.632744\n",
       "            2018-11-27    0.596884\n",
       "            2018-05-17    0.590034\n",
       "            2018-02-07    0.563567\n",
       "            2018-06-22    0.561864\n",
       "            2018-07-09    0.558379\n",
       "            2018-06-06    0.557390\n",
       "            2018-01-23    0.553170\n",
       "            2018-06-12    0.509828\n",
       "            2018-10-29    0.508871\n",
       "            2018-07-26    0.497744\n",
       "            2018-10-26    0.494498\n",
       "            2018-02-27    0.482714\n",
       "            2018-12-04    0.454683\n",
       "            2018-11-16    0.449628\n",
       "            2018-10-10    0.445162\n",
       "            2018-10-17    0.436240\n",
       "            2018-01-09    0.430394\n",
       "            2018-06-15    0.416308\n",
       "            2018-01-02    0.414320\n",
       "            2018-05-01    0.404481\n",
       "            2018-06-21    0.385972\n",
       "            2018-04-13    0.363623\n",
       "            2018-11-28    0.360402\n",
       "            2018-08-20    0.351536\n",
       "            2018-08-28    0.345815\n",
       "            2018-08-31    0.344257\n",
       "            2018-09-13    0.343958\n",
       "            2018-07-03    0.340572\n",
       "            2018-03-16    0.324705\n",
       "            2018-11-20    0.311794\n",
       "            2018-01-03    0.277407\n",
       "            2018-04-26    0.257247\n",
       "            2018-04-18    0.245710\n",
       "            2018-02-13    0.244236\n",
       "            2018-12-06    0.239204\n",
       "            2018-02-20    0.239023\n",
       "2019-12-31  2019-06-21    2.089772\n",
       "            2019-04-23    1.927006\n",
       "            2019-06-19    1.770762\n",
       "            2019-04-02    1.758658\n",
       "            2019-07-11    1.559483\n",
       "            2019-01-10    1.466008\n",
       "            2019-05-17    1.369600\n",
       "            2019-04-08    1.298242\n",
       "            2019-03-14    1.293576\n",
       "            2019-06-07    1.235306\n",
       "            2019-04-09    1.174032\n",
       "            2019-02-19    1.096227\n",
       "            2019-04-17    1.084048\n",
       "            2019-03-27    1.061719\n",
       "            2019-02-04    0.978633\n",
       "            2019-06-10    0.956726\n",
       "            2019-01-22    0.956516\n",
       "            2019-06-14    0.955983\n",
       "            2019-02-28    0.947024\n",
       "            2019-01-07    0.918346\n",
       "            2019-04-03    0.915954\n",
       "            2019-05-16    0.907082\n",
       "            2019-04-01    0.863697\n",
       "            2019-01-30    0.834642\n",
       "            2019-06-26    0.813204\n",
       "            2019-05-07    0.807367\n",
       "            2019-01-16    0.806941\n",
       "            2019-02-15    0.784718\n",
       "            2019-03-21    0.776263\n",
       "            2019-01-31    0.768287\n",
       "            2019-02-13    0.765038\n",
       "            2019-02-21    0.734166\n",
       "            2019-03-12    0.721256\n",
       "            2019-01-09    0.705624\n",
       "            2019-05-28    0.699642\n",
       "            2019-07-05    0.692887\n",
       "            2019-04-30    0.687834\n",
       "            2019-07-10    0.686723\n",
       "            2019-05-09    0.650333\n",
       "            2019-05-15    0.620039\n",
       "            2019-03-19    0.603433\n",
       "            2019-03-05    0.578461\n",
       "            2019-02-14    0.533519\n",
       "            2019-01-25    0.519106\n",
       "            2019-04-24    0.484312\n",
       "            2019-02-27    0.446729\n",
       "            2019-01-04    0.427078\n",
       "            2019-01-17    0.399191\n",
       "            2019-01-02    0.377533\n",
       "            2019-03-13    0.350316\n",
       "            2019-06-24    0.332149\n",
       "            2019-06-27    0.321697\n",
       "            2019-07-08    0.307910\n",
       "            2019-01-03    0.303618\n",
       "            2019-02-25    0.298571\n",
       "            2019-04-11    0.298249\n",
       "            2019-01-28    0.285462\n",
       "            2019-01-08    0.283900\n",
       "            2019-06-17    0.278893\n",
       "            2019-04-22    0.278580\n",
       "            2019-03-18    0.255773\n",
       "            2019-05-21    0.254808\n",
       "            2019-05-02    0.240816\n",
       "            2019-03-08    0.231970\n",
       "            2019-02-20    0.206595\n",
       "            2019-03-01    0.201518\n",
       "            2019-02-07    0.168811\n",
       "            2019-03-15    0.166706\n",
       "            2019-03-26    0.165393\n",
       "            2019-03-29    0.158114\n",
       "            2019-05-29    0.127112\n",
       "            2019-06-20    0.066338\n",
       "            2019-01-11    0.061811\n",
       "            2019-04-15    0.059881\n",
       "            2019-02-11    0.058858\n",
       "            2019-05-30    0.050187\n",
       "            2019-07-01    0.039413\n",
       "            2019-07-12    0.015450\n",
       "            2019-06-25    0.014786\n",
       "            2019-05-13    0.011809\n",
       "            2019-03-20   -0.022057\n",
       "            2019-06-05   -0.025957\n",
       "            2019-06-28   -0.038335\n",
       "            2019-01-18   -0.047639\n",
       "            2019-03-07   -0.078694\n",
       "            2019-07-02   -0.105401\n",
       "            2019-05-06   -0.130293\n",
       "            2019-03-22   -0.136090\n",
       "            2019-04-04   -0.157865\n",
       "            2019-03-06   -0.162310\n",
       "            2019-02-12   -0.164324\n",
       "            2019-07-15   -0.166934\n",
       "            2019-07-09   -0.170068\n",
       "            2019-05-01   -0.201122\n",
       "            2019-04-10   -0.201433\n",
       "            2019-02-01   -0.203385\n",
       "            2019-04-16   -0.233868\n",
       "            2019-05-20   -0.248263\n",
       "            2019-06-18   -0.312890\n",
       "            2019-06-12   -0.343229\n",
       "Name: ret_0, Length: 2375, dtype: float64"
      ]
     },
     "execution_count": 11,
     "metadata": {},
     "output_type": "execute_result"
    }
   ],
   "source": [
    "zscored_rets.resample(\"Y\").apply(get_top_100)"
   ]
  },
  {
   "cell_type": "code",
   "execution_count": 12,
   "metadata": {
    "ExecuteTime": {
     "end_time": "2019-10-16T19:35:43.328574Z",
     "start_time": "2019-10-16T19:35:43.267862Z"
    }
   },
   "outputs": [
    {
     "data": {
      "text/plain": [
       "date        date      \n",
       "1996-12-31  1996-09-03    2.141749\n",
       "            1996-10-15    1.559034\n",
       "            1996-12-03    1.502157\n",
       "            1996-09-12    1.434554\n",
       "            1996-08-30    1.367639\n",
       "Name: ret_0, dtype: float64"
      ]
     },
     "execution_count": 12,
     "metadata": {},
     "output_type": "execute_result"
    }
   ],
   "source": [
    "top_daily_movements_by_year = zscored_rets.resample(\"Y\").apply(get_top_100)\n",
    "top_daily_movements_by_year.head()"
   ]
  },
  {
   "cell_type": "code",
   "execution_count": 13,
   "metadata": {
    "ExecuteTime": {
     "end_time": "2019-10-16T19:35:43.351904Z",
     "start_time": "2019-10-16T19:35:43.330138Z"
    },
    "scrolled": true
   },
   "outputs": [
    {
     "data": {
      "text/plain": [
       "date        date      \n",
       "2019-12-31  2019-02-01   -0.203385\n",
       "            2019-04-16   -0.233868\n",
       "            2019-05-20   -0.248263\n",
       "            2019-06-18   -0.312890\n",
       "            2019-06-12   -0.343229\n",
       "Name: ret_0, dtype: float64"
      ]
     },
     "execution_count": 13,
     "metadata": {},
     "output_type": "execute_result"
    }
   ],
   "source": [
    "top_daily_movements_by_year.tail()"
   ]
  },
  {
   "cell_type": "code",
   "execution_count": 14,
   "metadata": {
    "ExecuteTime": {
     "end_time": "2019-10-16T19:35:50.324463Z",
     "start_time": "2019-10-16T19:35:50.231537Z"
    }
   },
   "outputs": [
    {
     "data": {
      "text/plain": [
       "date        date      \n",
       "1996-12-31  1996-09-03    2.141749\n",
       "            1996-10-15    1.559034\n",
       "            1996-12-03    1.502157\n",
       "            1996-09-12    1.434554\n",
       "            1996-08-30    1.367639\n",
       "Name: ret_0, dtype: float64"
      ]
     },
     "execution_count": 14,
     "metadata": {},
     "output_type": "execute_result"
    }
   ],
   "source": [
    "top_daily_pos_movements_by_year = pos_zscored_rets.resample(\"Y\").apply(\n",
    "    get_top_100\n",
    ")\n",
    "top_daily_pos_movements_by_year.head()"
   ]
  },
  {
   "cell_type": "code",
   "execution_count": 15,
   "metadata": {
    "ExecuteTime": {
     "end_time": "2019-10-16T19:35:50.414100Z",
     "start_time": "2019-10-16T19:35:50.326197Z"
    }
   },
   "outputs": [
    {
     "data": {
      "text/plain": [
       "date        date      \n",
       "1996-12-31  1996-11-18   -2.952996\n",
       "            1996-09-17   -1.933235\n",
       "            1996-12-12   -1.865632\n",
       "            1996-09-16   -1.716851\n",
       "            1996-10-11   -1.588559\n",
       "Name: ret_0, dtype: float64"
      ]
     },
     "execution_count": 15,
     "metadata": {},
     "output_type": "execute_result"
    }
   ],
   "source": [
    "top_daily_neg_movements_by_year = neg_zscored_rets.resample(\"Y\").apply(\n",
    "    get_top_100, True\n",
    ")\n",
    "top_daily_neg_movements_by_year.head()"
   ]
  },
  {
   "cell_type": "markdown",
   "metadata": {},
   "source": [
    "# 1-min movements"
   ]
  },
  {
   "cell_type": "code",
   "execution_count": null,
   "metadata": {},
   "outputs": [],
   "source": [
    "tau = 18\n",
    "\n",
    "zscored_1min_rets = get_zscored_kibot_returns(\n",
    "    minutely_prices, \"minutely\", tau=tau\n",
    ")\n",
    "\n",
    "abs_zscored_1min_rets = zscored_1min_rets.abs()\n",
    "pos_zscored_1min_rets = zscored_1min_rets.loc[zscored_1min_rets >= 0]\n",
    "neg_zscored_1min_rets = zscored_1min_rets.loc[zscored_1min_rets < 0]\n",
    "\n",
    "top_1min_movements = get_top_100(zscored_1min_rets)"
   ]
  },
  {
   "cell_type": "code",
   "execution_count": 17,
   "metadata": {
    "ExecuteTime": {
     "end_time": "2019-10-16T19:35:44.745032Z",
     "start_time": "2019-10-16T19:35:44.727267Z"
    }
   },
   "outputs": [
    {
     "data": {
      "text/plain": [
       "datetime\n",
       "2011-02-17 01:16:00    4.300486\n",
       "2015-12-16 18:00:00    4.300040\n",
       "2016-03-16 18:00:00    4.298413\n",
       "2017-01-17 19:19:00    4.298211\n",
       "2016-12-15 19:04:00    4.296084\n",
       "Name: ret_0, dtype: float64"
      ]
     },
     "execution_count": 17,
     "metadata": {},
     "output_type": "execute_result"
    }
   ],
   "source": [
    "top_1min_movements.head()"
   ]
  },
  {
   "cell_type": "code",
   "execution_count": 18,
   "metadata": {
    "ExecuteTime": {
     "end_time": "2019-10-16T19:35:48.419420Z",
     "start_time": "2019-10-16T19:35:44.746878Z"
    }
   },
   "outputs": [
    {
     "data": {
      "image/png": "[encoded data removed]",
      "text/plain": [
       "<Figure size 1440x360 with 1 Axes>"
      ]
     },
     "metadata": {},
     "output_type": "display_data"
    }
   ],
   "source": [
    "top_1min_movements.plot(kind=\"bar\")\n",
    "plt.title(\n",
    "    f\"Largest price movements in a 1 min interval (in z-score space) for the {SYMBOL} symbol\"\n",
    ")\n",
    "plt.show()"
   ]
  },
  {
   "cell_type": "code",
   "execution_count": 19,
   "metadata": {
    "ExecuteTime": {
     "end_time": "2019-10-16T19:35:49.113372Z",
     "start_time": "2019-10-16T19:35:48.421103Z"
    }
   },
   "outputs": [
    {
     "data": {
      "text/plain": [
       "datetime    datetime           \n",
       "2009-12-31  2009-12-08 16:31:00    4.201319\n",
       "            2009-11-22 18:00:00    4.163986\n",
       "            2009-11-17 16:30:00    4.156503\n",
       "            2009-12-16 10:31:00    4.154353\n",
       "            2009-10-29 08:31:00    4.139635\n",
       "Name: ret_0, dtype: float64"
      ]
     },
     "execution_count": 19,
     "metadata": {},
     "output_type": "execute_result"
    }
   ],
   "source": [
    "top_1min_movements_by_year = zscored_1min_rets.resample(\"Y\").apply(get_top_100)\n",
    "top_1min_movements_by_year.head()"
   ]
  },
  {
   "cell_type": "code",
   "execution_count": 20,
   "metadata": {
    "ExecuteTime": {
     "end_time": "2019-10-16T19:35:49.489886Z",
     "start_time": "2019-10-16T19:35:49.114907Z"
    }
   },
   "outputs": [
    {
     "data": {
      "text/plain": [
       "datetime    datetime           \n",
       "2009-12-31  2009-12-08 16:31:00    4.201319\n",
       "            2009-11-22 18:00:00    4.163986\n",
       "            2009-11-17 16:30:00    4.156503\n",
       "            2009-12-16 10:31:00    4.154353\n",
       "            2009-10-29 08:31:00    4.139635\n",
       "Name: ret_0, dtype: float64"
      ]
     },
     "execution_count": 20,
     "metadata": {},
     "output_type": "execute_result"
    }
   ],
   "source": [
    "top_1min_pos_movements_by_year = pos_zscored_1min_rets.resample(\"Y\").apply(\n",
    "    get_top_100\n",
    ")\n",
    "top_1min_pos_movements_by_year.head()"
   ]
  },
  {
   "cell_type": "code",
   "execution_count": 21,
   "metadata": {
    "ExecuteTime": {
     "end_time": "2019-10-16T19:35:49.742846Z",
     "start_time": "2019-10-16T19:35:49.491499Z"
    }
   },
   "outputs": [
    {
     "data": {
      "text/plain": [
       "datetime    datetime           \n",
       "2009-12-31  2009-11-18 12:57:00   -4.154908\n",
       "            2009-10-02 08:31:00   -4.142144\n",
       "            2009-12-22 15:15:00   -4.115415\n",
       "            2009-11-06 08:31:00   -4.053225\n",
       "            2009-12-09 10:31:00   -4.035126\n",
       "Name: ret_0, dtype: float64"
      ]
     },
     "execution_count": 21,
     "metadata": {},
     "output_type": "execute_result"
    }
   ],
   "source": [
    "top_1min_neg_movements_by_year = neg_zscored_1min_rets.resample(\"Y\").apply(\n",
    "    get_top_100, True\n",
    ")\n",
    "top_1min_neg_movements_by_year.head()"
   ]
  },
  {
   "cell_type": "markdown",
   "metadata": {},
   "source": [
    "# 5-min movements"
   ]
  },
  {
   "cell_type": "code",
   "execution_count": null,
   "metadata": {},
   "outputs": [],
   "source": [
    "tau = 18\n",
    "\n",
    "zscored_5min_rets = get_zscored_kibot_returns(\n",
    "    five_min_prices, \"minutely\", tau=tau\n",
    ")\n",
    "abs_zscored_5min_rets = zscored_5min_rets.abs()\n",
    "pos_zscored_5min_rets = zscored_5min_rets.loc[zscored_5min_rets >= 0]\n",
    "neg_zscored_5min_rets = zscored_5min_rets.loc[zscored_5min_rets < 0]\n",
    "\n",
    "top_5min_movements = get_top_100(zscored_5min_rets)"
   ]
  },
  {
   "cell_type": "code",
   "execution_count": 23,
   "metadata": {
    "ExecuteTime": {
     "end_time": "2019-10-16T19:35:50.024866Z",
     "start_time": "2019-10-16T19:35:50.005001Z"
    }
   },
   "outputs": [
    {
     "data": {
      "text/plain": [
       "datetime\n",
       "2011-02-17 01:15:00    4.292089\n",
       "2018-03-20 01:45:00    4.250278\n",
       "2009-12-04 08:30:00    4.227688\n",
       "2017-04-26 10:30:00    4.211947\n",
       "2015-05-18 02:30:00    4.188955\n",
       "Name: ret_0, dtype: float64"
      ]
     },
     "execution_count": 23,
     "metadata": {},
     "output_type": "execute_result"
    }
   ],
   "source": [
    "top_5min_movements.head()"
   ]
  },
  {
   "cell_type": "code",
   "execution_count": 24,
   "metadata": {
    "ExecuteTime": {
     "end_time": "2019-10-16T19:35:50.048607Z",
     "start_time": "2019-10-16T19:35:50.029512Z"
    }
   },
   "outputs": [
    {
     "name": "stdout",
     "output_type": "stream",
     "text": [
      "Top 100 of the 5-min price movements for CL occur at the following time:\n",
      "10:30:00    12\n",
      "16:30:00    11\n",
      "08:30:00     8\n",
      "09:00:00     3\n",
      "05:55:00     2\n",
      "09:05:00     2\n",
      "03:25:00     2\n",
      "00:55:00     2\n",
      "03:15:00     2\n",
      "02:30:00     2\n",
      "03:00:00     2\n",
      "22:15:00     2\n",
      "10:15:00     2\n",
      "08:00:00     2\n",
      "02:05:00     1\n",
      "03:30:00     1\n",
      "05:40:00     1\n",
      "02:15:00     1\n",
      "06:05:00     1\n",
      "03:35:00     1\n",
      "06:55:00     1\n",
      "00:30:00     1\n",
      "22:40:00     1\n",
      "10:35:00     1\n",
      "01:20:00     1\n",
      "09:20:00     1\n",
      "21:50:00     1\n",
      "05:05:00     1\n",
      "21:20:00     1\n",
      "07:55:00     1\n",
      "02:45:00     1\n",
      "11:25:00     1\n",
      "04:25:00     1\n",
      "00:40:00     1\n",
      "01:15:00     1\n",
      "11:00:00     1\n",
      "10:45:00     1\n",
      "21:00:00     1\n",
      "04:10:00     1\n",
      "09:45:00     1\n",
      "00:20:00     1\n",
      "03:05:00     1\n",
      "00:25:00     1\n",
      "01:45:00     1\n",
      "07:45:00     1\n",
      "07:40:00     1\n",
      "02:10:00     1\n",
      "11:50:00     1\n",
      "07:00:00     1\n",
      "08:15:00     1\n",
      "05:45:00     1\n",
      "08:20:00     1\n",
      "04:35:00     1\n",
      "21:40:00     1\n",
      "02:35:00     1\n",
      "04:40:00     1\n",
      "04:00:00     1\n",
      "05:00:00     1\n",
      "20:40:00     1\n",
      "07:20:00     1\n",
      "Name: datetime, dtype: int64\n"
     ]
    }
   ],
   "source": [
    "print(\n",
    "    f\"Top 100 of the 5-min price movements for {SYMBOL} occur at the following time:\"\n",
    ")\n",
    "print(pd.Series(top_5min_movements.index).dt.time.value_counts())"
   ]
  },
  {
   "cell_type": "code",
   "execution_count": 25,
   "metadata": {
    "ExecuteTime": {
     "end_time": "2019-10-16T19:35:50.205406Z",
     "start_time": "2019-10-16T19:35:50.053167Z"
    }
   },
   "outputs": [
    {
     "data": {
      "text/plain": [
       "datetime    datetime           \n",
       "2009-12-31  2009-12-04 08:30:00    4.227688\n",
       "            2009-12-16 10:30:00    4.026082\n",
       "            2009-10-21 10:30:00    3.899341\n",
       "            2009-11-04 10:30:00    3.856698\n",
       "            2009-10-29 08:30:00    3.805263\n",
       "Name: ret_0, dtype: float64"
      ]
     },
     "execution_count": 25,
     "metadata": {},
     "output_type": "execute_result"
    }
   ],
   "source": [
    "top_5min_movements_by_year = zscored_5min_rets.resample(\"Y\").apply(get_top_100)\n",
    "top_5min_movements_by_year.head()"
   ]
  },
  {
   "cell_type": "code",
   "execution_count": 26,
   "metadata": {
    "ExecuteTime": {
     "end_time": "2019-10-16T19:35:50.230018Z",
     "start_time": "2019-10-16T19:35:50.207088Z"
    },
    "scrolled": true
   },
   "outputs": [
    {
     "data": {
      "text/plain": [
       "datetime    datetime           \n",
       "2019-12-31  2019-03-11 19:15:00    3.151518\n",
       "            2019-01-02 09:55:00    3.142725\n",
       "            2019-03-05 02:00:00    3.127936\n",
       "            2019-05-06 13:15:00    3.121631\n",
       "            2019-07-03 02:15:00    3.116008\n",
       "Name: ret_0, dtype: float64"
      ]
     },
     "execution_count": 26,
     "metadata": {},
     "output_type": "execute_result"
    }
   ],
   "source": [
    "top_5min_movements_by_year.tail()"
   ]
  },
  {
   "cell_type": "code",
   "execution_count": 27,
   "metadata": {
    "ExecuteTime": {
     "end_time": "2019-10-16T19:35:50.324463Z",
     "start_time": "2019-10-16T19:35:50.231537Z"
    },
    "scrolled": true
   },
   "outputs": [
    {
     "data": {
      "text/plain": [
       "datetime    datetime           \n",
       "2009-12-31  2009-12-04 08:30:00    4.227688\n",
       "            2009-12-16 10:30:00    4.026082\n",
       "            2009-10-21 10:30:00    3.899341\n",
       "            2009-11-04 10:30:00    3.856698\n",
       "            2009-10-29 08:30:00    3.805263\n",
       "Name: ret_0, dtype: float64"
      ]
     },
     "execution_count": 27,
     "metadata": {},
     "output_type": "execute_result"
    }
   ],
   "source": [
    "top_5min_pos_movements_by_year = pos_zscored_5min_rets.resample(\"Y\").apply(\n",
    "    get_top_100\n",
    ")\n",
    "top_5min_pos_movements_by_year.head()"
   ]
  },
  {
   "cell_type": "code",
   "execution_count": 28,
   "metadata": {
    "ExecuteTime": {
     "end_time": "2019-10-16T19:35:50.414100Z",
     "start_time": "2019-10-16T19:35:50.326197Z"
    }
   },
   "outputs": [
    {
     "data": {
      "text/plain": [
       "datetime    datetime           \n",
       "2009-12-31  2009-10-02 08:30:00   -3.995286\n",
       "            2009-12-29 06:55:00   -3.892555\n",
       "            2009-10-07 10:30:00   -3.815435\n",
       "            2009-11-06 08:30:00   -3.802023\n",
       "            2009-11-13 09:00:00   -3.747532\n",
       "Name: ret_0, dtype: float64"
      ]
     },
     "execution_count": 28,
     "metadata": {},
     "output_type": "execute_result"
    }
   ],
   "source": [
    "top_5min_neg_movements_by_year = neg_zscored_5min_rets.resample(\"Y\").apply(\n",
    "    get_top_100, True\n",
    ")\n",
    "top_5min_neg_movements_by_year.head()"
   ]
  },
  {
   "cell_type": "code",
   "execution_count": null,
   "metadata": {},
   "outputs": [],
   "source": []
  }
 ],
 "metadata": {
  "kernelspec": {
   "display_name": "Python 3",
   "language": "python",
   "name": "python3"
  },
  "language_info": {
   "codemirror_mode": {
    "name": "ipython",
    "version": 3
   },
   "file_extension": ".py",
   "mimetype": "text/x-python",
   "name": "python",
   "nbconvert_exporter": "python",
   "pygments_lexer": "ipython3",
   "version": "3.7.3"
  },
  "toc": {
   "base_numbering": 1,
   "nav_menu": {},
   "number_sections": true,
   "sideBar": true,
   "skip_h1_title": false,
   "title_cell": "Table of Contents",
   "title_sidebar": "Contents",
   "toc_cell": false,
   "toc_position": {
    "height": "calc(100% - 180px)",
    "left": "10px",
    "top": "150px",
    "width": "206.01px"
   },
   "toc_section_display": true,
   "toc_window_display": true
  }
 },
 "nbformat": 4,
 "nbformat_minor": 2
}
