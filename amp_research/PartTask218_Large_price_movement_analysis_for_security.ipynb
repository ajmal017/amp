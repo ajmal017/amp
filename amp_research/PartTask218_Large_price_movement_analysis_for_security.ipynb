{
 "cells": [
  {
   "cell_type": "markdown",
   "metadata": {},
   "source": [
    "# Imports"
   ]
  },
  {
   "cell_type": "code",
   "execution_count": 1,
   "metadata": {
    "ExecuteTime": {
     "end_time": "2019-10-15T14:41:48.976662Z",
     "start_time": "2019-10-15T14:41:48.521482Z"
    }
   },
   "outputs": [],
   "source": [
    "%load_ext autoreload\n",
    "%autoreload 2\n",
    "\n",
    "import logging\n",
    "import os\n",
    "\n",
    "import numpy as np\n",
    "import pandas as pd\n",
    "from matplotlib import pyplot as plt"
   ]
  },
  {
   "cell_type": "code",
   "execution_count": 2,
   "metadata": {
    "ExecuteTime": {
     "end_time": "2019-10-15T14:41:49.474347Z",
     "start_time": "2019-10-15T14:41:48.978655Z"
    }
   },
   "outputs": [
    {
     "name": "stderr",
     "output_type": "stream",
     "text": [
      "/wd/julia/.conda/envs/p1_develop/lib/python3.7/site-packages/tqdm/autonotebook.py:17: TqdmExperimentalWarning: Using `tqdm.autonotebook.tqdm` in notebook mode. Use `tqdm.tqdm` instead to force console mode (e.g. in jupyter console)\n",
      "  \" (e.g. in jupyter console)\", TqdmExperimentalWarning)\n"
     ]
    }
   ],
   "source": [
    "from tqdm.autonotebook import tqdm\n",
    "\n",
    "import amp_research.price_movement_analysis as pma\n",
    "import helpers.dbg as dbg\n",
    "import helpers.env as env\n",
    "import helpers.printing as pri\n",
    "import helpers.s3 as hs3\n",
    "import vendors.cme.read as cmer\n",
    "import vendors.kibot.utils as kut"
   ]
  },
  {
   "cell_type": "code",
   "execution_count": 3,
   "metadata": {
    "ExecuteTime": {
     "end_time": "2019-10-15T14:41:49.492905Z",
     "start_time": "2019-10-15T14:41:49.476424Z"
    }
   },
   "outputs": [],
   "source": [
    "def get_top_100(series):\n",
    "    return series.sort_values(ascending=False).head(100)"
   ]
  },
  {
   "cell_type": "code",
   "execution_count": 4,
   "metadata": {
    "ExecuteTime": {
     "end_time": "2019-10-15T14:41:49.569772Z",
     "start_time": "2019-10-15T14:41:49.494368Z"
    },
    "scrolled": true
   },
   "outputs": [
    {
     "name": "stdout",
     "output_type": "stream",
     "text": [
      "# Packages\n",
      "         python: 3.7.3\n",
      "         joblib: 0.14.0\n",
      "          numpy: 1.17.2\n",
      "         pandas: 0.25.1\n",
      "        pyarrow: 0.15.0\n",
      "          scipy: 1.3.1\n",
      "        seaborn: 0.9.0\n",
      "        sklearn: 0.21.3\n",
      "    statsmodels: 0.10.1\n",
      "# Last commits:\n",
      "  * 26a8985 Julia    PartTask218 make sns.set() optional                               (  15 hours ago) Mon Oct 14 23:25:50 2019  (HEAD -> PartTask218_PRICE_Large_price_movement_analysis, origin/PartTask218_PRICE_Large_price_movement_analysis)\n",
      "  * fb2e379 Julia    PartTask218 move files to amp_research                            (  15 hours ago) Mon Oct 14 23:25:03 2019           \n",
      "  * dbba1cf Julia    PartTask218 Use s3 backend, update for the new price_movement_analysis functions (  15 hours ago) Mon Oct 14 23:22:02 2019           \n",
      "\u001b[0mWARNING: Running in Jupyter\n"
     ]
    }
   ],
   "source": [
    "print(env.get_system_signature())\n",
    "\n",
    "pri.config_notebook()\n",
    "\n",
    "dbg.init_logger(verb=logging.INFO)\n",
    "\n",
    "_LOG = logging.getLogger(__name__)"
   ]
  },
  {
   "cell_type": "code",
   "execution_count": 5,
   "metadata": {
    "ExecuteTime": {
     "end_time": "2019-10-15T14:41:49.589333Z",
     "start_time": "2019-10-15T14:41:49.571501Z"
    }
   },
   "outputs": [],
   "source": [
    "SYMBOL = 'CL'"
   ]
  },
  {
   "cell_type": "markdown",
   "metadata": {},
   "source": [
    "# Load daily and minutely data"
   ]
  },
  {
   "cell_type": "code",
   "execution_count": 6,
   "metadata": {
    "ExecuteTime": {
     "end_time": "2019-10-15T14:41:49.625079Z",
     "start_time": "2019-10-15T14:41:49.591895Z"
    }
   },
   "outputs": [
    {
     "name": "stdout",
     "output_type": "stream",
     "text": [
      "args=('s3://default00-bucket/kibot/All_Futures_Continuous_Contracts_daily/CL.csv.gz',) kwargs={'nrows': None}\n"
     ]
    },
    {
     "data": {
      "text/html": [
       "<div>\n",
       "<style scoped>\n",
       "    .dataframe tbody tr th:only-of-type {\n",
       "        vertical-align: middle;\n",
       "    }\n",
       "\n",
       "    .dataframe tbody tr th {\n",
       "        vertical-align: top;\n",
       "    }\n",
       "\n",
       "    .dataframe thead th {\n",
       "        text-align: right;\n",
       "    }\n",
       "</style>\n",
       "<table border=\"1\" class=\"dataframe\">\n",
       "  <thead>\n",
       "    <tr style=\"text-align: right;\">\n",
       "      <th></th>\n",
       "      <th>open</th>\n",
       "      <th>high</th>\n",
       "      <th>low</th>\n",
       "      <th>close</th>\n",
       "      <th>vol</th>\n",
       "    </tr>\n",
       "    <tr>\n",
       "      <th>date</th>\n",
       "      <th></th>\n",
       "      <th></th>\n",
       "      <th></th>\n",
       "      <th></th>\n",
       "      <th></th>\n",
       "    </tr>\n",
       "  </thead>\n",
       "  <tbody>\n",
       "    <tr>\n",
       "      <td>2019-07-18</td>\n",
       "      <td>56.72</td>\n",
       "      <td>57.45</td>\n",
       "      <td>54.85</td>\n",
       "      <td>55.42</td>\n",
       "      <td>764491</td>\n",
       "    </tr>\n",
       "    <tr>\n",
       "      <td>2019-07-19</td>\n",
       "      <td>55.84</td>\n",
       "      <td>56.49</td>\n",
       "      <td>55.12</td>\n",
       "      <td>55.76</td>\n",
       "      <td>710948</td>\n",
       "    </tr>\n",
       "  </tbody>\n",
       "</table>\n",
       "</div>"
      ],
      "text/plain": [
       "             open   high    low  close     vol\n",
       "date                                          \n",
       "2019-07-18  56.72  57.45  54.85  55.42  764491\n",
       "2019-07-19  55.84  56.49  55.12  55.76  710948"
      ]
     },
     "execution_count": 6,
     "metadata": {},
     "output_type": "execute_result"
    }
   ],
   "source": [
    "s3_path = hs3.get_path()\n",
    "kibot_path = os.path.join(\n",
    "    s3_path, \"kibot/All_Futures_Continuous_Contracts_daily/%s.csv.gz\"\n",
    ")\n",
    "file_name = kibot_path % SYMBOL\n",
    "\n",
    "daily_prices = kut.read_data(\n",
    "    file_name, nrows=None\n",
    ")\n",
    "\n",
    "daily_prices.tail(2)"
   ]
  },
  {
   "cell_type": "code",
   "execution_count": 7,
   "metadata": {
    "ExecuteTime": {
     "end_time": "2019-10-15T14:41:58.352439Z",
     "start_time": "2019-10-15T14:41:49.626772Z"
    }
   },
   "outputs": [
    {
     "name": "stdout",
     "output_type": "stream",
     "text": [
      "args=('s3://default00-bucket/kibot/All_Futures_Continuous_Contracts_1min/CL.csv.gz',) kwargs={'nrows': None}\n"
     ]
    },
    {
     "data": {
      "text/html": [
       "<div>\n",
       "<style scoped>\n",
       "    .dataframe tbody tr th:only-of-type {\n",
       "        vertical-align: middle;\n",
       "    }\n",
       "\n",
       "    .dataframe tbody tr th {\n",
       "        vertical-align: top;\n",
       "    }\n",
       "\n",
       "    .dataframe thead th {\n",
       "        text-align: right;\n",
       "    }\n",
       "</style>\n",
       "<table border=\"1\" class=\"dataframe\">\n",
       "  <thead>\n",
       "    <tr style=\"text-align: right;\">\n",
       "      <th></th>\n",
       "      <th>open</th>\n",
       "      <th>high</th>\n",
       "      <th>low</th>\n",
       "      <th>close</th>\n",
       "      <th>vol</th>\n",
       "      <th>time</th>\n",
       "    </tr>\n",
       "    <tr>\n",
       "      <th>datetime</th>\n",
       "      <th></th>\n",
       "      <th></th>\n",
       "      <th></th>\n",
       "      <th></th>\n",
       "      <th></th>\n",
       "      <th></th>\n",
       "    </tr>\n",
       "  </thead>\n",
       "  <tbody>\n",
       "    <tr>\n",
       "      <td>2019-07-19 16:58:00</td>\n",
       "      <td>55.89</td>\n",
       "      <td>55.93</td>\n",
       "      <td>55.88</td>\n",
       "      <td>55.92</td>\n",
       "      <td>49</td>\n",
       "      <td>16:58:00</td>\n",
       "    </tr>\n",
       "    <tr>\n",
       "      <td>2019-07-19 16:59:00</td>\n",
       "      <td>55.91</td>\n",
       "      <td>55.92</td>\n",
       "      <td>55.86</td>\n",
       "      <td>55.86</td>\n",
       "      <td>131</td>\n",
       "      <td>16:59:00</td>\n",
       "    </tr>\n",
       "  </tbody>\n",
       "</table>\n",
       "</div>"
      ],
      "text/plain": [
       "                      open   high    low  close  vol      time\n",
       "datetime                                                      \n",
       "2019-07-19 16:58:00  55.89  55.93  55.88  55.92   49  16:58:00\n",
       "2019-07-19 16:59:00  55.91  55.92  55.86  55.86  131  16:59:00"
      ]
     },
     "execution_count": 7,
     "metadata": {},
     "output_type": "execute_result"
    }
   ],
   "source": [
    "s3_path = hs3.get_path()\n",
    "kibot_path = os.path.join(\n",
    "    s3_path, \"kibot/All_Futures_Continuous_Contracts_1min/%s.csv.gz\"\n",
    ")\n",
    "file_name = kibot_path % SYMBOL\n",
    "minutely_prices = kut.read_data(\n",
    "    file_name, nrows=None\n",
    ")\n",
    "\n",
    "minutely_prices.tail(2)"
   ]
  },
  {
   "cell_type": "code",
   "execution_count": 8,
   "metadata": {
    "ExecuteTime": {
     "end_time": "2019-10-15T14:41:58.888256Z",
     "start_time": "2019-10-15T14:41:58.354031Z"
    }
   },
   "outputs": [],
   "source": [
    "five_min_prices = minutely_prices.resample(\"5Min\").last()"
   ]
  },
  {
   "cell_type": "code",
   "execution_count": 9,
   "metadata": {
    "ExecuteTime": {
     "end_time": "2019-10-15T14:41:58.913781Z",
     "start_time": "2019-10-15T14:41:58.889761Z"
    }
   },
   "outputs": [
    {
     "data": {
      "text/html": [
       "<div>\n",
       "<style scoped>\n",
       "    .dataframe tbody tr th:only-of-type {\n",
       "        vertical-align: middle;\n",
       "    }\n",
       "\n",
       "    .dataframe tbody tr th {\n",
       "        vertical-align: top;\n",
       "    }\n",
       "\n",
       "    .dataframe thead th {\n",
       "        text-align: right;\n",
       "    }\n",
       "</style>\n",
       "<table border=\"1\" class=\"dataframe\">\n",
       "  <thead>\n",
       "    <tr style=\"text-align: right;\">\n",
       "      <th></th>\n",
       "      <th>open</th>\n",
       "      <th>high</th>\n",
       "      <th>low</th>\n",
       "      <th>close</th>\n",
       "      <th>vol</th>\n",
       "      <th>time</th>\n",
       "    </tr>\n",
       "    <tr>\n",
       "      <th>datetime</th>\n",
       "      <th></th>\n",
       "      <th></th>\n",
       "      <th></th>\n",
       "      <th></th>\n",
       "      <th></th>\n",
       "      <th></th>\n",
       "    </tr>\n",
       "  </thead>\n",
       "  <tbody>\n",
       "    <tr>\n",
       "      <td>2009-09-27 18:00:00</td>\n",
       "      <td>66.39</td>\n",
       "      <td>66.46</td>\n",
       "      <td>66.39</td>\n",
       "      <td>66.46</td>\n",
       "      <td>14.0</td>\n",
       "      <td>18:04:00</td>\n",
       "    </tr>\n",
       "    <tr>\n",
       "      <td>2009-09-27 18:05:00</td>\n",
       "      <td>66.39</td>\n",
       "      <td>66.39</td>\n",
       "      <td>66.37</td>\n",
       "      <td>66.38</td>\n",
       "      <td>4.0</td>\n",
       "      <td>18:09:00</td>\n",
       "    </tr>\n",
       "    <tr>\n",
       "      <td>2009-09-27 18:10:00</td>\n",
       "      <td>66.37</td>\n",
       "      <td>66.39</td>\n",
       "      <td>66.37</td>\n",
       "      <td>66.39</td>\n",
       "      <td>5.0</td>\n",
       "      <td>18:14:00</td>\n",
       "    </tr>\n",
       "    <tr>\n",
       "      <td>2009-09-27 18:15:00</td>\n",
       "      <td>66.41</td>\n",
       "      <td>66.41</td>\n",
       "      <td>66.38</td>\n",
       "      <td>66.38</td>\n",
       "      <td>6.0</td>\n",
       "      <td>18:19:00</td>\n",
       "    </tr>\n",
       "    <tr>\n",
       "      <td>2009-09-27 18:20:00</td>\n",
       "      <td>66.32</td>\n",
       "      <td>66.32</td>\n",
       "      <td>66.30</td>\n",
       "      <td>66.30</td>\n",
       "      <td>5.0</td>\n",
       "      <td>18:24:00</td>\n",
       "    </tr>\n",
       "  </tbody>\n",
       "</table>\n",
       "</div>"
      ],
      "text/plain": [
       "                      open   high    low  close   vol      time\n",
       "datetime                                                       \n",
       "2009-09-27 18:00:00  66.39  66.46  66.39  66.46  14.0  18:04:00\n",
       "2009-09-27 18:05:00  66.39  66.39  66.37  66.38   4.0  18:09:00\n",
       "2009-09-27 18:10:00  66.37  66.39  66.37  66.39   5.0  18:14:00\n",
       "2009-09-27 18:15:00  66.41  66.41  66.38  66.38   6.0  18:19:00\n",
       "2009-09-27 18:20:00  66.32  66.32  66.30  66.30   5.0  18:24:00"
      ]
     },
     "execution_count": 9,
     "metadata": {},
     "output_type": "execute_result"
    }
   ],
   "source": [
    "five_min_prices.head()"
   ]
  },
  {
   "cell_type": "markdown",
   "metadata": {},
   "source": [
    "# Daily price movements"
   ]
  },
  {
   "cell_type": "code",
   "execution_count": 10,
   "metadata": {
    "ExecuteTime": {
     "end_time": "2019-10-15T14:41:58.935486Z",
     "start_time": "2019-10-15T14:41:58.915216Z"
    }
   },
   "outputs": [],
   "source": [
    "zscored_rets = pma.get_zscored_returns(\n",
    "    daily_prices, \"daily\"\n",
    ")\n",
    "top_daily_movements = get_top_100(zscored_rets)"
   ]
  },
  {
   "cell_type": "code",
   "execution_count": 11,
   "metadata": {
    "ExecuteTime": {
     "end_time": "2019-10-15T14:41:59.314417Z",
     "start_time": "2019-10-15T14:41:58.937017Z"
    }
   },
   "outputs": [
    {
     "data": {
      "image/png": "[encoded data removed]",
      "text/plain": [
       "<Figure size 1440x360 with 1 Axes>"
      ]
     },
     "metadata": {},
     "output_type": "display_data"
    }
   ],
   "source": [
    "top_daily_movements.index.year.value_counts(sort=False).plot(kind=\"bar\")\n",
    "plt.title(\"How many of the top-100 price movements occured during each year\")\n",
    "plt.show()"
   ]
  },
  {
   "cell_type": "code",
   "execution_count": 12,
   "metadata": {
    "ExecuteTime": {
     "end_time": "2019-10-15T14:41:59.371382Z",
     "start_time": "2019-10-15T14:41:59.315893Z"
    }
   },
   "outputs": [
    {
     "data": {
      "text/plain": [
       "date        date      \n",
       "1996-12-31  1996-11-18    2.952996\n",
       "            1996-09-03    2.141749\n",
       "            1996-09-17    1.933235\n",
       "            1996-12-12    1.865632\n",
       "            1996-09-16    1.716851\n",
       "Name: ret_0, dtype: float64"
      ]
     },
     "execution_count": 12,
     "metadata": {},
     "output_type": "execute_result"
    }
   ],
   "source": [
    "top_daily_movements_by_year = zscored_rets.resample('Y').apply(get_top_100)\n",
    "top_daily_movements_by_year.head()"
   ]
  },
  {
   "cell_type": "code",
   "execution_count": 13,
   "metadata": {
    "ExecuteTime": {
     "end_time": "2019-10-15T14:41:59.394856Z",
     "start_time": "2019-10-15T14:41:59.372901Z"
    }
   },
   "outputs": [
    {
     "data": {
      "text/plain": [
       "date        date      \n",
       "2019-12-31  2019-04-11    0.298249\n",
       "            2019-01-28    0.285462\n",
       "            2019-01-08    0.283900\n",
       "            2019-06-17    0.278893\n",
       "            2019-04-22    0.278580\n",
       "Name: ret_0, dtype: float64"
      ]
     },
     "execution_count": 13,
     "metadata": {},
     "output_type": "execute_result"
    }
   ],
   "source": [
    "top_daily_movements_by_year.tail()"
   ]
  },
  {
   "cell_type": "markdown",
   "metadata": {},
   "source": [
    "# 1-min movements"
   ]
  },
  {
   "cell_type": "code",
   "execution_count": 14,
   "metadata": {
    "ExecuteTime": {
     "end_time": "2019-10-15T14:42:00.445575Z",
     "start_time": "2019-10-15T14:41:59.396367Z"
    }
   },
   "outputs": [],
   "source": [
    "zscored_1min_rets = pma.get_zscored_returns(\n",
    "    minutely_prices, \"minutely\"\n",
    ")\n",
    "top_1min_movements = get_top_100(zscored_1min_rets)"
   ]
  },
  {
   "cell_type": "code",
   "execution_count": 15,
   "metadata": {
    "ExecuteTime": {
     "end_time": "2019-10-15T14:42:00.465121Z",
     "start_time": "2019-10-15T14:42:00.447135Z"
    },
    "scrolled": false
   },
   "outputs": [
    {
     "data": {
      "text/plain": [
       "datetime\n",
       "2011-02-17 01:16:00    4.300486\n",
       "2015-12-16 18:00:00    4.300040\n",
       "2014-08-17 18:00:00    4.299188\n",
       "2016-03-16 18:00:00    4.298413\n",
       "2017-01-17 19:19:00    4.298211\n",
       "Name: ret_0, dtype: float64"
      ]
     },
     "execution_count": 15,
     "metadata": {},
     "output_type": "execute_result"
    }
   ],
   "source": [
    "top_1min_movements.head()"
   ]
  },
  {
   "cell_type": "code",
   "execution_count": 16,
   "metadata": {
    "ExecuteTime": {
     "end_time": "2019-10-15T14:42:03.874364Z",
     "start_time": "2019-10-15T14:42:00.466612Z"
    }
   },
   "outputs": [
    {
     "data": {
      "image/png": "[encoded data removed]",
      "text/plain": [
       "<Figure size 1440x360 with 1 Axes>"
      ]
     },
     "metadata": {},
     "output_type": "display_data"
    }
   ],
   "source": [
    "top_1min_movements.plot(kind=\"bar\")\n",
    "plt.title(\n",
    "    f\"Largest price movements in a 1 min interval (in z-score space) for the {SYMBOL} symbol\"\n",
    ")\n",
    "plt.show()"
   ]
  },
  {
   "cell_type": "code",
   "execution_count": 17,
   "metadata": {
    "ExecuteTime": {
     "end_time": "2019-10-15T14:42:04.395755Z",
     "start_time": "2019-10-15T14:42:03.875884Z"
    }
   },
   "outputs": [
    {
     "data": {
      "text/plain": [
       "datetime    datetime           \n",
       "2009-12-31  2009-12-08 16:31:00    4.201319\n",
       "            2009-11-22 18:00:00    4.163986\n",
       "            2009-11-17 16:30:00    4.156503\n",
       "            2009-11-18 12:57:00    4.154908\n",
       "            2009-12-16 10:31:00    4.154353\n",
       "Name: ret_0, dtype: float64"
      ]
     },
     "execution_count": 17,
     "metadata": {},
     "output_type": "execute_result"
    }
   ],
   "source": [
    "top_1min_movements_by_year = zscored_1min_rets.resample('Y').apply(get_top_100)\n",
    "top_1min_movements_by_year.head()"
   ]
  },
  {
   "cell_type": "markdown",
   "metadata": {},
   "source": [
    "# 5-min movements"
   ]
  },
  {
   "cell_type": "code",
   "execution_count": 18,
   "metadata": {
    "ExecuteTime": {
     "end_time": "2019-10-15T14:42:04.637242Z",
     "start_time": "2019-10-15T14:42:04.398090Z"
    }
   },
   "outputs": [],
   "source": [
    "zscored_5min_rets = pma.get_zscored_returns(\n",
    "    five_min_prices, \"minutely\"\n",
    ")\n",
    "top_5min_movements = get_top_100(zscored_5min_rets)"
   ]
  },
  {
   "cell_type": "code",
   "execution_count": 19,
   "metadata": {
    "ExecuteTime": {
     "end_time": "2019-10-15T14:42:04.657064Z",
     "start_time": "2019-10-15T14:42:04.638829Z"
    }
   },
   "outputs": [
    {
     "data": {
      "text/plain": [
       "datetime\n",
       "2011-02-17 01:15:00    4.292089\n",
       "2017-06-07 10:30:00    4.266978\n",
       "2018-03-20 01:45:00    4.250278\n",
       "2009-12-04 08:30:00    4.227688\n",
       "2017-04-26 10:30:00    4.211947\n",
       "Name: ret_0, dtype: float64"
      ]
     },
     "execution_count": 19,
     "metadata": {},
     "output_type": "execute_result"
    }
   ],
   "source": [
    "top_5min_movements.head()"
   ]
  },
  {
   "cell_type": "code",
   "execution_count": 20,
   "metadata": {
    "ExecuteTime": {
     "end_time": "2019-10-15T14:42:04.675990Z",
     "start_time": "2019-10-15T14:42:04.658438Z"
    }
   },
   "outputs": [
    {
     "name": "stdout",
     "output_type": "stream",
     "text": [
      "Top 100 of the 5-min price movements for CL occur at the following time:\n",
      "10:30:00    20\n",
      "16:30:00    13\n",
      "08:30:00     8\n",
      "03:25:00     2\n",
      "11:00:00     2\n",
      "13:50:00     2\n",
      "03:05:00     2\n",
      "03:30:00     2\n",
      "04:25:00     2\n",
      "09:00:00     2\n",
      "03:00:00     1\n",
      "09:50:00     1\n",
      "23:25:00     1\n",
      "10:45:00     1\n",
      "05:40:00     1\n",
      "08:00:00     1\n",
      "05:55:00     1\n",
      "09:10:00     1\n",
      "07:25:00     1\n",
      "01:05:00     1\n",
      "11:25:00     1\n",
      "05:45:00     1\n",
      "11:50:00     1\n",
      "10:15:00     1\n",
      "07:45:00     1\n",
      "07:55:00     1\n",
      "05:30:00     1\n",
      "07:20:00     1\n",
      "08:10:00     1\n",
      "04:10:00     1\n",
      "02:30:00     1\n",
      "00:20:00     1\n",
      "02:45:00     1\n",
      "02:15:00     1\n",
      "21:50:00     1\n",
      "09:05:00     1\n",
      "07:40:00     1\n",
      "10:35:00     1\n",
      "01:15:00     1\n",
      "22:40:00     1\n",
      "04:00:00     1\n",
      "03:45:00     1\n",
      "03:15:00     1\n",
      "00:55:00     1\n",
      "09:20:00     1\n",
      "21:20:00     1\n",
      "00:40:00     1\n",
      "23:35:00     1\n",
      "01:45:00     1\n",
      "00:30:00     1\n",
      "05:00:00     1\n",
      "09:35:00     1\n",
      "01:00:00     1\n",
      "22:15:00     1\n",
      "05:10:00     1\n",
      "Name: datetime, dtype: int64\n"
     ]
    }
   ],
   "source": [
    "print(f\"Top 100 of the 5-min price movements for {SYMBOL} occur at the following time:\")\n",
    "print(pd.Series(top_5min_movements.index).dt.time.value_counts())"
   ]
  },
  {
   "cell_type": "code",
   "execution_count": 21,
   "metadata": {
    "ExecuteTime": {
     "end_time": "2019-10-15T14:42:04.822861Z",
     "start_time": "2019-10-15T14:42:04.677397Z"
    }
   },
   "outputs": [
    {
     "data": {
      "text/plain": [
       "datetime    datetime           \n",
       "2009-12-31  2009-12-04 08:30:00    4.227688\n",
       "            2009-12-16 10:30:00    4.026082\n",
       "            2009-10-02 08:30:00    3.995286\n",
       "            2009-10-21 10:30:00    3.899341\n",
       "            2009-12-29 06:55:00    3.892555\n",
       "Name: ret_0, dtype: float64"
      ]
     },
     "execution_count": 21,
     "metadata": {},
     "output_type": "execute_result"
    }
   ],
   "source": [
    "top_5min_movements_by_year = zscored_5min_rets.resample('Y').apply(get_top_100)\n",
    "top_5min_movements_by_year.head()"
   ]
  },
  {
   "cell_type": "code",
   "execution_count": 22,
   "metadata": {
    "ExecuteTime": {
     "end_time": "2019-10-15T14:42:22.046466Z",
     "start_time": "2019-10-15T14:42:22.022786Z"
    }
   },
   "outputs": [
    {
     "data": {
      "text/plain": [
       "datetime    datetime           \n",
       "2019-12-31  2019-01-28 00:30:00    3.387837\n",
       "            2019-03-06 10:00:00    3.387275\n",
       "            2019-01-04 00:30:00    3.386467\n",
       "            2019-01-04 08:25:00    3.384488\n",
       "            2019-06-11 16:30:00    3.384389\n",
       "Name: ret_0, dtype: float64"
      ]
     },
     "execution_count": 22,
     "metadata": {},
     "output_type": "execute_result"
    }
   ],
   "source": [
    "top_5min_movements_by_year.tail()"
   ]
  },
  {
   "cell_type": "code",
   "execution_count": null,
   "metadata": {},
   "outputs": [],
   "source": []
  }
 ],
 "metadata": {
  "jupytext": {
   "text_representation": {
    "extension": ".py",
    "format_name": "percent",
    "format_version": "1.2",
    "jupytext_version": "1.2.4"
   }
  },
  "kernelspec": {
   "display_name": "Python [conda env:.conda-p1_develop] *",
   "language": "python",
   "name": "conda-env-.conda-p1_develop-py"
  },
  "language_info": {
   "codemirror_mode": {
    "name": "ipython",
    "version": 3
   },
   "file_extension": ".py",
   "mimetype": "text/x-python",
   "name": "python",
   "nbconvert_exporter": "python",
   "pygments_lexer": "ipython3",
   "version": "3.7.3"
  },
  "toc": {
   "base_numbering": 1,
   "nav_menu": {},
   "number_sections": true,
   "sideBar": true,
   "skip_h1_title": false,
   "title_cell": "Table of Contents",
   "title_sidebar": "Contents",
   "toc_cell": false,
   "toc_position": {
    "height": "calc(100% - 180px)",
    "left": "10px",
    "top": "150px",
    "width": "206.016px"
   },
   "toc_section_display": true,
   "toc_window_display": true
  }
 },
 "nbformat": 4,
 "nbformat_minor": 2
}
