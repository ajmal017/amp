{
 "cells": [
  {
   "cell_type": "markdown",
   "metadata": {},
   "source": [
    "## Imports"
   ]
  },
  {
   "cell_type": "code",
   "execution_count": 1,
   "metadata": {
    "ExecuteTime": {
     "end_time": "2019-10-16T13:31:07.891288Z",
     "start_time": "2019-10-16T13:31:06.588755Z"
    }
   },
   "outputs": [],
   "source": [
    "%load_ext autoreload\n",
    "%autoreload 2\n",
    "\n",
    "import logging\n",
    "import os\n",
    "\n",
    "import numpy as np\n",
    "import pandas as pd\n",
    "from matplotlib import pyplot as plt"
   ]
  },
  {
   "cell_type": "code",
   "execution_count": 2,
   "metadata": {
    "ExecuteTime": {
     "end_time": "2019-10-16T13:31:09.527949Z",
     "start_time": "2019-10-16T13:31:07.893849Z"
    }
   },
   "outputs": [
    {
     "name": "stderr",
     "output_type": "stream",
     "text": [
      "/anaconda3/lib/python3.7/site-packages/tqdm/autonotebook/__init__.py:14: TqdmExperimentalWarning: Using `tqdm.autonotebook.tqdm` in notebook mode. Use `tqdm.tqdm` instead to force console mode (e.g. in jupyter console)\n",
      "  \" (e.g. in jupyter console)\", TqdmExperimentalWarning)\n"
     ]
    }
   ],
   "source": [
    "from tqdm.autonotebook import tqdm\n",
    "\n",
    "import amp_research.price_movement_analysis as pma\n",
    "import helpers.dbg as dbg\n",
    "import helpers.env as env\n",
    "import helpers.printing as pri\n",
    "import helpers.s3 as hs3\n",
    "import vendors.cme.read as cmer\n",
    "import vendors.kibot.utils as kut"
   ]
  },
  {
   "cell_type": "code",
   "execution_count": 3,
   "metadata": {
    "ExecuteTime": {
     "end_time": "2019-10-16T13:31:09.893809Z",
     "start_time": "2019-10-16T13:31:09.530807Z"
    }
   },
   "outputs": [
    {
     "name": "stdout",
     "output_type": "stream",
     "text": [
      "# Packages\n",
      "         python: 3.7.3\n",
      "         joblib: 0.13.2\n",
      "          numpy: 1.16.4\n",
      "         pandas: 0.24.2\n",
      "        pyarrow: - (can't import)\n",
      "          scipy: 1.3.0\n",
      "        seaborn: 0.9.0\n",
      "        sklearn: 0.21.2\n",
      "    statsmodels: 0.10.0\n",
      "# Last commits:\n",
      "  * 4b089e0 Julia    PartTask218: Change order to ascending for negative movements     (21 minutes ago) Wed Oct 16 19:00:42 2019  (HEAD -> PartTask218_PRICE_Large_price_movement_analysis, origin/PartTask218_PRICE_Large_price_movement_analysis)\n",
      "  * ffd4e3e Julia    PartTask218: Update for the removed abs in get_zscored_returns(), choose sign of the movements (32 minutes ago) Wed Oct 16 18:49:53 2019           \n",
      "  * 1bfbfcd Julia    PartTask218: Divide positive and negative movements               (   2 hours ago) Wed Oct 16 17:42:08 2019           \n",
      "\u001b[0mWARNING: Running in Jupyter\n"
     ]
    }
   ],
   "source": [
    "print(env.get_system_signature())\n",
    "\n",
    "pri.config_notebook()\n",
    "\n",
    "dbg.init_logger(verb=logging.INFO)\n",
    "\n",
    "_LOG = logging.getLogger(__name__)"
   ]
  },
  {
   "cell_type": "markdown",
   "metadata": {},
   "source": [
    "# Load CME metadata"
   ]
  },
  {
   "cell_type": "code",
   "execution_count": 4,
   "metadata": {
    "ExecuteTime": {
     "end_time": "2019-10-16T13:31:11.180894Z",
     "start_time": "2019-10-16T13:31:09.896058Z"
    }
   },
   "outputs": [
    {
     "name": "stdout",
     "output_type": "stream",
     "text": [
      "Reading s3://default00-bucket/cme/product_slate_export_with_contract_specs_20190905.csv\n"
     ]
    }
   ],
   "source": [
    "product_list = cmer.read_product_specs()"
   ]
  },
  {
   "cell_type": "code",
   "execution_count": 5,
   "metadata": {
    "ExecuteTime": {
     "end_time": "2019-10-16T13:31:11.283309Z",
     "start_time": "2019-10-16T13:31:11.183009Z"
    }
   },
   "outputs": [
    {
     "data": {
      "text/html": [
       "<div>\n",
       "<style scoped>\n",
       "    .dataframe tbody tr th:only-of-type {\n",
       "        vertical-align: middle;\n",
       "    }\n",
       "\n",
       "    .dataframe tbody tr th {\n",
       "        vertical-align: top;\n",
       "    }\n",
       "\n",
       "    .dataframe thead th {\n",
       "        text-align: right;\n",
       "    }\n",
       "</style>\n",
       "<table border=\"1\" class=\"dataframe\">\n",
       "  <thead>\n",
       "    <tr style=\"text-align: right;\">\n",
       "      <th></th>\n",
       "      <th>Clearing</th>\n",
       "      <th>Globex</th>\n",
       "      <th>Floor</th>\n",
       "      <th>Clearport</th>\n",
       "      <th>Product Name</th>\n",
       "      <th>Product Group</th>\n",
       "      <th>Sub Group</th>\n",
       "      <th>Category</th>\n",
       "      <th>Sub Category</th>\n",
       "      <th>Cleared As</th>\n",
       "      <th>Exchange</th>\n",
       "      <th>Volume</th>\n",
       "      <th>Open Interest</th>\n",
       "      <th>product_link</th>\n",
       "      <th>Contract Unit</th>\n",
       "      <th>Price Quotation</th>\n",
       "      <th>Trading Hours</th>\n",
       "      <th>Minimum Price Fluctuation</th>\n",
       "      <th>Product Code</th>\n",
       "      <th>Listed Contracts</th>\n",
       "      <th>Settlement Method</th>\n",
       "      <th>Termination Of Trading</th>\n",
       "      <th>Settlement Procedures</th>\n",
       "      <th>Position Limits</th>\n",
       "      <th>Exchange Rulebook</th>\n",
       "      <th>Block Minimum</th>\n",
       "      <th>Price Limit Or Circuit</th>\n",
       "      <th>All Or None Minimum</th>\n",
       "      <th>Vendor Codes</th>\n",
       "      <th>Settlement Procedures Link</th>\n",
       "      <th>Position Limits Link</th>\n",
       "      <th>Exchange Rulebook Link</th>\n",
       "      <th>Block Minimum Link</th>\n",
       "      <th>Price Limit Or Circuit Link</th>\n",
       "      <th>All Or None Minimum Link</th>\n",
       "      <th>Vendor Codes Link</th>\n",
       "      <th>Delivery Procedure</th>\n",
       "      <th>Last Delivery Date</th>\n",
       "      <th>Grade And Quality</th>\n",
       "      <th>Trade At Marker Or Trade At Settlement Rules</th>\n",
       "      <th>Delivery Period</th>\n",
       "      <th>Minimum Price Fluctuation_0</th>\n",
       "      <th>Grade And Quality Link</th>\n",
       "      <th>Floating Price</th>\n",
       "      <th>Days Or Hours</th>\n",
       "      <th>Trading Hours_0</th>\n",
       "      <th>Delivery Period Link</th>\n",
       "      <th>Delivery Procedure Link</th>\n",
       "      <th>Trade At Marker Or Trade At Settlement Rules Link</th>\n",
       "      <th>Minimum Price Fluctuation Link</th>\n",
       "      <th>Listed Contracts Link</th>\n",
       "      <th>Termination Of Trading_0</th>\n",
       "      <th>Termination Of Trading Link</th>\n",
       "      <th>Reportable Positions</th>\n",
       "      <th>Termination Of Trading_1</th>\n",
       "      <th>CME Globex:</th>\n",
       "      <th>Reportable Positions Link</th>\n",
       "    </tr>\n",
       "  </thead>\n",
       "  <tbody>\n",
       "    <tr>\n",
       "      <th>0</th>\n",
       "      <td>ED</td>\n",
       "      <td>GE</td>\n",
       "      <td>NaN</td>\n",
       "      <td>ED</td>\n",
       "      <td>Eurodollar Futures</td>\n",
       "      <td>Interest Rate</td>\n",
       "      <td>Stirs</td>\n",
       "      <td>NaN</td>\n",
       "      <td>NaN</td>\n",
       "      <td>Futures</td>\n",
       "      <td>CME</td>\n",
       "      <td>3104281</td>\n",
       "      <td>13213901</td>\n",
       "      <td>http://www.cmegroup.com/trading/interest-rates...</td>\n",
       "      <td>$2,500 x Contract IMM Index</td>\n",
       "      <td>Contract IMM Index = 100 minus R R = three-mon...</td>\n",
       "      <td>SUN - FRI: 5:00 p.m. - 4:00 p.m. CT</td>\n",
       "      <td>Nearest expiring contract month: One quarter o...</td>\n",
       "      <td>CME Globex: GECME ClearPort: EDClearing: ED</td>\n",
       "      <td>Nearest 40 months (i.e., 10 years) in the Marc...</td>\n",
       "      <td>Financially Settled</td>\n",
       "      <td>Second London bank business day before 3rd Wed...</td>\n",
       "      <td>Eurodollar Future Settlement Procedures</td>\n",
       "      <td>CME Position Limits</td>\n",
       "      <td>CME 452</td>\n",
       "      <td>Block Minimum Thresholds</td>\n",
       "      <td>Price Limits</td>\n",
       "      <td>All or None Minimums</td>\n",
       "      <td>Quote Vendor Symbols Listing</td>\n",
       "      <td>http://www.cmegroup.com/confluence/display/EPI...</td>\n",
       "      <td>http://www.cmegroup.com/rulebook/files/positio...</td>\n",
       "      <td>http://www.cmegroup.com/rulebook/CME/V/450/452...</td>\n",
       "      <td>http://www.cmegroup.com/clearing/trading-pract...</td>\n",
       "      <td>http://www.cmegroup.com/rulebook/files/special...</td>\n",
       "      <td>http://www.cmegroup.com/clearing/trading-pract...</td>\n",
       "      <td>http://www.cmegroup.com/tools-information/vend...</td>\n",
       "      <td>NaN</td>\n",
       "      <td>NaN</td>\n",
       "      <td>NaN</td>\n",
       "      <td>NaN</td>\n",
       "      <td>NaN</td>\n",
       "      <td>NaN</td>\n",
       "      <td>NaN</td>\n",
       "      <td>NaN</td>\n",
       "      <td>NaN</td>\n",
       "      <td>NaN</td>\n",
       "      <td>NaN</td>\n",
       "      <td>NaN</td>\n",
       "      <td>NaN</td>\n",
       "      <td>NaN</td>\n",
       "      <td>NaN</td>\n",
       "      <td>NaN</td>\n",
       "      <td>NaN</td>\n",
       "      <td>NaN</td>\n",
       "      <td>NaN</td>\n",
       "      <td>NaN</td>\n",
       "      <td>NaN</td>\n",
       "    </tr>\n",
       "    <tr>\n",
       "      <th>1</th>\n",
       "      <td>25</td>\n",
       "      <td>ZF</td>\n",
       "      <td>NaN</td>\n",
       "      <td>25</td>\n",
       "      <td>5-Year T-Note Futures</td>\n",
       "      <td>Interest Rate</td>\n",
       "      <td>US Treasury</td>\n",
       "      <td>NaN</td>\n",
       "      <td>NaN</td>\n",
       "      <td>Futures</td>\n",
       "      <td>CBOT</td>\n",
       "      <td>1166719</td>\n",
       "      <td>4162661</td>\n",
       "      <td>http://www.cmegroup.com/trading/interest-rates...</td>\n",
       "      <td>Face value at maturity of $100,000</td>\n",
       "      <td>Points and fractions of points with par on the...</td>\n",
       "      <td>SUN - FRI: 5:00 p.m. - 4:00 p.m.</td>\n",
       "      <td>One-quarter of one thirty-second (1/32) of one...</td>\n",
       "      <td>CME Globex: ZFCME ClearPort: 25Clearing: 25</td>\n",
       "      <td>The first three consecutive contracts in the M...</td>\n",
       "      <td>Deliverable</td>\n",
       "      <td>Last business day of the calendar month. Tradi...</td>\n",
       "      <td>Treasury Settlement Procedures</td>\n",
       "      <td>CBOT Position Limits</td>\n",
       "      <td>CBOT 20</td>\n",
       "      <td>Block Minimum Thresholds</td>\n",
       "      <td>Price Limits</td>\n",
       "      <td>All or None Minimums</td>\n",
       "      <td>Quote Vendor Symbols Listing</td>\n",
       "      <td>http://www.cmegroup.com/confluence/display/EPI...</td>\n",
       "      <td>http://www.cmegroup.com/rulebook/files/positio...</td>\n",
       "      <td>https://www.cmegroup.com/rulebook/CBOT/II/20.pdf</td>\n",
       "      <td>http://www.cmegroup.com/clearing/trading-pract...</td>\n",
       "      <td>http://www.cmegroup.com/rulebook/files/special...</td>\n",
       "      <td>/clearing/trading-practices/all-or-none.html</td>\n",
       "      <td>http://www.cmegroup.com/tools-information/vend...</td>\n",
       "      <td>Federal Reserve book-entry wire-transfer system.</td>\n",
       "      <td>Third business day following the last trading ...</td>\n",
       "      <td>U.S. Treasury notes with an original term to m...</td>\n",
       "      <td>NaN</td>\n",
       "      <td>NaN</td>\n",
       "      <td>NaN</td>\n",
       "      <td>NaN</td>\n",
       "      <td>NaN</td>\n",
       "      <td>NaN</td>\n",
       "      <td>NaN</td>\n",
       "      <td>NaN</td>\n",
       "      <td>NaN</td>\n",
       "      <td>NaN</td>\n",
       "      <td>NaN</td>\n",
       "      <td>NaN</td>\n",
       "      <td>NaN</td>\n",
       "      <td>NaN</td>\n",
       "      <td>NaN</td>\n",
       "      <td>NaN</td>\n",
       "      <td>NaN</td>\n",
       "      <td>NaN</td>\n",
       "    </tr>\n",
       "    <tr>\n",
       "      <th>2</th>\n",
       "      <td>21</td>\n",
       "      <td>ZN</td>\n",
       "      <td>NaN</td>\n",
       "      <td>21</td>\n",
       "      <td>10-Year T-Note Futures</td>\n",
       "      <td>Interest Rate</td>\n",
       "      <td>US Treasury</td>\n",
       "      <td>NaN</td>\n",
       "      <td>NaN</td>\n",
       "      <td>Futures</td>\n",
       "      <td>CBOT</td>\n",
       "      <td>2181982</td>\n",
       "      <td>3656744</td>\n",
       "      <td>http://www.cmegroup.com/trading/interest-rates...</td>\n",
       "      <td>Face value at maturity of $100,000</td>\n",
       "      <td>Points and fractions of points with par on the...</td>\n",
       "      <td>Sunday - Friday 6:00 p.m. - 5:00 p.m. (5:00 p....</td>\n",
       "      <td>Outrights: One-half of one thirty-second (1/32...</td>\n",
       "      <td>CME Globex: ZNCME ClearPort: 21Clearing: 21</td>\n",
       "      <td>Quarterly contracts (Mar, Jun, Sep, Dec) liste...</td>\n",
       "      <td>Deliverable</td>\n",
       "      <td>Trading terminates on the seventh business day...</td>\n",
       "      <td>Treasury Settlement Procedures</td>\n",
       "      <td>CBOT Position Limits</td>\n",
       "      <td>CBOT Chapter 19</td>\n",
       "      <td>Block Minimum Thresholds</td>\n",
       "      <td>Price Limits</td>\n",
       "      <td>All or None Minimums</td>\n",
       "      <td>Quote Vendor Symbols Listing</td>\n",
       "      <td>http://www.cmegroup.com/confluence/display/EPI...</td>\n",
       "      <td>http://www.cmegroup.com/rulebook/files/positio...</td>\n",
       "      <td>https://www.cmegroup.com/rulebook/CBOT/II/19.pdf</td>\n",
       "      <td>http://www.cmegroup.com/clearing/trading-pract...</td>\n",
       "      <td>http://www.cmegroup.com/rulebook/files/special...</td>\n",
       "      <td>http://www.cmegroup.com/clearing/trading-pract...</td>\n",
       "      <td>http://www.cmegroup.com/tools-information/vend...</td>\n",
       "      <td>Federal Reserve book-entry wire-transfer system.</td>\n",
       "      <td>Last business day of the delivery month.</td>\n",
       "      <td>U.S. Treasury notes with a remaining term to m...</td>\n",
       "      <td>NaN</td>\n",
       "      <td>NaN</td>\n",
       "      <td>NaN</td>\n",
       "      <td>NaN</td>\n",
       "      <td>NaN</td>\n",
       "      <td>NaN</td>\n",
       "      <td>NaN</td>\n",
       "      <td>NaN</td>\n",
       "      <td>NaN</td>\n",
       "      <td>NaN</td>\n",
       "      <td>NaN</td>\n",
       "      <td>NaN</td>\n",
       "      <td>NaN</td>\n",
       "      <td>NaN</td>\n",
       "      <td>NaN</td>\n",
       "      <td>NaN</td>\n",
       "      <td>NaN</td>\n",
       "      <td>NaN</td>\n",
       "    </tr>\n",
       "    <tr>\n",
       "      <th>3</th>\n",
       "      <td>26</td>\n",
       "      <td>ZT</td>\n",
       "      <td>NaN</td>\n",
       "      <td>26</td>\n",
       "      <td>2-Year T-Note Futures</td>\n",
       "      <td>Interest Rate</td>\n",
       "      <td>US Treasury</td>\n",
       "      <td>NaN</td>\n",
       "      <td>NaN</td>\n",
       "      <td>Futures</td>\n",
       "      <td>CBOT</td>\n",
       "      <td>666626</td>\n",
       "      <td>3510507</td>\n",
       "      <td>http://www.cmegroup.com/trading/interest-rates...</td>\n",
       "      <td>Face value at maturity of $200,000</td>\n",
       "      <td>Points and fractions of points with par on the...</td>\n",
       "      <td>SUN - FRI: 5:00 p.m. - 4:00 p.m.</td>\n",
       "      <td>One-eighth of one thirty-second (1/32) of one ...</td>\n",
       "      <td>CME Globex: ZTCME ClearPort: 26Clearing: 26</td>\n",
       "      <td>The first three consecutive contracts in the M...</td>\n",
       "      <td>Deliverable</td>\n",
       "      <td>Last business day of the calendar month. Tradi...</td>\n",
       "      <td>Treasury Settlement Procedures</td>\n",
       "      <td>CBOT Position Limits</td>\n",
       "      <td>CBOT 21</td>\n",
       "      <td>Block Minimum Thresholds</td>\n",
       "      <td>Price Limits</td>\n",
       "      <td>All or None Minimums</td>\n",
       "      <td>Quote Vendor Symbols Listing</td>\n",
       "      <td>http://www.cmegroup.com/confluence/display/EPI...</td>\n",
       "      <td>http://www.cmegroup.com/rulebook/files/positio...</td>\n",
       "      <td>https://www.cmegroup.com/rulebook/CBOT/II/21.pdf</td>\n",
       "      <td>http://www.cmegroup.com/clearing/trading-pract...</td>\n",
       "      <td>http://www.cmegroup.com/rulebook/files/special...</td>\n",
       "      <td>/clearing/trading-practices/all-or-none.html</td>\n",
       "      <td>http://www.cmegroup.com/tools-information/vend...</td>\n",
       "      <td>Federal Reserve book-entry wire-transfer system.</td>\n",
       "      <td>Third business day following the last trading ...</td>\n",
       "      <td>U.S. Treasury notes with an original term to m...</td>\n",
       "      <td>NaN</td>\n",
       "      <td>NaN</td>\n",
       "      <td>NaN</td>\n",
       "      <td>NaN</td>\n",
       "      <td>NaN</td>\n",
       "      <td>NaN</td>\n",
       "      <td>NaN</td>\n",
       "      <td>NaN</td>\n",
       "      <td>NaN</td>\n",
       "      <td>NaN</td>\n",
       "      <td>NaN</td>\n",
       "      <td>NaN</td>\n",
       "      <td>NaN</td>\n",
       "      <td>NaN</td>\n",
       "      <td>NaN</td>\n",
       "      <td>NaN</td>\n",
       "      <td>NaN</td>\n",
       "      <td>NaN</td>\n",
       "    </tr>\n",
       "    <tr>\n",
       "      <th>4</th>\n",
       "      <td>ES</td>\n",
       "      <td>ES</td>\n",
       "      <td>NaN</td>\n",
       "      <td>ES</td>\n",
       "      <td>E-mini S&amp;P 500 Futures</td>\n",
       "      <td>Equities</td>\n",
       "      <td>US Index</td>\n",
       "      <td>NaN</td>\n",
       "      <td>NaN</td>\n",
       "      <td>Futures</td>\n",
       "      <td>CME</td>\n",
       "      <td>2025324</td>\n",
       "      <td>2619124</td>\n",
       "      <td>http://www.cmegroup.com/trading/equity-index/u...</td>\n",
       "      <td>$50 x S&amp;P 500 Index</td>\n",
       "      <td>NaN</td>\n",
       "      <td>CME Globex: Sunday - Friday 6:00 p.m. - 5:00 p...</td>\n",
       "      <td>Outright: 0.25 index points = $12.50 Calendar ...</td>\n",
       "      <td>CME Globex: ESCME ClearPort: ESClearing: ESBTI...</td>\n",
       "      <td>Quarterly contracts (Mar, Jun, Sep, Dec) liste...</td>\n",
       "      <td>Financially Settled</td>\n",
       "      <td>Trading terminates at 9:30 a.m. ET on the 3rd ...</td>\n",
       "      <td>Settlement Procedures</td>\n",
       "      <td>CME Position Limits</td>\n",
       "      <td>CME 358</td>\n",
       "      <td>NaN</td>\n",
       "      <td>Price Limits</td>\n",
       "      <td>NaN</td>\n",
       "      <td>Quote Vendor Symbols Listing</td>\n",
       "      <td>http://www.cmegroup.com/confluence/display/EPI...</td>\n",
       "      <td>http://www.cmegroup.com/rulebook/files/positio...</td>\n",
       "      <td>http://www.cmegroup.com/rulebook/CME/IV/350/35...</td>\n",
       "      <td>NaN</td>\n",
       "      <td>https://www.cmegroup.com/trading/price-limits....</td>\n",
       "      <td>NaN</td>\n",
       "      <td>http://www.cmegroup.com/tools-information/vend...</td>\n",
       "      <td>NaN</td>\n",
       "      <td>NaN</td>\n",
       "      <td>NaN</td>\n",
       "      <td>NaN</td>\n",
       "      <td>NaN</td>\n",
       "      <td>NaN</td>\n",
       "      <td>NaN</td>\n",
       "      <td>NaN</td>\n",
       "      <td>NaN</td>\n",
       "      <td>NaN</td>\n",
       "      <td>NaN</td>\n",
       "      <td>NaN</td>\n",
       "      <td>NaN</td>\n",
       "      <td>NaN</td>\n",
       "      <td>NaN</td>\n",
       "      <td>NaN</td>\n",
       "      <td>NaN</td>\n",
       "      <td>NaN</td>\n",
       "      <td>NaN</td>\n",
       "      <td>NaN</td>\n",
       "      <td>NaN</td>\n",
       "    </tr>\n",
       "  </tbody>\n",
       "</table>\n",
       "</div>"
      ],
      "text/plain": [
       "  Clearing Globex Floor Clearport            Product Name  Product Group    Sub Group Category Sub Category Cleared As Exchange   Volume  Open Interest                                       product_link                       Contract Unit                                    Price Quotation                                      Trading Hours                          Minimum Price Fluctuation                                       Product Code                                   Listed Contracts    Settlement Method                             Termination Of Trading                    Settlement Procedures       Position Limits Exchange Rulebook             Block Minimum Price Limit Or Circuit   All Or None Minimum                  Vendor Codes                         Settlement Procedures Link                               Position Limits Link                             Exchange Rulebook Link                                 Block Minimum Link  \\\n",
       "0       ED     GE   NaN        ED      Eurodollar Futures  Interest Rate        Stirs      NaN          NaN    Futures      CME  3104281       13213901  http://www.cmegroup.com/trading/interest-rates...         $2,500 x Contract IMM Index  Contract IMM Index = 100 minus R R = three-mon...                SUN - FRI: 5:00 p.m. - 4:00 p.m. CT  Nearest expiring contract month: One quarter o...        CME Globex: GECME ClearPort: EDClearing: ED  Nearest 40 months (i.e., 10 years) in the Marc...  Financially Settled  Second London bank business day before 3rd Wed...  Eurodollar Future Settlement Procedures   CME Position Limits           CME 452  Block Minimum Thresholds           Price Limits  All or None Minimums  Quote Vendor Symbols Listing  http://www.cmegroup.com/confluence/display/EPI...  http://www.cmegroup.com/rulebook/files/positio...  http://www.cmegroup.com/rulebook/CME/V/450/452...  http://www.cmegroup.com/clearing/trading-pract...   \n",
       "1       25     ZF   NaN        25   5-Year T-Note Futures  Interest Rate  US Treasury      NaN          NaN    Futures     CBOT  1166719        4162661  http://www.cmegroup.com/trading/interest-rates...  Face value at maturity of $100,000  Points and fractions of points with par on the...                   SUN - FRI: 5:00 p.m. - 4:00 p.m.  One-quarter of one thirty-second (1/32) of one...        CME Globex: ZFCME ClearPort: 25Clearing: 25  The first three consecutive contracts in the M...          Deliverable  Last business day of the calendar month. Tradi...           Treasury Settlement Procedures  CBOT Position Limits           CBOT 20  Block Minimum Thresholds           Price Limits  All or None Minimums  Quote Vendor Symbols Listing  http://www.cmegroup.com/confluence/display/EPI...  http://www.cmegroup.com/rulebook/files/positio...   https://www.cmegroup.com/rulebook/CBOT/II/20.pdf  http://www.cmegroup.com/clearing/trading-pract...   \n",
       "2       21     ZN   NaN        21  10-Year T-Note Futures  Interest Rate  US Treasury      NaN          NaN    Futures     CBOT  2181982        3656744  http://www.cmegroup.com/trading/interest-rates...  Face value at maturity of $100,000  Points and fractions of points with par on the...  Sunday - Friday 6:00 p.m. - 5:00 p.m. (5:00 p....  Outrights: One-half of one thirty-second (1/32...        CME Globex: ZNCME ClearPort: 21Clearing: 21  Quarterly contracts (Mar, Jun, Sep, Dec) liste...          Deliverable  Trading terminates on the seventh business day...           Treasury Settlement Procedures  CBOT Position Limits   CBOT Chapter 19  Block Minimum Thresholds           Price Limits  All or None Minimums  Quote Vendor Symbols Listing  http://www.cmegroup.com/confluence/display/EPI...  http://www.cmegroup.com/rulebook/files/positio...   https://www.cmegroup.com/rulebook/CBOT/II/19.pdf  http://www.cmegroup.com/clearing/trading-pract...   \n",
       "3       26     ZT   NaN        26   2-Year T-Note Futures  Interest Rate  US Treasury      NaN          NaN    Futures     CBOT   666626        3510507  http://www.cmegroup.com/trading/interest-rates...  Face value at maturity of $200,000  Points and fractions of points with par on the...                   SUN - FRI: 5:00 p.m. - 4:00 p.m.  One-eighth of one thirty-second (1/32) of one ...        CME Globex: ZTCME ClearPort: 26Clearing: 26  The first three consecutive contracts in the M...          Deliverable  Last business day of the calendar month. Tradi...           Treasury Settlement Procedures  CBOT Position Limits           CBOT 21  Block Minimum Thresholds           Price Limits  All or None Minimums  Quote Vendor Symbols Listing  http://www.cmegroup.com/confluence/display/EPI...  http://www.cmegroup.com/rulebook/files/positio...   https://www.cmegroup.com/rulebook/CBOT/II/21.pdf  http://www.cmegroup.com/clearing/trading-pract...   \n",
       "4       ES     ES   NaN        ES  E-mini S&P 500 Futures       Equities     US Index      NaN          NaN    Futures      CME  2025324        2619124  http://www.cmegroup.com/trading/equity-index/u...                 $50 x S&P 500 Index                                                NaN  CME Globex: Sunday - Friday 6:00 p.m. - 5:00 p...  Outright: 0.25 index points = $12.50 Calendar ...  CME Globex: ESCME ClearPort: ESClearing: ESBTI...  Quarterly contracts (Mar, Jun, Sep, Dec) liste...  Financially Settled  Trading terminates at 9:30 a.m. ET on the 3rd ...                    Settlement Procedures   CME Position Limits           CME 358                       NaN           Price Limits                   NaN  Quote Vendor Symbols Listing  http://www.cmegroup.com/confluence/display/EPI...  http://www.cmegroup.com/rulebook/files/positio...  http://www.cmegroup.com/rulebook/CME/IV/350/35...                                                NaN   \n",
       "\n",
       "                         Price Limit Or Circuit Link                           All Or None Minimum Link                                  Vendor Codes Link                                Delivery Procedure                                 Last Delivery Date                                  Grade And Quality Trade At Marker Or Trade At Settlement Rules Delivery Period Minimum Price Fluctuation_0 Grade And Quality Link Floating Price Days Or Hours Trading Hours_0 Delivery Period Link Delivery Procedure Link Trade At Marker Or Trade At Settlement Rules Link Minimum Price Fluctuation Link Listed Contracts Link Termination Of Trading_0 Termination Of Trading Link Reportable Positions Termination Of Trading_1 CME Globex: Reportable Positions Link  \n",
       "0  http://www.cmegroup.com/rulebook/files/special...  http://www.cmegroup.com/clearing/trading-pract...  http://www.cmegroup.com/tools-information/vend...                                               NaN                                                NaN                                                NaN                                          NaN             NaN                         NaN                    NaN            NaN           NaN             NaN                  NaN                     NaN                                               NaN                            NaN                   NaN                      NaN                         NaN                  NaN                      NaN         NaN                       NaN  \n",
       "1  http://www.cmegroup.com/rulebook/files/special...       /clearing/trading-practices/all-or-none.html  http://www.cmegroup.com/tools-information/vend...  Federal Reserve book-entry wire-transfer system.  Third business day following the last trading ...  U.S. Treasury notes with an original term to m...                                          NaN             NaN                         NaN                    NaN            NaN           NaN             NaN                  NaN                     NaN                                               NaN                            NaN                   NaN                      NaN                         NaN                  NaN                      NaN         NaN                       NaN  \n",
       "2  http://www.cmegroup.com/rulebook/files/special...  http://www.cmegroup.com/clearing/trading-pract...  http://www.cmegroup.com/tools-information/vend...  Federal Reserve book-entry wire-transfer system.           Last business day of the delivery month.  U.S. Treasury notes with a remaining term to m...                                          NaN             NaN                         NaN                    NaN            NaN           NaN             NaN                  NaN                     NaN                                               NaN                            NaN                   NaN                      NaN                         NaN                  NaN                      NaN         NaN                       NaN  \n",
       "3  http://www.cmegroup.com/rulebook/files/special...       /clearing/trading-practices/all-or-none.html  http://www.cmegroup.com/tools-information/vend...  Federal Reserve book-entry wire-transfer system.  Third business day following the last trading ...  U.S. Treasury notes with an original term to m...                                          NaN             NaN                         NaN                    NaN            NaN           NaN             NaN                  NaN                     NaN                                               NaN                            NaN                   NaN                      NaN                         NaN                  NaN                      NaN         NaN                       NaN  \n",
       "4  https://www.cmegroup.com/trading/price-limits....                                                NaN  http://www.cmegroup.com/tools-information/vend...                                               NaN                                                NaN                                                NaN                                          NaN             NaN                         NaN                    NaN            NaN           NaN             NaN                  NaN                     NaN                                               NaN                            NaN                   NaN                      NaN                         NaN                  NaN                      NaN         NaN                       NaN  "
      ]
     },
     "execution_count": 5,
     "metadata": {},
     "output_type": "execute_result"
    }
   ],
   "source": [
    "product_list.head()"
   ]
  },
  {
   "cell_type": "code",
   "execution_count": 6,
   "metadata": {
    "ExecuteTime": {
     "end_time": "2019-10-16T13:31:11.336120Z",
     "start_time": "2019-10-16T13:31:11.285850Z"
    }
   },
   "outputs": [
    {
     "data": {
      "text/plain": [
       "Energy           892\n",
       "Equities         100\n",
       "Agriculture       57\n",
       "FX                55\n",
       "Metals            44\n",
       "Interest Rate     30\n",
       "Name: Product Group, dtype: int64"
      ]
     },
     "execution_count": 6,
     "metadata": {},
     "output_type": "execute_result"
    }
   ],
   "source": [
    "product_list[\"Product Group\"].value_counts()"
   ]
  },
  {
   "cell_type": "code",
   "execution_count": 7,
   "metadata": {
    "ExecuteTime": {
     "end_time": "2019-10-16T13:31:11.386339Z",
     "start_time": "2019-10-16T13:31:11.338417Z"
    }
   },
   "outputs": [],
   "source": [
    "product_list.set_index(\"Product Group\", inplace=True)"
   ]
  },
  {
   "cell_type": "code",
   "execution_count": 8,
   "metadata": {
    "ExecuteTime": {
     "end_time": "2019-10-16T13:31:11.432763Z",
     "start_time": "2019-10-16T13:31:11.388245Z"
    }
   },
   "outputs": [],
   "source": [
    "commodity_groups = [\"Energy\", \"Agriculture\", \"Metals\"]"
   ]
  },
  {
   "cell_type": "code",
   "execution_count": 9,
   "metadata": {
    "ExecuteTime": {
     "end_time": "2019-10-16T13:31:11.485383Z",
     "start_time": "2019-10-16T13:31:11.434861Z"
    }
   },
   "outputs": [],
   "source": [
    "commodity_symbols = {\n",
    "    group: product_list.loc[group][\"Globex\"].values for group in commodity_groups\n",
    "}"
   ]
  },
  {
   "cell_type": "code",
   "execution_count": 10,
   "metadata": {
    "ExecuteTime": {
     "end_time": "2019-10-16T13:31:11.538540Z",
     "start_time": "2019-10-16T13:31:11.487330Z"
    },
    "scrolled": true
   },
   "outputs": [
    {
     "data": {
      "text/plain": [
       "{'Energy': array(['CL', 'NG', 'NN', 'N9L', 'D2L', 'HO', 'RB', 'H2L', 'HH', 'BZ',\n",
       "        'V3L', 'BK', 'CSX', 'HTT', 'B0', 'NPG', 'WTT', 'B6L', 'E4L', 'HP',\n",
       "        'AL1', 'AFF', 'EJL', 'LT', 'AD0', 'A1R', 'R7L', 'D4L', 'AW6', 'CU',\n",
       "        'ADB', 'AC0', 'L3L', 'A4P', 'ME', 'CY', 'WOL', 'A8K', 'T7K', 'ZGL',\n",
       "        'MTF', 'LPS', 'T3L', 'AE5', 'AYV', 'MFB', 'AU6', 'RBB', 'AWJ',\n",
       "        'POL', 'A7Q', 'IDL', 'PWL', 'AZ9', 'RVR', 'ZJL', 'TL', 'A46', 'GZ',\n",
       "        'RLX', 'K4L', 'FTL', 'HOB', 'GCU', 'CRB', 'WCW', 'AOL', 'JDL',\n",
       "        'EN', 'AA6', 'PD', 'AGA', 'FO', 'N1B', 'NOI', 'MPX', 'NHN', 'NL',\n",
       "        'JKM', 'MTS', 'AB3', 'NR', 'AH3', 'AP8', 'A7E', 'PGN', 'AFH',\n",
       "        'AZ1', 'A8I', 'MNC', 'UV', 'SE', 'MAF', 'B7H', 'J4L', 'AYX', 'QM',\n",
       "        'D3L', 'IN', 'MEO', 'QG', 'EXR', 'PM', 'TTF', 'MFF', 'PGG', 'D7L',\n",
       "        'BOO', 'MXB', 'EVC', 'A5C', 'AA8', 'EWG', 'HB', 'A8O', 'RKA',\n",
       "        'ARE', 'GCI', 'A1M', 'AL6', 'A1L', 'A0D', 'MBR', 'APS', 'N3L',\n",
       "        'JET', 'VR', 'A9N', 'PH', 'PEL', 'MJN', 'CIN', 'NJ', 'TC', 'A4N',\n",
       "        'TRZ', 'UN', 'DCB', 'AHL', 'FOC', 'MNB', 'D1N', 'AJS', 'AA5',\n",
       "        'CSW', 'PTL', 'ALY', 'EPN', 'CC5', 'ABY', 'A8J', 'NFN', 'NOO',\n",
       "        'T2D', 'DEB', 'JA', 'MAE', 'MM', 'A8L', 'A8M', 'JNL', 'AEZ', 'NX',\n",
       "        'TH', 'AKS', 'LSW', 'AQA', 'NKN', '1S', 'UDL', 'GNL', 'COL', 'NW',\n",
       "        'FLP', 'AFY', 'PNL', 'HCL', 'ZAL', 'ICI', 'SGB', 'TZ6', 'MGH',\n",
       "        'NLS', '5ZN', 'AR0', 'AVZ', 'K3L', 'WPL', 'A91', 'A47', 'HIL',\n",
       "        'H5L', 'A0F', 'FSS', 'MEF', 'MPS', 'MAS', 'R5M', 'STR', 'TM',\n",
       "        'LHV', 'FRC', 'EWN', 'MBE', 'MEB', 'AUB', 'AJ9', 'EH', 'SMU',\n",
       "        'JTB', 'S5M', 'A7Y', 'MBC', 'MGN', 'UA', 'ACB', 'DBL', 'VDL',\n",
       "        'MSG', 'AJL', 'PF', 'GY', 'ANL', 'AXA', 'PW', 'AUF', 'AGE', 'ABT',\n",
       "        'AP7', 'A3C', 'STS', 'AA9', 'WS', 'MT2', 'PAL', 'R5O', 'GBB',\n",
       "        'PDL', 'SF3', 'HJC', 'JML', '22', '1NM', 'A3G', 'SD', '0B', 'USC',\n",
       "        'ABH', 'BB', 'AFI', 'AVU', 'GSW', 'MJC', 'PE', 'NRR', 'H5G', 'MUD',\n",
       "        'GCB', 'RT', 'MFD', 'UKG', 'A8C', 'MTB', 'AJB', 'A32', 'A7I',\n",
       "        'BR7', 'NYF', 'AKL', 'GLI', 'CPB', 'TD3', 'AGX', 'NHH', 'E6M',\n",
       "        'JE', 'EFF', 'MMF', 'R53', 'AUI', 'MEE', 'ENS', 'STI', 'ARY',\n",
       "        'TMB', 'E6', '51', '7D', 'FEW', 'A8G', '0C', 'MGB', 'FVB', 'EOB',\n",
       "        'S53', 'A1P', 'S5F', 'AFK', '3NA', 'ALW', 'ABS', 'MSB', 'AA7',\n",
       "        'FRS', 'ATP', 'GOC', 'AUJ', '1T', 'CBB', '63', 'MAA', 'S5O', 'AKR',\n",
       "        'AVL', 'AKZ', 'NCC', 'AT0', 'AWQ', 'SFB', 'EFM', 'A1W', 'AUH',\n",
       "        'QU', 'QH', 'NFC', 'GUD', 'XH', 'AI3', '39', 'B2K', 'T5B', 'GNO',\n",
       "        'HBC', 'A7G', 'AF', 'AI6', '3L', 'PLP', 'HHT', 'AM1', 'MMP', 'CBC',\n",
       "        'RBF', 'PVL', 'EAB', 'EAW', 'NRP', 'GDH', 'PNF', 'M1B', 'JKF',\n",
       "        'A43', 'QXB', 'AP3', 'PSO', '3ZW', 'CLL', 'PRP', 'AW2', 'AO1',\n",
       "        'XPP', 'EMC', 'B8', 'AE9', 'XX', 'MNS', 'AI7', 'JNG', '36', 'DEP',\n",
       "        'TKB', 'GNS', 'HDB', 'AR3', 'AP5', 'JPP', 'WCE', 'MNT', 'CGB',\n",
       "        'BFR', 'OVL', 'WTI', 'ERL', 'AU2', 'CMF', 'NWP', '3NB', 'A4L',\n",
       "        'B1', 'MH', 'PZO', '4U', 'BZL', 'PPP', 'LAP', 'EL1', 'ABI', 'AET',\n",
       "        'NYT', 'MDB', 'AJ1', 'JFB', '38', 'ITP', 'UNB', 'T2B', 'FOM',\n",
       "        'GES', 'H5B', 'A7L', 'AKX', 'PHP', 'UR', 'YUE', 'MGF', 'MBL',\n",
       "        'CIL', 'WTS', 'YWK', 'EAE', 'BDB', 'WDB', 'DAB', 'S5B', '7P',\n",
       "        'PBO', '4Y', 'HOL', 'NOD', '8D', 'MDD', 'SMW', 'AYH', 'AR1', '5L',\n",
       "        'A1V', 'NCO', 'SSI', 'WBR', 'USE', 'UPB', 'A4R', '8W', 'CLT',\n",
       "        'PCP', 'AUT', 'OPO', 'MJB', 'STY', 'NYR', 'DCL', 'ULB', 'MNE',\n",
       "        'AD6', 'AGT', 'FCN', '1ZA', 'NCF', 'NYP', 'T4D', 'FCB', 'SBM',\n",
       "        'MQ', 'PUO', 'ATU', 'RBL', 'MOI', 'DAZ', 'IBE', 'ABX', 'F3', 'MHS',\n",
       "        'AV0', 'SF1', 'AY', 'C6C', 'A1X', 'SSW', 'NHO', 'NBP', 'TC9',\n",
       "        'LEL', 'WNT', 'PPW', 'WMR', 'BPU', 'RBT', 'PQP', 'AUY', 'OFF',\n",
       "        'C9C', 'WCC', 'HOA', 'MBS', 'AD8', 'YRP', 'LLR', 'FOR', 'C4D',\n",
       "        'ESS', 'NNT', '29', 'AU4', 'C8C', '26', 'NRO', 'T2M', 'MTH', 'XER',\n",
       "        'A3M', 'R5E', '7U', 'PYO', 'ATY', 'BBT', 'A58', 'MRI', 'STT',\n",
       "        'AF5', 'AZ0', 'AH1', 'LWB', 'GBR', 'HPE', 'A1D', '2D', 'EGB',\n",
       "        'TD8', 'CSN', 'WTD', 'HTE', 'A6V', 'E9X', 'AHJ', 'AL9', 'PPL',\n",
       "        'FZE', 'BZS', 'YNO', 'TC6', 'MGS', 'X6', 'DBT', 'Z4', 'EAF', 'UCM',\n",
       "        'HTA', 'SDD', 'NWO', 'GHB', 'LCF', 'R5F', 'MSD', '3P', '7X', 'AJR',\n",
       "        'PMO', 'U9', 'DAX', 'NYG', 'MRT', 'OAD', 'CF', 'AE3', 'X9', 'GCG',\n",
       "        'A1G', '2FW', 'UNS', 'NBD', 'T9B', 'MDM', 'HTI', 'A6X', 'AHM',\n",
       "        'LL', 'RYA', 'PVP', 'AVK', 'AN1', 'ACM', 'MPA', 'MLD', 'CK', 'YHE',\n",
       "        'Z6', 'VV', 'HIA', 'NMP', 'SGG', 'TIL', 'A3R', 'JCC', 'A81', 'AJU',\n",
       "        'AQ8', 'AOJ', 'POC', 'A6L', 'NEP', 'AAW', 'CFC', 'EP1', 'AXB',\n",
       "        'BUC', 'GFC', 'A33', '2JW', 'TTD', 'ANC', 'T4B', 'MAB', 'HBR',\n",
       "        'AI5', 'ALX', 'PXP', 'NCP', 'RBG', 'MXL', 'ENP', 'HIB', 'NNP',\n",
       "        'RHB', 'PMF', 'M35', 'A42', 'QP', 'AP2', 'PLO', 'ALM', 'MIP',\n",
       "        'APA', 'PSP', 'NFG', 'GBA', 'AB7', 'AE8', 'XR', 'MFR', 'AI4',\n",
       "        '2ZW', 'TLB', 'JNC', 'GNB', 'CLD', 'AJ', 'AP1', 'ASP', '3XW',\n",
       "        'AP4', 'PRO', 'NGT', 'MBB', 'FAL', 'MTI', 'CBO', 'FBD', 'VLD',\n",
       "        'EAC', 'YWF', '0E', 'NSP', 'GDL', 'SR5', 'JKB', '4G', 'PFO', 'TK',\n",
       "        '4C', 'PHF', 'PFP', 'BG', 'AY1', 'AI9', 'A49', 'MAC', 'JFC', '37',\n",
       "        'ITB', 'UMB', 'T8B', 'AOB', 'RGF', 'AJ2', 'ZKU', 'AR6', 'PZP',\n",
       "        'RGI', 'MCT', 'CPP', 'FBT', 'QVL', 'YWE', 'YHF', 'A1Q', 'AU3',\n",
       "        'CMB', 'WHD', 'A4M', 'R5B', '7N', 'AML', 'PHO', '4XW', 'PEX',\n",
       "        'NCD', '88', 'LAF', 'EMW', 'YF', 'MEW', 'A50', 'A1U', 'ACT', 'M5F',\n",
       "        'FLB', 'SGF', 'UP5', 'A4Q', 'AR8', 'PBP', 'AUS', 'OMM', 'NYA',\n",
       "        'CRG', 'MME', 'AD5', 'AGP', 'WTA', '1Y', 'TTE', 'WHB', 'TMD',\n",
       "        'DBB', 'RBM', 'PCO', 'C4Z', 'FEF', 'NFO', 'AW4', 'MOA', 'SDM',\n",
       "        'AF2', 'YS', 'MFP', 'AR4', 'NMO', 'DCW', 'HPD', 'CCM', 'WMB',\n",
       "        'UPM', '4V', '8XN', 'AL5', 'ARI', 'HOT', 'PUP', 'EBE', '1NA', 'W0',\n",
       "        'HWA', 'MPE', 'CHB', 'AFE', 'C3D', 'ESB', '23', 'THD', 'Z1B',\n",
       "        'NEO', 'TLD', 'FOA', 'HGB', '7S', 'AP9', 'PQO', 'TW', 'A55', 'MMO',\n",
       "        'AA4', 'MXR', 'AF4', 'C7C', '7FT', '2C', 'EGN', 'T5C', 'ASD',\n",
       "        'WNC', 'WMD', 'TCS', 'ABF', 'A5U', '9Q', 'AL8', 'PYP', 'AUZ',\n",
       "        'OOD', 'MO', 'CLS', 'CC0', 'X0', 'MNG', 'MHE', 'AD9', 'AX1', 'LBB',\n",
       "        'C5D', 'EUB', 'AU5', '27', 'SRT', 'NSO', 'GHS', 'H5F', 'GKS',\n",
       "        'A3N', 'SRB', '7V', 'PTO', 'U7', 'BZT', 'A59', 'MMR', 'IBS', 'PDJ',\n",
       "        'X7', 'GCC', 'LPE', '1E', 'C2E', 'UMD', 'EWB', 'T6B', 'MDR', 'HTC',\n",
       "        'A6W', 'AA3', 'AJJ', 'YRW', 'PMP', 'AS4', 'MX', 'MSE', 'MDL',\n",
       "        'AZ5', 'MB', 'V7', 'NTP', 'MGO', 'THB', 'WTL', 'A3Q', 'AEB', 'AQ5',\n",
       "        'PVO', '5Y', 'N3P', 'AQK', 'CFB', 'MPP', 'EO1', 'GCM', '1H', 'DHA',\n",
       "        'CPD', 'ANT', 'TB2', 'MBM', 'HTM', 'AI1', 'PKP', 'NBB', 'UGG',\n",
       "        'OML', 'FL', 'EAA', 'AZ7', '0A', 'AI2', 'HTB', 'NHP', 'RHS', 'T3B',\n",
       "        '3V', 'K2L', 'AOH', 'PXO', 'AK1', 'NFD', 'CBA'], dtype=object),\n",
       " 'Agriculture': array(['ZC', 'ZS', 'ZL', 'ZM', 'ZW', 'LE', 'KE', 'HE', 'GF', 'GIE', 'AW',\n",
       "        'DC', 'CSC', 'BWF', 'GD', 'XK', 'XC', 'GNF', 'CB', 'GDK', 'ZR',\n",
       "        'ZO', 'BCF', 'CPO', 'DY', 'LBS', 'DRS', 'UME', 'XW', 'UFV', 'UFE',\n",
       "        'DFN', 'UFB', 'TT', 'GIT', 'GFT', 'POG', 'AUW', 'ZCT', 'ZWT',\n",
       "        'MFC', 'YO', 'ZLT', 'LET', 'DRT', 'CJ', 'HET', 'OPF', 'BWH', 'BCH',\n",
       "        'MKC', 'SBT', 'AWT', 'KT', 'KET', 'ZMT', 'BSF'], dtype=object),\n",
       " 'Metals': array(['GC', 'HG', 'SI', 'PL', 'AUP', 'PA', 'MGC', 'HRC', 'EDP', 'AEP',\n",
       "        'HGS', 'MJP', 'TIO', 'UX', 'SIL', 'BUS', 'QO', 'QI', 'ALA', 'ALI',\n",
       "        'A38', 'QC', 'GSR', 'ALB', 'GSP', 'ZNC', 'TIC', 'GCT', 'CUP',\n",
       "        'GCK', 'LED', 'PPS', 'PAT', 'GPS', 'HGF', 'HG0', 'PAM', 'SSP',\n",
       "        'GCD', 'SIT', 'HGT', 'MGT', 'FSF', 'HRP'], dtype=object)}"
      ]
     },
     "execution_count": 10,
     "metadata": {},
     "output_type": "execute_result"
    }
   ],
   "source": [
    "commodity_symbols"
   ]
  },
  {
   "cell_type": "markdown",
   "metadata": {},
   "source": [
    "# Daily price movements"
   ]
  },
  {
   "cell_type": "markdown",
   "metadata": {},
   "source": [
    "## Load kibot commodity daily prices"
   ]
  },
  {
   "cell_type": "code",
   "execution_count": 11,
   "metadata": {
    "ExecuteTime": {
     "end_time": "2019-10-16T13:31:12.377773Z",
     "start_time": "2019-10-16T13:31:11.540386Z"
    },
    "scrolled": false
   },
   "outputs": [
    {
     "data": {
      "text/html": [
       "<div>\n",
       "<style scoped>\n",
       "    .dataframe tbody tr th:only-of-type {\n",
       "        vertical-align: middle;\n",
       "    }\n",
       "\n",
       "    .dataframe tbody tr th {\n",
       "        vertical-align: top;\n",
       "    }\n",
       "\n",
       "    .dataframe thead th {\n",
       "        text-align: right;\n",
       "    }\n",
       "</style>\n",
       "<table border=\"1\" class=\"dataframe\">\n",
       "  <thead>\n",
       "    <tr style=\"text-align: right;\">\n",
       "      <th></th>\n",
       "      <th>Symbol</th>\n",
       "      <th>Link</th>\n",
       "      <th>Description</th>\n",
       "    </tr>\n",
       "    <tr>\n",
       "      <th>All_Futures_Contracts_daily.csv</th>\n",
       "      <th></th>\n",
       "      <th></th>\n",
       "      <th></th>\n",
       "    </tr>\n",
       "  </thead>\n",
       "  <tbody>\n",
       "    <tr>\n",
       "      <th>1</th>\n",
       "      <td>JY</td>\n",
       "      <td>http://api.kibot.com/?action=download&amp;link=151...</td>\n",
       "      <td>CONTINUOUS JAPANESE YEN CONTRACT</td>\n",
       "    </tr>\n",
       "    <tr>\n",
       "      <th>2</th>\n",
       "      <td>JYF18</td>\n",
       "      <td>http://api.kibot.com/?action=download&amp;link=vrv...</td>\n",
       "      <td>JAPANESE YEN JANUARY 2018</td>\n",
       "    </tr>\n",
       "    <tr>\n",
       "      <th>3</th>\n",
       "      <td>JYF19</td>\n",
       "      <td>http://api.kibot.com/?action=download&amp;link=8r8...</td>\n",
       "      <td>JAPANESE YEN JANUARY 2019</td>\n",
       "    </tr>\n",
       "  </tbody>\n",
       "</table>\n",
       "</div>"
      ],
      "text/plain": [
       "                                Symbol                                               Link                       Description\n",
       "All_Futures_Contracts_daily.csv                                                                                            \n",
       "1                                   JY  http://api.kibot.com/?action=download&link=151...  CONTINUOUS JAPANESE YEN CONTRACT\n",
       "2                                JYF18  http://api.kibot.com/?action=download&link=vrv...         JAPANESE YEN JANUARY 2018\n",
       "3                                JYF19  http://api.kibot.com/?action=download&link=8r8...         JAPANESE YEN JANUARY 2019"
      ]
     },
     "execution_count": 11,
     "metadata": {},
     "output_type": "execute_result"
    }
   ],
   "source": [
    "daily_metadata = kut.read_metadata2()\n",
    "daily_metadata.head(3)"
   ]
  },
  {
   "cell_type": "code",
   "execution_count": 12,
   "metadata": {
    "ExecuteTime": {
     "end_time": "2019-10-16T13:31:12.427526Z",
     "start_time": "2019-10-16T13:31:12.379550Z"
    }
   },
   "outputs": [
    {
     "data": {
      "text/plain": [
       "14962"
      ]
     },
     "execution_count": 12,
     "metadata": {},
     "output_type": "execute_result"
    }
   ],
   "source": [
    "len(daily_metadata[\"Symbol\"])"
   ]
  },
  {
   "cell_type": "code",
   "execution_count": 13,
   "metadata": {
    "ExecuteTime": {
     "end_time": "2019-10-16T13:31:12.480885Z",
     "start_time": "2019-10-16T13:31:12.429623Z"
    }
   },
   "outputs": [
    {
     "data": {
      "text/plain": [
       "14962"
      ]
     },
     "execution_count": 13,
     "metadata": {},
     "output_type": "execute_result"
    }
   ],
   "source": [
    "daily_metadata[\"Symbol\"].nunique()"
   ]
  },
  {
   "cell_type": "code",
   "execution_count": 14,
   "metadata": {
    "ExecuteTime": {
     "end_time": "2019-10-16T13:31:12.529409Z",
     "start_time": "2019-10-16T13:31:12.482575Z"
    }
   },
   "outputs": [
    {
     "data": {
      "text/plain": [
       "892"
      ]
     },
     "execution_count": 14,
     "metadata": {},
     "output_type": "execute_result"
    }
   ],
   "source": [
    "len(commodity_symbols[\"Energy\"])"
   ]
  },
  {
   "cell_type": "code",
   "execution_count": 15,
   "metadata": {
    "ExecuteTime": {
     "end_time": "2019-10-16T13:31:12.597287Z",
     "start_time": "2019-10-16T13:31:12.531180Z"
    }
   },
   "outputs": [
    {
     "data": {
      "text/plain": [
       "array(['ALM', 'BB', 'BZ', 'CCM', 'CL', 'FRC', 'HO', 'IN', 'JE', 'LL',\n",
       "       'ME', 'MME', 'NG', 'NN', 'PM', 'QG', 'QM', 'RB', 'STS', 'TC', 'TL',\n",
       "       'TM', 'TW'], dtype=object)"
      ]
     },
     "execution_count": 15,
     "metadata": {},
     "output_type": "execute_result"
    }
   ],
   "source": [
    "energy_symbols_kibot = np.intersect1d(\n",
    "    daily_metadata[\"Symbol\"].values, commodity_symbols[\"Energy\"]\n",
    ")\n",
    "energy_symbols_kibot"
   ]
  },
  {
   "cell_type": "code",
   "execution_count": 16,
   "metadata": {
    "ExecuteTime": {
     "end_time": "2019-10-16T13:31:12.647772Z",
     "start_time": "2019-10-16T13:31:12.599024Z"
    }
   },
   "outputs": [
    {
     "data": {
      "text/plain": [
       "23"
      ]
     },
     "execution_count": 16,
     "metadata": {},
     "output_type": "execute_result"
    }
   ],
   "source": [
    "len(energy_symbols_kibot)"
   ]
  },
  {
   "cell_type": "code",
   "execution_count": 17,
   "metadata": {
    "ExecuteTime": {
     "end_time": "2019-10-16T13:31:12.751540Z",
     "start_time": "2019-10-16T13:31:12.649732Z"
    }
   },
   "outputs": [],
   "source": [
    "commodity_symbols_kibot = {\n",
    "    group: np.intersect1d(\n",
    "        daily_metadata[\"Symbol\"].values, commodity_symbols[group]\n",
    "    )\n",
    "    for group in commodity_symbols.keys()\n",
    "}"
   ]
  },
  {
   "cell_type": "code",
   "execution_count": 18,
   "metadata": {
    "ExecuteTime": {
     "end_time": "2019-10-16T13:31:12.803067Z",
     "start_time": "2019-10-16T13:31:12.755855Z"
    }
   },
   "outputs": [
    {
     "data": {
      "text/plain": [
       "{'Energy': array(['ALM', 'BB', 'BZ', 'CCM', 'CL', 'FRC', 'HO', 'IN', 'JE', 'LL',\n",
       "        'ME', 'MME', 'NG', 'NN', 'PM', 'QG', 'QM', 'RB', 'STS', 'TC', 'TL',\n",
       "        'TM', 'TW'], dtype=object),\n",
       " 'Agriculture': array(['GF', 'HE', 'LE', 'TT', 'ZCT', 'ZLT', 'ZMT', 'ZWT'], dtype=object),\n",
       " 'Metals': array(['GC', 'GCK', 'HG', 'HGT', 'MGC', 'PA', 'PL', 'QC', 'QI', 'QO',\n",
       "        'SI', 'SIL', 'UX'], dtype=object)}"
      ]
     },
     "execution_count": 18,
     "metadata": {},
     "output_type": "execute_result"
    }
   ],
   "source": [
    "commodity_symbols_kibot"
   ]
  },
  {
   "cell_type": "code",
   "execution_count": 19,
   "metadata": {
    "ExecuteTime": {
     "end_time": "2019-10-16T13:31:12.855544Z",
     "start_time": "2019-10-16T13:31:12.805642Z"
    },
    "scrolled": true
   },
   "outputs": [
    {
     "data": {
      "text/plain": [
       "{'Energy': 23, 'Agriculture': 8, 'Metals': 13}"
      ]
     },
     "execution_count": 19,
     "metadata": {},
     "output_type": "execute_result"
    }
   ],
   "source": [
    "{\n",
    "    group: len(commodity_symbols_kibot[group])\n",
    "    for group in commodity_symbols_kibot.keys()\n",
    "}"
   ]
  },
  {
   "cell_type": "code",
   "execution_count": 20,
   "metadata": {
    "ExecuteTime": {
     "end_time": "2019-10-16T13:31:12.904632Z",
     "start_time": "2019-10-16T13:31:12.857432Z"
    }
   },
   "outputs": [
    {
     "data": {
      "text/plain": [
       "['ALM', 'BB', 'BZ', 'CCM', 'CL']"
      ]
     },
     "execution_count": 20,
     "metadata": {},
     "output_type": "execute_result"
    }
   ],
   "source": [
    "comm_list = []\n",
    "for comm_group in commodity_symbols_kibot.values():\n",
    "    comm_list.extend(list(comm_group))\n",
    "comm_list[:5]"
   ]
  },
  {
   "cell_type": "code",
   "execution_count": 21,
   "metadata": {
    "ExecuteTime": {
     "end_time": "2019-10-16T13:49:32.491876Z",
     "start_time": "2019-10-16T13:49:32.381212Z"
    }
   },
   "outputs": [
    {
     "data": {
      "text/plain": [
       "44"
      ]
     },
     "execution_count": 21,
     "metadata": {},
     "output_type": "execute_result"
    }
   ],
   "source": [
    "len(comm_list)"
   ]
  },
  {
   "cell_type": "code",
   "execution_count": 22,
   "metadata": {
    "ExecuteTime": {
     "end_time": "2019-10-16T13:49:45.810844Z",
     "start_time": "2019-10-16T13:49:45.700473Z"
    }
   },
   "outputs": [
    {
     "name": "stdout",
     "output_type": "stream",
     "text": [
      "args=('s3://default00-bucket/kibot/All_Futures_Continuous_Contracts_daily/ALM.csv.gz', None) kwargs={}\n",
      "args=('s3://default00-bucket/kibot/All_Futures_Continuous_Contracts_daily/BB.csv.gz', None) kwargs={}\n",
      "args=('s3://default00-bucket/kibot/All_Futures_Continuous_Contracts_daily/BZ.csv.gz', None) kwargs={}\n",
      "args=('s3://default00-bucket/kibot/All_Futures_Continuous_Contracts_daily/CCM.csv.gz', None) kwargs={}\n",
      "args=('s3://default00-bucket/kibot/All_Futures_Continuous_Contracts_daily/CL.csv.gz', None) kwargs={}\n",
      "args=('s3://default00-bucket/kibot/All_Futures_Continuous_Contracts_daily/FRC.csv.gz', None) kwargs={}\n",
      "args=('s3://default00-bucket/kibot/All_Futures_Continuous_Contracts_daily/HO.csv.gz', None) kwargs={}\n",
      "args=('s3://default00-bucket/kibot/All_Futures_Continuous_Contracts_daily/IN.csv.gz', None) kwargs={}\n",
      "args=('s3://default00-bucket/kibot/All_Futures_Continuous_Contracts_daily/JE.csv.gz', None) kwargs={}\n",
      "args=('s3://default00-bucket/kibot/All_Futures_Continuous_Contracts_daily/LL.csv.gz', None) kwargs={}\n",
      "args=('s3://default00-bucket/kibot/All_Futures_Continuous_Contracts_daily/ME.csv.gz', None) kwargs={}\n",
      "args=('s3://default00-bucket/kibot/All_Futures_Continuous_Contracts_daily/MME.csv.gz', None) kwargs={}\n",
      "args=('s3://default00-bucket/kibot/All_Futures_Continuous_Contracts_daily/NG.csv.gz', None) kwargs={}\n",
      "args=('s3://default00-bucket/kibot/All_Futures_Continuous_Contracts_daily/NN.csv.gz', None) kwargs={}\n",
      "args=('s3://default00-bucket/kibot/All_Futures_Continuous_Contracts_daily/PM.csv.gz', None) kwargs={}\n",
      "args=('s3://default00-bucket/kibot/All_Futures_Continuous_Contracts_daily/QG.csv.gz', None) kwargs={}\n",
      "args=('s3://default00-bucket/kibot/All_Futures_Continuous_Contracts_daily/QM.csv.gz', None) kwargs={}\n",
      "args=('s3://default00-bucket/kibot/All_Futures_Continuous_Contracts_daily/RB.csv.gz', None) kwargs={}\n",
      "args=('s3://default00-bucket/kibot/All_Futures_Continuous_Contracts_daily/STS.csv.gz', None) kwargs={}\n",
      "args=('s3://default00-bucket/kibot/All_Futures_Continuous_Contracts_daily/TC.csv.gz', None) kwargs={}\n",
      "args=('s3://default00-bucket/kibot/All_Futures_Continuous_Contracts_daily/TL.csv.gz', None) kwargs={}\n",
      "args=('s3://default00-bucket/kibot/All_Futures_Continuous_Contracts_daily/TM.csv.gz', None) kwargs={}\n",
      "args=('s3://default00-bucket/kibot/All_Futures_Continuous_Contracts_daily/TW.csv.gz', None) kwargs={}\n",
      "args=('s3://default00-bucket/kibot/All_Futures_Continuous_Contracts_daily/GF.csv.gz', None) kwargs={}\n",
      "args=('s3://default00-bucket/kibot/All_Futures_Continuous_Contracts_daily/HE.csv.gz', None) kwargs={}\n",
      "args=('s3://default00-bucket/kibot/All_Futures_Continuous_Contracts_daily/LE.csv.gz', None) kwargs={}\n",
      "args=('s3://default00-bucket/kibot/All_Futures_Continuous_Contracts_daily/TT.csv.gz', None) kwargs={}\n",
      "args=('s3://default00-bucket/kibot/All_Futures_Continuous_Contracts_daily/ZCT.csv.gz', None) kwargs={}\n",
      "args=('s3://default00-bucket/kibot/All_Futures_Continuous_Contracts_daily/ZLT.csv.gz', None) kwargs={}\n",
      "args=('s3://default00-bucket/kibot/All_Futures_Continuous_Contracts_daily/ZMT.csv.gz', None) kwargs={}\n",
      "args=('s3://default00-bucket/kibot/All_Futures_Continuous_Contracts_daily/ZWT.csv.gz', None) kwargs={}\n",
      "args=('s3://default00-bucket/kibot/All_Futures_Continuous_Contracts_daily/GC.csv.gz', None) kwargs={}\n",
      "args=('s3://default00-bucket/kibot/All_Futures_Continuous_Contracts_daily/GCK.csv.gz', None) kwargs={}\n",
      "args=('s3://default00-bucket/kibot/All_Futures_Continuous_Contracts_daily/HG.csv.gz', None) kwargs={}\n",
      "args=('s3://default00-bucket/kibot/All_Futures_Continuous_Contracts_daily/HGT.csv.gz', None) kwargs={}\n",
      "args=('s3://default00-bucket/kibot/All_Futures_Continuous_Contracts_daily/MGC.csv.gz', None) kwargs={}\n",
      "args=('s3://default00-bucket/kibot/All_Futures_Continuous_Contracts_daily/PA.csv.gz', None) kwargs={}\n",
      "args=('s3://default00-bucket/kibot/All_Futures_Continuous_Contracts_daily/PL.csv.gz', None) kwargs={}\n",
      "args=('s3://default00-bucket/kibot/All_Futures_Continuous_Contracts_daily/QC.csv.gz', None) kwargs={}\n",
      "args=('s3://default00-bucket/kibot/All_Futures_Continuous_Contracts_daily/QI.csv.gz', None) kwargs={}\n",
      "args=('s3://default00-bucket/kibot/All_Futures_Continuous_Contracts_daily/QO.csv.gz', None) kwargs={}\n",
      "args=('s3://default00-bucket/kibot/All_Futures_Continuous_Contracts_daily/SI.csv.gz', None) kwargs={}\n",
      "args=('s3://default00-bucket/kibot/All_Futures_Continuous_Contracts_daily/SIL.csv.gz', None) kwargs={}\n",
      "args=('s3://default00-bucket/kibot/All_Futures_Continuous_Contracts_daily/UX.csv.gz', None) kwargs={}\n"
     ]
    },
    {
     "data": {
      "text/html": [
       "<div>\n",
       "<style scoped>\n",
       "    .dataframe tbody tr th:only-of-type {\n",
       "        vertical-align: middle;\n",
       "    }\n",
       "\n",
       "    .dataframe tbody tr th {\n",
       "        vertical-align: top;\n",
       "    }\n",
       "\n",
       "    .dataframe thead th {\n",
       "        text-align: right;\n",
       "    }\n",
       "</style>\n",
       "<table border=\"1\" class=\"dataframe\">\n",
       "  <thead>\n",
       "    <tr style=\"text-align: right;\">\n",
       "      <th></th>\n",
       "      <th>open</th>\n",
       "      <th>high</th>\n",
       "      <th>low</th>\n",
       "      <th>close</th>\n",
       "      <th>vol</th>\n",
       "    </tr>\n",
       "    <tr>\n",
       "      <th>date</th>\n",
       "      <th></th>\n",
       "      <th></th>\n",
       "      <th></th>\n",
       "      <th></th>\n",
       "      <th></th>\n",
       "    </tr>\n",
       "  </thead>\n",
       "  <tbody>\n",
       "    <tr>\n",
       "      <th>2019-07-18</th>\n",
       "      <td>56.72</td>\n",
       "      <td>57.45</td>\n",
       "      <td>54.85</td>\n",
       "      <td>55.42</td>\n",
       "      <td>764491</td>\n",
       "    </tr>\n",
       "    <tr>\n",
       "      <th>2019-07-19</th>\n",
       "      <td>55.84</td>\n",
       "      <td>56.49</td>\n",
       "      <td>55.12</td>\n",
       "      <td>55.76</td>\n",
       "      <td>710948</td>\n",
       "    </tr>\n",
       "  </tbody>\n",
       "</table>\n",
       "</div>"
      ],
      "text/plain": [
       "             open   high    low  close     vol\n",
       "date                                          \n",
       "2019-07-18  56.72  57.45  54.85  55.42  764491\n",
       "2019-07-19  55.84  56.49  55.12  55.76  710948"
      ]
     },
     "execution_count": 22,
     "metadata": {},
     "output_type": "execute_result"
    }
   ],
   "source": [
    "s3_path = hs3.get_path()\n",
    "kibot_path = os.path.join(\n",
    "    s3_path, \"kibot/All_Futures_Continuous_Contracts_daily/%s.csv.gz\"\n",
    ")\n",
    "\n",
    "daily_price_dict_df = kut.read_multiple_symbol_data(\n",
    "    comm_list, kibot_path, nrows=None\n",
    ")\n",
    "\n",
    "daily_price_dict_df[\"CL\"].tail(2)"
   ]
  },
  {
   "cell_type": "markdown",
   "metadata": {},
   "source": [
    "## Largest movements for a specific symbol"
   ]
  },
  {
   "cell_type": "code",
   "execution_count": 23,
   "metadata": {
    "ExecuteTime": {
     "end_time": "2019-10-16T13:49:51.725216Z",
     "start_time": "2019-10-16T13:49:51.680148Z"
    }
   },
   "outputs": [],
   "source": [
    "symbol = \"CL\""
   ]
  },
  {
   "cell_type": "code",
   "execution_count": 24,
   "metadata": {
    "ExecuteTime": {
     "end_time": "2019-10-16T13:31:28.232021Z",
     "start_time": "2019-10-16T13:31:28.168875Z"
    }
   },
   "outputs": [
    {
     "data": {
      "text/plain": [
       "date\n",
       "2014-12-01    3.655719\n",
       "2001-11-16    3.645029\n",
       "2001-09-25    3.515338\n",
       "2002-03-18    3.365737\n",
       "2011-05-06    3.333398\n",
       "Name: ret_0, dtype: float64"
      ]
     },
     "execution_count": 24,
     "metadata": {},
     "output_type": "execute_result"
    }
   ],
   "source": [
    "tau = 18\n",
    "\n",
    "top_daily_movements_cl = pma.get_top_movements_for_symbol(\n",
    "    daily_price_dict_df, symbol, \"daily\", tau, 'all'\n",
    ")\n",
    "top_daily_movements_cl.head()"
   ]
  },
  {
   "cell_type": "code",
   "execution_count": 25,
   "metadata": {
    "ExecuteTime": {
     "end_time": "2019-10-16T13:31:28.680312Z",
     "start_time": "2019-10-16T13:31:28.233871Z"
    }
   },
   "outputs": [
    {
     "data": {
      "image/png": "[encoded data removed]",
      "text/plain": [
       "<Figure size 1440x360 with 1 Axes>"
      ]
     },
     "metadata": {},
     "output_type": "display_data"
    }
   ],
   "source": [
    "top_daily_movements_cl.index.year.value_counts(sort=False).plot(kind=\"bar\")\n",
    "plt.title(\"How many of the top-100 price movements occured during each year\")\n",
    "plt.show()"
   ]
  },
  {
   "cell_type": "code",
   "execution_count": 26,
   "metadata": {},
   "outputs": [
    {
     "data": {
      "text/plain": [
       "date\n",
       "2002-03-18    3.365737\n",
       "2001-09-14    3.258836\n",
       "1998-12-17    2.981000\n",
       "1998-01-27    2.967284\n",
       "2015-08-28    2.834156\n",
       "Name: ret_0, dtype: float64"
      ]
     },
     "execution_count": 26,
     "metadata": {},
     "output_type": "execute_result"
    }
   ],
   "source": [
    "top_pos_daily_movements_cl = pma.get_top_movements_for_symbol(\n",
    "    daily_price_dict_df, symbol, \"daily\", tau, 'pos')\n",
    "top_pos_daily_movements_cl.head()"
   ]
  },
  {
   "cell_type": "code",
   "execution_count": 27,
   "metadata": {},
   "outputs": [
    {
     "data": {
      "text/plain": [
       "date\n",
       "2014-12-01   -3.655719\n",
       "2001-11-16   -3.645029\n",
       "2001-09-25   -3.515338\n",
       "2011-05-06   -3.333398\n",
       "2003-07-23   -3.011276\n",
       "Name: ret_0, dtype: float64"
      ]
     },
     "execution_count": 27,
     "metadata": {},
     "output_type": "execute_result"
    }
   ],
   "source": [
    "top_neg_daily_movements_cl = pma.get_top_movements_for_symbol(\n",
    "    daily_price_dict_df, symbol, \"daily\", tau, 'neg')\n",
    "top_neg_daily_movements_cl.head()"
   ]
  },
  {
   "cell_type": "markdown",
   "metadata": {},
   "source": [
    "## Largest movement for energy group"
   ]
  },
  {
   "cell_type": "code",
   "execution_count": 28,
   "metadata": {
    "ExecuteTime": {
     "end_time": "2019-10-16T13:31:28.730168Z",
     "start_time": "2019-10-16T13:31:28.682189Z"
    }
   },
   "outputs": [],
   "source": [
    "group = \"Energy\""
   ]
  },
  {
   "cell_type": "code",
   "execution_count": 29,
   "metadata": {
    "ExecuteTime": {
     "end_time": "2019-10-16T13:31:28.791555Z",
     "start_time": "2019-10-16T13:31:28.732076Z"
    }
   },
   "outputs": [
    {
     "data": {
      "text/plain": [
       "array(['ALM', 'BB', 'BZ', 'CCM', 'CL', 'FRC', 'HO', 'IN', 'JE', 'LL',\n",
       "       'ME', 'MME', 'NG', 'NN', 'PM', 'QG', 'QM', 'RB', 'STS', 'TC', 'TL',\n",
       "       'TM', 'TW'], dtype=object)"
      ]
     },
     "execution_count": 29,
     "metadata": {},
     "output_type": "execute_result"
    }
   ],
   "source": [
    "commodity_symbols_kibot[group]"
   ]
  },
  {
   "cell_type": "code",
   "execution_count": 30,
   "metadata": {
    "ExecuteTime": {
     "end_time": "2019-10-16T13:31:28.955270Z",
     "start_time": "2019-10-16T13:31:28.793387Z"
    }
   },
   "outputs": [
    {
     "name": "stderr",
     "output_type": "stream",
     "text": [
      "/wd/julia/commodity_research/amp/vendors/kibot/utils.py:191: RuntimeWarning: divide by zero encountered in log\n",
      "  ret_0 = np.log(prices) - np.log(prices.shift(1))\n",
      "/wd/julia/commodity_research/amp/vendors/kibot/utils.py:191: RuntimeWarning: invalid value encountered in log\n",
      "  ret_0 = np.log(prices) - np.log(prices.shift(1))\n"
     ]
    },
    {
     "data": {
      "text/plain": [
       "date\n",
       "1999-03-11    2.535575\n",
       "1996-01-08    2.498073\n",
       "1995-12-11    2.272908\n",
       "2004-11-25    2.224133\n",
       "1998-03-19    2.197773\n",
       "1998-01-27    2.154381\n",
       "1996-01-12    2.107268\n",
       "2011-08-05    2.095441\n",
       "1997-09-26    2.040933\n",
       "2002-05-16    2.033812\n",
       "1997-08-05    1.979685\n",
       "1996-05-24    1.971286\n",
       "1997-09-29    1.958196\n",
       "2010-11-28    1.956024\n",
       "1995-12-05    1.951210\n",
       "dtype: float64"
      ]
     },
     "execution_count": 30,
     "metadata": {},
     "output_type": "execute_result"
    }
   ],
   "source": [
    "tau = 18\n",
    "\n",
    "pma.get_top_movements_by_group(\n",
    "    daily_price_dict_df, commodity_symbols_kibot, group, \"daily\", tau, 'all'\n",
    ").head(15)"
   ]
  },
  {
   "cell_type": "code",
   "execution_count": 31,
   "metadata": {},
   "outputs": [
    {
     "data": {
      "text/plain": [
       "date\n",
       "1998-01-27    2.914811\n",
       "1997-08-29    2.564230\n",
       "1999-03-11    2.535575\n",
       "2003-06-27    2.514636\n",
       "1996-01-08    2.498073\n",
       "1998-08-06    2.389564\n",
       "2008-10-16    2.352955\n",
       "1997-10-06    2.327103\n",
       "1995-12-11    2.272908\n",
       "2003-10-30    2.223610\n",
       "1998-03-19    2.197773\n",
       "2000-09-25    2.170945\n",
       "1999-07-01    2.170499\n",
       "1997-05-13    2.168076\n",
       "1999-03-18    2.118684\n",
       "dtype: float64"
      ]
     },
     "execution_count": 31,
     "metadata": {},
     "output_type": "execute_result"
    }
   ],
   "source": [
    "pma.get_top_movements_by_group(\n",
    "    daily_price_dict_df, commodity_symbols_kibot, group, \"daily\", tau, 'pos'\n",
    ").head(15)"
   ]
  },
  {
   "cell_type": "code",
   "execution_count": 32,
   "metadata": {},
   "outputs": [
    {
     "data": {
      "text/plain": [
       "date\n",
       "1999-05-11   -3.659869\n",
       "1996-05-28   -2.864218\n",
       "1996-07-19   -2.810977\n",
       "2002-02-28   -2.741013\n",
       "2003-02-21   -2.725156\n",
       "2004-11-25   -2.647316\n",
       "2000-12-13   -2.578835\n",
       "1996-12-30   -2.556659\n",
       "2011-08-05   -2.510363\n",
       "1998-07-22   -2.504371\n",
       "1998-03-17   -2.492691\n",
       "2001-11-16   -2.404971\n",
       "1998-08-11   -2.394507\n",
       "1996-03-25   -2.390299\n",
       "2008-10-14   -2.389227\n",
       "dtype: float64"
      ]
     },
     "execution_count": 32,
     "metadata": {},
     "output_type": "execute_result"
    }
   ],
   "source": [
    "pma.get_top_movements_by_group(\n",
    "    daily_price_dict_df, commodity_symbols_kibot, group, \"daily\", tau, 'neg'\n",
    ").head(15)"
   ]
  },
  {
   "cell_type": "markdown",
   "metadata": {},
   "source": [
    "## Largest movements for each group"
   ]
  },
  {
   "cell_type": "code",
   "execution_count": 33,
   "metadata": {
    "ExecuteTime": {
     "end_time": "2019-10-16T13:31:29.270330Z",
     "start_time": "2019-10-16T13:31:28.957259Z"
    }
   },
   "outputs": [
    {
     "data": {
      "application/vnd.jupyter.widget-view+json": {
       "model_id": "11418430baae435a9c8b3c92fbdb7669",
       "version_major": 2,
       "version_minor": 0
      },
      "text/plain": [
       "HBox(children=(IntProgress(value=0, max=3), HTML(value='')))"
      ]
     },
     "metadata": {},
     "output_type": "display_data"
    },
    {
     "name": "stdout",
     "output_type": "stream",
     "text": [
      "\n"
     ]
    }
   ],
   "source": [
    "tau = 18\n",
    "\n",
    "top_100_daily_movements_by_group = {\n",
    "    group: pma.get_top_movements_by_group(\n",
    "        daily_price_dict_df, commodity_symbols_kibot, group, \"daily\", tau, 'all'\n",
    "    )\n",
    "    for group in tqdm(commodity_symbols_kibot.keys())\n",
    "}"
   ]
  },
  {
   "cell_type": "code",
   "execution_count": 34,
   "metadata": {
    "ExecuteTime": {
     "end_time": "2019-10-16T13:31:29.332824Z",
     "start_time": "2019-10-16T13:31:29.272109Z"
    }
   },
   "outputs": [
    {
     "data": {
      "text/plain": [
       "{'Energy': date\n",
       " 1999-03-11    2.535575\n",
       " 1996-01-08    2.498073\n",
       " 1995-12-11    2.272908\n",
       " 2004-11-25    2.224133\n",
       " 1998-03-19    2.197773\n",
       " 1998-01-27    2.154381\n",
       " 1996-01-12    2.107268\n",
       " 2011-08-05    2.095441\n",
       " 1997-09-26    2.040933\n",
       " 2002-05-16    2.033812\n",
       " 1997-08-05    1.979685\n",
       " 1996-05-24    1.971286\n",
       " 1997-09-29    1.958196\n",
       " 2010-11-28    1.956024\n",
       " 1995-12-05    1.951210\n",
       " dtype: float64, 'Agriculture': date\n",
       " 2019-03-18    2.606163\n",
       " 2003-12-29    2.503282\n",
       " 2013-09-02    2.406208\n",
       " 2016-09-05    2.352189\n",
       " 2014-05-26    2.170093\n",
       " 2009-04-16    2.136641\n",
       " 2013-04-01    2.117786\n",
       " 2005-08-15    2.089122\n",
       " 2006-05-01    2.081217\n",
       " 2003-09-22    2.079330\n",
       " 2011-02-15    2.050200\n",
       " 2002-04-04    2.049195\n",
       " 2011-08-15    2.000392\n",
       " 2008-01-14    1.987069\n",
       " 2003-07-23    1.986694\n",
       " dtype: float64, 'Metals': date\n",
       " 2007-12-02    3.582814\n",
       " 2013-04-15    2.816036\n",
       " 2013-04-16    2.735094\n",
       " 2013-07-04    2.715543\n",
       " 2007-02-19    2.699586\n",
       " 1999-09-29    2.697176\n",
       " 2001-09-14    2.629436\n",
       " 2011-05-30    2.624040\n",
       " 2011-02-21    2.535389\n",
       " 1996-01-03    2.500343\n",
       " 2004-04-14    2.388859\n",
       " 2007-08-17    2.387430\n",
       " 2014-12-01    2.353821\n",
       " 2018-06-18    2.313707\n",
       " 2013-01-21    2.310738\n",
       " dtype: float64}"
      ]
     },
     "execution_count": 34,
     "metadata": {},
     "output_type": "execute_result"
    }
   ],
   "source": [
    "{\n",
    "    group: head_prices_group.head(15)\n",
    "    for group, head_prices_group in top_100_daily_movements_by_group.items()\n",
    "}"
   ]
  },
  {
   "cell_type": "markdown",
   "metadata": {},
   "source": [
    "# 1-minute price movements"
   ]
  },
  {
   "cell_type": "markdown",
   "metadata": {},
   "source": [
    "## Load 1-minute prices"
   ]
  },
  {
   "cell_type": "code",
   "execution_count": 35,
   "metadata": {
    "ExecuteTime": {
     "end_time": "2019-10-16T13:31:31.279203Z",
     "start_time": "2019-10-16T13:31:29.334740Z"
    }
   },
   "outputs": [],
   "source": [
    "minutely_metadata = kut.read_metadata1()"
   ]
  },
  {
   "cell_type": "code",
   "execution_count": 36,
   "metadata": {
    "ExecuteTime": {
     "end_time": "2019-10-16T13:31:31.337371Z",
     "start_time": "2019-10-16T13:31:31.281281Z"
    },
    "scrolled": true
   },
   "outputs": [
    {
     "data": {
      "text/html": [
       "<div>\n",
       "<style scoped>\n",
       "    .dataframe tbody tr th:only-of-type {\n",
       "        vertical-align: middle;\n",
       "    }\n",
       "\n",
       "    .dataframe tbody tr th {\n",
       "        vertical-align: top;\n",
       "    }\n",
       "\n",
       "    .dataframe thead th {\n",
       "        text-align: right;\n",
       "    }\n",
       "</style>\n",
       "<table border=\"1\" class=\"dataframe\">\n",
       "  <thead>\n",
       "    <tr style=\"text-align: right;\">\n",
       "      <th></th>\n",
       "      <th>Symbol</th>\n",
       "      <th>Link</th>\n",
       "      <th>Description</th>\n",
       "    </tr>\n",
       "    <tr>\n",
       "      <th>All_Futures_Contracts_1min.csv</th>\n",
       "      <th></th>\n",
       "      <th></th>\n",
       "      <th></th>\n",
       "    </tr>\n",
       "  </thead>\n",
       "  <tbody>\n",
       "    <tr>\n",
       "      <th>1</th>\n",
       "      <td>JY</td>\n",
       "      <td>http://api.kibot.com/?action=download&amp;link=151...</td>\n",
       "      <td>CONTINUOUS JAPANESE YEN CONTRACT</td>\n",
       "    </tr>\n",
       "    <tr>\n",
       "      <th>2</th>\n",
       "      <td>JYF18</td>\n",
       "      <td>http://api.kibot.com/?action=download&amp;link=vrv...</td>\n",
       "      <td>JAPANESE YEN JANUARY 2018</td>\n",
       "    </tr>\n",
       "    <tr>\n",
       "      <th>3</th>\n",
       "      <td>JYF19</td>\n",
       "      <td>http://api.kibot.com/?action=download&amp;link=8r8...</td>\n",
       "      <td>JAPANESE YEN JANUARY 2019</td>\n",
       "    </tr>\n",
       "    <tr>\n",
       "      <th>4</th>\n",
       "      <td>JYG18</td>\n",
       "      <td>http://api.kibot.com/?action=download&amp;link=vrv...</td>\n",
       "      <td>JAPANESE YEN FEBRUARY 2018</td>\n",
       "    </tr>\n",
       "    <tr>\n",
       "      <th>5</th>\n",
       "      <td>JYG19</td>\n",
       "      <td>http://api.kibot.com/?action=download&amp;link=8r8...</td>\n",
       "      <td>JAPANESE YEN FEBRUARY 2019</td>\n",
       "    </tr>\n",
       "  </tbody>\n",
       "</table>\n",
       "</div>"
      ],
      "text/plain": [
       "                               Symbol                                               Link                       Description\n",
       "All_Futures_Contracts_1min.csv                                                                                            \n",
       "1                                  JY  http://api.kibot.com/?action=download&link=151...  CONTINUOUS JAPANESE YEN CONTRACT\n",
       "2                               JYF18  http://api.kibot.com/?action=download&link=vrv...         JAPANESE YEN JANUARY 2018\n",
       "3                               JYF19  http://api.kibot.com/?action=download&link=8r8...         JAPANESE YEN JANUARY 2019\n",
       "4                               JYG18  http://api.kibot.com/?action=download&link=vrv...        JAPANESE YEN FEBRUARY 2018\n",
       "5                               JYG19  http://api.kibot.com/?action=download&link=8r8...        JAPANESE YEN FEBRUARY 2019"
      ]
     },
     "execution_count": 36,
     "metadata": {},
     "output_type": "execute_result"
    }
   ],
   "source": [
    "minutely_metadata.head()"
   ]
  },
  {
   "cell_type": "code",
   "execution_count": 37,
   "metadata": {
    "ExecuteTime": {
     "end_time": "2019-10-16T13:31:31.387521Z",
     "start_time": "2019-10-16T13:31:31.339147Z"
    }
   },
   "outputs": [
    {
     "data": {
      "text/plain": [
       "True"
      ]
     },
     "execution_count": 37,
     "metadata": {},
     "output_type": "execute_result"
    }
   ],
   "source": [
    "np.array_equal(\n",
    "    minutely_metadata[\"Symbol\"].values, minutely_metadata[\"Symbol\"].values\n",
    ")"
   ]
  },
  {
   "cell_type": "code",
   "execution_count": 38,
   "metadata": {
    "ExecuteTime": {
     "end_time": "2019-10-16T13:50:15.374435Z",
     "start_time": "2019-10-16T13:50:15.329202Z"
    }
   },
   "outputs": [
    {
     "data": {
      "text/plain": [
       "44"
      ]
     },
     "execution_count": 38,
     "metadata": {},
     "output_type": "execute_result"
    }
   ],
   "source": [
    "len(comm_list)"
   ]
  },
  {
   "cell_type": "code",
   "execution_count": 39,
   "metadata": {
    "ExecuteTime": {
     "start_time": "2019-10-16T13:50:24.828Z"
    }
   },
   "outputs": [
    {
     "name": "stdout",
     "output_type": "stream",
     "text": [
      "args=('s3://default00-bucket/kibot/All_Futures_Continuous_Contracts_1min/ALM.csv.gz', None) kwargs={}\n",
      "args=('s3://default00-bucket/kibot/All_Futures_Continuous_Contracts_1min/BB.csv.gz', None) kwargs={}\n",
      "args=('s3://default00-bucket/kibot/All_Futures_Continuous_Contracts_1min/BZ.csv.gz', None) kwargs={}\n",
      "args=('s3://default00-bucket/kibot/All_Futures_Continuous_Contracts_1min/CCM.csv.gz', None) kwargs={}\n",
      "args=('s3://default00-bucket/kibot/All_Futures_Continuous_Contracts_1min/CL.csv.gz', None) kwargs={}\n",
      "args=('s3://default00-bucket/kibot/All_Futures_Continuous_Contracts_1min/FRC.csv.gz', None) kwargs={}\n",
      "args=('s3://default00-bucket/kibot/All_Futures_Continuous_Contracts_1min/HO.csv.gz', None) kwargs={}\n",
      "args=('s3://default00-bucket/kibot/All_Futures_Continuous_Contracts_1min/IN.csv.gz', None) kwargs={}\n",
      "args=('s3://default00-bucket/kibot/All_Futures_Continuous_Contracts_1min/JE.csv.gz', None) kwargs={}\n",
      "args=('s3://default00-bucket/kibot/All_Futures_Continuous_Contracts_1min/LL.csv.gz', None) kwargs={}\n",
      "args=('s3://default00-bucket/kibot/All_Futures_Continuous_Contracts_1min/ME.csv.gz', None) kwargs={}\n",
      "args=('s3://default00-bucket/kibot/All_Futures_Continuous_Contracts_1min/MME.csv.gz', None) kwargs={}\n",
      "args=('s3://default00-bucket/kibot/All_Futures_Continuous_Contracts_1min/NG.csv.gz', None) kwargs={}\n",
      "args=('s3://default00-bucket/kibot/All_Futures_Continuous_Contracts_1min/NN.csv.gz', None) kwargs={}\n",
      "args=('s3://default00-bucket/kibot/All_Futures_Continuous_Contracts_1min/PM.csv.gz', None) kwargs={}\n",
      "args=('s3://default00-bucket/kibot/All_Futures_Continuous_Contracts_1min/QG.csv.gz', None) kwargs={}\n",
      "args=('s3://default00-bucket/kibot/All_Futures_Continuous_Contracts_1min/QM.csv.gz', None) kwargs={}\n",
      "args=('s3://default00-bucket/kibot/All_Futures_Continuous_Contracts_1min/RB.csv.gz', None) kwargs={}\n",
      "args=('s3://default00-bucket/kibot/All_Futures_Continuous_Contracts_1min/STS.csv.gz', None) kwargs={}\n",
      "args=('s3://default00-bucket/kibot/All_Futures_Continuous_Contracts_1min/TC.csv.gz', None) kwargs={}\n",
      "args=('s3://default00-bucket/kibot/All_Futures_Continuous_Contracts_1min/TL.csv.gz', None) kwargs={}\n",
      "args=('s3://default00-bucket/kibot/All_Futures_Continuous_Contracts_1min/TM.csv.gz', None) kwargs={}\n",
      "args=('s3://default00-bucket/kibot/All_Futures_Continuous_Contracts_1min/TW.csv.gz', None) kwargs={}\n",
      "args=('s3://default00-bucket/kibot/All_Futures_Continuous_Contracts_1min/GF.csv.gz', None) kwargs={}\n",
      "args=('s3://default00-bucket/kibot/All_Futures_Continuous_Contracts_1min/HE.csv.gz', None) kwargs={}\n",
      "args=('s3://default00-bucket/kibot/All_Futures_Continuous_Contracts_1min/LE.csv.gz', None) kwargs={}\n",
      "args=('s3://default00-bucket/kibot/All_Futures_Continuous_Contracts_1min/TT.csv.gz', None) kwargs={}\n",
      "args=('s3://default00-bucket/kibot/All_Futures_Continuous_Contracts_1min/ZCT.csv.gz', None) kwargs={}\n",
      "args=('s3://default00-bucket/kibot/All_Futures_Continuous_Contracts_1min/ZLT.csv.gz', None) kwargs={}\n",
      "args=('s3://default00-bucket/kibot/All_Futures_Continuous_Contracts_1min/ZMT.csv.gz', None) kwargs={}\n",
      "args=('s3://default00-bucket/kibot/All_Futures_Continuous_Contracts_1min/ZWT.csv.gz', None) kwargs={}\n",
      "args=('s3://default00-bucket/kibot/All_Futures_Continuous_Contracts_1min/GC.csv.gz', None) kwargs={}\n",
      "args=('s3://default00-bucket/kibot/All_Futures_Continuous_Contracts_1min/GCK.csv.gz', None) kwargs={}\n",
      "args=('s3://default00-bucket/kibot/All_Futures_Continuous_Contracts_1min/HG.csv.gz', None) kwargs={}\n",
      "args=('s3://default00-bucket/kibot/All_Futures_Continuous_Contracts_1min/HGT.csv.gz', None) kwargs={}\n",
      "args=('s3://default00-bucket/kibot/All_Futures_Continuous_Contracts_1min/MGC.csv.gz', None) kwargs={}\n",
      "args=('s3://default00-bucket/kibot/All_Futures_Continuous_Contracts_1min/PA.csv.gz', None) kwargs={}\n",
      "args=('s3://default00-bucket/kibot/All_Futures_Continuous_Contracts_1min/PL.csv.gz', None) kwargs={}\n",
      "args=('s3://default00-bucket/kibot/All_Futures_Continuous_Contracts_1min/QC.csv.gz', None) kwargs={}\n",
      "args=('s3://default00-bucket/kibot/All_Futures_Continuous_Contracts_1min/QI.csv.gz', None) kwargs={}\n",
      "args=('s3://default00-bucket/kibot/All_Futures_Continuous_Contracts_1min/QO.csv.gz', None) kwargs={}\n",
      "args=('s3://default00-bucket/kibot/All_Futures_Continuous_Contracts_1min/SI.csv.gz', None) kwargs={}\n",
      "args=('s3://default00-bucket/kibot/All_Futures_Continuous_Contracts_1min/SIL.csv.gz', None) kwargs={}\n",
      "args=('s3://default00-bucket/kibot/All_Futures_Continuous_Contracts_1min/UX.csv.gz', None) kwargs={}\n"
     ]
    },
    {
     "data": {
      "text/html": [
       "<div>\n",
       "<style scoped>\n",
       "    .dataframe tbody tr th:only-of-type {\n",
       "        vertical-align: middle;\n",
       "    }\n",
       "\n",
       "    .dataframe tbody tr th {\n",
       "        vertical-align: top;\n",
       "    }\n",
       "\n",
       "    .dataframe thead th {\n",
       "        text-align: right;\n",
       "    }\n",
       "</style>\n",
       "<table border=\"1\" class=\"dataframe\">\n",
       "  <thead>\n",
       "    <tr style=\"text-align: right;\">\n",
       "      <th></th>\n",
       "      <th>open</th>\n",
       "      <th>high</th>\n",
       "      <th>low</th>\n",
       "      <th>close</th>\n",
       "      <th>vol</th>\n",
       "    </tr>\n",
       "    <tr>\n",
       "      <th>date</th>\n",
       "      <th></th>\n",
       "      <th></th>\n",
       "      <th></th>\n",
       "      <th></th>\n",
       "      <th></th>\n",
       "    </tr>\n",
       "  </thead>\n",
       "  <tbody>\n",
       "    <tr>\n",
       "      <th>2019-07-18</th>\n",
       "      <td>56.72</td>\n",
       "      <td>57.45</td>\n",
       "      <td>54.85</td>\n",
       "      <td>55.42</td>\n",
       "      <td>764491</td>\n",
       "    </tr>\n",
       "    <tr>\n",
       "      <th>2019-07-19</th>\n",
       "      <td>55.84</td>\n",
       "      <td>56.49</td>\n",
       "      <td>55.12</td>\n",
       "      <td>55.76</td>\n",
       "      <td>710948</td>\n",
       "    </tr>\n",
       "  </tbody>\n",
       "</table>\n",
       "</div>"
      ],
      "text/plain": [
       "             open   high    low  close     vol\n",
       "date                                          \n",
       "2019-07-18  56.72  57.45  54.85  55.42  764491\n",
       "2019-07-19  55.84  56.49  55.12  55.76  710948"
      ]
     },
     "execution_count": 39,
     "metadata": {},
     "output_type": "execute_result"
    }
   ],
   "source": [
    "s3_path = hs3.get_path()\n",
    "kibot_path = os.path.join(\n",
    "    s3_path, \"kibot/All_Futures_Continuous_Contracts_1min/%s.csv.gz\"\n",
    ")\n",
    "\n",
    "minutely_price_dict_df = kut.read_multiple_symbol_data(\n",
    "    comm_list, kibot_path, nrows=None\n",
    ")\n",
    "\n",
    "daily_price_dict_df[\"CL\"].tail(2)"
   ]
  },
  {
   "cell_type": "code",
   "execution_count": 40,
   "metadata": {
    "ExecuteTime": {
     "end_time": "2019-10-16T13:44:46.056243Z",
     "start_time": "2019-10-16T13:31:06.669Z"
    }
   },
   "outputs": [
    {
     "data": {
      "text/html": [
       "<div>\n",
       "<style scoped>\n",
       "    .dataframe tbody tr th:only-of-type {\n",
       "        vertical-align: middle;\n",
       "    }\n",
       "\n",
       "    .dataframe tbody tr th {\n",
       "        vertical-align: top;\n",
       "    }\n",
       "\n",
       "    .dataframe thead th {\n",
       "        text-align: right;\n",
       "    }\n",
       "</style>\n",
       "<table border=\"1\" class=\"dataframe\">\n",
       "  <thead>\n",
       "    <tr style=\"text-align: right;\">\n",
       "      <th></th>\n",
       "      <th>open</th>\n",
       "      <th>high</th>\n",
       "      <th>low</th>\n",
       "      <th>close</th>\n",
       "      <th>vol</th>\n",
       "      <th>time</th>\n",
       "    </tr>\n",
       "    <tr>\n",
       "      <th>datetime</th>\n",
       "      <th></th>\n",
       "      <th></th>\n",
       "      <th></th>\n",
       "      <th></th>\n",
       "      <th></th>\n",
       "      <th></th>\n",
       "    </tr>\n",
       "  </thead>\n",
       "  <tbody>\n",
       "    <tr>\n",
       "      <th>2009-09-27 18:00:00</th>\n",
       "      <td>66.15</td>\n",
       "      <td>66.35</td>\n",
       "      <td>66.15</td>\n",
       "      <td>66.32</td>\n",
       "      <td>88</td>\n",
       "      <td>18:00:00</td>\n",
       "    </tr>\n",
       "    <tr>\n",
       "      <th>2009-09-27 18:01:00</th>\n",
       "      <td>66.36</td>\n",
       "      <td>66.49</td>\n",
       "      <td>66.35</td>\n",
       "      <td>66.37</td>\n",
       "      <td>124</td>\n",
       "      <td>18:01:00</td>\n",
       "    </tr>\n",
       "    <tr>\n",
       "      <th>2009-09-27 18:02:00</th>\n",
       "      <td>66.37</td>\n",
       "      <td>66.41</td>\n",
       "      <td>66.37</td>\n",
       "      <td>66.37</td>\n",
       "      <td>25</td>\n",
       "      <td>18:02:00</td>\n",
       "    </tr>\n",
       "    <tr>\n",
       "      <th>2009-09-27 18:03:00</th>\n",
       "      <td>66.37</td>\n",
       "      <td>66.42</td>\n",
       "      <td>66.37</td>\n",
       "      <td>66.42</td>\n",
       "      <td>33</td>\n",
       "      <td>18:03:00</td>\n",
       "    </tr>\n",
       "    <tr>\n",
       "      <th>2009-09-27 18:04:00</th>\n",
       "      <td>66.39</td>\n",
       "      <td>66.46</td>\n",
       "      <td>66.39</td>\n",
       "      <td>66.46</td>\n",
       "      <td>14</td>\n",
       "      <td>18:04:00</td>\n",
       "    </tr>\n",
       "  </tbody>\n",
       "</table>\n",
       "</div>"
      ],
      "text/plain": [
       "                      open   high    low  close  vol      time\n",
       "datetime                                                      \n",
       "2009-09-27 18:00:00  66.15  66.35  66.15  66.32   88  18:00:00\n",
       "2009-09-27 18:01:00  66.36  66.49  66.35  66.37  124  18:01:00\n",
       "2009-09-27 18:02:00  66.37  66.41  66.37  66.37   25  18:02:00\n",
       "2009-09-27 18:03:00  66.37  66.42  66.37  66.42   33  18:03:00\n",
       "2009-09-27 18:04:00  66.39  66.46  66.39  66.46   14  18:04:00"
      ]
     },
     "execution_count": 40,
     "metadata": {},
     "output_type": "execute_result"
    }
   ],
   "source": [
    "minutely_price_dict_df[\"CL\"].head()"
   ]
  },
  {
   "cell_type": "code",
   "execution_count": 41,
   "metadata": {
    "ExecuteTime": {
     "end_time": "2019-10-16T13:44:46.058786Z",
     "start_time": "2019-10-16T13:31:06.673Z"
    }
   },
   "outputs": [],
   "source": [
    "# five_min_price_dict_df = {\n",
    "#     symbol: minutely_price_dict_df[symbol].resample(\"5Min\").sum()\n",
    "#     for symbol in minutely_price_dict_df.keys()\n",
    "# }"
   ]
  },
  {
   "cell_type": "markdown",
   "metadata": {},
   "source": [
    "## Top movements for a symbol"
   ]
  },
  {
   "cell_type": "code",
   "execution_count": 42,
   "metadata": {
    "ExecuteTime": {
     "end_time": "2019-10-16T13:44:46.059831Z",
     "start_time": "2019-10-16T13:31:06.677Z"
    }
   },
   "outputs": [],
   "source": [
    "symbol = \"CL\""
   ]
  },
  {
   "cell_type": "code",
   "execution_count": 43,
   "metadata": {
    "ExecuteTime": {
     "end_time": "2019-10-16T13:44:46.061261Z",
     "start_time": "2019-10-16T13:31:06.680Z"
    }
   },
   "outputs": [],
   "source": [
    "top_100_movements_cl_1_min = pma.get_top_movements_for_symbol(\n",
    "    minutely_price_dict_df, symbol, \"minutely\", tau, 'all'\n",
    ")"
   ]
  },
  {
   "cell_type": "code",
   "execution_count": 44,
   "metadata": {
    "ExecuteTime": {
     "end_time": "2019-10-16T13:44:46.063638Z",
     "start_time": "2019-10-16T13:31:06.683Z"
    }
   },
   "outputs": [
    {
     "data": {
      "text/plain": [
       "datetime\n",
       "2011-02-17 01:16:00    4.300486\n",
       "2015-12-16 18:00:00    4.300040\n",
       "2014-08-17 18:00:00    4.299188\n",
       "2016-03-16 18:00:00    4.298413\n",
       "2017-01-17 19:19:00    4.298211\n",
       "Name: ret_0, dtype: float64"
      ]
     },
     "execution_count": 44,
     "metadata": {},
     "output_type": "execute_result"
    }
   ],
   "source": [
    "top_100_movements_cl_1_min.head()"
   ]
  },
  {
   "cell_type": "code",
   "execution_count": 45,
   "metadata": {},
   "outputs": [
    {
     "data": {
      "text/plain": [
       "datetime\n",
       "2011-02-17 01:16:00    4.300486\n",
       "2015-12-16 18:00:00    4.300040\n",
       "2016-03-16 18:00:00    4.298413\n",
       "2017-01-17 19:19:00    4.298211\n",
       "2016-12-15 19:04:00    4.296084\n",
       "Name: ret_0, dtype: float64"
      ]
     },
     "execution_count": 45,
     "metadata": {},
     "output_type": "execute_result"
    }
   ],
   "source": [
    "pma.get_top_movements_for_symbol(\n",
    "    minutely_price_dict_df, symbol, \"minutely\", tau, 'pos'\n",
    ").head()"
   ]
  },
  {
   "cell_type": "code",
   "execution_count": 46,
   "metadata": {},
   "outputs": [
    {
     "data": {
      "text/plain": [
       "datetime\n",
       "2014-08-17 18:00:00   -4.299188\n",
       "2015-06-28 18:00:00   -4.296374\n",
       "2013-09-15 18:00:00   -4.294100\n",
       "2014-04-16 18:00:00   -4.292428\n",
       "2014-09-17 18:00:00   -4.290428\n",
       "Name: ret_0, dtype: float64"
      ]
     },
     "execution_count": 46,
     "metadata": {},
     "output_type": "execute_result"
    }
   ],
   "source": [
    "pma.get_top_movements_for_symbol(\n",
    "    minutely_price_dict_df, symbol, \"minutely\", tau, 'neg'\n",
    ").head()"
   ]
  },
  {
   "cell_type": "code",
   "execution_count": 47,
   "metadata": {
    "ExecuteTime": {
     "end_time": "2019-10-16T13:44:46.066185Z",
     "start_time": "2019-10-16T13:31:06.686Z"
    }
   },
   "outputs": [],
   "source": [
    "# top_100_movements_cl_5_min = pma.get_top_movements_for_symbol(\n",
    "#     five_min_price_dict_df, symbol\n",
    "# )"
   ]
  },
  {
   "cell_type": "code",
   "execution_count": 48,
   "metadata": {
    "ExecuteTime": {
     "end_time": "2019-10-16T13:44:46.067584Z",
     "start_time": "2019-10-16T13:31:06.688Z"
    }
   },
   "outputs": [],
   "source": [
    "# top_100_movements_cl_5_min.head()"
   ]
  },
  {
   "cell_type": "code",
   "execution_count": 49,
   "metadata": {
    "ExecuteTime": {
     "end_time": "2019-10-16T13:44:46.068945Z",
     "start_time": "2019-10-16T13:31:06.691Z"
    }
   },
   "outputs": [
    {
     "data": {
      "image/png": "[encoded data removed]",
      "text/plain": [
       "<Figure size 1440x360 with 1 Axes>"
      ]
     },
     "metadata": {},
     "output_type": "display_data"
    }
   ],
   "source": [
    "top_100_movements_cl_1_min.plot(kind=\"bar\")\n",
    "plt.title(\n",
    "    f\"Largest price movements in a 1 min interval (in z-score space) for {symbol} symbol\"\n",
    ")\n",
    "plt.show()"
   ]
  },
  {
   "cell_type": "code",
   "execution_count": 50,
   "metadata": {
    "ExecuteTime": {
     "end_time": "2019-10-16T13:44:46.071113Z",
     "start_time": "2019-10-16T13:31:06.694Z"
    }
   },
   "outputs": [
    {
     "name": "stdout",
     "output_type": "stream",
     "text": [
      "Top 100 of the price movements for CL occur at the following time:\n",
      "18:00:00    56\n",
      "16:31:00    20\n",
      "19:04:00     2\n",
      "08:31:00     2\n",
      "19:06:00     2\n",
      "01:45:00     1\n",
      "18:13:00     1\n",
      "19:19:00     1\n",
      "11:01:00     1\n",
      "10:01:00     1\n",
      "18:42:00     1\n",
      "20:01:00     1\n",
      "19:17:00     1\n",
      "03:28:00     1\n",
      "20:04:00     1\n",
      "19:10:00     1\n",
      "19:28:00     1\n",
      "01:16:00     1\n",
      "20:54:00     1\n",
      "19:18:00     1\n",
      "00:46:00     1\n",
      "19:22:00     1\n",
      "19:03:00     1\n",
      "Name: datetime, dtype: int64\n"
     ]
    }
   ],
   "source": [
    "print(f\"Top 100 of the price movements for {symbol} occur at the following time:\")\n",
    "print(pd.Series(top_100_movements_cl_1_min.index).dt.time.value_counts())"
   ]
  },
  {
   "cell_type": "markdown",
   "metadata": {},
   "source": [
    "## Largest movements for energy group"
   ]
  },
  {
   "cell_type": "code",
   "execution_count": 51,
   "metadata": {
    "ExecuteTime": {
     "end_time": "2019-10-16T13:44:46.073671Z",
     "start_time": "2019-10-16T13:31:06.697Z"
    }
   },
   "outputs": [],
   "source": [
    "group = \"Energy\""
   ]
  },
  {
   "cell_type": "code",
   "execution_count": 52,
   "metadata": {
    "ExecuteTime": {
     "end_time": "2019-10-16T13:44:46.075163Z",
     "start_time": "2019-10-16T13:31:06.704Z"
    }
   },
   "outputs": [
    {
     "data": {
      "text/plain": [
       "array(['ALM', 'BB', 'BZ', 'CCM', 'CL', 'FRC', 'HO', 'IN', 'JE', 'LL',\n",
       "       'ME', 'MME', 'NG', 'NN', 'PM', 'QG', 'QM', 'RB', 'STS', 'TC', 'TL',\n",
       "       'TM', 'TW'], dtype=object)"
      ]
     },
     "execution_count": 52,
     "metadata": {},
     "output_type": "execute_result"
    }
   ],
   "source": [
    "commodity_symbols_kibot[group]"
   ]
  },
  {
   "cell_type": "code",
   "execution_count": 53,
   "metadata": {
    "ExecuteTime": {
     "end_time": "2019-10-16T13:44:46.077576Z",
     "start_time": "2019-10-16T13:31:06.707Z"
    }
   },
   "outputs": [
    {
     "data": {
      "text/plain": [
       "datetime\n",
       "2012-01-16 14:06:00    4.298886\n",
       "2015-02-12 17:59:00    4.288120\n",
       "2016-09-15 19:10:00    4.282692\n",
       "2018-01-01 04:31:00    4.261540\n",
       "2017-09-13 17:55:00    4.253446\n",
       "2019-05-06 17:00:00    4.245467\n",
       "2019-04-03 17:56:00    4.243571\n",
       "2017-03-29 17:02:00    4.243452\n",
       "2019-02-08 17:17:00    4.233571\n",
       "2017-08-17 19:22:00    4.231148\n",
       "2018-12-07 17:59:00    4.216019\n",
       "2016-08-30 17:07:00    4.213595\n",
       "2018-02-20 17:06:00    4.212008\n",
       "2010-01-20 18:45:00    4.206067\n",
       "2011-04-22 13:15:00    4.202897\n",
       "2016-06-16 19:03:00    4.202772\n",
       "2019-06-25 17:57:00    4.191055\n",
       "2015-03-05 17:18:00    4.186450\n",
       "2018-09-27 17:30:00    4.183348\n",
       "2012-01-02 13:13:00    4.179167\n",
       "2012-02-03 19:45:00    4.176990\n",
       "2016-07-20 17:57:00    4.170227\n",
       "2018-04-17 17:16:00    4.167863\n",
       "2016-04-17 18:00:00    4.166857\n",
       "2019-03-27 17:59:00    4.163509\n",
       "2019-07-01 17:57:00    4.161402\n",
       "2018-08-17 17:07:00    4.156627\n",
       "2019-07-05 17:02:00    4.151468\n",
       "2016-11-06 18:00:00    4.145534\n",
       "2016-07-08 17:59:00    4.142148\n",
       "2016-08-08 17:33:00    4.140903\n",
       "2016-06-06 17:00:00    4.136443\n",
       "2017-06-23 17:05:00    4.136030\n",
       "2016-06-22 17:09:00    4.136015\n",
       "2019-07-12 17:26:00    4.134031\n",
       "2018-12-02 18:00:00    4.131816\n",
       "2011-12-26 06:16:00    4.120506\n",
       "2013-09-04 19:45:00    4.114369\n",
       "2018-09-25 17:58:00    4.112199\n",
       "2013-05-27 16:03:00    4.107604\n",
       "2012-12-21 19:45:00    4.099036\n",
       "2016-05-30 13:56:00    4.095347\n",
       "2010-12-16 18:45:00    4.090244\n",
       "2014-12-31 20:00:00    4.083977\n",
       "2019-03-28 17:48:00    4.080757\n",
       "2015-08-12 17:20:00    4.073164\n",
       "2017-04-18 17:56:00    4.067218\n",
       "2012-01-01 19:45:00    4.066677\n",
       "2017-12-24 18:30:00    4.060102\n",
       "2018-03-08 17:02:00    4.058498\n",
       "2010-07-21 19:45:00    4.057623\n",
       "2019-05-10 17:57:00    4.053640\n",
       "2015-10-29 17:00:00    4.053617\n",
       "2015-02-27 20:00:00    4.050969\n",
       "2017-10-12 17:19:00    4.047127\n",
       "2018-03-01 17:59:00    4.045990\n",
       "2018-06-21 17:36:00    4.033027\n",
       "2018-10-14 18:00:00    4.031563\n",
       "2017-08-01 17:02:00    4.030348\n",
       "2019-06-27 17:59:00    4.029894\n",
       "2016-12-11 18:00:00    4.025576\n",
       "2016-06-14 16:31:00    4.019623\n",
       "2017-11-24 15:31:00    4.016457\n",
       "2018-04-02 17:19:00    4.015205\n",
       "2018-02-21 17:01:00    4.014406\n",
       "2018-05-28 15:12:00    4.012766\n",
       "2017-04-17 17:57:00    4.010950\n",
       "2011-08-07 18:00:00    4.009171\n",
       "2015-01-01 04:03:00    4.008498\n",
       "2017-08-28 17:19:00    4.005027\n",
       "2016-10-04 17:00:00    4.001488\n",
       "2018-04-19 17:40:00    4.001371\n",
       "2015-06-26 17:36:00    4.000860\n",
       "2012-06-10 18:00:00    3.998003\n",
       "2018-11-14 17:59:00    3.997007\n",
       "2016-04-06 17:05:00    3.996003\n",
       "2014-06-12 19:30:00    3.994411\n",
       "2016-11-14 17:15:00    3.988126\n",
       "2011-05-23 18:38:00    3.982423\n",
       "2018-03-06 17:31:00    3.978128\n",
       "2018-06-07 17:19:00    3.977407\n",
       "2015-01-27 17:15:00    3.972795\n",
       "2010-06-20 19:45:00    3.971606\n",
       "2019-02-15 17:51:00    3.957885\n",
       "2019-07-02 17:41:00    3.956996\n",
       "2017-03-20 17:57:00    3.956522\n",
       "2012-01-01 21:29:00    3.956382\n",
       "2015-07-12 18:00:00    3.952752\n",
       "2018-01-03 17:05:00    3.943359\n",
       "2009-11-17 16:30:00    3.938991\n",
       "2018-11-11 18:00:00    3.937275\n",
       "2016-07-06 16:31:00    3.935831\n",
       "2018-04-27 17:00:00    3.935392\n",
       "2015-05-03 19:45:00    3.933725\n",
       "2019-01-23 17:24:00    3.929075\n",
       "2017-01-04 17:21:00    3.925825\n",
       "2017-02-19 18:00:00    3.924741\n",
       "2018-04-23 17:15:00    3.917095\n",
       "2018-01-17 17:59:00    3.913566\n",
       "2018-12-18 17:59:00    3.912722\n",
       "dtype: float64"
      ]
     },
     "execution_count": 53,
     "metadata": {},
     "output_type": "execute_result"
    }
   ],
   "source": [
    "pma.get_top_movements_by_group(\n",
    "    minutely_price_dict_df, commodity_symbols_kibot, group, \"minutely\", tau, 'all'\n",
    ")"
   ]
  },
  {
   "cell_type": "markdown",
   "metadata": {},
   "source": [
    "## Largest movements for each group"
   ]
  },
  {
   "cell_type": "code",
   "execution_count": 54,
   "metadata": {
    "ExecuteTime": {
     "end_time": "2019-10-16T13:44:46.078798Z",
     "start_time": "2019-10-16T13:31:06.710Z"
    }
   },
   "outputs": [
    {
     "data": {
      "application/vnd.jupyter.widget-view+json": {
       "model_id": "2d475be041614a4cbeb7911906bf63f9",
       "version_major": 2,
       "version_minor": 0
      },
      "text/plain": [
       "HBox(children=(IntProgress(value=0, max=3), HTML(value='')))"
      ]
     },
     "metadata": {},
     "output_type": "display_data"
    },
    {
     "name": "stdout",
     "output_type": "stream",
     "text": [
      "\n"
     ]
    }
   ],
   "source": [
    "top_100_1_min_movements_by_group = {\n",
    "    group: pma.get_top_movements_by_group(\n",
    "        minutely_price_dict_df, commodity_symbols_kibot, group, \"minutely\", tau, 'all'\n",
    "    )\n",
    "    for group in tqdm(commodity_symbols_kibot.keys())\n",
    "}"
   ]
  },
  {
   "cell_type": "code",
   "execution_count": 55,
   "metadata": {
    "ExecuteTime": {
     "end_time": "2019-10-16T13:44:46.080121Z",
     "start_time": "2019-10-16T13:31:06.713Z"
    }
   },
   "outputs": [
    {
     "data": {
      "text/plain": [
       "{'Energy': datetime\n",
       " 2012-01-16 14:06:00    4.298886\n",
       " 2015-02-12 17:59:00    4.288120\n",
       " 2016-09-15 19:10:00    4.282692\n",
       " 2018-01-01 04:31:00    4.261540\n",
       " 2017-09-13 17:55:00    4.253446\n",
       " dtype: float64, 'Agriculture': datetime\n",
       " 2014-08-14 18:00:00    4.301669\n",
       " 2013-08-14 18:00:00    4.301648\n",
       " 2013-05-23 18:04:00    4.301445\n",
       " 2013-10-14 18:07:00    4.301028\n",
       " 2010-12-14 18:00:00    4.300992\n",
       " dtype: float64, 'Metals': datetime\n",
       " 2014-07-13 00:00:00    4.267880\n",
       " 2009-10-27 07:56:00    4.236741\n",
       " 2016-05-26 19:02:00    4.167597\n",
       " 2011-07-10 00:00:00    4.157247\n",
       " 2012-02-26 00:00:00    4.155662\n",
       " dtype: float64}"
      ]
     },
     "execution_count": 55,
     "metadata": {},
     "output_type": "execute_result"
    }
   ],
   "source": [
    "{\n",
    "    group: head_prices_group.head()\n",
    "    for group, head_prices_group in top_100_1_min_movements_by_group.items()\n",
    "}"
   ]
  },
  {
   "cell_type": "code",
   "execution_count": null,
   "metadata": {},
   "outputs": [],
   "source": []
  }
 ],
 "metadata": {
  "jupytext": {
   "text_representation": {
    "extension": ".py",
    "format_name": "percent",
    "format_version": "1.2",
    "jupytext_version": "1.2.4"
   }
  },
  "kernelspec": {
   "display_name": "Python 3",
   "language": "python",
   "name": "python3"
  },
  "language_info": {
   "codemirror_mode": {
    "name": "ipython",
    "version": 3
   },
   "file_extension": ".py",
   "mimetype": "text/x-python",
   "name": "python",
   "nbconvert_exporter": "python",
   "pygments_lexer": "ipython3",
   "version": "3.7.3"
  },
  "toc": {
   "base_numbering": 1,
   "nav_menu": {},
   "number_sections": true,
   "sideBar": true,
   "skip_h1_title": false,
   "title_cell": "Table of Contents",
   "title_sidebar": "Contents",
   "toc_cell": false,
   "toc_position": {
    "height": "calc(100% - 180px)",
    "left": "10px",
    "top": "150px",
    "width": "206.016px"
   },
   "toc_section_display": true,
   "toc_window_display": true
  }
 },
 "nbformat": 4,
 "nbformat_minor": 2
}
