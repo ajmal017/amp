{
 "cells": [
  {
   "cell_type": "code",
   "execution_count": 46,
   "id": "bc7f29a1",
   "metadata": {
    "ExecuteTime": {
     "end_time": "2021-09-08T23:29:58.428072Z",
     "start_time": "2021-09-08T23:29:58.008341Z"
    }
   },
   "outputs": [
    {
     "name": "stdout",
     "output_type": "stream",
     "text": [
      "\u001b[33mWARNING\u001b[0m: Disabling annoying warnings\n",
      "\u001b[0m\u001b[36mINFO\u001b[0m: > cmd='/venv/lib/python3.8/site-packages/ipykernel_launcher.py -f /root/.local/share/jupyter/runtime/kernel-19f59c8f-5ad0-44e1-89ed-7783834804cb.json'\n",
      "\u001b[33mWARNING\u001b[0m: Running in Jupyter\n"
     ]
    }
   ],
   "source": [
    "%load_ext autoreload\n",
    "%autoreload 2\n",
    "\n",
    "import logging\n",
    "\n",
    "import helpers.dbg as dbg\n",
    "import helpers.printing as prnt\n",
    "\n",
    "prnt.config_notebook()\n",
    "\n",
    "#dbg.init_logger(verbosity=logging.DEBUG)\n",
    "dbg.init_logger(verbosity=logging.INFO)\n",
    "# dbg.test_logger()\n",
    "_LOG = logging.getLogger(__name__)"
   ]
  },
  {
   "cell_type": "code",
   "execution_count": 49,
   "id": "fdcc78d2",
   "metadata": {
    "ExecuteTime": {
     "end_time": "2021-09-08T23:30:24.316573Z",
     "start_time": "2021-09-08T23:30:24.300643Z"
    }
   },
   "outputs": [],
   "source": [
    "_LOG.debug = _LOG.info"
   ]
  },
  {
   "cell_type": "markdown",
   "id": "912622ca",
   "metadata": {},
   "source": [
    "# Generate random data"
   ]
  },
  {
   "cell_type": "code",
   "execution_count": 27,
   "id": "e7f2a496",
   "metadata": {
    "ExecuteTime": {
     "end_time": "2021-09-08T23:19:32.953934Z",
     "start_time": "2021-09-08T23:19:32.941528Z"
    }
   },
   "outputs": [
    {
     "data": {
      "text/html": [
       "<div>\n",
       "<style scoped>\n",
       "    .dataframe tbody tr th:only-of-type {\n",
       "        vertical-align: middle;\n",
       "    }\n",
       "\n",
       "    .dataframe tbody tr th {\n",
       "        vertical-align: top;\n",
       "    }\n",
       "\n",
       "    .dataframe thead th {\n",
       "        text-align: right;\n",
       "    }\n",
       "</style>\n",
       "<table border=\"1\" class=\"dataframe\">\n",
       "  <thead>\n",
       "    <tr style=\"text-align: right;\">\n",
       "      <th></th>\n",
       "      <th>price</th>\n",
       "      <th>ask</th>\n",
       "      <th>bid</th>\n",
       "    </tr>\n",
       "  </thead>\n",
       "  <tbody>\n",
       "    <tr>\n",
       "      <th>2021-09-08 09:30:00</th>\n",
       "      <td>100.496714</td>\n",
       "      <td>102.348992</td>\n",
       "      <td>99.390379</td>\n",
       "    </tr>\n",
       "    <tr>\n",
       "      <th>2021-09-08 09:31:00</th>\n",
       "      <td>100.358450</td>\n",
       "      <td>100.371947</td>\n",
       "      <td>99.162243</td>\n",
       "    </tr>\n",
       "    <tr>\n",
       "      <th>2021-09-08 09:32:00</th>\n",
       "      <td>101.006138</td>\n",
       "      <td>102.063849</td>\n",
       "      <td>100.193613</td>\n",
       "    </tr>\n",
       "    <tr>\n",
       "      <th>2021-09-08 09:33:00</th>\n",
       "      <td>102.529168</td>\n",
       "      <td>103.351713</td>\n",
       "      <td>101.172928</td>\n",
       "    </tr>\n",
       "    <tr>\n",
       "      <th>2021-09-08 09:34:00</th>\n",
       "      <td>102.295015</td>\n",
       "      <td>103.515859</td>\n",
       "      <td>102.223005</td>\n",
       "    </tr>\n",
       "  </tbody>\n",
       "</table>\n",
       "</div>"
      ],
      "text/plain": [
       "                          price         ask         bid\n",
       "2021-09-08 09:30:00  100.496714  102.348992   99.390379\n",
       "2021-09-08 09:31:00  100.358450  100.371947   99.162243\n",
       "2021-09-08 09:32:00  101.006138  102.063849  100.193613\n",
       "2021-09-08 09:33:00  102.529168  103.351713  101.172928\n",
       "2021-09-08 09:34:00  102.295015  103.515859  102.223005"
      ]
     },
     "metadata": {},
     "output_type": "display_data"
    }
   ],
   "source": [
    "import numpy as np\n",
    "import pandas as pd\n",
    "\n",
    "np.random.seed(42)\n",
    "\n",
    "#date_range = pd.date_range(\"09:30\", \"15:00\", freq=\"1T\")\n",
    "date_range = pd.date_range(\"09:30\", \"10:00\", freq=\"1T\")\n",
    "\n",
    "diff = np.random.normal(0, 1, size=len(date_range))\n",
    "diff = diff.cumsum()\n",
    "price = 100.0 + diff\n",
    "df = pd.DataFrame(price, index=date_range, columns=[\"price\"])\n",
    "\n",
    "# ask, bid\n",
    "df[\"ask\"] = price + np.abs(np.random.normal(0, 1, size=len(date_range)))\n",
    "df[\"bid\"] = price - np.abs(np.random.normal(0, 1, size=len(date_range)))\n",
    "display(df.head(5))"
   ]
  },
  {
   "cell_type": "markdown",
   "id": "24b7cac5",
   "metadata": {},
   "source": [
    "## Case 1: instantaneous, no costs"
   ]
  },
  {
   "cell_type": "code",
   "execution_count": 82,
   "id": "a86263c4",
   "metadata": {
    "ExecuteTime": {
     "end_time": "2021-09-08T23:44:49.332296Z",
     "start_time": "2021-09-08T23:44:49.304844Z"
    }
   },
   "outputs": [
    {
     "data": {
      "text/html": [
       "<div>\n",
       "<style scoped>\n",
       "    .dataframe tbody tr th:only-of-type {\n",
       "        vertical-align: middle;\n",
       "    }\n",
       "\n",
       "    .dataframe tbody tr th {\n",
       "        vertical-align: top;\n",
       "    }\n",
       "\n",
       "    .dataframe thead th {\n",
       "        text-align: right;\n",
       "    }\n",
       "</style>\n",
       "<table border=\"1\" class=\"dataframe\">\n",
       "  <thead>\n",
       "    <tr style=\"text-align: right;\">\n",
       "      <th></th>\n",
       "      <th>price</th>\n",
       "      <th>ask</th>\n",
       "      <th>bid</th>\n",
       "      <th>ret_0</th>\n",
       "      <th>preds</th>\n",
       "    </tr>\n",
       "  </thead>\n",
       "  <tbody>\n",
       "    <tr>\n",
       "      <th>2021-09-08 09:30:00</th>\n",
       "      <td>100.496714</td>\n",
       "      <td>102.348992</td>\n",
       "      <td>99.390379</td>\n",
       "      <td>NaN</td>\n",
       "      <td>1.0</td>\n",
       "    </tr>\n",
       "    <tr>\n",
       "      <th>2021-09-08 09:35:00</th>\n",
       "      <td>102.060878</td>\n",
       "      <td>102.269742</td>\n",
       "      <td>101.057345</td>\n",
       "      <td>0.015564</td>\n",
       "      <td>-1.0</td>\n",
       "    </tr>\n",
       "    <tr>\n",
       "      <th>2021-09-08 09:40:00</th>\n",
       "      <td>104.017193</td>\n",
       "      <td>104.188562</td>\n",
       "      <td>103.981367</td>\n",
       "      <td>0.019168</td>\n",
       "      <td>-1.0</td>\n",
       "    </tr>\n",
       "    <tr>\n",
       "      <th>2021-09-08 09:45:00</th>\n",
       "      <td>99.592940</td>\n",
       "      <td>100.053579</td>\n",
       "      <td>99.293933</td>\n",
       "      <td>-0.042534</td>\n",
       "      <td>1.0</td>\n",
       "    </tr>\n",
       "    <tr>\n",
       "      <th>2021-09-08 09:50:00</th>\n",
       "      <td>98.039678</td>\n",
       "      <td>98.424760</td>\n",
       "      <td>96.561783</td>\n",
       "      <td>-0.015596</td>\n",
       "      <td>1.0</td>\n",
       "    </tr>\n",
       "    <tr>\n",
       "      <th>2021-09-08 09:55:00</th>\n",
       "      <td>96.023221</td>\n",
       "      <td>96.862439</td>\n",
       "      <td>95.694470</td>\n",
       "      <td>-0.020568</td>\n",
       "      <td>1.0</td>\n",
       "    </tr>\n",
       "    <tr>\n",
       "      <th>2021-09-08 10:00:00</th>\n",
       "      <td>93.753887</td>\n",
       "      <td>93.939545</td>\n",
       "      <td>93.051833</td>\n",
       "      <td>-0.023633</td>\n",
       "      <td>-1.0</td>\n",
       "    </tr>\n",
       "  </tbody>\n",
       "</table>\n",
       "</div>"
      ],
      "text/plain": [
       "                          price         ask         bid     ret_0  preds\n",
       "2021-09-08 09:30:00  100.496714  102.348992   99.390379       NaN    1.0\n",
       "2021-09-08 09:35:00  102.060878  102.269742  101.057345  0.015564   -1.0\n",
       "2021-09-08 09:40:00  104.017193  104.188562  103.981367  0.019168   -1.0\n",
       "2021-09-08 09:45:00   99.592940  100.053579   99.293933 -0.042534    1.0\n",
       "2021-09-08 09:50:00   98.039678   98.424760   96.561783 -0.015596    1.0\n",
       "2021-09-08 09:55:00   96.023221   96.862439   95.694470 -0.020568    1.0\n",
       "2021-09-08 10:00:00   93.753887   93.939545   93.051833 -0.023633   -1.0"
      ]
     },
     "metadata": {},
     "output_type": "display_data"
    }
   ],
   "source": [
    "# Sample on 5 minute bars labeling and close on the right\n",
    "\n",
    "#df_5mins = df.resample(\"5T\", closed=\"right\", label=\"right\").mean()\n",
    "df_5mins = df.resample(\"5T\", closed=\"right\", label=\"right\").last()\n",
    "\n",
    "if False:\n",
    "    a = df.iloc[1:6][\"price\"].mean()\n",
    "    b = df_5mins.iloc[1][\"price\"]\n",
    "    #print(a, b)\n",
    "    assert a == b\n",
    "    \n",
    "df_5mins[\"ret_0\"] = df_5mins[\"price\"].pct_change()\n",
    "\n",
    "df_5mins[\"preds\"] = (np.random.random(df_5mins.shape[0]) >= 0.5) * 2.0 - 1.0\n",
    "display(df_5mins)"
   ]
  },
  {
   "cell_type": "code",
   "execution_count": 15,
   "id": "9b3d1573",
   "metadata": {
    "ExecuteTime": {
     "end_time": "2021-09-08T23:03:09.843138Z",
     "start_time": "2021-09-08T23:03:09.644564Z"
    }
   },
   "outputs": [
    {
     "data": {
      "text/plain": [
       "<AxesSubplot:>"
      ]
     },
     "execution_count": 15,
     "metadata": {},
     "output_type": "execute_result"
    },
    {
     "data": {
      "image/png": "[encoded data removed]",
      "text/plain": [
       "<Figure size 432x288 with 1 Axes>"
      ]
     },
     "metadata": {
      "needs_background": "light"
     },
     "output_type": "display_data"
    }
   ],
   "source": [
    "df.plot()"
   ]
  },
  {
   "cell_type": "code",
   "execution_count": 84,
   "id": "483a4396",
   "metadata": {
    "ExecuteTime": {
     "end_time": "2021-09-08T23:45:38.992454Z",
     "start_time": "2021-09-08T23:45:38.945211Z"
    }
   },
   "outputs": [
    {
     "name": "stdout",
     "output_type": "stream",
     "text": [
      "ts=2021-09-08 09:30:00\n",
      "# pred=1.0 price_5=102.06087791467625 price_10=104.0171934241751\n",
      "  w=100.0 num_shares=0.9798073663799055\n",
      "  diff=1.9168123471702359 -> w=101.91681234717024\n",
      "ts=2021-09-08 09:35:00\n",
      "# pred=-1.0 price_5=104.0171934241751 price_10=99.59294033575907\n",
      "  w=101.91681234717024 num_shares=0.9798073663799055\n",
      "  diff=4.334915766759082 -> w=106.25172811392932\n",
      "ts=2021-09-08 09:40:00\n",
      "# pred=-1.0 price_5=99.59294033575907 price_10=98.03967754008498\n",
      "  w=106.25172811392932 num_shares=1.0668600380280107\n",
      "  diff=1.657114005260354 -> w=107.90884211918967\n",
      "ts=2021-09-08 09:45:00\n",
      "# pred=1.0 price_5=98.03967754008498 price_10=96.02322112325758\n",
      "  w=107.90884211918967 num_shares=1.1006650044832056\n",
      "  diff=-2.2194430110675256 -> w=105.68939910812215\n",
      "ts=2021-09-08 09:50:00\n",
      "# pred=1.0 price_5=96.02322112325758 price_10=93.75388651223948\n",
      "  w=105.68939910812215 num_shares=1.1006650044832056\n",
      "  diff=-2.4977771898101366 -> w=103.19162191831201\n",
      "103.19162191831201\n",
      "0.03191621918312009\n",
      "0.03191621918311971\n"
     ]
    },
    {
     "data": {
      "text/html": [
       "<div>\n",
       "<style scoped>\n",
       "    .dataframe tbody tr th:only-of-type {\n",
       "        vertical-align: middle;\n",
       "    }\n",
       "\n",
       "    .dataframe tbody tr th {\n",
       "        vertical-align: top;\n",
       "    }\n",
       "\n",
       "    .dataframe thead th {\n",
       "        text-align: right;\n",
       "    }\n",
       "</style>\n",
       "<table border=\"1\" class=\"dataframe\">\n",
       "  <thead>\n",
       "    <tr style=\"text-align: right;\">\n",
       "      <th></th>\n",
       "      <th>price</th>\n",
       "      <th>ask</th>\n",
       "      <th>bid</th>\n",
       "      <th>ret_0</th>\n",
       "      <th>preds</th>\n",
       "      <th>pnl</th>\n",
       "    </tr>\n",
       "  </thead>\n",
       "  <tbody>\n",
       "    <tr>\n",
       "      <th>2021-09-08 09:30:00</th>\n",
       "      <td>100.496714</td>\n",
       "      <td>102.348992</td>\n",
       "      <td>99.390379</td>\n",
       "      <td>NaN</td>\n",
       "      <td>1.0</td>\n",
       "      <td>0.019168</td>\n",
       "    </tr>\n",
       "    <tr>\n",
       "      <th>2021-09-08 09:35:00</th>\n",
       "      <td>102.060878</td>\n",
       "      <td>102.269742</td>\n",
       "      <td>101.057345</td>\n",
       "      <td>0.015564</td>\n",
       "      <td>-1.0</td>\n",
       "      <td>0.042534</td>\n",
       "    </tr>\n",
       "    <tr>\n",
       "      <th>2021-09-08 09:40:00</th>\n",
       "      <td>104.017193</td>\n",
       "      <td>104.188562</td>\n",
       "      <td>103.981367</td>\n",
       "      <td>0.019168</td>\n",
       "      <td>-1.0</td>\n",
       "      <td>0.015596</td>\n",
       "    </tr>\n",
       "    <tr>\n",
       "      <th>2021-09-08 09:45:00</th>\n",
       "      <td>99.592940</td>\n",
       "      <td>100.053579</td>\n",
       "      <td>99.293933</td>\n",
       "      <td>-0.042534</td>\n",
       "      <td>1.0</td>\n",
       "      <td>-0.020568</td>\n",
       "    </tr>\n",
       "    <tr>\n",
       "      <th>2021-09-08 09:50:00</th>\n",
       "      <td>98.039678</td>\n",
       "      <td>98.424760</td>\n",
       "      <td>96.561783</td>\n",
       "      <td>-0.015596</td>\n",
       "      <td>1.0</td>\n",
       "      <td>-0.023633</td>\n",
       "    </tr>\n",
       "    <tr>\n",
       "      <th>2021-09-08 09:55:00</th>\n",
       "      <td>96.023221</td>\n",
       "      <td>96.862439</td>\n",
       "      <td>95.694470</td>\n",
       "      <td>-0.020568</td>\n",
       "      <td>1.0</td>\n",
       "      <td>NaN</td>\n",
       "    </tr>\n",
       "  </tbody>\n",
       "</table>\n",
       "</div>"
      ],
      "text/plain": [
       "                          price         ask         bid     ret_0  preds       pnl\n",
       "2021-09-08 09:30:00  100.496714  102.348992   99.390379       NaN    1.0  0.019168\n",
       "2021-09-08 09:35:00  102.060878  102.269742  101.057345  0.015564   -1.0  0.042534\n",
       "2021-09-08 09:40:00  104.017193  104.188562  103.981367  0.019168   -1.0  0.015596\n",
       "2021-09-08 09:45:00   99.592940  100.053579   99.293933 -0.042534    1.0 -0.020568\n",
       "2021-09-08 09:50:00   98.039678   98.424760   96.561783 -0.015596    1.0 -0.023633\n",
       "2021-09-08 09:55:00   96.023221   96.862439   95.694470 -0.020568    1.0       NaN"
      ]
     },
     "metadata": {},
     "output_type": "display_data"
    }
   ],
   "source": [
    "# Naive pnl\n",
    "\n",
    "w0 = 100.0\n",
    "w = w0\n",
    "for ts, row in df_5mins[:-2].iterrows():\n",
    "    _LOG.debug(\"ts=%s\", ts)\n",
    "    pred = row[\"preds\"]\n",
    "    price_5 = df.loc[ts + pd.DateOffset(minutes=5)][\"price\"]\n",
    "    price_10 = df.loc[ts + pd.DateOffset(minutes=10)][\"price\"]\n",
    "    _LOG.debug(\"# pred=%s price_5=%s price_10=%s\", pred, price_5, price_10)\n",
    "    # \n",
    "    num_shares = w / price_5\n",
    "    if pred == 1:\n",
    "        # Go long.\n",
    "        buy_pnl = num_shares * price_5\n",
    "        sell_pnl = num_shares * price_10\n",
    "        diff = -buy_pnl + sell_pnl\n",
    "    elif pred == -1:\n",
    "        # Short sell.\n",
    "        sell_pnl = num_shares * price_5\n",
    "        buy_pnl = num_shares * price_10\n",
    "        diff = sell_pnl - buy_pnl\n",
    "    else:\n",
    "        raise ValueError\n",
    "    _LOG.debug(\"  w=%s num_shares=%s\", w, num_shares)\n",
    "    w += diff\n",
    "    _LOG.debug(\"  diff=%s -> w=%s\", diff, w)\n",
    "        \n",
    "print(w)\n",
    "print((w - w0) / w0)\n",
    "\n",
    "# Use lags.\n",
    "df_5mins[\"pnl\"] = df_5mins[\"preds\"] * df_5mins[\"ret_0\"].shift(-2)\n",
    "pnls = df_5mins[\"pnl\"][:-1]\n",
    "\n",
    "print((1 + pnls).prod() - 1)\n",
    "\n",
    "display(df_5mins[:-1])"
   ]
  },
  {
   "cell_type": "code",
   "execution_count": null,
   "id": "70209439",
   "metadata": {},
   "outputs": [],
   "source": []
  },
  {
   "cell_type": "code",
   "execution_count": null,
   "id": "0c73b01d",
   "metadata": {},
   "outputs": [],
   "source": []
  }
 ],
 "metadata": {
  "jupytext": {
   "text_representation": {
    "extension": ".py",
    "format_name": "percent",
    "format_version": "1.3",
    "jupytext_version": "1.11.4"
   }
  },
  "kernelspec": {
   "display_name": "Python 3 (ipykernel)",
   "language": "python",
   "name": "python3"
  },
  "language_info": {
   "codemirror_mode": {
    "name": "ipython",
    "version": 3
   },
   "file_extension": ".py",
   "mimetype": "text/x-python",
   "name": "python",
   "nbconvert_exporter": "python",
   "pygments_lexer": "ipython3",
   "version": "3.8.10"
  },
  "toc": {
   "base_numbering": 1,
   "nav_menu": {},
   "number_sections": true,
   "sideBar": true,
   "skip_h1_title": false,
   "title_cell": "Table of Contents",
   "title_sidebar": "Contents",
   "toc_cell": false,
   "toc_position": {},
   "toc_section_display": true,
   "toc_window_display": false
  }
 },
 "nbformat": 4,
 "nbformat_minor": 5
}
