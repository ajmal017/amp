{
 "cells": [
  {
   "cell_type": "code",
   "execution_count": 1,
   "id": "bc7f29a1",
   "metadata": {
    "ExecuteTime": {
     "end_time": "2021-09-08T23:50:33.941756Z",
     "start_time": "2021-09-08T23:50:32.993886Z"
    }
   },
   "outputs": [
    {
     "name": "stdout",
     "output_type": "stream",
     "text": [
      "\u001b[33mWARNING\u001b[0m: Disabling annoying warnings\n",
      "\u001b[0m\u001b[36mINFO\u001b[0m: > cmd='/venv/lib/python3.8/site-packages/ipykernel_launcher.py -f /root/.local/share/jupyter/runtime/kernel-6728fe92-8743-4b7e-a75e-1e8c61ec2f69.json'\n",
      "\u001b[33mWARNING\u001b[0m: Running in Jupyter\n"
     ]
    }
   ],
   "source": [
    "%load_ext autoreload\n",
    "%autoreload 2\n",
    "\n",
    "import logging\n",
    "\n",
    "import helpers.dbg as dbg\n",
    "import helpers.printing as prnt\n",
    "\n",
    "prnt.config_notebook()\n",
    "\n",
    "#dbg.init_logger(verbosity=logging.DEBUG)\n",
    "dbg.init_logger(verbosity=logging.INFO)\n",
    "# dbg.test_logger()\n",
    "_LOG = logging.getLogger(__name__)"
   ]
  },
  {
   "cell_type": "code",
   "execution_count": 2,
   "id": "fdcc78d2",
   "metadata": {
    "ExecuteTime": {
     "end_time": "2021-09-08T23:50:33.958523Z",
     "start_time": "2021-09-08T23:50:33.943125Z"
    }
   },
   "outputs": [],
   "source": [
    "_LOG.debug = _LOG.info"
   ]
  },
  {
   "cell_type": "markdown",
   "id": "912622ca",
   "metadata": {},
   "source": [
    "# Generate random data"
   ]
  },
  {
   "cell_type": "code",
   "execution_count": 26,
   "id": "e7f2a496",
   "metadata": {
    "ExecuteTime": {
     "end_time": "2021-09-09T00:31:49.624904Z",
     "start_time": "2021-09-09T00:31:49.596242Z"
    }
   },
   "outputs": [
    {
     "data": {
      "text/html": [
       "<div>\n",
       "<style scoped>\n",
       "    .dataframe tbody tr th:only-of-type {\n",
       "        vertical-align: middle;\n",
       "    }\n",
       "\n",
       "    .dataframe tbody tr th {\n",
       "        vertical-align: top;\n",
       "    }\n",
       "\n",
       "    .dataframe thead th {\n",
       "        text-align: right;\n",
       "    }\n",
       "</style>\n",
       "<table border=\"1\" class=\"dataframe\">\n",
       "  <thead>\n",
       "    <tr style=\"text-align: right;\">\n",
       "      <th></th>\n",
       "      <th>price</th>\n",
       "      <th>ask</th>\n",
       "      <th>bid</th>\n",
       "    </tr>\n",
       "  </thead>\n",
       "  <tbody>\n",
       "    <tr>\n",
       "      <th>2021-09-09 09:30:00</th>\n",
       "      <td>100.496714</td>\n",
       "      <td>100.722490</td>\n",
       "      <td>100.381066</td>\n",
       "    </tr>\n",
       "    <tr>\n",
       "      <th>2021-09-09 09:31:00</th>\n",
       "      <td>100.358450</td>\n",
       "      <td>100.425978</td>\n",
       "      <td>100.057346</td>\n",
       "    </tr>\n",
       "    <tr>\n",
       "      <th>2021-09-09 09:32:00</th>\n",
       "      <td>101.006138</td>\n",
       "      <td>102.430887</td>\n",
       "      <td>99.527616</td>\n",
       "    </tr>\n",
       "  </tbody>\n",
       "</table>\n",
       "</div>"
      ],
      "text/plain": [
       "                          price         ask         bid\n",
       "2021-09-09 09:30:00  100.496714  100.722490  100.381066\n",
       "2021-09-09 09:31:00  100.358450  100.425978  100.057346\n",
       "2021-09-09 09:32:00  101.006138  102.430887   99.527616"
      ]
     },
     "metadata": {},
     "output_type": "display_data"
    },
    {
     "data": {
      "text/html": [
       "<div>\n",
       "<style scoped>\n",
       "    .dataframe tbody tr th:only-of-type {\n",
       "        vertical-align: middle;\n",
       "    }\n",
       "\n",
       "    .dataframe tbody tr th {\n",
       "        vertical-align: top;\n",
       "    }\n",
       "\n",
       "    .dataframe thead th {\n",
       "        text-align: right;\n",
       "    }\n",
       "</style>\n",
       "<table border=\"1\" class=\"dataframe\">\n",
       "  <thead>\n",
       "    <tr style=\"text-align: right;\">\n",
       "      <th></th>\n",
       "      <th>price</th>\n",
       "      <th>ask</th>\n",
       "      <th>bid</th>\n",
       "    </tr>\n",
       "  </thead>\n",
       "  <tbody>\n",
       "    <tr>\n",
       "      <th>2021-09-09 09:48:00</th>\n",
       "      <td>97.986332</td>\n",
       "      <td>98.183194</td>\n",
       "      <td>97.507158</td>\n",
       "    </tr>\n",
       "    <tr>\n",
       "      <th>2021-09-09 09:49:00</th>\n",
       "      <td>96.574029</td>\n",
       "      <td>97.312495</td>\n",
       "      <td>96.388370</td>\n",
       "    </tr>\n",
       "    <tr>\n",
       "      <th>2021-09-09 09:50:00</th>\n",
       "      <td>98.039678</td>\n",
       "      <td>98.211046</td>\n",
       "      <td>96.933343</td>\n",
       "    </tr>\n",
       "  </tbody>\n",
       "</table>\n",
       "</div>"
      ],
      "text/plain": [
       "                         price        ask        bid\n",
       "2021-09-09 09:48:00  97.986332  98.183194  97.507158\n",
       "2021-09-09 09:49:00  96.574029  97.312495  96.388370\n",
       "2021-09-09 09:50:00  98.039678  98.211046  96.933343"
      ]
     },
     "metadata": {},
     "output_type": "display_data"
    }
   ],
   "source": [
    "import numpy as np\n",
    "import pandas as pd\n",
    "import core.dataflow_model.pnl as pnl\n",
    "\n",
    "df = pnl.compute_data(21)\n",
    "\n",
    "# np.random.seed(42)\n",
    "\n",
    "# #date_range = pd.date_range(\"09:30\", \"15:00\", freq=\"1T\")\n",
    "# date_range = pd.date_range(\"09:30\", \"10:00\", freq=\"1T\")\n",
    "\n",
    "# diff = np.random.normal(0, 1, size=len(date_range))\n",
    "# diff = diff.cumsum()\n",
    "# price = 100.0 + diff\n",
    "# df = pd.DataFrame(price, index=date_range, columns=[\"price\"])\n",
    "\n",
    "# # ask, bid\n",
    "# df[\"ask\"] = price + np.abs(np.random.normal(0, 1, size=len(date_range)))\n",
    "# df[\"bid\"] = price - np.abs(np.random.normal(0, 1, size=len(date_range)))\n",
    "#display(df)\n",
    "display(df.head(3))\n",
    "display(df.tail(3))"
   ]
  },
  {
   "cell_type": "markdown",
   "id": "24b7cac5",
   "metadata": {},
   "source": [
    "## Case 1: instantaneous, no costs"
   ]
  },
  {
   "cell_type": "code",
   "execution_count": 31,
   "id": "a86263c4",
   "metadata": {
    "ExecuteTime": {
     "end_time": "2021-09-09T00:33:59.758181Z",
     "start_time": "2021-09-09T00:33:59.731251Z"
    }
   },
   "outputs": [
    {
     "data": {
      "text/html": [
       "<div>\n",
       "<style scoped>\n",
       "    .dataframe tbody tr th:only-of-type {\n",
       "        vertical-align: middle;\n",
       "    }\n",
       "\n",
       "    .dataframe tbody tr th {\n",
       "        vertical-align: top;\n",
       "    }\n",
       "\n",
       "    .dataframe thead th {\n",
       "        text-align: right;\n",
       "    }\n",
       "</style>\n",
       "<table border=\"1\" class=\"dataframe\">\n",
       "  <thead>\n",
       "    <tr style=\"text-align: right;\">\n",
       "      <th></th>\n",
       "      <th>price</th>\n",
       "      <th>ask</th>\n",
       "      <th>bid</th>\n",
       "      <th>ret_0</th>\n",
       "      <th>preds</th>\n",
       "    </tr>\n",
       "  </thead>\n",
       "  <tbody>\n",
       "    <tr>\n",
       "      <th>2021-09-09 09:30:00</th>\n",
       "      <td>100.496714</td>\n",
       "      <td>100.722490</td>\n",
       "      <td>100.381066</td>\n",
       "      <td>NaN</td>\n",
       "      <td>-1.0</td>\n",
       "    </tr>\n",
       "    <tr>\n",
       "      <th>2021-09-09 09:35:00</th>\n",
       "      <td>102.060878</td>\n",
       "      <td>103.211871</td>\n",
       "      <td>101.003756</td>\n",
       "      <td>0.015564</td>\n",
       "      <td>1.0</td>\n",
       "    </tr>\n",
       "    <tr>\n",
       "      <th>2021-09-09 09:40:00</th>\n",
       "      <td>104.017193</td>\n",
       "      <td>105.869472</td>\n",
       "      <td>103.340271</td>\n",
       "      <td>0.019168</td>\n",
       "      <td>1.0</td>\n",
       "    </tr>\n",
       "    <tr>\n",
       "      <th>2021-09-09 09:45:00</th>\n",
       "      <td>99.592940</td>\n",
       "      <td>99.801804</td>\n",
       "      <td>99.283728</td>\n",
       "      <td>-0.042534</td>\n",
       "      <td>0.0</td>\n",
       "    </tr>\n",
       "    <tr>\n",
       "      <th>2021-09-09 09:50:00</th>\n",
       "      <td>98.039678</td>\n",
       "      <td>98.211046</td>\n",
       "      <td>96.933343</td>\n",
       "      <td>-0.015596</td>\n",
       "      <td>0.0</td>\n",
       "    </tr>\n",
       "  </tbody>\n",
       "</table>\n",
       "</div>"
      ],
      "text/plain": [
       "                          price         ask         bid     ret_0  preds\n",
       "2021-09-09 09:30:00  100.496714  100.722490  100.381066       NaN   -1.0\n",
       "2021-09-09 09:35:00  102.060878  103.211871  101.003756  0.015564    1.0\n",
       "2021-09-09 09:40:00  104.017193  105.869472  103.340271  0.019168    1.0\n",
       "2021-09-09 09:45:00   99.592940   99.801804   99.283728 -0.042534    0.0\n",
       "2021-09-09 09:50:00   98.039678   98.211046   96.933343 -0.015596    0.0"
      ]
     },
     "metadata": {},
     "output_type": "display_data"
    }
   ],
   "source": [
    "# Sample on 5 minute bars labeling and close on the right\n",
    "\n",
    "# df_5mins = df.resample(\"5T\", closed=\"right\", label=\"right\").last()\n",
    "    \n",
    "# df_5mins[\"ret_0\"] = df_5mins[\"price\"].pct_change()\n",
    "\n",
    "# np.random.seed(42)\n",
    "# df_5mins[\"preds\"] = (np.random.random(df_5mins.shape[0]) >= 0.5) * 2.0 - 1.0\n",
    "\n",
    "mode = \"instantaneous\"\n",
    "df_5mins = pnl.resample_data(df, mode)\n",
    "display(df_5mins)"
   ]
  },
  {
   "cell_type": "code",
   "execution_count": 19,
   "id": "9b3d1573",
   "metadata": {
    "ExecuteTime": {
     "end_time": "2021-09-09T00:24:22.893827Z",
     "start_time": "2021-09-09T00:24:22.678653Z"
    }
   },
   "outputs": [
    {
     "data": {
      "text/plain": [
       "<AxesSubplot:>"
      ]
     },
     "execution_count": 19,
     "metadata": {},
     "output_type": "execute_result"
    },
    {
     "data": {
      "image/png": "[encoded data removed]",
      "text/plain": [
       "<Figure size 1440x360 with 1 Axes>"
      ]
     },
     "metadata": {},
     "output_type": "display_data"
    }
   ],
   "source": [
    "df.plot()"
   ]
  },
  {
   "cell_type": "code",
   "execution_count": 35,
   "id": "9cfaedf4",
   "metadata": {
    "ExecuteTime": {
     "end_time": "2021-09-09T00:35:07.217657Z",
     "start_time": "2021-09-09T00:35:07.190523Z"
    }
   },
   "outputs": [
    {
     "name": "stdout",
     "output_type": "stream",
     "text": [
      "ts=2021-09-09 09:30:00\n",
      "# pred=-1.0 price_5=102.06087791467625 price_10=104.0171934241751\n",
      "  w=100.0 num_shares=0.9798073663799055\n",
      "  diff=-1.9168123471702359 -> w=98.08318765282976\n",
      "ts=2021-09-09 09:35:00\n",
      "# pred=1.0 price_5=104.0171934241751 price_10=99.59294033575907\n",
      "  w=98.08318765282976 num_shares=0.9429516835053714\n",
      "  diff=-4.1718568979757435 -> w=93.91133075485402\n",
      "ts=2021-09-09 09:40:00\n",
      "# pred=1.0 price_5=99.59294033575907 price_10=98.03967754008498\n",
      "  w=93.91133075485402 num_shares=0.9429516835053714\n",
      "  diff=-1.4646517681071458 -> w=92.44667898674687\n",
      "92.44667898674687 -0.07553321013253125\n"
     ]
    }
   ],
   "source": [
    "w0 = 100.0\n",
    "final_w, tot_ret = pnl.compute_pnl_for_instantaneous_no_cost_case(w0, df, df_5mins)\n",
    "\n",
    "print(final_w, tot_ret)"
   ]
  },
  {
   "cell_type": "code",
   "execution_count": 43,
   "id": "483a4396",
   "metadata": {
    "ExecuteTime": {
     "end_time": "2021-09-09T00:36:11.101575Z",
     "start_time": "2021-09-09T00:36:11.077135Z"
    }
   },
   "outputs": [
    {
     "name": "stdout",
     "output_type": "stream",
     "text": [
      "tot_ret= -0.07553321013253125\n",
      "tot_ret2= -0.07552321013253112\n"
     ]
    },
    {
     "ename": "AssertionError",
     "evalue": "\nArrays are not almost equal to 7 decimals\n ACTUAL: -0.07553321013253125\n DESIRED: -0.07552321013253112",
     "output_type": "error",
     "traceback": [
      "\u001b[0;31m---------------------------------------------------------------------------\u001b[0m",
      "\u001b[0;31mAssertionError\u001b[0m                            Traceback (most recent call last)",
      "\u001b[0;32m/tmp/ipykernel_110/3309650437.py\u001b[0m in \u001b[0;36m<module>\u001b[0;34m\u001b[0m\n\u001b[1;32m      8\u001b[0m \u001b[0mprint\u001b[0m\u001b[0;34m(\u001b[0m\u001b[0;34m\"tot_ret2=\"\u001b[0m\u001b[0;34m,\u001b[0m \u001b[0mtot_ret2\u001b[0m\u001b[0;34m)\u001b[0m\u001b[0;34m\u001b[0m\u001b[0;34m\u001b[0m\u001b[0m\n\u001b[1;32m      9\u001b[0m \u001b[0;34m\u001b[0m\u001b[0m\n\u001b[0;32m---> 10\u001b[0;31m \u001b[0mnp\u001b[0m\u001b[0;34m.\u001b[0m\u001b[0mtesting\u001b[0m\u001b[0;34m.\u001b[0m\u001b[0massert_almost_equal\u001b[0m\u001b[0;34m(\u001b[0m\u001b[0mtot_ret\u001b[0m\u001b[0;34m,\u001b[0m \u001b[0mtot_ret2\u001b[0m\u001b[0;34m)\u001b[0m\u001b[0;34m\u001b[0m\u001b[0;34m\u001b[0m\u001b[0m\n\u001b[0m\u001b[1;32m     11\u001b[0m \u001b[0mdisplay\u001b[0m\u001b[0;34m(\u001b[0m\u001b[0mdf_5mins\u001b[0m\u001b[0;34m[\u001b[0m\u001b[0;34m:\u001b[0m\u001b[0;34m-\u001b[0m\u001b[0;36m1\u001b[0m\u001b[0;34m]\u001b[0m\u001b[0;34m)\u001b[0m\u001b[0;34m\u001b[0m\u001b[0;34m\u001b[0m\u001b[0m\n",
      "\u001b[0;32m/venv/lib/python3.8/site-packages/numpy/testing/_private/utils.py\u001b[0m in \u001b[0;36massert_almost_equal\u001b[0;34m(actual, desired, decimal, err_msg, verbose)\u001b[0m\n\u001b[1;32m    597\u001b[0m         \u001b[0;32mpass\u001b[0m\u001b[0;34m\u001b[0m\u001b[0;34m\u001b[0m\u001b[0m\n\u001b[1;32m    598\u001b[0m     \u001b[0;32mif\u001b[0m \u001b[0mabs\u001b[0m\u001b[0;34m(\u001b[0m\u001b[0mdesired\u001b[0m \u001b[0;34m-\u001b[0m \u001b[0mactual\u001b[0m\u001b[0;34m)\u001b[0m \u001b[0;34m>=\u001b[0m \u001b[0;36m1.5\u001b[0m \u001b[0;34m*\u001b[0m \u001b[0;36m10.0\u001b[0m\u001b[0;34m**\u001b[0m\u001b[0;34m(\u001b[0m\u001b[0;34m-\u001b[0m\u001b[0mdecimal\u001b[0m\u001b[0;34m)\u001b[0m\u001b[0;34m:\u001b[0m\u001b[0;34m\u001b[0m\u001b[0;34m\u001b[0m\u001b[0m\n\u001b[0;32m--> 599\u001b[0;31m         \u001b[0;32mraise\u001b[0m \u001b[0mAssertionError\u001b[0m\u001b[0;34m(\u001b[0m\u001b[0m_build_err_msg\u001b[0m\u001b[0;34m(\u001b[0m\u001b[0;34m)\u001b[0m\u001b[0;34m)\u001b[0m\u001b[0;34m\u001b[0m\u001b[0;34m\u001b[0m\u001b[0m\n\u001b[0m\u001b[1;32m    600\u001b[0m \u001b[0;34m\u001b[0m\u001b[0m\n\u001b[1;32m    601\u001b[0m \u001b[0;34m\u001b[0m\u001b[0m\n",
      "\u001b[0;31mAssertionError\u001b[0m: \nArrays are not almost equal to 7 decimals\n ACTUAL: -0.07553321013253125\n DESIRED: -0.07552321013253112"
     ]
    }
   ],
   "source": [
    "# Use lags.\n",
    "df_5mins[\"pnl\"] = df_5mins[\"preds\"] * df_5mins[\"ret_0\"].shift(-2)\n",
    "pnls = df_5mins[\"pnl\"]\n",
    "\n",
    "tot_ret2 = (1 + pnls).prod() - 1\n",
    "\n",
    "print(\"tot_ret=\", tot_ret)\n",
    "print(\"tot_ret2=\", tot_ret2)\n",
    "\n",
    "np.testing.assert_almost_equal(tot_ret, tot_ret2)\n",
    "display(df_5mins[:-1])"
   ]
  },
  {
   "cell_type": "code",
   "execution_count": 10,
   "id": "1f566029",
   "metadata": {
    "ExecuteTime": {
     "end_time": "2021-09-09T00:09:41.256623Z",
     "start_time": "2021-09-09T00:09:41.208133Z"
    }
   },
   "outputs": [
    {
     "name": "stdout",
     "output_type": "stream",
     "text": [
      "ts=2021-09-08 09:30:00\n",
      "(Timestamp('2021-09-08 09:35:00', freq='5T'), 'sell')\n",
      "(Timestamp('2021-09-08 09:40:00', freq='5T'), 'buy')\n",
      "ts=2021-09-08 09:35:00\n",
      "(Timestamp('2021-09-08 09:40:00', freq='5T'), 'buy')\n",
      "(Timestamp('2021-09-08 09:45:00', freq='5T'), 'sell')\n",
      "ts=2021-09-08 09:40:00\n",
      "(Timestamp('2021-09-08 09:45:00', freq='5T'), 'buy')\n",
      "(Timestamp('2021-09-08 09:50:00', freq='5T'), 'sell')\n",
      "ts=2021-09-08 09:45:00\n",
      "(Timestamp('2021-09-08 09:50:00', freq='5T'), 'buy')\n",
      "(Timestamp('2021-09-08 09:55:00', freq='5T'), 'sell')\n",
      "ts=2021-09-08 09:50:00\n",
      "(Timestamp('2021-09-08 09:55:00', freq='5T'), 'sell')\n",
      "(Timestamp('2021-09-08 10:00:00', freq='5T'), 'buy')\n",
      "# ts=2021-09-08 09:35:00 action=sell\n",
      "  price=102.06087791467625\n",
      "  before: cash=100.0 holdings=0.0 wealth=100.0\n",
      "  after: cash=200.0 holdings=-0.9798073663799055 wealth=100.0\n",
      "# ts=2021-09-08 09:40:00 action=buy\n",
      "  price=104.0171934241751\n",
      "  before: cash=200.0 holdings=-0.9798073663799055 wealth=98.08318765282976\n",
      "  after: cash=101.91681234717024 holdings=-0.03685568287453411 wealth=98.08318765282976\n",
      "# ts=2021-09-08 09:40:00 action=buy\n",
      "  price=104.0171934241751\n",
      "  before: cash=101.91681234717024 holdings=-0.03685568287453411 wealth=98.08318765282976\n",
      "  after: cash=3.8336246943404717 holdings=0.9060960006308373 wealth=98.08318765282976\n",
      "# ts=2021-09-08 09:45:00 action=sell\n",
      "  price=99.59294033575907\n",
      "  before: cash=3.8336246943404717 holdings=0.9060960006308373 wealth=94.07438962363736\n",
      "  after: cash=97.90801431797783 holdings=-0.038492936160094415 wealth=94.07438962363736\n",
      "# ts=2021-09-08 09:45:00 action=buy\n",
      "  price=99.59294033575907\n",
      "  before: cash=97.90801431797783 holdings=-0.038492936160094415 wealth=94.07438962363736\n",
      "  after: cash=3.8336246943404717 holdings=0.9060960006308373 wealth=94.07438962363736\n",
      "# ts=2021-09-08 09:50:00 action=sell\n",
      "  price=98.03967754008498\n",
      "  before: cash=3.8336246943404717 holdings=0.9060960006308373 wealth=92.6669844165484\n",
      "  after: cash=96.50060911088887 holdings=-0.03910278767260367 wealth=92.6669844165484\n",
      "# ts=2021-09-08 09:50:00 action=buy\n",
      "  price=98.03967754008498\n",
      "  before: cash=96.50060911088887 holdings=-0.03910278767260367 wealth=92.6669844165484\n",
      "  after: cash=3.8336246943404717 holdings=0.9060960006308373 wealth=92.6669844165484\n",
      "# ts=2021-09-08 09:55:00 action=sell\n",
      "  price=96.02322112325758\n",
      "  before: cash=3.8336246943404717 holdings=0.9060960006308373 wealth=90.8398813218147\n",
      "  after: cash=94.67350601615517 holdings=-0.0399239334974979 wealth=90.8398813218147\n",
      "# ts=2021-09-08 09:55:00 action=sell\n",
      "  price=96.02322112325758\n",
      "  before: cash=94.67350601615517 holdings=-0.0399239334974979 wealth=90.8398813218147\n",
      "  after: cash=185.51338733796987 holdings=-0.9859438676258331 wealth=90.8398813218147\n",
      "# ts=2021-09-08 10:00:00 action=buy\n",
      "  price=93.75388651223948\n",
      "  before: cash=185.51338733796987 holdings=-0.9859438676258331 wealth=93.07731786513907\n",
      "  after: cash=92.43606947283081 holdings=0.006839699303820668 wealth=93.07731786513907\n",
      "-0.0692268213486095\n"
     ]
    }
   ],
   "source": [
    "# Show that the previous approach (which trades two times per interval) is equivalent to trading once with the\n",
    "# sum of the position.\n",
    "\n",
    "orders = []\n",
    "\n",
    "for ts, row in df_5mins[:-2].iterrows():\n",
    "    _LOG.debug(\"ts=%s\", ts)\n",
    "    pred = row[\"preds\"]\n",
    "    if pred == 1:\n",
    "        # Go long.\n",
    "        action_5 = \"buy\"\n",
    "        action_10 = \"sell\"\n",
    "    elif pred == -1:\n",
    "        # Short sell.\n",
    "        action_5 = \"sell\"\n",
    "        action_10 = \"buy\"\n",
    "    else:\n",
    "        raise ValueError\n",
    "    order = (ts + pd.DateOffset(minutes=5), action_5)\n",
    "    print(order)\n",
    "    orders.append(order)\n",
    "    order = (ts + pd.DateOffset(minutes=10), action_10)\n",
    "    print(order)\n",
    "    orders.append(order)\n",
    "    \n",
    "w0 = 100.0\n",
    "\n",
    "def compute_pnl_from_orders(orders):\n",
    "    # Assume the orders are in chronological order.\n",
    "    holdings = 0.0\n",
    "    cash = w0\n",
    "    for order in orders:\n",
    "        ts, action = order\n",
    "        _LOG.debug(\"# ts=%s action=%s\", ts, action)\n",
    "        price = df.loc[ts][\"price\"]\n",
    "        _LOG.debug(\"  price=%s\", price)\n",
    "        # \n",
    "        wealth = holdings * price + cash\n",
    "        _LOG.debug(\"  before: cash=%s holdings=%s wealth=%s\", cash, holdings, wealth)\n",
    "        # Assume that we invest always all the wealth.\n",
    "        num_shares = wealth / price\n",
    "        if action == \"buy\":\n",
    "            cash -= num_shares * price\n",
    "            holdings += num_shares\n",
    "        elif action == \"sell\":\n",
    "            cash += num_shares * price\n",
    "            holdings -= num_shares\n",
    "        else:\n",
    "            raise ValueError\n",
    "        _LOG.debug(\"  after: cash=%s holdings=%s wealth=%s\", cash, holdings, wealth)\n",
    "    # We don't necessary liquidate the portfolio.\n",
    "    return holdings * price + cash\n",
    "\n",
    "\n",
    "w = compute_pnl_from_orders(orders)\n",
    "print((w - w0) / w0)\n"
   ]
  },
  {
   "cell_type": "code",
   "execution_count": null,
   "id": "70209439",
   "metadata": {},
   "outputs": [],
   "source": [
    "## Case 2: interval trading, no costs"
   ]
  },
  {
   "cell_type": "code",
   "execution_count": 7,
   "id": "0c73b01d",
   "metadata": {
    "ExecuteTime": {
     "end_time": "2021-09-08T23:51:37.133099Z",
     "start_time": "2021-09-08T23:51:37.104713Z"
    }
   },
   "outputs": [
    {
     "data": {
      "text/html": [
       "<div>\n",
       "<style scoped>\n",
       "    .dataframe tbody tr th:only-of-type {\n",
       "        vertical-align: middle;\n",
       "    }\n",
       "\n",
       "    .dataframe tbody tr th {\n",
       "        vertical-align: top;\n",
       "    }\n",
       "\n",
       "    .dataframe thead th {\n",
       "        text-align: right;\n",
       "    }\n",
       "</style>\n",
       "<table border=\"1\" class=\"dataframe\">\n",
       "  <thead>\n",
       "    <tr style=\"text-align: right;\">\n",
       "      <th></th>\n",
       "      <th>price</th>\n",
       "      <th>ask</th>\n",
       "      <th>bid</th>\n",
       "      <th>ret_0</th>\n",
       "      <th>preds</th>\n",
       "    </tr>\n",
       "  </thead>\n",
       "  <tbody>\n",
       "    <tr>\n",
       "      <th>2021-09-08 09:30:00</th>\n",
       "      <td>100.496714</td>\n",
       "      <td>102.348992</td>\n",
       "      <td>99.390379</td>\n",
       "      <td>NaN</td>\n",
       "      <td>-1.0</td>\n",
       "    </tr>\n",
       "    <tr>\n",
       "      <th>2021-09-08 09:35:00</th>\n",
       "      <td>101.649930</td>\n",
       "      <td>102.314622</td>\n",
       "      <td>100.761827</td>\n",
       "      <td>0.011475</td>\n",
       "      <td>1.0</td>\n",
       "    </tr>\n",
       "    <tr>\n",
       "      <th>2021-09-08 09:40:00</th>\n",
       "      <td>104.096694</td>\n",
       "      <td>104.975605</td>\n",
       "      <td>103.508292</td>\n",
       "      <td>0.024070</td>\n",
       "      <td>1.0</td>\n",
       "    </tr>\n",
       "    <tr>\n",
       "      <th>2021-09-08 09:45:00</th>\n",
       "      <td>101.794641</td>\n",
       "      <td>102.409792</td>\n",
       "      <td>100.716172</td>\n",
       "      <td>-0.022115</td>\n",
       "      <td>1.0</td>\n",
       "    </tr>\n",
       "    <tr>\n",
       "      <th>2021-09-08 09:50:00</th>\n",
       "      <td>98.014901</td>\n",
       "      <td>98.789490</td>\n",
       "      <td>97.188099</td>\n",
       "      <td>-0.037131</td>\n",
       "      <td>-1.0</td>\n",
       "    </tr>\n",
       "    <tr>\n",
       "      <th>2021-09-08 09:55:00</th>\n",
       "      <td>96.817506</td>\n",
       "      <td>97.635525</td>\n",
       "      <td>96.202972</td>\n",
       "      <td>-0.012216</td>\n",
       "      <td>-1.0</td>\n",
       "    </tr>\n",
       "    <tr>\n",
       "      <th>2021-09-08 10:00:00</th>\n",
       "      <td>94.575384</td>\n",
       "      <td>95.031555</td>\n",
       "      <td>94.013223</td>\n",
       "      <td>-0.023158</td>\n",
       "      <td>-1.0</td>\n",
       "    </tr>\n",
       "  </tbody>\n",
       "</table>\n",
       "</div>"
      ],
      "text/plain": [
       "                          price         ask         bid     ret_0  preds\n",
       "2021-09-08 09:30:00  100.496714  102.348992   99.390379       NaN   -1.0\n",
       "2021-09-08 09:35:00  101.649930  102.314622  100.761827  0.011475    1.0\n",
       "2021-09-08 09:40:00  104.096694  104.975605  103.508292  0.024070    1.0\n",
       "2021-09-08 09:45:00  101.794641  102.409792  100.716172 -0.022115    1.0\n",
       "2021-09-08 09:50:00   98.014901   98.789490   97.188099 -0.037131   -1.0\n",
       "2021-09-08 09:55:00   96.817506   97.635525   96.202972 -0.012216   -1.0\n",
       "2021-09-08 10:00:00   94.575384   95.031555   94.013223 -0.023158   -1.0"
      ]
     },
     "metadata": {},
     "output_type": "display_data"
    }
   ],
   "source": [
    "df_5mins = df.resample(\"5T\", closed=\"right\", label=\"right\").mean()\n",
    "\n",
    "if True:\n",
    "    a = df.iloc[1:6][\"price\"].mean()\n",
    "    b = df_5mins.iloc[1][\"price\"]\n",
    "    #print(a, b)\n",
    "    assert a == b\n",
    "    \n",
    "df_5mins[\"ret_0\"] = df_5mins[\"price\"].pct_change()\n",
    "\n",
    "np.random.seed(42)\n",
    "df_5mins[\"preds\"] = (np.random.random(df_5mins.shape[0]) >= 0.5) * 2.0 - 1.0\n",
    "display(df_5mins)"
   ]
  }
 ],
 "metadata": {
  "jupytext": {
   "text_representation": {
    "extension": ".py",
    "format_name": "percent",
    "format_version": "1.3",
    "jupytext_version": "1.11.4"
   }
  },
  "kernelspec": {
   "display_name": "Python 3 (ipykernel)",
   "language": "python",
   "name": "python3"
  },
  "language_info": {
   "codemirror_mode": {
    "name": "ipython",
    "version": 3
   },
   "file_extension": ".py",
   "mimetype": "text/x-python",
   "name": "python",
   "nbconvert_exporter": "python",
   "pygments_lexer": "ipython3",
   "version": "3.8.10"
  },
  "toc": {
   "base_numbering": 1,
   "nav_menu": {},
   "number_sections": true,
   "sideBar": true,
   "skip_h1_title": false,
   "title_cell": "Table of Contents",
   "title_sidebar": "Contents",
   "toc_cell": false,
   "toc_position": {},
   "toc_section_display": true,
   "toc_window_display": false
  }
 },
 "nbformat": 4,
 "nbformat_minor": 5
}
