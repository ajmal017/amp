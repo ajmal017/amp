{
 "cells": [
  {
   "cell_type": "markdown",
   "id": "126c8435",
   "metadata": {},
   "source": [
    "# Imports"
   ]
  },
  {
   "cell_type": "code",
   "execution_count": null,
   "id": "abf41299",
   "metadata": {
    "ExecuteTime": {
     "end_time": "2021-10-12T14:44:46.227285Z",
     "start_time": "2021-10-12T14:44:46.135495Z"
    }
   },
   "outputs": [],
   "source": [
    "%load_ext autoreload\n",
    "%autoreload 2\n",
    "\n",
    "import logging\n",
    "\n",
    "import core.config as cconfig\n",
    "import core.dataflow_model.incremental_single_name_model_evaluator as ime\n",
    "import core.dataflow_model.model_evaluator as modeval\n",
    "import core.dataflow_model.model_plotter as modplot\n",
    "import core.dataflow_model.stats_computer as csc\n",
    "import core.dataflow_model.utils as cdmu\n",
    "import core.plotting as cplot\n",
    "import core.statistics as cstati\n",
    "import helpers.dbg as dbg\n",
    "import helpers.printing as hprint"
   ]
  },
  {
   "cell_type": "code",
   "execution_count": null,
   "id": "eee79ad8",
   "metadata": {
    "ExecuteTime": {
     "end_time": "2021-10-12T14:44:46.851398Z",
     "start_time": "2021-10-12T14:44:46.727042Z"
    }
   },
   "outputs": [],
   "source": [
    "dbg.init_logger(verbosity=logging.INFO)\n",
    "# dbg.init_logger(verbosity=logging.DEBUG)\n",
    "\n",
    "_LOG = logging.getLogger(__name__)\n",
    "\n",
    "# _LOG.info(\"%s\", env.get_system_signature()[0])\n",
    "\n",
    "hprint.config_notebook()"
   ]
  },
  {
   "cell_type": "markdown",
   "id": "c0c17e86",
   "metadata": {},
   "source": [
    "# Load features"
   ]
  },
  {
   "cell_type": "code",
   "execution_count": null,
   "id": "c0f0e20b",
   "metadata": {},
   "outputs": [],
   "source": [
    "feat_iter = cdmu.yield_experiment_artifacts(\n",
    "    src_dir=\"\",\n",
    "    file_name=\"result_bundle.v2_0.pkl\",\n",
    "    load_rb_kwargs={},\n",
    ")"
   ]
  },
  {
   "cell_type": "code",
   "execution_count": null,
   "id": "0afb697d",
   "metadata": {},
   "outputs": [],
   "source": [
    "key, artifact = next(feat_iter)\n",
    "display(\"key=%s\", key)\n",
    "features = artifact.result_df"
   ]
  },
  {
   "cell_type": "code",
   "execution_count": null,
   "id": "f1cc8c6e",
   "metadata": {},
   "outputs": [],
   "source": [
    "features.head()"
   ]
  },
  {
   "cell_type": "markdown",
   "id": "fd72cfa9",
   "metadata": {
    "ExecuteTime": {
     "end_time": "2021-10-12T14:51:45.786990Z",
     "start_time": "2021-10-12T14:51:45.712122Z"
    }
   },
   "source": [
    "# Cross-sectional feature analysis"
   ]
  },
  {
   "cell_type": "code",
   "execution_count": null,
   "id": "5a409a5b",
   "metadata": {},
   "outputs": [],
   "source": [
    "cplot.plot_heatmap(\n",
    "    features.corr(),\n",
    "    mode=\"clustermap\",\n",
    "    figsize=(20, 20)\n",
    ")"
   ]
  },
  {
   "cell_type": "code",
   "execution_count": null,
   "id": "960f6df1",
   "metadata": {},
   "outputs": [],
   "source": [
    "cplot.plot_effective_correlation_rank(features)"
   ]
  },
  {
   "cell_type": "code",
   "execution_count": null,
   "id": "f899a6af",
   "metadata": {
    "ExecuteTime": {
     "end_time": "2021-10-12T15:03:36.367925Z",
     "start_time": "2021-10-12T15:03:36.282001Z"
    }
   },
   "outputs": [],
   "source": [
    "cplot.plot_projection(features.resample(\"B\").sum(min_count=1))"
   ]
  },
  {
   "cell_type": "code",
   "execution_count": null,
   "id": "ddd7451a",
   "metadata": {
    "ExecuteTime": {
     "end_time": "2021-10-12T15:03:36.729487Z",
     "start_time": "2021-10-12T15:03:36.653869Z"
    }
   },
   "outputs": [],
   "source": [
    "sc = csc.StatsComputer()"
   ]
  },
  {
   "cell_type": "code",
   "execution_count": null,
   "id": "e8341209",
   "metadata": {},
   "outputs": [],
   "source": [
    "features.apply(sc.compute_summary_stats).round(3)"
   ]
  },
  {
   "cell_type": "markdown",
   "id": "b3042160",
   "metadata": {},
   "source": [
    "# Single feature analysis"
   ]
  },
  {
   "cell_type": "code",
   "execution_count": null,
   "id": "905667de",
   "metadata": {
    "ExecuteTime": {
     "end_time": "2021-10-12T14:44:55.834710Z",
     "start_time": "2021-10-12T14:44:55.769062Z"
    }
   },
   "outputs": [],
   "source": [
    "feature = \"\""
   ]
  },
  {
   "cell_type": "code",
   "execution_count": null,
   "id": "d1dcd918",
   "metadata": {},
   "outputs": [],
   "source": [
    "cplot.plot_qq(features[feature])"
   ]
  },
  {
   "cell_type": "code",
   "execution_count": null,
   "id": "82f3a0d6",
   "metadata": {},
   "outputs": [],
   "source": [
    "cplot.plot_histograms_and_lagged_scatterplot(\n",
    "    features[feature],\n",
    "    lag=1,\n",
    "    figsize=(20, 20)\n",
    ")"
   ]
  },
  {
   "cell_type": "code",
   "execution_count": null,
   "id": "630b9b80",
   "metadata": {},
   "outputs": [],
   "source": [
    "cplot.plot_time_series_by_period(\n",
    "    features[feature],\n",
    "    \"hour\",\n",
    ")"
   ]
  }
 ],
 "metadata": {
  "jupytext": {
   "text_representation": {
    "extension": ".py",
    "format_name": "percent",
    "format_version": "1.3",
    "jupytext_version": "1.11.4"
   }
  },
  "kernelspec": {
   "display_name": "Python 3 (ipykernel)",
   "language": "python",
   "name": "python3"
  },
  "language_info": {
   "codemirror_mode": {
    "name": "ipython",
    "version": 3
   },
   "file_extension": ".py",
   "mimetype": "text/x-python",
   "name": "python",
   "nbconvert_exporter": "python",
   "pygments_lexer": "ipython3",
   "version": "3.8.10"
  },
  "toc": {
   "base_numbering": 1,
   "nav_menu": {},
   "number_sections": true,
   "sideBar": true,
   "skip_h1_title": false,
   "title_cell": "Table of Contents",
   "title_sidebar": "Contents",
   "toc_cell": false,
   "toc_position": {},
   "toc_section_display": true,
   "toc_window_display": false
  }
 },
 "nbformat": 4,
 "nbformat_minor": 5
}
