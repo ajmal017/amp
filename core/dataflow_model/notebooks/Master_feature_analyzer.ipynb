{
 "cells": [
  {
   "cell_type": "markdown",
   "id": "126c8435",
   "metadata": {},
   "source": [
    "# Imports"
   ]
  },
  {
   "cell_type": "code",
   "execution_count": 1,
   "id": "abf41299",
   "metadata": {
    "ExecuteTime": {
     "end_time": "2021-10-15T20:13:33.085860Z",
     "start_time": "2021-10-15T20:13:25.205994Z"
    }
   },
   "outputs": [
    {
     "name": "stderr",
     "output_type": "stream",
     "text": [
      "/app/amp/core/dataflow_model/utils.py:31: TqdmExperimentalWarning: Using `tqdm.autonotebook.tqdm` in notebook mode. Use `tqdm.tqdm` instead to force console mode (e.g. in jupyter console)\n",
      "  from tqdm.autonotebook import tqdm\n"
     ]
    }
   ],
   "source": [
    "%load_ext autoreload\n",
    "%autoreload 2\n",
    "\n",
    "import logging\n",
    "\n",
    "import core.config as cconfig\n",
    "import core.dataflow_model.incremental_single_name_model_evaluator as ime\n",
    "import core.dataflow_model.model_evaluator as modeval\n",
    "import core.dataflow_model.model_plotter as modplot\n",
    "import core.dataflow_model.stats_computer as csc\n",
    "import core.dataflow_model.utils as cdmu\n",
    "import core.plotting as cplot\n",
    "import core.statistics as cstati\n",
    "import helpers.dbg as dbg\n",
    "import helpers.printing as hprint"
   ]
  },
  {
   "cell_type": "code",
   "execution_count": 2,
   "id": "eee79ad8",
   "metadata": {
    "ExecuteTime": {
     "end_time": "2021-10-15T20:13:33.185465Z",
     "start_time": "2021-10-15T20:13:33.089968Z"
    }
   },
   "outputs": [
    {
     "name": "stdout",
     "output_type": "stream",
     "text": [
      "\u001b[0m\u001b[36mINFO\u001b[0m: > cmd='/venv/lib/python3.8/site-packages/ipykernel_launcher.py -f /root/.local/share/jupyter/runtime/kernel-b23fe88d-4a21-4d78-a1fa-38635532c9d1.json'\n",
      "\u001b[33mWARNING\u001b[0m: Running in Jupyter\n",
      "\u001b[33mWARNING\u001b[0m: Disabling annoying warnings\n"
     ]
    }
   ],
   "source": [
    "dbg.init_logger(verbosity=logging.INFO)\n",
    "# dbg.init_logger(verbosity=logging.DEBUG)\n",
    "\n",
    "_LOG = logging.getLogger(__name__)\n",
    "\n",
    "# _LOG.info(\"%s\", env.get_system_signature()[0])\n",
    "\n",
    "hprint.config_notebook()"
   ]
  },
  {
   "cell_type": "markdown",
   "id": "c0c17e86",
   "metadata": {},
   "source": [
    "# Load features"
   ]
  },
  {
   "cell_type": "code",
   "execution_count": null,
   "id": "c0f0e20b",
   "metadata": {},
   "outputs": [],
   "source": [
    "feat_iter = cdmu.yield_experiment_artifacts(\n",
    "    src_dir=\"\",\n",
    "    file_name=\"result_bundle.v2_0.pkl\",\n",
    "    load_rb_kwargs={},\n",
    ")"
   ]
  },
  {
   "cell_type": "code",
   "execution_count": null,
   "id": "1724d798",
   "metadata": {},
   "outputs": [],
   "source": [
    "key, artifact = next(feat_iter)\n",
    "display(\"key=%s\", key)\n",
    "features = artifact.result_df"
   ]
  },
  {
   "cell_type": "code",
   "execution_count": null,
   "id": "6111f39c",
   "metadata": {},
   "outputs": [],
   "source": [
    "features.head()"
   ]
  },
  {
   "cell_type": "markdown",
   "id": "21fe46b1",
   "metadata": {
    "ExecuteTime": {
     "end_time": "2021-10-12T14:51:45.786990Z",
     "start_time": "2021-10-12T14:51:45.712122Z"
    }
   },
   "source": [
    "# Cross-sectional feature analysis"
   ]
  },
  {
   "cell_type": "code",
   "execution_count": null,
   "id": "32f09c9a",
   "metadata": {},
   "outputs": [],
   "source": [
    "cplot.plot_heatmap(\n",
    "    features.corr(),\n",
    "    mode=\"clustermap\",\n",
    "    figsize=(20, 20)\n",
    ")"
   ]
  },
  {
   "cell_type": "code",
   "execution_count": null,
   "id": "ef8c6c29",
   "metadata": {},
   "outputs": [],
   "source": [
    "cplot.plot_effective_correlation_rank(features)"
   ]
  },
  {
   "cell_type": "code",
   "execution_count": null,
   "id": "29362b8b",
   "metadata": {
    "ExecuteTime": {
     "end_time": "2021-10-12T15:03:36.367925Z",
     "start_time": "2021-10-12T15:03:36.282001Z"
    }
   },
   "outputs": [],
   "source": [
    "cplot.plot_projection(features.resample(\"B\").sum(min_count=1))"
   ]
  },
  {
   "cell_type": "code",
   "execution_count": null,
   "id": "6fcd7c6a",
   "metadata": {
    "ExecuteTime": {
     "end_time": "2021-10-12T15:03:36.729487Z",
     "start_time": "2021-10-12T15:03:36.653869Z"
    }
   },
   "outputs": [],
   "source": [
    "sc = csc.StatsComputer()"
   ]
  },
  {
   "cell_type": "code",
   "execution_count": null,
   "id": "c90a3a85",
   "metadata": {},
   "outputs": [],
   "source": [
    "features.apply(sc.compute_summary_stats).round(3)"
   ]
  },
  {
   "cell_type": "markdown",
   "id": "935c6604",
   "metadata": {},
   "source": [
    "# Single feature analysis"
   ]
  },
  {
   "cell_type": "code",
   "execution_count": null,
   "id": "fc70ed1c",
   "metadata": {
    "ExecuteTime": {
     "end_time": "2021-10-12T14:44:55.834710Z",
     "start_time": "2021-10-12T14:44:55.769062Z"
    }
   },
   "outputs": [],
   "source": [
    "feature = \"\""
   ]
  },
  {
   "cell_type": "code",
   "execution_count": null,
   "id": "e89d1de7",
   "metadata": {},
   "outputs": [],
   "source": [
    "cplot.plot_qq(features[feature])"
   ]
  },
  {
   "cell_type": "code",
   "execution_count": null,
   "id": "7e51b114",
   "metadata": {},
   "outputs": [],
   "source": [
    "cplot.plot_histograms_and_lagged_scatterplot(\n",
    "    features[feature],\n",
    "    lag=1,\n",
    "    figsize=(20, 20)\n",
    ")"
   ]
  },
  {
   "cell_type": "code",
   "execution_count": null,
   "id": "8ec7fca2",
   "metadata": {},
   "outputs": [],
   "source": [
    "cplot.plot_time_series_by_period(\n",
    "    features[feature],\n",
    "    \"hour\",\n",
    ")"
   ]
  },
  {
   "cell_type": "code",
   "execution_count": 5,
   "id": "c0b729f7",
   "metadata": {
    "ExecuteTime": {
     "end_time": "2021-10-15T20:13:37.139659Z",
     "start_time": "2021-10-15T20:13:37.062254Z"
    }
   },
   "outputs": [],
   "source": [
    "import numpy as np\n",
    "import pandas as pd\n",
    "\n",
    "import core.features as cfeat"
   ]
  },
  {
   "cell_type": "code",
   "execution_count": null,
   "id": "fde02ad1",
   "metadata": {},
   "outputs": [],
   "source": []
  },
  {
   "cell_type": "code",
   "execution_count": null,
   "id": "32bfa615",
   "metadata": {},
   "outputs": [],
   "source": []
  },
  {
   "cell_type": "code",
   "execution_count": 6,
   "id": "bad95b54",
   "metadata": {
    "ExecuteTime": {
     "end_time": "2021-10-15T20:13:38.090877Z",
     "start_time": "2021-10-15T20:13:38.035556Z"
    }
   },
   "outputs": [],
   "source": [
    "m = [[1, 0.9, 0, -1], [-1, -1, 0, 0], [0, 0.1, 1, 0], [0, 0, -1, 1]]"
   ]
  },
  {
   "cell_type": "code",
   "execution_count": 44,
   "id": "8327c5b5",
   "metadata": {
    "ExecuteTime": {
     "end_time": "2021-10-15T20:20:13.084579Z",
     "start_time": "2021-10-15T20:20:12.990785Z"
    }
   },
   "outputs": [],
   "source": [
    "mdf = pd.DataFrame(m, columns=[\"f1\", \"f2\", \"f3\", \"f4\"])"
   ]
  },
  {
   "cell_type": "code",
   "execution_count": 51,
   "id": "ebb5b053",
   "metadata": {
    "ExecuteTime": {
     "end_time": "2021-10-15T20:20:46.751533Z",
     "start_time": "2021-10-15T20:20:46.677586Z"
    }
   },
   "outputs": [
    {
     "data": {
      "text/plain": [
       "f1    1.0\n",
       "f2    1.0\n",
       "f3    1.0\n",
       "f4    1.0\n",
       "dtype: float64"
      ]
     },
     "execution_count": 51,
     "metadata": {},
     "output_type": "execute_result"
    }
   ],
   "source": [
    "mdf.std()"
   ]
  },
  {
   "cell_type": "code",
   "execution_count": 72,
   "id": "5f21b2da",
   "metadata": {
    "ExecuteTime": {
     "end_time": "2021-10-15T20:39:15.083923Z",
     "start_time": "2021-10-15T20:39:15.003259Z"
    }
   },
   "outputs": [],
   "source": [
    "mdf = mdf / np.sqrt((mdf ** 2).sum())"
   ]
  },
  {
   "cell_type": "code",
   "execution_count": 90,
   "id": "865f03e3",
   "metadata": {
    "ExecuteTime": {
     "end_time": "2021-10-15T20:42:04.349968Z",
     "start_time": "2021-10-15T20:42:04.190343Z"
    }
   },
   "outputs": [
    {
     "data": {
      "text/plain": [
       "f1    0.57735\n",
       "f2    0.57735\n",
       "f3    0.57735\n",
       "f4    0.57735\n",
       "dtype: float64"
      ]
     },
     "execution_count": 90,
     "metadata": {},
     "output_type": "execute_result"
    }
   ],
   "source": [
    "mdf.std()"
   ]
  },
  {
   "cell_type": "code",
   "execution_count": 88,
   "id": "a983dac0",
   "metadata": {
    "ExecuteTime": {
     "end_time": "2021-10-15T20:41:34.558622Z",
     "start_time": "2021-10-15T20:41:34.480743Z"
    }
   },
   "outputs": [
    {
     "data": {
      "text/plain": [
       "0.5773502691896258"
      ]
     },
     "execution_count": 88,
     "metadata": {},
     "output_type": "execute_result"
    }
   ],
   "source": [
    "mdf[\"f1\"].std()"
   ]
  },
  {
   "cell_type": "code",
   "execution_count": 75,
   "id": "775f77cb",
   "metadata": {
    "ExecuteTime": {
     "end_time": "2021-10-15T20:39:32.328834Z",
     "start_time": "2021-10-15T20:39:32.266448Z"
    }
   },
   "outputs": [
    {
     "data": {
      "text/html": [
       "<div>\n",
       "<style scoped>\n",
       "    .dataframe tbody tr th:only-of-type {\n",
       "        vertical-align: middle;\n",
       "    }\n",
       "\n",
       "    .dataframe tbody tr th {\n",
       "        vertical-align: top;\n",
       "    }\n",
       "\n",
       "    .dataframe thead th {\n",
       "        text-align: right;\n",
       "    }\n",
       "</style>\n",
       "<table border=\"1\" class=\"dataframe\">\n",
       "  <thead>\n",
       "    <tr style=\"text-align: right;\">\n",
       "      <th></th>\n",
       "      <th>f1</th>\n",
       "      <th>f2</th>\n",
       "      <th>f3</th>\n",
       "      <th>f4</th>\n",
       "    </tr>\n",
       "  </thead>\n",
       "  <tbody>\n",
       "    <tr>\n",
       "      <th>0</th>\n",
       "      <td>-0.47</td>\n",
       "      <td>-0.47</td>\n",
       "      <td>-0.15</td>\n",
       "      <td>0.38</td>\n",
       "    </tr>\n",
       "    <tr>\n",
       "      <th>1</th>\n",
       "      <td>0.18</td>\n",
       "      <td>0.16</td>\n",
       "      <td>-0.45</td>\n",
       "      <td>0.24</td>\n",
       "    </tr>\n",
       "    <tr>\n",
       "      <th>2</th>\n",
       "      <td>-0.04</td>\n",
       "      <td>-0.09</td>\n",
       "      <td>-0.17</td>\n",
       "      <td>-0.23</td>\n",
       "    </tr>\n",
       "    <tr>\n",
       "      <th>3</th>\n",
       "      <td>0.00</td>\n",
       "      <td>-0.00</td>\n",
       "      <td>0.00</td>\n",
       "      <td>0.00</td>\n",
       "    </tr>\n",
       "  </tbody>\n",
       "</table>\n",
       "</div>"
      ],
      "text/plain": [
       "     f1    f2    f3    f4\n",
       "0 -0.47 -0.47 -0.15  0.38\n",
       "1  0.18  0.16 -0.45  0.24\n",
       "2 -0.04 -0.09 -0.17 -0.23\n",
       "3  0.00 -0.00  0.00  0.00"
      ]
     },
     "execution_count": 75,
     "metadata": {},
     "output_type": "execute_result"
    }
   ],
   "source": [
    "cfeat.compute_correlations(mdf).round(2)"
   ]
  },
  {
   "cell_type": "code",
   "execution_count": 76,
   "id": "f657918d",
   "metadata": {
    "ExecuteTime": {
     "end_time": "2021-10-15T20:39:35.233703Z",
     "start_time": "2021-10-15T20:39:35.137469Z"
    }
   },
   "outputs": [
    {
     "data": {
      "text/html": [
       "<div>\n",
       "<style scoped>\n",
       "    .dataframe tbody tr th:only-of-type {\n",
       "        vertical-align: middle;\n",
       "    }\n",
       "\n",
       "    .dataframe tbody tr th {\n",
       "        vertical-align: top;\n",
       "    }\n",
       "\n",
       "    .dataframe thead th {\n",
       "        text-align: right;\n",
       "    }\n",
       "</style>\n",
       "<table border=\"1\" class=\"dataframe\">\n",
       "  <thead>\n",
       "    <tr style=\"text-align: right;\">\n",
       "      <th></th>\n",
       "      <th>canonical_corr</th>\n",
       "      <th>principal_angles</th>\n",
       "    </tr>\n",
       "  </thead>\n",
       "  <tbody>\n",
       "    <tr>\n",
       "      <th>0</th>\n",
       "      <td>0.932189</td>\n",
       "      <td>0.370382</td>\n",
       "    </tr>\n",
       "  </tbody>\n",
       "</table>\n",
       "</div>"
      ],
      "text/plain": [
       "   canonical_corr  principal_angles\n",
       "0        0.932189          0.370382"
      ]
     },
     "execution_count": 76,
     "metadata": {},
     "output_type": "execute_result"
    }
   ],
   "source": [
    "cfeat.compute_grassmann_distance(mdf, 1, [\"f1\", \"f2\"])"
   ]
  },
  {
   "cell_type": "code",
   "execution_count": 40,
   "id": "b7240917",
   "metadata": {
    "ExecuteTime": {
     "end_time": "2021-10-15T20:18:21.353641Z",
     "start_time": "2021-10-15T20:18:21.300305Z"
    }
   },
   "outputs": [
    {
     "data": {
      "text/html": [
       "<div>\n",
       "<style scoped>\n",
       "    .dataframe tbody tr th:only-of-type {\n",
       "        vertical-align: middle;\n",
       "    }\n",
       "\n",
       "    .dataframe tbody tr th {\n",
       "        vertical-align: top;\n",
       "    }\n",
       "\n",
       "    .dataframe thead th {\n",
       "        text-align: right;\n",
       "    }\n",
       "</style>\n",
       "<table border=\"1\" class=\"dataframe\">\n",
       "  <thead>\n",
       "    <tr style=\"text-align: right;\">\n",
       "      <th></th>\n",
       "      <th>canonical_corr</th>\n",
       "      <th>principal_angles</th>\n",
       "    </tr>\n",
       "  </thead>\n",
       "  <tbody>\n",
       "    <tr>\n",
       "      <th>0</th>\n",
       "      <td>0.93235</td>\n",
       "      <td>0.369937</td>\n",
       "    </tr>\n",
       "  </tbody>\n",
       "</table>\n",
       "</div>"
      ],
      "text/plain": [
       "   canonical_corr  principal_angles\n",
       "0         0.93235          0.369937"
      ]
     },
     "execution_count": 40,
     "metadata": {},
     "output_type": "execute_result"
    }
   ],
   "source": [
    "cfeat.compute_grassmann_distance(mdf, 1, [\"f1\"])"
   ]
  },
  {
   "cell_type": "code",
   "execution_count": 37,
   "id": "dcba9e07",
   "metadata": {
    "ExecuteTime": {
     "end_time": "2021-10-15T20:17:56.341294Z",
     "start_time": "2021-10-15T20:17:56.221234Z"
    }
   },
   "outputs": [
    {
     "data": {
      "text/html": [
       "<div>\n",
       "<style scoped>\n",
       "    .dataframe tbody tr th:only-of-type {\n",
       "        vertical-align: middle;\n",
       "    }\n",
       "\n",
       "    .dataframe tbody tr th {\n",
       "        vertical-align: top;\n",
       "    }\n",
       "\n",
       "    .dataframe thead th {\n",
       "        text-align: right;\n",
       "    }\n",
       "</style>\n",
       "<table border=\"1\" class=\"dataframe\">\n",
       "  <thead>\n",
       "    <tr style=\"text-align: right;\">\n",
       "      <th></th>\n",
       "      <th>canonical_corr</th>\n",
       "      <th>principal_angles</th>\n",
       "    </tr>\n",
       "  </thead>\n",
       "  <tbody>\n",
       "    <tr>\n",
       "      <th>0</th>\n",
       "      <td>0.939</td>\n",
       "      <td>0.35</td>\n",
       "    </tr>\n",
       "  </tbody>\n",
       "</table>\n",
       "</div>"
      ],
      "text/plain": [
       "   canonical_corr  principal_angles\n",
       "0           0.939              0.35"
      ]
     },
     "execution_count": 37,
     "metadata": {},
     "output_type": "execute_result"
    }
   ],
   "source": [
    "cfeat.compute_grassmann_distance(mdf, 1, [\"f1\", \"f2\", \"f3\"]).round(3)"
   ]
  },
  {
   "cell_type": "code",
   "execution_count": 36,
   "id": "9d377934",
   "metadata": {
    "ExecuteTime": {
     "end_time": "2021-10-15T20:17:46.013223Z",
     "start_time": "2021-10-15T20:17:45.928223Z"
    }
   },
   "outputs": [
    {
     "data": {
      "text/plain": [
       "2.2204460492503243e-17"
      ]
     },
     "execution_count": 36,
     "metadata": {},
     "output_type": "execute_result"
    }
   ],
   "source": [
    "np.linalg.det(m)"
   ]
  },
  {
   "cell_type": "code",
   "execution_count": 83,
   "id": "84e09ae8",
   "metadata": {
    "ExecuteTime": {
     "end_time": "2021-10-15T20:40:51.855512Z",
     "start_time": "2021-10-15T20:40:51.794748Z"
    }
   },
   "outputs": [],
   "source": [
    "df = mdf"
   ]
  },
  {
   "cell_type": "code",
   "execution_count": 91,
   "id": "af6dae47",
   "metadata": {
    "ExecuteTime": {
     "end_time": "2021-10-15T21:44:09.984107Z",
     "start_time": "2021-10-15T21:44:09.779214Z"
    }
   },
   "outputs": [],
   "source": [
    "import core.artificial_signal_generators as casg"
   ]
  },
  {
   "cell_type": "code",
   "execution_count": 93,
   "id": "7483c2fb",
   "metadata": {
    "ExecuteTime": {
     "end_time": "2021-10-15T21:44:27.228102Z",
     "start_time": "2021-10-15T21:44:27.131312Z"
    }
   },
   "outputs": [],
   "source": [
    "mvn = casg.MultivariateNormalProcess()"
   ]
  },
  {
   "cell_type": "code",
   "execution_count": 299,
   "id": "61b28bad",
   "metadata": {
    "ExecuteTime": {
     "end_time": "2021-10-16T01:51:37.206934Z",
     "start_time": "2021-10-16T01:51:37.151901Z"
    }
   },
   "outputs": [],
   "source": [
    "mvn.set_cov_from_inv_wishart_draw(dim=10, seed=343)"
   ]
  },
  {
   "cell_type": "code",
   "execution_count": 300,
   "id": "b890781d",
   "metadata": {
    "ExecuteTime": {
     "end_time": "2021-10-16T01:51:37.928970Z",
     "start_time": "2021-10-16T01:51:37.868026Z"
    }
   },
   "outputs": [],
   "source": [
    "df = mvn.generate_sample(\n",
    "    date_range_kwargs={\n",
    "        \"start\": \"2001-01-01\",\n",
    "        \"freq\": \"T\",\n",
    "        \"periods\": 1000\n",
    "    },\n",
    "    seed=708\n",
    ")"
   ]
  },
  {
   "cell_type": "code",
   "execution_count": 301,
   "id": "dea60404",
   "metadata": {
    "ExecuteTime": {
     "end_time": "2021-10-16T01:51:38.473320Z",
     "start_time": "2021-10-16T01:51:38.401018Z"
    }
   },
   "outputs": [
    {
     "data": {
      "text/html": [
       "<div>\n",
       "<style scoped>\n",
       "    .dataframe tbody tr th:only-of-type {\n",
       "        vertical-align: middle;\n",
       "    }\n",
       "\n",
       "    .dataframe tbody tr th {\n",
       "        vertical-align: top;\n",
       "    }\n",
       "\n",
       "    .dataframe thead th {\n",
       "        text-align: right;\n",
       "    }\n",
       "</style>\n",
       "<table border=\"1\" class=\"dataframe\">\n",
       "  <thead>\n",
       "    <tr style=\"text-align: right;\">\n",
       "      <th></th>\n",
       "      <th>0</th>\n",
       "      <th>1</th>\n",
       "      <th>2</th>\n",
       "      <th>3</th>\n",
       "      <th>4</th>\n",
       "      <th>5</th>\n",
       "      <th>6</th>\n",
       "      <th>7</th>\n",
       "      <th>8</th>\n",
       "      <th>9</th>\n",
       "    </tr>\n",
       "  </thead>\n",
       "  <tbody>\n",
       "    <tr>\n",
       "      <th>2001-01-01 00:00:00</th>\n",
       "      <td>0.552930</td>\n",
       "      <td>-0.140395</td>\n",
       "      <td>-0.768406</td>\n",
       "      <td>0.360943</td>\n",
       "      <td>0.950846</td>\n",
       "      <td>-0.075900</td>\n",
       "      <td>0.485190</td>\n",
       "      <td>0.630530</td>\n",
       "      <td>-0.784785</td>\n",
       "      <td>-0.759954</td>\n",
       "    </tr>\n",
       "    <tr>\n",
       "      <th>2001-01-01 00:01:00</th>\n",
       "      <td>0.023405</td>\n",
       "      <td>-1.558245</td>\n",
       "      <td>-0.768031</td>\n",
       "      <td>0.016659</td>\n",
       "      <td>0.995762</td>\n",
       "      <td>0.640415</td>\n",
       "      <td>-0.386277</td>\n",
       "      <td>1.335741</td>\n",
       "      <td>-0.529976</td>\n",
       "      <td>-0.629310</td>\n",
       "    </tr>\n",
       "    <tr>\n",
       "      <th>2001-01-01 00:02:00</th>\n",
       "      <td>1.706860</td>\n",
       "      <td>1.050048</td>\n",
       "      <td>-1.347053</td>\n",
       "      <td>-1.441680</td>\n",
       "      <td>1.947816</td>\n",
       "      <td>0.524358</td>\n",
       "      <td>0.985524</td>\n",
       "      <td>-0.029700</td>\n",
       "      <td>-2.168863</td>\n",
       "      <td>-0.786847</td>\n",
       "    </tr>\n",
       "    <tr>\n",
       "      <th>2001-01-01 00:03:00</th>\n",
       "      <td>-0.381375</td>\n",
       "      <td>1.975823</td>\n",
       "      <td>1.920344</td>\n",
       "      <td>0.213451</td>\n",
       "      <td>-1.880553</td>\n",
       "      <td>-1.745073</td>\n",
       "      <td>0.001220</td>\n",
       "      <td>-2.172288</td>\n",
       "      <td>2.017248</td>\n",
       "      <td>1.041802</td>\n",
       "    </tr>\n",
       "    <tr>\n",
       "      <th>2001-01-01 00:04:00</th>\n",
       "      <td>-1.131588</td>\n",
       "      <td>0.409661</td>\n",
       "      <td>2.806410</td>\n",
       "      <td>0.673805</td>\n",
       "      <td>-1.353540</td>\n",
       "      <td>-0.793037</td>\n",
       "      <td>-1.205346</td>\n",
       "      <td>-1.215541</td>\n",
       "      <td>2.173553</td>\n",
       "      <td>0.944784</td>\n",
       "    </tr>\n",
       "    <tr>\n",
       "      <th>...</th>\n",
       "      <td>...</td>\n",
       "      <td>...</td>\n",
       "      <td>...</td>\n",
       "      <td>...</td>\n",
       "      <td>...</td>\n",
       "      <td>...</td>\n",
       "      <td>...</td>\n",
       "      <td>...</td>\n",
       "      <td>...</td>\n",
       "      <td>...</td>\n",
       "    </tr>\n",
       "    <tr>\n",
       "      <th>2001-01-01 16:35:00</th>\n",
       "      <td>0.778579</td>\n",
       "      <td>-1.146051</td>\n",
       "      <td>-0.052942</td>\n",
       "      <td>-0.960761</td>\n",
       "      <td>0.676834</td>\n",
       "      <td>0.367474</td>\n",
       "      <td>-0.711066</td>\n",
       "      <td>0.340247</td>\n",
       "      <td>-1.236358</td>\n",
       "      <td>0.252681</td>\n",
       "    </tr>\n",
       "    <tr>\n",
       "      <th>2001-01-01 16:36:00</th>\n",
       "      <td>0.776088</td>\n",
       "      <td>0.609753</td>\n",
       "      <td>-0.453852</td>\n",
       "      <td>-0.426921</td>\n",
       "      <td>1.938214</td>\n",
       "      <td>-0.156608</td>\n",
       "      <td>-0.519685</td>\n",
       "      <td>-0.157601</td>\n",
       "      <td>-0.484977</td>\n",
       "      <td>-0.164357</td>\n",
       "    </tr>\n",
       "    <tr>\n",
       "      <th>2001-01-01 16:37:00</th>\n",
       "      <td>-1.553455</td>\n",
       "      <td>-0.438012</td>\n",
       "      <td>-0.282492</td>\n",
       "      <td>0.930771</td>\n",
       "      <td>1.042358</td>\n",
       "      <td>0.391731</td>\n",
       "      <td>-0.512716</td>\n",
       "      <td>0.421203</td>\n",
       "      <td>0.202743</td>\n",
       "      <td>0.365885</td>\n",
       "    </tr>\n",
       "    <tr>\n",
       "      <th>2001-01-01 16:38:00</th>\n",
       "      <td>0.812710</td>\n",
       "      <td>0.411560</td>\n",
       "      <td>-1.131870</td>\n",
       "      <td>-0.987553</td>\n",
       "      <td>2.347015</td>\n",
       "      <td>0.933768</td>\n",
       "      <td>0.561770</td>\n",
       "      <td>0.234460</td>\n",
       "      <td>-2.116175</td>\n",
       "      <td>-0.512936</td>\n",
       "    </tr>\n",
       "    <tr>\n",
       "      <th>2001-01-01 16:39:00</th>\n",
       "      <td>2.832950</td>\n",
       "      <td>0.205500</td>\n",
       "      <td>1.158642</td>\n",
       "      <td>-2.049905</td>\n",
       "      <td>2.251455</td>\n",
       "      <td>-0.283633</td>\n",
       "      <td>-1.043169</td>\n",
       "      <td>-0.292228</td>\n",
       "      <td>-2.494377</td>\n",
       "      <td>0.279725</td>\n",
       "    </tr>\n",
       "  </tbody>\n",
       "</table>\n",
       "<p>1000 rows × 10 columns</p>\n",
       "</div>"
      ],
      "text/plain": [
       "                            0         1         2         3         4         5         6         7         8         9\n",
       "2001-01-01 00:00:00  0.552930 -0.140395 -0.768406  0.360943  0.950846 -0.075900  0.485190  0.630530 -0.784785 -0.759954\n",
       "2001-01-01 00:01:00  0.023405 -1.558245 -0.768031  0.016659  0.995762  0.640415 -0.386277  1.335741 -0.529976 -0.629310\n",
       "2001-01-01 00:02:00  1.706860  1.050048 -1.347053 -1.441680  1.947816  0.524358  0.985524 -0.029700 -2.168863 -0.786847\n",
       "2001-01-01 00:03:00 -0.381375  1.975823  1.920344  0.213451 -1.880553 -1.745073  0.001220 -2.172288  2.017248  1.041802\n",
       "2001-01-01 00:04:00 -1.131588  0.409661  2.806410  0.673805 -1.353540 -0.793037 -1.205346 -1.215541  2.173553  0.944784\n",
       "...                       ...       ...       ...       ...       ...       ...       ...       ...       ...       ...\n",
       "2001-01-01 16:35:00  0.778579 -1.146051 -0.052942 -0.960761  0.676834  0.367474 -0.711066  0.340247 -1.236358  0.252681\n",
       "2001-01-01 16:36:00  0.776088  0.609753 -0.453852 -0.426921  1.938214 -0.156608 -0.519685 -0.157601 -0.484977 -0.164357\n",
       "2001-01-01 16:37:00 -1.553455 -0.438012 -0.282492  0.930771  1.042358  0.391731 -0.512716  0.421203  0.202743  0.365885\n",
       "2001-01-01 16:38:00  0.812710  0.411560 -1.131870 -0.987553  2.347015  0.933768  0.561770  0.234460 -2.116175 -0.512936\n",
       "2001-01-01 16:39:00  2.832950  0.205500  1.158642 -2.049905  2.251455 -0.283633 -1.043169 -0.292228 -2.494377  0.279725\n",
       "\n",
       "[1000 rows x 10 columns]"
      ]
     },
     "execution_count": 301,
     "metadata": {},
     "output_type": "execute_result"
    }
   ],
   "source": [
    "df"
   ]
  },
  {
   "cell_type": "code",
   "execution_count": 586,
   "id": "1f9a029b",
   "metadata": {
    "ExecuteTime": {
     "end_time": "2021-10-19T00:52:01.475070Z",
     "start_time": "2021-10-19T00:52:01.328281Z"
    }
   },
   "outputs": [
    {
     "data": {
      "text/html": [
       "<div>\n",
       "<style scoped>\n",
       "    .dataframe tbody tr th:only-of-type {\n",
       "        vertical-align: middle;\n",
       "    }\n",
       "\n",
       "    .dataframe tbody tr th {\n",
       "        vertical-align: top;\n",
       "    }\n",
       "\n",
       "    .dataframe thead th {\n",
       "        text-align: right;\n",
       "    }\n",
       "</style>\n",
       "<table border=\"1\" class=\"dataframe\">\n",
       "  <thead>\n",
       "    <tr style=\"text-align: right;\">\n",
       "      <th></th>\n",
       "      <th>0</th>\n",
       "      <th>1</th>\n",
       "      <th>2</th>\n",
       "      <th>3</th>\n",
       "      <th>4</th>\n",
       "      <th>5</th>\n",
       "      <th>6</th>\n",
       "      <th>7</th>\n",
       "      <th>8</th>\n",
       "      <th>9</th>\n",
       "    </tr>\n",
       "    <tr>\n",
       "      <th>proj_dim</th>\n",
       "      <th></th>\n",
       "      <th></th>\n",
       "      <th></th>\n",
       "      <th></th>\n",
       "      <th></th>\n",
       "      <th></th>\n",
       "      <th></th>\n",
       "      <th></th>\n",
       "      <th></th>\n",
       "      <th></th>\n",
       "    </tr>\n",
       "  </thead>\n",
       "  <tbody>\n",
       "    <tr>\n",
       "      <th>1</th>\n",
       "      <td>0.102</td>\n",
       "      <td>0.030</td>\n",
       "      <td>0.106</td>\n",
       "      <td>0.108</td>\n",
       "      <td>0.132</td>\n",
       "      <td>0.115</td>\n",
       "      <td>0.025</td>\n",
       "      <td>0.119</td>\n",
       "      <td>0.139</td>\n",
       "      <td>0.125</td>\n",
       "    </tr>\n",
       "    <tr>\n",
       "      <th>2</th>\n",
       "      <td>0.146</td>\n",
       "      <td>0.169</td>\n",
       "      <td>0.101</td>\n",
       "      <td>0.130</td>\n",
       "      <td>0.081</td>\n",
       "      <td>0.083</td>\n",
       "      <td>0.050</td>\n",
       "      <td>0.096</td>\n",
       "      <td>0.080</td>\n",
       "      <td>0.065</td>\n",
       "    </tr>\n",
       "    <tr>\n",
       "      <th>3</th>\n",
       "      <td>0.099</td>\n",
       "      <td>0.210</td>\n",
       "      <td>0.077</td>\n",
       "      <td>0.089</td>\n",
       "      <td>0.056</td>\n",
       "      <td>0.056</td>\n",
       "      <td>0.244</td>\n",
       "      <td>0.067</td>\n",
       "      <td>0.054</td>\n",
       "      <td>0.047</td>\n",
       "    </tr>\n",
       "    <tr>\n",
       "      <th>4</th>\n",
       "      <td>0.087</td>\n",
       "      <td>0.168</td>\n",
       "      <td>0.105</td>\n",
       "      <td>0.067</td>\n",
       "      <td>0.053</td>\n",
       "      <td>0.144</td>\n",
       "      <td>0.184</td>\n",
       "      <td>0.054</td>\n",
       "      <td>0.048</td>\n",
       "      <td>0.089</td>\n",
       "    </tr>\n",
       "    <tr>\n",
       "      <th>5</th>\n",
       "      <td>0.071</td>\n",
       "      <td>0.135</td>\n",
       "      <td>0.143</td>\n",
       "      <td>0.091</td>\n",
       "      <td>0.048</td>\n",
       "      <td>0.116</td>\n",
       "      <td>0.148</td>\n",
       "      <td>0.049</td>\n",
       "      <td>0.046</td>\n",
       "      <td>0.153</td>\n",
       "    </tr>\n",
       "    <tr>\n",
       "      <th>6</th>\n",
       "      <td>0.059</td>\n",
       "      <td>0.120</td>\n",
       "      <td>0.119</td>\n",
       "      <td>0.082</td>\n",
       "      <td>0.049</td>\n",
       "      <td>0.138</td>\n",
       "      <td>0.124</td>\n",
       "      <td>0.129</td>\n",
       "      <td>0.041</td>\n",
       "      <td>0.140</td>\n",
       "    </tr>\n",
       "    <tr>\n",
       "      <th>7</th>\n",
       "      <td>0.066</td>\n",
       "      <td>0.134</td>\n",
       "      <td>0.137</td>\n",
       "      <td>0.079</td>\n",
       "      <td>0.048</td>\n",
       "      <td>0.126</td>\n",
       "      <td>0.138</td>\n",
       "      <td>0.111</td>\n",
       "      <td>0.036</td>\n",
       "      <td>0.126</td>\n",
       "    </tr>\n",
       "    <tr>\n",
       "      <th>8</th>\n",
       "      <td>0.059</td>\n",
       "      <td>0.124</td>\n",
       "      <td>0.120</td>\n",
       "      <td>0.070</td>\n",
       "      <td>0.123</td>\n",
       "      <td>0.117</td>\n",
       "      <td>0.125</td>\n",
       "      <td>0.117</td>\n",
       "      <td>0.033</td>\n",
       "      <td>0.113</td>\n",
       "    </tr>\n",
       "    <tr>\n",
       "      <th>9</th>\n",
       "      <td>0.096</td>\n",
       "      <td>0.110</td>\n",
       "      <td>0.109</td>\n",
       "      <td>0.109</td>\n",
       "      <td>0.110</td>\n",
       "      <td>0.106</td>\n",
       "      <td>0.111</td>\n",
       "      <td>0.107</td>\n",
       "      <td>0.035</td>\n",
       "      <td>0.107</td>\n",
       "    </tr>\n",
       "    <tr>\n",
       "      <th>10</th>\n",
       "      <td>0.100</td>\n",
       "      <td>0.100</td>\n",
       "      <td>0.100</td>\n",
       "      <td>0.100</td>\n",
       "      <td>0.100</td>\n",
       "      <td>0.100</td>\n",
       "      <td>0.100</td>\n",
       "      <td>0.100</td>\n",
       "      <td>0.100</td>\n",
       "      <td>0.100</td>\n",
       "    </tr>\n",
       "  </tbody>\n",
       "</table>\n",
       "</div>"
      ],
      "text/plain": [
       "              0      1      2      3      4      5      6      7      8      9\n",
       "proj_dim                                                                      \n",
       "1         0.102  0.030  0.106  0.108  0.132  0.115  0.025  0.119  0.139  0.125\n",
       "2         0.146  0.169  0.101  0.130  0.081  0.083  0.050  0.096  0.080  0.065\n",
       "3         0.099  0.210  0.077  0.089  0.056  0.056  0.244  0.067  0.054  0.047\n",
       "4         0.087  0.168  0.105  0.067  0.053  0.144  0.184  0.054  0.048  0.089\n",
       "5         0.071  0.135  0.143  0.091  0.048  0.116  0.148  0.049  0.046  0.153\n",
       "6         0.059  0.120  0.119  0.082  0.049  0.138  0.124  0.129  0.041  0.140\n",
       "7         0.066  0.134  0.137  0.079  0.048  0.126  0.138  0.111  0.036  0.126\n",
       "8         0.059  0.124  0.120  0.070  0.123  0.117  0.125  0.117  0.033  0.113\n",
       "9         0.096  0.110  0.109  0.109  0.110  0.106  0.111  0.107  0.035  0.107\n",
       "10        0.100  0.100  0.100  0.100  0.100  0.100  0.100  0.100  0.100  0.100"
      ]
     },
     "execution_count": 586,
     "metadata": {},
     "output_type": "execute_result"
    }
   ],
   "source": [
    "cfeat.compute_normalized_statistical_leverage_scores(df, demean_cols=True, normalize_cols=True).round(3)"
   ]
  },
  {
   "cell_type": "code",
   "execution_count": 589,
   "id": "9cec226b",
   "metadata": {
    "ExecuteTime": {
     "end_time": "2021-10-19T00:52:24.682617Z",
     "start_time": "2021-10-19T00:52:24.539847Z"
    }
   },
   "outputs": [
    {
     "data": {
      "text/html": [
       "<div>\n",
       "<style scoped>\n",
       "    .dataframe tbody tr th:only-of-type {\n",
       "        vertical-align: middle;\n",
       "    }\n",
       "\n",
       "    .dataframe tbody tr th {\n",
       "        vertical-align: top;\n",
       "    }\n",
       "\n",
       "    .dataframe thead th {\n",
       "        text-align: right;\n",
       "    }\n",
       "</style>\n",
       "<table border=\"1\" class=\"dataframe\">\n",
       "  <thead>\n",
       "    <tr style=\"text-align: right;\">\n",
       "      <th></th>\n",
       "      <th>0</th>\n",
       "      <th>1</th>\n",
       "      <th>2</th>\n",
       "      <th>3</th>\n",
       "      <th>4</th>\n",
       "      <th>5</th>\n",
       "      <th>6</th>\n",
       "      <th>7</th>\n",
       "      <th>8</th>\n",
       "      <th>9</th>\n",
       "    </tr>\n",
       "    <tr>\n",
       "      <th>principal_direction</th>\n",
       "      <th></th>\n",
       "      <th></th>\n",
       "      <th></th>\n",
       "      <th></th>\n",
       "      <th></th>\n",
       "      <th></th>\n",
       "      <th></th>\n",
       "      <th></th>\n",
       "      <th></th>\n",
       "      <th></th>\n",
       "    </tr>\n",
       "  </thead>\n",
       "  <tbody>\n",
       "    <tr>\n",
       "      <th>1</th>\n",
       "      <td>-0.828</td>\n",
       "      <td>0.446</td>\n",
       "      <td>0.841</td>\n",
       "      <td>0.851</td>\n",
       "      <td>-0.939</td>\n",
       "      <td>-0.878</td>\n",
       "      <td>-0.408</td>\n",
       "      <td>-0.895</td>\n",
       "      <td>0.967</td>\n",
       "      <td>0.917</td>\n",
       "    </tr>\n",
       "    <tr>\n",
       "      <th>2</th>\n",
       "      <td>-0.514</td>\n",
       "      <td>-0.661</td>\n",
       "      <td>-0.366</td>\n",
       "      <td>0.462</td>\n",
       "      <td>-0.205</td>\n",
       "      <td>0.266</td>\n",
       "      <td>0.320</td>\n",
       "      <td>0.319</td>\n",
       "      <td>0.175</td>\n",
       "      <td>0.077</td>\n",
       "    </tr>\n",
       "    <tr>\n",
       "      <th>3</th>\n",
       "      <td>0.088</td>\n",
       "      <td>-0.568</td>\n",
       "      <td>0.183</td>\n",
       "      <td>-0.080</td>\n",
       "      <td>0.091</td>\n",
       "      <td>0.057</td>\n",
       "      <td>-0.841</td>\n",
       "      <td>0.107</td>\n",
       "      <td>0.026</td>\n",
       "      <td>0.112</td>\n",
       "    </tr>\n",
       "    <tr>\n",
       "      <th>4</th>\n",
       "      <td>-0.121</td>\n",
       "      <td>0.108</td>\n",
       "      <td>0.231</td>\n",
       "      <td>-0.015</td>\n",
       "      <td>0.111</td>\n",
       "      <td>0.336</td>\n",
       "      <td>0.038</td>\n",
       "      <td>0.058</td>\n",
       "      <td>-0.091</td>\n",
       "      <td>0.246</td>\n",
       "    </tr>\n",
       "    <tr>\n",
       "      <th>5</th>\n",
       "      <td>0.021</td>\n",
       "      <td>0.010</td>\n",
       "      <td>0.215</td>\n",
       "      <td>0.172</td>\n",
       "      <td>0.065</td>\n",
       "      <td>0.036</td>\n",
       "      <td>0.013</td>\n",
       "      <td>0.069</td>\n",
       "      <td>0.079</td>\n",
       "      <td>-0.253</td>\n",
       "    </tr>\n",
       "    <tr>\n",
       "      <th>6</th>\n",
       "      <td>-0.008</td>\n",
       "      <td>0.076</td>\n",
       "      <td>-0.003</td>\n",
       "      <td>0.068</td>\n",
       "      <td>0.081</td>\n",
       "      <td>-0.175</td>\n",
       "      <td>-0.018</td>\n",
       "      <td>0.257</td>\n",
       "      <td>-0.042</td>\n",
       "      <td>0.098</td>\n",
       "    </tr>\n",
       "    <tr>\n",
       "      <th>7</th>\n",
       "      <td>0.102</td>\n",
       "      <td>-0.142</td>\n",
       "      <td>0.151</td>\n",
       "      <td>-0.074</td>\n",
       "      <td>-0.064</td>\n",
       "      <td>-0.073</td>\n",
       "      <td>0.145</td>\n",
       "      <td>0.020</td>\n",
       "      <td>-0.019</td>\n",
       "      <td>0.061</td>\n",
       "    </tr>\n",
       "    <tr>\n",
       "      <th>8</th>\n",
       "      <td>0.023</td>\n",
       "      <td>0.058</td>\n",
       "      <td>0.007</td>\n",
       "      <td>-0.027</td>\n",
       "      <td>-0.199</td>\n",
       "      <td>0.056</td>\n",
       "      <td>-0.043</td>\n",
       "      <td>0.098</td>\n",
       "      <td>-0.026</td>\n",
       "      <td>-0.035</td>\n",
       "    </tr>\n",
       "    <tr>\n",
       "      <th>9</th>\n",
       "      <td>0.117</td>\n",
       "      <td>0.001</td>\n",
       "      <td>-0.027</td>\n",
       "      <td>0.121</td>\n",
       "      <td>-0.012</td>\n",
       "      <td>0.029</td>\n",
       "      <td>-0.004</td>\n",
       "      <td>-0.031</td>\n",
       "      <td>-0.045</td>\n",
       "      <td>0.047</td>\n",
       "    </tr>\n",
       "    <tr>\n",
       "      <th>10</th>\n",
       "      <td>-0.058</td>\n",
       "      <td>-0.016</td>\n",
       "      <td>0.021</td>\n",
       "      <td>0.022</td>\n",
       "      <td>-0.014</td>\n",
       "      <td>-0.032</td>\n",
       "      <td>-0.008</td>\n",
       "      <td>-0.031</td>\n",
       "      <td>-0.127</td>\n",
       "      <td>-0.029</td>\n",
       "    </tr>\n",
       "  </tbody>\n",
       "</table>\n",
       "</div>"
      ],
      "text/plain": [
       "                         0      1      2      3      4      5      6      7      8      9\n",
       "principal_direction                                                                      \n",
       "1                   -0.828  0.446  0.841  0.851 -0.939 -0.878 -0.408 -0.895  0.967  0.917\n",
       "2                   -0.514 -0.661 -0.366  0.462 -0.205  0.266  0.320  0.319  0.175  0.077\n",
       "3                    0.088 -0.568  0.183 -0.080  0.091  0.057 -0.841  0.107  0.026  0.112\n",
       "4                   -0.121  0.108  0.231 -0.015  0.111  0.336  0.038  0.058 -0.091  0.246\n",
       "5                    0.021  0.010  0.215  0.172  0.065  0.036  0.013  0.069  0.079 -0.253\n",
       "6                   -0.008  0.076 -0.003  0.068  0.081 -0.175 -0.018  0.257 -0.042  0.098\n",
       "7                    0.102 -0.142  0.151 -0.074 -0.064 -0.073  0.145  0.020 -0.019  0.061\n",
       "8                    0.023  0.058  0.007 -0.027 -0.199  0.056 -0.043  0.098 -0.026 -0.035\n",
       "9                    0.117  0.001 -0.027  0.121 -0.012  0.029 -0.004 -0.031 -0.045  0.047\n",
       "10                  -0.058 -0.016  0.021  0.022 -0.014 -0.032 -0.008 -0.031 -0.127 -0.029"
      ]
     },
     "execution_count": 589,
     "metadata": {},
     "output_type": "execute_result"
    }
   ],
   "source": [
    "cfeat.compute_normalized_principal_loadings(df, normalize_cols=True).round(3)"
   ]
  },
  {
   "cell_type": "code",
   "execution_count": 596,
   "id": "57408b0d",
   "metadata": {
    "ExecuteTime": {
     "end_time": "2021-10-19T00:53:11.017007Z",
     "start_time": "2021-10-19T00:53:10.888738Z"
    }
   },
   "outputs": [
    {
     "data": {
      "text/plain": [
       "1.490597804426909"
      ]
     },
     "execution_count": 596,
     "metadata": {},
     "output_type": "execute_result"
    }
   ],
   "source": [
    "cfeat.compute_effective_rank(df / df.std(), np.inf)"
   ]
  },
  {
   "cell_type": "code",
   "execution_count": 597,
   "id": "8a94856a",
   "metadata": {
    "ExecuteTime": {
     "end_time": "2021-10-19T00:53:18.369648Z",
     "start_time": "2021-10-19T00:53:17.960058Z"
    }
   },
   "outputs": [
    {
     "data": {
      "text/plain": [
       "[3.0555826007620097, 2.068750985372336, 1.4907725896366988]"
      ]
     },
     "execution_count": 597,
     "metadata": {},
     "output_type": "execute_result"
    },
    {
     "data": {
      "image/png": "[encoded data removed]",
      "text/plain": [
       "<Figure size 1440x360 with 1 Axes>"
      ]
     },
     "metadata": {},
     "output_type": "display_data"
    }
   ],
   "source": [
    "cplot.plot_effective_correlation_rank(df / df.std())"
   ]
  },
  {
   "cell_type": "code",
   "execution_count": 621,
   "id": "f90e0826",
   "metadata": {
    "ExecuteTime": {
     "end_time": "2021-10-19T00:59:41.993854Z",
     "start_time": "2021-10-19T00:59:41.882251Z"
    }
   },
   "outputs": [
    {
     "data": {
      "text/plain": [
       "distance              0.172949\n",
       "proj_volume           1.963978\n",
       "df_eff_rank           2.142966\n",
       "proj_cols_eff_rank    1.000000\n",
       "dtype: float64"
      ]
     },
     "metadata": {},
     "output_type": "display_data"
    }
   ],
   "source": [
    "edf = cfeat.evaluate_col_selection(df, [8], normalize_cols=False)\n",
    "display(edf)"
   ]
  },
  {
   "cell_type": "code",
   "execution_count": 620,
   "id": "d404b945",
   "metadata": {
    "ExecuteTime": {
     "end_time": "2021-10-19T00:59:39.050213Z",
     "start_time": "2021-10-19T00:59:38.939260Z"
    }
   },
   "outputs": [
    {
     "data": {
      "text/plain": [
       "distance              0.223356\n",
       "proj_volume           2.097711\n",
       "df_eff_rank           2.142966\n",
       "proj_cols_eff_rank    1.000000\n",
       "dtype: float64"
      ]
     },
     "metadata": {},
     "output_type": "display_data"
    }
   ],
   "source": [
    "edf = cfeat.evaluate_col_selection(df, [4], normalize_cols=False)\n",
    "display(edf)"
   ]
  },
  {
   "cell_type": "code",
   "execution_count": 603,
   "id": "f7c82e0a",
   "metadata": {
    "ExecuteTime": {
     "end_time": "2021-10-19T00:57:19.401676Z",
     "start_time": "2021-10-19T00:57:19.031795Z"
    }
   },
   "outputs": [
    {
     "data": {
      "text/plain": [
       "[8, 2, 1, 0, 4]"
      ]
     },
     "execution_count": 603,
     "metadata": {},
     "output_type": "execute_result"
    }
   ],
   "source": [
    "cfeat.select_cols_by_greedy_grassmann(df, 5, normalize_cols=False)"
   ]
  },
  {
   "cell_type": "code",
   "execution_count": 608,
   "id": "1e15b87d",
   "metadata": {
    "ExecuteTime": {
     "end_time": "2021-10-19T00:57:47.280341Z",
     "start_time": "2021-10-19T00:57:47.141114Z"
    }
   },
   "outputs": [
    {
     "data": {
      "text/plain": [
       "[4, 2, 1, 0, 8]"
      ]
     },
     "execution_count": 608,
     "metadata": {},
     "output_type": "execute_result"
    }
   ],
   "source": [
    "cfeat.select_cols_by_greedy_volume(df, 5, normalize_cols=False)"
   ]
  },
  {
   "cell_type": "code",
   "execution_count": 538,
   "id": "9037d4b8",
   "metadata": {
    "ExecuteTime": {
     "end_time": "2021-10-18T19:45:22.686338Z",
     "start_time": "2021-10-18T19:45:22.617178Z"
    }
   },
   "outputs": [
    {
     "data": {
      "text/html": [
       "<div>\n",
       "<style scoped>\n",
       "    .dataframe tbody tr th:only-of-type {\n",
       "        vertical-align: middle;\n",
       "    }\n",
       "\n",
       "    .dataframe tbody tr th {\n",
       "        vertical-align: top;\n",
       "    }\n",
       "\n",
       "    .dataframe thead th {\n",
       "        text-align: right;\n",
       "    }\n",
       "</style>\n",
       "<table border=\"1\" class=\"dataframe\">\n",
       "  <thead>\n",
       "    <tr style=\"text-align: right;\">\n",
       "      <th></th>\n",
       "      <th>1</th>\n",
       "    </tr>\n",
       "  </thead>\n",
       "  <tbody>\n",
       "    <tr>\n",
       "      <th>0</th>\n",
       "      <td>-0.013418</td>\n",
       "    </tr>\n",
       "    <tr>\n",
       "      <th>1</th>\n",
       "      <td>-0.014195</td>\n",
       "    </tr>\n",
       "    <tr>\n",
       "      <th>2</th>\n",
       "      <td>-0.032865</td>\n",
       "    </tr>\n",
       "    <tr>\n",
       "      <th>3</th>\n",
       "      <td>0.033907</td>\n",
       "    </tr>\n",
       "    <tr>\n",
       "      <th>4</th>\n",
       "      <td>0.033532</td>\n",
       "    </tr>\n",
       "    <tr>\n",
       "      <th>...</th>\n",
       "      <td>...</td>\n",
       "    </tr>\n",
       "    <tr>\n",
       "      <th>995</th>\n",
       "      <td>-0.014901</td>\n",
       "    </tr>\n",
       "    <tr>\n",
       "      <th>996</th>\n",
       "      <td>-0.015233</td>\n",
       "    </tr>\n",
       "    <tr>\n",
       "      <th>997</th>\n",
       "      <td>0.001380</td>\n",
       "    </tr>\n",
       "    <tr>\n",
       "      <th>998</th>\n",
       "      <td>-0.031163</td>\n",
       "    </tr>\n",
       "    <tr>\n",
       "      <th>999</th>\n",
       "      <td>-0.031586</td>\n",
       "    </tr>\n",
       "  </tbody>\n",
       "</table>\n",
       "<p>1000 rows × 1 columns</p>\n",
       "</div>"
      ],
      "text/plain": [
       "            1\n",
       "0   -0.013418\n",
       "1   -0.014195\n",
       "2   -0.032865\n",
       "3    0.033907\n",
       "4    0.033532\n",
       "..        ...\n",
       "995 -0.014901\n",
       "996 -0.015233\n",
       "997  0.001380\n",
       "998 -0.031163\n",
       "999 -0.031586\n",
       "\n",
       "[1000 rows x 1 columns]"
      ]
     },
     "execution_count": 538,
     "metadata": {},
     "output_type": "execute_result"
    }
   ],
   "source": [
    "cfeat.compute_principal_grassmannian(df, 1)"
   ]
  },
  {
   "cell_type": "code",
   "execution_count": null,
   "id": "cae3aca5",
   "metadata": {},
   "outputs": [],
   "source": []
  }
 ],
 "metadata": {
  "jupytext": {
   "text_representation": {
    "extension": ".py",
    "format_name": "percent",
    "format_version": "1.3",
    "jupytext_version": "1.11.4"
   }
  },
  "kernelspec": {
   "display_name": "Python 3 (ipykernel)",
   "language": "python",
   "name": "python3"
  },
  "language_info": {
   "codemirror_mode": {
    "name": "ipython",
    "version": 3
   },
   "file_extension": ".py",
   "mimetype": "text/x-python",
   "name": "python",
   "nbconvert_exporter": "python",
   "pygments_lexer": "ipython3",
   "version": "3.8.10"
  },
  "toc": {
   "base_numbering": 1,
   "nav_menu": {},
   "number_sections": true,
   "sideBar": true,
   "skip_h1_title": false,
   "title_cell": "Table of Contents",
   "title_sidebar": "Contents",
   "toc_cell": false,
   "toc_position": {},
   "toc_section_display": true,
   "toc_window_display": false
  }
 },
 "nbformat": 4,
 "nbformat_minor": 5
}
