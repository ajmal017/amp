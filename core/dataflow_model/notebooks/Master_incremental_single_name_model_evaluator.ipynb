{
 "cells": [
  {
   "cell_type": "markdown",
   "id": "126c8435",
   "metadata": {},
   "source": [
    "# Imports"
   ]
  },
  {
   "cell_type": "code",
   "execution_count": 1,
   "id": "abf41299",
   "metadata": {
    "ExecuteTime": {
     "end_time": "2021-09-24T14:17:52.288851Z",
     "start_time": "2021-09-24T14:17:46.169575Z"
    }
   },
   "outputs": [
    {
     "name": "stderr",
     "output_type": "stream",
     "text": [
      "/app/core/dataflow_model/utils.py:31: TqdmExperimentalWarning: Using `tqdm.autonotebook.tqdm` in notebook mode. Use `tqdm.tqdm` instead to force console mode (e.g. in jupyter console)\n",
      "  from tqdm.autonotebook import tqdm\n"
     ]
    }
   ],
   "source": [
    "%load_ext autoreload\n",
    "%autoreload 2\n",
    "\n",
    "import logging\n",
    "\n",
    "import core.config as cconfig\n",
    "import core.dataflow_model.incremental_single_name_model_evaluator as ime\n",
    "import core.dataflow_model.model_evaluator as modeval\n",
    "import core.dataflow_model.model_plotter as modplot\n",
    "import core.dataflow_model.stats_computer as csc\n",
    "import core.plotting as cplot\n",
    "import helpers.dbg as dbg\n",
    "import helpers.printing as hprint"
   ]
  },
  {
   "cell_type": "code",
   "execution_count": 2,
   "id": "eee79ad8",
   "metadata": {
    "ExecuteTime": {
     "end_time": "2021-09-24T14:17:52.382648Z",
     "start_time": "2021-09-24T14:17:52.292735Z"
    }
   },
   "outputs": [
    {
     "name": "stdout",
     "output_type": "stream",
     "text": [
      "\u001b[0m\u001b[36mINFO\u001b[0m: > cmd='/venv/lib/python3.8/site-packages/ipykernel_launcher.py -f /root/.local/share/jupyter/runtime/kernel-db368b29-f783-4c65-bce3-11285bd2d5b0.json'\n",
      "\u001b[33mWARNING\u001b[0m: Running in Jupyter\n",
      "\u001b[33mWARNING\u001b[0m: Disabling annoying warnings\n"
     ]
    }
   ],
   "source": [
    "dbg.init_logger(verbosity=logging.INFO)\n",
    "# dbg.init_logger(verbosity=logging.DEBUG)\n",
    "\n",
    "_LOG = logging.getLogger(__name__)\n",
    "\n",
    "# _LOG.info(\"%s\", env.get_system_signature()[0])\n",
    "\n",
    "hprint.config_notebook()"
   ]
  },
  {
   "cell_type": "markdown",
   "id": "c0c17e86",
   "metadata": {},
   "source": [
    "# Notebook config"
   ]
  },
  {
   "cell_type": "code",
   "execution_count": null,
   "id": "a9c3584e",
   "metadata": {
    "ExecuteTime": {
     "end_time": "2021-09-21T22:19:56.892027Z",
     "start_time": "2021-09-21T22:19:56.857737Z"
    }
   },
   "outputs": [],
   "source": [
    "# Read from env var.\n",
    "eval_config = cconfig.Config.from_env_var(\"AM_CONFIG_CODE\")\n",
    "\n",
    "# Override config.\n",
    "if eval_config is None:\n",
    "    src_dir = \"\"\n",
    "    file_name = \"result_bundle.v2_0.pkl\"\n",
    "    prediction_col = \"\"\n",
    "    target_col = \"\"\n",
    "    aws_profile = None\n",
    "\n",
    "    eval_config = cconfig.get_config_from_nested_dict(\n",
    "        {\n",
    "            \"compute_stats_kwargs\": {\n",
    "                \"src_dir\": src_dir,\n",
    "                \"file_name\": file_name,\n",
    "                \"prediction_col\": prediction_col,\n",
    "                \"target_col\": target_col,\n",
    "                \"start\": None,\n",
    "                \"end\": None,\n",
    "                \"selected_idxs\": None,\n",
    "                \"aws_profile\": aws_profile,\n",
    "            },\n",
    "            \"aggregate_single_name_models\": {\n",
    "                \"src_dir\": src_dir,\n",
    "                \"file_name\": file_name,\n",
    "                \"position_intent_1_col\": \"\",\n",
    "                \"ret_0_col\": \"\",\n",
    "                \"spread_0_col\": \"\",\n",
    "                \"prediction_col\": prediction_col,\n",
    "                \"target_col\": target_col,\n",
    "                \"start\": None,\n",
    "                \"end\": None,\n",
    "                \"selected_idxs\": None,\n",
    "                \"aws_profile\": aws_profile,\n",
    "            },\n",
    "            \"bh_adj_threshold\": 0.1,\n",
    "        }\n",
    "    )\n",
    "\n",
    "print(str(eval_config))"
   ]
  },
  {
   "cell_type": "markdown",
   "id": "8142e65d",
   "metadata": {},
   "source": [
    "# Compute stats"
   ]
  },
  {
   "cell_type": "code",
   "execution_count": null,
   "id": "270e45c1",
   "metadata": {},
   "outputs": [],
   "source": [
    "stats = ime.compute_stats_for_single_name_artifacts(**eval_config[\"compute_stats_kwargs\"].to_dict())"
   ]
  },
  {
   "cell_type": "code",
   "execution_count": null,
   "id": "a500459d",
   "metadata": {},
   "outputs": [],
   "source": [
    "# TODO(gp): Move this chunk of code into a function.\n",
    "col_mask = (\n",
    "    stats.loc[\"signal_quality\"].loc[\"sr.adj_pval\"]\n",
    "    < eval_config[\"bh_adj_threshold\"]\n",
    ")\n",
    "selected = stats.loc[:, col_mask].columns.to_list()\n",
    "not_selected = stats.loc[:, ~col_mask].columns.to_list()\n",
    "\n",
    "print(\"num model selected=%s\" % hprint.perc(len(selected), stats.shape[1]))\n",
    "print(\"model selected=%s\" % selected)\n",
    "print(\"model not selected=%s\" % not_selected)\n",
    "\n",
    "# Use `selected = None` to show all of the models.\n",
    "\n",
    "# TODO(Paul): call `multipletests_plot()`"
   ]
  },
  {
   "cell_type": "markdown",
   "id": "2ab68b06",
   "metadata": {},
   "source": [
    "# Build portfolio"
   ]
  },
  {
   "cell_type": "code",
   "execution_count": null,
   "id": "f353ea8a",
   "metadata": {
    "ExecuteTime": {
     "end_time": "2021-09-21T15:54:39.933619Z",
     "start_time": "2021-09-21T15:49:39.611475Z"
    },
    "scrolled": false
   },
   "outputs": [],
   "source": [
    "portfolio, daily_dfs = ime.aggregate_single_name_models(**eval_config[\"aggregate_single_name_models\"].to_dict())"
   ]
  },
  {
   "cell_type": "code",
   "execution_count": null,
   "id": "78ddaa5c",
   "metadata": {},
   "outputs": [],
   "source": [
    "portfolio.dropna().head()"
   ]
  },
  {
   "cell_type": "code",
   "execution_count": null,
   "id": "6f9d019e",
   "metadata": {},
   "outputs": [],
   "source": [
    "stats_computer = csc.StatsComputer()"
   ]
  },
  {
   "cell_type": "markdown",
   "id": "38f01dff",
   "metadata": {},
   "source": [
    "# TODO\n",
    "- Compute stats of `portfolio`\n",
    "- Create daily rets and daily pnl dfs\n",
    "  - `plot_effective_correlation_rank()`\n",
    "  - `plot_correlation_matrix()`\n",
    "  - `plot_pnl()`\n",
    "- Plot `portfolio` performance\n",
    "  - `plot_cumulative_returns()`\n",
    "  - `plot_monthly_heatmap()`\n",
    "  - `plot_yearly_barplot()`\n",
    "  - `plot_sharpe_ratio_panel()`\n",
    "  - `plot_qq()`\n",
    "  - ..."
   ]
  },
  {
   "cell_type": "code",
   "execution_count": null,
   "id": "c0f0e20b",
   "metadata": {},
   "outputs": [],
   "source": []
  }
 ],
 "metadata": {
  "jupytext": {
   "text_representation": {
    "extension": ".py",
    "format_name": "percent",
    "format_version": "1.3",
    "jupytext_version": "1.11.4"
   }
  },
  "kernelspec": {
   "display_name": "Python 3 (ipykernel)",
   "language": "python",
   "name": "python3"
  },
  "language_info": {
   "codemirror_mode": {
    "name": "ipython",
    "version": 3
   },
   "file_extension": ".py",
   "mimetype": "text/x-python",
   "name": "python",
   "nbconvert_exporter": "python",
   "pygments_lexer": "ipython3",
   "version": "3.8.10"
  },
  "toc": {
   "base_numbering": 1,
   "nav_menu": {},
   "number_sections": true,
   "sideBar": true,
   "skip_h1_title": false,
   "title_cell": "Table of Contents",
   "title_sidebar": "Contents",
   "toc_cell": false,
   "toc_position": {},
   "toc_section_display": true,
   "toc_window_display": false
  }
 },
 "nbformat": 4,
 "nbformat_minor": 5
}
