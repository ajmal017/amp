{
 "cells": [
  {
   "cell_type": "markdown",
   "id": "a0cfeac2",
   "metadata": {},
   "source": [
    "# Description\n",
    "\n",
    "- Initialize with returns, predictions, target volatility, and oos start date\n",
    "- Evaluate portfolios generated from the predictions"
   ]
  },
  {
   "cell_type": "markdown",
   "id": "126c8435",
   "metadata": {},
   "source": [
    "# Imports"
   ]
  },
  {
   "cell_type": "code",
   "execution_count": 1,
   "id": "abf41299",
   "metadata": {
    "ExecuteTime": {
     "end_time": "2021-09-03T20:51:59.986137Z",
     "start_time": "2021-09-03T20:51:54.446414Z"
    }
   },
   "outputs": [],
   "source": [
    "%load_ext autoreload\n",
    "%autoreload 2\n",
    "\n",
    "import logging\n",
    "\n",
    "import core.config as cconfig\n",
    "import core.dataflow_model.model_evaluator as modeval\n",
    "import core.dataflow_model.model_plotter as modplot\n",
    "import core.dataflow_model.utils as cdmu\n",
    "import helpers.dbg as dbg\n",
    "import helpers.printing as hprint"
   ]
  },
  {
   "cell_type": "code",
   "execution_count": 2,
   "id": "eee79ad8",
   "metadata": {
    "ExecuteTime": {
     "end_time": "2021-09-03T20:52:00.077166Z",
     "start_time": "2021-09-03T20:51:59.998683Z"
    }
   },
   "outputs": [
    {
     "name": "stdout",
     "output_type": "stream",
     "text": [
      "\u001b[0m\u001b[36mINFO\u001b[0m: > cmd='/venv/lib/python3.8/site-packages/ipykernel_launcher.py -f /root/.local/share/jupyter/runtime/kernel-e7715308-84ba-4edd-b1e4-1aeda980ba61.json'\n",
      "\u001b[33mWARNING\u001b[0m: Running in Jupyter\n",
      "\u001b[33mWARNING\u001b[0m: Disabling annoying warnings\n"
     ]
    }
   ],
   "source": [
    "dbg.init_logger(verbosity=logging.INFO)\n",
    "#dbg.init_logger(verbosity=logging.DEBUG)\n",
    "\n",
    "_LOG = logging.getLogger(__name__)\n",
    "\n",
    "# _LOG.info(\"%s\", env.get_system_signature()[0])\n",
    "\n",
    "hprint.config_notebook()"
   ]
  },
  {
   "cell_type": "markdown",
   "id": "c0c17e86",
   "metadata": {},
   "source": [
    "# Notebook config"
   ]
  },
  {
   "cell_type": "code",
   "execution_count": 38,
   "id": "a9c3584e",
   "metadata": {
    "ExecuteTime": {
     "end_time": "2021-09-04T00:24:04.708468Z",
     "start_time": "2021-09-04T00:24:04.058162Z"
    }
   },
   "outputs": [],
   "source": [
    "#exp_dir = \"s3://eglp-spm-sasm/experiments/experiment.RH2Ef.v1_9-all.5T.20210831-004747.run1.tgz\"\n",
    "exp_dir = \"./experiment.RH2Ef.v1_9-all.5T.20210831-004747.run1.tgz\"# exp_dir = \"s3://alphamatic-data/experiments/...\"\n",
    "\n",
    "eval_config = cconfig.get_config_from_nested_dict(\n",
    "    {\n",
    "        \"exp_dir\": exp_dir,\n",
    "        \"model_evaluator_kwargs\": {\n",
    "            \"returns_col\": \"vwap_ret_0_vol_adj_clipped_2\",\n",
    "            \"predictions_col\": \"vwap_ret_0_vol_adj_clipped_2_hat\",\n",
    "            #\"oos_start\": \"2017-01-01\",\n",
    "        },\n",
    "        \"bh_adj_threshold\": 0.1,\n",
    "        \"resample_rule\": \"W\",\n",
    "        \"mode\": \"ins\",\n",
    "        \"target_volatility\": 0.1,\n",
    "    }\n",
    ")"
   ]
  },
  {
   "cell_type": "markdown",
   "id": "8142e65d",
   "metadata": {},
   "source": [
    "# Initialize ModelEvaluator and ModelPlotter"
   ]
  },
  {
   "cell_type": "code",
   "execution_count": 78,
   "id": "371704c7",
   "metadata": {
    "ExecuteTime": {
     "end_time": "2021-09-04T14:42:53.046785Z",
     "start_time": "2021-09-04T14:42:53.017951Z"
    }
   },
   "outputs": [],
   "source": [
    "# Load the data.\n",
    "selected_idxs = list(range(4))\n",
    "result_bundles = cdmu.yield_experiment_artifacts(\n",
    "    eval_config[\"exp_dir\"],\n",
    "    \"result_bundle.pkl\",\n",
    "    selected_idxs=selected_idxs,\n",
    ")"
   ]
  },
  {
   "cell_type": "code",
   "execution_count": 83,
   "id": "b5806ee4",
   "metadata": {
    "ExecuteTime": {
     "end_time": "2021-09-04T14:43:26.439815Z",
     "start_time": "2021-09-04T14:43:26.399043Z"
    }
   },
   "outputs": [
    {
     "name": "stdout",
     "output_type": "stream",
     "text": [
      "before: rss=1.138GB vms=3.687GB mem_pct=2%\n"
     ]
    },
    {
     "ename": "StopIteration",
     "evalue": "",
     "output_type": "error",
     "traceback": [
      "\u001b[0;31m---------------------------------------------------------------------------\u001b[0m",
      "\u001b[0;31mStopIteration\u001b[0m                             Traceback (most recent call last)",
      "\u001b[0;32m/tmp/ipykernel_61/3730578343.py\u001b[0m in \u001b[0;36m<module>\u001b[0;34m\u001b[0m\n\u001b[1;32m      1\u001b[0m \u001b[0mprint\u001b[0m\u001b[0;34m(\u001b[0m\u001b[0;34m\"before:\"\u001b[0m\u001b[0;34m,\u001b[0m \u001b[0mdbg\u001b[0m\u001b[0;34m.\u001b[0m\u001b[0mget_memory_usage\u001b[0m\u001b[0;34m(\u001b[0m\u001b[0;32mNone\u001b[0m\u001b[0;34m)\u001b[0m\u001b[0;34m)\u001b[0m\u001b[0;34m\u001b[0m\u001b[0;34m\u001b[0m\u001b[0m\n\u001b[0;32m----> 2\u001b[0;31m \u001b[0mdf\u001b[0m \u001b[0;34m=\u001b[0m \u001b[0mnext\u001b[0m\u001b[0;34m(\u001b[0m\u001b[0mresult_bundles\u001b[0m\u001b[0;34m)\u001b[0m\u001b[0;34m\u001b[0m\u001b[0;34m\u001b[0m\u001b[0m\n\u001b[0m\u001b[1;32m      3\u001b[0m \u001b[0mprint\u001b[0m\u001b[0;34m(\u001b[0m\u001b[0;34m\"after:\"\u001b[0m\u001b[0;34m,\u001b[0m \u001b[0mdbg\u001b[0m\u001b[0;34m.\u001b[0m\u001b[0mget_memory_usage\u001b[0m\u001b[0;34m(\u001b[0m\u001b[0;32mNone\u001b[0m\u001b[0;34m)\u001b[0m\u001b[0;34m)\u001b[0m\u001b[0;34m\u001b[0m\u001b[0;34m\u001b[0m\u001b[0m\n",
      "\u001b[0;31mStopIteration\u001b[0m: "
     ]
    }
   ],
   "source": [
    "print(\"before:\", dbg.get_memory_usage(None))\n",
    "df = next(result_bundles)\n",
    "print(\"after:\", dbg.get_memory_usage(None))"
   ]
  },
  {
   "cell_type": "code",
   "execution_count": 105,
   "id": "143f5149",
   "metadata": {
    "ExecuteTime": {
     "end_time": "2021-09-04T14:47:45.938271Z",
     "start_time": "2021-09-04T14:47:45.909530Z"
    }
   },
   "outputs": [],
   "source": [
    "i = 0\n",
    "dfs = []"
   ]
  },
  {
   "cell_type": "code",
   "execution_count": 124,
   "id": "e2e6cfe7",
   "metadata": {
    "ExecuteTime": {
     "end_time": "2021-09-04T15:22:20.953508Z",
     "start_time": "2021-09-04T15:22:20.795055Z"
    }
   },
   "outputs": [
    {
     "name": "stdout",
     "output_type": "stream",
     "text": [
      "before rss=3.863GB vms=6.412GB mem_pct=6%\n",
      "0.17232084274291992\n",
      "after rss=4.028GB vms=6.577GB mem_pct=6%\n",
      "mem_increase= 0.16439437866210938\n"
     ]
    }
   ],
   "source": [
    "rss_before = dbg.get_memory_usage()[0]\n",
    "print(\"before\", dbg.get_memory_usage_as_str(None))\n",
    "\n",
    "df_copy = result_df.copy(deep=True)\n",
    "print(\"mem usage=\", df_copy.memory_usage().sum() / 1024 ** 3)\n",
    "dfs.append(df_copy)\n",
    "\n",
    "rss_after = dbg.get_memory_usage()[0]\n",
    "print(\"after\", dbg.get_memory_usage_as_str(None))\n",
    "\n",
    "print(\"mem_increase=\", rss_after - rss_before)"
   ]
  },
  {
   "cell_type": "code",
   "execution_count": 89,
   "id": "ce33d77c",
   "metadata": {
    "ExecuteTime": {
     "end_time": "2021-09-04T14:44:59.750576Z",
     "start_time": "2021-09-04T14:44:59.722132Z"
    }
   },
   "outputs": [],
   "source": [
    "result_df = df[1][\"result_df\"]"
   ]
  },
  {
   "cell_type": "code",
   "execution_count": 90,
   "id": "1c6aac9c",
   "metadata": {
    "ExecuteTime": {
     "end_time": "2021-09-04T14:45:00.461127Z",
     "start_time": "2021-09-04T14:45:00.429058Z"
    }
   },
   "outputs": [
    {
     "data": {
      "text/plain": [
       "185028096"
      ]
     },
     "execution_count": 90,
     "metadata": {},
     "output_type": "execute_result"
    }
   ],
   "source": [
    "result_df.memory_usage().sum()"
   ]
  },
  {
   "cell_type": "code",
   "execution_count": 93,
   "id": "c22a432f",
   "metadata": {
    "ExecuteTime": {
     "end_time": "2021-09-04T14:45:56.661141Z",
     "start_time": "2021-09-04T14:45:56.625941Z"
    }
   },
   "outputs": [
    {
     "data": {
      "text/plain": [
       "'24.1 MB'"
      ]
     },
     "execution_count": 93,
     "metadata": {},
     "output_type": "execute_result"
    }
   ],
   "source": [
    "hintro.format_size(result_df[[\"vwap_ret_0_vol_adj_clipped_2\", \"vwap_ret_0_vol_adj_clipped_2_hat\"]].memory_usage().sum())"
   ]
  },
  {
   "cell_type": "code",
   "execution_count": 61,
   "id": "a11e1567",
   "metadata": {
    "ExecuteTime": {
     "end_time": "2021-09-04T13:38:47.406426Z",
     "start_time": "2021-09-04T13:38:47.376890Z"
    }
   },
   "outputs": [],
   "source": [
    "import helpers.introspection as hintro"
   ]
  },
  {
   "cell_type": "code",
   "execution_count": 72,
   "id": "d873081a",
   "metadata": {
    "ExecuteTime": {
     "end_time": "2021-09-04T14:01:32.726464Z",
     "start_time": "2021-09-04T14:01:32.693840Z"
    }
   },
   "outputs": [
    {
     "name": "stdout",
     "output_type": "stream",
     "text": [
      "odict_keys(['config', 'result_nid', 'method', 'result_df', 'column_to_tags', 'info', 'payload', 'class'])\n"
     ]
    },
    {
     "data": {
      "text/plain": [
       "148228608"
      ]
     },
     "execution_count": 72,
     "metadata": {},
     "output_type": "execute_result"
    }
   ],
   "source": [
    "print(df[1].keys())\n",
    "\n",
    "#hintro.get_size_in_bytes(df[1][\"result_df\"])\n",
    "df[1][\"result_df\"].memory_usage(index=True, deep=True).sum()\n",
    "#df[1][\"result_df\"].info()"
   ]
  },
  {
   "cell_type": "code",
   "execution_count": null,
   "id": "ed68e2f5",
   "metadata": {},
   "outputs": [],
   "source": []
  },
  {
   "cell_type": "code",
   "execution_count": 49,
   "id": "d42c7b21",
   "metadata": {
    "ExecuteTime": {
     "end_time": "2021-09-04T13:22:59.904535Z",
     "start_time": "2021-09-04T13:22:12.570559Z"
    }
   },
   "outputs": [
    {
     "name": "stdout",
     "output_type": "stream",
     "text": [
      "# Load artifacts 'result_bundle.pkl' from './experiment.RH2Ef.v1_9-all.5T.20210831-004747.run1.tgz'\n",
      "While expanding './experiment.RH2Ef.v1_9-all.5T.20210831-004747.run1.tgz' dst dir './experiment.RH2Ef.v1_9-all.5T.run1/' already exists: skipping\n",
      "Found 534 experiment subdirs in './experiment.RH2Ef.v1_9-all.5T.run1/'\n"
     ]
    },
    {
     "data": {
      "application/vnd.jupyter.widget-view+json": {
       "model_id": "39e1e1da0c0e49e7bbb3c5710cbb2857",
       "version_major": 2,
       "version_minor": 0
      },
      "text/plain": [
       "Loading artifacts:   0%|          | 0/2 [00:00<?, ?it/s]"
      ]
     },
     "metadata": {},
     "output_type": "display_data"
    },
    {
     "ename": "KeyboardInterrupt",
     "evalue": "",
     "output_type": "error",
     "traceback": [
      "\u001b[0;31m---------------------------------------------------------------------------\u001b[0m",
      "\u001b[0;31mKeyboardInterrupt\u001b[0m                         Traceback (most recent call last)",
      "\u001b[0;32m/tmp/ipykernel_61/1310749331.py\u001b[0m in \u001b[0;36m<module>\u001b[0;34m\u001b[0m\n\u001b[1;32m      1\u001b[0m \u001b[0;31m# Build the ModelEvaluator.\u001b[0m\u001b[0;34m\u001b[0m\u001b[0;34m\u001b[0m\u001b[0;34m\u001b[0m\u001b[0m\n\u001b[0;32m----> 2\u001b[0;31m evaluator = modeval.build_model_evaluator_from_result_bundles(\n\u001b[0m\u001b[1;32m      3\u001b[0m     \u001b[0mresult_bundles\u001b[0m\u001b[0;34m,\u001b[0m\u001b[0;34m\u001b[0m\u001b[0;34m\u001b[0m\u001b[0m\n\u001b[1;32m      4\u001b[0m     \u001b[0mabort_on_error\u001b[0m\u001b[0;34m=\u001b[0m\u001b[0;32mFalse\u001b[0m\u001b[0;34m,\u001b[0m\u001b[0;34m\u001b[0m\u001b[0;34m\u001b[0m\u001b[0m\n\u001b[1;32m      5\u001b[0m     \u001b[0;34m**\u001b[0m\u001b[0meval_config\u001b[0m\u001b[0;34m[\u001b[0m\u001b[0;34m\"model_evaluator_kwargs\"\u001b[0m\u001b[0;34m]\u001b[0m\u001b[0;34m.\u001b[0m\u001b[0mto_dict\u001b[0m\u001b[0;34m(\u001b[0m\u001b[0;34m)\u001b[0m\u001b[0;34m,\u001b[0m\u001b[0;34m\u001b[0m\u001b[0;34m\u001b[0m\u001b[0m\n",
      "\u001b[0;32m/app/amp/core/dataflow_model/model_evaluator.py\u001b[0m in \u001b[0;36mbuild_model_evaluator_from_result_bundles\u001b[0;34m(result_bundle_pairs, returns_col, predictions_col, oos_start, abort_on_error)\u001b[0m\n\u001b[1;32m    637\u001b[0m             \u001b[0mresult_bundle\u001b[0m \u001b[0;34m=\u001b[0m \u001b[0mcdataf\u001b[0m\u001b[0;34m.\u001b[0m\u001b[0mResultBundle\u001b[0m\u001b[0;34m.\u001b[0m\u001b[0mfrom_dict\u001b[0m\u001b[0;34m(\u001b[0m\u001b[0mvalue\u001b[0m\u001b[0;34m)\u001b[0m\u001b[0;34m\u001b[0m\u001b[0;34m\u001b[0m\u001b[0m\n\u001b[1;32m    638\u001b[0m             \u001b[0mdf\u001b[0m \u001b[0;34m=\u001b[0m \u001b[0mresult_bundle\u001b[0m\u001b[0;34m.\u001b[0m\u001b[0mresult_df\u001b[0m\u001b[0;34m\u001b[0m\u001b[0;34m\u001b[0m\u001b[0m\n\u001b[0;32m--> 639\u001b[0;31m             _LOG.debug(\"Size of result_df: pd.size=%s get_size_in_bytes=%s\",\n\u001b[0m\u001b[1;32m    640\u001b[0m                        \u001b[0mhintro\u001b[0m\u001b[0;34m.\u001b[0m\u001b[0mformat_size\u001b[0m\u001b[0;34m(\u001b[0m\u001b[0mdf\u001b[0m\u001b[0;34m.\u001b[0m\u001b[0msize\u001b[0m\u001b[0;34m)\u001b[0m\u001b[0;34m,\u001b[0m\u001b[0;34m\u001b[0m\u001b[0;34m\u001b[0m\u001b[0m\n\u001b[1;32m    641\u001b[0m                        hintro.format_size(hintro.get_size_in_bytes(df)))\n",
      "\u001b[0;31mKeyboardInterrupt\u001b[0m: "
     ]
    }
   ],
   "source": [
    "# Build the ModelEvaluator.\n",
    "evaluator = modeval.build_model_evaluator_from_result_bundles(\n",
    "    result_bundles,\n",
    "    abort_on_error=False,\n",
    "    **eval_config[\"model_evaluator_kwargs\"].to_dict(),\n",
    ")\n",
    "# Build the ModelPlotter.\n",
    "plotter = modplot.ModelPlotter(evaluator)"
   ]
  },
  {
   "cell_type": "markdown",
   "id": "2ab68b06",
   "metadata": {},
   "source": [
    "# Analysis"
   ]
  },
  {
   "cell_type": "code",
   "execution_count": 43,
   "id": "f353ea8a",
   "metadata": {
    "ExecuteTime": {
     "end_time": "2021-09-04T00:26:11.165152Z",
     "start_time": "2021-09-04T00:25:52.312311Z"
    }
   },
   "outputs": [
    {
     "data": {
      "application/vnd.jupyter.widget-view+json": {
       "model_id": "5720260dbc1f4ed99d0e23cdb43c62e4",
       "version_major": 2,
       "version_minor": 0
      },
      "text/plain": [
       "Calculating positions:   0%|          | 0/2 [00:00<?, ?it/s]"
      ]
     },
     "metadata": {},
     "output_type": "display_data"
    },
    {
     "data": {
      "application/vnd.jupyter.widget-view+json": {
       "model_id": "569ee673cf3b42b2a312db36961fe0cc",
       "version_major": 2,
       "version_minor": 0
      },
      "text/plain": [
       "Calculating PnL:   0%|          | 0/2 [00:00<?, ?it/s]"
      ]
     },
     "metadata": {},
     "output_type": "display_data"
    },
    {
     "data": {
      "application/vnd.jupyter.widget-view+json": {
       "model_id": "b9a667ead0f14dc5bce636816a483a05",
       "version_major": 2,
       "version_minor": 0
      },
      "text/plain": [
       "Calculating stats:   0%|          | 0/2 [00:00<?, ?it/s]"
      ]
     },
     "metadata": {},
     "output_type": "display_data"
    },
    {
     "data": {
      "text/html": [
       "<div>\n",
       "<style scoped>\n",
       "    .dataframe tbody tr th:only-of-type {\n",
       "        vertical-align: middle;\n",
       "    }\n",
       "\n",
       "    .dataframe tbody tr th {\n",
       "        vertical-align: top;\n",
       "    }\n",
       "\n",
       "    .dataframe thead th {\n",
       "        text-align: right;\n",
       "    }\n",
       "</style>\n",
       "<table border=\"1\" class=\"dataframe\">\n",
       "  <thead>\n",
       "    <tr style=\"text-align: right;\">\n",
       "      <th></th>\n",
       "      <th></th>\n",
       "      <th>0</th>\n",
       "      <th>1</th>\n",
       "    </tr>\n",
       "  </thead>\n",
       "  <tbody>\n",
       "    <tr>\n",
       "      <th rowspan=\"4\" valign=\"top\">finance</th>\n",
       "      <th>avg_turnover_(%)</th>\n",
       "      <td>74.704251</td>\n",
       "      <td>103.068568</td>\n",
       "    </tr>\n",
       "    <tr>\n",
       "      <th>turnover_frequency</th>\n",
       "      <td>&lt;5 * Minutes&gt;</td>\n",
       "      <td>&lt;5 * Minutes&gt;</td>\n",
       "    </tr>\n",
       "    <tr>\n",
       "      <th>avg_holding_period</th>\n",
       "      <td>1.338612</td>\n",
       "      <td>0.970228</td>\n",
       "    </tr>\n",
       "    <tr>\n",
       "      <th>holding_period_units</th>\n",
       "      <td>&lt;5 * Minutes&gt;</td>\n",
       "      <td>&lt;5 * Minutes&gt;</td>\n",
       "    </tr>\n",
       "    <tr>\n",
       "      <th rowspan=\"18\" valign=\"top\">sampling</th>\n",
       "      <th>start_time</th>\n",
       "      <td>2009-01-22 10:30:00-05:00</td>\n",
       "      <td>2009-01-22 10:30:00-05:00</td>\n",
       "    </tr>\n",
       "    <tr>\n",
       "      <th>end_time</th>\n",
       "      <td>2017-01-04 15:50:00-05:00</td>\n",
       "      <td>2018-12-31 15:50:00-05:00</td>\n",
       "    </tr>\n",
       "    <tr>\n",
       "      <th>n_sampling_points</th>\n",
       "      <td>151648</td>\n",
       "      <td>189473</td>\n",
       "    </tr>\n",
       "    <tr>\n",
       "      <th>frequency</th>\n",
       "      <td>&lt;5 * Minutes&gt;</td>\n",
       "      <td>&lt;5 * Minutes&gt;</td>\n",
       "    </tr>\n",
       "    <tr>\n",
       "      <th>sampling_points_per_year</th>\n",
       "      <td>105156.125</td>\n",
       "      <td>105156.125</td>\n",
       "    </tr>\n",
       "    <tr>\n",
       "      <th>time_span_in_years</th>\n",
       "      <td>7.954049</td>\n",
       "      <td>9.942407</td>\n",
       "    </tr>\n",
       "    <tr>\n",
       "      <th>n_rows</th>\n",
       "      <td>842208</td>\n",
       "      <td>1051296</td>\n",
       "    </tr>\n",
       "    <tr>\n",
       "      <th>frac_zero</th>\n",
       "      <td>0.000025</td>\n",
       "      <td>0.000002</td>\n",
       "    </tr>\n",
       "    <tr>\n",
       "      <th>frac_nan</th>\n",
       "      <td>0.81994</td>\n",
       "      <td>0.819772</td>\n",
       "    </tr>\n",
       "    <tr>\n",
       "      <th>frac_inf</th>\n",
       "      <td>0.0</td>\n",
       "      <td>0.0</td>\n",
       "    </tr>\n",
       "    <tr>\n",
       "      <th>frac_constant</th>\n",
       "      <td>0.000006</td>\n",
       "      <td>0.000001</td>\n",
       "    </tr>\n",
       "    <tr>\n",
       "      <th>num_finite_samples</th>\n",
       "      <td>151648</td>\n",
       "      <td>189473</td>\n",
       "    </tr>\n",
       "    <tr>\n",
       "      <th>num_finite_samples_inv</th>\n",
       "      <td>0.000007</td>\n",
       "      <td>0.000005</td>\n",
       "    </tr>\n",
       "    <tr>\n",
       "      <th>num_finite_samples_inv_dyadic_scale</th>\n",
       "      <td>-18</td>\n",
       "      <td>-18</td>\n",
       "    </tr>\n",
       "    <tr>\n",
       "      <th>num_finite_samples_sqrt</th>\n",
       "      <td>389.420082</td>\n",
       "      <td>435.284964</td>\n",
       "    </tr>\n",
       "    <tr>\n",
       "      <th>num_finite_samples_sqrt_inv</th>\n",
       "      <td>0.002568</td>\n",
       "      <td>0.002297</td>\n",
       "    </tr>\n",
       "    <tr>\n",
       "      <th>num_finite_samples_sqrt_inv_dyadic_scale</th>\n",
       "      <td>-9</td>\n",
       "      <td>-9</td>\n",
       "    </tr>\n",
       "    <tr>\n",
       "      <th>num_unique_values</th>\n",
       "      <td>151628</td>\n",
       "      <td>189472</td>\n",
       "    </tr>\n",
       "    <tr>\n",
       "      <th rowspan=\"15\" valign=\"top\">summary</th>\n",
       "      <th>scipy.mean</th>\n",
       "      <td>0.000009</td>\n",
       "      <td>0.000013</td>\n",
       "    </tr>\n",
       "    <tr>\n",
       "      <th>scipy.std</th>\n",
       "      <td>0.000727</td>\n",
       "      <td>0.000726</td>\n",
       "    </tr>\n",
       "    <tr>\n",
       "      <th>scipy.skew</th>\n",
       "      <td>0.134871</td>\n",
       "      <td>0.099982</td>\n",
       "    </tr>\n",
       "    <tr>\n",
       "      <th>scipy.kurtosis</th>\n",
       "      <td>21.332963</td>\n",
       "      <td>23.472136</td>\n",
       "    </tr>\n",
       "    <tr>\n",
       "      <th>null_mean_zero.tval</th>\n",
       "      <td>5.047094</td>\n",
       "      <td>7.847969</td>\n",
       "    </tr>\n",
       "    <tr>\n",
       "      <th>null_mean_zero.pval</th>\n",
       "      <td>0.0</td>\n",
       "      <td>0.0</td>\n",
       "    </tr>\n",
       "    <tr>\n",
       "      <th>jensen_ratio</th>\n",
       "      <td>0.51434</td>\n",
       "      <td>0.496457</td>\n",
       "    </tr>\n",
       "    <tr>\n",
       "      <th>count</th>\n",
       "      <td>151648.0</td>\n",
       "      <td>189473.0</td>\n",
       "    </tr>\n",
       "    <tr>\n",
       "      <th>mean</th>\n",
       "      <td>0.000009</td>\n",
       "      <td>0.000013</td>\n",
       "    </tr>\n",
       "    <tr>\n",
       "      <th>std</th>\n",
       "      <td>0.000727</td>\n",
       "      <td>0.000726</td>\n",
       "    </tr>\n",
       "    <tr>\n",
       "      <th>min</th>\n",
       "      <td>-0.009862</td>\n",
       "      <td>-0.009063</td>\n",
       "    </tr>\n",
       "    <tr>\n",
       "      <th>25%</th>\n",
       "      <td>-0.000154</td>\n",
       "      <td>-0.000136</td>\n",
       "    </tr>\n",
       "    <tr>\n",
       "      <th>50%</th>\n",
       "      <td>0.0</td>\n",
       "      <td>0.0</td>\n",
       "    </tr>\n",
       "    <tr>\n",
       "      <th>75%</th>\n",
       "      <td>0.000165</td>\n",
       "      <td>0.000155</td>\n",
       "    </tr>\n",
       "    <tr>\n",
       "      <th>max</th>\n",
       "      <td>0.009845</td>\n",
       "      <td>0.010012</td>\n",
       "    </tr>\n",
       "    <tr>\n",
       "      <th rowspan=\"14\" valign=\"top\">stationarity</th>\n",
       "      <th>adf.stat</th>\n",
       "      <td>-193.807623</td>\n",
       "      <td>-302.211734</td>\n",
       "    </tr>\n",
       "    <tr>\n",
       "      <th>adf.pval</th>\n",
       "      <td>0.0</td>\n",
       "      <td>0.0</td>\n",
       "    </tr>\n",
       "    <tr>\n",
       "      <th>adf.used_lag</th>\n",
       "      <td>3.0</td>\n",
       "      <td>1.0</td>\n",
       "    </tr>\n",
       "    <tr>\n",
       "      <th>adf.nobs</th>\n",
       "      <td>151644.0</td>\n",
       "      <td>189471.0</td>\n",
       "    </tr>\n",
       "    <tr>\n",
       "      <th>adf.critical_values_1%</th>\n",
       "      <td>-3.430393</td>\n",
       "      <td>-3.430385</td>\n",
       "    </tr>\n",
       "    <tr>\n",
       "      <th>adf.critical_values_5%</th>\n",
       "      <td>-2.861559</td>\n",
       "      <td>-2.861555</td>\n",
       "    </tr>\n",
       "    <tr>\n",
       "      <th>adf.critical_values_10%</th>\n",
       "      <td>-2.56678</td>\n",
       "      <td>-2.566778</td>\n",
       "    </tr>\n",
       "    <tr>\n",
       "      <th>adf.ic_best</th>\n",
       "      <td>-1763770.760299</td>\n",
       "      <td>-2201750.05464</td>\n",
       "    </tr>\n",
       "    <tr>\n",
       "      <th>kpss.stat</th>\n",
       "      <td>0.180366</td>\n",
       "      <td>0.460024</td>\n",
       "    </tr>\n",
       "    <tr>\n",
       "      <th>kpss.pval</th>\n",
       "      <td>0.1</td>\n",
       "      <td>0.051283</td>\n",
       "    </tr>\n",
       "    <tr>\n",
       "      <th>kpss.lags</th>\n",
       "      <td>16.0</td>\n",
       "      <td>16.0</td>\n",
       "    </tr>\n",
       "    <tr>\n",
       "      <th>kpss.critical_values_1%</th>\n",
       "      <td>0.739</td>\n",
       "      <td>0.739</td>\n",
       "    </tr>\n",
       "    <tr>\n",
       "      <th>kpss.critical_values_5%</th>\n",
       "      <td>0.463</td>\n",
       "      <td>0.463</td>\n",
       "    </tr>\n",
       "    <tr>\n",
       "      <th>kpss.critical_values_10%</th>\n",
       "      <td>0.347</td>\n",
       "      <td>0.347</td>\n",
       "    </tr>\n",
       "    <tr>\n",
       "      <th rowspan=\"4\" valign=\"top\">normality</th>\n",
       "      <th>omnibus_null_normal.stat</th>\n",
       "      <td>38227.508447</td>\n",
       "      <td>49298.114203</td>\n",
       "    </tr>\n",
       "    <tr>\n",
       "      <th>omnibus_null_normal.pval</th>\n",
       "      <td>0.0</td>\n",
       "      <td>0.0</td>\n",
       "    </tr>\n",
       "    <tr>\n",
       "      <th>centered_gaussian.log_likelihood</th>\n",
       "      <td>880771.623914</td>\n",
       "      <td>1100544.873006</td>\n",
       "    </tr>\n",
       "    <tr>\n",
       "      <th>centered_gaussian.centered_var</th>\n",
       "      <td>0.000001</td>\n",
       "      <td>0.000001</td>\n",
       "    </tr>\n",
       "    <tr>\n",
       "      <th>spectral</th>\n",
       "      <th>forecastability</th>\n",
       "      <td>0.004281</td>\n",
       "      <td>0.002079</td>\n",
       "    </tr>\n",
       "    <tr>\n",
       "      <th rowspan=\"5\" valign=\"top\">signal_quality</th>\n",
       "      <th>sharpe_ratio</th>\n",
       "      <td>1.783283</td>\n",
       "      <td>2.481734</td>\n",
       "    </tr>\n",
       "    <tr>\n",
       "      <th>sharpe_ratio_standard_error</th>\n",
       "      <td>0.353355</td>\n",
       "      <td>0.316272</td>\n",
       "    </tr>\n",
       "    <tr>\n",
       "      <th>sr.tval</th>\n",
       "      <td>5.047094</td>\n",
       "      <td>7.847969</td>\n",
       "    </tr>\n",
       "    <tr>\n",
       "      <th>sr.pval</th>\n",
       "      <td>0.0</td>\n",
       "      <td>0.0</td>\n",
       "    </tr>\n",
       "    <tr>\n",
       "      <th>kratio</th>\n",
       "      <td>1.52978</td>\n",
       "      <td>2.362469</td>\n",
       "    </tr>\n",
       "    <tr>\n",
       "      <th rowspan=\"6\" valign=\"top\">finance</th>\n",
       "      <th>annualized_mean_return_(%)</th>\n",
       "      <td>17.832829</td>\n",
       "      <td>24.817336</td>\n",
       "    </tr>\n",
       "    <tr>\n",
       "      <th>annualized_volatility_(%)</th>\n",
       "      <td>10.0</td>\n",
       "      <td>10.0</td>\n",
       "    </tr>\n",
       "    <tr>\n",
       "      <th>max_drawdown_(%)</th>\n",
       "      <td>-13.95689</td>\n",
       "      <td>-15.146512</td>\n",
       "    </tr>\n",
       "    <tr>\n",
       "      <th>hit_rate_point_est_(%)</th>\n",
       "      <td>50.59653</td>\n",
       "      <td>50.678468</td>\n",
       "    </tr>\n",
       "    <tr>\n",
       "      <th>hit_rate_97.50%CI_lower_bound_(%)</th>\n",
       "      <td>50.344869</td>\n",
       "      <td>50.453343</td>\n",
       "    </tr>\n",
       "    <tr>\n",
       "      <th>hit_rate_97.50%CI_upper_bound_(%)</th>\n",
       "      <td>50.848167</td>\n",
       "      <td>50.903572</td>\n",
       "    </tr>\n",
       "    <tr>\n",
       "      <th rowspan=\"2\" valign=\"top\">correlation</th>\n",
       "      <th>prediction_corr_implied_by_pnl</th>\n",
       "      <td>0.012961</td>\n",
       "      <td>0.01803</td>\n",
       "    </tr>\n",
       "    <tr>\n",
       "      <th>prediction_corr</th>\n",
       "      <td>0.015643</td>\n",
       "      <td>0.022514</td>\n",
       "    </tr>\n",
       "    <tr>\n",
       "      <th>signal_quality</th>\n",
       "      <th>sr_implied_by_prediction_corr</th>\n",
       "      <td>2.152248</td>\n",
       "      <td>3.09863</td>\n",
       "    </tr>\n",
       "    <tr>\n",
       "      <th>finance</th>\n",
       "      <th>hit_rate_implied_by_prediction_corr</th>\n",
       "      <td>0.508499</td>\n",
       "      <td>0.512176</td>\n",
       "    </tr>\n",
       "    <tr>\n",
       "      <th>correlation</th>\n",
       "      <th>prediction_corr_implied_by_hit_rate</th>\n",
       "      <td>0.010979</td>\n",
       "      <td>0.012543</td>\n",
       "    </tr>\n",
       "    <tr>\n",
       "      <th rowspan=\"13\" valign=\"top\">bets</th>\n",
       "      <th>num_positions</th>\n",
       "      <td>151648</td>\n",
       "      <td>189473</td>\n",
       "    </tr>\n",
       "    <tr>\n",
       "      <th>num_bets</th>\n",
       "      <td>35901</td>\n",
       "      <td>64134</td>\n",
       "    </tr>\n",
       "    <tr>\n",
       "      <th>long_bets_(%)</th>\n",
       "      <td>50.001393</td>\n",
       "      <td>50.0</td>\n",
       "    </tr>\n",
       "    <tr>\n",
       "      <th>avg_num_bets_per_year</th>\n",
       "      <td>4482.51506</td>\n",
       "      <td>6415.01815</td>\n",
       "    </tr>\n",
       "    <tr>\n",
       "      <th>avg_bet_length</th>\n",
       "      <td>4.224061</td>\n",
       "      <td>2.95433</td>\n",
       "    </tr>\n",
       "    <tr>\n",
       "      <th>bet_length_units</th>\n",
       "      <td>5 * Minutes</td>\n",
       "      <td>5 * Minutes</td>\n",
       "    </tr>\n",
       "    <tr>\n",
       "      <th>bet_hit_rate_point_est_(%)</th>\n",
       "      <td>61.649025</td>\n",
       "      <td>60.099167</td>\n",
       "    </tr>\n",
       "    <tr>\n",
       "      <th>bet_hit_rate_97.50%CI_lower_bound_(%)</th>\n",
       "      <td>61.145121</td>\n",
       "      <td>59.719727</td>\n",
       "    </tr>\n",
       "    <tr>\n",
       "      <th>bet_hit_rate_97.50%CI_upper_bound_(%)</th>\n",
       "      <td>62.151051</td>\n",
       "      <td>60.477696</td>\n",
       "    </tr>\n",
       "    <tr>\n",
       "      <th>avg_return_winning_bets_(%)</th>\n",
       "      <td>0.057892</td>\n",
       "      <td>0.051754</td>\n",
       "    </tr>\n",
       "    <tr>\n",
       "      <th>avg_return_losing_bets_(%)</th>\n",
       "      <td>-0.082626</td>\n",
       "      <td>-0.068213</td>\n",
       "    </tr>\n",
       "    <tr>\n",
       "      <th>avg_return_long_bet_(%)</th>\n",
       "      <td>0.005529</td>\n",
       "      <td>0.004571</td>\n",
       "    </tr>\n",
       "    <tr>\n",
       "      <th>avg_return_short_bet_(%)</th>\n",
       "      <td>0.002428</td>\n",
       "      <td>0.003166</td>\n",
       "    </tr>\n",
       "    <tr>\n",
       "      <th>correlation</th>\n",
       "      <th>pnl_corr_to_underlying</th>\n",
       "      <td>0.004257</td>\n",
       "      <td>0.007853</td>\n",
       "    </tr>\n",
       "    <tr>\n",
       "      <th>signal_quality</th>\n",
       "      <th>sr.adj_pval</th>\n",
       "      <td>0.0</td>\n",
       "      <td>0.0</td>\n",
       "    </tr>\n",
       "  </tbody>\n",
       "</table>\n",
       "</div>"
      ],
      "text/plain": [
       "                                                                                 0                          1\n",
       "finance        avg_turnover_(%)                                          74.704251                 103.068568\n",
       "               turnover_frequency                                    <5 * Minutes>              <5 * Minutes>\n",
       "               avg_holding_period                                         1.338612                   0.970228\n",
       "               holding_period_units                                  <5 * Minutes>              <5 * Minutes>\n",
       "sampling       start_time                                2009-01-22 10:30:00-05:00  2009-01-22 10:30:00-05:00\n",
       "               end_time                                  2017-01-04 15:50:00-05:00  2018-12-31 15:50:00-05:00\n",
       "               n_sampling_points                                            151648                     189473\n",
       "               frequency                                             <5 * Minutes>              <5 * Minutes>\n",
       "               sampling_points_per_year                                 105156.125                 105156.125\n",
       "               time_span_in_years                                         7.954049                   9.942407\n",
       "               n_rows                                                       842208                    1051296\n",
       "               frac_zero                                                  0.000025                   0.000002\n",
       "               frac_nan                                                    0.81994                   0.819772\n",
       "               frac_inf                                                        0.0                        0.0\n",
       "               frac_constant                                              0.000006                   0.000001\n",
       "               num_finite_samples                                           151648                     189473\n",
       "               num_finite_samples_inv                                     0.000007                   0.000005\n",
       "               num_finite_samples_inv_dyadic_scale                             -18                        -18\n",
       "               num_finite_samples_sqrt                                  389.420082                 435.284964\n",
       "               num_finite_samples_sqrt_inv                                0.002568                   0.002297\n",
       "               num_finite_samples_sqrt_inv_dyadic_scale                         -9                         -9\n",
       "               num_unique_values                                            151628                     189472\n",
       "summary        scipy.mean                                                 0.000009                   0.000013\n",
       "               scipy.std                                                  0.000727                   0.000726\n",
       "               scipy.skew                                                 0.134871                   0.099982\n",
       "               scipy.kurtosis                                            21.332963                  23.472136\n",
       "               null_mean_zero.tval                                        5.047094                   7.847969\n",
       "               null_mean_zero.pval                                             0.0                        0.0\n",
       "               jensen_ratio                                                0.51434                   0.496457\n",
       "               count                                                      151648.0                   189473.0\n",
       "               mean                                                       0.000009                   0.000013\n",
       "               std                                                        0.000727                   0.000726\n",
       "               min                                                       -0.009862                  -0.009063\n",
       "               25%                                                       -0.000154                  -0.000136\n",
       "               50%                                                             0.0                        0.0\n",
       "               75%                                                        0.000165                   0.000155\n",
       "               max                                                        0.009845                   0.010012\n",
       "stationarity   adf.stat                                                -193.807623                -302.211734\n",
       "               adf.pval                                                        0.0                        0.0\n",
       "               adf.used_lag                                                    3.0                        1.0\n",
       "               adf.nobs                                                   151644.0                   189471.0\n",
       "               adf.critical_values_1%                                    -3.430393                  -3.430385\n",
       "               adf.critical_values_5%                                    -2.861559                  -2.861555\n",
       "               adf.critical_values_10%                                    -2.56678                  -2.566778\n",
       "               adf.ic_best                                         -1763770.760299             -2201750.05464\n",
       "               kpss.stat                                                  0.180366                   0.460024\n",
       "               kpss.pval                                                       0.1                   0.051283\n",
       "               kpss.lags                                                      16.0                       16.0\n",
       "               kpss.critical_values_1%                                       0.739                      0.739\n",
       "               kpss.critical_values_5%                                       0.463                      0.463\n",
       "               kpss.critical_values_10%                                      0.347                      0.347\n",
       "normality      omnibus_null_normal.stat                               38227.508447               49298.114203\n",
       "               omnibus_null_normal.pval                                        0.0                        0.0\n",
       "               centered_gaussian.log_likelihood                      880771.623914             1100544.873006\n",
       "               centered_gaussian.centered_var                             0.000001                   0.000001\n",
       "spectral       forecastability                                            0.004281                   0.002079\n",
       "signal_quality sharpe_ratio                                               1.783283                   2.481734\n",
       "               sharpe_ratio_standard_error                                0.353355                   0.316272\n",
       "               sr.tval                                                    5.047094                   7.847969\n",
       "               sr.pval                                                         0.0                        0.0\n",
       "               kratio                                                      1.52978                   2.362469\n",
       "finance        annualized_mean_return_(%)                                17.832829                  24.817336\n",
       "               annualized_volatility_(%)                                      10.0                       10.0\n",
       "               max_drawdown_(%)                                          -13.95689                 -15.146512\n",
       "               hit_rate_point_est_(%)                                     50.59653                  50.678468\n",
       "               hit_rate_97.50%CI_lower_bound_(%)                         50.344869                  50.453343\n",
       "               hit_rate_97.50%CI_upper_bound_(%)                         50.848167                  50.903572\n",
       "correlation    prediction_corr_implied_by_pnl                             0.012961                    0.01803\n",
       "               prediction_corr                                            0.015643                   0.022514\n",
       "signal_quality sr_implied_by_prediction_corr                              2.152248                    3.09863\n",
       "finance        hit_rate_implied_by_prediction_corr                        0.508499                   0.512176\n",
       "correlation    prediction_corr_implied_by_hit_rate                        0.010979                   0.012543\n",
       "bets           num_positions                                                151648                     189473\n",
       "               num_bets                                                      35901                      64134\n",
       "               long_bets_(%)                                             50.001393                       50.0\n",
       "               avg_num_bets_per_year                                    4482.51506                 6415.01815\n",
       "               avg_bet_length                                             4.224061                    2.95433\n",
       "               bet_length_units                                        5 * Minutes                5 * Minutes\n",
       "               bet_hit_rate_point_est_(%)                                61.649025                  60.099167\n",
       "               bet_hit_rate_97.50%CI_lower_bound_(%)                     61.145121                  59.719727\n",
       "               bet_hit_rate_97.50%CI_upper_bound_(%)                     62.151051                  60.477696\n",
       "               avg_return_winning_bets_(%)                                0.057892                   0.051754\n",
       "               avg_return_losing_bets_(%)                                -0.082626                  -0.068213\n",
       "               avg_return_long_bet_(%)                                    0.005529                   0.004571\n",
       "               avg_return_short_bet_(%)                                   0.002428                   0.003166\n",
       "correlation    pnl_corr_to_underlying                                     0.004257                   0.007853\n",
       "signal_quality sr.adj_pval                                                     0.0                        0.0"
      ]
     },
     "metadata": {},
     "output_type": "display_data"
    }
   ],
   "source": [
    "pnl_stats = evaluator.calculate_stats(\n",
    "    mode=eval_config[\"mode\"], target_volatility=eval_config[\"target_volatility\"]\n",
    ")\n",
    "display(pnl_stats)"
   ]
  },
  {
   "cell_type": "markdown",
   "id": "c36bf064",
   "metadata": {},
   "source": [
    "## Model selection"
   ]
  },
  {
   "cell_type": "code",
   "execution_count": null,
   "id": "b6fecfb5",
   "metadata": {},
   "outputs": [],
   "source": [
    "plotter.plot_multiple_tests_adjustment(\n",
    "    threshold=eval_config[\"bh_adj_threshold\"], mode=eval_config[\"mode\"]\n",
    ")"
   ]
  },
  {
   "cell_type": "code",
   "execution_count": null,
   "id": "b5b44ae9",
   "metadata": {},
   "outputs": [],
   "source": [
    "# TODO(gp): Move this chunk of code in a function.\n",
    "col_mask = (\n",
    "    pnl_stats.loc[\"signal_quality\"].loc[\"sr.adj_pval\"]\n",
    "    < eval_config[\"bh_adj_threshold\"]\n",
    ")\n",
    "selected = pnl_stats.loc[:, col_mask].columns.to_list()\n",
    "not_selected = pnl_stats.loc[:, ~col_mask].columns.to_list()\n",
    "\n",
    "print(\"num model selected=%s\" % hprint.perc(len(selected), pnl_stats.shape[1]))\n",
    "print(\"model selected=%s\" % selected)\n",
    "print(\"model not selected=%s\" % not_selected)\n",
    "\n",
    "# Use `selected = None` to show all the models."
   ]
  },
  {
   "cell_type": "code",
   "execution_count": null,
   "id": "1736ff88",
   "metadata": {},
   "outputs": [],
   "source": [
    "plotter.plot_multiple_pnls(\n",
    "    keys=selected,\n",
    "    resample_rule=eval_config[\"resample_rule\"],\n",
    "    mode=eval_config[\"mode\"],\n",
    ")"
   ]
  },
  {
   "cell_type": "markdown",
   "id": "9821d152",
   "metadata": {},
   "source": [
    "## Return correlation"
   ]
  },
  {
   "cell_type": "code",
   "execution_count": null,
   "id": "1d0698e1",
   "metadata": {},
   "outputs": [],
   "source": [
    "plotter.plot_correlation_matrix(\n",
    "    series=\"returns\",\n",
    "    resample_rule=eval_config[\"resample_rule\"],\n",
    "    mode=eval_config[\"mode\"],\n",
    ")"
   ]
  },
  {
   "cell_type": "code",
   "execution_count": null,
   "id": "749d6378",
   "metadata": {},
   "outputs": [],
   "source": [
    "plotter.plot_effective_correlation_rank(\n",
    "    series=\"returns\",\n",
    "    resample_rule=eval_config[\"resample_rule\"],\n",
    "    mode=eval_config[\"mode\"],\n",
    ")"
   ]
  },
  {
   "cell_type": "markdown",
   "id": "4a7c60d9",
   "metadata": {},
   "source": [
    "## Model correlation"
   ]
  },
  {
   "cell_type": "code",
   "execution_count": null,
   "id": "c5e7659a",
   "metadata": {},
   "outputs": [],
   "source": [
    "plotter.plot_correlation_matrix(\n",
    "    series=\"pnl\",\n",
    "    resample_rule=eval_config[\"resample_rule\"],\n",
    "    mode=eval_config[\"mode\"],\n",
    ")"
   ]
  },
  {
   "cell_type": "code",
   "execution_count": null,
   "id": "b7938396",
   "metadata": {},
   "outputs": [],
   "source": [
    "plotter.plot_effective_correlation_rank(\n",
    "    series=\"pnl\",\n",
    "    resample_rule=eval_config[\"resample_rule\"],\n",
    "    mode=eval_config[\"mode\"],\n",
    ")"
   ]
  },
  {
   "cell_type": "markdown",
   "id": "215ed5cc",
   "metadata": {},
   "source": [
    "## Aggregate model"
   ]
  },
  {
   "cell_type": "code",
   "execution_count": null,
   "id": "c23ae6ee",
   "metadata": {},
   "outputs": [],
   "source": [
    "pnl_srs, pos_srs, aggregate_stats = evaluator.aggregate_models(\n",
    "    keys=selected,\n",
    "    mode=eval_config[\"mode\"],\n",
    "    target_volatility=eval_config[\"target_volatility\"],\n",
    ")\n",
    "display(aggregate_stats)"
   ]
  },
  {
   "cell_type": "code",
   "execution_count": null,
   "id": "c61ac477",
   "metadata": {},
   "outputs": [],
   "source": [
    "plotter.plot_sharpe_ratio_panel(keys=selected, mode=eval_config[\"mode\"])"
   ]
  },
  {
   "cell_type": "code",
   "execution_count": null,
   "id": "e6ab0618",
   "metadata": {},
   "outputs": [],
   "source": [
    "plotter.plot_rets_signal_analysis(\n",
    "    keys=selected,\n",
    "    resample_rule=eval_config[\"resample_rule\"],\n",
    "    mode=eval_config[\"mode\"],\n",
    "    target_volatility=eval_config[\"target_volatility\"],\n",
    ")"
   ]
  },
  {
   "cell_type": "code",
   "execution_count": null,
   "id": "17854931",
   "metadata": {},
   "outputs": [],
   "source": [
    "plotter.plot_performance(\n",
    "    keys=selected,\n",
    "    resample_rule=eval_config[\"resample_rule\"],\n",
    "    mode=eval_config[\"mode\"],\n",
    "    target_volatility=eval_config[\"target_volatility\"],\n",
    ")"
   ]
  },
  {
   "cell_type": "code",
   "execution_count": null,
   "id": "27a3a550",
   "metadata": {},
   "outputs": [],
   "source": [
    "plotter.plot_rets_and_vol(\n",
    "    keys=selected,\n",
    "    resample_rule=eval_config[\"resample_rule\"],\n",
    "    mode=eval_config[\"mode\"],\n",
    "    target_volatility=eval_config[\"target_volatility\"],\n",
    ")"
   ]
  },
  {
   "cell_type": "code",
   "execution_count": null,
   "id": "fbc20dd2",
   "metadata": {},
   "outputs": [],
   "source": [
    "assert 0"
   ]
  },
  {
   "cell_type": "code",
   "execution_count": null,
   "id": "628273de",
   "metadata": {},
   "outputs": [],
   "source": [
    "plotter.plot_positions(\n",
    "    keys=selected,\n",
    "    mode=eval_config[\"mode\"],\n",
    "    target_volatility=eval_config[\"target_volatility\"],\n",
    ")"
   ]
  },
  {
   "cell_type": "code",
   "execution_count": null,
   "id": "00e9e05f",
   "metadata": {},
   "outputs": [],
   "source": [
    "# Plot the returns and prediction for one or more models.\n",
    "model_key = selected[:1]\n",
    "plotter.plot_returns_and_predictions(\n",
    "    keys=model_key,\n",
    "    resample_rule=eval_config[\"resample_rule\"],\n",
    "    mode=eval_config[\"mode\"],\n",
    ")"
   ]
  }
 ],
 "metadata": {
  "jupytext": {
   "text_representation": {
    "extension": ".py",
    "format_name": "percent",
    "format_version": "1.3",
    "jupytext_version": "1.11.4"
   }
  },
  "kernelspec": {
   "display_name": "Python 3 (ipykernel)",
   "language": "python",
   "name": "python3"
  },
  "language_info": {
   "codemirror_mode": {
    "name": "ipython",
    "version": 3
   },
   "file_extension": ".py",
   "mimetype": "text/x-python",
   "name": "python",
   "nbconvert_exporter": "python",
   "pygments_lexer": "ipython3",
   "version": "3.8.10"
  },
  "toc": {
   "base_numbering": 1,
   "nav_menu": {},
   "number_sections": true,
   "sideBar": true,
   "skip_h1_title": false,
   "title_cell": "Table of Contents",
   "title_sidebar": "Contents",
   "toc_cell": false,
   "toc_position": {},
   "toc_section_display": true,
   "toc_window_display": false
  }
 },
 "nbformat": 4,
 "nbformat_minor": 5
}
