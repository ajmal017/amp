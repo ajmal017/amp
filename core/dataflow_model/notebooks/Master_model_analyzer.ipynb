{
 "cells": [
  {
   "cell_type": "markdown",
   "id": "a0cfeac2",
   "metadata": {},
   "source": [
    "# Description\n",
    "\n",
    "- Initialize with returns, predictions, target volatility, and oos start date\n",
    "- Evaluate portfolios generated from the predictions"
   ]
  },
  {
   "cell_type": "markdown",
   "id": "126c8435",
   "metadata": {},
   "source": [
    "# Imports"
   ]
  },
  {
   "cell_type": "code",
   "execution_count": 1,
   "id": "abf41299",
   "metadata": {
    "ExecuteTime": {
     "end_time": "2021-09-03T20:51:59.986137Z",
     "start_time": "2021-09-03T20:51:54.446414Z"
    }
   },
   "outputs": [],
   "source": [
    "%load_ext autoreload\n",
    "%autoreload 2\n",
    "\n",
    "import logging\n",
    "\n",
    "import core.config as cconfig\n",
    "import core.dataflow_model.model_evaluator as modeval\n",
    "import core.dataflow_model.model_plotter as modplot\n",
    "import core.dataflow_model.utils as cdmu\n",
    "import helpers.dbg as dbg\n",
    "import helpers.printing as hprint"
   ]
  },
  {
   "cell_type": "code",
   "execution_count": 2,
   "id": "eee79ad8",
   "metadata": {
    "ExecuteTime": {
     "end_time": "2021-09-03T20:52:00.077166Z",
     "start_time": "2021-09-03T20:51:59.998683Z"
    }
   },
   "outputs": [
    {
     "name": "stdout",
     "output_type": "stream",
     "text": [
      "\u001b[0m\u001b[36mINFO\u001b[0m: > cmd='/venv/lib/python3.8/site-packages/ipykernel_launcher.py -f /root/.local/share/jupyter/runtime/kernel-e7715308-84ba-4edd-b1e4-1aeda980ba61.json'\n",
      "\u001b[33mWARNING\u001b[0m: Running in Jupyter\n",
      "\u001b[33mWARNING\u001b[0m: Disabling annoying warnings\n"
     ]
    }
   ],
   "source": [
    "dbg.init_logger(verbosity=logging.INFO)\n",
    "#dbg.init_logger(verbosity=logging.DEBUG)\n",
    "\n",
    "_LOG = logging.getLogger(__name__)\n",
    "\n",
    "# _LOG.info(\"%s\", env.get_system_signature()[0])\n",
    "\n",
    "hprint.config_notebook()"
   ]
  },
  {
   "cell_type": "markdown",
   "id": "c0c17e86",
   "metadata": {},
   "source": [
    "# Notebook config"
   ]
  },
  {
   "cell_type": "code",
   "execution_count": 3,
   "id": "a9c3584e",
   "metadata": {
    "ExecuteTime": {
     "end_time": "2021-09-03T20:52:00.142316Z",
     "start_time": "2021-09-03T20:52:00.079907Z"
    }
   },
   "outputs": [],
   "source": [
    "#exp_dir = \"s3://eglp-spm-sasm/experiments/experiment.RH2Ef.v1_9-all.5T.20210831-004747.run1.tgz\"\n",
    "exp_dir = \"./experiment.RH2Ef.v1_9-all.5T.20210831-004747.run1.tgz\"# exp_dir = \"s3://alphamatic-data/experiments/...\"\n",
    "\n",
    "eval_config = cconfig.get_config_from_nested_dict(\n",
    "    {\n",
    "        \"exp_dir\": exp_dir,\n",
    "        \"model_evaluator_kwargs\": {\n",
    "            \"returns_col\": \"vwap_ret_0_vol_adj_clipped_2\",\n",
    "            \"predictions_col\": \"vwap_ret_0_vol_adj_clipped_2\",\n",
    "            #\"oos_start\": \"2017-01-01\",\n",
    "        },\n",
    "        \"bh_adj_threshold\": 0.1,\n",
    "        \"resample_rule\": \"W\",\n",
    "        \"mode\": \"ins\",\n",
    "        \"target_volatility\": 0.1,\n",
    "    }\n",
    ")"
   ]
  },
  {
   "cell_type": "markdown",
   "id": "8142e65d",
   "metadata": {},
   "source": [
    "# Initialize ModelEvaluator and ModelPlotter"
   ]
  },
  {
   "cell_type": "code",
   "execution_count": 23,
   "id": "196bfb6a",
   "metadata": {
    "ExecuteTime": {
     "end_time": "2021-09-03T22:09:41.581568Z",
     "start_time": "2021-09-03T22:09:41.164811Z"
    }
   },
   "outputs": [
    {
     "data": {
      "text/plain": [
       "<AxesSubplot:xlabel='x'>"
      ]
     },
     "execution_count": 23,
     "metadata": {},
     "output_type": "execute_result"
    },
    {
     "data": {
      "image/png": "[encoded data removed]",
      "text/plain": [
       "<Figure size 1440x360 with 1 Axes>"
      ]
     },
     "metadata": {},
     "output_type": "display_data"
    }
   ],
   "source": [
    "import pandas as pd\n",
    "import core.signal_processing as csigna\n",
    "\n",
    "xs = [x / 10 for x in range(-10, 10)]\n",
    "#y = [csigna.c_infinity(x) for x in xs]\n",
    "y = [csigna.c_infinity_step_function(x) for x in xs]\n",
    "#y = [csigna.c_infinity_bump_function(x, 2, 10) for x in xs]\n",
    "\n",
    "df = pd.DataFrame()\n",
    "df[\"x\"] = pd.Series(xs)\n",
    "df[\"y\"] = pd.Series(y)\n",
    "\n",
    "df.plot(\"x\")"
   ]
  },
  {
   "cell_type": "code",
   "execution_count": 5,
   "id": "371704c7",
   "metadata": {
    "ExecuteTime": {
     "end_time": "2021-09-03T20:52:18.941813Z",
     "start_time": "2021-09-03T20:52:18.876210Z"
    }
   },
   "outputs": [],
   "source": [
    "# Load the data.\n",
    "selected_idxs = list(range(2))\n",
    "result_bundles = cdmu.yield_experiment_artifacts(\n",
    "    eval_config[\"exp_dir\"],\n",
    "    \"result_bundle.pkl\",\n",
    "    selected_idxs=selected_idxs,\n",
    ")"
   ]
  },
  {
   "cell_type": "code",
   "execution_count": 6,
   "id": "d42c7b21",
   "metadata": {
    "ExecuteTime": {
     "end_time": "2021-09-03T20:52:28.465509Z",
     "start_time": "2021-09-03T20:52:20.774999Z"
    }
   },
   "outputs": [
    {
     "name": "stdout",
     "output_type": "stream",
     "text": [
      "# Load artifacts 'result_bundle.pkl' from './experiment.RH2Ef.v1_9-all.5T.20210831-004747.run1.tgz'\n",
      "While expanding './experiment.RH2Ef.v1_9-all.5T.20210831-004747.run1.tgz' dst dir './experiment.RH2Ef.v1_9-all.5T.run1/' already exists: skipping\n",
      "Found 534 experiment subdirs in './experiment.RH2Ef.v1_9-all.5T.run1/'\n"
     ]
    },
    {
     "data": {
      "application/vnd.jupyter.widget-view+json": {
       "model_id": "d51fc9a83bae446d9460d83aa3c5a7de",
       "version_major": 2,
       "version_minor": 0
      },
      "text/plain": [
       "Loading artifacts:   0%|          | 0/2 [00:00<?, ?it/s]"
      ]
     },
     "metadata": {},
     "output_type": "display_data"
    }
   ],
   "source": [
    "# Build the ModelEvaluator.\n",
    "evaluator = modeval.build_model_evaluator_from_result_bundles(\n",
    "    result_bundles,\n",
    "    abort_on_error=False,\n",
    "    **eval_config[\"model_evaluator_kwargs\"].to_dict(),\n",
    ")\n",
    "# Build the ModelPlotter.\n",
    "plotter = modplot.ModelPlotter(evaluator)"
   ]
  },
  {
   "cell_type": "code",
   "execution_count": 7,
   "id": "919c5ba3",
   "metadata": {
    "ExecuteTime": {
     "end_time": "2021-09-03T20:52:41.360490Z",
     "start_time": "2021-09-03T20:52:41.276795Z"
    }
   },
   "outputs": [
    {
     "data": {
      "text/plain": [
       "{0:                            vwap_ret_0_vol_adj_clipped_2  vwap_ret_0_vol_adj_clipped_2\n",
       " end_time                                                                             \n",
       " 2009-01-02 09:05:00-05:00                           NaN                           NaN\n",
       " 2009-01-02 09:10:00-05:00                           NaN                           NaN\n",
       " 2009-01-02 09:15:00-05:00                           NaN                           NaN\n",
       " 2009-01-02 09:20:00-05:00                           NaN                           NaN\n",
       " 2009-01-02 09:25:00-05:00                           NaN                           NaN\n",
       " ...                                                 ...                           ...\n",
       " 2017-01-04 16:40:00-05:00                           NaN                           NaN\n",
       " 2017-01-04 16:45:00-05:00                           NaN                           NaN\n",
       " 2017-01-04 16:50:00-05:00                           NaN                           NaN\n",
       " 2017-01-04 16:55:00-05:00                           NaN                           NaN\n",
       " 2017-01-04 17:00:00-05:00                           NaN                           NaN\n",
       " \n",
       " [842208 rows x 2 columns],\n",
       " 1:                            vwap_ret_0_vol_adj_clipped_2  vwap_ret_0_vol_adj_clipped_2\n",
       " end_time                                                                             \n",
       " 2009-01-02 09:05:00-05:00                           NaN                           NaN\n",
       " 2009-01-02 09:10:00-05:00                           NaN                           NaN\n",
       " 2009-01-02 09:15:00-05:00                           NaN                           NaN\n",
       " 2009-01-02 09:20:00-05:00                           NaN                           NaN\n",
       " 2009-01-02 09:25:00-05:00                           NaN                           NaN\n",
       " ...                                                 ...                           ...\n",
       " 2018-12-31 16:40:00-05:00                           NaN                           NaN\n",
       " 2018-12-31 16:45:00-05:00                           NaN                           NaN\n",
       " 2018-12-31 16:50:00-05:00                           NaN                           NaN\n",
       " 2018-12-31 16:55:00-05:00                           NaN                           NaN\n",
       " 2018-12-31 17:00:00-05:00                           NaN                           NaN\n",
       " \n",
       " [1051296 rows x 2 columns]}"
      ]
     },
     "execution_count": 7,
     "metadata": {},
     "output_type": "execute_result"
    }
   ],
   "source": [
    "evaluator._data"
   ]
  },
  {
   "cell_type": "markdown",
   "id": "2ab68b06",
   "metadata": {},
   "source": [
    "# Analysis"
   ]
  },
  {
   "cell_type": "code",
   "execution_count": null,
   "id": "f353ea8a",
   "metadata": {
    "ExecuteTime": {
     "end_time": "2021-09-02T20:11:41.001845Z",
     "start_time": "2021-09-02T20:11:27.177665Z"
    }
   },
   "outputs": [],
   "source": [
    "pnl_stats = evaluator.calculate_stats(\n",
    "    mode=eval_config[\"mode\"], target_volatility=eval_config[\"target_volatility\"]\n",
    ")\n",
    "display(pnl_stats)"
   ]
  },
  {
   "cell_type": "markdown",
   "id": "c36bf064",
   "metadata": {},
   "source": [
    "## Model selection"
   ]
  },
  {
   "cell_type": "code",
   "execution_count": null,
   "id": "b6fecfb5",
   "metadata": {},
   "outputs": [],
   "source": [
    "plotter.plot_multiple_tests_adjustment(\n",
    "    threshold=eval_config[\"bh_adj_threshold\"], mode=eval_config[\"mode\"]\n",
    ")"
   ]
  },
  {
   "cell_type": "code",
   "execution_count": null,
   "id": "b5b44ae9",
   "metadata": {},
   "outputs": [],
   "source": [
    "# TODO(gp): Move this chunk of code in a function.\n",
    "col_mask = (\n",
    "    pnl_stats.loc[\"signal_quality\"].loc[\"sr.adj_pval\"]\n",
    "    < eval_config[\"bh_adj_threshold\"]\n",
    ")\n",
    "selected = pnl_stats.loc[:, col_mask].columns.to_list()\n",
    "not_selected = pnl_stats.loc[:, ~col_mask].columns.to_list()\n",
    "\n",
    "print(\"num model selected=%s\" % hprint.perc(len(selected), pnl_stats.shape[1]))\n",
    "print(\"model selected=%s\" % selected)\n",
    "print(\"model not selected=%s\" % not_selected)\n",
    "\n",
    "# Use `selected = None` to show all the models."
   ]
  },
  {
   "cell_type": "code",
   "execution_count": null,
   "id": "1736ff88",
   "metadata": {},
   "outputs": [],
   "source": [
    "plotter.plot_multiple_pnls(\n",
    "    keys=selected,\n",
    "    resample_rule=eval_config[\"resample_rule\"],\n",
    "    mode=eval_config[\"mode\"],\n",
    ")"
   ]
  },
  {
   "cell_type": "markdown",
   "id": "9821d152",
   "metadata": {},
   "source": [
    "## Return correlation"
   ]
  },
  {
   "cell_type": "code",
   "execution_count": null,
   "id": "1d0698e1",
   "metadata": {},
   "outputs": [],
   "source": [
    "plotter.plot_correlation_matrix(\n",
    "    series=\"returns\",\n",
    "    resample_rule=eval_config[\"resample_rule\"],\n",
    "    mode=eval_config[\"mode\"],\n",
    ")"
   ]
  },
  {
   "cell_type": "code",
   "execution_count": null,
   "id": "749d6378",
   "metadata": {},
   "outputs": [],
   "source": [
    "plotter.plot_effective_correlation_rank(\n",
    "    series=\"returns\",\n",
    "    resample_rule=eval_config[\"resample_rule\"],\n",
    "    mode=eval_config[\"mode\"],\n",
    ")"
   ]
  },
  {
   "cell_type": "markdown",
   "id": "4a7c60d9",
   "metadata": {},
   "source": [
    "## Model correlation"
   ]
  },
  {
   "cell_type": "code",
   "execution_count": null,
   "id": "c5e7659a",
   "metadata": {},
   "outputs": [],
   "source": [
    "plotter.plot_correlation_matrix(\n",
    "    series=\"pnl\",\n",
    "    resample_rule=eval_config[\"resample_rule\"],\n",
    "    mode=eval_config[\"mode\"],\n",
    ")"
   ]
  },
  {
   "cell_type": "code",
   "execution_count": null,
   "id": "b7938396",
   "metadata": {},
   "outputs": [],
   "source": [
    "plotter.plot_effective_correlation_rank(\n",
    "    series=\"pnl\",\n",
    "    resample_rule=eval_config[\"resample_rule\"],\n",
    "    mode=eval_config[\"mode\"],\n",
    ")"
   ]
  },
  {
   "cell_type": "markdown",
   "id": "215ed5cc",
   "metadata": {},
   "source": [
    "## Aggregate model"
   ]
  },
  {
   "cell_type": "code",
   "execution_count": null,
   "id": "c23ae6ee",
   "metadata": {},
   "outputs": [],
   "source": [
    "pnl_srs, pos_srs, aggregate_stats = evaluator.aggregate_models(\n",
    "    keys=selected,\n",
    "    mode=eval_config[\"mode\"],\n",
    "    target_volatility=eval_config[\"target_volatility\"],\n",
    ")\n",
    "display(aggregate_stats)"
   ]
  },
  {
   "cell_type": "code",
   "execution_count": null,
   "id": "c61ac477",
   "metadata": {},
   "outputs": [],
   "source": [
    "plotter.plot_sharpe_ratio_panel(keys=selected, mode=eval_config[\"mode\"])"
   ]
  },
  {
   "cell_type": "code",
   "execution_count": null,
   "id": "e6ab0618",
   "metadata": {},
   "outputs": [],
   "source": [
    "plotter.plot_rets_signal_analysis(\n",
    "    keys=selected,\n",
    "    resample_rule=eval_config[\"resample_rule\"],\n",
    "    mode=eval_config[\"mode\"],\n",
    "    target_volatility=eval_config[\"target_volatility\"],\n",
    ")"
   ]
  },
  {
   "cell_type": "code",
   "execution_count": null,
   "id": "17854931",
   "metadata": {},
   "outputs": [],
   "source": [
    "plotter.plot_performance(\n",
    "    keys=selected,\n",
    "    resample_rule=eval_config[\"resample_rule\"],\n",
    "    mode=eval_config[\"mode\"],\n",
    "    target_volatility=eval_config[\"target_volatility\"],\n",
    ")"
   ]
  },
  {
   "cell_type": "code",
   "execution_count": null,
   "id": "27a3a550",
   "metadata": {},
   "outputs": [],
   "source": [
    "plotter.plot_rets_and_vol(\n",
    "    keys=selected,\n",
    "    resample_rule=eval_config[\"resample_rule\"],\n",
    "    mode=eval_config[\"mode\"],\n",
    "    target_volatility=eval_config[\"target_volatility\"],\n",
    ")"
   ]
  },
  {
   "cell_type": "code",
   "execution_count": null,
   "id": "fbc20dd2",
   "metadata": {},
   "outputs": [],
   "source": [
    "assert 0"
   ]
  },
  {
   "cell_type": "code",
   "execution_count": null,
   "id": "628273de",
   "metadata": {},
   "outputs": [],
   "source": [
    "plotter.plot_positions(\n",
    "    keys=selected,\n",
    "    mode=eval_config[\"mode\"],\n",
    "    target_volatility=eval_config[\"target_volatility\"],\n",
    ")"
   ]
  },
  {
   "cell_type": "code",
   "execution_count": null,
   "id": "00e9e05f",
   "metadata": {},
   "outputs": [],
   "source": [
    "# Plot the returns and prediction for one or more models.\n",
    "model_key = selected[:1]\n",
    "plotter.plot_returns_and_predictions(\n",
    "    keys=model_key,\n",
    "    resample_rule=eval_config[\"resample_rule\"],\n",
    "    mode=eval_config[\"mode\"],\n",
    ")"
   ]
  }
 ],
 "metadata": {
  "jupytext": {
   "text_representation": {
    "extension": ".py",
    "format_name": "percent",
    "format_version": "1.3",
    "jupytext_version": "1.11.4"
   }
  },
  "kernelspec": {
   "display_name": "Python 3 (ipykernel)",
   "language": "python",
   "name": "python3"
  },
  "language_info": {
   "codemirror_mode": {
    "name": "ipython",
    "version": 3
   },
   "file_extension": ".py",
   "mimetype": "text/x-python",
   "name": "python",
   "nbconvert_exporter": "python",
   "pygments_lexer": "ipython3",
   "version": "3.8.10"
  },
  "toc": {
   "base_numbering": 1,
   "nav_menu": {},
   "number_sections": true,
   "sideBar": true,
   "skip_h1_title": false,
   "title_cell": "Table of Contents",
   "title_sidebar": "Contents",
   "toc_cell": false,
   "toc_position": {},
   "toc_section_display": true,
   "toc_window_display": false
  }
 },
 "nbformat": 4,
 "nbformat_minor": 5
}
