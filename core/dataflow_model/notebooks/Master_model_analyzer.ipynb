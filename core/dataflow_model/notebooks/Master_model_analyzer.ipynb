{
 "cells": [
  {
   "cell_type": "markdown",
   "id": "a0cfeac2",
   "metadata": {},
   "source": [
    "# Description\n",
    "\n",
    "- Initialize with returns, predictions, target volatility, and oos start date\n",
    "- Evaluate portfolios generated from the predictions"
   ]
  },
  {
   "cell_type": "markdown",
   "id": "126c8435",
   "metadata": {},
   "source": [
    "# Imports"
   ]
  },
  {
   "cell_type": "code",
   "execution_count": 1,
   "id": "abf41299",
   "metadata": {
    "ExecuteTime": {
     "end_time": "2021-09-13T21:01:34.639661Z",
     "start_time": "2021-09-13T21:01:32.085186Z"
    }
   },
   "outputs": [],
   "source": [
    "%load_ext autoreload\n",
    "%autoreload 2\n",
    "\n",
    "import logging\n",
    "\n",
    "import core.config as cconfig\n",
    "import core.dataflow_model.model_evaluator as modeval\n",
    "import core.dataflow_model.model_plotter as modplot\n",
    "import core.dataflow_model.utils as cdmu\n",
    "import helpers.dbg as dbg\n",
    "import helpers.printing as hprint"
   ]
  },
  {
   "cell_type": "code",
   "execution_count": 2,
   "id": "eee79ad8",
   "metadata": {
    "ExecuteTime": {
     "end_time": "2021-09-13T21:01:34.677503Z",
     "start_time": "2021-09-13T21:01:34.641647Z"
    }
   },
   "outputs": [
    {
     "name": "stdout",
     "output_type": "stream",
     "text": [
      "\u001b[0m\u001b[36mINFO\u001b[0m: > cmd='/venv/lib/python3.8/site-packages/ipykernel_launcher.py -f /root/.local/share/jupyter/runtime/kernel-b1d496a4-89de-4809-8668-94d6dcf97b6b.json'\n",
      "\u001b[33mWARNING\u001b[0m: Running in Jupyter\n",
      "\u001b[33mWARNING\u001b[0m: Disabling annoying warnings\n"
     ]
    }
   ],
   "source": [
    "dbg.init_logger(verbosity=logging.INFO)\n",
    "# dbg.init_logger(verbosity=logging.DEBUG)\n",
    "\n",
    "_LOG = logging.getLogger(__name__)\n",
    "\n",
    "# _LOG.info(\"%s\", env.get_system_signature()[0])\n",
    "\n",
    "hprint.config_notebook()"
   ]
  },
  {
   "cell_type": "markdown",
   "id": "c0c17e86",
   "metadata": {},
   "source": [
    "# Notebook config"
   ]
  },
  {
   "cell_type": "code",
   "execution_count": 49,
   "id": "a9c3584e",
   "metadata": {
    "ExecuteTime": {
     "end_time": "2021-09-13T21:44:38.517439Z",
     "start_time": "2021-09-13T21:44:38.486012Z"
    }
   },
   "outputs": [
    {
     "name": "stdout",
     "output_type": "stream",
     "text": [
      "load_experiment_kwargs:\n",
      "  src_dir: /app/oos_experiment.RH2Eg.v2_0-top10.5T.run1_test\n",
      "  file_name: result_bundle.v2_0.pkl\n",
      "  experiment_type: ins_oos\n",
      "  selected_idxs: range(0, 1)\n",
      "  aws_profile: None\n",
      "model_evaluator_kwargs:\n",
      "  predictions_col: mid_ret_0_vol_adj_clipped_2_hat\n",
      "  target_col: mid_ret_0_vol_adj_clipped_2\n",
      "  oos_start: None\n",
      "bh_adj_threshold: 0.1\n",
      "resample_rule: W\n",
      "mode: ins\n",
      "target_volatility: 0.1\n"
     ]
    }
   ],
   "source": [
    "# config = cconfig.Config.from_env_var(\"AM_CONFIG_CODE\")\n",
    "config = None\n",
    "\n",
    "if config is None:\n",
    "    # exp_dir = \"s3://eglp-spm-sasm/experiments/experiment.RH2Ef.v1_9-all.5T.20210831-004747.run1.tgz\"\n",
    "    # exp_dir = \"/app/oos_experiment.RH2Eg.v2_0-top10.5T.run1_test\"\n",
    "    exp_dir = \"/app/oos_experiment.RH2Eg.v2_0-top10.5T.run1_test\"\n",
    "    aws_profile = None\n",
    "    #selected_idxs = None\n",
    "    selected_idxs = range(1)\n",
    "\n",
    "    eval_config = cconfig.get_config_from_nested_dict(\n",
    "        {\n",
    "            \"load_experiment_kwargs\": {\n",
    "                \"src_dir\": exp_dir,\n",
    "                \"file_name\": \"result_bundle.v2_0.pkl\",\n",
    "                \"experiment_type\": \"ins_oos\",\n",
    "                \"selected_idxs\": selected_idxs,\n",
    "                \"aws_profile\": aws_profile,\n",
    "            },\n",
    "            \"model_evaluator_kwargs\": {\n",
    "                \"predictions_col\": \"mid_ret_0_vol_adj_clipped_2_hat\",\n",
    "                \"target_col\": \"mid_ret_0_vol_adj_clipped_2\",\n",
    "                # \"oos_start\": \"2017-01-01\",\n",
    "                \"oos_start\": None,\n",
    "            },\n",
    "            \"bh_adj_threshold\": 0.1,\n",
    "            \"resample_rule\": \"W\",\n",
    "            \"mode\": \"ins\",\n",
    "            \"target_volatility\": 0.1,\n",
    "        }\n",
    "    )\n",
    "\n",
    "print(str(eval_config))"
   ]
  },
  {
   "cell_type": "markdown",
   "id": "8142e65d",
   "metadata": {},
   "source": [
    "# Initialize ModelEvaluator and ModelPlotter"
   ]
  },
  {
   "cell_type": "code",
   "execution_count": 50,
   "id": "371704c7",
   "metadata": {
    "ExecuteTime": {
     "end_time": "2021-09-13T21:44:41.905665Z",
     "start_time": "2021-09-13T21:44:41.716399Z"
    },
    "scrolled": false
   },
   "outputs": [
    {
     "name": "stdout",
     "output_type": "stream",
     "text": [
      "Before load_experiment_artifacts: memory_usage=rss=1.895GB vms=5.381GB mem_pct=3%\n",
      "# Load artifacts 'result_bundle.v2_0.pkl' from '/app/oos_experiment.RH2Eg.v2_0-top10.5T.run1_test'\n",
      "Found 10 experiment subdirs in '/app/oos_experiment.RH2Eg.v2_0-top10.5T.run1_test'\n"
     ]
    },
    {
     "data": {
      "application/vnd.jupyter.widget-view+json": {
       "model_id": "c00b726ffeed43af845fef6b602a09a5",
       "version_major": 2,
       "version_minor": 0
      },
      "text/plain": [
       "Loading artifacts:   0%|          | 0/1 [00:00<?, ?it/s]"
      ]
     },
     "metadata": {},
     "output_type": "display_data"
    },
    {
     "name": "stdout",
     "output_type": "stream",
     "text": [
      "load_experiment_artifacts: memory_usage=rss=1.995GB vms=5.405GB mem_pct=3%\n",
      "After load_experiment_artifacts: memory_usage=rss=1.995GB vms=5.405GB mem_pct=3%\n",
      "Before building ModelEvaluator: memory_usage=rss=1.995GB vms=5.405GB mem_pct=3%\n",
      "After building ModelEvaluator: memory_usage=rss=1.995GB vms=5.405GB mem_pct=3%\n"
     ]
    }
   ],
   "source": [
    "load_config = eval_config[\"load_experiment_kwargs\"].to_dict()\n",
    "\n",
    "# Load only the columns needed by the ModelEvaluator.\n",
    "load_config[\"load_rb_kwargs\"] = {\n",
    "    \"columns\": [\n",
    "        eval_config[\"model_evaluator_kwargs\"][\"target_col\"],\n",
    "        eval_config[\"model_evaluator_kwargs\"][\"predictions_col\"],\n",
    "    ]\n",
    "}\n",
    "result_bundle_dict = cdmu.load_experiment_artifacts(**load_config)\n",
    "\n",
    "# Build the ModelEvaluator.\n",
    "evaluator = modeval.ModelEvaluator.from_result_bundle_dict(\n",
    "    result_bundle_dict,\n",
    "    # abort_on_error=False,\n",
    "    abort_on_error=True,\n",
    "    **eval_config[\"model_evaluator_kwargs\"].to_dict(),\n",
    ")\n",
    "# Build the ModelPlotter.\n",
    "plotter = modplot.ModelPlotter(evaluator)"
   ]
  },
  {
   "cell_type": "code",
   "execution_count": null,
   "id": "13cc063a",
   "metadata": {
    "ExecuteTime": {
     "end_time": "2021-09-13T20:10:10.290895Z",
     "start_time": "2021-09-13T20:10:10.258891Z"
    }
   },
   "outputs": [],
   "source": [
    "result_bundle_dict[0].config"
   ]
  },
  {
   "cell_type": "code",
   "execution_count": null,
   "id": "1333869a",
   "metadata": {
    "ExecuteTime": {
     "end_time": "2021-09-13T19:25:49.494626Z",
     "start_time": "2021-09-13T19:25:49.445809Z"
    },
    "scrolled": true
   },
   "outputs": [],
   "source": [
    "result_bundle_dict[0].result_df.dropna()"
   ]
  },
  {
   "cell_type": "code",
   "execution_count": 12,
   "id": "5d9aa84f",
   "metadata": {
    "ExecuteTime": {
     "end_time": "2021-09-13T21:04:10.665844Z",
     "start_time": "2021-09-13T21:04:10.635864Z"
    }
   },
   "outputs": [],
   "source": [
    "import vendors_lime.taq_bars.utils as vltbut\n",
    "import datetime\n",
    "\n",
    "import pandas as pd\n",
    "import numpy as np"
   ]
  },
  {
   "cell_type": "code",
   "execution_count": 6,
   "id": "c9ad84d8",
   "metadata": {
    "ExecuteTime": {
     "end_time": "2021-09-13T21:02:08.195502Z",
     "start_time": "2021-09-13T21:01:52.926974Z"
    },
    "scrolled": false
   },
   "outputs": [
    {
     "name": "stdout",
     "output_type": "stream",
     "text": [
      "Using function-specific cache in '/cache/vltbut.get_bar_data.v2_1-all.2009_2019.20210907-07_52_53/cache.get_bar_data.v2_0-all.2009_2019'\n",
      "Setting enable_read_only to False -> True\n",
      "  --> Cache data for 'get_bar_data' from 'disk' cache (size=225.8 MB, time=0.37 s, tag=None, loc=/cache/vltbut.get_bar_data.v2_1-all.2009_2019.20210907-07_52_53/cache.get_bar_data.v2_0-all.2009_2019)\n"
     ]
    },
    {
     "data": {
      "text/html": [
       "<div>\n",
       "<style scoped>\n",
       "    .dataframe tbody tr th:only-of-type {\n",
       "        vertical-align: middle;\n",
       "    }\n",
       "\n",
       "    .dataframe tbody tr th {\n",
       "        vertical-align: top;\n",
       "    }\n",
       "\n",
       "    .dataframe thead th {\n",
       "        text-align: right;\n",
       "    }\n",
       "</style>\n",
       "<table border=\"1\" class=\"dataframe\">\n",
       "  <thead>\n",
       "    <tr style=\"text-align: right;\">\n",
       "      <th></th>\n",
       "      <th>close</th>\n",
       "      <th>volume</th>\n",
       "      <th>egid</th>\n",
       "      <th>good_ask</th>\n",
       "      <th>good_bid</th>\n",
       "      <th>good_bid_size</th>\n",
       "      <th>good_ask_size</th>\n",
       "    </tr>\n",
       "    <tr>\n",
       "      <th>end_time</th>\n",
       "      <th></th>\n",
       "      <th></th>\n",
       "      <th></th>\n",
       "      <th></th>\n",
       "      <th></th>\n",
       "      <th></th>\n",
       "      <th></th>\n",
       "    </tr>\n",
       "  </thead>\n",
       "  <tbody>\n",
       "    <tr>\n",
       "      <th>2009-01-02 09:01:00-05:00</th>\n",
       "      <td>NaN</td>\n",
       "      <td>0</td>\n",
       "      <td>10025</td>\n",
       "      <td>8.21</td>\n",
       "      <td>7.17</td>\n",
       "      <td>2500</td>\n",
       "      <td>100</td>\n",
       "    </tr>\n",
       "    <tr>\n",
       "      <th>2009-01-02 09:02:00-05:00</th>\n",
       "      <td>NaN</td>\n",
       "      <td>0</td>\n",
       "      <td>10025</td>\n",
       "      <td>8.21</td>\n",
       "      <td>7.17</td>\n",
       "      <td>2500</td>\n",
       "      <td>100</td>\n",
       "    </tr>\n",
       "    <tr>\n",
       "      <th>2009-01-02 09:03:00-05:00</th>\n",
       "      <td>NaN</td>\n",
       "      <td>0</td>\n",
       "      <td>10025</td>\n",
       "      <td>8.21</td>\n",
       "      <td>7.17</td>\n",
       "      <td>2500</td>\n",
       "      <td>100</td>\n",
       "    </tr>\n",
       "    <tr>\n",
       "      <th>2009-01-02 09:04:00-05:00</th>\n",
       "      <td>NaN</td>\n",
       "      <td>0</td>\n",
       "      <td>10025</td>\n",
       "      <td>8.21</td>\n",
       "      <td>7.17</td>\n",
       "      <td>2500</td>\n",
       "      <td>100</td>\n",
       "    </tr>\n",
       "    <tr>\n",
       "      <th>2009-01-02 09:05:00-05:00</th>\n",
       "      <td>NaN</td>\n",
       "      <td>0</td>\n",
       "      <td>10025</td>\n",
       "      <td>8.21</td>\n",
       "      <td>7.17</td>\n",
       "      <td>2500</td>\n",
       "      <td>100</td>\n",
       "    </tr>\n",
       "  </tbody>\n",
       "</table>\n",
       "</div>"
      ],
      "text/plain": [
       "                           close  volume   egid  good_ask  good_bid  good_bid_size  good_ask_size\n",
       "end_time                                                                                         \n",
       "2009-01-02 09:01:00-05:00    NaN       0  10025      8.21      7.17           2500            100\n",
       "2009-01-02 09:02:00-05:00    NaN       0  10025      8.21      7.17           2500            100\n",
       "2009-01-02 09:03:00-05:00    NaN       0  10025      8.21      7.17           2500            100\n",
       "2009-01-02 09:04:00-05:00    NaN       0  10025      8.21      7.17           2500            100\n",
       "2009-01-02 09:05:00-05:00    NaN       0  10025      8.21      7.17           2500            100"
      ]
     },
     "execution_count": 6,
     "metadata": {},
     "output_type": "execute_result"
    }
   ],
   "source": [
    "# Load the 1min data.\n",
    "columns = ['end_time', 'close', 'volume', 'egid', 'good_ask', 'good_bid', 'good_bid_size', 'good_ask_size']\n",
    "cache_dir = \"/cache/vltbut.get_bar_data.v2_1-all.2009_2019.20210907-07_52_53/cache.get_bar_data.v2_0-all.2009_2019\"\n",
    "df_1min = vltbut.load_single_instrument_data(10025, datetime.date(2009, 1, 1), datetime.date(2019, 1, 1), columns=columns, cache_dir=cache_dir)\n",
    "\n",
    "df_1min.head()"
   ]
  },
  {
   "cell_type": "code",
   "execution_count": 111,
   "id": "a7841a70",
   "metadata": {
    "ExecuteTime": {
     "end_time": "2021-09-14T18:27:01.721224Z",
     "start_time": "2021-09-14T18:27:01.606474Z"
    }
   },
   "outputs": [
    {
     "data": {
      "text/plain": [
       "close    0.1347\n",
       "dtype: float64"
      ]
     },
     "execution_count": 111,
     "metadata": {},
     "output_type": "execute_result"
    }
   ],
   "source": [
    "df_1min[[\"close\"]].min()"
   ]
  },
  {
   "cell_type": "code",
   "execution_count": 151,
   "id": "773e0795",
   "metadata": {
    "ExecuteTime": {
     "end_time": "2021-09-14T21:21:37.714758Z",
     "start_time": "2021-09-14T21:21:33.585675Z"
    }
   },
   "outputs": [
    {
     "data": {
      "text/html": [
       "<div>\n",
       "<style scoped>\n",
       "    .dataframe tbody tr th:only-of-type {\n",
       "        vertical-align: middle;\n",
       "    }\n",
       "\n",
       "    .dataframe tbody tr th {\n",
       "        vertical-align: top;\n",
       "    }\n",
       "\n",
       "    .dataframe thead th {\n",
       "        text-align: right;\n",
       "    }\n",
       "</style>\n",
       "<table border=\"1\" class=\"dataframe\">\n",
       "  <thead>\n",
       "    <tr style=\"text-align: right;\">\n",
       "      <th></th>\n",
       "      <th>price</th>\n",
       "      <th>bid</th>\n",
       "      <th>ask</th>\n",
       "    </tr>\n",
       "    <tr>\n",
       "      <th>end_time</th>\n",
       "      <th></th>\n",
       "      <th></th>\n",
       "      <th></th>\n",
       "    </tr>\n",
       "  </thead>\n",
       "  <tbody>\n",
       "    <tr>\n",
       "      <th>2009-01-02 09:31:00-05:00</th>\n",
       "      <td>8.11</td>\n",
       "      <td>7.71</td>\n",
       "      <td>8.21</td>\n",
       "    </tr>\n",
       "    <tr>\n",
       "      <th>2009-01-02 09:32:00-05:00</th>\n",
       "      <td>8.11</td>\n",
       "      <td>7.74</td>\n",
       "      <td>8.20</td>\n",
       "    </tr>\n",
       "    <tr>\n",
       "      <th>2009-01-02 09:33:00-05:00</th>\n",
       "      <td>8.11</td>\n",
       "      <td>7.64</td>\n",
       "      <td>8.20</td>\n",
       "    </tr>\n",
       "    <tr>\n",
       "      <th>2009-01-02 09:34:00-05:00</th>\n",
       "      <td>8.21</td>\n",
       "      <td>7.83</td>\n",
       "      <td>8.42</td>\n",
       "    </tr>\n",
       "    <tr>\n",
       "      <th>2009-01-02 09:35:00-05:00</th>\n",
       "      <td>8.21</td>\n",
       "      <td>7.84</td>\n",
       "      <td>8.44</td>\n",
       "    </tr>\n",
       "  </tbody>\n",
       "</table>\n",
       "</div>"
      ],
      "text/plain": [
       "                           price   bid   ask\n",
       "end_time                                    \n",
       "2009-01-02 09:31:00-05:00   8.11  7.71  8.21\n",
       "2009-01-02 09:32:00-05:00   8.11  7.74  8.20\n",
       "2009-01-02 09:33:00-05:00   8.11  7.64  8.20\n",
       "2009-01-02 09:34:00-05:00   8.21  7.83  8.42\n",
       "2009-01-02 09:35:00-05:00   8.21  7.84  8.44"
      ]
     },
     "execution_count": 151,
     "metadata": {},
     "output_type": "execute_result"
    }
   ],
   "source": [
    "df_1min_out = df_1min[[\"close\", \"good_bid\", \"good_ask\"]]\n",
    "\n",
    "df_1min_out = df_1min_out.resample(\"1T\", closed=\"right\", label=\"right\").mean()\n",
    "mask = df_1min_out < 0.40\n",
    "df_1min_out = df_1min_out[~mask]\n",
    "\n",
    "df_1min_out.fillna(method=\"ffill\", limit=None, inplace=True)\n",
    "# .sum(min_count=1) #.replace(np.nan, 0)\n",
    "\n",
    "df_1min_out.columns = [\"price\", \"bid\", \"ask\"]\n",
    "\n",
    "df_1min_out.dropna().head()"
   ]
  },
  {
   "cell_type": "code",
   "execution_count": 152,
   "id": "849848fe",
   "metadata": {
    "ExecuteTime": {
     "end_time": "2021-09-14T21:21:42.842660Z",
     "start_time": "2021-09-14T21:21:42.370149Z"
    }
   },
   "outputs": [
    {
     "data": {
      "text/plain": [
       "<AxesSubplot:>"
      ]
     },
     "execution_count": 152,
     "metadata": {},
     "output_type": "execute_result"
    },
    {
     "data": {
      "image/png": "[encoded data removed]",
      "text/plain": [
       "<Figure size 1440x360 with 1 Axes>"
      ]
     },
     "metadata": {},
     "output_type": "display_data"
    }
   ],
   "source": [
    "df_1min_out[\"price\"].hist(bins=101)"
   ]
  },
  {
   "cell_type": "code",
   "execution_count": 140,
   "id": "5768b08f",
   "metadata": {
    "ExecuteTime": {
     "end_time": "2021-09-14T18:32:47.137087Z",
     "start_time": "2021-09-14T18:32:46.579385Z"
    }
   },
   "outputs": [
    {
     "data": {
      "text/plain": [
       "<AxesSubplot:xlabel='end_time'>"
      ]
     },
     "execution_count": 140,
     "metadata": {},
     "output_type": "execute_result"
    },
    {
     "data": {
      "image/png": "[encoded data removed]",
      "text/plain": [
       "<Figure size 1440x360 with 1 Axes>"
      ]
     },
     "metadata": {},
     "output_type": "display_data"
    }
   ],
   "source": [
    "df_price = df_1min_out.resample(\"5T\", closed=\"right\", label=\"right\").last()\n",
    "df_price[\"ret_0\"] = df_price[\"price\"].pct_change()\n",
    "df_price.resample(\"1D\").mean().plot()"
   ]
  },
  {
   "cell_type": "code",
   "execution_count": 8,
   "id": "87170dc8",
   "metadata": {
    "ExecuteTime": {
     "end_time": "2021-09-13T21:02:20.075785Z",
     "start_time": "2021-09-13T21:02:20.045903Z"
    }
   },
   "outputs": [],
   "source": [
    "#import pandas as pd\n",
    "#df_5mins.loc[pd.Timestamp(\"2009-01-02 17:00:00-05:00\")]"
   ]
  },
  {
   "cell_type": "code",
   "execution_count": 34,
   "id": "c4bea6e1",
   "metadata": {
    "ExecuteTime": {
     "end_time": "2021-09-13T21:17:57.349071Z",
     "start_time": "2021-09-13T21:17:57.313506Z"
    }
   },
   "outputs": [
    {
     "data": {
      "text/html": [
       "<div>\n",
       "<style scoped>\n",
       "    .dataframe tbody tr th:only-of-type {\n",
       "        vertical-align: middle;\n",
       "    }\n",
       "\n",
       "    .dataframe tbody tr th {\n",
       "        vertical-align: top;\n",
       "    }\n",
       "\n",
       "    .dataframe thead th {\n",
       "        text-align: right;\n",
       "    }\n",
       "</style>\n",
       "<table border=\"1\" class=\"dataframe\">\n",
       "  <thead>\n",
       "    <tr style=\"text-align: right;\">\n",
       "      <th></th>\n",
       "      <th>price</th>\n",
       "    </tr>\n",
       "    <tr>\n",
       "      <th>end_time</th>\n",
       "      <th></th>\n",
       "    </tr>\n",
       "  </thead>\n",
       "  <tbody>\n",
       "    <tr>\n",
       "      <th>2009-01-05 13:40:00-05:00</th>\n",
       "      <td>NaN</td>\n",
       "    </tr>\n",
       "    <tr>\n",
       "      <th>2009-01-05 13:41:00-05:00</th>\n",
       "      <td>NaN</td>\n",
       "    </tr>\n",
       "    <tr>\n",
       "      <th>2009-01-05 13:42:00-05:00</th>\n",
       "      <td>NaN</td>\n",
       "    </tr>\n",
       "    <tr>\n",
       "      <th>2009-01-05 13:43:00-05:00</th>\n",
       "      <td>NaN</td>\n",
       "    </tr>\n",
       "    <tr>\n",
       "      <th>2009-01-05 13:44:00-05:00</th>\n",
       "      <td>NaN</td>\n",
       "    </tr>\n",
       "    <tr>\n",
       "      <th>2009-01-05 13:45:00-05:00</th>\n",
       "      <td>NaN</td>\n",
       "    </tr>\n",
       "    <tr>\n",
       "      <th>2009-01-05 13:46:00-05:00</th>\n",
       "      <td>NaN</td>\n",
       "    </tr>\n",
       "    <tr>\n",
       "      <th>2009-01-05 13:47:00-05:00</th>\n",
       "      <td>NaN</td>\n",
       "    </tr>\n",
       "    <tr>\n",
       "      <th>2009-01-05 13:48:00-05:00</th>\n",
       "      <td>NaN</td>\n",
       "    </tr>\n",
       "    <tr>\n",
       "      <th>2009-01-05 13:49:00-05:00</th>\n",
       "      <td>7.95</td>\n",
       "    </tr>\n",
       "    <tr>\n",
       "      <th>2009-01-05 13:50:00-05:00</th>\n",
       "      <td>NaN</td>\n",
       "    </tr>\n",
       "    <tr>\n",
       "      <th>2009-01-05 13:51:00-05:00</th>\n",
       "      <td>NaN</td>\n",
       "    </tr>\n",
       "    <tr>\n",
       "      <th>2009-01-05 13:52:00-05:00</th>\n",
       "      <td>7.98</td>\n",
       "    </tr>\n",
       "    <tr>\n",
       "      <th>2009-01-05 13:53:00-05:00</th>\n",
       "      <td>NaN</td>\n",
       "    </tr>\n",
       "    <tr>\n",
       "      <th>2009-01-05 13:54:00-05:00</th>\n",
       "      <td>NaN</td>\n",
       "    </tr>\n",
       "    <tr>\n",
       "      <th>2009-01-05 13:55:00-05:00</th>\n",
       "      <td>NaN</td>\n",
       "    </tr>\n",
       "    <tr>\n",
       "      <th>2009-01-05 13:56:00-05:00</th>\n",
       "      <td>7.99</td>\n",
       "    </tr>\n",
       "    <tr>\n",
       "      <th>2009-01-05 13:57:00-05:00</th>\n",
       "      <td>7.99</td>\n",
       "    </tr>\n",
       "    <tr>\n",
       "      <th>2009-01-05 13:58:00-05:00</th>\n",
       "      <td>NaN</td>\n",
       "    </tr>\n",
       "    <tr>\n",
       "      <th>2009-01-05 13:59:00-05:00</th>\n",
       "      <td>NaN</td>\n",
       "    </tr>\n",
       "    <tr>\n",
       "      <th>2009-01-05 14:00:00-05:00</th>\n",
       "      <td>7.99</td>\n",
       "    </tr>\n",
       "  </tbody>\n",
       "</table>\n",
       "</div>"
      ],
      "text/plain": [
       "                           price\n",
       "end_time                        \n",
       "2009-01-05 13:40:00-05:00    NaN\n",
       "2009-01-05 13:41:00-05:00    NaN\n",
       "2009-01-05 13:42:00-05:00    NaN\n",
       "2009-01-05 13:43:00-05:00    NaN\n",
       "2009-01-05 13:44:00-05:00    NaN\n",
       "2009-01-05 13:45:00-05:00    NaN\n",
       "2009-01-05 13:46:00-05:00    NaN\n",
       "2009-01-05 13:47:00-05:00    NaN\n",
       "2009-01-05 13:48:00-05:00    NaN\n",
       "2009-01-05 13:49:00-05:00   7.95\n",
       "2009-01-05 13:50:00-05:00    NaN\n",
       "2009-01-05 13:51:00-05:00    NaN\n",
       "2009-01-05 13:52:00-05:00   7.98\n",
       "2009-01-05 13:53:00-05:00    NaN\n",
       "2009-01-05 13:54:00-05:00    NaN\n",
       "2009-01-05 13:55:00-05:00    NaN\n",
       "2009-01-05 13:56:00-05:00   7.99\n",
       "2009-01-05 13:57:00-05:00   7.99\n",
       "2009-01-05 13:58:00-05:00    NaN\n",
       "2009-01-05 13:59:00-05:00    NaN\n",
       "2009-01-05 14:00:00-05:00   7.99"
      ]
     },
     "execution_count": 34,
     "metadata": {},
     "output_type": "execute_result"
    }
   ],
   "source": [
    "df_1min_out.loc[pd.Timestamp(\"2009-01-05 13:40:00-05:00\"):pd.Timestamp(\"2009-01-05 14:00:00-05:00\")]"
   ]
  },
  {
   "cell_type": "code",
   "execution_count": 149,
   "id": "f53c60c6",
   "metadata": {
    "ExecuteTime": {
     "end_time": "2021-09-14T18:43:00.382861Z",
     "start_time": "2021-09-14T18:40:49.020001Z"
    },
    "scrolled": true
   },
   "outputs": [
    {
     "name": "stderr",
     "output_type": "stream",
     "text": [
      "/venv/lib/python3.8/site-packages/pandas/util/_decorators.py:311: SettingWithCopyWarning: \n",
      "A value is trying to be set on a copy of a slice from a DataFrame\n",
      "\n",
      "See the caveats in the documentation: https://pandas.pydata.org/pandas-docs/stable/user_guide/indexing.html#returning-a-view-versus-a-copy\n",
      "  return func(*args, **kwargs)\n"
     ]
    },
    {
     "data": {
      "application/vnd.jupyter.widget-view+json": {
       "model_id": "07f4331686714c348ed7be7bb8eed451",
       "version_major": 2,
       "version_minor": 0
      },
      "text/plain": [
       "  0%|          | 0/193604 [00:00<?, ?it/s]"
      ]
     },
     "metadata": {},
     "output_type": "display_data"
    },
    {
     "name": "stderr",
     "output_type": "stream",
     "text": [
      "/app/amp/core/dataflow_model/pnl_simulator.py:492: SettingWithCopyWarning: \n",
      "A value is trying to be set on a copy of a slice from a DataFrame.\n",
      "Try using .loc[row_indexer,col_indexer] = value instead\n",
      "\n",
      "See the caveats in the documentation: https://pandas.pydata.org/pandas-docs/stable/user_guide/indexing.html#returning-a-view-versus-a-copy\n",
      "  df_5mins[key] = value + buffer\n",
      "/app/amp/core/dataflow_model/pnl_simulator.py:579: SettingWithCopyWarning: \n",
      "A value is trying to be set on a copy of a slice from a DataFrame.\n",
      "Try using .loc[row_indexer,col_indexer] = value instead\n",
      "\n",
      "See the caveats in the documentation: https://pandas.pydata.org/pandas-docs/stable/user_guide/indexing.html#returning-a-view-versus-a-copy\n",
      "  df_5mins[\"pnl.sim2\"] = df_5mins[\"wealth\"].pct_change()\n"
     ]
    }
   ],
   "source": [
    "import core.dataflow_model.pnl_simulator as pnlsim\n",
    "\n",
    "df_5mins = result_bundle_dict[0].result_df[[\"mid_ret_0_vol_adj_clipped_2_hat\"]]\n",
    "df_5mins.columns = [\"preds\"]\n",
    "df_5mins.dropna(inplace=True)\n",
    "\n",
    "initial_wealth = 1e6\n",
    "config = {\n",
    "    \"price_column\": \"price\",\n",
    "    \"future_snoop_allocation\": False,\n",
    "    #\"order_type\": \"price.end\",\n",
    "    #\"order_type\": \"midpoint.end\",\n",
    "    \"order_type\": \"full_spread.end\",\n",
    "    \"use_cache\": True,\n",
    "}\n",
    "df_5mins_out = pnlsim.compute_pnl_level2(df_1min_out, df_5mins, initial_wealth, config)\n",
    "#wealth, ret, df_5mins_out = pnlsim.compute_pnl_level1(initial_wealth, df_1min_out, df_5mins)"
   ]
  },
  {
   "cell_type": "code",
   "execution_count": 99,
   "id": "3dd55cb3",
   "metadata": {
    "ExecuteTime": {
     "end_time": "2021-09-13T23:51:34.188052Z",
     "start_time": "2021-09-13T23:51:34.148055Z"
    }
   },
   "outputs": [
    {
     "data": {
      "text/html": [
       "<div>\n",
       "<style scoped>\n",
       "    .dataframe tbody tr th:only-of-type {\n",
       "        vertical-align: middle;\n",
       "    }\n",
       "\n",
       "    .dataframe tbody tr th {\n",
       "        vertical-align: top;\n",
       "    }\n",
       "\n",
       "    .dataframe thead th {\n",
       "        text-align: right;\n",
       "    }\n",
       "</style>\n",
       "<table border=\"1\" class=\"dataframe\">\n",
       "  <thead>\n",
       "    <tr style=\"text-align: right;\">\n",
       "      <th></th>\n",
       "      <th>preds</th>\n",
       "      <th>target_n_shares</th>\n",
       "      <th>cash</th>\n",
       "      <th>holdings</th>\n",
       "      <th>wealth</th>\n",
       "      <th>diff_n_shares</th>\n",
       "      <th>filled_n_shares</th>\n",
       "      <th>cash+1</th>\n",
       "      <th>holdings+1</th>\n",
       "      <th>pnl.sim2</th>\n",
       "    </tr>\n",
       "    <tr>\n",
       "      <th>end_time</th>\n",
       "      <th></th>\n",
       "      <th></th>\n",
       "      <th></th>\n",
       "      <th></th>\n",
       "      <th></th>\n",
       "      <th></th>\n",
       "      <th></th>\n",
       "      <th></th>\n",
       "      <th></th>\n",
       "      <th></th>\n",
       "    </tr>\n",
       "  </thead>\n",
       "  <tbody>\n",
       "    <tr>\n",
       "      <th>2018-12-31 15:40:00-05:00</th>\n",
       "      <td>0.020302</td>\n",
       "      <td>8636.414712</td>\n",
       "      <td>4.281633e+06</td>\n",
       "      <td>3978.688716</td>\n",
       "      <td>4.322056e+06</td>\n",
       "      <td>4657.725996</td>\n",
       "      <td>4657.725996</td>\n",
       "      <td>4.234264e+06</td>\n",
       "      <td>8636.414712</td>\n",
       "      <td>0.000011</td>\n",
       "    </tr>\n",
       "    <tr>\n",
       "      <th>2018-12-31 15:45:00-05:00</th>\n",
       "      <td>-0.001626</td>\n",
       "      <td>-691.204693</td>\n",
       "      <td>4.234264e+06</td>\n",
       "      <td>8636.414712</td>\n",
       "      <td>4.322096e+06</td>\n",
       "      <td>-9327.619405</td>\n",
       "      <td>-9327.619405</td>\n",
       "      <td>4.328984e+06</td>\n",
       "      <td>-691.204693</td>\n",
       "      <td>0.000009</td>\n",
       "    </tr>\n",
       "    <tr>\n",
       "      <th>2018-12-31 15:50:00-05:00</th>\n",
       "      <td>0.011100</td>\n",
       "      <td>4724.107276</td>\n",
       "      <td>4.328984e+06</td>\n",
       "      <td>-691.204693</td>\n",
       "      <td>4.321965e+06</td>\n",
       "      <td>5415.311969</td>\n",
       "      <td>5415.311969</td>\n",
       "      <td>4.274181e+06</td>\n",
       "      <td>4724.107276</td>\n",
       "      <td>-0.000030</td>\n",
       "    </tr>\n",
       "    <tr>\n",
       "      <th>2018-12-31 15:55:00-05:00</th>\n",
       "      <td>-0.008769</td>\n",
       "      <td>-3745.214850</td>\n",
       "      <td>4.274181e+06</td>\n",
       "      <td>4724.107276</td>\n",
       "      <td>4.321989e+06</td>\n",
       "      <td>-8469.322125</td>\n",
       "      <td>-8469.322125</td>\n",
       "      <td>4.360314e+06</td>\n",
       "      <td>-3745.214850</td>\n",
       "      <td>0.000006</td>\n",
       "    </tr>\n",
       "    <tr>\n",
       "      <th>2018-12-31 16:00:00-05:00</th>\n",
       "      <td>-0.021817</td>\n",
       "      <td>NaN</td>\n",
       "      <td>NaN</td>\n",
       "      <td>NaN</td>\n",
       "      <td>4.322225e+06</td>\n",
       "      <td>NaN</td>\n",
       "      <td>NaN</td>\n",
       "      <td>NaN</td>\n",
       "      <td>NaN</td>\n",
       "      <td>0.000055</td>\n",
       "    </tr>\n",
       "  </tbody>\n",
       "</table>\n",
       "</div>"
      ],
      "text/plain": [
       "                              preds  target_n_shares          cash     holdings        wealth  diff_n_shares  filled_n_shares        cash+1   holdings+1  pnl.sim2\n",
       "end_time                                                                                                                                                          \n",
       "2018-12-31 15:40:00-05:00  0.020302      8636.414712  4.281633e+06  3978.688716  4.322056e+06    4657.725996      4657.725996  4.234264e+06  8636.414712  0.000011\n",
       "2018-12-31 15:45:00-05:00 -0.001626      -691.204693  4.234264e+06  8636.414712  4.322096e+06   -9327.619405     -9327.619405  4.328984e+06  -691.204693  0.000009\n",
       "2018-12-31 15:50:00-05:00  0.011100      4724.107276  4.328984e+06  -691.204693  4.321965e+06    5415.311969      5415.311969  4.274181e+06  4724.107276 -0.000030\n",
       "2018-12-31 15:55:00-05:00 -0.008769     -3745.214850  4.274181e+06  4724.107276  4.321989e+06   -8469.322125     -8469.322125  4.360314e+06 -3745.214850  0.000006\n",
       "2018-12-31 16:00:00-05:00 -0.021817              NaN           NaN          NaN  4.322225e+06            NaN              NaN           NaN          NaN  0.000055"
      ]
     },
     "execution_count": 99,
     "metadata": {},
     "output_type": "execute_result"
    }
   ],
   "source": [
    "df_5mins_out.tail()"
   ]
  },
  {
   "cell_type": "code",
   "execution_count": 150,
   "id": "863cc51d",
   "metadata": {
    "ExecuteTime": {
     "end_time": "2021-09-14T18:43:25.260290Z",
     "start_time": "2021-09-14T18:43:24.797074Z"
    }
   },
   "outputs": [
    {
     "data": {
      "text/plain": [
       "<AxesSubplot:xlabel='end_time'>"
      ]
     },
     "execution_count": 150,
     "metadata": {},
     "output_type": "execute_result"
    },
    {
     "data": {
      "image/png": "[encoded data removed]",
      "text/plain": [
       "<Figure size 1440x360 with 1 Axes>"
      ]
     },
     "metadata": {},
     "output_type": "display_data"
    }
   ],
   "source": [
    "df_5mins_out[\"wealth\"].resample(\"1B\").mean().plot()#[\"2012-01-01\":].plot()"
   ]
  },
  {
   "cell_type": "code",
   "execution_count": 146,
   "id": "05a78b55",
   "metadata": {
    "ExecuteTime": {
     "end_time": "2021-09-14T18:37:59.136020Z",
     "start_time": "2021-09-14T18:37:58.655407Z"
    }
   },
   "outputs": [
    {
     "data": {
      "text/plain": [
       "<AxesSubplot:xlabel='end_time'>"
      ]
     },
     "execution_count": 146,
     "metadata": {},
     "output_type": "execute_result"
    },
    {
     "data": {
      "image/png": "[encoded data removed]",
      "text/plain": [
       "<Figure size 1440x360 with 1 Axes>"
      ]
     },
     "metadata": {},
     "output_type": "display_data"
    }
   ],
   "source": [
    "df_5mins_out[\"wealth\"].resample(\"1B\").mean().plot()#[\"2012-01-01\":].plot()"
   ]
  },
  {
   "cell_type": "code",
   "execution_count": 95,
   "id": "7bc096a3",
   "metadata": {
    "ExecuteTime": {
     "end_time": "2021-09-13T22:04:21.447779Z",
     "start_time": "2021-09-13T22:04:19.602619Z"
    }
   },
   "outputs": [
    {
     "data": {
      "text/plain": [
       "<AxesSubplot:xlabel='end_time'>"
      ]
     },
     "execution_count": 95,
     "metadata": {},
     "output_type": "execute_result"
    },
    {
     "data": {
      "image/png": "[encoded data removed]",
      "text/plain": [
       "<Figure size 1440x360 with 1 Axes>"
      ]
     },
     "metadata": {},
     "output_type": "display_data"
    }
   ],
   "source": [
    "df_5mins_merged = df_5mins_out.merge(df_price, right_index=True, left_index=True)\n",
    "\n",
    "_, df_5mins_merged = pnlsim.compute_lag_pnl(df_5mins_merged)\n",
    "#display(df_5mins_merged)\n",
    "#df_5mins_merged[\"pnl.lag\"].cumsum().plot()\n",
    "df_5mins_merged[\"pnl.sim1\"].cumsum().plot()"
   ]
  },
  {
   "cell_type": "code",
   "execution_count": 17,
   "id": "16ecea2e",
   "metadata": {
    "ExecuteTime": {
     "end_time": "2021-09-13T21:05:58.443674Z",
     "start_time": "2021-09-13T21:05:58.399238Z"
    }
   },
   "outputs": [
    {
     "data": {
      "text/html": [
       "<div>\n",
       "<style scoped>\n",
       "    .dataframe tbody tr th:only-of-type {\n",
       "        vertical-align: middle;\n",
       "    }\n",
       "\n",
       "    .dataframe tbody tr th {\n",
       "        vertical-align: top;\n",
       "    }\n",
       "\n",
       "    .dataframe thead th {\n",
       "        text-align: right;\n",
       "    }\n",
       "</style>\n",
       "<table border=\"1\" class=\"dataframe\">\n",
       "  <thead>\n",
       "    <tr style=\"text-align: right;\">\n",
       "      <th></th>\n",
       "      <th>preds</th>\n",
       "      <th>target_n_shares</th>\n",
       "      <th>cash</th>\n",
       "      <th>holdings</th>\n",
       "      <th>wealth</th>\n",
       "      <th>diff_n_shares</th>\n",
       "      <th>filled_n_shares</th>\n",
       "      <th>cash+1</th>\n",
       "      <th>holdings+1</th>\n",
       "      <th>pnl.sim2</th>\n",
       "    </tr>\n",
       "    <tr>\n",
       "      <th>end_time</th>\n",
       "      <th></th>\n",
       "      <th></th>\n",
       "      <th></th>\n",
       "      <th></th>\n",
       "      <th></th>\n",
       "      <th></th>\n",
       "      <th></th>\n",
       "      <th></th>\n",
       "      <th></th>\n",
       "      <th></th>\n",
       "    </tr>\n",
       "  </thead>\n",
       "  <tbody>\n",
       "    <tr>\n",
       "      <th>2009-01-05 13:55:00-05:00</th>\n",
       "      <td>-0.002524</td>\n",
       "      <td>NaN</td>\n",
       "      <td>1000000.0</td>\n",
       "      <td>0.0</td>\n",
       "      <td>NaN</td>\n",
       "      <td>NaN</td>\n",
       "      <td>NaN</td>\n",
       "      <td>NaN</td>\n",
       "      <td>NaN</td>\n",
       "      <td>NaN</td>\n",
       "    </tr>\n",
       "    <tr>\n",
       "      <th>2009-01-05 14:00:00-05:00</th>\n",
       "      <td>-0.009451</td>\n",
       "      <td>NaN</td>\n",
       "      <td>NaN</td>\n",
       "      <td>NaN</td>\n",
       "      <td>NaN</td>\n",
       "      <td>NaN</td>\n",
       "      <td>NaN</td>\n",
       "      <td>NaN</td>\n",
       "      <td>NaN</td>\n",
       "      <td>NaN</td>\n",
       "    </tr>\n",
       "    <tr>\n",
       "      <th>2009-01-05 14:05:00-05:00</th>\n",
       "      <td>0.000822</td>\n",
       "      <td>NaN</td>\n",
       "      <td>NaN</td>\n",
       "      <td>NaN</td>\n",
       "      <td>NaN</td>\n",
       "      <td>NaN</td>\n",
       "      <td>NaN</td>\n",
       "      <td>NaN</td>\n",
       "      <td>NaN</td>\n",
       "      <td>NaN</td>\n",
       "    </tr>\n",
       "    <tr>\n",
       "      <th>2009-01-05 14:10:00-05:00</th>\n",
       "      <td>0.006409</td>\n",
       "      <td>NaN</td>\n",
       "      <td>NaN</td>\n",
       "      <td>NaN</td>\n",
       "      <td>NaN</td>\n",
       "      <td>NaN</td>\n",
       "      <td>NaN</td>\n",
       "      <td>NaN</td>\n",
       "      <td>NaN</td>\n",
       "      <td>NaN</td>\n",
       "    </tr>\n",
       "    <tr>\n",
       "      <th>2009-01-05 14:15:00-05:00</th>\n",
       "      <td>0.046417</td>\n",
       "      <td>NaN</td>\n",
       "      <td>NaN</td>\n",
       "      <td>NaN</td>\n",
       "      <td>NaN</td>\n",
       "      <td>NaN</td>\n",
       "      <td>NaN</td>\n",
       "      <td>NaN</td>\n",
       "      <td>NaN</td>\n",
       "      <td>NaN</td>\n",
       "    </tr>\n",
       "    <tr>\n",
       "      <th>...</th>\n",
       "      <td>...</td>\n",
       "      <td>...</td>\n",
       "      <td>...</td>\n",
       "      <td>...</td>\n",
       "      <td>...</td>\n",
       "      <td>...</td>\n",
       "      <td>...</td>\n",
       "      <td>...</td>\n",
       "      <td>...</td>\n",
       "      <td>...</td>\n",
       "    </tr>\n",
       "    <tr>\n",
       "      <th>2009-01-23 13:25:00-05:00</th>\n",
       "      <td>0.020332</td>\n",
       "      <td>NaN</td>\n",
       "      <td>NaN</td>\n",
       "      <td>NaN</td>\n",
       "      <td>NaN</td>\n",
       "      <td>NaN</td>\n",
       "      <td>NaN</td>\n",
       "      <td>NaN</td>\n",
       "      <td>NaN</td>\n",
       "      <td>NaN</td>\n",
       "    </tr>\n",
       "    <tr>\n",
       "      <th>2009-01-23 13:30:00-05:00</th>\n",
       "      <td>0.008293</td>\n",
       "      <td>NaN</td>\n",
       "      <td>NaN</td>\n",
       "      <td>NaN</td>\n",
       "      <td>NaN</td>\n",
       "      <td>NaN</td>\n",
       "      <td>NaN</td>\n",
       "      <td>NaN</td>\n",
       "      <td>NaN</td>\n",
       "      <td>NaN</td>\n",
       "    </tr>\n",
       "    <tr>\n",
       "      <th>2009-01-23 13:35:00-05:00</th>\n",
       "      <td>0.005902</td>\n",
       "      <td>NaN</td>\n",
       "      <td>NaN</td>\n",
       "      <td>NaN</td>\n",
       "      <td>NaN</td>\n",
       "      <td>NaN</td>\n",
       "      <td>NaN</td>\n",
       "      <td>NaN</td>\n",
       "      <td>NaN</td>\n",
       "      <td>NaN</td>\n",
       "    </tr>\n",
       "    <tr>\n",
       "      <th>2009-01-23 13:40:00-05:00</th>\n",
       "      <td>-0.003040</td>\n",
       "      <td>NaN</td>\n",
       "      <td>NaN</td>\n",
       "      <td>NaN</td>\n",
       "      <td>NaN</td>\n",
       "      <td>NaN</td>\n",
       "      <td>NaN</td>\n",
       "      <td>NaN</td>\n",
       "      <td>NaN</td>\n",
       "      <td>NaN</td>\n",
       "    </tr>\n",
       "    <tr>\n",
       "      <th>2009-01-23 13:45:00-05:00</th>\n",
       "      <td>-0.004797</td>\n",
       "      <td>NaN</td>\n",
       "      <td>NaN</td>\n",
       "      <td>NaN</td>\n",
       "      <td>NaN</td>\n",
       "      <td>NaN</td>\n",
       "      <td>NaN</td>\n",
       "      <td>NaN</td>\n",
       "      <td>NaN</td>\n",
       "      <td>NaN</td>\n",
       "    </tr>\n",
       "  </tbody>\n",
       "</table>\n",
       "<p>1000 rows × 10 columns</p>\n",
       "</div>"
      ],
      "text/plain": [
       "                              preds  target_n_shares       cash  holdings  wealth  diff_n_shares  filled_n_shares  cash+1  holdings+1  pnl.sim2\n",
       "end_time                                                                                                                                       \n",
       "2009-01-05 13:55:00-05:00 -0.002524              NaN  1000000.0       0.0     NaN            NaN              NaN     NaN         NaN       NaN\n",
       "2009-01-05 14:00:00-05:00 -0.009451              NaN        NaN       NaN     NaN            NaN              NaN     NaN         NaN       NaN\n",
       "2009-01-05 14:05:00-05:00  0.000822              NaN        NaN       NaN     NaN            NaN              NaN     NaN         NaN       NaN\n",
       "2009-01-05 14:10:00-05:00  0.006409              NaN        NaN       NaN     NaN            NaN              NaN     NaN         NaN       NaN\n",
       "2009-01-05 14:15:00-05:00  0.046417              NaN        NaN       NaN     NaN            NaN              NaN     NaN         NaN       NaN\n",
       "...                             ...              ...        ...       ...     ...            ...              ...     ...         ...       ...\n",
       "2009-01-23 13:25:00-05:00  0.020332              NaN        NaN       NaN     NaN            NaN              NaN     NaN         NaN       NaN\n",
       "2009-01-23 13:30:00-05:00  0.008293              NaN        NaN       NaN     NaN            NaN              NaN     NaN         NaN       NaN\n",
       "2009-01-23 13:35:00-05:00  0.005902              NaN        NaN       NaN     NaN            NaN              NaN     NaN         NaN       NaN\n",
       "2009-01-23 13:40:00-05:00 -0.003040              NaN        NaN       NaN     NaN            NaN              NaN     NaN         NaN       NaN\n",
       "2009-01-23 13:45:00-05:00 -0.004797              NaN        NaN       NaN     NaN            NaN              NaN     NaN         NaN       NaN\n",
       "\n",
       "[1000 rows x 10 columns]"
      ]
     },
     "execution_count": 17,
     "metadata": {},
     "output_type": "execute_result"
    }
   ],
   "source": [
    "df_5mins_out"
   ]
  },
  {
   "cell_type": "code",
   "execution_count": null,
   "id": "8510976e",
   "metadata": {},
   "outputs": [],
   "source": []
  },
  {
   "cell_type": "markdown",
   "id": "2ab68b06",
   "metadata": {},
   "source": [
    "# Analysis"
   ]
  },
  {
   "cell_type": "code",
   "execution_count": 51,
   "id": "f353ea8a",
   "metadata": {
    "ExecuteTime": {
     "end_time": "2021-09-13T21:44:55.834200Z",
     "start_time": "2021-09-13T21:44:51.971423Z"
    },
    "scrolled": false
   },
   "outputs": [
    {
     "data": {
      "application/vnd.jupyter.widget-view+json": {
       "model_id": "b4a882fbd2d3446f909af0ea4e081400",
       "version_major": 2,
       "version_minor": 0
      },
      "text/plain": [
       "Calculating positions:   0%|          | 0/1 [00:00<?, ?it/s]"
      ]
     },
     "metadata": {},
     "output_type": "display_data"
    },
    {
     "data": {
      "application/vnd.jupyter.widget-view+json": {
       "model_id": "546963cc9c9e469281134d1cd5685cc9",
       "version_major": 2,
       "version_minor": 0
      },
      "text/plain": [
       "Calculating PnL:   0%|          | 0/1 [00:00<?, ?it/s]"
      ]
     },
     "metadata": {},
     "output_type": "display_data"
    },
    {
     "data": {
      "application/vnd.jupyter.widget-view+json": {
       "model_id": "898d5fa4e5ec4382aee01dd637cd182f",
       "version_major": 2,
       "version_minor": 0
      },
      "text/plain": [
       "Calculating stats:   0%|          | 0/1 [00:00<?, ?it/s]"
      ]
     },
     "metadata": {},
     "output_type": "display_data"
    },
    {
     "data": {
      "text/html": [
       "<div>\n",
       "<style scoped>\n",
       "    .dataframe tbody tr th:only-of-type {\n",
       "        vertical-align: middle;\n",
       "    }\n",
       "\n",
       "    .dataframe tbody tr th {\n",
       "        vertical-align: top;\n",
       "    }\n",
       "\n",
       "    .dataframe thead th {\n",
       "        text-align: right;\n",
       "    }\n",
       "</style>\n",
       "<table border=\"1\" class=\"dataframe\">\n",
       "  <thead>\n",
       "    <tr style=\"text-align: right;\">\n",
       "      <th></th>\n",
       "      <th></th>\n",
       "      <th>0</th>\n",
       "    </tr>\n",
       "  </thead>\n",
       "  <tbody>\n",
       "    <tr>\n",
       "      <th rowspan=\"4\" valign=\"top\">finance</th>\n",
       "      <th>avg_turnover_(%)</th>\n",
       "      <td>114.606074</td>\n",
       "    </tr>\n",
       "    <tr>\n",
       "      <th>turnover_frequency</th>\n",
       "      <td>&lt;5 * Minutes&gt;</td>\n",
       "    </tr>\n",
       "    <tr>\n",
       "      <th>avg_holding_period</th>\n",
       "      <td>0.872554</td>\n",
       "    </tr>\n",
       "    <tr>\n",
       "      <th>holding_period_units</th>\n",
       "      <td>&lt;5 * Minutes&gt;</td>\n",
       "    </tr>\n",
       "    <tr>\n",
       "      <th rowspan=\"18\" valign=\"top\">sampling</th>\n",
       "      <th>start_time</th>\n",
       "      <td>2009-01-05 13:55:00-05:00</td>\n",
       "    </tr>\n",
       "    <tr>\n",
       "      <th>end_time</th>\n",
       "      <td>2018-12-31 15:50:00-05:00</td>\n",
       "    </tr>\n",
       "    <tr>\n",
       "      <th>n_sampling_points</th>\n",
       "      <td>188574</td>\n",
       "    </tr>\n",
       "    <tr>\n",
       "      <th>frequency</th>\n",
       "      <td>&lt;5 * Minutes&gt;</td>\n",
       "    </tr>\n",
       "    <tr>\n",
       "      <th>sampling_points_per_year</th>\n",
       "      <td>105156.125</td>\n",
       "    </tr>\n",
       "    <tr>\n",
       "      <th>time_span_in_years</th>\n",
       "      <td>9.988577</td>\n",
       "    </tr>\n",
       "    <tr>\n",
       "      <th>n_rows</th>\n",
       "      <td>1051296</td>\n",
       "    </tr>\n",
       "    <tr>\n",
       "      <th>frac_zero</th>\n",
       "      <td>0.006565</td>\n",
       "    </tr>\n",
       "    <tr>\n",
       "      <th>frac_nan</th>\n",
       "      <td>0.820627</td>\n",
       "    </tr>\n",
       "    <tr>\n",
       "      <th>frac_inf</th>\n",
       "      <td>0.0</td>\n",
       "    </tr>\n",
       "    <tr>\n",
       "      <th>frac_constant</th>\n",
       "      <td>0.002275</td>\n",
       "    </tr>\n",
       "    <tr>\n",
       "      <th>num_finite_samples</th>\n",
       "      <td>188574</td>\n",
       "    </tr>\n",
       "    <tr>\n",
       "      <th>num_finite_samples_inv</th>\n",
       "      <td>0.000005</td>\n",
       "    </tr>\n",
       "    <tr>\n",
       "      <th>num_finite_samples_inv_dyadic_scale</th>\n",
       "      <td>-18</td>\n",
       "    </tr>\n",
       "    <tr>\n",
       "      <th>num_finite_samples_sqrt</th>\n",
       "      <td>434.251079</td>\n",
       "    </tr>\n",
       "    <tr>\n",
       "      <th>num_finite_samples_sqrt_inv</th>\n",
       "      <td>0.002303</td>\n",
       "    </tr>\n",
       "    <tr>\n",
       "      <th>num_finite_samples_sqrt_inv_dyadic_scale</th>\n",
       "      <td>-9</td>\n",
       "    </tr>\n",
       "    <tr>\n",
       "      <th>num_unique_values</th>\n",
       "      <td>181673</td>\n",
       "    </tr>\n",
       "    <tr>\n",
       "      <th rowspan=\"15\" valign=\"top\">summary</th>\n",
       "      <th>scipy.mean</th>\n",
       "      <td>0.000009</td>\n",
       "    </tr>\n",
       "    <tr>\n",
       "      <th>scipy.std</th>\n",
       "      <td>0.000728</td>\n",
       "    </tr>\n",
       "    <tr>\n",
       "      <th>scipy.skew</th>\n",
       "      <td>0.248904</td>\n",
       "    </tr>\n",
       "    <tr>\n",
       "      <th>scipy.kurtosis</th>\n",
       "      <td>20.770358</td>\n",
       "    </tr>\n",
       "    <tr>\n",
       "      <th>null_mean_zero.tval</th>\n",
       "      <td>5.470043</td>\n",
       "    </tr>\n",
       "    <tr>\n",
       "      <th>null_mean_zero.pval</th>\n",
       "      <td>0.0</td>\n",
       "    </tr>\n",
       "    <tr>\n",
       "      <th>jensen_ratio</th>\n",
       "      <td>0.495235</td>\n",
       "    </tr>\n",
       "    <tr>\n",
       "      <th>count</th>\n",
       "      <td>188574.0</td>\n",
       "    </tr>\n",
       "    <tr>\n",
       "      <th>mean</th>\n",
       "      <td>0.000009</td>\n",
       "    </tr>\n",
       "    <tr>\n",
       "      <th>std</th>\n",
       "      <td>0.000728</td>\n",
       "    </tr>\n",
       "    <tr>\n",
       "      <th>min</th>\n",
       "      <td>-0.009777</td>\n",
       "    </tr>\n",
       "    <tr>\n",
       "      <th>25%</th>\n",
       "      <td>-0.000132</td>\n",
       "    </tr>\n",
       "    <tr>\n",
       "      <th>50%</th>\n",
       "      <td>0.0</td>\n",
       "    </tr>\n",
       "    <tr>\n",
       "      <th>75%</th>\n",
       "      <td>0.000142</td>\n",
       "    </tr>\n",
       "    <tr>\n",
       "      <th>max</th>\n",
       "      <td>0.009763</td>\n",
       "    </tr>\n",
       "    <tr>\n",
       "      <th rowspan=\"14\" valign=\"top\">stationarity</th>\n",
       "      <th>adf.stat</th>\n",
       "      <td>-214.073187</td>\n",
       "    </tr>\n",
       "    <tr>\n",
       "      <th>adf.pval</th>\n",
       "      <td>0.0</td>\n",
       "    </tr>\n",
       "    <tr>\n",
       "      <th>adf.used_lag</th>\n",
       "      <td>3.0</td>\n",
       "    </tr>\n",
       "    <tr>\n",
       "      <th>adf.nobs</th>\n",
       "      <td>188570.0</td>\n",
       "    </tr>\n",
       "    <tr>\n",
       "      <th>adf.critical_values_1%</th>\n",
       "      <td>-3.430385</td>\n",
       "    </tr>\n",
       "    <tr>\n",
       "      <th>adf.critical_values_5%</th>\n",
       "      <td>-2.861555</td>\n",
       "    </tr>\n",
       "    <tr>\n",
       "      <th>adf.critical_values_10%</th>\n",
       "      <td>-2.566778</td>\n",
       "    </tr>\n",
       "    <tr>\n",
       "      <th>adf.ic_best</th>\n",
       "      <td>-2190254.529909</td>\n",
       "    </tr>\n",
       "    <tr>\n",
       "      <th>kpss.stat</th>\n",
       "      <td>0.361139</td>\n",
       "    </tr>\n",
       "    <tr>\n",
       "      <th>kpss.pval</th>\n",
       "      <td>0.093905</td>\n",
       "    </tr>\n",
       "    <tr>\n",
       "      <th>kpss.lags</th>\n",
       "      <td>16.0</td>\n",
       "    </tr>\n",
       "    <tr>\n",
       "      <th>kpss.critical_values_1%</th>\n",
       "      <td>0.739</td>\n",
       "    </tr>\n",
       "    <tr>\n",
       "      <th>kpss.critical_values_5%</th>\n",
       "      <td>0.463</td>\n",
       "    </tr>\n",
       "    <tr>\n",
       "      <th>kpss.critical_values_10%</th>\n",
       "      <td>0.347</td>\n",
       "    </tr>\n",
       "    <tr>\n",
       "      <th rowspan=\"4\" valign=\"top\">normality</th>\n",
       "      <th>omnibus_null_normal.stat</th>\n",
       "      <td>48352.786235</td>\n",
       "    </tr>\n",
       "    <tr>\n",
       "      <th>omnibus_null_normal.pval</th>\n",
       "      <td>0.0</td>\n",
       "    </tr>\n",
       "    <tr>\n",
       "      <th>centered_gaussian.log_likelihood</th>\n",
       "      <td>1094877.481576</td>\n",
       "    </tr>\n",
       "    <tr>\n",
       "      <th>centered_gaussian.centered_var</th>\n",
       "      <td>0.000001</td>\n",
       "    </tr>\n",
       "    <tr>\n",
       "      <th>spectral</th>\n",
       "      <th>forecastability</th>\n",
       "      <td>0.001927</td>\n",
       "    </tr>\n",
       "    <tr>\n",
       "      <th rowspan=\"5\" valign=\"top\">signal_quality</th>\n",
       "      <th>sharpe_ratio</th>\n",
       "      <td>1.729889</td>\n",
       "    </tr>\n",
       "    <tr>\n",
       "      <th>sharpe_ratio_standard_error</th>\n",
       "      <td>0.31627</td>\n",
       "    </tr>\n",
       "    <tr>\n",
       "      <th>sr.tval</th>\n",
       "      <td>5.470043</td>\n",
       "    </tr>\n",
       "    <tr>\n",
       "      <th>sr.pval</th>\n",
       "      <td>0.0</td>\n",
       "    </tr>\n",
       "    <tr>\n",
       "      <th>kratio</th>\n",
       "      <td>2.107111</td>\n",
       "    </tr>\n",
       "    <tr>\n",
       "      <th rowspan=\"6\" valign=\"top\">finance</th>\n",
       "      <th>annualized_mean_return_(%)</th>\n",
       "      <td>17.298888</td>\n",
       "    </tr>\n",
       "    <tr>\n",
       "      <th>annualized_volatility_(%)</th>\n",
       "      <td>10.0</td>\n",
       "    </tr>\n",
       "    <tr>\n",
       "      <th>max_drawdown_(%)</th>\n",
       "      <td>-13.841956</td>\n",
       "    </tr>\n",
       "    <tr>\n",
       "      <th>hit_rate_point_est_(%)</th>\n",
       "      <td>50.46017</td>\n",
       "    </tr>\n",
       "    <tr>\n",
       "      <th>hit_rate_97.50%CI_lower_bound_(%)</th>\n",
       "      <td>50.230255</td>\n",
       "    </tr>\n",
       "    <tr>\n",
       "      <th>hit_rate_97.50%CI_upper_bound_(%)</th>\n",
       "      <td>50.69007</td>\n",
       "    </tr>\n",
       "    <tr>\n",
       "      <th rowspan=\"2\" valign=\"top\">correlation</th>\n",
       "      <th>prediction_corr_implied_by_pnl</th>\n",
       "      <td>0.012597</td>\n",
       "    </tr>\n",
       "    <tr>\n",
       "      <th>prediction_corr</th>\n",
       "      <td>0.014907</td>\n",
       "    </tr>\n",
       "    <tr>\n",
       "      <th>signal_quality</th>\n",
       "      <th>sr_implied_by_prediction_corr</th>\n",
       "      <td>2.074244</td>\n",
       "    </tr>\n",
       "    <tr>\n",
       "      <th>finance</th>\n",
       "      <th>hit_rate_implied_by_prediction_corr</th>\n",
       "      <td>0.508299</td>\n",
       "    </tr>\n",
       "    <tr>\n",
       "      <th>correlation</th>\n",
       "      <th>prediction_corr_implied_by_hit_rate</th>\n",
       "      <td>0.008265</td>\n",
       "    </tr>\n",
       "    <tr>\n",
       "      <th rowspan=\"13\" valign=\"top\">bets</th>\n",
       "      <th>num_positions</th>\n",
       "      <td>193604</td>\n",
       "    </tr>\n",
       "    <tr>\n",
       "      <th>num_bets</th>\n",
       "      <td>73779</td>\n",
       "    </tr>\n",
       "    <tr>\n",
       "      <th>long_bets_(%)</th>\n",
       "      <td>49.999322</td>\n",
       "    </tr>\n",
       "    <tr>\n",
       "      <th>avg_num_bets_per_year</th>\n",
       "      <td>7379.7615</td>\n",
       "    </tr>\n",
       "    <tr>\n",
       "      <th>avg_bet_length</th>\n",
       "      <td>2.624107</td>\n",
       "    </tr>\n",
       "    <tr>\n",
       "      <th>bet_length_units</th>\n",
       "      <td>5 * Minutes</td>\n",
       "    </tr>\n",
       "    <tr>\n",
       "      <th>bet_hit_rate_point_est_(%)</th>\n",
       "      <td>50.518775</td>\n",
       "    </tr>\n",
       "    <tr>\n",
       "      <th>bet_hit_rate_97.50%CI_lower_bound_(%)</th>\n",
       "      <td>50.152572</td>\n",
       "    </tr>\n",
       "    <tr>\n",
       "      <th>bet_hit_rate_97.50%CI_upper_bound_(%)</th>\n",
       "      <td>50.884937</td>\n",
       "    </tr>\n",
       "    <tr>\n",
       "      <th>avg_return_winning_bets_(%)</th>\n",
       "      <td>0.068098</td>\n",
       "    </tr>\n",
       "    <tr>\n",
       "      <th>avg_return_losing_bets_(%)</th>\n",
       "      <td>-0.064601</td>\n",
       "    </tr>\n",
       "    <tr>\n",
       "      <th>avg_return_long_bet_(%)</th>\n",
       "      <td>0.001393</td>\n",
       "    </tr>\n",
       "    <tr>\n",
       "      <th>avg_return_short_bet_(%)</th>\n",
       "      <td>0.003296</td>\n",
       "    </tr>\n",
       "    <tr>\n",
       "      <th>correlation</th>\n",
       "      <th>pnl_corr_to_underlying</th>\n",
       "      <td>-0.015461</td>\n",
       "    </tr>\n",
       "    <tr>\n",
       "      <th>signal_quality</th>\n",
       "      <th>sr.adj_pval</th>\n",
       "      <td>0.0</td>\n",
       "    </tr>\n",
       "  </tbody>\n",
       "</table>\n",
       "</div>"
      ],
      "text/plain": [
       "                                                                                 0\n",
       "finance        avg_turnover_(%)                                         114.606074\n",
       "               turnover_frequency                                    <5 * Minutes>\n",
       "               avg_holding_period                                         0.872554\n",
       "               holding_period_units                                  <5 * Minutes>\n",
       "sampling       start_time                                2009-01-05 13:55:00-05:00\n",
       "               end_time                                  2018-12-31 15:50:00-05:00\n",
       "               n_sampling_points                                            188574\n",
       "               frequency                                             <5 * Minutes>\n",
       "               sampling_points_per_year                                 105156.125\n",
       "               time_span_in_years                                         9.988577\n",
       "               n_rows                                                      1051296\n",
       "               frac_zero                                                  0.006565\n",
       "               frac_nan                                                   0.820627\n",
       "               frac_inf                                                        0.0\n",
       "               frac_constant                                              0.002275\n",
       "               num_finite_samples                                           188574\n",
       "               num_finite_samples_inv                                     0.000005\n",
       "               num_finite_samples_inv_dyadic_scale                             -18\n",
       "               num_finite_samples_sqrt                                  434.251079\n",
       "               num_finite_samples_sqrt_inv                                0.002303\n",
       "               num_finite_samples_sqrt_inv_dyadic_scale                         -9\n",
       "               num_unique_values                                            181673\n",
       "summary        scipy.mean                                                 0.000009\n",
       "               scipy.std                                                  0.000728\n",
       "               scipy.skew                                                 0.248904\n",
       "               scipy.kurtosis                                            20.770358\n",
       "               null_mean_zero.tval                                        5.470043\n",
       "               null_mean_zero.pval                                             0.0\n",
       "               jensen_ratio                                               0.495235\n",
       "               count                                                      188574.0\n",
       "               mean                                                       0.000009\n",
       "               std                                                        0.000728\n",
       "               min                                                       -0.009777\n",
       "               25%                                                       -0.000132\n",
       "               50%                                                             0.0\n",
       "               75%                                                        0.000142\n",
       "               max                                                        0.009763\n",
       "stationarity   adf.stat                                                -214.073187\n",
       "               adf.pval                                                        0.0\n",
       "               adf.used_lag                                                    3.0\n",
       "               adf.nobs                                                   188570.0\n",
       "               adf.critical_values_1%                                    -3.430385\n",
       "               adf.critical_values_5%                                    -2.861555\n",
       "               adf.critical_values_10%                                   -2.566778\n",
       "               adf.ic_best                                         -2190254.529909\n",
       "               kpss.stat                                                  0.361139\n",
       "               kpss.pval                                                  0.093905\n",
       "               kpss.lags                                                      16.0\n",
       "               kpss.critical_values_1%                                       0.739\n",
       "               kpss.critical_values_5%                                       0.463\n",
       "               kpss.critical_values_10%                                      0.347\n",
       "normality      omnibus_null_normal.stat                               48352.786235\n",
       "               omnibus_null_normal.pval                                        0.0\n",
       "               centered_gaussian.log_likelihood                     1094877.481576\n",
       "               centered_gaussian.centered_var                             0.000001\n",
       "spectral       forecastability                                            0.001927\n",
       "signal_quality sharpe_ratio                                               1.729889\n",
       "               sharpe_ratio_standard_error                                 0.31627\n",
       "               sr.tval                                                    5.470043\n",
       "               sr.pval                                                         0.0\n",
       "               kratio                                                     2.107111\n",
       "finance        annualized_mean_return_(%)                                17.298888\n",
       "               annualized_volatility_(%)                                      10.0\n",
       "               max_drawdown_(%)                                         -13.841956\n",
       "               hit_rate_point_est_(%)                                     50.46017\n",
       "               hit_rate_97.50%CI_lower_bound_(%)                         50.230255\n",
       "               hit_rate_97.50%CI_upper_bound_(%)                          50.69007\n",
       "correlation    prediction_corr_implied_by_pnl                             0.012597\n",
       "               prediction_corr                                            0.014907\n",
       "signal_quality sr_implied_by_prediction_corr                              2.074244\n",
       "finance        hit_rate_implied_by_prediction_corr                        0.508299\n",
       "correlation    prediction_corr_implied_by_hit_rate                        0.008265\n",
       "bets           num_positions                                                193604\n",
       "               num_bets                                                      73779\n",
       "               long_bets_(%)                                             49.999322\n",
       "               avg_num_bets_per_year                                     7379.7615\n",
       "               avg_bet_length                                             2.624107\n",
       "               bet_length_units                                        5 * Minutes\n",
       "               bet_hit_rate_point_est_(%)                                50.518775\n",
       "               bet_hit_rate_97.50%CI_lower_bound_(%)                     50.152572\n",
       "               bet_hit_rate_97.50%CI_upper_bound_(%)                     50.884937\n",
       "               avg_return_winning_bets_(%)                                0.068098\n",
       "               avg_return_losing_bets_(%)                                -0.064601\n",
       "               avg_return_long_bet_(%)                                    0.001393\n",
       "               avg_return_short_bet_(%)                                   0.003296\n",
       "correlation    pnl_corr_to_underlying                                    -0.015461\n",
       "signal_quality sr.adj_pval                                                     0.0"
      ]
     },
     "metadata": {},
     "output_type": "display_data"
    }
   ],
   "source": [
    "pnl_stats = evaluator.calculate_stats(\n",
    "    mode=eval_config[\"mode\"], target_volatility=eval_config[\"target_volatility\"]\n",
    ")\n",
    "display(pnl_stats)"
   ]
  },
  {
   "cell_type": "markdown",
   "id": "c36bf064",
   "metadata": {},
   "source": [
    "## Model selection"
   ]
  },
  {
   "cell_type": "code",
   "execution_count": 52,
   "id": "b6fecfb5",
   "metadata": {
    "ExecuteTime": {
     "end_time": "2021-09-13T21:45:01.457842Z",
     "start_time": "2021-09-13T21:45:01.160428Z"
    }
   },
   "outputs": [
    {
     "data": {
      "application/vnd.jupyter.widget-view+json": {
       "model_id": "5edf2c3272a646049f25c875e1c3e356",
       "version_major": 2,
       "version_minor": 0
      },
      "text/plain": [
       "Calculating positions:   0%|          | 0/1 [00:00<?, ?it/s]"
      ]
     },
     "metadata": {},
     "output_type": "display_data"
    },
    {
     "data": {
      "application/vnd.jupyter.widget-view+json": {
       "model_id": "8ae874ec57a74dc5b20792c8f7a38dbc",
       "version_major": 2,
       "version_minor": 0
      },
      "text/plain": [
       "Calculating PnL:   0%|          | 0/1 [00:00<?, ?it/s]"
      ]
     },
     "metadata": {},
     "output_type": "display_data"
    },
    {
     "data": {
      "image/png": "[encoded data removed]",
      "text/plain": [
       "<Figure size 1440x360 with 1 Axes>"
      ]
     },
     "metadata": {},
     "output_type": "display_data"
    }
   ],
   "source": [
    "plotter.plot_multiple_tests_adjustment(\n",
    "    threshold=eval_config[\"bh_adj_threshold\"], mode=eval_config[\"mode\"]\n",
    ")"
   ]
  },
  {
   "cell_type": "code",
   "execution_count": 53,
   "id": "b5b44ae9",
   "metadata": {
    "ExecuteTime": {
     "end_time": "2021-09-13T21:45:08.792825Z",
     "start_time": "2021-09-13T21:45:08.758597Z"
    }
   },
   "outputs": [
    {
     "name": "stdout",
     "output_type": "stream",
     "text": [
      "num model selected=1 / 1 = 100.00%\n",
      "model selected=[0]\n",
      "model not selected=[]\n"
     ]
    }
   ],
   "source": [
    "# TODO(gp): Move this chunk of code in a function.\n",
    "col_mask = (\n",
    "    pnl_stats.loc[\"signal_quality\"].loc[\"sr.adj_pval\"]\n",
    "    < eval_config[\"bh_adj_threshold\"]\n",
    ")\n",
    "selected = pnl_stats.loc[:, col_mask].columns.to_list()\n",
    "not_selected = pnl_stats.loc[:, ~col_mask].columns.to_list()\n",
    "\n",
    "print(\"num model selected=%s\" % hprint.perc(len(selected), pnl_stats.shape[1]))\n",
    "print(\"model selected=%s\" % selected)\n",
    "print(\"model not selected=%s\" % not_selected)\n",
    "\n",
    "# Use `selected = None` to show all the models."
   ]
  },
  {
   "cell_type": "code",
   "execution_count": 54,
   "id": "1736ff88",
   "metadata": {
    "ExecuteTime": {
     "end_time": "2021-09-13T21:45:15.880680Z",
     "start_time": "2021-09-13T21:45:11.968868Z"
    }
   },
   "outputs": [
    {
     "data": {
      "application/vnd.jupyter.widget-view+json": {
       "model_id": "c2155e40a0bc4a10b9939a7e43019298",
       "version_major": 2,
       "version_minor": 0
      },
      "text/plain": [
       "Calculating positions:   0%|          | 0/1 [00:00<?, ?it/s]"
      ]
     },
     "metadata": {},
     "output_type": "display_data"
    },
    {
     "data": {
      "application/vnd.jupyter.widget-view+json": {
       "model_id": "95583d54a85f49cb829768639bd087d4",
       "version_major": 2,
       "version_minor": 0
      },
      "text/plain": [
       "Calculating PnL:   0%|          | 0/1 [00:00<?, ?it/s]"
      ]
     },
     "metadata": {},
     "output_type": "display_data"
    },
    {
     "data": {
      "application/vnd.jupyter.widget-view+json": {
       "model_id": "2ccad03bd6fe43cd872b3f0dd4befa82",
       "version_major": 2,
       "version_minor": 0
      },
      "text/plain": [
       "Calculating positions:   0%|          | 0/1 [00:00<?, ?it/s]"
      ]
     },
     "metadata": {},
     "output_type": "display_data"
    },
    {
     "data": {
      "application/vnd.jupyter.widget-view+json": {
       "model_id": "73fd5d9fa2cd4244af386c339ec12e0f",
       "version_major": 2,
       "version_minor": 0
      },
      "text/plain": [
       "Calculating PnL:   0%|          | 0/1 [00:00<?, ?it/s]"
      ]
     },
     "metadata": {},
     "output_type": "display_data"
    },
    {
     "data": {
      "image/png": "[encoded data removed]",
      "text/plain": [
       "<Figure size 1440x360 with 1 Axes>"
      ]
     },
     "metadata": {},
     "output_type": "display_data"
    }
   ],
   "source": [
    "plotter.plot_multiple_pnls(\n",
    "    keys=selected,\n",
    "    resample_rule=eval_config[\"resample_rule\"],\n",
    "    mode=eval_config[\"mode\"],\n",
    ")"
   ]
  },
  {
   "cell_type": "markdown",
   "id": "9821d152",
   "metadata": {},
   "source": [
    "## Return correlation"
   ]
  },
  {
   "cell_type": "code",
   "execution_count": null,
   "id": "1d0698e1",
   "metadata": {
    "ExecuteTime": {
     "end_time": "2021-09-09T21:49:25.702985Z",
     "start_time": "2021-09-09T21:49:25.702973Z"
    }
   },
   "outputs": [],
   "source": [
    "plotter.plot_correlation_matrix(\n",
    "    series=\"returns\",\n",
    "    resample_rule=eval_config[\"resample_rule\"],\n",
    "    mode=eval_config[\"mode\"],\n",
    ")"
   ]
  },
  {
   "cell_type": "code",
   "execution_count": null,
   "id": "749d6378",
   "metadata": {
    "ExecuteTime": {
     "end_time": "2021-09-09T21:49:25.704023Z",
     "start_time": "2021-09-09T21:49:25.704012Z"
    }
   },
   "outputs": [],
   "source": [
    "plotter.plot_effective_correlation_rank(\n",
    "    series=\"returns\",\n",
    "    resample_rule=eval_config[\"resample_rule\"],\n",
    "    mode=eval_config[\"mode\"],\n",
    ")"
   ]
  },
  {
   "cell_type": "markdown",
   "id": "4a7c60d9",
   "metadata": {},
   "source": [
    "## Model correlation"
   ]
  },
  {
   "cell_type": "code",
   "execution_count": null,
   "id": "c5e7659a",
   "metadata": {
    "ExecuteTime": {
     "end_time": "2021-09-09T21:49:25.705010Z",
     "start_time": "2021-09-09T21:49:25.705000Z"
    }
   },
   "outputs": [],
   "source": [
    "plotter.plot_correlation_matrix(\n",
    "    series=\"pnl\",\n",
    "    resample_rule=eval_config[\"resample_rule\"],\n",
    "    mode=eval_config[\"mode\"],\n",
    ")"
   ]
  },
  {
   "cell_type": "code",
   "execution_count": null,
   "id": "b7938396",
   "metadata": {
    "ExecuteTime": {
     "end_time": "2021-09-09T21:49:25.705975Z",
     "start_time": "2021-09-09T21:49:25.705963Z"
    }
   },
   "outputs": [],
   "source": [
    "plotter.plot_effective_correlation_rank(\n",
    "    series=\"pnl\",\n",
    "    resample_rule=eval_config[\"resample_rule\"],\n",
    "    mode=eval_config[\"mode\"],\n",
    ")"
   ]
  },
  {
   "cell_type": "markdown",
   "id": "215ed5cc",
   "metadata": {},
   "source": [
    "## Aggregate model"
   ]
  },
  {
   "cell_type": "code",
   "execution_count": null,
   "id": "c23ae6ee",
   "metadata": {
    "ExecuteTime": {
     "end_time": "2021-09-09T21:49:25.707424Z",
     "start_time": "2021-09-09T21:49:25.707414Z"
    }
   },
   "outputs": [],
   "source": [
    "pnl_srs, pos_srs, aggregate_stats = evaluator.aggregate_models(\n",
    "    keys=selected,\n",
    "    mode=eval_config[\"mode\"],\n",
    "    target_volatility=eval_config[\"target_volatility\"],\n",
    ")\n",
    "display(aggregate_stats)"
   ]
  },
  {
   "cell_type": "code",
   "execution_count": null,
   "id": "c61ac477",
   "metadata": {
    "ExecuteTime": {
     "end_time": "2021-09-09T21:49:25.708523Z",
     "start_time": "2021-09-09T21:49:25.708510Z"
    }
   },
   "outputs": [],
   "source": [
    "plotter.plot_sharpe_ratio_panel(keys=selected, mode=eval_config[\"mode\"])"
   ]
  },
  {
   "cell_type": "code",
   "execution_count": null,
   "id": "e6ab0618",
   "metadata": {
    "ExecuteTime": {
     "end_time": "2021-09-09T21:49:25.709726Z",
     "start_time": "2021-09-09T21:49:25.709715Z"
    }
   },
   "outputs": [],
   "source": [
    "plotter.plot_rets_signal_analysis(\n",
    "    keys=selected,\n",
    "    resample_rule=eval_config[\"resample_rule\"],\n",
    "    mode=eval_config[\"mode\"],\n",
    "    target_volatility=eval_config[\"target_volatility\"],\n",
    ")"
   ]
  },
  {
   "cell_type": "code",
   "execution_count": null,
   "id": "17854931",
   "metadata": {
    "ExecuteTime": {
     "end_time": "2021-09-09T21:49:25.710739Z",
     "start_time": "2021-09-09T21:49:25.710726Z"
    }
   },
   "outputs": [],
   "source": [
    "plotter.plot_performance(\n",
    "    keys=selected,\n",
    "    resample_rule=eval_config[\"resample_rule\"],\n",
    "    mode=eval_config[\"mode\"],\n",
    "    target_volatility=eval_config[\"target_volatility\"],\n",
    ")"
   ]
  },
  {
   "cell_type": "code",
   "execution_count": null,
   "id": "27a3a550",
   "metadata": {
    "ExecuteTime": {
     "end_time": "2021-09-09T21:49:25.711946Z",
     "start_time": "2021-09-09T21:49:25.711934Z"
    }
   },
   "outputs": [],
   "source": [
    "plotter.plot_rets_and_vol(\n",
    "    keys=selected,\n",
    "    resample_rule=eval_config[\"resample_rule\"],\n",
    "    mode=eval_config[\"mode\"],\n",
    "    target_volatility=eval_config[\"target_volatility\"],\n",
    ")"
   ]
  },
  {
   "cell_type": "code",
   "execution_count": null,
   "id": "fbc20dd2",
   "metadata": {
    "ExecuteTime": {
     "end_time": "2021-09-09T21:49:25.712898Z",
     "start_time": "2021-09-09T21:49:25.712888Z"
    }
   },
   "outputs": [],
   "source": [
    "assert 0"
   ]
  },
  {
   "cell_type": "code",
   "execution_count": null,
   "id": "628273de",
   "metadata": {
    "ExecuteTime": {
     "end_time": "2021-09-09T21:49:25.713951Z",
     "start_time": "2021-09-09T21:49:25.713939Z"
    }
   },
   "outputs": [],
   "source": [
    "plotter.plot_positions(\n",
    "    keys=selected,\n",
    "    mode=eval_config[\"mode\"],\n",
    "    target_volatility=eval_config[\"target_volatility\"],\n",
    ")"
   ]
  },
  {
   "cell_type": "code",
   "execution_count": null,
   "id": "00e9e05f",
   "metadata": {
    "ExecuteTime": {
     "end_time": "2021-09-09T21:49:25.714786Z",
     "start_time": "2021-09-09T21:49:25.714774Z"
    }
   },
   "outputs": [],
   "source": [
    "# Plot the returns and prediction for one or more models.\n",
    "model_key = selected[:1]\n",
    "plotter.plot_returns_and_predictions(\n",
    "    keys=model_key,\n",
    "    resample_rule=eval_config[\"resample_rule\"],\n",
    "    mode=eval_config[\"mode\"],\n",
    ")"
   ]
  }
 ],
 "metadata": {
  "jupytext": {
   "text_representation": {
    "extension": ".py",
    "format_name": "percent",
    "format_version": "1.3",
    "jupytext_version": "1.11.4"
   }
  },
  "kernelspec": {
   "display_name": "Python 3 (ipykernel)",
   "language": "python",
   "name": "python3"
  },
  "language_info": {
   "codemirror_mode": {
    "name": "ipython",
    "version": 3
   },
   "file_extension": ".py",
   "mimetype": "text/x-python",
   "name": "python",
   "nbconvert_exporter": "python",
   "pygments_lexer": "ipython3",
   "version": "3.8.10"
  },
  "toc": {
   "base_numbering": 1,
   "nav_menu": {},
   "number_sections": true,
   "sideBar": true,
   "skip_h1_title": false,
   "title_cell": "Table of Contents",
   "title_sidebar": "Contents",
   "toc_cell": false,
   "toc_position": {},
   "toc_section_display": true,
   "toc_window_display": false
  }
 },
 "nbformat": 4,
 "nbformat_minor": 5
}
