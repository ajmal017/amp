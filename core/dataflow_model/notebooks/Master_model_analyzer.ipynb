{
 "cells": [
  {
   "cell_type": "markdown",
   "id": "a0cfeac2",
   "metadata": {},
   "source": [
    "# Description\n",
    "\n",
    "- Initialize with returns, predictions, target volatility, and oos start date\n",
    "- Evaluate portfolios generated from the predictions"
   ]
  },
  {
   "cell_type": "markdown",
   "id": "126c8435",
   "metadata": {},
   "source": [
    "# Imports"
   ]
  },
  {
   "cell_type": "code",
   "execution_count": 3,
   "id": "abf41299",
   "metadata": {
    "ExecuteTime": {
     "end_time": "2021-09-19T17:38:42.224116Z",
     "start_time": "2021-09-19T17:38:39.142499Z"
    }
   },
   "outputs": [
    {
     "name": "stdout",
     "output_type": "stream",
     "text": [
      "The autoreload extension is already loaded. To reload it, use:\n",
      "  %reload_ext autoreload\n"
     ]
    }
   ],
   "source": [
    "%load_ext autoreload\n",
    "%autoreload 2\n",
    "\n",
    "import logging\n",
    "\n",
    "import core.config as cconfig\n",
    "import core.dataflow_model.model_evaluator as modeval\n",
    "import core.dataflow_model.model_plotter as modplot\n",
    "import core.dataflow_model.utils as cdmu\n",
    "import helpers.dbg as dbg\n",
    "import helpers.printing as hprint"
   ]
  },
  {
   "cell_type": "code",
   "execution_count": 4,
   "id": "eee79ad8",
   "metadata": {
    "ExecuteTime": {
     "end_time": "2021-09-19T17:38:42.278006Z",
     "start_time": "2021-09-19T17:38:42.226279Z"
    }
   },
   "outputs": [
    {
     "name": "stdout",
     "output_type": "stream",
     "text": [
      "\u001b[0m\u001b[36mINFO\u001b[0m: > cmd='/venv/lib/python3.8/site-packages/ipykernel_launcher.py -f /root/.local/share/jupyter/runtime/kernel-9d72ee87-226a-4186-82f7-20672e16e94a.json'\n",
      "\u001b[33mWARNING\u001b[0m: Running in Jupyter\n",
      "\u001b[33mWARNING\u001b[0m: Disabling annoying warnings\n"
     ]
    }
   ],
   "source": [
    "dbg.init_logger(verbosity=logging.INFO)\n",
    "# dbg.init_logger(verbosity=logging.DEBUG)\n",
    "\n",
    "_LOG = logging.getLogger(__name__)\n",
    "\n",
    "# _LOG.info(\"%s\", env.get_system_signature()[0])\n",
    "\n",
    "hprint.config_notebook()"
   ]
  },
  {
   "cell_type": "markdown",
   "id": "c0c17e86",
   "metadata": {},
   "source": [
    "# Notebook config"
   ]
  },
  {
   "cell_type": "code",
   "execution_count": 28,
   "id": "a9c3584e",
   "metadata": {
    "ExecuteTime": {
     "end_time": "2021-09-19T18:25:41.340921Z",
     "start_time": "2021-09-19T18:25:41.302516Z"
    }
   },
   "outputs": [
    {
     "name": "stdout",
     "output_type": "stream",
     "text": [
      "Environment variable 'AM_CONFIG_CODE' not defined: no config retrieved\n",
      "load_experiment_kwargs:\n",
      "  src_dir: /app/dataflow_lemonade/RH1E/test/Test_RH1E_ProdModels.test_end_to_end_slow1/tmp.scratch/run_model/oos_experiment.RH1E.kibot_v1-top1.5T\n",
      "  file_name: result_bundle.v2_0.pkl\n",
      "  experiment_type: ins_oos\n",
      "  selected_idxs: None\n",
      "  aws_profile: None\n",
      "model_evaluator_kwargs:\n",
      "  predictions_col: ret_0_vol_adj_2\n",
      "  target_col: ret_0_vol_adj_2_hat\n",
      "  oos_start: None\n",
      "  abort_on_error: True\n",
      "bh_adj_threshold: 0.1\n",
      "resample_rule: W\n",
      "mode: ins\n",
      "target_volatility: 0.1\n"
     ]
    }
   ],
   "source": [
    "# Read from env var.\n",
    "eval_config = cconfig.Config.from_env_var(\"AM_CONFIG_CODE\")\n",
    "\n",
    "# Set a config manually.\n",
    "if False:\n",
    "    eval_config = \"Config([('load_experiment_kwargs', Config([('src_dir', '/app/dataflow_lemonade/RH1E/test/Test_RH1E_ProdModels.test_end_to_end_slow1/tmp.scratch/run_model/oos_experiment.RH1E.kibot_v1-top1.5T'), ('file_name', 'result_bundle.v2_0.pkl'), ('experiment_type', 'ins_oos'), ('selected_idxs', None), ('aws_profile', None)])), ('model_evaluator_kwargs', Config([('predictions_col', 'ret_0_vol_adj_2'), ('target_col', 'ret_0_vol_adj_2_hat'), ('oos_start', None), ('abort_on_error', True)])), ('bh_adj_threshold', 0.1), ('resample_rule', 'W'), ('mode', 'ins'), ('target_volatility', 0.1)])\"\n",
    "    eval_config = cconfig.Config.from_python(eval_config)\n",
    "\n",
    "# Override config.\n",
    "if eval_config is None:\n",
    "    # exp_dir = \"s3://eglp-spm-sasm/experiments/experiment.RH2Ef.v1_9-all.5T.20210831-004747.run1.tgz\"\n",
    "    # exp_dir = \"/app/oos_experiment.RH2Eg.v2_0-top10.5T.run1_test\"\n",
    "    exp_dir = \"/app/oos_experiment.RH2Eg.v2_0-top100.5T.run1_test\"\n",
    "    aws_profile = None\n",
    "    selected_idxs = None\n",
    "\n",
    "    eval_config = cconfig.get_config_from_nested_dict(\n",
    "        {\n",
    "            \"load_experiment_kwargs\": {\n",
    "                \"src_dir\": exp_dir,\n",
    "                \"file_name\": \"result_bundle.v2_0.pkl\",\n",
    "                \"experiment_type\": \"ins_oos\",\n",
    "                \"selected_idxs\": selected_idxs,\n",
    "                \"aws_profile\": aws_profile,\n",
    "            },\n",
    "            \"model_evaluator_kwargs\": {\n",
    "                \"predictions_col\": \"mid_ret_0_vol_adj_clipped_2_hat\",\n",
    "                \"target_col\": \"mid_ret_0_vol_adj_clipped_2\",\n",
    "                # \"oos_start\": \"2017-01-01\",\n",
    "                \"oos_start\": None,\n",
    "                \"abort_on_error\": True,\n",
    "            },\n",
    "            \"bh_adj_threshold\": 0.1,\n",
    "            \"resample_rule\": \"W\",\n",
    "            \"mode\": \"ins\",\n",
    "            \"target_volatility\": 0.1,\n",
    "        }\n",
    "    )\n",
    "\n",
    "print(str(eval_config))"
   ]
  },
  {
   "cell_type": "markdown",
   "id": "8142e65d",
   "metadata": {},
   "source": [
    "# Initialize ModelEvaluator and ModelPlotter"
   ]
  },
  {
   "cell_type": "code",
   "execution_count": 29,
   "id": "371704c7",
   "metadata": {
    "ExecuteTime": {
     "end_time": "2021-09-19T18:25:46.681236Z",
     "start_time": "2021-09-19T18:25:46.466038Z"
    },
    "scrolled": false
   },
   "outputs": [
    {
     "name": "stdout",
     "output_type": "stream",
     "text": [
      "Before load_experiment_artifacts: memory_usage=rss=0.405GB vms=3.367GB mem_pct=3%\n",
      "# Load artifacts 'result_bundle.v2_0.pkl' from '/app/dataflow_lemonade/RH1E/test/Test_RH1E_ProdModels.test_end_to_end_slow1/tmp.scratch/run_model/oos_experiment.RH1E.kibot_v1-top1.5T'\n",
      "Found 1 experiment subdirs in '/app/dataflow_lemonade/RH1E/test/Test_RH1E_ProdModels.test_end_to_end_slow1/tmp.scratch/run_model/oos_experiment.RH1E.kibot_v1-top1.5T'\n"
     ]
    },
    {
     "data": {
      "application/vnd.jupyter.widget-view+json": {
       "model_id": "627988745751413d937be25103058bfb",
       "version_major": 2,
       "version_minor": 0
      },
      "text/plain": [
       "Loading artifacts:   0%|          | 0/1 [00:00<?, ?it/s]"
      ]
     },
     "metadata": {},
     "output_type": "display_data"
    },
    {
     "name": "stdout",
     "output_type": "stream",
     "text": [
      "load_experiment_artifacts: memory_usage=rss=0.571GB vms=3.453GB mem_pct=5%\n",
      "After load_experiment_artifacts: memory_usage=rss=0.571GB vms=3.453GB mem_pct=5%\n",
      "Before building ModelEvaluator: memory_usage=rss=0.571GB vms=3.453GB mem_pct=5%\n",
      "After building ModelEvaluator: memory_usage=rss=0.606GB vms=3.489GB mem_pct=5%\n"
     ]
    }
   ],
   "source": [
    "# Build the ModelEvaluator from the eval config.\n",
    "evaluator = modeval.ModelEvaluator.from_eval_config(eval_config)\n",
    "\n",
    "# Build the ModelPlotter.\n",
    "plotter = modplot.ModelPlotter(evaluator)"
   ]
  },
  {
   "cell_type": "markdown",
   "id": "2ab68b06",
   "metadata": {},
   "source": [
    "# Analysis"
   ]
  },
  {
   "cell_type": "code",
   "execution_count": 30,
   "id": "f353ea8a",
   "metadata": {
    "ExecuteTime": {
     "end_time": "2021-09-19T18:25:55.717352Z",
     "start_time": "2021-09-19T18:25:49.545056Z"
    },
    "scrolled": false
   },
   "outputs": [
    {
     "data": {
      "application/vnd.jupyter.widget-view+json": {
       "model_id": "57206792b6134a528dcdbfca58992d14",
       "version_major": 2,
       "version_minor": 0
      },
      "text/plain": [
       "Calculating positions:   0%|          | 0/1 [00:00<?, ?it/s]"
      ]
     },
     "metadata": {},
     "output_type": "display_data"
    },
    {
     "data": {
      "application/vnd.jupyter.widget-view+json": {
       "model_id": "bde1a3bae54746eab6d3d93cc04c5010",
       "version_major": 2,
       "version_minor": 0
      },
      "text/plain": [
       "Calculating PnL:   0%|          | 0/1 [00:00<?, ?it/s]"
      ]
     },
     "metadata": {},
     "output_type": "display_data"
    },
    {
     "data": {
      "application/vnd.jupyter.widget-view+json": {
       "model_id": "2e8ced55bac345afb73c5d8c24bad9fb",
       "version_major": 2,
       "version_minor": 0
      },
      "text/plain": [
       "Calculating stats:   0%|          | 0/1 [00:00<?, ?it/s]"
      ]
     },
     "metadata": {},
     "output_type": "display_data"
    },
    {
     "data": {
      "text/html": [
       "<div>\n",
       "<style scoped>\n",
       "    .dataframe tbody tr th:only-of-type {\n",
       "        vertical-align: middle;\n",
       "    }\n",
       "\n",
       "    .dataframe tbody tr th {\n",
       "        vertical-align: top;\n",
       "    }\n",
       "\n",
       "    .dataframe thead th {\n",
       "        text-align: right;\n",
       "    }\n",
       "</style>\n",
       "<table border=\"1\" class=\"dataframe\">\n",
       "  <thead>\n",
       "    <tr style=\"text-align: right;\">\n",
       "      <th></th>\n",
       "      <th></th>\n",
       "      <th>0</th>\n",
       "    </tr>\n",
       "  </thead>\n",
       "  <tbody>\n",
       "    <tr>\n",
       "      <th rowspan=\"4\" valign=\"top\">finance</th>\n",
       "      <th>avg_turnover_(%)</th>\n",
       "      <td>144.823011</td>\n",
       "    </tr>\n",
       "    <tr>\n",
       "      <th>turnover_frequency</th>\n",
       "      <td>&lt;5 * Minutes&gt;</td>\n",
       "    </tr>\n",
       "    <tr>\n",
       "      <th>avg_holding_period</th>\n",
       "      <td>0.690498</td>\n",
       "    </tr>\n",
       "    <tr>\n",
       "      <th>holding_period_units</th>\n",
       "      <td>&lt;5 * Minutes&gt;</td>\n",
       "    </tr>\n",
       "    <tr>\n",
       "      <th rowspan=\"18\" valign=\"top\">sampling</th>\n",
       "      <th>start_time</th>\n",
       "      <td>2006-03-02 15:10:00</td>\n",
       "    </tr>\n",
       "    <tr>\n",
       "      <th>end_time</th>\n",
       "      <td>2020-08-28 15:50:00</td>\n",
       "    </tr>\n",
       "    <tr>\n",
       "      <th>n_sampling_points</th>\n",
       "      <td>262072</td>\n",
       "    </tr>\n",
       "    <tr>\n",
       "      <th>frequency</th>\n",
       "      <td>&lt;5 * Minutes&gt;</td>\n",
       "    </tr>\n",
       "    <tr>\n",
       "      <th>sampling_points_per_year</th>\n",
       "      <td>105156.125</td>\n",
       "    </tr>\n",
       "    <tr>\n",
       "      <th>time_span_in_years</th>\n",
       "      <td>14.496474</td>\n",
       "    </tr>\n",
       "    <tr>\n",
       "      <th>n_rows</th>\n",
       "      <td>2383039</td>\n",
       "    </tr>\n",
       "    <tr>\n",
       "      <th>frac_zero</th>\n",
       "      <td>0.006899</td>\n",
       "    </tr>\n",
       "    <tr>\n",
       "      <th>frac_nan</th>\n",
       "      <td>0.890026</td>\n",
       "    </tr>\n",
       "    <tr>\n",
       "      <th>frac_inf</th>\n",
       "      <td>0.0</td>\n",
       "    </tr>\n",
       "    <tr>\n",
       "      <th>frac_constant</th>\n",
       "      <td>0.000819</td>\n",
       "    </tr>\n",
       "    <tr>\n",
       "      <th>num_finite_samples</th>\n",
       "      <td>262072</td>\n",
       "    </tr>\n",
       "    <tr>\n",
       "      <th>num_finite_samples_inv</th>\n",
       "      <td>0.000004</td>\n",
       "    </tr>\n",
       "    <tr>\n",
       "      <th>num_finite_samples_inv_dyadic_scale</th>\n",
       "      <td>-18</td>\n",
       "    </tr>\n",
       "    <tr>\n",
       "      <th>num_finite_samples_sqrt</th>\n",
       "      <td>511.929683</td>\n",
       "    </tr>\n",
       "    <tr>\n",
       "      <th>num_finite_samples_sqrt_inv</th>\n",
       "      <td>0.001953</td>\n",
       "    </tr>\n",
       "    <tr>\n",
       "      <th>num_finite_samples_sqrt_inv_dyadic_scale</th>\n",
       "      <td>-9</td>\n",
       "    </tr>\n",
       "    <tr>\n",
       "      <th>num_unique_values</th>\n",
       "      <td>245633</td>\n",
       "    </tr>\n",
       "    <tr>\n",
       "      <th rowspan=\"15\" valign=\"top\">summary</th>\n",
       "      <th>scipy.mean</th>\n",
       "      <td>0.000004</td>\n",
       "    </tr>\n",
       "    <tr>\n",
       "      <th>scipy.std</th>\n",
       "      <td>0.00093</td>\n",
       "    </tr>\n",
       "    <tr>\n",
       "      <th>scipy.skew</th>\n",
       "      <td>0.011637</td>\n",
       "    </tr>\n",
       "    <tr>\n",
       "      <th>scipy.kurtosis</th>\n",
       "      <td>189.267443</td>\n",
       "    </tr>\n",
       "    <tr>\n",
       "      <th>null_mean_zero.tval</th>\n",
       "      <td>2.275431</td>\n",
       "    </tr>\n",
       "    <tr>\n",
       "      <th>null_mean_zero.pval</th>\n",
       "      <td>0.022881</td>\n",
       "    </tr>\n",
       "    <tr>\n",
       "      <th>jensen_ratio</th>\n",
       "      <td>0.320906</td>\n",
       "    </tr>\n",
       "    <tr>\n",
       "      <th>count</th>\n",
       "      <td>262072.0</td>\n",
       "    </tr>\n",
       "    <tr>\n",
       "      <th>mean</th>\n",
       "      <td>0.000004</td>\n",
       "    </tr>\n",
       "    <tr>\n",
       "      <th>std</th>\n",
       "      <td>0.00093</td>\n",
       "    </tr>\n",
       "    <tr>\n",
       "      <th>min</th>\n",
       "      <td>-0.032195</td>\n",
       "    </tr>\n",
       "    <tr>\n",
       "      <th>25%</th>\n",
       "      <td>-0.000077</td>\n",
       "    </tr>\n",
       "    <tr>\n",
       "      <th>50%</th>\n",
       "      <td>-0.0</td>\n",
       "    </tr>\n",
       "    <tr>\n",
       "      <th>75%</th>\n",
       "      <td>0.000082</td>\n",
       "    </tr>\n",
       "    <tr>\n",
       "      <th>max</th>\n",
       "      <td>0.032492</td>\n",
       "    </tr>\n",
       "    <tr>\n",
       "      <th rowspan=\"14\" valign=\"top\">stationarity</th>\n",
       "      <th>adf.stat</th>\n",
       "      <td>-124.661264</td>\n",
       "    </tr>\n",
       "    <tr>\n",
       "      <th>adf.pval</th>\n",
       "      <td>0.0</td>\n",
       "    </tr>\n",
       "    <tr>\n",
       "      <th>adf.used_lag</th>\n",
       "      <td>15.0</td>\n",
       "    </tr>\n",
       "    <tr>\n",
       "      <th>adf.nobs</th>\n",
       "      <td>262056.0</td>\n",
       "    </tr>\n",
       "    <tr>\n",
       "      <th>adf.critical_values_1%</th>\n",
       "      <td>-3.430375</td>\n",
       "    </tr>\n",
       "    <tr>\n",
       "      <th>adf.critical_values_5%</th>\n",
       "      <td>-2.861551</td>\n",
       "    </tr>\n",
       "    <tr>\n",
       "      <th>adf.critical_values_10%</th>\n",
       "      <td>-2.566776</td>\n",
       "    </tr>\n",
       "    <tr>\n",
       "      <th>adf.ic_best</th>\n",
       "      <td>-2915148.259345</td>\n",
       "    </tr>\n",
       "    <tr>\n",
       "      <th>kpss.stat</th>\n",
       "      <td>0.056946</td>\n",
       "    </tr>\n",
       "    <tr>\n",
       "      <th>kpss.pval</th>\n",
       "      <td>0.1</td>\n",
       "    </tr>\n",
       "    <tr>\n",
       "      <th>kpss.lags</th>\n",
       "      <td>16.0</td>\n",
       "    </tr>\n",
       "    <tr>\n",
       "      <th>kpss.critical_values_1%</th>\n",
       "      <td>0.739</td>\n",
       "    </tr>\n",
       "    <tr>\n",
       "      <th>kpss.critical_values_5%</th>\n",
       "      <td>0.463</td>\n",
       "    </tr>\n",
       "    <tr>\n",
       "      <th>kpss.critical_values_10%</th>\n",
       "      <td>0.347</td>\n",
       "    </tr>\n",
       "    <tr>\n",
       "      <th rowspan=\"4\" valign=\"top\">normality</th>\n",
       "      <th>omnibus_null_normal.stat</th>\n",
       "      <td>114316.385032</td>\n",
       "    </tr>\n",
       "    <tr>\n",
       "      <th>omnibus_null_normal.pval</th>\n",
       "      <td>0.0</td>\n",
       "    </tr>\n",
       "    <tr>\n",
       "      <th>centered_gaussian.log_likelihood</th>\n",
       "      <td>1457510.837208</td>\n",
       "    </tr>\n",
       "    <tr>\n",
       "      <th>centered_gaussian.centered_var</th>\n",
       "      <td>0.000001</td>\n",
       "    </tr>\n",
       "    <tr>\n",
       "      <th>spectral</th>\n",
       "      <th>forecastability</th>\n",
       "      <td>0.001734</td>\n",
       "    </tr>\n",
       "    <tr>\n",
       "      <th rowspan=\"5\" valign=\"top\">signal_quality</th>\n",
       "      <th>sharpe_ratio</th>\n",
       "      <td>0.477983</td>\n",
       "    </tr>\n",
       "    <tr>\n",
       "      <th>sharpe_ratio_standard_error</th>\n",
       "      <td>0.210064</td>\n",
       "    </tr>\n",
       "    <tr>\n",
       "      <th>sr.tval</th>\n",
       "      <td>2.275431</td>\n",
       "    </tr>\n",
       "    <tr>\n",
       "      <th>sr.pval</th>\n",
       "      <td>0.022881</td>\n",
       "    </tr>\n",
       "    <tr>\n",
       "      <th>kratio</th>\n",
       "      <td>0.612782</td>\n",
       "    </tr>\n",
       "    <tr>\n",
       "      <th rowspan=\"6\" valign=\"top\">finance</th>\n",
       "      <th>annualized_mean_return_(%)</th>\n",
       "      <td>4.779829</td>\n",
       "    </tr>\n",
       "    <tr>\n",
       "      <th>annualized_volatility_(%)</th>\n",
       "      <td>10.0</td>\n",
       "    </tr>\n",
       "    <tr>\n",
       "      <th>max_drawdown_(%)</th>\n",
       "      <td>-21.27137</td>\n",
       "    </tr>\n",
       "    <tr>\n",
       "      <th>hit_rate_point_est_(%)</th>\n",
       "      <td>50.529654</td>\n",
       "    </tr>\n",
       "    <tr>\n",
       "      <th>hit_rate_97.50%CI_lower_bound_(%)</th>\n",
       "      <td>50.331929</td>\n",
       "    </tr>\n",
       "    <tr>\n",
       "      <th>hit_rate_97.50%CI_upper_bound_(%)</th>\n",
       "      <td>50.727367</td>\n",
       "    </tr>\n",
       "    <tr>\n",
       "      <th rowspan=\"2\" valign=\"top\">correlation</th>\n",
       "      <th>prediction_corr_implied_by_pnl</th>\n",
       "      <td>0.004445</td>\n",
       "    </tr>\n",
       "    <tr>\n",
       "      <th>prediction_corr</th>\n",
       "      <td>0.008717</td>\n",
       "    </tr>\n",
       "    <tr>\n",
       "      <th>signal_quality</th>\n",
       "      <th>sr_implied_by_prediction_corr</th>\n",
       "      <td>0.937332</td>\n",
       "    </tr>\n",
       "    <tr>\n",
       "      <th>finance</th>\n",
       "      <th>hit_rate_implied_by_prediction_corr</th>\n",
       "      <td>0.505147</td>\n",
       "    </tr>\n",
       "    <tr>\n",
       "      <th>correlation</th>\n",
       "      <th>prediction_corr_implied_by_hit_rate</th>\n",
       "      <td>0.00897</td>\n",
       "    </tr>\n",
       "    <tr>\n",
       "      <th rowspan=\"13\" valign=\"top\">bets</th>\n",
       "      <th>num_positions</th>\n",
       "      <td>245871</td>\n",
       "    </tr>\n",
       "    <tr>\n",
       "      <th>num_bets</th>\n",
       "      <td>133619</td>\n",
       "    </tr>\n",
       "    <tr>\n",
       "      <th>long_bets_(%)</th>\n",
       "      <td>50.06324</td>\n",
       "    </tr>\n",
       "    <tr>\n",
       "      <th>avg_num_bets_per_year</th>\n",
       "      <td>5896.192327</td>\n",
       "    </tr>\n",
       "    <tr>\n",
       "      <th>avg_bet_length</th>\n",
       "      <td>1.84009</td>\n",
       "    </tr>\n",
       "    <tr>\n",
       "      <th>bet_length_units</th>\n",
       "      <td>5 * Minutes</td>\n",
       "    </tr>\n",
       "    <tr>\n",
       "      <th>bet_hit_rate_point_est_(%)</th>\n",
       "      <td>51.272294</td>\n",
       "    </tr>\n",
       "    <tr>\n",
       "      <th>bet_hit_rate_97.50%CI_lower_bound_(%)</th>\n",
       "      <td>51.004143</td>\n",
       "    </tr>\n",
       "    <tr>\n",
       "      <th>bet_hit_rate_97.50%CI_upper_bound_(%)</th>\n",
       "      <td>51.54039</td>\n",
       "    </tr>\n",
       "    <tr>\n",
       "      <th>avg_return_winning_bets_(%)</th>\n",
       "      <td>0.041086</td>\n",
       "    </tr>\n",
       "    <tr>\n",
       "      <th>avg_return_losing_bets_(%)</th>\n",
       "      <td>-0.041549</td>\n",
       "    </tr>\n",
       "    <tr>\n",
       "      <th>avg_return_long_bet_(%)</th>\n",
       "      <td>0.000824</td>\n",
       "    </tr>\n",
       "    <tr>\n",
       "      <th>avg_return_short_bet_(%)</th>\n",
       "      <td>0.000798</td>\n",
       "    </tr>\n",
       "    <tr>\n",
       "      <th>correlation</th>\n",
       "      <th>pnl_corr_to_underlying</th>\n",
       "      <td>-0.00743</td>\n",
       "    </tr>\n",
       "    <tr>\n",
       "      <th>signal_quality</th>\n",
       "      <th>sr.adj_pval</th>\n",
       "      <td>0.022881</td>\n",
       "    </tr>\n",
       "  </tbody>\n",
       "</table>\n",
       "</div>"
      ],
      "text/plain": [
       "                                                                           0\n",
       "finance        avg_turnover_(%)                                   144.823011\n",
       "               turnover_frequency                              <5 * Minutes>\n",
       "               avg_holding_period                                   0.690498\n",
       "               holding_period_units                            <5 * Minutes>\n",
       "sampling       start_time                                2006-03-02 15:10:00\n",
       "               end_time                                  2020-08-28 15:50:00\n",
       "               n_sampling_points                                      262072\n",
       "               frequency                                       <5 * Minutes>\n",
       "               sampling_points_per_year                           105156.125\n",
       "               time_span_in_years                                  14.496474\n",
       "               n_rows                                                2383039\n",
       "               frac_zero                                            0.006899\n",
       "               frac_nan                                             0.890026\n",
       "               frac_inf                                                  0.0\n",
       "               frac_constant                                        0.000819\n",
       "               num_finite_samples                                     262072\n",
       "               num_finite_samples_inv                               0.000004\n",
       "               num_finite_samples_inv_dyadic_scale                       -18\n",
       "               num_finite_samples_sqrt                            511.929683\n",
       "               num_finite_samples_sqrt_inv                          0.001953\n",
       "               num_finite_samples_sqrt_inv_dyadic_scale                   -9\n",
       "               num_unique_values                                      245633\n",
       "summary        scipy.mean                                           0.000004\n",
       "               scipy.std                                             0.00093\n",
       "               scipy.skew                                           0.011637\n",
       "               scipy.kurtosis                                     189.267443\n",
       "               null_mean_zero.tval                                  2.275431\n",
       "               null_mean_zero.pval                                  0.022881\n",
       "               jensen_ratio                                         0.320906\n",
       "               count                                                262072.0\n",
       "               mean                                                 0.000004\n",
       "               std                                                   0.00093\n",
       "               min                                                 -0.032195\n",
       "               25%                                                 -0.000077\n",
       "               50%                                                      -0.0\n",
       "               75%                                                  0.000082\n",
       "               max                                                  0.032492\n",
       "stationarity   adf.stat                                          -124.661264\n",
       "               adf.pval                                                  0.0\n",
       "               adf.used_lag                                             15.0\n",
       "               adf.nobs                                             262056.0\n",
       "               adf.critical_values_1%                              -3.430375\n",
       "               adf.critical_values_5%                              -2.861551\n",
       "               adf.critical_values_10%                             -2.566776\n",
       "               adf.ic_best                                   -2915148.259345\n",
       "               kpss.stat                                            0.056946\n",
       "               kpss.pval                                                 0.1\n",
       "               kpss.lags                                                16.0\n",
       "               kpss.critical_values_1%                                 0.739\n",
       "               kpss.critical_values_5%                                 0.463\n",
       "               kpss.critical_values_10%                                0.347\n",
       "normality      omnibus_null_normal.stat                        114316.385032\n",
       "               omnibus_null_normal.pval                                  0.0\n",
       "               centered_gaussian.log_likelihood               1457510.837208\n",
       "               centered_gaussian.centered_var                       0.000001\n",
       "spectral       forecastability                                      0.001734\n",
       "signal_quality sharpe_ratio                                         0.477983\n",
       "               sharpe_ratio_standard_error                          0.210064\n",
       "               sr.tval                                              2.275431\n",
       "               sr.pval                                              0.022881\n",
       "               kratio                                               0.612782\n",
       "finance        annualized_mean_return_(%)                           4.779829\n",
       "               annualized_volatility_(%)                                10.0\n",
       "               max_drawdown_(%)                                    -21.27137\n",
       "               hit_rate_point_est_(%)                              50.529654\n",
       "               hit_rate_97.50%CI_lower_bound_(%)                   50.331929\n",
       "               hit_rate_97.50%CI_upper_bound_(%)                   50.727367\n",
       "correlation    prediction_corr_implied_by_pnl                       0.004445\n",
       "               prediction_corr                                      0.008717\n",
       "signal_quality sr_implied_by_prediction_corr                        0.937332\n",
       "finance        hit_rate_implied_by_prediction_corr                  0.505147\n",
       "correlation    prediction_corr_implied_by_hit_rate                   0.00897\n",
       "bets           num_positions                                          245871\n",
       "               num_bets                                               133619\n",
       "               long_bets_(%)                                        50.06324\n",
       "               avg_num_bets_per_year                             5896.192327\n",
       "               avg_bet_length                                        1.84009\n",
       "               bet_length_units                                  5 * Minutes\n",
       "               bet_hit_rate_point_est_(%)                          51.272294\n",
       "               bet_hit_rate_97.50%CI_lower_bound_(%)               51.004143\n",
       "               bet_hit_rate_97.50%CI_upper_bound_(%)                51.54039\n",
       "               avg_return_winning_bets_(%)                          0.041086\n",
       "               avg_return_losing_bets_(%)                          -0.041549\n",
       "               avg_return_long_bet_(%)                              0.000824\n",
       "               avg_return_short_bet_(%)                             0.000798\n",
       "correlation    pnl_corr_to_underlying                               -0.00743\n",
       "signal_quality sr.adj_pval                                          0.022881"
      ]
     },
     "metadata": {},
     "output_type": "display_data"
    }
   ],
   "source": [
    "pnl_stats = evaluator.calculate_stats(\n",
    "    mode=eval_config[\"mode\"], target_volatility=eval_config[\"target_volatility\"]\n",
    ")\n",
    "display(pnl_stats)"
   ]
  },
  {
   "cell_type": "markdown",
   "id": "c36bf064",
   "metadata": {},
   "source": [
    "## Model selection"
   ]
  },
  {
   "cell_type": "code",
   "execution_count": null,
   "id": "b6fecfb5",
   "metadata": {
    "ExecuteTime": {
     "end_time": "2021-09-09T21:49:25.699435Z",
     "start_time": "2021-09-09T21:49:25.699423Z"
    }
   },
   "outputs": [],
   "source": [
    "plotter.plot_multiple_tests_adjustment(\n",
    "    threshold=eval_config[\"bh_adj_threshold\"], mode=eval_config[\"mode\"]\n",
    ")"
   ]
  },
  {
   "cell_type": "code",
   "execution_count": null,
   "id": "b5b44ae9",
   "metadata": {
    "ExecuteTime": {
     "end_time": "2021-09-09T21:49:25.700640Z",
     "start_time": "2021-09-09T21:49:25.700629Z"
    }
   },
   "outputs": [],
   "source": [
    "# TODO(gp): Move this chunk of code in a function.\n",
    "col_mask = (\n",
    "    pnl_stats.loc[\"signal_quality\"].loc[\"sr.adj_pval\"]\n",
    "    < eval_config[\"bh_adj_threshold\"]\n",
    ")\n",
    "selected = pnl_stats.loc[:, col_mask].columns.to_list()\n",
    "not_selected = pnl_stats.loc[:, ~col_mask].columns.to_list()\n",
    "\n",
    "print(\"num model selected=%s\" % hprint.perc(len(selected), pnl_stats.shape[1]))\n",
    "print(\"model selected=%s\" % selected)\n",
    "print(\"model not selected=%s\" % not_selected)\n",
    "\n",
    "# Use `selected = None` to show all the models."
   ]
  },
  {
   "cell_type": "code",
   "execution_count": null,
   "id": "1736ff88",
   "metadata": {
    "ExecuteTime": {
     "end_time": "2021-09-09T21:49:25.701589Z",
     "start_time": "2021-09-09T21:49:25.701576Z"
    }
   },
   "outputs": [],
   "source": [
    "plotter.plot_multiple_pnls(\n",
    "    keys=selected,\n",
    "    resample_rule=eval_config[\"resample_rule\"],\n",
    "    mode=eval_config[\"mode\"],\n",
    ")"
   ]
  },
  {
   "cell_type": "markdown",
   "id": "9821d152",
   "metadata": {},
   "source": [
    "## Return correlation"
   ]
  },
  {
   "cell_type": "code",
   "execution_count": null,
   "id": "1d0698e1",
   "metadata": {
    "ExecuteTime": {
     "end_time": "2021-09-09T21:49:25.702985Z",
     "start_time": "2021-09-09T21:49:25.702973Z"
    }
   },
   "outputs": [],
   "source": [
    "plotter.plot_correlation_matrix(\n",
    "    series=\"returns\",\n",
    "    resample_rule=eval_config[\"resample_rule\"],\n",
    "    mode=eval_config[\"mode\"],\n",
    ")"
   ]
  },
  {
   "cell_type": "code",
   "execution_count": null,
   "id": "749d6378",
   "metadata": {
    "ExecuteTime": {
     "end_time": "2021-09-09T21:49:25.704023Z",
     "start_time": "2021-09-09T21:49:25.704012Z"
    }
   },
   "outputs": [],
   "source": [
    "plotter.plot_effective_correlation_rank(\n",
    "    series=\"returns\",\n",
    "    resample_rule=eval_config[\"resample_rule\"],\n",
    "    mode=eval_config[\"mode\"],\n",
    ")"
   ]
  },
  {
   "cell_type": "markdown",
   "id": "4a7c60d9",
   "metadata": {},
   "source": [
    "## Model correlation"
   ]
  },
  {
   "cell_type": "code",
   "execution_count": null,
   "id": "c5e7659a",
   "metadata": {
    "ExecuteTime": {
     "end_time": "2021-09-09T21:49:25.705010Z",
     "start_time": "2021-09-09T21:49:25.705000Z"
    }
   },
   "outputs": [],
   "source": [
    "plotter.plot_correlation_matrix(\n",
    "    series=\"pnl\",\n",
    "    resample_rule=eval_config[\"resample_rule\"],\n",
    "    mode=eval_config[\"mode\"],\n",
    ")"
   ]
  },
  {
   "cell_type": "code",
   "execution_count": null,
   "id": "b7938396",
   "metadata": {
    "ExecuteTime": {
     "end_time": "2021-09-09T21:49:25.705975Z",
     "start_time": "2021-09-09T21:49:25.705963Z"
    }
   },
   "outputs": [],
   "source": [
    "plotter.plot_effective_correlation_rank(\n",
    "    series=\"pnl\",\n",
    "    resample_rule=eval_config[\"resample_rule\"],\n",
    "    mode=eval_config[\"mode\"],\n",
    ")"
   ]
  },
  {
   "cell_type": "markdown",
   "id": "215ed5cc",
   "metadata": {},
   "source": [
    "## Aggregate model"
   ]
  },
  {
   "cell_type": "code",
   "execution_count": null,
   "id": "c23ae6ee",
   "metadata": {
    "ExecuteTime": {
     "end_time": "2021-09-09T21:49:25.707424Z",
     "start_time": "2021-09-09T21:49:25.707414Z"
    }
   },
   "outputs": [],
   "source": [
    "pnl_srs, pos_srs, aggregate_stats = evaluator.aggregate_models(\n",
    "    keys=selected,\n",
    "    mode=eval_config[\"mode\"],\n",
    "    target_volatility=eval_config[\"target_volatility\"],\n",
    ")\n",
    "display(aggregate_stats)"
   ]
  },
  {
   "cell_type": "code",
   "execution_count": null,
   "id": "c61ac477",
   "metadata": {
    "ExecuteTime": {
     "end_time": "2021-09-09T21:49:25.708523Z",
     "start_time": "2021-09-09T21:49:25.708510Z"
    }
   },
   "outputs": [],
   "source": [
    "plotter.plot_sharpe_ratio_panel(keys=selected, mode=eval_config[\"mode\"])"
   ]
  },
  {
   "cell_type": "code",
   "execution_count": null,
   "id": "e6ab0618",
   "metadata": {
    "ExecuteTime": {
     "end_time": "2021-09-09T21:49:25.709726Z",
     "start_time": "2021-09-09T21:49:25.709715Z"
    }
   },
   "outputs": [],
   "source": [
    "plotter.plot_rets_signal_analysis(\n",
    "    keys=selected,\n",
    "    resample_rule=eval_config[\"resample_rule\"],\n",
    "    mode=eval_config[\"mode\"],\n",
    "    target_volatility=eval_config[\"target_volatility\"],\n",
    ")"
   ]
  },
  {
   "cell_type": "code",
   "execution_count": null,
   "id": "17854931",
   "metadata": {
    "ExecuteTime": {
     "end_time": "2021-09-09T21:49:25.710739Z",
     "start_time": "2021-09-09T21:49:25.710726Z"
    }
   },
   "outputs": [],
   "source": [
    "plotter.plot_performance(\n",
    "    keys=selected,\n",
    "    resample_rule=eval_config[\"resample_rule\"],\n",
    "    mode=eval_config[\"mode\"],\n",
    "    target_volatility=eval_config[\"target_volatility\"],\n",
    ")"
   ]
  },
  {
   "cell_type": "code",
   "execution_count": null,
   "id": "27a3a550",
   "metadata": {
    "ExecuteTime": {
     "end_time": "2021-09-09T21:49:25.711946Z",
     "start_time": "2021-09-09T21:49:25.711934Z"
    }
   },
   "outputs": [],
   "source": [
    "plotter.plot_rets_and_vol(\n",
    "    keys=selected,\n",
    "    resample_rule=eval_config[\"resample_rule\"],\n",
    "    mode=eval_config[\"mode\"],\n",
    "    target_volatility=eval_config[\"target_volatility\"],\n",
    ")"
   ]
  },
  {
   "cell_type": "code",
   "execution_count": null,
   "id": "628273de",
   "metadata": {
    "ExecuteTime": {
     "end_time": "2021-09-09T21:49:25.713951Z",
     "start_time": "2021-09-09T21:49:25.713939Z"
    }
   },
   "outputs": [],
   "source": [
    "if False:\n",
    "    plotter.plot_positions(\n",
    "        keys=selected,\n",
    "        mode=eval_config[\"mode\"],\n",
    "        target_volatility=eval_config[\"target_volatility\"],\n",
    "    )"
   ]
  },
  {
   "cell_type": "code",
   "execution_count": null,
   "id": "00e9e05f",
   "metadata": {
    "ExecuteTime": {
     "end_time": "2021-09-09T21:49:25.714786Z",
     "start_time": "2021-09-09T21:49:25.714774Z"
    }
   },
   "outputs": [],
   "source": [
    "if False:\n",
    "    # Plot the returns and prediction for one or more models.\n",
    "    model_key = selected[:1]\n",
    "    plotter.plot_returns_and_predictions(\n",
    "        keys=model_key,\n",
    "        resample_rule=eval_config[\"resample_rule\"],\n",
    "        mode=eval_config[\"mode\"],\n",
    "    )"
   ]
  }
 ],
 "metadata": {
  "jupytext": {
   "text_representation": {
    "extension": ".py",
    "format_name": "percent",
    "format_version": "1.3",
    "jupytext_version": "1.11.4"
   }
  },
  "kernelspec": {
   "display_name": "Python 3 (ipykernel)",
   "language": "python",
   "name": "python3"
  },
  "language_info": {
   "codemirror_mode": {
    "name": "ipython",
    "version": 3
   },
   "file_extension": ".py",
   "mimetype": "text/x-python",
   "name": "python",
   "nbconvert_exporter": "python",
   "pygments_lexer": "ipython3",
   "version": "3.8.10"
  },
  "toc": {
   "base_numbering": 1,
   "nav_menu": {},
   "number_sections": true,
   "sideBar": true,
   "skip_h1_title": false,
   "title_cell": "Table of Contents",
   "title_sidebar": "Contents",
   "toc_cell": false,
   "toc_position": {},
   "toc_section_display": true,
   "toc_window_display": false
  }
 },
 "nbformat": 4,
 "nbformat_minor": 5
}
