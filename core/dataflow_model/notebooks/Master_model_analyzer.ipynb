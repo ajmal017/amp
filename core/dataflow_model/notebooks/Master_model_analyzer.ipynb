{
 "cells": [
  {
   "cell_type": "markdown",
   "id": "a0cfeac2",
   "metadata": {},
   "source": [
    "# Description\n",
    "\n",
    "- Initialize with returns, predictions, target volatility, and oos start date\n",
    "- Evaluate portfolios generated from the predictions"
   ]
  },
  {
   "cell_type": "markdown",
   "id": "126c8435",
   "metadata": {},
   "source": [
    "# Imports"
   ]
  },
  {
   "cell_type": "code",
   "execution_count": 1,
   "id": "abf41299",
   "metadata": {
    "ExecuteTime": {
     "end_time": "2021-09-09T21:49:23.781477Z",
     "start_time": "2021-09-09T21:49:20.731550Z"
    }
   },
   "outputs": [],
   "source": [
    "%load_ext autoreload\n",
    "%autoreload 2\n",
    "\n",
    "import logging\n",
    "\n",
    "import core.config as cconfig\n",
    "import core.dataflow_model.model_evaluator as modeval\n",
    "import core.dataflow_model.model_plotter as modplot\n",
    "import core.dataflow_model.utils as cdmu\n",
    "import helpers.dbg as dbg\n",
    "import helpers.printing as hprint"
   ]
  },
  {
   "cell_type": "code",
   "execution_count": 2,
   "id": "eee79ad8",
   "metadata": {
    "ExecuteTime": {
     "end_time": "2021-09-09T21:49:23.817517Z",
     "start_time": "2021-09-09T21:49:23.783547Z"
    }
   },
   "outputs": [
    {
     "name": "stdout",
     "output_type": "stream",
     "text": [
      "\u001b[0m\u001b[36mINFO\u001b[0m: > cmd='/venv/lib/python3.8/site-packages/ipykernel_launcher.py -f /root/.local/share/jupyter/runtime/kernel-304a7418-8455-4236-9080-0571b5f87e43.json'\n",
      "\u001b[33mWARNING\u001b[0m: Running in Jupyter\n",
      "\u001b[33mWARNING\u001b[0m: Disabling annoying warnings\n"
     ]
    }
   ],
   "source": [
    "dbg.init_logger(verbosity=logging.INFO)\n",
    "#dbg.init_logger(verbosity=logging.DEBUG)\n",
    "\n",
    "_LOG = logging.getLogger(__name__)\n",
    "\n",
    "# _LOG.info(\"%s\", env.get_system_signature()[0])\n",
    "\n",
    "hprint.config_notebook()"
   ]
  },
  {
   "cell_type": "code",
   "execution_count": 3,
   "id": "002b6968",
   "metadata": {
    "ExecuteTime": {
     "end_time": "2021-09-09T21:49:23.845656Z",
     "start_time": "2021-09-09T21:49:23.818728Z"
    }
   },
   "outputs": [],
   "source": [
    "# file_name = \"/app/oos_experiment.RH2Eg.v2_0-top10.5T.run1_test/result_1/result_bundle.v2_0.pkl\"\n",
    "\n",
    "# import helpers.pickle_ as hpickle\n",
    "\n",
    "# obj = hpickle.from_pickle(file_name)"
   ]
  },
  {
   "cell_type": "code",
   "execution_count": 4,
   "id": "52f8be75",
   "metadata": {
    "ExecuteTime": {
     "end_time": "2021-09-09T21:49:23.873650Z",
     "start_time": "2021-09-09T21:49:23.847618Z"
    }
   },
   "outputs": [],
   "source": [
    "#obj.keys()"
   ]
  },
  {
   "cell_type": "code",
   "execution_count": 5,
   "id": "29f6f2ce",
   "metadata": {
    "ExecuteTime": {
     "end_time": "2021-09-09T21:49:23.900779Z",
     "start_time": "2021-09-09T21:49:23.874978Z"
    }
   },
   "outputs": [],
   "source": [
    "# import helpers.introspection as hintro\n",
    "\n",
    "# for k in obj.keys():\n",
    "#     print(k, hintro.get_size_in_bytes(obj[k]))"
   ]
  },
  {
   "cell_type": "code",
   "execution_count": 6,
   "id": "41ad487f",
   "metadata": {
    "ExecuteTime": {
     "end_time": "2021-09-09T21:49:23.928312Z",
     "start_time": "2021-09-09T21:49:23.902222Z"
    }
   },
   "outputs": [],
   "source": [
    "#obj[\"payload\"][\"fit_result_bundle\"][\"result_df\"]"
   ]
  },
  {
   "cell_type": "markdown",
   "id": "c0c17e86",
   "metadata": {},
   "source": [
    "# Notebook config"
   ]
  },
  {
   "cell_type": "code",
   "execution_count": 7,
   "id": "a9c3584e",
   "metadata": {
    "ExecuteTime": {
     "end_time": "2021-09-09T21:49:23.957998Z",
     "start_time": "2021-09-09T21:49:23.929545Z"
    }
   },
   "outputs": [],
   "source": [
    "# exp_dir = \"s3://eglp-spm-sasm/experiments/experiment.RH2Ef.v1_9-all.5T.20210831-004747.run1.tgz\"\n",
    "exp_dir = \"/app/oos_experiment.RH2Eg.v2_0-top10.5T.run1_test\"\n",
    "aws_profile = None\n",
    "\n",
    "eval_config = cconfig.get_config_from_nested_dict(\n",
    "    {\n",
    "        \"load_experiment_kwargs\": {\n",
    "            \"src_dir\": exp_dir,\n",
    "            \"file_name\": \"result_bundle.v2_0.pkl\",\n",
    "            \"experiment_type\": \"ins_oos\",\n",
    "            \"selected_idxs\": None,\n",
    "            \"aws_profile\": aws_profile,\n",
    "        },\n",
    "        \"model_evaluator_kwargs\": {\n",
    "            \"predictions_col\": \"mid_ret_0_vol_adj_clipped_2_hat\",\n",
    "            \"target_col\": \"mid_ret_0_vol_adj_clipped_2\",\n",
    "            # \"oos_start\": \"2017-01-01\",\n",
    "        },\n",
    "        \"bh_adj_threshold\": 0.1,\n",
    "        \"resample_rule\": \"W\",\n",
    "        \"mode\": \"ins\",\n",
    "        \"target_volatility\": 0.1,\n",
    "    }\n",
    ")"
   ]
  },
  {
   "cell_type": "markdown",
   "id": "8142e65d",
   "metadata": {},
   "source": [
    "# Initialize ModelEvaluator and ModelPlotter"
   ]
  },
  {
   "cell_type": "code",
   "execution_count": 12,
   "id": "371704c7",
   "metadata": {
    "ExecuteTime": {
     "end_time": "2021-09-09T21:53:55.712720Z",
     "start_time": "2021-09-09T21:53:54.392984Z"
    },
    "scrolled": false
   },
   "outputs": [
    {
     "name": "stdout",
     "output_type": "stream",
     "text": [
      "# Load artifacts 'result_bundle.v2_0.pkl' from '/app/oos_experiment.RH2Eg.v2_0-top10.5T.run1_test'\n",
      "Found 9 experiment subdirs in '/app/oos_experiment.RH2Eg.v2_0-top10.5T.run1_test'\n"
     ]
    },
    {
     "data": {
      "application/vnd.jupyter.widget-view+json": {
       "model_id": "1d65f014f9344ceaa7d59c1fffa7d343",
       "version_major": 2,
       "version_minor": 0
      },
      "text/plain": [
       "Loading artifacts:   0%|          | 0/9 [00:00<?, ?it/s]"
      ]
     },
     "metadata": {},
     "output_type": "display_data"
    },
    {
     "name": "stdout",
     "output_type": "stream",
     "text": [
      "Unpickling from '/app/oos_experiment.RH2Eg.v2_0-top10.5T.run1_test/result_0/result_bundle.v2_0.pkl' ...\n",
      "Unpickling from '/app/oos_experiment.RH2Eg.v2_0-top10.5T.run1_test/result_0/result_bundle.v2_0.pkl' done (0.089 s)\n",
      "Read '/app/oos_experiment.RH2Eg.v2_0-top10.5T.run1_test/result_0/result_bundle.v2_0.pkl' (size=147.6 MB, time=0.1s)\n",
      "Loaded '/app/oos_experiment.RH2Eg.v2_0-top10.5T.run1_test/result_0/result_bundle.v2_0.pq' (size=40.1 MB, time=0.1s)\n",
      "Unpickling from '/app/oos_experiment.RH2Eg.v2_0-top10.5T.run1_test/result_1/result_bundle.v2_0.pkl' ...\n",
      "Unpickling from '/app/oos_experiment.RH2Eg.v2_0-top10.5T.run1_test/result_1/result_bundle.v2_0.pkl' done (0.086 s)\n",
      "Read '/app/oos_experiment.RH2Eg.v2_0-top10.5T.run1_test/result_1/result_bundle.v2_0.pkl' (size=147.6 MB, time=0.1s)\n",
      "Loaded '/app/oos_experiment.RH2Eg.v2_0-top10.5T.run1_test/result_1/result_bundle.v2_0.pq' (size=34.8 MB, time=0.0s)\n",
      "Unpickling from '/app/oos_experiment.RH2Eg.v2_0-top10.5T.run1_test/result_2/result_bundle.v2_0.pkl' ...\n",
      "Unpickling from '/app/oos_experiment.RH2Eg.v2_0-top10.5T.run1_test/result_2/result_bundle.v2_0.pkl' done (0.087 s)\n",
      "Read '/app/oos_experiment.RH2Eg.v2_0-top10.5T.run1_test/result_2/result_bundle.v2_0.pkl' (size=147.6 MB, time=0.1s)\n",
      "Loaded '/app/oos_experiment.RH2Eg.v2_0-top10.5T.run1_test/result_2/result_bundle.v2_0.pq' (size=41.6 MB, time=0.0s)\n",
      "Unpickling from '/app/oos_experiment.RH2Eg.v2_0-top10.5T.run1_test/result_3/result_bundle.v2_0.pkl' ...\n",
      "Unpickling from '/app/oos_experiment.RH2Eg.v2_0-top10.5T.run1_test/result_3/result_bundle.v2_0.pkl' done (0.087 s)\n",
      "Read '/app/oos_experiment.RH2Eg.v2_0-top10.5T.run1_test/result_3/result_bundle.v2_0.pkl' (size=147.6 MB, time=0.1s)\n",
      "Loaded '/app/oos_experiment.RH2Eg.v2_0-top10.5T.run1_test/result_3/result_bundle.v2_0.pq' (size=41.3 MB, time=0.0s)\n",
      "Unpickling from '/app/oos_experiment.RH2Eg.v2_0-top10.5T.run1_test/result_4/result_bundle.v2_0.pkl' ...\n",
      "Unpickling from '/app/oos_experiment.RH2Eg.v2_0-top10.5T.run1_test/result_4/result_bundle.v2_0.pkl' done (0.086 s)\n",
      "Read '/app/oos_experiment.RH2Eg.v2_0-top10.5T.run1_test/result_4/result_bundle.v2_0.pkl' (size=147.6 MB, time=0.1s)\n",
      "Loaded '/app/oos_experiment.RH2Eg.v2_0-top10.5T.run1_test/result_4/result_bundle.v2_0.pq' (size=40.8 MB, time=0.0s)\n",
      "Unpickling from '/app/oos_experiment.RH2Eg.v2_0-top10.5T.run1_test/result_5/result_bundle.v2_0.pkl' ...\n",
      "Unpickling from '/app/oos_experiment.RH2Eg.v2_0-top10.5T.run1_test/result_5/result_bundle.v2_0.pkl' done (0.085 s)\n",
      "Read '/app/oos_experiment.RH2Eg.v2_0-top10.5T.run1_test/result_5/result_bundle.v2_0.pkl' (size=147.6 MB, time=0.1s)\n",
      "Loaded '/app/oos_experiment.RH2Eg.v2_0-top10.5T.run1_test/result_5/result_bundle.v2_0.pq' (size=41.0 MB, time=0.1s)\n",
      "Unpickling from '/app/oos_experiment.RH2Eg.v2_0-top10.5T.run1_test/result_6/result_bundle.v2_0.pkl' ...\n",
      "Unpickling from '/app/oos_experiment.RH2Eg.v2_0-top10.5T.run1_test/result_6/result_bundle.v2_0.pkl' done (0.088 s)\n",
      "Read '/app/oos_experiment.RH2Eg.v2_0-top10.5T.run1_test/result_6/result_bundle.v2_0.pkl' (size=147.6 MB, time=0.1s)\n",
      "Loaded '/app/oos_experiment.RH2Eg.v2_0-top10.5T.run1_test/result_6/result_bundle.v2_0.pq' (size=41.7 MB, time=0.0s)\n",
      "Unpickling from '/app/oos_experiment.RH2Eg.v2_0-top10.5T.run1_test/result_7/result_bundle.v2_0.pkl' ...\n",
      "Unpickling from '/app/oos_experiment.RH2Eg.v2_0-top10.5T.run1_test/result_7/result_bundle.v2_0.pkl' done (0.089 s)\n",
      "Read '/app/oos_experiment.RH2Eg.v2_0-top10.5T.run1_test/result_7/result_bundle.v2_0.pkl' (size=147.6 MB, time=0.1s)\n",
      "Loaded '/app/oos_experiment.RH2Eg.v2_0-top10.5T.run1_test/result_7/result_bundle.v2_0.pq' (size=38.6 MB, time=0.1s)\n",
      "Can't find '/app/oos_experiment.RH2Eg.v2_0-top10.5T.run1_test/result_8/result_bundle.v2_0.pkl': skipping\n"
     ]
    }
   ],
   "source": [
    "# # Load the data.\n",
    "# #selected_idxs = list(range(4))\n",
    "# result_bundles = cdmu.yield_experiment_artifacts(\n",
    "#     eval_config[\"exp_dir\"],\n",
    "#     \"result_bundle.pkl\",\n",
    "#     #selected_idxs=selected_idxs,\n",
    "# )\n",
    "\n",
    "load_config = eval_config[\"load_experiment_kwargs\"].to_dict()\n",
    "\n",
    "# Load only the columns needed by the ModelEvaluator.\n",
    "load_config[\"load_rb_kwargs\"] = {\n",
    "    \"columns\": \n",
    "    [eval_config[\"model_evaluator_kwargs\"][\"target_col\"],\n",
    "    eval_config[\"model_evaluator_kwargs\"][\"predictions_col\"]]\n",
    "}\n",
    "result_bundle_dict = cdmu.load_experiment_artifacts(**load_config)\n",
    "\n",
    "# Build the ModelEvaluator.\n",
    "evaluator = modeval.ModelEvaluator.from_result_bundle_dict(\n",
    "    result_bundle_dict,\n",
    "    #abort_on_error=False,\n",
    "    abort_on_error=True,\n",
    "    **eval_config[\"model_evaluator_kwargs\"].to_dict(),\n",
    ")\n",
    "# Build the ModelPlotter.\n",
    "plotter = modplot.ModelPlotter(evaluator)"
   ]
  },
  {
   "cell_type": "markdown",
   "id": "2ab68b06",
   "metadata": {},
   "source": [
    "# Analysis"
   ]
  },
  {
   "cell_type": "code",
   "execution_count": 9,
   "id": "f353ea8a",
   "metadata": {
    "ExecuteTime": {
     "end_time": "2021-09-09T21:49:25.697380Z",
     "start_time": "2021-09-09T21:49:25.483978Z"
    }
   },
   "outputs": [
    {
     "ename": "AssertionError",
     "evalue": "\n################################################################################\n* Failed assertion *\ncond=None\n################################################################################\n",
     "output_type": "error",
     "traceback": [
      "\u001b[0;31m---------------------------------------------------------------------------\u001b[0m",
      "\u001b[0;31mAssertionError\u001b[0m                            Traceback (most recent call last)",
      "\u001b[0;32m/tmp/ipykernel_499/323101535.py\u001b[0m in \u001b[0;36m<module>\u001b[0;34m\u001b[0m\n\u001b[0;32m----> 1\u001b[0;31m pnl_stats = evaluator.calculate_stats(\n\u001b[0m\u001b[1;32m      2\u001b[0m     \u001b[0mmode\u001b[0m\u001b[0;34m=\u001b[0m\u001b[0meval_config\u001b[0m\u001b[0;34m[\u001b[0m\u001b[0;34m\"mode\"\u001b[0m\u001b[0;34m]\u001b[0m\u001b[0;34m,\u001b[0m \u001b[0mtarget_volatility\u001b[0m\u001b[0;34m=\u001b[0m\u001b[0meval_config\u001b[0m\u001b[0;34m[\u001b[0m\u001b[0;34m\"target_volatility\"\u001b[0m\u001b[0;34m]\u001b[0m\u001b[0;34m\u001b[0m\u001b[0;34m\u001b[0m\u001b[0m\n\u001b[1;32m      3\u001b[0m )\n\u001b[1;32m      4\u001b[0m \u001b[0mdisplay\u001b[0m\u001b[0;34m(\u001b[0m\u001b[0mpnl_stats\u001b[0m\u001b[0;34m)\u001b[0m\u001b[0;34m\u001b[0m\u001b[0;34m\u001b[0m\u001b[0m\n",
      "\u001b[0;32m/app/amp/core/dataflow_model/model_evaluator.py\u001b[0m in \u001b[0;36mcalculate_stats\u001b[0;34m(self, keys, position_method, target_volatility, returns_shift, predictions_shift, mode)\u001b[0m\n\u001b[1;32m    251\u001b[0m         \"\"\"\n\u001b[1;32m    252\u001b[0m         \u001b[0;31m#\u001b[0m\u001b[0;34m\u001b[0m\u001b[0;34m\u001b[0m\u001b[0;34m\u001b[0m\u001b[0m\n\u001b[0;32m--> 253\u001b[0;31m         pnl_dict = self.compute_pnl(\n\u001b[0m\u001b[1;32m    254\u001b[0m             \u001b[0mkeys\u001b[0m\u001b[0;34m,\u001b[0m\u001b[0;34m\u001b[0m\u001b[0;34m\u001b[0m\u001b[0m\n\u001b[1;32m    255\u001b[0m             \u001b[0mposition_method\u001b[0m\u001b[0;34m=\u001b[0m\u001b[0mposition_method\u001b[0m\u001b[0;34m,\u001b[0m\u001b[0;34m\u001b[0m\u001b[0;34m\u001b[0m\u001b[0m\n",
      "\u001b[0;32m/app/amp/core/dataflow_model/model_evaluator.py\u001b[0m in \u001b[0;36mcompute_pnl\u001b[0;34m(self, keys, position_method, target_volatility, returns_shift, predictions_shift, mode)\u001b[0m\n\u001b[1;32m    316\u001b[0m             \u001b[0mdbg\u001b[0m\u001b[0;34m.\u001b[0m\u001b[0mdassert_in\u001b[0m\u001b[0;34m(\u001b[0m\u001b[0mself\u001b[0m\u001b[0;34m.\u001b[0m\u001b[0mtarget_col\u001b[0m\u001b[0;34m,\u001b[0m \u001b[0mself\u001b[0m\u001b[0;34m.\u001b[0m\u001b[0m_data\u001b[0m\u001b[0;34m[\u001b[0m\u001b[0mkey\u001b[0m\u001b[0;34m]\u001b[0m\u001b[0;34m.\u001b[0m\u001b[0mcolumns\u001b[0m\u001b[0;34m)\u001b[0m\u001b[0;34m\u001b[0m\u001b[0;34m\u001b[0m\u001b[0m\n\u001b[1;32m    317\u001b[0m             \u001b[0msrs\u001b[0m \u001b[0;34m=\u001b[0m \u001b[0mself\u001b[0m\u001b[0;34m.\u001b[0m\u001b[0m_data\u001b[0m\u001b[0;34m[\u001b[0m\u001b[0mkey\u001b[0m\u001b[0;34m]\u001b[0m\u001b[0;34m[\u001b[0m\u001b[0mself\u001b[0m\u001b[0;34m.\u001b[0m\u001b[0mtarget_col\u001b[0m\u001b[0;34m]\u001b[0m\u001b[0;34m\u001b[0m\u001b[0;34m\u001b[0m\u001b[0m\n\u001b[0;32m--> 318\u001b[0;31m             \u001b[0m_validate_series\u001b[0m\u001b[0;34m(\u001b[0m\u001b[0msrs\u001b[0m\u001b[0;34m)\u001b[0m\u001b[0;34m\u001b[0m\u001b[0;34m\u001b[0m\u001b[0m\n\u001b[0m\u001b[1;32m    319\u001b[0m             \u001b[0mdbg\u001b[0m\u001b[0;34m.\u001b[0m\u001b[0mdassert_lte\u001b[0m\u001b[0;34m(\u001b[0m\u001b[0;36m0\u001b[0m\u001b[0;34m,\u001b[0m \u001b[0mreturns_shift\u001b[0m\u001b[0;34m)\u001b[0m\u001b[0;34m\u001b[0m\u001b[0;34m\u001b[0m\u001b[0m\n\u001b[1;32m    320\u001b[0m             \u001b[0msrs\u001b[0m \u001b[0;34m=\u001b[0m \u001b[0msrs\u001b[0m\u001b[0;34m.\u001b[0m\u001b[0mshift\u001b[0m\u001b[0;34m(\u001b[0m\u001b[0mreturns_shift\u001b[0m\u001b[0;34m)\u001b[0m\u001b[0;34m\u001b[0m\u001b[0;34m\u001b[0m\u001b[0m\n",
      "\u001b[0;32m/app/amp/core/dataflow_model/model_evaluator.py\u001b[0m in \u001b[0;36m_validate_series\u001b[0;34m(srs, oos_start)\u001b[0m\n\u001b[1;32m    419\u001b[0m         \u001b[0mdbg\u001b[0m\u001b[0;34m.\u001b[0m\u001b[0mdassert\u001b[0m\u001b[0;34m(\u001b[0m\u001b[0;32mnot\u001b[0m \u001b[0msrs\u001b[0m\u001b[0;34m[\u001b[0m\u001b[0;34m:\u001b[0m\u001b[0moos_start\u001b[0m\u001b[0;34m]\u001b[0m\u001b[0;34m.\u001b[0m\u001b[0mdropna\u001b[0m\u001b[0;34m(\u001b[0m\u001b[0;34m)\u001b[0m\u001b[0;34m.\u001b[0m\u001b[0mempty\u001b[0m\u001b[0;34m,\u001b[0m \u001b[0;34m\"Empty in-sample series\"\u001b[0m\u001b[0;34m)\u001b[0m\u001b[0;34m\u001b[0m\u001b[0;34m\u001b[0m\u001b[0m\n\u001b[1;32m    420\u001b[0m         \u001b[0mdbg\u001b[0m\u001b[0;34m.\u001b[0m\u001b[0mdassert\u001b[0m\u001b[0;34m(\u001b[0m\u001b[0;32mnot\u001b[0m \u001b[0msrs\u001b[0m\u001b[0;34m[\u001b[0m\u001b[0moos_start\u001b[0m\u001b[0;34m:\u001b[0m\u001b[0;34m]\u001b[0m\u001b[0;34m.\u001b[0m\u001b[0mdropna\u001b[0m\u001b[0;34m(\u001b[0m\u001b[0;34m)\u001b[0m\u001b[0;34m.\u001b[0m\u001b[0mempty\u001b[0m\u001b[0;34m,\u001b[0m \u001b[0;34m\"Empty OOS series\"\u001b[0m\u001b[0;34m)\u001b[0m\u001b[0;34m\u001b[0m\u001b[0;34m\u001b[0m\u001b[0m\n\u001b[0;32m--> 421\u001b[0;31m     \u001b[0mdbg\u001b[0m\u001b[0;34m.\u001b[0m\u001b[0mdassert\u001b[0m\u001b[0;34m(\u001b[0m\u001b[0msrs\u001b[0m\u001b[0;34m.\u001b[0m\u001b[0mindex\u001b[0m\u001b[0;34m.\u001b[0m\u001b[0mfreq\u001b[0m\u001b[0;34m)\u001b[0m\u001b[0;34m\u001b[0m\u001b[0;34m\u001b[0m\u001b[0m\n\u001b[0m\u001b[1;32m    422\u001b[0m \u001b[0;34m\u001b[0m\u001b[0m\n\u001b[1;32m    423\u001b[0m \u001b[0;34m\u001b[0m\u001b[0m\n",
      "\u001b[0;32m/app/amp/helpers/dbg.py\u001b[0m in \u001b[0;36mdassert\u001b[0;34m(cond, msg, *args)\u001b[0m\n\u001b[1;32m    125\u001b[0m     \u001b[0;32mif\u001b[0m \u001b[0;32mnot\u001b[0m \u001b[0mcond\u001b[0m\u001b[0;34m:\u001b[0m\u001b[0;34m\u001b[0m\u001b[0;34m\u001b[0m\u001b[0m\n\u001b[1;32m    126\u001b[0m         \u001b[0mtxt\u001b[0m \u001b[0;34m=\u001b[0m \u001b[0;34m\"cond=%s\"\u001b[0m \u001b[0;34m%\u001b[0m \u001b[0mcond\u001b[0m\u001b[0;34m\u001b[0m\u001b[0;34m\u001b[0m\u001b[0m\n\u001b[0;32m--> 127\u001b[0;31m         \u001b[0m_dfatal\u001b[0m\u001b[0;34m(\u001b[0m\u001b[0mtxt\u001b[0m\u001b[0;34m,\u001b[0m \u001b[0mmsg\u001b[0m\u001b[0;34m,\u001b[0m \u001b[0;34m*\u001b[0m\u001b[0margs\u001b[0m\u001b[0;34m)\u001b[0m\u001b[0;34m\u001b[0m\u001b[0;34m\u001b[0m\u001b[0m\n\u001b[0m\u001b[1;32m    128\u001b[0m \u001b[0;34m\u001b[0m\u001b[0m\n\u001b[1;32m    129\u001b[0m \u001b[0;34m\u001b[0m\u001b[0m\n",
      "\u001b[0;32m/app/amp/helpers/dbg.py\u001b[0m in \u001b[0;36m_dfatal\u001b[0;34m(txt, msg, *args)\u001b[0m\n\u001b[1;32m    113\u001b[0m             \u001b[0mdfatal_txt\u001b[0m \u001b[0;34m+=\u001b[0m \u001b[0;34m\"\\n\"\u001b[0m\u001b[0;34m\u001b[0m\u001b[0;34m\u001b[0m\u001b[0m\n\u001b[1;32m    114\u001b[0m         \u001b[0mdfatal_txt\u001b[0m \u001b[0;34m+=\u001b[0m \u001b[0mmsg\u001b[0m\u001b[0;34m\u001b[0m\u001b[0;34m\u001b[0m\u001b[0m\n\u001b[0;32m--> 115\u001b[0;31m     \u001b[0mdfatal\u001b[0m\u001b[0;34m(\u001b[0m\u001b[0mdfatal_txt\u001b[0m\u001b[0;34m)\u001b[0m\u001b[0;34m\u001b[0m\u001b[0;34m\u001b[0m\u001b[0m\n\u001b[0m\u001b[1;32m    116\u001b[0m \u001b[0;34m\u001b[0m\u001b[0m\n\u001b[1;32m    117\u001b[0m \u001b[0;34m\u001b[0m\u001b[0m\n",
      "\u001b[0;32m/app/amp/helpers/dbg.py\u001b[0m in \u001b[0;36mdfatal\u001b[0;34m(message, assertion_type)\u001b[0m\n\u001b[1;32m     59\u001b[0m     \u001b[0;32mif\u001b[0m \u001b[0massertion_type\u001b[0m \u001b[0;32mis\u001b[0m \u001b[0;32mNone\u001b[0m\u001b[0;34m:\u001b[0m\u001b[0;34m\u001b[0m\u001b[0;34m\u001b[0m\u001b[0m\n\u001b[1;32m     60\u001b[0m         \u001b[0massertion_type\u001b[0m \u001b[0;34m=\u001b[0m \u001b[0mAssertionError\u001b[0m\u001b[0;34m\u001b[0m\u001b[0;34m\u001b[0m\u001b[0m\n\u001b[0;32m---> 61\u001b[0;31m     \u001b[0;32mraise\u001b[0m \u001b[0massertion_type\u001b[0m\u001b[0;34m(\u001b[0m\u001b[0mret\u001b[0m\u001b[0;34m)\u001b[0m\u001b[0;34m\u001b[0m\u001b[0;34m\u001b[0m\u001b[0m\n\u001b[0m\u001b[1;32m     62\u001b[0m \u001b[0;34m\u001b[0m\u001b[0m\n\u001b[1;32m     63\u001b[0m \u001b[0;34m\u001b[0m\u001b[0m\n",
      "\u001b[0;31mAssertionError\u001b[0m: \n################################################################################\n* Failed assertion *\ncond=None\n################################################################################\n"
     ]
    }
   ],
   "source": [
    "pnl_stats = evaluator.calculate_stats(\n",
    "    mode=eval_config[\"mode\"], target_volatility=eval_config[\"target_volatility\"]\n",
    ")\n",
    "display(pnl_stats)"
   ]
  },
  {
   "cell_type": "markdown",
   "id": "c36bf064",
   "metadata": {},
   "source": [
    "## Model selection"
   ]
  },
  {
   "cell_type": "code",
   "execution_count": null,
   "id": "b6fecfb5",
   "metadata": {
    "ExecuteTime": {
     "end_time": "2021-09-09T21:49:25.699435Z",
     "start_time": "2021-09-09T21:49:25.699423Z"
    }
   },
   "outputs": [],
   "source": [
    "plotter.plot_multiple_tests_adjustment(\n",
    "    threshold=eval_config[\"bh_adj_threshold\"], mode=eval_config[\"mode\"]\n",
    ")"
   ]
  },
  {
   "cell_type": "code",
   "execution_count": null,
   "id": "b5b44ae9",
   "metadata": {
    "ExecuteTime": {
     "end_time": "2021-09-09T21:49:25.700640Z",
     "start_time": "2021-09-09T21:49:25.700629Z"
    }
   },
   "outputs": [],
   "source": [
    "# TODO(gp): Move this chunk of code in a function.\n",
    "col_mask = (\n",
    "    pnl_stats.loc[\"signal_quality\"].loc[\"sr.adj_pval\"]\n",
    "    < eval_config[\"bh_adj_threshold\"]\n",
    ")\n",
    "selected = pnl_stats.loc[:, col_mask].columns.to_list()\n",
    "not_selected = pnl_stats.loc[:, ~col_mask].columns.to_list()\n",
    "\n",
    "print(\"num model selected=%s\" % hprint.perc(len(selected), pnl_stats.shape[1]))\n",
    "print(\"model selected=%s\" % selected)\n",
    "print(\"model not selected=%s\" % not_selected)\n",
    "\n",
    "# Use `selected = None` to show all the models."
   ]
  },
  {
   "cell_type": "code",
   "execution_count": null,
   "id": "1736ff88",
   "metadata": {
    "ExecuteTime": {
     "end_time": "2021-09-09T21:49:25.701589Z",
     "start_time": "2021-09-09T21:49:25.701576Z"
    }
   },
   "outputs": [],
   "source": [
    "plotter.plot_multiple_pnls(\n",
    "    keys=selected,\n",
    "    resample_rule=eval_config[\"resample_rule\"],\n",
    "    mode=eval_config[\"mode\"],\n",
    ")"
   ]
  },
  {
   "cell_type": "markdown",
   "id": "9821d152",
   "metadata": {},
   "source": [
    "## Return correlation"
   ]
  },
  {
   "cell_type": "code",
   "execution_count": null,
   "id": "1d0698e1",
   "metadata": {
    "ExecuteTime": {
     "end_time": "2021-09-09T21:49:25.702985Z",
     "start_time": "2021-09-09T21:49:25.702973Z"
    }
   },
   "outputs": [],
   "source": [
    "plotter.plot_correlation_matrix(\n",
    "    series=\"returns\",\n",
    "    resample_rule=eval_config[\"resample_rule\"],\n",
    "    mode=eval_config[\"mode\"],\n",
    ")"
   ]
  },
  {
   "cell_type": "code",
   "execution_count": null,
   "id": "749d6378",
   "metadata": {
    "ExecuteTime": {
     "end_time": "2021-09-09T21:49:25.704023Z",
     "start_time": "2021-09-09T21:49:25.704012Z"
    }
   },
   "outputs": [],
   "source": [
    "plotter.plot_effective_correlation_rank(\n",
    "    series=\"returns\",\n",
    "    resample_rule=eval_config[\"resample_rule\"],\n",
    "    mode=eval_config[\"mode\"],\n",
    ")"
   ]
  },
  {
   "cell_type": "markdown",
   "id": "4a7c60d9",
   "metadata": {},
   "source": [
    "## Model correlation"
   ]
  },
  {
   "cell_type": "code",
   "execution_count": null,
   "id": "c5e7659a",
   "metadata": {
    "ExecuteTime": {
     "end_time": "2021-09-09T21:49:25.705010Z",
     "start_time": "2021-09-09T21:49:25.705000Z"
    }
   },
   "outputs": [],
   "source": [
    "plotter.plot_correlation_matrix(\n",
    "    series=\"pnl\",\n",
    "    resample_rule=eval_config[\"resample_rule\"],\n",
    "    mode=eval_config[\"mode\"],\n",
    ")"
   ]
  },
  {
   "cell_type": "code",
   "execution_count": null,
   "id": "b7938396",
   "metadata": {
    "ExecuteTime": {
     "end_time": "2021-09-09T21:49:25.705975Z",
     "start_time": "2021-09-09T21:49:25.705963Z"
    }
   },
   "outputs": [],
   "source": [
    "plotter.plot_effective_correlation_rank(\n",
    "    series=\"pnl\",\n",
    "    resample_rule=eval_config[\"resample_rule\"],\n",
    "    mode=eval_config[\"mode\"],\n",
    ")"
   ]
  },
  {
   "cell_type": "markdown",
   "id": "215ed5cc",
   "metadata": {},
   "source": [
    "## Aggregate model"
   ]
  },
  {
   "cell_type": "code",
   "execution_count": null,
   "id": "c23ae6ee",
   "metadata": {
    "ExecuteTime": {
     "end_time": "2021-09-09T21:49:25.707424Z",
     "start_time": "2021-09-09T21:49:25.707414Z"
    }
   },
   "outputs": [],
   "source": [
    "pnl_srs, pos_srs, aggregate_stats = evaluator.aggregate_models(\n",
    "    keys=selected,\n",
    "    mode=eval_config[\"mode\"],\n",
    "    target_volatility=eval_config[\"target_volatility\"],\n",
    ")\n",
    "display(aggregate_stats)"
   ]
  },
  {
   "cell_type": "code",
   "execution_count": null,
   "id": "c61ac477",
   "metadata": {
    "ExecuteTime": {
     "end_time": "2021-09-09T21:49:25.708523Z",
     "start_time": "2021-09-09T21:49:25.708510Z"
    }
   },
   "outputs": [],
   "source": [
    "plotter.plot_sharpe_ratio_panel(keys=selected, mode=eval_config[\"mode\"])"
   ]
  },
  {
   "cell_type": "code",
   "execution_count": null,
   "id": "e6ab0618",
   "metadata": {
    "ExecuteTime": {
     "end_time": "2021-09-09T21:49:25.709726Z",
     "start_time": "2021-09-09T21:49:25.709715Z"
    }
   },
   "outputs": [],
   "source": [
    "plotter.plot_rets_signal_analysis(\n",
    "    keys=selected,\n",
    "    resample_rule=eval_config[\"resample_rule\"],\n",
    "    mode=eval_config[\"mode\"],\n",
    "    target_volatility=eval_config[\"target_volatility\"],\n",
    ")"
   ]
  },
  {
   "cell_type": "code",
   "execution_count": null,
   "id": "17854931",
   "metadata": {
    "ExecuteTime": {
     "end_time": "2021-09-09T21:49:25.710739Z",
     "start_time": "2021-09-09T21:49:25.710726Z"
    }
   },
   "outputs": [],
   "source": [
    "plotter.plot_performance(\n",
    "    keys=selected,\n",
    "    resample_rule=eval_config[\"resample_rule\"],\n",
    "    mode=eval_config[\"mode\"],\n",
    "    target_volatility=eval_config[\"target_volatility\"],\n",
    ")"
   ]
  },
  {
   "cell_type": "code",
   "execution_count": null,
   "id": "27a3a550",
   "metadata": {
    "ExecuteTime": {
     "end_time": "2021-09-09T21:49:25.711946Z",
     "start_time": "2021-09-09T21:49:25.711934Z"
    }
   },
   "outputs": [],
   "source": [
    "plotter.plot_rets_and_vol(\n",
    "    keys=selected,\n",
    "    resample_rule=eval_config[\"resample_rule\"],\n",
    "    mode=eval_config[\"mode\"],\n",
    "    target_volatility=eval_config[\"target_volatility\"],\n",
    ")"
   ]
  },
  {
   "cell_type": "code",
   "execution_count": null,
   "id": "fbc20dd2",
   "metadata": {
    "ExecuteTime": {
     "end_time": "2021-09-09T21:49:25.712898Z",
     "start_time": "2021-09-09T21:49:25.712888Z"
    }
   },
   "outputs": [],
   "source": [
    "assert 0"
   ]
  },
  {
   "cell_type": "code",
   "execution_count": null,
   "id": "628273de",
   "metadata": {
    "ExecuteTime": {
     "end_time": "2021-09-09T21:49:25.713951Z",
     "start_time": "2021-09-09T21:49:25.713939Z"
    }
   },
   "outputs": [],
   "source": [
    "plotter.plot_positions(\n",
    "    keys=selected,\n",
    "    mode=eval_config[\"mode\"],\n",
    "    target_volatility=eval_config[\"target_volatility\"],\n",
    ")"
   ]
  },
  {
   "cell_type": "code",
   "execution_count": null,
   "id": "00e9e05f",
   "metadata": {
    "ExecuteTime": {
     "end_time": "2021-09-09T21:49:25.714786Z",
     "start_time": "2021-09-09T21:49:25.714774Z"
    }
   },
   "outputs": [],
   "source": [
    "# Plot the returns and prediction for one or more models.\n",
    "model_key = selected[:1]\n",
    "plotter.plot_returns_and_predictions(\n",
    "    keys=model_key,\n",
    "    resample_rule=eval_config[\"resample_rule\"],\n",
    "    mode=eval_config[\"mode\"],\n",
    ")"
   ]
  }
 ],
 "metadata": {
  "jupytext": {
   "text_representation": {
    "extension": ".py",
    "format_name": "percent",
    "format_version": "1.3",
    "jupytext_version": "1.11.4"
   }
  },
  "kernelspec": {
   "display_name": "Python 3 (ipykernel)",
   "language": "python",
   "name": "python3"
  },
  "language_info": {
   "codemirror_mode": {
    "name": "ipython",
    "version": 3
   },
   "file_extension": ".py",
   "mimetype": "text/x-python",
   "name": "python",
   "nbconvert_exporter": "python",
   "pygments_lexer": "ipython3",
   "version": "3.8.10"
  },
  "toc": {
   "base_numbering": 1,
   "nav_menu": {},
   "number_sections": true,
   "sideBar": true,
   "skip_h1_title": false,
   "title_cell": "Table of Contents",
   "title_sidebar": "Contents",
   "toc_cell": false,
   "toc_position": {},
   "toc_section_display": true,
   "toc_window_display": false
  }
 },
 "nbformat": 4,
 "nbformat_minor": 5
}
