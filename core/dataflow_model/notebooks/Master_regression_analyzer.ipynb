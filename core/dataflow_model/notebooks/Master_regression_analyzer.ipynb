{
 "cells": [
  {
   "cell_type": "markdown",
   "id": "0c236af9",
   "metadata": {},
   "source": [
    "# Imports"
   ]
  },
  {
   "cell_type": "code",
   "execution_count": 4,
   "id": "411b59a9",
   "metadata": {
    "ExecuteTime": {
     "end_time": "2021-10-19T14:12:00.332690Z",
     "start_time": "2021-10-19T14:12:00.251224Z"
    }
   },
   "outputs": [
    {
     "name": "stdout",
     "output_type": "stream",
     "text": [
      "The autoreload extension is already loaded. To reload it, use:\n",
      "  %reload_ext autoreload\n"
     ]
    }
   ],
   "source": [
    "%load_ext autoreload\n",
    "%autoreload 2\n",
    "\n",
    "import logging\n",
    "\n",
    "import pandas as pd\n",
    "\n",
    "import core.config as cconfig\n",
    "import core.dataflow_model.incremental_single_name_model_evaluator as ime\n",
    "import core.dataflow_model.model_evaluator as modeval\n",
    "import core.dataflow_model.model_plotter as modplot\n",
    "import core.dataflow_model.stats_computer as csc\n",
    "import core.dataflow_model.utils as cdmu\n",
    "import core.plotting as cplot\n",
    "import core.statistics as cstati\n",
    "import helpers.dbg as dbg\n",
    "import helpers.printing as hprint"
   ]
  },
  {
   "cell_type": "code",
   "execution_count": 2,
   "id": "a760eea0",
   "metadata": {
    "ExecuteTime": {
     "end_time": "2021-10-19T14:04:27.565010Z",
     "start_time": "2021-10-19T14:04:27.480359Z"
    }
   },
   "outputs": [
    {
     "name": "stdout",
     "output_type": "stream",
     "text": [
      "\u001b[0m\u001b[36mINFO\u001b[0m: > cmd='/venv/lib/python3.8/site-packages/ipykernel_launcher.py -f /root/.local/share/jupyter/runtime/kernel-d84ab97b-8d04-40e6-8f66-4f92a7b959a7.json'\n",
      "\u001b[33mWARNING\u001b[0m: Running in Jupyter\n",
      "\u001b[33mWARNING\u001b[0m: Disabling annoying warnings\n"
     ]
    }
   ],
   "source": [
    "dbg.init_logger(verbosity=logging.INFO)\n",
    "# dbg.init_logger(verbosity=logging.DEBUG)\n",
    "\n",
    "_LOG = logging.getLogger(__name__)\n",
    "\n",
    "# _LOG.info(\"%s\", env.get_system_signature()[0])\n",
    "\n",
    "hprint.config_notebook()"
   ]
  },
  {
   "cell_type": "markdown",
   "id": "7b9bbe58",
   "metadata": {},
   "source": [
    "# Load regression dataframes"
   ]
  },
  {
   "cell_type": "code",
   "execution_count": 3,
   "id": "6c38fca9",
   "metadata": {
    "ExecuteTime": {
     "end_time": "2021-10-19T14:06:44.303102Z",
     "start_time": "2021-10-19T14:06:44.252295Z"
    }
   },
   "outputs": [],
   "source": [
    "fit_iter = cdmu.yield_experiment_artifacts(\n",
    "    src_dir=\"\",\n",
    "    file_name=\"result_bundle.v2_0.pkl\",\n",
    "    load_rb_kwargs={},\n",
    ")\n",
    "\n",
    "pred_iter = cdmu.yield_experiment_artifacts(\n",
    "    src_dir=\"\",\n",
    "    file_name=\"result_bundle.v2_0.pkl\",\n",
    "    load_rb_kwargs={},\n",
    ")"
   ]
  },
  {
   "cell_type": "code",
   "execution_count": null,
   "id": "cbce8549",
   "metadata": {},
   "outputs": [],
   "source": [
    "fit_coeffs = {k: v.info[\"ml\"][\"predict\"][\"fit_coefficients\"] for k, v in fit_iter}\n",
    "fit_coeffs = pd.concat(fit_coeffs)"
   ]
  },
  {
   "cell_type": "code",
   "execution_count": null,
   "id": "4a21ee68",
   "metadata": {},
   "outputs": [],
   "source": [
    "pred_coeffs = {k: v.info[\"ml\"][\"predict\"][\"predict_coefficients\"] for k, v in pred_iter}\n",
    "pred_coeffs = pd.concat(pred_coeffs)"
   ]
  }
 ],
 "metadata": {
  "jupytext": {
   "text_representation": {
    "extension": ".py",
    "format_name": "percent",
    "format_version": "1.3",
    "jupytext_version": "1.11.4"
   }
  },
  "kernelspec": {
   "display_name": "Python 3 (ipykernel)",
   "language": "python",
   "name": "python3"
  },
  "language_info": {
   "codemirror_mode": {
    "name": "ipython",
    "version": 3
   },
   "file_extension": ".py",
   "mimetype": "text/x-python",
   "name": "python",
   "nbconvert_exporter": "python",
   "pygments_lexer": "ipython3",
   "version": "3.8.10"
  },
  "toc": {
   "base_numbering": 1,
   "nav_menu": {},
   "number_sections": true,
   "sideBar": true,
   "skip_h1_title": false,
   "title_cell": "Table of Contents",
   "title_sidebar": "Contents",
   "toc_cell": false,
   "toc_position": {},
   "toc_section_display": true,
   "toc_window_display": false
  }
 },
 "nbformat": 4,
 "nbformat_minor": 5
}
