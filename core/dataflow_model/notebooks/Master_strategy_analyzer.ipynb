{
 "cells": [
  {
   "cell_type": "markdown",
   "id": "fde0d446",
   "metadata": {},
   "source": [
    "# Description"
   ]
  },
  {
   "cell_type": "markdown",
   "id": "8ae7e381",
   "metadata": {},
   "source": [
    "- Initialize with returns, alpha, and spread\n",
    "- Evaluate portfolios generated from the alpha"
   ]
  },
  {
   "cell_type": "markdown",
   "id": "0a326195",
   "metadata": {},
   "source": [
    "# Imports"
   ]
  },
  {
   "cell_type": "code",
   "execution_count": null,
   "id": "30f00637",
   "metadata": {
    "ExecuteTime": {
     "end_time": "2021-09-14T00:25:04.951040Z",
     "start_time": "2021-09-14T00:25:00.389336Z"
    }
   },
   "outputs": [],
   "source": [
    "%load_ext autoreload\n",
    "%autoreload 2\n",
    "\n",
    "import logging\n",
    "\n",
    "import core.config as cconfig\n",
    "import core.dataflow_model.model_evaluator as modeval\n",
    "import core.dataflow_model.model_plotter as modplot\n",
    "import core.dataflow_model.utils as cdmu\n",
    "import helpers.dbg as dbg\n",
    "import helpers.printing as hprint"
   ]
  },
  {
   "cell_type": "code",
   "execution_count": null,
   "id": "8ca36f3e",
   "metadata": {
    "ExecuteTime": {
     "end_time": "2021-09-14T00:25:09.472201Z",
     "start_time": "2021-09-14T00:25:09.393336Z"
    }
   },
   "outputs": [],
   "source": [
    "dbg.init_logger(verbosity=logging.INFO)\n",
    "# dbg.init_logger(verbosity=logging.DEBUG)\n",
    "\n",
    "_LOG = logging.getLogger(__name__)\n",
    "\n",
    "# _LOG.info(\"%s\", env.get_system_signature()[0])\n",
    "\n",
    "hprint.config_notebook()"
   ]
  },
  {
   "cell_type": "markdown",
   "id": "771a5496",
   "metadata": {},
   "source": [
    "# Notebook config"
   ]
  },
  {
   "cell_type": "code",
   "execution_count": null,
   "id": "b7f0ce6d",
   "metadata": {
    "ExecuteTime": {
     "end_time": "2021-09-14T00:27:26.231501Z",
     "start_time": "2021-09-14T00:27:26.154321Z"
    }
   },
   "outputs": [],
   "source": [
    "# config = cconfig.Config.from_env_var(\"AM_CONFIG_CODE\")\n",
    "config = None\n",
    "\n",
    "if config is None:\n",
    "    experiment_dir = \"\"\n",
    "    aws_profile = None\n",
    "\n",
    "    eval_config = cconfig.get_config_from_nested_dict(\n",
    "        {\n",
    "            \"load_experiment_kwargs\": {\n",
    "                \"src_dir\": experiment_dir,\n",
    "                \"file_name\": \"result_bundle.v2_0.pkl\",\n",
    "                \"experiment_type\": \"ins_oos\",\n",
    "                \"selected_idxs\": None,\n",
    "                \"aws_profile\": aws_profile,\n",
    "            },\n",
    "            \"strategy_evaluator_kwargs\": {\n",
    "                \"returns_col\": \"mid_ret_0\",\n",
    "                \"alpha_col\": \"mid_ret_2_hat\",\n",
    "                \"spread_col\": \"spread\",\n",
    "            },\n",
    "            \"bh_adj_threshold\": 0.1,\n",
    "            \"resample_rule\": \"W\",\n",
    "        }\n",
    "    )\n",
    "\n",
    "print(str(eval_config))"
   ]
  },
  {
   "cell_type": "code",
   "execution_count": null,
   "id": "e7c129c9",
   "metadata": {
    "ExecuteTime": {
     "end_time": "2021-09-14T00:28:30.904781Z",
     "start_time": "2021-09-14T00:28:30.784550Z"
    }
   },
   "outputs": [],
   "source": [
    "load_config = eval_config[\"load_experiment_kwargs\"].to_dict()\n",
    "\n",
    "# Load only the columns needed by the ModelEvaluator.\n",
    "load_config[\"load_rb_kwargs\"] = {\n",
    "    \"columns\": [\n",
    "        eval_config[\"strategy_evaluator_kwargs\"][\"returns_col\"],\n",
    "        eval_config[\"strategy_evaluator_kwargs\"][\"alpha_col\"],\n",
    "        eval_config[\"strategy_evaluator_kwargs\"][\"spread_col\"],\n",
    "    ]\n",
    "}\n",
    "result_bundle_dict = cdmu.load_experiment_artifacts(**load_config)\n",
    "\n",
    "# Build the StrategyEvaluator.\n",
    "evaluator = modeval.StrategyEvaluator.from_result_bundle_dict(\n",
    "    result_bundle_dict,\n",
    "    # abort_on_error=False,\n",
    "    abort_on_error=True,\n",
    "    **eval_config[\"strategy_evaluator_kwargs\"].to_dict(),\n",
    ")"
   ]
  },
  {
   "cell_type": "code",
   "execution_count": null,
   "id": "13587a31",
   "metadata": {},
   "outputs": [],
   "source": []
  }
 ],
 "metadata": {
  "jupytext": {
   "text_representation": {
    "extension": ".py",
    "format_name": "percent",
    "format_version": "1.3",
    "jupytext_version": "1.11.4"
   }
  },
  "kernelspec": {
   "display_name": "Python 3 (ipykernel)",
   "language": "python",
   "name": "python3"
  },
  "language_info": {
   "codemirror_mode": {
    "name": "ipython",
    "version": 3
   },
   "file_extension": ".py",
   "mimetype": "text/x-python",
   "name": "python",
   "nbconvert_exporter": "python",
   "pygments_lexer": "ipython3",
   "version": "3.8.10"
  },
  "toc": {
   "base_numbering": 1,
   "nav_menu": {},
   "number_sections": true,
   "sideBar": true,
   "skip_h1_title": false,
   "title_cell": "Table of Contents",
   "title_sidebar": "Contents",
   "toc_cell": false,
   "toc_position": {},
   "toc_section_display": true,
   "toc_window_display": false
  }
 },
 "nbformat": 4,
 "nbformat_minor": 5
}
