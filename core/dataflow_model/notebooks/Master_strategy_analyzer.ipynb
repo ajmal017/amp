{
 "cells": [
  {
   "cell_type": "markdown",
   "id": "894bd7f4",
   "metadata": {},
   "source": [
    "# Description"
   ]
  },
  {
   "cell_type": "markdown",
   "id": "3e4948ed",
   "metadata": {},
   "source": [
    "- Initialize with returns, alpha, and spread\n",
    "- Evaluate portfolios generated from the alpha\n",
    "\n",
    "- TODO(gp): This should be called `Master_strategy_evaluator` like the class"
   ]
  },
  {
   "cell_type": "markdown",
   "id": "4f1dfe0f",
   "metadata": {},
   "source": [
    "# Imports"
   ]
  },
  {
   "cell_type": "code",
   "execution_count": 2,
   "id": "618718d5",
   "metadata": {
    "ExecuteTime": {
     "end_time": "2021-09-19T22:46:55.219101Z",
     "start_time": "2021-09-19T22:46:54.888906Z"
    }
   },
   "outputs": [
    {
     "ename": "SyntaxError",
     "evalue": "EOL while scanning string literal (model_evaluator.py, line 138)",
     "output_type": "error",
     "traceback": [
      "Traceback \u001b[0;36m(most recent call last)\u001b[0m:\n",
      "  File \u001b[1;32m\"/venv/lib/python3.8/site-packages/IPython/core/interactiveshell.py\"\u001b[0m, line \u001b[1;32m3441\u001b[0m, in \u001b[1;35mrun_code\u001b[0m\n    exec(code_obj, self.user_global_ns, self.user_ns)\n",
      "\u001b[0;36m  File \u001b[0;32m\"/tmp/ipykernel_365/1767767774.py\"\u001b[0;36m, line \u001b[0;32m7\u001b[0;36m, in \u001b[0;35m<module>\u001b[0;36m\u001b[0m\n\u001b[0;31m    import core.dataflow_model.model_evaluator as modeval\u001b[0m\n",
      "\u001b[0;36m  File \u001b[0;32m\"/app/amp/core/dataflow_model/model_evaluator.py\"\u001b[0;36m, line \u001b[0;32m138\u001b[0m\n\u001b[0;31m    def from_eval_config(cls, eval_config: cconfig.Config) -> \"StrategyEvaluator\"\"\u001b[0m\n\u001b[0m                                                                                  ^\u001b[0m\n\u001b[0;31mSyntaxError\u001b[0m\u001b[0;31m:\u001b[0m EOL while scanning string literal\n"
     ]
    }
   ],
   "source": [
    "%load_ext autoreload\n",
    "%autoreload 2\n",
    "\n",
    "import logging\n",
    "\n",
    "import core.config as cconfig\n",
    "import core.dataflow_model.model_evaluator as modeval\n",
    "import core.dataflow_model.utils as cdmu\n",
    "import helpers.dbg as dbg\n",
    "import helpers.printing as hprint"
   ]
  },
  {
   "cell_type": "code",
   "execution_count": null,
   "id": "55a5059e",
   "metadata": {
    "ExecuteTime": {
     "end_time": "2021-09-14T00:25:09.472201Z",
     "start_time": "2021-09-14T00:25:09.393336Z"
    }
   },
   "outputs": [],
   "source": [
    "dbg.init_logger(verbosity=logging.INFO)\n",
    "# dbg.init_logger(verbosity=logging.DEBUG)\n",
    "\n",
    "_LOG = logging.getLogger(__name__)\n",
    "\n",
    "# _LOG.info(\"%s\", env.get_system_signature()[0])\n",
    "\n",
    "hprint.config_notebook()"
   ]
  },
  {
   "cell_type": "markdown",
   "id": "79359cff",
   "metadata": {},
   "source": [
    "# Notebook config"
   ]
  },
  {
   "cell_type": "code",
   "execution_count": 1,
   "id": "f11b2967",
   "metadata": {
    "ExecuteTime": {
     "end_time": "2021-09-19T22:46:52.225138Z",
     "start_time": "2021-09-19T22:46:52.171531Z"
    }
   },
   "outputs": [
    {
     "ename": "NameError",
     "evalue": "name 'cconfig' is not defined",
     "output_type": "error",
     "traceback": [
      "\u001b[0;31m---------------------------------------------------------------------------\u001b[0m",
      "\u001b[0;31mNameError\u001b[0m                                 Traceback (most recent call last)",
      "\u001b[0;32m/tmp/ipykernel_365/3903582319.py\u001b[0m in \u001b[0;36m<module>\u001b[0;34m\u001b[0m\n\u001b[1;32m      1\u001b[0m \u001b[0;31m# Read from env var.\u001b[0m\u001b[0;34m\u001b[0m\u001b[0;34m\u001b[0m\u001b[0;34m\u001b[0m\u001b[0m\n\u001b[0;32m----> 2\u001b[0;31m \u001b[0meval_config\u001b[0m \u001b[0;34m=\u001b[0m \u001b[0mcconfig\u001b[0m\u001b[0;34m.\u001b[0m\u001b[0mConfig\u001b[0m\u001b[0;34m.\u001b[0m\u001b[0mfrom_env_var\u001b[0m\u001b[0;34m(\u001b[0m\u001b[0;34m\"AM_CONFIG_CODE\"\u001b[0m\u001b[0;34m)\u001b[0m\u001b[0;34m\u001b[0m\u001b[0;34m\u001b[0m\u001b[0m\n\u001b[0m\u001b[1;32m      3\u001b[0m \u001b[0;34m\u001b[0m\u001b[0m\n\u001b[1;32m      4\u001b[0m \u001b[0;32mif\u001b[0m \u001b[0mconfig\u001b[0m \u001b[0;32mis\u001b[0m \u001b[0;32mNone\u001b[0m\u001b[0;34m:\u001b[0m\u001b[0;34m\u001b[0m\u001b[0;34m\u001b[0m\u001b[0m\n\u001b[1;32m      5\u001b[0m     \u001b[0mexperiment_dir\u001b[0m \u001b[0;34m=\u001b[0m \u001b[0;34m\"\"\u001b[0m\u001b[0;34m\u001b[0m\u001b[0;34m\u001b[0m\u001b[0m\n",
      "\u001b[0;31mNameError\u001b[0m: name 'cconfig' is not defined"
     ]
    }
   ],
   "source": [
    "# Read from env var.\n",
    "eval_config = cconfig.Config.from_env_var(\"AM_CONFIG_CODE\")\n",
    "\n",
    "if config is None:\n",
    "    experiment_dir = \"\"\n",
    "    aws_profile = None\n",
    "    selected_idxs = None\n",
    "\n",
    "    eval_config = cconfig.get_config_from_nested_dict(\n",
    "        {\n",
    "            \"load_experiment_kwargs\": {\n",
    "                \"src_dir\": experiment_dir,\n",
    "                \"file_name\": \"result_bundle.v2_0.pkl\",\n",
    "                \"experiment_type\": \"ins_oos\",\n",
    "                \"selected_idxs\": selected_idxs,\n",
    "                \"aws_profile\": aws_profile,\n",
    "            },\n",
    "            \"strategy_evaluator_kwargs\": {\n",
    "                \"returns_col\": \"mid_ret_0\",\n",
    "                \"position_intent_col\": \"position_intent_1\",\n",
    "                \"spread_col\": \"spread\",\n",
    "                \"abort_on_error\": True,\n",
    "            },\n",
    "            \"bh_adj_threshold\": 0.1,\n",
    "            \"resample_rule\": \"W\",\n",
    "        }\n",
    "    )\n",
    "\n",
    "print(str(eval_config))"
   ]
  },
  {
   "cell_type": "code",
   "execution_count": null,
   "id": "736dfdf1",
   "metadata": {
    "ExecuteTime": {
     "end_time": "2021-09-14T00:28:30.904781Z",
     "start_time": "2021-09-14T00:28:30.784550Z"
    }
   },
   "outputs": [],
   "source": [
    "# Build the ModelEvaluator from the eval config.\n",
    "evaluator = modeval.StrategyEvaluator.from_eval_config(eval_config)"
   ]
  },
  {
   "cell_type": "code",
   "execution_count": null,
   "id": "25b5ef06",
   "metadata": {},
   "outputs": [],
   "source": [
    "# TODO(gp): Finish this.\n",
    "keys = None\n",
    "evaluator.compute_stats(keys)"
   ]
  }
 ],
 "metadata": {
  "jupytext": {
   "text_representation": {
    "extension": ".py",
    "format_name": "percent",
    "format_version": "1.3",
    "jupytext_version": "1.11.4"
   }
  },
  "kernelspec": {
   "display_name": "Python 3 (ipykernel)",
   "language": "python",
   "name": "python3"
  },
  "language_info": {
   "codemirror_mode": {
    "name": "ipython",
    "version": 3
   },
   "file_extension": ".py",
   "mimetype": "text/x-python",
   "name": "python",
   "nbconvert_exporter": "python",
   "pygments_lexer": "ipython3",
   "version": "3.8.10"
  },
  "toc": {
   "base_numbering": 1,
   "nav_menu": {},
   "number_sections": true,
   "sideBar": true,
   "skip_h1_title": false,
   "title_cell": "Table of Contents",
   "title_sidebar": "Contents",
   "toc_cell": false,
   "toc_position": {},
   "toc_section_display": true,
   "toc_window_display": false
  }
 },
 "nbformat": 4,
 "nbformat_minor": 5
}
