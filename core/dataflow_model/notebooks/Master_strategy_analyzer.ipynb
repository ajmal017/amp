{
 "cells": [
  {
   "cell_type": "markdown",
   "id": "894bd7f4",
   "metadata": {},
   "source": [
    "# Description"
   ]
  },
  {
   "cell_type": "markdown",
   "id": "3e4948ed",
   "metadata": {},
   "source": [
    "- Initialize with returns, alpha, and spread\n",
    "- Evaluate portfolios generated from the alpha"
   ]
  },
  {
   "cell_type": "markdown",
   "id": "4f1dfe0f",
   "metadata": {},
   "source": [
    "# Imports"
   ]
  },
  {
   "cell_type": "code",
   "execution_count": 1,
   "id": "618718d5",
   "metadata": {
    "ExecuteTime": {
     "end_time": "2021-09-15T23:42:51.897600Z",
     "start_time": "2021-09-15T23:42:49.413588Z"
    }
   },
   "outputs": [],
   "source": [
    "%load_ext autoreload\n",
    "%autoreload 2\n",
    "\n",
    "import logging\n",
    "\n",
    "import core.config as cconfig\n",
    "import core.dataflow_model.model_evaluator as modeval\n",
    "import core.dataflow_model.utils as cdmu\n",
    "import helpers.dbg as dbg\n",
    "import helpers.printing as hprint"
   ]
  },
  {
   "cell_type": "code",
   "execution_count": 2,
   "id": "55a5059e",
   "metadata": {
    "ExecuteTime": {
     "end_time": "2021-09-15T23:42:51.933939Z",
     "start_time": "2021-09-15T23:42:51.899496Z"
    }
   },
   "outputs": [
    {
     "name": "stdout",
     "output_type": "stream",
     "text": [
      "\u001b[0m\u001b[36mINFO\u001b[0m: > cmd='/venv/lib/python3.8/site-packages/ipykernel_launcher.py -f /root/.local/share/jupyter/runtime/kernel-edd12077-acbb-4cdc-ac4c-239977d0bd59.json'\n",
      "\u001b[33mWARNING\u001b[0m: Running in Jupyter\n",
      "\u001b[33mWARNING\u001b[0m: Disabling annoying warnings\n"
     ]
    }
   ],
   "source": [
    "dbg.init_logger(verbosity=logging.INFO)\n",
    "# dbg.init_logger(verbosity=logging.DEBUG)\n",
    "\n",
    "_LOG = logging.getLogger(__name__)\n",
    "\n",
    "# _LOG.info(\"%s\", env.get_system_signature()[0])\n",
    "\n",
    "hprint.config_notebook()"
   ]
  },
  {
   "cell_type": "markdown",
   "id": "79359cff",
   "metadata": {},
   "source": [
    "# Notebook config"
   ]
  },
  {
   "cell_type": "code",
   "execution_count": 3,
   "id": "f11b2967",
   "metadata": {
    "ExecuteTime": {
     "end_time": "2021-09-15T23:42:51.968102Z",
     "start_time": "2021-09-15T23:42:51.935499Z"
    }
   },
   "outputs": [
    {
     "name": "stdout",
     "output_type": "stream",
     "text": [
      "load_experiment_kwargs:\n",
      "  src_dir: /cache/experiments/oos_experiment.RH2Eg.v2_0-all.5T.run2\n",
      "  file_name: result_bundle.v2_0.pkl\n",
      "  experiment_type: ins_oos\n",
      "  selected_idxs: range(0, 3)\n",
      "  aws_profile: None\n",
      "strategy_evaluator_kwargs:\n",
      "  returns_col: mid_ret_0\n",
      "  position_intent_col: position_intent_1\n",
      "  spread_col: spread\n",
      "bh_adj_threshold: 0.1\n",
      "resample_rule: W\n"
     ]
    }
   ],
   "source": [
    "# config = cconfig.Config.from_env_var(\"AM_CONFIG_CODE\")\n",
    "config = None\n",
    "\n",
    "if config is None:\n",
    "    experiment_dir = \"/cache/experiments/oos_experiment.RH2Eg.v2_0-all.5T.run2\"\n",
    "    aws_profile = None\n",
    "    selected_idxs = range(3)\n",
    "\n",
    "    eval_config = cconfig.get_config_from_nested_dict(\n",
    "        {\n",
    "            \"load_experiment_kwargs\": {\n",
    "                \"src_dir\": experiment_dir,\n",
    "                \"file_name\": \"result_bundle.v2_0.pkl\",\n",
    "                \"experiment_type\": \"ins_oos\",\n",
    "                \"selected_idxs\": selected_idxs,\n",
    "                \"aws_profile\": aws_profile,\n",
    "            },\n",
    "            \"strategy_evaluator_kwargs\": {\n",
    "                \"returns_col\": \"mid_ret_0\",\n",
    "                \"position_intent_col\": \"position_intent_1\",\n",
    "                \"spread_col\": \"spread\",\n",
    "            },\n",
    "            \"bh_adj_threshold\": 0.1,\n",
    "            \"resample_rule\": \"W\",\n",
    "        }\n",
    "    )\n",
    "\n",
    "print(str(eval_config))"
   ]
  },
  {
   "cell_type": "code",
   "execution_count": 4,
   "id": "736dfdf1",
   "metadata": {
    "ExecuteTime": {
     "end_time": "2021-09-15T23:42:52.595933Z",
     "start_time": "2021-09-15T23:42:51.970558Z"
    }
   },
   "outputs": [
    {
     "name": "stdout",
     "output_type": "stream",
     "text": [
      "Before load_experiment_artifacts: memory_usage=rss=0.258GB vms=2.402GB mem_pct=0%\n",
      "# Load artifacts 'result_bundle.v2_0.pkl' from '/cache/experiments/oos_experiment.RH2Eg.v2_0-all.5T.run2'\n",
      "Found 728 experiment subdirs in '/cache/experiments/oos_experiment.RH2Eg.v2_0-all.5T.run2'\n"
     ]
    },
    {
     "data": {
      "application/vnd.jupyter.widget-view+json": {
       "model_id": "a59c8f1cb2504c92b3ac31bebba4b45d",
       "version_major": 2,
       "version_minor": 0
      },
      "text/plain": [
       "Loading artifacts:   0%|          | 0/3 [00:00<?, ?it/s]"
      ]
     },
     "metadata": {},
     "output_type": "display_data"
    },
    {
     "name": "stdout",
     "output_type": "stream",
     "text": [
      "load_experiment_artifacts: memory_usage=rss=0.427GB vms=3.631GB mem_pct=1%\n",
      "load_experiment_artifacts: memory_usage=rss=0.485GB vms=3.711GB mem_pct=1%\n",
      "load_experiment_artifacts: memory_usage=rss=0.544GB vms=3.799GB mem_pct=1%\n",
      "After load_experiment_artifacts: memory_usage=rss=0.544GB vms=3.799GB mem_pct=1%\n",
      "Before building StrategyEvaluator: memory_usage=rss=0.544GB vms=3.799GB mem_pct=1%\n",
      "After building StrategyEvaluator: memory_usage=rss=0.610GB vms=3.865GB mem_pct=1%\n"
     ]
    }
   ],
   "source": [
    "load_config = eval_config[\"load_experiment_kwargs\"].to_dict()\n",
    "\n",
    "# Load only the columns needed by the StrategyEvaluator.\n",
    "load_config[\"load_rb_kwargs\"] = {\n",
    "    \"columns\": [\n",
    "        eval_config[\"strategy_evaluator_kwargs\"][\"returns_col\"],\n",
    "        eval_config[\"strategy_evaluator_kwargs\"][\"position_intent_col\"],\n",
    "        eval_config[\"strategy_evaluator_kwargs\"][\"spread_col\"],\n",
    "    ]\n",
    "}\n",
    "result_bundle_dict = cdmu.load_experiment_artifacts(**load_config)\n",
    "\n",
    "# Build the StrategyEvaluator.\n",
    "evaluator = modeval.StrategyEvaluator.from_result_bundle_dict(\n",
    "    result_bundle_dict,\n",
    "    # abort_on_error=False,\n",
    "    abort_on_error=True,\n",
    "    **eval_config[\"strategy_evaluator_kwargs\"].to_dict(),\n",
    ")"
   ]
  },
  {
   "cell_type": "code",
   "execution_count": 5,
   "id": "25b5ef06",
   "metadata": {
    "ExecuteTime": {
     "end_time": "2021-09-15T23:42:53.333913Z",
     "start_time": "2021-09-15T23:42:52.597232Z"
    }
   },
   "outputs": [
    {
     "name": "stdout",
     "output_type": "stream",
     "text": [
      "Before StrategyEvaluator.compute_pnl: memory_usage=rss=0.610GB vms=3.865GB mem_pct=1%\n"
     ]
    },
    {
     "data": {
      "application/vnd.jupyter.widget-view+json": {
       "model_id": "f34103e535384beab349afd07cd0f647",
       "version_major": 2,
       "version_minor": 0
      },
      "text/plain": [
       "  0%|          | 0/3 [00:00<?, ?it/s]"
      ]
     },
     "metadata": {},
     "output_type": "display_data"
    },
    {
     "name": "stdout",
     "output_type": "stream",
     "text": [
      "StrategyEvaluator.compute_pnl: memory_usage=rss=0.657GB vms=3.912GB mem_pct=1%\n",
      "StrategyEvaluator.compute_pnl: memory_usage=rss=0.695GB vms=3.950GB mem_pct=1%\n",
      "StrategyEvaluator.compute_pnl: memory_usage=rss=0.749GB vms=4.004GB mem_pct=1%\n"
     ]
    }
   ],
   "source": [
    "result = evaluator.compute_pnl(key_type=\"attribute\")"
   ]
  }
 ],
 "metadata": {
  "jupytext": {
   "text_representation": {
    "extension": ".py",
    "format_name": "percent",
    "format_version": "1.3",
    "jupytext_version": "1.11.4"
   }
  },
  "kernelspec": {
   "display_name": "Python 3 (ipykernel)",
   "language": "python",
   "name": "python3"
  },
  "language_info": {
   "codemirror_mode": {
    "name": "ipython",
    "version": 3
   },
   "file_extension": ".py",
   "mimetype": "text/x-python",
   "name": "python",
   "nbconvert_exporter": "python",
   "pygments_lexer": "ipython3",
   "version": "3.8.10"
  },
  "toc": {
   "base_numbering": 1,
   "nav_menu": {},
   "number_sections": true,
   "sideBar": true,
   "skip_h1_title": false,
   "title_cell": "Table of Contents",
   "title_sidebar": "Contents",
   "toc_cell": false,
   "toc_position": {},
   "toc_section_display": true,
   "toc_window_display": false
  }
 },
 "nbformat": 4,
 "nbformat_minor": 5
}
