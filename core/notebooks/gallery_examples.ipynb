{
 "cells": [
  {
   "cell_type": "markdown",
   "metadata": {},
   "source": [
    "## Imports"
   ]
  },
  {
   "cell_type": "code",
   "execution_count": 1,
   "metadata": {
    "ExecuteTime": {
     "end_time": "2019-09-14T21:03:18.274009Z",
     "start_time": "2019-09-14T21:03:16.559558Z"
    }
   },
   "outputs": [],
   "source": [
    "%load_ext autoreload\n",
    "%autoreload 2\n",
    "%matplotlib inline\n",
    "\n",
    "import numpy as np\n",
    "import pandas as pd\n",
    "\n",
    "import core.explore as exp\n",
    "import helpers.unit_test as hut"
   ]
  },
  {
   "cell_type": "markdown",
   "metadata": {},
   "source": [
    "## display_df"
   ]
  },
  {
   "cell_type": "code",
   "execution_count": 8,
   "metadata": {
    "ExecuteTime": {
     "end_time": "2019-09-15T13:18:08.820218Z",
     "start_time": "2019-09-15T13:18:08.726943Z"
    }
   },
   "outputs": [
    {
     "name": "stdout",
     "output_type": "stream",
     "text": [
      "                            OLS Regression Results                            \n",
      "==============================================================================\n",
      "Dep. Variable:                      x   R-squared:                       0.952\n",
      "Model:                            OLS   Adj. R-squared:                  0.952\n",
      "Method:                 Least Squares   F-statistic:                     1944.\n",
      "Date:                Sun, 15 Sep 2019   Prob (F-statistic):           1.97e-66\n",
      "Time:                        09:18:08   Log-Likelihood:                -147.93\n",
      "No. Observations:                 100   AIC:                             299.9\n",
      "Df Residuals:                      98   BIC:                             305.1\n",
      "Df Model:                           1                                         \n",
      "Covariance Type:            nonrobust                                         \n",
      "==============================================================================\n",
      "                 coef    std err          t      P>|t|      [0.025      0.975]\n",
      "------------------------------------------------------------------------------\n",
      "const          0.0626      0.108      0.579      0.564      -0.152       0.277\n",
      "y              0.9871      0.022     44.090      0.000       0.943       1.031\n",
      "==============================================================================\n",
      "Omnibus:                        0.270   Durbin-Watson:                   2.250\n",
      "Prob(Omnibus):                  0.874   Jarque-Bera (JB):                0.428\n",
      "Skew:                          -0.095   Prob(JB):                        0.807\n",
      "Kurtosis:                       2.741   Cond. No.                         4.87\n",
      "==============================================================================\n",
      "\n",
      "Warnings:\n",
      "[1] Standard Errors assume that the covariance matrix of the errors is correctly specified.\n"
     ]
    },
    {
     "ename": "TypeError",
     "evalue": "jointplot() got an unexpected keyword argument 'size'",
     "output_type": "error",
     "traceback": [
      "\u001b[0;31m---------------------------------------------------------------------------\u001b[0m",
      "\u001b[0;31mTypeError\u001b[0m                                 Traceback (most recent call last)",
      "\u001b[0;32m<ipython-input-8-45f5f74b4516>\u001b[0m in \u001b[0;36m<module>\u001b[0;34m\u001b[0m\n\u001b[1;32m      9\u001b[0m \u001b[0mdf\u001b[0m\u001b[0;34m.\u001b[0m\u001b[0mhead\u001b[0m\u001b[0;34m(\u001b[0m\u001b[0;34m)\u001b[0m\u001b[0;34m\u001b[0m\u001b[0;34m\u001b[0m\u001b[0m\n\u001b[1;32m     10\u001b[0m \u001b[0;34m\u001b[0m\u001b[0m\n\u001b[0;32m---> 11\u001b[0;31m \u001b[0mexp\u001b[0m\u001b[0;34m.\u001b[0m\u001b[0mregress_series\u001b[0m\u001b[0;34m(\u001b[0m\u001b[0mdf\u001b[0m\u001b[0;34m[\u001b[0m\u001b[0;34m\"x\"\u001b[0m\u001b[0;34m]\u001b[0m\u001b[0;34m,\u001b[0m \u001b[0mdf\u001b[0m\u001b[0;34m[\u001b[0m\u001b[0;34m\"y\"\u001b[0m\u001b[0;34m]\u001b[0m\u001b[0;34m,\u001b[0m \u001b[0muse_intercept\u001b[0m\u001b[0;34m=\u001b[0m\u001b[0;32mTrue\u001b[0m\u001b[0;34m)\u001b[0m\u001b[0;34m\u001b[0m\u001b[0;34m\u001b[0m\u001b[0m\n\u001b[0m",
      "\u001b[0;32m~/src/lemonade/amp/core/explore.py\u001b[0m in \u001b[0;36mregress_series\u001b[0;34m(srs1, srs2, use_intercept, print_model_stats, jointplot_, infer_names, srs1_name, srs2_name, convert_to_dates)\u001b[0m\n\u001b[1;32m   1327\u001b[0m         \u001b[0mintercept\u001b[0m\u001b[0;34m=\u001b[0m\u001b[0muse_intercept\u001b[0m\u001b[0;34m,\u001b[0m\u001b[0;34m\u001b[0m\u001b[0;34m\u001b[0m\u001b[0m\n\u001b[1;32m   1328\u001b[0m         \u001b[0mprint_model_stats\u001b[0m\u001b[0;34m=\u001b[0m\u001b[0mprint_model_stats\u001b[0m\u001b[0;34m,\u001b[0m\u001b[0;34m\u001b[0m\u001b[0;34m\u001b[0m\u001b[0m\n\u001b[0;32m-> 1329\u001b[0;31m         \u001b[0mjointplot_\u001b[0m\u001b[0;34m=\u001b[0m\u001b[0mjointplot_\u001b[0m\u001b[0;34m,\u001b[0m\u001b[0;34m\u001b[0m\u001b[0;34m\u001b[0m\u001b[0m\n\u001b[0m\u001b[1;32m   1330\u001b[0m     )\n\u001b[1;32m   1331\u001b[0m     \u001b[0;32mreturn\u001b[0m \u001b[0;32mNone\u001b[0m \u001b[0;32mif\u001b[0m \u001b[0;34m(\u001b[0m\u001b[0mjointplot_\u001b[0m \u001b[0;32mor\u001b[0m \u001b[0mprint_model_stats\u001b[0m\u001b[0;34m)\u001b[0m \u001b[0;32melse\u001b[0m \u001b[0mval\u001b[0m\u001b[0;34m\u001b[0m\u001b[0;34m\u001b[0m\u001b[0m\n",
      "\u001b[0;32m~/src/lemonade/amp/core/explore.py\u001b[0m in \u001b[0;36mregress\u001b[0;34m(df, predicted_var, predictor_vars, intercept, print_model_stats, tsplot, tsplot_figsize, jointplot_, jointplot_size, predicted_var_delay, predictor_vars_delay, max_nrows, robust_regress)\u001b[0m\n\u001b[1;32m   1199\u001b[0m                         \u001b[0mpredictor_vars\u001b[0m\u001b[0;34m[\u001b[0m\u001b[0;36m0\u001b[0m\u001b[0;34m]\u001b[0m\u001b[0;34m,\u001b[0m\u001b[0;34m\u001b[0m\u001b[0;34m\u001b[0m\u001b[0m\n\u001b[1;32m   1200\u001b[0m                         \u001b[0mintercept\u001b[0m\u001b[0;34m=\u001b[0m\u001b[0mintercept\u001b[0m\u001b[0;34m,\u001b[0m\u001b[0;34m\u001b[0m\u001b[0;34m\u001b[0m\u001b[0m\n\u001b[0;32m-> 1201\u001b[0;31m                         \u001b[0msize\u001b[0m\u001b[0;34m=\u001b[0m\u001b[0mjointplot_size\u001b[0m\u001b[0;34m,\u001b[0m\u001b[0;34m\u001b[0m\u001b[0;34m\u001b[0m\u001b[0m\n\u001b[0m\u001b[1;32m   1202\u001b[0m                     )\n\u001b[1;32m   1203\u001b[0m             \u001b[0;32melse\u001b[0m\u001b[0;34m:\u001b[0m\u001b[0;34m\u001b[0m\u001b[0;34m\u001b[0m\u001b[0m\n",
      "\u001b[0;31mTypeError\u001b[0m: jointplot() got an unexpected keyword argument 'size'"
     ]
    }
   ],
   "source": [
    "np.random.seed(100)\n",
    "\n",
    "x = 5 * np.random.randn(100)\n",
    "y = x + np.random.randn(*x.shape)\n",
    "df = pd.DataFrame()\n",
    "df[\"x\"] = x\n",
    "df[\"y\"] = y\n",
    "\n",
    "df.head()\n",
    "\n",
    "exp.regress_series(df[\"x\"], df[\"y\"], use_intercept=True)"
   ]
  },
  {
   "cell_type": "code",
   "execution_count": null,
   "metadata": {},
   "outputs": [],
   "source": []
  }
 ],
 "metadata": {
  "jupytext": {
   "text_representation": {
    "extension": ".py",
    "format_name": "percent",
    "format_version": "1.2",
    "jupytext_version": "1.2.1"
   }
  },
  "kernelspec": {
   "display_name": "Python [conda env:develop] *",
   "language": "python",
   "name": "conda-env-develop-py"
  },
  "language_info": {
   "codemirror_mode": {
    "name": "ipython",
    "version": 3
   },
   "file_extension": ".py",
   "mimetype": "text/x-python",
   "name": "python",
   "nbconvert_exporter": "python",
   "pygments_lexer": "ipython3",
   "version": "3.7.1"
  },
  "toc": {
   "base_numbering": 1,
   "nav_menu": {},
   "number_sections": true,
   "sideBar": true,
   "skip_h1_title": false,
   "title_cell": "Table of Contents",
   "title_sidebar": "Contents",
   "toc_cell": false,
   "toc_position": {},
   "toc_section_display": true,
   "toc_window_display": false
  }
 },
 "nbformat": 4,
 "nbformat_minor": 2
}
