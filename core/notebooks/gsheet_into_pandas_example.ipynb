{
 "cells": [
  {
   "cell_type": "markdown",
   "metadata": {},
   "source": [
    "# Description"
   ]
  },
  {
   "cell_type": "markdown",
   "metadata": {},
   "source": [
    "This notebook provides an example of using the `gspread_pandas` library.\n",
    "\n",
    "The library accesses google sheets and loads them into pandas dataframes."
   ]
  },
  {
   "cell_type": "markdown",
   "metadata": {},
   "source": [
    "# Imports"
   ]
  },
  {
   "cell_type": "code",
   "execution_count": 1,
   "metadata": {},
   "outputs": [],
   "source": [
    "import gspread_pandas"
   ]
  },
  {
   "cell_type": "markdown",
   "metadata": {},
   "source": [
    "# Testing the library"
   ]
  },
  {
   "cell_type": "code",
   "execution_count": 2,
   "metadata": {},
   "outputs": [],
   "source": [
    "spread = gspread_pandas.Spread(\"Task 961 - RP: Ideas for signals to test\")"
   ]
  },
  {
   "cell_type": "code",
   "execution_count": 3,
   "metadata": {},
   "outputs": [
    {
     "data": {
      "text/plain": [
       "<gspread_pandas.spread.Spread - 'User: 'sonya@particle.one', Spread: 'Task 961 - RP: Ideas for signals to test', Sheet: 'RP-themes listed in #970''>"
      ]
     },
     "execution_count": 3,
     "metadata": {},
     "output_type": "execute_result"
    }
   ],
   "source": [
    "spread"
   ]
  },
  {
   "cell_type": "code",
   "execution_count": 4,
   "metadata": {},
   "outputs": [
    {
     "data": {
      "text/plain": [
       "[<Worksheet 'RP-themes listed in #970' id:0>,\n",
       " <Worksheet 'Macro Indicators' id:216557931>,\n",
       " <Worksheet 'Other hypotheses' id:1597619348>]"
      ]
     },
     "execution_count": 4,
     "metadata": {},
     "output_type": "execute_result"
    }
   ],
   "source": [
    "spread.sheets"
   ]
  },
  {
   "cell_type": "code",
   "execution_count": 5,
   "metadata": {},
   "outputs": [
    {
     "name": "stdout",
     "output_type": "stream",
     "text": [
      "(134, 9)\n",
      "<class 'pandas.core.frame.DataFrame'>\n"
     ]
    },
    {
     "data": {
      "text/html": [
       "<div>\n",
       "<style scoped>\n",
       "    .dataframe tbody tr th:only-of-type {\n",
       "        vertical-align: middle;\n",
       "    }\n",
       "\n",
       "    .dataframe tbody tr th {\n",
       "        vertical-align: top;\n",
       "    }\n",
       "\n",
       "    .dataframe thead th {\n",
       "        text-align: right;\n",
       "    }\n",
       "</style>\n",
       "<table border=\"1\" class=\"dataframe\">\n",
       "  <thead>\n",
       "    <tr style=\"text-align: right;\">\n",
       "      <th></th>\n",
       "      <th>TOPIC</th>\n",
       "      <th>GROUP</th>\n",
       "      <th>TYPE</th>\n",
       "      <th>SUB_TYPE</th>\n",
       "      <th>PRICE</th>\n",
       "      <th>VOLATILITY</th>\n",
       "      <th>COMMENT (IF ANY)</th>\n",
       "      <th>CHECKED IN RP DB</th>\n",
       "      <th># OF EVENTS</th>\n",
       "    </tr>\n",
       "  </thead>\n",
       "  <tbody>\n",
       "    <tr>\n",
       "      <th>0</th>\n",
       "      <td>business</td>\n",
       "      <td>assets</td>\n",
       "      <td>commodity-assets</td>\n",
       "      <td>buy</td>\n",
       "      <td>+</td>\n",
       "      <td></td>\n",
       "      <td>under assumption that there are only big deals...</td>\n",
       "      <td>1</td>\n",
       "      <td>7357</td>\n",
       "    </tr>\n",
       "    <tr>\n",
       "      <th>1</th>\n",
       "      <td>business</td>\n",
       "      <td>assets</td>\n",
       "      <td>commodity-assets</td>\n",
       "      <td>offer</td>\n",
       "      <td>?</td>\n",
       "      <td></td>\n",
       "      <td>after checking RP headlines it seems like thes...</td>\n",
       "      <td>1</td>\n",
       "      <td>3978</td>\n",
       "    </tr>\n",
       "    <tr>\n",
       "      <th>2</th>\n",
       "      <td>business</td>\n",
       "      <td>assets</td>\n",
       "      <td>commodity-assets</td>\n",
       "      <td>sell</td>\n",
       "      <td>-</td>\n",
       "      <td></td>\n",
       "      <td>under assumption that there are only big deals...</td>\n",
       "      <td>1</td>\n",
       "      <td>7945</td>\n",
       "    </tr>\n",
       "    <tr>\n",
       "      <th>3</th>\n",
       "      <td>business</td>\n",
       "      <td>assets</td>\n",
       "      <td>facility</td>\n",
       "      <td>close</td>\n",
       "      <td>+</td>\n",
       "      <td></td>\n",
       "      <td>rationale: less commodities will be produced -...</td>\n",
       "      <td>1</td>\n",
       "      <td>247</td>\n",
       "    </tr>\n",
       "    <tr>\n",
       "      <th>4</th>\n",
       "      <td>business</td>\n",
       "      <td>assets</td>\n",
       "      <td>facility</td>\n",
       "      <td>maintenance</td>\n",
       "      <td>?</td>\n",
       "      <td></td>\n",
       "      <td></td>\n",
       "      <td></td>\n",
       "      <td>2</td>\n",
       "    </tr>\n",
       "  </tbody>\n",
       "</table>\n",
       "</div>"
      ],
      "text/plain": [
       "      TOPIC   GROUP              TYPE     SUB_TYPE PRICE VOLATILITY  \\\n",
       "0  business  assets  commodity-assets          buy     +              \n",
       "1  business  assets  commodity-assets        offer     ?              \n",
       "2  business  assets  commodity-assets         sell     -              \n",
       "3  business  assets          facility        close     +              \n",
       "4  business  assets          facility  maintenance     ?              \n",
       "\n",
       "                                    COMMENT (IF ANY) CHECKED IN RP DB  \\\n",
       "0  under assumption that there are only big deals...                1   \n",
       "1  after checking RP headlines it seems like thes...                1   \n",
       "2  under assumption that there are only big deals...                1   \n",
       "3  rationale: less commodities will be produced -...                1   \n",
       "4                                                                       \n",
       "\n",
       "  # OF EVENTS  \n",
       "0        7357  \n",
       "1        3978  \n",
       "2        7945  \n",
       "3         247  \n",
       "4           2  "
      ]
     },
     "execution_count": 5,
     "metadata": {},
     "output_type": "execute_result"
    }
   ],
   "source": [
    "df = spread.sheet_to_df(index=None)\n",
    "print(df.shape)\n",
    "print(type(df))\n",
    "df.head()"
   ]
  },
  {
   "cell_type": "code",
   "execution_count": 6,
   "metadata": {},
   "outputs": [
    {
     "name": "stdout",
     "output_type": "stream",
     "text": [
      "(9, 9)\n"
     ]
    },
    {
     "data": {
      "text/html": [
       "<div>\n",
       "<style scoped>\n",
       "    .dataframe tbody tr th:only-of-type {\n",
       "        vertical-align: middle;\n",
       "    }\n",
       "\n",
       "    .dataframe tbody tr th {\n",
       "        vertical-align: top;\n",
       "    }\n",
       "\n",
       "    .dataframe thead th {\n",
       "        text-align: right;\n",
       "    }\n",
       "</style>\n",
       "<table border=\"1\" class=\"dataframe\">\n",
       "  <thead>\n",
       "    <tr style=\"text-align: right;\">\n",
       "      <th></th>\n",
       "      <th>TOPIC</th>\n",
       "      <th>GROUP</th>\n",
       "      <th>TYPE</th>\n",
       "      <th>SUB_TYPE</th>\n",
       "      <th>PRICE</th>\n",
       "      <th>VOLATILITY</th>\n",
       "      <th>COMMENT (IF ANY)</th>\n",
       "      <th>CHECKED IN RP DB</th>\n",
       "      <th># OF EVENTS</th>\n",
       "    </tr>\n",
       "  </thead>\n",
       "  <tbody>\n",
       "    <tr>\n",
       "      <th>0</th>\n",
       "      <td>business</td>\n",
       "      <td>assets</td>\n",
       "      <td>commodity-assets</td>\n",
       "      <td>buy</td>\n",
       "      <td>+</td>\n",
       "      <td></td>\n",
       "      <td>under assumption that there are only big deals...</td>\n",
       "      <td>1</td>\n",
       "      <td>7357</td>\n",
       "    </tr>\n",
       "    <tr>\n",
       "      <th>1</th>\n",
       "      <td>business</td>\n",
       "      <td>assets</td>\n",
       "      <td>commodity-assets</td>\n",
       "      <td>offer</td>\n",
       "      <td>?</td>\n",
       "      <td></td>\n",
       "      <td>after checking RP headlines it seems like thes...</td>\n",
       "      <td>1</td>\n",
       "      <td>3978</td>\n",
       "    </tr>\n",
       "    <tr>\n",
       "      <th>2</th>\n",
       "      <td>business</td>\n",
       "      <td>assets</td>\n",
       "      <td>commodity-assets</td>\n",
       "      <td>sell</td>\n",
       "      <td>-</td>\n",
       "      <td></td>\n",
       "      <td>under assumption that there are only big deals...</td>\n",
       "      <td>1</td>\n",
       "      <td>7945</td>\n",
       "    </tr>\n",
       "    <tr>\n",
       "      <th>3</th>\n",
       "      <td>business</td>\n",
       "      <td>assets</td>\n",
       "      <td>facility</td>\n",
       "      <td>close</td>\n",
       "      <td>+</td>\n",
       "      <td></td>\n",
       "      <td>rationale: less commodities will be produced -...</td>\n",
       "      <td>1</td>\n",
       "      <td>247</td>\n",
       "    </tr>\n",
       "    <tr>\n",
       "      <th>4</th>\n",
       "      <td>business</td>\n",
       "      <td>assets</td>\n",
       "      <td>facility</td>\n",
       "      <td>maintenance</td>\n",
       "      <td>?</td>\n",
       "      <td></td>\n",
       "      <td></td>\n",
       "      <td></td>\n",
       "      <td>2</td>\n",
       "    </tr>\n",
       "  </tbody>\n",
       "</table>\n",
       "</div>"
      ],
      "text/plain": [
       "      TOPIC   GROUP              TYPE     SUB_TYPE PRICE VOLATILITY  \\\n",
       "0  business  assets  commodity-assets          buy     +              \n",
       "1  business  assets  commodity-assets        offer     ?              \n",
       "2  business  assets  commodity-assets         sell     -              \n",
       "3  business  assets          facility        close     +              \n",
       "4  business  assets          facility  maintenance     ?              \n",
       "\n",
       "                                    COMMENT (IF ANY) CHECKED IN RP DB  \\\n",
       "0  under assumption that there are only big deals...                1   \n",
       "1  after checking RP headlines it seems like thes...                1   \n",
       "2  under assumption that there are only big deals...                1   \n",
       "3  rationale: less commodities will be produced -...                1   \n",
       "4                                                                       \n",
       "\n",
       "  # OF EVENTS  \n",
       "0        7357  \n",
       "1        3978  \n",
       "2        7945  \n",
       "3         247  \n",
       "4           2  "
      ]
     },
     "execution_count": 6,
     "metadata": {},
     "output_type": "execute_result"
    }
   ],
   "source": [
    "assets_sample = df[df[\"GROUP\"] == \"assets\"]\n",
    "print(assets_sample.shape)\n",
    "assets_sample.head()"
   ]
  }
 ],
 "metadata": {
  "jupytext": {
   "text_representation": {
    "extension": ".py",
    "format_name": "percent",
    "format_version": "1.3",
    "jupytext_version": "1.3.2"
   }
  },
  "kernelspec": {
   "display_name": "Python [conda env:.conda-p1_develop] *",
   "language": "python",
   "name": "conda-env-.conda-p1_develop-py"
  },
  "language_info": {
   "codemirror_mode": {
    "name": "ipython",
    "version": 3
   },
   "file_extension": ".py",
   "mimetype": "text/x-python",
   "name": "python",
   "nbconvert_exporter": "python",
   "pygments_lexer": "ipython3",
   "version": "3.7.6"
  }
 },
 "nbformat": 4,
 "nbformat_minor": 4
}
