{
 "cells": [
  {
   "cell_type": "markdown",
   "metadata": {},
   "source": [
    "# Description\n",
    "\n",
    "This notebook is the entry point for `run_notebook.py`\n",
    "It is conceptually equivalent to `core/dataflow_model/master_experiment.py` for the `run_experiment.py` flow\n",
    "\n",
    "This notebook:\n",
    "- get a config from the environment\n",
    "- create a DAG from the passed config\n",
    "- run the DAG\n",
    "- save the generated `ResultBundle`"
   ]
  },
  {
   "cell_type": "code",
   "execution_count": 1,
   "metadata": {},
   "outputs": [
    {
     "name": "stderr",
     "output_type": "stream",
     "text": [
      "/Users/paul/src/amp/core/dataflow/models.py:14: TqdmExperimentalWarning: Using `tqdm.autonotebook.tqdm` in notebook mode. Use `tqdm.tqdm` instead to force console mode (e.g. in jupyter console)\n",
      "  from tqdm.autonotebook import tqdm\n"
     ]
    }
   ],
   "source": [
    "%load_ext autoreload\n",
    "%autoreload 2\n",
    "\n",
    "import logging\n",
    "import os\n",
    "\n",
    "import core.config as cconfig\n",
    "import dataflow as cdataf\n",
    "import helpers.hdbg as dbg\n",
    "import helpers.henv as henv\n",
    "import helpers.hpickle as hpickl\n",
    "import helpers.hprint as hprint"
   ]
  },
  {
   "cell_type": "code",
   "execution_count": 2,
   "metadata": {},
   "outputs": [
    {
     "name": "stdout",
     "output_type": "stream",
     "text": [
      "\u001b[0mWARNING: Running in Jupyter\n",
      "# Packages\n",
      "         python: 3.7.6\n",
      "       gluonnlp: 0.9.1\n",
      "        gluonts: 0.5.0\n",
      "         joblib: 0.15.1\n",
      "          mxnet: 1.6.0\n",
      "          numpy: 1.17.5\n",
      "         pandas: 1.0.3\n",
      "        pyarrow: 0.17.1\n",
      "          scipy: 1.4.1\n",
      "        seaborn: 0.10.1\n",
      "        sklearn: 0.23.1\n",
      "    statsmodels: 0.11.1\n",
      "# Last commits:\n",
      "  * cad4359 paul     FRH4: initial check-in                                            (   2 hours ago) Mon Apr 19 14:15:20 2021  (HEAD -> frh4, origin/frh4)\n",
      "  *   94a33e9 GP Saggese Merge pull request #153 from alphamatic/LemTask120_Use_usual_dev_approach_for_lm (   3 hours ago) Mon Apr 19 13:29:54 2021  (origin/master, origin/HEAD, master)\n",
      "  |\\  \n",
      "  | * 8eaa80a saggese  Fix wrong references to IM                                        (   3 hours ago) Mon Apr 19 13:27:42 2021  (origin/LemTask120_Use_usual_dev_approach_for_lm)\n"
     ]
    }
   ],
   "source": [
    "dbg.init_logger(verbosity=logging.INFO)\n",
    "\n",
    "_LOG = logging.getLogger(__name__)\n",
    "\n",
    "_LOG.info(\"%s\", henv.get_system_signature()[0])\n",
    "\n",
    "hprint.config_notebook()"
   ]
  },
  {
   "cell_type": "code",
   "execution_count": 3,
   "metadata": {},
   "outputs": [],
   "source": [
    "config = cconfig.get_config_from_env()"
   ]
  },
  {
   "cell_type": "code",
   "execution_count": 4,
   "metadata": {},
   "outputs": [
    {
     "ename": "AttributeError",
     "evalue": "'NoneType' object has no attribute 'pop'",
     "output_type": "error",
     "traceback": [
      "\u001b[0;31m---------------------------------------------------------------------------\u001b[0m",
      "\u001b[0;31mAttributeError\u001b[0m                            Traceback (most recent call last)",
      "\u001b[0;32m<ipython-input-4-fb716e7ce1dc>\u001b[0m in \u001b[0;36m<module>\u001b[0;34m\u001b[0m\n\u001b[0;32m----> 1\u001b[0;31m \u001b[0mdag_config\u001b[0m \u001b[0;34m=\u001b[0m \u001b[0mconfig\u001b[0m\u001b[0;34m.\u001b[0m\u001b[0mpop\u001b[0m\u001b[0;34m(\u001b[0m\u001b[0;34m\"DAG\"\u001b[0m\u001b[0;34m)\u001b[0m\u001b[0;34m\u001b[0m\u001b[0;34m\u001b[0m\u001b[0m\n\u001b[0m",
      "\u001b[0;31mAttributeError\u001b[0m: 'NoneType' object has no attribute 'pop'"
     ]
    }
   ],
   "source": [
    "dag_config = config.pop(\"DAG\")"
   ]
  },
  {
   "cell_type": "code",
   "execution_count": null,
   "metadata": {},
   "outputs": [],
   "source": [
    "dag_runner = cdataf.PredictionDagRunner(dag_config, config[\"meta\"][\"dag_builder\"])"
   ]
  },
  {
   "cell_type": "code",
   "execution_count": null,
   "metadata": {},
   "outputs": [],
   "source": [
    "cdataf.draw(dag_runner.dag)"
   ]
  },
  {
   "cell_type": "code",
   "execution_count": null,
   "metadata": {},
   "outputs": [],
   "source": [
    "if \"set_fit_intervals\" in config[\"meta\"].to_dict():\n",
    "    dag_runner.set_fit_intervals(\n",
    "        **config[\"meta\", \"set_fit_intervals\", \"func_kwargs\"].to_dict()\n",
    "    )\n",
    "if \"set_predict_intervals\" in config[\"meta\"].to_dict():\n",
    "    dag_runner.set_predict_intervals(\n",
    "        **config[\"meta\", \"set_predict_intervals\", \"func_kwargs\"].to_dict()\n",
    "    )"
   ]
  },
  {
   "cell_type": "code",
   "execution_count": null,
   "metadata": {},
   "outputs": [],
   "source": [
    "fit_result_bundle = dag_runner.fit()"
   ]
  },
  {
   "cell_type": "code",
   "execution_count": null,
   "metadata": {},
   "outputs": [],
   "source": [
    "payload = cconfig.get_config_from_nested_dict({\"config\": config})"
   ]
  },
  {
   "cell_type": "code",
   "execution_count": null,
   "metadata": {},
   "outputs": [],
   "source": [
    "if \"run_oos\" in config[\"meta\"].to_dict().keys() and config[\"meta\"]:\n",
    "    result_bundle = dag_runner.predict()\n",
    "    payload[\"fit_result_bundle\"] = fit_result_bundle.to_config()\n",
    "else:\n",
    "    result_bundle = fit_result_bundle"
   ]
  },
  {
   "cell_type": "code",
   "execution_count": null,
   "metadata": {},
   "outputs": [],
   "source": [
    "result_bundle.payload = payload"
   ]
  },
  {
   "cell_type": "code",
   "execution_count": null,
   "metadata": {},
   "outputs": [],
   "source": [
    "# TODO(gp): Use  `cdtfut.save_experiment_result_bundle(config, result_bundle)`\n",
    "try:\n",
    "    path = os.path.join(\n",
    "        config[\"meta\", \"experiment_result_dir\"], \"result_bundle.pkl\"\n",
    "    )\n",
    "    if True:\n",
    "        hpickl.to_pickle(result_bundle.to_config().to_dict(), path)\n",
    "except AssertionError:\n",
    "    _LOG.warning(\"Unable to serialize results.\")"
   ]
  }
 ],
 "metadata": {
  "jupytext": {
   "text_representation": {
    "extension": ".py",
    "format_name": "percent",
    "format_version": "1.3",
    "jupytext_version": "1.11.2"
   }
  },
  "kernelspec": {
   "display_name": "Python 3 (ipykernel)",
   "language": "python",
   "name": "python3"
  },
  "language_info": {
   "codemirror_mode": {
    "name": "ipython",
    "version": 3
   },
   "file_extension": ".py",
   "mimetype": "text/x-python",
   "name": "python",
   "nbconvert_exporter": "python",
   "pygments_lexer": "ipython3",
   "version": "3.8.10"
  },
  "toc": {
   "base_numbering": 1,
   "nav_menu": {},
   "number_sections": true,
   "sideBar": true,
   "skip_h1_title": false,
   "title_cell": "Table of Contents",
   "title_sidebar": "Contents",
   "toc_cell": false,
   "toc_position": {},
   "toc_section_display": true,
   "toc_window_display": false
  }
 },
 "nbformat": 4,
 "nbformat_minor": 4
}
