{
 "cells": [
  {
   "cell_type": "code",
   "execution_count": 1,
   "id": "446eb752",
   "metadata": {
    "ExecuteTime": {
     "end_time": "2022-03-05T00:02:06.905799Z",
     "start_time": "2022-03-05T00:02:03.675250Z"
    }
   },
   "outputs": [
    {
     "name": "stderr",
     "output_type": "stream",
     "text": [
      "/app/amp/core/explore.py:39: TqdmExperimentalWarning: Using `tqdm.autonotebook.tqdm` in notebook mode. Use `tqdm.tqdm` instead to force console mode (e.g. in jupyter console)\n",
      "  import tqdm.autonotebook as tauton\n"
     ]
    }
   ],
   "source": [
    "%load_ext autoreload\n",
    "%autoreload 2\n",
    "%matplotlib inline\n",
    "\n",
    "import datetime\n",
    "import logging\n",
    "\n",
    "import numpy as np\n",
    "import pandas as pd\n",
    "\n",
    "import core.config as cconfig\n",
    "import core.finance as cofinanc\n",
    "import core.plotting as coplotti\n",
    "import core.statistics as costatis\n",
    "import dataflow.model as dtfmod\n",
    "import helpers.hdbg as hdbg\n",
    "import helpers.henv as henv\n",
    "import helpers.hparquet as hparque\n",
    "import helpers.hprint as hprint\n",
    "import helpers.hsql as hsql"
   ]
  },
  {
   "cell_type": "code",
   "execution_count": 2,
   "id": "affb27e4",
   "metadata": {
    "ExecuteTime": {
     "end_time": "2022-03-05T00:02:07.235393Z",
     "start_time": "2022-03-05T00:02:07.026679Z"
    }
   },
   "outputs": [
    {
     "name": "stdout",
     "output_type": "stream",
     "text": [
      "\u001b[0m\u001b[36mINFO\u001b[0m: > cmd='/venv/lib/python3.8/site-packages/ipykernel_launcher.py -f /home/.local/share/jupyter/runtime/kernel-034e4a75-d591-45e1-ae81-192afc167ce2.json'\n",
      "WARNING: Running in Jupyter\n",
      ">>ENV<<: is_inside_container=True: code_version=1.0.3, container_version=amp-1.0.3, is_inside_docker=True, is_inside_ci=False, CI_defined=True, CI=''\n",
      ">>ENV<<: AM_AWS_PROFILE=True AM_ECR_BASE_PATH=True AM_S3_BUCKET=True AM_TELEGRAM_TOKEN=True AWS_ACCESS_KEY_ID=False AWS_DEFAULT_REGION=True AWS_SECRET_ACCESS_KEY=False GH_ACTION_ACCESS_TOKEN=True\n",
      "\u001b[31m-----------------------------------------------------------------------------\n",
      "This code is not in sync with the container:\n",
      "code_version='1.0.3' != container_version='amp-1.0.3'\n",
      "-----------------------------------------------------------------------------\n",
      "You need to:\n",
      "- merge origin/master into your branch with `invoke git_merge_master`\n",
      "- pull the latest container with `invoke docker_pull`\u001b[0m\n",
      "INFO  # Git\n",
      "    branch_name='AmpTask2163_Implement_tiled_backtesting'\n",
      "    hash='59a65fcd9'\n",
      "    # Last commits:\n",
      "      * 59a65fcd9 saggese  Checkpoint                                                        (56 minutes ago) Fri Mar 4 23:05:53 2022  (HEAD -> AmpTask2163_Implement_tiled_backtesting, origin/AmpTask2163_Implement_tiled_backtesting)\n",
      "      *   5e516116f saggese  Merge                                                             (   6 hours ago) Fri Mar 4 18:01:40 2022           \n",
      "      |\\  \n",
      "      * | ea0402044 saggese  Checkpoint                                                        (   6 hours ago) Fri Mar 4 18:00:01 2022           \n",
      "# Machine info\n",
      "    system=Linux\n",
      "    node name=0b2af7cd6811\n",
      "    release=3.10.0-1160.36.2.el7.x86_64\n",
      "    version=#1 SMP Wed Jul 21 11:57:15 UTC 2021\n",
      "    machine=x86_64\n",
      "    processor=x86_64\n",
      "    cpu count=8\n",
      "    cpu freq=scpufreq(current=2499.998, min=0.0, max=0.0)\n",
      "    memory=svmem(total=66548252672, available=51884797952, percent=22.0, used=11680919552, free=15696900096, active=30065516544, inactive=17528090624, buffers=0, cached=39170433024, shared=2441060352, slab=1927659520)\n",
      "    disk usage=sdiskusage(total=107362627584, used=32064249856, free=75298377728, percent=29.9)\n",
      "# Packages\n",
      "    python: 3.8.10\n",
      "    gluonnlp: ?\n",
      "    gluonts: 0.6.7\n",
      "    joblib: 1.1.0\n",
      "    mxnet: 1.8.0\n",
      "    numpy: 1.21.1\n",
      "    pandas: 1.3.4\n",
      "    pyarrow: 6.0.1\n",
      "    scipy: 1.6.1\n",
      "    seaborn: 0.11.2\n",
      "    sklearn: 1.0.1\n",
      "    statsmodels: 0.13.1\n",
      "\u001b[33mWARNING\u001b[0m: Disabling annoying warnings\n"
     ]
    }
   ],
   "source": [
    "hdbg.init_logger(verbosity=logging.INFO)\n",
    "\n",
    "_LOG = logging.getLogger(__name__)\n",
    "\n",
    "_LOG.info(\"%s\", henv.get_system_signature()[0])\n",
    "\n",
    "hprint.config_notebook()"
   ]
  },
  {
   "cell_type": "markdown",
   "id": "1fde07fb",
   "metadata": {},
   "source": [
    "# Load tiled backtest"
   ]
  },
  {
   "cell_type": "code",
   "execution_count": 3,
   "id": "6385e3e6",
   "metadata": {
    "ExecuteTime": {
     "end_time": "2022-03-05T00:02:35.213728Z",
     "start_time": "2022-03-05T00:02:35.175417Z"
    }
   },
   "outputs": [],
   "source": [
    "dict_ = {\n",
    "    \"file_name\": \"\",\n",
    "    \"start_date\": datetime.date(2010, 1, 1),\n",
    "    \"end_date\": datetime.date(2020, 12, 31),\n",
    "    \"asset_id_col\": \"\",\n",
    "    \"returns_col\": \"\",\n",
    "    \"volatility_col\": \"\",\n",
    "    \"prediction_col\": \"\",\n",
    "    \"feature_cols\": None,\n",
    "    \"feature_lag\": 2,\n",
    "    \"target_col\": \"\",\n",
    "    \"target_gmv\": 1e6,\n",
    "    \"dollar_neutrality\": \"no_constraint\",\n",
    "    \"freq\": \"5T\",\n",
    "}\n",
    "config = cconfig.get_config_from_nested_dict(dict_)"
   ]
  },
  {
   "cell_type": "markdown",
   "id": "a479096f",
   "metadata": {},
   "source": [
    "## Report tile stats"
   ]
  },
  {
   "cell_type": "code",
   "execution_count": 4,
   "id": "8b063b8e",
   "metadata": {
    "ExecuteTime": {
     "end_time": "2022-03-05T00:02:37.808094Z",
     "start_time": "2022-03-05T00:02:37.770336Z"
    }
   },
   "outputs": [],
   "source": [
    "parquet_tile_analyzer = dtfmod.ParquetTileAnalyzer()\n",
    "parquet_tile_metadata = parquet_tile_analyzer.collate_parquet_tile_metadata(\n",
    "    config[\"file_name\"]\n",
    ")"
   ]
  },
  {
   "cell_type": "code",
   "execution_count": 5,
   "id": "a54305c5",
   "metadata": {
    "ExecuteTime": {
     "end_time": "2022-03-05T00:02:40.000493Z",
     "start_time": "2022-03-05T00:02:39.955286Z"
    }
   },
   "outputs": [
    {
     "data": {
      "text/html": [
       "<div>\n",
       "<style scoped>\n",
       "    .dataframe tbody tr th:only-of-type {\n",
       "        vertical-align: middle;\n",
       "    }\n",
       "\n",
       "    .dataframe tbody tr th {\n",
       "        vertical-align: top;\n",
       "    }\n",
       "\n",
       "    .dataframe thead th {\n",
       "        text-align: right;\n",
       "    }\n",
       "</style>\n",
       "<table border=\"1\" class=\"dataframe\">\n",
       "  <thead>\n",
       "    <tr style=\"text-align: right;\">\n",
       "      <th></th>\n",
       "      <th>n_years</th>\n",
       "      <th>n_unique_months</th>\n",
       "      <th>n_files</th>\n",
       "      <th>size</th>\n",
       "    </tr>\n",
       "    <tr>\n",
       "      <th>egid</th>\n",
       "      <th></th>\n",
       "      <th></th>\n",
       "      <th></th>\n",
       "      <th></th>\n",
       "    </tr>\n",
       "  </thead>\n",
       "  <tbody>\n",
       "    <tr>\n",
       "      <th>10025</th>\n",
       "      <td>1</td>\n",
       "      <td>2</td>\n",
       "      <td>2</td>\n",
       "      <td>711.7 KB</td>\n",
       "    </tr>\n",
       "  </tbody>\n",
       "</table>\n",
       "</div>"
      ],
      "text/plain": [
       "       n_years  n_unique_months  n_files      size\n",
       "egid                                              \n",
       "10025        1                2        2  711.7 KB"
      ]
     },
     "execution_count": 5,
     "metadata": {},
     "output_type": "execute_result"
    }
   ],
   "source": [
    "parquet_tile_analyzer.compute_metadata_stats_by_asset_id(parquet_tile_metadata)"
   ]
  },
  {
   "cell_type": "code",
   "execution_count": 6,
   "id": "c80be32c",
   "metadata": {
    "ExecuteTime": {
     "end_time": "2022-03-05T00:02:43.737013Z",
     "start_time": "2022-03-05T00:02:43.698171Z"
    }
   },
   "outputs": [
    {
     "data": {
      "text/html": [
       "<div>\n",
       "<style scoped>\n",
       "    .dataframe tbody tr th:only-of-type {\n",
       "        vertical-align: middle;\n",
       "    }\n",
       "\n",
       "    .dataframe tbody tr th {\n",
       "        vertical-align: top;\n",
       "    }\n",
       "\n",
       "    .dataframe thead th {\n",
       "        text-align: right;\n",
       "    }\n",
       "</style>\n",
       "<table border=\"1\" class=\"dataframe\">\n",
       "  <thead>\n",
       "    <tr style=\"text-align: right;\">\n",
       "      <th></th>\n",
       "      <th></th>\n",
       "      <th>n_asset_ids</th>\n",
       "      <th>size</th>\n",
       "    </tr>\n",
       "    <tr>\n",
       "      <th>year</th>\n",
       "      <th>month</th>\n",
       "      <th></th>\n",
       "      <th></th>\n",
       "    </tr>\n",
       "  </thead>\n",
       "  <tbody>\n",
       "    <tr>\n",
       "      <th rowspan=\"2\" valign=\"top\">2020</th>\n",
       "      <th>1</th>\n",
       "      <td>1</td>\n",
       "      <td>360.3 KB</td>\n",
       "    </tr>\n",
       "    <tr>\n",
       "      <th>2</th>\n",
       "      <td>1</td>\n",
       "      <td>351.4 KB</td>\n",
       "    </tr>\n",
       "  </tbody>\n",
       "</table>\n",
       "</div>"
      ],
      "text/plain": [
       "            n_asset_ids      size\n",
       "year month                       \n",
       "2020 1                1  360.3 KB\n",
       "     2                1  351.4 KB"
      ]
     },
     "execution_count": 6,
     "metadata": {},
     "output_type": "execute_result"
    }
   ],
   "source": [
    "parquet_tile_analyzer.compute_universe_size_by_time(parquet_tile_metadata)"
   ]
  },
  {
   "cell_type": "code",
   "execution_count": 7,
   "id": "fb4e047e",
   "metadata": {
    "ExecuteTime": {
     "end_time": "2022-03-05T00:02:47.786151Z",
     "start_time": "2022-03-05T00:02:47.754138Z"
    }
   },
   "outputs": [],
   "source": [
    "asset_ids = parquet_tile_metadata.index.levels[0].to_list()"
   ]
  },
  {
   "cell_type": "markdown",
   "id": "b2810f1f",
   "metadata": {},
   "source": [
    "## Load a single-asset tile"
   ]
  },
  {
   "cell_type": "code",
   "execution_count": null,
   "id": "3857b855",
   "metadata": {},
   "outputs": [],
   "source": [
    "single_asset_tile = next(\n",
    "    hparque.yield_parquet_tiles_by_assets(\n",
    "        config[\"file_name\"],\n",
    "        asset_ids[0:1],\n",
    "        config[\"asset_id_col\"],\n",
    "        1,\n",
    "        None,\n",
    "    )\n",
    ")"
   ]
  },
  {
   "cell_type": "code",
   "execution_count": null,
   "id": "af1b41f6",
   "metadata": {},
   "outputs": [],
   "source": [
    "single_tile_df = dtfmod.process_parquet_read_df(df, config[\"asset_id_col\"])"
   ]
  },
  {
   "cell_type": "code",
   "execution_count": null,
   "id": "29dcc08b",
   "metadata": {},
   "outputs": [],
   "source": [
    "single_tile_df.columns"
   ]
  },
  {
   "cell_type": "code",
   "execution_count": null,
   "id": "67510225",
   "metadata": {},
   "outputs": [],
   "source": [
    "single_tile_df.head(3)"
   ]
  },
  {
   "cell_type": "markdown",
   "id": "0515f95f",
   "metadata": {},
   "source": [
    "# Overnight returns"
   ]
  },
  {
   "cell_type": "code",
   "execution_count": null,
   "id": "069cd2ef",
   "metadata": {},
   "outputs": [],
   "source": [
    "host = \"\"\n",
    "dbname = \"\"\n",
    "port = 1000\n",
    "user = \"\"\n",
    "password = \"\"\n",
    "table_name = \"\"\n",
    "connection = hsql.get_connection(host, dbname, port, user, password)"
   ]
  },
  {
   "cell_type": "code",
   "execution_count": null,
   "id": "2f4ddef7",
   "metadata": {},
   "outputs": [],
   "source": [
    "query_results = cofinanc.query_by_assets_and_dates(\n",
    "    connection,\n",
    "    table_name,\n",
    "    asset_ids=asset_ids,\n",
    "    asset_id_col=config[\"asset_id_col\"],\n",
    "    start_date=config[\"start_date\"],\n",
    "    end_date=config[\"end_date\"],\n",
    "    date_col=\"date\",\n",
    "    select_cols=[\"date\", \"open_\", \"close\", \"total_return\", \"prev_total_return\"],\n",
    ")"
   ]
  },
  {
   "cell_type": "code",
   "execution_count": null,
   "id": "c8d3531f",
   "metadata": {},
   "outputs": [],
   "source": [
    "overnight_returns = cofinanc.compute_overnight_returns(\n",
    "    query_results,\n",
    "    config[\"asset_id_col\"],\n",
    ")"
   ]
  },
  {
   "cell_type": "markdown",
   "id": "2a2369a7",
   "metadata": {},
   "source": [
    "# Compute portfolio bar metrics"
   ]
  },
  {
   "cell_type": "code",
   "execution_count": null,
   "id": "077c72ce",
   "metadata": {},
   "outputs": [],
   "source": [
    "bar_metrics = dtfmod.generate_bar_metrics(\n",
    "    config[\"file_name\"],\n",
    "    config[\"start_date\"],\n",
    "    config[\"end_date\"],\n",
    "    config[\"asset_id_col\"],\n",
    "    config[\"returns_col\"],\n",
    "    config[\"volatility_col\"],\n",
    "    config[\"prediction_col\"],\n",
    "    config[\"target_gmv\"],\n",
    "    config[\"dollar_neutrality\"],\n",
    "    # overnight_returns[\"overnight_returns\"],\n",
    ")"
   ]
  },
  {
   "cell_type": "code",
   "execution_count": null,
   "id": "beb943fe",
   "metadata": {},
   "outputs": [],
   "source": [
    "coplotti.plot_portfolio_stats(bar_metrics, freq=\"B\")"
   ]
  },
  {
   "cell_type": "markdown",
   "id": "6a265918",
   "metadata": {},
   "source": [
    "# Compute aggregate portfolio stats"
   ]
  },
  {
   "cell_type": "code",
   "execution_count": null,
   "id": "e0b5aeab",
   "metadata": {},
   "outputs": [],
   "source": [
    "stats_computer = dtfmod.StatsComputer()"
   ]
  },
  {
   "cell_type": "code",
   "execution_count": null,
   "id": "65041403",
   "metadata": {},
   "outputs": [],
   "source": [
    "portfolio_stats, daily_metrics = stats_computer.compute_portfolio_stats(\n",
    "    bar_metrics,\n",
    "    \"B\",\n",
    ")\n",
    "display(portfolio_stats)"
   ]
  },
  {
   "cell_type": "code",
   "execution_count": null,
   "id": "aacd507a",
   "metadata": {},
   "outputs": [],
   "source": [
    "portfolio_stats_at_freq, _ = stats_computer.compute_portfolio_stats(\n",
    "    bar_metrics,\n",
    "    config[\"freq\"],\n",
    ")\n",
    "display(portfolio_stats_at_freq)"
   ]
  },
  {
   "cell_type": "markdown",
   "id": "e423e5de",
   "metadata": {},
   "source": [
    "# Regression analysis"
   ]
  },
  {
   "cell_type": "code",
   "execution_count": null,
   "id": "dfe03373",
   "metadata": {},
   "outputs": [],
   "source": [
    "hdbg.dassert(config[\"target_col\"])\n",
    "hdbg.dassert(config[\"feature_cols\"])"
   ]
  },
  {
   "cell_type": "code",
   "execution_count": null,
   "id": "26a2393e",
   "metadata": {},
   "outputs": [],
   "source": [
    "coefficients = dtfmod.regress(\n",
    "    config[\"file_name\"],\n",
    "    config[\"asset_id_col\"],\n",
    "    config[\"target_col\"],\n",
    "    config[\"feature_cols\"],\n",
    "    config[\"feature_lag\"],\n",
    "    50,\n",
    ")"
   ]
  },
  {
   "cell_type": "code",
   "execution_count": null,
   "id": "e1bea0e4",
   "metadata": {},
   "outputs": [],
   "source": [
    "coefficients.head(3)"
   ]
  },
  {
   "cell_type": "markdown",
   "id": "7acc5a02",
   "metadata": {},
   "source": [
    "# Predictor mixing"
   ]
  },
  {
   "cell_type": "code",
   "execution_count": null,
   "id": "e57bbf36",
   "metadata": {},
   "outputs": [],
   "source": [
    "hdbg.dassert(config[\"feature_cols\"])"
   ]
  },
  {
   "cell_type": "code",
   "execution_count": null,
   "id": "453dff0c",
   "metadata": {},
   "outputs": [],
   "source": [
    "features = config[\"feature_cols\"]\n",
    "weights = pd.DataFrame(np.identity(len(features)), features, features)\n",
    "weights[\"sum\"] = 1\n",
    "display(weights)"
   ]
  },
  {
   "cell_type": "code",
   "execution_count": null,
   "id": "d25249c9",
   "metadata": {},
   "outputs": [],
   "source": [
    "mix_bar_metrics = dtfmod.load_mix_evaluate(\n",
    "    config[\"file_name\"],\n",
    "    config[\"start_date\"],\n",
    "    config[\"end_date\"],\n",
    "    config[\"asset_id_col\"],\n",
    "    config[\"returns_col\"],\n",
    "    config[\"volatility_col\"],\n",
    "    config[\"feature_cols\"],\n",
    "    weights,\n",
    "    config[\"target_gmv\"],\n",
    "    config[\"dollar_neutrality\"],\n",
    ")"
   ]
  },
  {
   "cell_type": "code",
   "execution_count": null,
   "id": "226e970c",
   "metadata": {},
   "outputs": [],
   "source": [
    "mix_portfolio_stats, mix_daily_metrics = stats_computer.compute_portfolio_stats(\n",
    "    mix_bar_metrics,\n",
    "    \"B\",\n",
    ")\n",
    "display(mix_portfolio_stats)"
   ]
  },
  {
   "cell_type": "code",
   "execution_count": null,
   "id": "b897e55e",
   "metadata": {},
   "outputs": [],
   "source": [
    "coplotti.plot_portfolio_stats(mix_bar_metrics, freq=\"B\")"
   ]
  }
 ],
 "metadata": {
  "jupytext": {
   "text_representation": {
    "extension": ".py",
    "format_name": "percent",
    "format_version": "1.3",
    "jupytext_version": "1.13.3"
   }
  },
  "kernelspec": {
   "display_name": "Python 3 (ipykernel)",
   "language": "python",
   "name": "python3"
  },
  "language_info": {
   "codemirror_mode": {
    "name": "ipython",
    "version": 3
   },
   "file_extension": ".py",
   "mimetype": "text/x-python",
   "name": "python",
   "nbconvert_exporter": "python",
   "pygments_lexer": "ipython3",
   "version": "3.8.10"
  },
  "toc": {
   "base_numbering": 1,
   "nav_menu": {},
   "number_sections": true,
   "sideBar": true,
   "skip_h1_title": false,
   "title_cell": "Table of Contents",
   "title_sidebar": "Contents",
   "toc_cell": false,
   "toc_position": {},
   "toc_section_display": true,
   "toc_window_display": false
  }
 },
 "nbformat": 4,
 "nbformat_minor": 5
}
