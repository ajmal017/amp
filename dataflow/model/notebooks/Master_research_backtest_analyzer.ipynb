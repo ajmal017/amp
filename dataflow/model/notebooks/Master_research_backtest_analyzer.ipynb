{
 "cells": [
  {
   "cell_type": "code",
   "execution_count": 2,
   "id": "446eb752",
   "metadata": {
    "ExecuteTime": {
     "end_time": "2022-02-20T21:06:38.650831Z",
     "start_time": "2022-02-20T21:06:25.149868Z"
    }
   },
   "outputs": [
    {
     "name": "stderr",
     "output_type": "stream",
     "text": [
      "/app/amp/core/explore.py:39: TqdmExperimentalWarning: Using `tqdm.autonotebook.tqdm` in notebook mode. Use `tqdm.tqdm` instead to force console mode (e.g. in jupyter console)\n",
      "  import tqdm.autonotebook as tauton\n"
     ]
    }
   ],
   "source": [
    "%load_ext autoreload\n",
    "%autoreload 2\n",
    "%matplotlib inline\n",
    "\n",
    "import datetime\n",
    "import logging\n",
    "\n",
    "import numpy as np\n",
    "import pandas as pd\n",
    "\n",
    "import core.config as cconfig\n",
    "import core.finance as cofinanc\n",
    "import core.plotting as coplotti\n",
    "import core.statistics as costatis\n",
    "import dataflow.model as dtfmod\n",
    "import helpers.hdbg as hdbg\n",
    "import helpers.henv as henv\n",
    "import helpers.hparquet as hparque\n",
    "import helpers.hprint as hprint\n",
    "import helpers.hsql as hsql"
   ]
  },
  {
   "cell_type": "code",
   "execution_count": 3,
   "id": "affb27e4",
   "metadata": {
    "ExecuteTime": {
     "end_time": "2022-02-20T21:06:39.836626Z",
     "start_time": "2022-02-20T21:06:38.668426Z"
    }
   },
   "outputs": [
    {
     "name": "stdout",
     "output_type": "stream",
     "text": [
      "\u001b[0m\u001b[36mINFO\u001b[0m: > cmd='/venv/lib/python3.8/site-packages/ipykernel_launcher.py -f /home/.local/share/jupyter/runtime/kernel-e0f2a24c-3cfc-4907-ac49-c307027d4c48.json'\n",
      "WARNING: Running in Jupyter\n",
      ">>ENV<<: is_inside_container=True: code_version=1.0.3, container_version=amp-1.0.3, is_inside_docker=True, is_inside_ci=False, CI_defined=True, CI=''\n",
      ">>ENV<<: AM_AWS_PROFILE=True AM_ECR_BASE_PATH=True AM_S3_BUCKET=True AM_TELEGRAM_TOKEN=True AWS_ACCESS_KEY_ID=False AWS_DEFAULT_REGION=False AWS_SECRET_ACCESS_KEY=False GH_ACTION_ACCESS_TOKEN=True\n",
      "\u001b[31m-----------------------------------------------------------------------------\n",
      "This code is not in sync with the container:\n",
      "code_version='1.0.3' != container_version='amp-1.0.3'\n",
      "-----------------------------------------------------------------------------\n",
      "You need to:\n",
      "- merge origin/master into your branch with `invoke git_merge_master`\n",
      "- pull the latest container with `invoke docker_pull`\u001b[0m\n",
      "INFO  # Git\n",
      "    branch_name='AmpTask2182_Compute_overnight_rets_02'\n",
      "    hash='fa5e55e72'\n",
      "    # Last commits:\n",
      "      * fa5e55e72 paul     Checkpoint                                                        (14 minutes ago) Sun Feb 20 20:52:14 2022  (HEAD -> AmpTask2182_Compute_overnight_rets_02)\n",
      "      * 13d2e48d7 paul     Checkpoint                                                        (16 minutes ago) Sun Feb 20 20:51:08 2022           \n",
      "      * ff7a34f96 paul     Checkpoint                                                        (   4 hours ago) Sun Feb 20 17:34:36 2022           \n",
      "# Machine info\n",
      "    system=Linux\n",
      "    node name=5ec9d7dc4bca\n",
      "    release=5.10.76-linuxkit\n",
      "    version=#1 SMP Mon Nov 8 10:21:19 UTC 2021\n",
      "    machine=x86_64\n",
      "    processor=x86_64\n",
      "    cpu count=2\n",
      "    cpu freq=scpufreq(current=2997.844, min=0.0, max=0.0)\n",
      "    memory=svmem(total=16790614016, available=15264931840, percent=9.1, used=829038592, free=3980111872, active=2377293824, inactive=8673529856, buffers=827961344, cached=11153502208, shared=355131392, slab=1709723648)\n",
      "    disk usage=sdiskusage(total=62725623808, used=30773424128, free=28735483904, percent=51.7)\n",
      "# Packages\n",
      "    python: 3.8.10\n",
      "    gluonnlp: ?\n",
      "    gluonts: 0.6.7\n",
      "    joblib: 1.1.0\n",
      "    mxnet: 1.8.0\n",
      "    numpy: 1.21.1\n",
      "    pandas: 1.3.4\n",
      "    pyarrow: 6.0.1\n",
      "    scipy: 1.6.1\n",
      "    seaborn: 0.11.2\n",
      "    sklearn: 1.0.1\n",
      "    statsmodels: 0.13.1\n",
      "\u001b[33mWARNING\u001b[0m: Disabling annoying warnings\n"
     ]
    }
   ],
   "source": [
    "hdbg.init_logger(verbosity=logging.INFO)\n",
    "\n",
    "_LOG = logging.getLogger(__name__)\n",
    "\n",
    "_LOG.info(\"%s\", henv.get_system_signature()[0])\n",
    "\n",
    "hprint.config_notebook()"
   ]
  },
  {
   "cell_type": "markdown",
   "id": "1fde07fb",
   "metadata": {},
   "source": [
    "# Load tiled backtest"
   ]
  },
  {
   "cell_type": "code",
   "execution_count": 7,
   "id": "6385e3e6",
   "metadata": {
    "ExecuteTime": {
     "end_time": "2022-02-02T15:13:54.578379Z",
     "start_time": "2022-02-02T15:13:54.499978Z"
    }
   },
   "outputs": [],
   "source": [
    "dict_ = {\n",
    "    \"file_name\": \"\",\n",
    "    \"start_date\": datetime.date(2010, 1, 1),\n",
    "    \"end_date\": datetime.date(2020, 12, 31),\n",
    "    \"asset_id_col\": \"\",\n",
    "    \"returns_col\": \"\",\n",
    "    \"volatility_col\": \"\",\n",
    "    \"prediction_col\": \"\",\n",
    "    \"feature_cols\": None,\n",
    "    \"feature_lag\": 2,\n",
    "    \"target_gmv\": 1e6,\n",
    "    \"dollar_neutrality\": \"no_constraint\",\n",
    "    \"freq\": \"5T\",\n",
    "}\n",
    "config = cconfig.get_config_from_nested_dict(dict_)"
   ]
  },
  {
   "cell_type": "code",
   "execution_count": null,
   "id": "8b063b8e",
   "metadata": {},
   "outputs": [],
   "source": [
    "parquet_tile_analyzer = dtfmod.ParquetTileAnalyzer()\n",
    "parquet_tile_metadata = parquet_tile_analyzer.collate_parquet_tile_metadata(\n",
    "    config[\"file_name\"]\n",
    ")"
   ]
  },
  {
   "cell_type": "code",
   "execution_count": null,
   "id": "a54305c5",
   "metadata": {},
   "outputs": [],
   "source": [
    "parquet_tile_analyzer.compute_metadata_stats_by_asset_id(parquet_tile_metadata)"
   ]
  },
  {
   "cell_type": "code",
   "execution_count": null,
   "id": "c80be32c",
   "metadata": {},
   "outputs": [],
   "source": [
    "parquet_tile_analyzer.compute_universe_size_by_time(parquet_tile_metadata)"
   ]
  },
  {
   "cell_type": "code",
   "execution_count": null,
   "id": "fb4e047e",
   "metadata": {},
   "outputs": [],
   "source": [
    "asset_ids = parquet_tile_metadata.index.levels[0].to_list()"
   ]
  },
  {
   "cell_type": "markdown",
   "id": "0515f95f",
   "metadata": {},
   "source": [
    "# Overnight returns"
   ]
  },
  {
   "cell_type": "code",
   "execution_count": null,
   "id": "069cd2ef",
   "metadata": {},
   "outputs": [],
   "source": [
    "host = \"\"\n",
    "dbname = \"\"\n",
    "port = 1000\n",
    "user = \"\"\n",
    "password = \"\"\n",
    "table_name = \"\"\n",
    "connection = hsql.get_connection(host, dbname, port, user, password)"
   ]
  },
  {
   "cell_type": "code",
   "execution_count": null,
   "id": "2f4ddef7",
   "metadata": {},
   "outputs": [],
   "source": [
    "query_results = cofinanc.query_by_assets_and_dates(\n",
    "    connection,\n",
    "    table_name,\n",
    "    asset_ids=asset_ids,\n",
    "    asset_id_col=config[\"asset_id_col\"],\n",
    "    start_date=config[\"start_date\"],\n",
    "    end_date=config[\"end_date\"],\n",
    "    date_col=\"date\",\n",
    "    select_cols=[\"date\", \"open_\", \"close\", \"total_return\", \"prev_total_return\"],\n",
    ")"
   ]
  },
  {
   "cell_type": "code",
   "execution_count": null,
   "id": "c8d3531f",
   "metadata": {},
   "outputs": [],
   "source": [
    "overnight_returns = cofinanc.compute_overnight_returns(\n",
    "    query_results,\n",
    "    config[\"asset_id_col\"],\n",
    ")"
   ]
  },
  {
   "cell_type": "markdown",
   "id": "2a2369a7",
   "metadata": {},
   "source": [
    "# Compute portfolio bar metrics"
   ]
  },
  {
   "cell_type": "code",
   "execution_count": null,
   "id": "077c72ce",
   "metadata": {},
   "outputs": [],
   "source": [
    "bar_metrics = dtfmod.generate_bar_metrics(\n",
    "    config[\"file_name\"],\n",
    "    config[\"start_date\"],\n",
    "    config[\"end_date\"],\n",
    "    config[\"asset_id_col\"],\n",
    "    config[\"returns_col\"],\n",
    "    config[\"volatility_col\"],\n",
    "    config[\"prediction_col\"],\n",
    "    config[\"target_gmv\"],\n",
    "    config[\"dollar_neutrality\"],\n",
    "    overnight_returns[\"overnight_returns\"],\n",
    ")"
   ]
  },
  {
   "cell_type": "code",
   "execution_count": null,
   "id": "beb943fe",
   "metadata": {},
   "outputs": [],
   "source": [
    "coplotti.plot_portfolio_stats(bar_metrics, freq=\"B\")"
   ]
  },
  {
   "cell_type": "markdown",
   "id": "6a265918",
   "metadata": {},
   "source": [
    "# Compute aggregate portfolio stats"
   ]
  },
  {
   "cell_type": "code",
   "execution_count": null,
   "id": "e0b5aeab",
   "metadata": {},
   "outputs": [],
   "source": [
    "stats_computer = dtfmod.StatsComputer()"
   ]
  },
  {
   "cell_type": "code",
   "execution_count": null,
   "id": "65041403",
   "metadata": {},
   "outputs": [],
   "source": [
    "portfolio_stats, daily_metrics = stats_computer.compute_portfolio_stats(\n",
    "    bar_metrics,\n",
    "    \"B\",\n",
    ")\n",
    "display(portfolio_stats)"
   ]
  },
  {
   "cell_type": "code",
   "execution_count": null,
   "id": "aacd507a",
   "metadata": {},
   "outputs": [],
   "source": [
    "portfolio_stats_at_freq, _ = stats_computer.compute_portfolio_stats(\n",
    "    bar_metrics,\n",
    "    config[\"freq\"],\n",
    ")\n",
    "display(portfolio_stats_at_freq)"
   ]
  },
  {
   "cell_type": "markdown",
   "id": "e423e5de",
   "metadata": {},
   "source": [
    "# Regression analysis"
   ]
  },
  {
   "cell_type": "code",
   "execution_count": null,
   "id": "dfe03373",
   "metadata": {},
   "outputs": [],
   "source": [
    "hdbg.dassert(config[\"target_col\"])\n",
    "hdbg.dassert(config[\"feature_cols\"])"
   ]
  },
  {
   "cell_type": "code",
   "execution_count": null,
   "id": "26a2393e",
   "metadata": {},
   "outputs": [],
   "source": [
    "coefficients = dtfmod.regress(\n",
    "    config[\"file_name\"],\n",
    "    config[\"asset_id_col\"],\n",
    "    config[\"target_col\"],\n",
    "    config[\"feature_cols\"],\n",
    "    config[\"feature_lag\"],\n",
    "    50,\n",
    ")"
   ]
  },
  {
   "cell_type": "code",
   "execution_count": null,
   "id": "e1bea0e4",
   "metadata": {},
   "outputs": [],
   "source": [
    "coefficients.head(3)"
   ]
  },
  {
   "cell_type": "markdown",
   "id": "7acc5a02",
   "metadata": {},
   "source": [
    "# Predictor mixing"
   ]
  },
  {
   "cell_type": "code",
   "execution_count": null,
   "id": "e57bbf36",
   "metadata": {},
   "outputs": [],
   "source": [
    "hdbg.dassert(config[\"feature_cols\"])"
   ]
  },
  {
   "cell_type": "code",
   "execution_count": null,
   "id": "453dff0c",
   "metadata": {},
   "outputs": [],
   "source": [
    "features = config[\"feature_cols\"]\n",
    "weights = pd.DataFrame(np.identity(len(features)), features, features)\n",
    "weights[\"sum\"] = 1\n",
    "display(weights)"
   ]
  },
  {
   "cell_type": "code",
   "execution_count": null,
   "id": "d25249c9",
   "metadata": {},
   "outputs": [],
   "source": [
    "mix_bar_metrics = dtfmod.load_mix_evaluate(\n",
    "    config[\"file_name\"],\n",
    "    config[\"start_date\"],\n",
    "    config[\"end_date\"],\n",
    "    config[\"asset_id_col\"],\n",
    "    config[\"returns_col\"],\n",
    "    config[\"volatility_col\"],\n",
    "    config[\"feature_cols\"],\n",
    "    weights,\n",
    "    config[\"target_gmv\"],\n",
    "    config[\"dollar_neutrality\"],\n",
    ")"
   ]
  },
  {
   "cell_type": "code",
   "execution_count": null,
   "id": "226e970c",
   "metadata": {},
   "outputs": [],
   "source": [
    "mix_portfolio_stats, mix_daily_metrics = stats_computer.compute_portfolio_stats(\n",
    "    mix_bar_metrics,\n",
    "    \"B\",\n",
    ")\n",
    "display(mix_portfolio_stats)"
   ]
  },
  {
   "cell_type": "code",
   "execution_count": null,
   "id": "b897e55e",
   "metadata": {},
   "outputs": [],
   "source": [
    "coplotti.plot_portfolio_stats(mix_bar_metrics, freq=\"B\")"
   ]
  }
 ],
 "metadata": {
  "jupytext": {
   "text_representation": {
    "extension": ".py",
    "format_name": "percent",
    "format_version": "1.3",
    "jupytext_version": "1.13.3"
   }
  },
  "kernelspec": {
   "display_name": "Python 3 (ipykernel)",
   "language": "python",
   "name": "python3"
  },
  "language_info": {
   "codemirror_mode": {
    "name": "ipython",
    "version": 3
   },
   "file_extension": ".py",
   "mimetype": "text/x-python",
   "name": "python",
   "nbconvert_exporter": "python",
   "pygments_lexer": "ipython3",
   "version": "3.8.10"
  },
  "toc": {
   "base_numbering": 1,
   "nav_menu": {},
   "number_sections": true,
   "sideBar": true,
   "skip_h1_title": false,
   "title_cell": "Table of Contents",
   "title_sidebar": "Contents",
   "toc_cell": false,
   "toc_position": {},
   "toc_section_display": true,
   "toc_window_display": false
  }
 },
 "nbformat": 4,
 "nbformat_minor": 5
}
