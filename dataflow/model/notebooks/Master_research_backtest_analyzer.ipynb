{
 "cells": [
  {
   "cell_type": "code",
   "execution_count": null,
   "id": "446eb752",
   "metadata": {
    "ExecuteTime": {
     "end_time": "2022-03-30T15:43:11.952806Z",
     "start_time": "2022-03-30T15:43:09.003611Z"
    }
   },
   "outputs": [],
   "source": [
    "%load_ext autoreload\n",
    "%autoreload 2\n",
    "%matplotlib inline\n",
    "\n",
    "import datetime\n",
    "import logging\n",
    "\n",
    "import pandas as pd\n",
    "\n",
    "import core.config as cconfig\n",
    "import core.finance as cofinanc\n",
    "import core.plotting as coplotti\n",
    "import dataflow.model as dtfmod\n",
    "import helpers.hdbg as hdbg\n",
    "import helpers.henv as henv\n",
    "import helpers.hparquet as hparque\n",
    "import helpers.hprint as hprint\n",
    "import helpers.hsql as hsql"
   ]
  },
  {
   "cell_type": "code",
   "execution_count": null,
   "id": "affb27e4",
   "metadata": {
    "ExecuteTime": {
     "end_time": "2022-03-30T15:43:12.129618Z",
     "start_time": "2022-03-30T15:43:11.954808Z"
    }
   },
   "outputs": [],
   "source": [
    "hdbg.init_logger(verbosity=logging.INFO)\n",
    "\n",
    "_LOG = logging.getLogger(__name__)\n",
    "\n",
    "_LOG.info(\"%s\", henv.get_system_signature()[0])\n",
    "\n",
    "hprint.config_notebook()"
   ]
  },
  {
   "cell_type": "markdown",
   "id": "1fde07fb",
   "metadata": {},
   "source": [
    "# Load tiled backtest"
   ]
  },
  {
   "cell_type": "code",
   "execution_count": null,
   "id": "6385e3e6",
   "metadata": {
    "ExecuteTime": {
     "end_time": "2022-03-30T15:51:54.365872Z",
     "start_time": "2022-03-30T15:51:54.334339Z"
    }
   },
   "outputs": [],
   "source": [
    "tile_dict = {\n",
    "    \"dir_name\": \"/app/build_tile_configs.../tiled_results/\",\n",
    "    \"asset_id_col\": \"\",\n",
    "}\n",
    "tile_config = cconfig.get_config_from_nested_dict(tile_dict)"
   ]
  },
  {
   "cell_type": "markdown",
   "id": "a479096f",
   "metadata": {},
   "source": [
    "## Report tile stats"
   ]
  },
  {
   "cell_type": "code",
   "execution_count": null,
   "id": "8b063b8e",
   "metadata": {
    "ExecuteTime": {
     "end_time": "2022-03-30T15:51:56.405653Z",
     "start_time": "2022-03-30T15:51:56.363166Z"
    }
   },
   "outputs": [],
   "source": [
    "parquet_tile_analyzer = dtfmod.ParquetTileAnalyzer()\n",
    "parquet_tile_metadata = parquet_tile_analyzer.collate_parquet_tile_metadata(\n",
    "    tile_config[\"dir_name\"]\n",
    ")"
   ]
  },
  {
   "cell_type": "code",
   "execution_count": null,
   "id": "a54305c5",
   "metadata": {
    "ExecuteTime": {
     "end_time": "2022-03-30T15:43:12.291321Z",
     "start_time": "2022-03-30T15:43:12.248741Z"
    }
   },
   "outputs": [],
   "source": [
    "parquet_tile_analyzer.compute_metadata_stats_by_asset_id(parquet_tile_metadata)"
   ]
  },
  {
   "cell_type": "code",
   "execution_count": null,
   "id": "c80be32c",
   "metadata": {
    "ExecuteTime": {
     "end_time": "2022-03-30T15:43:12.334731Z",
     "start_time": "2022-03-30T15:43:12.292671Z"
    }
   },
   "outputs": [],
   "source": [
    "parquet_tile_analyzer.compute_universe_size_by_time(parquet_tile_metadata)"
   ]
  },
  {
   "cell_type": "code",
   "execution_count": null,
   "id": "fb4e047e",
   "metadata": {
    "ExecuteTime": {
     "end_time": "2022-03-30T15:43:12.366989Z",
     "start_time": "2022-03-30T15:43:12.336056Z"
    }
   },
   "outputs": [],
   "source": [
    "asset_ids = parquet_tile_metadata.index.levels[0].to_list()\n",
    "display(asset_ids)"
   ]
  },
  {
   "cell_type": "markdown",
   "id": "b2810f1f",
   "metadata": {},
   "source": [
    "## Load a single-asset tile"
   ]
  },
  {
   "cell_type": "code",
   "execution_count": null,
   "id": "3857b855",
   "metadata": {
    "ExecuteTime": {
     "end_time": "2022-03-30T15:43:12.600318Z",
     "start_time": "2022-03-30T15:43:12.368411Z"
    }
   },
   "outputs": [],
   "source": [
    "single_asset_tile = next(\n",
    "    hparque.yield_parquet_tiles_by_assets(\n",
    "        tile_config[\"dir_name\"],\n",
    "        asset_ids[0:1],\n",
    "        tile_config[\"asset_id_col\"],\n",
    "        1,\n",
    "        None,\n",
    "    )\n",
    ")"
   ]
  },
  {
   "cell_type": "code",
   "execution_count": null,
   "id": "af1b41f6",
   "metadata": {
    "ExecuteTime": {
     "end_time": "2022-03-30T15:43:12.706822Z",
     "start_time": "2022-03-30T15:43:12.602751Z"
    }
   },
   "outputs": [],
   "source": [
    "single_tile_df = dtfmod.process_parquet_read_df(\n",
    "    single_asset_tile, tile_config[\"asset_id_col\"]\n",
    ")"
   ]
  },
  {
   "cell_type": "code",
   "execution_count": null,
   "id": "29dcc08b",
   "metadata": {
    "ExecuteTime": {
     "end_time": "2022-03-30T15:43:12.740539Z",
     "start_time": "2022-03-30T15:43:12.708207Z"
    }
   },
   "outputs": [],
   "source": [
    "single_tile_df.columns.levels[0]"
   ]
  },
  {
   "cell_type": "code",
   "execution_count": null,
   "id": "67510225",
   "metadata": {
    "ExecuteTime": {
     "end_time": "2022-03-30T15:43:12.795344Z",
     "start_time": "2022-03-30T15:43:12.741882Z"
    }
   },
   "outputs": [],
   "source": [
    "single_tile_df.head(3)"
   ]
  },
  {
   "cell_type": "markdown",
   "id": "8bad2928",
   "metadata": {},
   "source": [
    "# Compute portfolio bar metrics"
   ]
  },
  {
   "cell_type": "code",
   "execution_count": null,
   "id": "fe5e5f06",
   "metadata": {
    "ExecuteTime": {
     "end_time": "2022-03-30T15:43:12.828130Z",
     "start_time": "2022-03-30T15:43:12.796751Z"
    }
   },
   "outputs": [],
   "source": [
    "fep_dict = {\n",
    "    \"price_col\": \"vwap\",\n",
    "    \"volatility_col\": \"vwap.ret_0.vol\",\n",
    "    \"prediction_col\": \"prediction\",\n",
    "    \"first_bar_of_day_open\": datetime.time(9, 30),\n",
    "    \"last_bar_of_day_close\": datetime.time(16, 0),\n",
    "    \"target_gmv\": 1e6,\n",
    "    \"dollar_neutrality\": \"gaussian_rank\",\n",
    "    \"quantization\": \"nearest_lot\",\n",
    "}\n",
    "fep_config = cconfig.get_config_from_nested_dict(fep_dict)"
   ]
  },
  {
   "cell_type": "code",
   "execution_count": null,
   "id": "b1431ef2",
   "metadata": {
    "ExecuteTime": {
     "end_time": "2022-03-30T15:43:12.860455Z",
     "start_time": "2022-03-30T15:43:12.829622Z"
    }
   },
   "outputs": [],
   "source": [
    "fep = dtfmod.ForecastEvaluatorFromPrices(\n",
    "    fep_config[\"price_col\"],\n",
    "    fep_config[\"volatility_col\"],\n",
    "    fep_config[\"prediction_col\"],\n",
    "    first_bar_of_day_open=fep_config[\"first_bar_of_day_open\"],\n",
    "    last_bar_of_day_close=fep_config[\"last_bar_of_day_close\"],\n",
    ")"
   ]
  },
  {
   "cell_type": "code",
   "execution_count": null,
   "id": "0646399a",
   "metadata": {
    "ExecuteTime": {
     "end_time": "2022-03-30T15:43:12.892282Z",
     "start_time": "2022-03-30T15:43:12.862201Z"
    }
   },
   "outputs": [],
   "source": [
    "backtest_df_iter = dtfmod.yield_processed_parquet_tiles_by_year(\n",
    "    tile_config[\"dir_name\"],\n",
    "    datetime.date(2011, 1, 1),\n",
    "    datetime.date(2018, 12, 31),\n",
    "    tile_config[\"asset_id_col\"],\n",
    "    data_cols=fep.get_cols(),\n",
    "    asset_ids=None,\n",
    ")"
   ]
  },
  {
   "cell_type": "code",
   "execution_count": null,
   "id": "b0eaf229",
   "metadata": {
    "ExecuteTime": {
     "end_time": "2022-03-30T15:43:41.921294Z",
     "start_time": "2022-03-30T15:43:12.893539Z"
    }
   },
   "outputs": [],
   "source": [
    "bar_metrics = []\n",
    "for df in backtest_df_iter:\n",
    "    _, bar_metrics_slice = fep.annotate_forecasts(\n",
    "        df,\n",
    "        target_gmv=fep_config[\"target_gmv\"],\n",
    "        dollar_neutrality=fep_config[\"dollar_neutrality\"],\n",
    "        quantization=fep_config[\"quantization\"],\n",
    "    )\n",
    "    bar_metrics.append(bar_metrics_slice)\n",
    "bar_metrics = pd.concat(bar_metrics)"
   ]
  },
  {
   "cell_type": "code",
   "execution_count": null,
   "id": "e821a69a",
   "metadata": {
    "ExecuteTime": {
     "end_time": "2022-03-30T15:43:47.311303Z",
     "start_time": "2022-03-30T15:43:41.922653Z"
    }
   },
   "outputs": [],
   "source": [
    "coplotti.plot_portfolio_stats(bar_metrics, freq=\"B\")"
   ]
  },
  {
   "cell_type": "markdown",
   "id": "dd537560",
   "metadata": {},
   "source": [
    "# Compute aggregate portfolio stats"
   ]
  },
  {
   "cell_type": "code",
   "execution_count": null,
   "id": "130d4c62",
   "metadata": {
    "ExecuteTime": {
     "end_time": "2022-03-30T15:43:47.344100Z",
     "start_time": "2022-03-30T15:43:47.312719Z"
    }
   },
   "outputs": [],
   "source": [
    "stats_computer = dtfmod.StatsComputer()"
   ]
  },
  {
   "cell_type": "code",
   "execution_count": null,
   "id": "3c729e3b",
   "metadata": {
    "ExecuteTime": {
     "end_time": "2022-03-30T15:43:47.616729Z",
     "start_time": "2022-03-30T15:43:47.345509Z"
    }
   },
   "outputs": [],
   "source": [
    "portfolio_stats, daily_metrics = stats_computer.compute_portfolio_stats(\n",
    "    bar_metrics,\n",
    "    \"B\",\n",
    ")\n",
    "display(portfolio_stats)"
   ]
  },
  {
   "cell_type": "markdown",
   "id": "0515f95f",
   "metadata": {},
   "source": [
    "# Overnight returns"
   ]
  },
  {
   "cell_type": "code",
   "execution_count": null,
   "id": "069cd2ef",
   "metadata": {
    "ExecuteTime": {
     "end_time": "2022-03-30T15:43:47.839279Z",
     "start_time": "2022-03-30T15:43:47.618086Z"
    }
   },
   "outputs": [],
   "source": [
    "host = \"\"\n",
    "dbname = \"\"\n",
    "port = 1000\n",
    "user = \"\"\n",
    "password = \"\"\n",
    "table_name = \"\"\n",
    "connection = hsql.get_connection(host, dbname, port, user, password)"
   ]
  },
  {
   "cell_type": "code",
   "execution_count": null,
   "id": "2f4ddef7",
   "metadata": {
    "ExecuteTime": {
     "end_time": "2022-03-30T15:51:10.296230Z",
     "start_time": "2022-03-30T15:51:10.255577Z"
    }
   },
   "outputs": [],
   "source": [
    "query_results = cofinanc.query_by_assets_and_dates(\n",
    "    connection,\n",
    "    table_name,\n",
    "    asset_ids=asset_ids,\n",
    "    asset_id_col=config[\"asset_id_col\"],\n",
    "    start_date=config[\"start_date\"],\n",
    "    end_date=config[\"end_date\"],\n",
    "    date_col=\"date\",\n",
    "    select_cols=[\"date\", \"open_\", \"close\", \"total_return\", \"prev_total_return\"],\n",
    ")"
   ]
  },
  {
   "cell_type": "code",
   "execution_count": null,
   "id": "c8d3531f",
   "metadata": {
    "ExecuteTime": {
     "end_time": "2022-03-30T15:51:12.040441Z",
     "start_time": "2022-03-30T15:51:12.001368Z"
    }
   },
   "outputs": [],
   "source": [
    "overnight_returns = cofinanc.compute_overnight_returns(\n",
    "    query_results,\n",
    "    config[\"asset_id_col\"],\n",
    ")"
   ]
  },
  {
   "cell_type": "markdown",
   "id": "e423e5de",
   "metadata": {},
   "source": [
    "# Regression analysis"
   ]
  },
  {
   "cell_type": "code",
   "execution_count": null,
   "id": "61b52e00",
   "metadata": {
    "ExecuteTime": {
     "end_time": "2022-03-30T15:51:12.777323Z",
     "start_time": "2022-03-30T15:51:12.745154Z"
    }
   },
   "outputs": [],
   "source": [
    "regression_dict = {\n",
    "    \"target_col\": \"vwap.ret_0.vol_adj\",\n",
    "    \"feature_cols\": [1, 2, 3, 4, 5, 6, \"prediction\"],\n",
    "    \"feature_lag\": 2,\n",
    "    \"batch_size\": 50,\n",
    "}\n",
    "regression_config = cconfig.get_config_from_nested_dict(regression_dict)"
   ]
  },
  {
   "cell_type": "code",
   "execution_count": null,
   "id": "26a2393e",
   "metadata": {
    "ExecuteTime": {
     "end_time": "2022-03-30T15:51:16.534683Z",
     "start_time": "2022-03-30T15:51:14.006063Z"
    }
   },
   "outputs": [],
   "source": [
    "coefficients, corr = dtfmod.regress(\n",
    "    tile_config[\"dir_name\"],\n",
    "    tile_config[\"asset_id_col\"],\n",
    "    regression_config[\"target_col\"],\n",
    "    regression_config[\"feature_cols\"],\n",
    "    regression_config[\"feature_lag\"],\n",
    "    regression_config[\"batch_size\"],\n",
    ")"
   ]
  },
  {
   "cell_type": "code",
   "execution_count": null,
   "id": "e1bea0e4",
   "metadata": {
    "ExecuteTime": {
     "end_time": "2022-03-30T15:51:16.705541Z",
     "start_time": "2022-03-30T15:51:16.663740Z"
    }
   },
   "outputs": [],
   "source": [
    "coefficients.head(3)"
   ]
  },
  {
   "cell_type": "code",
   "execution_count": null,
   "id": "16e70c74",
   "metadata": {
    "ExecuteTime": {
     "end_time": "2022-03-30T15:51:17.152700Z",
     "start_time": "2022-03-30T15:51:17.112846Z"
    }
   },
   "outputs": [],
   "source": [
    "corr.head()"
   ]
  },
  {
   "cell_type": "code",
   "execution_count": null,
   "id": "3b0d54b5",
   "metadata": {},
   "outputs": [],
   "source": []
  }
 ],
 "metadata": {
  "jupytext": {
   "text_representation": {
    "extension": ".py",
    "format_name": "percent",
    "format_version": "1.3",
    "jupytext_version": "1.13.7"
   }
  },
  "kernelspec": {
   "display_name": "Python 3 (ipykernel)",
   "language": "python",
   "name": "python3"
  },
  "language_info": {
   "codemirror_mode": {
    "name": "ipython",
    "version": 3
   },
   "file_extension": ".py",
   "mimetype": "text/x-python",
   "name": "python",
   "nbconvert_exporter": "python",
   "pygments_lexer": "ipython3",
   "version": "3.8.10"
  },
  "toc": {
   "base_numbering": 1,
   "nav_menu": {},
   "number_sections": true,
   "sideBar": true,
   "skip_h1_title": false,
   "title_cell": "Table of Contents",
   "title_sidebar": "Contents",
   "toc_cell": false,
   "toc_position": {},
   "toc_section_display": true,
   "toc_window_display": false
  }
 },
 "nbformat": 4,
 "nbformat_minor": 5
}
