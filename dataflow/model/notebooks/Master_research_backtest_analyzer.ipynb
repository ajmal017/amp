{
 "cells": [
  {
   "cell_type": "code",
   "execution_count": 1,
   "id": "446eb752",
   "metadata": {
    "ExecuteTime": {
     "end_time": "2022-02-02T20:53:02.093281Z",
     "start_time": "2022-02-02T20:52:56.486991Z"
    }
   },
   "outputs": [
    {
     "name": "stderr",
     "output_type": "stream",
     "text": [
      "/app/amp/core/explore.py:39: TqdmExperimentalWarning: Using `tqdm.autonotebook.tqdm` in notebook mode. Use `tqdm.tqdm` instead to force console mode (e.g. in jupyter console)\n",
      "  import tqdm.autonotebook as tauton\n"
     ]
    }
   ],
   "source": [
    "%load_ext autoreload\n",
    "%autoreload 2\n",
    "%matplotlib inline\n",
    "\n",
    "import logging\n",
    "\n",
    "import core.config as cconfig\n",
    "import core.plotting as coplotti\n",
    "import dataflow.model as dtfmod\n",
    "import helpers.hdbg as hdbg\n",
    "import helpers.henv as henv\n",
    "import helpers.hparquet as hparque\n",
    "import helpers.hprint as hprint"
   ]
  },
  {
   "cell_type": "code",
   "execution_count": 2,
   "id": "affb27e4",
   "metadata": {
    "ExecuteTime": {
     "end_time": "2022-02-02T20:53:03.731418Z",
     "start_time": "2022-02-02T20:53:02.101827Z"
    }
   },
   "outputs": [
    {
     "name": "stdout",
     "output_type": "stream",
     "text": [
      "\u001b[0m\u001b[36mINFO\u001b[0m: > cmd='/venv/lib/python3.8/site-packages/ipykernel_launcher.py -f /home/.local/share/jupyter/runtime/kernel-9fcd3976-7603-42b1-b634-ea3abce1b415.json'\n",
      "WARNING: Running in Jupyter\n",
      ">>ENV<<: is_inside_container=True: code_version=1.0.3, container_version=amp-1.0.3, is_inside_docker=True, is_inside_ci=False, CI_defined=True, CI=''\n",
      ">>ENV<<: AM_AWS_PROFILE=True AM_ECR_BASE_PATH=True AM_S3_BUCKET=True AM_TELEGRAM_TOKEN=True AWS_ACCESS_KEY_ID=False AWS_DEFAULT_REGION=False AWS_SECRET_ACCESS_KEY=False GH_ACTION_ACCESS_TOKEN=True\n",
      "\u001b[31m-----------------------------------------------------------------------------\n",
      "This code is not in sync with the container:\n",
      "code_version='1.0.3' != container_version='amp-1.0.3'\n",
      "-----------------------------------------------------------------------------\n",
      "You need to:\n",
      "- merge origin/master into your branch with `invoke git_merge_master`\n",
      "- pull the latest container with `invoke docker_pull`\u001b[0m\n",
      "INFO  # Git\n",
      "    branch_name='AmpTask2158_Add_stats_comparison_nb_03'\n",
      "    hash='82edfda37'\n",
      "    # Last commits:\n",
      "      * 82edfda37 paul     Checkpoint                                                        ( 4 minutes ago) Wed Feb 2 20:49:26 2022  (HEAD -> AmpTask2158_Add_stats_comparison_nb_03)\n",
      "      * dda03d5db paul     Checkpoint                                                        (20 minutes ago) Wed Feb 2 20:32:48 2022           \n",
      "      * 66394368d Paul     Amp task2165 parse parquet df (#2166)                             (58 minutes ago) Wed Feb 2 19:55:22 2022  (origin/master, origin/HEAD, master)\n",
      "# Machine info\n",
      "    system=Linux\n",
      "    node name=21731899d9fd\n",
      "    release=5.10.25-linuxkit\n",
      "    version=#1 SMP Tue Mar 23 09:27:39 UTC 2021\n",
      "    machine=x86_64\n",
      "    processor=x86_64\n",
      "    cpu count=2\n",
      "    cpu freq=scpufreq(current=2997.734, min=0.0, max=0.0)\n",
      "    memory=svmem(total=16792666112, available=14713942016, percent=12.4, used=1297010688, free=1880875008, active=3054718976, inactive=10020151296, buffers=832991232, cached=12781789184, shared=449953792, slab=1783246848)\n",
      "    disk usage=sdiskusage(total=62725623808, used=23313616896, free=36195291136, percent=39.2)\n",
      "# Packages\n",
      "    python: 3.8.10\n",
      "    gluonnlp: ?\n",
      "    gluonts: 0.6.7\n",
      "    joblib: 1.1.0\n",
      "    mxnet: 1.8.0\n",
      "    numpy: 1.21.1\n",
      "    pandas: 1.3.4\n",
      "    pyarrow: 6.0.1\n",
      "    scipy: 1.6.1\n",
      "    seaborn: 0.11.2\n",
      "    sklearn: 1.0.1\n",
      "    statsmodels: 0.13.1\n",
      "\u001b[33mWARNING\u001b[0m: Disabling annoying warnings\n"
     ]
    }
   ],
   "source": [
    "hdbg.init_logger(verbosity=logging.INFO)\n",
    "\n",
    "_LOG = logging.getLogger(__name__)\n",
    "\n",
    "_LOG.info(\"%s\", henv.get_system_signature()[0])\n",
    "\n",
    "hprint.config_notebook()"
   ]
  },
  {
   "cell_type": "markdown",
   "id": "1fde07fb",
   "metadata": {},
   "source": [
    "# Load tiled backtest"
   ]
  },
  {
   "cell_type": "code",
   "execution_count": 7,
   "id": "6385e3e6",
   "metadata": {
    "ExecuteTime": {
     "end_time": "2022-02-02T15:13:54.578379Z",
     "start_time": "2022-02-02T15:13:54.499978Z"
    }
   },
   "outputs": [],
   "source": [
    "dict_ = {\n",
    "    \"file_name\": \"\",\n",
    "    \"asset_id_col\": \"\",\n",
    "    \"prediction_col\": \"\",\n",
    "    \"returns_col\": \"\",\n",
    "    \"volatility_col\": \"\",\n",
    "    \"target_gmv\": 1e6,\n",
    "    \"dollar_neutrality\": \"no_constraint\",\n",
    "    \"freq\": \"5T\",\n",
    "    # \"start_timestamp\": \"\",\n",
    "    # \"end_timestamp\": \"\",\n",
    "}"
   ]
  },
  {
   "cell_type": "code",
   "execution_count": 8,
   "id": "04cddfd8",
   "metadata": {
    "ExecuteTime": {
     "end_time": "2022-02-02T15:14:03.423073Z",
     "start_time": "2022-02-02T15:14:03.356542Z"
    }
   },
   "outputs": [],
   "source": [
    "config = cconfig.get_config_from_nested_dict(dict_)"
   ]
  },
  {
   "cell_type": "code",
   "execution_count": 10,
   "id": "f18f839d",
   "metadata": {
    "ExecuteTime": {
     "end_time": "2022-02-02T15:15:30.874833Z",
     "start_time": "2022-02-02T15:15:30.799789Z"
    }
   },
   "outputs": [],
   "source": [
    "columns = [\n",
    "    config[\"asset_id_col\"],\n",
    "    config[\"prediction_col\"],\n",
    "    config[\"returns_col\"],\n",
    "    config[\"volatility_col\"],\n",
    "]"
   ]
  },
  {
   "cell_type": "code",
   "execution_count": null,
   "id": "9e28d26b",
   "metadata": {},
   "outputs": [],
   "source": [
    "parquet_df = hparque.from_parquet(config[\"file_name\"], columns=columns)"
   ]
  },
  {
   "cell_type": "code",
   "execution_count": null,
   "id": "f44631d5",
   "metadata": {},
   "outputs": [],
   "source": [
    "df = dtfmod.process_parquet_read_df(parquet_df, config[\"asset_id_col\"])"
   ]
  },
  {
   "cell_type": "code",
   "execution_count": null,
   "id": "ea28c639",
   "metadata": {},
   "outputs": [],
   "source": [
    "_LOG.info(\"num_assets=%d\", len(df.columns.levels[1]))"
   ]
  },
  {
   "cell_type": "markdown",
   "id": "2a2369a7",
   "metadata": {},
   "source": [
    "# Computer per-bar portfolio stats"
   ]
  },
  {
   "cell_type": "code",
   "execution_count": null,
   "id": "077c72ce",
   "metadata": {},
   "outputs": [],
   "source": [
    "forecast_evaluator = dtfmod.ForecastEvaluator(\n",
    "    returns_col=config[\"returns_col\"],\n",
    "    volatility_col=config[\"volatility_col\"],\n",
    "    prediction_col=config[\"prediction_col\"],\n",
    ")"
   ]
  },
  {
   "cell_type": "code",
   "execution_count": null,
   "id": "c1adeb64",
   "metadata": {},
   "outputs": [],
   "source": [
    "portfolio_df, bar_stats_df = forecast_evaluator.annotate_forecasts(\n",
    "    df,\n",
    "    target_gmv=config[\"target_gmv\"],\n",
    "    dollar_neutrality=config[\"dollar_neutrality\"],\n",
    ")"
   ]
  },
  {
   "cell_type": "markdown",
   "id": "6a265918",
   "metadata": {},
   "source": [
    "# Computer aggregate portfolio stats"
   ]
  },
  {
   "cell_type": "code",
   "execution_count": null,
   "id": "e0b5aeab",
   "metadata": {},
   "outputs": [],
   "source": [
    "stats_computer = dtfmod.StatsComputer()"
   ]
  },
  {
   "cell_type": "code",
   "execution_count": null,
   "id": "65041403",
   "metadata": {},
   "outputs": [],
   "source": [
    "stats, stats_df = stats_computer.compute_portfolio_stats(\n",
    "    bar_stats_df, config[\"freq\"]\n",
    ")\n",
    "display(stats)"
   ]
  },
  {
   "cell_type": "markdown",
   "id": "3028edea",
   "metadata": {},
   "source": [
    "# Plot portfolio metrics"
   ]
  },
  {
   "cell_type": "code",
   "execution_count": null,
   "id": "7d7d9cc0",
   "metadata": {},
   "outputs": [],
   "source": [
    "coplotti.plot_portfolio_stats(bar_stats_df)"
   ]
  }
 ],
 "metadata": {
  "jupytext": {
   "text_representation": {
    "extension": ".py",
    "format_name": "percent",
    "format_version": "1.3",
    "jupytext_version": "1.13.3"
   }
  },
  "kernelspec": {
   "display_name": "Python 3 (ipykernel)",
   "language": "python",
   "name": "python3"
  },
  "language_info": {
   "codemirror_mode": {
    "name": "ipython",
    "version": 3
   },
   "file_extension": ".py",
   "mimetype": "text/x-python",
   "name": "python",
   "nbconvert_exporter": "python",
   "pygments_lexer": "ipython3",
   "version": "3.8.10"
  },
  "toc": {
   "base_numbering": 1,
   "nav_menu": {},
   "number_sections": true,
   "sideBar": true,
   "skip_h1_title": false,
   "title_cell": "Table of Contents",
   "title_sidebar": "Contents",
   "toc_cell": false,
   "toc_position": {},
   "toc_section_display": true,
   "toc_window_display": false
  }
 },
 "nbformat": 4,
 "nbformat_minor": 5
}
