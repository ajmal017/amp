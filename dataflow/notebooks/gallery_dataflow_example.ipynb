{
 "cells": [
  {
   "cell_type": "markdown",
   "id": "24dcaf9a",
   "metadata": {},
   "source": [
    "# Description"
   ]
  },
  {
   "cell_type": "markdown",
   "id": "23fc57ef",
   "metadata": {},
   "source": [
    "The goal of this notebook is to demonstrate the various approaches of working with `dataflow`."
   ]
  },
  {
   "cell_type": "markdown",
   "id": "58d76abe",
   "metadata": {},
   "source": [
    "# Imports"
   ]
  },
  {
   "cell_type": "code",
   "execution_count": 1,
   "id": "90d2298b",
   "metadata": {
    "ExecuteTime": {
     "end_time": "2022-04-22T16:13:07.167567Z",
     "start_time": "2022-04-22T16:13:02.849652Z"
    }
   },
   "outputs": [
    {
     "name": "stderr",
     "output_type": "stream",
     "text": [
      "/app/dataflow/core/dag.py:15: TqdmExperimentalWarning: Using `tqdm.autonotebook.tqdm` in notebook mode. Use `tqdm.tqdm` instead to force console mode (e.g. in jupyter console)\n",
      "  from tqdm.autonotebook import tqdm\n"
     ]
    }
   ],
   "source": [
    "import logging\n",
    "import os\n",
    "\n",
    "import pandas as pd\n",
    "\n",
    "import core.config.config_ as cconconf\n",
    "import core.finance as cofinanc\n",
    "import core.finance.resampling as cfinresa\n",
    "import core.finance.returns as cfinretu\n",
    "import dataflow.core as dtfcore\n",
    "import dataflow.system.source_nodes as dtfsysonod\n",
    "import helpers.hdbg as hdbg\n",
    "import helpers.hprint as hprint\n",
    "import im_v2.ccxt.data.client as icdcl"
   ]
  },
  {
   "cell_type": "code",
   "execution_count": 2,
   "id": "feb220a4",
   "metadata": {
    "ExecuteTime": {
     "end_time": "2022-04-22T16:13:07.191663Z",
     "start_time": "2022-04-22T16:13:07.171243Z"
    },
    "scrolled": true
   },
   "outputs": [
    {
     "name": "stdout",
     "output_type": "stream",
     "text": [
      "\u001b[0m\u001b[36mINFO\u001b[0m: > cmd='/venv/lib/python3.8/site-packages/ipykernel_launcher.py -f /home/.local/share/jupyter/runtime/kernel-c5273168-8c30-4397-a861-2edc975561de.json'\n",
      "WARNING: Running in Jupyter\n",
      "\u001b[33mWARNING\u001b[0m: Disabling annoying warnings\n"
     ]
    }
   ],
   "source": [
    "hdbg.init_logger(verbosity=logging.INFO)\n",
    "\n",
    "_LOG = logging.getLogger(__name__)\n",
    "\n",
    "hprint.config_notebook()"
   ]
  },
  {
   "cell_type": "markdown",
   "id": "eea446ce",
   "metadata": {},
   "source": [
    "# Config"
   ]
  },
  {
   "cell_type": "code",
   "execution_count": 3,
   "id": "3f0680e4",
   "metadata": {
    "ExecuteTime": {
     "end_time": "2022-04-22T16:13:07.200042Z",
     "start_time": "2022-04-22T16:13:07.193503Z"
    }
   },
   "outputs": [],
   "source": [
    "def get_gallery_dataflow_example_config() -> cconconf.Config:\n",
    "    \"\"\"\n",
    "    Get config, that specifies params for getting raw data.\n",
    "    \"\"\"\n",
    "    config = cconconf.Config()\n",
    "    # Load parameters.\n",
    "    config.add_subconfig(\"load\")\n",
    "    config[\"load\"][\"aws_profile\"] = \"ck\"\n",
    "    config[\"load\"][\"data_dir\"] = os.path.join(\n",
    "        \"s3://cryptokaizen-data\", \"historical\"\n",
    "    )\n",
    "    config[\"load\"][\"data_snapshot\"] = \"latest\"\n",
    "    config[\"load\"][\"partition_mode\"] = \"by_year_month\"\n",
    "    # Data parameters.\n",
    "    config.add_subconfig(\"data\")\n",
    "    config[\"data\"][\"start_date\"] = pd.Timestamp(\"2021-09-01\", tz=\"UTC\")\n",
    "    config[\"data\"][\"end_date\"] = pd.Timestamp(\"2021-09-15\", tz=\"UTC\")\n",
    "    config[\"data\"][\"resampling_rule\"] = \"5T\"\n",
    "    return config"
   ]
  },
  {
   "cell_type": "code",
   "execution_count": 4,
   "id": "58dae195",
   "metadata": {
    "ExecuteTime": {
     "end_time": "2022-04-22T16:13:07.208747Z",
     "start_time": "2022-04-22T16:13:07.203345Z"
    }
   },
   "outputs": [
    {
     "name": "stdout",
     "output_type": "stream",
     "text": [
      "load:\n",
      "  aws_profile: ck\n",
      "  data_dir: s3://cryptokaizen-data/historical\n",
      "  data_snapshot: latest\n",
      "  partition_mode: by_year_month\n",
      "data:\n",
      "  start_date: 2021-09-01 00:00:00+00:00\n",
      "  end_date: 2021-09-15 00:00:00+00:00\n",
      "  resampling_rule: 5T\n"
     ]
    }
   ],
   "source": [
    "config = get_gallery_dataflow_example_config()\n",
    "print(config)"
   ]
  },
  {
   "cell_type": "markdown",
   "id": "9b068ea0",
   "metadata": {},
   "source": [
    "# Load historical data"
   ]
  },
  {
   "cell_type": "code",
   "execution_count": 5,
   "id": "0ce8e4bf",
   "metadata": {
    "ExecuteTime": {
     "end_time": "2022-04-22T16:13:07.361351Z",
     "start_time": "2022-04-22T16:13:07.210716Z"
    }
   },
   "outputs": [],
   "source": [
    "# Specify params.\n",
    "resample_1min = True\n",
    "root_dir = config[\"load\"][\"data_dir\"]\n",
    "partition_mode = config[\"load\"][\"partition_mode\"]\n",
    "data_snapshot = config[\"load\"][\"data_snapshot\"]\n",
    "aws_profile = config[\"load\"][\"aws_profile\"]\n",
    "\n",
    "# Initiate the client.\n",
    "historical_client = icdcl.CcxtHistoricalPqByTileClient(\n",
    "    resample_1min,\n",
    "    root_dir,\n",
    "    partition_mode,\n",
    "    data_snapshot=data_snapshot,\n",
    "    aws_profile=aws_profile,\n",
    ")"
   ]
  },
  {
   "cell_type": "markdown",
   "id": "4b0589b9",
   "metadata": {},
   "source": [
    "### Data Loader"
   ]
  },
  {
   "cell_type": "code",
   "execution_count": 6,
   "id": "61fcaa63",
   "metadata": {
    "ExecuteTime": {
     "end_time": "2022-04-22T16:13:09.996245Z",
     "start_time": "2022-04-22T16:13:07.364147Z"
    },
    "scrolled": true
   },
   "outputs": [
    {
     "data": {
      "text/plain": [
       "(40322, 6)"
      ]
     },
     "metadata": {},
     "output_type": "display_data"
    },
    {
     "data": {
      "text/html": [
       "<div>\n",
       "<style scoped>\n",
       "    .dataframe tbody tr th:only-of-type {\n",
       "        vertical-align: middle;\n",
       "    }\n",
       "\n",
       "    .dataframe tbody tr th {\n",
       "        vertical-align: top;\n",
       "    }\n",
       "\n",
       "    .dataframe thead th {\n",
       "        text-align: right;\n",
       "    }\n",
       "</style>\n",
       "<table border=\"1\" class=\"dataframe\">\n",
       "  <thead>\n",
       "    <tr style=\"text-align: right;\">\n",
       "      <th></th>\n",
       "      <th>full_symbol</th>\n",
       "      <th>open</th>\n",
       "      <th>high</th>\n",
       "      <th>low</th>\n",
       "      <th>close</th>\n",
       "      <th>volume</th>\n",
       "    </tr>\n",
       "    <tr>\n",
       "      <th>timestamp</th>\n",
       "      <th></th>\n",
       "      <th></th>\n",
       "      <th></th>\n",
       "      <th></th>\n",
       "      <th></th>\n",
       "      <th></th>\n",
       "    </tr>\n",
       "  </thead>\n",
       "  <tbody>\n",
       "    <tr>\n",
       "      <th>2021-09-01 00:00:00+00:00</th>\n",
       "      <td>binance::ADA_USDT</td>\n",
       "      <td>2.768</td>\n",
       "      <td>2.770</td>\n",
       "      <td>2.762</td>\n",
       "      <td>2.762</td>\n",
       "      <td>307378.20</td>\n",
       "    </tr>\n",
       "    <tr>\n",
       "      <th>2021-09-01 00:00:00+00:00</th>\n",
       "      <td>binance::AVAX_USDT</td>\n",
       "      <td>39.510</td>\n",
       "      <td>39.540</td>\n",
       "      <td>39.300</td>\n",
       "      <td>39.320</td>\n",
       "      <td>2483.93</td>\n",
       "    </tr>\n",
       "    <tr>\n",
       "      <th>2021-09-01 00:01:00+00:00</th>\n",
       "      <td>binance::ADA_USDT</td>\n",
       "      <td>2.763</td>\n",
       "      <td>2.765</td>\n",
       "      <td>2.761</td>\n",
       "      <td>2.764</td>\n",
       "      <td>74199.30</td>\n",
       "    </tr>\n",
       "  </tbody>\n",
       "</table>\n",
       "</div>"
      ],
      "text/plain": [
       "                                  full_symbol    open    high     low   close     volume\n",
       "timestamp                                                                               \n",
       "2021-09-01 00:00:00+00:00   binance::ADA_USDT   2.768   2.770   2.762   2.762  307378.20\n",
       "2021-09-01 00:00:00+00:00  binance::AVAX_USDT  39.510  39.540  39.300  39.320    2483.93\n",
       "2021-09-01 00:01:00+00:00   binance::ADA_USDT   2.763   2.765   2.761   2.764   74199.30"
      ]
     },
     "metadata": {},
     "output_type": "display_data"
    }
   ],
   "source": [
    "# Specify time period.\n",
    "full_symbols = [\"binance::ADA_USDT\", \"binance::AVAX_USDT\"]\n",
    "start_date = config[\"data\"][\"start_date\"]\n",
    "end_date = config[\"data\"][\"end_date\"]\n",
    "\n",
    "# Load the data.\n",
    "data_hist = historical_client.read_data(full_symbols, start_date, end_date)\n",
    "display(data_hist.shape)\n",
    "display(data_hist.head(3))"
   ]
  },
  {
   "cell_type": "markdown",
   "id": "dc0421ec",
   "metadata": {},
   "source": [
    "# Task description"
   ]
  },
  {
   "cell_type": "markdown",
   "id": "7055703f",
   "metadata": {},
   "source": [
    "The goal of this exercise is to implement the following transformations to the historical data:\n",
    "- resampling\n",
    "- VWAP, TWAP computation\n",
    "- Calculation of returns\n",
    "\n",
    "While using the different approaches to working with `dataflow` methods.\n",
    "The main feature that these methods are trying to overcome is the fact that when the raw data consists of two and more `full_symbols`, then one needs to be careful to apply transformations that needs to be implemented specifically to each `full_symbol`.\n",
    "\n",
    "These three approaches are:\n",
    "- 1) Use the \"low level\" functions and do loops\n",
    "- 2) Use pandas Multi-index\n",
    "- 3) Use Dataflow nodes\n",
    "\n",
    "The general rule is to use the third and second approach when possible, while keeping the first approach as a bacjup."
   ]
  },
  {
   "cell_type": "code",
   "execution_count": 7,
   "id": "c9284620",
   "metadata": {
    "ExecuteTime": {
     "end_time": "2022-04-22T16:13:10.001285Z",
     "start_time": "2022-04-22T16:13:09.998190Z"
    }
   },
   "outputs": [],
   "source": [
    "# The resampling frequency is the same for all approaches.\n",
    "resampling_freq = config[\"data\"][\"resampling_rule\"]"
   ]
  },
  {
   "cell_type": "markdown",
   "id": "befc9fcb",
   "metadata": {},
   "source": [
    "# Approach 1 - Use the \"low level\" functions and do loops"
   ]
  },
  {
   "cell_type": "markdown",
   "id": "2a67e71c",
   "metadata": {},
   "source": [
    "This approach does both resampling and computation of metrics and applied them individually to each `full_symbol` using the loop."
   ]
  },
  {
   "cell_type": "code",
   "execution_count": 8,
   "id": "37c0dea2",
   "metadata": {
    "ExecuteTime": {
     "end_time": "2022-04-22T16:13:10.011219Z",
     "start_time": "2022-04-22T16:13:10.003292Z"
    }
   },
   "outputs": [],
   "source": [
    "def resample_calculate_twap_vwap_and_returns(df, resampling_freq):\n",
    "    result = []\n",
    "    full_symbol_list = df[\"full_symbol\"].unique()\n",
    "    for cc in full_symbol_list:\n",
    "        # DataFrame with a specific `full_symbol`\n",
    "        cc_df = df[df[\"full_symbol\"] == cc]\n",
    "        # Resample OHLCV data inside `full_symbol`-specific DataFrame.\n",
    "        resampled_cc_df = cfinresa.resample_ohlcv_bars(\n",
    "            cc_df, rule=resampling_freq\n",
    "        )\n",
    "        # Attach VWAP, TWAP.\n",
    "        resampled_cc_df[[\"vwap\", \"twap\"]] = cfinresa.compute_twap_vwap(\n",
    "            cc_df, resampling_freq, price_col=\"close\", volume_col=\"volume\"\n",
    "        )\n",
    "        # Calculate returns.\n",
    "        resampled_cc_df[\"vwap_rets\"] = cfinretu.compute_ret_0(\n",
    "            resampled_cc_df[[\"vwap\"]], \"pct_change\"\n",
    "        )\n",
    "        resampled_cc_df[\"twap_rets\"] = cfinretu.compute_ret_0(\n",
    "            resampled_cc_df[[\"twap\"]], \"pct_change\"\n",
    "        )\n",
    "        resampled_cc_df[\"log_rets\"] = cfinretu.compute_ret_0(\n",
    "            resampled_cc_df[[\"close\"]], \"log_rets\"\n",
    "        )\n",
    "        # Add a column with `full_symbol` indication.\n",
    "        resampled_cc_df[\"full_symbol\"] = cc\n",
    "        # Omit unnecesary columns.\n",
    "        resampled_cc_df = resampled_cc_df.drop(columns=[\"open\", \"high\", \"low\"])\n",
    "        result.append(resampled_cc_df)\n",
    "    final_df = pd.concat(result)\n",
    "    return final_df"
   ]
  },
  {
   "cell_type": "code",
   "execution_count": 9,
   "id": "2984c417",
   "metadata": {
    "ExecuteTime": {
     "end_time": "2022-04-22T16:13:10.608558Z",
     "start_time": "2022-04-22T16:13:10.012963Z"
    },
    "run_control": {
     "marked": false
    }
   },
   "outputs": [
    {
     "name": "stderr",
     "output_type": "stream",
     "text": [
      "/app/core/finance/resampling.py:55: SettingWithCopyWarning: \n",
      "A value is trying to be set on a copy of a slice from a DataFrame\n",
      "\n",
      "See the caveats in the documentation: https://pandas.pydata.org/pandas-docs/stable/user_guide/indexing.html#returning-a-view-versus-a-copy\n",
      "  price.loc[nan_idx] = np.nan\n",
      "/app/core/finance/resampling.py:57: SettingWithCopyWarning: \n",
      "A value is trying to be set on a copy of a slice from a DataFrame\n",
      "\n",
      "See the caveats in the documentation: https://pandas.pydata.org/pandas-docs/stable/user_guide/indexing.html#returning-a-view-versus-a-copy\n",
      "  volume.loc[nan_idx] = np.nan\n",
      "/app/core/finance/resampling.py:55: SettingWithCopyWarning: \n",
      "A value is trying to be set on a copy of a slice from a DataFrame\n",
      "\n",
      "See the caveats in the documentation: https://pandas.pydata.org/pandas-docs/stable/user_guide/indexing.html#returning-a-view-versus-a-copy\n",
      "  price.loc[nan_idx] = np.nan\n",
      "/app/core/finance/resampling.py:57: SettingWithCopyWarning: \n",
      "A value is trying to be set on a copy of a slice from a DataFrame\n",
      "\n",
      "See the caveats in the documentation: https://pandas.pydata.org/pandas-docs/stable/user_guide/indexing.html#returning-a-view-versus-a-copy\n",
      "  volume.loc[nan_idx] = np.nan\n"
     ]
    },
    {
     "data": {
      "text/html": [
       "<div>\n",
       "<style scoped>\n",
       "    .dataframe tbody tr th:only-of-type {\n",
       "        vertical-align: middle;\n",
       "    }\n",
       "\n",
       "    .dataframe tbody tr th {\n",
       "        vertical-align: top;\n",
       "    }\n",
       "\n",
       "    .dataframe thead th {\n",
       "        text-align: right;\n",
       "    }\n",
       "</style>\n",
       "<table border=\"1\" class=\"dataframe\">\n",
       "  <thead>\n",
       "    <tr style=\"text-align: right;\">\n",
       "      <th></th>\n",
       "      <th>close</th>\n",
       "      <th>volume</th>\n",
       "      <th>vwap</th>\n",
       "      <th>twap</th>\n",
       "      <th>vwap_rets</th>\n",
       "      <th>twap_rets</th>\n",
       "      <th>log_rets</th>\n",
       "      <th>full_symbol</th>\n",
       "    </tr>\n",
       "    <tr>\n",
       "      <th>timestamp</th>\n",
       "      <th></th>\n",
       "      <th></th>\n",
       "      <th></th>\n",
       "      <th></th>\n",
       "      <th></th>\n",
       "      <th></th>\n",
       "      <th></th>\n",
       "      <th></th>\n",
       "    </tr>\n",
       "  </thead>\n",
       "  <tbody>\n",
       "    <tr>\n",
       "      <th>2021-09-01 00:00:00+00:00</th>\n",
       "      <td>2.762</td>\n",
       "      <td>307378.2</td>\n",
       "      <td>2.762000</td>\n",
       "      <td>2.7620</td>\n",
       "      <td>NaN</td>\n",
       "      <td>NaN</td>\n",
       "      <td>NaN</td>\n",
       "      <td>binance::ADA_USDT</td>\n",
       "    </tr>\n",
       "    <tr>\n",
       "      <th>2021-09-01 00:05:00+00:00</th>\n",
       "      <td>2.776</td>\n",
       "      <td>971520.4</td>\n",
       "      <td>2.761713</td>\n",
       "      <td>2.7624</td>\n",
       "      <td>-0.000104</td>\n",
       "      <td>0.000145</td>\n",
       "      <td>0.005056</td>\n",
       "      <td>binance::ADA_USDT</td>\n",
       "    </tr>\n",
       "    <tr>\n",
       "      <th>2021-09-01 00:10:00+00:00</th>\n",
       "      <td>2.764</td>\n",
       "      <td>1057998.3</td>\n",
       "      <td>2.769847</td>\n",
       "      <td>2.7694</td>\n",
       "      <td>0.002945</td>\n",
       "      <td>0.002534</td>\n",
       "      <td>-0.004332</td>\n",
       "      <td>binance::ADA_USDT</td>\n",
       "    </tr>\n",
       "  </tbody>\n",
       "</table>\n",
       "</div>"
      ],
      "text/plain": [
       "                           close     volume      vwap    twap  vwap_rets  twap_rets  log_rets        full_symbol\n",
       "timestamp                                                                                                       \n",
       "2021-09-01 00:00:00+00:00  2.762   307378.2  2.762000  2.7620        NaN        NaN       NaN  binance::ADA_USDT\n",
       "2021-09-01 00:05:00+00:00  2.776   971520.4  2.761713  2.7624  -0.000104   0.000145  0.005056  binance::ADA_USDT\n",
       "2021-09-01 00:10:00+00:00  2.764  1057998.3  2.769847  2.7694   0.002945   0.002534 -0.004332  binance::ADA_USDT"
      ]
     },
     "execution_count": 9,
     "metadata": {},
     "output_type": "execute_result"
    }
   ],
   "source": [
    "df_approach_1 = resample_calculate_twap_vwap_and_returns(data_hist, resampling_freq)\n",
    "df_approach_1.head(3)"
   ]
  },
  {
   "cell_type": "markdown",
   "id": "bed0be17",
   "metadata": {},
   "source": [
    "# Approach 2 - Use pandas Multi-index"
   ]
  },
  {
   "cell_type": "code",
   "execution_count": 10,
   "id": "57fedc2a",
   "metadata": {
    "ExecuteTime": {
     "end_time": "2022-04-22T16:13:10.662629Z",
     "start_time": "2022-04-22T16:13:10.612230Z"
    },
    "run_control": {
     "marked": false
    }
   },
   "outputs": [
    {
     "data": {
      "text/html": [
       "<div>\n",
       "<style scoped>\n",
       "    .dataframe tbody tr th:only-of-type {\n",
       "        vertical-align: middle;\n",
       "    }\n",
       "\n",
       "    .dataframe tbody tr th {\n",
       "        vertical-align: top;\n",
       "    }\n",
       "\n",
       "    .dataframe thead tr th {\n",
       "        text-align: left;\n",
       "    }\n",
       "\n",
       "    .dataframe thead tr:last-of-type th {\n",
       "        text-align: right;\n",
       "    }\n",
       "</style>\n",
       "<table border=\"1\" class=\"dataframe\">\n",
       "  <thead>\n",
       "    <tr>\n",
       "      <th></th>\n",
       "      <th colspan=\"2\" halign=\"left\">close</th>\n",
       "      <th colspan=\"2\" halign=\"left\">high</th>\n",
       "      <th colspan=\"2\" halign=\"left\">low</th>\n",
       "      <th colspan=\"2\" halign=\"left\">open</th>\n",
       "      <th colspan=\"2\" halign=\"left\">volume</th>\n",
       "    </tr>\n",
       "    <tr>\n",
       "      <th></th>\n",
       "      <th>binance::ADA_USDT</th>\n",
       "      <th>binance::AVAX_USDT</th>\n",
       "      <th>binance::ADA_USDT</th>\n",
       "      <th>binance::AVAX_USDT</th>\n",
       "      <th>binance::ADA_USDT</th>\n",
       "      <th>binance::AVAX_USDT</th>\n",
       "      <th>binance::ADA_USDT</th>\n",
       "      <th>binance::AVAX_USDT</th>\n",
       "      <th>binance::ADA_USDT</th>\n",
       "      <th>binance::AVAX_USDT</th>\n",
       "    </tr>\n",
       "    <tr>\n",
       "      <th>timestamp</th>\n",
       "      <th></th>\n",
       "      <th></th>\n",
       "      <th></th>\n",
       "      <th></th>\n",
       "      <th></th>\n",
       "      <th></th>\n",
       "      <th></th>\n",
       "      <th></th>\n",
       "      <th></th>\n",
       "      <th></th>\n",
       "    </tr>\n",
       "  </thead>\n",
       "  <tbody>\n",
       "    <tr>\n",
       "      <th>2021-09-01 00:00:00+00:00</th>\n",
       "      <td>2.762</td>\n",
       "      <td>39.32</td>\n",
       "      <td>2.770</td>\n",
       "      <td>39.54</td>\n",
       "      <td>2.762</td>\n",
       "      <td>39.30</td>\n",
       "      <td>2.768</td>\n",
       "      <td>39.51</td>\n",
       "      <td>307378.2</td>\n",
       "      <td>2483.93</td>\n",
       "    </tr>\n",
       "    <tr>\n",
       "      <th>2021-09-01 00:01:00+00:00</th>\n",
       "      <td>2.764</td>\n",
       "      <td>39.19</td>\n",
       "      <td>2.765</td>\n",
       "      <td>39.37</td>\n",
       "      <td>2.761</td>\n",
       "      <td>39.15</td>\n",
       "      <td>2.763</td>\n",
       "      <td>39.31</td>\n",
       "      <td>74199.3</td>\n",
       "      <td>4215.74</td>\n",
       "    </tr>\n",
       "    <tr>\n",
       "      <th>2021-09-01 00:02:00+00:00</th>\n",
       "      <td>2.757</td>\n",
       "      <td>39.13</td>\n",
       "      <td>2.764</td>\n",
       "      <td>39.26</td>\n",
       "      <td>2.756</td>\n",
       "      <td>39.00</td>\n",
       "      <td>2.764</td>\n",
       "      <td>39.19</td>\n",
       "      <td>199012.1</td>\n",
       "      <td>6472.69</td>\n",
       "    </tr>\n",
       "  </tbody>\n",
       "</table>\n",
       "</div>"
      ],
      "text/plain": [
       "                                      close                                 high                                  low                                 open                               volume                   \n",
       "                          binance::ADA_USDT binance::AVAX_USDT binance::ADA_USDT binance::AVAX_USDT binance::ADA_USDT binance::AVAX_USDT binance::ADA_USDT binance::AVAX_USDT binance::ADA_USDT binance::AVAX_USDT\n",
       "timestamp                                                                                                                                                                                                         \n",
       "2021-09-01 00:00:00+00:00             2.762              39.32             2.770              39.54             2.762              39.30             2.768              39.51          307378.2            2483.93\n",
       "2021-09-01 00:01:00+00:00             2.764              39.19             2.765              39.37             2.761              39.15             2.763              39.31           74199.3            4215.74\n",
       "2021-09-01 00:02:00+00:00             2.757              39.13             2.764              39.26             2.756              39.00             2.764              39.19          199012.1            6472.69"
      ]
     },
     "execution_count": 10,
     "metadata": {},
     "output_type": "execute_result"
    }
   ],
   "source": [
    "# Convert historical data to multiindex format.\n",
    "converted_data = dtfsysonod._convert_to_multiindex(data_hist, \"full_symbol\")\n",
    "converted_data.head(3)"
   ]
  },
  {
   "cell_type": "code",
   "execution_count": 11,
   "id": "7b68480d",
   "metadata": {
    "ExecuteTime": {
     "end_time": "2022-04-22T16:13:10.685018Z",
     "start_time": "2022-04-22T16:13:10.666592Z"
    }
   },
   "outputs": [
    {
     "data": {
      "text/html": [
       "<div>\n",
       "<style scoped>\n",
       "    .dataframe tbody tr th:only-of-type {\n",
       "        vertical-align: middle;\n",
       "    }\n",
       "\n",
       "    .dataframe tbody tr th {\n",
       "        vertical-align: top;\n",
       "    }\n",
       "\n",
       "    .dataframe thead th {\n",
       "        text-align: right;\n",
       "    }\n",
       "</style>\n",
       "<table border=\"1\" class=\"dataframe\">\n",
       "  <thead>\n",
       "    <tr style=\"text-align: right;\">\n",
       "      <th></th>\n",
       "      <th>binance::ADA_USDT</th>\n",
       "      <th>binance::AVAX_USDT</th>\n",
       "    </tr>\n",
       "    <tr>\n",
       "      <th>timestamp</th>\n",
       "      <th></th>\n",
       "      <th></th>\n",
       "    </tr>\n",
       "  </thead>\n",
       "  <tbody>\n",
       "    <tr>\n",
       "      <th>2021-09-01 00:00:00+00:00</th>\n",
       "      <td>0.551679</td>\n",
       "      <td>7.840504</td>\n",
       "    </tr>\n",
       "    <tr>\n",
       "      <th>2021-09-01 00:05:00+00:00</th>\n",
       "      <td>0.554445</td>\n",
       "      <td>7.964266</td>\n",
       "    </tr>\n",
       "    <tr>\n",
       "      <th>2021-09-01 00:10:00+00:00</th>\n",
       "      <td>0.551208</td>\n",
       "      <td>7.946542</td>\n",
       "    </tr>\n",
       "  </tbody>\n",
       "</table>\n",
       "</div>"
      ],
      "text/plain": [
       "                           binance::ADA_USDT  binance::AVAX_USDT\n",
       "timestamp                                                       \n",
       "2021-09-01 00:00:00+00:00           0.551679            7.840504\n",
       "2021-09-01 00:05:00+00:00           0.554445            7.964266\n",
       "2021-09-01 00:10:00+00:00           0.551208            7.946542"
      ]
     },
     "execution_count": 11,
     "metadata": {},
     "output_type": "execute_result"
    }
   ],
   "source": [
    "# Resampling VWAP (besides potential errors). This implies hardcoded formula in a mix with resampling functions.\n",
    "vwap_approach_2 = (converted_data[\"close\"] * converted_data[\"volume\"]).resample(\n",
    "    resampling_freq\n",
    ").mean() / converted_data[\"volume\"].resample(resampling_freq).sum()\n",
    "vwap_approach_2.head(3)"
   ]
  },
  {
   "cell_type": "code",
   "execution_count": 12,
   "id": "0f788a62",
   "metadata": {
    "ExecuteTime": {
     "end_time": "2022-04-22T16:13:10.713150Z",
     "start_time": "2022-04-22T16:13:10.688606Z"
    }
   },
   "outputs": [
    {
     "data": {
      "text/html": [
       "<div>\n",
       "<style scoped>\n",
       "    .dataframe tbody tr th:only-of-type {\n",
       "        vertical-align: middle;\n",
       "    }\n",
       "\n",
       "    .dataframe tbody tr th {\n",
       "        vertical-align: top;\n",
       "    }\n",
       "\n",
       "    .dataframe thead tr th {\n",
       "        text-align: left;\n",
       "    }\n",
       "\n",
       "    .dataframe thead tr:last-of-type th {\n",
       "        text-align: right;\n",
       "    }\n",
       "</style>\n",
       "<table border=\"1\" class=\"dataframe\">\n",
       "  <thead>\n",
       "    <tr>\n",
       "      <th></th>\n",
       "      <th>binance::ADA_USDT</th>\n",
       "      <th>binance::AVAX_USDT</th>\n",
       "      <th>binance::ADA_USDT</th>\n",
       "      <th>binance::AVAX_USDT</th>\n",
       "      <th>binance::ADA_USDT</th>\n",
       "      <th>binance::AVAX_USDT</th>\n",
       "      <th>binance::ADA_USDT</th>\n",
       "      <th>binance::AVAX_USDT</th>\n",
       "      <th>binance::ADA_USDT</th>\n",
       "      <th>binance::AVAX_USDT</th>\n",
       "    </tr>\n",
       "    <tr>\n",
       "      <th></th>\n",
       "      <th>close</th>\n",
       "      <th>close</th>\n",
       "      <th>high</th>\n",
       "      <th>high</th>\n",
       "      <th>low</th>\n",
       "      <th>low</th>\n",
       "      <th>open</th>\n",
       "      <th>open</th>\n",
       "      <th>volume</th>\n",
       "      <th>volume</th>\n",
       "    </tr>\n",
       "    <tr>\n",
       "      <th>timestamp</th>\n",
       "      <th></th>\n",
       "      <th></th>\n",
       "      <th></th>\n",
       "      <th></th>\n",
       "      <th></th>\n",
       "      <th></th>\n",
       "      <th></th>\n",
       "      <th></th>\n",
       "      <th></th>\n",
       "      <th></th>\n",
       "    </tr>\n",
       "  </thead>\n",
       "  <tbody>\n",
       "    <tr>\n",
       "      <th>2021-09-01 00:00:00+00:00</th>\n",
       "      <td>NaN</td>\n",
       "      <td>NaN</td>\n",
       "      <td>NaN</td>\n",
       "      <td>NaN</td>\n",
       "      <td>NaN</td>\n",
       "      <td>NaN</td>\n",
       "      <td>NaN</td>\n",
       "      <td>NaN</td>\n",
       "      <td>NaN</td>\n",
       "      <td>NaN</td>\n",
       "    </tr>\n",
       "    <tr>\n",
       "      <th>2021-09-01 00:01:00+00:00</th>\n",
       "      <td>0.000724</td>\n",
       "      <td>-0.003306</td>\n",
       "      <td>-0.001805</td>\n",
       "      <td>-0.004299</td>\n",
       "      <td>-0.000362</td>\n",
       "      <td>-0.003817</td>\n",
       "      <td>-0.001806</td>\n",
       "      <td>-0.005062</td>\n",
       "      <td>-0.758606</td>\n",
       "      <td>0.697206</td>\n",
       "    </tr>\n",
       "    <tr>\n",
       "      <th>2021-09-01 00:02:00+00:00</th>\n",
       "      <td>-0.002533</td>\n",
       "      <td>-0.001531</td>\n",
       "      <td>-0.000362</td>\n",
       "      <td>-0.002794</td>\n",
       "      <td>-0.001811</td>\n",
       "      <td>-0.003831</td>\n",
       "      <td>0.000362</td>\n",
       "      <td>-0.003053</td>\n",
       "      <td>1.682129</td>\n",
       "      <td>0.535363</td>\n",
       "    </tr>\n",
       "  </tbody>\n",
       "</table>\n",
       "</div>"
      ],
      "text/plain": [
       "                          binance::ADA_USDT binance::AVAX_USDT binance::ADA_USDT binance::AVAX_USDT binance::ADA_USDT binance::AVAX_USDT binance::ADA_USDT binance::AVAX_USDT binance::ADA_USDT binance::AVAX_USDT\n",
       "                                      close              close              high               high               low                low              open               open            volume             volume\n",
       "timestamp                                                                                                                                                                                                         \n",
       "2021-09-01 00:00:00+00:00               NaN                NaN               NaN                NaN               NaN                NaN               NaN                NaN               NaN                NaN\n",
       "2021-09-01 00:01:00+00:00          0.000724          -0.003306         -0.001805          -0.004299         -0.000362          -0.003817         -0.001806          -0.005062         -0.758606           0.697206\n",
       "2021-09-01 00:02:00+00:00         -0.002533          -0.001531         -0.000362          -0.002794         -0.001811          -0.003831          0.000362          -0.003053          1.682129           0.535363"
      ]
     },
     "execution_count": 12,
     "metadata": {},
     "output_type": "execute_result"
    }
   ],
   "source": [
    "# Compute the ret_0 on all assets. You don't need a loop! But the data needs to be in the \"right\" format\n",
    "# (the variable one wants to loop on needs to be the outermost in the levels, so one needs to do swaplevel).\n",
    "rets_approach_2 = converted_data.swaplevel(axis=1).pct_change()\n",
    "rets_approach_2.head(3)"
   ]
  },
  {
   "cell_type": "code",
   "execution_count": 13,
   "id": "62efdd58",
   "metadata": {
    "ExecuteTime": {
     "end_time": "2022-04-22T16:13:10.733453Z",
     "start_time": "2022-04-22T16:13:10.718385Z"
    },
    "run_control": {
     "marked": false
    }
   },
   "outputs": [
    {
     "data": {
      "text/html": [
       "<div>\n",
       "<style scoped>\n",
       "    .dataframe tbody tr th:only-of-type {\n",
       "        vertical-align: middle;\n",
       "    }\n",
       "\n",
       "    .dataframe tbody tr th {\n",
       "        vertical-align: top;\n",
       "    }\n",
       "\n",
       "    .dataframe thead th {\n",
       "        text-align: right;\n",
       "    }\n",
       "</style>\n",
       "<table border=\"1\" class=\"dataframe\">\n",
       "  <thead>\n",
       "    <tr style=\"text-align: right;\">\n",
       "      <th></th>\n",
       "      <th>binance::ADA_USDT_close</th>\n",
       "      <th>binance::AVAX_USDT_close</th>\n",
       "      <th>binance::ADA_USDT_high</th>\n",
       "      <th>binance::AVAX_USDT_high</th>\n",
       "      <th>binance::ADA_USDT_low</th>\n",
       "      <th>binance::AVAX_USDT_low</th>\n",
       "      <th>binance::ADA_USDT_open</th>\n",
       "      <th>binance::AVAX_USDT_open</th>\n",
       "      <th>binance::ADA_USDT_volume</th>\n",
       "      <th>binance::AVAX_USDT_volume</th>\n",
       "    </tr>\n",
       "    <tr>\n",
       "      <th>timestamp</th>\n",
       "      <th></th>\n",
       "      <th></th>\n",
       "      <th></th>\n",
       "      <th></th>\n",
       "      <th></th>\n",
       "      <th></th>\n",
       "      <th></th>\n",
       "      <th></th>\n",
       "      <th></th>\n",
       "      <th></th>\n",
       "    </tr>\n",
       "  </thead>\n",
       "  <tbody>\n",
       "    <tr>\n",
       "      <th>2021-09-01 00:00:00+00:00</th>\n",
       "      <td>NaN</td>\n",
       "      <td>NaN</td>\n",
       "      <td>NaN</td>\n",
       "      <td>NaN</td>\n",
       "      <td>NaN</td>\n",
       "      <td>NaN</td>\n",
       "      <td>NaN</td>\n",
       "      <td>NaN</td>\n",
       "      <td>NaN</td>\n",
       "      <td>NaN</td>\n",
       "    </tr>\n",
       "    <tr>\n",
       "      <th>2021-09-01 00:01:00+00:00</th>\n",
       "      <td>0.000724</td>\n",
       "      <td>-0.003306</td>\n",
       "      <td>-0.001805</td>\n",
       "      <td>-0.004299</td>\n",
       "      <td>-0.000362</td>\n",
       "      <td>-0.003817</td>\n",
       "      <td>-0.001806</td>\n",
       "      <td>-0.005062</td>\n",
       "      <td>-0.758606</td>\n",
       "      <td>0.697206</td>\n",
       "    </tr>\n",
       "    <tr>\n",
       "      <th>2021-09-01 00:02:00+00:00</th>\n",
       "      <td>-0.002533</td>\n",
       "      <td>-0.001531</td>\n",
       "      <td>-0.000362</td>\n",
       "      <td>-0.002794</td>\n",
       "      <td>-0.001811</td>\n",
       "      <td>-0.003831</td>\n",
       "      <td>0.000362</td>\n",
       "      <td>-0.003053</td>\n",
       "      <td>1.682129</td>\n",
       "      <td>0.535363</td>\n",
       "    </tr>\n",
       "  </tbody>\n",
       "</table>\n",
       "</div>"
      ],
      "text/plain": [
       "                           binance::ADA_USDT_close  binance::AVAX_USDT_close  binance::ADA_USDT_high  binance::AVAX_USDT_high  binance::ADA_USDT_low  binance::AVAX_USDT_low  binance::ADA_USDT_open  binance::AVAX_USDT_open  binance::ADA_USDT_volume  binance::AVAX_USDT_volume\n",
       "timestamp                                                                                                                                                                                                                                                                         \n",
       "2021-09-01 00:00:00+00:00                      NaN                       NaN                     NaN                      NaN                    NaN                     NaN                     NaN                      NaN                       NaN                        NaN\n",
       "2021-09-01 00:01:00+00:00                 0.000724                 -0.003306               -0.001805                -0.004299              -0.000362               -0.003817               -0.001806                -0.005062                 -0.758606                   0.697206\n",
       "2021-09-01 00:02:00+00:00                -0.002533                 -0.001531               -0.000362                -0.002794              -0.001811               -0.003831                0.000362                -0.003053                  1.682129                   0.535363"
      ]
     },
     "execution_count": 13,
     "metadata": {},
     "output_type": "execute_result"
    }
   ],
   "source": [
    "# To go back to a flat index representation.\n",
    "rets_approach_2.columns = [\"_\".join(col) for col in rets_approach_2.columns]\n",
    "rets_approach_2.head(3)"
   ]
  },
  {
   "cell_type": "markdown",
   "id": "46cc67cc",
   "metadata": {},
   "source": [
    "# Approach 3 - Use Dataflow nodes"
   ]
  },
  {
   "cell_type": "markdown",
   "id": "613b02be",
   "metadata": {},
   "source": [
    "One node does resampling and VWAP, TWAP calculations, the other does returns."
   ]
  },
  {
   "cell_type": "code",
   "execution_count": 14,
   "id": "8f7e200f",
   "metadata": {
    "ExecuteTime": {
     "end_time": "2022-04-22T16:13:10.845956Z",
     "start_time": "2022-04-22T16:13:10.735556Z"
    }
   },
   "outputs": [
    {
     "data": {
      "text/html": [
       "<div>\n",
       "<style scoped>\n",
       "    .dataframe tbody tr th:only-of-type {\n",
       "        vertical-align: middle;\n",
       "    }\n",
       "\n",
       "    .dataframe tbody tr th {\n",
       "        vertical-align: top;\n",
       "    }\n",
       "\n",
       "    .dataframe thead tr th {\n",
       "        text-align: left;\n",
       "    }\n",
       "\n",
       "    .dataframe thead tr:last-of-type th {\n",
       "        text-align: right;\n",
       "    }\n",
       "</style>\n",
       "<table border=\"1\" class=\"dataframe\">\n",
       "  <thead>\n",
       "    <tr>\n",
       "      <th></th>\n",
       "      <th colspan=\"2\" halign=\"left\">close</th>\n",
       "      <th colspan=\"2\" halign=\"left\">twap</th>\n",
       "      <th colspan=\"2\" halign=\"left\">volume</th>\n",
       "      <th colspan=\"2\" halign=\"left\">vwap</th>\n",
       "    </tr>\n",
       "    <tr>\n",
       "      <th></th>\n",
       "      <th>binance::ADA_USDT</th>\n",
       "      <th>binance::AVAX_USDT</th>\n",
       "      <th>binance::ADA_USDT</th>\n",
       "      <th>binance::AVAX_USDT</th>\n",
       "      <th>binance::ADA_USDT</th>\n",
       "      <th>binance::AVAX_USDT</th>\n",
       "      <th>binance::ADA_USDT</th>\n",
       "      <th>binance::AVAX_USDT</th>\n",
       "    </tr>\n",
       "    <tr>\n",
       "      <th>timestamp</th>\n",
       "      <th></th>\n",
       "      <th></th>\n",
       "      <th></th>\n",
       "      <th></th>\n",
       "      <th></th>\n",
       "      <th></th>\n",
       "      <th></th>\n",
       "      <th></th>\n",
       "    </tr>\n",
       "  </thead>\n",
       "  <tbody>\n",
       "    <tr>\n",
       "      <th>2021-09-01 00:00:00+00:00</th>\n",
       "      <td>2.762</td>\n",
       "      <td>39.32</td>\n",
       "      <td>2.7620</td>\n",
       "      <td>39.320</td>\n",
       "      <td>307378.2</td>\n",
       "      <td>2483.93</td>\n",
       "      <td>2.762000</td>\n",
       "      <td>39.320000</td>\n",
       "    </tr>\n",
       "    <tr>\n",
       "      <th>2021-09-01 00:05:00+00:00</th>\n",
       "      <td>2.776</td>\n",
       "      <td>39.77</td>\n",
       "      <td>2.7624</td>\n",
       "      <td>39.322</td>\n",
       "      <td>971520.4</td>\n",
       "      <td>35482.15</td>\n",
       "      <td>2.761713</td>\n",
       "      <td>39.396582</td>\n",
       "    </tr>\n",
       "    <tr>\n",
       "      <th>2021-09-01 00:10:00+00:00</th>\n",
       "      <td>2.764</td>\n",
       "      <td>39.87</td>\n",
       "      <td>2.7694</td>\n",
       "      <td>39.830</td>\n",
       "      <td>1057998.3</td>\n",
       "      <td>30734.79</td>\n",
       "      <td>2.769847</td>\n",
       "      <td>39.847694</td>\n",
       "    </tr>\n",
       "  </tbody>\n",
       "</table>\n",
       "</div>"
      ],
      "text/plain": [
       "                                      close                                 twap                               volume                                 vwap                   \n",
       "                          binance::ADA_USDT binance::AVAX_USDT binance::ADA_USDT binance::AVAX_USDT binance::ADA_USDT binance::AVAX_USDT binance::ADA_USDT binance::AVAX_USDT\n",
       "timestamp                                                                                                                                                                    \n",
       "2021-09-01 00:00:00+00:00             2.762              39.32            2.7620             39.320          307378.2            2483.93          2.762000          39.320000\n",
       "2021-09-01 00:05:00+00:00             2.776              39.77            2.7624             39.322          971520.4           35482.15          2.761713          39.396582\n",
       "2021-09-01 00:10:00+00:00             2.764              39.87            2.7694             39.830         1057998.3           30734.79          2.769847          39.847694"
      ]
     },
     "execution_count": 14,
     "metadata": {},
     "output_type": "execute_result"
    }
   ],
   "source": [
    "# Configure the node to do the TWAP / VWAP resampling.\n",
    "node_resampling_config = {\n",
    "    \"in_col_groups\": [\n",
    "        (\"close\",),\n",
    "        (\"volume\",),\n",
    "    ],\n",
    "    \"out_col_group\": (),\n",
    "    \"transformer_kwargs\": {\n",
    "        \"rule\": resampling_freq,\n",
    "        \"resampling_groups\": [\n",
    "            ({\"close\": \"close\"}, \"last\", {}),\n",
    "            (\n",
    "                {\n",
    "                    \"close\": \"twap\",\n",
    "                },\n",
    "                \"mean\",\n",
    "                {},\n",
    "            ),\n",
    "            (\n",
    "                {\n",
    "                    \"volume\": \"volume\",\n",
    "                },\n",
    "                \"sum\",\n",
    "                {\"min_count\": 1},\n",
    "            ),\n",
    "        ],\n",
    "        \"vwap_groups\": [\n",
    "            (\"close\", \"volume\", \"vwap\"),\n",
    "        ],\n",
    "    },\n",
    "    \"reindex_like_input\": False,\n",
    "    \"join_output_with_input\": False,\n",
    "}\n",
    "# Put the data in the DataFlow format (which is multi-index).\n",
    "converted_data = dtfsysonod._convert_to_multiindex(data_hist, \"full_symbol\")\n",
    "# Create the node.\n",
    "nid = \"resample\"\n",
    "node = dtfcore.GroupedColDfToDfTransformer(\n",
    "    nid,\n",
    "    transformer_func=cofinanc.resample_bars,\n",
    "    **node_resampling_config,\n",
    ")\n",
    "# Compute the node on the data.\n",
    "vwap_twap = node.fit(converted_data)\n",
    "# Save the result.\n",
    "vwap_twap_approach_3 = vwap_twap[\"df_out\"]\n",
    "vwap_twap_approach_3.head(3)"
   ]
  },
  {
   "cell_type": "code",
   "execution_count": 15,
   "id": "5cd84eda",
   "metadata": {
    "ExecuteTime": {
     "end_time": "2022-04-22T16:13:10.900943Z",
     "start_time": "2022-04-22T16:13:10.848590Z"
    }
   },
   "outputs": [
    {
     "data": {
      "text/html": [
       "<div>\n",
       "<style scoped>\n",
       "    .dataframe tbody tr th:only-of-type {\n",
       "        vertical-align: middle;\n",
       "    }\n",
       "\n",
       "    .dataframe tbody tr th {\n",
       "        vertical-align: top;\n",
       "    }\n",
       "\n",
       "    .dataframe thead tr th {\n",
       "        text-align: left;\n",
       "    }\n",
       "\n",
       "    .dataframe thead tr:last-of-type th {\n",
       "        text-align: right;\n",
       "    }\n",
       "</style>\n",
       "<table border=\"1\" class=\"dataframe\">\n",
       "  <thead>\n",
       "    <tr>\n",
       "      <th></th>\n",
       "      <th colspan=\"2\" halign=\"left\">close.ret_0</th>\n",
       "      <th colspan=\"2\" halign=\"left\">twap.ret_0</th>\n",
       "      <th colspan=\"2\" halign=\"left\">vwap.ret_0</th>\n",
       "      <th colspan=\"2\" halign=\"left\">close</th>\n",
       "      <th colspan=\"2\" halign=\"left\">twap</th>\n",
       "      <th colspan=\"2\" halign=\"left\">volume</th>\n",
       "      <th colspan=\"2\" halign=\"left\">vwap</th>\n",
       "    </tr>\n",
       "    <tr>\n",
       "      <th></th>\n",
       "      <th>binance::ADA_USDT</th>\n",
       "      <th>binance::AVAX_USDT</th>\n",
       "      <th>binance::ADA_USDT</th>\n",
       "      <th>binance::AVAX_USDT</th>\n",
       "      <th>binance::ADA_USDT</th>\n",
       "      <th>binance::AVAX_USDT</th>\n",
       "      <th>binance::ADA_USDT</th>\n",
       "      <th>binance::AVAX_USDT</th>\n",
       "      <th>binance::ADA_USDT</th>\n",
       "      <th>binance::AVAX_USDT</th>\n",
       "      <th>binance::ADA_USDT</th>\n",
       "      <th>binance::AVAX_USDT</th>\n",
       "      <th>binance::ADA_USDT</th>\n",
       "      <th>binance::AVAX_USDT</th>\n",
       "    </tr>\n",
       "    <tr>\n",
       "      <th>timestamp</th>\n",
       "      <th></th>\n",
       "      <th></th>\n",
       "      <th></th>\n",
       "      <th></th>\n",
       "      <th></th>\n",
       "      <th></th>\n",
       "      <th></th>\n",
       "      <th></th>\n",
       "      <th></th>\n",
       "      <th></th>\n",
       "      <th></th>\n",
       "      <th></th>\n",
       "      <th></th>\n",
       "      <th></th>\n",
       "    </tr>\n",
       "  </thead>\n",
       "  <tbody>\n",
       "    <tr>\n",
       "      <th>2021-09-01 00:00:00+00:00</th>\n",
       "      <td>NaN</td>\n",
       "      <td>NaN</td>\n",
       "      <td>NaN</td>\n",
       "      <td>NaN</td>\n",
       "      <td>NaN</td>\n",
       "      <td>NaN</td>\n",
       "      <td>2.762</td>\n",
       "      <td>39.32</td>\n",
       "      <td>2.7620</td>\n",
       "      <td>39.320</td>\n",
       "      <td>307378.2</td>\n",
       "      <td>2483.93</td>\n",
       "      <td>2.762000</td>\n",
       "      <td>39.320000</td>\n",
       "    </tr>\n",
       "    <tr>\n",
       "      <th>2021-09-01 00:05:00+00:00</th>\n",
       "      <td>0.005069</td>\n",
       "      <td>0.011445</td>\n",
       "      <td>0.000145</td>\n",
       "      <td>0.000051</td>\n",
       "      <td>-0.000104</td>\n",
       "      <td>0.001948</td>\n",
       "      <td>2.776</td>\n",
       "      <td>39.77</td>\n",
       "      <td>2.7624</td>\n",
       "      <td>39.322</td>\n",
       "      <td>971520.4</td>\n",
       "      <td>35482.15</td>\n",
       "      <td>2.761713</td>\n",
       "      <td>39.396582</td>\n",
       "    </tr>\n",
       "    <tr>\n",
       "      <th>2021-09-01 00:10:00+00:00</th>\n",
       "      <td>-0.004323</td>\n",
       "      <td>0.002514</td>\n",
       "      <td>0.002534</td>\n",
       "      <td>0.012919</td>\n",
       "      <td>0.002945</td>\n",
       "      <td>0.011451</td>\n",
       "      <td>2.764</td>\n",
       "      <td>39.87</td>\n",
       "      <td>2.7694</td>\n",
       "      <td>39.830</td>\n",
       "      <td>1057998.3</td>\n",
       "      <td>30734.79</td>\n",
       "      <td>2.769847</td>\n",
       "      <td>39.847694</td>\n",
       "    </tr>\n",
       "  </tbody>\n",
       "</table>\n",
       "</div>"
      ],
      "text/plain": [
       "                                close.ret_0                           twap.ret_0                           vwap.ret_0                                close                                 twap                               volume                                 vwap                   \n",
       "                          binance::ADA_USDT binance::AVAX_USDT binance::ADA_USDT binance::AVAX_USDT binance::ADA_USDT binance::AVAX_USDT binance::ADA_USDT binance::AVAX_USDT binance::ADA_USDT binance::AVAX_USDT binance::ADA_USDT binance::AVAX_USDT binance::ADA_USDT binance::AVAX_USDT\n",
       "timestamp                                                                                                                                                                                                                                                                                   \n",
       "2021-09-01 00:00:00+00:00               NaN                NaN               NaN                NaN               NaN                NaN             2.762              39.32            2.7620             39.320          307378.2            2483.93          2.762000          39.320000\n",
       "2021-09-01 00:05:00+00:00          0.005069           0.011445          0.000145           0.000051         -0.000104           0.001948             2.776              39.77            2.7624             39.322          971520.4           35482.15          2.761713          39.396582\n",
       "2021-09-01 00:10:00+00:00         -0.004323           0.002514          0.002534           0.012919          0.002945           0.011451             2.764              39.87            2.7694             39.830         1057998.3           30734.79          2.769847          39.847694"
      ]
     },
     "execution_count": 15,
     "metadata": {},
     "output_type": "execute_result"
    }
   ],
   "source": [
    "# Configure the node to calculate the returns.\n",
    "node_returns_config = {\n",
    "    \"in_col_groups\": [\n",
    "        (\"close\",),\n",
    "        (\"vwap\",),\n",
    "        (\"twap\",),\n",
    "    ],\n",
    "    \"out_col_group\": (),\n",
    "    \"transformer_kwargs\": {\n",
    "        \"mode\": \"pct_change\",\n",
    "    },\n",
    "    \"col_mapping\": {\n",
    "        \"close\": \"close.ret_0\",\n",
    "        \"vwap\": \"vwap.ret_0\",\n",
    "        \"twap\": \"twap.ret_0\",\n",
    "    },\n",
    "}\n",
    "# Create the node that computes ret_0.\n",
    "nid = \"ret0\"\n",
    "node = dtfcore.GroupedColDfToDfTransformer(\n",
    "    nid,\n",
    "    transformer_func=cofinanc.compute_ret_0,\n",
    "    **node_returns_config,\n",
    ")\n",
    "# Compute the node on the data.\n",
    "rets = node.fit(vwap_twap_approach_3)\n",
    "# Save the result.\n",
    "vwap_twap_rets_approach_3 = rets[\"df_out\"]\n",
    "vwap_twap_rets_approach_3.head(3)"
   ]
  }
 ],
 "metadata": {
  "kernelspec": {
   "display_name": "Python 3 (ipykernel)",
   "language": "python",
   "name": "python3"
  },
  "language_info": {
   "codemirror_mode": {
    "name": "ipython",
    "version": 3
   },
   "file_extension": ".py",
   "mimetype": "text/x-python",
   "name": "python",
   "nbconvert_exporter": "python",
   "pygments_lexer": "ipython3",
   "version": "3.8.10"
  },
  "toc": {
   "base_numbering": 1,
   "nav_menu": {},
   "number_sections": true,
   "sideBar": true,
   "skip_h1_title": false,
   "title_cell": "Table of Contents",
   "title_sidebar": "Contents",
   "toc_cell": false,
   "toc_position": {},
   "toc_section_display": true,
   "toc_window_display": false
  }
 },
 "nbformat": 4,
 "nbformat_minor": 5
}
