{
 "cells": [
  {
   "cell_type": "markdown",
   "id": "219d117c",
   "metadata": {},
   "source": [
    "## Imports"
   ]
  },
  {
   "cell_type": "code",
   "execution_count": 1,
   "id": "9692caf7",
   "metadata": {
    "ExecuteTime": {
     "end_time": "2021-07-27T22:43:13.058134Z",
     "start_time": "2021-07-27T22:43:12.571774Z"
    }
   },
   "outputs": [],
   "source": [
    "%load_ext autoreload\n",
    "%autoreload 2\n",
    "\n",
    "import datetime\n",
    "import logging\n",
    "import os\n",
    "\n",
    "import pandas as pd\n",
    "from pyarrow import parquet\n",
    "import s3fs\n",
    "\n",
    "import helpers.dbg as dbg\n",
    "import helpers.env as env\n",
    "import helpers.printing as prnt"
   ]
  },
  {
   "cell_type": "code",
   "execution_count": 2,
   "id": "58a2b5f3",
   "metadata": {
    "ExecuteTime": {
     "end_time": "2021-07-27T22:43:16.203677Z",
     "start_time": "2021-07-27T22:43:15.704569Z"
    }
   },
   "outputs": [
    {
     "name": "stdout",
     "output_type": "stream",
     "text": [
      "\u001b[33mWARNING\u001b[0m: Disabling annoying warnings\n",
      "\u001b[0m\u001b[36mINFO\u001b[0m: > cmd='/venv/lib/python3.8/site-packages/ipykernel_launcher.py -f /root/.local/share/jupyter/runtime/kernel-26b9c9dd-34a1-43ca-8ac4-d0545f037ca0.json'\n",
      "\u001b[33mWARNING\u001b[0m: Running in Jupyter\n"
     ]
    }
   ],
   "source": [
    "prnt.config_notebook()\n",
    "\n",
    "# dbg.init_logger(verbosity=logging.DEBUG)\n",
    "dbg.init_logger(verbosity=logging.INFO)\n",
    "# dbg.test_logger()\n",
    "_LOG = logging.getLogger(__name__)"
   ]
  },
  {
   "cell_type": "code",
   "execution_count": null,
   "id": "c022db7a",
   "metadata": {
    "ExecuteTime": {
     "end_time": "2021-07-27T15:56:30.076268Z",
     "start_time": "2021-07-27T15:56:30.056172Z"
    }
   },
   "outputs": [],
   "source": [
    "# def print_columns(df: pd.DataFrame) -> None:\n",
    "#     print(\"# Columns\")\n",
    "#     print(\"num_cols=%s\" % len(df.columns))\n",
    "#     print(\", \".join(df.columns.tolist()))"
   ]
  },
  {
   "cell_type": "markdown",
   "id": "4818beec",
   "metadata": {},
   "source": [
    "## Real-time node"
   ]
  },
  {
   "cell_type": "code",
   "execution_count": 3,
   "id": "3f6fef91",
   "metadata": {
    "ExecuteTime": {
     "end_time": "2021-07-27T22:43:24.639495Z",
     "start_time": "2021-07-27T22:43:24.620097Z"
    }
   },
   "outputs": [],
   "source": [
    "import time"
   ]
  },
  {
   "cell_type": "markdown",
   "id": "40534fc9",
   "metadata": {},
   "source": [
    "## Test real-time node"
   ]
  },
  {
   "cell_type": "code",
   "execution_count": null,
   "id": "4357d94e",
   "metadata": {
    "ExecuteTime": {
     "end_time": "2021-07-27T21:40:35.563266Z",
     "start_time": "2021-07-27T21:40:35.419462Z"
    }
   },
   "outputs": [],
   "source": [
    "nid = \"rtds\"\n",
    "start_date = pd.Timestamp(\"2010-01-04 09:30:00\")\n",
    "end_date = pd.Timestamp(\"2010-01-10 09:30:00\")\n",
    "\n",
    "columns = [\"close\", \"volume\"]\n",
    "rtds = dartu.RealTimeDataSource(\"rtds\", columns start_date, end_date)\n",
    "\n",
    "now = pd.Timestamp(\"2010-01-04 09:35:00\")\n",
    "rtds.set_now_time(now)\n",
    "    \n",
    "rtds.fit()"
   ]
  },
  {
   "cell_type": "markdown",
   "id": "9f2bc693",
   "metadata": {},
   "source": [
    "## Build pipeline"
   ]
  },
  {
   "cell_type": "code",
   "execution_count": null,
   "id": "3de9acfe",
   "metadata": {
    "ExecuteTime": {
     "start_time": "2021-07-27T23:06:30.315Z"
    }
   },
   "outputs": [],
   "source": [
    "import dataflow_amp.real_time.utils as dartu\n",
    "import dataflow_amp.returns.pipeline as darp\n",
    "import core.dataflow as cdataf\n",
    "import core.config as cconfig\n",
    "\n",
    "dag_builder = darp.ReturnsPipeline()\n",
    "config = dag_builder.get_config_template()\n",
    "\n",
    "# # Add the source node.\n",
    "# source_config = cconfig.get_config_from_nested_dict(\n",
    "#     {\n",
    "#         \"func\": cldns.load_single_instrument_data,\n",
    "#         \"func_kwargs\": {\n",
    "#             \"start_date\": datetime.date(2010, 6, 29),\n",
    "#             \"end_date\": datetime.date(2010, 7, 13),\n",
    "#         },\n",
    "#     }\n",
    "# )\n",
    "# config[\"load_prices\"] = source_config\n",
    "# config[\"resample_prices_to_1min\", \"func_kwargs\", \"volume_cols\"] = [\"volume\"]\n",
    "# config[\"compute_vwap\", \"func_kwargs\", \"rule\"] = \"15T\"\n",
    "# config[\"compute_vwap\", \"func_kwargs\", \"volume_col\"] = \"volume\"\n",
    "\n",
    "if False:\n",
    "    from im.kibot.data.config import S3_PREFIX\n",
    "\n",
    "    ticker = \"AAPL\"\n",
    "    file_path = os.path.join(S3_PREFIX, \"pq/sp_500_1min\", ticker + \".pq\")\n",
    "    source_node_kwargs = {\n",
    "        \"func\": cdataf.load_data_from_disk,\n",
    "        \"func_kwargs\": {\n",
    "            \"file_path\": file_path,\n",
    "            \"start_date\": pd.to_datetime(\"2010-01-04 9:30:00\"),\n",
    "            \"end_date\": pd.to_datetime(\"2010-01-04 16:05:00\"),\n",
    "        },\n",
    "    }\n",
    "    config[\"load_prices\"] = cconfig.get_config_from_nested_dict(\n",
    "        source_node_kwargs\n",
    "    )\n",
    "    \n",
    "else:\n",
    "    start_date = pd.Timestamp(\"2010-01-04 09:30:00\")\n",
    "    end_date = pd.Timestamp(\"2010-01-05 09:30:00\")\n",
    "    \n",
    "    source_node_kwargs = {\n",
    "        \"columns\": [\"close\", \"vol\"],\n",
    "        \"start_date\": start_date,\n",
    "        \"end_date\": end_date,\n",
    "    }\n",
    "    config[\"load_prices\"] = cconfig.get_config_from_nested_dict({\n",
    "        \"source_node_name\": \"real_time_synthetic\",\n",
    "        \"source_node_kwargs\": source_node_kwargs\n",
    "    })\n",
    "\n",
    "print(config)"
   ]
  },
  {
   "cell_type": "code",
   "execution_count": 26,
   "id": "2cff7fc4",
   "metadata": {
    "ExecuteTime": {
     "end_time": "2021-07-27T23:03:32.322654Z",
     "start_time": "2021-07-27T23:03:32.286499Z"
    }
   },
   "outputs": [],
   "source": [
    "dag = dag_builder.get_dag(config)"
   ]
  },
  {
   "cell_type": "code",
   "execution_count": 22,
   "id": "eeb33177",
   "metadata": {
    "ExecuteTime": {
     "end_time": "2021-07-27T23:02:01.791709Z",
     "start_time": "2021-07-27T23:02:01.708830Z"
    }
   },
   "outputs": [
    {
     "data": {
      "application/vnd.jupyter.widget-view+json": {
       "model_id": "2facd33ffdc5464eb45b0cc30ab6438b",
       "version_major": 2,
       "version_minor": 0
      },
      "text/plain": [
       "run_leq_node:   0%|          | 0/1 [00:00<?, ?it/s]"
      ]
     },
     "metadata": {},
     "output_type": "display_data"
    },
    {
     "name": "stdout",
     "output_type": "stream",
     "text": [
      "{'df_out':                          close       vol\n",
      "2010-01-04 09:30:00   0.265995  0.222227\n",
      "2010-01-04 09:31:00  -0.040810  0.715719\n",
      "2010-01-04 09:32:00  -0.006197  0.777261\n",
      "2010-01-04 09:33:00   0.039911  0.830354\n",
      "2010-01-04 09:34:00   0.428358  0.526327\n",
      "...                        ...       ...\n",
      "2010-01-06 09:26:00 -32.152131 -1.976049\n",
      "2010-01-06 09:27:00 -31.821100 -1.994653\n",
      "2010-01-06 09:28:00 -31.869451 -1.814798\n",
      "2010-01-06 09:29:00 -32.288384 -1.908961\n",
      "2010-01-06 09:30:00 -31.911481 -2.070091\n",
      "\n",
      "[2881 rows x 2 columns]}\n"
     ]
    }
   ],
   "source": [
    "if False:\n",
    "    #nid = \"compute_ret_0\"\n",
    "    nid = \"load_prices\"\n",
    "    node = dag.get_node(\"load_prices\")\n",
    "    node.set_now_time(pd.to_datetime(\"2010-01-06 9:30:00\"))\n",
    "\n",
    "    dict_ = dag.run_leq_node(nid, \"fit\")\n",
    "\n",
    "    print(dict_)"
   ]
  },
  {
   "cell_type": "code",
   "execution_count": null,
   "id": "12fa6dbb",
   "metadata": {
    "ExecuteTime": {
     "end_time": "2021-07-22T21:16:41.117287Z",
     "start_time": "2021-07-22T21:16:40.984109Z"
    }
   },
   "outputs": [],
   "source": [
    "# import helpers.printing as hprint\n",
    "# df = cldns.load_db_example_data()\n",
    "# print(\"end_time=[%s, %s]\" % (min(df[\"end_time\"]), max(df[\"end_time\"])))\n",
    "# print(df.shape)\n",
    "\n",
    "\n",
    "# datetime_ = pd.Timestamp(\"2021-07-22 20:01:00-00:00\")\n",
    "# print(datetime_)\n",
    "# df = cldns.get_db_data(datetime_)\n",
    "# print(\"end_time=[%s, %s]\" % (min(df[\"end_time\"]), max(df[\"end_time\"])))\n",
    "# print(df.shape)\n",
    "\n",
    "# df.head()"
   ]
  },
  {
   "cell_type": "code",
   "execution_count": null,
   "id": "a401bb40",
   "metadata": {
    "ExecuteTime": {
     "end_time": "2021-07-22T21:20:24.987144Z",
     "start_time": "2021-07-22T21:20:24.761815Z"
    }
   },
   "outputs": [],
   "source": [
    "#df[[\"start_time\", \"end_time\", \"timestamp_db\"]]"
   ]
  },
  {
   "cell_type": "code",
   "execution_count": null,
   "id": "03498404",
   "metadata": {
    "ExecuteTime": {
     "start_time": "2021-07-27T23:05:46.370Z"
    },
    "lines_to_next_cell": 2,
    "scrolled": false
   },
   "outputs": [
    {
     "name": "stdout",
     "output_type": "stream",
     "text": [
      "now= 2010-01-04 09:30:00\n",
      "Time to execute the DAG\n"
     ]
    },
    {
     "data": {
      "application/vnd.jupyter.widget-view+json": {
       "model_id": "abb5c8ac439a4aa39aa16bea408a7754",
       "version_major": 2,
       "version_minor": 0
      },
      "text/plain": [
       "run_leq_node:   0%|          | 0/6 [00:00<?, ?it/s]"
      ]
     },
     "metadata": {},
     "output_type": "display_data"
    },
    {
     "name": "stdout",
     "output_type": "stream",
     "text": [
      "                     vwap  twap  last bar_start_timestamp    minute  twap_ret_0  vwap_ret_0\n",
      "2010-01-04 09:30:00   NaN   NaN   NaN 2010-01-04 09:25:00  21043290         NaN         NaN\n",
      "now= 2010-01-04 09:31:00\n",
      "now= 2010-01-04 09:32:00\n",
      "now= 2010-01-04 09:33:00\n",
      "now= 2010-01-04 09:34:00\n",
      "now= 2010-01-04 09:35:00\n",
      "Time to execute the DAG\n"
     ]
    },
    {
     "data": {
      "application/vnd.jupyter.widget-view+json": {
       "model_id": "e91b724713f948839646145747c663b0",
       "version_major": 2,
       "version_minor": 0
      },
      "text/plain": [
       "run_leq_node:   0%|          | 0/6 [00:00<?, ?it/s]"
      ]
     },
     "metadata": {},
     "output_type": "display_data"
    },
    {
     "name": "stdout",
     "output_type": "stream",
     "text": [
      "                         vwap     twap      last bar_start_timestamp    minute  twap_ret_0  vwap_ret_0\n",
      "2010-01-04 09:30:00       NaN      NaN       NaN 2010-01-04 09:25:00  21043290         NaN         NaN\n",
      "2010-01-04 09:35:00  0.223739  0.23321  0.153984 2010-01-04 09:30:00  21043295         NaN         NaN\n",
      "now= 2010-01-04 09:36:00\n",
      "now= 2010-01-04 09:37:00\n",
      "now= 2010-01-04 09:38:00\n",
      "now= 2010-01-04 09:39:00\n",
      "now= 2010-01-04 09:40:00\n",
      "Time to execute the DAG\n"
     ]
    },
    {
     "data": {
      "application/vnd.jupyter.widget-view+json": {
       "model_id": "3142266a0750495cb7f336208678b9a4",
       "version_major": 2,
       "version_minor": 0
      },
      "text/plain": [
       "run_leq_node:   0%|          | 0/6 [00:00<?, ?it/s]"
      ]
     },
     "metadata": {},
     "output_type": "display_data"
    },
    {
     "name": "stdout",
     "output_type": "stream",
     "text": [
      "                         vwap      twap      last bar_start_timestamp    minute  twap_ret_0  vwap_ret_0\n",
      "2010-01-04 09:30:00       NaN       NaN       NaN 2010-01-04 09:25:00  21043290         NaN         NaN\n",
      "2010-01-04 09:35:00  0.223739  0.233210  0.153984 2010-01-04 09:30:00  21043295         NaN         NaN\n",
      "2010-01-04 09:40:00 -0.079044 -0.156203 -0.015141 2010-01-04 09:35:00  21043300   -1.669799   -1.353286\n",
      "now= 2010-01-04 09:41:00\n",
      "now= 2010-01-04 09:42:00\n",
      "now= 2010-01-04 09:43:00\n",
      "now= 2010-01-04 09:44:00\n",
      "now= 2010-01-04 09:45:00\n",
      "Time to execute the DAG\n"
     ]
    },
    {
     "data": {
      "application/vnd.jupyter.widget-view+json": {
       "model_id": "666cb630a16a432dac5659a601bf691f",
       "version_major": 2,
       "version_minor": 0
      },
      "text/plain": [
       "run_leq_node:   0%|          | 0/6 [00:00<?, ?it/s]"
      ]
     },
     "metadata": {},
     "output_type": "display_data"
    },
    {
     "name": "stdout",
     "output_type": "stream",
     "text": [
      "                         vwap      twap      last bar_start_timestamp    minute  twap_ret_0  vwap_ret_0\n",
      "2010-01-04 09:35:00  0.223739  0.233210  0.153984 2010-01-04 09:30:00  21043295         NaN         NaN\n",
      "2010-01-04 09:40:00 -0.079044 -0.156203 -0.015141 2010-01-04 09:35:00  21043300   -1.669799   -1.353286\n",
      "2010-01-04 09:45:00  2.829844 -0.443797 -1.189943 2010-01-04 09:40:00  21043305    1.841146  -36.800944\n",
      "now= 2010-01-04 09:46:00\n",
      "now= 2010-01-04 09:47:00\n",
      "now= 2010-01-04 09:48:00\n",
      "now= 2010-01-04 09:49:00\n",
      "now= 2010-01-04 09:50:00\n",
      "Time to execute the DAG\n"
     ]
    },
    {
     "data": {
      "application/vnd.jupyter.widget-view+json": {
       "model_id": "3d5bcda0b089440ca7ec2139cd9220ec",
       "version_major": 2,
       "version_minor": 0
      },
      "text/plain": [
       "run_leq_node:   0%|          | 0/6 [00:00<?, ?it/s]"
      ]
     },
     "metadata": {},
     "output_type": "display_data"
    },
    {
     "name": "stdout",
     "output_type": "stream",
     "text": [
      "                         vwap      twap      last bar_start_timestamp    minute  twap_ret_0  vwap_ret_0\n",
      "2010-01-04 09:40:00 -0.079044 -0.156203 -0.015141 2010-01-04 09:35:00  21043300   -1.669799   -1.353286\n",
      "2010-01-04 09:45:00  2.829844 -0.443797 -1.189943 2010-01-04 09:40:00  21043305    1.841146  -36.800944\n",
      "2010-01-04 09:50:00 -0.667507 -0.712056 -0.367014 2010-01-04 09:45:00  21043310    0.604463   -1.235881\n",
      "now= 2010-01-04 09:51:00\n",
      "now= 2010-01-04 09:52:00\n",
      "now= 2010-01-04 09:53:00\n",
      "now= 2010-01-04 09:54:00\n",
      "now= 2010-01-04 09:55:00\n",
      "Time to execute the DAG\n"
     ]
    },
    {
     "data": {
      "application/vnd.jupyter.widget-view+json": {
       "model_id": "575c1820f3e74067a7a7413887bc6607",
       "version_major": 2,
       "version_minor": 0
      },
      "text/plain": [
       "run_leq_node:   0%|          | 0/6 [00:00<?, ?it/s]"
      ]
     },
     "metadata": {},
     "output_type": "display_data"
    },
    {
     "name": "stdout",
     "output_type": "stream",
     "text": [
      "                         vwap      twap      last bar_start_timestamp    minute  twap_ret_0  vwap_ret_0\n",
      "2010-01-04 09:45:00  2.829844 -0.443797 -1.189943 2010-01-04 09:40:00  21043305    1.841146  -36.800944\n",
      "2010-01-04 09:50:00 -0.667507 -0.712056 -0.367014 2010-01-04 09:45:00  21043310    0.604463   -1.235881\n",
      "2010-01-04 09:55:00 -0.607963 -0.622985 -1.220178 2010-01-04 09:50:00  21043315   -0.125089   -0.089203\n",
      "now= 2010-01-04 09:56:00\n",
      "now= 2010-01-04 09:57:00\n",
      "now= 2010-01-04 09:58:00\n",
      "now= 2010-01-04 09:59:00\n",
      "now= 2010-01-04 10:00:00\n",
      "Time to execute the DAG\n"
     ]
    },
    {
     "data": {
      "application/vnd.jupyter.widget-view+json": {
       "model_id": "0146948591b34b9bb286f028de0e3b86",
       "version_major": 2,
       "version_minor": 0
      },
      "text/plain": [
       "run_leq_node:   0%|          | 0/6 [00:00<?, ?it/s]"
      ]
     },
     "metadata": {},
     "output_type": "display_data"
    },
    {
     "name": "stdout",
     "output_type": "stream",
     "text": [
      "                         vwap      twap      last bar_start_timestamp    minute  twap_ret_0  vwap_ret_0\n",
      "2010-01-04 09:50:00 -0.667507 -0.712056 -0.367014 2010-01-04 09:45:00  21043310    0.604463   -1.235881\n",
      "2010-01-04 09:55:00 -0.607963 -0.622985 -1.220178 2010-01-04 09:50:00  21043315   -0.125089   -0.089203\n",
      "2010-01-04 10:00:00 -1.791201 -1.781688 -1.686236 2010-01-04 09:55:00  21043320    1.859920    1.946233\n",
      "now= 2010-01-04 10:01:00\n",
      "now= 2010-01-04 10:02:00\n",
      "now= 2010-01-04 10:03:00\n",
      "now= 2010-01-04 10:04:00\n",
      "now= 2010-01-04 10:05:00\n",
      "Time to execute the DAG\n"
     ]
    },
    {
     "data": {
      "application/vnd.jupyter.widget-view+json": {
       "model_id": "915cd18825784b6487f5ea4d2d8835c7",
       "version_major": 2,
       "version_minor": 0
      },
      "text/plain": [
       "run_leq_node:   0%|          | 0/6 [00:00<?, ?it/s]"
      ]
     },
     "metadata": {},
     "output_type": "display_data"
    },
    {
     "name": "stdout",
     "output_type": "stream",
     "text": [
      "                         vwap      twap      last bar_start_timestamp    minute  twap_ret_0  vwap_ret_0\n",
      "2010-01-04 09:55:00 -0.607963 -0.622985 -1.220178 2010-01-04 09:50:00  21043315   -0.125089   -0.089203\n",
      "2010-01-04 10:00:00 -1.791201 -1.781688 -1.686236 2010-01-04 09:55:00  21043320    1.859920    1.946233\n",
      "2010-01-04 10:05:00 -2.256668 -2.244145 -2.327952 2010-01-04 10:00:00  21043325    0.259561    0.259863\n",
      "now= 2010-01-04 10:06:00\n",
      "now= 2010-01-04 10:07:00\n",
      "now= 2010-01-04 10:08:00\n",
      "now= 2010-01-04 10:09:00\n",
      "now= 2010-01-04 10:10:00\n",
      "Time to execute the DAG\n"
     ]
    },
    {
     "data": {
      "application/vnd.jupyter.widget-view+json": {
       "model_id": "06ec7d8faf12495197eb9a34f216da57",
       "version_major": 2,
       "version_minor": 0
      },
      "text/plain": [
       "run_leq_node:   0%|          | 0/6 [00:00<?, ?it/s]"
      ]
     },
     "metadata": {},
     "output_type": "display_data"
    },
    {
     "name": "stdout",
     "output_type": "stream",
     "text": [
      "                         vwap      twap      last bar_start_timestamp    minute  twap_ret_0  vwap_ret_0\n",
      "2010-01-04 10:00:00 -1.791201 -1.781688 -1.686236 2010-01-04 09:55:00  21043320    1.859920    1.946233\n",
      "2010-01-04 10:05:00 -2.256668 -2.244145 -2.327952 2010-01-04 10:00:00  21043325    0.259561    0.259863\n",
      "2010-01-04 10:10:00 -2.476801 -2.510811 -2.679896 2010-01-04 10:05:00  21043330    0.118827    0.097548\n",
      "now= 2010-01-04 10:11:00\n",
      "now= 2010-01-04 10:12:00\n",
      "now= 2010-01-04 10:13:00\n",
      "now= 2010-01-04 10:14:00\n",
      "now= 2010-01-04 10:15:00\n",
      "Time to execute the DAG\n"
     ]
    },
    {
     "data": {
      "application/vnd.jupyter.widget-view+json": {
       "model_id": "3fc16d7567864f2c95a22d9433303ee5",
       "version_major": 2,
       "version_minor": 0
      },
      "text/plain": [
       "run_leq_node:   0%|          | 0/6 [00:00<?, ?it/s]"
      ]
     },
     "metadata": {},
     "output_type": "display_data"
    },
    {
     "name": "stdout",
     "output_type": "stream",
     "text": [
      "                         vwap      twap      last bar_start_timestamp    minute  twap_ret_0  vwap_ret_0\n",
      "2010-01-04 10:05:00 -2.256668 -2.244145 -2.327952 2010-01-04 10:00:00  21043325    0.259561    0.259863\n",
      "2010-01-04 10:10:00 -2.476801 -2.510811 -2.679896 2010-01-04 10:05:00  21043330    0.118827    0.097548\n",
      "2010-01-04 10:15:00 -2.927752 -2.859999 -2.793018 2010-01-04 10:10:00  21043335    0.139074    0.182070\n",
      "now= 2010-01-04 10:16:00\n",
      "now= 2010-01-04 10:17:00\n",
      "now= 2010-01-04 10:18:00\n",
      "now= 2010-01-04 10:19:00\n",
      "now= 2010-01-04 10:20:00\n",
      "Time to execute the DAG\n"
     ]
    },
    {
     "data": {
      "application/vnd.jupyter.widget-view+json": {
       "model_id": "55599c827f5f435b8d517fdb7b80162c",
       "version_major": 2,
       "version_minor": 0
      },
      "text/plain": [
       "run_leq_node:   0%|          | 0/6 [00:00<?, ?it/s]"
      ]
     },
     "metadata": {},
     "output_type": "display_data"
    },
    {
     "name": "stdout",
     "output_type": "stream",
     "text": [
      "                         vwap      twap      last bar_start_timestamp    minute  twap_ret_0  vwap_ret_0\n",
      "2010-01-04 10:10:00 -2.476801 -2.510811 -2.679896 2010-01-04 10:05:00  21043330    0.118827    0.097548\n",
      "2010-01-04 10:15:00 -2.927752 -2.859999 -2.793018 2010-01-04 10:10:00  21043335    0.139074    0.182070\n",
      "2010-01-04 10:20:00 -2.147757 -2.244083 -1.723224 2010-01-04 10:15:00  21043340   -0.215355   -0.266415\n",
      "now= 2010-01-04 10:21:00\n",
      "now= 2010-01-04 10:22:00\n",
      "now= 2010-01-04 10:23:00\n",
      "now= 2010-01-04 10:24:00\n",
      "now= 2010-01-04 10:25:00\n",
      "Time to execute the DAG\n"
     ]
    },
    {
     "data": {
      "application/vnd.jupyter.widget-view+json": {
       "model_id": "8bc4fbd988564c208bb00995d95fbfaf",
       "version_major": 2,
       "version_minor": 0
      },
      "text/plain": [
       "run_leq_node:   0%|          | 0/6 [00:00<?, ?it/s]"
      ]
     },
     "metadata": {},
     "output_type": "display_data"
    },
    {
     "name": "stdout",
     "output_type": "stream",
     "text": [
      "                         vwap      twap      last bar_start_timestamp    minute  twap_ret_0  vwap_ret_0\n",
      "2010-01-04 10:15:00 -2.927752 -2.859999 -2.793018 2010-01-04 10:10:00  21043335    0.139074    0.182070\n",
      "2010-01-04 10:20:00 -2.147757 -2.244083 -1.723224 2010-01-04 10:15:00  21043340   -0.215355   -0.266415\n",
      "2010-01-04 10:25:00 -1.738033 -1.736686 -2.236053 2010-01-04 10:20:00  21043345   -0.226104   -0.190768\n",
      "now= 2010-01-04 10:26:00\n",
      "now= 2010-01-04 10:27:00\n",
      "now= 2010-01-04 10:28:00\n",
      "now= 2010-01-04 10:29:00\n",
      "now= 2010-01-04 10:30:00\n",
      "Time to execute the DAG\n"
     ]
    },
    {
     "data": {
      "application/vnd.jupyter.widget-view+json": {
       "model_id": "5e4e74aa5fde4560bb220810a42ac7e5",
       "version_major": 2,
       "version_minor": 0
      },
      "text/plain": [
       "run_leq_node:   0%|          | 0/6 [00:00<?, ?it/s]"
      ]
     },
     "metadata": {},
     "output_type": "display_data"
    },
    {
     "name": "stdout",
     "output_type": "stream",
     "text": [
      "                         vwap      twap      last bar_start_timestamp    minute  twap_ret_0  vwap_ret_0\n",
      "2010-01-04 10:20:00 -2.147757 -2.244083 -1.723224 2010-01-04 10:15:00  21043340   -0.215355   -0.266415\n",
      "2010-01-04 10:25:00 -1.738033 -1.736686 -2.236053 2010-01-04 10:20:00  21043345   -0.226104   -0.190768\n",
      "2010-01-04 10:30:00 -2.056478 -2.060671 -2.034705 2010-01-04 10:25:00  21043350    0.186554    0.183222\n",
      "now= 2010-01-04 10:31:00\n",
      "now= 2010-01-04 10:32:00\n",
      "now= 2010-01-04 10:33:00\n",
      "now= 2010-01-04 10:34:00\n",
      "now= 2010-01-04 10:35:00\n",
      "Time to execute the DAG\n"
     ]
    },
    {
     "data": {
      "application/vnd.jupyter.widget-view+json": {
       "model_id": "ad82942f76da42b58d5c3106bdb6c464",
       "version_major": 2,
       "version_minor": 0
      },
      "text/plain": [
       "run_leq_node:   0%|          | 0/6 [00:00<?, ?it/s]"
      ]
     },
     "metadata": {},
     "output_type": "display_data"
    },
    {
     "name": "stdout",
     "output_type": "stream",
     "text": [
      "                         vwap      twap      last bar_start_timestamp    minute  twap_ret_0  vwap_ret_0\n",
      "2010-01-04 10:25:00 -1.738033 -1.736686 -2.236053 2010-01-04 10:20:00  21043345   -0.226104   -0.190768\n",
      "2010-01-04 10:30:00 -2.056478 -2.060671 -2.034705 2010-01-04 10:25:00  21043350    0.186554    0.183222\n",
      "2010-01-04 10:35:00 -2.339050 -2.319338 -2.473182 2010-01-04 10:30:00  21043355    0.125525    0.137406\n",
      "now= 2010-01-04 10:36:00\n",
      "now= 2010-01-04 10:37:00\n",
      "now= 2010-01-04 10:38:00\n",
      "now= 2010-01-04 10:39:00\n",
      "now= 2010-01-04 10:40:00\n",
      "Time to execute the DAG\n"
     ]
    },
    {
     "data": {
      "application/vnd.jupyter.widget-view+json": {
       "model_id": "32c6695c154142328081bcd166768dd4",
       "version_major": 2,
       "version_minor": 0
      },
      "text/plain": [
       "run_leq_node:   0%|          | 0/6 [00:00<?, ?it/s]"
      ]
     },
     "metadata": {},
     "output_type": "display_data"
    },
    {
     "name": "stdout",
     "output_type": "stream",
     "text": [
      "                         vwap      twap      last bar_start_timestamp    minute  twap_ret_0  vwap_ret_0\n",
      "2010-01-04 10:30:00 -2.056478 -2.060671 -2.034705 2010-01-04 10:25:00  21043350    0.186554    0.183222\n",
      "2010-01-04 10:35:00 -2.339050 -2.319338 -2.473182 2010-01-04 10:30:00  21043355    0.125525    0.137406\n",
      "2010-01-04 10:40:00 -2.212943 -2.213081 -2.559321 2010-01-04 10:35:00  21043360   -0.045814   -0.053914\n",
      "now= 2010-01-04 10:41:00\n",
      "now= 2010-01-04 10:42:00\n",
      "now= 2010-01-04 10:43:00\n",
      "now= 2010-01-04 10:44:00\n",
      "now= 2010-01-04 10:45:00\n",
      "Time to execute the DAG\n"
     ]
    },
    {
     "data": {
      "application/vnd.jupyter.widget-view+json": {
       "model_id": "fdb45991985847a584792817bfed7026",
       "version_major": 2,
       "version_minor": 0
      },
      "text/plain": [
       "run_leq_node:   0%|          | 0/6 [00:00<?, ?it/s]"
      ]
     },
     "metadata": {},
     "output_type": "display_data"
    },
    {
     "name": "stdout",
     "output_type": "stream",
     "text": [
      "                         vwap      twap      last bar_start_timestamp    minute  twap_ret_0  vwap_ret_0\n",
      "2010-01-04 10:35:00 -2.339050 -2.319338 -2.473182 2010-01-04 10:30:00  21043355    0.125525    0.137406\n",
      "2010-01-04 10:40:00 -2.212943 -2.213081 -2.559321 2010-01-04 10:35:00  21043360   -0.045814   -0.053914\n",
      "2010-01-04 10:45:00 -2.271779 -2.258225 -2.334598 2010-01-04 10:40:00  21043365    0.020399    0.026587\n",
      "now= 2010-01-04 10:46:00\n",
      "now= 2010-01-04 10:47:00\n",
      "now= 2010-01-04 10:48:00\n",
      "now= 2010-01-04 10:49:00\n",
      "now= 2010-01-04 10:50:00\n",
      "Time to execute the DAG\n"
     ]
    },
    {
     "data": {
      "application/vnd.jupyter.widget-view+json": {
       "model_id": "b27faeecc5ae48c386fda55bdab62fe3",
       "version_major": 2,
       "version_minor": 0
      },
      "text/plain": [
       "run_leq_node:   0%|          | 0/6 [00:00<?, ?it/s]"
      ]
     },
     "metadata": {},
     "output_type": "display_data"
    },
    {
     "name": "stdout",
     "output_type": "stream",
     "text": [
      "                         vwap      twap      last bar_start_timestamp    minute  twap_ret_0  vwap_ret_0\n",
      "2010-01-04 10:40:00 -2.212943 -2.213081 -2.559321 2010-01-04 10:35:00  21043360   -0.045814   -0.053914\n",
      "2010-01-04 10:45:00 -2.271779 -2.258225 -2.334598 2010-01-04 10:40:00  21043365    0.020399    0.026587\n",
      "2010-01-04 10:50:00 -2.037235 -2.034910 -1.853107 2010-01-04 10:45:00  21043370   -0.098890   -0.103242\n",
      "now= 2010-01-04 10:51:00\n",
      "now= 2010-01-04 10:52:00\n",
      "now= 2010-01-04 10:53:00\n",
      "now= 2010-01-04 10:54:00\n",
      "now= 2010-01-04 10:55:00\n",
      "Time to execute the DAG\n"
     ]
    },
    {
     "data": {
      "application/vnd.jupyter.widget-view+json": {
       "model_id": "17fcf95b2b064ccd862777110e5c3baa",
       "version_major": 2,
       "version_minor": 0
      },
      "text/plain": [
       "run_leq_node:   0%|          | 0/6 [00:00<?, ?it/s]"
      ]
     },
     "metadata": {},
     "output_type": "display_data"
    },
    {
     "name": "stdout",
     "output_type": "stream",
     "text": [
      "                         vwap      twap      last bar_start_timestamp    minute  twap_ret_0  vwap_ret_0\n",
      "2010-01-04 10:45:00 -2.271779 -2.258225 -2.334598 2010-01-04 10:40:00  21043365    0.020399    0.026587\n",
      "2010-01-04 10:50:00 -2.037235 -2.034910 -1.853107 2010-01-04 10:45:00  21043370   -0.098890   -0.103242\n",
      "2010-01-04 10:55:00 -2.275672 -2.264648 -2.633348 2010-01-04 10:50:00  21043375    0.112898    0.117039\n",
      "now= 2010-01-04 10:56:00\n",
      "now= 2010-01-04 10:57:00\n",
      "now= 2010-01-04 10:58:00\n",
      "now= 2010-01-04 10:59:00\n",
      "now= 2010-01-04 11:00:00\n",
      "Time to execute the DAG\n"
     ]
    },
    {
     "data": {
      "application/vnd.jupyter.widget-view+json": {
       "model_id": "156da24591d44740b4c2436143645f95",
       "version_major": 2,
       "version_minor": 0
      },
      "text/plain": [
       "run_leq_node:   0%|          | 0/6 [00:00<?, ?it/s]"
      ]
     },
     "metadata": {},
     "output_type": "display_data"
    },
    {
     "name": "stdout",
     "output_type": "stream",
     "text": [
      "                         vwap      twap      last bar_start_timestamp    minute  twap_ret_0  vwap_ret_0\n",
      "2010-01-04 10:50:00 -2.037235 -2.034910 -1.853107 2010-01-04 10:45:00  21043370   -0.098890   -0.103242\n",
      "2010-01-04 10:55:00 -2.275672 -2.264648 -2.633348 2010-01-04 10:50:00  21043375    0.112898    0.117039\n",
      "2010-01-04 11:00:00 -2.589084 -2.583082 -2.174026 2010-01-04 10:55:00  21043380    0.140611    0.137723\n",
      "now= 2010-01-04 11:01:00\n",
      "now= 2010-01-04 11:02:00\n",
      "now= 2010-01-04 11:03:00\n",
      "now= 2010-01-04 11:04:00\n",
      "now= 2010-01-04 11:05:00\n",
      "Time to execute the DAG\n"
     ]
    },
    {
     "data": {
      "application/vnd.jupyter.widget-view+json": {
       "model_id": "a870162996fd472eb0228022b9666730",
       "version_major": 2,
       "version_minor": 0
      },
      "text/plain": [
       "run_leq_node:   0%|          | 0/6 [00:00<?, ?it/s]"
      ]
     },
     "metadata": {},
     "output_type": "display_data"
    },
    {
     "name": "stdout",
     "output_type": "stream",
     "text": [
      "                         vwap      twap      last bar_start_timestamp    minute  twap_ret_0  vwap_ret_0\n",
      "2010-01-04 10:55:00 -2.275672 -2.264648 -2.633348 2010-01-04 10:50:00  21043375    0.112898    0.117039\n",
      "2010-01-04 11:00:00 -2.589084 -2.583082 -2.174026 2010-01-04 10:55:00  21043380    0.140611    0.137723\n",
      "2010-01-04 11:05:00 -2.477804 -2.482639 -2.867985 2010-01-04 11:00:00  21043385   -0.038885   -0.042981\n",
      "now= 2010-01-04 11:06:00\n",
      "now= 2010-01-04 11:07:00\n",
      "now= 2010-01-04 11:08:00\n",
      "now= 2010-01-04 11:09:00\n",
      "now= 2010-01-04 11:10:00\n",
      "Time to execute the DAG\n"
     ]
    },
    {
     "data": {
      "application/vnd.jupyter.widget-view+json": {
       "model_id": "5256f15743a44d39af87c0458f1383fb",
       "version_major": 2,
       "version_minor": 0
      },
      "text/plain": [
       "run_leq_node:   0%|          | 0/6 [00:00<?, ?it/s]"
      ]
     },
     "metadata": {},
     "output_type": "display_data"
    },
    {
     "name": "stdout",
     "output_type": "stream",
     "text": [
      "                         vwap      twap      last bar_start_timestamp    minute  twap_ret_0  vwap_ret_0\n",
      "2010-01-04 11:00:00 -2.589084 -2.583082 -2.174026 2010-01-04 10:55:00  21043380    0.140611    0.137723\n",
      "2010-01-04 11:05:00 -2.477804 -2.482639 -2.867985 2010-01-04 11:00:00  21043385   -0.038885   -0.042981\n",
      "2010-01-04 11:10:00 -2.886801 -2.886789 -2.513464 2010-01-04 11:05:00  21043390    0.162790    0.165065\n",
      "now= 2010-01-04 11:11:00\n",
      "now= 2010-01-04 11:12:00\n",
      "now= 2010-01-04 11:13:00\n",
      "now= 2010-01-04 11:14:00\n",
      "now= 2010-01-04 11:15:00\n",
      "Time to execute the DAG\n"
     ]
    },
    {
     "data": {
      "application/vnd.jupyter.widget-view+json": {
       "model_id": "6927713fc0c34739926166659abf3430",
       "version_major": 2,
       "version_minor": 0
      },
      "text/plain": [
       "run_leq_node:   0%|          | 0/6 [00:00<?, ?it/s]"
      ]
     },
     "metadata": {},
     "output_type": "display_data"
    },
    {
     "name": "stdout",
     "output_type": "stream",
     "text": [
      "                         vwap      twap      last bar_start_timestamp    minute  twap_ret_0  vwap_ret_0\n",
      "2010-01-04 11:05:00 -2.477804 -2.482639 -2.867985 2010-01-04 11:00:00  21043385   -0.038885   -0.042981\n",
      "2010-01-04 11:10:00 -2.886801 -2.886789 -2.513464 2010-01-04 11:05:00  21043390    0.162790    0.165065\n",
      "2010-01-04 11:15:00 -2.624860 -2.651344 -2.300735 2010-01-04 11:10:00  21043395   -0.081559   -0.090737\n",
      "now= 2010-01-04 11:16:00\n",
      "now= 2010-01-04 11:17:00\n",
      "now= 2010-01-04 11:18:00\n",
      "now= 2010-01-04 11:19:00\n",
      "now= 2010-01-04 11:20:00\n",
      "Time to execute the DAG\n"
     ]
    },
    {
     "data": {
      "application/vnd.jupyter.widget-view+json": {
       "model_id": "6f3b0565dc4247b9a442961309471d8a",
       "version_major": 2,
       "version_minor": 0
      },
      "text/plain": [
       "run_leq_node:   0%|          | 0/6 [00:00<?, ?it/s]"
      ]
     },
     "metadata": {},
     "output_type": "display_data"
    },
    {
     "name": "stdout",
     "output_type": "stream",
     "text": [
      "                         vwap      twap      last bar_start_timestamp    minute  twap_ret_0  vwap_ret_0\n",
      "2010-01-04 11:10:00 -2.886801 -2.886789 -2.513464 2010-01-04 11:05:00  21043390    0.162790    0.165065\n",
      "2010-01-04 11:15:00 -2.624860 -2.651344 -2.300735 2010-01-04 11:10:00  21043395   -0.081559   -0.090737\n",
      "2010-01-04 11:20:00 -2.195715 -2.195880 -1.864319 2010-01-04 11:15:00  21043400   -0.171786   -0.163493\n",
      "now= 2010-01-04 11:21:00\n",
      "now= 2010-01-04 11:22:00\n",
      "now= 2010-01-04 11:23:00\n",
      "now= 2010-01-04 11:24:00\n",
      "now= 2010-01-04 11:25:00\n",
      "Time to execute the DAG\n"
     ]
    },
    {
     "data": {
      "application/vnd.jupyter.widget-view+json": {
       "model_id": "3d3e858a352c420db08875cd5712d937",
       "version_major": 2,
       "version_minor": 0
      },
      "text/plain": [
       "run_leq_node:   0%|          | 0/6 [00:00<?, ?it/s]"
      ]
     },
     "metadata": {},
     "output_type": "display_data"
    },
    {
     "name": "stdout",
     "output_type": "stream",
     "text": [
      "                         vwap      twap      last bar_start_timestamp    minute  twap_ret_0  vwap_ret_0\n",
      "2010-01-04 11:15:00 -2.624860 -2.651344 -2.300735 2010-01-04 11:10:00  21043395   -0.081559   -0.090737\n",
      "2010-01-04 11:20:00 -2.195715 -2.195880 -1.864319 2010-01-04 11:15:00  21043400   -0.171786   -0.163493\n",
      "2010-01-04 11:25:00 -1.939338 -1.910725 -2.037224 2010-01-04 11:20:00  21043405   -0.129859   -0.116762\n",
      "now= 2010-01-04 11:26:00\n",
      "now= 2010-01-04 11:27:00\n",
      "now= 2010-01-04 11:28:00\n",
      "now= 2010-01-04 11:29:00\n",
      "now= 2010-01-04 11:30:00\n",
      "Time to execute the DAG\n"
     ]
    },
    {
     "data": {
      "application/vnd.jupyter.widget-view+json": {
       "model_id": "dbb55776779c480aa2fabe5771931da3",
       "version_major": 2,
       "version_minor": 0
      },
      "text/plain": [
       "run_leq_node:   0%|          | 0/6 [00:00<?, ?it/s]"
      ]
     },
     "metadata": {},
     "output_type": "display_data"
    },
    {
     "name": "stdout",
     "output_type": "stream",
     "text": [
      "                         vwap      twap      last bar_start_timestamp    minute  twap_ret_0  vwap_ret_0\n",
      "2010-01-04 11:20:00 -2.195715 -2.195880 -1.864319 2010-01-04 11:15:00  21043400   -0.171786   -0.163493\n",
      "2010-01-04 11:25:00 -1.939338 -1.910725 -2.037224 2010-01-04 11:20:00  21043405   -0.129859   -0.116762\n",
      "2010-01-04 11:30:00 -1.894574 -1.952133 -1.696843 2010-01-04 11:25:00  21043410    0.021671   -0.023082\n",
      "now= 2010-01-04 11:31:00\n",
      "now= 2010-01-04 11:32:00\n",
      "now= 2010-01-04 11:33:00\n",
      "now= 2010-01-04 11:34:00\n",
      "now= 2010-01-04 11:35:00\n",
      "Time to execute the DAG\n"
     ]
    },
    {
     "data": {
      "application/vnd.jupyter.widget-view+json": {
       "model_id": "53dd7c32ea034732b8ad1170815618ac",
       "version_major": 2,
       "version_minor": 0
      },
      "text/plain": [
       "run_leq_node:   0%|          | 0/6 [00:00<?, ?it/s]"
      ]
     },
     "metadata": {},
     "output_type": "display_data"
    },
    {
     "name": "stdout",
     "output_type": "stream",
     "text": [
      "                         vwap      twap      last bar_start_timestamp    minute  twap_ret_0  vwap_ret_0\n",
      "2010-01-04 11:25:00 -1.939338 -1.910725 -2.037224 2010-01-04 11:20:00  21043405   -0.129859   -0.116762\n",
      "2010-01-04 11:30:00 -1.894574 -1.952133 -1.696843 2010-01-04 11:25:00  21043410    0.021671   -0.023082\n",
      "2010-01-04 11:35:00 -1.488410 -1.493867 -1.545379 2010-01-04 11:30:00  21043415   -0.234751   -0.214383\n",
      "now= 2010-01-04 11:36:00\n",
      "now= 2010-01-04 11:37:00\n",
      "now= 2010-01-04 11:38:00\n",
      "now= 2010-01-04 11:39:00\n",
      "now= 2010-01-04 11:40:00\n",
      "Time to execute the DAG\n"
     ]
    },
    {
     "data": {
      "application/vnd.jupyter.widget-view+json": {
       "model_id": "aa903583200c4375a7f22c21d19b2cc2",
       "version_major": 2,
       "version_minor": 0
      },
      "text/plain": [
       "run_leq_node:   0%|          | 0/6 [00:00<?, ?it/s]"
      ]
     },
     "metadata": {},
     "output_type": "display_data"
    },
    {
     "name": "stdout",
     "output_type": "stream",
     "text": [
      "                         vwap      twap      last bar_start_timestamp    minute  twap_ret_0  vwap_ret_0\n",
      "2010-01-04 11:30:00 -1.894574 -1.952133 -1.696843 2010-01-04 11:25:00  21043410    0.021671   -0.023082\n",
      "2010-01-04 11:35:00 -1.488410 -1.493867 -1.545379 2010-01-04 11:30:00  21043415   -0.234751   -0.214383\n",
      "2010-01-04 11:40:00 -1.700488 -1.707412 -1.877771 2010-01-04 11:35:00  21043420    0.142948    0.142487\n",
      "now= 2010-01-04 11:41:00\n",
      "now= 2010-01-04 11:42:00\n",
      "now= 2010-01-04 11:43:00\n",
      "now= 2010-01-04 11:44:00\n",
      "now= 2010-01-04 11:45:00\n",
      "Time to execute the DAG\n"
     ]
    },
    {
     "data": {
      "application/vnd.jupyter.widget-view+json": {
       "model_id": "72a21916db044984998d829a38d7936a",
       "version_major": 2,
       "version_minor": 0
      },
      "text/plain": [
       "run_leq_node:   0%|          | 0/6 [00:00<?, ?it/s]"
      ]
     },
     "metadata": {},
     "output_type": "display_data"
    },
    {
     "name": "stdout",
     "output_type": "stream",
     "text": [
      "                         vwap      twap      last bar_start_timestamp    minute  twap_ret_0  vwap_ret_0\n",
      "2010-01-04 11:35:00 -1.488410 -1.493867 -1.545379 2010-01-04 11:30:00  21043415   -0.234751   -0.214383\n",
      "2010-01-04 11:40:00 -1.700488 -1.707412 -1.877771 2010-01-04 11:35:00  21043420    0.142948    0.142487\n",
      "2010-01-04 11:45:00 -1.068814 -1.092246 -1.096858 2010-01-04 11:40:00  21043425   -0.360292   -0.371466\n",
      "now= 2010-01-04 11:46:00\n",
      "now= 2010-01-04 11:47:00\n",
      "now= 2010-01-04 11:48:00\n",
      "now= 2010-01-04 11:49:00\n",
      "now= 2010-01-04 11:50:00\n",
      "Time to execute the DAG\n"
     ]
    },
    {
     "data": {
      "application/vnd.jupyter.widget-view+json": {
       "model_id": "20b2477c65484a10a684e6cfd299170c",
       "version_major": 2,
       "version_minor": 0
      },
      "text/plain": [
       "run_leq_node:   0%|          | 0/6 [00:00<?, ?it/s]"
      ]
     },
     "metadata": {},
     "output_type": "display_data"
    },
    {
     "name": "stdout",
     "output_type": "stream",
     "text": [
      "                         vwap      twap      last bar_start_timestamp    minute  twap_ret_0  vwap_ret_0\n",
      "2010-01-04 11:40:00 -1.700488 -1.707412 -1.877771 2010-01-04 11:35:00  21043420    0.142948    0.142487\n",
      "2010-01-04 11:45:00 -1.068814 -1.092246 -1.096858 2010-01-04 11:40:00  21043425   -0.360292   -0.371466\n",
      "2010-01-04 11:50:00 -0.981089 -0.966698 -0.983114 2010-01-04 11:45:00  21043430   -0.114945   -0.082077\n",
      "now= 2010-01-04 11:51:00\n",
      "now= 2010-01-04 11:52:00\n",
      "now= 2010-01-04 11:53:00\n",
      "now= 2010-01-04 11:54:00\n",
      "now= 2010-01-04 11:55:00\n",
      "Time to execute the DAG\n"
     ]
    },
    {
     "data": {
      "application/vnd.jupyter.widget-view+json": {
       "model_id": "ff1f9737d98d4f96b9b1c91ad941010d",
       "version_major": 2,
       "version_minor": 0
      },
      "text/plain": [
       "run_leq_node:   0%|          | 0/6 [00:00<?, ?it/s]"
      ]
     },
     "metadata": {},
     "output_type": "display_data"
    },
    {
     "name": "stdout",
     "output_type": "stream",
     "text": [
      "                         vwap      twap      last bar_start_timestamp    minute  twap_ret_0  vwap_ret_0\n",
      "2010-01-04 11:45:00 -1.068814 -1.092246 -1.096858 2010-01-04 11:40:00  21043425   -0.360292   -0.371466\n",
      "2010-01-04 11:50:00 -0.981089 -0.966698 -0.983114 2010-01-04 11:45:00  21043430   -0.114945   -0.082077\n",
      "2010-01-04 11:55:00 -1.190833 -1.191343 -1.149764 2010-01-04 11:50:00  21043435    0.232384    0.213787\n",
      "now= 2010-01-04 11:56:00\n",
      "now= 2010-01-04 11:57:00\n",
      "now= 2010-01-04 11:58:00\n",
      "now= 2010-01-04 11:59:00\n",
      "now= 2010-01-04 12:00:00\n",
      "Time to execute the DAG\n"
     ]
    },
    {
     "data": {
      "application/vnd.jupyter.widget-view+json": {
       "model_id": "30bda10c34ed47b2b108db5d1b3032e9",
       "version_major": 2,
       "version_minor": 0
      },
      "text/plain": [
       "run_leq_node:   0%|          | 0/6 [00:00<?, ?it/s]"
      ]
     },
     "metadata": {},
     "output_type": "display_data"
    },
    {
     "name": "stdout",
     "output_type": "stream",
     "text": [
      "                         vwap      twap      last bar_start_timestamp    minute  twap_ret_0  vwap_ret_0\n",
      "2010-01-04 11:50:00 -0.981089 -0.966698 -0.983114 2010-01-04 11:45:00  21043430   -0.114945   -0.082077\n",
      "2010-01-04 11:55:00 -1.190833 -1.191343 -1.149764 2010-01-04 11:50:00  21043435    0.232384    0.213787\n",
      "2010-01-04 12:00:00 -1.568345 -1.599207 -2.072236 2010-01-04 11:55:00  21043440    0.342356    0.317015\n",
      "now= 2010-01-04 12:01:00\n",
      "now= 2010-01-04 12:02:00\n",
      "now= 2010-01-04 12:03:00\n",
      "now= 2010-01-04 12:04:00\n",
      "now= 2010-01-04 12:05:00\n",
      "Time to execute the DAG\n"
     ]
    },
    {
     "data": {
      "application/vnd.jupyter.widget-view+json": {
       "model_id": "7dc3d111b9434d8d8d68902a2ffc0a39",
       "version_major": 2,
       "version_minor": 0
      },
      "text/plain": [
       "run_leq_node:   0%|          | 0/6 [00:00<?, ?it/s]"
      ]
     },
     "metadata": {},
     "output_type": "display_data"
    },
    {
     "name": "stdout",
     "output_type": "stream",
     "text": [
      "                         vwap      twap      last bar_start_timestamp    minute  twap_ret_0  vwap_ret_0\n",
      "2010-01-04 11:55:00 -1.190833 -1.191343 -1.149764 2010-01-04 11:50:00  21043435    0.232384    0.213787\n",
      "2010-01-04 12:00:00 -1.568345 -1.599207 -2.072236 2010-01-04 11:55:00  21043440    0.342356    0.317015\n",
      "2010-01-04 12:05:00 -2.239355 -2.219957 -2.110634 2010-01-04 12:00:00  21043445    0.388161    0.427846\n",
      "now= 2010-01-04 12:06:00\n",
      "now= 2010-01-04 12:07:00\n",
      "now= 2010-01-04 12:08:00\n",
      "now= 2010-01-04 12:09:00\n",
      "now= 2010-01-04 12:10:00\n",
      "Time to execute the DAG\n"
     ]
    },
    {
     "data": {
      "application/vnd.jupyter.widget-view+json": {
       "model_id": "4ce7446b18094190bb1e8f08ce94e452",
       "version_major": 2,
       "version_minor": 0
      },
      "text/plain": [
       "run_leq_node:   0%|          | 0/6 [00:00<?, ?it/s]"
      ]
     },
     "metadata": {},
     "output_type": "display_data"
    },
    {
     "name": "stdout",
     "output_type": "stream",
     "text": [
      "                         vwap      twap      last bar_start_timestamp    minute  twap_ret_0  vwap_ret_0\n",
      "2010-01-04 12:00:00 -1.568345 -1.599207 -2.072236 2010-01-04 11:55:00  21043440    0.342356    0.317015\n",
      "2010-01-04 12:05:00 -2.239355 -2.219957 -2.110634 2010-01-04 12:00:00  21043445    0.388161    0.427846\n",
      "2010-01-04 12:10:00 -1.789540 -1.794978 -1.812852 2010-01-04 12:05:00  21043450   -0.191436   -0.200868\n",
      "now= 2010-01-04 12:11:00\n",
      "now= 2010-01-04 12:12:00\n",
      "now= 2010-01-04 12:13:00\n",
      "now= 2010-01-04 12:14:00\n",
      "now= 2010-01-04 12:15:00\n",
      "Time to execute the DAG\n"
     ]
    },
    {
     "data": {
      "application/vnd.jupyter.widget-view+json": {
       "model_id": "61bd0e7ff32b4093a6e1c16b6e6900fa",
       "version_major": 2,
       "version_minor": 0
      },
      "text/plain": [
       "run_leq_node:   0%|          | 0/6 [00:00<?, ?it/s]"
      ]
     },
     "metadata": {},
     "output_type": "display_data"
    },
    {
     "name": "stdout",
     "output_type": "stream",
     "text": [
      "                         vwap      twap      last bar_start_timestamp    minute  twap_ret_0  vwap_ret_0\n",
      "2010-01-04 12:05:00 -2.239355 -2.219957 -2.110634 2010-01-04 12:00:00  21043445    0.388161    0.427846\n",
      "2010-01-04 12:10:00 -1.789540 -1.794978 -1.812852 2010-01-04 12:05:00  21043450   -0.191436   -0.200868\n",
      "2010-01-04 12:15:00 -1.029463 -1.089967 -0.777961 2010-01-04 12:10:00  21043455   -0.392769   -0.424733\n",
      "now= 2010-01-04 12:16:00\n",
      "now= 2010-01-04 12:17:00\n",
      "now= 2010-01-04 12:18:00\n",
      "now= 2010-01-04 12:19:00\n",
      "now= 2010-01-04 12:20:00\n",
      "Time to execute the DAG\n"
     ]
    },
    {
     "data": {
      "application/vnd.jupyter.widget-view+json": {
       "model_id": "4c42210b12224acc9e772eeeff8f4151",
       "version_major": 2,
       "version_minor": 0
      },
      "text/plain": [
       "run_leq_node:   0%|          | 0/6 [00:00<?, ?it/s]"
      ]
     },
     "metadata": {},
     "output_type": "display_data"
    },
    {
     "name": "stdout",
     "output_type": "stream",
     "text": [
      "                         vwap      twap      last bar_start_timestamp    minute  twap_ret_0  vwap_ret_0\n",
      "2010-01-04 12:10:00 -1.789540 -1.794978 -1.812852 2010-01-04 12:05:00  21043450   -0.191436   -0.200868\n",
      "2010-01-04 12:15:00 -1.029463 -1.089967 -0.777961 2010-01-04 12:10:00  21043455   -0.392769   -0.424733\n",
      "2010-01-04 12:20:00 -0.298546 -0.274003 -0.311899 2010-01-04 12:15:00  21043460   -0.748613   -0.709998\n",
      "now= 2010-01-04 12:21:00\n",
      "now= 2010-01-04 12:22:00\n",
      "now= 2010-01-04 12:23:00\n",
      "now= 2010-01-04 12:24:00\n",
      "now= 2010-01-04 12:25:00\n",
      "Time to execute the DAG\n"
     ]
    },
    {
     "data": {
      "application/vnd.jupyter.widget-view+json": {
       "model_id": "eb54ceb4997b4f90b861a5cc65321fdc",
       "version_major": 2,
       "version_minor": 0
      },
      "text/plain": [
       "run_leq_node:   0%|          | 0/6 [00:00<?, ?it/s]"
      ]
     },
     "metadata": {},
     "output_type": "display_data"
    },
    {
     "name": "stdout",
     "output_type": "stream",
     "text": [
      "                         vwap      twap      last bar_start_timestamp    minute  twap_ret_0  vwap_ret_0\n",
      "2010-01-04 12:15:00 -1.029463 -1.089967 -0.777961 2010-01-04 12:10:00  21043455   -0.392769   -0.424733\n",
      "2010-01-04 12:20:00 -0.298546 -0.274003 -0.311899 2010-01-04 12:15:00  21043460   -0.748613   -0.709998\n",
      "2010-01-04 12:25:00 -1.142144 -1.184251 -1.555222 2010-01-04 12:20:00  21043465    3.322030    2.825686\n",
      "now= 2010-01-04 12:26:00\n",
      "now= 2010-01-04 12:27:00\n",
      "now= 2010-01-04 12:28:00\n",
      "now= 2010-01-04 12:29:00\n",
      "now= 2010-01-04 12:30:00\n",
      "Time to execute the DAG\n"
     ]
    },
    {
     "data": {
      "application/vnd.jupyter.widget-view+json": {
       "model_id": "d7832187940f46baaaee3bc9d34a885c",
       "version_major": 2,
       "version_minor": 0
      },
      "text/plain": [
       "run_leq_node:   0%|          | 0/6 [00:00<?, ?it/s]"
      ]
     },
     "metadata": {},
     "output_type": "display_data"
    },
    {
     "name": "stdout",
     "output_type": "stream",
     "text": [
      "                         vwap      twap      last bar_start_timestamp    minute  twap_ret_0  vwap_ret_0\n",
      "2010-01-04 12:20:00 -0.298546 -0.274003 -0.311899 2010-01-04 12:15:00  21043460   -0.748613   -0.709998\n",
      "2010-01-04 12:25:00 -1.142144 -1.184251 -1.555222 2010-01-04 12:20:00  21043465    3.322030    2.825686\n",
      "2010-01-04 12:30:00 -1.317832 -1.313939 -1.088832 2010-01-04 12:25:00  21043470    0.109510    0.153823\n",
      "now= 2010-01-04 12:31:00\n",
      "now= 2010-01-04 12:32:00\n",
      "now= 2010-01-04 12:33:00\n",
      "now= 2010-01-04 12:34:00\n",
      "now= 2010-01-04 12:35:00\n",
      "Time to execute the DAG\n"
     ]
    },
    {
     "data": {
      "application/vnd.jupyter.widget-view+json": {
       "model_id": "eb7df56770ad4369b488a20ef4245aff",
       "version_major": 2,
       "version_minor": 0
      },
      "text/plain": [
       "run_leq_node:   0%|          | 0/6 [00:00<?, ?it/s]"
      ]
     },
     "metadata": {},
     "output_type": "display_data"
    },
    {
     "name": "stdout",
     "output_type": "stream",
     "text": [
      "                         vwap      twap      last bar_start_timestamp    minute  twap_ret_0  vwap_ret_0\n",
      "2010-01-04 12:25:00 -1.142144 -1.184251 -1.555222 2010-01-04 12:20:00  21043465    3.322030    2.825686\n",
      "2010-01-04 12:30:00 -1.317832 -1.313939 -1.088832 2010-01-04 12:25:00  21043470    0.109510    0.153823\n",
      "2010-01-04 12:35:00 -1.574852 -0.977664 -1.515054 2010-01-04 12:30:00  21043475   -0.255929    0.195032\n",
      "now= 2010-01-04 12:36:00\n",
      "now= 2010-01-04 12:37:00\n",
      "now= 2010-01-04 12:38:00\n",
      "now= 2010-01-04 12:39:00\n",
      "now= 2010-01-04 12:40:00\n",
      "Time to execute the DAG\n"
     ]
    },
    {
     "data": {
      "application/vnd.jupyter.widget-view+json": {
       "model_id": "e737a8d4e7f94236803cdbb7e67f2fb7",
       "version_major": 2,
       "version_minor": 0
      },
      "text/plain": [
       "run_leq_node:   0%|          | 0/6 [00:00<?, ?it/s]"
      ]
     },
     "metadata": {},
     "output_type": "display_data"
    },
    {
     "name": "stdout",
     "output_type": "stream",
     "text": [
      "                         vwap      twap      last bar_start_timestamp    minute  twap_ret_0  vwap_ret_0\n",
      "2010-01-04 12:30:00 -1.317832 -1.313939 -1.088832 2010-01-04 12:25:00  21043470    0.109510    0.153823\n",
      "2010-01-04 12:35:00 -1.574852 -0.977664 -1.515054 2010-01-04 12:30:00  21043475   -0.255929    0.195032\n",
      "2010-01-04 12:40:00 -2.211708 -1.918719 -1.655434 2010-01-04 12:35:00  21043480    0.962554    0.404391\n",
      "now= 2010-01-04 12:41:00\n",
      "now= 2010-01-04 12:42:00\n",
      "now= 2010-01-04 12:43:00\n",
      "now= 2010-01-04 12:44:00\n",
      "now= 2010-01-04 12:45:00\n",
      "Time to execute the DAG\n"
     ]
    },
    {
     "data": {
      "application/vnd.jupyter.widget-view+json": {
       "model_id": "9e44ab0d61ff400fa8c22f4402bea56d",
       "version_major": 2,
       "version_minor": 0
      },
      "text/plain": [
       "run_leq_node:   0%|          | 0/6 [00:00<?, ?it/s]"
      ]
     },
     "metadata": {},
     "output_type": "display_data"
    },
    {
     "name": "stdout",
     "output_type": "stream",
     "text": [
      "                         vwap      twap      last bar_start_timestamp    minute  twap_ret_0  vwap_ret_0\n",
      "2010-01-04 12:35:00 -1.574852 -0.977664 -1.515054 2010-01-04 12:30:00  21043475   -0.255929    0.195032\n",
      "2010-01-04 12:40:00 -2.211708 -1.918719 -1.655434 2010-01-04 12:35:00  21043480    0.962554    0.404391\n",
      "2010-01-04 12:45:00 -1.523026 -1.613866 -1.345058 2010-01-04 12:40:00  21043485   -0.158884   -0.311380\n",
      "now= 2010-01-04 12:46:00\n",
      "now= 2010-01-04 12:47:00\n",
      "now= 2010-01-04 12:48:00\n",
      "now= 2010-01-04 12:49:00\n",
      "now= 2010-01-04 12:50:00\n",
      "Time to execute the DAG\n"
     ]
    },
    {
     "data": {
      "application/vnd.jupyter.widget-view+json": {
       "model_id": "e04c490fbe894dfcbc35cfa2caa16be3",
       "version_major": 2,
       "version_minor": 0
      },
      "text/plain": [
       "run_leq_node:   0%|          | 0/6 [00:00<?, ?it/s]"
      ]
     },
     "metadata": {},
     "output_type": "display_data"
    },
    {
     "name": "stdout",
     "output_type": "stream",
     "text": [
      "                         vwap      twap      last bar_start_timestamp    minute  twap_ret_0  vwap_ret_0\n",
      "2010-01-04 12:40:00 -2.211708 -1.918719 -1.655434 2010-01-04 12:35:00  21043480    0.962554    0.404391\n",
      "2010-01-04 12:45:00 -1.523026 -1.613866 -1.345058 2010-01-04 12:40:00  21043485   -0.158884   -0.311380\n",
      "2010-01-04 12:50:00 -1.787110 -1.814781 -1.894745 2010-01-04 12:45:00  21043490    0.124493    0.173394\n",
      "now= 2010-01-04 12:51:00\n",
      "now= 2010-01-04 12:52:00\n",
      "now= 2010-01-04 12:53:00\n",
      "now= 2010-01-04 12:54:00\n",
      "now= 2010-01-04 12:55:00\n",
      "Time to execute the DAG\n"
     ]
    },
    {
     "data": {
      "application/vnd.jupyter.widget-view+json": {
       "model_id": "b690d2560c3e4c318950ef5a1851bb0d",
       "version_major": 2,
       "version_minor": 0
      },
      "text/plain": [
       "run_leq_node:   0%|          | 0/6 [00:00<?, ?it/s]"
      ]
     },
     "metadata": {},
     "output_type": "display_data"
    },
    {
     "name": "stdout",
     "output_type": "stream",
     "text": [
      "                         vwap      twap      last bar_start_timestamp    minute  twap_ret_0  vwap_ret_0\n",
      "2010-01-04 12:45:00 -1.523026 -1.613866 -1.345058 2010-01-04 12:40:00  21043485   -0.158884   -0.311380\n",
      "2010-01-04 12:50:00 -1.787110 -1.814781 -1.894745 2010-01-04 12:45:00  21043490    0.124493    0.173394\n",
      "2010-01-04 12:55:00 -2.182288 -2.190247 -2.493932 2010-01-04 12:50:00  21043495    0.206894    0.221127\n",
      "now= 2010-01-04 12:56:00\n",
      "now= 2010-01-04 12:57:00\n",
      "now= 2010-01-04 12:58:00\n",
      "now= 2010-01-04 12:59:00\n",
      "now= 2010-01-04 13:00:00\n",
      "Time to execute the DAG\n"
     ]
    },
    {
     "data": {
      "application/vnd.jupyter.widget-view+json": {
       "model_id": "ffbeb9a55f054f8c86c9aaaa2bfed388",
       "version_major": 2,
       "version_minor": 0
      },
      "text/plain": [
       "run_leq_node:   0%|          | 0/6 [00:00<?, ?it/s]"
      ]
     },
     "metadata": {},
     "output_type": "display_data"
    },
    {
     "name": "stdout",
     "output_type": "stream",
     "text": [
      "                         vwap      twap      last bar_start_timestamp    minute  twap_ret_0  vwap_ret_0\n",
      "2010-01-04 12:50:00 -1.787110 -1.814781 -1.894745 2010-01-04 12:45:00  21043490    0.124493    0.173394\n",
      "2010-01-04 12:55:00 -2.182288 -2.190247 -2.493932 2010-01-04 12:50:00  21043495    0.206894    0.221127\n",
      "2010-01-04 13:00:00 -1.980038 -2.015595 -2.197999 2010-01-04 12:55:00  21043500   -0.079741   -0.092678\n",
      "now= 2010-01-04 13:01:00\n",
      "now= 2010-01-04 13:02:00\n",
      "now= 2010-01-04 13:03:00\n",
      "now= 2010-01-04 13:04:00\n",
      "now= 2010-01-04 13:05:00\n",
      "Time to execute the DAG\n"
     ]
    },
    {
     "data": {
      "application/vnd.jupyter.widget-view+json": {
       "model_id": "462a3179671440dca2810962f39f77e3",
       "version_major": 2,
       "version_minor": 0
      },
      "text/plain": [
       "run_leq_node:   0%|          | 0/6 [00:00<?, ?it/s]"
      ]
     },
     "metadata": {},
     "output_type": "display_data"
    },
    {
     "name": "stdout",
     "output_type": "stream",
     "text": [
      "                         vwap      twap      last bar_start_timestamp    minute  twap_ret_0  vwap_ret_0\n",
      "2010-01-04 12:55:00 -2.182288 -2.190247 -2.493932 2010-01-04 12:50:00  21043495    0.206894    0.221127\n",
      "2010-01-04 13:00:00 -1.980038 -2.015595 -2.197999 2010-01-04 12:55:00  21043500   -0.079741   -0.092678\n",
      "2010-01-04 13:05:00 -2.620910 -2.640229 -2.474055 2010-01-04 13:00:00  21043505    0.309900    0.323667\n",
      "now= 2010-01-04 13:06:00\n",
      "now= 2010-01-04 13:07:00\n",
      "now= 2010-01-04 13:08:00\n",
      "now= 2010-01-04 13:09:00\n",
      "now= 2010-01-04 13:10:00\n",
      "Time to execute the DAG\n"
     ]
    },
    {
     "data": {
      "application/vnd.jupyter.widget-view+json": {
       "model_id": "5610341460504a72a47d193e944f1871",
       "version_major": 2,
       "version_minor": 0
      },
      "text/plain": [
       "run_leq_node:   0%|          | 0/6 [00:00<?, ?it/s]"
      ]
     },
     "metadata": {},
     "output_type": "display_data"
    },
    {
     "name": "stdout",
     "output_type": "stream",
     "text": [
      "                         vwap      twap      last bar_start_timestamp    minute  twap_ret_0  vwap_ret_0\n",
      "2010-01-04 13:00:00 -1.980038 -2.015595 -2.197999 2010-01-04 12:55:00  21043500   -0.079741   -0.092678\n",
      "2010-01-04 13:05:00 -2.620910 -2.640229 -2.474055 2010-01-04 13:00:00  21043505    0.309900    0.323667\n",
      "2010-01-04 13:10:00 -2.181824 -2.183555 -2.231938 2010-01-04 13:05:00  21043510   -0.172967   -0.167532\n",
      "now= 2010-01-04 13:11:00\n",
      "now= 2010-01-04 13:12:00\n",
      "now= 2010-01-04 13:13:00\n",
      "now= 2010-01-04 13:14:00\n",
      "now= 2010-01-04 13:15:00\n",
      "Time to execute the DAG\n"
     ]
    },
    {
     "data": {
      "application/vnd.jupyter.widget-view+json": {
       "model_id": "ff9bb00b76d342b0a291bff6ef5da3bf",
       "version_major": 2,
       "version_minor": 0
      },
      "text/plain": [
       "run_leq_node:   0%|          | 0/6 [00:00<?, ?it/s]"
      ]
     },
     "metadata": {},
     "output_type": "display_data"
    },
    {
     "name": "stdout",
     "output_type": "stream",
     "text": [
      "                         vwap      twap      last bar_start_timestamp    minute  twap_ret_0  vwap_ret_0\n",
      "2010-01-04 13:05:00 -2.620910 -2.640229 -2.474055 2010-01-04 13:00:00  21043505    0.309900    0.323667\n",
      "2010-01-04 13:10:00 -2.181824 -2.183555 -2.231938 2010-01-04 13:05:00  21043510   -0.172967   -0.167532\n",
      "2010-01-04 13:15:00 -2.402846 -2.415765 -2.778322 2010-01-04 13:10:00  21043515    0.106345    0.101302\n",
      "now= 2010-01-04 13:16:00\n",
      "now= 2010-01-04 13:17:00\n",
      "now= 2010-01-04 13:18:00\n",
      "now= 2010-01-04 13:19:00\n",
      "now= 2010-01-04 13:20:00\n",
      "Time to execute the DAG\n"
     ]
    },
    {
     "data": {
      "application/vnd.jupyter.widget-view+json": {
       "model_id": "fa52c872a94f427f9dccccb5b0fa06bd",
       "version_major": 2,
       "version_minor": 0
      },
      "text/plain": [
       "run_leq_node:   0%|          | 0/6 [00:00<?, ?it/s]"
      ]
     },
     "metadata": {},
     "output_type": "display_data"
    },
    {
     "name": "stdout",
     "output_type": "stream",
     "text": [
      "                         vwap      twap      last bar_start_timestamp    minute  twap_ret_0  vwap_ret_0\n",
      "2010-01-04 13:10:00 -2.181824 -2.183555 -2.231938 2010-01-04 13:05:00  21043510   -0.172967   -0.167532\n",
      "2010-01-04 13:15:00 -2.402846 -2.415765 -2.778322 2010-01-04 13:10:00  21043515    0.106345    0.101302\n",
      "2010-01-04 13:20:00 -3.060272 -3.067771 -2.591819 2010-01-04 13:15:00  21043520    0.269896    0.273603\n",
      "now= 2010-01-04 13:21:00\n",
      "now= 2010-01-04 13:22:00\n",
      "now= 2010-01-04 13:23:00\n",
      "now= 2010-01-04 13:24:00\n",
      "now= 2010-01-04 13:25:00\n",
      "Time to execute the DAG\n"
     ]
    },
    {
     "data": {
      "application/vnd.jupyter.widget-view+json": {
       "model_id": "c16afaef799644caa67c905fa84dd06c",
       "version_major": 2,
       "version_minor": 0
      },
      "text/plain": [
       "run_leq_node:   0%|          | 0/6 [00:00<?, ?it/s]"
      ]
     },
     "metadata": {},
     "output_type": "display_data"
    },
    {
     "name": "stdout",
     "output_type": "stream",
     "text": [
      "                         vwap      twap      last bar_start_timestamp    minute  twap_ret_0  vwap_ret_0\n",
      "2010-01-04 13:15:00 -2.402846 -2.415765 -2.778322 2010-01-04 13:10:00  21043515    0.106345    0.101302\n",
      "2010-01-04 13:20:00 -3.060272 -3.067771 -2.591819 2010-01-04 13:15:00  21043520    0.269896    0.273603\n",
      "2010-01-04 13:25:00 -2.821269 -2.739457 -2.721130 2010-01-04 13:20:00  21043525   -0.107020   -0.078099\n",
      "now= 2010-01-04 13:26:00\n",
      "now= 2010-01-04 13:27:00\n",
      "now= 2010-01-04 13:28:00\n",
      "now= 2010-01-04 13:29:00\n",
      "now= 2010-01-04 13:30:00\n",
      "Time to execute the DAG\n"
     ]
    },
    {
     "data": {
      "application/vnd.jupyter.widget-view+json": {
       "model_id": "305b20f6d66f45fb8b148612482da10e",
       "version_major": 2,
       "version_minor": 0
      },
      "text/plain": [
       "run_leq_node:   0%|          | 0/6 [00:00<?, ?it/s]"
      ]
     },
     "metadata": {},
     "output_type": "display_data"
    },
    {
     "name": "stdout",
     "output_type": "stream",
     "text": [
      "                         vwap      twap      last bar_start_timestamp    minute  twap_ret_0  vwap_ret_0\n",
      "2010-01-04 13:20:00 -3.060272 -3.067771 -2.591819 2010-01-04 13:15:00  21043520    0.269896    0.273603\n",
      "2010-01-04 13:25:00 -2.821269 -2.739457 -2.721130 2010-01-04 13:20:00  21043525   -0.107020   -0.078099\n",
      "2010-01-04 13:30:00 -2.632802 -2.604587 -3.163243 2010-01-04 13:25:00  21043530   -0.049232   -0.066802\n",
      "now= 2010-01-04 13:31:00\n",
      "now= 2010-01-04 13:32:00\n",
      "now= 2010-01-04 13:33:00\n",
      "now= 2010-01-04 13:34:00\n",
      "now= 2010-01-04 13:35:00\n",
      "Time to execute the DAG\n"
     ]
    },
    {
     "data": {
      "application/vnd.jupyter.widget-view+json": {
       "model_id": "e0b0c4f685eb4ddebb094724a135751c",
       "version_major": 2,
       "version_minor": 0
      },
      "text/plain": [
       "run_leq_node:   0%|          | 0/6 [00:00<?, ?it/s]"
      ]
     },
     "metadata": {},
     "output_type": "display_data"
    },
    {
     "name": "stdout",
     "output_type": "stream",
     "text": [
      "                         vwap      twap      last bar_start_timestamp    minute  twap_ret_0  vwap_ret_0\n",
      "2010-01-04 13:25:00 -2.821269 -2.739457 -2.721130 2010-01-04 13:20:00  21043525   -0.107020   -0.078099\n",
      "2010-01-04 13:30:00 -2.632802 -2.604587 -3.163243 2010-01-04 13:25:00  21043530   -0.049232   -0.066802\n",
      "2010-01-04 13:35:00 -3.332057 -3.331315 -3.508913 2010-01-04 13:30:00  21043535    0.279018    0.265593\n",
      "now= 2010-01-04 13:36:00\n",
      "now= 2010-01-04 13:37:00\n",
      "now= 2010-01-04 13:38:00\n",
      "now= 2010-01-04 13:39:00\n",
      "now= 2010-01-04 13:40:00\n",
      "Time to execute the DAG\n"
     ]
    },
    {
     "data": {
      "application/vnd.jupyter.widget-view+json": {
       "model_id": "66b866cc284a4bbfa711ddc6e58d8386",
       "version_major": 2,
       "version_minor": 0
      },
      "text/plain": [
       "run_leq_node:   0%|          | 0/6 [00:00<?, ?it/s]"
      ]
     },
     "metadata": {},
     "output_type": "display_data"
    },
    {
     "name": "stdout",
     "output_type": "stream",
     "text": [
      "                         vwap      twap      last bar_start_timestamp    minute  twap_ret_0  vwap_ret_0\n",
      "2010-01-04 13:30:00 -2.632802 -2.604587 -3.163243 2010-01-04 13:25:00  21043530   -0.049232   -0.066802\n",
      "2010-01-04 13:35:00 -3.332057 -3.331315 -3.508913 2010-01-04 13:30:00  21043535    0.279018    0.265593\n",
      "2010-01-04 13:40:00 -2.864628 -2.874110 -2.536288 2010-01-04 13:35:00  21043540   -0.137244   -0.140282\n",
      "now= 2010-01-04 13:41:00\n",
      "now= 2010-01-04 13:42:00\n",
      "now= 2010-01-04 13:43:00\n",
      "now= 2010-01-04 13:44:00\n",
      "now= 2010-01-04 13:45:00\n",
      "Time to execute the DAG\n"
     ]
    },
    {
     "data": {
      "application/vnd.jupyter.widget-view+json": {
       "model_id": "f6c806074dca45be8008529942f8f314",
       "version_major": 2,
       "version_minor": 0
      },
      "text/plain": [
       "run_leq_node:   0%|          | 0/6 [00:00<?, ?it/s]"
      ]
     },
     "metadata": {},
     "output_type": "display_data"
    },
    {
     "name": "stdout",
     "output_type": "stream",
     "text": [
      "                         vwap      twap      last bar_start_timestamp    minute  twap_ret_0  vwap_ret_0\n",
      "2010-01-04 13:35:00 -3.332057 -3.331315 -3.508913 2010-01-04 13:30:00  21043535    0.279018    0.265593\n",
      "2010-01-04 13:40:00 -2.864628 -2.874110 -2.536288 2010-01-04 13:35:00  21043540   -0.137244   -0.140282\n",
      "2010-01-04 13:45:00 -2.959907 -2.988092 -2.599579 2010-01-04 13:40:00  21043545    0.039658    0.033260\n",
      "now= 2010-01-04 13:46:00\n",
      "now= 2010-01-04 13:47:00\n",
      "now= 2010-01-04 13:48:00\n",
      "now= 2010-01-04 13:49:00\n",
      "now= 2010-01-04 13:50:00\n",
      "Time to execute the DAG\n"
     ]
    },
    {
     "data": {
      "application/vnd.jupyter.widget-view+json": {
       "model_id": "412d67ee11bb413289fd99801238c1ec",
       "version_major": 2,
       "version_minor": 0
      },
      "text/plain": [
       "run_leq_node:   0%|          | 0/6 [00:00<?, ?it/s]"
      ]
     },
     "metadata": {},
     "output_type": "display_data"
    },
    {
     "name": "stdout",
     "output_type": "stream",
     "text": [
      "                         vwap      twap      last bar_start_timestamp    minute  twap_ret_0  vwap_ret_0\n",
      "2010-01-04 13:40:00 -2.864628 -2.874110 -2.536288 2010-01-04 13:35:00  21043540   -0.137244   -0.140282\n",
      "2010-01-04 13:45:00 -2.959907 -2.988092 -2.599579 2010-01-04 13:40:00  21043545    0.039658    0.033260\n",
      "2010-01-04 13:50:00 -2.004333 -2.038463 -1.748568 2010-01-04 13:45:00  21043550   -0.317804   -0.322839\n",
      "now= 2010-01-04 13:51:00\n",
      "now= 2010-01-04 13:52:00\n",
      "now= 2010-01-04 13:53:00\n",
      "now= 2010-01-04 13:54:00\n",
      "now= 2010-01-04 13:55:00\n",
      "Time to execute the DAG\n"
     ]
    },
    {
     "data": {
      "application/vnd.jupyter.widget-view+json": {
       "model_id": "aa2f6b555c194a92a810abb30ac3a84c",
       "version_major": 2,
       "version_minor": 0
      },
      "text/plain": [
       "run_leq_node:   0%|          | 0/6 [00:00<?, ?it/s]"
      ]
     },
     "metadata": {},
     "output_type": "display_data"
    },
    {
     "name": "stdout",
     "output_type": "stream",
     "text": [
      "                         vwap      twap      last bar_start_timestamp    minute  twap_ret_0  vwap_ret_0\n",
      "2010-01-04 13:45:00 -2.959907 -2.988092 -2.599579 2010-01-04 13:40:00  21043545    0.039658    0.033260\n",
      "2010-01-04 13:50:00 -2.004333 -2.038463 -1.748568 2010-01-04 13:45:00  21043550   -0.317804   -0.322839\n",
      "2010-01-04 13:55:00 -2.194123 -2.193119 -2.606343 2010-01-04 13:50:00  21043555    0.075869    0.094690\n",
      "now= 2010-01-04 13:56:00\n",
      "now= 2010-01-04 13:57:00\n",
      "now= 2010-01-04 13:58:00\n",
      "now= 2010-01-04 13:59:00\n",
      "now= 2010-01-04 14:00:00\n",
      "Time to execute the DAG\n"
     ]
    },
    {
     "data": {
      "application/vnd.jupyter.widget-view+json": {
       "model_id": "5110cd330f9044a3a8a9674f816ec4e3",
       "version_major": 2,
       "version_minor": 0
      },
      "text/plain": [
       "run_leq_node:   0%|          | 0/6 [00:00<?, ?it/s]"
      ]
     },
     "metadata": {},
     "output_type": "display_data"
    },
    {
     "name": "stdout",
     "output_type": "stream",
     "text": [
      "                         vwap      twap      last bar_start_timestamp    minute  twap_ret_0  vwap_ret_0\n",
      "2010-01-04 13:50:00 -2.004333 -2.038463 -1.748568 2010-01-04 13:45:00  21043550   -0.317804   -0.322839\n",
      "2010-01-04 13:55:00 -2.194123 -2.193119 -2.606343 2010-01-04 13:50:00  21043555    0.075869    0.094690\n",
      "2010-01-04 14:00:00 -2.789627 -2.790755 -2.683204 2010-01-04 13:55:00  21043560    0.272505    0.271409\n",
      "now= 2010-01-04 14:01:00\n",
      "now= 2010-01-04 14:02:00\n",
      "now= 2010-01-04 14:03:00\n",
      "now= 2010-01-04 14:04:00\n",
      "now= 2010-01-04 14:05:00\n",
      "Time to execute the DAG\n"
     ]
    },
    {
     "data": {
      "application/vnd.jupyter.widget-view+json": {
       "model_id": "553ab1034cf34ad28630ec43ff7482cf",
       "version_major": 2,
       "version_minor": 0
      },
      "text/plain": [
       "run_leq_node:   0%|          | 0/6 [00:00<?, ?it/s]"
      ]
     },
     "metadata": {},
     "output_type": "display_data"
    },
    {
     "name": "stdout",
     "output_type": "stream",
     "text": [
      "                         vwap      twap      last bar_start_timestamp    minute  twap_ret_0  vwap_ret_0\n",
      "2010-01-04 13:55:00 -2.194123 -2.193119 -2.606343 2010-01-04 13:50:00  21043555    0.075869    0.094690\n",
      "2010-01-04 14:00:00 -2.789627 -2.790755 -2.683204 2010-01-04 13:55:00  21043560    0.272505    0.271409\n",
      "2010-01-04 14:05:00 -1.865288 -1.848762 -1.674519 2010-01-04 14:00:00  21043565   -0.337541   -0.331349\n",
      "now= 2010-01-04 14:06:00\n",
      "now= 2010-01-04 14:07:00\n",
      "now= 2010-01-04 14:08:00\n",
      "now= 2010-01-04 14:09:00\n",
      "now= 2010-01-04 14:10:00\n",
      "Time to execute the DAG\n"
     ]
    },
    {
     "data": {
      "application/vnd.jupyter.widget-view+json": {
       "model_id": "d8f853ee247948f99e5c47a1b764a895",
       "version_major": 2,
       "version_minor": 0
      },
      "text/plain": [
       "run_leq_node:   0%|          | 0/6 [00:00<?, ?it/s]"
      ]
     },
     "metadata": {},
     "output_type": "display_data"
    },
    {
     "name": "stdout",
     "output_type": "stream",
     "text": [
      "                         vwap      twap      last bar_start_timestamp    minute  twap_ret_0  vwap_ret_0\n",
      "2010-01-04 14:00:00 -2.789627 -2.790755 -2.683204 2010-01-04 13:55:00  21043560    0.272505    0.271409\n",
      "2010-01-04 14:05:00 -1.865288 -1.848762 -1.674519 2010-01-04 14:00:00  21043565   -0.337541   -0.331349\n",
      "2010-01-04 14:10:00 -1.788402 -1.786099 -1.570827 2010-01-04 14:05:00  21043570   -0.033895   -0.041220\n",
      "now= 2010-01-04 14:11:00\n",
      "now= 2010-01-04 14:12:00\n",
      "now= 2010-01-04 14:13:00\n",
      "now= 2010-01-04 14:14:00\n",
      "now= 2010-01-04 14:15:00\n",
      "Time to execute the DAG\n"
     ]
    },
    {
     "data": {
      "application/vnd.jupyter.widget-view+json": {
       "model_id": "5df9d9f41f934971a8649ce9933babe9",
       "version_major": 2,
       "version_minor": 0
      },
      "text/plain": [
       "run_leq_node:   0%|          | 0/6 [00:00<?, ?it/s]"
      ]
     },
     "metadata": {},
     "output_type": "display_data"
    },
    {
     "name": "stdout",
     "output_type": "stream",
     "text": [
      "                         vwap      twap      last bar_start_timestamp    minute  twap_ret_0  vwap_ret_0\n",
      "2010-01-04 14:05:00 -1.865288 -1.848762 -1.674519 2010-01-04 14:00:00  21043565   -0.337541   -0.331349\n",
      "2010-01-04 14:10:00 -1.788402 -1.786099 -1.570827 2010-01-04 14:05:00  21043570   -0.033895   -0.041220\n",
      "2010-01-04 14:15:00 -1.268725 -1.273773 -1.366215 2010-01-04 14:10:00  21043575   -0.286841   -0.290582\n",
      "now= 2010-01-04 14:16:00\n",
      "now= 2010-01-04 14:17:00\n",
      "now= 2010-01-04 14:18:00\n",
      "now= 2010-01-04 14:19:00\n",
      "now= 2010-01-04 14:20:00\n",
      "Time to execute the DAG\n"
     ]
    },
    {
     "data": {
      "application/vnd.jupyter.widget-view+json": {
       "model_id": "9ec304e7e5af466686db04b1d6fe8afb",
       "version_major": 2,
       "version_minor": 0
      },
      "text/plain": [
       "run_leq_node:   0%|          | 0/6 [00:00<?, ?it/s]"
      ]
     },
     "metadata": {},
     "output_type": "display_data"
    },
    {
     "name": "stdout",
     "output_type": "stream",
     "text": [
      "                         vwap      twap      last bar_start_timestamp    minute  twap_ret_0  vwap_ret_0\n",
      "2010-01-04 14:10:00 -1.788402 -1.786099 -1.570827 2010-01-04 14:05:00  21043570   -0.033895   -0.041220\n",
      "2010-01-04 14:15:00 -1.268725 -1.273773 -1.366215 2010-01-04 14:10:00  21043575   -0.286841   -0.290582\n",
      "2010-01-04 14:20:00 -1.586798 -1.570258 -1.571425 2010-01-04 14:15:00  21043580    0.232762    0.250703\n",
      "now= 2010-01-04 14:21:00\n",
      "now= 2010-01-04 14:22:00\n",
      "now= 2010-01-04 14:23:00\n",
      "now= 2010-01-04 14:24:00\n",
      "now= 2010-01-04 14:25:00\n",
      "Time to execute the DAG\n"
     ]
    },
    {
     "data": {
      "application/vnd.jupyter.widget-view+json": {
       "model_id": "6871e8011ff64ee5b78507748d2fb59b",
       "version_major": 2,
       "version_minor": 0
      },
      "text/plain": [
       "run_leq_node:   0%|          | 0/6 [00:00<?, ?it/s]"
      ]
     },
     "metadata": {},
     "output_type": "display_data"
    },
    {
     "name": "stdout",
     "output_type": "stream",
     "text": [
      "                         vwap      twap      last bar_start_timestamp    minute  twap_ret_0  vwap_ret_0\n",
      "2010-01-04 14:15:00 -1.268725 -1.273773 -1.366215 2010-01-04 14:10:00  21043575   -0.286841   -0.290582\n",
      "2010-01-04 14:20:00 -1.586798 -1.570258 -1.571425 2010-01-04 14:15:00  21043580    0.232762    0.250703\n",
      "2010-01-04 14:25:00 -1.929016 -1.930100 -2.052701 2010-01-04 14:20:00  21043585    0.229161    0.215666\n",
      "now= 2010-01-04 14:26:00\n",
      "now= 2010-01-04 14:27:00\n",
      "now= 2010-01-04 14:28:00\n",
      "now= 2010-01-04 14:29:00\n",
      "now= 2010-01-04 14:30:00\n",
      "Time to execute the DAG\n"
     ]
    },
    {
     "data": {
      "application/vnd.jupyter.widget-view+json": {
       "model_id": "8f6978db3ac5425a916682148b8b928f",
       "version_major": 2,
       "version_minor": 0
      },
      "text/plain": [
       "run_leq_node:   0%|          | 0/6 [00:00<?, ?it/s]"
      ]
     },
     "metadata": {},
     "output_type": "display_data"
    },
    {
     "name": "stdout",
     "output_type": "stream",
     "text": [
      "                         vwap      twap      last bar_start_timestamp    minute  twap_ret_0  vwap_ret_0\n",
      "2010-01-04 14:20:00 -1.586798 -1.570258 -1.571425 2010-01-04 14:15:00  21043580    0.232762    0.250703\n",
      "2010-01-04 14:25:00 -1.929016 -1.930100 -2.052701 2010-01-04 14:20:00  21043585    0.229161    0.215666\n",
      "2010-01-04 14:30:00 -2.136463 -2.182418 -1.618895 2010-01-04 14:25:00  21043590    0.130728    0.107540\n",
      "now= 2010-01-04 14:31:00\n",
      "now= 2010-01-04 14:32:00\n",
      "now= 2010-01-04 14:33:00\n",
      "now= 2010-01-04 14:34:00\n",
      "now= 2010-01-04 14:35:00\n",
      "Time to execute the DAG\n"
     ]
    },
    {
     "data": {
      "application/vnd.jupyter.widget-view+json": {
       "model_id": "4af24e7a8caa41629b6a680448ffe02d",
       "version_major": 2,
       "version_minor": 0
      },
      "text/plain": [
       "run_leq_node:   0%|          | 0/6 [00:00<?, ?it/s]"
      ]
     },
     "metadata": {},
     "output_type": "display_data"
    },
    {
     "name": "stdout",
     "output_type": "stream",
     "text": [
      "                         vwap      twap      last bar_start_timestamp    minute  twap_ret_0  vwap_ret_0\n",
      "2010-01-04 14:25:00 -1.929016 -1.930100 -2.052701 2010-01-04 14:20:00  21043585    0.229161    0.215666\n",
      "2010-01-04 14:30:00 -2.136463 -2.182418 -1.618895 2010-01-04 14:25:00  21043590    0.130728    0.107540\n",
      "2010-01-04 14:35:00 -1.930152 -1.932059 -2.080288 2010-01-04 14:30:00  21043595   -0.114717   -0.096567\n",
      "now= 2010-01-04 14:36:00\n",
      "now= 2010-01-04 14:37:00\n",
      "now= 2010-01-04 14:38:00\n",
      "now= 2010-01-04 14:39:00\n",
      "now= 2010-01-04 14:40:00\n",
      "Time to execute the DAG\n"
     ]
    },
    {
     "data": {
      "application/vnd.jupyter.widget-view+json": {
       "model_id": "4f5a729148da4bd5ba87ede11abe37e4",
       "version_major": 2,
       "version_minor": 0
      },
      "text/plain": [
       "run_leq_node:   0%|          | 0/6 [00:00<?, ?it/s]"
      ]
     },
     "metadata": {},
     "output_type": "display_data"
    },
    {
     "name": "stdout",
     "output_type": "stream",
     "text": [
      "                         vwap      twap      last bar_start_timestamp    minute  twap_ret_0  vwap_ret_0\n",
      "2010-01-04 14:30:00 -2.136463 -2.182418 -1.618895 2010-01-04 14:25:00  21043590    0.130728    0.107540\n",
      "2010-01-04 14:35:00 -1.930152 -1.932059 -2.080288 2010-01-04 14:30:00  21043595   -0.114717   -0.096567\n",
      "2010-01-04 14:40:00 -2.197778 -2.202483 -2.409823 2010-01-04 14:35:00  21043600    0.139967    0.138655\n",
      "now= 2010-01-04 14:41:00\n",
      "now= 2010-01-04 14:42:00\n",
      "now= 2010-01-04 14:43:00\n",
      "now= 2010-01-04 14:44:00\n",
      "now= 2010-01-04 14:45:00\n",
      "Time to execute the DAG\n"
     ]
    },
    {
     "data": {
      "application/vnd.jupyter.widget-view+json": {
       "model_id": "2592e60ce7a840218dd8faeb3616fd25",
       "version_major": 2,
       "version_minor": 0
      },
      "text/plain": [
       "run_leq_node:   0%|          | 0/6 [00:00<?, ?it/s]"
      ]
     },
     "metadata": {},
     "output_type": "display_data"
    },
    {
     "name": "stdout",
     "output_type": "stream",
     "text": [
      "                         vwap      twap      last bar_start_timestamp    minute  twap_ret_0  vwap_ret_0\n",
      "2010-01-04 14:35:00 -1.930152 -1.932059 -2.080288 2010-01-04 14:30:00  21043595   -0.114717   -0.096567\n",
      "2010-01-04 14:40:00 -2.197778 -2.202483 -2.409823 2010-01-04 14:35:00  21043600    0.139967    0.138655\n",
      "2010-01-04 14:45:00 -3.197368 -3.202483 -3.715554 2010-01-04 14:40:00  21043605    0.454033    0.454819\n",
      "now= 2010-01-04 14:46:00\n",
      "now= 2010-01-04 14:47:00\n",
      "now= 2010-01-04 14:48:00\n",
      "now= 2010-01-04 14:49:00\n",
      "now= 2010-01-04 14:50:00\n",
      "Time to execute the DAG\n"
     ]
    },
    {
     "data": {
      "application/vnd.jupyter.widget-view+json": {
       "model_id": "e5120c8b6baf4021becf9cde0b33eb82",
       "version_major": 2,
       "version_minor": 0
      },
      "text/plain": [
       "run_leq_node:   0%|          | 0/6 [00:00<?, ?it/s]"
      ]
     },
     "metadata": {},
     "output_type": "display_data"
    },
    {
     "name": "stdout",
     "output_type": "stream",
     "text": [
      "                         vwap      twap      last bar_start_timestamp    minute  twap_ret_0  vwap_ret_0\n",
      "2010-01-04 14:40:00 -2.197778 -2.202483 -2.409823 2010-01-04 14:35:00  21043600    0.139967    0.138655\n",
      "2010-01-04 14:45:00 -3.197368 -3.202483 -3.715554 2010-01-04 14:40:00  21043605    0.454033    0.454819\n",
      "2010-01-04 14:50:00 -4.166525 -4.173319 -4.450759 2010-01-04 14:45:00  21043610    0.303151    0.303111\n",
      "now= 2010-01-04 14:51:00\n",
      "now= 2010-01-04 14:52:00\n",
      "now= 2010-01-04 14:53:00\n",
      "now= 2010-01-04 14:54:00\n",
      "now= 2010-01-04 14:55:00\n",
      "Time to execute the DAG\n"
     ]
    },
    {
     "data": {
      "application/vnd.jupyter.widget-view+json": {
       "model_id": "073ef109da1847f48d8977e6c5026f2e",
       "version_major": 2,
       "version_minor": 0
      },
      "text/plain": [
       "run_leq_node:   0%|          | 0/6 [00:00<?, ?it/s]"
      ]
     },
     "metadata": {},
     "output_type": "display_data"
    },
    {
     "name": "stdout",
     "output_type": "stream",
     "text": [
      "                         vwap      twap      last bar_start_timestamp    minute  twap_ret_0  vwap_ret_0\n",
      "2010-01-04 14:45:00 -3.197368 -3.202483 -3.715554 2010-01-04 14:40:00  21043605    0.454033    0.454819\n",
      "2010-01-04 14:50:00 -4.166525 -4.173319 -4.450759 2010-01-04 14:45:00  21043610    0.303151    0.303111\n",
      "2010-01-04 14:55:00 -3.893486 -3.888528 -3.832255 2010-01-04 14:50:00  21043615   -0.068241   -0.065532\n",
      "now= 2010-01-04 14:56:00\n",
      "now= 2010-01-04 14:57:00\n",
      "now= 2010-01-04 14:58:00\n",
      "now= 2010-01-04 14:59:00\n",
      "now= 2010-01-04 15:00:00\n",
      "Time to execute the DAG\n"
     ]
    },
    {
     "data": {
      "application/vnd.jupyter.widget-view+json": {
       "model_id": "4adf6ac9bf0343508e12cf85e6828ec8",
       "version_major": 2,
       "version_minor": 0
      },
      "text/plain": [
       "run_leq_node:   0%|          | 0/6 [00:00<?, ?it/s]"
      ]
     },
     "metadata": {},
     "output_type": "display_data"
    },
    {
     "name": "stdout",
     "output_type": "stream",
     "text": [
      "                         vwap      twap      last bar_start_timestamp    minute  twap_ret_0  vwap_ret_0\n",
      "2010-01-04 14:50:00 -4.166525 -4.173319 -4.450759 2010-01-04 14:45:00  21043610    0.303151    0.303111\n",
      "2010-01-04 14:55:00 -3.893486 -3.888528 -3.832255 2010-01-04 14:50:00  21043615   -0.068241   -0.065532\n",
      "2010-01-04 15:00:00 -3.940089 -3.942492 -4.195904 2010-01-04 14:55:00  21043620    0.013878    0.011970\n",
      "now= 2010-01-04 15:01:00\n",
      "now= 2010-01-04 15:02:00\n",
      "now= 2010-01-04 15:03:00\n",
      "now= 2010-01-04 15:04:00\n",
      "now= 2010-01-04 15:05:00\n",
      "Time to execute the DAG\n"
     ]
    },
    {
     "data": {
      "application/vnd.jupyter.widget-view+json": {
       "model_id": "c11114a9b7eb4f4e89fc3477a4a2ad11",
       "version_major": 2,
       "version_minor": 0
      },
      "text/plain": [
       "run_leq_node:   0%|          | 0/6 [00:00<?, ?it/s]"
      ]
     },
     "metadata": {},
     "output_type": "display_data"
    },
    {
     "name": "stdout",
     "output_type": "stream",
     "text": [
      "                         vwap      twap      last bar_start_timestamp    minute  twap_ret_0  vwap_ret_0\n",
      "2010-01-04 14:55:00 -3.893486 -3.888528 -3.832255 2010-01-04 14:50:00  21043615   -0.068241   -0.065532\n",
      "2010-01-04 15:00:00 -3.940089 -3.942492 -4.195904 2010-01-04 14:55:00  21043620    0.013878    0.011970\n",
      "2010-01-04 15:05:00 -3.972471 -3.990357 -4.203840 2010-01-04 15:00:00  21043625    0.012141    0.008219\n",
      "now= 2010-01-04 15:06:00\n",
      "now= 2010-01-04 15:07:00\n",
      "now= 2010-01-04 15:08:00\n",
      "now= 2010-01-04 15:09:00\n",
      "now= 2010-01-04 15:10:00\n",
      "Time to execute the DAG\n"
     ]
    },
    {
     "data": {
      "application/vnd.jupyter.widget-view+json": {
       "model_id": "4d1a3022ef554eecb9a23a2c61465f1f",
       "version_major": 2,
       "version_minor": 0
      },
      "text/plain": [
       "run_leq_node:   0%|          | 0/6 [00:00<?, ?it/s]"
      ]
     },
     "metadata": {},
     "output_type": "display_data"
    },
    {
     "name": "stdout",
     "output_type": "stream",
     "text": [
      "                         vwap      twap      last bar_start_timestamp    minute  twap_ret_0  vwap_ret_0\n",
      "2010-01-04 15:00:00 -3.940089 -3.942492 -4.195904 2010-01-04 14:55:00  21043620    0.013878    0.011970\n",
      "2010-01-04 15:05:00 -3.972471 -3.990357 -4.203840 2010-01-04 15:00:00  21043625    0.012141    0.008219\n",
      "2010-01-04 15:10:00 -4.263387 -4.244044 -3.715102 2010-01-04 15:05:00  21043630    0.063575    0.073233\n",
      "now= 2010-01-04 15:11:00\n",
      "now= 2010-01-04 15:12:00\n",
      "now= 2010-01-04 15:13:00\n",
      "now= 2010-01-04 15:14:00\n",
      "now= 2010-01-04 15:15:00\n",
      "Time to execute the DAG\n"
     ]
    },
    {
     "data": {
      "application/vnd.jupyter.widget-view+json": {
       "model_id": "26c92480cec84f20bba018fce164e101",
       "version_major": 2,
       "version_minor": 0
      },
      "text/plain": [
       "run_leq_node:   0%|          | 0/6 [00:00<?, ?it/s]"
      ]
     },
     "metadata": {},
     "output_type": "display_data"
    },
    {
     "name": "stdout",
     "output_type": "stream",
     "text": [
      "                         vwap      twap      last bar_start_timestamp    minute  twap_ret_0  vwap_ret_0\n",
      "2010-01-04 15:05:00 -3.972471 -3.990357 -4.203840 2010-01-04 15:00:00  21043625    0.012141    0.008219\n",
      "2010-01-04 15:10:00 -4.263387 -4.244044 -3.715102 2010-01-04 15:05:00  21043630    0.063575    0.073233\n",
      "2010-01-04 15:15:00 -3.886143 -3.853366 -4.058858 2010-01-04 15:10:00  21043635   -0.092053   -0.088485\n",
      "now= 2010-01-04 15:16:00\n",
      "now= 2010-01-04 15:17:00\n",
      "now= 2010-01-04 15:18:00\n",
      "now= 2010-01-04 15:19:00\n",
      "now= 2010-01-04 15:20:00\n",
      "Time to execute the DAG\n"
     ]
    },
    {
     "data": {
      "application/vnd.jupyter.widget-view+json": {
       "model_id": "433bf784bfd043d188ac5ab0f17251a3",
       "version_major": 2,
       "version_minor": 0
      },
      "text/plain": [
       "run_leq_node:   0%|          | 0/6 [00:00<?, ?it/s]"
      ]
     },
     "metadata": {},
     "output_type": "display_data"
    },
    {
     "name": "stdout",
     "output_type": "stream",
     "text": [
      "                         vwap      twap      last bar_start_timestamp    minute  twap_ret_0  vwap_ret_0\n",
      "2010-01-04 15:10:00 -4.263387 -4.244044 -3.715102 2010-01-04 15:05:00  21043630    0.063575    0.073233\n",
      "2010-01-04 15:15:00 -3.886143 -3.853366 -4.058858 2010-01-04 15:10:00  21043635   -0.092053   -0.088485\n",
      "2010-01-04 15:20:00 -4.257011 -4.227692 -3.889178 2010-01-04 15:15:00  21043640    0.097143    0.095434\n",
      "now= 2010-01-04 15:21:00\n",
      "now= 2010-01-04 15:22:00\n",
      "now= 2010-01-04 15:23:00\n",
      "now= 2010-01-04 15:24:00\n",
      "now= 2010-01-04 15:25:00\n",
      "Time to execute the DAG\n"
     ]
    },
    {
     "data": {
      "application/vnd.jupyter.widget-view+json": {
       "model_id": "020c7d149bca46c29cced0f1a0db113f",
       "version_major": 2,
       "version_minor": 0
      },
      "text/plain": [
       "run_leq_node:   0%|          | 0/6 [00:00<?, ?it/s]"
      ]
     },
     "metadata": {},
     "output_type": "display_data"
    },
    {
     "name": "stdout",
     "output_type": "stream",
     "text": [
      "                         vwap      twap      last bar_start_timestamp    minute  twap_ret_0  vwap_ret_0\n",
      "2010-01-04 15:15:00 -3.886143 -3.853366 -4.058858 2010-01-04 15:10:00  21043635   -0.092053   -0.088485\n",
      "2010-01-04 15:20:00 -4.257011 -4.227692 -3.889178 2010-01-04 15:15:00  21043640    0.097143    0.095434\n",
      "2010-01-04 15:25:00 -3.748162 -3.789650 -4.280399 2010-01-04 15:20:00  21043645   -0.103613   -0.119532\n",
      "now= 2010-01-04 15:26:00\n",
      "now= 2010-01-04 15:27:00\n",
      "now= 2010-01-04 15:28:00\n",
      "now= 2010-01-04 15:29:00\n",
      "now= 2010-01-04 15:30:00\n",
      "Time to execute the DAG\n"
     ]
    },
    {
     "data": {
      "application/vnd.jupyter.widget-view+json": {
       "model_id": "d95669843a704c2486769f77acc5e70e",
       "version_major": 2,
       "version_minor": 0
      },
      "text/plain": [
       "run_leq_node:   0%|          | 0/6 [00:00<?, ?it/s]"
      ]
     },
     "metadata": {},
     "output_type": "display_data"
    },
    {
     "name": "stdout",
     "output_type": "stream",
     "text": [
      "                         vwap      twap      last bar_start_timestamp    minute  twap_ret_0  vwap_ret_0\n",
      "2010-01-04 15:20:00 -4.257011 -4.227692 -3.889178 2010-01-04 15:15:00  21043640    0.097143    0.095434\n",
      "2010-01-04 15:25:00 -3.748162 -3.789650 -4.280399 2010-01-04 15:20:00  21043645   -0.103613   -0.119532\n",
      "2010-01-04 15:30:00 -4.323967 -4.197056 -4.015117 2010-01-04 15:25:00  21043650    0.107505    0.153623\n",
      "now= 2010-01-04 15:31:00\n",
      "now= 2010-01-04 15:32:00\n",
      "now= 2010-01-04 15:33:00\n",
      "now= 2010-01-04 15:34:00\n",
      "now= 2010-01-04 15:35:00\n",
      "Time to execute the DAG\n"
     ]
    },
    {
     "data": {
      "application/vnd.jupyter.widget-view+json": {
       "model_id": "580d8a62bc8f4af39b615c41749d9791",
       "version_major": 2,
       "version_minor": 0
      },
      "text/plain": [
       "run_leq_node:   0%|          | 0/6 [00:00<?, ?it/s]"
      ]
     },
     "metadata": {},
     "output_type": "display_data"
    },
    {
     "name": "stdout",
     "output_type": "stream",
     "text": [
      "                         vwap      twap      last bar_start_timestamp    minute  twap_ret_0  vwap_ret_0\n",
      "2010-01-04 15:25:00 -3.748162 -3.789650 -4.280399 2010-01-04 15:20:00  21043645   -0.103613   -0.119532\n",
      "2010-01-04 15:30:00 -4.323967 -4.197056 -4.015117 2010-01-04 15:25:00  21043650    0.107505    0.153623\n",
      "2010-01-04 15:35:00 -3.574690 -3.573552 -3.445335 2010-01-04 15:30:00  21043655   -0.148558   -0.173285\n",
      "now= 2010-01-04 15:36:00\n",
      "now= 2010-01-04 15:37:00\n",
      "now= 2010-01-04 15:38:00\n",
      "now= 2010-01-04 15:39:00\n",
      "now= 2010-01-04 15:40:00\n",
      "Time to execute the DAG\n"
     ]
    },
    {
     "data": {
      "application/vnd.jupyter.widget-view+json": {
       "model_id": "beef30ed9a9842a8b338b51cb46b4898",
       "version_major": 2,
       "version_minor": 0
      },
      "text/plain": [
       "run_leq_node:   0%|          | 0/6 [00:00<?, ?it/s]"
      ]
     },
     "metadata": {},
     "output_type": "display_data"
    },
    {
     "name": "stdout",
     "output_type": "stream",
     "text": [
      "                         vwap      twap      last bar_start_timestamp    minute  twap_ret_0  vwap_ret_0\n",
      "2010-01-04 15:30:00 -4.323967 -4.197056 -4.015117 2010-01-04 15:25:00  21043650    0.107505    0.153623\n",
      "2010-01-04 15:35:00 -3.574690 -3.573552 -3.445335 2010-01-04 15:30:00  21043655   -0.148558   -0.173285\n",
      "2010-01-04 15:40:00 -3.105688 -3.105845 -3.127568 2010-01-04 15:35:00  21043660   -0.130880   -0.131201\n",
      "now= 2010-01-04 15:41:00\n",
      "now= 2010-01-04 15:42:00\n",
      "now= 2010-01-04 15:43:00\n",
      "now= 2010-01-04 15:44:00\n",
      "now= 2010-01-04 15:45:00\n",
      "Time to execute the DAG\n"
     ]
    },
    {
     "data": {
      "application/vnd.jupyter.widget-view+json": {
       "model_id": "e1372effe351421a851cefe6f71e95fc",
       "version_major": 2,
       "version_minor": 0
      },
      "text/plain": [
       "run_leq_node:   0%|          | 0/6 [00:00<?, ?it/s]"
      ]
     },
     "metadata": {},
     "output_type": "display_data"
    },
    {
     "name": "stdout",
     "output_type": "stream",
     "text": [
      "                         vwap      twap      last bar_start_timestamp    minute  twap_ret_0  vwap_ret_0\n",
      "2010-01-04 15:35:00 -3.574690 -3.573552 -3.445335 2010-01-04 15:30:00  21043655   -0.148558   -0.173285\n",
      "2010-01-04 15:40:00 -3.105688 -3.105845 -3.127568 2010-01-04 15:35:00  21043660   -0.130880   -0.131201\n",
      "2010-01-04 15:45:00 -2.601454 -2.615786 -2.860873 2010-01-04 15:40:00  21043665   -0.157786   -0.162358\n",
      "now= 2010-01-04 15:46:00\n",
      "now= 2010-01-04 15:47:00\n",
      "now= 2010-01-04 15:48:00\n",
      "now= 2010-01-04 15:49:00\n",
      "now= 2010-01-04 15:50:00\n",
      "Time to execute the DAG\n"
     ]
    },
    {
     "data": {
      "application/vnd.jupyter.widget-view+json": {
       "model_id": "bc8e05bc87784130863f3f690db3389f",
       "version_major": 2,
       "version_minor": 0
      },
      "text/plain": [
       "run_leq_node:   0%|          | 0/6 [00:00<?, ?it/s]"
      ]
     },
     "metadata": {},
     "output_type": "display_data"
    },
    {
     "name": "stdout",
     "output_type": "stream",
     "text": [
      "                         vwap      twap      last bar_start_timestamp    minute  twap_ret_0  vwap_ret_0\n",
      "2010-01-04 15:40:00 -3.105688 -3.105845 -3.127568 2010-01-04 15:35:00  21043660   -0.130880   -0.131201\n",
      "2010-01-04 15:45:00 -2.601454 -2.615786 -2.860873 2010-01-04 15:40:00  21043665   -0.157786   -0.162358\n",
      "2010-01-04 15:50:00 -2.687236 -2.726803 -2.937281 2010-01-04 15:45:00  21043670    0.042441    0.032975\n",
      "now= 2010-01-04 15:51:00\n",
      "now= 2010-01-04 15:52:00\n",
      "now= 2010-01-04 15:53:00\n",
      "now= 2010-01-04 15:54:00\n",
      "now= 2010-01-04 15:55:00\n",
      "Time to execute the DAG\n"
     ]
    },
    {
     "data": {
      "application/vnd.jupyter.widget-view+json": {
       "model_id": "cfef582e53b0432eba9d0a3d4bcd4e3e",
       "version_major": 2,
       "version_minor": 0
      },
      "text/plain": [
       "run_leq_node:   0%|          | 0/6 [00:00<?, ?it/s]"
      ]
     },
     "metadata": {},
     "output_type": "display_data"
    },
    {
     "name": "stdout",
     "output_type": "stream",
     "text": [
      "                         vwap      twap      last bar_start_timestamp    minute  twap_ret_0  vwap_ret_0\n",
      "2010-01-04 15:45:00 -2.601454 -2.615786 -2.860873 2010-01-04 15:40:00  21043665   -0.157786   -0.162358\n",
      "2010-01-04 15:50:00 -2.687236 -2.726803 -2.937281 2010-01-04 15:45:00  21043670    0.042441    0.032975\n",
      "2010-01-04 15:55:00 -3.588660 -3.292928 -3.731371 2010-01-04 15:50:00  21043675    0.207615    0.335446\n",
      "now= 2010-01-04 15:56:00\n",
      "now= 2010-01-04 15:57:00\n",
      "now= 2010-01-04 15:58:00\n",
      "now= 2010-01-04 15:59:00\n",
      "now= 2010-01-04 16:00:00\n",
      "Time to execute the DAG\n"
     ]
    },
    {
     "data": {
      "application/vnd.jupyter.widget-view+json": {
       "model_id": "dc1c984a7b64442ca08edc1a95aa14b5",
       "version_major": 2,
       "version_minor": 0
      },
      "text/plain": [
       "run_leq_node:   0%|          | 0/6 [00:00<?, ?it/s]"
      ]
     },
     "metadata": {},
     "output_type": "display_data"
    },
    {
     "name": "stdout",
     "output_type": "stream",
     "text": [
      "                         vwap      twap      last bar_start_timestamp    minute  twap_ret_0  vwap_ret_0\n",
      "2010-01-04 15:50:00 -2.687236 -2.726803 -2.937281 2010-01-04 15:45:00  21043670    0.042441    0.032975\n",
      "2010-01-04 15:55:00 -3.588660 -3.292928 -3.731371 2010-01-04 15:50:00  21043675    0.207615    0.335446\n",
      "2010-01-04 16:00:00 -3.231142 -3.221697 -3.406600 2010-01-04 15:55:00  21043680   -0.021632   -0.099624\n",
      "now= 2010-01-04 16:01:00\n",
      "now= 2010-01-04 16:02:00\n",
      "now= 2010-01-04 16:03:00\n",
      "now= 2010-01-04 16:04:00\n",
      "now= 2010-01-04 16:05:00\n",
      "Time to execute the DAG\n"
     ]
    },
    {
     "data": {
      "application/vnd.jupyter.widget-view+json": {
       "model_id": "ba70dee9f59d482986ee672127ae777b",
       "version_major": 2,
       "version_minor": 0
      },
      "text/plain": [
       "run_leq_node:   0%|          | 0/6 [00:00<?, ?it/s]"
      ]
     },
     "metadata": {},
     "output_type": "display_data"
    },
    {
     "name": "stdout",
     "output_type": "stream",
     "text": [
      "                         vwap      twap      last bar_start_timestamp    minute  twap_ret_0  vwap_ret_0\n",
      "2010-01-04 15:55:00 -3.588660 -3.292928 -3.731371 2010-01-04 15:50:00  21043675    0.207615    0.335446\n",
      "2010-01-04 16:00:00 -3.231142 -3.221697 -3.406600 2010-01-04 15:55:00  21043680   -0.021632   -0.099624\n",
      "2010-01-04 16:05:00       NaN       NaN       NaN 2010-01-04 16:00:00  21043685         NaN         NaN\n",
      "now= 2010-01-04 16:06:00\n",
      "now= 2010-01-04 16:07:00\n",
      "now= 2010-01-04 16:08:00\n",
      "now= 2010-01-04 16:09:00\n",
      "now= 2010-01-04 16:10:00\n",
      "Time to execute the DAG\n"
     ]
    },
    {
     "data": {
      "application/vnd.jupyter.widget-view+json": {
       "model_id": "42dcbbcaeb794ee7af0da7754fa23d22",
       "version_major": 2,
       "version_minor": 0
      },
      "text/plain": [
       "run_leq_node:   0%|          | 0/6 [00:00<?, ?it/s]"
      ]
     },
     "metadata": {},
     "output_type": "display_data"
    },
    {
     "name": "stdout",
     "output_type": "stream",
     "text": [
      "                         vwap      twap    last bar_start_timestamp    minute  twap_ret_0  vwap_ret_0\n",
      "2010-01-04 16:00:00 -3.231142 -3.221697 -3.4066 2010-01-04 15:55:00  21043680   -0.021632   -0.099624\n",
      "2010-01-04 16:05:00       NaN       NaN     NaN 2010-01-04 16:00:00  21043685         NaN         NaN\n",
      "2010-01-04 16:10:00       NaN       NaN     NaN 2010-01-04 16:05:00  21043690         NaN         NaN\n",
      "now= 2010-01-04 16:11:00\n",
      "now= 2010-01-04 16:12:00\n",
      "now= 2010-01-04 16:13:00\n",
      "now= 2010-01-04 16:14:00\n",
      "now= 2010-01-04 16:15:00\n",
      "Time to execute the DAG\n"
     ]
    },
    {
     "data": {
      "application/vnd.jupyter.widget-view+json": {
       "model_id": "526686f7179d4a1b9cce9b61fb3bd6b8",
       "version_major": 2,
       "version_minor": 0
      },
      "text/plain": [
       "run_leq_node:   0%|          | 0/6 [00:00<?, ?it/s]"
      ]
     },
     "metadata": {},
     "output_type": "display_data"
    },
    {
     "name": "stdout",
     "output_type": "stream",
     "text": [
      "                     vwap  twap  last bar_start_timestamp    minute  twap_ret_0  vwap_ret_0\n",
      "2010-01-04 16:05:00   NaN   NaN   NaN 2010-01-04 16:00:00  21043685         NaN         NaN\n",
      "2010-01-04 16:10:00   NaN   NaN   NaN 2010-01-04 16:05:00  21043690         NaN         NaN\n",
      "2010-01-04 16:15:00   NaN   NaN   NaN 2010-01-04 16:10:00  21043695         NaN         NaN\n",
      "now= 2010-01-04 16:16:00\n",
      "now= 2010-01-04 16:17:00\n",
      "now= 2010-01-04 16:18:00\n",
      "now= 2010-01-04 16:19:00\n",
      "now= 2010-01-04 16:20:00\n",
      "Time to execute the DAG\n"
     ]
    },
    {
     "data": {
      "application/vnd.jupyter.widget-view+json": {
       "model_id": "3075c361dfed4680a38823ff41286ea8",
       "version_major": 2,
       "version_minor": 0
      },
      "text/plain": [
       "run_leq_node:   0%|          | 0/6 [00:00<?, ?it/s]"
      ]
     },
     "metadata": {},
     "output_type": "display_data"
    },
    {
     "name": "stdout",
     "output_type": "stream",
     "text": [
      "                     vwap  twap  last bar_start_timestamp    minute  twap_ret_0  vwap_ret_0\n",
      "2010-01-04 16:10:00   NaN   NaN   NaN 2010-01-04 16:05:00  21043690         NaN         NaN\n",
      "2010-01-04 16:15:00   NaN   NaN   NaN 2010-01-04 16:10:00  21043695         NaN         NaN\n",
      "2010-01-04 16:20:00   NaN   NaN   NaN 2010-01-04 16:15:00  21043700         NaN         NaN\n",
      "now= 2010-01-04 16:21:00\n",
      "now= 2010-01-04 16:22:00\n",
      "now= 2010-01-04 16:23:00\n",
      "now= 2010-01-04 16:24:00\n",
      "now= 2010-01-04 16:25:00\n",
      "Time to execute the DAG\n"
     ]
    },
    {
     "data": {
      "application/vnd.jupyter.widget-view+json": {
       "model_id": "c60ce180311647aba4d625421261fd58",
       "version_major": 2,
       "version_minor": 0
      },
      "text/plain": [
       "run_leq_node:   0%|          | 0/6 [00:00<?, ?it/s]"
      ]
     },
     "metadata": {},
     "output_type": "display_data"
    },
    {
     "name": "stdout",
     "output_type": "stream",
     "text": [
      "                     vwap  twap  last bar_start_timestamp    minute  twap_ret_0  vwap_ret_0\n",
      "2010-01-04 16:15:00   NaN   NaN   NaN 2010-01-04 16:10:00  21043695         NaN         NaN\n",
      "2010-01-04 16:20:00   NaN   NaN   NaN 2010-01-04 16:15:00  21043700         NaN         NaN\n",
      "2010-01-04 16:25:00   NaN   NaN   NaN 2010-01-04 16:20:00  21043705         NaN         NaN\n",
      "now= 2010-01-04 16:26:00\n",
      "now= 2010-01-04 16:27:00\n",
      "now= 2010-01-04 16:28:00\n",
      "now= 2010-01-04 16:29:00\n",
      "now= 2010-01-04 16:30:00\n",
      "Time to execute the DAG\n"
     ]
    },
    {
     "data": {
      "application/vnd.jupyter.widget-view+json": {
       "model_id": "d678fe4a495a4301a942aae2d6388da8",
       "version_major": 2,
       "version_minor": 0
      },
      "text/plain": [
       "run_leq_node:   0%|          | 0/6 [00:00<?, ?it/s]"
      ]
     },
     "metadata": {},
     "output_type": "display_data"
    },
    {
     "name": "stdout",
     "output_type": "stream",
     "text": [
      "                     vwap  twap  last bar_start_timestamp    minute  twap_ret_0  vwap_ret_0\n",
      "2010-01-04 16:20:00   NaN   NaN   NaN 2010-01-04 16:15:00  21043700         NaN         NaN\n",
      "2010-01-04 16:25:00   NaN   NaN   NaN 2010-01-04 16:20:00  21043705         NaN         NaN\n",
      "2010-01-04 16:30:00   NaN   NaN   NaN 2010-01-04 16:25:00  21043710         NaN         NaN\n",
      "now= 2010-01-04 16:31:00\n",
      "now= 2010-01-04 16:32:00\n",
      "now= 2010-01-04 16:33:00\n",
      "now= 2010-01-04 16:34:00\n",
      "now= 2010-01-04 16:35:00\n",
      "Time to execute the DAG\n"
     ]
    },
    {
     "data": {
      "application/vnd.jupyter.widget-view+json": {
       "model_id": "be5bb781eb434603a096a9ecad5a228c",
       "version_major": 2,
       "version_minor": 0
      },
      "text/plain": [
       "run_leq_node:   0%|          | 0/6 [00:00<?, ?it/s]"
      ]
     },
     "metadata": {},
     "output_type": "display_data"
    },
    {
     "name": "stdout",
     "output_type": "stream",
     "text": [
      "                     vwap  twap  last bar_start_timestamp    minute  twap_ret_0  vwap_ret_0\n",
      "2010-01-04 16:25:00   NaN   NaN   NaN 2010-01-04 16:20:00  21043705         NaN         NaN\n",
      "2010-01-04 16:30:00   NaN   NaN   NaN 2010-01-04 16:25:00  21043710         NaN         NaN\n",
      "2010-01-04 16:35:00   NaN   NaN   NaN 2010-01-04 16:30:00  21043715         NaN         NaN\n",
      "now= 2010-01-04 16:36:00\n",
      "now= 2010-01-04 16:37:00\n",
      "now= 2010-01-04 16:38:00\n",
      "now= 2010-01-04 16:39:00\n",
      "now= 2010-01-04 16:40:00\n",
      "Time to execute the DAG\n"
     ]
    },
    {
     "data": {
      "application/vnd.jupyter.widget-view+json": {
       "model_id": "311e81a528114ffe9952f29be9885bdf",
       "version_major": 2,
       "version_minor": 0
      },
      "text/plain": [
       "run_leq_node:   0%|          | 0/6 [00:00<?, ?it/s]"
      ]
     },
     "metadata": {},
     "output_type": "display_data"
    },
    {
     "name": "stdout",
     "output_type": "stream",
     "text": [
      "                     vwap  twap  last bar_start_timestamp    minute  twap_ret_0  vwap_ret_0\n",
      "2010-01-04 16:30:00   NaN   NaN   NaN 2010-01-04 16:25:00  21043710         NaN         NaN\n",
      "2010-01-04 16:35:00   NaN   NaN   NaN 2010-01-04 16:30:00  21043715         NaN         NaN\n",
      "2010-01-04 16:40:00   NaN   NaN   NaN 2010-01-04 16:35:00  21043720         NaN         NaN\n",
      "now= 2010-01-04 16:41:00\n",
      "now= 2010-01-04 16:42:00\n",
      "now= 2010-01-04 16:43:00\n",
      "now= 2010-01-04 16:44:00\n",
      "now= 2010-01-04 16:45:00\n",
      "Time to execute the DAG\n"
     ]
    },
    {
     "data": {
      "application/vnd.jupyter.widget-view+json": {
       "model_id": "887fd792201740a3a941046b1855abc1",
       "version_major": 2,
       "version_minor": 0
      },
      "text/plain": [
       "run_leq_node:   0%|          | 0/6 [00:00<?, ?it/s]"
      ]
     },
     "metadata": {},
     "output_type": "display_data"
    },
    {
     "name": "stdout",
     "output_type": "stream",
     "text": [
      "                     vwap  twap  last bar_start_timestamp    minute  twap_ret_0  vwap_ret_0\n",
      "2010-01-04 16:35:00   NaN   NaN   NaN 2010-01-04 16:30:00  21043715         NaN         NaN\n",
      "2010-01-04 16:40:00   NaN   NaN   NaN 2010-01-04 16:35:00  21043720         NaN         NaN\n",
      "2010-01-04 16:45:00   NaN   NaN   NaN 2010-01-04 16:40:00  21043725         NaN         NaN\n",
      "now= 2010-01-04 16:46:00\n",
      "now= 2010-01-04 16:47:00\n",
      "now= 2010-01-04 16:48:00\n",
      "now= 2010-01-04 16:49:00\n",
      "now= 2010-01-04 16:50:00\n",
      "Time to execute the DAG\n"
     ]
    },
    {
     "data": {
      "application/vnd.jupyter.widget-view+json": {
       "model_id": "d7a4c5fb168e4c08845c37444969ecb9",
       "version_major": 2,
       "version_minor": 0
      },
      "text/plain": [
       "run_leq_node:   0%|          | 0/6 [00:00<?, ?it/s]"
      ]
     },
     "metadata": {},
     "output_type": "display_data"
    },
    {
     "name": "stdout",
     "output_type": "stream",
     "text": [
      "                     vwap  twap  last bar_start_timestamp    minute  twap_ret_0  vwap_ret_0\n",
      "2010-01-04 16:40:00   NaN   NaN   NaN 2010-01-04 16:35:00  21043720         NaN         NaN\n",
      "2010-01-04 16:45:00   NaN   NaN   NaN 2010-01-04 16:40:00  21043725         NaN         NaN\n",
      "2010-01-04 16:50:00   NaN   NaN   NaN 2010-01-04 16:45:00  21043730         NaN         NaN\n",
      "now= 2010-01-04 16:51:00\n",
      "now= 2010-01-04 16:52:00\n",
      "now= 2010-01-04 16:53:00\n",
      "now= 2010-01-04 16:54:00\n",
      "now= 2010-01-04 16:55:00\n",
      "Time to execute the DAG\n"
     ]
    },
    {
     "data": {
      "application/vnd.jupyter.widget-view+json": {
       "model_id": "3d55f171fe4347199a06b5306f83805a",
       "version_major": 2,
       "version_minor": 0
      },
      "text/plain": [
       "run_leq_node:   0%|          | 0/6 [00:00<?, ?it/s]"
      ]
     },
     "metadata": {},
     "output_type": "display_data"
    },
    {
     "name": "stdout",
     "output_type": "stream",
     "text": [
      "                     vwap  twap  last bar_start_timestamp    minute  twap_ret_0  vwap_ret_0\n",
      "2010-01-04 16:45:00   NaN   NaN   NaN 2010-01-04 16:40:00  21043725         NaN         NaN\n",
      "2010-01-04 16:50:00   NaN   NaN   NaN 2010-01-04 16:45:00  21043730         NaN         NaN\n",
      "2010-01-04 16:55:00   NaN   NaN   NaN 2010-01-04 16:50:00  21043735         NaN         NaN\n",
      "now= 2010-01-04 16:56:00\n",
      "now= 2010-01-04 16:57:00\n",
      "now= 2010-01-04 16:58:00\n",
      "now= 2010-01-04 16:59:00\n",
      "now= 2010-01-04 17:00:00\n",
      "Time to execute the DAG\n"
     ]
    },
    {
     "data": {
      "application/vnd.jupyter.widget-view+json": {
       "model_id": "7cc0b1dec315497d89af2e9ee282d0df",
       "version_major": 2,
       "version_minor": 0
      },
      "text/plain": [
       "run_leq_node:   0%|          | 0/6 [00:00<?, ?it/s]"
      ]
     },
     "metadata": {},
     "output_type": "display_data"
    },
    {
     "name": "stdout",
     "output_type": "stream",
     "text": [
      "                     vwap  twap  last bar_start_timestamp    minute  twap_ret_0  vwap_ret_0\n",
      "2010-01-04 16:50:00   NaN   NaN   NaN 2010-01-04 16:45:00  21043730         NaN         NaN\n",
      "2010-01-04 16:55:00   NaN   NaN   NaN 2010-01-04 16:50:00  21043735         NaN         NaN\n",
      "2010-01-04 17:00:00   NaN   NaN   NaN 2010-01-04 16:55:00  21043740         NaN         NaN\n",
      "now= 2010-01-04 17:01:00\n",
      "now= 2010-01-04 17:02:00\n",
      "now= 2010-01-04 17:03:00\n",
      "now= 2010-01-04 17:04:00\n",
      "now= 2010-01-04 17:05:00\n",
      "Time to execute the DAG\n"
     ]
    },
    {
     "data": {
      "application/vnd.jupyter.widget-view+json": {
       "model_id": "8715667ccc58422ba4b2cde85a6c094e",
       "version_major": 2,
       "version_minor": 0
      },
      "text/plain": [
       "run_leq_node:   0%|          | 0/6 [00:00<?, ?it/s]"
      ]
     },
     "metadata": {},
     "output_type": "display_data"
    },
    {
     "name": "stdout",
     "output_type": "stream",
     "text": [
      "                     vwap  twap  last bar_start_timestamp    minute  twap_ret_0  vwap_ret_0\n",
      "2010-01-04 16:55:00   NaN   NaN   NaN 2010-01-04 16:50:00  21043735         NaN         NaN\n",
      "2010-01-04 17:00:00   NaN   NaN   NaN 2010-01-04 16:55:00  21043740         NaN         NaN\n",
      "2010-01-04 17:05:00   NaN   NaN   NaN 2010-01-04 17:00:00  21043745         NaN         NaN\n",
      "now= 2010-01-04 17:06:00\n",
      "now= 2010-01-04 17:07:00\n",
      "now= 2010-01-04 17:08:00\n",
      "now= 2010-01-04 17:09:00\n",
      "now= 2010-01-04 17:10:00\n",
      "Time to execute the DAG\n"
     ]
    },
    {
     "data": {
      "application/vnd.jupyter.widget-view+json": {
       "model_id": "1ef30b38d04342babcfbead1de32cd25",
       "version_major": 2,
       "version_minor": 0
      },
      "text/plain": [
       "run_leq_node:   0%|          | 0/6 [00:00<?, ?it/s]"
      ]
     },
     "metadata": {},
     "output_type": "display_data"
    },
    {
     "name": "stdout",
     "output_type": "stream",
     "text": [
      "                     vwap  twap  last bar_start_timestamp    minute  twap_ret_0  vwap_ret_0\n",
      "2010-01-04 17:00:00   NaN   NaN   NaN 2010-01-04 16:55:00  21043740         NaN         NaN\n",
      "2010-01-04 17:05:00   NaN   NaN   NaN 2010-01-04 17:00:00  21043745         NaN         NaN\n",
      "2010-01-04 17:10:00   NaN   NaN   NaN 2010-01-04 17:05:00  21043750         NaN         NaN\n",
      "now= 2010-01-04 17:11:00\n",
      "now= 2010-01-04 17:12:00\n",
      "now= 2010-01-04 17:13:00\n",
      "now= 2010-01-04 17:14:00\n",
      "now= 2010-01-04 17:15:00\n",
      "Time to execute the DAG\n"
     ]
    },
    {
     "data": {
      "application/vnd.jupyter.widget-view+json": {
       "model_id": "1431f13d0846414b8722053a6887efa6",
       "version_major": 2,
       "version_minor": 0
      },
      "text/plain": [
       "run_leq_node:   0%|          | 0/6 [00:00<?, ?it/s]"
      ]
     },
     "metadata": {},
     "output_type": "display_data"
    },
    {
     "name": "stdout",
     "output_type": "stream",
     "text": [
      "                     vwap  twap  last bar_start_timestamp    minute  twap_ret_0  vwap_ret_0\n",
      "2010-01-04 17:05:00   NaN   NaN   NaN 2010-01-04 17:00:00  21043745         NaN         NaN\n",
      "2010-01-04 17:10:00   NaN   NaN   NaN 2010-01-04 17:05:00  21043750         NaN         NaN\n",
      "2010-01-04 17:15:00   NaN   NaN   NaN 2010-01-04 17:10:00  21043755         NaN         NaN\n",
      "now= 2010-01-04 17:16:00\n",
      "now= 2010-01-04 17:17:00\n",
      "now= 2010-01-04 17:18:00\n",
      "now= 2010-01-04 17:19:00\n",
      "now= 2010-01-04 17:20:00\n",
      "Time to execute the DAG\n"
     ]
    },
    {
     "data": {
      "application/vnd.jupyter.widget-view+json": {
       "model_id": "8b1739b062fa49b48531b9fa52ff5c4e",
       "version_major": 2,
       "version_minor": 0
      },
      "text/plain": [
       "run_leq_node:   0%|          | 0/6 [00:00<?, ?it/s]"
      ]
     },
     "metadata": {},
     "output_type": "display_data"
    },
    {
     "name": "stdout",
     "output_type": "stream",
     "text": [
      "                     vwap  twap  last bar_start_timestamp    minute  twap_ret_0  vwap_ret_0\n",
      "2010-01-04 17:10:00   NaN   NaN   NaN 2010-01-04 17:05:00  21043750         NaN         NaN\n",
      "2010-01-04 17:15:00   NaN   NaN   NaN 2010-01-04 17:10:00  21043755         NaN         NaN\n",
      "2010-01-04 17:20:00   NaN   NaN   NaN 2010-01-04 17:15:00  21043760         NaN         NaN\n",
      "now= 2010-01-04 17:21:00\n",
      "now= 2010-01-04 17:22:00\n",
      "now= 2010-01-04 17:23:00\n",
      "now= 2010-01-04 17:24:00\n",
      "now= 2010-01-04 17:25:00\n",
      "Time to execute the DAG\n"
     ]
    },
    {
     "data": {
      "application/vnd.jupyter.widget-view+json": {
       "model_id": "1fa63e220b0044c0bfdc558acb0016d3",
       "version_major": 2,
       "version_minor": 0
      },
      "text/plain": [
       "run_leq_node:   0%|          | 0/6 [00:00<?, ?it/s]"
      ]
     },
     "metadata": {},
     "output_type": "display_data"
    },
    {
     "name": "stdout",
     "output_type": "stream",
     "text": [
      "                     vwap  twap  last bar_start_timestamp    minute  twap_ret_0  vwap_ret_0\n",
      "2010-01-04 17:15:00   NaN   NaN   NaN 2010-01-04 17:10:00  21043755         NaN         NaN\n",
      "2010-01-04 17:20:00   NaN   NaN   NaN 2010-01-04 17:15:00  21043760         NaN         NaN\n",
      "2010-01-04 17:25:00   NaN   NaN   NaN 2010-01-04 17:20:00  21043765         NaN         NaN\n",
      "now= 2010-01-04 17:26:00\n",
      "now= 2010-01-04 17:27:00\n",
      "now= 2010-01-04 17:28:00\n",
      "now= 2010-01-04 17:29:00\n",
      "now= 2010-01-04 17:30:00\n",
      "Time to execute the DAG\n"
     ]
    },
    {
     "data": {
      "application/vnd.jupyter.widget-view+json": {
       "model_id": "ee7891ee6ae345e8be8ae14c268b8a51",
       "version_major": 2,
       "version_minor": 0
      },
      "text/plain": [
       "run_leq_node:   0%|          | 0/6 [00:00<?, ?it/s]"
      ]
     },
     "metadata": {},
     "output_type": "display_data"
    },
    {
     "name": "stdout",
     "output_type": "stream",
     "text": [
      "                     vwap  twap  last bar_start_timestamp    minute  twap_ret_0  vwap_ret_0\n",
      "2010-01-04 17:20:00   NaN   NaN   NaN 2010-01-04 17:15:00  21043760         NaN         NaN\n",
      "2010-01-04 17:25:00   NaN   NaN   NaN 2010-01-04 17:20:00  21043765         NaN         NaN\n",
      "2010-01-04 17:30:00   NaN   NaN   NaN 2010-01-04 17:25:00  21043770         NaN         NaN\n",
      "now= 2010-01-04 17:31:00\n",
      "now= 2010-01-04 17:32:00\n",
      "now= 2010-01-04 17:33:00\n",
      "now= 2010-01-04 17:34:00\n",
      "now= 2010-01-04 17:35:00\n",
      "Time to execute the DAG\n"
     ]
    },
    {
     "data": {
      "application/vnd.jupyter.widget-view+json": {
       "model_id": "ac5334c81ecc4a19a6b5aae35eb56a92",
       "version_major": 2,
       "version_minor": 0
      },
      "text/plain": [
       "run_leq_node:   0%|          | 0/6 [00:00<?, ?it/s]"
      ]
     },
     "metadata": {},
     "output_type": "display_data"
    },
    {
     "name": "stdout",
     "output_type": "stream",
     "text": [
      "                     vwap  twap  last bar_start_timestamp    minute  twap_ret_0  vwap_ret_0\n",
      "2010-01-04 17:25:00   NaN   NaN   NaN 2010-01-04 17:20:00  21043765         NaN         NaN\n",
      "2010-01-04 17:30:00   NaN   NaN   NaN 2010-01-04 17:25:00  21043770         NaN         NaN\n",
      "2010-01-04 17:35:00   NaN   NaN   NaN 2010-01-04 17:30:00  21043775         NaN         NaN\n",
      "now= 2010-01-04 17:36:00\n",
      "now= 2010-01-04 17:37:00\n",
      "now= 2010-01-04 17:38:00\n",
      "now= 2010-01-04 17:39:00\n",
      "now= 2010-01-04 17:40:00\n",
      "Time to execute the DAG\n"
     ]
    },
    {
     "data": {
      "application/vnd.jupyter.widget-view+json": {
       "model_id": "babc5b6e63764d77b4393197aa521b4e",
       "version_major": 2,
       "version_minor": 0
      },
      "text/plain": [
       "run_leq_node:   0%|          | 0/6 [00:00<?, ?it/s]"
      ]
     },
     "metadata": {},
     "output_type": "display_data"
    },
    {
     "name": "stdout",
     "output_type": "stream",
     "text": [
      "                     vwap  twap  last bar_start_timestamp    minute  twap_ret_0  vwap_ret_0\n",
      "2010-01-04 17:30:00   NaN   NaN   NaN 2010-01-04 17:25:00  21043770         NaN         NaN\n",
      "2010-01-04 17:35:00   NaN   NaN   NaN 2010-01-04 17:30:00  21043775         NaN         NaN\n",
      "2010-01-04 17:40:00   NaN   NaN   NaN 2010-01-04 17:35:00  21043780         NaN         NaN\n",
      "now= 2010-01-04 17:41:00\n",
      "now= 2010-01-04 17:42:00\n",
      "now= 2010-01-04 17:43:00\n",
      "now= 2010-01-04 17:44:00\n",
      "now= 2010-01-04 17:45:00\n",
      "Time to execute the DAG\n"
     ]
    },
    {
     "data": {
      "application/vnd.jupyter.widget-view+json": {
       "model_id": "45dd1b5f53ce46fcbeca9153f1bf3f5e",
       "version_major": 2,
       "version_minor": 0
      },
      "text/plain": [
       "run_leq_node:   0%|          | 0/6 [00:00<?, ?it/s]"
      ]
     },
     "metadata": {},
     "output_type": "display_data"
    },
    {
     "name": "stdout",
     "output_type": "stream",
     "text": [
      "                     vwap  twap  last bar_start_timestamp    minute  twap_ret_0  vwap_ret_0\n",
      "2010-01-04 17:35:00   NaN   NaN   NaN 2010-01-04 17:30:00  21043775         NaN         NaN\n",
      "2010-01-04 17:40:00   NaN   NaN   NaN 2010-01-04 17:35:00  21043780         NaN         NaN\n",
      "2010-01-04 17:45:00   NaN   NaN   NaN 2010-01-04 17:40:00  21043785         NaN         NaN\n",
      "now= 2010-01-04 17:46:00\n",
      "now= 2010-01-04 17:47:00\n",
      "now= 2010-01-04 17:48:00\n",
      "now= 2010-01-04 17:49:00\n",
      "now= 2010-01-04 17:50:00\n",
      "Time to execute the DAG\n"
     ]
    },
    {
     "data": {
      "application/vnd.jupyter.widget-view+json": {
       "model_id": "d6ffda0749d14f8ebb68d503f677dc6e",
       "version_major": 2,
       "version_minor": 0
      },
      "text/plain": [
       "run_leq_node:   0%|          | 0/6 [00:00<?, ?it/s]"
      ]
     },
     "metadata": {},
     "output_type": "display_data"
    },
    {
     "name": "stdout",
     "output_type": "stream",
     "text": [
      "                     vwap  twap  last bar_start_timestamp    minute  twap_ret_0  vwap_ret_0\n",
      "2010-01-04 17:40:00   NaN   NaN   NaN 2010-01-04 17:35:00  21043780         NaN         NaN\n",
      "2010-01-04 17:45:00   NaN   NaN   NaN 2010-01-04 17:40:00  21043785         NaN         NaN\n",
      "2010-01-04 17:50:00   NaN   NaN   NaN 2010-01-04 17:45:00  21043790         NaN         NaN\n",
      "now= 2010-01-04 17:51:00\n",
      "now= 2010-01-04 17:52:00\n",
      "now= 2010-01-04 17:53:00\n",
      "now= 2010-01-04 17:54:00\n",
      "now= 2010-01-04 17:55:00\n",
      "Time to execute the DAG\n"
     ]
    },
    {
     "data": {
      "application/vnd.jupyter.widget-view+json": {
       "model_id": "d9c31e786d734f37b35771f5e3ab4a84",
       "version_major": 2,
       "version_minor": 0
      },
      "text/plain": [
       "run_leq_node:   0%|          | 0/6 [00:00<?, ?it/s]"
      ]
     },
     "metadata": {},
     "output_type": "display_data"
    },
    {
     "name": "stdout",
     "output_type": "stream",
     "text": [
      "                     vwap  twap  last bar_start_timestamp    minute  twap_ret_0  vwap_ret_0\n",
      "2010-01-04 17:45:00   NaN   NaN   NaN 2010-01-04 17:40:00  21043785         NaN         NaN\n",
      "2010-01-04 17:50:00   NaN   NaN   NaN 2010-01-04 17:45:00  21043790         NaN         NaN\n",
      "2010-01-04 17:55:00   NaN   NaN   NaN 2010-01-04 17:50:00  21043795         NaN         NaN\n",
      "now= 2010-01-04 17:56:00\n",
      "now= 2010-01-04 17:57:00\n",
      "now= 2010-01-04 17:58:00\n",
      "now= 2010-01-04 17:59:00\n",
      "now= 2010-01-04 18:00:00\n",
      "Time to execute the DAG\n"
     ]
    },
    {
     "data": {
      "application/vnd.jupyter.widget-view+json": {
       "model_id": "5adc6811b831407f8a0ccc86438fb145",
       "version_major": 2,
       "version_minor": 0
      },
      "text/plain": [
       "run_leq_node:   0%|          | 0/6 [00:00<?, ?it/s]"
      ]
     },
     "metadata": {},
     "output_type": "display_data"
    },
    {
     "name": "stdout",
     "output_type": "stream",
     "text": [
      "                     vwap  twap  last bar_start_timestamp    minute  twap_ret_0  vwap_ret_0\n",
      "2010-01-04 17:50:00   NaN   NaN   NaN 2010-01-04 17:45:00  21043790         NaN         NaN\n",
      "2010-01-04 17:55:00   NaN   NaN   NaN 2010-01-04 17:50:00  21043795         NaN         NaN\n",
      "2010-01-04 18:00:00   NaN   NaN   NaN 2010-01-04 17:55:00  21043800         NaN         NaN\n",
      "now= 2010-01-04 18:01:00\n",
      "now= 2010-01-04 18:02:00\n",
      "now= 2010-01-04 18:03:00\n",
      "now= 2010-01-04 18:04:00\n",
      "now= 2010-01-04 18:05:00\n",
      "Time to execute the DAG\n"
     ]
    },
    {
     "data": {
      "application/vnd.jupyter.widget-view+json": {
       "model_id": "6553469f818b4dfd8953c2dcb9e77d59",
       "version_major": 2,
       "version_minor": 0
      },
      "text/plain": [
       "run_leq_node:   0%|          | 0/6 [00:00<?, ?it/s]"
      ]
     },
     "metadata": {},
     "output_type": "display_data"
    },
    {
     "name": "stdout",
     "output_type": "stream",
     "text": [
      "                     vwap  twap  last bar_start_timestamp    minute  twap_ret_0  vwap_ret_0\n",
      "2010-01-04 17:55:00   NaN   NaN   NaN 2010-01-04 17:50:00  21043795         NaN         NaN\n",
      "2010-01-04 18:00:00   NaN   NaN   NaN 2010-01-04 17:55:00  21043800         NaN         NaN\n",
      "2010-01-04 18:05:00   NaN   NaN   NaN 2010-01-04 18:00:00  21043805         NaN         NaN\n",
      "now= 2010-01-04 18:06:00\n",
      "now= 2010-01-04 18:07:00\n",
      "now= 2010-01-04 18:08:00\n",
      "now= 2010-01-04 18:09:00\n",
      "now= 2010-01-04 18:10:00\n",
      "Time to execute the DAG\n"
     ]
    },
    {
     "data": {
      "application/vnd.jupyter.widget-view+json": {
       "model_id": "6e64921260e04ff3a166d585702412bf",
       "version_major": 2,
       "version_minor": 0
      },
      "text/plain": [
       "run_leq_node:   0%|          | 0/6 [00:00<?, ?it/s]"
      ]
     },
     "metadata": {},
     "output_type": "display_data"
    },
    {
     "name": "stdout",
     "output_type": "stream",
     "text": [
      "                     vwap  twap  last bar_start_timestamp    minute  twap_ret_0  vwap_ret_0\n",
      "2010-01-04 18:00:00   NaN   NaN   NaN 2010-01-04 17:55:00  21043800         NaN         NaN\n",
      "2010-01-04 18:05:00   NaN   NaN   NaN 2010-01-04 18:00:00  21043805         NaN         NaN\n",
      "2010-01-04 18:10:00   NaN   NaN   NaN 2010-01-04 18:05:00  21043810         NaN         NaN\n",
      "now= 2010-01-04 18:11:00\n",
      "now= 2010-01-04 18:12:00\n",
      "now= 2010-01-04 18:13:00\n",
      "now= 2010-01-04 18:14:00\n",
      "now= 2010-01-04 18:15:00\n",
      "Time to execute the DAG\n"
     ]
    },
    {
     "data": {
      "application/vnd.jupyter.widget-view+json": {
       "model_id": "2514402889734ed1a0d5e46603c160a0",
       "version_major": 2,
       "version_minor": 0
      },
      "text/plain": [
       "run_leq_node:   0%|          | 0/6 [00:00<?, ?it/s]"
      ]
     },
     "metadata": {},
     "output_type": "display_data"
    },
    {
     "name": "stdout",
     "output_type": "stream",
     "text": [
      "                     vwap  twap  last bar_start_timestamp    minute  twap_ret_0  vwap_ret_0\n",
      "2010-01-04 18:05:00   NaN   NaN   NaN 2010-01-04 18:00:00  21043805         NaN         NaN\n",
      "2010-01-04 18:10:00   NaN   NaN   NaN 2010-01-04 18:05:00  21043810         NaN         NaN\n",
      "2010-01-04 18:15:00   NaN   NaN   NaN 2010-01-04 18:10:00  21043815         NaN         NaN\n",
      "now= 2010-01-04 18:16:00\n",
      "now= 2010-01-04 18:17:00\n",
      "now= 2010-01-04 18:18:00\n",
      "now= 2010-01-04 18:19:00\n",
      "now= 2010-01-04 18:20:00\n",
      "Time to execute the DAG\n"
     ]
    },
    {
     "data": {
      "application/vnd.jupyter.widget-view+json": {
       "model_id": "b401d072bedf4c39955a6469f67921b2",
       "version_major": 2,
       "version_minor": 0
      },
      "text/plain": [
       "run_leq_node:   0%|          | 0/6 [00:00<?, ?it/s]"
      ]
     },
     "metadata": {},
     "output_type": "display_data"
    },
    {
     "name": "stdout",
     "output_type": "stream",
     "text": [
      "                     vwap  twap  last bar_start_timestamp    minute  twap_ret_0  vwap_ret_0\n",
      "2010-01-04 18:10:00   NaN   NaN   NaN 2010-01-04 18:05:00  21043810         NaN         NaN\n",
      "2010-01-04 18:15:00   NaN   NaN   NaN 2010-01-04 18:10:00  21043815         NaN         NaN\n",
      "2010-01-04 18:20:00   NaN   NaN   NaN 2010-01-04 18:15:00  21043820         NaN         NaN\n",
      "now= 2010-01-04 18:21:00\n",
      "now= 2010-01-04 18:22:00\n",
      "now= 2010-01-04 18:23:00\n",
      "now= 2010-01-04 18:24:00\n",
      "now= 2010-01-04 18:25:00\n",
      "Time to execute the DAG\n"
     ]
    },
    {
     "data": {
      "application/vnd.jupyter.widget-view+json": {
       "model_id": "dd6c274c1a134a3f8958c89ca28d15e4",
       "version_major": 2,
       "version_minor": 0
      },
      "text/plain": [
       "run_leq_node:   0%|          | 0/6 [00:00<?, ?it/s]"
      ]
     },
     "metadata": {},
     "output_type": "display_data"
    },
    {
     "name": "stdout",
     "output_type": "stream",
     "text": [
      "                     vwap  twap  last bar_start_timestamp    minute  twap_ret_0  vwap_ret_0\n",
      "2010-01-04 18:15:00   NaN   NaN   NaN 2010-01-04 18:10:00  21043815         NaN         NaN\n",
      "2010-01-04 18:20:00   NaN   NaN   NaN 2010-01-04 18:15:00  21043820         NaN         NaN\n",
      "2010-01-04 18:25:00   NaN   NaN   NaN 2010-01-04 18:20:00  21043825         NaN         NaN\n",
      "now= 2010-01-04 18:26:00\n",
      "now= 2010-01-04 18:27:00\n",
      "now= 2010-01-04 18:28:00\n",
      "now= 2010-01-04 18:29:00\n",
      "now= 2010-01-04 18:30:00\n",
      "Time to execute the DAG\n"
     ]
    },
    {
     "data": {
      "application/vnd.jupyter.widget-view+json": {
       "model_id": "5c49a02af5d64b779f43af93e39f2e2e",
       "version_major": 2,
       "version_minor": 0
      },
      "text/plain": [
       "run_leq_node:   0%|          | 0/6 [00:00<?, ?it/s]"
      ]
     },
     "metadata": {},
     "output_type": "display_data"
    },
    {
     "name": "stdout",
     "output_type": "stream",
     "text": [
      "                     vwap  twap  last bar_start_timestamp    minute  twap_ret_0  vwap_ret_0\n",
      "2010-01-04 18:20:00   NaN   NaN   NaN 2010-01-04 18:15:00  21043820         NaN         NaN\n",
      "2010-01-04 18:25:00   NaN   NaN   NaN 2010-01-04 18:20:00  21043825         NaN         NaN\n",
      "2010-01-04 18:30:00   NaN   NaN   NaN 2010-01-04 18:25:00  21043830         NaN         NaN\n",
      "now= 2010-01-04 18:31:00\n",
      "now= 2010-01-04 18:32:00\n",
      "now= 2010-01-04 18:33:00\n",
      "now= 2010-01-04 18:34:00\n",
      "now= 2010-01-04 18:35:00\n",
      "Time to execute the DAG\n"
     ]
    },
    {
     "data": {
      "application/vnd.jupyter.widget-view+json": {
       "model_id": "a6beaed527e94b3ba2026e41dfe0ec57",
       "version_major": 2,
       "version_minor": 0
      },
      "text/plain": [
       "run_leq_node:   0%|          | 0/6 [00:00<?, ?it/s]"
      ]
     },
     "metadata": {},
     "output_type": "display_data"
    },
    {
     "name": "stdout",
     "output_type": "stream",
     "text": [
      "                     vwap  twap  last bar_start_timestamp    minute  twap_ret_0  vwap_ret_0\n",
      "2010-01-04 18:25:00   NaN   NaN   NaN 2010-01-04 18:20:00  21043825         NaN         NaN\n",
      "2010-01-04 18:30:00   NaN   NaN   NaN 2010-01-04 18:25:00  21043830         NaN         NaN\n",
      "2010-01-04 18:35:00   NaN   NaN   NaN 2010-01-04 18:30:00  21043835         NaN         NaN\n",
      "now= 2010-01-04 18:36:00\n",
      "now= 2010-01-04 18:37:00\n",
      "now= 2010-01-04 18:38:00\n",
      "now= 2010-01-04 18:39:00\n",
      "now= 2010-01-04 18:40:00\n",
      "Time to execute the DAG\n"
     ]
    },
    {
     "data": {
      "application/vnd.jupyter.widget-view+json": {
       "model_id": "ab9a41be7b4a4c818c84994f087f5bdb",
       "version_major": 2,
       "version_minor": 0
      },
      "text/plain": [
       "run_leq_node:   0%|          | 0/6 [00:00<?, ?it/s]"
      ]
     },
     "metadata": {},
     "output_type": "display_data"
    },
    {
     "name": "stdout",
     "output_type": "stream",
     "text": [
      "                     vwap  twap  last bar_start_timestamp    minute  twap_ret_0  vwap_ret_0\n",
      "2010-01-04 18:30:00   NaN   NaN   NaN 2010-01-04 18:25:00  21043830         NaN         NaN\n",
      "2010-01-04 18:35:00   NaN   NaN   NaN 2010-01-04 18:30:00  21043835         NaN         NaN\n",
      "2010-01-04 18:40:00   NaN   NaN   NaN 2010-01-04 18:35:00  21043840         NaN         NaN\n",
      "now= 2010-01-04 18:41:00\n",
      "now= 2010-01-04 18:42:00\n",
      "now= 2010-01-04 18:43:00\n",
      "now= 2010-01-04 18:44:00\n",
      "now= 2010-01-04 18:45:00\n",
      "Time to execute the DAG\n"
     ]
    },
    {
     "data": {
      "application/vnd.jupyter.widget-view+json": {
       "model_id": "cdf1dc69dc0a4d1b9b804c92cbb53c0c",
       "version_major": 2,
       "version_minor": 0
      },
      "text/plain": [
       "run_leq_node:   0%|          | 0/6 [00:00<?, ?it/s]"
      ]
     },
     "metadata": {},
     "output_type": "display_data"
    },
    {
     "name": "stdout",
     "output_type": "stream",
     "text": [
      "                     vwap  twap  last bar_start_timestamp    minute  twap_ret_0  vwap_ret_0\n",
      "2010-01-04 18:35:00   NaN   NaN   NaN 2010-01-04 18:30:00  21043835         NaN         NaN\n",
      "2010-01-04 18:40:00   NaN   NaN   NaN 2010-01-04 18:35:00  21043840         NaN         NaN\n",
      "2010-01-04 18:45:00   NaN   NaN   NaN 2010-01-04 18:40:00  21043845         NaN         NaN\n",
      "now= 2010-01-04 18:46:00\n",
      "now= 2010-01-04 18:47:00\n",
      "now= 2010-01-04 18:48:00\n",
      "now= 2010-01-04 18:49:00\n",
      "now= 2010-01-04 18:50:00\n",
      "Time to execute the DAG\n"
     ]
    },
    {
     "data": {
      "application/vnd.jupyter.widget-view+json": {
       "model_id": "94782d72ccd24af98fa2048eb728bd4a",
       "version_major": 2,
       "version_minor": 0
      },
      "text/plain": [
       "run_leq_node:   0%|          | 0/6 [00:00<?, ?it/s]"
      ]
     },
     "metadata": {},
     "output_type": "display_data"
    },
    {
     "name": "stdout",
     "output_type": "stream",
     "text": [
      "                     vwap  twap  last bar_start_timestamp    minute  twap_ret_0  vwap_ret_0\n",
      "2010-01-04 18:40:00   NaN   NaN   NaN 2010-01-04 18:35:00  21043840         NaN         NaN\n",
      "2010-01-04 18:45:00   NaN   NaN   NaN 2010-01-04 18:40:00  21043845         NaN         NaN\n",
      "2010-01-04 18:50:00   NaN   NaN   NaN 2010-01-04 18:45:00  21043850         NaN         NaN\n",
      "now= 2010-01-04 18:51:00\n",
      "now= 2010-01-04 18:52:00\n",
      "now= 2010-01-04 18:53:00\n",
      "now= 2010-01-04 18:54:00\n",
      "now= 2010-01-04 18:55:00\n",
      "Time to execute the DAG\n"
     ]
    },
    {
     "data": {
      "application/vnd.jupyter.widget-view+json": {
       "model_id": "9431f7b656f14b7ea7538880d4d6006f",
       "version_major": 2,
       "version_minor": 0
      },
      "text/plain": [
       "run_leq_node:   0%|          | 0/6 [00:00<?, ?it/s]"
      ]
     },
     "metadata": {},
     "output_type": "display_data"
    },
    {
     "name": "stdout",
     "output_type": "stream",
     "text": [
      "                     vwap  twap  last bar_start_timestamp    minute  twap_ret_0  vwap_ret_0\n",
      "2010-01-04 18:45:00   NaN   NaN   NaN 2010-01-04 18:40:00  21043845         NaN         NaN\n",
      "2010-01-04 18:50:00   NaN   NaN   NaN 2010-01-04 18:45:00  21043850         NaN         NaN\n",
      "2010-01-04 18:55:00   NaN   NaN   NaN 2010-01-04 18:50:00  21043855         NaN         NaN\n",
      "now= 2010-01-04 18:56:00\n",
      "now= 2010-01-04 18:57:00\n",
      "now= 2010-01-04 18:58:00\n",
      "now= 2010-01-04 18:59:00\n",
      "now= 2010-01-04 19:00:00\n",
      "Time to execute the DAG\n"
     ]
    },
    {
     "data": {
      "application/vnd.jupyter.widget-view+json": {
       "model_id": "c1b6f25604324f27a2bcecaa3b4215c9",
       "version_major": 2,
       "version_minor": 0
      },
      "text/plain": [
       "run_leq_node:   0%|          | 0/6 [00:00<?, ?it/s]"
      ]
     },
     "metadata": {},
     "output_type": "display_data"
    },
    {
     "name": "stdout",
     "output_type": "stream",
     "text": [
      "                     vwap  twap  last bar_start_timestamp    minute  twap_ret_0  vwap_ret_0\n",
      "2010-01-04 18:50:00   NaN   NaN   NaN 2010-01-04 18:45:00  21043850         NaN         NaN\n",
      "2010-01-04 18:55:00   NaN   NaN   NaN 2010-01-04 18:50:00  21043855         NaN         NaN\n",
      "2010-01-04 19:00:00   NaN   NaN   NaN 2010-01-04 18:55:00  21043860         NaN         NaN\n",
      "now= 2010-01-04 19:01:00\n",
      "now= 2010-01-04 19:02:00\n",
      "now= 2010-01-04 19:03:00\n",
      "now= 2010-01-04 19:04:00\n",
      "now= 2010-01-04 19:05:00\n",
      "Time to execute the DAG\n"
     ]
    },
    {
     "data": {
      "application/vnd.jupyter.widget-view+json": {
       "model_id": "d0beda48d3e6433da270bc79408a1201",
       "version_major": 2,
       "version_minor": 0
      },
      "text/plain": [
       "run_leq_node:   0%|          | 0/6 [00:00<?, ?it/s]"
      ]
     },
     "metadata": {},
     "output_type": "display_data"
    },
    {
     "name": "stdout",
     "output_type": "stream",
     "text": [
      "                     vwap  twap  last bar_start_timestamp    minute  twap_ret_0  vwap_ret_0\n",
      "2010-01-04 18:55:00   NaN   NaN   NaN 2010-01-04 18:50:00  21043855         NaN         NaN\n",
      "2010-01-04 19:00:00   NaN   NaN   NaN 2010-01-04 18:55:00  21043860         NaN         NaN\n",
      "2010-01-04 19:05:00   NaN   NaN   NaN 2010-01-04 19:00:00  21043865         NaN         NaN\n",
      "now= 2010-01-04 19:06:00\n",
      "now= 2010-01-04 19:07:00\n",
      "now= 2010-01-04 19:08:00\n",
      "now= 2010-01-04 19:09:00\n",
      "now= 2010-01-04 19:10:00\n",
      "Time to execute the DAG\n"
     ]
    },
    {
     "data": {
      "application/vnd.jupyter.widget-view+json": {
       "model_id": "b72cd6a7973943168900eb2faa3fd30c",
       "version_major": 2,
       "version_minor": 0
      },
      "text/plain": [
       "run_leq_node:   0%|          | 0/6 [00:00<?, ?it/s]"
      ]
     },
     "metadata": {},
     "output_type": "display_data"
    },
    {
     "name": "stdout",
     "output_type": "stream",
     "text": [
      "                     vwap  twap  last bar_start_timestamp    minute  twap_ret_0  vwap_ret_0\n",
      "2010-01-04 19:00:00   NaN   NaN   NaN 2010-01-04 18:55:00  21043860         NaN         NaN\n",
      "2010-01-04 19:05:00   NaN   NaN   NaN 2010-01-04 19:00:00  21043865         NaN         NaN\n",
      "2010-01-04 19:10:00   NaN   NaN   NaN 2010-01-04 19:05:00  21043870         NaN         NaN\n",
      "now= 2010-01-04 19:11:00\n",
      "now= 2010-01-04 19:12:00\n",
      "now= 2010-01-04 19:13:00\n",
      "now= 2010-01-04 19:14:00\n",
      "now= 2010-01-04 19:15:00\n",
      "Time to execute the DAG\n"
     ]
    },
    {
     "data": {
      "application/vnd.jupyter.widget-view+json": {
       "model_id": "27658b783e644eee95de302f244c5e45",
       "version_major": 2,
       "version_minor": 0
      },
      "text/plain": [
       "run_leq_node:   0%|          | 0/6 [00:00<?, ?it/s]"
      ]
     },
     "metadata": {},
     "output_type": "display_data"
    },
    {
     "name": "stdout",
     "output_type": "stream",
     "text": [
      "                     vwap  twap  last bar_start_timestamp    minute  twap_ret_0  vwap_ret_0\n",
      "2010-01-04 19:05:00   NaN   NaN   NaN 2010-01-04 19:00:00  21043865         NaN         NaN\n",
      "2010-01-04 19:10:00   NaN   NaN   NaN 2010-01-04 19:05:00  21043870         NaN         NaN\n",
      "2010-01-04 19:15:00   NaN   NaN   NaN 2010-01-04 19:10:00  21043875         NaN         NaN\n",
      "now= 2010-01-04 19:16:00\n",
      "now= 2010-01-04 19:17:00\n",
      "now= 2010-01-04 19:18:00\n",
      "now= 2010-01-04 19:19:00\n",
      "now= 2010-01-04 19:20:00\n",
      "Time to execute the DAG\n"
     ]
    },
    {
     "data": {
      "application/vnd.jupyter.widget-view+json": {
       "model_id": "332ba70b1b2b4adcb0dd433fab496dcf",
       "version_major": 2,
       "version_minor": 0
      },
      "text/plain": [
       "run_leq_node:   0%|          | 0/6 [00:00<?, ?it/s]"
      ]
     },
     "metadata": {},
     "output_type": "display_data"
    },
    {
     "name": "stdout",
     "output_type": "stream",
     "text": [
      "                     vwap  twap  last bar_start_timestamp    minute  twap_ret_0  vwap_ret_0\n",
      "2010-01-04 19:10:00   NaN   NaN   NaN 2010-01-04 19:05:00  21043870         NaN         NaN\n",
      "2010-01-04 19:15:00   NaN   NaN   NaN 2010-01-04 19:10:00  21043875         NaN         NaN\n",
      "2010-01-04 19:20:00   NaN   NaN   NaN 2010-01-04 19:15:00  21043880         NaN         NaN\n",
      "now= 2010-01-04 19:21:00\n",
      "now= 2010-01-04 19:22:00\n",
      "now= 2010-01-04 19:23:00\n",
      "now= 2010-01-04 19:24:00\n",
      "now= 2010-01-04 19:25:00\n",
      "Time to execute the DAG\n"
     ]
    },
    {
     "data": {
      "application/vnd.jupyter.widget-view+json": {
       "model_id": "6b98b6d377c44f538750a6cf3654e539",
       "version_major": 2,
       "version_minor": 0
      },
      "text/plain": [
       "run_leq_node:   0%|          | 0/6 [00:00<?, ?it/s]"
      ]
     },
     "metadata": {},
     "output_type": "display_data"
    },
    {
     "name": "stdout",
     "output_type": "stream",
     "text": [
      "                     vwap  twap  last bar_start_timestamp    minute  twap_ret_0  vwap_ret_0\n",
      "2010-01-04 19:15:00   NaN   NaN   NaN 2010-01-04 19:10:00  21043875         NaN         NaN\n",
      "2010-01-04 19:20:00   NaN   NaN   NaN 2010-01-04 19:15:00  21043880         NaN         NaN\n",
      "2010-01-04 19:25:00   NaN   NaN   NaN 2010-01-04 19:20:00  21043885         NaN         NaN\n",
      "now= 2010-01-04 19:26:00\n",
      "now= 2010-01-04 19:27:00\n",
      "now= 2010-01-04 19:28:00\n",
      "now= 2010-01-04 19:29:00\n",
      "now= 2010-01-04 19:30:00\n",
      "Time to execute the DAG\n"
     ]
    },
    {
     "data": {
      "application/vnd.jupyter.widget-view+json": {
       "model_id": "85f36d082fc745a2a5aafd5cb8df9ebd",
       "version_major": 2,
       "version_minor": 0
      },
      "text/plain": [
       "run_leq_node:   0%|          | 0/6 [00:00<?, ?it/s]"
      ]
     },
     "metadata": {},
     "output_type": "display_data"
    },
    {
     "name": "stdout",
     "output_type": "stream",
     "text": [
      "                     vwap  twap  last bar_start_timestamp    minute  twap_ret_0  vwap_ret_0\n",
      "2010-01-04 19:20:00   NaN   NaN   NaN 2010-01-04 19:15:00  21043880         NaN         NaN\n",
      "2010-01-04 19:25:00   NaN   NaN   NaN 2010-01-04 19:20:00  21043885         NaN         NaN\n",
      "2010-01-04 19:30:00   NaN   NaN   NaN 2010-01-04 19:25:00  21043890         NaN         NaN\n",
      "now= 2010-01-04 19:31:00\n",
      "now= 2010-01-04 19:32:00\n",
      "now= 2010-01-04 19:33:00\n",
      "now= 2010-01-04 19:34:00\n",
      "now= 2010-01-04 19:35:00\n",
      "Time to execute the DAG\n"
     ]
    },
    {
     "data": {
      "application/vnd.jupyter.widget-view+json": {
       "model_id": "b93306578b0b4a56beae5a1aa4097415",
       "version_major": 2,
       "version_minor": 0
      },
      "text/plain": [
       "run_leq_node:   0%|          | 0/6 [00:00<?, ?it/s]"
      ]
     },
     "metadata": {},
     "output_type": "display_data"
    },
    {
     "name": "stdout",
     "output_type": "stream",
     "text": [
      "                     vwap  twap  last bar_start_timestamp    minute  twap_ret_0  vwap_ret_0\n",
      "2010-01-04 19:25:00   NaN   NaN   NaN 2010-01-04 19:20:00  21043885         NaN         NaN\n",
      "2010-01-04 19:30:00   NaN   NaN   NaN 2010-01-04 19:25:00  21043890         NaN         NaN\n",
      "2010-01-04 19:35:00   NaN   NaN   NaN 2010-01-04 19:30:00  21043895         NaN         NaN\n",
      "now= 2010-01-04 19:36:00\n",
      "now= 2010-01-04 19:37:00\n",
      "now= 2010-01-04 19:38:00\n",
      "now= 2010-01-04 19:39:00\n",
      "now= 2010-01-04 19:40:00\n",
      "Time to execute the DAG\n"
     ]
    },
    {
     "data": {
      "application/vnd.jupyter.widget-view+json": {
       "model_id": "d40391f19b7a4ac48eb1cc357b1407f1",
       "version_major": 2,
       "version_minor": 0
      },
      "text/plain": [
       "run_leq_node:   0%|          | 0/6 [00:00<?, ?it/s]"
      ]
     },
     "metadata": {},
     "output_type": "display_data"
    },
    {
     "name": "stdout",
     "output_type": "stream",
     "text": [
      "                     vwap  twap  last bar_start_timestamp    minute  twap_ret_0  vwap_ret_0\n",
      "2010-01-04 19:30:00   NaN   NaN   NaN 2010-01-04 19:25:00  21043890         NaN         NaN\n",
      "2010-01-04 19:35:00   NaN   NaN   NaN 2010-01-04 19:30:00  21043895         NaN         NaN\n",
      "2010-01-04 19:40:00   NaN   NaN   NaN 2010-01-04 19:35:00  21043900         NaN         NaN\n",
      "now= 2010-01-04 19:41:00\n",
      "now= 2010-01-04 19:42:00\n",
      "now= 2010-01-04 19:43:00\n",
      "now= 2010-01-04 19:44:00\n",
      "now= 2010-01-04 19:45:00\n",
      "Time to execute the DAG\n"
     ]
    },
    {
     "data": {
      "application/vnd.jupyter.widget-view+json": {
       "model_id": "28cd6393b65f4306843c3c296e3d185d",
       "version_major": 2,
       "version_minor": 0
      },
      "text/plain": [
       "run_leq_node:   0%|          | 0/6 [00:00<?, ?it/s]"
      ]
     },
     "metadata": {},
     "output_type": "display_data"
    },
    {
     "name": "stdout",
     "output_type": "stream",
     "text": [
      "                     vwap  twap  last bar_start_timestamp    minute  twap_ret_0  vwap_ret_0\n",
      "2010-01-04 19:35:00   NaN   NaN   NaN 2010-01-04 19:30:00  21043895         NaN         NaN\n",
      "2010-01-04 19:40:00   NaN   NaN   NaN 2010-01-04 19:35:00  21043900         NaN         NaN\n",
      "2010-01-04 19:45:00   NaN   NaN   NaN 2010-01-04 19:40:00  21043905         NaN         NaN\n",
      "now= 2010-01-04 19:46:00\n",
      "now= 2010-01-04 19:47:00\n",
      "now= 2010-01-04 19:48:00\n",
      "now= 2010-01-04 19:49:00\n",
      "now= 2010-01-04 19:50:00\n",
      "Time to execute the DAG\n"
     ]
    },
    {
     "data": {
      "application/vnd.jupyter.widget-view+json": {
       "model_id": "676fab294b364f73ac55febb23c360c2",
       "version_major": 2,
       "version_minor": 0
      },
      "text/plain": [
       "run_leq_node:   0%|          | 0/6 [00:00<?, ?it/s]"
      ]
     },
     "metadata": {},
     "output_type": "display_data"
    },
    {
     "name": "stdout",
     "output_type": "stream",
     "text": [
      "                     vwap  twap  last bar_start_timestamp    minute  twap_ret_0  vwap_ret_0\n",
      "2010-01-04 19:40:00   NaN   NaN   NaN 2010-01-04 19:35:00  21043900         NaN         NaN\n",
      "2010-01-04 19:45:00   NaN   NaN   NaN 2010-01-04 19:40:00  21043905         NaN         NaN\n",
      "2010-01-04 19:50:00   NaN   NaN   NaN 2010-01-04 19:45:00  21043910         NaN         NaN\n",
      "now= 2010-01-04 19:51:00\n",
      "now= 2010-01-04 19:52:00\n",
      "now= 2010-01-04 19:53:00\n",
      "now= 2010-01-04 19:54:00\n",
      "now= 2010-01-04 19:55:00\n",
      "Time to execute the DAG\n"
     ]
    },
    {
     "data": {
      "application/vnd.jupyter.widget-view+json": {
       "model_id": "43be88fb87c24a65a4287ec1cbc43889",
       "version_major": 2,
       "version_minor": 0
      },
      "text/plain": [
       "run_leq_node:   0%|          | 0/6 [00:00<?, ?it/s]"
      ]
     },
     "metadata": {},
     "output_type": "display_data"
    },
    {
     "name": "stdout",
     "output_type": "stream",
     "text": [
      "                     vwap  twap  last bar_start_timestamp    minute  twap_ret_0  vwap_ret_0\n",
      "2010-01-04 19:45:00   NaN   NaN   NaN 2010-01-04 19:40:00  21043905         NaN         NaN\n",
      "2010-01-04 19:50:00   NaN   NaN   NaN 2010-01-04 19:45:00  21043910         NaN         NaN\n",
      "2010-01-04 19:55:00   NaN   NaN   NaN 2010-01-04 19:50:00  21043915         NaN         NaN\n",
      "now= 2010-01-04 19:56:00\n",
      "now= 2010-01-04 19:57:00\n",
      "now= 2010-01-04 19:58:00\n",
      "now= 2010-01-04 19:59:00\n",
      "now= 2010-01-04 20:00:00\n",
      "Time to execute the DAG\n"
     ]
    },
    {
     "data": {
      "application/vnd.jupyter.widget-view+json": {
       "model_id": "47794fa453a4451eb26c2a53984ee94c",
       "version_major": 2,
       "version_minor": 0
      },
      "text/plain": [
       "run_leq_node:   0%|          | 0/6 [00:00<?, ?it/s]"
      ]
     },
     "metadata": {},
     "output_type": "display_data"
    },
    {
     "name": "stdout",
     "output_type": "stream",
     "text": [
      "                     vwap  twap  last bar_start_timestamp    minute  twap_ret_0  vwap_ret_0\n",
      "2010-01-04 19:50:00   NaN   NaN   NaN 2010-01-04 19:45:00  21043910         NaN         NaN\n",
      "2010-01-04 19:55:00   NaN   NaN   NaN 2010-01-04 19:50:00  21043915         NaN         NaN\n",
      "2010-01-04 20:00:00   NaN   NaN   NaN 2010-01-04 19:55:00  21043920         NaN         NaN\n",
      "now= 2010-01-04 20:01:00\n",
      "now= 2010-01-04 20:02:00\n",
      "now= 2010-01-04 20:03:00\n",
      "now= 2010-01-04 20:04:00\n",
      "now= 2010-01-04 20:05:00\n",
      "Time to execute the DAG\n"
     ]
    },
    {
     "data": {
      "application/vnd.jupyter.widget-view+json": {
       "model_id": "586ec1e36c2c4a03b290fcaee1cc4fab",
       "version_major": 2,
       "version_minor": 0
      },
      "text/plain": [
       "run_leq_node:   0%|          | 0/6 [00:00<?, ?it/s]"
      ]
     },
     "metadata": {},
     "output_type": "display_data"
    },
    {
     "name": "stdout",
     "output_type": "stream",
     "text": [
      "                     vwap  twap  last bar_start_timestamp    minute  twap_ret_0  vwap_ret_0\n",
      "2010-01-04 19:55:00   NaN   NaN   NaN 2010-01-04 19:50:00  21043915         NaN         NaN\n",
      "2010-01-04 20:00:00   NaN   NaN   NaN 2010-01-04 19:55:00  21043920         NaN         NaN\n",
      "2010-01-04 20:05:00   NaN   NaN   NaN 2010-01-04 20:00:00  21043925         NaN         NaN\n",
      "now= 2010-01-04 20:06:00\n",
      "now= 2010-01-04 20:07:00\n",
      "now= 2010-01-04 20:08:00\n",
      "now= 2010-01-04 20:09:00\n",
      "now= 2010-01-04 20:10:00\n",
      "Time to execute the DAG\n"
     ]
    },
    {
     "data": {
      "application/vnd.jupyter.widget-view+json": {
       "model_id": "bc215423907246d681ddaec0290c4634",
       "version_major": 2,
       "version_minor": 0
      },
      "text/plain": [
       "run_leq_node:   0%|          | 0/6 [00:00<?, ?it/s]"
      ]
     },
     "metadata": {},
     "output_type": "display_data"
    },
    {
     "name": "stdout",
     "output_type": "stream",
     "text": [
      "                     vwap  twap  last bar_start_timestamp    minute  twap_ret_0  vwap_ret_0\n",
      "2010-01-04 20:00:00   NaN   NaN   NaN 2010-01-04 19:55:00  21043920         NaN         NaN\n",
      "2010-01-04 20:05:00   NaN   NaN   NaN 2010-01-04 20:00:00  21043925         NaN         NaN\n",
      "2010-01-04 20:10:00   NaN   NaN   NaN 2010-01-04 20:05:00  21043930         NaN         NaN\n",
      "now= 2010-01-04 20:11:00\n",
      "now= 2010-01-04 20:12:00\n",
      "now= 2010-01-04 20:13:00\n",
      "now= 2010-01-04 20:14:00\n",
      "now= 2010-01-04 20:15:00\n",
      "Time to execute the DAG\n"
     ]
    },
    {
     "data": {
      "application/vnd.jupyter.widget-view+json": {
       "model_id": "2a6237abbaf54e3eba9f8a65169d4607",
       "version_major": 2,
       "version_minor": 0
      },
      "text/plain": [
       "run_leq_node:   0%|          | 0/6 [00:00<?, ?it/s]"
      ]
     },
     "metadata": {},
     "output_type": "display_data"
    },
    {
     "name": "stdout",
     "output_type": "stream",
     "text": [
      "                     vwap  twap  last bar_start_timestamp    minute  twap_ret_0  vwap_ret_0\n",
      "2010-01-04 20:05:00   NaN   NaN   NaN 2010-01-04 20:00:00  21043925         NaN         NaN\n",
      "2010-01-04 20:10:00   NaN   NaN   NaN 2010-01-04 20:05:00  21043930         NaN         NaN\n",
      "2010-01-04 20:15:00   NaN   NaN   NaN 2010-01-04 20:10:00  21043935         NaN         NaN\n",
      "now= 2010-01-04 20:16:00\n",
      "now= 2010-01-04 20:17:00\n",
      "now= 2010-01-04 20:18:00\n",
      "now= 2010-01-04 20:19:00\n",
      "now= 2010-01-04 20:20:00\n",
      "Time to execute the DAG\n"
     ]
    },
    {
     "data": {
      "application/vnd.jupyter.widget-view+json": {
       "model_id": "15965c9b9b57468dabe01e1fbea23c32",
       "version_major": 2,
       "version_minor": 0
      },
      "text/plain": [
       "run_leq_node:   0%|          | 0/6 [00:00<?, ?it/s]"
      ]
     },
     "metadata": {},
     "output_type": "display_data"
    },
    {
     "name": "stdout",
     "output_type": "stream",
     "text": [
      "                     vwap  twap  last bar_start_timestamp    minute  twap_ret_0  vwap_ret_0\n",
      "2010-01-04 20:10:00   NaN   NaN   NaN 2010-01-04 20:05:00  21043930         NaN         NaN\n",
      "2010-01-04 20:15:00   NaN   NaN   NaN 2010-01-04 20:10:00  21043935         NaN         NaN\n",
      "2010-01-04 20:20:00   NaN   NaN   NaN 2010-01-04 20:15:00  21043940         NaN         NaN\n",
      "now= 2010-01-04 20:21:00\n",
      "now= 2010-01-04 20:22:00\n",
      "now= 2010-01-04 20:23:00\n",
      "now= 2010-01-04 20:24:00\n",
      "now= 2010-01-04 20:25:00\n",
      "Time to execute the DAG\n"
     ]
    },
    {
     "data": {
      "application/vnd.jupyter.widget-view+json": {
       "model_id": "dbf9cce52d2f45ab88ab44564caf254c",
       "version_major": 2,
       "version_minor": 0
      },
      "text/plain": [
       "run_leq_node:   0%|          | 0/6 [00:00<?, ?it/s]"
      ]
     },
     "metadata": {},
     "output_type": "display_data"
    },
    {
     "name": "stdout",
     "output_type": "stream",
     "text": [
      "                     vwap  twap  last bar_start_timestamp    minute  twap_ret_0  vwap_ret_0\n",
      "2010-01-04 20:15:00   NaN   NaN   NaN 2010-01-04 20:10:00  21043935         NaN         NaN\n",
      "2010-01-04 20:20:00   NaN   NaN   NaN 2010-01-04 20:15:00  21043940         NaN         NaN\n",
      "2010-01-04 20:25:00   NaN   NaN   NaN 2010-01-04 20:20:00  21043945         NaN         NaN\n",
      "now= 2010-01-04 20:26:00\n",
      "now= 2010-01-04 20:27:00\n",
      "now= 2010-01-04 20:28:00\n",
      "now= 2010-01-04 20:29:00\n",
      "now= 2010-01-04 20:30:00\n",
      "Time to execute the DAG\n"
     ]
    },
    {
     "data": {
      "application/vnd.jupyter.widget-view+json": {
       "model_id": "879382ca55f440c095aacd200358f1be",
       "version_major": 2,
       "version_minor": 0
      },
      "text/plain": [
       "run_leq_node:   0%|          | 0/6 [00:00<?, ?it/s]"
      ]
     },
     "metadata": {},
     "output_type": "display_data"
    },
    {
     "name": "stdout",
     "output_type": "stream",
     "text": [
      "                     vwap  twap  last bar_start_timestamp    minute  twap_ret_0  vwap_ret_0\n",
      "2010-01-04 20:20:00   NaN   NaN   NaN 2010-01-04 20:15:00  21043940         NaN         NaN\n",
      "2010-01-04 20:25:00   NaN   NaN   NaN 2010-01-04 20:20:00  21043945         NaN         NaN\n",
      "2010-01-04 20:30:00   NaN   NaN   NaN 2010-01-04 20:25:00  21043950         NaN         NaN\n",
      "now= 2010-01-04 20:31:00\n",
      "now= 2010-01-04 20:32:00\n",
      "now= 2010-01-04 20:33:00\n",
      "now= 2010-01-04 20:34:00\n",
      "now= 2010-01-04 20:35:00\n",
      "Time to execute the DAG\n"
     ]
    },
    {
     "data": {
      "application/vnd.jupyter.widget-view+json": {
       "model_id": "a7e063d8d3164bb39f739079fd643d1e",
       "version_major": 2,
       "version_minor": 0
      },
      "text/plain": [
       "run_leq_node:   0%|          | 0/6 [00:00<?, ?it/s]"
      ]
     },
     "metadata": {},
     "output_type": "display_data"
    },
    {
     "name": "stdout",
     "output_type": "stream",
     "text": [
      "                     vwap  twap  last bar_start_timestamp    minute  twap_ret_0  vwap_ret_0\n",
      "2010-01-04 20:25:00   NaN   NaN   NaN 2010-01-04 20:20:00  21043945         NaN         NaN\n",
      "2010-01-04 20:30:00   NaN   NaN   NaN 2010-01-04 20:25:00  21043950         NaN         NaN\n",
      "2010-01-04 20:35:00   NaN   NaN   NaN 2010-01-04 20:30:00  21043955         NaN         NaN\n",
      "now= 2010-01-04 20:36:00\n",
      "now= 2010-01-04 20:37:00\n",
      "now= 2010-01-04 20:38:00\n",
      "now= 2010-01-04 20:39:00\n",
      "now= 2010-01-04 20:40:00\n",
      "Time to execute the DAG\n"
     ]
    },
    {
     "data": {
      "application/vnd.jupyter.widget-view+json": {
       "model_id": "009c1961957c48eda1ceeeb298bab61b",
       "version_major": 2,
       "version_minor": 0
      },
      "text/plain": [
       "run_leq_node:   0%|          | 0/6 [00:00<?, ?it/s]"
      ]
     },
     "metadata": {},
     "output_type": "display_data"
    },
    {
     "name": "stdout",
     "output_type": "stream",
     "text": [
      "                     vwap  twap  last bar_start_timestamp    minute  twap_ret_0  vwap_ret_0\n",
      "2010-01-04 20:30:00   NaN   NaN   NaN 2010-01-04 20:25:00  21043950         NaN         NaN\n",
      "2010-01-04 20:35:00   NaN   NaN   NaN 2010-01-04 20:30:00  21043955         NaN         NaN\n",
      "2010-01-04 20:40:00   NaN   NaN   NaN 2010-01-04 20:35:00  21043960         NaN         NaN\n",
      "now= 2010-01-04 20:41:00\n",
      "now= 2010-01-04 20:42:00\n",
      "now= 2010-01-04 20:43:00\n",
      "now= 2010-01-04 20:44:00\n",
      "now= 2010-01-04 20:45:00\n",
      "Time to execute the DAG\n"
     ]
    },
    {
     "data": {
      "application/vnd.jupyter.widget-view+json": {
       "model_id": "075dbc6d88a14b9193e2c998b7dcada7",
       "version_major": 2,
       "version_minor": 0
      },
      "text/plain": [
       "run_leq_node:   0%|          | 0/6 [00:00<?, ?it/s]"
      ]
     },
     "metadata": {},
     "output_type": "display_data"
    },
    {
     "name": "stdout",
     "output_type": "stream",
     "text": [
      "                     vwap  twap  last bar_start_timestamp    minute  twap_ret_0  vwap_ret_0\n",
      "2010-01-04 20:35:00   NaN   NaN   NaN 2010-01-04 20:30:00  21043955         NaN         NaN\n",
      "2010-01-04 20:40:00   NaN   NaN   NaN 2010-01-04 20:35:00  21043960         NaN         NaN\n",
      "2010-01-04 20:45:00   NaN   NaN   NaN 2010-01-04 20:40:00  21043965         NaN         NaN\n",
      "now= 2010-01-04 20:46:00\n",
      "now= 2010-01-04 20:47:00\n",
      "now= 2010-01-04 20:48:00\n",
      "now= 2010-01-04 20:49:00\n",
      "now= 2010-01-04 20:50:00\n",
      "Time to execute the DAG\n"
     ]
    },
    {
     "data": {
      "application/vnd.jupyter.widget-view+json": {
       "model_id": "bb256ca8ca6d4713afffa54fe901e5fc",
       "version_major": 2,
       "version_minor": 0
      },
      "text/plain": [
       "run_leq_node:   0%|          | 0/6 [00:00<?, ?it/s]"
      ]
     },
     "metadata": {},
     "output_type": "display_data"
    },
    {
     "name": "stdout",
     "output_type": "stream",
     "text": [
      "                     vwap  twap  last bar_start_timestamp    minute  twap_ret_0  vwap_ret_0\n",
      "2010-01-04 20:40:00   NaN   NaN   NaN 2010-01-04 20:35:00  21043960         NaN         NaN\n",
      "2010-01-04 20:45:00   NaN   NaN   NaN 2010-01-04 20:40:00  21043965         NaN         NaN\n",
      "2010-01-04 20:50:00   NaN   NaN   NaN 2010-01-04 20:45:00  21043970         NaN         NaN\n",
      "now= 2010-01-04 20:51:00\n",
      "now= 2010-01-04 20:52:00\n",
      "now= 2010-01-04 20:53:00\n",
      "now= 2010-01-04 20:54:00\n",
      "now= 2010-01-04 20:55:00\n",
      "Time to execute the DAG\n"
     ]
    },
    {
     "data": {
      "application/vnd.jupyter.widget-view+json": {
       "model_id": "26c86f2c36664a2fa905ad52f17d0eef",
       "version_major": 2,
       "version_minor": 0
      },
      "text/plain": [
       "run_leq_node:   0%|          | 0/6 [00:00<?, ?it/s]"
      ]
     },
     "metadata": {},
     "output_type": "display_data"
    },
    {
     "name": "stdout",
     "output_type": "stream",
     "text": [
      "                     vwap  twap  last bar_start_timestamp    minute  twap_ret_0  vwap_ret_0\n",
      "2010-01-04 20:45:00   NaN   NaN   NaN 2010-01-04 20:40:00  21043965         NaN         NaN\n",
      "2010-01-04 20:50:00   NaN   NaN   NaN 2010-01-04 20:45:00  21043970         NaN         NaN\n",
      "2010-01-04 20:55:00   NaN   NaN   NaN 2010-01-04 20:50:00  21043975         NaN         NaN\n",
      "now= 2010-01-04 20:56:00\n",
      "now= 2010-01-04 20:57:00\n",
      "now= 2010-01-04 20:58:00\n",
      "now= 2010-01-04 20:59:00\n",
      "now= 2010-01-04 21:00:00\n",
      "Time to execute the DAG\n"
     ]
    },
    {
     "data": {
      "application/vnd.jupyter.widget-view+json": {
       "model_id": "1276f249ecc6490b8703534ca36ca45c",
       "version_major": 2,
       "version_minor": 0
      },
      "text/plain": [
       "run_leq_node:   0%|          | 0/6 [00:00<?, ?it/s]"
      ]
     },
     "metadata": {},
     "output_type": "display_data"
    },
    {
     "name": "stdout",
     "output_type": "stream",
     "text": [
      "                     vwap  twap  last bar_start_timestamp    minute  twap_ret_0  vwap_ret_0\n",
      "2010-01-04 20:50:00   NaN   NaN   NaN 2010-01-04 20:45:00  21043970         NaN         NaN\n",
      "2010-01-04 20:55:00   NaN   NaN   NaN 2010-01-04 20:50:00  21043975         NaN         NaN\n",
      "2010-01-04 21:00:00   NaN   NaN   NaN 2010-01-04 20:55:00  21043980         NaN         NaN\n",
      "now= 2010-01-04 21:01:00\n",
      "now= 2010-01-04 21:02:00\n",
      "now= 2010-01-04 21:03:00\n",
      "now= 2010-01-04 21:04:00\n",
      "now= 2010-01-04 21:05:00\n",
      "Time to execute the DAG\n"
     ]
    },
    {
     "data": {
      "application/vnd.jupyter.widget-view+json": {
       "model_id": "ef1ca62f48ee41728bb0756be7527b68",
       "version_major": 2,
       "version_minor": 0
      },
      "text/plain": [
       "run_leq_node:   0%|          | 0/6 [00:00<?, ?it/s]"
      ]
     },
     "metadata": {},
     "output_type": "display_data"
    },
    {
     "name": "stdout",
     "output_type": "stream",
     "text": [
      "                     vwap  twap  last bar_start_timestamp    minute  twap_ret_0  vwap_ret_0\n",
      "2010-01-04 20:55:00   NaN   NaN   NaN 2010-01-04 20:50:00  21043975         NaN         NaN\n",
      "2010-01-04 21:00:00   NaN   NaN   NaN 2010-01-04 20:55:00  21043980         NaN         NaN\n",
      "2010-01-04 21:05:00   NaN   NaN   NaN 2010-01-04 21:00:00  21043985         NaN         NaN\n",
      "now= 2010-01-04 21:06:00\n",
      "now= 2010-01-04 21:07:00\n",
      "now= 2010-01-04 21:08:00\n",
      "now= 2010-01-04 21:09:00\n",
      "now= 2010-01-04 21:10:00\n",
      "Time to execute the DAG\n"
     ]
    },
    {
     "data": {
      "application/vnd.jupyter.widget-view+json": {
       "model_id": "441abcf10b4e4fe293fc259fe91a1cc2",
       "version_major": 2,
       "version_minor": 0
      },
      "text/plain": [
       "run_leq_node:   0%|          | 0/6 [00:00<?, ?it/s]"
      ]
     },
     "metadata": {},
     "output_type": "display_data"
    },
    {
     "name": "stdout",
     "output_type": "stream",
     "text": [
      "                     vwap  twap  last bar_start_timestamp    minute  twap_ret_0  vwap_ret_0\n",
      "2010-01-04 21:00:00   NaN   NaN   NaN 2010-01-04 20:55:00  21043980         NaN         NaN\n",
      "2010-01-04 21:05:00   NaN   NaN   NaN 2010-01-04 21:00:00  21043985         NaN         NaN\n",
      "2010-01-04 21:10:00   NaN   NaN   NaN 2010-01-04 21:05:00  21043990         NaN         NaN\n",
      "now= 2010-01-04 21:11:00\n",
      "now= 2010-01-04 21:12:00\n",
      "now= 2010-01-04 21:13:00\n",
      "now= 2010-01-04 21:14:00\n",
      "now= 2010-01-04 21:15:00\n",
      "Time to execute the DAG\n"
     ]
    },
    {
     "data": {
      "application/vnd.jupyter.widget-view+json": {
       "model_id": "b2c16a82ee5d47e5b721cd2a24738a9a",
       "version_major": 2,
       "version_minor": 0
      },
      "text/plain": [
       "run_leq_node:   0%|          | 0/6 [00:00<?, ?it/s]"
      ]
     },
     "metadata": {},
     "output_type": "display_data"
    },
    {
     "name": "stdout",
     "output_type": "stream",
     "text": [
      "                     vwap  twap  last bar_start_timestamp    minute  twap_ret_0  vwap_ret_0\n",
      "2010-01-04 21:05:00   NaN   NaN   NaN 2010-01-04 21:00:00  21043985         NaN         NaN\n",
      "2010-01-04 21:10:00   NaN   NaN   NaN 2010-01-04 21:05:00  21043990         NaN         NaN\n",
      "2010-01-04 21:15:00   NaN   NaN   NaN 2010-01-04 21:10:00  21043995         NaN         NaN\n",
      "now= 2010-01-04 21:16:00\n",
      "now= 2010-01-04 21:17:00\n",
      "now= 2010-01-04 21:18:00\n",
      "now= 2010-01-04 21:19:00\n",
      "now= 2010-01-04 21:20:00\n",
      "Time to execute the DAG\n"
     ]
    },
    {
     "data": {
      "application/vnd.jupyter.widget-view+json": {
       "model_id": "a00a1409d188492fbc844a7ff6bd3fde",
       "version_major": 2,
       "version_minor": 0
      },
      "text/plain": [
       "run_leq_node:   0%|          | 0/6 [00:00<?, ?it/s]"
      ]
     },
     "metadata": {},
     "output_type": "display_data"
    },
    {
     "name": "stdout",
     "output_type": "stream",
     "text": [
      "                     vwap  twap  last bar_start_timestamp    minute  twap_ret_0  vwap_ret_0\n",
      "2010-01-04 21:10:00   NaN   NaN   NaN 2010-01-04 21:05:00  21043990         NaN         NaN\n",
      "2010-01-04 21:15:00   NaN   NaN   NaN 2010-01-04 21:10:00  21043995         NaN         NaN\n",
      "2010-01-04 21:20:00   NaN   NaN   NaN 2010-01-04 21:15:00  21044000         NaN         NaN\n",
      "now= 2010-01-04 21:21:00\n",
      "now= 2010-01-04 21:22:00\n",
      "now= 2010-01-04 21:23:00\n",
      "now= 2010-01-04 21:24:00\n",
      "now= 2010-01-04 21:25:00\n",
      "Time to execute the DAG\n"
     ]
    },
    {
     "data": {
      "application/vnd.jupyter.widget-view+json": {
       "model_id": "c45d8556279542fba8c2f36551dab3eb",
       "version_major": 2,
       "version_minor": 0
      },
      "text/plain": [
       "run_leq_node:   0%|          | 0/6 [00:00<?, ?it/s]"
      ]
     },
     "metadata": {},
     "output_type": "display_data"
    },
    {
     "name": "stdout",
     "output_type": "stream",
     "text": [
      "                     vwap  twap  last bar_start_timestamp    minute  twap_ret_0  vwap_ret_0\n",
      "2010-01-04 21:15:00   NaN   NaN   NaN 2010-01-04 21:10:00  21043995         NaN         NaN\n",
      "2010-01-04 21:20:00   NaN   NaN   NaN 2010-01-04 21:15:00  21044000         NaN         NaN\n",
      "2010-01-04 21:25:00   NaN   NaN   NaN 2010-01-04 21:20:00  21044005         NaN         NaN\n",
      "now= 2010-01-04 21:26:00\n",
      "now= 2010-01-04 21:27:00\n",
      "now= 2010-01-04 21:28:00\n",
      "now= 2010-01-04 21:29:00\n",
      "now= 2010-01-04 21:30:00\n",
      "Time to execute the DAG\n"
     ]
    },
    {
     "data": {
      "application/vnd.jupyter.widget-view+json": {
       "model_id": "01757ca396de4d89b5309b4dfcd0f15f",
       "version_major": 2,
       "version_minor": 0
      },
      "text/plain": [
       "run_leq_node:   0%|          | 0/6 [00:00<?, ?it/s]"
      ]
     },
     "metadata": {},
     "output_type": "display_data"
    },
    {
     "name": "stdout",
     "output_type": "stream",
     "text": [
      "                     vwap  twap  last bar_start_timestamp    minute  twap_ret_0  vwap_ret_0\n",
      "2010-01-04 21:20:00   NaN   NaN   NaN 2010-01-04 21:15:00  21044000         NaN         NaN\n",
      "2010-01-04 21:25:00   NaN   NaN   NaN 2010-01-04 21:20:00  21044005         NaN         NaN\n",
      "2010-01-04 21:30:00   NaN   NaN   NaN 2010-01-04 21:25:00  21044010         NaN         NaN\n",
      "now= 2010-01-04 21:31:00\n",
      "now= 2010-01-04 21:32:00\n",
      "now= 2010-01-04 21:33:00\n",
      "now= 2010-01-04 21:34:00\n",
      "now= 2010-01-04 21:35:00\n",
      "Time to execute the DAG\n"
     ]
    },
    {
     "data": {
      "application/vnd.jupyter.widget-view+json": {
       "model_id": "58ffa4acfa244aa189a6ade6e55e553c",
       "version_major": 2,
       "version_minor": 0
      },
      "text/plain": [
       "run_leq_node:   0%|          | 0/6 [00:00<?, ?it/s]"
      ]
     },
     "metadata": {},
     "output_type": "display_data"
    },
    {
     "name": "stdout",
     "output_type": "stream",
     "text": [
      "                     vwap  twap  last bar_start_timestamp    minute  twap_ret_0  vwap_ret_0\n",
      "2010-01-04 21:25:00   NaN   NaN   NaN 2010-01-04 21:20:00  21044005         NaN         NaN\n",
      "2010-01-04 21:30:00   NaN   NaN   NaN 2010-01-04 21:25:00  21044010         NaN         NaN\n",
      "2010-01-04 21:35:00   NaN   NaN   NaN 2010-01-04 21:30:00  21044015         NaN         NaN\n",
      "now= 2010-01-04 21:36:00\n",
      "now= 2010-01-04 21:37:00\n",
      "now= 2010-01-04 21:38:00\n",
      "now= 2010-01-04 21:39:00\n",
      "now= 2010-01-04 21:40:00\n",
      "Time to execute the DAG\n"
     ]
    },
    {
     "data": {
      "application/vnd.jupyter.widget-view+json": {
       "model_id": "bb49d01446154e3db554a74d82068e3d",
       "version_major": 2,
       "version_minor": 0
      },
      "text/plain": [
       "run_leq_node:   0%|          | 0/6 [00:00<?, ?it/s]"
      ]
     },
     "metadata": {},
     "output_type": "display_data"
    },
    {
     "name": "stdout",
     "output_type": "stream",
     "text": [
      "                     vwap  twap  last bar_start_timestamp    minute  twap_ret_0  vwap_ret_0\n",
      "2010-01-04 21:30:00   NaN   NaN   NaN 2010-01-04 21:25:00  21044010         NaN         NaN\n",
      "2010-01-04 21:35:00   NaN   NaN   NaN 2010-01-04 21:30:00  21044015         NaN         NaN\n",
      "2010-01-04 21:40:00   NaN   NaN   NaN 2010-01-04 21:35:00  21044020         NaN         NaN\n",
      "now= 2010-01-04 21:41:00\n",
      "now= 2010-01-04 21:42:00\n",
      "now= 2010-01-04 21:43:00\n",
      "now= 2010-01-04 21:44:00\n",
      "now= 2010-01-04 21:45:00\n",
      "Time to execute the DAG\n"
     ]
    },
    {
     "data": {
      "application/vnd.jupyter.widget-view+json": {
       "model_id": "caeb3fffe8054347bc5b0a699939b149",
       "version_major": 2,
       "version_minor": 0
      },
      "text/plain": [
       "run_leq_node:   0%|          | 0/6 [00:00<?, ?it/s]"
      ]
     },
     "metadata": {},
     "output_type": "display_data"
    },
    {
     "name": "stdout",
     "output_type": "stream",
     "text": [
      "                     vwap  twap  last bar_start_timestamp    minute  twap_ret_0  vwap_ret_0\n",
      "2010-01-04 21:35:00   NaN   NaN   NaN 2010-01-04 21:30:00  21044015         NaN         NaN\n",
      "2010-01-04 21:40:00   NaN   NaN   NaN 2010-01-04 21:35:00  21044020         NaN         NaN\n",
      "2010-01-04 21:45:00   NaN   NaN   NaN 2010-01-04 21:40:00  21044025         NaN         NaN\n",
      "now= 2010-01-04 21:46:00\n",
      "now= 2010-01-04 21:47:00\n",
      "now= 2010-01-04 21:48:00\n",
      "now= 2010-01-04 21:49:00\n",
      "now= 2010-01-04 21:50:00\n",
      "Time to execute the DAG\n"
     ]
    },
    {
     "data": {
      "application/vnd.jupyter.widget-view+json": {
       "model_id": "e140ca8e6d9e4007b358866375afb51e",
       "version_major": 2,
       "version_minor": 0
      },
      "text/plain": [
       "run_leq_node:   0%|          | 0/6 [00:00<?, ?it/s]"
      ]
     },
     "metadata": {},
     "output_type": "display_data"
    },
    {
     "name": "stdout",
     "output_type": "stream",
     "text": [
      "                     vwap  twap  last bar_start_timestamp    minute  twap_ret_0  vwap_ret_0\n",
      "2010-01-04 21:40:00   NaN   NaN   NaN 2010-01-04 21:35:00  21044020         NaN         NaN\n",
      "2010-01-04 21:45:00   NaN   NaN   NaN 2010-01-04 21:40:00  21044025         NaN         NaN\n",
      "2010-01-04 21:50:00   NaN   NaN   NaN 2010-01-04 21:45:00  21044030         NaN         NaN\n",
      "now= 2010-01-04 21:51:00\n",
      "now= 2010-01-04 21:52:00\n",
      "now= 2010-01-04 21:53:00\n",
      "now= 2010-01-04 21:54:00\n",
      "now= 2010-01-04 21:55:00\n",
      "Time to execute the DAG\n"
     ]
    },
    {
     "data": {
      "application/vnd.jupyter.widget-view+json": {
       "model_id": "48f59eddaabe44418adc6ad639a5965b",
       "version_major": 2,
       "version_minor": 0
      },
      "text/plain": [
       "run_leq_node:   0%|          | 0/6 [00:00<?, ?it/s]"
      ]
     },
     "metadata": {},
     "output_type": "display_data"
    },
    {
     "name": "stdout",
     "output_type": "stream",
     "text": [
      "                     vwap  twap  last bar_start_timestamp    minute  twap_ret_0  vwap_ret_0\n",
      "2010-01-04 21:45:00   NaN   NaN   NaN 2010-01-04 21:40:00  21044025         NaN         NaN\n",
      "2010-01-04 21:50:00   NaN   NaN   NaN 2010-01-04 21:45:00  21044030         NaN         NaN\n",
      "2010-01-04 21:55:00   NaN   NaN   NaN 2010-01-04 21:50:00  21044035         NaN         NaN\n",
      "now= 2010-01-04 21:56:00\n",
      "now= 2010-01-04 21:57:00\n",
      "now= 2010-01-04 21:58:00\n",
      "now= 2010-01-04 21:59:00\n",
      "now= 2010-01-04 22:00:00\n",
      "Time to execute the DAG\n"
     ]
    },
    {
     "data": {
      "application/vnd.jupyter.widget-view+json": {
       "model_id": "e5807fb1adb041069b82c1b5836db46f",
       "version_major": 2,
       "version_minor": 0
      },
      "text/plain": [
       "run_leq_node:   0%|          | 0/6 [00:00<?, ?it/s]"
      ]
     },
     "metadata": {},
     "output_type": "display_data"
    },
    {
     "name": "stdout",
     "output_type": "stream",
     "text": [
      "                     vwap  twap  last bar_start_timestamp    minute  twap_ret_0  vwap_ret_0\n",
      "2010-01-04 21:50:00   NaN   NaN   NaN 2010-01-04 21:45:00  21044030         NaN         NaN\n",
      "2010-01-04 21:55:00   NaN   NaN   NaN 2010-01-04 21:50:00  21044035         NaN         NaN\n",
      "2010-01-04 22:00:00   NaN   NaN   NaN 2010-01-04 21:55:00  21044040         NaN         NaN\n",
      "now= 2010-01-04 22:01:00\n",
      "now= 2010-01-04 22:02:00\n",
      "now= 2010-01-04 22:03:00\n",
      "now= 2010-01-04 22:04:00\n",
      "now= 2010-01-04 22:05:00\n",
      "Time to execute the DAG\n"
     ]
    },
    {
     "data": {
      "application/vnd.jupyter.widget-view+json": {
       "model_id": "6bf65c6df3e94fc6b8d58747c65c6642",
       "version_major": 2,
       "version_minor": 0
      },
      "text/plain": [
       "run_leq_node:   0%|          | 0/6 [00:00<?, ?it/s]"
      ]
     },
     "metadata": {},
     "output_type": "display_data"
    },
    {
     "name": "stdout",
     "output_type": "stream",
     "text": [
      "                     vwap  twap  last bar_start_timestamp    minute  twap_ret_0  vwap_ret_0\n",
      "2010-01-04 21:55:00   NaN   NaN   NaN 2010-01-04 21:50:00  21044035         NaN         NaN\n",
      "2010-01-04 22:00:00   NaN   NaN   NaN 2010-01-04 21:55:00  21044040         NaN         NaN\n",
      "2010-01-04 22:05:00   NaN   NaN   NaN 2010-01-04 22:00:00  21044045         NaN         NaN\n",
      "now= 2010-01-04 22:06:00\n",
      "now= 2010-01-04 22:07:00\n",
      "now= 2010-01-04 22:08:00\n",
      "now= 2010-01-04 22:09:00\n",
      "now= 2010-01-04 22:10:00\n",
      "Time to execute the DAG\n"
     ]
    },
    {
     "data": {
      "application/vnd.jupyter.widget-view+json": {
       "model_id": "92cbdae6ec034bebba223c133595093c",
       "version_major": 2,
       "version_minor": 0
      },
      "text/plain": [
       "run_leq_node:   0%|          | 0/6 [00:00<?, ?it/s]"
      ]
     },
     "metadata": {},
     "output_type": "display_data"
    },
    {
     "name": "stdout",
     "output_type": "stream",
     "text": [
      "                     vwap  twap  last bar_start_timestamp    minute  twap_ret_0  vwap_ret_0\n",
      "2010-01-04 22:00:00   NaN   NaN   NaN 2010-01-04 21:55:00  21044040         NaN         NaN\n",
      "2010-01-04 22:05:00   NaN   NaN   NaN 2010-01-04 22:00:00  21044045         NaN         NaN\n",
      "2010-01-04 22:10:00   NaN   NaN   NaN 2010-01-04 22:05:00  21044050         NaN         NaN\n",
      "now= 2010-01-04 22:11:00\n",
      "now= 2010-01-04 22:12:00\n",
      "now= 2010-01-04 22:13:00\n",
      "now= 2010-01-04 22:14:00\n",
      "now= 2010-01-04 22:15:00\n",
      "Time to execute the DAG\n"
     ]
    },
    {
     "data": {
      "application/vnd.jupyter.widget-view+json": {
       "model_id": "a735c38a52144027b1d9f88c1ae0a753",
       "version_major": 2,
       "version_minor": 0
      },
      "text/plain": [
       "run_leq_node:   0%|          | 0/6 [00:00<?, ?it/s]"
      ]
     },
     "metadata": {},
     "output_type": "display_data"
    },
    {
     "name": "stdout",
     "output_type": "stream",
     "text": [
      "                     vwap  twap  last bar_start_timestamp    minute  twap_ret_0  vwap_ret_0\n",
      "2010-01-04 22:05:00   NaN   NaN   NaN 2010-01-04 22:00:00  21044045         NaN         NaN\n",
      "2010-01-04 22:10:00   NaN   NaN   NaN 2010-01-04 22:05:00  21044050         NaN         NaN\n",
      "2010-01-04 22:15:00   NaN   NaN   NaN 2010-01-04 22:10:00  21044055         NaN         NaN\n",
      "now= 2010-01-04 22:16:00\n",
      "now= 2010-01-04 22:17:00\n",
      "now= 2010-01-04 22:18:00\n",
      "now= 2010-01-04 22:19:00\n",
      "now= 2010-01-04 22:20:00\n",
      "Time to execute the DAG\n"
     ]
    },
    {
     "data": {
      "application/vnd.jupyter.widget-view+json": {
       "model_id": "0b39ab17449d4c368ef9529b4fa5b631",
       "version_major": 2,
       "version_minor": 0
      },
      "text/plain": [
       "run_leq_node:   0%|          | 0/6 [00:00<?, ?it/s]"
      ]
     },
     "metadata": {},
     "output_type": "display_data"
    },
    {
     "name": "stdout",
     "output_type": "stream",
     "text": [
      "                     vwap  twap  last bar_start_timestamp    minute  twap_ret_0  vwap_ret_0\n",
      "2010-01-04 22:10:00   NaN   NaN   NaN 2010-01-04 22:05:00  21044050         NaN         NaN\n",
      "2010-01-04 22:15:00   NaN   NaN   NaN 2010-01-04 22:10:00  21044055         NaN         NaN\n",
      "2010-01-04 22:20:00   NaN   NaN   NaN 2010-01-04 22:15:00  21044060         NaN         NaN\n",
      "now= 2010-01-04 22:21:00\n",
      "now= 2010-01-04 22:22:00\n",
      "now= 2010-01-04 22:23:00\n",
      "now= 2010-01-04 22:24:00\n",
      "now= 2010-01-04 22:25:00\n",
      "Time to execute the DAG\n"
     ]
    },
    {
     "data": {
      "application/vnd.jupyter.widget-view+json": {
       "model_id": "ba44e7542dd149deb358439104a27710",
       "version_major": 2,
       "version_minor": 0
      },
      "text/plain": [
       "run_leq_node:   0%|          | 0/6 [00:00<?, ?it/s]"
      ]
     },
     "metadata": {},
     "output_type": "display_data"
    },
    {
     "name": "stdout",
     "output_type": "stream",
     "text": [
      "                     vwap  twap  last bar_start_timestamp    minute  twap_ret_0  vwap_ret_0\n",
      "2010-01-04 22:15:00   NaN   NaN   NaN 2010-01-04 22:10:00  21044055         NaN         NaN\n",
      "2010-01-04 22:20:00   NaN   NaN   NaN 2010-01-04 22:15:00  21044060         NaN         NaN\n",
      "2010-01-04 22:25:00   NaN   NaN   NaN 2010-01-04 22:20:00  21044065         NaN         NaN\n",
      "now= 2010-01-04 22:26:00\n",
      "now= 2010-01-04 22:27:00\n",
      "now= 2010-01-04 22:28:00\n",
      "now= 2010-01-04 22:29:00\n",
      "now= 2010-01-04 22:30:00\n",
      "Time to execute the DAG\n"
     ]
    },
    {
     "data": {
      "application/vnd.jupyter.widget-view+json": {
       "model_id": "98d8344809b9455083be38b10da10200",
       "version_major": 2,
       "version_minor": 0
      },
      "text/plain": [
       "run_leq_node:   0%|          | 0/6 [00:00<?, ?it/s]"
      ]
     },
     "metadata": {},
     "output_type": "display_data"
    },
    {
     "name": "stdout",
     "output_type": "stream",
     "text": [
      "                     vwap  twap  last bar_start_timestamp    minute  twap_ret_0  vwap_ret_0\n",
      "2010-01-04 22:20:00   NaN   NaN   NaN 2010-01-04 22:15:00  21044060         NaN         NaN\n",
      "2010-01-04 22:25:00   NaN   NaN   NaN 2010-01-04 22:20:00  21044065         NaN         NaN\n",
      "2010-01-04 22:30:00   NaN   NaN   NaN 2010-01-04 22:25:00  21044070         NaN         NaN\n",
      "now= 2010-01-04 22:31:00\n",
      "now= 2010-01-04 22:32:00\n",
      "now= 2010-01-04 22:33:00\n",
      "now= 2010-01-04 22:34:00\n",
      "now= 2010-01-04 22:35:00\n",
      "Time to execute the DAG\n"
     ]
    },
    {
     "data": {
      "application/vnd.jupyter.widget-view+json": {
       "model_id": "173eb5fbb29f4d218ed332a798017c0b",
       "version_major": 2,
       "version_minor": 0
      },
      "text/plain": [
       "run_leq_node:   0%|          | 0/6 [00:00<?, ?it/s]"
      ]
     },
     "metadata": {},
     "output_type": "display_data"
    },
    {
     "name": "stdout",
     "output_type": "stream",
     "text": [
      "                     vwap  twap  last bar_start_timestamp    minute  twap_ret_0  vwap_ret_0\n",
      "2010-01-04 22:25:00   NaN   NaN   NaN 2010-01-04 22:20:00  21044065         NaN         NaN\n",
      "2010-01-04 22:30:00   NaN   NaN   NaN 2010-01-04 22:25:00  21044070         NaN         NaN\n",
      "2010-01-04 22:35:00   NaN   NaN   NaN 2010-01-04 22:30:00  21044075         NaN         NaN\n",
      "now= 2010-01-04 22:36:00\n",
      "now= 2010-01-04 22:37:00\n",
      "now= 2010-01-04 22:38:00\n",
      "now= 2010-01-04 22:39:00\n",
      "now= 2010-01-04 22:40:00\n",
      "Time to execute the DAG\n"
     ]
    },
    {
     "data": {
      "application/vnd.jupyter.widget-view+json": {
       "model_id": "b05e502cca624163acfc18d51ee55428",
       "version_major": 2,
       "version_minor": 0
      },
      "text/plain": [
       "run_leq_node:   0%|          | 0/6 [00:00<?, ?it/s]"
      ]
     },
     "metadata": {},
     "output_type": "display_data"
    },
    {
     "name": "stdout",
     "output_type": "stream",
     "text": [
      "                     vwap  twap  last bar_start_timestamp    minute  twap_ret_0  vwap_ret_0\n",
      "2010-01-04 22:30:00   NaN   NaN   NaN 2010-01-04 22:25:00  21044070         NaN         NaN\n",
      "2010-01-04 22:35:00   NaN   NaN   NaN 2010-01-04 22:30:00  21044075         NaN         NaN\n",
      "2010-01-04 22:40:00   NaN   NaN   NaN 2010-01-04 22:35:00  21044080         NaN         NaN\n",
      "now= 2010-01-04 22:41:00\n",
      "now= 2010-01-04 22:42:00\n",
      "now= 2010-01-04 22:43:00\n",
      "now= 2010-01-04 22:44:00\n",
      "now= 2010-01-04 22:45:00\n",
      "Time to execute the DAG\n"
     ]
    },
    {
     "data": {
      "application/vnd.jupyter.widget-view+json": {
       "model_id": "d54dedde5aa449df820033e976ce5cd0",
       "version_major": 2,
       "version_minor": 0
      },
      "text/plain": [
       "run_leq_node:   0%|          | 0/6 [00:00<?, ?it/s]"
      ]
     },
     "metadata": {},
     "output_type": "display_data"
    },
    {
     "name": "stdout",
     "output_type": "stream",
     "text": [
      "                     vwap  twap  last bar_start_timestamp    minute  twap_ret_0  vwap_ret_0\n",
      "2010-01-04 22:35:00   NaN   NaN   NaN 2010-01-04 22:30:00  21044075         NaN         NaN\n",
      "2010-01-04 22:40:00   NaN   NaN   NaN 2010-01-04 22:35:00  21044080         NaN         NaN\n",
      "2010-01-04 22:45:00   NaN   NaN   NaN 2010-01-04 22:40:00  21044085         NaN         NaN\n",
      "now= 2010-01-04 22:46:00\n",
      "now= 2010-01-04 22:47:00\n",
      "now= 2010-01-04 22:48:00\n",
      "now= 2010-01-04 22:49:00\n",
      "now= 2010-01-04 22:50:00\n",
      "Time to execute the DAG\n"
     ]
    },
    {
     "data": {
      "application/vnd.jupyter.widget-view+json": {
       "model_id": "2b4aae49002f4e08badce69ffdb19fce",
       "version_major": 2,
       "version_minor": 0
      },
      "text/plain": [
       "run_leq_node:   0%|          | 0/6 [00:00<?, ?it/s]"
      ]
     },
     "metadata": {},
     "output_type": "display_data"
    },
    {
     "name": "stdout",
     "output_type": "stream",
     "text": [
      "                     vwap  twap  last bar_start_timestamp    minute  twap_ret_0  vwap_ret_0\n",
      "2010-01-04 22:40:00   NaN   NaN   NaN 2010-01-04 22:35:00  21044080         NaN         NaN\n",
      "2010-01-04 22:45:00   NaN   NaN   NaN 2010-01-04 22:40:00  21044085         NaN         NaN\n",
      "2010-01-04 22:50:00   NaN   NaN   NaN 2010-01-04 22:45:00  21044090         NaN         NaN\n",
      "now= 2010-01-04 22:51:00\n",
      "now= 2010-01-04 22:52:00\n",
      "now= 2010-01-04 22:53:00\n",
      "now= 2010-01-04 22:54:00\n",
      "now= 2010-01-04 22:55:00\n",
      "Time to execute the DAG\n"
     ]
    },
    {
     "data": {
      "application/vnd.jupyter.widget-view+json": {
       "model_id": "95c9c1a9c94a4b00b4fa3a68047f9195",
       "version_major": 2,
       "version_minor": 0
      },
      "text/plain": [
       "run_leq_node:   0%|          | 0/6 [00:00<?, ?it/s]"
      ]
     },
     "metadata": {},
     "output_type": "display_data"
    },
    {
     "name": "stdout",
     "output_type": "stream",
     "text": [
      "                     vwap  twap  last bar_start_timestamp    minute  twap_ret_0  vwap_ret_0\n",
      "2010-01-04 22:45:00   NaN   NaN   NaN 2010-01-04 22:40:00  21044085         NaN         NaN\n",
      "2010-01-04 22:50:00   NaN   NaN   NaN 2010-01-04 22:45:00  21044090         NaN         NaN\n",
      "2010-01-04 22:55:00   NaN   NaN   NaN 2010-01-04 22:50:00  21044095         NaN         NaN\n",
      "now= 2010-01-04 22:56:00\n",
      "now= 2010-01-04 22:57:00\n",
      "now= 2010-01-04 22:58:00\n",
      "now= 2010-01-04 22:59:00\n",
      "now= 2010-01-04 23:00:00\n",
      "Time to execute the DAG\n"
     ]
    },
    {
     "data": {
      "application/vnd.jupyter.widget-view+json": {
       "model_id": "be0c67655a6542b6a92e8a9873ee16d7",
       "version_major": 2,
       "version_minor": 0
      },
      "text/plain": [
       "run_leq_node:   0%|          | 0/6 [00:00<?, ?it/s]"
      ]
     },
     "metadata": {},
     "output_type": "display_data"
    },
    {
     "name": "stdout",
     "output_type": "stream",
     "text": [
      "                     vwap  twap  last bar_start_timestamp    minute  twap_ret_0  vwap_ret_0\n",
      "2010-01-04 22:50:00   NaN   NaN   NaN 2010-01-04 22:45:00  21044090         NaN         NaN\n",
      "2010-01-04 22:55:00   NaN   NaN   NaN 2010-01-04 22:50:00  21044095         NaN         NaN\n",
      "2010-01-04 23:00:00   NaN   NaN   NaN 2010-01-04 22:55:00  21044100         NaN         NaN\n",
      "now= 2010-01-04 23:01:00\n",
      "now= 2010-01-04 23:02:00\n",
      "now= 2010-01-04 23:03:00\n",
      "now= 2010-01-04 23:04:00\n",
      "now= 2010-01-04 23:05:00\n",
      "Time to execute the DAG\n"
     ]
    },
    {
     "data": {
      "application/vnd.jupyter.widget-view+json": {
       "model_id": "0a0739d7b8fa438c84594cc3d6d4a282",
       "version_major": 2,
       "version_minor": 0
      },
      "text/plain": [
       "run_leq_node:   0%|          | 0/6 [00:00<?, ?it/s]"
      ]
     },
     "metadata": {},
     "output_type": "display_data"
    },
    {
     "name": "stdout",
     "output_type": "stream",
     "text": [
      "                     vwap  twap  last bar_start_timestamp    minute  twap_ret_0  vwap_ret_0\n",
      "2010-01-04 22:55:00   NaN   NaN   NaN 2010-01-04 22:50:00  21044095         NaN         NaN\n",
      "2010-01-04 23:00:00   NaN   NaN   NaN 2010-01-04 22:55:00  21044100         NaN         NaN\n",
      "2010-01-04 23:05:00   NaN   NaN   NaN 2010-01-04 23:00:00  21044105         NaN         NaN\n",
      "now= 2010-01-04 23:06:00\n",
      "now= 2010-01-04 23:07:00\n",
      "now= 2010-01-04 23:08:00\n",
      "now= 2010-01-04 23:09:00\n",
      "now= 2010-01-04 23:10:00\n",
      "Time to execute the DAG\n"
     ]
    },
    {
     "data": {
      "application/vnd.jupyter.widget-view+json": {
       "model_id": "6082e17087604d6a87ef608ca6ed6503",
       "version_major": 2,
       "version_minor": 0
      },
      "text/plain": [
       "run_leq_node:   0%|          | 0/6 [00:00<?, ?it/s]"
      ]
     },
     "metadata": {},
     "output_type": "display_data"
    },
    {
     "name": "stdout",
     "output_type": "stream",
     "text": [
      "                     vwap  twap  last bar_start_timestamp    minute  twap_ret_0  vwap_ret_0\n",
      "2010-01-04 23:00:00   NaN   NaN   NaN 2010-01-04 22:55:00  21044100         NaN         NaN\n",
      "2010-01-04 23:05:00   NaN   NaN   NaN 2010-01-04 23:00:00  21044105         NaN         NaN\n",
      "2010-01-04 23:10:00   NaN   NaN   NaN 2010-01-04 23:05:00  21044110         NaN         NaN\n",
      "now= 2010-01-04 23:11:00\n",
      "now= 2010-01-04 23:12:00\n",
      "now= 2010-01-04 23:13:00\n",
      "now= 2010-01-04 23:14:00\n",
      "now= 2010-01-04 23:15:00\n",
      "Time to execute the DAG\n"
     ]
    },
    {
     "data": {
      "application/vnd.jupyter.widget-view+json": {
       "model_id": "b8e383b4d1b145a98f4df497e6f27e53",
       "version_major": 2,
       "version_minor": 0
      },
      "text/plain": [
       "run_leq_node:   0%|          | 0/6 [00:00<?, ?it/s]"
      ]
     },
     "metadata": {},
     "output_type": "display_data"
    },
    {
     "name": "stdout",
     "output_type": "stream",
     "text": [
      "                     vwap  twap  last bar_start_timestamp    minute  twap_ret_0  vwap_ret_0\n",
      "2010-01-04 23:05:00   NaN   NaN   NaN 2010-01-04 23:00:00  21044105         NaN         NaN\n",
      "2010-01-04 23:10:00   NaN   NaN   NaN 2010-01-04 23:05:00  21044110         NaN         NaN\n",
      "2010-01-04 23:15:00   NaN   NaN   NaN 2010-01-04 23:10:00  21044115         NaN         NaN\n",
      "now= 2010-01-04 23:16:00\n",
      "now= 2010-01-04 23:17:00\n",
      "now= 2010-01-04 23:18:00\n",
      "now= 2010-01-04 23:19:00\n",
      "now= 2010-01-04 23:20:00\n",
      "Time to execute the DAG\n"
     ]
    },
    {
     "data": {
      "application/vnd.jupyter.widget-view+json": {
       "model_id": "0d926074d1b34371a8f8e50159390ad6",
       "version_major": 2,
       "version_minor": 0
      },
      "text/plain": [
       "run_leq_node:   0%|          | 0/6 [00:00<?, ?it/s]"
      ]
     },
     "metadata": {},
     "output_type": "display_data"
    },
    {
     "name": "stdout",
     "output_type": "stream",
     "text": [
      "                     vwap  twap  last bar_start_timestamp    minute  twap_ret_0  vwap_ret_0\n",
      "2010-01-04 23:10:00   NaN   NaN   NaN 2010-01-04 23:05:00  21044110         NaN         NaN\n",
      "2010-01-04 23:15:00   NaN   NaN   NaN 2010-01-04 23:10:00  21044115         NaN         NaN\n",
      "2010-01-04 23:20:00   NaN   NaN   NaN 2010-01-04 23:15:00  21044120         NaN         NaN\n",
      "now= 2010-01-04 23:21:00\n",
      "now= 2010-01-04 23:22:00\n",
      "now= 2010-01-04 23:23:00\n",
      "now= 2010-01-04 23:24:00\n",
      "now= 2010-01-04 23:25:00\n",
      "Time to execute the DAG\n"
     ]
    },
    {
     "data": {
      "application/vnd.jupyter.widget-view+json": {
       "model_id": "ff86289036c14474a6fa292d6bc7c687",
       "version_major": 2,
       "version_minor": 0
      },
      "text/plain": [
       "run_leq_node:   0%|          | 0/6 [00:00<?, ?it/s]"
      ]
     },
     "metadata": {},
     "output_type": "display_data"
    },
    {
     "name": "stdout",
     "output_type": "stream",
     "text": [
      "                     vwap  twap  last bar_start_timestamp    minute  twap_ret_0  vwap_ret_0\n",
      "2010-01-04 23:15:00   NaN   NaN   NaN 2010-01-04 23:10:00  21044115         NaN         NaN\n",
      "2010-01-04 23:20:00   NaN   NaN   NaN 2010-01-04 23:15:00  21044120         NaN         NaN\n",
      "2010-01-04 23:25:00   NaN   NaN   NaN 2010-01-04 23:20:00  21044125         NaN         NaN\n",
      "now= 2010-01-04 23:26:00\n",
      "now= 2010-01-04 23:27:00\n",
      "now= 2010-01-04 23:28:00\n",
      "now= 2010-01-04 23:29:00\n",
      "now= 2010-01-04 23:30:00\n",
      "Time to execute the DAG\n"
     ]
    },
    {
     "data": {
      "application/vnd.jupyter.widget-view+json": {
       "model_id": "7988d1c3509d4c9d8df8eba4cfbf2910",
       "version_major": 2,
       "version_minor": 0
      },
      "text/plain": [
       "run_leq_node:   0%|          | 0/6 [00:00<?, ?it/s]"
      ]
     },
     "metadata": {},
     "output_type": "display_data"
    },
    {
     "name": "stdout",
     "output_type": "stream",
     "text": [
      "                     vwap  twap  last bar_start_timestamp    minute  twap_ret_0  vwap_ret_0\n",
      "2010-01-04 23:20:00   NaN   NaN   NaN 2010-01-04 23:15:00  21044120         NaN         NaN\n",
      "2010-01-04 23:25:00   NaN   NaN   NaN 2010-01-04 23:20:00  21044125         NaN         NaN\n",
      "2010-01-04 23:30:00   NaN   NaN   NaN 2010-01-04 23:25:00  21044130         NaN         NaN\n",
      "now= 2010-01-04 23:31:00\n",
      "now= 2010-01-04 23:32:00\n",
      "now= 2010-01-04 23:33:00\n",
      "now= 2010-01-04 23:34:00\n",
      "now= 2010-01-04 23:35:00\n",
      "Time to execute the DAG\n"
     ]
    },
    {
     "data": {
      "application/vnd.jupyter.widget-view+json": {
       "model_id": "00d685ec1e1e426a8980a7670e382b55",
       "version_major": 2,
       "version_minor": 0
      },
      "text/plain": [
       "run_leq_node:   0%|          | 0/6 [00:00<?, ?it/s]"
      ]
     },
     "metadata": {},
     "output_type": "display_data"
    },
    {
     "name": "stdout",
     "output_type": "stream",
     "text": [
      "                     vwap  twap  last bar_start_timestamp    minute  twap_ret_0  vwap_ret_0\n",
      "2010-01-04 23:25:00   NaN   NaN   NaN 2010-01-04 23:20:00  21044125         NaN         NaN\n",
      "2010-01-04 23:30:00   NaN   NaN   NaN 2010-01-04 23:25:00  21044130         NaN         NaN\n",
      "2010-01-04 23:35:00   NaN   NaN   NaN 2010-01-04 23:30:00  21044135         NaN         NaN\n",
      "now= 2010-01-04 23:36:00\n",
      "now= 2010-01-04 23:37:00\n",
      "now= 2010-01-04 23:38:00\n",
      "now= 2010-01-04 23:39:00\n",
      "now= 2010-01-04 23:40:00\n",
      "Time to execute the DAG\n"
     ]
    },
    {
     "data": {
      "application/vnd.jupyter.widget-view+json": {
       "model_id": "c9a49c26e8214859947ab77b2615ea2e",
       "version_major": 2,
       "version_minor": 0
      },
      "text/plain": [
       "run_leq_node:   0%|          | 0/6 [00:00<?, ?it/s]"
      ]
     },
     "metadata": {},
     "output_type": "display_data"
    },
    {
     "name": "stdout",
     "output_type": "stream",
     "text": [
      "                     vwap  twap  last bar_start_timestamp    minute  twap_ret_0  vwap_ret_0\n",
      "2010-01-04 23:30:00   NaN   NaN   NaN 2010-01-04 23:25:00  21044130         NaN         NaN\n",
      "2010-01-04 23:35:00   NaN   NaN   NaN 2010-01-04 23:30:00  21044135         NaN         NaN\n",
      "2010-01-04 23:40:00   NaN   NaN   NaN 2010-01-04 23:35:00  21044140         NaN         NaN\n",
      "now= 2010-01-04 23:41:00\n",
      "now= 2010-01-04 23:42:00\n",
      "now= 2010-01-04 23:43:00\n",
      "now= 2010-01-04 23:44:00\n",
      "now= 2010-01-04 23:45:00\n",
      "Time to execute the DAG\n"
     ]
    },
    {
     "data": {
      "application/vnd.jupyter.widget-view+json": {
       "model_id": "266d214629ff4ed886f093ee3103a46e",
       "version_major": 2,
       "version_minor": 0
      },
      "text/plain": [
       "run_leq_node:   0%|          | 0/6 [00:00<?, ?it/s]"
      ]
     },
     "metadata": {},
     "output_type": "display_data"
    },
    {
     "name": "stdout",
     "output_type": "stream",
     "text": [
      "                     vwap  twap  last bar_start_timestamp    minute  twap_ret_0  vwap_ret_0\n",
      "2010-01-04 23:35:00   NaN   NaN   NaN 2010-01-04 23:30:00  21044135         NaN         NaN\n",
      "2010-01-04 23:40:00   NaN   NaN   NaN 2010-01-04 23:35:00  21044140         NaN         NaN\n",
      "2010-01-04 23:45:00   NaN   NaN   NaN 2010-01-04 23:40:00  21044145         NaN         NaN\n",
      "now= 2010-01-04 23:46:00\n",
      "now= 2010-01-04 23:47:00\n",
      "now= 2010-01-04 23:48:00\n",
      "now= 2010-01-04 23:49:00\n",
      "now= 2010-01-04 23:50:00\n",
      "Time to execute the DAG\n"
     ]
    },
    {
     "data": {
      "application/vnd.jupyter.widget-view+json": {
       "model_id": "9e34e9fdacd34f4293ffda025c64d382",
       "version_major": 2,
       "version_minor": 0
      },
      "text/plain": [
       "run_leq_node:   0%|          | 0/6 [00:00<?, ?it/s]"
      ]
     },
     "metadata": {},
     "output_type": "display_data"
    },
    {
     "name": "stdout",
     "output_type": "stream",
     "text": [
      "                     vwap  twap  last bar_start_timestamp    minute  twap_ret_0  vwap_ret_0\n",
      "2010-01-04 23:40:00   NaN   NaN   NaN 2010-01-04 23:35:00  21044140         NaN         NaN\n",
      "2010-01-04 23:45:00   NaN   NaN   NaN 2010-01-04 23:40:00  21044145         NaN         NaN\n",
      "2010-01-04 23:50:00   NaN   NaN   NaN 2010-01-04 23:45:00  21044150         NaN         NaN\n",
      "now= 2010-01-04 23:51:00\n",
      "now= 2010-01-04 23:52:00\n",
      "now= 2010-01-04 23:53:00\n",
      "now= 2010-01-04 23:54:00\n",
      "now= 2010-01-04 23:55:00\n",
      "Time to execute the DAG\n"
     ]
    },
    {
     "data": {
      "application/vnd.jupyter.widget-view+json": {
       "model_id": "9b4920b475114e4bbb256074ade043cc",
       "version_major": 2,
       "version_minor": 0
      },
      "text/plain": [
       "run_leq_node:   0%|          | 0/6 [00:00<?, ?it/s]"
      ]
     },
     "metadata": {},
     "output_type": "display_data"
    },
    {
     "name": "stdout",
     "output_type": "stream",
     "text": [
      "                     vwap  twap  last bar_start_timestamp    minute  twap_ret_0  vwap_ret_0\n",
      "2010-01-04 23:45:00   NaN   NaN   NaN 2010-01-04 23:40:00  21044145         NaN         NaN\n",
      "2010-01-04 23:50:00   NaN   NaN   NaN 2010-01-04 23:45:00  21044150         NaN         NaN\n",
      "2010-01-04 23:55:00   NaN   NaN   NaN 2010-01-04 23:50:00  21044155         NaN         NaN\n",
      "now= 2010-01-04 23:56:00\n",
      "now= 2010-01-04 23:57:00\n",
      "now= 2010-01-04 23:58:00\n",
      "now= 2010-01-04 23:59:00\n",
      "now= 2010-01-05 00:00:00\n",
      "Time to execute the DAG\n"
     ]
    },
    {
     "data": {
      "application/vnd.jupyter.widget-view+json": {
       "model_id": "e3057fc2c66b4c5d940e7c1a6ee2801c",
       "version_major": 2,
       "version_minor": 0
      },
      "text/plain": [
       "run_leq_node:   0%|          | 0/6 [00:00<?, ?it/s]"
      ]
     },
     "metadata": {},
     "output_type": "display_data"
    },
    {
     "name": "stdout",
     "output_type": "stream",
     "text": [
      "                     vwap  twap  last bar_start_timestamp    minute  twap_ret_0  vwap_ret_0\n",
      "2010-01-04 23:50:00   NaN   NaN   NaN 2010-01-04 23:45:00  21044150         NaN         NaN\n",
      "2010-01-04 23:55:00   NaN   NaN   NaN 2010-01-04 23:50:00  21044155         NaN         NaN\n",
      "2010-01-05 00:00:00   NaN   NaN   NaN 2010-01-04 23:55:00  21044160         NaN         NaN\n",
      "now= 2010-01-05 00:01:00\n",
      "now= 2010-01-05 00:02:00\n",
      "now= 2010-01-05 00:03:00\n",
      "now= 2010-01-05 00:04:00\n",
      "now= 2010-01-05 00:05:00\n",
      "Time to execute the DAG\n"
     ]
    },
    {
     "data": {
      "application/vnd.jupyter.widget-view+json": {
       "model_id": "a454d99b82d542349e09705c3e0b9913",
       "version_major": 2,
       "version_minor": 0
      },
      "text/plain": [
       "run_leq_node:   0%|          | 0/6 [00:00<?, ?it/s]"
      ]
     },
     "metadata": {},
     "output_type": "display_data"
    },
    {
     "name": "stdout",
     "output_type": "stream",
     "text": [
      "                     vwap  twap  last bar_start_timestamp    minute  twap_ret_0  vwap_ret_0\n",
      "2010-01-04 23:55:00   NaN   NaN   NaN 2010-01-04 23:50:00  21044155         NaN         NaN\n",
      "2010-01-05 00:00:00   NaN   NaN   NaN 2010-01-04 23:55:00  21044160         NaN         NaN\n",
      "2010-01-05 00:05:00   NaN   NaN   NaN 2010-01-05 00:00:00  21044165         NaN         NaN\n",
      "now= 2010-01-05 00:06:00\n",
      "now= 2010-01-05 00:07:00\n",
      "now= 2010-01-05 00:08:00\n",
      "now= 2010-01-05 00:09:00\n",
      "now= 2010-01-05 00:10:00\n",
      "Time to execute the DAG\n"
     ]
    },
    {
     "data": {
      "application/vnd.jupyter.widget-view+json": {
       "model_id": "eb278fdbca8d41b4872c48a9566e1bee",
       "version_major": 2,
       "version_minor": 0
      },
      "text/plain": [
       "run_leq_node:   0%|          | 0/6 [00:00<?, ?it/s]"
      ]
     },
     "metadata": {},
     "output_type": "display_data"
    },
    {
     "name": "stdout",
     "output_type": "stream",
     "text": [
      "                     vwap  twap  last bar_start_timestamp    minute  twap_ret_0  vwap_ret_0\n",
      "2010-01-05 00:00:00   NaN   NaN   NaN 2010-01-04 23:55:00  21044160         NaN         NaN\n",
      "2010-01-05 00:05:00   NaN   NaN   NaN 2010-01-05 00:00:00  21044165         NaN         NaN\n",
      "2010-01-05 00:10:00   NaN   NaN   NaN 2010-01-05 00:05:00  21044170         NaN         NaN\n",
      "now= 2010-01-05 00:11:00\n",
      "now= 2010-01-05 00:12:00\n",
      "now= 2010-01-05 00:13:00\n",
      "now= 2010-01-05 00:14:00\n",
      "now= 2010-01-05 00:15:00\n",
      "Time to execute the DAG\n"
     ]
    },
    {
     "data": {
      "application/vnd.jupyter.widget-view+json": {
       "model_id": "d2b308f52f594451953db012f454fca6",
       "version_major": 2,
       "version_minor": 0
      },
      "text/plain": [
       "run_leq_node:   0%|          | 0/6 [00:00<?, ?it/s]"
      ]
     },
     "metadata": {},
     "output_type": "display_data"
    },
    {
     "name": "stdout",
     "output_type": "stream",
     "text": [
      "                     vwap  twap  last bar_start_timestamp    minute  twap_ret_0  vwap_ret_0\n",
      "2010-01-05 00:05:00   NaN   NaN   NaN 2010-01-05 00:00:00  21044165         NaN         NaN\n",
      "2010-01-05 00:10:00   NaN   NaN   NaN 2010-01-05 00:05:00  21044170         NaN         NaN\n",
      "2010-01-05 00:15:00   NaN   NaN   NaN 2010-01-05 00:10:00  21044175         NaN         NaN\n",
      "now= 2010-01-05 00:16:00\n",
      "now= 2010-01-05 00:17:00\n",
      "now= 2010-01-05 00:18:00\n",
      "now= 2010-01-05 00:19:00\n",
      "now= 2010-01-05 00:20:00\n",
      "Time to execute the DAG\n"
     ]
    },
    {
     "data": {
      "application/vnd.jupyter.widget-view+json": {
       "model_id": "b3cdc675d168482bb905af944999a540",
       "version_major": 2,
       "version_minor": 0
      },
      "text/plain": [
       "run_leq_node:   0%|          | 0/6 [00:00<?, ?it/s]"
      ]
     },
     "metadata": {},
     "output_type": "display_data"
    },
    {
     "name": "stdout",
     "output_type": "stream",
     "text": [
      "                     vwap  twap  last bar_start_timestamp    minute  twap_ret_0  vwap_ret_0\n",
      "2010-01-05 00:10:00   NaN   NaN   NaN 2010-01-05 00:05:00  21044170         NaN         NaN\n",
      "2010-01-05 00:15:00   NaN   NaN   NaN 2010-01-05 00:10:00  21044175         NaN         NaN\n",
      "2010-01-05 00:20:00   NaN   NaN   NaN 2010-01-05 00:15:00  21044180         NaN         NaN\n",
      "now= 2010-01-05 00:21:00\n",
      "now= 2010-01-05 00:22:00\n",
      "now= 2010-01-05 00:23:00\n",
      "now= 2010-01-05 00:24:00\n",
      "now= 2010-01-05 00:25:00\n",
      "Time to execute the DAG\n"
     ]
    },
    {
     "data": {
      "application/vnd.jupyter.widget-view+json": {
       "model_id": "ca99ad748ad1464eb5403aee129f9af8",
       "version_major": 2,
       "version_minor": 0
      },
      "text/plain": [
       "run_leq_node:   0%|          | 0/6 [00:00<?, ?it/s]"
      ]
     },
     "metadata": {},
     "output_type": "display_data"
    },
    {
     "name": "stdout",
     "output_type": "stream",
     "text": [
      "                     vwap  twap  last bar_start_timestamp    minute  twap_ret_0  vwap_ret_0\n",
      "2010-01-05 00:15:00   NaN   NaN   NaN 2010-01-05 00:10:00  21044175         NaN         NaN\n",
      "2010-01-05 00:20:00   NaN   NaN   NaN 2010-01-05 00:15:00  21044180         NaN         NaN\n",
      "2010-01-05 00:25:00   NaN   NaN   NaN 2010-01-05 00:20:00  21044185         NaN         NaN\n",
      "now= 2010-01-05 00:26:00\n",
      "now= 2010-01-05 00:27:00\n",
      "now= 2010-01-05 00:28:00\n",
      "now= 2010-01-05 00:29:00\n",
      "now= 2010-01-05 00:30:00\n",
      "Time to execute the DAG\n"
     ]
    },
    {
     "data": {
      "application/vnd.jupyter.widget-view+json": {
       "model_id": "f9440c02d2d646a6a991cb20343c3bfc",
       "version_major": 2,
       "version_minor": 0
      },
      "text/plain": [
       "run_leq_node:   0%|          | 0/6 [00:00<?, ?it/s]"
      ]
     },
     "metadata": {},
     "output_type": "display_data"
    },
    {
     "name": "stdout",
     "output_type": "stream",
     "text": [
      "                     vwap  twap  last bar_start_timestamp    minute  twap_ret_0  vwap_ret_0\n",
      "2010-01-05 00:20:00   NaN   NaN   NaN 2010-01-05 00:15:00  21044180         NaN         NaN\n",
      "2010-01-05 00:25:00   NaN   NaN   NaN 2010-01-05 00:20:00  21044185         NaN         NaN\n",
      "2010-01-05 00:30:00   NaN   NaN   NaN 2010-01-05 00:25:00  21044190         NaN         NaN\n",
      "now= 2010-01-05 00:31:00\n",
      "now= 2010-01-05 00:32:00\n",
      "now= 2010-01-05 00:33:00\n",
      "now= 2010-01-05 00:34:00\n",
      "now= 2010-01-05 00:35:00\n",
      "Time to execute the DAG\n"
     ]
    },
    {
     "data": {
      "application/vnd.jupyter.widget-view+json": {
       "model_id": "b880b0a121854db2b3db173e8e577056",
       "version_major": 2,
       "version_minor": 0
      },
      "text/plain": [
       "run_leq_node:   0%|          | 0/6 [00:00<?, ?it/s]"
      ]
     },
     "metadata": {},
     "output_type": "display_data"
    },
    {
     "name": "stdout",
     "output_type": "stream",
     "text": [
      "                     vwap  twap  last bar_start_timestamp    minute  twap_ret_0  vwap_ret_0\n",
      "2010-01-05 00:25:00   NaN   NaN   NaN 2010-01-05 00:20:00  21044185         NaN         NaN\n",
      "2010-01-05 00:30:00   NaN   NaN   NaN 2010-01-05 00:25:00  21044190         NaN         NaN\n",
      "2010-01-05 00:35:00   NaN   NaN   NaN 2010-01-05 00:30:00  21044195         NaN         NaN\n",
      "now= 2010-01-05 00:36:00\n",
      "now= 2010-01-05 00:37:00\n",
      "now= 2010-01-05 00:38:00\n",
      "now= 2010-01-05 00:39:00\n",
      "now= 2010-01-05 00:40:00\n",
      "Time to execute the DAG\n"
     ]
    },
    {
     "data": {
      "application/vnd.jupyter.widget-view+json": {
       "model_id": "f90ed0d1f1e24f4fa9f4663a27e6a9bf",
       "version_major": 2,
       "version_minor": 0
      },
      "text/plain": [
       "run_leq_node:   0%|          | 0/6 [00:00<?, ?it/s]"
      ]
     },
     "metadata": {},
     "output_type": "display_data"
    },
    {
     "name": "stdout",
     "output_type": "stream",
     "text": [
      "                     vwap  twap  last bar_start_timestamp    minute  twap_ret_0  vwap_ret_0\n",
      "2010-01-05 00:30:00   NaN   NaN   NaN 2010-01-05 00:25:00  21044190         NaN         NaN\n",
      "2010-01-05 00:35:00   NaN   NaN   NaN 2010-01-05 00:30:00  21044195         NaN         NaN\n",
      "2010-01-05 00:40:00   NaN   NaN   NaN 2010-01-05 00:35:00  21044200         NaN         NaN\n",
      "now= 2010-01-05 00:41:00\n",
      "now= 2010-01-05 00:42:00\n",
      "now= 2010-01-05 00:43:00\n",
      "now= 2010-01-05 00:44:00\n",
      "now= 2010-01-05 00:45:00\n",
      "Time to execute the DAG\n"
     ]
    },
    {
     "data": {
      "application/vnd.jupyter.widget-view+json": {
       "model_id": "37c826e7c5ae44cea08e400bc6a29127",
       "version_major": 2,
       "version_minor": 0
      },
      "text/plain": [
       "run_leq_node:   0%|          | 0/6 [00:00<?, ?it/s]"
      ]
     },
     "metadata": {},
     "output_type": "display_data"
    },
    {
     "name": "stdout",
     "output_type": "stream",
     "text": [
      "                     vwap  twap  last bar_start_timestamp    minute  twap_ret_0  vwap_ret_0\n",
      "2010-01-05 00:35:00   NaN   NaN   NaN 2010-01-05 00:30:00  21044195         NaN         NaN\n",
      "2010-01-05 00:40:00   NaN   NaN   NaN 2010-01-05 00:35:00  21044200         NaN         NaN\n",
      "2010-01-05 00:45:00   NaN   NaN   NaN 2010-01-05 00:40:00  21044205         NaN         NaN\n",
      "now= 2010-01-05 00:46:00\n",
      "now= 2010-01-05 00:47:00\n",
      "now= 2010-01-05 00:48:00\n",
      "now= 2010-01-05 00:49:00\n",
      "now= 2010-01-05 00:50:00\n",
      "Time to execute the DAG\n"
     ]
    },
    {
     "data": {
      "application/vnd.jupyter.widget-view+json": {
       "model_id": "80394e294b5b47e0a0abd553a8139b7e",
       "version_major": 2,
       "version_minor": 0
      },
      "text/plain": [
       "run_leq_node:   0%|          | 0/6 [00:00<?, ?it/s]"
      ]
     },
     "metadata": {},
     "output_type": "display_data"
    },
    {
     "name": "stdout",
     "output_type": "stream",
     "text": [
      "                     vwap  twap  last bar_start_timestamp    minute  twap_ret_0  vwap_ret_0\n",
      "2010-01-05 00:40:00   NaN   NaN   NaN 2010-01-05 00:35:00  21044200         NaN         NaN\n",
      "2010-01-05 00:45:00   NaN   NaN   NaN 2010-01-05 00:40:00  21044205         NaN         NaN\n",
      "2010-01-05 00:50:00   NaN   NaN   NaN 2010-01-05 00:45:00  21044210         NaN         NaN\n",
      "now= 2010-01-05 00:51:00\n",
      "now= 2010-01-05 00:52:00\n",
      "now= 2010-01-05 00:53:00\n",
      "now= 2010-01-05 00:54:00\n",
      "now= 2010-01-05 00:55:00\n",
      "Time to execute the DAG\n"
     ]
    },
    {
     "data": {
      "application/vnd.jupyter.widget-view+json": {
       "model_id": "39caf5dc0cd54a32aa6475190939f6e1",
       "version_major": 2,
       "version_minor": 0
      },
      "text/plain": [
       "run_leq_node:   0%|          | 0/6 [00:00<?, ?it/s]"
      ]
     },
     "metadata": {},
     "output_type": "display_data"
    },
    {
     "name": "stdout",
     "output_type": "stream",
     "text": [
      "                     vwap  twap  last bar_start_timestamp    minute  twap_ret_0  vwap_ret_0\n",
      "2010-01-05 00:45:00   NaN   NaN   NaN 2010-01-05 00:40:00  21044205         NaN         NaN\n",
      "2010-01-05 00:50:00   NaN   NaN   NaN 2010-01-05 00:45:00  21044210         NaN         NaN\n",
      "2010-01-05 00:55:00   NaN   NaN   NaN 2010-01-05 00:50:00  21044215         NaN         NaN\n",
      "now= 2010-01-05 00:56:00\n",
      "now= 2010-01-05 00:57:00\n",
      "now= 2010-01-05 00:58:00\n",
      "now= 2010-01-05 00:59:00\n",
      "now= 2010-01-05 01:00:00\n",
      "Time to execute the DAG\n"
     ]
    },
    {
     "data": {
      "application/vnd.jupyter.widget-view+json": {
       "model_id": "4d68b40bda7940dc8e89ec5bc3c6e729",
       "version_major": 2,
       "version_minor": 0
      },
      "text/plain": [
       "run_leq_node:   0%|          | 0/6 [00:00<?, ?it/s]"
      ]
     },
     "metadata": {},
     "output_type": "display_data"
    },
    {
     "name": "stdout",
     "output_type": "stream",
     "text": [
      "                     vwap  twap  last bar_start_timestamp    minute  twap_ret_0  vwap_ret_0\n",
      "2010-01-05 00:50:00   NaN   NaN   NaN 2010-01-05 00:45:00  21044210         NaN         NaN\n",
      "2010-01-05 00:55:00   NaN   NaN   NaN 2010-01-05 00:50:00  21044215         NaN         NaN\n",
      "2010-01-05 01:00:00   NaN   NaN   NaN 2010-01-05 00:55:00  21044220         NaN         NaN\n",
      "now= 2010-01-05 01:01:00\n",
      "now= 2010-01-05 01:02:00\n",
      "now= 2010-01-05 01:03:00\n",
      "now= 2010-01-05 01:04:00\n",
      "now= 2010-01-05 01:05:00\n",
      "Time to execute the DAG\n"
     ]
    },
    {
     "data": {
      "application/vnd.jupyter.widget-view+json": {
       "model_id": "785a7bc3fcae4b2fa33e7efaadefbbdc",
       "version_major": 2,
       "version_minor": 0
      },
      "text/plain": [
       "run_leq_node:   0%|          | 0/6 [00:00<?, ?it/s]"
      ]
     },
     "metadata": {},
     "output_type": "display_data"
    },
    {
     "name": "stdout",
     "output_type": "stream",
     "text": [
      "                     vwap  twap  last bar_start_timestamp    minute  twap_ret_0  vwap_ret_0\n",
      "2010-01-05 00:55:00   NaN   NaN   NaN 2010-01-05 00:50:00  21044215         NaN         NaN\n",
      "2010-01-05 01:00:00   NaN   NaN   NaN 2010-01-05 00:55:00  21044220         NaN         NaN\n",
      "2010-01-05 01:05:00   NaN   NaN   NaN 2010-01-05 01:00:00  21044225         NaN         NaN\n",
      "now= 2010-01-05 01:06:00\n",
      "now= 2010-01-05 01:07:00\n",
      "now= 2010-01-05 01:08:00\n",
      "now= 2010-01-05 01:09:00\n",
      "now= 2010-01-05 01:10:00\n",
      "Time to execute the DAG\n"
     ]
    },
    {
     "data": {
      "application/vnd.jupyter.widget-view+json": {
       "model_id": "1be159a71be746d0bf27d33c508016bd",
       "version_major": 2,
       "version_minor": 0
      },
      "text/plain": [
       "run_leq_node:   0%|          | 0/6 [00:00<?, ?it/s]"
      ]
     },
     "metadata": {},
     "output_type": "display_data"
    },
    {
     "name": "stdout",
     "output_type": "stream",
     "text": [
      "                     vwap  twap  last bar_start_timestamp    minute  twap_ret_0  vwap_ret_0\n",
      "2010-01-05 01:00:00   NaN   NaN   NaN 2010-01-05 00:55:00  21044220         NaN         NaN\n",
      "2010-01-05 01:05:00   NaN   NaN   NaN 2010-01-05 01:00:00  21044225         NaN         NaN\n",
      "2010-01-05 01:10:00   NaN   NaN   NaN 2010-01-05 01:05:00  21044230         NaN         NaN\n",
      "now= 2010-01-05 01:11:00\n",
      "now= 2010-01-05 01:12:00\n",
      "now= 2010-01-05 01:13:00\n",
      "now= 2010-01-05 01:14:00\n",
      "now= 2010-01-05 01:15:00\n",
      "Time to execute the DAG\n"
     ]
    },
    {
     "data": {
      "application/vnd.jupyter.widget-view+json": {
       "model_id": "51de16af8df34162a47c3e4d2b22b051",
       "version_major": 2,
       "version_minor": 0
      },
      "text/plain": [
       "run_leq_node:   0%|          | 0/6 [00:00<?, ?it/s]"
      ]
     },
     "metadata": {},
     "output_type": "display_data"
    },
    {
     "name": "stdout",
     "output_type": "stream",
     "text": [
      "                     vwap  twap  last bar_start_timestamp    minute  twap_ret_0  vwap_ret_0\n",
      "2010-01-05 01:05:00   NaN   NaN   NaN 2010-01-05 01:00:00  21044225         NaN         NaN\n",
      "2010-01-05 01:10:00   NaN   NaN   NaN 2010-01-05 01:05:00  21044230         NaN         NaN\n",
      "2010-01-05 01:15:00   NaN   NaN   NaN 2010-01-05 01:10:00  21044235         NaN         NaN\n",
      "now= 2010-01-05 01:16:00\n",
      "now= 2010-01-05 01:17:00\n",
      "now= 2010-01-05 01:18:00\n",
      "now= 2010-01-05 01:19:00\n",
      "now= 2010-01-05 01:20:00\n",
      "Time to execute the DAG\n"
     ]
    },
    {
     "data": {
      "application/vnd.jupyter.widget-view+json": {
       "model_id": "d317d9091f9b474ea7638cd4038da9d6",
       "version_major": 2,
       "version_minor": 0
      },
      "text/plain": [
       "run_leq_node:   0%|          | 0/6 [00:00<?, ?it/s]"
      ]
     },
     "metadata": {},
     "output_type": "display_data"
    },
    {
     "name": "stdout",
     "output_type": "stream",
     "text": [
      "                     vwap  twap  last bar_start_timestamp    minute  twap_ret_0  vwap_ret_0\n",
      "2010-01-05 01:10:00   NaN   NaN   NaN 2010-01-05 01:05:00  21044230         NaN         NaN\n",
      "2010-01-05 01:15:00   NaN   NaN   NaN 2010-01-05 01:10:00  21044235         NaN         NaN\n",
      "2010-01-05 01:20:00   NaN   NaN   NaN 2010-01-05 01:15:00  21044240         NaN         NaN\n",
      "now= 2010-01-05 01:21:00\n",
      "now= 2010-01-05 01:22:00\n",
      "now= 2010-01-05 01:23:00\n",
      "now= 2010-01-05 01:24:00\n",
      "now= 2010-01-05 01:25:00\n",
      "Time to execute the DAG\n"
     ]
    },
    {
     "data": {
      "application/vnd.jupyter.widget-view+json": {
       "model_id": "14ddc92348804448a64ec814283b040d",
       "version_major": 2,
       "version_minor": 0
      },
      "text/plain": [
       "run_leq_node:   0%|          | 0/6 [00:00<?, ?it/s]"
      ]
     },
     "metadata": {},
     "output_type": "display_data"
    },
    {
     "name": "stdout",
     "output_type": "stream",
     "text": [
      "                     vwap  twap  last bar_start_timestamp    minute  twap_ret_0  vwap_ret_0\n",
      "2010-01-05 01:15:00   NaN   NaN   NaN 2010-01-05 01:10:00  21044235         NaN         NaN\n",
      "2010-01-05 01:20:00   NaN   NaN   NaN 2010-01-05 01:15:00  21044240         NaN         NaN\n",
      "2010-01-05 01:25:00   NaN   NaN   NaN 2010-01-05 01:20:00  21044245         NaN         NaN\n",
      "now= 2010-01-05 01:26:00\n",
      "now= 2010-01-05 01:27:00\n",
      "now= 2010-01-05 01:28:00\n",
      "now= 2010-01-05 01:29:00\n",
      "now= 2010-01-05 01:30:00\n",
      "Time to execute the DAG\n"
     ]
    },
    {
     "data": {
      "application/vnd.jupyter.widget-view+json": {
       "model_id": "36c32f7eeb564c119e1afcc0d00cda73",
       "version_major": 2,
       "version_minor": 0
      },
      "text/plain": [
       "run_leq_node:   0%|          | 0/6 [00:00<?, ?it/s]"
      ]
     },
     "metadata": {},
     "output_type": "display_data"
    },
    {
     "name": "stdout",
     "output_type": "stream",
     "text": [
      "                     vwap  twap  last bar_start_timestamp    minute  twap_ret_0  vwap_ret_0\n",
      "2010-01-05 01:20:00   NaN   NaN   NaN 2010-01-05 01:15:00  21044240         NaN         NaN\n",
      "2010-01-05 01:25:00   NaN   NaN   NaN 2010-01-05 01:20:00  21044245         NaN         NaN\n",
      "2010-01-05 01:30:00   NaN   NaN   NaN 2010-01-05 01:25:00  21044250         NaN         NaN\n",
      "now= 2010-01-05 01:31:00\n",
      "now= 2010-01-05 01:32:00\n",
      "now= 2010-01-05 01:33:00\n",
      "now= 2010-01-05 01:34:00\n",
      "now= 2010-01-05 01:35:00\n",
      "Time to execute the DAG\n"
     ]
    },
    {
     "data": {
      "application/vnd.jupyter.widget-view+json": {
       "model_id": "af8387fca2234a02996134b77b265005",
       "version_major": 2,
       "version_minor": 0
      },
      "text/plain": [
       "run_leq_node:   0%|          | 0/6 [00:00<?, ?it/s]"
      ]
     },
     "metadata": {},
     "output_type": "display_data"
    },
    {
     "name": "stdout",
     "output_type": "stream",
     "text": [
      "                     vwap  twap  last bar_start_timestamp    minute  twap_ret_0  vwap_ret_0\n",
      "2010-01-05 01:25:00   NaN   NaN   NaN 2010-01-05 01:20:00  21044245         NaN         NaN\n",
      "2010-01-05 01:30:00   NaN   NaN   NaN 2010-01-05 01:25:00  21044250         NaN         NaN\n",
      "2010-01-05 01:35:00   NaN   NaN   NaN 2010-01-05 01:30:00  21044255         NaN         NaN\n",
      "now= 2010-01-05 01:36:00\n",
      "now= 2010-01-05 01:37:00\n",
      "now= 2010-01-05 01:38:00\n",
      "now= 2010-01-05 01:39:00\n",
      "now= 2010-01-05 01:40:00\n",
      "Time to execute the DAG\n"
     ]
    },
    {
     "data": {
      "application/vnd.jupyter.widget-view+json": {
       "model_id": "ec460717dc3640b6a919e0f7a055435d",
       "version_major": 2,
       "version_minor": 0
      },
      "text/plain": [
       "run_leq_node:   0%|          | 0/6 [00:00<?, ?it/s]"
      ]
     },
     "metadata": {},
     "output_type": "display_data"
    },
    {
     "name": "stdout",
     "output_type": "stream",
     "text": [
      "                     vwap  twap  last bar_start_timestamp    minute  twap_ret_0  vwap_ret_0\n",
      "2010-01-05 01:30:00   NaN   NaN   NaN 2010-01-05 01:25:00  21044250         NaN         NaN\n",
      "2010-01-05 01:35:00   NaN   NaN   NaN 2010-01-05 01:30:00  21044255         NaN         NaN\n",
      "2010-01-05 01:40:00   NaN   NaN   NaN 2010-01-05 01:35:00  21044260         NaN         NaN\n",
      "now= 2010-01-05 01:41:00\n",
      "now= 2010-01-05 01:42:00\n",
      "now= 2010-01-05 01:43:00\n",
      "now= 2010-01-05 01:44:00\n",
      "now= 2010-01-05 01:45:00\n",
      "Time to execute the DAG\n"
     ]
    },
    {
     "data": {
      "application/vnd.jupyter.widget-view+json": {
       "model_id": "ac06ffd37d0045c6ac428ca8ff74d3b5",
       "version_major": 2,
       "version_minor": 0
      },
      "text/plain": [
       "run_leq_node:   0%|          | 0/6 [00:00<?, ?it/s]"
      ]
     },
     "metadata": {},
     "output_type": "display_data"
    },
    {
     "name": "stdout",
     "output_type": "stream",
     "text": [
      "                     vwap  twap  last bar_start_timestamp    minute  twap_ret_0  vwap_ret_0\n",
      "2010-01-05 01:35:00   NaN   NaN   NaN 2010-01-05 01:30:00  21044255         NaN         NaN\n",
      "2010-01-05 01:40:00   NaN   NaN   NaN 2010-01-05 01:35:00  21044260         NaN         NaN\n",
      "2010-01-05 01:45:00   NaN   NaN   NaN 2010-01-05 01:40:00  21044265         NaN         NaN\n",
      "now= 2010-01-05 01:46:00\n",
      "now= 2010-01-05 01:47:00\n",
      "now= 2010-01-05 01:48:00\n",
      "now= 2010-01-05 01:49:00\n",
      "now= 2010-01-05 01:50:00\n",
      "Time to execute the DAG\n"
     ]
    },
    {
     "data": {
      "application/vnd.jupyter.widget-view+json": {
       "model_id": "9ca6125ef9ae4bbd8810ddda76c0e3a8",
       "version_major": 2,
       "version_minor": 0
      },
      "text/plain": [
       "run_leq_node:   0%|          | 0/6 [00:00<?, ?it/s]"
      ]
     },
     "metadata": {},
     "output_type": "display_data"
    },
    {
     "name": "stdout",
     "output_type": "stream",
     "text": [
      "                     vwap  twap  last bar_start_timestamp    minute  twap_ret_0  vwap_ret_0\n",
      "2010-01-05 01:40:00   NaN   NaN   NaN 2010-01-05 01:35:00  21044260         NaN         NaN\n",
      "2010-01-05 01:45:00   NaN   NaN   NaN 2010-01-05 01:40:00  21044265         NaN         NaN\n",
      "2010-01-05 01:50:00   NaN   NaN   NaN 2010-01-05 01:45:00  21044270         NaN         NaN\n",
      "now= 2010-01-05 01:51:00\n",
      "now= 2010-01-05 01:52:00\n",
      "now= 2010-01-05 01:53:00\n",
      "now= 2010-01-05 01:54:00\n",
      "now= 2010-01-05 01:55:00\n",
      "Time to execute the DAG\n"
     ]
    },
    {
     "data": {
      "application/vnd.jupyter.widget-view+json": {
       "model_id": "c74ee47892c54c7397fb1dce211b5245",
       "version_major": 2,
       "version_minor": 0
      },
      "text/plain": [
       "run_leq_node:   0%|          | 0/6 [00:00<?, ?it/s]"
      ]
     },
     "metadata": {},
     "output_type": "display_data"
    },
    {
     "name": "stdout",
     "output_type": "stream",
     "text": [
      "                     vwap  twap  last bar_start_timestamp    minute  twap_ret_0  vwap_ret_0\n",
      "2010-01-05 01:45:00   NaN   NaN   NaN 2010-01-05 01:40:00  21044265         NaN         NaN\n",
      "2010-01-05 01:50:00   NaN   NaN   NaN 2010-01-05 01:45:00  21044270         NaN         NaN\n",
      "2010-01-05 01:55:00   NaN   NaN   NaN 2010-01-05 01:50:00  21044275         NaN         NaN\n",
      "now= 2010-01-05 01:56:00\n",
      "now= 2010-01-05 01:57:00\n",
      "now= 2010-01-05 01:58:00\n",
      "now= 2010-01-05 01:59:00\n",
      "now= 2010-01-05 02:00:00\n",
      "Time to execute the DAG\n"
     ]
    },
    {
     "data": {
      "application/vnd.jupyter.widget-view+json": {
       "model_id": "e9bdd3e2eea44df9b0ecaed9d26b9f14",
       "version_major": 2,
       "version_minor": 0
      },
      "text/plain": [
       "run_leq_node:   0%|          | 0/6 [00:00<?, ?it/s]"
      ]
     },
     "metadata": {},
     "output_type": "display_data"
    },
    {
     "name": "stdout",
     "output_type": "stream",
     "text": [
      "                     vwap  twap  last bar_start_timestamp    minute  twap_ret_0  vwap_ret_0\n",
      "2010-01-05 01:50:00   NaN   NaN   NaN 2010-01-05 01:45:00  21044270         NaN         NaN\n",
      "2010-01-05 01:55:00   NaN   NaN   NaN 2010-01-05 01:50:00  21044275         NaN         NaN\n",
      "2010-01-05 02:00:00   NaN   NaN   NaN 2010-01-05 01:55:00  21044280         NaN         NaN\n",
      "now= 2010-01-05 02:01:00\n",
      "now= 2010-01-05 02:02:00\n",
      "now= 2010-01-05 02:03:00\n",
      "now= 2010-01-05 02:04:00\n",
      "now= 2010-01-05 02:05:00\n",
      "Time to execute the DAG\n"
     ]
    },
    {
     "data": {
      "application/vnd.jupyter.widget-view+json": {
       "model_id": "ab272e1621cd4145ba96680e9a3c045f",
       "version_major": 2,
       "version_minor": 0
      },
      "text/plain": [
       "run_leq_node:   0%|          | 0/6 [00:00<?, ?it/s]"
      ]
     },
     "metadata": {},
     "output_type": "display_data"
    },
    {
     "name": "stdout",
     "output_type": "stream",
     "text": [
      "                     vwap  twap  last bar_start_timestamp    minute  twap_ret_0  vwap_ret_0\n",
      "2010-01-05 01:55:00   NaN   NaN   NaN 2010-01-05 01:50:00  21044275         NaN         NaN\n",
      "2010-01-05 02:00:00   NaN   NaN   NaN 2010-01-05 01:55:00  21044280         NaN         NaN\n",
      "2010-01-05 02:05:00   NaN   NaN   NaN 2010-01-05 02:00:00  21044285         NaN         NaN\n",
      "now= 2010-01-05 02:06:00\n",
      "now= 2010-01-05 02:07:00\n",
      "now= 2010-01-05 02:08:00\n",
      "now= 2010-01-05 02:09:00\n",
      "now= 2010-01-05 02:10:00\n",
      "Time to execute the DAG\n"
     ]
    },
    {
     "data": {
      "application/vnd.jupyter.widget-view+json": {
       "model_id": "548d1931559b452a8d9676088cf7db65",
       "version_major": 2,
       "version_minor": 0
      },
      "text/plain": [
       "run_leq_node:   0%|          | 0/6 [00:00<?, ?it/s]"
      ]
     },
     "metadata": {},
     "output_type": "display_data"
    },
    {
     "name": "stdout",
     "output_type": "stream",
     "text": [
      "                     vwap  twap  last bar_start_timestamp    minute  twap_ret_0  vwap_ret_0\n",
      "2010-01-05 02:00:00   NaN   NaN   NaN 2010-01-05 01:55:00  21044280         NaN         NaN\n",
      "2010-01-05 02:05:00   NaN   NaN   NaN 2010-01-05 02:00:00  21044285         NaN         NaN\n",
      "2010-01-05 02:10:00   NaN   NaN   NaN 2010-01-05 02:05:00  21044290         NaN         NaN\n",
      "now= 2010-01-05 02:11:00\n",
      "now= 2010-01-05 02:12:00\n",
      "now= 2010-01-05 02:13:00\n",
      "now= 2010-01-05 02:14:00\n",
      "now= 2010-01-05 02:15:00\n",
      "Time to execute the DAG\n"
     ]
    },
    {
     "data": {
      "application/vnd.jupyter.widget-view+json": {
       "model_id": "06665e718baf4df4a6629a62306b6d82",
       "version_major": 2,
       "version_minor": 0
      },
      "text/plain": [
       "run_leq_node:   0%|          | 0/6 [00:00<?, ?it/s]"
      ]
     },
     "metadata": {},
     "output_type": "display_data"
    },
    {
     "name": "stdout",
     "output_type": "stream",
     "text": [
      "                     vwap  twap  last bar_start_timestamp    minute  twap_ret_0  vwap_ret_0\n",
      "2010-01-05 02:05:00   NaN   NaN   NaN 2010-01-05 02:00:00  21044285         NaN         NaN\n",
      "2010-01-05 02:10:00   NaN   NaN   NaN 2010-01-05 02:05:00  21044290         NaN         NaN\n",
      "2010-01-05 02:15:00   NaN   NaN   NaN 2010-01-05 02:10:00  21044295         NaN         NaN\n",
      "now= 2010-01-05 02:16:00\n",
      "now= 2010-01-05 02:17:00\n",
      "now= 2010-01-05 02:18:00\n",
      "now= 2010-01-05 02:19:00\n",
      "now= 2010-01-05 02:20:00\n",
      "Time to execute the DAG\n"
     ]
    },
    {
     "data": {
      "application/vnd.jupyter.widget-view+json": {
       "model_id": "e0d614a5cf714966949afacc12076f9e",
       "version_major": 2,
       "version_minor": 0
      },
      "text/plain": [
       "run_leq_node:   0%|          | 0/6 [00:00<?, ?it/s]"
      ]
     },
     "metadata": {},
     "output_type": "display_data"
    },
    {
     "name": "stdout",
     "output_type": "stream",
     "text": [
      "                     vwap  twap  last bar_start_timestamp    minute  twap_ret_0  vwap_ret_0\n",
      "2010-01-05 02:10:00   NaN   NaN   NaN 2010-01-05 02:05:00  21044290         NaN         NaN\n",
      "2010-01-05 02:15:00   NaN   NaN   NaN 2010-01-05 02:10:00  21044295         NaN         NaN\n",
      "2010-01-05 02:20:00   NaN   NaN   NaN 2010-01-05 02:15:00  21044300         NaN         NaN\n",
      "now= 2010-01-05 02:21:00\n",
      "now= 2010-01-05 02:22:00\n",
      "now= 2010-01-05 02:23:00\n",
      "now= 2010-01-05 02:24:00\n",
      "now= 2010-01-05 02:25:00\n",
      "Time to execute the DAG\n"
     ]
    },
    {
     "data": {
      "application/vnd.jupyter.widget-view+json": {
       "model_id": "304747075bc544b7860c3b7bddf33b09",
       "version_major": 2,
       "version_minor": 0
      },
      "text/plain": [
       "run_leq_node:   0%|          | 0/6 [00:00<?, ?it/s]"
      ]
     },
     "metadata": {},
     "output_type": "display_data"
    },
    {
     "name": "stdout",
     "output_type": "stream",
     "text": [
      "                     vwap  twap  last bar_start_timestamp    minute  twap_ret_0  vwap_ret_0\n",
      "2010-01-05 02:15:00   NaN   NaN   NaN 2010-01-05 02:10:00  21044295         NaN         NaN\n",
      "2010-01-05 02:20:00   NaN   NaN   NaN 2010-01-05 02:15:00  21044300         NaN         NaN\n",
      "2010-01-05 02:25:00   NaN   NaN   NaN 2010-01-05 02:20:00  21044305         NaN         NaN\n",
      "now= 2010-01-05 02:26:00\n",
      "now= 2010-01-05 02:27:00\n",
      "now= 2010-01-05 02:28:00\n",
      "now= 2010-01-05 02:29:00\n",
      "now= 2010-01-05 02:30:00\n",
      "Time to execute the DAG\n"
     ]
    },
    {
     "data": {
      "application/vnd.jupyter.widget-view+json": {
       "model_id": "2fd7708d588248c58bc03f5741f48845",
       "version_major": 2,
       "version_minor": 0
      },
      "text/plain": [
       "run_leq_node:   0%|          | 0/6 [00:00<?, ?it/s]"
      ]
     },
     "metadata": {},
     "output_type": "display_data"
    },
    {
     "name": "stdout",
     "output_type": "stream",
     "text": [
      "                     vwap  twap  last bar_start_timestamp    minute  twap_ret_0  vwap_ret_0\n",
      "2010-01-05 02:20:00   NaN   NaN   NaN 2010-01-05 02:15:00  21044300         NaN         NaN\n",
      "2010-01-05 02:25:00   NaN   NaN   NaN 2010-01-05 02:20:00  21044305         NaN         NaN\n",
      "2010-01-05 02:30:00   NaN   NaN   NaN 2010-01-05 02:25:00  21044310         NaN         NaN\n",
      "now= 2010-01-05 02:31:00\n",
      "now= 2010-01-05 02:32:00\n",
      "now= 2010-01-05 02:33:00\n",
      "now= 2010-01-05 02:34:00\n",
      "now= 2010-01-05 02:35:00\n",
      "Time to execute the DAG\n"
     ]
    },
    {
     "data": {
      "application/vnd.jupyter.widget-view+json": {
       "model_id": "36e8513939af4057b284da665353edcc",
       "version_major": 2,
       "version_minor": 0
      },
      "text/plain": [
       "run_leq_node:   0%|          | 0/6 [00:00<?, ?it/s]"
      ]
     },
     "metadata": {},
     "output_type": "display_data"
    },
    {
     "name": "stdout",
     "output_type": "stream",
     "text": [
      "                     vwap  twap  last bar_start_timestamp    minute  twap_ret_0  vwap_ret_0\n",
      "2010-01-05 02:25:00   NaN   NaN   NaN 2010-01-05 02:20:00  21044305         NaN         NaN\n",
      "2010-01-05 02:30:00   NaN   NaN   NaN 2010-01-05 02:25:00  21044310         NaN         NaN\n",
      "2010-01-05 02:35:00   NaN   NaN   NaN 2010-01-05 02:30:00  21044315         NaN         NaN\n",
      "now= 2010-01-05 02:36:00\n",
      "now= 2010-01-05 02:37:00\n",
      "now= 2010-01-05 02:38:00\n",
      "now= 2010-01-05 02:39:00\n",
      "now= 2010-01-05 02:40:00\n",
      "Time to execute the DAG\n"
     ]
    },
    {
     "data": {
      "application/vnd.jupyter.widget-view+json": {
       "model_id": "e53d6e7323324355a4a85b4d9747fb2d",
       "version_major": 2,
       "version_minor": 0
      },
      "text/plain": [
       "run_leq_node:   0%|          | 0/6 [00:00<?, ?it/s]"
      ]
     },
     "metadata": {},
     "output_type": "display_data"
    },
    {
     "name": "stdout",
     "output_type": "stream",
     "text": [
      "                     vwap  twap  last bar_start_timestamp    minute  twap_ret_0  vwap_ret_0\n",
      "2010-01-05 02:30:00   NaN   NaN   NaN 2010-01-05 02:25:00  21044310         NaN         NaN\n",
      "2010-01-05 02:35:00   NaN   NaN   NaN 2010-01-05 02:30:00  21044315         NaN         NaN\n",
      "2010-01-05 02:40:00   NaN   NaN   NaN 2010-01-05 02:35:00  21044320         NaN         NaN\n",
      "now= 2010-01-05 02:41:00\n",
      "now= 2010-01-05 02:42:00\n",
      "now= 2010-01-05 02:43:00\n",
      "now= 2010-01-05 02:44:00\n",
      "now= 2010-01-05 02:45:00\n",
      "Time to execute the DAG\n"
     ]
    },
    {
     "data": {
      "application/vnd.jupyter.widget-view+json": {
       "model_id": "82926e045a1447a38251c80c7d557045",
       "version_major": 2,
       "version_minor": 0
      },
      "text/plain": [
       "run_leq_node:   0%|          | 0/6 [00:00<?, ?it/s]"
      ]
     },
     "metadata": {},
     "output_type": "display_data"
    },
    {
     "name": "stdout",
     "output_type": "stream",
     "text": [
      "                     vwap  twap  last bar_start_timestamp    minute  twap_ret_0  vwap_ret_0\n",
      "2010-01-05 02:35:00   NaN   NaN   NaN 2010-01-05 02:30:00  21044315         NaN         NaN\n",
      "2010-01-05 02:40:00   NaN   NaN   NaN 2010-01-05 02:35:00  21044320         NaN         NaN\n",
      "2010-01-05 02:45:00   NaN   NaN   NaN 2010-01-05 02:40:00  21044325         NaN         NaN\n",
      "now= 2010-01-05 02:46:00\n",
      "now= 2010-01-05 02:47:00\n",
      "now= 2010-01-05 02:48:00\n",
      "now= 2010-01-05 02:49:00\n",
      "now= 2010-01-05 02:50:00\n",
      "Time to execute the DAG\n"
     ]
    },
    {
     "data": {
      "application/vnd.jupyter.widget-view+json": {
       "model_id": "b11bf154aaee4d90b4c4c7cc0915f9c1",
       "version_major": 2,
       "version_minor": 0
      },
      "text/plain": [
       "run_leq_node:   0%|          | 0/6 [00:00<?, ?it/s]"
      ]
     },
     "metadata": {},
     "output_type": "display_data"
    },
    {
     "name": "stdout",
     "output_type": "stream",
     "text": [
      "                     vwap  twap  last bar_start_timestamp    minute  twap_ret_0  vwap_ret_0\n",
      "2010-01-05 02:40:00   NaN   NaN   NaN 2010-01-05 02:35:00  21044320         NaN         NaN\n",
      "2010-01-05 02:45:00   NaN   NaN   NaN 2010-01-05 02:40:00  21044325         NaN         NaN\n",
      "2010-01-05 02:50:00   NaN   NaN   NaN 2010-01-05 02:45:00  21044330         NaN         NaN\n",
      "now= 2010-01-05 02:51:00\n",
      "now= 2010-01-05 02:52:00\n",
      "now= 2010-01-05 02:53:00\n",
      "now= 2010-01-05 02:54:00\n",
      "now= 2010-01-05 02:55:00\n",
      "Time to execute the DAG\n"
     ]
    },
    {
     "data": {
      "application/vnd.jupyter.widget-view+json": {
       "model_id": "ee50af15130346969d4eea080a49399c",
       "version_major": 2,
       "version_minor": 0
      },
      "text/plain": [
       "run_leq_node:   0%|          | 0/6 [00:00<?, ?it/s]"
      ]
     },
     "metadata": {},
     "output_type": "display_data"
    },
    {
     "name": "stdout",
     "output_type": "stream",
     "text": [
      "                     vwap  twap  last bar_start_timestamp    minute  twap_ret_0  vwap_ret_0\n",
      "2010-01-05 02:45:00   NaN   NaN   NaN 2010-01-05 02:40:00  21044325         NaN         NaN\n",
      "2010-01-05 02:50:00   NaN   NaN   NaN 2010-01-05 02:45:00  21044330         NaN         NaN\n",
      "2010-01-05 02:55:00   NaN   NaN   NaN 2010-01-05 02:50:00  21044335         NaN         NaN\n",
      "now= 2010-01-05 02:56:00\n",
      "now= 2010-01-05 02:57:00\n",
      "now= 2010-01-05 02:58:00\n",
      "now= 2010-01-05 02:59:00\n",
      "now= 2010-01-05 03:00:00\n",
      "Time to execute the DAG\n"
     ]
    },
    {
     "data": {
      "application/vnd.jupyter.widget-view+json": {
       "model_id": "a65271e5917145b5aa5438fa931d7776",
       "version_major": 2,
       "version_minor": 0
      },
      "text/plain": [
       "run_leq_node:   0%|          | 0/6 [00:00<?, ?it/s]"
      ]
     },
     "metadata": {},
     "output_type": "display_data"
    },
    {
     "name": "stdout",
     "output_type": "stream",
     "text": [
      "                     vwap  twap  last bar_start_timestamp    minute  twap_ret_0  vwap_ret_0\n",
      "2010-01-05 02:50:00   NaN   NaN   NaN 2010-01-05 02:45:00  21044330         NaN         NaN\n",
      "2010-01-05 02:55:00   NaN   NaN   NaN 2010-01-05 02:50:00  21044335         NaN         NaN\n",
      "2010-01-05 03:00:00   NaN   NaN   NaN 2010-01-05 02:55:00  21044340         NaN         NaN\n",
      "now= 2010-01-05 03:01:00\n",
      "now= 2010-01-05 03:02:00\n",
      "now= 2010-01-05 03:03:00\n",
      "now= 2010-01-05 03:04:00\n",
      "now= 2010-01-05 03:05:00\n",
      "Time to execute the DAG\n"
     ]
    },
    {
     "data": {
      "application/vnd.jupyter.widget-view+json": {
       "model_id": "4fd37fe0aabc482b9220b631331ccb44",
       "version_major": 2,
       "version_minor": 0
      },
      "text/plain": [
       "run_leq_node:   0%|          | 0/6 [00:00<?, ?it/s]"
      ]
     },
     "metadata": {},
     "output_type": "display_data"
    },
    {
     "name": "stdout",
     "output_type": "stream",
     "text": [
      "                     vwap  twap  last bar_start_timestamp    minute  twap_ret_0  vwap_ret_0\n",
      "2010-01-05 02:55:00   NaN   NaN   NaN 2010-01-05 02:50:00  21044335         NaN         NaN\n",
      "2010-01-05 03:00:00   NaN   NaN   NaN 2010-01-05 02:55:00  21044340         NaN         NaN\n",
      "2010-01-05 03:05:00   NaN   NaN   NaN 2010-01-05 03:00:00  21044345         NaN         NaN\n",
      "now= 2010-01-05 03:06:00\n",
      "now= 2010-01-05 03:07:00\n",
      "now= 2010-01-05 03:08:00\n",
      "now= 2010-01-05 03:09:00\n",
      "now= 2010-01-05 03:10:00\n",
      "Time to execute the DAG\n"
     ]
    },
    {
     "data": {
      "application/vnd.jupyter.widget-view+json": {
       "model_id": "68951015c02847d8b96af62c6ae4255d",
       "version_major": 2,
       "version_minor": 0
      },
      "text/plain": [
       "run_leq_node:   0%|          | 0/6 [00:00<?, ?it/s]"
      ]
     },
     "metadata": {},
     "output_type": "display_data"
    },
    {
     "name": "stdout",
     "output_type": "stream",
     "text": [
      "                     vwap  twap  last bar_start_timestamp    minute  twap_ret_0  vwap_ret_0\n",
      "2010-01-05 03:00:00   NaN   NaN   NaN 2010-01-05 02:55:00  21044340         NaN         NaN\n",
      "2010-01-05 03:05:00   NaN   NaN   NaN 2010-01-05 03:00:00  21044345         NaN         NaN\n",
      "2010-01-05 03:10:00   NaN   NaN   NaN 2010-01-05 03:05:00  21044350         NaN         NaN\n",
      "now= 2010-01-05 03:11:00\n",
      "now= 2010-01-05 03:12:00\n",
      "now= 2010-01-05 03:13:00\n",
      "now= 2010-01-05 03:14:00\n",
      "now= 2010-01-05 03:15:00\n",
      "Time to execute the DAG\n"
     ]
    },
    {
     "data": {
      "application/vnd.jupyter.widget-view+json": {
       "model_id": "e994f29cac6144258ae68df2e17859ff",
       "version_major": 2,
       "version_minor": 0
      },
      "text/plain": [
       "run_leq_node:   0%|          | 0/6 [00:00<?, ?it/s]"
      ]
     },
     "metadata": {},
     "output_type": "display_data"
    },
    {
     "name": "stdout",
     "output_type": "stream",
     "text": [
      "                     vwap  twap  last bar_start_timestamp    minute  twap_ret_0  vwap_ret_0\n",
      "2010-01-05 03:05:00   NaN   NaN   NaN 2010-01-05 03:00:00  21044345         NaN         NaN\n",
      "2010-01-05 03:10:00   NaN   NaN   NaN 2010-01-05 03:05:00  21044350         NaN         NaN\n",
      "2010-01-05 03:15:00   NaN   NaN   NaN 2010-01-05 03:10:00  21044355         NaN         NaN\n",
      "now= 2010-01-05 03:16:00\n",
      "now= 2010-01-05 03:17:00\n",
      "now= 2010-01-05 03:18:00\n",
      "now= 2010-01-05 03:19:00\n",
      "now= 2010-01-05 03:20:00\n",
      "Time to execute the DAG\n"
     ]
    },
    {
     "data": {
      "application/vnd.jupyter.widget-view+json": {
       "model_id": "0631a133dccb45d19641ec86e70b6f4d",
       "version_major": 2,
       "version_minor": 0
      },
      "text/plain": [
       "run_leq_node:   0%|          | 0/6 [00:00<?, ?it/s]"
      ]
     },
     "metadata": {},
     "output_type": "display_data"
    },
    {
     "name": "stdout",
     "output_type": "stream",
     "text": [
      "                     vwap  twap  last bar_start_timestamp    minute  twap_ret_0  vwap_ret_0\n",
      "2010-01-05 03:10:00   NaN   NaN   NaN 2010-01-05 03:05:00  21044350         NaN         NaN\n",
      "2010-01-05 03:15:00   NaN   NaN   NaN 2010-01-05 03:10:00  21044355         NaN         NaN\n",
      "2010-01-05 03:20:00   NaN   NaN   NaN 2010-01-05 03:15:00  21044360         NaN         NaN\n",
      "now= 2010-01-05 03:21:00\n",
      "now= 2010-01-05 03:22:00\n",
      "now= 2010-01-05 03:23:00\n",
      "now= 2010-01-05 03:24:00\n",
      "now= 2010-01-05 03:25:00\n",
      "Time to execute the DAG\n"
     ]
    },
    {
     "data": {
      "application/vnd.jupyter.widget-view+json": {
       "model_id": "be374d68f82c44a9a215d6dd8e89dbd8",
       "version_major": 2,
       "version_minor": 0
      },
      "text/plain": [
       "run_leq_node:   0%|          | 0/6 [00:00<?, ?it/s]"
      ]
     },
     "metadata": {},
     "output_type": "display_data"
    },
    {
     "name": "stdout",
     "output_type": "stream",
     "text": [
      "                     vwap  twap  last bar_start_timestamp    minute  twap_ret_0  vwap_ret_0\n",
      "2010-01-05 03:15:00   NaN   NaN   NaN 2010-01-05 03:10:00  21044355         NaN         NaN\n",
      "2010-01-05 03:20:00   NaN   NaN   NaN 2010-01-05 03:15:00  21044360         NaN         NaN\n",
      "2010-01-05 03:25:00   NaN   NaN   NaN 2010-01-05 03:20:00  21044365         NaN         NaN\n",
      "now= 2010-01-05 03:26:00\n",
      "now= 2010-01-05 03:27:00\n",
      "now= 2010-01-05 03:28:00\n",
      "now= 2010-01-05 03:29:00\n",
      "now= 2010-01-05 03:30:00\n",
      "Time to execute the DAG\n"
     ]
    },
    {
     "data": {
      "application/vnd.jupyter.widget-view+json": {
       "model_id": "af02256c1cbd42e59b0326d91d36a9f6",
       "version_major": 2,
       "version_minor": 0
      },
      "text/plain": [
       "run_leq_node:   0%|          | 0/6 [00:00<?, ?it/s]"
      ]
     },
     "metadata": {},
     "output_type": "display_data"
    },
    {
     "name": "stdout",
     "output_type": "stream",
     "text": [
      "                     vwap  twap  last bar_start_timestamp    minute  twap_ret_0  vwap_ret_0\n",
      "2010-01-05 03:20:00   NaN   NaN   NaN 2010-01-05 03:15:00  21044360         NaN         NaN\n",
      "2010-01-05 03:25:00   NaN   NaN   NaN 2010-01-05 03:20:00  21044365         NaN         NaN\n",
      "2010-01-05 03:30:00   NaN   NaN   NaN 2010-01-05 03:25:00  21044370         NaN         NaN\n",
      "now= 2010-01-05 03:31:00\n",
      "now= 2010-01-05 03:32:00\n",
      "now= 2010-01-05 03:33:00\n",
      "now= 2010-01-05 03:34:00\n",
      "now= 2010-01-05 03:35:00\n",
      "Time to execute the DAG\n"
     ]
    },
    {
     "data": {
      "application/vnd.jupyter.widget-view+json": {
       "model_id": "5235f42dcf4b43e19209b83c22e0688a",
       "version_major": 2,
       "version_minor": 0
      },
      "text/plain": [
       "run_leq_node:   0%|          | 0/6 [00:00<?, ?it/s]"
      ]
     },
     "metadata": {},
     "output_type": "display_data"
    },
    {
     "name": "stdout",
     "output_type": "stream",
     "text": [
      "                     vwap  twap  last bar_start_timestamp    minute  twap_ret_0  vwap_ret_0\n",
      "2010-01-05 03:25:00   NaN   NaN   NaN 2010-01-05 03:20:00  21044365         NaN         NaN\n",
      "2010-01-05 03:30:00   NaN   NaN   NaN 2010-01-05 03:25:00  21044370         NaN         NaN\n",
      "2010-01-05 03:35:00   NaN   NaN   NaN 2010-01-05 03:30:00  21044375         NaN         NaN\n",
      "now= 2010-01-05 03:36:00\n",
      "now= 2010-01-05 03:37:00\n",
      "now= 2010-01-05 03:38:00\n",
      "now= 2010-01-05 03:39:00\n",
      "now= 2010-01-05 03:40:00\n",
      "Time to execute the DAG\n"
     ]
    },
    {
     "data": {
      "application/vnd.jupyter.widget-view+json": {
       "model_id": "74ca8dc1a196467889847eaaf10695a8",
       "version_major": 2,
       "version_minor": 0
      },
      "text/plain": [
       "run_leq_node:   0%|          | 0/6 [00:00<?, ?it/s]"
      ]
     },
     "metadata": {},
     "output_type": "display_data"
    },
    {
     "name": "stdout",
     "output_type": "stream",
     "text": [
      "                     vwap  twap  last bar_start_timestamp    minute  twap_ret_0  vwap_ret_0\n",
      "2010-01-05 03:30:00   NaN   NaN   NaN 2010-01-05 03:25:00  21044370         NaN         NaN\n",
      "2010-01-05 03:35:00   NaN   NaN   NaN 2010-01-05 03:30:00  21044375         NaN         NaN\n",
      "2010-01-05 03:40:00   NaN   NaN   NaN 2010-01-05 03:35:00  21044380         NaN         NaN\n",
      "now= 2010-01-05 03:41:00\n",
      "now= 2010-01-05 03:42:00\n",
      "now= 2010-01-05 03:43:00\n",
      "now= 2010-01-05 03:44:00\n",
      "now= 2010-01-05 03:45:00\n",
      "Time to execute the DAG\n"
     ]
    },
    {
     "data": {
      "application/vnd.jupyter.widget-view+json": {
       "model_id": "f42bfdcea4624e7ba27867ce1e5ce78a",
       "version_major": 2,
       "version_minor": 0
      },
      "text/plain": [
       "run_leq_node:   0%|          | 0/6 [00:00<?, ?it/s]"
      ]
     },
     "metadata": {},
     "output_type": "display_data"
    },
    {
     "name": "stdout",
     "output_type": "stream",
     "text": [
      "                     vwap  twap  last bar_start_timestamp    minute  twap_ret_0  vwap_ret_0\n",
      "2010-01-05 03:35:00   NaN   NaN   NaN 2010-01-05 03:30:00  21044375         NaN         NaN\n",
      "2010-01-05 03:40:00   NaN   NaN   NaN 2010-01-05 03:35:00  21044380         NaN         NaN\n",
      "2010-01-05 03:45:00   NaN   NaN   NaN 2010-01-05 03:40:00  21044385         NaN         NaN\n",
      "now= 2010-01-05 03:46:00\n",
      "now= 2010-01-05 03:47:00\n",
      "now= 2010-01-05 03:48:00\n",
      "now= 2010-01-05 03:49:00\n",
      "now= 2010-01-05 03:50:00\n",
      "Time to execute the DAG\n"
     ]
    },
    {
     "data": {
      "application/vnd.jupyter.widget-view+json": {
       "model_id": "3daa2baa74824e1dae5c205b6ec5998f",
       "version_major": 2,
       "version_minor": 0
      },
      "text/plain": [
       "run_leq_node:   0%|          | 0/6 [00:00<?, ?it/s]"
      ]
     },
     "metadata": {},
     "output_type": "display_data"
    },
    {
     "name": "stdout",
     "output_type": "stream",
     "text": [
      "                     vwap  twap  last bar_start_timestamp    minute  twap_ret_0  vwap_ret_0\n",
      "2010-01-05 03:40:00   NaN   NaN   NaN 2010-01-05 03:35:00  21044380         NaN         NaN\n",
      "2010-01-05 03:45:00   NaN   NaN   NaN 2010-01-05 03:40:00  21044385         NaN         NaN\n",
      "2010-01-05 03:50:00   NaN   NaN   NaN 2010-01-05 03:45:00  21044390         NaN         NaN\n",
      "now= 2010-01-05 03:51:00\n",
      "now= 2010-01-05 03:52:00\n",
      "now= 2010-01-05 03:53:00\n",
      "now= 2010-01-05 03:54:00\n",
      "now= 2010-01-05 03:55:00\n",
      "Time to execute the DAG\n"
     ]
    },
    {
     "data": {
      "application/vnd.jupyter.widget-view+json": {
       "model_id": "27ec8dd61f1d443ba8e72839e3cff340",
       "version_major": 2,
       "version_minor": 0
      },
      "text/plain": [
       "run_leq_node:   0%|          | 0/6 [00:00<?, ?it/s]"
      ]
     },
     "metadata": {},
     "output_type": "display_data"
    },
    {
     "name": "stdout",
     "output_type": "stream",
     "text": [
      "                     vwap  twap  last bar_start_timestamp    minute  twap_ret_0  vwap_ret_0\n",
      "2010-01-05 03:45:00   NaN   NaN   NaN 2010-01-05 03:40:00  21044385         NaN         NaN\n",
      "2010-01-05 03:50:00   NaN   NaN   NaN 2010-01-05 03:45:00  21044390         NaN         NaN\n",
      "2010-01-05 03:55:00   NaN   NaN   NaN 2010-01-05 03:50:00  21044395         NaN         NaN\n",
      "now= 2010-01-05 03:56:00\n",
      "now= 2010-01-05 03:57:00\n",
      "now= 2010-01-05 03:58:00\n",
      "now= 2010-01-05 03:59:00\n",
      "now= 2010-01-05 04:00:00\n",
      "Time to execute the DAG\n"
     ]
    },
    {
     "data": {
      "application/vnd.jupyter.widget-view+json": {
       "model_id": "d3317e65a4024f9986cd1264e9c47040",
       "version_major": 2,
       "version_minor": 0
      },
      "text/plain": [
       "run_leq_node:   0%|          | 0/6 [00:00<?, ?it/s]"
      ]
     },
     "metadata": {},
     "output_type": "display_data"
    },
    {
     "name": "stdout",
     "output_type": "stream",
     "text": [
      "                     vwap  twap  last bar_start_timestamp    minute  twap_ret_0  vwap_ret_0\n",
      "2010-01-05 03:50:00   NaN   NaN   NaN 2010-01-05 03:45:00  21044390         NaN         NaN\n",
      "2010-01-05 03:55:00   NaN   NaN   NaN 2010-01-05 03:50:00  21044395         NaN         NaN\n",
      "2010-01-05 04:00:00   NaN   NaN   NaN 2010-01-05 03:55:00  21044400         NaN         NaN\n",
      "now= 2010-01-05 04:01:00\n",
      "now= 2010-01-05 04:02:00\n",
      "now= 2010-01-05 04:03:00\n",
      "now= 2010-01-05 04:04:00\n",
      "now= 2010-01-05 04:05:00\n",
      "Time to execute the DAG\n"
     ]
    },
    {
     "data": {
      "application/vnd.jupyter.widget-view+json": {
       "model_id": "5762485fb471477daf23952228dfdad7",
       "version_major": 2,
       "version_minor": 0
      },
      "text/plain": [
       "run_leq_node:   0%|          | 0/6 [00:00<?, ?it/s]"
      ]
     },
     "metadata": {},
     "output_type": "display_data"
    },
    {
     "name": "stdout",
     "output_type": "stream",
     "text": [
      "                     vwap  twap  last bar_start_timestamp    minute  twap_ret_0  vwap_ret_0\n",
      "2010-01-05 03:55:00   NaN   NaN   NaN 2010-01-05 03:50:00  21044395         NaN         NaN\n",
      "2010-01-05 04:00:00   NaN   NaN   NaN 2010-01-05 03:55:00  21044400         NaN         NaN\n",
      "2010-01-05 04:05:00   NaN   NaN   NaN 2010-01-05 04:00:00  21044405         NaN         NaN\n",
      "now= 2010-01-05 04:06:00\n",
      "now= 2010-01-05 04:07:00\n",
      "now= 2010-01-05 04:08:00\n",
      "now= 2010-01-05 04:09:00\n",
      "now= 2010-01-05 04:10:00\n",
      "Time to execute the DAG\n"
     ]
    },
    {
     "data": {
      "application/vnd.jupyter.widget-view+json": {
       "model_id": "716112cce9e74f38800240d7149b6952",
       "version_major": 2,
       "version_minor": 0
      },
      "text/plain": [
       "run_leq_node:   0%|          | 0/6 [00:00<?, ?it/s]"
      ]
     },
     "metadata": {},
     "output_type": "display_data"
    },
    {
     "name": "stdout",
     "output_type": "stream",
     "text": [
      "                     vwap  twap  last bar_start_timestamp    minute  twap_ret_0  vwap_ret_0\n",
      "2010-01-05 04:00:00   NaN   NaN   NaN 2010-01-05 03:55:00  21044400         NaN         NaN\n",
      "2010-01-05 04:05:00   NaN   NaN   NaN 2010-01-05 04:00:00  21044405         NaN         NaN\n",
      "2010-01-05 04:10:00   NaN   NaN   NaN 2010-01-05 04:05:00  21044410         NaN         NaN\n",
      "now= 2010-01-05 04:11:00\n",
      "now= 2010-01-05 04:12:00\n",
      "now= 2010-01-05 04:13:00\n",
      "now= 2010-01-05 04:14:00\n",
      "now= 2010-01-05 04:15:00\n",
      "Time to execute the DAG\n"
     ]
    },
    {
     "data": {
      "application/vnd.jupyter.widget-view+json": {
       "model_id": "4e32335b3c9b433b91c3b318ff4de49e",
       "version_major": 2,
       "version_minor": 0
      },
      "text/plain": [
       "run_leq_node:   0%|          | 0/6 [00:00<?, ?it/s]"
      ]
     },
     "metadata": {},
     "output_type": "display_data"
    },
    {
     "name": "stdout",
     "output_type": "stream",
     "text": [
      "                     vwap  twap  last bar_start_timestamp    minute  twap_ret_0  vwap_ret_0\n",
      "2010-01-05 04:05:00   NaN   NaN   NaN 2010-01-05 04:00:00  21044405         NaN         NaN\n",
      "2010-01-05 04:10:00   NaN   NaN   NaN 2010-01-05 04:05:00  21044410         NaN         NaN\n",
      "2010-01-05 04:15:00   NaN   NaN   NaN 2010-01-05 04:10:00  21044415         NaN         NaN\n",
      "now= 2010-01-05 04:16:00\n",
      "now= 2010-01-05 04:17:00\n",
      "now= 2010-01-05 04:18:00\n",
      "now= 2010-01-05 04:19:00\n",
      "now= 2010-01-05 04:20:00\n",
      "Time to execute the DAG\n"
     ]
    },
    {
     "data": {
      "application/vnd.jupyter.widget-view+json": {
       "model_id": "91db3dfeaac64405936b5226c35e76ec",
       "version_major": 2,
       "version_minor": 0
      },
      "text/plain": [
       "run_leq_node:   0%|          | 0/6 [00:00<?, ?it/s]"
      ]
     },
     "metadata": {},
     "output_type": "display_data"
    },
    {
     "name": "stdout",
     "output_type": "stream",
     "text": [
      "                     vwap  twap  last bar_start_timestamp    minute  twap_ret_0  vwap_ret_0\n",
      "2010-01-05 04:10:00   NaN   NaN   NaN 2010-01-05 04:05:00  21044410         NaN         NaN\n",
      "2010-01-05 04:15:00   NaN   NaN   NaN 2010-01-05 04:10:00  21044415         NaN         NaN\n",
      "2010-01-05 04:20:00   NaN   NaN   NaN 2010-01-05 04:15:00  21044420         NaN         NaN\n",
      "now= 2010-01-05 04:21:00\n",
      "now= 2010-01-05 04:22:00\n",
      "now= 2010-01-05 04:23:00\n",
      "now= 2010-01-05 04:24:00\n",
      "now= 2010-01-05 04:25:00\n",
      "Time to execute the DAG\n"
     ]
    },
    {
     "data": {
      "application/vnd.jupyter.widget-view+json": {
       "model_id": "df5e49c2cf804652b61037d7e6fca998",
       "version_major": 2,
       "version_minor": 0
      },
      "text/plain": [
       "run_leq_node:   0%|          | 0/6 [00:00<?, ?it/s]"
      ]
     },
     "metadata": {},
     "output_type": "display_data"
    },
    {
     "name": "stdout",
     "output_type": "stream",
     "text": [
      "                     vwap  twap  last bar_start_timestamp    minute  twap_ret_0  vwap_ret_0\n",
      "2010-01-05 04:15:00   NaN   NaN   NaN 2010-01-05 04:10:00  21044415         NaN         NaN\n",
      "2010-01-05 04:20:00   NaN   NaN   NaN 2010-01-05 04:15:00  21044420         NaN         NaN\n",
      "2010-01-05 04:25:00   NaN   NaN   NaN 2010-01-05 04:20:00  21044425         NaN         NaN\n",
      "now= 2010-01-05 04:26:00\n",
      "now= 2010-01-05 04:27:00\n",
      "now= 2010-01-05 04:28:00\n",
      "now= 2010-01-05 04:29:00\n",
      "now= 2010-01-05 04:30:00\n",
      "Time to execute the DAG\n"
     ]
    },
    {
     "data": {
      "application/vnd.jupyter.widget-view+json": {
       "model_id": "d3932615db494fafad78fcde31d168c6",
       "version_major": 2,
       "version_minor": 0
      },
      "text/plain": [
       "run_leq_node:   0%|          | 0/6 [00:00<?, ?it/s]"
      ]
     },
     "metadata": {},
     "output_type": "display_data"
    },
    {
     "name": "stdout",
     "output_type": "stream",
     "text": [
      "                     vwap  twap  last bar_start_timestamp    minute  twap_ret_0  vwap_ret_0\n",
      "2010-01-05 04:20:00   NaN   NaN   NaN 2010-01-05 04:15:00  21044420         NaN         NaN\n",
      "2010-01-05 04:25:00   NaN   NaN   NaN 2010-01-05 04:20:00  21044425         NaN         NaN\n",
      "2010-01-05 04:30:00   NaN   NaN   NaN 2010-01-05 04:25:00  21044430         NaN         NaN\n",
      "now= 2010-01-05 04:31:00\n",
      "now= 2010-01-05 04:32:00\n",
      "now= 2010-01-05 04:33:00\n",
      "now= 2010-01-05 04:34:00\n",
      "now= 2010-01-05 04:35:00\n",
      "Time to execute the DAG\n"
     ]
    },
    {
     "data": {
      "application/vnd.jupyter.widget-view+json": {
       "model_id": "b4c26b21a2bc43d7b3dcb3a2d1d2555d",
       "version_major": 2,
       "version_minor": 0
      },
      "text/plain": [
       "run_leq_node:   0%|          | 0/6 [00:00<?, ?it/s]"
      ]
     },
     "metadata": {},
     "output_type": "display_data"
    },
    {
     "name": "stdout",
     "output_type": "stream",
     "text": [
      "                     vwap  twap  last bar_start_timestamp    minute  twap_ret_0  vwap_ret_0\n",
      "2010-01-05 04:25:00   NaN   NaN   NaN 2010-01-05 04:20:00  21044425         NaN         NaN\n",
      "2010-01-05 04:30:00   NaN   NaN   NaN 2010-01-05 04:25:00  21044430         NaN         NaN\n",
      "2010-01-05 04:35:00   NaN   NaN   NaN 2010-01-05 04:30:00  21044435         NaN         NaN\n",
      "now= 2010-01-05 04:36:00\n",
      "now= 2010-01-05 04:37:00\n",
      "now= 2010-01-05 04:38:00\n",
      "now= 2010-01-05 04:39:00\n",
      "now= 2010-01-05 04:40:00\n",
      "Time to execute the DAG\n"
     ]
    },
    {
     "data": {
      "application/vnd.jupyter.widget-view+json": {
       "model_id": "dd86b9c92e894e09ac1a21f122e15ca0",
       "version_major": 2,
       "version_minor": 0
      },
      "text/plain": [
       "run_leq_node:   0%|          | 0/6 [00:00<?, ?it/s]"
      ]
     },
     "metadata": {},
     "output_type": "display_data"
    },
    {
     "name": "stdout",
     "output_type": "stream",
     "text": [
      "                     vwap  twap  last bar_start_timestamp    minute  twap_ret_0  vwap_ret_0\n",
      "2010-01-05 04:30:00   NaN   NaN   NaN 2010-01-05 04:25:00  21044430         NaN         NaN\n",
      "2010-01-05 04:35:00   NaN   NaN   NaN 2010-01-05 04:30:00  21044435         NaN         NaN\n",
      "2010-01-05 04:40:00   NaN   NaN   NaN 2010-01-05 04:35:00  21044440         NaN         NaN\n",
      "now= 2010-01-05 04:41:00\n",
      "now= 2010-01-05 04:42:00\n",
      "now= 2010-01-05 04:43:00\n",
      "now= 2010-01-05 04:44:00\n",
      "now= 2010-01-05 04:45:00\n",
      "Time to execute the DAG\n"
     ]
    },
    {
     "data": {
      "application/vnd.jupyter.widget-view+json": {
       "model_id": "38ac22570df245e789c9945b4cf8c9d2",
       "version_major": 2,
       "version_minor": 0
      },
      "text/plain": [
       "run_leq_node:   0%|          | 0/6 [00:00<?, ?it/s]"
      ]
     },
     "metadata": {},
     "output_type": "display_data"
    },
    {
     "name": "stdout",
     "output_type": "stream",
     "text": [
      "                     vwap  twap  last bar_start_timestamp    minute  twap_ret_0  vwap_ret_0\n",
      "2010-01-05 04:35:00   NaN   NaN   NaN 2010-01-05 04:30:00  21044435         NaN         NaN\n",
      "2010-01-05 04:40:00   NaN   NaN   NaN 2010-01-05 04:35:00  21044440         NaN         NaN\n",
      "2010-01-05 04:45:00   NaN   NaN   NaN 2010-01-05 04:40:00  21044445         NaN         NaN\n",
      "now= 2010-01-05 04:46:00\n",
      "now= 2010-01-05 04:47:00\n",
      "now= 2010-01-05 04:48:00\n",
      "now= 2010-01-05 04:49:00\n",
      "now= 2010-01-05 04:50:00\n",
      "Time to execute the DAG\n"
     ]
    },
    {
     "data": {
      "application/vnd.jupyter.widget-view+json": {
       "model_id": "5dc89db57e6a4b12b98a359a0550e84f",
       "version_major": 2,
       "version_minor": 0
      },
      "text/plain": [
       "run_leq_node:   0%|          | 0/6 [00:00<?, ?it/s]"
      ]
     },
     "metadata": {},
     "output_type": "display_data"
    },
    {
     "name": "stdout",
     "output_type": "stream",
     "text": [
      "                     vwap  twap  last bar_start_timestamp    minute  twap_ret_0  vwap_ret_0\n",
      "2010-01-05 04:40:00   NaN   NaN   NaN 2010-01-05 04:35:00  21044440         NaN         NaN\n",
      "2010-01-05 04:45:00   NaN   NaN   NaN 2010-01-05 04:40:00  21044445         NaN         NaN\n",
      "2010-01-05 04:50:00   NaN   NaN   NaN 2010-01-05 04:45:00  21044450         NaN         NaN\n",
      "now= 2010-01-05 04:51:00\n",
      "now= 2010-01-05 04:52:00\n",
      "now= 2010-01-05 04:53:00\n",
      "now= 2010-01-05 04:54:00\n",
      "now= 2010-01-05 04:55:00\n",
      "Time to execute the DAG\n"
     ]
    },
    {
     "data": {
      "application/vnd.jupyter.widget-view+json": {
       "model_id": "2fb19e0ee1ee4b3f9e8b6ec92bade0df",
       "version_major": 2,
       "version_minor": 0
      },
      "text/plain": [
       "run_leq_node:   0%|          | 0/6 [00:00<?, ?it/s]"
      ]
     },
     "metadata": {},
     "output_type": "display_data"
    },
    {
     "name": "stdout",
     "output_type": "stream",
     "text": [
      "                     vwap  twap  last bar_start_timestamp    minute  twap_ret_0  vwap_ret_0\n",
      "2010-01-05 04:45:00   NaN   NaN   NaN 2010-01-05 04:40:00  21044445         NaN         NaN\n",
      "2010-01-05 04:50:00   NaN   NaN   NaN 2010-01-05 04:45:00  21044450         NaN         NaN\n",
      "2010-01-05 04:55:00   NaN   NaN   NaN 2010-01-05 04:50:00  21044455         NaN         NaN\n",
      "now= 2010-01-05 04:56:00\n",
      "now= 2010-01-05 04:57:00\n",
      "now= 2010-01-05 04:58:00\n",
      "now= 2010-01-05 04:59:00\n",
      "now= 2010-01-05 05:00:00\n",
      "Time to execute the DAG\n"
     ]
    },
    {
     "data": {
      "application/vnd.jupyter.widget-view+json": {
       "model_id": "891fa98990104c06823f5fa506500044",
       "version_major": 2,
       "version_minor": 0
      },
      "text/plain": [
       "run_leq_node:   0%|          | 0/6 [00:00<?, ?it/s]"
      ]
     },
     "metadata": {},
     "output_type": "display_data"
    },
    {
     "name": "stdout",
     "output_type": "stream",
     "text": [
      "                     vwap  twap  last bar_start_timestamp    minute  twap_ret_0  vwap_ret_0\n",
      "2010-01-05 04:50:00   NaN   NaN   NaN 2010-01-05 04:45:00  21044450         NaN         NaN\n",
      "2010-01-05 04:55:00   NaN   NaN   NaN 2010-01-05 04:50:00  21044455         NaN         NaN\n",
      "2010-01-05 05:00:00   NaN   NaN   NaN 2010-01-05 04:55:00  21044460         NaN         NaN\n",
      "now= 2010-01-05 05:01:00\n",
      "now= 2010-01-05 05:02:00\n",
      "now= 2010-01-05 05:03:00\n",
      "now= 2010-01-05 05:04:00\n",
      "now= 2010-01-05 05:05:00\n",
      "Time to execute the DAG\n"
     ]
    },
    {
     "data": {
      "application/vnd.jupyter.widget-view+json": {
       "model_id": "dd8c7f8568d346fd8dfd2ea997106df2",
       "version_major": 2,
       "version_minor": 0
      },
      "text/plain": [
       "run_leq_node:   0%|          | 0/6 [00:00<?, ?it/s]"
      ]
     },
     "metadata": {},
     "output_type": "display_data"
    },
    {
     "name": "stdout",
     "output_type": "stream",
     "text": [
      "                     vwap  twap  last bar_start_timestamp    minute  twap_ret_0  vwap_ret_0\n",
      "2010-01-05 04:55:00   NaN   NaN   NaN 2010-01-05 04:50:00  21044455         NaN         NaN\n",
      "2010-01-05 05:00:00   NaN   NaN   NaN 2010-01-05 04:55:00  21044460         NaN         NaN\n",
      "2010-01-05 05:05:00   NaN   NaN   NaN 2010-01-05 05:00:00  21044465         NaN         NaN\n",
      "now= 2010-01-05 05:06:00\n",
      "now= 2010-01-05 05:07:00\n",
      "now= 2010-01-05 05:08:00\n",
      "now= 2010-01-05 05:09:00\n",
      "now= 2010-01-05 05:10:00\n",
      "Time to execute the DAG\n"
     ]
    },
    {
     "data": {
      "application/vnd.jupyter.widget-view+json": {
       "model_id": "a3b4a5a0a6dd40a4987e5687eb28d537",
       "version_major": 2,
       "version_minor": 0
      },
      "text/plain": [
       "run_leq_node:   0%|          | 0/6 [00:00<?, ?it/s]"
      ]
     },
     "metadata": {},
     "output_type": "display_data"
    },
    {
     "name": "stdout",
     "output_type": "stream",
     "text": [
      "                     vwap  twap  last bar_start_timestamp    minute  twap_ret_0  vwap_ret_0\n",
      "2010-01-05 05:00:00   NaN   NaN   NaN 2010-01-05 04:55:00  21044460         NaN         NaN\n",
      "2010-01-05 05:05:00   NaN   NaN   NaN 2010-01-05 05:00:00  21044465         NaN         NaN\n",
      "2010-01-05 05:10:00   NaN   NaN   NaN 2010-01-05 05:05:00  21044470         NaN         NaN\n",
      "now= 2010-01-05 05:11:00\n",
      "now= 2010-01-05 05:12:00\n",
      "now= 2010-01-05 05:13:00\n",
      "now= 2010-01-05 05:14:00\n",
      "now= 2010-01-05 05:15:00\n",
      "Time to execute the DAG\n"
     ]
    },
    {
     "data": {
      "application/vnd.jupyter.widget-view+json": {
       "model_id": "005f7c8785304550af5b2007355fc34f",
       "version_major": 2,
       "version_minor": 0
      },
      "text/plain": [
       "run_leq_node:   0%|          | 0/6 [00:00<?, ?it/s]"
      ]
     },
     "metadata": {},
     "output_type": "display_data"
    },
    {
     "name": "stdout",
     "output_type": "stream",
     "text": [
      "                     vwap  twap  last bar_start_timestamp    minute  twap_ret_0  vwap_ret_0\n",
      "2010-01-05 05:05:00   NaN   NaN   NaN 2010-01-05 05:00:00  21044465         NaN         NaN\n",
      "2010-01-05 05:10:00   NaN   NaN   NaN 2010-01-05 05:05:00  21044470         NaN         NaN\n",
      "2010-01-05 05:15:00   NaN   NaN   NaN 2010-01-05 05:10:00  21044475         NaN         NaN\n",
      "now= 2010-01-05 05:16:00\n",
      "now= 2010-01-05 05:17:00\n",
      "now= 2010-01-05 05:18:00\n",
      "now= 2010-01-05 05:19:00\n",
      "now= 2010-01-05 05:20:00\n",
      "Time to execute the DAG\n"
     ]
    },
    {
     "data": {
      "application/vnd.jupyter.widget-view+json": {
       "model_id": "e6b4b62e29ee43dcab59b2e3afd9bea9",
       "version_major": 2,
       "version_minor": 0
      },
      "text/plain": [
       "run_leq_node:   0%|          | 0/6 [00:00<?, ?it/s]"
      ]
     },
     "metadata": {},
     "output_type": "display_data"
    },
    {
     "name": "stdout",
     "output_type": "stream",
     "text": [
      "                     vwap  twap  last bar_start_timestamp    minute  twap_ret_0  vwap_ret_0\n",
      "2010-01-05 05:10:00   NaN   NaN   NaN 2010-01-05 05:05:00  21044470         NaN         NaN\n",
      "2010-01-05 05:15:00   NaN   NaN   NaN 2010-01-05 05:10:00  21044475         NaN         NaN\n",
      "2010-01-05 05:20:00   NaN   NaN   NaN 2010-01-05 05:15:00  21044480         NaN         NaN\n",
      "now= 2010-01-05 05:21:00\n",
      "now= 2010-01-05 05:22:00\n",
      "now= 2010-01-05 05:23:00\n",
      "now= 2010-01-05 05:24:00\n",
      "now= 2010-01-05 05:25:00\n",
      "Time to execute the DAG\n"
     ]
    },
    {
     "data": {
      "application/vnd.jupyter.widget-view+json": {
       "model_id": "d037e6a491534c0e8540a7f0ce8f7cba",
       "version_major": 2,
       "version_minor": 0
      },
      "text/plain": [
       "run_leq_node:   0%|          | 0/6 [00:00<?, ?it/s]"
      ]
     },
     "metadata": {},
     "output_type": "display_data"
    },
    {
     "name": "stdout",
     "output_type": "stream",
     "text": [
      "                     vwap  twap  last bar_start_timestamp    minute  twap_ret_0  vwap_ret_0\n",
      "2010-01-05 05:15:00   NaN   NaN   NaN 2010-01-05 05:10:00  21044475         NaN         NaN\n",
      "2010-01-05 05:20:00   NaN   NaN   NaN 2010-01-05 05:15:00  21044480         NaN         NaN\n",
      "2010-01-05 05:25:00   NaN   NaN   NaN 2010-01-05 05:20:00  21044485         NaN         NaN\n",
      "now= 2010-01-05 05:26:00\n",
      "now= 2010-01-05 05:27:00\n",
      "now= 2010-01-05 05:28:00\n",
      "now= 2010-01-05 05:29:00\n",
      "now= 2010-01-05 05:30:00\n",
      "Time to execute the DAG\n"
     ]
    },
    {
     "data": {
      "application/vnd.jupyter.widget-view+json": {
       "model_id": "dc28dd7bfae44e3ea0541d47f9970afe",
       "version_major": 2,
       "version_minor": 0
      },
      "text/plain": [
       "run_leq_node:   0%|          | 0/6 [00:00<?, ?it/s]"
      ]
     },
     "metadata": {},
     "output_type": "display_data"
    },
    {
     "name": "stdout",
     "output_type": "stream",
     "text": [
      "                     vwap  twap  last bar_start_timestamp    minute  twap_ret_0  vwap_ret_0\n",
      "2010-01-05 05:20:00   NaN   NaN   NaN 2010-01-05 05:15:00  21044480         NaN         NaN\n",
      "2010-01-05 05:25:00   NaN   NaN   NaN 2010-01-05 05:20:00  21044485         NaN         NaN\n",
      "2010-01-05 05:30:00   NaN   NaN   NaN 2010-01-05 05:25:00  21044490         NaN         NaN\n",
      "now= 2010-01-05 05:31:00\n",
      "now= 2010-01-05 05:32:00\n",
      "now= 2010-01-05 05:33:00\n",
      "now= 2010-01-05 05:34:00\n",
      "now= 2010-01-05 05:35:00\n",
      "Time to execute the DAG\n"
     ]
    },
    {
     "data": {
      "application/vnd.jupyter.widget-view+json": {
       "model_id": "29000a22e3f7420f81bb07afe5267892",
       "version_major": 2,
       "version_minor": 0
      },
      "text/plain": [
       "run_leq_node:   0%|          | 0/6 [00:00<?, ?it/s]"
      ]
     },
     "metadata": {},
     "output_type": "display_data"
    },
    {
     "name": "stdout",
     "output_type": "stream",
     "text": [
      "                     vwap  twap  last bar_start_timestamp    minute  twap_ret_0  vwap_ret_0\n",
      "2010-01-05 05:25:00   NaN   NaN   NaN 2010-01-05 05:20:00  21044485         NaN         NaN\n",
      "2010-01-05 05:30:00   NaN   NaN   NaN 2010-01-05 05:25:00  21044490         NaN         NaN\n",
      "2010-01-05 05:35:00   NaN   NaN   NaN 2010-01-05 05:30:00  21044495         NaN         NaN\n",
      "now= 2010-01-05 05:36:00\n",
      "now= 2010-01-05 05:37:00\n",
      "now= 2010-01-05 05:38:00\n",
      "now= 2010-01-05 05:39:00\n",
      "now= 2010-01-05 05:40:00\n",
      "Time to execute the DAG\n"
     ]
    },
    {
     "data": {
      "application/vnd.jupyter.widget-view+json": {
       "model_id": "91191269e4b14484b2131e4b4ee7ca58",
       "version_major": 2,
       "version_minor": 0
      },
      "text/plain": [
       "run_leq_node:   0%|          | 0/6 [00:00<?, ?it/s]"
      ]
     },
     "metadata": {},
     "output_type": "display_data"
    },
    {
     "name": "stdout",
     "output_type": "stream",
     "text": [
      "                     vwap  twap  last bar_start_timestamp    minute  twap_ret_0  vwap_ret_0\n",
      "2010-01-05 05:30:00   NaN   NaN   NaN 2010-01-05 05:25:00  21044490         NaN         NaN\n",
      "2010-01-05 05:35:00   NaN   NaN   NaN 2010-01-05 05:30:00  21044495         NaN         NaN\n",
      "2010-01-05 05:40:00   NaN   NaN   NaN 2010-01-05 05:35:00  21044500         NaN         NaN\n",
      "now= 2010-01-05 05:41:00\n",
      "now= 2010-01-05 05:42:00\n",
      "now= 2010-01-05 05:43:00\n",
      "now= 2010-01-05 05:44:00\n",
      "now= 2010-01-05 05:45:00\n",
      "Time to execute the DAG\n"
     ]
    },
    {
     "data": {
      "application/vnd.jupyter.widget-view+json": {
       "model_id": "0729dcec27774998b8adc5a7643cba59",
       "version_major": 2,
       "version_minor": 0
      },
      "text/plain": [
       "run_leq_node:   0%|          | 0/6 [00:00<?, ?it/s]"
      ]
     },
     "metadata": {},
     "output_type": "display_data"
    },
    {
     "name": "stdout",
     "output_type": "stream",
     "text": [
      "                     vwap  twap  last bar_start_timestamp    minute  twap_ret_0  vwap_ret_0\n",
      "2010-01-05 05:35:00   NaN   NaN   NaN 2010-01-05 05:30:00  21044495         NaN         NaN\n",
      "2010-01-05 05:40:00   NaN   NaN   NaN 2010-01-05 05:35:00  21044500         NaN         NaN\n",
      "2010-01-05 05:45:00   NaN   NaN   NaN 2010-01-05 05:40:00  21044505         NaN         NaN\n",
      "now= 2010-01-05 05:46:00\n",
      "now= 2010-01-05 05:47:00\n",
      "now= 2010-01-05 05:48:00\n",
      "now= 2010-01-05 05:49:00\n",
      "now= 2010-01-05 05:50:00\n",
      "Time to execute the DAG\n"
     ]
    },
    {
     "data": {
      "application/vnd.jupyter.widget-view+json": {
       "model_id": "1289e0a62e4a47db96bfdf3be78289e3",
       "version_major": 2,
       "version_minor": 0
      },
      "text/plain": [
       "run_leq_node:   0%|          | 0/6 [00:00<?, ?it/s]"
      ]
     },
     "metadata": {},
     "output_type": "display_data"
    },
    {
     "name": "stdout",
     "output_type": "stream",
     "text": [
      "                     vwap  twap  last bar_start_timestamp    minute  twap_ret_0  vwap_ret_0\n",
      "2010-01-05 05:40:00   NaN   NaN   NaN 2010-01-05 05:35:00  21044500         NaN         NaN\n",
      "2010-01-05 05:45:00   NaN   NaN   NaN 2010-01-05 05:40:00  21044505         NaN         NaN\n",
      "2010-01-05 05:50:00   NaN   NaN   NaN 2010-01-05 05:45:00  21044510         NaN         NaN\n",
      "now= 2010-01-05 05:51:00\n",
      "now= 2010-01-05 05:52:00\n",
      "now= 2010-01-05 05:53:00\n",
      "now= 2010-01-05 05:54:00\n",
      "now= 2010-01-05 05:55:00\n",
      "Time to execute the DAG\n"
     ]
    },
    {
     "data": {
      "application/vnd.jupyter.widget-view+json": {
       "model_id": "1de812b4bf5a4484ad2127e331448ef5",
       "version_major": 2,
       "version_minor": 0
      },
      "text/plain": [
       "run_leq_node:   0%|          | 0/6 [00:00<?, ?it/s]"
      ]
     },
     "metadata": {},
     "output_type": "display_data"
    },
    {
     "name": "stdout",
     "output_type": "stream",
     "text": [
      "                     vwap  twap  last bar_start_timestamp    minute  twap_ret_0  vwap_ret_0\n",
      "2010-01-05 05:45:00   NaN   NaN   NaN 2010-01-05 05:40:00  21044505         NaN         NaN\n",
      "2010-01-05 05:50:00   NaN   NaN   NaN 2010-01-05 05:45:00  21044510         NaN         NaN\n",
      "2010-01-05 05:55:00   NaN   NaN   NaN 2010-01-05 05:50:00  21044515         NaN         NaN\n",
      "now= 2010-01-05 05:56:00\n",
      "now= 2010-01-05 05:57:00\n",
      "now= 2010-01-05 05:58:00\n",
      "now= 2010-01-05 05:59:00\n",
      "now= 2010-01-05 06:00:00\n",
      "Time to execute the DAG\n"
     ]
    },
    {
     "data": {
      "application/vnd.jupyter.widget-view+json": {
       "model_id": "657ceed3a50740a2aea3790ec6655916",
       "version_major": 2,
       "version_minor": 0
      },
      "text/plain": [
       "run_leq_node:   0%|          | 0/6 [00:00<?, ?it/s]"
      ]
     },
     "metadata": {},
     "output_type": "display_data"
    },
    {
     "name": "stdout",
     "output_type": "stream",
     "text": [
      "                     vwap  twap  last bar_start_timestamp    minute  twap_ret_0  vwap_ret_0\n",
      "2010-01-05 05:50:00   NaN   NaN   NaN 2010-01-05 05:45:00  21044510         NaN         NaN\n",
      "2010-01-05 05:55:00   NaN   NaN   NaN 2010-01-05 05:50:00  21044515         NaN         NaN\n",
      "2010-01-05 06:00:00   NaN   NaN   NaN 2010-01-05 05:55:00  21044520         NaN         NaN\n",
      "now= 2010-01-05 06:01:00\n",
      "now= 2010-01-05 06:02:00\n",
      "now= 2010-01-05 06:03:00\n",
      "now= 2010-01-05 06:04:00\n",
      "now= 2010-01-05 06:05:00\n",
      "Time to execute the DAG\n"
     ]
    },
    {
     "data": {
      "application/vnd.jupyter.widget-view+json": {
       "model_id": "e88a8e9e428344358fddfb535529af5f",
       "version_major": 2,
       "version_minor": 0
      },
      "text/plain": [
       "run_leq_node:   0%|          | 0/6 [00:00<?, ?it/s]"
      ]
     },
     "metadata": {},
     "output_type": "display_data"
    },
    {
     "name": "stdout",
     "output_type": "stream",
     "text": [
      "                     vwap  twap  last bar_start_timestamp    minute  twap_ret_0  vwap_ret_0\n",
      "2010-01-05 05:55:00   NaN   NaN   NaN 2010-01-05 05:50:00  21044515         NaN         NaN\n",
      "2010-01-05 06:00:00   NaN   NaN   NaN 2010-01-05 05:55:00  21044520         NaN         NaN\n",
      "2010-01-05 06:05:00   NaN   NaN   NaN 2010-01-05 06:00:00  21044525         NaN         NaN\n",
      "now= 2010-01-05 06:06:00\n",
      "now= 2010-01-05 06:07:00\n",
      "now= 2010-01-05 06:08:00\n",
      "now= 2010-01-05 06:09:00\n",
      "now= 2010-01-05 06:10:00\n",
      "Time to execute the DAG\n"
     ]
    },
    {
     "data": {
      "application/vnd.jupyter.widget-view+json": {
       "model_id": "6355edf4146444ecbf360616e94733ad",
       "version_major": 2,
       "version_minor": 0
      },
      "text/plain": [
       "run_leq_node:   0%|          | 0/6 [00:00<?, ?it/s]"
      ]
     },
     "metadata": {},
     "output_type": "display_data"
    },
    {
     "name": "stdout",
     "output_type": "stream",
     "text": [
      "                     vwap  twap  last bar_start_timestamp    minute  twap_ret_0  vwap_ret_0\n",
      "2010-01-05 06:00:00   NaN   NaN   NaN 2010-01-05 05:55:00  21044520         NaN         NaN\n",
      "2010-01-05 06:05:00   NaN   NaN   NaN 2010-01-05 06:00:00  21044525         NaN         NaN\n",
      "2010-01-05 06:10:00   NaN   NaN   NaN 2010-01-05 06:05:00  21044530         NaN         NaN\n",
      "now= 2010-01-05 06:11:00\n",
      "now= 2010-01-05 06:12:00\n",
      "now= 2010-01-05 06:13:00\n",
      "now= 2010-01-05 06:14:00\n",
      "now= 2010-01-05 06:15:00\n",
      "Time to execute the DAG\n"
     ]
    },
    {
     "data": {
      "application/vnd.jupyter.widget-view+json": {
       "model_id": "fe9944263cde44e3b20d4d488a5e0546",
       "version_major": 2,
       "version_minor": 0
      },
      "text/plain": [
       "run_leq_node:   0%|          | 0/6 [00:00<?, ?it/s]"
      ]
     },
     "metadata": {},
     "output_type": "display_data"
    },
    {
     "name": "stdout",
     "output_type": "stream",
     "text": [
      "                     vwap  twap  last bar_start_timestamp    minute  twap_ret_0  vwap_ret_0\n",
      "2010-01-05 06:05:00   NaN   NaN   NaN 2010-01-05 06:00:00  21044525         NaN         NaN\n",
      "2010-01-05 06:10:00   NaN   NaN   NaN 2010-01-05 06:05:00  21044530         NaN         NaN\n",
      "2010-01-05 06:15:00   NaN   NaN   NaN 2010-01-05 06:10:00  21044535         NaN         NaN\n",
      "now= 2010-01-05 06:16:00\n",
      "now= 2010-01-05 06:17:00\n",
      "now= 2010-01-05 06:18:00\n",
      "now= 2010-01-05 06:19:00\n",
      "now= 2010-01-05 06:20:00\n",
      "Time to execute the DAG\n"
     ]
    },
    {
     "data": {
      "application/vnd.jupyter.widget-view+json": {
       "model_id": "08b62506cded4d2daa7460f68bfed205",
       "version_major": 2,
       "version_minor": 0
      },
      "text/plain": [
       "run_leq_node:   0%|          | 0/6 [00:00<?, ?it/s]"
      ]
     },
     "metadata": {},
     "output_type": "display_data"
    },
    {
     "name": "stdout",
     "output_type": "stream",
     "text": [
      "                     vwap  twap  last bar_start_timestamp    minute  twap_ret_0  vwap_ret_0\n",
      "2010-01-05 06:10:00   NaN   NaN   NaN 2010-01-05 06:05:00  21044530         NaN         NaN\n",
      "2010-01-05 06:15:00   NaN   NaN   NaN 2010-01-05 06:10:00  21044535         NaN         NaN\n",
      "2010-01-05 06:20:00   NaN   NaN   NaN 2010-01-05 06:15:00  21044540         NaN         NaN\n",
      "now= 2010-01-05 06:21:00\n",
      "now= 2010-01-05 06:22:00\n",
      "now= 2010-01-05 06:23:00\n",
      "now= 2010-01-05 06:24:00\n",
      "now= 2010-01-05 06:25:00\n",
      "Time to execute the DAG\n"
     ]
    },
    {
     "data": {
      "application/vnd.jupyter.widget-view+json": {
       "model_id": "aa670a8ec60a4b2daa65b3d0378d568f",
       "version_major": 2,
       "version_minor": 0
      },
      "text/plain": [
       "run_leq_node:   0%|          | 0/6 [00:00<?, ?it/s]"
      ]
     },
     "metadata": {},
     "output_type": "display_data"
    },
    {
     "name": "stdout",
     "output_type": "stream",
     "text": [
      "                     vwap  twap  last bar_start_timestamp    minute  twap_ret_0  vwap_ret_0\n",
      "2010-01-05 06:15:00   NaN   NaN   NaN 2010-01-05 06:10:00  21044535         NaN         NaN\n",
      "2010-01-05 06:20:00   NaN   NaN   NaN 2010-01-05 06:15:00  21044540         NaN         NaN\n",
      "2010-01-05 06:25:00   NaN   NaN   NaN 2010-01-05 06:20:00  21044545         NaN         NaN\n",
      "now= 2010-01-05 06:26:00\n",
      "now= 2010-01-05 06:27:00\n",
      "now= 2010-01-05 06:28:00\n",
      "now= 2010-01-05 06:29:00\n",
      "now= 2010-01-05 06:30:00\n",
      "Time to execute the DAG\n"
     ]
    },
    {
     "data": {
      "application/vnd.jupyter.widget-view+json": {
       "model_id": "388ec396889f421fb5c062b5620ab03e",
       "version_major": 2,
       "version_minor": 0
      },
      "text/plain": [
       "run_leq_node:   0%|          | 0/6 [00:00<?, ?it/s]"
      ]
     },
     "metadata": {},
     "output_type": "display_data"
    },
    {
     "name": "stdout",
     "output_type": "stream",
     "text": [
      "                     vwap  twap  last bar_start_timestamp    minute  twap_ret_0  vwap_ret_0\n",
      "2010-01-05 06:20:00   NaN   NaN   NaN 2010-01-05 06:15:00  21044540         NaN         NaN\n",
      "2010-01-05 06:25:00   NaN   NaN   NaN 2010-01-05 06:20:00  21044545         NaN         NaN\n",
      "2010-01-05 06:30:00   NaN   NaN   NaN 2010-01-05 06:25:00  21044550         NaN         NaN\n",
      "now= 2010-01-05 06:31:00\n",
      "now= 2010-01-05 06:32:00\n",
      "now= 2010-01-05 06:33:00\n",
      "now= 2010-01-05 06:34:00\n",
      "now= 2010-01-05 06:35:00\n",
      "Time to execute the DAG\n"
     ]
    },
    {
     "data": {
      "application/vnd.jupyter.widget-view+json": {
       "model_id": "6360d22287b040dc936e3f1fcc49aa84",
       "version_major": 2,
       "version_minor": 0
      },
      "text/plain": [
       "run_leq_node:   0%|          | 0/6 [00:00<?, ?it/s]"
      ]
     },
     "metadata": {},
     "output_type": "display_data"
    },
    {
     "name": "stdout",
     "output_type": "stream",
     "text": [
      "                     vwap  twap  last bar_start_timestamp    minute  twap_ret_0  vwap_ret_0\n",
      "2010-01-05 06:25:00   NaN   NaN   NaN 2010-01-05 06:20:00  21044545         NaN         NaN\n",
      "2010-01-05 06:30:00   NaN   NaN   NaN 2010-01-05 06:25:00  21044550         NaN         NaN\n",
      "2010-01-05 06:35:00   NaN   NaN   NaN 2010-01-05 06:30:00  21044555         NaN         NaN\n",
      "now= 2010-01-05 06:36:00\n",
      "now= 2010-01-05 06:37:00\n",
      "now= 2010-01-05 06:38:00\n",
      "now= 2010-01-05 06:39:00\n",
      "now= 2010-01-05 06:40:00\n",
      "Time to execute the DAG\n"
     ]
    },
    {
     "data": {
      "application/vnd.jupyter.widget-view+json": {
       "model_id": "574faf736fa0486f9605514e360638ff",
       "version_major": 2,
       "version_minor": 0
      },
      "text/plain": [
       "run_leq_node:   0%|          | 0/6 [00:00<?, ?it/s]"
      ]
     },
     "metadata": {},
     "output_type": "display_data"
    },
    {
     "name": "stdout",
     "output_type": "stream",
     "text": [
      "                     vwap  twap  last bar_start_timestamp    minute  twap_ret_0  vwap_ret_0\n",
      "2010-01-05 06:30:00   NaN   NaN   NaN 2010-01-05 06:25:00  21044550         NaN         NaN\n",
      "2010-01-05 06:35:00   NaN   NaN   NaN 2010-01-05 06:30:00  21044555         NaN         NaN\n",
      "2010-01-05 06:40:00   NaN   NaN   NaN 2010-01-05 06:35:00  21044560         NaN         NaN\n",
      "now= 2010-01-05 06:41:00\n",
      "now= 2010-01-05 06:42:00\n",
      "now= 2010-01-05 06:43:00\n",
      "now= 2010-01-05 06:44:00\n",
      "now= 2010-01-05 06:45:00\n",
      "Time to execute the DAG\n"
     ]
    },
    {
     "data": {
      "application/vnd.jupyter.widget-view+json": {
       "model_id": "bb579510fea74dd994d714ac9dfcc724",
       "version_major": 2,
       "version_minor": 0
      },
      "text/plain": [
       "run_leq_node:   0%|          | 0/6 [00:00<?, ?it/s]"
      ]
     },
     "metadata": {},
     "output_type": "display_data"
    },
    {
     "name": "stdout",
     "output_type": "stream",
     "text": [
      "                     vwap  twap  last bar_start_timestamp    minute  twap_ret_0  vwap_ret_0\n",
      "2010-01-05 06:35:00   NaN   NaN   NaN 2010-01-05 06:30:00  21044555         NaN         NaN\n",
      "2010-01-05 06:40:00   NaN   NaN   NaN 2010-01-05 06:35:00  21044560         NaN         NaN\n",
      "2010-01-05 06:45:00   NaN   NaN   NaN 2010-01-05 06:40:00  21044565         NaN         NaN\n",
      "now= 2010-01-05 06:46:00\n",
      "now= 2010-01-05 06:47:00\n",
      "now= 2010-01-05 06:48:00\n",
      "now= 2010-01-05 06:49:00\n",
      "now= 2010-01-05 06:50:00\n",
      "Time to execute the DAG\n"
     ]
    },
    {
     "data": {
      "application/vnd.jupyter.widget-view+json": {
       "model_id": "257423eb632e469998fd183a9732272b",
       "version_major": 2,
       "version_minor": 0
      },
      "text/plain": [
       "run_leq_node:   0%|          | 0/6 [00:00<?, ?it/s]"
      ]
     },
     "metadata": {},
     "output_type": "display_data"
    },
    {
     "name": "stdout",
     "output_type": "stream",
     "text": [
      "                     vwap  twap  last bar_start_timestamp    minute  twap_ret_0  vwap_ret_0\n",
      "2010-01-05 06:40:00   NaN   NaN   NaN 2010-01-05 06:35:00  21044560         NaN         NaN\n",
      "2010-01-05 06:45:00   NaN   NaN   NaN 2010-01-05 06:40:00  21044565         NaN         NaN\n",
      "2010-01-05 06:50:00   NaN   NaN   NaN 2010-01-05 06:45:00  21044570         NaN         NaN\n",
      "now= 2010-01-05 06:51:00\n",
      "now= 2010-01-05 06:52:00\n",
      "now= 2010-01-05 06:53:00\n",
      "now= 2010-01-05 06:54:00\n",
      "now= 2010-01-05 06:55:00\n",
      "Time to execute the DAG\n"
     ]
    },
    {
     "data": {
      "application/vnd.jupyter.widget-view+json": {
       "model_id": "af858065a0d44c889cbcd7834c66007d",
       "version_major": 2,
       "version_minor": 0
      },
      "text/plain": [
       "run_leq_node:   0%|          | 0/6 [00:00<?, ?it/s]"
      ]
     },
     "metadata": {},
     "output_type": "display_data"
    },
    {
     "name": "stdout",
     "output_type": "stream",
     "text": [
      "                     vwap  twap  last bar_start_timestamp    minute  twap_ret_0  vwap_ret_0\n",
      "2010-01-05 06:45:00   NaN   NaN   NaN 2010-01-05 06:40:00  21044565         NaN         NaN\n",
      "2010-01-05 06:50:00   NaN   NaN   NaN 2010-01-05 06:45:00  21044570         NaN         NaN\n",
      "2010-01-05 06:55:00   NaN   NaN   NaN 2010-01-05 06:50:00  21044575         NaN         NaN\n",
      "now= 2010-01-05 06:56:00\n",
      "now= 2010-01-05 06:57:00\n",
      "now= 2010-01-05 06:58:00\n",
      "now= 2010-01-05 06:59:00\n",
      "now= 2010-01-05 07:00:00\n",
      "Time to execute the DAG\n"
     ]
    },
    {
     "data": {
      "application/vnd.jupyter.widget-view+json": {
       "model_id": "bbbdf762d6af4038a836cc7d402ae7a5",
       "version_major": 2,
       "version_minor": 0
      },
      "text/plain": [
       "run_leq_node:   0%|          | 0/6 [00:00<?, ?it/s]"
      ]
     },
     "metadata": {},
     "output_type": "display_data"
    },
    {
     "name": "stdout",
     "output_type": "stream",
     "text": [
      "                     vwap  twap  last bar_start_timestamp    minute  twap_ret_0  vwap_ret_0\n",
      "2010-01-05 06:50:00   NaN   NaN   NaN 2010-01-05 06:45:00  21044570         NaN         NaN\n",
      "2010-01-05 06:55:00   NaN   NaN   NaN 2010-01-05 06:50:00  21044575         NaN         NaN\n",
      "2010-01-05 07:00:00   NaN   NaN   NaN 2010-01-05 06:55:00  21044580         NaN         NaN\n",
      "now= 2010-01-05 07:01:00\n",
      "now= 2010-01-05 07:02:00\n",
      "now= 2010-01-05 07:03:00\n",
      "now= 2010-01-05 07:04:00\n",
      "now= 2010-01-05 07:05:00\n",
      "Time to execute the DAG\n"
     ]
    },
    {
     "data": {
      "application/vnd.jupyter.widget-view+json": {
       "model_id": "1b0bc1d7459140e3a3980bd68253644d",
       "version_major": 2,
       "version_minor": 0
      },
      "text/plain": [
       "run_leq_node:   0%|          | 0/6 [00:00<?, ?it/s]"
      ]
     },
     "metadata": {},
     "output_type": "display_data"
    },
    {
     "name": "stdout",
     "output_type": "stream",
     "text": [
      "                     vwap  twap  last bar_start_timestamp    minute  twap_ret_0  vwap_ret_0\n",
      "2010-01-05 06:55:00   NaN   NaN   NaN 2010-01-05 06:50:00  21044575         NaN         NaN\n",
      "2010-01-05 07:00:00   NaN   NaN   NaN 2010-01-05 06:55:00  21044580         NaN         NaN\n",
      "2010-01-05 07:05:00   NaN   NaN   NaN 2010-01-05 07:00:00  21044585         NaN         NaN\n",
      "now= 2010-01-05 07:06:00\n",
      "now= 2010-01-05 07:07:00\n",
      "now= 2010-01-05 07:08:00\n",
      "now= 2010-01-05 07:09:00\n",
      "now= 2010-01-05 07:10:00\n",
      "Time to execute the DAG\n"
     ]
    },
    {
     "data": {
      "application/vnd.jupyter.widget-view+json": {
       "model_id": "64c5190aae654554866d29bcec9c9f31",
       "version_major": 2,
       "version_minor": 0
      },
      "text/plain": [
       "run_leq_node:   0%|          | 0/6 [00:00<?, ?it/s]"
      ]
     },
     "metadata": {},
     "output_type": "display_data"
    },
    {
     "name": "stdout",
     "output_type": "stream",
     "text": [
      "                     vwap  twap  last bar_start_timestamp    minute  twap_ret_0  vwap_ret_0\n",
      "2010-01-05 07:00:00   NaN   NaN   NaN 2010-01-05 06:55:00  21044580         NaN         NaN\n",
      "2010-01-05 07:05:00   NaN   NaN   NaN 2010-01-05 07:00:00  21044585         NaN         NaN\n",
      "2010-01-05 07:10:00   NaN   NaN   NaN 2010-01-05 07:05:00  21044590         NaN         NaN\n",
      "now= 2010-01-05 07:11:00\n",
      "now= 2010-01-05 07:12:00\n",
      "now= 2010-01-05 07:13:00\n",
      "now= 2010-01-05 07:14:00\n",
      "now= 2010-01-05 07:15:00\n",
      "Time to execute the DAG\n"
     ]
    },
    {
     "data": {
      "application/vnd.jupyter.widget-view+json": {
       "model_id": "7e1a037ecfe041d5bf8bf08b5d0bf45e",
       "version_major": 2,
       "version_minor": 0
      },
      "text/plain": [
       "run_leq_node:   0%|          | 0/6 [00:00<?, ?it/s]"
      ]
     },
     "metadata": {},
     "output_type": "display_data"
    },
    {
     "name": "stdout",
     "output_type": "stream",
     "text": [
      "                     vwap  twap  last bar_start_timestamp    minute  twap_ret_0  vwap_ret_0\n",
      "2010-01-05 07:05:00   NaN   NaN   NaN 2010-01-05 07:00:00  21044585         NaN         NaN\n",
      "2010-01-05 07:10:00   NaN   NaN   NaN 2010-01-05 07:05:00  21044590         NaN         NaN\n",
      "2010-01-05 07:15:00   NaN   NaN   NaN 2010-01-05 07:10:00  21044595         NaN         NaN\n",
      "now= 2010-01-05 07:16:00\n",
      "now= 2010-01-05 07:17:00\n",
      "now= 2010-01-05 07:18:00\n",
      "now= 2010-01-05 07:19:00\n",
      "now= 2010-01-05 07:20:00\n",
      "Time to execute the DAG\n"
     ]
    },
    {
     "data": {
      "application/vnd.jupyter.widget-view+json": {
       "model_id": "c8f0a2ae0394426dac75638cda1374ff",
       "version_major": 2,
       "version_minor": 0
      },
      "text/plain": [
       "run_leq_node:   0%|          | 0/6 [00:00<?, ?it/s]"
      ]
     },
     "metadata": {},
     "output_type": "display_data"
    },
    {
     "name": "stdout",
     "output_type": "stream",
     "text": [
      "                     vwap  twap  last bar_start_timestamp    minute  twap_ret_0  vwap_ret_0\n",
      "2010-01-05 07:10:00   NaN   NaN   NaN 2010-01-05 07:05:00  21044590         NaN         NaN\n",
      "2010-01-05 07:15:00   NaN   NaN   NaN 2010-01-05 07:10:00  21044595         NaN         NaN\n",
      "2010-01-05 07:20:00   NaN   NaN   NaN 2010-01-05 07:15:00  21044600         NaN         NaN\n",
      "now= 2010-01-05 07:21:00\n",
      "now= 2010-01-05 07:22:00\n",
      "now= 2010-01-05 07:23:00\n",
      "now= 2010-01-05 07:24:00\n",
      "now= 2010-01-05 07:25:00\n",
      "Time to execute the DAG\n"
     ]
    },
    {
     "data": {
      "application/vnd.jupyter.widget-view+json": {
       "model_id": "763e99b090bb4e4196bed5bedf219836",
       "version_major": 2,
       "version_minor": 0
      },
      "text/plain": [
       "run_leq_node:   0%|          | 0/6 [00:00<?, ?it/s]"
      ]
     },
     "metadata": {},
     "output_type": "display_data"
    },
    {
     "name": "stdout",
     "output_type": "stream",
     "text": [
      "                     vwap  twap  last bar_start_timestamp    minute  twap_ret_0  vwap_ret_0\n",
      "2010-01-05 07:15:00   NaN   NaN   NaN 2010-01-05 07:10:00  21044595         NaN         NaN\n",
      "2010-01-05 07:20:00   NaN   NaN   NaN 2010-01-05 07:15:00  21044600         NaN         NaN\n",
      "2010-01-05 07:25:00   NaN   NaN   NaN 2010-01-05 07:20:00  21044605         NaN         NaN\n",
      "now= 2010-01-05 07:26:00\n",
      "now= 2010-01-05 07:27:00\n",
      "now= 2010-01-05 07:28:00\n",
      "now= 2010-01-05 07:29:00\n",
      "now= 2010-01-05 07:30:00\n",
      "Time to execute the DAG\n"
     ]
    },
    {
     "data": {
      "application/vnd.jupyter.widget-view+json": {
       "model_id": "56c98c7090104337a2dde40be86b8067",
       "version_major": 2,
       "version_minor": 0
      },
      "text/plain": [
       "run_leq_node:   0%|          | 0/6 [00:00<?, ?it/s]"
      ]
     },
     "metadata": {},
     "output_type": "display_data"
    },
    {
     "name": "stdout",
     "output_type": "stream",
     "text": [
      "                     vwap  twap  last bar_start_timestamp    minute  twap_ret_0  vwap_ret_0\n",
      "2010-01-05 07:20:00   NaN   NaN   NaN 2010-01-05 07:15:00  21044600         NaN         NaN\n",
      "2010-01-05 07:25:00   NaN   NaN   NaN 2010-01-05 07:20:00  21044605         NaN         NaN\n",
      "2010-01-05 07:30:00   NaN   NaN   NaN 2010-01-05 07:25:00  21044610         NaN         NaN\n",
      "now= 2010-01-05 07:31:00\n",
      "now= 2010-01-05 07:32:00\n",
      "now= 2010-01-05 07:33:00\n",
      "now= 2010-01-05 07:34:00\n",
      "now= 2010-01-05 07:35:00\n",
      "Time to execute the DAG\n"
     ]
    },
    {
     "data": {
      "application/vnd.jupyter.widget-view+json": {
       "model_id": "cb7ad2c3e8984244a6db99bed3732fff",
       "version_major": 2,
       "version_minor": 0
      },
      "text/plain": [
       "run_leq_node:   0%|          | 0/6 [00:00<?, ?it/s]"
      ]
     },
     "metadata": {},
     "output_type": "display_data"
    },
    {
     "name": "stdout",
     "output_type": "stream",
     "text": [
      "                     vwap  twap  last bar_start_timestamp    minute  twap_ret_0  vwap_ret_0\n",
      "2010-01-05 07:25:00   NaN   NaN   NaN 2010-01-05 07:20:00  21044605         NaN         NaN\n",
      "2010-01-05 07:30:00   NaN   NaN   NaN 2010-01-05 07:25:00  21044610         NaN         NaN\n",
      "2010-01-05 07:35:00   NaN   NaN   NaN 2010-01-05 07:30:00  21044615         NaN         NaN\n",
      "now= 2010-01-05 07:36:00\n",
      "now= 2010-01-05 07:37:00\n",
      "now= 2010-01-05 07:38:00\n",
      "now= 2010-01-05 07:39:00\n",
      "now= 2010-01-05 07:40:00\n",
      "Time to execute the DAG\n"
     ]
    },
    {
     "data": {
      "application/vnd.jupyter.widget-view+json": {
       "model_id": "94c1228638844ab990d8c441111a054c",
       "version_major": 2,
       "version_minor": 0
      },
      "text/plain": [
       "run_leq_node:   0%|          | 0/6 [00:00<?, ?it/s]"
      ]
     },
     "metadata": {},
     "output_type": "display_data"
    },
    {
     "name": "stdout",
     "output_type": "stream",
     "text": [
      "                     vwap  twap  last bar_start_timestamp    minute  twap_ret_0  vwap_ret_0\n",
      "2010-01-05 07:30:00   NaN   NaN   NaN 2010-01-05 07:25:00  21044610         NaN         NaN\n",
      "2010-01-05 07:35:00   NaN   NaN   NaN 2010-01-05 07:30:00  21044615         NaN         NaN\n",
      "2010-01-05 07:40:00   NaN   NaN   NaN 2010-01-05 07:35:00  21044620         NaN         NaN\n",
      "now= 2010-01-05 07:41:00\n",
      "now= 2010-01-05 07:42:00\n",
      "now= 2010-01-05 07:43:00\n",
      "now= 2010-01-05 07:44:00\n",
      "now= 2010-01-05 07:45:00\n",
      "Time to execute the DAG\n"
     ]
    },
    {
     "data": {
      "application/vnd.jupyter.widget-view+json": {
       "model_id": "7b067afc055b400cab6f7844992c8dc8",
       "version_major": 2,
       "version_minor": 0
      },
      "text/plain": [
       "run_leq_node:   0%|          | 0/6 [00:00<?, ?it/s]"
      ]
     },
     "metadata": {},
     "output_type": "display_data"
    },
    {
     "name": "stdout",
     "output_type": "stream",
     "text": [
      "                     vwap  twap  last bar_start_timestamp    minute  twap_ret_0  vwap_ret_0\n",
      "2010-01-05 07:35:00   NaN   NaN   NaN 2010-01-05 07:30:00  21044615         NaN         NaN\n",
      "2010-01-05 07:40:00   NaN   NaN   NaN 2010-01-05 07:35:00  21044620         NaN         NaN\n",
      "2010-01-05 07:45:00   NaN   NaN   NaN 2010-01-05 07:40:00  21044625         NaN         NaN\n",
      "now= 2010-01-05 07:46:00\n",
      "now= 2010-01-05 07:47:00\n",
      "now= 2010-01-05 07:48:00\n",
      "now= 2010-01-05 07:49:00\n",
      "now= 2010-01-05 07:50:00\n",
      "Time to execute the DAG\n"
     ]
    },
    {
     "data": {
      "application/vnd.jupyter.widget-view+json": {
       "model_id": "c54c7e0d019a495492f4fe8245c8e879",
       "version_major": 2,
       "version_minor": 0
      },
      "text/plain": [
       "run_leq_node:   0%|          | 0/6 [00:00<?, ?it/s]"
      ]
     },
     "metadata": {},
     "output_type": "display_data"
    },
    {
     "name": "stdout",
     "output_type": "stream",
     "text": [
      "                     vwap  twap  last bar_start_timestamp    minute  twap_ret_0  vwap_ret_0\n",
      "2010-01-05 07:40:00   NaN   NaN   NaN 2010-01-05 07:35:00  21044620         NaN         NaN\n",
      "2010-01-05 07:45:00   NaN   NaN   NaN 2010-01-05 07:40:00  21044625         NaN         NaN\n",
      "2010-01-05 07:50:00   NaN   NaN   NaN 2010-01-05 07:45:00  21044630         NaN         NaN\n",
      "now= 2010-01-05 07:51:00\n",
      "now= 2010-01-05 07:52:00\n",
      "now= 2010-01-05 07:53:00\n",
      "now= 2010-01-05 07:54:00\n",
      "now= 2010-01-05 07:55:00\n",
      "Time to execute the DAG\n"
     ]
    },
    {
     "data": {
      "application/vnd.jupyter.widget-view+json": {
       "model_id": "44192a71f95347be923f289c53d63964",
       "version_major": 2,
       "version_minor": 0
      },
      "text/plain": [
       "run_leq_node:   0%|          | 0/6 [00:00<?, ?it/s]"
      ]
     },
     "metadata": {},
     "output_type": "display_data"
    },
    {
     "name": "stdout",
     "output_type": "stream",
     "text": [
      "                     vwap  twap  last bar_start_timestamp    minute  twap_ret_0  vwap_ret_0\n",
      "2010-01-05 07:45:00   NaN   NaN   NaN 2010-01-05 07:40:00  21044625         NaN         NaN\n",
      "2010-01-05 07:50:00   NaN   NaN   NaN 2010-01-05 07:45:00  21044630         NaN         NaN\n",
      "2010-01-05 07:55:00   NaN   NaN   NaN 2010-01-05 07:50:00  21044635         NaN         NaN\n",
      "now= 2010-01-05 07:56:00\n",
      "now= 2010-01-05 07:57:00\n",
      "now= 2010-01-05 07:58:00\n",
      "now= 2010-01-05 07:59:00\n",
      "now= 2010-01-05 08:00:00\n",
      "Time to execute the DAG\n"
     ]
    },
    {
     "data": {
      "application/vnd.jupyter.widget-view+json": {
       "model_id": "2693f9b0ddb1483ca556eea9e63e71d8",
       "version_major": 2,
       "version_minor": 0
      },
      "text/plain": [
       "run_leq_node:   0%|          | 0/6 [00:00<?, ?it/s]"
      ]
     },
     "metadata": {},
     "output_type": "display_data"
    },
    {
     "name": "stdout",
     "output_type": "stream",
     "text": [
      "                     vwap  twap  last bar_start_timestamp    minute  twap_ret_0  vwap_ret_0\n",
      "2010-01-05 07:50:00   NaN   NaN   NaN 2010-01-05 07:45:00  21044630         NaN         NaN\n",
      "2010-01-05 07:55:00   NaN   NaN   NaN 2010-01-05 07:50:00  21044635         NaN         NaN\n",
      "2010-01-05 08:00:00   NaN   NaN   NaN 2010-01-05 07:55:00  21044640         NaN         NaN\n",
      "now= 2010-01-05 08:01:00\n",
      "now= 2010-01-05 08:02:00\n",
      "now= 2010-01-05 08:03:00\n",
      "now= 2010-01-05 08:04:00\n",
      "now= 2010-01-05 08:05:00\n",
      "Time to execute the DAG\n"
     ]
    },
    {
     "data": {
      "application/vnd.jupyter.widget-view+json": {
       "model_id": "0e1154d9ee4a444db2d05a704a35725a",
       "version_major": 2,
       "version_minor": 0
      },
      "text/plain": [
       "run_leq_node:   0%|          | 0/6 [00:00<?, ?it/s]"
      ]
     },
     "metadata": {},
     "output_type": "display_data"
    },
    {
     "name": "stdout",
     "output_type": "stream",
     "text": [
      "                     vwap  twap  last bar_start_timestamp    minute  twap_ret_0  vwap_ret_0\n",
      "2010-01-05 07:55:00   NaN   NaN   NaN 2010-01-05 07:50:00  21044635         NaN         NaN\n",
      "2010-01-05 08:00:00   NaN   NaN   NaN 2010-01-05 07:55:00  21044640         NaN         NaN\n",
      "2010-01-05 08:05:00   NaN   NaN   NaN 2010-01-05 08:00:00  21044645         NaN         NaN\n",
      "now= 2010-01-05 08:06:00\n",
      "now= 2010-01-05 08:07:00\n",
      "now= 2010-01-05 08:08:00\n",
      "now= 2010-01-05 08:09:00\n",
      "now= 2010-01-05 08:10:00\n",
      "Time to execute the DAG\n"
     ]
    },
    {
     "data": {
      "application/vnd.jupyter.widget-view+json": {
       "model_id": "a8acec32b2724140affacb5b1d85d37e",
       "version_major": 2,
       "version_minor": 0
      },
      "text/plain": [
       "run_leq_node:   0%|          | 0/6 [00:00<?, ?it/s]"
      ]
     },
     "metadata": {},
     "output_type": "display_data"
    },
    {
     "name": "stdout",
     "output_type": "stream",
     "text": [
      "                     vwap  twap  last bar_start_timestamp    minute  twap_ret_0  vwap_ret_0\n",
      "2010-01-05 08:00:00   NaN   NaN   NaN 2010-01-05 07:55:00  21044640         NaN         NaN\n",
      "2010-01-05 08:05:00   NaN   NaN   NaN 2010-01-05 08:00:00  21044645         NaN         NaN\n",
      "2010-01-05 08:10:00   NaN   NaN   NaN 2010-01-05 08:05:00  21044650         NaN         NaN\n",
      "now= 2010-01-05 08:11:00\n",
      "now= 2010-01-05 08:12:00\n",
      "now= 2010-01-05 08:13:00\n",
      "now= 2010-01-05 08:14:00\n",
      "now= 2010-01-05 08:15:00\n",
      "Time to execute the DAG\n"
     ]
    },
    {
     "data": {
      "application/vnd.jupyter.widget-view+json": {
       "model_id": "a283ce76fa3f4af582635f088edb07d3",
       "version_major": 2,
       "version_minor": 0
      },
      "text/plain": [
       "run_leq_node:   0%|          | 0/6 [00:00<?, ?it/s]"
      ]
     },
     "metadata": {},
     "output_type": "display_data"
    },
    {
     "name": "stdout",
     "output_type": "stream",
     "text": [
      "                     vwap  twap  last bar_start_timestamp    minute  twap_ret_0  vwap_ret_0\n",
      "2010-01-05 08:05:00   NaN   NaN   NaN 2010-01-05 08:00:00  21044645         NaN         NaN\n",
      "2010-01-05 08:10:00   NaN   NaN   NaN 2010-01-05 08:05:00  21044650         NaN         NaN\n",
      "2010-01-05 08:15:00   NaN   NaN   NaN 2010-01-05 08:10:00  21044655         NaN         NaN\n",
      "now= 2010-01-05 08:16:00\n",
      "now= 2010-01-05 08:17:00\n",
      "now= 2010-01-05 08:18:00\n",
      "now= 2010-01-05 08:19:00\n",
      "now= 2010-01-05 08:20:00\n",
      "Time to execute the DAG\n"
     ]
    },
    {
     "data": {
      "application/vnd.jupyter.widget-view+json": {
       "model_id": "3a6cbfe1ed3643d8bd804f912987475e",
       "version_major": 2,
       "version_minor": 0
      },
      "text/plain": [
       "run_leq_node:   0%|          | 0/6 [00:00<?, ?it/s]"
      ]
     },
     "metadata": {},
     "output_type": "display_data"
    },
    {
     "name": "stdout",
     "output_type": "stream",
     "text": [
      "                     vwap  twap  last bar_start_timestamp    minute  twap_ret_0  vwap_ret_0\n",
      "2010-01-05 08:10:00   NaN   NaN   NaN 2010-01-05 08:05:00  21044650         NaN         NaN\n",
      "2010-01-05 08:15:00   NaN   NaN   NaN 2010-01-05 08:10:00  21044655         NaN         NaN\n",
      "2010-01-05 08:20:00   NaN   NaN   NaN 2010-01-05 08:15:00  21044660         NaN         NaN\n",
      "now= 2010-01-05 08:21:00\n",
      "now= 2010-01-05 08:22:00\n",
      "now= 2010-01-05 08:23:00\n",
      "now= 2010-01-05 08:24:00\n",
      "now= 2010-01-05 08:25:00\n",
      "Time to execute the DAG\n"
     ]
    },
    {
     "data": {
      "application/vnd.jupyter.widget-view+json": {
       "model_id": "6cbae9d2fc1942918e8c46237b7f2b02",
       "version_major": 2,
       "version_minor": 0
      },
      "text/plain": [
       "run_leq_node:   0%|          | 0/6 [00:00<?, ?it/s]"
      ]
     },
     "metadata": {},
     "output_type": "display_data"
    },
    {
     "name": "stdout",
     "output_type": "stream",
     "text": [
      "                     vwap  twap  last bar_start_timestamp    minute  twap_ret_0  vwap_ret_0\n",
      "2010-01-05 08:15:00   NaN   NaN   NaN 2010-01-05 08:10:00  21044655         NaN         NaN\n",
      "2010-01-05 08:20:00   NaN   NaN   NaN 2010-01-05 08:15:00  21044660         NaN         NaN\n",
      "2010-01-05 08:25:00   NaN   NaN   NaN 2010-01-05 08:20:00  21044665         NaN         NaN\n",
      "now= 2010-01-05 08:26:00\n",
      "now= 2010-01-05 08:27:00\n",
      "now= 2010-01-05 08:28:00\n",
      "now= 2010-01-05 08:29:00\n",
      "now= 2010-01-05 08:30:00\n",
      "Time to execute the DAG\n"
     ]
    },
    {
     "data": {
      "application/vnd.jupyter.widget-view+json": {
       "model_id": "eb21e918075848a48b32c2f87ff01da1",
       "version_major": 2,
       "version_minor": 0
      },
      "text/plain": [
       "run_leq_node:   0%|          | 0/6 [00:00<?, ?it/s]"
      ]
     },
     "metadata": {},
     "output_type": "display_data"
    },
    {
     "name": "stdout",
     "output_type": "stream",
     "text": [
      "                     vwap  twap  last bar_start_timestamp    minute  twap_ret_0  vwap_ret_0\n",
      "2010-01-05 08:20:00   NaN   NaN   NaN 2010-01-05 08:15:00  21044660         NaN         NaN\n",
      "2010-01-05 08:25:00   NaN   NaN   NaN 2010-01-05 08:20:00  21044665         NaN         NaN\n",
      "2010-01-05 08:30:00   NaN   NaN   NaN 2010-01-05 08:25:00  21044670         NaN         NaN\n",
      "now= 2010-01-05 08:31:00\n",
      "now= 2010-01-05 08:32:00\n",
      "now= 2010-01-05 08:33:00\n",
      "now= 2010-01-05 08:34:00\n",
      "now= 2010-01-05 08:35:00\n",
      "Time to execute the DAG\n"
     ]
    },
    {
     "data": {
      "application/vnd.jupyter.widget-view+json": {
       "model_id": "e0515c1b1b254df7a3ee6e55cfd790b5",
       "version_major": 2,
       "version_minor": 0
      },
      "text/plain": [
       "run_leq_node:   0%|          | 0/6 [00:00<?, ?it/s]"
      ]
     },
     "metadata": {},
     "output_type": "display_data"
    },
    {
     "name": "stdout",
     "output_type": "stream",
     "text": [
      "                     vwap  twap  last bar_start_timestamp    minute  twap_ret_0  vwap_ret_0\n",
      "2010-01-05 08:25:00   NaN   NaN   NaN 2010-01-05 08:20:00  21044665         NaN         NaN\n",
      "2010-01-05 08:30:00   NaN   NaN   NaN 2010-01-05 08:25:00  21044670         NaN         NaN\n",
      "2010-01-05 08:35:00   NaN   NaN   NaN 2010-01-05 08:30:00  21044675         NaN         NaN\n",
      "now= 2010-01-05 08:36:00\n",
      "now= 2010-01-05 08:37:00\n",
      "now= 2010-01-05 08:38:00\n",
      "now= 2010-01-05 08:39:00\n",
      "now= 2010-01-05 08:40:00\n",
      "Time to execute the DAG\n"
     ]
    },
    {
     "data": {
      "application/vnd.jupyter.widget-view+json": {
       "model_id": "8f196711e9754be98ae056ce19e7bfc5",
       "version_major": 2,
       "version_minor": 0
      },
      "text/plain": [
       "run_leq_node:   0%|          | 0/6 [00:00<?, ?it/s]"
      ]
     },
     "metadata": {},
     "output_type": "display_data"
    },
    {
     "name": "stdout",
     "output_type": "stream",
     "text": [
      "                     vwap  twap  last bar_start_timestamp    minute  twap_ret_0  vwap_ret_0\n",
      "2010-01-05 08:30:00   NaN   NaN   NaN 2010-01-05 08:25:00  21044670         NaN         NaN\n",
      "2010-01-05 08:35:00   NaN   NaN   NaN 2010-01-05 08:30:00  21044675         NaN         NaN\n",
      "2010-01-05 08:40:00   NaN   NaN   NaN 2010-01-05 08:35:00  21044680         NaN         NaN\n",
      "now= 2010-01-05 08:41:00\n",
      "now= 2010-01-05 08:42:00\n",
      "now= 2010-01-05 08:43:00\n",
      "now= 2010-01-05 08:44:00\n",
      "now= 2010-01-05 08:45:00\n",
      "Time to execute the DAG\n"
     ]
    },
    {
     "data": {
      "application/vnd.jupyter.widget-view+json": {
       "model_id": "5660b74541204a85bc00723e557a9b3f",
       "version_major": 2,
       "version_minor": 0
      },
      "text/plain": [
       "run_leq_node:   0%|          | 0/6 [00:00<?, ?it/s]"
      ]
     },
     "metadata": {},
     "output_type": "display_data"
    },
    {
     "name": "stdout",
     "output_type": "stream",
     "text": [
      "                     vwap  twap  last bar_start_timestamp    minute  twap_ret_0  vwap_ret_0\n",
      "2010-01-05 08:35:00   NaN   NaN   NaN 2010-01-05 08:30:00  21044675         NaN         NaN\n",
      "2010-01-05 08:40:00   NaN   NaN   NaN 2010-01-05 08:35:00  21044680         NaN         NaN\n",
      "2010-01-05 08:45:00   NaN   NaN   NaN 2010-01-05 08:40:00  21044685         NaN         NaN\n",
      "now= 2010-01-05 08:46:00\n",
      "now= 2010-01-05 08:47:00\n",
      "now= 2010-01-05 08:48:00\n",
      "now= 2010-01-05 08:49:00\n",
      "now= 2010-01-05 08:50:00\n",
      "Time to execute the DAG\n"
     ]
    },
    {
     "data": {
      "application/vnd.jupyter.widget-view+json": {
       "model_id": "3c59c739218b473baf5b250208d0ac11",
       "version_major": 2,
       "version_minor": 0
      },
      "text/plain": [
       "run_leq_node:   0%|          | 0/6 [00:00<?, ?it/s]"
      ]
     },
     "metadata": {},
     "output_type": "display_data"
    },
    {
     "name": "stdout",
     "output_type": "stream",
     "text": [
      "                     vwap  twap  last bar_start_timestamp    minute  twap_ret_0  vwap_ret_0\n",
      "2010-01-05 08:40:00   NaN   NaN   NaN 2010-01-05 08:35:00  21044680         NaN         NaN\n",
      "2010-01-05 08:45:00   NaN   NaN   NaN 2010-01-05 08:40:00  21044685         NaN         NaN\n",
      "2010-01-05 08:50:00   NaN   NaN   NaN 2010-01-05 08:45:00  21044690         NaN         NaN\n",
      "now= 2010-01-05 08:51:00\n",
      "now= 2010-01-05 08:52:00\n",
      "now= 2010-01-05 08:53:00\n",
      "now= 2010-01-05 08:54:00\n",
      "now= 2010-01-05 08:55:00\n",
      "Time to execute the DAG\n"
     ]
    },
    {
     "data": {
      "application/vnd.jupyter.widget-view+json": {
       "model_id": "0e26d08c48994cbfbc5499b0ca10a196",
       "version_major": 2,
       "version_minor": 0
      },
      "text/plain": [
       "run_leq_node:   0%|          | 0/6 [00:00<?, ?it/s]"
      ]
     },
     "metadata": {},
     "output_type": "display_data"
    },
    {
     "name": "stdout",
     "output_type": "stream",
     "text": [
      "                     vwap  twap  last bar_start_timestamp    minute  twap_ret_0  vwap_ret_0\n",
      "2010-01-05 08:45:00   NaN   NaN   NaN 2010-01-05 08:40:00  21044685         NaN         NaN\n",
      "2010-01-05 08:50:00   NaN   NaN   NaN 2010-01-05 08:45:00  21044690         NaN         NaN\n",
      "2010-01-05 08:55:00   NaN   NaN   NaN 2010-01-05 08:50:00  21044695         NaN         NaN\n",
      "now= 2010-01-05 08:56:00\n",
      "now= 2010-01-05 08:57:00\n",
      "now= 2010-01-05 08:58:00\n",
      "now= 2010-01-05 08:59:00\n",
      "now= 2010-01-05 09:00:00\n",
      "Time to execute the DAG\n"
     ]
    },
    {
     "data": {
      "application/vnd.jupyter.widget-view+json": {
       "model_id": "247fd2fed1f0430898b22cc95184afa3",
       "version_major": 2,
       "version_minor": 0
      },
      "text/plain": [
       "run_leq_node:   0%|          | 0/6 [00:00<?, ?it/s]"
      ]
     },
     "metadata": {},
     "output_type": "display_data"
    },
    {
     "name": "stdout",
     "output_type": "stream",
     "text": [
      "                     vwap  twap  last bar_start_timestamp    minute  twap_ret_0  vwap_ret_0\n",
      "2010-01-05 08:50:00   NaN   NaN   NaN 2010-01-05 08:45:00  21044690         NaN         NaN\n",
      "2010-01-05 08:55:00   NaN   NaN   NaN 2010-01-05 08:50:00  21044695         NaN         NaN\n",
      "2010-01-05 09:00:00   NaN   NaN   NaN 2010-01-05 08:55:00  21044700         NaN         NaN\n",
      "now= 2010-01-05 09:01:00\n",
      "now= 2010-01-05 09:02:00\n",
      "now= 2010-01-05 09:03:00\n",
      "now= 2010-01-05 09:04:00\n",
      "now= 2010-01-05 09:05:00\n",
      "Time to execute the DAG\n"
     ]
    },
    {
     "data": {
      "application/vnd.jupyter.widget-view+json": {
       "model_id": "ed83b2fec42e41608850831fbe228d0c",
       "version_major": 2,
       "version_minor": 0
      },
      "text/plain": [
       "run_leq_node:   0%|          | 0/6 [00:00<?, ?it/s]"
      ]
     },
     "metadata": {},
     "output_type": "display_data"
    },
    {
     "name": "stdout",
     "output_type": "stream",
     "text": [
      "                     vwap  twap  last bar_start_timestamp    minute  twap_ret_0  vwap_ret_0\n",
      "2010-01-05 08:55:00   NaN   NaN   NaN 2010-01-05 08:50:00  21044695         NaN         NaN\n",
      "2010-01-05 09:00:00   NaN   NaN   NaN 2010-01-05 08:55:00  21044700         NaN         NaN\n",
      "2010-01-05 09:05:00   NaN   NaN   NaN 2010-01-05 09:00:00  21044705         NaN         NaN\n",
      "now= 2010-01-05 09:06:00\n",
      "now= 2010-01-05 09:07:00\n",
      "now= 2010-01-05 09:08:00\n",
      "now= 2010-01-05 09:09:00\n",
      "now= 2010-01-05 09:10:00\n",
      "Time to execute the DAG\n"
     ]
    },
    {
     "data": {
      "application/vnd.jupyter.widget-view+json": {
       "model_id": "7789b041c1144e1ab4444dfa1671af26",
       "version_major": 2,
       "version_minor": 0
      },
      "text/plain": [
       "run_leq_node:   0%|          | 0/6 [00:00<?, ?it/s]"
      ]
     },
     "metadata": {},
     "output_type": "display_data"
    },
    {
     "name": "stdout",
     "output_type": "stream",
     "text": [
      "                     vwap  twap  last bar_start_timestamp    minute  twap_ret_0  vwap_ret_0\n",
      "2010-01-05 09:00:00   NaN   NaN   NaN 2010-01-05 08:55:00  21044700         NaN         NaN\n",
      "2010-01-05 09:05:00   NaN   NaN   NaN 2010-01-05 09:00:00  21044705         NaN         NaN\n",
      "2010-01-05 09:10:00   NaN   NaN   NaN 2010-01-05 09:05:00  21044710         NaN         NaN\n",
      "now= 2010-01-05 09:11:00\n",
      "now= 2010-01-05 09:12:00\n",
      "now= 2010-01-05 09:13:00\n",
      "now= 2010-01-05 09:14:00\n",
      "now= 2010-01-05 09:15:00\n",
      "Time to execute the DAG\n"
     ]
    },
    {
     "data": {
      "application/vnd.jupyter.widget-view+json": {
       "model_id": "16ae2957b500464fa71920df74a0656f",
       "version_major": 2,
       "version_minor": 0
      },
      "text/plain": [
       "run_leq_node:   0%|          | 0/6 [00:00<?, ?it/s]"
      ]
     },
     "metadata": {},
     "output_type": "display_data"
    },
    {
     "name": "stdout",
     "output_type": "stream",
     "text": [
      "                     vwap  twap  last bar_start_timestamp    minute  twap_ret_0  vwap_ret_0\n",
      "2010-01-05 09:05:00   NaN   NaN   NaN 2010-01-05 09:00:00  21044705         NaN         NaN\n",
      "2010-01-05 09:10:00   NaN   NaN   NaN 2010-01-05 09:05:00  21044710         NaN         NaN\n",
      "2010-01-05 09:15:00   NaN   NaN   NaN 2010-01-05 09:10:00  21044715         NaN         NaN\n",
      "now= 2010-01-05 09:16:00\n",
      "now= 2010-01-05 09:17:00\n",
      "now= 2010-01-05 09:18:00\n",
      "now= 2010-01-05 09:19:00\n",
      "now= 2010-01-05 09:20:00\n",
      "Time to execute the DAG\n"
     ]
    },
    {
     "data": {
      "application/vnd.jupyter.widget-view+json": {
       "model_id": "31a33f717b6342b1b8e2aa2ad6365161",
       "version_major": 2,
       "version_minor": 0
      },
      "text/plain": [
       "run_leq_node:   0%|          | 0/6 [00:00<?, ?it/s]"
      ]
     },
     "metadata": {},
     "output_type": "display_data"
    },
    {
     "name": "stdout",
     "output_type": "stream",
     "text": [
      "                     vwap  twap  last bar_start_timestamp    minute  twap_ret_0  vwap_ret_0\n",
      "2010-01-05 09:10:00   NaN   NaN   NaN 2010-01-05 09:05:00  21044710         NaN         NaN\n",
      "2010-01-05 09:15:00   NaN   NaN   NaN 2010-01-05 09:10:00  21044715         NaN         NaN\n",
      "2010-01-05 09:20:00   NaN   NaN   NaN 2010-01-05 09:15:00  21044720         NaN         NaN\n",
      "now= 2010-01-05 09:21:00\n",
      "now= 2010-01-05 09:22:00\n",
      "now= 2010-01-05 09:23:00\n",
      "now= 2010-01-05 09:24:00\n",
      "now= 2010-01-05 09:25:00\n",
      "Time to execute the DAG\n"
     ]
    },
    {
     "data": {
      "application/vnd.jupyter.widget-view+json": {
       "model_id": "2e8c821727a84f92bfce9939e78c0149",
       "version_major": 2,
       "version_minor": 0
      },
      "text/plain": [
       "run_leq_node:   0%|          | 0/6 [00:00<?, ?it/s]"
      ]
     },
     "metadata": {},
     "output_type": "display_data"
    },
    {
     "name": "stdout",
     "output_type": "stream",
     "text": [
      "                     vwap  twap  last bar_start_timestamp    minute  twap_ret_0  vwap_ret_0\n",
      "2010-01-05 09:15:00   NaN   NaN   NaN 2010-01-05 09:10:00  21044715         NaN         NaN\n",
      "2010-01-05 09:20:00   NaN   NaN   NaN 2010-01-05 09:15:00  21044720         NaN         NaN\n",
      "2010-01-05 09:25:00   NaN   NaN   NaN 2010-01-05 09:20:00  21044725         NaN         NaN\n",
      "now= 2010-01-05 09:26:00\n",
      "now= 2010-01-05 09:27:00\n",
      "now= 2010-01-05 09:28:00\n",
      "now= 2010-01-05 09:29:00\n",
      "now= 2010-01-05 09:30:00\n",
      "Time to execute the DAG\n"
     ]
    },
    {
     "data": {
      "application/vnd.jupyter.widget-view+json": {
       "model_id": "cf4c936ded144c6488df2a8a6cda328f",
       "version_major": 2,
       "version_minor": 0
      },
      "text/plain": [
       "run_leq_node:   0%|          | 0/6 [00:00<?, ?it/s]"
      ]
     },
     "metadata": {},
     "output_type": "display_data"
    },
    {
     "name": "stdout",
     "output_type": "stream",
     "text": [
      "                     vwap  twap  last bar_start_timestamp    minute  twap_ret_0  vwap_ret_0\n",
      "2010-01-05 09:20:00   NaN   NaN   NaN 2010-01-05 09:15:00  21044720         NaN         NaN\n",
      "2010-01-05 09:25:00   NaN   NaN   NaN 2010-01-05 09:20:00  21044725         NaN         NaN\n",
      "2010-01-05 09:30:00   NaN   NaN   NaN 2010-01-05 09:25:00  21044730         NaN         NaN\n",
      "now= 2010-01-05 09:31:00\n",
      "now= 2010-01-05 09:32:00\n",
      "now= 2010-01-05 09:33:00\n",
      "now= 2010-01-05 09:34:00\n",
      "now= 2010-01-05 09:35:00\n",
      "Time to execute the DAG\n"
     ]
    },
    {
     "data": {
      "application/vnd.jupyter.widget-view+json": {
       "model_id": "448efe4751324ce8b2004989bea1f295",
       "version_major": 2,
       "version_minor": 0
      },
      "text/plain": [
       "run_leq_node:   0%|          | 0/6 [00:00<?, ?it/s]"
      ]
     },
     "metadata": {},
     "output_type": "display_data"
    },
    {
     "name": "stdout",
     "output_type": "stream",
     "text": [
      "                         vwap      twap      last bar_start_timestamp    minute  twap_ret_0  vwap_ret_0\n",
      "2010-01-05 09:25:00       NaN       NaN       NaN 2010-01-05 09:20:00  21044725         NaN         NaN\n",
      "2010-01-05 09:30:00       NaN       NaN       NaN 2010-01-05 09:25:00  21044730         NaN         NaN\n",
      "2010-01-05 09:35:00  1.418648  1.423615  1.665539 2010-01-05 09:30:00  21044735         NaN         NaN\n",
      "now= 2010-01-05 09:36:00\n",
      "now= 2010-01-05 09:37:00\n",
      "now= 2010-01-05 09:38:00\n",
      "now= 2010-01-05 09:39:00\n",
      "now= 2010-01-05 09:40:00\n",
      "Time to execute the DAG\n"
     ]
    },
    {
     "data": {
      "application/vnd.jupyter.widget-view+json": {
       "model_id": "a41a43f478cc43b894df8369f2e8da67",
       "version_major": 2,
       "version_minor": 0
      },
      "text/plain": [
       "run_leq_node:   0%|          | 0/6 [00:00<?, ?it/s]"
      ]
     },
     "metadata": {},
     "output_type": "display_data"
    },
    {
     "name": "stdout",
     "output_type": "stream",
     "text": [
      "                         vwap      twap      last bar_start_timestamp    minute  twap_ret_0  vwap_ret_0\n",
      "2010-01-05 09:30:00       NaN       NaN       NaN 2010-01-05 09:25:00  21044730         NaN         NaN\n",
      "2010-01-05 09:35:00  1.418648  1.423615  1.665539 2010-01-05 09:30:00  21044735         NaN         NaN\n",
      "2010-01-05 09:40:00  1.410632  1.387880  1.019959 2010-01-05 09:35:00  21044740   -0.025102   -0.005651\n",
      "now= 2010-01-05 09:41:00\n",
      "now= 2010-01-05 09:42:00\n",
      "now= 2010-01-05 09:43:00\n",
      "now= 2010-01-05 09:44:00\n",
      "now= 2010-01-05 09:45:00\n",
      "Time to execute the DAG\n"
     ]
    },
    {
     "data": {
      "application/vnd.jupyter.widget-view+json": {
       "model_id": "c9051d47a6354b109835e4eb88581407",
       "version_major": 2,
       "version_minor": 0
      },
      "text/plain": [
       "run_leq_node:   0%|          | 0/6 [00:00<?, ?it/s]"
      ]
     },
     "metadata": {},
     "output_type": "display_data"
    },
    {
     "name": "stdout",
     "output_type": "stream",
     "text": [
      "                         vwap      twap      last bar_start_timestamp    minute  twap_ret_0  vwap_ret_0\n",
      "2010-01-05 09:35:00  1.418648  1.423615  1.665539 2010-01-05 09:30:00  21044735         NaN         NaN\n",
      "2010-01-05 09:40:00  1.410632  1.387880  1.019959 2010-01-05 09:35:00  21044740   -0.025102   -0.005651\n",
      "2010-01-05 09:45:00  1.193325  1.176302  1.437376 2010-01-05 09:40:00  21044745   -0.152447   -0.154049\n",
      "now= 2010-01-05 09:46:00\n",
      "now= 2010-01-05 09:47:00\n",
      "now= 2010-01-05 09:48:00\n",
      "now= 2010-01-05 09:49:00\n",
      "now= 2010-01-05 09:50:00\n",
      "Time to execute the DAG\n"
     ]
    },
    {
     "data": {
      "application/vnd.jupyter.widget-view+json": {
       "model_id": "045f1b6146c74d69bfae5dac0ed37e96",
       "version_major": 2,
       "version_minor": 0
      },
      "text/plain": [
       "run_leq_node:   0%|          | 0/6 [00:00<?, ?it/s]"
      ]
     },
     "metadata": {},
     "output_type": "display_data"
    },
    {
     "name": "stdout",
     "output_type": "stream",
     "text": [
      "                         vwap      twap      last bar_start_timestamp    minute  twap_ret_0  vwap_ret_0\n",
      "2010-01-05 09:40:00  1.410632  1.387880  1.019959 2010-01-05 09:35:00  21044740   -0.025102   -0.005651\n",
      "2010-01-05 09:45:00  1.193325  1.176302  1.437376 2010-01-05 09:40:00  21044745   -0.152447   -0.154049\n",
      "2010-01-05 09:50:00  1.716223  1.708678  2.031325 2010-01-05 09:45:00  21044750    0.452585    0.438185\n",
      "now= 2010-01-05 09:51:00\n",
      "now= 2010-01-05 09:52:00\n",
      "now= 2010-01-05 09:53:00\n",
      "now= 2010-01-05 09:54:00\n",
      "now= 2010-01-05 09:55:00\n",
      "Time to execute the DAG\n"
     ]
    },
    {
     "data": {
      "application/vnd.jupyter.widget-view+json": {
       "model_id": "66bba5f328c647c78be45ef951e94114",
       "version_major": 2,
       "version_minor": 0
      },
      "text/plain": [
       "run_leq_node:   0%|          | 0/6 [00:00<?, ?it/s]"
      ]
     },
     "metadata": {},
     "output_type": "display_data"
    },
    {
     "name": "stdout",
     "output_type": "stream",
     "text": [
      "                         vwap      twap      last bar_start_timestamp    minute  twap_ret_0  vwap_ret_0\n",
      "2010-01-05 09:45:00  1.193325  1.176302  1.437376 2010-01-05 09:40:00  21044745   -0.152447   -0.154049\n",
      "2010-01-05 09:50:00  1.716223  1.708678  2.031325 2010-01-05 09:45:00  21044750    0.452585    0.438185\n",
      "2010-01-05 09:55:00  1.765062  1.766063  2.011339 2010-01-05 09:50:00  21044755    0.033585    0.028458\n",
      "now= 2010-01-05 09:56:00\n",
      "now= 2010-01-05 09:57:00\n",
      "now= 2010-01-05 09:58:00\n",
      "now= 2010-01-05 09:59:00\n",
      "now= 2010-01-05 10:00:00\n",
      "Time to execute the DAG\n"
     ]
    },
    {
     "data": {
      "application/vnd.jupyter.widget-view+json": {
       "model_id": "14b8065e701e4aa5b7e99aad62225a05",
       "version_major": 2,
       "version_minor": 0
      },
      "text/plain": [
       "run_leq_node:   0%|          | 0/6 [00:00<?, ?it/s]"
      ]
     },
     "metadata": {},
     "output_type": "display_data"
    },
    {
     "name": "stdout",
     "output_type": "stream",
     "text": [
      "                         vwap      twap      last bar_start_timestamp    minute  twap_ret_0  vwap_ret_0\n",
      "2010-01-05 09:50:00  1.716223  1.708678  2.031325 2010-01-05 09:45:00  21044750    0.452585    0.438185\n",
      "2010-01-05 09:55:00  1.765062  1.766063  2.011339 2010-01-05 09:50:00  21044755    0.033585    0.028458\n",
      "2010-01-05 10:00:00  2.319620  2.314502  2.456142 2010-01-05 09:55:00  21044760    0.310543    0.314186\n",
      "now= 2010-01-05 10:01:00\n",
      "now= 2010-01-05 10:02:00\n",
      "now= 2010-01-05 10:03:00\n",
      "now= 2010-01-05 10:04:00\n",
      "now= 2010-01-05 10:05:00\n",
      "Time to execute the DAG\n"
     ]
    },
    {
     "data": {
      "application/vnd.jupyter.widget-view+json": {
       "model_id": "b8ecee6cf75945cdbdaa5c49d65f966f",
       "version_major": 2,
       "version_minor": 0
      },
      "text/plain": [
       "run_leq_node:   0%|          | 0/6 [00:00<?, ?it/s]"
      ]
     },
     "metadata": {},
     "output_type": "display_data"
    },
    {
     "name": "stdout",
     "output_type": "stream",
     "text": [
      "                         vwap      twap      last bar_start_timestamp    minute  twap_ret_0  vwap_ret_0\n",
      "2010-01-05 09:55:00  1.765062  1.766063  2.011339 2010-01-05 09:50:00  21044755    0.033585    0.028458\n",
      "2010-01-05 10:00:00  2.319620  2.314502  2.456142 2010-01-05 09:55:00  21044760    0.310543    0.314186\n",
      "2010-01-05 10:05:00  2.515948  2.487033  1.921987 2010-01-05 10:00:00  21044765    0.074544    0.084638\n",
      "now= 2010-01-05 10:06:00\n",
      "now= 2010-01-05 10:07:00\n",
      "now= 2010-01-05 10:08:00\n",
      "now= 2010-01-05 10:09:00\n",
      "now= 2010-01-05 10:10:00\n",
      "Time to execute the DAG\n"
     ]
    },
    {
     "data": {
      "application/vnd.jupyter.widget-view+json": {
       "model_id": "c57e2df5d34e468e83427dc7a63d26b6",
       "version_major": 2,
       "version_minor": 0
      },
      "text/plain": [
       "run_leq_node:   0%|          | 0/6 [00:00<?, ?it/s]"
      ]
     },
     "metadata": {},
     "output_type": "display_data"
    },
    {
     "name": "stdout",
     "output_type": "stream",
     "text": [
      "                         vwap      twap      last bar_start_timestamp    minute  twap_ret_0  vwap_ret_0\n",
      "2010-01-05 10:00:00  2.319620  2.314502  2.456142 2010-01-05 09:55:00  21044760    0.310543    0.314186\n",
      "2010-01-05 10:05:00  2.515948  2.487033  1.921987 2010-01-05 10:00:00  21044765    0.074544    0.084638\n",
      "2010-01-05 10:10:00  2.197136  2.202327  2.371101 2010-01-05 10:05:00  21044770   -0.114476   -0.126716\n",
      "now= 2010-01-05 10:11:00\n",
      "now= 2010-01-05 10:12:00\n",
      "now= 2010-01-05 10:13:00\n",
      "now= 2010-01-05 10:14:00\n",
      "now= 2010-01-05 10:15:00\n",
      "Time to execute the DAG\n"
     ]
    },
    {
     "data": {
      "application/vnd.jupyter.widget-view+json": {
       "model_id": "aa2b4720f7c440e5a54aa8a166ffada2",
       "version_major": 2,
       "version_minor": 0
      },
      "text/plain": [
       "run_leq_node:   0%|          | 0/6 [00:00<?, ?it/s]"
      ]
     },
     "metadata": {},
     "output_type": "display_data"
    },
    {
     "name": "stdout",
     "output_type": "stream",
     "text": [
      "                         vwap      twap      last bar_start_timestamp    minute  twap_ret_0  vwap_ret_0\n",
      "2010-01-05 10:05:00  2.515948  2.487033  1.921987 2010-01-05 10:00:00  21044765    0.074544    0.084638\n",
      "2010-01-05 10:10:00  2.197136  2.202327  2.371101 2010-01-05 10:05:00  21044770   -0.114476   -0.126716\n",
      "2010-01-05 10:15:00  2.717888  2.726547  2.939412 2010-01-05 10:10:00  21044775    0.238030    0.237014\n",
      "now= 2010-01-05 10:16:00\n",
      "now= 2010-01-05 10:17:00\n",
      "now= 2010-01-05 10:18:00\n",
      "now= 2010-01-05 10:19:00\n",
      "now= 2010-01-05 10:20:00\n",
      "Time to execute the DAG\n"
     ]
    },
    {
     "data": {
      "application/vnd.jupyter.widget-view+json": {
       "model_id": "e7f19f41064a4f2abacd819548a9ca0c",
       "version_major": 2,
       "version_minor": 0
      },
      "text/plain": [
       "run_leq_node:   0%|          | 0/6 [00:00<?, ?it/s]"
      ]
     },
     "metadata": {},
     "output_type": "display_data"
    },
    {
     "name": "stdout",
     "output_type": "stream",
     "text": [
      "                         vwap      twap      last bar_start_timestamp    minute  twap_ret_0  vwap_ret_0\n",
      "2010-01-05 10:10:00  2.197136  2.202327  2.371101 2010-01-05 10:05:00  21044770   -0.114476   -0.126716\n",
      "2010-01-05 10:15:00  2.717888  2.726547  2.939412 2010-01-05 10:10:00  21044775    0.238030    0.237014\n",
      "2010-01-05 10:20:00  3.079850  3.055279  3.737028 2010-01-05 10:15:00  21044780    0.120567    0.133178\n",
      "now= 2010-01-05 10:21:00\n",
      "now= 2010-01-05 10:22:00\n",
      "now= 2010-01-05 10:23:00\n",
      "now= 2010-01-05 10:24:00\n",
      "now= 2010-01-05 10:25:00\n",
      "Time to execute the DAG\n"
     ]
    },
    {
     "data": {
      "application/vnd.jupyter.widget-view+json": {
       "model_id": "389f2c466c0b47bebbb6e5363492c221",
       "version_major": 2,
       "version_minor": 0
      },
      "text/plain": [
       "run_leq_node:   0%|          | 0/6 [00:00<?, ?it/s]"
      ]
     },
     "metadata": {},
     "output_type": "display_data"
    },
    {
     "name": "stdout",
     "output_type": "stream",
     "text": [
      "                         vwap      twap      last bar_start_timestamp    minute  twap_ret_0  vwap_ret_0\n",
      "2010-01-05 10:15:00  2.717888  2.726547  2.939412 2010-01-05 10:10:00  21044775    0.238030    0.237014\n",
      "2010-01-05 10:20:00  3.079850  3.055279  3.737028 2010-01-05 10:15:00  21044780    0.120567    0.133178\n",
      "2010-01-05 10:25:00  3.855348  3.845508  4.069488 2010-01-05 10:20:00  21044785    0.258644    0.251798\n",
      "now= 2010-01-05 10:26:00\n",
      "now= 2010-01-05 10:27:00\n",
      "now= 2010-01-05 10:28:00\n",
      "now= 2010-01-05 10:29:00\n",
      "now= 2010-01-05 10:30:00\n",
      "Time to execute the DAG\n"
     ]
    },
    {
     "data": {
      "application/vnd.jupyter.widget-view+json": {
       "model_id": "58a2b1fe1ea04b24a01c3656cf05f6a2",
       "version_major": 2,
       "version_minor": 0
      },
      "text/plain": [
       "run_leq_node:   0%|          | 0/6 [00:00<?, ?it/s]"
      ]
     },
     "metadata": {},
     "output_type": "display_data"
    },
    {
     "name": "stdout",
     "output_type": "stream",
     "text": [
      "                         vwap      twap      last bar_start_timestamp    minute  twap_ret_0  vwap_ret_0\n",
      "2010-01-05 10:20:00  3.079850  3.055279  3.737028 2010-01-05 10:15:00  21044780    0.120567    0.133178\n",
      "2010-01-05 10:25:00  3.855348  3.845508  4.069488 2010-01-05 10:20:00  21044785    0.258644    0.251798\n",
      "2010-01-05 10:30:00  3.891753  3.896550  3.885232 2010-01-05 10:25:00  21044790    0.013273    0.009443\n",
      "now= 2010-01-05 10:31:00\n",
      "now= 2010-01-05 10:32:00\n",
      "now= 2010-01-05 10:33:00\n",
      "now= 2010-01-05 10:34:00\n",
      "now= 2010-01-05 10:35:00\n",
      "Time to execute the DAG\n"
     ]
    },
    {
     "data": {
      "application/vnd.jupyter.widget-view+json": {
       "model_id": "e1c3e42a618a4c0abd13c739ed5395dd",
       "version_major": 2,
       "version_minor": 0
      },
      "text/plain": [
       "run_leq_node:   0%|          | 0/6 [00:00<?, ?it/s]"
      ]
     },
     "metadata": {},
     "output_type": "display_data"
    },
    {
     "name": "stdout",
     "output_type": "stream",
     "text": [
      "                         vwap      twap      last bar_start_timestamp    minute  twap_ret_0  vwap_ret_0\n",
      "2010-01-05 10:25:00  3.855348  3.845508  4.069488 2010-01-05 10:20:00  21044785    0.258644    0.251798\n",
      "2010-01-05 10:30:00  3.891753  3.896550  3.885232 2010-01-05 10:25:00  21044790    0.013273    0.009443\n",
      "2010-01-05 10:35:00  4.055104  4.047068  4.284961 2010-01-05 10:30:00  21044795    0.038628    0.041974\n",
      "now= 2010-01-05 10:36:00\n",
      "now= 2010-01-05 10:37:00\n",
      "now= 2010-01-05 10:38:00\n",
      "now= 2010-01-05 10:39:00\n",
      "now= 2010-01-05 10:40:00\n",
      "Time to execute the DAG\n"
     ]
    },
    {
     "data": {
      "application/vnd.jupyter.widget-view+json": {
       "model_id": "8c7f8634c7b44677a1542587144d9573",
       "version_major": 2,
       "version_minor": 0
      },
      "text/plain": [
       "run_leq_node:   0%|          | 0/6 [00:00<?, ?it/s]"
      ]
     },
     "metadata": {},
     "output_type": "display_data"
    },
    {
     "name": "stdout",
     "output_type": "stream",
     "text": [
      "                         vwap      twap      last bar_start_timestamp    minute  twap_ret_0  vwap_ret_0\n",
      "2010-01-05 10:30:00  3.891753  3.896550  3.885232 2010-01-05 10:25:00  21044790    0.013273    0.009443\n",
      "2010-01-05 10:35:00  4.055104  4.047068  4.284961 2010-01-05 10:30:00  21044795    0.038628    0.041974\n",
      "2010-01-05 10:40:00  5.345840  5.351886  6.044373 2010-01-05 10:35:00  21044800    0.322411    0.318299\n",
      "now= 2010-01-05 10:41:00\n",
      "now= 2010-01-05 10:42:00\n",
      "now= 2010-01-05 10:43:00\n",
      "now= 2010-01-05 10:44:00\n",
      "now= 2010-01-05 10:45:00\n",
      "Time to execute the DAG\n"
     ]
    },
    {
     "data": {
      "application/vnd.jupyter.widget-view+json": {
       "model_id": "dbb7940b602740e3b4b4a27a5e328b2d",
       "version_major": 2,
       "version_minor": 0
      },
      "text/plain": [
       "run_leq_node:   0%|          | 0/6 [00:00<?, ?it/s]"
      ]
     },
     "metadata": {},
     "output_type": "display_data"
    },
    {
     "name": "stdout",
     "output_type": "stream",
     "text": [
      "                         vwap      twap      last bar_start_timestamp    minute  twap_ret_0  vwap_ret_0\n",
      "2010-01-05 10:35:00  4.055104  4.047068  4.284961 2010-01-05 10:30:00  21044795    0.038628    0.041974\n",
      "2010-01-05 10:40:00  5.345840  5.351886  6.044373 2010-01-05 10:35:00  21044800    0.322411    0.318299\n",
      "2010-01-05 10:45:00  6.008320  6.015352  5.818210 2010-01-05 10:40:00  21044805    0.123969    0.123924\n",
      "now= 2010-01-05 10:46:00\n",
      "now= 2010-01-05 10:47:00\n",
      "now= 2010-01-05 10:48:00\n",
      "now= 2010-01-05 10:49:00\n",
      "now= 2010-01-05 10:50:00\n",
      "Time to execute the DAG\n"
     ]
    },
    {
     "data": {
      "application/vnd.jupyter.widget-view+json": {
       "model_id": "555ddfff652b48c3a5b062c9a8d4e8bb",
       "version_major": 2,
       "version_minor": 0
      },
      "text/plain": [
       "run_leq_node:   0%|          | 0/6 [00:00<?, ?it/s]"
      ]
     },
     "metadata": {},
     "output_type": "display_data"
    },
    {
     "name": "stdout",
     "output_type": "stream",
     "text": [
      "                         vwap      twap      last bar_start_timestamp    minute  twap_ret_0  vwap_ret_0\n",
      "2010-01-05 10:40:00  5.345840  5.351886  6.044373 2010-01-05 10:35:00  21044800    0.322411    0.318299\n",
      "2010-01-05 10:45:00  6.008320  6.015352  5.818210 2010-01-05 10:40:00  21044805    0.123969    0.123924\n",
      "2010-01-05 10:50:00  5.901099  5.907012  5.772867 2010-01-05 10:45:00  21044810   -0.018011   -0.017845\n",
      "now= 2010-01-05 10:51:00\n",
      "now= 2010-01-05 10:52:00\n",
      "now= 2010-01-05 10:53:00\n",
      "now= 2010-01-05 10:54:00\n",
      "now= 2010-01-05 10:55:00\n",
      "Time to execute the DAG\n"
     ]
    },
    {
     "data": {
      "application/vnd.jupyter.widget-view+json": {
       "model_id": "fb38dec9b7be485086886ebd6aafc553",
       "version_major": 2,
       "version_minor": 0
      },
      "text/plain": [
       "run_leq_node:   0%|          | 0/6 [00:00<?, ?it/s]"
      ]
     },
     "metadata": {},
     "output_type": "display_data"
    },
    {
     "name": "stdout",
     "output_type": "stream",
     "text": [
      "                         vwap      twap      last bar_start_timestamp    minute  twap_ret_0  vwap_ret_0\n",
      "2010-01-05 10:45:00  6.008320  6.015352  5.818210 2010-01-05 10:40:00  21044805    0.123969    0.123924\n",
      "2010-01-05 10:50:00  5.901099  5.907012  5.772867 2010-01-05 10:45:00  21044810   -0.018011   -0.017845\n",
      "2010-01-05 10:55:00  5.963225  5.965307  5.929516 2010-01-05 10:50:00  21044815    0.009869    0.010528\n",
      "now= 2010-01-05 10:56:00\n",
      "now= 2010-01-05 10:57:00\n",
      "now= 2010-01-05 10:58:00\n",
      "now= 2010-01-05 10:59:00\n",
      "now= 2010-01-05 11:00:00\n",
      "Time to execute the DAG\n"
     ]
    },
    {
     "data": {
      "application/vnd.jupyter.widget-view+json": {
       "model_id": "ec7ed72df5184bc68f527a873ed6795c",
       "version_major": 2,
       "version_minor": 0
      },
      "text/plain": [
       "run_leq_node:   0%|          | 0/6 [00:00<?, ?it/s]"
      ]
     },
     "metadata": {},
     "output_type": "display_data"
    },
    {
     "name": "stdout",
     "output_type": "stream",
     "text": [
      "                         vwap      twap      last bar_start_timestamp    minute  twap_ret_0  vwap_ret_0\n",
      "2010-01-05 10:50:00  5.901099  5.907012  5.772867 2010-01-05 10:45:00  21044810   -0.018011   -0.017845\n",
      "2010-01-05 10:55:00  5.963225  5.965307  5.929516 2010-01-05 10:50:00  21044815    0.009869    0.010528\n",
      "2010-01-05 11:00:00  6.751364  6.756793  6.924492 2010-01-05 10:55:00  21044820    0.132682    0.132167\n",
      "now= 2010-01-05 11:01:00\n",
      "now= 2010-01-05 11:02:00\n",
      "now= 2010-01-05 11:03:00\n",
      "now= 2010-01-05 11:04:00\n",
      "now= 2010-01-05 11:05:00\n",
      "Time to execute the DAG\n"
     ]
    },
    {
     "data": {
      "application/vnd.jupyter.widget-view+json": {
       "model_id": "bea3b062ac284cb6b034539b1fef598e",
       "version_major": 2,
       "version_minor": 0
      },
      "text/plain": [
       "run_leq_node:   0%|          | 0/6 [00:00<?, ?it/s]"
      ]
     },
     "metadata": {},
     "output_type": "display_data"
    },
    {
     "name": "stdout",
     "output_type": "stream",
     "text": [
      "                         vwap      twap      last bar_start_timestamp    minute  twap_ret_0  vwap_ret_0\n",
      "2010-01-05 10:55:00  5.963225  5.965307  5.929516 2010-01-05 10:50:00  21044815    0.009869    0.010528\n",
      "2010-01-05 11:00:00  6.751364  6.756793  6.924492 2010-01-05 10:55:00  21044820    0.132682    0.132167\n",
      "2010-01-05 11:05:00  6.308092  6.302452  6.375102 2010-01-05 11:00:00  21044825   -0.067242   -0.065657\n",
      "now= 2010-01-05 11:06:00\n",
      "now= 2010-01-05 11:07:00\n",
      "now= 2010-01-05 11:08:00\n",
      "now= 2010-01-05 11:09:00\n",
      "now= 2010-01-05 11:10:00\n",
      "Time to execute the DAG\n"
     ]
    },
    {
     "data": {
      "application/vnd.jupyter.widget-view+json": {
       "model_id": "84251e48c6fa485d9e98120ea7a05bb6",
       "version_major": 2,
       "version_minor": 0
      },
      "text/plain": [
       "run_leq_node:   0%|          | 0/6 [00:00<?, ?it/s]"
      ]
     },
     "metadata": {},
     "output_type": "display_data"
    },
    {
     "name": "stdout",
     "output_type": "stream",
     "text": [
      "                         vwap      twap      last bar_start_timestamp    minute  twap_ret_0  vwap_ret_0\n",
      "2010-01-05 11:00:00  6.751364  6.756793  6.924492 2010-01-05 10:55:00  21044820    0.132682    0.132167\n",
      "2010-01-05 11:05:00  6.308092  6.302452  6.375102 2010-01-05 11:00:00  21044825   -0.067242   -0.065657\n",
      "2010-01-05 11:10:00  6.082887  6.074113  5.662898 2010-01-05 11:05:00  21044830   -0.036230   -0.035701\n",
      "now= 2010-01-05 11:11:00\n",
      "now= 2010-01-05 11:12:00\n",
      "now= 2010-01-05 11:13:00\n",
      "now= 2010-01-05 11:14:00\n",
      "now= 2010-01-05 11:15:00\n",
      "Time to execute the DAG\n"
     ]
    },
    {
     "data": {
      "application/vnd.jupyter.widget-view+json": {
       "model_id": "ce0555e53c284b57a0a70c26beb83ef0",
       "version_major": 2,
       "version_minor": 0
      },
      "text/plain": [
       "run_leq_node:   0%|          | 0/6 [00:00<?, ?it/s]"
      ]
     },
     "metadata": {},
     "output_type": "display_data"
    },
    {
     "name": "stdout",
     "output_type": "stream",
     "text": [
      "                         vwap      twap      last bar_start_timestamp    minute  twap_ret_0  vwap_ret_0\n",
      "2010-01-05 11:05:00  6.308092  6.302452  6.375102 2010-01-05 11:00:00  21044825   -0.067242   -0.065657\n",
      "2010-01-05 11:10:00  6.082887  6.074113  5.662898 2010-01-05 11:05:00  21044830   -0.036230   -0.035701\n",
      "2010-01-05 11:15:00  5.181078  5.181926  5.408300 2010-01-05 11:10:00  21044835   -0.146884   -0.148253\n",
      "now= 2010-01-05 11:16:00\n",
      "now= 2010-01-05 11:17:00\n",
      "now= 2010-01-05 11:18:00\n",
      "now= 2010-01-05 11:19:00\n",
      "now= 2010-01-05 11:20:00\n",
      "Time to execute the DAG\n"
     ]
    },
    {
     "data": {
      "application/vnd.jupyter.widget-view+json": {
       "model_id": "886b5d6408a74aab81b6c0bfe373310f",
       "version_major": 2,
       "version_minor": 0
      },
      "text/plain": [
       "run_leq_node:   0%|          | 0/6 [00:00<?, ?it/s]"
      ]
     },
     "metadata": {},
     "output_type": "display_data"
    },
    {
     "name": "stdout",
     "output_type": "stream",
     "text": [
      "                         vwap      twap      last bar_start_timestamp    minute  twap_ret_0  vwap_ret_0\n",
      "2010-01-05 11:10:00  6.082887  6.074113  5.662898 2010-01-05 11:05:00  21044830   -0.036230   -0.035701\n",
      "2010-01-05 11:15:00  5.181078  5.181926  5.408300 2010-01-05 11:10:00  21044835   -0.146884   -0.148253\n",
      "2010-01-05 11:20:00  4.650902  4.614423  4.198621 2010-01-05 11:15:00  21044840   -0.109516   -0.102329\n",
      "now= 2010-01-05 11:21:00\n",
      "now= 2010-01-05 11:22:00\n",
      "now= 2010-01-05 11:23:00\n",
      "now= 2010-01-05 11:24:00\n",
      "now= 2010-01-05 11:25:00\n",
      "Time to execute the DAG\n"
     ]
    },
    {
     "data": {
      "application/vnd.jupyter.widget-view+json": {
       "model_id": "d3f2be8e86b24c72b4e732e785cf8e6f",
       "version_major": 2,
       "version_minor": 0
      },
      "text/plain": [
       "run_leq_node:   0%|          | 0/6 [00:00<?, ?it/s]"
      ]
     },
     "metadata": {},
     "output_type": "display_data"
    },
    {
     "name": "stdout",
     "output_type": "stream",
     "text": [
      "                         vwap      twap      last bar_start_timestamp    minute  twap_ret_0  vwap_ret_0\n",
      "2010-01-05 11:15:00  5.181078  5.181926  5.408300 2010-01-05 11:10:00  21044835   -0.146884   -0.148253\n",
      "2010-01-05 11:20:00  4.650902  4.614423  4.198621 2010-01-05 11:15:00  21044840   -0.109516   -0.102329\n",
      "2010-01-05 11:25:00  4.506373  4.535893  4.841102 2010-01-05 11:20:00  21044845   -0.017018   -0.031075\n",
      "now= 2010-01-05 11:26:00\n",
      "now= 2010-01-05 11:27:00\n",
      "now= 2010-01-05 11:28:00\n",
      "now= 2010-01-05 11:29:00\n",
      "now= 2010-01-05 11:30:00\n",
      "Time to execute the DAG\n"
     ]
    },
    {
     "data": {
      "application/vnd.jupyter.widget-view+json": {
       "model_id": "c234f06c61ee4185be2955cc273d010b",
       "version_major": 2,
       "version_minor": 0
      },
      "text/plain": [
       "run_leq_node:   0%|          | 0/6 [00:00<?, ?it/s]"
      ]
     },
     "metadata": {},
     "output_type": "display_data"
    },
    {
     "name": "stdout",
     "output_type": "stream",
     "text": [
      "                         vwap      twap      last bar_start_timestamp    minute  twap_ret_0  vwap_ret_0\n",
      "2010-01-05 11:20:00  4.650902  4.614423  4.198621 2010-01-05 11:15:00  21044840   -0.109516   -0.102329\n",
      "2010-01-05 11:25:00  4.506373  4.535893  4.841102 2010-01-05 11:20:00  21044845   -0.017018   -0.031075\n",
      "2010-01-05 11:30:00  4.499002  4.506550  4.716089 2010-01-05 11:25:00  21044850   -0.006469   -0.001636\n",
      "now= 2010-01-05 11:31:00\n",
      "now= 2010-01-05 11:32:00\n",
      "now= 2010-01-05 11:33:00\n",
      "now= 2010-01-05 11:34:00\n",
      "now= 2010-01-05 11:35:00\n",
      "Time to execute the DAG\n"
     ]
    },
    {
     "data": {
      "application/vnd.jupyter.widget-view+json": {
       "model_id": "097dfb19143e44fd896a0b6229564409",
       "version_major": 2,
       "version_minor": 0
      },
      "text/plain": [
       "run_leq_node:   0%|          | 0/6 [00:00<?, ?it/s]"
      ]
     },
     "metadata": {},
     "output_type": "display_data"
    },
    {
     "name": "stdout",
     "output_type": "stream",
     "text": [
      "                         vwap      twap      last bar_start_timestamp    minute  twap_ret_0  vwap_ret_0\n",
      "2010-01-05 11:25:00  4.506373  4.535893  4.841102 2010-01-05 11:20:00  21044845   -0.017018   -0.031075\n",
      "2010-01-05 11:30:00  4.499002  4.506550  4.716089 2010-01-05 11:25:00  21044850   -0.006469   -0.001636\n",
      "2010-01-05 11:35:00  4.679065  4.665719  4.598239 2010-01-05 11:30:00  21044855    0.035319    0.040023\n",
      "now= 2010-01-05 11:36:00\n",
      "now= 2010-01-05 11:37:00\n",
      "now= 2010-01-05 11:38:00\n",
      "now= 2010-01-05 11:39:00\n",
      "now= 2010-01-05 11:40:00\n",
      "Time to execute the DAG\n"
     ]
    },
    {
     "data": {
      "application/vnd.jupyter.widget-view+json": {
       "model_id": "a2560f872cfe48ef94b7aa27a24211b2",
       "version_major": 2,
       "version_minor": 0
      },
      "text/plain": [
       "run_leq_node:   0%|          | 0/6 [00:00<?, ?it/s]"
      ]
     },
     "metadata": {},
     "output_type": "display_data"
    },
    {
     "name": "stdout",
     "output_type": "stream",
     "text": [
      "                         vwap      twap      last bar_start_timestamp    minute  twap_ret_0  vwap_ret_0\n",
      "2010-01-05 11:30:00  4.499002  4.506550  4.716089 2010-01-05 11:25:00  21044850   -0.006469   -0.001636\n",
      "2010-01-05 11:35:00  4.679065  4.665719  4.598239 2010-01-05 11:30:00  21044855    0.035319    0.040023\n",
      "2010-01-05 11:40:00  4.371954  4.365928  4.293973 2010-01-05 11:35:00  21044860   -0.064254   -0.065635\n",
      "now= 2010-01-05 11:41:00\n",
      "now= 2010-01-05 11:42:00\n",
      "now= 2010-01-05 11:43:00\n",
      "now= 2010-01-05 11:44:00\n",
      "now= 2010-01-05 11:45:00\n",
      "Time to execute the DAG\n"
     ]
    },
    {
     "data": {
      "application/vnd.jupyter.widget-view+json": {
       "model_id": "950530f38be943e6bb93ced8d7346876",
       "version_major": 2,
       "version_minor": 0
      },
      "text/plain": [
       "run_leq_node:   0%|          | 0/6 [00:00<?, ?it/s]"
      ]
     },
     "metadata": {},
     "output_type": "display_data"
    },
    {
     "name": "stdout",
     "output_type": "stream",
     "text": [
      "                         vwap      twap      last bar_start_timestamp    minute  twap_ret_0  vwap_ret_0\n",
      "2010-01-05 11:35:00  4.679065  4.665719  4.598239 2010-01-05 11:30:00  21044855    0.035319    0.040023\n",
      "2010-01-05 11:40:00  4.371954  4.365928  4.293973 2010-01-05 11:35:00  21044860   -0.064254   -0.065635\n",
      "2010-01-05 11:45:00  4.062536  3.932994  3.284077 2010-01-05 11:40:00  21044865   -0.099162   -0.070773\n",
      "now= 2010-01-05 11:46:00\n",
      "now= 2010-01-05 11:47:00\n",
      "now= 2010-01-05 11:48:00\n",
      "now= 2010-01-05 11:49:00\n",
      "now= 2010-01-05 11:50:00\n",
      "Time to execute the DAG\n"
     ]
    },
    {
     "data": {
      "application/vnd.jupyter.widget-view+json": {
       "model_id": "171435afe6ef49de9be977005c26efbd",
       "version_major": 2,
       "version_minor": 0
      },
      "text/plain": [
       "run_leq_node:   0%|          | 0/6 [00:00<?, ?it/s]"
      ]
     },
     "metadata": {},
     "output_type": "display_data"
    },
    {
     "name": "stdout",
     "output_type": "stream",
     "text": [
      "                         vwap      twap      last bar_start_timestamp    minute  twap_ret_0  vwap_ret_0\n",
      "2010-01-05 11:40:00  4.371954  4.365928  4.293973 2010-01-05 11:35:00  21044860   -0.064254   -0.065635\n",
      "2010-01-05 11:45:00  4.062536  3.932994  3.284077 2010-01-05 11:40:00  21044865   -0.099162   -0.070773\n",
      "2010-01-05 11:50:00  4.796214  3.545939  3.525345 2010-01-05 11:45:00  21044870   -0.098412    0.180596\n",
      "now= 2010-01-05 11:51:00\n",
      "now= 2010-01-05 11:52:00\n",
      "now= 2010-01-05 11:53:00\n",
      "now= 2010-01-05 11:54:00\n",
      "now= 2010-01-05 11:55:00\n",
      "Time to execute the DAG\n"
     ]
    },
    {
     "data": {
      "application/vnd.jupyter.widget-view+json": {
       "model_id": "6c7d27288a9d47eb8da29e8a4f62ffd0",
       "version_major": 2,
       "version_minor": 0
      },
      "text/plain": [
       "run_leq_node:   0%|          | 0/6 [00:00<?, ?it/s]"
      ]
     },
     "metadata": {},
     "output_type": "display_data"
    },
    {
     "name": "stdout",
     "output_type": "stream",
     "text": [
      "                         vwap      twap      last bar_start_timestamp    minute  twap_ret_0  vwap_ret_0\n",
      "2010-01-05 11:45:00  4.062536  3.932994  3.284077 2010-01-05 11:40:00  21044865   -0.099162   -0.070773\n",
      "2010-01-05 11:50:00  4.796214  3.545939  3.525345 2010-01-05 11:45:00  21044870   -0.098412    0.180596\n",
      "2010-01-05 11:55:00  3.438009  3.560640  2.975987 2010-01-05 11:50:00  21044875    0.004146   -0.283183\n",
      "now= 2010-01-05 11:56:00\n",
      "now= 2010-01-05 11:57:00\n",
      "now= 2010-01-05 11:58:00\n",
      "now= 2010-01-05 11:59:00\n",
      "now= 2010-01-05 12:00:00\n",
      "Time to execute the DAG\n"
     ]
    },
    {
     "data": {
      "application/vnd.jupyter.widget-view+json": {
       "model_id": "8a127d8599904decbb2f32fd8ff86150",
       "version_major": 2,
       "version_minor": 0
      },
      "text/plain": [
       "run_leq_node:   0%|          | 0/6 [00:00<?, ?it/s]"
      ]
     },
     "metadata": {},
     "output_type": "display_data"
    },
    {
     "name": "stdout",
     "output_type": "stream",
     "text": [
      "                         vwap      twap      last bar_start_timestamp    minute  twap_ret_0  vwap_ret_0\n",
      "2010-01-05 11:50:00  4.796214  3.545939  3.525345 2010-01-05 11:45:00  21044870   -0.098412    0.180596\n",
      "2010-01-05 11:55:00  3.438009  3.560640  2.975987 2010-01-05 11:50:00  21044875    0.004146   -0.283183\n",
      "2010-01-05 12:00:00  3.055410  3.040012  2.511220 2010-01-05 11:55:00  21044880   -0.146217   -0.111285\n",
      "now= 2010-01-05 12:01:00\n",
      "now= 2010-01-05 12:02:00\n",
      "now= 2010-01-05 12:03:00\n",
      "now= 2010-01-05 12:04:00\n",
      "now= 2010-01-05 12:05:00\n",
      "Time to execute the DAG\n"
     ]
    },
    {
     "data": {
      "application/vnd.jupyter.widget-view+json": {
       "model_id": "95df72f238994949b0427577ec77e0bb",
       "version_major": 2,
       "version_minor": 0
      },
      "text/plain": [
       "run_leq_node:   0%|          | 0/6 [00:00<?, ?it/s]"
      ]
     },
     "metadata": {},
     "output_type": "display_data"
    },
    {
     "name": "stdout",
     "output_type": "stream",
     "text": [
      "                         vwap      twap      last bar_start_timestamp    minute  twap_ret_0  vwap_ret_0\n",
      "2010-01-05 11:55:00  3.438009  3.560640  2.975987 2010-01-05 11:50:00  21044875    0.004146   -0.283183\n",
      "2010-01-05 12:00:00  3.055410  3.040012  2.511220 2010-01-05 11:55:00  21044880   -0.146217   -0.111285\n",
      "2010-01-05 12:05:00  2.437375  2.460333  2.498458 2010-01-05 12:00:00  21044885   -0.190683   -0.202276\n",
      "now= 2010-01-05 12:06:00\n",
      "now= 2010-01-05 12:07:00\n",
      "now= 2010-01-05 12:08:00\n",
      "now= 2010-01-05 12:09:00\n",
      "now= 2010-01-05 12:10:00\n",
      "Time to execute the DAG\n"
     ]
    },
    {
     "data": {
      "application/vnd.jupyter.widget-view+json": {
       "model_id": "4fd39839e1f2454592b4a966b875b4fa",
       "version_major": 2,
       "version_minor": 0
      },
      "text/plain": [
       "run_leq_node:   0%|          | 0/6 [00:00<?, ?it/s]"
      ]
     },
     "metadata": {},
     "output_type": "display_data"
    },
    {
     "name": "stdout",
     "output_type": "stream",
     "text": [
      "                         vwap      twap      last bar_start_timestamp    minute  twap_ret_0  vwap_ret_0\n",
      "2010-01-05 12:00:00  3.055410  3.040012  2.511220 2010-01-05 11:55:00  21044880   -0.146217   -0.111285\n",
      "2010-01-05 12:05:00  2.437375  2.460333  2.498458 2010-01-05 12:00:00  21044885   -0.190683   -0.202276\n",
      "2010-01-05 12:10:00  1.718426  1.758983  1.490486 2010-01-05 12:05:00  21044890   -0.285063   -0.294969\n",
      "now= 2010-01-05 12:11:00\n",
      "now= 2010-01-05 12:12:00\n",
      "now= 2010-01-05 12:13:00\n",
      "now= 2010-01-05 12:14:00\n",
      "now= 2010-01-05 12:15:00\n",
      "Time to execute the DAG\n"
     ]
    },
    {
     "data": {
      "application/vnd.jupyter.widget-view+json": {
       "model_id": "c141ed1f19484f468f815adfecd82c5f",
       "version_major": 2,
       "version_minor": 0
      },
      "text/plain": [
       "run_leq_node:   0%|          | 0/6 [00:00<?, ?it/s]"
      ]
     },
     "metadata": {},
     "output_type": "display_data"
    },
    {
     "name": "stdout",
     "output_type": "stream",
     "text": [
      "                         vwap      twap      last bar_start_timestamp    minute  twap_ret_0  vwap_ret_0\n",
      "2010-01-05 12:05:00  2.437375  2.460333  2.498458 2010-01-05 12:00:00  21044885   -0.190683   -0.202276\n",
      "2010-01-05 12:10:00  1.718426  1.758983  1.490486 2010-01-05 12:05:00  21044890   -0.285063   -0.294969\n",
      "2010-01-05 12:15:00  1.706719  1.715169  1.647020 2010-01-05 12:10:00  21044895   -0.024909   -0.006813\n",
      "now= 2010-01-05 12:16:00\n",
      "now= 2010-01-05 12:17:00\n",
      "now= 2010-01-05 12:18:00\n",
      "now= 2010-01-05 12:19:00\n",
      "now= 2010-01-05 12:20:00\n",
      "Time to execute the DAG\n"
     ]
    },
    {
     "data": {
      "application/vnd.jupyter.widget-view+json": {
       "model_id": "72c63dc785724ea5991064bc769cfb84",
       "version_major": 2,
       "version_minor": 0
      },
      "text/plain": [
       "run_leq_node:   0%|          | 0/6 [00:00<?, ?it/s]"
      ]
     },
     "metadata": {},
     "output_type": "display_data"
    },
    {
     "name": "stdout",
     "output_type": "stream",
     "text": [
      "                         vwap      twap      last bar_start_timestamp    minute  twap_ret_0  vwap_ret_0\n",
      "2010-01-05 12:10:00  1.718426  1.758983  1.490486 2010-01-05 12:05:00  21044890   -0.285063   -0.294969\n",
      "2010-01-05 12:15:00  1.706719  1.715169  1.647020 2010-01-05 12:10:00  21044895   -0.024909   -0.006813\n",
      "2010-01-05 12:20:00  1.607466  1.734828  2.253499 2010-01-05 12:15:00  21044900    0.011462   -0.058154\n",
      "now= 2010-01-05 12:21:00\n",
      "now= 2010-01-05 12:22:00\n",
      "now= 2010-01-05 12:23:00\n",
      "now= 2010-01-05 12:24:00\n",
      "now= 2010-01-05 12:25:00\n",
      "Time to execute the DAG\n"
     ]
    },
    {
     "data": {
      "application/vnd.jupyter.widget-view+json": {
       "model_id": "81b34b9ce1664586bf055bd78845cbcf",
       "version_major": 2,
       "version_minor": 0
      },
      "text/plain": [
       "run_leq_node:   0%|          | 0/6 [00:00<?, ?it/s]"
      ]
     },
     "metadata": {},
     "output_type": "display_data"
    },
    {
     "name": "stdout",
     "output_type": "stream",
     "text": [
      "                         vwap      twap      last bar_start_timestamp    minute  twap_ret_0  vwap_ret_0\n",
      "2010-01-05 12:15:00  1.706719  1.715169  1.647020 2010-01-05 12:10:00  21044895   -0.024909   -0.006813\n",
      "2010-01-05 12:20:00  1.607466  1.734828  2.253499 2010-01-05 12:15:00  21044900    0.011462   -0.058154\n",
      "2010-01-05 12:25:00  3.615878  3.267567  3.624466 2010-01-05 12:20:00  21044905    0.883511    1.249427\n",
      "now= 2010-01-05 12:26:00\n",
      "now= 2010-01-05 12:27:00\n",
      "now= 2010-01-05 12:28:00\n",
      "now= 2010-01-05 12:29:00\n",
      "now= 2010-01-05 12:30:00\n",
      "Time to execute the DAG\n"
     ]
    },
    {
     "data": {
      "application/vnd.jupyter.widget-view+json": {
       "model_id": "753836c814aa491596e0802ea0d1abfe",
       "version_major": 2,
       "version_minor": 0
      },
      "text/plain": [
       "run_leq_node:   0%|          | 0/6 [00:00<?, ?it/s]"
      ]
     },
     "metadata": {},
     "output_type": "display_data"
    },
    {
     "name": "stdout",
     "output_type": "stream",
     "text": [
      "                         vwap      twap      last bar_start_timestamp    minute  twap_ret_0  vwap_ret_0\n",
      "2010-01-05 12:20:00  1.607466  1.734828  2.253499 2010-01-05 12:15:00  21044900    0.011462   -0.058154\n",
      "2010-01-05 12:25:00  3.615878  3.267567  3.624466 2010-01-05 12:20:00  21044905    0.883511    1.249427\n",
      "2010-01-05 12:30:00  3.308925  3.315365  3.223887 2010-01-05 12:25:00  21044910    0.014628   -0.084890\n",
      "now= 2010-01-05 12:31:00\n",
      "now= 2010-01-05 12:32:00\n",
      "now= 2010-01-05 12:33:00\n",
      "now= 2010-01-05 12:34:00\n",
      "now= 2010-01-05 12:35:00\n",
      "Time to execute the DAG\n"
     ]
    },
    {
     "data": {
      "application/vnd.jupyter.widget-view+json": {
       "model_id": "1e22f5069436483c9337b248c013bd13",
       "version_major": 2,
       "version_minor": 0
      },
      "text/plain": [
       "run_leq_node:   0%|          | 0/6 [00:00<?, ?it/s]"
      ]
     },
     "metadata": {},
     "output_type": "display_data"
    },
    {
     "name": "stdout",
     "output_type": "stream",
     "text": [
      "                         vwap      twap      last bar_start_timestamp    minute  twap_ret_0  vwap_ret_0\n",
      "2010-01-05 12:25:00  3.615878  3.267567  3.624466 2010-01-05 12:20:00  21044905    0.883511    1.249427\n",
      "2010-01-05 12:30:00  3.308925  3.315365  3.223887 2010-01-05 12:25:00  21044910    0.014628   -0.084890\n",
      "2010-01-05 12:35:00  3.943146  3.929207  4.603427 2010-01-05 12:30:00  21044915    0.185151    0.191670\n",
      "now= 2010-01-05 12:36:00\n",
      "now= 2010-01-05 12:37:00\n",
      "now= 2010-01-05 12:38:00\n",
      "now= 2010-01-05 12:39:00\n",
      "now= 2010-01-05 12:40:00\n",
      "Time to execute the DAG\n"
     ]
    },
    {
     "data": {
      "application/vnd.jupyter.widget-view+json": {
       "model_id": "1203281e7bef453499e6ade25745d5ac",
       "version_major": 2,
       "version_minor": 0
      },
      "text/plain": [
       "run_leq_node:   0%|          | 0/6 [00:00<?, ?it/s]"
      ]
     },
     "metadata": {},
     "output_type": "display_data"
    },
    {
     "name": "stdout",
     "output_type": "stream",
     "text": [
      "                         vwap      twap      last bar_start_timestamp    minute  twap_ret_0  vwap_ret_0\n",
      "2010-01-05 12:30:00  3.308925  3.315365  3.223887 2010-01-05 12:25:00  21044910    0.014628   -0.084890\n",
      "2010-01-05 12:35:00  3.943146  3.929207  4.603427 2010-01-05 12:30:00  21044915    0.185151    0.191670\n",
      "2010-01-05 12:40:00  3.792698  3.826406  3.925933 2010-01-05 12:35:00  21044920   -0.026163   -0.038154\n",
      "now= 2010-01-05 12:41:00\n",
      "now= 2010-01-05 12:42:00\n",
      "now= 2010-01-05 12:43:00\n",
      "now= 2010-01-05 12:44:00\n",
      "now= 2010-01-05 12:45:00\n",
      "Time to execute the DAG\n"
     ]
    },
    {
     "data": {
      "application/vnd.jupyter.widget-view+json": {
       "model_id": "d231585cc9d6416cb3feeba291eb604b",
       "version_major": 2,
       "version_minor": 0
      },
      "text/plain": [
       "run_leq_node:   0%|          | 0/6 [00:00<?, ?it/s]"
      ]
     },
     "metadata": {},
     "output_type": "display_data"
    },
    {
     "name": "stdout",
     "output_type": "stream",
     "text": [
      "                         vwap      twap      last bar_start_timestamp    minute  twap_ret_0  vwap_ret_0\n",
      "2010-01-05 12:35:00  3.943146  3.929207  4.603427 2010-01-05 12:30:00  21044915    0.185151    0.191670\n",
      "2010-01-05 12:40:00  3.792698  3.826406  3.925933 2010-01-05 12:35:00  21044920   -0.026163   -0.038154\n",
      "2010-01-05 12:45:00  4.036457  4.042775  4.072262 2010-01-05 12:40:00  21044925    0.056546    0.064271\n",
      "now= 2010-01-05 12:46:00\n",
      "now= 2010-01-05 12:47:00\n",
      "now= 2010-01-05 12:48:00\n",
      "now= 2010-01-05 12:49:00\n",
      "now= 2010-01-05 12:50:00\n",
      "Time to execute the DAG\n"
     ]
    },
    {
     "data": {
      "application/vnd.jupyter.widget-view+json": {
       "model_id": "14b88c6f8f5b478fb2b50caa4960bcc0",
       "version_major": 2,
       "version_minor": 0
      },
      "text/plain": [
       "run_leq_node:   0%|          | 0/6 [00:00<?, ?it/s]"
      ]
     },
     "metadata": {},
     "output_type": "display_data"
    },
    {
     "name": "stdout",
     "output_type": "stream",
     "text": [
      "                         vwap      twap      last bar_start_timestamp    minute  twap_ret_0  vwap_ret_0\n",
      "2010-01-05 12:40:00  3.792698  3.826406  3.925933 2010-01-05 12:35:00  21044920   -0.026163   -0.038154\n",
      "2010-01-05 12:45:00  4.036457  4.042775  4.072262 2010-01-05 12:40:00  21044925    0.056546    0.064271\n",
      "2010-01-05 12:50:00  4.326305  4.332604  4.345400 2010-01-05 12:45:00  21044930    0.071690    0.071807\n",
      "now= 2010-01-05 12:51:00\n",
      "now= 2010-01-05 12:52:00\n",
      "now= 2010-01-05 12:53:00\n",
      "now= 2010-01-05 12:54:00\n",
      "now= 2010-01-05 12:55:00\n",
      "Time to execute the DAG\n"
     ]
    },
    {
     "data": {
      "application/vnd.jupyter.widget-view+json": {
       "model_id": "f155bf0825a04d77b54044909bc94527",
       "version_major": 2,
       "version_minor": 0
      },
      "text/plain": [
       "run_leq_node:   0%|          | 0/6 [00:00<?, ?it/s]"
      ]
     },
     "metadata": {},
     "output_type": "display_data"
    },
    {
     "name": "stdout",
     "output_type": "stream",
     "text": [
      "                         vwap      twap      last bar_start_timestamp    minute  twap_ret_0  vwap_ret_0\n",
      "2010-01-05 12:45:00  4.036457  4.042775  4.072262 2010-01-05 12:40:00  21044925    0.056546    0.064271\n",
      "2010-01-05 12:50:00  4.326305  4.332604  4.345400 2010-01-05 12:45:00  21044930    0.071690    0.071807\n",
      "2010-01-05 12:55:00  4.214628  4.209724  4.174517 2010-01-05 12:50:00  21044935   -0.028362   -0.025814\n",
      "now= 2010-01-05 12:56:00\n",
      "now= 2010-01-05 12:57:00\n",
      "now= 2010-01-05 12:58:00\n",
      "now= 2010-01-05 12:59:00\n",
      "now= 2010-01-05 13:00:00\n",
      "Time to execute the DAG\n"
     ]
    },
    {
     "data": {
      "application/vnd.jupyter.widget-view+json": {
       "model_id": "efb3ac9c4efc4f88b5e0de1b335c3e92",
       "version_major": 2,
       "version_minor": 0
      },
      "text/plain": [
       "run_leq_node:   0%|          | 0/6 [00:00<?, ?it/s]"
      ]
     },
     "metadata": {},
     "output_type": "display_data"
    },
    {
     "name": "stdout",
     "output_type": "stream",
     "text": [
      "                         vwap      twap      last bar_start_timestamp    minute  twap_ret_0  vwap_ret_0\n",
      "2010-01-05 12:50:00  4.326305  4.332604  4.345400 2010-01-05 12:45:00  21044930    0.071690    0.071807\n",
      "2010-01-05 12:55:00  4.214628  4.209724  4.174517 2010-01-05 12:50:00  21044935   -0.028362   -0.025814\n",
      "2010-01-05 13:00:00  3.599492  3.666515  2.903044 2010-01-05 12:55:00  21044940   -0.129037   -0.145953\n",
      "now= 2010-01-05 13:01:00\n",
      "now= 2010-01-05 13:02:00\n",
      "now= 2010-01-05 13:03:00\n",
      "now= 2010-01-05 13:04:00\n",
      "now= 2010-01-05 13:05:00\n",
      "Time to execute the DAG\n"
     ]
    },
    {
     "data": {
      "application/vnd.jupyter.widget-view+json": {
       "model_id": "b20a2f41a45e4f1eb3c555d72305ceb9",
       "version_major": 2,
       "version_minor": 0
      },
      "text/plain": [
       "run_leq_node:   0%|          | 0/6 [00:00<?, ?it/s]"
      ]
     },
     "metadata": {},
     "output_type": "display_data"
    },
    {
     "name": "stdout",
     "output_type": "stream",
     "text": [
      "                         vwap      twap      last bar_start_timestamp    minute  twap_ret_0  vwap_ret_0\n",
      "2010-01-05 12:55:00  4.214628  4.209724  4.174517 2010-01-05 12:50:00  21044935   -0.028362   -0.025814\n",
      "2010-01-05 13:00:00  3.599492  3.666515  2.903044 2010-01-05 12:55:00  21044940   -0.129037   -0.145953\n",
      "2010-01-05 13:05:00  2.984113  2.984990  3.192959 2010-01-05 13:00:00  21044945   -0.185878   -0.170963\n",
      "now= 2010-01-05 13:06:00\n",
      "now= 2010-01-05 13:07:00\n",
      "now= 2010-01-05 13:08:00\n",
      "now= 2010-01-05 13:09:00\n",
      "now= 2010-01-05 13:10:00\n",
      "Time to execute the DAG\n"
     ]
    },
    {
     "data": {
      "application/vnd.jupyter.widget-view+json": {
       "model_id": "0ab4601d77804d9ebc1dbd84b9102190",
       "version_major": 2,
       "version_minor": 0
      },
      "text/plain": [
       "run_leq_node:   0%|          | 0/6 [00:00<?, ?it/s]"
      ]
     },
     "metadata": {},
     "output_type": "display_data"
    },
    {
     "name": "stdout",
     "output_type": "stream",
     "text": [
      "                         vwap      twap      last bar_start_timestamp    minute  twap_ret_0  vwap_ret_0\n",
      "2010-01-05 13:00:00  3.599492  3.666515  2.903044 2010-01-05 12:55:00  21044940   -0.129037   -0.145953\n",
      "2010-01-05 13:05:00  2.984113  2.984990  3.192959 2010-01-05 13:00:00  21044945   -0.185878   -0.170963\n",
      "2010-01-05 13:10:00  2.967272  2.937804  2.588831 2010-01-05 13:05:00  21044950   -0.015808   -0.005643\n",
      "now= 2010-01-05 13:11:00\n",
      "now= 2010-01-05 13:12:00\n",
      "now= 2010-01-05 13:13:00\n",
      "now= 2010-01-05 13:14:00\n",
      "now= 2010-01-05 13:15:00\n",
      "Time to execute the DAG\n"
     ]
    },
    {
     "data": {
      "application/vnd.jupyter.widget-view+json": {
       "model_id": "e19b3798a3d849e68502c79c11d8bb9f",
       "version_major": 2,
       "version_minor": 0
      },
      "text/plain": [
       "run_leq_node:   0%|          | 0/6 [00:00<?, ?it/s]"
      ]
     },
     "metadata": {},
     "output_type": "display_data"
    },
    {
     "name": "stdout",
     "output_type": "stream",
     "text": [
      "                         vwap      twap      last bar_start_timestamp    minute  twap_ret_0  vwap_ret_0\n",
      "2010-01-05 13:05:00  2.984113  2.984990  3.192959 2010-01-05 13:00:00  21044945   -0.185878   -0.170963\n",
      "2010-01-05 13:10:00  2.967272  2.937804  2.588831 2010-01-05 13:05:00  21044950   -0.015808   -0.005643\n",
      "2010-01-05 13:15:00  2.627078  2.624760  2.553504 2010-01-05 13:10:00  21044955   -0.106557   -0.114649\n",
      "now= 2010-01-05 13:16:00\n",
      "now= 2010-01-05 13:17:00\n",
      "now= 2010-01-05 13:18:00\n",
      "now= 2010-01-05 13:19:00\n",
      "now= 2010-01-05 13:20:00\n",
      "Time to execute the DAG\n"
     ]
    },
    {
     "data": {
      "application/vnd.jupyter.widget-view+json": {
       "model_id": "d5763e3ec10842fcadd4542d2f725abe",
       "version_major": 2,
       "version_minor": 0
      },
      "text/plain": [
       "run_leq_node:   0%|          | 0/6 [00:00<?, ?it/s]"
      ]
     },
     "metadata": {},
     "output_type": "display_data"
    },
    {
     "name": "stdout",
     "output_type": "stream",
     "text": [
      "                         vwap      twap      last bar_start_timestamp    minute  twap_ret_0  vwap_ret_0\n",
      "2010-01-05 13:10:00  2.967272  2.937804  2.588831 2010-01-05 13:05:00  21044950   -0.015808   -0.005643\n",
      "2010-01-05 13:15:00  2.627078  2.624760  2.553504 2010-01-05 13:10:00  21044955   -0.106557   -0.114649\n",
      "2010-01-05 13:20:00  2.961858  2.957094  2.968446 2010-01-05 13:15:00  21044960    0.126615    0.127434\n",
      "now= 2010-01-05 13:21:00\n",
      "now= 2010-01-05 13:22:00\n",
      "now= 2010-01-05 13:23:00\n",
      "now= 2010-01-05 13:24:00\n",
      "now= 2010-01-05 13:25:00\n",
      "Time to execute the DAG\n"
     ]
    },
    {
     "data": {
      "application/vnd.jupyter.widget-view+json": {
       "model_id": "34f0d291d60f4f28b922d215f0018710",
       "version_major": 2,
       "version_minor": 0
      },
      "text/plain": [
       "run_leq_node:   0%|          | 0/6 [00:00<?, ?it/s]"
      ]
     },
     "metadata": {},
     "output_type": "display_data"
    },
    {
     "name": "stdout",
     "output_type": "stream",
     "text": [
      "                         vwap      twap      last bar_start_timestamp    minute  twap_ret_0  vwap_ret_0\n",
      "2010-01-05 13:15:00  2.627078  2.624760  2.553504 2010-01-05 13:10:00  21044955   -0.106557   -0.114649\n",
      "2010-01-05 13:20:00  2.961858  2.957094  2.968446 2010-01-05 13:15:00  21044960    0.126615    0.127434\n",
      "2010-01-05 13:25:00  3.343022  3.352836  3.596006 2010-01-05 13:20:00  21044965    0.133828    0.128691\n",
      "now= 2010-01-05 13:26:00\n",
      "now= 2010-01-05 13:27:00\n",
      "now= 2010-01-05 13:28:00\n",
      "now= 2010-01-05 13:29:00\n",
      "now= 2010-01-05 13:30:00\n",
      "Time to execute the DAG\n"
     ]
    },
    {
     "data": {
      "application/vnd.jupyter.widget-view+json": {
       "model_id": "b62a67f5787e43108c575c554250057a",
       "version_major": 2,
       "version_minor": 0
      },
      "text/plain": [
       "run_leq_node:   0%|          | 0/6 [00:00<?, ?it/s]"
      ]
     },
     "metadata": {},
     "output_type": "display_data"
    },
    {
     "name": "stdout",
     "output_type": "stream",
     "text": [
      "                         vwap      twap      last bar_start_timestamp    minute  twap_ret_0  vwap_ret_0\n",
      "2010-01-05 13:20:00  2.961858  2.957094  2.968446 2010-01-05 13:15:00  21044960    0.126615    0.127434\n",
      "2010-01-05 13:25:00  3.343022  3.352836  3.596006 2010-01-05 13:20:00  21044965    0.133828    0.128691\n",
      "2010-01-05 13:30:00  3.982771  3.967278  4.393151 2010-01-05 13:25:00  21044970    0.183260    0.191368\n",
      "now= 2010-01-05 13:31:00\n",
      "now= 2010-01-05 13:32:00\n",
      "now= 2010-01-05 13:33:00\n",
      "now= 2010-01-05 13:34:00\n",
      "now= 2010-01-05 13:35:00\n",
      "Time to execute the DAG\n"
     ]
    },
    {
     "data": {
      "application/vnd.jupyter.widget-view+json": {
       "model_id": "f364fd0a4e9a4035b1d32a548bb18f05",
       "version_major": 2,
       "version_minor": 0
      },
      "text/plain": [
       "run_leq_node:   0%|          | 0/6 [00:00<?, ?it/s]"
      ]
     },
     "metadata": {},
     "output_type": "display_data"
    },
    {
     "name": "stdout",
     "output_type": "stream",
     "text": [
      "                         vwap      twap      last bar_start_timestamp    minute  twap_ret_0  vwap_ret_0\n",
      "2010-01-05 13:25:00  3.343022  3.352836  3.596006 2010-01-05 13:20:00  21044965    0.133828    0.128691\n",
      "2010-01-05 13:30:00  3.982771  3.967278  4.393151 2010-01-05 13:25:00  21044970    0.183260    0.191368\n",
      "2010-01-05 13:35:00  4.993703  4.989642  4.802049 2010-01-05 13:30:00  21044975    0.257699    0.253826\n",
      "now= 2010-01-05 13:36:00\n",
      "now= 2010-01-05 13:37:00\n",
      "now= 2010-01-05 13:38:00\n",
      "now= 2010-01-05 13:39:00\n",
      "now= 2010-01-05 13:40:00\n",
      "Time to execute the DAG\n"
     ]
    },
    {
     "data": {
      "application/vnd.jupyter.widget-view+json": {
       "model_id": "d62ca3935dbe44fbac4e9a5efd645b4a",
       "version_major": 2,
       "version_minor": 0
      },
      "text/plain": [
       "run_leq_node:   0%|          | 0/6 [00:00<?, ?it/s]"
      ]
     },
     "metadata": {},
     "output_type": "display_data"
    },
    {
     "name": "stdout",
     "output_type": "stream",
     "text": [
      "                         vwap      twap      last bar_start_timestamp    minute  twap_ret_0  vwap_ret_0\n",
      "2010-01-05 13:30:00  3.982771  3.967278  4.393151 2010-01-05 13:25:00  21044970    0.183260    0.191368\n",
      "2010-01-05 13:35:00  4.993703  4.989642  4.802049 2010-01-05 13:30:00  21044975    0.257699    0.253826\n",
      "2010-01-05 13:40:00  4.973579  4.975582  5.530040 2010-01-05 13:35:00  21044980   -0.002818   -0.004030\n",
      "now= 2010-01-05 13:41:00\n",
      "now= 2010-01-05 13:42:00\n",
      "now= 2010-01-05 13:43:00\n",
      "now= 2010-01-05 13:44:00\n",
      "now= 2010-01-05 13:45:00\n",
      "Time to execute the DAG\n"
     ]
    },
    {
     "data": {
      "application/vnd.jupyter.widget-view+json": {
       "model_id": "999423b79c9b437980ec62277135fb38",
       "version_major": 2,
       "version_minor": 0
      },
      "text/plain": [
       "run_leq_node:   0%|          | 0/6 [00:00<?, ?it/s]"
      ]
     },
     "metadata": {},
     "output_type": "display_data"
    },
    {
     "name": "stdout",
     "output_type": "stream",
     "text": [
      "                         vwap      twap      last bar_start_timestamp    minute  twap_ret_0  vwap_ret_0\n",
      "2010-01-05 13:35:00  4.993703  4.989642  4.802049 2010-01-05 13:30:00  21044975    0.257699    0.253826\n",
      "2010-01-05 13:40:00  4.973579  4.975582  5.530040 2010-01-05 13:35:00  21044980   -0.002818   -0.004030\n",
      "2010-01-05 13:45:00  4.916123  4.921393  5.192094 2010-01-05 13:40:00  21044985   -0.010891   -0.011552\n",
      "now= 2010-01-05 13:46:00\n",
      "now= 2010-01-05 13:47:00\n",
      "now= 2010-01-05 13:48:00\n",
      "now= 2010-01-05 13:49:00\n",
      "now= 2010-01-05 13:50:00\n",
      "Time to execute the DAG\n"
     ]
    },
    {
     "data": {
      "application/vnd.jupyter.widget-view+json": {
       "model_id": "d541f6c9319e4e16bfc495fded386985",
       "version_major": 2,
       "version_minor": 0
      },
      "text/plain": [
       "run_leq_node:   0%|          | 0/6 [00:00<?, ?it/s]"
      ]
     },
     "metadata": {},
     "output_type": "display_data"
    },
    {
     "name": "stdout",
     "output_type": "stream",
     "text": [
      "                         vwap      twap      last bar_start_timestamp    minute  twap_ret_0  vwap_ret_0\n",
      "2010-01-05 13:40:00  4.973579  4.975582  5.530040 2010-01-05 13:35:00  21044980   -0.002818   -0.004030\n",
      "2010-01-05 13:45:00  4.916123  4.921393  5.192094 2010-01-05 13:40:00  21044985   -0.010891   -0.011552\n",
      "2010-01-05 13:50:00  4.974244  4.964357  4.571130 2010-01-05 13:45:00  21044990    0.008730    0.011823\n",
      "now= 2010-01-05 13:51:00\n",
      "now= 2010-01-05 13:52:00\n",
      "now= 2010-01-05 13:53:00\n",
      "now= 2010-01-05 13:54:00\n",
      "now= 2010-01-05 13:55:00\n",
      "Time to execute the DAG\n"
     ]
    },
    {
     "data": {
      "application/vnd.jupyter.widget-view+json": {
       "model_id": "3d913c1bf2814d1abb06d6937d7d94c4",
       "version_major": 2,
       "version_minor": 0
      },
      "text/plain": [
       "run_leq_node:   0%|          | 0/6 [00:00<?, ?it/s]"
      ]
     },
     "metadata": {},
     "output_type": "display_data"
    },
    {
     "name": "stdout",
     "output_type": "stream",
     "text": [
      "                         vwap      twap      last bar_start_timestamp    minute  twap_ret_0  vwap_ret_0\n",
      "2010-01-05 13:45:00  4.916123  4.921393  5.192094 2010-01-05 13:40:00  21044985   -0.010891   -0.011552\n",
      "2010-01-05 13:50:00  4.974244  4.964357  4.571130 2010-01-05 13:45:00  21044990    0.008730    0.011823\n",
      "2010-01-05 13:55:00  3.824368  3.810694  3.261404 2010-01-05 13:50:00  21044995   -0.232389   -0.231166\n",
      "now= 2010-01-05 13:56:00\n",
      "now= 2010-01-05 13:57:00\n",
      "now= 2010-01-05 13:58:00\n",
      "now= 2010-01-05 13:59:00\n",
      "now= 2010-01-05 14:00:00\n",
      "Time to execute the DAG\n"
     ]
    },
    {
     "data": {
      "application/vnd.jupyter.widget-view+json": {
       "model_id": "4a49aeb4af72496bb3e14f9da8934af1",
       "version_major": 2,
       "version_minor": 0
      },
      "text/plain": [
       "run_leq_node:   0%|          | 0/6 [00:00<?, ?it/s]"
      ]
     },
     "metadata": {},
     "output_type": "display_data"
    },
    {
     "name": "stdout",
     "output_type": "stream",
     "text": [
      "                         vwap      twap      last bar_start_timestamp    minute  twap_ret_0  vwap_ret_0\n",
      "2010-01-05 13:50:00  4.974244  4.964357  4.571130 2010-01-05 13:45:00  21044990    0.008730    0.011823\n",
      "2010-01-05 13:55:00  3.824368  3.810694  3.261404 2010-01-05 13:50:00  21044995   -0.232389   -0.231166\n",
      "2010-01-05 14:00:00  3.670791  3.659422  4.180531 2010-01-05 13:55:00  21045000   -0.039697   -0.040157\n",
      "now= 2010-01-05 14:01:00\n",
      "now= 2010-01-05 14:02:00\n",
      "now= 2010-01-05 14:03:00\n",
      "now= 2010-01-05 14:04:00\n",
      "now= 2010-01-05 14:05:00\n",
      "Time to execute the DAG\n"
     ]
    },
    {
     "data": {
      "application/vnd.jupyter.widget-view+json": {
       "model_id": "197c868051054cd589c7bd1ded43a4c1",
       "version_major": 2,
       "version_minor": 0
      },
      "text/plain": [
       "run_leq_node:   0%|          | 0/6 [00:00<?, ?it/s]"
      ]
     },
     "metadata": {},
     "output_type": "display_data"
    },
    {
     "name": "stdout",
     "output_type": "stream",
     "text": [
      "                         vwap      twap      last bar_start_timestamp    minute  twap_ret_0  vwap_ret_0\n",
      "2010-01-05 13:55:00  3.824368  3.810694  3.261404 2010-01-05 13:50:00  21044995   -0.232389   -0.231166\n",
      "2010-01-05 14:00:00  3.670791  3.659422  4.180531 2010-01-05 13:55:00  21045000   -0.039697   -0.040157\n",
      "2010-01-05 14:05:00  4.370451  4.363440  4.625563 2010-01-05 14:00:00  21045005    0.192385    0.190602\n",
      "now= 2010-01-05 14:06:00\n",
      "now= 2010-01-05 14:07:00\n",
      "now= 2010-01-05 14:08:00\n",
      "now= 2010-01-05 14:09:00\n",
      "now= 2010-01-05 14:10:00\n",
      "Time to execute the DAG\n"
     ]
    },
    {
     "data": {
      "application/vnd.jupyter.widget-view+json": {
       "model_id": "62800621d99c467bae5c9ce7da123a25",
       "version_major": 2,
       "version_minor": 0
      },
      "text/plain": [
       "run_leq_node:   0%|          | 0/6 [00:00<?, ?it/s]"
      ]
     },
     "metadata": {},
     "output_type": "display_data"
    },
    {
     "name": "stdout",
     "output_type": "stream",
     "text": [
      "                         vwap      twap      last bar_start_timestamp    minute  twap_ret_0  vwap_ret_0\n",
      "2010-01-05 14:00:00  3.670791  3.659422  4.180531 2010-01-05 13:55:00  21045000   -0.039697   -0.040157\n",
      "2010-01-05 14:05:00  4.370451  4.363440  4.625563 2010-01-05 14:00:00  21045005    0.192385    0.190602\n",
      "2010-01-05 14:10:00  5.014082  5.008824  5.266640 2010-01-05 14:05:00  21045010    0.147907    0.147269\n",
      "now= 2010-01-05 14:11:00\n",
      "now= 2010-01-05 14:12:00\n",
      "now= 2010-01-05 14:13:00\n",
      "now= 2010-01-05 14:14:00\n",
      "now= 2010-01-05 14:15:00\n",
      "Time to execute the DAG\n"
     ]
    },
    {
     "data": {
      "application/vnd.jupyter.widget-view+json": {
       "model_id": "99e2f99138b54e3bb7fb451e42e7d5f8",
       "version_major": 2,
       "version_minor": 0
      },
      "text/plain": [
       "run_leq_node:   0%|          | 0/6 [00:00<?, ?it/s]"
      ]
     },
     "metadata": {},
     "output_type": "display_data"
    },
    {
     "name": "stdout",
     "output_type": "stream",
     "text": [
      "                         vwap      twap      last bar_start_timestamp    minute  twap_ret_0  vwap_ret_0\n",
      "2010-01-05 14:05:00  4.370451  4.363440  4.625563 2010-01-05 14:00:00  21045005    0.192385    0.190602\n",
      "2010-01-05 14:10:00  5.014082  5.008824  5.266640 2010-01-05 14:05:00  21045010    0.147907    0.147269\n",
      "2010-01-05 14:15:00  5.209644  5.194435  5.291126 2010-01-05 14:10:00  21045015    0.037057    0.039002\n",
      "now= 2010-01-05 14:16:00\n",
      "now= 2010-01-05 14:17:00\n",
      "now= 2010-01-05 14:18:00\n",
      "now= 2010-01-05 14:19:00\n",
      "now= 2010-01-05 14:20:00\n",
      "Time to execute the DAG\n"
     ]
    },
    {
     "data": {
      "application/vnd.jupyter.widget-view+json": {
       "model_id": "e4ed51c710dc4803ac3ed840ea66cb3c",
       "version_major": 2,
       "version_minor": 0
      },
      "text/plain": [
       "run_leq_node:   0%|          | 0/6 [00:00<?, ?it/s]"
      ]
     },
     "metadata": {},
     "output_type": "display_data"
    },
    {
     "name": "stdout",
     "output_type": "stream",
     "text": [
      "                         vwap      twap      last bar_start_timestamp    minute  twap_ret_0  vwap_ret_0\n",
      "2010-01-05 14:10:00  5.014082  5.008824  5.266640 2010-01-05 14:05:00  21045010    0.147907    0.147269\n",
      "2010-01-05 14:15:00  5.209644  5.194435  5.291126 2010-01-05 14:10:00  21045015    0.037057    0.039002\n",
      "2010-01-05 14:20:00  5.662332  5.658701  5.876006 2010-01-05 14:15:00  21045020    0.089377    0.086894\n",
      "now= 2010-01-05 14:21:00\n",
      "now= 2010-01-05 14:22:00\n",
      "now= 2010-01-05 14:23:00\n",
      "now= 2010-01-05 14:24:00\n",
      "now= 2010-01-05 14:25:00\n",
      "Time to execute the DAG\n"
     ]
    },
    {
     "data": {
      "application/vnd.jupyter.widget-view+json": {
       "model_id": "7f02d968a95443db92802845def6f63e",
       "version_major": 2,
       "version_minor": 0
      },
      "text/plain": [
       "run_leq_node:   0%|          | 0/6 [00:00<?, ?it/s]"
      ]
     },
     "metadata": {},
     "output_type": "display_data"
    },
    {
     "name": "stdout",
     "output_type": "stream",
     "text": [
      "                         vwap      twap      last bar_start_timestamp    minute  twap_ret_0  vwap_ret_0\n",
      "2010-01-05 14:15:00  5.209644  5.194435  5.291126 2010-01-05 14:10:00  21045015    0.037057    0.039002\n",
      "2010-01-05 14:20:00  5.662332  5.658701  5.876006 2010-01-05 14:15:00  21045020    0.089377    0.086894\n",
      "2010-01-05 14:25:00  5.181221  5.185579  5.194404 2010-01-05 14:20:00  21045025   -0.083610   -0.084967\n",
      "now= 2010-01-05 14:26:00\n",
      "now= 2010-01-05 14:27:00\n",
      "now= 2010-01-05 14:28:00\n",
      "now= 2010-01-05 14:29:00\n",
      "now= 2010-01-05 14:30:00\n",
      "Time to execute the DAG\n"
     ]
    },
    {
     "data": {
      "application/vnd.jupyter.widget-view+json": {
       "model_id": "ad5ab57fb4634995b87312bb94bbe42e",
       "version_major": 2,
       "version_minor": 0
      },
      "text/plain": [
       "run_leq_node:   0%|          | 0/6 [00:00<?, ?it/s]"
      ]
     },
     "metadata": {},
     "output_type": "display_data"
    },
    {
     "name": "stdout",
     "output_type": "stream",
     "text": [
      "                         vwap      twap      last bar_start_timestamp    minute  twap_ret_0  vwap_ret_0\n",
      "2010-01-05 14:20:00  5.662332  5.658701  5.876006 2010-01-05 14:15:00  21045020    0.089377    0.086894\n",
      "2010-01-05 14:25:00  5.181221  5.185579  5.194404 2010-01-05 14:20:00  21045025   -0.083610   -0.084967\n",
      "2010-01-05 14:30:00  5.939018  5.948182  6.402342 2010-01-05 14:25:00  21045030    0.147062    0.146258\n",
      "now= 2010-01-05 14:31:00\n",
      "now= 2010-01-05 14:32:00\n",
      "now= 2010-01-05 14:33:00\n",
      "now= 2010-01-05 14:34:00\n",
      "now= 2010-01-05 14:35:00\n",
      "Time to execute the DAG\n"
     ]
    },
    {
     "data": {
      "application/vnd.jupyter.widget-view+json": {
       "model_id": "48ca44a26e1b46e1a5ca4b534aabaceb",
       "version_major": 2,
       "version_minor": 0
      },
      "text/plain": [
       "run_leq_node:   0%|          | 0/6 [00:00<?, ?it/s]"
      ]
     },
     "metadata": {},
     "output_type": "display_data"
    },
    {
     "name": "stdout",
     "output_type": "stream",
     "text": [
      "                         vwap      twap      last bar_start_timestamp    minute  twap_ret_0  vwap_ret_0\n",
      "2010-01-05 14:25:00  5.181221  5.185579  5.194404 2010-01-05 14:20:00  21045025   -0.083610   -0.084967\n",
      "2010-01-05 14:30:00  5.939018  5.948182  6.402342 2010-01-05 14:25:00  21045030    0.147062    0.146258\n",
      "2010-01-05 14:35:00  6.516608  6.520469  6.813644 2010-01-05 14:30:00  21045035    0.096212    0.097254\n",
      "now= 2010-01-05 14:36:00\n",
      "now= 2010-01-05 14:37:00\n",
      "now= 2010-01-05 14:38:00\n",
      "now= 2010-01-05 14:39:00\n",
      "now= 2010-01-05 14:40:00\n",
      "Time to execute the DAG\n"
     ]
    },
    {
     "data": {
      "application/vnd.jupyter.widget-view+json": {
       "model_id": "ba7d7649ea2d42ee80b864bfd5bcd95d",
       "version_major": 2,
       "version_minor": 0
      },
      "text/plain": [
       "run_leq_node:   0%|          | 0/6 [00:00<?, ?it/s]"
      ]
     },
     "metadata": {},
     "output_type": "display_data"
    },
    {
     "name": "stdout",
     "output_type": "stream",
     "text": [
      "                         vwap      twap      last bar_start_timestamp    minute  twap_ret_0  vwap_ret_0\n",
      "2010-01-05 14:30:00  5.939018  5.948182  6.402342 2010-01-05 14:25:00  21045030    0.147062    0.146258\n",
      "2010-01-05 14:35:00  6.516608  6.520469  6.813644 2010-01-05 14:30:00  21045035    0.096212    0.097254\n",
      "2010-01-05 14:40:00  7.357959  7.354745  7.844592 2010-01-05 14:35:00  21045040    0.127947    0.129109\n",
      "now= 2010-01-05 14:41:00\n",
      "now= 2010-01-05 14:42:00\n",
      "now= 2010-01-05 14:43:00\n",
      "now= 2010-01-05 14:44:00\n",
      "now= 2010-01-05 14:45:00\n",
      "Time to execute the DAG\n"
     ]
    },
    {
     "data": {
      "application/vnd.jupyter.widget-view+json": {
       "model_id": "f6aa9fc2b2dd401f8107ae371ccd9917",
       "version_major": 2,
       "version_minor": 0
      },
      "text/plain": [
       "run_leq_node:   0%|          | 0/6 [00:00<?, ?it/s]"
      ]
     },
     "metadata": {},
     "output_type": "display_data"
    },
    {
     "name": "stdout",
     "output_type": "stream",
     "text": [
      "                         vwap      twap      last bar_start_timestamp    minute  twap_ret_0  vwap_ret_0\n",
      "2010-01-05 14:35:00  6.516608  6.520469  6.813644 2010-01-05 14:30:00  21045035    0.096212    0.097254\n",
      "2010-01-05 14:40:00  7.357959  7.354745  7.844592 2010-01-05 14:35:00  21045040    0.127947    0.129109\n",
      "2010-01-05 14:45:00  7.885855  7.883224  8.332519 2010-01-05 14:40:00  21045045    0.071855    0.071745\n",
      "now= 2010-01-05 14:46:00\n",
      "now= 2010-01-05 14:47:00\n",
      "now= 2010-01-05 14:48:00\n",
      "now= 2010-01-05 14:49:00\n",
      "now= 2010-01-05 14:50:00\n",
      "Time to execute the DAG\n"
     ]
    },
    {
     "data": {
      "application/vnd.jupyter.widget-view+json": {
       "model_id": "a426953256444343882898c51377af95",
       "version_major": 2,
       "version_minor": 0
      },
      "text/plain": [
       "run_leq_node:   0%|          | 0/6 [00:00<?, ?it/s]"
      ]
     },
     "metadata": {},
     "output_type": "display_data"
    },
    {
     "name": "stdout",
     "output_type": "stream",
     "text": [
      "                         vwap      twap      last bar_start_timestamp    minute  twap_ret_0  vwap_ret_0\n",
      "2010-01-05 14:40:00  7.357959  7.354745  7.844592 2010-01-05 14:35:00  21045040    0.127947    0.129109\n",
      "2010-01-05 14:45:00  7.885855  7.883224  8.332519 2010-01-05 14:40:00  21045045    0.071855    0.071745\n",
      "2010-01-05 14:50:00  8.643325  8.644235  8.179182 2010-01-05 14:45:00  21045050    0.096535    0.096054\n",
      "now= 2010-01-05 14:51:00\n",
      "now= 2010-01-05 14:52:00\n",
      "now= 2010-01-05 14:53:00\n",
      "now= 2010-01-05 14:54:00\n",
      "now= 2010-01-05 14:55:00\n",
      "Time to execute the DAG\n"
     ]
    },
    {
     "data": {
      "application/vnd.jupyter.widget-view+json": {
       "model_id": "9c072a34b83b4da489d571bdb4a0f449",
       "version_major": 2,
       "version_minor": 0
      },
      "text/plain": [
       "run_leq_node:   0%|          | 0/6 [00:00<?, ?it/s]"
      ]
     },
     "metadata": {},
     "output_type": "display_data"
    },
    {
     "name": "stdout",
     "output_type": "stream",
     "text": [
      "                         vwap      twap      last bar_start_timestamp    minute  twap_ret_0  vwap_ret_0\n",
      "2010-01-05 14:45:00  7.885855  7.883224  8.332519 2010-01-05 14:40:00  21045045    0.071855    0.071745\n",
      "2010-01-05 14:50:00  8.643325  8.644235  8.179182 2010-01-05 14:45:00  21045050    0.096535    0.096054\n",
      "2010-01-05 14:55:00  7.886804  7.887990  7.553886 2010-01-05 14:50:00  21045055   -0.087486   -0.087527\n",
      "now= 2010-01-05 14:56:00\n",
      "now= 2010-01-05 14:57:00\n",
      "now= 2010-01-05 14:58:00\n",
      "now= 2010-01-05 14:59:00\n",
      "now= 2010-01-05 15:00:00\n",
      "Time to execute the DAG\n"
     ]
    },
    {
     "data": {
      "application/vnd.jupyter.widget-view+json": {
       "model_id": "9b40395969d24d82aae898e42721b7f2",
       "version_major": 2,
       "version_minor": 0
      },
      "text/plain": [
       "run_leq_node:   0%|          | 0/6 [00:00<?, ?it/s]"
      ]
     },
     "metadata": {},
     "output_type": "display_data"
    },
    {
     "name": "stdout",
     "output_type": "stream",
     "text": [
      "                         vwap      twap      last bar_start_timestamp    minute  twap_ret_0  vwap_ret_0\n",
      "2010-01-05 14:50:00  8.643325  8.644235  8.179182 2010-01-05 14:45:00  21045050    0.096535    0.096054\n",
      "2010-01-05 14:55:00  7.886804  7.887990  7.553886 2010-01-05 14:50:00  21045055   -0.087486   -0.087527\n",
      "2010-01-05 15:00:00  7.736139  7.735541  7.558407 2010-01-05 14:55:00  21045060   -0.019327   -0.019103\n",
      "now= 2010-01-05 15:01:00\n",
      "now= 2010-01-05 15:02:00\n",
      "now= 2010-01-05 15:03:00\n",
      "now= 2010-01-05 15:04:00\n",
      "now= 2010-01-05 15:05:00\n",
      "Time to execute the DAG\n"
     ]
    },
    {
     "data": {
      "application/vnd.jupyter.widget-view+json": {
       "model_id": "ea3ba5f4f59f49178ea689094ba80099",
       "version_major": 2,
       "version_minor": 0
      },
      "text/plain": [
       "run_leq_node:   0%|          | 0/6 [00:00<?, ?it/s]"
      ]
     },
     "metadata": {},
     "output_type": "display_data"
    },
    {
     "name": "stdout",
     "output_type": "stream",
     "text": [
      "                         vwap      twap      last bar_start_timestamp    minute  twap_ret_0  vwap_ret_0\n",
      "2010-01-05 14:55:00  7.886804  7.887990  7.553886 2010-01-05 14:50:00  21045055   -0.087486   -0.087527\n",
      "2010-01-05 15:00:00  7.736139  7.735541  7.558407 2010-01-05 14:55:00  21045060   -0.019327   -0.019103\n",
      "2010-01-05 15:05:00  7.120841  7.118791  6.852482 2010-01-05 15:00:00  21045065   -0.079729   -0.079535\n",
      "now= 2010-01-05 15:06:00\n",
      "now= 2010-01-05 15:07:00\n",
      "now= 2010-01-05 15:08:00\n",
      "now= 2010-01-05 15:09:00\n",
      "now= 2010-01-05 15:10:00\n",
      "Time to execute the DAG\n"
     ]
    },
    {
     "data": {
      "application/vnd.jupyter.widget-view+json": {
       "model_id": "8a64510bd18b4883922b799064378b42",
       "version_major": 2,
       "version_minor": 0
      },
      "text/plain": [
       "run_leq_node:   0%|          | 0/6 [00:00<?, ?it/s]"
      ]
     },
     "metadata": {},
     "output_type": "display_data"
    },
    {
     "name": "stdout",
     "output_type": "stream",
     "text": [
      "                         vwap      twap      last bar_start_timestamp    minute  twap_ret_0  vwap_ret_0\n",
      "2010-01-05 15:00:00  7.736139  7.735541  7.558407 2010-01-05 14:55:00  21045060   -0.019327   -0.019103\n",
      "2010-01-05 15:05:00  7.120841  7.118791  6.852482 2010-01-05 15:00:00  21045065   -0.079729   -0.079535\n",
      "2010-01-05 15:10:00  7.098694  7.095578  7.143273 2010-01-05 15:05:00  21045070   -0.003261   -0.003110\n",
      "now= 2010-01-05 15:11:00\n",
      "now= 2010-01-05 15:12:00\n",
      "now= 2010-01-05 15:13:00\n",
      "now= 2010-01-05 15:14:00\n",
      "now= 2010-01-05 15:15:00\n",
      "Time to execute the DAG\n"
     ]
    },
    {
     "data": {
      "application/vnd.jupyter.widget-view+json": {
       "model_id": "495d026c5b4e4bc78a7a13df8c3989d4",
       "version_major": 2,
       "version_minor": 0
      },
      "text/plain": [
       "run_leq_node:   0%|          | 0/6 [00:00<?, ?it/s]"
      ]
     },
     "metadata": {},
     "output_type": "display_data"
    },
    {
     "name": "stdout",
     "output_type": "stream",
     "text": [
      "                         vwap      twap      last bar_start_timestamp    minute  twap_ret_0  vwap_ret_0\n",
      "2010-01-05 15:05:00  7.120841  7.118791  6.852482 2010-01-05 15:00:00  21045065   -0.079729   -0.079535\n",
      "2010-01-05 15:10:00  7.098694  7.095578  7.143273 2010-01-05 15:05:00  21045070   -0.003261   -0.003110\n",
      "2010-01-05 15:15:00  7.424679  7.426528  7.654456 2010-01-05 15:10:00  21045075    0.046642    0.045922\n",
      "now= 2010-01-05 15:16:00\n",
      "now= 2010-01-05 15:17:00\n",
      "now= 2010-01-05 15:18:00\n",
      "now= 2010-01-05 15:19:00\n",
      "now= 2010-01-05 15:20:00\n",
      "Time to execute the DAG\n"
     ]
    },
    {
     "data": {
      "application/vnd.jupyter.widget-view+json": {
       "model_id": "7fc3fd5a56e74b88a3f9cae4fcb55d33",
       "version_major": 2,
       "version_minor": 0
      },
      "text/plain": [
       "run_leq_node:   0%|          | 0/6 [00:00<?, ?it/s]"
      ]
     },
     "metadata": {},
     "output_type": "display_data"
    },
    {
     "name": "stdout",
     "output_type": "stream",
     "text": [
      "                         vwap      twap      last bar_start_timestamp    minute  twap_ret_0  vwap_ret_0\n",
      "2010-01-05 15:10:00  7.098694  7.095578  7.143273 2010-01-05 15:05:00  21045070   -0.003261   -0.003110\n",
      "2010-01-05 15:15:00  7.424679  7.426528  7.654456 2010-01-05 15:10:00  21045075    0.046642    0.045922\n",
      "2010-01-05 15:20:00  8.298590  8.297455  8.397491 2010-01-05 15:15:00  21045080    0.117272    0.117704\n",
      "now= 2010-01-05 15:21:00\n",
      "now= 2010-01-05 15:22:00\n",
      "now= 2010-01-05 15:23:00\n",
      "now= 2010-01-05 15:24:00\n",
      "now= 2010-01-05 15:25:00\n",
      "Time to execute the DAG\n"
     ]
    },
    {
     "data": {
      "application/vnd.jupyter.widget-view+json": {
       "model_id": "e6830099d8a14f7c90ee78d0c9300ce8",
       "version_major": 2,
       "version_minor": 0
      },
      "text/plain": [
       "run_leq_node:   0%|          | 0/6 [00:00<?, ?it/s]"
      ]
     },
     "metadata": {},
     "output_type": "display_data"
    },
    {
     "name": "stdout",
     "output_type": "stream",
     "text": [
      "                         vwap      twap      last bar_start_timestamp    minute  twap_ret_0  vwap_ret_0\n",
      "2010-01-05 15:15:00  7.424679  7.426528  7.654456 2010-01-05 15:10:00  21045075    0.046642    0.045922\n",
      "2010-01-05 15:20:00  8.298590  8.297455  8.397491 2010-01-05 15:15:00  21045080    0.117272    0.117704\n",
      "2010-01-05 15:25:00  8.711171  8.712943  8.822260 2010-01-05 15:20:00  21045085    0.050074    0.049717\n",
      "now= 2010-01-05 15:26:00\n",
      "now= 2010-01-05 15:27:00\n",
      "now= 2010-01-05 15:28:00\n",
      "now= 2010-01-05 15:29:00\n",
      "now= 2010-01-05 15:30:00\n",
      "Time to execute the DAG\n"
     ]
    },
    {
     "data": {
      "application/vnd.jupyter.widget-view+json": {
       "model_id": "25ec435f233642a2ad50a8eab160b37b",
       "version_major": 2,
       "version_minor": 0
      },
      "text/plain": [
       "run_leq_node:   0%|          | 0/6 [00:00<?, ?it/s]"
      ]
     },
     "metadata": {},
     "output_type": "display_data"
    },
    {
     "name": "stdout",
     "output_type": "stream",
     "text": [
      "                         vwap      twap      last bar_start_timestamp    minute  twap_ret_0  vwap_ret_0\n",
      "2010-01-05 15:20:00  8.298590  8.297455  8.397491 2010-01-05 15:15:00  21045080    0.117272    0.117704\n",
      "2010-01-05 15:25:00  8.711171  8.712943  8.822260 2010-01-05 15:20:00  21045085    0.050074    0.049717\n",
      "2010-01-05 15:30:00  9.233306  9.238804  8.836383 2010-01-05 15:25:00  21045090    0.060354    0.059939\n",
      "now= 2010-01-05 15:31:00\n",
      "now= 2010-01-05 15:32:00\n",
      "now= 2010-01-05 15:33:00\n",
      "now= 2010-01-05 15:34:00\n",
      "now= 2010-01-05 15:35:00\n",
      "Time to execute the DAG\n"
     ]
    },
    {
     "data": {
      "application/vnd.jupyter.widget-view+json": {
       "model_id": "3125e303e7df4bcba9f6c67c3ceccc04",
       "version_major": 2,
       "version_minor": 0
      },
      "text/plain": [
       "run_leq_node:   0%|          | 0/6 [00:00<?, ?it/s]"
      ]
     },
     "metadata": {},
     "output_type": "display_data"
    },
    {
     "name": "stdout",
     "output_type": "stream",
     "text": [
      "                         vwap      twap      last bar_start_timestamp    minute  twap_ret_0  vwap_ret_0\n",
      "2010-01-05 15:25:00  8.711171  8.712943  8.822260 2010-01-05 15:20:00  21045085    0.050074    0.049717\n",
      "2010-01-05 15:30:00  9.233306  9.238804  8.836383 2010-01-05 15:25:00  21045090    0.060354    0.059939\n",
      "2010-01-05 15:35:00  8.661280  8.663421  8.064158 2010-01-05 15:30:00  21045095   -0.062279   -0.061952\n",
      "now= 2010-01-05 15:36:00\n",
      "now= 2010-01-05 15:37:00\n",
      "now= 2010-01-05 15:38:00\n",
      "now= 2010-01-05 15:39:00\n",
      "now= 2010-01-05 15:40:00\n",
      "Time to execute the DAG\n"
     ]
    },
    {
     "data": {
      "application/vnd.jupyter.widget-view+json": {
       "model_id": "d872a4a6aa6647649954433443c58cf4",
       "version_major": 2,
       "version_minor": 0
      },
      "text/plain": [
       "run_leq_node:   0%|          | 0/6 [00:00<?, ?it/s]"
      ]
     },
     "metadata": {},
     "output_type": "display_data"
    },
    {
     "name": "stdout",
     "output_type": "stream",
     "text": [
      "                         vwap      twap      last bar_start_timestamp    minute  twap_ret_0  vwap_ret_0\n",
      "2010-01-05 15:30:00  9.233306  9.238804  8.836383 2010-01-05 15:25:00  21045090    0.060354    0.059939\n",
      "2010-01-05 15:35:00  8.661280  8.663421  8.064158 2010-01-05 15:30:00  21045095   -0.062279   -0.061952\n",
      "2010-01-05 15:40:00  8.152765  8.154879  8.307061 2010-01-05 15:35:00  21045100   -0.058700   -0.058711\n",
      "now= 2010-01-05 15:41:00\n",
      "now= 2010-01-05 15:42:00\n",
      "now= 2010-01-05 15:43:00\n",
      "now= 2010-01-05 15:44:00\n",
      "now= 2010-01-05 15:45:00\n",
      "Time to execute the DAG\n"
     ]
    },
    {
     "data": {
      "application/vnd.jupyter.widget-view+json": {
       "model_id": "52c536a808444be5bb11ce28a0030e7a",
       "version_major": 2,
       "version_minor": 0
      },
      "text/plain": [
       "run_leq_node:   0%|          | 0/6 [00:00<?, ?it/s]"
      ]
     },
     "metadata": {},
     "output_type": "display_data"
    },
    {
     "name": "stdout",
     "output_type": "stream",
     "text": [
      "                         vwap      twap      last bar_start_timestamp    minute  twap_ret_0  vwap_ret_0\n",
      "2010-01-05 15:35:00  8.661280  8.663421  8.064158 2010-01-05 15:30:00  21045095   -0.062279   -0.061952\n",
      "2010-01-05 15:40:00  8.152765  8.154879  8.307061 2010-01-05 15:35:00  21045100   -0.058700   -0.058711\n",
      "2010-01-05 15:45:00  8.309184  8.308242  8.729894 2010-01-05 15:40:00  21045105    0.018806    0.019186\n",
      "now= 2010-01-05 15:46:00\n",
      "now= 2010-01-05 15:47:00\n",
      "now= 2010-01-05 15:48:00\n",
      "now= 2010-01-05 15:49:00\n",
      "now= 2010-01-05 15:50:00\n",
      "Time to execute the DAG\n"
     ]
    },
    {
     "data": {
      "application/vnd.jupyter.widget-view+json": {
       "model_id": "93c2b5f838bd4d2b98b3094ae5a74c17",
       "version_major": 2,
       "version_minor": 0
      },
      "text/plain": [
       "run_leq_node:   0%|          | 0/6 [00:00<?, ?it/s]"
      ]
     },
     "metadata": {},
     "output_type": "display_data"
    },
    {
     "name": "stdout",
     "output_type": "stream",
     "text": [
      "                         vwap      twap      last bar_start_timestamp    minute  twap_ret_0  vwap_ret_0\n",
      "2010-01-05 15:40:00  8.152765  8.154879  8.307061 2010-01-05 15:35:00  21045100   -0.058700   -0.058711\n",
      "2010-01-05 15:45:00  8.309184  8.308242  8.729894 2010-01-05 15:40:00  21045105    0.018806    0.019186\n",
      "2010-01-05 15:50:00  8.615746  8.612489  8.404893 2010-01-05 15:45:00  21045110    0.036620    0.036894\n",
      "now= 2010-01-05 15:51:00\n",
      "now= 2010-01-05 15:52:00\n",
      "now= 2010-01-05 15:53:00\n",
      "now= 2010-01-05 15:54:00\n",
      "now= 2010-01-05 15:55:00\n",
      "Time to execute the DAG\n"
     ]
    },
    {
     "data": {
      "application/vnd.jupyter.widget-view+json": {
       "model_id": "2f95f8be012f4bc199cb6f0ab7f544bf",
       "version_major": 2,
       "version_minor": 0
      },
      "text/plain": [
       "run_leq_node:   0%|          | 0/6 [00:00<?, ?it/s]"
      ]
     },
     "metadata": {},
     "output_type": "display_data"
    },
    {
     "name": "stdout",
     "output_type": "stream",
     "text": [
      "                         vwap      twap      last bar_start_timestamp    minute  twap_ret_0  vwap_ret_0\n",
      "2010-01-05 15:45:00  8.309184  8.308242  8.729894 2010-01-05 15:40:00  21045105    0.018806    0.019186\n",
      "2010-01-05 15:50:00  8.615746  8.612489  8.404893 2010-01-05 15:45:00  21045110    0.036620    0.036894\n",
      "2010-01-05 15:55:00  8.220364  8.223591  8.587750 2010-01-05 15:50:00  21045115   -0.045155   -0.045891\n",
      "now= 2010-01-05 15:56:00\n",
      "now= 2010-01-05 15:57:00\n",
      "now= 2010-01-05 15:58:00\n",
      "now= 2010-01-05 15:59:00\n",
      "now= 2010-01-05 16:00:00\n",
      "Time to execute the DAG\n"
     ]
    },
    {
     "data": {
      "application/vnd.jupyter.widget-view+json": {
       "model_id": "2148144f4e3448708f3ad9df893b9641",
       "version_major": 2,
       "version_minor": 0
      },
      "text/plain": [
       "run_leq_node:   0%|          | 0/6 [00:00<?, ?it/s]"
      ]
     },
     "metadata": {},
     "output_type": "display_data"
    },
    {
     "name": "stdout",
     "output_type": "stream",
     "text": [
      "                         vwap      twap      last bar_start_timestamp    minute  twap_ret_0  vwap_ret_0\n",
      "2010-01-05 15:50:00  8.615746  8.612489  8.404893 2010-01-05 15:45:00  21045110    0.036620    0.036894\n",
      "2010-01-05 15:55:00  8.220364  8.223591  8.587750 2010-01-05 15:50:00  21045115   -0.045155   -0.045891\n",
      "2010-01-05 16:00:00  9.639655  9.634372  9.764435 2010-01-05 15:55:00  21045120    0.171553    0.172656\n",
      "now= 2010-01-05 16:01:00\n",
      "now= 2010-01-05 16:02:00\n",
      "now= 2010-01-05 16:03:00\n",
      "now= 2010-01-05 16:04:00\n",
      "now= 2010-01-05 16:05:00\n",
      "Time to execute the DAG\n"
     ]
    },
    {
     "data": {
      "application/vnd.jupyter.widget-view+json": {
       "model_id": "4cb323749b834d248e7c7d527aa30d59",
       "version_major": 2,
       "version_minor": 0
      },
      "text/plain": [
       "run_leq_node:   0%|          | 0/6 [00:00<?, ?it/s]"
      ]
     },
     "metadata": {},
     "output_type": "display_data"
    },
    {
     "name": "stdout",
     "output_type": "stream",
     "text": [
      "                         vwap      twap      last bar_start_timestamp    minute  twap_ret_0  vwap_ret_0\n",
      "2010-01-05 15:55:00  8.220364  8.223591  8.587750 2010-01-05 15:50:00  21045115   -0.045155   -0.045891\n",
      "2010-01-05 16:00:00  9.639655  9.634372  9.764435 2010-01-05 15:55:00  21045120    0.171553    0.172656\n",
      "2010-01-05 16:05:00       NaN       NaN       NaN 2010-01-05 16:00:00  21045125         NaN         NaN\n",
      "now= 2010-01-05 16:06:00\n",
      "now= 2010-01-05 16:07:00\n",
      "now= 2010-01-05 16:08:00\n",
      "now= 2010-01-05 16:09:00\n",
      "now= 2010-01-05 16:10:00\n",
      "Time to execute the DAG\n"
     ]
    },
    {
     "data": {
      "application/vnd.jupyter.widget-view+json": {
       "model_id": "3dfd7f5d712f4e55846f269592f949f1",
       "version_major": 2,
       "version_minor": 0
      },
      "text/plain": [
       "run_leq_node:   0%|          | 0/6 [00:00<?, ?it/s]"
      ]
     },
     "metadata": {},
     "output_type": "display_data"
    },
    {
     "name": "stdout",
     "output_type": "stream",
     "text": [
      "                         vwap      twap      last bar_start_timestamp    minute  twap_ret_0  vwap_ret_0\n",
      "2010-01-05 16:00:00  9.639655  9.634372  9.764435 2010-01-05 15:55:00  21045120    0.171553    0.172656\n",
      "2010-01-05 16:05:00       NaN       NaN       NaN 2010-01-05 16:00:00  21045125         NaN         NaN\n",
      "2010-01-05 16:10:00       NaN       NaN       NaN 2010-01-05 16:05:00  21045130         NaN         NaN\n",
      "now= 2010-01-05 16:11:00\n",
      "now= 2010-01-05 16:12:00\n",
      "now= 2010-01-05 16:13:00\n",
      "now= 2010-01-05 16:14:00\n",
      "now= 2010-01-05 16:15:00\n",
      "Time to execute the DAG\n"
     ]
    },
    {
     "data": {
      "application/vnd.jupyter.widget-view+json": {
       "model_id": "775b7d9f2d454cafbba3b315baf299f9",
       "version_major": 2,
       "version_minor": 0
      },
      "text/plain": [
       "run_leq_node:   0%|          | 0/6 [00:00<?, ?it/s]"
      ]
     },
     "metadata": {},
     "output_type": "display_data"
    },
    {
     "name": "stdout",
     "output_type": "stream",
     "text": [
      "                     vwap  twap  last bar_start_timestamp    minute  twap_ret_0  vwap_ret_0\n",
      "2010-01-05 16:05:00   NaN   NaN   NaN 2010-01-05 16:00:00  21045125         NaN         NaN\n",
      "2010-01-05 16:10:00   NaN   NaN   NaN 2010-01-05 16:05:00  21045130         NaN         NaN\n",
      "2010-01-05 16:15:00   NaN   NaN   NaN 2010-01-05 16:10:00  21045135         NaN         NaN\n",
      "now= 2010-01-05 16:16:00\n",
      "now= 2010-01-05 16:17:00\n",
      "now= 2010-01-05 16:18:00\n",
      "now= 2010-01-05 16:19:00\n",
      "now= 2010-01-05 16:20:00\n",
      "Time to execute the DAG\n"
     ]
    },
    {
     "data": {
      "application/vnd.jupyter.widget-view+json": {
       "model_id": "b328c2c49de04d7e8e19c5f5187377e2",
       "version_major": 2,
       "version_minor": 0
      },
      "text/plain": [
       "run_leq_node:   0%|          | 0/6 [00:00<?, ?it/s]"
      ]
     },
     "metadata": {},
     "output_type": "display_data"
    },
    {
     "name": "stdout",
     "output_type": "stream",
     "text": [
      "                     vwap  twap  last bar_start_timestamp    minute  twap_ret_0  vwap_ret_0\n",
      "2010-01-05 16:10:00   NaN   NaN   NaN 2010-01-05 16:05:00  21045130         NaN         NaN\n",
      "2010-01-05 16:15:00   NaN   NaN   NaN 2010-01-05 16:10:00  21045135         NaN         NaN\n",
      "2010-01-05 16:20:00   NaN   NaN   NaN 2010-01-05 16:15:00  21045140         NaN         NaN\n",
      "now= 2010-01-05 16:21:00\n",
      "now= 2010-01-05 16:22:00\n",
      "now= 2010-01-05 16:23:00\n",
      "now= 2010-01-05 16:24:00\n",
      "now= 2010-01-05 16:25:00\n",
      "Time to execute the DAG\n"
     ]
    },
    {
     "data": {
      "application/vnd.jupyter.widget-view+json": {
       "model_id": "73ab5c58cd6e4120a91765f4cd54d3a8",
       "version_major": 2,
       "version_minor": 0
      },
      "text/plain": [
       "run_leq_node:   0%|          | 0/6 [00:00<?, ?it/s]"
      ]
     },
     "metadata": {},
     "output_type": "display_data"
    },
    {
     "name": "stdout",
     "output_type": "stream",
     "text": [
      "                     vwap  twap  last bar_start_timestamp    minute  twap_ret_0  vwap_ret_0\n",
      "2010-01-05 16:15:00   NaN   NaN   NaN 2010-01-05 16:10:00  21045135         NaN         NaN\n",
      "2010-01-05 16:20:00   NaN   NaN   NaN 2010-01-05 16:15:00  21045140         NaN         NaN\n",
      "2010-01-05 16:25:00   NaN   NaN   NaN 2010-01-05 16:20:00  21045145         NaN         NaN\n",
      "now= 2010-01-05 16:26:00\n",
      "now= 2010-01-05 16:27:00\n",
      "now= 2010-01-05 16:28:00\n",
      "now= 2010-01-05 16:29:00\n",
      "now= 2010-01-05 16:30:00\n",
      "Time to execute the DAG\n"
     ]
    },
    {
     "data": {
      "application/vnd.jupyter.widget-view+json": {
       "model_id": "fb947d9eced144d2924d71b4ece674c5",
       "version_major": 2,
       "version_minor": 0
      },
      "text/plain": [
       "run_leq_node:   0%|          | 0/6 [00:00<?, ?it/s]"
      ]
     },
     "metadata": {},
     "output_type": "display_data"
    },
    {
     "name": "stdout",
     "output_type": "stream",
     "text": [
      "                     vwap  twap  last bar_start_timestamp    minute  twap_ret_0  vwap_ret_0\n",
      "2010-01-05 16:20:00   NaN   NaN   NaN 2010-01-05 16:15:00  21045140         NaN         NaN\n",
      "2010-01-05 16:25:00   NaN   NaN   NaN 2010-01-05 16:20:00  21045145         NaN         NaN\n",
      "2010-01-05 16:30:00   NaN   NaN   NaN 2010-01-05 16:25:00  21045150         NaN         NaN\n",
      "now= 2010-01-05 16:31:00\n",
      "now= 2010-01-05 16:32:00\n",
      "now= 2010-01-05 16:33:00\n",
      "now= 2010-01-05 16:34:00\n",
      "now= 2010-01-05 16:35:00\n",
      "Time to execute the DAG\n"
     ]
    },
    {
     "data": {
      "application/vnd.jupyter.widget-view+json": {
       "model_id": "d1c25fc6383f4b4b8a9303ab45833dbd",
       "version_major": 2,
       "version_minor": 0
      },
      "text/plain": [
       "run_leq_node:   0%|          | 0/6 [00:00<?, ?it/s]"
      ]
     },
     "metadata": {},
     "output_type": "display_data"
    },
    {
     "name": "stdout",
     "output_type": "stream",
     "text": [
      "                     vwap  twap  last bar_start_timestamp    minute  twap_ret_0  vwap_ret_0\n",
      "2010-01-05 16:25:00   NaN   NaN   NaN 2010-01-05 16:20:00  21045145         NaN         NaN\n",
      "2010-01-05 16:30:00   NaN   NaN   NaN 2010-01-05 16:25:00  21045150         NaN         NaN\n",
      "2010-01-05 16:35:00   NaN   NaN   NaN 2010-01-05 16:30:00  21045155         NaN         NaN\n",
      "now= 2010-01-05 16:36:00\n",
      "now= 2010-01-05 16:37:00\n",
      "now= 2010-01-05 16:38:00\n",
      "now= 2010-01-05 16:39:00\n",
      "now= 2010-01-05 16:40:00\n",
      "Time to execute the DAG\n"
     ]
    },
    {
     "data": {
      "application/vnd.jupyter.widget-view+json": {
       "model_id": "6a2149a34db8409988ffe20cf47cc41a",
       "version_major": 2,
       "version_minor": 0
      },
      "text/plain": [
       "run_leq_node:   0%|          | 0/6 [00:00<?, ?it/s]"
      ]
     },
     "metadata": {},
     "output_type": "display_data"
    },
    {
     "name": "stdout",
     "output_type": "stream",
     "text": [
      "                     vwap  twap  last bar_start_timestamp    minute  twap_ret_0  vwap_ret_0\n",
      "2010-01-05 16:30:00   NaN   NaN   NaN 2010-01-05 16:25:00  21045150         NaN         NaN\n",
      "2010-01-05 16:35:00   NaN   NaN   NaN 2010-01-05 16:30:00  21045155         NaN         NaN\n",
      "2010-01-05 16:40:00   NaN   NaN   NaN 2010-01-05 16:35:00  21045160         NaN         NaN\n",
      "now= 2010-01-05 16:41:00\n",
      "now= 2010-01-05 16:42:00\n",
      "now= 2010-01-05 16:43:00\n",
      "now= 2010-01-05 16:44:00\n",
      "now= 2010-01-05 16:45:00\n",
      "Time to execute the DAG\n"
     ]
    },
    {
     "data": {
      "application/vnd.jupyter.widget-view+json": {
       "model_id": "cf7288818ea146218f41b3463231a97b",
       "version_major": 2,
       "version_minor": 0
      },
      "text/plain": [
       "run_leq_node:   0%|          | 0/6 [00:00<?, ?it/s]"
      ]
     },
     "metadata": {},
     "output_type": "display_data"
    },
    {
     "name": "stdout",
     "output_type": "stream",
     "text": [
      "                     vwap  twap  last bar_start_timestamp    minute  twap_ret_0  vwap_ret_0\n",
      "2010-01-05 16:35:00   NaN   NaN   NaN 2010-01-05 16:30:00  21045155         NaN         NaN\n",
      "2010-01-05 16:40:00   NaN   NaN   NaN 2010-01-05 16:35:00  21045160         NaN         NaN\n",
      "2010-01-05 16:45:00   NaN   NaN   NaN 2010-01-05 16:40:00  21045165         NaN         NaN\n",
      "now= 2010-01-05 16:46:00\n",
      "now= 2010-01-05 16:47:00\n",
      "now= 2010-01-05 16:48:00\n",
      "now= 2010-01-05 16:49:00\n",
      "now= 2010-01-05 16:50:00\n",
      "Time to execute the DAG\n"
     ]
    },
    {
     "data": {
      "application/vnd.jupyter.widget-view+json": {
       "model_id": "3189f47d06424011b616f7ad2b2c0310",
       "version_major": 2,
       "version_minor": 0
      },
      "text/plain": [
       "run_leq_node:   0%|          | 0/6 [00:00<?, ?it/s]"
      ]
     },
     "metadata": {},
     "output_type": "display_data"
    },
    {
     "name": "stdout",
     "output_type": "stream",
     "text": [
      "                     vwap  twap  last bar_start_timestamp    minute  twap_ret_0  vwap_ret_0\n",
      "2010-01-05 16:40:00   NaN   NaN   NaN 2010-01-05 16:35:00  21045160         NaN         NaN\n",
      "2010-01-05 16:45:00   NaN   NaN   NaN 2010-01-05 16:40:00  21045165         NaN         NaN\n",
      "2010-01-05 16:50:00   NaN   NaN   NaN 2010-01-05 16:45:00  21045170         NaN         NaN\n",
      "now= 2010-01-05 16:51:00\n",
      "now= 2010-01-05 16:52:00\n",
      "now= 2010-01-05 16:53:00\n",
      "now= 2010-01-05 16:54:00\n",
      "now= 2010-01-05 16:55:00\n",
      "Time to execute the DAG\n"
     ]
    },
    {
     "data": {
      "application/vnd.jupyter.widget-view+json": {
       "model_id": "46e113322ed641faaa02bcb984ae7070",
       "version_major": 2,
       "version_minor": 0
      },
      "text/plain": [
       "run_leq_node:   0%|          | 0/6 [00:00<?, ?it/s]"
      ]
     },
     "metadata": {},
     "output_type": "display_data"
    },
    {
     "name": "stdout",
     "output_type": "stream",
     "text": [
      "                     vwap  twap  last bar_start_timestamp    minute  twap_ret_0  vwap_ret_0\n",
      "2010-01-05 16:45:00   NaN   NaN   NaN 2010-01-05 16:40:00  21045165         NaN         NaN\n",
      "2010-01-05 16:50:00   NaN   NaN   NaN 2010-01-05 16:45:00  21045170         NaN         NaN\n",
      "2010-01-05 16:55:00   NaN   NaN   NaN 2010-01-05 16:50:00  21045175         NaN         NaN\n",
      "now= 2010-01-05 16:56:00\n",
      "now= 2010-01-05 16:57:00\n",
      "now= 2010-01-05 16:58:00\n",
      "now= 2010-01-05 16:59:00\n",
      "now= 2010-01-05 17:00:00\n",
      "Time to execute the DAG\n"
     ]
    },
    {
     "data": {
      "application/vnd.jupyter.widget-view+json": {
       "model_id": "681b1bfeb66949fcb721eac7dc98280d",
       "version_major": 2,
       "version_minor": 0
      },
      "text/plain": [
       "run_leq_node:   0%|          | 0/6 [00:00<?, ?it/s]"
      ]
     },
     "metadata": {},
     "output_type": "display_data"
    },
    {
     "name": "stdout",
     "output_type": "stream",
     "text": [
      "                     vwap  twap  last bar_start_timestamp    minute  twap_ret_0  vwap_ret_0\n",
      "2010-01-05 16:50:00   NaN   NaN   NaN 2010-01-05 16:45:00  21045170         NaN         NaN\n",
      "2010-01-05 16:55:00   NaN   NaN   NaN 2010-01-05 16:50:00  21045175         NaN         NaN\n",
      "2010-01-05 17:00:00   NaN   NaN   NaN 2010-01-05 16:55:00  21045180         NaN         NaN\n",
      "now= 2010-01-05 17:01:00\n",
      "now= 2010-01-05 17:02:00\n",
      "now= 2010-01-05 17:03:00\n",
      "now= 2010-01-05 17:04:00\n",
      "now= 2010-01-05 17:05:00\n",
      "Time to execute the DAG\n"
     ]
    },
    {
     "data": {
      "application/vnd.jupyter.widget-view+json": {
       "model_id": "5a640f5abe174831b57979a24f60bfae",
       "version_major": 2,
       "version_minor": 0
      },
      "text/plain": [
       "run_leq_node:   0%|          | 0/6 [00:00<?, ?it/s]"
      ]
     },
     "metadata": {},
     "output_type": "display_data"
    },
    {
     "name": "stdout",
     "output_type": "stream",
     "text": [
      "                     vwap  twap  last bar_start_timestamp    minute  twap_ret_0  vwap_ret_0\n",
      "2010-01-05 16:55:00   NaN   NaN   NaN 2010-01-05 16:50:00  21045175         NaN         NaN\n",
      "2010-01-05 17:00:00   NaN   NaN   NaN 2010-01-05 16:55:00  21045180         NaN         NaN\n",
      "2010-01-05 17:05:00   NaN   NaN   NaN 2010-01-05 17:00:00  21045185         NaN         NaN\n",
      "now= 2010-01-05 17:06:00\n",
      "now= 2010-01-05 17:07:00\n",
      "now= 2010-01-05 17:08:00\n",
      "now= 2010-01-05 17:09:00\n",
      "now= 2010-01-05 17:10:00\n",
      "Time to execute the DAG\n"
     ]
    },
    {
     "data": {
      "application/vnd.jupyter.widget-view+json": {
       "model_id": "fe2dbf1d47cd46108636259354da8123",
       "version_major": 2,
       "version_minor": 0
      },
      "text/plain": [
       "run_leq_node:   0%|          | 0/6 [00:00<?, ?it/s]"
      ]
     },
     "metadata": {},
     "output_type": "display_data"
    },
    {
     "name": "stdout",
     "output_type": "stream",
     "text": [
      "                     vwap  twap  last bar_start_timestamp    minute  twap_ret_0  vwap_ret_0\n",
      "2010-01-05 17:00:00   NaN   NaN   NaN 2010-01-05 16:55:00  21045180         NaN         NaN\n",
      "2010-01-05 17:05:00   NaN   NaN   NaN 2010-01-05 17:00:00  21045185         NaN         NaN\n",
      "2010-01-05 17:10:00   NaN   NaN   NaN 2010-01-05 17:05:00  21045190         NaN         NaN\n",
      "now= 2010-01-05 17:11:00\n",
      "now= 2010-01-05 17:12:00\n",
      "now= 2010-01-05 17:13:00\n",
      "now= 2010-01-05 17:14:00\n",
      "now= 2010-01-05 17:15:00\n",
      "Time to execute the DAG\n"
     ]
    },
    {
     "data": {
      "application/vnd.jupyter.widget-view+json": {
       "model_id": "30eb04901bf54951862b91b97ea5892c",
       "version_major": 2,
       "version_minor": 0
      },
      "text/plain": [
       "run_leq_node:   0%|          | 0/6 [00:00<?, ?it/s]"
      ]
     },
     "metadata": {},
     "output_type": "display_data"
    },
    {
     "name": "stdout",
     "output_type": "stream",
     "text": [
      "                     vwap  twap  last bar_start_timestamp    minute  twap_ret_0  vwap_ret_0\n",
      "2010-01-05 17:05:00   NaN   NaN   NaN 2010-01-05 17:00:00  21045185         NaN         NaN\n",
      "2010-01-05 17:10:00   NaN   NaN   NaN 2010-01-05 17:05:00  21045190         NaN         NaN\n",
      "2010-01-05 17:15:00   NaN   NaN   NaN 2010-01-05 17:10:00  21045195         NaN         NaN\n",
      "now= 2010-01-05 17:16:00\n",
      "now= 2010-01-05 17:17:00\n",
      "now= 2010-01-05 17:18:00\n",
      "now= 2010-01-05 17:19:00\n",
      "now= 2010-01-05 17:20:00\n",
      "Time to execute the DAG\n"
     ]
    },
    {
     "data": {
      "application/vnd.jupyter.widget-view+json": {
       "model_id": "d6ce8070531547ce843185c52c1f9d5f",
       "version_major": 2,
       "version_minor": 0
      },
      "text/plain": [
       "run_leq_node:   0%|          | 0/6 [00:00<?, ?it/s]"
      ]
     },
     "metadata": {},
     "output_type": "display_data"
    },
    {
     "name": "stdout",
     "output_type": "stream",
     "text": [
      "                     vwap  twap  last bar_start_timestamp    minute  twap_ret_0  vwap_ret_0\n",
      "2010-01-05 17:10:00   NaN   NaN   NaN 2010-01-05 17:05:00  21045190         NaN         NaN\n",
      "2010-01-05 17:15:00   NaN   NaN   NaN 2010-01-05 17:10:00  21045195         NaN         NaN\n",
      "2010-01-05 17:20:00   NaN   NaN   NaN 2010-01-05 17:15:00  21045200         NaN         NaN\n",
      "now= 2010-01-05 17:21:00\n",
      "now= 2010-01-05 17:22:00\n",
      "now= 2010-01-05 17:23:00\n",
      "now= 2010-01-05 17:24:00\n",
      "now= 2010-01-05 17:25:00\n",
      "Time to execute the DAG\n"
     ]
    },
    {
     "data": {
      "application/vnd.jupyter.widget-view+json": {
       "model_id": "798a89334d6949f1ad37928cc1fd174f",
       "version_major": 2,
       "version_minor": 0
      },
      "text/plain": [
       "run_leq_node:   0%|          | 0/6 [00:00<?, ?it/s]"
      ]
     },
     "metadata": {},
     "output_type": "display_data"
    },
    {
     "name": "stdout",
     "output_type": "stream",
     "text": [
      "                     vwap  twap  last bar_start_timestamp    minute  twap_ret_0  vwap_ret_0\n",
      "2010-01-05 17:15:00   NaN   NaN   NaN 2010-01-05 17:10:00  21045195         NaN         NaN\n",
      "2010-01-05 17:20:00   NaN   NaN   NaN 2010-01-05 17:15:00  21045200         NaN         NaN\n",
      "2010-01-05 17:25:00   NaN   NaN   NaN 2010-01-05 17:20:00  21045205         NaN         NaN\n",
      "now= 2010-01-05 17:26:00\n",
      "now= 2010-01-05 17:27:00\n",
      "now= 2010-01-05 17:28:00\n",
      "now= 2010-01-05 17:29:00\n",
      "now= 2010-01-05 17:30:00\n",
      "Time to execute the DAG\n"
     ]
    },
    {
     "data": {
      "application/vnd.jupyter.widget-view+json": {
       "model_id": "849937de419c42b0b6c51d04d63d5e28",
       "version_major": 2,
       "version_minor": 0
      },
      "text/plain": [
       "run_leq_node:   0%|          | 0/6 [00:00<?, ?it/s]"
      ]
     },
     "metadata": {},
     "output_type": "display_data"
    },
    {
     "name": "stdout",
     "output_type": "stream",
     "text": [
      "                     vwap  twap  last bar_start_timestamp    minute  twap_ret_0  vwap_ret_0\n",
      "2010-01-05 17:20:00   NaN   NaN   NaN 2010-01-05 17:15:00  21045200         NaN         NaN\n",
      "2010-01-05 17:25:00   NaN   NaN   NaN 2010-01-05 17:20:00  21045205         NaN         NaN\n",
      "2010-01-05 17:30:00   NaN   NaN   NaN 2010-01-05 17:25:00  21045210         NaN         NaN\n",
      "now= 2010-01-05 17:31:00\n",
      "now= 2010-01-05 17:32:00\n",
      "now= 2010-01-05 17:33:00\n",
      "now= 2010-01-05 17:34:00\n",
      "now= 2010-01-05 17:35:00\n",
      "Time to execute the DAG\n"
     ]
    },
    {
     "data": {
      "application/vnd.jupyter.widget-view+json": {
       "model_id": "80b9e4431f22474d80c2ce83f73449f0",
       "version_major": 2,
       "version_minor": 0
      },
      "text/plain": [
       "run_leq_node:   0%|          | 0/6 [00:00<?, ?it/s]"
      ]
     },
     "metadata": {},
     "output_type": "display_data"
    },
    {
     "name": "stdout",
     "output_type": "stream",
     "text": [
      "                     vwap  twap  last bar_start_timestamp    minute  twap_ret_0  vwap_ret_0\n",
      "2010-01-05 17:25:00   NaN   NaN   NaN 2010-01-05 17:20:00  21045205         NaN         NaN\n",
      "2010-01-05 17:30:00   NaN   NaN   NaN 2010-01-05 17:25:00  21045210         NaN         NaN\n",
      "2010-01-05 17:35:00   NaN   NaN   NaN 2010-01-05 17:30:00  21045215         NaN         NaN\n",
      "now= 2010-01-05 17:36:00\n",
      "now= 2010-01-05 17:37:00\n",
      "now= 2010-01-05 17:38:00\n",
      "now= 2010-01-05 17:39:00\n",
      "now= 2010-01-05 17:40:00\n",
      "Time to execute the DAG\n"
     ]
    },
    {
     "data": {
      "application/vnd.jupyter.widget-view+json": {
       "model_id": "fcfc5c8ea4c441328efecdd4506c425e",
       "version_major": 2,
       "version_minor": 0
      },
      "text/plain": [
       "run_leq_node:   0%|          | 0/6 [00:00<?, ?it/s]"
      ]
     },
     "metadata": {},
     "output_type": "display_data"
    },
    {
     "name": "stdout",
     "output_type": "stream",
     "text": [
      "                     vwap  twap  last bar_start_timestamp    minute  twap_ret_0  vwap_ret_0\n",
      "2010-01-05 17:30:00   NaN   NaN   NaN 2010-01-05 17:25:00  21045210         NaN         NaN\n",
      "2010-01-05 17:35:00   NaN   NaN   NaN 2010-01-05 17:30:00  21045215         NaN         NaN\n",
      "2010-01-05 17:40:00   NaN   NaN   NaN 2010-01-05 17:35:00  21045220         NaN         NaN\n",
      "now= 2010-01-05 17:41:00\n",
      "now= 2010-01-05 17:42:00\n",
      "now= 2010-01-05 17:43:00\n",
      "now= 2010-01-05 17:44:00\n",
      "now= 2010-01-05 17:45:00\n",
      "Time to execute the DAG\n"
     ]
    },
    {
     "data": {
      "application/vnd.jupyter.widget-view+json": {
       "model_id": "a41a0890d96c4ff08b20d18661b0a423",
       "version_major": 2,
       "version_minor": 0
      },
      "text/plain": [
       "run_leq_node:   0%|          | 0/6 [00:00<?, ?it/s]"
      ]
     },
     "metadata": {},
     "output_type": "display_data"
    },
    {
     "name": "stdout",
     "output_type": "stream",
     "text": [
      "                     vwap  twap  last bar_start_timestamp    minute  twap_ret_0  vwap_ret_0\n",
      "2010-01-05 17:35:00   NaN   NaN   NaN 2010-01-05 17:30:00  21045215         NaN         NaN\n",
      "2010-01-05 17:40:00   NaN   NaN   NaN 2010-01-05 17:35:00  21045220         NaN         NaN\n",
      "2010-01-05 17:45:00   NaN   NaN   NaN 2010-01-05 17:40:00  21045225         NaN         NaN\n",
      "now= 2010-01-05 17:46:00\n",
      "now= 2010-01-05 17:47:00\n",
      "now= 2010-01-05 17:48:00\n",
      "now= 2010-01-05 17:49:00\n",
      "now= 2010-01-05 17:50:00\n",
      "Time to execute the DAG\n"
     ]
    },
    {
     "data": {
      "application/vnd.jupyter.widget-view+json": {
       "model_id": "87c4bed3a66340e999f20a074e52f11b",
       "version_major": 2,
       "version_minor": 0
      },
      "text/plain": [
       "run_leq_node:   0%|          | 0/6 [00:00<?, ?it/s]"
      ]
     },
     "metadata": {},
     "output_type": "display_data"
    },
    {
     "name": "stdout",
     "output_type": "stream",
     "text": [
      "                     vwap  twap  last bar_start_timestamp    minute  twap_ret_0  vwap_ret_0\n",
      "2010-01-05 17:40:00   NaN   NaN   NaN 2010-01-05 17:35:00  21045220         NaN         NaN\n",
      "2010-01-05 17:45:00   NaN   NaN   NaN 2010-01-05 17:40:00  21045225         NaN         NaN\n",
      "2010-01-05 17:50:00   NaN   NaN   NaN 2010-01-05 17:45:00  21045230         NaN         NaN\n",
      "now= 2010-01-05 17:51:00\n",
      "now= 2010-01-05 17:52:00\n",
      "now= 2010-01-05 17:53:00\n",
      "now= 2010-01-05 17:54:00\n",
      "now= 2010-01-05 17:55:00\n",
      "Time to execute the DAG\n"
     ]
    },
    {
     "data": {
      "application/vnd.jupyter.widget-view+json": {
       "model_id": "b52d9345db4649778483b03ebad99cab",
       "version_major": 2,
       "version_minor": 0
      },
      "text/plain": [
       "run_leq_node:   0%|          | 0/6 [00:00<?, ?it/s]"
      ]
     },
     "metadata": {},
     "output_type": "display_data"
    },
    {
     "name": "stdout",
     "output_type": "stream",
     "text": [
      "                     vwap  twap  last bar_start_timestamp    minute  twap_ret_0  vwap_ret_0\n",
      "2010-01-05 17:45:00   NaN   NaN   NaN 2010-01-05 17:40:00  21045225         NaN         NaN\n",
      "2010-01-05 17:50:00   NaN   NaN   NaN 2010-01-05 17:45:00  21045230         NaN         NaN\n",
      "2010-01-05 17:55:00   NaN   NaN   NaN 2010-01-05 17:50:00  21045235         NaN         NaN\n",
      "now= 2010-01-05 17:56:00\n",
      "now= 2010-01-05 17:57:00\n",
      "now= 2010-01-05 17:58:00\n",
      "now= 2010-01-05 17:59:00\n",
      "now= 2010-01-05 18:00:00\n",
      "Time to execute the DAG\n"
     ]
    },
    {
     "data": {
      "application/vnd.jupyter.widget-view+json": {
       "model_id": "8d68124e39cd4fe3a6fe6561961fd3c7",
       "version_major": 2,
       "version_minor": 0
      },
      "text/plain": [
       "run_leq_node:   0%|          | 0/6 [00:00<?, ?it/s]"
      ]
     },
     "metadata": {},
     "output_type": "display_data"
    },
    {
     "name": "stdout",
     "output_type": "stream",
     "text": [
      "                     vwap  twap  last bar_start_timestamp    minute  twap_ret_0  vwap_ret_0\n",
      "2010-01-05 17:50:00   NaN   NaN   NaN 2010-01-05 17:45:00  21045230         NaN         NaN\n",
      "2010-01-05 17:55:00   NaN   NaN   NaN 2010-01-05 17:50:00  21045235         NaN         NaN\n",
      "2010-01-05 18:00:00   NaN   NaN   NaN 2010-01-05 17:55:00  21045240         NaN         NaN\n",
      "now= 2010-01-05 18:01:00\n",
      "now= 2010-01-05 18:02:00\n",
      "now= 2010-01-05 18:03:00\n",
      "now= 2010-01-05 18:04:00\n",
      "now= 2010-01-05 18:05:00\n",
      "Time to execute the DAG\n"
     ]
    },
    {
     "data": {
      "application/vnd.jupyter.widget-view+json": {
       "model_id": "f738283c3f794f84862d94547ca732cb",
       "version_major": 2,
       "version_minor": 0
      },
      "text/plain": [
       "run_leq_node:   0%|          | 0/6 [00:00<?, ?it/s]"
      ]
     },
     "metadata": {},
     "output_type": "display_data"
    },
    {
     "name": "stdout",
     "output_type": "stream",
     "text": [
      "                     vwap  twap  last bar_start_timestamp    minute  twap_ret_0  vwap_ret_0\n",
      "2010-01-05 17:55:00   NaN   NaN   NaN 2010-01-05 17:50:00  21045235         NaN         NaN\n",
      "2010-01-05 18:00:00   NaN   NaN   NaN 2010-01-05 17:55:00  21045240         NaN         NaN\n",
      "2010-01-05 18:05:00   NaN   NaN   NaN 2010-01-05 18:00:00  21045245         NaN         NaN\n",
      "now= 2010-01-05 18:06:00\n",
      "now= 2010-01-05 18:07:00\n",
      "now= 2010-01-05 18:08:00\n",
      "now= 2010-01-05 18:09:00\n",
      "now= 2010-01-05 18:10:00\n",
      "Time to execute the DAG\n"
     ]
    },
    {
     "data": {
      "application/vnd.jupyter.widget-view+json": {
       "model_id": "c6b43d8103644b83a5a9bdbd6f212be4",
       "version_major": 2,
       "version_minor": 0
      },
      "text/plain": [
       "run_leq_node:   0%|          | 0/6 [00:00<?, ?it/s]"
      ]
     },
     "metadata": {},
     "output_type": "display_data"
    },
    {
     "name": "stdout",
     "output_type": "stream",
     "text": [
      "                     vwap  twap  last bar_start_timestamp    minute  twap_ret_0  vwap_ret_0\n",
      "2010-01-05 18:00:00   NaN   NaN   NaN 2010-01-05 17:55:00  21045240         NaN         NaN\n",
      "2010-01-05 18:05:00   NaN   NaN   NaN 2010-01-05 18:00:00  21045245         NaN         NaN\n",
      "2010-01-05 18:10:00   NaN   NaN   NaN 2010-01-05 18:05:00  21045250         NaN         NaN\n",
      "now= 2010-01-05 18:11:00\n",
      "now= 2010-01-05 18:12:00\n",
      "now= 2010-01-05 18:13:00\n",
      "now= 2010-01-05 18:14:00\n",
      "now= 2010-01-05 18:15:00\n",
      "Time to execute the DAG\n"
     ]
    },
    {
     "data": {
      "application/vnd.jupyter.widget-view+json": {
       "model_id": "b6a2b19df22c4917bb5662a513fb6477",
       "version_major": 2,
       "version_minor": 0
      },
      "text/plain": [
       "run_leq_node:   0%|          | 0/6 [00:00<?, ?it/s]"
      ]
     },
     "metadata": {},
     "output_type": "display_data"
    },
    {
     "name": "stdout",
     "output_type": "stream",
     "text": [
      "                     vwap  twap  last bar_start_timestamp    minute  twap_ret_0  vwap_ret_0\n",
      "2010-01-05 18:05:00   NaN   NaN   NaN 2010-01-05 18:00:00  21045245         NaN         NaN\n",
      "2010-01-05 18:10:00   NaN   NaN   NaN 2010-01-05 18:05:00  21045250         NaN         NaN\n",
      "2010-01-05 18:15:00   NaN   NaN   NaN 2010-01-05 18:10:00  21045255         NaN         NaN\n",
      "now= 2010-01-05 18:16:00\n",
      "now= 2010-01-05 18:17:00\n",
      "now= 2010-01-05 18:18:00\n",
      "now= 2010-01-05 18:19:00\n",
      "now= 2010-01-05 18:20:00\n",
      "Time to execute the DAG\n"
     ]
    },
    {
     "data": {
      "application/vnd.jupyter.widget-view+json": {
       "model_id": "694043cf359a4a25a0b07ddcc33ddcd7",
       "version_major": 2,
       "version_minor": 0
      },
      "text/plain": [
       "run_leq_node:   0%|          | 0/6 [00:00<?, ?it/s]"
      ]
     },
     "metadata": {},
     "output_type": "display_data"
    },
    {
     "name": "stdout",
     "output_type": "stream",
     "text": [
      "                     vwap  twap  last bar_start_timestamp    minute  twap_ret_0  vwap_ret_0\n",
      "2010-01-05 18:10:00   NaN   NaN   NaN 2010-01-05 18:05:00  21045250         NaN         NaN\n",
      "2010-01-05 18:15:00   NaN   NaN   NaN 2010-01-05 18:10:00  21045255         NaN         NaN\n",
      "2010-01-05 18:20:00   NaN   NaN   NaN 2010-01-05 18:15:00  21045260         NaN         NaN\n",
      "now= 2010-01-05 18:21:00\n",
      "now= 2010-01-05 18:22:00\n",
      "now= 2010-01-05 18:23:00\n",
      "now= 2010-01-05 18:24:00\n",
      "now= 2010-01-05 18:25:00\n",
      "Time to execute the DAG\n"
     ]
    },
    {
     "data": {
      "application/vnd.jupyter.widget-view+json": {
       "model_id": "83bf34d0470f46f6ab0777cde53f916e",
       "version_major": 2,
       "version_minor": 0
      },
      "text/plain": [
       "run_leq_node:   0%|          | 0/6 [00:00<?, ?it/s]"
      ]
     },
     "metadata": {},
     "output_type": "display_data"
    },
    {
     "name": "stdout",
     "output_type": "stream",
     "text": [
      "                     vwap  twap  last bar_start_timestamp    minute  twap_ret_0  vwap_ret_0\n",
      "2010-01-05 18:15:00   NaN   NaN   NaN 2010-01-05 18:10:00  21045255         NaN         NaN\n",
      "2010-01-05 18:20:00   NaN   NaN   NaN 2010-01-05 18:15:00  21045260         NaN         NaN\n",
      "2010-01-05 18:25:00   NaN   NaN   NaN 2010-01-05 18:20:00  21045265         NaN         NaN\n",
      "now= 2010-01-05 18:26:00\n",
      "now= 2010-01-05 18:27:00\n",
      "now= 2010-01-05 18:28:00\n",
      "now= 2010-01-05 18:29:00\n",
      "now= 2010-01-05 18:30:00\n",
      "Time to execute the DAG\n"
     ]
    },
    {
     "data": {
      "application/vnd.jupyter.widget-view+json": {
       "model_id": "796ed18c9a1f4c3f92c105b27dea738d",
       "version_major": 2,
       "version_minor": 0
      },
      "text/plain": [
       "run_leq_node:   0%|          | 0/6 [00:00<?, ?it/s]"
      ]
     },
     "metadata": {},
     "output_type": "display_data"
    },
    {
     "name": "stdout",
     "output_type": "stream",
     "text": [
      "                     vwap  twap  last bar_start_timestamp    minute  twap_ret_0  vwap_ret_0\n",
      "2010-01-05 18:20:00   NaN   NaN   NaN 2010-01-05 18:15:00  21045260         NaN         NaN\n",
      "2010-01-05 18:25:00   NaN   NaN   NaN 2010-01-05 18:20:00  21045265         NaN         NaN\n",
      "2010-01-05 18:30:00   NaN   NaN   NaN 2010-01-05 18:25:00  21045270         NaN         NaN\n",
      "now= 2010-01-05 18:31:00\n",
      "now= 2010-01-05 18:32:00\n",
      "now= 2010-01-05 18:33:00\n",
      "now= 2010-01-05 18:34:00\n",
      "now= 2010-01-05 18:35:00\n",
      "Time to execute the DAG\n"
     ]
    },
    {
     "data": {
      "application/vnd.jupyter.widget-view+json": {
       "model_id": "0fa5221747244942817e849f7023ee37",
       "version_major": 2,
       "version_minor": 0
      },
      "text/plain": [
       "run_leq_node:   0%|          | 0/6 [00:00<?, ?it/s]"
      ]
     },
     "metadata": {},
     "output_type": "display_data"
    },
    {
     "name": "stdout",
     "output_type": "stream",
     "text": [
      "                     vwap  twap  last bar_start_timestamp    minute  twap_ret_0  vwap_ret_0\n",
      "2010-01-05 18:25:00   NaN   NaN   NaN 2010-01-05 18:20:00  21045265         NaN         NaN\n",
      "2010-01-05 18:30:00   NaN   NaN   NaN 2010-01-05 18:25:00  21045270         NaN         NaN\n",
      "2010-01-05 18:35:00   NaN   NaN   NaN 2010-01-05 18:30:00  21045275         NaN         NaN\n",
      "now= 2010-01-05 18:36:00\n",
      "now= 2010-01-05 18:37:00\n",
      "now= 2010-01-05 18:38:00\n",
      "now= 2010-01-05 18:39:00\n",
      "now= 2010-01-05 18:40:00\n",
      "Time to execute the DAG\n"
     ]
    },
    {
     "data": {
      "application/vnd.jupyter.widget-view+json": {
       "model_id": "f6610ee3b4fc4c20b7a7d5c248df9209",
       "version_major": 2,
       "version_minor": 0
      },
      "text/plain": [
       "run_leq_node:   0%|          | 0/6 [00:00<?, ?it/s]"
      ]
     },
     "metadata": {},
     "output_type": "display_data"
    },
    {
     "name": "stdout",
     "output_type": "stream",
     "text": [
      "                     vwap  twap  last bar_start_timestamp    minute  twap_ret_0  vwap_ret_0\n",
      "2010-01-05 18:30:00   NaN   NaN   NaN 2010-01-05 18:25:00  21045270         NaN         NaN\n",
      "2010-01-05 18:35:00   NaN   NaN   NaN 2010-01-05 18:30:00  21045275         NaN         NaN\n",
      "2010-01-05 18:40:00   NaN   NaN   NaN 2010-01-05 18:35:00  21045280         NaN         NaN\n",
      "now= 2010-01-05 18:41:00\n",
      "now= 2010-01-05 18:42:00\n",
      "now= 2010-01-05 18:43:00\n",
      "now= 2010-01-05 18:44:00\n",
      "now= 2010-01-05 18:45:00\n",
      "Time to execute the DAG\n"
     ]
    },
    {
     "data": {
      "application/vnd.jupyter.widget-view+json": {
       "model_id": "1e6a81ad15b64eab9c9b23296db31aa9",
       "version_major": 2,
       "version_minor": 0
      },
      "text/plain": [
       "run_leq_node:   0%|          | 0/6 [00:00<?, ?it/s]"
      ]
     },
     "metadata": {},
     "output_type": "display_data"
    },
    {
     "name": "stdout",
     "output_type": "stream",
     "text": [
      "                     vwap  twap  last bar_start_timestamp    minute  twap_ret_0  vwap_ret_0\n",
      "2010-01-05 18:35:00   NaN   NaN   NaN 2010-01-05 18:30:00  21045275         NaN         NaN\n",
      "2010-01-05 18:40:00   NaN   NaN   NaN 2010-01-05 18:35:00  21045280         NaN         NaN\n",
      "2010-01-05 18:45:00   NaN   NaN   NaN 2010-01-05 18:40:00  21045285         NaN         NaN\n",
      "now= 2010-01-05 18:46:00\n",
      "now= 2010-01-05 18:47:00\n",
      "now= 2010-01-05 18:48:00\n",
      "now= 2010-01-05 18:49:00\n",
      "now= 2010-01-05 18:50:00\n",
      "Time to execute the DAG\n"
     ]
    },
    {
     "data": {
      "application/vnd.jupyter.widget-view+json": {
       "model_id": "1c05ddb3cab14dfe962d026ffb469fd3",
       "version_major": 2,
       "version_minor": 0
      },
      "text/plain": [
       "run_leq_node:   0%|          | 0/6 [00:00<?, ?it/s]"
      ]
     },
     "metadata": {},
     "output_type": "display_data"
    },
    {
     "name": "stdout",
     "output_type": "stream",
     "text": [
      "                     vwap  twap  last bar_start_timestamp    minute  twap_ret_0  vwap_ret_0\n",
      "2010-01-05 18:40:00   NaN   NaN   NaN 2010-01-05 18:35:00  21045280         NaN         NaN\n",
      "2010-01-05 18:45:00   NaN   NaN   NaN 2010-01-05 18:40:00  21045285         NaN         NaN\n",
      "2010-01-05 18:50:00   NaN   NaN   NaN 2010-01-05 18:45:00  21045290         NaN         NaN\n",
      "now= 2010-01-05 18:51:00\n",
      "now= 2010-01-05 18:52:00\n",
      "now= 2010-01-05 18:53:00\n",
      "now= 2010-01-05 18:54:00\n",
      "now= 2010-01-05 18:55:00\n",
      "Time to execute the DAG\n"
     ]
    },
    {
     "data": {
      "application/vnd.jupyter.widget-view+json": {
       "model_id": "7b42a1fa2c37476abf401c5d0942ad1c",
       "version_major": 2,
       "version_minor": 0
      },
      "text/plain": [
       "run_leq_node:   0%|          | 0/6 [00:00<?, ?it/s]"
      ]
     },
     "metadata": {},
     "output_type": "display_data"
    },
    {
     "name": "stdout",
     "output_type": "stream",
     "text": [
      "                     vwap  twap  last bar_start_timestamp    minute  twap_ret_0  vwap_ret_0\n",
      "2010-01-05 18:45:00   NaN   NaN   NaN 2010-01-05 18:40:00  21045285         NaN         NaN\n",
      "2010-01-05 18:50:00   NaN   NaN   NaN 2010-01-05 18:45:00  21045290         NaN         NaN\n",
      "2010-01-05 18:55:00   NaN   NaN   NaN 2010-01-05 18:50:00  21045295         NaN         NaN\n",
      "now= 2010-01-05 18:56:00\n",
      "now= 2010-01-05 18:57:00\n",
      "now= 2010-01-05 18:58:00\n",
      "now= 2010-01-05 18:59:00\n",
      "now= 2010-01-05 19:00:00\n",
      "Time to execute the DAG\n"
     ]
    },
    {
     "data": {
      "application/vnd.jupyter.widget-view+json": {
       "model_id": "bacd5b9afa2f4613bfd627fd99c7482f",
       "version_major": 2,
       "version_minor": 0
      },
      "text/plain": [
       "run_leq_node:   0%|          | 0/6 [00:00<?, ?it/s]"
      ]
     },
     "metadata": {},
     "output_type": "display_data"
    },
    {
     "name": "stdout",
     "output_type": "stream",
     "text": [
      "                     vwap  twap  last bar_start_timestamp    minute  twap_ret_0  vwap_ret_0\n",
      "2010-01-05 18:50:00   NaN   NaN   NaN 2010-01-05 18:45:00  21045290         NaN         NaN\n",
      "2010-01-05 18:55:00   NaN   NaN   NaN 2010-01-05 18:50:00  21045295         NaN         NaN\n",
      "2010-01-05 19:00:00   NaN   NaN   NaN 2010-01-05 18:55:00  21045300         NaN         NaN\n",
      "now= 2010-01-05 19:01:00\n",
      "now= 2010-01-05 19:02:00\n",
      "now= 2010-01-05 19:03:00\n",
      "now= 2010-01-05 19:04:00\n",
      "now= 2010-01-05 19:05:00\n",
      "Time to execute the DAG\n"
     ]
    },
    {
     "data": {
      "application/vnd.jupyter.widget-view+json": {
       "model_id": "3ea56581235649b9ba98fb8e480af2c3",
       "version_major": 2,
       "version_minor": 0
      },
      "text/plain": [
       "run_leq_node:   0%|          | 0/6 [00:00<?, ?it/s]"
      ]
     },
     "metadata": {},
     "output_type": "display_data"
    },
    {
     "name": "stdout",
     "output_type": "stream",
     "text": [
      "                     vwap  twap  last bar_start_timestamp    minute  twap_ret_0  vwap_ret_0\n",
      "2010-01-05 18:55:00   NaN   NaN   NaN 2010-01-05 18:50:00  21045295         NaN         NaN\n",
      "2010-01-05 19:00:00   NaN   NaN   NaN 2010-01-05 18:55:00  21045300         NaN         NaN\n",
      "2010-01-05 19:05:00   NaN   NaN   NaN 2010-01-05 19:00:00  21045305         NaN         NaN\n",
      "now= 2010-01-05 19:06:00\n",
      "now= 2010-01-05 19:07:00\n",
      "now= 2010-01-05 19:08:00\n",
      "now= 2010-01-05 19:09:00\n",
      "now= 2010-01-05 19:10:00\n",
      "Time to execute the DAG\n"
     ]
    },
    {
     "data": {
      "application/vnd.jupyter.widget-view+json": {
       "model_id": "f7b3acea817a48739e4772011edcaa9e",
       "version_major": 2,
       "version_minor": 0
      },
      "text/plain": [
       "run_leq_node:   0%|          | 0/6 [00:00<?, ?it/s]"
      ]
     },
     "metadata": {},
     "output_type": "display_data"
    },
    {
     "name": "stdout",
     "output_type": "stream",
     "text": [
      "                     vwap  twap  last bar_start_timestamp    minute  twap_ret_0  vwap_ret_0\n",
      "2010-01-05 19:00:00   NaN   NaN   NaN 2010-01-05 18:55:00  21045300         NaN         NaN\n",
      "2010-01-05 19:05:00   NaN   NaN   NaN 2010-01-05 19:00:00  21045305         NaN         NaN\n",
      "2010-01-05 19:10:00   NaN   NaN   NaN 2010-01-05 19:05:00  21045310         NaN         NaN\n",
      "now= 2010-01-05 19:11:00\n",
      "now= 2010-01-05 19:12:00\n",
      "now= 2010-01-05 19:13:00\n",
      "now= 2010-01-05 19:14:00\n",
      "now= 2010-01-05 19:15:00\n",
      "Time to execute the DAG\n"
     ]
    },
    {
     "data": {
      "application/vnd.jupyter.widget-view+json": {
       "model_id": "617b086a50e047158cedb104f1da4fa4",
       "version_major": 2,
       "version_minor": 0
      },
      "text/plain": [
       "run_leq_node:   0%|          | 0/6 [00:00<?, ?it/s]"
      ]
     },
     "metadata": {},
     "output_type": "display_data"
    },
    {
     "name": "stdout",
     "output_type": "stream",
     "text": [
      "                     vwap  twap  last bar_start_timestamp    minute  twap_ret_0  vwap_ret_0\n",
      "2010-01-05 19:05:00   NaN   NaN   NaN 2010-01-05 19:00:00  21045305         NaN         NaN\n",
      "2010-01-05 19:10:00   NaN   NaN   NaN 2010-01-05 19:05:00  21045310         NaN         NaN\n",
      "2010-01-05 19:15:00   NaN   NaN   NaN 2010-01-05 19:10:00  21045315         NaN         NaN\n",
      "now= 2010-01-05 19:16:00\n",
      "now= 2010-01-05 19:17:00\n",
      "now= 2010-01-05 19:18:00\n",
      "now= 2010-01-05 19:19:00\n",
      "now= 2010-01-05 19:20:00\n",
      "Time to execute the DAG\n"
     ]
    },
    {
     "data": {
      "application/vnd.jupyter.widget-view+json": {
       "model_id": "d60c351b8662432c85513de998515848",
       "version_major": 2,
       "version_minor": 0
      },
      "text/plain": [
       "run_leq_node:   0%|          | 0/6 [00:00<?, ?it/s]"
      ]
     },
     "metadata": {},
     "output_type": "display_data"
    },
    {
     "name": "stdout",
     "output_type": "stream",
     "text": [
      "                     vwap  twap  last bar_start_timestamp    minute  twap_ret_0  vwap_ret_0\n",
      "2010-01-05 19:10:00   NaN   NaN   NaN 2010-01-05 19:05:00  21045310         NaN         NaN\n",
      "2010-01-05 19:15:00   NaN   NaN   NaN 2010-01-05 19:10:00  21045315         NaN         NaN\n",
      "2010-01-05 19:20:00   NaN   NaN   NaN 2010-01-05 19:15:00  21045320         NaN         NaN\n",
      "now= 2010-01-05 19:21:00\n",
      "now= 2010-01-05 19:22:00\n",
      "now= 2010-01-05 19:23:00\n",
      "now= 2010-01-05 19:24:00\n",
      "now= 2010-01-05 19:25:00\n",
      "Time to execute the DAG\n"
     ]
    },
    {
     "data": {
      "application/vnd.jupyter.widget-view+json": {
       "model_id": "64750a426c75475b8b0dbd1fc5377dc9",
       "version_major": 2,
       "version_minor": 0
      },
      "text/plain": [
       "run_leq_node:   0%|          | 0/6 [00:00<?, ?it/s]"
      ]
     },
     "metadata": {},
     "output_type": "display_data"
    },
    {
     "name": "stdout",
     "output_type": "stream",
     "text": [
      "                     vwap  twap  last bar_start_timestamp    minute  twap_ret_0  vwap_ret_0\n",
      "2010-01-05 19:15:00   NaN   NaN   NaN 2010-01-05 19:10:00  21045315         NaN         NaN\n",
      "2010-01-05 19:20:00   NaN   NaN   NaN 2010-01-05 19:15:00  21045320         NaN         NaN\n",
      "2010-01-05 19:25:00   NaN   NaN   NaN 2010-01-05 19:20:00  21045325         NaN         NaN\n",
      "now= 2010-01-05 19:26:00\n",
      "now= 2010-01-05 19:27:00\n",
      "now= 2010-01-05 19:28:00\n",
      "now= 2010-01-05 19:29:00\n",
      "now= 2010-01-05 19:30:00\n",
      "Time to execute the DAG\n"
     ]
    },
    {
     "data": {
      "application/vnd.jupyter.widget-view+json": {
       "model_id": "03b1de7458c94d2babce12036beebe9f",
       "version_major": 2,
       "version_minor": 0
      },
      "text/plain": [
       "run_leq_node:   0%|          | 0/6 [00:00<?, ?it/s]"
      ]
     },
     "metadata": {},
     "output_type": "display_data"
    },
    {
     "name": "stdout",
     "output_type": "stream",
     "text": [
      "                     vwap  twap  last bar_start_timestamp    minute  twap_ret_0  vwap_ret_0\n",
      "2010-01-05 19:20:00   NaN   NaN   NaN 2010-01-05 19:15:00  21045320         NaN         NaN\n",
      "2010-01-05 19:25:00   NaN   NaN   NaN 2010-01-05 19:20:00  21045325         NaN         NaN\n",
      "2010-01-05 19:30:00   NaN   NaN   NaN 2010-01-05 19:25:00  21045330         NaN         NaN\n",
      "now= 2010-01-05 19:31:00\n",
      "now= 2010-01-05 19:32:00\n",
      "now= 2010-01-05 19:33:00\n",
      "now= 2010-01-05 19:34:00\n",
      "now= 2010-01-05 19:35:00\n",
      "Time to execute the DAG\n"
     ]
    },
    {
     "data": {
      "application/vnd.jupyter.widget-view+json": {
       "model_id": "e644b54a34ad4bd48e7fb54adc49bef1",
       "version_major": 2,
       "version_minor": 0
      },
      "text/plain": [
       "run_leq_node:   0%|          | 0/6 [00:00<?, ?it/s]"
      ]
     },
     "metadata": {},
     "output_type": "display_data"
    },
    {
     "name": "stdout",
     "output_type": "stream",
     "text": [
      "                     vwap  twap  last bar_start_timestamp    minute  twap_ret_0  vwap_ret_0\n",
      "2010-01-05 19:25:00   NaN   NaN   NaN 2010-01-05 19:20:00  21045325         NaN         NaN\n",
      "2010-01-05 19:30:00   NaN   NaN   NaN 2010-01-05 19:25:00  21045330         NaN         NaN\n",
      "2010-01-05 19:35:00   NaN   NaN   NaN 2010-01-05 19:30:00  21045335         NaN         NaN\n",
      "now= 2010-01-05 19:36:00\n",
      "now= 2010-01-05 19:37:00\n",
      "now= 2010-01-05 19:38:00\n",
      "now= 2010-01-05 19:39:00\n",
      "now= 2010-01-05 19:40:00\n",
      "Time to execute the DAG\n"
     ]
    },
    {
     "data": {
      "application/vnd.jupyter.widget-view+json": {
       "model_id": "1d81ffcbdd664e0780c44fba62f60f8a",
       "version_major": 2,
       "version_minor": 0
      },
      "text/plain": [
       "run_leq_node:   0%|          | 0/6 [00:00<?, ?it/s]"
      ]
     },
     "metadata": {},
     "output_type": "display_data"
    },
    {
     "name": "stdout",
     "output_type": "stream",
     "text": [
      "                     vwap  twap  last bar_start_timestamp    minute  twap_ret_0  vwap_ret_0\n",
      "2010-01-05 19:30:00   NaN   NaN   NaN 2010-01-05 19:25:00  21045330         NaN         NaN\n",
      "2010-01-05 19:35:00   NaN   NaN   NaN 2010-01-05 19:30:00  21045335         NaN         NaN\n",
      "2010-01-05 19:40:00   NaN   NaN   NaN 2010-01-05 19:35:00  21045340         NaN         NaN\n",
      "now= 2010-01-05 19:41:00\n",
      "now= 2010-01-05 19:42:00\n",
      "now= 2010-01-05 19:43:00\n",
      "now= 2010-01-05 19:44:00\n",
      "now= 2010-01-05 19:45:00\n",
      "Time to execute the DAG\n"
     ]
    },
    {
     "data": {
      "application/vnd.jupyter.widget-view+json": {
       "model_id": "51aba7c235ec496f9845f6ce28298878",
       "version_major": 2,
       "version_minor": 0
      },
      "text/plain": [
       "run_leq_node:   0%|          | 0/6 [00:00<?, ?it/s]"
      ]
     },
     "metadata": {},
     "output_type": "display_data"
    },
    {
     "name": "stdout",
     "output_type": "stream",
     "text": [
      "                     vwap  twap  last bar_start_timestamp    minute  twap_ret_0  vwap_ret_0\n",
      "2010-01-05 19:35:00   NaN   NaN   NaN 2010-01-05 19:30:00  21045335         NaN         NaN\n",
      "2010-01-05 19:40:00   NaN   NaN   NaN 2010-01-05 19:35:00  21045340         NaN         NaN\n",
      "2010-01-05 19:45:00   NaN   NaN   NaN 2010-01-05 19:40:00  21045345         NaN         NaN\n",
      "now= 2010-01-05 19:46:00\n",
      "now= 2010-01-05 19:47:00\n",
      "now= 2010-01-05 19:48:00\n",
      "now= 2010-01-05 19:49:00\n",
      "now= 2010-01-05 19:50:00\n",
      "Time to execute the DAG\n"
     ]
    },
    {
     "data": {
      "application/vnd.jupyter.widget-view+json": {
       "model_id": "e270f5069332499fbbd716cc42dcebdd",
       "version_major": 2,
       "version_minor": 0
      },
      "text/plain": [
       "run_leq_node:   0%|          | 0/6 [00:00<?, ?it/s]"
      ]
     },
     "metadata": {},
     "output_type": "display_data"
    },
    {
     "name": "stdout",
     "output_type": "stream",
     "text": [
      "                     vwap  twap  last bar_start_timestamp    minute  twap_ret_0  vwap_ret_0\n",
      "2010-01-05 19:40:00   NaN   NaN   NaN 2010-01-05 19:35:00  21045340         NaN         NaN\n",
      "2010-01-05 19:45:00   NaN   NaN   NaN 2010-01-05 19:40:00  21045345         NaN         NaN\n",
      "2010-01-05 19:50:00   NaN   NaN   NaN 2010-01-05 19:45:00  21045350         NaN         NaN\n",
      "now= 2010-01-05 19:51:00\n",
      "now= 2010-01-05 19:52:00\n",
      "now= 2010-01-05 19:53:00\n",
      "now= 2010-01-05 19:54:00\n",
      "now= 2010-01-05 19:55:00\n",
      "Time to execute the DAG\n"
     ]
    },
    {
     "data": {
      "application/vnd.jupyter.widget-view+json": {
       "model_id": "b67a84165acf4c1aa62d04bdb1769078",
       "version_major": 2,
       "version_minor": 0
      },
      "text/plain": [
       "run_leq_node:   0%|          | 0/6 [00:00<?, ?it/s]"
      ]
     },
     "metadata": {},
     "output_type": "display_data"
    },
    {
     "name": "stdout",
     "output_type": "stream",
     "text": [
      "                     vwap  twap  last bar_start_timestamp    minute  twap_ret_0  vwap_ret_0\n",
      "2010-01-05 19:45:00   NaN   NaN   NaN 2010-01-05 19:40:00  21045345         NaN         NaN\n",
      "2010-01-05 19:50:00   NaN   NaN   NaN 2010-01-05 19:45:00  21045350         NaN         NaN\n",
      "2010-01-05 19:55:00   NaN   NaN   NaN 2010-01-05 19:50:00  21045355         NaN         NaN\n",
      "now= 2010-01-05 19:56:00\n",
      "now= 2010-01-05 19:57:00\n",
      "now= 2010-01-05 19:58:00\n",
      "now= 2010-01-05 19:59:00\n",
      "now= 2010-01-05 20:00:00\n",
      "Time to execute the DAG\n"
     ]
    },
    {
     "data": {
      "application/vnd.jupyter.widget-view+json": {
       "model_id": "c5eb4f77945d417e946b72bfd1b55830",
       "version_major": 2,
       "version_minor": 0
      },
      "text/plain": [
       "run_leq_node:   0%|          | 0/6 [00:00<?, ?it/s]"
      ]
     },
     "metadata": {},
     "output_type": "display_data"
    },
    {
     "name": "stdout",
     "output_type": "stream",
     "text": [
      "                     vwap  twap  last bar_start_timestamp    minute  twap_ret_0  vwap_ret_0\n",
      "2010-01-05 19:50:00   NaN   NaN   NaN 2010-01-05 19:45:00  21045350         NaN         NaN\n",
      "2010-01-05 19:55:00   NaN   NaN   NaN 2010-01-05 19:50:00  21045355         NaN         NaN\n",
      "2010-01-05 20:00:00   NaN   NaN   NaN 2010-01-05 19:55:00  21045360         NaN         NaN\n",
      "now= 2010-01-05 20:01:00\n",
      "now= 2010-01-05 20:02:00\n",
      "now= 2010-01-05 20:03:00\n",
      "now= 2010-01-05 20:04:00\n",
      "now= 2010-01-05 20:05:00\n",
      "Time to execute the DAG\n"
     ]
    },
    {
     "data": {
      "application/vnd.jupyter.widget-view+json": {
       "model_id": "499fea6999f44dfca3dad1bbf6d2557b",
       "version_major": 2,
       "version_minor": 0
      },
      "text/plain": [
       "run_leq_node:   0%|          | 0/6 [00:00<?, ?it/s]"
      ]
     },
     "metadata": {},
     "output_type": "display_data"
    },
    {
     "name": "stdout",
     "output_type": "stream",
     "text": [
      "                     vwap  twap  last bar_start_timestamp    minute  twap_ret_0  vwap_ret_0\n",
      "2010-01-05 19:55:00   NaN   NaN   NaN 2010-01-05 19:50:00  21045355         NaN         NaN\n",
      "2010-01-05 20:00:00   NaN   NaN   NaN 2010-01-05 19:55:00  21045360         NaN         NaN\n",
      "2010-01-05 20:05:00   NaN   NaN   NaN 2010-01-05 20:00:00  21045365         NaN         NaN\n",
      "now= 2010-01-05 20:06:00\n",
      "now= 2010-01-05 20:07:00\n",
      "now= 2010-01-05 20:08:00\n",
      "now= 2010-01-05 20:09:00\n",
      "now= 2010-01-05 20:10:00\n",
      "Time to execute the DAG\n"
     ]
    },
    {
     "data": {
      "application/vnd.jupyter.widget-view+json": {
       "model_id": "35611a9f1a1e4c8081cbd016f9292b6e",
       "version_major": 2,
       "version_minor": 0
      },
      "text/plain": [
       "run_leq_node:   0%|          | 0/6 [00:00<?, ?it/s]"
      ]
     },
     "metadata": {},
     "output_type": "display_data"
    },
    {
     "name": "stdout",
     "output_type": "stream",
     "text": [
      "                     vwap  twap  last bar_start_timestamp    minute  twap_ret_0  vwap_ret_0\n",
      "2010-01-05 20:00:00   NaN   NaN   NaN 2010-01-05 19:55:00  21045360         NaN         NaN\n",
      "2010-01-05 20:05:00   NaN   NaN   NaN 2010-01-05 20:00:00  21045365         NaN         NaN\n",
      "2010-01-05 20:10:00   NaN   NaN   NaN 2010-01-05 20:05:00  21045370         NaN         NaN\n",
      "now= 2010-01-05 20:11:00\n",
      "now= 2010-01-05 20:12:00\n",
      "now= 2010-01-05 20:13:00\n",
      "now= 2010-01-05 20:14:00\n",
      "now= 2010-01-05 20:15:00\n",
      "Time to execute the DAG\n"
     ]
    },
    {
     "data": {
      "application/vnd.jupyter.widget-view+json": {
       "model_id": "b75d3684aef14340a13dca0949589c9e",
       "version_major": 2,
       "version_minor": 0
      },
      "text/plain": [
       "run_leq_node:   0%|          | 0/6 [00:00<?, ?it/s]"
      ]
     },
     "metadata": {},
     "output_type": "display_data"
    },
    {
     "name": "stdout",
     "output_type": "stream",
     "text": [
      "                     vwap  twap  last bar_start_timestamp    minute  twap_ret_0  vwap_ret_0\n",
      "2010-01-05 20:05:00   NaN   NaN   NaN 2010-01-05 20:00:00  21045365         NaN         NaN\n",
      "2010-01-05 20:10:00   NaN   NaN   NaN 2010-01-05 20:05:00  21045370         NaN         NaN\n",
      "2010-01-05 20:15:00   NaN   NaN   NaN 2010-01-05 20:10:00  21045375         NaN         NaN\n",
      "now= 2010-01-05 20:16:00\n",
      "now= 2010-01-05 20:17:00\n",
      "now= 2010-01-05 20:18:00\n",
      "now= 2010-01-05 20:19:00\n",
      "now= 2010-01-05 20:20:00\n",
      "Time to execute the DAG\n"
     ]
    },
    {
     "data": {
      "application/vnd.jupyter.widget-view+json": {
       "model_id": "736614ae024848c98ca05f29c2a5e515",
       "version_major": 2,
       "version_minor": 0
      },
      "text/plain": [
       "run_leq_node:   0%|          | 0/6 [00:00<?, ?it/s]"
      ]
     },
     "metadata": {},
     "output_type": "display_data"
    },
    {
     "name": "stdout",
     "output_type": "stream",
     "text": [
      "                     vwap  twap  last bar_start_timestamp    minute  twap_ret_0  vwap_ret_0\n",
      "2010-01-05 20:10:00   NaN   NaN   NaN 2010-01-05 20:05:00  21045370         NaN         NaN\n",
      "2010-01-05 20:15:00   NaN   NaN   NaN 2010-01-05 20:10:00  21045375         NaN         NaN\n",
      "2010-01-05 20:20:00   NaN   NaN   NaN 2010-01-05 20:15:00  21045380         NaN         NaN\n",
      "now= 2010-01-05 20:21:00\n",
      "now= 2010-01-05 20:22:00\n",
      "now= 2010-01-05 20:23:00\n",
      "now= 2010-01-05 20:24:00\n",
      "now= 2010-01-05 20:25:00\n",
      "Time to execute the DAG\n"
     ]
    },
    {
     "data": {
      "application/vnd.jupyter.widget-view+json": {
       "model_id": "53b4a3f32a6944a7aa0eb0cde394bdad",
       "version_major": 2,
       "version_minor": 0
      },
      "text/plain": [
       "run_leq_node:   0%|          | 0/6 [00:00<?, ?it/s]"
      ]
     },
     "metadata": {},
     "output_type": "display_data"
    },
    {
     "name": "stdout",
     "output_type": "stream",
     "text": [
      "                     vwap  twap  last bar_start_timestamp    minute  twap_ret_0  vwap_ret_0\n",
      "2010-01-05 20:15:00   NaN   NaN   NaN 2010-01-05 20:10:00  21045375         NaN         NaN\n",
      "2010-01-05 20:20:00   NaN   NaN   NaN 2010-01-05 20:15:00  21045380         NaN         NaN\n",
      "2010-01-05 20:25:00   NaN   NaN   NaN 2010-01-05 20:20:00  21045385         NaN         NaN\n",
      "now= 2010-01-05 20:26:00\n",
      "now= 2010-01-05 20:27:00\n",
      "now= 2010-01-05 20:28:00\n",
      "now= 2010-01-05 20:29:00\n",
      "now= 2010-01-05 20:30:00\n",
      "Time to execute the DAG\n"
     ]
    },
    {
     "data": {
      "application/vnd.jupyter.widget-view+json": {
       "model_id": "cd1da4c15fb2436ea52e8e6c394c8256",
       "version_major": 2,
       "version_minor": 0
      },
      "text/plain": [
       "run_leq_node:   0%|          | 0/6 [00:00<?, ?it/s]"
      ]
     },
     "metadata": {},
     "output_type": "display_data"
    },
    {
     "name": "stdout",
     "output_type": "stream",
     "text": [
      "                     vwap  twap  last bar_start_timestamp    minute  twap_ret_0  vwap_ret_0\n",
      "2010-01-05 20:20:00   NaN   NaN   NaN 2010-01-05 20:15:00  21045380         NaN         NaN\n",
      "2010-01-05 20:25:00   NaN   NaN   NaN 2010-01-05 20:20:00  21045385         NaN         NaN\n",
      "2010-01-05 20:30:00   NaN   NaN   NaN 2010-01-05 20:25:00  21045390         NaN         NaN\n",
      "now= 2010-01-05 20:31:00\n",
      "now= 2010-01-05 20:32:00\n",
      "now= 2010-01-05 20:33:00\n",
      "now= 2010-01-05 20:34:00\n",
      "now= 2010-01-05 20:35:00\n",
      "Time to execute the DAG\n"
     ]
    },
    {
     "data": {
      "application/vnd.jupyter.widget-view+json": {
       "model_id": "244a238a1d024deba4c6e156da17983c",
       "version_major": 2,
       "version_minor": 0
      },
      "text/plain": [
       "run_leq_node:   0%|          | 0/6 [00:00<?, ?it/s]"
      ]
     },
     "metadata": {},
     "output_type": "display_data"
    },
    {
     "name": "stdout",
     "output_type": "stream",
     "text": [
      "                     vwap  twap  last bar_start_timestamp    minute  twap_ret_0  vwap_ret_0\n",
      "2010-01-05 20:25:00   NaN   NaN   NaN 2010-01-05 20:20:00  21045385         NaN         NaN\n",
      "2010-01-05 20:30:00   NaN   NaN   NaN 2010-01-05 20:25:00  21045390         NaN         NaN\n",
      "2010-01-05 20:35:00   NaN   NaN   NaN 2010-01-05 20:30:00  21045395         NaN         NaN\n",
      "now= 2010-01-05 20:36:00\n",
      "now= 2010-01-05 20:37:00\n",
      "now= 2010-01-05 20:38:00\n",
      "now= 2010-01-05 20:39:00\n",
      "now= 2010-01-05 20:40:00\n",
      "Time to execute the DAG\n"
     ]
    },
    {
     "data": {
      "application/vnd.jupyter.widget-view+json": {
       "model_id": "a954e11c06714e948565e08bd65a894f",
       "version_major": 2,
       "version_minor": 0
      },
      "text/plain": [
       "run_leq_node:   0%|          | 0/6 [00:00<?, ?it/s]"
      ]
     },
     "metadata": {},
     "output_type": "display_data"
    },
    {
     "name": "stdout",
     "output_type": "stream",
     "text": [
      "                     vwap  twap  last bar_start_timestamp    minute  twap_ret_0  vwap_ret_0\n",
      "2010-01-05 20:30:00   NaN   NaN   NaN 2010-01-05 20:25:00  21045390         NaN         NaN\n",
      "2010-01-05 20:35:00   NaN   NaN   NaN 2010-01-05 20:30:00  21045395         NaN         NaN\n",
      "2010-01-05 20:40:00   NaN   NaN   NaN 2010-01-05 20:35:00  21045400         NaN         NaN\n",
      "now= 2010-01-05 20:41:00\n",
      "now= 2010-01-05 20:42:00\n",
      "now= 2010-01-05 20:43:00\n",
      "now= 2010-01-05 20:44:00\n",
      "now= 2010-01-05 20:45:00\n",
      "Time to execute the DAG\n"
     ]
    },
    {
     "data": {
      "application/vnd.jupyter.widget-view+json": {
       "model_id": "c9764efa4ad440d8b5e46344798a032e",
       "version_major": 2,
       "version_minor": 0
      },
      "text/plain": [
       "run_leq_node:   0%|          | 0/6 [00:00<?, ?it/s]"
      ]
     },
     "metadata": {},
     "output_type": "display_data"
    },
    {
     "name": "stdout",
     "output_type": "stream",
     "text": [
      "                     vwap  twap  last bar_start_timestamp    minute  twap_ret_0  vwap_ret_0\n",
      "2010-01-05 20:35:00   NaN   NaN   NaN 2010-01-05 20:30:00  21045395         NaN         NaN\n",
      "2010-01-05 20:40:00   NaN   NaN   NaN 2010-01-05 20:35:00  21045400         NaN         NaN\n",
      "2010-01-05 20:45:00   NaN   NaN   NaN 2010-01-05 20:40:00  21045405         NaN         NaN\n",
      "now= 2010-01-05 20:46:00\n",
      "now= 2010-01-05 20:47:00\n",
      "now= 2010-01-05 20:48:00\n",
      "now= 2010-01-05 20:49:00\n",
      "now= 2010-01-05 20:50:00\n",
      "Time to execute the DAG\n"
     ]
    },
    {
     "data": {
      "application/vnd.jupyter.widget-view+json": {
       "model_id": "dbd1fc1eb0b54e5eac37951d5b1880ca",
       "version_major": 2,
       "version_minor": 0
      },
      "text/plain": [
       "run_leq_node:   0%|          | 0/6 [00:00<?, ?it/s]"
      ]
     },
     "metadata": {},
     "output_type": "display_data"
    },
    {
     "name": "stdout",
     "output_type": "stream",
     "text": [
      "                     vwap  twap  last bar_start_timestamp    minute  twap_ret_0  vwap_ret_0\n",
      "2010-01-05 20:40:00   NaN   NaN   NaN 2010-01-05 20:35:00  21045400         NaN         NaN\n",
      "2010-01-05 20:45:00   NaN   NaN   NaN 2010-01-05 20:40:00  21045405         NaN         NaN\n",
      "2010-01-05 20:50:00   NaN   NaN   NaN 2010-01-05 20:45:00  21045410         NaN         NaN\n",
      "now= 2010-01-05 20:51:00\n",
      "now= 2010-01-05 20:52:00\n",
      "now= 2010-01-05 20:53:00\n",
      "now= 2010-01-05 20:54:00\n",
      "now= 2010-01-05 20:55:00\n",
      "Time to execute the DAG\n"
     ]
    },
    {
     "data": {
      "application/vnd.jupyter.widget-view+json": {
       "model_id": "b65338b2840a44baa67fa6fc1e1f2995",
       "version_major": 2,
       "version_minor": 0
      },
      "text/plain": [
       "run_leq_node:   0%|          | 0/6 [00:00<?, ?it/s]"
      ]
     },
     "metadata": {},
     "output_type": "display_data"
    },
    {
     "name": "stdout",
     "output_type": "stream",
     "text": [
      "                     vwap  twap  last bar_start_timestamp    minute  twap_ret_0  vwap_ret_0\n",
      "2010-01-05 20:45:00   NaN   NaN   NaN 2010-01-05 20:40:00  21045405         NaN         NaN\n",
      "2010-01-05 20:50:00   NaN   NaN   NaN 2010-01-05 20:45:00  21045410         NaN         NaN\n",
      "2010-01-05 20:55:00   NaN   NaN   NaN 2010-01-05 20:50:00  21045415         NaN         NaN\n",
      "now= 2010-01-05 20:56:00\n",
      "now= 2010-01-05 20:57:00\n",
      "now= 2010-01-05 20:58:00\n",
      "now= 2010-01-05 20:59:00\n",
      "now= 2010-01-05 21:00:00\n",
      "Time to execute the DAG\n"
     ]
    },
    {
     "data": {
      "application/vnd.jupyter.widget-view+json": {
       "model_id": "78cc5e8069f94b8890b3af3ff9cedb7e",
       "version_major": 2,
       "version_minor": 0
      },
      "text/plain": [
       "run_leq_node:   0%|          | 0/6 [00:00<?, ?it/s]"
      ]
     },
     "metadata": {},
     "output_type": "display_data"
    }
   ],
   "source": [
    "node = dag.get_node(\"load_prices\")\n",
    "node.reset_now_time()\n",
    "    \n",
    "for now in dartu.get_now_time(start_date, end_date):\n",
    "    print(\"now=\", now)\n",
    "    execute = dartu.is_dag_to_execute(now)\n",
    "    if execute:\n",
    "        print(\"Time to execute the DAG\")\n",
    "        node = dag.get_node(\"load_prices\")\n",
    "        node.set_now_time(now)\n",
    "        #\n",
    "        sink = dag.get_unique_sink()\n",
    "        dict_ = dag.run_leq_node(sink, \"fit\")\n",
    "        print(dict_[\"df_out\"].tail(3))"
   ]
  }
 ],
 "metadata": {
  "jupytext": {
   "text_representation": {
    "extension": ".py",
    "format_name": "percent",
    "format_version": "1.3",
    "jupytext_version": "1.11.2"
   }
  },
  "kernelspec": {
   "display_name": "Python 3",
   "language": "python",
   "name": "python3"
  },
  "language_info": {
   "codemirror_mode": {
    "name": "ipython",
    "version": 3
   },
   "file_extension": ".py",
   "mimetype": "text/x-python",
   "name": "python",
   "nbconvert_exporter": "python",
   "pygments_lexer": "ipython3",
   "version": "3.8.5"
  },
  "toc": {
   "base_numbering": 1,
   "nav_menu": {},
   "number_sections": true,
   "sideBar": true,
   "skip_h1_title": false,
   "title_cell": "Table of Contents",
   "title_sidebar": "Contents",
   "toc_cell": false,
   "toc_position": {
    "height": "calc(100% - 180px)",
    "left": "10px",
    "top": "150px",
    "width": "165px"
   },
   "toc_section_display": true,
   "toc_window_display": true
  }
 },
 "nbformat": 4,
 "nbformat_minor": 5
}
