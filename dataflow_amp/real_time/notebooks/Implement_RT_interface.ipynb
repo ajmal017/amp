{
 "cells": [
  {
   "cell_type": "markdown",
   "id": "219d117c",
   "metadata": {},
   "source": [
    "## Imports"
   ]
  },
  {
   "cell_type": "code",
   "execution_count": 8,
   "id": "9692caf7",
   "metadata": {
    "ExecuteTime": {
     "end_time": "2021-07-30T15:14:00.152770Z",
     "start_time": "2021-07-30T15:14:00.109389Z"
    }
   },
   "outputs": [],
   "source": [
    "%load_ext autoreload\n",
    "%autoreload 2\n",
    "\n",
    "import logging\n",
    "import os\n",
    "\n",
    "import pandas as pd\n",
    "\n",
    "import helpers.dbg as dbg\n",
    "import helpers.printing as prnt"
   ]
  },
  {
   "cell_type": "code",
   "execution_count": 9,
   "id": "58a2b5f3",
   "metadata": {
    "ExecuteTime": {
     "end_time": "2021-07-30T15:14:01.751452Z",
     "start_time": "2021-07-30T15:14:01.697440Z"
    }
   },
   "outputs": [
    {
     "name": "stdout",
     "output_type": "stream",
     "text": [
      "\u001b[33mWARNING\u001b[0m: Disabling annoying warnings\n",
      "\u001b[0m\u001b[36mINFO\u001b[0m: > cmd='/venv/lib/python3.8/site-packages/ipykernel_launcher.py -f /root/.local/share/jupyter/runtime/kernel-26b9c9dd-34a1-43ca-8ac4-d0545f037ca0.json'\n",
      "\u001b[33mWARNING\u001b[0m: Running in Jupyter\n"
     ]
    }
   ],
   "source": [
    "prnt.config_notebook()\n",
    "\n",
    "# dbg.init_logger(verbosity=logging.DEBUG)\n",
    "dbg.init_logger(verbosity=logging.INFO)\n",
    "# dbg.test_logger()\n",
    "_LOG = logging.getLogger(__name__)"
   ]
  },
  {
   "cell_type": "markdown",
   "id": "4818beec",
   "metadata": {},
   "source": [
    "# Real-time node"
   ]
  },
  {
   "cell_type": "markdown",
   "id": "22369da0",
   "metadata": {},
   "source": [
    "## Build pipeline\n"
   ]
  },
  {
   "cell_type": "code",
   "execution_count": null,
   "id": "3de9acfe",
   "metadata": {
    "ExecuteTime": {
     "end_time": "2021-07-29T23:24:46.565852Z",
     "start_time": "2021-07-29T23:24:46.413917Z"
    }
   },
   "outputs": [],
   "source": [
    "import core.config as cconfig\n",
    "import core.dataflow as cdataf\n",
    "\n",
    "import core.dataflow.real_time as cdrt\n",
    "import dataflow_amp.returns.pipeline as darp\n",
    "\n",
    "dag_builder = darp.ReturnsPipeline()\n",
    "config = dag_builder.get_config_template()\n",
    "\n",
    "# # Add the source node.\n",
    "# source_config = cconfig.get_config_from_nested_dict(\n",
    "#     {\n",
    "#         \"func\": cldns.load_single_instrument_data,\n",
    "#         \"func_kwargs\": {\n",
    "#             \"start_date\": datetime.date(2010, 6, 29),\n",
    "#             \"end_date\": datetime.date(2010, 7, 13),\n",
    "#         },\n",
    "#     }\n",
    "# )\n",
    "# config[\"load_prices\"] = source_config\n",
    "# config[\"resample_prices_to_1min\", \"func_kwargs\", \"volume_cols\"] = [\"volume\"]\n",
    "# config[\"compute_vwap\", \"func_kwargs\", \"rule\"] = \"15T\"\n",
    "# config[\"compute_vwap\", \"func_kwargs\", \"volume_col\"] = \"volume\"\n",
    "\n",
    "if False:\n",
    "    from im.kibot.data.config import S3_PREFIX\n",
    "\n",
    "    ticker = \"AAPL\"\n",
    "    file_path = os.path.join(S3_PREFIX, \"pq/sp_500_1min\", ticker + \".pq\")\n",
    "    source_node_kwargs = {\n",
    "        \"func\": cdataf.load_data_from_disk,\n",
    "        \"func_kwargs\": {\n",
    "            \"file_path\": file_path,\n",
    "            \"start_date\": pd.to_datetime(\"2010-01-04 9:30:00\"),\n",
    "            \"end_date\": pd.to_datetime(\"2010-01-04 16:05:00\"),\n",
    "        },\n",
    "    }\n",
    "    config[\"load_prices\"] = cconfig.get_config_from_nested_dict(\n",
    "        source_node_kwargs\n",
    "    )\n",
    "\n",
    "else:\n",
    "    start_date = pd.Timestamp(\"2010-01-04 09:30:00\")\n",
    "    end_date = pd.Timestamp(\"2010-01-04 11:30:00\")\n",
    "\n",
    "    source_node_kwargs = {\n",
    "        \"columns\": [\"close\", \"vol\"],\n",
    "        \"start_date\": start_date,\n",
    "        \"end_date\": end_date,\n",
    "    }\n",
    "    config[\"load_prices\"] = cconfig.get_config_from_nested_dict(\n",
    "        {\n",
    "            \"source_node_name\": \"real_time_synthetic\",\n",
    "            \"source_node_kwargs\": source_node_kwargs,\n",
    "        }\n",
    "    )\n",
    "\n",
    "print(config)"
   ]
  },
  {
   "cell_type": "code",
   "execution_count": null,
   "id": "f7e354c5",
   "metadata": {
    "ExecuteTime": {
     "end_time": "2021-07-27T23:30:49.365816Z",
     "start_time": "2021-07-27T23:30:49.329059Z"
    }
   },
   "outputs": [],
   "source": [
    "dag = dag_builder.get_dag(config)"
   ]
  },
  {
   "cell_type": "code",
   "execution_count": null,
   "id": "eeb33177",
   "metadata": {
    "ExecuteTime": {
     "end_time": "2021-07-27T23:30:49.403067Z",
     "start_time": "2021-07-27T23:30:49.368969Z"
    }
   },
   "outputs": [],
   "source": [
    "if False:\n",
    "    # nid = \"compute_ret_0\"\n",
    "    nid = \"load_prices\"\n",
    "    node = dag.get_node(\"load_prices\")\n",
    "    node.reset_current_time()\n",
    "    node.set_current_time(pd.to_datetime(\"2010-01-06 9:30:00\"))\n",
    "\n",
    "    dict_ = dag.run_leq_node(nid, \"fit\")\n",
    "\n",
    "    print(dict_)"
   ]
  },
  {
   "cell_type": "code",
   "execution_count": null,
   "id": "03498404",
   "metadata": {
    "ExecuteTime": {
     "end_time": "2021-07-27T23:30:52.029542Z",
     "start_time": "2021-07-27T23:30:49.405476Z"
    },
    "scrolled": false
   },
   "outputs": [],
   "source": [
    "node = dag.get_node(\"load_prices\")\n",
    "node.reset_current_time()\n",
    "\n",
    "for now in cdrt.get_now_time(start_date, end_date):\n",
    "    print(\"now=\", now)\n",
    "    execute = cdrt.is_dag_to_execute(now)\n",
    "    if execute:\n",
    "        print(\"Time to execute the DAG\")\n",
    "        node = dag.get_node(\"load_prices\")\n",
    "        node.set_current_time(now)\n",
    "        #\n",
    "        sink = dag.get_unique_sink()\n",
    "        dict_ = dag.run_leq_node(sink, \"fit\")\n",
    "        print(dict_[\"df_out\"].tail(3))"
   ]
  },
  {
   "cell_type": "markdown",
   "id": "7940aafb",
   "metadata": {},
   "source": [
    "## Use real_time_return_pipeline"
   ]
  },
  {
   "cell_type": "code",
   "execution_count": 5,
   "id": "f13fa0f3",
   "metadata": {
    "ExecuteTime": {
     "end_time": "2021-07-30T15:11:03.013688Z",
     "start_time": "2021-07-30T15:11:02.629647Z"
    }
   },
   "outputs": [
    {
     "name": "stdout",
     "output_type": "stream",
     "text": [
      "\n",
      "# config=\n",
      "load_prices:\n",
      "  source_node_name: RealTimeDataSource\n",
      "  source_node_kwargs:\n",
      "    delay_in_secs: 0.0\n",
      "    external_clock: <bound method ReplayRealTime.get_replayed_current_time of <core.dataflow.real_time.ReplayRealTime object>>\n",
      "    data_builder: <function generate_synthetic_data>\n",
      "    data_builder_kwargs:\n",
      "      columns: ['close', 'vol']\n",
      "      start_datetime: 2010-01-04 09:30:00\n",
      "      end_datetime: 2010-01-04 11:30:00\n",
      "filter_weekends:\n",
      "  col_mode: replace_all\n",
      "filter_ath:\n",
      "  col_mode: replace_all\n",
      "  transformer_kwargs:\n",
      "    start_time: 09:30:00\n",
      "    end_time: 16:00:00\n",
      "resample_prices_to_1min:\n",
      "  func_kwargs:\n",
      "    rule: 1T\n",
      "    price_cols: ['close']\n",
      "    volume_cols: ['vol']\n",
      "compute_vwap:\n",
      "  func_kwargs:\n",
      "    rule: 5T\n",
      "    price_col: close\n",
      "    volume_col: vol\n",
      "    add_bar_start_timestamps: True\n",
      "    add_epoch: True\n",
      "    add_last_price: True\n",
      "compute_ret_0:\n",
      "  cols: ['twap', 'vwap']\n",
      "  col_mode: merge_all\n",
      "  transformer_kwargs:\n",
      "    mode: pct_change\n"
     ]
    }
   ],
   "source": [
    "import dataflow_amp.real_time.real_time_return_pipeline as dtfart\n",
    "\n",
    "dag_builder = dtfart.RealTimeReturnPipeline()\n",
    "\n",
    "config = dag_builder.get_config_template()\n",
    "print(\"\\n# config=\\n%s\" % config)\n",
    "\n",
    "dag_builder.validate_config(config)\n",
    "\n",
    "dag = dag_builder.get_dag(config)"
   ]
  },
  {
   "cell_type": "code",
   "execution_count": null,
   "id": "67ac8a95",
   "metadata": {
    "ExecuteTime": {
     "end_time": "2021-07-29T23:46:53.303946Z",
     "start_time": "2021-07-29T23:46:53.112123Z"
    }
   },
   "outputs": [],
   "source": [
    "#print(dag)\n",
    "cdataf.draw(dag)"
   ]
  },
  {
   "cell_type": "code",
   "execution_count": null,
   "id": "1e296f15",
   "metadata": {
    "ExecuteTime": {
     "end_time": "2021-07-30T00:28:58.142623Z",
     "start_time": "2021-07-30T00:28:55.471055Z"
    }
   },
   "outputs": [],
   "source": [
    "# # Align on a even second.\n",
    "# cdrt.align_on_even_second()\n",
    "# #\n",
    "# sleep_interval_in_secs = 1.0\n",
    "# num_iterations = 3\n",
    "# get_current_time = rrt.get_replayed_current_time\n",
    "# need_to_execute = cdrt.execute_every_2_seconds\n",
    "# #\n",
    "# execution_trace, results = cdrt.execute_dag_with_real_time_loop(\n",
    "#     sleep_interval_in_secs,\n",
    "#     num_iterations,\n",
    "#     get_current_time,\n",
    "#     need_to_execute,\n",
    "#     dag,\n",
    "# )"
   ]
  },
  {
   "cell_type": "code",
   "execution_count": null,
   "id": "72f3819e",
   "metadata": {
    "ExecuteTime": {
     "end_time": "2021-07-30T00:29:38.292863Z",
     "start_time": "2021-07-30T00:29:38.241633Z"
    }
   },
   "outputs": [],
   "source": [
    "results[0][1][\"df_out\"]"
   ]
  },
  {
   "cell_type": "code",
   "execution_count": null,
   "id": "e3c56b8b",
   "metadata": {},
   "outputs": [],
   "source": [
    "## "
   ]
  },
  {
   "cell_type": "code",
   "execution_count": 14,
   "id": "3f6fef91",
   "metadata": {
    "ExecuteTime": {
     "end_time": "2021-07-30T15:15:53.164537Z",
     "start_time": "2021-07-30T15:15:53.126349Z"
    }
   },
   "outputs": [
    {
     "name": "stdout",
     "output_type": "stream",
     "text": [
      "initial_replayed_dt=2010-01-04 09:30:00-05:00\n",
      "Using tz 'America/New_York'\n",
      "now='2021-07-30 11:15:53.159357-04:00'\n"
     ]
    }
   ],
   "source": [
    "import helpers.datetime_ as hdatetime\n",
    "import core.dataflow.real_time as cdrt\n",
    "\n",
    "start_datetime = pd.Timestamp(\"2010-01-04 09:30:00\", tz=hdatetime.get_ET_tz())\n",
    "end_datetime = pd.Timestamp(\"2010-01-05 09:30:00\", tz=hdatetime.get_ET_tz())\n",
    "\n",
    "# Use a replayed real-time starting at the same time as the data.\n",
    "rrt = cdrt.ReplayRealTime(\n",
    "    start_datetime\n",
    ")\n",
    "get_current_time = rrt.get_replayed_current_time"
   ]
  },
  {
   "cell_type": "code",
   "execution_count": 24,
   "id": "ad1e7d9e",
   "metadata": {
    "ExecuteTime": {
     "end_time": "2021-07-30T15:19:35.888772Z",
     "start_time": "2021-07-30T15:19:33.228392Z"
    },
    "scrolled": false
   },
   "outputs": [
    {
     "name": "stdout",
     "output_type": "stream",
     "text": [
      "Using tz 'America/New_York'\n",
      "now='2021-07-30 11:19:33.588918-04:00'\n",
      "event='RealTimeEvent(num_it=1, current_time=Timestamp('2010-01-04 09:33:40.429561-0500', tz='America/New_York'), wall_clock_time=Timestamp('2021-07-30 11:19:33.590915-0400', tz='America/New_York'), need_execute=True)'\n",
      "  -> execute\n"
     ]
    },
    {
     "data": {
      "application/vnd.jupyter.widget-view+json": {
       "model_id": "dc041a44202248e49e4bc185c1e90edd",
       "version_major": 2,
       "version_minor": 0
      },
      "text/plain": [
       "run_leq_node:   0%|          | 0/6 [00:00<?, ?it/s]"
      ]
     },
     "metadata": {},
     "output_type": "display_data"
    },
    {
     "name": "stdout",
     "output_type": "stream",
     "text": [
      "Using tz 'None'\n",
      "now='2021-07-30 15:19:33.627457'\n",
      "Using tz 'America/New_York'\n",
      "now='2021-07-30 11:19:34.734915-04:00'\n",
      "event='RealTimeEvent(num_it=2, current_time=Timestamp('2010-01-04 09:33:41.575558-0500', tz='America/New_York'), wall_clock_time=Timestamp('2021-07-30 11:19:34.735819-0400', tz='America/New_York'), need_execute=False)'\n",
      "Using tz 'America/New_York'\n",
      "now='2021-07-30 11:19:35.739904-04:00'\n",
      "event='RealTimeEvent(num_it=3, current_time=Timestamp('2010-01-04 09:33:42.580547-0500', tz='America/New_York'), wall_clock_time=Timestamp('2021-07-30 11:19:35.741190-0400', tz='America/New_York'), need_execute=True)'\n",
      "  -> execute\n"
     ]
    },
    {
     "data": {
      "application/vnd.jupyter.widget-view+json": {
       "model_id": "315e46673200436ca09b3ecdaa612d5c",
       "version_major": 2,
       "version_minor": 0
      },
      "text/plain": [
       "run_leq_node:   0%|          | 0/6 [00:00<?, ?it/s]"
      ]
     },
     "metadata": {},
     "output_type": "display_data"
    },
    {
     "name": "stdout",
     "output_type": "stream",
     "text": [
      "Using tz 'None'\n",
      "now='2021-07-30 15:19:35.773674'\n"
     ]
    },
    {
     "data": {
      "text/plain": [
       "([RealTimeEvent(num_it=1, current_time=Timestamp('2010-01-04 09:33:40.429561-0500', tz='America/New_York'), wall_clock_time=Timestamp('2021-07-30 11:19:33.590915-0400', tz='America/New_York'), need_execute=True),\n",
       "  RealTimeEvent(num_it=2, current_time=Timestamp('2010-01-04 09:33:41.575558-0500', tz='America/New_York'), wall_clock_time=Timestamp('2021-07-30 11:19:34.735819-0400', tz='America/New_York'), need_execute=False),\n",
       "  RealTimeEvent(num_it=3, current_time=Timestamp('2010-01-04 09:33:42.580547-0500', tz='America/New_York'), wall_clock_time=Timestamp('2021-07-30 11:19:35.741190-0400', tz='America/New_York'), need_execute=True)],\n",
       " [(Timestamp('2010-01-04 09:33:40.429561-0500', tz='America/New_York'),\n",
       "   {'df_out':                          vwap      twap      last bar_start_timestamp    minute  twap_ret_0  vwap_ret_0\n",
       "    2010-01-04 09:30:00       NaN       NaN       NaN 2010-01-04 09:25:00  21043290         NaN         NaN\n",
       "    2010-01-04 09:35:00 -0.641026 -0.489238 -1.057664 2010-01-04 09:30:00  21043295         NaN         NaN\n",
       "    2010-01-04 09:40:00 -1.030053 -1.102068 -1.195356 2010-01-04 09:35:00  21043300    1.252621    0.606883\n",
       "    2010-01-04 09:45:00 -1.489589 -1.560077 -1.547509 2010-01-04 09:40:00  21043305    0.415591    0.446128\n",
       "    2010-01-04 09:50:00 -1.868987 -1.729082 -1.905940 2010-01-04 09:45:00  21043310    0.108332    0.254700\n",
       "    2010-01-04 09:55:00 -2.553762 -2.564900 -2.284765 2010-01-04 09:50:00  21043315    0.483388    0.366388\n",
       "    2010-01-04 10:00:00 -2.119940 -2.218025 -2.724969 2010-01-04 09:55:00  21043320   -0.135239   -0.169876\n",
       "    2010-01-04 10:05:00 -3.072601 -2.902661 -3.127578 2010-01-04 10:00:00  21043325    0.308669    0.449381\n",
       "    2010-01-04 10:10:00 -3.323955 -3.277801 -2.922359 2010-01-04 10:05:00  21043330    0.129240    0.081805\n",
       "    2010-01-04 10:15:00 -3.008514 -3.026107 -3.044065 2010-01-04 10:10:00  21043335   -0.076787   -0.094899\n",
       "    2010-01-04 10:20:00 -2.668976 -2.836413 -3.432732 2010-01-04 10:15:00  21043340   -0.062686   -0.112859\n",
       "    2010-01-04 10:25:00 -3.721596 -3.496623 -3.781877 2010-01-04 10:20:00  21043345    0.232762    0.394391\n",
       "    2010-01-04 10:30:00 -3.183405 -2.844741 -2.215104 2010-01-04 10:25:00  21043350   -0.186432   -0.144613\n",
       "    2010-01-04 10:35:00 -2.668462 -2.637681 -2.926788 2010-01-04 10:30:00  21043355   -0.072787   -0.161759\n",
       "    2010-01-04 10:40:00 -2.946309 -2.903379 -2.519145 2010-01-04 10:35:00  21043360    0.100732    0.104122\n",
       "    2010-01-04 10:45:00 -2.761076 -2.726041 -2.667747 2010-01-04 10:40:00  21043365   -0.061080   -0.062869\n",
       "    2010-01-04 10:50:00 -2.652637 -2.662439 -2.759646 2010-01-04 10:45:00  21043370   -0.023331   -0.039274\n",
       "    2010-01-04 10:55:00 -3.236241 -3.209593 -3.496707 2010-01-04 10:50:00  21043375    0.205509    0.220009\n",
       "    2010-01-04 11:00:00 -3.060976 -3.111007 -2.870707 2010-01-04 10:55:00  21043380   -0.030716   -0.054157\n",
       "    2010-01-04 11:05:00 -2.511131 -2.518846 -2.748096 2010-01-04 11:00:00  21043385   -0.190344   -0.179631\n",
       "    2010-01-04 11:10:00 -2.181953 -2.157640 -1.753574 2010-01-04 11:05:00  21043390   -0.143401   -0.131087\n",
       "    2010-01-04 11:15:00 -2.463101 -2.434148 -2.830250 2010-01-04 11:10:00  21043395    0.128153    0.128851\n",
       "    2010-01-04 11:20:00 -2.529321 -2.521929 -2.333464 2010-01-04 11:15:00  21043400    0.036062    0.026885\n",
       "    2010-01-04 11:25:00 -2.423307 -2.428040 -1.814718 2010-01-04 11:20:00  21043405   -0.037229   -0.041914\n",
       "    2010-01-04 11:30:00 -1.976800 -1.966876 -1.675868 2010-01-04 11:25:00  21043410   -0.189933   -0.184255}),\n",
       "  (Timestamp('2010-01-04 09:33:42.580547-0500', tz='America/New_York'),\n",
       "   {'df_out':                          vwap      twap      last bar_start_timestamp    minute  twap_ret_0  vwap_ret_0\n",
       "    2010-01-04 09:30:00       NaN       NaN       NaN 2010-01-04 09:25:00  21043290         NaN         NaN\n",
       "    2010-01-04 09:35:00 -0.641026 -0.489238 -1.057664 2010-01-04 09:30:00  21043295         NaN         NaN\n",
       "    2010-01-04 09:40:00 -1.030053 -1.102068 -1.195356 2010-01-04 09:35:00  21043300    1.252621    0.606883\n",
       "    2010-01-04 09:45:00 -1.489589 -1.560077 -1.547509 2010-01-04 09:40:00  21043305    0.415591    0.446128\n",
       "    2010-01-04 09:50:00 -1.868987 -1.729082 -1.905940 2010-01-04 09:45:00  21043310    0.108332    0.254700\n",
       "    2010-01-04 09:55:00 -2.553762 -2.564900 -2.284765 2010-01-04 09:50:00  21043315    0.483388    0.366388\n",
       "    2010-01-04 10:00:00 -2.119940 -2.218025 -2.724969 2010-01-04 09:55:00  21043320   -0.135239   -0.169876\n",
       "    2010-01-04 10:05:00 -3.072601 -2.902661 -3.127578 2010-01-04 10:00:00  21043325    0.308669    0.449381\n",
       "    2010-01-04 10:10:00 -3.323955 -3.277801 -2.922359 2010-01-04 10:05:00  21043330    0.129240    0.081805\n",
       "    2010-01-04 10:15:00 -3.008514 -3.026107 -3.044065 2010-01-04 10:10:00  21043335   -0.076787   -0.094899\n",
       "    2010-01-04 10:20:00 -2.668976 -2.836413 -3.432732 2010-01-04 10:15:00  21043340   -0.062686   -0.112859\n",
       "    2010-01-04 10:25:00 -3.721596 -3.496623 -3.781877 2010-01-04 10:20:00  21043345    0.232762    0.394391\n",
       "    2010-01-04 10:30:00 -3.183405 -2.844741 -2.215104 2010-01-04 10:25:00  21043350   -0.186432   -0.144613\n",
       "    2010-01-04 10:35:00 -2.668462 -2.637681 -2.926788 2010-01-04 10:30:00  21043355   -0.072787   -0.161759\n",
       "    2010-01-04 10:40:00 -2.946309 -2.903379 -2.519145 2010-01-04 10:35:00  21043360    0.100732    0.104122\n",
       "    2010-01-04 10:45:00 -2.761076 -2.726041 -2.667747 2010-01-04 10:40:00  21043365   -0.061080   -0.062869\n",
       "    2010-01-04 10:50:00 -2.652637 -2.662439 -2.759646 2010-01-04 10:45:00  21043370   -0.023331   -0.039274\n",
       "    2010-01-04 10:55:00 -3.236241 -3.209593 -3.496707 2010-01-04 10:50:00  21043375    0.205509    0.220009\n",
       "    2010-01-04 11:00:00 -3.060976 -3.111007 -2.870707 2010-01-04 10:55:00  21043380   -0.030716   -0.054157\n",
       "    2010-01-04 11:05:00 -2.511131 -2.518846 -2.748096 2010-01-04 11:00:00  21043385   -0.190344   -0.179631\n",
       "    2010-01-04 11:10:00 -2.181953 -2.157640 -1.753574 2010-01-04 11:05:00  21043390   -0.143401   -0.131087\n",
       "    2010-01-04 11:15:00 -2.463101 -2.434148 -2.830250 2010-01-04 11:10:00  21043395    0.128153    0.128851\n",
       "    2010-01-04 11:20:00 -2.529321 -2.521929 -2.333464 2010-01-04 11:15:00  21043400    0.036062    0.026885\n",
       "    2010-01-04 11:25:00 -2.423307 -2.428040 -1.814718 2010-01-04 11:20:00  21043405   -0.037229   -0.041914\n",
       "    2010-01-04 11:30:00 -1.976800 -1.966876 -1.675868 2010-01-04 11:25:00  21043410   -0.189933   -0.184255})])"
      ]
     },
     "execution_count": 24,
     "metadata": {},
     "output_type": "execute_result"
    }
   ],
   "source": [
    "import core.dataflow as cdtf\n",
    "\n",
    "execute_rt_loop_kwargs = {\n",
    "    \"sleep_interval_in_secs\": 1.0,\n",
    "    \"num_iterations\": 3,\n",
    "    \"get_current_time\": rrt.get_replayed_current_time,\n",
    "    \"need_to_execute\": cdrt.execute_every_2_seconds,\n",
    "}\n",
    "\n",
    "# Align on a even second.\n",
    "#cdrt.align_on_even_second()\n",
    "#\n",
    "kwargs = {\n",
    "    \"config\": config,\n",
    "    \"dag_builder\": dag_builder,\n",
    "    \"fit_state\": None,\n",
    "    #\n",
    "    \"execute_rt_loop_kwargs\": execute_rt_loop_kwargs,\n",
    "    #\n",
    "    \"dst_dir\": None,\n",
    "}\n",
    "\n",
    "dag_runner = cdtf.RealTimeDagRunner(**kwargs)\n",
    "\n",
    "dag_runner.predict()"
   ]
  },
  {
   "cell_type": "code",
   "execution_count": null,
   "id": "a1f6220b",
   "metadata": {},
   "outputs": [],
   "source": []
  }
 ],
 "metadata": {
  "jupytext": {
   "text_representation": {
    "extension": ".py",
    "format_name": "percent",
    "format_version": "1.3",
    "jupytext_version": "1.11.2"
   }
  },
  "kernelspec": {
   "display_name": "Python 3",
   "language": "python",
   "name": "python3"
  },
  "language_info": {
   "codemirror_mode": {
    "name": "ipython",
    "version": 3
   },
   "file_extension": ".py",
   "mimetype": "text/x-python",
   "name": "python",
   "nbconvert_exporter": "python",
   "pygments_lexer": "ipython3",
   "version": "3.8.5"
  },
  "toc": {
   "base_numbering": 1,
   "nav_menu": {},
   "number_sections": true,
   "sideBar": true,
   "skip_h1_title": false,
   "title_cell": "Table of Contents",
   "title_sidebar": "Contents",
   "toc_cell": false,
   "toc_position": {
    "height": "calc(100% - 180px)",
    "left": "10px",
    "top": "150px",
    "width": "165px"
   },
   "toc_section_display": true,
   "toc_window_display": true
  }
 },
 "nbformat": 4,
 "nbformat_minor": 5
}
