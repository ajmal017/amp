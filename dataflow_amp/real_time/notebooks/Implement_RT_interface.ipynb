{
 "cells": [
  {
   "cell_type": "markdown",
   "id": "219d117c",
   "metadata": {},
   "source": [
    "## Imports"
   ]
  },
  {
   "cell_type": "code",
   "execution_count": null,
   "id": "9692caf7",
   "metadata": {
    "ExecuteTime": {
     "end_time": "2021-07-21T18:36:12.647937Z",
     "start_time": "2021-07-21T18:36:12.628606Z"
    }
   },
   "outputs": [],
   "source": [
    "%load_ext autoreload\n",
    "%autoreload 2\n",
    "\n",
    "import datetime\n",
    "import logging\n",
    "\n",
    "import pandas as pd\n",
    "from pyarrow import parquet\n",
    "import s3fs\n",
    "\n",
    "import helpers.dbg as dbg\n",
    "import helpers.env as env\n",
    "import helpers.printing as prnt\n",
    "import helpers.sql as sql"
   ]
  },
  {
   "cell_type": "code",
   "execution_count": null,
   "id": "58a2b5f3",
   "metadata": {
    "ExecuteTime": {
     "end_time": "2021-07-12T18:37:32.411250Z",
     "start_time": "2021-07-12T18:37:31.944042Z"
    }
   },
   "outputs": [],
   "source": [
    "prnt.config_notebook()\n",
    "\n",
    "# dbg.init_logger(verbosity=logging.DEBUG)\n",
    "dbg.init_logger(verbosity=logging.INFO)\n",
    "# dbg.test_logger()\n",
    "_LOG = logging.getLogger(__name__)"
   ]
  },
  {
   "cell_type": "code",
   "execution_count": null,
   "id": "c022db7a",
   "metadata": {
    "ExecuteTime": {
     "end_time": "2021-07-21T18:15:02.251809Z",
     "start_time": "2021-07-21T18:15:02.233027Z"
    }
   },
   "outputs": [],
   "source": [
    "def print_columns(df: pd.DataFrame) -> None:\n",
    "    print(\"# Columns\")\n",
    "    print(\"num_cols=%s\" % len(df.columns))\n",
    "    print(\", \".join(df.columns.tolist()))"
   ]
  },
  {
   "cell_type": "markdown",
   "id": "4453bfc0",
   "metadata": {},
   "source": [
    "## Analyze AAPL"
   ]
  },
  {
   "cell_type": "code",
   "execution_count": null,
   "id": "9fc0aafb",
   "metadata": {
    "ExecuteTime": {
     "end_time": "2021-07-21T18:22:52.742854Z",
     "start_time": "2021-07-21T18:22:52.723118Z"
    }
   },
   "outputs": [],
   "source": [
    "display(df[\"start_time\"])"
   ]
  },
  {
   "cell_type": "code",
   "execution_count": null,
   "id": "af862cd1",
   "metadata": {
    "ExecuteTime": {
     "end_time": "2021-07-21T18:37:00.711423Z",
     "start_time": "2021-07-21T18:37:00.690954Z"
    }
   },
   "outputs": [],
   "source": [
    "set(df[\"start_time\"].dt.date)"
   ]
  },
  {
   "cell_type": "code",
   "execution_count": null,
   "id": "af0feb4e",
   "metadata": {
    "ExecuteTime": {
     "end_time": "2021-07-21T18:29:51.156912Z",
     "start_time": "2021-07-21T18:29:51.134002Z"
    }
   },
   "outputs": [],
   "source": [
    "df_tmp = df[\"start_time\"].dt\n",
    "#df_tmp = df_tmp[(df_tmp >= \"2021-07-18\") & (df_tmp < \"2021-07-19\")]\n",
    "print(df_tmp.date)\n",
    "(df_tmp.date == pd.Timestamp(\"2021-07-16\")).sum()\n",
    "#df_tmp = df_tmp[(df_tmp.date == \"2021-07-19\")]\n",
    "#df_tmp"
   ]
  },
  {
   "cell_type": "code",
   "execution_count": null,
   "id": "f1e72a21",
   "metadata": {
    "ExecuteTime": {
     "end_time": "2021-07-21T18:37:07.095998Z",
     "start_time": "2021-07-21T18:37:07.063220Z"
    }
   },
   "outputs": [],
   "source": [
    "df_tmp = df[\"start_time\"]\n",
    "#date = pd.Timestamp(\"2021-07-16\").date()\n",
    "date = pd.Timestamp(\"2021-07-15\").date()\n",
    "mask = (df_tmp.dt.date >= date) & (df_tmp.dt.date < (date + datetime.timedelta(days=1)))\n",
    "print(mask.sum())\n",
    "df_tmp = sorted(df_tmp[mask])\n",
    "print(min(df_tmp), max(df_tmp))"
   ]
  },
  {
   "cell_type": "code",
   "execution_count": null,
   "id": "0e9e2708",
   "metadata": {
    "ExecuteTime": {
     "end_time": "2021-07-21T18:39:46.606090Z",
     "start_time": "2021-07-21T18:39:46.586938Z"
    }
   },
   "outputs": [],
   "source": [
    "ts = pd.Timestamp(\"2021-07-15 13:00:00\")\n",
    "#ts = pd.Timestamp(\"2021-07-15 20:38:00\")\n",
    "ts = ts.tz_localize(\"UTC\")\n",
    "ts.tz_convert(\"America/New_York\")"
   ]
  },
  {
   "cell_type": "markdown",
   "id": "4818beec",
   "metadata": {},
   "source": [
    "## Real-time node"
   ]
  },
  {
   "cell_type": "code",
   "execution_count": null,
   "id": "3f6fef91",
   "metadata": {
    "ExecuteTime": {
     "end_time": "2021-07-21T19:27:52.181243Z",
     "start_time": "2021-07-21T19:27:52.157232Z"
    }
   },
   "outputs": [],
   "source": [
    "import time"
   ]
  },
  {
   "cell_type": "code",
   "execution_count": null,
   "id": "3de9acfe",
   "metadata": {
    "ExecuteTime": {
     "end_time": "2021-07-27T14:24:44.934070Z",
     "start_time": "2021-07-27T14:24:44.902342Z"
    }
   },
   "outputs": [],
   "source": [
    "import dataflow_amp.returns.pipeline as darp\n",
    "import core.dataflow as cdataf\n",
    "import core_lime.dataflow.nodes.sources as cldns\n",
    "import core.config as cconfig\n",
    "\n",
    "dag_builder = darp.ReturnsPipeline()\n",
    "config = dag_builder.get_config_template()\n",
    "\n",
    "# Add the source node.\n",
    "source_config = cconfig.get_config_from_nested_dict(\n",
    "    {\n",
    "        \"func\": cldns.load_single_instrument_data,\n",
    "        \"func_kwargs\": {\n",
    "            \"start_date\": datetime.date(2010, 6, 29),\n",
    "            \"end_date\": datetime.date(2010, 7, 13),\n",
    "        },\n",
    "    }\n",
    ")\n",
    "config[\"load_prices\"] = source_config\n",
    "config[\"resample_prices_to_1min\", \"func_kwargs\", \"volume_cols\"] = [\"volume\"]\n",
    "config[\"compute_vwap\", \"func_kwargs\", \"rule\"] = \"15T\"\n",
    "config[\"compute_vwap\", \"func_kwargs\", \"volume_col\"] = \"volume\"\n",
    "        \n",
    "print(config)"
   ]
  },
  {
   "cell_type": "code",
   "execution_count": null,
   "id": "8529c472",
   "metadata": {
    "ExecuteTime": {
     "end_time": "2021-07-27T14:24:47.778744Z",
     "start_time": "2021-07-27T14:24:47.727019Z"
    }
   },
   "outputs": [],
   "source": [
    "#config = config.copy()\n",
    "#dag_runner = cdataf.PredictionDagRunner(\n",
    "#    config, config[\"meta\"][\"dag_builder\"]\n",
    "#)"
   ]
  },
  {
   "cell_type": "code",
   "execution_count": null,
   "id": "eeb33177",
   "metadata": {
    "ExecuteTime": {
     "end_time": "2021-07-27T14:26:30.023783Z",
     "start_time": "2021-07-27T14:26:29.944593Z"
    }
   },
   "outputs": [],
   "source": [
    "nid = \"compute_ret_0\"\n",
    "dag = dag_builder.get_dag(config)\n",
    "dict_ = dag.run_leq_node(nid, \"fit\")"
   ]
  },
  {
   "cell_type": "code",
   "execution_count": null,
   "id": "12fa6dbb",
   "metadata": {
    "ExecuteTime": {
     "end_time": "2021-07-22T21:16:41.117287Z",
     "start_time": "2021-07-22T21:16:40.984109Z"
    }
   },
   "outputs": [],
   "source": [
    "import helpers.printing as hprint\n",
    "df = cldns.load_db_example_data()\n",
    "print(\"end_time=[%s, %s]\" % (min(df[\"end_time\"]), max(df[\"end_time\"])))\n",
    "print(df.shape)\n",
    "\n",
    "\n",
    "datetime_ = pd.Timestamp(\"2021-07-22 20:01:00-00:00\")\n",
    "print(datetime_)\n",
    "df = cldns.get_db_data(datetime_)\n",
    "print(\"end_time=[%s, %s]\" % (min(df[\"end_time\"]), max(df[\"end_time\"])))\n",
    "print(df.shape)\n",
    "\n",
    "df.head()"
   ]
  },
  {
   "cell_type": "code",
   "execution_count": null,
   "id": "a401bb40",
   "metadata": {
    "ExecuteTime": {
     "end_time": "2021-07-22T21:20:24.987144Z",
     "start_time": "2021-07-22T21:20:24.761815Z"
    }
   },
   "outputs": [],
   "source": [
    "df[[\"start_time\", \"end_time\", \"timestamp_db\"]]"
   ]
  },
  {
   "cell_type": "code",
   "execution_count": null,
   "id": "03498404",
   "metadata": {
    "ExecuteTime": {
     "end_time": "2021-07-27T14:21:00.178927Z",
     "start_time": "2021-07-27T14:20:59.953291Z"
    },
    "scrolled": false
   },
   "outputs": [],
   "source": [
    "for now in cldns.get_now_time():\n",
    "    print(\"now=\", now)\n",
    "    execute = cldns.is_dag_to_execute(now)\n",
    "    if execute:\n",
    "        print(\"Time to execute the DAG\")\n",
    "        # Get the data from the DB.\n",
    "        df = cldns.get_db_data(now)\n",
    "        print(\"end_time=[%s, %s]\" % (min(df[\"end_time\"]), max(df[\"end_time\"])))\n",
    "        display(df.head(3))\n",
    "        print(df.shape)\n",
    "        "
   ]
  }
 ],
 "metadata": {
  "jupytext": {
   "text_representation": {
    "extension": ".py",
    "format_name": "percent",
    "format_version": "1.3",
    "jupytext_version": "1.11.2"
   }
  },
  "kernelspec": {
   "display_name": "Python 3",
   "language": "python",
   "name": "python3"
  },
  "language_info": {
   "codemirror_mode": {
    "name": "ipython",
    "version": 3
   },
   "file_extension": ".py",
   "mimetype": "text/x-python",
   "name": "python",
   "nbconvert_exporter": "python",
   "pygments_lexer": "ipython3",
   "version": "3.8.5"
  },
  "toc": {
   "base_numbering": 1,
   "nav_menu": {},
   "number_sections": true,
   "sideBar": true,
   "skip_h1_title": false,
   "title_cell": "Table of Contents",
   "title_sidebar": "Contents",
   "toc_cell": false,
   "toc_position": {
    "height": "calc(100% - 180px)",
    "left": "10px",
    "top": "150px",
    "width": "165px"
   },
   "toc_section_display": true,
   "toc_window_display": true
  }
 },
 "nbformat": 4,
 "nbformat_minor": 5
}
