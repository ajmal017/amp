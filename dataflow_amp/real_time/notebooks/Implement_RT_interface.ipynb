{
 "cells": [
  {
   "cell_type": "markdown",
   "id": "219d117c",
   "metadata": {},
   "source": [
    "## Imports"
   ]
  },
  {
   "cell_type": "code",
   "execution_count": 1,
   "id": "9692caf7",
   "metadata": {
    "ExecuteTime": {
     "end_time": "2021-07-27T23:30:46.781252Z",
     "start_time": "2021-07-27T23:30:46.251091Z"
    }
   },
   "outputs": [],
   "source": [
    "%load_ext autoreload\n",
    "%autoreload 2\n",
    "\n",
    "import logging\n",
    "import os\n",
    "\n",
    "import pandas as pd\n",
    "\n",
    "import helpers.dbg as dbg\n",
    "import helpers.printing as prnt"
   ]
  },
  {
   "cell_type": "code",
   "execution_count": 2,
   "id": "58a2b5f3",
   "metadata": {
    "ExecuteTime": {
     "end_time": "2021-07-27T23:30:47.340029Z",
     "start_time": "2021-07-27T23:30:46.785184Z"
    }
   },
   "outputs": [
    {
     "name": "stdout",
     "output_type": "stream",
     "text": [
      "\u001b[33mWARNING\u001b[0m: Disabling annoying warnings\n",
      "\u001b[0m\u001b[36mINFO\u001b[0m: > cmd='/venv/lib/python3.8/site-packages/ipykernel_launcher.py -f /root/.local/share/jupyter/runtime/kernel-26b9c9dd-34a1-43ca-8ac4-d0545f037ca0.json'\n",
      "\u001b[33mWARNING\u001b[0m: Running in Jupyter\n"
     ]
    }
   ],
   "source": [
    "prnt.config_notebook()\n",
    "\n",
    "# dbg.init_logger(verbosity=logging.DEBUG)\n",
    "dbg.init_logger(verbosity=logging.INFO)\n",
    "# dbg.test_logger()\n",
    "_LOG = logging.getLogger(__name__)"
   ]
  },
  {
   "cell_type": "markdown",
   "id": "4818beec",
   "metadata": {},
   "source": [
    "# Real-time node\n",
    "\n",
    "import core.dataflow.real_time as cdrt"
   ]
  },
  {
   "cell_type": "code",
   "execution_count": 15,
   "id": "3f6fef91",
   "metadata": {
    "ExecuteTime": {
     "end_time": "2021-07-29T13:56:52.386767Z",
     "start_time": "2021-07-29T13:56:52.352396Z"
    }
   },
   "outputs": [],
   "source": [
    "import helpers.datetime_ as hdatetime"
   ]
  },
  {
   "cell_type": "code",
   "execution_count": 11,
   "id": "d4018b09",
   "metadata": {
    "ExecuteTime": {
     "end_time": "2021-07-29T13:56:13.499427Z",
     "start_time": "2021-07-29T13:56:13.403423Z"
    }
   },
   "outputs": [
    {
     "name": "stdout",
     "output_type": "stream",
     "text": [
      "rct=2021-07-27 09:30:00.001762-04:00\n"
     ]
    }
   ],
   "source": [
    "rrt = cdrt.ReplayRealTime(pd.Timestamp(\"2021-07-27 9:30:00-04:00\"))\n",
    "\n",
    "rct = rrt.get_replayed_current_time()\n",
    "print(\"rct=%s\" % rct)"
   ]
  },
  {
   "cell_type": "code",
   "execution_count": 12,
   "id": "dbabdc8e",
   "metadata": {
    "ExecuteTime": {
     "end_time": "2021-07-29T13:56:15.734064Z",
     "start_time": "2021-07-29T13:56:15.695245Z"
    }
   },
   "outputs": [
    {
     "name": "stdout",
     "output_type": "stream",
     "text": [
      "rct=2021-07-27 09:30:02.253789-04:00\n"
     ]
    }
   ],
   "source": [
    "rct = rrt.get_replayed_current_time()\n",
    "print(\"rct=%s\" % rct)"
   ]
  },
  {
   "cell_type": "code",
   "execution_count": 13,
   "id": "b53bbfcb",
   "metadata": {
    "ExecuteTime": {
     "end_time": "2021-07-29T13:56:17.025477Z",
     "start_time": "2021-07-29T13:56:16.990267Z"
    }
   },
   "outputs": [
    {
     "name": "stdout",
     "output_type": "stream",
     "text": [
      "rct=2021-07-27 09:30:03.544795-04:00\n"
     ]
    }
   ],
   "source": [
    "rct = rrt.get_replayed_current_time()\n",
    "print(\"rct=%s\" % rct)"
   ]
  },
  {
   "cell_type": "code",
   "execution_count": 65,
   "id": "2e1e3014",
   "metadata": {
    "ExecuteTime": {
     "end_time": "2021-07-29T15:45:59.157879Z",
     "start_time": "2021-07-29T15:45:59.054145Z"
    }
   },
   "outputs": [
    {
     "name": "stdout",
     "output_type": "stream",
     "text": [
      "2021-07-29 10:45:59.153543-05:00\n",
      "2021-07-29 10:46:00-05:00\n"
     ]
    }
   ],
   "source": [
    "current_time = hdatetime.get_current_time(tz=\"ET\")\n",
    "print(current_time)\n",
    "current_time = pd.Timestamp(current_time)\n",
    "print(current_time.round(\"2S\"))\n",
    "# num_seconds\n",
    "# aligned_current_time = current_time\n",
    "# print(current_time)"
   ]
  },
  {
   "cell_type": "code",
   "execution_count": 26,
   "id": "0e6ccc9c",
   "metadata": {
    "ExecuteTime": {
     "end_time": "2021-07-29T14:01:35.419757Z",
     "start_time": "2021-07-29T14:01:26.309917Z"
    }
   },
   "outputs": [
    {
     "name": "stdout",
     "output_type": "stream",
     "text": [
      "initial_replayed_dt=2021-07-27 09:30:00-04:00\n",
      "Using tz 'pytz.FixedOffset(-240)'\n",
      "now='2021-07-29 10:01:26.344868-04:00'\n",
      "Using tz 'pytz.FixedOffset(-240)'\n",
      "now='2021-07-29 10:01:26.347108-04:00'\n",
      "num_it=1/10: current_time=2021-07-27 09:30:00.002240-04:00\n",
      "  -> execute\n",
      "Using tz 'pytz.FixedOffset(-240)'\n",
      "now='2021-07-29 10:01:27.354432-04:00'\n",
      "num_it=2/10: current_time=2021-07-27 09:30:01.009564-04:00\n",
      "  -> execute\n",
      "Using tz 'pytz.FixedOffset(-240)'\n",
      "now='2021-07-29 10:01:28.361122-04:00'\n",
      "num_it=3/10: current_time=2021-07-27 09:30:02.016254-04:00\n",
      "  -> execute\n",
      "Using tz 'pytz.FixedOffset(-240)'\n",
      "now='2021-07-29 10:01:29.367219-04:00'\n",
      "num_it=4/10: current_time=2021-07-27 09:30:03.022351-04:00\n",
      "  -> execute\n",
      "Using tz 'pytz.FixedOffset(-240)'\n",
      "now='2021-07-29 10:01:30.373800-04:00'\n",
      "num_it=5/10: current_time=2021-07-27 09:30:04.028932-04:00\n",
      "  -> execute\n",
      "Using tz 'pytz.FixedOffset(-240)'\n",
      "now='2021-07-29 10:01:31.379721-04:00'\n",
      "num_it=6/10: current_time=2021-07-27 09:30:05.034853-04:00\n",
      "  -> execute\n",
      "Using tz 'pytz.FixedOffset(-240)'\n",
      "now='2021-07-29 10:01:32.387726-04:00'\n",
      "num_it=7/10: current_time=2021-07-27 09:30:06.042858-04:00\n",
      "  -> execute\n",
      "Using tz 'pytz.FixedOffset(-240)'\n",
      "now='2021-07-29 10:01:33.398855-04:00'\n",
      "num_it=8/10: current_time=2021-07-27 09:30:07.053987-04:00\n",
      "  -> execute\n",
      "Using tz 'pytz.FixedOffset(-240)'\n",
      "now='2021-07-29 10:01:34.406603-04:00'\n",
      "num_it=9/10: current_time=2021-07-27 09:30:08.061735-04:00\n",
      "  -> execute\n",
      "Using tz 'pytz.FixedOffset(-240)'\n",
      "now='2021-07-29 10:01:35.413534-04:00'\n",
      "num_it=10/10: current_time=2021-07-27 09:30:09.068666-04:00\n",
      "  -> execute\n"
     ]
    }
   ],
   "source": [
    "rrt = cdrt.ReplayRealTime(\n",
    "    pd.Timestamp(\"2021-07-27 9:30:00-04:00\"), speed_up_factor=60\n",
    ")\n",
    "\n",
    "sleep_interval_in_secs = 1.0\n",
    "num_iterations = 10\n",
    "# get_current_time = datetime.datetime.now\n",
    "# get_current_time = lambda : hdatetime.get_current_time(tz=\"ET\")\n",
    "get_current_time = rrt.get_replayed_current_time\n",
    "need_to_execute = cdrt.execute_every_5_minutes\n",
    "\n",
    "cdrt.execute_dag_with_real_time_loop(\n",
    "    sleep_interval_in_secs, num_iterations, get_current_time, need_to_execute\n",
    ")"
   ]
  },
  {
   "cell_type": "markdown",
   "id": "6fa3454a",
   "metadata": {},
   "source": [
    "## Test real-time node"
   ]
  },
  {
   "cell_type": "code",
   "execution_count": 80,
   "id": "daad50ee",
   "metadata": {
    "ExecuteTime": {
     "end_time": "2021-07-29T22:03:03.891174Z",
     "start_time": "2021-07-29T22:03:03.844291Z"
    }
   },
   "outputs": [
    {
     "data": {
      "text/html": [
       "<div>\n",
       "<style scoped>\n",
       "    .dataframe tbody tr th:only-of-type {\n",
       "        vertical-align: middle;\n",
       "    }\n",
       "\n",
       "    .dataframe tbody tr th {\n",
       "        vertical-align: top;\n",
       "    }\n",
       "\n",
       "    .dataframe thead th {\n",
       "        text-align: right;\n",
       "    }\n",
       "</style>\n",
       "<table border=\"1\" class=\"dataframe\">\n",
       "  <thead>\n",
       "    <tr style=\"text-align: right;\">\n",
       "      <th></th>\n",
       "      <th>close</th>\n",
       "      <th>volume</th>\n",
       "    </tr>\n",
       "  </thead>\n",
       "  <tbody>\n",
       "    <tr>\n",
       "      <th>2010-01-04 09:30:00</th>\n",
       "      <td>-0.125460</td>\n",
       "      <td>0.450714</td>\n",
       "    </tr>\n",
       "    <tr>\n",
       "      <th>2010-01-04 09:31:00</th>\n",
       "      <td>0.106534</td>\n",
       "      <td>0.549373</td>\n",
       "    </tr>\n",
       "    <tr>\n",
       "      <th>2010-01-04 09:32:00</th>\n",
       "      <td>-0.237447</td>\n",
       "      <td>0.205367</td>\n",
       "    </tr>\n",
       "    <tr>\n",
       "      <th>2010-01-04 09:33:00</th>\n",
       "      <td>-0.679364</td>\n",
       "      <td>0.571543</td>\n",
       "    </tr>\n",
       "    <tr>\n",
       "      <th>2010-01-04 09:34:00</th>\n",
       "      <td>-0.578249</td>\n",
       "      <td>0.779616</td>\n",
       "    </tr>\n",
       "    <tr>\n",
       "      <th>...</th>\n",
       "      <td>...</td>\n",
       "      <td>...</td>\n",
       "    </tr>\n",
       "    <tr>\n",
       "      <th>2010-01-05 09:26:00</th>\n",
       "      <td>-11.079724</td>\n",
       "      <td>7.442534</td>\n",
       "    </tr>\n",
       "    <tr>\n",
       "      <th>2010-01-05 09:27:00</th>\n",
       "      <td>-10.799359</td>\n",
       "      <td>7.418870</td>\n",
       "    </tr>\n",
       "    <tr>\n",
       "      <th>2010-01-05 09:28:00</th>\n",
       "      <td>-10.801819</td>\n",
       "      <td>7.123550</td>\n",
       "    </tr>\n",
       "    <tr>\n",
       "      <th>2010-01-05 09:29:00</th>\n",
       "      <td>-10.710688</td>\n",
       "      <td>6.809686</td>\n",
       "    </tr>\n",
       "    <tr>\n",
       "      <th>2010-01-05 09:30:00</th>\n",
       "      <td>-10.879124</td>\n",
       "      <td>7.164716</td>\n",
       "    </tr>\n",
       "  </tbody>\n",
       "</table>\n",
       "<p>1441 rows × 2 columns</p>\n",
       "</div>"
      ],
      "text/plain": [
       "                         close    volume\n",
       "2010-01-04 09:30:00  -0.125460  0.450714\n",
       "2010-01-04 09:31:00   0.106534  0.549373\n",
       "2010-01-04 09:32:00  -0.237447  0.205367\n",
       "2010-01-04 09:33:00  -0.679364  0.571543\n",
       "2010-01-04 09:34:00  -0.578249  0.779616\n",
       "...                        ...       ...\n",
       "2010-01-05 09:26:00 -11.079724  7.442534\n",
       "2010-01-05 09:27:00 -10.799359  7.418870\n",
       "2010-01-05 09:28:00 -10.801819  7.123550\n",
       "2010-01-05 09:29:00 -10.710688  6.809686\n",
       "2010-01-05 09:30:00 -10.879124  7.164716\n",
       "\n",
       "[1441 rows x 2 columns]"
      ]
     },
     "execution_count": 80,
     "metadata": {},
     "output_type": "execute_result"
    }
   ],
   "source": [
    "start_datetime = pd.Timestamp(\"2010-01-04 09:30:00\")\n",
    "end_datetime = pd.Timestamp(\"2010-01-05 09:30:00\")\n",
    "columns = [\"close\", \"volume\"]\n",
    "cdrt.generate_synthetic_data(columns, start_datetime, end_datetime)\n",
    "\n"
   ]
  },
  {
   "cell_type": "code",
   "execution_count": 89,
   "id": "a3e9d08e",
   "metadata": {
    "ExecuteTime": {
     "end_time": "2021-07-29T22:09:02.041721Z",
     "start_time": "2021-07-29T22:09:01.971707Z"
    },
    "scrolled": false
   },
   "outputs": [
    {
     "name": "stdout",
     "output_type": "stream",
     "text": [
      "initial_replayed_dt=2010-01-04 09:30:00-05:00\n",
      "Using tz 'America/New_York'\n",
      "now='2021-07-29 18:09:02.017104-04:00'\n",
      "Using tz 'America/New_York'\n",
      "now='2021-07-29 18:09:02.021999-04:00'\n"
     ]
    },
    {
     "data": {
      "text/plain": [
       "{'df_out':                              close    volume\n",
       " 2010-01-04 09:30:00-05:00 -0.12546  0.450714}"
      ]
     },
     "execution_count": 89,
     "metadata": {},
     "output_type": "execute_result"
    }
   ],
   "source": [
    "import core.dataflow.nodes.sources as cdtfns\n",
    "\n",
    "nid = \"rtds\"\n",
    "\n",
    "delay_in_secs = 0.0\n",
    "\n",
    "start_datetime = pd.Timestamp(\"2010-01-04 09:30:00\", tz=hdatetime.get_ET_tz())\n",
    "end_datetime = pd.Timestamp(\"2010-01-05 09:30:00\", tz=hdatetime.get_ET_tz())\n",
    "\n",
    "# Use a replayed real-time starting at the same time as the data.\n",
    "rrt = cdrt.ReplayRealTime(\n",
    "    start_datetime\n",
    ")\n",
    "get_current_time = rrt.get_replayed_current_time\n",
    "\n",
    "data_builder = cdrt.generate_synthetic_data\n",
    "data_builder_kwargs = {\n",
    "    \"columns\": [\"close\", \"volume\"],\n",
    "    \"start_datetime\": start_datetime,\n",
    "    \"end_datetime\": end_datetime,\n",
    "    \"seed\": 42,\n",
    "}\n",
    "\n",
    "columns = [\"close\", \"volume\"]\n",
    "rtds = cdtfns.RealTimeDataSource(\"rtds\", delay_in_secs, get_current_time, data_builder, data_builder_kwargs)\n",
    "\n",
    "#current_time = pd.Timestamp(\"2010-01-04 09:35:00\")\n",
    "#rtds.set_current_time(current_time)\n",
    "\n",
    "rtds.fit()"
   ]
  },
  {
   "cell_type": "code",
   "execution_count": 101,
   "id": "dcf3488b",
   "metadata": {
    "ExecuteTime": {
     "end_time": "2021-07-29T22:16:37.526680Z",
     "start_time": "2021-07-29T22:16:37.468407Z"
    }
   },
   "outputs": [
    {
     "name": "stdout",
     "output_type": "stream",
     "text": [
      "Using tz 'America/New_York'\n",
      "now='2021-07-29 18:16:37.505845-04:00'\n"
     ]
    },
    {
     "data": {
      "text/plain": [
       "{'df_out':                               close    volume\n",
       " 2010-01-04 09:30:00-05:00 -0.125460  0.450714\n",
       " 2010-01-04 09:31:00-05:00  0.106534  0.549373\n",
       " 2010-01-04 09:32:00-05:00 -0.237447  0.205367\n",
       " 2010-01-04 09:33:00-05:00 -0.679364  0.571543\n",
       " 2010-01-04 09:34:00-05:00 -0.578249  0.779616\n",
       " 2010-01-04 09:35:00-05:00 -1.057664  1.249526\n",
       " 2010-01-04 09:36:00-05:00 -0.725222  0.961865\n",
       " 2010-01-04 09:37:00-05:00 -1.043397  0.645270}"
      ]
     },
     "execution_count": 101,
     "metadata": {},
     "output_type": "execute_result"
    }
   ],
   "source": [
    "rtds.fit()"
   ]
  },
  {
   "cell_type": "markdown",
   "id": "22369da0",
   "metadata": {},
   "source": [
    "## Build pipeline\n"
   ]
  },
  {
   "cell_type": "code",
   "execution_count": 102,
   "id": "3de9acfe",
   "metadata": {
    "ExecuteTime": {
     "end_time": "2021-07-29T23:24:46.565852Z",
     "start_time": "2021-07-29T23:24:46.413917Z"
    }
   },
   "outputs": [
    {
     "name": "stdout",
     "output_type": "stream",
     "text": [
      "load_prices:\n",
      "  source_node_name: real_time_synthetic\n",
      "  source_node_kwargs:\n",
      "    columns: ['close', 'vol']\n",
      "    start_date: 2010-01-04 09:30:00\n",
      "    end_date: 2010-01-04 11:30:00\n",
      "filter_weekends:\n",
      "  col_mode: replace_all\n",
      "filter_ath:\n",
      "  col_mode: replace_all\n",
      "  transformer_kwargs:\n",
      "    start_time: 09:30:00\n",
      "    end_time: 16:00:00\n",
      "resample_prices_to_1min:\n",
      "  func_kwargs:\n",
      "    rule: 1T\n",
      "    price_cols: ['close']\n",
      "    volume_cols: ['vol']\n",
      "compute_vwap:\n",
      "  func_kwargs:\n",
      "    rule: 5T\n",
      "    price_col: close\n",
      "    volume_col: vol\n",
      "    add_bar_start_timestamps: True\n",
      "    add_epoch: True\n",
      "    add_last_price: True\n",
      "compute_ret_0:\n",
      "  cols: ['twap', 'vwap']\n",
      "  col_mode: merge_all\n",
      "  transformer_kwargs:\n",
      "    mode: pct_change\n"
     ]
    }
   ],
   "source": [
    "import core.config as cconfig\n",
    "import core.dataflow as cdataf\n",
    "\n",
    "import core.dataflow.real_time as cdrt\n",
    "import dataflow_amp.returns.pipeline as darp\n",
    "\n",
    "dag_builder = darp.ReturnsPipeline()\n",
    "config = dag_builder.get_config_template()\n",
    "\n",
    "# # Add the source node.\n",
    "# source_config = cconfig.get_config_from_nested_dict(\n",
    "#     {\n",
    "#         \"func\": cldns.load_single_instrument_data,\n",
    "#         \"func_kwargs\": {\n",
    "#             \"start_date\": datetime.date(2010, 6, 29),\n",
    "#             \"end_date\": datetime.date(2010, 7, 13),\n",
    "#         },\n",
    "#     }\n",
    "# )\n",
    "# config[\"load_prices\"] = source_config\n",
    "# config[\"resample_prices_to_1min\", \"func_kwargs\", \"volume_cols\"] = [\"volume\"]\n",
    "# config[\"compute_vwap\", \"func_kwargs\", \"rule\"] = \"15T\"\n",
    "# config[\"compute_vwap\", \"func_kwargs\", \"volume_col\"] = \"volume\"\n",
    "\n",
    "if False:\n",
    "    from im.kibot.data.config import S3_PREFIX\n",
    "\n",
    "    ticker = \"AAPL\"\n",
    "    file_path = os.path.join(S3_PREFIX, \"pq/sp_500_1min\", ticker + \".pq\")\n",
    "    source_node_kwargs = {\n",
    "        \"func\": cdataf.load_data_from_disk,\n",
    "        \"func_kwargs\": {\n",
    "            \"file_path\": file_path,\n",
    "            \"start_date\": pd.to_datetime(\"2010-01-04 9:30:00\"),\n",
    "            \"end_date\": pd.to_datetime(\"2010-01-04 16:05:00\"),\n",
    "        },\n",
    "    }\n",
    "    config[\"load_prices\"] = cconfig.get_config_from_nested_dict(\n",
    "        source_node_kwargs\n",
    "    )\n",
    "\n",
    "else:\n",
    "    start_date = pd.Timestamp(\"2010-01-04 09:30:00\")\n",
    "    end_date = pd.Timestamp(\"2010-01-04 11:30:00\")\n",
    "\n",
    "    source_node_kwargs = {\n",
    "        \"columns\": [\"close\", \"vol\"],\n",
    "        \"start_date\": start_date,\n",
    "        \"end_date\": end_date,\n",
    "    }\n",
    "    config[\"load_prices\"] = cconfig.get_config_from_nested_dict(\n",
    "        {\n",
    "            \"source_node_name\": \"real_time_synthetic\",\n",
    "            \"source_node_kwargs\": source_node_kwargs,\n",
    "        }\n",
    "    )\n",
    "\n",
    "print(config)"
   ]
  },
  {
   "cell_type": "code",
   "execution_count": 6,
   "id": "f7e354c5",
   "metadata": {
    "ExecuteTime": {
     "end_time": "2021-07-27T23:30:49.365816Z",
     "start_time": "2021-07-27T23:30:49.329059Z"
    }
   },
   "outputs": [],
   "source": [
    "dag = dag_builder.get_dag(config)"
   ]
  },
  {
   "cell_type": "code",
   "execution_count": 7,
   "id": "eeb33177",
   "metadata": {
    "ExecuteTime": {
     "end_time": "2021-07-27T23:30:49.403067Z",
     "start_time": "2021-07-27T23:30:49.368969Z"
    }
   },
   "outputs": [],
   "source": [
    "if False:\n",
    "    # nid = \"compute_ret_0\"\n",
    "    nid = \"load_prices\"\n",
    "    node = dag.get_node(\"load_prices\")\n",
    "    node.reset_current_time()\n",
    "    node.set_current_time(pd.to_datetime(\"2010-01-06 9:30:00\"))\n",
    "\n",
    "    dict_ = dag.run_leq_node(nid, \"fit\")\n",
    "\n",
    "    print(dict_)"
   ]
  },
  {
   "cell_type": "code",
   "execution_count": 8,
   "id": "03498404",
   "metadata": {
    "ExecuteTime": {
     "end_time": "2021-07-27T23:30:52.029542Z",
     "start_time": "2021-07-27T23:30:49.405476Z"
    },
    "scrolled": false
   },
   "outputs": [
    {
     "name": "stdout",
     "output_type": "stream",
     "text": [
      "now= 2010-01-04 09:30:00\n",
      "Time to execute the DAG\n"
     ]
    },
    {
     "data": {
      "application/vnd.jupyter.widget-view+json": {
       "model_id": "06480c06026046e4ad0a7a10c283ca41",
       "version_major": 2,
       "version_minor": 0
      },
      "text/plain": [
       "run_leq_node:   0%|          | 0/6 [00:00<?, ?it/s]"
      ]
     },
     "metadata": {},
     "output_type": "display_data"
    },
    {
     "name": "stdout",
     "output_type": "stream",
     "text": [
      "                     vwap  twap  last bar_start_timestamp    minute  twap_ret_0  vwap_ret_0\n",
      "2010-01-04 09:30:00   NaN   NaN   NaN 2010-01-04 09:25:00  21043290         NaN         NaN\n",
      "now= 2010-01-04 09:31:00\n",
      "now= 2010-01-04 09:32:00\n",
      "now= 2010-01-04 09:33:00\n",
      "now= 2010-01-04 09:34:00\n",
      "now= 2010-01-04 09:35:00\n",
      "Time to execute the DAG\n"
     ]
    },
    {
     "data": {
      "application/vnd.jupyter.widget-view+json": {
       "model_id": "d11201cf635d4f7d8f88cbac11f3416b",
       "version_major": 2,
       "version_minor": 0
      },
      "text/plain": [
       "run_leq_node:   0%|          | 0/6 [00:00<?, ?it/s]"
      ]
     },
     "metadata": {},
     "output_type": "display_data"
    },
    {
     "name": "stdout",
     "output_type": "stream",
     "text": [
      "                         vwap      twap      last bar_start_timestamp    minute  twap_ret_0  vwap_ret_0\n",
      "2010-01-04 09:30:00       NaN       NaN       NaN 2010-01-04 09:25:00  21043290         NaN         NaN\n",
      "2010-01-04 09:35:00 -0.374573 -0.044406 -0.440136 2010-01-04 09:30:00  21043295         NaN         NaN\n",
      "now= 2010-01-04 09:36:00\n",
      "now= 2010-01-04 09:37:00\n",
      "now= 2010-01-04 09:38:00\n",
      "now= 2010-01-04 09:39:00\n",
      "now= 2010-01-04 09:40:00\n",
      "Time to execute the DAG\n"
     ]
    },
    {
     "data": {
      "application/vnd.jupyter.widget-view+json": {
       "model_id": "fb9f27a32f37480abb33081f3d045a3a",
       "version_major": 2,
       "version_minor": 0
      },
      "text/plain": [
       "run_leq_node:   0%|          | 0/6 [00:00<?, ?it/s]"
      ]
     },
     "metadata": {},
     "output_type": "display_data"
    },
    {
     "name": "stdout",
     "output_type": "stream",
     "text": [
      "                         vwap      twap      last bar_start_timestamp    minute  twap_ret_0  vwap_ret_0\n",
      "2010-01-04 09:30:00       NaN       NaN       NaN 2010-01-04 09:25:00  21043290         NaN         NaN\n",
      "2010-01-04 09:35:00 -0.374573 -0.044406 -0.440136 2010-01-04 09:30:00  21043295         NaN         NaN\n",
      "2010-01-04 09:40:00  0.615320  0.602095  0.875367 2010-01-04 09:35:00  21043300  -14.558811   -2.642724\n",
      "now= 2010-01-04 09:41:00\n",
      "now= 2010-01-04 09:42:00\n",
      "now= 2010-01-04 09:43:00\n",
      "now= 2010-01-04 09:44:00\n",
      "now= 2010-01-04 09:45:00\n",
      "Time to execute the DAG\n"
     ]
    },
    {
     "data": {
      "application/vnd.jupyter.widget-view+json": {
       "model_id": "18e0724ac66a4d049291904cc188b1ba",
       "version_major": 2,
       "version_minor": 0
      },
      "text/plain": [
       "run_leq_node:   0%|          | 0/6 [00:00<?, ?it/s]"
      ]
     },
     "metadata": {},
     "output_type": "display_data"
    },
    {
     "name": "stdout",
     "output_type": "stream",
     "text": [
      "                         vwap      twap      last bar_start_timestamp    minute  twap_ret_0  vwap_ret_0\n",
      "2010-01-04 09:35:00 -0.374573 -0.044406 -0.440136 2010-01-04 09:30:00  21043295         NaN         NaN\n",
      "2010-01-04 09:40:00  0.615320  0.602095  0.875367 2010-01-04 09:35:00  21043300  -14.558811   -2.642724\n",
      "2010-01-04 09:45:00  1.266179  1.218554  0.763050 2010-01-04 09:40:00  21043305    1.023858    1.057756\n",
      "now= 2010-01-04 09:46:00\n",
      "now= 2010-01-04 09:47:00\n",
      "now= 2010-01-04 09:48:00\n",
      "now= 2010-01-04 09:49:00\n",
      "now= 2010-01-04 09:50:00\n",
      "Time to execute the DAG\n"
     ]
    },
    {
     "data": {
      "application/vnd.jupyter.widget-view+json": {
       "model_id": "f242c801962b405a9ca0680502b4464f",
       "version_major": 2,
       "version_minor": 0
      },
      "text/plain": [
       "run_leq_node:   0%|          | 0/6 [00:00<?, ?it/s]"
      ]
     },
     "metadata": {},
     "output_type": "display_data"
    },
    {
     "name": "stdout",
     "output_type": "stream",
     "text": [
      "                         vwap      twap      last bar_start_timestamp    minute  twap_ret_0  vwap_ret_0\n",
      "2010-01-04 09:40:00  0.615320  0.602095  0.875367 2010-01-04 09:35:00  21043300  -14.558811   -2.642724\n",
      "2010-01-04 09:45:00  1.266179  1.218554  0.763050 2010-01-04 09:40:00  21043305    1.023858    1.057756\n",
      "2010-01-04 09:50:00  0.645475  0.708973  0.367058 2010-01-04 09:45:00  21043310   -0.418185   -0.490218\n",
      "now= 2010-01-04 09:51:00\n",
      "now= 2010-01-04 09:52:00\n",
      "now= 2010-01-04 09:53:00\n",
      "now= 2010-01-04 09:54:00\n",
      "now= 2010-01-04 09:55:00\n",
      "Time to execute the DAG\n"
     ]
    },
    {
     "data": {
      "application/vnd.jupyter.widget-view+json": {
       "model_id": "2ef7621ea4024930aa76974f191d41b5",
       "version_major": 2,
       "version_minor": 0
      },
      "text/plain": [
       "run_leq_node:   0%|          | 0/6 [00:00<?, ?it/s]"
      ]
     },
     "metadata": {},
     "output_type": "display_data"
    },
    {
     "name": "stdout",
     "output_type": "stream",
     "text": [
      "                         vwap      twap      last bar_start_timestamp    minute  twap_ret_0  vwap_ret_0\n",
      "2010-01-04 09:45:00  1.266179  1.218554  0.763050 2010-01-04 09:40:00  21043305    1.023858    1.057756\n",
      "2010-01-04 09:50:00  0.645475  0.708973  0.367058 2010-01-04 09:45:00  21043310   -0.418185   -0.490218\n",
      "2010-01-04 09:55:00 -0.182449 -0.148399  0.265180 2010-01-04 09:50:00  21043315   -1.209316   -1.282659\n",
      "now= 2010-01-04 09:56:00\n",
      "now= 2010-01-04 09:57:00\n",
      "now= 2010-01-04 09:58:00\n",
      "now= 2010-01-04 09:59:00\n",
      "now= 2010-01-04 10:00:00\n",
      "Time to execute the DAG\n"
     ]
    },
    {
     "data": {
      "application/vnd.jupyter.widget-view+json": {
       "model_id": "c3f78325f84345a2abe393c24c6054e6",
       "version_major": 2,
       "version_minor": 0
      },
      "text/plain": [
       "run_leq_node:   0%|          | 0/6 [00:00<?, ?it/s]"
      ]
     },
     "metadata": {},
     "output_type": "display_data"
    },
    {
     "name": "stdout",
     "output_type": "stream",
     "text": [
      "                         vwap      twap      last bar_start_timestamp    minute  twap_ret_0  vwap_ret_0\n",
      "2010-01-04 09:50:00  0.645475  0.708973  0.367058 2010-01-04 09:45:00  21043310   -0.418185   -0.490218\n",
      "2010-01-04 09:55:00 -0.182449 -0.148399  0.265180 2010-01-04 09:50:00  21043315   -1.209316   -1.282659\n",
      "2010-01-04 10:00:00  0.531794  0.565052  0.398588 2010-01-04 09:55:00  21043320   -4.807646   -3.914748\n",
      "now= 2010-01-04 10:01:00\n",
      "now= 2010-01-04 10:02:00\n",
      "now= 2010-01-04 10:03:00\n",
      "now= 2010-01-04 10:04:00\n",
      "now= 2010-01-04 10:05:00\n",
      "Time to execute the DAG\n"
     ]
    },
    {
     "data": {
      "application/vnd.jupyter.widget-view+json": {
       "model_id": "956daf849c694a44994a15d4e68f6cda",
       "version_major": 2,
       "version_minor": 0
      },
      "text/plain": [
       "run_leq_node:   0%|          | 0/6 [00:00<?, ?it/s]"
      ]
     },
     "metadata": {},
     "output_type": "display_data"
    },
    {
     "name": "stdout",
     "output_type": "stream",
     "text": [
      "                         vwap      twap      last bar_start_timestamp    minute  twap_ret_0  vwap_ret_0\n",
      "2010-01-04 09:55:00 -0.182449 -0.148399  0.265180 2010-01-04 09:50:00  21043315   -1.209316   -1.282659\n",
      "2010-01-04 10:00:00  0.531794  0.565052  0.398588 2010-01-04 09:55:00  21043320   -4.807646   -3.914748\n",
      "2010-01-04 10:05:00  1.000890  1.119034  1.255534 2010-01-04 10:00:00  21043325    0.980409    0.882102\n",
      "now= 2010-01-04 10:06:00\n",
      "now= 2010-01-04 10:07:00\n",
      "now= 2010-01-04 10:08:00\n",
      "now= 2010-01-04 10:09:00\n",
      "now= 2010-01-04 10:10:00\n",
      "Time to execute the DAG\n"
     ]
    },
    {
     "data": {
      "application/vnd.jupyter.widget-view+json": {
       "model_id": "0f19552403a548b5be12a51e972e35f0",
       "version_major": 2,
       "version_minor": 0
      },
      "text/plain": [
       "run_leq_node:   0%|          | 0/6 [00:00<?, ?it/s]"
      ]
     },
     "metadata": {},
     "output_type": "display_data"
    },
    {
     "name": "stdout",
     "output_type": "stream",
     "text": [
      "                         vwap      twap      last bar_start_timestamp    minute  twap_ret_0  vwap_ret_0\n",
      "2010-01-04 10:00:00  0.531794  0.565052  0.398588 2010-01-04 09:55:00  21043320   -4.807646   -3.914748\n",
      "2010-01-04 10:05:00  1.000890  1.119034  1.255534 2010-01-04 10:00:00  21043325    0.980409    0.882102\n",
      "2010-01-04 10:10:00  1.476484  1.470747  2.017089 2010-01-04 10:05:00  21043330    0.314301    0.475170\n",
      "now= 2010-01-04 10:11:00\n",
      "now= 2010-01-04 10:12:00\n",
      "now= 2010-01-04 10:13:00\n",
      "now= 2010-01-04 10:14:00\n",
      "now= 2010-01-04 10:15:00\n",
      "Time to execute the DAG\n"
     ]
    },
    {
     "data": {
      "application/vnd.jupyter.widget-view+json": {
       "model_id": "e993535862624dd38ee42792a1c80d91",
       "version_major": 2,
       "version_minor": 0
      },
      "text/plain": [
       "run_leq_node:   0%|          | 0/6 [00:00<?, ?it/s]"
      ]
     },
     "metadata": {},
     "output_type": "display_data"
    },
    {
     "name": "stdout",
     "output_type": "stream",
     "text": [
      "                         vwap      twap      last bar_start_timestamp    minute  twap_ret_0  vwap_ret_0\n",
      "2010-01-04 10:05:00  1.000890  1.119034  1.255534 2010-01-04 10:00:00  21043325    0.980409    0.882102\n",
      "2010-01-04 10:10:00  1.476484  1.470747  2.017089 2010-01-04 10:05:00  21043330    0.314301    0.475170\n",
      "2010-01-04 10:15:00  2.508271  2.473891  2.560968 2010-01-04 10:10:00  21043335    0.682065    0.698813\n",
      "now= 2010-01-04 10:16:00\n",
      "now= 2010-01-04 10:17:00\n",
      "now= 2010-01-04 10:18:00\n",
      "now= 2010-01-04 10:19:00\n",
      "now= 2010-01-04 10:20:00\n",
      "Time to execute the DAG\n"
     ]
    },
    {
     "data": {
      "application/vnd.jupyter.widget-view+json": {
       "model_id": "14933b970b3545549e2fafc39f4a7154",
       "version_major": 2,
       "version_minor": 0
      },
      "text/plain": [
       "run_leq_node:   0%|          | 0/6 [00:00<?, ?it/s]"
      ]
     },
     "metadata": {},
     "output_type": "display_data"
    },
    {
     "name": "stdout",
     "output_type": "stream",
     "text": [
      "                         vwap      twap      last bar_start_timestamp    minute  twap_ret_0  vwap_ret_0\n",
      "2010-01-04 10:10:00  1.476484  1.470747  2.017089 2010-01-04 10:05:00  21043330    0.314301    0.475170\n",
      "2010-01-04 10:15:00  2.508271  2.473891  2.560968 2010-01-04 10:10:00  21043335    0.682065    0.698813\n",
      "2010-01-04 10:20:00  1.894548  1.729003  1.361816 2010-01-04 10:15:00  21043340   -0.301100   -0.244680\n",
      "now= 2010-01-04 10:21:00\n",
      "now= 2010-01-04 10:22:00\n",
      "now= 2010-01-04 10:23:00\n",
      "now= 2010-01-04 10:24:00\n",
      "now= 2010-01-04 10:25:00\n",
      "Time to execute the DAG\n"
     ]
    },
    {
     "data": {
      "application/vnd.jupyter.widget-view+json": {
       "model_id": "85546bd1ccae4177ac14f39d9478cc4f",
       "version_major": 2,
       "version_minor": 0
      },
      "text/plain": [
       "run_leq_node:   0%|          | 0/6 [00:00<?, ?it/s]"
      ]
     },
     "metadata": {},
     "output_type": "display_data"
    },
    {
     "name": "stdout",
     "output_type": "stream",
     "text": [
      "                         vwap      twap      last bar_start_timestamp    minute  twap_ret_0  vwap_ret_0\n",
      "2010-01-04 10:15:00  2.508271  2.473891  2.560968 2010-01-04 10:10:00  21043335    0.682065    0.698813\n",
      "2010-01-04 10:20:00  1.894548  1.729003  1.361816 2010-01-04 10:15:00  21043340   -0.301100   -0.244680\n",
      "2010-01-04 10:25:00  1.570934  1.575777  1.796456 2010-01-04 10:20:00  21043345   -0.088621   -0.170813\n",
      "now= 2010-01-04 10:26:00\n",
      "now= 2010-01-04 10:27:00\n",
      "now= 2010-01-04 10:28:00\n",
      "now= 2010-01-04 10:29:00\n",
      "now= 2010-01-04 10:30:00\n",
      "Time to execute the DAG\n"
     ]
    },
    {
     "data": {
      "application/vnd.jupyter.widget-view+json": {
       "model_id": "d25eb4f56bcc4697938ec63d789d6415",
       "version_major": 2,
       "version_minor": 0
      },
      "text/plain": [
       "run_leq_node:   0%|          | 0/6 [00:00<?, ?it/s]"
      ]
     },
     "metadata": {},
     "output_type": "display_data"
    },
    {
     "name": "stdout",
     "output_type": "stream",
     "text": [
      "                         vwap      twap      last bar_start_timestamp    minute  twap_ret_0  vwap_ret_0\n",
      "2010-01-04 10:20:00  1.894548  1.729003  1.361816 2010-01-04 10:15:00  21043340   -0.301100   -0.244680\n",
      "2010-01-04 10:25:00  1.570934  1.575777  1.796456 2010-01-04 10:20:00  21043345   -0.088621   -0.170813\n",
      "2010-01-04 10:30:00  2.096716  2.068100  2.301150 2010-01-04 10:25:00  21043350    0.312432    0.334693\n",
      "now= 2010-01-04 10:31:00\n",
      "now= 2010-01-04 10:32:00\n",
      "now= 2010-01-04 10:33:00\n",
      "now= 2010-01-04 10:34:00\n",
      "now= 2010-01-04 10:35:00\n",
      "Time to execute the DAG\n"
     ]
    },
    {
     "data": {
      "application/vnd.jupyter.widget-view+json": {
       "model_id": "79b8488ff54640949b647de9af1e00a9",
       "version_major": 2,
       "version_minor": 0
      },
      "text/plain": [
       "run_leq_node:   0%|          | 0/6 [00:00<?, ?it/s]"
      ]
     },
     "metadata": {},
     "output_type": "display_data"
    },
    {
     "name": "stdout",
     "output_type": "stream",
     "text": [
      "                         vwap      twap      last bar_start_timestamp    minute  twap_ret_0  vwap_ret_0\n",
      "2010-01-04 10:25:00  1.570934  1.575777  1.796456 2010-01-04 10:20:00  21043345   -0.088621   -0.170813\n",
      "2010-01-04 10:30:00  2.096716  2.068100  2.301150 2010-01-04 10:25:00  21043350    0.312432    0.334693\n",
      "2010-01-04 10:35:00  2.237769  2.256841  2.077372 2010-01-04 10:30:00  21043355    0.091263    0.067273\n",
      "now= 2010-01-04 10:36:00\n",
      "now= 2010-01-04 10:37:00\n",
      "now= 2010-01-04 10:38:00\n",
      "now= 2010-01-04 10:39:00\n",
      "now= 2010-01-04 10:40:00\n",
      "Time to execute the DAG\n"
     ]
    },
    {
     "data": {
      "application/vnd.jupyter.widget-view+json": {
       "model_id": "bc38cd2f9b0d4c4f861db245023fec76",
       "version_major": 2,
       "version_minor": 0
      },
      "text/plain": [
       "run_leq_node:   0%|          | 0/6 [00:00<?, ?it/s]"
      ]
     },
     "metadata": {},
     "output_type": "display_data"
    },
    {
     "name": "stdout",
     "output_type": "stream",
     "text": [
      "                         vwap      twap      last bar_start_timestamp    minute  twap_ret_0  vwap_ret_0\n",
      "2010-01-04 10:30:00  2.096716  2.068100  2.301150 2010-01-04 10:25:00  21043350    0.312432    0.334693\n",
      "2010-01-04 10:35:00  2.237769  2.256841  2.077372 2010-01-04 10:30:00  21043355    0.091263    0.067273\n",
      "2010-01-04 10:40:00  1.759422  1.765957  1.720008 2010-01-04 10:35:00  21043360   -0.217510   -0.213761\n",
      "now= 2010-01-04 10:41:00\n",
      "now= 2010-01-04 10:42:00\n",
      "now= 2010-01-04 10:43:00\n",
      "now= 2010-01-04 10:44:00\n",
      "now= 2010-01-04 10:45:00\n",
      "Time to execute the DAG\n"
     ]
    },
    {
     "data": {
      "application/vnd.jupyter.widget-view+json": {
       "model_id": "11307af05fa344cd9f94c4ec34d508e7",
       "version_major": 2,
       "version_minor": 0
      },
      "text/plain": [
       "run_leq_node:   0%|          | 0/6 [00:00<?, ?it/s]"
      ]
     },
     "metadata": {},
     "output_type": "display_data"
    },
    {
     "name": "stdout",
     "output_type": "stream",
     "text": [
      "                         vwap      twap      last bar_start_timestamp    minute  twap_ret_0  vwap_ret_0\n",
      "2010-01-04 10:35:00  2.237769  2.256841  2.077372 2010-01-04 10:30:00  21043355    0.091263    0.067273\n",
      "2010-01-04 10:40:00  1.759422  1.765957  1.720008 2010-01-04 10:35:00  21043360   -0.217510   -0.213761\n",
      "2010-01-04 10:45:00  1.606395  1.596337  1.089529 2010-01-04 10:40:00  21043365   -0.096050   -0.086976\n",
      "now= 2010-01-04 10:46:00\n",
      "now= 2010-01-04 10:47:00\n",
      "now= 2010-01-04 10:48:00\n",
      "now= 2010-01-04 10:49:00\n",
      "now= 2010-01-04 10:50:00\n",
      "Time to execute the DAG\n"
     ]
    },
    {
     "data": {
      "application/vnd.jupyter.widget-view+json": {
       "model_id": "a90868d8ccac46dfaf5e24fd78124e6d",
       "version_major": 2,
       "version_minor": 0
      },
      "text/plain": [
       "run_leq_node:   0%|          | 0/6 [00:00<?, ?it/s]"
      ]
     },
     "metadata": {},
     "output_type": "display_data"
    },
    {
     "name": "stdout",
     "output_type": "stream",
     "text": [
      "                         vwap      twap      last bar_start_timestamp    minute  twap_ret_0  vwap_ret_0\n",
      "2010-01-04 10:40:00  1.759422  1.765957  1.720008 2010-01-04 10:35:00  21043360   -0.217510   -0.213761\n",
      "2010-01-04 10:45:00  1.606395  1.596337  1.089529 2010-01-04 10:40:00  21043365   -0.096050   -0.086976\n",
      "2010-01-04 10:50:00  1.046380  1.055984  1.095629 2010-01-04 10:45:00  21043370   -0.338496   -0.348616\n",
      "now= 2010-01-04 10:51:00\n",
      "now= 2010-01-04 10:52:00\n",
      "now= 2010-01-04 10:53:00\n",
      "now= 2010-01-04 10:54:00\n",
      "now= 2010-01-04 10:55:00\n",
      "Time to execute the DAG\n"
     ]
    },
    {
     "data": {
      "application/vnd.jupyter.widget-view+json": {
       "model_id": "7d5bf748706e41c0bb1dabe23c242f46",
       "version_major": 2,
       "version_minor": 0
      },
      "text/plain": [
       "run_leq_node:   0%|          | 0/6 [00:00<?, ?it/s]"
      ]
     },
     "metadata": {},
     "output_type": "display_data"
    },
    {
     "name": "stdout",
     "output_type": "stream",
     "text": [
      "                         vwap      twap      last bar_start_timestamp    minute  twap_ret_0  vwap_ret_0\n",
      "2010-01-04 10:45:00  1.606395  1.596337  1.089529 2010-01-04 10:40:00  21043365   -0.096050   -0.086976\n",
      "2010-01-04 10:50:00  1.046380  1.055984  1.095629 2010-01-04 10:45:00  21043370   -0.338496   -0.348616\n",
      "2010-01-04 10:55:00  1.049001  1.043509  0.951106 2010-01-04 10:50:00  21043375   -0.011814    0.002505\n",
      "now= 2010-01-04 10:56:00\n",
      "now= 2010-01-04 10:57:00\n",
      "now= 2010-01-04 10:58:00\n",
      "now= 2010-01-04 10:59:00\n",
      "now= 2010-01-04 11:00:00\n",
      "Time to execute the DAG\n"
     ]
    },
    {
     "data": {
      "application/vnd.jupyter.widget-view+json": {
       "model_id": "ae4f380719e445ca85e4f51b1b970c71",
       "version_major": 2,
       "version_minor": 0
      },
      "text/plain": [
       "run_leq_node:   0%|          | 0/6 [00:00<?, ?it/s]"
      ]
     },
     "metadata": {},
     "output_type": "display_data"
    },
    {
     "name": "stdout",
     "output_type": "stream",
     "text": [
      "                         vwap      twap      last bar_start_timestamp    minute  twap_ret_0  vwap_ret_0\n",
      "2010-01-04 10:50:00  1.046380  1.055984  1.095629 2010-01-04 10:45:00  21043370   -0.338496   -0.348616\n",
      "2010-01-04 10:55:00  1.049001  1.043509  0.951106 2010-01-04 10:50:00  21043375   -0.011814    0.002505\n",
      "2010-01-04 11:00:00  0.596033  0.600633  0.600058 2010-01-04 10:55:00  21043380   -0.424410   -0.431809\n",
      "now= 2010-01-04 11:01:00\n",
      "now= 2010-01-04 11:02:00\n",
      "now= 2010-01-04 11:03:00\n",
      "now= 2010-01-04 11:04:00\n",
      "now= 2010-01-04 11:05:00\n",
      "Time to execute the DAG\n"
     ]
    },
    {
     "data": {
      "application/vnd.jupyter.widget-view+json": {
       "model_id": "f410daea3b934bc5a378576db16668c6",
       "version_major": 2,
       "version_minor": 0
      },
      "text/plain": [
       "run_leq_node:   0%|          | 0/6 [00:00<?, ?it/s]"
      ]
     },
     "metadata": {},
     "output_type": "display_data"
    },
    {
     "name": "stdout",
     "output_type": "stream",
     "text": [
      "                         vwap      twap      last bar_start_timestamp    minute  twap_ret_0  vwap_ret_0\n",
      "2010-01-04 10:55:00  1.049001  1.043509  0.951106 2010-01-04 10:50:00  21043375   -0.011814    0.002505\n",
      "2010-01-04 11:00:00  0.596033  0.600633  0.600058 2010-01-04 10:55:00  21043380   -0.424410   -0.431809\n",
      "2010-01-04 11:05:00  1.508134  1.498075  1.796126 2010-01-04 11:00:00  21043385    1.494161    1.530285\n",
      "now= 2010-01-04 11:06:00\n",
      "now= 2010-01-04 11:07:00\n",
      "now= 2010-01-04 11:08:00\n",
      "now= 2010-01-04 11:09:00\n",
      "now= 2010-01-04 11:10:00\n",
      "Time to execute the DAG\n"
     ]
    },
    {
     "data": {
      "application/vnd.jupyter.widget-view+json": {
       "model_id": "4d1f1fb4ead64951bf644fb802100dc7",
       "version_major": 2,
       "version_minor": 0
      },
      "text/plain": [
       "run_leq_node:   0%|          | 0/6 [00:00<?, ?it/s]"
      ]
     },
     "metadata": {},
     "output_type": "display_data"
    },
    {
     "name": "stdout",
     "output_type": "stream",
     "text": [
      "                         vwap      twap      last bar_start_timestamp    minute  twap_ret_0  vwap_ret_0\n",
      "2010-01-04 11:00:00  0.596033  0.600633  0.600058 2010-01-04 10:55:00  21043380   -0.424410   -0.431809\n",
      "2010-01-04 11:05:00  1.508134  1.498075  1.796126 2010-01-04 11:00:00  21043385    1.494161    1.530285\n",
      "2010-01-04 11:10:00  1.663403  1.658777  1.401505 2010-01-04 11:05:00  21043390    0.107272    0.102954\n",
      "now= 2010-01-04 11:11:00\n",
      "now= 2010-01-04 11:12:00\n",
      "now= 2010-01-04 11:13:00\n",
      "now= 2010-01-04 11:14:00\n",
      "now= 2010-01-04 11:15:00\n",
      "Time to execute the DAG\n"
     ]
    },
    {
     "data": {
      "application/vnd.jupyter.widget-view+json": {
       "model_id": "5e926af2b5e34e2d82265762063e33d5",
       "version_major": 2,
       "version_minor": 0
      },
      "text/plain": [
       "run_leq_node:   0%|          | 0/6 [00:00<?, ?it/s]"
      ]
     },
     "metadata": {},
     "output_type": "display_data"
    },
    {
     "name": "stdout",
     "output_type": "stream",
     "text": [
      "                         vwap      twap      last bar_start_timestamp    minute  twap_ret_0  vwap_ret_0\n",
      "2010-01-04 11:05:00  1.508134  1.498075  1.796126 2010-01-04 11:00:00  21043385    1.494161    1.530285\n",
      "2010-01-04 11:10:00  1.663403  1.658777  1.401505 2010-01-04 11:05:00  21043390    0.107272    0.102954\n",
      "2010-01-04 11:15:00  0.890025  0.909946  0.473647 2010-01-04 11:10:00  21043395   -0.451435   -0.464937\n",
      "now= 2010-01-04 11:16:00\n",
      "now= 2010-01-04 11:17:00\n",
      "now= 2010-01-04 11:18:00\n",
      "now= 2010-01-04 11:19:00\n",
      "now= 2010-01-04 11:20:00\n",
      "Time to execute the DAG\n"
     ]
    },
    {
     "data": {
      "application/vnd.jupyter.widget-view+json": {
       "model_id": "395d5feba5de4972ad1f2b25f95eb9b9",
       "version_major": 2,
       "version_minor": 0
      },
      "text/plain": [
       "run_leq_node:   0%|          | 0/6 [00:00<?, ?it/s]"
      ]
     },
     "metadata": {},
     "output_type": "display_data"
    },
    {
     "name": "stdout",
     "output_type": "stream",
     "text": [
      "                         vwap      twap      last bar_start_timestamp    minute  twap_ret_0  vwap_ret_0\n",
      "2010-01-04 11:10:00  1.663403  1.658777  1.401505 2010-01-04 11:05:00  21043390    0.107272    0.102954\n",
      "2010-01-04 11:15:00  0.890025  0.909946  0.473647 2010-01-04 11:10:00  21043395   -0.451435   -0.464937\n",
      "2010-01-04 11:20:00  0.079490  0.086725  0.228539 2010-01-04 11:15:00  21043400   -0.904692   -0.910688\n",
      "now= 2010-01-04 11:21:00\n",
      "now= 2010-01-04 11:22:00\n",
      "now= 2010-01-04 11:23:00\n",
      "now= 2010-01-04 11:24:00\n",
      "now= 2010-01-04 11:25:00\n",
      "Time to execute the DAG\n"
     ]
    },
    {
     "data": {
      "application/vnd.jupyter.widget-view+json": {
       "model_id": "b28f9661889042c798b5e90edc6cb7d5",
       "version_major": 2,
       "version_minor": 0
      },
      "text/plain": [
       "run_leq_node:   0%|          | 0/6 [00:00<?, ?it/s]"
      ]
     },
     "metadata": {},
     "output_type": "display_data"
    },
    {
     "name": "stdout",
     "output_type": "stream",
     "text": [
      "                         vwap      twap      last bar_start_timestamp    minute  twap_ret_0  vwap_ret_0\n",
      "2010-01-04 11:15:00  0.890025  0.909946  0.473647 2010-01-04 11:10:00  21043395   -0.451435   -0.464937\n",
      "2010-01-04 11:20:00  0.079490  0.086725  0.228539 2010-01-04 11:15:00  21043400   -0.904692   -0.910688\n",
      "2010-01-04 11:25:00  0.576625  0.573483  0.772141 2010-01-04 11:20:00  21043405    5.612679    6.254074\n",
      "now= 2010-01-04 11:26:00\n",
      "now= 2010-01-04 11:27:00\n",
      "now= 2010-01-04 11:28:00\n",
      "now= 2010-01-04 11:29:00\n",
      "now= 2010-01-04 11:30:00\n",
      "Time to execute the DAG\n"
     ]
    },
    {
     "data": {
      "application/vnd.jupyter.widget-view+json": {
       "model_id": "4c4cf2a256c04a1bbf2db65ca33c763a",
       "version_major": 2,
       "version_minor": 0
      },
      "text/plain": [
       "run_leq_node:   0%|          | 0/6 [00:00<?, ?it/s]"
      ]
     },
     "metadata": {},
     "output_type": "display_data"
    },
    {
     "name": "stdout",
     "output_type": "stream",
     "text": [
      "                         vwap      twap      last bar_start_timestamp    minute  twap_ret_0  vwap_ret_0\n",
      "2010-01-04 11:20:00  0.079490  0.086725  0.228539 2010-01-04 11:15:00  21043400   -0.904692   -0.910688\n",
      "2010-01-04 11:25:00  0.576625  0.573483  0.772141 2010-01-04 11:20:00  21043405    5.612679    6.254074\n",
      "2010-01-04 11:30:00  1.055352  1.083040  1.756106 2010-01-04 11:25:00  21043410    0.888530    0.830223\n"
     ]
    }
   ],
   "source": [
    "node = dag.get_node(\"load_prices\")\n",
    "node.reset_current_time()\n",
    "\n",
    "for now in cdrt.get_now_time(start_date, end_date):\n",
    "    print(\"now=\", now)\n",
    "    execute = cdrt.is_dag_to_execute(now)\n",
    "    if execute:\n",
    "        print(\"Time to execute the DAG\")\n",
    "        node = dag.get_node(\"load_prices\")\n",
    "        node.set_current_time(now)\n",
    "        #\n",
    "        sink = dag.get_unique_sink()\n",
    "        dict_ = dag.run_leq_node(sink, \"fit\")\n",
    "        print(dict_[\"df_out\"].tail(3))"
   ]
  },
  {
   "cell_type": "code",
   "execution_count": 123,
   "id": "372a695d",
   "metadata": {
    "ExecuteTime": {
     "end_time": "2021-07-29T23:44:24.128409Z",
     "start_time": "2021-07-29T23:44:24.080989Z"
    }
   },
   "outputs": [
    {
     "name": "stdout",
     "output_type": "stream",
     "text": [
      "initial_replayed_dt=2010-01-04 09:30:00\n",
      "Using tz 'None'\n",
      "now='2021-07-29 23:44:24.117019'\n",
      "\n",
      "# config=\n",
      "load_prices:\n",
      "  source_node_name: RealTimeDataSource\n",
      "  source_node_kwargs:\n",
      "    delay_in_secs: 0.0\n",
      "    external_clock: <bound method ReplayRealTime.get_replayed_current_time of <core.dataflow.real_time.ReplayRealTime object>>\n",
      "    data_builder: <function generate_synthetic_data>\n",
      "    data_builder_kwargs:\n",
      "      columns: ['close', 'vol']\n",
      "      start_datetime: 2010-01-04 09:30:00\n",
      "      end_datetime: 2010-01-04 11:30:00\n",
      "filter_weekends:\n",
      "  col_mode: replace_all\n",
      "filter_ath:\n",
      "  col_mode: replace_all\n",
      "  transformer_kwargs:\n",
      "    start_time: 09:30:00\n",
      "    end_time: 16:00:00\n",
      "resample_prices_to_1min:\n",
      "  func_kwargs:\n",
      "    rule: 1T\n",
      "    price_cols: ['close']\n",
      "    volume_cols: ['vol']\n",
      "compute_vwap:\n",
      "  func_kwargs:\n",
      "    rule: 5T\n",
      "    price_col: close\n",
      "    volume_col: vol\n",
      "    add_bar_start_timestamps: True\n",
      "    add_epoch: True\n",
      "    add_last_price: True\n",
      "compute_ret_0:\n",
      "  cols: ['twap', 'vwap']\n",
      "  col_mode: merge_all\n",
      "  transformer_kwargs:\n",
      "    mode: pct_change\n"
     ]
    }
   ],
   "source": [
    "import dataflow_amp.real_time.real_time_return_pipeline as dtfart\n",
    "\n",
    "dag_builder = dtfart.RealTimeReturnPipeline()\n",
    "\n",
    "config = dag_builder.get_config_template()\n",
    "print(\"\\n# config=\\n%s\" % config)\n",
    "\n",
    "dag_builder.validate_config(config)\n",
    "\n",
    "dag = dag_builder.get_dag(config)"
   ]
  },
  {
   "cell_type": "code",
   "execution_count": 126,
   "id": "180f8096",
   "metadata": {
    "ExecuteTime": {
     "end_time": "2021-07-29T23:46:53.303946Z",
     "start_time": "2021-07-29T23:46:53.112123Z"
    }
   },
   "outputs": [
    {
     "data": {
      "image/png": "[encoded data removed]",
      "text/plain": [
       "<IPython.core.display.Image object>"
      ]
     },
     "execution_count": 126,
     "metadata": {},
     "output_type": "execute_result"
    }
   ],
   "source": [
    "#print(dag)\n",
    "cdataf.draw(dag)"
   ]
  },
  {
   "cell_type": "code",
   "execution_count": 127,
   "id": "566b0437",
   "metadata": {
    "ExecuteTime": {
     "end_time": "2021-07-29T23:48:20.014184Z",
     "start_time": "2021-07-29T23:48:17.966825Z"
    }
   },
   "outputs": [
    {
     "name": "stdout",
     "output_type": "stream",
     "text": [
      "initial_replayed_dt=2021-07-27 09:30:00-04:00\n",
      "Using tz 'America/New_York'\n",
      "now='2021-07-29 19:48:20.001413-04:00'\n"
     ]
    },
    {
     "ename": "NameError",
     "evalue": "name 'self' is not defined",
     "output_type": "error",
     "traceback": [
      "\u001b[0;31m---------------------------------------------------------------------------\u001b[0m",
      "\u001b[0;31mNameError\u001b[0m                                 Traceback (most recent call last)",
      "\u001b[0;32m<ipython-input-127-b18e7771c66c>\u001b[0m in \u001b[0;36m<module>\u001b[0;34m\u001b[0m\n\u001b[1;32m     15\u001b[0m     \u001b[0mget_current_time\u001b[0m\u001b[0;34m,\u001b[0m\u001b[0;34m\u001b[0m\u001b[0;34m\u001b[0m\u001b[0m\n\u001b[1;32m     16\u001b[0m     \u001b[0mneed_to_execute\u001b[0m\u001b[0;34m,\u001b[0m\u001b[0;34m\u001b[0m\u001b[0;34m\u001b[0m\u001b[0m\n\u001b[0;32m---> 17\u001b[0;31m     \u001b[0mself\u001b[0m\u001b[0;34m.\u001b[0m\u001b[0mworkload\u001b[0m\u001b[0;34m,\u001b[0m\u001b[0;34m\u001b[0m\u001b[0;34m\u001b[0m\u001b[0m\n\u001b[0m\u001b[1;32m     18\u001b[0m )\n",
      "\u001b[0;31mNameError\u001b[0m: name 'self' is not defined"
     ]
    }
   ],
   "source": [
    "# Align on a even second.\n",
    "cdrt.align_on_even_second()\n",
    "#\n",
    "sleep_interval_in_secs = 1.0\n",
    "num_iterations = 3\n",
    "external_clock = rrt.get_replayed_current_time\n",
    "get_current_time = cdrt.execute_every_2_seconds\n",
    "#\n",
    "execution_trace = cdrt.execute_with_real_time_loop(\n",
    "    sleep_interval_in_secs,\n",
    "    num_iterations,\n",
    "    get_current_time,\n",
    "    need_to_execute,\n",
    "    workload,\n",
    ")"
   ]
  }
 ],
 "metadata": {
  "jupytext": {
   "text_representation": {
    "extension": ".py",
    "format_name": "percent",
    "format_version": "1.3",
    "jupytext_version": "1.11.2"
   }
  },
  "kernelspec": {
   "display_name": "Python 3",
   "language": "python",
   "name": "python3"
  },
  "language_info": {
   "codemirror_mode": {
    "name": "ipython",
    "version": 3
   },
   "file_extension": ".py",
   "mimetype": "text/x-python",
   "name": "python",
   "nbconvert_exporter": "python",
   "pygments_lexer": "ipython3",
   "version": "3.8.5"
  },
  "toc": {
   "base_numbering": 1,
   "nav_menu": {},
   "number_sections": true,
   "sideBar": true,
   "skip_h1_title": false,
   "title_cell": "Table of Contents",
   "title_sidebar": "Contents",
   "toc_cell": false,
   "toc_position": {
    "height": "calc(100% - 180px)",
    "left": "10px",
    "top": "150px",
    "width": "165px"
   },
   "toc_section_display": true,
   "toc_window_display": true
  }
 },
 "nbformat": 4,
 "nbformat_minor": 5
}
