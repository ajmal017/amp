{
 "cells": [
  {
   "cell_type": "markdown",
   "id": "219d117c",
   "metadata": {},
   "source": [
    "## Imports"
   ]
  },
  {
   "cell_type": "code",
   "execution_count": 6,
   "id": "9692caf7",
   "metadata": {
    "ExecuteTime": {
     "end_time": "2021-08-05T20:36:34.771459Z",
     "start_time": "2021-08-05T20:36:34.747168Z"
    }
   },
   "outputs": [],
   "source": [
    "%load_ext autoreload\n",
    "%autoreload 2\n",
    "\n",
    "import logging\n",
    "import os\n",
    "\n",
    "import pandas as pd\n",
    "\n",
    "import helpers.dbg as dbg\n",
    "import helpers.printing as prnt"
   ]
  },
  {
   "cell_type": "code",
   "execution_count": 9,
   "id": "58a2b5f3",
   "metadata": {
    "ExecuteTime": {
     "end_time": "2021-07-30T15:14:01.751452Z",
     "start_time": "2021-07-30T15:14:01.697440Z"
    }
   },
   "outputs": [
    {
     "name": "stdout",
     "output_type": "stream",
     "text": [
      "\u001b[33mWARNING\u001b[0m: Disabling annoying warnings\n",
      "\u001b[0m\u001b[36mINFO\u001b[0m: > cmd='/venv/lib/python3.8/site-packages/ipykernel_launcher.py -f /root/.local/share/jupyter/runtime/kernel-26b9c9dd-34a1-43ca-8ac4-d0545f037ca0.json'\n",
      "\u001b[33mWARNING\u001b[0m: Running in Jupyter\n"
     ]
    }
   ],
   "source": [
    "prnt.config_notebook()\n",
    "\n",
    "# dbg.init_logger(verbosity=logging.DEBUG)\n",
    "dbg.init_logger(verbosity=logging.INFO)\n",
    "# dbg.test_logger()\n",
    "_LOG = logging.getLogger(__name__)"
   ]
  },
  {
   "cell_type": "markdown",
   "id": "4818beec",
   "metadata": {},
   "source": [
    "# Real-time node"
   ]
  },
  {
   "cell_type": "markdown",
   "id": "22369da0",
   "metadata": {},
   "source": [
    "## Build pipeline\n"
   ]
  },
  {
   "cell_type": "code",
   "execution_count": null,
   "id": "3de9acfe",
   "metadata": {
    "ExecuteTime": {
     "end_time": "2021-07-29T23:24:46.565852Z",
     "start_time": "2021-07-29T23:24:46.413917Z"
    }
   },
   "outputs": [],
   "source": [
    "import core.config as cconfig\n",
    "import core.dataflow as cdataf\n",
    "import core.dataflow.real_time as cdrt\n",
    "import dataflow_amp.returns.pipeline as darp\n",
    "\n",
    "dag_builder = darp.ReturnsPipeline()\n",
    "config = dag_builder.get_config_template()\n",
    "\n",
    "# # Add the source node.\n",
    "# source_config = cconfig.get_config_from_nested_dict(\n",
    "#     {\n",
    "#         \"func\": cldns.load_single_instrument_data,\n",
    "#         \"func_kwargs\": {\n",
    "#             \"start_date\": datetime.date(2010, 6, 29),\n",
    "#             \"end_date\": datetime.date(2010, 7, 13),\n",
    "#         },\n",
    "#     }\n",
    "# )\n",
    "# config[\"load_prices\"] = source_config\n",
    "# config[\"resample_prices_to_1min\", \"func_kwargs\", \"volume_cols\"] = [\"volume\"]\n",
    "# config[\"compute_vwap\", \"func_kwargs\", \"rule\"] = \"15T\"\n",
    "# config[\"compute_vwap\", \"func_kwargs\", \"volume_col\"] = \"volume\"\n",
    "\n",
    "if False:\n",
    "    from im.kibot.data.config import S3_PREFIX\n",
    "\n",
    "    ticker = \"AAPL\"\n",
    "    file_path = os.path.join(S3_PREFIX, \"pq/sp_500_1min\", ticker + \".pq\")\n",
    "    source_node_kwargs = {\n",
    "        \"func\": cdataf.load_data_from_disk,\n",
    "        \"func_kwargs\": {\n",
    "            \"file_path\": file_path,\n",
    "            \"start_date\": pd.to_datetime(\"2010-01-04 9:30:00\"),\n",
    "            \"end_date\": pd.to_datetime(\"2010-01-04 16:05:00\"),\n",
    "        },\n",
    "    }\n",
    "    config[\"load_prices\"] = cconfig.get_config_from_nested_dict(\n",
    "        source_node_kwargs\n",
    "    )\n",
    "\n",
    "else:\n",
    "    start_date = pd.Timestamp(\"2010-01-04 09:30:00\")\n",
    "    end_date = pd.Timestamp(\"2010-01-04 11:30:00\")\n",
    "\n",
    "    source_node_kwargs = {\n",
    "        \"columns\": [\"close\", \"vol\"],\n",
    "        \"start_date\": start_date,\n",
    "        \"end_date\": end_date,\n",
    "    }\n",
    "    config[\"load_prices\"] = cconfig.get_config_from_nested_dict(\n",
    "        {\n",
    "            \"source_node_name\": \"real_time_synthetic\",\n",
    "            \"source_node_kwargs\": source_node_kwargs,\n",
    "        }\n",
    "    )\n",
    "\n",
    "print(config)"
   ]
  },
  {
   "cell_type": "code",
   "execution_count": null,
   "id": "f7e354c5",
   "metadata": {
    "ExecuteTime": {
     "end_time": "2021-07-27T23:30:49.365816Z",
     "start_time": "2021-07-27T23:30:49.329059Z"
    }
   },
   "outputs": [],
   "source": [
    "dag = dag_builder.get_dag(config)"
   ]
  },
  {
   "cell_type": "code",
   "execution_count": null,
   "id": "eeb33177",
   "metadata": {
    "ExecuteTime": {
     "end_time": "2021-07-27T23:30:49.403067Z",
     "start_time": "2021-07-27T23:30:49.368969Z"
    }
   },
   "outputs": [],
   "source": [
    "if False:\n",
    "    # nid = \"compute_ret_0\"\n",
    "    nid = \"load_prices\"\n",
    "    node = dag.get_node(\"load_prices\")\n",
    "    node.reset_current_time()\n",
    "    node.set_current_time(pd.to_datetime(\"2010-01-06 9:30:00\"))\n",
    "\n",
    "    dict_ = dag.run_leq_node(nid, \"fit\")\n",
    "\n",
    "    print(dict_)"
   ]
  },
  {
   "cell_type": "code",
   "execution_count": null,
   "id": "03498404",
   "metadata": {
    "ExecuteTime": {
     "end_time": "2021-07-27T23:30:52.029542Z",
     "start_time": "2021-07-27T23:30:49.405476Z"
    },
    "scrolled": false
   },
   "outputs": [],
   "source": [
    "node = dag.get_node(\"load_prices\")\n",
    "node.reset_current_time()\n",
    "\n",
    "for now in cdrt.get_now_time(start_date, end_date):\n",
    "    print(\"now=\", now)\n",
    "    execute = cdrt.is_dag_to_execute(now)\n",
    "    if execute:\n",
    "        print(\"Time to execute the DAG\")\n",
    "        node = dag.get_node(\"load_prices\")\n",
    "        node.set_current_time(now)\n",
    "        #\n",
    "        sink = dag.get_unique_sink()\n",
    "        dict_ = dag.run_leq_node(sink, \"fit\")\n",
    "        print(dict_[\"df_out\"].tail(3))"
   ]
  },
  {
   "cell_type": "markdown",
   "id": "3c29e38e",
   "metadata": {},
   "source": [
    "## Use real_time_return_pipeline"
   ]
  },
  {
   "cell_type": "code",
   "execution_count": 5,
   "id": "af504b9e",
   "metadata": {
    "ExecuteTime": {
     "end_time": "2021-07-30T15:11:03.013688Z",
     "start_time": "2021-07-30T15:11:02.629647Z"
    }
   },
   "outputs": [
    {
     "name": "stdout",
     "output_type": "stream",
     "text": [
      "\n",
      "# config=\n",
      "load_prices:\n",
      "  source_node_name: RealTimeDataSource\n",
      "  source_node_kwargs:\n",
      "    delay_in_secs: 0.0\n",
      "    external_clock: <bound method ReplayRealTime.get_replayed_current_time of <core.dataflow.real_time.ReplayRealTime object>>\n",
      "    data_builder: <function generate_synthetic_data>\n",
      "    data_builder_kwargs:\n",
      "      columns: ['close', 'vol']\n",
      "      start_datetime: 2010-01-04 09:30:00\n",
      "      end_datetime: 2010-01-04 11:30:00\n",
      "filter_weekends:\n",
      "  col_mode: replace_all\n",
      "filter_ath:\n",
      "  col_mode: replace_all\n",
      "  transformer_kwargs:\n",
      "    start_time: 09:30:00\n",
      "    end_time: 16:00:00\n",
      "resample_prices_to_1min:\n",
      "  func_kwargs:\n",
      "    rule: 1T\n",
      "    price_cols: ['close']\n",
      "    volume_cols: ['vol']\n",
      "compute_vwap:\n",
      "  func_kwargs:\n",
      "    rule: 5T\n",
      "    price_col: close\n",
      "    volume_col: vol\n",
      "    add_bar_start_timestamps: True\n",
      "    add_epoch: True\n",
      "    add_last_price: True\n",
      "compute_ret_0:\n",
      "  cols: ['twap', 'vwap']\n",
      "  col_mode: merge_all\n",
      "  transformer_kwargs:\n",
      "    mode: pct_change\n"
     ]
    }
   ],
   "source": [
    "import dataflow_amp.real_time.real_time_return_pipeline as dtfart\n",
    "\n",
    "dag_builder = dtfart.RealTimeReturnPipeline()\n",
    "\n",
    "config = dag_builder.get_config_template()\n",
    "print(\"\\n# config=\\n%s\" % config)\n",
    "\n",
    "dag_builder.validate_config(config)\n",
    "\n",
    "dag = dag_builder.get_dag(config)"
   ]
  },
  {
   "cell_type": "code",
   "execution_count": null,
   "id": "716c26d0",
   "metadata": {
    "ExecuteTime": {
     "end_time": "2021-07-29T23:46:53.303946Z",
     "start_time": "2021-07-29T23:46:53.112123Z"
    }
   },
   "outputs": [],
   "source": [
    "# print(dag)\n",
    "cdataf.draw(dag)"
   ]
  },
  {
   "cell_type": "code",
   "execution_count": null,
   "id": "aacc6e27",
   "metadata": {
    "ExecuteTime": {
     "end_time": "2021-07-30T00:28:58.142623Z",
     "start_time": "2021-07-30T00:28:55.471055Z"
    }
   },
   "outputs": [],
   "source": [
    "# # Align on a even second.\n",
    "# cdrt.align_on_even_second()\n",
    "# #\n",
    "# sleep_interval_in_secs = 1.0\n",
    "# num_iterations = 3\n",
    "# get_current_time = rrt.get_replayed_current_time\n",
    "# need_to_execute = cdrt.execute_every_2_seconds\n",
    "# #\n",
    "# execution_trace, results = cdrt.execute_dag_with_real_time_loop(\n",
    "#     sleep_interval_in_secs,\n",
    "#     num_iterations,\n",
    "#     get_current_time,\n",
    "#     need_to_execute,\n",
    "#     dag,\n",
    "# )"
   ]
  },
  {
   "cell_type": "code",
   "execution_count": null,
   "id": "eb1f0f81",
   "metadata": {
    "ExecuteTime": {
     "end_time": "2021-07-30T00:29:38.292863Z",
     "start_time": "2021-07-30T00:29:38.241633Z"
    }
   },
   "outputs": [],
   "source": [
    "results[0][1][\"df_out\"]"
   ]
  },
  {
   "cell_type": "code",
   "execution_count": null,
   "id": "d0694156",
   "metadata": {},
   "outputs": [],
   "source": [
    "##\n",
    "\n",
    "import core.dataflow.real_time as cdrt"
   ]
  },
  {
   "cell_type": "code",
   "execution_count": 14,
   "id": "3f6fef91",
   "metadata": {
    "ExecuteTime": {
     "end_time": "2021-07-30T15:15:53.164537Z",
     "start_time": "2021-07-30T15:15:53.126349Z"
    }
   },
   "outputs": [
    {
     "name": "stdout",
     "output_type": "stream",
     "text": [
      "initial_replayed_dt=2010-01-04 09:30:00-05:00\n",
      "Using tz 'America/New_York'\n",
      "now='2021-07-30 11:15:53.159357-04:00'\n"
     ]
    }
   ],
   "source": [
    "import helpers.datetime_ as hdatetime\n",
    "\n",
    "start_datetime = pd.Timestamp(\"2010-01-04 09:30:00\", tz=hdatetime.get_ET_tz())\n",
    "end_datetime = pd.Timestamp(\"2010-01-05 09:30:00\", tz=hdatetime.get_ET_tz())\n",
    "\n",
    "# Use a replayed real-time starting at the same time as the data.\n",
    "rrt = cdrt.ReplayRealTime(start_datetime)\n",
    "get_current_time = rrt.get_replayed_current_time"
   ]
  },
  {
   "cell_type": "code",
   "execution_count": 26,
   "id": "a58487cd",
   "metadata": {
    "ExecuteTime": {
     "end_time": "2021-07-30T17:09:58.260779Z",
     "start_time": "2021-07-30T17:09:55.503182Z"
    },
    "scrolled": false
   },
   "outputs": [
    {
     "name": "stdout",
     "output_type": "stream",
     "text": [
      "Using tz 'America/New_York'\n",
      "now='2021-07-30 13:09:56.001007-04:00'\n",
      "event='RealTimeEvent(num_it=1, current_time=Timestamp('2010-01-04 11:24:02.841650-0500', tz='America/New_York'), wall_clock_time=Timestamp('2021-07-30 13:09:56.001580-0400', tz='America/New_York'), need_execute=True)'\n",
      "  -> execute\n"
     ]
    },
    {
     "data": {
      "application/vnd.jupyter.widget-view+json": {
       "model_id": "ccc34df9b54a4f459c59cd94f1c53563",
       "version_major": 2,
       "version_minor": 0
      },
      "text/plain": [
       "run_leq_node:   0%|          | 0/6 [00:00<?, ?it/s]"
      ]
     },
     "metadata": {},
     "output_type": "display_data"
    },
    {
     "name": "stdout",
     "output_type": "stream",
     "text": [
      "Using tz 'None'\n",
      "now='2021-07-30 17:09:56.022644'\n",
      "Using tz 'America/New_York'\n",
      "now='2021-07-30 13:09:57.123659-04:00'\n",
      "event='RealTimeEvent(num_it=2, current_time=Timestamp('2010-01-04 11:24:03.964302-0500', tz='America/New_York'), wall_clock_time=Timestamp('2021-07-30 13:09:57.125097-0400', tz='America/New_York'), need_execute=False)'\n",
      "Using tz 'America/New_York'\n",
      "now='2021-07-30 13:09:58.129532-04:00'\n",
      "event='RealTimeEvent(num_it=3, current_time=Timestamp('2010-01-04 11:24:04.970175-0500', tz='America/New_York'), wall_clock_time=Timestamp('2021-07-30 13:09:58.130575-0400', tz='America/New_York'), need_execute=True)'\n",
      "  -> execute\n"
     ]
    },
    {
     "data": {
      "application/vnd.jupyter.widget-view+json": {
       "model_id": "9b7a370b1ca043c9b42c045a09eab29a",
       "version_major": 2,
       "version_minor": 0
      },
      "text/plain": [
       "run_leq_node:   0%|          | 0/6 [00:00<?, ?it/s]"
      ]
     },
     "metadata": {},
     "output_type": "display_data"
    },
    {
     "name": "stdout",
     "output_type": "stream",
     "text": [
      "Using tz 'None'\n",
      "now='2021-07-30 17:09:58.165454'\n"
     ]
    }
   ],
   "source": [
    "import core.dataflow as cdtf\n",
    "\n",
    "execute_rt_loop_kwargs = {\n",
    "    \"sleep_interval_in_secs\": 1.0,\n",
    "    \"num_iterations\": 3,\n",
    "    \"get_current_time\": rrt.get_replayed_current_time,\n",
    "    \"need_to_execute\": cdrt.execute_every_2_seconds,\n",
    "}\n",
    "\n",
    "#\n",
    "kwargs = {\n",
    "    \"config\": config,\n",
    "    \"dag_builder\": dag_builder,\n",
    "    \"fit_state\": None,\n",
    "    #\n",
    "    \"execute_rt_loop_kwargs\": execute_rt_loop_kwargs,\n",
    "    #\n",
    "    \"dst_dir\": None,\n",
    "}\n",
    "\n",
    "dag_runner = cdtf.RealTimeDagRunner(**kwargs)\n",
    "\n",
    "# Align on a even second.\n",
    "cdrt.align_on_even_second()\n",
    "result = dag_runner.predict()"
   ]
  },
  {
   "cell_type": "code",
   "execution_count": 32,
   "id": "c8c47a15",
   "metadata": {
    "ExecuteTime": {
     "end_time": "2021-07-30T17:10:50.451760Z",
     "start_time": "2021-07-30T17:10:50.414732Z"
    }
   },
   "outputs": [
    {
     "data": {
      "text/plain": [
       "[RealTimeEvent(num_it=1, current_time=Timestamp('2010-01-04 11:24:02.841650-0500', tz='America/New_York'), wall_clock_time=Timestamp('2021-07-30 13:09:56.001580-0400', tz='America/New_York'), need_execute=True),\n",
       " RealTimeEvent(num_it=2, current_time=Timestamp('2010-01-04 11:24:03.964302-0500', tz='America/New_York'), wall_clock_time=Timestamp('2021-07-30 13:09:57.125097-0400', tz='America/New_York'), need_execute=False),\n",
       " RealTimeEvent(num_it=3, current_time=Timestamp('2010-01-04 11:24:04.970175-0500', tz='America/New_York'), wall_clock_time=Timestamp('2021-07-30 13:09:58.130575-0400', tz='America/New_York'), need_execute=True)]"
      ]
     },
     "execution_count": 32,
     "metadata": {},
     "output_type": "execute_result"
    }
   ],
   "source": [
    "result[0]"
   ]
  },
  {
   "cell_type": "code",
   "execution_count": 31,
   "id": "10c32d6a",
   "metadata": {
    "ExecuteTime": {
     "end_time": "2021-07-30T17:10:43.245109Z",
     "start_time": "2021-07-30T17:10:43.209875Z"
    }
   },
   "outputs": [
    {
     "data": {
      "text/plain": [
       "2"
      ]
     },
     "execution_count": 31,
     "metadata": {},
     "output_type": "execute_result"
    }
   ],
   "source": [
    "len(result[1])"
   ]
  },
  {
   "cell_type": "code",
   "execution_count": 17,
   "id": "a5193894",
   "metadata": {
    "ExecuteTime": {
     "end_time": "2021-08-05T21:03:18.935025Z",
     "start_time": "2021-08-05T21:03:18.856705Z"
    }
   },
   "outputs": [
    {
     "name": "stdout",
     "output_type": "stream",
     "text": [
      "                   0         1\n",
      "2010-01-01  0.374540  0.950714\n",
      "2010-01-04  0.731994  0.598658\n",
      "2010-01-05  0.156019  0.155995\n",
      "2010-01-06  0.058084  0.866176\n",
      "2010-01-07  0.601115  0.708073\n",
      "2010-01-08  0.020584  0.969910\n",
      "2010-01-11  0.832443  0.212339\n",
      "2010-01-12  0.181825  0.183405\n",
      "2010-01-13  0.304242  0.524756\n",
      "2010-01-14  0.431945  0.291229\n",
      "2010-01-15  0.611853  0.139494\n",
      "2010-01-18  0.292145  0.366362\n",
      "2010-01-19  0.456070  0.785176\n",
      "2010-01-20  0.199674  0.514234\n",
      "2010-01-21  0.592415  0.046450\n",
      "2010-01-22  0.607545  0.170524\n",
      "2010-01-25  0.065052  0.948886\n",
      "2010-01-26  0.965632  0.808397\n",
      "2010-01-27  0.304614  0.097672\n",
      "2010-01-28  0.684233  0.440152\n",
      "2010-01-29  0.122038  0.495177\n",
      "2010-02-01  0.034389  0.909320\n"
     ]
    },
    {
     "ename": "NameError",
     "evalue": "name 'cconfig' is not defined",
     "output_type": "error",
     "traceback": [
      "\u001b[0;31m---------------------------------------------------------------------------\u001b[0m",
      "\u001b[0;31mNameError\u001b[0m                                 Traceback (most recent call last)",
      "\u001b[0;32m<ipython-input-17-bc174438012c>\u001b[0m in \u001b[0;36m<module>\u001b[0;34m\u001b[0m\n\u001b[1;32m     14\u001b[0m \u001b[0;34m\u001b[0m\u001b[0m\n\u001b[1;32m     15\u001b[0m \u001b[0;34m\u001b[0m\u001b[0m\n\u001b[0;32m---> 16\u001b[0;31m config = cconfig.get_config_from_nested_dict(\n\u001b[0m\u001b[1;32m     17\u001b[0m     {\n\u001b[1;32m     18\u001b[0m         \u001b[0;34m\"rule\"\u001b[0m\u001b[0;34m:\u001b[0m \u001b[0;34m\"1B\"\u001b[0m\u001b[0;34m,\u001b[0m\u001b[0;34m\u001b[0m\u001b[0;34m\u001b[0m\u001b[0m\n",
      "\u001b[0;31mNameError\u001b[0m: name 'cconfig' is not defined"
     ]
    }
   ],
   "source": [
    "import pandas as pd\n",
    "import helpers.unit_test as hut\n",
    "\n",
    "num_cols = 2\n",
    "seed = 42\n",
    "date_range_kwargs = {\n",
    "    \"start\": pd.Timestamp(\"2010-01-01\"),\n",
    "    \"end\": pd.Timestamp(\"2010-02-01\"),\n",
    "    \"freq\": \"1B\",\n",
    "}\n",
    "#pd.date_range(**date_range_kwargs)\n",
    "data = hut.get_random_df(num_cols, seed=seed, date_range_kwargs=date_range_kwargs)\n",
    "print(data)\n",
    "\n",
    "\n",
    "config = {\n",
    "        \"rule\": \"1B\",\n",
    "        \"agg_func\": \"last\",\n",
    "        \"resample_kwargs\": None,\n",
    "        \"agg_func_kwargs\": None,\n",
    "    }\n",
    "node = cdnt.Reample(\"resample\", **config)\n",
    "df_out = node.fit(data)[\"df_out\"]"
   ]
  },
  {
   "cell_type": "code",
   "execution_count": 22,
   "id": "f0dfe939",
   "metadata": {
    "ExecuteTime": {
     "end_time": "2021-08-05T21:07:09.065470Z",
     "start_time": "2021-08-05T21:07:09.013239Z"
    }
   },
   "outputs": [
    {
     "data": {
      "text/plain": [
       "{'df_out':                    0         1\n",
       " 2010-01-01  0.374540  0.950714\n",
       " 2010-01-04  0.731994  0.598658\n",
       " 2010-01-05  0.156019  0.155995\n",
       " 2010-01-06  0.058084  0.866176\n",
       " 2010-01-07  0.601115  0.708073\n",
       " 2010-01-08  0.020584  0.969910\n",
       " 2010-01-11  0.832443  0.212339\n",
       " 2010-01-12  0.181825  0.183405\n",
       " 2010-01-13  0.304242  0.524756\n",
       " 2010-01-14  0.431945  0.291229\n",
       " 2010-01-15  0.611853  0.139494\n",
       " 2010-01-18  0.292145  0.366362\n",
       " 2010-01-19  0.456070  0.785176\n",
       " 2010-01-20  0.199674  0.514234\n",
       " 2010-01-21  0.592415  0.046450\n",
       " 2010-01-22  0.607545  0.170524\n",
       " 2010-01-25  0.065052  0.948886\n",
       " 2010-01-26  0.965632  0.808397\n",
       " 2010-01-27  0.304614  0.097672\n",
       " 2010-01-28  0.684233  0.440152\n",
       " 2010-01-29  0.122038  0.495177\n",
       " 2010-02-01  0.034389  0.909320}"
      ]
     },
     "execution_count": 22,
     "metadata": {},
     "output_type": "execute_result"
    }
   ],
   "source": [
    "import core.dataflow.nodes.transformers as cdtfnt\n",
    "\n",
    "nid = \"nop\"\n",
    "def func(df_in):\n",
    "    return df_in\n",
    "\n",
    "\n",
    "func_kwargs = {}\n",
    "\n",
    "node = cdtfnt.FunctionWrapper(nid,\n",
    "                       func,\n",
    "                       func_kwargs)\n",
    "\n",
    "node.fit(data)"
   ]
  },
  {
   "cell_type": "code",
   "execution_count": 32,
   "id": "04a9d5cd",
   "metadata": {
    "ExecuteTime": {
     "end_time": "2021-08-05T21:28:56.061697Z",
     "start_time": "2021-08-05T21:28:55.951432Z"
    }
   },
   "outputs": [
    {
     "data": {
      "text/plain": [
       "<core.dataflow.core.DAG at 0x7f9ad9dbd430>"
      ]
     },
     "execution_count": 32,
     "metadata": {},
     "output_type": "execute_result"
    }
   ],
   "source": [
    "import core.dataflow.nodes.test.test_dag as test_dag\n",
    "\n",
    "dag_builder = test_dag._NaivePipeline()\n",
    "\n",
    "config = dag_builder.get_config_template()\n",
    "\n",
    "dag_builder.get_dag(config)"
   ]
  }
 ],
 "metadata": {
  "jupytext": {
   "text_representation": {
    "extension": ".py",
    "format_name": "percent",
    "format_version": "1.3",
    "jupytext_version": "1.11.2"
   }
  },
  "kernelspec": {
   "display_name": "Python 3",
   "language": "python",
   "name": "python3"
  },
  "language_info": {
   "codemirror_mode": {
    "name": "ipython",
    "version": 3
   },
   "file_extension": ".py",
   "mimetype": "text/x-python",
   "name": "python",
   "nbconvert_exporter": "python",
   "pygments_lexer": "ipython3",
   "version": "3.8.5"
  },
  "toc": {
   "base_numbering": 1,
   "nav_menu": {},
   "number_sections": true,
   "sideBar": true,
   "skip_h1_title": false,
   "title_cell": "Table of Contents",
   "title_sidebar": "Contents",
   "toc_cell": false,
   "toc_position": {
    "height": "calc(100% - 180px)",
    "left": "10px",
    "top": "150px",
    "width": "165px"
   },
   "toc_section_display": true,
   "toc_window_display": true
  }
 },
 "nbformat": 4,
 "nbformat_minor": 5
}
