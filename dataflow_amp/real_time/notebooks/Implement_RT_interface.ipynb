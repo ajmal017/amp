{
 "cells": [
  {
   "cell_type": "markdown",
   "id": "219d117c",
   "metadata": {},
   "source": [
    "## Imports"
   ]
  },
  {
   "cell_type": "code",
   "execution_count": 1,
   "id": "9692caf7",
   "metadata": {
    "ExecuteTime": {
     "end_time": "2021-07-27T23:30:46.781252Z",
     "start_time": "2021-07-27T23:30:46.251091Z"
    }
   },
   "outputs": [],
   "source": [
    "%load_ext autoreload\n",
    "%autoreload 2\n",
    "\n",
    "import datetime\n",
    "import logging\n",
    "import os\n",
    "\n",
    "import pandas as pd\n",
    "from pyarrow import parquet\n",
    "import s3fs\n",
    "\n",
    "import helpers.dbg as dbg\n",
    "import helpers.env as env\n",
    "import helpers.printing as prnt"
   ]
  },
  {
   "cell_type": "code",
   "execution_count": 2,
   "id": "58a2b5f3",
   "metadata": {
    "ExecuteTime": {
     "end_time": "2021-07-27T23:30:47.340029Z",
     "start_time": "2021-07-27T23:30:46.785184Z"
    }
   },
   "outputs": [
    {
     "name": "stdout",
     "output_type": "stream",
     "text": [
      "\u001b[33mWARNING\u001b[0m: Disabling annoying warnings\n",
      "\u001b[0m\u001b[36mINFO\u001b[0m: > cmd='/venv/lib/python3.8/site-packages/ipykernel_launcher.py -f /root/.local/share/jupyter/runtime/kernel-26b9c9dd-34a1-43ca-8ac4-d0545f037ca0.json'\n",
      "\u001b[33mWARNING\u001b[0m: Running in Jupyter\n"
     ]
    }
   ],
   "source": [
    "prnt.config_notebook()\n",
    "\n",
    "# dbg.init_logger(verbosity=logging.DEBUG)\n",
    "dbg.init_logger(verbosity=logging.INFO)\n",
    "# dbg.test_logger()\n",
    "_LOG = logging.getLogger(__name__)"
   ]
  },
  {
   "cell_type": "markdown",
   "id": "4818beec",
   "metadata": {},
   "source": [
    "# Real-time node"
   ]
  },
  {
   "cell_type": "code",
   "execution_count": 3,
   "id": "3f6fef91",
   "metadata": {
    "ExecuteTime": {
     "end_time": "2021-07-27T23:30:47.359591Z",
     "start_time": "2021-07-27T23:30:47.342543Z"
    }
   },
   "outputs": [],
   "source": [
    "import time"
   ]
  },
  {
   "cell_type": "markdown",
   "id": "a45d0ea4",
   "metadata": {},
   "source": [
    "## Test real-time node"
   ]
  },
  {
   "cell_type": "code",
   "execution_count": 4,
   "id": "0db2670c",
   "metadata": {
    "ExecuteTime": {
     "end_time": "2021-07-27T23:30:49.029727Z",
     "start_time": "2021-07-27T23:30:47.361851Z"
    }
   },
   "outputs": [
    {
     "name": "stderr",
     "output_type": "stream",
     "text": [
      "/app/amp/core/dataflow/core.py:7: TqdmExperimentalWarning: Using `tqdm.autonotebook.tqdm` in notebook mode. Use `tqdm.tqdm` instead to force console mode (e.g. in jupyter console)\n",
      "  from tqdm.autonotebook import tqdm\n"
     ]
    },
    {
     "data": {
      "text/plain": [
       "{'df_out':                         close    volume\n",
       " 2010-01-04 09:30:00  0.166325  0.476288\n",
       " 2010-01-04 09:31:00  0.483731  0.870343\n",
       " 2010-01-04 09:32:00  0.547852  0.966650\n",
       " 2010-01-04 09:33:00  0.395545  0.802012\n",
       " 2010-01-04 09:34:00  0.230954  1.045426\n",
       " 2010-01-04 09:35:00  0.656137  1.241316}"
      ]
     },
     "execution_count": 4,
     "metadata": {},
     "output_type": "execute_result"
    }
   ],
   "source": [
    "import core.dataflow.nodes.sources as cdtfns\n",
    "\n",
    "nid = \"rtds\"\n",
    "start_date = pd.Timestamp(\"2010-01-04 09:30:00\")\n",
    "end_date = pd.Timestamp(\"2010-01-10 09:30:00\")\n",
    "\n",
    "columns = [\"close\", \"volume\"]\n",
    "rtds = cdtfns.RealTimeSyntheticDataSource(\"rtds\", columns, start_date, end_date)\n",
    "\n",
    "now = pd.Timestamp(\"2010-01-04 09:35:00\")\n",
    "rtds.set_current_time(now)\n",
    "    \n",
    "rtds.fit()"
   ]
  },
  {
   "cell_type": "markdown",
   "id": "27f032a1",
   "metadata": {},
   "source": [
    "## Build pipeline"
   ]
  },
  {
   "cell_type": "code",
   "execution_count": 5,
   "id": "3de9acfe",
   "metadata": {
    "ExecuteTime": {
     "end_time": "2021-07-27T23:30:49.326966Z",
     "start_time": "2021-07-27T23:30:49.031542Z"
    }
   },
   "outputs": [
    {
     "name": "stdout",
     "output_type": "stream",
     "text": [
      "load_prices:\n",
      "  source_node_name: real_time_synthetic\n",
      "  source_node_kwargs:\n",
      "    columns: ['close', 'vol']\n",
      "    start_date: 2010-01-04 09:30:00\n",
      "    end_date: 2010-01-04 11:30:00\n",
      "filter_weekends:\n",
      "  col_mode: replace_all\n",
      "filter_ath:\n",
      "  col_mode: replace_all\n",
      "  transformer_kwargs:\n",
      "    start_time: 09:30:00\n",
      "    end_time: 16:00:00\n",
      "resample_prices_to_1min:\n",
      "  func_kwargs:\n",
      "    rule: 1T\n",
      "    price_cols: ['close']\n",
      "    volume_cols: ['vol']\n",
      "compute_vwap:\n",
      "  func_kwargs:\n",
      "    rule: 5T\n",
      "    price_col: close\n",
      "    volume_col: vol\n",
      "    add_bar_start_timestamps: True\n",
      "    add_epoch: True\n",
      "    add_last_price: True\n",
      "compute_ret_0:\n",
      "  cols: ['twap', 'vwap']\n",
      "  col_mode: merge_all\n",
      "  transformer_kwargs:\n",
      "    mode: pct_change\n"
     ]
    }
   ],
   "source": [
    "import dataflow_amp.real_time.utils as dartu\n",
    "import dataflow_amp.returns.pipeline as darp\n",
    "import core.dataflow as cdataf\n",
    "import core.config as cconfig\n",
    "\n",
    "dag_builder = darp.ReturnsPipeline()\n",
    "config = dag_builder.get_config_template()\n",
    "\n",
    "# # Add the source node.\n",
    "# source_config = cconfig.get_config_from_nested_dict(\n",
    "#     {\n",
    "#         \"func\": cldns.load_single_instrument_data,\n",
    "#         \"func_kwargs\": {\n",
    "#             \"start_date\": datetime.date(2010, 6, 29),\n",
    "#             \"end_date\": datetime.date(2010, 7, 13),\n",
    "#         },\n",
    "#     }\n",
    "# )\n",
    "# config[\"load_prices\"] = source_config\n",
    "# config[\"resample_prices_to_1min\", \"func_kwargs\", \"volume_cols\"] = [\"volume\"]\n",
    "# config[\"compute_vwap\", \"func_kwargs\", \"rule\"] = \"15T\"\n",
    "# config[\"compute_vwap\", \"func_kwargs\", \"volume_col\"] = \"volume\"\n",
    "\n",
    "if False:\n",
    "    from im.kibot.data.config import S3_PREFIX\n",
    "\n",
    "    ticker = \"AAPL\"\n",
    "    file_path = os.path.join(S3_PREFIX, \"pq/sp_500_1min\", ticker + \".pq\")\n",
    "    source_node_kwargs = {\n",
    "        \"func\": cdataf.load_data_from_disk,\n",
    "        \"func_kwargs\": {\n",
    "            \"file_path\": file_path,\n",
    "            \"start_date\": pd.to_datetime(\"2010-01-04 9:30:00\"),\n",
    "            \"end_date\": pd.to_datetime(\"2010-01-04 16:05:00\"),\n",
    "        },\n",
    "    }\n",
    "    config[\"load_prices\"] = cconfig.get_config_from_nested_dict(\n",
    "        source_node_kwargs\n",
    "    )\n",
    "    \n",
    "else:\n",
    "    start_date = pd.Timestamp(\"2010-01-04 09:30:00\")\n",
    "    end_date = pd.Timestamp(\"2010-01-04 11:30:00\")\n",
    "    \n",
    "    source_node_kwargs = {\n",
    "        \"columns\": [\"close\", \"vol\"],\n",
    "        \"start_date\": start_date,\n",
    "        \"end_date\": end_date,\n",
    "    }\n",
    "    config[\"load_prices\"] = cconfig.get_config_from_nested_dict({\n",
    "        \"source_node_name\": \"real_time_synthetic\",\n",
    "        \"source_node_kwargs\": source_node_kwargs\n",
    "    })\n",
    "\n",
    "print(config)"
   ]
  },
  {
   "cell_type": "code",
   "execution_count": 6,
   "id": "def934eb",
   "metadata": {
    "ExecuteTime": {
     "end_time": "2021-07-27T23:30:49.365816Z",
     "start_time": "2021-07-27T23:30:49.329059Z"
    }
   },
   "outputs": [],
   "source": [
    "dag = dag_builder.get_dag(config)"
   ]
  },
  {
   "cell_type": "code",
   "execution_count": 7,
   "id": "eeb33177",
   "metadata": {
    "ExecuteTime": {
     "end_time": "2021-07-27T23:30:49.403067Z",
     "start_time": "2021-07-27T23:30:49.368969Z"
    }
   },
   "outputs": [],
   "source": [
    "if False:\n",
    "    #nid = \"compute_ret_0\"\n",
    "    nid = \"load_prices\"\n",
    "    node = dag.get_node(\"load_prices\")\n",
    "    node.reset_current_time()\n",
    "    node.set_current_time(pd.to_datetime(\"2010-01-06 9:30:00\"))\n",
    "\n",
    "    dict_ = dag.run_leq_node(nid, \"fit\")\n",
    "\n",
    "    print(dict_)"
   ]
  },
  {
   "cell_type": "code",
   "execution_count": null,
   "id": "03498404",
   "metadata": {
    "ExecuteTime": {
     "start_time": "2021-07-27T23:30:46.253Z"
    },
    "lines_to_next_cell": 2,
    "scrolled": false
   },
   "outputs": [
    {
     "name": "stdout",
     "output_type": "stream",
     "text": [
      "now= 2010-01-04 09:30:00\n",
      "Time to execute the DAG\n"
     ]
    },
    {
     "data": {
      "application/vnd.jupyter.widget-view+json": {
       "model_id": "06480c06026046e4ad0a7a10c283ca41",
       "version_major": 2,
       "version_minor": 0
      },
      "text/plain": [
       "run_leq_node:   0%|          | 0/6 [00:00<?, ?it/s]"
      ]
     },
     "metadata": {},
     "output_type": "display_data"
    },
    {
     "name": "stdout",
     "output_type": "stream",
     "text": [
      "                     vwap  twap  last bar_start_timestamp    minute  twap_ret_0  vwap_ret_0\n",
      "2010-01-04 09:30:00   NaN   NaN   NaN 2010-01-04 09:25:00  21043290         NaN         NaN\n",
      "now= 2010-01-04 09:31:00\n",
      "now= 2010-01-04 09:32:00\n",
      "now= 2010-01-04 09:33:00\n",
      "now= 2010-01-04 09:34:00\n",
      "now= 2010-01-04 09:35:00\n",
      "Time to execute the DAG\n"
     ]
    }
   ],
   "source": [
    "node = dag.get_node(\"load_prices\")\n",
    "node.reset_current_time()\n",
    "    \n",
    "for now in dartu.get_now_time(start_date, end_date):\n",
    "    print(\"now=\", now)\n",
    "    execute = dartu.is_dag_to_execute(now)\n",
    "    if execute:\n",
    "        print(\"Time to execute the DAG\")\n",
    "        node = dag.get_node(\"load_prices\")\n",
    "        node.set_current_time(now)\n",
    "        #\n",
    "        sink = dag.get_unique_sink()\n",
    "        dict_ = dag.run_leq_node(sink, \"fit\")\n",
    "        print(dict_[\"df_out\"].tail(3))"
   ]
  }
 ],
 "metadata": {
  "jupytext": {
   "text_representation": {
    "extension": ".py",
    "format_name": "percent",
    "format_version": "1.3",
    "jupytext_version": "1.11.2"
   }
  },
  "kernelspec": {
   "display_name": "Python 3",
   "language": "python",
   "name": "python3"
  },
  "language_info": {
   "codemirror_mode": {
    "name": "ipython",
    "version": 3
   },
   "file_extension": ".py",
   "mimetype": "text/x-python",
   "name": "python",
   "nbconvert_exporter": "python",
   "pygments_lexer": "ipython3",
   "version": "3.8.5"
  },
  "toc": {
   "base_numbering": 1,
   "nav_menu": {},
   "number_sections": true,
   "sideBar": true,
   "skip_h1_title": false,
   "title_cell": "Table of Contents",
   "title_sidebar": "Contents",
   "toc_cell": false,
   "toc_position": {
    "height": "calc(100% - 180px)",
    "left": "10px",
    "top": "150px",
    "width": "165px"
   },
   "toc_section_display": true,
   "toc_window_display": true
  }
 },
 "nbformat": 4,
 "nbformat_minor": 5
}
