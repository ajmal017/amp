{
 "cells": [
  {
   "cell_type": "code",
   "execution_count": null,
   "metadata": {},
   "outputs": [],
   "source": [
    "%load_ext autoreload\n",
    "%autoreload 2\n",
    "\n",
    "import logging\n",
    "\n",
    "import pandas as pd\n",
    "\n",
    "import helpers.dbg as dbg\n",
    "import helpers.printing as print_\n",
    "import helpers.system_interaction as si"
   ]
  },
  {
   "cell_type": "code",
   "execution_count": null,
   "metadata": {},
   "outputs": [],
   "source": [
    "print_.config_notebook()\n",
    "\n",
    "# TODO(gp): Changing level during the notebook execution doesn't work. Fix it.\n",
    "# dbg.init_logger(verbosity=logging.DEBUG)\n",
    "dbg.init_logger(verbosity=logging.INFO)"
   ]
  },
  {
   "cell_type": "markdown",
   "metadata": {
    "ExecuteTime": {
     "end_time": "2019-07-23T11:57:34.995343Z",
     "start_time": "2019-07-23T11:57:34.969847Z"
    }
   },
   "source": [
    "## Describe-instances"
   ]
  },
  {
   "cell_type": "code",
   "execution_count": 7,
   "metadata": {
    "ExecuteTime": {
     "end_time": "2019-07-23T11:44:48.024750Z",
     "start_time": "2019-07-23T11:44:45.930749Z"
    }
   },
   "outputs": [],
   "source": [
    "cmd = \"aws ec2 describe-instances\"\n",
    "_, txt = si.system_to_string(cmd)"
   ]
  },
  {
   "cell_type": "code",
   "execution_count": 16,
   "metadata": {
    "ExecuteTime": {
     "end_time": "2019-07-23T11:48:19.646804Z",
     "start_time": "2019-07-23T11:48:19.616968Z"
    }
   },
   "outputs": [
    {
     "data": {
      "text/plain": [
       "{'Reservations': [{'Groups': [],\n",
       "   'Instances': [{'AmiLaunchIndex': 0,\n",
       "     'ImageId': 'ami-0534309bfe5b4972a',\n",
       "     'InstanceId': 'i-07f9b5323aa7a2ff2',\n",
       "     'InstanceType': 't3a.xlarge',\n",
       "     'KeyName': 'us-east-1',\n",
       "     'LaunchTime': '2019-07-23T10:41:19.000Z',\n",
       "     'Monitoring': {'State': 'disabled'},\n",
       "     'Placement': {'AvailabilityZone': 'us-east-1a',\n",
       "      'GroupName': '',\n",
       "      'Tenancy': 'default'},\n",
       "     'PrivateDnsName': 'ip-172-31-23-127.ec2.internal',\n",
       "     'PrivateIpAddress': '172.31.23.127',\n",
       "     'ProductCodes': [],\n",
       "     'PublicDnsName': 'ec2-18-212-236-170.compute-1.amazonaws.com',\n",
       "     'PublicIpAddress': '18.212.236.170',\n",
       "     'State': {'Code': 16, 'Name': 'running'},\n",
       "     'StateTransitionReason': '',\n",
       "     'SubnetId': 'subnet-66e9fb12',\n",
       "     'VpcId': 'vpc-e8dd268d',\n",
       "     'Architecture': 'x86_64',\n",
       "     'BlockDeviceMappings': [{'DeviceName': '/dev/sda1',\n",
       "       'Ebs': {'AttachTime': '2019-07-23T09:57:42.000Z',\n",
       "        'DeleteOnTermination': False,\n",
       "        'Status': 'attached',\n",
       "        'VolumeId': 'vol-0daffd21028c52130'}},\n",
       "      {'DeviceName': '/dev/sdc',\n",
       "       'Ebs': {'AttachTime': '2019-07-23T09:57:42.000Z',\n",
       "        'DeleteOnTermination': False,\n",
       "        'Status': 'attached',\n",
       "        'VolumeId': 'vol-0092cfc663890acaf'}},\n",
       "      {'DeviceName': '/dev/sdb',\n",
       "       'Ebs': {'AttachTime': '2019-07-23T09:57:42.000Z',\n",
       "        'DeleteOnTermination': False,\n",
       "        'Status': 'attached',\n",
       "        'VolumeId': 'vol-016f2b6f1c2f3a40c'}}],\n",
       "     'ClientToken': '',\n",
       "     'EbsOptimized': True,\n",
       "     'EnaSupport': True,\n",
       "     'Hypervisor': 'xen',\n",
       "     'NetworkInterfaces': [{'Association': {'IpOwnerId': 'amazon',\n",
       "        'PublicDnsName': 'ec2-18-212-236-170.compute-1.amazonaws.com',\n",
       "        'PublicIp': '18.212.236.170'},\n",
       "       'Attachment': {'AttachTime': '2019-07-23T09:57:42.000Z',\n",
       "        'AttachmentId': 'eni-attach-0a79805be00c307fc',\n",
       "        'DeleteOnTermination': True,\n",
       "        'DeviceIndex': 0,\n",
       "        'Status': 'attached'},\n",
       "       'Description': '',\n",
       "       'Groups': [{'GroupName': 'launch-wizard-2',\n",
       "         'GroupId': 'sg-09a8c9524937f3a85'}],\n",
       "       'Ipv6Addresses': [],\n",
       "       'MacAddress': '0a:e2:d3:c2:a0:80',\n",
       "       'NetworkInterfaceId': 'eni-09f95009404ac4837',\n",
       "       'OwnerId': '158873065638',\n",
       "       'PrivateDnsName': 'ip-172-31-23-127.ec2.internal',\n",
       "       'PrivateIpAddress': '172.31.23.127',\n",
       "       'PrivateIpAddresses': [{'Association': {'IpOwnerId': 'amazon',\n",
       "          'PublicDnsName': 'ec2-18-212-236-170.compute-1.amazonaws.com',\n",
       "          'PublicIp': '18.212.236.170'},\n",
       "         'Primary': True,\n",
       "         'PrivateDnsName': 'ip-172-31-23-127.ec2.internal',\n",
       "         'PrivateIpAddress': '172.31.23.127'}],\n",
       "       'SourceDestCheck': True,\n",
       "       'Status': 'in-use',\n",
       "       'SubnetId': 'subnet-66e9fb12',\n",
       "       'VpcId': 'vpc-e8dd268d',\n",
       "       'InterfaceType': 'interface'}],\n",
       "     'RootDeviceName': '/dev/sda1',\n",
       "     'RootDeviceType': 'ebs',\n",
       "     'SecurityGroups': [{'GroupName': 'launch-wizard-2',\n",
       "       'GroupId': 'sg-09a8c9524937f3a85'}],\n",
       "     'SourceDestCheck': True,\n",
       "     'Tags': [{'Key': 'name', 'Value': 'compute1'}],\n",
       "     'VirtualizationType': 'hvm',\n",
       "     'CpuOptions': {'CoreCount': 2, 'ThreadsPerCore': 2},\n",
       "     'CapacityReservationSpecification': {'CapacityReservationPreference': 'open'},\n",
       "     'HibernationOptions': {'Configured': False}}],\n",
       "   'OwnerId': '158873065638',\n",
       "   'ReservationId': 'r-062a33ee08a9d171f'}]}"
      ]
     },
     "execution_count": 16,
     "metadata": {},
     "output_type": "execute_result"
    }
   ],
   "source": [
    "data = json.loads(txt)\n",
    "\n",
    "data"
   ]
  },
  {
   "cell_type": "code",
   "execution_count": 34,
   "metadata": {
    "ExecuteTime": {
     "end_time": "2019-07-23T11:57:05.775513Z",
     "start_time": "2019-07-23T11:57:05.738208Z"
    }
   },
   "outputs": [
    {
     "data": {
      "text/html": [
       "<div>\n",
       "<style scoped>\n",
       "    .dataframe tbody tr th:only-of-type {\n",
       "        vertical-align: middle;\n",
       "    }\n",
       "\n",
       "    .dataframe tbody tr th {\n",
       "        vertical-align: top;\n",
       "    }\n",
       "\n",
       "    .dataframe thead th {\n",
       "        text-align: right;\n",
       "    }\n",
       "</style>\n",
       "<table border=\"1\" class=\"dataframe\">\n",
       "  <thead>\n",
       "    <tr style=\"text-align: right;\">\n",
       "      <th></th>\n",
       "      <th>InstanceId</th>\n",
       "      <th>InstanceType</th>\n",
       "      <th>LaunchTime</th>\n",
       "      <th>PublicIpAddress</th>\n",
       "      <th>State</th>\n",
       "    </tr>\n",
       "  </thead>\n",
       "  <tbody>\n",
       "    <tr>\n",
       "      <th>0</th>\n",
       "      <td>i-07f9b5323aa7a2ff2</td>\n",
       "      <td>t3a.xlarge</td>\n",
       "      <td>2019-07-23T10:41:19.000Z</td>\n",
       "      <td>18.212.236.170</td>\n",
       "      <td>{'Code': 16, 'Name': 'running'}</td>\n",
       "    </tr>\n",
       "  </tbody>\n",
       "</table>\n",
       "</div>"
      ],
      "text/plain": [
       "            InstanceId InstanceType                LaunchTime PublicIpAddress                            State\n",
       "0  i-07f9b5323aa7a2ff2   t3a.xlarge  2019-07-23T10:41:19.000Z  18.212.236.170  {'Code': 16, 'Name': 'running'}"
      ]
     },
     "metadata": {},
     "output_type": "display_data"
    }
   ],
   "source": [
    "df = pd.io.json.json_normalize(data[\"Reservations\"], record_path=\"Instances\")\n",
    "df_tmp = df[\"InstanceId InstanceType LaunchTime PublicIpAddress State\".split()]\n",
    "\n",
    "display(df_tmp)\n",
    "# pd.io.json.json_normalize(data[\"Reservations\"][\"Instances\"])"
   ]
  },
  {
   "cell_type": "code",
   "execution_count": 29,
   "metadata": {
    "ExecuteTime": {
     "end_time": "2019-07-23T11:54:10.025711Z",
     "start_time": "2019-07-23T11:54:09.999016Z"
    }
   },
   "outputs": [
    {
     "name": "stdout",
     "output_type": "stream",
     "text": [
      "Help on function json_normalize in module pandas.io.json.normalize:\n",
      "\n",
      "json_normalize(data, record_path=None, meta=None, meta_prefix=None, record_prefix=None, errors='raise', sep='.')\n",
      "    Normalize semi-structured JSON data into a flat table.\n",
      "    \n",
      "    Parameters\n",
      "    ----------\n",
      "    data : dict or list of dicts\n",
      "        Unserialized JSON objects\n",
      "    record_path : string or list of strings, default None\n",
      "        Path in each object to list of records. If not passed, data will be\n",
      "        assumed to be an array of records\n",
      "    meta : list of paths (string or list of strings), default None\n",
      "        Fields to use as metadata for each record in resulting table\n",
      "    meta_prefix : string, default None\n",
      "    record_prefix : string, default None\n",
      "        If True, prefix records with dotted (?) path, e.g. foo.bar.field if\n",
      "        path to records is ['foo', 'bar']\n",
      "    errors : {'raise', 'ignore'}, default 'raise'\n",
      "    \n",
      "        * 'ignore' : will ignore KeyError if keys listed in meta are not\n",
      "          always present\n",
      "        * 'raise' : will raise KeyError if keys listed in meta are not\n",
      "          always present\n",
      "    \n",
      "        .. versionadded:: 0.20.0\n",
      "    \n",
      "    sep : string, default '.'\n",
      "        Nested records will generate names separated by sep,\n",
      "        e.g., for sep='.', { 'foo' : { 'bar' : 0 } } -> foo.bar\n",
      "    \n",
      "        .. versionadded:: 0.20.0\n",
      "    \n",
      "    Returns\n",
      "    -------\n",
      "    frame : DataFrame\n",
      "    \n",
      "    Examples\n",
      "    --------\n",
      "    \n",
      "    >>> from pandas.io.json import json_normalize\n",
      "    >>> data = [{'id': 1, 'name': {'first': 'Coleen', 'last': 'Volk'}},\n",
      "    ...         {'name': {'given': 'Mose', 'family': 'Regner'}},\n",
      "    ...         {'id': 2, 'name': 'Faye Raker'}]\n",
      "    >>> json_normalize(data)\n",
      "        id        name name.family name.first name.given name.last\n",
      "    0  1.0         NaN         NaN     Coleen        NaN      Volk\n",
      "    1  NaN         NaN      Regner        NaN       Mose       NaN\n",
      "    2  2.0  Faye Raker         NaN        NaN        NaN       NaN\n",
      "    \n",
      "    >>> data = [{'state': 'Florida',\n",
      "    ...          'shortname': 'FL',\n",
      "    ...          'info': {\n",
      "    ...               'governor': 'Rick Scott'\n",
      "    ...          },\n",
      "    ...          'counties': [{'name': 'Dade', 'population': 12345},\n",
      "    ...                      {'name': 'Broward', 'population': 40000},\n",
      "    ...                      {'name': 'Palm Beach', 'population': 60000}]},\n",
      "    ...         {'state': 'Ohio',\n",
      "    ...          'shortname': 'OH',\n",
      "    ...          'info': {\n",
      "    ...               'governor': 'John Kasich'\n",
      "    ...          },\n",
      "    ...          'counties': [{'name': 'Summit', 'population': 1234},\n",
      "    ...                       {'name': 'Cuyahoga', 'population': 1337}]}]\n",
      "    >>> result = json_normalize(data, 'counties', ['state', 'shortname',\n",
      "    ...                                           ['info', 'governor']])\n",
      "    >>> result\n",
      "             name  population info.governor    state shortname\n",
      "    0        Dade       12345    Rick Scott  Florida        FL\n",
      "    1     Broward       40000    Rick Scott  Florida        FL\n",
      "    2  Palm Beach       60000    Rick Scott  Florida        FL\n",
      "    3      Summit        1234   John Kasich     Ohio        OH\n",
      "    4    Cuyahoga        1337   John Kasich     Ohio        OH\n",
      "    \n",
      "    >>> data = {'A': [1, 2]}\n",
      "    >>> json_normalize(data, 'A', record_prefix='Prefix.')\n",
      "        Prefix.0\n",
      "    0          1\n",
      "    1          2\n",
      "\n"
     ]
    }
   ],
   "source": [
    "# help(pd.io.json.json_normalize)"
   ]
  }
 ],
 "metadata": {
  "jupytext": {
   "formats": "ipynb,py:percent"
  },
  "kernelspec": {
   "display_name": "Python [conda env:develop] *",
   "language": "python",
   "name": "conda-env-develop-py"
  },
  "language_info": {
   "codemirror_mode": {
    "name": "ipython",
    "version": 3
   },
   "file_extension": ".py",
   "mimetype": "text/x-python",
   "name": "python",
   "nbconvert_exporter": "python",
   "pygments_lexer": "ipython3",
   "version": "3.7.1"
  },
  "toc": {
   "base_numbering": 1,
   "nav_menu": {},
   "number_sections": true,
   "sideBar": true,
   "skip_h1_title": false,
   "title_cell": "Table of Contents",
   "title_sidebar": "Contents",
   "toc_cell": false,
   "toc_position": {},
   "toc_section_display": true,
   "toc_window_display": true
  }
 },
 "nbformat": 4,
 "nbformat_minor": 2
}
