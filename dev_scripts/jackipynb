#!/bin/bash -e

# """
# Search in .ipynb files.
# """

source helpers.sh

cmd="find . \( -name '*.ipynb' \) -print0 | xargs -0 ack $ACK_OPTS '$@'"
execute $cmd
