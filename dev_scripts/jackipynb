#echo "$@"
find . \( -name "*.ipynb" \) -print0 | xargs -0 ack --nogroup --nocolor "$@"
