#!/bin/bash -e
source helpers.sh

cmd="find . \( -name '*.ipynb' \) -print0 | xargs -0 ack $ACK_OPTS '$@'"
#echo "+ $cmd"
eval $cmd
