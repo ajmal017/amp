#!/bin/bash -e
source helpers.sh

#echo "$@"
find . \( -name "*.ipynb" \) -print0 | xargs -0 ack $ACK_OPTS "$@"
