{
 "cells": [
  {
   "cell_type": "code",
   "execution_count": 2,
   "metadata": {
    "ExecuteTime": {
     "end_time": "2020-05-29T18:07:13.625161Z",
     "start_time": "2020-05-29T18:07:13.028677Z"
    }
   },
   "outputs": [],
   "source": [
    "import jsonpickle\n",
    "\n",
    "import json\n",
    "import pprint\n",
    "\n",
    "def json_pretty_print(parsed):\n",
    "    \"\"\"\n",
    "    Pretty print a json object.\n",
    "    \"\"\"\n",
    "    if isinstance(parsed, str):\n",
    "        parsed = json.loads(parsed)\n",
    "    #ret = pprint.pformat(parsed)\n",
    "    ret = json.dumps(parsed, indent=4, sort_keys=True)\n",
    "    return ret\n",
    "\n",
    "import jsonpickle.ext.pandas as jsonpickle_pandas\n",
    "jsonpickle_pandas.register_handlers()"
   ]
  },
  {
   "cell_type": "code",
   "execution_count": 3,
   "metadata": {
    "ExecuteTime": {
     "end_time": "2020-05-29T18:09:52.937664Z",
     "start_time": "2020-05-29T18:09:52.932910Z"
    }
   },
   "outputs": [],
   "source": [
    "import inspect\n",
    "\n",
    "def round_trip(obj):\n",
    "    print(\"obj=\\n\", obj)\n",
    "    frozen = jsonpickle.encode(obj)\n",
    "    #\n",
    "    print(\"frozen=\")\n",
    "    print(json_pretty_print(frozen))\n",
    "    #\n",
    "    obj2 = jsonpickle.decode(frozen)\n",
    "    print(\"obj2=\\n\", obj2)\n",
    "    print(\"class=%s\" % type(obj))\n",
    "    if str(type(obj)).startswith(\"<class '\"):\n",
    "        pass\n",
    "    else:\n",
    "        if isinstance(obj, pd.DataFrame):\n",
    "            assert obj.equals(obj2)\n",
    "        else:\n",
    "            assert obj == obj2\n",
    "    return obj2"
   ]
  },
  {
   "cell_type": "code",
   "execution_count": 4,
   "metadata": {
    "ExecuteTime": {
     "end_time": "2020-05-29T18:09:58.293390Z",
     "start_time": "2020-05-29T18:09:58.284488Z"
    }
   },
   "outputs": [
    {
     "name": "stdout",
     "output_type": "stream",
     "text": [
      "                Product  Price\n",
      "hello                         \n",
      "0      Desktop Computer    700\n",
      "1                Tablet    250\n",
      "2                iPhone    800\n",
      "3                Laptop   1200\n"
     ]
    }
   ],
   "source": [
    "import pandas as pd\n",
    "\n",
    "data = {\n",
    "    'Product': ['Desktop Computer', 'Tablet', 'iPhone', 'Laptop'],\n",
    "    'Price': [700, 250, 800, 1200]\n",
    "}\n",
    "\n",
    "df = pd.DataFrame(data, columns=['Product', 'Price'])\n",
    "df.index.name = \"hello\"\n",
    "print(df)"
   ]
  },
  {
   "cell_type": "code",
   "execution_count": 18,
   "metadata": {
    "ExecuteTime": {
     "end_time": "2020-05-29T18:19:43.336755Z",
     "start_time": "2020-05-29T18:19:43.328027Z"
    }
   },
   "outputs": [
    {
     "name": "stdout",
     "output_type": "stream",
     "text": [
      "obj=\n",
      " 3\n",
      "frozen=\n",
      "3\n",
      "obj2=\n",
      " 3\n",
      "class=<class 'int'>\n"
     ]
    },
    {
     "data": {
      "text/plain": [
       "3"
      ]
     },
     "execution_count": 18,
     "metadata": {},
     "output_type": "execute_result"
    }
   ],
   "source": [
    "round_trip(3)"
   ]
  },
  {
   "cell_type": "code",
   "execution_count": 38,
   "metadata": {
    "ExecuteTime": {
     "end_time": "2020-05-29T18:27:20.236748Z",
     "start_time": "2020-05-29T18:27:20.228347Z"
    }
   },
   "outputs": [
    {
     "name": "stdout",
     "output_type": "stream",
     "text": [
      "output= # Initialize values for unit test.\n",
      "a = 3\n",
      "b = 4\n",
      "# Apply values.\n",
      "act = F(a, b)\n",
      "exp = {'pavel': 7}\n",
      "assert act == exp\n",
      "{'pavel': 7}\n"
     ]
    }
   ],
   "source": [
    "class Playback:\n",
    "    \n",
    "    #def __init__(self, file_name, mode, *args, **kwargs):\n",
    "    # self.args = args\n",
    "    # self.kwargs = kwargs\n",
    "    def __init__(self, file_name, mode, func_name, a, b):\n",
    "        self.a = a\n",
    "        self.b = b\n",
    "        \n",
    "    def start(self):\n",
    "        self.a_json = jsonpickle.encode(self.a)\n",
    "        self.b_json = jsonpickle.encode(self.b)\n",
    "    \n",
    "    def end(self, ret):\n",
    "        self.ret_json = jsonpickle.encode(ret)\n",
    "        output = []\n",
    "        output.append(\"# Initialize values for unit test.\")\n",
    "        output.append(\"a = %s\" % jsonpickle.decode(self.a_json))\n",
    "        output.append(\"b = %s\" % jsonpickle.decode(self.b_json))\n",
    "        output.append(\"# Apply values.\")\n",
    "        output.append(\"act = F(a, b)\")\n",
    "        output.append(\"exp = %s\" % jsonpickle.decode(self.ret_json))\n",
    "        #output.append(\"self.assertEqual(act, exp)\")\n",
    "        output.append(\"assert act == exp\")\n",
    "        output = \"\\n\".join(output)\n",
    "        print(\"output=\", output)\n",
    "        \n",
    "        \n",
    "# def F(a: int, b: int):\n",
    "#     c = {}\n",
    "#     c[\"pavel\"] = a + b\n",
    "#     return c\n",
    "        \n",
    "\n",
    "def F(a: int, b: int):\n",
    "    playback = Playback(\"\", \"\", \"F\", a, b)\n",
    "    playback.start()\n",
    "    c = {}\n",
    "    c[\"pavel\"] = a + b\n",
    "    playback.end(c)\n",
    "    return c\n",
    "    \n",
    "    \n",
    "res = F(3, 4)\n",
    "print(res)"
   ]
  },
  {
   "cell_type": "code",
   "execution_count": 39,
   "metadata": {
    "ExecuteTime": {
     "end_time": "2020-05-29T18:27:30.781670Z",
     "start_time": "2020-05-29T18:27:30.777539Z"
    }
   },
   "outputs": [
    {
     "name": "stdout",
     "output_type": "stream",
     "text": [
      "output= # Initialize values for unit test.\n",
      "a = 3\n",
      "b = 4\n",
      "# Apply values.\n",
      "act = F(a, b)\n",
      "exp = {'pavel': 7}\n",
      "assert act == exp\n"
     ]
    }
   ],
   "source": [
    "# Initialize values for unit test.\n",
    "a = 3\n",
    "b = 4\n",
    "# Apply values.\n",
    "act = F(a, b)\n",
    "exp = {'pavel': 7}\n",
    "assert act == exp"
   ]
  },
  {
   "cell_type": "code",
   "execution_count": 5,
   "metadata": {
    "ExecuteTime": {
     "end_time": "2020-05-29T18:10:03.802405Z",
     "start_time": "2020-05-29T18:10:03.790642Z"
    }
   },
   "outputs": [
    {
     "name": "stdout",
     "output_type": "stream",
     "text": [
      "obj=\n",
      "                 Product  Price\n",
      "hello                         \n",
      "0      Desktop Computer    700\n",
      "1                Tablet    250\n",
      "2                iPhone    800\n",
      "3                Laptop   1200\n",
      "frozen=\n",
      "{\n",
      "    \"meta\": {\n",
      "        \"dtypes\": {\n",
      "            \"Price\": \"int64\",\n",
      "            \"Product\": \"object\"\n",
      "        },\n",
      "        \"index\": \"{\\\"py/object\\\": \\\"pandas.core.indexes.range.RangeIndex\\\", \\\"values\\\": \\\"[0, 1, 2, 3]\\\", \\\"txt\\\": true, \\\"meta\\\": {\\\"dtype\\\": \\\"int64\\\", \\\"name\\\": \\\"hello\\\"}}\"\n",
      "    },\n",
      "    \"py/object\": \"pandas.core.frame.DataFrame\",\n",
      "    \"txt\": true,\n",
      "    \"values\": \"Product,Price\\nDesktop Computer,700\\nTablet,250\\niPhone,800\\nLaptop,1200\\n\"\n",
      "}\n",
      "obj2=\n",
      "                 Product  Price\n",
      "hello                         \n",
      "0      Desktop Computer    700\n",
      "1                Tablet    250\n",
      "2                iPhone    800\n",
      "3                Laptop   1200\n",
      "class=<class 'pandas.core.frame.DataFrame'>\n"
     ]
    }
   ],
   "source": [
    "df2 = round_trip(df)"
   ]
  },
  {
   "cell_type": "code",
   "execution_count": null,
   "metadata": {
    "ExecuteTime": {
     "end_time": "2020-05-11T21:48:14.394447Z",
     "start_time": "2020-05-11T21:48:14.384307Z"
    }
   },
   "outputs": [],
   "source": [
    "class Thing:\n",
    "    def __init__(self, name):\n",
    "        self.name = name\n",
    "        \n",
    "obj = Thing('Awesome')\n",
    "\n",
    "round_trip(obj)"
   ]
  },
  {
   "cell_type": "code",
   "execution_count": null,
   "metadata": {
    "ExecuteTime": {
     "end_time": "2020-05-11T19:58:38.314059Z",
     "start_time": "2020-05-11T19:58:38.309331Z"
    }
   },
   "outputs": [],
   "source": [
    "def test(a: int, b: int):\n",
    "    print(round_trip(a))\n",
    "\n",
    "    \n",
    "test(\"strunz\", 6)\n",
    "test(4, 6)\n",
    "test([\"hello\"], 6)"
   ]
  },
  {
   "cell_type": "code",
   "execution_count": null,
   "metadata": {
    "ExecuteTime": {
     "end_time": "2020-05-11T14:03:41.315868Z",
     "start_time": "2020-05-11T14:03:41.311264Z"
    }
   },
   "outputs": [],
   "source": [
    "df.index.dtype#"
   ]
  },
  {
   "cell_type": "code",
   "execution_count": null,
   "metadata": {
    "ExecuteTime": {
     "end_time": "2020-05-11T14:03:00.632566Z",
     "start_time": "2020-05-11T14:03:00.623714Z"
    }
   },
   "outputs": [],
   "source": [
    "df.dtypes"
   ]
  },
  {
   "cell_type": "code",
   "execution_count": 13,
   "metadata": {
    "ExecuteTime": {
     "end_time": "2020-05-29T18:16:34.748252Z",
     "start_time": "2020-05-29T18:16:34.736249Z"
    }
   },
   "outputs": [
    {
     "name": "stdout",
     "output_type": "stream",
     "text": [
      "df_as_str = {\"Product\":{\"0\":\"Desktop Computer\",\"1\":\"Tablet\",\"2\":\"iPhone\",\"3\":\"Laptop\"},\"Price\":{\"0\":700,\"1\":250,\"2\":800,\"3\":1200}}\n",
      "df_as_str.index.name = 'hello'\n"
     ]
    },
    {
     "ename": "AttributeError",
     "evalue": "'dict' object has no attribute 'index'",
     "output_type": "error",
     "traceback": [
      "\u001b[0;31m---------------------------------------------------------------------------\u001b[0m",
      "\u001b[0;31mAttributeError\u001b[0m                            Traceback (most recent call last)",
      "\u001b[0;32m<ipython-input-13-1d9b60cefab1>\u001b[0m in \u001b[0;36m<module>\u001b[0;34m\u001b[0m\n\u001b[1;32m     25\u001b[0m \u001b[0mprint\u001b[0m\u001b[0;34m(\u001b[0m\u001b[0mpython_code\u001b[0m\u001b[0;34m)\u001b[0m\u001b[0;34m\u001b[0m\u001b[0;34m\u001b[0m\u001b[0m\n\u001b[1;32m     26\u001b[0m \u001b[0;34m\u001b[0m\u001b[0m\n\u001b[0;32m---> 27\u001b[0;31m \u001b[0mexec\u001b[0m\u001b[0;34m(\u001b[0m\u001b[0mpython_code\u001b[0m\u001b[0;34m)\u001b[0m\u001b[0;34m\u001b[0m\u001b[0;34m\u001b[0m\u001b[0m\n\u001b[0m",
      "\u001b[0;32m<string>\u001b[0m in \u001b[0;36m<module>\u001b[0;34m\u001b[0m\n",
      "\u001b[0;31mAttributeError\u001b[0m: 'dict' object has no attribute 'index'"
     ]
    }
   ],
   "source": [
    "#import io\n",
    "#import io.StringIO\n",
    "#from io import StringIO\n",
    "\n",
    "#output = StringIO.StringIO()\n",
    "\n",
    "orient = \"columns\"\n",
    "#orient = \"split\"\n",
    "#orient = \"records\"\n",
    "#orient = \"table\"\n",
    "df_as_str = df.to_json(orient=orient)\n",
    "\n",
    "# split\n",
    "# records\n",
    "# index\n",
    "# values\n",
    "# table\n",
    "# columns (the default format)\n",
    "\n",
    "python_code = []\n",
    "target_var = \"df_as_str\"\n",
    "python_code.append(\"%s = %s\" % (target_var, df_as_str))\n",
    "python_code.append(\"%s.index.name = '%s'\" % (target_var, df.index.name))\n",
    "python_code = \"\\n\".join(python_code)\n",
    "print(python_code)\n",
    "\n",
    "exec(python_code)"
   ]
  },
  {
   "cell_type": "code",
   "execution_count": null,
   "metadata": {
    "ExecuteTime": {
     "end_time": "2020-05-11T13:42:52.575973Z",
     "start_time": "2020-05-11T13:42:52.568178Z"
    }
   },
   "outputs": [],
   "source": [
    "airr = eval(df_as_str)\n",
    "df2 = pd.DataFrame.from_dict(arr, orient=\"columns\")\n",
    "df2.index.name"
   ]
  },
  {
   "cell_type": "code",
   "execution_count": null,
   "metadata": {},
   "outputs": [],
   "source": []
  }
 ],
 "metadata": {
  "jupytext": {
   "text_representation": {
    "extension": ".py",
    "format_name": "percent",
    "format_version": "1.3",
    "jupytext_version": "1.4.2"
   }
  },
  "kernelspec": {
   "display_name": "Python [conda env:.conda-p1_develop] *",
   "language": "python",
   "name": "conda-env-.conda-p1_develop-py"
  },
  "language_info": {
   "codemirror_mode": {
    "name": "ipython",
    "version": 3
   },
   "file_extension": ".py",
   "mimetype": "text/x-python",
   "name": "python",
   "nbconvert_exporter": "python",
   "pygments_lexer": "ipython3",
   "version": "3.7.6"
  },
  "toc": {
   "base_numbering": 1,
   "nav_menu": {},
   "number_sections": true,
   "sideBar": true,
   "skip_h1_title": false,
   "title_cell": "Table of Contents",
   "title_sidebar": "Contents",
   "toc_cell": false,
   "toc_position": {},
   "toc_section_display": true,
   "toc_window_display": false
  }
 },
 "nbformat": 4,
 "nbformat_minor": 4
}
