{
 "cells": [
  {
   "cell_type": "code",
   "execution_count": 1,
   "metadata": {
    "ExecuteTime": {
     "end_time": "2020-05-11T21:23:43.629146Z",
     "start_time": "2020-05-11T21:23:43.191168Z"
    }
   },
   "outputs": [],
   "source": [
    "import jsonpickle\n",
    "\n",
    "import json\n",
    "import pprint\n",
    "\n",
    "def json_pretty_print(parsed):\n",
    "    if isinstance(parsed, str):\n",
    "        parsed = json.loads(parsed)\n",
    "    #ret = pprint.pformat(parsed)\n",
    "    ret = json.dumps(parsed, indent=4, sort_keys=True)\n",
    "    return ret\n",
    "\n",
    "import jsonpickle.ext.pandas as jsonpickle_pandas\n",
    "jsonpickle_pandas.register_handlers()"
   ]
  },
  {
   "cell_type": "code",
   "execution_count": 46,
   "metadata": {
    "ExecuteTime": {
     "end_time": "2020-05-11T21:48:11.544639Z",
     "start_time": "2020-05-11T21:48:11.539823Z"
    }
   },
   "outputs": [],
   "source": [
    "import inspect\n",
    "\n",
    "def round_trip(obj):\n",
    "    print(\"obj=\\n\", obj)\n",
    "    frozen = jsonpickle.encode(obj)\n",
    "    #\n",
    "    print(\"frozen=\")\n",
    "    print(json_pretty_print(frozen))\n",
    "    #\n",
    "    obj2 = jsonpickle.decode(frozen)\n",
    "    print(\"obj2=\\n\", obj2)\n",
    "    print(\"class=%s\" % type(obj))\n",
    "    if str(type(obj)).startswith(\"<class '\"):\n",
    "        pass\n",
    "    else:\n",
    "        if isinstance(obj, pd.DataFrame):\n",
    "            assert obj.equals(obj2)\n",
    "        else:\n",
    "            assert obj == obj2\n",
    "    return obj2"
   ]
  },
  {
   "cell_type": "code",
   "execution_count": 22,
   "metadata": {
    "ExecuteTime": {
     "end_time": "2020-05-11T21:29:44.945322Z",
     "start_time": "2020-05-11T21:29:44.938275Z"
    }
   },
   "outputs": [
    {
     "name": "stdout",
     "output_type": "stream",
     "text": [
      "                Product  Price\n",
      "hello                         \n",
      "0      Desktop Computer    700\n",
      "1                Tablet    250\n",
      "2                iPhone    800\n",
      "3                Laptop   1200\n"
     ]
    }
   ],
   "source": [
    "import pandas as pd\n",
    "\n",
    "data = {\n",
    "    'Product': ['Desktop Computer', 'Tablet', 'iPhone', 'Laptop'],\n",
    "    'Price': [700, 250, 800, 1200]\n",
    "}\n",
    "\n",
    "df = pd.DataFrame(data, columns=['Product', 'Price'])\n",
    "df.index.name = \"hello\"\n",
    "print(df)"
   ]
  },
  {
   "cell_type": "code",
   "execution_count": 23,
   "metadata": {
    "ExecuteTime": {
     "end_time": "2020-05-11T21:29:46.835568Z",
     "start_time": "2020-05-11T21:29:46.825818Z"
    }
   },
   "outputs": [
    {
     "name": "stdout",
     "output_type": "stream",
     "text": [
      "obj=\n",
      "                 Product  Price\n",
      "hello                         \n",
      "0      Desktop Computer    700\n",
      "1                Tablet    250\n",
      "2                iPhone    800\n",
      "3                Laptop   1200\n",
      "frozen=\n",
      "{\n",
      "    \"meta\": {\n",
      "        \"dtypes\": {\n",
      "            \"Price\": \"int64\",\n",
      "            \"Product\": \"object\"\n",
      "        },\n",
      "        \"index\": \"{\\\"py/object\\\": \\\"pandas.core.indexes.range.RangeIndex\\\", \\\"values\\\": \\\"[0, 1, 2, 3]\\\", \\\"txt\\\": true, \\\"meta\\\": {\\\"dtype\\\": \\\"int64\\\", \\\"name\\\": \\\"hello\\\"}}\"\n",
      "    },\n",
      "    \"py/object\": \"pandas.core.frame.DataFrame\",\n",
      "    \"txt\": true,\n",
      "    \"values\": \"Product,Price\\nDesktop Computer,700\\nTablet,250\\niPhone,800\\nLaptop,1200\\n\"\n",
      "}\n",
      "obj2=\n",
      "                 Product  Price\n",
      "hello                         \n",
      "0      Desktop Computer    700\n",
      "1                Tablet    250\n",
      "2                iPhone    800\n",
      "3                Laptop   1200\n",
      "<class 'pandas.core.frame.DataFrame'>\n"
     ]
    }
   ],
   "source": [
    "df2 = round_trip(df)"
   ]
  },
  {
   "cell_type": "code",
   "execution_count": 47,
   "metadata": {
    "ExecuteTime": {
     "end_time": "2020-05-11T21:48:14.394447Z",
     "start_time": "2020-05-11T21:48:14.384307Z"
    }
   },
   "outputs": [
    {
     "name": "stdout",
     "output_type": "stream",
     "text": [
      "obj=\n",
      " <__main__.Thing object at 0x11c041850>\n",
      "frozen=\n",
      "{\n",
      "    \"name\": \"Awesome\",\n",
      "    \"py/object\": \"__main__.Thing\"\n",
      "}\n",
      "obj2=\n",
      " <__main__.Thing object at 0x10810f550>\n",
      "class=<class '__main__.Thing'>\n"
     ]
    },
    {
     "data": {
      "text/plain": [
       "<__main__.Thing at 0x10810f550>"
      ]
     },
     "execution_count": 47,
     "metadata": {},
     "output_type": "execute_result"
    }
   ],
   "source": [
    "class Thing:\n",
    "    def __init__(self, name):\n",
    "        self.name = name\n",
    "        \n",
    "obj = Thing('Awesome')\n",
    "\n",
    "round_trip(obj)"
   ]
  },
  {
   "cell_type": "code",
   "execution_count": null,
   "metadata": {},
   "outputs": [],
   "source": [
    "a = "
   ]
  },
  {
   "cell_type": "code",
   "execution_count": 123,
   "metadata": {
    "ExecuteTime": {
     "end_time": "2020-05-11T19:58:38.314059Z",
     "start_time": "2020-05-11T19:58:38.309331Z"
    }
   },
   "outputs": [
    {
     "name": "stdout",
     "output_type": "stream",
     "text": [
      "obj=\n",
      " strunz\n",
      "frozen=\n",
      "\"strunz\"\n",
      "obj2=\n",
      " strunz\n",
      "strunz\n",
      "obj=\n",
      " 4\n",
      "frozen=\n",
      "4\n",
      "obj2=\n",
      " 4\n",
      "4\n",
      "obj=\n",
      " ['hello']\n",
      "frozen=\n",
      "[\n",
      "    \"hello\"\n",
      "]\n",
      "obj2=\n",
      " ['hello']\n",
      "['hello']\n"
     ]
    }
   ],
   "source": [
    "def test(a: int, b: int):\n",
    "    print(round_trip(a))\n",
    "\n",
    "    \n",
    "test(\"strunz\", 6)\n",
    "test(4, 6)\n",
    "test([\"hello\"], 6)"
   ]
  },
  {
   "cell_type": "code",
   "execution_count": 55,
   "metadata": {
    "ExecuteTime": {
     "end_time": "2020-05-11T14:03:41.315868Z",
     "start_time": "2020-05-11T14:03:41.311264Z"
    }
   },
   "outputs": [
    {
     "data": {
      "text/plain": [
       "dtype('int64')"
      ]
     },
     "execution_count": 55,
     "metadata": {},
     "output_type": "execute_result"
    }
   ],
   "source": [
    "df.index.dtype#"
   ]
  },
  {
   "cell_type": "code",
   "execution_count": 52,
   "metadata": {
    "ExecuteTime": {
     "end_time": "2020-05-11T14:03:00.632566Z",
     "start_time": "2020-05-11T14:03:00.623714Z"
    }
   },
   "outputs": [
    {
     "data": {
      "text/plain": [
       "Product    object\n",
       "Price       int64\n",
       "dtype: object"
      ]
     },
     "execution_count": 52,
     "metadata": {},
     "output_type": "execute_result"
    }
   ],
   "source": [
    "df.dtypes"
   ]
  },
  {
   "cell_type": "code",
   "execution_count": 58,
   "metadata": {
    "ExecuteTime": {
     "end_time": "2020-05-11T14:14:11.116920Z",
     "start_time": "2020-05-11T14:14:11.104783Z"
    }
   },
   "outputs": [
    {
     "name": "stdout",
     "output_type": "stream",
     "text": [
      "df_as_str = {\"Product\":{\"0\":\"Desktop Computer\",\"1\":\"Tablet\",\"2\":\"iPhone\",\"3\":\"Laptop\"},\"Price\":{\"0\":700,\"1\":250,\"2\":800,\"3\":1200}}\n",
      "df_as_str.index.name = hello\n"
     ]
    },
    {
     "ename": "NameError",
     "evalue": "name 'hello' is not defined",
     "output_type": "error",
     "traceback": [
      "\u001b[0;31m---------------------------------------------------------------------------\u001b[0m",
      "\u001b[0;31mNameError\u001b[0m                                 Traceback (most recent call last)",
      "\u001b[0;32m<ipython-input-58-db27414306f7>\u001b[0m in \u001b[0;36m<module>\u001b[0;34m\u001b[0m\n\u001b[1;32m     25\u001b[0m \u001b[0mprint\u001b[0m\u001b[0;34m(\u001b[0m\u001b[0mpython_code\u001b[0m\u001b[0;34m)\u001b[0m\u001b[0;34m\u001b[0m\u001b[0;34m\u001b[0m\u001b[0m\n\u001b[1;32m     26\u001b[0m \u001b[0;34m\u001b[0m\u001b[0m\n\u001b[0;32m---> 27\u001b[0;31m \u001b[0mexec\u001b[0m\u001b[0;34m(\u001b[0m\u001b[0mpython_code\u001b[0m\u001b[0;34m)\u001b[0m\u001b[0;34m\u001b[0m\u001b[0;34m\u001b[0m\u001b[0m\n\u001b[0m",
      "\u001b[0;32m<string>\u001b[0m in \u001b[0;36m<module>\u001b[0;34m\u001b[0m\n",
      "\u001b[0;31mNameError\u001b[0m: name 'hello' is not defined"
     ]
    }
   ],
   "source": [
    "#import io\n",
    "#import io.StringIO\n",
    "#from io import StringIO\n",
    "\n",
    "#output = StringIO.StringIO()\n",
    "\n",
    "orient = \"columns\"\n",
    "#orient = \"split\"\n",
    "#orient = \"records\"\n",
    "#orient = \"table\"\n",
    "df_as_str = df.to_json(orient=orient)\n",
    "\n",
    "# split\n",
    "# records\n",
    "# index\n",
    "# values\n",
    "# table\n",
    "# columns (the default format)\n",
    "\n",
    "python_code = []\n",
    "target_var = \"df_as_str\"\n",
    "python_code.append(\"%s = %s\" % (target_var, df_as_str))\n",
    "python_code.append(\"%s.index.name = %s\" % (target_var, df.index.name))\n",
    "python_code = \"\\n\".join(python_code)\n",
    "print(python_code)\n",
    "\n",
    "exec(python_code)"
   ]
  },
  {
   "cell_type": "code",
   "execution_count": 33,
   "metadata": {
    "ExecuteTime": {
     "end_time": "2020-05-11T13:42:52.575973Z",
     "start_time": "2020-05-11T13:42:52.568178Z"
    }
   },
   "outputs": [
    {
     "data": {
      "text/html": [
       "<div>\n",
       "<style scoped>\n",
       "    .dataframe tbody tr th:only-of-type {\n",
       "        vertical-align: middle;\n",
       "    }\n",
       "\n",
       "    .dataframe tbody tr th {\n",
       "        vertical-align: top;\n",
       "    }\n",
       "\n",
       "    .dataframe thead th {\n",
       "        text-align: right;\n",
       "    }\n",
       "</style>\n",
       "<table border=\"1\" class=\"dataframe\">\n",
       "  <thead>\n",
       "    <tr style=\"text-align: right;\">\n",
       "      <th></th>\n",
       "      <th>Product</th>\n",
       "      <th>Price</th>\n",
       "    </tr>\n",
       "  </thead>\n",
       "  <tbody>\n",
       "    <tr>\n",
       "      <th>0</th>\n",
       "      <td>Desktop Computer</td>\n",
       "      <td>700</td>\n",
       "    </tr>\n",
       "    <tr>\n",
       "      <th>1</th>\n",
       "      <td>Tablet</td>\n",
       "      <td>250</td>\n",
       "    </tr>\n",
       "    <tr>\n",
       "      <th>2</th>\n",
       "      <td>iPhone</td>\n",
       "      <td>800</td>\n",
       "    </tr>\n",
       "    <tr>\n",
       "      <th>3</th>\n",
       "      <td>Laptop</td>\n",
       "      <td>1200</td>\n",
       "    </tr>\n",
       "  </tbody>\n",
       "</table>\n",
       "</div>"
      ],
      "text/plain": [
       "            Product  Price\n",
       "0  Desktop Computer    700\n",
       "1            Tablet    250\n",
       "2            iPhone    800\n",
       "3            Laptop   1200"
      ]
     },
     "execution_count": 33,
     "metadata": {},
     "output_type": "execute_result"
    }
   ],
   "source": [
    "arr = eval(df_as_str)\n",
    "df2 = pd.DataFrame.from_dict(arr, orient=\"columns\")\n",
    "df2.index.name"
   ]
  },
  {
   "cell_type": "code",
   "execution_count": null,
   "metadata": {},
   "outputs": [],
   "source": []
  }
 ],
 "metadata": {
  "jupytext": {
   "text_representation": {
    "extension": ".py",
    "format_name": "percent",
    "format_version": "1.3",
    "jupytext_version": "1.4.2"
   }
  },
  "kernelspec": {
   "display_name": "Python [conda env:.conda-p1_develop] *",
   "language": "python",
   "name": "conda-env-.conda-p1_develop-py"
  },
  "language_info": {
   "codemirror_mode": {
    "name": "ipython",
    "version": 3
   },
   "file_extension": ".py",
   "mimetype": "text/x-python",
   "name": "python",
   "nbconvert_exporter": "python",
   "pygments_lexer": "ipython3",
   "version": "3.7.6"
  },
  "toc": {
   "base_numbering": 1,
   "nav_menu": {},
   "number_sections": true,
   "sideBar": true,
   "skip_h1_title": false,
   "title_cell": "Table of Contents",
   "title_sidebar": "Contents",
   "toc_cell": false,
   "toc_position": {},
   "toc_section_display": true,
   "toc_window_display": false
  }
 },
 "nbformat": 4,
 "nbformat_minor": 4
}
