{
 "cells": [
  {
   "cell_type": "markdown",
   "metadata": {
    "pycharm": {
     "name": "#%% md\n"
    }
   },
   "source": [
    "# Test Cache in Jupyter Notebook"
   ]
  },
  {
   "cell_type": "code",
   "execution_count": 10,
   "metadata": {
    "ExecuteTime": {
     "end_time": "2020-09-03T19:36:41.069968Z",
     "start_time": "2020-09-03T19:36:41.067339Z"
    }
   },
   "outputs": [
    {
     "name": "stdout",
     "output_type": "stream",
     "text": [
      "<module 'joblib' from '/Users/saggese/.conda/envs/p1_develop/lib/python3.7/site-packages/joblib/__init__.py'>\n"
     ]
    }
   ],
   "source": [
    "import joblib\n",
    "\n",
    "print(joblib)"
   ]
  },
  {
   "cell_type": "code",
   "execution_count": 1,
   "metadata": {
    "ExecuteTime": {
     "end_time": "2020-09-03T19:34:54.717573Z",
     "start_time": "2020-09-03T19:34:53.957314Z"
    }
   },
   "outputs": [],
   "source": [
    "import helpers.dbg as dbg\n",
    "import helpers.cache as hcac"
   ]
  },
  {
   "cell_type": "markdown",
   "metadata": {
    "pycharm": {
     "name": "#%% md\n"
    }
   },
   "source": [
    "# Define computation function\n",
    "\n",
    "This function will be subjected to cache."
   ]
  },
  {
   "cell_type": "code",
   "execution_count": 57,
   "metadata": {
    "ExecuteTime": {
     "end_time": "2020-09-03T19:54:39.002333Z",
     "start_time": "2020-09-03T19:54:38.997314Z"
    },
    "pycharm": {
     "name": "#%%\n"
    }
   },
   "outputs": [
    {
     "name": "stdout",
     "output_type": "stream",
     "text": [
      "Sum: 1 + 2 = 3\n"
     ]
    },
    {
     "data": {
      "text/plain": [
       "3"
      ]
     },
     "execution_count": 57,
     "metadata": {},
     "output_type": "execute_result"
    }
   ],
   "source": [
    "def computation_function(a, b):\n",
    "    out = a + b\n",
    "    print(\"Sum: %s + %s = %s\" % (a, b, out))\n",
    "    return out\n",
    "\n",
    "\n",
    "inputs = (1, 2)\n",
    "exp_output = 3\n",
    "\n",
    "computation_function(*inputs)"
   ]
  },
  {
   "cell_type": "code",
   "execution_count": 52,
   "metadata": {
    "ExecuteTime": {
     "end_time": "2020-09-03T19:54:01.007259Z",
     "start_time": "2020-09-03T19:54:01.001847Z"
    }
   },
   "outputs": [
    {
     "name": "stdout",
     "output_type": "stream",
     "text": [
      "Multiplication: 1 * 2 = 2\n"
     ]
    },
    {
     "data": {
      "text/plain": [
       "2"
      ]
     },
     "execution_count": 52,
     "metadata": {},
     "output_type": "execute_result"
    }
   ],
   "source": [
    "def computation_function(a, b):\n",
    "    # hello\n",
    "    #assert 0\n",
    "    out = a * b\n",
    "    print(\"Multiplication: %s * %s = %s\" % (a, b, out))\n",
    "    return out\n",
    "\n",
    "\n",
    "inputs = (1, 2)\n",
    "exp_output = 2\n",
    "\n",
    "computation_function(*inputs)"
   ]
  },
  {
   "cell_type": "markdown",
   "metadata": {},
   "source": [
    "## LRU Cache"
   ]
  },
  {
   "cell_type": "code",
   "execution_count": 111,
   "metadata": {
    "ExecuteTime": {
     "end_time": "2020-09-03T20:19:20.976491Z",
     "start_time": "2020-09-03T20:19:20.973551Z"
    }
   },
   "outputs": [
    {
     "name": "stdout",
     "output_type": "stream",
     "text": [
      "140612447448096\n"
     ]
    }
   ],
   "source": [
    "def hello():\n",
    "    print(\"hello\")\n",
    "    \n",
    "print(id(hello))"
   ]
  },
  {
   "cell_type": "code",
   "execution_count": 112,
   "metadata": {
    "ExecuteTime": {
     "end_time": "2020-09-03T20:19:22.395218Z",
     "start_time": "2020-09-03T20:19:22.392066Z"
    }
   },
   "outputs": [
    {
     "name": "stdout",
     "output_type": "stream",
     "text": [
      "hello\n"
     ]
    }
   ],
   "source": [
    "import functools\n",
    "mem_func = functools.lru_cache(maxsize=None)(hello)\n",
    "\n",
    "mem_func()"
   ]
  },
  {
   "cell_type": "code",
   "execution_count": 113,
   "metadata": {
    "ExecuteTime": {
     "end_time": "2020-09-03T20:19:23.768762Z",
     "start_time": "2020-09-03T20:19:23.765904Z"
    }
   },
   "outputs": [
    {
     "name": "stdout",
     "output_type": "stream",
     "text": [
      "hello\n"
     ]
    }
   ],
   "source": [
    "mem_func = functools.lru_cache(maxsize=None)(hello)\n",
    "\n",
    "mem_func()"
   ]
  },
  {
   "cell_type": "code",
   "execution_count": 105,
   "metadata": {
    "ExecuteTime": {
     "end_time": "2020-09-03T20:17:23.322982Z",
     "start_time": "2020-09-03T20:17:23.319864Z"
    }
   },
   "outputs": [
    {
     "name": "stdout",
     "output_type": "stream",
     "text": [
      "140612447445648\n"
     ]
    }
   ],
   "source": [
    "def hello():\n",
    "    print(\"hello\")\n",
    "    \n",
    "print(id(hello))"
   ]
  },
  {
   "cell_type": "code",
   "execution_count": 106,
   "metadata": {
    "ExecuteTime": {
     "end_time": "2020-09-03T20:17:25.798219Z",
     "start_time": "2020-09-03T20:17:25.795268Z"
    }
   },
   "outputs": [
    {
     "name": "stdout",
     "output_type": "stream",
     "text": [
      "140612447446512\n"
     ]
    }
   ],
   "source": [
    "def hello():\n",
    "    assert 0\n",
    "    print(\"good bye\")\n",
    "    \n",
    "print(id(hello))"
   ]
  },
  {
   "cell_type": "code",
   "execution_count": 96,
   "metadata": {
    "ExecuteTime": {
     "end_time": "2020-09-03T20:16:08.847486Z",
     "start_time": "2020-09-03T20:16:08.837092Z"
    }
   },
   "outputs": [
    {
     "name": "stdout",
     "output_type": "stream",
     "text": [
      "140612447446656\n"
     ]
    },
    {
     "ename": "AssertionError",
     "evalue": "",
     "output_type": "error",
     "traceback": [
      "\u001b[0;31m---------------------------------------------------------------------------\u001b[0m",
      "\u001b[0;31mAssertionError\u001b[0m                            Traceback (most recent call last)",
      "\u001b[0;32m<ipython-input-96-a7f7d983cc56>\u001b[0m in \u001b[0;36m<module>\u001b[0;34m\u001b[0m\n\u001b[1;32m      1\u001b[0m \u001b[0;31m#hello()\u001b[0m\u001b[0;34m\u001b[0m\u001b[0;34m\u001b[0m\u001b[0;34m\u001b[0m\u001b[0m\n\u001b[1;32m      2\u001b[0m \u001b[0mprint\u001b[0m\u001b[0;34m(\u001b[0m\u001b[0mid\u001b[0m\u001b[0;34m(\u001b[0m\u001b[0mhello\u001b[0m\u001b[0;34m)\u001b[0m\u001b[0;34m)\u001b[0m\u001b[0;34m\u001b[0m\u001b[0;34m\u001b[0m\u001b[0m\n\u001b[0;32m----> 3\u001b[0;31m \u001b[0mmem_func\u001b[0m\u001b[0;34m(\u001b[0m\u001b[0;34m)\u001b[0m\u001b[0;34m\u001b[0m\u001b[0;34m\u001b[0m\u001b[0m\n\u001b[0m",
      "\u001b[0;32m<ipython-input-93-69463f9a27c7>\u001b[0m in \u001b[0;36mhello\u001b[0;34m()\u001b[0m\n\u001b[1;32m      1\u001b[0m \u001b[0;32mdef\u001b[0m \u001b[0mhello\u001b[0m\u001b[0;34m(\u001b[0m\u001b[0;34m)\u001b[0m\u001b[0;34m:\u001b[0m\u001b[0;34m\u001b[0m\u001b[0;34m\u001b[0m\u001b[0m\n\u001b[0;32m----> 2\u001b[0;31m     \u001b[0;32massert\u001b[0m \u001b[0;36m0\u001b[0m\u001b[0;34m\u001b[0m\u001b[0;34m\u001b[0m\u001b[0m\n\u001b[0m\u001b[1;32m      3\u001b[0m     \u001b[0mprint\u001b[0m\u001b[0;34m(\u001b[0m\u001b[0;34m\"good bye\"\u001b[0m\u001b[0;34m)\u001b[0m\u001b[0;34m\u001b[0m\u001b[0;34m\u001b[0m\u001b[0m\n",
      "\u001b[0;31mAssertionError\u001b[0m: "
     ]
    }
   ],
   "source": [
    "#hello()\n",
    "print(id(hello))\n",
    "mem_func()"
   ]
  },
  {
   "cell_type": "code",
   "execution_count": 95,
   "metadata": {
    "ExecuteTime": {
     "end_time": "2020-09-03T20:19:23.768762Z",
     "start_time": "2020-09-03T20:19:23.765904Z"
    }
   },
   "outputs": [
    {
     "ename": "AssertionError",
     "evalue": "",
     "output_type": "error",
     "traceback": [
      "\u001b[0;31m---------------------------------------------------------------------------\u001b[0m",
      "\u001b[0;31mAssertionError\u001b[0m                            Traceback (most recent call last)",
      "\u001b[0;32m<ipython-input-95-e78ee5fa61d5>\u001b[0m in \u001b[0;36m<module>\u001b[0;34m\u001b[0m\n\u001b[1;32m      1\u001b[0m \u001b[0mmem_func\u001b[0m \u001b[0;34m=\u001b[0m \u001b[0mfunctools\u001b[0m\u001b[0;34m.\u001b[0m\u001b[0mlru_cache\u001b[0m\u001b[0;34m(\u001b[0m\u001b[0mmaxsize\u001b[0m\u001b[0;34m=\u001b[0m\u001b[0;32mNone\u001b[0m\u001b[0;34m)\u001b[0m\u001b[0;34m(\u001b[0m\u001b[0mhello\u001b[0m\u001b[0;34m)\u001b[0m\u001b[0;34m\u001b[0m\u001b[0;34m\u001b[0m\u001b[0m\n\u001b[1;32m      2\u001b[0m \u001b[0;34m\u001b[0m\u001b[0m\n\u001b[0;32m----> 3\u001b[0;31m \u001b[0mmem_func\u001b[0m\u001b[0;34m(\u001b[0m\u001b[0;34m)\u001b[0m\u001b[0;34m\u001b[0m\u001b[0;34m\u001b[0m\u001b[0m\n\u001b[0m",
      "\u001b[0;32m<ipython-input-93-69463f9a27c7>\u001b[0m in \u001b[0;36mhello\u001b[0;34m()\u001b[0m\n\u001b[1;32m      1\u001b[0m \u001b[0;32mdef\u001b[0m \u001b[0mhello\u001b[0m\u001b[0;34m(\u001b[0m\u001b[0;34m)\u001b[0m\u001b[0;34m:\u001b[0m\u001b[0;34m\u001b[0m\u001b[0;34m\u001b[0m\u001b[0m\n\u001b[0;32m----> 2\u001b[0;31m     \u001b[0;32massert\u001b[0m \u001b[0;36m0\u001b[0m\u001b[0;34m\u001b[0m\u001b[0;34m\u001b[0m\u001b[0m\n\u001b[0m\u001b[1;32m      3\u001b[0m     \u001b[0mprint\u001b[0m\u001b[0;34m(\u001b[0m\u001b[0;34m\"good bye\"\u001b[0m\u001b[0;34m)\u001b[0m\u001b[0;34m\u001b[0m\u001b[0;34m\u001b[0m\u001b[0m\n",
      "\u001b[0;31mAssertionError\u001b[0m: "
     ]
    }
   ],
   "source": [
    "mem_func = functools.lru_cache(maxsize=None)(hello)\n",
    "\n",
    "mem_func()"
   ]
  },
  {
   "cell_type": "markdown",
   "metadata": {},
   "source": [
    "## Joblib cache"
   ]
  },
  {
   "cell_type": "code",
   "execution_count": 194,
   "metadata": {
    "ExecuteTime": {
     "end_time": "2020-09-03T20:31:40.759307Z",
     "start_time": "2020-09-03T20:31:40.754741Z"
    }
   },
   "outputs": [
    {
     "name": "stderr",
     "output_type": "stream",
     "text": [
      "WARNING:root:[Memory(location=./joblib.cache/joblib)]: Flushing completely the cache\n"
     ]
    }
   ],
   "source": [
    "import joblib\n",
    "\n",
    "disk_cache = joblib.Memory(\"./joblib.cache\", verbose=0, compress=1)\n",
    "disk_cache.clear()"
   ]
  },
  {
   "cell_type": "code",
   "execution_count": 195,
   "metadata": {
    "ExecuteTime": {
     "end_time": "2020-09-03T20:31:41.882382Z",
     "start_time": "2020-09-03T20:31:41.878230Z"
    }
   },
   "outputs": [
    {
     "name": "stdout",
     "output_type": "stream",
     "text": [
      "140612475429520\n",
      "140612476055120\n"
     ]
    }
   ],
   "source": [
    "def hello():\n",
    "    print(\"hello\")\n",
    "print(id(hello))\n",
    "    \n",
    "cached_hello = disk_cache.cache(hello)\n",
    "    \n",
    "print(id(cached_hello))"
   ]
  },
  {
   "cell_type": "code",
   "execution_count": 196,
   "metadata": {
    "ExecuteTime": {
     "end_time": "2020-09-03T20:31:43.940477Z",
     "start_time": "2020-09-03T20:31:43.935328Z"
    }
   },
   "outputs": [
    {
     "name": "stdout",
     "output_type": "stream",
     "text": [
      "hello\n"
     ]
    }
   ],
   "source": [
    "cached_hello()"
   ]
  },
  {
   "cell_type": "code",
   "execution_count": 197,
   "metadata": {
    "ExecuteTime": {
     "end_time": "2020-09-03T20:31:45.133073Z",
     "start_time": "2020-09-03T20:31:45.129772Z"
    }
   },
   "outputs": [],
   "source": [
    "cached_hello()"
   ]
  },
  {
   "cell_type": "code",
   "execution_count": 198,
   "metadata": {
    "ExecuteTime": {
     "end_time": "2020-09-03T20:31:46.162136Z",
     "start_time": "2020-09-03T20:31:46.159896Z"
    }
   },
   "outputs": [],
   "source": [
    "def hello():\n",
    "    print(\"hello\")"
   ]
  },
  {
   "cell_type": "code",
   "execution_count": 199,
   "metadata": {
    "ExecuteTime": {
     "end_time": "2020-09-03T20:31:46.978101Z",
     "start_time": "2020-09-03T20:31:46.975075Z"
    }
   },
   "outputs": [],
   "source": [
    "cached_hello()"
   ]
  },
  {
   "cell_type": "code",
   "execution_count": 200,
   "metadata": {
    "ExecuteTime": {
     "end_time": "2020-09-03T20:31:47.735328Z",
     "start_time": "2020-09-03T20:31:47.732198Z"
    }
   },
   "outputs": [],
   "source": [
    "def hello():\n",
    "    print(\"good bye\")\n",
    "   \n",
    "cached_hello = disk_cache.cache(hello)"
   ]
  },
  {
   "cell_type": "code",
   "execution_count": 201,
   "metadata": {
    "ExecuteTime": {
     "end_time": "2020-09-03T20:31:48.958498Z",
     "start_time": "2020-09-03T20:31:48.952028Z"
    }
   },
   "outputs": [
    {
     "name": "stdout",
     "output_type": "stream",
     "text": [
      "good bye\n"
     ]
    }
   ],
   "source": [
    "cached_hello()"
   ]
  },
  {
   "cell_type": "code",
   "execution_count": 202,
   "metadata": {
    "ExecuteTime": {
     "end_time": "2020-09-03T20:31:50.071663Z",
     "start_time": "2020-09-03T20:31:50.067444Z"
    }
   },
   "outputs": [],
   "source": [
    "def hello():\n",
    "    print(\"good bye\")\n",
    "   \n",
    "cached_hello = disk_cache.cache(hello)\n",
    "\n",
    "cached_hello()"
   ]
  },
  {
   "cell_type": "markdown",
   "metadata": {
    "pycharm": {
     "name": "#%% md\n"
    }
   },
   "source": [
    "## Memory cache"
   ]
  },
  {
   "cell_type": "code",
   "execution_count": 61,
   "metadata": {
    "ExecuteTime": {
     "end_time": "2020-09-03T19:56:50.273520Z",
     "start_time": "2020-09-03T19:56:50.270376Z"
    }
   },
   "outputs": [],
   "source": [
    "def computation_function(a, b):\n",
    "    out = a + b\n",
    "    print(\"Sum: %s + %s = %s\" % (a, b, out))\n",
    "    return out\n",
    "\n",
    "\n",
    "inputs = (1, 2)\n",
    "exp_output = 3"
   ]
  },
  {
   "cell_type": "code",
   "execution_count": 62,
   "metadata": {
    "ExecuteTime": {
     "end_time": "2020-09-03T19:56:51.949802Z",
     "start_time": "2020-09-03T19:56:51.944498Z"
    },
    "pycharm": {
     "name": "#%%\n"
    }
   },
   "outputs": [
    {
     "name": "stderr",
     "output_type": "stream",
     "text": [
      "Skipping disk cache\n"
     ]
    },
    {
     "name": "stdout",
     "output_type": "stream",
     "text": [
      "Sum: 1 + 2 = 3\n",
      "memory caching checks passed\n"
     ]
    }
   ],
   "source": [
    "memory_cached_computation = hcac.Cached(computation_function, use_mem_cache=True, use_disk_cache=False)\n",
    "\n",
    "dbg.dassert_eq(memory_cached_computation(*inputs), exp_output)\n",
    "dbg.dassert_eq(memory_cached_computation.get_last_cache_accessed(), \"no_cache\")\n",
    "\n",
    "dbg.dassert_eq(memory_cached_computation(*inputs), exp_output)\n",
    "dbg.dassert_eq(memory_cached_computation.get_last_cache_accessed(), \"mem\")\n",
    "\n",
    "print(\"memory caching checks passed\")"
   ]
  },
  {
   "cell_type": "code",
   "execution_count": 63,
   "metadata": {
    "ExecuteTime": {
     "end_time": "2020-09-03T19:56:58.620662Z",
     "start_time": "2020-09-03T19:56:58.610337Z"
    }
   },
   "outputs": [
    {
     "ename": "AssertionError",
     "evalue": "\n################################################################################\n* Failed assertion *\n'3'\n==\n'2'\n################################################################################\n",
     "output_type": "error",
     "traceback": [
      "\u001b[0;31m---------------------------------------------------------------------------\u001b[0m",
      "\u001b[0;31mAssertionError\u001b[0m                            Traceback (most recent call last)",
      "\u001b[0;32m<ipython-input-63-308b346cb0a1>\u001b[0m in \u001b[0;36m<module>\u001b[0;34m\u001b[0m\n\u001b[1;32m     10\u001b[0m \u001b[0mexp_output\u001b[0m \u001b[0;34m=\u001b[0m \u001b[0;36m2\u001b[0m\u001b[0;34m\u001b[0m\u001b[0;34m\u001b[0m\u001b[0m\n\u001b[1;32m     11\u001b[0m \u001b[0;34m\u001b[0m\u001b[0m\n\u001b[0;32m---> 12\u001b[0;31m \u001b[0mdbg\u001b[0m\u001b[0;34m.\u001b[0m\u001b[0mdassert_eq\u001b[0m\u001b[0;34m(\u001b[0m\u001b[0mmemory_cached_computation\u001b[0m\u001b[0;34m(\u001b[0m\u001b[0;34m*\u001b[0m\u001b[0minputs\u001b[0m\u001b[0;34m)\u001b[0m\u001b[0;34m,\u001b[0m \u001b[0mexp_output\u001b[0m\u001b[0;34m)\u001b[0m\u001b[0;34m\u001b[0m\u001b[0;34m\u001b[0m\u001b[0m\n\u001b[0m\u001b[1;32m     13\u001b[0m \u001b[0mprint\u001b[0m\u001b[0;34m(\u001b[0m\u001b[0mmemory_cached_computation\u001b[0m\u001b[0;34m.\u001b[0m\u001b[0mget_last_cache_accessed\u001b[0m\u001b[0;34m(\u001b[0m\u001b[0;34m)\u001b[0m\u001b[0;34m)\u001b[0m\u001b[0;34m\u001b[0m\u001b[0;34m\u001b[0m\u001b[0m\n\u001b[1;32m     14\u001b[0m \u001b[0mdbg\u001b[0m\u001b[0;34m.\u001b[0m\u001b[0mdassert_eq\u001b[0m\u001b[0;34m(\u001b[0m\u001b[0mmemory_cached_computation\u001b[0m\u001b[0;34m.\u001b[0m\u001b[0mget_last_cache_accessed\u001b[0m\u001b[0;34m(\u001b[0m\u001b[0;34m)\u001b[0m\u001b[0;34m,\u001b[0m \u001b[0;34m\"mem\"\u001b[0m\u001b[0;34m)\u001b[0m\u001b[0;34m\u001b[0m\u001b[0;34m\u001b[0m\u001b[0m\n",
      "\u001b[0;32m~/src/commodity_research3/amp/helpers/dbg.py\u001b[0m in \u001b[0;36mdassert_eq\u001b[0;34m(val1, val2, msg, *args)\u001b[0m\n\u001b[1;32m    109\u001b[0m     \u001b[0;32mif\u001b[0m \u001b[0;32mnot\u001b[0m \u001b[0mval1\u001b[0m \u001b[0;34m==\u001b[0m \u001b[0mval2\u001b[0m\u001b[0;34m:\u001b[0m\u001b[0;34m\u001b[0m\u001b[0;34m\u001b[0m\u001b[0m\n\u001b[1;32m    110\u001b[0m         \u001b[0mtxt\u001b[0m \u001b[0;34m=\u001b[0m \u001b[0;34m\"'%s'\\n==\\n'%s'\"\u001b[0m \u001b[0;34m%\u001b[0m \u001b[0;34m(\u001b[0m\u001b[0mval1\u001b[0m\u001b[0;34m,\u001b[0m \u001b[0mval2\u001b[0m\u001b[0;34m)\u001b[0m\u001b[0;34m\u001b[0m\u001b[0;34m\u001b[0m\u001b[0m\n\u001b[0;32m--> 111\u001b[0;31m         \u001b[0m_dfatal\u001b[0m\u001b[0;34m(\u001b[0m\u001b[0mtxt\u001b[0m\u001b[0;34m,\u001b[0m \u001b[0mmsg\u001b[0m\u001b[0;34m,\u001b[0m \u001b[0;34m*\u001b[0m\u001b[0margs\u001b[0m\u001b[0;34m)\u001b[0m\u001b[0;34m\u001b[0m\u001b[0;34m\u001b[0m\u001b[0m\n\u001b[0m\u001b[1;32m    112\u001b[0m \u001b[0;34m\u001b[0m\u001b[0m\n\u001b[1;32m    113\u001b[0m \u001b[0;34m\u001b[0m\u001b[0m\n",
      "\u001b[0;32m~/src/commodity_research3/amp/helpers/dbg.py\u001b[0m in \u001b[0;36m_dfatal\u001b[0;34m(txt, msg, *args)\u001b[0m\n\u001b[1;32m     95\u001b[0m             \u001b[0mdfatal_txt\u001b[0m \u001b[0;34m+=\u001b[0m \u001b[0;34m\"\\n\"\u001b[0m\u001b[0;34m\u001b[0m\u001b[0;34m\u001b[0m\u001b[0m\n\u001b[1;32m     96\u001b[0m         \u001b[0mdfatal_txt\u001b[0m \u001b[0;34m+=\u001b[0m \u001b[0mmsg\u001b[0m\u001b[0;34m\u001b[0m\u001b[0;34m\u001b[0m\u001b[0m\n\u001b[0;32m---> 97\u001b[0;31m     \u001b[0mdfatal\u001b[0m\u001b[0;34m(\u001b[0m\u001b[0mdfatal_txt\u001b[0m\u001b[0;34m)\u001b[0m\u001b[0;34m\u001b[0m\u001b[0;34m\u001b[0m\u001b[0m\n\u001b[0m\u001b[1;32m     98\u001b[0m \u001b[0;34m\u001b[0m\u001b[0m\n\u001b[1;32m     99\u001b[0m \u001b[0;34m\u001b[0m\u001b[0m\n",
      "\u001b[0;32m~/src/commodity_research3/amp/helpers/dbg.py\u001b[0m in \u001b[0;36mdfatal\u001b[0;34m(message, assertion_type)\u001b[0m\n\u001b[1;32m     46\u001b[0m     \u001b[0;32mif\u001b[0m \u001b[0massertion_type\u001b[0m \u001b[0;32mis\u001b[0m \u001b[0;32mNone\u001b[0m\u001b[0;34m:\u001b[0m\u001b[0;34m\u001b[0m\u001b[0;34m\u001b[0m\u001b[0m\n\u001b[1;32m     47\u001b[0m         \u001b[0massertion_type\u001b[0m \u001b[0;34m=\u001b[0m \u001b[0mAssertionError\u001b[0m\u001b[0;34m\u001b[0m\u001b[0;34m\u001b[0m\u001b[0m\n\u001b[0;32m---> 48\u001b[0;31m     \u001b[0;32mraise\u001b[0m \u001b[0massertion_type\u001b[0m\u001b[0;34m(\u001b[0m\u001b[0mret\u001b[0m\u001b[0;34m)\u001b[0m\u001b[0;34m\u001b[0m\u001b[0;34m\u001b[0m\u001b[0m\n\u001b[0m\u001b[1;32m     49\u001b[0m \u001b[0;34m\u001b[0m\u001b[0m\n\u001b[1;32m     50\u001b[0m \u001b[0;34m\u001b[0m\u001b[0m\n",
      "\u001b[0;31mAssertionError\u001b[0m: \n################################################################################\n* Failed assertion *\n'3'\n==\n'2'\n################################################################################\n"
     ]
    }
   ],
   "source": [
    "def computation_function(a, b):\n",
    "    # hello\n",
    "    #assert 0\n",
    "    out = a * b\n",
    "    print(\"Multiplication: %s * %s = %s\" % (a, b, out))\n",
    "    return out\n",
    "\n",
    "\n",
    "inputs = (1, 2)\n",
    "exp_output = 2\n",
    "\n",
    "dbg.dassert_eq(memory_cached_computation(*inputs), exp_output)\n",
    "print(memory_cached_computation.get_last_cache_accessed())\n",
    "dbg.dassert_eq(memory_cached_computation.get_last_cache_accessed(), \"mem\")"
   ]
  },
  {
   "cell_type": "code",
   "execution_count": 17,
   "metadata": {
    "ExecuteTime": {
     "end_time": "2020-09-03T19:41:37.286423Z",
     "start_time": "2020-09-03T19:41:37.279055Z"
    }
   },
   "outputs": [
    {
     "ename": "AttributeError",
     "evalue": "'function' object has no attribute 'co_filename'",
     "output_type": "error",
     "traceback": [
      "\u001b[0;31m---------------------------------------------------------------------------\u001b[0m",
      "\u001b[0;31mAttributeError\u001b[0m                            Traceback (most recent call last)",
      "\u001b[0;32m<ipython-input-17-637a4323c8b1>\u001b[0m in \u001b[0;36m<module>\u001b[0;34m\u001b[0m\n\u001b[1;32m      1\u001b[0m \u001b[0mmemory_cached_computation\u001b[0m\u001b[0;34m.\u001b[0m\u001b[0m_func\u001b[0m\u001b[0;34m.\u001b[0m\u001b[0m__code__\u001b[0m\u001b[0;34m\u001b[0m\u001b[0;34m\u001b[0m\u001b[0m\n\u001b[0;32m----> 2\u001b[0;31m \u001b[0mmemory_cached_computation\u001b[0m\u001b[0;34m.\u001b[0m\u001b[0m_func\u001b[0m\u001b[0;34m.\u001b[0m\u001b[0mco_filename\u001b[0m\u001b[0;34m\u001b[0m\u001b[0;34m\u001b[0m\u001b[0m\n\u001b[0m",
      "\u001b[0;31mAttributeError\u001b[0m: 'function' object has no attribute 'co_filename'"
     ]
    }
   ],
   "source": [
    "memory_cached_computation._func.__code__\n",
    "memory_cached_computation._func.co_filename\n"
   ]
  },
  {
   "cell_type": "code",
   "execution_count": 18,
   "metadata": {
    "ExecuteTime": {
     "end_time": "2020-09-03T19:41:53.918796Z",
     "start_time": "2020-09-03T19:41:53.915917Z"
    }
   },
   "outputs": [
    {
     "data": {
      "text/plain": [
       "<code object computation_function at 0x7fe2e1e5adb0, file \"<ipython-input-3-9007637ed568>\", line 1>"
      ]
     },
     "execution_count": 18,
     "metadata": {},
     "output_type": "execute_result"
    }
   ],
   "source": [
    "computation_function.__code__"
   ]
  },
  {
   "cell_type": "markdown",
   "metadata": {},
   "source": [
    "## Disk cache"
   ]
  },
  {
   "cell_type": "code",
   "execution_count": 30,
   "metadata": {
    "ExecuteTime": {
     "end_time": "2020-09-03T19:45:20.999548Z",
     "start_time": "2020-09-03T19:45:20.987298Z"
    },
    "pycharm": {
     "name": "#%%\n"
    }
   },
   "outputs": [
    {
     "name": "stderr",
     "output_type": "stream",
     "text": [
      "computation_function: clearing disk cache\n",
      "Skipping memory cache\n",
      "Skipping memory cache\n"
     ]
    },
    {
     "name": "stdout",
     "output_type": "stream",
     "text": [
      "Multiplication: 1 * 2 = 2\n",
      "disk caching checks passed\n"
     ]
    }
   ],
   "source": [
    "disk_cached_computation = hcac.Cached(computation_function, use_mem_cache=False, use_disk_cache=True)\n",
    "\n",
    "disk_cached_computation.clear_disk_cache()\n",
    "\n",
    "dbg.dassert_eq(disk_cached_computation(*inputs), exp_output)\n",
    "dbg.dassert_eq(disk_cached_computation.get_last_cache_accessed(), \"no_cache\")\n",
    "\n",
    "dbg.dassert_eq(disk_cached_computation(*inputs), exp_output)\n",
    "dbg.dassert_eq(disk_cached_computation.get_last_cache_accessed(), \"disk\")\n",
    "\n",
    "print(\"disk caching checks passed\")"
   ]
  },
  {
   "cell_type": "code",
   "execution_count": 50,
   "metadata": {
    "ExecuteTime": {
     "end_time": "2020-09-03T19:48:28.741869Z",
     "start_time": "2020-09-03T19:48:28.735848Z"
    }
   },
   "outputs": [
    {
     "name": "stderr",
     "output_type": "stream",
     "text": [
      "Skipping memory cache\n"
     ]
    },
    {
     "name": "stdout",
     "output_type": "stream",
     "text": [
      "<function Cached.__init__.<locals>._execute_func_from_disk_cache at 0x7fe2e2f91710>\n",
      "        @self._disk_cache.cache\n",
      "        def _execute_func_from_disk_cache(*args: Any, **kwargs: Any) -> Any:\n",
      "            # If we get here, we didn't hit neither memory nor the disk cache.\n",
      "            self._last_used_disk_cache = False\n",
      "            _LOG.debug(\n",
      "                \"%s(args=%s kwargs=%s): execute the intrinsic function\",\n",
      "                self._func.__name__,\n",
      "                args,\n",
      "                kwargs,\n",
      "            )\n",
      "            obj = self._func(*args, **kwargs)\n",
      "            return obj\n",
      "\n"
     ]
    }
   ],
   "source": [
    "print(disk_cached_computation._execute_func_from_disk_cache.func)\n",
    "\n",
    "from joblib.func_inspect import get_func_code, get_func_name, filter_args\n",
    "      \n",
    "print(get_func_code(disk_cached_computation._execute_func_from_disk_cache.func)[0])\n",
    "dbg.dassert_eq(disk_cached_computation(*inputs), exp_output)\n",
    "dbg.dassert_eq(disk_cached_computation.get_last_cache_accessed(), \"disk\")"
   ]
  },
  {
   "cell_type": "markdown",
   "metadata": {},
   "source": [
    "## Full cache"
   ]
  },
  {
   "cell_type": "code",
   "execution_count": 6,
   "metadata": {
    "ExecuteTime": {
     "end_time": "2020-09-03T19:34:54.851944Z",
     "start_time": "2020-09-03T19:34:54.839379Z"
    },
    "pycharm": {
     "name": "#%%\n"
    }
   },
   "outputs": [
    {
     "name": "stderr",
     "output_type": "stream",
     "text": [
      "computation_function: clearing disk cache\n",
      "computation_function: clearing memory cache\n"
     ]
    },
    {
     "name": "stdout",
     "output_type": "stream",
     "text": [
      "Multiplication: 1 * 2 = 2\n",
      "Clear mem cache\n",
      "full caching checks passed\n"
     ]
    }
   ],
   "source": [
    "fully_cached_computation = hcac.Cached(computation_function, use_mem_cache=True, use_disk_cache=True)\n",
    "\n",
    "fully_cached_computation.clear_disk_cache()\n",
    "\n",
    "dbg.dassert_eq(fully_cached_computation(*inputs), exp_output)\n",
    "dbg.dassert_eq(fully_cached_computation.get_last_cache_accessed(), \"no_cache\")\n",
    "\n",
    "dbg.dassert_eq(fully_cached_computation(*inputs), exp_output)\n",
    "dbg.dassert_eq(fully_cached_computation.get_last_cache_accessed(), \"mem\")\n",
    "\n",
    "dbg.dassert_eq(fully_cached_computation(*inputs), exp_output)\n",
    "dbg.dassert_eq(fully_cached_computation.get_last_cache_accessed(), \"mem\")\n",
    "\n",
    "print(\"Clear mem cache\")\n",
    "fully_cached_computation.clear_memory_cache()\n",
    "\n",
    "dbg.dassert_eq(fully_cached_computation(*inputs), exp_output)\n",
    "dbg.dassert_eq(fully_cached_computation.get_last_cache_accessed(), \"disk\")\n",
    "\n",
    "dbg.dassert_eq(fully_cached_computation(*inputs), exp_output)\n",
    "dbg.dassert_eq(fully_cached_computation.get_last_cache_accessed(), \"mem\")\n",
    "\n",
    "print(\"full caching checks passed\")"
   ]
  },
  {
   "cell_type": "code",
   "execution_count": 7,
   "metadata": {
    "ExecuteTime": {
     "end_time": "2020-09-03T19:34:54.856369Z",
     "start_time": "2020-09-03T19:34:54.853563Z"
    }
   },
   "outputs": [],
   "source": [
    "dbg.dassert_eq(fully_cached_computation(*inputs), exp_output)\n",
    "dbg.dassert_eq(fully_cached_computation.get_last_cache_accessed(), \"mem\")"
   ]
  },
  {
   "cell_type": "code",
   "execution_count": 8,
   "metadata": {
    "ExecuteTime": {
     "end_time": "2020-09-03T19:34:54.995926Z",
     "start_time": "2020-09-03T19:34:54.859279Z"
    }
   },
   "outputs": [
    {
     "name": "stderr",
     "output_type": "stream",
     "text": [
      "computation_function: clearing memory cache\n"
     ]
    },
    {
     "ename": "AssertionError",
     "evalue": "\n################################################################################\n* Failed assertion *\n'disk'\n==\n'mem'\n################################################################################\n",
     "output_type": "error",
     "traceback": [
      "\u001b[0;31m---------------------------------------------------------------------------\u001b[0m",
      "\u001b[0;31mAssertionError\u001b[0m                            Traceback (most recent call last)",
      "\u001b[0;32m<ipython-input-8-46d31685dcc7>\u001b[0m in \u001b[0;36m<module>\u001b[0;34m\u001b[0m\n\u001b[1;32m      2\u001b[0m \u001b[0mfully_cached_computation\u001b[0m\u001b[0;34m.\u001b[0m\u001b[0mclear_memory_cache\u001b[0m\u001b[0;34m(\u001b[0m\u001b[0;34m)\u001b[0m\u001b[0;34m\u001b[0m\u001b[0;34m\u001b[0m\u001b[0m\n\u001b[1;32m      3\u001b[0m \u001b[0mdbg\u001b[0m\u001b[0;34m.\u001b[0m\u001b[0mdassert_eq\u001b[0m\u001b[0;34m(\u001b[0m\u001b[0mfully_cached_computation\u001b[0m\u001b[0;34m(\u001b[0m\u001b[0;34m*\u001b[0m\u001b[0minputs\u001b[0m\u001b[0;34m)\u001b[0m\u001b[0;34m,\u001b[0m \u001b[0mexp_output\u001b[0m\u001b[0;34m)\u001b[0m\u001b[0;34m\u001b[0m\u001b[0;34m\u001b[0m\u001b[0m\n\u001b[0;32m----> 4\u001b[0;31m \u001b[0mdbg\u001b[0m\u001b[0;34m.\u001b[0m\u001b[0mdassert_eq\u001b[0m\u001b[0;34m(\u001b[0m\u001b[0mfully_cached_computation\u001b[0m\u001b[0;34m.\u001b[0m\u001b[0mget_last_cache_accessed\u001b[0m\u001b[0;34m(\u001b[0m\u001b[0;34m)\u001b[0m\u001b[0;34m,\u001b[0m \u001b[0;34m\"mem\"\u001b[0m\u001b[0;34m)\u001b[0m\u001b[0;34m\u001b[0m\u001b[0;34m\u001b[0m\u001b[0m\n\u001b[0m",
      "\u001b[0;32m~/src/commodity_research3/amp/helpers/dbg.py\u001b[0m in \u001b[0;36mdassert_eq\u001b[0;34m(val1, val2, msg, *args)\u001b[0m\n\u001b[1;32m    109\u001b[0m     \u001b[0;32mif\u001b[0m \u001b[0;32mnot\u001b[0m \u001b[0mval1\u001b[0m \u001b[0;34m==\u001b[0m \u001b[0mval2\u001b[0m\u001b[0;34m:\u001b[0m\u001b[0;34m\u001b[0m\u001b[0;34m\u001b[0m\u001b[0m\n\u001b[1;32m    110\u001b[0m         \u001b[0mtxt\u001b[0m \u001b[0;34m=\u001b[0m \u001b[0;34m\"'%s'\\n==\\n'%s'\"\u001b[0m \u001b[0;34m%\u001b[0m \u001b[0;34m(\u001b[0m\u001b[0mval1\u001b[0m\u001b[0;34m,\u001b[0m \u001b[0mval2\u001b[0m\u001b[0;34m)\u001b[0m\u001b[0;34m\u001b[0m\u001b[0;34m\u001b[0m\u001b[0m\n\u001b[0;32m--> 111\u001b[0;31m         \u001b[0m_dfatal\u001b[0m\u001b[0;34m(\u001b[0m\u001b[0mtxt\u001b[0m\u001b[0;34m,\u001b[0m \u001b[0mmsg\u001b[0m\u001b[0;34m,\u001b[0m \u001b[0;34m*\u001b[0m\u001b[0margs\u001b[0m\u001b[0;34m)\u001b[0m\u001b[0;34m\u001b[0m\u001b[0;34m\u001b[0m\u001b[0m\n\u001b[0m\u001b[1;32m    112\u001b[0m \u001b[0;34m\u001b[0m\u001b[0m\n\u001b[1;32m    113\u001b[0m \u001b[0;34m\u001b[0m\u001b[0m\n",
      "\u001b[0;32m~/src/commodity_research3/amp/helpers/dbg.py\u001b[0m in \u001b[0;36m_dfatal\u001b[0;34m(txt, msg, *args)\u001b[0m\n\u001b[1;32m     95\u001b[0m             \u001b[0mdfatal_txt\u001b[0m \u001b[0;34m+=\u001b[0m \u001b[0;34m\"\\n\"\u001b[0m\u001b[0;34m\u001b[0m\u001b[0;34m\u001b[0m\u001b[0m\n\u001b[1;32m     96\u001b[0m         \u001b[0mdfatal_txt\u001b[0m \u001b[0;34m+=\u001b[0m \u001b[0mmsg\u001b[0m\u001b[0;34m\u001b[0m\u001b[0;34m\u001b[0m\u001b[0m\n\u001b[0;32m---> 97\u001b[0;31m     \u001b[0mdfatal\u001b[0m\u001b[0;34m(\u001b[0m\u001b[0mdfatal_txt\u001b[0m\u001b[0;34m)\u001b[0m\u001b[0;34m\u001b[0m\u001b[0;34m\u001b[0m\u001b[0m\n\u001b[0m\u001b[1;32m     98\u001b[0m \u001b[0;34m\u001b[0m\u001b[0m\n\u001b[1;32m     99\u001b[0m \u001b[0;34m\u001b[0m\u001b[0m\n",
      "\u001b[0;32m~/src/commodity_research3/amp/helpers/dbg.py\u001b[0m in \u001b[0;36mdfatal\u001b[0;34m(message, assertion_type)\u001b[0m\n\u001b[1;32m     46\u001b[0m     \u001b[0;32mif\u001b[0m \u001b[0massertion_type\u001b[0m \u001b[0;32mis\u001b[0m \u001b[0;32mNone\u001b[0m\u001b[0;34m:\u001b[0m\u001b[0;34m\u001b[0m\u001b[0;34m\u001b[0m\u001b[0m\n\u001b[1;32m     47\u001b[0m         \u001b[0massertion_type\u001b[0m \u001b[0;34m=\u001b[0m \u001b[0mAssertionError\u001b[0m\u001b[0;34m\u001b[0m\u001b[0;34m\u001b[0m\u001b[0m\n\u001b[0;32m---> 48\u001b[0;31m     \u001b[0;32mraise\u001b[0m \u001b[0massertion_type\u001b[0m\u001b[0;34m(\u001b[0m\u001b[0mret\u001b[0m\u001b[0;34m)\u001b[0m\u001b[0;34m\u001b[0m\u001b[0;34m\u001b[0m\u001b[0m\n\u001b[0m\u001b[1;32m     49\u001b[0m \u001b[0;34m\u001b[0m\u001b[0m\n\u001b[1;32m     50\u001b[0m \u001b[0;34m\u001b[0m\u001b[0m\n",
      "\u001b[0;31mAssertionError\u001b[0m: \n################################################################################\n* Failed assertion *\n'disk'\n==\n'mem'\n################################################################################\n"
     ]
    }
   ],
   "source": [
    "# This should fail all the times, because we clear the memory cache.\n",
    "fully_cached_computation.clear_memory_cache()\n",
    "dbg.dassert_eq(fully_cached_computation(*inputs), exp_output)\n",
    "dbg.dassert_eq(fully_cached_computation.get_last_cache_accessed(), \"mem\")"
   ]
  }
 ],
 "metadata": {
  "jupytext": {
   "formats": "ipynb,py:percent"
  },
  "kernelspec": {
   "display_name": "Python 3",
   "language": "python",
   "name": "python3"
  },
  "language_info": {
   "codemirror_mode": {
    "name": "ipython",
    "version": 3
   },
   "file_extension": ".py",
   "mimetype": "text/x-python",
   "name": "python",
   "nbconvert_exporter": "python",
   "pygments_lexer": "ipython3",
   "version": "3.7.6"
  },
  "toc": {
   "base_numbering": 1,
   "nav_menu": {},
   "number_sections": true,
   "sideBar": true,
   "skip_h1_title": false,
   "title_cell": "Table of Contents",
   "title_sidebar": "Contents",
   "toc_cell": false,
   "toc_position": {},
   "toc_section_display": true,
   "toc_window_display": true
  }
 },
 "nbformat": 4,
 "nbformat_minor": 1
}
