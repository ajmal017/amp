{
 "cells": [
  {
   "cell_type": "markdown",
   "metadata": {
    "pycharm": {
     "name": "#%% md\n"
    }
   },
   "source": [
    "# Test Cache in Jupyter Notebook"
   ]
  },
  {
   "cell_type": "code",
   "execution_count": 1,
   "metadata": {
    "ExecuteTime": {
     "end_time": "2021-08-16T16:23:59.696680Z",
     "start_time": "2021-08-16T16:23:58.792511Z"
    }
   },
   "outputs": [
    {
     "name": "stdout",
     "output_type": "stream",
     "text": [
      "\u001b[33mWARNING\u001b[0m: Disabling annoying warnings\n",
      "\u001b[0m\u001b[36mINFO\u001b[0m: > cmd='/venv/lib/python3.8/site-packages/ipykernel_launcher.py -f /root/.local/share/jupyter/runtime/kernel-89e1d81f-7cff-47ee-9790-af936835f517.json'\n",
      "\u001b[33mWARNING\u001b[0m: Running in Jupyter\n"
     ]
    }
   ],
   "source": [
    "%load_ext autoreload\n",
    "%autoreload 2\n",
    "\n",
    "import logging\n",
    "\n",
    "import helpers.cache as hcac\n",
    "import helpers.dbg as dbg\n",
    "import helpers.printing as prnt\n",
    "\n",
    "prnt.config_notebook()\n",
    "\n",
    "# dbg.init_logger(verbosity=logging.DEBUG)\n",
    "dbg.init_logger(verbosity=logging.INFO)\n",
    "# dbg.test_logger()\n",
    "_LOG = logging.getLogger(__name__)"
   ]
  },
  {
   "cell_type": "markdown",
   "metadata": {
    "pycharm": {
     "name": "#%% md\n"
    }
   },
   "source": [
    "# Define computation function"
   ]
  },
  {
   "cell_type": "code",
   "execution_count": null,
   "metadata": {
    "ExecuteTime": {
     "end_time": "2021-08-15T12:07:59.739169Z",
     "start_time": "2021-08-15T12:07:59.714831Z"
    }
   },
   "outputs": [],
   "source": [
    "def func(a, b):\n",
    "    # hello\n",
    "    # assert 0\n",
    "    out = a * b\n",
    "    print(\"Multiplication: %s * %s = %s\" % (a, b, out))\n",
    "    return out\n",
    "\n",
    "inputs = (1, 2)\n",
    "exp_output = 2\n",
    "\n",
    "func(*inputs)"
   ]
  },
  {
   "cell_type": "code",
   "execution_count": null,
   "metadata": {
    "ExecuteTime": {
     "end_time": "2021-08-14T23:32:30.476809Z",
     "start_time": "2021-08-14T23:32:30.202040Z"
    }
   },
   "outputs": [],
   "source": [
    "!ls hello/joblib/__main__*/f/"
   ]
  },
  {
   "cell_type": "code",
   "execution_count": null,
   "metadata": {
    "ExecuteTime": {
     "end_time": "2021-08-14T23:42:14.671491Z",
     "start_time": "2021-08-14T23:42:13.356163Z"
    }
   },
   "outputs": [],
   "source": [
    "!pip install https://github.com/aabadie/joblib-s3.git"
   ]
  },
  {
   "cell_type": "code",
   "execution_count": null,
   "metadata": {
    "ExecuteTime": {
     "end_time": "2021-08-14T23:46:59.749548Z",
     "start_time": "2021-08-14T23:46:54.455947Z"
    }
   },
   "outputs": [],
   "source": [
    "#!git clone git://github.com/aabadie/joblib-s3.git\n",
    "!(cd joblib-s3 && pip install -r requirements.txt .)"
   ]
  },
  {
   "cell_type": "code",
   "execution_count": null,
   "metadata": {
    "ExecuteTime": {
     "end_time": "2021-08-14T23:56:02.954013Z",
     "start_time": "2021-08-14T23:56:02.793451Z"
    },
    "scrolled": false
   },
   "outputs": [],
   "source": [
    "# import joblibs3\n",
    "\n",
    "# joblibs3.register_s3fs_store_backend()\n",
    "\n",
    "# # dict(compress=False, bucket=None, anon=False,\n",
    "#                                #key=None, secret=None, token=None, use_ssl=True)\n",
    "# dict2 = {\n",
    "#     \"bucket\": \"alphamatic-data\",\n",
    "#     \"key\": dict_[\"aws_access_key_id\"],\n",
    "#     \"secret\": dict_[\"aws_secret_access_key\"],\n",
    "# }\n",
    "# mem = joblib.Memory('joblib_cache', backend='s3', verbose=100, compress=True,\n",
    "#                  backend_options=dict2)"
   ]
  },
  {
   "cell_type": "code",
   "execution_count": null,
   "metadata": {
    "ExecuteTime": {
     "end_time": "2021-08-16T13:24:11.630748Z",
     "start_time": "2021-08-16T13:24:10.983061Z"
    }
   },
   "outputs": [],
   "source": [
    "import joblib\n",
    "import helpers.joblib_helpers as hjoblib\n",
    "import helpers.s3 as hs3\n",
    "\n",
    "#hjoblib.register_s3fs_store_backend()\n",
    "\n",
    "s3fs = hs3.get_s3fs(\"am\")\n",
    "\n",
    "dict2 = {\n",
    "    \"bucket\": \"alphamatic-data\",\n",
    "    #\"key\": dict_[\"aws_access_key_id\"],\n",
    "    #\"secret\": dict_[\"aws_secret_access_key\"],\n",
    "    \"s3fs\": s3fs\n",
    "}\n",
    "\n",
    "mem = joblib.Memory('joblib_cache', backend='s3', verbose=100, compress=True, backend_options=dict2)"
   ]
  },
  {
   "cell_type": "code",
   "execution_count": null,
   "metadata": {
    "ExecuteTime": {
     "end_time": "2021-08-14T23:54:50.021139Z",
     "start_time": "2021-08-14T23:54:50.017180Z"
    }
   },
   "outputs": [],
   "source": [
    "print(dict_)"
   ]
  },
  {
   "cell_type": "code",
   "execution_count": null,
   "metadata": {
    "ExecuteTime": {
     "end_time": "2021-08-14T23:51:25.440705Z",
     "start_time": "2021-08-14T23:51:25.419214Z"
    }
   },
   "outputs": [],
   "source": [
    "#dict_[\"bucket\"] = \"alphamatic-data/tmp\"\n",
    "\n",
    "print(dict_)"
   ]
  },
  {
   "cell_type": "code",
   "execution_count": null,
   "metadata": {},
   "outputs": [],
   "source": [
    "def dec(func=None, val=5):\n",
    "    if func is not None:\n",
    "        return \n",
    "    \n",
    "    "
   ]
  },
  {
   "cell_type": "code",
   "execution_count": null,
   "metadata": {
    "ExecuteTime": {
     "end_time": "2021-08-14T23:47:20.689813Z",
     "start_time": "2021-08-14T23:47:20.643570Z"
    }
   },
   "outputs": [],
   "source": [
    "from joblibs3 import register_s3_store_backend"
   ]
  },
  {
   "cell_type": "code",
   "execution_count": null,
   "metadata": {
    "ExecuteTime": {
     "end_time": "2021-08-14T23:53:08.985727Z",
     "start_time": "2021-08-14T23:53:08.795065Z"
    }
   },
   "outputs": [],
   "source": [
    "import helpers.s3 as hs3\n",
    "\n",
    "dict_ = hs3.get_aws_credentials(\"am\")\n",
    "print(dict_)\n",
    "#s3fs = hs3.get_s3fs(\"am\")\n",
    "#s3fs.ls(\"s3://alphamatic-data/tmp\")"
   ]
  },
  {
   "cell_type": "code",
   "execution_count": null,
   "metadata": {
    "ExecuteTime": {
     "end_time": "2021-08-16T13:25:34.841885Z",
     "start_time": "2021-08-16T13:25:34.820510Z"
    }
   },
   "outputs": [],
   "source": [
    "s3fs.clear_instance_cache()"
   ]
  },
  {
   "cell_type": "code",
   "execution_count": null,
   "metadata": {
    "ExecuteTime": {
     "end_time": "2021-08-16T16:23:17.621301Z",
     "start_time": "2021-08-16T16:23:16.722753Z"
    }
   },
   "outputs": [],
   "source": [
    "#import joblib\n",
    "\n",
    "#cachedir = \"./hello\"\n",
    "#memory = joblib.Memory(cachedir, verbose=0)\n",
    "\n",
    "@mem.cache()\n",
    "def f(x):\n",
    "    # hello\n",
    "    print('Running f(%s)' % x)\n",
    "    return x\n",
    "\n",
    "f(1)"
   ]
  },
  {
   "cell_type": "code",
   "execution_count": 12,
   "metadata": {
    "ExecuteTime": {
     "end_time": "2021-08-16T16:26:31.661915Z",
     "start_time": "2021-08-16T16:26:31.640938Z"
    }
   },
   "outputs": [
    {
     "data": {
      "text/plain": [
       "'hello'"
      ]
     },
     "execution_count": 12,
     "metadata": {},
     "output_type": "execute_result"
    }
   ],
   "source": [
    "import helpers.cache as hcache\n",
    "\n",
    "hcache.cache(set_verbose_mode=True)\n",
    "def hello():\n",
    "    return \"hello\"\n",
    "\n",
    "hello()"
   ]
  },
  {
   "cell_type": "markdown",
   "metadata": {
    "pycharm": {
     "name": "#%% md\n"
    }
   },
   "source": [
    "## Memory cache"
   ]
  },
  {
   "cell_type": "code",
   "execution_count": null,
   "metadata": {
    "ExecuteTime": {
     "end_time": "2021-08-14T22:19:51.526004Z",
     "start_time": "2021-08-14T22:19:51.259763Z"
    }
   },
   "outputs": [],
   "source": [
    "!ls /app/tmp.cache.disk/joblib/"
   ]
  },
  {
   "cell_type": "code",
   "execution_count": null,
   "metadata": {
    "ExecuteTime": {
     "end_time": "2021-08-14T22:19:25.253342Z",
     "start_time": "2021-08-14T22:19:24.986513Z"
    }
   },
   "outputs": [],
   "source": [
    "!ls /mnt/tmpfs/tmp.cache.mem/joblib/lib"
   ]
  },
  {
   "cell_type": "code",
   "execution_count": null,
   "metadata": {
    "ExecuteTime": {
     "end_time": "2021-08-14T23:21:32.636049Z",
     "start_time": "2021-08-14T23:21:32.479710Z"
    },
    "pycharm": {
     "name": "#%%\n"
    }
   },
   "outputs": [],
   "source": [
    "memory_cached_func = hcac.Cached(\n",
    "    func, use_mem_cache=True, use_disk_cache=False\n",
    ")\n",
    "\n",
    "print(memory_cached_func.get_info())\n",
    "\n",
    "#cache_type = None\n",
    "#memory_cached_func.clear_cache(cache_type)\n",
    "\n",
    "dbg.dassert_eq(memory_cached_func(*inputs), exp_output)\n",
    "dbg.dassert_eq(memory_cached_func.get_last_cache_accessed(), \"no_cache\")\n",
    "\n",
    "dbg.dassert_eq(memory_cached_func(*inputs), exp_output)\n",
    "dbg.dassert_eq(memory_cached_func.get_last_cache_accessed(), \"mem\")\n",
    "\n",
    "print(\"memory caching checks passed\")"
   ]
  },
  {
   "cell_type": "code",
   "execution_count": null,
   "metadata": {
    "ExecuteTime": {
     "end_time": "2020-09-03T19:56:58.620662Z",
     "start_time": "2020-09-03T19:56:58.610337Z"
    }
   },
   "outputs": [],
   "source": [
    "def computation_function(a, b):\n",
    "    # hello\n",
    "    # assert 0\n",
    "    out = a * b\n",
    "    print(\"Multiplication: %s * %s = %s\" % (a, b, out))\n",
    "    return out\n",
    "\n",
    "\n",
    "inputs = (1, 2)\n",
    "exp_output = 2\n",
    "\n",
    "dbg.dassert_eq(memory_cached_computation(*inputs), exp_output)\n",
    "dbg.dassert_eq(memory_cached_computation.get_last_cache_accessed(), \"mem\")"
   ]
  },
  {
   "cell_type": "markdown",
   "metadata": {},
   "source": [
    "## Disk cache"
   ]
  },
  {
   "cell_type": "code",
   "execution_count": null,
   "metadata": {
    "ExecuteTime": {
     "end_time": "2020-09-03T19:45:20.999548Z",
     "start_time": "2020-09-03T19:45:20.987298Z"
    },
    "pycharm": {
     "name": "#%%\n"
    }
   },
   "outputs": [],
   "source": [
    "disk_cached_computation = hcac.Cached(\n",
    "    computation_function, use_mem_cache=False, use_disk_cache=True\n",
    ")\n",
    "\n",
    "disk_cached_computation.clear_cache(\"disk\")\n",
    "\n",
    "dbg.dassert_eq(disk_cached_computation(*inputs), exp_output)\n",
    "dbg.dassert_eq(disk_cached_computation.get_last_cache_accessed(), \"no_cache\")\n",
    "\n",
    "dbg.dassert_eq(disk_cached_computation(*inputs), exp_output)\n",
    "dbg.dassert_eq(disk_cached_computation.get_last_cache_accessed(), \"disk\")\n",
    "\n",
    "print(\"disk caching checks passed\")"
   ]
  },
  {
   "cell_type": "markdown",
   "metadata": {},
   "source": [
    "## Full cache"
   ]
  },
  {
   "cell_type": "code",
   "execution_count": null,
   "metadata": {
    "ExecuteTime": {
     "end_time": "2020-09-03T19:34:54.851944Z",
     "start_time": "2020-09-03T19:34:54.839379Z"
    },
    "pycharm": {
     "name": "#%%\n"
    }
   },
   "outputs": [],
   "source": [
    "fully_cached_computation = hcac.Cached(\n",
    "    computation_function, use_mem_cache=True, use_disk_cache=True\n",
    ")\n",
    "\n",
    "fully_cached_computation.clear_cache()\n",
    "\n",
    "dbg.dassert_eq(fully_cached_computation(*inputs), exp_output)\n",
    "dbg.dassert_eq(fully_cached_computation.get_last_cache_accessed(), \"no_cache\")\n",
    "\n",
    "dbg.dassert_eq(fully_cached_computation(*inputs), exp_output)\n",
    "dbg.dassert_eq(fully_cached_computation.get_last_cache_accessed(), \"mem\")\n",
    "\n",
    "dbg.dassert_eq(fully_cached_computation(*inputs), exp_output)\n",
    "dbg.dassert_eq(fully_cached_computation.get_last_cache_accessed(), \"mem\")\n",
    "\n",
    "print(\"Clear mem cache\")\n",
    "fully_cached_computation.clear_cache(\"mem\")\n",
    "\n",
    "dbg.dassert_eq(fully_cached_computation(*inputs), exp_output)\n",
    "dbg.dassert_eq(fully_cached_computation.get_last_cache_accessed(), \"disk\")\n",
    "\n",
    "dbg.dassert_eq(fully_cached_computation(*inputs), exp_output)\n",
    "dbg.dassert_eq(fully_cached_computation.get_last_cache_accessed(), \"mem\")\n",
    "\n",
    "print(\"full caching checks passed\")"
   ]
  },
  {
   "cell_type": "code",
   "execution_count": null,
   "metadata": {
    "ExecuteTime": {
     "end_time": "2020-09-03T19:34:54.856369Z",
     "start_time": "2020-09-03T19:34:54.853563Z"
    }
   },
   "outputs": [],
   "source": [
    "dbg.dassert_eq(fully_cached_computation(*inputs), exp_output)\n",
    "dbg.dassert_eq(fully_cached_computation.get_last_cache_accessed(), \"mem\")"
   ]
  },
  {
   "cell_type": "code",
   "execution_count": null,
   "metadata": {
    "ExecuteTime": {
     "end_time": "2020-09-03T19:34:54.995926Z",
     "start_time": "2020-09-03T19:34:54.859279Z"
    }
   },
   "outputs": [],
   "source": [
    "# This should fail all the times, because we clear the memory cache.\n",
    "fully_cached_computation.clear_cache(\"mem\")\n",
    "dbg.dassert_eq(fully_cached_computation(*inputs), exp_output)\n",
    "dbg.dassert_eq(fully_cached_computation.get_last_cache_accessed(), \"mem\")"
   ]
  }
 ],
 "metadata": {
  "jupytext": {
   "formats": "ipynb,py:percent"
  },
  "kernelspec": {
   "display_name": "Python 3",
   "language": "python",
   "name": "python3"
  },
  "language_info": {
   "codemirror_mode": {
    "name": "ipython",
    "version": 3
   },
   "file_extension": ".py",
   "mimetype": "text/x-python",
   "name": "python",
   "nbconvert_exporter": "python",
   "pygments_lexer": "ipython3",
   "version": "3.8.5"
  },
  "toc": {
   "base_numbering": 1,
   "nav_menu": {},
   "number_sections": true,
   "sideBar": true,
   "skip_h1_title": false,
   "title_cell": "Table of Contents",
   "title_sidebar": "Contents",
   "toc_cell": false,
   "toc_position": {},
   "toc_section_display": true,
   "toc_window_display": false
  }
 },
 "nbformat": 4,
 "nbformat_minor": 1
}
