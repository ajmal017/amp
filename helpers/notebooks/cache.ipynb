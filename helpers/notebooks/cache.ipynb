{
 "cells": [
  {
   "cell_type": "markdown",
   "metadata": {
    "pycharm": {
     "name": "#%% md\n"
    }
   },
   "source": [
    "# Test Cache in Jupyter Notebook"
   ]
  },
  {
   "cell_type": "code",
   "execution_count": 1,
   "metadata": {
    "ExecuteTime": {
     "end_time": "2020-09-03T19:36:41.069968Z",
     "start_time": "2020-09-03T19:36:41.067339Z"
    }
   },
   "outputs": [],
   "source": [
    "import helpers.cache as hcac"
   ]
  },
  {
   "cell_type": "code",
   "execution_count": 2,
   "metadata": {
    "ExecuteTime": {
     "end_time": "2020-09-03T19:34:54.717573Z",
     "start_time": "2020-09-03T19:34:53.957314Z"
    },
    "lines_to_next_cell": 1
   },
   "outputs": [],
   "source": [
    "import helpers.dbg as dbg"
   ]
  },
  {
   "cell_type": "markdown",
   "metadata": {
    "pycharm": {
     "name": "#%% md\n"
    }
   },
   "source": [
    "# Define computation function\n",
    "\n",
    "This function will be subjected to cache."
   ]
  },
  {
   "cell_type": "code",
   "execution_count": 3,
   "metadata": {
    "ExecuteTime": {
     "end_time": "2020-09-03T19:54:01.007259Z",
     "start_time": "2020-09-03T19:54:01.001847Z"
    }
   },
   "outputs": [
    {
     "name": "stdout",
     "output_type": "stream",
     "text": [
      "Multiplication: 1 * 2 = 2\n"
     ]
    },
    {
     "data": {
      "text/plain": "2"
     },
     "execution_count": 3,
     "metadata": {},
     "output_type": "execute_result"
    }
   ],
   "source": [
    "def computation_function(a, b):\n",
    "    # hello\n",
    "    # assert 0\n",
    "    out = a * b\n",
    "    print(\"Multiplication: %s * %s = %s\" % (a, b, out))\n",
    "    return out\n",
    "\n",
    "\n",
    "inputs = (1, 2)\n",
    "exp_output = 2\n",
    "\n",
    "computation_function(*inputs)"
   ]
  },
  {
   "cell_type": "markdown",
   "metadata": {
    "pycharm": {
     "name": "#%% md\n"
    }
   },
   "source": [
    "## Memory cache"
   ]
  },
  {
   "cell_type": "code",
   "execution_count": 4,
   "metadata": {
    "ExecuteTime": {
     "end_time": "2020-09-03T19:56:51.949802Z",
     "start_time": "2020-09-03T19:56:51.944498Z"
    },
    "pycharm": {
     "name": "#%%\n"
    }
   },
   "outputs": [
    {
     "name": "stderr",
     "output_type": "stream",
     "text": [
      "Skipping disk cache\n"
     ]
    },
    {
     "name": "stdout",
     "output_type": "stream",
     "text": [
      "Multiplication: 1 * 2 = 2\n",
      "memory caching checks passed\n"
     ]
    }
   ],
   "source": [
    "memory_cached_computation = hcac.Cached(\n",
    "    computation_function, use_mem_cache=True, use_disk_cache=False\n",
    ")\n",
    "\n",
    "memory_cached_computation.clear_cache()\n",
    "\n",
    "dbg.dassert_eq(memory_cached_computation(*inputs), exp_output)\n",
    "dbg.dassert_eq(memory_cached_computation.get_last_cache_accessed(), \"no_cache\")\n",
    "\n",
    "dbg.dassert_eq(memory_cached_computation(*inputs), exp_output)\n",
    "dbg.dassert_eq(memory_cached_computation.get_last_cache_accessed(), \"mem\")\n",
    "\n",
    "print(\"memory caching checks passed\")"
   ]
  },
  {
   "cell_type": "code",
   "execution_count": 5,
   "metadata": {
    "ExecuteTime": {
     "end_time": "2020-09-03T19:56:58.620662Z",
     "start_time": "2020-09-03T19:56:58.610337Z"
    }
   },
   "outputs": [],
   "source": [
    "def computation_function(a, b):\n",
    "    # hello\n",
    "    # assert 0\n",
    "    out = a * b\n",
    "    print(\"Multiplication: %s * %s = %s\" % (a, b, out))\n",
    "    return out\n",
    "\n",
    "\n",
    "inputs = (1, 2)\n",
    "exp_output = 2\n",
    "\n",
    "dbg.dassert_eq(memory_cached_computation(*inputs), exp_output)\n",
    "dbg.dassert_eq(memory_cached_computation.get_last_cache_accessed(), \"mem\")"
   ]
  },
  {
   "cell_type": "markdown",
   "metadata": {},
   "source": [
    "## Disk cache"
   ]
  },
  {
   "cell_type": "code",
   "execution_count": 6,
   "metadata": {
    "ExecuteTime": {
     "end_time": "2020-09-03T19:45:20.999548Z",
     "start_time": "2020-09-03T19:45:20.987298Z"
    },
    "pycharm": {
     "name": "#%%\n"
    }
   },
   "outputs": [
    {
     "name": "stderr",
     "output_type": "stream",
     "text": [
      "Skipping memory cache\n",
      "Skipping memory cache\n"
     ]
    },
    {
     "name": "stdout",
     "output_type": "stream",
     "text": [
      "Multiplication: 1 * 2 = 2\n",
      "disk caching checks passed\n"
     ]
    }
   ],
   "source": [
    "disk_cached_computation = hcac.Cached(\n",
    "    computation_function, use_mem_cache=False, use_disk_cache=True\n",
    ")\n",
    "\n",
    "disk_cached_computation.clear_cache(\"disk\")\n",
    "\n",
    "dbg.dassert_eq(disk_cached_computation(*inputs), exp_output)\n",
    "dbg.dassert_eq(disk_cached_computation.get_last_cache_accessed(), \"no_cache\")\n",
    "\n",
    "dbg.dassert_eq(disk_cached_computation(*inputs), exp_output)\n",
    "dbg.dassert_eq(disk_cached_computation.get_last_cache_accessed(), \"disk\")\n",
    "\n",
    "print(\"disk caching checks passed\")"
   ]
  },
  {
   "cell_type": "markdown",
   "metadata": {},
   "source": [
    "## Full cache"
   ]
  },
  {
   "cell_type": "code",
   "execution_count": 7,
   "metadata": {
    "ExecuteTime": {
     "end_time": "2020-09-03T19:34:54.851944Z",
     "start_time": "2020-09-03T19:34:54.839379Z"
    },
    "pycharm": {
     "name": "#%%\n"
    }
   },
   "outputs": [
    {
     "name": "stdout",
     "output_type": "stream",
     "text": [
      "Multiplication: 1 * 2 = 2\n",
      "Clear mem cache\n",
      "full caching checks passed\n"
     ]
    }
   ],
   "source": [
    "fully_cached_computation = hcac.Cached(\n",
    "    computation_function, use_mem_cache=True, use_disk_cache=True\n",
    ")\n",
    "\n",
    "fully_cached_computation.clear_cache()\n",
    "\n",
    "dbg.dassert_eq(fully_cached_computation(*inputs), exp_output)\n",
    "dbg.dassert_eq(fully_cached_computation.get_last_cache_accessed(), \"no_cache\")\n",
    "\n",
    "dbg.dassert_eq(fully_cached_computation(*inputs), exp_output)\n",
    "dbg.dassert_eq(fully_cached_computation.get_last_cache_accessed(), \"mem\")\n",
    "\n",
    "dbg.dassert_eq(fully_cached_computation(*inputs), exp_output)\n",
    "dbg.dassert_eq(fully_cached_computation.get_last_cache_accessed(), \"mem\")\n",
    "\n",
    "print(\"Clear mem cache\")\n",
    "fully_cached_computation.clear_cache(\"mem\")\n",
    "\n",
    "dbg.dassert_eq(fully_cached_computation(*inputs), exp_output)\n",
    "dbg.dassert_eq(fully_cached_computation.get_last_cache_accessed(), \"disk\")\n",
    "\n",
    "dbg.dassert_eq(fully_cached_computation(*inputs), exp_output)\n",
    "dbg.dassert_eq(fully_cached_computation.get_last_cache_accessed(), \"mem\")\n",
    "\n",
    "print(\"full caching checks passed\")"
   ]
  },
  {
   "cell_type": "code",
   "execution_count": 8,
   "metadata": {
    "ExecuteTime": {
     "end_time": "2020-09-03T19:34:54.856369Z",
     "start_time": "2020-09-03T19:34:54.853563Z"
    }
   },
   "outputs": [],
   "source": [
    "dbg.dassert_eq(fully_cached_computation(*inputs), exp_output)\n",
    "dbg.dassert_eq(fully_cached_computation.get_last_cache_accessed(), \"mem\")"
   ]
  },
  {
   "cell_type": "code",
   "execution_count": 9,
   "metadata": {
    "ExecuteTime": {
     "end_time": "2020-09-03T19:34:54.995926Z",
     "start_time": "2020-09-03T19:34:54.859279Z"
    }
   },
   "outputs": [
    {
     "ename": "AssertionError",
     "evalue": "\n################################################################################\n* Failed assertion *\n'disk'\n==\n'mem'\n################################################################################\n",
     "output_type": "error",
     "traceback": [
      "\u001B[0;31m---------------------------------------------------------------------------\u001B[0m",
      "\u001B[0;31mAssertionError\u001B[0m                            Traceback (most recent call last)",
      "\u001B[0;32m<ipython-input-9-2394661d9cd5>\u001B[0m in \u001B[0;36m<module>\u001B[0;34m\u001B[0m\n\u001B[1;32m      2\u001B[0m \u001B[0mfully_cached_computation\u001B[0m\u001B[0;34m.\u001B[0m\u001B[0mclear_cache\u001B[0m\u001B[0;34m(\u001B[0m\u001B[0;34m\"mem\"\u001B[0m\u001B[0;34m)\u001B[0m\u001B[0;34m\u001B[0m\u001B[0;34m\u001B[0m\u001B[0m\n\u001B[1;32m      3\u001B[0m \u001B[0mdbg\u001B[0m\u001B[0;34m.\u001B[0m\u001B[0mdassert_eq\u001B[0m\u001B[0;34m(\u001B[0m\u001B[0mfully_cached_computation\u001B[0m\u001B[0;34m(\u001B[0m\u001B[0;34m*\u001B[0m\u001B[0minputs\u001B[0m\u001B[0;34m)\u001B[0m\u001B[0;34m,\u001B[0m \u001B[0mexp_output\u001B[0m\u001B[0;34m)\u001B[0m\u001B[0;34m\u001B[0m\u001B[0;34m\u001B[0m\u001B[0m\n\u001B[0;32m----> 4\u001B[0;31m \u001B[0mdbg\u001B[0m\u001B[0;34m.\u001B[0m\u001B[0mdassert_eq\u001B[0m\u001B[0;34m(\u001B[0m\u001B[0mfully_cached_computation\u001B[0m\u001B[0;34m.\u001B[0m\u001B[0mget_last_cache_accessed\u001B[0m\u001B[0;34m(\u001B[0m\u001B[0;34m)\u001B[0m\u001B[0;34m,\u001B[0m \u001B[0;34m\"mem\"\u001B[0m\u001B[0;34m)\u001B[0m\u001B[0;34m\u001B[0m\u001B[0;34m\u001B[0m\u001B[0m\n\u001B[0m",
      "\u001B[0;32m~/Projects/upwork/amp/helpers/dbg.py\u001B[0m in \u001B[0;36mdassert_eq\u001B[0;34m(val1, val2, msg, *args)\u001B[0m\n\u001B[1;32m    109\u001B[0m     \u001B[0;32mif\u001B[0m \u001B[0;32mnot\u001B[0m \u001B[0mval1\u001B[0m \u001B[0;34m==\u001B[0m \u001B[0mval2\u001B[0m\u001B[0;34m:\u001B[0m\u001B[0;34m\u001B[0m\u001B[0;34m\u001B[0m\u001B[0m\n\u001B[1;32m    110\u001B[0m         \u001B[0mtxt\u001B[0m \u001B[0;34m=\u001B[0m \u001B[0;34m\"'%s'\\n==\\n'%s'\"\u001B[0m \u001B[0;34m%\u001B[0m \u001B[0;34m(\u001B[0m\u001B[0mval1\u001B[0m\u001B[0;34m,\u001B[0m \u001B[0mval2\u001B[0m\u001B[0;34m)\u001B[0m\u001B[0;34m\u001B[0m\u001B[0;34m\u001B[0m\u001B[0m\n\u001B[0;32m--> 111\u001B[0;31m         \u001B[0m_dfatal\u001B[0m\u001B[0;34m(\u001B[0m\u001B[0mtxt\u001B[0m\u001B[0;34m,\u001B[0m \u001B[0mmsg\u001B[0m\u001B[0;34m,\u001B[0m \u001B[0;34m*\u001B[0m\u001B[0margs\u001B[0m\u001B[0;34m)\u001B[0m\u001B[0;34m\u001B[0m\u001B[0;34m\u001B[0m\u001B[0m\n\u001B[0m\u001B[1;32m    112\u001B[0m \u001B[0;34m\u001B[0m\u001B[0m\n\u001B[1;32m    113\u001B[0m \u001B[0;34m\u001B[0m\u001B[0m\n",
      "\u001B[0;32m~/Projects/upwork/amp/helpers/dbg.py\u001B[0m in \u001B[0;36m_dfatal\u001B[0;34m(txt, msg, *args)\u001B[0m\n\u001B[1;32m     95\u001B[0m             \u001B[0mdfatal_txt\u001B[0m \u001B[0;34m+=\u001B[0m \u001B[0;34m\"\\n\"\u001B[0m\u001B[0;34m\u001B[0m\u001B[0;34m\u001B[0m\u001B[0m\n\u001B[1;32m     96\u001B[0m         \u001B[0mdfatal_txt\u001B[0m \u001B[0;34m+=\u001B[0m \u001B[0mmsg\u001B[0m\u001B[0;34m\u001B[0m\u001B[0;34m\u001B[0m\u001B[0m\n\u001B[0;32m---> 97\u001B[0;31m     \u001B[0mdfatal\u001B[0m\u001B[0;34m(\u001B[0m\u001B[0mdfatal_txt\u001B[0m\u001B[0;34m)\u001B[0m\u001B[0;34m\u001B[0m\u001B[0;34m\u001B[0m\u001B[0m\n\u001B[0m\u001B[1;32m     98\u001B[0m \u001B[0;34m\u001B[0m\u001B[0m\n\u001B[1;32m     99\u001B[0m \u001B[0;34m\u001B[0m\u001B[0m\n",
      "\u001B[0;32m~/Projects/upwork/amp/helpers/dbg.py\u001B[0m in \u001B[0;36mdfatal\u001B[0;34m(message, assertion_type)\u001B[0m\n\u001B[1;32m     46\u001B[0m     \u001B[0;32mif\u001B[0m \u001B[0massertion_type\u001B[0m \u001B[0;32mis\u001B[0m \u001B[0;32mNone\u001B[0m\u001B[0;34m:\u001B[0m\u001B[0;34m\u001B[0m\u001B[0;34m\u001B[0m\u001B[0m\n\u001B[1;32m     47\u001B[0m         \u001B[0massertion_type\u001B[0m \u001B[0;34m=\u001B[0m \u001B[0mAssertionError\u001B[0m\u001B[0;34m\u001B[0m\u001B[0;34m\u001B[0m\u001B[0m\n\u001B[0;32m---> 48\u001B[0;31m     \u001B[0;32mraise\u001B[0m \u001B[0massertion_type\u001B[0m\u001B[0;34m(\u001B[0m\u001B[0mret\u001B[0m\u001B[0;34m)\u001B[0m\u001B[0;34m\u001B[0m\u001B[0;34m\u001B[0m\u001B[0m\n\u001B[0m\u001B[1;32m     49\u001B[0m \u001B[0;34m\u001B[0m\u001B[0m\n\u001B[1;32m     50\u001B[0m \u001B[0;34m\u001B[0m\u001B[0m\n",
      "\u001B[0;31mAssertionError\u001B[0m: \n################################################################################\n* Failed assertion *\n'disk'\n==\n'mem'\n################################################################################\n"
     ]
    }
   ],
   "source": [
    "# This should fail all the times, because we clear the memory cache.\n",
    "fully_cached_computation.clear_cache(\"mem\")\n",
    "dbg.dassert_eq(fully_cached_computation(*inputs), exp_output)\n",
    "dbg.dassert_eq(fully_cached_computation.get_last_cache_accessed(), \"mem\")"
   ]
  }
 ],
 "metadata": {
  "jupytext": {
   "formats": "ipynb,py:percent"
  },
  "kernelspec": {
   "display_name": "Python 3",
   "language": "python",
   "name": "python3"
  },
  "language_info": {
   "codemirror_mode": {
    "name": "ipython",
    "version": 3
   },
   "file_extension": ".py",
   "mimetype": "text/x-python",
   "name": "python",
   "nbconvert_exporter": "python",
   "pygments_lexer": "ipython3",
   "version": "3.7.6"
  },
  "toc": {
   "base_numbering": 1,
   "nav_menu": {},
   "number_sections": true,
   "sideBar": true,
   "skip_h1_title": false,
   "title_cell": "Table of Contents",
   "title_sidebar": "Contents",
   "toc_cell": false,
   "toc_position": {},
   "toc_section_display": true,
   "toc_window_display": true
  }
 },
 "nbformat": 4,
 "nbformat_minor": 1
}