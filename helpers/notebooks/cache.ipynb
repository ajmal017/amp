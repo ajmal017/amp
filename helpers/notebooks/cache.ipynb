{
 "cells": [
  {
   "cell_type": "markdown",
   "metadata": {
    "collapsed": false,
    "pycharm": {
     "name": "#%% md\n"
    }
   },
   "source": [
    "# Test Cache in Jupyter Notebook"
   ]
  },
  {
   "cell_type": "code",
   "execution_count": 1,
   "metadata": {
    "collapsed": true
   },
   "outputs": [],
   "source": [
    "import helpers.dbg as dbg\n",
    "import helpers.cache as hcac"
   ]
  },
  {
   "cell_type": "markdown",
   "metadata": {
    "collapsed": false,
    "pycharm": {
     "name": "#%% md\n"
    }
   },
   "source": [
    "# Define computation function\n",
    "\n",
    "This function will be subjected to cache."
   ]
  },
  {
   "cell_type": "code",
   "execution_count": 2,
   "metadata": {
    "collapsed": false,
    "pycharm": {
     "name": "#%%\n"
    }
   },
   "outputs": [],
   "source": [
    "def computation_function(a, b):\n",
    "    return a + b"
   ]
  },
  {
   "cell_type": "markdown",
   "metadata": {
    "collapsed": false,
    "pycharm": {
     "name": "#%% md\n"
    }
   },
   "source": [
    "## Memory cache"
   ]
  },
  {
   "cell_type": "code",
   "execution_count": 3,
   "metadata": {
    "collapsed": false,
    "pycharm": {
     "name": "#%%\n"
    }
   },
   "outputs": [
    {
     "name": "stderr",
     "output_type": "stream",
     "text": [
      "Skipping disk cache\n"
     ]
    },
    {
     "name": "stdout",
     "output_type": "stream",
     "text": [
      "memory caching checks passed\n"
     ]
    }
   ],
   "source": [
    "memory_cached_computation = hcac.Cached(computation_function, use_mem_cache=True, use_disk_cache=False)\n",
    "\n",
    "dbg.dassert_eq(memory_cached_computation(1, 2), 3)\n",
    "dbg.dassert_eq(memory_cached_computation.get_last_cache_accessed(), \"no_cache\")\n",
    "\n",
    "dbg.dassert_eq(memory_cached_computation(1, 2), 3)\n",
    "dbg.dassert_eq(memory_cached_computation.get_last_cache_accessed(), \"mem\")\n",
    "\n",
    "print(\"memory caching checks passed\")"
   ]
  },
  {
   "cell_type": "markdown",
   "metadata": {
    "collapsed": false
   },
   "source": [
    "## Disk cache"
   ]
  },
  {
   "cell_type": "code",
   "execution_count": 4,
   "metadata": {
    "collapsed": false,
    "pycharm": {
     "name": "#%%\n"
    }
   },
   "outputs": [
    {
     "name": "stderr",
     "output_type": "stream",
     "text": [
      "computation_function: clearing disk cache\n",
      "Skipping memory cache\n",
      "Skipping memory cache\n"
     ]
    },
    {
     "name": "stdout",
     "output_type": "stream",
     "text": [
      "disk caching checks passed\n"
     ]
    }
   ],
   "source": [
    "disk_cached_computation = hcac.Cached(computation_function, use_mem_cache=False, use_disk_cache=True)\n",
    "\n",
    "disk_cached_computation.clear_disk_cache()\n",
    "\n",
    "dbg.dassert_eq(disk_cached_computation(3, 2), 5)\n",
    "dbg.dassert_eq(disk_cached_computation.get_last_cache_accessed(), \"no_cache\")\n",
    "\n",
    "dbg.dassert_eq(disk_cached_computation(3, 2), 5)\n",
    "dbg.dassert_eq(disk_cached_computation.get_last_cache_accessed(), \"disk\")\n",
    "\n",
    "print(\"disk caching checks passed\")"
   ]
  },
  {
   "cell_type": "markdown",
   "metadata": {
    "collapsed": false
   },
   "source": [
    "## Full cache"
   ]
  },
  {
   "cell_type": "code",
   "execution_count": 5,
   "metadata": {
    "collapsed": false,
    "pycharm": {
     "name": "#%%\n"
    }
   },
   "outputs": [
    {
     "name": "stderr",
     "output_type": "stream",
     "text": [
      "computation_function: clearing disk cache\n",
      "computation_function: clearing memory cache\n"
     ]
    },
    {
     "name": "stdout",
     "output_type": "stream",
     "text": [
      "full caching checks passed\n"
     ]
    }
   ],
   "source": [
    "fully_cached_computation = hcac.Cached(computation_function, use_mem_cache=True, use_disk_cache=True)\n",
    "\n",
    "fully_cached_computation.clear_disk_cache()\n",
    "\n",
    "dbg.dassert_eq(fully_cached_computation(3, 2), 5)\n",
    "dbg.dassert_eq(fully_cached_computation.get_last_cache_accessed(), \"no_cache\")\n",
    "\n",
    "dbg.dassert_eq(fully_cached_computation(3, 2), 5)\n",
    "dbg.dassert_eq(fully_cached_computation.get_last_cache_accessed(), \"mem\")\n",
    "\n",
    "fully_cached_computation.clear_memory_cache()\n",
    "\n",
    "dbg.dassert_eq(fully_cached_computation(3, 2), 5)\n",
    "dbg.dassert_eq(fully_cached_computation.get_last_cache_accessed(), \"disk\")\n",
    "\n",
    "print(\"full caching checks passed\")"
   ]
  }
 ],
 "metadata": {
  "jupytext": {
   "formats": "ipynb,py:percent"
  },
  "kernelspec": {
   "display_name": "Python 3",
   "language": "python",
   "name": "python3"
  },
  "language_info": {
   "codemirror_mode": {
    "name": "ipython",
    "version": 2
   },
   "file_extension": ".py",
   "mimetype": "text/x-python",
   "name": "python",
   "nbconvert_exporter": "python",
   "pygments_lexer": "ipython2",
   "version": "2.7.6"
  }
 },
 "nbformat": 4,
 "nbformat_minor": 0
}