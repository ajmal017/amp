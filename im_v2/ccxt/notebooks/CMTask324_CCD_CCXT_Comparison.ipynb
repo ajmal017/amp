{
 "cells": [
  {
   "cell_type": "markdown",
   "id": "2d5b9812",
   "metadata": {},
   "source": [
    "# Imports"
   ]
  },
  {
   "cell_type": "code",
   "execution_count": 1,
   "id": "df02857b",
   "metadata": {
    "ExecuteTime": {
     "end_time": "2021-12-20T17:17:37.948452Z",
     "start_time": "2021-12-20T17:17:37.356371Z"
    }
   },
   "outputs": [],
   "source": [
    "import logging\n",
    "import os\n",
    "\n",
    "import pandas as pd\n",
    "from typing import List\n",
    "\n",
    "import helpers.dbg as hdbg\n",
    "import helpers.env as henv\n",
    "import helpers.printing as hprint\n",
    "import helpers.s3 as hs3\n",
    "import im.cryptodatadownload.data.load.loader as imcdalolo\n",
    "import im_v2.ccxt.data.client.clients as imvcdclcl\n",
    "import im_v2.ccxt.universe.universe as imvccunun\n",
    "import im_v2.common.data.client.clients as ivcdclcl"
   ]
  },
  {
   "cell_type": "code",
   "execution_count": 2,
   "id": "e2f361e4",
   "metadata": {
    "ExecuteTime": {
     "end_time": "2021-12-20T17:17:40.351744Z",
     "start_time": "2021-12-20T17:17:37.949945Z"
    },
    "scrolled": true
   },
   "outputs": [
    {
     "name": "stdout",
     "output_type": "stream",
     "text": [
      "\u001b[0m\u001b[36mINFO\u001b[0m: > cmd='/venv/lib/python3.8/site-packages/ipykernel_launcher.py -f /home/.local/share/jupyter/runtime/kernel-efbbb9c0-690b-4048-8d76-aa014e26faf0.json'\n",
      "\u001b[33mWARNING\u001b[0m: Running in Jupyter\n",
      ">>ENV<<: is_inside_container=True: code_version=cmamp-1.0.3, container_version=cmamp-1.0.3, is_inside_docker=True, is_inside_ci=False, CI_defined=True, CI=''\n",
      ">>ENV<<: AM_AWS_PROFILE=True AM_ECR_BASE_PATH=True AM_S3_BUCKET=True AM_TELEGRAM_TOKEN=True AWS_ACCESS_KEY_ID=False AWS_DEFAULT_REGION=False AWS_SECRET_ACCESS_KEY=False GH_ACTION_ACCESS_TOKEN=True\n",
      "# Git\n",
      "    branch_name='CMTask324_Extended_analysis_of_CDD'\n",
      "    hash='28608f59c'\n",
      "    # Last commits:\n",
      "      * 28608f59c Maksim Sergeychikov CMTask324: Address most comments                                  (  23 hours ago) Sun Dec 19 18:09:55 2021  (HEAD -> CMTask324_Extended_analysis_of_CDD, origin/CMTask324_Extended_analysis_of_CDD)\n",
      "      * b779cfd0f Maksim Sergeychikov CMTask324: Update CCXT client                                     (    4 days ago) Thu Dec 16 19:36:29 2021           \n",
      "      * 1b07a7511 Maksim Sergeychikov CMTask324: Run linter                                             (    4 days ago) Thu Dec 16 19:13:52 2021           \n",
      "# Machine info\n",
      "    system=Linux\n",
      "    node name=334e062fa354\n",
      "    release=5.4.0-1057-aws\n",
      "    version=#60~18.04.1-Ubuntu SMP Thu Sep 9 20:38:09 UTC 2021\n",
      "    machine=x86_64\n",
      "    processor=x86_64\n",
      "    cpu count=4\n",
      "    cpu freq=scpufreq(current=2499.998, min=0.0, max=0.0)\n",
      "    memory=svmem(total=16596852736, available=9232191488, percent=44.4, used=6900137984, free=4485869568, active=8311898112, inactive=2010222592, buffers=504950784, cached=4705894400, shared=129249280, slab=1367482368)\n",
      "    disk usage=sdiskusage(total=133167038464, used=105854627840, free=27295633408, percent=79.5)\n",
      "# Packages\n",
      "    python: 3.8.10\n",
      "    gluonnlp: ?\n",
      "    gluonts: 0.6.7\n",
      "    joblib: 1.1.0\n",
      "    mxnet: 1.8.0\n",
      "    numpy: 1.21.1\n",
      "    pandas: 1.3.4\n",
      "    pyarrow: 6.0.1\n",
      "    scipy: 1.6.1\n",
      "    seaborn: 0.11.2\n",
      "    sklearn: 1.0.1\n",
      "    statsmodels: 0.13.1\n",
      "\u001b[33mWARNING\u001b[0m: Disabling annoying warnings\n"
     ]
    }
   ],
   "source": [
    "hdbg.init_logger(verbosity=logging.INFO)\n",
    "\n",
    "_LOG = logging.getLogger(__name__)\n",
    "\n",
    "_LOG.info(\"%s\", henv.get_system_signature()[0])\n",
    "\n",
    "hprint.config_notebook()"
   ]
  },
  {
   "cell_type": "markdown",
   "id": "51702034",
   "metadata": {},
   "source": [
    "# Load the data universe"
   ]
  },
  {
   "cell_type": "markdown",
   "id": "70420724",
   "metadata": {},
   "source": [
    "## CCXT"
   ]
  },
  {
   "cell_type": "code",
   "execution_count": 3,
   "id": "d15816d5",
   "metadata": {
    "ExecuteTime": {
     "end_time": "2021-12-20T17:17:40.420658Z",
     "start_time": "2021-12-20T17:17:40.354204Z"
    },
    "scrolled": true
   },
   "outputs": [],
   "source": [
    "ccxt_universe = imvccunun.get_vendor_universe(version=\"v03\")"
   ]
  },
  {
   "cell_type": "markdown",
   "id": "b178b946",
   "metadata": {},
   "source": [
    "## CDD"
   ]
  },
  {
   "cell_type": "code",
   "execution_count": 4,
   "id": "a45e3fad",
   "metadata": {
    "ExecuteTime": {
     "end_time": "2021-12-20T17:17:40.427233Z",
     "start_time": "2021-12-20T17:17:40.423216Z"
    },
    "run_control": {
     "marked": false
    }
   },
   "outputs": [],
   "source": [
    "universe_cdd = imvccunun.get_vendor_universe(version=\"v01\", vendor=\"CDD\")"
   ]
  },
  {
   "cell_type": "markdown",
   "id": "821f2129",
   "metadata": {},
   "source": [
    "# Compare universes"
   ]
  },
  {
   "cell_type": "code",
   "execution_count": 5,
   "id": "23220816",
   "metadata": {
    "ExecuteTime": {
     "end_time": "2021-12-20T17:17:40.434088Z",
     "start_time": "2021-12-20T17:17:40.429244Z"
    }
   },
   "outputs": [
    {
     "name": "stdout",
     "output_type": "stream",
     "text": [
      "Number of full symbols in CCXT: 38\n",
      "Number of full symbols in CDD: 117\n"
     ]
    }
   ],
   "source": [
    "_LOG.info(\"Number of full symbols in CCXT: %s\", len(ccxt_universe))\n",
    "_LOG.info(\"Number of full symbols in CDD: %s\", len(universe_cdd))"
   ]
  },
  {
   "cell_type": "code",
   "execution_count": 6,
   "id": "158481db",
   "metadata": {
    "ExecuteTime": {
     "end_time": "2021-12-20T17:17:40.444127Z",
     "start_time": "2021-12-20T17:17:40.435557Z"
    }
   },
   "outputs": [
    {
     "name": "stdout",
     "output_type": "stream",
     "text": [
      "Number of similar full symbols: 18\n"
     ]
    },
    {
     "data": {
      "text/plain": [
       "{'binance::ADA_USDT',\n",
       " 'binance::BNB_USDT',\n",
       " 'binance::BTC_USDT',\n",
       " 'binance::EOS_USDT',\n",
       " 'binance::ETH_USDT',\n",
       " 'binance::LINK_USDT',\n",
       " 'binance::SOL_USDT',\n",
       " 'ftx::BNB_USDT',\n",
       " 'ftx::BTC_USDT',\n",
       " 'ftx::ETH_USDT',\n",
       " 'ftx::LINK_USDT',\n",
       " 'ftx::XRP_USDT',\n",
       " 'kucoin::ADA_USDT',\n",
       " 'kucoin::BNB_USDT',\n",
       " 'kucoin::BTC_USDT',\n",
       " 'kucoin::EOS_USDT',\n",
       " 'kucoin::ETH_USDT',\n",
       " 'kucoin::XRP_USDT'}"
      ]
     },
     "metadata": {},
     "output_type": "display_data"
    }
   ],
   "source": [
    "# Intersection of full symbols between two vendors.\n",
    "currency_pair_intersection = set(ccxt_universe).intersection(universe_cdd)\n",
    "_LOG.info(\"Number of similar full symbols: %s\", len(currency_pair_intersection))\n",
    "display(currency_pair_intersection)"
   ]
  },
  {
   "cell_type": "code",
   "execution_count": 7,
   "id": "a72f1f1f",
   "metadata": {
    "ExecuteTime": {
     "end_time": "2021-12-20T17:17:40.451309Z",
     "start_time": "2021-12-20T17:17:40.445916Z"
    },
    "scrolled": true
   },
   "outputs": [
    {
     "name": "stdout",
     "output_type": "stream",
     "text": [
      "Number of full symbols that are included in CCXT but not in CDD: 20\n"
     ]
    },
    {
     "data": {
      "text/plain": [
       "{'binance::AVAX_USDT',\n",
       " 'binance::DOGE_USDT',\n",
       " 'ftx::DOGE_USDT',\n",
       " 'ftx::SOL_USDT',\n",
       " 'gateio::ADA_USDT',\n",
       " 'gateio::AVAX_USDT',\n",
       " 'gateio::BNB_USDT',\n",
       " 'gateio::BTC_USDT',\n",
       " 'gateio::DOGE_USDT',\n",
       " 'gateio::EOS_USDT',\n",
       " 'gateio::ETH_USDT',\n",
       " 'gateio::FIL_USDT',\n",
       " 'gateio::LINK_USDT',\n",
       " 'gateio::SOL_USDT',\n",
       " 'gateio::XRP_USDT',\n",
       " 'kucoin::AVAX_USDT',\n",
       " 'kucoin::DOGE_USDT',\n",
       " 'kucoin::FIL_USDT',\n",
       " 'kucoin::LINK_USDT',\n",
       " 'kucoin::SOL_USDT'}"
      ]
     },
     "metadata": {},
     "output_type": "display_data"
    }
   ],
   "source": [
    "# Full symbols that are included in CCXT but not in CDD.\n",
    "ccxt_and_not_cdd = set(ccxt_universe).difference(universe_cdd)\n",
    "_LOG.info(\n",
    "    \"Number of full symbols that are included in CCXT but not in CDD: %s\",\n",
    "    len(ccxt_and_not_cdd),\n",
    ")\n",
    "display(ccxt_and_not_cdd)"
   ]
  },
  {
   "cell_type": "code",
   "execution_count": 8,
   "id": "0523b1b7",
   "metadata": {
    "ExecuteTime": {
     "end_time": "2021-12-20T17:17:40.460284Z",
     "start_time": "2021-12-20T17:17:40.453167Z"
    },
    "scrolled": true
   },
   "outputs": [
    {
     "name": "stdout",
     "output_type": "stream",
     "text": [
      "Number of full symbols that are included in CDD but not in CCXT: 99\n"
     ]
    },
    {
     "data": {
      "text/plain": [
       "{'binance::AAVE_USDT',\n",
       " 'binance::BAT_USDT',\n",
       " 'binance::BTT_USDT',\n",
       " 'binance::CELR_USDT',\n",
       " 'binance::CVC_USDT',\n",
       " 'binance::DAI_USDT',\n",
       " 'binance::DASH_USDT',\n",
       " 'binance::DOT_USDT',\n",
       " 'binance::ETC_USDT',\n",
       " 'binance::FIL_USDT',\n",
       " 'binance::ICP_USDT',\n",
       " 'binance::ICX_USDT',\n",
       " 'binance::LRC_USDT',\n",
       " 'binance::LTC_USDT',\n",
       " 'binance::MATIC_USDT',\n",
       " 'binance::MKR_USDT',\n",
       " 'binance::NEO_USDT',\n",
       " 'binance::ONE_USDT',\n",
       " 'binance::PAX_USDT',\n",
       " 'binance::QTUM_USDT',\n",
       " 'binance::SCU_USDT',\n",
       " 'binance::TRX_USDT',\n",
       " 'binance::TUSD_USDT',\n",
       " 'binance::UNI_USDT',\n",
       " 'binance::USDC_USDT',\n",
       " 'binance::VET_USDT',\n",
       " 'binance::XLM_USDT',\n",
       " 'binance::XMR_USDT',\n",
       " 'binance::XRP_USDT',\n",
       " 'binance::ZEC_USDT',\n",
       " 'bitfinex::AID_USD',\n",
       " 'bitfinex::BAT_USD',\n",
       " 'bitfinex::BTC_EUR',\n",
       " 'bitfinex::BTC_GBR',\n",
       " 'bitfinex::BTC_JPY',\n",
       " 'bitfinex::BTC_USD',\n",
       " 'bitfinex::DAI_BTC',\n",
       " 'bitfinex::DAI_USD',\n",
       " 'bitfinex::DASH_BTC',\n",
       " 'bitfinex::DASH_USD',\n",
       " 'bitfinex::EDO_USD',\n",
       " 'bitfinex::EOS_BTC',\n",
       " 'bitfinex::EOS_EUR',\n",
       " 'bitfinex::EOS_GBR',\n",
       " 'bitfinex::EOS_JPY',\n",
       " 'bitfinex::EOS_USD',\n",
       " 'bitfinex::ETC_USD',\n",
       " 'bitfinex::ETH_BTC',\n",
       " 'bitfinex::ETH_EUR',\n",
       " 'bitfinex::ETH_GBR',\n",
       " 'bitfinex::ETH_JPY',\n",
       " 'bitfinex::ETH_USD',\n",
       " 'bitfinex::ETP_USD',\n",
       " 'bitfinex::LTC_BTC',\n",
       " 'bitfinex::LTC_USD',\n",
       " 'bitfinex::NEO_EUR',\n",
       " 'bitfinex::NEO_GBR',\n",
       " 'bitfinex::NEO_JPY',\n",
       " 'bitfinex::NEO_USD',\n",
       " 'bitfinex::OMG_BTC',\n",
       " 'bitfinex::OMG_USD',\n",
       " 'bitfinex::QTUM_USD',\n",
       " 'bitfinex::REP_BTC',\n",
       " 'bitfinex::REP_USD',\n",
       " 'bitfinex::TRX_BTC',\n",
       " 'bitfinex::TRX_EUR',\n",
       " 'bitfinex::TRX_GBR',\n",
       " 'bitfinex::TRX_JPY',\n",
       " 'bitfinex::TRX_USD',\n",
       " 'bitfinex::XLM_EUR',\n",
       " 'bitfinex::XLM_GBR',\n",
       " 'bitfinex::XLM_JPY',\n",
       " 'bitfinex::XLM_USD',\n",
       " 'bitfinex::XMR_BTC',\n",
       " 'bitfinex::XMR_USD',\n",
       " 'bitfinex::XRP_BTC',\n",
       " 'bitfinex::XVG_EUR',\n",
       " 'bitfinex::XVG_GBP',\n",
       " 'bitfinex::XVG_JPY',\n",
       " 'bitfinex::XVG_USD',\n",
       " 'ftx::BCH_USD',\n",
       " 'ftx::BCH_USDT',\n",
       " 'ftx::BNB_USD',\n",
       " 'ftx::BTC_USD',\n",
       " 'ftx::ETH_USD',\n",
       " 'ftx::LINK_USD',\n",
       " 'ftx::LTC_USD',\n",
       " 'ftx::LTC_USDT',\n",
       " 'ftx::TRX_USD',\n",
       " 'ftx::TRX_USDT',\n",
       " 'ftx::XRP_USD',\n",
       " 'kucoin::BCH_USDT',\n",
       " 'kucoin::BTC_USDC',\n",
       " 'kucoin::DASH_USDT',\n",
       " 'kucoin::LTC_USDT',\n",
       " 'kucoin::NEO_USDT',\n",
       " 'kucoin::TRX_USDT',\n",
       " 'kucoin::XTZ_USDT',\n",
       " 'kucoin::ZEC_USDT'}"
      ]
     },
     "metadata": {},
     "output_type": "display_data"
    }
   ],
   "source": [
    "# Full symbols that are included in CDD but not in CCXT.\n",
    "cdd_and_not_ccxt = set(universe_cdd).difference(ccxt_universe)\n",
    "_LOG.info(\n",
    "    \"Number of full symbols that are included in CDD but not in CCXT: %s\",\n",
    "    len(cdd_and_not_ccxt),\n",
    ")\n",
    "display(cdd_and_not_ccxt)"
   ]
  },
  {
   "cell_type": "markdown",
   "id": "06969925",
   "metadata": {},
   "source": [
    "# Compare close prices / returns from Binance"
   ]
  },
  {
   "cell_type": "markdown",
   "id": "65eb6a58",
   "metadata": {},
   "source": [
    "## Load the data"
   ]
  },
  {
   "cell_type": "markdown",
   "id": "ae3f24d9",
   "metadata": {
    "ExecuteTime": {
     "end_time": "2021-12-08T19:37:31.258647Z",
     "start_time": "2021-12-08T19:37:31.251517Z"
    }
   },
   "source": [
    "The code below can be used to load all the existing data from two vendors CDD and CCXT. Current version is specified to Binance only, however, even for one exchange there's too many data to operate, that's why the output is the intersection of currency pairs between to universe, since one can compare only the intersection of currency pairs for two vendors."
   ]
  },
  {
   "cell_type": "code",
   "execution_count": 9,
   "id": "be827c12",
   "metadata": {
    "ExecuteTime": {
     "end_time": "2021-12-20T17:17:40.467253Z",
     "start_time": "2021-12-20T17:17:40.463432Z"
    }
   },
   "outputs": [],
   "source": [
    "# Load Binance-specific universe for CCXT.\n",
    "ccxt_binance_universe = [\n",
    "    element for element in ccxt_universe if element.startswith(\"binance\")\n",
    "]\n",
    "# Load Binnance-specific universe for CDD.\n",
    "cdd_binance_universe_initial = [\n",
    "    element for element in universe_cdd if element.startswith(\"binance\")\n",
    "]\n",
    "cdd_binance_universe = cdd_binance_universe_initial.copy()\n",
    "# SCU_USDT has incorrect columns, so can not be downloaded.\n",
    "# See CMTask244 - Cannot load CDD - binance - SCU/USDT from s3 for the reference.\n",
    "cdd_binance_universe.remove(\"binance::SCU_USDT\")\n",
    "# The intersection of Binance currency pairs from two universes.\n",
    "currency_pair_intersection_binance = set(ccxt_binance_universe).intersection(\n",
    "    cdd_binance_universe_initial\n",
    ")"
   ]
  },
  {
   "cell_type": "code",
   "execution_count": 10,
   "id": "7f3ba9fd",
   "metadata": {
    "ExecuteTime": {
     "end_time": "2021-12-20T17:17:40.472054Z",
     "start_time": "2021-12-20T17:17:40.469020Z"
    }
   },
   "outputs": [],
   "source": [
    "root_dir = os.path.join(hs3.get_path(), \"data\")"
   ]
  },
  {
   "cell_type": "code",
   "execution_count": 11,
   "id": "8db077be",
   "metadata": {
    "ExecuteTime": {
     "end_time": "2021-12-20T17:18:38.175527Z",
     "start_time": "2021-12-20T17:17:40.473939Z"
    },
    "scrolled": true
   },
   "outputs": [
    {
     "name": "stdout",
     "output_type": "stream",
     "text": [
      "Reading CDD data for exchange id='binance', currencies='SOL_USDT', from file='s3://alphamatic-data/data/cryptodatadownload/20210924/binance/SOL_USDT.csv.gz'...\n",
      "Processing CDD data for exchange id='binance', currencies='SOL_USDT'...\n",
      "Index length increased by 270 = 129252 - 128982\n",
      "Reading CDD data for exchange id='binance', currencies='EOS_USDT', from file='s3://alphamatic-data/data/cryptodatadownload/20210924/binance/EOS_USDT.csv.gz'...\n",
      "Processing CDD data for exchange id='binance', currencies='EOS_USDT'...\n",
      "Index length increased by 5289 = 888096 - 882807\n",
      "Reading CDD data for exchange id='binance', currencies='ADA_USDT', from file='s3://alphamatic-data/data/cryptodatadownload/20210924/binance/ADA_USDT.csv.gz'...\n",
      "Processing CDD data for exchange id='binance', currencies='ADA_USDT'...\n",
      "Index length increased by 5288 = 854976 - 849688\n",
      "Reading CDD data for exchange id='binance', currencies='BNB_USDT', from file='s3://alphamatic-data/data/cryptodatadownload/20210924/binance/BNB_USDT.csv.gz'...\n",
      "Processing CDD data for exchange id='binance', currencies='BNB_USDT'...\n",
      "Index length increased by 5289 = 840575 - 835286\n",
      "Reading CDD data for exchange id='binance', currencies='BTC_USDT', from file='s3://alphamatic-data/data/cryptodatadownload/20210924/binance/BTC_USDT.csv.gz'...\n",
      "Processing CDD data for exchange id='binance', currencies='BTC_USDT'...\n",
      "Index length increased by 5289 = 1063179 - 1057890\n",
      "Reading CDD data for exchange id='binance', currencies='LINK_USDT', from file='s3://alphamatic-data/data/cryptodatadownload/20210924/binance/LINK_USDT.csv.gz'...\n",
      "Processing CDD data for exchange id='binance', currencies='LINK_USDT'...\n",
      "Index length increased by 5289 = 875139 - 869850\n",
      "Reading CDD data for exchange id='binance', currencies='ETH_USDT', from file='s3://alphamatic-data/data/cryptodatadownload/20210924/binance/ETH_USDT.csv.gz'...\n",
      "Processing CDD data for exchange id='binance', currencies='ETH_USDT'...\n",
      "Index length increased by 5288 = 948591 - 943303\n"
     ]
    }
   ],
   "source": [
    "cdd_data = []\n",
    "cdd_loader = imcdalolo.CddLoader(root_dir=root_dir, aws_profile=\"am\")\n",
    "\n",
    "for full_symbol in currency_pair_intersection_binance:\n",
    "    _, currency_pair = ivcdclcl.parse_full_symbol(full_symbol)\n",
    "    cur_data = cdd_loader.read_data_from_filesystem(\n",
    "        exchange_id=\"binance\", currency_pair=currency_pair, data_type=\"ohlcv\"\n",
    "    )\n",
    "    cdd_data.append(cur_data)\n",
    "cdd_binance_df = pd.concat(cdd_data)"
   ]
  },
  {
   "cell_type": "code",
   "execution_count": 12,
   "id": "ab156e6d",
   "metadata": {
    "ExecuteTime": {
     "end_time": "2021-12-20T17:18:38.200318Z",
     "start_time": "2021-12-20T17:18:38.177396Z"
    }
   },
   "outputs": [
    {
     "data": {
      "text/html": [
       "<div>\n",
       "<style scoped>\n",
       "    .dataframe tbody tr th:only-of-type {\n",
       "        vertical-align: middle;\n",
       "    }\n",
       "\n",
       "    .dataframe tbody tr th {\n",
       "        vertical-align: top;\n",
       "    }\n",
       "\n",
       "    .dataframe thead th {\n",
       "        text-align: right;\n",
       "    }\n",
       "</style>\n",
       "<table border=\"1\" class=\"dataframe\">\n",
       "  <thead>\n",
       "    <tr style=\"text-align: right;\">\n",
       "      <th></th>\n",
       "      <th>open</th>\n",
       "      <th>high</th>\n",
       "      <th>low</th>\n",
       "      <th>close</th>\n",
       "      <th>volume</th>\n",
       "      <th>epoch</th>\n",
       "      <th>currency_pair</th>\n",
       "      <th>exchange_id</th>\n",
       "    </tr>\n",
       "  </thead>\n",
       "  <tbody>\n",
       "    <tr>\n",
       "      <th>2021-06-06 06:57:00+00:00</th>\n",
       "      <td>39.654</td>\n",
       "      <td>39.709</td>\n",
       "      <td>39.592</td>\n",
       "      <td>39.649</td>\n",
       "      <td>3053.129</td>\n",
       "      <td>1.622963e+12</td>\n",
       "      <td>SOL/USDT</td>\n",
       "      <td>binance</td>\n",
       "    </tr>\n",
       "    <tr>\n",
       "      <th>2021-06-06 06:58:00+00:00</th>\n",
       "      <td>39.646</td>\n",
       "      <td>39.719</td>\n",
       "      <td>39.633</td>\n",
       "      <td>39.634</td>\n",
       "      <td>874.508</td>\n",
       "      <td>1.622963e+12</td>\n",
       "      <td>SOL/USDT</td>\n",
       "      <td>binance</td>\n",
       "    </tr>\n",
       "    <tr>\n",
       "      <th>2021-06-06 06:59:00+00:00</th>\n",
       "      <td>39.634</td>\n",
       "      <td>39.686</td>\n",
       "      <td>39.624</td>\n",
       "      <td>39.658</td>\n",
       "      <td>906.122</td>\n",
       "      <td>1.622963e+12</td>\n",
       "      <td>SOL/USDT</td>\n",
       "      <td>binance</td>\n",
       "    </tr>\n",
       "  </tbody>\n",
       "</table>\n",
       "</div>"
      ],
      "text/plain": [
       "                             open    high     low   close    volume         epoch currency_pair exchange_id\n",
       "2021-06-06 06:57:00+00:00  39.654  39.709  39.592  39.649  3053.129  1.622963e+12      SOL/USDT     binance\n",
       "2021-06-06 06:58:00+00:00  39.646  39.719  39.633  39.634   874.508  1.622963e+12      SOL/USDT     binance\n",
       "2021-06-06 06:59:00+00:00  39.634  39.686  39.624  39.658   906.122  1.622963e+12      SOL/USDT     binance"
      ]
     },
     "metadata": {},
     "output_type": "display_data"
    },
    {
     "data": {
      "text/plain": [
       "(5599808, 8)"
      ]
     },
     "metadata": {},
     "output_type": "display_data"
    }
   ],
   "source": [
    "display(cdd_binance_df.head(3))\n",
    "display(cdd_binance_df.shape)"
   ]
  },
  {
   "cell_type": "code",
   "execution_count": 13,
   "id": "948765b9",
   "metadata": {
    "ExecuteTime": {
     "end_time": "2021-12-20T17:20:13.616975Z",
     "start_time": "2021-12-20T17:18:38.201807Z"
    },
    "scrolled": true
   },
   "outputs": [
    {
     "name": "stdout",
     "output_type": "stream",
     "text": [
      "Reading CCXT data for exchange id='binance', currencies='ADA_USDT' from file='s3://alphamatic-data/data/ccxt/20210924/binance/ADA_USDT.csv.gz'...\n",
      "Processing CCXT data for exchange id='binance', currencies='ADA_USDT'...\n",
      "Index length increased by 4520 = 1622000 - 1617480\n",
      "Reading CCXT data for exchange id='binance', currencies='BNB_USDT' from file='s3://alphamatic-data/data/ccxt/20210924/binance/BNB_USDT.csv.gz'...\n",
      "Processing CCXT data for exchange id='binance', currencies='BNB_USDT'...\n",
      "Index length increased by 4520 = 1622295 - 1617775\n",
      "Reading CCXT data for exchange id='binance', currencies='BTC_USDT' from file='s3://alphamatic-data/data/ccxt/20210924/binance/BTC_USDT.csv.gz'...\n",
      "Processing CCXT data for exchange id='binance', currencies='BTC_USDT'...\n",
      "Index length increased by 4519 = 1619641 - 1615122\n",
      "Reading CCXT data for exchange id='binance', currencies='EOS_USDT' from file='s3://alphamatic-data/data/ccxt/20210924/binance/EOS_USDT.csv.gz'...\n",
      "Processing CCXT data for exchange id='binance', currencies='EOS_USDT'...\n",
      "Index length increased by 4520 = 1622444 - 1617924\n",
      "Reading CCXT data for exchange id='binance', currencies='ETH_USDT' from file='s3://alphamatic-data/data/ccxt/20210924/binance/ETH_USDT.csv.gz'...\n",
      "Processing CCXT data for exchange id='binance', currencies='ETH_USDT'...\n",
      "Index length increased by 4520 = 1619889 - 1615369\n",
      "Reading CCXT data for exchange id='binance', currencies='LINK_USDT' from file='s3://alphamatic-data/data/ccxt/20210924/binance/LINK_USDT.csv.gz'...\n",
      "Processing CCXT data for exchange id='binance', currencies='LINK_USDT'...\n",
      "Index length increased by 3890 = 1402520 - 1398630\n",
      "Reading CCXT data for exchange id='binance', currencies='SOL_USDT' from file='s3://alphamatic-data/data/ccxt/20210924/binance/SOL_USDT.csv.gz'...\n",
      "Processing CCXT data for exchange id='binance', currencies='SOL_USDT'...\n",
      "Index length increased by 1224 = 576140 - 574916\n"
     ]
    }
   ],
   "source": [
    "ccxt_client = imvcdclcl.CcxtCsvFileSystemClient(\n",
    "    data_type=\"ohlcv\", root_dir=root_dir, aws_profile=\"am\"\n",
    ")\n",
    "multiple_symbols_client = ivcdclcl.MultipleSymbolsClient(\n",
    "    class_=ccxt_client, mode=\"concat\"\n",
    ")\n",
    "ccxt_binance_df = multiple_symbols_client.read_data(\n",
    "    currency_pair_intersection_binance\n",
    ")"
   ]
  },
  {
   "cell_type": "code",
   "execution_count": 14,
   "id": "40d26329",
   "metadata": {
    "ExecuteTime": {
     "end_time": "2021-12-20T17:20:16.689570Z",
     "start_time": "2021-12-20T17:20:13.619514Z"
    }
   },
   "outputs": [],
   "source": [
    "ccxt_binance_df = ccxt_binance_df.sort_index()"
   ]
  },
  {
   "cell_type": "code",
   "execution_count": 15,
   "id": "f656ef6f",
   "metadata": {
    "ExecuteTime": {
     "end_time": "2021-12-20T17:20:16.707765Z",
     "start_time": "2021-12-20T17:20:16.691899Z"
    }
   },
   "outputs": [
    {
     "data": {
      "text/html": [
       "<div>\n",
       "<style scoped>\n",
       "    .dataframe tbody tr th:only-of-type {\n",
       "        vertical-align: middle;\n",
       "    }\n",
       "\n",
       "    .dataframe tbody tr th {\n",
       "        vertical-align: top;\n",
       "    }\n",
       "\n",
       "    .dataframe thead th {\n",
       "        text-align: right;\n",
       "    }\n",
       "</style>\n",
       "<table border=\"1\" class=\"dataframe\">\n",
       "  <thead>\n",
       "    <tr style=\"text-align: right;\">\n",
       "      <th></th>\n",
       "      <th>full_symbol</th>\n",
       "      <th>open</th>\n",
       "      <th>high</th>\n",
       "      <th>low</th>\n",
       "      <th>close</th>\n",
       "      <th>volume</th>\n",
       "      <th>epoch</th>\n",
       "      <th>currency_pair</th>\n",
       "      <th>exchange_id</th>\n",
       "    </tr>\n",
       "  </thead>\n",
       "  <tbody>\n",
       "    <tr>\n",
       "      <th>2018-08-17 00:00:00+00:00</th>\n",
       "      <td>binance::ADA_USDT</td>\n",
       "      <td>0.0946</td>\n",
       "      <td>0.0948</td>\n",
       "      <td>0.09442</td>\n",
       "      <td>0.09479</td>\n",
       "      <td>41334.200000</td>\n",
       "      <td>1.534464e+12</td>\n",
       "      <td>ADA_USDT</td>\n",
       "      <td>binance</td>\n",
       "    </tr>\n",
       "    <tr>\n",
       "      <th>2018-08-17 00:00:00+00:00</th>\n",
       "      <td>binance::BTC_USDT</td>\n",
       "      <td>6316.0000</td>\n",
       "      <td>6319.0400</td>\n",
       "      <td>6310.32000</td>\n",
       "      <td>6311.64000</td>\n",
       "      <td>9.967395</td>\n",
       "      <td>1.534464e+12</td>\n",
       "      <td>BTC_USDT</td>\n",
       "      <td>binance</td>\n",
       "    </tr>\n",
       "    <tr>\n",
       "      <th>2018-08-17 00:00:00+00:00</th>\n",
       "      <td>binance::BNB_USDT</td>\n",
       "      <td>9.7779</td>\n",
       "      <td>9.7791</td>\n",
       "      <td>9.75380</td>\n",
       "      <td>9.77780</td>\n",
       "      <td>520.660000</td>\n",
       "      <td>1.534464e+12</td>\n",
       "      <td>BNB_USDT</td>\n",
       "      <td>binance</td>\n",
       "    </tr>\n",
       "  </tbody>\n",
       "</table>\n",
       "</div>"
      ],
      "text/plain": [
       "                                 full_symbol       open       high         low       close        volume         epoch currency_pair exchange_id\n",
       "2018-08-17 00:00:00+00:00  binance::ADA_USDT     0.0946     0.0948     0.09442     0.09479  41334.200000  1.534464e+12      ADA_USDT     binance\n",
       "2018-08-17 00:00:00+00:00  binance::BTC_USDT  6316.0000  6319.0400  6310.32000  6311.64000      9.967395  1.534464e+12      BTC_USDT     binance\n",
       "2018-08-17 00:00:00+00:00  binance::BNB_USDT     9.7779     9.7791     9.75380     9.77780    520.660000  1.534464e+12      BNB_USDT     binance"
      ]
     },
     "metadata": {},
     "output_type": "display_data"
    },
    {
     "data": {
      "text/plain": [
       "(10084929, 9)"
      ]
     },
     "metadata": {},
     "output_type": "display_data"
    }
   ],
   "source": [
    "display(ccxt_binance_df.head(3))\n",
    "display(ccxt_binance_df.shape)"
   ]
  },
  {
   "cell_type": "markdown",
   "id": "34ce5bd1",
   "metadata": {},
   "source": [
    "## Calculate returns and correlation"
   ]
  },
  {
   "cell_type": "code",
   "execution_count": 16,
   "id": "e4a4a808",
   "metadata": {
    "ExecuteTime": {
     "end_time": "2021-12-20T17:20:19.891762Z",
     "start_time": "2021-12-20T17:20:16.710357Z"
    }
   },
   "outputs": [],
   "source": [
    "# CDD names cleaning.\n",
    "cdd_binance_df[\"currency_pair\"] = cdd_binance_df[\"currency_pair\"].str.replace(\n",
    "    \"/\", \"_\"\n",
    ")"
   ]
  },
  {
   "cell_type": "code",
   "execution_count": 17,
   "id": "c01e0a5f",
   "metadata": {
    "ExecuteTime": {
     "end_time": "2021-12-20T17:20:19.898151Z",
     "start_time": "2021-12-20T17:20:19.893844Z"
    }
   },
   "outputs": [],
   "source": [
    "def resample_close_price(df: pd.DataFrame, resampling_freq: str) -> pd.Series:\n",
    "    \"\"\"\n",
    "    Transform OHLCV data to the grouped series with resampled frequency and\n",
    "    last close prices.\n",
    "\n",
    "    :param df: OHLCV data\n",
    "    :param resampling_freq: frequency from `pd.date_range()` to resample to\n",
    "    :return: grouped and resampled close prices\n",
    "    \"\"\"\n",
    "    # Reseting DateTime index, since pd.Grouper can't use index values.\n",
    "    df = df.reset_index().rename(columns={\"index\": \"stamp\"})\n",
    "    # Group by currency pairs and simultaneously resample to the desired frequency.\n",
    "    resampler = df.groupby(\n",
    "        [\"currency_pair\", pd.Grouper(key=\"stamp\", freq=resampling_freq)]\n",
    "    )\n",
    "    # Take the last close value from each resampling period.\n",
    "    close_series = resampler.close.last()\n",
    "    return close_series"
   ]
  },
  {
   "cell_type": "code",
   "execution_count": 18,
   "id": "e2e7ae9f",
   "metadata": {
    "ExecuteTime": {
     "end_time": "2021-12-20T17:20:19.905057Z",
     "start_time": "2021-12-20T17:20:19.899519Z"
    }
   },
   "outputs": [],
   "source": [
    "def calculate_correlations(\n",
    "    ccxt_close_price: pd.Series, cdd_close_price: pd.Series, compute_returns: bool\n",
    ") -> pd.DataFrame:\n",
    "    \"\"\"\n",
    "    Take two series with close prices(i.e. CDD and CCXT data) and calculate the\n",
    "    correlations for each specific currency pair.\n",
    "\n",
    "    :param ccxt_series: grouped and resampled close prices for CCXT\n",
    "    :param cdd_series: grouped and resampled close prices for CDD\n",
    "    :param compute_returns: if True - compare returns, if False - compare close prices\n",
    "    :return: grouped correlation matrix\n",
    "    \"\"\"\n",
    "    if compute_returns:\n",
    "        # Group by currency pairs in order to calculate the percentage returns.\n",
    "        grouper_cdd = cdd_close_price.groupby(\"currency_pair\")\n",
    "        cdd_close_price = grouper_cdd.pct_change()\n",
    "        grouper_ccxt = ccxt_close_price.groupby(\"currency_pair\")\n",
    "        ccxt_close_price = grouper_ccxt.pct_change()\n",
    "    # Combine and calculate correlations.\n",
    "    combined = pd.merge(\n",
    "        cdd_close_price, ccxt_close_price, left_index=True, right_index=True\n",
    "    )\n",
    "    # Rename the columns.\n",
    "    if compute_returns:\n",
    "        combined.columns = [\"ccxt_returns\", \"cdd_returns\"]\n",
    "    else:\n",
    "        combined.columns = [\"cdd_close\", \"ccxt_close\"]\n",
    "    # Group by again to calculte returns correlation for each currency pair.\n",
    "    corr_matrix = combined.groupby(level=0).corr()\n",
    "    return corr_matrix"
   ]
  },
  {
   "cell_type": "code",
   "execution_count": 19,
   "id": "975b1df0",
   "metadata": {
    "ExecuteTime": {
     "end_time": "2021-12-20T17:20:39.205234Z",
     "start_time": "2021-12-20T17:20:19.906555Z"
    }
   },
   "outputs": [],
   "source": [
    "# Corresponding resampled Series.\n",
    "ccxt_binance_series_1d = resample_close_price(ccxt_binance_df, \"1D\")\n",
    "cdd_binance_series_1d = resample_close_price(cdd_binance_df, \"1D\")\n",
    "\n",
    "ccxt_binance_series_5min = resample_close_price(ccxt_binance_df, \"5min\")\n",
    "cdd_binance_series_5min = resample_close_price(cdd_binance_df, \"5min\")"
   ]
  },
  {
   "cell_type": "markdown",
   "id": "c56c9d1e",
   "metadata": {},
   "source": [
    "### 1-day returns"
   ]
  },
  {
   "cell_type": "code",
   "execution_count": 20,
   "id": "3af8f847",
   "metadata": {
    "ExecuteTime": {
     "end_time": "2021-12-20T17:20:39.420814Z",
     "start_time": "2021-12-20T17:20:39.210087Z"
    }
   },
   "outputs": [
    {
     "data": {
      "text/html": [
       "<div>\n",
       "<style scoped>\n",
       "    .dataframe tbody tr th:only-of-type {\n",
       "        vertical-align: middle;\n",
       "    }\n",
       "\n",
       "    .dataframe tbody tr th {\n",
       "        vertical-align: top;\n",
       "    }\n",
       "\n",
       "    .dataframe thead th {\n",
       "        text-align: right;\n",
       "    }\n",
       "</style>\n",
       "<table border=\"1\" class=\"dataframe\">\n",
       "  <thead>\n",
       "    <tr style=\"text-align: right;\">\n",
       "      <th></th>\n",
       "      <th></th>\n",
       "      <th>ccxt_returns</th>\n",
       "      <th>cdd_returns</th>\n",
       "    </tr>\n",
       "    <tr>\n",
       "      <th>currency_pair</th>\n",
       "      <th></th>\n",
       "      <th></th>\n",
       "      <th></th>\n",
       "    </tr>\n",
       "  </thead>\n",
       "  <tbody>\n",
       "    <tr>\n",
       "      <th rowspan=\"2\" valign=\"top\">ADA_USDT</th>\n",
       "      <th>ccxt_returns</th>\n",
       "      <td>1.000000</td>\n",
       "      <td>0.997807</td>\n",
       "    </tr>\n",
       "    <tr>\n",
       "      <th>cdd_returns</th>\n",
       "      <td>0.997807</td>\n",
       "      <td>1.000000</td>\n",
       "    </tr>\n",
       "    <tr>\n",
       "      <th rowspan=\"2\" valign=\"top\">BNB_USDT</th>\n",
       "      <th>ccxt_returns</th>\n",
       "      <td>1.000000</td>\n",
       "      <td>0.998490</td>\n",
       "    </tr>\n",
       "    <tr>\n",
       "      <th>cdd_returns</th>\n",
       "      <td>0.998490</td>\n",
       "      <td>1.000000</td>\n",
       "    </tr>\n",
       "    <tr>\n",
       "      <th rowspan=\"2\" valign=\"top\">BTC_USDT</th>\n",
       "      <th>ccxt_returns</th>\n",
       "      <td>1.000000</td>\n",
       "      <td>0.997763</td>\n",
       "    </tr>\n",
       "    <tr>\n",
       "      <th>cdd_returns</th>\n",
       "      <td>0.997763</td>\n",
       "      <td>1.000000</td>\n",
       "    </tr>\n",
       "    <tr>\n",
       "      <th rowspan=\"2\" valign=\"top\">EOS_USDT</th>\n",
       "      <th>ccxt_returns</th>\n",
       "      <td>1.000000</td>\n",
       "      <td>0.998294</td>\n",
       "    </tr>\n",
       "    <tr>\n",
       "      <th>cdd_returns</th>\n",
       "      <td>0.998294</td>\n",
       "      <td>1.000000</td>\n",
       "    </tr>\n",
       "    <tr>\n",
       "      <th rowspan=\"2\" valign=\"top\">ETH_USDT</th>\n",
       "      <th>ccxt_returns</th>\n",
       "      <td>1.000000</td>\n",
       "      <td>0.995563</td>\n",
       "    </tr>\n",
       "    <tr>\n",
       "      <th>cdd_returns</th>\n",
       "      <td>0.995563</td>\n",
       "      <td>1.000000</td>\n",
       "    </tr>\n",
       "    <tr>\n",
       "      <th rowspan=\"2\" valign=\"top\">LINK_USDT</th>\n",
       "      <th>ccxt_returns</th>\n",
       "      <td>1.000000</td>\n",
       "      <td>0.997200</td>\n",
       "    </tr>\n",
       "    <tr>\n",
       "      <th>cdd_returns</th>\n",
       "      <td>0.997200</td>\n",
       "      <td>1.000000</td>\n",
       "    </tr>\n",
       "    <tr>\n",
       "      <th rowspan=\"2\" valign=\"top\">SOL_USDT</th>\n",
       "      <th>ccxt_returns</th>\n",
       "      <td>1.000000</td>\n",
       "      <td>0.996158</td>\n",
       "    </tr>\n",
       "    <tr>\n",
       "      <th>cdd_returns</th>\n",
       "      <td>0.996158</td>\n",
       "      <td>1.000000</td>\n",
       "    </tr>\n",
       "  </tbody>\n",
       "</table>\n",
       "</div>"
      ],
      "text/plain": [
       "                            ccxt_returns  cdd_returns\n",
       "currency_pair                                        \n",
       "ADA_USDT      ccxt_returns      1.000000     0.997807\n",
       "              cdd_returns       0.997807     1.000000\n",
       "BNB_USDT      ccxt_returns      1.000000     0.998490\n",
       "              cdd_returns       0.998490     1.000000\n",
       "BTC_USDT      ccxt_returns      1.000000     0.997763\n",
       "              cdd_returns       0.997763     1.000000\n",
       "EOS_USDT      ccxt_returns      1.000000     0.998294\n",
       "              cdd_returns       0.998294     1.000000\n",
       "ETH_USDT      ccxt_returns      1.000000     0.995563\n",
       "              cdd_returns       0.995563     1.000000\n",
       "LINK_USDT     ccxt_returns      1.000000     0.997200\n",
       "              cdd_returns       0.997200     1.000000\n",
       "SOL_USDT      ccxt_returns      1.000000     0.996158\n",
       "              cdd_returns       0.996158     1.000000"
      ]
     },
     "metadata": {},
     "output_type": "display_data"
    }
   ],
   "source": [
    "returns_corr_1day = calculate_correlations(\n",
    "    ccxt_binance_series_1d, cdd_binance_series_1d, compute_returns=True\n",
    ")\n",
    "display(returns_corr_1day)"
   ]
  },
  {
   "cell_type": "markdown",
   "id": "a5d24740",
   "metadata": {},
   "source": [
    "### 5-min returns"
   ]
  },
  {
   "cell_type": "code",
   "execution_count": 21,
   "id": "4c69e461",
   "metadata": {
    "ExecuteTime": {
     "end_time": "2021-12-20T17:21:02.031420Z",
     "start_time": "2021-12-20T17:20:39.422529Z"
    }
   },
   "outputs": [
    {
     "data": {
      "text/html": [
       "<div>\n",
       "<style scoped>\n",
       "    .dataframe tbody tr th:only-of-type {\n",
       "        vertical-align: middle;\n",
       "    }\n",
       "\n",
       "    .dataframe tbody tr th {\n",
       "        vertical-align: top;\n",
       "    }\n",
       "\n",
       "    .dataframe thead th {\n",
       "        text-align: right;\n",
       "    }\n",
       "</style>\n",
       "<table border=\"1\" class=\"dataframe\">\n",
       "  <thead>\n",
       "    <tr style=\"text-align: right;\">\n",
       "      <th></th>\n",
       "      <th></th>\n",
       "      <th>ccxt_returns</th>\n",
       "      <th>cdd_returns</th>\n",
       "    </tr>\n",
       "    <tr>\n",
       "      <th>currency_pair</th>\n",
       "      <th></th>\n",
       "      <th></th>\n",
       "      <th></th>\n",
       "    </tr>\n",
       "  </thead>\n",
       "  <tbody>\n",
       "    <tr>\n",
       "      <th rowspan=\"2\" valign=\"top\">ADA_USDT</th>\n",
       "      <th>ccxt_returns</th>\n",
       "      <td>1.000000</td>\n",
       "      <td>0.986912</td>\n",
       "    </tr>\n",
       "    <tr>\n",
       "      <th>cdd_returns</th>\n",
       "      <td>0.986912</td>\n",
       "      <td>1.000000</td>\n",
       "    </tr>\n",
       "    <tr>\n",
       "      <th rowspan=\"2\" valign=\"top\">BNB_USDT</th>\n",
       "      <th>ccxt_returns</th>\n",
       "      <td>1.000000</td>\n",
       "      <td>0.987292</td>\n",
       "    </tr>\n",
       "    <tr>\n",
       "      <th>cdd_returns</th>\n",
       "      <td>0.987292</td>\n",
       "      <td>1.000000</td>\n",
       "    </tr>\n",
       "    <tr>\n",
       "      <th rowspan=\"2\" valign=\"top\">BTC_USDT</th>\n",
       "      <th>ccxt_returns</th>\n",
       "      <td>1.000000</td>\n",
       "      <td>0.990746</td>\n",
       "    </tr>\n",
       "    <tr>\n",
       "      <th>cdd_returns</th>\n",
       "      <td>0.990746</td>\n",
       "      <td>1.000000</td>\n",
       "    </tr>\n",
       "    <tr>\n",
       "      <th rowspan=\"2\" valign=\"top\">EOS_USDT</th>\n",
       "      <th>ccxt_returns</th>\n",
       "      <td>1.000000</td>\n",
       "      <td>0.993959</td>\n",
       "    </tr>\n",
       "    <tr>\n",
       "      <th>cdd_returns</th>\n",
       "      <td>0.993959</td>\n",
       "      <td>1.000000</td>\n",
       "    </tr>\n",
       "    <tr>\n",
       "      <th rowspan=\"2\" valign=\"top\">ETH_USDT</th>\n",
       "      <th>ccxt_returns</th>\n",
       "      <td>1.000000</td>\n",
       "      <td>0.974821</td>\n",
       "    </tr>\n",
       "    <tr>\n",
       "      <th>cdd_returns</th>\n",
       "      <td>0.974821</td>\n",
       "      <td>1.000000</td>\n",
       "    </tr>\n",
       "    <tr>\n",
       "      <th rowspan=\"2\" valign=\"top\">LINK_USDT</th>\n",
       "      <th>ccxt_returns</th>\n",
       "      <td>1.000000</td>\n",
       "      <td>0.983939</td>\n",
       "    </tr>\n",
       "    <tr>\n",
       "      <th>cdd_returns</th>\n",
       "      <td>0.983939</td>\n",
       "      <td>1.000000</td>\n",
       "    </tr>\n",
       "    <tr>\n",
       "      <th rowspan=\"2\" valign=\"top\">SOL_USDT</th>\n",
       "      <th>ccxt_returns</th>\n",
       "      <td>1.000000</td>\n",
       "      <td>0.999998</td>\n",
       "    </tr>\n",
       "    <tr>\n",
       "      <th>cdd_returns</th>\n",
       "      <td>0.999998</td>\n",
       "      <td>1.000000</td>\n",
       "    </tr>\n",
       "  </tbody>\n",
       "</table>\n",
       "</div>"
      ],
      "text/plain": [
       "                            ccxt_returns  cdd_returns\n",
       "currency_pair                                        \n",
       "ADA_USDT      ccxt_returns      1.000000     0.986912\n",
       "              cdd_returns       0.986912     1.000000\n",
       "BNB_USDT      ccxt_returns      1.000000     0.987292\n",
       "              cdd_returns       0.987292     1.000000\n",
       "BTC_USDT      ccxt_returns      1.000000     0.990746\n",
       "              cdd_returns       0.990746     1.000000\n",
       "EOS_USDT      ccxt_returns      1.000000     0.993959\n",
       "              cdd_returns       0.993959     1.000000\n",
       "ETH_USDT      ccxt_returns      1.000000     0.974821\n",
       "              cdd_returns       0.974821     1.000000\n",
       "LINK_USDT     ccxt_returns      1.000000     0.983939\n",
       "              cdd_returns       0.983939     1.000000\n",
       "SOL_USDT      ccxt_returns      1.000000     0.999998\n",
       "              cdd_returns       0.999998     1.000000"
      ]
     },
     "metadata": {},
     "output_type": "display_data"
    }
   ],
   "source": [
    "returns_corr_5min = calculate_correlations(\n",
    "    ccxt_binance_series_5min, cdd_binance_series_5min, compute_returns=True\n",
    ")\n",
    "display(returns_corr_5min)"
   ]
  },
  {
   "cell_type": "markdown",
   "id": "1d22eca0",
   "metadata": {},
   "source": [
    "## Compare close prices"
   ]
  },
  {
   "cell_type": "code",
   "execution_count": 22,
   "id": "8014b363",
   "metadata": {
    "ExecuteTime": {
     "end_time": "2021-12-20T17:21:02.061172Z",
     "start_time": "2021-12-20T17:21:02.033641Z"
    },
    "scrolled": true
   },
   "outputs": [
    {
     "data": {
      "text/html": [
       "<div>\n",
       "<style scoped>\n",
       "    .dataframe tbody tr th:only-of-type {\n",
       "        vertical-align: middle;\n",
       "    }\n",
       "\n",
       "    .dataframe tbody tr th {\n",
       "        vertical-align: top;\n",
       "    }\n",
       "\n",
       "    .dataframe thead th {\n",
       "        text-align: right;\n",
       "    }\n",
       "</style>\n",
       "<table border=\"1\" class=\"dataframe\">\n",
       "  <thead>\n",
       "    <tr style=\"text-align: right;\">\n",
       "      <th></th>\n",
       "      <th></th>\n",
       "      <th>cdd_close</th>\n",
       "      <th>ccxt_close</th>\n",
       "    </tr>\n",
       "    <tr>\n",
       "      <th>currency_pair</th>\n",
       "      <th></th>\n",
       "      <th></th>\n",
       "      <th></th>\n",
       "    </tr>\n",
       "  </thead>\n",
       "  <tbody>\n",
       "    <tr>\n",
       "      <th rowspan=\"2\" valign=\"top\">ADA_USDT</th>\n",
       "      <th>cdd_close</th>\n",
       "      <td>1.000000</td>\n",
       "      <td>0.999995</td>\n",
       "    </tr>\n",
       "    <tr>\n",
       "      <th>ccxt_close</th>\n",
       "      <td>0.999995</td>\n",
       "      <td>1.000000</td>\n",
       "    </tr>\n",
       "    <tr>\n",
       "      <th rowspan=\"2\" valign=\"top\">BNB_USDT</th>\n",
       "      <th>cdd_close</th>\n",
       "      <td>1.000000</td>\n",
       "      <td>0.999999</td>\n",
       "    </tr>\n",
       "    <tr>\n",
       "      <th>ccxt_close</th>\n",
       "      <td>0.999999</td>\n",
       "      <td>1.000000</td>\n",
       "    </tr>\n",
       "    <tr>\n",
       "      <th rowspan=\"2\" valign=\"top\">BTC_USDT</th>\n",
       "      <th>cdd_close</th>\n",
       "      <td>1.000000</td>\n",
       "      <td>1.000000</td>\n",
       "    </tr>\n",
       "    <tr>\n",
       "      <th>ccxt_close</th>\n",
       "      <td>1.000000</td>\n",
       "      <td>1.000000</td>\n",
       "    </tr>\n",
       "    <tr>\n",
       "      <th rowspan=\"2\" valign=\"top\">EOS_USDT</th>\n",
       "      <th>cdd_close</th>\n",
       "      <td>1.000000</td>\n",
       "      <td>0.999906</td>\n",
       "    </tr>\n",
       "    <tr>\n",
       "      <th>ccxt_close</th>\n",
       "      <td>0.999906</td>\n",
       "      <td>1.000000</td>\n",
       "    </tr>\n",
       "    <tr>\n",
       "      <th rowspan=\"2\" valign=\"top\">ETH_USDT</th>\n",
       "      <th>cdd_close</th>\n",
       "      <td>1.000000</td>\n",
       "      <td>0.999994</td>\n",
       "    </tr>\n",
       "    <tr>\n",
       "      <th>ccxt_close</th>\n",
       "      <td>0.999994</td>\n",
       "      <td>1.000000</td>\n",
       "    </tr>\n",
       "    <tr>\n",
       "      <th rowspan=\"2\" valign=\"top\">LINK_USDT</th>\n",
       "      <th>cdd_close</th>\n",
       "      <td>1.000000</td>\n",
       "      <td>0.999995</td>\n",
       "    </tr>\n",
       "    <tr>\n",
       "      <th>ccxt_close</th>\n",
       "      <td>0.999995</td>\n",
       "      <td>1.000000</td>\n",
       "    </tr>\n",
       "    <tr>\n",
       "      <th rowspan=\"2\" valign=\"top\">SOL_USDT</th>\n",
       "      <th>cdd_close</th>\n",
       "      <td>1.000000</td>\n",
       "      <td>0.999474</td>\n",
       "    </tr>\n",
       "    <tr>\n",
       "      <th>ccxt_close</th>\n",
       "      <td>0.999474</td>\n",
       "      <td>1.000000</td>\n",
       "    </tr>\n",
       "  </tbody>\n",
       "</table>\n",
       "</div>"
      ],
      "text/plain": [
       "                          cdd_close  ccxt_close\n",
       "currency_pair                                  \n",
       "ADA_USDT      cdd_close    1.000000    0.999995\n",
       "              ccxt_close   0.999995    1.000000\n",
       "BNB_USDT      cdd_close    1.000000    0.999999\n",
       "              ccxt_close   0.999999    1.000000\n",
       "BTC_USDT      cdd_close    1.000000    1.000000\n",
       "              ccxt_close   1.000000    1.000000\n",
       "EOS_USDT      cdd_close    1.000000    0.999906\n",
       "              ccxt_close   0.999906    1.000000\n",
       "ETH_USDT      cdd_close    1.000000    0.999994\n",
       "              ccxt_close   0.999994    1.000000\n",
       "LINK_USDT     cdd_close    1.000000    0.999995\n",
       "              ccxt_close   0.999995    1.000000\n",
       "SOL_USDT      cdd_close    1.000000    0.999474\n",
       "              ccxt_close   0.999474    1.000000"
      ]
     },
     "metadata": {},
     "output_type": "display_data"
    }
   ],
   "source": [
    "close_corr_1day = calculate_correlations(\n",
    "    ccxt_binance_series_1d, cdd_binance_series_1d, compute_returns=False\n",
    ")\n",
    "display(close_corr_1day)"
   ]
  },
  {
   "cell_type": "markdown",
   "id": "e4990d15",
   "metadata": {},
   "source": [
    "# Statistical properties of a full symbol in CDD"
   ]
  },
  {
   "cell_type": "code",
   "execution_count": 23,
   "id": "d39f6575",
   "metadata": {
    "ExecuteTime": {
     "end_time": "2021-12-20T17:21:02.070021Z",
     "start_time": "2021-12-20T17:21:02.063353Z"
    }
   },
   "outputs": [],
   "source": [
    "# Clearing CDD currency pairs that are incorrect.\n",
    "\n",
    "# Binance\n",
    "universe_cdd.remove(\"binance::SCU_USDT\")\n",
    "\n",
    "# Bitfinex\n",
    "universe_cdd.remove(\"bitfinex::BTC_GBR\")  # doesn't exist.\n",
    "universe_cdd.remove(\"bitfinex::DASH_BTC\")  # NaT in stamps.\n",
    "universe_cdd.remove(\"bitfinex::DASH_USD\")  # NaT in stamps.\n",
    "universe_cdd.remove(\"bitfinex::EOS_GBR\")  # doesn't exist.\n",
    "universe_cdd.remove(\"bitfinex::ETH_GBR\")  # doesn't exist.\n",
    "universe_cdd.remove(\"bitfinex::NEO_GBR\")  # doesn't exist.\n",
    "universe_cdd.remove(\"bitfinex::QTUM_USD\")  # NaT in stamps.\n",
    "universe_cdd.remove(\"bitfinex::TRX_GBR\")  # doesn't exist.\n",
    "universe_cdd.remove(\"bitfinex::XLM_GBR\")  # doesn't exist.\n",
    "\n",
    "# ftx has some critical mistakes in the downloading process, so can not continue analysis with them.\n",
    "# see CMTask801 - Downloading issues of FTX exchange from CDD universe for further reference.\n",
    "cdd_ftx_universe = [\n",
    "    element for element in universe_cdd if element.startswith(\"ftx\")\n",
    "]\n",
    "for elem in cdd_ftx_universe:\n",
    "    universe_cdd.remove(elem)\n",
    "    \n",
    "# kucoin exchange: the timestamps are obviously wrong and with too short time period.\n",
    "# see CMTask253 - Fix timestamp for CDD - kucoin for reference.\n",
    "cdd_kucoin_universe = [\n",
    "    element for element in universe_cdd if element.startswith(\"kucoin\")\n",
    "]\n",
    "for elem in cdd_kucoin_universe:\n",
    "    universe_cdd.remove(elem)"
   ]
  },
  {
   "cell_type": "code",
   "execution_count": 24,
   "id": "3747a8d7",
   "metadata": {
    "ExecuteTime": {
     "end_time": "2021-12-20T17:21:02.084925Z",
     "start_time": "2021-12-20T17:21:02.072227Z"
    }
   },
   "outputs": [],
   "source": [
    "# TODO(Max): consider using compute_start_end_table function\n",
    "def calculate_statistics_for_stamps(coin_list: List[str], vendor: str) -> pd.DataFrame:\n",
    "    \"\"\"\n",
    "    Load the OHLCV data for each currency pair in CDD or CCXT universe and\n",
    "    compute the corresponding descriptive statistics.\n",
    "    Stats include:\n",
    "        - index - currency pair\n",
    "        - exchange_id - exchange_id\n",
    "        - data_points_counts - number of timestamps for each coin\n",
    "        - NaNs_in_Close - number of NaNs in \"close\"\n",
    "        - step_in_stamp - value counts of steps between timestamps\n",
    "        - start_date\n",
    "        - end_date\n",
    "    \n",
    "    :param coin_list: list of all full symbols in CDD or CCXT universe\n",
    "    :param vendor: CCXT or CDD \n",
    "    :return: descriptive statistics for each full symbol\n",
    "    \"\"\"\n",
    "    # Load data for each full symbol.\n",
    "    result = []\n",
    "    cdd_loader = imcdalolo.CddLoader(root_dir=root_dir, aws_profile=\"am\")\n",
    "    for full_symbol in coin_list:\n",
    "        if vendor == \"cdd\":\n",
    "            exchange_id, currency_pair = ivcdclcl.parse_full_symbol(full_symbol)\n",
    "            coin = cdd_loader.read_data_from_filesystem(\n",
    "                exchange_id=exchange_id,\n",
    "                currency_pair=currency_pair,\n",
    "                data_type=\"ohlcv\",\n",
    "            )\n",
    "        else:\n",
    "            ccxt_client = imvcdclcl.CcxtCsvFileSystemClient(\n",
    "                data_type=\"ohlcv\", root_dir=root_dir, aws_profile=\"am\"\n",
    "            )\n",
    "            multiple_symbols_client = ivcdclcl.MultipleSymbolsClient(\n",
    "                class_=ccxt_client, mode=\"concat\"\n",
    "            )\n",
    "            coin = multiple_symbols_client.read_data([full_symbol])\n",
    "            exchange_id, currency_pair = ivcdclcl.parse_full_symbol(full_symbol)\n",
    "            coin = coin.sort_index()\n",
    "        # Reseting DateTime index, so it can be further used in the calculations.\n",
    "        coin.reset_index(inplace=True)\n",
    "        coin = coin.rename(columns={\"index\": \"stamp\"})\n",
    "        # The value of the step between two data points.\n",
    "        stamp_steps = pd.Series(coin[\"stamp\"].diff().value_counts().index)\n",
    "        # Start-end date.\n",
    "        max_date = pd.Series(\n",
    "            coin[\"stamp\"].describe(datetime_is_numeric=True).loc[\"max\"]\n",
    "        )\n",
    "        min_date = pd.Series(\n",
    "            coin[\"stamp\"].describe(datetime_is_numeric=True).loc[\"min\"]\n",
    "        )\n",
    "        # Number of timestamps for each coin.\n",
    "        data_points = pd.Series(\n",
    "            coin[\"stamp\"].describe(datetime_is_numeric=True).loc[\"count\"]\n",
    "        )\n",
    "        # Attach calculations to the DataFrame.\n",
    "        stamp_stats = pd.DataFrame()\n",
    "        stamp_stats[\"exchange_id\"] = [exchange_id]\n",
    "        stamp_stats[\"data_points_counts\"] = data_points\n",
    "        stamp_stats[\"NaNs_in_Close\"] = len(coin[coin[\"close\"].isna()])\n",
    "        stamp_stats[\"step_in_stamp\"] = stamp_steps\n",
    "        stamp_stats[\"start_date\"] = min_date\n",
    "        stamp_stats[\"end_date\"] = max_date\n",
    "        stamp_stats.index = [currency_pair]\n",
    "        result.append(stamp_stats)\n",
    "    result = pd.concat(result)\n",
    "    if vendor == \"cdd\":\n",
    "        result = result.add_suffix(\"_cdd\")\n",
    "    else:\n",
    "        result = result.add_suffix(\"_ccxt\")\n",
    "    return result"
   ]
  },
  {
   "cell_type": "markdown",
   "id": "001554a6",
   "metadata": {},
   "source": [
    "## Comparison of intersection of full symbols between CCXT and CDD"
   ]
  },
  {
   "cell_type": "code",
   "execution_count": 25,
   "id": "59007146",
   "metadata": {
    "ExecuteTime": {
     "end_time": "2021-12-20T17:21:02.092933Z",
     "start_time": "2021-12-20T17:21:02.086291Z"
    }
   },
   "outputs": [
    {
     "data": {
      "text/plain": [
       "7"
      ]
     },
     "execution_count": 25,
     "metadata": {},
     "output_type": "execute_result"
    }
   ],
   "source": [
    "# Full symbols that are included in CDD but not in CCXT (cleaned from unavailable full symbols).\n",
    "cdd_and_ccxt_cleaned = set(ccxt_universe).intersection(universe_cdd)\n",
    "len(cdd_and_ccxt_cleaned)"
   ]
  },
  {
   "cell_type": "code",
   "execution_count": 26,
   "id": "f17db3f9",
   "metadata": {
    "ExecuteTime": {
     "end_time": "2021-12-20T17:23:37.367406Z",
     "start_time": "2021-12-20T17:21:02.094555Z"
    },
    "scrolled": true
   },
   "outputs": [
    {
     "name": "stdout",
     "output_type": "stream",
     "text": [
      "Reading CCXT data for exchange id='binance', currencies='SOL_USDT' from file='s3://alphamatic-data/data/ccxt/20210924/binance/SOL_USDT.csv.gz'...\n",
      "Processing CCXT data for exchange id='binance', currencies='SOL_USDT'...\n",
      "Index length increased by 1224 = 576140 - 574916\n",
      "Reading CCXT data for exchange id='binance', currencies='EOS_USDT' from file='s3://alphamatic-data/data/ccxt/20210924/binance/EOS_USDT.csv.gz'...\n",
      "Processing CCXT data for exchange id='binance', currencies='EOS_USDT'...\n",
      "Index length increased by 4520 = 1622444 - 1617924\n",
      "Reading CCXT data for exchange id='binance', currencies='ADA_USDT' from file='s3://alphamatic-data/data/ccxt/20210924/binance/ADA_USDT.csv.gz'...\n",
      "Processing CCXT data for exchange id='binance', currencies='ADA_USDT'...\n",
      "Index length increased by 4520 = 1622000 - 1617480\n",
      "Reading CCXT data for exchange id='binance', currencies='BNB_USDT' from file='s3://alphamatic-data/data/ccxt/20210924/binance/BNB_USDT.csv.gz'...\n",
      "Processing CCXT data for exchange id='binance', currencies='BNB_USDT'...\n",
      "Index length increased by 4520 = 1622295 - 1617775\n",
      "Reading CCXT data for exchange id='binance', currencies='BTC_USDT' from file='s3://alphamatic-data/data/ccxt/20210924/binance/BTC_USDT.csv.gz'...\n",
      "Processing CCXT data for exchange id='binance', currencies='BTC_USDT'...\n",
      "Index length increased by 4519 = 1619641 - 1615122\n",
      "Reading CCXT data for exchange id='binance', currencies='LINK_USDT' from file='s3://alphamatic-data/data/ccxt/20210924/binance/LINK_USDT.csv.gz'...\n",
      "Processing CCXT data for exchange id='binance', currencies='LINK_USDT'...\n",
      "Index length increased by 3890 = 1402520 - 1398630\n",
      "Reading CCXT data for exchange id='binance', currencies='ETH_USDT' from file='s3://alphamatic-data/data/ccxt/20210924/binance/ETH_USDT.csv.gz'...\n",
      "Processing CCXT data for exchange id='binance', currencies='ETH_USDT'...\n",
      "Index length increased by 4520 = 1619889 - 1615369\n",
      "Reading CDD data for exchange id='binance', currencies='SOL_USDT', from file='s3://alphamatic-data/data/cryptodatadownload/20210924/binance/SOL_USDT.csv.gz'...\n",
      "Processing CDD data for exchange id='binance', currencies='SOL_USDT'...\n",
      "Index length increased by 270 = 129252 - 128982\n",
      "Reading CDD data for exchange id='binance', currencies='EOS_USDT', from file='s3://alphamatic-data/data/cryptodatadownload/20210924/binance/EOS_USDT.csv.gz'...\n",
      "Processing CDD data for exchange id='binance', currencies='EOS_USDT'...\n",
      "Index length increased by 5289 = 888096 - 882807\n",
      "Reading CDD data for exchange id='binance', currencies='ADA_USDT', from file='s3://alphamatic-data/data/cryptodatadownload/20210924/binance/ADA_USDT.csv.gz'...\n",
      "Processing CDD data for exchange id='binance', currencies='ADA_USDT'...\n",
      "Index length increased by 5288 = 854976 - 849688\n",
      "Reading CDD data for exchange id='binance', currencies='BNB_USDT', from file='s3://alphamatic-data/data/cryptodatadownload/20210924/binance/BNB_USDT.csv.gz'...\n",
      "Processing CDD data for exchange id='binance', currencies='BNB_USDT'...\n",
      "Index length increased by 5289 = 840575 - 835286\n",
      "Reading CDD data for exchange id='binance', currencies='BTC_USDT', from file='s3://alphamatic-data/data/cryptodatadownload/20210924/binance/BTC_USDT.csv.gz'...\n",
      "Processing CDD data for exchange id='binance', currencies='BTC_USDT'...\n",
      "Index length increased by 5289 = 1063179 - 1057890\n",
      "Reading CDD data for exchange id='binance', currencies='LINK_USDT', from file='s3://alphamatic-data/data/cryptodatadownload/20210924/binance/LINK_USDT.csv.gz'...\n",
      "Processing CDD data for exchange id='binance', currencies='LINK_USDT'...\n",
      "Index length increased by 5289 = 875139 - 869850\n",
      "Reading CDD data for exchange id='binance', currencies='ETH_USDT', from file='s3://alphamatic-data/data/cryptodatadownload/20210924/binance/ETH_USDT.csv.gz'...\n",
      "Processing CDD data for exchange id='binance', currencies='ETH_USDT'...\n",
      "Index length increased by 5288 = 948591 - 943303\n"
     ]
    }
   ],
   "source": [
    "# Load the intersection of full symbols for CDD and CCXT.\n",
    "stats_for_stamps_ccxt = calculate_statistics_for_stamps(\n",
    "    cdd_and_ccxt_cleaned, vendor=\"ccxt\"\n",
    ")\n",
    "stats_for_stamps_cdd_union = calculate_statistics_for_stamps(\n",
    "    cdd_and_ccxt_cleaned, vendor=\"cdd\"\n",
    ")"
   ]
  },
  {
   "cell_type": "code",
   "execution_count": 27,
   "id": "e8bed7ef",
   "metadata": {
    "ExecuteTime": {
     "end_time": "2021-12-20T17:23:37.390630Z",
     "start_time": "2021-12-20T17:23:37.370860Z"
    }
   },
   "outputs": [
    {
     "data": {
      "text/html": [
       "<div>\n",
       "<style scoped>\n",
       "    .dataframe tbody tr th:only-of-type {\n",
       "        vertical-align: middle;\n",
       "    }\n",
       "\n",
       "    .dataframe tbody tr th {\n",
       "        vertical-align: top;\n",
       "    }\n",
       "\n",
       "    .dataframe thead th {\n",
       "        text-align: right;\n",
       "    }\n",
       "</style>\n",
       "<table border=\"1\" class=\"dataframe\">\n",
       "  <thead>\n",
       "    <tr style=\"text-align: right;\">\n",
       "      <th></th>\n",
       "      <th>exchange_id_cdd</th>\n",
       "      <th>data_points_counts_cdd</th>\n",
       "      <th>NaNs_in_Close_cdd</th>\n",
       "      <th>step_in_stamp_cdd</th>\n",
       "      <th>start_date_cdd</th>\n",
       "      <th>end_date_cdd</th>\n",
       "      <th>exchange_id_ccxt</th>\n",
       "      <th>data_points_counts_ccxt</th>\n",
       "      <th>NaNs_in_Close_ccxt</th>\n",
       "      <th>step_in_stamp_ccxt</th>\n",
       "      <th>start_date_ccxt</th>\n",
       "      <th>end_date_ccxt</th>\n",
       "    </tr>\n",
       "  </thead>\n",
       "  <tbody>\n",
       "    <tr>\n",
       "      <th>SOL_USDT</th>\n",
       "      <td>binance</td>\n",
       "      <td>129252</td>\n",
       "      <td>270</td>\n",
       "      <td>0 days 00:01:00</td>\n",
       "      <td>2021-06-06 06:57:00+00:00</td>\n",
       "      <td>2021-09-04 01:08:00+00:00</td>\n",
       "      <td>binance</td>\n",
       "      <td>576140</td>\n",
       "      <td>1224</td>\n",
       "      <td>0 days 00:01:00</td>\n",
       "      <td>2020-08-11 06:00:00+00:00</td>\n",
       "      <td>2021-09-15 08:19:00+00:00</td>\n",
       "    </tr>\n",
       "    <tr>\n",
       "      <th>EOS_USDT</th>\n",
       "      <td>binance</td>\n",
       "      <td>888096</td>\n",
       "      <td>5289</td>\n",
       "      <td>0 days 00:01:00</td>\n",
       "      <td>2020-01-08 08:00:00+00:00</td>\n",
       "      <td>2021-09-16 01:35:00+00:00</td>\n",
       "      <td>binance</td>\n",
       "      <td>1622444</td>\n",
       "      <td>4520</td>\n",
       "      <td>0 days 00:01:00</td>\n",
       "      <td>2018-08-17 00:00:00+00:00</td>\n",
       "      <td>2021-09-16 16:43:00+00:00</td>\n",
       "    </tr>\n",
       "    <tr>\n",
       "      <th>ADA_USDT</th>\n",
       "      <td>binance</td>\n",
       "      <td>854976</td>\n",
       "      <td>5288</td>\n",
       "      <td>0 days 00:01:00</td>\n",
       "      <td>2020-01-31 08:01:00+00:00</td>\n",
       "      <td>2021-09-16 01:36:00+00:00</td>\n",
       "      <td>binance</td>\n",
       "      <td>1622000</td>\n",
       "      <td>4520</td>\n",
       "      <td>0 days 00:01:00</td>\n",
       "      <td>2018-08-17 00:00:00+00:00</td>\n",
       "      <td>2021-09-16 09:19:00+00:00</td>\n",
       "    </tr>\n",
       "    <tr>\n",
       "      <th>BNB_USDT</th>\n",
       "      <td>binance</td>\n",
       "      <td>840575</td>\n",
       "      <td>5289</td>\n",
       "      <td>0 days 00:01:00</td>\n",
       "      <td>2020-02-10 08:01:00+00:00</td>\n",
       "      <td>2021-09-16 01:35:00+00:00</td>\n",
       "      <td>binance</td>\n",
       "      <td>1622295</td>\n",
       "      <td>4520</td>\n",
       "      <td>0 days 00:01:00</td>\n",
       "      <td>2018-08-17 00:00:00+00:00</td>\n",
       "      <td>2021-09-16 14:14:00+00:00</td>\n",
       "    </tr>\n",
       "    <tr>\n",
       "      <th>BTC_USDT</th>\n",
       "      <td>binance</td>\n",
       "      <td>1063179</td>\n",
       "      <td>5289</td>\n",
       "      <td>0 days 00:01:00</td>\n",
       "      <td>2019-09-08 17:57:00+00:00</td>\n",
       "      <td>2021-09-16 01:35:00+00:00</td>\n",
       "      <td>binance</td>\n",
       "      <td>1619641</td>\n",
       "      <td>4519</td>\n",
       "      <td>0 days 00:01:00</td>\n",
       "      <td>2018-08-17 00:00:00+00:00</td>\n",
       "      <td>2021-09-14 18:00:00+00:00</td>\n",
       "    </tr>\n",
       "    <tr>\n",
       "      <th>LINK_USDT</th>\n",
       "      <td>binance</td>\n",
       "      <td>875139</td>\n",
       "      <td>5289</td>\n",
       "      <td>0 days 00:01:00</td>\n",
       "      <td>2020-01-17 08:00:00+00:00</td>\n",
       "      <td>2021-09-16 01:38:00+00:00</td>\n",
       "      <td>binance</td>\n",
       "      <td>1402520</td>\n",
       "      <td>3890</td>\n",
       "      <td>0 days 00:01:00</td>\n",
       "      <td>2019-01-16 10:00:00+00:00</td>\n",
       "      <td>2021-09-16 09:19:00+00:00</td>\n",
       "    </tr>\n",
       "    <tr>\n",
       "      <th>ETH_USDT</th>\n",
       "      <td>binance</td>\n",
       "      <td>948591</td>\n",
       "      <td>5288</td>\n",
       "      <td>0 days 00:01:00</td>\n",
       "      <td>2019-11-27 07:45:00+00:00</td>\n",
       "      <td>2021-09-16 01:35:00+00:00</td>\n",
       "      <td>binance</td>\n",
       "      <td>1619889</td>\n",
       "      <td>4520</td>\n",
       "      <td>0 days 00:01:00</td>\n",
       "      <td>2018-08-17 00:00:00+00:00</td>\n",
       "      <td>2021-09-14 22:08:00+00:00</td>\n",
       "    </tr>\n",
       "  </tbody>\n",
       "</table>\n",
       "</div>"
      ],
      "text/plain": [
       "          exchange_id_cdd  data_points_counts_cdd  NaNs_in_Close_cdd step_in_stamp_cdd            start_date_cdd              end_date_cdd exchange_id_ccxt  data_points_counts_ccxt  NaNs_in_Close_ccxt step_in_stamp_ccxt           start_date_ccxt             end_date_ccxt\n",
       "SOL_USDT          binance                  129252                270   0 days 00:01:00 2021-06-06 06:57:00+00:00 2021-09-04 01:08:00+00:00          binance                   576140                1224    0 days 00:01:00 2020-08-11 06:00:00+00:00 2021-09-15 08:19:00+00:00\n",
       "EOS_USDT          binance                  888096               5289   0 days 00:01:00 2020-01-08 08:00:00+00:00 2021-09-16 01:35:00+00:00          binance                  1622444                4520    0 days 00:01:00 2018-08-17 00:00:00+00:00 2021-09-16 16:43:00+00:00\n",
       "ADA_USDT          binance                  854976               5288   0 days 00:01:00 2020-01-31 08:01:00+00:00 2021-09-16 01:36:00+00:00          binance                  1622000                4520    0 days 00:01:00 2018-08-17 00:00:00+00:00 2021-09-16 09:19:00+00:00\n",
       "BNB_USDT          binance                  840575               5289   0 days 00:01:00 2020-02-10 08:01:00+00:00 2021-09-16 01:35:00+00:00          binance                  1622295                4520    0 days 00:01:00 2018-08-17 00:00:00+00:00 2021-09-16 14:14:00+00:00\n",
       "BTC_USDT          binance                 1063179               5289   0 days 00:01:00 2019-09-08 17:57:00+00:00 2021-09-16 01:35:00+00:00          binance                  1619641                4519    0 days 00:01:00 2018-08-17 00:00:00+00:00 2021-09-14 18:00:00+00:00\n",
       "LINK_USDT         binance                  875139               5289   0 days 00:01:00 2020-01-17 08:00:00+00:00 2021-09-16 01:38:00+00:00          binance                  1402520                3890    0 days 00:01:00 2019-01-16 10:00:00+00:00 2021-09-16 09:19:00+00:00\n",
       "ETH_USDT          binance                  948591               5288   0 days 00:01:00 2019-11-27 07:45:00+00:00 2021-09-16 01:35:00+00:00          binance                  1619889                4520    0 days 00:01:00 2018-08-17 00:00:00+00:00 2021-09-14 22:08:00+00:00"
      ]
     },
     "execution_count": 27,
     "metadata": {},
     "output_type": "execute_result"
    }
   ],
   "source": [
    "union_cdd_ccxt_stats = pd.concat(\n",
    "    [stats_for_stamps_cdd_union, stats_for_stamps_ccxt], axis=1\n",
    ")\n",
    "union_cdd_ccxt_stats.sort_values(\"exchange_id_cdd\")"
   ]
  },
  {
   "cell_type": "markdown",
   "id": "5ec25d15",
   "metadata": {},
   "source": [
    "## Comparison of full symbols that are included in CDD but not available in CCXT"
   ]
  },
  {
   "cell_type": "code",
   "execution_count": 28,
   "id": "ce8fec83",
   "metadata": {
    "ExecuteTime": {
     "end_time": "2021-12-20T17:23:37.397209Z",
     "start_time": "2021-12-20T17:23:37.392474Z"
    },
    "scrolled": true
   },
   "outputs": [
    {
     "data": {
      "text/plain": [
       "70"
      ]
     },
     "execution_count": 28,
     "metadata": {},
     "output_type": "execute_result"
    }
   ],
   "source": [
    "# Set of full symbols that are included in CDD but not available in CCXT (cleaned from unavailable full symbols).\n",
    "cdd_and_not_ccxt_cleaned = set(universe_cdd).difference(ccxt_universe)\n",
    "len(cdd_and_not_ccxt_cleaned)"
   ]
  },
  {
   "cell_type": "code",
   "execution_count": 29,
   "id": "181a7523",
   "metadata": {
    "ExecuteTime": {
     "end_time": "2021-12-20T17:23:37.404665Z",
     "start_time": "2021-12-20T17:23:37.399337Z"
    }
   },
   "outputs": [
    {
     "data": {
      "text/plain": [
       "29"
      ]
     },
     "execution_count": 29,
     "metadata": {},
     "output_type": "execute_result"
    }
   ],
   "source": [
    "# Clean the set from non-USDT pairs. \n",
    "cdd_and_not_ccxt_cleaned_usdt = [\n",
    "    element for element in cdd_and_not_ccxt_cleaned if element.endswith(\"USDT\")\n",
    "]\n",
    "len(cdd_and_not_ccxt_cleaned_usdt)"
   ]
  },
  {
   "cell_type": "code",
   "execution_count": 30,
   "id": "df0505fe",
   "metadata": {
    "ExecuteTime": {
     "end_time": "2021-12-20T17:25:56.951936Z",
     "start_time": "2021-12-20T17:23:37.406192Z"
    },
    "run_control": {
     "marked": false
    },
    "scrolled": true
   },
   "outputs": [
    {
     "name": "stdout",
     "output_type": "stream",
     "text": [
      "Reading CDD data for exchange id='binance', currencies='VET_USDT', from file='s3://alphamatic-data/data/cryptodatadownload/20210924/binance/VET_USDT.csv.gz'...\n",
      "Processing CDD data for exchange id='binance', currencies='VET_USDT'...\n",
      "Index length increased by 270 = 129252 - 128982\n",
      "Reading CDD data for exchange id='binance', currencies='LTC_USDT', from file='s3://alphamatic-data/data/cryptodatadownload/20210924/binance/LTC_USDT.csv.gz'...\n",
      "Processing CDD data for exchange id='binance', currencies='LTC_USDT'...\n",
      "Index length increased by 5288 = 886647 - 881359\n",
      "Reading CDD data for exchange id='binance', currencies='AAVE_USDT', from file='s3://alphamatic-data/data/cryptodatadownload/20210924/binance/AAVE_USDT.csv.gz'...\n",
      "Processing CDD data for exchange id='binance', currencies='AAVE_USDT'...\n",
      "Index length increased by 270 = 129252 - 128982\n",
      "Reading CDD data for exchange id='binance', currencies='ICP_USDT', from file='s3://alphamatic-data/data/cryptodatadownload/20210924/binance/ICP_USDT.csv.gz'...\n",
      "Processing CDD data for exchange id='binance', currencies='ICP_USDT'...\n",
      "Index length increased by 270 = 133572 - 133302\n",
      "Reading CDD data for exchange id='binance', currencies='XLM_USDT', from file='s3://alphamatic-data/data/cryptodatadownload/20210924/binance/XLM_USDT.csv.gz'...\n",
      "Processing CDD data for exchange id='binance', currencies='XLM_USDT'...\n",
      "Index length increased by 5288 = 870814 - 865526\n",
      "Reading CDD data for exchange id='binance', currencies='MKR_USDT', from file='s3://alphamatic-data/data/cryptodatadownload/20210924/binance/MKR_USDT.csv.gz'...\n",
      "Processing CDD data for exchange id='binance', currencies='MKR_USDT'...\n",
      "Index length increased by 270 = 120584 - 120314\n",
      "Reading CDD data for exchange id='binance', currencies='CELR_USDT', from file='s3://alphamatic-data/data/cryptodatadownload/20210924/binance/CELR_USDT.csv.gz'...\n",
      "Processing CDD data for exchange id='binance', currencies='CELR_USDT'...\n",
      "Index length increased by 5288 = 531656 - 526368\n",
      "Reading CDD data for exchange id='binance', currencies='QTUM_USDT', from file='s3://alphamatic-data/data/cryptodatadownload/20210924/binance/QTUM_USDT.csv.gz'...\n",
      "Processing CDD data for exchange id='binance', currencies='QTUM_USDT'...\n",
      "Index length increased by 5289 = 826171 - 820882\n",
      "Reading CDD data for exchange id='binance', currencies='XMR_USDT', from file='s3://alphamatic-data/data/cryptodatadownload/20210924/binance/XMR_USDT.csv.gz'...\n",
      "Processing CDD data for exchange id='binance', currencies='XMR_USDT'...\n",
      "Index length increased by 5288 = 850654 - 845366\n",
      "Reading CDD data for exchange id='binance', currencies='ETC_USDT', from file='s3://alphamatic-data/data/cryptodatadownload/20210924/binance/ETC_USDT.csv.gz'...\n",
      "Processing CDD data for exchange id='binance', currencies='ETC_USDT'...\n",
      "Index length increased by 5289 = 876576 - 871287\n",
      "Reading CDD data for exchange id='binance', currencies='CVC_USDT', from file='s3://alphamatic-data/data/cryptodatadownload/20210924/binance/CVC_USDT.csv.gz'...\n",
      "Processing CDD data for exchange id='binance', currencies='CVC_USDT'...\n",
      "Index length increased by 270 = 411460 - 411190\n",
      "Reading CDD data for exchange id='binance', currencies='DOT_USDT', from file='s3://alphamatic-data/data/cryptodatadownload/20210924/binance/DOT_USDT.csv.gz'...\n",
      "Processing CDD data for exchange id='binance', currencies='DOT_USDT'...\n",
      "Index length increased by 270 = 133572 - 133302\n",
      "Reading CDD data for exchange id='binance', currencies='ONE_USDT', from file='s3://alphamatic-data/data/cryptodatadownload/20210924/binance/ONE_USDT.csv.gz'...\n",
      "Processing CDD data for exchange id='binance', currencies='ONE_USDT'...\n",
      "Index length increased by 5288 = 531656 - 526368\n",
      "Reading CDD data for exchange id='binance', currencies='BAT_USDT', from file='s3://alphamatic-data/data/cryptodatadownload/20210924/binance/BAT_USDT.csv.gz'...\n",
      "Processing CDD data for exchange id='binance', currencies='BAT_USDT'...\n",
      "Index length increased by 5289 = 836252 - 830963\n",
      "Reading CDD data for exchange id='binance', currencies='UNI_USDT', from file='s3://alphamatic-data/data/cryptodatadownload/20210924/binance/UNI_USDT.csv.gz'...\n",
      "Processing CDD data for exchange id='binance', currencies='UNI_USDT'...\n",
      "Index length increased by 270 = 133572 - 133302\n",
      "Reading CDD data for exchange id='binance', currencies='FIL_USDT', from file='s3://alphamatic-data/data/cryptodatadownload/20210924/binance/FIL_USDT.csv.gz'...\n",
      "Processing CDD data for exchange id='binance', currencies='FIL_USDT'...\n",
      "Index length increased by 270 = 129252 - 128982\n",
      "Reading CDD data for exchange id='binance', currencies='MATIC_USDT', from file='s3://alphamatic-data/data/cryptodatadownload/20210924/binance/MATIC_USDT.csv.gz'...\n",
      "Processing CDD data for exchange id='binance', currencies='MATIC_USDT'...\n",
      "Index length increased by 5288 = 531656 - 526368\n",
      "Reading CDD data for exchange id='binance', currencies='XRP_USDT', from file='s3://alphamatic-data/data/cryptodatadownload/20210924/binance/XRP_USDT.csv.gz'...\n",
      "Processing CDD data for exchange id='binance', currencies='XRP_USDT'...\n",
      "Index length increased by 5288 = 890955 - 885667\n",
      "Reading CDD data for exchange id='binance', currencies='PAX_USDT', from file='s3://alphamatic-data/data/cryptodatadownload/20210924/binance/PAX_USDT.csv.gz'...\n",
      "Processing CDD data for exchange id='binance', currencies='PAX_USDT'...\n",
      "Index length increased by 5288 = 517399 - 512111\n",
      "Reading CDD data for exchange id='binance', currencies='USDC_USDT', from file='s3://alphamatic-data/data/cryptodatadownload/20210924/binance/USDC_USDT.csv.gz'...\n",
      "Processing CDD data for exchange id='binance', currencies='USDC_USDT'...\n",
      "Index length increased by 5288 = 531656 - 526368\n",
      "Reading CDD data for exchange id='binance', currencies='DASH_USDT', from file='s3://alphamatic-data/data/cryptodatadownload/20210924/binance/DASH_USDT.csv.gz'...\n",
      "Processing CDD data for exchange id='binance', currencies='DASH_USDT'...\n",
      "Index length increased by 5289 = 849211 - 843922\n",
      "Reading CDD data for exchange id='binance', currencies='DAI_USDT', from file='s3://alphamatic-data/data/cryptodatadownload/20210924/binance/DAI_USDT.csv.gz'...\n",
      "Processing CDD data for exchange id='binance', currencies='DAI_USDT'...\n",
      "Index length=1000 has not changed\n",
      "Reading CDD data for exchange id='binance', currencies='ZEC_USDT', from file='s3://alphamatic-data/data/cryptodatadownload/20210924/binance/ZEC_USDT.csv.gz'...\n",
      "Processing CDD data for exchange id='binance', currencies='ZEC_USDT'...\n",
      "Index length increased by 5289 = 847776 - 842487\n",
      "Reading CDD data for exchange id='binance', currencies='BTT_USDT', from file='s3://alphamatic-data/data/cryptodatadownload/20210924/binance/BTT_USDT.csv.gz'...\n",
      "Processing CDD data for exchange id='binance', currencies='BTT_USDT'...\n",
      "Index length increased by 5288 = 531656 - 526368\n",
      "Reading CDD data for exchange id='binance', currencies='NEO_USDT', from file='s3://alphamatic-data/data/cryptodatadownload/20210924/binance/NEO_USDT.csv.gz'...\n",
      "Processing CDD data for exchange id='binance', currencies='NEO_USDT'...\n",
      "Index length increased by 5289 = 830452 - 825163\n",
      "Reading CDD data for exchange id='binance', currencies='TRX_USDT', from file='s3://alphamatic-data/data/cryptodatadownload/20210924/binance/TRX_USDT.csv.gz'...\n",
      "Processing CDD data for exchange id='binance', currencies='TRX_USDT'...\n",
      "Index length increased by 5289 = 878012 - 872723\n",
      "Reading CDD data for exchange id='binance', currencies='ICX_USDT', from file='s3://alphamatic-data/data/cryptodatadownload/20210924/binance/ICX_USDT.csv.gz'...\n",
      "Processing CDD data for exchange id='binance', currencies='ICX_USDT'...\n",
      "Index length increased by 270 = 113356 - 113086\n",
      "Reading CDD data for exchange id='binance', currencies='LRC_USDT', from file='s3://alphamatic-data/data/cryptodatadownload/20210924/binance/LRC_USDT.csv.gz'...\n",
      "Processing CDD data for exchange id='binance', currencies='LRC_USDT'...\n",
      "Index length increased by 270 = 444576 - 444306\n",
      "Reading CDD data for exchange id='binance', currencies='TUSD_USDT', from file='s3://alphamatic-data/data/cryptodatadownload/20210924/binance/TUSD_USDT.csv.gz'...\n",
      "Processing CDD data for exchange id='binance', currencies='TUSD_USDT'...\n",
      "Index length increased by 5288 = 531656 - 526368\n"
     ]
    }
   ],
   "source": [
    "stats_for_stamps_cdd = calculate_statistics_for_stamps(\n",
    "    cdd_and_not_ccxt_cleaned_usdt, vendor=\"cdd\"\n",
    ")"
   ]
  },
  {
   "cell_type": "markdown",
   "id": "0b23773c",
   "metadata": {},
   "source": [
    "Currently there are the following descriptive statistics:\n",
    "\n",
    "- index - currency pair\n",
    "- exchange_id - exchange_id\n",
    "- data_points_counts - number of timestamps for each coin\n",
    "- NaNs_in_Close - number of NaNs in \"close\"\n",
    "- step_in_stamp - value counts of steps between timestamps\n",
    "- start_date\n",
    "- end_date\n",
    "\n",
    "What else can be added here?"
   ]
  },
  {
   "cell_type": "code",
   "execution_count": 31,
   "id": "95190528",
   "metadata": {
    "ExecuteTime": {
     "end_time": "2021-12-20T17:25:56.970310Z",
     "start_time": "2021-12-20T17:25:56.953574Z"
    }
   },
   "outputs": [
    {
     "data": {
      "text/html": [
       "<div>\n",
       "<style scoped>\n",
       "    .dataframe tbody tr th:only-of-type {\n",
       "        vertical-align: middle;\n",
       "    }\n",
       "\n",
       "    .dataframe tbody tr th {\n",
       "        vertical-align: top;\n",
       "    }\n",
       "\n",
       "    .dataframe thead th {\n",
       "        text-align: right;\n",
       "    }\n",
       "</style>\n",
       "<table border=\"1\" class=\"dataframe\">\n",
       "  <thead>\n",
       "    <tr style=\"text-align: right;\">\n",
       "      <th></th>\n",
       "      <th>exchange_id_cdd</th>\n",
       "      <th>data_points_counts_cdd</th>\n",
       "      <th>NaNs_in_Close_cdd</th>\n",
       "      <th>step_in_stamp_cdd</th>\n",
       "      <th>start_date_cdd</th>\n",
       "      <th>end_date_cdd</th>\n",
       "    </tr>\n",
       "  </thead>\n",
       "  <tbody>\n",
       "    <tr>\n",
       "      <th>VET_USDT</th>\n",
       "      <td>binance</td>\n",
       "      <td>129252</td>\n",
       "      <td>270</td>\n",
       "      <td>0 days 00:01:00</td>\n",
       "      <td>2021-06-06 06:57:00+00:00</td>\n",
       "      <td>2021-09-04 01:08:00+00:00</td>\n",
       "    </tr>\n",
       "    <tr>\n",
       "      <th>ICX_USDT</th>\n",
       "      <td>binance</td>\n",
       "      <td>113356</td>\n",
       "      <td>270</td>\n",
       "      <td>0 days 00:01:00</td>\n",
       "      <td>2021-06-06 07:24:00+00:00</td>\n",
       "      <td>2021-08-24 00:39:00+00:00</td>\n",
       "    </tr>\n",
       "    <tr>\n",
       "      <th>TRX_USDT</th>\n",
       "      <td>binance</td>\n",
       "      <td>878012</td>\n",
       "      <td>5289</td>\n",
       "      <td>0 days 00:01:00</td>\n",
       "      <td>2020-01-15 08:05:00+00:00</td>\n",
       "      <td>2021-09-16 01:36:00+00:00</td>\n",
       "    </tr>\n",
       "    <tr>\n",
       "      <th>NEO_USDT</th>\n",
       "      <td>binance</td>\n",
       "      <td>830452</td>\n",
       "      <td>5289</td>\n",
       "      <td>0 days 00:01:00</td>\n",
       "      <td>2020-02-17 08:45:00+00:00</td>\n",
       "      <td>2021-09-16 01:36:00+00:00</td>\n",
       "    </tr>\n",
       "    <tr>\n",
       "      <th>BTT_USDT</th>\n",
       "      <td>binance</td>\n",
       "      <td>531656</td>\n",
       "      <td>5288</td>\n",
       "      <td>0 days 00:01:00</td>\n",
       "      <td>2020-09-11 20:41:00+00:00</td>\n",
       "      <td>2021-09-16 01:36:00+00:00</td>\n",
       "    </tr>\n",
       "    <tr>\n",
       "      <th>ZEC_USDT</th>\n",
       "      <td>binance</td>\n",
       "      <td>847776</td>\n",
       "      <td>5289</td>\n",
       "      <td>0 days 00:01:00</td>\n",
       "      <td>2020-02-05 08:01:00+00:00</td>\n",
       "      <td>2021-09-16 01:36:00+00:00</td>\n",
       "    </tr>\n",
       "    <tr>\n",
       "      <th>DAI_USDT</th>\n",
       "      <td>binance</td>\n",
       "      <td>1000</td>\n",
       "      <td>0</td>\n",
       "      <td>0 days 00:01:00</td>\n",
       "      <td>2020-08-11 11:20:00+00:00</td>\n",
       "      <td>2020-08-12 03:59:00+00:00</td>\n",
       "    </tr>\n",
       "    <tr>\n",
       "      <th>DASH_USDT</th>\n",
       "      <td>binance</td>\n",
       "      <td>849211</td>\n",
       "      <td>5289</td>\n",
       "      <td>0 days 00:01:00</td>\n",
       "      <td>2020-02-04 08:06:00+00:00</td>\n",
       "      <td>2021-09-16 01:36:00+00:00</td>\n",
       "    </tr>\n",
       "    <tr>\n",
       "      <th>USDC_USDT</th>\n",
       "      <td>binance</td>\n",
       "      <td>531656</td>\n",
       "      <td>5288</td>\n",
       "      <td>0 days 00:01:00</td>\n",
       "      <td>2020-09-11 20:41:00+00:00</td>\n",
       "      <td>2021-09-16 01:36:00+00:00</td>\n",
       "    </tr>\n",
       "    <tr>\n",
       "      <th>PAX_USDT</th>\n",
       "      <td>binance</td>\n",
       "      <td>517399</td>\n",
       "      <td>5288</td>\n",
       "      <td>0 days 00:01:00</td>\n",
       "      <td>2020-09-11 20:41:00+00:00</td>\n",
       "      <td>2021-09-06 03:59:00+00:00</td>\n",
       "    </tr>\n",
       "    <tr>\n",
       "      <th>XRP_USDT</th>\n",
       "      <td>binance</td>\n",
       "      <td>890955</td>\n",
       "      <td>5288</td>\n",
       "      <td>0 days 00:01:00</td>\n",
       "      <td>2020-01-06 08:21:00+00:00</td>\n",
       "      <td>2021-09-16 01:35:00+00:00</td>\n",
       "    </tr>\n",
       "    <tr>\n",
       "      <th>MATIC_USDT</th>\n",
       "      <td>binance</td>\n",
       "      <td>531656</td>\n",
       "      <td>5288</td>\n",
       "      <td>0 days 00:01:00</td>\n",
       "      <td>2020-09-11 20:41:00+00:00</td>\n",
       "      <td>2021-09-16 01:36:00+00:00</td>\n",
       "    </tr>\n",
       "    <tr>\n",
       "      <th>FIL_USDT</th>\n",
       "      <td>binance</td>\n",
       "      <td>129252</td>\n",
       "      <td>270</td>\n",
       "      <td>0 days 00:01:00</td>\n",
       "      <td>2021-06-06 06:57:00+00:00</td>\n",
       "      <td>2021-09-04 01:08:00+00:00</td>\n",
       "    </tr>\n",
       "    <tr>\n",
       "      <th>LRC_USDT</th>\n",
       "      <td>binance</td>\n",
       "      <td>444576</td>\n",
       "      <td>270</td>\n",
       "      <td>0 days 00:01:00</td>\n",
       "      <td>2020-10-19 07:05:00+00:00</td>\n",
       "      <td>2021-08-24 00:40:00+00:00</td>\n",
       "    </tr>\n",
       "    <tr>\n",
       "      <th>UNI_USDT</th>\n",
       "      <td>binance</td>\n",
       "      <td>133572</td>\n",
       "      <td>270</td>\n",
       "      <td>0 days 00:01:00</td>\n",
       "      <td>2021-06-06 06:57:00+00:00</td>\n",
       "      <td>2021-09-07 01:08:00+00:00</td>\n",
       "    </tr>\n",
       "    <tr>\n",
       "      <th>ONE_USDT</th>\n",
       "      <td>binance</td>\n",
       "      <td>531656</td>\n",
       "      <td>5288</td>\n",
       "      <td>0 days 00:01:00</td>\n",
       "      <td>2020-09-11 20:41:00+00:00</td>\n",
       "      <td>2021-09-16 01:36:00+00:00</td>\n",
       "    </tr>\n",
       "    <tr>\n",
       "      <th>DOT_USDT</th>\n",
       "      <td>binance</td>\n",
       "      <td>133572</td>\n",
       "      <td>270</td>\n",
       "      <td>0 days 00:01:00</td>\n",
       "      <td>2021-06-06 06:57:00+00:00</td>\n",
       "      <td>2021-09-07 01:08:00+00:00</td>\n",
       "    </tr>\n",
       "    <tr>\n",
       "      <th>CVC_USDT</th>\n",
       "      <td>binance</td>\n",
       "      <td>411460</td>\n",
       "      <td>270</td>\n",
       "      <td>0 days 00:01:00</td>\n",
       "      <td>2020-11-11 07:00:00+00:00</td>\n",
       "      <td>2021-08-24 00:39:00+00:00</td>\n",
       "    </tr>\n",
       "    <tr>\n",
       "      <th>ETC_USDT</th>\n",
       "      <td>binance</td>\n",
       "      <td>876576</td>\n",
       "      <td>5289</td>\n",
       "      <td>0 days 00:01:00</td>\n",
       "      <td>2020-01-16 08:01:00+00:00</td>\n",
       "      <td>2021-09-16 01:36:00+00:00</td>\n",
       "    </tr>\n",
       "    <tr>\n",
       "      <th>XMR_USDT</th>\n",
       "      <td>binance</td>\n",
       "      <td>850654</td>\n",
       "      <td>5288</td>\n",
       "      <td>0 days 00:01:00</td>\n",
       "      <td>2020-02-03 08:03:00+00:00</td>\n",
       "      <td>2021-09-16 01:36:00+00:00</td>\n",
       "    </tr>\n",
       "    <tr>\n",
       "      <th>QTUM_USDT</th>\n",
       "      <td>binance</td>\n",
       "      <td>826171</td>\n",
       "      <td>5289</td>\n",
       "      <td>0 days 00:01:00</td>\n",
       "      <td>2020-02-20 08:06:00+00:00</td>\n",
       "      <td>2021-09-16 01:36:00+00:00</td>\n",
       "    </tr>\n",
       "    <tr>\n",
       "      <th>CELR_USDT</th>\n",
       "      <td>binance</td>\n",
       "      <td>531656</td>\n",
       "      <td>5288</td>\n",
       "      <td>0 days 00:01:00</td>\n",
       "      <td>2020-09-11 20:41:00+00:00</td>\n",
       "      <td>2021-09-16 01:36:00+00:00</td>\n",
       "    </tr>\n",
       "    <tr>\n",
       "      <th>MKR_USDT</th>\n",
       "      <td>binance</td>\n",
       "      <td>120584</td>\n",
       "      <td>270</td>\n",
       "      <td>0 days 00:01:00</td>\n",
       "      <td>2021-06-06 06:57:00+00:00</td>\n",
       "      <td>2021-08-29 00:40:00+00:00</td>\n",
       "    </tr>\n",
       "    <tr>\n",
       "      <th>XLM_USDT</th>\n",
       "      <td>binance</td>\n",
       "      <td>870814</td>\n",
       "      <td>5288</td>\n",
       "      <td>0 days 00:01:00</td>\n",
       "      <td>2020-01-20 08:03:00+00:00</td>\n",
       "      <td>2021-09-16 01:36:00+00:00</td>\n",
       "    </tr>\n",
       "    <tr>\n",
       "      <th>ICP_USDT</th>\n",
       "      <td>binance</td>\n",
       "      <td>133572</td>\n",
       "      <td>270</td>\n",
       "      <td>0 days 00:01:00</td>\n",
       "      <td>2021-06-06 06:57:00+00:00</td>\n",
       "      <td>2021-09-07 01:08:00+00:00</td>\n",
       "    </tr>\n",
       "    <tr>\n",
       "      <th>AAVE_USDT</th>\n",
       "      <td>binance</td>\n",
       "      <td>129252</td>\n",
       "      <td>270</td>\n",
       "      <td>0 days 00:01:00</td>\n",
       "      <td>2021-06-06 06:57:00+00:00</td>\n",
       "      <td>2021-09-04 01:08:00+00:00</td>\n",
       "    </tr>\n",
       "    <tr>\n",
       "      <th>LTC_USDT</th>\n",
       "      <td>binance</td>\n",
       "      <td>886647</td>\n",
       "      <td>5288</td>\n",
       "      <td>0 days 00:01:00</td>\n",
       "      <td>2020-01-09 08:09:00+00:00</td>\n",
       "      <td>2021-09-16 01:35:00+00:00</td>\n",
       "    </tr>\n",
       "    <tr>\n",
       "      <th>BAT_USDT</th>\n",
       "      <td>binance</td>\n",
       "      <td>836252</td>\n",
       "      <td>5289</td>\n",
       "      <td>0 days 00:01:00</td>\n",
       "      <td>2020-02-13 08:05:00+00:00</td>\n",
       "      <td>2021-09-16 01:36:00+00:00</td>\n",
       "    </tr>\n",
       "    <tr>\n",
       "      <th>TUSD_USDT</th>\n",
       "      <td>binance</td>\n",
       "      <td>531656</td>\n",
       "      <td>5288</td>\n",
       "      <td>0 days 00:01:00</td>\n",
       "      <td>2020-09-11 20:41:00+00:00</td>\n",
       "      <td>2021-09-16 01:36:00+00:00</td>\n",
       "    </tr>\n",
       "  </tbody>\n",
       "</table>\n",
       "</div>"
      ],
      "text/plain": [
       "           exchange_id_cdd  data_points_counts_cdd  NaNs_in_Close_cdd step_in_stamp_cdd            start_date_cdd              end_date_cdd\n",
       "VET_USDT           binance                  129252                270   0 days 00:01:00 2021-06-06 06:57:00+00:00 2021-09-04 01:08:00+00:00\n",
       "ICX_USDT           binance                  113356                270   0 days 00:01:00 2021-06-06 07:24:00+00:00 2021-08-24 00:39:00+00:00\n",
       "TRX_USDT           binance                  878012               5289   0 days 00:01:00 2020-01-15 08:05:00+00:00 2021-09-16 01:36:00+00:00\n",
       "NEO_USDT           binance                  830452               5289   0 days 00:01:00 2020-02-17 08:45:00+00:00 2021-09-16 01:36:00+00:00\n",
       "BTT_USDT           binance                  531656               5288   0 days 00:01:00 2020-09-11 20:41:00+00:00 2021-09-16 01:36:00+00:00\n",
       "ZEC_USDT           binance                  847776               5289   0 days 00:01:00 2020-02-05 08:01:00+00:00 2021-09-16 01:36:00+00:00\n",
       "DAI_USDT           binance                    1000                  0   0 days 00:01:00 2020-08-11 11:20:00+00:00 2020-08-12 03:59:00+00:00\n",
       "DASH_USDT          binance                  849211               5289   0 days 00:01:00 2020-02-04 08:06:00+00:00 2021-09-16 01:36:00+00:00\n",
       "USDC_USDT          binance                  531656               5288   0 days 00:01:00 2020-09-11 20:41:00+00:00 2021-09-16 01:36:00+00:00\n",
       "PAX_USDT           binance                  517399               5288   0 days 00:01:00 2020-09-11 20:41:00+00:00 2021-09-06 03:59:00+00:00\n",
       "XRP_USDT           binance                  890955               5288   0 days 00:01:00 2020-01-06 08:21:00+00:00 2021-09-16 01:35:00+00:00\n",
       "MATIC_USDT         binance                  531656               5288   0 days 00:01:00 2020-09-11 20:41:00+00:00 2021-09-16 01:36:00+00:00\n",
       "FIL_USDT           binance                  129252                270   0 days 00:01:00 2021-06-06 06:57:00+00:00 2021-09-04 01:08:00+00:00\n",
       "LRC_USDT           binance                  444576                270   0 days 00:01:00 2020-10-19 07:05:00+00:00 2021-08-24 00:40:00+00:00\n",
       "UNI_USDT           binance                  133572                270   0 days 00:01:00 2021-06-06 06:57:00+00:00 2021-09-07 01:08:00+00:00\n",
       "ONE_USDT           binance                  531656               5288   0 days 00:01:00 2020-09-11 20:41:00+00:00 2021-09-16 01:36:00+00:00\n",
       "DOT_USDT           binance                  133572                270   0 days 00:01:00 2021-06-06 06:57:00+00:00 2021-09-07 01:08:00+00:00\n",
       "CVC_USDT           binance                  411460                270   0 days 00:01:00 2020-11-11 07:00:00+00:00 2021-08-24 00:39:00+00:00\n",
       "ETC_USDT           binance                  876576               5289   0 days 00:01:00 2020-01-16 08:01:00+00:00 2021-09-16 01:36:00+00:00\n",
       "XMR_USDT           binance                  850654               5288   0 days 00:01:00 2020-02-03 08:03:00+00:00 2021-09-16 01:36:00+00:00\n",
       "QTUM_USDT          binance                  826171               5289   0 days 00:01:00 2020-02-20 08:06:00+00:00 2021-09-16 01:36:00+00:00\n",
       "CELR_USDT          binance                  531656               5288   0 days 00:01:00 2020-09-11 20:41:00+00:00 2021-09-16 01:36:00+00:00\n",
       "MKR_USDT           binance                  120584                270   0 days 00:01:00 2021-06-06 06:57:00+00:00 2021-08-29 00:40:00+00:00\n",
       "XLM_USDT           binance                  870814               5288   0 days 00:01:00 2020-01-20 08:03:00+00:00 2021-09-16 01:36:00+00:00\n",
       "ICP_USDT           binance                  133572                270   0 days 00:01:00 2021-06-06 06:57:00+00:00 2021-09-07 01:08:00+00:00\n",
       "AAVE_USDT          binance                  129252                270   0 days 00:01:00 2021-06-06 06:57:00+00:00 2021-09-04 01:08:00+00:00\n",
       "LTC_USDT           binance                  886647               5288   0 days 00:01:00 2020-01-09 08:09:00+00:00 2021-09-16 01:35:00+00:00\n",
       "BAT_USDT           binance                  836252               5289   0 days 00:01:00 2020-02-13 08:05:00+00:00 2021-09-16 01:36:00+00:00\n",
       "TUSD_USDT          binance                  531656               5288   0 days 00:01:00 2020-09-11 20:41:00+00:00 2021-09-16 01:36:00+00:00"
      ]
     },
     "execution_count": 31,
     "metadata": {},
     "output_type": "execute_result"
    }
   ],
   "source": [
    "stats_for_stamps_cdd.sort_values(\"exchange_id_cdd\")"
   ]
  }
 ],
 "metadata": {
  "kernelspec": {
   "display_name": "Python 3 (ipykernel)",
   "language": "python",
   "name": "python3"
  },
  "language_info": {
   "codemirror_mode": {
    "name": "ipython",
    "version": 3
   },
   "file_extension": ".py",
   "mimetype": "text/x-python",
   "name": "python",
   "nbconvert_exporter": "python",
   "pygments_lexer": "ipython3",
   "version": "3.8.10"
  },
  "toc": {
   "base_numbering": 1,
   "nav_menu": {},
   "number_sections": true,
   "sideBar": true,
   "skip_h1_title": false,
   "title_cell": "Table of Contents",
   "title_sidebar": "Contents",
   "toc_cell": false,
   "toc_position": {},
   "toc_section_display": true,
   "toc_window_display": false
  }
 },
 "nbformat": 4,
 "nbformat_minor": 5
}
