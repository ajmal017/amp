{
 "cells": [
  {
   "cell_type": "markdown",
   "id": "2d5b9812",
   "metadata": {},
   "source": [
    "# Imports"
   ]
  },
  {
   "cell_type": "code",
   "execution_count": 1,
   "id": "df02857b",
   "metadata": {
    "ExecuteTime": {
     "end_time": "2021-12-16T10:53:43.155409Z",
     "start_time": "2021-12-16T10:53:42.580191Z"
    }
   },
   "outputs": [],
   "source": [
    "import logging\n",
    "import os\n",
    "\n",
    "import pandas as pd\n",
    "\n",
    "import helpers.dbg as hdbg\n",
    "import helpers.env as henv\n",
    "import helpers.printing as hprint\n",
    "import helpers.s3 as hs3\n",
    "import im.cryptodatadownload.data.load.loader as imcdalolo\n",
    "import im_v2.ccxt.data.client.clients as imvcdclcl\n",
    "import im_v2.ccxt.universe.universe as imvccunun\n",
    "import im_v2.common.data.client.clients as ivcdclcl"
   ]
  },
  {
   "cell_type": "code",
   "execution_count": 2,
   "id": "e2f361e4",
   "metadata": {
    "ExecuteTime": {
     "end_time": "2021-12-16T10:53:45.801215Z",
     "start_time": "2021-12-16T10:53:43.157697Z"
    },
    "scrolled": true
   },
   "outputs": [
    {
     "name": "stdout",
     "output_type": "stream",
     "text": [
      "\u001b[0m\u001b[36mINFO\u001b[0m: > cmd='/venv/lib/python3.8/site-packages/ipykernel_launcher.py -f /home/.local/share/jupyter/runtime/kernel-02f7a15b-3d5b-45e7-955e-d0e32da951ea.json'\n",
      "\u001b[33mWARNING\u001b[0m: Running in Jupyter\n",
      ">>ENV<<: is_inside_container=True: code_version=cmamp-1.0.3, container_version=cmamp-1.0.3, is_inside_docker=True, is_inside_ci=False, CI_defined=True, CI=''\n",
      ">>ENV<<: AM_AWS_PROFILE=True AM_ECR_BASE_PATH=True AM_S3_BUCKET=True AM_TELEGRAM_TOKEN=True AWS_ACCESS_KEY_ID=False AWS_DEFAULT_REGION=False AWS_SECRET_ACCESS_KEY=False GH_ACTION_ACCESS_TOKEN=True\n",
      "generated new fontManager\n",
      "# Git\n",
      "    branch_name='master'\n",
      "    hash='8774fb65b'\n",
      "    # Last commits:\n",
      "      * 8774fb65b cryptomtc Amp task1955 lint 20211215 (#771)                                 (  10 hours ago) Thu Dec 16 01:22:06 2021  (HEAD -> master, origin/master, origin/HEAD)\n",
      "      * c5ca50025 cryptomtc Amp task1786 integrate 20211214 (#763)                            (  11 hours ago) Thu Dec 16 00:14:21 2021           \n",
      "      * 87b5f8ada Nikola Jašek CMTask767: Add simple SQL query helper (#768)                     (  14 hours ago) Wed Dec 15 20:25:15 2021           \n",
      "# Machine info\n",
      "    system=Linux\n",
      "    node name=ecbb2a48d666\n",
      "    release=5.4.0-1057-aws\n",
      "    version=#60~18.04.1-Ubuntu SMP Thu Sep 9 20:38:09 UTC 2021\n",
      "    machine=x86_64\n",
      "    processor=x86_64\n",
      "    cpu count=4\n",
      "    cpu freq=scpufreq(current=2499.998, min=0.0, max=0.0)\n",
      "    memory=svmem(total=16596852736, available=14169419776, percent=14.6, used=2028867584, free=6541225984, active=4056358912, inactive=4778721280, buffers=625160192, cached=7401598976, shared=60760064, slab=1003593728)\n",
      "    disk usage=sdiskusage(total=133167038464, used=96269303808, free=36880957440, percent=72.3)\n",
      "# Packages\n",
      "    python: 3.8.10\n",
      "    gluonnlp: ?\n",
      "    gluonts: 0.6.7\n",
      "    joblib: 1.1.0\n",
      "    mxnet: 1.8.0\n",
      "    numpy: 1.21.1\n",
      "    pandas: 1.3.4\n",
      "    pyarrow: 6.0.1\n",
      "    scipy: 1.6.1\n",
      "    seaborn: 0.11.2\n",
      "    sklearn: 1.0.1\n",
      "    statsmodels: 0.13.1\n",
      "\u001b[33mWARNING\u001b[0m: Disabling annoying warnings\n"
     ]
    }
   ],
   "source": [
    "hdbg.init_logger(verbosity=logging.INFO)\n",
    "\n",
    "_LOG = logging.getLogger(__name__)\n",
    "\n",
    "_LOG.info(\"%s\", henv.get_system_signature()[0])\n",
    "\n",
    "hprint.config_notebook()"
   ]
  },
  {
   "cell_type": "markdown",
   "id": "51702034",
   "metadata": {},
   "source": [
    "# Load the data universe"
   ]
  },
  {
   "cell_type": "markdown",
   "id": "70420724",
   "metadata": {},
   "source": [
    "## CCXT"
   ]
  },
  {
   "cell_type": "code",
   "execution_count": 3,
   "id": "d15816d5",
   "metadata": {
    "ExecuteTime": {
     "end_time": "2021-12-16T10:53:51.144068Z",
     "start_time": "2021-12-16T10:53:51.100415Z"
    },
    "scrolled": true
   },
   "outputs": [],
   "source": [
    "ccxt_universe = imvccunun.get_vendor_universe(version=\"v03\")"
   ]
  },
  {
   "cell_type": "markdown",
   "id": "b178b946",
   "metadata": {},
   "source": [
    "## CDD"
   ]
  },
  {
   "cell_type": "code",
   "execution_count": 4,
   "id": "a45e3fad",
   "metadata": {
    "ExecuteTime": {
     "end_time": "2021-12-16T10:53:52.014642Z",
     "start_time": "2021-12-16T10:53:52.009867Z"
    },
    "run_control": {
     "marked": false
    }
   },
   "outputs": [],
   "source": [
    "universe_cdd = imvccunun.get_vendor_universe(version=\"v01\", vendor=\"CDD\")"
   ]
  },
  {
   "cell_type": "markdown",
   "id": "821f2129",
   "metadata": {},
   "source": [
    "# Compare universes"
   ]
  },
  {
   "cell_type": "code",
   "execution_count": 5,
   "id": "23220816",
   "metadata": {
    "ExecuteTime": {
     "end_time": "2021-12-16T10:53:53.336863Z",
     "start_time": "2021-12-16T10:53:53.331183Z"
    }
   },
   "outputs": [
    {
     "name": "stdout",
     "output_type": "stream",
     "text": [
      "Number of full symbols in CCXT: 38\n",
      "Number of full symbols in CDD: 117\n"
     ]
    }
   ],
   "source": [
    "_LOG.info(\"Number of full symbols in CCXT: %s\", len(ccxt_universe))\n",
    "_LOG.info(\"Number of full symbols in CDD: %s\", len(universe_cdd))"
   ]
  },
  {
   "cell_type": "code",
   "execution_count": 6,
   "id": "158481db",
   "metadata": {
    "ExecuteTime": {
     "end_time": "2021-12-16T10:53:54.177510Z",
     "start_time": "2021-12-16T10:53:54.168025Z"
    }
   },
   "outputs": [
    {
     "name": "stdout",
     "output_type": "stream",
     "text": [
      "Number of similar full symbols: 18\n"
     ]
    },
    {
     "data": {
      "text/plain": [
       "{'binance::ADA_USDT',\n",
       " 'binance::BNB_USDT',\n",
       " 'binance::BTC_USDT',\n",
       " 'binance::EOS_USDT',\n",
       " 'binance::ETH_USDT',\n",
       " 'binance::LINK_USDT',\n",
       " 'binance::SOL_USDT',\n",
       " 'ftx::BNB_USDT',\n",
       " 'ftx::BTC_USDT',\n",
       " 'ftx::ETH_USDT',\n",
       " 'ftx::LINK_USDT',\n",
       " 'ftx::XRP_USDT',\n",
       " 'kucoin::ADA_USDT',\n",
       " 'kucoin::BNB_USDT',\n",
       " 'kucoin::BTC_USDT',\n",
       " 'kucoin::EOS_USDT',\n",
       " 'kucoin::ETH_USDT',\n",
       " 'kucoin::XRP_USDT'}"
      ]
     },
     "metadata": {},
     "output_type": "display_data"
    }
   ],
   "source": [
    "# Intersection of full symbols between two vendors.\n",
    "currency_pair_intersection = set(ccxt_universe).intersection(universe_cdd)\n",
    "_LOG.info(\"Number of similar full symbols: %s\", len(currency_pair_intersection))\n",
    "display(currency_pair_intersection)"
   ]
  },
  {
   "cell_type": "code",
   "execution_count": 7,
   "id": "a72f1f1f",
   "metadata": {
    "ExecuteTime": {
     "end_time": "2021-12-16T10:53:54.689223Z",
     "start_time": "2021-12-16T10:53:54.683650Z"
    },
    "scrolled": true
   },
   "outputs": [
    {
     "name": "stdout",
     "output_type": "stream",
     "text": [
      "Number of full symbols that are included in CCXT but not in CDD: 20\n"
     ]
    },
    {
     "data": {
      "text/plain": [
       "{'binance::AVAX_USDT',\n",
       " 'binance::DOGE_USDT',\n",
       " 'ftx::DOGE_USDT',\n",
       " 'ftx::SOL_USDT',\n",
       " 'gateio::ADA_USDT',\n",
       " 'gateio::AVAX_USDT',\n",
       " 'gateio::BNB_USDT',\n",
       " 'gateio::BTC_USDT',\n",
       " 'gateio::DOGE_USDT',\n",
       " 'gateio::EOS_USDT',\n",
       " 'gateio::ETH_USDT',\n",
       " 'gateio::FIL_USDT',\n",
       " 'gateio::LINK_USDT',\n",
       " 'gateio::SOL_USDT',\n",
       " 'gateio::XRP_USDT',\n",
       " 'kucoin::AVAX_USDT',\n",
       " 'kucoin::DOGE_USDT',\n",
       " 'kucoin::FIL_USDT',\n",
       " 'kucoin::LINK_USDT',\n",
       " 'kucoin::SOL_USDT'}"
      ]
     },
     "metadata": {},
     "output_type": "display_data"
    }
   ],
   "source": [
    "# Full symbols that are included in CCXT but not in CDD.\n",
    "ccxt_and_not_cdd = set(ccxt_universe).difference(universe_cdd)\n",
    "_LOG.info(\n",
    "    \"Number of full symbols that are included in CCXT but not in CDD: %s\",\n",
    "    len(ccxt_and_not_cdd),\n",
    ")\n",
    "display(ccxt_and_not_cdd)"
   ]
  },
  {
   "cell_type": "code",
   "execution_count": 8,
   "id": "0523b1b7",
   "metadata": {
    "ExecuteTime": {
     "end_time": "2021-12-16T10:53:55.110333Z",
     "start_time": "2021-12-16T10:53:55.103013Z"
    },
    "scrolled": true
   },
   "outputs": [
    {
     "name": "stdout",
     "output_type": "stream",
     "text": [
      "Number of full symbols that are included in CDD but not in CCXT: 99\n"
     ]
    },
    {
     "data": {
      "text/plain": [
       "{'binance::AAVE_USDT',\n",
       " 'binance::BAT_USDT',\n",
       " 'binance::BTT_USDT',\n",
       " 'binance::CELR_USDT',\n",
       " 'binance::CVC_USDT',\n",
       " 'binance::DAI_USDT',\n",
       " 'binance::DASH_USDT',\n",
       " 'binance::DOT_USDT',\n",
       " 'binance::ETC_USDT',\n",
       " 'binance::FIL_USDT',\n",
       " 'binance::ICP_USDT',\n",
       " 'binance::ICX_USDT',\n",
       " 'binance::LRC_USDT',\n",
       " 'binance::LTC_USDT',\n",
       " 'binance::MATIC_USDT',\n",
       " 'binance::MKR_USDT',\n",
       " 'binance::NEO_USDT',\n",
       " 'binance::ONE_USDT',\n",
       " 'binance::PAX_USDT',\n",
       " 'binance::QTUM_USDT',\n",
       " 'binance::SCU_USDT',\n",
       " 'binance::TRX_USDT',\n",
       " 'binance::TUSD_USDT',\n",
       " 'binance::UNI_USDT',\n",
       " 'binance::USDC_USDT',\n",
       " 'binance::VET_USDT',\n",
       " 'binance::XLM_USDT',\n",
       " 'binance::XMR_USDT',\n",
       " 'binance::XRP_USDT',\n",
       " 'binance::ZEC_USDT',\n",
       " 'bitfinex::AID_USD',\n",
       " 'bitfinex::BAT_USD',\n",
       " 'bitfinex::BTC_EUR',\n",
       " 'bitfinex::BTC_GBR',\n",
       " 'bitfinex::BTC_JPY',\n",
       " 'bitfinex::BTC_USD',\n",
       " 'bitfinex::DAI_BTC',\n",
       " 'bitfinex::DAI_USD',\n",
       " 'bitfinex::DASH_BTC',\n",
       " 'bitfinex::DASH_USD',\n",
       " 'bitfinex::EDO_USD',\n",
       " 'bitfinex::EOS_BTC',\n",
       " 'bitfinex::EOS_EUR',\n",
       " 'bitfinex::EOS_GBR',\n",
       " 'bitfinex::EOS_JPY',\n",
       " 'bitfinex::EOS_USD',\n",
       " 'bitfinex::ETC_USD',\n",
       " 'bitfinex::ETH_BTC',\n",
       " 'bitfinex::ETH_EUR',\n",
       " 'bitfinex::ETH_GBR',\n",
       " 'bitfinex::ETH_JPY',\n",
       " 'bitfinex::ETH_USD',\n",
       " 'bitfinex::ETP_USD',\n",
       " 'bitfinex::LTC_BTC',\n",
       " 'bitfinex::LTC_USD',\n",
       " 'bitfinex::NEO_EUR',\n",
       " 'bitfinex::NEO_GBR',\n",
       " 'bitfinex::NEO_JPY',\n",
       " 'bitfinex::NEO_USD',\n",
       " 'bitfinex::OMG_BTC',\n",
       " 'bitfinex::OMG_USD',\n",
       " 'bitfinex::QTUM_USD',\n",
       " 'bitfinex::REP_BTC',\n",
       " 'bitfinex::REP_USD',\n",
       " 'bitfinex::TRX_BTC',\n",
       " 'bitfinex::TRX_EUR',\n",
       " 'bitfinex::TRX_GBR',\n",
       " 'bitfinex::TRX_JPY',\n",
       " 'bitfinex::TRX_USD',\n",
       " 'bitfinex::XLM_EUR',\n",
       " 'bitfinex::XLM_GBR',\n",
       " 'bitfinex::XLM_JPY',\n",
       " 'bitfinex::XLM_USD',\n",
       " 'bitfinex::XMR_BTC',\n",
       " 'bitfinex::XMR_USD',\n",
       " 'bitfinex::XRP_BTC',\n",
       " 'bitfinex::XVG_EUR',\n",
       " 'bitfinex::XVG_GBP',\n",
       " 'bitfinex::XVG_JPY',\n",
       " 'bitfinex::XVG_USD',\n",
       " 'ftx::BCH_USD',\n",
       " 'ftx::BCH_USDT',\n",
       " 'ftx::BNB_USD',\n",
       " 'ftx::BTC_USD',\n",
       " 'ftx::ETH_USD',\n",
       " 'ftx::LINK_USD',\n",
       " 'ftx::LTC_USD',\n",
       " 'ftx::LTC_USDT',\n",
       " 'ftx::TRX_USD',\n",
       " 'ftx::TRX_USDT',\n",
       " 'ftx::XRP_USD',\n",
       " 'kucoin::BCH_USDT',\n",
       " 'kucoin::BTC_USDC',\n",
       " 'kucoin::DASH_USDT',\n",
       " 'kucoin::LTC_USDT',\n",
       " 'kucoin::NEO_USDT',\n",
       " 'kucoin::TRX_USDT',\n",
       " 'kucoin::XTZ_USDT',\n",
       " 'kucoin::ZEC_USDT'}"
      ]
     },
     "metadata": {},
     "output_type": "display_data"
    }
   ],
   "source": [
    "# Full symbols that are included in CDD but not in CCXT.\n",
    "cdd_and_not_ccxt = set(universe_cdd).difference(ccxt_universe)\n",
    "_LOG.info(\n",
    "    \"Number of full symbols that are included in CDD but not in CCXT: %s\",\n",
    "    len(cdd_and_not_ccxt),\n",
    ")\n",
    "display(cdd_and_not_ccxt)"
   ]
  },
  {
   "cell_type": "markdown",
   "id": "06969925",
   "metadata": {},
   "source": [
    "# Compare close prices / returns from Binance"
   ]
  },
  {
   "cell_type": "markdown",
   "id": "65eb6a58",
   "metadata": {},
   "source": [
    "## Load the data"
   ]
  },
  {
   "cell_type": "markdown",
   "id": "ae3f24d9",
   "metadata": {
    "ExecuteTime": {
     "end_time": "2021-12-08T19:37:31.258647Z",
     "start_time": "2021-12-08T19:37:31.251517Z"
    }
   },
   "source": [
    "The code below can be used to load all the existing data from two vendors CDD and CCXT. Current version is specified to Binance only, however, even for one exchange there's too many data to operate, that's why the output is the intersection of currency pairs between to universe, since one can compare only the intersection of currency pairs for two vendors."
   ]
  },
  {
   "cell_type": "code",
   "execution_count": 10,
   "id": "be827c12",
   "metadata": {
    "ExecuteTime": {
     "end_time": "2021-12-14T21:38:26.248949Z",
     "start_time": "2021-12-14T21:38:26.242563Z"
    }
   },
   "outputs": [],
   "source": [
    "# Load Binance-specific universe for CCXT.\n",
    "ccxt_binance_universe = [\n",
    "    element for element in ccxt_universe if element.startswith(\"binance\")\n",
    "]\n",
    "# Load Binnance-specific universe for CDD.\n",
    "cdd_binance_universe_initial = [\n",
    "    element for element in universe_cdd if element.startswith(\"binance\")\n",
    "]\n",
    "cdd_binance_universe = cdd_binance_universe_initial.copy()\n",
    "# SCU_USDT has incorrect columns, so can not be downloaded.\n",
    "# See CMTask244 - Cannot load CDD - binance - SCU/USDT from s3 for the reference.\n",
    "cdd_binance_universe.remove(\"binance::SCU_USDT\")\n",
    "# The intersection of Binance currency pairs from two universes.\n",
    "currency_pair_intersection_binance = set(ccxt_binance_universe).intersection(\n",
    "    cdd_binance_universe_initial\n",
    ")"
   ]
  },
  {
   "cell_type": "code",
   "execution_count": null,
   "id": "7f3ba9fd",
   "metadata": {
    "ExecuteTime": {
     "start_time": "2021-12-16T11:53:51.777Z"
    }
   },
   "outputs": [],
   "source": [
    "root_dir = os.path.join(hs3.get_path(), \"data\")"
   ]
  },
  {
   "cell_type": "code",
   "execution_count": 11,
   "id": "8db077be",
   "metadata": {
    "ExecuteTime": {
     "end_time": "2021-12-14T21:39:29.112161Z",
     "start_time": "2021-12-14T21:38:28.183282Z"
    },
    "scrolled": true
   },
   "outputs": [
    {
     "name": "stdout",
     "output_type": "stream",
     "text": [
      "Reading CDD data for exchange id='binance', currencies='SOL_USDT', from file='s3://alphamatic-data/data/cryptodatadownload/20210924/binance/SOL_USDT.csv.gz'...\n",
      "Processing CDD data for exchange id='binance', currencies='SOL_USDT'...\n",
      "Index length increased by 270 = 129252 - 128982\n",
      "Reading CDD data for exchange id='binance', currencies='ETH_USDT', from file='s3://alphamatic-data/data/cryptodatadownload/20210924/binance/ETH_USDT.csv.gz'...\n",
      "Processing CDD data for exchange id='binance', currencies='ETH_USDT'...\n",
      "Index length increased by 5288 = 948591 - 943303\n",
      "Reading CDD data for exchange id='binance', currencies='BTC_USDT', from file='s3://alphamatic-data/data/cryptodatadownload/20210924/binance/BTC_USDT.csv.gz'...\n",
      "Processing CDD data for exchange id='binance', currencies='BTC_USDT'...\n",
      "Index length increased by 5289 = 1063179 - 1057890\n",
      "Reading CDD data for exchange id='binance', currencies='EOS_USDT', from file='s3://alphamatic-data/data/cryptodatadownload/20210924/binance/EOS_USDT.csv.gz'...\n",
      "Processing CDD data for exchange id='binance', currencies='EOS_USDT'...\n",
      "Index length increased by 5289 = 888096 - 882807\n",
      "Reading CDD data for exchange id='binance', currencies='LINK_USDT', from file='s3://alphamatic-data/data/cryptodatadownload/20210924/binance/LINK_USDT.csv.gz'...\n",
      "Processing CDD data for exchange id='binance', currencies='LINK_USDT'...\n",
      "Index length increased by 5289 = 875139 - 869850\n",
      "Reading CDD data for exchange id='binance', currencies='BNB_USDT', from file='s3://alphamatic-data/data/cryptodatadownload/20210924/binance/BNB_USDT.csv.gz'...\n",
      "Processing CDD data for exchange id='binance', currencies='BNB_USDT'...\n",
      "Index length increased by 5289 = 840575 - 835286\n",
      "Reading CDD data for exchange id='binance', currencies='ADA_USDT', from file='s3://alphamatic-data/data/cryptodatadownload/20210924/binance/ADA_USDT.csv.gz'...\n",
      "Processing CDD data for exchange id='binance', currencies='ADA_USDT'...\n",
      "Index length increased by 5288 = 854976 - 849688\n"
     ]
    }
   ],
   "source": [
    "cdd_data = []\n",
    "cdd_loader = imcdalolo.CddLoader(root_dir=root_dir, aws_profile=\"am\")\n",
    "\n",
    "for full_symbol in currency_pair_intersection_binance:\n",
    "    _, currency_pair = ivcdclcl.parse_full_symbol(full_symbol)\n",
    "    cur_data = cdd_loader.read_data_from_filesystem(\n",
    "        exchange_id=\"binance\", currency_pair=currency_pair, data_type=\"ohlcv\"\n",
    "    )\n",
    "    cdd_data.append(cur_data)\n",
    "cdd_binance_df = pd.concat(cdd_data)"
   ]
  },
  {
   "cell_type": "code",
   "execution_count": 12,
   "id": "ab156e6d",
   "metadata": {
    "ExecuteTime": {
     "end_time": "2021-12-14T21:39:29.142211Z",
     "start_time": "2021-12-14T21:39:29.115159Z"
    }
   },
   "outputs": [
    {
     "data": {
      "text/html": [
       "<div>\n",
       "<style scoped>\n",
       "    .dataframe tbody tr th:only-of-type {\n",
       "        vertical-align: middle;\n",
       "    }\n",
       "\n",
       "    .dataframe tbody tr th {\n",
       "        vertical-align: top;\n",
       "    }\n",
       "\n",
       "    .dataframe thead th {\n",
       "        text-align: right;\n",
       "    }\n",
       "</style>\n",
       "<table border=\"1\" class=\"dataframe\">\n",
       "  <thead>\n",
       "    <tr style=\"text-align: right;\">\n",
       "      <th></th>\n",
       "      <th>open</th>\n",
       "      <th>high</th>\n",
       "      <th>low</th>\n",
       "      <th>close</th>\n",
       "      <th>volume</th>\n",
       "      <th>epoch</th>\n",
       "      <th>currency_pair</th>\n",
       "      <th>exchange_id</th>\n",
       "    </tr>\n",
       "  </thead>\n",
       "  <tbody>\n",
       "    <tr>\n",
       "      <th>2021-06-06 06:57:00+00:00</th>\n",
       "      <td>39.654</td>\n",
       "      <td>39.709</td>\n",
       "      <td>39.592</td>\n",
       "      <td>39.649</td>\n",
       "      <td>3053.129</td>\n",
       "      <td>1.622963e+12</td>\n",
       "      <td>SOL/USDT</td>\n",
       "      <td>binance</td>\n",
       "    </tr>\n",
       "    <tr>\n",
       "      <th>2021-06-06 06:58:00+00:00</th>\n",
       "      <td>39.646</td>\n",
       "      <td>39.719</td>\n",
       "      <td>39.633</td>\n",
       "      <td>39.634</td>\n",
       "      <td>874.508</td>\n",
       "      <td>1.622963e+12</td>\n",
       "      <td>SOL/USDT</td>\n",
       "      <td>binance</td>\n",
       "    </tr>\n",
       "    <tr>\n",
       "      <th>2021-06-06 06:59:00+00:00</th>\n",
       "      <td>39.634</td>\n",
       "      <td>39.686</td>\n",
       "      <td>39.624</td>\n",
       "      <td>39.658</td>\n",
       "      <td>906.122</td>\n",
       "      <td>1.622963e+12</td>\n",
       "      <td>SOL/USDT</td>\n",
       "      <td>binance</td>\n",
       "    </tr>\n",
       "  </tbody>\n",
       "</table>\n",
       "</div>"
      ],
      "text/plain": [
       "                             open    high     low   close    volume         epoch currency_pair exchange_id\n",
       "2021-06-06 06:57:00+00:00  39.654  39.709  39.592  39.649  3053.129  1.622963e+12      SOL/USDT     binance\n",
       "2021-06-06 06:58:00+00:00  39.646  39.719  39.633  39.634   874.508  1.622963e+12      SOL/USDT     binance\n",
       "2021-06-06 06:59:00+00:00  39.634  39.686  39.624  39.658   906.122  1.622963e+12      SOL/USDT     binance"
      ]
     },
     "metadata": {},
     "output_type": "display_data"
    },
    {
     "data": {
      "text/plain": [
       "(5599808, 8)"
      ]
     },
     "metadata": {},
     "output_type": "display_data"
    }
   ],
   "source": [
    "display(cdd_binance_df.head(3))\n",
    "display(cdd_binance_df.shape)"
   ]
  },
  {
   "cell_type": "code",
   "execution_count": 13,
   "id": "948765b9",
   "metadata": {
    "ExecuteTime": {
     "end_time": "2021-12-14T21:41:15.028330Z",
     "start_time": "2021-12-14T21:39:29.145402Z"
    },
    "scrolled": true
   },
   "outputs": [
    {
     "name": "stdout",
     "output_type": "stream",
     "text": [
      "Reading CCXT data for exchange id='binance', currencies='ADA_USDT' from file='s3://alphamatic-data/data/ccxt/20210924/binance/ADA_USDT.csv.gz'...\n",
      "Processing CCXT data for exchange id='binance', currencies='ADA_USDT'...\n",
      "Index length increased by 4520 = 1622000 - 1617480\n",
      "Reading CCXT data for exchange id='binance', currencies='BNB_USDT' from file='s3://alphamatic-data/data/ccxt/20210924/binance/BNB_USDT.csv.gz'...\n",
      "Processing CCXT data for exchange id='binance', currencies='BNB_USDT'...\n",
      "Index length increased by 4520 = 1622295 - 1617775\n",
      "Reading CCXT data for exchange id='binance', currencies='BTC_USDT' from file='s3://alphamatic-data/data/ccxt/20210924/binance/BTC_USDT.csv.gz'...\n",
      "Processing CCXT data for exchange id='binance', currencies='BTC_USDT'...\n",
      "Index length increased by 4519 = 1619641 - 1615122\n",
      "Reading CCXT data for exchange id='binance', currencies='EOS_USDT' from file='s3://alphamatic-data/data/ccxt/20210924/binance/EOS_USDT.csv.gz'...\n",
      "Processing CCXT data for exchange id='binance', currencies='EOS_USDT'...\n",
      "Index length increased by 4520 = 1622444 - 1617924\n",
      "Reading CCXT data for exchange id='binance', currencies='ETH_USDT' from file='s3://alphamatic-data/data/ccxt/20210924/binance/ETH_USDT.csv.gz'...\n",
      "Processing CCXT data for exchange id='binance', currencies='ETH_USDT'...\n",
      "Index length increased by 4520 = 1619889 - 1615369\n",
      "Reading CCXT data for exchange id='binance', currencies='LINK_USDT' from file='s3://alphamatic-data/data/ccxt/20210924/binance/LINK_USDT.csv.gz'...\n",
      "Processing CCXT data for exchange id='binance', currencies='LINK_USDT'...\n",
      "Index length increased by 3890 = 1402520 - 1398630\n",
      "Reading CCXT data for exchange id='binance', currencies='SOL_USDT' from file='s3://alphamatic-data/data/ccxt/20210924/binance/SOL_USDT.csv.gz'...\n",
      "Processing CCXT data for exchange id='binance', currencies='SOL_USDT'...\n",
      "Index length increased by 1224 = 576140 - 574916\n"
     ]
    }
   ],
   "source": [
    "ccxt_client = imvcdclcl.CcxtCsvFileSystemClient(\n",
    "    data_type=\"ohlcv\", root_dir=root_dir, aws_profile=\"am\"\n",
    ")\n",
    "multiple_symbols_client = ivcdclcl.MultipleSymbolsClient(\n",
    "    class_=ccxt_client, mode=\"concat\"\n",
    ")\n",
    "ccxt_binance_df = multiple_symbols_client.read_data(\n",
    "    currency_pair_intersection_binance\n",
    ")"
   ]
  },
  {
   "cell_type": "code",
   "execution_count": 14,
   "id": "40d26329",
   "metadata": {
    "ExecuteTime": {
     "end_time": "2021-12-14T21:41:18.885505Z",
     "start_time": "2021-12-14T21:41:15.031458Z"
    }
   },
   "outputs": [],
   "source": [
    "ccxt_binance_df = ccxt_binance_df.sort_index()"
   ]
  },
  {
   "cell_type": "code",
   "execution_count": 15,
   "id": "f656ef6f",
   "metadata": {
    "ExecuteTime": {
     "end_time": "2021-12-14T21:41:18.964971Z",
     "start_time": "2021-12-14T21:41:18.894575Z"
    }
   },
   "outputs": [
    {
     "data": {
      "text/html": [
       "<div>\n",
       "<style scoped>\n",
       "    .dataframe tbody tr th:only-of-type {\n",
       "        vertical-align: middle;\n",
       "    }\n",
       "\n",
       "    .dataframe tbody tr th {\n",
       "        vertical-align: top;\n",
       "    }\n",
       "\n",
       "    .dataframe thead th {\n",
       "        text-align: right;\n",
       "    }\n",
       "</style>\n",
       "<table border=\"1\" class=\"dataframe\">\n",
       "  <thead>\n",
       "    <tr style=\"text-align: right;\">\n",
       "      <th></th>\n",
       "      <th>full_symbol</th>\n",
       "      <th>open</th>\n",
       "      <th>high</th>\n",
       "      <th>low</th>\n",
       "      <th>close</th>\n",
       "      <th>volume</th>\n",
       "      <th>epoch</th>\n",
       "      <th>currency_pair</th>\n",
       "      <th>exchange_id</th>\n",
       "    </tr>\n",
       "  </thead>\n",
       "  <tbody>\n",
       "    <tr>\n",
       "      <th>2018-08-17 00:00:00+00:00</th>\n",
       "      <td>binance::ADA_USDT</td>\n",
       "      <td>0.0946</td>\n",
       "      <td>0.0948</td>\n",
       "      <td>0.09442</td>\n",
       "      <td>0.09479</td>\n",
       "      <td>41334.200000</td>\n",
       "      <td>1.534464e+12</td>\n",
       "      <td>ADA_USDT</td>\n",
       "      <td>binance</td>\n",
       "    </tr>\n",
       "    <tr>\n",
       "      <th>2018-08-17 00:00:00+00:00</th>\n",
       "      <td>binance::BTC_USDT</td>\n",
       "      <td>6316.0000</td>\n",
       "      <td>6319.0400</td>\n",
       "      <td>6310.32000</td>\n",
       "      <td>6311.64000</td>\n",
       "      <td>9.967395</td>\n",
       "      <td>1.534464e+12</td>\n",
       "      <td>BTC_USDT</td>\n",
       "      <td>binance</td>\n",
       "    </tr>\n",
       "    <tr>\n",
       "      <th>2018-08-17 00:00:00+00:00</th>\n",
       "      <td>binance::BNB_USDT</td>\n",
       "      <td>9.7779</td>\n",
       "      <td>9.7791</td>\n",
       "      <td>9.75380</td>\n",
       "      <td>9.77780</td>\n",
       "      <td>520.660000</td>\n",
       "      <td>1.534464e+12</td>\n",
       "      <td>BNB_USDT</td>\n",
       "      <td>binance</td>\n",
       "    </tr>\n",
       "  </tbody>\n",
       "</table>\n",
       "</div>"
      ],
      "text/plain": [
       "                                 full_symbol       open       high         low       close        volume         epoch currency_pair exchange_id\n",
       "2018-08-17 00:00:00+00:00  binance::ADA_USDT     0.0946     0.0948     0.09442     0.09479  41334.200000  1.534464e+12      ADA_USDT     binance\n",
       "2018-08-17 00:00:00+00:00  binance::BTC_USDT  6316.0000  6319.0400  6310.32000  6311.64000      9.967395  1.534464e+12      BTC_USDT     binance\n",
       "2018-08-17 00:00:00+00:00  binance::BNB_USDT     9.7779     9.7791     9.75380     9.77780    520.660000  1.534464e+12      BNB_USDT     binance"
      ]
     },
     "metadata": {},
     "output_type": "display_data"
    },
    {
     "data": {
      "text/plain": [
       "(10084929, 9)"
      ]
     },
     "metadata": {},
     "output_type": "display_data"
    }
   ],
   "source": [
    "display(ccxt_binance_df.head(3))\n",
    "display(ccxt_binance_df.shape)"
   ]
  },
  {
   "cell_type": "markdown",
   "id": "34ce5bd1",
   "metadata": {},
   "source": [
    "## Calculate returns and correlation"
   ]
  },
  {
   "cell_type": "code",
   "execution_count": 16,
   "id": "e4a4a808",
   "metadata": {
    "ExecuteTime": {
     "end_time": "2021-12-14T21:41:22.417808Z",
     "start_time": "2021-12-14T21:41:18.967880Z"
    }
   },
   "outputs": [],
   "source": [
    "# CDD names cleaning.\n",
    "cdd_binance_df[\"currency_pair\"] = cdd_binance_df[\"currency_pair\"].str.replace(\n",
    "    \"/\", \"_\"\n",
    ")"
   ]
  },
  {
   "cell_type": "code",
   "execution_count": 17,
   "id": "c01e0a5f",
   "metadata": {
    "ExecuteTime": {
     "end_time": "2021-12-14T21:41:22.425506Z",
     "start_time": "2021-12-14T21:41:22.419995Z"
    }
   },
   "outputs": [],
   "source": [
    "def resample_close_price(df: pd.DataFrame, resampling_freq: str) -> pd.Series:\n",
    "    \"\"\"\n",
    "    Transform OHLCV data to the grouped series with resampled frequency and\n",
    "    last close prices.\n",
    "\n",
    "    :param df: OHLCV data\n",
    "    :param resampling_freq: frequency from `pd.date_range()` to resample to\n",
    "    :return: grouped and resampled close prices\n",
    "    \"\"\"\n",
    "    # Reseting DateTime index, since pd.Grouper can't use index values.\n",
    "    df = df.reset_index().rename(columns={\"index\": \"stamp\"})\n",
    "    # Group by currency pairs and simultaneously resample to the desired frequency.\n",
    "    resampler = df.groupby(\n",
    "        [\"currency_pair\", pd.Grouper(key=\"stamp\", freq=resampling_freq)]\n",
    "    )\n",
    "    # Take the last close value from each resampling period.\n",
    "    close_series = resampler.close.last()\n",
    "    return close_series"
   ]
  },
  {
   "cell_type": "code",
   "execution_count": 18,
   "id": "e2e7ae9f",
   "metadata": {
    "ExecuteTime": {
     "end_time": "2021-12-14T21:41:22.434648Z",
     "start_time": "2021-12-14T21:41:22.427883Z"
    }
   },
   "outputs": [],
   "source": [
    "def calculate_correlations(\n",
    "    ccxt_close_price: pd.Series, cdd_close_price: pd.Series, compute_returns: bool\n",
    ") -> pd.DataFrame:\n",
    "    \"\"\"\n",
    "    Take two series with close prices(i.e. CDD and CCXT data) and calculate the\n",
    "    correlations for each specific currency pair.\n",
    "\n",
    "    :param ccxt_series: grouped and resampled close prices for CCXT\n",
    "    :param cdd_series: grouped and resampled close prices for CDD\n",
    "    :param compute_returns: if True - compare returns, if False - compare close prices\n",
    "    :return: grouped correlation matrix\n",
    "    \"\"\"\n",
    "    if compute_returns:\n",
    "        # Group by currency pairs in order to calculate the percentage returns.\n",
    "        grouper_cdd = cdd_close_price.groupby(\"currency_pair\")\n",
    "        cdd_close_price = grouper_cdd.pct_change()\n",
    "        grouper_ccxt = ccxt_close_price.groupby(\"currency_pair\")\n",
    "        ccxt_close_price = grouper_ccxt.pct_change()\n",
    "    # Combine and calculate correlations.\n",
    "    combined = pd.merge(\n",
    "        cdd_close_price, ccxt_close_price, left_index=True, right_index=True\n",
    "    )\n",
    "    # Rename the columns.\n",
    "    if compute_returns:\n",
    "        combined.columns = [\"ccxt_returns\", \"cdd_returns\"]\n",
    "    else:\n",
    "        combined.columns = [\"cdd_close\", \"ccxt_close\"]\n",
    "    # Group by again to calculte returns correlation for each currency pair.\n",
    "    corr_matrix = combined.groupby(level=0).corr()\n",
    "    return corr_matrix"
   ]
  },
  {
   "cell_type": "code",
   "execution_count": 19,
   "id": "975b1df0",
   "metadata": {
    "ExecuteTime": {
     "end_time": "2021-12-14T21:41:39.819845Z",
     "start_time": "2021-12-14T21:41:22.436801Z"
    }
   },
   "outputs": [],
   "source": [
    "# Corresponding resampled Series.\n",
    "ccxt_binance_series_1d = resample_close_price(ccxt_binance_df, \"1D\")\n",
    "cdd_binance_series_1d = resample_close_price(cdd_binance_df, \"1D\")\n",
    "\n",
    "ccxt_binance_series_5min = resample_close_price(ccxt_binance_df, \"5min\")\n",
    "cdd_binance_series_5min = resample_close_price(cdd_binance_df, \"5min\")"
   ]
  },
  {
   "cell_type": "markdown",
   "id": "c56c9d1e",
   "metadata": {},
   "source": [
    "### 1-day returns"
   ]
  },
  {
   "cell_type": "code",
   "execution_count": 20,
   "id": "3af8f847",
   "metadata": {
    "ExecuteTime": {
     "end_time": "2021-12-14T21:41:40.035667Z",
     "start_time": "2021-12-14T21:41:39.823016Z"
    }
   },
   "outputs": [
    {
     "data": {
      "text/html": [
       "<div>\n",
       "<style scoped>\n",
       "    .dataframe tbody tr th:only-of-type {\n",
       "        vertical-align: middle;\n",
       "    }\n",
       "\n",
       "    .dataframe tbody tr th {\n",
       "        vertical-align: top;\n",
       "    }\n",
       "\n",
       "    .dataframe thead th {\n",
       "        text-align: right;\n",
       "    }\n",
       "</style>\n",
       "<table border=\"1\" class=\"dataframe\">\n",
       "  <thead>\n",
       "    <tr style=\"text-align: right;\">\n",
       "      <th></th>\n",
       "      <th></th>\n",
       "      <th>ccxt_returns</th>\n",
       "      <th>cdd_returns</th>\n",
       "    </tr>\n",
       "    <tr>\n",
       "      <th>currency_pair</th>\n",
       "      <th></th>\n",
       "      <th></th>\n",
       "      <th></th>\n",
       "    </tr>\n",
       "  </thead>\n",
       "  <tbody>\n",
       "    <tr>\n",
       "      <th rowspan=\"2\" valign=\"top\">ADA_USDT</th>\n",
       "      <th>ccxt_returns</th>\n",
       "      <td>1.000000</td>\n",
       "      <td>0.997807</td>\n",
       "    </tr>\n",
       "    <tr>\n",
       "      <th>cdd_returns</th>\n",
       "      <td>0.997807</td>\n",
       "      <td>1.000000</td>\n",
       "    </tr>\n",
       "    <tr>\n",
       "      <th rowspan=\"2\" valign=\"top\">BNB_USDT</th>\n",
       "      <th>ccxt_returns</th>\n",
       "      <td>1.000000</td>\n",
       "      <td>0.998490</td>\n",
       "    </tr>\n",
       "    <tr>\n",
       "      <th>cdd_returns</th>\n",
       "      <td>0.998490</td>\n",
       "      <td>1.000000</td>\n",
       "    </tr>\n",
       "    <tr>\n",
       "      <th rowspan=\"2\" valign=\"top\">BTC_USDT</th>\n",
       "      <th>ccxt_returns</th>\n",
       "      <td>1.000000</td>\n",
       "      <td>0.997763</td>\n",
       "    </tr>\n",
       "    <tr>\n",
       "      <th>cdd_returns</th>\n",
       "      <td>0.997763</td>\n",
       "      <td>1.000000</td>\n",
       "    </tr>\n",
       "    <tr>\n",
       "      <th rowspan=\"2\" valign=\"top\">EOS_USDT</th>\n",
       "      <th>ccxt_returns</th>\n",
       "      <td>1.000000</td>\n",
       "      <td>0.998294</td>\n",
       "    </tr>\n",
       "    <tr>\n",
       "      <th>cdd_returns</th>\n",
       "      <td>0.998294</td>\n",
       "      <td>1.000000</td>\n",
       "    </tr>\n",
       "    <tr>\n",
       "      <th rowspan=\"2\" valign=\"top\">ETH_USDT</th>\n",
       "      <th>ccxt_returns</th>\n",
       "      <td>1.000000</td>\n",
       "      <td>0.995563</td>\n",
       "    </tr>\n",
       "    <tr>\n",
       "      <th>cdd_returns</th>\n",
       "      <td>0.995563</td>\n",
       "      <td>1.000000</td>\n",
       "    </tr>\n",
       "    <tr>\n",
       "      <th rowspan=\"2\" valign=\"top\">LINK_USDT</th>\n",
       "      <th>ccxt_returns</th>\n",
       "      <td>1.000000</td>\n",
       "      <td>0.997200</td>\n",
       "    </tr>\n",
       "    <tr>\n",
       "      <th>cdd_returns</th>\n",
       "      <td>0.997200</td>\n",
       "      <td>1.000000</td>\n",
       "    </tr>\n",
       "    <tr>\n",
       "      <th rowspan=\"2\" valign=\"top\">SOL_USDT</th>\n",
       "      <th>ccxt_returns</th>\n",
       "      <td>1.000000</td>\n",
       "      <td>0.996158</td>\n",
       "    </tr>\n",
       "    <tr>\n",
       "      <th>cdd_returns</th>\n",
       "      <td>0.996158</td>\n",
       "      <td>1.000000</td>\n",
       "    </tr>\n",
       "  </tbody>\n",
       "</table>\n",
       "</div>"
      ],
      "text/plain": [
       "                            ccxt_returns  cdd_returns\n",
       "currency_pair                                        \n",
       "ADA_USDT      ccxt_returns      1.000000     0.997807\n",
       "              cdd_returns       0.997807     1.000000\n",
       "BNB_USDT      ccxt_returns      1.000000     0.998490\n",
       "              cdd_returns       0.998490     1.000000\n",
       "BTC_USDT      ccxt_returns      1.000000     0.997763\n",
       "              cdd_returns       0.997763     1.000000\n",
       "EOS_USDT      ccxt_returns      1.000000     0.998294\n",
       "              cdd_returns       0.998294     1.000000\n",
       "ETH_USDT      ccxt_returns      1.000000     0.995563\n",
       "              cdd_returns       0.995563     1.000000\n",
       "LINK_USDT     ccxt_returns      1.000000     0.997200\n",
       "              cdd_returns       0.997200     1.000000\n",
       "SOL_USDT      ccxt_returns      1.000000     0.996158\n",
       "              cdd_returns       0.996158     1.000000"
      ]
     },
     "metadata": {},
     "output_type": "display_data"
    }
   ],
   "source": [
    "returns_corr_1day = calculate_correlations(\n",
    "    ccxt_binance_series_1d, cdd_binance_series_1d, compute_returns=True\n",
    ")\n",
    "display(returns_corr_1day)"
   ]
  },
  {
   "cell_type": "markdown",
   "id": "a5d24740",
   "metadata": {},
   "source": [
    "### 5-min returns"
   ]
  },
  {
   "cell_type": "code",
   "execution_count": 21,
   "id": "4c69e461",
   "metadata": {
    "ExecuteTime": {
     "end_time": "2021-12-14T21:42:02.447497Z",
     "start_time": "2021-12-14T21:41:40.038089Z"
    }
   },
   "outputs": [
    {
     "data": {
      "text/html": [
       "<div>\n",
       "<style scoped>\n",
       "    .dataframe tbody tr th:only-of-type {\n",
       "        vertical-align: middle;\n",
       "    }\n",
       "\n",
       "    .dataframe tbody tr th {\n",
       "        vertical-align: top;\n",
       "    }\n",
       "\n",
       "    .dataframe thead th {\n",
       "        text-align: right;\n",
       "    }\n",
       "</style>\n",
       "<table border=\"1\" class=\"dataframe\">\n",
       "  <thead>\n",
       "    <tr style=\"text-align: right;\">\n",
       "      <th></th>\n",
       "      <th></th>\n",
       "      <th>ccxt_returns</th>\n",
       "      <th>cdd_returns</th>\n",
       "    </tr>\n",
       "    <tr>\n",
       "      <th>currency_pair</th>\n",
       "      <th></th>\n",
       "      <th></th>\n",
       "      <th></th>\n",
       "    </tr>\n",
       "  </thead>\n",
       "  <tbody>\n",
       "    <tr>\n",
       "      <th rowspan=\"2\" valign=\"top\">ADA_USDT</th>\n",
       "      <th>ccxt_returns</th>\n",
       "      <td>1.000000</td>\n",
       "      <td>0.986912</td>\n",
       "    </tr>\n",
       "    <tr>\n",
       "      <th>cdd_returns</th>\n",
       "      <td>0.986912</td>\n",
       "      <td>1.000000</td>\n",
       "    </tr>\n",
       "    <tr>\n",
       "      <th rowspan=\"2\" valign=\"top\">BNB_USDT</th>\n",
       "      <th>ccxt_returns</th>\n",
       "      <td>1.000000</td>\n",
       "      <td>0.987292</td>\n",
       "    </tr>\n",
       "    <tr>\n",
       "      <th>cdd_returns</th>\n",
       "      <td>0.987292</td>\n",
       "      <td>1.000000</td>\n",
       "    </tr>\n",
       "    <tr>\n",
       "      <th rowspan=\"2\" valign=\"top\">BTC_USDT</th>\n",
       "      <th>ccxt_returns</th>\n",
       "      <td>1.000000</td>\n",
       "      <td>0.990746</td>\n",
       "    </tr>\n",
       "    <tr>\n",
       "      <th>cdd_returns</th>\n",
       "      <td>0.990746</td>\n",
       "      <td>1.000000</td>\n",
       "    </tr>\n",
       "    <tr>\n",
       "      <th rowspan=\"2\" valign=\"top\">EOS_USDT</th>\n",
       "      <th>ccxt_returns</th>\n",
       "      <td>1.000000</td>\n",
       "      <td>0.993959</td>\n",
       "    </tr>\n",
       "    <tr>\n",
       "      <th>cdd_returns</th>\n",
       "      <td>0.993959</td>\n",
       "      <td>1.000000</td>\n",
       "    </tr>\n",
       "    <tr>\n",
       "      <th rowspan=\"2\" valign=\"top\">ETH_USDT</th>\n",
       "      <th>ccxt_returns</th>\n",
       "      <td>1.000000</td>\n",
       "      <td>0.974821</td>\n",
       "    </tr>\n",
       "    <tr>\n",
       "      <th>cdd_returns</th>\n",
       "      <td>0.974821</td>\n",
       "      <td>1.000000</td>\n",
       "    </tr>\n",
       "    <tr>\n",
       "      <th rowspan=\"2\" valign=\"top\">LINK_USDT</th>\n",
       "      <th>ccxt_returns</th>\n",
       "      <td>1.000000</td>\n",
       "      <td>0.983939</td>\n",
       "    </tr>\n",
       "    <tr>\n",
       "      <th>cdd_returns</th>\n",
       "      <td>0.983939</td>\n",
       "      <td>1.000000</td>\n",
       "    </tr>\n",
       "    <tr>\n",
       "      <th rowspan=\"2\" valign=\"top\">SOL_USDT</th>\n",
       "      <th>ccxt_returns</th>\n",
       "      <td>1.000000</td>\n",
       "      <td>0.999998</td>\n",
       "    </tr>\n",
       "    <tr>\n",
       "      <th>cdd_returns</th>\n",
       "      <td>0.999998</td>\n",
       "      <td>1.000000</td>\n",
       "    </tr>\n",
       "  </tbody>\n",
       "</table>\n",
       "</div>"
      ],
      "text/plain": [
       "                            ccxt_returns  cdd_returns\n",
       "currency_pair                                        \n",
       "ADA_USDT      ccxt_returns      1.000000     0.986912\n",
       "              cdd_returns       0.986912     1.000000\n",
       "BNB_USDT      ccxt_returns      1.000000     0.987292\n",
       "              cdd_returns       0.987292     1.000000\n",
       "BTC_USDT      ccxt_returns      1.000000     0.990746\n",
       "              cdd_returns       0.990746     1.000000\n",
       "EOS_USDT      ccxt_returns      1.000000     0.993959\n",
       "              cdd_returns       0.993959     1.000000\n",
       "ETH_USDT      ccxt_returns      1.000000     0.974821\n",
       "              cdd_returns       0.974821     1.000000\n",
       "LINK_USDT     ccxt_returns      1.000000     0.983939\n",
       "              cdd_returns       0.983939     1.000000\n",
       "SOL_USDT      ccxt_returns      1.000000     0.999998\n",
       "              cdd_returns       0.999998     1.000000"
      ]
     },
     "metadata": {},
     "output_type": "display_data"
    }
   ],
   "source": [
    "returns_corr_5min = calculate_correlations(\n",
    "    ccxt_binance_series_5min, cdd_binance_series_5min, compute_returns=True\n",
    ")\n",
    "display(returns_corr_5min)"
   ]
  },
  {
   "cell_type": "markdown",
   "id": "1d22eca0",
   "metadata": {},
   "source": [
    "## Compare close prices"
   ]
  },
  {
   "cell_type": "code",
   "execution_count": 22,
   "id": "8014b363",
   "metadata": {
    "ExecuteTime": {
     "end_time": "2021-12-14T21:42:02.479060Z",
     "start_time": "2021-12-14T21:42:02.449805Z"
    },
    "scrolled": true
   },
   "outputs": [
    {
     "data": {
      "text/html": [
       "<div>\n",
       "<style scoped>\n",
       "    .dataframe tbody tr th:only-of-type {\n",
       "        vertical-align: middle;\n",
       "    }\n",
       "\n",
       "    .dataframe tbody tr th {\n",
       "        vertical-align: top;\n",
       "    }\n",
       "\n",
       "    .dataframe thead th {\n",
       "        text-align: right;\n",
       "    }\n",
       "</style>\n",
       "<table border=\"1\" class=\"dataframe\">\n",
       "  <thead>\n",
       "    <tr style=\"text-align: right;\">\n",
       "      <th></th>\n",
       "      <th></th>\n",
       "      <th>cdd_close</th>\n",
       "      <th>ccxt_close</th>\n",
       "    </tr>\n",
       "    <tr>\n",
       "      <th>currency_pair</th>\n",
       "      <th></th>\n",
       "      <th></th>\n",
       "      <th></th>\n",
       "    </tr>\n",
       "  </thead>\n",
       "  <tbody>\n",
       "    <tr>\n",
       "      <th rowspan=\"2\" valign=\"top\">ADA_USDT</th>\n",
       "      <th>cdd_close</th>\n",
       "      <td>1.000000</td>\n",
       "      <td>0.999995</td>\n",
       "    </tr>\n",
       "    <tr>\n",
       "      <th>ccxt_close</th>\n",
       "      <td>0.999995</td>\n",
       "      <td>1.000000</td>\n",
       "    </tr>\n",
       "    <tr>\n",
       "      <th rowspan=\"2\" valign=\"top\">BNB_USDT</th>\n",
       "      <th>cdd_close</th>\n",
       "      <td>1.000000</td>\n",
       "      <td>0.999999</td>\n",
       "    </tr>\n",
       "    <tr>\n",
       "      <th>ccxt_close</th>\n",
       "      <td>0.999999</td>\n",
       "      <td>1.000000</td>\n",
       "    </tr>\n",
       "    <tr>\n",
       "      <th rowspan=\"2\" valign=\"top\">BTC_USDT</th>\n",
       "      <th>cdd_close</th>\n",
       "      <td>1.000000</td>\n",
       "      <td>1.000000</td>\n",
       "    </tr>\n",
       "    <tr>\n",
       "      <th>ccxt_close</th>\n",
       "      <td>1.000000</td>\n",
       "      <td>1.000000</td>\n",
       "    </tr>\n",
       "    <tr>\n",
       "      <th rowspan=\"2\" valign=\"top\">EOS_USDT</th>\n",
       "      <th>cdd_close</th>\n",
       "      <td>1.000000</td>\n",
       "      <td>0.999906</td>\n",
       "    </tr>\n",
       "    <tr>\n",
       "      <th>ccxt_close</th>\n",
       "      <td>0.999906</td>\n",
       "      <td>1.000000</td>\n",
       "    </tr>\n",
       "    <tr>\n",
       "      <th rowspan=\"2\" valign=\"top\">ETH_USDT</th>\n",
       "      <th>cdd_close</th>\n",
       "      <td>1.000000</td>\n",
       "      <td>0.999994</td>\n",
       "    </tr>\n",
       "    <tr>\n",
       "      <th>ccxt_close</th>\n",
       "      <td>0.999994</td>\n",
       "      <td>1.000000</td>\n",
       "    </tr>\n",
       "    <tr>\n",
       "      <th rowspan=\"2\" valign=\"top\">LINK_USDT</th>\n",
       "      <th>cdd_close</th>\n",
       "      <td>1.000000</td>\n",
       "      <td>0.999995</td>\n",
       "    </tr>\n",
       "    <tr>\n",
       "      <th>ccxt_close</th>\n",
       "      <td>0.999995</td>\n",
       "      <td>1.000000</td>\n",
       "    </tr>\n",
       "    <tr>\n",
       "      <th rowspan=\"2\" valign=\"top\">SOL_USDT</th>\n",
       "      <th>cdd_close</th>\n",
       "      <td>1.000000</td>\n",
       "      <td>0.999474</td>\n",
       "    </tr>\n",
       "    <tr>\n",
       "      <th>ccxt_close</th>\n",
       "      <td>0.999474</td>\n",
       "      <td>1.000000</td>\n",
       "    </tr>\n",
       "  </tbody>\n",
       "</table>\n",
       "</div>"
      ],
      "text/plain": [
       "                          cdd_close  ccxt_close\n",
       "currency_pair                                  \n",
       "ADA_USDT      cdd_close    1.000000    0.999995\n",
       "              ccxt_close   0.999995    1.000000\n",
       "BNB_USDT      cdd_close    1.000000    0.999999\n",
       "              ccxt_close   0.999999    1.000000\n",
       "BTC_USDT      cdd_close    1.000000    1.000000\n",
       "              ccxt_close   1.000000    1.000000\n",
       "EOS_USDT      cdd_close    1.000000    0.999906\n",
       "              ccxt_close   0.999906    1.000000\n",
       "ETH_USDT      cdd_close    1.000000    0.999994\n",
       "              ccxt_close   0.999994    1.000000\n",
       "LINK_USDT     cdd_close    1.000000    0.999995\n",
       "              ccxt_close   0.999995    1.000000\n",
       "SOL_USDT      cdd_close    1.000000    0.999474\n",
       "              ccxt_close   0.999474    1.000000"
      ]
     },
     "metadata": {},
     "output_type": "display_data"
    }
   ],
   "source": [
    "close_corr_1day = calculate_correlations(\n",
    "    ccxt_binance_series_1d, cdd_binance_series_1d, compute_returns=False\n",
    ")\n",
    "display(close_corr_1day)"
   ]
  }
 ],
 "metadata": {
  "kernelspec": {
   "display_name": "Python 3 (ipykernel)",
   "language": "python",
   "name": "python3"
  },
  "language_info": {
   "codemirror_mode": {
    "name": "ipython",
    "version": 3
   },
   "file_extension": ".py",
   "mimetype": "text/x-python",
   "name": "python",
   "nbconvert_exporter": "python",
   "pygments_lexer": "ipython3",
   "version": "3.8.10"
  },
  "toc": {
   "base_numbering": 1,
   "nav_menu": {},
   "number_sections": true,
   "sideBar": true,
   "skip_h1_title": false,
   "title_cell": "Table of Contents",
   "title_sidebar": "Contents",
   "toc_cell": false,
   "toc_position": {},
   "toc_section_display": true,
   "toc_window_display": false
  }
 },
 "nbformat": 4,
 "nbformat_minor": 5
}
