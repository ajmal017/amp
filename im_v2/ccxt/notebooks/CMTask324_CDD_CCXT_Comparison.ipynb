{
 "cells": [
  {
   "cell_type": "markdown",
   "id": "2d5b9812",
   "metadata": {},
   "source": [
    "# Imports"
   ]
  },
  {
   "cell_type": "code",
   "execution_count": 1,
   "id": "df02857b",
   "metadata": {
    "ExecuteTime": {
     "end_time": "2022-01-18T21:06:11.259097Z",
     "start_time": "2022-01-18T21:06:09.789830Z"
    }
   },
   "outputs": [],
   "source": [
    "import logging\n",
    "import os\n",
    "\n",
    "import pandas as pd\n",
    "\n",
    "import core.config.config_ as cconconf\n",
    "import helpers.hdbg as hdbg\n",
    "import helpers.henv as henv\n",
    "import helpers.hprint as hprint\n",
    "import helpers.hs3 as hs3\n",
    "import im_v2.ccxt.data.client as icdcl\n",
    "import im_v2.ccxt.universe.universe as imvccunun\n",
    "import im_v2.common.data.client as icdc\n",
    "import im_v2.cryptodatadownload.data.client.cdd_client as imcdaclcd\n",
    "import research_amp.cc.statistics as ramccsta"
   ]
  },
  {
   "cell_type": "code",
   "execution_count": 2,
   "id": "e2f361e4",
   "metadata": {
    "ExecuteTime": {
     "end_time": "2022-01-18T21:06:13.383442Z",
     "start_time": "2022-01-18T21:06:11.260876Z"
    },
    "scrolled": true
   },
   "outputs": [
    {
     "name": "stdout",
     "output_type": "stream",
     "text": [
      "\u001b[0m\u001b[36mINFO\u001b[0m: > cmd='/venv/lib/python3.8/site-packages/ipykernel_launcher.py -f /home/.local/share/jupyter/runtime/kernel-c3f495ba-b3df-4a39-9aad-c953717109dd.json'\n",
      "\u001b[33mWARNING\u001b[0m: Running in Jupyter\n",
      ">>ENV<<: is_inside_container=True: code_version=1.0.6, container_version=cmamp-1.0.3, is_inside_docker=True, is_inside_ci=False, CI_defined=True, CI=''\n",
      ">>ENV<<: AM_AWS_PROFILE=True AM_ECR_BASE_PATH=True AM_S3_BUCKET=True AM_TELEGRAM_TOKEN=True AWS_ACCESS_KEY_ID=False AWS_DEFAULT_REGION=False AWS_SECRET_ACCESS_KEY=False GH_ACTION_ACCESS_TOKEN=True\n",
      "\u001b[31m-----------------------------------------------------------------------------\n",
      "This code is not in sync with the container:\n",
      "code_version='1.0.6' != container_version='cmamp-1.0.3'\n",
      "-----------------------------------------------------------------------------\n",
      "You need to:\n",
      "- merge origin/master into your branch with `invoke git_merge_master`\n",
      "- pull the latest container with `invoke docker_pull`\u001b[0m\n",
      "# Git\n",
      "    branch_name='CMTask878_Clean_up_CCXT_vs_CDD_notebook'\n",
      "    hash='d622a0055'\n",
      "    # Last commits:\n",
      "      * d622a0055 PomazkinG fix nb                                                            (  24 hours ago) Mon Jan 17 21:10:28 2022  (HEAD -> CMTask878_Clean_up_CCXT_vs_CDD_notebook, origin/CMTask878_Clean_up_CCXT_vs_CDD_notebook)\n",
      "      * ea36ca1fc Maksim Sergeychikov Checkpoint                                                        (  27 hours ago) Mon Jan 17 17:45:48 2022           \n",
      "      *   960a492af Maksim Sergeychikov Checkpoint                                                        (  28 hours ago) Mon Jan 17 17:32:15 2022           \n",
      "      |\\  \n",
      "# Machine info\n",
      "    system=Linux\n",
      "    node name=721187fb2043\n",
      "    release=5.4.0-1057-aws\n",
      "    version=#60~18.04.1-Ubuntu SMP Thu Sep 9 20:38:09 UTC 2021\n",
      "    machine=x86_64\n",
      "    processor=x86_64\n",
      "    cpu count=4\n",
      "    cpu freq=scpufreq(current=2499.998, min=0.0, max=0.0)\n",
      "    memory=svmem(total=16596852736, available=13262462976, percent=20.1, used=2847047680, free=5002362880, active=5966274560, inactive=4113248256, buffers=622129152, cached=8125313024, shared=160882688, slab=1280212992)\n",
      "    disk usage=sdiskusage(total=133167038464, used=108906061824, free=24244199424, percent=81.8)\n",
      "# Packages\n",
      "    python: 3.8.10\n",
      "    gluonnlp: ?\n",
      "    gluonts: 0.6.7\n",
      "    joblib: 1.1.0\n",
      "    mxnet: 1.8.0\n",
      "    numpy: 1.21.1\n",
      "    pandas: 1.3.4\n",
      "    pyarrow: 6.0.1\n",
      "    scipy: 1.6.1\n",
      "    seaborn: 0.11.2\n",
      "    sklearn: 1.0.1\n",
      "    statsmodels: 0.13.1\n",
      "\u001b[33mWARNING\u001b[0m: Disabling annoying warnings\n"
     ]
    }
   ],
   "source": [
    "hdbg.init_logger(verbosity=logging.INFO)\n",
    "\n",
    "_LOG = logging.getLogger(__name__)\n",
    "\n",
    "_LOG.info(\"%s\", henv.get_system_signature()[0])\n",
    "\n",
    "hprint.config_notebook()"
   ]
  },
  {
   "cell_type": "markdown",
   "id": "556c6b2b",
   "metadata": {},
   "source": [
    "# Configs"
   ]
  },
  {
   "cell_type": "code",
   "execution_count": 3,
   "id": "36e03497",
   "metadata": {
    "ExecuteTime": {
     "end_time": "2022-01-18T21:06:13.388700Z",
     "start_time": "2022-01-18T21:06:13.385720Z"
    }
   },
   "outputs": [],
   "source": [
    "# Generate configs for `CDD` and `CCXT`."
   ]
  },
  {
   "cell_type": "code",
   "execution_count": 4,
   "id": "faad3a0a",
   "metadata": {
    "ExecuteTime": {
     "end_time": "2022-01-18T21:06:13.398238Z",
     "start_time": "2022-01-18T21:06:13.391702Z"
    }
   },
   "outputs": [],
   "source": [
    "def get_cmtask324_config_ccxt() -> cconconf.Config:\n",
    "    \"\"\"\n",
    "    Get task232-specific config.\n",
    "    \"\"\"\n",
    "    config = cconconf.Config()\n",
    "    # Load parameters.\n",
    "    config.add_subconfig(\"load\")\n",
    "    config[\"load\"][\"aws_profile\"] = \"am\"\n",
    "    config[\"load\"][\"data_dir\"] = os.path.join(hs3.get_path(), \"data\")\n",
    "    # Data parameters.\n",
    "    config.add_subconfig(\"data\")\n",
    "    config[\"data\"][\"data_type\"] = \"OHLCV\"\n",
    "    config[\"data\"][\"target_frequency\"] = \"T\"\n",
    "    config[\"data\"][\"universe_version\"] = \"v03\"\n",
    "    config[\"data\"][\"vendor\"] = \"CCXT\"\n",
    "    # Column names.\n",
    "    config.add_subconfig(\"column_names\")\n",
    "    config[\"column_names\"][\"close_price\"] = \"close\"\n",
    "    config[\"column_names\"][\"currency_pair\"] = \"currency_pair\"\n",
    "    config[\"column_names\"][\"exchange_id\"] = \"exchange_id\"\n",
    "    return config"
   ]
  },
  {
   "cell_type": "code",
   "execution_count": 5,
   "id": "7938181f",
   "metadata": {
    "ExecuteTime": {
     "end_time": "2022-01-18T21:06:13.404968Z",
     "start_time": "2022-01-18T21:06:13.400125Z"
    }
   },
   "outputs": [
    {
     "name": "stdout",
     "output_type": "stream",
     "text": [
      "load:\n",
      "  aws_profile: am\n",
      "  data_dir: s3://alphamatic-data/data\n",
      "data:\n",
      "  data_type: OHLCV\n",
      "  target_frequency: T\n",
      "  universe_version: v03\n",
      "  vendor: CCXT\n",
      "column_names:\n",
      "  close_price: close\n",
      "  currency_pair: currency_pair\n",
      "  exchange_id: exchange_id\n"
     ]
    }
   ],
   "source": [
    "config_ccxt = get_cmtask324_config_ccxt()\n",
    "print(config_ccxt)"
   ]
  },
  {
   "cell_type": "code",
   "execution_count": 6,
   "id": "a50f2134",
   "metadata": {
    "ExecuteTime": {
     "end_time": "2022-01-18T21:06:13.414929Z",
     "start_time": "2022-01-18T21:06:13.407090Z"
    }
   },
   "outputs": [],
   "source": [
    "def get_cmtask324_config_cdd() -> cconconf.Config:\n",
    "    \"\"\"\n",
    "    Get task324-specific config.\n",
    "    \"\"\"\n",
    "    config = cconconf.Config()\n",
    "    # Load parameters.\n",
    "    config.add_subconfig(\"load\")\n",
    "    config[\"load\"][\"aws_profile\"] = \"am\"\n",
    "    config[\"load\"][\"data_dir\"] = os.path.join(hs3.get_path(), \"data\")\n",
    "    # Data parameters.\n",
    "    config.add_subconfig(\"data\")\n",
    "    config[\"data\"][\"data_type\"] = \"OHLCV\"\n",
    "    config[\"data\"][\"target_frequency\"] = \"T\"\n",
    "    config[\"data\"][\"universe_version\"] = \"v01\"\n",
    "    config[\"data\"][\"vendor\"] = \"CDD\"\n",
    "    # Column names.\n",
    "    config.add_subconfig(\"column_names\")\n",
    "    config[\"column_names\"][\"close_price\"] = \"close\"\n",
    "    config[\"column_names\"][\"currency_pair\"] = \"currency_pair\"\n",
    "    config[\"column_names\"][\"exchange_id\"] = \"exchange_id\"\n",
    "    return config"
   ]
  },
  {
   "cell_type": "code",
   "execution_count": 7,
   "id": "793ba0b7",
   "metadata": {
    "ExecuteTime": {
     "end_time": "2022-01-18T21:06:13.421593Z",
     "start_time": "2022-01-18T21:06:13.416895Z"
    }
   },
   "outputs": [
    {
     "name": "stdout",
     "output_type": "stream",
     "text": [
      "load:\n",
      "  aws_profile: am\n",
      "  data_dir: s3://alphamatic-data/data\n",
      "data:\n",
      "  data_type: OHLCV\n",
      "  target_frequency: T\n",
      "  universe_version: v01\n",
      "  vendor: CDD\n",
      "column_names:\n",
      "  close_price: close\n",
      "  currency_pair: currency_pair\n",
      "  exchange_id: exchange_id\n"
     ]
    }
   ],
   "source": [
    "config_cdd = get_cmtask324_config_cdd()\n",
    "print(config_cdd)"
   ]
  },
  {
   "cell_type": "markdown",
   "id": "51702034",
   "metadata": {},
   "source": [
    "# Load the data universe"
   ]
  },
  {
   "cell_type": "markdown",
   "id": "70420724",
   "metadata": {},
   "source": [
    "## CCXT"
   ]
  },
  {
   "cell_type": "code",
   "execution_count": 8,
   "id": "d15816d5",
   "metadata": {
    "ExecuteTime": {
     "end_time": "2022-01-18T21:06:13.492844Z",
     "start_time": "2022-01-18T21:06:13.423091Z"
    },
    "scrolled": true
   },
   "outputs": [],
   "source": [
    "ccxt_universe = imvccunun.get_vendor_universe(version=\"v03\")"
   ]
  },
  {
   "cell_type": "markdown",
   "id": "b178b946",
   "metadata": {},
   "source": [
    "## CDD"
   ]
  },
  {
   "cell_type": "code",
   "execution_count": 9,
   "id": "a45e3fad",
   "metadata": {
    "ExecuteTime": {
     "end_time": "2022-01-18T21:06:13.499964Z",
     "start_time": "2022-01-18T21:06:13.495273Z"
    },
    "run_control": {
     "marked": false
    }
   },
   "outputs": [],
   "source": [
    "cdd_universe = imvccunun.get_vendor_universe(version=\"v01\", vendor=\"CDD\")\n",
    "# Remove non-USDT elements, since we are not interested in them.\n",
    "cdd_universe = [element for element in cdd_universe if element.endswith(\"USDT\")]"
   ]
  },
  {
   "cell_type": "markdown",
   "id": "821f2129",
   "metadata": {},
   "source": [
    "# Compare universes"
   ]
  },
  {
   "cell_type": "code",
   "execution_count": 17,
   "id": "23220816",
   "metadata": {
    "ExecuteTime": {
     "end_time": "2022-01-18T21:38:40.129473Z",
     "start_time": "2022-01-18T21:38:40.124157Z"
    }
   },
   "outputs": [
    {
     "name": "stdout",
     "output_type": "stream",
     "text": [
      "Number of full symbols in 'CCXT': 38\n",
      "Number of full symbols in 'CDD': 36\n"
     ]
    }
   ],
   "source": [
    "_LOG.info(\"Number of full symbols in 'CCXT': %s\", len(ccxt_universe))\n",
    "_LOG.info(\"Number of full symbols in 'CDD': %s\", len(cdd_universe))"
   ]
  },
  {
   "cell_type": "code",
   "execution_count": 11,
   "id": "158481db",
   "metadata": {
    "ExecuteTime": {
     "end_time": "2022-01-18T21:06:13.520953Z",
     "start_time": "2022-01-18T21:06:13.511945Z"
    }
   },
   "outputs": [
    {
     "name": "stdout",
     "output_type": "stream",
     "text": [
      "Number of similar full symbols: 18\n"
     ]
    },
    {
     "data": {
      "text/plain": [
       "{'binance::ADA_USDT',\n",
       " 'binance::BNB_USDT',\n",
       " 'binance::BTC_USDT',\n",
       " 'binance::EOS_USDT',\n",
       " 'binance::ETH_USDT',\n",
       " 'binance::LINK_USDT',\n",
       " 'binance::SOL_USDT',\n",
       " 'ftx::BNB_USDT',\n",
       " 'ftx::BTC_USDT',\n",
       " 'ftx::ETH_USDT',\n",
       " 'ftx::LINK_USDT',\n",
       " 'ftx::XRP_USDT',\n",
       " 'kucoin::ADA_USDT',\n",
       " 'kucoin::BNB_USDT',\n",
       " 'kucoin::BTC_USDT',\n",
       " 'kucoin::EOS_USDT',\n",
       " 'kucoin::ETH_USDT',\n",
       " 'kucoin::XRP_USDT'}"
      ]
     },
     "metadata": {},
     "output_type": "display_data"
    }
   ],
   "source": [
    "# Intersection of full symbols between two vendors.\n",
    "currency_pair_intersection = set(ccxt_universe).intersection(cdd_universe)\n",
    "_LOG.info(\"Number of similar full symbols: %s\", len(currency_pair_intersection))\n",
    "display(currency_pair_intersection)"
   ]
  },
  {
   "cell_type": "code",
   "execution_count": 12,
   "id": "a72f1f1f",
   "metadata": {
    "ExecuteTime": {
     "end_time": "2022-01-18T21:06:13.528757Z",
     "start_time": "2022-01-18T21:06:13.523022Z"
    },
    "scrolled": true
   },
   "outputs": [
    {
     "name": "stdout",
     "output_type": "stream",
     "text": [
      "Number of full symbols that are included in 'CCXT' but not in 'CDD': 20\n"
     ]
    },
    {
     "data": {
      "text/plain": [
       "{'binance::AVAX_USDT',\n",
       " 'binance::DOGE_USDT',\n",
       " 'ftx::DOGE_USDT',\n",
       " 'ftx::SOL_USDT',\n",
       " 'gateio::ADA_USDT',\n",
       " 'gateio::AVAX_USDT',\n",
       " 'gateio::BNB_USDT',\n",
       " 'gateio::BTC_USDT',\n",
       " 'gateio::DOGE_USDT',\n",
       " 'gateio::EOS_USDT',\n",
       " 'gateio::ETH_USDT',\n",
       " 'gateio::FIL_USDT',\n",
       " 'gateio::LINK_USDT',\n",
       " 'gateio::SOL_USDT',\n",
       " 'gateio::XRP_USDT',\n",
       " 'kucoin::AVAX_USDT',\n",
       " 'kucoin::DOGE_USDT',\n",
       " 'kucoin::FIL_USDT',\n",
       " 'kucoin::LINK_USDT',\n",
       " 'kucoin::SOL_USDT'}"
      ]
     },
     "metadata": {},
     "output_type": "display_data"
    }
   ],
   "source": [
    "# Full symbols that are included in `CCXT` but not in `CDD`.\n",
    "ccxt_and_not_cdd = set(ccxt_universe).difference(cdd_universe)\n",
    "_LOG.info(\n",
    "    \"Number of full symbols that are included in 'CCXT' but not in 'CDD': %s\",\n",
    "    len(ccxt_and_not_cdd),\n",
    ")\n",
    "display(ccxt_and_not_cdd)"
   ]
  },
  {
   "cell_type": "code",
   "execution_count": 13,
   "id": "0523b1b7",
   "metadata": {
    "ExecuteTime": {
     "end_time": "2022-01-18T21:06:13.603162Z",
     "start_time": "2022-01-18T21:06:13.596350Z"
    },
    "scrolled": true
   },
   "outputs": [
    {
     "name": "stdout",
     "output_type": "stream",
     "text": [
      "Number of full symbols that are included in 'CDD' but not in 'CCXT': 40\n"
     ]
    },
    {
     "data": {
      "text/plain": [
       "{'binance::AAVE_USDT',\n",
       " 'binance::BAT_USDT',\n",
       " 'binance::BTT_USDT',\n",
       " 'binance::CELR_USDT',\n",
       " 'binance::CVC_USDT',\n",
       " 'binance::DAI_USDT',\n",
       " 'binance::DASH_USDT',\n",
       " 'binance::DOT_USDT',\n",
       " 'binance::ETC_USDT',\n",
       " 'binance::FIL_USDT',\n",
       " 'binance::ICP_USDT',\n",
       " 'binance::ICX_USDT',\n",
       " 'binance::LRC_USDT',\n",
       " 'binance::LTC_USDT',\n",
       " 'binance::MATIC_USDT',\n",
       " 'binance::MKR_USDT',\n",
       " 'binance::NEO_USDT',\n",
       " 'binance::ONE_USDT',\n",
       " 'binance::PAX_USDT',\n",
       " 'binance::QTUM_USDT',\n",
       " 'binance::SCU_USDT',\n",
       " 'binance::TRX_USDT',\n",
       " 'binance::TUSD_USDT',\n",
       " 'binance::UNI_USDT',\n",
       " 'binance::USDC_USDT',\n",
       " 'binance::VET_USDT',\n",
       " 'binance::XLM_USDT',\n",
       " 'binance::XMR_USDT',\n",
       " 'binance::XRP_USDT',\n",
       " 'binance::ZEC_USDT',\n",
       " 'ftx::BCH_USDT',\n",
       " 'ftx::LTC_USDT',\n",
       " 'ftx::TRX_USDT',\n",
       " 'kucoin::BCH_USDT',\n",
       " 'kucoin::DASH_USDT',\n",
       " 'kucoin::LTC_USDT',\n",
       " 'kucoin::NEO_USDT',\n",
       " 'kucoin::TRX_USDT',\n",
       " 'kucoin::XTZ_USDT',\n",
       " 'kucoin::ZEC_USDT'}"
      ]
     },
     "metadata": {},
     "output_type": "display_data"
    }
   ],
   "source": [
    "# Full symbols that are included in `CDD` but not in `CCXT`.\n",
    "cdd_and_not_ccxt = set(cdd_universe).difference(ccxt_universe)\n",
    "_LOG.info(\n",
    "    \"Number of full symbols that are included in 'CDD' but not in 'CCXT': %s\",\n",
    "    len(cdd_and_not_ccxt),\n",
    ")\n",
    "display(cdd_and_not_ccxt)"
   ]
  },
  {
   "cell_type": "markdown",
   "id": "06969925",
   "metadata": {},
   "source": [
    "# Compare close prices / returns from Binance"
   ]
  },
  {
   "cell_type": "markdown",
   "id": "65eb6a58",
   "metadata": {},
   "source": [
    "## Load the data"
   ]
  },
  {
   "cell_type": "markdown",
   "id": "ae3f24d9",
   "metadata": {
    "ExecuteTime": {
     "end_time": "2021-12-08T19:37:31.258647Z",
     "start_time": "2021-12-08T19:37:31.251517Z"
    }
   },
   "source": [
    "The code below can be used to load all the existing data from two vendors 'CDD' and 'CCXT'. Current version is specified to Binance only, however, even for one exchange there's too many data to operate, that's why the output is the intersection of currency pairs between to universe, since one can compare only the intersection of currency pairs for two vendors."
   ]
  },
  {
   "cell_type": "code",
   "execution_count": 14,
   "id": "be827c12",
   "metadata": {
    "ExecuteTime": {
     "end_time": "2022-01-18T19:26:05.833967Z",
     "start_time": "2022-01-18T19:26:05.829356Z"
    }
   },
   "outputs": [],
   "source": [
    "# Load Binance-specific universe for `CCXT`.\n",
    "ccxt_binance_universe = [\n",
    "    element for element in ccxt_universe if element.startswith(\"binance\")\n",
    "]\n",
    "# Load Binnance-specific universe for `CDD`.\n",
    "cdd_binance_universe_initial = [\n",
    "    element for element in cdd_universe if element.startswith(\"binance\")\n",
    "]\n",
    "cdd_binance_universe = cdd_binance_universe_initial.copy()\n",
    "# SCU_USDT has incorrect columns, so can not be downloaded.\n",
    "# See CMTask244 - Cannot load CDD - binance - SCU/USDT from s3 for the reference.\n",
    "cdd_binance_universe.remove(\"binance::SCU_USDT\")\n",
    "# The intersection of Binance currency pairs from two universes.\n",
    "currency_pair_intersection_binance = set(ccxt_binance_universe).intersection(\n",
    "    cdd_binance_universe_initial\n",
    ")"
   ]
  },
  {
   "cell_type": "code",
   "execution_count": 16,
   "id": "8db077be",
   "metadata": {
    "ExecuteTime": {
     "end_time": "2022-01-18T19:36:08.618497Z",
     "start_time": "2022-01-18T19:35:11.209142Z"
    },
    "scrolled": true
   },
   "outputs": [
    {
     "name": "stdout",
     "output_type": "stream",
     "text": [
      "Reading CDD data for exchange id='binance', currencies='ETH_USDT', from file='s3://alphamatic-data/data/cryptodatadownload/20210924/binance/ETH_USDT.csv.gz'...\n",
      "Processing CDD data for exchange id='binance', currencies='ETH_USDT'...\n",
      "Index length increased by 5288 = 948591 - 943303\n",
      "Reading CDD data for exchange id='binance', currencies='EOS_USDT', from file='s3://alphamatic-data/data/cryptodatadownload/20210924/binance/EOS_USDT.csv.gz'...\n",
      "Processing CDD data for exchange id='binance', currencies='EOS_USDT'...\n",
      "Index length increased by 5289 = 888096 - 882807\n",
      "Reading CDD data for exchange id='binance', currencies='ADA_USDT', from file='s3://alphamatic-data/data/cryptodatadownload/20210924/binance/ADA_USDT.csv.gz'...\n",
      "Processing CDD data for exchange id='binance', currencies='ADA_USDT'...\n",
      "Index length increased by 5288 = 854976 - 849688\n",
      "Reading CDD data for exchange id='binance', currencies='BTC_USDT', from file='s3://alphamatic-data/data/cryptodatadownload/20210924/binance/BTC_USDT.csv.gz'...\n",
      "Processing CDD data for exchange id='binance', currencies='BTC_USDT'...\n",
      "Index length increased by 5289 = 1063179 - 1057890\n",
      "Reading CDD data for exchange id='binance', currencies='LINK_USDT', from file='s3://alphamatic-data/data/cryptodatadownload/20210924/binance/LINK_USDT.csv.gz'...\n",
      "Processing CDD data for exchange id='binance', currencies='LINK_USDT'...\n",
      "Index length increased by 5289 = 875139 - 869850\n",
      "Reading CDD data for exchange id='binance', currencies='BNB_USDT', from file='s3://alphamatic-data/data/cryptodatadownload/20210924/binance/BNB_USDT.csv.gz'...\n",
      "Processing CDD data for exchange id='binance', currencies='BNB_USDT'...\n",
      "Index length increased by 5289 = 840575 - 835286\n",
      "Reading CDD data for exchange id='binance', currencies='SOL_USDT', from file='s3://alphamatic-data/data/cryptodatadownload/20210924/binance/SOL_USDT.csv.gz'...\n",
      "Processing CDD data for exchange id='binance', currencies='SOL_USDT'...\n",
      "Index length increased by 270 = 129252 - 128982\n"
     ]
    }
   ],
   "source": [
    "cdd_data = []\n",
    "data_type_cdd = config_cdd[\"data\"][\"data_type\"]\n",
    "root_dir_cdd = config_cdd[\"load\"][\"data_dir\"]\n",
    "aws_profile_cdd = config_cdd[\"load\"][\"aws_profile\"]\n",
    "cdd_loader = imcdaclcd.CddClient(\n",
    "    data_type_cdd, root_dir_cdd, aws_profile=aws_profile_cdd\n",
    ")\n",
    "\n",
    "for full_symbol in currency_pair_intersection_binance:\n",
    "    cur_data = cdd_loader.read_data(full_symbol)\n",
    "    cdd_data.append(cur_data)\n",
    "cdd_binance_df = pd.concat(cdd_data)"
   ]
  },
  {
   "cell_type": "code",
   "execution_count": 17,
   "id": "ab156e6d",
   "metadata": {
    "ExecuteTime": {
     "end_time": "2022-01-18T19:36:08.638302Z",
     "start_time": "2022-01-18T19:36:08.620901Z"
    }
   },
   "outputs": [
    {
     "data": {
      "text/html": [
       "<div>\n",
       "<style scoped>\n",
       "    .dataframe tbody tr th:only-of-type {\n",
       "        vertical-align: middle;\n",
       "    }\n",
       "\n",
       "    .dataframe tbody tr th {\n",
       "        vertical-align: top;\n",
       "    }\n",
       "\n",
       "    .dataframe thead th {\n",
       "        text-align: right;\n",
       "    }\n",
       "</style>\n",
       "<table border=\"1\" class=\"dataframe\">\n",
       "  <thead>\n",
       "    <tr style=\"text-align: right;\">\n",
       "      <th></th>\n",
       "      <th>open</th>\n",
       "      <th>high</th>\n",
       "      <th>low</th>\n",
       "      <th>close</th>\n",
       "      <th>volume</th>\n",
       "      <th>epoch</th>\n",
       "      <th>currency_pair</th>\n",
       "      <th>exchange_id</th>\n",
       "    </tr>\n",
       "    <tr>\n",
       "      <th>timestamp</th>\n",
       "      <th></th>\n",
       "      <th></th>\n",
       "      <th></th>\n",
       "      <th></th>\n",
       "      <th></th>\n",
       "      <th></th>\n",
       "      <th></th>\n",
       "      <th></th>\n",
       "    </tr>\n",
       "  </thead>\n",
       "  <tbody>\n",
       "    <tr>\n",
       "      <th>2019-11-27 07:45:00+00:00</th>\n",
       "      <td>146.0</td>\n",
       "      <td>146.0</td>\n",
       "      <td>146.0</td>\n",
       "      <td>146.0</td>\n",
       "      <td>0.01</td>\n",
       "      <td>1.574841e+12</td>\n",
       "      <td>ETH/USDT</td>\n",
       "      <td>binance</td>\n",
       "    </tr>\n",
       "    <tr>\n",
       "      <th>2019-11-27 07:46:00+00:00</th>\n",
       "      <td>146.0</td>\n",
       "      <td>146.0</td>\n",
       "      <td>146.0</td>\n",
       "      <td>146.0</td>\n",
       "      <td>0.00</td>\n",
       "      <td>1.574841e+12</td>\n",
       "      <td>ETH/USDT</td>\n",
       "      <td>binance</td>\n",
       "    </tr>\n",
       "    <tr>\n",
       "      <th>2019-11-27 07:47:00+00:00</th>\n",
       "      <td>146.0</td>\n",
       "      <td>146.0</td>\n",
       "      <td>146.0</td>\n",
       "      <td>146.0</td>\n",
       "      <td>0.00</td>\n",
       "      <td>1.574841e+12</td>\n",
       "      <td>ETH/USDT</td>\n",
       "      <td>binance</td>\n",
       "    </tr>\n",
       "  </tbody>\n",
       "</table>\n",
       "</div>"
      ],
      "text/plain": [
       "                            open   high    low  close  volume         epoch currency_pair exchange_id\n",
       "timestamp                                                                                            \n",
       "2019-11-27 07:45:00+00:00  146.0  146.0  146.0  146.0    0.01  1.574841e+12      ETH/USDT     binance\n",
       "2019-11-27 07:46:00+00:00  146.0  146.0  146.0  146.0    0.00  1.574841e+12      ETH/USDT     binance\n",
       "2019-11-27 07:47:00+00:00  146.0  146.0  146.0  146.0    0.00  1.574841e+12      ETH/USDT     binance"
      ]
     },
     "metadata": {},
     "output_type": "display_data"
    },
    {
     "data": {
      "text/plain": [
       "(5599808, 8)"
      ]
     },
     "metadata": {},
     "output_type": "display_data"
    }
   ],
   "source": [
    "display(cdd_binance_df.head(3))\n",
    "display(cdd_binance_df.shape)"
   ]
  },
  {
   "cell_type": "code",
   "execution_count": 18,
   "id": "948765b9",
   "metadata": {
    "ExecuteTime": {
     "end_time": "2022-01-18T19:37:54.095772Z",
     "start_time": "2022-01-18T19:36:29.209242Z"
    },
    "scrolled": true
   },
   "outputs": [
    {
     "name": "stdout",
     "output_type": "stream",
     "text": [
      "Reading CCXT data for exchange id='binance', currencies='ADA_USDT' from file='s3://alphamatic-data/data/ccxt/20210924/binance/ADA_USDT.csv.gz'...\n",
      "Reading CCXT data for exchange id='binance', currencies='BNB_USDT' from file='s3://alphamatic-data/data/ccxt/20210924/binance/BNB_USDT.csv.gz'...\n",
      "Reading CCXT data for exchange id='binance', currencies='BTC_USDT' from file='s3://alphamatic-data/data/ccxt/20210924/binance/BTC_USDT.csv.gz'...\n",
      "Reading CCXT data for exchange id='binance', currencies='EOS_USDT' from file='s3://alphamatic-data/data/ccxt/20210924/binance/EOS_USDT.csv.gz'...\n",
      "Reading CCXT data for exchange id='binance', currencies='ETH_USDT' from file='s3://alphamatic-data/data/ccxt/20210924/binance/ETH_USDT.csv.gz'...\n",
      "Reading CCXT data for exchange id='binance', currencies='LINK_USDT' from file='s3://alphamatic-data/data/ccxt/20210924/binance/LINK_USDT.csv.gz'...\n",
      "Reading CCXT data for exchange id='binance', currencies='SOL_USDT' from file='s3://alphamatic-data/data/ccxt/20210924/binance/SOL_USDT.csv.gz'...\n",
      "Removed 48775 / 1617480 = 3.02% rows\n",
      "Index length increased by 53295 = 1622000 - 1568705\n",
      "Removed 1253 / 1617775 = 0.08% rows\n",
      "Index length increased by 5773 = 1622295 - 1616522\n",
      "Removed 210 / 1615122 = 0.01% rows\n",
      "Index length increased by 4729 = 1619641 - 1614912\n",
      "Removed 6067 / 1617924 = 0.37% rows\n",
      "Index length increased by 10587 = 1622444 - 1611857\n",
      "Removed 215 / 1615369 = 0.01% rows\n",
      "Index length increased by 4735 = 1619889 - 1615154\n",
      "Removed 108869 / 1398630 = 7.78% rows\n",
      "Index length increased by 112759 = 1402520 - 1289761\n",
      "Removed 12528 / 574916 = 2.18% rows\n",
      "Index length increased by 13752 = 576140 - 562388\n"
     ]
    }
   ],
   "source": [
    "extension = \"csv.gz\"\n",
    "root_dir_ccxt=config_ccxt[\"load\"][\"data_dir\"]\n",
    "aws_profile_ccxt = config_ccxt[\"load\"][\"aws_profile\"]\n",
    "ccxt_csv_client = icdcl.CcxtCsvParquetByAssetClient(\n",
    "    root_dir_ccxt, extension, aws_profile=aws_profile_ccxt\n",
    ")\n",
    "start_ts = None\n",
    "end_ts = None\n",
    "ccxt_binance_df = ccxt_csv_client.read_data(\n",
    "    list(currency_pair_intersection_binance),\n",
    "    start_ts,\n",
    "    end_ts,\n",
    ")"
   ]
  },
  {
   "cell_type": "code",
   "execution_count": 19,
   "id": "9e98f749",
   "metadata": {
    "ExecuteTime": {
     "end_time": "2022-01-18T19:37:54.111510Z",
     "start_time": "2022-01-18T19:37:54.097682Z"
    }
   },
   "outputs": [
    {
     "data": {
      "text/html": [
       "<div>\n",
       "<style scoped>\n",
       "    .dataframe tbody tr th:only-of-type {\n",
       "        vertical-align: middle;\n",
       "    }\n",
       "\n",
       "    .dataframe tbody tr th {\n",
       "        vertical-align: top;\n",
       "    }\n",
       "\n",
       "    .dataframe thead th {\n",
       "        text-align: right;\n",
       "    }\n",
       "</style>\n",
       "<table border=\"1\" class=\"dataframe\">\n",
       "  <thead>\n",
       "    <tr style=\"text-align: right;\">\n",
       "      <th></th>\n",
       "      <th>full_symbol</th>\n",
       "      <th>open</th>\n",
       "      <th>high</th>\n",
       "      <th>low</th>\n",
       "      <th>close</th>\n",
       "      <th>volume</th>\n",
       "      <th>currency_pair</th>\n",
       "      <th>exchange_id</th>\n",
       "    </tr>\n",
       "    <tr>\n",
       "      <th>timestamp</th>\n",
       "      <th></th>\n",
       "      <th></th>\n",
       "      <th></th>\n",
       "      <th></th>\n",
       "      <th></th>\n",
       "      <th></th>\n",
       "      <th></th>\n",
       "      <th></th>\n",
       "    </tr>\n",
       "  </thead>\n",
       "  <tbody>\n",
       "    <tr>\n",
       "      <th>2018-08-17 00:00:00+00:00</th>\n",
       "      <td>binance::ADA_USDT</td>\n",
       "      <td>0.0946</td>\n",
       "      <td>0.0948</td>\n",
       "      <td>0.09442</td>\n",
       "      <td>0.09479</td>\n",
       "      <td>41334.200000</td>\n",
       "      <td>ADA_USDT</td>\n",
       "      <td>binance</td>\n",
       "    </tr>\n",
       "    <tr>\n",
       "      <th>2018-08-17 00:00:00+00:00</th>\n",
       "      <td>binance::BNB_USDT</td>\n",
       "      <td>9.7779</td>\n",
       "      <td>9.7791</td>\n",
       "      <td>9.75380</td>\n",
       "      <td>9.77780</td>\n",
       "      <td>520.660000</td>\n",
       "      <td>BNB_USDT</td>\n",
       "      <td>binance</td>\n",
       "    </tr>\n",
       "    <tr>\n",
       "      <th>2018-08-17 00:00:00+00:00</th>\n",
       "      <td>binance::BTC_USDT</td>\n",
       "      <td>6316.0000</td>\n",
       "      <td>6319.0400</td>\n",
       "      <td>6310.32000</td>\n",
       "      <td>6311.64000</td>\n",
       "      <td>9.967395</td>\n",
       "      <td>BTC_USDT</td>\n",
       "      <td>binance</td>\n",
       "    </tr>\n",
       "  </tbody>\n",
       "</table>\n",
       "</div>"
      ],
      "text/plain": [
       "                                 full_symbol       open       high         low       close        volume currency_pair exchange_id\n",
       "timestamp                                                                                                                         \n",
       "2018-08-17 00:00:00+00:00  binance::ADA_USDT     0.0946     0.0948     0.09442     0.09479  41334.200000      ADA_USDT     binance\n",
       "2018-08-17 00:00:00+00:00  binance::BNB_USDT     9.7779     9.7791     9.75380     9.77780    520.660000      BNB_USDT     binance\n",
       "2018-08-17 00:00:00+00:00  binance::BTC_USDT  6316.0000  6319.0400  6310.32000  6311.64000      9.967395      BTC_USDT     binance"
      ]
     },
     "metadata": {},
     "output_type": "display_data"
    },
    {
     "data": {
      "text/plain": [
       "(10084929, 8)"
      ]
     },
     "metadata": {},
     "output_type": "display_data"
    }
   ],
   "source": [
    "display(ccxt_binance_df.head(3))\n",
    "display(ccxt_binance_df.shape)"
   ]
  },
  {
   "cell_type": "markdown",
   "id": "34ce5bd1",
   "metadata": {},
   "source": [
    "## Calculate returns and correlation"
   ]
  },
  {
   "cell_type": "code",
   "execution_count": 20,
   "id": "e4a4a808",
   "metadata": {
    "ExecuteTime": {
     "end_time": "2022-01-18T19:38:14.285770Z",
     "start_time": "2022-01-18T19:38:11.148188Z"
    }
   },
   "outputs": [],
   "source": [
    "# `CDD` names cleaning.\n",
    "cdd_binance_df[\"currency_pair\"] = cdd_binance_df[\"currency_pair\"].str.replace(\n",
    "    \"/\", \"_\"\n",
    ")"
   ]
  },
  {
   "cell_type": "code",
   "execution_count": 21,
   "id": "c01e0a5f",
   "metadata": {
    "ExecuteTime": {
     "end_time": "2022-01-18T19:38:14.957935Z",
     "start_time": "2022-01-18T19:38:14.953501Z"
    }
   },
   "outputs": [],
   "source": [
    "def resample_close_price(df: pd.DataFrame, resampling_freq: str) -> pd.Series:\n",
    "    \"\"\"\n",
    "    Resample close price on the currency level to the specified frequency using\n",
    "    the last close price.\n",
    "\n",
    "    :param df: OHLCV data\n",
    "    :param resampling_freq: frequency from `pd.date_range()` to resample to\n",
    "    :return: resampled close price per currency\n",
    "    \"\"\"\n",
    "    # Reseting DateTime index, since pd.Grouper can't use index values.\n",
    "    df = df.reset_index().rename(columns={\"index\": \"stamp\"})\n",
    "    # Group by currency pairs and simultaneously resample to the desired frequency.\n",
    "    resampler = df.groupby(\n",
    "        [\"currency_pair\", pd.Grouper(key=\"timestamp\", freq=resampling_freq)]\n",
    "    )\n",
    "    # Take the last close value from each resampling period.\n",
    "    close_series = resampler.close.last()\n",
    "    return close_series"
   ]
  },
  {
   "cell_type": "code",
   "execution_count": 22,
   "id": "e2e7ae9f",
   "metadata": {
    "ExecuteTime": {
     "end_time": "2022-01-18T19:38:15.547348Z",
     "start_time": "2022-01-18T19:38:15.541848Z"
    }
   },
   "outputs": [],
   "source": [
    "def calculate_correlations(\n",
    "    ccxt_close_price: pd.Series, cdd_close_price: pd.Series, compute_returns: bool\n",
    ") -> pd.DataFrame:\n",
    "    \"\"\"\n",
    "    Take CCXT and CDD close prices and calculate the correlations for each\n",
    "    specific currency pair.\n",
    "\n",
    "    :param ccxt_series: resampled close price per currency for CCXT\n",
    "    :param cdd_series: resampled close price per currency for CDD\n",
    "    :param compute_returns: if True - compare returns, if False - compare close prices\n",
    "    :return: correlation matrix per currency\n",
    "    \"\"\"\n",
    "    if compute_returns:\n",
    "        # Group by currency pairs in order to calculate the percentage returns.\n",
    "        grouper_cdd = cdd_close_price.groupby(\"currency_pair\")\n",
    "        cdd_close_price = grouper_cdd.pct_change()\n",
    "        grouper_ccxt = ccxt_close_price.groupby(\"currency_pair\")\n",
    "        ccxt_close_price = grouper_ccxt.pct_change()\n",
    "    # Combine and calculate correlations.\n",
    "    combined = pd.merge(\n",
    "        cdd_close_price, ccxt_close_price, left_index=True, right_index=True\n",
    "    )\n",
    "    # Rename the columns.\n",
    "    if compute_returns:\n",
    "        combined.columns = [\"ccxt_returns\", \"cdd_returns\"]\n",
    "    else:\n",
    "        combined.columns = [\"cdd_close\", \"ccxt_close\"]\n",
    "    # Group by again to calculte returns correlation for each currency pair.\n",
    "    corr_matrix = combined.groupby(level=0).corr()\n",
    "    return corr_matrix"
   ]
  },
  {
   "cell_type": "code",
   "execution_count": 23,
   "id": "975b1df0",
   "metadata": {
    "ExecuteTime": {
     "end_time": "2022-01-18T19:38:32.099232Z",
     "start_time": "2022-01-18T19:38:16.355606Z"
    }
   },
   "outputs": [],
   "source": [
    "# Corresponding resampled Series.\n",
    "ccxt_binance_series_1d = resample_close_price(ccxt_binance_df, \"1D\")\n",
    "cdd_binance_series_1d = resample_close_price(cdd_binance_df, \"1D\")\n",
    "\n",
    "ccxt_binance_series_5min = resample_close_price(ccxt_binance_df, \"5min\")\n",
    "cdd_binance_series_5min = resample_close_price(cdd_binance_df, \"5min\")"
   ]
  },
  {
   "cell_type": "markdown",
   "id": "c56c9d1e",
   "metadata": {},
   "source": [
    "### 1-day returns"
   ]
  },
  {
   "cell_type": "code",
   "execution_count": 24,
   "id": "3af8f847",
   "metadata": {
    "ExecuteTime": {
     "end_time": "2022-01-18T19:38:32.220156Z",
     "start_time": "2022-01-18T19:38:32.101523Z"
    }
   },
   "outputs": [
    {
     "data": {
      "text/html": [
       "<div>\n",
       "<style scoped>\n",
       "    .dataframe tbody tr th:only-of-type {\n",
       "        vertical-align: middle;\n",
       "    }\n",
       "\n",
       "    .dataframe tbody tr th {\n",
       "        vertical-align: top;\n",
       "    }\n",
       "\n",
       "    .dataframe thead th {\n",
       "        text-align: right;\n",
       "    }\n",
       "</style>\n",
       "<table border=\"1\" class=\"dataframe\">\n",
       "  <thead>\n",
       "    <tr style=\"text-align: right;\">\n",
       "      <th></th>\n",
       "      <th></th>\n",
       "      <th>ccxt_returns</th>\n",
       "      <th>cdd_returns</th>\n",
       "    </tr>\n",
       "    <tr>\n",
       "      <th>currency_pair</th>\n",
       "      <th></th>\n",
       "      <th></th>\n",
       "      <th></th>\n",
       "    </tr>\n",
       "  </thead>\n",
       "  <tbody>\n",
       "    <tr>\n",
       "      <th rowspan=\"2\" valign=\"top\">ADA_USDT</th>\n",
       "      <th>ccxt_returns</th>\n",
       "      <td>1.000000</td>\n",
       "      <td>0.997807</td>\n",
       "    </tr>\n",
       "    <tr>\n",
       "      <th>cdd_returns</th>\n",
       "      <td>0.997807</td>\n",
       "      <td>1.000000</td>\n",
       "    </tr>\n",
       "    <tr>\n",
       "      <th rowspan=\"2\" valign=\"top\">BNB_USDT</th>\n",
       "      <th>ccxt_returns</th>\n",
       "      <td>1.000000</td>\n",
       "      <td>0.998490</td>\n",
       "    </tr>\n",
       "    <tr>\n",
       "      <th>cdd_returns</th>\n",
       "      <td>0.998490</td>\n",
       "      <td>1.000000</td>\n",
       "    </tr>\n",
       "    <tr>\n",
       "      <th rowspan=\"2\" valign=\"top\">BTC_USDT</th>\n",
       "      <th>ccxt_returns</th>\n",
       "      <td>1.000000</td>\n",
       "      <td>0.997763</td>\n",
       "    </tr>\n",
       "    <tr>\n",
       "      <th>cdd_returns</th>\n",
       "      <td>0.997763</td>\n",
       "      <td>1.000000</td>\n",
       "    </tr>\n",
       "    <tr>\n",
       "      <th rowspan=\"2\" valign=\"top\">EOS_USDT</th>\n",
       "      <th>ccxt_returns</th>\n",
       "      <td>1.000000</td>\n",
       "      <td>0.998294</td>\n",
       "    </tr>\n",
       "    <tr>\n",
       "      <th>cdd_returns</th>\n",
       "      <td>0.998294</td>\n",
       "      <td>1.000000</td>\n",
       "    </tr>\n",
       "    <tr>\n",
       "      <th rowspan=\"2\" valign=\"top\">ETH_USDT</th>\n",
       "      <th>ccxt_returns</th>\n",
       "      <td>1.000000</td>\n",
       "      <td>0.995563</td>\n",
       "    </tr>\n",
       "    <tr>\n",
       "      <th>cdd_returns</th>\n",
       "      <td>0.995563</td>\n",
       "      <td>1.000000</td>\n",
       "    </tr>\n",
       "    <tr>\n",
       "      <th rowspan=\"2\" valign=\"top\">LINK_USDT</th>\n",
       "      <th>ccxt_returns</th>\n",
       "      <td>1.000000</td>\n",
       "      <td>0.997200</td>\n",
       "    </tr>\n",
       "    <tr>\n",
       "      <th>cdd_returns</th>\n",
       "      <td>0.997200</td>\n",
       "      <td>1.000000</td>\n",
       "    </tr>\n",
       "    <tr>\n",
       "      <th rowspan=\"2\" valign=\"top\">SOL_USDT</th>\n",
       "      <th>ccxt_returns</th>\n",
       "      <td>1.000000</td>\n",
       "      <td>0.996158</td>\n",
       "    </tr>\n",
       "    <tr>\n",
       "      <th>cdd_returns</th>\n",
       "      <td>0.996158</td>\n",
       "      <td>1.000000</td>\n",
       "    </tr>\n",
       "  </tbody>\n",
       "</table>\n",
       "</div>"
      ],
      "text/plain": [
       "                            ccxt_returns  cdd_returns\n",
       "currency_pair                                        \n",
       "ADA_USDT      ccxt_returns      1.000000     0.997807\n",
       "              cdd_returns       0.997807     1.000000\n",
       "BNB_USDT      ccxt_returns      1.000000     0.998490\n",
       "              cdd_returns       0.998490     1.000000\n",
       "BTC_USDT      ccxt_returns      1.000000     0.997763\n",
       "              cdd_returns       0.997763     1.000000\n",
       "EOS_USDT      ccxt_returns      1.000000     0.998294\n",
       "              cdd_returns       0.998294     1.000000\n",
       "ETH_USDT      ccxt_returns      1.000000     0.995563\n",
       "              cdd_returns       0.995563     1.000000\n",
       "LINK_USDT     ccxt_returns      1.000000     0.997200\n",
       "              cdd_returns       0.997200     1.000000\n",
       "SOL_USDT      ccxt_returns      1.000000     0.996158\n",
       "              cdd_returns       0.996158     1.000000"
      ]
     },
     "metadata": {},
     "output_type": "display_data"
    }
   ],
   "source": [
    "returns_corr_1day = calculate_correlations(\n",
    "    ccxt_binance_series_1d, cdd_binance_series_1d, compute_returns=True\n",
    ")\n",
    "display(returns_corr_1day)"
   ]
  },
  {
   "cell_type": "markdown",
   "id": "a5d24740",
   "metadata": {},
   "source": [
    "### 5-min returns"
   ]
  },
  {
   "cell_type": "code",
   "execution_count": 25,
   "id": "4c69e461",
   "metadata": {
    "ExecuteTime": {
     "end_time": "2022-01-18T19:38:54.437757Z",
     "start_time": "2022-01-18T19:38:32.222421Z"
    }
   },
   "outputs": [
    {
     "data": {
      "text/html": [
       "<div>\n",
       "<style scoped>\n",
       "    .dataframe tbody tr th:only-of-type {\n",
       "        vertical-align: middle;\n",
       "    }\n",
       "\n",
       "    .dataframe tbody tr th {\n",
       "        vertical-align: top;\n",
       "    }\n",
       "\n",
       "    .dataframe thead th {\n",
       "        text-align: right;\n",
       "    }\n",
       "</style>\n",
       "<table border=\"1\" class=\"dataframe\">\n",
       "  <thead>\n",
       "    <tr style=\"text-align: right;\">\n",
       "      <th></th>\n",
       "      <th></th>\n",
       "      <th>ccxt_returns</th>\n",
       "      <th>cdd_returns</th>\n",
       "    </tr>\n",
       "    <tr>\n",
       "      <th>currency_pair</th>\n",
       "      <th></th>\n",
       "      <th></th>\n",
       "      <th></th>\n",
       "    </tr>\n",
       "  </thead>\n",
       "  <tbody>\n",
       "    <tr>\n",
       "      <th rowspan=\"2\" valign=\"top\">ADA_USDT</th>\n",
       "      <th>ccxt_returns</th>\n",
       "      <td>1.000000</td>\n",
       "      <td>0.986913</td>\n",
       "    </tr>\n",
       "    <tr>\n",
       "      <th>cdd_returns</th>\n",
       "      <td>0.986913</td>\n",
       "      <td>1.000000</td>\n",
       "    </tr>\n",
       "    <tr>\n",
       "      <th rowspan=\"2\" valign=\"top\">BNB_USDT</th>\n",
       "      <th>ccxt_returns</th>\n",
       "      <td>1.000000</td>\n",
       "      <td>0.987292</td>\n",
       "    </tr>\n",
       "    <tr>\n",
       "      <th>cdd_returns</th>\n",
       "      <td>0.987292</td>\n",
       "      <td>1.000000</td>\n",
       "    </tr>\n",
       "    <tr>\n",
       "      <th rowspan=\"2\" valign=\"top\">BTC_USDT</th>\n",
       "      <th>ccxt_returns</th>\n",
       "      <td>1.000000</td>\n",
       "      <td>0.990746</td>\n",
       "    </tr>\n",
       "    <tr>\n",
       "      <th>cdd_returns</th>\n",
       "      <td>0.990746</td>\n",
       "      <td>1.000000</td>\n",
       "    </tr>\n",
       "    <tr>\n",
       "      <th rowspan=\"2\" valign=\"top\">EOS_USDT</th>\n",
       "      <th>ccxt_returns</th>\n",
       "      <td>1.000000</td>\n",
       "      <td>0.993959</td>\n",
       "    </tr>\n",
       "    <tr>\n",
       "      <th>cdd_returns</th>\n",
       "      <td>0.993959</td>\n",
       "      <td>1.000000</td>\n",
       "    </tr>\n",
       "    <tr>\n",
       "      <th rowspan=\"2\" valign=\"top\">ETH_USDT</th>\n",
       "      <th>ccxt_returns</th>\n",
       "      <td>1.000000</td>\n",
       "      <td>0.974821</td>\n",
       "    </tr>\n",
       "    <tr>\n",
       "      <th>cdd_returns</th>\n",
       "      <td>0.974821</td>\n",
       "      <td>1.000000</td>\n",
       "    </tr>\n",
       "    <tr>\n",
       "      <th rowspan=\"2\" valign=\"top\">LINK_USDT</th>\n",
       "      <th>ccxt_returns</th>\n",
       "      <td>1.000000</td>\n",
       "      <td>0.983939</td>\n",
       "    </tr>\n",
       "    <tr>\n",
       "      <th>cdd_returns</th>\n",
       "      <td>0.983939</td>\n",
       "      <td>1.000000</td>\n",
       "    </tr>\n",
       "    <tr>\n",
       "      <th rowspan=\"2\" valign=\"top\">SOL_USDT</th>\n",
       "      <th>ccxt_returns</th>\n",
       "      <td>1.000000</td>\n",
       "      <td>0.999998</td>\n",
       "    </tr>\n",
       "    <tr>\n",
       "      <th>cdd_returns</th>\n",
       "      <td>0.999998</td>\n",
       "      <td>1.000000</td>\n",
       "    </tr>\n",
       "  </tbody>\n",
       "</table>\n",
       "</div>"
      ],
      "text/plain": [
       "                            ccxt_returns  cdd_returns\n",
       "currency_pair                                        \n",
       "ADA_USDT      ccxt_returns      1.000000     0.986913\n",
       "              cdd_returns       0.986913     1.000000\n",
       "BNB_USDT      ccxt_returns      1.000000     0.987292\n",
       "              cdd_returns       0.987292     1.000000\n",
       "BTC_USDT      ccxt_returns      1.000000     0.990746\n",
       "              cdd_returns       0.990746     1.000000\n",
       "EOS_USDT      ccxt_returns      1.000000     0.993959\n",
       "              cdd_returns       0.993959     1.000000\n",
       "ETH_USDT      ccxt_returns      1.000000     0.974821\n",
       "              cdd_returns       0.974821     1.000000\n",
       "LINK_USDT     ccxt_returns      1.000000     0.983939\n",
       "              cdd_returns       0.983939     1.000000\n",
       "SOL_USDT      ccxt_returns      1.000000     0.999998\n",
       "              cdd_returns       0.999998     1.000000"
      ]
     },
     "metadata": {},
     "output_type": "display_data"
    }
   ],
   "source": [
    "returns_corr_5min = calculate_correlations(\n",
    "    ccxt_binance_series_5min, cdd_binance_series_5min, compute_returns=True\n",
    ")\n",
    "display(returns_corr_5min)"
   ]
  },
  {
   "cell_type": "markdown",
   "id": "1d22eca0",
   "metadata": {},
   "source": [
    "## Compare close prices"
   ]
  },
  {
   "cell_type": "markdown",
   "id": "28de3b77",
   "metadata": {},
   "source": [
    "### 1-day close prices"
   ]
  },
  {
   "cell_type": "code",
   "execution_count": 26,
   "id": "8014b363",
   "metadata": {
    "ExecuteTime": {
     "end_time": "2022-01-18T19:38:54.468203Z",
     "start_time": "2022-01-18T19:38:54.440494Z"
    },
    "scrolled": false
   },
   "outputs": [
    {
     "data": {
      "text/html": [
       "<div>\n",
       "<style scoped>\n",
       "    .dataframe tbody tr th:only-of-type {\n",
       "        vertical-align: middle;\n",
       "    }\n",
       "\n",
       "    .dataframe tbody tr th {\n",
       "        vertical-align: top;\n",
       "    }\n",
       "\n",
       "    .dataframe thead th {\n",
       "        text-align: right;\n",
       "    }\n",
       "</style>\n",
       "<table border=\"1\" class=\"dataframe\">\n",
       "  <thead>\n",
       "    <tr style=\"text-align: right;\">\n",
       "      <th></th>\n",
       "      <th></th>\n",
       "      <th>cdd_close</th>\n",
       "      <th>ccxt_close</th>\n",
       "    </tr>\n",
       "    <tr>\n",
       "      <th>currency_pair</th>\n",
       "      <th></th>\n",
       "      <th></th>\n",
       "      <th></th>\n",
       "    </tr>\n",
       "  </thead>\n",
       "  <tbody>\n",
       "    <tr>\n",
       "      <th rowspan=\"2\" valign=\"top\">ADA_USDT</th>\n",
       "      <th>cdd_close</th>\n",
       "      <td>1.000000</td>\n",
       "      <td>0.999995</td>\n",
       "    </tr>\n",
       "    <tr>\n",
       "      <th>ccxt_close</th>\n",
       "      <td>0.999995</td>\n",
       "      <td>1.000000</td>\n",
       "    </tr>\n",
       "    <tr>\n",
       "      <th rowspan=\"2\" valign=\"top\">BNB_USDT</th>\n",
       "      <th>cdd_close</th>\n",
       "      <td>1.000000</td>\n",
       "      <td>0.999999</td>\n",
       "    </tr>\n",
       "    <tr>\n",
       "      <th>ccxt_close</th>\n",
       "      <td>0.999999</td>\n",
       "      <td>1.000000</td>\n",
       "    </tr>\n",
       "    <tr>\n",
       "      <th rowspan=\"2\" valign=\"top\">BTC_USDT</th>\n",
       "      <th>cdd_close</th>\n",
       "      <td>1.000000</td>\n",
       "      <td>1.000000</td>\n",
       "    </tr>\n",
       "    <tr>\n",
       "      <th>ccxt_close</th>\n",
       "      <td>1.000000</td>\n",
       "      <td>1.000000</td>\n",
       "    </tr>\n",
       "    <tr>\n",
       "      <th rowspan=\"2\" valign=\"top\">EOS_USDT</th>\n",
       "      <th>cdd_close</th>\n",
       "      <td>1.000000</td>\n",
       "      <td>0.999906</td>\n",
       "    </tr>\n",
       "    <tr>\n",
       "      <th>ccxt_close</th>\n",
       "      <td>0.999906</td>\n",
       "      <td>1.000000</td>\n",
       "    </tr>\n",
       "    <tr>\n",
       "      <th rowspan=\"2\" valign=\"top\">ETH_USDT</th>\n",
       "      <th>cdd_close</th>\n",
       "      <td>1.000000</td>\n",
       "      <td>0.999994</td>\n",
       "    </tr>\n",
       "    <tr>\n",
       "      <th>ccxt_close</th>\n",
       "      <td>0.999994</td>\n",
       "      <td>1.000000</td>\n",
       "    </tr>\n",
       "    <tr>\n",
       "      <th rowspan=\"2\" valign=\"top\">LINK_USDT</th>\n",
       "      <th>cdd_close</th>\n",
       "      <td>1.000000</td>\n",
       "      <td>0.999995</td>\n",
       "    </tr>\n",
       "    <tr>\n",
       "      <th>ccxt_close</th>\n",
       "      <td>0.999995</td>\n",
       "      <td>1.000000</td>\n",
       "    </tr>\n",
       "    <tr>\n",
       "      <th rowspan=\"2\" valign=\"top\">SOL_USDT</th>\n",
       "      <th>cdd_close</th>\n",
       "      <td>1.000000</td>\n",
       "      <td>0.999474</td>\n",
       "    </tr>\n",
       "    <tr>\n",
       "      <th>ccxt_close</th>\n",
       "      <td>0.999474</td>\n",
       "      <td>1.000000</td>\n",
       "    </tr>\n",
       "  </tbody>\n",
       "</table>\n",
       "</div>"
      ],
      "text/plain": [
       "                          cdd_close  ccxt_close\n",
       "currency_pair                                  \n",
       "ADA_USDT      cdd_close    1.000000    0.999995\n",
       "              ccxt_close   0.999995    1.000000\n",
       "BNB_USDT      cdd_close    1.000000    0.999999\n",
       "              ccxt_close   0.999999    1.000000\n",
       "BTC_USDT      cdd_close    1.000000    1.000000\n",
       "              ccxt_close   1.000000    1.000000\n",
       "EOS_USDT      cdd_close    1.000000    0.999906\n",
       "              ccxt_close   0.999906    1.000000\n",
       "ETH_USDT      cdd_close    1.000000    0.999994\n",
       "              ccxt_close   0.999994    1.000000\n",
       "LINK_USDT     cdd_close    1.000000    0.999995\n",
       "              ccxt_close   0.999995    1.000000\n",
       "SOL_USDT      cdd_close    1.000000    0.999474\n",
       "              ccxt_close   0.999474    1.000000"
      ]
     },
     "metadata": {},
     "output_type": "display_data"
    }
   ],
   "source": [
    "close_corr_1day = calculate_correlations(\n",
    "    ccxt_binance_series_1d, cdd_binance_series_1d, compute_returns=False\n",
    ")\n",
    "display(close_corr_1day)"
   ]
  },
  {
   "cell_type": "markdown",
   "id": "d4f366b3",
   "metadata": {},
   "source": [
    "### 5-min close prices"
   ]
  },
  {
   "cell_type": "code",
   "execution_count": 27,
   "id": "06d58513",
   "metadata": {
    "ExecuteTime": {
     "end_time": "2022-01-18T19:38:57.047517Z",
     "start_time": "2022-01-18T19:38:54.470258Z"
    }
   },
   "outputs": [
    {
     "data": {
      "text/html": [
       "<div>\n",
       "<style scoped>\n",
       "    .dataframe tbody tr th:only-of-type {\n",
       "        vertical-align: middle;\n",
       "    }\n",
       "\n",
       "    .dataframe tbody tr th {\n",
       "        vertical-align: top;\n",
       "    }\n",
       "\n",
       "    .dataframe thead th {\n",
       "        text-align: right;\n",
       "    }\n",
       "</style>\n",
       "<table border=\"1\" class=\"dataframe\">\n",
       "  <thead>\n",
       "    <tr style=\"text-align: right;\">\n",
       "      <th></th>\n",
       "      <th></th>\n",
       "      <th>cdd_close</th>\n",
       "      <th>ccxt_close</th>\n",
       "    </tr>\n",
       "    <tr>\n",
       "      <th>currency_pair</th>\n",
       "      <th></th>\n",
       "      <th></th>\n",
       "      <th></th>\n",
       "    </tr>\n",
       "  </thead>\n",
       "  <tbody>\n",
       "    <tr>\n",
       "      <th rowspan=\"2\" valign=\"top\">ADA_USDT</th>\n",
       "      <th>cdd_close</th>\n",
       "      <td>1.000000</td>\n",
       "      <td>1.000000</td>\n",
       "    </tr>\n",
       "    <tr>\n",
       "      <th>ccxt_close</th>\n",
       "      <td>1.000000</td>\n",
       "      <td>1.000000</td>\n",
       "    </tr>\n",
       "    <tr>\n",
       "      <th rowspan=\"2\" valign=\"top\">BNB_USDT</th>\n",
       "      <th>cdd_close</th>\n",
       "      <td>1.000000</td>\n",
       "      <td>1.000000</td>\n",
       "    </tr>\n",
       "    <tr>\n",
       "      <th>ccxt_close</th>\n",
       "      <td>1.000000</td>\n",
       "      <td>1.000000</td>\n",
       "    </tr>\n",
       "    <tr>\n",
       "      <th rowspan=\"2\" valign=\"top\">BTC_USDT</th>\n",
       "      <th>cdd_close</th>\n",
       "      <td>1.000000</td>\n",
       "      <td>1.000000</td>\n",
       "    </tr>\n",
       "    <tr>\n",
       "      <th>ccxt_close</th>\n",
       "      <td>1.000000</td>\n",
       "      <td>1.000000</td>\n",
       "    </tr>\n",
       "    <tr>\n",
       "      <th rowspan=\"2\" valign=\"top\">EOS_USDT</th>\n",
       "      <th>cdd_close</th>\n",
       "      <td>1.000000</td>\n",
       "      <td>0.999999</td>\n",
       "    </tr>\n",
       "    <tr>\n",
       "      <th>ccxt_close</th>\n",
       "      <td>0.999999</td>\n",
       "      <td>1.000000</td>\n",
       "    </tr>\n",
       "    <tr>\n",
       "      <th rowspan=\"2\" valign=\"top\">ETH_USDT</th>\n",
       "      <th>cdd_close</th>\n",
       "      <td>1.000000</td>\n",
       "      <td>1.000000</td>\n",
       "    </tr>\n",
       "    <tr>\n",
       "      <th>ccxt_close</th>\n",
       "      <td>1.000000</td>\n",
       "      <td>1.000000</td>\n",
       "    </tr>\n",
       "    <tr>\n",
       "      <th rowspan=\"2\" valign=\"top\">LINK_USDT</th>\n",
       "      <th>cdd_close</th>\n",
       "      <td>1.000000</td>\n",
       "      <td>1.000000</td>\n",
       "    </tr>\n",
       "    <tr>\n",
       "      <th>ccxt_close</th>\n",
       "      <td>1.000000</td>\n",
       "      <td>1.000000</td>\n",
       "    </tr>\n",
       "    <tr>\n",
       "      <th rowspan=\"2\" valign=\"top\">SOL_USDT</th>\n",
       "      <th>cdd_close</th>\n",
       "      <td>1.000000</td>\n",
       "      <td>1.000000</td>\n",
       "    </tr>\n",
       "    <tr>\n",
       "      <th>ccxt_close</th>\n",
       "      <td>1.000000</td>\n",
       "      <td>1.000000</td>\n",
       "    </tr>\n",
       "  </tbody>\n",
       "</table>\n",
       "</div>"
      ],
      "text/plain": [
       "                          cdd_close  ccxt_close\n",
       "currency_pair                                  \n",
       "ADA_USDT      cdd_close    1.000000    1.000000\n",
       "              ccxt_close   1.000000    1.000000\n",
       "BNB_USDT      cdd_close    1.000000    1.000000\n",
       "              ccxt_close   1.000000    1.000000\n",
       "BTC_USDT      cdd_close    1.000000    1.000000\n",
       "              ccxt_close   1.000000    1.000000\n",
       "EOS_USDT      cdd_close    1.000000    0.999999\n",
       "              ccxt_close   0.999999    1.000000\n",
       "ETH_USDT      cdd_close    1.000000    1.000000\n",
       "              ccxt_close   1.000000    1.000000\n",
       "LINK_USDT     cdd_close    1.000000    1.000000\n",
       "              ccxt_close   1.000000    1.000000\n",
       "SOL_USDT      cdd_close    1.000000    1.000000\n",
       "              ccxt_close   1.000000    1.000000"
      ]
     },
     "metadata": {},
     "output_type": "display_data"
    }
   ],
   "source": [
    "close_corr_5min = calculate_correlations(\n",
    "    ccxt_binance_series_5min, cdd_binance_series_5min, compute_returns=False\n",
    ")\n",
    "display(close_corr_5min)"
   ]
  },
  {
   "cell_type": "markdown",
   "id": "e4990d15",
   "metadata": {},
   "source": [
    "# Statistical properties of a full symbol in CDD"
   ]
  },
  {
   "cell_type": "code",
   "execution_count": 14,
   "id": "d39f6575",
   "metadata": {
    "ExecuteTime": {
     "end_time": "2022-01-18T21:06:20.783620Z",
     "start_time": "2022-01-18T21:06:20.778766Z"
    }
   },
   "outputs": [],
   "source": [
    "# Clearing `CDD` currency pairs that are incorrect.\n",
    "\n",
    "# Binance.\n",
    "cdd_universe.remove(\"binance::SCU_USDT\")\n",
    "\n",
    "# FTX has some critical mistakes in the downloading process, so can not continue analysis with them.\n",
    "# see CMTask801 - Downloading issues of FTX exchange from 'CDD' universe for further reference.\n",
    "cdd_ftx_universe = [\n",
    "    element for element in cdd_universe if element.startswith(\"ftx\")\n",
    "]\n",
    "for elem in cdd_ftx_universe:\n",
    "    cdd_universe.remove(elem)\n",
    "\n",
    "# Kucoin exchange: the timestamps are obviously wrong and with too short time period.\n",
    "# See CMTask253 - Fix timestamp for CDD - kucoin for reference.\n",
    "cdd_kucoin_universe = [\n",
    "    element for element in cdd_universe if element.startswith(\"kucoin\")\n",
    "]\n",
    "for elem in cdd_kucoin_universe:\n",
    "    cdd_universe.remove(elem)"
   ]
  },
  {
   "cell_type": "markdown",
   "id": "001554a6",
   "metadata": {},
   "source": [
    "## Comparison of intersection of full symbols between 'CCXT' and 'CDD'"
   ]
  },
  {
   "cell_type": "code",
   "execution_count": 15,
   "id": "59007146",
   "metadata": {
    "ExecuteTime": {
     "end_time": "2022-01-18T21:06:21.483058Z",
     "start_time": "2022-01-18T21:06:21.478739Z"
    }
   },
   "outputs": [
    {
     "data": {
      "text/plain": [
       "7"
      ]
     },
     "execution_count": 15,
     "metadata": {},
     "output_type": "execute_result"
    }
   ],
   "source": [
    "# Full symbols that are included in `CDD` but not in `CCXT` (cleaned from unavailable full symbols).\n",
    "cdd_and_ccxt_cleaned = set(ccxt_universe).intersection(cdd_universe)\n",
    "len(cdd_and_ccxt_cleaned)"
   ]
  },
  {
   "cell_type": "markdown",
   "id": "6f2b83d7",
   "metadata": {
    "ExecuteTime": {
     "end_time": "2021-12-23T18:36:00.930420Z",
     "start_time": "2021-12-23T18:36:00.928103Z"
    },
    "scrolled": true
   },
   "source": [
    "### Load the intersection of full symbols for 'CDD' and 'CCXT'"
   ]
  },
  {
   "cell_type": "markdown",
   "id": "fee49b32",
   "metadata": {},
   "source": [
    "#### CDD"
   ]
  },
  {
   "cell_type": "code",
   "execution_count": 16,
   "id": "e9c1b048",
   "metadata": {
    "ExecuteTime": {
     "end_time": "2022-01-18T21:06:23.084375Z",
     "start_time": "2022-01-18T21:06:22.826139Z"
    },
    "scrolled": true
   },
   "outputs": [
    {
     "ename": "TypeError",
     "evalue": "read_data() takes 2 positional arguments but 4 were given",
     "output_type": "error",
     "traceback": [
      "\u001b[0;31m---------------------------------------------------------------------------\u001b[0m",
      "\u001b[0;31mTypeError\u001b[0m                                 Traceback (most recent call last)",
      "\u001b[0;32m/tmp/ipykernel_304/4028845647.py\u001b[0m in \u001b[0;36m<module>\u001b[0;34m\u001b[0m\n\u001b[1;32m      4\u001b[0m )\n\u001b[1;32m      5\u001b[0m \u001b[0;34m\u001b[0m\u001b[0m\n\u001b[0;32m----> 6\u001b[0;31m cdd_start_end_table = ramccsta.compute_stats_for_universe(\n\u001b[0m\u001b[1;32m      7\u001b[0m     \u001b[0mcdd_and_ccxt_cleaned\u001b[0m\u001b[0;34m,\u001b[0m \u001b[0mconfig_cdd\u001b[0m\u001b[0;34m,\u001b[0m \u001b[0mcompute_start_end_stats\u001b[0m\u001b[0;34m\u001b[0m\u001b[0;34m\u001b[0m\u001b[0m\n\u001b[1;32m      8\u001b[0m )\n",
      "\u001b[0;32m/app/research_amp/cc/statistics.py\u001b[0m in \u001b[0;36mcompute_stats_for_universe\u001b[0;34m(vendor_universe, config, stats_func)\u001b[0m\n\u001b[1;32m     49\u001b[0m         \u001b[0mstart_ts\u001b[0m \u001b[0;34m=\u001b[0m \u001b[0;32mNone\u001b[0m\u001b[0;34m\u001b[0m\u001b[0;34m\u001b[0m\u001b[0m\n\u001b[1;32m     50\u001b[0m         \u001b[0mend_ts\u001b[0m \u001b[0;34m=\u001b[0m \u001b[0;32mNone\u001b[0m\u001b[0;34m\u001b[0m\u001b[0;34m\u001b[0m\u001b[0m\n\u001b[0;32m---> 51\u001b[0;31m         data = loader.read_data(\n\u001b[0m\u001b[1;32m     52\u001b[0m             \u001b[0;34m[\u001b[0m\u001b[0mfull_symbol\u001b[0m\u001b[0;34m]\u001b[0m\u001b[0;34m,\u001b[0m\u001b[0;34m\u001b[0m\u001b[0;34m\u001b[0m\u001b[0m\n\u001b[1;32m     53\u001b[0m             \u001b[0mstart_ts\u001b[0m\u001b[0;34m,\u001b[0m\u001b[0;34m\u001b[0m\u001b[0;34m\u001b[0m\u001b[0m\n",
      "\u001b[0;31mTypeError\u001b[0m: read_data() takes 2 positional arguments but 4 were given"
     ]
    }
   ],
   "source": [
    "# After fixing `CCXT` loader below, the structural mistake appears with `CDD` loader.\n",
    "# TODO(Max): Fix the code, once the vendor universe will be unified.\n",
    "# see CMTask985 - Fix compute_start_end_stats in CCXT-CDD comparison notebook.\n",
    "compute_start_end_stats = lambda data: ramccsta.compute_start_end_stats(\n",
    "    data, config_cdd\n",
    ")\n",
    "\n",
    "cdd_start_end_table = ramccsta.compute_stats_for_universe(\n",
    "    cdd_and_ccxt_cleaned, config_cdd, compute_start_end_stats\n",
    ")"
   ]
  },
  {
   "cell_type": "code",
   "execution_count": null,
   "id": "b239344d",
   "metadata": {
    "ExecuteTime": {
     "start_time": "2022-01-14T10:07:01.063Z"
    }
   },
   "outputs": [],
   "source": [
    "# `CDD` names cleaning.\n",
    "cdd_start_end_table[\"currency_pair\"] = cdd_start_end_table[\n",
    "    \"currency_pair\"\n",
    "].str.replace(\"/\", \"_\")"
   ]
  },
  {
   "cell_type": "code",
   "execution_count": null,
   "id": "55437ec2",
   "metadata": {
    "ExecuteTime": {
     "start_time": "2022-01-14T10:07:01.066Z"
    }
   },
   "outputs": [],
   "source": [
    "cdd_start_end_table.head(3)"
   ]
  },
  {
   "cell_type": "markdown",
   "id": "88facaca",
   "metadata": {},
   "source": [
    "#### CCXT"
   ]
  },
  {
   "cell_type": "code",
   "execution_count": 31,
   "id": "addf8fbd",
   "metadata": {
    "ExecuteTime": {
     "end_time": "2022-01-18T19:40:04.825486Z",
     "start_time": "2022-01-18T19:39:51.137955Z"
    },
    "scrolled": true
   },
   "outputs": [
    {
     "name": "stdout",
     "output_type": "stream",
     "text": [
      "Reading CCXT data for exchange id='binance', currencies='ETH_USDT' from file='s3://alphamatic-data/data/ccxt/20210924/binance/ETH_USDT.csv.gz'...\n",
      "Removed 215 / 1615369 = 0.01% rows\n",
      "Index length increased by 4735 = 1619889 - 1615154\n"
     ]
    },
    {
     "ename": "AssertionError",
     "evalue": "\n################################################################################\n* Failed assertion *\n'None'\n==\n'T'\n################################################################################\n",
     "output_type": "error",
     "traceback": [
      "\u001b[0;31m---------------------------------------------------------------------------\u001b[0m",
      "\u001b[0;31mAssertionError\u001b[0m                            Traceback (most recent call last)",
      "\u001b[0;32m/tmp/ipykernel_198/992228908.py\u001b[0m in \u001b[0;36m<module>\u001b[0;34m\u001b[0m\n\u001b[1;32m      2\u001b[0m     \u001b[0mdata\u001b[0m\u001b[0;34m,\u001b[0m \u001b[0mconfig_ccxt\u001b[0m\u001b[0;34m\u001b[0m\u001b[0;34m\u001b[0m\u001b[0m\n\u001b[1;32m      3\u001b[0m )\n\u001b[0;32m----> 4\u001b[0;31m ccxt_start_end_table = ramccsta.compute_stats_for_universe(\n\u001b[0m\u001b[1;32m      5\u001b[0m     \u001b[0mlist\u001b[0m\u001b[0;34m(\u001b[0m\u001b[0mcdd_and_ccxt_cleaned\u001b[0m\u001b[0;34m)\u001b[0m\u001b[0;34m,\u001b[0m\u001b[0;34m\u001b[0m\u001b[0;34m\u001b[0m\u001b[0m\n\u001b[1;32m      6\u001b[0m     \u001b[0mconfig_ccxt\u001b[0m\u001b[0;34m,\u001b[0m\u001b[0;34m\u001b[0m\u001b[0;34m\u001b[0m\u001b[0m\n",
      "\u001b[0;32m/app/research_amp/cc/statistics.py\u001b[0m in \u001b[0;36mcompute_stats_for_universe\u001b[0;34m(vendor_universe, config, stats_func)\u001b[0m\n\u001b[1;32m     55\u001b[0m         )\n\u001b[1;32m     56\u001b[0m         \u001b[0;31m# Compute stats on the exchange-currency level.\u001b[0m\u001b[0;34m\u001b[0m\u001b[0;34m\u001b[0m\u001b[0;34m\u001b[0m\u001b[0m\n\u001b[0;32m---> 57\u001b[0;31m         \u001b[0mcur_stats_data\u001b[0m \u001b[0;34m=\u001b[0m \u001b[0mstats_func\u001b[0m\u001b[0;34m(\u001b[0m\u001b[0mdata\u001b[0m\u001b[0;34m)\u001b[0m\u001b[0;34m\u001b[0m\u001b[0;34m\u001b[0m\u001b[0m\n\u001b[0m\u001b[1;32m     58\u001b[0m         \u001b[0mcur_stats_data\u001b[0m\u001b[0;34m[\u001b[0m\u001b[0;34m\"vendor\"\u001b[0m\u001b[0;34m]\u001b[0m \u001b[0;34m=\u001b[0m \u001b[0mconfig\u001b[0m\u001b[0;34m[\u001b[0m\u001b[0;34m\"data\"\u001b[0m\u001b[0;34m]\u001b[0m\u001b[0;34m[\u001b[0m\u001b[0;34m\"vendor\"\u001b[0m\u001b[0;34m]\u001b[0m\u001b[0;34m\u001b[0m\u001b[0;34m\u001b[0m\u001b[0m\n\u001b[1;32m     59\u001b[0m         \u001b[0mstats_data\u001b[0m\u001b[0;34m.\u001b[0m\u001b[0mappend\u001b[0m\u001b[0;34m(\u001b[0m\u001b[0mcur_stats_data\u001b[0m\u001b[0;34m)\u001b[0m\u001b[0;34m\u001b[0m\u001b[0;34m\u001b[0m\u001b[0m\n",
      "\u001b[0;32m/tmp/ipykernel_198/992228908.py\u001b[0m in \u001b[0;36m<lambda>\u001b[0;34m(data)\u001b[0m\n\u001b[0;32m----> 1\u001b[0;31m compute_start_end_stats = lambda data: ramccsta.compute_start_end_stats(\n\u001b[0m\u001b[1;32m      2\u001b[0m     \u001b[0mdata\u001b[0m\u001b[0;34m,\u001b[0m \u001b[0mconfig_ccxt\u001b[0m\u001b[0;34m\u001b[0m\u001b[0;34m\u001b[0m\u001b[0m\n\u001b[1;32m      3\u001b[0m )\n\u001b[1;32m      4\u001b[0m ccxt_start_end_table = ramccsta.compute_stats_for_universe(\n\u001b[1;32m      5\u001b[0m     \u001b[0mlist\u001b[0m\u001b[0;34m(\u001b[0m\u001b[0mcdd_and_ccxt_cleaned\u001b[0m\u001b[0;34m)\u001b[0m\u001b[0;34m,\u001b[0m\u001b[0;34m\u001b[0m\u001b[0;34m\u001b[0m\u001b[0m\n",
      "\u001b[0;32m/app/research_amp/cc/statistics.py\u001b[0m in \u001b[0;36mcompute_start_end_stats\u001b[0;34m(price_data, config)\u001b[0m\n\u001b[1;32m    101\u001b[0m     \u001b[0mhdbg\u001b[0m\u001b[0;34m.\u001b[0m\u001b[0mdassert_isinstance\u001b[0m\u001b[0;34m(\u001b[0m\u001b[0mprice_data\u001b[0m\u001b[0;34m.\u001b[0m\u001b[0mindex\u001b[0m\u001b[0;34m,\u001b[0m \u001b[0mpd\u001b[0m\u001b[0;34m.\u001b[0m\u001b[0mDatetimeIndex\u001b[0m\u001b[0;34m)\u001b[0m\u001b[0;34m\u001b[0m\u001b[0;34m\u001b[0m\u001b[0m\n\u001b[1;32m    102\u001b[0m     \u001b[0mhpandas\u001b[0m\u001b[0;34m.\u001b[0m\u001b[0mdassert_monotonic_index\u001b[0m\u001b[0;34m(\u001b[0m\u001b[0mprice_data\u001b[0m\u001b[0;34m.\u001b[0m\u001b[0mindex\u001b[0m\u001b[0;34m)\u001b[0m\u001b[0;34m\u001b[0m\u001b[0;34m\u001b[0m\u001b[0m\n\u001b[0;32m--> 103\u001b[0;31m     \u001b[0mhdbg\u001b[0m\u001b[0;34m.\u001b[0m\u001b[0mdassert_eq\u001b[0m\u001b[0;34m(\u001b[0m\u001b[0mprice_data\u001b[0m\u001b[0;34m.\u001b[0m\u001b[0mindex\u001b[0m\u001b[0;34m.\u001b[0m\u001b[0mfreq\u001b[0m\u001b[0;34m,\u001b[0m \u001b[0;34m\"T\"\u001b[0m\u001b[0;34m)\u001b[0m\u001b[0;34m\u001b[0m\u001b[0;34m\u001b[0m\u001b[0m\n\u001b[0m\u001b[1;32m    104\u001b[0m     \u001b[0;31m# Get series of close price.\u001b[0m\u001b[0;34m\u001b[0m\u001b[0;34m\u001b[0m\u001b[0;34m\u001b[0m\u001b[0m\n\u001b[1;32m    105\u001b[0m     \u001b[0mclose_price_srs\u001b[0m \u001b[0;34m=\u001b[0m \u001b[0mprice_data\u001b[0m\u001b[0;34m[\u001b[0m\u001b[0mconfig\u001b[0m\u001b[0;34m[\u001b[0m\u001b[0;34m\"column_names\"\u001b[0m\u001b[0;34m]\u001b[0m\u001b[0;34m[\u001b[0m\u001b[0;34m\"close_price\"\u001b[0m\u001b[0;34m]\u001b[0m\u001b[0;34m]\u001b[0m\u001b[0;34m\u001b[0m\u001b[0;34m\u001b[0m\u001b[0m\n",
      "\u001b[0;32m/app/helpers/hdbg.py\u001b[0m in \u001b[0;36mdassert_eq\u001b[0;34m(val1, val2, msg, *args)\u001b[0m\n\u001b[1;32m    134\u001b[0m     \u001b[0;32mif\u001b[0m \u001b[0;32mnot\u001b[0m \u001b[0mcond\u001b[0m\u001b[0;34m:\u001b[0m\u001b[0;34m\u001b[0m\u001b[0;34m\u001b[0m\u001b[0m\n\u001b[1;32m    135\u001b[0m         \u001b[0mtxt\u001b[0m \u001b[0;34m=\u001b[0m \u001b[0;34m\"'%s'\\n==\\n'%s'\"\u001b[0m \u001b[0;34m%\u001b[0m \u001b[0;34m(\u001b[0m\u001b[0mval1\u001b[0m\u001b[0;34m,\u001b[0m \u001b[0mval2\u001b[0m\u001b[0;34m)\u001b[0m\u001b[0;34m\u001b[0m\u001b[0;34m\u001b[0m\u001b[0m\n\u001b[0;32m--> 136\u001b[0;31m         \u001b[0m_dfatal\u001b[0m\u001b[0;34m(\u001b[0m\u001b[0mtxt\u001b[0m\u001b[0;34m,\u001b[0m \u001b[0mmsg\u001b[0m\u001b[0;34m,\u001b[0m \u001b[0;34m*\u001b[0m\u001b[0margs\u001b[0m\u001b[0;34m)\u001b[0m\u001b[0;34m\u001b[0m\u001b[0;34m\u001b[0m\u001b[0m\n\u001b[0m\u001b[1;32m    137\u001b[0m \u001b[0;34m\u001b[0m\u001b[0m\n\u001b[1;32m    138\u001b[0m \u001b[0;34m\u001b[0m\u001b[0m\n",
      "\u001b[0;32m/app/helpers/hdbg.py\u001b[0m in \u001b[0;36m_dfatal\u001b[0;34m(txt, msg, *args)\u001b[0m\n\u001b[1;32m    113\u001b[0m             \u001b[0mdfatal_txt\u001b[0m \u001b[0;34m+=\u001b[0m \u001b[0;34m\"\\n\"\u001b[0m\u001b[0;34m\u001b[0m\u001b[0;34m\u001b[0m\u001b[0m\n\u001b[1;32m    114\u001b[0m         \u001b[0mdfatal_txt\u001b[0m \u001b[0;34m+=\u001b[0m \u001b[0mmsg\u001b[0m\u001b[0;34m\u001b[0m\u001b[0;34m\u001b[0m\u001b[0m\n\u001b[0;32m--> 115\u001b[0;31m     \u001b[0mdfatal\u001b[0m\u001b[0;34m(\u001b[0m\u001b[0mdfatal_txt\u001b[0m\u001b[0;34m)\u001b[0m\u001b[0;34m\u001b[0m\u001b[0;34m\u001b[0m\u001b[0m\n\u001b[0m\u001b[1;32m    116\u001b[0m \u001b[0;34m\u001b[0m\u001b[0m\n\u001b[1;32m    117\u001b[0m \u001b[0;34m\u001b[0m\u001b[0m\n",
      "\u001b[0;32m/app/helpers/hdbg.py\u001b[0m in \u001b[0;36mdfatal\u001b[0;34m(message, assertion_type)\u001b[0m\n\u001b[1;32m     59\u001b[0m     \u001b[0;32mif\u001b[0m \u001b[0massertion_type\u001b[0m \u001b[0;32mis\u001b[0m \u001b[0;32mNone\u001b[0m\u001b[0;34m:\u001b[0m\u001b[0;34m\u001b[0m\u001b[0;34m\u001b[0m\u001b[0m\n\u001b[1;32m     60\u001b[0m         \u001b[0massertion_type\u001b[0m \u001b[0;34m=\u001b[0m \u001b[0mAssertionError\u001b[0m\u001b[0;34m\u001b[0m\u001b[0;34m\u001b[0m\u001b[0m\n\u001b[0;32m---> 61\u001b[0;31m     \u001b[0;32mraise\u001b[0m \u001b[0massertion_type\u001b[0m\u001b[0;34m(\u001b[0m\u001b[0mret\u001b[0m\u001b[0;34m)\u001b[0m\u001b[0;34m\u001b[0m\u001b[0;34m\u001b[0m\u001b[0m\n\u001b[0m\u001b[1;32m     62\u001b[0m \u001b[0;34m\u001b[0m\u001b[0m\n\u001b[1;32m     63\u001b[0m \u001b[0;34m\u001b[0m\u001b[0m\n",
      "\u001b[0;31mAssertionError\u001b[0m: \n################################################################################\n* Failed assertion *\n'None'\n==\n'T'\n################################################################################\n"
     ]
    }
   ],
   "source": [
    "# TODO(Max): Fix the code, once the vendor universe will be unified.\n",
    "# see CMTask985 - Fix compute_start_end_stats in CCXT-CDD comparison notebook.\n",
    "compute_start_end_stats = lambda data: ramccsta.compute_start_end_stats(\n",
    "    data, config_ccxt\n",
    ")\n",
    "ccxt_start_end_table = ramccsta.compute_stats_for_universe(\n",
    "    list(cdd_and_ccxt_cleaned),\n",
    "    config_ccxt,\n",
    "    compute_start_end_stats,\n",
    ")"
   ]
  },
  {
   "cell_type": "code",
   "execution_count": null,
   "id": "0c6607b1",
   "metadata": {
    "ExecuteTime": {
     "end_time": "2022-01-18T19:40:04.827374Z",
     "start_time": "2022-01-18T19:40:04.827361Z"
    }
   },
   "outputs": [],
   "source": [
    "ccxt_start_end_table.head(3)"
   ]
  },
  {
   "cell_type": "markdown",
   "id": "239134f1",
   "metadata": {},
   "source": [
    "### Display the union results"
   ]
  },
  {
   "cell_type": "code",
   "execution_count": null,
   "id": "20270440",
   "metadata": {
    "ExecuteTime": {
     "start_time": "2022-01-14T10:07:01.077Z"
    }
   },
   "outputs": [],
   "source": [
    "def unify_start_end_tables(\n",
    "    cdd_df: pd.DataFrame, ccxt_df: pd.DataFrame\n",
    ") -> pd.DataFrame:\n",
    "    \"\"\"\n",
    "    Combine 'CCXT' and 'CDD' start-end stats tables into one table.\n",
    "\n",
    "    :param cdd_df: start-end table for 'CCXT'\n",
    "    :param ccxt_df: start-end table for 'CDD'\n",
    "    :return: unified start-end table\n",
    "    \"\"\"\n",
    "    # Set Multiindex.\n",
    "    cdd_df = cdd_df.set_index([\"exchange_id\", \"currency_pair\"])\n",
    "    ccxt_df = ccxt_df.set_index([\"exchange_id\", \"currency_pair\"])\n",
    "    # Add suffixes.\n",
    "    ccxt_df = ccxt_df.add_suffix(\"_ccxt\")\n",
    "    cdd_df = cdd_df.add_suffix(\"_cdd\")\n",
    "    # Combine two universes.\n",
    "    ccxt_and_cdd = pd.concat([cdd_df, ccxt_df], axis=1)\n",
    "    # Sort columns.\n",
    "    cols_to_sort = ccxt_and_cdd.columns.to_list()\n",
    "    ccxt_and_cdd = ccxt_and_cdd[sorted(cols_to_sort)]\n",
    "    return ccxt_and_cdd"
   ]
  },
  {
   "cell_type": "code",
   "execution_count": null,
   "id": "ef07f325",
   "metadata": {
    "ExecuteTime": {
     "start_time": "2022-01-14T10:07:01.081Z"
    }
   },
   "outputs": [],
   "source": [
    "union_cdd_ccxt_stats = unify_start_end_tables(\n",
    "    cdd_start_end_table, ccxt_start_end_table\n",
    ")\n",
    "display(union_cdd_ccxt_stats)"
   ]
  },
  {
   "cell_type": "markdown",
   "id": "5ec25d15",
   "metadata": {},
   "source": [
    "## Comparison of full symbols that are included in 'CDD' but not available in 'CCXT'"
   ]
  },
  {
   "cell_type": "code",
   "execution_count": null,
   "id": "ce8fec83",
   "metadata": {
    "ExecuteTime": {
     "start_time": "2022-01-14T10:07:01.085Z"
    },
    "scrolled": true
   },
   "outputs": [],
   "source": [
    "# Set of full symbols that are included in `CDD` but not available in `CCXT` (cleaned from unavailable full symbols).\n",
    "cdd_and_not_ccxt_cleaned = set(cdd_universe).difference(ccxt_universe)\n",
    "len(cdd_and_not_ccxt_cleaned)"
   ]
  },
  {
   "cell_type": "code",
   "execution_count": null,
   "id": "a8353ecf",
   "metadata": {
    "ExecuteTime": {
     "start_time": "2022-01-14T10:07:01.090Z"
    }
   },
   "outputs": [],
   "source": [
    "# For 'avg_data_points_per_day' the amount of \"days_available\" is equal to 0, so it crashes the calculations.\n",
    "cdd_and_not_ccxt_cleaned.remove(\"binance::DAI_USDT\")"
   ]
  },
  {
   "cell_type": "code",
   "execution_count": null,
   "id": "51fd702d",
   "metadata": {
    "ExecuteTime": {
     "start_time": "2022-01-14T10:07:01.095Z"
    },
    "scrolled": true
   },
   "outputs": [],
   "source": [
    "compute_start_end_stats = lambda data: ramccsta.compute_start_end_stats(\n",
    "    data, config_cdd\n",
    ")\n",
    "\n",
    "cdd_unique_start_end_table = ramccsta.compute_stats_for_universe(\n",
    "    cdd_and_not_ccxt_cleaned, config_cdd, compute_start_end_stats\n",
    ")"
   ]
  },
  {
   "cell_type": "code",
   "execution_count": null,
   "id": "4a159676",
   "metadata": {
    "ExecuteTime": {
     "start_time": "2022-01-14T10:07:01.100Z"
    }
   },
   "outputs": [],
   "source": [
    "display(cdd_unique_start_end_table)"
   ]
  }
 ],
 "metadata": {
  "kernelspec": {
   "display_name": "Python 3 (ipykernel)",
   "language": "python",
   "name": "python3"
  },
  "language_info": {
   "codemirror_mode": {
    "name": "ipython",
    "version": 3
   },
   "file_extension": ".py",
   "mimetype": "text/x-python",
   "name": "python",
   "nbconvert_exporter": "python",
   "pygments_lexer": "ipython3",
   "version": "3.8.10"
  },
  "toc": {
   "base_numbering": 1,
   "nav_menu": {},
   "number_sections": true,
   "sideBar": true,
   "skip_h1_title": false,
   "title_cell": "Table of Contents",
   "title_sidebar": "Contents",
   "toc_cell": false,
   "toc_position": {},
   "toc_section_display": true,
   "toc_window_display": false
  }
 },
 "nbformat": 4,
 "nbformat_minor": 5
}
