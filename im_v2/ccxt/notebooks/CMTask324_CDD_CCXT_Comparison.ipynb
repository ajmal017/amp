{
 "cells": [
  {
   "cell_type": "markdown",
   "id": "2d5b9812",
   "metadata": {},
   "source": [
    "# Imports"
   ]
  },
  {
   "cell_type": "code",
   "execution_count": 1,
   "id": "df02857b",
   "metadata": {
    "ExecuteTime": {
     "end_time": "2021-12-29T15:52:49.444074Z",
     "start_time": "2021-12-29T15:52:48.221519Z"
    }
   },
   "outputs": [],
   "source": [
    "import logging\n",
    "import os\n",
    "\n",
    "import pandas as pd\n",
    "\n",
    "import core.config.config_ as cconconf\n",
    "import helpers.hdbg as hdbg\n",
    "import helpers.henv as henv\n",
    "import helpers.hprint as hprint\n",
    "import helpers.hs3 as hs3\n",
    "import im.cryptodatadownload.data.load.loader as imcdalolo\n",
    "import im_v2.ccxt.data.client.clients as imvcdclcl\n",
    "import im_v2.ccxt.universe.universe as imvccunun\n",
    "import im_v2.common.data.client.clients as ivcdclcl\n",
    "import research_amp.cc.statistics as ramccsta"
   ]
  },
  {
   "cell_type": "code",
   "execution_count": 2,
   "id": "e2f361e4",
   "metadata": {
    "ExecuteTime": {
     "end_time": "2021-12-29T15:52:51.928099Z",
     "start_time": "2021-12-29T15:52:49.446131Z"
    },
    "scrolled": true
   },
   "outputs": [
    {
     "name": "stdout",
     "output_type": "stream",
     "text": [
      "\u001b[0m\u001b[36mINFO\u001b[0m: > cmd='/venv/lib/python3.8/site-packages/ipykernel_launcher.py -f /home/.local/share/jupyter/runtime/kernel-a2193cbc-bb05-4b15-8a3e-40a0920b46aa.json'\n",
      "\u001b[33mWARNING\u001b[0m: Running in Jupyter\n",
      ">>ENV<<: is_inside_container=True: code_version=cmamp-1.0.3, container_version=cmamp-1.0.3, is_inside_docker=True, is_inside_ci=False, CI_defined=True, CI=''\n",
      ">>ENV<<: AM_AWS_PROFILE=True AM_ECR_BASE_PATH=True AM_S3_BUCKET=True AM_TELEGRAM_TOKEN=True AWS_ACCESS_KEY_ID=False AWS_DEFAULT_REGION=False AWS_SECRET_ACCESS_KEY=False GH_ACTION_ACCESS_TOKEN=True\n",
      "generated new fontManager\n",
      "# Git\n",
      "    branch_name='CMTask833_Unify_CDD_loader'\n",
      "    hash='934922f40'\n",
      "    # Last commits:\n",
      "      * 934922f40 Maksim Sergeychikov CMTask833: Apply new changes                                      ( 4 minutes ago) Wed Dec 29 15:48:24 2021  (HEAD -> CMTask833_Unify_CDD_loader)\n",
      "      * eef65b244 Maksim Sergeychikov CMTask833: Fix data_type                                          (   5 hours ago) Wed Dec 29 11:08:22 2021  (origin/CMTask833_Unify_CDD_loader)\n",
      "      * 2e68dcb59 Maksim Sergeychikov CMTask833: Checkpoint                                             (   6 hours ago) Wed Dec 29 10:04:44 2021           \n",
      "# Machine info\n",
      "    system=Linux\n",
      "    node name=ea87fdb18375\n",
      "    release=5.4.0-1057-aws\n",
      "    version=#60~18.04.1-Ubuntu SMP Thu Sep 9 20:38:09 UTC 2021\n",
      "    machine=x86_64\n",
      "    processor=x86_64\n",
      "    cpu count=4\n",
      "    cpu freq=scpufreq(current=2499.998, min=0.0, max=0.0)\n",
      "    memory=svmem(total=16596852736, available=11987845120, percent=27.8, used=4109230080, free=3934130176, active=7913594880, inactive=3299254272, buffers=893890560, cached=7659601920, shared=165523456, slab=1202298880)\n",
      "    disk usage=sdiskusage(total=133167038464, used=103023013888, free=30127247360, percent=77.4)\n",
      "# Packages\n",
      "    python: 3.8.10\n",
      "    gluonnlp: ?\n",
      "    gluonts: 0.6.7\n",
      "    joblib: 1.1.0\n",
      "    mxnet: 1.8.0\n",
      "    numpy: 1.21.1\n",
      "    pandas: 1.3.4\n",
      "    pyarrow: 6.0.1\n",
      "    scipy: 1.6.1\n",
      "    seaborn: 0.11.2\n",
      "    sklearn: 1.0.1\n",
      "    statsmodels: 0.13.1\n",
      "\u001b[33mWARNING\u001b[0m: Disabling annoying warnings\n"
     ]
    }
   ],
   "source": [
    "hdbg.init_logger(verbosity=logging.INFO)\n",
    "\n",
    "_LOG = logging.getLogger(__name__)\n",
    "\n",
    "_LOG.info(\"%s\", henv.get_system_signature()[0])\n",
    "\n",
    "hprint.config_notebook()"
   ]
  },
  {
   "cell_type": "markdown",
   "id": "556c6b2b",
   "metadata": {},
   "source": [
    "# Configs"
   ]
  },
  {
   "cell_type": "code",
   "execution_count": 3,
   "id": "36e03497",
   "metadata": {
    "ExecuteTime": {
     "end_time": "2021-12-29T15:52:51.933130Z",
     "start_time": "2021-12-29T15:52:51.930434Z"
    }
   },
   "outputs": [],
   "source": [
    "# Two configs are necessary in this situation because current downloading functions \n",
    "# work only with specific 'vendor' value."
   ]
  },
  {
   "cell_type": "code",
   "execution_count": 4,
   "id": "faad3a0a",
   "metadata": {
    "ExecuteTime": {
     "end_time": "2021-12-29T15:52:51.941335Z",
     "start_time": "2021-12-29T15:52:51.934538Z"
    }
   },
   "outputs": [],
   "source": [
    "def get_cmtask324_config_ccxt() -> cconconf.Config:\n",
    "    \"\"\"\n",
    "    Get task232-specific config.\n",
    "    \"\"\"\n",
    "    config = cconconf.Config()\n",
    "    # Load parameters.\n",
    "    config.add_subconfig(\"load\")\n",
    "    config[\"load\"][\"aws_profile\"] = \"am\"\n",
    "    config[\"load\"][\"data_dir\"] = os.path.join(hs3.get_path(), \"data\")\n",
    "    # Data parameters.\n",
    "    config.add_subconfig(\"data\")\n",
    "    config[\"data\"][\"data_type\"] = \"OHLCV\"\n",
    "    config[\"data\"][\"target_frequency\"] = \"T\"\n",
    "    config[\"data\"][\"universe_version\"] = \"v03\"\n",
    "    config[\"data\"][\"vendor\"] = \"CCXT\"\n",
    "    # Column names.\n",
    "    config.add_subconfig(\"column_names\")\n",
    "    config[\"column_names\"][\"close_price\"] = \"close\"\n",
    "    config[\"column_names\"][\"currency_pair\"] = \"currency_pair\"\n",
    "    config[\"column_names\"][\"exchange_id\"] = \"exchange_id\"\n",
    "    return config"
   ]
  },
  {
   "cell_type": "code",
   "execution_count": 5,
   "id": "7938181f",
   "metadata": {
    "ExecuteTime": {
     "end_time": "2021-12-29T15:52:51.948981Z",
     "start_time": "2021-12-29T15:52:51.944902Z"
    }
   },
   "outputs": [
    {
     "name": "stdout",
     "output_type": "stream",
     "text": [
      "load:\n",
      "  aws_profile: am\n",
      "  data_dir: s3://alphamatic-data/data\n",
      "data:\n",
      "  data_type: OHLCV\n",
      "  target_frequency: T\n",
      "  universe_version: v03\n",
      "  vendor: CCXT\n",
      "column_names:\n",
      "  close_price: close\n",
      "  currency_pair: currency_pair\n",
      "  exchange_id: exchange_id\n"
     ]
    }
   ],
   "source": [
    "config_ccxt = get_cmtask324_config_ccxt()\n",
    "print(config_ccxt)"
   ]
  },
  {
   "cell_type": "code",
   "execution_count": 6,
   "id": "a50f2134",
   "metadata": {
    "ExecuteTime": {
     "end_time": "2021-12-29T15:52:52.690521Z",
     "start_time": "2021-12-29T15:52:52.684962Z"
    }
   },
   "outputs": [],
   "source": [
    "def get_cmtask324_config_cdd() -> cconconf.Config:\n",
    "    \"\"\"\n",
    "    Get task324-specific config.\n",
    "    \"\"\"\n",
    "    config = cconconf.Config()\n",
    "    # Load parameters.\n",
    "    config.add_subconfig(\"load\")\n",
    "    config[\"load\"][\"aws_profile\"] = \"am\"\n",
    "    config[\"load\"][\"data_dir\"] = os.path.join(hs3.get_path(), \"data\")\n",
    "    # Data parameters.\n",
    "    config.add_subconfig(\"data\")\n",
    "    config[\"data\"][\"data_type\"] = \"OHLCV\"\n",
    "    config[\"data\"][\"target_frequency\"] = \"T\"\n",
    "    config[\"data\"][\"universe_version\"] = \"v01\"\n",
    "    config[\"data\"][\"vendor\"] = \"CDD\"\n",
    "    # Column names.\n",
    "    config.add_subconfig(\"column_names\")\n",
    "    config[\"column_names\"][\"close_price\"] = \"close\"\n",
    "    config[\"column_names\"][\"currency_pair\"] = \"currency_pair\"\n",
    "    config[\"column_names\"][\"exchange_id\"] = \"exchange_id\"\n",
    "    return config"
   ]
  },
  {
   "cell_type": "code",
   "execution_count": 7,
   "id": "793ba0b7",
   "metadata": {
    "ExecuteTime": {
     "end_time": "2021-12-29T15:52:53.142052Z",
     "start_time": "2021-12-29T15:52:53.137862Z"
    }
   },
   "outputs": [
    {
     "name": "stdout",
     "output_type": "stream",
     "text": [
      "load:\n",
      "  aws_profile: am\n",
      "  data_dir: s3://alphamatic-data/data\n",
      "data:\n",
      "  data_type: OHLCV\n",
      "  target_frequency: T\n",
      "  universe_version: v01\n",
      "  vendor: CDD\n",
      "column_names:\n",
      "  close_price: close\n",
      "  currency_pair: currency_pair\n",
      "  exchange_id: exchange_id\n"
     ]
    }
   ],
   "source": [
    "config_cdd = get_cmtask324_config_cdd()\n",
    "print(config_cdd)"
   ]
  },
  {
   "cell_type": "markdown",
   "id": "51702034",
   "metadata": {},
   "source": [
    "# Load the data universe"
   ]
  },
  {
   "cell_type": "markdown",
   "id": "70420724",
   "metadata": {},
   "source": [
    "## CCXT"
   ]
  },
  {
   "cell_type": "code",
   "execution_count": 8,
   "id": "d15816d5",
   "metadata": {
    "ExecuteTime": {
     "end_time": "2021-12-29T15:52:54.531783Z",
     "start_time": "2021-12-29T15:52:54.440454Z"
    },
    "scrolled": true
   },
   "outputs": [],
   "source": [
    "ccxt_universe = imvccunun.get_vendor_universe(version=\"v03\")"
   ]
  },
  {
   "cell_type": "markdown",
   "id": "b178b946",
   "metadata": {},
   "source": [
    "## CDD"
   ]
  },
  {
   "cell_type": "code",
   "execution_count": 9,
   "id": "a45e3fad",
   "metadata": {
    "ExecuteTime": {
     "end_time": "2021-12-29T15:52:54.880532Z",
     "start_time": "2021-12-29T15:52:54.876090Z"
    },
    "run_control": {
     "marked": false
    }
   },
   "outputs": [],
   "source": [
    "cdd_universe = imvccunun.get_vendor_universe(version=\"v01\", vendor=\"CDD\")\n",
    "# Remove non-USDT elements, since we are not interested in them.\n",
    "cdd_universe = [element for element in cdd_universe if element.endswith(\"USDT\")]"
   ]
  },
  {
   "cell_type": "markdown",
   "id": "821f2129",
   "metadata": {},
   "source": [
    "# Compare universes"
   ]
  },
  {
   "cell_type": "code",
   "execution_count": 10,
   "id": "23220816",
   "metadata": {
    "ExecuteTime": {
     "end_time": "2021-12-29T15:52:55.204648Z",
     "start_time": "2021-12-29T15:52:55.198776Z"
    }
   },
   "outputs": [
    {
     "name": "stdout",
     "output_type": "stream",
     "text": [
      "Number of full symbols in CCXT: 38\n",
      "Number of full symbols in CDD: 58\n"
     ]
    }
   ],
   "source": [
    "_LOG.info(\"Number of full symbols in CCXT: %s\", len(ccxt_universe))\n",
    "_LOG.info(\"Number of full symbols in CDD: %s\", len(cdd_universe))"
   ]
  },
  {
   "cell_type": "code",
   "execution_count": 11,
   "id": "158481db",
   "metadata": {
    "ExecuteTime": {
     "end_time": "2021-12-29T15:52:55.567165Z",
     "start_time": "2021-12-29T15:52:55.557654Z"
    }
   },
   "outputs": [
    {
     "name": "stdout",
     "output_type": "stream",
     "text": [
      "Number of similar full symbols: 18\n"
     ]
    },
    {
     "data": {
      "text/plain": [
       "{'binance::ADA_USDT',\n",
       " 'binance::BNB_USDT',\n",
       " 'binance::BTC_USDT',\n",
       " 'binance::EOS_USDT',\n",
       " 'binance::ETH_USDT',\n",
       " 'binance::LINK_USDT',\n",
       " 'binance::SOL_USDT',\n",
       " 'ftx::BNB_USDT',\n",
       " 'ftx::BTC_USDT',\n",
       " 'ftx::ETH_USDT',\n",
       " 'ftx::LINK_USDT',\n",
       " 'ftx::XRP_USDT',\n",
       " 'kucoin::ADA_USDT',\n",
       " 'kucoin::BNB_USDT',\n",
       " 'kucoin::BTC_USDT',\n",
       " 'kucoin::EOS_USDT',\n",
       " 'kucoin::ETH_USDT',\n",
       " 'kucoin::XRP_USDT'}"
      ]
     },
     "metadata": {},
     "output_type": "display_data"
    }
   ],
   "source": [
    "# Intersection of full symbols between two vendors.\n",
    "currency_pair_intersection = set(ccxt_universe).intersection(cdd_universe)\n",
    "_LOG.info(\"Number of similar full symbols: %s\", len(currency_pair_intersection))\n",
    "display(currency_pair_intersection)"
   ]
  },
  {
   "cell_type": "code",
   "execution_count": 12,
   "id": "a72f1f1f",
   "metadata": {
    "ExecuteTime": {
     "end_time": "2021-12-29T15:52:55.574775Z",
     "start_time": "2021-12-29T15:52:55.569145Z"
    },
    "scrolled": true
   },
   "outputs": [
    {
     "name": "stdout",
     "output_type": "stream",
     "text": [
      "Number of full symbols that are included in CCXT but not in CDD: 20\n"
     ]
    },
    {
     "data": {
      "text/plain": [
       "{'binance::AVAX_USDT',\n",
       " 'binance::DOGE_USDT',\n",
       " 'ftx::DOGE_USDT',\n",
       " 'ftx::SOL_USDT',\n",
       " 'gateio::ADA_USDT',\n",
       " 'gateio::AVAX_USDT',\n",
       " 'gateio::BNB_USDT',\n",
       " 'gateio::BTC_USDT',\n",
       " 'gateio::DOGE_USDT',\n",
       " 'gateio::EOS_USDT',\n",
       " 'gateio::ETH_USDT',\n",
       " 'gateio::FIL_USDT',\n",
       " 'gateio::LINK_USDT',\n",
       " 'gateio::SOL_USDT',\n",
       " 'gateio::XRP_USDT',\n",
       " 'kucoin::AVAX_USDT',\n",
       " 'kucoin::DOGE_USDT',\n",
       " 'kucoin::FIL_USDT',\n",
       " 'kucoin::LINK_USDT',\n",
       " 'kucoin::SOL_USDT'}"
      ]
     },
     "metadata": {},
     "output_type": "display_data"
    }
   ],
   "source": [
    "# Full symbols that are included in CCXT but not in CDD.\n",
    "ccxt_and_not_cdd = set(ccxt_universe).difference(cdd_universe)\n",
    "_LOG.info(\n",
    "    \"Number of full symbols that are included in CCXT but not in CDD: %s\",\n",
    "    len(ccxt_and_not_cdd),\n",
    ")\n",
    "display(ccxt_and_not_cdd)"
   ]
  },
  {
   "cell_type": "code",
   "execution_count": 13,
   "id": "0523b1b7",
   "metadata": {
    "ExecuteTime": {
     "end_time": "2021-12-29T15:52:55.628576Z",
     "start_time": "2021-12-29T15:52:55.619817Z"
    },
    "scrolled": true
   },
   "outputs": [
    {
     "name": "stdout",
     "output_type": "stream",
     "text": [
      "Number of full symbols that are included in CDD but not in CCXT: 40\n"
     ]
    },
    {
     "data": {
      "text/plain": [
       "{'binance::AAVE_USDT',\n",
       " 'binance::BAT_USDT',\n",
       " 'binance::BTT_USDT',\n",
       " 'binance::CELR_USDT',\n",
       " 'binance::CVC_USDT',\n",
       " 'binance::DAI_USDT',\n",
       " 'binance::DASH_USDT',\n",
       " 'binance::DOT_USDT',\n",
       " 'binance::ETC_USDT',\n",
       " 'binance::FIL_USDT',\n",
       " 'binance::ICP_USDT',\n",
       " 'binance::ICX_USDT',\n",
       " 'binance::LRC_USDT',\n",
       " 'binance::LTC_USDT',\n",
       " 'binance::MATIC_USDT',\n",
       " 'binance::MKR_USDT',\n",
       " 'binance::NEO_USDT',\n",
       " 'binance::ONE_USDT',\n",
       " 'binance::PAX_USDT',\n",
       " 'binance::QTUM_USDT',\n",
       " 'binance::SCU_USDT',\n",
       " 'binance::TRX_USDT',\n",
       " 'binance::TUSD_USDT',\n",
       " 'binance::UNI_USDT',\n",
       " 'binance::USDC_USDT',\n",
       " 'binance::VET_USDT',\n",
       " 'binance::XLM_USDT',\n",
       " 'binance::XMR_USDT',\n",
       " 'binance::XRP_USDT',\n",
       " 'binance::ZEC_USDT',\n",
       " 'ftx::BCH_USDT',\n",
       " 'ftx::LTC_USDT',\n",
       " 'ftx::TRX_USDT',\n",
       " 'kucoin::BCH_USDT',\n",
       " 'kucoin::DASH_USDT',\n",
       " 'kucoin::LTC_USDT',\n",
       " 'kucoin::NEO_USDT',\n",
       " 'kucoin::TRX_USDT',\n",
       " 'kucoin::XTZ_USDT',\n",
       " 'kucoin::ZEC_USDT'}"
      ]
     },
     "metadata": {},
     "output_type": "display_data"
    }
   ],
   "source": [
    "# Full symbols that are included in CDD but not in CCXT.\n",
    "cdd_and_not_ccxt = set(cdd_universe).difference(ccxt_universe)\n",
    "_LOG.info(\n",
    "    \"Number of full symbols that are included in CDD but not in CCXT: %s\",\n",
    "    len(cdd_and_not_ccxt),\n",
    ")\n",
    "display(cdd_and_not_ccxt)"
   ]
  },
  {
   "cell_type": "markdown",
   "id": "06969925",
   "metadata": {},
   "source": [
    "# Compare close prices / returns from Binance"
   ]
  },
  {
   "cell_type": "markdown",
   "id": "65eb6a58",
   "metadata": {},
   "source": [
    "## Load the data"
   ]
  },
  {
   "cell_type": "markdown",
   "id": "ae3f24d9",
   "metadata": {
    "ExecuteTime": {
     "end_time": "2021-12-08T19:37:31.258647Z",
     "start_time": "2021-12-08T19:37:31.251517Z"
    }
   },
   "source": [
    "The code below can be used to load all the existing data from two vendors CDD and CCXT. Current version is specified to Binance only, however, even for one exchange there's too many data to operate, that's why the output is the intersection of currency pairs between to universe, since one can compare only the intersection of currency pairs for two vendors."
   ]
  },
  {
   "cell_type": "code",
   "execution_count": 14,
   "id": "be827c12",
   "metadata": {
    "ExecuteTime": {
     "end_time": "2021-12-29T15:52:56.898621Z",
     "start_time": "2021-12-29T15:52:56.894365Z"
    }
   },
   "outputs": [],
   "source": [
    "# Load Binance-specific universe for CCXT.\n",
    "ccxt_binance_universe = [\n",
    "    element for element in ccxt_universe if element.startswith(\"binance\")\n",
    "]\n",
    "# Load Binnance-specific universe for CDD.\n",
    "cdd_binance_universe_initial = [\n",
    "    element for element in cdd_universe if element.startswith(\"binance\")\n",
    "]\n",
    "cdd_binance_universe = cdd_binance_universe_initial.copy()\n",
    "# SCU_USDT has incorrect columns, so can not be downloaded.\n",
    "# See CMTask244 - Cannot load CDD - binance - SCU/USDT from s3 for the reference.\n",
    "cdd_binance_universe.remove(\"binance::SCU_USDT\")\n",
    "# The intersection of Binance currency pairs from two universes.\n",
    "currency_pair_intersection_binance = set(ccxt_binance_universe).intersection(\n",
    "    cdd_binance_universe_initial\n",
    ")"
   ]
  },
  {
   "cell_type": "code",
   "execution_count": 15,
   "id": "7f3ba9fd",
   "metadata": {
    "ExecuteTime": {
     "end_time": "2021-12-29T15:52:57.408968Z",
     "start_time": "2021-12-29T15:52:57.406268Z"
    }
   },
   "outputs": [],
   "source": [
    "root_dir = os.path.join(hs3.get_path(), \"data\")"
   ]
  },
  {
   "cell_type": "code",
   "execution_count": 16,
   "id": "8db077be",
   "metadata": {
    "ExecuteTime": {
     "end_time": "2021-12-29T15:53:54.571876Z",
     "start_time": "2021-12-29T15:52:57.889276Z"
    },
    "scrolled": true
   },
   "outputs": [
    {
     "name": "stdout",
     "output_type": "stream",
     "text": [
      "Reading CDD data for exchange id='binance', currencies='SOL_USDT', from file='s3://alphamatic-data/data/cryptodatadownload/20210924/binance/SOL_USDT.csv.gz'...\n",
      "Processing CDD data for exchange id='binance', currencies='SOL_USDT'...\n",
      "Index length increased by 270 = 129252 - 128982\n",
      "Reading CDD data for exchange id='binance', currencies='BTC_USDT', from file='s3://alphamatic-data/data/cryptodatadownload/20210924/binance/BTC_USDT.csv.gz'...\n",
      "Processing CDD data for exchange id='binance', currencies='BTC_USDT'...\n",
      "Index length increased by 5289 = 1063179 - 1057890\n",
      "Reading CDD data for exchange id='binance', currencies='LINK_USDT', from file='s3://alphamatic-data/data/cryptodatadownload/20210924/binance/LINK_USDT.csv.gz'...\n",
      "Processing CDD data for exchange id='binance', currencies='LINK_USDT'...\n",
      "Index length increased by 5289 = 875139 - 869850\n",
      "Reading CDD data for exchange id='binance', currencies='BNB_USDT', from file='s3://alphamatic-data/data/cryptodatadownload/20210924/binance/BNB_USDT.csv.gz'...\n",
      "Processing CDD data for exchange id='binance', currencies='BNB_USDT'...\n",
      "Index length increased by 5289 = 840575 - 835286\n",
      "Reading CDD data for exchange id='binance', currencies='ETH_USDT', from file='s3://alphamatic-data/data/cryptodatadownload/20210924/binance/ETH_USDT.csv.gz'...\n",
      "Processing CDD data for exchange id='binance', currencies='ETH_USDT'...\n",
      "Index length increased by 5288 = 948591 - 943303\n",
      "Reading CDD data for exchange id='binance', currencies='EOS_USDT', from file='s3://alphamatic-data/data/cryptodatadownload/20210924/binance/EOS_USDT.csv.gz'...\n",
      "Processing CDD data for exchange id='binance', currencies='EOS_USDT'...\n",
      "Index length increased by 5289 = 888096 - 882807\n",
      "Reading CDD data for exchange id='binance', currencies='ADA_USDT', from file='s3://alphamatic-data/data/cryptodatadownload/20210924/binance/ADA_USDT.csv.gz'...\n",
      "Processing CDD data for exchange id='binance', currencies='ADA_USDT'...\n",
      "Index length increased by 5288 = 854976 - 849688\n"
     ]
    }
   ],
   "source": [
    "cdd_data = []\n",
    "cdd_loader = imcdalolo.CddLoader(\n",
    "    data_type=\"ohlcv\", root_dir=root_dir, aws_profile=\"am\"\n",
    ")\n",
    "\n",
    "for full_symbol in currency_pair_intersection_binance:\n",
    "    cur_data = cdd_loader.read_data(full_symbol=full_symbol)\n",
    "    cdd_data.append(cur_data)\n",
    "cdd_binance_df = pd.concat(cdd_data)"
   ]
  },
  {
   "cell_type": "code",
   "execution_count": 17,
   "id": "ab156e6d",
   "metadata": {
    "ExecuteTime": {
     "end_time": "2021-12-29T11:07:00.509705Z",
     "start_time": "2021-12-29T11:07:00.491953Z"
    }
   },
   "outputs": [
    {
     "data": {
      "text/html": [
       "<div>\n",
       "<style scoped>\n",
       "    .dataframe tbody tr th:only-of-type {\n",
       "        vertical-align: middle;\n",
       "    }\n",
       "\n",
       "    .dataframe tbody tr th {\n",
       "        vertical-align: top;\n",
       "    }\n",
       "\n",
       "    .dataframe thead th {\n",
       "        text-align: right;\n",
       "    }\n",
       "</style>\n",
       "<table border=\"1\" class=\"dataframe\">\n",
       "  <thead>\n",
       "    <tr style=\"text-align: right;\">\n",
       "      <th></th>\n",
       "      <th>open</th>\n",
       "      <th>high</th>\n",
       "      <th>low</th>\n",
       "      <th>close</th>\n",
       "      <th>volume</th>\n",
       "      <th>epoch</th>\n",
       "      <th>currency_pair</th>\n",
       "      <th>exchange_id</th>\n",
       "    </tr>\n",
       "  </thead>\n",
       "  <tbody>\n",
       "    <tr>\n",
       "      <th>2019-11-27 07:45:00+00:00</th>\n",
       "      <td>146.0</td>\n",
       "      <td>146.0</td>\n",
       "      <td>146.0</td>\n",
       "      <td>146.0</td>\n",
       "      <td>0.01</td>\n",
       "      <td>1.574841e+12</td>\n",
       "      <td>ETH/USDT</td>\n",
       "      <td>binance</td>\n",
       "    </tr>\n",
       "    <tr>\n",
       "      <th>2019-11-27 07:46:00+00:00</th>\n",
       "      <td>146.0</td>\n",
       "      <td>146.0</td>\n",
       "      <td>146.0</td>\n",
       "      <td>146.0</td>\n",
       "      <td>0.00</td>\n",
       "      <td>1.574841e+12</td>\n",
       "      <td>ETH/USDT</td>\n",
       "      <td>binance</td>\n",
       "    </tr>\n",
       "    <tr>\n",
       "      <th>2019-11-27 07:47:00+00:00</th>\n",
       "      <td>146.0</td>\n",
       "      <td>146.0</td>\n",
       "      <td>146.0</td>\n",
       "      <td>146.0</td>\n",
       "      <td>0.00</td>\n",
       "      <td>1.574841e+12</td>\n",
       "      <td>ETH/USDT</td>\n",
       "      <td>binance</td>\n",
       "    </tr>\n",
       "  </tbody>\n",
       "</table>\n",
       "</div>"
      ],
      "text/plain": [
       "                            open   high    low  close  volume         epoch currency_pair exchange_id\n",
       "2019-11-27 07:45:00+00:00  146.0  146.0  146.0  146.0    0.01  1.574841e+12      ETH/USDT     binance\n",
       "2019-11-27 07:46:00+00:00  146.0  146.0  146.0  146.0    0.00  1.574841e+12      ETH/USDT     binance\n",
       "2019-11-27 07:47:00+00:00  146.0  146.0  146.0  146.0    0.00  1.574841e+12      ETH/USDT     binance"
      ]
     },
     "metadata": {},
     "output_type": "display_data"
    },
    {
     "data": {
      "text/plain": [
       "(5599808, 8)"
      ]
     },
     "metadata": {},
     "output_type": "display_data"
    }
   ],
   "source": [
    "display(cdd_binance_df.head(3))\n",
    "display(cdd_binance_df.shape)"
   ]
  },
  {
   "cell_type": "code",
   "execution_count": 34,
   "id": "948765b9",
   "metadata": {
    "ExecuteTime": {
     "end_time": "2021-12-24T18:08:15.678437Z",
     "start_time": "2021-12-24T18:06:43.177302Z"
    },
    "scrolled": true
   },
   "outputs": [
    {
     "name": "stdout",
     "output_type": "stream",
     "text": [
      "Reading CCXT data for exchange id='binance', currencies='ADA_USDT' from file='s3://alphamatic-data/data/ccxt/20210924/binance/ADA_USDT.csv.gz'...\n",
      "Processing CCXT data for exchange id='binance', currencies='ADA_USDT'...\n",
      "Index length increased by 4520 = 1622000 - 1617480\n",
      "Reading CCXT data for exchange id='binance', currencies='BNB_USDT' from file='s3://alphamatic-data/data/ccxt/20210924/binance/BNB_USDT.csv.gz'...\n",
      "Processing CCXT data for exchange id='binance', currencies='BNB_USDT'...\n",
      "Index length increased by 4520 = 1622295 - 1617775\n",
      "Reading CCXT data for exchange id='binance', currencies='BTC_USDT' from file='s3://alphamatic-data/data/ccxt/20210924/binance/BTC_USDT.csv.gz'...\n",
      "Processing CCXT data for exchange id='binance', currencies='BTC_USDT'...\n",
      "Index length increased by 4519 = 1619641 - 1615122\n",
      "Reading CCXT data for exchange id='binance', currencies='EOS_USDT' from file='s3://alphamatic-data/data/ccxt/20210924/binance/EOS_USDT.csv.gz'...\n",
      "Processing CCXT data for exchange id='binance', currencies='EOS_USDT'...\n",
      "Index length increased by 4520 = 1622444 - 1617924\n",
      "Reading CCXT data for exchange id='binance', currencies='ETH_USDT' from file='s3://alphamatic-data/data/ccxt/20210924/binance/ETH_USDT.csv.gz'...\n",
      "Processing CCXT data for exchange id='binance', currencies='ETH_USDT'...\n",
      "Index length increased by 4520 = 1619889 - 1615369\n",
      "Reading CCXT data for exchange id='binance', currencies='LINK_USDT' from file='s3://alphamatic-data/data/ccxt/20210924/binance/LINK_USDT.csv.gz'...\n",
      "Processing CCXT data for exchange id='binance', currencies='LINK_USDT'...\n",
      "Index length increased by 3890 = 1402520 - 1398630\n",
      "Reading CCXT data for exchange id='binance', currencies='SOL_USDT' from file='s3://alphamatic-data/data/ccxt/20210924/binance/SOL_USDT.csv.gz'...\n",
      "Processing CCXT data for exchange id='binance', currencies='SOL_USDT'...\n",
      "Index length increased by 1224 = 576140 - 574916\n"
     ]
    }
   ],
   "source": [
    "ccxt_client = imvcdclcl.CcxtCsvFileSystemClient(\n",
    "    data_type=\"ohlcv\", root_dir=root_dir, aws_profile=\"am\"\n",
    ")\n",
    "multiple_symbols_client = ivcdclcl.MultipleSymbolsImClient(\n",
    "    class_=ccxt_client, mode=\"concat\"\n",
    ")\n",
    "ccxt_binance_df = multiple_symbols_client.read_data(\n",
    "    currency_pair_intersection_binance\n",
    ")"
   ]
  },
  {
   "cell_type": "code",
   "execution_count": 35,
   "id": "40d26329",
   "metadata": {
    "ExecuteTime": {
     "end_time": "2021-12-24T18:08:18.660856Z",
     "start_time": "2021-12-24T18:08:15.680549Z"
    }
   },
   "outputs": [],
   "source": [
    "ccxt_binance_df = ccxt_binance_df.sort_index()"
   ]
  },
  {
   "cell_type": "code",
   "execution_count": 36,
   "id": "f656ef6f",
   "metadata": {
    "ExecuteTime": {
     "end_time": "2021-12-24T18:08:18.680574Z",
     "start_time": "2021-12-24T18:08:18.662480Z"
    }
   },
   "outputs": [
    {
     "data": {
      "text/html": [
       "<div>\n",
       "<style scoped>\n",
       "    .dataframe tbody tr th:only-of-type {\n",
       "        vertical-align: middle;\n",
       "    }\n",
       "\n",
       "    .dataframe tbody tr th {\n",
       "        vertical-align: top;\n",
       "    }\n",
       "\n",
       "    .dataframe thead th {\n",
       "        text-align: right;\n",
       "    }\n",
       "</style>\n",
       "<table border=\"1\" class=\"dataframe\">\n",
       "  <thead>\n",
       "    <tr style=\"text-align: right;\">\n",
       "      <th></th>\n",
       "      <th>full_symbol</th>\n",
       "      <th>open</th>\n",
       "      <th>high</th>\n",
       "      <th>low</th>\n",
       "      <th>close</th>\n",
       "      <th>volume</th>\n",
       "      <th>epoch</th>\n",
       "      <th>currency_pair</th>\n",
       "      <th>exchange_id</th>\n",
       "    </tr>\n",
       "  </thead>\n",
       "  <tbody>\n",
       "    <tr>\n",
       "      <th>2018-08-17 00:00:00+00:00</th>\n",
       "      <td>binance::ADA_USDT</td>\n",
       "      <td>0.0946</td>\n",
       "      <td>0.0948</td>\n",
       "      <td>0.09442</td>\n",
       "      <td>0.09479</td>\n",
       "      <td>41334.200000</td>\n",
       "      <td>1.534464e+12</td>\n",
       "      <td>ADA_USDT</td>\n",
       "      <td>binance</td>\n",
       "    </tr>\n",
       "    <tr>\n",
       "      <th>2018-08-17 00:00:00+00:00</th>\n",
       "      <td>binance::BTC_USDT</td>\n",
       "      <td>6316.0000</td>\n",
       "      <td>6319.0400</td>\n",
       "      <td>6310.32000</td>\n",
       "      <td>6311.64000</td>\n",
       "      <td>9.967395</td>\n",
       "      <td>1.534464e+12</td>\n",
       "      <td>BTC_USDT</td>\n",
       "      <td>binance</td>\n",
       "    </tr>\n",
       "    <tr>\n",
       "      <th>2018-08-17 00:00:00+00:00</th>\n",
       "      <td>binance::BNB_USDT</td>\n",
       "      <td>9.7779</td>\n",
       "      <td>9.7791</td>\n",
       "      <td>9.75380</td>\n",
       "      <td>9.77780</td>\n",
       "      <td>520.660000</td>\n",
       "      <td>1.534464e+12</td>\n",
       "      <td>BNB_USDT</td>\n",
       "      <td>binance</td>\n",
       "    </tr>\n",
       "  </tbody>\n",
       "</table>\n",
       "</div>"
      ],
      "text/plain": [
       "                                 full_symbol       open       high         low       close        volume         epoch currency_pair exchange_id\n",
       "2018-08-17 00:00:00+00:00  binance::ADA_USDT     0.0946     0.0948     0.09442     0.09479  41334.200000  1.534464e+12      ADA_USDT     binance\n",
       "2018-08-17 00:00:00+00:00  binance::BTC_USDT  6316.0000  6319.0400  6310.32000  6311.64000      9.967395  1.534464e+12      BTC_USDT     binance\n",
       "2018-08-17 00:00:00+00:00  binance::BNB_USDT     9.7779     9.7791     9.75380     9.77780    520.660000  1.534464e+12      BNB_USDT     binance"
      ]
     },
     "metadata": {},
     "output_type": "display_data"
    },
    {
     "data": {
      "text/plain": [
       "(10084929, 9)"
      ]
     },
     "metadata": {},
     "output_type": "display_data"
    }
   ],
   "source": [
    "display(ccxt_binance_df.head(3))\n",
    "display(ccxt_binance_df.shape)"
   ]
  },
  {
   "cell_type": "markdown",
   "id": "34ce5bd1",
   "metadata": {},
   "source": [
    "## Calculate returns and correlation"
   ]
  },
  {
   "cell_type": "code",
   "execution_count": 37,
   "id": "e4a4a808",
   "metadata": {
    "ExecuteTime": {
     "end_time": "2021-12-24T18:08:21.748570Z",
     "start_time": "2021-12-24T18:08:18.683886Z"
    }
   },
   "outputs": [],
   "source": [
    "# CDD names cleaning.\n",
    "cdd_binance_df[\"currency_pair\"] = cdd_binance_df[\"currency_pair\"].str.replace(\n",
    "    \"/\", \"_\"\n",
    ")"
   ]
  },
  {
   "cell_type": "code",
   "execution_count": 38,
   "id": "c01e0a5f",
   "metadata": {
    "ExecuteTime": {
     "end_time": "2021-12-24T18:08:21.755404Z",
     "start_time": "2021-12-24T18:08:21.750246Z"
    }
   },
   "outputs": [],
   "source": [
    "def resample_close_price(df: pd.DataFrame, resampling_freq: str) -> pd.Series:\n",
    "    \"\"\"\n",
    "    Resample close price on the currency level to the specified frequency using\n",
    "    the last close price.\n",
    "\n",
    "    :param df: OHLCV data\n",
    "    :param resampling_freq: frequency from `pd.date_range()` to resample to\n",
    "    :return: resampled close price per currency\n",
    "    \"\"\"\n",
    "    # Reseting DateTime index, since pd.Grouper can't use index values.\n",
    "    df = df.reset_index().rename(columns={\"index\": \"stamp\"})\n",
    "    # Group by currency pairs and simultaneously resample to the desired frequency.\n",
    "    resampler = df.groupby(\n",
    "        [\"currency_pair\", pd.Grouper(key=\"stamp\", freq=resampling_freq)]\n",
    "    )\n",
    "    # Take the last close value from each resampling period.\n",
    "    close_series = resampler.close.last()\n",
    "    return close_series"
   ]
  },
  {
   "cell_type": "code",
   "execution_count": 39,
   "id": "e2e7ae9f",
   "metadata": {
    "ExecuteTime": {
     "end_time": "2021-12-24T18:08:21.764220Z",
     "start_time": "2021-12-24T18:08:21.757362Z"
    }
   },
   "outputs": [],
   "source": [
    "def calculate_correlations(\n",
    "    ccxt_close_price: pd.Series, cdd_close_price: pd.Series, compute_returns: bool\n",
    ") -> pd.DataFrame:\n",
    "    \"\"\"\n",
    "    Take CCXT and CDD close prices and calculate the correlations for each\n",
    "    specific currency pair.\n",
    "\n",
    "    :param ccxt_series: resampled close price per currency for CCXT\n",
    "    :param cdd_series: resampled close price per currency for CDD\n",
    "    :param compute_returns: if True - compare returns, if False - compare close prices\n",
    "    :return: correlation matrix per currency\n",
    "    \"\"\"\n",
    "    if compute_returns:\n",
    "        # Group by currency pairs in order to calculate the percentage returns.\n",
    "        grouper_cdd = cdd_close_price.groupby(\"currency_pair\")\n",
    "        cdd_close_price = grouper_cdd.pct_change()\n",
    "        grouper_ccxt = ccxt_close_price.groupby(\"currency_pair\")\n",
    "        ccxt_close_price = grouper_ccxt.pct_change()\n",
    "    # Combine and calculate correlations.\n",
    "    combined = pd.merge(\n",
    "        cdd_close_price, ccxt_close_price, left_index=True, right_index=True\n",
    "    )\n",
    "    # Rename the columns.\n",
    "    if compute_returns:\n",
    "        combined.columns = [\"ccxt_returns\", \"cdd_returns\"]\n",
    "    else:\n",
    "        combined.columns = [\"cdd_close\", \"ccxt_close\"]\n",
    "    # Group by again to calculte returns correlation for each currency pair.\n",
    "    corr_matrix = combined.groupby(level=0).corr()\n",
    "    return corr_matrix"
   ]
  },
  {
   "cell_type": "code",
   "execution_count": 40,
   "id": "975b1df0",
   "metadata": {
    "ExecuteTime": {
     "end_time": "2021-12-24T18:08:36.740138Z",
     "start_time": "2021-12-24T18:08:21.765941Z"
    }
   },
   "outputs": [],
   "source": [
    "# Corresponding resampled Series.\n",
    "ccxt_binance_series_1d = resample_close_price(ccxt_binance_df, \"1D\")\n",
    "cdd_binance_series_1d = resample_close_price(cdd_binance_df, \"1D\")\n",
    "\n",
    "ccxt_binance_series_5min = resample_close_price(ccxt_binance_df, \"5min\")\n",
    "cdd_binance_series_5min = resample_close_price(cdd_binance_df, \"5min\")"
   ]
  },
  {
   "cell_type": "markdown",
   "id": "c56c9d1e",
   "metadata": {},
   "source": [
    "### 1-day returns"
   ]
  },
  {
   "cell_type": "code",
   "execution_count": 20,
   "id": "3af8f847",
   "metadata": {
    "ExecuteTime": {
     "end_time": "2021-12-20T17:20:39.420814Z",
     "start_time": "2021-12-20T17:20:39.210087Z"
    }
   },
   "outputs": [
    {
     "data": {
      "text/html": [
       "<div>\n",
       "<style scoped>\n",
       "    .dataframe tbody tr th:only-of-type {\n",
       "        vertical-align: middle;\n",
       "    }\n",
       "\n",
       "    .dataframe tbody tr th {\n",
       "        vertical-align: top;\n",
       "    }\n",
       "\n",
       "    .dataframe thead th {\n",
       "        text-align: right;\n",
       "    }\n",
       "</style>\n",
       "<table border=\"1\" class=\"dataframe\">\n",
       "  <thead>\n",
       "    <tr style=\"text-align: right;\">\n",
       "      <th></th>\n",
       "      <th></th>\n",
       "      <th>ccxt_returns</th>\n",
       "      <th>cdd_returns</th>\n",
       "    </tr>\n",
       "    <tr>\n",
       "      <th>currency_pair</th>\n",
       "      <th></th>\n",
       "      <th></th>\n",
       "      <th></th>\n",
       "    </tr>\n",
       "  </thead>\n",
       "  <tbody>\n",
       "    <tr>\n",
       "      <th rowspan=\"2\" valign=\"top\">ADA_USDT</th>\n",
       "      <th>ccxt_returns</th>\n",
       "      <td>1.000000</td>\n",
       "      <td>0.997807</td>\n",
       "    </tr>\n",
       "    <tr>\n",
       "      <th>cdd_returns</th>\n",
       "      <td>0.997807</td>\n",
       "      <td>1.000000</td>\n",
       "    </tr>\n",
       "    <tr>\n",
       "      <th rowspan=\"2\" valign=\"top\">BNB_USDT</th>\n",
       "      <th>ccxt_returns</th>\n",
       "      <td>1.000000</td>\n",
       "      <td>0.998490</td>\n",
       "    </tr>\n",
       "    <tr>\n",
       "      <th>cdd_returns</th>\n",
       "      <td>0.998490</td>\n",
       "      <td>1.000000</td>\n",
       "    </tr>\n",
       "    <tr>\n",
       "      <th rowspan=\"2\" valign=\"top\">BTC_USDT</th>\n",
       "      <th>ccxt_returns</th>\n",
       "      <td>1.000000</td>\n",
       "      <td>0.997763</td>\n",
       "    </tr>\n",
       "    <tr>\n",
       "      <th>cdd_returns</th>\n",
       "      <td>0.997763</td>\n",
       "      <td>1.000000</td>\n",
       "    </tr>\n",
       "    <tr>\n",
       "      <th rowspan=\"2\" valign=\"top\">EOS_USDT</th>\n",
       "      <th>ccxt_returns</th>\n",
       "      <td>1.000000</td>\n",
       "      <td>0.998294</td>\n",
       "    </tr>\n",
       "    <tr>\n",
       "      <th>cdd_returns</th>\n",
       "      <td>0.998294</td>\n",
       "      <td>1.000000</td>\n",
       "    </tr>\n",
       "    <tr>\n",
       "      <th rowspan=\"2\" valign=\"top\">ETH_USDT</th>\n",
       "      <th>ccxt_returns</th>\n",
       "      <td>1.000000</td>\n",
       "      <td>0.995563</td>\n",
       "    </tr>\n",
       "    <tr>\n",
       "      <th>cdd_returns</th>\n",
       "      <td>0.995563</td>\n",
       "      <td>1.000000</td>\n",
       "    </tr>\n",
       "    <tr>\n",
       "      <th rowspan=\"2\" valign=\"top\">LINK_USDT</th>\n",
       "      <th>ccxt_returns</th>\n",
       "      <td>1.000000</td>\n",
       "      <td>0.997200</td>\n",
       "    </tr>\n",
       "    <tr>\n",
       "      <th>cdd_returns</th>\n",
       "      <td>0.997200</td>\n",
       "      <td>1.000000</td>\n",
       "    </tr>\n",
       "    <tr>\n",
       "      <th rowspan=\"2\" valign=\"top\">SOL_USDT</th>\n",
       "      <th>ccxt_returns</th>\n",
       "      <td>1.000000</td>\n",
       "      <td>0.996158</td>\n",
       "    </tr>\n",
       "    <tr>\n",
       "      <th>cdd_returns</th>\n",
       "      <td>0.996158</td>\n",
       "      <td>1.000000</td>\n",
       "    </tr>\n",
       "  </tbody>\n",
       "</table>\n",
       "</div>"
      ],
      "text/plain": [
       "                            ccxt_returns  cdd_returns\n",
       "currency_pair                                        \n",
       "ADA_USDT      ccxt_returns      1.000000     0.997807\n",
       "              cdd_returns       0.997807     1.000000\n",
       "BNB_USDT      ccxt_returns      1.000000     0.998490\n",
       "              cdd_returns       0.998490     1.000000\n",
       "BTC_USDT      ccxt_returns      1.000000     0.997763\n",
       "              cdd_returns       0.997763     1.000000\n",
       "EOS_USDT      ccxt_returns      1.000000     0.998294\n",
       "              cdd_returns       0.998294     1.000000\n",
       "ETH_USDT      ccxt_returns      1.000000     0.995563\n",
       "              cdd_returns       0.995563     1.000000\n",
       "LINK_USDT     ccxt_returns      1.000000     0.997200\n",
       "              cdd_returns       0.997200     1.000000\n",
       "SOL_USDT      ccxt_returns      1.000000     0.996158\n",
       "              cdd_returns       0.996158     1.000000"
      ]
     },
     "metadata": {},
     "output_type": "display_data"
    }
   ],
   "source": [
    "returns_corr_1day = calculate_correlations(\n",
    "    ccxt_binance_series_1d, cdd_binance_series_1d, compute_returns=True\n",
    ")\n",
    "display(returns_corr_1day)"
   ]
  },
  {
   "cell_type": "markdown",
   "id": "a5d24740",
   "metadata": {},
   "source": [
    "### 5-min returns"
   ]
  },
  {
   "cell_type": "code",
   "execution_count": 21,
   "id": "4c69e461",
   "metadata": {
    "ExecuteTime": {
     "end_time": "2021-12-20T17:21:02.031420Z",
     "start_time": "2021-12-20T17:20:39.422529Z"
    }
   },
   "outputs": [
    {
     "data": {
      "text/html": [
       "<div>\n",
       "<style scoped>\n",
       "    .dataframe tbody tr th:only-of-type {\n",
       "        vertical-align: middle;\n",
       "    }\n",
       "\n",
       "    .dataframe tbody tr th {\n",
       "        vertical-align: top;\n",
       "    }\n",
       "\n",
       "    .dataframe thead th {\n",
       "        text-align: right;\n",
       "    }\n",
       "</style>\n",
       "<table border=\"1\" class=\"dataframe\">\n",
       "  <thead>\n",
       "    <tr style=\"text-align: right;\">\n",
       "      <th></th>\n",
       "      <th></th>\n",
       "      <th>ccxt_returns</th>\n",
       "      <th>cdd_returns</th>\n",
       "    </tr>\n",
       "    <tr>\n",
       "      <th>currency_pair</th>\n",
       "      <th></th>\n",
       "      <th></th>\n",
       "      <th></th>\n",
       "    </tr>\n",
       "  </thead>\n",
       "  <tbody>\n",
       "    <tr>\n",
       "      <th rowspan=\"2\" valign=\"top\">ADA_USDT</th>\n",
       "      <th>ccxt_returns</th>\n",
       "      <td>1.000000</td>\n",
       "      <td>0.986912</td>\n",
       "    </tr>\n",
       "    <tr>\n",
       "      <th>cdd_returns</th>\n",
       "      <td>0.986912</td>\n",
       "      <td>1.000000</td>\n",
       "    </tr>\n",
       "    <tr>\n",
       "      <th rowspan=\"2\" valign=\"top\">BNB_USDT</th>\n",
       "      <th>ccxt_returns</th>\n",
       "      <td>1.000000</td>\n",
       "      <td>0.987292</td>\n",
       "    </tr>\n",
       "    <tr>\n",
       "      <th>cdd_returns</th>\n",
       "      <td>0.987292</td>\n",
       "      <td>1.000000</td>\n",
       "    </tr>\n",
       "    <tr>\n",
       "      <th rowspan=\"2\" valign=\"top\">BTC_USDT</th>\n",
       "      <th>ccxt_returns</th>\n",
       "      <td>1.000000</td>\n",
       "      <td>0.990746</td>\n",
       "    </tr>\n",
       "    <tr>\n",
       "      <th>cdd_returns</th>\n",
       "      <td>0.990746</td>\n",
       "      <td>1.000000</td>\n",
       "    </tr>\n",
       "    <tr>\n",
       "      <th rowspan=\"2\" valign=\"top\">EOS_USDT</th>\n",
       "      <th>ccxt_returns</th>\n",
       "      <td>1.000000</td>\n",
       "      <td>0.993959</td>\n",
       "    </tr>\n",
       "    <tr>\n",
       "      <th>cdd_returns</th>\n",
       "      <td>0.993959</td>\n",
       "      <td>1.000000</td>\n",
       "    </tr>\n",
       "    <tr>\n",
       "      <th rowspan=\"2\" valign=\"top\">ETH_USDT</th>\n",
       "      <th>ccxt_returns</th>\n",
       "      <td>1.000000</td>\n",
       "      <td>0.974821</td>\n",
       "    </tr>\n",
       "    <tr>\n",
       "      <th>cdd_returns</th>\n",
       "      <td>0.974821</td>\n",
       "      <td>1.000000</td>\n",
       "    </tr>\n",
       "    <tr>\n",
       "      <th rowspan=\"2\" valign=\"top\">LINK_USDT</th>\n",
       "      <th>ccxt_returns</th>\n",
       "      <td>1.000000</td>\n",
       "      <td>0.983939</td>\n",
       "    </tr>\n",
       "    <tr>\n",
       "      <th>cdd_returns</th>\n",
       "      <td>0.983939</td>\n",
       "      <td>1.000000</td>\n",
       "    </tr>\n",
       "    <tr>\n",
       "      <th rowspan=\"2\" valign=\"top\">SOL_USDT</th>\n",
       "      <th>ccxt_returns</th>\n",
       "      <td>1.000000</td>\n",
       "      <td>0.999998</td>\n",
       "    </tr>\n",
       "    <tr>\n",
       "      <th>cdd_returns</th>\n",
       "      <td>0.999998</td>\n",
       "      <td>1.000000</td>\n",
       "    </tr>\n",
       "  </tbody>\n",
       "</table>\n",
       "</div>"
      ],
      "text/plain": [
       "                            ccxt_returns  cdd_returns\n",
       "currency_pair                                        \n",
       "ADA_USDT      ccxt_returns      1.000000     0.986912\n",
       "              cdd_returns       0.986912     1.000000\n",
       "BNB_USDT      ccxt_returns      1.000000     0.987292\n",
       "              cdd_returns       0.987292     1.000000\n",
       "BTC_USDT      ccxt_returns      1.000000     0.990746\n",
       "              cdd_returns       0.990746     1.000000\n",
       "EOS_USDT      ccxt_returns      1.000000     0.993959\n",
       "              cdd_returns       0.993959     1.000000\n",
       "ETH_USDT      ccxt_returns      1.000000     0.974821\n",
       "              cdd_returns       0.974821     1.000000\n",
       "LINK_USDT     ccxt_returns      1.000000     0.983939\n",
       "              cdd_returns       0.983939     1.000000\n",
       "SOL_USDT      ccxt_returns      1.000000     0.999998\n",
       "              cdd_returns       0.999998     1.000000"
      ]
     },
     "metadata": {},
     "output_type": "display_data"
    }
   ],
   "source": [
    "returns_corr_5min = calculate_correlations(\n",
    "    ccxt_binance_series_5min, cdd_binance_series_5min, compute_returns=True\n",
    ")\n",
    "display(returns_corr_5min)"
   ]
  },
  {
   "cell_type": "markdown",
   "id": "1d22eca0",
   "metadata": {},
   "source": [
    "## Compare close prices"
   ]
  },
  {
   "cell_type": "markdown",
   "id": "28de3b77",
   "metadata": {},
   "source": [
    "### 1-day close prices"
   ]
  },
  {
   "cell_type": "code",
   "execution_count": 22,
   "id": "8014b363",
   "metadata": {
    "ExecuteTime": {
     "end_time": "2021-12-20T17:21:02.061172Z",
     "start_time": "2021-12-20T17:21:02.033641Z"
    },
    "scrolled": true
   },
   "outputs": [
    {
     "data": {
      "text/html": [
       "<div>\n",
       "<style scoped>\n",
       "    .dataframe tbody tr th:only-of-type {\n",
       "        vertical-align: middle;\n",
       "    }\n",
       "\n",
       "    .dataframe tbody tr th {\n",
       "        vertical-align: top;\n",
       "    }\n",
       "\n",
       "    .dataframe thead th {\n",
       "        text-align: right;\n",
       "    }\n",
       "</style>\n",
       "<table border=\"1\" class=\"dataframe\">\n",
       "  <thead>\n",
       "    <tr style=\"text-align: right;\">\n",
       "      <th></th>\n",
       "      <th></th>\n",
       "      <th>cdd_close</th>\n",
       "      <th>ccxt_close</th>\n",
       "    </tr>\n",
       "    <tr>\n",
       "      <th>currency_pair</th>\n",
       "      <th></th>\n",
       "      <th></th>\n",
       "      <th></th>\n",
       "    </tr>\n",
       "  </thead>\n",
       "  <tbody>\n",
       "    <tr>\n",
       "      <th rowspan=\"2\" valign=\"top\">ADA_USDT</th>\n",
       "      <th>cdd_close</th>\n",
       "      <td>1.000000</td>\n",
       "      <td>0.999995</td>\n",
       "    </tr>\n",
       "    <tr>\n",
       "      <th>ccxt_close</th>\n",
       "      <td>0.999995</td>\n",
       "      <td>1.000000</td>\n",
       "    </tr>\n",
       "    <tr>\n",
       "      <th rowspan=\"2\" valign=\"top\">BNB_USDT</th>\n",
       "      <th>cdd_close</th>\n",
       "      <td>1.000000</td>\n",
       "      <td>0.999999</td>\n",
       "    </tr>\n",
       "    <tr>\n",
       "      <th>ccxt_close</th>\n",
       "      <td>0.999999</td>\n",
       "      <td>1.000000</td>\n",
       "    </tr>\n",
       "    <tr>\n",
       "      <th rowspan=\"2\" valign=\"top\">BTC_USDT</th>\n",
       "      <th>cdd_close</th>\n",
       "      <td>1.000000</td>\n",
       "      <td>1.000000</td>\n",
       "    </tr>\n",
       "    <tr>\n",
       "      <th>ccxt_close</th>\n",
       "      <td>1.000000</td>\n",
       "      <td>1.000000</td>\n",
       "    </tr>\n",
       "    <tr>\n",
       "      <th rowspan=\"2\" valign=\"top\">EOS_USDT</th>\n",
       "      <th>cdd_close</th>\n",
       "      <td>1.000000</td>\n",
       "      <td>0.999906</td>\n",
       "    </tr>\n",
       "    <tr>\n",
       "      <th>ccxt_close</th>\n",
       "      <td>0.999906</td>\n",
       "      <td>1.000000</td>\n",
       "    </tr>\n",
       "    <tr>\n",
       "      <th rowspan=\"2\" valign=\"top\">ETH_USDT</th>\n",
       "      <th>cdd_close</th>\n",
       "      <td>1.000000</td>\n",
       "      <td>0.999994</td>\n",
       "    </tr>\n",
       "    <tr>\n",
       "      <th>ccxt_close</th>\n",
       "      <td>0.999994</td>\n",
       "      <td>1.000000</td>\n",
       "    </tr>\n",
       "    <tr>\n",
       "      <th rowspan=\"2\" valign=\"top\">LINK_USDT</th>\n",
       "      <th>cdd_close</th>\n",
       "      <td>1.000000</td>\n",
       "      <td>0.999995</td>\n",
       "    </tr>\n",
       "    <tr>\n",
       "      <th>ccxt_close</th>\n",
       "      <td>0.999995</td>\n",
       "      <td>1.000000</td>\n",
       "    </tr>\n",
       "    <tr>\n",
       "      <th rowspan=\"2\" valign=\"top\">SOL_USDT</th>\n",
       "      <th>cdd_close</th>\n",
       "      <td>1.000000</td>\n",
       "      <td>0.999474</td>\n",
       "    </tr>\n",
       "    <tr>\n",
       "      <th>ccxt_close</th>\n",
       "      <td>0.999474</td>\n",
       "      <td>1.000000</td>\n",
       "    </tr>\n",
       "  </tbody>\n",
       "</table>\n",
       "</div>"
      ],
      "text/plain": [
       "                          cdd_close  ccxt_close\n",
       "currency_pair                                  \n",
       "ADA_USDT      cdd_close    1.000000    0.999995\n",
       "              ccxt_close   0.999995    1.000000\n",
       "BNB_USDT      cdd_close    1.000000    0.999999\n",
       "              ccxt_close   0.999999    1.000000\n",
       "BTC_USDT      cdd_close    1.000000    1.000000\n",
       "              ccxt_close   1.000000    1.000000\n",
       "EOS_USDT      cdd_close    1.000000    0.999906\n",
       "              ccxt_close   0.999906    1.000000\n",
       "ETH_USDT      cdd_close    1.000000    0.999994\n",
       "              ccxt_close   0.999994    1.000000\n",
       "LINK_USDT     cdd_close    1.000000    0.999995\n",
       "              ccxt_close   0.999995    1.000000\n",
       "SOL_USDT      cdd_close    1.000000    0.999474\n",
       "              ccxt_close   0.999474    1.000000"
      ]
     },
     "metadata": {},
     "output_type": "display_data"
    }
   ],
   "source": [
    "close_corr_1day = calculate_correlations(\n",
    "    ccxt_binance_series_1d, cdd_binance_series_1d, compute_returns=False\n",
    ")\n",
    "display(close_corr_1day)"
   ]
  },
  {
   "cell_type": "markdown",
   "id": "d4f366b3",
   "metadata": {},
   "source": [
    "### 5-min close prices"
   ]
  },
  {
   "cell_type": "code",
   "execution_count": 41,
   "id": "06d58513",
   "metadata": {
    "ExecuteTime": {
     "end_time": "2021-12-24T18:08:57.912965Z",
     "start_time": "2021-12-24T18:08:36.741955Z"
    }
   },
   "outputs": [
    {
     "data": {
      "text/html": [
       "<div>\n",
       "<style scoped>\n",
       "    .dataframe tbody tr th:only-of-type {\n",
       "        vertical-align: middle;\n",
       "    }\n",
       "\n",
       "    .dataframe tbody tr th {\n",
       "        vertical-align: top;\n",
       "    }\n",
       "\n",
       "    .dataframe thead th {\n",
       "        text-align: right;\n",
       "    }\n",
       "</style>\n",
       "<table border=\"1\" class=\"dataframe\">\n",
       "  <thead>\n",
       "    <tr style=\"text-align: right;\">\n",
       "      <th></th>\n",
       "      <th></th>\n",
       "      <th>cdd_close</th>\n",
       "      <th>ccxt_close</th>\n",
       "    </tr>\n",
       "    <tr>\n",
       "      <th>currency_pair</th>\n",
       "      <th></th>\n",
       "      <th></th>\n",
       "      <th></th>\n",
       "    </tr>\n",
       "  </thead>\n",
       "  <tbody>\n",
       "    <tr>\n",
       "      <th rowspan=\"2\" valign=\"top\">ADA_USDT</th>\n",
       "      <th>cdd_close</th>\n",
       "      <td>1.000000</td>\n",
       "      <td>1.000000</td>\n",
       "    </tr>\n",
       "    <tr>\n",
       "      <th>ccxt_close</th>\n",
       "      <td>1.000000</td>\n",
       "      <td>1.000000</td>\n",
       "    </tr>\n",
       "    <tr>\n",
       "      <th rowspan=\"2\" valign=\"top\">BNB_USDT</th>\n",
       "      <th>cdd_close</th>\n",
       "      <td>1.000000</td>\n",
       "      <td>1.000000</td>\n",
       "    </tr>\n",
       "    <tr>\n",
       "      <th>ccxt_close</th>\n",
       "      <td>1.000000</td>\n",
       "      <td>1.000000</td>\n",
       "    </tr>\n",
       "    <tr>\n",
       "      <th rowspan=\"2\" valign=\"top\">BTC_USDT</th>\n",
       "      <th>cdd_close</th>\n",
       "      <td>1.000000</td>\n",
       "      <td>1.000000</td>\n",
       "    </tr>\n",
       "    <tr>\n",
       "      <th>ccxt_close</th>\n",
       "      <td>1.000000</td>\n",
       "      <td>1.000000</td>\n",
       "    </tr>\n",
       "    <tr>\n",
       "      <th rowspan=\"2\" valign=\"top\">EOS_USDT</th>\n",
       "      <th>cdd_close</th>\n",
       "      <td>1.000000</td>\n",
       "      <td>0.999999</td>\n",
       "    </tr>\n",
       "    <tr>\n",
       "      <th>ccxt_close</th>\n",
       "      <td>0.999999</td>\n",
       "      <td>1.000000</td>\n",
       "    </tr>\n",
       "    <tr>\n",
       "      <th rowspan=\"2\" valign=\"top\">ETH_USDT</th>\n",
       "      <th>cdd_close</th>\n",
       "      <td>1.000000</td>\n",
       "      <td>1.000000</td>\n",
       "    </tr>\n",
       "    <tr>\n",
       "      <th>ccxt_close</th>\n",
       "      <td>1.000000</td>\n",
       "      <td>1.000000</td>\n",
       "    </tr>\n",
       "    <tr>\n",
       "      <th rowspan=\"2\" valign=\"top\">LINK_USDT</th>\n",
       "      <th>cdd_close</th>\n",
       "      <td>1.000000</td>\n",
       "      <td>1.000000</td>\n",
       "    </tr>\n",
       "    <tr>\n",
       "      <th>ccxt_close</th>\n",
       "      <td>1.000000</td>\n",
       "      <td>1.000000</td>\n",
       "    </tr>\n",
       "    <tr>\n",
       "      <th rowspan=\"2\" valign=\"top\">SOL_USDT</th>\n",
       "      <th>cdd_close</th>\n",
       "      <td>1.000000</td>\n",
       "      <td>1.000000</td>\n",
       "    </tr>\n",
       "    <tr>\n",
       "      <th>ccxt_close</th>\n",
       "      <td>1.000000</td>\n",
       "      <td>1.000000</td>\n",
       "    </tr>\n",
       "  </tbody>\n",
       "</table>\n",
       "</div>"
      ],
      "text/plain": [
       "                          cdd_close  ccxt_close\n",
       "currency_pair                                  \n",
       "ADA_USDT      cdd_close    1.000000    1.000000\n",
       "              ccxt_close   1.000000    1.000000\n",
       "BNB_USDT      cdd_close    1.000000    1.000000\n",
       "              ccxt_close   1.000000    1.000000\n",
       "BTC_USDT      cdd_close    1.000000    1.000000\n",
       "              ccxt_close   1.000000    1.000000\n",
       "EOS_USDT      cdd_close    1.000000    0.999999\n",
       "              ccxt_close   0.999999    1.000000\n",
       "ETH_USDT      cdd_close    1.000000    1.000000\n",
       "              ccxt_close   1.000000    1.000000\n",
       "LINK_USDT     cdd_close    1.000000    1.000000\n",
       "              ccxt_close   1.000000    1.000000\n",
       "SOL_USDT      cdd_close    1.000000    1.000000\n",
       "              ccxt_close   1.000000    1.000000"
      ]
     },
     "metadata": {},
     "output_type": "display_data"
    }
   ],
   "source": [
    "close_corr_5min = calculate_correlations(\n",
    "    ccxt_binance_series_5min, cdd_binance_series_5min, compute_returns=False\n",
    ")\n",
    "display(close_corr_5min)"
   ]
  },
  {
   "cell_type": "markdown",
   "id": "e4990d15",
   "metadata": {},
   "source": [
    "# Statistical properties of a full symbol in CDD"
   ]
  },
  {
   "cell_type": "code",
   "execution_count": 14,
   "id": "d39f6575",
   "metadata": {
    "ExecuteTime": {
     "end_time": "2021-12-24T17:55:04.805812Z",
     "start_time": "2021-12-24T17:55:04.800597Z"
    }
   },
   "outputs": [],
   "source": [
    "# Clearing CDD currency pairs that are incorrect.\n",
    "\n",
    "# Binance\n",
    "cdd_universe.remove(\"binance::SCU_USDT\")\n",
    "\n",
    "# ftx has some critical mistakes in the downloading process, so can not continue analysis with them.\n",
    "# see CMTask801 - Downloading issues of FTX exchange from CDD universe for further reference.\n",
    "cdd_ftx_universe = [\n",
    "    element for element in cdd_universe if element.startswith(\"ftx\")\n",
    "]\n",
    "for elem in cdd_ftx_universe:\n",
    "    cdd_universe.remove(elem)\n",
    "\n",
    "# kucoin exchange: the timestamps are obviously wrong and with too short time period.\n",
    "# see CMTask253 - Fix timestamp for CDD - kucoin for reference.\n",
    "cdd_kucoin_universe = [\n",
    "    element for element in cdd_universe if element.startswith(\"kucoin\")\n",
    "]\n",
    "for elem in cdd_kucoin_universe:\n",
    "    cdd_universe.remove(elem)"
   ]
  },
  {
   "cell_type": "markdown",
   "id": "001554a6",
   "metadata": {},
   "source": [
    "## Comparison of intersection of full symbols between CCXT and CDD"
   ]
  },
  {
   "cell_type": "code",
   "execution_count": 15,
   "id": "59007146",
   "metadata": {
    "ExecuteTime": {
     "end_time": "2021-12-24T17:55:07.721244Z",
     "start_time": "2021-12-24T17:55:07.716035Z"
    }
   },
   "outputs": [
    {
     "data": {
      "text/plain": [
       "7"
      ]
     },
     "execution_count": 15,
     "metadata": {},
     "output_type": "execute_result"
    }
   ],
   "source": [
    "# Full symbols that are included in CDD but not in CCXT (cleaned from unavailable full symbols).\n",
    "cdd_and_ccxt_cleaned = set(ccxt_universe).intersection(cdd_universe)\n",
    "len(cdd_and_ccxt_cleaned)"
   ]
  },
  {
   "cell_type": "markdown",
   "id": "6f2b83d7",
   "metadata": {
    "ExecuteTime": {
     "end_time": "2021-12-23T18:36:00.930420Z",
     "start_time": "2021-12-23T18:36:00.928103Z"
    },
    "scrolled": true
   },
   "source": [
    "### Load the intersection of full symbols for CDD and CCXT"
   ]
  },
  {
   "cell_type": "markdown",
   "id": "fee49b32",
   "metadata": {},
   "source": [
    "#### CDD"
   ]
  },
  {
   "cell_type": "code",
   "execution_count": 16,
   "id": "e9c1b048",
   "metadata": {
    "ExecuteTime": {
     "end_time": "2021-12-24T17:57:31.951866Z",
     "start_time": "2021-12-24T17:55:10.861490Z"
    },
    "scrolled": true
   },
   "outputs": [
    {
     "name": "stdout",
     "output_type": "stream",
     "text": [
      "Reading CDD data for exchange id='binance', currencies='BNB_USDT', from file='s3://alphamatic-data/data/cryptodatadownload/20210924/binance/BNB_USDT.csv.gz'...\n",
      "Processing CDD data for exchange id='binance', currencies='BNB_USDT'...\n",
      "Index length increased by 5289 = 840575 - 835286\n",
      "Reading CDD data for exchange id='binance', currencies='EOS_USDT', from file='s3://alphamatic-data/data/cryptodatadownload/20210924/binance/EOS_USDT.csv.gz'...\n",
      "Processing CDD data for exchange id='binance', currencies='EOS_USDT'...\n",
      "Index length increased by 5289 = 888096 - 882807\n",
      "Reading CDD data for exchange id='binance', currencies='SOL_USDT', from file='s3://alphamatic-data/data/cryptodatadownload/20210924/binance/SOL_USDT.csv.gz'...\n",
      "Processing CDD data for exchange id='binance', currencies='SOL_USDT'...\n",
      "Index length increased by 270 = 129252 - 128982\n",
      "Reading CDD data for exchange id='binance', currencies='BTC_USDT', from file='s3://alphamatic-data/data/cryptodatadownload/20210924/binance/BTC_USDT.csv.gz'...\n",
      "Processing CDD data for exchange id='binance', currencies='BTC_USDT'...\n",
      "Index length increased by 5289 = 1063179 - 1057890\n",
      "Reading CDD data for exchange id='binance', currencies='LINK_USDT', from file='s3://alphamatic-data/data/cryptodatadownload/20210924/binance/LINK_USDT.csv.gz'...\n",
      "Processing CDD data for exchange id='binance', currencies='LINK_USDT'...\n",
      "Index length increased by 5289 = 875139 - 869850\n",
      "Reading CDD data for exchange id='binance', currencies='ADA_USDT', from file='s3://alphamatic-data/data/cryptodatadownload/20210924/binance/ADA_USDT.csv.gz'...\n",
      "Processing CDD data for exchange id='binance', currencies='ADA_USDT'...\n",
      "Index length increased by 5288 = 854976 - 849688\n",
      "Reading CDD data for exchange id='binance', currencies='ETH_USDT', from file='s3://alphamatic-data/data/cryptodatadownload/20210924/binance/ETH_USDT.csv.gz'...\n",
      "Processing CDD data for exchange id='binance', currencies='ETH_USDT'...\n",
      "Index length increased by 5288 = 948591 - 943303\n"
     ]
    }
   ],
   "source": [
    "compute_start_end_stats = lambda data: ramccsta.compute_start_end_stats(\n",
    "    data, config_cdd\n",
    ")\n",
    "\n",
    "cdd_start_end_table = ramccsta.compute_stats_for_universe(\n",
    "    cdd_and_ccxt_cleaned, config_cdd, compute_start_end_stats\n",
    ")"
   ]
  },
  {
   "cell_type": "code",
   "execution_count": 17,
   "id": "b239344d",
   "metadata": {
    "ExecuteTime": {
     "end_time": "2021-12-24T17:57:31.957657Z",
     "start_time": "2021-12-24T17:57:31.953762Z"
    }
   },
   "outputs": [],
   "source": [
    "# CDD names cleaning.\n",
    "cdd_start_end_table[\"currency_pair\"] = cdd_start_end_table[\n",
    "    \"currency_pair\"\n",
    "].str.replace(\"/\", \"_\")"
   ]
  },
  {
   "cell_type": "code",
   "execution_count": 18,
   "id": "55437ec2",
   "metadata": {
    "ExecuteTime": {
     "end_time": "2021-12-24T17:57:31.975436Z",
     "start_time": "2021-12-24T17:57:31.959147Z"
    }
   },
   "outputs": [
    {
     "data": {
      "text/html": [
       "<div>\n",
       "<style scoped>\n",
       "    .dataframe tbody tr th:only-of-type {\n",
       "        vertical-align: middle;\n",
       "    }\n",
       "\n",
       "    .dataframe tbody tr th {\n",
       "        vertical-align: top;\n",
       "    }\n",
       "\n",
       "    .dataframe thead th {\n",
       "        text-align: right;\n",
       "    }\n",
       "</style>\n",
       "<table border=\"1\" class=\"dataframe\">\n",
       "  <thead>\n",
       "    <tr style=\"text-align: right;\">\n",
       "      <th></th>\n",
       "      <th>exchange_id</th>\n",
       "      <th>currency_pair</th>\n",
       "      <th>min_timestamp</th>\n",
       "      <th>max_timestamp</th>\n",
       "      <th>n_data_points</th>\n",
       "      <th>coverage</th>\n",
       "      <th>days_available</th>\n",
       "      <th>avg_data_points_per_day</th>\n",
       "      <th>longest_not_nan_seq_days</th>\n",
       "      <th>longest_not_nan_seq_perc</th>\n",
       "      <th>longest_not_nan_seq_start_date</th>\n",
       "      <th>longest_not_nan_seq_end_date</th>\n",
       "      <th>vendor</th>\n",
       "    </tr>\n",
       "  </thead>\n",
       "  <tbody>\n",
       "    <tr>\n",
       "      <th>0</th>\n",
       "      <td>binance</td>\n",
       "      <td>BNB_USDT</td>\n",
       "      <td>2020-02-10 08:01:00+00:00</td>\n",
       "      <td>2021-09-16 01:35:00+00:00</td>\n",
       "      <td>835286</td>\n",
       "      <td>99.370788</td>\n",
       "      <td>583</td>\n",
       "      <td>1432.737564</td>\n",
       "      <td>293</td>\n",
       "      <td>50.351129</td>\n",
       "      <td>2020-02-10 08:01:00+00:00</td>\n",
       "      <td>2020-11-30 05:59:00+00:00</td>\n",
       "      <td>CDD</td>\n",
       "    </tr>\n",
       "    <tr>\n",
       "      <th>1</th>\n",
       "      <td>binance</td>\n",
       "      <td>EOS_USDT</td>\n",
       "      <td>2020-01-08 08:00:00+00:00</td>\n",
       "      <td>2021-09-16 01:35:00+00:00</td>\n",
       "      <td>882807</td>\n",
       "      <td>99.404456</td>\n",
       "      <td>616</td>\n",
       "      <td>1433.128247</td>\n",
       "      <td>326</td>\n",
       "      <td>53.007783</td>\n",
       "      <td>2020-01-08 08:00:00+00:00</td>\n",
       "      <td>2020-11-30 05:59:00+00:00</td>\n",
       "      <td>CDD</td>\n",
       "    </tr>\n",
       "    <tr>\n",
       "      <th>2</th>\n",
       "      <td>binance</td>\n",
       "      <td>SOL_USDT</td>\n",
       "      <td>2021-06-06 06:57:00+00:00</td>\n",
       "      <td>2021-09-04 01:08:00+00:00</td>\n",
       "      <td>128982</td>\n",
       "      <td>99.791106</td>\n",
       "      <td>89</td>\n",
       "      <td>1449.235955</td>\n",
       "      <td>67</td>\n",
       "      <td>75.529199</td>\n",
       "      <td>2021-06-06 06:57:00+00:00</td>\n",
       "      <td>2021-08-13 01:59:00+00:00</td>\n",
       "      <td>CDD</td>\n",
       "    </tr>\n",
       "  </tbody>\n",
       "</table>\n",
       "</div>"
      ],
      "text/plain": [
       "  exchange_id currency_pair             min_timestamp             max_timestamp n_data_points   coverage days_available avg_data_points_per_day longest_not_nan_seq_days longest_not_nan_seq_perc longest_not_nan_seq_start_date longest_not_nan_seq_end_date vendor\n",
       "0     binance      BNB_USDT 2020-02-10 08:01:00+00:00 2021-09-16 01:35:00+00:00        835286  99.370788            583             1432.737564                      293                50.351129      2020-02-10 08:01:00+00:00    2020-11-30 05:59:00+00:00    CDD\n",
       "1     binance      EOS_USDT 2020-01-08 08:00:00+00:00 2021-09-16 01:35:00+00:00        882807  99.404456            616             1433.128247                      326                53.007783      2020-01-08 08:00:00+00:00    2020-11-30 05:59:00+00:00    CDD\n",
       "2     binance      SOL_USDT 2021-06-06 06:57:00+00:00 2021-09-04 01:08:00+00:00        128982  99.791106             89             1449.235955                       67                75.529199      2021-06-06 06:57:00+00:00    2021-08-13 01:59:00+00:00    CDD"
      ]
     },
     "execution_count": 18,
     "metadata": {},
     "output_type": "execute_result"
    }
   ],
   "source": [
    "cdd_start_end_table.head(3)"
   ]
  },
  {
   "cell_type": "markdown",
   "id": "88facaca",
   "metadata": {},
   "source": [
    "#### CCXT"
   ]
  },
  {
   "cell_type": "code",
   "execution_count": 19,
   "id": "addf8fbd",
   "metadata": {
    "ExecuteTime": {
     "end_time": "2021-12-24T18:01:05.709222Z",
     "start_time": "2021-12-24T17:57:31.977768Z"
    },
    "scrolled": true
   },
   "outputs": [
    {
     "name": "stdout",
     "output_type": "stream",
     "text": [
      "Reading CCXT data for exchange id='binance', currencies='BNB_USDT' from file='s3://alphamatic-data/data/ccxt/20210924/binance/BNB_USDT.csv.gz'...\n",
      "Processing CCXT data for exchange id='binance', currencies='BNB_USDT'...\n",
      "Index length increased by 4520 = 1622295 - 1617775\n",
      "Reading CCXT data for exchange id='binance', currencies='EOS_USDT' from file='s3://alphamatic-data/data/ccxt/20210924/binance/EOS_USDT.csv.gz'...\n",
      "Processing CCXT data for exchange id='binance', currencies='EOS_USDT'...\n",
      "Index length increased by 4520 = 1622444 - 1617924\n",
      "Reading CCXT data for exchange id='binance', currencies='SOL_USDT' from file='s3://alphamatic-data/data/ccxt/20210924/binance/SOL_USDT.csv.gz'...\n",
      "Processing CCXT data for exchange id='binance', currencies='SOL_USDT'...\n",
      "Index length increased by 1224 = 576140 - 574916\n",
      "Reading CCXT data for exchange id='binance', currencies='BTC_USDT' from file='s3://alphamatic-data/data/ccxt/20210924/binance/BTC_USDT.csv.gz'...\n",
      "Processing CCXT data for exchange id='binance', currencies='BTC_USDT'...\n",
      "Index length increased by 4519 = 1619641 - 1615122\n",
      "Reading CCXT data for exchange id='binance', currencies='LINK_USDT' from file='s3://alphamatic-data/data/ccxt/20210924/binance/LINK_USDT.csv.gz'...\n",
      "Processing CCXT data for exchange id='binance', currencies='LINK_USDT'...\n",
      "Index length increased by 3890 = 1402520 - 1398630\n",
      "Reading CCXT data for exchange id='binance', currencies='ADA_USDT' from file='s3://alphamatic-data/data/ccxt/20210924/binance/ADA_USDT.csv.gz'...\n",
      "Processing CCXT data for exchange id='binance', currencies='ADA_USDT'...\n",
      "Index length increased by 4520 = 1622000 - 1617480\n",
      "Reading CCXT data for exchange id='binance', currencies='ETH_USDT' from file='s3://alphamatic-data/data/ccxt/20210924/binance/ETH_USDT.csv.gz'...\n",
      "Processing CCXT data for exchange id='binance', currencies='ETH_USDT'...\n",
      "Index length increased by 4520 = 1619889 - 1615369\n"
     ]
    }
   ],
   "source": [
    "compute_start_end_stats = lambda data: ramccsta.compute_start_end_stats(\n",
    "    data, config_ccxt\n",
    ")\n",
    "\n",
    "ccxt_start_end_table = ramccsta.compute_stats_for_universe(\n",
    "    cdd_and_ccxt_cleaned, config_ccxt, compute_start_end_stats\n",
    ")"
   ]
  },
  {
   "cell_type": "code",
   "execution_count": 20,
   "id": "0c6607b1",
   "metadata": {
    "ExecuteTime": {
     "end_time": "2021-12-24T18:01:05.726554Z",
     "start_time": "2021-12-24T18:01:05.710848Z"
    }
   },
   "outputs": [
    {
     "data": {
      "text/html": [
       "<div>\n",
       "<style scoped>\n",
       "    .dataframe tbody tr th:only-of-type {\n",
       "        vertical-align: middle;\n",
       "    }\n",
       "\n",
       "    .dataframe tbody tr th {\n",
       "        vertical-align: top;\n",
       "    }\n",
       "\n",
       "    .dataframe thead th {\n",
       "        text-align: right;\n",
       "    }\n",
       "</style>\n",
       "<table border=\"1\" class=\"dataframe\">\n",
       "  <thead>\n",
       "    <tr style=\"text-align: right;\">\n",
       "      <th></th>\n",
       "      <th>exchange_id</th>\n",
       "      <th>currency_pair</th>\n",
       "      <th>min_timestamp</th>\n",
       "      <th>max_timestamp</th>\n",
       "      <th>n_data_points</th>\n",
       "      <th>coverage</th>\n",
       "      <th>days_available</th>\n",
       "      <th>avg_data_points_per_day</th>\n",
       "      <th>longest_not_nan_seq_days</th>\n",
       "      <th>longest_not_nan_seq_perc</th>\n",
       "      <th>longest_not_nan_seq_start_date</th>\n",
       "      <th>longest_not_nan_seq_end_date</th>\n",
       "      <th>vendor</th>\n",
       "    </tr>\n",
       "  </thead>\n",
       "  <tbody>\n",
       "    <tr>\n",
       "      <th>0</th>\n",
       "      <td>binance</td>\n",
       "      <td>BNB_USDT</td>\n",
       "      <td>2018-08-17 00:00:00+00:00</td>\n",
       "      <td>2021-09-16 14:14:00+00:00</td>\n",
       "      <td>1617775</td>\n",
       "      <td>99.721382</td>\n",
       "      <td>1126</td>\n",
       "      <td>1436.745115</td>\n",
       "      <td>155</td>\n",
       "      <td>13.760136</td>\n",
       "      <td>2020-06-28 05:30:00+00:00</td>\n",
       "      <td>2020-11-30 05:59:00+00:00</td>\n",
       "      <td>CCXT</td>\n",
       "    </tr>\n",
       "    <tr>\n",
       "      <th>1</th>\n",
       "      <td>binance</td>\n",
       "      <td>EOS_USDT</td>\n",
       "      <td>2018-08-17 00:00:00+00:00</td>\n",
       "      <td>2021-09-16 16:43:00+00:00</td>\n",
       "      <td>1617924</td>\n",
       "      <td>99.721408</td>\n",
       "      <td>1126</td>\n",
       "      <td>1436.877442</td>\n",
       "      <td>155</td>\n",
       "      <td>13.758872</td>\n",
       "      <td>2020-06-28 05:30:00+00:00</td>\n",
       "      <td>2020-11-30 05:59:00+00:00</td>\n",
       "      <td>CCXT</td>\n",
       "    </tr>\n",
       "    <tr>\n",
       "      <th>2</th>\n",
       "      <td>binance</td>\n",
       "      <td>SOL_USDT</td>\n",
       "      <td>2020-08-11 06:00:00+00:00</td>\n",
       "      <td>2021-09-15 08:19:00+00:00</td>\n",
       "      <td>574916</td>\n",
       "      <td>99.787552</td>\n",
       "      <td>400</td>\n",
       "      <td>1437.29</td>\n",
       "      <td>110</td>\n",
       "      <td>27.743257</td>\n",
       "      <td>2020-08-11 06:00:00+00:00</td>\n",
       "      <td>2020-11-30 05:59:00+00:00</td>\n",
       "      <td>CCXT</td>\n",
       "    </tr>\n",
       "  </tbody>\n",
       "</table>\n",
       "</div>"
      ],
      "text/plain": [
       "  exchange_id currency_pair             min_timestamp             max_timestamp n_data_points   coverage days_available avg_data_points_per_day longest_not_nan_seq_days longest_not_nan_seq_perc longest_not_nan_seq_start_date longest_not_nan_seq_end_date vendor\n",
       "0     binance      BNB_USDT 2018-08-17 00:00:00+00:00 2021-09-16 14:14:00+00:00       1617775  99.721382           1126             1436.745115                      155                13.760136      2020-06-28 05:30:00+00:00    2020-11-30 05:59:00+00:00   CCXT\n",
       "1     binance      EOS_USDT 2018-08-17 00:00:00+00:00 2021-09-16 16:43:00+00:00       1617924  99.721408           1126             1436.877442                      155                13.758872      2020-06-28 05:30:00+00:00    2020-11-30 05:59:00+00:00   CCXT\n",
       "2     binance      SOL_USDT 2020-08-11 06:00:00+00:00 2021-09-15 08:19:00+00:00        574916  99.787552            400                 1437.29                      110                27.743257      2020-08-11 06:00:00+00:00    2020-11-30 05:59:00+00:00   CCXT"
      ]
     },
     "execution_count": 20,
     "metadata": {},
     "output_type": "execute_result"
    }
   ],
   "source": [
    "ccxt_start_end_table.head(3)"
   ]
  },
  {
   "cell_type": "markdown",
   "id": "239134f1",
   "metadata": {},
   "source": [
    "### Display the union results"
   ]
  },
  {
   "cell_type": "code",
   "execution_count": 23,
   "id": "20270440",
   "metadata": {
    "ExecuteTime": {
     "end_time": "2021-12-24T18:02:53.124486Z",
     "start_time": "2021-12-24T18:02:53.119322Z"
    }
   },
   "outputs": [],
   "source": [
    "def unify_start_end_tables(\n",
    "    cdd_df: pd.DataFrame, ccxt_df: pd.DataFrame\n",
    ") -> pd.DataFrame:\n",
    "    \"\"\"\n",
    "    Combine CCXT and CDD start-end stats tables into unique table.\n",
    "\n",
    "    :param cdd_df: start-end table for CCXT\n",
    "    :param ccxt_df: start-end table for CDD\n",
    "    :return: unified start-end table\n",
    "    \"\"\"\n",
    "    # set Multiindex.\n",
    "    cdd_df = cdd_df.set_index([\"exchange_id\", \"currency_pair\"])\n",
    "    ccxt_df = ccxt_df.set_index([\"exchange_id\", \"currency_pair\"])\n",
    "    # add suffixes.\n",
    "    ccxt_df = ccxt_df.add_suffix(\"_ccxt\")\n",
    "    cdd_df = cdd_df.add_suffix(\"_cdd\")\n",
    "    # combine two universes.\n",
    "    ccxt_and_cdd = pd.concat([cdd_df, ccxt_df], axis=1)\n",
    "    # sort columns.\n",
    "    cols_to_sort = ccxt_and_cdd.columns.to_list()\n",
    "    ccxt_and_cdd = ccxt_and_cdd[sorted(cols_to_sort)]\n",
    "    return ccxt_and_cdd"
   ]
  },
  {
   "cell_type": "code",
   "execution_count": 24,
   "id": "ef07f325",
   "metadata": {
    "ExecuteTime": {
     "end_time": "2021-12-24T18:02:53.735728Z",
     "start_time": "2021-12-24T18:02:53.701150Z"
    }
   },
   "outputs": [
    {
     "data": {
      "text/html": [
       "<div>\n",
       "<style scoped>\n",
       "    .dataframe tbody tr th:only-of-type {\n",
       "        vertical-align: middle;\n",
       "    }\n",
       "\n",
       "    .dataframe tbody tr th {\n",
       "        vertical-align: top;\n",
       "    }\n",
       "\n",
       "    .dataframe thead th {\n",
       "        text-align: right;\n",
       "    }\n",
       "</style>\n",
       "<table border=\"1\" class=\"dataframe\">\n",
       "  <thead>\n",
       "    <tr style=\"text-align: right;\">\n",
       "      <th></th>\n",
       "      <th></th>\n",
       "      <th>avg_data_points_per_day_ccxt</th>\n",
       "      <th>avg_data_points_per_day_cdd</th>\n",
       "      <th>coverage_ccxt</th>\n",
       "      <th>coverage_cdd</th>\n",
       "      <th>days_available_ccxt</th>\n",
       "      <th>days_available_cdd</th>\n",
       "      <th>longest_not_nan_seq_days_ccxt</th>\n",
       "      <th>longest_not_nan_seq_days_cdd</th>\n",
       "      <th>longest_not_nan_seq_end_date_ccxt</th>\n",
       "      <th>longest_not_nan_seq_end_date_cdd</th>\n",
       "      <th>longest_not_nan_seq_perc_ccxt</th>\n",
       "      <th>longest_not_nan_seq_perc_cdd</th>\n",
       "      <th>longest_not_nan_seq_start_date_ccxt</th>\n",
       "      <th>longest_not_nan_seq_start_date_cdd</th>\n",
       "      <th>max_timestamp_ccxt</th>\n",
       "      <th>max_timestamp_cdd</th>\n",
       "      <th>min_timestamp_ccxt</th>\n",
       "      <th>min_timestamp_cdd</th>\n",
       "      <th>n_data_points_ccxt</th>\n",
       "      <th>n_data_points_cdd</th>\n",
       "      <th>vendor_ccxt</th>\n",
       "      <th>vendor_cdd</th>\n",
       "    </tr>\n",
       "    <tr>\n",
       "      <th>exchange_id</th>\n",
       "      <th>currency_pair</th>\n",
       "      <th></th>\n",
       "      <th></th>\n",
       "      <th></th>\n",
       "      <th></th>\n",
       "      <th></th>\n",
       "      <th></th>\n",
       "      <th></th>\n",
       "      <th></th>\n",
       "      <th></th>\n",
       "      <th></th>\n",
       "      <th></th>\n",
       "      <th></th>\n",
       "      <th></th>\n",
       "      <th></th>\n",
       "      <th></th>\n",
       "      <th></th>\n",
       "      <th></th>\n",
       "      <th></th>\n",
       "      <th></th>\n",
       "      <th></th>\n",
       "      <th></th>\n",
       "      <th></th>\n",
       "    </tr>\n",
       "  </thead>\n",
       "  <tbody>\n",
       "    <tr>\n",
       "      <th rowspan=\"7\" valign=\"top\">binance</th>\n",
       "      <th>BNB_USDT</th>\n",
       "      <td>1436.745115</td>\n",
       "      <td>1432.737564</td>\n",
       "      <td>99.721382</td>\n",
       "      <td>99.370788</td>\n",
       "      <td>1126</td>\n",
       "      <td>583</td>\n",
       "      <td>155</td>\n",
       "      <td>293</td>\n",
       "      <td>2020-11-30 05:59:00+00:00</td>\n",
       "      <td>2020-11-30 05:59:00+00:00</td>\n",
       "      <td>13.760136</td>\n",
       "      <td>50.351129</td>\n",
       "      <td>2020-06-28 05:30:00+00:00</td>\n",
       "      <td>2020-02-10 08:01:00+00:00</td>\n",
       "      <td>2021-09-16 14:14:00+00:00</td>\n",
       "      <td>2021-09-16 01:35:00+00:00</td>\n",
       "      <td>2018-08-17 00:00:00+00:00</td>\n",
       "      <td>2020-02-10 08:01:00+00:00</td>\n",
       "      <td>1617775</td>\n",
       "      <td>835286</td>\n",
       "      <td>CCXT</td>\n",
       "      <td>CDD</td>\n",
       "    </tr>\n",
       "    <tr>\n",
       "      <th>EOS_USDT</th>\n",
       "      <td>1436.877442</td>\n",
       "      <td>1433.128247</td>\n",
       "      <td>99.721408</td>\n",
       "      <td>99.404456</td>\n",
       "      <td>1126</td>\n",
       "      <td>616</td>\n",
       "      <td>155</td>\n",
       "      <td>326</td>\n",
       "      <td>2020-11-30 05:59:00+00:00</td>\n",
       "      <td>2020-11-30 05:59:00+00:00</td>\n",
       "      <td>13.758872</td>\n",
       "      <td>53.007783</td>\n",
       "      <td>2020-06-28 05:30:00+00:00</td>\n",
       "      <td>2020-01-08 08:00:00+00:00</td>\n",
       "      <td>2021-09-16 16:43:00+00:00</td>\n",
       "      <td>2021-09-16 01:35:00+00:00</td>\n",
       "      <td>2018-08-17 00:00:00+00:00</td>\n",
       "      <td>2020-01-08 08:00:00+00:00</td>\n",
       "      <td>1617924</td>\n",
       "      <td>882807</td>\n",
       "      <td>CCXT</td>\n",
       "      <td>CDD</td>\n",
       "    </tr>\n",
       "    <tr>\n",
       "      <th>SOL_USDT</th>\n",
       "      <td>1437.29</td>\n",
       "      <td>1449.235955</td>\n",
       "      <td>99.787552</td>\n",
       "      <td>99.791106</td>\n",
       "      <td>400</td>\n",
       "      <td>89</td>\n",
       "      <td>110</td>\n",
       "      <td>67</td>\n",
       "      <td>2020-11-30 05:59:00+00:00</td>\n",
       "      <td>2021-08-13 01:59:00+00:00</td>\n",
       "      <td>27.743257</td>\n",
       "      <td>75.529199</td>\n",
       "      <td>2020-08-11 06:00:00+00:00</td>\n",
       "      <td>2021-06-06 06:57:00+00:00</td>\n",
       "      <td>2021-09-15 08:19:00+00:00</td>\n",
       "      <td>2021-09-04 01:08:00+00:00</td>\n",
       "      <td>2020-08-11 06:00:00+00:00</td>\n",
       "      <td>2021-06-06 06:57:00+00:00</td>\n",
       "      <td>574916</td>\n",
       "      <td>128982</td>\n",
       "      <td>CCXT</td>\n",
       "      <td>CDD</td>\n",
       "    </tr>\n",
       "    <tr>\n",
       "      <th>BTC_USDT</th>\n",
       "      <td>1436.941281</td>\n",
       "      <td>1433.455285</td>\n",
       "      <td>99.720988</td>\n",
       "      <td>99.50253</td>\n",
       "      <td>1124</td>\n",
       "      <td>738</td>\n",
       "      <td>155</td>\n",
       "      <td>448</td>\n",
       "      <td>2020-11-30 05:59:00+00:00</td>\n",
       "      <td>2020-11-30 05:59:00+00:00</td>\n",
       "      <td>13.782684</td>\n",
       "      <td>60.740383</td>\n",
       "      <td>2020-06-28 05:30:00+00:00</td>\n",
       "      <td>2019-09-08 19:01:00+00:00</td>\n",
       "      <td>2021-09-14 18:00:00+00:00</td>\n",
       "      <td>2021-09-16 01:35:00+00:00</td>\n",
       "      <td>2018-08-17 00:00:00+00:00</td>\n",
       "      <td>2019-09-08 17:57:00+00:00</td>\n",
       "      <td>1615122</td>\n",
       "      <td>1057890</td>\n",
       "      <td>CCXT</td>\n",
       "      <td>CDD</td>\n",
       "    </tr>\n",
       "    <tr>\n",
       "      <th>LINK_USDT</th>\n",
       "      <td>1437.440904</td>\n",
       "      <td>1433.031301</td>\n",
       "      <td>99.722642</td>\n",
       "      <td>99.395639</td>\n",
       "      <td>973</td>\n",
       "      <td>607</td>\n",
       "      <td>155</td>\n",
       "      <td>317</td>\n",
       "      <td>2020-11-30 05:59:00+00:00</td>\n",
       "      <td>2020-11-30 05:59:00+00:00</td>\n",
       "      <td>15.916351</td>\n",
       "      <td>52.31169</td>\n",
       "      <td>2020-06-28 05:30:00+00:00</td>\n",
       "      <td>2020-01-17 08:00:00+00:00</td>\n",
       "      <td>2021-09-16 09:19:00+00:00</td>\n",
       "      <td>2021-09-16 01:38:00+00:00</td>\n",
       "      <td>2019-01-16 10:00:00+00:00</td>\n",
       "      <td>2020-01-17 08:00:00+00:00</td>\n",
       "      <td>1398630</td>\n",
       "      <td>869850</td>\n",
       "      <td>CCXT</td>\n",
       "      <td>CDD</td>\n",
       "    </tr>\n",
       "    <tr>\n",
       "      <th>ADA_USDT</th>\n",
       "      <td>1436.483126</td>\n",
       "      <td>1432.863406</td>\n",
       "      <td>99.721332</td>\n",
       "      <td>99.381503</td>\n",
       "      <td>1126</td>\n",
       "      <td>593</td>\n",
       "      <td>155</td>\n",
       "      <td>303</td>\n",
       "      <td>2020-11-30 05:59:00+00:00</td>\n",
       "      <td>2020-11-30 05:59:00+00:00</td>\n",
       "      <td>13.762639</td>\n",
       "      <td>51.187285</td>\n",
       "      <td>2020-06-28 05:30:00+00:00</td>\n",
       "      <td>2020-01-31 08:01:00+00:00</td>\n",
       "      <td>2021-09-16 09:19:00+00:00</td>\n",
       "      <td>2021-09-16 01:36:00+00:00</td>\n",
       "      <td>2018-08-17 00:00:00+00:00</td>\n",
       "      <td>2020-01-31 08:01:00+00:00</td>\n",
       "      <td>1617480</td>\n",
       "      <td>849688</td>\n",
       "      <td>CCXT</td>\n",
       "      <td>CDD</td>\n",
       "    </tr>\n",
       "    <tr>\n",
       "      <th>ETH_USDT</th>\n",
       "      <td>1437.161032</td>\n",
       "      <td>1433.591185</td>\n",
       "      <td>99.720969</td>\n",
       "      <td>99.442542</td>\n",
       "      <td>1124</td>\n",
       "      <td>658</td>\n",
       "      <td>155</td>\n",
       "      <td>368</td>\n",
       "      <td>2020-11-30 05:59:00+00:00</td>\n",
       "      <td>2020-11-30 05:59:00+00:00</td>\n",
       "      <td>13.780574</td>\n",
       "      <td>56.004643</td>\n",
       "      <td>2020-06-28 05:30:00+00:00</td>\n",
       "      <td>2019-11-27 07:45:00+00:00</td>\n",
       "      <td>2021-09-14 22:08:00+00:00</td>\n",
       "      <td>2021-09-16 01:35:00+00:00</td>\n",
       "      <td>2018-08-17 00:00:00+00:00</td>\n",
       "      <td>2019-11-27 07:45:00+00:00</td>\n",
       "      <td>1615369</td>\n",
       "      <td>943303</td>\n",
       "      <td>CCXT</td>\n",
       "      <td>CDD</td>\n",
       "    </tr>\n",
       "  </tbody>\n",
       "</table>\n",
       "</div>"
      ],
      "text/plain": [
       "                          avg_data_points_per_day_ccxt avg_data_points_per_day_cdd coverage_ccxt coverage_cdd days_available_ccxt days_available_cdd longest_not_nan_seq_days_ccxt longest_not_nan_seq_days_cdd longest_not_nan_seq_end_date_ccxt longest_not_nan_seq_end_date_cdd longest_not_nan_seq_perc_ccxt longest_not_nan_seq_perc_cdd longest_not_nan_seq_start_date_ccxt longest_not_nan_seq_start_date_cdd        max_timestamp_ccxt         max_timestamp_cdd        min_timestamp_ccxt         min_timestamp_cdd n_data_points_ccxt n_data_points_cdd vendor_ccxt vendor_cdd\n",
       "exchange_id currency_pair                                                                                                                                                                                                                                                                                                                                                                                                                                                                                                                                                               \n",
       "binance     BNB_USDT                       1436.745115                 1432.737564     99.721382    99.370788                1126                583                           155                          293         2020-11-30 05:59:00+00:00        2020-11-30 05:59:00+00:00                     13.760136                    50.351129           2020-06-28 05:30:00+00:00          2020-02-10 08:01:00+00:00 2021-09-16 14:14:00+00:00 2021-09-16 01:35:00+00:00 2018-08-17 00:00:00+00:00 2020-02-10 08:01:00+00:00            1617775            835286        CCXT        CDD\n",
       "            EOS_USDT                       1436.877442                 1433.128247     99.721408    99.404456                1126                616                           155                          326         2020-11-30 05:59:00+00:00        2020-11-30 05:59:00+00:00                     13.758872                    53.007783           2020-06-28 05:30:00+00:00          2020-01-08 08:00:00+00:00 2021-09-16 16:43:00+00:00 2021-09-16 01:35:00+00:00 2018-08-17 00:00:00+00:00 2020-01-08 08:00:00+00:00            1617924            882807        CCXT        CDD\n",
       "            SOL_USDT                           1437.29                 1449.235955     99.787552    99.791106                 400                 89                           110                           67         2020-11-30 05:59:00+00:00        2021-08-13 01:59:00+00:00                     27.743257                    75.529199           2020-08-11 06:00:00+00:00          2021-06-06 06:57:00+00:00 2021-09-15 08:19:00+00:00 2021-09-04 01:08:00+00:00 2020-08-11 06:00:00+00:00 2021-06-06 06:57:00+00:00             574916            128982        CCXT        CDD\n",
       "            BTC_USDT                       1436.941281                 1433.455285     99.720988     99.50253                1124                738                           155                          448         2020-11-30 05:59:00+00:00        2020-11-30 05:59:00+00:00                     13.782684                    60.740383           2020-06-28 05:30:00+00:00          2019-09-08 19:01:00+00:00 2021-09-14 18:00:00+00:00 2021-09-16 01:35:00+00:00 2018-08-17 00:00:00+00:00 2019-09-08 17:57:00+00:00            1615122           1057890        CCXT        CDD\n",
       "            LINK_USDT                      1437.440904                 1433.031301     99.722642    99.395639                 973                607                           155                          317         2020-11-30 05:59:00+00:00        2020-11-30 05:59:00+00:00                     15.916351                     52.31169           2020-06-28 05:30:00+00:00          2020-01-17 08:00:00+00:00 2021-09-16 09:19:00+00:00 2021-09-16 01:38:00+00:00 2019-01-16 10:00:00+00:00 2020-01-17 08:00:00+00:00            1398630            869850        CCXT        CDD\n",
       "            ADA_USDT                       1436.483126                 1432.863406     99.721332    99.381503                1126                593                           155                          303         2020-11-30 05:59:00+00:00        2020-11-30 05:59:00+00:00                     13.762639                    51.187285           2020-06-28 05:30:00+00:00          2020-01-31 08:01:00+00:00 2021-09-16 09:19:00+00:00 2021-09-16 01:36:00+00:00 2018-08-17 00:00:00+00:00 2020-01-31 08:01:00+00:00            1617480            849688        CCXT        CDD\n",
       "            ETH_USDT                       1437.161032                 1433.591185     99.720969    99.442542                1124                658                           155                          368         2020-11-30 05:59:00+00:00        2020-11-30 05:59:00+00:00                     13.780574                    56.004643           2020-06-28 05:30:00+00:00          2019-11-27 07:45:00+00:00 2021-09-14 22:08:00+00:00 2021-09-16 01:35:00+00:00 2018-08-17 00:00:00+00:00 2019-11-27 07:45:00+00:00            1615369            943303        CCXT        CDD"
      ]
     },
     "metadata": {},
     "output_type": "display_data"
    }
   ],
   "source": [
    "union_cdd_ccxt_stats = unify_start_end_tables(\n",
    "    cdd_start_end_table, ccxt_start_end_table\n",
    ")\n",
    "display(union_cdd_ccxt_stats)"
   ]
  },
  {
   "cell_type": "markdown",
   "id": "5ec25d15",
   "metadata": {},
   "source": [
    "## Comparison of full symbols that are included in CDD but not available in CCXT"
   ]
  },
  {
   "cell_type": "code",
   "execution_count": 147,
   "id": "ce8fec83",
   "metadata": {
    "ExecuteTime": {
     "end_time": "2021-12-23T18:49:53.333575Z",
     "start_time": "2021-12-23T18:49:53.328361Z"
    },
    "scrolled": true
   },
   "outputs": [
    {
     "data": {
      "text/plain": [
       "29"
      ]
     },
     "execution_count": 147,
     "metadata": {},
     "output_type": "execute_result"
    }
   ],
   "source": [
    "# Set of full symbols that are included in CDD but not available in CCXT (cleaned from unavailable full symbols).\n",
    "cdd_and_not_ccxt_cleaned = set(cdd_universe).difference(ccxt_universe)\n",
    "len(cdd_and_not_ccxt_cleaned)"
   ]
  },
  {
   "cell_type": "code",
   "execution_count": 150,
   "id": "a8353ecf",
   "metadata": {
    "ExecuteTime": {
     "end_time": "2021-12-23T19:00:30.584328Z",
     "start_time": "2021-12-23T19:00:30.581487Z"
    }
   },
   "outputs": [],
   "source": [
    "# for 'avg_data_points_per_day' the amount of \"days_available\" is equal to 0, so it crashes the calculations.\n",
    "cdd_and_not_ccxt_cleaned.remove(\"binance::DAI_USDT\")"
   ]
  },
  {
   "cell_type": "code",
   "execution_count": 154,
   "id": "51fd702d",
   "metadata": {
    "ExecuteTime": {
     "end_time": "2021-12-23T19:17:46.786094Z",
     "start_time": "2021-12-23T19:11:48.639213Z"
    },
    "scrolled": true
   },
   "outputs": [
    {
     "name": "stdout",
     "output_type": "stream",
     "text": [
      "Reading CDD data for exchange id='binance', currencies='NEO_USDT', from file='s3://alphamatic-data/data/cryptodatadownload/20210924/binance/NEO_USDT.csv.gz'...\n",
      "Processing CDD data for exchange id='binance', currencies='NEO_USDT'...\n",
      "Index length increased by 5289 = 830452 - 825163\n",
      "Reading CDD data for exchange id='binance', currencies='LRC_USDT', from file='s3://alphamatic-data/data/cryptodatadownload/20210924/binance/LRC_USDT.csv.gz'...\n",
      "Processing CDD data for exchange id='binance', currencies='LRC_USDT'...\n",
      "Index length increased by 270 = 444576 - 444306\n",
      "Reading CDD data for exchange id='binance', currencies='USDC_USDT', from file='s3://alphamatic-data/data/cryptodatadownload/20210924/binance/USDC_USDT.csv.gz'...\n",
      "Processing CDD data for exchange id='binance', currencies='USDC_USDT'...\n",
      "Index length increased by 5288 = 531656 - 526368\n",
      "Reading CDD data for exchange id='binance', currencies='VET_USDT', from file='s3://alphamatic-data/data/cryptodatadownload/20210924/binance/VET_USDT.csv.gz'...\n",
      "Processing CDD data for exchange id='binance', currencies='VET_USDT'...\n",
      "Index length increased by 270 = 129252 - 128982\n",
      "Reading CDD data for exchange id='binance', currencies='FIL_USDT', from file='s3://alphamatic-data/data/cryptodatadownload/20210924/binance/FIL_USDT.csv.gz'...\n",
      "Processing CDD data for exchange id='binance', currencies='FIL_USDT'...\n",
      "Index length increased by 270 = 129252 - 128982\n",
      "Reading CDD data for exchange id='binance', currencies='CELR_USDT', from file='s3://alphamatic-data/data/cryptodatadownload/20210924/binance/CELR_USDT.csv.gz'...\n",
      "Processing CDD data for exchange id='binance', currencies='CELR_USDT'...\n",
      "Index length increased by 5288 = 531656 - 526368\n",
      "Reading CDD data for exchange id='binance', currencies='DASH_USDT', from file='s3://alphamatic-data/data/cryptodatadownload/20210924/binance/DASH_USDT.csv.gz'...\n",
      "Processing CDD data for exchange id='binance', currencies='DASH_USDT'...\n",
      "Index length increased by 5289 = 849211 - 843922\n",
      "Reading CDD data for exchange id='binance', currencies='ONE_USDT', from file='s3://alphamatic-data/data/cryptodatadownload/20210924/binance/ONE_USDT.csv.gz'...\n",
      "Processing CDD data for exchange id='binance', currencies='ONE_USDT'...\n",
      "Index length increased by 5288 = 531656 - 526368\n",
      "Reading CDD data for exchange id='binance', currencies='MATIC_USDT', from file='s3://alphamatic-data/data/cryptodatadownload/20210924/binance/MATIC_USDT.csv.gz'...\n",
      "Processing CDD data for exchange id='binance', currencies='MATIC_USDT'...\n",
      "Index length increased by 5288 = 531656 - 526368\n",
      "Reading CDD data for exchange id='binance', currencies='QTUM_USDT', from file='s3://alphamatic-data/data/cryptodatadownload/20210924/binance/QTUM_USDT.csv.gz'...\n",
      "Processing CDD data for exchange id='binance', currencies='QTUM_USDT'...\n",
      "Index length increased by 5289 = 826171 - 820882\n",
      "Reading CDD data for exchange id='binance', currencies='ETC_USDT', from file='s3://alphamatic-data/data/cryptodatadownload/20210924/binance/ETC_USDT.csv.gz'...\n",
      "Processing CDD data for exchange id='binance', currencies='ETC_USDT'...\n",
      "Index length increased by 5289 = 876576 - 871287\n",
      "Reading CDD data for exchange id='binance', currencies='BTT_USDT', from file='s3://alphamatic-data/data/cryptodatadownload/20210924/binance/BTT_USDT.csv.gz'...\n",
      "Processing CDD data for exchange id='binance', currencies='BTT_USDT'...\n",
      "Index length increased by 5288 = 531656 - 526368\n",
      "Reading CDD data for exchange id='binance', currencies='AAVE_USDT', from file='s3://alphamatic-data/data/cryptodatadownload/20210924/binance/AAVE_USDT.csv.gz'...\n",
      "Processing CDD data for exchange id='binance', currencies='AAVE_USDT'...\n",
      "Index length increased by 270 = 129252 - 128982\n",
      "Reading CDD data for exchange id='binance', currencies='MKR_USDT', from file='s3://alphamatic-data/data/cryptodatadownload/20210924/binance/MKR_USDT.csv.gz'...\n",
      "Processing CDD data for exchange id='binance', currencies='MKR_USDT'...\n",
      "Index length increased by 270 = 120584 - 120314\n",
      "Reading CDD data for exchange id='binance', currencies='TRX_USDT', from file='s3://alphamatic-data/data/cryptodatadownload/20210924/binance/TRX_USDT.csv.gz'...\n",
      "Processing CDD data for exchange id='binance', currencies='TRX_USDT'...\n",
      "Index length increased by 5289 = 878012 - 872723\n",
      "Reading CDD data for exchange id='binance', currencies='UNI_USDT', from file='s3://alphamatic-data/data/cryptodatadownload/20210924/binance/UNI_USDT.csv.gz'...\n",
      "Processing CDD data for exchange id='binance', currencies='UNI_USDT'...\n",
      "Index length increased by 270 = 133572 - 133302\n",
      "Reading CDD data for exchange id='binance', currencies='ICX_USDT', from file='s3://alphamatic-data/data/cryptodatadownload/20210924/binance/ICX_USDT.csv.gz'...\n",
      "Processing CDD data for exchange id='binance', currencies='ICX_USDT'...\n",
      "Index length increased by 270 = 113356 - 113086\n",
      "Reading CDD data for exchange id='binance', currencies='BAT_USDT', from file='s3://alphamatic-data/data/cryptodatadownload/20210924/binance/BAT_USDT.csv.gz'...\n",
      "Processing CDD data for exchange id='binance', currencies='BAT_USDT'...\n",
      "Index length increased by 5289 = 836252 - 830963\n",
      "Reading CDD data for exchange id='binance', currencies='DOT_USDT', from file='s3://alphamatic-data/data/cryptodatadownload/20210924/binance/DOT_USDT.csv.gz'...\n",
      "Processing CDD data for exchange id='binance', currencies='DOT_USDT'...\n",
      "Index length increased by 270 = 133572 - 133302\n",
      "Reading CDD data for exchange id='binance', currencies='CVC_USDT', from file='s3://alphamatic-data/data/cryptodatadownload/20210924/binance/CVC_USDT.csv.gz'...\n",
      "Processing CDD data for exchange id='binance', currencies='CVC_USDT'...\n",
      "Index length increased by 270 = 411460 - 411190\n",
      "Reading CDD data for exchange id='binance', currencies='LTC_USDT', from file='s3://alphamatic-data/data/cryptodatadownload/20210924/binance/LTC_USDT.csv.gz'...\n",
      "Processing CDD data for exchange id='binance', currencies='LTC_USDT'...\n",
      "Index length increased by 5288 = 886647 - 881359\n",
      "Reading CDD data for exchange id='binance', currencies='TUSD_USDT', from file='s3://alphamatic-data/data/cryptodatadownload/20210924/binance/TUSD_USDT.csv.gz'...\n",
      "Processing CDD data for exchange id='binance', currencies='TUSD_USDT'...\n",
      "Index length increased by 5288 = 531656 - 526368\n",
      "Reading CDD data for exchange id='binance', currencies='PAX_USDT', from file='s3://alphamatic-data/data/cryptodatadownload/20210924/binance/PAX_USDT.csv.gz'...\n",
      "Processing CDD data for exchange id='binance', currencies='PAX_USDT'...\n",
      "Index length increased by 5288 = 517399 - 512111\n",
      "Reading CDD data for exchange id='binance', currencies='XMR_USDT', from file='s3://alphamatic-data/data/cryptodatadownload/20210924/binance/XMR_USDT.csv.gz'...\n",
      "Processing CDD data for exchange id='binance', currencies='XMR_USDT'...\n",
      "Index length increased by 5288 = 850654 - 845366\n",
      "Reading CDD data for exchange id='binance', currencies='ICP_USDT', from file='s3://alphamatic-data/data/cryptodatadownload/20210924/binance/ICP_USDT.csv.gz'...\n",
      "Processing CDD data for exchange id='binance', currencies='ICP_USDT'...\n",
      "Index length increased by 270 = 133572 - 133302\n",
      "Reading CDD data for exchange id='binance', currencies='XLM_USDT', from file='s3://alphamatic-data/data/cryptodatadownload/20210924/binance/XLM_USDT.csv.gz'...\n",
      "Processing CDD data for exchange id='binance', currencies='XLM_USDT'...\n",
      "Index length increased by 5288 = 870814 - 865526\n",
      "Reading CDD data for exchange id='binance', currencies='ZEC_USDT', from file='s3://alphamatic-data/data/cryptodatadownload/20210924/binance/ZEC_USDT.csv.gz'...\n",
      "Processing CDD data for exchange id='binance', currencies='ZEC_USDT'...\n",
      "Index length increased by 5289 = 847776 - 842487\n",
      "Reading CDD data for exchange id='binance', currencies='XRP_USDT', from file='s3://alphamatic-data/data/cryptodatadownload/20210924/binance/XRP_USDT.csv.gz'...\n",
      "Processing CDD data for exchange id='binance', currencies='XRP_USDT'...\n",
      "Index length increased by 5288 = 890955 - 885667\n"
     ]
    }
   ],
   "source": [
    "compute_start_end_stats = lambda data: ramccsta.compute_start_end_stats(\n",
    "    data, config_cdd\n",
    ")\n",
    "\n",
    "cdd_unique_start_end_table = ramccsta.compute_stats_for_universe(\n",
    "    cdd_and_not_ccxt_cleaned, config_cdd, compute_start_end_stats\n",
    ")"
   ]
  },
  {
   "cell_type": "code",
   "execution_count": 156,
   "id": "4a159676",
   "metadata": {
    "ExecuteTime": {
     "end_time": "2021-12-23T19:46:12.648520Z",
     "start_time": "2021-12-23T19:46:12.622805Z"
    }
   },
   "outputs": [
    {
     "data": {
      "text/html": [
       "<div>\n",
       "<style scoped>\n",
       "    .dataframe tbody tr th:only-of-type {\n",
       "        vertical-align: middle;\n",
       "    }\n",
       "\n",
       "    .dataframe tbody tr th {\n",
       "        vertical-align: top;\n",
       "    }\n",
       "\n",
       "    .dataframe thead th {\n",
       "        text-align: right;\n",
       "    }\n",
       "</style>\n",
       "<table border=\"1\" class=\"dataframe\">\n",
       "  <thead>\n",
       "    <tr style=\"text-align: right;\">\n",
       "      <th></th>\n",
       "      <th>exchange_id</th>\n",
       "      <th>currency_pair</th>\n",
       "      <th>min_timestamp</th>\n",
       "      <th>max_timestamp</th>\n",
       "      <th>n_data_points</th>\n",
       "      <th>coverage</th>\n",
       "      <th>days_available</th>\n",
       "      <th>avg_data_points_per_day</th>\n",
       "      <th>longest_not_nan_seq_days</th>\n",
       "      <th>longest_not_nan_seq_perc</th>\n",
       "      <th>longest_not_nan_seq_start_date</th>\n",
       "      <th>longest_not_nan_seq_end_date</th>\n",
       "      <th>vendor</th>\n",
       "    </tr>\n",
       "  </thead>\n",
       "  <tbody>\n",
       "    <tr>\n",
       "      <th>0</th>\n",
       "      <td>binance</td>\n",
       "      <td>NEO/USDT</td>\n",
       "      <td>2020-02-17 08:45:00+00:00</td>\n",
       "      <td>2021-09-16 01:36:00+00:00</td>\n",
       "      <td>825163</td>\n",
       "      <td>99.363118</td>\n",
       "      <td>576</td>\n",
       "      <td>1432.574653</td>\n",
       "      <td>286</td>\n",
       "      <td>49.745801</td>\n",
       "      <td>2020-02-17 08:45:00+00:00</td>\n",
       "      <td>2020-11-30 05:59:00+00:00</td>\n",
       "      <td>CDD</td>\n",
       "    </tr>\n",
       "    <tr>\n",
       "      <th>1</th>\n",
       "      <td>binance</td>\n",
       "      <td>LRC/USDT</td>\n",
       "      <td>2020-10-19 07:05:00+00:00</td>\n",
       "      <td>2021-08-24 00:40:00+00:00</td>\n",
       "      <td>444306</td>\n",
       "      <td>99.939268</td>\n",
       "      <td>308</td>\n",
       "      <td>1442.551948</td>\n",
       "      <td>297</td>\n",
       "      <td>96.454824</td>\n",
       "      <td>2020-10-19 07:05:00+00:00</td>\n",
       "      <td>2021-08-13 01:59:00+00:00</td>\n",
       "      <td>CDD</td>\n",
       "    </tr>\n",
       "    <tr>\n",
       "      <th>2</th>\n",
       "      <td>binance</td>\n",
       "      <td>USDC/USDT</td>\n",
       "      <td>2020-09-11 20:41:00+00:00</td>\n",
       "      <td>2021-09-16 01:36:00+00:00</td>\n",
       "      <td>526368</td>\n",
       "      <td>99.005372</td>\n",
       "      <td>369</td>\n",
       "      <td>1426.471545</td>\n",
       "      <td>79</td>\n",
       "      <td>21.502438</td>\n",
       "      <td>2020-09-11 20:41:00+00:00</td>\n",
       "      <td>2020-11-30 05:59:00+00:00</td>\n",
       "      <td>CDD</td>\n",
       "    </tr>\n",
       "    <tr>\n",
       "      <th>3</th>\n",
       "      <td>binance</td>\n",
       "      <td>VET/USDT</td>\n",
       "      <td>2021-06-06 06:57:00+00:00</td>\n",
       "      <td>2021-09-04 01:08:00+00:00</td>\n",
       "      <td>128982</td>\n",
       "      <td>99.791106</td>\n",
       "      <td>89</td>\n",
       "      <td>1449.235955</td>\n",
       "      <td>67</td>\n",
       "      <td>75.529199</td>\n",
       "      <td>2021-06-06 06:57:00+00:00</td>\n",
       "      <td>2021-08-13 01:59:00+00:00</td>\n",
       "      <td>CDD</td>\n",
       "    </tr>\n",
       "    <tr>\n",
       "      <th>4</th>\n",
       "      <td>binance</td>\n",
       "      <td>FIL/USDT</td>\n",
       "      <td>2021-06-06 06:57:00+00:00</td>\n",
       "      <td>2021-09-04 01:08:00+00:00</td>\n",
       "      <td>128982</td>\n",
       "      <td>99.791106</td>\n",
       "      <td>89</td>\n",
       "      <td>1449.235955</td>\n",
       "      <td>67</td>\n",
       "      <td>75.529199</td>\n",
       "      <td>2021-06-06 06:57:00+00:00</td>\n",
       "      <td>2021-08-13 01:59:00+00:00</td>\n",
       "      <td>CDD</td>\n",
       "    </tr>\n",
       "    <tr>\n",
       "      <th>5</th>\n",
       "      <td>binance</td>\n",
       "      <td>CELR/USDT</td>\n",
       "      <td>2020-09-11 20:41:00+00:00</td>\n",
       "      <td>2021-09-16 01:36:00+00:00</td>\n",
       "      <td>526368</td>\n",
       "      <td>99.005372</td>\n",
       "      <td>369</td>\n",
       "      <td>1426.471545</td>\n",
       "      <td>79</td>\n",
       "      <td>21.502438</td>\n",
       "      <td>2020-09-11 20:41:00+00:00</td>\n",
       "      <td>2020-11-30 05:59:00+00:00</td>\n",
       "      <td>CDD</td>\n",
       "    </tr>\n",
       "    <tr>\n",
       "      <th>6</th>\n",
       "      <td>binance</td>\n",
       "      <td>DASH/USDT</td>\n",
       "      <td>2020-02-04 08:06:00+00:00</td>\n",
       "      <td>2021-09-16 01:36:00+00:00</td>\n",
       "      <td>843922</td>\n",
       "      <td>99.377187</td>\n",
       "      <td>589</td>\n",
       "      <td>1432.804754</td>\n",
       "      <td>299</td>\n",
       "      <td>50.855912</td>\n",
       "      <td>2020-02-04 08:06:00+00:00</td>\n",
       "      <td>2020-11-30 05:59:00+00:00</td>\n",
       "      <td>CDD</td>\n",
       "    </tr>\n",
       "    <tr>\n",
       "      <th>7</th>\n",
       "      <td>binance</td>\n",
       "      <td>ONE/USDT</td>\n",
       "      <td>2020-09-11 20:41:00+00:00</td>\n",
       "      <td>2021-09-16 01:36:00+00:00</td>\n",
       "      <td>526368</td>\n",
       "      <td>99.005372</td>\n",
       "      <td>369</td>\n",
       "      <td>1426.471545</td>\n",
       "      <td>79</td>\n",
       "      <td>21.502438</td>\n",
       "      <td>2020-09-11 20:41:00+00:00</td>\n",
       "      <td>2020-11-30 05:59:00+00:00</td>\n",
       "      <td>CDD</td>\n",
       "    </tr>\n",
       "    <tr>\n",
       "      <th>8</th>\n",
       "      <td>binance</td>\n",
       "      <td>MATIC/USDT</td>\n",
       "      <td>2020-09-11 20:41:00+00:00</td>\n",
       "      <td>2021-09-16 01:36:00+00:00</td>\n",
       "      <td>526368</td>\n",
       "      <td>99.005372</td>\n",
       "      <td>369</td>\n",
       "      <td>1426.471545</td>\n",
       "      <td>79</td>\n",
       "      <td>21.502438</td>\n",
       "      <td>2020-09-11 20:41:00+00:00</td>\n",
       "      <td>2020-11-30 05:59:00+00:00</td>\n",
       "      <td>CDD</td>\n",
       "    </tr>\n",
       "    <tr>\n",
       "      <th>9</th>\n",
       "      <td>binance</td>\n",
       "      <td>QTUM/USDT</td>\n",
       "      <td>2020-02-20 08:06:00+00:00</td>\n",
       "      <td>2021-09-16 01:36:00+00:00</td>\n",
       "      <td>820882</td>\n",
       "      <td>99.359818</td>\n",
       "      <td>573</td>\n",
       "      <td>1432.603839</td>\n",
       "      <td>283</td>\n",
       "      <td>49.485397</td>\n",
       "      <td>2020-02-20 08:06:00+00:00</td>\n",
       "      <td>2020-11-30 05:59:00+00:00</td>\n",
       "      <td>CDD</td>\n",
       "    </tr>\n",
       "    <tr>\n",
       "      <th>10</th>\n",
       "      <td>binance</td>\n",
       "      <td>ETC/USDT</td>\n",
       "      <td>2020-01-16 08:01:00+00:00</td>\n",
       "      <td>2021-09-16 01:36:00+00:00</td>\n",
       "      <td>871287</td>\n",
       "      <td>99.39663</td>\n",
       "      <td>608</td>\n",
       "      <td>1433.037829</td>\n",
       "      <td>318</td>\n",
       "      <td>52.390095</td>\n",
       "      <td>2020-01-16 08:01:00+00:00</td>\n",
       "      <td>2020-11-30 05:59:00+00:00</td>\n",
       "      <td>CDD</td>\n",
       "    </tr>\n",
       "    <tr>\n",
       "      <th>11</th>\n",
       "      <td>binance</td>\n",
       "      <td>BTT/USDT</td>\n",
       "      <td>2020-09-11 20:41:00+00:00</td>\n",
       "      <td>2021-09-16 01:36:00+00:00</td>\n",
       "      <td>526368</td>\n",
       "      <td>99.005372</td>\n",
       "      <td>369</td>\n",
       "      <td>1426.471545</td>\n",
       "      <td>79</td>\n",
       "      <td>21.502438</td>\n",
       "      <td>2020-09-11 20:41:00+00:00</td>\n",
       "      <td>2020-11-30 05:59:00+00:00</td>\n",
       "      <td>CDD</td>\n",
       "    </tr>\n",
       "    <tr>\n",
       "      <th>12</th>\n",
       "      <td>binance</td>\n",
       "      <td>AAVE/USDT</td>\n",
       "      <td>2021-06-06 06:57:00+00:00</td>\n",
       "      <td>2021-09-04 01:08:00+00:00</td>\n",
       "      <td>128982</td>\n",
       "      <td>99.791106</td>\n",
       "      <td>89</td>\n",
       "      <td>1449.235955</td>\n",
       "      <td>67</td>\n",
       "      <td>75.529199</td>\n",
       "      <td>2021-06-06 06:57:00+00:00</td>\n",
       "      <td>2021-08-13 01:59:00+00:00</td>\n",
       "      <td>CDD</td>\n",
       "    </tr>\n",
       "    <tr>\n",
       "      <th>13</th>\n",
       "      <td>binance</td>\n",
       "      <td>MKR/USDT</td>\n",
       "      <td>2021-06-06 06:57:00+00:00</td>\n",
       "      <td>2021-08-29 00:40:00+00:00</td>\n",
       "      <td>120314</td>\n",
       "      <td>99.77609</td>\n",
       "      <td>83</td>\n",
       "      <td>1449.566265</td>\n",
       "      <td>67</td>\n",
       "      <td>80.958502</td>\n",
       "      <td>2021-06-06 06:57:00+00:00</td>\n",
       "      <td>2021-08-13 01:59:00+00:00</td>\n",
       "      <td>CDD</td>\n",
       "    </tr>\n",
       "    <tr>\n",
       "      <th>14</th>\n",
       "      <td>binance</td>\n",
       "      <td>TRX/USDT</td>\n",
       "      <td>2020-01-15 08:05:00+00:00</td>\n",
       "      <td>2021-09-16 01:36:00+00:00</td>\n",
       "      <td>872723</td>\n",
       "      <td>99.397616</td>\n",
       "      <td>609</td>\n",
       "      <td>1433.042693</td>\n",
       "      <td>319</td>\n",
       "      <td>52.467962</td>\n",
       "      <td>2020-01-15 08:05:00+00:00</td>\n",
       "      <td>2020-11-30 05:59:00+00:00</td>\n",
       "      <td>CDD</td>\n",
       "    </tr>\n",
       "    <tr>\n",
       "      <th>15</th>\n",
       "      <td>binance</td>\n",
       "      <td>UNI/USDT</td>\n",
       "      <td>2021-06-06 06:57:00+00:00</td>\n",
       "      <td>2021-09-07 01:08:00+00:00</td>\n",
       "      <td>133302</td>\n",
       "      <td>99.797862</td>\n",
       "      <td>92</td>\n",
       "      <td>1448.934783</td>\n",
       "      <td>67</td>\n",
       "      <td>73.086425</td>\n",
       "      <td>2021-06-06 06:57:00+00:00</td>\n",
       "      <td>2021-08-13 01:59:00+00:00</td>\n",
       "      <td>CDD</td>\n",
       "    </tr>\n",
       "    <tr>\n",
       "      <th>16</th>\n",
       "      <td>binance</td>\n",
       "      <td>ICX/USDT</td>\n",
       "      <td>2021-06-06 07:24:00+00:00</td>\n",
       "      <td>2021-08-24 00:39:00+00:00</td>\n",
       "      <td>113086</td>\n",
       "      <td>99.761812</td>\n",
       "      <td>78</td>\n",
       "      <td>1449.820513</td>\n",
       "      <td>67</td>\n",
       "      <td>86.096898</td>\n",
       "      <td>2021-06-06 07:24:00+00:00</td>\n",
       "      <td>2021-08-13 01:59:00+00:00</td>\n",
       "      <td>CDD</td>\n",
       "    </tr>\n",
       "    <tr>\n",
       "      <th>17</th>\n",
       "      <td>binance</td>\n",
       "      <td>BAT/USDT</td>\n",
       "      <td>2020-02-13 08:05:00+00:00</td>\n",
       "      <td>2021-09-16 01:36:00+00:00</td>\n",
       "      <td>830963</td>\n",
       "      <td>99.367535</td>\n",
       "      <td>580</td>\n",
       "      <td>1432.694828</td>\n",
       "      <td>290</td>\n",
       "      <td>50.09435</td>\n",
       "      <td>2020-02-13 08:05:00+00:00</td>\n",
       "      <td>2020-11-30 05:59:00+00:00</td>\n",
       "      <td>CDD</td>\n",
       "    </tr>\n",
       "    <tr>\n",
       "      <th>18</th>\n",
       "      <td>binance</td>\n",
       "      <td>DOT/USDT</td>\n",
       "      <td>2021-06-06 06:57:00+00:00</td>\n",
       "      <td>2021-09-07 01:08:00+00:00</td>\n",
       "      <td>133302</td>\n",
       "      <td>99.797862</td>\n",
       "      <td>92</td>\n",
       "      <td>1448.934783</td>\n",
       "      <td>67</td>\n",
       "      <td>73.086425</td>\n",
       "      <td>2021-06-06 06:57:00+00:00</td>\n",
       "      <td>2021-08-13 01:59:00+00:00</td>\n",
       "      <td>CDD</td>\n",
       "    </tr>\n",
       "    <tr>\n",
       "      <th>19</th>\n",
       "      <td>binance</td>\n",
       "      <td>CVC/USDT</td>\n",
       "      <td>2020-11-11 07:00:00+00:00</td>\n",
       "      <td>2021-08-24 00:39:00+00:00</td>\n",
       "      <td>411190</td>\n",
       "      <td>99.93438</td>\n",
       "      <td>285</td>\n",
       "      <td>1442.77193</td>\n",
       "      <td>274</td>\n",
       "      <td>96.169737</td>\n",
       "      <td>2020-11-11 07:00:00+00:00</td>\n",
       "      <td>2021-08-13 01:59:00+00:00</td>\n",
       "      <td>CDD</td>\n",
       "    </tr>\n",
       "    <tr>\n",
       "      <th>20</th>\n",
       "      <td>binance</td>\n",
       "      <td>LTC/USDT</td>\n",
       "      <td>2020-01-09 08:09:00+00:00</td>\n",
       "      <td>2021-09-16 01:35:00+00:00</td>\n",
       "      <td>881359</td>\n",
       "      <td>99.403596</td>\n",
       "      <td>615</td>\n",
       "      <td>1433.104065</td>\n",
       "      <td>325</td>\n",
       "      <td>52.930986</td>\n",
       "      <td>2020-01-09 08:09:00+00:00</td>\n",
       "      <td>2020-11-30 05:59:00+00:00</td>\n",
       "      <td>CDD</td>\n",
       "    </tr>\n",
       "    <tr>\n",
       "      <th>21</th>\n",
       "      <td>binance</td>\n",
       "      <td>TUSD/USDT</td>\n",
       "      <td>2020-09-11 20:41:00+00:00</td>\n",
       "      <td>2021-09-16 01:36:00+00:00</td>\n",
       "      <td>526368</td>\n",
       "      <td>99.005372</td>\n",
       "      <td>369</td>\n",
       "      <td>1426.471545</td>\n",
       "      <td>79</td>\n",
       "      <td>21.502438</td>\n",
       "      <td>2020-09-11 20:41:00+00:00</td>\n",
       "      <td>2020-11-30 05:59:00+00:00</td>\n",
       "      <td>CDD</td>\n",
       "    </tr>\n",
       "    <tr>\n",
       "      <th>22</th>\n",
       "      <td>binance</td>\n",
       "      <td>PAX/USDT</td>\n",
       "      <td>2020-09-11 20:41:00+00:00</td>\n",
       "      <td>2021-09-06 03:59:00+00:00</td>\n",
       "      <td>512111</td>\n",
       "      <td>98.977965</td>\n",
       "      <td>359</td>\n",
       "      <td>1426.493036</td>\n",
       "      <td>79</td>\n",
       "      <td>22.09494</td>\n",
       "      <td>2020-09-11 20:41:00+00:00</td>\n",
       "      <td>2020-11-30 05:59:00+00:00</td>\n",
       "      <td>CDD</td>\n",
       "    </tr>\n",
       "    <tr>\n",
       "      <th>23</th>\n",
       "      <td>binance</td>\n",
       "      <td>XMR/USDT</td>\n",
       "      <td>2020-02-03 08:03:00+00:00</td>\n",
       "      <td>2021-09-16 01:36:00+00:00</td>\n",
       "      <td>845366</td>\n",
       "      <td>99.378361</td>\n",
       "      <td>590</td>\n",
       "      <td>1432.823729</td>\n",
       "      <td>300</td>\n",
       "      <td>50.939277</td>\n",
       "      <td>2020-02-03 08:03:00+00:00</td>\n",
       "      <td>2020-11-30 05:59:00+00:00</td>\n",
       "      <td>CDD</td>\n",
       "    </tr>\n",
       "    <tr>\n",
       "      <th>24</th>\n",
       "      <td>binance</td>\n",
       "      <td>ICP/USDT</td>\n",
       "      <td>2021-06-06 06:57:00+00:00</td>\n",
       "      <td>2021-09-07 01:08:00+00:00</td>\n",
       "      <td>133302</td>\n",
       "      <td>99.797862</td>\n",
       "      <td>92</td>\n",
       "      <td>1448.934783</td>\n",
       "      <td>67</td>\n",
       "      <td>73.086425</td>\n",
       "      <td>2021-06-06 06:57:00+00:00</td>\n",
       "      <td>2021-08-13 01:59:00+00:00</td>\n",
       "      <td>CDD</td>\n",
       "    </tr>\n",
       "    <tr>\n",
       "      <th>25</th>\n",
       "      <td>binance</td>\n",
       "      <td>XLM/USDT</td>\n",
       "      <td>2020-01-20 08:03:00+00:00</td>\n",
       "      <td>2021-09-16 01:36:00+00:00</td>\n",
       "      <td>865526</td>\n",
       "      <td>99.392752</td>\n",
       "      <td>604</td>\n",
       "      <td>1432.990066</td>\n",
       "      <td>314</td>\n",
       "      <td>52.07507</td>\n",
       "      <td>2020-01-20 08:03:00+00:00</td>\n",
       "      <td>2020-11-30 05:59:00+00:00</td>\n",
       "      <td>CDD</td>\n",
       "    </tr>\n",
       "    <tr>\n",
       "      <th>26</th>\n",
       "      <td>binance</td>\n",
       "      <td>ZEC/USDT</td>\n",
       "      <td>2020-02-05 08:01:00+00:00</td>\n",
       "      <td>2021-09-16 01:36:00+00:00</td>\n",
       "      <td>842487</td>\n",
       "      <td>99.376132</td>\n",
       "      <td>588</td>\n",
       "      <td>1432.80102</td>\n",
       "      <td>298</td>\n",
       "      <td>50.772728</td>\n",
       "      <td>2020-02-05 08:01:00+00:00</td>\n",
       "      <td>2020-11-30 05:59:00+00:00</td>\n",
       "      <td>CDD</td>\n",
       "    </tr>\n",
       "    <tr>\n",
       "      <th>27</th>\n",
       "      <td>binance</td>\n",
       "      <td>XRP/USDT</td>\n",
       "      <td>2020-01-06 08:21:00+00:00</td>\n",
       "      <td>2021-09-16 01:35:00+00:00</td>\n",
       "      <td>885667</td>\n",
       "      <td>99.40648</td>\n",
       "      <td>618</td>\n",
       "      <td>1433.118123</td>\n",
       "      <td>328</td>\n",
       "      <td>53.158577</td>\n",
       "      <td>2020-01-06 08:21:00+00:00</td>\n",
       "      <td>2020-11-30 05:59:00+00:00</td>\n",
       "      <td>CDD</td>\n",
       "    </tr>\n",
       "  </tbody>\n",
       "</table>\n",
       "</div>"
      ],
      "text/plain": [
       "   exchange_id currency_pair             min_timestamp             max_timestamp n_data_points   coverage days_available avg_data_points_per_day longest_not_nan_seq_days longest_not_nan_seq_perc longest_not_nan_seq_start_date longest_not_nan_seq_end_date vendor\n",
       "0      binance      NEO/USDT 2020-02-17 08:45:00+00:00 2021-09-16 01:36:00+00:00        825163  99.363118            576             1432.574653                      286                49.745801      2020-02-17 08:45:00+00:00    2020-11-30 05:59:00+00:00    CDD\n",
       "1      binance      LRC/USDT 2020-10-19 07:05:00+00:00 2021-08-24 00:40:00+00:00        444306  99.939268            308             1442.551948                      297                96.454824      2020-10-19 07:05:00+00:00    2021-08-13 01:59:00+00:00    CDD\n",
       "2      binance     USDC/USDT 2020-09-11 20:41:00+00:00 2021-09-16 01:36:00+00:00        526368  99.005372            369             1426.471545                       79                21.502438      2020-09-11 20:41:00+00:00    2020-11-30 05:59:00+00:00    CDD\n",
       "3      binance      VET/USDT 2021-06-06 06:57:00+00:00 2021-09-04 01:08:00+00:00        128982  99.791106             89             1449.235955                       67                75.529199      2021-06-06 06:57:00+00:00    2021-08-13 01:59:00+00:00    CDD\n",
       "4      binance      FIL/USDT 2021-06-06 06:57:00+00:00 2021-09-04 01:08:00+00:00        128982  99.791106             89             1449.235955                       67                75.529199      2021-06-06 06:57:00+00:00    2021-08-13 01:59:00+00:00    CDD\n",
       "5      binance     CELR/USDT 2020-09-11 20:41:00+00:00 2021-09-16 01:36:00+00:00        526368  99.005372            369             1426.471545                       79                21.502438      2020-09-11 20:41:00+00:00    2020-11-30 05:59:00+00:00    CDD\n",
       "6      binance     DASH/USDT 2020-02-04 08:06:00+00:00 2021-09-16 01:36:00+00:00        843922  99.377187            589             1432.804754                      299                50.855912      2020-02-04 08:06:00+00:00    2020-11-30 05:59:00+00:00    CDD\n",
       "7      binance      ONE/USDT 2020-09-11 20:41:00+00:00 2021-09-16 01:36:00+00:00        526368  99.005372            369             1426.471545                       79                21.502438      2020-09-11 20:41:00+00:00    2020-11-30 05:59:00+00:00    CDD\n",
       "8      binance    MATIC/USDT 2020-09-11 20:41:00+00:00 2021-09-16 01:36:00+00:00        526368  99.005372            369             1426.471545                       79                21.502438      2020-09-11 20:41:00+00:00    2020-11-30 05:59:00+00:00    CDD\n",
       "9      binance     QTUM/USDT 2020-02-20 08:06:00+00:00 2021-09-16 01:36:00+00:00        820882  99.359818            573             1432.603839                      283                49.485397      2020-02-20 08:06:00+00:00    2020-11-30 05:59:00+00:00    CDD\n",
       "10     binance      ETC/USDT 2020-01-16 08:01:00+00:00 2021-09-16 01:36:00+00:00        871287   99.39663            608             1433.037829                      318                52.390095      2020-01-16 08:01:00+00:00    2020-11-30 05:59:00+00:00    CDD\n",
       "11     binance      BTT/USDT 2020-09-11 20:41:00+00:00 2021-09-16 01:36:00+00:00        526368  99.005372            369             1426.471545                       79                21.502438      2020-09-11 20:41:00+00:00    2020-11-30 05:59:00+00:00    CDD\n",
       "12     binance     AAVE/USDT 2021-06-06 06:57:00+00:00 2021-09-04 01:08:00+00:00        128982  99.791106             89             1449.235955                       67                75.529199      2021-06-06 06:57:00+00:00    2021-08-13 01:59:00+00:00    CDD\n",
       "13     binance      MKR/USDT 2021-06-06 06:57:00+00:00 2021-08-29 00:40:00+00:00        120314   99.77609             83             1449.566265                       67                80.958502      2021-06-06 06:57:00+00:00    2021-08-13 01:59:00+00:00    CDD\n",
       "14     binance      TRX/USDT 2020-01-15 08:05:00+00:00 2021-09-16 01:36:00+00:00        872723  99.397616            609             1433.042693                      319                52.467962      2020-01-15 08:05:00+00:00    2020-11-30 05:59:00+00:00    CDD\n",
       "15     binance      UNI/USDT 2021-06-06 06:57:00+00:00 2021-09-07 01:08:00+00:00        133302  99.797862             92             1448.934783                       67                73.086425      2021-06-06 06:57:00+00:00    2021-08-13 01:59:00+00:00    CDD\n",
       "16     binance      ICX/USDT 2021-06-06 07:24:00+00:00 2021-08-24 00:39:00+00:00        113086  99.761812             78             1449.820513                       67                86.096898      2021-06-06 07:24:00+00:00    2021-08-13 01:59:00+00:00    CDD\n",
       "17     binance      BAT/USDT 2020-02-13 08:05:00+00:00 2021-09-16 01:36:00+00:00        830963  99.367535            580             1432.694828                      290                 50.09435      2020-02-13 08:05:00+00:00    2020-11-30 05:59:00+00:00    CDD\n",
       "18     binance      DOT/USDT 2021-06-06 06:57:00+00:00 2021-09-07 01:08:00+00:00        133302  99.797862             92             1448.934783                       67                73.086425      2021-06-06 06:57:00+00:00    2021-08-13 01:59:00+00:00    CDD\n",
       "19     binance      CVC/USDT 2020-11-11 07:00:00+00:00 2021-08-24 00:39:00+00:00        411190   99.93438            285              1442.77193                      274                96.169737      2020-11-11 07:00:00+00:00    2021-08-13 01:59:00+00:00    CDD\n",
       "20     binance      LTC/USDT 2020-01-09 08:09:00+00:00 2021-09-16 01:35:00+00:00        881359  99.403596            615             1433.104065                      325                52.930986      2020-01-09 08:09:00+00:00    2020-11-30 05:59:00+00:00    CDD\n",
       "21     binance     TUSD/USDT 2020-09-11 20:41:00+00:00 2021-09-16 01:36:00+00:00        526368  99.005372            369             1426.471545                       79                21.502438      2020-09-11 20:41:00+00:00    2020-11-30 05:59:00+00:00    CDD\n",
       "22     binance      PAX/USDT 2020-09-11 20:41:00+00:00 2021-09-06 03:59:00+00:00        512111  98.977965            359             1426.493036                       79                 22.09494      2020-09-11 20:41:00+00:00    2020-11-30 05:59:00+00:00    CDD\n",
       "23     binance      XMR/USDT 2020-02-03 08:03:00+00:00 2021-09-16 01:36:00+00:00        845366  99.378361            590             1432.823729                      300                50.939277      2020-02-03 08:03:00+00:00    2020-11-30 05:59:00+00:00    CDD\n",
       "24     binance      ICP/USDT 2021-06-06 06:57:00+00:00 2021-09-07 01:08:00+00:00        133302  99.797862             92             1448.934783                       67                73.086425      2021-06-06 06:57:00+00:00    2021-08-13 01:59:00+00:00    CDD\n",
       "25     binance      XLM/USDT 2020-01-20 08:03:00+00:00 2021-09-16 01:36:00+00:00        865526  99.392752            604             1432.990066                      314                 52.07507      2020-01-20 08:03:00+00:00    2020-11-30 05:59:00+00:00    CDD\n",
       "26     binance      ZEC/USDT 2020-02-05 08:01:00+00:00 2021-09-16 01:36:00+00:00        842487  99.376132            588              1432.80102                      298                50.772728      2020-02-05 08:01:00+00:00    2020-11-30 05:59:00+00:00    CDD\n",
       "27     binance      XRP/USDT 2020-01-06 08:21:00+00:00 2021-09-16 01:35:00+00:00        885667   99.40648            618             1433.118123                      328                53.158577      2020-01-06 08:21:00+00:00    2020-11-30 05:59:00+00:00    CDD"
      ]
     },
     "metadata": {},
     "output_type": "display_data"
    }
   ],
   "source": [
    "display(cdd_unique_start_end_table)"
   ]
  }
 ],
 "metadata": {
  "jupytext": {
   "text_representation": {
    "extension": ".py",
    "format_name": "percent",
    "format_version": "1.3",
    "jupytext_version": "1.13.3"
   }
  },
  "kernelspec": {
   "display_name": "Python 3 (ipykernel)",
   "language": "python",
   "name": "python3"
  },
  "language_info": {
   "codemirror_mode": {
    "name": "ipython",
    "version": 3
   },
   "file_extension": ".py",
   "mimetype": "text/x-python",
   "name": "python",
   "nbconvert_exporter": "python",
   "pygments_lexer": "ipython3",
   "version": "3.8.10"
  },
  "toc": {
   "base_numbering": 1,
   "nav_menu": {},
   "number_sections": true,
   "sideBar": true,
   "skip_h1_title": false,
   "title_cell": "Table of Contents",
   "title_sidebar": "Contents",
   "toc_cell": false,
   "toc_position": {},
   "toc_section_display": true,
   "toc_window_display": false
  }
 },
 "nbformat": 4,
 "nbformat_minor": 5
}
