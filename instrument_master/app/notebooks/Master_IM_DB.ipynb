{
 "cells": [
  {
   "cell_type": "markdown",
   "id": "handmade-bookmark",
   "metadata": {},
   "source": [
    "# Description\n",
    "\n",
    "This notebook allows to connect to an IM instance and access data."
   ]
  },
  {
   "cell_type": "code",
   "execution_count": 2,
   "id": "indirect-robert",
   "metadata": {
    "ExecuteTime": {
     "end_time": "2021-04-02T18:12:00.048245Z",
     "start_time": "2021-04-02T18:11:59.766923Z"
    }
   },
   "outputs": [],
   "source": [
    "%load_ext autoreload\n",
    "%autoreload 2\n",
    "\n",
    "import logging\n",
    "\n",
    "import pandas as pd\n",
    "\n",
    "import helpers.dbg as dbg\n",
    "import helpers.printing as print_\n",
    "import helpers.system_interaction as si"
   ]
  },
  {
   "cell_type": "code",
   "execution_count": 1,
   "id": "composed-banking",
   "metadata": {
    "ExecuteTime": {
     "end_time": "2021-04-02T17:20:07.208115Z",
     "start_time": "2021-04-02T17:20:07.204679Z"
    }
   },
   "outputs": [],
   "source": [
    "import os"
   ]
  },
  {
   "cell_type": "code",
   "execution_count": 3,
   "id": "geographic-dress",
   "metadata": {
    "ExecuteTime": {
     "end_time": "2021-04-02T18:12:01.380763Z",
     "start_time": "2021-04-02T18:12:01.350928Z"
    }
   },
   "outputs": [
    {
     "name": "stdout",
     "output_type": "stream",
     "text": [
      "\u001b[0mWARNING: Running in Jupyter\n"
     ]
    }
   ],
   "source": [
    "# dbg.init_logger(verbosity=logging.DEBUG)\n",
    "dbg.init_logger(verbosity=logging.INFO)\n",
    "# dbg.test_logger()\n",
    "_LOG = logging.getLogger(__name__)"
   ]
  },
  {
   "cell_type": "code",
   "execution_count": 14,
   "id": "sunset-tampa",
   "metadata": {
    "ExecuteTime": {
     "end_time": "2021-04-02T20:14:28.979143Z",
     "start_time": "2021-04-02T20:14:28.945550Z"
    },
    "run_control": {
     "marked": false
    }
   },
   "outputs": [
    {
     "name": "stdout",
     "output_type": "stream",
     "text": [
      "db_names=['im_postgres_db_local', 'postgres', 'template0', 'template1']\n",
      "table_names=['exchange', 'tradesymbol', 'symbol', 'kibotdailydata', 'kibotminutedata', 'kibottickbidaskdata', 'kibottickdata', 'ibdailydata', 'ibminutedata', 'ibtickbidaskdata', 'ibtickdata']\n"
     ]
    },
    {
     "data": {
      "text/html": [
       "<div>\n",
       "<style scoped>\n",
       "    .dataframe tbody tr th:only-of-type {\n",
       "        vertical-align: middle;\n",
       "    }\n",
       "\n",
       "    .dataframe tbody tr th {\n",
       "        vertical-align: top;\n",
       "    }\n",
       "\n",
       "    .dataframe thead th {\n",
       "        text-align: right;\n",
       "    }\n",
       "</style>\n",
       "<table border=\"1\" class=\"dataframe\">\n",
       "  <thead>\n",
       "    <tr style=\"text-align: right;\">\n",
       "      <th></th>\n",
       "      <th>id</th>\n",
       "      <th>exchange_id</th>\n",
       "      <th>symbol_id</th>\n",
       "    </tr>\n",
       "  </thead>\n",
       "  <tbody>\n",
       "  </tbody>\n",
       "</table>\n",
       "</div>"
      ],
      "text/plain": [
       "Empty DataFrame\n",
       "Columns: [id, exchange_id, symbol_id]\n",
       "Index: []"
      ]
     },
     "execution_count": 14,
     "metadata": {},
     "output_type": "execute_result"
    }
   ],
   "source": [
    "#dbname=os.environ[\"POSTGRES_DB\"]\n",
    "#host=os.environ[\"POSTGRES_HOST\"]\n",
    "#port=int(os.environ[\"POSTGRES_PORT\"])\n",
    "#user=os.environ[\"POSTGRES_USER\"]\n",
    "#password=os.environ[\"POSTGRES_PASSWORD\"]\n",
    "\n",
    "import helpers.sql as hsql\n",
    "\n",
    "import pandas as pd\n",
    "import pandas.io.sql as sqlio\n",
    "import psycopg2\n",
    "\n",
    "conn_as_str = \"user=menjgbcvejlpcbejlc password=eidvlbaresntlcdbresntdjlrs dbname=im_postgres_db_local host=im_postgres_local port=5550\"\n",
    "conn, _ = hsql.get_connection_from_string(conn_as_str)\n",
    "\n",
    "db_names = hsql.get_db_names(conn)\n",
    "print(\"db_names=%s\" % db_names)\n",
    "\n",
    "table_names = hsql.get_table_names(conn)\n",
    "print(\"table_names=%s\" % table_names)\n",
    "\n",
    "table_name = \"tradesymbol\"\n",
    "sql = \"SELECT * FROM %s;\" % table_name\n",
    "df = sqlio.read_sql_query(sql, conn)\n",
    "\n",
    "df"
   ]
  },
  {
   "cell_type": "code",
   "execution_count": null,
   "id": "employed-composition",
   "metadata": {},
   "outputs": [],
   "source": []
  }
 ],
 "metadata": {
  "jupytext": {
   "text_representation": {
    "extension": ".py",
    "format_name": "percent",
    "format_version": "1.3",
    "jupytext_version": "1.11.0"
   }
  },
  "kernelspec": {
   "display_name": "Python 3",
   "language": "python",
   "name": "python3"
  },
  "language_info": {
   "codemirror_mode": {
    "name": "ipython",
    "version": 3
   },
   "file_extension": ".py",
   "mimetype": "text/x-python",
   "name": "python",
   "nbconvert_exporter": "python",
   "pygments_lexer": "ipython3",
   "version": "3.7.10"
  },
  "toc": {
   "base_numbering": 1,
   "nav_menu": {},
   "number_sections": true,
   "sideBar": true,
   "skip_h1_title": false,
   "title_cell": "Table of Contents",
   "title_sidebar": "Contents",
   "toc_cell": false,
   "toc_position": {},
   "toc_section_display": true,
   "toc_window_display": false
  }
 },
 "nbformat": 4,
 "nbformat_minor": 5
}
