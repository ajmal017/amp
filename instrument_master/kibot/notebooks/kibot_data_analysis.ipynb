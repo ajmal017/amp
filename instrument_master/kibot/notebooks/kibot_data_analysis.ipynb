{
 "cells": [
  {
   "cell_type": "code",
   "execution_count": 1,
   "metadata": {
    "ExecuteTime": {
     "end_time": "2021-06-07T20:10:08.829698Z",
     "start_time": "2021-06-07T20:10:08.576833Z"
    }
   },
   "outputs": [],
   "source": [
    "%load_ext autoreload\n",
    "%autoreload 2\n",
    "\n",
    "\n",
    "import pandas as pd"
   ]
  },
  {
   "cell_type": "code",
   "execution_count": 8,
   "metadata": {
    "ExecuteTime": {
     "end_time": "2020-09-02T17:38:22.402542Z",
     "start_time": "2020-09-02T17:38:14.093398Z"
    }
   },
   "outputs": [
    {
     "data": {
      "text/html": [
       "<div>\n",
       "<style scoped>\n",
       "    .dataframe tbody tr th:only-of-type {\n",
       "        vertical-align: middle;\n",
       "    }\n",
       "\n",
       "    .dataframe tbody tr th {\n",
       "        vertical-align: top;\n",
       "    }\n",
       "\n",
       "    .dataframe thead th {\n",
       "        text-align: right;\n",
       "    }\n",
       "</style>\n",
       "<table border=\"1\" class=\"dataframe\">\n",
       "  <thead>\n",
       "    <tr style=\"text-align: right;\">\n",
       "      <th></th>\n",
       "      <th>01/02/1998</th>\n",
       "      <th>09:30</th>\n",
       "      <th>0.4205</th>\n",
       "      <th>0.4224</th>\n",
       "      <th>0.4205.1</th>\n",
       "      <th>0.4205.2</th>\n",
       "      <th>596200</th>\n",
       "    </tr>\n",
       "  </thead>\n",
       "  <tbody>\n",
       "    <tr>\n",
       "      <th>0</th>\n",
       "      <td>01/02/1998</td>\n",
       "      <td>09:31</td>\n",
       "      <td>0.4205</td>\n",
       "      <td>0.4205</td>\n",
       "      <td>0.4186</td>\n",
       "      <td>0.4205</td>\n",
       "      <td>2064019</td>\n",
       "    </tr>\n",
       "    <tr>\n",
       "      <th>1</th>\n",
       "      <td>01/02/1998</td>\n",
       "      <td>09:32</td>\n",
       "      <td>0.4205</td>\n",
       "      <td>0.4205</td>\n",
       "      <td>0.4186</td>\n",
       "      <td>0.4205</td>\n",
       "      <td>942904</td>\n",
       "    </tr>\n",
       "    <tr>\n",
       "      <th>2</th>\n",
       "      <td>01/02/1998</td>\n",
       "      <td>09:33</td>\n",
       "      <td>0.4205</td>\n",
       "      <td>0.4205</td>\n",
       "      <td>0.4166</td>\n",
       "      <td>0.4166</td>\n",
       "      <td>648044</td>\n",
       "    </tr>\n",
       "    <tr>\n",
       "      <th>3</th>\n",
       "      <td>01/02/1998</td>\n",
       "      <td>09:34</td>\n",
       "      <td>0.4166</td>\n",
       "      <td>0.4205</td>\n",
       "      <td>0.4166</td>\n",
       "      <td>0.4186</td>\n",
       "      <td>87486</td>\n",
       "    </tr>\n",
       "    <tr>\n",
       "      <th>4</th>\n",
       "      <td>01/02/1998</td>\n",
       "      <td>09:35</td>\n",
       "      <td>0.4205</td>\n",
       "      <td>0.4205</td>\n",
       "      <td>0.4186</td>\n",
       "      <td>0.4186</td>\n",
       "      <td>93966</td>\n",
       "    </tr>\n",
       "  </tbody>\n",
       "</table>\n",
       "</div>"
      ],
      "text/plain": [
       "   01/02/1998  09:30  0.4205  0.4224  0.4205.1  0.4205.2   596200\n",
       "0  01/02/1998  09:31  0.4205  0.4205    0.4186    0.4205  2064019\n",
       "1  01/02/1998  09:32  0.4205  0.4205    0.4186    0.4205   942904\n",
       "2  01/02/1998  09:33  0.4205  0.4205    0.4166    0.4166   648044\n",
       "3  01/02/1998  09:34  0.4166  0.4205    0.4166    0.4186    87486\n",
       "4  01/02/1998  09:35  0.4205  0.4205    0.4186    0.4186    93966"
      ]
     },
     "execution_count": 8,
     "metadata": {},
     "output_type": "execute_result"
    }
   ],
   "source": [
    "file = \"s3://alphamatic-data/data/kibot/sp_500_1min/AAPL.csv.gz\"\n",
    "\n",
    "df = pd.read_csv(file)\n",
    "df.head(5)"
   ]
  },
  {
   "cell_type": "code",
   "execution_count": 3,
   "metadata": {
    "ExecuteTime": {
     "end_time": "2021-06-07T20:10:27.218963Z",
     "start_time": "2021-06-07T20:10:25.552620Z"
    }
   },
   "outputs": [],
   "source": [
    "file = \"s3://alphamatic-data/data/kibot/pq/sp_500_1min/AAPL.pq\"\n",
    "\n",
    "df = pd.read_parquet(file)"
   ]
  },
  {
   "cell_type": "code",
   "execution_count": 7,
   "metadata": {
    "ExecuteTime": {
     "end_time": "2021-06-07T20:11:29.375845Z",
     "start_time": "2021-06-07T20:11:29.210179Z"
    }
   },
   "outputs": [],
   "source": [
    "mask = (df.index >= \"2019-01-01\") & (df.index <= \"2019-01-31\")\n",
    "df[mask].to_csv(\"aapl.csv\")"
   ]
  }
 ],
 "metadata": {
  "jupytext": {
   "text_representation": {
    "extension": ".py",
    "format_name": "percent",
    "format_version": "1.3",
    "jupytext_version": "1.5.1"
   }
  },
  "kernelspec": {
   "display_name": "Python 3",
   "language": "python",
   "name": "python3"
  },
  "language_info": {
   "codemirror_mode": {
    "name": "ipython",
    "version": 3
   },
   "file_extension": ".py",
   "mimetype": "text/x-python",
   "name": "python",
   "nbconvert_exporter": "python",
   "pygments_lexer": "ipython3",
   "version": "3.8.5"
  },
  "toc": {
   "base_numbering": 1,
   "nav_menu": {},
   "number_sections": true,
   "sideBar": true,
   "skip_h1_title": false,
   "title_cell": "Table of Contents",
   "title_sidebar": "Contents",
   "toc_cell": false,
   "toc_position": {},
   "toc_section_display": true,
   "toc_window_display": false
  }
 },
 "nbformat": 4,
 "nbformat_minor": 4
}
