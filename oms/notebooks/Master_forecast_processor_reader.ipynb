{
 "cells": [
  {
   "cell_type": "code",
   "execution_count": 1,
   "id": "971ce6c8",
   "metadata": {
    "ExecuteTime": {
     "end_time": "2022-03-21T19:50:15.445548Z",
     "start_time": "2022-03-21T19:50:09.065784Z"
    }
   },
   "outputs": [
    {
     "name": "stderr",
     "output_type": "stream",
     "text": [
      "/app/amp/core/explore.py:39: TqdmExperimentalWarning: Using `tqdm.autonotebook.tqdm` in notebook mode. Use `tqdm.tqdm` instead to force console mode (e.g. in jupyter console)\n",
      "  import tqdm.autonotebook as tauton\n"
     ]
    }
   ],
   "source": [
    "%load_ext autoreload\n",
    "%autoreload 2\n",
    "%matplotlib inline\n",
    "\n",
    "import logging\n",
    "import os\n",
    "\n",
    "import core.plotting as coplotti\n",
    "import dataflow.model as dtfmod\n",
    "import helpers.hdbg as hdbg\n",
    "import helpers.henv as henv\n",
    "import helpers.hprint as hprint\n",
    "import oms as oms"
   ]
  },
  {
   "cell_type": "code",
   "execution_count": 2,
   "id": "e8278ec9",
   "metadata": {
    "ExecuteTime": {
     "end_time": "2022-03-21T19:50:47.410531Z",
     "start_time": "2022-03-21T19:50:41.575158Z"
    }
   },
   "outputs": [
    {
     "name": "stdout",
     "output_type": "stream",
     "text": [
      "\u001b[0m\u001b[36mINFO\u001b[0m: > cmd='/venv/lib/python3.8/site-packages/ipykernel_launcher.py -f /home/.local/share/jupyter/runtime/kernel-93c350dc-0dae-4397-a587-b76d2e4c3a38.json'\n",
      "WARNING: Running in Jupyter\n",
      ">>ENV<<: is_inside_container=True: code_version=1.0.3, container_version=amp-1.0.3, is_inside_docker=True, is_inside_ci=False, CI_defined=True, CI=''\n",
      ">>ENV<<: AM_AWS_PROFILE=True AM_ECR_BASE_PATH=True AM_S3_BUCKET=True AM_TELEGRAM_TOKEN=True AWS_ACCESS_KEY_ID=False AWS_DEFAULT_REGION=False AWS_SECRET_ACCESS_KEY=False GH_ACTION_ACCESS_TOKEN=True\n",
      "\u001b[31m-----------------------------------------------------------------------------\n",
      "This code is not in sync with the container:\n",
      "code_version='1.0.3' != container_version='amp-1.0.3'\n",
      "-----------------------------------------------------------------------------\n",
      "You need to:\n",
      "- merge origin/master into your branch with `invoke git_merge_master`\n",
      "- pull the latest container with `invoke docker_pull`\u001b[0m\n",
      "INFO  # Git\n",
      "    branch_name='AmpTask2280_Add_notebook_for_fe_csvs'\n",
      "    hash='104297b62'\n",
      "    # Last commits:\n",
      "      * 104297b62 Paul     Checkpoint (#2279)                                                (   6 hours ago) Mon Mar 21 13:57:53 2022  (HEAD -> AmpTask2280_Add_notebook_for_fe_csvs, origin/master, origin/HEAD, master)\n",
      "      * 9e449cbef GP Saggese AmpTask1955_Lint_20220320 (#2278)                                 (   8 hours ago) Mon Mar 21 11:33:36 2022           \n",
      "      * 4bc76b200 GP Saggese AmpTask1786_Integrate_20220320 (#2277)                            (  23 hours ago) Sun Mar 20 20:50:51 2022           \n",
      "# Machine info\n",
      "    system=Linux\n",
      "    node name=7365533b0fc2\n",
      "    release=5.10.76-linuxkit\n",
      "    version=#1 SMP Mon Nov 8 10:21:19 UTC 2021\n",
      "    machine=x86_64\n",
      "    processor=x86_64\n",
      "    cpu count=2\n",
      "    cpu freq=scpufreq(current=2997.761, min=0.0, max=0.0)\n",
      "    memory=svmem(total=16790614016, available=15574511616, percent=7.2, used=510627840, free=13972926464, active=623030272, inactive=1218629632, buffers=424869888, cached=1882189824, shared=359235584, slab=933224448)\n",
      "    disk usage=sdiskusage(total=62725623808, used=38533763072, free=20975144960, percent=64.8)\n",
      "# Packages\n",
      "    python: 3.8.10\n",
      "    gluonnlp: ?\n",
      "    gluonts: 0.6.7\n",
      "    joblib: 1.1.0\n",
      "    mxnet: 1.8.0\n",
      "    numpy: 1.21.1\n",
      "    pandas: 1.3.4\n",
      "    pyarrow: 6.0.1\n",
      "    scipy: 1.6.1\n",
      "    seaborn: 0.11.2\n",
      "    sklearn: 1.0.1\n",
      "    statsmodels: 0.13.1\n",
      "\u001b[33mWARNING\u001b[0m: Disabling annoying warnings\n"
     ]
    }
   ],
   "source": [
    "hdbg.init_logger(verbosity=logging.INFO)\n",
    "\n",
    "_LOG = logging.getLogger(__name__)\n",
    "\n",
    "_LOG.info(\"%s\", henv.get_system_signature()[0])\n",
    "\n",
    "hprint.config_notebook()"
   ]
  },
  {
   "cell_type": "code",
   "execution_count": 3,
   "id": "d0eeb2f4",
   "metadata": {
    "ExecuteTime": {
     "end_time": "2022-03-21T19:50:52.616410Z",
     "start_time": "2022-03-21T19:50:52.569838Z"
    }
   },
   "outputs": [],
   "source": [
    "log_dir = \"\""
   ]
  },
  {
   "cell_type": "code",
   "execution_count": null,
   "id": "409f17b7",
   "metadata": {},
   "outputs": [],
   "source": [
    "paper_df, paper_stats_df = oms.AbstractPortfolio.read_state(\n",
    "    os.path.join(log_dir, \"portfolio\")\n",
    ")"
   ]
  },
  {
   "cell_type": "code",
   "execution_count": null,
   "id": "88283c25",
   "metadata": {},
   "outputs": [],
   "source": [
    "coplotti.plot_portfolio_stats(paper_stats_df, freq=\"B\")"
   ]
  },
  {
   "cell_type": "code",
   "execution_count": null,
   "id": "fc34a9c4",
   "metadata": {},
   "outputs": [],
   "source": [
    "stats_computer = dtfmod.StatsComputer()\n",
    "summary_stats, _ = stats_computer.compute_portfolio_stats(paper_stats_df, \"B\")\n",
    "display(summary_stats)"
   ]
  },
  {
   "cell_type": "code",
   "execution_count": null,
   "id": "4ccb6cca",
   "metadata": {},
   "outputs": [],
   "source": [
    "target_positions = oms.ForecastProcessor.read_logged_target_positions(log_dir)"
   ]
  }
 ],
 "metadata": {
  "kernelspec": {
   "display_name": "Python 3 (ipykernel)",
   "language": "python",
   "name": "python3"
  },
  "language_info": {
   "codemirror_mode": {
    "name": "ipython",
    "version": 3
   },
   "file_extension": ".py",
   "mimetype": "text/x-python",
   "name": "python",
   "nbconvert_exporter": "python",
   "pygments_lexer": "ipython3",
   "version": "3.8.10"
  },
  "toc": {
   "base_numbering": 1,
   "nav_menu": {},
   "number_sections": true,
   "sideBar": true,
   "skip_h1_title": false,
   "title_cell": "Table of Contents",
   "title_sidebar": "Contents",
   "toc_cell": false,
   "toc_position": {},
   "toc_section_display": true,
   "toc_window_display": false
  }
 },
 "nbformat": 4,
 "nbformat_minor": 5
}
