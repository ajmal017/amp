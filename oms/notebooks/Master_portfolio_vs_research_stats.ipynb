{
 "cells": [
  {
   "cell_type": "code",
   "execution_count": 1,
   "id": "63a296a9",
   "metadata": {
    "ExecuteTime": {
     "end_time": "2022-02-02T20:51:02.953175Z",
     "start_time": "2022-02-02T20:50:56.829619Z"
    }
   },
   "outputs": [
    {
     "name": "stderr",
     "output_type": "stream",
     "text": [
      "/app/amp/core/explore.py:39: TqdmExperimentalWarning: Using `tqdm.autonotebook.tqdm` in notebook mode. Use `tqdm.tqdm` instead to force console mode (e.g. in jupyter console)\n",
      "  import tqdm.autonotebook as tauton\n"
     ]
    }
   ],
   "source": [
    "%load_ext autoreload\n",
    "%autoreload 2\n",
    "%matplotlib inline\n",
    "\n",
    "import logging\n",
    "\n",
    "import pandas as pd\n",
    "\n",
    "import core.config as cconfig\n",
    "import core.plotting as coplotti\n",
    "import dataflow.model as dtfmod\n",
    "import helpers.hdbg as hdbg\n",
    "import helpers.henv as henv\n",
    "import helpers.hprint as hprint\n",
    "import oms as oms"
   ]
  },
  {
   "cell_type": "code",
   "execution_count": 3,
   "id": "3b017d81",
   "metadata": {
    "ExecuteTime": {
     "end_time": "2022-02-02T20:51:07.150162Z",
     "start_time": "2022-02-02T20:51:05.483733Z"
    },
    "run_control": {
     "marked": true
    }
   },
   "outputs": [
    {
     "name": "stdout",
     "output_type": "stream",
     "text": [
      "\u001b[0m\u001b[33mWARNING\u001b[0m: Logger already initialized: skipping\n",
      ">>ENV<<: is_inside_container=True: code_version=1.0.3, container_version=amp-1.0.3, is_inside_docker=True, is_inside_ci=False, CI_defined=True, CI=''\n",
      ">>ENV<<: AM_AWS_PROFILE=True AM_ECR_BASE_PATH=True AM_S3_BUCKET=True AM_TELEGRAM_TOKEN=True AWS_ACCESS_KEY_ID=False AWS_DEFAULT_REGION=False AWS_SECRET_ACCESS_KEY=False GH_ACTION_ACCESS_TOKEN=True\n",
      "\u001b[31m-----------------------------------------------------------------------------\n",
      "This code is not in sync with the container:\n",
      "code_version='1.0.3' != container_version='amp-1.0.3'\n",
      "-----------------------------------------------------------------------------\n",
      "You need to:\n",
      "- merge origin/master into your branch with `invoke git_merge_master`\n",
      "- pull the latest container with `invoke docker_pull`\u001b[0m\n",
      "INFO  # Git\n",
      "    branch_name='AmpTask2158_Add_stats_comparison_nb_03'\n",
      "    hash='82edfda37'\n",
      "    # Last commits:\n",
      "      * 82edfda37 paul     Checkpoint                                                        ( 2 minutes ago) Wed Feb 2 20:49:26 2022  (HEAD -> AmpTask2158_Add_stats_comparison_nb_03)\n",
      "      * dda03d5db paul     Checkpoint                                                        (18 minutes ago) Wed Feb 2 20:32:48 2022           \n",
      "      * 66394368d Paul     Amp task2165 parse parquet df (#2166)                             (56 minutes ago) Wed Feb 2 19:55:22 2022  (origin/master, origin/HEAD, master)\n",
      "# Machine info\n",
      "    system=Linux\n",
      "    node name=21731899d9fd\n",
      "    release=5.10.25-linuxkit\n",
      "    version=#1 SMP Tue Mar 23 09:27:39 UTC 2021\n",
      "    machine=x86_64\n",
      "    processor=x86_64\n",
      "    cpu count=2\n",
      "    cpu freq=scpufreq(current=2997.734, min=0.0, max=0.0)\n",
      "    memory=svmem(total=16792666112, available=14895734784, percent=11.3, used=1115217920, free=2063667200, active=3054612480, inactive=9838772224, buffers=832991232, cached=12780789760, shared=449953792, slab=1782906880)\n",
      "    disk usage=sdiskusage(total=62725623808, used=23312609280, free=36196298752, percent=39.2)\n",
      "# Packages\n",
      "    python: 3.8.10\n",
      "    gluonnlp: ?\n",
      "    gluonts: 0.6.7\n",
      "    joblib: 1.1.0\n",
      "    mxnet: 1.8.0\n",
      "    numpy: 1.21.1\n",
      "    pandas: 1.3.4\n",
      "    pyarrow: 6.0.1\n",
      "    scipy: 1.6.1\n",
      "    seaborn: 0.11.2\n",
      "    sklearn: 1.0.1\n",
      "    statsmodels: 0.13.1\n",
      "\u001b[33mWARNING\u001b[0m: Disabling annoying warnings\n"
     ]
    }
   ],
   "source": [
    "hdbg.init_logger(verbosity=logging.INFO)\n",
    "\n",
    "_LOG = logging.getLogger(__name__)\n",
    "\n",
    "_LOG.info(\"%s\", henv.get_system_signature()[0])\n",
    "\n",
    "hprint.config_notebook()"
   ]
  },
  {
   "cell_type": "code",
   "execution_count": 3,
   "id": "ee2fc68a",
   "metadata": {
    "ExecuteTime": {
     "end_time": "2022-01-31T18:57:23.125955Z",
     "start_time": "2022-01-31T18:57:23.059285Z"
    }
   },
   "outputs": [],
   "source": [
    "dict_ = {\n",
    "    \"portfolio_data_dir\": \"\",\n",
    "    \"research_data_dir\": \"\",\n",
    "    \"freq\": \"5T\",\n",
    "    \"portfolio_file_name\": None,\n",
    "    \"research_file_name\": None,\n",
    "    \"start_timestamp\": None,\n",
    "    \"end_timestamp\": None,\n",
    "}"
   ]
  },
  {
   "cell_type": "code",
   "execution_count": 4,
   "id": "dd834ff5",
   "metadata": {
    "ExecuteTime": {
     "end_time": "2022-01-31T18:57:23.299112Z",
     "start_time": "2022-01-31T18:57:23.234546Z"
    }
   },
   "outputs": [],
   "source": [
    "config = cconfig.get_config_from_nested_dict(dict_)\n",
    "#\n",
    "start_timestamp = config[\"start_timestamp\"]\n",
    "end_timestamp = config[\"end_timestamp\"]"
   ]
  },
  {
   "cell_type": "code",
   "execution_count": null,
   "id": "4aaf50ce",
   "metadata": {},
   "outputs": [],
   "source": [
    "# Load and time-localize Portfolio logged data.\n",
    "paper_df, paper_stats_df = oms.AbstractPortfolio.read_state(\n",
    "    config[\"portfolio_data_dir\"],\n",
    "    file_name=config[\"portfolio_file_name\"],\n",
    ")\n",
    "paper_df = paper_df.loc[start_timestamp:end_timestamp]\n",
    "paper_stats_df = paper_stats_df.loc[start_timestamp:end_timestamp]"
   ]
  },
  {
   "cell_type": "code",
   "execution_count": null,
   "id": "f712aae9",
   "metadata": {},
   "outputs": [],
   "source": [
    "# Load and time localize ForecastEvaluator logged data.\n",
    "research_df, research_stats_df = dtfmod.ForecastEvaluator.read_portfolio(\n",
    "    config[\"research_data_dir\"],\n",
    "    file_name=config[\"research_file_name\"],\n",
    ")\n",
    "research_df = research_df.loc[start_timestamp:end_timestamp]\n",
    "research_stats_df = research_stats_df.loc[start_timestamp:end_timestamp]"
   ]
  },
  {
   "cell_type": "code",
   "execution_count": 8,
   "id": "222a758f",
   "metadata": {
    "ExecuteTime": {
     "end_time": "2022-01-31T20:41:45.720889Z",
     "start_time": "2022-01-31T20:41:45.650547Z"
    }
   },
   "outputs": [],
   "source": [
    "def compute_delay(df: pd.DataFrame, freq: str) -> pd.Series:\n",
    "    diff = df.index - df.index.round(freq)\n",
    "    srs = pd.Series(\n",
    "        [\n",
    "            diff.mean(),\n",
    "            diff.std(),\n",
    "        ],\n",
    "        [\n",
    "            \"mean\",\n",
    "            \"stdev\",\n",
    "        ],\n",
    "        name=\"delay\",\n",
    "    )\n",
    "    return srs\n",
    "\n",
    "\n",
    "# Compute delay stats.\n",
    "delay_stats = compute_delay(paper_stats_df, config[\"freq\"])\n",
    "display(delay_stats)\n",
    "\n",
    "# Round paper_stats_df to bar\n",
    "paper_stats_df.index = paper_stats_df.index.round(config[\"freq\"])"
   ]
  },
  {
   "cell_type": "code",
   "execution_count": 5,
   "id": "ca7ba714",
   "metadata": {
    "ExecuteTime": {
     "end_time": "2022-01-31T19:02:14.544269Z",
     "start_time": "2022-01-31T19:02:14.484065Z"
    }
   },
   "outputs": [],
   "source": [
    "bar_stats_df = pd.concat(\n",
    "    [research_stats_df, paper_stats_df], axis=1, keys=[\"research\", \"paper\"]\n",
    ")\n",
    "display(bar_stats_df.head(3))"
   ]
  },
  {
   "cell_type": "code",
   "execution_count": null,
   "id": "3a07e752",
   "metadata": {},
   "outputs": [],
   "source": [
    "stats_computer = dtfmod.StatsComputer()\n",
    "stats_sxs, _ = stats_computer.compute_portfolio_stats(\n",
    "    bar_stats_df, config[\"freq\"]\n",
    ")\n",
    "display(stats_sxs)"
   ]
  },
  {
   "cell_type": "code",
   "execution_count": null,
   "id": "86d16c87",
   "metadata": {},
   "outputs": [],
   "source": [
    "def per_asset_pnl_corr(\n",
    "    research_df: pd.DataFrame, paper_df: pd.DataFrame, freq: str\n",
    ") -> pd.Series:\n",
    "    research_pnl = research_df[\"pnl\"]\n",
    "    paper_pnl = paper_df[\"pnl\"]\n",
    "    corrs = {}\n",
    "    for asset_id in research_pnl.columns:\n",
    "        pnl1 = research_pnl[asset_id].resample(freq).sum(min_count=1)\n",
    "        pnl2 = paper_pnl[asset_id].resample(freq).sum(min_count=1)\n",
    "        corr = pnl1.corr(pnl2)\n",
    "        corrs[asset_id] = corr\n",
    "    corr_srs = pd.Series(corrs).rename(\"pnl_correlation\")\n",
    "    return corr_srs"
   ]
  },
  {
   "cell_type": "code",
   "execution_count": null,
   "id": "c76e8050",
   "metadata": {},
   "outputs": [],
   "source": [
    "# Display per-asset PnL correlations.\n",
    "pnl_corrs = per_asset_pnl_corr(research_df, paper_df, config[\"freq\"])\n",
    "pnl_corrs.hist(bins=101)"
   ]
  },
  {
   "cell_type": "code",
   "execution_count": 6,
   "id": "4356d6ad",
   "metadata": {
    "ExecuteTime": {
     "end_time": "2022-01-31T19:02:20.754307Z",
     "start_time": "2022-01-31T19:02:20.682542Z"
    }
   },
   "outputs": [],
   "source": [
    "pnl_corrs.sort_values().head()"
   ]
  },
  {
   "cell_type": "code",
   "execution_count": null,
   "id": "ffb8441d",
   "metadata": {},
   "outputs": [],
   "source": [
    "pnl = bar_stats_df.T.xs(\"pnl\", level=1).T\n",
    "display(pnl.head())"
   ]
  },
  {
   "cell_type": "code",
   "execution_count": null,
   "id": "f2449f1e",
   "metadata": {},
   "outputs": [],
   "source": [
    "pnl.corr()"
   ]
  },
  {
   "cell_type": "code",
   "execution_count": null,
   "id": "cb499b27",
   "metadata": {},
   "outputs": [],
   "source": [
    "coplotti.plot_portfolio_stats(bar_stats_df)"
   ]
  }
 ],
 "metadata": {
  "jupytext": {
   "text_representation": {
    "extension": ".py",
    "format_name": "percent",
    "format_version": "1.3",
    "jupytext_version": "1.13.3"
   }
  },
  "kernelspec": {
   "display_name": "Python 3 (ipykernel)",
   "language": "python",
   "name": "python3"
  },
  "language_info": {
   "codemirror_mode": {
    "name": "ipython",
    "version": 3
   },
   "file_extension": ".py",
   "mimetype": "text/x-python",
   "name": "python",
   "nbconvert_exporter": "python",
   "pygments_lexer": "ipython3",
   "version": "3.8.10"
  },
  "toc": {
   "base_numbering": 1,
   "nav_menu": {},
   "number_sections": true,
   "sideBar": true,
   "skip_h1_title": false,
   "title_cell": "Table of Contents",
   "title_sidebar": "Contents",
   "toc_cell": false,
   "toc_position": {},
   "toc_section_display": true,
   "toc_window_display": false
  }
 },
 "nbformat": 4,
 "nbformat_minor": 5
}
