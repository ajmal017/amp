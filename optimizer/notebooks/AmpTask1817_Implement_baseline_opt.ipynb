{
 "cells": [
  {
   "cell_type": "code",
   "execution_count": 1,
   "id": "50e4f470",
   "metadata": {
    "ExecuteTime": {
     "end_time": "2022-03-03T15:39:37.296013Z",
     "start_time": "2022-03-03T15:39:37.252810Z"
    }
   },
   "outputs": [],
   "source": [
    "%load_ext autoreload\n",
    "%autoreload 2"
   ]
  },
  {
   "cell_type": "code",
   "execution_count": 2,
   "id": "451c8e6b",
   "metadata": {
    "ExecuteTime": {
     "end_time": "2022-03-03T15:39:38.960757Z",
     "start_time": "2022-03-03T15:39:38.040868Z"
    }
   },
   "outputs": [],
   "source": [
    "import io\n",
    "import logging\n",
    "import pprint\n",
    "\n",
    "import pandas as pd\n",
    "\n",
    "import core.config as cconfig\n",
    "import optimizer.single_period_optimization as osipeopt\n",
    "import helpers.hdbg as hdbg\n",
    "import helpers.henv as henv\n",
    "import helpers.hprint as hprint"
   ]
  },
  {
   "cell_type": "code",
   "execution_count": 3,
   "id": "89dc2f85",
   "metadata": {
    "ExecuteTime": {
     "end_time": "2022-03-03T15:39:39.020124Z",
     "start_time": "2022-03-03T15:39:38.968704Z"
    }
   },
   "outputs": [
    {
     "name": "stdout",
     "output_type": "stream",
     "text": [
      "\u001b[0m\u001b[36mINFO\u001b[0m: > cmd='/venv/lib/python3.9/site-packages/ipykernel_launcher.py -f /home/.local/share/jupyter/runtime/kernel-129cf3cb-706b-413c-8cbc-be607e2c7eee.json'\n",
      "WARNING: Running in Jupyter\n"
     ]
    }
   ],
   "source": [
    "hdbg.init_logger(verbosity=logging.INFO)\n",
    "\n",
    "_LOG = logging.getLogger(__name__)\n",
    "\n",
    "# _LOG.info(\"%s\", henv.get_system_signature()[0])"
   ]
  },
  {
   "cell_type": "code",
   "execution_count": 4,
   "id": "655fe2d1",
   "metadata": {
    "ExecuteTime": {
     "end_time": "2022-03-03T15:39:40.319486Z",
     "start_time": "2022-03-03T15:39:39.026977Z"
    }
   },
   "outputs": [
    {
     "ename": "ModuleNotFoundError",
     "evalue": "No module named 'matplotlib'",
     "output_type": "error",
     "traceback": [
      "\u001b[0;31m---------------------------------------------------------------------------\u001b[0m",
      "\u001b[0;31mModuleNotFoundError\u001b[0m                       Traceback (most recent call last)",
      "Input \u001b[0;32mIn [4]\u001b[0m, in \u001b[0;36m<cell line: 1>\u001b[0;34m()\u001b[0m\n\u001b[0;32m----> 1\u001b[0m \u001b[43mhprint\u001b[49m\u001b[38;5;241;43m.\u001b[39;49m\u001b[43mconfig_notebook\u001b[49m\u001b[43m(\u001b[49m\u001b[43m)\u001b[49m\n",
      "File \u001b[0;32m/app/helpers/hprint.py:809\u001b[0m, in \u001b[0;36mconfig_notebook\u001b[0;34m(sns_set)\u001b[0m\n\u001b[1;32m    807\u001b[0m \u001b[38;5;28;01mdef\u001b[39;00m \u001b[38;5;21mconfig_notebook\u001b[39m(sns_set: \u001b[38;5;28mbool\u001b[39m \u001b[38;5;241m=\u001b[39m \u001b[38;5;28;01mTrue\u001b[39;00m) \u001b[38;5;241m-\u001b[39m\u001b[38;5;241m>\u001b[39m \u001b[38;5;28;01mNone\u001b[39;00m:\n\u001b[1;32m    808\u001b[0m     \u001b[38;5;66;03m# Matplotlib.\u001b[39;00m\n\u001b[0;32m--> 809\u001b[0m     \u001b[38;5;28;01mimport\u001b[39;00m \u001b[38;5;21;01mmatplotlib\u001b[39;00m\u001b[38;5;21;01m.\u001b[39;00m\u001b[38;5;21;01mpyplot\u001b[39;00m \u001b[38;5;28;01mas\u001b[39;00m \u001b[38;5;21;01mplt\u001b[39;00m\n\u001b[1;32m    811\u001b[0m     \u001b[38;5;66;03m# plt.rcParams\u001b[39;00m\n\u001b[1;32m    812\u001b[0m     plt\u001b[38;5;241m.\u001b[39mrcParams[\u001b[38;5;124m\"\u001b[39m\u001b[38;5;124mfigure.figsize\u001b[39m\u001b[38;5;124m\"\u001b[39m] \u001b[38;5;241m=\u001b[39m (\u001b[38;5;241m20\u001b[39m, \u001b[38;5;241m5\u001b[39m)\n",
      "\u001b[0;31mModuleNotFoundError\u001b[0m: No module named 'matplotlib'"
     ]
    }
   ],
   "source": [
    "hprint.config_notebook()"
   ]
  },
  {
   "cell_type": "markdown",
   "id": "9bc6c3fa",
   "metadata": {},
   "source": [
    "# Build forecast dataframe"
   ]
  },
  {
   "cell_type": "code",
   "execution_count": 7,
   "id": "b6eee257",
   "metadata": {
    "ExecuteTime": {
     "end_time": "2022-03-03T15:39:44.863161Z",
     "start_time": "2022-03-03T15:39:44.823671Z"
    }
   },
   "outputs": [],
   "source": [
    "idx = [1, 2, 3]"
   ]
  },
  {
   "cell_type": "code",
   "execution_count": 8,
   "id": "0ef6008d",
   "metadata": {
    "ExecuteTime": {
     "end_time": "2022-03-03T15:39:45.095231Z",
     "start_time": "2022-03-03T15:39:45.058076Z"
    }
   },
   "outputs": [],
   "source": [
    "sigma = pd.Series(index=idx, data=[0.05, 0.07, 0.08], name=\"volatility\")\n",
    "holdings = pd.Series(index=idx, data=[1000, 1500, -500], name=\"position\")\n",
    "predictions = pd.Series(index=idx, data=[0.05, 0.09, 0.03], name=\"prediction\")"
   ]
  },
  {
   "cell_type": "code",
   "execution_count": 9,
   "id": "e553e8ed",
   "metadata": {
    "ExecuteTime": {
     "end_time": "2022-03-03T15:39:45.347126Z",
     "start_time": "2022-03-03T15:39:45.302211Z"
    }
   },
   "outputs": [],
   "source": [
    "df = pd.concat([holdings, predictions, sigma], axis=1)"
   ]
  },
  {
   "cell_type": "code",
   "execution_count": 10,
   "id": "58351aae",
   "metadata": {
    "ExecuteTime": {
     "end_time": "2022-03-03T15:39:45.587249Z",
     "start_time": "2022-03-03T15:39:45.537005Z"
    }
   },
   "outputs": [],
   "source": [
    "df.index.name = \"asset_id\""
   ]
  },
  {
   "cell_type": "code",
   "execution_count": 11,
   "id": "1ff04e8f",
   "metadata": {
    "ExecuteTime": {
     "end_time": "2022-03-03T15:39:45.898719Z",
     "start_time": "2022-03-03T15:39:45.791462Z"
    }
   },
   "outputs": [
    {
     "data": {
      "text/html": [
       "<div>\n",
       "<style scoped>\n",
       "    .dataframe tbody tr th:only-of-type {\n",
       "        vertical-align: middle;\n",
       "    }\n",
       "\n",
       "    .dataframe tbody tr th {\n",
       "        vertical-align: top;\n",
       "    }\n",
       "\n",
       "    .dataframe thead th {\n",
       "        text-align: right;\n",
       "    }\n",
       "</style>\n",
       "<table border=\"1\" class=\"dataframe\">\n",
       "  <thead>\n",
       "    <tr style=\"text-align: right;\">\n",
       "      <th></th>\n",
       "      <th>position</th>\n",
       "      <th>prediction</th>\n",
       "      <th>volatility</th>\n",
       "    </tr>\n",
       "    <tr>\n",
       "      <th>asset_id</th>\n",
       "      <th></th>\n",
       "      <th></th>\n",
       "      <th></th>\n",
       "    </tr>\n",
       "  </thead>\n",
       "  <tbody>\n",
       "    <tr>\n",
       "      <th>1</th>\n",
       "      <td>1000</td>\n",
       "      <td>0.05</td>\n",
       "      <td>0.05</td>\n",
       "    </tr>\n",
       "    <tr>\n",
       "      <th>2</th>\n",
       "      <td>1500</td>\n",
       "      <td>0.09</td>\n",
       "      <td>0.07</td>\n",
       "    </tr>\n",
       "    <tr>\n",
       "      <th>3</th>\n",
       "      <td>-500</td>\n",
       "      <td>0.03</td>\n",
       "      <td>0.08</td>\n",
       "    </tr>\n",
       "  </tbody>\n",
       "</table>\n",
       "</div>"
      ],
      "text/plain": [
       "          position  prediction  volatility\n",
       "asset_id                                  \n",
       "1             1000        0.05        0.05\n",
       "2             1500        0.09        0.07\n",
       "3             -500        0.03        0.08"
      ]
     },
     "execution_count": 11,
     "metadata": {},
     "output_type": "execute_result"
    }
   ],
   "source": [
    "df"
   ]
  },
  {
   "cell_type": "code",
   "execution_count": 12,
   "id": "98262b02",
   "metadata": {
    "ExecuteTime": {
     "end_time": "2022-03-03T15:39:46.071096Z",
     "start_time": "2022-03-03T15:39:46.020201Z"
    }
   },
   "outputs": [],
   "source": [
    "df = df.reset_index()"
   ]
  },
  {
   "cell_type": "code",
   "execution_count": 13,
   "id": "d347522c",
   "metadata": {
    "ExecuteTime": {
     "end_time": "2022-03-03T15:39:46.347040Z",
     "start_time": "2022-03-03T15:39:46.275903Z"
    }
   },
   "outputs": [
    {
     "data": {
      "text/html": [
       "<div>\n",
       "<style scoped>\n",
       "    .dataframe tbody tr th:only-of-type {\n",
       "        vertical-align: middle;\n",
       "    }\n",
       "\n",
       "    .dataframe tbody tr th {\n",
       "        vertical-align: top;\n",
       "    }\n",
       "\n",
       "    .dataframe thead th {\n",
       "        text-align: right;\n",
       "    }\n",
       "</style>\n",
       "<table border=\"1\" class=\"dataframe\">\n",
       "  <thead>\n",
       "    <tr style=\"text-align: right;\">\n",
       "      <th></th>\n",
       "      <th>asset_id</th>\n",
       "      <th>position</th>\n",
       "      <th>prediction</th>\n",
       "      <th>volatility</th>\n",
       "    </tr>\n",
       "  </thead>\n",
       "  <tbody>\n",
       "    <tr>\n",
       "      <th>0</th>\n",
       "      <td>1</td>\n",
       "      <td>1000</td>\n",
       "      <td>0.05</td>\n",
       "      <td>0.05</td>\n",
       "    </tr>\n",
       "    <tr>\n",
       "      <th>1</th>\n",
       "      <td>2</td>\n",
       "      <td>1500</td>\n",
       "      <td>0.09</td>\n",
       "      <td>0.07</td>\n",
       "    </tr>\n",
       "    <tr>\n",
       "      <th>2</th>\n",
       "      <td>3</td>\n",
       "      <td>-500</td>\n",
       "      <td>0.03</td>\n",
       "      <td>0.08</td>\n",
       "    </tr>\n",
       "  </tbody>\n",
       "</table>\n",
       "</div>"
      ],
      "text/plain": [
       "   asset_id  position  prediction  volatility\n",
       "0         1      1000        0.05        0.05\n",
       "1         2      1500        0.09        0.07\n",
       "2         3      -500        0.03        0.08"
      ]
     },
     "execution_count": 13,
     "metadata": {},
     "output_type": "execute_result"
    }
   ],
   "source": [
    "df"
   ]
  },
  {
   "cell_type": "markdown",
   "id": "224c28e3",
   "metadata": {},
   "source": [
    "# Build optimizer config"
   ]
  },
  {
   "cell_type": "code",
   "execution_count": 14,
   "id": "87cd4624",
   "metadata": {
    "ExecuteTime": {
     "end_time": "2022-03-03T15:39:46.851734Z",
     "start_time": "2022-03-03T15:39:46.806424Z"
    }
   },
   "outputs": [],
   "source": [
    "dict_ = {\n",
    "        \"volatility_penalty\": 0.75,\n",
    "        \"dollar_neutrality_penalty\": 0.1,\n",
    "        \"turnover_penalty\": 0.0,\n",
    "        \"target_gmv\": 3000,\n",
    "        \"target_gmv_upper_bound_multiple\": 1.01,\n",
    "    }\n",
    "\n",
    "spo_config = cconfig.get_config_from_nested_dict(dict_)"
   ]
  },
  {
   "cell_type": "markdown",
   "id": "7d5cad9b",
   "metadata": {},
   "source": [
    "# Optimize"
   ]
  },
  {
   "cell_type": "code",
   "execution_count": 15,
   "id": "1f3f82db",
   "metadata": {
    "ExecuteTime": {
     "end_time": "2022-03-03T15:39:47.409402Z",
     "start_time": "2022-03-03T15:39:47.368000Z"
    }
   },
   "outputs": [],
   "source": [
    "spo = osipeopt.SinglePeriodOptimizer(spo_config, df)"
   ]
  },
  {
   "cell_type": "code",
   "execution_count": 16,
   "id": "2632cf89",
   "metadata": {
    "ExecuteTime": {
     "end_time": "2022-03-03T15:39:47.816333Z",
     "start_time": "2022-03-03T15:39:47.670709Z"
    }
   },
   "outputs": [
    {
     "name": "stdout",
     "output_type": "stream",
     "text": [
      "INFO  `optimal_value`=0.03\n"
     ]
    },
    {
     "data": {
      "text/html": [
       "<div>\n",
       "<style scoped>\n",
       "    .dataframe tbody tr th:only-of-type {\n",
       "        vertical-align: middle;\n",
       "    }\n",
       "\n",
       "    .dataframe tbody tr th {\n",
       "        vertical-align: top;\n",
       "    }\n",
       "\n",
       "    .dataframe thead th {\n",
       "        text-align: right;\n",
       "    }\n",
       "</style>\n",
       "<table border=\"1\" class=\"dataframe\">\n",
       "  <thead>\n",
       "    <tr style=\"text-align: right;\">\n",
       "      <th></th>\n",
       "      <th>target_positions</th>\n",
       "      <th>target_notional_trades</th>\n",
       "      <th>target_weights</th>\n",
       "      <th>target_weight_diffs</th>\n",
       "    </tr>\n",
       "    <tr>\n",
       "      <th>asset_id</th>\n",
       "      <th></th>\n",
       "      <th></th>\n",
       "      <th></th>\n",
       "      <th></th>\n",
       "    </tr>\n",
       "  </thead>\n",
       "  <tbody>\n",
       "    <tr>\n",
       "      <th>1</th>\n",
       "      <td>-2.445</td>\n",
       "      <td>-1002.445</td>\n",
       "      <td>-0.001</td>\n",
       "      <td>-0.334</td>\n",
       "    </tr>\n",
       "    <tr>\n",
       "      <th>2</th>\n",
       "      <td>1523.654</td>\n",
       "      <td>23.654</td>\n",
       "      <td>0.508</td>\n",
       "      <td>0.008</td>\n",
       "    </tr>\n",
       "    <tr>\n",
       "      <th>3</th>\n",
       "      <td>-1508.575</td>\n",
       "      <td>-1008.575</td>\n",
       "      <td>-0.503</td>\n",
       "      <td>-0.336</td>\n",
       "    </tr>\n",
       "  </tbody>\n",
       "</table>\n",
       "</div>"
      ],
      "text/plain": [
       "          target_positions  target_notional_trades  target_weights  \\\n",
       "asset_id                                                             \n",
       "1                   -2.445               -1002.445          -0.001   \n",
       "2                 1523.654                  23.654           0.508   \n",
       "3                -1508.575               -1008.575          -0.503   \n",
       "\n",
       "          target_weight_diffs  \n",
       "asset_id                       \n",
       "1                      -0.334  \n",
       "2                       0.008  \n",
       "3                      -0.336  "
      ]
     },
     "metadata": {},
     "output_type": "display_data"
    }
   ],
   "source": [
    "opt_results = spo.optimize()\n",
    "display(opt_results.round(3))"
   ]
  },
  {
   "cell_type": "code",
   "execution_count": 17,
   "id": "c2c2cc9b",
   "metadata": {
    "ExecuteTime": {
     "end_time": "2022-03-03T15:39:48.011327Z",
     "start_time": "2022-03-03T15:39:47.958866Z"
    }
   },
   "outputs": [
    {
     "data": {
      "text/html": [
       "<div>\n",
       "<style scoped>\n",
       "    .dataframe tbody tr th:only-of-type {\n",
       "        vertical-align: middle;\n",
       "    }\n",
       "\n",
       "    .dataframe tbody tr th {\n",
       "        vertical-align: top;\n",
       "    }\n",
       "\n",
       "    .dataframe thead th {\n",
       "        text-align: right;\n",
       "    }\n",
       "</style>\n",
       "<table border=\"1\" class=\"dataframe\">\n",
       "  <thead>\n",
       "    <tr style=\"text-align: right;\">\n",
       "      <th></th>\n",
       "      <th>notional</th>\n",
       "      <th>percentage</th>\n",
       "    </tr>\n",
       "  </thead>\n",
       "  <tbody>\n",
       "    <tr>\n",
       "      <th>gross_volume</th>\n",
       "      <td>2034.67360</td>\n",
       "      <td>0.678225</td>\n",
       "    </tr>\n",
       "    <tr>\n",
       "      <th>net_volume</th>\n",
       "      <td>-1987.36479</td>\n",
       "      <td>-0.662455</td>\n",
       "    </tr>\n",
       "    <tr>\n",
       "      <th>gmv</th>\n",
       "      <td>3034.67360</td>\n",
       "      <td>1.011558</td>\n",
       "    </tr>\n",
       "    <tr>\n",
       "      <th>nmv</th>\n",
       "      <td>12.63521</td>\n",
       "      <td>0.004212</td>\n",
       "    </tr>\n",
       "  </tbody>\n",
       "</table>\n",
       "</div>"
      ],
      "text/plain": [
       "                notional  percentage\n",
       "gross_volume  2034.67360    0.678225\n",
       "net_volume   -1987.36479   -0.662455\n",
       "gmv           3034.67360    1.011558\n",
       "nmv             12.63521    0.004212"
      ]
     },
     "execution_count": 17,
     "metadata": {},
     "output_type": "execute_result"
    }
   ],
   "source": [
    "spo.compute_stats(opt_results)"
   ]
  },
  {
   "cell_type": "code",
   "execution_count": 31,
   "id": "076b2ecb",
   "metadata": {
    "ExecuteTime": {
     "end_time": "2022-03-03T15:38:57.374474Z",
     "start_time": "2022-03-03T15:38:57.294188Z"
    }
   },
   "outputs": [
    {
     "ename": "AssertionError",
     "evalue": "",
     "output_type": "error",
     "traceback": [
      "\u001b[0;31m---------------------------------------------------------------------------\u001b[0m",
      "\u001b[0;31mAssertionError\u001b[0m                            Traceback (most recent call last)",
      "Input \u001b[0;32mIn [31]\u001b[0m, in \u001b[0;36m<cell line: 1>\u001b[0;34m()\u001b[0m\n\u001b[0;32m----> 1\u001b[0m \u001b[38;5;28;01massert\u001b[39;00m \u001b[38;5;241m0\u001b[39m\n",
      "\u001b[0;31mAssertionError\u001b[0m: "
     ]
    }
   ],
   "source": [
    "assert 0"
   ]
  },
  {
   "cell_type": "code",
   "execution_count": 32,
   "id": "0a3e31ea",
   "metadata": {
    "ExecuteTime": {
     "end_time": "2022-03-03T01:38:03.648422Z",
     "start_time": "2022-03-03T01:38:03.596637Z"
    }
   },
   "outputs": [],
   "source": [
    "df = pd.DataFrame(\n",
    "    [[0.000843, -0.001103, 0.001103, 24000],\n",
    "     [-0.000177, -0.000344, 0.000344, -17000],\n",
    "     [-0.000238, -0.000130, 0.000130, -90000]],\n",
    "    [101, 201, 301],\n",
    "    [\"prediction\", \"returns\", \"volatility\", \"position\"],\n",
    ")\n",
    "df.index.name = \"asset_id\"\n",
    "df = df.reset_index()"
   ]
  }
 ],
 "metadata": {
  "kernelspec": {
   "display_name": "Python 3 (ipykernel)",
   "language": "python",
   "name": "python3"
  },
  "language_info": {
   "codemirror_mode": {
    "name": "ipython",
    "version": 3
   },
   "file_extension": ".py",
   "mimetype": "text/x-python",
   "name": "python",
   "nbconvert_exporter": "python",
   "pygments_lexer": "ipython3",
   "version": "3.9.5"
  },
  "toc": {
   "base_numbering": 1,
   "nav_menu": {},
   "number_sections": true,
   "sideBar": true,
   "skip_h1_title": false,
   "title_cell": "Table of Contents",
   "title_sidebar": "Contents",
   "toc_cell": false,
   "toc_position": {},
   "toc_section_display": true,
   "toc_window_display": false
  }
 },
 "nbformat": 4,
 "nbformat_minor": 5
}
