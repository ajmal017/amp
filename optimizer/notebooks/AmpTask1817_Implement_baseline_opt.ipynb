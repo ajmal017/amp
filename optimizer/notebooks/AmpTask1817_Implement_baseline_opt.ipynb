{
 "cells": [
  {
   "cell_type": "code",
   "execution_count": 1,
   "id": "50e4f470",
   "metadata": {
    "ExecuteTime": {
     "end_time": "2021-11-12T19:35:31.862896Z",
     "start_time": "2021-11-12T19:35:31.828567Z"
    }
   },
   "outputs": [],
   "source": [
    "%load_ext autoreload\n",
    "%autoreload 2"
   ]
  },
  {
   "cell_type": "code",
   "execution_count": 2,
   "id": "451c8e6b",
   "metadata": {
    "ExecuteTime": {
     "end_time": "2021-11-12T19:35:34.059315Z",
     "start_time": "2021-11-12T19:35:31.866113Z"
    }
   },
   "outputs": [],
   "source": [
    "import io\n",
    "\n",
    "import pandas as pd\n",
    "\n",
    "import core.config as cconfig\n",
    "import optimizer.single_period_optimization as opspo"
   ]
  },
  {
   "cell_type": "code",
   "execution_count": 3,
   "id": "b6eee257",
   "metadata": {
    "ExecuteTime": {
     "end_time": "2021-11-12T19:35:34.087586Z",
     "start_time": "2021-11-12T19:35:34.062426Z"
    }
   },
   "outputs": [],
   "source": [
    "idx = [\"asset1\", \"asset2\", \"asset3\", \"cash\"]"
   ]
  },
  {
   "cell_type": "code",
   "execution_count": 4,
   "id": "0ef6008d",
   "metadata": {
    "ExecuteTime": {
     "end_time": "2021-11-12T19:35:34.128336Z",
     "start_time": "2021-11-12T19:35:34.092973Z"
    }
   },
   "outputs": [],
   "source": [
    "spread = pd.Series(index=idx, data=[0.01, 0.01, 0.01, 0.0], name=\"spread\")\n",
    "sigma = pd.Series(index=idx, data=[0.05, 0.07, 0.08, 0.0], name=\"sigma\")\n",
    "holdings = pd.Series(index=idx, data=[1000, 1500, -500, 1000], name=\"holdings\")\n",
    "predictions = pd.Series(index=idx, data=[0.05, 0.09, 0.03, 0], name=\"predictions\")"
   ]
  },
  {
   "cell_type": "code",
   "execution_count": 5,
   "id": "1ac1742f",
   "metadata": {
    "ExecuteTime": {
     "end_time": "2021-11-12T19:35:34.213240Z",
     "start_time": "2021-11-12T19:35:34.155801Z"
    }
   },
   "outputs": [],
   "source": [
    "out_buffer = io.StringIO()"
   ]
  },
  {
   "cell_type": "code",
   "execution_count": 6,
   "id": "87cd4624",
   "metadata": {
    "ExecuteTime": {
     "end_time": "2021-11-12T19:35:34.280629Z",
     "start_time": "2021-11-12T19:35:34.218059Z"
    }
   },
   "outputs": [],
   "source": [
    "dict_ = {\n",
    "    \"costs\": {\n",
    "        \"risk\": {\n",
    "            \"class\": \"DiagonalRiskModel\",\n",
    "            \"path\": io.StringIO(sigma.to_csv()),\n",
    "            \"gamma\": 1,\n",
    "        },\n",
    "        \"dollar_neutrality\": {\n",
    "            \"class\": \"DollarNeutralityCost\",\n",
    "            \"gamma\": 0.1,\n",
    "        },\n",
    "        \"spread\": {\n",
    "            \"class\": \"SpreadCost\",\n",
    "            \"path\": io.StringIO(spread.to_csv()),\n",
    "            \"gamma\": 0.1,\n",
    "        },\n",
    "        \"turnover\": {\n",
    "            \"class\": \"TurnoverCost\",\n",
    "            \"gamma\": 0.1,\n",
    "        },\n",
    "    },\n",
    "    \"constraints\": {\n",
    "        \"leverage\": {\n",
    "            \"class\": \"LeverageConstraint\",\n",
    "            \"leverage_bound\": 2,\n",
    "        },\n",
    "        \"concentration_bound\": {\n",
    "            \"class\": \"ConcentrationConstraint\",\n",
    "            \"concentration_bound\": 0.003,\n",
    "        },\n",
    "        \"dollar_neutrality\": {\n",
    "            \"class\": \"DollarNeutralityConstraint\",\n",
    "        },\n",
    "    },\n",
    "    \"holdings\": io.StringIO(holdings.to_csv()),\n",
    "    \"predictions\": io.StringIO(predictions.to_csv()),\n",
    "    \"result_path\": out_buffer,\n",
    "}\n",
    "\n",
    "spo_config = cconfig.get_config_from_nested_dict(dict_)"
   ]
  },
  {
   "cell_type": "code",
   "execution_count": 7,
   "id": "6cf4ece0",
   "metadata": {
    "ExecuteTime": {
     "end_time": "2021-11-12T19:35:34.430007Z",
     "start_time": "2021-11-12T19:35:34.285962Z"
    }
   },
   "outputs": [],
   "source": [
    "opspo.perform_single_period_optimization(spo_config)"
   ]
  },
  {
   "cell_type": "code",
   "execution_count": 8,
   "id": "103e1003",
   "metadata": {
    "ExecuteTime": {
     "end_time": "2021-11-12T19:35:34.533733Z",
     "start_time": "2021-11-12T19:35:34.434289Z"
    }
   },
   "outputs": [
    {
     "data": {
      "text/html": [
       "<div>\n",
       "<style scoped>\n",
       "    .dataframe tbody tr th:only-of-type {\n",
       "        vertical-align: middle;\n",
       "    }\n",
       "\n",
       "    .dataframe tbody tr th {\n",
       "        vertical-align: top;\n",
       "    }\n",
       "\n",
       "    .dataframe thead th {\n",
       "        text-align: right;\n",
       "    }\n",
       "</style>\n",
       "<table border=\"1\" class=\"dataframe\">\n",
       "  <thead>\n",
       "    <tr style=\"text-align: right;\">\n",
       "      <th></th>\n",
       "      <th>target_positions</th>\n",
       "      <th>target_trades</th>\n",
       "      <th>target_weights</th>\n",
       "      <th>target_weight_diffs</th>\n",
       "    </tr>\n",
       "  </thead>\n",
       "  <tbody>\n",
       "    <tr>\n",
       "      <th>asset1</th>\n",
       "      <td>0.120319</td>\n",
       "      <td>-999.879681</td>\n",
       "      <td>0.000040</td>\n",
       "      <td>-0.333293</td>\n",
       "    </tr>\n",
       "    <tr>\n",
       "      <th>asset2</th>\n",
       "      <td>8.958568</td>\n",
       "      <td>-1491.041432</td>\n",
       "      <td>0.002986</td>\n",
       "      <td>-0.497014</td>\n",
       "    </tr>\n",
       "    <tr>\n",
       "      <th>asset3</th>\n",
       "      <td>-9.078835</td>\n",
       "      <td>490.921165</td>\n",
       "      <td>-0.003026</td>\n",
       "      <td>0.163640</td>\n",
       "    </tr>\n",
       "    <tr>\n",
       "      <th>cash</th>\n",
       "      <td>2999.999948</td>\n",
       "      <td>1999.999948</td>\n",
       "      <td>1.000000</td>\n",
       "      <td>0.666667</td>\n",
       "    </tr>\n",
       "  </tbody>\n",
       "</table>\n",
       "</div>"
      ],
      "text/plain": [
       "        target_positions  target_trades  target_weights  target_weight_diffs\n",
       "asset1          0.120319    -999.879681        0.000040            -0.333293\n",
       "asset2          8.958568   -1491.041432        0.002986            -0.497014\n",
       "asset3         -9.078835     490.921165       -0.003026             0.163640\n",
       "cash         2999.999948    1999.999948        1.000000             0.666667"
      ]
     },
     "execution_count": 8,
     "metadata": {},
     "output_type": "execute_result"
    }
   ],
   "source": [
    "pd.read_csv(io.StringIO(out_buffer.getvalue()), index_col=0)"
   ]
  },
  {
   "cell_type": "code",
   "execution_count": null,
   "id": "301bebe3",
   "metadata": {},
   "outputs": [],
   "source": []
  }
 ],
 "metadata": {
  "jupytext": {
   "text_representation": {
    "extension": ".py",
    "format_name": "percent",
    "format_version": "1.3",
    "jupytext_version": "1.13.1"
   }
  },
  "kernelspec": {
   "display_name": "Python 3 (ipykernel)",
   "language": "python",
   "name": "python3"
  },
  "language_info": {
   "codemirror_mode": {
    "name": "ipython",
    "version": 3
   },
   "file_extension": ".py",
   "mimetype": "text/x-python",
   "name": "python",
   "nbconvert_exporter": "python",
   "pygments_lexer": "ipython3",
   "version": "3.8.10"
  },
  "toc": {
   "base_numbering": 1,
   "nav_menu": {},
   "number_sections": true,
   "sideBar": true,
   "skip_h1_title": false,
   "title_cell": "Table of Contents",
   "title_sidebar": "Contents",
   "toc_cell": false,
   "toc_position": {},
   "toc_section_display": true,
   "toc_window_display": false
  }
 },
 "nbformat": 4,
 "nbformat_minor": 5
}
