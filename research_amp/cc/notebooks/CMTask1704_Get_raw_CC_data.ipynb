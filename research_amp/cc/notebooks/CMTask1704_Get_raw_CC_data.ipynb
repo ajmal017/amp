{
 "cells": [
  {
   "cell_type": "markdown",
   "id": "58d76abe",
   "metadata": {},
   "source": [
    "# Imports"
   ]
  },
  {
   "cell_type": "code",
   "execution_count": 1,
   "id": "90d2298b",
   "metadata": {
    "ExecuteTime": {
     "end_time": "2022-04-25T10:53:02.940850Z",
     "start_time": "2022-04-25T10:52:58.836455Z"
    }
   },
   "outputs": [
    {
     "name": "stderr",
     "output_type": "stream",
     "text": [
      "/app/dataflow/core/dag.py:15: TqdmExperimentalWarning: Using `tqdm.autonotebook.tqdm` in notebook mode. Use `tqdm.tqdm` instead to force console mode (e.g. in jupyter console)\n",
      "  from tqdm.autonotebook import tqdm\n"
     ]
    },
    {
     "name": "stdout",
     "output_type": "stream",
     "text": [
      "\u001b[0m\u001b[36mINFO\u001b[0m: > cmd='/venv/lib/python3.8/site-packages/ipykernel_launcher.py -f /home/.local/share/jupyter/runtime/kernel-5a4dea30-870b-4687-aa91-561b43f2236d.json'\n",
      "WARNING: Running in Jupyter\n"
     ]
    }
   ],
   "source": [
    "import logging\n",
    "import os\n",
    "\n",
    "import pandas as pd\n",
    "\n",
    "import core.config.config_ as cconconf\n",
    "import core.finance as cofinanc\n",
    "import dataflow.core as dtfcore\n",
    "import dataflow.system.source_nodes as dtfsysonod\n",
    "import helpers.hdbg as hdbg\n",
    "import helpers.hprint as hprint\n",
    "import helpers.hsql as hsql\n",
    "import im_v2.ccxt.data.client as icdcl\n",
    "import im_v2.im_lib_tasks as imvimlita\n",
    "\n",
    "import im_v2.talos.data.client.talos_clients as imvtdctacl"
   ]
  },
  {
   "cell_type": "code",
   "execution_count": 2,
   "id": "feb220a4",
   "metadata": {
    "ExecuteTime": {
     "end_time": "2022-04-25T10:53:02.956933Z",
     "start_time": "2022-04-25T10:53:02.943738Z"
    },
    "scrolled": true
   },
   "outputs": [
    {
     "name": "stdout",
     "output_type": "stream",
     "text": [
      "\u001b[0m\u001b[33mWARNING\u001b[0m: Logger already initialized: skipping\n",
      "\u001b[33mWARNING\u001b[0m: Disabling annoying warnings\n"
     ]
    },
    {
     "name": "stderr",
     "output_type": "stream",
     "text": [
      "  File \"/usr/lib/python3.8/runpy.py\", line 194, in _run_module_as_main\n",
      "    return _run_code(code, main_globals, None,\n",
      "  File \"/usr/lib/python3.8/runpy.py\", line 87, in _run_code\n",
      "    exec(code, run_globals)\n",
      "  File \"/venv/lib/python3.8/site-packages/ipykernel_launcher.py\", line 16, in <module>\n",
      "    app.launch_new_instance()\n",
      "  File \"/venv/lib/python3.8/site-packages/traitlets/config/application.py\", line 846, in launch_instance\n",
      "    app.start()\n",
      "  File \"/venv/lib/python3.8/site-packages/ipykernel/kernelapp.py\", line 677, in start\n",
      "    self.io_loop.start()\n",
      "  File \"/venv/lib/python3.8/site-packages/tornado/platform/asyncio.py\", line 199, in start\n",
      "    self.asyncio_loop.run_forever()\n",
      "  File \"/usr/lib/python3.8/asyncio/base_events.py\", line 570, in run_forever\n",
      "    self._run_once()\n",
      "  File \"/usr/lib/python3.8/asyncio/base_events.py\", line 1859, in _run_once\n",
      "    handle._run()\n",
      "  File \"/usr/lib/python3.8/asyncio/events.py\", line 81, in _run\n",
      "    self._context.run(self._callback, *self._args)\n",
      "  File \"/venv/lib/python3.8/site-packages/ipykernel/kernelbase.py\", line 461, in dispatch_queue\n",
      "    await self.process_one()\n",
      "  File \"/venv/lib/python3.8/site-packages/ipykernel/kernelbase.py\", line 450, in process_one\n",
      "    await dispatch(*args)\n",
      "  File \"/venv/lib/python3.8/site-packages/ipykernel/kernelbase.py\", line 357, in dispatch_shell\n",
      "    await result\n",
      "  File \"/venv/lib/python3.8/site-packages/ipykernel/kernelbase.py\", line 652, in execute_request\n",
      "    reply_content = await reply_content\n",
      "  File \"/venv/lib/python3.8/site-packages/ipykernel/ipkernel.py\", line 359, in do_execute\n",
      "    res = shell.run_cell(code, store_history=store_history, silent=silent)\n",
      "  File \"/venv/lib/python3.8/site-packages/ipykernel/zmqshell.py\", line 532, in run_cell\n",
      "    return super().run_cell(*args, **kwargs)\n",
      "  File \"/venv/lib/python3.8/site-packages/IPython/core/interactiveshell.py\", line 2768, in run_cell\n",
      "    result = self._run_cell(\n",
      "  File \"/venv/lib/python3.8/site-packages/IPython/core/interactiveshell.py\", line 2814, in _run_cell\n",
      "    return runner(coro)\n",
      "  File \"/venv/lib/python3.8/site-packages/IPython/core/async_helpers.py\", line 129, in _pseudo_sync_runner\n",
      "    coro.send(None)\n",
      "  File \"/venv/lib/python3.8/site-packages/IPython/core/interactiveshell.py\", line 3012, in run_cell_async\n",
      "    has_raised = await self.run_ast_nodes(code_ast.body, cell_name,\n",
      "  File \"/venv/lib/python3.8/site-packages/IPython/core/interactiveshell.py\", line 3191, in run_ast_nodes\n",
      "    if await self.run_code(code, result, async_=asy):\n",
      "  File \"/venv/lib/python3.8/site-packages/IPython/core/interactiveshell.py\", line 3251, in run_code\n",
      "    exec(code_obj, self.user_global_ns, self.user_ns)\n",
      "  File \"/tmp/ipykernel_1273/1291696270.py\", line 1, in <module>\n",
      "    hdbg.init_logger(verbosity=logging.INFO)\n",
      "  File \"/app/helpers/hdbg.py\", line 823, in init_logger\n",
      "    traceback.print_stack()\n"
     ]
    }
   ],
   "source": [
    "hdbg.init_logger(verbosity=logging.INFO)\n",
    "\n",
    "_LOG = logging.getLogger(__name__)\n",
    "\n",
    "hprint.config_notebook()"
   ]
  },
  {
   "cell_type": "markdown",
   "id": "eea446ce",
   "metadata": {},
   "source": [
    "# Config"
   ]
  },
  {
   "cell_type": "code",
   "execution_count": 3,
   "id": "3f0680e4",
   "metadata": {
    "ExecuteTime": {
     "end_time": "2022-04-25T10:53:02.968902Z",
     "start_time": "2022-04-25T10:53:02.958806Z"
    }
   },
   "outputs": [],
   "source": [
    "def get_cmtask1704_config_ccxt() -> cconconf.Config:\n",
    "    \"\"\"\n",
    "    Get config, that specifies params for getting raw data.\n",
    "    \"\"\"\n",
    "    config = cconconf.Config()\n",
    "    # Load parameters.\n",
    "    config.add_subconfig(\"load\")\n",
    "    env_file = imvimlita.get_db_env_path(\"dev\")\n",
    "    connection_params = hsql.get_connection_info_from_env_file(env_file)\n",
    "    config[\"load\"][\"connection\"] = hsql.get_connection(*connection_params)\n",
    "    config[\"load\"][\"aws_profile\"] = \"ck\"\n",
    "    config[\"load\"][\"data_dir_hist\"] = os.path.join(\n",
    "        \"s3://cryptokaizen-data\", \"historical\"\n",
    "    )\n",
    "    config[\"load\"][\"data_snapshot\"] = \"latest\"\n",
    "    config[\"load\"][\"partition_mode\"] = \"by_year_month\"\n",
    "    # Data parameters.\n",
    "    config.add_subconfig(\"data\")\n",
    "    config[\"data\"][\"vendor\"] = \"CCXT\"\n",
    "    # Data range for real-time data.\n",
    "    config[\"data\"][\"start_date_rt\"] = pd.Timestamp(\"2022-04-01\", tz=\"UTC\")\n",
    "    config[\"data\"][\"end_date_rt\"] = pd.Timestamp(\"2022-04-15\", tz=\"UTC\")\n",
    "    # Data range for historical data.\n",
    "    config[\"data\"][\"start_date_hist\"] = pd.Timestamp(\"2022-01-01\", tz=\"UTC\")\n",
    "    config[\"data\"][\"end_date_hist\"] = pd.Timestamp(\"2022-01-15\", tz=\"UTC\")\n",
    "    # Transformation parameters.\n",
    "    config.add_subconfig(\"transform\")\n",
    "    config[\"transform\"][\"resampling_rule\"] = \"5T\"\n",
    "    config[\"transform\"][\"rets_type\"] = \"pct_change\"\n",
    "    return config"
   ]
  },
  {
   "cell_type": "code",
   "execution_count": 4,
   "id": "58dae195",
   "metadata": {
    "ExecuteTime": {
     "end_time": "2022-04-25T10:53:03.193792Z",
     "start_time": "2022-04-25T10:53:02.971559Z"
    }
   },
   "outputs": [
    {
     "name": "stdout",
     "output_type": "stream",
     "text": [
      "load:\n",
      "  connection: <connection object; dsn: 'user=postgres password=xxx dbname=im_data_db host=dev-im-db.cpox8ul7pzan.eu-north-1.rds.amazonaws.com port=5432', closed: 0>\n",
      "  aws_profile: ck\n",
      "  data_dir_hist: s3://cryptokaizen-data/historical\n",
      "  data_snapshot: latest\n",
      "  partition_mode: by_year_month\n",
      "data:\n",
      "  vendor: CCXT\n",
      "  start_date_rt: 2022-04-01 00:00:00+00:00\n",
      "  end_date_rt: 2022-04-15 00:00:00+00:00\n",
      "  start_date_hist: 2022-01-01 00:00:00+00:00\n",
      "  end_date_hist: 2022-01-15 00:00:00+00:00\n",
      "transform:\n",
      "  resampling_rule: 5T\n",
      "  rets_type: pct_change\n"
     ]
    }
   ],
   "source": [
    "config = get_cmtask1704_config_ccxt()\n",
    "print(config)"
   ]
  },
  {
   "cell_type": "markdown",
   "id": "4d9eef66",
   "metadata": {},
   "source": [
    "# Functions"
   ]
  },
  {
   "cell_type": "code",
   "execution_count": 5,
   "id": "340a263b",
   "metadata": {
    "ExecuteTime": {
     "end_time": "2022-04-25T10:53:03.204601Z",
     "start_time": "2022-04-25T10:53:03.196406Z"
    }
   },
   "outputs": [],
   "source": [
    "def calculate_vwap_twap(df: pd.DataFrame, resampling_rule: str) -> pd.DataFrame:\n",
    "    \"\"\"\n",
    "    Resample the data and calculate VWAP, TWAP using DataFlow methods.\n",
    "\n",
    "    :param df: Raw data\n",
    "    :param resampling_rule: Desired resampling frequency\n",
    "    :return: Resampled multiindex DataFrame with computed metrics\n",
    "    \"\"\"\n",
    "    # Configure the node to do the TWAP / VWAP resampling.\n",
    "    node_resampling_config = {\n",
    "        \"in_col_groups\": [\n",
    "            (\"close\",),\n",
    "            (\"volume\",),\n",
    "        ],\n",
    "        \"out_col_group\": (),\n",
    "        \"transformer_kwargs\": {\n",
    "            \"rule\": resampling_rule,\n",
    "            \"resampling_groups\": [\n",
    "                ({\"close\": \"close\"}, \"last\", {}),\n",
    "                (\n",
    "                    {\n",
    "                        \"close\": \"twap\",\n",
    "                    },\n",
    "                    \"mean\",\n",
    "                    {},\n",
    "                ),\n",
    "                (\n",
    "                    {\n",
    "                        \"volume\": \"volume\",\n",
    "                    },\n",
    "                    \"sum\",\n",
    "                    {\"min_count\": 1},\n",
    "                ),\n",
    "            ],\n",
    "            \"vwap_groups\": [\n",
    "                (\"close\", \"volume\", \"vwap\"),\n",
    "            ],\n",
    "        },\n",
    "        \"reindex_like_input\": False,\n",
    "        \"join_output_with_input\": False,\n",
    "    }\n",
    "    # Put the data in the DataFlow format (which is multi-index).\n",
    "    converted_data = dtfsysonod._convert_to_multiindex(df, \"full_symbol\")\n",
    "    # Create the node.\n",
    "    nid = \"resample\"\n",
    "    node = dtfcore.GroupedColDfToDfTransformer(\n",
    "        nid,\n",
    "        transformer_func=cofinanc.resample_bars,\n",
    "        **node_resampling_config,\n",
    "    )\n",
    "    # Compute the node on the data.\n",
    "    vwap_twap = node.fit(converted_data)\n",
    "    # Save the result.\n",
    "    vwap_twap_df = vwap_twap[\"df_out\"]\n",
    "    return vwap_twap_df"
   ]
  },
  {
   "cell_type": "code",
   "execution_count": 6,
   "id": "47f306bb",
   "metadata": {
    "ExecuteTime": {
     "end_time": "2022-04-25T10:53:03.212132Z",
     "start_time": "2022-04-25T10:53:03.206613Z"
    }
   },
   "outputs": [],
   "source": [
    "def calculate_returns(df: pd.DataFrame, rets_type: str) -> pd.DataFrame:\n",
    "    \"\"\"\n",
    "    Compute returns on the resampled data DataFlow-style.\n",
    "\n",
    "    :param df: Resampled multiindex DataFrame\n",
    "    :param rets_type: i.e., \"log_rets\" or \"pct_change\"\n",
    "    :return: The same DataFrame but with attached columns with returns\n",
    "    \"\"\"\n",
    "    # Configure the node to calculate the returns.\n",
    "    node_returns_config = {\n",
    "        \"in_col_groups\": [\n",
    "            (\"close\",),\n",
    "            (\"vwap\",),\n",
    "            (\"twap\",),\n",
    "        ],\n",
    "        \"out_col_group\": (),\n",
    "        \"transformer_kwargs\": {\n",
    "            \"mode\": rets_type,\n",
    "        },\n",
    "        \"col_mapping\": {\n",
    "            \"close\": \"close.ret_0\",\n",
    "            \"vwap\": \"vwap.ret_0\",\n",
    "            \"twap\": \"twap.ret_0\",\n",
    "        },\n",
    "    }\n",
    "    # Create the node that computes ret_0.\n",
    "    nid = \"ret0\"\n",
    "    node = dtfcore.GroupedColDfToDfTransformer(\n",
    "        nid,\n",
    "        transformer_func=cofinanc.compute_ret_0,\n",
    "        **node_returns_config,\n",
    "    )\n",
    "    # Compute the node on the data.\n",
    "    rets = node.fit(df)\n",
    "    # Save the result.\n",
    "    rets_df = rets[\"df_out\"]\n",
    "    return rets_df"
   ]
  },
  {
   "cell_type": "markdown",
   "id": "9b068ea0",
   "metadata": {},
   "source": [
    "# Load the data"
   ]
  },
  {
   "cell_type": "markdown",
   "id": "e277d53a",
   "metadata": {},
   "source": [
    "## CCXT"
   ]
  },
  {
   "cell_type": "markdown",
   "id": "53c93b8a",
   "metadata": {},
   "source": [
    "### Real-time"
   ]
  },
  {
   "cell_type": "code",
   "execution_count": 7,
   "id": "635e3592",
   "metadata": {
    "ExecuteTime": {
     "end_time": "2022-04-25T10:53:03.220786Z",
     "start_time": "2022-04-25T10:53:03.214580Z"
    }
   },
   "outputs": [],
   "source": [
    "# Specify params.\n",
    "vendor = config[\"data\"][\"vendor\"]\n",
    "resample_1min = True\n",
    "connection = config[\"load\"][\"connection\"]\n",
    "# Initiate the client.\n",
    "ccxt_rt_client = icdcl.CcxtCddDbClient(vendor, resample_1min, connection)"
   ]
  },
  {
   "cell_type": "markdown",
   "id": "356fa832",
   "metadata": {},
   "source": [
    "#### Universe"
   ]
  },
  {
   "cell_type": "code",
   "execution_count": 8,
   "id": "9071c99b",
   "metadata": {
    "ExecuteTime": {
     "end_time": "2022-04-25T10:53:03.228753Z",
     "start_time": "2022-04-25T10:53:03.222341Z"
    }
   },
   "outputs": [
    {
     "data": {
      "text/plain": [
       "38"
      ]
     },
     "execution_count": 8,
     "metadata": {},
     "output_type": "execute_result"
    }
   ],
   "source": [
    "# Specify the universe.\n",
    "rt_universe_ccxt = ccxt_rt_client.get_universe()\n",
    "len(rt_universe_ccxt)"
   ]
  },
  {
   "cell_type": "code",
   "execution_count": 9,
   "id": "832524d5",
   "metadata": {
    "ExecuteTime": {
     "end_time": "2022-04-25T10:53:03.235000Z",
     "start_time": "2022-04-25T10:53:03.230220Z"
    }
   },
   "outputs": [
    {
     "data": {
      "text/plain": [
       "['binance::ADA_USDT', 'binance::AVAX_USDT']"
      ]
     },
     "execution_count": 9,
     "metadata": {},
     "output_type": "execute_result"
    }
   ],
   "source": [
    "# Choose cc for analysis.\n",
    "full_symbols = rt_universe_ccxt[0:2]\n",
    "full_symbols"
   ]
  },
  {
   "cell_type": "markdown",
   "id": "76838ec6",
   "metadata": {},
   "source": [
    "#### Data Loader"
   ]
  },
  {
   "cell_type": "code",
   "execution_count": 10,
   "id": "7151263b",
   "metadata": {
    "ExecuteTime": {
     "end_time": "2022-04-25T10:53:04.563952Z",
     "start_time": "2022-04-25T10:53:03.238409Z"
    },
    "scrolled": true
   },
   "outputs": [
    {
     "name": "stderr",
     "output_type": "stream",
     "text": [
      "/venv/lib/python3.8/site-packages/pandas/io/sql.py:761: UserWarning: pandas only support SQLAlchemy connectable(engine/connection) ordatabase string URI or sqlite3 DBAPI2 connectionother DBAPI2 objects are not tested, please consider using SQLAlchemy\n",
      "  warnings.warn(\n",
      "/venv/lib/python3.8/site-packages/pandas/io/sql.py:761: UserWarning: pandas only support SQLAlchemy connectable(engine/connection) ordatabase string URI or sqlite3 DBAPI2 connectionother DBAPI2 objects are not tested, please consider using SQLAlchemy\n",
      "  warnings.warn(\n"
     ]
    },
    {
     "data": {
      "text/plain": [
       "(40322, 6)"
      ]
     },
     "metadata": {},
     "output_type": "display_data"
    },
    {
     "data": {
      "text/html": [
       "<div>\n",
       "<style scoped>\n",
       "    .dataframe tbody tr th:only-of-type {\n",
       "        vertical-align: middle;\n",
       "    }\n",
       "\n",
       "    .dataframe tbody tr th {\n",
       "        vertical-align: top;\n",
       "    }\n",
       "\n",
       "    .dataframe thead th {\n",
       "        text-align: right;\n",
       "    }\n",
       "</style>\n",
       "<table border=\"1\" class=\"dataframe\">\n",
       "  <thead>\n",
       "    <tr style=\"text-align: right;\">\n",
       "      <th></th>\n",
       "      <th>full_symbol</th>\n",
       "      <th>open</th>\n",
       "      <th>high</th>\n",
       "      <th>low</th>\n",
       "      <th>close</th>\n",
       "      <th>volume</th>\n",
       "    </tr>\n",
       "    <tr>\n",
       "      <th>timestamp</th>\n",
       "      <th></th>\n",
       "      <th></th>\n",
       "      <th></th>\n",
       "      <th></th>\n",
       "      <th></th>\n",
       "      <th></th>\n",
       "    </tr>\n",
       "  </thead>\n",
       "  <tbody>\n",
       "    <tr>\n",
       "      <th>2022-04-01 00:00:00+00:00</th>\n",
       "      <td>binance::ADA_USDT</td>\n",
       "      <td>1.141</td>\n",
       "      <td>1.144</td>\n",
       "      <td>1.141</td>\n",
       "      <td>1.141</td>\n",
       "      <td>258996.40</td>\n",
       "    </tr>\n",
       "    <tr>\n",
       "      <th>2022-04-01 00:00:00+00:00</th>\n",
       "      <td>binance::AVAX_USDT</td>\n",
       "      <td>97.430</td>\n",
       "      <td>97.750</td>\n",
       "      <td>97.300</td>\n",
       "      <td>97.380</td>\n",
       "      <td>8115.09</td>\n",
       "    </tr>\n",
       "    <tr>\n",
       "      <th>2022-04-01 00:01:00+00:00</th>\n",
       "      <td>binance::ADA_USDT</td>\n",
       "      <td>1.140</td>\n",
       "      <td>1.142</td>\n",
       "      <td>1.137</td>\n",
       "      <td>1.138</td>\n",
       "      <td>96911.50</td>\n",
       "    </tr>\n",
       "  </tbody>\n",
       "</table>\n",
       "</div>"
      ],
      "text/plain": [
       "                                  full_symbol    open    high     low   close     volume\n",
       "timestamp                                                                               \n",
       "2022-04-01 00:00:00+00:00   binance::ADA_USDT   1.141   1.144   1.141   1.141  258996.40\n",
       "2022-04-01 00:00:00+00:00  binance::AVAX_USDT  97.430  97.750  97.300  97.380    8115.09\n",
       "2022-04-01 00:01:00+00:00   binance::ADA_USDT   1.140   1.142   1.137   1.138   96911.50"
      ]
     },
     "metadata": {},
     "output_type": "display_data"
    }
   ],
   "source": [
    "# Specify time period.\n",
    "start_date = config[\"data\"][\"start_date_rt\"]\n",
    "end_date = config[\"data\"][\"end_date_rt\"]\n",
    "\n",
    "# Load the data.\n",
    "data_rt_ccxt = ccxt_rt_client.read_data(full_symbols, start_date, end_date)\n",
    "display(data_rt_ccxt.shape)\n",
    "display(data_rt_ccxt.head(3))"
   ]
  },
  {
   "cell_type": "markdown",
   "id": "484e253a",
   "metadata": {},
   "source": [
    "### Historical"
   ]
  },
  {
   "cell_type": "code",
   "execution_count": 11,
   "id": "0ce8e4bf",
   "metadata": {
    "ExecuteTime": {
     "end_time": "2022-04-25T10:53:04.571594Z",
     "start_time": "2022-04-25T10:53:04.566409Z"
    }
   },
   "outputs": [],
   "source": [
    "# Specify params.\n",
    "resample_1min = True\n",
    "root_dir = config[\"load\"][\"data_dir_hist\"]\n",
    "partition_mode = config[\"load\"][\"partition_mode\"]\n",
    "data_snapshot = config[\"load\"][\"data_snapshot\"]\n",
    "aws_profile = config[\"load\"][\"aws_profile\"]\n",
    "\n",
    "# Initiate the client.\n",
    "historical_client_ccxt = icdcl.CcxtHistoricalPqByTileClient(\n",
    "    resample_1min,\n",
    "    root_dir,\n",
    "    partition_mode,\n",
    "    data_snapshot=data_snapshot,\n",
    "    aws_profile=aws_profile,\n",
    ")"
   ]
  },
  {
   "cell_type": "markdown",
   "id": "b88e66e0",
   "metadata": {},
   "source": [
    "#### Universe"
   ]
  },
  {
   "cell_type": "code",
   "execution_count": 12,
   "id": "b5bb1a7f",
   "metadata": {
    "ExecuteTime": {
     "end_time": "2022-04-25T10:53:04.579678Z",
     "start_time": "2022-04-25T10:53:04.573680Z"
    }
   },
   "outputs": [
    {
     "data": {
      "text/plain": [
       "38"
      ]
     },
     "execution_count": 12,
     "metadata": {},
     "output_type": "execute_result"
    }
   ],
   "source": [
    "# Specify the universe.\n",
    "historical_universe = historical_client_ccxt.get_universe()\n",
    "len(historical_universe)"
   ]
  },
  {
   "cell_type": "code",
   "execution_count": 13,
   "id": "a68ba551",
   "metadata": {
    "ExecuteTime": {
     "end_time": "2022-04-25T10:53:04.589684Z",
     "start_time": "2022-04-25T10:53:04.582932Z"
    }
   },
   "outputs": [
    {
     "data": {
      "text/plain": [
       "['binance::ADA_USDT', 'binance::AVAX_USDT']"
      ]
     },
     "execution_count": 13,
     "metadata": {},
     "output_type": "execute_result"
    }
   ],
   "source": [
    "# Choose cc for analysis.\n",
    "full_symbols = historical_universe[0:2]\n",
    "full_symbols"
   ]
  },
  {
   "cell_type": "markdown",
   "id": "4b0589b9",
   "metadata": {},
   "source": [
    "#### Data Loader"
   ]
  },
  {
   "cell_type": "code",
   "execution_count": 14,
   "id": "61fcaa63",
   "metadata": {
    "ExecuteTime": {
     "end_time": "2022-04-25T10:53:06.822508Z",
     "start_time": "2022-04-25T10:53:04.591704Z"
    },
    "scrolled": true
   },
   "outputs": [
    {
     "data": {
      "text/plain": [
       "(40322, 6)"
      ]
     },
     "metadata": {},
     "output_type": "display_data"
    },
    {
     "data": {
      "text/html": [
       "<div>\n",
       "<style scoped>\n",
       "    .dataframe tbody tr th:only-of-type {\n",
       "        vertical-align: middle;\n",
       "    }\n",
       "\n",
       "    .dataframe tbody tr th {\n",
       "        vertical-align: top;\n",
       "    }\n",
       "\n",
       "    .dataframe thead th {\n",
       "        text-align: right;\n",
       "    }\n",
       "</style>\n",
       "<table border=\"1\" class=\"dataframe\">\n",
       "  <thead>\n",
       "    <tr style=\"text-align: right;\">\n",
       "      <th></th>\n",
       "      <th>full_symbol</th>\n",
       "      <th>open</th>\n",
       "      <th>high</th>\n",
       "      <th>low</th>\n",
       "      <th>close</th>\n",
       "      <th>volume</th>\n",
       "    </tr>\n",
       "    <tr>\n",
       "      <th>timestamp</th>\n",
       "      <th></th>\n",
       "      <th></th>\n",
       "      <th></th>\n",
       "      <th></th>\n",
       "      <th></th>\n",
       "      <th></th>\n",
       "    </tr>\n",
       "  </thead>\n",
       "  <tbody>\n",
       "    <tr>\n",
       "      <th>2022-01-01 00:00:00+00:00</th>\n",
       "      <td>binance::ADA_USDT</td>\n",
       "      <td>1.308</td>\n",
       "      <td>1.310</td>\n",
       "      <td>1.307</td>\n",
       "      <td>1.310</td>\n",
       "      <td>98266.80</td>\n",
       "    </tr>\n",
       "    <tr>\n",
       "      <th>2022-01-01 00:00:00+00:00</th>\n",
       "      <td>binance::AVAX_USDT</td>\n",
       "      <td>109.430</td>\n",
       "      <td>109.880</td>\n",
       "      <td>109.420</td>\n",
       "      <td>109.720</td>\n",
       "      <td>1560.17</td>\n",
       "    </tr>\n",
       "    <tr>\n",
       "      <th>2022-01-01 00:01:00+00:00</th>\n",
       "      <td>binance::ADA_USDT</td>\n",
       "      <td>1.310</td>\n",
       "      <td>1.314</td>\n",
       "      <td>1.308</td>\n",
       "      <td>1.312</td>\n",
       "      <td>132189.40</td>\n",
       "    </tr>\n",
       "  </tbody>\n",
       "</table>\n",
       "</div>"
      ],
      "text/plain": [
       "                                  full_symbol     open     high      low    close     volume\n",
       "timestamp                                                                                   \n",
       "2022-01-01 00:00:00+00:00   binance::ADA_USDT    1.308    1.310    1.307    1.310   98266.80\n",
       "2022-01-01 00:00:00+00:00  binance::AVAX_USDT  109.430  109.880  109.420  109.720    1560.17\n",
       "2022-01-01 00:01:00+00:00   binance::ADA_USDT    1.310    1.314    1.308    1.312  132189.40"
      ]
     },
     "metadata": {},
     "output_type": "display_data"
    }
   ],
   "source": [
    "# Specify time period.\n",
    "start_date = config[\"data\"][\"start_date_hist\"]\n",
    "end_date = config[\"data\"][\"end_date_hist\"]\n",
    "\n",
    "# Load the data.\n",
    "data_hist_ccxt = historical_client_ccxt.read_data(full_symbols, start_date, end_date)\n",
    "display(data_hist_ccxt.shape)\n",
    "display(data_hist_ccxt.head(3))"
   ]
  },
  {
   "cell_type": "markdown",
   "id": "d1b368db",
   "metadata": {},
   "source": [
    "## Talos"
   ]
  },
  {
   "cell_type": "markdown",
   "id": "35ae20bb",
   "metadata": {},
   "source": [
    "### Real-time"
   ]
  },
  {
   "cell_type": "code",
   "execution_count": 15,
   "id": "8e0645ca",
   "metadata": {
    "ExecuteTime": {
     "end_time": "2022-04-25T10:53:07.062900Z",
     "start_time": "2022-04-25T10:53:06.825571Z"
    }
   },
   "outputs": [
    {
     "name": "stderr",
     "output_type": "stream",
     "text": [
      "/venv/lib/python3.8/site-packages/pandas/io/sql.py:761: UserWarning: pandas only support SQLAlchemy connectable(engine/connection) ordatabase string URI or sqlite3 DBAPI2 connectionother DBAPI2 objects are not tested, please consider using SQLAlchemy\n",
      "  warnings.warn(\n"
     ]
    }
   ],
   "source": [
    "# Specify params.\n",
    "resample_1min = True\n",
    "db_connection = config[\"load\"][\"connection\"]\n",
    "table_name = \"talos_ohlcv\"\n",
    "\n",
    "talos_rt_client = imvtdctacl.RealTimeSqlTalosClient(\n",
    "resample_1min,\n",
    "db_connection,\n",
    "table_name)"
   ]
  },
  {
   "cell_type": "markdown",
   "id": "44840516",
   "metadata": {},
   "source": [
    "#### Universe"
   ]
  },
  {
   "cell_type": "code",
   "execution_count": 16,
   "id": "a502b26d",
   "metadata": {
    "ExecuteTime": {
     "end_time": "2022-04-25T10:53:07.274589Z",
     "start_time": "2022-04-25T10:53:07.066359Z"
    }
   },
   "outputs": [
    {
     "name": "stderr",
     "output_type": "stream",
     "text": [
      "/venv/lib/python3.8/site-packages/pandas/io/sql.py:761: UserWarning: pandas only support SQLAlchemy connectable(engine/connection) ordatabase string URI or sqlite3 DBAPI2 connectionother DBAPI2 objects are not tested, please consider using SQLAlchemy\n",
      "  warnings.warn(\n"
     ]
    },
    {
     "data": {
      "text/plain": [
       "16"
      ]
     },
     "execution_count": 16,
     "metadata": {},
     "output_type": "execute_result"
    }
   ],
   "source": [
    "# Specify the universe.\n",
    "rt_universe_talos = sorted(talos_rt_client.get_universe())\n",
    "len(rt_universe_talos)"
   ]
  },
  {
   "cell_type": "code",
   "execution_count": 17,
   "id": "7d4b8531",
   "metadata": {
    "ExecuteTime": {
     "end_time": "2022-04-25T10:53:07.280445Z",
     "start_time": "2022-04-25T10:53:07.276287Z"
    }
   },
   "outputs": [
    {
     "data": {
      "text/plain": [
       "['binance::ADA_USDT', 'binance::AVAX_USDT']"
      ]
     },
     "execution_count": 17,
     "metadata": {},
     "output_type": "execute_result"
    }
   ],
   "source": [
    "# Choose cc for analysis.\n",
    "full_symbols = rt_universe_talos[0:2]\n",
    "full_symbols"
   ]
  },
  {
   "cell_type": "markdown",
   "id": "9ac5750d",
   "metadata": {},
   "source": [
    "#### Data Loader"
   ]
  },
  {
   "cell_type": "code",
   "execution_count": 18,
   "id": "f433ef8e",
   "metadata": {
    "ExecuteTime": {
     "end_time": "2022-04-25T10:53:08.712542Z",
     "start_time": "2022-04-25T10:53:07.283115Z"
    }
   },
   "outputs": [
    {
     "name": "stderr",
     "output_type": "stream",
     "text": [
      "/venv/lib/python3.8/site-packages/pandas/io/sql.py:761: UserWarning: pandas only support SQLAlchemy connectable(engine/connection) ordatabase string URI or sqlite3 DBAPI2 connectionother DBAPI2 objects are not tested, please consider using SQLAlchemy\n",
      "  warnings.warn(\n"
     ]
    },
    {
     "data": {
      "text/plain": [
       "(40322, 6)"
      ]
     },
     "metadata": {},
     "output_type": "display_data"
    },
    {
     "data": {
      "text/html": [
       "<div>\n",
       "<style scoped>\n",
       "    .dataframe tbody tr th:only-of-type {\n",
       "        vertical-align: middle;\n",
       "    }\n",
       "\n",
       "    .dataframe tbody tr th {\n",
       "        vertical-align: top;\n",
       "    }\n",
       "\n",
       "    .dataframe thead th {\n",
       "        text-align: right;\n",
       "    }\n",
       "</style>\n",
       "<table border=\"1\" class=\"dataframe\">\n",
       "  <thead>\n",
       "    <tr style=\"text-align: right;\">\n",
       "      <th></th>\n",
       "      <th>open</th>\n",
       "      <th>high</th>\n",
       "      <th>low</th>\n",
       "      <th>close</th>\n",
       "      <th>volume</th>\n",
       "      <th>full_symbol</th>\n",
       "    </tr>\n",
       "    <tr>\n",
       "      <th>timestamp</th>\n",
       "      <th></th>\n",
       "      <th></th>\n",
       "      <th></th>\n",
       "      <th></th>\n",
       "      <th></th>\n",
       "      <th></th>\n",
       "    </tr>\n",
       "  </thead>\n",
       "  <tbody>\n",
       "    <tr>\n",
       "      <th>2022-04-01 00:00:00+00:00</th>\n",
       "      <td>1.141</td>\n",
       "      <td>1.144</td>\n",
       "      <td>1.141</td>\n",
       "      <td>1.141</td>\n",
       "      <td>258996.40</td>\n",
       "      <td>binance::ADA_USDT</td>\n",
       "    </tr>\n",
       "    <tr>\n",
       "      <th>2022-04-01 00:00:00+00:00</th>\n",
       "      <td>97.430</td>\n",
       "      <td>97.750</td>\n",
       "      <td>97.300</td>\n",
       "      <td>97.380</td>\n",
       "      <td>8115.09</td>\n",
       "      <td>binance::AVAX_USDT</td>\n",
       "    </tr>\n",
       "    <tr>\n",
       "      <th>2022-04-01 00:01:00+00:00</th>\n",
       "      <td>1.140</td>\n",
       "      <td>1.142</td>\n",
       "      <td>1.137</td>\n",
       "      <td>1.138</td>\n",
       "      <td>96911.50</td>\n",
       "      <td>binance::ADA_USDT</td>\n",
       "    </tr>\n",
       "  </tbody>\n",
       "</table>\n",
       "</div>"
      ],
      "text/plain": [
       "                             open    high     low   close     volume         full_symbol\n",
       "timestamp                                                                               \n",
       "2022-04-01 00:00:00+00:00   1.141   1.144   1.141   1.141  258996.40   binance::ADA_USDT\n",
       "2022-04-01 00:00:00+00:00  97.430  97.750  97.300  97.380    8115.09  binance::AVAX_USDT\n",
       "2022-04-01 00:01:00+00:00   1.140   1.142   1.137   1.138   96911.50   binance::ADA_USDT"
      ]
     },
     "metadata": {},
     "output_type": "display_data"
    }
   ],
   "source": [
    "# Specify the period.\n",
    "start_date = config[\"data\"][\"start_date_rt\"]\n",
    "end_date = config[\"data\"][\"end_date_rt\"]\n",
    "\n",
    "# Load the data.\n",
    "data_rt_talos = talos_rt_client.read_data(\n",
    "full_symbols,\n",
    "start_date,\n",
    "end_date)\n",
    "display(data_rt_talos.shape)\n",
    "display(data_rt_talos.head(3))"
   ]
  },
  {
   "cell_type": "markdown",
   "id": "4d66d87e",
   "metadata": {
    "ExecuteTime": {
     "end_time": "2022-04-25T10:08:18.049856Z",
     "start_time": "2022-04-25T10:08:18.047235Z"
    }
   },
   "source": [
    "### Historical"
   ]
  },
  {
   "cell_type": "code",
   "execution_count": 19,
   "id": "640d91c1",
   "metadata": {
    "ExecuteTime": {
     "end_time": "2022-04-25T10:53:08.719855Z",
     "start_time": "2022-04-25T10:53:08.715778Z"
    }
   },
   "outputs": [],
   "source": [
    "# Specify params.\n",
    "resample_1min = True\n",
    "root_dir = config[\"load\"][\"data_dir_hist\"]\n",
    "partition_mode = config[\"load\"][\"partition_mode\"]\n",
    "data_snapshot = config[\"load\"][\"data_snapshot\"]\n",
    "aws_profile = config[\"load\"][\"aws_profile\"]\n",
    "\n",
    "talos_hist_client = imvtdctacl.TalosHistoricalPqByTileClient(\n",
    "resample_1min,\n",
    "root_dir,\n",
    "partition_mode,\n",
    "data_snapshot=data_snapshot,\n",
    "aws_profile=aws_profile)"
   ]
  },
  {
   "cell_type": "markdown",
   "id": "4720f426",
   "metadata": {},
   "source": [
    "#### Universe"
   ]
  },
  {
   "cell_type": "code",
   "execution_count": 20,
   "id": "2d0cbd5b",
   "metadata": {
    "ExecuteTime": {
     "end_time": "2022-04-25T10:53:08.725556Z",
     "start_time": "2022-04-25T10:53:08.721738Z"
    }
   },
   "outputs": [
    {
     "data": {
      "text/plain": [
       "4"
      ]
     },
     "execution_count": 20,
     "metadata": {},
     "output_type": "execute_result"
    }
   ],
   "source": [
    "# Specify the universe.\n",
    "hist_universe_talos = talos_hist_client.get_universe()\n",
    "len(hist_universe_talos)"
   ]
  },
  {
   "cell_type": "code",
   "execution_count": 21,
   "id": "927e1b50",
   "metadata": {
    "ExecuteTime": {
     "end_time": "2022-04-25T10:53:08.733756Z",
     "start_time": "2022-04-25T10:53:08.727244Z"
    }
   },
   "outputs": [
    {
     "data": {
      "text/plain": [
       "['binance::ADA_USDT', 'binance::BTC_USDT']"
      ]
     },
     "execution_count": 21,
     "metadata": {},
     "output_type": "execute_result"
    }
   ],
   "source": [
    "# Choose cc for analysis.\n",
    "full_symbols_hist_talos = hist_universe_talos[0:2]\n",
    "full_symbols_hist_talos"
   ]
  },
  {
   "cell_type": "markdown",
   "id": "6a7a762d",
   "metadata": {},
   "source": [
    "#### Data Loader"
   ]
  },
  {
   "cell_type": "code",
   "execution_count": 22,
   "id": "efc413c4",
   "metadata": {
    "ExecuteTime": {
     "end_time": "2022-04-25T10:53:09.883850Z",
     "start_time": "2022-04-25T10:53:08.735429Z"
    },
    "run_control": {
     "marked": false
    }
   },
   "outputs": [
    {
     "data": {
      "text/plain": [
       "(40322, 6)"
      ]
     },
     "metadata": {},
     "output_type": "display_data"
    },
    {
     "data": {
      "text/html": [
       "<div>\n",
       "<style scoped>\n",
       "    .dataframe tbody tr th:only-of-type {\n",
       "        vertical-align: middle;\n",
       "    }\n",
       "\n",
       "    .dataframe tbody tr th {\n",
       "        vertical-align: top;\n",
       "    }\n",
       "\n",
       "    .dataframe thead th {\n",
       "        text-align: right;\n",
       "    }\n",
       "</style>\n",
       "<table border=\"1\" class=\"dataframe\">\n",
       "  <thead>\n",
       "    <tr style=\"text-align: right;\">\n",
       "      <th></th>\n",
       "      <th>full_symbol</th>\n",
       "      <th>open</th>\n",
       "      <th>high</th>\n",
       "      <th>low</th>\n",
       "      <th>close</th>\n",
       "      <th>volume</th>\n",
       "    </tr>\n",
       "    <tr>\n",
       "      <th>timestamp</th>\n",
       "      <th></th>\n",
       "      <th></th>\n",
       "      <th></th>\n",
       "      <th></th>\n",
       "      <th></th>\n",
       "      <th></th>\n",
       "    </tr>\n",
       "  </thead>\n",
       "  <tbody>\n",
       "    <tr>\n",
       "      <th>2022-01-01 00:00:00+00:00</th>\n",
       "      <td>binance::ADA_USDT</td>\n",
       "      <td>1.308</td>\n",
       "      <td>1.310</td>\n",
       "      <td>1.307</td>\n",
       "      <td>1.310</td>\n",
       "      <td>98266.80000</td>\n",
       "    </tr>\n",
       "    <tr>\n",
       "      <th>2022-01-01 00:00:00+00:00</th>\n",
       "      <td>binance::BTC_USDT</td>\n",
       "      <td>46216.930</td>\n",
       "      <td>46271.080</td>\n",
       "      <td>46208.370</td>\n",
       "      <td>46250.000</td>\n",
       "      <td>40.57574</td>\n",
       "    </tr>\n",
       "    <tr>\n",
       "      <th>2022-01-01 00:01:00+00:00</th>\n",
       "      <td>binance::ADA_USDT</td>\n",
       "      <td>1.310</td>\n",
       "      <td>1.314</td>\n",
       "      <td>1.308</td>\n",
       "      <td>1.312</td>\n",
       "      <td>132189.40000</td>\n",
       "    </tr>\n",
       "  </tbody>\n",
       "</table>\n",
       "</div>"
      ],
      "text/plain": [
       "                                 full_symbol       open       high        low      close        volume\n",
       "timestamp                                                                                             \n",
       "2022-01-01 00:00:00+00:00  binance::ADA_USDT      1.308      1.310      1.307      1.310   98266.80000\n",
       "2022-01-01 00:00:00+00:00  binance::BTC_USDT  46216.930  46271.080  46208.370  46250.000      40.57574\n",
       "2022-01-01 00:01:00+00:00  binance::ADA_USDT      1.310      1.314      1.308      1.312  132189.40000"
      ]
     },
     "metadata": {},
     "output_type": "display_data"
    }
   ],
   "source": [
    "# Specify the period.\n",
    "start_date = config[\"data\"][\"start_date_hist\"]\n",
    "end_date = config[\"data\"][\"end_date_hist\"]\n",
    "\n",
    "# Load the data.\n",
    "data_hist_talos = talos_hist_client.read_data(\n",
    "    full_symbols_hist_talos,\n",
    "    start_date,\n",
    "    end_date\n",
    ")\n",
    "# Hardcoded solution to convert OHLCV to the 'float' type for the further use.\n",
    "for cols in data_hist_talos.columns[1:]:\n",
    "    data_hist_talos[cols] = data_hist_talos[cols].astype(float)\n",
    "# Show the data.\n",
    "display(data_hist_talos.shape)\n",
    "display(data_hist_talos.head(3))"
   ]
  },
  {
   "cell_type": "markdown",
   "id": "fbccce83",
   "metadata": {},
   "source": [
    "# Calculate VWAP, TWAP and returns in `Dataflow` style"
   ]
  },
  {
   "cell_type": "markdown",
   "id": "dc305d6c",
   "metadata": {},
   "source": [
    "## CCXT"
   ]
  },
  {
   "cell_type": "code",
   "execution_count": 23,
   "id": "d0f8eb0c",
   "metadata": {
    "ExecuteTime": {
     "end_time": "2022-04-25T10:53:09.992818Z",
     "start_time": "2022-04-25T10:53:09.885967Z"
    }
   },
   "outputs": [],
   "source": [
    "# VWAP, TWAP transformation.\n",
    "resampling_rule = config[\"transform\"][\"resampling_rule\"]\n",
    "vwap_twap_df = calculate_vwap_twap(data_hist_ccxt, resampling_rule)\n",
    "\n",
    "# Returns calculation.\n",
    "rets_type = config[\"transform\"][\"rets_type\"]\n",
    "vwap_twap_rets_df = calculate_returns(vwap_twap_df, rets_type)"
   ]
  },
  {
   "cell_type": "code",
   "execution_count": 24,
   "id": "aa23e95f",
   "metadata": {
    "ExecuteTime": {
     "end_time": "2022-04-25T10:53:10.017002Z",
     "start_time": "2022-04-25T10:53:09.994684Z"
    },
    "run_control": {
     "marked": false
    }
   },
   "outputs": [
    {
     "data": {
      "text/html": [
       "<div>\n",
       "<style scoped>\n",
       "    .dataframe tbody tr th:only-of-type {\n",
       "        vertical-align: middle;\n",
       "    }\n",
       "\n",
       "    .dataframe tbody tr th {\n",
       "        vertical-align: top;\n",
       "    }\n",
       "\n",
       "    .dataframe thead tr th {\n",
       "        text-align: left;\n",
       "    }\n",
       "\n",
       "    .dataframe thead tr:last-of-type th {\n",
       "        text-align: right;\n",
       "    }\n",
       "</style>\n",
       "<table border=\"1\" class=\"dataframe\">\n",
       "  <thead>\n",
       "    <tr>\n",
       "      <th></th>\n",
       "      <th colspan=\"2\" halign=\"left\">close.ret_0</th>\n",
       "      <th colspan=\"2\" halign=\"left\">twap.ret_0</th>\n",
       "      <th colspan=\"2\" halign=\"left\">vwap.ret_0</th>\n",
       "      <th colspan=\"2\" halign=\"left\">close</th>\n",
       "      <th colspan=\"2\" halign=\"left\">twap</th>\n",
       "      <th colspan=\"2\" halign=\"left\">volume</th>\n",
       "      <th colspan=\"2\" halign=\"left\">vwap</th>\n",
       "    </tr>\n",
       "    <tr>\n",
       "      <th></th>\n",
       "      <th>binance::ADA_USDT</th>\n",
       "      <th>binance::AVAX_USDT</th>\n",
       "      <th>binance::ADA_USDT</th>\n",
       "      <th>binance::AVAX_USDT</th>\n",
       "      <th>binance::ADA_USDT</th>\n",
       "      <th>binance::AVAX_USDT</th>\n",
       "      <th>binance::ADA_USDT</th>\n",
       "      <th>binance::AVAX_USDT</th>\n",
       "      <th>binance::ADA_USDT</th>\n",
       "      <th>binance::AVAX_USDT</th>\n",
       "      <th>binance::ADA_USDT</th>\n",
       "      <th>binance::AVAX_USDT</th>\n",
       "      <th>binance::ADA_USDT</th>\n",
       "      <th>binance::AVAX_USDT</th>\n",
       "    </tr>\n",
       "    <tr>\n",
       "      <th>timestamp</th>\n",
       "      <th></th>\n",
       "      <th></th>\n",
       "      <th></th>\n",
       "      <th></th>\n",
       "      <th></th>\n",
       "      <th></th>\n",
       "      <th></th>\n",
       "      <th></th>\n",
       "      <th></th>\n",
       "      <th></th>\n",
       "      <th></th>\n",
       "      <th></th>\n",
       "      <th></th>\n",
       "      <th></th>\n",
       "    </tr>\n",
       "  </thead>\n",
       "  <tbody>\n",
       "    <tr>\n",
       "      <th>2022-01-01 00:00:00+00:00</th>\n",
       "      <td>NaN</td>\n",
       "      <td>NaN</td>\n",
       "      <td>NaN</td>\n",
       "      <td>NaN</td>\n",
       "      <td>NaN</td>\n",
       "      <td>NaN</td>\n",
       "      <td>1.310</td>\n",
       "      <td>109.72</td>\n",
       "      <td>1.3100</td>\n",
       "      <td>109.720</td>\n",
       "      <td>98266.8</td>\n",
       "      <td>1560.17</td>\n",
       "      <td>1.310000</td>\n",
       "      <td>109.720000</td>\n",
       "    </tr>\n",
       "    <tr>\n",
       "      <th>2022-01-01 00:05:00+00:00</th>\n",
       "      <td>0.006107</td>\n",
       "      <td>0.005013</td>\n",
       "      <td>0.003969</td>\n",
       "      <td>0.002643</td>\n",
       "      <td>0.004587</td>\n",
       "      <td>0.002715</td>\n",
       "      <td>1.318</td>\n",
       "      <td>110.27</td>\n",
       "      <td>1.3152</td>\n",
       "      <td>110.010</td>\n",
       "      <td>1186381.0</td>\n",
       "      <td>8421.98</td>\n",
       "      <td>1.316009</td>\n",
       "      <td>110.017835</td>\n",
       "    </tr>\n",
       "    <tr>\n",
       "      <th>2022-01-01 00:10:00+00:00</th>\n",
       "      <td>-0.000759</td>\n",
       "      <td>-0.000453</td>\n",
       "      <td>0.001825</td>\n",
       "      <td>0.002145</td>\n",
       "      <td>0.001425</td>\n",
       "      <td>0.002578</td>\n",
       "      <td>1.317</td>\n",
       "      <td>110.22</td>\n",
       "      <td>1.3176</td>\n",
       "      <td>110.246</td>\n",
       "      <td>243249.6</td>\n",
       "      <td>6639.44</td>\n",
       "      <td>1.317884</td>\n",
       "      <td>110.301428</td>\n",
       "    </tr>\n",
       "  </tbody>\n",
       "</table>\n",
       "</div>"
      ],
      "text/plain": [
       "                                close.ret_0                           twap.ret_0                           vwap.ret_0                                close                                 twap                               volume                                 vwap                   \n",
       "                          binance::ADA_USDT binance::AVAX_USDT binance::ADA_USDT binance::AVAX_USDT binance::ADA_USDT binance::AVAX_USDT binance::ADA_USDT binance::AVAX_USDT binance::ADA_USDT binance::AVAX_USDT binance::ADA_USDT binance::AVAX_USDT binance::ADA_USDT binance::AVAX_USDT\n",
       "timestamp                                                                                                                                                                                                                                                                                   \n",
       "2022-01-01 00:00:00+00:00               NaN                NaN               NaN                NaN               NaN                NaN             1.310             109.72            1.3100            109.720           98266.8            1560.17          1.310000         109.720000\n",
       "2022-01-01 00:05:00+00:00          0.006107           0.005013          0.003969           0.002643          0.004587           0.002715             1.318             110.27            1.3152            110.010         1186381.0            8421.98          1.316009         110.017835\n",
       "2022-01-01 00:10:00+00:00         -0.000759          -0.000453          0.001825           0.002145          0.001425           0.002578             1.317             110.22            1.3176            110.246          243249.6            6639.44          1.317884         110.301428"
      ]
     },
     "execution_count": 24,
     "metadata": {},
     "output_type": "execute_result"
    }
   ],
   "source": [
    "# Show the snippet.\n",
    "vwap_twap_rets_df.head(3)"
   ]
  },
  {
   "cell_type": "code",
   "execution_count": 25,
   "id": "556c808e",
   "metadata": {
    "ExecuteTime": {
     "end_time": "2022-04-25T10:53:10.471431Z",
     "start_time": "2022-04-25T10:53:10.019405Z"
    },
    "run_control": {
     "marked": false
    },
    "scrolled": true
   },
   "outputs": [
    {
     "data": {
      "text/html": [
       "<div>\n",
       "<style scoped>\n",
       "    .dataframe tbody tr th:only-of-type {\n",
       "        vertical-align: middle;\n",
       "    }\n",
       "\n",
       "    .dataframe tbody tr th {\n",
       "        vertical-align: top;\n",
       "    }\n",
       "\n",
       "    .dataframe thead th {\n",
       "        text-align: right;\n",
       "    }\n",
       "</style>\n",
       "<table border=\"1\" class=\"dataframe\">\n",
       "  <thead>\n",
       "    <tr style=\"text-align: right;\">\n",
       "      <th></th>\n",
       "      <th>close.ret_0</th>\n",
       "      <th>twap.ret_0</th>\n",
       "      <th>vwap.ret_0</th>\n",
       "    </tr>\n",
       "  </thead>\n",
       "  <tbody>\n",
       "    <tr>\n",
       "      <th>close.ret_0</th>\n",
       "      <td>1.000000</td>\n",
       "      <td>0.702344</td>\n",
       "      <td>0.769028</td>\n",
       "    </tr>\n",
       "    <tr>\n",
       "      <th>twap.ret_0</th>\n",
       "      <td>0.702344</td>\n",
       "      <td>1.000000</td>\n",
       "      <td>0.957020</td>\n",
       "    </tr>\n",
       "    <tr>\n",
       "      <th>vwap.ret_0</th>\n",
       "      <td>0.769028</td>\n",
       "      <td>0.957020</td>\n",
       "      <td>1.000000</td>\n",
       "    </tr>\n",
       "  </tbody>\n",
       "</table>\n",
       "</div>"
      ],
      "text/plain": [
       "             close.ret_0  twap.ret_0  vwap.ret_0\n",
       "close.ret_0     1.000000    0.702344    0.769028\n",
       "twap.ret_0      0.702344    1.000000    0.957020\n",
       "vwap.ret_0      0.769028    0.957020    1.000000"
      ]
     },
     "metadata": {},
     "output_type": "display_data"
    },
    {
     "data": {
      "text/plain": [
       "<AxesSubplot:xlabel='timestamp'>"
      ]
     },
     "execution_count": 25,
     "metadata": {},
     "output_type": "execute_result"
    },
    {
     "data": {
      "image/png": "[encoded data removed]",
      "text/plain": [
       "<Figure size 1440x360 with 1 Axes>"
      ]
     },
     "metadata": {},
     "output_type": "display_data"
    }
   ],
   "source": [
    "# Stats and vizualisation to check the outcomes.\n",
    "ada_ex = vwap_twap_rets_df.swaplevel(axis=1)\n",
    "ada_ex = ada_ex[\"binance::ADA_USDT\"][[\"close.ret_0\", \"twap.ret_0\", \"vwap.ret_0\"]]\n",
    "display(ada_ex.corr())\n",
    "ada_ex.plot()"
   ]
  },
  {
   "cell_type": "markdown",
   "id": "c9b75281",
   "metadata": {},
   "source": [
    "## Talos"
   ]
  },
  {
   "cell_type": "code",
   "execution_count": 26,
   "id": "0e7c262d",
   "metadata": {
    "ExecuteTime": {
     "end_time": "2022-04-25T10:53:10.598506Z",
     "start_time": "2022-04-25T10:53:10.473420Z"
    }
   },
   "outputs": [],
   "source": [
    "# VWAP, TWAP transformation.\n",
    "resampling_rule = config[\"transform\"][\"resampling_rule\"]\n",
    "vwap_twap_df_talos = calculate_vwap_twap(data_hist_talos, resampling_rule)\n",
    "\n",
    "# Returns calculation.\n",
    "rets_type = config[\"transform\"][\"rets_type\"]\n",
    "vwap_twap_rets_df_talos = calculate_returns(vwap_twap_df_talos, rets_type)"
   ]
  },
  {
   "cell_type": "code",
   "execution_count": 27,
   "id": "278f7695",
   "metadata": {
    "ExecuteTime": {
     "end_time": "2022-04-25T10:53:10.621816Z",
     "start_time": "2022-04-25T10:53:10.600779Z"
    }
   },
   "outputs": [
    {
     "data": {
      "text/html": [
       "<div>\n",
       "<style scoped>\n",
       "    .dataframe tbody tr th:only-of-type {\n",
       "        vertical-align: middle;\n",
       "    }\n",
       "\n",
       "    .dataframe tbody tr th {\n",
       "        vertical-align: top;\n",
       "    }\n",
       "\n",
       "    .dataframe thead tr th {\n",
       "        text-align: left;\n",
       "    }\n",
       "\n",
       "    .dataframe thead tr:last-of-type th {\n",
       "        text-align: right;\n",
       "    }\n",
       "</style>\n",
       "<table border=\"1\" class=\"dataframe\">\n",
       "  <thead>\n",
       "    <tr>\n",
       "      <th></th>\n",
       "      <th colspan=\"2\" halign=\"left\">close.ret_0</th>\n",
       "      <th colspan=\"2\" halign=\"left\">twap.ret_0</th>\n",
       "      <th colspan=\"2\" halign=\"left\">vwap.ret_0</th>\n",
       "      <th colspan=\"2\" halign=\"left\">close</th>\n",
       "      <th colspan=\"2\" halign=\"left\">twap</th>\n",
       "      <th colspan=\"2\" halign=\"left\">volume</th>\n",
       "      <th colspan=\"2\" halign=\"left\">vwap</th>\n",
       "    </tr>\n",
       "    <tr>\n",
       "      <th></th>\n",
       "      <th>binance::ADA_USDT</th>\n",
       "      <th>binance::BTC_USDT</th>\n",
       "      <th>binance::ADA_USDT</th>\n",
       "      <th>binance::BTC_USDT</th>\n",
       "      <th>binance::ADA_USDT</th>\n",
       "      <th>binance::BTC_USDT</th>\n",
       "      <th>binance::ADA_USDT</th>\n",
       "      <th>binance::BTC_USDT</th>\n",
       "      <th>binance::ADA_USDT</th>\n",
       "      <th>binance::BTC_USDT</th>\n",
       "      <th>binance::ADA_USDT</th>\n",
       "      <th>binance::BTC_USDT</th>\n",
       "      <th>binance::ADA_USDT</th>\n",
       "      <th>binance::BTC_USDT</th>\n",
       "    </tr>\n",
       "    <tr>\n",
       "      <th>timestamp</th>\n",
       "      <th></th>\n",
       "      <th></th>\n",
       "      <th></th>\n",
       "      <th></th>\n",
       "      <th></th>\n",
       "      <th></th>\n",
       "      <th></th>\n",
       "      <th></th>\n",
       "      <th></th>\n",
       "      <th></th>\n",
       "      <th></th>\n",
       "      <th></th>\n",
       "      <th></th>\n",
       "      <th></th>\n",
       "    </tr>\n",
       "  </thead>\n",
       "  <tbody>\n",
       "    <tr>\n",
       "      <th>2022-01-01 00:00:00+00:00</th>\n",
       "      <td>NaN</td>\n",
       "      <td>NaN</td>\n",
       "      <td>NaN</td>\n",
       "      <td>NaN</td>\n",
       "      <td>NaN</td>\n",
       "      <td>NaN</td>\n",
       "      <td>1.310</td>\n",
       "      <td>46250.00</td>\n",
       "      <td>1.3100</td>\n",
       "      <td>46250.000</td>\n",
       "      <td>98266.8</td>\n",
       "      <td>40.57574</td>\n",
       "      <td>1.310000</td>\n",
       "      <td>46250.000000</td>\n",
       "    </tr>\n",
       "    <tr>\n",
       "      <th>2022-01-01 00:05:00+00:00</th>\n",
       "      <td>0.006107</td>\n",
       "      <td>0.004022</td>\n",
       "      <td>0.003969</td>\n",
       "      <td>0.002248</td>\n",
       "      <td>0.004587</td>\n",
       "      <td>0.002316</td>\n",
       "      <td>1.318</td>\n",
       "      <td>46436.03</td>\n",
       "      <td>1.3152</td>\n",
       "      <td>46353.988</td>\n",
       "      <td>1186381.0</td>\n",
       "      <td>180.96666</td>\n",
       "      <td>1.316009</td>\n",
       "      <td>46357.134946</td>\n",
       "    </tr>\n",
       "    <tr>\n",
       "      <th>2022-01-01 00:10:00+00:00</th>\n",
       "      <td>-0.000759</td>\n",
       "      <td>-0.001211</td>\n",
       "      <td>0.001825</td>\n",
       "      <td>0.001374</td>\n",
       "      <td>0.001425</td>\n",
       "      <td>0.001688</td>\n",
       "      <td>1.317</td>\n",
       "      <td>46379.80</td>\n",
       "      <td>1.3176</td>\n",
       "      <td>46417.698</td>\n",
       "      <td>243249.6</td>\n",
       "      <td>98.22629</td>\n",
       "      <td>1.317884</td>\n",
       "      <td>46435.389625</td>\n",
       "    </tr>\n",
       "  </tbody>\n",
       "</table>\n",
       "</div>"
      ],
      "text/plain": [
       "                                close.ret_0                          twap.ret_0                          vwap.ret_0                               close                                twap                              volume                                vwap                  \n",
       "                          binance::ADA_USDT binance::BTC_USDT binance::ADA_USDT binance::BTC_USDT binance::ADA_USDT binance::BTC_USDT binance::ADA_USDT binance::BTC_USDT binance::ADA_USDT binance::BTC_USDT binance::ADA_USDT binance::BTC_USDT binance::ADA_USDT binance::BTC_USDT\n",
       "timestamp                                                                                                                                                                                                                                                                            \n",
       "2022-01-01 00:00:00+00:00               NaN               NaN               NaN               NaN               NaN               NaN             1.310          46250.00            1.3100         46250.000           98266.8          40.57574          1.310000      46250.000000\n",
       "2022-01-01 00:05:00+00:00          0.006107          0.004022          0.003969          0.002248          0.004587          0.002316             1.318          46436.03            1.3152         46353.988         1186381.0         180.96666          1.316009      46357.134946\n",
       "2022-01-01 00:10:00+00:00         -0.000759         -0.001211          0.001825          0.001374          0.001425          0.001688             1.317          46379.80            1.3176         46417.698          243249.6          98.22629          1.317884      46435.389625"
      ]
     },
     "execution_count": 27,
     "metadata": {},
     "output_type": "execute_result"
    }
   ],
   "source": [
    "# Show the snippet.\n",
    "vwap_twap_rets_df_talos.head(3)"
   ]
  },
  {
   "cell_type": "code",
   "execution_count": 28,
   "id": "1aa3b7fd",
   "metadata": {
    "ExecuteTime": {
     "end_time": "2022-04-25T10:53:11.224830Z",
     "start_time": "2022-04-25T10:53:10.626738Z"
    },
    "scrolled": true
   },
   "outputs": [
    {
     "data": {
      "text/html": [
       "<div>\n",
       "<style scoped>\n",
       "    .dataframe tbody tr th:only-of-type {\n",
       "        vertical-align: middle;\n",
       "    }\n",
       "\n",
       "    .dataframe tbody tr th {\n",
       "        vertical-align: top;\n",
       "    }\n",
       "\n",
       "    .dataframe thead th {\n",
       "        text-align: right;\n",
       "    }\n",
       "</style>\n",
       "<table border=\"1\" class=\"dataframe\">\n",
       "  <thead>\n",
       "    <tr style=\"text-align: right;\">\n",
       "      <th></th>\n",
       "      <th>close.ret_0</th>\n",
       "      <th>twap.ret_0</th>\n",
       "      <th>vwap.ret_0</th>\n",
       "    </tr>\n",
       "  </thead>\n",
       "  <tbody>\n",
       "    <tr>\n",
       "      <th>close.ret_0</th>\n",
       "      <td>1.000000</td>\n",
       "      <td>0.702120</td>\n",
       "      <td>0.768858</td>\n",
       "    </tr>\n",
       "    <tr>\n",
       "      <th>twap.ret_0</th>\n",
       "      <td>0.702120</td>\n",
       "      <td>1.000000</td>\n",
       "      <td>0.956964</td>\n",
       "    </tr>\n",
       "    <tr>\n",
       "      <th>vwap.ret_0</th>\n",
       "      <td>0.768858</td>\n",
       "      <td>0.956964</td>\n",
       "      <td>1.000000</td>\n",
       "    </tr>\n",
       "  </tbody>\n",
       "</table>\n",
       "</div>"
      ],
      "text/plain": [
       "             close.ret_0  twap.ret_0  vwap.ret_0\n",
       "close.ret_0     1.000000    0.702120    0.768858\n",
       "twap.ret_0      0.702120    1.000000    0.956964\n",
       "vwap.ret_0      0.768858    0.956964    1.000000"
      ]
     },
     "metadata": {},
     "output_type": "display_data"
    },
    {
     "data": {
      "text/plain": [
       "<AxesSubplot:xlabel='timestamp'>"
      ]
     },
     "execution_count": 28,
     "metadata": {},
     "output_type": "execute_result"
    },
    {
     "data": {
      "image/png": "[encoded data removed]",
      "text/plain": [
       "<Figure size 1440x360 with 1 Axes>"
      ]
     },
     "metadata": {},
     "output_type": "display_data"
    }
   ],
   "source": [
    "# Stats and vizualisation to check the outcomes.\n",
    "ada_ex = vwap_twap_rets_df_talos.swaplevel(axis=1)\n",
    "ada_ex = ada_ex[\"binance::ADA_USDT\"][[\"close.ret_0\", \"twap.ret_0\", \"vwap.ret_0\"]]\n",
    "display(ada_ex.corr())\n",
    "ada_ex.plot()"
   ]
  }
 ],
 "metadata": {
  "kernelspec": {
   "display_name": "Python 3 (ipykernel)",
   "language": "python",
   "name": "python3"
  },
  "language_info": {
   "codemirror_mode": {
    "name": "ipython",
    "version": 3
   },
   "file_extension": ".py",
   "mimetype": "text/x-python",
   "name": "python",
   "nbconvert_exporter": "python",
   "pygments_lexer": "ipython3",
   "version": "3.8.10"
  },
  "toc": {
   "base_numbering": 1,
   "nav_menu": {},
   "number_sections": true,
   "sideBar": true,
   "skip_h1_title": false,
   "title_cell": "Table of Contents",
   "title_sidebar": "Contents",
   "toc_cell": false,
   "toc_position": {},
   "toc_section_display": true,
   "toc_window_display": false
  }
 },
 "nbformat": 4,
 "nbformat_minor": 5
}
