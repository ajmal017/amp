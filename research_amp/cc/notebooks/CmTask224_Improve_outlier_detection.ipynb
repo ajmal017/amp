{
 "cells": [
  {
   "cell_type": "markdown",
   "id": "6c7d4ad7",
   "metadata": {},
   "source": [
    "# Description"
   ]
  },
  {
   "cell_type": "markdown",
   "id": "865f664a",
   "metadata": {},
   "source": [
    "This notebook explores approaches to detect outliers in crypto data."
   ]
  },
  {
   "cell_type": "markdown",
   "id": "743eba77",
   "metadata": {},
   "source": [
    "# Imports"
   ]
  },
  {
   "cell_type": "code",
   "execution_count": 1,
   "id": "6541f5db",
   "metadata": {
    "ExecuteTime": {
     "end_time": "2021-11-18T23:21:25.225483Z",
     "start_time": "2021-11-18T23:21:24.560869Z"
    }
   },
   "outputs": [],
   "source": [
    "import logging\n",
    "\n",
    "import pandas as pd\n",
    "\n",
    "import helpers.dbg as hdbg\n",
    "import helpers.env as henv\n",
    "import helpers.printing as hprint\n",
    "import im.ccxt.data.load.loader as imcdalolo\n",
    "import research_amp.cc.detect_outliers as rccdeout"
   ]
  },
  {
   "cell_type": "code",
   "execution_count": 2,
   "id": "0ac98ec8",
   "metadata": {
    "ExecuteTime": {
     "end_time": "2021-11-18T23:21:26.961922Z",
     "start_time": "2021-11-18T23:21:25.227679Z"
    },
    "scrolled": true
   },
   "outputs": [
    {
     "name": "stdout",
     "output_type": "stream",
     "text": [
      "\u001b[0m\u001b[36mINFO\u001b[0m: > cmd='/venv/lib/python3.8/site-packages/ipykernel_launcher.py -f /home/.local/share/jupyter/runtime/kernel-9bb677ed-7544-42e6-ada2-ee79c7696d0e.json'\n",
      "\u001b[33mWARNING\u001b[0m: Running in Jupyter\n",
      "\u001b[33mWARNING\u001b[0m: Can't find version.txt, so using version=None\n",
      ">>ENV<<: is_inside_container=True: code_version=None, container_version=cmamp-1.0.0, is_inside_docker=True, is_inside_ci=False, CI_defined=True, CI=''\n",
      ">>ENV<<: AM_AWS_PROFILE=True AM_ECR_BASE_PATH=True AM_S3_BUCKET=True AM_TELEGRAM_TOKEN=True AWS_ACCESS_KEY_ID=False AWS_DEFAULT_REGION=False AWS_SECRET_ACCESS_KEY=False GH_ACTION_ACCESS_TOKEN=True\n",
      "\u001b[31m-----------------------------------------------------------------------------\n",
      "This code is not in sync with the container:\n",
      "code_version='None' != container_version='cmamp-1.0.0'\n",
      "-----------------------------------------------------------------------------\n",
      "You need to:\n",
      "- merge origin/master into your branch with `invoke git_merge_master`\n",
      "- pull the latest container with `invoke docker_pull`\u001b[0m\n",
      "# Git\n",
      "    branch_name='CmTask456_Refactor_CCXT_loader_in_im_v2'\n",
      "    hash='841fba91'\n",
      "    # Last commits:\n",
      "      *   841fba91 DanY     Merge branch 'master' into CmTask456_Refactor_CCXT_loader_in_im_v2 ( 4 minutes ago) Thu Nov 18 23:17:31 2021  (HEAD -> CmTask456_Refactor_CCXT_loader_in_im_v2, origin/CmTask456_Refactor_CCXT_loader_in_im_v2)\n",
      "      |\\  \n",
      "      * | 693cbafb DanY     CmTask456: update lib calls                                       (12 minutes ago) Thu Nov 18 23:09:04 2021           \n",
      "      * | a8a61aa0 DanY     CmTask456: replace old CcxtLoader with new code                   (17 minutes ago) Thu Nov 18 23:03:57 2021           \n",
      "# Machine info\n",
      "    system=Linux\n",
      "    node name=d69bc29302cb\n",
      "    release=5.4.0-1057-aws\n",
      "    version=#60~18.04.1-Ubuntu SMP Thu Sep 9 20:38:09 UTC 2021\n",
      "    machine=x86_64\n",
      "    processor=x86_64\n",
      "    cpu count=4\n",
      "    cpu freq=scpufreq(current=2499.998, min=0.0, max=0.0)\n",
      "    memory=svmem(total=16596852736, available=9959833600, percent=40.0, used=6251532288, free=5093449728, active=6636929024, inactive=3695906816, buffers=394977280, cached=4856893440, shared=43913216, slab=956043264)\n",
      "    disk usage=sdiskusage(total=133167038464, used=54528483328, free=78621777920, percent=41.0)\n",
      "# Packages\n",
      "    python: 3.8.10\n",
      "    gluonnlp: ?\n",
      "    gluonts: 0.6.7\n",
      "    joblib: 1.0.1\n",
      "    mxnet: 1.8.0\n",
      "    numpy: 1.21.1\n",
      "    pandas: 1.3.3\n",
      "    pyarrow: 5.0.0\n",
      "    scipy: 1.6.1\n",
      "    seaborn: 0.11.2\n",
      "    sklearn: 1.0\n",
      "    statsmodels: 0.12.2\n",
      "\u001b[33mWARNING\u001b[0m: Disabling annoying warnings\n"
     ]
    }
   ],
   "source": [
    "hdbg.init_logger(verbosity=logging.INFO)\n",
    "\n",
    "_LOG = logging.getLogger(__name__)\n",
    "\n",
    "_LOG.info(\"%s\", henv.get_system_signature()[0])\n",
    "\n",
    "hprint.config_notebook()"
   ]
  },
  {
   "cell_type": "markdown",
   "id": "5e17925d",
   "metadata": {},
   "source": [
    "# Load test data"
   ]
  },
  {
   "cell_type": "code",
   "execution_count": 3,
   "id": "f16bb0ca",
   "metadata": {
    "ExecuteTime": {
     "end_time": "2021-11-18T23:21:36.586937Z",
     "start_time": "2021-11-18T23:21:26.964190Z"
    }
   },
   "outputs": [
    {
     "name": "stdout",
     "output_type": "stream",
     "text": [
      "Reading CCXT data for exchange id='kucoin', currencies='ETH/USDT' from file='s3://alphamatic-data/data/ccxt/20210924/kucoin/ETH_USDT.csv.gz'...\n",
      "Processing CCXT data for exchange id='kucoin', currencies='ETH/USDT'...\n",
      "Index length increased by 117548 = 1619960 - 1502412\n"
     ]
    },
    {
     "data": {
      "text/html": [
       "<div>\n",
       "<style scoped>\n",
       "    .dataframe tbody tr th:only-of-type {\n",
       "        vertical-align: middle;\n",
       "    }\n",
       "\n",
       "    .dataframe tbody tr th {\n",
       "        vertical-align: top;\n",
       "    }\n",
       "\n",
       "    .dataframe thead th {\n",
       "        text-align: right;\n",
       "    }\n",
       "</style>\n",
       "<table border=\"1\" class=\"dataframe\">\n",
       "  <thead>\n",
       "    <tr style=\"text-align: right;\">\n",
       "      <th></th>\n",
       "      <th>open</th>\n",
       "      <th>high</th>\n",
       "      <th>low</th>\n",
       "      <th>close</th>\n",
       "      <th>volume</th>\n",
       "      <th>epoch</th>\n",
       "      <th>currency_pair</th>\n",
       "      <th>exchange_id</th>\n",
       "    </tr>\n",
       "  </thead>\n",
       "  <tbody>\n",
       "    <tr>\n",
       "      <th>2018-08-16 20:01:00-04:00</th>\n",
       "      <td>286.712987</td>\n",
       "      <td>286.712987</td>\n",
       "      <td>286.712987</td>\n",
       "      <td>286.712987</td>\n",
       "      <td>0.017500</td>\n",
       "      <td>1.534464e+12</td>\n",
       "      <td>ETH/USDT</td>\n",
       "      <td>kucoin</td>\n",
       "    </tr>\n",
       "    <tr>\n",
       "      <th>2018-08-16 20:02:00-04:00</th>\n",
       "      <td>286.405988</td>\n",
       "      <td>286.405988</td>\n",
       "      <td>285.400193</td>\n",
       "      <td>285.400197</td>\n",
       "      <td>0.162255</td>\n",
       "      <td>1.534464e+12</td>\n",
       "      <td>ETH/USDT</td>\n",
       "      <td>kucoin</td>\n",
       "    </tr>\n",
       "    <tr>\n",
       "      <th>2018-08-16 20:03:00-04:00</th>\n",
       "      <td>285.400193</td>\n",
       "      <td>285.400193</td>\n",
       "      <td>285.400193</td>\n",
       "      <td>285.400193</td>\n",
       "      <td>0.020260</td>\n",
       "      <td>1.534464e+12</td>\n",
       "      <td>ETH/USDT</td>\n",
       "      <td>kucoin</td>\n",
       "    </tr>\n",
       "    <tr>\n",
       "      <th>2018-08-16 20:04:00-04:00</th>\n",
       "      <td>285.400193</td>\n",
       "      <td>285.884638</td>\n",
       "      <td>285.400193</td>\n",
       "      <td>285.884638</td>\n",
       "      <td>0.074655</td>\n",
       "      <td>1.534464e+12</td>\n",
       "      <td>ETH/USDT</td>\n",
       "      <td>kucoin</td>\n",
       "    </tr>\n",
       "    <tr>\n",
       "      <th>2018-08-16 20:05:00-04:00</th>\n",
       "      <td>285.400196</td>\n",
       "      <td>285.884637</td>\n",
       "      <td>285.400196</td>\n",
       "      <td>285.884637</td>\n",
       "      <td>0.006141</td>\n",
       "      <td>1.534464e+12</td>\n",
       "      <td>ETH/USDT</td>\n",
       "      <td>kucoin</td>\n",
       "    </tr>\n",
       "  </tbody>\n",
       "</table>\n",
       "</div>"
      ],
      "text/plain": [
       "                                 open        high         low       close    volume         epoch currency_pair exchange_id\n",
       "2018-08-16 20:01:00-04:00  286.712987  286.712987  286.712987  286.712987  0.017500  1.534464e+12      ETH/USDT      kucoin\n",
       "2018-08-16 20:02:00-04:00  286.405988  286.405988  285.400193  285.400197  0.162255  1.534464e+12      ETH/USDT      kucoin\n",
       "2018-08-16 20:03:00-04:00  285.400193  285.400193  285.400193  285.400193  0.020260  1.534464e+12      ETH/USDT      kucoin\n",
       "2018-08-16 20:04:00-04:00  285.400193  285.884638  285.400193  285.884638  0.074655  1.534464e+12      ETH/USDT      kucoin\n",
       "2018-08-16 20:05:00-04:00  285.400196  285.884637  285.400196  285.884637  0.006141  1.534464e+12      ETH/USDT      kucoin"
      ]
     },
     "execution_count": 3,
     "metadata": {},
     "output_type": "execute_result"
    }
   ],
   "source": [
    "root_dir = \"s3://alphamatic-data/data\"\n",
    "сcxt_loader = imcdalolo.CcxtLoaderFromFile(root_dir=root_dir, aws_profile=\"am\")\n",
    "data = сcxt_loader.read_data(\"kucoin\", \"ETH/USDT\", \"ohlcv\")\n",
    "data.head()"
   ]
  },
  {
   "cell_type": "markdown",
   "id": "78d43942",
   "metadata": {},
   "source": [
    "Get multiple chunks of the latest data for performance checks."
   ]
  },
  {
   "cell_type": "code",
   "execution_count": 4,
   "id": "ca105443",
   "metadata": {
    "ExecuteTime": {
     "end_time": "2021-11-16T20:49:46.972681Z",
     "start_time": "2021-11-16T20:49:46.966533Z"
    }
   },
   "outputs": [],
   "source": [
    "# Exactly 10-days length chunk.\n",
    "chunk_10days = data.tail(14400).copy()\n",
    "# Exactly 20-days length chunk.\n",
    "chunk_20days = data.tail(28800).copy()\n",
    "# Exactly 40-days length chunk.\n",
    "chunk_40days = data.tail(57600).copy()"
   ]
  },
  {
   "cell_type": "markdown",
   "id": "4198a7c0",
   "metadata": {},
   "source": [
    "# Mask approach"
   ]
  },
  {
   "cell_type": "markdown",
   "id": "69cc932b",
   "metadata": {},
   "source": [
    "Below you can see that execution time grows exponentially to the growth of input series chunk.\n",
    "\n",
    "If we take number of days in chunk as `x` for a rough approximation, rounded execution time in seconds as `y`, and build an equation that corresponds to the test samples then we get the following:<br>\n",
    "`y = (11/1500)x^2 + (3/4)x + (4/15)`<br>\n",
    "\n",
    "Then processing full 1619960 length series should take ~3-4 hours to complete so we should think about the ways to apply this function effectively."
   ]
  },
  {
   "cell_type": "code",
   "execution_count": 5,
   "id": "b45ea0ad",
   "metadata": {
    "ExecuteTime": {
     "end_time": "2021-11-16T20:50:27.846190Z",
     "start_time": "2021-11-16T20:50:19.122995Z"
    }
   },
   "outputs": [
    {
     "name": "stdout",
     "output_type": "stream",
     "text": [
      "CPU times: user 8.72 s, sys: 0 ns, total: 8.72 s\n",
      "Wall time: 8.72 s\n"
     ]
    }
   ],
   "source": [
    "%%time\n",
    "outlier_mask_10days = rccdeout.detect_outliers(\n",
    "    srs=chunk_10days[\"close\"], n_samples=1440, z_score_threshold=4\n",
    ")"
   ]
  },
  {
   "cell_type": "code",
   "execution_count": 6,
   "id": "53c5cfc4",
   "metadata": {
    "ExecuteTime": {
     "end_time": "2021-11-16T20:50:46.460404Z",
     "start_time": "2021-11-16T20:50:27.848351Z"
    }
   },
   "outputs": [
    {
     "name": "stdout",
     "output_type": "stream",
     "text": [
      "CPU times: user 18.6 s, sys: 0 ns, total: 18.6 s\n",
      "Wall time: 18.6 s\n"
     ]
    }
   ],
   "source": [
    "%%time\n",
    "outlier_mask_20days = rccdeout.detect_outliers(\n",
    "    srs=chunk_20days[\"close\"], n_samples=1440, z_score_threshold=4\n",
    ")"
   ]
  },
  {
   "cell_type": "code",
   "execution_count": 7,
   "id": "c48f1dbc",
   "metadata": {
    "ExecuteTime": {
     "end_time": "2021-11-16T20:51:30.966585Z",
     "start_time": "2021-11-16T20:50:46.462490Z"
    }
   },
   "outputs": [
    {
     "name": "stdout",
     "output_type": "stream",
     "text": [
      "CPU times: user 44.5 s, sys: 37.2 ms, total: 44.5 s\n",
      "Wall time: 44.5 s\n"
     ]
    }
   ],
   "source": [
    "%%time\n",
    "outlier_mask_40days = rccdeout.detect_outliers(\n",
    "    srs=chunk_40days[\"close\"], n_samples=1440, z_score_threshold=4\n",
    ")"
   ]
  },
  {
   "cell_type": "markdown",
   "id": "2471698e",
   "metadata": {},
   "source": [
    "Another problem with this approach is that its results are not robust to the cases when a harsh ascent or decline has happened and the price direction has continued. In this case all the values after this harsh change are considered outliers and dropped.\n",
    "\n",
    "Take a look at 10-days chunk result. It has 76% of its values considered outliers with Z-score threshold equals 4 while 3 is a standard. After 2021-09-07 04:25:00-04:00 the price falls from 3848.65 to 3841.97 and all the following observations that are below 3841.95 are considered outliers as well.<br>\n",
    "\n",
    "This is expected since we do not implement window data normalization before computing z-scores while the data we have clearly has trends at least and the values on the brick of z-score window can easily drop out from standard z-score threshold.\n",
    "\n",
    "Since crypto data is very volatile, we can end up with losing a lot of data in this case so we should consider the right values for window sample size and Z-scores."
   ]
  },
  {
   "cell_type": "code",
   "execution_count": 8,
   "id": "daf59b8a",
   "metadata": {
    "ExecuteTime": {
     "end_time": "2021-11-16T20:51:30.973461Z",
     "start_time": "2021-11-16T20:51:30.969042Z"
    }
   },
   "outputs": [
    {
     "data": {
      "text/plain": [
       "0.7622222222222222"
      ]
     },
     "execution_count": 8,
     "metadata": {},
     "output_type": "execute_result"
    }
   ],
   "source": [
    "outlier_mask_10days.sum() / outlier_mask_10days.shape[0]"
   ]
  },
  {
   "cell_type": "code",
   "execution_count": 9,
   "id": "ebcc5ca1",
   "metadata": {
    "ExecuteTime": {
     "end_time": "2021-11-16T20:51:30.981251Z",
     "start_time": "2021-11-16T20:51:30.975827Z"
    }
   },
   "outputs": [
    {
     "data": {
      "text/plain": [
       "array([False, False, False, ..., False, False,  True])"
      ]
     },
     "execution_count": 9,
     "metadata": {},
     "output_type": "execute_result"
    }
   ],
   "source": [
    "outlier_mask_10days[:3426]"
   ]
  },
  {
   "cell_type": "code",
   "execution_count": 10,
   "id": "350507a8",
   "metadata": {
    "ExecuteTime": {
     "end_time": "2021-11-16T20:51:30.987279Z",
     "start_time": "2021-11-16T20:51:30.983044Z"
    }
   },
   "outputs": [
    {
     "data": {
      "text/plain": [
       "array([ True,  True,  True, ...,  True,  True,  True])"
      ]
     },
     "execution_count": 10,
     "metadata": {},
     "output_type": "execute_result"
    }
   ],
   "source": [
    "outlier_mask_10days[3426:]"
   ]
  },
  {
   "cell_type": "code",
   "execution_count": 11,
   "id": "96e49c23",
   "metadata": {
    "ExecuteTime": {
     "end_time": "2021-11-16T20:51:30.993941Z",
     "start_time": "2021-11-16T20:51:30.989212Z"
    }
   },
   "outputs": [
    {
     "data": {
      "text/plain": [
       "{True}"
      ]
     },
     "execution_count": 11,
     "metadata": {},
     "output_type": "execute_result"
    }
   ],
   "source": [
    "set(outlier_mask_10days[3426:])"
   ]
  },
  {
   "cell_type": "code",
   "execution_count": 12,
   "id": "2a182216",
   "metadata": {
    "ExecuteTime": {
     "end_time": "2021-11-16T20:51:31.002743Z",
     "start_time": "2021-11-16T20:51:30.995592Z"
    }
   },
   "outputs": [
    {
     "data": {
      "text/plain": [
       "2021-09-07 04:21:00-04:00    3856.48\n",
       "2021-09-07 04:22:00-04:00    3848.52\n",
       "2021-09-07 04:23:00-04:00    3848.09\n",
       "2021-09-07 04:24:00-04:00    3853.52\n",
       "2021-09-07 04:25:00-04:00    3848.65\n",
       "Name: close, dtype: float64"
      ]
     },
     "execution_count": 12,
     "metadata": {},
     "output_type": "execute_result"
    }
   ],
   "source": [
    "chunk_10days[\"close\"][~outlier_mask_10days].tail()"
   ]
  },
  {
   "cell_type": "code",
   "execution_count": 13,
   "id": "108430d6",
   "metadata": {
    "ExecuteTime": {
     "end_time": "2021-11-16T20:51:31.012105Z",
     "start_time": "2021-11-16T20:51:31.004798Z"
    }
   },
   "outputs": [
    {
     "data": {
      "text/plain": [
       "2021-09-06 08:03:00-04:00    3866.12\n",
       "2021-09-07 04:26:00-04:00    3841.97\n",
       "2021-09-07 04:27:00-04:00    3811.05\n",
       "2021-09-07 04:28:00-04:00    3828.69\n",
       "2021-09-07 04:29:00-04:00    3808.34\n",
       "Name: close, dtype: float64"
      ]
     },
     "execution_count": 13,
     "metadata": {},
     "output_type": "execute_result"
    }
   ],
   "source": [
    "chunk_10days[\"close\"][outlier_mask_10days].head()"
   ]
  },
  {
   "cell_type": "markdown",
   "id": "bbfae1a5",
   "metadata": {},
   "source": [
    "All the other chunks have a lot of false outliers as well."
   ]
  },
  {
   "cell_type": "code",
   "execution_count": 14,
   "id": "ce75c512",
   "metadata": {
    "ExecuteTime": {
     "end_time": "2021-11-16T20:51:31.021793Z",
     "start_time": "2021-11-16T20:51:31.014621Z"
    }
   },
   "outputs": [
    {
     "name": "stdout",
     "output_type": "stream",
     "text": [
      "0.5251388888888889\n",
      "0.3101388888888889\n"
     ]
    }
   ],
   "source": [
    "print(outlier_mask_20days.sum() / outlier_mask_20days.shape[0])\n",
    "print(outlier_mask_40days.sum() / outlier_mask_40days.shape[0])"
   ]
  },
  {
   "cell_type": "markdown",
   "id": "4ddcbb28",
   "metadata": {},
   "source": [
    "# Dropping outliers on-flight approach"
   ]
  },
  {
   "cell_type": "code",
   "execution_count": 171,
   "id": "c3b9503d",
   "metadata": {
    "ExecuteTime": {
     "end_time": "2021-11-15T02:51:49.763921Z",
     "start_time": "2021-11-15T02:51:49.754567Z"
    }
   },
   "outputs": [],
   "source": [
    "def remove_outlier_at_index(\n",
    "    srs: pd.Series,\n",
    "    z_score_boundary: int,\n",
    "    z_score_window_size: int,\n",
    "    index_to_check: int,\n",
    ") -> pd.Series:\n",
    "    \"\"\"\n",
    "    Check if a series value at index is an outlier and remove it if so.\n",
    "\n",
    "    Index should be a row of positive integers like 0, 1, 2, etc.\n",
    "\n",
    "    Z-score window indices are adjusting with respect to its size, the size of input\n",
    "    and index to check.\n",
    "\n",
    "    Z-score window size is an integer number of index steps that will be included\n",
    "    in Z-score computation and outlier detection.\n",
    "\n",
    "    :param srs: input series\n",
    "    :param z_score_boundary: boundary value to check for outlier's Z-score\n",
    "    :param z_score_window_size: size of the window to compute Z-score for\n",
    "    :param index_to_check: index of a value to check\n",
    "    :return: input series with removed value at given index if it was considered an outlier\n",
    "    \"\"\"\n",
    "    # Get numerical order of a given index.\n",
    "    index_order = srs.index.get_loc(index_to_check)\n",
    "    # Set window indices.\n",
    "    window_first_index = max(0, index_order - z_score_window_size)\n",
    "    window_last_index = max(index_order, window_first_index + z_score_window_size)\n",
    "    # Verify that distance between window indices equals Z-score window size\n",
    "    # and that index to check is laying between these indices.\n",
    "    hdbg.dassert_eq(z_score_window_size, window_last_index - window_first_index)\n",
    "    hdbg.dassert_lte(window_first_index, index_order)\n",
    "    hdbg.dassert_lte(index_order, window_last_index)\n",
    "    # Get a window to compute Z-score for.\n",
    "    window_srs = srs.iloc[window_first_index:window_last_index].copy()\n",
    "    # Compute Z-score of a value at index.\n",
    "    z_score = (srs[index_order] - window_srs.mean()) / window_srs.std()\n",
    "    # Drop the value if its Z-score is None or laying beyond the specified boundaries.\n",
    "    if not abs(z_score) <= z_score_boundary:\n",
    "        srs = srs.drop([index_to_check]).copy()\n",
    "    return srs\n",
    "\n",
    "\n",
    "def remove_rolling_outliers(\n",
    "    df: pd.DataFrame,\n",
    "    col: str,\n",
    "    z_score_boundary: int,\n",
    "    z_score_window: int,\n",
    ") -> pd.DataFrame:\n",
    "    \"\"\"\n",
    "    Remove outliers using a rolling window.\n",
    "\n",
    "    Outliers are being removed consequtively after every window check.\n",
    "\n",
    "    Z-score window indices are adjusting with respect to its size, the size of input\n",
    "    and index to check.\n",
    "\n",
    "    Z-score window size is an integer number of index steps that will be included\n",
    "    in Z-score computation and outlier detection.\n",
    "\n",
    "    :param srs: input dataframe\n",
    "    :param col: column to check for outliers\n",
    "    :param z_score_boundary: Z-score boundary to check the value\n",
    "    :param z_score_window: size of the window to compute Z-score for\n",
    "    :return: dataframe with removed outliers\n",
    "    \"\"\"\n",
    "    # Get a series to detect outliers in.\n",
    "    price_srs = df[col].copy()\n",
    "    # Iterate over series indices.\n",
    "    for index_ in price_srs.index:\n",
    "        # For every index check if its value is an outlier and\n",
    "        # remove it from the series if so.\n",
    "        price_srs = remove_outlier_at_index(\n",
    "            price_srs, z_score_boundary, z_score_window, index_\n",
    "        )\n",
    "    # Get dataframe rows that correspond to the non-outliers indices.\n",
    "    clean_df = df[df.index.isin(price_srs.index)].copy()\n",
    "    return clean_df"
   ]
  },
  {
   "cell_type": "markdown",
   "id": "1f6bdb24",
   "metadata": {},
   "source": [
    "Dropping outliers on-flight approach seems to work slower on small chunks and its execution time grows exponentially to the series length as well.\n",
    "\n",
    "So needless to say, its less effective than the mask one and should not be used."
   ]
  },
  {
   "cell_type": "code",
   "execution_count": 174,
   "id": "209b7ccf",
   "metadata": {
    "ExecuteTime": {
     "end_time": "2021-11-15T02:52:47.076773Z",
     "start_time": "2021-11-15T02:52:28.035098Z"
    }
   },
   "outputs": [
    {
     "name": "stdout",
     "output_type": "stream",
     "text": [
      "CPU times: user 19 s, sys: 89 µs, total: 19 s\n",
      "Wall time: 19 s\n"
     ]
    }
   ],
   "source": [
    "%%time\n",
    "old_clean_chunk_10days = remove_rolling_outliers(chunk_10days, \"close\", 3, 1440)"
   ]
  },
  {
   "cell_type": "code",
   "execution_count": 175,
   "id": "b6618216",
   "metadata": {
    "ExecuteTime": {
     "end_time": "2021-11-15T02:53:28.316262Z",
     "start_time": "2021-11-15T02:52:47.078609Z"
    },
    "scrolled": true
   },
   "outputs": [
    {
     "name": "stdout",
     "output_type": "stream",
     "text": [
      "CPU times: user 41.2 s, sys: 79 µs, total: 41.2 s\n",
      "Wall time: 41.2 s\n"
     ]
    }
   ],
   "source": [
    "%%time\n",
    "old_clean_chunk_20days = remove_rolling_outliers(chunk_20days, \"close\", 3, 1440)"
   ]
  },
  {
   "cell_type": "code",
   "execution_count": 176,
   "id": "a59c93be",
   "metadata": {
    "ExecuteTime": {
     "end_time": "2021-11-15T02:55:03.267942Z",
     "start_time": "2021-11-15T02:53:28.318507Z"
    },
    "scrolled": true
   },
   "outputs": [
    {
     "name": "stdout",
     "output_type": "stream",
     "text": [
      "CPU times: user 1min 34s, sys: 11.9 ms, total: 1min 34s\n",
      "Wall time: 1min 34s\n"
     ]
    }
   ],
   "source": [
    "%%time\n",
    "old_clean_chunk_40days = remove_rolling_outliers(chunk_40days, \"close\", 3, 1440)"
   ]
  },
  {
   "cell_type": "markdown",
   "id": "88dbec68",
   "metadata": {},
   "source": [
    "# Overlapping windows approach"
   ]
  },
  {
   "cell_type": "code",
   "execution_count": 37,
   "id": "5e9790d7",
   "metadata": {
    "ExecuteTime": {
     "end_time": "2021-11-15T06:54:12.855911Z",
     "start_time": "2021-11-15T06:54:12.848337Z"
    }
   },
   "outputs": [],
   "source": [
    "def detect_outliers_new(\n",
    "    srs: pd.Series,\n",
    "    n_samples: int = 1440,\n",
    "    window_step: int = 10,\n",
    "    z_score_threshold: float = 3.0,\n",
    "):\n",
    "    \"\"\"\n",
    "    Detect outliers using overlapping windows and averaged z-scores of each\n",
    "    observation.\n",
    "\n",
    "    Almost every observation will belong to `n_samples` of windows which means that each one\n",
    "    is going to have `n_samples` of Z-scores. The mean of these scores will give an averaged\n",
    "    Z-score which will be a more robust metrics to check if a value is an outlier than\n",
    "    a rolling Z-score computed just once.\n",
    "\n",
    "    This function\n",
    "    - creates list of overlapping z-score windows\n",
    "    - computes z-score of each element in every window\n",
    "    - for each observation takes average of all the z-scores from the windows it belongs to\n",
    "    - compares averaged z-score to the threshold to declare the current element an outlier\n",
    "\n",
    "    :param srs: input series\n",
    "    :param n_samples: number of samples in z-score windows\n",
    "    :param z_score_threshold: threshold to mark a value as an outlier based on its averaged z-score\n",
    "    :return: whether the element at index idx is an outlier\n",
    "    \"\"\"\n",
    "    # Create a list of overlapping windows.\n",
    "    windows = [\n",
    "        srs.iloc[idx : idx + n_samples]\n",
    "        for idx in range(0, srs.shape[0] - n_samples + window_step, window_step)\n",
    "    ]\n",
    "    # Compute z-score for each observation in every window.\n",
    "    z_scores_list = [\n",
    "        abs((window - window.mean()) / window.std()) for window in windows\n",
    "    ]\n",
    "    # Concatenate z-scores series in one.\n",
    "    z_scores_srs = pd.concat(z_scores_list)\n",
    "    # Groupby by index and take the averaged z-score for every index value.\n",
    "    z_scores_stats = z_scores_srs.groupby(z_scores_srs.index).mean()\n",
    "    # Get a mask for outliers.\n",
    "    # Done via `<=` since a series can contain None values that should be detected\n",
    "    # as well but will result to NaN if compared to the threshold directly.\n",
    "    outliers_mask = ~(z_scores_stats <= z_score_threshold)\n",
    "    return outliers_mask"
   ]
  },
  {
   "cell_type": "markdown",
   "id": "5905d866",
   "metadata": {},
   "source": [
    "Since both approaches suggested above are very slow and can't be really applied to all the data directly, I'd like to propose another approach to this problem.\n",
    "\n",
    "Description of the approach can be found in a function docstrings. In short, this is not an approach that has a memory but here we compute an averaged z-score for each observation for multiple windows it belongs to. IMO this should make outlier detection more robust and give consistent results for most observations (only corner cases may differ, no observations are removed so full-sized windows are always constant).\n",
    "\n",
    "This approach might be less robust to consecutive outliers than the previous ones but it demonstrates extremely faster performance. it processes the whole series in just 2 minutes with 1-day sized windows that overlap each 10 minutes.<br>\n",
    "Therefore, if this algorithm robustness is enough for us, I suggest we use it for outlier detection."
   ]
  },
  {
   "cell_type": "code",
   "execution_count": 38,
   "id": "ee656863",
   "metadata": {
    "ExecuteTime": {
     "end_time": "2021-11-15T06:56:29.072405Z",
     "start_time": "2021-11-15T06:54:14.969882Z"
    }
   },
   "outputs": [],
   "source": [
    "all_outliers_mask = detect_outliers_new(data[\"close\"])"
   ]
  },
  {
   "cell_type": "markdown",
   "id": "edcd5b0f",
   "metadata": {},
   "source": [
    "The algorithm detects None values and the small amount of outliers."
   ]
  },
  {
   "cell_type": "code",
   "execution_count": 45,
   "id": "78e53376",
   "metadata": {
    "ExecuteTime": {
     "end_time": "2021-11-15T06:58:21.247622Z",
     "start_time": "2021-11-15T06:58:21.236074Z"
    }
   },
   "outputs": [
    {
     "data": {
      "text/plain": [
       "118231"
      ]
     },
     "execution_count": 45,
     "metadata": {},
     "output_type": "execute_result"
    }
   ],
   "source": [
    "all_outliers = data[\"close\"][all_outliers_mask]\n",
    "len(all_outliers)"
   ]
  },
  {
   "cell_type": "code",
   "execution_count": 47,
   "id": "f22cce6e",
   "metadata": {
    "ExecuteTime": {
     "end_time": "2021-11-15T06:58:41.611978Z",
     "start_time": "2021-11-15T06:58:41.597216Z"
    }
   },
   "outputs": [
    {
     "data": {
      "text/plain": [
       "683"
      ]
     },
     "execution_count": 47,
     "metadata": {},
     "output_type": "execute_result"
    }
   ],
   "source": [
    "len(all_outliers.dropna())"
   ]
  },
  {
   "cell_type": "markdown",
   "id": "564008ec",
   "metadata": {},
   "source": [
    "Computations for small chunks are done almost immediately, all the detected outliers are stable across the chunks."
   ]
  },
  {
   "cell_type": "code",
   "execution_count": 50,
   "id": "14db457b",
   "metadata": {
    "ExecuteTime": {
     "end_time": "2021-11-15T07:06:54.049623Z",
     "start_time": "2021-11-15T07:06:49.868653Z"
    }
   },
   "outputs": [],
   "source": [
    "outlier_mask_new_40days = detect_outliers_new(chunk_40days[\"close\"]).dropna()"
   ]
  },
  {
   "cell_type": "code",
   "execution_count": 53,
   "id": "5d97b78b",
   "metadata": {
    "ExecuteTime": {
     "end_time": "2021-11-15T07:07:24.812330Z",
     "start_time": "2021-11-15T07:07:24.805436Z"
    }
   },
   "outputs": [
    {
     "data": {
      "text/plain": [
       "2021-08-10 09:31:00-04:00    3224.65\n",
       "2021-08-10 09:34:00-04:00    3228.84\n",
       "2021-08-10 09:35:00-04:00    3229.72\n",
       "2021-08-10 09:36:00-04:00    3224.46\n",
       "2021-09-06 08:03:00-04:00    3866.12\n",
       "2021-09-07 11:08:00-04:00    3083.99\n",
       "2021-09-07 11:09:00-04:00    3016.85\n",
       "2021-09-07 11:10:00-04:00    3120.77\n",
       "Name: close, dtype: float64"
      ]
     },
     "execution_count": 53,
     "metadata": {},
     "output_type": "execute_result"
    }
   ],
   "source": [
    "chunk_40days[\"close\"][outlier_mask_new_40days]"
   ]
  },
  {
   "cell_type": "code",
   "execution_count": 51,
   "id": "72f5bd91",
   "metadata": {
    "ExecuteTime": {
     "end_time": "2021-11-15T07:06:56.014147Z",
     "start_time": "2021-11-15T07:06:54.052007Z"
    }
   },
   "outputs": [],
   "source": [
    "outlier_mask_new_20days = detect_outliers_new(chunk_20days[\"close\"]).dropna()"
   ]
  },
  {
   "cell_type": "code",
   "execution_count": 54,
   "id": "856fc76b",
   "metadata": {
    "ExecuteTime": {
     "end_time": "2021-11-15T07:07:44.926470Z",
     "start_time": "2021-11-15T07:07:44.918367Z"
    }
   },
   "outputs": [
    {
     "data": {
      "text/plain": [
       "2021-09-06 08:03:00-04:00    3866.12\n",
       "2021-09-07 11:08:00-04:00    3083.99\n",
       "2021-09-07 11:09:00-04:00    3016.85\n",
       "2021-09-07 11:10:00-04:00    3120.77\n",
       "Name: close, dtype: float64"
      ]
     },
     "execution_count": 54,
     "metadata": {},
     "output_type": "execute_result"
    }
   ],
   "source": [
    "chunk_20days[\"close\"][outlier_mask_new_20days]"
   ]
  },
  {
   "cell_type": "code",
   "execution_count": 52,
   "id": "865d2161",
   "metadata": {
    "ExecuteTime": {
     "end_time": "2021-11-15T07:06:56.952258Z",
     "start_time": "2021-11-15T07:06:56.016039Z"
    }
   },
   "outputs": [],
   "source": [
    "outlier_mask_new_10days = detect_outliers_new(chunk_10days[\"close\"]).dropna()"
   ]
  },
  {
   "cell_type": "code",
   "execution_count": 55,
   "id": "63e71249",
   "metadata": {
    "ExecuteTime": {
     "end_time": "2021-11-15T07:07:53.864453Z",
     "start_time": "2021-11-15T07:07:53.855159Z"
    }
   },
   "outputs": [
    {
     "data": {
      "text/plain": [
       "2021-09-06 08:03:00-04:00    3866.12\n",
       "2021-09-07 11:08:00-04:00    3083.99\n",
       "2021-09-07 11:09:00-04:00    3016.85\n",
       "2021-09-07 11:10:00-04:00    3120.77\n",
       "Name: close, dtype: float64"
      ]
     },
     "execution_count": 55,
     "metadata": {},
     "output_type": "execute_result"
    }
   ],
   "source": [
    "chunk_10days[\"close\"][outlier_mask_new_10days]"
   ]
  },
  {
   "cell_type": "code",
   "execution_count": null,
   "id": "1e047f0a",
   "metadata": {},
   "outputs": [],
   "source": []
  }
 ],
 "metadata": {
  "jupytext": {
   "encoding": "# -*- coding: utf-8 -*-",
   "text_representation": {
    "extension": ".py",
    "format_name": "percent",
    "format_version": "1.3",
    "jupytext_version": "1.13.0"
   }
  },
  "kernelspec": {
   "display_name": "Python 3 (ipykernel)",
   "language": "python",
   "name": "python3"
  },
  "language_info": {
   "codemirror_mode": {
    "name": "ipython",
    "version": 3
   },
   "file_extension": ".py",
   "mimetype": "text/x-python",
   "name": "python",
   "nbconvert_exporter": "python",
   "pygments_lexer": "ipython3",
   "version": "3.8.10"
  },
  "toc": {
   "base_numbering": 1,
   "nav_menu": {},
   "number_sections": true,
   "sideBar": true,
   "skip_h1_title": false,
   "title_cell": "Table of Contents",
   "title_sidebar": "Contents",
   "toc_cell": false,
   "toc_position": {},
   "toc_section_display": true,
   "toc_window_display": false
  }
 },
 "nbformat": 4,
 "nbformat_minor": 5
}
