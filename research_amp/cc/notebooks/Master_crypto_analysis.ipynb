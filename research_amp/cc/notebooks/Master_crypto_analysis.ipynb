{
 "cells": [
  {
   "cell_type": "markdown",
   "id": "42069126",
   "metadata": {},
   "source": [
    "# Description"
   ]
  },
  {
   "cell_type": "markdown",
   "id": "8fe5775a",
   "metadata": {},
   "source": [
    "This notebook performs EDA on the crypto prices and returns."
   ]
  },
  {
   "cell_type": "markdown",
   "id": "3e2e6718",
   "metadata": {},
   "source": [
    "# Imports"
   ]
  },
  {
   "cell_type": "code",
   "execution_count": 1,
   "id": "dbd664a7",
   "metadata": {
    "ExecuteTime": {
     "end_time": "2021-11-18T23:27:56.620344Z",
     "start_time": "2021-11-18T23:27:56.618103Z"
    }
   },
   "outputs": [],
   "source": [
    "# %load_ext autoreload\n",
    "# %autoreload 2\n",
    "# %matplotlib inline"
   ]
  },
  {
   "cell_type": "code",
   "execution_count": 2,
   "id": "3c316ebd",
   "metadata": {
    "ExecuteTime": {
     "end_time": "2021-11-18T23:27:58.326934Z",
     "start_time": "2021-11-18T23:27:56.625677Z"
    }
   },
   "outputs": [
    {
     "name": "stderr",
     "output_type": "stream",
     "text": [
      "/app/core/explore.py:39: TqdmExperimentalWarning: Using `tqdm.autonotebook.tqdm` in notebook mode. Use `tqdm.tqdm` instead to force console mode (e.g. in jupyter console)\n",
      "  import tqdm.autonotebook as tauton\n"
     ]
    }
   ],
   "source": [
    "# TODO(Grisha): move to `core/dataflow_model/notebooks` in #205.\n",
    "\n",
    "import logging\n",
    "import os\n",
    "\n",
    "import pandas as pd\n",
    "import pytz\n",
    "\n",
    "import core.config.config_ as cconconf\n",
    "import core.explore as coexplor\n",
    "import core.plotting as coplotti\n",
    "import helpers.datetime_ as hdateti\n",
    "import helpers.dbg as hdbg\n",
    "import helpers.env as henv\n",
    "import helpers.printing as hprint\n",
    "import helpers.s3 as hs3\n",
    "import im_v2.ccxt.data.client.loader as imcdacllo"
   ]
  },
  {
   "cell_type": "code",
   "execution_count": 3,
   "id": "284a5350",
   "metadata": {
    "ExecuteTime": {
     "end_time": "2021-11-18T23:27:59.477073Z",
     "start_time": "2021-11-18T23:27:58.329128Z"
    }
   },
   "outputs": [
    {
     "name": "stdout",
     "output_type": "stream",
     "text": [
      "\u001b[0m\u001b[36mINFO\u001b[0m: > cmd='/venv/lib/python3.8/site-packages/ipykernel_launcher.py -f /home/.local/share/jupyter/runtime/kernel-9d2331f6-9a23-498e-a22d-49e0bb15c024.json'\n",
      "\u001b[33mWARNING\u001b[0m: Running in Jupyter\n",
      "\u001b[33mWARNING\u001b[0m: Can't find version.txt, so using version=None\n",
      ">>ENV<<: is_inside_container=True: code_version=None, container_version=cmamp-1.0.0, is_inside_docker=True, is_inside_ci=False, CI_defined=True, CI=''\n",
      ">>ENV<<: AM_AWS_PROFILE=True AM_ECR_BASE_PATH=True AM_S3_BUCKET=True AM_TELEGRAM_TOKEN=True AWS_ACCESS_KEY_ID=False AWS_DEFAULT_REGION=False AWS_SECRET_ACCESS_KEY=False GH_ACTION_ACCESS_TOKEN=True\n",
      "\u001b[31m-----------------------------------------------------------------------------\n",
      "This code is not in sync with the container:\n",
      "code_version='None' != container_version='cmamp-1.0.0'\n",
      "-----------------------------------------------------------------------------\n",
      "You need to:\n",
      "- merge origin/master into your branch with `invoke git_merge_master`\n",
      "- pull the latest container with `invoke docker_pull`\u001b[0m\n",
      "# Git\n",
      "    branch_name='CmTask456_Refactor_CCXT_loader_in_im_v2'\n",
      "    hash='841fba91'\n",
      "    # Last commits:\n",
      "      *   841fba91 DanY     Merge branch 'master' into CmTask456_Refactor_CCXT_loader_in_im_v2 (10 minutes ago) Thu Nov 18 23:17:31 2021  (HEAD -> CmTask456_Refactor_CCXT_loader_in_im_v2, origin/CmTask456_Refactor_CCXT_loader_in_im_v2)\n",
      "      |\\  \n",
      "      * | 693cbafb DanY     CmTask456: update lib calls                                       (19 minutes ago) Thu Nov 18 23:09:04 2021           \n",
      "      * | a8a61aa0 DanY     CmTask456: replace old CcxtLoader with new code                   (24 minutes ago) Thu Nov 18 23:03:57 2021           \n",
      "# Machine info\n",
      "    system=Linux\n",
      "    node name=d69bc29302cb\n",
      "    release=5.4.0-1057-aws\n",
      "    version=#60~18.04.1-Ubuntu SMP Thu Sep 9 20:38:09 UTC 2021\n",
      "    machine=x86_64\n",
      "    processor=x86_64\n",
      "    cpu count=4\n",
      "    cpu freq=scpufreq(current=2499.998, min=0.0, max=0.0)\n",
      "    memory=svmem(total=16596852736, available=9975382016, percent=39.9, used=6235815936, free=5072871424, active=6694715392, inactive=3653316608, buffers=397119488, cached=4891045888, shared=43913216, slab=962514944)\n",
      "    disk usage=sdiskusage(total=133167038464, used=54528495616, free=78621765632, percent=41.0)\n",
      "# Packages\n",
      "    python: 3.8.10\n",
      "    gluonnlp: ?\n",
      "    gluonts: 0.6.7\n",
      "    joblib: 1.0.1\n",
      "    mxnet: 1.8.0\n",
      "    numpy: 1.21.1\n",
      "    pandas: 1.3.3\n",
      "    pyarrow: 5.0.0\n",
      "    scipy: 1.6.1\n",
      "    seaborn: 0.11.2\n",
      "    sklearn: 1.0\n",
      "    statsmodels: 0.12.2\n",
      "\u001b[33mWARNING\u001b[0m: Disabling annoying warnings\n"
     ]
    }
   ],
   "source": [
    "hdbg.init_logger(verbosity=logging.INFO)\n",
    "\n",
    "_LOG = logging.getLogger(__name__)\n",
    "\n",
    "_LOG.info(\"%s\", henv.get_system_signature()[0])\n",
    "\n",
    "hprint.config_notebook()"
   ]
  },
  {
   "cell_type": "markdown",
   "id": "808d63c0",
   "metadata": {},
   "source": [
    "# Config"
   ]
  },
  {
   "cell_type": "code",
   "execution_count": 4,
   "id": "07d59b95",
   "metadata": {
    "ExecuteTime": {
     "end_time": "2021-11-18T23:27:59.503728Z",
     "start_time": "2021-11-18T23:27:59.479066Z"
    }
   },
   "outputs": [
    {
     "name": "stdout",
     "output_type": "stream",
     "text": [
      "load:\n",
      "  aws_profile: am\n",
      "  data_dir: s3://alphamatic-data/data\n",
      "data:\n",
      "  close_price_col_name: close\n",
      "  frequency: T\n",
      "  timezone: US/Eastern\n",
      "stats:\n",
      "  z_score_boundary: 3\n",
      "  z_score_window: D\n"
     ]
    }
   ],
   "source": [
    "def get_eda_config() -> cconconf.Config:\n",
    "    \"\"\"\n",
    "    Get config that controls EDA parameters.\n",
    "    \"\"\"\n",
    "    config = cconconf.Config()\n",
    "    # Load parameters.\n",
    "    config.add_subconfig(\"load\")\n",
    "    config[\"load\"][\"aws_profile\"] = \"am\"\n",
    "    config[\"load\"][\"data_dir\"] = os.path.join(hs3.get_path(), \"data\")\n",
    "    # Data parameters.\n",
    "    config.add_subconfig(\"data\")\n",
    "    config[\"data\"][\"close_price_col_name\"] = \"close\"\n",
    "    config[\"data\"][\"frequency\"] = \"T\"\n",
    "    # TODO(Grisha): use `hdateti.get_ET_tz()` once it is fixed.\n",
    "    config[\"data\"][\"timezone\"] = pytz.timezone(\"US/Eastern\")\n",
    "    # Statistics parameters.\n",
    "    config.add_subconfig(\"stats\")\n",
    "    config[\"stats\"][\"z_score_boundary\"] = 3\n",
    "    config[\"stats\"][\"z_score_window\"] = \"D\"\n",
    "    return config\n",
    "\n",
    "\n",
    "config = get_eda_config()\n",
    "print(config)"
   ]
  },
  {
   "cell_type": "markdown",
   "id": "42055791",
   "metadata": {},
   "source": [
    "# Load data"
   ]
  },
  {
   "cell_type": "code",
   "execution_count": 6,
   "id": "a2303831",
   "metadata": {
    "ExecuteTime": {
     "end_time": "2021-11-18T23:28:07.249917Z",
     "start_time": "2021-11-18T23:28:07.247447Z"
    }
   },
   "outputs": [],
   "source": [
    "# TODO(Grisha): allow loading multiple assets/exchanges/currencies #219."
   ]
  },
  {
   "cell_type": "code",
   "execution_count": 7,
   "id": "536bba23",
   "metadata": {
    "ExecuteTime": {
     "end_time": "2021-11-18T23:28:19.680211Z",
     "start_time": "2021-11-18T23:28:07.626122Z"
    }
   },
   "outputs": [
    {
     "name": "stdout",
     "output_type": "stream",
     "text": [
      "Reading CCXT data for exchange id='binance', currencies='BTC/USDT' from file='s3://alphamatic-data/data/ccxt/20210924/binance/BTC_USDT.csv.gz'...\n",
      "Processing CCXT data for exchange id='binance', currencies='BTC/USDT'...\n",
      "Index length increased by 4519 = 1619641 - 1615122\n",
      "shape=1619641\n"
     ]
    },
    {
     "data": {
      "text/html": [
       "<div>\n",
       "<style scoped>\n",
       "    .dataframe tbody tr th:only-of-type {\n",
       "        vertical-align: middle;\n",
       "    }\n",
       "\n",
       "    .dataframe tbody tr th {\n",
       "        vertical-align: top;\n",
       "    }\n",
       "\n",
       "    .dataframe thead th {\n",
       "        text-align: right;\n",
       "    }\n",
       "</style>\n",
       "<table border=\"1\" class=\"dataframe\">\n",
       "  <thead>\n",
       "    <tr style=\"text-align: right;\">\n",
       "      <th></th>\n",
       "      <th>open</th>\n",
       "      <th>high</th>\n",
       "      <th>low</th>\n",
       "      <th>close</th>\n",
       "      <th>volume</th>\n",
       "      <th>epoch</th>\n",
       "      <th>currency_pair</th>\n",
       "      <th>exchange_id</th>\n",
       "    </tr>\n",
       "  </thead>\n",
       "  <tbody>\n",
       "    <tr>\n",
       "      <th>2018-08-16 20:00:00-04:00</th>\n",
       "      <td>6316.00</td>\n",
       "      <td>6319.04</td>\n",
       "      <td>6310.32</td>\n",
       "      <td>6311.64</td>\n",
       "      <td>9.967395</td>\n",
       "      <td>1.534464e+12</td>\n",
       "      <td>BTC/USDT</td>\n",
       "      <td>binance</td>\n",
       "    </tr>\n",
       "    <tr>\n",
       "      <th>2018-08-16 20:01:00-04:00</th>\n",
       "      <td>6311.64</td>\n",
       "      <td>6311.77</td>\n",
       "      <td>6302.81</td>\n",
       "      <td>6302.81</td>\n",
       "      <td>16.781206</td>\n",
       "      <td>1.534464e+12</td>\n",
       "      <td>BTC/USDT</td>\n",
       "      <td>binance</td>\n",
       "    </tr>\n",
       "    <tr>\n",
       "      <th>2018-08-16 20:02:00-04:00</th>\n",
       "      <td>6302.81</td>\n",
       "      <td>6306.00</td>\n",
       "      <td>6292.79</td>\n",
       "      <td>6297.26</td>\n",
       "      <td>55.373226</td>\n",
       "      <td>1.534464e+12</td>\n",
       "      <td>BTC/USDT</td>\n",
       "      <td>binance</td>\n",
       "    </tr>\n",
       "  </tbody>\n",
       "</table>\n",
       "</div>"
      ],
      "text/plain": [
       "                              open     high      low    close     volume         epoch currency_pair exchange_id\n",
       "2018-08-16 20:00:00-04:00  6316.00  6319.04  6310.32  6311.64   9.967395  1.534464e+12      BTC/USDT     binance\n",
       "2018-08-16 20:01:00-04:00  6311.64  6311.77  6302.81  6302.81  16.781206  1.534464e+12      BTC/USDT     binance\n",
       "2018-08-16 20:02:00-04:00  6302.81  6306.00  6292.79  6297.26  55.373226  1.534464e+12      BTC/USDT     binance"
      ]
     },
     "execution_count": 7,
     "metadata": {},
     "output_type": "execute_result"
    }
   ],
   "source": [
    "# TODO(Grisha): potentially read data from the db.\n",
    "ccxt_loader = imcdacllo.CcxtLoaderFromFile(\n",
    "    root_dir=config[\"load\"][\"data_dir\"], aws_profile=config[\"load\"][\"aws_profile\"]\n",
    ")\n",
    "ccxt_data = ccxt_loader.read_data(\n",
    "    exchange_id=\"binance\", currency_pair=\"BTC/USDT\", data_type=\"OHLCV\"\n",
    ")\n",
    "_LOG.info(\"shape=%s\", ccxt_data.shape[0])\n",
    "ccxt_data.head(3)"
   ]
  },
  {
   "cell_type": "code",
   "execution_count": 6,
   "id": "6919e835",
   "metadata": {
    "ExecuteTime": {
     "end_time": "2021-10-22T16:24:33.286299Z",
     "start_time": "2021-10-22T16:24:33.079006Z"
    }
   },
   "outputs": [
    {
     "ename": "AssertionError",
     "evalue": "\n################################################################################\n* Failed assertion *\n'America/New_York'\n==\n'US/Eastern'\n################################################################################\n",
     "output_type": "error",
     "traceback": [
      "\u001b[0;31m---------------------------------------------------------------------------\u001b[0m",
      "\u001b[0;31mAssertionError\u001b[0m                            Traceback (most recent call last)",
      "\u001b[0;32m/tmp/ipykernel_393/3557880064.py\u001b[0m in \u001b[0;36m<module>\u001b[0;34m\u001b[0m\n\u001b[1;32m      1\u001b[0m \u001b[0;31m# Check the timezone info.\u001b[0m\u001b[0;34m\u001b[0m\u001b[0;34m\u001b[0m\u001b[0;34m\u001b[0m\u001b[0m\n\u001b[0;32m----> 2\u001b[0;31m hdbg.dassert_eq(\n\u001b[0m\u001b[1;32m      3\u001b[0m     \u001b[0mccxt_data\u001b[0m\u001b[0;34m.\u001b[0m\u001b[0mindex\u001b[0m\u001b[0;34m.\u001b[0m\u001b[0mtzinfo\u001b[0m\u001b[0;34m,\u001b[0m\u001b[0;34m\u001b[0m\u001b[0;34m\u001b[0m\u001b[0m\n\u001b[1;32m      4\u001b[0m     \u001b[0mconfig\u001b[0m\u001b[0;34m[\u001b[0m\u001b[0;34m\"data\"\u001b[0m\u001b[0;34m]\u001b[0m\u001b[0;34m[\u001b[0m\u001b[0;34m\"timezone\"\u001b[0m\u001b[0;34m]\u001b[0m\u001b[0;34m,\u001b[0m\u001b[0;34m\u001b[0m\u001b[0;34m\u001b[0m\u001b[0m\n\u001b[1;32m      5\u001b[0m )\n",
      "\u001b[0;32m/app/helpers/dbg.py\u001b[0m in \u001b[0;36mdassert_eq\u001b[0;34m(val1, val2, msg, *args)\u001b[0m\n\u001b[1;32m    134\u001b[0m     \u001b[0;32mif\u001b[0m \u001b[0;32mnot\u001b[0m \u001b[0mcond\u001b[0m\u001b[0;34m:\u001b[0m\u001b[0;34m\u001b[0m\u001b[0;34m\u001b[0m\u001b[0m\n\u001b[1;32m    135\u001b[0m         \u001b[0mtxt\u001b[0m \u001b[0;34m=\u001b[0m \u001b[0;34m\"'%s'\\n==\\n'%s'\"\u001b[0m \u001b[0;34m%\u001b[0m \u001b[0;34m(\u001b[0m\u001b[0mval1\u001b[0m\u001b[0;34m,\u001b[0m \u001b[0mval2\u001b[0m\u001b[0;34m)\u001b[0m\u001b[0;34m\u001b[0m\u001b[0;34m\u001b[0m\u001b[0m\n\u001b[0;32m--> 136\u001b[0;31m         \u001b[0m_dfatal\u001b[0m\u001b[0;34m(\u001b[0m\u001b[0mtxt\u001b[0m\u001b[0;34m,\u001b[0m \u001b[0mmsg\u001b[0m\u001b[0;34m,\u001b[0m \u001b[0;34m*\u001b[0m\u001b[0margs\u001b[0m\u001b[0;34m)\u001b[0m\u001b[0;34m\u001b[0m\u001b[0;34m\u001b[0m\u001b[0m\n\u001b[0m\u001b[1;32m    137\u001b[0m \u001b[0;34m\u001b[0m\u001b[0m\n\u001b[1;32m    138\u001b[0m \u001b[0;34m\u001b[0m\u001b[0m\n",
      "\u001b[0;32m/app/helpers/dbg.py\u001b[0m in \u001b[0;36m_dfatal\u001b[0;34m(txt, msg, *args)\u001b[0m\n\u001b[1;32m    113\u001b[0m             \u001b[0mdfatal_txt\u001b[0m \u001b[0;34m+=\u001b[0m \u001b[0;34m\"\\n\"\u001b[0m\u001b[0;34m\u001b[0m\u001b[0;34m\u001b[0m\u001b[0m\n\u001b[1;32m    114\u001b[0m         \u001b[0mdfatal_txt\u001b[0m \u001b[0;34m+=\u001b[0m \u001b[0mmsg\u001b[0m\u001b[0;34m\u001b[0m\u001b[0;34m\u001b[0m\u001b[0m\n\u001b[0;32m--> 115\u001b[0;31m     \u001b[0mdfatal\u001b[0m\u001b[0;34m(\u001b[0m\u001b[0mdfatal_txt\u001b[0m\u001b[0;34m)\u001b[0m\u001b[0;34m\u001b[0m\u001b[0;34m\u001b[0m\u001b[0m\n\u001b[0m\u001b[1;32m    116\u001b[0m \u001b[0;34m\u001b[0m\u001b[0m\n\u001b[1;32m    117\u001b[0m \u001b[0;34m\u001b[0m\u001b[0m\n",
      "\u001b[0;32m/app/helpers/dbg.py\u001b[0m in \u001b[0;36mdfatal\u001b[0;34m(message, assertion_type)\u001b[0m\n\u001b[1;32m     59\u001b[0m     \u001b[0;32mif\u001b[0m \u001b[0massertion_type\u001b[0m \u001b[0;32mis\u001b[0m \u001b[0;32mNone\u001b[0m\u001b[0;34m:\u001b[0m\u001b[0;34m\u001b[0m\u001b[0;34m\u001b[0m\u001b[0m\n\u001b[1;32m     60\u001b[0m         \u001b[0massertion_type\u001b[0m \u001b[0;34m=\u001b[0m \u001b[0mAssertionError\u001b[0m\u001b[0;34m\u001b[0m\u001b[0;34m\u001b[0m\u001b[0m\n\u001b[0;32m---> 61\u001b[0;31m     \u001b[0;32mraise\u001b[0m \u001b[0massertion_type\u001b[0m\u001b[0;34m(\u001b[0m\u001b[0mret\u001b[0m\u001b[0;34m)\u001b[0m\u001b[0;34m\u001b[0m\u001b[0;34m\u001b[0m\u001b[0m\n\u001b[0m\u001b[1;32m     62\u001b[0m \u001b[0;34m\u001b[0m\u001b[0m\n\u001b[1;32m     63\u001b[0m \u001b[0;34m\u001b[0m\u001b[0m\n",
      "\u001b[0;31mAssertionError\u001b[0m: \n################################################################################\n* Failed assertion *\n'America/New_York'\n==\n'US/Eastern'\n################################################################################\n"
     ]
    }
   ],
   "source": [
    "# Check the timezone info.\n",
    "hdbg.dassert_eq(\n",
    "    ccxt_data.index.tzinfo,\n",
    "    config[\"data\"][\"timezone\"],\n",
    ")"
   ]
  },
  {
   "cell_type": "code",
   "execution_count": 7,
   "id": "d5093fd1",
   "metadata": {
    "ExecuteTime": {
     "end_time": "2021-10-22T16:24:36.726997Z",
     "start_time": "2021-10-22T16:24:36.719807Z"
    }
   },
   "outputs": [
    {
     "data": {
      "text/plain": [
       "<DstTzInfo 'US/Eastern' LMT-1 day, 19:04:00 STD>"
      ]
     },
     "execution_count": 7,
     "metadata": {},
     "output_type": "execute_result"
    }
   ],
   "source": [
    "# TODO(Grisha): change tz in `CcxtLoader` #217.\n",
    "ccxt_data.index = ccxt_data.index.tz_convert(config[\"data\"][\"timezone\"])\n",
    "ccxt_data.index.tzinfo"
   ]
  },
  {
   "cell_type": "markdown",
   "id": "435a1986",
   "metadata": {},
   "source": [
    "# Select subset"
   ]
  },
  {
   "cell_type": "code",
   "execution_count": 8,
   "id": "6b45d4f4",
   "metadata": {
    "ExecuteTime": {
     "end_time": "2021-10-22T16:24:39.303235Z",
     "start_time": "2021-10-22T16:24:39.284703Z"
    }
   },
   "outputs": [
    {
     "data": {
      "text/html": [
       "<div>\n",
       "<style scoped>\n",
       "    .dataframe tbody tr th:only-of-type {\n",
       "        vertical-align: middle;\n",
       "    }\n",
       "\n",
       "    .dataframe tbody tr th {\n",
       "        vertical-align: top;\n",
       "    }\n",
       "\n",
       "    .dataframe thead th {\n",
       "        text-align: right;\n",
       "    }\n",
       "</style>\n",
       "<table border=\"1\" class=\"dataframe\">\n",
       "  <thead>\n",
       "    <tr style=\"text-align: right;\">\n",
       "      <th></th>\n",
       "      <th>close</th>\n",
       "    </tr>\n",
       "    <tr>\n",
       "      <th>timestamp</th>\n",
       "      <th></th>\n",
       "    </tr>\n",
       "  </thead>\n",
       "  <tbody>\n",
       "    <tr>\n",
       "      <th>2018-08-16 20:00:00-04:00</th>\n",
       "      <td>6311.64</td>\n",
       "    </tr>\n",
       "    <tr>\n",
       "      <th>2018-08-16 20:01:00-04:00</th>\n",
       "      <td>6302.81</td>\n",
       "    </tr>\n",
       "    <tr>\n",
       "      <th>2018-08-16 20:02:00-04:00</th>\n",
       "      <td>6297.26</td>\n",
       "    </tr>\n",
       "  </tbody>\n",
       "</table>\n",
       "</div>"
      ],
      "text/plain": [
       "                             close\n",
       "timestamp                         \n",
       "2018-08-16 20:00:00-04:00  6311.64\n",
       "2018-08-16 20:01:00-04:00  6302.81\n",
       "2018-08-16 20:02:00-04:00  6297.26"
      ]
     },
     "execution_count": 8,
     "metadata": {},
     "output_type": "execute_result"
    }
   ],
   "source": [
    "ccxt_data_subset = ccxt_data[[config[\"data\"][\"close_price_col_name\"]]]\n",
    "ccxt_data_subset.head(3)"
   ]
  },
  {
   "cell_type": "markdown",
   "id": "184f4b2c",
   "metadata": {},
   "source": [
    "# Resample index"
   ]
  },
  {
   "cell_type": "code",
   "execution_count": 9,
   "id": "1a08df11",
   "metadata": {
    "ExecuteTime": {
     "end_time": "2021-10-22T16:24:43.167945Z",
     "start_time": "2021-10-22T16:24:42.737036Z"
    }
   },
   "outputs": [
    {
     "name": "stdout",
     "output_type": "stream",
     "text": [
      "shape=1619641\n"
     ]
    },
    {
     "data": {
      "text/html": [
       "<div>\n",
       "<style scoped>\n",
       "    .dataframe tbody tr th:only-of-type {\n",
       "        vertical-align: middle;\n",
       "    }\n",
       "\n",
       "    .dataframe tbody tr th {\n",
       "        vertical-align: top;\n",
       "    }\n",
       "\n",
       "    .dataframe thead th {\n",
       "        text-align: right;\n",
       "    }\n",
       "</style>\n",
       "<table border=\"1\" class=\"dataframe\">\n",
       "  <thead>\n",
       "    <tr style=\"text-align: right;\">\n",
       "      <th></th>\n",
       "      <th>close</th>\n",
       "    </tr>\n",
       "  </thead>\n",
       "  <tbody>\n",
       "    <tr>\n",
       "      <th>2018-08-16 20:00:00-04:00</th>\n",
       "      <td>6311.64</td>\n",
       "    </tr>\n",
       "    <tr>\n",
       "      <th>2018-08-16 20:01:00-04:00</th>\n",
       "      <td>6302.81</td>\n",
       "    </tr>\n",
       "    <tr>\n",
       "      <th>2018-08-16 20:02:00-04:00</th>\n",
       "      <td>6297.26</td>\n",
       "    </tr>\n",
       "  </tbody>\n",
       "</table>\n",
       "</div>"
      ],
      "text/plain": [
       "                             close\n",
       "2018-08-16 20:00:00-04:00  6311.64\n",
       "2018-08-16 20:01:00-04:00  6302.81\n",
       "2018-08-16 20:02:00-04:00  6297.26"
      ]
     },
     "execution_count": 9,
     "metadata": {},
     "output_type": "execute_result"
    }
   ],
   "source": [
    "# TODO(Grisha): do we want to merge it with `core.pandas_helpers.resample_index`?\n",
    "# The problem with `resample_index` in `pandas_helpers` is that it does not\n",
    "# generate empty rows for missing timestamps.\n",
    "def resample_index(index: pd.DatetimeIndex, frequency: str) -> pd.DatetimeIndex:\n",
    "    \"\"\"\n",
    "    Resample `DatetimeIndex`.\n",
    "\n",
    "    :param index: `DatetimeIndex` to resample\n",
    "    :param frequency: frequency from `pd.date_range()` to resample to\n",
    "    :return: resampled `DatetimeIndex`\n",
    "    \"\"\"\n",
    "    hdbg.dassert_isinstance(index, pd.DatetimeIndex)\n",
    "    min_date = index.min()\n",
    "    max_date = index.max()\n",
    "    resampled_index = pd.date_range(\n",
    "        start=min_date,\n",
    "        end=max_date,\n",
    "        freq=frequency,\n",
    "    )\n",
    "    return resampled_index\n",
    "\n",
    "\n",
    "resampled_index = resample_index(\n",
    "    ccxt_data_subset.index, config[\"data\"][\"frequency\"]\n",
    ")\n",
    "ccxt_data_reindex = ccxt_data_subset.reindex(resampled_index)\n",
    "_LOG.info(\"shape=%s\", ccxt_data_reindex.shape[0])\n",
    "ccxt_data_reindex.head(3)"
   ]
  },
  {
   "cell_type": "markdown",
   "id": "c36ce7f5",
   "metadata": {},
   "source": [
    "# Filter data"
   ]
  },
  {
   "cell_type": "code",
   "execution_count": 10,
   "id": "7a77280c",
   "metadata": {
    "ExecuteTime": {
     "end_time": "2021-10-22T16:24:46.546701Z",
     "start_time": "2021-10-22T16:24:46.543647Z"
    }
   },
   "outputs": [],
   "source": [
    "# TODO(Grisha): add support for filtering by exchange, currency, asset class."
   ]
  },
  {
   "cell_type": "code",
   "execution_count": 13,
   "id": "acaf70a0",
   "metadata": {
    "ExecuteTime": {
     "end_time": "2021-10-22T16:26:13.052508Z",
     "start_time": "2021-10-22T16:26:13.000697Z"
    }
   },
   "outputs": [
    {
     "name": "stdout",
     "output_type": "stream",
     "text": [
      "Filtering between 2019-01-01 00:00:00-05:00 and 2020-01-01 00:00:00-05:00 with inclusive=`left`, selected rows=525600 / 1619641 = 32.45%\n"
     ]
    },
    {
     "data": {
      "text/html": [
       "<div>\n",
       "<style scoped>\n",
       "    .dataframe tbody tr th:only-of-type {\n",
       "        vertical-align: middle;\n",
       "    }\n",
       "\n",
       "    .dataframe tbody tr th {\n",
       "        vertical-align: top;\n",
       "    }\n",
       "\n",
       "    .dataframe thead th {\n",
       "        text-align: right;\n",
       "    }\n",
       "</style>\n",
       "<table border=\"1\" class=\"dataframe\">\n",
       "  <thead>\n",
       "    <tr style=\"text-align: right;\">\n",
       "      <th></th>\n",
       "      <th>close</th>\n",
       "    </tr>\n",
       "  </thead>\n",
       "  <tbody>\n",
       "    <tr>\n",
       "      <th>2019-01-01 00:00:00-05:00</th>\n",
       "      <td>3697.35</td>\n",
       "    </tr>\n",
       "    <tr>\n",
       "      <th>2019-01-01 00:01:00-05:00</th>\n",
       "      <td>3697.29</td>\n",
       "    </tr>\n",
       "    <tr>\n",
       "      <th>2019-01-01 00:02:00-05:00</th>\n",
       "      <td>3696.32</td>\n",
       "    </tr>\n",
       "  </tbody>\n",
       "</table>\n",
       "</div>"
      ],
      "text/plain": [
       "                             close\n",
       "2019-01-01 00:00:00-05:00  3697.35\n",
       "2019-01-01 00:01:00-05:00  3697.29\n",
       "2019-01-01 00:02:00-05:00  3696.32"
      ]
     },
     "execution_count": 13,
     "metadata": {},
     "output_type": "execute_result"
    }
   ],
   "source": [
    "# Get the inputs.\n",
    "# TODO(Grisha): pass tz to `hdateti.to_datetime` once it is fixed.\n",
    "lower_bound = hdateti.to_datetime(\"2019-01-01\")\n",
    "lower_bound_ET = config[\"data\"][\"timezone\"].localize(lower_bound)\n",
    "upper_bound = hdateti.to_datetime(\"2020-01-01\")\n",
    "upper_bound_ET = config[\"data\"][\"timezone\"].localize(upper_bound)\n",
    "# Fiter data.\n",
    "ccxt_data_filtered = coexplor.filter_by_time(\n",
    "    df=ccxt_data_reindex,\n",
    "    lower_bound=lower_bound_ET,\n",
    "    upper_bound=upper_bound_ET,\n",
    "    inclusive=\"left\",\n",
    "    ts_col_name=None,\n",
    "    log_level=logging.INFO,\n",
    ")\n",
    "ccxt_data_filtered.head(3)"
   ]
  },
  {
   "cell_type": "markdown",
   "id": "e3468919",
   "metadata": {},
   "source": [
    "# Statistics"
   ]
  },
  {
   "cell_type": "markdown",
   "id": "79db714e",
   "metadata": {},
   "source": [
    "## Plot timeseries"
   ]
  },
  {
   "cell_type": "code",
   "execution_count": 14,
   "id": "b66a5499",
   "metadata": {
    "ExecuteTime": {
     "end_time": "2021-10-22T16:26:47.412170Z",
     "start_time": "2021-10-22T16:26:43.406165Z"
    }
   },
   "outputs": [
    {
     "data": {
      "text/plain": [
       "<AxesSubplot:>"
      ]
     },
     "execution_count": 14,
     "metadata": {},
     "output_type": "execute_result"
    },
    {
     "data": {
      "image/png": "[encoded data removed]",
      "text/plain": [
       "<Figure size 1440x360 with 1 Axes>"
      ]
     },
     "metadata": {},
     "output_type": "display_data"
    }
   ],
   "source": [
    "# TODO(Grisha): replace with a function that does the plotting.\n",
    "ccxt_data_filtered[config[\"data\"][\"close_price_col_name\"]].plot()"
   ]
  },
  {
   "cell_type": "markdown",
   "id": "e70c561a",
   "metadata": {},
   "source": [
    "## Plot timeseries distribution"
   ]
  },
  {
   "cell_type": "code",
   "execution_count": 15,
   "id": "b395189f",
   "metadata": {
    "ExecuteTime": {
     "end_time": "2021-10-22T16:26:47.875789Z",
     "start_time": "2021-10-22T16:26:47.414313Z"
    }
   },
   "outputs": [
    {
     "name": "stderr",
     "output_type": "stream",
     "text": [
      "/venv/lib/python3.8/site-packages/seaborn/_decorators.py:36: FutureWarning: Pass the following variable as a keyword arg: x. From version 0.12, the only valid positional argument will be `data`, and passing other arguments without an explicit keyword will result in an error or misinterpretation.\n",
      "  warnings.warn(\n"
     ]
    },
    {
     "data": {
      "image/png": "[encoded data removed]",
      "text/plain": [
       "<Figure size 1440x360 with 1 Axes>"
      ]
     },
     "metadata": {},
     "output_type": "display_data"
    }
   ],
   "source": [
    "# TODO(Grisha): fix the function behavior in #204.\n",
    "coplotti.plot_timeseries_distribution(\n",
    "    ccxt_data_filtered[config[\"data\"][\"close_price_col_name\"]],\n",
    "    datetime_types=[\"hour\"],\n",
    ")"
   ]
  },
  {
   "cell_type": "markdown",
   "id": "0efaed41",
   "metadata": {},
   "source": [
    "## NaN statistics"
   ]
  },
  {
   "cell_type": "code",
   "execution_count": 16,
   "id": "427be7c5",
   "metadata": {
    "ExecuteTime": {
     "end_time": "2021-10-22T16:26:52.009217Z",
     "start_time": "2021-10-22T16:26:51.435508Z"
    }
   },
   "outputs": [
    {
     "name": "stdout",
     "output_type": "stream",
     "text": [
      "index in [2019-01-01 00:00:00-05:00, 2019-12-31 23:59:00-05:00]\n",
      "num_rows=525,600\n",
      "data=\n"
     ]
    },
    {
     "data": {
      "text/html": [
       "<table border=\"1\" class=\"dataframe\">\n",
       "  <thead>\n",
       "    <tr style=\"text-align: right;\">\n",
       "      <th></th>\n",
       "      <th>close</th>\n",
       "    </tr>\n",
       "  </thead>\n",
       "  <tbody>\n",
       "    <tr>\n",
       "      <th>2019-01-01 00:00:00-05:00</th>\n",
       "      <td>3697.35</td>\n",
       "    </tr>\n",
       "    <tr>\n",
       "      <th>2019-01-01 00:01:00-05:00</th>\n",
       "      <td>3697.29</td>\n",
       "    </tr>\n",
       "    <tr>\n",
       "      <th>...</th>\n",
       "      <td>...</td>\n",
       "    </tr>\n",
       "    <tr>\n",
       "      <th>2019-12-31 23:58:00-05:00</th>\n",
       "      <td>7216.67</td>\n",
       "    </tr>\n",
       "    <tr>\n",
       "      <th>2019-12-31 23:59:00-05:00</th>\n",
       "      <td>7217.27</td>\n",
       "    </tr>\n",
       "  </tbody>\n",
       "</table>"
      ],
      "text/plain": [
       "<IPython.core.display.HTML object>"
      ]
     },
     "metadata": {},
     "output_type": "display_data"
    },
    {
     "name": "stdout",
     "output_type": "stream",
     "text": [
      "num_days=365\n",
      "num_weekdays=261\n"
     ]
    },
    {
     "data": {
      "text/html": [
       "<table border=\"1\" class=\"dataframe\">\n",
       "  <thead>\n",
       "    <tr style=\"text-align: right;\">\n",
       "      <th></th>\n",
       "      <th>num_rows</th>\n",
       "      <th>zeros [%]</th>\n",
       "      <th>nans [%]</th>\n",
       "      <th>infs [%]</th>\n",
       "      <th>valid [%]</th>\n",
       "    </tr>\n",
       "  </thead>\n",
       "  <tbody>\n",
       "    <tr>\n",
       "      <th>close</th>\n",
       "      <td>525600</td>\n",
       "      <td>0.0</td>\n",
       "      <td>0.34</td>\n",
       "      <td>0.0</td>\n",
       "      <td>99.66</td>\n",
       "    </tr>\n",
       "  </tbody>\n",
       "</table>"
      ],
      "text/plain": [
       "<IPython.core.display.HTML object>"
      ]
     },
     "metadata": {},
     "output_type": "display_data"
    },
    {
     "data": {
      "text/html": [
       "<div>\n",
       "<style scoped>\n",
       "    .dataframe tbody tr th:only-of-type {\n",
       "        vertical-align: middle;\n",
       "    }\n",
       "\n",
       "    .dataframe tbody tr th {\n",
       "        vertical-align: top;\n",
       "    }\n",
       "\n",
       "    .dataframe thead th {\n",
       "        text-align: right;\n",
       "    }\n",
       "</style>\n",
       "<table border=\"1\" class=\"dataframe\">\n",
       "  <thead>\n",
       "    <tr style=\"text-align: right;\">\n",
       "      <th></th>\n",
       "      <th>num_rows</th>\n",
       "      <th>zeros [%]</th>\n",
       "      <th>nans [%]</th>\n",
       "      <th>infs [%]</th>\n",
       "      <th>valid [%]</th>\n",
       "    </tr>\n",
       "  </thead>\n",
       "  <tbody>\n",
       "    <tr>\n",
       "      <th>close</th>\n",
       "      <td>525600</td>\n",
       "      <td>0.0</td>\n",
       "      <td>0.34</td>\n",
       "      <td>0.0</td>\n",
       "      <td>99.66</td>\n",
       "    </tr>\n",
       "  </tbody>\n",
       "</table>\n",
       "</div>"
      ],
      "text/plain": [
       "       num_rows zeros [%] nans [%] infs [%] valid [%]\n",
       "close    525600       0.0     0.34      0.0     99.66"
      ]
     },
     "execution_count": 16,
     "metadata": {},
     "output_type": "execute_result"
    }
   ],
   "source": [
    "nan_stats_df = coexplor.report_zero_nan_inf_stats(ccxt_data_filtered)\n",
    "nan_stats_df"
   ]
  },
  {
   "cell_type": "code",
   "execution_count": 17,
   "id": "f471b2f9",
   "metadata": {
    "ExecuteTime": {
     "end_time": "2021-10-22T16:26:54.140140Z",
     "start_time": "2021-10-22T16:26:53.939430Z"
    }
   },
   "outputs": [
    {
     "data": {
      "text/html": [
       "<div>\n",
       "<style scoped>\n",
       "    .dataframe tbody tr th:only-of-type {\n",
       "        vertical-align: middle;\n",
       "    }\n",
       "\n",
       "    .dataframe tbody tr th {\n",
       "        vertical-align: top;\n",
       "    }\n",
       "\n",
       "    .dataframe thead th {\n",
       "        text-align: right;\n",
       "    }\n",
       "</style>\n",
       "<table border=\"1\" class=\"dataframe\">\n",
       "  <thead>\n",
       "    <tr style=\"text-align: right;\">\n",
       "      <th></th>\n",
       "      <th>nan_count</th>\n",
       "    </tr>\n",
       "  </thead>\n",
       "  <tbody>\n",
       "    <tr>\n",
       "      <th>2019-05-15 00:00:00-04:00</th>\n",
       "      <td>540.0</td>\n",
       "    </tr>\n",
       "    <tr>\n",
       "      <th>2019-08-15 00:00:00-04:00</th>\n",
       "      <td>360.0</td>\n",
       "    </tr>\n",
       "    <tr>\n",
       "      <th>2019-03-12 00:00:00-04:00</th>\n",
       "      <td>240.0</td>\n",
       "    </tr>\n",
       "    <tr>\n",
       "      <th>2019-11-12 00:00:00-05:00</th>\n",
       "      <td>140.0</td>\n",
       "    </tr>\n",
       "    <tr>\n",
       "      <th>2019-03-11 00:00:00-04:00</th>\n",
       "      <td>120.0</td>\n",
       "    </tr>\n",
       "    <tr>\n",
       "      <th>2019-08-14 00:00:00-04:00</th>\n",
       "      <td>120.0</td>\n",
       "    </tr>\n",
       "    <tr>\n",
       "      <th>2019-11-24 00:00:00-05:00</th>\n",
       "      <td>120.0</td>\n",
       "    </tr>\n",
       "    <tr>\n",
       "      <th>2019-06-07 00:00:00-04:00</th>\n",
       "      <td>61.0</td>\n",
       "    </tr>\n",
       "    <tr>\n",
       "      <th>2019-05-14 00:00:00-04:00</th>\n",
       "      <td>60.0</td>\n",
       "    </tr>\n",
       "    <tr>\n",
       "      <th>2019-11-13 00:00:00-05:00</th>\n",
       "      <td>3.0</td>\n",
       "    </tr>\n",
       "  </tbody>\n",
       "</table>\n",
       "</div>"
      ],
      "text/plain": [
       "                           nan_count\n",
       "2019-05-15 00:00:00-04:00      540.0\n",
       "2019-08-15 00:00:00-04:00      360.0\n",
       "2019-03-12 00:00:00-04:00      240.0\n",
       "2019-11-12 00:00:00-05:00      140.0\n",
       "2019-03-11 00:00:00-04:00      120.0\n",
       "2019-08-14 00:00:00-04:00      120.0\n",
       "2019-11-24 00:00:00-05:00      120.0\n",
       "2019-06-07 00:00:00-04:00       61.0\n",
       "2019-05-14 00:00:00-04:00       60.0\n",
       "2019-11-13 00:00:00-05:00        3.0"
      ]
     },
     "execution_count": 17,
     "metadata": {},
     "output_type": "execute_result"
    }
   ],
   "source": [
    "# TODO(Grisha): pretify the function: add assertions, logging.\n",
    "# TODO(Grisha): add support for zeros, infinities.\n",
    "# TODO(Grisha): also count NaNs by exchange, currency, asset class.\n",
    "def count_nans_by_period(\n",
    "    df: pd.DataFrame,\n",
    "    config: cconconf.Config,\n",
    "    period: str,\n",
    "    top_n: int = 10,\n",
    ") -> pd.DataFrame:\n",
    "    \"\"\"\n",
    "    Count NaNs by period.\n",
    "\n",
    "    :param df: data\n",
    "    :param period: time period, e.g. \"D\" - to group by day\n",
    "    :param top_n: display top N counts\n",
    "    :return: table with NaN counts by period\n",
    "    \"\"\"\n",
    "    # Select only NaNs.\n",
    "    nan_data = df[df[config[\"data\"][\"close_price_col_name\"]].isna()]\n",
    "    # Group by specified period.\n",
    "    nan_grouped = nan_data.groupby(pd.Grouper(freq=period))\n",
    "    # Count NaNs.\n",
    "    nan_grouped_counts = nan_grouped.apply(lambda x: x.isnull().sum())\n",
    "    nan_grouped_counts.columns = [\"nan_count\"]\n",
    "    nan_grouped_counts_sorted = nan_grouped_counts.sort_values(\n",
    "        by=[\"nan_count\"], ascending=False\n",
    "    )\n",
    "    return nan_grouped_counts_sorted.head(top_n)\n",
    "\n",
    "\n",
    "nan_counts = count_nans_by_period(\n",
    "    ccxt_data_filtered,\n",
    "    config,\n",
    "    \"D\",\n",
    ")\n",
    "nan_counts"
   ]
  },
  {
   "cell_type": "markdown",
   "id": "fd3a24d2",
   "metadata": {},
   "source": [
    "## Detect outliers"
   ]
  },
  {
   "cell_type": "code",
   "execution_count": 18,
   "id": "f7ade676",
   "metadata": {
    "ExecuteTime": {
     "end_time": "2021-10-22T16:26:56.777953Z",
     "start_time": "2021-10-22T16:26:56.707955Z"
    }
   },
   "outputs": [
    {
     "name": "stdout",
     "output_type": "stream",
     "text": [
      "shape=20927\n"
     ]
    },
    {
     "data": {
      "text/html": [
       "<div>\n",
       "<style scoped>\n",
       "    .dataframe tbody tr th:only-of-type {\n",
       "        vertical-align: middle;\n",
       "    }\n",
       "\n",
       "    .dataframe tbody tr th {\n",
       "        vertical-align: top;\n",
       "    }\n",
       "\n",
       "    .dataframe thead th {\n",
       "        text-align: right;\n",
       "    }\n",
       "</style>\n",
       "<table border=\"1\" class=\"dataframe\">\n",
       "  <thead>\n",
       "    <tr style=\"text-align: right;\">\n",
       "      <th></th>\n",
       "      <th>close</th>\n",
       "      <th>z-score</th>\n",
       "    </tr>\n",
       "  </thead>\n",
       "  <tbody>\n",
       "    <tr>\n",
       "      <th>2019-01-01 01:06:00-05:00</th>\n",
       "      <td>3706.95</td>\n",
       "      <td>3.119872</td>\n",
       "    </tr>\n",
       "    <tr>\n",
       "      <th>2019-01-01 01:07:00-05:00</th>\n",
       "      <td>3710.40</td>\n",
       "      <td>4.048159</td>\n",
       "    </tr>\n",
       "    <tr>\n",
       "      <th>2019-01-01 01:09:00-05:00</th>\n",
       "      <td>3709.03</td>\n",
       "      <td>3.012456</td>\n",
       "    </tr>\n",
       "  </tbody>\n",
       "</table>\n",
       "</div>"
      ],
      "text/plain": [
       "                             close   z-score\n",
       "2019-01-01 01:06:00-05:00  3706.95  3.119872\n",
       "2019-01-01 01:07:00-05:00  3710.40  4.048159\n",
       "2019-01-01 01:09:00-05:00  3709.03  3.012456"
      ]
     },
     "execution_count": 18,
     "metadata": {},
     "output_type": "execute_result"
    }
   ],
   "source": [
    "# TODO(Grisha): add support for other approaches, e.g. IQR-based approach.\n",
    "def detect_outliers(df: pd.DataFrame, config: cconconf.Config) -> pd.DataFrame:\n",
    "    \"\"\"\n",
    "    Detect outliers in a rolling fashion using z-score.\n",
    "\n",
    "    If an observation has abs(z-score) > `z_score_boundary` it is considered\n",
    "    an outlier. To compute a `z-score` rolling mean and rolling std are used.\n",
    "\n",
    "    :param df: data\n",
    "    :return: outliers\n",
    "    \"\"\"\n",
    "    df_copy = df.copy()\n",
    "    roll = df_copy[config[\"data\"][\"close_price_col_name\"]].rolling(\n",
    "        window=config[\"stats\"][\"z_score_window\"]\n",
    "    )\n",
    "    # Compute z-score for a rolling window.\n",
    "    df_copy[\"z-score\"] = (\n",
    "        df_copy[config[\"data\"][\"close_price_col_name\"]] - roll.mean()\n",
    "    ) / roll.std()\n",
    "    # Select outliers based on the z-score.\n",
    "    df_outliers = df_copy[\n",
    "        abs(df_copy[\"z-score\"]) > config[\"stats\"][\"z_score_boundary\"]\n",
    "    ]\n",
    "    return df_outliers\n",
    "\n",
    "\n",
    "outliers = detect_outliers(ccxt_data_filtered, config)\n",
    "_LOG.info(\"shape=%s\", outliers.shape[0])\n",
    "outliers.head(3)"
   ]
  }
 ],
 "metadata": {
  "jupytext": {
   "formats": "ipynb,py:percent"
  },
  "kernelspec": {
   "display_name": "Python 3 (ipykernel)",
   "language": "python",
   "name": "python3"
  },
  "language_info": {
   "codemirror_mode": {
    "name": "ipython",
    "version": 3
   },
   "file_extension": ".py",
   "mimetype": "text/x-python",
   "name": "python",
   "nbconvert_exporter": "python",
   "pygments_lexer": "ipython3",
   "version": "3.8.10"
  },
  "toc": {
   "base_numbering": 1,
   "nav_menu": {},
   "number_sections": true,
   "sideBar": true,
   "skip_h1_title": false,
   "title_cell": "Table of Contents",
   "title_sidebar": "Contents",
   "toc_cell": false,
   "toc_position": {},
   "toc_section_display": true,
   "toc_window_display": false
  }
 },
 "nbformat": 4,
 "nbformat_minor": 5
}
