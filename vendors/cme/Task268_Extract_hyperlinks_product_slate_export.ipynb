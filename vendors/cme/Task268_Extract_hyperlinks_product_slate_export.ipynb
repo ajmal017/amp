{
 "cells": [
  {
   "cell_type": "markdown",
   "metadata": {},
   "source": [
    "# Imports"
   ]
  },
  {
   "cell_type": "code",
   "execution_count": 1,
   "metadata": {
    "ExecuteTime": {
     "end_time": "2019-09-04T18:29:15.793860Z",
     "start_time": "2019-09-04T18:29:14.655144Z"
    }
   },
   "outputs": [
    {
     "name": "stderr",
     "output_type": "stream",
     "text": [
      "/wd/julia/projects/commodity_research/my_venv/lib/python3.6/site-packages/tqdm/autonotebook/__init__.py:14: TqdmExperimentalWarning: Using `tqdm.autonotebook.tqdm` in notebook mode. Use `tqdm.tqdm` instead to force console mode (e.g. in jupyter console)\n",
      "  \" (e.g. in jupyter console)\", TqdmExperimentalWarning)\n"
     ]
    }
   ],
   "source": [
    "%load_ext autoreload\n",
    "%autoreload 2\n",
    "\n",
    "import numpy as np\n",
    "import pandas as pd\n",
    "\n",
    "from tqdm.autonotebook import tqdm"
   ]
  },
  {
   "cell_type": "code",
   "execution_count": 2,
   "metadata": {
    "ExecuteTime": {
     "end_time": "2019-09-04T18:29:15.812282Z",
     "start_time": "2019-09-04T18:29:15.796290Z"
    }
   },
   "outputs": [],
   "source": [
    "import logging\n",
    "\n",
    "_log = logging.getLogger()\n",
    "_log.setLevel(logging.INFO)"
   ]
  },
  {
   "cell_type": "code",
   "execution_count": 3,
   "metadata": {
    "ExecuteTime": {
     "end_time": "2019-09-04T18:29:15.837678Z",
     "start_time": "2019-09-04T18:29:15.814228Z"
    }
   },
   "outputs": [],
   "source": [
    "import oil.utils.helpers as helpers\n",
    "helpers.init_logger(logging.INFO)"
   ]
  },
  {
   "cell_type": "code",
   "execution_count": 4,
   "metadata": {
    "ExecuteTime": {
     "end_time": "2019-09-04T18:29:16.153483Z",
     "start_time": "2019-09-04T18:29:15.840362Z"
    }
   },
   "outputs": [],
   "source": [
    "from pylab import rcParams\n",
    "rcParams['figure.figsize'] = (20, 5)"
   ]
  },
  {
   "cell_type": "code",
   "execution_count": 5,
   "metadata": {
    "ExecuteTime": {
     "end_time": "2019-09-04T18:29:16.180628Z",
     "start_time": "2019-09-04T18:29:16.156292Z"
    }
   },
   "outputs": [
    {
     "name": "stdout",
     "output_type": "stream",
     "text": [
      "twitter-data\n"
     ]
    }
   ],
   "source": [
    "import data.data_config as data_config"
   ]
  },
  {
   "cell_type": "code",
   "execution_count": 6,
   "metadata": {
    "ExecuteTime": {
     "end_time": "2019-09-04T18:29:17.357595Z",
     "start_time": "2019-09-04T18:29:16.182959Z"
    }
   },
   "outputs": [
    {
     "name": "stderr",
     "output_type": "stream",
     "text": [
      "/wd/julia/projects/commodity_research/my_venv/lib/python3.6/site-packages/requests/__init__.py:91: RequestsDependencyWarning: urllib3 (1.25.1) or chardet (3.0.4) doesn't match a supported version!\n",
      "  RequestsDependencyWarning)\n"
     ]
    }
   ],
   "source": [
    "import infra.helpers.telegram_notify.telegram_notify as tg\n",
    "\n",
    "tgn = tg.TelegramNotify()"
   ]
  },
  {
   "cell_type": "markdown",
   "metadata": {},
   "source": [
    "# Extract hyperlinks"
   ]
  },
  {
   "cell_type": "code",
   "execution_count": 7,
   "metadata": {
    "ExecuteTime": {
     "end_time": "2019-09-04T16:49:12.447804Z",
     "start_time": "2019-09-04T16:49:12.198241Z"
    }
   },
   "outputs": [],
   "source": [
    "import openpyxl"
   ]
  },
  {
   "cell_type": "code",
   "execution_count": 8,
   "metadata": {
    "ExecuteTime": {
     "end_time": "2019-09-04T16:49:13.360771Z",
     "start_time": "2019-09-04T16:49:12.450988Z"
    }
   },
   "outputs": [],
   "source": [
    "wb = openpyxl.load_workbook('/data/prices/product_slate_export_20190904.xlsx')"
   ]
  },
  {
   "cell_type": "code",
   "execution_count": 9,
   "metadata": {
    "ExecuteTime": {
     "end_time": "2019-09-04T16:49:13.388488Z",
     "start_time": "2019-09-04T16:49:13.363144Z"
    }
   },
   "outputs": [
    {
     "name": "stderr",
     "output_type": "stream",
     "text": [
      "/wd/julia/projects/commodity_research/my_venv/lib/python3.6/site-packages/ipykernel_launcher.py:1: DeprecationWarning: Call to deprecated function get_sheet_names (Use wb.sheetnames).\n",
      "  \"\"\"Entry point for launching an IPython kernel.\n"
     ]
    }
   ],
   "source": [
    "ws = wb[wb.get_sheet_names()[0]]"
   ]
  },
  {
   "cell_type": "code",
   "execution_count": 10,
   "metadata": {
    "ExecuteTime": {
     "end_time": "2019-09-04T16:49:13.419417Z",
     "start_time": "2019-09-04T16:49:13.390662Z"
    }
   },
   "outputs": [
    {
     "data": {
      "text/plain": [
       "'http://www.cmegroup.com/trading/interest-rates/stir/eurodollar_contract_specifications.html'"
      ]
     },
     "execution_count": 10,
     "metadata": {},
     "output_type": "execute_result"
    }
   ],
   "source": [
    "ws.cell(row=2, column=5).hyperlink.target"
   ]
  },
  {
   "cell_type": "code",
   "execution_count": 11,
   "metadata": {
    "ExecuteTime": {
     "end_time": "2019-09-04T16:49:13.456165Z",
     "start_time": "2019-09-04T16:49:13.421440Z"
    }
   },
   "outputs": [],
   "source": [
    "hyperlinks = []\n",
    "for row in ws.iter_rows(min_row=2, min_col=5, max_col=5):\n",
    "    hyperlinks.append(row[0].hyperlink.target)"
   ]
  },
  {
   "cell_type": "markdown",
   "metadata": {},
   "source": [
    "# Read excel"
   ]
  },
  {
   "cell_type": "code",
   "execution_count": 12,
   "metadata": {
    "ExecuteTime": {
     "end_time": "2019-09-04T16:49:13.952382Z",
     "start_time": "2019-09-04T16:49:13.458418Z"
    }
   },
   "outputs": [],
   "source": [
    "pse = pd.read_excel('/data/prices/product_slate_export_20190904.xlsx')"
   ]
  },
  {
   "cell_type": "code",
   "execution_count": 13,
   "metadata": {
    "ExecuteTime": {
     "end_time": "2019-09-04T16:49:13.998573Z",
     "start_time": "2019-09-04T16:49:13.954647Z"
    }
   },
   "outputs": [
    {
     "data": {
      "text/html": [
       "<div>\n",
       "<style scoped>\n",
       "    .dataframe tbody tr th:only-of-type {\n",
       "        vertical-align: middle;\n",
       "    }\n",
       "\n",
       "    .dataframe tbody tr th {\n",
       "        vertical-align: top;\n",
       "    }\n",
       "\n",
       "    .dataframe thead th {\n",
       "        text-align: right;\n",
       "    }\n",
       "</style>\n",
       "<table border=\"1\" class=\"dataframe\">\n",
       "  <thead>\n",
       "    <tr style=\"text-align: right;\">\n",
       "      <th></th>\n",
       "      <th>Clearing</th>\n",
       "      <th>Globex</th>\n",
       "      <th>Floor</th>\n",
       "      <th>Clearport</th>\n",
       "      <th>Product Name</th>\n",
       "      <th>Product Group</th>\n",
       "      <th>Sub Group</th>\n",
       "      <th>Category</th>\n",
       "      <th>Sub Category</th>\n",
       "      <th>Cleared As</th>\n",
       "      <th>Exchange</th>\n",
       "      <th>Volume</th>\n",
       "      <th>Open Interest</th>\n",
       "    </tr>\n",
       "  </thead>\n",
       "  <tbody>\n",
       "    <tr>\n",
       "      <th>0</th>\n",
       "      <td>ED</td>\n",
       "      <td>GE</td>\n",
       "      <td>NaN</td>\n",
       "      <td>ED</td>\n",
       "      <td>Eurodollar Futures</td>\n",
       "      <td>Interest Rate</td>\n",
       "      <td>Stirs</td>\n",
       "      <td>NaN</td>\n",
       "      <td>NaN</td>\n",
       "      <td>Futures</td>\n",
       "      <td>CME</td>\n",
       "      <td>3104281</td>\n",
       "      <td>13213901</td>\n",
       "    </tr>\n",
       "    <tr>\n",
       "      <th>1</th>\n",
       "      <td>25</td>\n",
       "      <td>ZF</td>\n",
       "      <td>NaN</td>\n",
       "      <td>25</td>\n",
       "      <td>5-Year T-Note Futures</td>\n",
       "      <td>Interest Rate</td>\n",
       "      <td>US Treasury</td>\n",
       "      <td>NaN</td>\n",
       "      <td>NaN</td>\n",
       "      <td>Futures</td>\n",
       "      <td>CBOT</td>\n",
       "      <td>1166719</td>\n",
       "      <td>4162661</td>\n",
       "    </tr>\n",
       "    <tr>\n",
       "      <th>2</th>\n",
       "      <td>21</td>\n",
       "      <td>ZN</td>\n",
       "      <td>NaN</td>\n",
       "      <td>21</td>\n",
       "      <td>10-Year T-Note Futures</td>\n",
       "      <td>Interest Rate</td>\n",
       "      <td>US Treasury</td>\n",
       "      <td>NaN</td>\n",
       "      <td>NaN</td>\n",
       "      <td>Futures</td>\n",
       "      <td>CBOT</td>\n",
       "      <td>2181982</td>\n",
       "      <td>3656744</td>\n",
       "    </tr>\n",
       "    <tr>\n",
       "      <th>3</th>\n",
       "      <td>26</td>\n",
       "      <td>ZT</td>\n",
       "      <td>NaN</td>\n",
       "      <td>26</td>\n",
       "      <td>2-Year T-Note Futures</td>\n",
       "      <td>Interest Rate</td>\n",
       "      <td>US Treasury</td>\n",
       "      <td>NaN</td>\n",
       "      <td>NaN</td>\n",
       "      <td>Futures</td>\n",
       "      <td>CBOT</td>\n",
       "      <td>666626</td>\n",
       "      <td>3510507</td>\n",
       "    </tr>\n",
       "    <tr>\n",
       "      <th>4</th>\n",
       "      <td>ES</td>\n",
       "      <td>ES</td>\n",
       "      <td>NaN</td>\n",
       "      <td>ES</td>\n",
       "      <td>E-mini S&amp;P 500 Futures</td>\n",
       "      <td>Equities</td>\n",
       "      <td>US Index</td>\n",
       "      <td>NaN</td>\n",
       "      <td>NaN</td>\n",
       "      <td>Futures</td>\n",
       "      <td>CME</td>\n",
       "      <td>2025324</td>\n",
       "      <td>2619124</td>\n",
       "    </tr>\n",
       "  </tbody>\n",
       "</table>\n",
       "</div>"
      ],
      "text/plain": [
       "  Clearing Globex Floor Clearport            Product Name  Product Group  \\\n",
       "0       ED     GE   NaN        ED      Eurodollar Futures  Interest Rate   \n",
       "1       25     ZF   NaN        25   5-Year T-Note Futures  Interest Rate   \n",
       "2       21     ZN   NaN        21  10-Year T-Note Futures  Interest Rate   \n",
       "3       26     ZT   NaN        26   2-Year T-Note Futures  Interest Rate   \n",
       "4       ES     ES   NaN        ES  E-mini S&P 500 Futures       Equities   \n",
       "\n",
       "     Sub Group Category Sub Category Cleared As Exchange   Volume  \\\n",
       "0        Stirs      NaN          NaN    Futures      CME  3104281   \n",
       "1  US Treasury      NaN          NaN    Futures     CBOT  1166719   \n",
       "2  US Treasury      NaN          NaN    Futures     CBOT  2181982   \n",
       "3  US Treasury      NaN          NaN    Futures     CBOT   666626   \n",
       "4     US Index      NaN          NaN    Futures      CME  2025324   \n",
       "\n",
       "   Open Interest  \n",
       "0       13213901  \n",
       "1        4162661  \n",
       "2        3656744  \n",
       "3        3510507  \n",
       "4        2619124  "
      ]
     },
     "execution_count": 13,
     "metadata": {},
     "output_type": "execute_result"
    }
   ],
   "source": [
    "pse.head()"
   ]
  },
  {
   "cell_type": "code",
   "execution_count": 14,
   "metadata": {
    "ExecuteTime": {
     "end_time": "2019-09-04T16:49:14.026348Z",
     "start_time": "2019-09-04T16:49:14.000675Z"
    }
   },
   "outputs": [],
   "source": [
    "pse['product_link'] = hyperlinks"
   ]
  },
  {
   "cell_type": "code",
   "execution_count": 15,
   "metadata": {
    "ExecuteTime": {
     "end_time": "2019-09-04T16:49:14.072147Z",
     "start_time": "2019-09-04T16:49:14.028364Z"
    }
   },
   "outputs": [
    {
     "data": {
      "text/html": [
       "<div>\n",
       "<style scoped>\n",
       "    .dataframe tbody tr th:only-of-type {\n",
       "        vertical-align: middle;\n",
       "    }\n",
       "\n",
       "    .dataframe tbody tr th {\n",
       "        vertical-align: top;\n",
       "    }\n",
       "\n",
       "    .dataframe thead th {\n",
       "        text-align: right;\n",
       "    }\n",
       "</style>\n",
       "<table border=\"1\" class=\"dataframe\">\n",
       "  <thead>\n",
       "    <tr style=\"text-align: right;\">\n",
       "      <th></th>\n",
       "      <th>Clearing</th>\n",
       "      <th>Globex</th>\n",
       "      <th>Floor</th>\n",
       "      <th>Clearport</th>\n",
       "      <th>Product Name</th>\n",
       "      <th>Product Group</th>\n",
       "      <th>Sub Group</th>\n",
       "      <th>Category</th>\n",
       "      <th>Sub Category</th>\n",
       "      <th>Cleared As</th>\n",
       "      <th>Exchange</th>\n",
       "      <th>Volume</th>\n",
       "      <th>Open Interest</th>\n",
       "      <th>product_link</th>\n",
       "    </tr>\n",
       "  </thead>\n",
       "  <tbody>\n",
       "    <tr>\n",
       "      <th>0</th>\n",
       "      <td>ED</td>\n",
       "      <td>GE</td>\n",
       "      <td>NaN</td>\n",
       "      <td>ED</td>\n",
       "      <td>Eurodollar Futures</td>\n",
       "      <td>Interest Rate</td>\n",
       "      <td>Stirs</td>\n",
       "      <td>NaN</td>\n",
       "      <td>NaN</td>\n",
       "      <td>Futures</td>\n",
       "      <td>CME</td>\n",
       "      <td>3104281</td>\n",
       "      <td>13213901</td>\n",
       "      <td>http://www.cmegroup.com/trading/interest-rates...</td>\n",
       "    </tr>\n",
       "    <tr>\n",
       "      <th>1</th>\n",
       "      <td>25</td>\n",
       "      <td>ZF</td>\n",
       "      <td>NaN</td>\n",
       "      <td>25</td>\n",
       "      <td>5-Year T-Note Futures</td>\n",
       "      <td>Interest Rate</td>\n",
       "      <td>US Treasury</td>\n",
       "      <td>NaN</td>\n",
       "      <td>NaN</td>\n",
       "      <td>Futures</td>\n",
       "      <td>CBOT</td>\n",
       "      <td>1166719</td>\n",
       "      <td>4162661</td>\n",
       "      <td>http://www.cmegroup.com/trading/interest-rates...</td>\n",
       "    </tr>\n",
       "    <tr>\n",
       "      <th>2</th>\n",
       "      <td>21</td>\n",
       "      <td>ZN</td>\n",
       "      <td>NaN</td>\n",
       "      <td>21</td>\n",
       "      <td>10-Year T-Note Futures</td>\n",
       "      <td>Interest Rate</td>\n",
       "      <td>US Treasury</td>\n",
       "      <td>NaN</td>\n",
       "      <td>NaN</td>\n",
       "      <td>Futures</td>\n",
       "      <td>CBOT</td>\n",
       "      <td>2181982</td>\n",
       "      <td>3656744</td>\n",
       "      <td>http://www.cmegroup.com/trading/interest-rates...</td>\n",
       "    </tr>\n",
       "    <tr>\n",
       "      <th>3</th>\n",
       "      <td>26</td>\n",
       "      <td>ZT</td>\n",
       "      <td>NaN</td>\n",
       "      <td>26</td>\n",
       "      <td>2-Year T-Note Futures</td>\n",
       "      <td>Interest Rate</td>\n",
       "      <td>US Treasury</td>\n",
       "      <td>NaN</td>\n",
       "      <td>NaN</td>\n",
       "      <td>Futures</td>\n",
       "      <td>CBOT</td>\n",
       "      <td>666626</td>\n",
       "      <td>3510507</td>\n",
       "      <td>http://www.cmegroup.com/trading/interest-rates...</td>\n",
       "    </tr>\n",
       "    <tr>\n",
       "      <th>4</th>\n",
       "      <td>ES</td>\n",
       "      <td>ES</td>\n",
       "      <td>NaN</td>\n",
       "      <td>ES</td>\n",
       "      <td>E-mini S&amp;P 500 Futures</td>\n",
       "      <td>Equities</td>\n",
       "      <td>US Index</td>\n",
       "      <td>NaN</td>\n",
       "      <td>NaN</td>\n",
       "      <td>Futures</td>\n",
       "      <td>CME</td>\n",
       "      <td>2025324</td>\n",
       "      <td>2619124</td>\n",
       "      <td>http://www.cmegroup.com/trading/equity-index/u...</td>\n",
       "    </tr>\n",
       "  </tbody>\n",
       "</table>\n",
       "</div>"
      ],
      "text/plain": [
       "  Clearing Globex Floor Clearport            Product Name  Product Group  \\\n",
       "0       ED     GE   NaN        ED      Eurodollar Futures  Interest Rate   \n",
       "1       25     ZF   NaN        25   5-Year T-Note Futures  Interest Rate   \n",
       "2       21     ZN   NaN        21  10-Year T-Note Futures  Interest Rate   \n",
       "3       26     ZT   NaN        26   2-Year T-Note Futures  Interest Rate   \n",
       "4       ES     ES   NaN        ES  E-mini S&P 500 Futures       Equities   \n",
       "\n",
       "     Sub Group Category Sub Category Cleared As Exchange   Volume  \\\n",
       "0        Stirs      NaN          NaN    Futures      CME  3104281   \n",
       "1  US Treasury      NaN          NaN    Futures     CBOT  1166719   \n",
       "2  US Treasury      NaN          NaN    Futures     CBOT  2181982   \n",
       "3  US Treasury      NaN          NaN    Futures     CBOT   666626   \n",
       "4     US Index      NaN          NaN    Futures      CME  2025324   \n",
       "\n",
       "   Open Interest                                       product_link  \n",
       "0       13213901  http://www.cmegroup.com/trading/interest-rates...  \n",
       "1        4162661  http://www.cmegroup.com/trading/interest-rates...  \n",
       "2        3656744  http://www.cmegroup.com/trading/interest-rates...  \n",
       "3        3510507  http://www.cmegroup.com/trading/interest-rates...  \n",
       "4        2619124  http://www.cmegroup.com/trading/equity-index/u...  "
      ]
     },
     "execution_count": 15,
     "metadata": {},
     "output_type": "execute_result"
    }
   ],
   "source": [
    "pse.head()"
   ]
  },
  {
   "cell_type": "code",
   "execution_count": 16,
   "metadata": {
    "ExecuteTime": {
     "end_time": "2019-09-04T16:49:14.116593Z",
     "start_time": "2019-09-04T16:49:14.074331Z"
    }
   },
   "outputs": [
    {
     "data": {
      "text/html": [
       "<div>\n",
       "<style scoped>\n",
       "    .dataframe tbody tr th:only-of-type {\n",
       "        vertical-align: middle;\n",
       "    }\n",
       "\n",
       "    .dataframe tbody tr th {\n",
       "        vertical-align: top;\n",
       "    }\n",
       "\n",
       "    .dataframe thead th {\n",
       "        text-align: right;\n",
       "    }\n",
       "</style>\n",
       "<table border=\"1\" class=\"dataframe\">\n",
       "  <thead>\n",
       "    <tr style=\"text-align: right;\">\n",
       "      <th></th>\n",
       "      <th>Clearing</th>\n",
       "      <th>Globex</th>\n",
       "      <th>Floor</th>\n",
       "      <th>Clearport</th>\n",
       "      <th>Product Name</th>\n",
       "      <th>Product Group</th>\n",
       "      <th>Sub Group</th>\n",
       "      <th>Category</th>\n",
       "      <th>Sub Category</th>\n",
       "      <th>Cleared As</th>\n",
       "      <th>Exchange</th>\n",
       "      <th>Volume</th>\n",
       "      <th>Open Interest</th>\n",
       "      <th>product_link</th>\n",
       "    </tr>\n",
       "  </thead>\n",
       "  <tbody>\n",
       "    <tr>\n",
       "      <th>1173</th>\n",
       "      <td>R</td>\n",
       "      <td>EHF</td>\n",
       "      <td>NaN</td>\n",
       "      <td>R</td>\n",
       "      <td>Hungarian Forint/Euro (HUF/EUR) Cross Rate Fut...</td>\n",
       "      <td>FX</td>\n",
       "      <td>Emerging Market</td>\n",
       "      <td>NaN</td>\n",
       "      <td>NaN</td>\n",
       "      <td>Futures</td>\n",
       "      <td>CME</td>\n",
       "      <td>0</td>\n",
       "      <td>0</td>\n",
       "      <td>http://www.cmegroup.com/trading/fx/emerging-ma...</td>\n",
       "    </tr>\n",
       "    <tr>\n",
       "      <th>1174</th>\n",
       "      <td>PXO</td>\n",
       "      <td>PXO</td>\n",
       "      <td>NaN</td>\n",
       "      <td>PXO</td>\n",
       "      <td>PJM PEPCO Zone Off-Peak Calendar-Day 5 MW Day-...</td>\n",
       "      <td>Energy</td>\n",
       "      <td>Electricity</td>\n",
       "      <td>PJM</td>\n",
       "      <td>Daily Off-Peak</td>\n",
       "      <td>Futures</td>\n",
       "      <td>NYMEX</td>\n",
       "      <td>0</td>\n",
       "      <td>0</td>\n",
       "      <td>http://www.cmegroup.com/trading/energy/electri...</td>\n",
       "    </tr>\n",
       "    <tr>\n",
       "      <th>1175</th>\n",
       "      <td>K1</td>\n",
       "      <td>AK1</td>\n",
       "      <td>NaN</td>\n",
       "      <td>K1</td>\n",
       "      <td>ERCOT South 345 kV Hub 5 MW Peak Calendar-Day ...</td>\n",
       "      <td>Energy</td>\n",
       "      <td>Electricity</td>\n",
       "      <td>ERCOT</td>\n",
       "      <td>Daily Peak</td>\n",
       "      <td>Futures</td>\n",
       "      <td>NYMEX</td>\n",
       "      <td>0</td>\n",
       "      <td>0</td>\n",
       "      <td>http://www.cmegroup.com/trading/energy/electri...</td>\n",
       "    </tr>\n",
       "    <tr>\n",
       "      <th>1176</th>\n",
       "      <td>NFD</td>\n",
       "      <td>NFD</td>\n",
       "      <td>NaN</td>\n",
       "      <td>NFD</td>\n",
       "      <td>NYISO Zone F Peak Calendar-Day 5 MW Day-Ahead ...</td>\n",
       "      <td>Energy</td>\n",
       "      <td>Electricity</td>\n",
       "      <td>NYISO</td>\n",
       "      <td>Daily Peak</td>\n",
       "      <td>Futures</td>\n",
       "      <td>NYMEX</td>\n",
       "      <td>0</td>\n",
       "      <td>0</td>\n",
       "      <td>http://www.cmegroup.com/trading/energy/electri...</td>\n",
       "    </tr>\n",
       "    <tr>\n",
       "      <th>1177</th>\n",
       "      <td>CBA</td>\n",
       "      <td>CBA</td>\n",
       "      <td>NaN</td>\n",
       "      <td>CBA</td>\n",
       "      <td>Gulf Coast CBOB Gasoline A1 (Platts) vs. RBOB ...</td>\n",
       "      <td>Energy</td>\n",
       "      <td>Refined Products</td>\n",
       "      <td>North American</td>\n",
       "      <td>Spreads</td>\n",
       "      <td>Futures</td>\n",
       "      <td>NYMEX</td>\n",
       "      <td>0</td>\n",
       "      <td>0</td>\n",
       "      <td>http://www.cmegroup.com/trading/energy/refined...</td>\n",
       "    </tr>\n",
       "  </tbody>\n",
       "</table>\n",
       "</div>"
      ],
      "text/plain": [
       "     Clearing Globex Floor Clearport  \\\n",
       "1173        R    EHF   NaN         R   \n",
       "1174      PXO    PXO   NaN       PXO   \n",
       "1175       K1    AK1   NaN        K1   \n",
       "1176      NFD    NFD   NaN       NFD   \n",
       "1177      CBA    CBA   NaN       CBA   \n",
       "\n",
       "                                           Product Name Product Group  \\\n",
       "1173  Hungarian Forint/Euro (HUF/EUR) Cross Rate Fut...            FX   \n",
       "1174  PJM PEPCO Zone Off-Peak Calendar-Day 5 MW Day-...        Energy   \n",
       "1175  ERCOT South 345 kV Hub 5 MW Peak Calendar-Day ...        Energy   \n",
       "1176  NYISO Zone F Peak Calendar-Day 5 MW Day-Ahead ...        Energy   \n",
       "1177  Gulf Coast CBOB Gasoline A1 (Platts) vs. RBOB ...        Energy   \n",
       "\n",
       "             Sub Group        Category    Sub Category Cleared As Exchange  \\\n",
       "1173   Emerging Market             NaN             NaN    Futures      CME   \n",
       "1174       Electricity             PJM  Daily Off-Peak    Futures    NYMEX   \n",
       "1175       Electricity           ERCOT      Daily Peak    Futures    NYMEX   \n",
       "1176       Electricity           NYISO      Daily Peak    Futures    NYMEX   \n",
       "1177  Refined Products  North American         Spreads    Futures    NYMEX   \n",
       "\n",
       "      Volume  Open Interest                                       product_link  \n",
       "1173       0              0  http://www.cmegroup.com/trading/fx/emerging-ma...  \n",
       "1174       0              0  http://www.cmegroup.com/trading/energy/electri...  \n",
       "1175       0              0  http://www.cmegroup.com/trading/energy/electri...  \n",
       "1176       0              0  http://www.cmegroup.com/trading/energy/electri...  \n",
       "1177       0              0  http://www.cmegroup.com/trading/energy/refined...  "
      ]
     },
     "execution_count": 16,
     "metadata": {},
     "output_type": "execute_result"
    }
   ],
   "source": [
    "pse.tail()"
   ]
  },
  {
   "cell_type": "code",
   "execution_count": 17,
   "metadata": {
    "ExecuteTime": {
     "end_time": "2019-09-04T16:49:14.144784Z",
     "start_time": "2019-09-04T16:49:14.118864Z"
    }
   },
   "outputs": [
    {
     "data": {
      "text/plain": [
       "(1178, 14)"
      ]
     },
     "execution_count": 17,
     "metadata": {},
     "output_type": "execute_result"
    }
   ],
   "source": [
    "pse.shape"
   ]
  },
  {
   "cell_type": "markdown",
   "metadata": {},
   "source": [
    "# Save csv with hyperlinks"
   ]
  },
  {
   "cell_type": "code",
   "execution_count": 9,
   "metadata": {
    "ExecuteTime": {
     "end_time": "2019-09-04T18:30:11.761898Z",
     "start_time": "2019-09-04T18:30:11.706348Z"
    }
   },
   "outputs": [],
   "source": [
    "pse.to_csv('/data/prices/product_slate_export_20190904.csv', index=0)"
   ]
  },
  {
   "cell_type": "code",
   "execution_count": null,
   "metadata": {},
   "outputs": [],
   "source": []
  }
 ],
 "metadata": {
  "jupytext": {
   "text_representation": {
    "extension": ".py",
    "format_name": "percent",
    "format_version": "1.2",
    "jupytext_version": "1.1.1"
   }
  },
  "kernelspec": {
   "display_name": "python3_custom_julia",
   "language": "python",
   "name": "python3"
  },
  "language_info": {
   "codemirror_mode": {
    "name": "ipython",
    "version": 3
   },
   "file_extension": ".py",
   "mimetype": "text/x-python",
   "name": "python",
   "nbconvert_exporter": "python",
   "pygments_lexer": "ipython3",
   "version": "3.6.7"
  },
  "notify_time": "30",
  "toc": {
   "base_numbering": 1,
   "nav_menu": {},
   "number_sections": true,
   "sideBar": true,
   "skip_h1_title": false,
   "title_cell": "Table of Contents",
   "title_sidebar": "Contents",
   "toc_cell": false,
   "toc_position": {
    "height": "calc(100% - 180px)",
    "left": "10px",
    "top": "150px",
    "width": "199.968px"
   },
   "toc_section_display": true,
   "toc_window_display": true
  },
  "varInspector": {
   "cols": {
    "lenName": 16,
    "lenType": 16,
    "lenVar": 40
   },
   "kernels_config": {
    "python": {
     "delete_cmd_postfix": "",
     "delete_cmd_prefix": "del ",
     "library": "var_list.py",
     "varRefreshCmd": "print(var_dic_list())"
    },
    "r": {
     "delete_cmd_postfix": ") ",
     "delete_cmd_prefix": "rm(",
     "library": "var_list.r",
     "varRefreshCmd": "cat(var_dic_list()) "
    }
   },
   "types_to_exclude": [
    "module",
    "function",
    "builtin_function_or_method",
    "instance",
    "_Feature"
   ],
   "window_display": false
  }
 },
 "nbformat": 4,
 "nbformat_minor": 2
}
