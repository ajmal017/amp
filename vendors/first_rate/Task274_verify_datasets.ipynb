{
 "cells": [
  {
   "cell_type": "markdown",
   "metadata": {},
   "source": [
    "# Imports"
   ]
  },
  {
   "cell_type": "code",
   "execution_count": null,
   "metadata": {
    "ExecuteTime": {
     "end_time": "2019-09-28T01:21:17.626435Z",
     "start_time": "2019-09-28T01:21:17.599536Z"
    }
   },
   "outputs": [],
   "source": [
    "%load_ext autoreload\n",
    "%autoreload 2\n",
    "\n",
    "import os\n",
    "\n",
    "from matplotlib import pyplot as plt\n",
    "import pandas as pd\n",
    "import seaborn as sns\n",
    "sns.set()\n",
    "\n",
    "from tqdm.autonotebook import tqdm\n",
    "\n",
    "import oil.utils.datetime_utils as du\n",
    "import vendors.first_rate.utils as fru\n",
    "\n",
    "%matplotlib inline"
   ]
  },
  {
   "cell_type": "code",
   "execution_count": null,
   "metadata": {
    "ExecuteTime": {
     "end_time": "2019-09-28T01:21:24.542091Z",
     "start_time": "2019-09-28T01:21:24.524283Z"
    }
   },
   "outputs": [],
   "source": [
    "from pylab import rcParams\n",
    "rcParams['figure.figsize'] = (20, 5)"
   ]
  },
  {
   "cell_type": "code",
   "execution_count": null,
   "metadata": {
    "ExecuteTime": {
     "end_time": "2019-09-28T01:54:49.203378Z",
     "start_time": "2019-09-28T01:54:49.180508Z"
    }
   },
   "outputs": [],
   "source": [
    "import infra.helpers.telegram_notify.telegram_notify as tgn\n",
    "tn = tgn.TelegramNotify()"
   ]
  },
  {
   "cell_type": "code",
   "execution_count": null,
   "metadata": {},
   "outputs": [],
   "source": [
    "def find_price_col_bug(df):\n",
    "    \"\"\"\n",
    "    Check that column names for ['open', 'high', 'low', 'close', 'settle']\n",
    "    columns correspond to one of those columns (they can be shifted)\n",
    "    \"\"\"\n",
    "    price_cols = df.columns.intersection(\n",
    "        ['open', 'high', 'low', 'close', 'settle'])\n",
    "    mean_price = df[price_cols].mean()\n",
    "    col_name_bug = False\n",
    "    for price_col in price_cols:\n",
    "        mean_other_cols = mean_price.loc[mean_price.index.drop(\n",
    "            price_col)].mean()\n",
    "        if not (0.98 < (mean_price.loc[price_col] / mean_other_cols) < 1.2):\n",
    "            col_name_bug = True\n",
    "    return col_name_bug\n",
    "\n",
    "\n",
    "def verify(pq_path):\n",
    "    equity = pd.read_pq(pq_path)\n",
    "    summary_series = pd.Series(index=summary_cols)\n",
    "    summary_series.loc['start_date'] = equity.iloc[0, 0]\n",
    "    summary_series.loc['end_date'] = equity.iloc[0, -1]\n",
    "    summary_series.loc['n_rows'] = len(equity)\n",
    "    summary_series.loc['price_col_bug'] = find_col_name_bug(equity)\n",
    "    # check timestamps and missing days\n",
    "    if 'timestamp' not in equity.columns:\n",
    "        summary_series.loc['missing_timestamp_col'] = True\n",
    "        bdays = pd.date_range(equity.iloc[0, 0],\n",
    "                              equity.iloc[0, -1],\n",
    "                              freq=du.CBD)\n",
    "        n_missing_days = len(bdays) - len(equity)\n",
    "        summary_series.loc['n_missing_market_days'] = n_missing_days\n",
    "    else:\n",
    "        summary_series.loc['missing_timestamp_col'] = False\n",
    "        bdays = pd.date_range(equity.iloc[0, 0],\n",
    "                              equity.iloc[0, -1],\n",
    "                              freq=du.CBD)\n",
    "        missing_bdays = bdays.difference(summary['timestamp'].date())\n",
    "        summary_series.loc['n_missing_market_days'] = len(missing_bdays)\n",
    "    return summary_series"
   ]
  },
  {
   "cell_type": "code",
   "execution_count": null,
   "metadata": {},
   "outputs": [],
   "source": [
    "PQ_DIR = '/data/first_rate/pq'"
   ]
  },
  {
   "cell_type": "markdown",
   "metadata": {},
   "source": [
    "# Get file list"
   ]
  },
  {
   "cell_type": "code",
   "execution_count": null,
   "metadata": {},
   "outputs": [],
   "source": [
    "pq_files = []\n",
    "for category_dir in os.listdir(PQ_DIR):\n",
    "    category_dir_path = os.path.join(PQ_DIR, category_dir)\n",
    "    for file_name in os.listdir(category_dir_path):\n",
    "        file_path = os.path.join(category_dir_path, file_name)\n",
    "        pq_files.append(file_path)"
   ]
  },
  {
   "cell_type": "code",
   "execution_count": null,
   "metadata": {},
   "outputs": [],
   "source": [
    "len(pq_files)"
   ]
  },
  {
   "cell_type": "markdown",
   "metadata": {},
   "source": [
    "# Collect a summary"
   ]
  },
  {
   "cell_type": "code",
   "execution_count": null,
   "metadata": {
    "ExecuteTime": {
     "end_time": "2019-09-28T00:11:25.054433Z",
     "start_time": "2019-09-28T00:11:25.038043Z"
    }
   },
   "outputs": [],
   "source": [
    "summary_cols = [\n",
    "    'start_date', 'end_date', 'n_missing_market_days', 'n_rows'\n",
    "    'missing_timestamp_col', 'price_col_bug'\n",
    "]"
   ]
  },
  {
   "cell_type": "code",
   "execution_count": null,
   "metadata": {
    "ExecuteTime": {
     "end_time": "2019-09-28T00:11:26.948335Z",
     "start_time": "2019-09-28T00:11:26.929218Z"
    }
   },
   "outputs": [],
   "source": [
    "summary = pd.DataFrame(columns=summary_cols, index=pq_files)\n",
    "summary.index.name = 'file_name'"
   ]
  },
  {
   "cell_type": "code",
   "execution_count": null,
   "metadata": {
    "ExecuteTime": {
     "end_time": "2019-09-28T00:11:29.905873Z",
     "start_time": "2019-09-28T00:11:29.882756Z"
    }
   },
   "outputs": [],
   "source": [
    "summary.head()"
   ]
  },
  {
   "cell_type": "code",
   "execution_count": null,
   "metadata": {},
   "outputs": [],
   "source": [
    "for pq_path in tqdm(pq_files):\n",
    "    summary_equity = verify(pq_path)\n",
    "    summary.loc[pq_path] = summary_equity"
   ]
  },
  {
   "cell_type": "code",
   "execution_count": null,
   "metadata": {},
   "outputs": [],
   "source": [
    "summary.to_csv('/data/first_rate/file_summary.csv')"
   ]
  },
  {
   "cell_type": "code",
   "execution_count": null,
   "metadata": {},
   "outputs": [],
   "source": [
    "tn.notify(\"Collected stats for each pq\")"
   ]
  },
  {
   "cell_type": "markdown",
   "metadata": {},
   "source": [
    "# Stats"
   ]
  },
  {
   "cell_type": "code",
   "execution_count": null,
   "metadata": {},
   "outputs": [],
   "source": [
    "summary['missing_timestamp_col'].sum()"
   ]
  },
  {
   "cell_type": "code",
   "execution_count": null,
   "metadata": {},
   "outputs": [],
   "source": [
    "summary['missing_timestamp_col'].sum() / len(summary)"
   ]
  },
  {
   "cell_type": "code",
   "execution_count": null,
   "metadata": {},
   "outputs": [],
   "source": [
    "summary['n_missing_market_days'] / summary['n_rows']"
   ]
  },
  {
   "cell_type": "code",
   "execution_count": null,
   "metadata": {},
   "outputs": [],
   "source": [
    "sns.distplot(summary['n_rows'])\n",
    "plt.title('Number of rows per equity')\n",
    "plt.show()"
   ]
  },
  {
   "cell_type": "code",
   "execution_count": null,
   "metadata": {},
   "outputs": [],
   "source": [
    "sns.distplot(summary['n_missing_market_days'] / summary['n_rows'])\n",
    "plt.title('Proportion of missing market days per equity')\n",
    "plt.show()"
   ]
  },
  {
   "cell_type": "code",
   "execution_count": null,
   "metadata": {},
   "outputs": [],
   "source": []
  }
 ],
 "metadata": {
  "kernelspec": {
   "display_name": "Python [conda env:.conda-p1_develop] *",
   "language": "python",
   "name": "conda-env-.conda-p1_develop-py"
  },
  "language_info": {
   "codemirror_mode": {
    "name": "ipython",
    "version": 3
   },
   "file_extension": ".py",
   "mimetype": "text/x-python",
   "name": "python",
   "nbconvert_exporter": "python",
   "pygments_lexer": "ipython3",
   "version": "3.6.7"
  },
  "toc": {
   "base_numbering": 1,
   "nav_menu": {},
   "number_sections": true,
   "sideBar": true,
   "skip_h1_title": false,
   "title_cell": "Table of Contents",
   "title_sidebar": "Contents",
   "toc_cell": false,
   "toc_position": {},
   "toc_section_display": true,
   "toc_window_display": false
  }
 },
 "nbformat": 4,
 "nbformat_minor": 2
}
