{
 "cells": [
  {
   "cell_type": "markdown",
   "metadata": {},
   "source": [
    "# Imports"
   ]
  },
  {
   "cell_type": "code",
   "execution_count": 1,
   "metadata": {
    "ExecuteTime": {
     "end_time": "2019-09-28T15:09:26.818048Z",
     "start_time": "2019-09-28T15:09:25.057582Z"
    }
   },
   "outputs": [
    {
     "name": "stderr",
     "output_type": "stream",
     "text": [
      "/home/julia/.conda/envs/p1_develop/lib/python3.6/site-packages/tqdm/autonotebook.py:17: TqdmExperimentalWarning: Using `tqdm.autonotebook.tqdm` in notebook mode. Use `tqdm.tqdm` instead to force console mode (e.g. in jupyter console)\n",
      "  \" (e.g. in jupyter console)\", TqdmExperimentalWarning)\n"
     ]
    }
   ],
   "source": [
    "%load_ext autoreload\n",
    "%autoreload 2\n",
    "\n",
    "import os\n",
    "\n",
    "from matplotlib import pyplot as plt\n",
    "import pandas as pd\n",
    "import seaborn as sns\n",
    "sns.set()\n",
    "\n",
    "from tqdm.autonotebook import tqdm\n",
    "\n",
    "import oil.utils.datetime_utils as du\n",
    "import vendors.first_rate.utils as fru\n",
    "\n",
    "%matplotlib inline"
   ]
  },
  {
   "cell_type": "code",
   "execution_count": 2,
   "metadata": {
    "ExecuteTime": {
     "end_time": "2019-09-28T15:09:26.837880Z",
     "start_time": "2019-09-28T15:09:26.820142Z"
    }
   },
   "outputs": [],
   "source": [
    "from pylab import rcParams\n",
    "rcParams['figure.figsize'] = (20, 5)"
   ]
  },
  {
   "cell_type": "code",
   "execution_count": 3,
   "metadata": {
    "ExecuteTime": {
     "end_time": "2019-09-28T15:09:27.226248Z",
     "start_time": "2019-09-28T15:09:26.839517Z"
    }
   },
   "outputs": [],
   "source": [
    "import infra.helpers.telegram_notify.telegram_notify as tgn\n",
    "tn = tgn.TelegramNotify()"
   ]
  },
  {
   "cell_type": "code",
   "execution_count": 4,
   "metadata": {
    "ExecuteTime": {
     "end_time": "2019-09-28T15:09:27.256866Z",
     "start_time": "2019-09-28T15:09:27.227858Z"
    }
   },
   "outputs": [],
   "source": [
    "def find_price_col_bug(df):\n",
    "    \"\"\"\n",
    "    Check that column names for ['open', 'high', 'low', 'close', 'settle']\n",
    "    columns correspond to one of those columns (they can be shifted)\n",
    "    \"\"\"\n",
    "    price_cols = df.columns.intersection(\n",
    "        ['open', 'high', 'low', 'close', 'settle'])\n",
    "    mean_price = df[price_cols].mean()\n",
    "    col_name_bug = False\n",
    "    for price_col in price_cols:\n",
    "        mean_other_cols = mean_price.loc[mean_price.index.drop(\n",
    "            price_col)].mean()\n",
    "        if not (0.98 < (mean_price.loc[price_col] / mean_other_cols) < 1.2):\n",
    "            col_name_bug = True\n",
    "    return col_name_bug\n",
    "\n",
    "\n",
    "def verify(pq_path):\n",
    "    equity = pd.read_parquet(pq_path)\n",
    "    equity['timestamp'] = pd.to_datetime(equity['timestamp'], utc=True)\n",
    "    summary_series = pd.Series(index=summary_cols)\n",
    "    summary_series.loc['start_date'] = equity['timestamp'].iloc[0]\n",
    "    summary_series.loc['end_date'] = equity['timestamp'].iloc[-1]\n",
    "    summary_series.loc['n_rows'] = len(equity)\n",
    "    summary_series.loc['price_col_bug'] = find_price_col_bug(equity)\n",
    "    # check timestamps and missing days\n",
    "    if 'timestamp' not in equity.columns:\n",
    "        summary_series.loc['missing_timestamp_col'] = True\n",
    "        bdays = pd.date_range(equity['timestamp'].iloc[0],\n",
    "                              equity['timestamp'].iloc[-1],\n",
    "                              freq=du.CBD)\n",
    "        n_missing_days = len(bdays) - len(equity)\n",
    "        summary_series.loc['n_missing_market_days'] = n_missing_days\n",
    "    else:\n",
    "        summary_series.loc['missing_timestamp_col'] = False\n",
    "        bdays = pd.date_range(equity['timestamp'].iloc[0],\n",
    "                              equity['timestamp'].iloc[-1],\n",
    "                              freq=du.CBD,\n",
    "                              tz=equity['timestamp'].iloc[0].tz)\n",
    "        missing_bdays = bdays.difference(equity['timestamp'].dt.date)\n",
    "        summary_series.loc['n_missing_market_days'] = len(missing_bdays)\n",
    "    return summary_series"
   ]
  },
  {
   "cell_type": "code",
   "execution_count": 5,
   "metadata": {
    "ExecuteTime": {
     "end_time": "2019-09-28T15:09:27.273681Z",
     "start_time": "2019-09-28T15:09:27.258300Z"
    }
   },
   "outputs": [],
   "source": [
    "PQ_DIR = '/data/first_rate/pq'"
   ]
  },
  {
   "cell_type": "markdown",
   "metadata": {},
   "source": [
    "# Get file list"
   ]
  },
  {
   "cell_type": "code",
   "execution_count": 6,
   "metadata": {
    "ExecuteTime": {
     "end_time": "2019-09-28T15:09:27.292748Z",
     "start_time": "2019-09-28T15:09:27.275894Z"
    }
   },
   "outputs": [],
   "source": [
    "pq_files = []\n",
    "for category_dir in os.listdir(PQ_DIR):\n",
    "    category_dir_path = os.path.join(PQ_DIR, category_dir)\n",
    "    for file_name in os.listdir(category_dir_path):\n",
    "        file_path = os.path.join(category_dir_path, file_name)\n",
    "        pq_files.append(file_path)"
   ]
  },
  {
   "cell_type": "code",
   "execution_count": 7,
   "metadata": {
    "ExecuteTime": {
     "end_time": "2019-09-28T15:09:27.311408Z",
     "start_time": "2019-09-28T15:09:27.294519Z"
    }
   },
   "outputs": [
    {
     "data": {
      "text/plain": [
       "553"
      ]
     },
     "execution_count": 7,
     "metadata": {},
     "output_type": "execute_result"
    }
   ],
   "source": [
    "len(pq_files)"
   ]
  },
  {
   "cell_type": "markdown",
   "metadata": {},
   "source": [
    "# Collect a summary"
   ]
  },
  {
   "cell_type": "code",
   "execution_count": 8,
   "metadata": {
    "ExecuteTime": {
     "end_time": "2019-09-28T15:09:27.327677Z",
     "start_time": "2019-09-28T15:09:27.312856Z"
    }
   },
   "outputs": [],
   "source": [
    "summary_cols = [\n",
    "    'start_date', 'end_date', 'n_missing_market_days', 'n_rows',\n",
    "    'missing_timestamp_col', 'price_col_bug'\n",
    "]"
   ]
  },
  {
   "cell_type": "code",
   "execution_count": 9,
   "metadata": {
    "ExecuteTime": {
     "end_time": "2019-09-28T15:09:27.349665Z",
     "start_time": "2019-09-28T15:09:27.329093Z"
    }
   },
   "outputs": [],
   "source": [
    "summary = pd.DataFrame(columns=summary_cols, index=pq_files)\n",
    "summary.index.name = 'file_name'"
   ]
  },
  {
   "cell_type": "code",
   "execution_count": 10,
   "metadata": {
    "ExecuteTime": {
     "end_time": "2019-09-28T15:46:11.133332Z",
     "start_time": "2019-09-28T15:09:27.351056Z"
    }
   },
   "outputs": [
    {
     "data": {
      "application/vnd.jupyter.widget-view+json": {
       "model_id": "541d3ca4dfd9461695fec6f6cc61f11d",
       "version_major": 2,
       "version_minor": 0
      },
      "text/plain": [
       "HBox(children=(IntProgress(value=0, max=553), HTML(value='')))"
      ]
     },
     "metadata": {},
     "output_type": "display_data"
    },
    {
     "name": "stdout",
     "output_type": "stream",
     "text": [
      "\n",
      "CPU times: user 33min 3s, sys: 4min 23s, total: 37min 26s\n",
      "Wall time: 36min 43s\n"
     ]
    }
   ],
   "source": [
    "%%time\n",
    "for pq_path in tqdm(pq_files):\n",
    "    summary_equity = verify(pq_path)\n",
    "    summary.loc[pq_path] = summary_equity"
   ]
  },
  {
   "cell_type": "code",
   "execution_count": 11,
   "metadata": {
    "ExecuteTime": {
     "end_time": "2019-09-28T15:46:11.349028Z",
     "start_time": "2019-09-28T15:46:11.137069Z"
    }
   },
   "outputs": [],
   "source": [
    "summary.to_csv('/data/first_rate/file_summary.csv', index=0)"
   ]
  },
  {
   "cell_type": "code",
   "execution_count": 12,
   "metadata": {
    "ExecuteTime": {
     "end_time": "2019-09-28T15:46:11.831645Z",
     "start_time": "2019-09-28T15:46:11.350653Z"
    }
   },
   "outputs": [],
   "source": [
    "tn.notify(\"Collected stats for each pq\")"
   ]
  },
  {
   "cell_type": "code",
   "execution_count": 20,
   "metadata": {
    "ExecuteTime": {
     "end_time": "2019-09-28T15:46:13.768143Z",
     "start_time": "2019-09-28T15:46:13.312755Z"
    }
   },
   "outputs": [],
   "source": [
    "tn.notify(summary.head())"
   ]
  },
  {
   "cell_type": "markdown",
   "metadata": {},
   "source": [
    "# Stats"
   ]
  },
  {
   "cell_type": "code",
   "execution_count": 13,
   "metadata": {
    "ExecuteTime": {
     "end_time": "2019-09-28T15:46:11.864615Z",
     "start_time": "2019-09-28T15:46:11.833216Z"
    }
   },
   "outputs": [
    {
     "data": {
      "text/html": [
       "<div>\n",
       "<style scoped>\n",
       "    .dataframe tbody tr th:only-of-type {\n",
       "        vertical-align: middle;\n",
       "    }\n",
       "\n",
       "    .dataframe tbody tr th {\n",
       "        vertical-align: top;\n",
       "    }\n",
       "\n",
       "    .dataframe thead th {\n",
       "        text-align: right;\n",
       "    }\n",
       "</style>\n",
       "<table border=\"1\" class=\"dataframe\">\n",
       "  <thead>\n",
       "    <tr style=\"text-align: right;\">\n",
       "      <th></th>\n",
       "      <th>start_date</th>\n",
       "      <th>end_date</th>\n",
       "      <th>n_missing_market_days</th>\n",
       "      <th>n_rows</th>\n",
       "      <th>missing_timestamp_col</th>\n",
       "      <th>price_col_bug</th>\n",
       "    </tr>\n",
       "    <tr>\n",
       "      <th>file_name</th>\n",
       "      <th></th>\n",
       "      <th></th>\n",
       "      <th></th>\n",
       "      <th></th>\n",
       "      <th></th>\n",
       "      <th></th>\n",
       "    </tr>\n",
       "  </thead>\n",
       "  <tbody>\n",
       "    <tr>\n",
       "      <td>/data/first_rate/pq/stock_A-D/A_1HOUR_32f5ke_EST.pq</td>\n",
       "      <td>2004-01-23 14:30:00+00:00</td>\n",
       "      <td>2018-12-31 20:00:00+00:00</td>\n",
       "      <td>3764</td>\n",
       "      <td>26223</td>\n",
       "      <td>False</td>\n",
       "      <td>False</td>\n",
       "    </tr>\n",
       "    <tr>\n",
       "      <td>/data/first_rate/pq/stock_A-D/A_1MIN_d0tc9g_EST.pq</td>\n",
       "      <td>2004-01-23 14:30:00+00:00</td>\n",
       "      <td>2019-03-25 19:59:00+00:00</td>\n",
       "      <td>3821</td>\n",
       "      <td>1465772</td>\n",
       "      <td>False</td>\n",
       "      <td>False</td>\n",
       "    </tr>\n",
       "    <tr>\n",
       "      <td>/data/first_rate/pq/stock_A-D/AAP_1HOUR_i7jk9a_EST.pq</td>\n",
       "      <td>2004-01-23 14:30:00+00:00</td>\n",
       "      <td>2018-12-31 20:00:00+00:00</td>\n",
       "      <td>3764</td>\n",
       "      <td>26221</td>\n",
       "      <td>False</td>\n",
       "      <td>False</td>\n",
       "    </tr>\n",
       "    <tr>\n",
       "      <td>/data/first_rate/pq/stock_A-D/AAP_1MIN_jskmln_EST.pq</td>\n",
       "      <td>2004-01-23 14:35:00+00:00</td>\n",
       "      <td>2019-03-22 19:59:00+00:00</td>\n",
       "      <td>3820</td>\n",
       "      <td>1463636</td>\n",
       "      <td>False</td>\n",
       "      <td>False</td>\n",
       "    </tr>\n",
       "    <tr>\n",
       "      <td>/data/first_rate/pq/stock_A-D/AAPL_1HOUR_3yu77g_EST.pq</td>\n",
       "      <td>2004-01-23 14:30:00+00:00</td>\n",
       "      <td>2019-03-18 19:00:00+00:00</td>\n",
       "      <td>3816</td>\n",
       "      <td>35256</td>\n",
       "      <td>False</td>\n",
       "      <td>False</td>\n",
       "    </tr>\n",
       "  </tbody>\n",
       "</table>\n",
       "</div>"
      ],
      "text/plain": [
       "                                                                   start_date  \\\n",
       "file_name                                                                       \n",
       "/data/first_rate/pq/stock_A-D/A_1HOUR_32f5ke_ES...  2004-01-23 14:30:00+00:00   \n",
       "/data/first_rate/pq/stock_A-D/A_1MIN_d0tc9g_EST.pq  2004-01-23 14:30:00+00:00   \n",
       "/data/first_rate/pq/stock_A-D/AAP_1HOUR_i7jk9a_...  2004-01-23 14:30:00+00:00   \n",
       "/data/first_rate/pq/stock_A-D/AAP_1MIN_jskmln_E...  2004-01-23 14:35:00+00:00   \n",
       "/data/first_rate/pq/stock_A-D/AAPL_1HOUR_3yu77g...  2004-01-23 14:30:00+00:00   \n",
       "\n",
       "                                                                     end_date  \\\n",
       "file_name                                                                       \n",
       "/data/first_rate/pq/stock_A-D/A_1HOUR_32f5ke_ES...  2018-12-31 20:00:00+00:00   \n",
       "/data/first_rate/pq/stock_A-D/A_1MIN_d0tc9g_EST.pq  2019-03-25 19:59:00+00:00   \n",
       "/data/first_rate/pq/stock_A-D/AAP_1HOUR_i7jk9a_...  2018-12-31 20:00:00+00:00   \n",
       "/data/first_rate/pq/stock_A-D/AAP_1MIN_jskmln_E...  2019-03-22 19:59:00+00:00   \n",
       "/data/first_rate/pq/stock_A-D/AAPL_1HOUR_3yu77g...  2019-03-18 19:00:00+00:00   \n",
       "\n",
       "                                                   n_missing_market_days  \\\n",
       "file_name                                                                  \n",
       "/data/first_rate/pq/stock_A-D/A_1HOUR_32f5ke_ES...                  3764   \n",
       "/data/first_rate/pq/stock_A-D/A_1MIN_d0tc9g_EST.pq                  3821   \n",
       "/data/first_rate/pq/stock_A-D/AAP_1HOUR_i7jk9a_...                  3764   \n",
       "/data/first_rate/pq/stock_A-D/AAP_1MIN_jskmln_E...                  3820   \n",
       "/data/first_rate/pq/stock_A-D/AAPL_1HOUR_3yu77g...                  3816   \n",
       "\n",
       "                                                     n_rows  \\\n",
       "file_name                                                     \n",
       "/data/first_rate/pq/stock_A-D/A_1HOUR_32f5ke_ES...    26223   \n",
       "/data/first_rate/pq/stock_A-D/A_1MIN_d0tc9g_EST.pq  1465772   \n",
       "/data/first_rate/pq/stock_A-D/AAP_1HOUR_i7jk9a_...    26221   \n",
       "/data/first_rate/pq/stock_A-D/AAP_1MIN_jskmln_E...  1463636   \n",
       "/data/first_rate/pq/stock_A-D/AAPL_1HOUR_3yu77g...    35256   \n",
       "\n",
       "                                                   missing_timestamp_col  \\\n",
       "file_name                                                                  \n",
       "/data/first_rate/pq/stock_A-D/A_1HOUR_32f5ke_ES...                 False   \n",
       "/data/first_rate/pq/stock_A-D/A_1MIN_d0tc9g_EST.pq                 False   \n",
       "/data/first_rate/pq/stock_A-D/AAP_1HOUR_i7jk9a_...                 False   \n",
       "/data/first_rate/pq/stock_A-D/AAP_1MIN_jskmln_E...                 False   \n",
       "/data/first_rate/pq/stock_A-D/AAPL_1HOUR_3yu77g...                 False   \n",
       "\n",
       "                                                   price_col_bug  \n",
       "file_name                                                         \n",
       "/data/first_rate/pq/stock_A-D/A_1HOUR_32f5ke_ES...         False  \n",
       "/data/first_rate/pq/stock_A-D/A_1MIN_d0tc9g_EST.pq         False  \n",
       "/data/first_rate/pq/stock_A-D/AAP_1HOUR_i7jk9a_...         False  \n",
       "/data/first_rate/pq/stock_A-D/AAP_1MIN_jskmln_E...         False  \n",
       "/data/first_rate/pq/stock_A-D/AAPL_1HOUR_3yu77g...         False  "
      ]
     },
     "execution_count": 13,
     "metadata": {},
     "output_type": "execute_result"
    }
   ],
   "source": [
    "summary.head()"
   ]
  },
  {
   "cell_type": "code",
   "execution_count": 14,
   "metadata": {
    "ExecuteTime": {
     "end_time": "2019-09-28T15:46:11.883625Z",
     "start_time": "2019-09-28T15:46:11.866009Z"
    }
   },
   "outputs": [
    {
     "data": {
      "text/plain": [
       "0"
      ]
     },
     "execution_count": 14,
     "metadata": {},
     "output_type": "execute_result"
    }
   ],
   "source": [
    "summary['missing_timestamp_col'].sum()"
   ]
  },
  {
   "cell_type": "code",
   "execution_count": 22,
   "metadata": {
    "ExecuteTime": {
     "end_time": "2019-09-28T22:44:16.813099Z",
     "start_time": "2019-09-28T22:44:16.793071Z"
    }
   },
   "outputs": [
    {
     "data": {
      "text/plain": [
       "0"
      ]
     },
     "execution_count": 22,
     "metadata": {},
     "output_type": "execute_result"
    }
   ],
   "source": [
    "summary['price_col_bug'].sum()"
   ]
  },
  {
   "cell_type": "code",
   "execution_count": 16,
   "metadata": {
    "ExecuteTime": {
     "end_time": "2019-09-28T15:46:11.923524Z",
     "start_time": "2019-09-28T15:46:11.904731Z"
    }
   },
   "outputs": [
    {
     "data": {
      "text/plain": [
       "file_name\n",
       "/data/first_rate/pq/stock_A-D/A_1HOUR_32f5ke_EST.pq                0.143538\n",
       "/data/first_rate/pq/stock_A-D/A_1MIN_d0tc9g_EST.pq               0.00260682\n",
       "/data/first_rate/pq/stock_A-D/AAP_1HOUR_i7jk9a_EST.pq              0.143549\n",
       "/data/first_rate/pq/stock_A-D/AAP_1MIN_jskmln_EST.pq             0.00260994\n",
       "/data/first_rate/pq/stock_A-D/AAPL_1HOUR_3yu77g_EST.pq             0.108237\n",
       "                                                                   ...     \n",
       "/data/first_rate/pq/crypto/ETH_1MIN_kv3a9v_UTC.pq               0.000696792\n",
       "/data/first_rate/pq/commodity/LIGHTCMDUSD_5MIN_7wrl66_UTC.pq     0.00373628\n",
       "/data/first_rate/pq/commodity/BRENTCMDUSD_5MIN_a9mgre_UTC.pq     0.00407843\n",
       "/data/first_rate/pq/commodity/XAGUSD_5MIN_m7suba_UTC.pq          0.00260447\n",
       "/data/first_rate/pq/commodity/XAUUSD_5MIN_bovr84_UTC.pq           0.0034949\n",
       "Length: 553, dtype: object"
      ]
     },
     "execution_count": 16,
     "metadata": {},
     "output_type": "execute_result"
    }
   ],
   "source": [
    "summary['n_missing_market_days'] / summary['n_rows']"
   ]
  },
  {
   "cell_type": "code",
   "execution_count": 21,
   "metadata": {
    "ExecuteTime": {
     "end_time": "2019-09-28T22:43:32.354683Z",
     "start_time": "2019-09-28T22:43:32.332579Z"
    }
   },
   "outputs": [
    {
     "data": {
      "text/plain": [
       "file_name\n",
       "/data/first_rate/pq/stock_E-I/GE_1MIN_ftty3w_EST.pq        1500914\n",
       "/data/first_rate/pq/commodity/XAGUSD_5MIN_m7suba_UTC.pq    1470164\n",
       "/data/first_rate/pq/stock_J-N/JPM_1MIN_e2dh44_EST.pq       1468432\n",
       "/data/first_rate/pq/stock_S-Z/WMT_1MIN_mpo52w_EST.pq       1468421\n",
       "/data/first_rate/pq/stock_O-R/PG_1MIN_3duuj0_EST.pq        1468337\n",
       "/data/first_rate/pq/stock_A-D/BAC_1MIN_hbth0j_EST.pq       1468329\n",
       "/data/first_rate/pq/stock_S-Z/VZ_1MIN_yf06so_EST.pq        1468240\n",
       "/data/first_rate/pq/stock_A-D/AMT_1MIN_tk4nve_EST.pq       1467980\n",
       "/data/first_rate/pq/stock_A-D/CVX_1MIN_ezm637_EST.pq       1467962\n",
       "/data/first_rate/pq/stock_S-Z/WFC_1MIN_sj69y5_EST.pq       1467860\n",
       "Name: n_rows, dtype: object"
      ]
     },
     "execution_count": 21,
     "metadata": {},
     "output_type": "execute_result"
    }
   ],
   "source": [
    "summary['n_rows'].sort_values(ascending=False).head(10)"
   ]
  },
  {
   "cell_type": "code",
   "execution_count": 17,
   "metadata": {
    "ExecuteTime": {
     "end_time": "2019-09-28T15:46:12.405850Z",
     "start_time": "2019-09-28T15:46:11.925009Z"
    }
   },
   "outputs": [
    {
     "data": {
      "image/png": "[encoded data removed]",
      "text/plain": [
       "<Figure size 1440x360 with 1 Axes>"
      ]
     },
     "metadata": {
      "needs_background": "light"
     },
     "output_type": "display_data"
    }
   ],
   "source": [
    "sns.distplot(summary['n_rows'])\n",
    "plt.title('Number of rows per equity')\n",
    "plt.show()"
   ]
  },
  {
   "cell_type": "code",
   "execution_count": 18,
   "metadata": {
    "ExecuteTime": {
     "end_time": "2019-09-28T15:46:12.853248Z",
     "start_time": "2019-09-28T15:46:12.408408Z"
    }
   },
   "outputs": [
    {
     "data": {
      "image/png": "[encoded data removed]",
      "text/plain": [
       "<Figure size 1440x360 with 1 Axes>"
      ]
     },
     "metadata": {
      "needs_background": "light"
     },
     "output_type": "display_data"
    }
   ],
   "source": [
    "sns.distplot(summary['n_missing_market_days'] / summary['n_rows'])\n",
    "plt.title('Proportion of missing market days per equity')\n",
    "plt.show()"
   ]
  },
  {
   "cell_type": "code",
   "execution_count": 30,
   "metadata": {
    "ExecuteTime": {
     "end_time": "2019-09-28T22:52:23.437887Z",
     "start_time": "2019-09-28T22:52:23.417586Z"
    }
   },
   "outputs": [],
   "source": [
    "top_missing_pct = (summary['n_missing_market_days'] /\n",
    "                   summary['n_rows']).sort_values(ascending=False)"
   ]
  },
  {
   "cell_type": "code",
   "execution_count": 31,
   "metadata": {
    "ExecuteTime": {
     "end_time": "2019-09-28T22:52:27.359009Z",
     "start_time": "2019-09-28T22:52:27.337551Z"
    }
   },
   "outputs": [
    {
     "data": {
      "text/plain": [
       "file_name\n",
       "/data/first_rate/pq/stock_S-Z/UAL_1HOUR_jbj8rc_EST.pq     0.372452\n",
       "/data/first_rate/pq/stock_E-I/EVRG_1HOUR_ym14t0_EST.pq    0.145129\n",
       "/data/first_rate/pq/stock_E-I/FTV_1HOUR_jbiyhc_EST.pq      0.14511\n",
       "/data/first_rate/pq/stock_A-D/BHF_1HOUR_h1ik54_EST.pq      0.14499\n",
       "/data/first_rate/pq/stock_A-D/CMS_1HOUR_uqqyte_EST.pq     0.144736\n",
       "/data/first_rate/pq/stock_J-N/LW_1HOUR_7c18ee_EST.pq      0.144294\n",
       "/data/first_rate/pq/stock_S-Z/UA_1HOUR_5jvoaq_EST.pq       0.14427\n",
       "/data/first_rate/pq/stock_S-Z/XEL_1HOUR_05pjdp_EST.pq     0.144165\n",
       "/data/first_rate/pq/stock_O-R/PEP_1HOUR_20b50w_EST.pq     0.144129\n",
       "/data/first_rate/pq/stock_O-R/PFG_1HOUR_jlaheu_EST.pq     0.144119\n",
       "/data/first_rate/pq/stock_A-D/DWDP_1HOUR_fm6vjn_EST.pq    0.144024\n",
       "/data/first_rate/pq/stock_S-Z/WRK_1HOUR_7yizls_EST.pq     0.143946\n",
       "/data/first_rate/pq/stock_A-D/BHGE_1HOUR_81zaik_EST.pq    0.143893\n",
       "/data/first_rate/pq/stock_S-Z/WELL_1HOUR_0ol02q_EST.pq    0.143809\n",
       "/data/first_rate/pq/stock_E-I/FANG_1HOUR_j9zmap_EST.pq    0.143788\n",
       "/data/first_rate/pq/stock_E-I/FB_1HOUR_5nzke0_EST.pq      0.143768\n",
       "/data/first_rate/pq/stock_S-Z/VRTX_1HOUR_i3i0m7_EST.pq    0.143752\n",
       "/data/first_rate/pq/stock_J-N/NKTR_1HOUR_7lt3xo_EST.pq    0.143735\n",
       "/data/first_rate/pq/stock_S-Z/TXN_1HOUR_wzk0xe_EST.pq     0.143731\n",
       "/data/first_rate/pq/stock_O-R/REGN_1HOUR_4bxt2j_EST.pq     0.14373\n",
       "dtype: object"
      ]
     },
     "execution_count": 31,
     "metadata": {},
     "output_type": "execute_result"
    }
   ],
   "source": [
    "top_missing_pct.head(20)"
   ]
  },
  {
   "cell_type": "code",
   "execution_count": 34,
   "metadata": {
    "ExecuteTime": {
     "end_time": "2019-09-28T22:53:08.696157Z",
     "start_time": "2019-09-28T22:53:08.662509Z"
    }
   },
   "outputs": [
    {
     "data": {
      "text/html": [
       "<div>\n",
       "<style scoped>\n",
       "    .dataframe tbody tr th:only-of-type {\n",
       "        vertical-align: middle;\n",
       "    }\n",
       "\n",
       "    .dataframe tbody tr th {\n",
       "        vertical-align: top;\n",
       "    }\n",
       "\n",
       "    .dataframe thead th {\n",
       "        text-align: right;\n",
       "    }\n",
       "</style>\n",
       "<table border=\"1\" class=\"dataframe\">\n",
       "  <thead>\n",
       "    <tr style=\"text-align: right;\">\n",
       "      <th></th>\n",
       "      <th>start_date</th>\n",
       "      <th>end_date</th>\n",
       "      <th>n_missing_market_days</th>\n",
       "      <th>n_rows</th>\n",
       "      <th>missing_timestamp_col</th>\n",
       "      <th>price_col_bug</th>\n",
       "    </tr>\n",
       "    <tr>\n",
       "      <th>file_name</th>\n",
       "      <th></th>\n",
       "      <th></th>\n",
       "      <th></th>\n",
       "      <th></th>\n",
       "      <th></th>\n",
       "      <th></th>\n",
       "    </tr>\n",
       "  </thead>\n",
       "  <tbody>\n",
       "    <tr>\n",
       "      <td>/data/first_rate/pq/stock_S-Z/UAL_1HOUR_jbj8rc_EST.pq</td>\n",
       "      <td>2006-02-02 14:30:00+00:00</td>\n",
       "      <td>2018-12-31 20:00:00+00:00</td>\n",
       "      <td>3253</td>\n",
       "      <td>8734</td>\n",
       "      <td>False</td>\n",
       "      <td>False</td>\n",
       "    </tr>\n",
       "    <tr>\n",
       "      <td>/data/first_rate/pq/stock_E-I/EVRG_1HOUR_ym14t0_EST.pq</td>\n",
       "      <td>2018-06-05 13:30:00+00:00</td>\n",
       "      <td>2018-12-31 20:00:00+00:00</td>\n",
       "      <td>146</td>\n",
       "      <td>1006</td>\n",
       "      <td>False</td>\n",
       "      <td>False</td>\n",
       "    </tr>\n",
       "    <tr>\n",
       "      <td>/data/first_rate/pq/stock_E-I/FTV_1HOUR_jbiyhc_EST.pq</td>\n",
       "      <td>2016-06-13 15:00:00+00:00</td>\n",
       "      <td>2018-12-31 20:00:00+00:00</td>\n",
       "      <td>644</td>\n",
       "      <td>4438</td>\n",
       "      <td>False</td>\n",
       "      <td>False</td>\n",
       "    </tr>\n",
       "    <tr>\n",
       "      <td>/data/first_rate/pq/stock_A-D/BHF_1HOUR_h1ik54_EST.pq</td>\n",
       "      <td>2017-07-17 13:30:00+00:00</td>\n",
       "      <td>2018-12-31 20:00:00+00:00</td>\n",
       "      <td>369</td>\n",
       "      <td>2545</td>\n",
       "      <td>False</td>\n",
       "      <td>False</td>\n",
       "    </tr>\n",
       "    <tr>\n",
       "      <td>/data/first_rate/pq/stock_A-D/CMS_1HOUR_uqqyte_EST.pq</td>\n",
       "      <td>2004-01-23 14:30:00+00:00</td>\n",
       "      <td>2018-12-31 20:00:00+00:00</td>\n",
       "      <td>3764</td>\n",
       "      <td>26006</td>\n",
       "      <td>False</td>\n",
       "      <td>False</td>\n",
       "    </tr>\n",
       "    <tr>\n",
       "      <td>/data/first_rate/pq/stock_J-N/LW_1HOUR_7c18ee_EST.pq</td>\n",
       "      <td>2016-11-01 18:00:00+00:00</td>\n",
       "      <td>2018-12-31 20:00:00+00:00</td>\n",
       "      <td>545</td>\n",
       "      <td>3777</td>\n",
       "      <td>False</td>\n",
       "      <td>False</td>\n",
       "    </tr>\n",
       "    <tr>\n",
       "      <td>/data/first_rate/pq/stock_S-Z/UA_1HOUR_5jvoaq_EST.pq</td>\n",
       "      <td>2016-03-23 13:30:00+00:00</td>\n",
       "      <td>2018-12-31 20:00:00+00:00</td>\n",
       "      <td>700</td>\n",
       "      <td>4852</td>\n",
       "      <td>False</td>\n",
       "      <td>False</td>\n",
       "    </tr>\n",
       "    <tr>\n",
       "      <td>/data/first_rate/pq/stock_S-Z/XEL_1HOUR_05pjdp_EST.pq</td>\n",
       "      <td>2018-01-02 14:30:00+00:00</td>\n",
       "      <td>2018-12-31 20:00:00+00:00</td>\n",
       "      <td>252</td>\n",
       "      <td>1748</td>\n",
       "      <td>False</td>\n",
       "      <td>False</td>\n",
       "    </tr>\n",
       "    <tr>\n",
       "      <td>/data/first_rate/pq/stock_O-R/PEP_1HOUR_20b50w_EST.pq</td>\n",
       "      <td>2017-12-20 14:30:00+00:00</td>\n",
       "      <td>2018-12-31 20:00:00+00:00</td>\n",
       "      <td>259</td>\n",
       "      <td>1797</td>\n",
       "      <td>False</td>\n",
       "      <td>False</td>\n",
       "    </tr>\n",
       "    <tr>\n",
       "      <td>/data/first_rate/pq/stock_O-R/PFG_1HOUR_jlaheu_EST.pq</td>\n",
       "      <td>2017-12-18 14:30:00+00:00</td>\n",
       "      <td>2018-12-31 20:00:00+00:00</td>\n",
       "      <td>261</td>\n",
       "      <td>1811</td>\n",
       "      <td>False</td>\n",
       "      <td>False</td>\n",
       "    </tr>\n",
       "    <tr>\n",
       "      <td>/data/first_rate/pq/stock_A-D/DWDP_1HOUR_fm6vjn_EST.pq</td>\n",
       "      <td>2017-09-01 13:30:00+00:00</td>\n",
       "      <td>2018-12-31 20:00:00+00:00</td>\n",
       "      <td>335</td>\n",
       "      <td>2326</td>\n",
       "      <td>False</td>\n",
       "      <td>False</td>\n",
       "    </tr>\n",
       "    <tr>\n",
       "      <td>/data/first_rate/pq/stock_S-Z/WRK_1HOUR_7yizls_EST.pq</td>\n",
       "      <td>2015-06-24 16:00:00+00:00</td>\n",
       "      <td>2018-12-31 20:00:00+00:00</td>\n",
       "      <td>888</td>\n",
       "      <td>6169</td>\n",
       "      <td>False</td>\n",
       "      <td>False</td>\n",
       "    </tr>\n",
       "    <tr>\n",
       "      <td>/data/first_rate/pq/stock_A-D/BHGE_1HOUR_81zaik_EST.pq</td>\n",
       "      <td>2017-07-05 13:30:00+00:00</td>\n",
       "      <td>2018-12-31 20:00:00+00:00</td>\n",
       "      <td>377</td>\n",
       "      <td>2620</td>\n",
       "      <td>False</td>\n",
       "      <td>False</td>\n",
       "    </tr>\n",
       "    <tr>\n",
       "      <td>/data/first_rate/pq/stock_S-Z/WELL_1HOUR_0ol02q_EST.pq</td>\n",
       "      <td>2015-09-30 13:30:00+00:00</td>\n",
       "      <td>2018-12-31 20:00:00+00:00</td>\n",
       "      <td>820</td>\n",
       "      <td>5702</td>\n",
       "      <td>False</td>\n",
       "      <td>False</td>\n",
       "    </tr>\n",
       "    <tr>\n",
       "      <td>/data/first_rate/pq/stock_E-I/FANG_1HOUR_j9zmap_EST.pq</td>\n",
       "      <td>2012-10-12 14:00:00+00:00</td>\n",
       "      <td>2018-12-31 20:00:00+00:00</td>\n",
       "      <td>1566</td>\n",
       "      <td>10891</td>\n",
       "      <td>False</td>\n",
       "      <td>False</td>\n",
       "    </tr>\n",
       "    <tr>\n",
       "      <td>/data/first_rate/pq/stock_E-I/FB_1HOUR_5nzke0_EST.pq</td>\n",
       "      <td>2012-05-18 15:00:00+00:00</td>\n",
       "      <td>2018-12-31 20:00:00+00:00</td>\n",
       "      <td>1668</td>\n",
       "      <td>11602</td>\n",
       "      <td>False</td>\n",
       "      <td>False</td>\n",
       "    </tr>\n",
       "    <tr>\n",
       "      <td>/data/first_rate/pq/stock_S-Z/VRTX_1HOUR_i3i0m7_EST.pq</td>\n",
       "      <td>2004-01-23 14:30:00+00:00</td>\n",
       "      <td>2018-12-31 20:00:00+00:00</td>\n",
       "      <td>3764</td>\n",
       "      <td>26184</td>\n",
       "      <td>False</td>\n",
       "      <td>False</td>\n",
       "    </tr>\n",
       "    <tr>\n",
       "      <td>/data/first_rate/pq/stock_J-N/NKTR_1HOUR_7lt3xo_EST.pq</td>\n",
       "      <td>2004-01-23 14:30:00+00:00</td>\n",
       "      <td>2018-12-31 20:00:00+00:00</td>\n",
       "      <td>3764</td>\n",
       "      <td>26187</td>\n",
       "      <td>False</td>\n",
       "      <td>False</td>\n",
       "    </tr>\n",
       "    <tr>\n",
       "      <td>/data/first_rate/pq/stock_S-Z/TXN_1HOUR_wzk0xe_EST.pq</td>\n",
       "      <td>2012-01-03 14:30:00+00:00</td>\n",
       "      <td>2018-12-31 20:00:00+00:00</td>\n",
       "      <td>1763</td>\n",
       "      <td>12266</td>\n",
       "      <td>False</td>\n",
       "      <td>False</td>\n",
       "    </tr>\n",
       "    <tr>\n",
       "      <td>/data/first_rate/pq/stock_O-R/REGN_1HOUR_4bxt2j_EST.pq</td>\n",
       "      <td>2004-01-23 14:30:00+00:00</td>\n",
       "      <td>2018-12-31 20:00:00+00:00</td>\n",
       "      <td>3764</td>\n",
       "      <td>26188</td>\n",
       "      <td>False</td>\n",
       "      <td>False</td>\n",
       "    </tr>\n",
       "  </tbody>\n",
       "</table>\n",
       "</div>"
      ],
      "text/plain": [
       "                                                                   start_date  \\\n",
       "file_name                                                                       \n",
       "/data/first_rate/pq/stock_S-Z/UAL_1HOUR_jbj8rc_...  2006-02-02 14:30:00+00:00   \n",
       "/data/first_rate/pq/stock_E-I/EVRG_1HOUR_ym14t0...  2018-06-05 13:30:00+00:00   \n",
       "/data/first_rate/pq/stock_E-I/FTV_1HOUR_jbiyhc_...  2016-06-13 15:00:00+00:00   \n",
       "/data/first_rate/pq/stock_A-D/BHF_1HOUR_h1ik54_...  2017-07-17 13:30:00+00:00   \n",
       "/data/first_rate/pq/stock_A-D/CMS_1HOUR_uqqyte_...  2004-01-23 14:30:00+00:00   \n",
       "/data/first_rate/pq/stock_J-N/LW_1HOUR_7c18ee_E...  2016-11-01 18:00:00+00:00   \n",
       "/data/first_rate/pq/stock_S-Z/UA_1HOUR_5jvoaq_E...  2016-03-23 13:30:00+00:00   \n",
       "/data/first_rate/pq/stock_S-Z/XEL_1HOUR_05pjdp_...  2018-01-02 14:30:00+00:00   \n",
       "/data/first_rate/pq/stock_O-R/PEP_1HOUR_20b50w_...  2017-12-20 14:30:00+00:00   \n",
       "/data/first_rate/pq/stock_O-R/PFG_1HOUR_jlaheu_...  2017-12-18 14:30:00+00:00   \n",
       "/data/first_rate/pq/stock_A-D/DWDP_1HOUR_fm6vjn...  2017-09-01 13:30:00+00:00   \n",
       "/data/first_rate/pq/stock_S-Z/WRK_1HOUR_7yizls_...  2015-06-24 16:00:00+00:00   \n",
       "/data/first_rate/pq/stock_A-D/BHGE_1HOUR_81zaik...  2017-07-05 13:30:00+00:00   \n",
       "/data/first_rate/pq/stock_S-Z/WELL_1HOUR_0ol02q...  2015-09-30 13:30:00+00:00   \n",
       "/data/first_rate/pq/stock_E-I/FANG_1HOUR_j9zmap...  2012-10-12 14:00:00+00:00   \n",
       "/data/first_rate/pq/stock_E-I/FB_1HOUR_5nzke0_E...  2012-05-18 15:00:00+00:00   \n",
       "/data/first_rate/pq/stock_S-Z/VRTX_1HOUR_i3i0m7...  2004-01-23 14:30:00+00:00   \n",
       "/data/first_rate/pq/stock_J-N/NKTR_1HOUR_7lt3xo...  2004-01-23 14:30:00+00:00   \n",
       "/data/first_rate/pq/stock_S-Z/TXN_1HOUR_wzk0xe_...  2012-01-03 14:30:00+00:00   \n",
       "/data/first_rate/pq/stock_O-R/REGN_1HOUR_4bxt2j...  2004-01-23 14:30:00+00:00   \n",
       "\n",
       "                                                                     end_date  \\\n",
       "file_name                                                                       \n",
       "/data/first_rate/pq/stock_S-Z/UAL_1HOUR_jbj8rc_...  2018-12-31 20:00:00+00:00   \n",
       "/data/first_rate/pq/stock_E-I/EVRG_1HOUR_ym14t0...  2018-12-31 20:00:00+00:00   \n",
       "/data/first_rate/pq/stock_E-I/FTV_1HOUR_jbiyhc_...  2018-12-31 20:00:00+00:00   \n",
       "/data/first_rate/pq/stock_A-D/BHF_1HOUR_h1ik54_...  2018-12-31 20:00:00+00:00   \n",
       "/data/first_rate/pq/stock_A-D/CMS_1HOUR_uqqyte_...  2018-12-31 20:00:00+00:00   \n",
       "/data/first_rate/pq/stock_J-N/LW_1HOUR_7c18ee_E...  2018-12-31 20:00:00+00:00   \n",
       "/data/first_rate/pq/stock_S-Z/UA_1HOUR_5jvoaq_E...  2018-12-31 20:00:00+00:00   \n",
       "/data/first_rate/pq/stock_S-Z/XEL_1HOUR_05pjdp_...  2018-12-31 20:00:00+00:00   \n",
       "/data/first_rate/pq/stock_O-R/PEP_1HOUR_20b50w_...  2018-12-31 20:00:00+00:00   \n",
       "/data/first_rate/pq/stock_O-R/PFG_1HOUR_jlaheu_...  2018-12-31 20:00:00+00:00   \n",
       "/data/first_rate/pq/stock_A-D/DWDP_1HOUR_fm6vjn...  2018-12-31 20:00:00+00:00   \n",
       "/data/first_rate/pq/stock_S-Z/WRK_1HOUR_7yizls_...  2018-12-31 20:00:00+00:00   \n",
       "/data/first_rate/pq/stock_A-D/BHGE_1HOUR_81zaik...  2018-12-31 20:00:00+00:00   \n",
       "/data/first_rate/pq/stock_S-Z/WELL_1HOUR_0ol02q...  2018-12-31 20:00:00+00:00   \n",
       "/data/first_rate/pq/stock_E-I/FANG_1HOUR_j9zmap...  2018-12-31 20:00:00+00:00   \n",
       "/data/first_rate/pq/stock_E-I/FB_1HOUR_5nzke0_E...  2018-12-31 20:00:00+00:00   \n",
       "/data/first_rate/pq/stock_S-Z/VRTX_1HOUR_i3i0m7...  2018-12-31 20:00:00+00:00   \n",
       "/data/first_rate/pq/stock_J-N/NKTR_1HOUR_7lt3xo...  2018-12-31 20:00:00+00:00   \n",
       "/data/first_rate/pq/stock_S-Z/TXN_1HOUR_wzk0xe_...  2018-12-31 20:00:00+00:00   \n",
       "/data/first_rate/pq/stock_O-R/REGN_1HOUR_4bxt2j...  2018-12-31 20:00:00+00:00   \n",
       "\n",
       "                                                   n_missing_market_days  \\\n",
       "file_name                                                                  \n",
       "/data/first_rate/pq/stock_S-Z/UAL_1HOUR_jbj8rc_...                  3253   \n",
       "/data/first_rate/pq/stock_E-I/EVRG_1HOUR_ym14t0...                   146   \n",
       "/data/first_rate/pq/stock_E-I/FTV_1HOUR_jbiyhc_...                   644   \n",
       "/data/first_rate/pq/stock_A-D/BHF_1HOUR_h1ik54_...                   369   \n",
       "/data/first_rate/pq/stock_A-D/CMS_1HOUR_uqqyte_...                  3764   \n",
       "/data/first_rate/pq/stock_J-N/LW_1HOUR_7c18ee_E...                   545   \n",
       "/data/first_rate/pq/stock_S-Z/UA_1HOUR_5jvoaq_E...                   700   \n",
       "/data/first_rate/pq/stock_S-Z/XEL_1HOUR_05pjdp_...                   252   \n",
       "/data/first_rate/pq/stock_O-R/PEP_1HOUR_20b50w_...                   259   \n",
       "/data/first_rate/pq/stock_O-R/PFG_1HOUR_jlaheu_...                   261   \n",
       "/data/first_rate/pq/stock_A-D/DWDP_1HOUR_fm6vjn...                   335   \n",
       "/data/first_rate/pq/stock_S-Z/WRK_1HOUR_7yizls_...                   888   \n",
       "/data/first_rate/pq/stock_A-D/BHGE_1HOUR_81zaik...                   377   \n",
       "/data/first_rate/pq/stock_S-Z/WELL_1HOUR_0ol02q...                   820   \n",
       "/data/first_rate/pq/stock_E-I/FANG_1HOUR_j9zmap...                  1566   \n",
       "/data/first_rate/pq/stock_E-I/FB_1HOUR_5nzke0_E...                  1668   \n",
       "/data/first_rate/pq/stock_S-Z/VRTX_1HOUR_i3i0m7...                  3764   \n",
       "/data/first_rate/pq/stock_J-N/NKTR_1HOUR_7lt3xo...                  3764   \n",
       "/data/first_rate/pq/stock_S-Z/TXN_1HOUR_wzk0xe_...                  1763   \n",
       "/data/first_rate/pq/stock_O-R/REGN_1HOUR_4bxt2j...                  3764   \n",
       "\n",
       "                                                   n_rows  \\\n",
       "file_name                                                   \n",
       "/data/first_rate/pq/stock_S-Z/UAL_1HOUR_jbj8rc_...   8734   \n",
       "/data/first_rate/pq/stock_E-I/EVRG_1HOUR_ym14t0...   1006   \n",
       "/data/first_rate/pq/stock_E-I/FTV_1HOUR_jbiyhc_...   4438   \n",
       "/data/first_rate/pq/stock_A-D/BHF_1HOUR_h1ik54_...   2545   \n",
       "/data/first_rate/pq/stock_A-D/CMS_1HOUR_uqqyte_...  26006   \n",
       "/data/first_rate/pq/stock_J-N/LW_1HOUR_7c18ee_E...   3777   \n",
       "/data/first_rate/pq/stock_S-Z/UA_1HOUR_5jvoaq_E...   4852   \n",
       "/data/first_rate/pq/stock_S-Z/XEL_1HOUR_05pjdp_...   1748   \n",
       "/data/first_rate/pq/stock_O-R/PEP_1HOUR_20b50w_...   1797   \n",
       "/data/first_rate/pq/stock_O-R/PFG_1HOUR_jlaheu_...   1811   \n",
       "/data/first_rate/pq/stock_A-D/DWDP_1HOUR_fm6vjn...   2326   \n",
       "/data/first_rate/pq/stock_S-Z/WRK_1HOUR_7yizls_...   6169   \n",
       "/data/first_rate/pq/stock_A-D/BHGE_1HOUR_81zaik...   2620   \n",
       "/data/first_rate/pq/stock_S-Z/WELL_1HOUR_0ol02q...   5702   \n",
       "/data/first_rate/pq/stock_E-I/FANG_1HOUR_j9zmap...  10891   \n",
       "/data/first_rate/pq/stock_E-I/FB_1HOUR_5nzke0_E...  11602   \n",
       "/data/first_rate/pq/stock_S-Z/VRTX_1HOUR_i3i0m7...  26184   \n",
       "/data/first_rate/pq/stock_J-N/NKTR_1HOUR_7lt3xo...  26187   \n",
       "/data/first_rate/pq/stock_S-Z/TXN_1HOUR_wzk0xe_...  12266   \n",
       "/data/first_rate/pq/stock_O-R/REGN_1HOUR_4bxt2j...  26188   \n",
       "\n",
       "                                                   missing_timestamp_col  \\\n",
       "file_name                                                                  \n",
       "/data/first_rate/pq/stock_S-Z/UAL_1HOUR_jbj8rc_...                 False   \n",
       "/data/first_rate/pq/stock_E-I/EVRG_1HOUR_ym14t0...                 False   \n",
       "/data/first_rate/pq/stock_E-I/FTV_1HOUR_jbiyhc_...                 False   \n",
       "/data/first_rate/pq/stock_A-D/BHF_1HOUR_h1ik54_...                 False   \n",
       "/data/first_rate/pq/stock_A-D/CMS_1HOUR_uqqyte_...                 False   \n",
       "/data/first_rate/pq/stock_J-N/LW_1HOUR_7c18ee_E...                 False   \n",
       "/data/first_rate/pq/stock_S-Z/UA_1HOUR_5jvoaq_E...                 False   \n",
       "/data/first_rate/pq/stock_S-Z/XEL_1HOUR_05pjdp_...                 False   \n",
       "/data/first_rate/pq/stock_O-R/PEP_1HOUR_20b50w_...                 False   \n",
       "/data/first_rate/pq/stock_O-R/PFG_1HOUR_jlaheu_...                 False   \n",
       "/data/first_rate/pq/stock_A-D/DWDP_1HOUR_fm6vjn...                 False   \n",
       "/data/first_rate/pq/stock_S-Z/WRK_1HOUR_7yizls_...                 False   \n",
       "/data/first_rate/pq/stock_A-D/BHGE_1HOUR_81zaik...                 False   \n",
       "/data/first_rate/pq/stock_S-Z/WELL_1HOUR_0ol02q...                 False   \n",
       "/data/first_rate/pq/stock_E-I/FANG_1HOUR_j9zmap...                 False   \n",
       "/data/first_rate/pq/stock_E-I/FB_1HOUR_5nzke0_E...                 False   \n",
       "/data/first_rate/pq/stock_S-Z/VRTX_1HOUR_i3i0m7...                 False   \n",
       "/data/first_rate/pq/stock_J-N/NKTR_1HOUR_7lt3xo...                 False   \n",
       "/data/first_rate/pq/stock_S-Z/TXN_1HOUR_wzk0xe_...                 False   \n",
       "/data/first_rate/pq/stock_O-R/REGN_1HOUR_4bxt2j...                 False   \n",
       "\n",
       "                                                   price_col_bug  \n",
       "file_name                                                         \n",
       "/data/first_rate/pq/stock_S-Z/UAL_1HOUR_jbj8rc_...         False  \n",
       "/data/first_rate/pq/stock_E-I/EVRG_1HOUR_ym14t0...         False  \n",
       "/data/first_rate/pq/stock_E-I/FTV_1HOUR_jbiyhc_...         False  \n",
       "/data/first_rate/pq/stock_A-D/BHF_1HOUR_h1ik54_...         False  \n",
       "/data/first_rate/pq/stock_A-D/CMS_1HOUR_uqqyte_...         False  \n",
       "/data/first_rate/pq/stock_J-N/LW_1HOUR_7c18ee_E...         False  \n",
       "/data/first_rate/pq/stock_S-Z/UA_1HOUR_5jvoaq_E...         False  \n",
       "/data/first_rate/pq/stock_S-Z/XEL_1HOUR_05pjdp_...         False  \n",
       "/data/first_rate/pq/stock_O-R/PEP_1HOUR_20b50w_...         False  \n",
       "/data/first_rate/pq/stock_O-R/PFG_1HOUR_jlaheu_...         False  \n",
       "/data/first_rate/pq/stock_A-D/DWDP_1HOUR_fm6vjn...         False  \n",
       "/data/first_rate/pq/stock_S-Z/WRK_1HOUR_7yizls_...         False  \n",
       "/data/first_rate/pq/stock_A-D/BHGE_1HOUR_81zaik...         False  \n",
       "/data/first_rate/pq/stock_S-Z/WELL_1HOUR_0ol02q...         False  \n",
       "/data/first_rate/pq/stock_E-I/FANG_1HOUR_j9zmap...         False  \n",
       "/data/first_rate/pq/stock_E-I/FB_1HOUR_5nzke0_E...         False  \n",
       "/data/first_rate/pq/stock_S-Z/VRTX_1HOUR_i3i0m7...         False  \n",
       "/data/first_rate/pq/stock_J-N/NKTR_1HOUR_7lt3xo...         False  \n",
       "/data/first_rate/pq/stock_S-Z/TXN_1HOUR_wzk0xe_...         False  \n",
       "/data/first_rate/pq/stock_O-R/REGN_1HOUR_4bxt2j...         False  "
      ]
     },
     "execution_count": 34,
     "metadata": {},
     "output_type": "execute_result"
    }
   ],
   "source": [
    "summary.loc[top_missing_pct.head(20).index]"
   ]
  },
  {
   "cell_type": "code",
   "execution_count": null,
   "metadata": {},
   "outputs": [],
   "source": []
  }
 ],
 "metadata": {
  "kernelspec": {
   "display_name": "Python [conda env:.conda-p1_develop] *",
   "language": "python",
   "name": "conda-env-.conda-p1_develop-py"
  },
  "language_info": {
   "codemirror_mode": {
    "name": "ipython",
    "version": 3
   },
   "file_extension": ".py",
   "mimetype": "text/x-python",
   "name": "python",
   "nbconvert_exporter": "python",
   "pygments_lexer": "ipython3",
   "version": "3.6.7"
  },
  "toc": {
   "base_numbering": 1,
   "nav_menu": {},
   "number_sections": true,
   "sideBar": true,
   "skip_h1_title": false,
   "title_cell": "Table of Contents",
   "title_sidebar": "Contents",
   "toc_cell": false,
   "toc_position": {},
   "toc_section_display": true,
   "toc_window_display": false
  }
 },
 "nbformat": 4,
 "nbformat_minor": 2
}
