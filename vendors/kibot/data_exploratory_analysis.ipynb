{
 "cells": [
  {
   "cell_type": "markdown",
   "metadata": {},
   "source": [
    "## Import"
   ]
  },
  {
   "cell_type": "code",
   "execution_count": null,
   "metadata": {},
   "outputs": [],
   "source": []
  },
  {
   "cell_type": "code",
   "execution_count": null,
   "metadata": {},
   "outputs": [],
   "source": [
    "%load_ext autoreload\n",
    "%autoreload 2\n",
    "import logging\n",
    "\n",
    "import pandas as pd\n",
    "import seaborn as sns\n",
    "\n",
    "import core.config as cfg\n",
    "import core.explore as exp\n",
    "import core.finance as fin\n",
    "import helpers.dbg as dbg\n",
    "import helpers.env as env\n",
    "import helpers.printing as pri\n",
    "import vendors.kibot.utils as kut"
   ]
  },
  {
   "cell_type": "code",
   "execution_count": null,
   "metadata": {},
   "outputs": [],
   "source": [
    "print(env.get_system_signature())\n",
    "\n",
    "pri.config_notebook()\n",
    "\n",
    "# dbg.init_logger(verb=logging.DEBUG)\n",
    "dbg.init_logger(verb=logging.INFO)\n",
    "# dbg.test_logger()\n",
    "\n",
    "_LOG = logging.getLogger(__name__)"
   ]
  },
  {
   "cell_type": "markdown",
   "metadata": {
    "ExecuteTime": {
     "end_time": "2019-07-21T14:38:14.637800Z",
     "start_time": "2019-07-21T14:38:14.620807Z"
    }
   },
   "source": [
    "# Metadata"
   ]
  },
  {
   "cell_type": "markdown",
   "metadata": {},
   "source": [
    "## Read misc metadata"
   ]
  },
  {
   "cell_type": "code",
   "execution_count": 3,
   "metadata": {
    "ExecuteTime": {
     "end_time": "2019-08-01T21:03:22.487185Z",
     "start_time": "2019-08-01T21:03:21.966653Z"
    }
   },
   "outputs": [
    {
     "data": {
      "text/html": [
       "<div>\n",
       "<style scoped>\n",
       "    .dataframe tbody tr th:only-of-type {\n",
       "        vertical-align: middle;\n",
       "    }\n",
       "\n",
       "    .dataframe tbody tr th {\n",
       "        vertical-align: top;\n",
       "    }\n",
       "\n",
       "    .dataframe thead th {\n",
       "        text-align: right;\n",
       "    }\n",
       "</style>\n",
       "<table border=\"1\" class=\"dataframe\">\n",
       "  <thead>\n",
       "    <tr style=\"text-align: right;\">\n",
       "      <th></th>\n",
       "      <th>Symbol</th>\n",
       "      <th>Link</th>\n",
       "      <th>Description</th>\n",
       "    </tr>\n",
       "  </thead>\n",
       "  <tbody>\n",
       "    <tr>\n",
       "      <th>1</th>\n",
       "      <td>JY</td>\n",
       "      <td>http://api.kibot.com/?action=download&amp;link=151...</td>\n",
       "      <td>CONTINUOUS JAPANESE YEN CONTRACT</td>\n",
       "    </tr>\n",
       "    <tr>\n",
       "      <th>2</th>\n",
       "      <td>JYF18</td>\n",
       "      <td>http://api.kibot.com/?action=download&amp;link=vrv...</td>\n",
       "      <td>JAPANESE YEN JANUARY 2018</td>\n",
       "    </tr>\n",
       "    <tr>\n",
       "      <th>3</th>\n",
       "      <td>JYF19</td>\n",
       "      <td>http://api.kibot.com/?action=download&amp;link=8r8...</td>\n",
       "      <td>JAPANESE YEN JANUARY 2019</td>\n",
       "    </tr>\n",
       "  </tbody>\n",
       "</table>\n",
       "</div>"
      ],
      "text/plain": [
       "  Symbol                                               Link                       Description\n",
       "1     JY  http://api.kibot.com/?action=download&link=151...  CONTINUOUS JAPANESE YEN CONTRACT\n",
       "2  JYF18  http://api.kibot.com/?action=download&link=vrv...         JAPANESE YEN JANUARY 2018\n",
       "3  JYF19  http://api.kibot.com/?action=download&link=8r8...         JAPANESE YEN JANUARY 2019"
      ]
     },
     "execution_count": 3,
     "metadata": {},
     "output_type": "execute_result"
    }
   ],
   "source": [
    "df1 = kut.read_metadata1()\n",
    "df1.head(3)"
   ]
  },
  {
   "cell_type": "code",
   "execution_count": 4,
   "metadata": {
    "ExecuteTime": {
     "end_time": "2019-08-01T21:03:22.639022Z",
     "start_time": "2019-08-01T21:03:22.489063Z"
    }
   },
   "outputs": [
    {
     "data": {
      "text/html": [
       "<div>\n",
       "<style scoped>\n",
       "    .dataframe tbody tr th:only-of-type {\n",
       "        vertical-align: middle;\n",
       "    }\n",
       "\n",
       "    .dataframe tbody tr th {\n",
       "        vertical-align: top;\n",
       "    }\n",
       "\n",
       "    .dataframe thead th {\n",
       "        text-align: right;\n",
       "    }\n",
       "</style>\n",
       "<table border=\"1\" class=\"dataframe\">\n",
       "  <thead>\n",
       "    <tr style=\"text-align: right;\">\n",
       "      <th></th>\n",
       "      <th>Symbol</th>\n",
       "      <th>Link</th>\n",
       "      <th>Description</th>\n",
       "    </tr>\n",
       "  </thead>\n",
       "  <tbody>\n",
       "    <tr>\n",
       "      <th>1</th>\n",
       "      <td>JY</td>\n",
       "      <td>http://api.kibot.com/?action=download&amp;link=151...</td>\n",
       "      <td>CONTINUOUS JAPANESE YEN CONTRACT</td>\n",
       "    </tr>\n",
       "    <tr>\n",
       "      <th>2</th>\n",
       "      <td>JYF18</td>\n",
       "      <td>http://api.kibot.com/?action=download&amp;link=vrv...</td>\n",
       "      <td>JAPANESE YEN JANUARY 2018</td>\n",
       "    </tr>\n",
       "    <tr>\n",
       "      <th>3</th>\n",
       "      <td>JYF19</td>\n",
       "      <td>http://api.kibot.com/?action=download&amp;link=8r8...</td>\n",
       "      <td>JAPANESE YEN JANUARY 2019</td>\n",
       "    </tr>\n",
       "  </tbody>\n",
       "</table>\n",
       "</div>"
      ],
      "text/plain": [
       "  Symbol                                               Link                       Description\n",
       "1     JY  http://api.kibot.com/?action=download&link=151...  CONTINUOUS JAPANESE YEN CONTRACT\n",
       "2  JYF18  http://api.kibot.com/?action=download&link=vrv...         JAPANESE YEN JANUARY 2018\n",
       "3  JYF19  http://api.kibot.com/?action=download&link=8r8...         JAPANESE YEN JANUARY 2019"
      ]
     },
     "execution_count": 4,
     "metadata": {},
     "output_type": "execute_result"
    }
   ],
   "source": [
    "df2 = kut.read_metadata2()\n",
    "df2.head(3)"
   ]
  },
  {
   "cell_type": "code",
   "execution_count": 5,
   "metadata": {
    "ExecuteTime": {
     "end_time": "2019-08-01T21:03:22.702121Z",
     "start_time": "2019-08-01T21:03:22.640706Z"
    }
   },
   "outputs": [
    {
     "data": {
      "text/html": [
       "<div>\n",
       "<style scoped>\n",
       "    .dataframe tbody tr th:only-of-type {\n",
       "        vertical-align: middle;\n",
       "    }\n",
       "\n",
       "    .dataframe tbody tr th {\n",
       "        vertical-align: top;\n",
       "    }\n",
       "\n",
       "    .dataframe thead th {\n",
       "        text-align: right;\n",
       "    }\n",
       "</style>\n",
       "<table border=\"1\" class=\"dataframe\">\n",
       "  <thead>\n",
       "    <tr style=\"text-align: right;\">\n",
       "      <th></th>\n",
       "      <th>SymbolBase</th>\n",
       "      <th>Symbol</th>\n",
       "      <th>StartDate</th>\n",
       "      <th>Size(MB)</th>\n",
       "      <th>Description</th>\n",
       "      <th>Exchange</th>\n",
       "    </tr>\n",
       "  </thead>\n",
       "  <tbody>\n",
       "    <tr>\n",
       "      <th>1</th>\n",
       "      <td>ES</td>\n",
       "      <td>ES</td>\n",
       "      <td>9/30/2009</td>\n",
       "      <td>50610.0</td>\n",
       "      <td>CONTINUOUS E-MINI S&amp;P 500 CONTRACT</td>\n",
       "      <td>Chicago Mercantile Exchange Mini Sized Contrac...</td>\n",
       "    </tr>\n",
       "    <tr>\n",
       "      <th>2</th>\n",
       "      <td>ES</td>\n",
       "      <td>ESH11</td>\n",
       "      <td>4/6/2010</td>\n",
       "      <td>891.0</td>\n",
       "      <td>E-MINI S&amp;P 500 MARCH 2011</td>\n",
       "      <td>Chicago Mercantile Exchange Mini Sized Contrac...</td>\n",
       "    </tr>\n",
       "    <tr>\n",
       "      <th>3</th>\n",
       "      <td>ES</td>\n",
       "      <td>ESH12</td>\n",
       "      <td>3/6/2011</td>\n",
       "      <td>1060.0</td>\n",
       "      <td>E-MINI S&amp;P 500 MARCH 2012</td>\n",
       "      <td>Chicago Mercantile Exchange Mini Sized Contrac...</td>\n",
       "    </tr>\n",
       "  </tbody>\n",
       "</table>\n",
       "</div>"
      ],
      "text/plain": [
       "  SymbolBase Symbol  StartDate  Size(MB)                         Description                                           Exchange\n",
       "1         ES     ES  9/30/2009   50610.0  CONTINUOUS E-MINI S&P 500 CONTRACT  Chicago Mercantile Exchange Mini Sized Contrac...\n",
       "2         ES  ESH11   4/6/2010     891.0           E-MINI S&P 500 MARCH 2011  Chicago Mercantile Exchange Mini Sized Contrac...\n",
       "3         ES  ESH12   3/6/2011    1060.0           E-MINI S&P 500 MARCH 2012  Chicago Mercantile Exchange Mini Sized Contrac..."
      ]
     },
     "execution_count": 5,
     "metadata": {},
     "output_type": "execute_result"
    }
   ],
   "source": [
    "df3 = kut.read_metadata3()\n",
    "df3.head(3)"
   ]
  },
  {
   "cell_type": "code",
   "execution_count": 6,
   "metadata": {
    "ExecuteTime": {
     "end_time": "2019-08-01T21:03:22.746941Z",
     "start_time": "2019-08-01T21:03:22.703742Z"
    }
   },
   "outputs": [
    {
     "name": "stdout",
     "output_type": "stream",
     "text": [
      "  SymbolBase Symbol  StartDate  Size(MB)                                 Description                                  Exchange\n",
      "1         JY     JY  9/27/2009     183.0            CONTINUOUS JAPANESE YEN CONTRACT  Chicago Mercantile Exchange (CME GLOBEX)\n",
      "2         TY     TY  9/27/2009     180.0  CONTINUOUS 10 YR US TREASURY NOTE CONTRACT      Chicago Board Of Trade (CBOT GLOBEX)\n",
      "3         FV     FV  9/27/2009     171.0   CONTINUOUS 5 YR US TREASURY NOTE CONTRACT      Chicago Board Of Trade (CBOT GLOBEX)\n",
      "['Chicago Mercantile Exchange (CME GLOBEX)'\n",
      " 'Chicago Board Of Trade (CBOT GLOBEX)'\n",
      " 'Chicago Mercantile Exchange Mini Sized Contracts (CME MINI)'\n",
      " 'Commodities Exchange Center (COMEX GLOBEX)'\n",
      " 'New York Mercantile Exchange (NYMEX GLOBEX)'\n",
      " 'Chicago Board Of Trade Mini Sized Contracts (CBOT MINI)'\n",
      " 'New York Mercantile Exchange Mini Sized Contracts'\n",
      " 'CBOE Futures Exchange (CFE)']\n"
     ]
    }
   ],
   "source": [
    "df4 = kut.read_metadata4()\n",
    "print(df4.head(3))\n",
    "\n",
    "print(df4[\"Exchange\"].unique())"
   ]
  },
  {
   "cell_type": "markdown",
   "metadata": {},
   "source": [
    "## Explore metadata"
   ]
  },
  {
   "cell_type": "code",
   "execution_count": 7,
   "metadata": {
    "ExecuteTime": {
     "end_time": "2019-08-01T21:03:22.790424Z",
     "start_time": "2019-08-01T21:03:22.749300Z"
    },
    "scrolled": true
   },
   "outputs": [
    {
     "name": "stdout",
     "output_type": "stream",
     "text": [
      "7\n",
      "   Symbol  StartDate                                   Description                                           Exchange\n",
      "10     CL  9/27/2009                 CONTINUOUS CRUDE OIL CONTRACT        New York Mercantile Exchange (NYMEX GLOBEX)\n",
      "20     NG  9/27/2009               CONTINUOUS NATURAL GAS CONTRACT        New York Mercantile Exchange (NYMEX GLOBEX)\n",
      "24     QM  9/27/2009          CONTINUOUS E-MINI CRUDE OIL CONTRACT  New York Mercantile Exchange Mini Sized Contracts\n",
      "29     RB  9/27/2009             CONTINUOUS RBOB GASOLINE CONTRACT        New York Mercantile Exchange (NYMEX GLOBEX)\n",
      "35     BO  9/27/2009               CONTINUOUS SOYBEAN OIL CONTRACT               Chicago Board Of Trade (CBOT GLOBEX)\n",
      "43     BZ  9/28/2009  CONTINUOUS BRENT CRUDE OIL LAST DAY CONTRACT        New York Mercantile Exchange (NYMEX GLOBEX)\n",
      "49     QG  9/27/2009        CONTINUOUS E-MINI NATURAL GAS CONTRACT  New York Mercantile Exchange Mini Sized Contracts\n"
     ]
    }
   ],
   "source": [
    "mask = [\"GAS\" in d or \"OIL\" in d for d in df4[\"Description\"]]\n",
    "print(sum(mask))\n",
    "print(df4[mask].drop([\"SymbolBase\", \"Size(MB)\"], axis=1))"
   ]
  },
  {
   "cell_type": "markdown",
   "metadata": {},
   "source": [
    "# Price data"
   ]
  },
  {
   "cell_type": "markdown",
   "metadata": {},
   "source": [
    "## Read continuous daily prices for single futures"
   ]
  },
  {
   "cell_type": "code",
   "execution_count": 8,
   "metadata": {
    "ExecuteTime": {
     "end_time": "2019-08-01T21:03:22.847980Z",
     "start_time": "2019-08-01T21:03:22.791883Z"
    }
   },
   "outputs": [
    {
     "name": "stdout",
     "output_type": "stream",
     "text": [
      "Reading file_name='s3://alphamatic/kibot/All_Futures_Continuous_Contracts_daily/CL.csv.gz' nrows=10000\n"
     ]
    },
    {
     "data": {
      "text/html": [
       "<div>\n",
       "<style scoped>\n",
       "    .dataframe tbody tr th:only-of-type {\n",
       "        vertical-align: middle;\n",
       "    }\n",
       "\n",
       "    .dataframe tbody tr th {\n",
       "        vertical-align: top;\n",
       "    }\n",
       "\n",
       "    .dataframe thead th {\n",
       "        text-align: right;\n",
       "    }\n",
       "</style>\n",
       "<table border=\"1\" class=\"dataframe\">\n",
       "  <thead>\n",
       "    <tr style=\"text-align: right;\">\n",
       "      <th></th>\n",
       "      <th>open</th>\n",
       "      <th>high</th>\n",
       "      <th>low</th>\n",
       "      <th>close</th>\n",
       "      <th>vol</th>\n",
       "    </tr>\n",
       "    <tr>\n",
       "      <th>date</th>\n",
       "      <th></th>\n",
       "      <th></th>\n",
       "      <th></th>\n",
       "      <th></th>\n",
       "      <th></th>\n",
       "    </tr>\n",
       "  </thead>\n",
       "  <tbody>\n",
       "    <tr>\n",
       "      <th>1996-08-16</th>\n",
       "      <td>21.46</td>\n",
       "      <td>22.10</td>\n",
       "      <td>21.34</td>\n",
       "      <td>22.05</td>\n",
       "      <td>28704</td>\n",
       "    </tr>\n",
       "    <tr>\n",
       "      <th>1996-08-19</th>\n",
       "      <td>21.91</td>\n",
       "      <td>22.57</td>\n",
       "      <td>21.91</td>\n",
       "      <td>22.47</td>\n",
       "      <td>41736</td>\n",
       "    </tr>\n",
       "    <tr>\n",
       "      <th>1996-08-20</th>\n",
       "      <td>22.41</td>\n",
       "      <td>22.43</td>\n",
       "      <td>22.10</td>\n",
       "      <td>22.11</td>\n",
       "      <td>38759</td>\n",
       "    </tr>\n",
       "  </tbody>\n",
       "</table>\n",
       "</div>"
      ],
      "text/plain": [
       "             open   high    low  close    vol\n",
       "date                                         \n",
       "1996-08-16  21.46  22.10  21.34  22.05  28704\n",
       "1996-08-19  21.91  22.57  21.91  22.47  41736\n",
       "1996-08-20  22.41  22.43  22.10  22.11  38759"
      ]
     },
     "execution_count": 8,
     "metadata": {},
     "output_type": "execute_result"
    }
   ],
   "source": [
    "s = \"CL\"\n",
    "# nrows = None\n",
    "nrows = 10000\n",
    "# file_name = \"s3://alphamatic/kibot/All_Futures_Contracts_1min/%s.csv.gz\" % s\n",
    "file_name = (\n",
    "    \"s3://alphamatic/kibot/All_Futures_Continuous_Contracts_daily/%s.csv.gz\" % s\n",
    ")\n",
    "df = kut.read_data(file_name, nrows)\n",
    "df.head(3)"
   ]
  },
  {
   "cell_type": "markdown",
   "metadata": {},
   "source": [
    "## Read continuous 1-min prices for single futures"
   ]
  },
  {
   "cell_type": "code",
   "execution_count": 9,
   "metadata": {
    "ExecuteTime": {
     "end_time": "2019-08-01T21:03:22.937567Z",
     "start_time": "2019-08-01T21:03:22.849522Z"
    }
   },
   "outputs": [
    {
     "name": "stdout",
     "output_type": "stream",
     "text": [
      "Reading file_name='s3://alphamatic/kibot/All_Futures_Continuous_Contracts_1min/CL.csv.gz' nrows=10000\n"
     ]
    },
    {
     "data": {
      "text/html": [
       "<div>\n",
       "<style scoped>\n",
       "    .dataframe tbody tr th:only-of-type {\n",
       "        vertical-align: middle;\n",
       "    }\n",
       "\n",
       "    .dataframe tbody tr th {\n",
       "        vertical-align: top;\n",
       "    }\n",
       "\n",
       "    .dataframe thead th {\n",
       "        text-align: right;\n",
       "    }\n",
       "</style>\n",
       "<table border=\"1\" class=\"dataframe\">\n",
       "  <thead>\n",
       "    <tr style=\"text-align: right;\">\n",
       "      <th></th>\n",
       "      <th>open</th>\n",
       "      <th>high</th>\n",
       "      <th>low</th>\n",
       "      <th>close</th>\n",
       "      <th>vol</th>\n",
       "      <th>time</th>\n",
       "    </tr>\n",
       "    <tr>\n",
       "      <th>datetime</th>\n",
       "      <th></th>\n",
       "      <th></th>\n",
       "      <th></th>\n",
       "      <th></th>\n",
       "      <th></th>\n",
       "      <th></th>\n",
       "    </tr>\n",
       "  </thead>\n",
       "  <tbody>\n",
       "    <tr>\n",
       "      <th>2009-09-27 18:00:00</th>\n",
       "      <td>66.15</td>\n",
       "      <td>66.35</td>\n",
       "      <td>66.15</td>\n",
       "      <td>66.32</td>\n",
       "      <td>88</td>\n",
       "      <td>18:00:00</td>\n",
       "    </tr>\n",
       "    <tr>\n",
       "      <th>2009-09-27 18:01:00</th>\n",
       "      <td>66.36</td>\n",
       "      <td>66.49</td>\n",
       "      <td>66.35</td>\n",
       "      <td>66.37</td>\n",
       "      <td>124</td>\n",
       "      <td>18:01:00</td>\n",
       "    </tr>\n",
       "    <tr>\n",
       "      <th>2009-09-27 18:02:00</th>\n",
       "      <td>66.37</td>\n",
       "      <td>66.41</td>\n",
       "      <td>66.37</td>\n",
       "      <td>66.37</td>\n",
       "      <td>25</td>\n",
       "      <td>18:02:00</td>\n",
       "    </tr>\n",
       "  </tbody>\n",
       "</table>\n",
       "</div>"
      ],
      "text/plain": [
       "                      open   high    low  close  vol      time\n",
       "datetime                                                      \n",
       "2009-09-27 18:00:00  66.15  66.35  66.15  66.32   88  18:00:00\n",
       "2009-09-27 18:01:00  66.36  66.49  66.35  66.37  124  18:01:00\n",
       "2009-09-27 18:02:00  66.37  66.41  66.37  66.37   25  18:02:00"
      ]
     },
     "execution_count": 9,
     "metadata": {},
     "output_type": "execute_result"
    }
   ],
   "source": [
    "s = \"CL\"\n",
    "# nrows = None\n",
    "nrows = 10000\n",
    "# file_name = \"s3://alphamatic/kibot/All_Futures_Contracts_1min/%s.csv.gz\" % s\n",
    "file_name = (\n",
    "    \"s3://alphamatic/kibot/All_Futures_Continuous_Contracts_1min/%s.csv.gz\" % s\n",
    ")\n",
    "df = kut.read_data(file_name, nrows)\n",
    "df.head(3)"
   ]
  },
  {
   "cell_type": "code",
   "execution_count": 10,
   "metadata": {
    "ExecuteTime": {
     "end_time": "2019-08-01T21:03:22.974117Z",
     "start_time": "2019-08-01T21:03:22.940799Z"
    }
   },
   "outputs": [],
   "source": [
    "## Read continuous 1-min prices for multiple futures"
   ]
  },
  {
   "cell_type": "markdown",
   "metadata": {},
   "source": [
    "## Read continuous daily prices for multiple futures"
   ]
  },
  {
   "cell_type": "code",
   "execution_count": 11,
   "metadata": {
    "ExecuteTime": {
     "end_time": "2019-08-01T21:03:23.048641Z",
     "start_time": "2019-08-01T21:03:22.977103Z"
    }
   },
   "outputs": [
    {
     "name": "stdout",
     "output_type": "stream",
     "text": [
      "Reading file_name='s3://alphamatic/kibot/All_Futures_Continuous_Contracts_daily/NG.csv.gz' nrows=10000\n",
      "Reading file_name='s3://alphamatic/kibot/All_Futures_Continuous_Contracts_daily/RB.csv.gz' nrows=10000\n",
      "Reading file_name='s3://alphamatic/kibot/All_Futures_Continuous_Contracts_daily/BZ.csv.gz' nrows=10000\n"
     ]
    },
    {
     "data": {
      "text/html": [
       "<div>\n",
       "<style scoped>\n",
       "    .dataframe tbody tr th:only-of-type {\n",
       "        vertical-align: middle;\n",
       "    }\n",
       "\n",
       "    .dataframe tbody tr th {\n",
       "        vertical-align: top;\n",
       "    }\n",
       "\n",
       "    .dataframe thead th {\n",
       "        text-align: right;\n",
       "    }\n",
       "</style>\n",
       "<table border=\"1\" class=\"dataframe\">\n",
       "  <thead>\n",
       "    <tr style=\"text-align: right;\">\n",
       "      <th></th>\n",
       "      <th>open</th>\n",
       "      <th>high</th>\n",
       "      <th>low</th>\n",
       "      <th>close</th>\n",
       "      <th>vol</th>\n",
       "    </tr>\n",
       "    <tr>\n",
       "      <th>date</th>\n",
       "      <th></th>\n",
       "      <th></th>\n",
       "      <th></th>\n",
       "      <th></th>\n",
       "      <th></th>\n",
       "    </tr>\n",
       "  </thead>\n",
       "  <tbody>\n",
       "    <tr>\n",
       "      <th>1996-08-16</th>\n",
       "      <td>21.46</td>\n",
       "      <td>22.10</td>\n",
       "      <td>21.34</td>\n",
       "      <td>22.05</td>\n",
       "      <td>28704</td>\n",
       "    </tr>\n",
       "    <tr>\n",
       "      <th>1996-08-19</th>\n",
       "      <td>21.91</td>\n",
       "      <td>22.57</td>\n",
       "      <td>21.91</td>\n",
       "      <td>22.47</td>\n",
       "      <td>41736</td>\n",
       "    </tr>\n",
       "    <tr>\n",
       "      <th>1996-08-20</th>\n",
       "      <td>22.41</td>\n",
       "      <td>22.43</td>\n",
       "      <td>22.10</td>\n",
       "      <td>22.11</td>\n",
       "      <td>38759</td>\n",
       "    </tr>\n",
       "  </tbody>\n",
       "</table>\n",
       "</div>"
      ],
      "text/plain": [
       "             open   high    low  close    vol\n",
       "date                                         \n",
       "1996-08-16  21.46  22.10  21.34  22.05  28704\n",
       "1996-08-19  21.91  22.57  21.91  22.47  41736\n",
       "1996-08-20  22.41  22.43  22.10  22.11  38759"
      ]
     },
     "execution_count": 11,
     "metadata": {},
     "output_type": "execute_result"
    }
   ],
   "source": [
    "symbols = \"CL NG RB BZ\".split()\n",
    "file_name = (\n",
    "    \"s3://alphamatic/kibot/All_Futures_Continuous_Contracts_daily/%s.csv.gz\"\n",
    ")\n",
    "nrows = 10000\n",
    "\n",
    "daily_price_dict_df = kut.read_multiple_symbol_data(\n",
    "    symbols, file_name, nrows=nrows\n",
    ")\n",
    "\n",
    "daily_price_dict_df[\"CL\"].head(3)"
   ]
  },
  {
   "cell_type": "markdown",
   "metadata": {},
   "source": [
    "## Read continuous 1-min prices for multiple futures"
   ]
  },
  {
   "cell_type": "code",
   "execution_count": 12,
   "metadata": {
    "ExecuteTime": {
     "end_time": "2019-08-01T21:03:23.206737Z",
     "start_time": "2019-08-01T21:03:23.051152Z"
    }
   },
   "outputs": [
    {
     "name": "stdout",
     "output_type": "stream",
     "text": [
      "Reading file_name='s3://alphamatic/kibot/All_Futures_Continuous_Contracts_1min/NG.csv.gz' nrows=10000\n",
      "Reading file_name='s3://alphamatic/kibot/All_Futures_Continuous_Contracts_1min/RB.csv.gz' nrows=10000\n",
      "Reading file_name='s3://alphamatic/kibot/All_Futures_Continuous_Contracts_1min/BZ.csv.gz' nrows=10000\n"
     ]
    },
    {
     "data": {
      "text/html": [
       "<div>\n",
       "<style scoped>\n",
       "    .dataframe tbody tr th:only-of-type {\n",
       "        vertical-align: middle;\n",
       "    }\n",
       "\n",
       "    .dataframe tbody tr th {\n",
       "        vertical-align: top;\n",
       "    }\n",
       "\n",
       "    .dataframe thead th {\n",
       "        text-align: right;\n",
       "    }\n",
       "</style>\n",
       "<table border=\"1\" class=\"dataframe\">\n",
       "  <thead>\n",
       "    <tr style=\"text-align: right;\">\n",
       "      <th></th>\n",
       "      <th>open</th>\n",
       "      <th>high</th>\n",
       "      <th>low</th>\n",
       "      <th>close</th>\n",
       "      <th>vol</th>\n",
       "      <th>time</th>\n",
       "    </tr>\n",
       "    <tr>\n",
       "      <th>datetime</th>\n",
       "      <th></th>\n",
       "      <th></th>\n",
       "      <th></th>\n",
       "      <th></th>\n",
       "      <th></th>\n",
       "      <th></th>\n",
       "    </tr>\n",
       "  </thead>\n",
       "  <tbody>\n",
       "    <tr>\n",
       "      <th>2009-09-27 18:00:00</th>\n",
       "      <td>66.15</td>\n",
       "      <td>66.35</td>\n",
       "      <td>66.15</td>\n",
       "      <td>66.32</td>\n",
       "      <td>88</td>\n",
       "      <td>18:00:00</td>\n",
       "    </tr>\n",
       "    <tr>\n",
       "      <th>2009-09-27 18:01:00</th>\n",
       "      <td>66.36</td>\n",
       "      <td>66.49</td>\n",
       "      <td>66.35</td>\n",
       "      <td>66.37</td>\n",
       "      <td>124</td>\n",
       "      <td>18:01:00</td>\n",
       "    </tr>\n",
       "    <tr>\n",
       "      <th>2009-09-27 18:02:00</th>\n",
       "      <td>66.37</td>\n",
       "      <td>66.41</td>\n",
       "      <td>66.37</td>\n",
       "      <td>66.37</td>\n",
       "      <td>25</td>\n",
       "      <td>18:02:00</td>\n",
       "    </tr>\n",
       "  </tbody>\n",
       "</table>\n",
       "</div>"
      ],
      "text/plain": [
       "                      open   high    low  close  vol      time\n",
       "datetime                                                      \n",
       "2009-09-27 18:00:00  66.15  66.35  66.15  66.32   88  18:00:00\n",
       "2009-09-27 18:01:00  66.36  66.49  66.35  66.37  124  18:01:00\n",
       "2009-09-27 18:02:00  66.37  66.41  66.37  66.37   25  18:02:00"
      ]
     },
     "execution_count": 12,
     "metadata": {},
     "output_type": "execute_result"
    }
   ],
   "source": [
    "symbols = \"CL NG RB BZ\".split()\n",
    "file_name = (\n",
    "    \"s3://alphamatic/kibot/All_Futures_Continuous_Contracts_1min/%s.csv.gz\"\n",
    ")\n",
    "nrows = 10000\n",
    "\n",
    "daily_price_dict_df = kut.read_multiple_symbol_data(\n",
    "    symbols, file_name, nrows=nrows\n",
    ")\n",
    "\n",
    "daily_price_dict_df[\"CL\"].head(3)"
   ]
  },
  {
   "cell_type": "markdown",
   "metadata": {},
   "source": [
    "## Read data through config API"
   ]
  },
  {
   "cell_type": "code",
   "execution_count": null,
   "metadata": {},
   "outputs": [],
   "source": [
    "config = cfg.Config.from_env()\n",
    "\n",
    "if config is None:\n",
    "    config = cfg.Config()\n",
    "    config_tmp = config.add_subconfig(\"read_data\")\n",
    "    # Use the data from S3.\n",
    "    file_name = \"s3://alphamatic/kibot/All_Futures_Contracts_1min/ES.csv.gz\"\n",
    "    config_tmp[\"file_name\"] = file_name\n",
    "    config_tmp[\"nrows\"] = 100000\n",
    "\n",
    "_LOG.info(config)"
   ]
  },
  {
   "cell_type": "code",
   "execution_count": null,
   "metadata": {},
   "outputs": [],
   "source": [
    "df = kut.read_data_from_config(config[\"read_data\"])\n",
    "\n",
    "_LOG.info(\"df.shape=%s\", df.shape)\n",
    "_LOG.info(\"datetimes=[%s, %s]\", df.index[0], df.index[-1])\n",
    "_LOG.info(\"df=\\n%s\", df.head(3))"
   ]
  },
  {
   "cell_type": "markdown",
   "metadata": {},
   "source": [
    "## Read raw data directly from S3"
   ]
  },
  {
   "cell_type": "code",
   "execution_count": 15,
   "metadata": {
    "ExecuteTime": {
     "end_time": "2019-08-01T21:03:26.443433Z",
     "start_time": "2019-08-01T21:03:23.583568Z"
    }
   },
   "outputs": [
    {
     "data": {
      "text/html": [
       "<div>\n",
       "<style scoped>\n",
       "    .dataframe tbody tr th:only-of-type {\n",
       "        vertical-align: middle;\n",
       "    }\n",
       "\n",
       "    .dataframe tbody tr th {\n",
       "        vertical-align: top;\n",
       "    }\n",
       "\n",
       "    .dataframe thead th {\n",
       "        text-align: right;\n",
       "    }\n",
       "</style>\n",
       "<table border=\"1\" class=\"dataframe\">\n",
       "  <thead>\n",
       "    <tr style=\"text-align: right;\">\n",
       "      <th></th>\n",
       "      <th>0</th>\n",
       "      <th>1</th>\n",
       "      <th>2</th>\n",
       "      <th>3</th>\n",
       "      <th>4</th>\n",
       "      <th>5</th>\n",
       "      <th>6</th>\n",
       "    </tr>\n",
       "  </thead>\n",
       "  <tbody>\n",
       "    <tr>\n",
       "      <th>0</th>\n",
       "      <td>2009-09-27</td>\n",
       "      <td>18:00</td>\n",
       "      <td>66.15</td>\n",
       "      <td>66.35</td>\n",
       "      <td>66.15</td>\n",
       "      <td>66.32</td>\n",
       "      <td>88</td>\n",
       "    </tr>\n",
       "    <tr>\n",
       "      <th>1</th>\n",
       "      <td>2009-09-27</td>\n",
       "      <td>18:01</td>\n",
       "      <td>66.36</td>\n",
       "      <td>66.49</td>\n",
       "      <td>66.35</td>\n",
       "      <td>66.37</td>\n",
       "      <td>124</td>\n",
       "    </tr>\n",
       "    <tr>\n",
       "      <th>2</th>\n",
       "      <td>2009-09-27</td>\n",
       "      <td>18:02</td>\n",
       "      <td>66.37</td>\n",
       "      <td>66.41</td>\n",
       "      <td>66.37</td>\n",
       "      <td>66.37</td>\n",
       "      <td>25</td>\n",
       "    </tr>\n",
       "  </tbody>\n",
       "</table>\n",
       "</div>"
      ],
      "text/plain": [
       "           0      1      2      3      4      5    6\n",
       "0 2009-09-27  18:00  66.15  66.35  66.15  66.32   88\n",
       "1 2009-09-27  18:01  66.36  66.49  66.35  66.37  124\n",
       "2 2009-09-27  18:02  66.37  66.41  66.37  66.37   25"
      ]
     },
     "execution_count": 15,
     "metadata": {},
     "output_type": "execute_result"
    }
   ],
   "source": [
    "s = \"CL\"\n",
    "file_name = (\n",
    "    \"s3://alphamatic/kibot/All_Futures_Continuous_Contracts_1min/%s.csv.gz\" % s\n",
    ")\n",
    "nrows = 10000\n",
    "\n",
    "df = pd.read_csv(file_name, header=None, parse_dates=[0], nrows=nrows)\n",
    "# df.columns = \"datetime open high low close vol\".split()\n",
    "df.head(3)"
   ]
  },
  {
   "cell_type": "markdown",
   "metadata": {},
   "source": [
    "# Return computation"
   ]
  },
  {
   "cell_type": "markdown",
   "metadata": {},
   "source": [
    "## 1-min for single futures"
   ]
  },
  {
   "cell_type": "code",
   "execution_count": 16,
   "metadata": {
    "ExecuteTime": {
     "end_time": "2019-08-01T21:03:26.489493Z",
     "start_time": "2019-08-01T21:03:26.445208Z"
    }
   },
   "outputs": [],
   "source": [
    "# TODO(gp)"
   ]
  },
  {
   "cell_type": "markdown",
   "metadata": {},
   "source": [
    "## 1-min for multiple futures"
   ]
  },
  {
   "cell_type": "code",
   "execution_count": 17,
   "metadata": {
    "ExecuteTime": {
     "end_time": "2019-08-01T21:03:27.639955Z",
     "start_time": "2019-08-01T21:03:26.491319Z"
    }
   },
   "outputs": [
    {
     "name": "stdout",
     "output_type": "stream",
     "text": [
      "Reading file_name='s3://alphamatic/kibot/All_Futures_Continuous_Contracts_1min/CL.csv.gz' nrows=100000\n",
      "Reading file_name='s3://alphamatic/kibot/All_Futures_Continuous_Contracts_1min/NG.csv.gz' nrows=100000\n",
      "Reading file_name='s3://alphamatic/kibot/All_Futures_Continuous_Contracts_1min/RB.csv.gz' nrows=100000\n",
      "Reading file_name='s3://alphamatic/kibot/All_Futures_Continuous_Contracts_1min/BZ.csv.gz' nrows=100000\n",
      "keys=dict_keys(['CL', 'NG', 'RB', 'BZ'])\n"
     ]
    },
    {
     "data": {
      "text/html": [
       "<div>\n",
       "<style scoped>\n",
       "    .dataframe tbody tr th:only-of-type {\n",
       "        vertical-align: middle;\n",
       "    }\n",
       "\n",
       "    .dataframe tbody tr th {\n",
       "        vertical-align: top;\n",
       "    }\n",
       "\n",
       "    .dataframe thead th {\n",
       "        text-align: right;\n",
       "    }\n",
       "</style>\n",
       "<table border=\"1\" class=\"dataframe\">\n",
       "  <thead>\n",
       "    <tr style=\"text-align: right;\">\n",
       "      <th></th>\n",
       "      <th>open</th>\n",
       "      <th>high</th>\n",
       "      <th>low</th>\n",
       "      <th>close</th>\n",
       "      <th>vol</th>\n",
       "      <th>time</th>\n",
       "    </tr>\n",
       "    <tr>\n",
       "      <th>datetime</th>\n",
       "      <th></th>\n",
       "      <th></th>\n",
       "      <th></th>\n",
       "      <th></th>\n",
       "      <th></th>\n",
       "      <th></th>\n",
       "    </tr>\n",
       "  </thead>\n",
       "  <tbody>\n",
       "    <tr>\n",
       "      <th>2010-01-19 03:45:00</th>\n",
       "      <td>77.98</td>\n",
       "      <td>77.98</td>\n",
       "      <td>77.97</td>\n",
       "      <td>77.97</td>\n",
       "      <td>4</td>\n",
       "      <td>03:45:00</td>\n",
       "    </tr>\n",
       "    <tr>\n",
       "      <th>2010-01-19 03:46:00</th>\n",
       "      <td>77.96</td>\n",
       "      <td>77.97</td>\n",
       "      <td>77.96</td>\n",
       "      <td>77.97</td>\n",
       "      <td>5</td>\n",
       "      <td>03:46:00</td>\n",
       "    </tr>\n",
       "    <tr>\n",
       "      <th>2010-01-19 03:47:00</th>\n",
       "      <td>77.96</td>\n",
       "      <td>77.96</td>\n",
       "      <td>77.96</td>\n",
       "      <td>77.96</td>\n",
       "      <td>4</td>\n",
       "      <td>03:47:00</td>\n",
       "    </tr>\n",
       "  </tbody>\n",
       "</table>\n",
       "</div>"
      ],
      "text/plain": [
       "                      open   high    low  close  vol      time\n",
       "datetime                                                      \n",
       "2010-01-19 03:45:00  77.98  77.98  77.97  77.97    4  03:45:00\n",
       "2010-01-19 03:46:00  77.96  77.97  77.96  77.97    5  03:46:00\n",
       "2010-01-19 03:47:00  77.96  77.96  77.96  77.96    4  03:47:00"
      ]
     },
     "execution_count": 17,
     "metadata": {},
     "output_type": "execute_result"
    }
   ],
   "source": [
    "# Read multiple futures.\n",
    "symbols = \"CL NG RB BZ\".split()\n",
    "file_name = (\n",
    "    \"s3://alphamatic/kibot/All_Futures_Continuous_Contracts_1min/%s.csv.gz\"\n",
    ")\n",
    "nrows = 100000\n",
    "min_price_dict_df = kut.read_multiple_symbol_data(symbols, file_name, nrows=nrows)\n",
    "\n",
    "_LOG.info(\"keys=%s\", min_price_dict_df.keys())\n",
    "min_price_dict_df[\"CL\"].tail(3)"
   ]
  },
  {
   "cell_type": "markdown",
   "metadata": {
    "ExecuteTime": {
     "end_time": "2019-08-01T21:02:29.441931Z",
     "start_time": "2019-08-01T21:02:29.400732Z"
    }
   },
   "source": [
    "### Compute returns ret_0"
   ]
  },
  {
   "cell_type": "code",
   "execution_count": 18,
   "metadata": {
    "ExecuteTime": {
     "end_time": "2019-08-01T21:03:27.809016Z",
     "start_time": "2019-08-01T21:03:27.641899Z"
    }
   },
   "outputs": [
    {
     "data": {
      "text/html": [
       "<div>\n",
       "<style scoped>\n",
       "    .dataframe tbody tr th:only-of-type {\n",
       "        vertical-align: middle;\n",
       "    }\n",
       "\n",
       "    .dataframe tbody tr th {\n",
       "        vertical-align: top;\n",
       "    }\n",
       "\n",
       "    .dataframe thead th {\n",
       "        text-align: right;\n",
       "    }\n",
       "</style>\n",
       "<table border=\"1\" class=\"dataframe\">\n",
       "  <thead>\n",
       "    <tr style=\"text-align: right;\">\n",
       "      <th></th>\n",
       "      <th>CL_ret_0</th>\n",
       "      <th>NG_ret_0</th>\n",
       "      <th>RB_ret_0</th>\n",
       "      <th>BZ_ret_0</th>\n",
       "    </tr>\n",
       "    <tr>\n",
       "      <th>datetime</th>\n",
       "      <th></th>\n",
       "      <th></th>\n",
       "      <th></th>\n",
       "      <th></th>\n",
       "    </tr>\n",
       "  </thead>\n",
       "  <tbody>\n",
       "    <tr>\n",
       "      <th>2009-09-27 18:00:00</th>\n",
       "      <td>NaN</td>\n",
       "      <td>NaN</td>\n",
       "      <td>NaN</td>\n",
       "      <td>NaN</td>\n",
       "    </tr>\n",
       "    <tr>\n",
       "      <th>2009-09-27 18:01:00</th>\n",
       "      <td>0.003175</td>\n",
       "      <td>-0.001261</td>\n",
       "      <td>NaN</td>\n",
       "      <td>NaN</td>\n",
       "    </tr>\n",
       "    <tr>\n",
       "      <th>2009-09-27 18:02:00</th>\n",
       "      <td>0.000151</td>\n",
       "      <td>NaN</td>\n",
       "      <td>NaN</td>\n",
       "      <td>NaN</td>\n",
       "    </tr>\n",
       "  </tbody>\n",
       "</table>\n",
       "</div>"
      ],
      "text/plain": [
       "                     CL_ret_0  NG_ret_0  RB_ret_0  BZ_ret_0\n",
       "datetime                                                   \n",
       "2009-09-27 18:00:00       NaN       NaN       NaN       NaN\n",
       "2009-09-27 18:01:00  0.003175 -0.001261       NaN       NaN\n",
       "2009-09-27 18:02:00  0.000151       NaN       NaN       NaN"
      ]
     },
     "execution_count": 18,
     "metadata": {},
     "output_type": "execute_result"
    }
   ],
   "source": [
    "mode = \"pct_change\"\n",
    "min_rets = kut.compute_ret_0_from_multiple_1min_prices(min_price_dict_df, mode)\n",
    "\n",
    "min_rets.head(3)"
   ]
  },
  {
   "cell_type": "code",
   "execution_count": 19,
   "metadata": {
    "ExecuteTime": {
     "end_time": "2019-08-01T21:03:28.487225Z",
     "start_time": "2019-08-01T21:03:27.811313Z"
    }
   },
   "outputs": [
    {
     "data": {
      "text/plain": [
       "<matplotlib.axes._subplots.AxesSubplot at 0x1a1df77128>"
      ]
     },
     "execution_count": 19,
     "metadata": {},
     "output_type": "execute_result"
    },
    {
     "data": {
      "image/png": "[encoded data removed]",
      "text/plain": [
       "<Figure size 1440x360 with 1 Axes>"
      ]
     },
     "metadata": {
      "needs_background": "light"
     },
     "output_type": "display_data"
    }
   ],
   "source": [
    "min_rets.fillna(0.0).resample(\"1D\").sum().cumsum().plot()"
   ]
  },
  {
   "cell_type": "markdown",
   "metadata": {},
   "source": [
    "### Resample to 1min"
   ]
  },
  {
   "cell_type": "code",
   "execution_count": null,
   "metadata": {},
   "outputs": [],
   "source": [
    "# Resample to 1min.\n",
    "_LOG.info(\"## Before resampling\")\n",
    "exp.report_zero_nan_inf_stats(min_rets)"
   ]
  },
  {
   "cell_type": "code",
   "execution_count": 21,
   "metadata": {
    "ExecuteTime": {
     "end_time": "2019-08-01T21:03:29.090862Z",
     "start_time": "2019-08-01T21:03:28.671643Z"
    }
   },
   "outputs": [
    {
     "data": {
      "text/plain": [
       "<matplotlib.axes._subplots.AxesSubplot at 0x1a2256b668>"
      ]
     },
     "execution_count": 21,
     "metadata": {},
     "output_type": "execute_result"
    },
    {
     "data": {
      "image/png": "[encoded data removed]",
      "text/plain": [
       "<Figure size 1440x86.4 with 1 Axes>"
      ]
     },
     "metadata": {
      "needs_background": "light"
     },
     "output_type": "display_data"
    }
   ],
   "source": [
    "exp.plot_non_na_cols(min_rets.resample(\"1D\").sum())"
   ]
  },
  {
   "cell_type": "code",
   "execution_count": null,
   "metadata": {},
   "outputs": [],
   "source": [
    "min_rets = fin.resample_1min(min_rets, skip_weekends=False)\n",
    "\n",
    "_LOG.info(\"## After resampling\")\n",
    "exp.report_zero_nan_inf_stats(min_rets)\n",
    "\n",
    "min_rets.fillna(0.0, inplace=True)"
   ]
  },
  {
   "cell_type": "markdown",
   "metadata": {
    "ExecuteTime": {
     "end_time": "2019-08-01T20:59:50.744063Z",
     "start_time": "2019-08-01T20:59:50.704684Z"
    }
   },
   "source": [
    "### z-scoring"
   ]
  },
  {
   "cell_type": "code",
   "execution_count": 23,
   "metadata": {
    "ExecuteTime": {
     "end_time": "2019-08-01T21:03:34.389571Z",
     "start_time": "2019-08-01T21:03:29.877236Z"
    }
   },
   "outputs": [
    {
     "data": {
      "text/html": [
       "<div>\n",
       "<style scoped>\n",
       "    .dataframe tbody tr th:only-of-type {\n",
       "        vertical-align: middle;\n",
       "    }\n",
       "\n",
       "    .dataframe tbody tr th {\n",
       "        vertical-align: top;\n",
       "    }\n",
       "\n",
       "    .dataframe thead th {\n",
       "        text-align: right;\n",
       "    }\n",
       "</style>\n",
       "<table border=\"1\" class=\"dataframe\">\n",
       "  <thead>\n",
       "    <tr style=\"text-align: right;\">\n",
       "      <th></th>\n",
       "      <th>CL_zret_0</th>\n",
       "      <th>NG_zret_0</th>\n",
       "      <th>RB_zret_0</th>\n",
       "      <th>BZ_zret_0</th>\n",
       "    </tr>\n",
       "  </thead>\n",
       "  <tbody>\n",
       "    <tr>\n",
       "      <th>2009-09-29 10:36:00</th>\n",
       "      <td>0.000000</td>\n",
       "      <td>-0.108223</td>\n",
       "      <td>2.813347</td>\n",
       "      <td>-inf</td>\n",
       "    </tr>\n",
       "    <tr>\n",
       "      <th>2009-09-29 10:37:00</th>\n",
       "      <td>2.981088</td>\n",
       "      <td>2.420640</td>\n",
       "      <td>0.590787</td>\n",
       "      <td>0.0</td>\n",
       "    </tr>\n",
       "    <tr>\n",
       "      <th>2009-09-29 10:38:00</th>\n",
       "      <td>3.080418</td>\n",
       "      <td>2.871281</td>\n",
       "      <td>0.000000</td>\n",
       "      <td>0.0</td>\n",
       "    </tr>\n",
       "  </tbody>\n",
       "</table>\n",
       "</div>"
      ],
      "text/plain": [
       "                     CL_zret_0  NG_zret_0  RB_zret_0  BZ_zret_0\n",
       "2009-09-29 10:36:00   0.000000  -0.108223   2.813347       -inf\n",
       "2009-09-29 10:37:00   2.981088   2.420640   0.590787        0.0\n",
       "2009-09-29 10:38:00   3.080418   2.871281   0.000000        0.0"
      ]
     },
     "execution_count": 23,
     "metadata": {},
     "output_type": "execute_result"
    }
   ],
   "source": [
    "zscore_com = 28\n",
    "min_zrets = fin.zscore(\n",
    "    min_rets, com=zscore_com, demean=False, standardize=True, delay=1\n",
    ")\n",
    "min_zrets.columns = [c.replace(\"ret_\", \"zret_\") for c in min_zrets.columns]\n",
    "min_zrets.dropna().head(3)"
   ]
  },
  {
   "cell_type": "code",
   "execution_count": 24,
   "metadata": {
    "ExecuteTime": {
     "end_time": "2019-08-01T21:03:34.885465Z",
     "start_time": "2019-08-01T21:03:34.391774Z"
    }
   },
   "outputs": [
    {
     "data": {
      "text/plain": [
       "<matplotlib.axes._subplots.AxesSubplot at 0x1a22579fd0>"
      ]
     },
     "execution_count": 24,
     "metadata": {},
     "output_type": "execute_result"
    },
    {
     "data": {
      "image/png": "[encoded data removed]",
      "text/plain": [
       "<Figure size 1440x360 with 1 Axes>"
      ]
     },
     "metadata": {
      "needs_background": "light"
     },
     "output_type": "display_data"
    }
   ],
   "source": [
    "min_zrets.fillna(0.0).resample(\"1D\").sum().cumsum().plot()"
   ]
  },
  {
   "cell_type": "code",
   "execution_count": 27,
   "metadata": {
    "ExecuteTime": {
     "end_time": "2019-08-01T21:04:09.638739Z",
     "start_time": "2019-08-01T21:04:08.938194Z"
    },
    "scrolled": false
   },
   "outputs": [
    {
     "data": {
      "text/plain": [
       "<seaborn.matrix.ClusterGrid at 0x1a1d000be0>"
      ]
     },
     "execution_count": 27,
     "metadata": {},
     "output_type": "execute_result"
    },
    {
     "data": {
      "image/png": "[encoded data removed]",
      "text/plain": [
       "<Figure size 720x720 with 4 Axes>"
      ]
     },
     "metadata": {
      "needs_background": "light"
     },
     "output_type": "display_data"
    }
   ],
   "source": [
    "annot = True\n",
    "stocks_corr = min_rets.dropna().corr()\n",
    "\n",
    "sns.clustermap(stocks_corr, annot=annot)"
   ]
  },
  {
   "cell_type": "markdown",
   "metadata": {},
   "source": [
    "## Daily for single futures"
   ]
  },
  {
   "cell_type": "markdown",
   "metadata": {},
   "source": [
    "## Daily for multiple futures"
   ]
  }
 ],
 "metadata": {
  "jupytext": {
   "formats": "ipynb,py:percent"
  },
  "kernelspec": {
   "display_name": "Python [conda env:develop] *",
   "language": "python",
   "name": "conda-env-develop-py"
  },
  "language_info": {
   "codemirror_mode": {
    "name": "ipython",
    "version": 3
   },
   "file_extension": ".py",
   "mimetype": "text/x-python",
   "name": "python",
   "nbconvert_exporter": "python",
   "pygments_lexer": "ipython3",
   "version": "3.7.1"
  },
  "toc": {
   "base_numbering": 1,
   "nav_menu": {},
   "number_sections": true,
   "sideBar": true,
   "skip_h1_title": false,
   "title_cell": "Table of Contents",
   "title_sidebar": "Contents",
   "toc_cell": false,
   "toc_position": {},
   "toc_section_display": true,
   "toc_window_display": false
  }
 },
 "nbformat": 4,
 "nbformat_minor": 2
}
