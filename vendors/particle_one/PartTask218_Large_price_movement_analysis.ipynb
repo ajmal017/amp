{
 "cells": [
  {
   "cell_type": "markdown",
   "metadata": {},
   "source": [
    "# Imports"
   ]
  },
  {
   "cell_type": "code",
   "execution_count": 2,
   "metadata": {
    "ExecuteTime": {
     "end_time": "2019-10-07T12:46:29.558834Z",
     "start_time": "2019-10-07T12:46:29.519064Z"
    }
   },
   "outputs": [],
   "source": [
    "%load_ext autoreload\n",
    "%autoreload 2\n",
    "\n",
    "import numpy as np\n",
    "import pandas as pd\n",
    "import seaborn as sns\n",
    "from matplotlib import pyplot as plt"
   ]
  },
  {
   "cell_type": "code",
   "execution_count": 3,
   "metadata": {
    "ExecuteTime": {
     "end_time": "2019-10-07T12:46:29.861863Z",
     "start_time": "2019-10-07T12:46:29.843883Z"
    }
   },
   "outputs": [],
   "source": [
    "from pylab import rcParams\n",
    "from tqdm.autonotebook import tqdm\n",
    "\n",
    "import core.signal_processing as sp\n",
    "import vendors.kibot.utils as kut\n",
    "import vendors.particle_one.price_movement_analysis as pma\n",
    "\n",
    "# import vendors.particle_one.PartTask269_liquidity_analysis_utils as lau\n",
    "\n",
    "sns.set()\n",
    "\n",
    "rcParams[\"figure.figsize\"] = (20, 5)"
   ]
  },
  {
   "cell_type": "code",
   "execution_count": 3,
   "metadata": {
    "ExecuteTime": {
     "end_time": "2019-10-04T18:54:03.391142Z",
     "start_time": "2019-10-04T18:54:03.372951Z"
    }
   },
   "outputs": [],
   "source": [
    "TAU = 2"
   ]
  },
  {
   "cell_type": "markdown",
   "metadata": {},
   "source": [
    "# Load CME metadata"
   ]
  },
  {
   "cell_type": "code",
   "execution_count": 5,
   "metadata": {
    "ExecuteTime": {
     "end_time": "2019-10-04T18:54:03.427714Z",
     "start_time": "2019-10-04T18:54:03.411670Z"
    }
   },
   "outputs": [],
   "source": [
    "# Change this to library code from #269 once it is merged into master"
   ]
  },
  {
   "cell_type": "code",
   "execution_count": 6,
   "metadata": {
    "ExecuteTime": {
     "end_time": "2019-10-04T18:54:03.484394Z",
     "start_time": "2019-10-04T18:54:03.429181Z"
    }
   },
   "outputs": [],
   "source": [
    "_PRODUCT_SPECS_PATH = (\n",
    "    \"/data/prices/product_slate_export_with_contract_specs_20190905.csv\"\n",
    ")\n",
    "product_list = pd.read_csv(_PRODUCT_SPECS_PATH)"
   ]
  },
  {
   "cell_type": "code",
   "execution_count": 7,
   "metadata": {
    "ExecuteTime": {
     "end_time": "2019-10-04T18:54:03.527457Z",
     "start_time": "2019-10-04T18:54:03.485979Z"
    }
   },
   "outputs": [
    {
     "data": {
      "text/html": [
       "<div>\n",
       "<style scoped>\n",
       "    .dataframe tbody tr th:only-of-type {\n",
       "        vertical-align: middle;\n",
       "    }\n",
       "\n",
       "    .dataframe tbody tr th {\n",
       "        vertical-align: top;\n",
       "    }\n",
       "\n",
       "    .dataframe thead th {\n",
       "        text-align: right;\n",
       "    }\n",
       "</style>\n",
       "<table border=\"1\" class=\"dataframe\">\n",
       "  <thead>\n",
       "    <tr style=\"text-align: right;\">\n",
       "      <th></th>\n",
       "      <th>Clearing</th>\n",
       "      <th>Globex</th>\n",
       "      <th>Floor</th>\n",
       "      <th>Clearport</th>\n",
       "      <th>Product Name</th>\n",
       "      <th>Product Group</th>\n",
       "      <th>Sub Group</th>\n",
       "      <th>Category</th>\n",
       "      <th>Sub Category</th>\n",
       "      <th>Cleared As</th>\n",
       "      <th>...</th>\n",
       "      <th>Delivery Procedure Link</th>\n",
       "      <th>Trade At Marker Or Trade At Settlement Rules Link</th>\n",
       "      <th>Minimum Price Fluctuation Link</th>\n",
       "      <th>Listed Contracts Link</th>\n",
       "      <th>Termination Of Trading_0</th>\n",
       "      <th>Termination Of Trading Link</th>\n",
       "      <th>Reportable Positions</th>\n",
       "      <th>Termination Of Trading_1</th>\n",
       "      <th>CME Globex:</th>\n",
       "      <th>Reportable Positions Link</th>\n",
       "    </tr>\n",
       "  </thead>\n",
       "  <tbody>\n",
       "    <tr>\n",
       "      <td>0</td>\n",
       "      <td>ED</td>\n",
       "      <td>GE</td>\n",
       "      <td>NaN</td>\n",
       "      <td>ED</td>\n",
       "      <td>Eurodollar Futures</td>\n",
       "      <td>Interest Rate</td>\n",
       "      <td>Stirs</td>\n",
       "      <td>NaN</td>\n",
       "      <td>NaN</td>\n",
       "      <td>Futures</td>\n",
       "      <td>...</td>\n",
       "      <td>NaN</td>\n",
       "      <td>NaN</td>\n",
       "      <td>NaN</td>\n",
       "      <td>NaN</td>\n",
       "      <td>NaN</td>\n",
       "      <td>NaN</td>\n",
       "      <td>NaN</td>\n",
       "      <td>NaN</td>\n",
       "      <td>NaN</td>\n",
       "      <td>NaN</td>\n",
       "    </tr>\n",
       "    <tr>\n",
       "      <td>1</td>\n",
       "      <td>25</td>\n",
       "      <td>ZF</td>\n",
       "      <td>NaN</td>\n",
       "      <td>25</td>\n",
       "      <td>5-Year T-Note Futures</td>\n",
       "      <td>Interest Rate</td>\n",
       "      <td>US Treasury</td>\n",
       "      <td>NaN</td>\n",
       "      <td>NaN</td>\n",
       "      <td>Futures</td>\n",
       "      <td>...</td>\n",
       "      <td>NaN</td>\n",
       "      <td>NaN</td>\n",
       "      <td>NaN</td>\n",
       "      <td>NaN</td>\n",
       "      <td>NaN</td>\n",
       "      <td>NaN</td>\n",
       "      <td>NaN</td>\n",
       "      <td>NaN</td>\n",
       "      <td>NaN</td>\n",
       "      <td>NaN</td>\n",
       "    </tr>\n",
       "    <tr>\n",
       "      <td>2</td>\n",
       "      <td>21</td>\n",
       "      <td>ZN</td>\n",
       "      <td>NaN</td>\n",
       "      <td>21</td>\n",
       "      <td>10-Year T-Note Futures</td>\n",
       "      <td>Interest Rate</td>\n",
       "      <td>US Treasury</td>\n",
       "      <td>NaN</td>\n",
       "      <td>NaN</td>\n",
       "      <td>Futures</td>\n",
       "      <td>...</td>\n",
       "      <td>NaN</td>\n",
       "      <td>NaN</td>\n",
       "      <td>NaN</td>\n",
       "      <td>NaN</td>\n",
       "      <td>NaN</td>\n",
       "      <td>NaN</td>\n",
       "      <td>NaN</td>\n",
       "      <td>NaN</td>\n",
       "      <td>NaN</td>\n",
       "      <td>NaN</td>\n",
       "    </tr>\n",
       "    <tr>\n",
       "      <td>3</td>\n",
       "      <td>26</td>\n",
       "      <td>ZT</td>\n",
       "      <td>NaN</td>\n",
       "      <td>26</td>\n",
       "      <td>2-Year T-Note Futures</td>\n",
       "      <td>Interest Rate</td>\n",
       "      <td>US Treasury</td>\n",
       "      <td>NaN</td>\n",
       "      <td>NaN</td>\n",
       "      <td>Futures</td>\n",
       "      <td>...</td>\n",
       "      <td>NaN</td>\n",
       "      <td>NaN</td>\n",
       "      <td>NaN</td>\n",
       "      <td>NaN</td>\n",
       "      <td>NaN</td>\n",
       "      <td>NaN</td>\n",
       "      <td>NaN</td>\n",
       "      <td>NaN</td>\n",
       "      <td>NaN</td>\n",
       "      <td>NaN</td>\n",
       "    </tr>\n",
       "    <tr>\n",
       "      <td>4</td>\n",
       "      <td>ES</td>\n",
       "      <td>ES</td>\n",
       "      <td>NaN</td>\n",
       "      <td>ES</td>\n",
       "      <td>E-mini S&amp;P 500 Futures</td>\n",
       "      <td>Equities</td>\n",
       "      <td>US Index</td>\n",
       "      <td>NaN</td>\n",
       "      <td>NaN</td>\n",
       "      <td>Futures</td>\n",
       "      <td>...</td>\n",
       "      <td>NaN</td>\n",
       "      <td>NaN</td>\n",
       "      <td>NaN</td>\n",
       "      <td>NaN</td>\n",
       "      <td>NaN</td>\n",
       "      <td>NaN</td>\n",
       "      <td>NaN</td>\n",
       "      <td>NaN</td>\n",
       "      <td>NaN</td>\n",
       "      <td>NaN</td>\n",
       "    </tr>\n",
       "  </tbody>\n",
       "</table>\n",
       "<p>5 rows × 57 columns</p>\n",
       "</div>"
      ],
      "text/plain": [
       "  Clearing Globex Floor Clearport            Product Name  Product Group  \\\n",
       "0       ED     GE   NaN        ED      Eurodollar Futures  Interest Rate   \n",
       "1       25     ZF   NaN        25   5-Year T-Note Futures  Interest Rate   \n",
       "2       21     ZN   NaN        21  10-Year T-Note Futures  Interest Rate   \n",
       "3       26     ZT   NaN        26   2-Year T-Note Futures  Interest Rate   \n",
       "4       ES     ES   NaN        ES  E-mini S&P 500 Futures       Equities   \n",
       "\n",
       "     Sub Group Category Sub Category Cleared As  ... Delivery Procedure Link  \\\n",
       "0        Stirs      NaN          NaN    Futures  ...                     NaN   \n",
       "1  US Treasury      NaN          NaN    Futures  ...                     NaN   \n",
       "2  US Treasury      NaN          NaN    Futures  ...                     NaN   \n",
       "3  US Treasury      NaN          NaN    Futures  ...                     NaN   \n",
       "4     US Index      NaN          NaN    Futures  ...                     NaN   \n",
       "\n",
       "   Trade At Marker Or Trade At Settlement Rules Link  \\\n",
       "0                                                NaN   \n",
       "1                                                NaN   \n",
       "2                                                NaN   \n",
       "3                                                NaN   \n",
       "4                                                NaN   \n",
       "\n",
       "   Minimum Price Fluctuation Link Listed Contracts Link  \\\n",
       "0                             NaN                   NaN   \n",
       "1                             NaN                   NaN   \n",
       "2                             NaN                   NaN   \n",
       "3                             NaN                   NaN   \n",
       "4                             NaN                   NaN   \n",
       "\n",
       "  Termination Of Trading_0 Termination Of Trading Link Reportable Positions  \\\n",
       "0                      NaN                         NaN                  NaN   \n",
       "1                      NaN                         NaN                  NaN   \n",
       "2                      NaN                         NaN                  NaN   \n",
       "3                      NaN                         NaN                  NaN   \n",
       "4                      NaN                         NaN                  NaN   \n",
       "\n",
       "  Termination Of Trading_1 CME Globex: Reportable Positions Link  \n",
       "0                      NaN         NaN                       NaN  \n",
       "1                      NaN         NaN                       NaN  \n",
       "2                      NaN         NaN                       NaN  \n",
       "3                      NaN         NaN                       NaN  \n",
       "4                      NaN         NaN                       NaN  \n",
       "\n",
       "[5 rows x 57 columns]"
      ]
     },
     "execution_count": 7,
     "metadata": {},
     "output_type": "execute_result"
    }
   ],
   "source": [
    "product_list.head()"
   ]
  },
  {
   "cell_type": "code",
   "execution_count": 8,
   "metadata": {
    "ExecuteTime": {
     "end_time": "2019-10-04T18:54:03.548519Z",
     "start_time": "2019-10-04T18:54:03.529822Z"
    }
   },
   "outputs": [
    {
     "data": {
      "text/plain": [
       "Energy           892\n",
       "Equities         100\n",
       "Agriculture       57\n",
       "FX                55\n",
       "Metals            44\n",
       "Interest Rate     30\n",
       "Name: Product Group, dtype: int64"
      ]
     },
     "execution_count": 8,
     "metadata": {},
     "output_type": "execute_result"
    }
   ],
   "source": [
    "product_list[\"Product Group\"].value_counts()"
   ]
  },
  {
   "cell_type": "code",
   "execution_count": 9,
   "metadata": {
    "ExecuteTime": {
     "end_time": "2019-10-04T18:54:03.566198Z",
     "start_time": "2019-10-04T18:54:03.550377Z"
    }
   },
   "outputs": [],
   "source": [
    "product_list.set_index(\"Product Group\", inplace=True)"
   ]
  },
  {
   "cell_type": "code",
   "execution_count": 10,
   "metadata": {
    "ExecuteTime": {
     "end_time": "2019-10-04T18:54:03.582336Z",
     "start_time": "2019-10-04T18:54:03.567705Z"
    }
   },
   "outputs": [],
   "source": [
    "commodity_groups = [\"Energy\", \"Agriculture\", \"Metals\"]"
   ]
  },
  {
   "cell_type": "code",
   "execution_count": 11,
   "metadata": {
    "ExecuteTime": {
     "end_time": "2019-10-04T18:54:03.601699Z",
     "start_time": "2019-10-04T18:54:03.583857Z"
    }
   },
   "outputs": [],
   "source": [
    "commodity_symbols = {\n",
    "    group: product_list.loc[group][\"Globex\"].values for group in commodity_groups\n",
    "}"
   ]
  },
  {
   "cell_type": "code",
   "execution_count": 12,
   "metadata": {
    "ExecuteTime": {
     "end_time": "2019-10-04T18:54:03.620845Z",
     "start_time": "2019-10-04T18:54:03.603173Z"
    },
    "scrolled": false
   },
   "outputs": [
    {
     "data": {
      "text/plain": [
       "{'Energy': array(['CL', 'NG', 'NN', 'N9L', 'D2L', 'HO', 'RB', 'H2L', 'HH', 'BZ',\n",
       "        'V3L', 'BK', 'CSX', 'HTT', 'B0', 'NPG', 'WTT', 'B6L', 'E4L', 'HP',\n",
       "        'AL1', 'AFF', 'EJL', 'LT', 'AD0', 'A1R', 'R7L', 'D4L', 'AW6', 'CU',\n",
       "        'ADB', 'AC0', 'L3L', 'A4P', 'ME', 'CY', 'WOL', 'A8K', 'T7K', 'ZGL',\n",
       "        'MTF', 'LPS', 'T3L', 'AE5', 'AYV', 'MFB', 'AU6', 'RBB', 'AWJ',\n",
       "        'POL', 'A7Q', 'IDL', 'PWL', 'AZ9', 'RVR', 'ZJL', 'TL', 'A46', 'GZ',\n",
       "        'RLX', 'K4L', 'FTL', 'HOB', 'GCU', 'CRB', 'WCW', 'AOL', 'JDL',\n",
       "        'EN', 'AA6', 'PD', 'AGA', 'FO', 'N1B', 'NOI', 'MPX', 'NHN', 'NL',\n",
       "        'JKM', 'MTS', 'AB3', 'NR', 'AH3', 'AP8', 'A7E', 'PGN', 'AFH',\n",
       "        'AZ1', 'A8I', 'MNC', 'UV', 'SE', 'MAF', 'B7H', 'J4L', 'AYX', 'QM',\n",
       "        'D3L', 'IN', 'MEO', 'QG', 'EXR', 'PM', 'TTF', 'MFF', 'PGG', 'D7L',\n",
       "        'BOO', 'MXB', 'EVC', 'A5C', 'AA8', 'EWG', 'HB', 'A8O', 'RKA',\n",
       "        'ARE', 'GCI', 'A1M', 'AL6', 'A1L', 'A0D', 'MBR', 'APS', 'N3L',\n",
       "        'JET', 'VR', 'A9N', 'PH', 'PEL', 'MJN', 'CIN', 'NJ', 'TC', 'A4N',\n",
       "        'TRZ', 'UN', 'DCB', 'AHL', 'FOC', 'MNB', 'D1N', 'AJS', 'AA5',\n",
       "        'CSW', 'PTL', 'ALY', 'EPN', 'CC5', 'ABY', 'A8J', 'NFN', 'NOO',\n",
       "        'T2D', 'DEB', 'JA', 'MAE', 'MM', 'A8L', 'A8M', 'JNL', 'AEZ', 'NX',\n",
       "        'TH', 'AKS', 'LSW', 'AQA', 'NKN', '1S', 'UDL', 'GNL', 'COL', 'NW',\n",
       "        'FLP', 'AFY', 'PNL', 'HCL', 'ZAL', 'ICI', 'SGB', 'TZ6', 'MGH',\n",
       "        'NLS', '5ZN', 'AR0', 'AVZ', 'K3L', 'WPL', 'A91', 'A47', 'HIL',\n",
       "        'H5L', 'A0F', 'FSS', 'MEF', 'MPS', 'MAS', 'R5M', 'STR', 'TM',\n",
       "        'LHV', 'FRC', 'EWN', 'MBE', 'MEB', 'AUB', 'AJ9', 'EH', 'SMU',\n",
       "        'JTB', 'S5M', 'A7Y', 'MBC', 'MGN', 'UA', 'ACB', 'DBL', 'VDL',\n",
       "        'MSG', 'AJL', 'PF', 'GY', 'ANL', 'AXA', 'PW', 'AUF', 'AGE', 'ABT',\n",
       "        'AP7', 'A3C', 'STS', 'AA9', 'WS', 'MT2', 'PAL', 'R5O', 'GBB',\n",
       "        'PDL', 'SF3', 'HJC', 'JML', '22', '1NM', 'A3G', 'SD', '0B', 'USC',\n",
       "        'ABH', 'BB', 'AFI', 'AVU', 'GSW', 'MJC', 'PE', 'NRR', 'H5G', 'MUD',\n",
       "        'GCB', 'RT', 'MFD', 'UKG', 'A8C', 'MTB', 'AJB', 'A32', 'A7I',\n",
       "        'BR7', 'NYF', 'AKL', 'GLI', 'CPB', 'TD3', 'AGX', 'NHH', 'E6M',\n",
       "        'JE', 'EFF', 'MMF', 'R53', 'AUI', 'MEE', 'ENS', 'STI', 'ARY',\n",
       "        'TMB', 'E6', '51', '7D', 'FEW', 'A8G', '0C', 'MGB', 'FVB', 'EOB',\n",
       "        'S53', 'A1P', 'S5F', 'AFK', '3NA', 'ALW', 'ABS', 'MSB', 'AA7',\n",
       "        'FRS', 'ATP', 'GOC', 'AUJ', '1T', 'CBB', '63', 'MAA', 'S5O', 'AKR',\n",
       "        'AVL', 'AKZ', 'NCC', 'AT0', 'AWQ', 'SFB', 'EFM', 'A1W', 'AUH',\n",
       "        'QU', 'QH', 'NFC', 'GUD', 'XH', 'AI3', '39', 'B2K', 'T5B', 'GNO',\n",
       "        'HBC', 'A7G', 'AF', 'AI6', '3L', 'PLP', 'HHT', 'AM1', 'MMP', 'CBC',\n",
       "        'RBF', 'PVL', 'EAB', 'EAW', 'NRP', 'GDH', 'PNF', 'M1B', 'JKF',\n",
       "        'A43', 'QXB', 'AP3', 'PSO', '3ZW', 'CLL', 'PRP', 'AW2', 'AO1',\n",
       "        'XPP', 'EMC', 'B8', 'AE9', 'XX', 'MNS', 'AI7', 'JNG', '36', 'DEP',\n",
       "        'TKB', 'GNS', 'HDB', 'AR3', 'AP5', 'JPP', 'WCE', 'MNT', 'CGB',\n",
       "        'BFR', 'OVL', 'WTI', 'ERL', 'AU2', 'CMF', 'NWP', '3NB', 'A4L',\n",
       "        'B1', 'MH', 'PZO', '4U', 'BZL', 'PPP', 'LAP', 'EL1', 'ABI', 'AET',\n",
       "        'NYT', 'MDB', 'AJ1', 'JFB', '38', 'ITP', 'UNB', 'T2B', 'FOM',\n",
       "        'GES', 'H5B', 'A7L', 'AKX', 'PHP', 'UR', 'YUE', 'MGF', 'MBL',\n",
       "        'CIL', 'WTS', 'YWK', 'EAE', 'BDB', 'WDB', 'DAB', 'S5B', '7P',\n",
       "        'PBO', '4Y', 'HOL', 'NOD', '8D', 'MDD', 'SMW', 'AYH', 'AR1', '5L',\n",
       "        'A1V', 'NCO', 'SSI', 'WBR', 'USE', 'UPB', 'A4R', '8W', 'CLT',\n",
       "        'PCP', 'AUT', 'OPO', 'MJB', 'STY', 'NYR', 'DCL', 'ULB', 'MNE',\n",
       "        'AD6', 'AGT', 'FCN', '1ZA', 'NCF', 'NYP', 'T4D', 'FCB', 'SBM',\n",
       "        'MQ', 'PUO', 'ATU', 'RBL', 'MOI', 'DAZ', 'IBE', 'ABX', 'F3', 'MHS',\n",
       "        'AV0', 'SF1', 'AY', 'C6C', 'A1X', 'SSW', 'NHO', 'NBP', 'TC9',\n",
       "        'LEL', 'WNT', 'PPW', 'WMR', 'BPU', 'RBT', 'PQP', 'AUY', 'OFF',\n",
       "        'C9C', 'WCC', 'HOA', 'MBS', 'AD8', 'YRP', 'LLR', 'FOR', 'C4D',\n",
       "        'ESS', 'NNT', '29', 'AU4', 'C8C', '26', 'NRO', 'T2M', 'MTH', 'XER',\n",
       "        'A3M', 'R5E', '7U', 'PYO', 'ATY', 'BBT', 'A58', 'MRI', 'STT',\n",
       "        'AF5', 'AZ0', 'AH1', 'LWB', 'GBR', 'HPE', 'A1D', '2D', 'EGB',\n",
       "        'TD8', 'CSN', 'WTD', 'HTE', 'A6V', 'E9X', 'AHJ', 'AL9', 'PPL',\n",
       "        'FZE', 'BZS', 'YNO', 'TC6', 'MGS', 'X6', 'DBT', 'Z4', 'EAF', 'UCM',\n",
       "        'HTA', 'SDD', 'NWO', 'GHB', 'LCF', 'R5F', 'MSD', '3P', '7X', 'AJR',\n",
       "        'PMO', 'U9', 'DAX', 'NYG', 'MRT', 'OAD', 'CF', 'AE3', 'X9', 'GCG',\n",
       "        'A1G', '2FW', 'UNS', 'NBD', 'T9B', 'MDM', 'HTI', 'A6X', 'AHM',\n",
       "        'LL', 'RYA', 'PVP', 'AVK', 'AN1', 'ACM', 'MPA', 'MLD', 'CK', 'YHE',\n",
       "        'Z6', 'VV', 'HIA', 'NMP', 'SGG', 'TIL', 'A3R', 'JCC', 'A81', 'AJU',\n",
       "        'AQ8', 'AOJ', 'POC', 'A6L', 'NEP', 'AAW', 'CFC', 'EP1', 'AXB',\n",
       "        'BUC', 'GFC', 'A33', '2JW', 'TTD', 'ANC', 'T4B', 'MAB', 'HBR',\n",
       "        'AI5', 'ALX', 'PXP', 'NCP', 'RBG', 'MXL', 'ENP', 'HIB', 'NNP',\n",
       "        'RHB', 'PMF', 'M35', 'A42', 'QP', 'AP2', 'PLO', 'ALM', 'MIP',\n",
       "        'APA', 'PSP', 'NFG', 'GBA', 'AB7', 'AE8', 'XR', 'MFR', 'AI4',\n",
       "        '2ZW', 'TLB', 'JNC', 'GNB', 'CLD', 'AJ', 'AP1', 'ASP', '3XW',\n",
       "        'AP4', 'PRO', 'NGT', 'MBB', 'FAL', 'MTI', 'CBO', 'FBD', 'VLD',\n",
       "        'EAC', 'YWF', '0E', 'NSP', 'GDL', 'SR5', 'JKB', '4G', 'PFO', 'TK',\n",
       "        '4C', 'PHF', 'PFP', 'BG', 'AY1', 'AI9', 'A49', 'MAC', 'JFC', '37',\n",
       "        'ITB', 'UMB', 'T8B', 'AOB', 'RGF', 'AJ2', 'ZKU', 'AR6', 'PZP',\n",
       "        'RGI', 'MCT', 'CPP', 'FBT', 'QVL', 'YWE', 'YHF', 'A1Q', 'AU3',\n",
       "        'CMB', 'WHD', 'A4M', 'R5B', '7N', 'AML', 'PHO', '4XW', 'PEX',\n",
       "        'NCD', '88', 'LAF', 'EMW', 'YF', 'MEW', 'A50', 'A1U', 'ACT', 'M5F',\n",
       "        'FLB', 'SGF', 'UP5', 'A4Q', 'AR8', 'PBP', 'AUS', 'OMM', 'NYA',\n",
       "        'CRG', 'MME', 'AD5', 'AGP', 'WTA', '1Y', 'TTE', 'WHB', 'TMD',\n",
       "        'DBB', 'RBM', 'PCO', 'C4Z', 'FEF', 'NFO', 'AW4', 'MOA', 'SDM',\n",
       "        'AF2', 'YS', 'MFP', 'AR4', 'NMO', 'DCW', 'HPD', 'CCM', 'WMB',\n",
       "        'UPM', '4V', '8XN', 'AL5', 'ARI', 'HOT', 'PUP', 'EBE', '1NA', 'W0',\n",
       "        'HWA', 'MPE', 'CHB', 'AFE', 'C3D', 'ESB', '23', 'THD', 'Z1B',\n",
       "        'NEO', 'TLD', 'FOA', 'HGB', '7S', 'AP9', 'PQO', 'TW', 'A55', 'MMO',\n",
       "        'AA4', 'MXR', 'AF4', 'C7C', '7FT', '2C', 'EGN', 'T5C', 'ASD',\n",
       "        'WNC', 'WMD', 'TCS', 'ABF', 'A5U', '9Q', 'AL8', 'PYP', 'AUZ',\n",
       "        'OOD', 'MO', 'CLS', 'CC0', 'X0', 'MNG', 'MHE', 'AD9', 'AX1', 'LBB',\n",
       "        'C5D', 'EUB', 'AU5', '27', 'SRT', 'NSO', 'GHS', 'H5F', 'GKS',\n",
       "        'A3N', 'SRB', '7V', 'PTO', 'U7', 'BZT', 'A59', 'MMR', 'IBS', 'PDJ',\n",
       "        'X7', 'GCC', 'LPE', '1E', 'C2E', 'UMD', 'EWB', 'T6B', 'MDR', 'HTC',\n",
       "        'A6W', 'AA3', 'AJJ', 'YRW', 'PMP', 'AS4', 'MX', 'MSE', 'MDL',\n",
       "        'AZ5', 'MB', 'V7', 'NTP', 'MGO', 'THB', 'WTL', 'A3Q', 'AEB', 'AQ5',\n",
       "        'PVO', '5Y', 'N3P', 'AQK', 'CFB', 'MPP', 'EO1', 'GCM', '1H', 'DHA',\n",
       "        'CPD', 'ANT', 'TB2', 'MBM', 'HTM', 'AI1', 'PKP', 'NBB', 'UGG',\n",
       "        'OML', 'FL', 'EAA', 'AZ7', '0A', 'AI2', 'HTB', 'NHP', 'RHS', 'T3B',\n",
       "        '3V', 'K2L', 'AOH', 'PXO', 'AK1', 'NFD', 'CBA'], dtype=object),\n",
       " 'Agriculture': array(['ZC', 'ZS', 'ZL', 'ZM', 'ZW', 'LE', 'KE', 'HE', 'GF', 'GIE', 'AW',\n",
       "        'DC', 'CSC', 'BWF', 'GD', 'XK', 'XC', 'GNF', 'CB', 'GDK', 'ZR',\n",
       "        'ZO', 'BCF', 'CPO', 'DY', 'LBS', 'DRS', 'UME', 'XW', 'UFV', 'UFE',\n",
       "        'DFN', 'UFB', 'TT', 'GIT', 'GFT', 'POG', 'AUW', 'ZCT', 'ZWT',\n",
       "        'MFC', 'YO', 'ZLT', 'LET', 'DRT', 'CJ', 'HET', 'OPF', 'BWH', 'BCH',\n",
       "        'MKC', 'SBT', 'AWT', 'KT', 'KET', 'ZMT', 'BSF'], dtype=object),\n",
       " 'Metals': array(['GC', 'HG', 'SI', 'PL', 'AUP', 'PA', 'MGC', 'HRC', 'EDP', 'AEP',\n",
       "        'HGS', 'MJP', 'TIO', 'UX', 'SIL', 'BUS', 'QO', 'QI', 'ALA', 'ALI',\n",
       "        'A38', 'QC', 'GSR', 'ALB', 'GSP', 'ZNC', 'TIC', 'GCT', 'CUP',\n",
       "        'GCK', 'LED', 'PPS', 'PAT', 'GPS', 'HGF', 'HG0', 'PAM', 'SSP',\n",
       "        'GCD', 'SIT', 'HGT', 'MGT', 'FSF', 'HRP'], dtype=object)}"
      ]
     },
     "execution_count": 12,
     "metadata": {},
     "output_type": "execute_result"
    }
   ],
   "source": [
    "commodity_symbols"
   ]
  },
  {
   "cell_type": "markdown",
   "metadata": {},
   "source": [
    "# Daily price movements"
   ]
  },
  {
   "cell_type": "markdown",
   "metadata": {},
   "source": [
    "## Load kibot commodity daily prices"
   ]
  },
  {
   "cell_type": "code",
   "execution_count": 13,
   "metadata": {
    "ExecuteTime": {
     "end_time": "2019-10-04T18:54:03.762226Z",
     "start_time": "2019-10-04T18:54:03.622246Z"
    }
   },
   "outputs": [
    {
     "data": {
      "text/html": [
       "<div>\n",
       "<style scoped>\n",
       "    .dataframe tbody tr th:only-of-type {\n",
       "        vertical-align: middle;\n",
       "    }\n",
       "\n",
       "    .dataframe tbody tr th {\n",
       "        vertical-align: top;\n",
       "    }\n",
       "\n",
       "    .dataframe thead th {\n",
       "        text-align: right;\n",
       "    }\n",
       "</style>\n",
       "<table border=\"1\" class=\"dataframe\">\n",
       "  <thead>\n",
       "    <tr style=\"text-align: right;\">\n",
       "      <th></th>\n",
       "      <th>Symbol</th>\n",
       "      <th>Link</th>\n",
       "      <th>Description</th>\n",
       "    </tr>\n",
       "    <tr>\n",
       "      <th>All_Futures_Contracts_daily.csv</th>\n",
       "      <th></th>\n",
       "      <th></th>\n",
       "      <th></th>\n",
       "    </tr>\n",
       "  </thead>\n",
       "  <tbody>\n",
       "    <tr>\n",
       "      <td>1</td>\n",
       "      <td>JY</td>\n",
       "      <td>http://api.kibot.com/?action=download&amp;link=151...</td>\n",
       "      <td>CONTINUOUS JAPANESE YEN CONTRACT</td>\n",
       "    </tr>\n",
       "    <tr>\n",
       "      <td>2</td>\n",
       "      <td>JYF18</td>\n",
       "      <td>http://api.kibot.com/?action=download&amp;link=vrv...</td>\n",
       "      <td>JAPANESE YEN JANUARY 2018</td>\n",
       "    </tr>\n",
       "    <tr>\n",
       "      <td>3</td>\n",
       "      <td>JYF19</td>\n",
       "      <td>http://api.kibot.com/?action=download&amp;link=8r8...</td>\n",
       "      <td>JAPANESE YEN JANUARY 2019</td>\n",
       "    </tr>\n",
       "  </tbody>\n",
       "</table>\n",
       "</div>"
      ],
      "text/plain": [
       "                                Symbol  \\\n",
       "All_Futures_Contracts_daily.csv          \n",
       "1                                   JY   \n",
       "2                                JYF18   \n",
       "3                                JYF19   \n",
       "\n",
       "                                                                              Link  \\\n",
       "All_Futures_Contracts_daily.csv                                                      \n",
       "1                                http://api.kibot.com/?action=download&link=151...   \n",
       "2                                http://api.kibot.com/?action=download&link=vrv...   \n",
       "3                                http://api.kibot.com/?action=download&link=8r8...   \n",
       "\n",
       "                                                      Description  \n",
       "All_Futures_Contracts_daily.csv                                    \n",
       "1                                CONTINUOUS JAPANESE YEN CONTRACT  \n",
       "2                                       JAPANESE YEN JANUARY 2018  \n",
       "3                                       JAPANESE YEN JANUARY 2019  "
      ]
     },
     "execution_count": 13,
     "metadata": {},
     "output_type": "execute_result"
    }
   ],
   "source": [
    "daily_metadata = kut.read_metadata2()\n",
    "daily_metadata.head(3)"
   ]
  },
  {
   "cell_type": "code",
   "execution_count": 14,
   "metadata": {
    "ExecuteTime": {
     "end_time": "2019-10-04T18:54:03.781044Z",
     "start_time": "2019-10-04T18:54:03.763864Z"
    }
   },
   "outputs": [
    {
     "data": {
      "text/plain": [
       "14962"
      ]
     },
     "execution_count": 14,
     "metadata": {},
     "output_type": "execute_result"
    }
   ],
   "source": [
    "len(daily_metadata[\"Symbol\"])"
   ]
  },
  {
   "cell_type": "code",
   "execution_count": 15,
   "metadata": {
    "ExecuteTime": {
     "end_time": "2019-10-04T18:54:03.800776Z",
     "start_time": "2019-10-04T18:54:03.782492Z"
    }
   },
   "outputs": [
    {
     "data": {
      "text/plain": [
       "14962"
      ]
     },
     "execution_count": 15,
     "metadata": {},
     "output_type": "execute_result"
    }
   ],
   "source": [
    "daily_metadata[\"Symbol\"].nunique()"
   ]
  },
  {
   "cell_type": "code",
   "execution_count": 16,
   "metadata": {
    "ExecuteTime": {
     "end_time": "2019-10-04T18:54:03.817662Z",
     "start_time": "2019-10-04T18:54:03.802215Z"
    }
   },
   "outputs": [
    {
     "data": {
      "text/plain": [
       "892"
      ]
     },
     "execution_count": 16,
     "metadata": {},
     "output_type": "execute_result"
    }
   ],
   "source": [
    "len(commodity_symbols[\"Energy\"])"
   ]
  },
  {
   "cell_type": "code",
   "execution_count": 17,
   "metadata": {
    "ExecuteTime": {
     "end_time": "2019-10-04T18:54:03.852237Z",
     "start_time": "2019-10-04T18:54:03.819065Z"
    }
   },
   "outputs": [
    {
     "data": {
      "text/plain": [
       "array(['ALM', 'BB', 'BZ', 'CCM', 'CL', 'FRC', 'HO', 'IN', 'JE', 'LL',\n",
       "       'ME', 'MME', 'NG', 'NN', 'PM', 'QG', 'QM', 'RB', 'STS', 'TC', 'TL',\n",
       "       'TM', 'TW'], dtype=object)"
      ]
     },
     "execution_count": 17,
     "metadata": {},
     "output_type": "execute_result"
    }
   ],
   "source": [
    "energy_symbols_kibot = np.intersect1d(\n",
    "    daily_metadata[\"Symbol\"].values, commodity_symbols[\"Energy\"]\n",
    ")\n",
    "energy_symbols_kibot"
   ]
  },
  {
   "cell_type": "code",
   "execution_count": 18,
   "metadata": {
    "ExecuteTime": {
     "end_time": "2019-10-04T18:54:03.869155Z",
     "start_time": "2019-10-04T18:54:03.853673Z"
    }
   },
   "outputs": [
    {
     "data": {
      "text/plain": [
       "23"
      ]
     },
     "execution_count": 18,
     "metadata": {},
     "output_type": "execute_result"
    }
   ],
   "source": [
    "len(energy_symbols_kibot)"
   ]
  },
  {
   "cell_type": "code",
   "execution_count": 19,
   "metadata": {
    "ExecuteTime": {
     "end_time": "2019-10-04T18:54:03.935829Z",
     "start_time": "2019-10-04T18:54:03.870721Z"
    }
   },
   "outputs": [],
   "source": [
    "commodity_symbols_kibot = {\n",
    "    group: np.intersect1d(\n",
    "        daily_metadata[\"Symbol\"].values, commodity_symbols[group]\n",
    "    )\n",
    "    for group in commodity_symbols.keys()\n",
    "}"
   ]
  },
  {
   "cell_type": "code",
   "execution_count": 20,
   "metadata": {
    "ExecuteTime": {
     "end_time": "2019-10-04T18:54:03.952850Z",
     "start_time": "2019-10-04T18:54:03.937308Z"
    }
   },
   "outputs": [
    {
     "data": {
      "text/plain": [
       "{'Energy': array(['ALM', 'BB', 'BZ', 'CCM', 'CL', 'FRC', 'HO', 'IN', 'JE', 'LL',\n",
       "        'ME', 'MME', 'NG', 'NN', 'PM', 'QG', 'QM', 'RB', 'STS', 'TC', 'TL',\n",
       "        'TM', 'TW'], dtype=object),\n",
       " 'Agriculture': array(['GF', 'HE', 'LE', 'TT', 'ZCT', 'ZLT', 'ZMT', 'ZWT'], dtype=object),\n",
       " 'Metals': array(['GC', 'GCK', 'HG', 'HGT', 'MGC', 'PA', 'PL', 'QC', 'QI', 'QO',\n",
       "        'SI', 'SIL', 'UX'], dtype=object)}"
      ]
     },
     "execution_count": 20,
     "metadata": {},
     "output_type": "execute_result"
    }
   ],
   "source": [
    "commodity_symbols_kibot"
   ]
  },
  {
   "cell_type": "code",
   "execution_count": 21,
   "metadata": {
    "ExecuteTime": {
     "end_time": "2019-10-04T18:54:03.970223Z",
     "start_time": "2019-10-04T18:54:03.954236Z"
    },
    "scrolled": true
   },
   "outputs": [
    {
     "data": {
      "text/plain": [
       "{'Energy': 23, 'Agriculture': 8, 'Metals': 13}"
      ]
     },
     "execution_count": 21,
     "metadata": {},
     "output_type": "execute_result"
    }
   ],
   "source": [
    "{\n",
    "    group: len(commodity_symbols_kibot[group])\n",
    "    for group in commodity_symbols_kibot.keys()\n",
    "}"
   ]
  },
  {
   "cell_type": "code",
   "execution_count": 22,
   "metadata": {
    "ExecuteTime": {
     "end_time": "2019-10-04T18:54:03.987796Z",
     "start_time": "2019-10-04T18:54:03.971750Z"
    }
   },
   "outputs": [
    {
     "data": {
      "text/plain": [
       "['ALM', 'BB', 'BZ', 'CCM', 'CL']"
      ]
     },
     "execution_count": 22,
     "metadata": {},
     "output_type": "execute_result"
    }
   ],
   "source": [
    "comm_list = []\n",
    "for comm_group in commodity_symbols_kibot.values():\n",
    "    comm_list.extend(list(comm_group))\n",
    "comm_list[:5]"
   ]
  },
  {
   "cell_type": "code",
   "execution_count": 23,
   "metadata": {
    "ExecuteTime": {
     "end_time": "2019-10-04T18:54:04.197914Z",
     "start_time": "2019-10-04T18:54:03.990759Z"
    }
   },
   "outputs": [
    {
     "data": {
      "text/html": [
       "<div>\n",
       "<style scoped>\n",
       "    .dataframe tbody tr th:only-of-type {\n",
       "        vertical-align: middle;\n",
       "    }\n",
       "\n",
       "    .dataframe tbody tr th {\n",
       "        vertical-align: top;\n",
       "    }\n",
       "\n",
       "    .dataframe thead th {\n",
       "        text-align: right;\n",
       "    }\n",
       "</style>\n",
       "<table border=\"1\" class=\"dataframe\">\n",
       "  <thead>\n",
       "    <tr style=\"text-align: right;\">\n",
       "      <th></th>\n",
       "      <th>open</th>\n",
       "      <th>high</th>\n",
       "      <th>low</th>\n",
       "      <th>close</th>\n",
       "      <th>vol</th>\n",
       "    </tr>\n",
       "    <tr>\n",
       "      <th>date</th>\n",
       "      <th></th>\n",
       "      <th></th>\n",
       "      <th></th>\n",
       "      <th></th>\n",
       "      <th></th>\n",
       "    </tr>\n",
       "  </thead>\n",
       "  <tbody>\n",
       "    <tr>\n",
       "      <td>2019-07-18</td>\n",
       "      <td>56.72</td>\n",
       "      <td>57.45</td>\n",
       "      <td>54.85</td>\n",
       "      <td>55.42</td>\n",
       "      <td>764491</td>\n",
       "    </tr>\n",
       "    <tr>\n",
       "      <td>2019-07-19</td>\n",
       "      <td>55.84</td>\n",
       "      <td>56.49</td>\n",
       "      <td>55.12</td>\n",
       "      <td>55.76</td>\n",
       "      <td>710948</td>\n",
       "    </tr>\n",
       "  </tbody>\n",
       "</table>\n",
       "</div>"
      ],
      "text/plain": [
       "             open   high    low  close     vol\n",
       "date                                          \n",
       "2019-07-18  56.72  57.45  54.85  55.42  764491\n",
       "2019-07-19  55.84  56.49  55.12  55.76  710948"
      ]
     },
     "execution_count": 23,
     "metadata": {},
     "output_type": "execute_result"
    }
   ],
   "source": [
    "file_name = \"/data/kibot/All_Futures_Continuous_Contracts_daily/%s.csv.gz\"\n",
    "\n",
    "daily_price_dict_df = kut.read_multiple_symbol_data(\n",
    "    comm_list, file_name, nrows=None\n",
    ")\n",
    "\n",
    "daily_price_dict_df[\"CL\"].tail(2)"
   ]
  },
  {
   "cell_type": "markdown",
   "metadata": {},
   "source": [
    "## Largest movements for a specific symbol"
   ]
  },
  {
   "cell_type": "code",
   "execution_count": null,
   "metadata": {},
   "outputs": [],
   "source": [
    "# There is a pma.get_top_movements_for_symbol() function that\n",
    "# implements this code and the code below. I am not using it\n",
    "# in this chapter to provide a clearer view of the algorithm."
   ]
  },
  {
   "cell_type": "code",
   "execution_count": 24,
   "metadata": {
    "ExecuteTime": {
     "end_time": "2019-10-04T18:54:04.215781Z",
     "start_time": "2019-10-04T18:54:04.199808Z"
    }
   },
   "outputs": [],
   "source": [
    "symbol = \"CL\""
   ]
  },
  {
   "cell_type": "code",
   "execution_count": 25,
   "metadata": {
    "ExecuteTime": {
     "end_time": "2019-10-04T18:54:04.231616Z",
     "start_time": "2019-10-04T18:54:04.217177Z"
    }
   },
   "outputs": [],
   "source": [
    "cl_prices = daily_price_dict_df[symbol]"
   ]
  },
  {
   "cell_type": "code",
   "execution_count": 26,
   "metadata": {
    "ExecuteTime": {
     "end_time": "2019-10-04T18:54:04.248640Z",
     "start_time": "2019-10-04T18:54:04.233012Z"
    }
   },
   "outputs": [],
   "source": [
    "cl_prices_diff = cl_prices[\"close\"] - cl_prices[\"open\"]"
   ]
  },
  {
   "cell_type": "code",
   "execution_count": 27,
   "metadata": {
    "ExecuteTime": {
     "end_time": "2019-10-04T18:54:04.271977Z",
     "start_time": "2019-10-04T18:54:04.250062Z"
    }
   },
   "outputs": [
    {
     "data": {
      "text/plain": [
       "date\n",
       "1996-08-16         NaN\n",
       "1996-08-19   -1.267490\n",
       "1996-08-20   -1.404842\n",
       "1996-08-21   -0.924066\n",
       "1996-08-22    1.088283\n",
       "dtype: float64"
      ]
     },
     "execution_count": 27,
     "metadata": {},
     "output_type": "execute_result"
    }
   ],
   "source": [
    "zscored_cl_prices_diff = sp.rolling_zscore(cl_prices_diff, TAU)\n",
    "zscored_cl_prices_diff.head()"
   ]
  },
  {
   "cell_type": "code",
   "execution_count": 28,
   "metadata": {
    "ExecuteTime": {
     "end_time": "2019-10-04T18:54:04.287701Z",
     "start_time": "2019-10-04T18:54:04.273382Z"
    }
   },
   "outputs": [],
   "source": [
    "abs_zscored_cl_prices_diff = zscored_cl_prices_diff.abs()"
   ]
  },
  {
   "cell_type": "code",
   "execution_count": 29,
   "metadata": {
    "ExecuteTime": {
     "end_time": "2019-10-04T18:54:04.304811Z",
     "start_time": "2019-10-04T18:54:04.289165Z"
    }
   },
   "outputs": [
    {
     "data": {
      "text/plain": [
       "1.5777263662653875"
      ]
     },
     "execution_count": 29,
     "metadata": {},
     "output_type": "execute_result"
    }
   ],
   "source": [
    "abs_zscored_cl_prices_diff.max()"
   ]
  },
  {
   "cell_type": "code",
   "execution_count": 30,
   "metadata": {
    "ExecuteTime": {
     "end_time": "2019-10-04T18:54:04.322145Z",
     "start_time": "2019-10-04T18:54:04.306202Z"
    }
   },
   "outputs": [],
   "source": [
    "top_100_movements_cl = abs_zscored_cl_prices_diff.sort_values(\n",
    "    ascending=False\n",
    ").head(100)"
   ]
  },
  {
   "cell_type": "code",
   "execution_count": 31,
   "metadata": {
    "ExecuteTime": {
     "end_time": "2019-10-04T18:54:07.331090Z",
     "start_time": "2019-10-04T18:54:04.323618Z"
    }
   },
   "outputs": [
    {
     "data": {
      "image/png": "[encoded data removed]",
      "text/plain": [
       "<Figure size 1440x360 with 1 Axes>"
      ]
     },
     "metadata": {},
     "output_type": "display_data"
    }
   ],
   "source": [
    "top_100_movements_cl.plot(kind=\"bar\")\n",
    "ax = plt.gca()\n",
    "xlabels = [item.get_text()[:10] for item in ax.get_xticklabels()]\n",
    "ax.set_xticklabels(xlabels)\n",
    "plt.title(\n",
    "    f\"Largest price movements in a single day (in z-score space) for {symbol} symbol\"\n",
    ")\n",
    "plt.show()"
   ]
  },
  {
   "cell_type": "code",
   "execution_count": 32,
   "metadata": {
    "ExecuteTime": {
     "end_time": "2019-10-04T18:54:07.719665Z",
     "start_time": "2019-10-04T18:54:07.332615Z"
    }
   },
   "outputs": [
    {
     "data": {
      "image/png": "[encoded data removed]",
      "text/plain": [
       "<Figure size 1440x360 with 1 Axes>"
      ]
     },
     "metadata": {},
     "output_type": "display_data"
    }
   ],
   "source": [
    "top_100_movements_cl.index.year.value_counts(sort=False).plot(kind=\"bar\")\n",
    "plt.title(\"How many of the top-100 price movements occured during each year\")\n",
    "plt.show()"
   ]
  },
  {
   "cell_type": "markdown",
   "metadata": {},
   "source": [
    "## Largest movement for energy group"
   ]
  },
  {
   "cell_type": "code",
   "execution_count": 33,
   "metadata": {
    "ExecuteTime": {
     "end_time": "2019-10-04T18:54:07.737445Z",
     "start_time": "2019-10-04T18:54:07.721242Z"
    }
   },
   "outputs": [],
   "source": [
    "group = \"Energy\""
   ]
  },
  {
   "cell_type": "code",
   "execution_count": 34,
   "metadata": {
    "ExecuteTime": {
     "end_time": "2019-10-04T18:54:07.755584Z",
     "start_time": "2019-10-04T18:54:07.738826Z"
    }
   },
   "outputs": [
    {
     "data": {
      "text/plain": [
       "array(['ALM', 'BB', 'BZ', 'CCM', 'CL', 'FRC', 'HO', 'IN', 'JE', 'LL',\n",
       "       'ME', 'MME', 'NG', 'NN', 'PM', 'QG', 'QM', 'RB', 'STS', 'TC', 'TL',\n",
       "       'TM', 'TW'], dtype=object)"
      ]
     },
     "execution_count": 34,
     "metadata": {},
     "output_type": "execute_result"
    }
   ],
   "source": [
    "commodity_symbols_kibot[group]"
   ]
  },
  {
   "cell_type": "code",
   "execution_count": 35,
   "metadata": {
    "ExecuteTime": {
     "end_time": "2019-10-04T18:54:07.930869Z",
     "start_time": "2019-10-04T18:54:07.757119Z"
    }
   },
   "outputs": [],
   "source": [
    "zscored_diffs = []\n",
    "for symbol in commodity_symbols_kibot[group]:\n",
    "    zscored_diff = pma.get_zscored_prices_diff(daily_price_dict_df, symbol)\n",
    "    zscored_diffs.append(zscored_diff)"
   ]
  },
  {
   "cell_type": "code",
   "execution_count": 36,
   "metadata": {
    "ExecuteTime": {
     "end_time": "2019-10-04T18:54:07.988799Z",
     "start_time": "2019-10-04T18:54:07.932458Z"
    }
   },
   "outputs": [
    {
     "data": {
      "text/html": [
       "<div>\n",
       "<style scoped>\n",
       "    .dataframe tbody tr th:only-of-type {\n",
       "        vertical-align: middle;\n",
       "    }\n",
       "\n",
       "    .dataframe tbody tr th {\n",
       "        vertical-align: top;\n",
       "    }\n",
       "\n",
       "    .dataframe thead th {\n",
       "        text-align: right;\n",
       "    }\n",
       "</style>\n",
       "<table border=\"1\" class=\"dataframe\">\n",
       "  <thead>\n",
       "    <tr style=\"text-align: right;\">\n",
       "      <th></th>\n",
       "      <th>0</th>\n",
       "      <th>1</th>\n",
       "      <th>2</th>\n",
       "      <th>3</th>\n",
       "      <th>4</th>\n",
       "      <th>5</th>\n",
       "      <th>6</th>\n",
       "      <th>7</th>\n",
       "      <th>8</th>\n",
       "      <th>9</th>\n",
       "      <th>...</th>\n",
       "      <th>13</th>\n",
       "      <th>14</th>\n",
       "      <th>15</th>\n",
       "      <th>16</th>\n",
       "      <th>17</th>\n",
       "      <th>18</th>\n",
       "      <th>19</th>\n",
       "      <th>20</th>\n",
       "      <th>21</th>\n",
       "      <th>22</th>\n",
       "    </tr>\n",
       "    <tr>\n",
       "      <th>date</th>\n",
       "      <th></th>\n",
       "      <th></th>\n",
       "      <th></th>\n",
       "      <th></th>\n",
       "      <th></th>\n",
       "      <th></th>\n",
       "      <th></th>\n",
       "      <th></th>\n",
       "      <th></th>\n",
       "      <th></th>\n",
       "      <th></th>\n",
       "      <th></th>\n",
       "      <th></th>\n",
       "      <th></th>\n",
       "      <th></th>\n",
       "      <th></th>\n",
       "      <th></th>\n",
       "      <th></th>\n",
       "      <th></th>\n",
       "      <th></th>\n",
       "      <th></th>\n",
       "    </tr>\n",
       "  </thead>\n",
       "  <tbody>\n",
       "    <tr>\n",
       "      <td>1995-10-27</td>\n",
       "      <td>NaN</td>\n",
       "      <td>NaN</td>\n",
       "      <td>NaN</td>\n",
       "      <td>NaN</td>\n",
       "      <td>NaN</td>\n",
       "      <td>NaN</td>\n",
       "      <td>NaN</td>\n",
       "      <td>NaN</td>\n",
       "      <td>NaN</td>\n",
       "      <td>NaN</td>\n",
       "      <td>...</td>\n",
       "      <td>NaN</td>\n",
       "      <td>NaN</td>\n",
       "      <td>NaN</td>\n",
       "      <td>NaN</td>\n",
       "      <td>NaN</td>\n",
       "      <td>NaN</td>\n",
       "      <td>NaN</td>\n",
       "      <td>NaN</td>\n",
       "      <td>NaN</td>\n",
       "      <td>NaN</td>\n",
       "    </tr>\n",
       "    <tr>\n",
       "      <td>1995-10-30</td>\n",
       "      <td>NaN</td>\n",
       "      <td>NaN</td>\n",
       "      <td>NaN</td>\n",
       "      <td>NaN</td>\n",
       "      <td>NaN</td>\n",
       "      <td>NaN</td>\n",
       "      <td>1.267490</td>\n",
       "      <td>NaN</td>\n",
       "      <td>NaN</td>\n",
       "      <td>NaN</td>\n",
       "      <td>...</td>\n",
       "      <td>NaN</td>\n",
       "      <td>NaN</td>\n",
       "      <td>NaN</td>\n",
       "      <td>NaN</td>\n",
       "      <td>NaN</td>\n",
       "      <td>NaN</td>\n",
       "      <td>NaN</td>\n",
       "      <td>NaN</td>\n",
       "      <td>NaN</td>\n",
       "      <td>NaN</td>\n",
       "    </tr>\n",
       "    <tr>\n",
       "      <td>1995-10-31</td>\n",
       "      <td>NaN</td>\n",
       "      <td>NaN</td>\n",
       "      <td>NaN</td>\n",
       "      <td>NaN</td>\n",
       "      <td>NaN</td>\n",
       "      <td>NaN</td>\n",
       "      <td>1.210127</td>\n",
       "      <td>NaN</td>\n",
       "      <td>NaN</td>\n",
       "      <td>NaN</td>\n",
       "      <td>...</td>\n",
       "      <td>NaN</td>\n",
       "      <td>NaN</td>\n",
       "      <td>NaN</td>\n",
       "      <td>NaN</td>\n",
       "      <td>NaN</td>\n",
       "      <td>NaN</td>\n",
       "      <td>NaN</td>\n",
       "      <td>NaN</td>\n",
       "      <td>NaN</td>\n",
       "      <td>NaN</td>\n",
       "    </tr>\n",
       "    <tr>\n",
       "      <td>1995-11-01</td>\n",
       "      <td>NaN</td>\n",
       "      <td>NaN</td>\n",
       "      <td>NaN</td>\n",
       "      <td>NaN</td>\n",
       "      <td>NaN</td>\n",
       "      <td>NaN</td>\n",
       "      <td>1.284967</td>\n",
       "      <td>NaN</td>\n",
       "      <td>NaN</td>\n",
       "      <td>NaN</td>\n",
       "      <td>...</td>\n",
       "      <td>NaN</td>\n",
       "      <td>NaN</td>\n",
       "      <td>NaN</td>\n",
       "      <td>NaN</td>\n",
       "      <td>NaN</td>\n",
       "      <td>NaN</td>\n",
       "      <td>NaN</td>\n",
       "      <td>NaN</td>\n",
       "      <td>NaN</td>\n",
       "      <td>NaN</td>\n",
       "    </tr>\n",
       "    <tr>\n",
       "      <td>1995-11-02</td>\n",
       "      <td>NaN</td>\n",
       "      <td>NaN</td>\n",
       "      <td>NaN</td>\n",
       "      <td>NaN</td>\n",
       "      <td>NaN</td>\n",
       "      <td>NaN</td>\n",
       "      <td>1.423710</td>\n",
       "      <td>NaN</td>\n",
       "      <td>NaN</td>\n",
       "      <td>NaN</td>\n",
       "      <td>...</td>\n",
       "      <td>NaN</td>\n",
       "      <td>NaN</td>\n",
       "      <td>NaN</td>\n",
       "      <td>NaN</td>\n",
       "      <td>NaN</td>\n",
       "      <td>NaN</td>\n",
       "      <td>NaN</td>\n",
       "      <td>NaN</td>\n",
       "      <td>NaN</td>\n",
       "      <td>NaN</td>\n",
       "    </tr>\n",
       "  </tbody>\n",
       "</table>\n",
       "<p>5 rows × 23 columns</p>\n",
       "</div>"
      ],
      "text/plain": [
       "            0   1   2   3   4   5         6   7   8   9   ...  13  14  15  16  \\\n",
       "date                                                      ...                   \n",
       "1995-10-27 NaN NaN NaN NaN NaN NaN       NaN NaN NaN NaN  ... NaN NaN NaN NaN   \n",
       "1995-10-30 NaN NaN NaN NaN NaN NaN  1.267490 NaN NaN NaN  ... NaN NaN NaN NaN   \n",
       "1995-10-31 NaN NaN NaN NaN NaN NaN  1.210127 NaN NaN NaN  ... NaN NaN NaN NaN   \n",
       "1995-11-01 NaN NaN NaN NaN NaN NaN  1.284967 NaN NaN NaN  ... NaN NaN NaN NaN   \n",
       "1995-11-02 NaN NaN NaN NaN NaN NaN  1.423710 NaN NaN NaN  ... NaN NaN NaN NaN   \n",
       "\n",
       "            17  18  19  20  21  22  \n",
       "date                                \n",
       "1995-10-27 NaN NaN NaN NaN NaN NaN  \n",
       "1995-10-30 NaN NaN NaN NaN NaN NaN  \n",
       "1995-10-31 NaN NaN NaN NaN NaN NaN  \n",
       "1995-11-01 NaN NaN NaN NaN NaN NaN  \n",
       "1995-11-02 NaN NaN NaN NaN NaN NaN  \n",
       "\n",
       "[5 rows x 23 columns]"
      ]
     },
     "execution_count": 36,
     "metadata": {},
     "output_type": "execute_result"
    }
   ],
   "source": [
    "zscored_diffs = pd.concat(zscored_diffs, axis=1)\n",
    "zscored_diffs.head()"
   ]
  },
  {
   "cell_type": "code",
   "execution_count": 37,
   "metadata": {
    "ExecuteTime": {
     "end_time": "2019-10-04T18:54:08.008349Z",
     "start_time": "2019-10-04T18:54:07.990355Z"
    }
   },
   "outputs": [],
   "source": [
    "mean_zscored_diffs = zscored_diffs.mean(axis=1, skipna=True)"
   ]
  },
  {
   "cell_type": "code",
   "execution_count": 38,
   "metadata": {
    "ExecuteTime": {
     "end_time": "2019-10-04T18:54:08.026518Z",
     "start_time": "2019-10-04T18:54:08.009822Z"
    }
   },
   "outputs": [
    {
     "data": {
      "text/plain": [
       "date\n",
       "1995-10-27         NaN\n",
       "1995-10-30    1.267490\n",
       "1995-10-31    1.210127\n",
       "1995-11-01    1.284967\n",
       "1995-11-02    1.423710\n",
       "dtype: float64"
      ]
     },
     "execution_count": 38,
     "metadata": {},
     "output_type": "execute_result"
    }
   ],
   "source": [
    "mean_zscored_diffs.head()"
   ]
  },
  {
   "cell_type": "code",
   "execution_count": 39,
   "metadata": {
    "ExecuteTime": {
     "end_time": "2019-10-04T18:54:08.044734Z",
     "start_time": "2019-10-04T18:54:08.027975Z"
    }
   },
   "outputs": [
    {
     "data": {
      "text/plain": [
       "date\n",
       "2019-07-15    0.686616\n",
       "2019-07-16    0.897046\n",
       "2019-07-17    0.592995\n",
       "2019-07-18    0.868561\n",
       "2019-07-19    0.899710\n",
       "dtype: float64"
      ]
     },
     "execution_count": 39,
     "metadata": {},
     "output_type": "execute_result"
    }
   ],
   "source": [
    "mean_zscored_diffs.tail()"
   ]
  },
  {
   "cell_type": "code",
   "execution_count": 40,
   "metadata": {
    "ExecuteTime": {
     "end_time": "2019-10-04T18:54:08.064981Z",
     "start_time": "2019-10-04T18:54:08.046236Z"
    }
   },
   "outputs": [
    {
     "data": {
      "text/plain": [
       "date\n",
       "2002-01-21    1.561397\n",
       "1999-02-15    1.531754\n",
       "1998-05-25    1.498766\n",
       "1997-06-25    1.496382\n",
       "1998-03-18    1.478831\n",
       "                ...   \n",
       "1997-08-12    1.228262\n",
       "1998-11-02    1.227122\n",
       "1998-04-22    1.226375\n",
       "2002-05-15    1.224227\n",
       "1998-09-17    1.221376\n",
       "Length: 100, dtype: float64"
      ]
     },
     "execution_count": 40,
     "metadata": {},
     "output_type": "execute_result"
    }
   ],
   "source": [
    "mean_zscored_diffs.sort_values(ascending=False).head(100)"
   ]
  },
  {
   "cell_type": "markdown",
   "metadata": {},
   "source": [
    "## Largest movements for each group"
   ]
  },
  {
   "cell_type": "code",
   "execution_count": 41,
   "metadata": {
    "ExecuteTime": {
     "end_time": "2019-10-04T18:54:08.320115Z",
     "start_time": "2019-10-04T18:54:08.066392Z"
    }
   },
   "outputs": [],
   "source": [
    "top_100_movements_by_group = {\n",
    "    group: pma.get_top_movements_by_group(\n",
    "        daily_price_dict_df, commodity_symbols_kibot, group\n",
    "    )\n",
    "    for group in commodity_symbols_kibot.keys()\n",
    "}"
   ]
  },
  {
   "cell_type": "code",
   "execution_count": 46,
   "metadata": {
    "ExecuteTime": {
     "end_time": "2019-10-04T19:00:44.056966Z",
     "start_time": "2019-10-04T19:00:44.038857Z"
    }
   },
   "outputs": [
    {
     "data": {
      "text/plain": [
       "dict_keys(['Energy', 'Agriculture', 'Metals'])"
      ]
     },
     "execution_count": 46,
     "metadata": {},
     "output_type": "execute_result"
    }
   ],
   "source": [
    "top_100_movements_by_group.keys()"
   ]
  },
  {
   "cell_type": "code",
   "execution_count": 49,
   "metadata": {
    "ExecuteTime": {
     "end_time": "2019-10-04T19:01:18.479984Z",
     "start_time": "2019-10-04T19:01:18.460376Z"
    }
   },
   "outputs": [
    {
     "data": {
      "text/plain": [
       "date\n",
       "2002-01-21    1.561397\n",
       "1999-02-15    1.531754\n",
       "1998-05-25    1.498766\n",
       "1997-06-25    1.496382\n",
       "1998-03-18    1.478831\n",
       "dtype: float64"
      ]
     },
     "execution_count": 49,
     "metadata": {},
     "output_type": "execute_result"
    }
   ],
   "source": [
    "top_100_movements_by_group[\"Energy\"].head()"
   ]
  },
  {
   "cell_type": "code",
   "execution_count": 48,
   "metadata": {
    "ExecuteTime": {
     "end_time": "2019-10-04T19:01:11.572692Z",
     "start_time": "2019-10-04T19:01:11.552443Z"
    }
   },
   "outputs": [
    {
     "data": {
      "text/plain": [
       "date\n",
       "2017-01-02    1.442423\n",
       "2014-05-26    1.422618\n",
       "2017-01-16    1.413989\n",
       "2005-01-03    1.402492\n",
       "2014-02-03    1.395559\n",
       "dtype: float64"
      ]
     },
     "execution_count": 48,
     "metadata": {},
     "output_type": "execute_result"
    }
   ],
   "source": [
    "top_100_movements_by_group[\"Agriculture\"].head()"
   ]
  },
  {
   "cell_type": "code",
   "execution_count": 47,
   "metadata": {
    "ExecuteTime": {
     "end_time": "2019-10-04T19:01:03.121149Z",
     "start_time": "2019-10-04T19:01:03.101486Z"
    }
   },
   "outputs": [
    {
     "data": {
      "text/plain": [
       "date\n",
       "1994-01-25    1.585327\n",
       "1994-02-14    1.581903\n",
       "2011-11-24    1.580149\n",
       "2014-07-04    1.576312\n",
       "2011-01-17    1.559374\n",
       "dtype: float64"
      ]
     },
     "execution_count": 47,
     "metadata": {},
     "output_type": "execute_result"
    }
   ],
   "source": [
    "top_100_movements_by_group[\"Metals\"].head()"
   ]
  },
  {
   "cell_type": "markdown",
   "metadata": {},
   "source": [
    "# 5-minute price movements"
   ]
  },
  {
   "cell_type": "markdown",
   "metadata": {},
   "source": [
    "## Load 1-minute prices"
   ]
  },
  {
   "cell_type": "code",
   "execution_count": 51,
   "metadata": {
    "ExecuteTime": {
     "end_time": "2019-10-04T19:03:43.291028Z",
     "start_time": "2019-10-04T19:03:43.157672Z"
    }
   },
   "outputs": [],
   "source": [
    "minutely_metadata = kut.read_metadata1()"
   ]
  },
  {
   "cell_type": "code",
   "execution_count": 52,
   "metadata": {
    "ExecuteTime": {
     "end_time": "2019-10-04T19:03:50.162019Z",
     "start_time": "2019-10-04T19:03:50.138786Z"
    },
    "scrolled": true
   },
   "outputs": [
    {
     "data": {
      "text/html": [
       "<div>\n",
       "<style scoped>\n",
       "    .dataframe tbody tr th:only-of-type {\n",
       "        vertical-align: middle;\n",
       "    }\n",
       "\n",
       "    .dataframe tbody tr th {\n",
       "        vertical-align: top;\n",
       "    }\n",
       "\n",
       "    .dataframe thead th {\n",
       "        text-align: right;\n",
       "    }\n",
       "</style>\n",
       "<table border=\"1\" class=\"dataframe\">\n",
       "  <thead>\n",
       "    <tr style=\"text-align: right;\">\n",
       "      <th></th>\n",
       "      <th>Symbol</th>\n",
       "      <th>Link</th>\n",
       "      <th>Description</th>\n",
       "    </tr>\n",
       "    <tr>\n",
       "      <th>All_Futures_Contracts_1min.csv</th>\n",
       "      <th></th>\n",
       "      <th></th>\n",
       "      <th></th>\n",
       "    </tr>\n",
       "  </thead>\n",
       "  <tbody>\n",
       "    <tr>\n",
       "      <td>1</td>\n",
       "      <td>JY</td>\n",
       "      <td>http://api.kibot.com/?action=download&amp;link=151...</td>\n",
       "      <td>CONTINUOUS JAPANESE YEN CONTRACT</td>\n",
       "    </tr>\n",
       "    <tr>\n",
       "      <td>2</td>\n",
       "      <td>JYF18</td>\n",
       "      <td>http://api.kibot.com/?action=download&amp;link=vrv...</td>\n",
       "      <td>JAPANESE YEN JANUARY 2018</td>\n",
       "    </tr>\n",
       "    <tr>\n",
       "      <td>3</td>\n",
       "      <td>JYF19</td>\n",
       "      <td>http://api.kibot.com/?action=download&amp;link=8r8...</td>\n",
       "      <td>JAPANESE YEN JANUARY 2019</td>\n",
       "    </tr>\n",
       "    <tr>\n",
       "      <td>4</td>\n",
       "      <td>JYG18</td>\n",
       "      <td>http://api.kibot.com/?action=download&amp;link=vrv...</td>\n",
       "      <td>JAPANESE YEN FEBRUARY 2018</td>\n",
       "    </tr>\n",
       "    <tr>\n",
       "      <td>5</td>\n",
       "      <td>JYG19</td>\n",
       "      <td>http://api.kibot.com/?action=download&amp;link=8r8...</td>\n",
       "      <td>JAPANESE YEN FEBRUARY 2019</td>\n",
       "    </tr>\n",
       "  </tbody>\n",
       "</table>\n",
       "</div>"
      ],
      "text/plain": [
       "                               Symbol  \\\n",
       "All_Futures_Contracts_1min.csv          \n",
       "1                                  JY   \n",
       "2                               JYF18   \n",
       "3                               JYF19   \n",
       "4                               JYG18   \n",
       "5                               JYG19   \n",
       "\n",
       "                                                                             Link  \\\n",
       "All_Futures_Contracts_1min.csv                                                      \n",
       "1                               http://api.kibot.com/?action=download&link=151...   \n",
       "2                               http://api.kibot.com/?action=download&link=vrv...   \n",
       "3                               http://api.kibot.com/?action=download&link=8r8...   \n",
       "4                               http://api.kibot.com/?action=download&link=vrv...   \n",
       "5                               http://api.kibot.com/?action=download&link=8r8...   \n",
       "\n",
       "                                                     Description  \n",
       "All_Futures_Contracts_1min.csv                                    \n",
       "1                               CONTINUOUS JAPANESE YEN CONTRACT  \n",
       "2                                      JAPANESE YEN JANUARY 2018  \n",
       "3                                      JAPANESE YEN JANUARY 2019  \n",
       "4                                     JAPANESE YEN FEBRUARY 2018  \n",
       "5                                     JAPANESE YEN FEBRUARY 2019  "
      ]
     },
     "execution_count": 52,
     "metadata": {},
     "output_type": "execute_result"
    }
   ],
   "source": [
    "minutely_metadata.head()"
   ]
  },
  {
   "cell_type": "code",
   "execution_count": 59,
   "metadata": {
    "ExecuteTime": {
     "end_time": "2019-10-04T19:10:16.479454Z",
     "start_time": "2019-10-04T19:10:16.459848Z"
    }
   },
   "outputs": [
    {
     "data": {
      "text/plain": [
       "True"
      ]
     },
     "execution_count": 59,
     "metadata": {},
     "output_type": "execute_result"
    }
   ],
   "source": [
    "np.array_equal(\n",
    "    minutely_metadata[\"Symbol\"].values, minutely_metadata[\"Symbol\"].values\n",
    ")"
   ]
  },
  {
   "cell_type": "code",
   "execution_count": 61,
   "metadata": {
    "ExecuteTime": {
     "end_time": "2019-10-04T20:40:12.585301Z",
     "start_time": "2019-10-04T19:18:24.531626Z"
    }
   },
   "outputs": [
    {
     "name": "stderr",
     "output_type": "stream",
     "text": [
      "/home/julia/.conda/envs/p1_develop/lib/python3.6/site-packages/tqdm/autonotebook.py:17: TqdmExperimentalWarning: Using `tqdm.autonotebook.tqdm` in notebook mode. Use `tqdm.tqdm` instead to force console mode (e.g. in jupyter console)\n",
      "  \" (e.g. in jupyter console)\", TqdmExperimentalWarning)\n"
     ]
    },
    {
     "data": {
      "application/vnd.jupyter.widget-view+json": {
       "model_id": "c79315e8ada441b081711512aa36395e",
       "version_major": 2,
       "version_minor": 0
      },
      "text/plain": [
       "HBox(children=(IntProgress(value=0, max=44), HTML(value='')))"
      ]
     },
     "metadata": {},
     "output_type": "display_data"
    },
    {
     "name": "stdout",
     "output_type": "stream",
     "text": [
      "\n"
     ]
    },
    {
     "data": {
      "text/html": [
       "<div>\n",
       "<style scoped>\n",
       "    .dataframe tbody tr th:only-of-type {\n",
       "        vertical-align: middle;\n",
       "    }\n",
       "\n",
       "    .dataframe tbody tr th {\n",
       "        vertical-align: top;\n",
       "    }\n",
       "\n",
       "    .dataframe thead th {\n",
       "        text-align: right;\n",
       "    }\n",
       "</style>\n",
       "<table border=\"1\" class=\"dataframe\">\n",
       "  <thead>\n",
       "    <tr style=\"text-align: right;\">\n",
       "      <th></th>\n",
       "      <th>open</th>\n",
       "      <th>high</th>\n",
       "      <th>low</th>\n",
       "      <th>close</th>\n",
       "      <th>vol</th>\n",
       "      <th>time</th>\n",
       "    </tr>\n",
       "    <tr>\n",
       "      <th>datetime</th>\n",
       "      <th></th>\n",
       "      <th></th>\n",
       "      <th></th>\n",
       "      <th></th>\n",
       "      <th></th>\n",
       "      <th></th>\n",
       "    </tr>\n",
       "  </thead>\n",
       "  <tbody>\n",
       "    <tr>\n",
       "      <td>2019-07-19 16:58:00</td>\n",
       "      <td>55.89</td>\n",
       "      <td>55.93</td>\n",
       "      <td>55.88</td>\n",
       "      <td>55.92</td>\n",
       "      <td>49</td>\n",
       "      <td>16:58:00</td>\n",
       "    </tr>\n",
       "    <tr>\n",
       "      <td>2019-07-19 16:59:00</td>\n",
       "      <td>55.91</td>\n",
       "      <td>55.92</td>\n",
       "      <td>55.86</td>\n",
       "      <td>55.86</td>\n",
       "      <td>131</td>\n",
       "      <td>16:59:00</td>\n",
       "    </tr>\n",
       "  </tbody>\n",
       "</table>\n",
       "</div>"
      ],
      "text/plain": [
       "                      open   high    low  close  vol      time\n",
       "datetime                                                      \n",
       "2019-07-19 16:58:00  55.89  55.93  55.88  55.92   49  16:58:00\n",
       "2019-07-19 16:59:00  55.91  55.92  55.86  55.86  131  16:59:00"
      ]
     },
     "execution_count": 61,
     "metadata": {},
     "output_type": "execute_result"
    }
   ],
   "source": [
    "file_name = \"/data/kibot/All_Futures_Continuous_Contracts_1min/%s.csv.gz\"\n",
    "\n",
    "minutely_price_dict_df = kut.read_multiple_symbol_data(\n",
    "    comm_list, file_name, nrows=None\n",
    ")\n",
    "\n",
    "minutely_price_dict_df[\"CL\"].tail(2)"
   ]
  },
  {
   "cell_type": "code",
   "execution_count": 62,
   "metadata": {
    "ExecuteTime": {
     "end_time": "2019-10-07T10:38:29.450854Z",
     "start_time": "2019-10-07T10:38:29.425219Z"
    }
   },
   "outputs": [
    {
     "data": {
      "text/html": [
       "<div>\n",
       "<style scoped>\n",
       "    .dataframe tbody tr th:only-of-type {\n",
       "        vertical-align: middle;\n",
       "    }\n",
       "\n",
       "    .dataframe tbody tr th {\n",
       "        vertical-align: top;\n",
       "    }\n",
       "\n",
       "    .dataframe thead th {\n",
       "        text-align: right;\n",
       "    }\n",
       "</style>\n",
       "<table border=\"1\" class=\"dataframe\">\n",
       "  <thead>\n",
       "    <tr style=\"text-align: right;\">\n",
       "      <th></th>\n",
       "      <th>open</th>\n",
       "      <th>high</th>\n",
       "      <th>low</th>\n",
       "      <th>close</th>\n",
       "      <th>vol</th>\n",
       "      <th>time</th>\n",
       "    </tr>\n",
       "    <tr>\n",
       "      <th>datetime</th>\n",
       "      <th></th>\n",
       "      <th></th>\n",
       "      <th></th>\n",
       "      <th></th>\n",
       "      <th></th>\n",
       "      <th></th>\n",
       "    </tr>\n",
       "  </thead>\n",
       "  <tbody>\n",
       "    <tr>\n",
       "      <td>2009-09-27 18:00:00</td>\n",
       "      <td>66.15</td>\n",
       "      <td>66.35</td>\n",
       "      <td>66.15</td>\n",
       "      <td>66.32</td>\n",
       "      <td>88</td>\n",
       "      <td>18:00:00</td>\n",
       "    </tr>\n",
       "    <tr>\n",
       "      <td>2009-09-27 18:01:00</td>\n",
       "      <td>66.36</td>\n",
       "      <td>66.49</td>\n",
       "      <td>66.35</td>\n",
       "      <td>66.37</td>\n",
       "      <td>124</td>\n",
       "      <td>18:01:00</td>\n",
       "    </tr>\n",
       "    <tr>\n",
       "      <td>2009-09-27 18:02:00</td>\n",
       "      <td>66.37</td>\n",
       "      <td>66.41</td>\n",
       "      <td>66.37</td>\n",
       "      <td>66.37</td>\n",
       "      <td>25</td>\n",
       "      <td>18:02:00</td>\n",
       "    </tr>\n",
       "    <tr>\n",
       "      <td>2009-09-27 18:03:00</td>\n",
       "      <td>66.37</td>\n",
       "      <td>66.42</td>\n",
       "      <td>66.37</td>\n",
       "      <td>66.42</td>\n",
       "      <td>33</td>\n",
       "      <td>18:03:00</td>\n",
       "    </tr>\n",
       "    <tr>\n",
       "      <td>2009-09-27 18:04:00</td>\n",
       "      <td>66.39</td>\n",
       "      <td>66.46</td>\n",
       "      <td>66.39</td>\n",
       "      <td>66.46</td>\n",
       "      <td>14</td>\n",
       "      <td>18:04:00</td>\n",
       "    </tr>\n",
       "  </tbody>\n",
       "</table>\n",
       "</div>"
      ],
      "text/plain": [
       "                      open   high    low  close  vol      time\n",
       "datetime                                                      \n",
       "2009-09-27 18:00:00  66.15  66.35  66.15  66.32   88  18:00:00\n",
       "2009-09-27 18:01:00  66.36  66.49  66.35  66.37  124  18:01:00\n",
       "2009-09-27 18:02:00  66.37  66.41  66.37  66.37   25  18:02:00\n",
       "2009-09-27 18:03:00  66.37  66.42  66.37  66.42   33  18:03:00\n",
       "2009-09-27 18:04:00  66.39  66.46  66.39  66.46   14  18:04:00"
      ]
     },
     "execution_count": 62,
     "metadata": {},
     "output_type": "execute_result"
    }
   ],
   "source": [
    "minutely_price_dict_df[\"CL\"].head()"
   ]
  },
  {
   "cell_type": "code",
   "execution_count": 68,
   "metadata": {
    "ExecuteTime": {
     "end_time": "2019-10-07T10:41:34.399502Z",
     "start_time": "2019-10-07T10:41:28.143234Z"
    }
   },
   "outputs": [
    {
     "data": {
      "application/vnd.jupyter.widget-view+json": {
       "model_id": "d6887928002342e280ba1b0cc4e77240",
       "version_major": 2,
       "version_minor": 0
      },
      "text/plain": [
       "HBox(children=(IntProgress(value=0, max=44), HTML(value='')))"
      ]
     },
     "metadata": {},
     "output_type": "display_data"
    },
    {
     "name": "stdout",
     "output_type": "stream",
     "text": [
      "\n"
     ]
    }
   ],
   "source": [
    "five_min_price_dict_df = {\n",
    "    symbol: minutely_price_dict_df[symbol].resample(\"5Min\").sum()\n",
    "    for symbol in minutely_price_dict_df.keys()\n",
    "}"
   ]
  },
  {
   "cell_type": "markdown",
   "metadata": {},
   "source": [
    "## Top movements for a symbol"
   ]
  },
  {
   "cell_type": "code",
   "execution_count": 75,
   "metadata": {
    "ExecuteTime": {
     "end_time": "2019-10-07T10:46:58.971891Z",
     "start_time": "2019-10-07T10:46:58.954944Z"
    }
   },
   "outputs": [],
   "source": [
    "symbol = \"CL\""
   ]
  },
  {
   "cell_type": "code",
   "execution_count": 72,
   "metadata": {
    "ExecuteTime": {
     "end_time": "2019-10-07T10:46:13.058868Z",
     "start_time": "2019-10-07T10:46:12.716133Z"
    }
   },
   "outputs": [],
   "source": [
    "top_100_movements_cl_5_min = pma.get_top_movements_for_symbol(\n",
    "    five_min_price_dict_df, symbol\n",
    ")"
   ]
  },
  {
   "cell_type": "code",
   "execution_count": 70,
   "metadata": {
    "ExecuteTime": {
     "end_time": "2019-10-07T10:42:00.484462Z",
     "start_time": "2019-10-07T10:42:00.459190Z"
    }
   },
   "outputs": [
    {
     "data": {
      "text/html": [
       "<div>\n",
       "<style scoped>\n",
       "    .dataframe tbody tr th:only-of-type {\n",
       "        vertical-align: middle;\n",
       "    }\n",
       "\n",
       "    .dataframe tbody tr th {\n",
       "        vertical-align: top;\n",
       "    }\n",
       "\n",
       "    .dataframe thead th {\n",
       "        text-align: right;\n",
       "    }\n",
       "</style>\n",
       "<table border=\"1\" class=\"dataframe\">\n",
       "  <thead>\n",
       "    <tr style=\"text-align: right;\">\n",
       "      <th></th>\n",
       "      <th>open</th>\n",
       "      <th>high</th>\n",
       "      <th>low</th>\n",
       "      <th>close</th>\n",
       "      <th>vol</th>\n",
       "    </tr>\n",
       "    <tr>\n",
       "      <th>datetime</th>\n",
       "      <th></th>\n",
       "      <th></th>\n",
       "      <th></th>\n",
       "      <th></th>\n",
       "      <th></th>\n",
       "    </tr>\n",
       "  </thead>\n",
       "  <tbody>\n",
       "    <tr>\n",
       "      <td>2009-09-27 18:00:00</td>\n",
       "      <td>331.64</td>\n",
       "      <td>332.13</td>\n",
       "      <td>331.63</td>\n",
       "      <td>331.94</td>\n",
       "      <td>284</td>\n",
       "    </tr>\n",
       "    <tr>\n",
       "      <td>2009-09-27 18:05:00</td>\n",
       "      <td>331.87</td>\n",
       "      <td>331.96</td>\n",
       "      <td>331.74</td>\n",
       "      <td>331.88</td>\n",
       "      <td>49</td>\n",
       "    </tr>\n",
       "    <tr>\n",
       "      <td>2009-09-27 18:10:00</td>\n",
       "      <td>199.09</td>\n",
       "      <td>199.23</td>\n",
       "      <td>199.09</td>\n",
       "      <td>199.12</td>\n",
       "      <td>64</td>\n",
       "    </tr>\n",
       "    <tr>\n",
       "      <td>2009-09-27 18:15:00</td>\n",
       "      <td>331.91</td>\n",
       "      <td>331.96</td>\n",
       "      <td>331.83</td>\n",
       "      <td>331.87</td>\n",
       "      <td>47</td>\n",
       "    </tr>\n",
       "    <tr>\n",
       "      <td>2009-09-27 18:20:00</td>\n",
       "      <td>331.75</td>\n",
       "      <td>331.83</td>\n",
       "      <td>331.62</td>\n",
       "      <td>331.73</td>\n",
       "      <td>77</td>\n",
       "    </tr>\n",
       "  </tbody>\n",
       "</table>\n",
       "</div>"
      ],
      "text/plain": [
       "                       open    high     low   close  vol\n",
       "datetime                                                \n",
       "2009-09-27 18:00:00  331.64  332.13  331.63  331.94  284\n",
       "2009-09-27 18:05:00  331.87  331.96  331.74  331.88   49\n",
       "2009-09-27 18:10:00  199.09  199.23  199.09  199.12   64\n",
       "2009-09-27 18:15:00  331.91  331.96  331.83  331.87   47\n",
       "2009-09-27 18:20:00  331.75  331.83  331.62  331.73   77"
      ]
     },
     "execution_count": 70,
     "metadata": {},
     "output_type": "execute_result"
    }
   ],
   "source": [
    "top_100_movements_cl_5_min[\"CL\"].head()"
   ]
  },
  {
   "cell_type": "code",
   "execution_count": 76,
   "metadata": {
    "ExecuteTime": {
     "end_time": "2019-10-07T10:47:04.546187Z",
     "start_time": "2019-10-07T10:47:00.758014Z"
    }
   },
   "outputs": [
    {
     "data": {
      "image/png": "[encoded data removed]",
      "text/plain": [
       "<Figure size 1440x360 with 1 Axes>"
      ]
     },
     "metadata": {},
     "output_type": "display_data"
    }
   ],
   "source": [
    "top_100_movements_cl_5_min.plot(kind=\"bar\")\n",
    "plt.title(\n",
    "    f\"Largest price movements in in a 5 min interval (in z-score space) for {symbol} symbol\"\n",
    ")\n",
    "plt.show()"
   ]
  },
  {
   "cell_type": "code",
   "execution_count": 88,
   "metadata": {
    "ExecuteTime": {
     "end_time": "2019-10-07T10:52:16.022731Z",
     "start_time": "2019-10-07T10:52:16.002503Z"
    }
   },
   "outputs": [
    {
     "name": "stdout",
     "output_type": "stream",
     "text": [
      "Top 100 of the price movements for CL occur at the following time:\n",
      "18:00:00    92\n",
      "18:05:00     6\n",
      "17:00:00     1\n",
      "14:25:00     1\n",
      "Name: datetime, dtype: int64\n"
     ]
    }
   ],
   "source": [
    "print(f\"Top 100 of the price movements for {symbol} occur at the following time:\")\n",
    "print(pd.Series(top_100_movements_cl_5_min.index).dt.time.value_counts())"
   ]
  },
  {
   "cell_type": "markdown",
   "metadata": {},
   "source": [
    "## Largest movements for energy group"
   ]
  },
  {
   "cell_type": "code",
   "execution_count": 89,
   "metadata": {
    "ExecuteTime": {
     "end_time": "2019-10-07T11:00:50.404848Z",
     "start_time": "2019-10-07T11:00:50.387829Z"
    }
   },
   "outputs": [],
   "source": [
    "group = \"Energy\""
   ]
  },
  {
   "cell_type": "code",
   "execution_count": 90,
   "metadata": {
    "ExecuteTime": {
     "end_time": "2019-10-07T11:00:50.692104Z",
     "start_time": "2019-10-07T11:00:50.674077Z"
    }
   },
   "outputs": [
    {
     "data": {
      "text/plain": [
       "array(['ALM', 'BB', 'BZ', 'CCM', 'CL', 'FRC', 'HO', 'IN', 'JE', 'LL',\n",
       "       'ME', 'MME', 'NG', 'NN', 'PM', 'QG', 'QM', 'RB', 'STS', 'TC', 'TL',\n",
       "       'TM', 'TW'], dtype=object)"
      ]
     },
     "execution_count": 90,
     "metadata": {},
     "output_type": "execute_result"
    }
   ],
   "source": [
    "commodity_symbols_kibot[group]"
   ]
  },
  {
   "cell_type": "code",
   "execution_count": 92,
   "metadata": {
    "ExecuteTime": {
     "end_time": "2019-10-07T11:01:53.330264Z",
     "start_time": "2019-10-07T11:01:45.781640Z"
    }
   },
   "outputs": [
    {
     "data": {
      "text/plain": [
       "datetime\n",
       "2011-11-30 08:00:00    1.369374\n",
       "2009-09-27 18:05:00    1.267490\n",
       "2012-12-07 08:30:00    1.193664\n",
       "2015-10-23 07:15:00    1.189881\n",
       "2012-03-09 08:30:00    1.153237\n",
       "                         ...   \n",
       "2011-08-05 11:25:00    0.944079\n",
       "2010-09-03 08:30:00    0.942464\n",
       "2011-08-05 09:50:00    0.941338\n",
       "2015-01-14 08:30:00    0.941022\n",
       "2013-04-05 08:35:00    0.940199\n",
       "Length: 100, dtype: float64"
      ]
     },
     "execution_count": 92,
     "metadata": {},
     "output_type": "execute_result"
    }
   ],
   "source": [
    "pma.get_top_movements_by_group(\n",
    "    five_min_price_dict_df, commodity_symbols_kibot, group\n",
    ")"
   ]
  },
  {
   "cell_type": "markdown",
   "metadata": {},
   "source": [
    "## Largest movements for each group"
   ]
  },
  {
   "cell_type": "code",
   "execution_count": 94,
   "metadata": {
    "ExecuteTime": {
     "end_time": "2019-10-07T11:03:24.499766Z",
     "start_time": "2019-10-07T11:03:12.989518Z"
    }
   },
   "outputs": [
    {
     "data": {
      "application/vnd.jupyter.widget-view+json": {
       "model_id": "616c002033bf4f0fb5420710bfd71c1a",
       "version_major": 2,
       "version_minor": 0
      },
      "text/plain": [
       "HBox(children=(IntProgress(value=0, max=3), HTML(value='')))"
      ]
     },
     "metadata": {},
     "output_type": "display_data"
    },
    {
     "name": "stdout",
     "output_type": "stream",
     "text": [
      "\n"
     ]
    }
   ],
   "source": [
    "top_100_5_min_movements_by_group = {\n",
    "    group: pma.get_top_movements_by_group(\n",
    "        five_min_price_dict_df, commodity_symbols_kibot, group\n",
    "    )\n",
    "    for group in tqdm(commodity_symbols_kibot.keys())\n",
    "}"
   ]
  },
  {
   "cell_type": "code",
   "execution_count": 96,
   "metadata": {
    "ExecuteTime": {
     "end_time": "2019-10-07T11:05:02.418272Z",
     "start_time": "2019-10-07T11:05:02.396907Z"
    }
   },
   "outputs": [
    {
     "data": {
      "text/plain": [
       "{'Energy': datetime\n",
       " 2011-11-30 08:00:00    1.369374\n",
       " 2009-09-27 18:05:00    1.267490\n",
       " 2012-12-07 08:30:00    1.193664\n",
       " 2015-10-23 07:15:00    1.189881\n",
       " 2012-03-09 08:30:00    1.153237\n",
       " dtype: float64, 'Agriculture': datetime\n",
       " 2012-07-30 10:05:00    1.594206\n",
       " 2010-09-13 10:05:00    1.594206\n",
       " 2019-07-19 14:10:00    1.594206\n",
       " 2014-08-04 10:05:00    1.594206\n",
       " 2014-12-02 09:00:00    1.594206\n",
       " dtype: float64, 'Metals': datetime\n",
       " 2013-04-05 08:30:00    1.415573\n",
       " 2013-03-08 08:30:00    1.413716\n",
       " 2013-01-07 08:20:00    1.410594\n",
       " 2019-07-19 10:05:00    1.401617\n",
       " 2013-10-01 08:00:00    1.393805\n",
       " dtype: float64}"
      ]
     },
     "execution_count": 96,
     "metadata": {},
     "output_type": "execute_result"
    }
   ],
   "source": [
    "{\n",
    "    group: head_prices_group.head()\n",
    "    for group, head_prices_group in top_100_5_min_movements_by_group.items()\n",
    "}"
   ]
  },
  {
   "cell_type": "code",
   "execution_count": null,
   "metadata": {},
   "outputs": [],
   "source": []
  }
 ],
 "metadata": {
  "jupytext": {
   "text_representation": {
    "extension": ".py",
    "format_name": "percent",
    "format_version": "1.2",
    "jupytext_version": "1.2.4"
   }
  },
  "kernelspec": {
   "display_name": "Python [conda env:.conda-p1_develop] *",
   "language": "python",
   "name": "conda-env-.conda-p1_develop-py"
  },
  "language_info": {
   "codemirror_mode": {
    "name": "ipython",
    "version": 3
   },
   "file_extension": ".py",
   "mimetype": "text/x-python",
   "name": "python",
   "nbconvert_exporter": "python",
   "pygments_lexer": "ipython3",
   "version": "3.6.7"
  },
  "toc": {
   "base_numbering": 1,
   "nav_menu": {},
   "number_sections": true,
   "sideBar": true,
   "skip_h1_title": false,
   "title_cell": "Table of Contents",
   "title_sidebar": "Contents",
   "toc_cell": false,
   "toc_position": {
    "height": "calc(100% - 180px)",
    "left": "10px",
    "top": "150px",
    "width": "394.038px"
   },
   "toc_section_display": true,
   "toc_window_display": true
  }
 },
 "nbformat": 4,
 "nbformat_minor": 2
}
