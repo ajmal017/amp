{
 "cells": [
  {
   "cell_type": "markdown",
   "metadata": {},
   "source": [
    "# Imports"
   ]
  },
  {
   "cell_type": "code",
   "execution_count": 9,
   "metadata": {
    "ExecuteTime": {
     "end_time": "2019-10-09T18:56:46.853292Z",
     "start_time": "2019-10-09T18:56:46.800581Z"
    }
   },
   "outputs": [
    {
     "name": "stdout",
     "output_type": "stream",
     "text": [
      "The autoreload extension is already loaded. To reload it, use:\n",
      "  %reload_ext autoreload\n"
     ]
    }
   ],
   "source": [
    "%load_ext autoreload\n",
    "%autoreload 2\n",
    "\n",
    "import numpy as np\n",
    "import pandas as pd\n",
    "import seaborn as sns\n",
    "from matplotlib import pyplot as plt"
   ]
  },
  {
   "cell_type": "code",
   "execution_count": 10,
   "metadata": {
    "ExecuteTime": {
     "end_time": "2019-10-09T18:56:46.905705Z",
     "start_time": "2019-10-09T18:56:46.855351Z"
    }
   },
   "outputs": [],
   "source": [
    "from pylab import rcParams\n",
    "from tqdm.autonotebook import tqdm\n",
    "\n",
    "import core.signal_processing as sp\n",
    "import vendors.kibot.utils as kut\n",
    "import vendors.particle_one.price_movement_analysis as pma\n",
    "\n",
    "# import vendors.particle_one.PartTask269_liquidity_analysis_utils as lau\n",
    "\n",
    "sns.set()\n",
    "\n",
    "rcParams[\"figure.figsize\"] = (20, 5)"
   ]
  },
  {
   "cell_type": "code",
   "execution_count": 11,
   "metadata": {
    "ExecuteTime": {
     "end_time": "2019-10-09T18:56:46.953476Z",
     "start_time": "2019-10-09T18:56:46.908201Z"
    }
   },
   "outputs": [],
   "source": [
    "TAU = 2"
   ]
  },
  {
   "cell_type": "markdown",
   "metadata": {},
   "source": [
    "# Load CME metadata"
   ]
  },
  {
   "cell_type": "code",
   "execution_count": 12,
   "metadata": {
    "ExecuteTime": {
     "end_time": "2019-10-09T18:56:47.001450Z",
     "start_time": "2019-10-09T18:56:46.955963Z"
    }
   },
   "outputs": [],
   "source": [
    "# Change this to library code from #269 once it is merged into master"
   ]
  },
  {
   "cell_type": "code",
   "execution_count": 13,
   "metadata": {
    "ExecuteTime": {
     "end_time": "2019-10-09T18:56:47.644500Z",
     "start_time": "2019-10-09T18:56:47.004200Z"
    }
   },
   "outputs": [],
   "source": [
    "_PRODUCT_SPECS_PATH = (\n",
    "    #\"/data/prices/product_slate_export_with_contract_specs_20190905.csv\"\n",
    "    \"s3://default00-bucket/cme/product_slate_export_with_contract_specs_20190905.csv\"\n",
    ")\n",
    "product_list = pd.read_csv(_PRODUCT_SPECS_PATH)"
   ]
  },
  {
   "cell_type": "code",
   "execution_count": 14,
   "metadata": {
    "ExecuteTime": {
     "end_time": "2019-10-09T18:56:47.712008Z",
     "start_time": "2019-10-09T18:56:47.646613Z"
    }
   },
   "outputs": [
    {
     "data": {
      "text/html": [
       "<div>\n",
       "<style scoped>\n",
       "    .dataframe tbody tr th:only-of-type {\n",
       "        vertical-align: middle;\n",
       "    }\n",
       "\n",
       "    .dataframe tbody tr th {\n",
       "        vertical-align: top;\n",
       "    }\n",
       "\n",
       "    .dataframe thead th {\n",
       "        text-align: right;\n",
       "    }\n",
       "</style>\n",
       "<table border=\"1\" class=\"dataframe\">\n",
       "  <thead>\n",
       "    <tr style=\"text-align: right;\">\n",
       "      <th></th>\n",
       "      <th>Clearing</th>\n",
       "      <th>Globex</th>\n",
       "      <th>Floor</th>\n",
       "      <th>Clearport</th>\n",
       "      <th>Product Name</th>\n",
       "      <th>Product Group</th>\n",
       "      <th>Sub Group</th>\n",
       "      <th>Category</th>\n",
       "      <th>Sub Category</th>\n",
       "      <th>Cleared As</th>\n",
       "      <th>...</th>\n",
       "      <th>Delivery Procedure Link</th>\n",
       "      <th>Trade At Marker Or Trade At Settlement Rules Link</th>\n",
       "      <th>Minimum Price Fluctuation Link</th>\n",
       "      <th>Listed Contracts Link</th>\n",
       "      <th>Termination Of Trading_0</th>\n",
       "      <th>Termination Of Trading Link</th>\n",
       "      <th>Reportable Positions</th>\n",
       "      <th>Termination Of Trading_1</th>\n",
       "      <th>CME Globex:</th>\n",
       "      <th>Reportable Positions Link</th>\n",
       "    </tr>\n",
       "  </thead>\n",
       "  <tbody>\n",
       "    <tr>\n",
       "      <td>0</td>\n",
       "      <td>ED</td>\n",
       "      <td>GE</td>\n",
       "      <td>NaN</td>\n",
       "      <td>ED</td>\n",
       "      <td>Eurodollar Futures</td>\n",
       "      <td>Interest Rate</td>\n",
       "      <td>Stirs</td>\n",
       "      <td>NaN</td>\n",
       "      <td>NaN</td>\n",
       "      <td>Futures</td>\n",
       "      <td>...</td>\n",
       "      <td>NaN</td>\n",
       "      <td>NaN</td>\n",
       "      <td>NaN</td>\n",
       "      <td>NaN</td>\n",
       "      <td>NaN</td>\n",
       "      <td>NaN</td>\n",
       "      <td>NaN</td>\n",
       "      <td>NaN</td>\n",
       "      <td>NaN</td>\n",
       "      <td>NaN</td>\n",
       "    </tr>\n",
       "    <tr>\n",
       "      <td>1</td>\n",
       "      <td>25</td>\n",
       "      <td>ZF</td>\n",
       "      <td>NaN</td>\n",
       "      <td>25</td>\n",
       "      <td>5-Year T-Note Futures</td>\n",
       "      <td>Interest Rate</td>\n",
       "      <td>US Treasury</td>\n",
       "      <td>NaN</td>\n",
       "      <td>NaN</td>\n",
       "      <td>Futures</td>\n",
       "      <td>...</td>\n",
       "      <td>NaN</td>\n",
       "      <td>NaN</td>\n",
       "      <td>NaN</td>\n",
       "      <td>NaN</td>\n",
       "      <td>NaN</td>\n",
       "      <td>NaN</td>\n",
       "      <td>NaN</td>\n",
       "      <td>NaN</td>\n",
       "      <td>NaN</td>\n",
       "      <td>NaN</td>\n",
       "    </tr>\n",
       "    <tr>\n",
       "      <td>2</td>\n",
       "      <td>21</td>\n",
       "      <td>ZN</td>\n",
       "      <td>NaN</td>\n",
       "      <td>21</td>\n",
       "      <td>10-Year T-Note Futures</td>\n",
       "      <td>Interest Rate</td>\n",
       "      <td>US Treasury</td>\n",
       "      <td>NaN</td>\n",
       "      <td>NaN</td>\n",
       "      <td>Futures</td>\n",
       "      <td>...</td>\n",
       "      <td>NaN</td>\n",
       "      <td>NaN</td>\n",
       "      <td>NaN</td>\n",
       "      <td>NaN</td>\n",
       "      <td>NaN</td>\n",
       "      <td>NaN</td>\n",
       "      <td>NaN</td>\n",
       "      <td>NaN</td>\n",
       "      <td>NaN</td>\n",
       "      <td>NaN</td>\n",
       "    </tr>\n",
       "    <tr>\n",
       "      <td>3</td>\n",
       "      <td>26</td>\n",
       "      <td>ZT</td>\n",
       "      <td>NaN</td>\n",
       "      <td>26</td>\n",
       "      <td>2-Year T-Note Futures</td>\n",
       "      <td>Interest Rate</td>\n",
       "      <td>US Treasury</td>\n",
       "      <td>NaN</td>\n",
       "      <td>NaN</td>\n",
       "      <td>Futures</td>\n",
       "      <td>...</td>\n",
       "      <td>NaN</td>\n",
       "      <td>NaN</td>\n",
       "      <td>NaN</td>\n",
       "      <td>NaN</td>\n",
       "      <td>NaN</td>\n",
       "      <td>NaN</td>\n",
       "      <td>NaN</td>\n",
       "      <td>NaN</td>\n",
       "      <td>NaN</td>\n",
       "      <td>NaN</td>\n",
       "    </tr>\n",
       "    <tr>\n",
       "      <td>4</td>\n",
       "      <td>ES</td>\n",
       "      <td>ES</td>\n",
       "      <td>NaN</td>\n",
       "      <td>ES</td>\n",
       "      <td>E-mini S&amp;P 500 Futures</td>\n",
       "      <td>Equities</td>\n",
       "      <td>US Index</td>\n",
       "      <td>NaN</td>\n",
       "      <td>NaN</td>\n",
       "      <td>Futures</td>\n",
       "      <td>...</td>\n",
       "      <td>NaN</td>\n",
       "      <td>NaN</td>\n",
       "      <td>NaN</td>\n",
       "      <td>NaN</td>\n",
       "      <td>NaN</td>\n",
       "      <td>NaN</td>\n",
       "      <td>NaN</td>\n",
       "      <td>NaN</td>\n",
       "      <td>NaN</td>\n",
       "      <td>NaN</td>\n",
       "    </tr>\n",
       "  </tbody>\n",
       "</table>\n",
       "<p>5 rows × 57 columns</p>\n",
       "</div>"
      ],
      "text/plain": [
       "  Clearing Globex Floor Clearport            Product Name  Product Group  \\\n",
       "0       ED     GE   NaN        ED      Eurodollar Futures  Interest Rate   \n",
       "1       25     ZF   NaN        25   5-Year T-Note Futures  Interest Rate   \n",
       "2       21     ZN   NaN        21  10-Year T-Note Futures  Interest Rate   \n",
       "3       26     ZT   NaN        26   2-Year T-Note Futures  Interest Rate   \n",
       "4       ES     ES   NaN        ES  E-mini S&P 500 Futures       Equities   \n",
       "\n",
       "     Sub Group Category Sub Category Cleared As  ... Delivery Procedure Link  \\\n",
       "0        Stirs      NaN          NaN    Futures  ...                     NaN   \n",
       "1  US Treasury      NaN          NaN    Futures  ...                     NaN   \n",
       "2  US Treasury      NaN          NaN    Futures  ...                     NaN   \n",
       "3  US Treasury      NaN          NaN    Futures  ...                     NaN   \n",
       "4     US Index      NaN          NaN    Futures  ...                     NaN   \n",
       "\n",
       "   Trade At Marker Or Trade At Settlement Rules Link  \\\n",
       "0                                                NaN   \n",
       "1                                                NaN   \n",
       "2                                                NaN   \n",
       "3                                                NaN   \n",
       "4                                                NaN   \n",
       "\n",
       "   Minimum Price Fluctuation Link Listed Contracts Link  \\\n",
       "0                             NaN                   NaN   \n",
       "1                             NaN                   NaN   \n",
       "2                             NaN                   NaN   \n",
       "3                             NaN                   NaN   \n",
       "4                             NaN                   NaN   \n",
       "\n",
       "  Termination Of Trading_0 Termination Of Trading Link Reportable Positions  \\\n",
       "0                      NaN                         NaN                  NaN   \n",
       "1                      NaN                         NaN                  NaN   \n",
       "2                      NaN                         NaN                  NaN   \n",
       "3                      NaN                         NaN                  NaN   \n",
       "4                      NaN                         NaN                  NaN   \n",
       "\n",
       "  Termination Of Trading_1 CME Globex: Reportable Positions Link  \n",
       "0                      NaN         NaN                       NaN  \n",
       "1                      NaN         NaN                       NaN  \n",
       "2                      NaN         NaN                       NaN  \n",
       "3                      NaN         NaN                       NaN  \n",
       "4                      NaN         NaN                       NaN  \n",
       "\n",
       "[5 rows x 57 columns]"
      ]
     },
     "execution_count": 14,
     "metadata": {},
     "output_type": "execute_result"
    }
   ],
   "source": [
    "product_list.head()"
   ]
  },
  {
   "cell_type": "code",
   "execution_count": 15,
   "metadata": {
    "ExecuteTime": {
     "end_time": "2019-10-09T18:56:47.762688Z",
     "start_time": "2019-10-09T18:56:47.713839Z"
    }
   },
   "outputs": [
    {
     "data": {
      "text/plain": [
       "Energy           892\n",
       "Equities         100\n",
       "Agriculture       57\n",
       "FX                55\n",
       "Metals            44\n",
       "Interest Rate     30\n",
       "Name: Product Group, dtype: int64"
      ]
     },
     "execution_count": 15,
     "metadata": {},
     "output_type": "execute_result"
    }
   ],
   "source": [
    "product_list[\"Product Group\"].value_counts()"
   ]
  },
  {
   "cell_type": "code",
   "execution_count": 16,
   "metadata": {
    "ExecuteTime": {
     "end_time": "2019-10-09T18:56:47.813737Z",
     "start_time": "2019-10-09T18:56:47.765975Z"
    }
   },
   "outputs": [],
   "source": [
    "product_list.set_index(\"Product Group\", inplace=True)"
   ]
  },
  {
   "cell_type": "code",
   "execution_count": 17,
   "metadata": {
    "ExecuteTime": {
     "end_time": "2019-10-09T18:56:47.861114Z",
     "start_time": "2019-10-09T18:56:47.816120Z"
    }
   },
   "outputs": [],
   "source": [
    "commodity_groups = [\"Energy\", \"Agriculture\", \"Metals\"]"
   ]
  },
  {
   "cell_type": "code",
   "execution_count": 18,
   "metadata": {
    "ExecuteTime": {
     "end_time": "2019-10-09T18:56:47.914101Z",
     "start_time": "2019-10-09T18:56:47.863378Z"
    }
   },
   "outputs": [],
   "source": [
    "commodity_symbols = {\n",
    "    group: product_list.loc[group][\"Globex\"].values for group in commodity_groups\n",
    "}"
   ]
  },
  {
   "cell_type": "code",
   "execution_count": 19,
   "metadata": {
    "ExecuteTime": {
     "end_time": "2019-10-09T18:56:47.965557Z",
     "start_time": "2019-10-09T18:56:47.916004Z"
    },
    "scrolled": false
   },
   "outputs": [
    {
     "data": {
      "text/plain": [
       "{'Energy': array(['CL', 'NG', 'NN', 'N9L', 'D2L', 'HO', 'RB', 'H2L', 'HH', 'BZ',\n",
       "        'V3L', 'BK', 'CSX', 'HTT', 'B0', 'NPG', 'WTT', 'B6L', 'E4L', 'HP',\n",
       "        'AL1', 'AFF', 'EJL', 'LT', 'AD0', 'A1R', 'R7L', 'D4L', 'AW6', 'CU',\n",
       "        'ADB', 'AC0', 'L3L', 'A4P', 'ME', 'CY', 'WOL', 'A8K', 'T7K', 'ZGL',\n",
       "        'MTF', 'LPS', 'T3L', 'AE5', 'AYV', 'MFB', 'AU6', 'RBB', 'AWJ',\n",
       "        'POL', 'A7Q', 'IDL', 'PWL', 'AZ9', 'RVR', 'ZJL', 'TL', 'A46', 'GZ',\n",
       "        'RLX', 'K4L', 'FTL', 'HOB', 'GCU', 'CRB', 'WCW', 'AOL', 'JDL',\n",
       "        'EN', 'AA6', 'PD', 'AGA', 'FO', 'N1B', 'NOI', 'MPX', 'NHN', 'NL',\n",
       "        'JKM', 'MTS', 'AB3', 'NR', 'AH3', 'AP8', 'A7E', 'PGN', 'AFH',\n",
       "        'AZ1', 'A8I', 'MNC', 'UV', 'SE', 'MAF', 'B7H', 'J4L', 'AYX', 'QM',\n",
       "        'D3L', 'IN', 'MEO', 'QG', 'EXR', 'PM', 'TTF', 'MFF', 'PGG', 'D7L',\n",
       "        'BOO', 'MXB', 'EVC', 'A5C', 'AA8', 'EWG', 'HB', 'A8O', 'RKA',\n",
       "        'ARE', 'GCI', 'A1M', 'AL6', 'A1L', 'A0D', 'MBR', 'APS', 'N3L',\n",
       "        'JET', 'VR', 'A9N', 'PH', 'PEL', 'MJN', 'CIN', 'NJ', 'TC', 'A4N',\n",
       "        'TRZ', 'UN', 'DCB', 'AHL', 'FOC', 'MNB', 'D1N', 'AJS', 'AA5',\n",
       "        'CSW', 'PTL', 'ALY', 'EPN', 'CC5', 'ABY', 'A8J', 'NFN', 'NOO',\n",
       "        'T2D', 'DEB', 'JA', 'MAE', 'MM', 'A8L', 'A8M', 'JNL', 'AEZ', 'NX',\n",
       "        'TH', 'AKS', 'LSW', 'AQA', 'NKN', '1S', 'UDL', 'GNL', 'COL', 'NW',\n",
       "        'FLP', 'AFY', 'PNL', 'HCL', 'ZAL', 'ICI', 'SGB', 'TZ6', 'MGH',\n",
       "        'NLS', '5ZN', 'AR0', 'AVZ', 'K3L', 'WPL', 'A91', 'A47', 'HIL',\n",
       "        'H5L', 'A0F', 'FSS', 'MEF', 'MPS', 'MAS', 'R5M', 'STR', 'TM',\n",
       "        'LHV', 'FRC', 'EWN', 'MBE', 'MEB', 'AUB', 'AJ9', 'EH', 'SMU',\n",
       "        'JTB', 'S5M', 'A7Y', 'MBC', 'MGN', 'UA', 'ACB', 'DBL', 'VDL',\n",
       "        'MSG', 'AJL', 'PF', 'GY', 'ANL', 'AXA', 'PW', 'AUF', 'AGE', 'ABT',\n",
       "        'AP7', 'A3C', 'STS', 'AA9', 'WS', 'MT2', 'PAL', 'R5O', 'GBB',\n",
       "        'PDL', 'SF3', 'HJC', 'JML', '22', '1NM', 'A3G', 'SD', '0B', 'USC',\n",
       "        'ABH', 'BB', 'AFI', 'AVU', 'GSW', 'MJC', 'PE', 'NRR', 'H5G', 'MUD',\n",
       "        'GCB', 'RT', 'MFD', 'UKG', 'A8C', 'MTB', 'AJB', 'A32', 'A7I',\n",
       "        'BR7', 'NYF', 'AKL', 'GLI', 'CPB', 'TD3', 'AGX', 'NHH', 'E6M',\n",
       "        'JE', 'EFF', 'MMF', 'R53', 'AUI', 'MEE', 'ENS', 'STI', 'ARY',\n",
       "        'TMB', 'E6', '51', '7D', 'FEW', 'A8G', '0C', 'MGB', 'FVB', 'EOB',\n",
       "        'S53', 'A1P', 'S5F', 'AFK', '3NA', 'ALW', 'ABS', 'MSB', 'AA7',\n",
       "        'FRS', 'ATP', 'GOC', 'AUJ', '1T', 'CBB', '63', 'MAA', 'S5O', 'AKR',\n",
       "        'AVL', 'AKZ', 'NCC', 'AT0', 'AWQ', 'SFB', 'EFM', 'A1W', 'AUH',\n",
       "        'QU', 'QH', 'NFC', 'GUD', 'XH', 'AI3', '39', 'B2K', 'T5B', 'GNO',\n",
       "        'HBC', 'A7G', 'AF', 'AI6', '3L', 'PLP', 'HHT', 'AM1', 'MMP', 'CBC',\n",
       "        'RBF', 'PVL', 'EAB', 'EAW', 'NRP', 'GDH', 'PNF', 'M1B', 'JKF',\n",
       "        'A43', 'QXB', 'AP3', 'PSO', '3ZW', 'CLL', 'PRP', 'AW2', 'AO1',\n",
       "        'XPP', 'EMC', 'B8', 'AE9', 'XX', 'MNS', 'AI7', 'JNG', '36', 'DEP',\n",
       "        'TKB', 'GNS', 'HDB', 'AR3', 'AP5', 'JPP', 'WCE', 'MNT', 'CGB',\n",
       "        'BFR', 'OVL', 'WTI', 'ERL', 'AU2', 'CMF', 'NWP', '3NB', 'A4L',\n",
       "        'B1', 'MH', 'PZO', '4U', 'BZL', 'PPP', 'LAP', 'EL1', 'ABI', 'AET',\n",
       "        'NYT', 'MDB', 'AJ1', 'JFB', '38', 'ITP', 'UNB', 'T2B', 'FOM',\n",
       "        'GES', 'H5B', 'A7L', 'AKX', 'PHP', 'UR', 'YUE', 'MGF', 'MBL',\n",
       "        'CIL', 'WTS', 'YWK', 'EAE', 'BDB', 'WDB', 'DAB', 'S5B', '7P',\n",
       "        'PBO', '4Y', 'HOL', 'NOD', '8D', 'MDD', 'SMW', 'AYH', 'AR1', '5L',\n",
       "        'A1V', 'NCO', 'SSI', 'WBR', 'USE', 'UPB', 'A4R', '8W', 'CLT',\n",
       "        'PCP', 'AUT', 'OPO', 'MJB', 'STY', 'NYR', 'DCL', 'ULB', 'MNE',\n",
       "        'AD6', 'AGT', 'FCN', '1ZA', 'NCF', 'NYP', 'T4D', 'FCB', 'SBM',\n",
       "        'MQ', 'PUO', 'ATU', 'RBL', 'MOI', 'DAZ', 'IBE', 'ABX', 'F3', 'MHS',\n",
       "        'AV0', 'SF1', 'AY', 'C6C', 'A1X', 'SSW', 'NHO', 'NBP', 'TC9',\n",
       "        'LEL', 'WNT', 'PPW', 'WMR', 'BPU', 'RBT', 'PQP', 'AUY', 'OFF',\n",
       "        'C9C', 'WCC', 'HOA', 'MBS', 'AD8', 'YRP', 'LLR', 'FOR', 'C4D',\n",
       "        'ESS', 'NNT', '29', 'AU4', 'C8C', '26', 'NRO', 'T2M', 'MTH', 'XER',\n",
       "        'A3M', 'R5E', '7U', 'PYO', 'ATY', 'BBT', 'A58', 'MRI', 'STT',\n",
       "        'AF5', 'AZ0', 'AH1', 'LWB', 'GBR', 'HPE', 'A1D', '2D', 'EGB',\n",
       "        'TD8', 'CSN', 'WTD', 'HTE', 'A6V', 'E9X', 'AHJ', 'AL9', 'PPL',\n",
       "        'FZE', 'BZS', 'YNO', 'TC6', 'MGS', 'X6', 'DBT', 'Z4', 'EAF', 'UCM',\n",
       "        'HTA', 'SDD', 'NWO', 'GHB', 'LCF', 'R5F', 'MSD', '3P', '7X', 'AJR',\n",
       "        'PMO', 'U9', 'DAX', 'NYG', 'MRT', 'OAD', 'CF', 'AE3', 'X9', 'GCG',\n",
       "        'A1G', '2FW', 'UNS', 'NBD', 'T9B', 'MDM', 'HTI', 'A6X', 'AHM',\n",
       "        'LL', 'RYA', 'PVP', 'AVK', 'AN1', 'ACM', 'MPA', 'MLD', 'CK', 'YHE',\n",
       "        'Z6', 'VV', 'HIA', 'NMP', 'SGG', 'TIL', 'A3R', 'JCC', 'A81', 'AJU',\n",
       "        'AQ8', 'AOJ', 'POC', 'A6L', 'NEP', 'AAW', 'CFC', 'EP1', 'AXB',\n",
       "        'BUC', 'GFC', 'A33', '2JW', 'TTD', 'ANC', 'T4B', 'MAB', 'HBR',\n",
       "        'AI5', 'ALX', 'PXP', 'NCP', 'RBG', 'MXL', 'ENP', 'HIB', 'NNP',\n",
       "        'RHB', 'PMF', 'M35', 'A42', 'QP', 'AP2', 'PLO', 'ALM', 'MIP',\n",
       "        'APA', 'PSP', 'NFG', 'GBA', 'AB7', 'AE8', 'XR', 'MFR', 'AI4',\n",
       "        '2ZW', 'TLB', 'JNC', 'GNB', 'CLD', 'AJ', 'AP1', 'ASP', '3XW',\n",
       "        'AP4', 'PRO', 'NGT', 'MBB', 'FAL', 'MTI', 'CBO', 'FBD', 'VLD',\n",
       "        'EAC', 'YWF', '0E', 'NSP', 'GDL', 'SR5', 'JKB', '4G', 'PFO', 'TK',\n",
       "        '4C', 'PHF', 'PFP', 'BG', 'AY1', 'AI9', 'A49', 'MAC', 'JFC', '37',\n",
       "        'ITB', 'UMB', 'T8B', 'AOB', 'RGF', 'AJ2', 'ZKU', 'AR6', 'PZP',\n",
       "        'RGI', 'MCT', 'CPP', 'FBT', 'QVL', 'YWE', 'YHF', 'A1Q', 'AU3',\n",
       "        'CMB', 'WHD', 'A4M', 'R5B', '7N', 'AML', 'PHO', '4XW', 'PEX',\n",
       "        'NCD', '88', 'LAF', 'EMW', 'YF', 'MEW', 'A50', 'A1U', 'ACT', 'M5F',\n",
       "        'FLB', 'SGF', 'UP5', 'A4Q', 'AR8', 'PBP', 'AUS', 'OMM', 'NYA',\n",
       "        'CRG', 'MME', 'AD5', 'AGP', 'WTA', '1Y', 'TTE', 'WHB', 'TMD',\n",
       "        'DBB', 'RBM', 'PCO', 'C4Z', 'FEF', 'NFO', 'AW4', 'MOA', 'SDM',\n",
       "        'AF2', 'YS', 'MFP', 'AR4', 'NMO', 'DCW', 'HPD', 'CCM', 'WMB',\n",
       "        'UPM', '4V', '8XN', 'AL5', 'ARI', 'HOT', 'PUP', 'EBE', '1NA', 'W0',\n",
       "        'HWA', 'MPE', 'CHB', 'AFE', 'C3D', 'ESB', '23', 'THD', 'Z1B',\n",
       "        'NEO', 'TLD', 'FOA', 'HGB', '7S', 'AP9', 'PQO', 'TW', 'A55', 'MMO',\n",
       "        'AA4', 'MXR', 'AF4', 'C7C', '7FT', '2C', 'EGN', 'T5C', 'ASD',\n",
       "        'WNC', 'WMD', 'TCS', 'ABF', 'A5U', '9Q', 'AL8', 'PYP', 'AUZ',\n",
       "        'OOD', 'MO', 'CLS', 'CC0', 'X0', 'MNG', 'MHE', 'AD9', 'AX1', 'LBB',\n",
       "        'C5D', 'EUB', 'AU5', '27', 'SRT', 'NSO', 'GHS', 'H5F', 'GKS',\n",
       "        'A3N', 'SRB', '7V', 'PTO', 'U7', 'BZT', 'A59', 'MMR', 'IBS', 'PDJ',\n",
       "        'X7', 'GCC', 'LPE', '1E', 'C2E', 'UMD', 'EWB', 'T6B', 'MDR', 'HTC',\n",
       "        'A6W', 'AA3', 'AJJ', 'YRW', 'PMP', 'AS4', 'MX', 'MSE', 'MDL',\n",
       "        'AZ5', 'MB', 'V7', 'NTP', 'MGO', 'THB', 'WTL', 'A3Q', 'AEB', 'AQ5',\n",
       "        'PVO', '5Y', 'N3P', 'AQK', 'CFB', 'MPP', 'EO1', 'GCM', '1H', 'DHA',\n",
       "        'CPD', 'ANT', 'TB2', 'MBM', 'HTM', 'AI1', 'PKP', 'NBB', 'UGG',\n",
       "        'OML', 'FL', 'EAA', 'AZ7', '0A', 'AI2', 'HTB', 'NHP', 'RHS', 'T3B',\n",
       "        '3V', 'K2L', 'AOH', 'PXO', 'AK1', 'NFD', 'CBA'], dtype=object),\n",
       " 'Agriculture': array(['ZC', 'ZS', 'ZL', 'ZM', 'ZW', 'LE', 'KE', 'HE', 'GF', 'GIE', 'AW',\n",
       "        'DC', 'CSC', 'BWF', 'GD', 'XK', 'XC', 'GNF', 'CB', 'GDK', 'ZR',\n",
       "        'ZO', 'BCF', 'CPO', 'DY', 'LBS', 'DRS', 'UME', 'XW', 'UFV', 'UFE',\n",
       "        'DFN', 'UFB', 'TT', 'GIT', 'GFT', 'POG', 'AUW', 'ZCT', 'ZWT',\n",
       "        'MFC', 'YO', 'ZLT', 'LET', 'DRT', 'CJ', 'HET', 'OPF', 'BWH', 'BCH',\n",
       "        'MKC', 'SBT', 'AWT', 'KT', 'KET', 'ZMT', 'BSF'], dtype=object),\n",
       " 'Metals': array(['GC', 'HG', 'SI', 'PL', 'AUP', 'PA', 'MGC', 'HRC', 'EDP', 'AEP',\n",
       "        'HGS', 'MJP', 'TIO', 'UX', 'SIL', 'BUS', 'QO', 'QI', 'ALA', 'ALI',\n",
       "        'A38', 'QC', 'GSR', 'ALB', 'GSP', 'ZNC', 'TIC', 'GCT', 'CUP',\n",
       "        'GCK', 'LED', 'PPS', 'PAT', 'GPS', 'HGF', 'HG0', 'PAM', 'SSP',\n",
       "        'GCD', 'SIT', 'HGT', 'MGT', 'FSF', 'HRP'], dtype=object)}"
      ]
     },
     "execution_count": 19,
     "metadata": {},
     "output_type": "execute_result"
    }
   ],
   "source": [
    "commodity_symbols"
   ]
  },
  {
   "cell_type": "markdown",
   "metadata": {},
   "source": [
    "# Daily price movements"
   ]
  },
  {
   "cell_type": "markdown",
   "metadata": {},
   "source": [
    "## Load kibot commodity daily prices"
   ]
  },
  {
   "cell_type": "code",
   "execution_count": 20,
   "metadata": {
    "ExecuteTime": {
     "end_time": "2019-10-09T18:56:48.228340Z",
     "start_time": "2019-10-09T18:56:47.967250Z"
    },
    "scrolled": false
   },
   "outputs": [
    {
     "ename": "PermissionError",
     "evalue": "Access Denied",
     "output_type": "error",
     "traceback": [
      "\u001b[0;31m---------------------------------------------------------------------------\u001b[0m",
      "\u001b[0;31mClientError\u001b[0m                               Traceback (most recent call last)",
      "\u001b[0;32m~/.conda/envs/p1_develop/lib/python3.6/site-packages/s3fs/core.py\u001b[0m in \u001b[0;36m_lsdir\u001b[0;34m(self, path, refresh, max_items)\u001b[0m\n\u001b[1;32m    331\u001b[0m                 \u001b[0mdircache\u001b[0m \u001b[0;34m=\u001b[0m \u001b[0;34m[\u001b[0m\u001b[0;34m]\u001b[0m\u001b[0;34m\u001b[0m\u001b[0;34m\u001b[0m\u001b[0m\n\u001b[0;32m--> 332\u001b[0;31m                 \u001b[0;32mfor\u001b[0m \u001b[0mi\u001b[0m \u001b[0;32min\u001b[0m \u001b[0mit\u001b[0m\u001b[0;34m:\u001b[0m\u001b[0;34m\u001b[0m\u001b[0;34m\u001b[0m\u001b[0m\n\u001b[0m\u001b[1;32m    333\u001b[0m                     \u001b[0mdircache\u001b[0m\u001b[0;34m.\u001b[0m\u001b[0mextend\u001b[0m\u001b[0;34m(\u001b[0m\u001b[0mi\u001b[0m\u001b[0;34m.\u001b[0m\u001b[0mget\u001b[0m\u001b[0;34m(\u001b[0m\u001b[0;34m'CommonPrefixes'\u001b[0m\u001b[0;34m,\u001b[0m \u001b[0;34m[\u001b[0m\u001b[0;34m]\u001b[0m\u001b[0;34m)\u001b[0m\u001b[0;34m)\u001b[0m\u001b[0;34m\u001b[0m\u001b[0;34m\u001b[0m\u001b[0m\n",
      "\u001b[0;32m~/.conda/envs/p1_develop/lib/python3.6/site-packages/botocore/paginate.py\u001b[0m in \u001b[0;36m__iter__\u001b[0;34m(self)\u001b[0m\n\u001b[1;32m    254\u001b[0m         \u001b[0;32mwhile\u001b[0m \u001b[0;32mTrue\u001b[0m\u001b[0;34m:\u001b[0m\u001b[0;34m\u001b[0m\u001b[0;34m\u001b[0m\u001b[0m\n\u001b[0;32m--> 255\u001b[0;31m             \u001b[0mresponse\u001b[0m \u001b[0;34m=\u001b[0m \u001b[0mself\u001b[0m\u001b[0;34m.\u001b[0m\u001b[0m_make_request\u001b[0m\u001b[0;34m(\u001b[0m\u001b[0mcurrent_kwargs\u001b[0m\u001b[0;34m)\u001b[0m\u001b[0;34m\u001b[0m\u001b[0;34m\u001b[0m\u001b[0m\n\u001b[0m\u001b[1;32m    256\u001b[0m             \u001b[0mparsed\u001b[0m \u001b[0;34m=\u001b[0m \u001b[0mself\u001b[0m\u001b[0;34m.\u001b[0m\u001b[0m_extract_parsed_response\u001b[0m\u001b[0;34m(\u001b[0m\u001b[0mresponse\u001b[0m\u001b[0;34m)\u001b[0m\u001b[0;34m\u001b[0m\u001b[0;34m\u001b[0m\u001b[0m\n",
      "\u001b[0;32m~/.conda/envs/p1_develop/lib/python3.6/site-packages/botocore/paginate.py\u001b[0m in \u001b[0;36m_make_request\u001b[0;34m(self, current_kwargs)\u001b[0m\n\u001b[1;32m    331\u001b[0m     \u001b[0;32mdef\u001b[0m \u001b[0m_make_request\u001b[0m\u001b[0;34m(\u001b[0m\u001b[0mself\u001b[0m\u001b[0;34m,\u001b[0m \u001b[0mcurrent_kwargs\u001b[0m\u001b[0;34m)\u001b[0m\u001b[0;34m:\u001b[0m\u001b[0;34m\u001b[0m\u001b[0;34m\u001b[0m\u001b[0m\n\u001b[0;32m--> 332\u001b[0;31m         \u001b[0;32mreturn\u001b[0m \u001b[0mself\u001b[0m\u001b[0;34m.\u001b[0m\u001b[0m_method\u001b[0m\u001b[0;34m(\u001b[0m\u001b[0;34m**\u001b[0m\u001b[0mcurrent_kwargs\u001b[0m\u001b[0;34m)\u001b[0m\u001b[0;34m\u001b[0m\u001b[0;34m\u001b[0m\u001b[0m\n\u001b[0m\u001b[1;32m    333\u001b[0m \u001b[0;34m\u001b[0m\u001b[0m\n",
      "\u001b[0;32m~/.conda/envs/p1_develop/lib/python3.6/site-packages/botocore/client.py\u001b[0m in \u001b[0;36m_api_call\u001b[0;34m(self, *args, **kwargs)\u001b[0m\n\u001b[1;32m    356\u001b[0m             \u001b[0;31m# The \"self\" in this scope is referring to the BaseClient.\u001b[0m\u001b[0;34m\u001b[0m\u001b[0;34m\u001b[0m\u001b[0;34m\u001b[0m\u001b[0m\n\u001b[0;32m--> 357\u001b[0;31m             \u001b[0;32mreturn\u001b[0m \u001b[0mself\u001b[0m\u001b[0;34m.\u001b[0m\u001b[0m_make_api_call\u001b[0m\u001b[0;34m(\u001b[0m\u001b[0moperation_name\u001b[0m\u001b[0;34m,\u001b[0m \u001b[0mkwargs\u001b[0m\u001b[0;34m)\u001b[0m\u001b[0;34m\u001b[0m\u001b[0;34m\u001b[0m\u001b[0m\n\u001b[0m\u001b[1;32m    358\u001b[0m \u001b[0;34m\u001b[0m\u001b[0m\n",
      "\u001b[0;32m~/.conda/envs/p1_develop/lib/python3.6/site-packages/botocore/client.py\u001b[0m in \u001b[0;36m_make_api_call\u001b[0;34m(self, operation_name, api_params)\u001b[0m\n\u001b[1;32m    660\u001b[0m             \u001b[0merror_class\u001b[0m \u001b[0;34m=\u001b[0m \u001b[0mself\u001b[0m\u001b[0;34m.\u001b[0m\u001b[0mexceptions\u001b[0m\u001b[0;34m.\u001b[0m\u001b[0mfrom_code\u001b[0m\u001b[0;34m(\u001b[0m\u001b[0merror_code\u001b[0m\u001b[0;34m)\u001b[0m\u001b[0;34m\u001b[0m\u001b[0;34m\u001b[0m\u001b[0m\n\u001b[0;32m--> 661\u001b[0;31m             \u001b[0;32mraise\u001b[0m \u001b[0merror_class\u001b[0m\u001b[0;34m(\u001b[0m\u001b[0mparsed_response\u001b[0m\u001b[0;34m,\u001b[0m \u001b[0moperation_name\u001b[0m\u001b[0;34m)\u001b[0m\u001b[0;34m\u001b[0m\u001b[0;34m\u001b[0m\u001b[0m\n\u001b[0m\u001b[1;32m    662\u001b[0m         \u001b[0;32melse\u001b[0m\u001b[0;34m:\u001b[0m\u001b[0;34m\u001b[0m\u001b[0;34m\u001b[0m\u001b[0m\n",
      "\u001b[0;31mClientError\u001b[0m: An error occurred (AccessDenied) when calling the ListObjectsV2 operation: Access Denied",
      "\nDuring handling of the above exception, another exception occurred:\n",
      "\u001b[0;31mPermissionError\u001b[0m                           Traceback (most recent call last)",
      "\u001b[0;32m<ipython-input-20-7f4348b2a94d>\u001b[0m in \u001b[0;36m<module>\u001b[0;34m\u001b[0m\n\u001b[0;32m----> 1\u001b[0;31m \u001b[0mdaily_metadata\u001b[0m \u001b[0;34m=\u001b[0m \u001b[0mkut\u001b[0m\u001b[0;34m.\u001b[0m\u001b[0mread_metadata2\u001b[0m\u001b[0;34m(\u001b[0m\u001b[0;34m)\u001b[0m\u001b[0;34m\u001b[0m\u001b[0;34m\u001b[0m\u001b[0m\n\u001b[0m\u001b[1;32m      2\u001b[0m \u001b[0mdaily_metadata\u001b[0m\u001b[0;34m.\u001b[0m\u001b[0mhead\u001b[0m\u001b[0;34m(\u001b[0m\u001b[0;36m3\u001b[0m\u001b[0;34m)\u001b[0m\u001b[0;34m\u001b[0m\u001b[0;34m\u001b[0m\u001b[0m\n",
      "\u001b[0;32m~/src/commodity_research3/amp/vendors/kibot/utils.py\u001b[0m in \u001b[0;36mread_metadata2\u001b[0;34m()\u001b[0m\n\u001b[1;32m    129\u001b[0m     \"\"\"\n\u001b[1;32m    130\u001b[0m     \u001b[0mfile_name\u001b[0m \u001b[0;34m=\u001b[0m \u001b[0m_KIBOT_DIRNAME\u001b[0m \u001b[0;34m+\u001b[0m \u001b[0;34m\"/All_Futures_Contracts_daily.csv.gz\"\u001b[0m\u001b[0;34m\u001b[0m\u001b[0;34m\u001b[0m\u001b[0m\n\u001b[0;32m--> 131\u001b[0;31m     \u001b[0mdf\u001b[0m \u001b[0;34m=\u001b[0m \u001b[0mpd\u001b[0m\u001b[0;34m.\u001b[0m\u001b[0mread_csv\u001b[0m\u001b[0;34m(\u001b[0m\u001b[0mfile_name\u001b[0m\u001b[0;34m,\u001b[0m \u001b[0mindex_col\u001b[0m\u001b[0;34m=\u001b[0m\u001b[0;36m0\u001b[0m\u001b[0;34m)\u001b[0m\u001b[0;34m\u001b[0m\u001b[0;34m\u001b[0m\u001b[0m\n\u001b[0m\u001b[1;32m    132\u001b[0m     \u001b[0mdf\u001b[0m \u001b[0;34m=\u001b[0m \u001b[0mdf\u001b[0m\u001b[0;34m.\u001b[0m\u001b[0miloc\u001b[0m\u001b[0;34m[\u001b[0m\u001b[0;34m:\u001b[0m\u001b[0;34m,\u001b[0m \u001b[0;36m1\u001b[0m\u001b[0;34m:\u001b[0m\u001b[0;34m]\u001b[0m\u001b[0;34m\u001b[0m\u001b[0;34m\u001b[0m\u001b[0m\n\u001b[1;32m    133\u001b[0m     \u001b[0m_LOG\u001b[0m\u001b[0;34m.\u001b[0m\u001b[0mdebug\u001b[0m\u001b[0;34m(\u001b[0m\u001b[0;34m\"df=\\n%s\"\u001b[0m\u001b[0;34m,\u001b[0m \u001b[0mdf\u001b[0m\u001b[0;34m.\u001b[0m\u001b[0mhead\u001b[0m\u001b[0;34m(\u001b[0m\u001b[0;36m3\u001b[0m\u001b[0;34m)\u001b[0m\u001b[0;34m)\u001b[0m\u001b[0;34m\u001b[0m\u001b[0;34m\u001b[0m\u001b[0m\n",
      "\u001b[0;32m~/.conda/envs/p1_develop/lib/python3.6/site-packages/pandas/io/parsers.py\u001b[0m in \u001b[0;36mparser_f\u001b[0;34m(filepath_or_buffer, sep, delimiter, header, names, index_col, usecols, squeeze, prefix, mangle_dupe_cols, dtype, engine, converters, true_values, false_values, skipinitialspace, skiprows, skipfooter, nrows, na_values, keep_default_na, na_filter, verbose, skip_blank_lines, parse_dates, infer_datetime_format, keep_date_col, date_parser, dayfirst, cache_dates, iterator, chunksize, compression, thousands, decimal, lineterminator, quotechar, quoting, doublequote, escapechar, comment, encoding, dialect, error_bad_lines, warn_bad_lines, delim_whitespace, low_memory, memory_map, float_precision)\u001b[0m\n\u001b[1;32m    683\u001b[0m         )\n\u001b[1;32m    684\u001b[0m \u001b[0;34m\u001b[0m\u001b[0m\n\u001b[0;32m--> 685\u001b[0;31m         \u001b[0;32mreturn\u001b[0m \u001b[0m_read\u001b[0m\u001b[0;34m(\u001b[0m\u001b[0mfilepath_or_buffer\u001b[0m\u001b[0;34m,\u001b[0m \u001b[0mkwds\u001b[0m\u001b[0;34m)\u001b[0m\u001b[0;34m\u001b[0m\u001b[0;34m\u001b[0m\u001b[0m\n\u001b[0m\u001b[1;32m    686\u001b[0m \u001b[0;34m\u001b[0m\u001b[0m\n\u001b[1;32m    687\u001b[0m     \u001b[0mparser_f\u001b[0m\u001b[0;34m.\u001b[0m\u001b[0m__name__\u001b[0m \u001b[0;34m=\u001b[0m \u001b[0mname\u001b[0m\u001b[0;34m\u001b[0m\u001b[0;34m\u001b[0m\u001b[0m\n",
      "\u001b[0;32m~/.conda/envs/p1_develop/lib/python3.6/site-packages/pandas/io/parsers.py\u001b[0m in \u001b[0;36m_read\u001b[0;34m(filepath_or_buffer, kwds)\u001b[0m\n\u001b[1;32m    438\u001b[0m     \u001b[0;31m# See https://github.com/python/mypy/issues/1297\u001b[0m\u001b[0;34m\u001b[0m\u001b[0;34m\u001b[0m\u001b[0;34m\u001b[0m\u001b[0m\n\u001b[1;32m    439\u001b[0m     fp_or_buf, _, compression, should_close = get_filepath_or_buffer(\n\u001b[0;32m--> 440\u001b[0;31m         \u001b[0mfilepath_or_buffer\u001b[0m\u001b[0;34m,\u001b[0m \u001b[0mencoding\u001b[0m\u001b[0;34m,\u001b[0m \u001b[0mcompression\u001b[0m\u001b[0;34m\u001b[0m\u001b[0;34m\u001b[0m\u001b[0m\n\u001b[0m\u001b[1;32m    441\u001b[0m     )\n\u001b[1;32m    442\u001b[0m     \u001b[0mkwds\u001b[0m\u001b[0;34m[\u001b[0m\u001b[0;34m\"compression\"\u001b[0m\u001b[0;34m]\u001b[0m \u001b[0;34m=\u001b[0m \u001b[0mcompression\u001b[0m\u001b[0;34m\u001b[0m\u001b[0;34m\u001b[0m\u001b[0m\n",
      "\u001b[0;32m~/.conda/envs/p1_develop/lib/python3.6/site-packages/pandas/io/common.py\u001b[0m in \u001b[0;36mget_filepath_or_buffer\u001b[0;34m(filepath_or_buffer, encoding, compression, mode)\u001b[0m\n\u001b[1;32m    207\u001b[0m \u001b[0;34m\u001b[0m\u001b[0m\n\u001b[1;32m    208\u001b[0m         return s3.get_filepath_or_buffer(\n\u001b[0;32m--> 209\u001b[0;31m             \u001b[0mfilepath_or_buffer\u001b[0m\u001b[0;34m,\u001b[0m \u001b[0mencoding\u001b[0m\u001b[0;34m=\u001b[0m\u001b[0mencoding\u001b[0m\u001b[0;34m,\u001b[0m \u001b[0mcompression\u001b[0m\u001b[0;34m=\u001b[0m\u001b[0mcompression\u001b[0m\u001b[0;34m,\u001b[0m \u001b[0mmode\u001b[0m\u001b[0;34m=\u001b[0m\u001b[0mmode\u001b[0m\u001b[0;34m\u001b[0m\u001b[0;34m\u001b[0m\u001b[0m\n\u001b[0m\u001b[1;32m    210\u001b[0m         )\n\u001b[1;32m    211\u001b[0m \u001b[0;34m\u001b[0m\u001b[0m\n",
      "\u001b[0;32m~/.conda/envs/p1_develop/lib/python3.6/site-packages/pandas/io/s3.py\u001b[0m in \u001b[0;36mget_filepath_or_buffer\u001b[0;34m(filepath_or_buffer, encoding, compression, mode)\u001b[0m\n\u001b[1;32m     47\u001b[0m     \u001b[0mmode\u001b[0m\u001b[0;34m:\u001b[0m \u001b[0mOptional\u001b[0m\u001b[0;34m[\u001b[0m\u001b[0mstr\u001b[0m\u001b[0;34m]\u001b[0m \u001b[0;34m=\u001b[0m \u001b[0;32mNone\u001b[0m\u001b[0;34m,\u001b[0m\u001b[0;34m\u001b[0m\u001b[0;34m\u001b[0m\u001b[0m\n\u001b[1;32m     48\u001b[0m ) -> Tuple[IO, Optional[str], Optional[str], bool]:\n\u001b[0;32m---> 49\u001b[0;31m     \u001b[0mfile\u001b[0m\u001b[0;34m,\u001b[0m \u001b[0m_fs\u001b[0m \u001b[0;34m=\u001b[0m \u001b[0mget_file_and_filesystem\u001b[0m\u001b[0;34m(\u001b[0m\u001b[0mfilepath_or_buffer\u001b[0m\u001b[0;34m,\u001b[0m \u001b[0mmode\u001b[0m\u001b[0;34m=\u001b[0m\u001b[0mmode\u001b[0m\u001b[0;34m)\u001b[0m\u001b[0;34m\u001b[0m\u001b[0;34m\u001b[0m\u001b[0m\n\u001b[0m\u001b[1;32m     50\u001b[0m     \u001b[0;32mreturn\u001b[0m \u001b[0mfile\u001b[0m\u001b[0;34m,\u001b[0m \u001b[0;32mNone\u001b[0m\u001b[0;34m,\u001b[0m \u001b[0mcompression\u001b[0m\u001b[0;34m,\u001b[0m \u001b[0;32mTrue\u001b[0m\u001b[0;34m\u001b[0m\u001b[0;34m\u001b[0m\u001b[0m\n",
      "\u001b[0;32m~/.conda/envs/p1_develop/lib/python3.6/site-packages/pandas/io/s3.py\u001b[0m in \u001b[0;36mget_file_and_filesystem\u001b[0;34m(filepath_or_buffer, mode)\u001b[0m\n\u001b[1;32m     28\u001b[0m     \u001b[0mfs\u001b[0m \u001b[0;34m=\u001b[0m \u001b[0ms3fs\u001b[0m\u001b[0;34m.\u001b[0m\u001b[0mS3FileSystem\u001b[0m\u001b[0;34m(\u001b[0m\u001b[0manon\u001b[0m\u001b[0;34m=\u001b[0m\u001b[0;32mFalse\u001b[0m\u001b[0;34m)\u001b[0m\u001b[0;34m\u001b[0m\u001b[0;34m\u001b[0m\u001b[0m\n\u001b[1;32m     29\u001b[0m     \u001b[0;32mtry\u001b[0m\u001b[0;34m:\u001b[0m\u001b[0;34m\u001b[0m\u001b[0;34m\u001b[0m\u001b[0m\n\u001b[0;32m---> 30\u001b[0;31m         \u001b[0mfile\u001b[0m \u001b[0;34m=\u001b[0m \u001b[0mfs\u001b[0m\u001b[0;34m.\u001b[0m\u001b[0mopen\u001b[0m\u001b[0;34m(\u001b[0m\u001b[0m_strip_schema\u001b[0m\u001b[0;34m(\u001b[0m\u001b[0mfilepath_or_buffer\u001b[0m\u001b[0;34m)\u001b[0m\u001b[0;34m,\u001b[0m \u001b[0mmode\u001b[0m\u001b[0;34m)\u001b[0m\u001b[0;34m\u001b[0m\u001b[0;34m\u001b[0m\u001b[0m\n\u001b[0m\u001b[1;32m     31\u001b[0m     \u001b[0;32mexcept\u001b[0m \u001b[0;34m(\u001b[0m\u001b[0mFileNotFoundError\u001b[0m\u001b[0;34m,\u001b[0m \u001b[0mNoCredentialsError\u001b[0m\u001b[0;34m)\u001b[0m\u001b[0;34m:\u001b[0m\u001b[0;34m\u001b[0m\u001b[0;34m\u001b[0m\u001b[0m\n\u001b[1;32m     32\u001b[0m         \u001b[0;31m# boto3 has troubles when trying to access a public file\u001b[0m\u001b[0;34m\u001b[0m\u001b[0;34m\u001b[0m\u001b[0;34m\u001b[0m\u001b[0m\n",
      "\u001b[0;32m~/.conda/envs/p1_develop/lib/python3.6/site-packages/fsspec/spec.py\u001b[0m in \u001b[0;36mopen\u001b[0;34m(self, path, mode, block_size, **kwargs)\u001b[0m\n\u001b[1;32m    689\u001b[0m             \u001b[0mac\u001b[0m \u001b[0;34m=\u001b[0m \u001b[0mkwargs\u001b[0m\u001b[0;34m.\u001b[0m\u001b[0mpop\u001b[0m\u001b[0;34m(\u001b[0m\u001b[0;34m'autocommit'\u001b[0m\u001b[0;34m,\u001b[0m \u001b[0;32mnot\u001b[0m \u001b[0mself\u001b[0m\u001b[0;34m.\u001b[0m\u001b[0m_intrans\u001b[0m\u001b[0;34m)\u001b[0m\u001b[0;34m\u001b[0m\u001b[0;34m\u001b[0m\u001b[0m\n\u001b[1;32m    690\u001b[0m             f = self._open(path, mode=mode, block_size=block_size,\n\u001b[0;32m--> 691\u001b[0;31m                            autocommit=ac, **kwargs)\n\u001b[0m\u001b[1;32m    692\u001b[0m             \u001b[0;32mif\u001b[0m \u001b[0;32mnot\u001b[0m \u001b[0mac\u001b[0m\u001b[0;34m:\u001b[0m\u001b[0;34m\u001b[0m\u001b[0;34m\u001b[0m\u001b[0m\n\u001b[1;32m    693\u001b[0m                 \u001b[0mself\u001b[0m\u001b[0;34m.\u001b[0m\u001b[0mtransaction\u001b[0m\u001b[0;34m.\u001b[0m\u001b[0mfiles\u001b[0m\u001b[0;34m.\u001b[0m\u001b[0mappend\u001b[0m\u001b[0;34m(\u001b[0m\u001b[0mf\u001b[0m\u001b[0;34m)\u001b[0m\u001b[0;34m\u001b[0m\u001b[0;34m\u001b[0m\u001b[0m\n",
      "\u001b[0;32m~/.conda/envs/p1_develop/lib/python3.6/site-packages/s3fs/core.py\u001b[0m in \u001b[0;36m_open\u001b[0;34m(self, path, mode, block_size, acl, version_id, fill_cache, cache_type, autocommit, **kwargs)\u001b[0m\n\u001b[1;32m    312\u001b[0m                       \u001b[0mversion_id\u001b[0m\u001b[0;34m=\u001b[0m\u001b[0mversion_id\u001b[0m\u001b[0;34m,\u001b[0m \u001b[0mfill_cache\u001b[0m\u001b[0;34m=\u001b[0m\u001b[0mfill_cache\u001b[0m\u001b[0;34m,\u001b[0m\u001b[0;34m\u001b[0m\u001b[0;34m\u001b[0m\u001b[0m\n\u001b[1;32m    313\u001b[0m                       \u001b[0ms3_additional_kwargs\u001b[0m\u001b[0;34m=\u001b[0m\u001b[0mkw\u001b[0m\u001b[0;34m,\u001b[0m \u001b[0mcache_type\u001b[0m\u001b[0;34m=\u001b[0m\u001b[0mcache_type\u001b[0m\u001b[0;34m,\u001b[0m\u001b[0;34m\u001b[0m\u001b[0;34m\u001b[0m\u001b[0m\n\u001b[0;32m--> 314\u001b[0;31m                       autocommit=autocommit)\n\u001b[0m\u001b[1;32m    315\u001b[0m \u001b[0;34m\u001b[0m\u001b[0m\n\u001b[1;32m    316\u001b[0m     \u001b[0;32mdef\u001b[0m \u001b[0m_lsdir\u001b[0m\u001b[0;34m(\u001b[0m\u001b[0mself\u001b[0m\u001b[0;34m,\u001b[0m \u001b[0mpath\u001b[0m\u001b[0;34m,\u001b[0m \u001b[0mrefresh\u001b[0m\u001b[0;34m=\u001b[0m\u001b[0;32mFalse\u001b[0m\u001b[0;34m,\u001b[0m \u001b[0mmax_items\u001b[0m\u001b[0;34m=\u001b[0m\u001b[0;32mNone\u001b[0m\u001b[0;34m)\u001b[0m\u001b[0;34m:\u001b[0m\u001b[0;34m\u001b[0m\u001b[0;34m\u001b[0m\u001b[0m\n",
      "\u001b[0;32m~/.conda/envs/p1_develop/lib/python3.6/site-packages/s3fs/core.py\u001b[0m in \u001b[0;36m__init__\u001b[0;34m(self, s3, path, mode, block_size, acl, version_id, fill_cache, s3_additional_kwargs, autocommit, cache_type)\u001b[0m\n\u001b[1;32m    937\u001b[0m         \u001b[0mself\u001b[0m\u001b[0;34m.\u001b[0m\u001b[0ms3_additional_kwargs\u001b[0m \u001b[0;34m=\u001b[0m \u001b[0ms3_additional_kwargs\u001b[0m \u001b[0;32mor\u001b[0m \u001b[0;34m{\u001b[0m\u001b[0;34m}\u001b[0m\u001b[0;34m\u001b[0m\u001b[0;34m\u001b[0m\u001b[0m\n\u001b[1;32m    938\u001b[0m         super().__init__(s3, path, mode, block_size, autocommit=autocommit,\n\u001b[0;32m--> 939\u001b[0;31m                          cache_type=cache_type)\n\u001b[0m\u001b[1;32m    940\u001b[0m         \u001b[0mself\u001b[0m\u001b[0;34m.\u001b[0m\u001b[0ms3\u001b[0m \u001b[0;34m=\u001b[0m \u001b[0mself\u001b[0m\u001b[0;34m.\u001b[0m\u001b[0mfs\u001b[0m  \u001b[0;31m# compatibility\u001b[0m\u001b[0;34m\u001b[0m\u001b[0;34m\u001b[0m\u001b[0m\n\u001b[1;32m    941\u001b[0m         \u001b[0;32mif\u001b[0m \u001b[0mself\u001b[0m\u001b[0;34m.\u001b[0m\u001b[0mwritable\u001b[0m\u001b[0;34m(\u001b[0m\u001b[0;34m)\u001b[0m\u001b[0;34m:\u001b[0m\u001b[0;34m\u001b[0m\u001b[0;34m\u001b[0m\u001b[0m\n",
      "\u001b[0;32m~/.conda/envs/p1_develop/lib/python3.6/site-packages/fsspec/spec.py\u001b[0m in \u001b[0;36m__init__\u001b[0;34m(self, fs, path, mode, block_size, autocommit, cache_type, **kwargs)\u001b[0m\n\u001b[1;32m    843\u001b[0m         \u001b[0;32mif\u001b[0m \u001b[0mmode\u001b[0m \u001b[0;34m==\u001b[0m \u001b[0;34m'rb'\u001b[0m\u001b[0;34m:\u001b[0m\u001b[0;34m\u001b[0m\u001b[0;34m\u001b[0m\u001b[0m\n\u001b[1;32m    844\u001b[0m             \u001b[0;32mif\u001b[0m \u001b[0;32mnot\u001b[0m \u001b[0mhasattr\u001b[0m\u001b[0;34m(\u001b[0m\u001b[0mself\u001b[0m\u001b[0;34m,\u001b[0m \u001b[0;34m'details'\u001b[0m\u001b[0;34m)\u001b[0m\u001b[0;34m:\u001b[0m\u001b[0;34m\u001b[0m\u001b[0;34m\u001b[0m\u001b[0m\n\u001b[0;32m--> 845\u001b[0;31m                 \u001b[0mself\u001b[0m\u001b[0;34m.\u001b[0m\u001b[0mdetails\u001b[0m \u001b[0;34m=\u001b[0m \u001b[0mfs\u001b[0m\u001b[0;34m.\u001b[0m\u001b[0minfo\u001b[0m\u001b[0;34m(\u001b[0m\u001b[0mpath\u001b[0m\u001b[0;34m)\u001b[0m\u001b[0;34m\u001b[0m\u001b[0;34m\u001b[0m\u001b[0m\n\u001b[0m\u001b[1;32m    846\u001b[0m             \u001b[0mself\u001b[0m\u001b[0;34m.\u001b[0m\u001b[0msize\u001b[0m \u001b[0;34m=\u001b[0m \u001b[0mself\u001b[0m\u001b[0;34m.\u001b[0m\u001b[0mdetails\u001b[0m\u001b[0;34m[\u001b[0m\u001b[0;34m'size'\u001b[0m\u001b[0;34m]\u001b[0m\u001b[0;34m\u001b[0m\u001b[0;34m\u001b[0m\u001b[0m\n\u001b[1;32m    847\u001b[0m             self.cache = caches[cache_type](self.blocksize, self._fetch_range,\n",
      "\u001b[0;32m~/.conda/envs/p1_develop/lib/python3.6/site-packages/s3fs/core.py\u001b[0m in \u001b[0;36minfo\u001b[0;34m(self, path, version_id)\u001b[0m\n\u001b[1;32m    496\u001b[0m             \u001b[0;32mexcept\u001b[0m \u001b[0mParamValidationError\u001b[0m \u001b[0;32mas\u001b[0m \u001b[0me\u001b[0m\u001b[0;34m:\u001b[0m\u001b[0;34m\u001b[0m\u001b[0;34m\u001b[0m\u001b[0m\n\u001b[1;32m    497\u001b[0m                 \u001b[0;32mraise\u001b[0m \u001b[0mValueError\u001b[0m\u001b[0;34m(\u001b[0m\u001b[0;34m'Failed to head path %r: %s'\u001b[0m \u001b[0;34m%\u001b[0m \u001b[0;34m(\u001b[0m\u001b[0mpath\u001b[0m\u001b[0;34m,\u001b[0m \u001b[0me\u001b[0m\u001b[0;34m)\u001b[0m\u001b[0;34m)\u001b[0m\u001b[0;34m\u001b[0m\u001b[0;34m\u001b[0m\u001b[0m\n\u001b[0;32m--> 498\u001b[0;31m         \u001b[0;32mreturn\u001b[0m \u001b[0msuper\u001b[0m\u001b[0;34m(\u001b[0m\u001b[0;34m)\u001b[0m\u001b[0;34m.\u001b[0m\u001b[0minfo\u001b[0m\u001b[0;34m(\u001b[0m\u001b[0mpath\u001b[0m\u001b[0;34m)\u001b[0m\u001b[0;34m\u001b[0m\u001b[0;34m\u001b[0m\u001b[0m\n\u001b[0m\u001b[1;32m    499\u001b[0m \u001b[0;34m\u001b[0m\u001b[0m\n\u001b[1;32m    500\u001b[0m     \u001b[0;32mdef\u001b[0m \u001b[0mls\u001b[0m\u001b[0;34m(\u001b[0m\u001b[0mself\u001b[0m\u001b[0;34m,\u001b[0m \u001b[0mpath\u001b[0m\u001b[0;34m,\u001b[0m \u001b[0mdetail\u001b[0m\u001b[0;34m=\u001b[0m\u001b[0;32mFalse\u001b[0m\u001b[0;34m,\u001b[0m \u001b[0mrefresh\u001b[0m\u001b[0;34m=\u001b[0m\u001b[0;32mFalse\u001b[0m\u001b[0;34m,\u001b[0m \u001b[0;34m**\u001b[0m\u001b[0mkwargs\u001b[0m\u001b[0;34m)\u001b[0m\u001b[0;34m:\u001b[0m\u001b[0;34m\u001b[0m\u001b[0;34m\u001b[0m\u001b[0m\n",
      "\u001b[0;32m~/.conda/envs/p1_develop/lib/python3.6/site-packages/fsspec/spec.py\u001b[0m in \u001b[0;36minfo\u001b[0;34m(self, path, **kwargs)\u001b[0m\n\u001b[1;32m    495\u001b[0m         \"\"\"\n\u001b[1;32m    496\u001b[0m         \u001b[0mpath\u001b[0m \u001b[0;34m=\u001b[0m \u001b[0mself\u001b[0m\u001b[0;34m.\u001b[0m\u001b[0m_strip_protocol\u001b[0m\u001b[0;34m(\u001b[0m\u001b[0mpath\u001b[0m\u001b[0;34m)\u001b[0m\u001b[0;34m\u001b[0m\u001b[0;34m\u001b[0m\u001b[0m\n\u001b[0;32m--> 497\u001b[0;31m         \u001b[0mout\u001b[0m \u001b[0;34m=\u001b[0m \u001b[0mself\u001b[0m\u001b[0;34m.\u001b[0m\u001b[0mls\u001b[0m\u001b[0;34m(\u001b[0m\u001b[0mself\u001b[0m\u001b[0;34m.\u001b[0m\u001b[0m_parent\u001b[0m\u001b[0;34m(\u001b[0m\u001b[0mpath\u001b[0m\u001b[0;34m)\u001b[0m\u001b[0;34m,\u001b[0m \u001b[0mdetail\u001b[0m\u001b[0;34m=\u001b[0m\u001b[0;32mTrue\u001b[0m\u001b[0;34m,\u001b[0m \u001b[0;34m**\u001b[0m\u001b[0mkwargs\u001b[0m\u001b[0;34m)\u001b[0m\u001b[0;34m\u001b[0m\u001b[0;34m\u001b[0m\u001b[0m\n\u001b[0m\u001b[1;32m    498\u001b[0m         \u001b[0mout\u001b[0m \u001b[0;34m=\u001b[0m \u001b[0;34m[\u001b[0m\u001b[0mo\u001b[0m \u001b[0;32mfor\u001b[0m \u001b[0mo\u001b[0m \u001b[0;32min\u001b[0m \u001b[0mout\u001b[0m \u001b[0;32mif\u001b[0m \u001b[0mo\u001b[0m\u001b[0;34m[\u001b[0m\u001b[0;34m'name'\u001b[0m\u001b[0;34m]\u001b[0m\u001b[0;34m.\u001b[0m\u001b[0mrstrip\u001b[0m\u001b[0;34m(\u001b[0m\u001b[0;34m'/'\u001b[0m\u001b[0;34m)\u001b[0m \u001b[0;34m==\u001b[0m \u001b[0mpath\u001b[0m\u001b[0;34m]\u001b[0m\u001b[0;34m\u001b[0m\u001b[0;34m\u001b[0m\u001b[0m\n\u001b[1;32m    499\u001b[0m         \u001b[0;32mif\u001b[0m \u001b[0mout\u001b[0m\u001b[0;34m:\u001b[0m\u001b[0;34m\u001b[0m\u001b[0;34m\u001b[0m\u001b[0m\n",
      "\u001b[0;32m~/.conda/envs/p1_develop/lib/python3.6/site-packages/s3fs/core.py\u001b[0m in \u001b[0;36mls\u001b[0;34m(self, path, detail, refresh, **kwargs)\u001b[0m\n\u001b[1;32m    514\u001b[0m         \"\"\"\n\u001b[1;32m    515\u001b[0m         \u001b[0mpath\u001b[0m \u001b[0;34m=\u001b[0m \u001b[0mself\u001b[0m\u001b[0;34m.\u001b[0m\u001b[0m_strip_protocol\u001b[0m\u001b[0;34m(\u001b[0m\u001b[0mpath\u001b[0m\u001b[0;34m)\u001b[0m\u001b[0;34m.\u001b[0m\u001b[0mrstrip\u001b[0m\u001b[0;34m(\u001b[0m\u001b[0;34m'/'\u001b[0m\u001b[0;34m)\u001b[0m\u001b[0;34m\u001b[0m\u001b[0;34m\u001b[0m\u001b[0m\n\u001b[0;32m--> 516\u001b[0;31m         \u001b[0mfiles\u001b[0m \u001b[0;34m=\u001b[0m \u001b[0mself\u001b[0m\u001b[0;34m.\u001b[0m\u001b[0m_ls\u001b[0m\u001b[0;34m(\u001b[0m\u001b[0mpath\u001b[0m\u001b[0;34m,\u001b[0m \u001b[0mrefresh\u001b[0m\u001b[0;34m=\u001b[0m\u001b[0mrefresh\u001b[0m\u001b[0;34m)\u001b[0m\u001b[0;34m\u001b[0m\u001b[0;34m\u001b[0m\u001b[0m\n\u001b[0m\u001b[1;32m    517\u001b[0m         \u001b[0;32mif\u001b[0m \u001b[0;32mnot\u001b[0m \u001b[0mfiles\u001b[0m\u001b[0;34m:\u001b[0m\u001b[0;34m\u001b[0m\u001b[0;34m\u001b[0m\u001b[0m\n\u001b[1;32m    518\u001b[0m             \u001b[0mfiles\u001b[0m \u001b[0;34m=\u001b[0m \u001b[0mself\u001b[0m\u001b[0;34m.\u001b[0m\u001b[0m_ls\u001b[0m\u001b[0;34m(\u001b[0m\u001b[0mself\u001b[0m\u001b[0;34m.\u001b[0m\u001b[0m_parent\u001b[0m\u001b[0;34m(\u001b[0m\u001b[0mpath\u001b[0m\u001b[0;34m)\u001b[0m\u001b[0;34m,\u001b[0m \u001b[0mrefresh\u001b[0m\u001b[0;34m=\u001b[0m\u001b[0mrefresh\u001b[0m\u001b[0;34m)\u001b[0m\u001b[0;34m\u001b[0m\u001b[0;34m\u001b[0m\u001b[0m\n",
      "\u001b[0;32m~/.conda/envs/p1_develop/lib/python3.6/site-packages/s3fs/core.py\u001b[0m in \u001b[0;36m_ls\u001b[0;34m(self, path, refresh)\u001b[0m\n\u001b[1;32m    439\u001b[0m             \u001b[0;32mreturn\u001b[0m \u001b[0mself\u001b[0m\u001b[0;34m.\u001b[0m\u001b[0m_lsbuckets\u001b[0m\u001b[0;34m(\u001b[0m\u001b[0mrefresh\u001b[0m\u001b[0;34m)\u001b[0m\u001b[0;34m\u001b[0m\u001b[0;34m\u001b[0m\u001b[0m\n\u001b[1;32m    440\u001b[0m         \u001b[0;32melse\u001b[0m\u001b[0;34m:\u001b[0m\u001b[0;34m\u001b[0m\u001b[0;34m\u001b[0m\u001b[0m\n\u001b[0;32m--> 441\u001b[0;31m             \u001b[0;32mreturn\u001b[0m \u001b[0mself\u001b[0m\u001b[0;34m.\u001b[0m\u001b[0m_lsdir\u001b[0m\u001b[0;34m(\u001b[0m\u001b[0mpath\u001b[0m\u001b[0;34m,\u001b[0m \u001b[0mrefresh\u001b[0m\u001b[0;34m)\u001b[0m\u001b[0;34m\u001b[0m\u001b[0;34m\u001b[0m\u001b[0m\n\u001b[0m\u001b[1;32m    442\u001b[0m \u001b[0;34m\u001b[0m\u001b[0m\n\u001b[1;32m    443\u001b[0m     \u001b[0;32mdef\u001b[0m \u001b[0mexists\u001b[0m\u001b[0;34m(\u001b[0m\u001b[0mself\u001b[0m\u001b[0;34m,\u001b[0m \u001b[0mpath\u001b[0m\u001b[0;34m)\u001b[0m\u001b[0;34m:\u001b[0m\u001b[0;34m\u001b[0m\u001b[0;34m\u001b[0m\u001b[0m\n",
      "\u001b[0;32m~/.conda/envs/p1_develop/lib/python3.6/site-packages/s3fs/core.py\u001b[0m in \u001b[0;36m_lsdir\u001b[0;34m(self, path, refresh, max_items)\u001b[0m\n\u001b[1;32m    345\u001b[0m                     \u001b[0mf\u001b[0m\u001b[0;34m[\u001b[0m\u001b[0;34m'name'\u001b[0m\u001b[0;34m]\u001b[0m \u001b[0;34m=\u001b[0m \u001b[0mf\u001b[0m\u001b[0;34m[\u001b[0m\u001b[0;34m'Key'\u001b[0m\u001b[0;34m]\u001b[0m\u001b[0;34m\u001b[0m\u001b[0;34m\u001b[0m\u001b[0m\n\u001b[1;32m    346\u001b[0m             \u001b[0;32mexcept\u001b[0m \u001b[0mClientError\u001b[0m \u001b[0;32mas\u001b[0m \u001b[0me\u001b[0m\u001b[0;34m:\u001b[0m\u001b[0;34m\u001b[0m\u001b[0;34m\u001b[0m\u001b[0m\n\u001b[0;32m--> 347\u001b[0;31m                 \u001b[0;32mraise\u001b[0m \u001b[0mtranslate_boto_error\u001b[0m\u001b[0;34m(\u001b[0m\u001b[0me\u001b[0m\u001b[0;34m)\u001b[0m\u001b[0;34m\u001b[0m\u001b[0;34m\u001b[0m\u001b[0m\n\u001b[0m\u001b[1;32m    348\u001b[0m \u001b[0;34m\u001b[0m\u001b[0m\n\u001b[1;32m    349\u001b[0m             \u001b[0mself\u001b[0m\u001b[0;34m.\u001b[0m\u001b[0mdircache\u001b[0m\u001b[0;34m[\u001b[0m\u001b[0mpath\u001b[0m\u001b[0;34m]\u001b[0m \u001b[0;34m=\u001b[0m \u001b[0mfiles\u001b[0m\u001b[0;34m\u001b[0m\u001b[0;34m\u001b[0m\u001b[0m\n",
      "\u001b[0;31mPermissionError\u001b[0m: Access Denied"
     ]
    }
   ],
   "source": [
    "daily_metadata = kut.read_metadata2()\n",
    "daily_metadata.head(3)"
   ]
  },
  {
   "cell_type": "code",
   "execution_count": null,
   "metadata": {
    "ExecuteTime": {
     "end_time": "2019-10-09T18:56:48.231885Z",
     "start_time": "2019-10-09T18:56:46.830Z"
    }
   },
   "outputs": [],
   "source": [
    "len(daily_metadata[\"Symbol\"])"
   ]
  },
  {
   "cell_type": "code",
   "execution_count": null,
   "metadata": {
    "ExecuteTime": {
     "end_time": "2019-10-09T18:56:48.233206Z",
     "start_time": "2019-10-09T18:56:46.831Z"
    }
   },
   "outputs": [],
   "source": [
    "daily_metadata[\"Symbol\"].nunique()"
   ]
  },
  {
   "cell_type": "code",
   "execution_count": null,
   "metadata": {
    "ExecuteTime": {
     "end_time": "2019-10-09T18:56:48.235015Z",
     "start_time": "2019-10-09T18:56:46.833Z"
    }
   },
   "outputs": [],
   "source": [
    "len(commodity_symbols[\"Energy\"])"
   ]
  },
  {
   "cell_type": "code",
   "execution_count": null,
   "metadata": {
    "ExecuteTime": {
     "end_time": "2019-10-09T18:56:48.236197Z",
     "start_time": "2019-10-09T18:56:46.835Z"
    }
   },
   "outputs": [],
   "source": [
    "energy_symbols_kibot = np.intersect1d(\n",
    "    daily_metadata[\"Symbol\"].values, commodity_symbols[\"Energy\"]\n",
    ")\n",
    "energy_symbols_kibot"
   ]
  },
  {
   "cell_type": "code",
   "execution_count": null,
   "metadata": {
    "ExecuteTime": {
     "end_time": "2019-10-09T18:56:48.237523Z",
     "start_time": "2019-10-09T18:56:46.837Z"
    }
   },
   "outputs": [],
   "source": [
    "len(energy_symbols_kibot)"
   ]
  },
  {
   "cell_type": "code",
   "execution_count": null,
   "metadata": {
    "ExecuteTime": {
     "end_time": "2019-10-09T18:56:48.238924Z",
     "start_time": "2019-10-09T18:56:46.839Z"
    }
   },
   "outputs": [],
   "source": [
    "commodity_symbols_kibot = {\n",
    "    group: np.intersect1d(\n",
    "        daily_metadata[\"Symbol\"].values, commodity_symbols[group]\n",
    "    )\n",
    "    for group in commodity_symbols.keys()\n",
    "}"
   ]
  },
  {
   "cell_type": "code",
   "execution_count": null,
   "metadata": {
    "ExecuteTime": {
     "end_time": "2019-10-09T18:56:48.240258Z",
     "start_time": "2019-10-09T18:56:46.841Z"
    }
   },
   "outputs": [],
   "source": [
    "commodity_symbols_kibot"
   ]
  },
  {
   "cell_type": "code",
   "execution_count": null,
   "metadata": {
    "ExecuteTime": {
     "end_time": "2019-10-09T18:56:48.241670Z",
     "start_time": "2019-10-09T18:56:46.843Z"
    },
    "scrolled": true
   },
   "outputs": [],
   "source": [
    "{\n",
    "    group: len(commodity_symbols_kibot[group])\n",
    "    for group in commodity_symbols_kibot.keys()\n",
    "}"
   ]
  },
  {
   "cell_type": "code",
   "execution_count": null,
   "metadata": {
    "ExecuteTime": {
     "end_time": "2019-10-09T18:56:48.243043Z",
     "start_time": "2019-10-09T18:56:46.845Z"
    }
   },
   "outputs": [],
   "source": [
    "comm_list = []\n",
    "for comm_group in commodity_symbols_kibot.values():\n",
    "    comm_list.extend(list(comm_group))\n",
    "comm_list[:5]"
   ]
  },
  {
   "cell_type": "code",
   "execution_count": null,
   "metadata": {
    "ExecuteTime": {
     "end_time": "2019-10-09T18:56:48.244409Z",
     "start_time": "2019-10-09T18:56:46.847Z"
    }
   },
   "outputs": [],
   "source": [
    "file_name = \"/data/kibot/All_Futures_Continuous_Contracts_daily/%s.csv.gz\"\n",
    "\n",
    "daily_price_dict_df = kut.read_multiple_symbol_data(\n",
    "    comm_list, file_name, nrows=None\n",
    ")\n",
    "\n",
    "daily_price_dict_df[\"CL\"].tail(2)"
   ]
  },
  {
   "cell_type": "markdown",
   "metadata": {},
   "source": [
    "## Largest movements for a specific symbol"
   ]
  },
  {
   "cell_type": "code",
   "execution_count": null,
   "metadata": {
    "ExecuteTime": {
     "end_time": "2019-10-09T18:56:48.245528Z",
     "start_time": "2019-10-09T18:56:46.849Z"
    }
   },
   "outputs": [],
   "source": [
    "# There is a pma.get_top_movements_for_symbol() function that\n",
    "# implements this code and the code below. I am not using it\n",
    "# in this chapter to provide a clearer view of the algorithm."
   ]
  },
  {
   "cell_type": "code",
   "execution_count": null,
   "metadata": {
    "ExecuteTime": {
     "end_time": "2019-10-09T18:56:48.247003Z",
     "start_time": "2019-10-09T18:56:46.852Z"
    }
   },
   "outputs": [],
   "source": [
    "symbol = \"CL\""
   ]
  },
  {
   "cell_type": "code",
   "execution_count": null,
   "metadata": {
    "ExecuteTime": {
     "end_time": "2019-10-09T18:56:48.248250Z",
     "start_time": "2019-10-09T18:56:46.855Z"
    }
   },
   "outputs": [],
   "source": [
    "cl_prices = daily_price_dict_df[symbol]"
   ]
  },
  {
   "cell_type": "code",
   "execution_count": null,
   "metadata": {
    "ExecuteTime": {
     "end_time": "2019-10-09T18:56:48.249292Z",
     "start_time": "2019-10-09T18:56:46.858Z"
    }
   },
   "outputs": [],
   "source": [
    "cl_prices_diff = cl_prices[\"close\"] - cl_prices[\"open\"]"
   ]
  },
  {
   "cell_type": "code",
   "execution_count": null,
   "metadata": {
    "ExecuteTime": {
     "end_time": "2019-10-09T18:56:48.250967Z",
     "start_time": "2019-10-09T18:56:46.861Z"
    }
   },
   "outputs": [],
   "source": [
    "zscored_cl_prices_diff = sp.rolling_zscore(cl_prices_diff, TAU)\n",
    "zscored_cl_prices_diff.head()"
   ]
  },
  {
   "cell_type": "code",
   "execution_count": null,
   "metadata": {
    "ExecuteTime": {
     "end_time": "2019-10-09T18:56:48.252333Z",
     "start_time": "2019-10-09T18:56:46.863Z"
    }
   },
   "outputs": [],
   "source": [
    "abs_zscored_cl_prices_diff = zscored_cl_prices_diff.abs()"
   ]
  },
  {
   "cell_type": "code",
   "execution_count": null,
   "metadata": {
    "ExecuteTime": {
     "end_time": "2019-10-09T18:56:48.253849Z",
     "start_time": "2019-10-09T18:56:46.868Z"
    }
   },
   "outputs": [],
   "source": [
    "abs_zscored_cl_prices_diff.max()"
   ]
  },
  {
   "cell_type": "code",
   "execution_count": null,
   "metadata": {
    "ExecuteTime": {
     "end_time": "2019-10-09T18:56:48.255262Z",
     "start_time": "2019-10-09T18:56:46.870Z"
    }
   },
   "outputs": [],
   "source": [
    "top_100_movements_cl = abs_zscored_cl_prices_diff.sort_values(\n",
    "    ascending=False\n",
    ").head(100)"
   ]
  },
  {
   "cell_type": "code",
   "execution_count": null,
   "metadata": {
    "ExecuteTime": {
     "end_time": "2019-10-09T18:56:48.256507Z",
     "start_time": "2019-10-09T18:56:46.872Z"
    }
   },
   "outputs": [],
   "source": [
    "top_100_movements_cl.plot(kind=\"bar\")\n",
    "ax = plt.gca()\n",
    "xlabels = [item.get_text()[:10] for item in ax.get_xticklabels()]\n",
    "ax.set_xticklabels(xlabels)\n",
    "plt.title(\n",
    "    f\"Largest price movements in a single day (in z-score space) for {symbol} symbol\"\n",
    ")\n",
    "plt.show()"
   ]
  },
  {
   "cell_type": "code",
   "execution_count": null,
   "metadata": {
    "ExecuteTime": {
     "end_time": "2019-10-09T18:56:48.257820Z",
     "start_time": "2019-10-09T18:56:46.874Z"
    }
   },
   "outputs": [],
   "source": [
    "top_100_movements_cl.index.year.value_counts(sort=False).plot(kind=\"bar\")\n",
    "plt.title(\"How many of the top-100 price movements occured during each year\")\n",
    "plt.show()"
   ]
  },
  {
   "cell_type": "markdown",
   "metadata": {},
   "source": [
    "## Largest movement for energy group"
   ]
  },
  {
   "cell_type": "code",
   "execution_count": null,
   "metadata": {
    "ExecuteTime": {
     "end_time": "2019-10-09T18:56:48.259059Z",
     "start_time": "2019-10-09T18:56:46.877Z"
    }
   },
   "outputs": [],
   "source": [
    "group = \"Energy\""
   ]
  },
  {
   "cell_type": "code",
   "execution_count": null,
   "metadata": {
    "ExecuteTime": {
     "end_time": "2019-10-09T18:56:48.260138Z",
     "start_time": "2019-10-09T18:56:46.879Z"
    }
   },
   "outputs": [],
   "source": [
    "commodity_symbols_kibot[group]"
   ]
  },
  {
   "cell_type": "code",
   "execution_count": null,
   "metadata": {
    "ExecuteTime": {
     "end_time": "2019-10-09T18:56:48.261647Z",
     "start_time": "2019-10-09T18:56:46.882Z"
    }
   },
   "outputs": [],
   "source": [
    "zscored_diffs = []\n",
    "for symbol in commodity_symbols_kibot[group]:\n",
    "    zscored_diff = pma.get_zscored_prices_diff(daily_price_dict_df, symbol)\n",
    "    zscored_diffs.append(zscored_diff)"
   ]
  },
  {
   "cell_type": "code",
   "execution_count": null,
   "metadata": {
    "ExecuteTime": {
     "end_time": "2019-10-09T18:56:48.262981Z",
     "start_time": "2019-10-09T18:56:46.884Z"
    }
   },
   "outputs": [],
   "source": [
    "zscored_diffs = pd.concat(zscored_diffs, axis=1)\n",
    "zscored_diffs.head()"
   ]
  },
  {
   "cell_type": "code",
   "execution_count": null,
   "metadata": {
    "ExecuteTime": {
     "end_time": "2019-10-09T18:56:48.264422Z",
     "start_time": "2019-10-09T18:56:46.886Z"
    }
   },
   "outputs": [],
   "source": [
    "mean_zscored_diffs = zscored_diffs.mean(axis=1, skipna=True)"
   ]
  },
  {
   "cell_type": "code",
   "execution_count": null,
   "metadata": {
    "ExecuteTime": {
     "end_time": "2019-10-09T18:56:48.265593Z",
     "start_time": "2019-10-09T18:56:46.888Z"
    }
   },
   "outputs": [],
   "source": [
    "mean_zscored_diffs.head()"
   ]
  },
  {
   "cell_type": "code",
   "execution_count": null,
   "metadata": {
    "ExecuteTime": {
     "end_time": "2019-10-09T18:56:48.266909Z",
     "start_time": "2019-10-09T18:56:46.890Z"
    }
   },
   "outputs": [],
   "source": [
    "mean_zscored_diffs.tail()"
   ]
  },
  {
   "cell_type": "code",
   "execution_count": null,
   "metadata": {
    "ExecuteTime": {
     "end_time": "2019-10-09T18:56:48.268923Z",
     "start_time": "2019-10-09T18:56:46.891Z"
    }
   },
   "outputs": [],
   "source": [
    "mean_zscored_diffs.sort_values(ascending=False).head(100)"
   ]
  },
  {
   "cell_type": "markdown",
   "metadata": {},
   "source": [
    "## Largest movements for each group"
   ]
  },
  {
   "cell_type": "code",
   "execution_count": null,
   "metadata": {
    "ExecuteTime": {
     "end_time": "2019-10-09T18:56:48.270605Z",
     "start_time": "2019-10-09T18:56:46.894Z"
    }
   },
   "outputs": [],
   "source": [
    "top_100_movements_by_group = {\n",
    "    group: pma.get_top_movements_by_group(\n",
    "        daily_price_dict_df, commodity_symbols_kibot, group\n",
    "    )\n",
    "    for group in commodity_symbols_kibot.keys()\n",
    "}"
   ]
  },
  {
   "cell_type": "code",
   "execution_count": null,
   "metadata": {
    "ExecuteTime": {
     "end_time": "2019-10-09T18:56:48.272183Z",
     "start_time": "2019-10-09T18:56:46.896Z"
    }
   },
   "outputs": [],
   "source": [
    "top_100_movements_by_group.keys()"
   ]
  },
  {
   "cell_type": "code",
   "execution_count": null,
   "metadata": {
    "ExecuteTime": {
     "end_time": "2019-10-09T18:56:48.273996Z",
     "start_time": "2019-10-09T18:56:46.898Z"
    }
   },
   "outputs": [],
   "source": [
    "top_100_movements_by_group[\"Energy\"].head()"
   ]
  },
  {
   "cell_type": "code",
   "execution_count": null,
   "metadata": {
    "ExecuteTime": {
     "end_time": "2019-10-09T18:56:48.275792Z",
     "start_time": "2019-10-09T18:56:46.900Z"
    }
   },
   "outputs": [],
   "source": [
    "top_100_movements_by_group[\"Agriculture\"].head()"
   ]
  },
  {
   "cell_type": "code",
   "execution_count": null,
   "metadata": {
    "ExecuteTime": {
     "end_time": "2019-10-09T18:56:48.277072Z",
     "start_time": "2019-10-09T18:56:46.901Z"
    }
   },
   "outputs": [],
   "source": [
    "top_100_movements_by_group[\"Metals\"].head()"
   ]
  },
  {
   "cell_type": "markdown",
   "metadata": {},
   "source": [
    "# 5-minute price movements"
   ]
  },
  {
   "cell_type": "markdown",
   "metadata": {},
   "source": [
    "## Load 1-minute prices"
   ]
  },
  {
   "cell_type": "code",
   "execution_count": null,
   "metadata": {
    "ExecuteTime": {
     "end_time": "2019-10-09T18:56:48.278530Z",
     "start_time": "2019-10-09T18:56:46.904Z"
    }
   },
   "outputs": [],
   "source": [
    "minutely_metadata = kut.read_metadata1()"
   ]
  },
  {
   "cell_type": "code",
   "execution_count": null,
   "metadata": {
    "ExecuteTime": {
     "end_time": "2019-10-09T18:56:48.279967Z",
     "start_time": "2019-10-09T18:56:46.908Z"
    },
    "scrolled": true
   },
   "outputs": [],
   "source": [
    "minutely_metadata.head()"
   ]
  },
  {
   "cell_type": "code",
   "execution_count": null,
   "metadata": {
    "ExecuteTime": {
     "end_time": "2019-10-09T18:56:48.281073Z",
     "start_time": "2019-10-09T18:56:46.911Z"
    }
   },
   "outputs": [],
   "source": [
    "np.array_equal(\n",
    "    minutely_metadata[\"Symbol\"].values, minutely_metadata[\"Symbol\"].values\n",
    ")"
   ]
  },
  {
   "cell_type": "code",
   "execution_count": null,
   "metadata": {
    "ExecuteTime": {
     "end_time": "2019-10-09T18:56:48.282261Z",
     "start_time": "2019-10-09T18:56:46.913Z"
    }
   },
   "outputs": [],
   "source": [
    "file_name = \"/data/kibot/All_Futures_Continuous_Contracts_1min/%s.csv.gz\"\n",
    "\n",
    "minutely_price_dict_df = kut.read_multiple_symbol_data(\n",
    "    comm_list, file_name, nrows=None\n",
    ")\n",
    "\n",
    "minutely_price_dict_df[\"CL\"].tail(2)"
   ]
  },
  {
   "cell_type": "code",
   "execution_count": null,
   "metadata": {
    "ExecuteTime": {
     "end_time": "2019-10-09T18:56:48.283469Z",
     "start_time": "2019-10-09T18:56:46.915Z"
    }
   },
   "outputs": [],
   "source": [
    "minutely_price_dict_df[\"CL\"].head()"
   ]
  },
  {
   "cell_type": "code",
   "execution_count": null,
   "metadata": {
    "ExecuteTime": {
     "end_time": "2019-10-09T18:56:48.284920Z",
     "start_time": "2019-10-09T18:56:46.917Z"
    }
   },
   "outputs": [],
   "source": [
    "five_min_price_dict_df = {\n",
    "    symbol: minutely_price_dict_df[symbol].resample(\"5Min\").sum()\n",
    "    for symbol in minutely_price_dict_df.keys()\n",
    "}"
   ]
  },
  {
   "cell_type": "markdown",
   "metadata": {},
   "source": [
    "## Top movements for a symbol"
   ]
  },
  {
   "cell_type": "code",
   "execution_count": null,
   "metadata": {
    "ExecuteTime": {
     "end_time": "2019-10-09T18:56:48.286337Z",
     "start_time": "2019-10-09T18:56:46.919Z"
    }
   },
   "outputs": [],
   "source": [
    "symbol = \"CL\""
   ]
  },
  {
   "cell_type": "code",
   "execution_count": null,
   "metadata": {
    "ExecuteTime": {
     "end_time": "2019-10-09T18:56:48.287579Z",
     "start_time": "2019-10-09T18:56:46.921Z"
    }
   },
   "outputs": [],
   "source": [
    "top_100_movements_cl_5_min = pma.get_top_movements_for_symbol(\n",
    "    five_min_price_dict_df, symbol\n",
    ")"
   ]
  },
  {
   "cell_type": "code",
   "execution_count": null,
   "metadata": {
    "ExecuteTime": {
     "end_time": "2019-10-09T18:56:48.289193Z",
     "start_time": "2019-10-09T18:56:46.922Z"
    }
   },
   "outputs": [],
   "source": [
    "top_100_movements_cl_5_min[\"CL\"].head()"
   ]
  },
  {
   "cell_type": "code",
   "execution_count": null,
   "metadata": {
    "ExecuteTime": {
     "end_time": "2019-10-09T18:56:48.290800Z",
     "start_time": "2019-10-09T18:56:46.924Z"
    }
   },
   "outputs": [],
   "source": [
    "top_100_movements_cl_5_min.plot(kind=\"bar\")\n",
    "plt.title(\n",
    "    f\"Largest price movements in in a 5 min interval (in z-score space) for {symbol} symbol\"\n",
    ")\n",
    "plt.show()"
   ]
  },
  {
   "cell_type": "code",
   "execution_count": null,
   "metadata": {
    "ExecuteTime": {
     "end_time": "2019-10-09T18:56:48.292388Z",
     "start_time": "2019-10-09T18:56:46.926Z"
    }
   },
   "outputs": [],
   "source": [
    "print(f\"Top 100 of the price movements for {symbol} occur at the following time:\")\n",
    "print(pd.Series(top_100_movements_cl_5_min.index).dt.time.value_counts())"
   ]
  },
  {
   "cell_type": "markdown",
   "metadata": {},
   "source": [
    "## Largest movements for energy group"
   ]
  },
  {
   "cell_type": "code",
   "execution_count": null,
   "metadata": {
    "ExecuteTime": {
     "end_time": "2019-10-09T18:56:48.293607Z",
     "start_time": "2019-10-09T18:56:46.928Z"
    }
   },
   "outputs": [],
   "source": [
    "group = \"Energy\""
   ]
  },
  {
   "cell_type": "code",
   "execution_count": null,
   "metadata": {
    "ExecuteTime": {
     "end_time": "2019-10-09T18:56:48.294509Z",
     "start_time": "2019-10-09T18:56:46.930Z"
    }
   },
   "outputs": [],
   "source": [
    "commodity_symbols_kibot[group]"
   ]
  },
  {
   "cell_type": "code",
   "execution_count": null,
   "metadata": {
    "ExecuteTime": {
     "end_time": "2019-10-09T18:56:48.295498Z",
     "start_time": "2019-10-09T18:56:46.932Z"
    }
   },
   "outputs": [],
   "source": [
    "pma.get_top_movements_by_group(\n",
    "    five_min_price_dict_df, commodity_symbols_kibot, group\n",
    ")"
   ]
  },
  {
   "cell_type": "markdown",
   "metadata": {},
   "source": [
    "## Largest movements for each group"
   ]
  },
  {
   "cell_type": "code",
   "execution_count": null,
   "metadata": {
    "ExecuteTime": {
     "end_time": "2019-10-09T18:56:48.297194Z",
     "start_time": "2019-10-09T18:56:46.934Z"
    }
   },
   "outputs": [],
   "source": [
    "top_100_5_min_movements_by_group = {\n",
    "    group: pma.get_top_movements_by_group(\n",
    "        five_min_price_dict_df, commodity_symbols_kibot, group\n",
    "    )\n",
    "    for group in tqdm(commodity_symbols_kibot.keys())\n",
    "}"
   ]
  },
  {
   "cell_type": "code",
   "execution_count": null,
   "metadata": {
    "ExecuteTime": {
     "end_time": "2019-10-09T18:56:48.298413Z",
     "start_time": "2019-10-09T18:56:46.937Z"
    }
   },
   "outputs": [],
   "source": [
    "{\n",
    "    group: head_prices_group.head()\n",
    "    for group, head_prices_group in top_100_5_min_movements_by_group.items()\n",
    "}"
   ]
  },
  {
   "cell_type": "code",
   "execution_count": null,
   "metadata": {},
   "outputs": [],
   "source": []
  }
 ],
 "metadata": {
  "jupytext": {
   "text_representation": {
    "extension": ".py",
    "format_name": "percent",
    "format_version": "1.2",
    "jupytext_version": "1.2.4"
   }
  },
  "kernelspec": {
   "display_name": "Python [conda env:.conda-p1_develop] *",
   "language": "python",
   "name": "conda-env-.conda-p1_develop-py"
  },
  "language_info": {
   "codemirror_mode": {
    "name": "ipython",
    "version": 3
   },
   "file_extension": ".py",
   "mimetype": "text/x-python",
   "name": "python",
   "nbconvert_exporter": "python",
   "pygments_lexer": "ipython3",
   "version": "3.6.7"
  },
  "toc": {
   "base_numbering": 1,
   "nav_menu": {},
   "number_sections": true,
   "sideBar": true,
   "skip_h1_title": false,
   "title_cell": "Table of Contents",
   "title_sidebar": "Contents",
   "toc_cell": false,
   "toc_position": {
    "height": "calc(100% - 180px)",
    "left": "10px",
    "top": "150px",
    "width": "206.016px"
   },
   "toc_section_display": true,
   "toc_window_display": true
  }
 },
 "nbformat": 4,
 "nbformat_minor": 2
}
