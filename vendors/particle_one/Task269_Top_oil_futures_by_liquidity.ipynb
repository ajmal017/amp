{
 "cells": [
  {
   "cell_type": "markdown",
   "metadata": {},
   "source": [
    "## Import"
   ]
  },
  {
   "cell_type": "code",
   "execution_count": 1,
   "metadata": {
    "ExecuteTime": {
     "end_time": "2019-09-05T15:15:54.965783Z",
     "start_time": "2019-09-05T15:15:53.958464Z"
    }
   },
   "outputs": [],
   "source": [
    "%load_ext autoreload\n",
    "%autoreload 2\n",
    "import datetime\n",
    "import logging\n",
    "import os\n",
    "import platform\n",
    "\n",
    "import numpy as np\n",
    "import pandas as pd\n",
    "import seaborn as sns\n",
    "import scipy\n",
    "import matplotlib\n",
    "import matplotlib.pyplot as plt\n",
    "import sklearn\n",
    "\n",
    "import helpers.config as cfg\n",
    "import helpers.dbg as dbg\n",
    "import helpers.printing as printing\n",
    "import core.explore as exp\n",
    "import core.finance as fin\n",
    "\n",
    "import vendors.kibot.utils as kut"
   ]
  },
  {
   "cell_type": "code",
   "execution_count": 2,
   "metadata": {
    "ExecuteTime": {
     "end_time": "2019-09-05T15:15:54.990050Z",
     "start_time": "2019-09-05T15:15:54.968431Z"
    }
   },
   "outputs": [
    {
     "name": "stdout",
     "output_type": "stream",
     "text": [
      "python=3.7.3\n",
      "numpy=1.17.1\n",
      "pandas=0.25.1\n",
      "seaborn=0.9.0\n",
      "scipy=1.3.1\n",
      "matplotlib=3.1.1\n",
      "sklearn=0.21.3\n",
      "effective level= 20 (INFO)\n",
      "WARNING: Running in Jupyter\n"
     ]
    }
   ],
   "source": [
    "print(cfg.get_system_signature())\n",
    "\n",
    "printing.config_notebook()\n",
    "\n",
    "# TODO(gp): Changing level during the notebook execution doesn't work. Fix it.\n",
    "#dbg.init_logger(verb=logging.DEBUG)\n",
    "dbg.init_logger(verb=logging.INFO)\n",
    "#dbg.test_logger()\n",
    "\n",
    "_LOG = logging.getLogger(__name__)"
   ]
  },
  {
   "cell_type": "markdown",
   "metadata": {
    "ExecuteTime": {
     "end_time": "2019-07-21T14:38:14.637800Z",
     "start_time": "2019-07-21T14:38:14.620807Z"
    }
   },
   "source": [
    "# Metadata"
   ]
  },
  {
   "cell_type": "code",
   "execution_count": 3,
   "metadata": {
    "ExecuteTime": {
     "end_time": "2019-09-05T15:15:55.097142Z",
     "start_time": "2019-09-05T15:15:54.992061Z"
    }
   },
   "outputs": [
    {
     "data": {
      "text/html": [
       "<div>\n",
       "<style scoped>\n",
       "    .dataframe tbody tr th:only-of-type {\n",
       "        vertical-align: middle;\n",
       "    }\n",
       "\n",
       "    .dataframe tbody tr th {\n",
       "        vertical-align: top;\n",
       "    }\n",
       "\n",
       "    .dataframe thead th {\n",
       "        text-align: right;\n",
       "    }\n",
       "</style>\n",
       "<table border=\"1\" class=\"dataframe\">\n",
       "  <thead>\n",
       "    <tr style=\"text-align: right;\">\n",
       "      <th></th>\n",
       "      <th>Symbol</th>\n",
       "      <th>Link</th>\n",
       "      <th>Description</th>\n",
       "    </tr>\n",
       "  </thead>\n",
       "  <tbody>\n",
       "    <tr>\n",
       "      <td>1</td>\n",
       "      <td>JY</td>\n",
       "      <td>http://api.kibot.com/?action=download&amp;link=151...</td>\n",
       "      <td>CONTINUOUS JAPANESE YEN CONTRACT</td>\n",
       "    </tr>\n",
       "    <tr>\n",
       "      <td>2</td>\n",
       "      <td>JYF18</td>\n",
       "      <td>http://api.kibot.com/?action=download&amp;link=vrv...</td>\n",
       "      <td>JAPANESE YEN JANUARY 2018</td>\n",
       "    </tr>\n",
       "    <tr>\n",
       "      <td>3</td>\n",
       "      <td>JYF19</td>\n",
       "      <td>http://api.kibot.com/?action=download&amp;link=8r8...</td>\n",
       "      <td>JAPANESE YEN JANUARY 2019</td>\n",
       "    </tr>\n",
       "  </tbody>\n",
       "</table>\n",
       "</div>"
      ],
      "text/plain": [
       "  Symbol                                               Link                       Description\n",
       "1     JY  http://api.kibot.com/?action=download&link=151...  CONTINUOUS JAPANESE YEN CONTRACT\n",
       "2  JYF18  http://api.kibot.com/?action=download&link=vrv...         JAPANESE YEN JANUARY 2018\n",
       "3  JYF19  http://api.kibot.com/?action=download&link=8r8...         JAPANESE YEN JANUARY 2019"
      ]
     },
     "execution_count": 3,
     "metadata": {},
     "output_type": "execute_result"
    }
   ],
   "source": [
    "df1 = kut.read_metadata1()\n",
    "df1.head(3)"
   ]
  },
  {
   "cell_type": "code",
   "execution_count": 4,
   "metadata": {
    "ExecuteTime": {
     "end_time": "2019-09-05T15:15:55.201801Z",
     "start_time": "2019-09-05T15:15:55.099019Z"
    }
   },
   "outputs": [
    {
     "data": {
      "text/html": [
       "<div>\n",
       "<style scoped>\n",
       "    .dataframe tbody tr th:only-of-type {\n",
       "        vertical-align: middle;\n",
       "    }\n",
       "\n",
       "    .dataframe tbody tr th {\n",
       "        vertical-align: top;\n",
       "    }\n",
       "\n",
       "    .dataframe thead th {\n",
       "        text-align: right;\n",
       "    }\n",
       "</style>\n",
       "<table border=\"1\" class=\"dataframe\">\n",
       "  <thead>\n",
       "    <tr style=\"text-align: right;\">\n",
       "      <th></th>\n",
       "      <th>Symbol</th>\n",
       "      <th>Link</th>\n",
       "      <th>Description</th>\n",
       "    </tr>\n",
       "  </thead>\n",
       "  <tbody>\n",
       "    <tr>\n",
       "      <td>1</td>\n",
       "      <td>JY</td>\n",
       "      <td>http://api.kibot.com/?action=download&amp;link=151...</td>\n",
       "      <td>CONTINUOUS JAPANESE YEN CONTRACT</td>\n",
       "    </tr>\n",
       "    <tr>\n",
       "      <td>2</td>\n",
       "      <td>JYF18</td>\n",
       "      <td>http://api.kibot.com/?action=download&amp;link=vrv...</td>\n",
       "      <td>JAPANESE YEN JANUARY 2018</td>\n",
       "    </tr>\n",
       "    <tr>\n",
       "      <td>3</td>\n",
       "      <td>JYF19</td>\n",
       "      <td>http://api.kibot.com/?action=download&amp;link=8r8...</td>\n",
       "      <td>JAPANESE YEN JANUARY 2019</td>\n",
       "    </tr>\n",
       "  </tbody>\n",
       "</table>\n",
       "</div>"
      ],
      "text/plain": [
       "  Symbol                                               Link                       Description\n",
       "1     JY  http://api.kibot.com/?action=download&link=151...  CONTINUOUS JAPANESE YEN CONTRACT\n",
       "2  JYF18  http://api.kibot.com/?action=download&link=vrv...         JAPANESE YEN JANUARY 2018\n",
       "3  JYF19  http://api.kibot.com/?action=download&link=8r8...         JAPANESE YEN JANUARY 2019"
      ]
     },
     "execution_count": 4,
     "metadata": {},
     "output_type": "execute_result"
    }
   ],
   "source": [
    "df2 = kut.read_metadata2()\n",
    "df2.head(3)"
   ]
  },
  {
   "cell_type": "code",
   "execution_count": 5,
   "metadata": {
    "ExecuteTime": {
     "end_time": "2019-09-05T15:15:55.242296Z",
     "start_time": "2019-09-05T15:15:55.203464Z"
    }
   },
   "outputs": [
    {
     "data": {
      "text/html": [
       "<div>\n",
       "<style scoped>\n",
       "    .dataframe tbody tr th:only-of-type {\n",
       "        vertical-align: middle;\n",
       "    }\n",
       "\n",
       "    .dataframe tbody tr th {\n",
       "        vertical-align: top;\n",
       "    }\n",
       "\n",
       "    .dataframe thead th {\n",
       "        text-align: right;\n",
       "    }\n",
       "</style>\n",
       "<table border=\"1\" class=\"dataframe\">\n",
       "  <thead>\n",
       "    <tr style=\"text-align: right;\">\n",
       "      <th></th>\n",
       "      <th>SymbolBase</th>\n",
       "      <th>Symbol</th>\n",
       "      <th>StartDate</th>\n",
       "      <th>Size(MB)</th>\n",
       "      <th>Description</th>\n",
       "      <th>Exchange</th>\n",
       "    </tr>\n",
       "  </thead>\n",
       "  <tbody>\n",
       "    <tr>\n",
       "      <td>1</td>\n",
       "      <td>ES</td>\n",
       "      <td>ES</td>\n",
       "      <td>9/30/2009</td>\n",
       "      <td>50610.0</td>\n",
       "      <td>CONTINUOUS E-MINI S&amp;P 500 CONTRACT</td>\n",
       "      <td>Chicago Mercantile Exchange Mini Sized Contrac...</td>\n",
       "    </tr>\n",
       "    <tr>\n",
       "      <td>2</td>\n",
       "      <td>ES</td>\n",
       "      <td>ESH11</td>\n",
       "      <td>4/6/2010</td>\n",
       "      <td>891.0</td>\n",
       "      <td>E-MINI S&amp;P 500 MARCH 2011</td>\n",
       "      <td>Chicago Mercantile Exchange Mini Sized Contrac...</td>\n",
       "    </tr>\n",
       "    <tr>\n",
       "      <td>3</td>\n",
       "      <td>ES</td>\n",
       "      <td>ESH12</td>\n",
       "      <td>3/6/2011</td>\n",
       "      <td>1060.0</td>\n",
       "      <td>E-MINI S&amp;P 500 MARCH 2012</td>\n",
       "      <td>Chicago Mercantile Exchange Mini Sized Contrac...</td>\n",
       "    </tr>\n",
       "  </tbody>\n",
       "</table>\n",
       "</div>"
      ],
      "text/plain": [
       "  SymbolBase Symbol  StartDate  Size(MB)                         Description                                           Exchange\n",
       "1         ES     ES  9/30/2009   50610.0  CONTINUOUS E-MINI S&P 500 CONTRACT  Chicago Mercantile Exchange Mini Sized Contrac...\n",
       "2         ES  ESH11   4/6/2010     891.0           E-MINI S&P 500 MARCH 2011  Chicago Mercantile Exchange Mini Sized Contrac...\n",
       "3         ES  ESH12   3/6/2011    1060.0           E-MINI S&P 500 MARCH 2012  Chicago Mercantile Exchange Mini Sized Contrac..."
      ]
     },
     "execution_count": 5,
     "metadata": {},
     "output_type": "execute_result"
    }
   ],
   "source": [
    "df3 = kut.read_metadata3()\n",
    "df3.head(3)"
   ]
  },
  {
   "cell_type": "code",
   "execution_count": 6,
   "metadata": {
    "ExecuteTime": {
     "end_time": "2019-09-05T15:15:55.270446Z",
     "start_time": "2019-09-05T15:15:55.244046Z"
    },
    "scrolled": true
   },
   "outputs": [
    {
     "name": "stdout",
     "output_type": "stream",
     "text": [
      "  SymbolBase Symbol  StartDate  Size(MB)                                 Description                                  Exchange\n",
      "1         JY     JY  9/27/2009     183.0            CONTINUOUS JAPANESE YEN CONTRACT  Chicago Mercantile Exchange (CME GLOBEX)\n",
      "2         TY     TY  9/27/2009     180.0  CONTINUOUS 10 YR US TREASURY NOTE CONTRACT      Chicago Board Of Trade (CBOT GLOBEX)\n",
      "3         FV     FV  9/27/2009     171.0   CONTINUOUS 5 YR US TREASURY NOTE CONTRACT      Chicago Board Of Trade (CBOT GLOBEX)\n",
      "['Chicago Mercantile Exchange (CME GLOBEX)'\n",
      " 'Chicago Board Of Trade (CBOT GLOBEX)'\n",
      " 'Chicago Mercantile Exchange Mini Sized Contracts (CME MINI)'\n",
      " 'Commodities Exchange Center (COMEX GLOBEX)'\n",
      " 'New York Mercantile Exchange (NYMEX GLOBEX)'\n",
      " 'Chicago Board Of Trade Mini Sized Contracts (CBOT MINI)'\n",
      " 'New York Mercantile Exchange Mini Sized Contracts'\n",
      " 'CBOE Futures Exchange (CFE)']\n"
     ]
    }
   ],
   "source": [
    "df4 = kut.read_metadata4()\n",
    "print(df4.head(3))\n",
    "\n",
    "print(df4[\"Exchange\"].unique())"
   ]
  },
  {
   "cell_type": "markdown",
   "metadata": {},
   "source": [
    "## Explore metadata"
   ]
  },
  {
   "cell_type": "code",
   "execution_count": 7,
   "metadata": {
    "ExecuteTime": {
     "end_time": "2019-09-05T15:15:55.298669Z",
     "start_time": "2019-09-05T15:15:55.272922Z"
    },
    "scrolled": true
   },
   "outputs": [
    {
     "name": "stdout",
     "output_type": "stream",
     "text": [
      "7\n",
      "   Symbol  StartDate                                   Description                                           Exchange\n",
      "10     CL  9/27/2009                 CONTINUOUS CRUDE OIL CONTRACT        New York Mercantile Exchange (NYMEX GLOBEX)\n",
      "20     NG  9/27/2009               CONTINUOUS NATURAL GAS CONTRACT        New York Mercantile Exchange (NYMEX GLOBEX)\n",
      "24     QM  9/27/2009          CONTINUOUS E-MINI CRUDE OIL CONTRACT  New York Mercantile Exchange Mini Sized Contracts\n",
      "29     RB  9/27/2009             CONTINUOUS RBOB GASOLINE CONTRACT        New York Mercantile Exchange (NYMEX GLOBEX)\n",
      "35     BO  9/27/2009               CONTINUOUS SOYBEAN OIL CONTRACT               Chicago Board Of Trade (CBOT GLOBEX)\n",
      "43     BZ  9/28/2009  CONTINUOUS BRENT CRUDE OIL LAST DAY CONTRACT        New York Mercantile Exchange (NYMEX GLOBEX)\n",
      "49     QG  9/27/2009        CONTINUOUS E-MINI NATURAL GAS CONTRACT  New York Mercantile Exchange Mini Sized Contracts\n"
     ]
    }
   ],
   "source": [
    "mask = [\"GAS\" in d or \"OIL\" in d for d in df4[\"Description\"]]\n",
    "print(sum(mask))\n",
    "print(df4[mask].drop([\"SymbolBase\", \"Size(MB)\"], axis=1))"
   ]
  },
  {
   "cell_type": "code",
   "execution_count": 8,
   "metadata": {
    "ExecuteTime": {
     "end_time": "2019-09-05T15:15:55.321501Z",
     "start_time": "2019-09-05T15:15:55.300892Z"
    }
   },
   "outputs": [
    {
     "data": {
      "text/plain": [
       "array(['CL', 'NG', 'QM', 'RB', 'BO', 'BZ', 'QG'], dtype=object)"
      ]
     },
     "execution_count": 8,
     "metadata": {},
     "output_type": "execute_result"
    }
   ],
   "source": [
    "df4[mask]['Symbol'].values"
   ]
  },
  {
   "cell_type": "markdown",
   "metadata": {},
   "source": [
    "# Read data"
   ]
  },
  {
   "cell_type": "code",
   "execution_count": 9,
   "metadata": {
    "ExecuteTime": {
     "end_time": "2019-09-05T15:15:55.344246Z",
     "start_time": "2019-09-05T15:15:55.323391Z"
    }
   },
   "outputs": [
    {
     "name": "stdout",
     "output_type": "stream",
     "text": [
      "nrows: None\n",
      "zscore_com: 28\n"
     ]
    }
   ],
   "source": [
    "import collections\n",
    "\n",
    "config = collections.OrderedDict()\n",
    "\n",
    "if \"__CONFIG__\" in os.environ:\n",
    "    config = os.environ[\"__CONFIG__\"]\n",
    "    print(\"__CONFIG__=\", config)\n",
    "    config = eval(config)\n",
    "else:\n",
    "    #config[\"nrows\"] = 100000\n",
    "    config[\"nrows\"] = None\n",
    "    #\n",
    "    config[\"zscore_com\"] = 28\n",
    "\n",
    "print(cfg.config_to_string(config))"
   ]
  },
  {
   "cell_type": "markdown",
   "metadata": {},
   "source": [
    "# Prices"
   ]
  },
  {
   "cell_type": "markdown",
   "metadata": {},
   "source": [
    "## Read daily prices"
   ]
  },
  {
   "cell_type": "code",
   "execution_count": 10,
   "metadata": {
    "ExecuteTime": {
     "end_time": "2019-09-05T15:15:55.363992Z",
     "start_time": "2019-09-05T15:15:55.346186Z"
    }
   },
   "outputs": [],
   "source": [
    "all_symbols = [\n",
    "    futures.replace('.csv.gz', '') for futures in os.listdir(\n",
    "        '/data/kibot/All_Futures_Continuous_Contracts_daily')\n",
    "]"
   ]
  },
  {
   "cell_type": "code",
   "execution_count": 11,
   "metadata": {
    "ExecuteTime": {
     "end_time": "2019-09-05T15:15:55.385824Z",
     "start_time": "2019-09-05T15:15:55.365722Z"
    }
   },
   "outputs": [
    {
     "data": {
      "text/plain": [
       "array(['CL', 'NG', 'QM', 'RB', 'BO', 'BZ', 'QG'], dtype=object)"
      ]
     },
     "execution_count": 11,
     "metadata": {},
     "output_type": "execute_result"
    }
   ],
   "source": [
    "symbols = df4[mask]['Symbol'].values\n",
    "symbols"
   ]
  },
  {
   "cell_type": "code",
   "execution_count": 12,
   "metadata": {
    "ExecuteTime": {
     "end_time": "2019-09-05T15:15:55.507690Z",
     "start_time": "2019-09-05T15:15:55.387489Z"
    }
   },
   "outputs": [
    {
     "name": "stdout",
     "output_type": "stream",
     "text": [
      "Reading file_name='/data/kibot/All_Futures_Continuous_Contracts_daily/CL.csv.gz' nrows=None\n",
      "Reading file_name='/data/kibot/All_Futures_Continuous_Contracts_daily/NG.csv.gz' nrows=None\n",
      "Reading file_name='/data/kibot/All_Futures_Continuous_Contracts_daily/QM.csv.gz' nrows=None\n",
      "Reading file_name='/data/kibot/All_Futures_Continuous_Contracts_daily/RB.csv.gz' nrows=None\n",
      "Reading file_name='/data/kibot/All_Futures_Continuous_Contracts_daily/BO.csv.gz' nrows=None\n",
      "Reading file_name='/data/kibot/All_Futures_Continuous_Contracts_daily/BZ.csv.gz' nrows=None\n",
      "Reading file_name='/data/kibot/All_Futures_Continuous_Contracts_daily/QG.csv.gz' nrows=None\n"
     ]
    },
    {
     "data": {
      "text/html": [
       "<div>\n",
       "<style scoped>\n",
       "    .dataframe tbody tr th:only-of-type {\n",
       "        vertical-align: middle;\n",
       "    }\n",
       "\n",
       "    .dataframe tbody tr th {\n",
       "        vertical-align: top;\n",
       "    }\n",
       "\n",
       "    .dataframe thead th {\n",
       "        text-align: right;\n",
       "    }\n",
       "</style>\n",
       "<table border=\"1\" class=\"dataframe\">\n",
       "  <thead>\n",
       "    <tr style=\"text-align: right;\">\n",
       "      <th></th>\n",
       "      <th>open</th>\n",
       "      <th>high</th>\n",
       "      <th>low</th>\n",
       "      <th>close</th>\n",
       "      <th>vol</th>\n",
       "    </tr>\n",
       "    <tr>\n",
       "      <th>date</th>\n",
       "      <th></th>\n",
       "      <th></th>\n",
       "      <th></th>\n",
       "      <th></th>\n",
       "      <th></th>\n",
       "    </tr>\n",
       "  </thead>\n",
       "  <tbody>\n",
       "    <tr>\n",
       "      <td>2019-07-18</td>\n",
       "      <td>56.72</td>\n",
       "      <td>57.45</td>\n",
       "      <td>54.85</td>\n",
       "      <td>55.42</td>\n",
       "      <td>764491</td>\n",
       "    </tr>\n",
       "    <tr>\n",
       "      <td>2019-07-19</td>\n",
       "      <td>55.84</td>\n",
       "      <td>56.49</td>\n",
       "      <td>55.12</td>\n",
       "      <td>55.76</td>\n",
       "      <td>710948</td>\n",
       "    </tr>\n",
       "  </tbody>\n",
       "</table>\n",
       "</div>"
      ],
      "text/plain": [
       "             open   high    low  close     vol\n",
       "date                                          \n",
       "2019-07-18  56.72  57.45  54.85  55.42  764491\n",
       "2019-07-19  55.84  56.49  55.12  55.76  710948"
      ]
     },
     "execution_count": 12,
     "metadata": {},
     "output_type": "execute_result"
    }
   ],
   "source": [
    "file_name = \"/data/kibot/All_Futures_Continuous_Contracts_daily/%s.csv.gz\"\n",
    "\n",
    "daily_price_dict_df = kut.read_multiple_symbol_data(symbols, file_name, nrows=config[\"nrows\"])\n",
    "\n",
    "daily_price_dict_df[\"CL\"].tail(2)"
   ]
  },
  {
   "cell_type": "markdown",
   "metadata": {},
   "source": [
    "# Top futures by volume"
   ]
  },
  {
   "cell_type": "markdown",
   "metadata": {},
   "source": [
    "## Sum volume"
   ]
  },
  {
   "cell_type": "code",
   "execution_count": 13,
   "metadata": {
    "ExecuteTime": {
     "end_time": "2019-09-05T15:15:55.540133Z",
     "start_time": "2019-09-05T15:15:55.509817Z"
    }
   },
   "outputs": [],
   "source": [
    "daily_volume_sum_dict = {\n",
    "    symbol: daily_prices_symbol['vol'].sum()\n",
    "    for symbol, daily_prices_symbol in daily_price_dict_df.items()\n",
    "}"
   ]
  },
  {
   "cell_type": "code",
   "execution_count": 14,
   "metadata": {
    "ExecuteTime": {
     "end_time": "2019-09-05T15:15:55.571431Z",
     "start_time": "2019-09-05T15:15:55.542152Z"
    }
   },
   "outputs": [],
   "source": [
    "daily_volume_sum_df = pd.DataFrame.from_dict(daily_volume_sum_dict, orient='index', columns=['sum_vol'])\n",
    "daily_volume_sum_df.index.name = 'symbol'"
   ]
  },
  {
   "cell_type": "code",
   "execution_count": 15,
   "metadata": {
    "ExecuteTime": {
     "end_time": "2019-09-05T15:15:55.606769Z",
     "start_time": "2019-09-05T15:15:55.573615Z"
    },
    "scrolled": true
   },
   "outputs": [
    {
     "data": {
      "text/html": [
       "<div>\n",
       "<style scoped>\n",
       "    .dataframe tbody tr th:only-of-type {\n",
       "        vertical-align: middle;\n",
       "    }\n",
       "\n",
       "    .dataframe tbody tr th {\n",
       "        vertical-align: top;\n",
       "    }\n",
       "\n",
       "    .dataframe thead th {\n",
       "        text-align: right;\n",
       "    }\n",
       "</style>\n",
       "<table border=\"1\" class=\"dataframe\">\n",
       "  <thead>\n",
       "    <tr style=\"text-align: right;\">\n",
       "      <th></th>\n",
       "      <th>sum_vol</th>\n",
       "    </tr>\n",
       "    <tr>\n",
       "      <th>symbol</th>\n",
       "      <th></th>\n",
       "    </tr>\n",
       "  </thead>\n",
       "  <tbody>\n",
       "    <tr>\n",
       "      <td>CL</td>\n",
       "      <td>1406297147</td>\n",
       "    </tr>\n",
       "    <tr>\n",
       "      <td>NG</td>\n",
       "      <td>462417257</td>\n",
       "    </tr>\n",
       "    <tr>\n",
       "      <td>BO</td>\n",
       "      <td>171761967</td>\n",
       "    </tr>\n",
       "    <tr>\n",
       "      <td>RB</td>\n",
       "      <td>145838317</td>\n",
       "    </tr>\n",
       "    <tr>\n",
       "      <td>QM</td>\n",
       "      <td>56211899</td>\n",
       "    </tr>\n",
       "    <tr>\n",
       "      <td>BZ</td>\n",
       "      <td>38764685</td>\n",
       "    </tr>\n",
       "    <tr>\n",
       "      <td>QG</td>\n",
       "      <td>9643541</td>\n",
       "    </tr>\n",
       "  </tbody>\n",
       "</table>\n",
       "</div>"
      ],
      "text/plain": [
       "           sum_vol\n",
       "symbol            \n",
       "CL      1406297147\n",
       "NG       462417257\n",
       "BO       171761967\n",
       "RB       145838317\n",
       "QM        56211899\n",
       "BZ        38764685\n",
       "QG         9643541"
      ]
     },
     "execution_count": 15,
     "metadata": {},
     "output_type": "execute_result"
    }
   ],
   "source": [
    "daily_volume_sum_df.sort_values('sum_vol', ascending=False)"
   ]
  },
  {
   "cell_type": "markdown",
   "metadata": {},
   "source": [
    "## Mean volume"
   ]
  },
  {
   "cell_type": "code",
   "execution_count": 16,
   "metadata": {
    "ExecuteTime": {
     "end_time": "2019-09-05T15:15:55.639174Z",
     "start_time": "2019-09-05T15:15:55.608954Z"
    }
   },
   "outputs": [],
   "source": [
    "daily_volume_mean_dict = {\n",
    "    symbol: daily_prices_symbol['vol'].mean()\n",
    "    for symbol, daily_prices_symbol in daily_price_dict_df.items()\n",
    "}"
   ]
  },
  {
   "cell_type": "code",
   "execution_count": 17,
   "metadata": {
    "ExecuteTime": {
     "end_time": "2019-09-05T15:15:55.671422Z",
     "start_time": "2019-09-05T15:15:55.641324Z"
    }
   },
   "outputs": [],
   "source": [
    "daily_volume_mean_df = pd.DataFrame.from_dict(daily_volume_mean_dict, orient='index', columns=['mean_vol'])\n",
    "daily_volume_mean_df.index.name = 'symbol'"
   ]
  },
  {
   "cell_type": "code",
   "execution_count": 18,
   "metadata": {
    "ExecuteTime": {
     "end_time": "2019-09-05T15:15:55.708161Z",
     "start_time": "2019-09-05T15:15:55.673538Z"
    },
    "scrolled": true
   },
   "outputs": [
    {
     "data": {
      "text/html": [
       "<div>\n",
       "<style scoped>\n",
       "    .dataframe tbody tr th:only-of-type {\n",
       "        vertical-align: middle;\n",
       "    }\n",
       "\n",
       "    .dataframe tbody tr th {\n",
       "        vertical-align: top;\n",
       "    }\n",
       "\n",
       "    .dataframe thead th {\n",
       "        text-align: right;\n",
       "    }\n",
       "</style>\n",
       "<table border=\"1\" class=\"dataframe\">\n",
       "  <thead>\n",
       "    <tr style=\"text-align: right;\">\n",
       "      <th></th>\n",
       "      <th>mean_vol</th>\n",
       "    </tr>\n",
       "    <tr>\n",
       "      <th>symbol</th>\n",
       "      <th></th>\n",
       "    </tr>\n",
       "  </thead>\n",
       "  <tbody>\n",
       "    <tr>\n",
       "      <td>CL</td>\n",
       "      <td>246892.055302</td>\n",
       "    </tr>\n",
       "    <tr>\n",
       "      <td>NG</td>\n",
       "      <td>78415.678650</td>\n",
       "    </tr>\n",
       "    <tr>\n",
       "      <td>RB</td>\n",
       "      <td>42382.539087</td>\n",
       "    </tr>\n",
       "    <tr>\n",
       "      <td>BO</td>\n",
       "      <td>28872.409985</td>\n",
       "    </tr>\n",
       "    <tr>\n",
       "      <td>QM</td>\n",
       "      <td>15245.972064</td>\n",
       "    </tr>\n",
       "    <tr>\n",
       "      <td>BZ</td>\n",
       "      <td>12831.739490</td>\n",
       "    </tr>\n",
       "    <tr>\n",
       "      <td>QG</td>\n",
       "      <td>2616.971777</td>\n",
       "    </tr>\n",
       "  </tbody>\n",
       "</table>\n",
       "</div>"
      ],
      "text/plain": [
       "             mean_vol\n",
       "symbol               \n",
       "CL      246892.055302\n",
       "NG       78415.678650\n",
       "RB       42382.539087\n",
       "BO       28872.409985\n",
       "QM       15245.972064\n",
       "BZ       12831.739490\n",
       "QG        2616.971777"
      ]
     },
     "execution_count": 18,
     "metadata": {},
     "output_type": "execute_result"
    }
   ],
   "source": [
    "daily_volume_mean_df.sort_values('mean_vol', ascending=False)"
   ]
  },
  {
   "cell_type": "code",
   "execution_count": null,
   "metadata": {},
   "outputs": [],
   "source": []
  }
 ],
 "metadata": {
  "jupytext": {
   "formats": "ipynb,py:percent"
  },
  "kernelspec": {
   "display_name": "Python 3",
   "language": "python",
   "name": "python3"
  },
  "language_info": {
   "codemirror_mode": {
    "name": "ipython",
    "version": 3
   },
   "file_extension": ".py",
   "mimetype": "text/x-python",
   "name": "python",
   "nbconvert_exporter": "python",
   "pygments_lexer": "ipython3",
   "version": "3.7.3"
  },
  "toc": {
   "base_numbering": 1,
   "nav_menu": {},
   "number_sections": true,
   "sideBar": true,
   "skip_h1_title": false,
   "title_cell": "Table of Contents",
   "title_sidebar": "Contents",
   "toc_cell": false,
   "toc_position": {
    "height": "calc(100% - 180px)",
    "left": "10px",
    "top": "150px",
    "width": "394.038px"
   },
   "toc_section_display": true,
   "toc_window_display": true
  }
 },
 "nbformat": 4,
 "nbformat_minor": 2
}
