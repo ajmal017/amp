{
 "cells": [
  {
   "cell_type": "markdown",
   "metadata": {},
   "source": [
    "## Import"
   ]
  },
  {
   "cell_type": "code",
   "execution_count": 1,
   "metadata": {
    "ExecuteTime": {
     "end_time": "2019-10-10T16:18:25.595457Z",
     "start_time": "2019-10-10T16:18:23.900000Z"
    }
   },
   "outputs": [],
   "source": [
    "%load_ext autoreload\n",
    "%autoreload 2\n",
    "import logging\n",
    "import os\n",
    "\n",
    "import numpy as np\n",
    "import pandas as pd\n",
    "import seaborn as sns\n",
    "from matplotlib import pyplot as plt"
   ]
  },
  {
   "cell_type": "code",
   "execution_count": 2,
   "metadata": {
    "ExecuteTime": {
     "end_time": "2019-10-10T16:18:25.746641Z",
     "start_time": "2019-10-10T16:18:25.598545Z"
    }
   },
   "outputs": [],
   "source": [
    "from pylab import rcParams\n",
    "\n",
    "import core.config as cfg\n",
    "import helpers.dbg as dbg\n",
    "import helpers.env as env\n",
    "import helpers.printing as pri\n",
    "import vendors.kibot.utils as kut\n",
    "import vendors.particle_one.PartTask269_liquidity_analysis_utils as lau\n",
    "\n",
    "sns.set()\n",
    "\n",
    "\n",
    "rcParams[\"figure.figsize\"] = (20, 5)"
   ]
  },
  {
   "cell_type": "code",
   "execution_count": 3,
   "metadata": {
    "ExecuteTime": {
     "end_time": "2019-10-10T16:18:25.904157Z",
     "start_time": "2019-10-10T16:18:25.749442Z"
    }
   },
   "outputs": [
    {
     "name": "stdout",
     "output_type": "stream",
     "text": [
      "# Packages\n",
      "         python: 3.6.7\n",
      "         joblib: 0.13.2\n",
      "          numpy: 1.17.2\n",
      "         pandas: 0.25.1\n",
      "        pyarrow: 0.14.1\n",
      "          scipy: 1.3.1\n",
      "        seaborn: 0.9.0\n",
      "        sklearn: 0.21.3\n",
      "    statsmodels: 0.10.1\n",
      "# Last commits:\n",
      "  *   259b518 Julia    Merge branch 'master' into PartTask269_PRICE_Liquidity_analysis_as_a_proxy_for_trader_interest (    6 days ago) Fri Oct 4 10:47:46 2019  (HEAD -> PartTask269_PRICE_Liquidity_analysis_as_a_proxy_for_trader_interest, origin/PartTask269_PRICE_Liquidity_analysis_as_a_proxy_for_trader_interest)\n",
      "  |\\  \n",
      "  | * fc9b2ee paul     Only expose a reader for the sample data. Factor out some common code. (    7 days ago) Thu Oct 3 19:39:26 2019           \n",
      "  | * 56cd554 paul     Add 324K of SPY sample SPY data.                                  (    7 days ago) Thu Oct 3 19:27:22 2019           \n",
      "\u001b[0mWARNING: Running in Jupyter\n"
     ]
    }
   ],
   "source": [
    "print(env.get_system_signature())\n",
    "\n",
    "pri.config_notebook()\n",
    "\n",
    "# TODO(gp): Changing level during the notebook execution doesn't work. Fix it.\n",
    "# dbg.init_logger(verb=logging.DEBUG)\n",
    "dbg.init_logger(verb=logging.INFO)\n",
    "# dbg.test_logger()\n",
    "\n",
    "_LOG = logging.getLogger(__name__)"
   ]
  },
  {
   "cell_type": "markdown",
   "metadata": {
    "ExecuteTime": {
     "end_time": "2019-07-21T14:38:14.637800Z",
     "start_time": "2019-07-21T14:38:14.620807Z"
    }
   },
   "source": [
    "# Metadata"
   ]
  },
  {
   "cell_type": "code",
   "execution_count": 6,
   "metadata": {
    "ExecuteTime": {
     "end_time": "2019-10-10T17:05:52.757471Z",
     "start_time": "2019-10-10T17:05:52.154092Z"
    },
    "scrolled": false
   },
   "outputs": [
    {
     "name": "stdout",
     "output_type": "stream",
     "text": [
      "s3://alphamatic/kibot/metadata/All_Futures_Contracts_1min.csv.gz\n"
     ]
    },
    {
     "ename": "AssertionError",
     "evalue": "",
     "output_type": "error",
     "traceback": [
      "\u001b[0;31m---------------------------------------------------------------------------\u001b[0m",
      "\u001b[0;31mAssertionError\u001b[0m                            Traceback (most recent call last)",
      "\u001b[0;32m<ipython-input-6-5d111c5d0a41>\u001b[0m in \u001b[0;36m<module>\u001b[0;34m\u001b[0m\n\u001b[0;32m----> 1\u001b[0;31m \u001b[0mdf1\u001b[0m \u001b[0;34m=\u001b[0m \u001b[0mkut\u001b[0m\u001b[0;34m.\u001b[0m\u001b[0mread_metadata1\u001b[0m\u001b[0;34m(\u001b[0m\u001b[0;34m)\u001b[0m\u001b[0;34m\u001b[0m\u001b[0;34m\u001b[0m\u001b[0m\n\u001b[0m\u001b[1;32m      2\u001b[0m \u001b[0mdf1\u001b[0m\u001b[0;34m.\u001b[0m\u001b[0mhead\u001b[0m\u001b[0;34m(\u001b[0m\u001b[0;36m3\u001b[0m\u001b[0;34m)\u001b[0m\u001b[0;34m\u001b[0m\u001b[0;34m\u001b[0m\u001b[0m\n",
      "\u001b[0;32m~/src/commodity_research3/amp/vendors/kibot/utils.py\u001b[0m in \u001b[0;36mread_metadata1\u001b[0;34m()\u001b[0m\n\u001b[1;32m    116\u001b[0m     \u001b[0mfile_name\u001b[0m \u001b[0;34m=\u001b[0m \u001b[0m_KIBOT_DIRNAME\u001b[0m \u001b[0;34m+\u001b[0m \u001b[0;34m\"/All_Futures_Contracts_1min.csv.gz\"\u001b[0m\u001b[0;34m\u001b[0m\u001b[0;34m\u001b[0m\u001b[0m\n\u001b[1;32m    117\u001b[0m     \u001b[0mprint\u001b[0m\u001b[0;34m(\u001b[0m\u001b[0mfile_name\u001b[0m\u001b[0;34m)\u001b[0m\u001b[0;34m\u001b[0m\u001b[0;34m\u001b[0m\u001b[0m\n\u001b[0;32m--> 118\u001b[0;31m     \u001b[0;32massert\u001b[0m \u001b[0;36m0\u001b[0m\u001b[0;34m\u001b[0m\u001b[0;34m\u001b[0m\u001b[0m\n\u001b[0m\u001b[1;32m    119\u001b[0m     \u001b[0mdf\u001b[0m \u001b[0;34m=\u001b[0m \u001b[0mpd\u001b[0m\u001b[0;34m.\u001b[0m\u001b[0mread_csv\u001b[0m\u001b[0;34m(\u001b[0m\u001b[0mfile_name\u001b[0m\u001b[0;34m,\u001b[0m \u001b[0mindex_col\u001b[0m\u001b[0;34m=\u001b[0m\u001b[0;36m0\u001b[0m\u001b[0;34m)\u001b[0m\u001b[0;34m\u001b[0m\u001b[0;34m\u001b[0m\u001b[0m\n\u001b[1;32m    120\u001b[0m     \u001b[0mdf\u001b[0m \u001b[0;34m=\u001b[0m \u001b[0mdf\u001b[0m\u001b[0;34m.\u001b[0m\u001b[0miloc\u001b[0m\u001b[0;34m[\u001b[0m\u001b[0;34m:\u001b[0m\u001b[0;34m,\u001b[0m \u001b[0;36m1\u001b[0m\u001b[0;34m:\u001b[0m\u001b[0;34m]\u001b[0m\u001b[0;34m\u001b[0m\u001b[0;34m\u001b[0m\u001b[0m\n",
      "\u001b[0;31mAssertionError\u001b[0m: "
     ]
    }
   ],
   "source": [
    "df1 = kut.read_metadata1()\n",
    "df1.head(3)"
   ]
  },
  {
   "cell_type": "code",
   "execution_count": null,
   "metadata": {
    "ExecuteTime": {
     "end_time": "2019-10-10T16:18:26.864946Z",
     "start_time": "2019-10-10T16:18:23.912Z"
    }
   },
   "outputs": [],
   "source": [
    "df2 = kut.read_metadata2()\n",
    "df2.head(3)"
   ]
  },
  {
   "cell_type": "code",
   "execution_count": null,
   "metadata": {
    "ExecuteTime": {
     "end_time": "2019-10-10T16:18:26.866115Z",
     "start_time": "2019-10-10T16:18:23.914Z"
    }
   },
   "outputs": [],
   "source": [
    "df3 = kut.read_metadata3()\n",
    "df3.head(3)"
   ]
  },
  {
   "cell_type": "code",
   "execution_count": null,
   "metadata": {
    "ExecuteTime": {
     "end_time": "2019-10-10T16:18:26.867255Z",
     "start_time": "2019-10-10T16:18:23.916Z"
    }
   },
   "outputs": [],
   "source": [
    "df4 = kut.read_metadata4()\n",
    "print(df4.head(3))\n",
    "\n",
    "print(df4[\"Exchange\"].unique())"
   ]
  },
  {
   "cell_type": "markdown",
   "metadata": {},
   "source": [
    "# Load product specs"
   ]
  },
  {
   "cell_type": "code",
   "execution_count": null,
   "metadata": {
    "ExecuteTime": {
     "end_time": "2019-10-10T16:18:26.868610Z",
     "start_time": "2019-10-10T16:18:23.918Z"
    }
   },
   "outputs": [],
   "source": [
    "# TODO (Julia): After PartTask268_PRICE_Download_metadata_from_CME\n",
    "# is merged into master, replace this with a reader\n",
    "_PRODUCT_SPECS_PATH = (\n",
    "    \"/data/prices/product_slate_export_with_contract_specs_20190905.csv\"\n",
    ")\n",
    "product_specs = pd.read_csv(_PRODUCT_SPECS_PATH)"
   ]
  },
  {
   "cell_type": "code",
   "execution_count": null,
   "metadata": {
    "ExecuteTime": {
     "end_time": "2019-10-10T16:18:26.869641Z",
     "start_time": "2019-10-10T16:18:23.923Z"
    }
   },
   "outputs": [],
   "source": [
    "product_specs.head()"
   ]
  },
  {
   "cell_type": "code",
   "execution_count": null,
   "metadata": {
    "ExecuteTime": {
     "end_time": "2019-10-10T16:18:26.871118Z",
     "start_time": "2019-10-10T16:18:23.925Z"
    },
    "scrolled": true
   },
   "outputs": [],
   "source": [
    "product_specs.info()"
   ]
  },
  {
   "cell_type": "markdown",
   "metadata": {},
   "source": [
    "# Explore metadata"
   ]
  },
  {
   "cell_type": "code",
   "execution_count": null,
   "metadata": {
    "ExecuteTime": {
     "end_time": "2019-10-10T16:18:26.872184Z",
     "start_time": "2019-10-10T16:18:23.928Z"
    }
   },
   "outputs": [],
   "source": [
    "df4[\"Exchange\"].value_counts()"
   ]
  },
  {
   "cell_type": "code",
   "execution_count": null,
   "metadata": {
    "ExecuteTime": {
     "end_time": "2019-10-10T16:18:26.873367Z",
     "start_time": "2019-10-10T16:18:23.931Z"
    }
   },
   "outputs": [],
   "source": [
    "df3[\"Exchange\"].value_counts()"
   ]
  },
  {
   "cell_type": "markdown",
   "metadata": {},
   "source": [
    "Kibot only has the CME group futures."
   ]
  },
  {
   "cell_type": "code",
   "execution_count": null,
   "metadata": {
    "ExecuteTime": {
     "end_time": "2019-10-10T16:18:26.874754Z",
     "start_time": "2019-10-10T16:18:23.934Z"
    }
   },
   "outputs": [],
   "source": [
    "product_specs[\"Globex\"].head()"
   ]
  },
  {
   "cell_type": "code",
   "execution_count": null,
   "metadata": {
    "ExecuteTime": {
     "end_time": "2019-10-10T16:18:26.876229Z",
     "start_time": "2019-10-10T16:18:23.936Z"
    }
   },
   "outputs": [],
   "source": [
    "daily_futures_w_ext = os.listdir(\n",
    "    \"/data/kibot/All_Futures_Continuous_Contracts_daily/\"\n",
    ")"
   ]
  },
  {
   "cell_type": "code",
   "execution_count": null,
   "metadata": {
    "ExecuteTime": {
     "end_time": "2019-10-10T16:18:26.877740Z",
     "start_time": "2019-10-10T16:18:23.939Z"
    }
   },
   "outputs": [],
   "source": [
    "daily_futures_w_ext[:5]"
   ]
  },
  {
   "cell_type": "code",
   "execution_count": null,
   "metadata": {
    "ExecuteTime": {
     "end_time": "2019-10-10T16:18:26.879867Z",
     "start_time": "2019-10-10T16:18:23.941Z"
    }
   },
   "outputs": [],
   "source": [
    "daily_futures = list(map(lambda x: x[:-7], daily_futures_w_ext))\n",
    "daily_futures[:5]"
   ]
  },
  {
   "cell_type": "code",
   "execution_count": null,
   "metadata": {
    "ExecuteTime": {
     "end_time": "2019-10-10T16:18:26.881153Z",
     "start_time": "2019-10-10T16:18:23.944Z"
    }
   },
   "outputs": [],
   "source": [
    "len(set(daily_futures)), df3[\"SymbolBase\"].nunique()"
   ]
  },
  {
   "cell_type": "code",
   "execution_count": null,
   "metadata": {
    "ExecuteTime": {
     "end_time": "2019-10-10T16:18:26.882395Z",
     "start_time": "2019-10-10T16:18:23.947Z"
    }
   },
   "outputs": [],
   "source": [
    "np.setdiff1d(df3[\"SymbolBase\"].dropna().values, daily_futures)"
   ]
  },
  {
   "cell_type": "code",
   "execution_count": null,
   "metadata": {
    "ExecuteTime": {
     "end_time": "2019-10-10T16:18:26.883786Z",
     "start_time": "2019-10-10T16:18:23.949Z"
    }
   },
   "outputs": [],
   "source": [
    "product_specs[\"Globex\"].nunique()"
   ]
  },
  {
   "cell_type": "code",
   "execution_count": null,
   "metadata": {
    "ExecuteTime": {
     "end_time": "2019-10-10T16:18:26.885121Z",
     "start_time": "2019-10-10T16:18:23.953Z"
    }
   },
   "outputs": [],
   "source": [
    "np.intersect1d(\n",
    "    product_specs[\"Globex\"].dropna().unique(), df3[\"SymbolBase\"].dropna().values\n",
    ")"
   ]
  },
  {
   "cell_type": "code",
   "execution_count": null,
   "metadata": {
    "ExecuteTime": {
     "end_time": "2019-10-10T16:18:26.886540Z",
     "start_time": "2019-10-10T16:18:23.955Z"
    }
   },
   "outputs": [],
   "source": [
    "np.intersect1d(\n",
    "    product_specs[\"Globex\"].dropna().unique(), df3[\"SymbolBase\"].dropna().values\n",
    ").shape"
   ]
  },
  {
   "cell_type": "code",
   "execution_count": null,
   "metadata": {
    "ExecuteTime": {
     "end_time": "2019-10-10T16:18:26.887682Z",
     "start_time": "2019-10-10T16:18:23.958Z"
    }
   },
   "outputs": [],
   "source": [
    "np.intersect1d(\n",
    "    product_specs[\"Globex\"].dropna().unique(), df2[\"Symbol\"].dropna().values\n",
    ").shape"
   ]
  },
  {
   "cell_type": "code",
   "execution_count": null,
   "metadata": {
    "ExecuteTime": {
     "end_time": "2019-10-10T16:18:26.889275Z",
     "start_time": "2019-10-10T16:18:23.961Z"
    }
   },
   "outputs": [],
   "source": [
    "np.intersect1d(\n",
    "    product_specs[\"Globex\"].dropna().unique(), df1[\"Symbol\"].dropna().values\n",
    ").shape"
   ]
  },
  {
   "cell_type": "code",
   "execution_count": null,
   "metadata": {
    "ExecuteTime": {
     "end_time": "2019-10-10T16:18:26.890674Z",
     "start_time": "2019-10-10T16:18:23.967Z"
    }
   },
   "outputs": [],
   "source": [
    "product_specs[product_specs[\"Globex\"].isna()]"
   ]
  },
  {
   "cell_type": "code",
   "execution_count": null,
   "metadata": {},
   "outputs": [],
   "source": []
  },
  {
   "cell_type": "code",
   "execution_count": null,
   "metadata": {},
   "outputs": [],
   "source": []
  },
  {
   "cell_type": "code",
   "execution_count": null,
   "metadata": {},
   "outputs": [],
   "source": []
  },
  {
   "cell_type": "code",
   "execution_count": null,
   "metadata": {
    "ExecuteTime": {
     "end_time": "2019-10-10T16:18:26.891991Z",
     "start_time": "2019-10-10T16:18:23.973Z"
    }
   },
   "outputs": [],
   "source": [
    "mask = [\"GAS\" in d or \"OIL\" in d for d in df4[\"Description\"].astype(str)]\n",
    "print(sum(mask))\n",
    "print(df4[mask].drop([\"SymbolBase\", \"Size(MB)\"], axis=1))"
   ]
  },
  {
   "cell_type": "code",
   "execution_count": null,
   "metadata": {
    "ExecuteTime": {
     "end_time": "2019-10-10T16:18:26.893233Z",
     "start_time": "2019-10-10T16:18:23.975Z"
    }
   },
   "outputs": [],
   "source": [
    "df4[mask][\"Symbol\"].values"
   ]
  },
  {
   "cell_type": "markdown",
   "metadata": {},
   "source": [
    "# Read config"
   ]
  },
  {
   "cell_type": "code",
   "execution_count": null,
   "metadata": {
    "ExecuteTime": {
     "end_time": "2019-10-10T16:18:26.894876Z",
     "start_time": "2019-10-10T16:18:23.978Z"
    }
   },
   "outputs": [],
   "source": [
    "config = cfg.Config.from_env()\n",
    "\n",
    "if config is None:\n",
    "    config = cfg.Config()\n",
    "    config_tmp = config.add_subconfig(\"read_data\")\n",
    "    # config_tmp[\"nrows\"] = 100000\n",
    "    config_tmp[\"nrows\"] = None\n",
    "    #\n",
    "    config[\"zscore_com\"] = 28\n",
    "\n",
    "print(config)"
   ]
  },
  {
   "cell_type": "markdown",
   "metadata": {},
   "source": [
    "# Prices"
   ]
  },
  {
   "cell_type": "markdown",
   "metadata": {},
   "source": [
    "## Read daily prices"
   ]
  },
  {
   "cell_type": "code",
   "execution_count": null,
   "metadata": {
    "ExecuteTime": {
     "end_time": "2019-10-10T16:18:26.896105Z",
     "start_time": "2019-10-10T16:18:23.982Z"
    }
   },
   "outputs": [],
   "source": [
    "all_symbols = [\n",
    "    futures.replace(\".csv.gz\", \"\")\n",
    "    for futures in os.listdir(\n",
    "        \"/data/kibot/All_Futures_Continuous_Contracts_daily\"\n",
    "    )\n",
    "]"
   ]
  },
  {
   "cell_type": "code",
   "execution_count": null,
   "metadata": {
    "ExecuteTime": {
     "end_time": "2019-10-10T16:18:26.897357Z",
     "start_time": "2019-10-10T16:18:23.984Z"
    }
   },
   "outputs": [],
   "source": [
    "symbols = df4[mask][\"Symbol\"].values\n",
    "symbols"
   ]
  },
  {
   "cell_type": "code",
   "execution_count": null,
   "metadata": {
    "ExecuteTime": {
     "end_time": "2019-10-10T16:18:26.898858Z",
     "start_time": "2019-10-10T16:18:23.988Z"
    }
   },
   "outputs": [],
   "source": [
    "file_name = \"/data/kibot/All_Futures_Continuous_Contracts_daily/%s.csv.gz\"\n",
    "\n",
    "daily_price_dict_df = kut.read_multiple_symbol_data(\n",
    "    symbols, file_name, nrows=config[\"read_data\"][\"nrows\"]\n",
    ")\n",
    "\n",
    "daily_price_dict_df[\"CL\"].tail(2)"
   ]
  },
  {
   "cell_type": "markdown",
   "metadata": {},
   "source": [
    "# Top futures by volume"
   ]
  },
  {
   "cell_type": "markdown",
   "metadata": {},
   "source": [
    "## Sum volume"
   ]
  },
  {
   "cell_type": "code",
   "execution_count": null,
   "metadata": {
    "ExecuteTime": {
     "end_time": "2019-10-10T16:18:26.899924Z",
     "start_time": "2019-10-10T16:18:23.992Z"
    }
   },
   "outputs": [],
   "source": [
    "daily_vol = lau.get_sum_daily_volume(daily_price_dict_df)\n",
    "daily_vol.sort_values(\"sum_vol\", ascending=False)"
   ]
  },
  {
   "cell_type": "markdown",
   "metadata": {},
   "source": [
    "## Mean volume"
   ]
  },
  {
   "cell_type": "code",
   "execution_count": null,
   "metadata": {
    "ExecuteTime": {
     "end_time": "2019-10-10T16:18:26.902361Z",
     "start_time": "2019-10-10T16:18:23.995Z"
    }
   },
   "outputs": [],
   "source": [
    "mean_vol = lau.get_mean_daily_volume(daily_price_dict_df)\n",
    "mean_vol.sort_values(\"mean_vol\", ascending=False)"
   ]
  },
  {
   "cell_type": "markdown",
   "metadata": {},
   "source": [
    "# Study volume"
   ]
  },
  {
   "cell_type": "code",
   "execution_count": null,
   "metadata": {
    "ExecuteTime": {
     "end_time": "2019-10-10T16:18:26.904577Z",
     "start_time": "2019-10-10T16:18:23.997Z"
    }
   },
   "outputs": [],
   "source": [
    "symbol = \"CL\""
   ]
  },
  {
   "cell_type": "code",
   "execution_count": null,
   "metadata": {
    "ExecuteTime": {
     "end_time": "2019-10-10T16:18:26.906095Z",
     "start_time": "2019-10-10T16:18:23.999Z"
    }
   },
   "outputs": [],
   "source": [
    "vs = lau.VolumeStudy(symbol, n_rows=None)"
   ]
  },
  {
   "cell_type": "code",
   "execution_count": null,
   "metadata": {
    "ExecuteTime": {
     "end_time": "2019-10-10T16:18:26.908086Z",
     "start_time": "2019-10-10T16:18:24.003Z"
    },
    "scrolled": false
   },
   "outputs": [],
   "source": [
    "vs.execute()"
   ]
  },
  {
   "cell_type": "markdown",
   "metadata": {},
   "source": [
    "## How is the volume related to the open interest from the metadata?"
   ]
  },
  {
   "cell_type": "code",
   "execution_count": null,
   "metadata": {
    "ExecuteTime": {
     "end_time": "2019-10-10T16:18:26.909674Z",
     "start_time": "2019-10-10T16:18:24.010Z"
    }
   },
   "outputs": [],
   "source": [
    "product_specs.head()"
   ]
  },
  {
   "cell_type": "code",
   "execution_count": null,
   "metadata": {
    "ExecuteTime": {
     "end_time": "2019-10-10T16:18:26.911288Z",
     "start_time": "2019-10-10T16:18:24.013Z"
    }
   },
   "outputs": [],
   "source": [
    "product_specs[product_specs[\"Globex\"] == symbol][\"Open Interest\"].values"
   ]
  },
  {
   "cell_type": "code",
   "execution_count": null,
   "metadata": {
    "ExecuteTime": {
     "end_time": "2019-10-10T16:18:26.912936Z",
     "start_time": "2019-10-10T16:18:24.016Z"
    }
   },
   "outputs": [],
   "source": [
    "product_specs[product_specs[\"Globex\"] == symbol][\"Volume\"].values"
   ]
  },
  {
   "cell_type": "code",
   "execution_count": null,
   "metadata": {
    "ExecuteTime": {
     "end_time": "2019-10-10T16:18:26.914900Z",
     "start_time": "2019-10-10T16:18:24.019Z"
    }
   },
   "outputs": [],
   "source": [
    "vs.daily_prices[\"vol\"].max()"
   ]
  },
  {
   "cell_type": "code",
   "execution_count": null,
   "metadata": {
    "ExecuteTime": {
     "end_time": "2019-10-10T16:18:26.916174Z",
     "start_time": "2019-10-10T16:18:24.021Z"
    }
   },
   "outputs": [],
   "source": [
    "vs.minutely_prices[\"vol\"].max()"
   ]
  },
  {
   "cell_type": "markdown",
   "metadata": {},
   "source": [
    "# CME mapping"
   ]
  },
  {
   "cell_type": "markdown",
   "metadata": {},
   "source": [
    "## Groups overview"
   ]
  },
  {
   "cell_type": "code",
   "execution_count": null,
   "metadata": {
    "ExecuteTime": {
     "end_time": "2019-10-10T16:18:26.917927Z",
     "start_time": "2019-10-10T16:18:24.027Z"
    }
   },
   "outputs": [],
   "source": [
    "pc = lau.ProductSpecs()"
   ]
  },
  {
   "cell_type": "code",
   "execution_count": null,
   "metadata": {
    "ExecuteTime": {
     "end_time": "2019-10-10T16:18:26.919683Z",
     "start_time": "2019-10-10T16:18:24.030Z"
    }
   },
   "outputs": [],
   "source": [
    "pc.product_specs.info()"
   ]
  },
  {
   "cell_type": "code",
   "execution_count": null,
   "metadata": {
    "ExecuteTime": {
     "end_time": "2019-10-10T16:18:26.921171Z",
     "start_time": "2019-10-10T16:18:24.033Z"
    }
   },
   "outputs": [],
   "source": [
    "pc.product_specs[\"Product Group\"].value_counts().plot(kind=\"bar\", rot=0)\n",
    "plt.title(\"Number of futures for each product group in CME\")\n",
    "plt.show()"
   ]
  },
  {
   "cell_type": "code",
   "execution_count": null,
   "metadata": {
    "ExecuteTime": {
     "end_time": "2019-10-10T16:18:26.922892Z",
     "start_time": "2019-10-10T16:18:24.037Z"
    }
   },
   "outputs": [],
   "source": [
    "pc.product_specs[\"Sub Group\"].value_counts().plot(kind=\"bar\")\n",
    "plt.xticks(ha=\"right\", rotation=30, rotation_mode=\"anchor\")\n",
    "plt.title(\"Number of futures for each sub group in CME\")\n",
    "plt.show()"
   ]
  },
  {
   "cell_type": "code",
   "execution_count": null,
   "metadata": {
    "ExecuteTime": {
     "end_time": "2019-10-10T16:18:26.924885Z",
     "start_time": "2019-10-10T16:18:24.039Z"
    }
   },
   "outputs": [],
   "source": [
    "pc.product_specs[\"Category\"].astype(str).value_counts()"
   ]
  },
  {
   "cell_type": "code",
   "execution_count": null,
   "metadata": {
    "ExecuteTime": {
     "end_time": "2019-10-10T16:18:26.926783Z",
     "start_time": "2019-10-10T16:18:24.042Z"
    }
   },
   "outputs": [],
   "source": [
    "pc.product_specs[\"Sub Category\"].astype(str).value_counts()"
   ]
  },
  {
   "cell_type": "markdown",
   "metadata": {},
   "source": [
    "## By symbol"
   ]
  },
  {
   "cell_type": "code",
   "execution_count": null,
   "metadata": {
    "ExecuteTime": {
     "end_time": "2019-10-10T16:18:26.928524Z",
     "start_time": "2019-10-10T16:18:24.045Z"
    }
   },
   "outputs": [],
   "source": [
    "pc.get_metadata_symbol(symbol)"
   ]
  },
  {
   "cell_type": "code",
   "execution_count": null,
   "metadata": {
    "ExecuteTime": {
     "end_time": "2019-10-10T16:18:26.931151Z",
     "start_time": "2019-10-10T16:18:24.048Z"
    }
   },
   "outputs": [],
   "source": [
    "pc.get_product_group(symbol)"
   ]
  },
  {
   "cell_type": "code",
   "execution_count": null,
   "metadata": {
    "ExecuteTime": {
     "end_time": "2019-10-10T16:18:26.932466Z",
     "start_time": "2019-10-10T16:18:24.050Z"
    }
   },
   "outputs": [],
   "source": [
    "pc.get_trading_hours(symbol)"
   ]
  },
  {
   "cell_type": "markdown",
   "metadata": {},
   "source": [
    "## For product group"
   ]
  },
  {
   "cell_type": "code",
   "execution_count": null,
   "metadata": {
    "ExecuteTime": {
     "end_time": "2019-10-10T16:18:26.933751Z",
     "start_time": "2019-10-10T16:18:24.052Z"
    }
   },
   "outputs": [],
   "source": [
    "energy_symbols = pc.get_symbols_product_group(\"Energy\")\n",
    "energy_symbols[:4]"
   ]
  },
  {
   "cell_type": "code",
   "execution_count": null,
   "metadata": {
    "ExecuteTime": {
     "end_time": "2019-10-10T16:18:26.935372Z",
     "start_time": "2019-10-10T16:18:24.055Z"
    }
   },
   "outputs": [],
   "source": [
    "np.intersect1d(energy_symbols, daily_futures)"
   ]
  },
  {
   "cell_type": "code",
   "execution_count": null,
   "metadata": {
    "ExecuteTime": {
     "end_time": "2019-10-10T16:18:26.936964Z",
     "start_time": "2019-10-10T16:18:24.058Z"
    }
   },
   "outputs": [],
   "source": [
    "np.intersect1d(energy_symbols, daily_futures).shape"
   ]
  },
  {
   "cell_type": "code",
   "execution_count": null,
   "metadata": {},
   "outputs": [],
   "source": []
  }
 ],
 "metadata": {
  "jupytext": {
   "formats": "ipynb,py:percent"
  },
  "kernelspec": {
   "display_name": "Python [conda env:.conda-p1_develop] *",
   "language": "python",
   "name": "conda-env-.conda-p1_develop-py"
  },
  "language_info": {
   "codemirror_mode": {
    "name": "ipython",
    "version": 3
   },
   "file_extension": ".py",
   "mimetype": "text/x-python",
   "name": "python",
   "nbconvert_exporter": "python",
   "pygments_lexer": "ipython3",
   "version": "3.6.7"
  },
  "toc": {
   "base_numbering": 1,
   "nav_menu": {},
   "number_sections": true,
   "sideBar": true,
   "skip_h1_title": false,
   "title_cell": "Table of Contents",
   "title_sidebar": "Contents",
   "toc_cell": false,
   "toc_position": {
    "height": "calc(100% - 180px)",
    "left": "10px",
    "top": "150px",
    "width": "236.016px"
   },
   "toc_section_display": true,
   "toc_window_display": true
  }
 },
 "nbformat": 4,
 "nbformat_minor": 2
}
