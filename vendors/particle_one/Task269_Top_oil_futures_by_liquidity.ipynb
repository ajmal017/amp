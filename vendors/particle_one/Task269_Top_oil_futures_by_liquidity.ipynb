{
 "cells": [
  {
   "cell_type": "markdown",
   "metadata": {},
   "source": [
    "## Import"
   ]
  },
  {
   "cell_type": "code",
   "execution_count": 123,
   "metadata": {
    "ExecuteTime": {
     "end_time": "2019-10-10T19:40:45.276253Z",
     "start_time": "2019-10-10T19:40:44.945635Z"
    }
   },
   "outputs": [
    {
     "name": "stdout",
     "output_type": "stream",
     "text": [
      "The autoreload extension is already loaded. To reload it, use:\n",
      "  %reload_ext autoreload\n"
     ]
    }
   ],
   "source": [
    "%load_ext autoreload\n",
    "%autoreload 2\n",
    "import logging\n",
    "import os\n",
    "\n",
    "import numpy as np\n",
    "import pandas as pd\n",
    "import seaborn as sns\n",
    "from matplotlib import pyplot as plt"
   ]
  },
  {
   "cell_type": "code",
   "execution_count": 124,
   "metadata": {
    "ExecuteTime": {
     "end_time": "2019-10-10T19:40:45.431279Z",
     "start_time": "2019-10-10T19:40:45.280150Z"
    }
   },
   "outputs": [],
   "source": [
    "from pylab import rcParams\n",
    "\n",
    "import core.config as cfg\n",
    "import helpers.dbg as dbg\n",
    "import helpers.env as env\n",
    "import helpers.printing as pri\n",
    "import vendors.kibot.utils as kut\n",
    "import vendors.particle_one.PartTask269_liquidity_analysis_utils as lau\n",
    "\n",
    "sns.set()\n",
    "\n",
    "\n",
    "rcParams[\"figure.figsize\"] = (20, 5)"
   ]
  },
  {
   "cell_type": "code",
   "execution_count": 125,
   "metadata": {
    "ExecuteTime": {
     "end_time": "2019-10-10T19:40:45.652832Z",
     "start_time": "2019-10-10T19:40:45.436359Z"
    }
   },
   "outputs": [
    {
     "name": "stdout",
     "output_type": "stream",
     "text": [
      "# Packages\n",
      "         python: 3.6.7\n",
      "         joblib: 0.13.2\n",
      "          numpy: 1.17.2\n",
      "         pandas: 0.25.1\n",
      "        pyarrow: 0.14.1\n",
      "          scipy: 1.3.1\n",
      "        seaborn: 0.9.0\n",
      "        sklearn: 0.21.3\n",
      "    statsmodels: 0.10.1\n",
      "# Last commits:\n",
      "  *   ea3b4dd saggese  Merge branch 'master' into PartTask269_PRICE_Liquidity_analysis_as_a_proxy_for_trader_interest (   3 hours ago) Thu Oct 10 13:08:48 2019  (HEAD -> PartTask269_PRICE_Liquidity_analysis_as_a_proxy_for_trader_interest, origin/PartTask269_PRICE_Liquidity_analysis_as_a_proxy_for_trader_interest)\n",
      "  |\\  \n",
      "  * | 029f7f4 saggese  PartTask269: Run notebook                                         (   3 hours ago) Thu Oct 10 13:08:32 2019           \n",
      "  | * bd1109a saggese  PartTask274: Add code from PartTask274_csv_header that was lost in reverting b4ee8ce (   5 hours ago) Thu Oct 10 10:36:27 2019  (master, PartTask268_PartTask274_PartTask386_combine_changes_v2)\n",
      "\u001b[0mWARNING: Logger already initialized: skipping\n"
     ]
    }
   ],
   "source": [
    "print(env.get_system_signature())\n",
    "\n",
    "pri.config_notebook()\n",
    "\n",
    "# TODO(gp): Changing level during the notebook execution doesn't work. Fix it.\n",
    "# dbg.init_logger(verb=logging.DEBUG)\n",
    "dbg.init_logger(verb=logging.INFO)\n",
    "# dbg.test_logger()\n",
    "\n",
    "_LOG = logging.getLogger(__name__)"
   ]
  },
  {
   "cell_type": "markdown",
   "metadata": {
    "ExecuteTime": {
     "end_time": "2019-07-21T14:38:14.637800Z",
     "start_time": "2019-07-21T14:38:14.620807Z"
    }
   },
   "source": [
    "# Metadata"
   ]
  },
  {
   "cell_type": "code",
   "execution_count": 126,
   "metadata": {
    "ExecuteTime": {
     "end_time": "2019-10-10T19:40:47.636945Z",
     "start_time": "2019-10-10T19:40:45.655753Z"
    },
    "scrolled": false
   },
   "outputs": [
    {
     "data": {
      "text/html": [
       "<div>\n",
       "<style scoped>\n",
       "    .dataframe tbody tr th:only-of-type {\n",
       "        vertical-align: middle;\n",
       "    }\n",
       "\n",
       "    .dataframe tbody tr th {\n",
       "        vertical-align: top;\n",
       "    }\n",
       "\n",
       "    .dataframe thead th {\n",
       "        text-align: right;\n",
       "    }\n",
       "</style>\n",
       "<table border=\"1\" class=\"dataframe\">\n",
       "  <thead>\n",
       "    <tr style=\"text-align: right;\">\n",
       "      <th></th>\n",
       "      <th>Symbol</th>\n",
       "      <th>Link</th>\n",
       "      <th>Description</th>\n",
       "    </tr>\n",
       "    <tr>\n",
       "      <th>All_Futures_Contracts_1min.csv</th>\n",
       "      <th></th>\n",
       "      <th></th>\n",
       "      <th></th>\n",
       "    </tr>\n",
       "  </thead>\n",
       "  <tbody>\n",
       "    <tr>\n",
       "      <td>1</td>\n",
       "      <td>JY</td>\n",
       "      <td>http://api.kibot.com/?action=download&amp;link=151...</td>\n",
       "      <td>CONTINUOUS JAPANESE YEN CONTRACT</td>\n",
       "    </tr>\n",
       "    <tr>\n",
       "      <td>2</td>\n",
       "      <td>JYF18</td>\n",
       "      <td>http://api.kibot.com/?action=download&amp;link=vrv...</td>\n",
       "      <td>JAPANESE YEN JANUARY 2018</td>\n",
       "    </tr>\n",
       "    <tr>\n",
       "      <td>3</td>\n",
       "      <td>JYF19</td>\n",
       "      <td>http://api.kibot.com/?action=download&amp;link=8r8...</td>\n",
       "      <td>JAPANESE YEN JANUARY 2019</td>\n",
       "    </tr>\n",
       "  </tbody>\n",
       "</table>\n",
       "</div>"
      ],
      "text/plain": [
       "                               Symbol                                               Link                       Description\n",
       "All_Futures_Contracts_1min.csv                                                                                            \n",
       "1                                  JY  http://api.kibot.com/?action=download&link=151...  CONTINUOUS JAPANESE YEN CONTRACT\n",
       "2                               JYF18  http://api.kibot.com/?action=download&link=vrv...         JAPANESE YEN JANUARY 2018\n",
       "3                               JYF19  http://api.kibot.com/?action=download&link=8r8...         JAPANESE YEN JANUARY 2019"
      ]
     },
     "execution_count": 126,
     "metadata": {},
     "output_type": "execute_result"
    }
   ],
   "source": [
    "df1 = kut.read_metadata1()\n",
    "df1.head(3)"
   ]
  },
  {
   "cell_type": "code",
   "execution_count": 127,
   "metadata": {
    "ExecuteTime": {
     "end_time": "2019-10-10T19:40:48.874414Z",
     "start_time": "2019-10-10T19:40:47.639279Z"
    }
   },
   "outputs": [
    {
     "data": {
      "text/html": [
       "<div>\n",
       "<style scoped>\n",
       "    .dataframe tbody tr th:only-of-type {\n",
       "        vertical-align: middle;\n",
       "    }\n",
       "\n",
       "    .dataframe tbody tr th {\n",
       "        vertical-align: top;\n",
       "    }\n",
       "\n",
       "    .dataframe thead th {\n",
       "        text-align: right;\n",
       "    }\n",
       "</style>\n",
       "<table border=\"1\" class=\"dataframe\">\n",
       "  <thead>\n",
       "    <tr style=\"text-align: right;\">\n",
       "      <th></th>\n",
       "      <th>Symbol</th>\n",
       "      <th>Link</th>\n",
       "      <th>Description</th>\n",
       "    </tr>\n",
       "    <tr>\n",
       "      <th>All_Futures_Contracts_daily.csv</th>\n",
       "      <th></th>\n",
       "      <th></th>\n",
       "      <th></th>\n",
       "    </tr>\n",
       "  </thead>\n",
       "  <tbody>\n",
       "    <tr>\n",
       "      <td>1</td>\n",
       "      <td>JY</td>\n",
       "      <td>http://api.kibot.com/?action=download&amp;link=151...</td>\n",
       "      <td>CONTINUOUS JAPANESE YEN CONTRACT</td>\n",
       "    </tr>\n",
       "    <tr>\n",
       "      <td>2</td>\n",
       "      <td>JYF18</td>\n",
       "      <td>http://api.kibot.com/?action=download&amp;link=vrv...</td>\n",
       "      <td>JAPANESE YEN JANUARY 2018</td>\n",
       "    </tr>\n",
       "    <tr>\n",
       "      <td>3</td>\n",
       "      <td>JYF19</td>\n",
       "      <td>http://api.kibot.com/?action=download&amp;link=8r8...</td>\n",
       "      <td>JAPANESE YEN JANUARY 2019</td>\n",
       "    </tr>\n",
       "  </tbody>\n",
       "</table>\n",
       "</div>"
      ],
      "text/plain": [
       "                                Symbol                                               Link                       Description\n",
       "All_Futures_Contracts_daily.csv                                                                                            \n",
       "1                                   JY  http://api.kibot.com/?action=download&link=151...  CONTINUOUS JAPANESE YEN CONTRACT\n",
       "2                                JYF18  http://api.kibot.com/?action=download&link=vrv...         JAPANESE YEN JANUARY 2018\n",
       "3                                JYF19  http://api.kibot.com/?action=download&link=8r8...         JAPANESE YEN JANUARY 2019"
      ]
     },
     "execution_count": 127,
     "metadata": {},
     "output_type": "execute_result"
    }
   ],
   "source": [
    "df2 = kut.read_metadata2()\n",
    "df2.head(3)"
   ]
  },
  {
   "cell_type": "code",
   "execution_count": 128,
   "metadata": {
    "ExecuteTime": {
     "end_time": "2019-10-10T19:40:49.416740Z",
     "start_time": "2019-10-10T19:40:48.876080Z"
    }
   },
   "outputs": [
    {
     "data": {
      "text/html": [
       "<div>\n",
       "<style scoped>\n",
       "    .dataframe tbody tr th:only-of-type {\n",
       "        vertical-align: middle;\n",
       "    }\n",
       "\n",
       "    .dataframe tbody tr th {\n",
       "        vertical-align: top;\n",
       "    }\n",
       "\n",
       "    .dataframe thead th {\n",
       "        text-align: right;\n",
       "    }\n",
       "</style>\n",
       "<table border=\"1\" class=\"dataframe\">\n",
       "  <thead>\n",
       "    <tr style=\"text-align: right;\">\n",
       "      <th></th>\n",
       "      <th>SymbolBase</th>\n",
       "      <th>Symbol</th>\n",
       "      <th>StartDate</th>\n",
       "      <th>Size(MB)</th>\n",
       "      <th>Description</th>\n",
       "      <th>Exchange</th>\n",
       "    </tr>\n",
       "  </thead>\n",
       "  <tbody>\n",
       "    <tr>\n",
       "      <td>1.0</td>\n",
       "      <td>ES</td>\n",
       "      <td>ES</td>\n",
       "      <td>9/30/2009</td>\n",
       "      <td>50610.0</td>\n",
       "      <td>CONTINUOUS E-MINI S&amp;P 500 CONTRACT</td>\n",
       "      <td>Chicago Mercantile Exchange Mini Sized Contrac...</td>\n",
       "    </tr>\n",
       "    <tr>\n",
       "      <td>2.0</td>\n",
       "      <td>ES</td>\n",
       "      <td>ESH11</td>\n",
       "      <td>4/6/2010</td>\n",
       "      <td>891.0</td>\n",
       "      <td>E-MINI S&amp;P 500 MARCH 2011</td>\n",
       "      <td>Chicago Mercantile Exchange Mini Sized Contrac...</td>\n",
       "    </tr>\n",
       "    <tr>\n",
       "      <td>3.0</td>\n",
       "      <td>ES</td>\n",
       "      <td>ESH12</td>\n",
       "      <td>3/6/2011</td>\n",
       "      <td>1060.0</td>\n",
       "      <td>E-MINI S&amp;P 500 MARCH 2012</td>\n",
       "      <td>Chicago Mercantile Exchange Mini Sized Contrac...</td>\n",
       "    </tr>\n",
       "  </tbody>\n",
       "</table>\n",
       "</div>"
      ],
      "text/plain": [
       "    SymbolBase Symbol  StartDate  Size(MB)                         Description                                           Exchange\n",
       "1.0         ES     ES  9/30/2009   50610.0  CONTINUOUS E-MINI S&P 500 CONTRACT  Chicago Mercantile Exchange Mini Sized Contrac...\n",
       "2.0         ES  ESH11   4/6/2010     891.0           E-MINI S&P 500 MARCH 2011  Chicago Mercantile Exchange Mini Sized Contrac...\n",
       "3.0         ES  ESH12   3/6/2011    1060.0           E-MINI S&P 500 MARCH 2012  Chicago Mercantile Exchange Mini Sized Contrac..."
      ]
     },
     "execution_count": 128,
     "metadata": {},
     "output_type": "execute_result"
    }
   ],
   "source": [
    "df3 = kut.read_metadata3()\n",
    "df3.head(3)"
   ]
  },
  {
   "cell_type": "code",
   "execution_count": 129,
   "metadata": {
    "ExecuteTime": {
     "end_time": "2019-10-10T19:40:50.300282Z",
     "start_time": "2019-10-10T19:40:49.418782Z"
    }
   },
   "outputs": [
    {
     "name": "stdout",
     "output_type": "stream",
     "text": [
      "    SymbolBase Symbol  StartDate  Size(MB)                                 Description                                  Exchange\n",
      "1.0         JY     JY  9/27/2009     183.0            CONTINUOUS JAPANESE YEN CONTRACT  Chicago Mercantile Exchange (CME GLOBEX)\n",
      "2.0         TY     TY  9/27/2009     180.0  CONTINUOUS 10 YR US TREASURY NOTE CONTRACT      Chicago Board Of Trade (CBOT GLOBEX)\n",
      "3.0         FV     FV  9/27/2009     171.0   CONTINUOUS 5 YR US TREASURY NOTE CONTRACT      Chicago Board Of Trade (CBOT GLOBEX)\n",
      "['Chicago Mercantile Exchange (CME GLOBEX)'\n",
      " 'Chicago Board Of Trade (CBOT GLOBEX)'\n",
      " 'Chicago Mercantile Exchange Mini Sized Contracts (CME MINI)'\n",
      " 'Commodities Exchange Center (COMEX GLOBEX)'\n",
      " 'New York Mercantile Exchange (NYMEX GLOBEX)'\n",
      " 'Chicago Board Of Trade Mini Sized Contracts (CBOT MINI)'\n",
      " 'New York Mercantile Exchange Mini Sized Contracts'\n",
      " 'CBOE Futures Exchange (CFE)' nan]\n"
     ]
    }
   ],
   "source": [
    "df4 = kut.read_metadata4()\n",
    "print(df4.head(3))\n",
    "\n",
    "print(df4[\"Exchange\"].unique())"
   ]
  },
  {
   "cell_type": "markdown",
   "metadata": {},
   "source": [
    "# Load product specs"
   ]
  },
  {
   "cell_type": "code",
   "execution_count": 130,
   "metadata": {
    "ExecuteTime": {
     "end_time": "2019-10-10T19:40:50.344246Z",
     "start_time": "2019-10-10T19:40:50.303166Z"
    }
   },
   "outputs": [],
   "source": [
    "import helpers.s3 as hs3"
   ]
  },
  {
   "cell_type": "code",
   "execution_count": 131,
   "metadata": {
    "ExecuteTime": {
     "end_time": "2019-10-10T19:40:51.364913Z",
     "start_time": "2019-10-10T19:40:50.348596Z"
    }
   },
   "outputs": [],
   "source": [
    "# TODO (Julia): After PartTask268_PRICE_Download_metadata_from_CME\n",
    "# is merged into master, replace this with a reader\n",
    "_PRODUCT_SPECS_PATH = os.path.join(\n",
    "    hs3.get_path(),\n",
    "    \"cme/product_slate_export_with_contract_specs_20190905.csv\"\n",
    ")\n",
    "product_specs = pd.read_csv(_PRODUCT_SPECS_PATH)"
   ]
  },
  {
   "cell_type": "code",
   "execution_count": 132,
   "metadata": {
    "ExecuteTime": {
     "end_time": "2019-10-10T19:40:51.484212Z",
     "start_time": "2019-10-10T19:40:51.367660Z"
    }
   },
   "outputs": [
    {
     "data": {
      "text/html": [
       "<div>\n",
       "<style scoped>\n",
       "    .dataframe tbody tr th:only-of-type {\n",
       "        vertical-align: middle;\n",
       "    }\n",
       "\n",
       "    .dataframe tbody tr th {\n",
       "        vertical-align: top;\n",
       "    }\n",
       "\n",
       "    .dataframe thead th {\n",
       "        text-align: right;\n",
       "    }\n",
       "</style>\n",
       "<table border=\"1\" class=\"dataframe\">\n",
       "  <thead>\n",
       "    <tr style=\"text-align: right;\">\n",
       "      <th></th>\n",
       "      <th>Clearing</th>\n",
       "      <th>Globex</th>\n",
       "      <th>Floor</th>\n",
       "      <th>Clearport</th>\n",
       "      <th>Product Name</th>\n",
       "      <th>Product Group</th>\n",
       "      <th>Sub Group</th>\n",
       "      <th>Category</th>\n",
       "      <th>Sub Category</th>\n",
       "      <th>Cleared As</th>\n",
       "      <th>Exchange</th>\n",
       "      <th>Volume</th>\n",
       "      <th>Open Interest</th>\n",
       "      <th>product_link</th>\n",
       "      <th>Contract Unit</th>\n",
       "      <th>Price Quotation</th>\n",
       "      <th>Trading Hours</th>\n",
       "      <th>Minimum Price Fluctuation</th>\n",
       "      <th>Product Code</th>\n",
       "      <th>Listed Contracts</th>\n",
       "      <th>Settlement Method</th>\n",
       "      <th>Termination Of Trading</th>\n",
       "      <th>Settlement Procedures</th>\n",
       "      <th>Position Limits</th>\n",
       "      <th>Exchange Rulebook</th>\n",
       "      <th>Block Minimum</th>\n",
       "      <th>Price Limit Or Circuit</th>\n",
       "      <th>All Or None Minimum</th>\n",
       "      <th>Vendor Codes</th>\n",
       "      <th>Settlement Procedures Link</th>\n",
       "      <th>Position Limits Link</th>\n",
       "      <th>Exchange Rulebook Link</th>\n",
       "      <th>Block Minimum Link</th>\n",
       "      <th>Price Limit Or Circuit Link</th>\n",
       "      <th>All Or None Minimum Link</th>\n",
       "      <th>Vendor Codes Link</th>\n",
       "      <th>Delivery Procedure</th>\n",
       "      <th>Last Delivery Date</th>\n",
       "      <th>Grade And Quality</th>\n",
       "      <th>Trade At Marker Or Trade At Settlement Rules</th>\n",
       "      <th>Delivery Period</th>\n",
       "      <th>Minimum Price Fluctuation_0</th>\n",
       "      <th>Grade And Quality Link</th>\n",
       "      <th>Floating Price</th>\n",
       "      <th>Days Or Hours</th>\n",
       "      <th>Trading Hours_0</th>\n",
       "      <th>Delivery Period Link</th>\n",
       "      <th>Delivery Procedure Link</th>\n",
       "      <th>Trade At Marker Or Trade At Settlement Rules Link</th>\n",
       "      <th>Minimum Price Fluctuation Link</th>\n",
       "      <th>Listed Contracts Link</th>\n",
       "      <th>Termination Of Trading_0</th>\n",
       "      <th>Termination Of Trading Link</th>\n",
       "      <th>Reportable Positions</th>\n",
       "      <th>Termination Of Trading_1</th>\n",
       "      <th>CME Globex:</th>\n",
       "      <th>Reportable Positions Link</th>\n",
       "    </tr>\n",
       "  </thead>\n",
       "  <tbody>\n",
       "    <tr>\n",
       "      <td>0</td>\n",
       "      <td>ED</td>\n",
       "      <td>GE</td>\n",
       "      <td>NaN</td>\n",
       "      <td>ED</td>\n",
       "      <td>Eurodollar Futures</td>\n",
       "      <td>Interest Rate</td>\n",
       "      <td>Stirs</td>\n",
       "      <td>NaN</td>\n",
       "      <td>NaN</td>\n",
       "      <td>Futures</td>\n",
       "      <td>CME</td>\n",
       "      <td>3104281</td>\n",
       "      <td>13213901</td>\n",
       "      <td>http://www.cmegroup.com/trading/interest-rates...</td>\n",
       "      <td>$2,500 x Contract IMM Index</td>\n",
       "      <td>Contract IMM Index = 100 minus R R = three-mon...</td>\n",
       "      <td>SUN - FRI: 5:00 p.m. - 4:00 p.m. CT</td>\n",
       "      <td>Nearest expiring contract month: One quarter o...</td>\n",
       "      <td>CME Globex: GECME ClearPort: EDClearing: ED</td>\n",
       "      <td>Nearest 40 months (i.e., 10 years) in the Marc...</td>\n",
       "      <td>Financially Settled</td>\n",
       "      <td>Second London bank business day before 3rd Wed...</td>\n",
       "      <td>Eurodollar Future Settlement Procedures</td>\n",
       "      <td>CME Position Limits</td>\n",
       "      <td>CME 452</td>\n",
       "      <td>Block Minimum Thresholds</td>\n",
       "      <td>Price Limits</td>\n",
       "      <td>All or None Minimums</td>\n",
       "      <td>Quote Vendor Symbols Listing</td>\n",
       "      <td>http://www.cmegroup.com/confluence/display/EPI...</td>\n",
       "      <td>http://www.cmegroup.com/rulebook/files/positio...</td>\n",
       "      <td>http://www.cmegroup.com/rulebook/CME/V/450/452...</td>\n",
       "      <td>http://www.cmegroup.com/clearing/trading-pract...</td>\n",
       "      <td>http://www.cmegroup.com/rulebook/files/special...</td>\n",
       "      <td>http://www.cmegroup.com/clearing/trading-pract...</td>\n",
       "      <td>http://www.cmegroup.com/tools-information/vend...</td>\n",
       "      <td>NaN</td>\n",
       "      <td>NaN</td>\n",
       "      <td>NaN</td>\n",
       "      <td>NaN</td>\n",
       "      <td>NaN</td>\n",
       "      <td>NaN</td>\n",
       "      <td>NaN</td>\n",
       "      <td>NaN</td>\n",
       "      <td>NaN</td>\n",
       "      <td>NaN</td>\n",
       "      <td>NaN</td>\n",
       "      <td>NaN</td>\n",
       "      <td>NaN</td>\n",
       "      <td>NaN</td>\n",
       "      <td>NaN</td>\n",
       "      <td>NaN</td>\n",
       "      <td>NaN</td>\n",
       "      <td>NaN</td>\n",
       "      <td>NaN</td>\n",
       "      <td>NaN</td>\n",
       "      <td>NaN</td>\n",
       "    </tr>\n",
       "    <tr>\n",
       "      <td>1</td>\n",
       "      <td>25</td>\n",
       "      <td>ZF</td>\n",
       "      <td>NaN</td>\n",
       "      <td>25</td>\n",
       "      <td>5-Year T-Note Futures</td>\n",
       "      <td>Interest Rate</td>\n",
       "      <td>US Treasury</td>\n",
       "      <td>NaN</td>\n",
       "      <td>NaN</td>\n",
       "      <td>Futures</td>\n",
       "      <td>CBOT</td>\n",
       "      <td>1166719</td>\n",
       "      <td>4162661</td>\n",
       "      <td>http://www.cmegroup.com/trading/interest-rates...</td>\n",
       "      <td>Face value at maturity of $100,000</td>\n",
       "      <td>Points and fractions of points with par on the...</td>\n",
       "      <td>SUN - FRI: 5:00 p.m. - 4:00 p.m.</td>\n",
       "      <td>One-quarter of one thirty-second (1/32) of one...</td>\n",
       "      <td>CME Globex: ZFCME ClearPort: 25Clearing: 25</td>\n",
       "      <td>The first three consecutive contracts in the M...</td>\n",
       "      <td>Deliverable</td>\n",
       "      <td>Last business day of the calendar month. Tradi...</td>\n",
       "      <td>Treasury Settlement Procedures</td>\n",
       "      <td>CBOT Position Limits</td>\n",
       "      <td>CBOT 20</td>\n",
       "      <td>Block Minimum Thresholds</td>\n",
       "      <td>Price Limits</td>\n",
       "      <td>All or None Minimums</td>\n",
       "      <td>Quote Vendor Symbols Listing</td>\n",
       "      <td>http://www.cmegroup.com/confluence/display/EPI...</td>\n",
       "      <td>http://www.cmegroup.com/rulebook/files/positio...</td>\n",
       "      <td>https://www.cmegroup.com/rulebook/CBOT/II/20.pdf</td>\n",
       "      <td>http://www.cmegroup.com/clearing/trading-pract...</td>\n",
       "      <td>http://www.cmegroup.com/rulebook/files/special...</td>\n",
       "      <td>/clearing/trading-practices/all-or-none.html</td>\n",
       "      <td>http://www.cmegroup.com/tools-information/vend...</td>\n",
       "      <td>Federal Reserve book-entry wire-transfer system.</td>\n",
       "      <td>Third business day following the last trading ...</td>\n",
       "      <td>U.S. Treasury notes with an original term to m...</td>\n",
       "      <td>NaN</td>\n",
       "      <td>NaN</td>\n",
       "      <td>NaN</td>\n",
       "      <td>NaN</td>\n",
       "      <td>NaN</td>\n",
       "      <td>NaN</td>\n",
       "      <td>NaN</td>\n",
       "      <td>NaN</td>\n",
       "      <td>NaN</td>\n",
       "      <td>NaN</td>\n",
       "      <td>NaN</td>\n",
       "      <td>NaN</td>\n",
       "      <td>NaN</td>\n",
       "      <td>NaN</td>\n",
       "      <td>NaN</td>\n",
       "      <td>NaN</td>\n",
       "      <td>NaN</td>\n",
       "      <td>NaN</td>\n",
       "    </tr>\n",
       "    <tr>\n",
       "      <td>2</td>\n",
       "      <td>21</td>\n",
       "      <td>ZN</td>\n",
       "      <td>NaN</td>\n",
       "      <td>21</td>\n",
       "      <td>10-Year T-Note Futures</td>\n",
       "      <td>Interest Rate</td>\n",
       "      <td>US Treasury</td>\n",
       "      <td>NaN</td>\n",
       "      <td>NaN</td>\n",
       "      <td>Futures</td>\n",
       "      <td>CBOT</td>\n",
       "      <td>2181982</td>\n",
       "      <td>3656744</td>\n",
       "      <td>http://www.cmegroup.com/trading/interest-rates...</td>\n",
       "      <td>Face value at maturity of $100,000</td>\n",
       "      <td>Points and fractions of points with par on the...</td>\n",
       "      <td>Sunday - Friday 6:00 p.m. - 5:00 p.m. (5:00 p....</td>\n",
       "      <td>Outrights: One-half of one thirty-second (1/32...</td>\n",
       "      <td>CME Globex: ZNCME ClearPort: 21Clearing: 21</td>\n",
       "      <td>Quarterly contracts (Mar, Jun, Sep, Dec) liste...</td>\n",
       "      <td>Deliverable</td>\n",
       "      <td>Trading terminates on the seventh business day...</td>\n",
       "      <td>Treasury Settlement Procedures</td>\n",
       "      <td>CBOT Position Limits</td>\n",
       "      <td>CBOT Chapter 19</td>\n",
       "      <td>Block Minimum Thresholds</td>\n",
       "      <td>Price Limits</td>\n",
       "      <td>All or None Minimums</td>\n",
       "      <td>Quote Vendor Symbols Listing</td>\n",
       "      <td>http://www.cmegroup.com/confluence/display/EPI...</td>\n",
       "      <td>http://www.cmegroup.com/rulebook/files/positio...</td>\n",
       "      <td>https://www.cmegroup.com/rulebook/CBOT/II/19.pdf</td>\n",
       "      <td>http://www.cmegroup.com/clearing/trading-pract...</td>\n",
       "      <td>http://www.cmegroup.com/rulebook/files/special...</td>\n",
       "      <td>http://www.cmegroup.com/clearing/trading-pract...</td>\n",
       "      <td>http://www.cmegroup.com/tools-information/vend...</td>\n",
       "      <td>Federal Reserve book-entry wire-transfer system.</td>\n",
       "      <td>Last business day of the delivery month.</td>\n",
       "      <td>U.S. Treasury notes with a remaining term to m...</td>\n",
       "      <td>NaN</td>\n",
       "      <td>NaN</td>\n",
       "      <td>NaN</td>\n",
       "      <td>NaN</td>\n",
       "      <td>NaN</td>\n",
       "      <td>NaN</td>\n",
       "      <td>NaN</td>\n",
       "      <td>NaN</td>\n",
       "      <td>NaN</td>\n",
       "      <td>NaN</td>\n",
       "      <td>NaN</td>\n",
       "      <td>NaN</td>\n",
       "      <td>NaN</td>\n",
       "      <td>NaN</td>\n",
       "      <td>NaN</td>\n",
       "      <td>NaN</td>\n",
       "      <td>NaN</td>\n",
       "      <td>NaN</td>\n",
       "    </tr>\n",
       "    <tr>\n",
       "      <td>3</td>\n",
       "      <td>26</td>\n",
       "      <td>ZT</td>\n",
       "      <td>NaN</td>\n",
       "      <td>26</td>\n",
       "      <td>2-Year T-Note Futures</td>\n",
       "      <td>Interest Rate</td>\n",
       "      <td>US Treasury</td>\n",
       "      <td>NaN</td>\n",
       "      <td>NaN</td>\n",
       "      <td>Futures</td>\n",
       "      <td>CBOT</td>\n",
       "      <td>666626</td>\n",
       "      <td>3510507</td>\n",
       "      <td>http://www.cmegroup.com/trading/interest-rates...</td>\n",
       "      <td>Face value at maturity of $200,000</td>\n",
       "      <td>Points and fractions of points with par on the...</td>\n",
       "      <td>SUN - FRI: 5:00 p.m. - 4:00 p.m.</td>\n",
       "      <td>One-eighth of one thirty-second (1/32) of one ...</td>\n",
       "      <td>CME Globex: ZTCME ClearPort: 26Clearing: 26</td>\n",
       "      <td>The first three consecutive contracts in the M...</td>\n",
       "      <td>Deliverable</td>\n",
       "      <td>Last business day of the calendar month. Tradi...</td>\n",
       "      <td>Treasury Settlement Procedures</td>\n",
       "      <td>CBOT Position Limits</td>\n",
       "      <td>CBOT 21</td>\n",
       "      <td>Block Minimum Thresholds</td>\n",
       "      <td>Price Limits</td>\n",
       "      <td>All or None Minimums</td>\n",
       "      <td>Quote Vendor Symbols Listing</td>\n",
       "      <td>http://www.cmegroup.com/confluence/display/EPI...</td>\n",
       "      <td>http://www.cmegroup.com/rulebook/files/positio...</td>\n",
       "      <td>https://www.cmegroup.com/rulebook/CBOT/II/21.pdf</td>\n",
       "      <td>http://www.cmegroup.com/clearing/trading-pract...</td>\n",
       "      <td>http://www.cmegroup.com/rulebook/files/special...</td>\n",
       "      <td>/clearing/trading-practices/all-or-none.html</td>\n",
       "      <td>http://www.cmegroup.com/tools-information/vend...</td>\n",
       "      <td>Federal Reserve book-entry wire-transfer system.</td>\n",
       "      <td>Third business day following the last trading ...</td>\n",
       "      <td>U.S. Treasury notes with an original term to m...</td>\n",
       "      <td>NaN</td>\n",
       "      <td>NaN</td>\n",
       "      <td>NaN</td>\n",
       "      <td>NaN</td>\n",
       "      <td>NaN</td>\n",
       "      <td>NaN</td>\n",
       "      <td>NaN</td>\n",
       "      <td>NaN</td>\n",
       "      <td>NaN</td>\n",
       "      <td>NaN</td>\n",
       "      <td>NaN</td>\n",
       "      <td>NaN</td>\n",
       "      <td>NaN</td>\n",
       "      <td>NaN</td>\n",
       "      <td>NaN</td>\n",
       "      <td>NaN</td>\n",
       "      <td>NaN</td>\n",
       "      <td>NaN</td>\n",
       "    </tr>\n",
       "    <tr>\n",
       "      <td>4</td>\n",
       "      <td>ES</td>\n",
       "      <td>ES</td>\n",
       "      <td>NaN</td>\n",
       "      <td>ES</td>\n",
       "      <td>E-mini S&amp;P 500 Futures</td>\n",
       "      <td>Equities</td>\n",
       "      <td>US Index</td>\n",
       "      <td>NaN</td>\n",
       "      <td>NaN</td>\n",
       "      <td>Futures</td>\n",
       "      <td>CME</td>\n",
       "      <td>2025324</td>\n",
       "      <td>2619124</td>\n",
       "      <td>http://www.cmegroup.com/trading/equity-index/u...</td>\n",
       "      <td>$50 x S&amp;P 500 Index</td>\n",
       "      <td>NaN</td>\n",
       "      <td>CME Globex: Sunday - Friday 6:00 p.m. - 5:00 p...</td>\n",
       "      <td>Outright: 0.25 index points = $12.50 Calendar ...</td>\n",
       "      <td>CME Globex: ESCME ClearPort: ESClearing: ESBTI...</td>\n",
       "      <td>Quarterly contracts (Mar, Jun, Sep, Dec) liste...</td>\n",
       "      <td>Financially Settled</td>\n",
       "      <td>Trading terminates at 9:30 a.m. ET on the 3rd ...</td>\n",
       "      <td>Settlement Procedures</td>\n",
       "      <td>CME Position Limits</td>\n",
       "      <td>CME 358</td>\n",
       "      <td>NaN</td>\n",
       "      <td>Price Limits</td>\n",
       "      <td>NaN</td>\n",
       "      <td>Quote Vendor Symbols Listing</td>\n",
       "      <td>http://www.cmegroup.com/confluence/display/EPI...</td>\n",
       "      <td>http://www.cmegroup.com/rulebook/files/positio...</td>\n",
       "      <td>http://www.cmegroup.com/rulebook/CME/IV/350/35...</td>\n",
       "      <td>NaN</td>\n",
       "      <td>https://www.cmegroup.com/trading/price-limits....</td>\n",
       "      <td>NaN</td>\n",
       "      <td>http://www.cmegroup.com/tools-information/vend...</td>\n",
       "      <td>NaN</td>\n",
       "      <td>NaN</td>\n",
       "      <td>NaN</td>\n",
       "      <td>NaN</td>\n",
       "      <td>NaN</td>\n",
       "      <td>NaN</td>\n",
       "      <td>NaN</td>\n",
       "      <td>NaN</td>\n",
       "      <td>NaN</td>\n",
       "      <td>NaN</td>\n",
       "      <td>NaN</td>\n",
       "      <td>NaN</td>\n",
       "      <td>NaN</td>\n",
       "      <td>NaN</td>\n",
       "      <td>NaN</td>\n",
       "      <td>NaN</td>\n",
       "      <td>NaN</td>\n",
       "      <td>NaN</td>\n",
       "      <td>NaN</td>\n",
       "      <td>NaN</td>\n",
       "      <td>NaN</td>\n",
       "    </tr>\n",
       "  </tbody>\n",
       "</table>\n",
       "</div>"
      ],
      "text/plain": [
       "  Clearing Globex Floor Clearport            Product Name  Product Group    Sub Group Category Sub Category Cleared As Exchange   Volume  Open Interest                                       product_link                       Contract Unit                                    Price Quotation                                      Trading Hours                          Minimum Price Fluctuation                                       Product Code                                   Listed Contracts    Settlement Method                             Termination Of Trading                    Settlement Procedures       Position Limits Exchange Rulebook             Block Minimum Price Limit Or Circuit   All Or None Minimum                  Vendor Codes                         Settlement Procedures Link                               Position Limits Link                             Exchange Rulebook Link                                 Block Minimum Link  \\\n",
       "0       ED     GE   NaN        ED      Eurodollar Futures  Interest Rate        Stirs      NaN          NaN    Futures      CME  3104281       13213901  http://www.cmegroup.com/trading/interest-rates...         $2,500 x Contract IMM Index  Contract IMM Index = 100 minus R R = three-mon...                SUN - FRI: 5:00 p.m. - 4:00 p.m. CT  Nearest expiring contract month: One quarter o...        CME Globex: GECME ClearPort: EDClearing: ED  Nearest 40 months (i.e., 10 years) in the Marc...  Financially Settled  Second London bank business day before 3rd Wed...  Eurodollar Future Settlement Procedures   CME Position Limits           CME 452  Block Minimum Thresholds           Price Limits  All or None Minimums  Quote Vendor Symbols Listing  http://www.cmegroup.com/confluence/display/EPI...  http://www.cmegroup.com/rulebook/files/positio...  http://www.cmegroup.com/rulebook/CME/V/450/452...  http://www.cmegroup.com/clearing/trading-pract...   \n",
       "1       25     ZF   NaN        25   5-Year T-Note Futures  Interest Rate  US Treasury      NaN          NaN    Futures     CBOT  1166719        4162661  http://www.cmegroup.com/trading/interest-rates...  Face value at maturity of $100,000  Points and fractions of points with par on the...                   SUN - FRI: 5:00 p.m. - 4:00 p.m.  One-quarter of one thirty-second (1/32) of one...        CME Globex: ZFCME ClearPort: 25Clearing: 25  The first three consecutive contracts in the M...          Deliverable  Last business day of the calendar month. Tradi...           Treasury Settlement Procedures  CBOT Position Limits           CBOT 20  Block Minimum Thresholds           Price Limits  All or None Minimums  Quote Vendor Symbols Listing  http://www.cmegroup.com/confluence/display/EPI...  http://www.cmegroup.com/rulebook/files/positio...   https://www.cmegroup.com/rulebook/CBOT/II/20.pdf  http://www.cmegroup.com/clearing/trading-pract...   \n",
       "2       21     ZN   NaN        21  10-Year T-Note Futures  Interest Rate  US Treasury      NaN          NaN    Futures     CBOT  2181982        3656744  http://www.cmegroup.com/trading/interest-rates...  Face value at maturity of $100,000  Points and fractions of points with par on the...  Sunday - Friday 6:00 p.m. - 5:00 p.m. (5:00 p....  Outrights: One-half of one thirty-second (1/32...        CME Globex: ZNCME ClearPort: 21Clearing: 21  Quarterly contracts (Mar, Jun, Sep, Dec) liste...          Deliverable  Trading terminates on the seventh business day...           Treasury Settlement Procedures  CBOT Position Limits   CBOT Chapter 19  Block Minimum Thresholds           Price Limits  All or None Minimums  Quote Vendor Symbols Listing  http://www.cmegroup.com/confluence/display/EPI...  http://www.cmegroup.com/rulebook/files/positio...   https://www.cmegroup.com/rulebook/CBOT/II/19.pdf  http://www.cmegroup.com/clearing/trading-pract...   \n",
       "3       26     ZT   NaN        26   2-Year T-Note Futures  Interest Rate  US Treasury      NaN          NaN    Futures     CBOT   666626        3510507  http://www.cmegroup.com/trading/interest-rates...  Face value at maturity of $200,000  Points and fractions of points with par on the...                   SUN - FRI: 5:00 p.m. - 4:00 p.m.  One-eighth of one thirty-second (1/32) of one ...        CME Globex: ZTCME ClearPort: 26Clearing: 26  The first three consecutive contracts in the M...          Deliverable  Last business day of the calendar month. Tradi...           Treasury Settlement Procedures  CBOT Position Limits           CBOT 21  Block Minimum Thresholds           Price Limits  All or None Minimums  Quote Vendor Symbols Listing  http://www.cmegroup.com/confluence/display/EPI...  http://www.cmegroup.com/rulebook/files/positio...   https://www.cmegroup.com/rulebook/CBOT/II/21.pdf  http://www.cmegroup.com/clearing/trading-pract...   \n",
       "4       ES     ES   NaN        ES  E-mini S&P 500 Futures       Equities     US Index      NaN          NaN    Futures      CME  2025324        2619124  http://www.cmegroup.com/trading/equity-index/u...                 $50 x S&P 500 Index                                                NaN  CME Globex: Sunday - Friday 6:00 p.m. - 5:00 p...  Outright: 0.25 index points = $12.50 Calendar ...  CME Globex: ESCME ClearPort: ESClearing: ESBTI...  Quarterly contracts (Mar, Jun, Sep, Dec) liste...  Financially Settled  Trading terminates at 9:30 a.m. ET on the 3rd ...                    Settlement Procedures   CME Position Limits           CME 358                       NaN           Price Limits                   NaN  Quote Vendor Symbols Listing  http://www.cmegroup.com/confluence/display/EPI...  http://www.cmegroup.com/rulebook/files/positio...  http://www.cmegroup.com/rulebook/CME/IV/350/35...                                                NaN   \n",
       "\n",
       "                         Price Limit Or Circuit Link                           All Or None Minimum Link                                  Vendor Codes Link                                Delivery Procedure                                 Last Delivery Date                                  Grade And Quality Trade At Marker Or Trade At Settlement Rules Delivery Period Minimum Price Fluctuation_0 Grade And Quality Link Floating Price Days Or Hours Trading Hours_0 Delivery Period Link Delivery Procedure Link Trade At Marker Or Trade At Settlement Rules Link Minimum Price Fluctuation Link Listed Contracts Link Termination Of Trading_0 Termination Of Trading Link Reportable Positions Termination Of Trading_1 CME Globex: Reportable Positions Link  \n",
       "0  http://www.cmegroup.com/rulebook/files/special...  http://www.cmegroup.com/clearing/trading-pract...  http://www.cmegroup.com/tools-information/vend...                                               NaN                                                NaN                                                NaN                                          NaN             NaN                         NaN                    NaN            NaN           NaN             NaN                  NaN                     NaN                                               NaN                            NaN                   NaN                      NaN                         NaN                  NaN                      NaN         NaN                       NaN  \n",
       "1  http://www.cmegroup.com/rulebook/files/special...       /clearing/trading-practices/all-or-none.html  http://www.cmegroup.com/tools-information/vend...  Federal Reserve book-entry wire-transfer system.  Third business day following the last trading ...  U.S. Treasury notes with an original term to m...                                          NaN             NaN                         NaN                    NaN            NaN           NaN             NaN                  NaN                     NaN                                               NaN                            NaN                   NaN                      NaN                         NaN                  NaN                      NaN         NaN                       NaN  \n",
       "2  http://www.cmegroup.com/rulebook/files/special...  http://www.cmegroup.com/clearing/trading-pract...  http://www.cmegroup.com/tools-information/vend...  Federal Reserve book-entry wire-transfer system.           Last business day of the delivery month.  U.S. Treasury notes with a remaining term to m...                                          NaN             NaN                         NaN                    NaN            NaN           NaN             NaN                  NaN                     NaN                                               NaN                            NaN                   NaN                      NaN                         NaN                  NaN                      NaN         NaN                       NaN  \n",
       "3  http://www.cmegroup.com/rulebook/files/special...       /clearing/trading-practices/all-or-none.html  http://www.cmegroup.com/tools-information/vend...  Federal Reserve book-entry wire-transfer system.  Third business day following the last trading ...  U.S. Treasury notes with an original term to m...                                          NaN             NaN                         NaN                    NaN            NaN           NaN             NaN                  NaN                     NaN                                               NaN                            NaN                   NaN                      NaN                         NaN                  NaN                      NaN         NaN                       NaN  \n",
       "4  https://www.cmegroup.com/trading/price-limits....                                                NaN  http://www.cmegroup.com/tools-information/vend...                                               NaN                                                NaN                                                NaN                                          NaN             NaN                         NaN                    NaN            NaN           NaN             NaN                  NaN                     NaN                                               NaN                            NaN                   NaN                      NaN                         NaN                  NaN                      NaN         NaN                       NaN  "
      ]
     },
     "execution_count": 132,
     "metadata": {},
     "output_type": "execute_result"
    }
   ],
   "source": [
    "product_specs.head()"
   ]
  },
  {
   "cell_type": "code",
   "execution_count": 133,
   "metadata": {
    "ExecuteTime": {
     "end_time": "2019-10-10T19:40:51.545223Z",
     "start_time": "2019-10-10T19:40:51.485770Z"
    },
    "scrolled": true
   },
   "outputs": [
    {
     "name": "stdout",
     "output_type": "stream",
     "text": [
      "<class 'pandas.core.frame.DataFrame'>\n",
      "RangeIndex: 1178 entries, 0 to 1177\n",
      "Data columns (total 57 columns):\n",
      "Clearing                                             1178 non-null object\n",
      "Globex                                               1170 non-null object\n",
      "Floor                                                1 non-null object\n",
      "Clearport                                            1178 non-null object\n",
      "Product Name                                         1178 non-null object\n",
      "Product Group                                        1178 non-null object\n",
      "Sub Group                                            1178 non-null object\n",
      "Category                                             747 non-null object\n",
      "Sub Category                                         818 non-null object\n",
      "Cleared As                                           1178 non-null object\n",
      "Exchange                                             1178 non-null object\n",
      "Volume                                               1178 non-null int64\n",
      "Open Interest                                        1178 non-null int64\n",
      "product_link                                         1178 non-null object\n",
      "Contract Unit                                        1175 non-null object\n",
      "Price Quotation                                      1037 non-null object\n",
      "Trading Hours                                        1176 non-null object\n",
      "Minimum Price Fluctuation                            829 non-null object\n",
      "Product Code                                         1176 non-null object\n",
      "Listed Contracts                                     1176 non-null object\n",
      "Settlement Method                                    1176 non-null object\n",
      "Termination Of Trading                               1175 non-null object\n",
      "Settlement Procedures                                553 non-null object\n",
      "Position Limits                                      1166 non-null object\n",
      "Exchange Rulebook                                    1176 non-null object\n",
      "Block Minimum                                        1138 non-null object\n",
      "Price Limit Or Circuit                               309 non-null object\n",
      "All Or None Minimum                                  9 non-null object\n",
      "Vendor Codes                                         1172 non-null object\n",
      "Settlement Procedures Link                           273 non-null object\n",
      "Position Limits Link                                 1166 non-null object\n",
      "Exchange Rulebook Link                               1165 non-null object\n",
      "Block Minimum Link                                   1138 non-null object\n",
      "Price Limit Or Circuit Link                          304 non-null object\n",
      "All Or None Minimum Link                             9 non-null object\n",
      "Vendor Codes Link                                    1171 non-null object\n",
      "Delivery Procedure                                   38 non-null object\n",
      "Last Delivery Date                                   24 non-null object\n",
      "Grade And Quality                                    54 non-null object\n",
      "Trade At Marker Or Trade At Settlement Rules         57 non-null object\n",
      "Delivery Period                                      34 non-null object\n",
      "Minimum Price Fluctuation_0                          17 non-null object\n",
      "Grade And Quality Link                               1 non-null object\n",
      "Floating Price                                       882 non-null object\n",
      "Days Or Hours                                        249 non-null object\n",
      "Trading Hours_0                                      347 non-null object\n",
      "Delivery Period Link                                 3 non-null object\n",
      "Delivery Procedure Link                              9 non-null object\n",
      "Trade At Marker Or Trade At Settlement Rules Link    4 non-null object\n",
      "Minimum Price Fluctuation Link                       1 non-null object\n",
      "Listed Contracts Link                                2 non-null object\n",
      "Termination Of Trading_0                             96 non-null object\n",
      "Termination Of Trading Link                          3 non-null object\n",
      "Reportable Positions                                 9 non-null object\n",
      "Termination Of Trading_1                             11 non-null object\n",
      "CME Globex:                                          1 non-null object\n",
      "Reportable Positions Link                            1 non-null object\n",
      "dtypes: int64(2), object(55)\n",
      "memory usage: 524.7+ KB\n"
     ]
    }
   ],
   "source": [
    "product_specs.info()"
   ]
  },
  {
   "cell_type": "markdown",
   "metadata": {},
   "source": [
    "# Explore metadata"
   ]
  },
  {
   "cell_type": "code",
   "execution_count": 134,
   "metadata": {
    "ExecuteTime": {
     "end_time": "2019-10-10T19:40:51.591838Z",
     "start_time": "2019-10-10T19:40:51.546976Z"
    }
   },
   "outputs": [
    {
     "data": {
      "text/plain": [
       "Chicago Mercantile Exchange (CME GLOBEX)                       36\n",
       "Chicago Board Of Trade (CBOT GLOBEX)                           15\n",
       "Chicago Mercantile Exchange Mini Sized Contracts (CME MINI)    15\n",
       "Commodities Exchange Center (COMEX GLOBEX)                      7\n",
       "New York Mercantile Exchange (NYMEX GLOBEX)                     7\n",
       "Chicago Board Of Trade Mini Sized Contracts (CBOT MINI)         4\n",
       "New York Mercantile Exchange Mini Sized Contracts               2\n",
       "CBOE Futures Exchange (CFE)                                     1\n",
       "Name: Exchange, dtype: int64"
      ]
     },
     "execution_count": 134,
     "metadata": {},
     "output_type": "execute_result"
    }
   ],
   "source": [
    "df4[\"Exchange\"].value_counts()"
   ]
  },
  {
   "cell_type": "code",
   "execution_count": 135,
   "metadata": {
    "ExecuteTime": {
     "end_time": "2019-10-10T19:40:51.641253Z",
     "start_time": "2019-10-10T19:40:51.593549Z"
    }
   },
   "outputs": [
    {
     "data": {
      "text/plain": [
       "Chicago Mercantile Exchange (CME GLOBEX)                       1999\n",
       "New York Mercantile Exchange (NYMEX GLOBEX)                     974\n",
       "Chicago Board Of Trade (CBOT GLOBEX)                            971\n",
       "Commodities Exchange Center (COMEX GLOBEX)                      661\n",
       "Chicago Mercantile Exchange Mini Sized Contracts (CME MINI)     529\n",
       "New York Mercantile Exchange Mini Sized Contracts               262\n",
       "Chicago Board Of Trade Mini Sized Contracts (CBOT MINI)         232\n",
       "CBOE Futures Exchange (CFE)                                     121\n",
       "Name: Exchange, dtype: int64"
      ]
     },
     "execution_count": 135,
     "metadata": {},
     "output_type": "execute_result"
    }
   ],
   "source": [
    "df3[\"Exchange\"].value_counts()"
   ]
  },
  {
   "cell_type": "markdown",
   "metadata": {},
   "source": [
    "Kibot only has the CME group futures."
   ]
  },
  {
   "cell_type": "code",
   "execution_count": 136,
   "metadata": {
    "ExecuteTime": {
     "end_time": "2019-10-10T19:40:51.687421Z",
     "start_time": "2019-10-10T19:40:51.643427Z"
    }
   },
   "outputs": [
    {
     "data": {
      "text/plain": [
       "0    GE\n",
       "1    ZF\n",
       "2    ZN\n",
       "3    ZT\n",
       "4    ES\n",
       "Name: Globex, dtype: object"
      ]
     },
     "execution_count": 136,
     "metadata": {},
     "output_type": "execute_result"
    }
   ],
   "source": [
    "product_specs[\"Globex\"].head()"
   ]
  },
  {
   "cell_type": "code",
   "execution_count": 137,
   "metadata": {
    "ExecuteTime": {
     "end_time": "2019-10-10T19:40:52.075754Z",
     "start_time": "2019-10-10T19:40:51.689515Z"
    }
   },
   "outputs": [],
   "source": [
    "#daily_futures_w_ext = os.listdir\n",
    "#    \"/data/kibot/All_Futures_Continuous_Contracts_daily/\"\n",
    "#)\n",
    "\n",
    "file_path = os.path.join(hs3.get_path(), \"kibot/All_Futures_Continuous_Contracts_daily\")\n",
    "daily_futures_w_ext = hs3.ls(file_path)"
   ]
  },
  {
   "cell_type": "code",
   "execution_count": 138,
   "metadata": {
    "ExecuteTime": {
     "end_time": "2019-10-10T19:40:52.118728Z",
     "start_time": "2019-10-10T19:40:52.077700Z"
    }
   },
   "outputs": [
    {
     "data": {
      "text/plain": [
       "['AC.csv.gz', 'AD.csv.gz', 'AE.csv.gz', 'AEX.csv.gz', 'AJY.csv.gz']"
      ]
     },
     "execution_count": 138,
     "metadata": {},
     "output_type": "execute_result"
    }
   ],
   "source": [
    "daily_futures_w_ext[:5]"
   ]
  },
  {
   "cell_type": "code",
   "execution_count": 139,
   "metadata": {
    "ExecuteTime": {
     "end_time": "2019-10-10T19:40:52.169905Z",
     "start_time": "2019-10-10T19:40:52.120556Z"
    }
   },
   "outputs": [
    {
     "data": {
      "text/plain": [
       "['AC', 'AD', 'AE', 'AEX', 'AJY']"
      ]
     },
     "execution_count": 139,
     "metadata": {},
     "output_type": "execute_result"
    }
   ],
   "source": [
    "daily_futures = list(map(lambda x: x[:-7], daily_futures_w_ext))\n",
    "daily_futures[:5]"
   ]
  },
  {
   "cell_type": "code",
   "execution_count": 140,
   "metadata": {
    "ExecuteTime": {
     "end_time": "2019-10-10T19:40:52.217080Z",
     "start_time": "2019-10-10T19:40:52.171639Z"
    }
   },
   "outputs": [
    {
     "data": {
      "text/plain": [
       "(252, 87)"
      ]
     },
     "execution_count": 140,
     "metadata": {},
     "output_type": "execute_result"
    }
   ],
   "source": [
    "len(set(daily_futures)), df3[\"SymbolBase\"].nunique()"
   ]
  },
  {
   "cell_type": "code",
   "execution_count": 141,
   "metadata": {
    "ExecuteTime": {
     "end_time": "2019-10-10T19:40:52.269816Z",
     "start_time": "2019-10-10T19:40:52.219993Z"
    }
   },
   "outputs": [
    {
     "data": {
      "text/plain": [
       "array([], dtype=object)"
      ]
     },
     "execution_count": 141,
     "metadata": {},
     "output_type": "execute_result"
    }
   ],
   "source": [
    "np.setdiff1d(df3[\"SymbolBase\"].dropna().values, daily_futures)"
   ]
  },
  {
   "cell_type": "code",
   "execution_count": 142,
   "metadata": {
    "ExecuteTime": {
     "end_time": "2019-10-10T19:40:52.314722Z",
     "start_time": "2019-10-10T19:40:52.271577Z"
    }
   },
   "outputs": [
    {
     "data": {
      "text/plain": [
       "1170"
      ]
     },
     "execution_count": 142,
     "metadata": {},
     "output_type": "execute_result"
    }
   ],
   "source": [
    "product_specs[\"Globex\"].nunique()"
   ]
  },
  {
   "cell_type": "code",
   "execution_count": 143,
   "metadata": {
    "ExecuteTime": {
     "end_time": "2019-10-10T19:40:52.368130Z",
     "start_time": "2019-10-10T19:40:52.316418Z"
    }
   },
   "outputs": [
    {
     "data": {
      "text/plain": [
       "array(['AJY', 'BTC', 'BZ', 'CL', 'EAD', 'ECD', 'EMD', 'ES', 'GC', 'GF',\n",
       "       'HE', 'HG', 'HO', 'JE', 'LE', 'M6A', 'M6B', 'M6E', 'MCD', 'ME',\n",
       "       'MGC', 'MJY', 'MSF', 'NG', 'NIY', 'NKD', 'NOK', 'NQ', 'PA', 'PJY',\n",
       "       'PL', 'QG', 'QI', 'QM', 'QO', 'RB', 'RF', 'RP', 'RTY', 'RY', 'SEK',\n",
       "       'SI', 'SIL', 'SIR', 'SP', 'TN', 'UB', 'XAB', 'XAE', 'XAF', 'XAI',\n",
       "       'XAK', 'XAP', 'XAU', 'XAV', 'XAY', 'YM'], dtype=object)"
      ]
     },
     "execution_count": 143,
     "metadata": {},
     "output_type": "execute_result"
    }
   ],
   "source": [
    "np.intersect1d(\n",
    "    product_specs[\"Globex\"].dropna().unique(), df3[\"SymbolBase\"].dropna().values\n",
    ")"
   ]
  },
  {
   "cell_type": "code",
   "execution_count": 144,
   "metadata": {
    "ExecuteTime": {
     "end_time": "2019-10-10T19:40:52.416898Z",
     "start_time": "2019-10-10T19:40:52.370093Z"
    }
   },
   "outputs": [
    {
     "data": {
      "text/plain": [
       "(57,)"
      ]
     },
     "execution_count": 144,
     "metadata": {},
     "output_type": "execute_result"
    }
   ],
   "source": [
    "np.intersect1d(\n",
    "    product_specs[\"Globex\"].dropna().unique(), df3[\"SymbolBase\"].dropna().values\n",
    ").shape"
   ]
  },
  {
   "cell_type": "code",
   "execution_count": 145,
   "metadata": {
    "ExecuteTime": {
     "end_time": "2019-10-10T19:40:52.486593Z",
     "start_time": "2019-10-10T19:40:52.418539Z"
    }
   },
   "outputs": [
    {
     "data": {
      "text/plain": [
       "(86,)"
      ]
     },
     "execution_count": 145,
     "metadata": {},
     "output_type": "execute_result"
    }
   ],
   "source": [
    "np.intersect1d(\n",
    "    product_specs[\"Globex\"].dropna().unique(), df2[\"Symbol\"].dropna().values\n",
    ").shape"
   ]
  },
  {
   "cell_type": "code",
   "execution_count": 146,
   "metadata": {
    "ExecuteTime": {
     "end_time": "2019-10-10T19:40:52.555382Z",
     "start_time": "2019-10-10T19:40:52.488590Z"
    }
   },
   "outputs": [
    {
     "data": {
      "text/plain": [
       "(86,)"
      ]
     },
     "execution_count": 146,
     "metadata": {},
     "output_type": "execute_result"
    }
   ],
   "source": [
    "np.intersect1d(\n",
    "    product_specs[\"Globex\"].dropna().unique(), df1[\"Symbol\"].dropna().values\n",
    ").shape"
   ]
  },
  {
   "cell_type": "code",
   "execution_count": 147,
   "metadata": {
    "ExecuteTime": {
     "end_time": "2019-10-10T19:40:52.650594Z",
     "start_time": "2019-10-10T19:40:52.557559Z"
    }
   },
   "outputs": [
    {
     "data": {
      "text/html": [
       "<div>\n",
       "<style scoped>\n",
       "    .dataframe tbody tr th:only-of-type {\n",
       "        vertical-align: middle;\n",
       "    }\n",
       "\n",
       "    .dataframe tbody tr th {\n",
       "        vertical-align: top;\n",
       "    }\n",
       "\n",
       "    .dataframe thead th {\n",
       "        text-align: right;\n",
       "    }\n",
       "</style>\n",
       "<table border=\"1\" class=\"dataframe\">\n",
       "  <thead>\n",
       "    <tr style=\"text-align: right;\">\n",
       "      <th></th>\n",
       "      <th>Clearing</th>\n",
       "      <th>Globex</th>\n",
       "      <th>Floor</th>\n",
       "      <th>Clearport</th>\n",
       "      <th>Product Name</th>\n",
       "      <th>Product Group</th>\n",
       "      <th>Sub Group</th>\n",
       "      <th>Category</th>\n",
       "      <th>Sub Category</th>\n",
       "      <th>Cleared As</th>\n",
       "      <th>Exchange</th>\n",
       "      <th>Volume</th>\n",
       "      <th>Open Interest</th>\n",
       "      <th>product_link</th>\n",
       "      <th>Contract Unit</th>\n",
       "      <th>Price Quotation</th>\n",
       "      <th>Trading Hours</th>\n",
       "      <th>Minimum Price Fluctuation</th>\n",
       "      <th>Product Code</th>\n",
       "      <th>Listed Contracts</th>\n",
       "      <th>Settlement Method</th>\n",
       "      <th>Termination Of Trading</th>\n",
       "      <th>Settlement Procedures</th>\n",
       "      <th>Position Limits</th>\n",
       "      <th>Exchange Rulebook</th>\n",
       "      <th>Block Minimum</th>\n",
       "      <th>Price Limit Or Circuit</th>\n",
       "      <th>All Or None Minimum</th>\n",
       "      <th>Vendor Codes</th>\n",
       "      <th>Settlement Procedures Link</th>\n",
       "      <th>Position Limits Link</th>\n",
       "      <th>Exchange Rulebook Link</th>\n",
       "      <th>Block Minimum Link</th>\n",
       "      <th>Price Limit Or Circuit Link</th>\n",
       "      <th>All Or None Minimum Link</th>\n",
       "      <th>Vendor Codes Link</th>\n",
       "      <th>Delivery Procedure</th>\n",
       "      <th>Last Delivery Date</th>\n",
       "      <th>Grade And Quality</th>\n",
       "      <th>Trade At Marker Or Trade At Settlement Rules</th>\n",
       "      <th>Delivery Period</th>\n",
       "      <th>Minimum Price Fluctuation_0</th>\n",
       "      <th>Grade And Quality Link</th>\n",
       "      <th>Floating Price</th>\n",
       "      <th>Days Or Hours</th>\n",
       "      <th>Trading Hours_0</th>\n",
       "      <th>Delivery Period Link</th>\n",
       "      <th>Delivery Procedure Link</th>\n",
       "      <th>Trade At Marker Or Trade At Settlement Rules Link</th>\n",
       "      <th>Minimum Price Fluctuation Link</th>\n",
       "      <th>Listed Contracts Link</th>\n",
       "      <th>Termination Of Trading_0</th>\n",
       "      <th>Termination Of Trading Link</th>\n",
       "      <th>Reportable Positions</th>\n",
       "      <th>Termination Of Trading_1</th>\n",
       "      <th>CME Globex:</th>\n",
       "      <th>Reportable Positions Link</th>\n",
       "    </tr>\n",
       "  </thead>\n",
       "  <tbody>\n",
       "    <tr>\n",
       "      <td>158</td>\n",
       "      <td>DTR</td>\n",
       "      <td>NaN</td>\n",
       "      <td>NaN</td>\n",
       "      <td>DTR</td>\n",
       "      <td>Dow Jones Industrial Average Total Return Inde...</td>\n",
       "      <td>Equities</td>\n",
       "      <td>US Index</td>\n",
       "      <td>NaN</td>\n",
       "      <td>NaN</td>\n",
       "      <td>Futures</td>\n",
       "      <td>CBOT</td>\n",
       "      <td>0</td>\n",
       "      <td>8950</td>\n",
       "      <td>http://www.cmegroup.com/trading/equity-index/u...</td>\n",
       "      <td>$2 x DJIA Total Return Index</td>\n",
       "      <td>NaN</td>\n",
       "      <td>Clearport: Sunday - Friday 6:00 p.m. - 5:00 p....</td>\n",
       "      <td>5 Index Point = $10.00 BTIC 0.5 Index Points =...</td>\n",
       "      <td>CME ClearPort: DTRClearing: DTRBTIC: DTT</td>\n",
       "      <td>5 months in the March Quarterly Cycle (Mar, Ju...</td>\n",
       "      <td>Financially Settled</td>\n",
       "      <td>Trading in expiring futures terminates on the ...</td>\n",
       "      <td>NaN</td>\n",
       "      <td>CME Position Limits</td>\n",
       "      <td>CBOT 31</td>\n",
       "      <td>Block Minimum Thresholds</td>\n",
       "      <td>Price Limits</td>\n",
       "      <td>NaN</td>\n",
       "      <td>Quote Vendor Symbols Listing</td>\n",
       "      <td>NaN</td>\n",
       "      <td>http://www.cmegroup.com/rulebook/files/positio...</td>\n",
       "      <td>https://www.cmegroup.com/content/dam/cmegroup/...</td>\n",
       "      <td>http://www.cmegroup.com/clearing/trading-pract...</td>\n",
       "      <td>http://www.cmegroup.com/trading/equity-index/p...</td>\n",
       "      <td>NaN</td>\n",
       "      <td>http://www.cmegroup.com/tools-information/vend...</td>\n",
       "      <td>NaN</td>\n",
       "      <td>NaN</td>\n",
       "      <td>NaN</td>\n",
       "      <td>NaN</td>\n",
       "      <td>NaN</td>\n",
       "      <td>NaN</td>\n",
       "      <td>NaN</td>\n",
       "      <td>NaN</td>\n",
       "      <td>NaN</td>\n",
       "      <td>NaN</td>\n",
       "      <td>NaN</td>\n",
       "      <td>NaN</td>\n",
       "      <td>NaN</td>\n",
       "      <td>NaN</td>\n",
       "      <td>NaN</td>\n",
       "      <td>NaN</td>\n",
       "      <td>NaN</td>\n",
       "      <td>NaN</td>\n",
       "      <td>NaN</td>\n",
       "      <td>NaN</td>\n",
       "      <td>NaN</td>\n",
       "    </tr>\n",
       "    <tr>\n",
       "      <td>512</td>\n",
       "      <td>SUT</td>\n",
       "      <td>NaN</td>\n",
       "      <td>NaN</td>\n",
       "      <td>SUT</td>\n",
       "      <td>S&amp;P 500 Value BTIC Futures</td>\n",
       "      <td>Equities</td>\n",
       "      <td>US Index</td>\n",
       "      <td>NaN</td>\n",
       "      <td>NaN</td>\n",
       "      <td>Futures</td>\n",
       "      <td>CME</td>\n",
       "      <td>0</td>\n",
       "      <td>0</td>\n",
       "      <td>http://www.cmegroup.com/trading/equity-index/u...</td>\n",
       "      <td>$250 x S&amp;P 500/Value Index</td>\n",
       "      <td>NaN</td>\n",
       "      <td>CME Globex: Sunday - Friday 6:00 p.m. - 5:00 p...</td>\n",
       "      <td>Outright: 0.10 Index Points=$25.00 Calendar Sp...</td>\n",
       "      <td>CME Globex: SUCME ClearPort: SUClearing: SUBTI...</td>\n",
       "      <td>Quarterly contracts (Mar, Jun, Sep, Dec) liste...</td>\n",
       "      <td>Financially Settled</td>\n",
       "      <td>Trading terminates on the business day before ...</td>\n",
       "      <td>Settlement Procedures</td>\n",
       "      <td>CME Position Limits</td>\n",
       "      <td>CME 356</td>\n",
       "      <td>Block Minimum Thresholds</td>\n",
       "      <td>Price Limits</td>\n",
       "      <td>NaN</td>\n",
       "      <td>Quote Vendor Symbols Listing</td>\n",
       "      <td>http://www.cmegroup.com/confluence/display/EPI...</td>\n",
       "      <td>http://www.cmegroup.com/rulebook/files/positio...</td>\n",
       "      <td>http://www.cmegroup.com/rulebook/CME/IV/350/35...</td>\n",
       "      <td>http://www.cmegroup.com/clearing/trading-pract...</td>\n",
       "      <td>https://www.cmegroup.com/trading/price-limits....</td>\n",
       "      <td>NaN</td>\n",
       "      <td>http://www.cmegroup.com/tools-information/vend...</td>\n",
       "      <td>NaN</td>\n",
       "      <td>NaN</td>\n",
       "      <td>NaN</td>\n",
       "      <td>NaN</td>\n",
       "      <td>NaN</td>\n",
       "      <td>NaN</td>\n",
       "      <td>NaN</td>\n",
       "      <td>NaN</td>\n",
       "      <td>NaN</td>\n",
       "      <td>NaN</td>\n",
       "      <td>NaN</td>\n",
       "      <td>NaN</td>\n",
       "      <td>NaN</td>\n",
       "      <td>NaN</td>\n",
       "      <td>NaN</td>\n",
       "      <td>NaN</td>\n",
       "      <td>NaN</td>\n",
       "      <td>NaN</td>\n",
       "      <td>NaN</td>\n",
       "      <td>NaN</td>\n",
       "      <td>NaN</td>\n",
       "    </tr>\n",
       "    <tr>\n",
       "      <td>547</td>\n",
       "      <td>R2R</td>\n",
       "      <td>NaN</td>\n",
       "      <td>NaN</td>\n",
       "      <td>R2R</td>\n",
       "      <td>Russell 2000 Total Return Index Futures</td>\n",
       "      <td>Equities</td>\n",
       "      <td>US Index</td>\n",
       "      <td>NaN</td>\n",
       "      <td>NaN</td>\n",
       "      <td>Futures</td>\n",
       "      <td>CME</td>\n",
       "      <td>0</td>\n",
       "      <td>0</td>\n",
       "      <td>http://www.cmegroup.com/trading/equity-index/u...</td>\n",
       "      <td>$10 x Russell 2000 Total Return Index</td>\n",
       "      <td>NaN</td>\n",
       "      <td>Clearport: Sunday - Friday 6:00 p.m. - 5:00 p....</td>\n",
       "      <td>1 Index Point = $10.00 BTIC: 0.10 Index Points...</td>\n",
       "      <td>CME ClearPort: R2RClearing: R2RBTIC: R2T</td>\n",
       "      <td>5 months in the March Quarterly Cycle (Mar, Ju...</td>\n",
       "      <td>Financially Settled</td>\n",
       "      <td>Trading in expiring futures terminates on the ...</td>\n",
       "      <td>NaN</td>\n",
       "      <td>CME Position Limits</td>\n",
       "      <td>CME 398</td>\n",
       "      <td>Block Minimum Thresholds</td>\n",
       "      <td>Price Limits</td>\n",
       "      <td>NaN</td>\n",
       "      <td>Quote Vendor Symbols Listing</td>\n",
       "      <td>NaN</td>\n",
       "      <td>http://www.cmegroup.com/rulebook/files/positio...</td>\n",
       "      <td>https://www.cmegroup.com/content/dam/cmegroup/...</td>\n",
       "      <td>http://www.cmegroup.com/clearing/trading-pract...</td>\n",
       "      <td>http://www.cmegroup.com/trading/equity-index/p...</td>\n",
       "      <td>NaN</td>\n",
       "      <td>http://www.cmegroup.com/tools-information/vend...</td>\n",
       "      <td>NaN</td>\n",
       "      <td>NaN</td>\n",
       "      <td>NaN</td>\n",
       "      <td>NaN</td>\n",
       "      <td>NaN</td>\n",
       "      <td>NaN</td>\n",
       "      <td>NaN</td>\n",
       "      <td>NaN</td>\n",
       "      <td>NaN</td>\n",
       "      <td>NaN</td>\n",
       "      <td>NaN</td>\n",
       "      <td>NaN</td>\n",
       "      <td>NaN</td>\n",
       "      <td>NaN</td>\n",
       "      <td>NaN</td>\n",
       "      <td>NaN</td>\n",
       "      <td>NaN</td>\n",
       "      <td>NaN</td>\n",
       "      <td>NaN</td>\n",
       "      <td>NaN</td>\n",
       "      <td>NaN</td>\n",
       "    </tr>\n",
       "    <tr>\n",
       "      <td>564</td>\n",
       "      <td>IBB</td>\n",
       "      <td>NaN</td>\n",
       "      <td>NaN</td>\n",
       "      <td>IBB</td>\n",
       "      <td>BTIC on USD-Denominated Ibovespa Index Futures</td>\n",
       "      <td>Equities</td>\n",
       "      <td>International Index</td>\n",
       "      <td>NaN</td>\n",
       "      <td>NaN</td>\n",
       "      <td>Futures</td>\n",
       "      <td>CME</td>\n",
       "      <td>0</td>\n",
       "      <td>0</td>\n",
       "      <td>http://www.cmegroup.com/trading/equity-index/i...</td>\n",
       "      <td>$1 x Ibovespa Index</td>\n",
       "      <td>NaN</td>\n",
       "      <td>CME Globex: Sunday - Friday 6:00 p.m. - 5:00 p...</td>\n",
       "      <td>Outrights 5 index points = $5 Calendar Spreads...</td>\n",
       "      <td>CME Globex: IBVCME ClearPort: IBVClearing: IBV...</td>\n",
       "      <td>Four bi-monthly contracts (Feb, Apr, Jun, Aug,...</td>\n",
       "      <td>Financially Settled</td>\n",
       "      <td>5:00 p.m. Sao Paulo Time on the Wednesday clos...</td>\n",
       "      <td>Settlement Procedures</td>\n",
       "      <td>CME Position Limits</td>\n",
       "      <td>CME 354</td>\n",
       "      <td>Block Minimum Thresholds</td>\n",
       "      <td>Price Limit or Circuit Breaker</td>\n",
       "      <td>NaN</td>\n",
       "      <td>Quote Vendor Symbols Listing</td>\n",
       "      <td>http://www.cmegroup.com/confluence/display/EPI...</td>\n",
       "      <td>http://www.cmegroup.com/rulebook/files/positio...</td>\n",
       "      <td>http://www.cmegroup.com/rulebook/CME/IV/350/35...</td>\n",
       "      <td>http://www.cmegroup.com/clearing/trading-pract...</td>\n",
       "      <td>https://www.cmegroup.com/trading/price-limits....</td>\n",
       "      <td>NaN</td>\n",
       "      <td>http://www.cmegroup.com/tools-information/vend...</td>\n",
       "      <td>NaN</td>\n",
       "      <td>NaN</td>\n",
       "      <td>NaN</td>\n",
       "      <td>NaN</td>\n",
       "      <td>NaN</td>\n",
       "      <td>NaN</td>\n",
       "      <td>NaN</td>\n",
       "      <td>NaN</td>\n",
       "      <td>NaN</td>\n",
       "      <td>NaN</td>\n",
       "      <td>NaN</td>\n",
       "      <td>NaN</td>\n",
       "      <td>NaN</td>\n",
       "      <td>NaN</td>\n",
       "      <td>NaN</td>\n",
       "      <td>NaN</td>\n",
       "      <td>NaN</td>\n",
       "      <td>NaN</td>\n",
       "      <td>NaN</td>\n",
       "      <td>NaN</td>\n",
       "      <td>NaN</td>\n",
       "    </tr>\n",
       "    <tr>\n",
       "      <td>592</td>\n",
       "      <td>R1R</td>\n",
       "      <td>NaN</td>\n",
       "      <td>NaN</td>\n",
       "      <td>R1R</td>\n",
       "      <td>Russell 1000 Total Return Index Futures</td>\n",
       "      <td>Equities</td>\n",
       "      <td>US Index</td>\n",
       "      <td>NaN</td>\n",
       "      <td>NaN</td>\n",
       "      <td>Futures</td>\n",
       "      <td>CME</td>\n",
       "      <td>0</td>\n",
       "      <td>0</td>\n",
       "      <td>http://www.cmegroup.com/trading/equity-index/u...</td>\n",
       "      <td>$10 x Russell 1000 Total Return Index</td>\n",
       "      <td>NaN</td>\n",
       "      <td>Clearport: Sunday - Friday 6:00 p.m. - 5:00 p....</td>\n",
       "      <td>1 Index Point = $10.00 BTIC 0.10 Index Points ...</td>\n",
       "      <td>CME ClearPort: R1RClearing: R1RBTIC: R1B</td>\n",
       "      <td>5 months in the March Quarterly Cycle (Mar, Ju...</td>\n",
       "      <td>Financially Settled</td>\n",
       "      <td>Trading in the expiring futures terminates on ...</td>\n",
       "      <td>NaN</td>\n",
       "      <td>CME Position Limits</td>\n",
       "      <td>CME 397</td>\n",
       "      <td>Block Minimum Thresholds</td>\n",
       "      <td>Price Limits</td>\n",
       "      <td>NaN</td>\n",
       "      <td>Quote Vendor Symbols Listing</td>\n",
       "      <td>NaN</td>\n",
       "      <td>http://www.cmegroup.com/rulebook/files/positio...</td>\n",
       "      <td>https://www.cmegroup.com/content/dam/cmegroup/...</td>\n",
       "      <td>http://www.cmegroup.com/clearing/trading-pract...</td>\n",
       "      <td>http://www.cmegroup.com/trading/equity-index/p...</td>\n",
       "      <td>NaN</td>\n",
       "      <td>http://www.cmegroup.com/tools-information/vend...</td>\n",
       "      <td>NaN</td>\n",
       "      <td>NaN</td>\n",
       "      <td>NaN</td>\n",
       "      <td>NaN</td>\n",
       "      <td>NaN</td>\n",
       "      <td>NaN</td>\n",
       "      <td>NaN</td>\n",
       "      <td>NaN</td>\n",
       "      <td>NaN</td>\n",
       "      <td>NaN</td>\n",
       "      <td>NaN</td>\n",
       "      <td>NaN</td>\n",
       "      <td>NaN</td>\n",
       "      <td>NaN</td>\n",
       "      <td>NaN</td>\n",
       "      <td>NaN</td>\n",
       "      <td>NaN</td>\n",
       "      <td>NaN</td>\n",
       "      <td>NaN</td>\n",
       "      <td>NaN</td>\n",
       "      <td>NaN</td>\n",
       "    </tr>\n",
       "    <tr>\n",
       "      <td>611</td>\n",
       "      <td>N1R</td>\n",
       "      <td>NaN</td>\n",
       "      <td>NaN</td>\n",
       "      <td>N1R</td>\n",
       "      <td>Nasdaq-100 Total Return Index Futures</td>\n",
       "      <td>Equities</td>\n",
       "      <td>US Index</td>\n",
       "      <td>NaN</td>\n",
       "      <td>NaN</td>\n",
       "      <td>Futures</td>\n",
       "      <td>CME</td>\n",
       "      <td>0</td>\n",
       "      <td>0</td>\n",
       "      <td>http://www.cmegroup.com/trading/equity-index/u...</td>\n",
       "      <td>$10 x Nasdaq-100 Total Return Index</td>\n",
       "      <td>NaN</td>\n",
       "      <td>Clearport: Sunday - Friday 6:00 p.m. - 5:00 p....</td>\n",
       "      <td>1 Index Point = $10.00 BTIC 0.10 Index Points ...</td>\n",
       "      <td>CME ClearPort: N1RClearing: N1RBTIC: N1T</td>\n",
       "      <td>5 months in the March Quarterly Cycle (Mar, Ju...</td>\n",
       "      <td>Financially Settled</td>\n",
       "      <td>Trading in expiring futures terminates on the ...</td>\n",
       "      <td>NaN</td>\n",
       "      <td>CME Position Limits</td>\n",
       "      <td>CME 396</td>\n",
       "      <td>Block Minimum Thresholds</td>\n",
       "      <td>Price Limits</td>\n",
       "      <td>NaN</td>\n",
       "      <td>Quote Vendor Symbols Listing</td>\n",
       "      <td>NaN</td>\n",
       "      <td>http://www.cmegroup.com/rulebook/files/positio...</td>\n",
       "      <td>https://www.cmegroup.com/content/dam/cmegroup/...</td>\n",
       "      <td>http://www.cmegroup.com/clearing/trading-pract...</td>\n",
       "      <td>http://www.cmegroup.com/trading/equity-index/p...</td>\n",
       "      <td>NaN</td>\n",
       "      <td>http://www.cmegroup.com/tools-information/vend...</td>\n",
       "      <td>NaN</td>\n",
       "      <td>NaN</td>\n",
       "      <td>NaN</td>\n",
       "      <td>NaN</td>\n",
       "      <td>NaN</td>\n",
       "      <td>NaN</td>\n",
       "      <td>NaN</td>\n",
       "      <td>NaN</td>\n",
       "      <td>NaN</td>\n",
       "      <td>NaN</td>\n",
       "      <td>NaN</td>\n",
       "      <td>NaN</td>\n",
       "      <td>NaN</td>\n",
       "      <td>NaN</td>\n",
       "      <td>NaN</td>\n",
       "      <td>NaN</td>\n",
       "      <td>NaN</td>\n",
       "      <td>NaN</td>\n",
       "      <td>NaN</td>\n",
       "      <td>NaN</td>\n",
       "      <td>NaN</td>\n",
       "    </tr>\n",
       "    <tr>\n",
       "      <td>836</td>\n",
       "      <td>SMT</td>\n",
       "      <td>NaN</td>\n",
       "      <td>NaN</td>\n",
       "      <td>SMT</td>\n",
       "      <td>E-mini S&amp;P 600 SmallCap BTIC Futures</td>\n",
       "      <td>Equities</td>\n",
       "      <td>US Index</td>\n",
       "      <td>NaN</td>\n",
       "      <td>NaN</td>\n",
       "      <td>Futures</td>\n",
       "      <td>CME</td>\n",
       "      <td>0</td>\n",
       "      <td>0</td>\n",
       "      <td>http://www.cmegroup.com/trading/equity-index/u...</td>\n",
       "      <td>$100 x S&amp;P SmallCap 600 Index</td>\n",
       "      <td>NaN</td>\n",
       "      <td>CME Globex: Sunday - Friday 6:00 p.m. - 5:00 p...</td>\n",
       "      <td>Outrights: 0.10 index points=$10.00 Calendar S...</td>\n",
       "      <td>CME Globex: SMCCME ClearPort: SMCClearing: SMC...</td>\n",
       "      <td>Five months in the March Quarterly Cycle (Mar,...</td>\n",
       "      <td>Financially Settled</td>\n",
       "      <td>Trading can occur up to 9:30 a.m. Eastern Time...</td>\n",
       "      <td>Settlement Procedures</td>\n",
       "      <td>CME Position Limits</td>\n",
       "      <td>CME 368</td>\n",
       "      <td>NaN</td>\n",
       "      <td>Price Limits</td>\n",
       "      <td>NaN</td>\n",
       "      <td>Quote Vendor Symbols Listing</td>\n",
       "      <td>http://www.cmegroup.com/confluence/display/EPI...</td>\n",
       "      <td>http://www.cmegroup.com/rulebook/files/positio...</td>\n",
       "      <td>http://www.cmegroup.com/rulebook/CME/IV/350/36...</td>\n",
       "      <td>NaN</td>\n",
       "      <td>https://www.cmegroup.com/trading/price-limits....</td>\n",
       "      <td>NaN</td>\n",
       "      <td>http://www.cmegroup.com/tools-information/vend...</td>\n",
       "      <td>NaN</td>\n",
       "      <td>NaN</td>\n",
       "      <td>NaN</td>\n",
       "      <td>NaN</td>\n",
       "      <td>NaN</td>\n",
       "      <td>NaN</td>\n",
       "      <td>NaN</td>\n",
       "      <td>NaN</td>\n",
       "      <td>NaN</td>\n",
       "      <td>NaN</td>\n",
       "      <td>NaN</td>\n",
       "      <td>NaN</td>\n",
       "      <td>NaN</td>\n",
       "      <td>NaN</td>\n",
       "      <td>NaN</td>\n",
       "      <td>NaN</td>\n",
       "      <td>NaN</td>\n",
       "      <td>NaN</td>\n",
       "      <td>NaN</td>\n",
       "      <td>NaN</td>\n",
       "      <td>NaN</td>\n",
       "    </tr>\n",
       "    <tr>\n",
       "      <td>886</td>\n",
       "      <td>SGT</td>\n",
       "      <td>NaN</td>\n",
       "      <td>NaN</td>\n",
       "      <td>SGT</td>\n",
       "      <td>S&amp;P 500 Growth BTIC Futures</td>\n",
       "      <td>Equities</td>\n",
       "      <td>US Index</td>\n",
       "      <td>NaN</td>\n",
       "      <td>NaN</td>\n",
       "      <td>Futures</td>\n",
       "      <td>CME</td>\n",
       "      <td>0</td>\n",
       "      <td>0</td>\n",
       "      <td>http://www.cmegroup.com/trading/equity-index/u...</td>\n",
       "      <td>$250 x S&amp;P 500/Growth Index</td>\n",
       "      <td>NaN</td>\n",
       "      <td>CME Globex: Sunday - Friday 6:00 p.m. - 5:00 p...</td>\n",
       "      <td>Outright: 0.10 Index Points = $25.00 Calendar ...</td>\n",
       "      <td>CME Globex: SGCME ClearPort: SGClearing: SGBTI...</td>\n",
       "      <td>Quarterly contracts (Mar, Jun, Sep, Dec) liste...</td>\n",
       "      <td>Financially Settled</td>\n",
       "      <td>Trading terminates on the business day before ...</td>\n",
       "      <td>Settlement Procedures</td>\n",
       "      <td>CME Position Limits</td>\n",
       "      <td>CME 355</td>\n",
       "      <td>Block Minimum Thresholds</td>\n",
       "      <td>Price Limits</td>\n",
       "      <td>NaN</td>\n",
       "      <td>Quote Vendor Symbols Listing</td>\n",
       "      <td>http://www.cmegroup.com/confluence/display/EPI...</td>\n",
       "      <td>http://www.cmegroup.com/rulebook/files/positio...</td>\n",
       "      <td>http://www.cmegroup.com/rulebook/CME/IV/350/35...</td>\n",
       "      <td>http://www.cmegroup.com/clearing/trading-pract...</td>\n",
       "      <td>https://www.cmegroup.com/trading/price-limits....</td>\n",
       "      <td>NaN</td>\n",
       "      <td>http://www.cmegroup.com/tools-information/vend...</td>\n",
       "      <td>NaN</td>\n",
       "      <td>NaN</td>\n",
       "      <td>NaN</td>\n",
       "      <td>NaN</td>\n",
       "      <td>NaN</td>\n",
       "      <td>NaN</td>\n",
       "      <td>NaN</td>\n",
       "      <td>NaN</td>\n",
       "      <td>NaN</td>\n",
       "      <td>NaN</td>\n",
       "      <td>NaN</td>\n",
       "      <td>NaN</td>\n",
       "      <td>NaN</td>\n",
       "      <td>NaN</td>\n",
       "      <td>NaN</td>\n",
       "      <td>NaN</td>\n",
       "      <td>NaN</td>\n",
       "      <td>NaN</td>\n",
       "      <td>NaN</td>\n",
       "      <td>NaN</td>\n",
       "      <td>NaN</td>\n",
       "    </tr>\n",
       "  </tbody>\n",
       "</table>\n",
       "</div>"
      ],
      "text/plain": [
       "    Clearing Globex Floor Clearport                                       Product Name Product Group            Sub Group Category Sub Category Cleared As Exchange  Volume  Open Interest                                       product_link                          Contract Unit Price Quotation                                      Trading Hours                          Minimum Price Fluctuation                                       Product Code                                   Listed Contracts    Settlement Method                             Termination Of Trading  Settlement Procedures      Position Limits Exchange Rulebook             Block Minimum          Price Limit Or Circuit All Or None Minimum                  Vendor Codes                         Settlement Procedures Link                               Position Limits Link                             Exchange Rulebook Link                                 Block Minimum Link                        Price Limit Or Circuit Link  \\\n",
       "158      DTR    NaN   NaN       DTR  Dow Jones Industrial Average Total Return Inde...      Equities             US Index      NaN          NaN    Futures     CBOT       0           8950  http://www.cmegroup.com/trading/equity-index/u...           $2 x DJIA Total Return Index             NaN  Clearport: Sunday - Friday 6:00 p.m. - 5:00 p....  5 Index Point = $10.00 BTIC 0.5 Index Points =...           CME ClearPort: DTRClearing: DTRBTIC: DTT  5 months in the March Quarterly Cycle (Mar, Ju...  Financially Settled  Trading in expiring futures terminates on the ...                    NaN  CME Position Limits           CBOT 31  Block Minimum Thresholds                    Price Limits                 NaN  Quote Vendor Symbols Listing                                                NaN  http://www.cmegroup.com/rulebook/files/positio...  https://www.cmegroup.com/content/dam/cmegroup/...  http://www.cmegroup.com/clearing/trading-pract...  http://www.cmegroup.com/trading/equity-index/p...   \n",
       "512      SUT    NaN   NaN       SUT                         S&P 500 Value BTIC Futures      Equities             US Index      NaN          NaN    Futures      CME       0              0  http://www.cmegroup.com/trading/equity-index/u...             $250 x S&P 500/Value Index             NaN  CME Globex: Sunday - Friday 6:00 p.m. - 5:00 p...  Outright: 0.10 Index Points=$25.00 Calendar Sp...  CME Globex: SUCME ClearPort: SUClearing: SUBTI...  Quarterly contracts (Mar, Jun, Sep, Dec) liste...  Financially Settled  Trading terminates on the business day before ...  Settlement Procedures  CME Position Limits           CME 356  Block Minimum Thresholds                    Price Limits                 NaN  Quote Vendor Symbols Listing  http://www.cmegroup.com/confluence/display/EPI...  http://www.cmegroup.com/rulebook/files/positio...  http://www.cmegroup.com/rulebook/CME/IV/350/35...  http://www.cmegroup.com/clearing/trading-pract...  https://www.cmegroup.com/trading/price-limits....   \n",
       "547      R2R    NaN   NaN       R2R            Russell 2000 Total Return Index Futures      Equities             US Index      NaN          NaN    Futures      CME       0              0  http://www.cmegroup.com/trading/equity-index/u...  $10 x Russell 2000 Total Return Index             NaN  Clearport: Sunday - Friday 6:00 p.m. - 5:00 p....  1 Index Point = $10.00 BTIC: 0.10 Index Points...           CME ClearPort: R2RClearing: R2RBTIC: R2T  5 months in the March Quarterly Cycle (Mar, Ju...  Financially Settled  Trading in expiring futures terminates on the ...                    NaN  CME Position Limits           CME 398  Block Minimum Thresholds                    Price Limits                 NaN  Quote Vendor Symbols Listing                                                NaN  http://www.cmegroup.com/rulebook/files/positio...  https://www.cmegroup.com/content/dam/cmegroup/...  http://www.cmegroup.com/clearing/trading-pract...  http://www.cmegroup.com/trading/equity-index/p...   \n",
       "564      IBB    NaN   NaN       IBB     BTIC on USD-Denominated Ibovespa Index Futures      Equities  International Index      NaN          NaN    Futures      CME       0              0  http://www.cmegroup.com/trading/equity-index/i...                    $1 x Ibovespa Index             NaN  CME Globex: Sunday - Friday 6:00 p.m. - 5:00 p...  Outrights 5 index points = $5 Calendar Spreads...  CME Globex: IBVCME ClearPort: IBVClearing: IBV...  Four bi-monthly contracts (Feb, Apr, Jun, Aug,...  Financially Settled  5:00 p.m. Sao Paulo Time on the Wednesday clos...  Settlement Procedures  CME Position Limits           CME 354  Block Minimum Thresholds  Price Limit or Circuit Breaker                 NaN  Quote Vendor Symbols Listing  http://www.cmegroup.com/confluence/display/EPI...  http://www.cmegroup.com/rulebook/files/positio...  http://www.cmegroup.com/rulebook/CME/IV/350/35...  http://www.cmegroup.com/clearing/trading-pract...  https://www.cmegroup.com/trading/price-limits....   \n",
       "592      R1R    NaN   NaN       R1R            Russell 1000 Total Return Index Futures      Equities             US Index      NaN          NaN    Futures      CME       0              0  http://www.cmegroup.com/trading/equity-index/u...  $10 x Russell 1000 Total Return Index             NaN  Clearport: Sunday - Friday 6:00 p.m. - 5:00 p....  1 Index Point = $10.00 BTIC 0.10 Index Points ...           CME ClearPort: R1RClearing: R1RBTIC: R1B  5 months in the March Quarterly Cycle (Mar, Ju...  Financially Settled  Trading in the expiring futures terminates on ...                    NaN  CME Position Limits           CME 397  Block Minimum Thresholds                    Price Limits                 NaN  Quote Vendor Symbols Listing                                                NaN  http://www.cmegroup.com/rulebook/files/positio...  https://www.cmegroup.com/content/dam/cmegroup/...  http://www.cmegroup.com/clearing/trading-pract...  http://www.cmegroup.com/trading/equity-index/p...   \n",
       "611      N1R    NaN   NaN       N1R              Nasdaq-100 Total Return Index Futures      Equities             US Index      NaN          NaN    Futures      CME       0              0  http://www.cmegroup.com/trading/equity-index/u...    $10 x Nasdaq-100 Total Return Index             NaN  Clearport: Sunday - Friday 6:00 p.m. - 5:00 p....  1 Index Point = $10.00 BTIC 0.10 Index Points ...           CME ClearPort: N1RClearing: N1RBTIC: N1T  5 months in the March Quarterly Cycle (Mar, Ju...  Financially Settled  Trading in expiring futures terminates on the ...                    NaN  CME Position Limits           CME 396  Block Minimum Thresholds                    Price Limits                 NaN  Quote Vendor Symbols Listing                                                NaN  http://www.cmegroup.com/rulebook/files/positio...  https://www.cmegroup.com/content/dam/cmegroup/...  http://www.cmegroup.com/clearing/trading-pract...  http://www.cmegroup.com/trading/equity-index/p...   \n",
       "836      SMT    NaN   NaN       SMT               E-mini S&P 600 SmallCap BTIC Futures      Equities             US Index      NaN          NaN    Futures      CME       0              0  http://www.cmegroup.com/trading/equity-index/u...          $100 x S&P SmallCap 600 Index             NaN  CME Globex: Sunday - Friday 6:00 p.m. - 5:00 p...  Outrights: 0.10 index points=$10.00 Calendar S...  CME Globex: SMCCME ClearPort: SMCClearing: SMC...  Five months in the March Quarterly Cycle (Mar,...  Financially Settled  Trading can occur up to 9:30 a.m. Eastern Time...  Settlement Procedures  CME Position Limits           CME 368                       NaN                    Price Limits                 NaN  Quote Vendor Symbols Listing  http://www.cmegroup.com/confluence/display/EPI...  http://www.cmegroup.com/rulebook/files/positio...  http://www.cmegroup.com/rulebook/CME/IV/350/36...                                                NaN  https://www.cmegroup.com/trading/price-limits....   \n",
       "886      SGT    NaN   NaN       SGT                        S&P 500 Growth BTIC Futures      Equities             US Index      NaN          NaN    Futures      CME       0              0  http://www.cmegroup.com/trading/equity-index/u...            $250 x S&P 500/Growth Index             NaN  CME Globex: Sunday - Friday 6:00 p.m. - 5:00 p...  Outright: 0.10 Index Points = $25.00 Calendar ...  CME Globex: SGCME ClearPort: SGClearing: SGBTI...  Quarterly contracts (Mar, Jun, Sep, Dec) liste...  Financially Settled  Trading terminates on the business day before ...  Settlement Procedures  CME Position Limits           CME 355  Block Minimum Thresholds                    Price Limits                 NaN  Quote Vendor Symbols Listing  http://www.cmegroup.com/confluence/display/EPI...  http://www.cmegroup.com/rulebook/files/positio...  http://www.cmegroup.com/rulebook/CME/IV/350/35...  http://www.cmegroup.com/clearing/trading-pract...  https://www.cmegroup.com/trading/price-limits....   \n",
       "\n",
       "    All Or None Minimum Link                                  Vendor Codes Link Delivery Procedure Last Delivery Date Grade And Quality Trade At Marker Or Trade At Settlement Rules Delivery Period Minimum Price Fluctuation_0 Grade And Quality Link Floating Price Days Or Hours Trading Hours_0 Delivery Period Link Delivery Procedure Link Trade At Marker Or Trade At Settlement Rules Link Minimum Price Fluctuation Link Listed Contracts Link Termination Of Trading_0 Termination Of Trading Link Reportable Positions Termination Of Trading_1 CME Globex: Reportable Positions Link  \n",
       "158                      NaN  http://www.cmegroup.com/tools-information/vend...                NaN                NaN               NaN                                          NaN             NaN                         NaN                    NaN            NaN           NaN             NaN                  NaN                     NaN                                               NaN                            NaN                   NaN                      NaN                         NaN                  NaN                      NaN         NaN                       NaN  \n",
       "512                      NaN  http://www.cmegroup.com/tools-information/vend...                NaN                NaN               NaN                                          NaN             NaN                         NaN                    NaN            NaN           NaN             NaN                  NaN                     NaN                                               NaN                            NaN                   NaN                      NaN                         NaN                  NaN                      NaN         NaN                       NaN  \n",
       "547                      NaN  http://www.cmegroup.com/tools-information/vend...                NaN                NaN               NaN                                          NaN             NaN                         NaN                    NaN            NaN           NaN             NaN                  NaN                     NaN                                               NaN                            NaN                   NaN                      NaN                         NaN                  NaN                      NaN         NaN                       NaN  \n",
       "564                      NaN  http://www.cmegroup.com/tools-information/vend...                NaN                NaN               NaN                                          NaN             NaN                         NaN                    NaN            NaN           NaN             NaN                  NaN                     NaN                                               NaN                            NaN                   NaN                      NaN                         NaN                  NaN                      NaN         NaN                       NaN  \n",
       "592                      NaN  http://www.cmegroup.com/tools-information/vend...                NaN                NaN               NaN                                          NaN             NaN                         NaN                    NaN            NaN           NaN             NaN                  NaN                     NaN                                               NaN                            NaN                   NaN                      NaN                         NaN                  NaN                      NaN         NaN                       NaN  \n",
       "611                      NaN  http://www.cmegroup.com/tools-information/vend...                NaN                NaN               NaN                                          NaN             NaN                         NaN                    NaN            NaN           NaN             NaN                  NaN                     NaN                                               NaN                            NaN                   NaN                      NaN                         NaN                  NaN                      NaN         NaN                       NaN  \n",
       "836                      NaN  http://www.cmegroup.com/tools-information/vend...                NaN                NaN               NaN                                          NaN             NaN                         NaN                    NaN            NaN           NaN             NaN                  NaN                     NaN                                               NaN                            NaN                   NaN                      NaN                         NaN                  NaN                      NaN         NaN                       NaN  \n",
       "886                      NaN  http://www.cmegroup.com/tools-information/vend...                NaN                NaN               NaN                                          NaN             NaN                         NaN                    NaN            NaN           NaN             NaN                  NaN                     NaN                                               NaN                            NaN                   NaN                      NaN                         NaN                  NaN                      NaN         NaN                       NaN  "
      ]
     },
     "execution_count": 147,
     "metadata": {},
     "output_type": "execute_result"
    }
   ],
   "source": [
    "product_specs[product_specs[\"Globex\"].isna()]"
   ]
  },
  {
   "cell_type": "code",
   "execution_count": null,
   "metadata": {},
   "outputs": [],
   "source": []
  },
  {
   "cell_type": "code",
   "execution_count": null,
   "metadata": {},
   "outputs": [],
   "source": []
  },
  {
   "cell_type": "code",
   "execution_count": null,
   "metadata": {},
   "outputs": [],
   "source": []
  },
  {
   "cell_type": "code",
   "execution_count": 148,
   "metadata": {
    "ExecuteTime": {
     "end_time": "2019-10-10T19:40:52.706753Z",
     "start_time": "2019-10-10T19:40:52.652600Z"
    }
   },
   "outputs": [
    {
     "name": "stdout",
     "output_type": "stream",
     "text": [
      "7\n",
      "     Symbol  StartDate                                   Description                                           Exchange\n",
      "10.0     CL  9/27/2009                 CONTINUOUS CRUDE OIL CONTRACT        New York Mercantile Exchange (NYMEX GLOBEX)\n",
      "20.0     NG  9/27/2009               CONTINUOUS NATURAL GAS CONTRACT        New York Mercantile Exchange (NYMEX GLOBEX)\n",
      "24.0     QM  9/27/2009          CONTINUOUS E-MINI CRUDE OIL CONTRACT  New York Mercantile Exchange Mini Sized Contracts\n",
      "29.0     RB  9/27/2009             CONTINUOUS RBOB GASOLINE CONTRACT        New York Mercantile Exchange (NYMEX GLOBEX)\n",
      "35.0     BO  9/27/2009               CONTINUOUS SOYBEAN OIL CONTRACT               Chicago Board Of Trade (CBOT GLOBEX)\n",
      "43.0     BZ  9/28/2009  CONTINUOUS BRENT CRUDE OIL LAST DAY CONTRACT        New York Mercantile Exchange (NYMEX GLOBEX)\n",
      "49.0     QG  9/27/2009        CONTINUOUS E-MINI NATURAL GAS CONTRACT  New York Mercantile Exchange Mini Sized Contracts\n"
     ]
    }
   ],
   "source": [
    "mask = [\"GAS\" in d or \"OIL\" in d for d in df4[\"Description\"].astype(str)]\n",
    "print(sum(mask))\n",
    "print(df4[mask].drop([\"SymbolBase\", \"Size(MB)\"], axis=1))"
   ]
  },
  {
   "cell_type": "code",
   "execution_count": 149,
   "metadata": {
    "ExecuteTime": {
     "end_time": "2019-10-10T19:40:52.754933Z",
     "start_time": "2019-10-10T19:40:52.711460Z"
    }
   },
   "outputs": [
    {
     "data": {
      "text/plain": [
       "array(['CL', 'NG', 'QM', 'RB', 'BO', 'BZ', 'QG'], dtype=object)"
      ]
     },
     "execution_count": 149,
     "metadata": {},
     "output_type": "execute_result"
    }
   ],
   "source": [
    "df4[mask][\"Symbol\"].values"
   ]
  },
  {
   "cell_type": "markdown",
   "metadata": {},
   "source": [
    "# Read config"
   ]
  },
  {
   "cell_type": "code",
   "execution_count": 150,
   "metadata": {
    "ExecuteTime": {
     "end_time": "2019-10-10T19:40:52.802518Z",
     "start_time": "2019-10-10T19:40:52.757257Z"
    }
   },
   "outputs": [
    {
     "name": "stdout",
     "output_type": "stream",
     "text": [
      "read_data:\n",
      "  nrows: None\n",
      "zscore_com: 28\n"
     ]
    }
   ],
   "source": [
    "config = cfg.Config.from_env()\n",
    "\n",
    "if config is None:\n",
    "    config = cfg.Config()\n",
    "    config_tmp = config.add_subconfig(\"read_data\")\n",
    "    # config_tmp[\"nrows\"] = 100000\n",
    "    config_tmp[\"nrows\"] = None\n",
    "    #\n",
    "    config[\"zscore_com\"] = 28\n",
    "\n",
    "print(config)"
   ]
  },
  {
   "cell_type": "markdown",
   "metadata": {},
   "source": [
    "# Prices"
   ]
  },
  {
   "cell_type": "markdown",
   "metadata": {},
   "source": [
    "## Read daily prices"
   ]
  },
  {
   "cell_type": "code",
   "execution_count": 151,
   "metadata": {
    "ExecuteTime": {
     "end_time": "2019-10-10T19:40:52.858105Z",
     "start_time": "2019-10-10T19:40:52.804330Z"
    }
   },
   "outputs": [
    {
     "ename": "FileNotFoundError",
     "evalue": "[Errno 2] No such file or directory: '/data/kibot/All_Futures_Continuous_Contracts_daily'",
     "output_type": "error",
     "traceback": [
      "\u001b[0;31m---------------------------------------------------------------------------\u001b[0m",
      "\u001b[0;31mFileNotFoundError\u001b[0m                         Traceback (most recent call last)",
      "\u001b[0;32m<ipython-input-151-83b9377287c8>\u001b[0m in \u001b[0;36m<module>\u001b[0;34m\u001b[0m\n\u001b[1;32m      2\u001b[0m     \u001b[0mfutures\u001b[0m\u001b[0;34m.\u001b[0m\u001b[0mreplace\u001b[0m\u001b[0;34m(\u001b[0m\u001b[0;34m\".csv.gz\"\u001b[0m\u001b[0;34m,\u001b[0m \u001b[0;34m\"\"\u001b[0m\u001b[0;34m)\u001b[0m\u001b[0;34m\u001b[0m\u001b[0;34m\u001b[0m\u001b[0m\n\u001b[1;32m      3\u001b[0m     for futures in os.listdir(\n\u001b[0;32m----> 4\u001b[0;31m         \u001b[0;34m\"/data/kibot/All_Futures_Continuous_Contracts_daily\"\u001b[0m\u001b[0;34m\u001b[0m\u001b[0;34m\u001b[0m\u001b[0m\n\u001b[0m\u001b[1;32m      5\u001b[0m     )\n\u001b[1;32m      6\u001b[0m ]\n",
      "\u001b[0;31mFileNotFoundError\u001b[0m: [Errno 2] No such file or directory: '/data/kibot/All_Futures_Continuous_Contracts_daily'"
     ]
    }
   ],
   "source": [
    "all_symbols = [\n",
    "    futures.replace(\".csv.gz\", \"\")\n",
    "    for futures in os.listdir(\n",
    "        \"/data/kibot/All_Futures_Continuous_Contracts_daily\"\n",
    "    )\n",
    "]"
   ]
  },
  {
   "cell_type": "code",
   "execution_count": null,
   "metadata": {
    "ExecuteTime": {
     "end_time": "2019-10-10T19:40:52.861115Z",
     "start_time": "2019-10-10T19:40:45.177Z"
    }
   },
   "outputs": [],
   "source": [
    "symbols = df4[mask][\"Symbol\"].values\n",
    "symbols"
   ]
  },
  {
   "cell_type": "code",
   "execution_count": null,
   "metadata": {
    "ExecuteTime": {
     "end_time": "2019-10-10T19:40:52.864452Z",
     "start_time": "2019-10-10T19:40:45.179Z"
    }
   },
   "outputs": [],
   "source": [
    "file_name = \"/data/kibot/All_Futures_Continuous_Contracts_daily/%s.csv.gz\"\n",
    "\n",
    "daily_price_dict_df = kut.read_multiple_symbol_data(\n",
    "    symbols, file_name, nrows=config[\"read_data\"][\"nrows\"]\n",
    ")\n",
    "\n",
    "daily_price_dict_df[\"CL\"].tail(2)"
   ]
  },
  {
   "cell_type": "markdown",
   "metadata": {},
   "source": [
    "# Top futures by volume"
   ]
  },
  {
   "cell_type": "markdown",
   "metadata": {},
   "source": [
    "## Sum volume"
   ]
  },
  {
   "cell_type": "code",
   "execution_count": null,
   "metadata": {
    "ExecuteTime": {
     "end_time": "2019-10-10T19:40:52.865911Z",
     "start_time": "2019-10-10T19:40:45.182Z"
    }
   },
   "outputs": [],
   "source": [
    "daily_vol = lau.get_sum_daily_volume(daily_price_dict_df)\n",
    "daily_vol.sort_values(\"sum_vol\", ascending=False)"
   ]
  },
  {
   "cell_type": "markdown",
   "metadata": {},
   "source": [
    "## Mean volume"
   ]
  },
  {
   "cell_type": "code",
   "execution_count": null,
   "metadata": {
    "ExecuteTime": {
     "end_time": "2019-10-10T19:40:52.867157Z",
     "start_time": "2019-10-10T19:40:45.188Z"
    }
   },
   "outputs": [],
   "source": [
    "mean_vol = lau.get_mean_daily_volume(daily_price_dict_df)\n",
    "mean_vol.sort_values(\"mean_vol\", ascending=False)"
   ]
  },
  {
   "cell_type": "markdown",
   "metadata": {},
   "source": [
    "# Study volume"
   ]
  },
  {
   "cell_type": "code",
   "execution_count": null,
   "metadata": {
    "ExecuteTime": {
     "end_time": "2019-10-10T19:40:52.868264Z",
     "start_time": "2019-10-10T19:40:45.194Z"
    }
   },
   "outputs": [],
   "source": [
    "symbol = \"CL\""
   ]
  },
  {
   "cell_type": "code",
   "execution_count": null,
   "metadata": {
    "ExecuteTime": {
     "end_time": "2019-10-10T19:40:52.869416Z",
     "start_time": "2019-10-10T19:40:45.201Z"
    }
   },
   "outputs": [],
   "source": [
    "vs = lau.VolumeStudy(symbol, n_rows=None)"
   ]
  },
  {
   "cell_type": "code",
   "execution_count": null,
   "metadata": {
    "ExecuteTime": {
     "end_time": "2019-10-10T19:40:52.870738Z",
     "start_time": "2019-10-10T19:40:45.207Z"
    },
    "scrolled": false
   },
   "outputs": [],
   "source": [
    "vs.execute()"
   ]
  },
  {
   "cell_type": "markdown",
   "metadata": {},
   "source": [
    "## How is the volume related to the open interest from the metadata?"
   ]
  },
  {
   "cell_type": "code",
   "execution_count": null,
   "metadata": {
    "ExecuteTime": {
     "end_time": "2019-10-10T19:40:52.871856Z",
     "start_time": "2019-10-10T19:40:45.211Z"
    }
   },
   "outputs": [],
   "source": [
    "product_specs.head()"
   ]
  },
  {
   "cell_type": "code",
   "execution_count": null,
   "metadata": {
    "ExecuteTime": {
     "end_time": "2019-10-10T19:40:52.873778Z",
     "start_time": "2019-10-10T19:40:45.217Z"
    }
   },
   "outputs": [],
   "source": [
    "product_specs[product_specs[\"Globex\"] == symbol][\"Open Interest\"].values"
   ]
  },
  {
   "cell_type": "code",
   "execution_count": null,
   "metadata": {
    "ExecuteTime": {
     "end_time": "2019-10-10T19:40:52.875446Z",
     "start_time": "2019-10-10T19:40:45.221Z"
    }
   },
   "outputs": [],
   "source": [
    "product_specs[product_specs[\"Globex\"] == symbol][\"Volume\"].values"
   ]
  },
  {
   "cell_type": "code",
   "execution_count": null,
   "metadata": {
    "ExecuteTime": {
     "end_time": "2019-10-10T19:40:52.876892Z",
     "start_time": "2019-10-10T19:40:45.224Z"
    }
   },
   "outputs": [],
   "source": [
    "vs.daily_prices[\"vol\"].max()"
   ]
  },
  {
   "cell_type": "code",
   "execution_count": null,
   "metadata": {
    "ExecuteTime": {
     "end_time": "2019-10-10T19:40:52.878098Z",
     "start_time": "2019-10-10T19:40:45.229Z"
    }
   },
   "outputs": [],
   "source": [
    "vs.minutely_prices[\"vol\"].max()"
   ]
  },
  {
   "cell_type": "markdown",
   "metadata": {},
   "source": [
    "# CME mapping"
   ]
  },
  {
   "cell_type": "markdown",
   "metadata": {},
   "source": [
    "## Groups overview"
   ]
  },
  {
   "cell_type": "code",
   "execution_count": null,
   "metadata": {
    "ExecuteTime": {
     "end_time": "2019-10-10T19:40:52.879705Z",
     "start_time": "2019-10-10T19:40:45.260Z"
    }
   },
   "outputs": [],
   "source": [
    "pc = lau.ProductSpecs()"
   ]
  },
  {
   "cell_type": "code",
   "execution_count": null,
   "metadata": {
    "ExecuteTime": {
     "end_time": "2019-10-10T19:40:52.881375Z",
     "start_time": "2019-10-10T19:40:45.264Z"
    }
   },
   "outputs": [],
   "source": [
    "pc.product_specs.info()"
   ]
  },
  {
   "cell_type": "code",
   "execution_count": null,
   "metadata": {
    "ExecuteTime": {
     "end_time": "2019-10-10T19:40:52.882881Z",
     "start_time": "2019-10-10T19:40:45.269Z"
    }
   },
   "outputs": [],
   "source": [
    "pc.product_specs[\"Product Group\"].value_counts().plot(kind=\"bar\", rot=0)\n",
    "plt.title(\"Number of futures for each product group in CME\")\n",
    "plt.show()"
   ]
  },
  {
   "cell_type": "code",
   "execution_count": null,
   "metadata": {
    "ExecuteTime": {
     "end_time": "2019-10-10T19:40:52.884833Z",
     "start_time": "2019-10-10T19:40:45.273Z"
    }
   },
   "outputs": [],
   "source": [
    "pc.product_specs[\"Sub Group\"].value_counts().plot(kind=\"bar\")\n",
    "plt.xticks(ha=\"right\", rotation=30, rotation_mode=\"anchor\")\n",
    "plt.title(\"Number of futures for each sub group in CME\")\n",
    "plt.show()"
   ]
  },
  {
   "cell_type": "code",
   "execution_count": null,
   "metadata": {
    "ExecuteTime": {
     "end_time": "2019-10-10T19:40:52.886932Z",
     "start_time": "2019-10-10T19:40:45.277Z"
    }
   },
   "outputs": [],
   "source": [
    "pc.product_specs[\"Category\"].astype(str).value_counts()"
   ]
  },
  {
   "cell_type": "code",
   "execution_count": null,
   "metadata": {
    "ExecuteTime": {
     "end_time": "2019-10-10T19:40:52.890959Z",
     "start_time": "2019-10-10T19:40:45.280Z"
    }
   },
   "outputs": [],
   "source": [
    "pc.product_specs[\"Sub Category\"].astype(str).value_counts()"
   ]
  },
  {
   "cell_type": "markdown",
   "metadata": {},
   "source": [
    "## By symbol"
   ]
  },
  {
   "cell_type": "code",
   "execution_count": null,
   "metadata": {
    "ExecuteTime": {
     "end_time": "2019-10-10T19:40:52.892558Z",
     "start_time": "2019-10-10T19:40:45.283Z"
    }
   },
   "outputs": [],
   "source": [
    "pc.get_metadata_symbol(symbol)"
   ]
  },
  {
   "cell_type": "code",
   "execution_count": null,
   "metadata": {
    "ExecuteTime": {
     "end_time": "2019-10-10T19:40:52.894547Z",
     "start_time": "2019-10-10T19:40:45.286Z"
    }
   },
   "outputs": [],
   "source": [
    "pc.get_product_group(symbol)"
   ]
  },
  {
   "cell_type": "code",
   "execution_count": null,
   "metadata": {
    "ExecuteTime": {
     "end_time": "2019-10-10T19:40:52.896003Z",
     "start_time": "2019-10-10T19:40:45.296Z"
    }
   },
   "outputs": [],
   "source": [
    "pc.get_trading_hours(symbol)"
   ]
  },
  {
   "cell_type": "markdown",
   "metadata": {},
   "source": [
    "## For product group"
   ]
  },
  {
   "cell_type": "code",
   "execution_count": null,
   "metadata": {
    "ExecuteTime": {
     "end_time": "2019-10-10T19:40:52.897235Z",
     "start_time": "2019-10-10T19:40:45.306Z"
    }
   },
   "outputs": [],
   "source": [
    "energy_symbols = pc.get_symbols_product_group(\"Energy\")\n",
    "energy_symbols[:4]"
   ]
  },
  {
   "cell_type": "code",
   "execution_count": null,
   "metadata": {
    "ExecuteTime": {
     "end_time": "2019-10-10T19:40:52.899322Z",
     "start_time": "2019-10-10T19:40:45.310Z"
    }
   },
   "outputs": [],
   "source": [
    "np.intersect1d(energy_symbols, daily_futures)"
   ]
  },
  {
   "cell_type": "code",
   "execution_count": null,
   "metadata": {
    "ExecuteTime": {
     "end_time": "2019-10-10T19:40:52.900758Z",
     "start_time": "2019-10-10T19:40:45.316Z"
    }
   },
   "outputs": [],
   "source": [
    "np.intersect1d(energy_symbols, daily_futures).shape"
   ]
  },
  {
   "cell_type": "code",
   "execution_count": null,
   "metadata": {},
   "outputs": [],
   "source": []
  }
 ],
 "metadata": {
  "jupytext": {
   "formats": "ipynb,py:percent"
  },
  "kernelspec": {
   "display_name": "Python [conda env:.conda-p1_develop] *",
   "language": "python",
   "name": "conda-env-.conda-p1_develop-py"
  },
  "language_info": {
   "codemirror_mode": {
    "name": "ipython",
    "version": 3
   },
   "file_extension": ".py",
   "mimetype": "text/x-python",
   "name": "python",
   "nbconvert_exporter": "python",
   "pygments_lexer": "ipython3",
   "version": "3.6.7"
  },
  "toc": {
   "base_numbering": 1,
   "nav_menu": {},
   "number_sections": true,
   "sideBar": true,
   "skip_h1_title": false,
   "title_cell": "Table of Contents",
   "title_sidebar": "Contents",
   "toc_cell": false,
   "toc_position": {
    "height": "calc(100% - 180px)",
    "left": "10px",
    "top": "150px",
    "width": "236.016px"
   },
   "toc_section_display": true,
   "toc_window_display": true
  }
 },
 "nbformat": 4,
 "nbformat_minor": 2
}
