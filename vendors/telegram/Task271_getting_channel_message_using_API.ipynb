{
 "cells": [
  {
   "cell_type": "code",
   "execution_count": 5,
   "metadata": {},
   "outputs": [
    {
     "name": "stdout",
     "output_type": "stream",
     "text": [
      "The autoreload extension is already loaded. To reload it, use:\n",
      "  %reload_ext autoreload\n"
     ]
    }
   ],
   "source": [
    "from telethon import TelegramClient, events, sync\n",
    "from pprint import pprint\n",
    "import asyncio\n",
    "import json\n",
    "import datetime\n",
    "from tqdm import tqdm\n",
    "import os\n",
    "import logging\n",
    "import pandas as pd\n",
    "\n",
    "%load_ext autoreload\n",
    "%autoreload 2\n"
   ]
  },
  {
   "cell_type": "code",
   "execution_count": 10,
   "metadata": {},
   "outputs": [],
   "source": [
    "from oil.utils.tg_utils import messages_to_json \n"
   ]
  },
  {
   "cell_type": "code",
   "execution_count": 22,
   "metadata": {},
   "outputs": [],
   "source": [
    "_log = logging.getLogger()\n",
    "_log.setLevel(logging.INFO)"
   ]
  },
  {
   "cell_type": "code",
   "execution_count": 12,
   "metadata": {},
   "outputs": [],
   "source": [
    "import telethon\n",
    "from telethon.sync import TelegramClient, events"
   ]
  },
  {
   "cell_type": "code",
   "execution_count": 13,
   "metadata": {},
   "outputs": [
    {
     "data": {
      "text/plain": [
       "'1.10.3'"
      ]
     },
     "execution_count": 13,
     "metadata": {},
     "output_type": "execute_result"
    }
   ],
   "source": [
    "telethon.__version__"
   ]
  },
  {
   "cell_type": "code",
   "execution_count": 14,
   "metadata": {},
   "outputs": [],
   "source": [
    "# These example values won't work. You must get your own api_id and\n",
    "# api_hash from https://my.telegram.org, under API Development.\n",
    "api_id = 942018\n",
    "\n",
    "api_hash = '76c4ca09e06b137d3b73b209a9509790'\n",
    "channel_link = 'https://t.me/markettwits'"
   ]
  },
  {
   "cell_type": "code",
   "execution_count": 15,
   "metadata": {},
   "outputs": [],
   "source": [
    "client = TelegramClient('name14', api_id, api_hash)"
   ]
  },
  {
   "cell_type": "code",
   "execution_count": 16,
   "metadata": {},
   "outputs": [
    {
     "data": {
      "text/plain": [
       "<telethon.client.telegramclient.TelegramClient at 0x7fbad373df60>"
      ]
     },
     "execution_count": 16,
     "metadata": {},
     "output_type": "execute_result"
    }
   ],
   "source": [
    "await client.start()"
   ]
  },
  {
   "cell_type": "code",
   "execution_count": 17,
   "metadata": {},
   "outputs": [],
   "source": [
    "await client.connect()"
   ]
  },
  {
   "cell_type": "code",
   "execution_count": 18,
   "metadata": {},
   "outputs": [
    {
     "data": {
      "text/plain": [
       "<telethon.tl.types.Channel at 0x7fbad36fe588>"
      ]
     },
     "execution_count": 18,
     "metadata": {},
     "output_type": "execute_result"
    }
   ],
   "source": [
    "await client.get_entity(channel_link)"
   ]
  },
  {
   "cell_type": "code",
   "execution_count": 12,
   "metadata": {},
   "outputs": [],
   "source": [
    "entity = await client.get_input_entity(channel_link)"
   ]
  },
  {
   "cell_type": "code",
   "execution_count": 13,
   "metadata": {},
   "outputs": [
    {
     "name": "stdout",
     "output_type": "stream",
     "text": [
      "1203560567\n"
     ]
    }
   ],
   "source": [
    "print(entity.channel_id)"
   ]
  },
  {
   "cell_type": "markdown",
   "metadata": {},
   "source": [
    "# finkrolik"
   ]
  },
  {
   "cell_type": "code",
   "execution_count": 193,
   "metadata": {},
   "outputs": [],
   "source": [
    "channel_link = 'https://t.me/finkrolik'\n",
    "await messages_to_json( channel_link, '/data/telegram/test', client)"
   ]
  },
  {
   "cell_type": "markdown",
   "metadata": {},
   "source": [
    "# markettwits"
   ]
  },
  {
   "cell_type": "code",
   "execution_count": null,
   "metadata": {},
   "outputs": [],
   "source": [
    "channel_link = 'https://t.me/markettwits'\n",
    "await messages_to_json( channel_link, '/data/telegram/test', client)"
   ]
  },
  {
   "cell_type": "markdown",
   "metadata": {},
   "source": [
    "# russianmacro "
   ]
  },
  {
   "cell_type": "code",
   "execution_count": 36,
   "metadata": {},
   "outputs": [],
   "source": [
    "channel_link = 'https://t.me/russianmacro'\n",
    "await messages_to_json( channel_link, '/data/telegram/test', client)"
   ]
  },
  {
   "cell_type": "markdown",
   "metadata": {},
   "source": [
    "# download Max list of channels"
   ]
  },
  {
   "cell_type": "code",
   "execution_count": 29,
   "metadata": {},
   "outputs": [],
   "source": [
    "# except 'https://t.me/markettwits', 'https://t.me/finkrolik'\n",
    "Max_list = ['https://t.me/rationalnumbers',\n",
    " 'https://t.me/MarketOverview',\n",
    " 'https://t.me/societe_financiers',\n",
    " 'https://t.me/newBablishko',\n",
    " 'https://t.me/trehlitrovayabanka',\n",
    " 'https://t.me/avenuenews',\n",
    " 'https://t.me/dohod',\n",
    " 'https://t.me/finside',\n",
    " 'https://t.me/VipCoinexhangePump',\n",
    " 'https://t.me/lemonfortea',\n",
    " 'https://t.me/fondu_10',\n",
    " 'https://t.me/smfanton',\n",
    " 'https://t.me/rothschild_son',\n",
    " 'https://t.me/finpol',\n",
    " 'https://t.me/FINASCOP',\n",
    " 'https://t.me/Bablopobezhdaetzlo',\n",
    " 'https://t.me/rbc_news',\n",
    " 'https://t.me/blablanomika',\n",
    " 'https://t.me/KotElviry',\n",
    " 'https://t.me/accwhisper',\n",
    " 'https://t.me/angrybonds',\n",
    " 'https://t.me/Go_Investing',\n",
    " 'https://t.me/tele_most_money',\n",
    " 'https://t.me/LHfinance',\n",
    " 'https://t.me/BizLike',\n",
    " 'https://t.me/probonds',\n",
    " 'https://t.me/gazmyaso',\n",
    " 'https://t.me/finance_global',\n",
    " 'https://t.me/DMTraders',\n",
    " 'https://t.me/safe_money',\n",
    " 'https://t.me/themovchans',\n",
    " 'https://t.me/riskovik',\n",
    " 'https://t.me/zloyinvestor',\n",
    " 'https://t.me/divonline']"
   ]
  },
  {
   "cell_type": "code",
   "execution_count": 28,
   "metadata": {},
   "outputs": [],
   "source": []
  },
  {
   "cell_type": "code",
   "execution_count": null,
   "metadata": {},
   "outputs": [],
   "source": [
    " for link in Max_list:\n",
    "    await messages_to_json(link, '/data/telegram/test', client)"
   ]
  },
  {
   "cell_type": "code",
   "execution_count": null,
   "metadata": {},
   "outputs": [],
   "source": [
    "os.listdir('/data/telegram/test')"
   ]
  },
  {
   "cell_type": "code",
   "execution_count": null,
   "metadata": {},
   "outputs": [],
   "source": []
  }
 ],
 "metadata": {
  "jupytext": {
   "text_representation": {
    "extension": ".py",
    "format_name": "percent",
    "format_version": "1.2",
    "jupytext_version": "1.2.3"
   }
  },
  "kernelspec": {
   "display_name": "Python 3",
   "language": "python",
   "name": "python3"
  },
  "language_info": {
   "codemirror_mode": {
    "name": "ipython",
    "version": 3
   },
   "file_extension": ".py",
   "mimetype": "text/x-python",
   "name": "python",
   "nbconvert_exporter": "python",
   "pygments_lexer": "ipython3",
   "version": "3.6.8"
  },
  "toc": {
   "base_numbering": 1,
   "nav_menu": {},
   "number_sections": true,
   "sideBar": true,
   "skip_h1_title": false,
   "title_cell": "Table of Contents",
   "title_sidebar": "Contents",
   "toc_cell": false,
   "toc_position": {},
   "toc_section_display": true,
   "toc_window_display": false
  },
  "varInspector": {
   "cols": {
    "lenName": 16,
    "lenType": 16,
    "lenVar": 40
   },
   "kernels_config": {
    "python": {
     "delete_cmd_postfix": "",
     "delete_cmd_prefix": "del ",
     "library": "var_list.py",
     "varRefreshCmd": "print(var_dic_list())"
    },
    "r": {
     "delete_cmd_postfix": ") ",
     "delete_cmd_prefix": "rm(",
     "library": "var_list.r",
     "varRefreshCmd": "cat(var_dic_list()) "
    }
   },
   "types_to_exclude": [
    "module",
    "function",
    "builtin_function_or_method",
    "instance",
    "_Feature"
   ],
   "window_display": false
  }
 },
 "nbformat": 4,
 "nbformat_minor": 2
}
