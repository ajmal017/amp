{
 "cells": [
  {
   "cell_type": "code",
   "execution_count": 1,
   "metadata": {},
   "outputs": [
    {
     "name": "stdout",
     "output_type": "stream",
     "text": [
      "Collecting weibopy\n",
      "  Downloading https://files.pythonhosted.org/packages/fa/4e/43ec3b51d53c5a5f62d8010e672bce2555ba5ae72bc93f6eb1a05e43b5bd/weibopy-0.1.2.tar.gz\n",
      "Collecting requests>=2.18.1 (from weibopy)\n",
      "  Using cached https://files.pythonhosted.org/packages/51/bd/23c926cd341ea6b7dd0b2a00aba99ae0f828be89d72b2190f27c11d4b7fb/requests-2.22.0-py2.py3-none-any.whl\n",
      "Collecting urllib3!=1.25.0,!=1.25.1,<1.26,>=1.21.1 (from requests>=2.18.1->weibopy)\n",
      "\u001b[33m  Cache entry deserialization failed, entry ignored\u001b[0m\n",
      "\u001b[33m  Cache entry deserialization failed, entry ignored\u001b[0m\n",
      "  Downloading https://files.pythonhosted.org/packages/e0/da/55f51ea951e1b7c63a579c09dd7db825bb730ec1fe9c0180fc77bfb31448/urllib3-1.25.6-py2.py3-none-any.whl (125kB)\n",
      "\u001b[K    100% |████████████████████████████████| 133kB 5.2MB/s eta 0:00:01\n",
      "\u001b[?25hCollecting chardet<3.1.0,>=3.0.2 (from requests>=2.18.1->weibopy)\n",
      "\u001b[33m  Cache entry deserialization failed, entry ignored\u001b[0m\n",
      "  Using cached https://files.pythonhosted.org/packages/bc/a9/01ffebfb562e4274b6487b4bb1ddec7ca55ec7510b22e4c51f14098443b8/chardet-3.0.4-py2.py3-none-any.whl\n",
      "Collecting idna<2.9,>=2.5 (from requests>=2.18.1->weibopy)\n",
      "\u001b[33m  Cache entry deserialization failed, entry ignored\u001b[0m\n",
      "  Using cached https://files.pythonhosted.org/packages/14/2c/cd551d81dbe15200be1cf41cd03869a46fe7226e7450af7a6545bfc474c9/idna-2.8-py2.py3-none-any.whl\n",
      "Collecting certifi>=2017.4.17 (from requests>=2.18.1->weibopy)\n",
      "\u001b[33m  Cache entry deserialization failed, entry ignored\u001b[0m\n",
      "  Downloading https://files.pythonhosted.org/packages/18/b0/8146a4f8dd402f60744fa380bc73ca47303cccf8b9190fd16a827281eac2/certifi-2019.9.11-py2.py3-none-any.whl (154kB)\n",
      "\u001b[K    100% |████████████████████████████████| 163kB 6.4MB/s eta 0:00:01\n",
      "\u001b[?25hBuilding wheels for collected packages: weibopy\n",
      "  Running setup.py bdist_wheel for weibopy ... \u001b[?25ldone\n",
      "\u001b[?25h  Stored in directory: /home/stas/.cache/pip/wheels/24/20/fd/f0382c3dca52a00cda6da8f61a6ed4096dd75c95a9fa104c55\n",
      "Successfully built weibopy\n",
      "Installing collected packages: urllib3, chardet, idna, certifi, requests, weibopy\n",
      "Successfully installed certifi-2019.9.11 chardet-3.0.4 idna-2.8 requests-2.22.0 urllib3-1.25.6 weibopy-0.1.2\n"
     ]
    }
   ],
   "source": [
    "!pip3 install weibopy"
   ]
  },
  {
   "cell_type": "code",
   "execution_count": 1,
   "metadata": {},
   "outputs": [],
   "source": [
    "from weibopy import WeiboOauth2\n",
    "import requests"
   ]
  },
  {
   "cell_type": "code",
   "execution_count": null,
   "metadata": {},
   "outputs": [],
   "source": [
    "client_id=\"2981457007\"\n",
    "client_secret=\"408ef50e5bbd44bb982e28e84f2ac4b6\"\n",
    "redirect_url=\"https://api.weibo.com/oauth2/default.html\""
   ]
  },
  {
   "cell_type": "markdown",
   "metadata": {},
   "source": [
    "# step 1: getting code\n",
    "https://open.weibo.com/wiki/Oauth2/authorize/en"
   ]
  },
  {
   "cell_type": "markdown",
   "metadata": {},
   "source": [
    "## weibopy lib"
   ]
  },
  {
   "cell_type": "code",
   "execution_count": 2,
   "metadata": {},
   "outputs": [],
   "source": [
    "client = WeiboOauth2(client_id,client_secret,redirect_url)"
   ]
  },
  {
   "cell_type": "code",
   "execution_count": 3,
   "metadata": {},
   "outputs": [
    {
     "name": "stdout",
     "output_type": "stream",
     "text": [
      "https://api.weibo.com/oauth2/authorize?client_id=2981457007&redirect_uri=https%3A%2F%2Fapi.weibo.com%2Foauth2%2Fdefault.html\n"
     ]
    }
   ],
   "source": [
    "print(client.authorize_url)"
   ]
  },
  {
   "cell_type": "markdown",
   "metadata": {},
   "source": [
    "## requests lib"
   ]
  },
  {
   "cell_type": "code",
   "execution_count": 7,
   "metadata": {},
   "outputs": [],
   "source": [
    "response = requests.get('Https://api.weibo.com/oauth2/authorize' +\n",
    "                         '?client_id=' + client_id + \n",
    "                         '&redirect_url=' + redirect_url +\n",
    "                         '&response_type=code')"
   ]
  },
  {
   "cell_type": "code",
   "execution_count": 8,
   "metadata": {},
   "outputs": [
    {
     "data": {
      "text/plain": [
       "'https://api.weibo.com/oauth2/authorize?client_id=2981457007&redirect_url=https://api.weibo.com/oauth2/default.html&response_type=code'"
      ]
     },
     "execution_count": 8,
     "metadata": {},
     "output_type": "execute_result"
    }
   ],
   "source": [
    "response.url"
   ]
  },
  {
   "cell_type": "code",
   "execution_count": 9,
   "metadata": {},
   "outputs": [
    {
     "name": "stdout",
     "output_type": "stream",
     "text": [
      "<!DOCTYPE html PUBLIC \"-//W3C//DTD XHTML 1.0 Transitional//EN\" \"http://www.w3.org/TR/xhtml1/DTD/xhtml1-transitional.dtd\">\n",
      "<html xmlns=\"http://www.w3.org/1999/xhtml\">\n",
      "<head>\n",
      "    <meta http-equiv=\"Content-Type\" content=\"text/html; charset=utf-8\"/>\n",
      "    <title>第三方授权错误</title>\n",
      "    <link type=\"text/css\" href=\"/oauth2/css/oauth/oauth_web.css\" rel=\"stylesheet\"/>\n",
      "</head>\n",
      "<body class=\"WB_widgets\">\n",
      "<!-- 内容区 -->\n",
      "<div class=\"oauth_wrap\">\n",
      "    <div class=\"oauth_header clearfix\">\n",
      "        <h1 class=\"WB_logo\" title=\"微博\">微博</h1>\n",
      "        <p class=\"login_account\"></p>\n",
      "    </div>\n",
      "    <!-- 无头像  -->\n",
      "    <div class=\"WB_panel oauth_main\">\n",
      "        <div class=\"oauth_error\">\n",
      "            <div class=\"oauth_error_content clearfix\"><span class=\"oauth_error_icon WB_tipB_err\"></span>\n",
      "                <dl class=\"error_content\">\n",
      "                    <dt>用微博帐号登录出错了！</dt>\n",
      "                    <dd>对第三方应用进行授权时出现错误，请您联系第三方应用的开发者：\n",
      "                        <a href=\"https://weibo.com/7311255442\"\n",
      "                           target=\"_blank\">crawlingninja</a>或者稍后再试。<br/>\n",
      "                    </dd>\n",
      "                    <dt>错误码：21323</dt>\n",
      "                    <dt>请求不合法</dt>\n",
      "                    </dl>\n",
      "            </div>\n",
      "            <div class=\"oauth_copyright\"><a href=\"#\">微博</a>版权所有</div>\n",
      "        </div>\n",
      "\n",
      "    </div>\n",
      "</div>\n",
      "</body>\n",
      "</html>\n"
     ]
    }
   ],
   "source": [
    "print(response.text)"
   ]
  },
  {
   "cell_type": "markdown",
   "metadata": {},
   "source": [
    "# step 2: getting access token\n",
    "https://open.weibo.com/wiki/2/oauth2/access_token/en"
   ]
  },
  {
   "cell_type": "code",
   "execution_count": 130,
   "metadata": {},
   "outputs": [],
   "source": [
    "api_auth2 = requests.get('https://api.weibo.com/oauth2/authorize' + \n",
    "                         '?client_id=' + client_id + \n",
    "                         '?grant_type=' + 'authorization_code' + \n",
    "                         '?redirect_url=' + redirect_url + \n",
    "                         '?code=' = ) #code from step 1 should be inserted here"
   ]
  }
 ],
 "metadata": {
  "kernelspec": {
   "display_name": "Python 3",
   "language": "python",
   "name": "python3"
  },
  "language_info": {
   "codemirror_mode": {
    "name": "ipython",
    "version": 3
   },
   "file_extension": ".py",
   "mimetype": "text/x-python",
   "name": "python",
   "nbconvert_exporter": "python",
   "pygments_lexer": "ipython3",
   "version": "3.6.8"
  },
  "toc": {
   "base_numbering": 1,
   "nav_menu": {},
   "number_sections": true,
   "sideBar": true,
   "skip_h1_title": false,
   "title_cell": "Table of Contents",
   "title_sidebar": "Contents",
   "toc_cell": false,
   "toc_position": {},
   "toc_section_display": true,
   "toc_window_display": false
  },
  "varInspector": {
   "cols": {
    "lenName": 16,
    "lenType": 16,
    "lenVar": 40
   },
   "kernels_config": {
    "python": {
     "delete_cmd_postfix": "",
     "delete_cmd_prefix": "del ",
     "library": "var_list.py",
     "varRefreshCmd": "print(var_dic_list())"
    },
    "r": {
     "delete_cmd_postfix": ") ",
     "delete_cmd_prefix": "rm(",
     "library": "var_list.r",
     "varRefreshCmd": "cat(var_dic_list()) "
    }
   },
   "types_to_exclude": [
    "module",
    "function",
    "builtin_function_or_method",
    "instance",
    "_Feature"
   ],
   "window_display": false
  }
 },
 "nbformat": 4,
 "nbformat_minor": 2
}
