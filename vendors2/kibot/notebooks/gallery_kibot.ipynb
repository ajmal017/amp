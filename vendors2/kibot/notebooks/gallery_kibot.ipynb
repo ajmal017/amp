{
 "cells": [
  {
   "cell_type": "code",
   "execution_count": 25,
   "metadata": {
    "ExecuteTime": {
     "end_time": "2021-01-28T15:04:34.604801Z",
     "start_time": "2021-01-28T15:04:34.601849Z"
    }
   },
   "outputs": [],
   "source": [
    "import pandas as pd\n",
    "\n",
    "import vendors2.kibot.data.load.futures_forward_contracts as ffc\n",
    "import vendors2.kibot.metadata.load.kibot_metadata as kmd\n",
    "import vendors2.kibot.metadata.load.expiry_contract_mapper as ecm\n",
    "import vendors2.kibot.data.load.s3_data_loader as vkdls3"
   ]
  },
  {
   "cell_type": "code",
   "execution_count": 2,
   "metadata": {
    "ExecuteTime": {
     "end_time": "2021-01-28T14:58:32.588290Z",
     "start_time": "2021-01-28T14:58:32.579759Z"
    }
   },
   "outputs": [
    {
     "data": {
      "text/plain": [
       "ContractLifetime(start_date=Timestamp('2016-03-22 00:00:00'), end_date=Timestamp('2017-03-15 00:00:00'))"
      ]
     },
     "execution_count": 2,
     "metadata": {},
     "output_type": "execute_result"
    }
   ],
   "source": [
    "lfc_hc = kmd.KibotHardcodedContractLifetimeComputer(365, 7)\n",
    "\n",
    "lfc_hc.compute_lifetime(\"CLJ17\")"
   ]
  },
  {
   "cell_type": "code",
   "execution_count": 3,
   "metadata": {
    "ExecuteTime": {
     "end_time": "2021-01-28T14:58:40.689547Z",
     "start_time": "2021-01-28T14:58:40.675100Z"
    }
   },
   "outputs": [
    {
     "data": {
      "text/plain": [
       "ContractLifetime(start_date=Timestamp('2011-11-18 00:00:00'), end_date=Timestamp('2017-03-21 00:00:00'))"
      ]
     },
     "execution_count": 3,
     "metadata": {},
     "output_type": "execute_result"
    }
   ],
   "source": [
    "lfc_ta = kmd.KibotTradingActivityContractLifetimeComputer()\n",
    "\n",
    "lfc_ta.compute_lifetime(\"CLJ17\")"
   ]
  },
  {
   "cell_type": "code",
   "execution_count": null,
   "metadata": {},
   "outputs": [],
   "source": [
    "##"
   ]
  },
  {
   "cell_type": "code",
   "execution_count": 7,
   "metadata": {
    "ExecuteTime": {
     "end_time": "2021-01-28T15:00:52.471948Z",
     "start_time": "2021-01-28T15:00:52.469455Z"
    }
   },
   "outputs": [],
   "source": [
    "symbols = [\"ES\", \"CL\"]\n",
    "file = \"../contracts.csv\"\n",
    "\n",
    "\n",
    "fcl = kmd.FuturesContractLifetimes(file, lfc_hc)"
   ]
  },
  {
   "cell_type": "code",
   "execution_count": 8,
   "metadata": {
    "ExecuteTime": {
     "end_time": "2021-01-28T15:00:59.675857Z",
     "start_time": "2021-01-28T15:00:52.880112Z"
    }
   },
   "outputs": [
    {
     "data": {
      "application/vnd.jupyter.widget-view+json": {
       "model_id": "6a8868e9e2a043bf86b8bbf87aef7968",
       "version_major": 2,
       "version_minor": 0
      },
      "text/plain": [
       "HBox(children=(HTML(value=''), FloatProgress(value=0.0, max=1.0), HTML(value='')))"
      ]
     },
     "metadata": {},
     "output_type": "display_data"
    },
    {
     "name": "stdout",
     "output_type": "stream",
     "text": [
      "\n"
     ]
    }
   ],
   "source": [
    "fcl.save([\"CL\"])"
   ]
  },
  {
   "cell_type": "code",
   "execution_count": 9,
   "metadata": {
    "ExecuteTime": {
     "end_time": "2021-01-28T15:01:00.236132Z",
     "start_time": "2021-01-28T15:01:00.230321Z"
    }
   },
   "outputs": [],
   "source": [
    "cl_data = fcl.load([\"CL\"])"
   ]
  },
  {
   "cell_type": "code",
   "execution_count": 11,
   "metadata": {
    "ExecuteTime": {
     "end_time": "2021-01-28T15:01:08.496010Z",
     "start_time": "2021-01-28T15:01:08.487853Z"
    }
   },
   "outputs": [
    {
     "data": {
      "text/html": [
       "<div>\n",
       "<style scoped>\n",
       "    .dataframe tbody tr th:only-of-type {\n",
       "        vertical-align: middle;\n",
       "    }\n",
       "\n",
       "    .dataframe tbody tr th {\n",
       "        vertical-align: top;\n",
       "    }\n",
       "\n",
       "    .dataframe thead th {\n",
       "        text-align: right;\n",
       "    }\n",
       "</style>\n",
       "<table border=\"1\" class=\"dataframe\">\n",
       "  <thead>\n",
       "    <tr style=\"text-align: right;\">\n",
       "      <th></th>\n",
       "      <th>symbol</th>\n",
       "      <th>contract</th>\n",
       "      <th>start_date</th>\n",
       "      <th>end_date</th>\n",
       "    </tr>\n",
       "  </thead>\n",
       "  <tbody>\n",
       "    <tr>\n",
       "      <th>0</th>\n",
       "      <td>CL</td>\n",
       "      <td>CLX09</td>\n",
       "      <td>2008-10-21</td>\n",
       "      <td>2009-10-14</td>\n",
       "    </tr>\n",
       "    <tr>\n",
       "      <th>1</th>\n",
       "      <td>CL</td>\n",
       "      <td>CLZ09</td>\n",
       "      <td>2008-11-20</td>\n",
       "      <td>2009-11-13</td>\n",
       "    </tr>\n",
       "    <tr>\n",
       "      <th>2</th>\n",
       "      <td>CL</td>\n",
       "      <td>CLF10</td>\n",
       "      <td>2008-12-22</td>\n",
       "      <td>2009-12-15</td>\n",
       "    </tr>\n",
       "    <tr>\n",
       "      <th>3</th>\n",
       "      <td>CL</td>\n",
       "      <td>CLG10</td>\n",
       "      <td>2009-01-20</td>\n",
       "      <td>2010-01-13</td>\n",
       "    </tr>\n",
       "    <tr>\n",
       "      <th>4</th>\n",
       "      <td>CL</td>\n",
       "      <td>CLH10</td>\n",
       "      <td>2009-02-22</td>\n",
       "      <td>2010-02-15</td>\n",
       "    </tr>\n",
       "  </tbody>\n",
       "</table>\n",
       "</div>"
      ],
      "text/plain": [
       "  symbol contract start_date   end_date\n",
       "0     CL    CLX09 2008-10-21 2009-10-14\n",
       "1     CL    CLZ09 2008-11-20 2009-11-13\n",
       "2     CL    CLF10 2008-12-22 2009-12-15\n",
       "3     CL    CLG10 2009-01-20 2010-01-13\n",
       "4     CL    CLH10 2009-02-22 2010-02-15"
      ]
     },
     "execution_count": 11,
     "metadata": {},
     "output_type": "execute_result"
    }
   ],
   "source": [
    "cl_data[\"CL\"].head()"
   ]
  },
  {
   "cell_type": "code",
   "execution_count": null,
   "metadata": {},
   "outputs": [],
   "source": []
  },
  {
   "cell_type": "code",
   "execution_count": 14,
   "metadata": {
    "ExecuteTime": {
     "end_time": "2021-01-28T15:02:15.281779Z",
     "start_time": "2021-01-28T15:02:15.279454Z"
    }
   },
   "outputs": [],
   "source": [
    "fcem = kmd.FuturesContractExpiryMapper(cl_data)"
   ]
  },
  {
   "cell_type": "code",
   "execution_count": 15,
   "metadata": {
    "ExecuteTime": {
     "end_time": "2021-01-28T15:02:15.762022Z",
     "start_time": "2021-01-28T15:02:15.757702Z"
    }
   },
   "outputs": [
    {
     "data": {
      "text/plain": [
       "'CLG10'"
      ]
     },
     "execution_count": 15,
     "metadata": {},
     "output_type": "execute_result"
    }
   ],
   "source": [
    "fcem.get_nth_contract(\"CL\", \"2010-01-01\", 1)"
   ]
  },
  {
   "cell_type": "code",
   "execution_count": 33,
   "metadata": {
    "ExecuteTime": {
     "end_time": "2021-01-28T15:05:40.793403Z",
     "start_time": "2021-01-28T15:05:40.788781Z"
    }
   },
   "outputs": [],
   "source": [
    "srs = fcem.get_nth_contracts(\"CL\", \"2010-01-10\", \"2010-01-20\", freq=\"B\", n=1)"
   ]
  },
  {
   "cell_type": "code",
   "execution_count": 34,
   "metadata": {
    "ExecuteTime": {
     "end_time": "2021-01-28T15:05:40.986943Z",
     "start_time": "2021-01-28T15:05:40.983077Z"
    }
   },
   "outputs": [
    {
     "data": {
      "text/plain": [
       "2010-01-11    CLG10\n",
       "2010-01-12    CLG10\n",
       "2010-01-13    CLG10\n",
       "2010-01-14    CLH10\n",
       "2010-01-15    CLH10\n",
       "2010-01-18    CLH10\n",
       "2010-01-19    CLH10\n",
       "2010-01-20    CLH10\n",
       "Freq: B, Name: CL1, dtype: object"
      ]
     },
     "execution_count": 34,
     "metadata": {},
     "output_type": "execute_result"
    }
   ],
   "source": [
    "srs"
   ]
  },
  {
   "cell_type": "code",
   "execution_count": 27,
   "metadata": {
    "ExecuteTime": {
     "end_time": "2021-01-28T15:04:45.095605Z",
     "start_time": "2021-01-28T15:04:45.093398Z"
    }
   },
   "outputs": [],
   "source": [
    "kdl = vkdls3.S3KibotDataLoader()"
   ]
  },
  {
   "cell_type": "code",
   "execution_count": 28,
   "metadata": {
    "ExecuteTime": {
     "end_time": "2021-01-28T15:04:53.988948Z",
     "start_time": "2021-01-28T15:04:53.986705Z"
    }
   },
   "outputs": [],
   "source": [
    "ffc_obj = ffc.FuturesForwardContracts(kdl)"
   ]
  },
  {
   "cell_type": "code",
   "execution_count": 35,
   "metadata": {
    "ExecuteTime": {
     "end_time": "2021-01-28T15:05:43.098330Z",
     "start_time": "2021-01-28T15:05:43.081912Z"
    }
   },
   "outputs": [
    {
     "data": {
      "text/html": [
       "<div>\n",
       "<style scoped>\n",
       "    .dataframe tbody tr th:only-of-type {\n",
       "        vertical-align: middle;\n",
       "    }\n",
       "\n",
       "    .dataframe tbody tr th {\n",
       "        vertical-align: top;\n",
       "    }\n",
       "\n",
       "    .dataframe thead th {\n",
       "        text-align: right;\n",
       "    }\n",
       "</style>\n",
       "<table border=\"1\" class=\"dataframe\">\n",
       "  <thead>\n",
       "    <tr style=\"text-align: right;\">\n",
       "      <th></th>\n",
       "      <th>open</th>\n",
       "      <th>high</th>\n",
       "      <th>low</th>\n",
       "      <th>close</th>\n",
       "      <th>vol</th>\n",
       "    </tr>\n",
       "  </thead>\n",
       "  <tbody>\n",
       "    <tr>\n",
       "      <th>2010-01-11</th>\n",
       "      <td>82.88</td>\n",
       "      <td>83.95</td>\n",
       "      <td>81.96</td>\n",
       "      <td>82.52</td>\n",
       "      <td>296304.0</td>\n",
       "    </tr>\n",
       "    <tr>\n",
       "      <th>2010-01-12</th>\n",
       "      <td>82.07</td>\n",
       "      <td>82.34</td>\n",
       "      <td>79.91</td>\n",
       "      <td>80.79</td>\n",
       "      <td>333866.0</td>\n",
       "    </tr>\n",
       "    <tr>\n",
       "      <th>2010-01-13</th>\n",
       "      <td>80.06</td>\n",
       "      <td>80.67</td>\n",
       "      <td>78.37</td>\n",
       "      <td>79.65</td>\n",
       "      <td>401627.0</td>\n",
       "    </tr>\n",
       "    <tr>\n",
       "      <th>2010-01-14</th>\n",
       "      <td>79.97</td>\n",
       "      <td>80.75</td>\n",
       "      <td>79.32</td>\n",
       "      <td>79.88</td>\n",
       "      <td>197449.0</td>\n",
       "    </tr>\n",
       "    <tr>\n",
       "      <th>2010-01-15</th>\n",
       "      <td>79.73</td>\n",
       "      <td>79.75</td>\n",
       "      <td>78.09</td>\n",
       "      <td>78.37</td>\n",
       "      <td>190088.0</td>\n",
       "    </tr>\n",
       "    <tr>\n",
       "      <th>2010-01-18</th>\n",
       "      <td>NaN</td>\n",
       "      <td>NaN</td>\n",
       "      <td>NaN</td>\n",
       "      <td>NaN</td>\n",
       "      <td>NaN</td>\n",
       "    </tr>\n",
       "    <tr>\n",
       "      <th>2010-01-19</th>\n",
       "      <td>78.21</td>\n",
       "      <td>79.47</td>\n",
       "      <td>77.06</td>\n",
       "      <td>79.32</td>\n",
       "      <td>351108.0</td>\n",
       "    </tr>\n",
       "    <tr>\n",
       "      <th>2010-01-20</th>\n",
       "      <td>79.17</td>\n",
       "      <td>79.36</td>\n",
       "      <td>77.13</td>\n",
       "      <td>77.74</td>\n",
       "      <td>303758.0</td>\n",
       "    </tr>\n",
       "  </tbody>\n",
       "</table>\n",
       "</div>"
      ],
      "text/plain": [
       "             open   high    low  close       vol\n",
       "2010-01-11  82.88  83.95  81.96  82.52  296304.0\n",
       "2010-01-12  82.07  82.34  79.91  80.79  333866.0\n",
       "2010-01-13  80.06  80.67  78.37  79.65  401627.0\n",
       "2010-01-14  79.97  80.75  79.32  79.88  197449.0\n",
       "2010-01-15  79.73  79.75  78.09  78.37  190088.0\n",
       "2010-01-18    NaN    NaN    NaN    NaN       NaN\n",
       "2010-01-19  78.21  79.47  77.06  79.32  351108.0\n",
       "2010-01-20  79.17  79.36  77.13  77.74  303758.0"
      ]
     },
     "execution_count": 35,
     "metadata": {},
     "output_type": "execute_result"
    }
   ],
   "source": [
    "ffc_obj._replace_contracts_with_data(srs)"
   ]
  },
  {
   "cell_type": "code",
   "execution_count": null,
   "metadata": {},
   "outputs": [],
   "source": []
  }
 ],
 "metadata": {
  "jupytext": {
   "text_representation": {
    "extension": ".py",
    "format_name": "percent",
    "format_version": "1.3",
    "jupytext_version": "1.7.1"
   }
  },
  "kernelspec": {
   "display_name": "Python 3",
   "language": "python",
   "name": "python3"
  },
  "language_info": {
   "codemirror_mode": {
    "name": "ipython",
    "version": 3
   },
   "file_extension": ".py",
   "mimetype": "text/x-python",
   "name": "python",
   "nbconvert_exporter": "python",
   "pygments_lexer": "ipython3",
   "version": "3.7.9"
  },
  "toc": {
   "base_numbering": 1,
   "nav_menu": {},
   "number_sections": true,
   "sideBar": true,
   "skip_h1_title": false,
   "title_cell": "Table of Contents",
   "title_sidebar": "Contents",
   "toc_cell": false,
   "toc_position": {},
   "toc_section_display": true,
   "toc_window_display": false
  }
 },
 "nbformat": 4,
 "nbformat_minor": 4
}
