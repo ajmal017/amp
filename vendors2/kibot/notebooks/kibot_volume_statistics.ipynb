{
 "cells": [
  {
   "cell_type": "markdown",
   "source": [
    "# Imports\n",
    "\n",
    "Importing all required modules."
   ],
   "metadata": {
    "collapsed": false
   }
  },
  {
   "cell_type": "code",
   "execution_count": 1,
   "outputs": [],
   "source": [
    "%load_ext autoreload\n",
    "%autoreload 2\n",
    "\n",
    "import os\n",
    "import datetime as dt\n",
    "from typing import Dict\n",
    "\n",
    "import pandas as pd\n",
    "\n",
    "import vendors2.kibot.data.load as kdl\n",
    "import vendors2.kibot.data.types as types\n",
    "import vendors2.kibot.data.load.file_path_generator as fpgen\n",
    "import helpers.s3 as hs3"
   ],
   "metadata": {
    "collapsed": false,
    "pycharm": {
     "name": "#%%\n"
    }
   }
  },
  {
   "cell_type": "markdown",
   "source": [
    "Define helper functions to calculate the report."
   ],
   "metadata": {
    "collapsed": false,
    "pycharm": {
     "name": "#%% md\n"
    }
   }
  },
  {
   "cell_type": "code",
   "execution_count": 2,
   "outputs": [],
   "source": [
    "def slice_price_data(\n",
    "        price_df_dict: Dict[str, pd.DataFrame], last_years: int\n",
    ") -> Dict[str, pd.DataFrame]:\n",
    "    \"\"\"\n",
    "    Slice DataFrames for each symbol to contain records only for the last_years years.\n",
    "\n",
    "    :param price_df_dict: {symbol: prices_for_symbol_df}\n",
    "    :param last_years: Number of years data is averaged to.\n",
    "    :return: {symbol: prices_for_symbol_df} sliced.\n",
    "    \"\"\"\n",
    "    now = dt.datetime.now()\n",
    "    # TODO(vr): check if dateutils.relativedate is better?\n",
    "    before = now - dt.timedelta(days=last_years * 365)\n",
    "    sliced_price_df_dict = {\n",
    "        symbol: prices.loc[before:now]\n",
    "        for symbol, prices in price_df_dict.items()\n",
    "    }\n",
    "    return sliced_price_df_dict\n",
    "\n",
    "\n",
    "def get_start_date(\n",
    "        price_df_dict: Dict[str, pd.DataFrame]\n",
    ") -> pd.DataFrame:\n",
    "    \"\"\"\n",
    "    Extract start dates for each time series.\n",
    "\n",
    "    :param price_df_dict: {symbol: prices_for_symbol_df}\n",
    "    :return: pd.DataFrame indexed by symbol\n",
    "    \"\"\"\n",
    "    start_date_dict = {\n",
    "       symbol: prices.index[0].strftime('%Y-%m-%d')\n",
    "       for symbol, prices in price_df_dict.items()\n",
    "   }\n",
    "    start_date_df = pd.DataFrame.from_dict(\n",
    "        start_date_dict, orient=\"index\", columns=[\"start_date\"]\n",
    "    )\n",
    "    return start_date_df\n",
    "\n",
    "\n",
    "def get_price_data(\n",
    "    price_df_dict: Dict[str, pd.DataFrame], price_col: str, agg_func: str, last_years: int\n",
    ") -> pd.DataFrame:\n",
    "    \"\"\"\n",
    "    Get grouped prices for each symbol.\n",
    "\n",
    "    :param price_df_dict: {symbol: prices_for_symbol_df}\n",
    "    :param price_col: The name of the price column\n",
    "    :param agg_func: The name of the aggregation function that needs to\n",
    "        be applied to the prices for each symbol\n",
    "    :param last_years: Number of years data is averaged to.\n",
    "    :return: pd.DataFrame indexed by symbol\n",
    "    \"\"\"\n",
    "    price_dict = {\n",
    "        symbol: getattr(prices[price_col], agg_func)()\n",
    "        for symbol, prices in price_df_dict.items()\n",
    "    }\n",
    "    price_df = pd.DataFrame.from_dict(\n",
    "        price_dict, orient=\"index\", columns=[f\"{agg_func}_{last_years}y_{price_col}\"]\n",
    "    )\n",
    "    price_df.index.name = \"symbol\"\n",
    "    return price_df"
   ],
   "metadata": {
    "collapsed": false,
    "pycharm": {
     "name": "#%%\n"
    }
   }
  },
  {
   "cell_type": "markdown",
   "source": [
    "Define main method to generate the report for a dataset."
   ],
   "metadata": {
    "collapsed": false,
    "pycharm": {
     "name": "#%% md\n"
    }
   }
  },
  {
   "cell_type": "code",
   "execution_count": 3,
   "outputs": [],
   "source": [
    "def generate_report(contract_type: types.ContractType, frequency: types.Frequency) -> pd.DataFrame:\n",
    "    \"\"\"\n",
    "    Generate a report for a dataset.\n",
    "\n",
    "    :param frequency: `D` or `T` for daily or minutely data respectively\n",
    "    :param contract_type: `continuous` or `expiry`\n",
    "    :return: a dataframe with the report\n",
    "    \"\"\"\n",
    "    dataset_aws_path = fpgen.FilePathGenerator().generate_file_path(\n",
    "        frequency, contract_type, \"ROOT\", ext=types.Extension.CSV\n",
    "    )\n",
    "    dataset_aws_directory = os.path.dirname(dataset_aws_path)\n",
    "    # Get a list of payloads (symbols) in format XYZ.csv.gz.\n",
    "    payloads = hs3.listdir(dataset_aws_directory, mode=\"non-recursive\")\n",
    "    # Get only first n-rows.\n",
    "    n_rows = 100\n",
    "    # Get only symbols list.\n",
    "    symbols = tuple(payload.replace(\".csv.gz\", \"\") for payload in payloads[:n_rows])\n",
    "    # Read dataframes.\n",
    "    kibot_data_loader = kdl.KibotDataLoader()\n",
    "    price_df_dict = kibot_data_loader.read_data(frequency, contract_type, symbols)\n",
    "    # Get avg. vol for the last 1 year\n",
    "    price_1y_df_dict = slice_price_data(price_df_dict, last_years=1)\n",
    "    mean_1y_vol = get_price_data(price_1y_df_dict, \"vol\", \"mean\", last_years=1)\n",
    "    # Get avg. vol for the last 3 years\n",
    "    price_3y_df_dict = slice_price_data(price_df_dict, last_years=3)\n",
    "    mean_3y_vol = get_price_data(price_3y_df_dict, \"vol\", \"mean\", last_years=3)\n",
    "    # Get avg. vol for the last 5 years\n",
    "    price_5y_df_dict = slice_price_data(price_df_dict, last_years=5)\n",
    "    mean_5y_vol = get_price_data(price_5y_df_dict, \"vol\", \"mean\", last_years=5)\n",
    "    # Get start date for each symbol.\n",
    "    start_date_df = get_start_date(price_df_dict)\n",
    "    # Get report for dataset.\n",
    "    report = pd.concat([start_date_df, mean_1y_vol, mean_3y_vol, mean_5y_vol], axis=1, join='inner')\n",
    "    report.index.name = \"symbol\"\n",
    "    report.fillna(0, inplace=True)\n",
    "    return report\n"
   ],
   "metadata": {
    "collapsed": false,
    "pycharm": {
     "name": "#%%\n"
    }
   }
  },
  {
   "cell_type": "markdown",
   "source": [
    "Report for all_futures_contracts_1min"
   ],
   "metadata": {
    "collapsed": false,
    "pycharm": {
     "name": "#%% md\n"
    }
   }
  },
  {
   "cell_type": "code",
   "execution_count": 4,
   "outputs": [
    {
     "data": {
      "text/plain": "        start_date  mean_1y_vol  mean_3y_vol  mean_5y_vol\nsymbol                                                   \nAC      2009-09-28          0.0     3.910725     4.614558\nACF10   2009-01-05          0.0     0.000000     0.000000\nACF11   2009-10-02          0.0     0.000000     0.000000\nACF12   2010-05-04          0.0     0.000000     0.000000\nACF13   2011-07-27          0.0     0.000000     0.000000\n...            ...          ...          ...          ...\nACV13   2012-09-18          0.0     0.000000     0.000000\nACV14   2014-01-03          0.0     0.000000     0.000000\nACV15   2014-09-17          0.0     0.000000     4.699140\nACV16   2015-11-13          0.0     0.000000     5.711661\nACV17   2017-02-21          0.0     4.851752     4.853614\n\n[100 rows x 4 columns]",
      "text/html": "<div>\n<style scoped>\n    .dataframe tbody tr th:only-of-type {\n        vertical-align: middle;\n    }\n\n    .dataframe tbody tr th {\n        vertical-align: top;\n    }\n\n    .dataframe thead th {\n        text-align: right;\n    }\n</style>\n<table border=\"1\" class=\"dataframe\">\n  <thead>\n    <tr style=\"text-align: right;\">\n      <th></th>\n      <th>start_date</th>\n      <th>mean_1y_vol</th>\n      <th>mean_3y_vol</th>\n      <th>mean_5y_vol</th>\n    </tr>\n    <tr>\n      <th>symbol</th>\n      <th></th>\n      <th></th>\n      <th></th>\n      <th></th>\n    </tr>\n  </thead>\n  <tbody>\n    <tr>\n      <th>AC</th>\n      <td>2009-09-28</td>\n      <td>0.0</td>\n      <td>3.910725</td>\n      <td>4.614558</td>\n    </tr>\n    <tr>\n      <th>ACF10</th>\n      <td>2009-01-05</td>\n      <td>0.0</td>\n      <td>0.000000</td>\n      <td>0.000000</td>\n    </tr>\n    <tr>\n      <th>ACF11</th>\n      <td>2009-10-02</td>\n      <td>0.0</td>\n      <td>0.000000</td>\n      <td>0.000000</td>\n    </tr>\n    <tr>\n      <th>ACF12</th>\n      <td>2010-05-04</td>\n      <td>0.0</td>\n      <td>0.000000</td>\n      <td>0.000000</td>\n    </tr>\n    <tr>\n      <th>ACF13</th>\n      <td>2011-07-27</td>\n      <td>0.0</td>\n      <td>0.000000</td>\n      <td>0.000000</td>\n    </tr>\n    <tr>\n      <th>...</th>\n      <td>...</td>\n      <td>...</td>\n      <td>...</td>\n      <td>...</td>\n    </tr>\n    <tr>\n      <th>ACV13</th>\n      <td>2012-09-18</td>\n      <td>0.0</td>\n      <td>0.000000</td>\n      <td>0.000000</td>\n    </tr>\n    <tr>\n      <th>ACV14</th>\n      <td>2014-01-03</td>\n      <td>0.0</td>\n      <td>0.000000</td>\n      <td>0.000000</td>\n    </tr>\n    <tr>\n      <th>ACV15</th>\n      <td>2014-09-17</td>\n      <td>0.0</td>\n      <td>0.000000</td>\n      <td>4.699140</td>\n    </tr>\n    <tr>\n      <th>ACV16</th>\n      <td>2015-11-13</td>\n      <td>0.0</td>\n      <td>0.000000</td>\n      <td>5.711661</td>\n    </tr>\n    <tr>\n      <th>ACV17</th>\n      <td>2017-02-21</td>\n      <td>0.0</td>\n      <td>4.851752</td>\n      <td>4.853614</td>\n    </tr>\n  </tbody>\n</table>\n<p>100 rows × 4 columns</p>\n</div>"
     },
     "execution_count": 4,
     "metadata": {},
     "output_type": "execute_result"
    }
   ],
   "source": [
    "dataset_report = generate_report(types.ContractType.Expiry, types.Frequency.Minutely)\n",
    "dataset_report"
   ],
   "metadata": {
    "collapsed": false,
    "pycharm": {
     "name": "#%%\n"
    }
   }
  },
  {
   "cell_type": "markdown",
   "source": [
    "Report for all_futures_contracts_daily"
   ],
   "metadata": {
    "collapsed": false
   }
  },
  {
   "cell_type": "code",
   "execution_count": 5,
   "outputs": [
    {
     "data": {
      "text/plain": "        start_date  mean_1y_vol  mean_3y_vol  mean_5y_vol\nsymbol                                                   \nAC      2005-05-05          0.0   186.698113   211.694190\nACF10   2008-01-14          0.0     0.000000     0.000000\nACF11   2008-02-25          0.0     0.000000     0.000000\nACF12   2009-01-07          0.0     0.000000     0.000000\nACF13   2010-01-08          0.0     0.000000     0.000000\n...            ...          ...          ...          ...\nACV13   2010-10-06          0.0     0.000000     0.000000\nACV14   2011-10-05          0.0     0.000000     0.000000\nACV15   2012-10-03          0.0     0.000000   180.592593\nACV16   2013-10-03          0.0     0.000000    49.600000\nACV17   2014-10-03          0.0   161.740741    16.244821\n\n[100 rows x 4 columns]",
      "text/html": "<div>\n<style scoped>\n    .dataframe tbody tr th:only-of-type {\n        vertical-align: middle;\n    }\n\n    .dataframe tbody tr th {\n        vertical-align: top;\n    }\n\n    .dataframe thead th {\n        text-align: right;\n    }\n</style>\n<table border=\"1\" class=\"dataframe\">\n  <thead>\n    <tr style=\"text-align: right;\">\n      <th></th>\n      <th>start_date</th>\n      <th>mean_1y_vol</th>\n      <th>mean_3y_vol</th>\n      <th>mean_5y_vol</th>\n    </tr>\n    <tr>\n      <th>symbol</th>\n      <th></th>\n      <th></th>\n      <th></th>\n      <th></th>\n    </tr>\n  </thead>\n  <tbody>\n    <tr>\n      <th>AC</th>\n      <td>2005-05-05</td>\n      <td>0.0</td>\n      <td>186.698113</td>\n      <td>211.694190</td>\n    </tr>\n    <tr>\n      <th>ACF10</th>\n      <td>2008-01-14</td>\n      <td>0.0</td>\n      <td>0.000000</td>\n      <td>0.000000</td>\n    </tr>\n    <tr>\n      <th>ACF11</th>\n      <td>2008-02-25</td>\n      <td>0.0</td>\n      <td>0.000000</td>\n      <td>0.000000</td>\n    </tr>\n    <tr>\n      <th>ACF12</th>\n      <td>2009-01-07</td>\n      <td>0.0</td>\n      <td>0.000000</td>\n      <td>0.000000</td>\n    </tr>\n    <tr>\n      <th>ACF13</th>\n      <td>2010-01-08</td>\n      <td>0.0</td>\n      <td>0.000000</td>\n      <td>0.000000</td>\n    </tr>\n    <tr>\n      <th>...</th>\n      <td>...</td>\n      <td>...</td>\n      <td>...</td>\n      <td>...</td>\n    </tr>\n    <tr>\n      <th>ACV13</th>\n      <td>2010-10-06</td>\n      <td>0.0</td>\n      <td>0.000000</td>\n      <td>0.000000</td>\n    </tr>\n    <tr>\n      <th>ACV14</th>\n      <td>2011-10-05</td>\n      <td>0.0</td>\n      <td>0.000000</td>\n      <td>0.000000</td>\n    </tr>\n    <tr>\n      <th>ACV15</th>\n      <td>2012-10-03</td>\n      <td>0.0</td>\n      <td>0.000000</td>\n      <td>180.592593</td>\n    </tr>\n    <tr>\n      <th>ACV16</th>\n      <td>2013-10-03</td>\n      <td>0.0</td>\n      <td>0.000000</td>\n      <td>49.600000</td>\n    </tr>\n    <tr>\n      <th>ACV17</th>\n      <td>2014-10-03</td>\n      <td>0.0</td>\n      <td>161.740741</td>\n      <td>16.244821</td>\n    </tr>\n  </tbody>\n</table>\n<p>100 rows × 4 columns</p>\n</div>"
     },
     "execution_count": 5,
     "metadata": {},
     "output_type": "execute_result"
    }
   ],
   "source": [
    "dataset_report = generate_report(types.ContractType.Expiry, types.Frequency.Daily)\n",
    "dataset_report"
   ],
   "metadata": {
    "collapsed": false,
    "pycharm": {
     "name": "#%%\n"
    }
   }
  },
  {
   "cell_type": "markdown",
   "source": [
    "Report for futures_continuous_contracts_1min"
   ],
   "metadata": {
    "collapsed": false
   }
  },
  {
   "cell_type": "code",
   "execution_count": 6,
   "outputs": [
    {
     "ename": "KeyboardInterrupt",
     "evalue": "",
     "output_type": "error",
     "traceback": [
      "\u001B[0;31m---------------------------------------------------------------------------\u001B[0m",
      "\u001B[0;31mKeyboardInterrupt\u001B[0m                         Traceback (most recent call last)",
      "\u001B[0;32m<ipython-input-6-8f810fc77c02>\u001B[0m in \u001B[0;36m<module>\u001B[0;34m\u001B[0m\n\u001B[0;32m----> 1\u001B[0;31m \u001B[0mdataset_report\u001B[0m \u001B[0;34m=\u001B[0m \u001B[0mgenerate_report\u001B[0m\u001B[0;34m(\u001B[0m\u001B[0mtypes\u001B[0m\u001B[0;34m.\u001B[0m\u001B[0mContractType\u001B[0m\u001B[0;34m.\u001B[0m\u001B[0mContinuous\u001B[0m\u001B[0;34m,\u001B[0m \u001B[0mtypes\u001B[0m\u001B[0;34m.\u001B[0m\u001B[0mFrequency\u001B[0m\u001B[0;34m.\u001B[0m\u001B[0mMinutely\u001B[0m\u001B[0;34m)\u001B[0m\u001B[0;34m\u001B[0m\u001B[0;34m\u001B[0m\u001B[0m\n\u001B[0m\u001B[1;32m      2\u001B[0m \u001B[0mdataset_report\u001B[0m\u001B[0;34m\u001B[0m\u001B[0;34m\u001B[0m\u001B[0m\n\u001B[1;32m      3\u001B[0m \u001B[0;34m\u001B[0m\u001B[0m\n",
      "\u001B[0;32m<ipython-input-3-bc65131190c6>\u001B[0m in \u001B[0;36mgenerate_report\u001B[0;34m(contract_type, frequency)\u001B[0m\n\u001B[1;32m     19\u001B[0m     \u001B[0;31m# Read dataframes.\u001B[0m\u001B[0;34m\u001B[0m\u001B[0;34m\u001B[0m\u001B[0;34m\u001B[0m\u001B[0m\n\u001B[1;32m     20\u001B[0m     \u001B[0mkibot_data_loader\u001B[0m \u001B[0;34m=\u001B[0m \u001B[0mkdl\u001B[0m\u001B[0;34m.\u001B[0m\u001B[0mKibotDataLoader\u001B[0m\u001B[0;34m(\u001B[0m\u001B[0;34m)\u001B[0m\u001B[0;34m\u001B[0m\u001B[0;34m\u001B[0m\u001B[0m\n\u001B[0;32m---> 21\u001B[0;31m     \u001B[0mprice_df_dict\u001B[0m \u001B[0;34m=\u001B[0m \u001B[0mkibot_data_loader\u001B[0m\u001B[0;34m.\u001B[0m\u001B[0mread_data\u001B[0m\u001B[0;34m(\u001B[0m\u001B[0mfrequency\u001B[0m\u001B[0;34m,\u001B[0m \u001B[0mcontract_type\u001B[0m\u001B[0;34m,\u001B[0m \u001B[0msymbols\u001B[0m\u001B[0;34m)\u001B[0m\u001B[0;34m\u001B[0m\u001B[0;34m\u001B[0m\u001B[0m\n\u001B[0m\u001B[1;32m     22\u001B[0m     \u001B[0;31m# Get avg. vol for the last 1 year\u001B[0m\u001B[0;34m\u001B[0m\u001B[0;34m\u001B[0m\u001B[0;34m\u001B[0m\u001B[0m\n\u001B[1;32m     23\u001B[0m     \u001B[0mprice_1y_df_dict\u001B[0m \u001B[0;34m=\u001B[0m \u001B[0mslice_price_data\u001B[0m\u001B[0;34m(\u001B[0m\u001B[0mprice_df_dict\u001B[0m\u001B[0;34m,\u001B[0m \u001B[0mlast_years\u001B[0m\u001B[0;34m=\u001B[0m\u001B[0;36m1\u001B[0m\u001B[0;34m)\u001B[0m\u001B[0;34m\u001B[0m\u001B[0;34m\u001B[0m\u001B[0m\n",
      "\u001B[0;32m~/Projects/upwork/amp/vendors2/kibot/data/load/data.py\u001B[0m in \u001B[0;36mread_data\u001B[0;34m(frequency, contract_type, symbols, nrows, cache_data)\u001B[0m\n\u001B[1;32m     35\u001B[0m         \u001B[0;34m:\u001B[0m\u001B[0;32mreturn\u001B[0m\u001B[0;34m:\u001B[0m \u001B[0;32mreturn\u001B[0m \u001B[0ma\u001B[0m \u001B[0mdictionary\u001B[0m \u001B[0mof\u001B[0m \u001B[0mdataframes\u001B[0m \u001B[0;32mfor\u001B[0m \u001B[0meach\u001B[0m \u001B[0msymbol\u001B[0m\u001B[0;34m.\u001B[0m\u001B[0;34m\u001B[0m\u001B[0;34m\u001B[0m\u001B[0m\n\u001B[1;32m     36\u001B[0m         \"\"\"\n\u001B[0;32m---> 37\u001B[0;31m         return {\n\u001B[0m\u001B[1;32m     38\u001B[0m             symbol: _read_symbol_data(\n\u001B[1;32m     39\u001B[0m                 \u001B[0mfrequency\u001B[0m\u001B[0;34m,\u001B[0m \u001B[0mcontract_type\u001B[0m\u001B[0;34m,\u001B[0m \u001B[0msymbol\u001B[0m\u001B[0;34m,\u001B[0m \u001B[0mnrows\u001B[0m\u001B[0;34m,\u001B[0m \u001B[0mcache_data\u001B[0m\u001B[0;34m\u001B[0m\u001B[0;34m\u001B[0m\u001B[0m\n",
      "\u001B[0;32m~/Projects/upwork/amp/vendors2/kibot/data/load/data.py\u001B[0m in \u001B[0;36m<dictcomp>\u001B[0;34m(.0)\u001B[0m\n\u001B[1;32m     36\u001B[0m         \"\"\"\n\u001B[1;32m     37\u001B[0m         return {\n\u001B[0;32m---> 38\u001B[0;31m             symbol: _read_symbol_data(\n\u001B[0m\u001B[1;32m     39\u001B[0m                 \u001B[0mfrequency\u001B[0m\u001B[0;34m,\u001B[0m \u001B[0mcontract_type\u001B[0m\u001B[0;34m,\u001B[0m \u001B[0msymbol\u001B[0m\u001B[0;34m,\u001B[0m \u001B[0mnrows\u001B[0m\u001B[0;34m,\u001B[0m \u001B[0mcache_data\u001B[0m\u001B[0;34m\u001B[0m\u001B[0;34m\u001B[0m\u001B[0m\n\u001B[1;32m     40\u001B[0m             )\n",
      "\u001B[0;32m~/Projects/upwork/amp/vendors2/kibot/data/load/data.py\u001B[0m in \u001B[0;36m_read_symbol_data\u001B[0;34m(frequency, contract_type, symbol, nrows, cache_data)\u001B[0m\n\u001B[1;32m     57\u001B[0m     )\n\u001B[1;32m     58\u001B[0m     \u001B[0;32mif\u001B[0m \u001B[0mcache_data\u001B[0m\u001B[0;34m:\u001B[0m\u001B[0;34m\u001B[0m\u001B[0;34m\u001B[0m\u001B[0m\n\u001B[0;32m---> 59\u001B[0;31m         \u001B[0mdata\u001B[0m \u001B[0;34m=\u001B[0m \u001B[0m_read_data_from_disk_cache\u001B[0m\u001B[0;34m(\u001B[0m\u001B[0mfile_path\u001B[0m\u001B[0;34m,\u001B[0m \u001B[0mnrows\u001B[0m\u001B[0;34m)\u001B[0m\u001B[0;34m\u001B[0m\u001B[0;34m\u001B[0m\u001B[0m\n\u001B[0m\u001B[1;32m     60\u001B[0m     \u001B[0;32melse\u001B[0m\u001B[0;34m:\u001B[0m\u001B[0;34m\u001B[0m\u001B[0;34m\u001B[0m\u001B[0m\n\u001B[1;32m     61\u001B[0m         \u001B[0mdata\u001B[0m \u001B[0;34m=\u001B[0m \u001B[0m_read_data_from_disk\u001B[0m\u001B[0;34m(\u001B[0m\u001B[0mfile_path\u001B[0m\u001B[0;34m,\u001B[0m \u001B[0mnrows\u001B[0m\u001B[0;34m)\u001B[0m\u001B[0;34m\u001B[0m\u001B[0;34m\u001B[0m\u001B[0m\n",
      "\u001B[0;32m~/Projects/upwork/external/venv/lib/python3.8/site-packages/joblib/memory.py\u001B[0m in \u001B[0;36m__call__\u001B[0;34m(self, *args, **kwargs)\u001B[0m\n\u001B[1;32m    563\u001B[0m \u001B[0;34m\u001B[0m\u001B[0m\n\u001B[1;32m    564\u001B[0m     \u001B[0;32mdef\u001B[0m \u001B[0m__call__\u001B[0m\u001B[0;34m(\u001B[0m\u001B[0mself\u001B[0m\u001B[0;34m,\u001B[0m \u001B[0;34m*\u001B[0m\u001B[0margs\u001B[0m\u001B[0;34m,\u001B[0m \u001B[0;34m**\u001B[0m\u001B[0mkwargs\u001B[0m\u001B[0;34m)\u001B[0m\u001B[0;34m:\u001B[0m\u001B[0;34m\u001B[0m\u001B[0;34m\u001B[0m\u001B[0m\n\u001B[0;32m--> 565\u001B[0;31m         \u001B[0;32mreturn\u001B[0m \u001B[0mself\u001B[0m\u001B[0;34m.\u001B[0m\u001B[0m_cached_call\u001B[0m\u001B[0;34m(\u001B[0m\u001B[0margs\u001B[0m\u001B[0;34m,\u001B[0m \u001B[0mkwargs\u001B[0m\u001B[0;34m)\u001B[0m\u001B[0;34m[\u001B[0m\u001B[0;36m0\u001B[0m\u001B[0;34m]\u001B[0m\u001B[0;34m\u001B[0m\u001B[0;34m\u001B[0m\u001B[0m\n\u001B[0m\u001B[1;32m    566\u001B[0m \u001B[0;34m\u001B[0m\u001B[0m\n\u001B[1;32m    567\u001B[0m     \u001B[0;32mdef\u001B[0m \u001B[0m__getstate__\u001B[0m\u001B[0;34m(\u001B[0m\u001B[0mself\u001B[0m\u001B[0;34m)\u001B[0m\u001B[0;34m:\u001B[0m\u001B[0;34m\u001B[0m\u001B[0;34m\u001B[0m\u001B[0m\n",
      "\u001B[0;32m~/Projects/upwork/external/venv/lib/python3.8/site-packages/joblib/memory.py\u001B[0m in \u001B[0;36m_cached_call\u001B[0;34m(self, args, kwargs, shelving)\u001B[0m\n\u001B[1;32m    529\u001B[0m \u001B[0;34m\u001B[0m\u001B[0m\n\u001B[1;32m    530\u001B[0m         \u001B[0;32mif\u001B[0m \u001B[0mmust_call\u001B[0m\u001B[0;34m:\u001B[0m\u001B[0;34m\u001B[0m\u001B[0;34m\u001B[0m\u001B[0m\n\u001B[0;32m--> 531\u001B[0;31m             \u001B[0mout\u001B[0m\u001B[0;34m,\u001B[0m \u001B[0mmetadata\u001B[0m \u001B[0;34m=\u001B[0m \u001B[0mself\u001B[0m\u001B[0;34m.\u001B[0m\u001B[0mcall\u001B[0m\u001B[0;34m(\u001B[0m\u001B[0;34m*\u001B[0m\u001B[0margs\u001B[0m\u001B[0;34m,\u001B[0m \u001B[0;34m**\u001B[0m\u001B[0mkwargs\u001B[0m\u001B[0;34m)\u001B[0m\u001B[0;34m\u001B[0m\u001B[0;34m\u001B[0m\u001B[0m\n\u001B[0m\u001B[1;32m    532\u001B[0m             \u001B[0;32mif\u001B[0m \u001B[0mself\u001B[0m\u001B[0;34m.\u001B[0m\u001B[0mmmap_mode\u001B[0m \u001B[0;32mis\u001B[0m \u001B[0;32mnot\u001B[0m \u001B[0;32mNone\u001B[0m\u001B[0;34m:\u001B[0m\u001B[0;34m\u001B[0m\u001B[0;34m\u001B[0m\u001B[0m\n\u001B[1;32m    533\u001B[0m                 \u001B[0;31m# Memmap the output at the first call to be consistent with\u001B[0m\u001B[0;34m\u001B[0m\u001B[0;34m\u001B[0m\u001B[0;34m\u001B[0m\u001B[0m\n",
      "\u001B[0;32m~/Projects/upwork/external/venv/lib/python3.8/site-packages/joblib/memory.py\u001B[0m in \u001B[0;36mcall\u001B[0;34m(self, *args, **kwargs)\u001B[0m\n\u001B[1;32m    725\u001B[0m         \u001B[0;32mif\u001B[0m \u001B[0mself\u001B[0m\u001B[0;34m.\u001B[0m\u001B[0m_verbose\u001B[0m \u001B[0;34m>\u001B[0m \u001B[0;36m0\u001B[0m\u001B[0;34m:\u001B[0m\u001B[0;34m\u001B[0m\u001B[0;34m\u001B[0m\u001B[0m\n\u001B[1;32m    726\u001B[0m             \u001B[0mprint\u001B[0m\u001B[0;34m(\u001B[0m\u001B[0mformat_call\u001B[0m\u001B[0;34m(\u001B[0m\u001B[0mself\u001B[0m\u001B[0;34m.\u001B[0m\u001B[0mfunc\u001B[0m\u001B[0;34m,\u001B[0m \u001B[0margs\u001B[0m\u001B[0;34m,\u001B[0m \u001B[0mkwargs\u001B[0m\u001B[0;34m)\u001B[0m\u001B[0;34m)\u001B[0m\u001B[0;34m\u001B[0m\u001B[0;34m\u001B[0m\u001B[0m\n\u001B[0;32m--> 727\u001B[0;31m         \u001B[0moutput\u001B[0m \u001B[0;34m=\u001B[0m \u001B[0mself\u001B[0m\u001B[0;34m.\u001B[0m\u001B[0mfunc\u001B[0m\u001B[0;34m(\u001B[0m\u001B[0;34m*\u001B[0m\u001B[0margs\u001B[0m\u001B[0;34m,\u001B[0m \u001B[0;34m**\u001B[0m\u001B[0mkwargs\u001B[0m\u001B[0;34m)\u001B[0m\u001B[0;34m\u001B[0m\u001B[0;34m\u001B[0m\u001B[0m\n\u001B[0m\u001B[1;32m    728\u001B[0m         self.store_backend.dump_item(\n\u001B[1;32m    729\u001B[0m             [func_id, args_id], output, verbose=self._verbose)\n",
      "\u001B[0;32m~/Projects/upwork/amp/vendors2/kibot/data/load/data.py\u001B[0m in \u001B[0;36m_read_data_from_disk_cache\u001B[0;34m(file_path, nrows)\u001B[0m\n\u001B[1;32m     67\u001B[0m     \u001B[0mfile_path\u001B[0m\u001B[0;34m:\u001B[0m \u001B[0mstr\u001B[0m\u001B[0;34m,\u001B[0m \u001B[0mnrows\u001B[0m\u001B[0;34m:\u001B[0m \u001B[0mOptional\u001B[0m\u001B[0;34m[\u001B[0m\u001B[0mint\u001B[0m\u001B[0;34m]\u001B[0m\u001B[0;34m\u001B[0m\u001B[0;34m\u001B[0m\u001B[0m\n\u001B[1;32m     68\u001B[0m ) -> pd.DataFrame:\n\u001B[0;32m---> 69\u001B[0;31m     \u001B[0mdata\u001B[0m \u001B[0;34m=\u001B[0m \u001B[0m_read_data\u001B[0m\u001B[0;34m(\u001B[0m\u001B[0mfile_path\u001B[0m\u001B[0;34m,\u001B[0m \u001B[0mnrows\u001B[0m\u001B[0;34m)\u001B[0m\u001B[0;34m\u001B[0m\u001B[0;34m\u001B[0m\u001B[0m\n\u001B[0m\u001B[1;32m     70\u001B[0m     \u001B[0;32mreturn\u001B[0m \u001B[0mdata\u001B[0m\u001B[0;34m\u001B[0m\u001B[0;34m\u001B[0m\u001B[0m\n\u001B[1;32m     71\u001B[0m \u001B[0;34m\u001B[0m\u001B[0m\n",
      "\u001B[0;32m~/Projects/upwork/amp/vendors2/kibot/data/load/data.py\u001B[0m in \u001B[0;36m_read_data\u001B[0;34m(file_path, nrows)\u001B[0m\n\u001B[1;32m     77\u001B[0m \u001B[0;34m\u001B[0m\u001B[0m\n\u001B[1;32m     78\u001B[0m \u001B[0;32mdef\u001B[0m \u001B[0m_read_data\u001B[0m\u001B[0;34m(\u001B[0m\u001B[0mfile_path\u001B[0m\u001B[0;34m:\u001B[0m \u001B[0mstr\u001B[0m\u001B[0;34m,\u001B[0m \u001B[0mnrows\u001B[0m\u001B[0;34m:\u001B[0m \u001B[0mOptional\u001B[0m\u001B[0;34m[\u001B[0m\u001B[0mint\u001B[0m\u001B[0;34m]\u001B[0m\u001B[0;34m)\u001B[0m \u001B[0;34m->\u001B[0m \u001B[0mpd\u001B[0m\u001B[0;34m.\u001B[0m\u001B[0mDataFrame\u001B[0m\u001B[0;34m:\u001B[0m\u001B[0;34m\u001B[0m\u001B[0;34m\u001B[0m\u001B[0m\n\u001B[0;32m---> 79\u001B[0;31m     \u001B[0mdf\u001B[0m \u001B[0;34m=\u001B[0m \u001B[0mpd\u001B[0m\u001B[0;34m.\u001B[0m\u001B[0mread_parquet\u001B[0m\u001B[0;34m(\u001B[0m\u001B[0mfile_path\u001B[0m\u001B[0;34m)\u001B[0m\u001B[0;34m\u001B[0m\u001B[0;34m\u001B[0m\u001B[0m\n\u001B[0m\u001B[1;32m     80\u001B[0m     \u001B[0;32mif\u001B[0m \u001B[0mnrows\u001B[0m \u001B[0;32mis\u001B[0m \u001B[0;32mnot\u001B[0m \u001B[0;32mNone\u001B[0m\u001B[0;34m:\u001B[0m\u001B[0;34m\u001B[0m\u001B[0;34m\u001B[0m\u001B[0m\n\u001B[1;32m     81\u001B[0m         \u001B[0mdf\u001B[0m \u001B[0;34m=\u001B[0m \u001B[0mdf\u001B[0m\u001B[0;34m.\u001B[0m\u001B[0mhead\u001B[0m\u001B[0;34m(\u001B[0m\u001B[0mnrows\u001B[0m\u001B[0;34m)\u001B[0m\u001B[0;34m\u001B[0m\u001B[0;34m\u001B[0m\u001B[0m\n",
      "\u001B[0;32m~/Projects/upwork/external/venv/lib/python3.8/site-packages/pandas/io/parquet.py\u001B[0m in \u001B[0;36mread_parquet\u001B[0;34m(path, engine, columns, **kwargs)\u001B[0m\n\u001B[1;32m    313\u001B[0m \u001B[0;34m\u001B[0m\u001B[0m\n\u001B[1;32m    314\u001B[0m     \u001B[0mimpl\u001B[0m \u001B[0;34m=\u001B[0m \u001B[0mget_engine\u001B[0m\u001B[0;34m(\u001B[0m\u001B[0mengine\u001B[0m\u001B[0;34m)\u001B[0m\u001B[0;34m\u001B[0m\u001B[0;34m\u001B[0m\u001B[0m\n\u001B[0;32m--> 315\u001B[0;31m     \u001B[0;32mreturn\u001B[0m \u001B[0mimpl\u001B[0m\u001B[0;34m.\u001B[0m\u001B[0mread\u001B[0m\u001B[0;34m(\u001B[0m\u001B[0mpath\u001B[0m\u001B[0;34m,\u001B[0m \u001B[0mcolumns\u001B[0m\u001B[0;34m=\u001B[0m\u001B[0mcolumns\u001B[0m\u001B[0;34m,\u001B[0m \u001B[0;34m**\u001B[0m\u001B[0mkwargs\u001B[0m\u001B[0;34m)\u001B[0m\u001B[0;34m\u001B[0m\u001B[0;34m\u001B[0m\u001B[0m\n\u001B[0m",
      "\u001B[0;32m~/Projects/upwork/external/venv/lib/python3.8/site-packages/pandas/io/parquet.py\u001B[0m in \u001B[0;36mread\u001B[0;34m(self, path, columns, **kwargs)\u001B[0m\n\u001B[1;32m    207\u001B[0m             \u001B[0mparquet_file\u001B[0m \u001B[0;34m=\u001B[0m \u001B[0mself\u001B[0m\u001B[0;34m.\u001B[0m\u001B[0mapi\u001B[0m\u001B[0;34m.\u001B[0m\u001B[0mParquetFile\u001B[0m\u001B[0;34m(\u001B[0m\u001B[0mpath\u001B[0m\u001B[0;34m)\u001B[0m\u001B[0;34m\u001B[0m\u001B[0;34m\u001B[0m\u001B[0m\n\u001B[1;32m    208\u001B[0m \u001B[0;34m\u001B[0m\u001B[0m\n\u001B[0;32m--> 209\u001B[0;31m         \u001B[0;32mreturn\u001B[0m \u001B[0mparquet_file\u001B[0m\u001B[0;34m.\u001B[0m\u001B[0mto_pandas\u001B[0m\u001B[0;34m(\u001B[0m\u001B[0mcolumns\u001B[0m\u001B[0;34m=\u001B[0m\u001B[0mcolumns\u001B[0m\u001B[0;34m,\u001B[0m \u001B[0;34m**\u001B[0m\u001B[0mkwargs\u001B[0m\u001B[0;34m)\u001B[0m\u001B[0;34m\u001B[0m\u001B[0;34m\u001B[0m\u001B[0m\n\u001B[0m\u001B[1;32m    210\u001B[0m \u001B[0;34m\u001B[0m\u001B[0m\n\u001B[1;32m    211\u001B[0m \u001B[0;34m\u001B[0m\u001B[0m\n",
      "\u001B[0;32m~/Projects/upwork/external/venv/lib/python3.8/site-packages/fastparquet/api.py\u001B[0m in \u001B[0;36mto_pandas\u001B[0;34m(self, columns, categories, filters, index)\u001B[0m\n\u001B[1;32m    396\u001B[0m                                     else v[start:start + rg.num_rows])\n\u001B[1;32m    397\u001B[0m                              for (name, v) in views.items()}\n\u001B[0;32m--> 398\u001B[0;31m                     self.read_row_group(rg, columns, categories, infile=f,\n\u001B[0m\u001B[1;32m    399\u001B[0m                                         index=index, assign=parts)\n\u001B[1;32m    400\u001B[0m                     \u001B[0mstart\u001B[0m \u001B[0;34m+=\u001B[0m \u001B[0mrg\u001B[0m\u001B[0;34m.\u001B[0m\u001B[0mnum_rows\u001B[0m\u001B[0;34m\u001B[0m\u001B[0;34m\u001B[0m\u001B[0m\n",
      "\u001B[0;32m~/Projects/upwork/external/venv/lib/python3.8/site-packages/fastparquet/api.py\u001B[0m in \u001B[0;36mread_row_group\u001B[0;34m(self, rg, columns, categories, infile, index, assign)\u001B[0m\n\u001B[1;32m    223\u001B[0m                                            categories, index)\n\u001B[1;32m    224\u001B[0m             \u001B[0mret\u001B[0m \u001B[0;34m=\u001B[0m \u001B[0;32mTrue\u001B[0m\u001B[0;34m\u001B[0m\u001B[0;34m\u001B[0m\u001B[0m\n\u001B[0;32m--> 225\u001B[0;31m         core.read_row_group(\n\u001B[0m\u001B[1;32m    226\u001B[0m                 \u001B[0minfile\u001B[0m\u001B[0;34m,\u001B[0m \u001B[0mrg\u001B[0m\u001B[0;34m,\u001B[0m \u001B[0mcolumns\u001B[0m\u001B[0;34m,\u001B[0m \u001B[0mcategories\u001B[0m\u001B[0;34m,\u001B[0m \u001B[0mself\u001B[0m\u001B[0;34m.\u001B[0m\u001B[0mschema\u001B[0m\u001B[0;34m,\u001B[0m \u001B[0mself\u001B[0m\u001B[0;34m.\u001B[0m\u001B[0mcats\u001B[0m\u001B[0;34m,\u001B[0m\u001B[0;34m\u001B[0m\u001B[0;34m\u001B[0m\u001B[0m\n\u001B[1;32m    227\u001B[0m                 \u001B[0mself\u001B[0m\u001B[0;34m.\u001B[0m\u001B[0mselfmade\u001B[0m\u001B[0;34m,\u001B[0m \u001B[0mindex\u001B[0m\u001B[0;34m=\u001B[0m\u001B[0mindex\u001B[0m\u001B[0;34m,\u001B[0m \u001B[0massign\u001B[0m\u001B[0;34m=\u001B[0m\u001B[0massign\u001B[0m\u001B[0;34m,\u001B[0m\u001B[0;34m\u001B[0m\u001B[0;34m\u001B[0m\u001B[0m\n",
      "\u001B[0;32m~/Projects/upwork/external/venv/lib/python3.8/site-packages/fastparquet/core.py\u001B[0m in \u001B[0;36mread_row_group\u001B[0;34m(file, rg, columns, categories, schema_helper, cats, selfmade, index, assign, scheme)\u001B[0m\n\u001B[1;32m    352\u001B[0m     \u001B[0;32mif\u001B[0m \u001B[0massign\u001B[0m \u001B[0;32mis\u001B[0m \u001B[0;32mNone\u001B[0m\u001B[0;34m:\u001B[0m\u001B[0;34m\u001B[0m\u001B[0;34m\u001B[0m\u001B[0m\n\u001B[1;32m    353\u001B[0m         \u001B[0;32mraise\u001B[0m \u001B[0mRuntimeError\u001B[0m\u001B[0;34m(\u001B[0m\u001B[0;34m'Going with pre-allocation!'\u001B[0m\u001B[0;34m)\u001B[0m\u001B[0;34m\u001B[0m\u001B[0;34m\u001B[0m\u001B[0m\n\u001B[0;32m--> 354\u001B[0;31m     read_row_group_arrays(file, rg, columns, categories, schema_helper,\n\u001B[0m\u001B[1;32m    355\u001B[0m                           cats, selfmade, assign=assign)\n\u001B[1;32m    356\u001B[0m \u001B[0;34m\u001B[0m\u001B[0m\n",
      "\u001B[0;32m~/Projects/upwork/external/venv/lib/python3.8/site-packages/fastparquet/core.py\u001B[0m in \u001B[0;36mread_row_group_arrays\u001B[0;34m(file, rg, columns, categories, schema_helper, cats, selfmade, assign)\u001B[0m\n\u001B[1;32m    328\u001B[0m             \u001B[0;32mcontinue\u001B[0m\u001B[0;34m\u001B[0m\u001B[0;34m\u001B[0m\u001B[0m\n\u001B[1;32m    329\u001B[0m \u001B[0;34m\u001B[0m\u001B[0m\n\u001B[0;32m--> 330\u001B[0;31m         read_col(column, schema_helper, file, use_cat=name+'-catdef' in out,\n\u001B[0m\u001B[1;32m    331\u001B[0m                  \u001B[0mselfmade\u001B[0m\u001B[0;34m=\u001B[0m\u001B[0mselfmade\u001B[0m\u001B[0;34m,\u001B[0m \u001B[0massign\u001B[0m\u001B[0;34m=\u001B[0m\u001B[0mout\u001B[0m\u001B[0;34m[\u001B[0m\u001B[0mname\u001B[0m\u001B[0;34m]\u001B[0m\u001B[0;34m,\u001B[0m\u001B[0;34m\u001B[0m\u001B[0;34m\u001B[0m\u001B[0m\n\u001B[1;32m    332\u001B[0m                  catdef=out.get(name+'-catdef', None))\n",
      "\u001B[0;32m~/Projects/upwork/external/venv/lib/python3.8/site-packages/fastparquet/core.py\u001B[0m in \u001B[0;36mread_col\u001B[0;34m(column, schema_helper, infile, use_cat, grab_dict, selfmade, assign, catdef)\u001B[0m\n\u001B[1;32m    243\u001B[0m         \u001B[0;32melse\u001B[0m\u001B[0;34m:\u001B[0m\u001B[0;34m\u001B[0m\u001B[0;34m\u001B[0m\u001B[0m\n\u001B[1;32m    244\u001B[0m             \u001B[0mskip_nulls\u001B[0m \u001B[0;34m=\u001B[0m \u001B[0;32mFalse\u001B[0m\u001B[0;34m\u001B[0m\u001B[0;34m\u001B[0m\u001B[0m\n\u001B[0;32m--> 245\u001B[0;31m         defi, rep, val = read_data_page(infile, schema_helper, ph, cmd,\n\u001B[0m\u001B[1;32m    246\u001B[0m                                         skip_nulls, selfmade=selfmade)\n\u001B[1;32m    247\u001B[0m         \u001B[0;32mif\u001B[0m \u001B[0mrep\u001B[0m \u001B[0;32mis\u001B[0m \u001B[0;32mnot\u001B[0m \u001B[0;32mNone\u001B[0m \u001B[0;32mand\u001B[0m \u001B[0massign\u001B[0m\u001B[0;34m.\u001B[0m\u001B[0mdtype\u001B[0m\u001B[0;34m.\u001B[0m\u001B[0mkind\u001B[0m \u001B[0;34m!=\u001B[0m \u001B[0;34m'O'\u001B[0m\u001B[0;34m:\u001B[0m  \u001B[0;31m# pragma: no cover\u001B[0m\u001B[0;34m\u001B[0m\u001B[0;34m\u001B[0m\u001B[0m\n",
      "\u001B[0;32m~/Projects/upwork/external/venv/lib/python3.8/site-packages/fastparquet/core.py\u001B[0m in \u001B[0;36mread_data_page\u001B[0;34m(f, helper, header, metadata, skip_nulls, selfmade)\u001B[0m\n\u001B[1;32m     97\u001B[0m     \"\"\"\n\u001B[1;32m     98\u001B[0m     \u001B[0mdaph\u001B[0m \u001B[0;34m=\u001B[0m \u001B[0mheader\u001B[0m\u001B[0;34m.\u001B[0m\u001B[0mdata_page_header\u001B[0m\u001B[0;34m\u001B[0m\u001B[0;34m\u001B[0m\u001B[0m\n\u001B[0;32m---> 99\u001B[0;31m     \u001B[0mraw_bytes\u001B[0m \u001B[0;34m=\u001B[0m \u001B[0m_read_page\u001B[0m\u001B[0;34m(\u001B[0m\u001B[0mf\u001B[0m\u001B[0;34m,\u001B[0m \u001B[0mheader\u001B[0m\u001B[0;34m,\u001B[0m \u001B[0mmetadata\u001B[0m\u001B[0;34m)\u001B[0m\u001B[0;34m\u001B[0m\u001B[0;34m\u001B[0m\u001B[0m\n\u001B[0m\u001B[1;32m    100\u001B[0m     io_obj = encoding.Numpy8(np.frombuffer(byte_buffer(raw_bytes),\n\u001B[1;32m    101\u001B[0m                                            dtype=np.uint8))\n",
      "\u001B[0;32m~/Projects/upwork/external/venv/lib/python3.8/site-packages/fastparquet/core.py\u001B[0m in \u001B[0;36m_read_page\u001B[0;34m(file_obj, page_header, column_metadata)\u001B[0m\n\u001B[1;32m     19\u001B[0m     \"\"\"Read the data page from the given file-object and convert it to raw,\n\u001B[1;32m     20\u001B[0m     uncompressed bytes (if necessary).\"\"\"\n\u001B[0;32m---> 21\u001B[0;31m     \u001B[0mraw_bytes\u001B[0m \u001B[0;34m=\u001B[0m \u001B[0mfile_obj\u001B[0m\u001B[0;34m.\u001B[0m\u001B[0mread\u001B[0m\u001B[0;34m(\u001B[0m\u001B[0mpage_header\u001B[0m\u001B[0;34m.\u001B[0m\u001B[0mcompressed_page_size\u001B[0m\u001B[0;34m)\u001B[0m\u001B[0;34m\u001B[0m\u001B[0;34m\u001B[0m\u001B[0m\n\u001B[0m\u001B[1;32m     22\u001B[0m     raw_bytes = decompress_data(\n\u001B[1;32m     23\u001B[0m         \u001B[0mraw_bytes\u001B[0m\u001B[0;34m,\u001B[0m\u001B[0;34m\u001B[0m\u001B[0;34m\u001B[0m\u001B[0m\n",
      "\u001B[0;32m~/Projects/upwork/external/venv/lib/python3.8/site-packages/fsspec/spec.py\u001B[0m in \u001B[0;36mread\u001B[0;34m(self, length)\u001B[0m\n\u001B[1;32m   1307\u001B[0m             \u001B[0;31m# don't even bother calling fetch\u001B[0m\u001B[0;34m\u001B[0m\u001B[0;34m\u001B[0m\u001B[0;34m\u001B[0m\u001B[0m\n\u001B[1;32m   1308\u001B[0m             \u001B[0;32mreturn\u001B[0m \u001B[0;34mb\"\"\u001B[0m\u001B[0;34m\u001B[0m\u001B[0;34m\u001B[0m\u001B[0m\n\u001B[0;32m-> 1309\u001B[0;31m         \u001B[0mout\u001B[0m \u001B[0;34m=\u001B[0m \u001B[0mself\u001B[0m\u001B[0;34m.\u001B[0m\u001B[0mcache\u001B[0m\u001B[0;34m.\u001B[0m\u001B[0m_fetch\u001B[0m\u001B[0;34m(\u001B[0m\u001B[0mself\u001B[0m\u001B[0;34m.\u001B[0m\u001B[0mloc\u001B[0m\u001B[0;34m,\u001B[0m \u001B[0mself\u001B[0m\u001B[0;34m.\u001B[0m\u001B[0mloc\u001B[0m \u001B[0;34m+\u001B[0m \u001B[0mlength\u001B[0m\u001B[0;34m)\u001B[0m\u001B[0;34m\u001B[0m\u001B[0;34m\u001B[0m\u001B[0m\n\u001B[0m\u001B[1;32m   1310\u001B[0m         \u001B[0mself\u001B[0m\u001B[0;34m.\u001B[0m\u001B[0mloc\u001B[0m \u001B[0;34m+=\u001B[0m \u001B[0mlen\u001B[0m\u001B[0;34m(\u001B[0m\u001B[0mout\u001B[0m\u001B[0;34m)\u001B[0m\u001B[0;34m\u001B[0m\u001B[0;34m\u001B[0m\u001B[0m\n\u001B[1;32m   1311\u001B[0m         \u001B[0;32mreturn\u001B[0m \u001B[0mout\u001B[0m\u001B[0;34m\u001B[0m\u001B[0;34m\u001B[0m\u001B[0m\n",
      "\u001B[0;32m~/Projects/upwork/external/venv/lib/python3.8/site-packages/fsspec/caching.py\u001B[0m in \u001B[0;36m_fetch\u001B[0;34m(self, start, end)\u001B[0m\n\u001B[1;32m    348\u001B[0m                 \u001B[0mself\u001B[0m\u001B[0;34m.\u001B[0m\u001B[0mstart\u001B[0m \u001B[0;34m=\u001B[0m \u001B[0mstart\u001B[0m\u001B[0;34m\u001B[0m\u001B[0;34m\u001B[0m\u001B[0m\n\u001B[1;32m    349\u001B[0m             \u001B[0;32melse\u001B[0m\u001B[0;34m:\u001B[0m\u001B[0;34m\u001B[0m\u001B[0;34m\u001B[0m\u001B[0m\n\u001B[0;32m--> 350\u001B[0;31m                 \u001B[0mnew\u001B[0m \u001B[0;34m=\u001B[0m \u001B[0mself\u001B[0m\u001B[0;34m.\u001B[0m\u001B[0mfetcher\u001B[0m\u001B[0;34m(\u001B[0m\u001B[0mself\u001B[0m\u001B[0;34m.\u001B[0m\u001B[0mend\u001B[0m\u001B[0;34m,\u001B[0m \u001B[0mbend\u001B[0m\u001B[0;34m)\u001B[0m\u001B[0;34m\u001B[0m\u001B[0;34m\u001B[0m\u001B[0m\n\u001B[0m\u001B[1;32m    351\u001B[0m                 \u001B[0mself\u001B[0m\u001B[0;34m.\u001B[0m\u001B[0mcache\u001B[0m \u001B[0;34m=\u001B[0m \u001B[0mself\u001B[0m\u001B[0;34m.\u001B[0m\u001B[0mcache\u001B[0m \u001B[0;34m+\u001B[0m \u001B[0mnew\u001B[0m\u001B[0;34m\u001B[0m\u001B[0;34m\u001B[0m\u001B[0m\n\u001B[1;32m    352\u001B[0m \u001B[0;34m\u001B[0m\u001B[0m\n",
      "\u001B[0;32m~/Projects/upwork/external/venv/lib/python3.8/site-packages/s3fs/core.py\u001B[0m in \u001B[0;36m_fetch_range\u001B[0;34m(self, start, end)\u001B[0m\n\u001B[1;32m   1372\u001B[0m \u001B[0;34m\u001B[0m\u001B[0m\n\u001B[1;32m   1373\u001B[0m     \u001B[0;32mdef\u001B[0m \u001B[0m_fetch_range\u001B[0m\u001B[0;34m(\u001B[0m\u001B[0mself\u001B[0m\u001B[0;34m,\u001B[0m \u001B[0mstart\u001B[0m\u001B[0;34m,\u001B[0m \u001B[0mend\u001B[0m\u001B[0;34m)\u001B[0m\u001B[0;34m:\u001B[0m\u001B[0;34m\u001B[0m\u001B[0;34m\u001B[0m\u001B[0m\n\u001B[0;32m-> 1374\u001B[0;31m         return _fetch_range(self.fs, self.bucket, self.key, self.version_id,\n\u001B[0m\u001B[1;32m   1375\u001B[0m                             start, end, req_kw=self.req_kw)\n\u001B[1;32m   1376\u001B[0m \u001B[0;34m\u001B[0m\u001B[0m\n",
      "\u001B[0;32m~/Projects/upwork/external/venv/lib/python3.8/site-packages/s3fs/core.py\u001B[0m in \u001B[0;36m_fetch_range\u001B[0;34m(fs, bucket, key, version_id, start, end, req_kw)\u001B[0m\n\u001B[1;32m   1487\u001B[0m         \u001B[0;32mreturn\u001B[0m \u001B[0;34mb''\u001B[0m\u001B[0;34m\u001B[0m\u001B[0;34m\u001B[0m\u001B[0m\n\u001B[1;32m   1488\u001B[0m     \u001B[0mlogger\u001B[0m\u001B[0;34m.\u001B[0m\u001B[0mdebug\u001B[0m\u001B[0;34m(\u001B[0m\u001B[0;34m\"Fetch: %s/%s, %s-%s\"\u001B[0m\u001B[0;34m,\u001B[0m \u001B[0mbucket\u001B[0m\u001B[0;34m,\u001B[0m \u001B[0mkey\u001B[0m\u001B[0;34m,\u001B[0m \u001B[0mstart\u001B[0m\u001B[0;34m,\u001B[0m \u001B[0mend\u001B[0m\u001B[0;34m)\u001B[0m\u001B[0;34m\u001B[0m\u001B[0;34m\u001B[0m\u001B[0m\n\u001B[0;32m-> 1489\u001B[0;31m     resp = fs.call_s3(fs.s3.get_object, Bucket=bucket, Key=key,\n\u001B[0m\u001B[1;32m   1490\u001B[0m                       \u001B[0mRange\u001B[0m\u001B[0;34m=\u001B[0m\u001B[0;34m'bytes=%i-%i'\u001B[0m \u001B[0;34m%\u001B[0m \u001B[0;34m(\u001B[0m\u001B[0mstart\u001B[0m\u001B[0;34m,\u001B[0m \u001B[0mend\u001B[0m \u001B[0;34m-\u001B[0m \u001B[0;36m1\u001B[0m\u001B[0;34m)\u001B[0m\u001B[0;34m,\u001B[0m\u001B[0;34m\u001B[0m\u001B[0;34m\u001B[0m\u001B[0m\n\u001B[1;32m   1491\u001B[0m                       \u001B[0;34m**\u001B[0m\u001B[0mversion_id_kw\u001B[0m\u001B[0;34m(\u001B[0m\u001B[0mversion_id\u001B[0m\u001B[0;34m)\u001B[0m\u001B[0;34m,\u001B[0m\u001B[0;34m\u001B[0m\u001B[0;34m\u001B[0m\u001B[0m\n",
      "\u001B[0;32m~/Projects/upwork/external/venv/lib/python3.8/site-packages/fsspec/asyn.py\u001B[0m in \u001B[0;36mwrapper\u001B[0;34m(*args, **kwargs)\u001B[0m\n\u001B[1;32m     98\u001B[0m     \u001B[0;32mdef\u001B[0m \u001B[0mwrapper\u001B[0m\u001B[0;34m(\u001B[0m\u001B[0;34m*\u001B[0m\u001B[0margs\u001B[0m\u001B[0;34m,\u001B[0m \u001B[0;34m**\u001B[0m\u001B[0mkwargs\u001B[0m\u001B[0;34m)\u001B[0m\u001B[0;34m:\u001B[0m\u001B[0;34m\u001B[0m\u001B[0;34m\u001B[0m\u001B[0m\n\u001B[1;32m     99\u001B[0m         \u001B[0mself\u001B[0m \u001B[0;34m=\u001B[0m \u001B[0mobj\u001B[0m \u001B[0;32mor\u001B[0m \u001B[0margs\u001B[0m\u001B[0;34m[\u001B[0m\u001B[0;36m0\u001B[0m\u001B[0;34m]\u001B[0m\u001B[0;34m\u001B[0m\u001B[0;34m\u001B[0m\u001B[0m\n\u001B[0;32m--> 100\u001B[0;31m         \u001B[0;32mreturn\u001B[0m \u001B[0mmaybe_sync\u001B[0m\u001B[0;34m(\u001B[0m\u001B[0mfunc\u001B[0m\u001B[0;34m,\u001B[0m \u001B[0mself\u001B[0m\u001B[0;34m,\u001B[0m \u001B[0;34m*\u001B[0m\u001B[0margs\u001B[0m\u001B[0;34m,\u001B[0m \u001B[0;34m**\u001B[0m\u001B[0mkwargs\u001B[0m\u001B[0;34m)\u001B[0m\u001B[0;34m\u001B[0m\u001B[0;34m\u001B[0m\u001B[0m\n\u001B[0m\u001B[1;32m    101\u001B[0m \u001B[0;34m\u001B[0m\u001B[0m\n\u001B[1;32m    102\u001B[0m     \u001B[0;32mreturn\u001B[0m \u001B[0mwrapper\u001B[0m\u001B[0;34m\u001B[0m\u001B[0;34m\u001B[0m\u001B[0m\n",
      "\u001B[0;32m~/Projects/upwork/external/venv/lib/python3.8/site-packages/fsspec/asyn.py\u001B[0m in \u001B[0;36mmaybe_sync\u001B[0;34m(func, self, *args, **kwargs)\u001B[0m\n\u001B[1;32m     78\u001B[0m         \u001B[0;32mif\u001B[0m \u001B[0minspect\u001B[0m\u001B[0;34m.\u001B[0m\u001B[0miscoroutinefunction\u001B[0m\u001B[0;34m(\u001B[0m\u001B[0mfunc\u001B[0m\u001B[0;34m)\u001B[0m\u001B[0;34m:\u001B[0m\u001B[0;34m\u001B[0m\u001B[0;34m\u001B[0m\u001B[0m\n\u001B[1;32m     79\u001B[0m             \u001B[0;31m# run the awaitable on the loop\u001B[0m\u001B[0;34m\u001B[0m\u001B[0;34m\u001B[0m\u001B[0;34m\u001B[0m\u001B[0m\n\u001B[0;32m---> 80\u001B[0;31m             \u001B[0;32mreturn\u001B[0m \u001B[0msync\u001B[0m\u001B[0;34m(\u001B[0m\u001B[0mloop\u001B[0m\u001B[0;34m,\u001B[0m \u001B[0mfunc\u001B[0m\u001B[0;34m,\u001B[0m \u001B[0;34m*\u001B[0m\u001B[0margs\u001B[0m\u001B[0;34m,\u001B[0m \u001B[0;34m**\u001B[0m\u001B[0mkwargs\u001B[0m\u001B[0;34m)\u001B[0m\u001B[0;34m\u001B[0m\u001B[0;34m\u001B[0m\u001B[0m\n\u001B[0m\u001B[1;32m     81\u001B[0m         \u001B[0;32melse\u001B[0m\u001B[0;34m:\u001B[0m\u001B[0;34m\u001B[0m\u001B[0;34m\u001B[0m\u001B[0m\n\u001B[1;32m     82\u001B[0m             \u001B[0;31m# just call the blocking function\u001B[0m\u001B[0;34m\u001B[0m\u001B[0;34m\u001B[0m\u001B[0;34m\u001B[0m\u001B[0m\n",
      "\u001B[0;32m~/Projects/upwork/external/venv/lib/python3.8/site-packages/fsspec/asyn.py\u001B[0m in \u001B[0;36msync\u001B[0;34m(loop, func, callback_timeout, *args, **kwargs)\u001B[0m\n\u001B[1;32m     46\u001B[0m     \u001B[0;32melse\u001B[0m\u001B[0;34m:\u001B[0m\u001B[0;34m\u001B[0m\u001B[0;34m\u001B[0m\u001B[0m\n\u001B[1;32m     47\u001B[0m         \u001B[0;32mwhile\u001B[0m \u001B[0;32mnot\u001B[0m \u001B[0me\u001B[0m\u001B[0;34m.\u001B[0m\u001B[0mis_set\u001B[0m\u001B[0;34m(\u001B[0m\u001B[0;34m)\u001B[0m\u001B[0;34m:\u001B[0m\u001B[0;34m\u001B[0m\u001B[0;34m\u001B[0m\u001B[0m\n\u001B[0;32m---> 48\u001B[0;31m             \u001B[0me\u001B[0m\u001B[0;34m.\u001B[0m\u001B[0mwait\u001B[0m\u001B[0;34m(\u001B[0m\u001B[0;36m10\u001B[0m\u001B[0;34m)\u001B[0m\u001B[0;34m\u001B[0m\u001B[0;34m\u001B[0m\u001B[0m\n\u001B[0m\u001B[1;32m     49\u001B[0m     \u001B[0;32mif\u001B[0m \u001B[0merror\u001B[0m\u001B[0;34m[\u001B[0m\u001B[0;36m0\u001B[0m\u001B[0;34m]\u001B[0m\u001B[0;34m:\u001B[0m\u001B[0;34m\u001B[0m\u001B[0;34m\u001B[0m\u001B[0m\n\u001B[1;32m     50\u001B[0m         \u001B[0mtyp\u001B[0m\u001B[0;34m,\u001B[0m \u001B[0mexc\u001B[0m\u001B[0;34m,\u001B[0m \u001B[0mtb\u001B[0m \u001B[0;34m=\u001B[0m \u001B[0merror\u001B[0m\u001B[0;34m[\u001B[0m\u001B[0;36m0\u001B[0m\u001B[0;34m]\u001B[0m\u001B[0;34m\u001B[0m\u001B[0;34m\u001B[0m\u001B[0m\n",
      "\u001B[0;32m/usr/local/Cellar/python@3.8/3.8.5/Frameworks/Python.framework/Versions/3.8/lib/python3.8/threading.py\u001B[0m in \u001B[0;36mwait\u001B[0;34m(self, timeout)\u001B[0m\n\u001B[1;32m    556\u001B[0m             \u001B[0msignaled\u001B[0m \u001B[0;34m=\u001B[0m \u001B[0mself\u001B[0m\u001B[0;34m.\u001B[0m\u001B[0m_flag\u001B[0m\u001B[0;34m\u001B[0m\u001B[0;34m\u001B[0m\u001B[0m\n\u001B[1;32m    557\u001B[0m             \u001B[0;32mif\u001B[0m \u001B[0;32mnot\u001B[0m \u001B[0msignaled\u001B[0m\u001B[0;34m:\u001B[0m\u001B[0;34m\u001B[0m\u001B[0;34m\u001B[0m\u001B[0m\n\u001B[0;32m--> 558\u001B[0;31m                 \u001B[0msignaled\u001B[0m \u001B[0;34m=\u001B[0m \u001B[0mself\u001B[0m\u001B[0;34m.\u001B[0m\u001B[0m_cond\u001B[0m\u001B[0;34m.\u001B[0m\u001B[0mwait\u001B[0m\u001B[0;34m(\u001B[0m\u001B[0mtimeout\u001B[0m\u001B[0;34m)\u001B[0m\u001B[0;34m\u001B[0m\u001B[0;34m\u001B[0m\u001B[0m\n\u001B[0m\u001B[1;32m    559\u001B[0m             \u001B[0;32mreturn\u001B[0m \u001B[0msignaled\u001B[0m\u001B[0;34m\u001B[0m\u001B[0;34m\u001B[0m\u001B[0m\n\u001B[1;32m    560\u001B[0m \u001B[0;34m\u001B[0m\u001B[0m\n",
      "\u001B[0;32m/usr/local/Cellar/python@3.8/3.8.5/Frameworks/Python.framework/Versions/3.8/lib/python3.8/threading.py\u001B[0m in \u001B[0;36mwait\u001B[0;34m(self, timeout)\u001B[0m\n\u001B[1;32m    304\u001B[0m             \u001B[0;32melse\u001B[0m\u001B[0;34m:\u001B[0m\u001B[0;34m\u001B[0m\u001B[0;34m\u001B[0m\u001B[0m\n\u001B[1;32m    305\u001B[0m                 \u001B[0;32mif\u001B[0m \u001B[0mtimeout\u001B[0m \u001B[0;34m>\u001B[0m \u001B[0;36m0\u001B[0m\u001B[0;34m:\u001B[0m\u001B[0;34m\u001B[0m\u001B[0;34m\u001B[0m\u001B[0m\n\u001B[0;32m--> 306\u001B[0;31m                     \u001B[0mgotit\u001B[0m \u001B[0;34m=\u001B[0m \u001B[0mwaiter\u001B[0m\u001B[0;34m.\u001B[0m\u001B[0macquire\u001B[0m\u001B[0;34m(\u001B[0m\u001B[0;32mTrue\u001B[0m\u001B[0;34m,\u001B[0m \u001B[0mtimeout\u001B[0m\u001B[0;34m)\u001B[0m\u001B[0;34m\u001B[0m\u001B[0;34m\u001B[0m\u001B[0m\n\u001B[0m\u001B[1;32m    307\u001B[0m                 \u001B[0;32melse\u001B[0m\u001B[0;34m:\u001B[0m\u001B[0;34m\u001B[0m\u001B[0;34m\u001B[0m\u001B[0m\n\u001B[1;32m    308\u001B[0m                     \u001B[0mgotit\u001B[0m \u001B[0;34m=\u001B[0m \u001B[0mwaiter\u001B[0m\u001B[0;34m.\u001B[0m\u001B[0macquire\u001B[0m\u001B[0;34m(\u001B[0m\u001B[0;32mFalse\u001B[0m\u001B[0;34m)\u001B[0m\u001B[0;34m\u001B[0m\u001B[0;34m\u001B[0m\u001B[0m\n",
      "\u001B[0;31mKeyboardInterrupt\u001B[0m: "
     ]
    }
   ],
   "source": [
    "dataset_report = generate_report(types.ContractType.Continuous, types.Frequency.Minutely)\n",
    "dataset_report"
   ],
   "metadata": {
    "collapsed": false,
    "pycharm": {
     "name": "#%%\n"
    }
   }
  },
  {
   "cell_type": "markdown",
   "source": [
    "Report for futures_continuous_contracts_daily"
   ],
   "metadata": {
    "collapsed": false
   }
  },
  {
   "cell_type": "code",
   "execution_count": null,
   "outputs": [],
   "source": [
    "dataset_report = generate_report(types.ContractType.Continuous, types.Frequency.Daily)\n",
    "dataset_report"
   ],
   "metadata": {
    "collapsed": false,
    "pycharm": {
     "name": "#%%\n"
    }
   }
  }
 ],
 "metadata": {
  "kernelspec": {
   "display_name": "Python 3",
   "language": "python",
   "name": "python3"
  },
  "language_info": {
   "codemirror_mode": {
    "name": "ipython",
    "version": 2
   },
   "file_extension": ".py",
   "mimetype": "text/x-python",
   "name": "python",
   "nbconvert_exporter": "python",
   "pygments_lexer": "ipython2",
   "version": "2.7.6"
  }
 },
 "nbformat": 4,
 "nbformat_minor": 0
}