{
 "cells": [
  {
   "cell_type": "markdown",
   "metadata": {},
   "source": [
    "\n",
    "# Imports\n",
    "\n",
    "Importing all required modules."
   ]
  },
  {
   "cell_type": "code",
   "execution_count": 24,
   "metadata": {
    "pycharm": {
     "name": "#%%\n"
    }
   },
   "outputs": [
    {
     "name": "stdout",
     "output_type": "stream",
     "text": [
      "The autoreload extension is already loaded. To reload it, use:\n",
      "  %reload_ext autoreload\n"
     ]
    }
   ],
   "source": [
    "%load_ext autoreload\n",
    "%autoreload 2\n",
    "\n",
    "import datetime as dt\n",
    "import os\n",
    "\n",
    "import pandas as pd\n",
    "\n",
    "import helpers.s3 as hs3\n",
    "import vendors2.kibot.data.load as kdl\n",
    "import vendors2.kibot.data.load.file_path_generator as fpgen\n",
    "import vendors2.kibot.data.types as types\n",
    "\n",
    "# This will be changed later when Exchange will be developed.\n",
    "EXCHANGE = \"TestExchange\""
   ]
  },
  {
   "cell_type": "markdown",
   "metadata": {
    "lines_to_next_cell": 2,
    "pycharm": {
     "name": "#%% md\n"
    }
   },
   "source": [
    "Define helper functions to calculate the report."
   ]
  },
  {
   "cell_type": "code",
   "execution_count": 25,
   "metadata": {
    "pycharm": {
     "name": "#%%\n"
    }
   },
   "outputs": [],
   "source": [
    "def slice_price_data(\n",
    "    prices: pd.DataFrame, last_years: int\n",
    ") -> pd.DataFrame:\n",
    "    \"\"\"Slice DataFrames for each symbol to contain records only for the\n",
    "    last_years years.\n",
    "\n",
    "    :param prices: price for symbol dataframe.\n",
    "    :param last_years: Number of years data is averaged to.\n",
    "    :return: dataframe sliced.\n",
    "    \"\"\"\n",
    "    now = dt.datetime.now()\n",
    "    # TODO(vr): check if dateutils.relativedate is better?\n",
    "    before = now - dt.timedelta(days=last_years * 365)\n",
    "    return prices.loc[before:now]\n",
    "\n",
    "\n",
    "def get_start_date(prices_df: pd.DataFrame) -> str:\n",
    "    \"\"\"Extract start dates for each time series.\n",
    "\n",
    "    :param prices_df: dataframe with prices\n",
    "    :return: start date as string\n",
    "    \"\"\"\n",
    "    start_date = prices_df.index[0].strftime(\"%Y-%m-%d\")\n",
    "    return start_date\n",
    "\n",
    "\n",
    "def get_price_data(\n",
    "    prices_df: pd.DataFrame,\n",
    "    price_col: str,\n",
    "    agg_func: str,\n",
    ") -> float:\n",
    "    \"\"\"Get grouped prices for each symbol.\n",
    "\n",
    "    :param prices_df: dataframe with prices\n",
    "    :param price_col: The name of the price column\n",
    "    :param agg_func: The name of the aggregation function that needs to\n",
    "        be applied to the prices for each symbol\n",
    "    :return:\n",
    "    \"\"\"\n",
    "    val = getattr(prices_df[price_col], agg_func)()\n",
    "    return val"
   ]
  },
  {
   "cell_type": "markdown",
   "metadata": {
    "pycharm": {
     "name": "#%% md\n"
    }
   },
   "source": [
    "Define main method to generate the report for a dataset."
   ]
  },
  {
   "cell_type": "code",
   "execution_count": 26,
   "metadata": {
    "lines_to_next_cell": 2,
    "pycharm": {
     "name": "#%%\n"
    }
   },
   "outputs": [],
   "source": [
    "def generate_report(\n",
    "    exchange: str,\n",
    "    asset_class: types.AssetClass,\n",
    "    contract_type: types.ContractType,\n",
    "    frequency: types.Frequency\n",
    ") -> pd.DataFrame:\n",
    "    \"\"\"Generate a report for a dataset.\n",
    "\n",
    "    :param exchange:\n",
    "    :param frequency: `D` or `T` for daily or minutely data respectively\n",
    "    :param asset_class:\n",
    "    :param contract_type: `continuous` or `expiry`\n",
    "    :return: a dataframe with the report\n",
    "    \"\"\"\n",
    "    dataset_aws_path = fpgen.FilePathGenerator().generate_file_path( \"\",\n",
    "        frequency, asset_class, contract_type, ext=types.Extension.CSV\n",
    "    )\n",
    "    dataset_aws_directory = os.path.dirname(dataset_aws_path)\n",
    "    # Get a list of payloads (symbols) in format XYZ.csv.gz.\n",
    "    payloads = hs3.listdir(dataset_aws_directory, mode=\"non-recursive\")\n",
    "    # Get only first n-rows.\n",
    "    n_rows = 10\n",
    "    # Get only symbols list.\n",
    "    symbols = tuple(\n",
    "        payload.replace(\".csv.gz\", \"\") for payload in payloads[:n_rows]\n",
    "    )\n",
    "    # Read dataframes.\n",
    "    kibot_data_loader = kdl.S3KibotDataLoader()\n",
    "    report_data = []\n",
    "    for symbol in symbols:\n",
    "        df = kibot_data_loader.read_data(exchange, symbol, asset_class, frequency, contract_type)\n",
    "        # Get avg. vol for the last 1 year\n",
    "        price_1y_df = slice_price_data(df, last_years=1)\n",
    "        mean_1y_vol = get_price_data(price_1y_df, \"vol\", \"mean\")\n",
    "        # Get avg. vol for the last 3 years\n",
    "        price_3y_df = slice_price_data(df, last_years=3)\n",
    "        mean_3y_vol = get_price_data(price_3y_df, \"vol\", \"mean\")\n",
    "        # Get avg. vol for the last 5 years\n",
    "        price_5y_df = slice_price_data(df, last_years=5)\n",
    "        mean_5y_vol = get_price_data(price_5y_df, \"vol\", \"mean\")\n",
    "        # Get start date for each symbol.\n",
    "        start_date = get_start_date(df)\n",
    "        report_data.append((symbol, start_date, mean_1y_vol, mean_3y_vol, mean_5y_vol))\n",
    "    report = pd.DataFrame.from_records(\n",
    "        report_data,\n",
    "        index=\"symbol\",\n",
    "        columns=[\"symbol\", \"start_date\", \"mean_1y_vol\", \"mean_3y_vol\", \"mean_5y_vol\"]\n",
    "    )\n",
    "    report.fillna(0, inplace=True)\n",
    "    return report"
   ]
  },
  {
   "cell_type": "markdown",
   "metadata": {
    "pycharm": {
     "name": "#%% md\n"
    }
   },
   "source": [
    "Report for all_futures_contracts_1min"
   ]
  },
  {
   "cell_type": "code",
   "execution_count": 27,
   "metadata": {
    "pycharm": {
     "name": "#%%\n"
    }
   },
   "outputs": [
    {
     "data": {
      "text/plain": "        start_date  mean_1y_vol  mean_3y_vol  mean_5y_vol\nsymbol                                                   \nAC      2009-09-28          0.0     3.685601     4.585687\nACF10   2009-01-05          0.0     0.000000     0.000000\nACF11   2009-10-02          0.0     0.000000     0.000000\nACF12   2010-05-04          0.0     0.000000     0.000000\nACF13   2011-07-27          0.0     0.000000     0.000000\nACF14   2012-11-27          0.0     0.000000     0.000000\nACF15   2014-02-05          0.0     0.000000     0.000000\nACF16   2015-04-21          0.0     0.000000     0.000000\nACF17   2016-06-08          0.0     0.000000     6.778603\nACF18   2017-07-20          0.0     0.000000     4.630482",
      "text/html": "<div>\n<style scoped>\n    .dataframe tbody tr th:only-of-type {\n        vertical-align: middle;\n    }\n\n    .dataframe tbody tr th {\n        vertical-align: top;\n    }\n\n    .dataframe thead th {\n        text-align: right;\n    }\n</style>\n<table border=\"1\" class=\"dataframe\">\n  <thead>\n    <tr style=\"text-align: right;\">\n      <th></th>\n      <th>start_date</th>\n      <th>mean_1y_vol</th>\n      <th>mean_3y_vol</th>\n      <th>mean_5y_vol</th>\n    </tr>\n    <tr>\n      <th>symbol</th>\n      <th></th>\n      <th></th>\n      <th></th>\n      <th></th>\n    </tr>\n  </thead>\n  <tbody>\n    <tr>\n      <th>AC</th>\n      <td>2009-09-28</td>\n      <td>0.0</td>\n      <td>3.685601</td>\n      <td>4.585687</td>\n    </tr>\n    <tr>\n      <th>ACF10</th>\n      <td>2009-01-05</td>\n      <td>0.0</td>\n      <td>0.000000</td>\n      <td>0.000000</td>\n    </tr>\n    <tr>\n      <th>ACF11</th>\n      <td>2009-10-02</td>\n      <td>0.0</td>\n      <td>0.000000</td>\n      <td>0.000000</td>\n    </tr>\n    <tr>\n      <th>ACF12</th>\n      <td>2010-05-04</td>\n      <td>0.0</td>\n      <td>0.000000</td>\n      <td>0.000000</td>\n    </tr>\n    <tr>\n      <th>ACF13</th>\n      <td>2011-07-27</td>\n      <td>0.0</td>\n      <td>0.000000</td>\n      <td>0.000000</td>\n    </tr>\n    <tr>\n      <th>ACF14</th>\n      <td>2012-11-27</td>\n      <td>0.0</td>\n      <td>0.000000</td>\n      <td>0.000000</td>\n    </tr>\n    <tr>\n      <th>ACF15</th>\n      <td>2014-02-05</td>\n      <td>0.0</td>\n      <td>0.000000</td>\n      <td>0.000000</td>\n    </tr>\n    <tr>\n      <th>ACF16</th>\n      <td>2015-04-21</td>\n      <td>0.0</td>\n      <td>0.000000</td>\n      <td>0.000000</td>\n    </tr>\n    <tr>\n      <th>ACF17</th>\n      <td>2016-06-08</td>\n      <td>0.0</td>\n      <td>0.000000</td>\n      <td>6.778603</td>\n    </tr>\n    <tr>\n      <th>ACF18</th>\n      <td>2017-07-20</td>\n      <td>0.0</td>\n      <td>0.000000</td>\n      <td>4.630482</td>\n    </tr>\n  </tbody>\n</table>\n</div>"
     },
     "execution_count": 27,
     "metadata": {},
     "output_type": "execute_result"
    }
   ],
   "source": [
    "dataset_report = generate_report(\n",
    "    EXCHANGE,\n",
    "    types.AssetClass.Futures,\n",
    "    types.ContractType.Expiry,\n",
    "    types.Frequency.Minutely\n",
    ")\n",
    "dataset_report"
   ]
  },
  {
   "cell_type": "markdown",
   "metadata": {},
   "source": [
    "Report for all_futures_contracts_daily"
   ]
  },
  {
   "cell_type": "code",
   "execution_count": 28,
   "metadata": {
    "pycharm": {
     "name": "#%%\n"
    }
   },
   "outputs": [
    {
     "data": {
      "text/plain": "        start_date  mean_1y_vol  mean_3y_vol  mean_5y_vol\nsymbol                                                   \nAC      2005-05-05          0.0   188.381963   214.191126\nACF10   2008-01-14          0.0     0.000000     0.000000\nACF11   2008-02-25          0.0     0.000000     0.000000\nACF12   2009-01-07          0.0     0.000000     0.000000\nACF13   2010-01-08          0.0     0.000000     0.000000\nACF14   2011-01-06          0.0     0.000000     0.000000\nACF15   2012-01-05          0.0     0.000000     0.000000\nACF16   2013-01-04          0.0     0.000000     0.000000\nACF17   2014-01-06          0.0     0.000000    76.443983\nACF18   2015-01-06          0.0     0.000000    20.979675",
      "text/html": "<div>\n<style scoped>\n    .dataframe tbody tr th:only-of-type {\n        vertical-align: middle;\n    }\n\n    .dataframe tbody tr th {\n        vertical-align: top;\n    }\n\n    .dataframe thead th {\n        text-align: right;\n    }\n</style>\n<table border=\"1\" class=\"dataframe\">\n  <thead>\n    <tr style=\"text-align: right;\">\n      <th></th>\n      <th>start_date</th>\n      <th>mean_1y_vol</th>\n      <th>mean_3y_vol</th>\n      <th>mean_5y_vol</th>\n    </tr>\n    <tr>\n      <th>symbol</th>\n      <th></th>\n      <th></th>\n      <th></th>\n      <th></th>\n    </tr>\n  </thead>\n  <tbody>\n    <tr>\n      <th>AC</th>\n      <td>2005-05-05</td>\n      <td>0.0</td>\n      <td>188.381963</td>\n      <td>214.191126</td>\n    </tr>\n    <tr>\n      <th>ACF10</th>\n      <td>2008-01-14</td>\n      <td>0.0</td>\n      <td>0.000000</td>\n      <td>0.000000</td>\n    </tr>\n    <tr>\n      <th>ACF11</th>\n      <td>2008-02-25</td>\n      <td>0.0</td>\n      <td>0.000000</td>\n      <td>0.000000</td>\n    </tr>\n    <tr>\n      <th>ACF12</th>\n      <td>2009-01-07</td>\n      <td>0.0</td>\n      <td>0.000000</td>\n      <td>0.000000</td>\n    </tr>\n    <tr>\n      <th>ACF13</th>\n      <td>2010-01-08</td>\n      <td>0.0</td>\n      <td>0.000000</td>\n      <td>0.000000</td>\n    </tr>\n    <tr>\n      <th>ACF14</th>\n      <td>2011-01-06</td>\n      <td>0.0</td>\n      <td>0.000000</td>\n      <td>0.000000</td>\n    </tr>\n    <tr>\n      <th>ACF15</th>\n      <td>2012-01-05</td>\n      <td>0.0</td>\n      <td>0.000000</td>\n      <td>0.000000</td>\n    </tr>\n    <tr>\n      <th>ACF16</th>\n      <td>2013-01-04</td>\n      <td>0.0</td>\n      <td>0.000000</td>\n      <td>0.000000</td>\n    </tr>\n    <tr>\n      <th>ACF17</th>\n      <td>2014-01-06</td>\n      <td>0.0</td>\n      <td>0.000000</td>\n      <td>76.443983</td>\n    </tr>\n    <tr>\n      <th>ACF18</th>\n      <td>2015-01-06</td>\n      <td>0.0</td>\n      <td>0.000000</td>\n      <td>20.979675</td>\n    </tr>\n  </tbody>\n</table>\n</div>"
     },
     "execution_count": 28,
     "metadata": {},
     "output_type": "execute_result"
    }
   ],
   "source": [
    "dataset_report = generate_report(\n",
    "    EXCHANGE,\n",
    "    types.AssetClass.Futures,\n",
    "    types.ContractType.Expiry,\n",
    "    types.Frequency.Daily\n",
    ")\n",
    "dataset_report"
   ]
  },
  {
   "cell_type": "markdown",
   "metadata": {},
   "source": [
    "Report for all_futures_continuous_contracts_1min"
   ]
  },
  {
   "cell_type": "code",
   "execution_count": 29,
   "metadata": {
    "pycharm": {
     "name": "#%%\n"
    }
   },
   "outputs": [
    {
     "data": {
      "text/plain": "        start_date  mean_1y_vol  mean_3y_vol  mean_5y_vol\nsymbol                                                   \nAC      2009-09-28          0.0     3.685601     4.585687\nAD      2009-09-27          0.0    74.652497    71.047113\nAE      2007-05-16          0.0   126.350903   115.620952\nAEX     2009-09-28          0.0    35.686105    37.444023\nAJY     2009-10-21          0.0     5.635328     5.240059\nALJ     2014-03-31          0.0    31.641741    35.119711\nALM     2014-03-31          0.0     4.682867     5.028360\nBB      2009-09-27          0.0     6.539458     7.235888\nBBN     2011-09-25          0.0   122.062252   118.091746\nBD      2009-09-28          0.0   698.576599   718.721924",
      "text/html": "<div>\n<style scoped>\n    .dataframe tbody tr th:only-of-type {\n        vertical-align: middle;\n    }\n\n    .dataframe tbody tr th {\n        vertical-align: top;\n    }\n\n    .dataframe thead th {\n        text-align: right;\n    }\n</style>\n<table border=\"1\" class=\"dataframe\">\n  <thead>\n    <tr style=\"text-align: right;\">\n      <th></th>\n      <th>start_date</th>\n      <th>mean_1y_vol</th>\n      <th>mean_3y_vol</th>\n      <th>mean_5y_vol</th>\n    </tr>\n    <tr>\n      <th>symbol</th>\n      <th></th>\n      <th></th>\n      <th></th>\n      <th></th>\n    </tr>\n  </thead>\n  <tbody>\n    <tr>\n      <th>AC</th>\n      <td>2009-09-28</td>\n      <td>0.0</td>\n      <td>3.685601</td>\n      <td>4.585687</td>\n    </tr>\n    <tr>\n      <th>AD</th>\n      <td>2009-09-27</td>\n      <td>0.0</td>\n      <td>74.652497</td>\n      <td>71.047113</td>\n    </tr>\n    <tr>\n      <th>AE</th>\n      <td>2007-05-16</td>\n      <td>0.0</td>\n      <td>126.350903</td>\n      <td>115.620952</td>\n    </tr>\n    <tr>\n      <th>AEX</th>\n      <td>2009-09-28</td>\n      <td>0.0</td>\n      <td>35.686105</td>\n      <td>37.444023</td>\n    </tr>\n    <tr>\n      <th>AJY</th>\n      <td>2009-10-21</td>\n      <td>0.0</td>\n      <td>5.635328</td>\n      <td>5.240059</td>\n    </tr>\n    <tr>\n      <th>ALJ</th>\n      <td>2014-03-31</td>\n      <td>0.0</td>\n      <td>31.641741</td>\n      <td>35.119711</td>\n    </tr>\n    <tr>\n      <th>ALM</th>\n      <td>2014-03-31</td>\n      <td>0.0</td>\n      <td>4.682867</td>\n      <td>5.028360</td>\n    </tr>\n    <tr>\n      <th>BB</th>\n      <td>2009-09-27</td>\n      <td>0.0</td>\n      <td>6.539458</td>\n      <td>7.235888</td>\n    </tr>\n    <tr>\n      <th>BBN</th>\n      <td>2011-09-25</td>\n      <td>0.0</td>\n      <td>122.062252</td>\n      <td>118.091746</td>\n    </tr>\n    <tr>\n      <th>BD</th>\n      <td>2009-09-28</td>\n      <td>0.0</td>\n      <td>698.576599</td>\n      <td>718.721924</td>\n    </tr>\n  </tbody>\n</table>\n</div>"
     },
     "execution_count": 29,
     "metadata": {},
     "output_type": "execute_result"
    }
   ],
   "source": [
    "dataset_report = generate_report(\n",
    "    EXCHANGE,\n",
    "    types.AssetClass.Futures,\n",
    "    types.ContractType.Continuous,\n",
    "    types.Frequency.Minutely\n",
    ")\n",
    "dataset_report"
   ]
  },
  {
   "cell_type": "markdown",
   "metadata": {},
   "source": [
    "Report for all_futures_continuous_contracts_daily"
   ]
  },
  {
   "cell_type": "code",
   "execution_count": 30,
   "metadata": {
    "pycharm": {
     "name": "#%%\n"
    }
   },
   "outputs": [
    {
     "data": {
      "text/plain": "        start_date  mean_1y_vol    mean_3y_vol    mean_5y_vol\nsymbol                                                       \nAC      2005-05-05          0.0     188.381963     214.191126\nAD      1995-09-13          0.0  103035.758621   97491.960182\nAE      2006-10-02          0.0    2514.700265    2389.955631\nAEX     2005-12-30          0.0   29927.687664   30722.434978\nAJY     2002-05-31          0.0     164.429708     144.825939\nALJ     2013-12-20          0.0   24640.655080   27314.750577\nALM     2013-12-20          0.0    1440.331476    1614.313749\nBB      2005-09-09          0.0     912.790698    1050.305987\nBBN     2011-10-13          0.0    2304.184697    1842.367531\nBD      1996-09-06          0.0  714788.340369  698020.773034",
      "text/html": "<div>\n<style scoped>\n    .dataframe tbody tr th:only-of-type {\n        vertical-align: middle;\n    }\n\n    .dataframe tbody tr th {\n        vertical-align: top;\n    }\n\n    .dataframe thead th {\n        text-align: right;\n    }\n</style>\n<table border=\"1\" class=\"dataframe\">\n  <thead>\n    <tr style=\"text-align: right;\">\n      <th></th>\n      <th>start_date</th>\n      <th>mean_1y_vol</th>\n      <th>mean_3y_vol</th>\n      <th>mean_5y_vol</th>\n    </tr>\n    <tr>\n      <th>symbol</th>\n      <th></th>\n      <th></th>\n      <th></th>\n      <th></th>\n    </tr>\n  </thead>\n  <tbody>\n    <tr>\n      <th>AC</th>\n      <td>2005-05-05</td>\n      <td>0.0</td>\n      <td>188.381963</td>\n      <td>214.191126</td>\n    </tr>\n    <tr>\n      <th>AD</th>\n      <td>1995-09-13</td>\n      <td>0.0</td>\n      <td>103035.758621</td>\n      <td>97491.960182</td>\n    </tr>\n    <tr>\n      <th>AE</th>\n      <td>2006-10-02</td>\n      <td>0.0</td>\n      <td>2514.700265</td>\n      <td>2389.955631</td>\n    </tr>\n    <tr>\n      <th>AEX</th>\n      <td>2005-12-30</td>\n      <td>0.0</td>\n      <td>29927.687664</td>\n      <td>30722.434978</td>\n    </tr>\n    <tr>\n      <th>AJY</th>\n      <td>2002-05-31</td>\n      <td>0.0</td>\n      <td>164.429708</td>\n      <td>144.825939</td>\n    </tr>\n    <tr>\n      <th>ALJ</th>\n      <td>2013-12-20</td>\n      <td>0.0</td>\n      <td>24640.655080</td>\n      <td>27314.750577</td>\n    </tr>\n    <tr>\n      <th>ALM</th>\n      <td>2013-12-20</td>\n      <td>0.0</td>\n      <td>1440.331476</td>\n      <td>1614.313749</td>\n    </tr>\n    <tr>\n      <th>BB</th>\n      <td>2005-09-09</td>\n      <td>0.0</td>\n      <td>912.790698</td>\n      <td>1050.305987</td>\n    </tr>\n    <tr>\n      <th>BBN</th>\n      <td>2011-10-13</td>\n      <td>0.0</td>\n      <td>2304.184697</td>\n      <td>1842.367531</td>\n    </tr>\n    <tr>\n      <th>BD</th>\n      <td>1996-09-06</td>\n      <td>0.0</td>\n      <td>714788.340369</td>\n      <td>698020.773034</td>\n    </tr>\n  </tbody>\n</table>\n</div>"
     },
     "execution_count": 30,
     "metadata": {},
     "output_type": "execute_result"
    }
   ],
   "source": [
    "dataset_report = generate_report(\n",
    "    EXCHANGE,\n",
    "    types.AssetClass.Futures,\n",
    "    types.ContractType.Continuous,\n",
    "    types.Frequency.Daily\n",
    ")\n",
    "dataset_report"
   ]
  }
 ],
 "metadata": {
  "jupytext": {
   "text_representation": {
    "extension": ".py",
    "format_name": "percent",
    "format_version": "1.3",
    "jupytext_version": "1.5.2"
   }
  },
  "kernelspec": {
   "display_name": "Python 3",
   "language": "python",
   "name": "python3"
  },
  "language_info": {
   "codemirror_mode": {
    "name": "ipython",
    "version": 3
   },
   "file_extension": ".py",
   "mimetype": "text/x-python",
   "name": "python",
   "nbconvert_exporter": "python",
   "pygments_lexer": "ipython3",
   "version": "3.7.6"
  },
  "toc": {
   "base_numbering": 1,
   "nav_menu": {},
   "number_sections": true,
   "sideBar": true,
   "skip_h1_title": false,
   "title_cell": "Table of Contents",
   "title_sidebar": "Contents",
   "toc_cell": false,
   "toc_position": {},
   "toc_section_display": true,
   "toc_window_display": false
  }
 },
 "nbformat": 4,
 "nbformat_minor": 1
}
