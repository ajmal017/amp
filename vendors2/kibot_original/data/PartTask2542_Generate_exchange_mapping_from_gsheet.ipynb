{
 "cells": [
  {
   "cell_type": "markdown",
   "metadata": {},
   "source": [
    "# Description"
   ]
  },
  {
   "cell_type": "markdown",
   "metadata": {},
   "source": [
    "This notebook is used to regenerate the Kibot-exchange mapping table from source google spreadsheet."
   ]
  },
  {
   "cell_type": "code",
   "execution_count": 1,
   "metadata": {},
   "outputs": [],
   "source": [
    "%load_ext autoreload\n",
    "%autoreload 2\n",
    "import helpers.dbg as dbg\n",
    "import helpers.env as env\n",
    "import helpers.printing as prnt\n",
    "import logging\n",
    "import gspread_pandas\n",
    "import pandas as pd\n",
    "import vendors2.kibot.data.utils as kdut"
   ]
  },
  {
   "cell_type": "code",
   "execution_count": 2,
   "metadata": {},
   "outputs": [
    {
     "name": "stdout",
     "output_type": "stream",
     "text": [
      "\u001b[0mWARNING: Running in Jupyter\n",
      "# Packages\n",
      "         python: 3.7.6\n",
      "       gluonnlp: 0.9.1\n",
      "        gluonts: 0.5.0\n",
      "         joblib: 0.15.1\n",
      "          mxnet: 1.6.0\n",
      "          numpy: 1.17.5\n",
      "         pandas: 1.0.3\n",
      "        pyarrow: 0.17.1\n",
      "          scipy: 1.4.1\n",
      "        seaborn: 0.10.1\n",
      "        sklearn: 0.23.1\n",
      "    statsmodels: 0.11.1\n",
      "# Last commits:\n",
      "  * e5fe855f mongolianjesus PTask2542: Fix typo                                            ( 2 minutes ago) Fri May 29 12:23:18 2020  (HEAD -> PTask2542_misaligned_kibot_cme_mapping, origin/PTask2542_misaligned_kibot_cme_mapping)\n",
      "  * 48fe009e mongolianjesus PTask2542: Rename function                                     ( 2 minutes ago) Fri May 29 12:22:38 2020           \n",
      "  * dfb5b4ec mongolianjesus PTask2542: Fix formatting                                      (41 minutes ago) Fri May 29 11:43:55 2020           \n"
     ]
    }
   ],
   "source": [
    "dbg.init_logger(verbosity=logging.INFO)\n",
    "\n",
    "_LOG = logging.getLogger(__name__)\n",
    "\n",
    "_LOG.info(\"%s\", env.get_system_signature()[0])\n",
    "\n",
    "prnt.config_notebook()"
   ]
  },
  {
   "cell_type": "markdown",
   "metadata": {},
   "source": [
    "## Functions"
   ]
  },
  {
   "cell_type": "code",
   "execution_count": 3,
   "metadata": {},
   "outputs": [],
   "source": [
    "def _get_kibot_exchange_group(exchange_name: str) -> str:\n",
    "    \"\"\"\n",
    "    Get exchange group based on exchange name.\n",
    "    \"\"\"\n",
    "    if exchange_name == \"ICE\":\n",
    "        exchange_group = \"ICE\"\n",
    "    else:\n",
    "        exchange_group = \"CME\"\n",
    "    return exchange_group\n",
    "\n",
    "def generate_kibot_to_exchange_mapping() -> pd.DataFrame:\n",
    "    \"\"\"\n",
    "    Load the Kibot-to-exchange mapping table and save as .csv file.\n",
    "\n",
    "    The mapping is based on the following spreadsheet:\n",
    "    https://docs.google.com/spreadsheets/d/1X1brCCTDtkKCegnX9fn-TN8PZXGhuPyrdMAsznLgzx4/edit#gid=1571752038  # pylint: disable=line-too-long\n",
    "\n",
    "    The following columns are present:\n",
    "         - \"Exchange_group\" for high-level exchanges' group\n",
    "         - \"Exchange_abbreviation\" for exchange abbreviation\n",
    "         - \"Exchange_symbol\" for contract designation in given exchange\n",
    "\n",
    "    :return: Kibot-exchange mapping table.\n",
    "    \"\"\"\n",
    "    # Load the spreadsheet with manual mapping.\n",
    "    spreadsheet = gspread_pandas.spread.Spread(\n",
    "        \"PTask1788 - Map Kibot to CME\", sheet=\"exchange_mapping_csv\"\n",
    "    )\n",
    "    mapping_df = spreadsheet.sheet_to_df()\n",
    "    # Use default exchange symbol from CME/Kibot metadata or its manual correction.\n",
    "    mapping_df.loc[\n",
    "        mapping_df[\"Exchange_symbol\"] == \"\", \"Exchange_symbol\"\n",
    "    ] = mapping_df[\"Globex\"]\n",
    "    # Use default exchange abbreviation from CME/Kibot metadata or its correction.\n",
    "    mapping_df.loc[\n",
    "        mapping_df[\"Exchange_abbreviation\"] == \"\", \"Exchange_abbreviation\"\n",
    "    ] = mapping_df[\"Exchange_CME\"]\n",
    "    # Assign exchange group.\n",
    "    mapping_df[\"Exchange_group\"] = mapping_df[\"Exchange_abbreviation\"].apply(\n",
    "        _get_kibot_exchange_group\n",
    "    )\n",
    "    # Subset only correct mapping columns.\n",
    "    mapping_df = mapping_df[\n",
    "        [\"Exchange_group\", \"Exchange_abbreviation\", \"Exchange_symbol\"]\n",
    "    ]\n",
    "    # Save the mapping table.\n",
    "    mapping_df.to_csv(kdut.get_kibot_exchange_mapping_path())\n",
    "    return mapping_df"
   ]
  },
  {
   "cell_type": "markdown",
   "metadata": {},
   "source": [
    "## Generate mapping"
   ]
  },
  {
   "cell_type": "code",
   "execution_count": 5,
   "metadata": {},
   "outputs": [],
   "source": [
    "if False:\n",
    "    generate_kibot_to_exchange_mapping()"
   ]
  }
 ],
 "metadata": {
  "kernelspec": {
   "display_name": "Python [conda env:.conda-develop] *",
   "language": "python",
   "name": "conda-env-.conda-develop-py"
  },
  "language_info": {
   "codemirror_mode": {
    "name": "ipython",
    "version": 3
   },
   "file_extension": ".py",
   "mimetype": "text/x-python",
   "name": "python",
   "nbconvert_exporter": "python",
   "pygments_lexer": "ipython3",
   "version": "3.7.6"
  },
  "toc": {
   "base_numbering": 1,
   "nav_menu": {},
   "number_sections": true,
   "sideBar": true,
   "skip_h1_title": false,
   "title_cell": "Table of Contents",
   "title_sidebar": "Contents",
   "toc_cell": false,
   "toc_position": {},
   "toc_section_display": true,
   "toc_window_display": false
  }
 },
 "nbformat": 4,
 "nbformat_minor": 4
}
