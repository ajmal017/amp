{
 "cells": [
  {
   "cell_type": "code",
   "execution_count": null,
   "metadata": {},
   "outputs": [],
   "source": [
    "%load_ext autoreload\n",
    "%autoreload 2"
   ]
  },
  {
   "cell_type": "code",
   "execution_count": null,
   "metadata": {},
   "outputs": [],
   "source": [
    "import os\n",
    "import platform"
   ]
  },
  {
   "cell_type": "code",
   "execution_count": null,
   "metadata": {},
   "outputs": [],
   "source": [
    "import boto3"
   ]
  },
  {
   "cell_type": "code",
   "execution_count": null,
   "metadata": {},
   "outputs": [],
   "source": [
    "import bs4\n",
    "import matplotlib\n",
    "\n",
    "# TODO(gp): Create conda package.\n",
    "import numpy as np\n",
    "import pandas as pd\n",
    "import scipy\n",
    "import seaborn as sns\n",
    "import sklearn"
   ]
  },
  {
   "cell_type": "code",
   "execution_count": null,
   "metadata": {},
   "outputs": [],
   "source": [
    "import helpers.io_ as io_\n",
    "import helpers.printing as print_\n",
    "import helpers.s3 as hs3\n",
    "\n",
    "print(\"python=\", platform.python_version())\n",
    "\n",
    "print(\"numpy=\", np.__version__)\n",
    "print(\"pandas=\", pd.__version__)\n",
    "print(\"seaborn=\", sns.__version__)\n",
    "print(\"scipy=\", scipy.__version__)\n",
    "print(\"matplotlib=\", matplotlib.__version__)\n",
    "print(\"sklearn=\", sklearn.__version__)\n",
    "\n",
    "\n",
    "print_.config_notebook()\n",
    "\n",
    "\n",
    "s3_resource = boto3.resource(\"s3\")"
   ]
  },
  {
   "cell_type": "markdown",
   "metadata": {},
   "source": [
    "Below is the list of all products you have ordered so far:\n",
    "\n",
    "1. All Futures Continuous Contracts tick on 3/21/2019       Download...\n",
    "2. All Futures Continuous Contracts 1min on 3/21/2019       Download...\n",
    "3. All Futures Continuous Contracts daily on 3/21/2019       Download...\n",
    "4. All Futures Contracts 1min on 7/20/2018       Download...\n",
    "5. All Futures Contracts daily on 7/20/2018       Download..."
   ]
  },
  {
   "cell_type": "markdown",
   "metadata": {},
   "source": [
    "# Get list of links to download."
   ]
  },
  {
   "cell_type": "code",
   "execution_count": 6,
   "metadata": {
    "ExecuteTime": {
     "end_time": "2019-07-20T12:22:11.693691Z",
     "start_time": "2019-07-20T12:22:11.648779Z"
    }
   },
   "outputs": [],
   "source": [
    "if False:\n",
    "    #!wget http://www.kibot.com/downloadtext.aspx?product=1,All_Futures_Contracts_daily -O All_Futures_Contracts_daily.txt\n",
    "    pass"
   ]
  },
  {
   "cell_type": "code",
   "execution_count": null,
   "metadata": {},
   "outputs": [],
   "source": [
    "# wget 'http://api.kibot.com/?action=download&link=v8v5vuv9vdv43kvmv9vnvuvdvbpkkrvupkvavs3kvzvtvuvtvbvsvnkrvtv4v8v2vjvtvnvuvsv23kk1krvnpkvcvrvdv13k3m363zkcknkrv9v4vuvsvbvlv8v13kv2v8v9v1pkkrvnvuv8vbvuv2v8vuvs3kkckikckikcktktk1krv2v9vbvsv5vu3kkckrv8vuvuv8v5vmvcvsv4vu3kkckrvbvsv7vtv1v8vbvnvsvnvnv9vdv43kk1krvtvnvsvb3kv8vrvsv43pv5vdvcv5v8vnvukjv4vsvukrvav8vnvnv6vdvbv23kvsvzvsk4vsvbvsv7vaaiamal7n7r7n7v' --compression=gzip -qO- | gzip >test.csv.gz"
   ]
  },
  {
   "cell_type": "code",
   "execution_count": null,
   "metadata": {},
   "outputs": [],
   "source": [
    "# Need to save from the browser because of auth issues.\n",
    "# tag = \"All_Futures_Contracts_1min\"\n",
    "tag = \"All_Futures_Contracts_Daily\"\n",
    "# All_Futures_Continuous_Contracts_1min.html\n",
    "# All_Futures_Continuous_Contracts_daily.html\n",
    "# All_Futures_Continuous_Contracts_tick.html\n",
    "\n",
    "filename = tag + \".html\"\n",
    "html = io_.from_file(filename)"
   ]
  },
  {
   "cell_type": "code",
   "execution_count": 113,
   "metadata": {
    "ExecuteTime": {
     "end_time": "2019-07-21T09:18:15.448712Z",
     "start_time": "2019-07-21T09:18:02.319907Z"
    },
    "scrolled": false
   },
   "outputs": [],
   "source": [
    "soup = bs4.BeautifulSoup(html, \"html.parser\")\n",
    "\n",
    "tables = soup.findAll(\"table\")\n",
    "print(len(tables))\n",
    "\n",
    "for table in tables:\n",
    "    if table.findParent(\"table\") is None:\n",
    "        # print(str(table[:10])))\n",
    "        # print(table)\n",
    "        # from IPython.core.display import display, HTML\n",
    "        # display(HTML(str(table)))\n",
    "        if table.get(\"class\", \"\") == [\"ms-classic4-main\"]:\n",
    "            print(\"Found\")\n",
    "            df = pd.read_html(str(table))[0]\n",
    "            df.columns = df.iloc[0]\n",
    "            df = df.iloc[1:]\n",
    "            cols = [\n",
    "                np.where(tag.has_attr(\"href\"), tag.get(\"href\"), \"no link\")\n",
    "                for tag in table.find_all(\"a\")\n",
    "            ]\n",
    "            df[\"Link\"] = [str(c) for c in cols]"
   ]
  },
  {
   "cell_type": "code",
   "execution_count": 115,
   "metadata": {
    "ExecuteTime": {
     "end_time": "2019-07-21T09:18:22.547918Z",
     "start_time": "2019-07-21T09:18:22.461954Z"
    }
   },
   "outputs": [
    {
     "data": {
      "text/html": [
       "<div>\n",
       "<style scoped>\n",
       "    .dataframe tbody tr th:only-of-type {\n",
       "        vertical-align: middle;\n",
       "    }\n",
       "\n",
       "    .dataframe tbody tr th {\n",
       "        vertical-align: top;\n",
       "    }\n",
       "\n",
       "    .dataframe thead th {\n",
       "        text-align: right;\n",
       "    }\n",
       "</style>\n",
       "<table border=\"1\" class=\"dataframe\">\n",
       "  <thead>\n",
       "    <tr style=\"text-align: right;\">\n",
       "      <th></th>\n",
       "      <th>#</th>\n",
       "      <th>Symbol</th>\n",
       "      <th>Link</th>\n",
       "      <th>Description</th>\n",
       "    </tr>\n",
       "  </thead>\n",
       "  <tbody>\n",
       "    <tr>\n",
       "      <th>1</th>\n",
       "      <td>1</td>\n",
       "      <td>JY</td>\n",
       "      <td>http://api.kibot.com/?action=download&amp;link=151...</td>\n",
       "      <td>CONTINUOUS JAPANESE YEN CONTRACT</td>\n",
       "    </tr>\n",
       "    <tr>\n",
       "      <th>2</th>\n",
       "      <td>2</td>\n",
       "      <td>JYF18</td>\n",
       "      <td>http://api.kibot.com/?action=download&amp;link=vrv...</td>\n",
       "      <td>JAPANESE YEN JANUARY 2018</td>\n",
       "    </tr>\n",
       "    <tr>\n",
       "      <th>3</th>\n",
       "      <td>3</td>\n",
       "      <td>JYF19</td>\n",
       "      <td>http://api.kibot.com/?action=download&amp;link=8r8...</td>\n",
       "      <td>JAPANESE YEN JANUARY 2019</td>\n",
       "    </tr>\n",
       "    <tr>\n",
       "      <th>4</th>\n",
       "      <td>4</td>\n",
       "      <td>JYG18</td>\n",
       "      <td>http://api.kibot.com/?action=download&amp;link=vrv...</td>\n",
       "      <td>JAPANESE YEN FEBRUARY 2018</td>\n",
       "    </tr>\n",
       "    <tr>\n",
       "      <th>5</th>\n",
       "      <td>5</td>\n",
       "      <td>JYG19</td>\n",
       "      <td>http://api.kibot.com/?action=download&amp;link=8r8...</td>\n",
       "      <td>JAPANESE YEN FEBRUARY 2019</td>\n",
       "    </tr>\n",
       "  </tbody>\n",
       "</table>\n",
       "</div>"
      ],
      "text/plain": [
       "0  # Symbol                                               Link                       Description\n",
       "1  1     JY  http://api.kibot.com/?action=download&link=151...  CONTINUOUS JAPANESE YEN CONTRACT\n",
       "2  2  JYF18  http://api.kibot.com/?action=download&link=vrv...         JAPANESE YEN JANUARY 2018\n",
       "3  3  JYF19  http://api.kibot.com/?action=download&link=8r8...         JAPANESE YEN JANUARY 2019\n",
       "4  4  JYG18  http://api.kibot.com/?action=download&link=vrv...        JAPANESE YEN FEBRUARY 2018\n",
       "5  5  JYG19  http://api.kibot.com/?action=download&link=8r8...        JAPANESE YEN FEBRUARY 2019"
      ]
     },
     "execution_count": 115,
     "metadata": {},
     "output_type": "execute_result"
    }
   ],
   "source": [
    "df.head()"
   ]
  },
  {
   "cell_type": "code",
   "execution_count": 110,
   "metadata": {
    "ExecuteTime": {
     "end_time": "2019-07-20T17:24:51.919285Z",
     "start_time": "2019-07-20T17:24:51.709545Z"
    }
   },
   "outputs": [],
   "source": [
    "df.to_csv(tag + \".csv\")"
   ]
  },
  {
   "cell_type": "code",
   "execution_count": null,
   "metadata": {},
   "outputs": [],
   "source": [
    "df.iloc[0][\"links\"]\n",
    "\n",
    "file_name = os.path.join(\n",
    "    hs3.get_path(), \"kibot/All_Futures_Contracts_daily/JY.csv.gz\"\n",
    ")"
   ]
  },
  {
   "cell_type": "markdown",
   "metadata": {},
   "source": [
    "# Download"
   ]
  },
  {
   "cell_type": "code",
   "execution_count": null,
   "metadata": {},
   "outputs": [],
   "source": [
    "assert 0"
   ]
  }
 ],
 "metadata": {
  "jupytext": {
   "formats": "ipynb,py:percent"
  },
  "kernelspec": {
   "display_name": "Python [conda env:develop] *",
   "language": "python",
   "name": "conda-env-develop-py"
  },
  "language_info": {
   "codemirror_mode": {
    "name": "ipython",
    "version": 3
   },
   "file_extension": ".py",
   "mimetype": "text/x-python",
   "name": "python",
   "nbconvert_exporter": "python",
   "pygments_lexer": "ipython3",
   "version": "3.7.1"
  },
  "toc": {
   "base_numbering": 1,
   "nav_menu": {},
   "number_sections": true,
   "sideBar": true,
   "skip_h1_title": false,
   "title_cell": "Table of Contents",
   "title_sidebar": "Contents",
   "toc_cell": false,
   "toc_position": {},
   "toc_section_display": true,
   "toc_window_display": false
  }
 },
 "nbformat": 4,
 "nbformat_minor": 2
}
