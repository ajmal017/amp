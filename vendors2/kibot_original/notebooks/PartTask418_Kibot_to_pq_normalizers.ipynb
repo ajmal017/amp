{
 "cells": [
  {
   "cell_type": "markdown",
   "metadata": {},
   "source": [
    "## Import"
   ]
  },
  {
   "cell_type": "code",
   "execution_count": 1,
   "metadata": {
    "ExecuteTime": {
     "end_time": "2019-10-28T16:22:20.583157Z",
     "start_time": "2019-10-28T16:22:19.803125Z"
    }
   },
   "outputs": [],
   "source": [
    "%load_ext autoreload\n",
    "%autoreload 2\n",
    "\n",
    "import logging\n",
    "import os\n",
    "\n",
    "import boto3\n",
    "import pandas as pd\n",
    "\n",
    "import helpers.dbg as dbg\n",
    "import helpers.env as env\n",
    "import helpers.printing as pri\n",
    "import helpers.s3 as hs3\n",
    "import vendors2.kibot.utils as kut"
   ]
  },
  {
   "cell_type": "code",
   "execution_count": 2,
   "metadata": {
    "ExecuteTime": {
     "end_time": "2019-10-28T16:22:22.323794Z",
     "start_time": "2019-10-28T16:22:21.967934Z"
    }
   },
   "outputs": [
    {
     "name": "stdout",
     "output_type": "stream",
     "text": [
      "# Packages\n",
      "         python: 3.7.3\n",
      "         joblib: 0.14.0\n",
      "          numpy: 1.17.2\n",
      "         pandas: 0.25.1\n",
      "        pyarrow: 0.15.0\n",
      "          scipy: 1.3.1\n",
      "        seaborn: 0.9.0\n",
      "        sklearn: 0.21.3\n",
      "    statsmodels: 0.10.1\n",
      "# Last commits:\n",
      "  * 2fad760 Julia    PTask418: Add support for converting `All_Futures_Contracts_daily`, use hs3.listdir(), rename index to `datetime` (33 minutes ago) Mon Oct 28 15:49:52 2019  (HEAD -> PTask418_PRICE_Convert_Kibot_data_from_csv.gz_to_Parquet, origin/PTask418_PRICE_Convert_Kibot_data_from_csv.gz_to_Parquet)\n",
      "  * b1befea Julia    PTask418: Add is_s3_path() function, add comments, add assertions (35 minutes ago) Mon Oct 28 15:46:54 2019           \n",
      "  * c02da12 Julia    PTask418: Fix modes switching places                           (    5 days ago) Wed Oct 23 14:55:55 2019           \n",
      "\u001b[0mWARNING: Running in Jupyter\n"
     ]
    }
   ],
   "source": [
    "print(env.get_system_signature())\n",
    "\n",
    "pri.config_notebook()\n",
    "\n",
    "# dbg.init_logger(verbosity=logging.DEBUG)\n",
    "dbg.init_logger(verbosity=logging.INFO)\n",
    "# dbg.test_logger()\n",
    "\n",
    "_LOG = logging.getLogger(__name__)"
   ]
  },
  {
   "cell_type": "markdown",
   "metadata": {},
   "source": [
    "# List s3 files"
   ]
  },
  {
   "cell_type": "code",
   "execution_count": 5,
   "metadata": {
    "ExecuteTime": {
     "end_time": "2019-10-21T13:46:10.125948Z",
     "start_time": "2019-10-21T13:46:10.110239Z"
    }
   },
   "outputs": [],
   "source": [
    "# sys.maxsize is larger than Amazon's max int"
   ]
  },
  {
   "cell_type": "code",
   "execution_count": 5,
   "metadata": {
    "ExecuteTime": {
     "end_time": "2019-10-28T16:22:33.835518Z",
     "start_time": "2019-10-28T16:22:33.818948Z"
    }
   },
   "outputs": [],
   "source": [
    "s3_path = hs3.get_path()"
   ]
  },
  {
   "cell_type": "code",
   "execution_count": 7,
   "metadata": {
    "ExecuteTime": {
     "end_time": "2019-10-28T16:23:22.435785Z",
     "start_time": "2019-10-28T16:23:22.416072Z"
    }
   },
   "outputs": [
    {
     "data": {
      "text/plain": [
       "'s3://default00-bucket/kibot'"
      ]
     },
     "execution_count": 7,
     "metadata": {},
     "output_type": "execute_result"
    }
   ],
   "source": [
    "kibot_dir= os.path.join(s3_path, 'kibot')\n",
    "kibot_dir"
   ]
  },
  {
   "cell_type": "code",
   "execution_count": 9,
   "metadata": {
    "ExecuteTime": {
     "end_time": "2019-10-28T16:24:27.915618Z",
     "start_time": "2019-10-28T16:24:27.630346Z"
    }
   },
   "outputs": [
    {
     "data": {
      "text/plain": [
       "['All_Futures_Continuous_Contracts_1min',\n",
       " 'All_Futures_Continuous_Contracts_daily',\n",
       " 'All_Futures_Continuous_Contracts_tick',\n",
       " 'All_Futures_Contracts_1min']"
      ]
     },
     "execution_count": 9,
     "metadata": {},
     "output_type": "execute_result"
    }
   ],
   "source": [
    "subdirs = hs3.listdir(s3_kibot, mode='non-recursive')\n",
    "subdirs"
   ]
  },
  {
   "cell_type": "code",
   "execution_count": 11,
   "metadata": {
    "ExecuteTime": {
     "end_time": "2019-10-21T13:46:10.730490Z",
     "start_time": "2019-10-21T13:46:10.713327Z"
    }
   },
   "outputs": [
    {
     "data": {
      "text/plain": [
       "'s3://default00-bucket/kibot/All_Futures_Continuous_Contracts_daily'"
      ]
     },
     "execution_count": 11,
     "metadata": {},
     "output_type": "execute_result"
    }
   ],
   "source": [
    "kibot_subdir = os.path.join(kibot_dir, list(subdirs)[0])\n",
    "kibot_subdir"
   ]
  },
  {
   "cell_type": "markdown",
   "metadata": {},
   "source": [
    "# All_Futures_Continuous_Contracts_1min"
   ]
  },
  {
   "cell_type": "code",
   "execution_count": 12,
   "metadata": {
    "ExecuteTime": {
     "end_time": "2019-10-21T13:46:10.765267Z",
     "start_time": "2019-10-21T13:46:10.731957Z"
    }
   },
   "outputs": [
    {
     "name": "stdout",
     "output_type": "stream",
     "text": [
      "args=('s3://default00-bucket/kibot/All_Futures_Continuous_Contracts_1min/CL.csv.gz', 10) kwargs={}\n"
     ]
    },
    {
     "data": {
      "text/html": [
       "<div>\n",
       "<style scoped>\n",
       "    .dataframe tbody tr th:only-of-type {\n",
       "        vertical-align: middle;\n",
       "    }\n",
       "\n",
       "    .dataframe tbody tr th {\n",
       "        vertical-align: top;\n",
       "    }\n",
       "\n",
       "    .dataframe thead th {\n",
       "        text-align: right;\n",
       "    }\n",
       "</style>\n",
       "<table border=\"1\" class=\"dataframe\">\n",
       "  <thead>\n",
       "    <tr style=\"text-align: right;\">\n",
       "      <th></th>\n",
       "      <th>open</th>\n",
       "      <th>high</th>\n",
       "      <th>low</th>\n",
       "      <th>close</th>\n",
       "      <th>vol</th>\n",
       "      <th>time</th>\n",
       "    </tr>\n",
       "    <tr>\n",
       "      <th>datetime</th>\n",
       "      <th></th>\n",
       "      <th></th>\n",
       "      <th></th>\n",
       "      <th></th>\n",
       "      <th></th>\n",
       "      <th></th>\n",
       "    </tr>\n",
       "  </thead>\n",
       "  <tbody>\n",
       "    <tr>\n",
       "      <td>2009-09-27 18:00:00</td>\n",
       "      <td>66.15</td>\n",
       "      <td>66.35</td>\n",
       "      <td>66.15</td>\n",
       "      <td>66.32</td>\n",
       "      <td>88</td>\n",
       "      <td>18:00:00</td>\n",
       "    </tr>\n",
       "    <tr>\n",
       "      <td>2009-09-27 18:01:00</td>\n",
       "      <td>66.36</td>\n",
       "      <td>66.49</td>\n",
       "      <td>66.35</td>\n",
       "      <td>66.37</td>\n",
       "      <td>124</td>\n",
       "      <td>18:01:00</td>\n",
       "    </tr>\n",
       "    <tr>\n",
       "      <td>2009-09-27 18:02:00</td>\n",
       "      <td>66.37</td>\n",
       "      <td>66.41</td>\n",
       "      <td>66.37</td>\n",
       "      <td>66.37</td>\n",
       "      <td>25</td>\n",
       "      <td>18:02:00</td>\n",
       "    </tr>\n",
       "  </tbody>\n",
       "</table>\n",
       "</div>"
      ],
      "text/plain": [
       "                      open   high    low  close  vol      time\n",
       "datetime                                                      \n",
       "2009-09-27 18:00:00  66.15  66.35  66.15  66.32   88  18:00:00\n",
       "2009-09-27 18:01:00  66.36  66.49  66.35  66.37  124  18:01:00\n",
       "2009-09-27 18:02:00  66.37  66.41  66.37  66.37   25  18:02:00"
      ]
     },
     "execution_count": 12,
     "metadata": {},
     "output_type": "execute_result"
    }
   ],
   "source": [
    "symbol = \"CL\"\n",
    "# nrows = None\n",
    "nrows = 10\n",
    "s3_path = hs3.get_path()\n",
    "file_name = os.path.join(\n",
    "    hs3.get_path(),\n",
    "    \"kibot/All_Futures_Continuous_Contracts_1min/%s.csv.gz\" % symbol,\n",
    ")\n",
    "df = kut.read_data(file_name, nrows)\n",
    "df.head(3)"
   ]
  },
  {
   "cell_type": "code",
   "execution_count": 13,
   "metadata": {
    "ExecuteTime": {
     "end_time": "2019-10-21T13:46:14.863496Z",
     "start_time": "2019-10-21T13:46:10.766692Z"
    }
   },
   "outputs": [],
   "source": [
    "df = pd.read_csv(file_name, header=None)"
   ]
  },
  {
   "cell_type": "code",
   "execution_count": 14,
   "metadata": {
    "ExecuteTime": {
     "end_time": "2019-10-21T13:46:14.892079Z",
     "start_time": "2019-10-21T13:46:14.865253Z"
    }
   },
   "outputs": [
    {
     "data": {
      "text/html": [
       "<div>\n",
       "<style scoped>\n",
       "    .dataframe tbody tr th:only-of-type {\n",
       "        vertical-align: middle;\n",
       "    }\n",
       "\n",
       "    .dataframe tbody tr th {\n",
       "        vertical-align: top;\n",
       "    }\n",
       "\n",
       "    .dataframe thead th {\n",
       "        text-align: right;\n",
       "    }\n",
       "</style>\n",
       "<table border=\"1\" class=\"dataframe\">\n",
       "  <thead>\n",
       "    <tr style=\"text-align: right;\">\n",
       "      <th></th>\n",
       "      <th>0</th>\n",
       "      <th>1</th>\n",
       "      <th>2</th>\n",
       "      <th>3</th>\n",
       "      <th>4</th>\n",
       "      <th>5</th>\n",
       "      <th>6</th>\n",
       "    </tr>\n",
       "  </thead>\n",
       "  <tbody>\n",
       "    <tr>\n",
       "      <td>0</td>\n",
       "      <td>09/27/2009</td>\n",
       "      <td>18:00</td>\n",
       "      <td>66.15</td>\n",
       "      <td>66.35</td>\n",
       "      <td>66.15</td>\n",
       "      <td>66.32</td>\n",
       "      <td>88</td>\n",
       "    </tr>\n",
       "    <tr>\n",
       "      <td>1</td>\n",
       "      <td>09/27/2009</td>\n",
       "      <td>18:01</td>\n",
       "      <td>66.36</td>\n",
       "      <td>66.49</td>\n",
       "      <td>66.35</td>\n",
       "      <td>66.37</td>\n",
       "      <td>124</td>\n",
       "    </tr>\n",
       "    <tr>\n",
       "      <td>2</td>\n",
       "      <td>09/27/2009</td>\n",
       "      <td>18:02</td>\n",
       "      <td>66.37</td>\n",
       "      <td>66.41</td>\n",
       "      <td>66.37</td>\n",
       "      <td>66.37</td>\n",
       "      <td>25</td>\n",
       "    </tr>\n",
       "    <tr>\n",
       "      <td>3</td>\n",
       "      <td>09/27/2009</td>\n",
       "      <td>18:03</td>\n",
       "      <td>66.37</td>\n",
       "      <td>66.42</td>\n",
       "      <td>66.37</td>\n",
       "      <td>66.42</td>\n",
       "      <td>33</td>\n",
       "    </tr>\n",
       "    <tr>\n",
       "      <td>4</td>\n",
       "      <td>09/27/2009</td>\n",
       "      <td>18:04</td>\n",
       "      <td>66.39</td>\n",
       "      <td>66.46</td>\n",
       "      <td>66.39</td>\n",
       "      <td>66.46</td>\n",
       "      <td>14</td>\n",
       "    </tr>\n",
       "  </tbody>\n",
       "</table>\n",
       "</div>"
      ],
      "text/plain": [
       "            0      1      2      3      4      5    6\n",
       "0  09/27/2009  18:00  66.15  66.35  66.15  66.32   88\n",
       "1  09/27/2009  18:01  66.36  66.49  66.35  66.37  124\n",
       "2  09/27/2009  18:02  66.37  66.41  66.37  66.37   25\n",
       "3  09/27/2009  18:03  66.37  66.42  66.37  66.42   33\n",
       "4  09/27/2009  18:04  66.39  66.46  66.39  66.46   14"
      ]
     },
     "execution_count": 14,
     "metadata": {},
     "output_type": "execute_result"
    }
   ],
   "source": [
    "df.head()"
   ]
  },
  {
   "cell_type": "code",
   "execution_count": 15,
   "metadata": {
    "ExecuteTime": {
     "end_time": "2019-10-21T13:46:27.643903Z",
     "start_time": "2019-10-21T13:46:14.893603Z"
    },
    "scrolled": true
   },
   "outputs": [],
   "source": [
    "df[0] = pd.to_datetime(df[0] + \" \" + df[1], format=\"%m/%d/%Y %H:%M\")"
   ]
  },
  {
   "cell_type": "code",
   "execution_count": 16,
   "metadata": {
    "ExecuteTime": {
     "end_time": "2019-10-21T13:46:27.734287Z",
     "start_time": "2019-10-21T13:46:27.645520Z"
    }
   },
   "outputs": [],
   "source": [
    "df.drop(columns=[1], inplace=True)"
   ]
  },
  {
   "cell_type": "code",
   "execution_count": 17,
   "metadata": {
    "ExecuteTime": {
     "end_time": "2019-10-21T13:46:27.760897Z",
     "start_time": "2019-10-21T13:46:27.735847Z"
    }
   },
   "outputs": [
    {
     "data": {
      "text/html": [
       "<div>\n",
       "<style scoped>\n",
       "    .dataframe tbody tr th:only-of-type {\n",
       "        vertical-align: middle;\n",
       "    }\n",
       "\n",
       "    .dataframe tbody tr th {\n",
       "        vertical-align: top;\n",
       "    }\n",
       "\n",
       "    .dataframe thead th {\n",
       "        text-align: right;\n",
       "    }\n",
       "</style>\n",
       "<table border=\"1\" class=\"dataframe\">\n",
       "  <thead>\n",
       "    <tr style=\"text-align: right;\">\n",
       "      <th></th>\n",
       "      <th>0</th>\n",
       "      <th>2</th>\n",
       "      <th>3</th>\n",
       "      <th>4</th>\n",
       "      <th>5</th>\n",
       "      <th>6</th>\n",
       "    </tr>\n",
       "  </thead>\n",
       "  <tbody>\n",
       "    <tr>\n",
       "      <td>0</td>\n",
       "      <td>2009-09-27 18:00:00</td>\n",
       "      <td>66.15</td>\n",
       "      <td>66.35</td>\n",
       "      <td>66.15</td>\n",
       "      <td>66.32</td>\n",
       "      <td>88</td>\n",
       "    </tr>\n",
       "    <tr>\n",
       "      <td>1</td>\n",
       "      <td>2009-09-27 18:01:00</td>\n",
       "      <td>66.36</td>\n",
       "      <td>66.49</td>\n",
       "      <td>66.35</td>\n",
       "      <td>66.37</td>\n",
       "      <td>124</td>\n",
       "    </tr>\n",
       "    <tr>\n",
       "      <td>2</td>\n",
       "      <td>2009-09-27 18:02:00</td>\n",
       "      <td>66.37</td>\n",
       "      <td>66.41</td>\n",
       "      <td>66.37</td>\n",
       "      <td>66.37</td>\n",
       "      <td>25</td>\n",
       "    </tr>\n",
       "    <tr>\n",
       "      <td>3</td>\n",
       "      <td>2009-09-27 18:03:00</td>\n",
       "      <td>66.37</td>\n",
       "      <td>66.42</td>\n",
       "      <td>66.37</td>\n",
       "      <td>66.42</td>\n",
       "      <td>33</td>\n",
       "    </tr>\n",
       "    <tr>\n",
       "      <td>4</td>\n",
       "      <td>2009-09-27 18:04:00</td>\n",
       "      <td>66.39</td>\n",
       "      <td>66.46</td>\n",
       "      <td>66.39</td>\n",
       "      <td>66.46</td>\n",
       "      <td>14</td>\n",
       "    </tr>\n",
       "  </tbody>\n",
       "</table>\n",
       "</div>"
      ],
      "text/plain": [
       "                    0      2      3      4      5    6\n",
       "0 2009-09-27 18:00:00  66.15  66.35  66.15  66.32   88\n",
       "1 2009-09-27 18:01:00  66.36  66.49  66.35  66.37  124\n",
       "2 2009-09-27 18:02:00  66.37  66.41  66.37  66.37   25\n",
       "3 2009-09-27 18:03:00  66.37  66.42  66.37  66.42   33\n",
       "4 2009-09-27 18:04:00  66.39  66.46  66.39  66.46   14"
      ]
     },
     "execution_count": 17,
     "metadata": {},
     "output_type": "execute_result"
    }
   ],
   "source": [
    "df.head()"
   ]
  },
  {
   "cell_type": "code",
   "execution_count": 18,
   "metadata": {
    "ExecuteTime": {
     "end_time": "2019-10-21T13:46:33.033448Z",
     "start_time": "2019-10-21T13:46:27.762610Z"
    }
   },
   "outputs": [],
   "source": [
    "df.columns = \"datetime open high low close vol\".split()\n",
    "df.set_index(\"datetime\", drop=True, inplace=True)\n",
    "_LOG.debug(\"Add columns\")\n",
    "df[\"time\"] = [d.time() for d in df.index]"
   ]
  },
  {
   "cell_type": "code",
   "execution_count": 19,
   "metadata": {
    "ExecuteTime": {
     "end_time": "2019-10-21T13:46:33.060538Z",
     "start_time": "2019-10-21T13:46:33.035044Z"
    }
   },
   "outputs": [
    {
     "data": {
      "text/html": [
       "<div>\n",
       "<style scoped>\n",
       "    .dataframe tbody tr th:only-of-type {\n",
       "        vertical-align: middle;\n",
       "    }\n",
       "\n",
       "    .dataframe tbody tr th {\n",
       "        vertical-align: top;\n",
       "    }\n",
       "\n",
       "    .dataframe thead th {\n",
       "        text-align: right;\n",
       "    }\n",
       "</style>\n",
       "<table border=\"1\" class=\"dataframe\">\n",
       "  <thead>\n",
       "    <tr style=\"text-align: right;\">\n",
       "      <th></th>\n",
       "      <th>open</th>\n",
       "      <th>high</th>\n",
       "      <th>low</th>\n",
       "      <th>close</th>\n",
       "      <th>vol</th>\n",
       "      <th>time</th>\n",
       "    </tr>\n",
       "    <tr>\n",
       "      <th>datetime</th>\n",
       "      <th></th>\n",
       "      <th></th>\n",
       "      <th></th>\n",
       "      <th></th>\n",
       "      <th></th>\n",
       "      <th></th>\n",
       "    </tr>\n",
       "  </thead>\n",
       "  <tbody>\n",
       "    <tr>\n",
       "      <td>2009-09-27 18:00:00</td>\n",
       "      <td>66.15</td>\n",
       "      <td>66.35</td>\n",
       "      <td>66.15</td>\n",
       "      <td>66.32</td>\n",
       "      <td>88</td>\n",
       "      <td>18:00:00</td>\n",
       "    </tr>\n",
       "    <tr>\n",
       "      <td>2009-09-27 18:01:00</td>\n",
       "      <td>66.36</td>\n",
       "      <td>66.49</td>\n",
       "      <td>66.35</td>\n",
       "      <td>66.37</td>\n",
       "      <td>124</td>\n",
       "      <td>18:01:00</td>\n",
       "    </tr>\n",
       "    <tr>\n",
       "      <td>2009-09-27 18:02:00</td>\n",
       "      <td>66.37</td>\n",
       "      <td>66.41</td>\n",
       "      <td>66.37</td>\n",
       "      <td>66.37</td>\n",
       "      <td>25</td>\n",
       "      <td>18:02:00</td>\n",
       "    </tr>\n",
       "    <tr>\n",
       "      <td>2009-09-27 18:03:00</td>\n",
       "      <td>66.37</td>\n",
       "      <td>66.42</td>\n",
       "      <td>66.37</td>\n",
       "      <td>66.42</td>\n",
       "      <td>33</td>\n",
       "      <td>18:03:00</td>\n",
       "    </tr>\n",
       "    <tr>\n",
       "      <td>2009-09-27 18:04:00</td>\n",
       "      <td>66.39</td>\n",
       "      <td>66.46</td>\n",
       "      <td>66.39</td>\n",
       "      <td>66.46</td>\n",
       "      <td>14</td>\n",
       "      <td>18:04:00</td>\n",
       "    </tr>\n",
       "  </tbody>\n",
       "</table>\n",
       "</div>"
      ],
      "text/plain": [
       "                      open   high    low  close  vol      time\n",
       "datetime                                                      \n",
       "2009-09-27 18:00:00  66.15  66.35  66.15  66.32   88  18:00:00\n",
       "2009-09-27 18:01:00  66.36  66.49  66.35  66.37  124  18:01:00\n",
       "2009-09-27 18:02:00  66.37  66.41  66.37  66.37   25  18:02:00\n",
       "2009-09-27 18:03:00  66.37  66.42  66.37  66.42   33  18:03:00\n",
       "2009-09-27 18:04:00  66.39  66.46  66.39  66.46   14  18:04:00"
      ]
     },
     "execution_count": 19,
     "metadata": {},
     "output_type": "execute_result"
    }
   ],
   "source": [
    "df.head()"
   ]
  },
  {
   "cell_type": "markdown",
   "metadata": {},
   "source": [
    "# All_Futures_Continuous_Contracts_daily"
   ]
  },
  {
   "cell_type": "code",
   "execution_count": 20,
   "metadata": {
    "ExecuteTime": {
     "end_time": "2019-10-21T13:46:33.090195Z",
     "start_time": "2019-10-21T13:46:33.062075Z"
    }
   },
   "outputs": [
    {
     "name": "stdout",
     "output_type": "stream",
     "text": [
      "args=('s3://default00-bucket/kibot/All_Futures_Continuous_Contracts_daily/CL.csv.gz', 10) kwargs={}\n"
     ]
    },
    {
     "data": {
      "text/html": [
       "<div>\n",
       "<style scoped>\n",
       "    .dataframe tbody tr th:only-of-type {\n",
       "        vertical-align: middle;\n",
       "    }\n",
       "\n",
       "    .dataframe tbody tr th {\n",
       "        vertical-align: top;\n",
       "    }\n",
       "\n",
       "    .dataframe thead th {\n",
       "        text-align: right;\n",
       "    }\n",
       "</style>\n",
       "<table border=\"1\" class=\"dataframe\">\n",
       "  <thead>\n",
       "    <tr style=\"text-align: right;\">\n",
       "      <th></th>\n",
       "      <th>open</th>\n",
       "      <th>high</th>\n",
       "      <th>low</th>\n",
       "      <th>close</th>\n",
       "      <th>vol</th>\n",
       "    </tr>\n",
       "    <tr>\n",
       "      <th>date</th>\n",
       "      <th></th>\n",
       "      <th></th>\n",
       "      <th></th>\n",
       "      <th></th>\n",
       "      <th></th>\n",
       "    </tr>\n",
       "  </thead>\n",
       "  <tbody>\n",
       "    <tr>\n",
       "      <td>1996-08-16</td>\n",
       "      <td>21.46</td>\n",
       "      <td>22.10</td>\n",
       "      <td>21.34</td>\n",
       "      <td>22.05</td>\n",
       "      <td>28704</td>\n",
       "    </tr>\n",
       "    <tr>\n",
       "      <td>1996-08-19</td>\n",
       "      <td>21.91</td>\n",
       "      <td>22.57</td>\n",
       "      <td>21.91</td>\n",
       "      <td>22.47</td>\n",
       "      <td>41736</td>\n",
       "    </tr>\n",
       "    <tr>\n",
       "      <td>1996-08-20</td>\n",
       "      <td>22.41</td>\n",
       "      <td>22.43</td>\n",
       "      <td>22.10</td>\n",
       "      <td>22.11</td>\n",
       "      <td>38759</td>\n",
       "    </tr>\n",
       "  </tbody>\n",
       "</table>\n",
       "</div>"
      ],
      "text/plain": [
       "             open   high    low  close    vol\n",
       "date                                         \n",
       "1996-08-16  21.46  22.10  21.34  22.05  28704\n",
       "1996-08-19  21.91  22.57  21.91  22.47  41736\n",
       "1996-08-20  22.41  22.43  22.10  22.11  38759"
      ]
     },
     "execution_count": 20,
     "metadata": {},
     "output_type": "execute_result"
    }
   ],
   "source": [
    "symbol = \"CL\"\n",
    "# nrows = None\n",
    "nrows = 10\n",
    "s3_path = hs3.get_path()\n",
    "file_name = os.path.join(\n",
    "    hs3.get_path(),\n",
    "    \"kibot/All_Futures_Continuous_Contracts_daily/%s.csv.gz\" % symbol,\n",
    ")\n",
    "df = kut.read_data(file_name, nrows)\n",
    "df.head(3)"
   ]
  },
  {
   "cell_type": "code",
   "execution_count": 21,
   "metadata": {
    "ExecuteTime": {
     "end_time": "2019-10-21T13:46:33.329842Z",
     "start_time": "2019-10-21T13:46:33.091748Z"
    }
   },
   "outputs": [],
   "source": [
    "df = pd.read_csv(file_name, header=None)"
   ]
  },
  {
   "cell_type": "code",
   "execution_count": 22,
   "metadata": {
    "ExecuteTime": {
     "end_time": "2019-10-21T13:46:33.356046Z",
     "start_time": "2019-10-21T13:46:33.331349Z"
    }
   },
   "outputs": [
    {
     "data": {
      "text/html": [
       "<div>\n",
       "<style scoped>\n",
       "    .dataframe tbody tr th:only-of-type {\n",
       "        vertical-align: middle;\n",
       "    }\n",
       "\n",
       "    .dataframe tbody tr th {\n",
       "        vertical-align: top;\n",
       "    }\n",
       "\n",
       "    .dataframe thead th {\n",
       "        text-align: right;\n",
       "    }\n",
       "</style>\n",
       "<table border=\"1\" class=\"dataframe\">\n",
       "  <thead>\n",
       "    <tr style=\"text-align: right;\">\n",
       "      <th></th>\n",
       "      <th>0</th>\n",
       "      <th>1</th>\n",
       "      <th>2</th>\n",
       "      <th>3</th>\n",
       "      <th>4</th>\n",
       "      <th>5</th>\n",
       "    </tr>\n",
       "  </thead>\n",
       "  <tbody>\n",
       "    <tr>\n",
       "      <td>0</td>\n",
       "      <td>08/16/1996</td>\n",
       "      <td>21.46</td>\n",
       "      <td>22.10</td>\n",
       "      <td>21.34</td>\n",
       "      <td>22.05</td>\n",
       "      <td>28704</td>\n",
       "    </tr>\n",
       "    <tr>\n",
       "      <td>1</td>\n",
       "      <td>08/19/1996</td>\n",
       "      <td>21.91</td>\n",
       "      <td>22.57</td>\n",
       "      <td>21.91</td>\n",
       "      <td>22.47</td>\n",
       "      <td>41736</td>\n",
       "    </tr>\n",
       "    <tr>\n",
       "      <td>2</td>\n",
       "      <td>08/20/1996</td>\n",
       "      <td>22.41</td>\n",
       "      <td>22.43</td>\n",
       "      <td>22.10</td>\n",
       "      <td>22.11</td>\n",
       "      <td>38759</td>\n",
       "    </tr>\n",
       "    <tr>\n",
       "      <td>3</td>\n",
       "      <td>08/21/1996</td>\n",
       "      <td>22.08</td>\n",
       "      <td>22.09</td>\n",
       "      <td>21.60</td>\n",
       "      <td>21.72</td>\n",
       "      <td>34230</td>\n",
       "    </tr>\n",
       "    <tr>\n",
       "      <td>4</td>\n",
       "      <td>08/22/1996</td>\n",
       "      <td>21.80</td>\n",
       "      <td>22.35</td>\n",
       "      <td>21.75</td>\n",
       "      <td>22.30</td>\n",
       "      <td>40269</td>\n",
       "    </tr>\n",
       "  </tbody>\n",
       "</table>\n",
       "</div>"
      ],
      "text/plain": [
       "            0      1      2      3      4      5\n",
       "0  08/16/1996  21.46  22.10  21.34  22.05  28704\n",
       "1  08/19/1996  21.91  22.57  21.91  22.47  41736\n",
       "2  08/20/1996  22.41  22.43  22.10  22.11  38759\n",
       "3  08/21/1996  22.08  22.09  21.60  21.72  34230\n",
       "4  08/22/1996  21.80  22.35  21.75  22.30  40269"
      ]
     },
     "execution_count": 22,
     "metadata": {},
     "output_type": "execute_result"
    }
   ],
   "source": [
    "df.head()"
   ]
  },
  {
   "cell_type": "code",
   "execution_count": 23,
   "metadata": {
    "ExecuteTime": {
     "end_time": "2019-10-21T13:46:33.393327Z",
     "start_time": "2019-10-21T13:46:33.357580Z"
    }
   },
   "outputs": [],
   "source": [
    "df[0] = pd.to_datetime(df[0], format=\"%m/%d/%Y\")"
   ]
  },
  {
   "cell_type": "code",
   "execution_count": 24,
   "metadata": {
    "ExecuteTime": {
     "end_time": "2019-10-21T13:46:33.413293Z",
     "start_time": "2019-10-21T13:46:33.394796Z"
    }
   },
   "outputs": [],
   "source": [
    "df.columns = \"date open high low close vol\".split()\n",
    "df.set_index(\"date\", drop=True, inplace=True)\n",
    "# TODO(GP): Should this be renamed to datetime as described\n",
    "# in kibot/utils.py L56?"
   ]
  },
  {
   "cell_type": "code",
   "execution_count": 25,
   "metadata": {
    "ExecuteTime": {
     "end_time": "2019-10-21T13:46:33.439057Z",
     "start_time": "2019-10-21T13:46:33.414977Z"
    }
   },
   "outputs": [
    {
     "data": {
      "text/html": [
       "<div>\n",
       "<style scoped>\n",
       "    .dataframe tbody tr th:only-of-type {\n",
       "        vertical-align: middle;\n",
       "    }\n",
       "\n",
       "    .dataframe tbody tr th {\n",
       "        vertical-align: top;\n",
       "    }\n",
       "\n",
       "    .dataframe thead th {\n",
       "        text-align: right;\n",
       "    }\n",
       "</style>\n",
       "<table border=\"1\" class=\"dataframe\">\n",
       "  <thead>\n",
       "    <tr style=\"text-align: right;\">\n",
       "      <th></th>\n",
       "      <th>open</th>\n",
       "      <th>high</th>\n",
       "      <th>low</th>\n",
       "      <th>close</th>\n",
       "      <th>vol</th>\n",
       "    </tr>\n",
       "    <tr>\n",
       "      <th>date</th>\n",
       "      <th></th>\n",
       "      <th></th>\n",
       "      <th></th>\n",
       "      <th></th>\n",
       "      <th></th>\n",
       "    </tr>\n",
       "  </thead>\n",
       "  <tbody>\n",
       "    <tr>\n",
       "      <td>1996-08-16</td>\n",
       "      <td>21.46</td>\n",
       "      <td>22.10</td>\n",
       "      <td>21.34</td>\n",
       "      <td>22.05</td>\n",
       "      <td>28704</td>\n",
       "    </tr>\n",
       "    <tr>\n",
       "      <td>1996-08-19</td>\n",
       "      <td>21.91</td>\n",
       "      <td>22.57</td>\n",
       "      <td>21.91</td>\n",
       "      <td>22.47</td>\n",
       "      <td>41736</td>\n",
       "    </tr>\n",
       "    <tr>\n",
       "      <td>1996-08-20</td>\n",
       "      <td>22.41</td>\n",
       "      <td>22.43</td>\n",
       "      <td>22.10</td>\n",
       "      <td>22.11</td>\n",
       "      <td>38759</td>\n",
       "    </tr>\n",
       "    <tr>\n",
       "      <td>1996-08-21</td>\n",
       "      <td>22.08</td>\n",
       "      <td>22.09</td>\n",
       "      <td>21.60</td>\n",
       "      <td>21.72</td>\n",
       "      <td>34230</td>\n",
       "    </tr>\n",
       "    <tr>\n",
       "      <td>1996-08-22</td>\n",
       "      <td>21.80</td>\n",
       "      <td>22.35</td>\n",
       "      <td>21.75</td>\n",
       "      <td>22.30</td>\n",
       "      <td>40269</td>\n",
       "    </tr>\n",
       "  </tbody>\n",
       "</table>\n",
       "</div>"
      ],
      "text/plain": [
       "             open   high    low  close    vol\n",
       "date                                         \n",
       "1996-08-16  21.46  22.10  21.34  22.05  28704\n",
       "1996-08-19  21.91  22.57  21.91  22.47  41736\n",
       "1996-08-20  22.41  22.43  22.10  22.11  38759\n",
       "1996-08-21  22.08  22.09  21.60  21.72  34230\n",
       "1996-08-22  21.80  22.35  21.75  22.30  40269"
      ]
     },
     "execution_count": 25,
     "metadata": {},
     "output_type": "execute_result"
    }
   ],
   "source": [
    "df.head()"
   ]
  },
  {
   "cell_type": "markdown",
   "metadata": {},
   "source": [
    "# All_Futures_Contracts_1min"
   ]
  },
  {
   "cell_type": "code",
   "execution_count": 26,
   "metadata": {
    "ExecuteTime": {
     "end_time": "2019-10-21T13:46:33.469100Z",
     "start_time": "2019-10-21T13:46:33.440582Z"
    }
   },
   "outputs": [
    {
     "name": "stdout",
     "output_type": "stream",
     "text": [
      "args=('s3://default00-bucket/kibot/All_Futures_Contracts_1min/CL.csv.gz', 10) kwargs={}\n"
     ]
    },
    {
     "data": {
      "text/html": [
       "<div>\n",
       "<style scoped>\n",
       "    .dataframe tbody tr th:only-of-type {\n",
       "        vertical-align: middle;\n",
       "    }\n",
       "\n",
       "    .dataframe tbody tr th {\n",
       "        vertical-align: top;\n",
       "    }\n",
       "\n",
       "    .dataframe thead th {\n",
       "        text-align: right;\n",
       "    }\n",
       "</style>\n",
       "<table border=\"1\" class=\"dataframe\">\n",
       "  <thead>\n",
       "    <tr style=\"text-align: right;\">\n",
       "      <th></th>\n",
       "      <th>open</th>\n",
       "      <th>high</th>\n",
       "      <th>low</th>\n",
       "      <th>close</th>\n",
       "      <th>vol</th>\n",
       "      <th>time</th>\n",
       "    </tr>\n",
       "    <tr>\n",
       "      <th>datetime</th>\n",
       "      <th></th>\n",
       "      <th></th>\n",
       "      <th></th>\n",
       "      <th></th>\n",
       "      <th></th>\n",
       "      <th></th>\n",
       "    </tr>\n",
       "  </thead>\n",
       "  <tbody>\n",
       "    <tr>\n",
       "      <td>2009-09-27 18:00:00</td>\n",
       "      <td>66.15</td>\n",
       "      <td>66.35</td>\n",
       "      <td>66.15</td>\n",
       "      <td>66.32</td>\n",
       "      <td>88</td>\n",
       "      <td>18:00:00</td>\n",
       "    </tr>\n",
       "    <tr>\n",
       "      <td>2009-09-27 18:01:00</td>\n",
       "      <td>66.36</td>\n",
       "      <td>66.49</td>\n",
       "      <td>66.35</td>\n",
       "      <td>66.37</td>\n",
       "      <td>124</td>\n",
       "      <td>18:01:00</td>\n",
       "    </tr>\n",
       "    <tr>\n",
       "      <td>2009-09-27 18:02:00</td>\n",
       "      <td>66.37</td>\n",
       "      <td>66.41</td>\n",
       "      <td>66.37</td>\n",
       "      <td>66.37</td>\n",
       "      <td>25</td>\n",
       "      <td>18:02:00</td>\n",
       "    </tr>\n",
       "  </tbody>\n",
       "</table>\n",
       "</div>"
      ],
      "text/plain": [
       "                      open   high    low  close  vol      time\n",
       "datetime                                                      \n",
       "2009-09-27 18:00:00  66.15  66.35  66.15  66.32   88  18:00:00\n",
       "2009-09-27 18:01:00  66.36  66.49  66.35  66.37  124  18:01:00\n",
       "2009-09-27 18:02:00  66.37  66.41  66.37  66.37   25  18:02:00"
      ]
     },
     "execution_count": 26,
     "metadata": {},
     "output_type": "execute_result"
    }
   ],
   "source": [
    "symbol = \"CL\"\n",
    "nrows = 10\n",
    "s3_path = hs3.get_path()\n",
    "file_name = os.path.join(\n",
    "    hs3.get_path(), \"kibot/All_Futures_Contracts_1min/%s.csv.gz\" % symbol\n",
    ")\n",
    "df = kut.read_data(file_name, nrows)\n",
    "df.head(3)"
   ]
  },
  {
   "cell_type": "code",
   "execution_count": 27,
   "metadata": {
    "ExecuteTime": {
     "end_time": "2019-10-21T13:46:40.661331Z",
     "start_time": "2019-10-21T13:46:33.472001Z"
    }
   },
   "outputs": [],
   "source": [
    "df = pd.read_csv(file_name, header=None)"
   ]
  },
  {
   "cell_type": "code",
   "execution_count": 28,
   "metadata": {
    "ExecuteTime": {
     "end_time": "2019-10-21T13:46:40.689305Z",
     "start_time": "2019-10-21T13:46:40.663078Z"
    }
   },
   "outputs": [
    {
     "data": {
      "text/html": [
       "<div>\n",
       "<style scoped>\n",
       "    .dataframe tbody tr th:only-of-type {\n",
       "        vertical-align: middle;\n",
       "    }\n",
       "\n",
       "    .dataframe tbody tr th {\n",
       "        vertical-align: top;\n",
       "    }\n",
       "\n",
       "    .dataframe thead th {\n",
       "        text-align: right;\n",
       "    }\n",
       "</style>\n",
       "<table border=\"1\" class=\"dataframe\">\n",
       "  <thead>\n",
       "    <tr style=\"text-align: right;\">\n",
       "      <th></th>\n",
       "      <th>0</th>\n",
       "      <th>1</th>\n",
       "      <th>2</th>\n",
       "      <th>3</th>\n",
       "      <th>4</th>\n",
       "      <th>5</th>\n",
       "      <th>6</th>\n",
       "    </tr>\n",
       "  </thead>\n",
       "  <tbody>\n",
       "    <tr>\n",
       "      <td>0</td>\n",
       "      <td>09/27/2009</td>\n",
       "      <td>18:00</td>\n",
       "      <td>66.15</td>\n",
       "      <td>66.35</td>\n",
       "      <td>66.15</td>\n",
       "      <td>66.32</td>\n",
       "      <td>88</td>\n",
       "    </tr>\n",
       "    <tr>\n",
       "      <td>1</td>\n",
       "      <td>09/27/2009</td>\n",
       "      <td>18:01</td>\n",
       "      <td>66.36</td>\n",
       "      <td>66.49</td>\n",
       "      <td>66.35</td>\n",
       "      <td>66.37</td>\n",
       "      <td>124</td>\n",
       "    </tr>\n",
       "    <tr>\n",
       "      <td>2</td>\n",
       "      <td>09/27/2009</td>\n",
       "      <td>18:02</td>\n",
       "      <td>66.37</td>\n",
       "      <td>66.41</td>\n",
       "      <td>66.37</td>\n",
       "      <td>66.37</td>\n",
       "      <td>25</td>\n",
       "    </tr>\n",
       "    <tr>\n",
       "      <td>3</td>\n",
       "      <td>09/27/2009</td>\n",
       "      <td>18:03</td>\n",
       "      <td>66.37</td>\n",
       "      <td>66.42</td>\n",
       "      <td>66.37</td>\n",
       "      <td>66.42</td>\n",
       "      <td>33</td>\n",
       "    </tr>\n",
       "    <tr>\n",
       "      <td>4</td>\n",
       "      <td>09/27/2009</td>\n",
       "      <td>18:04</td>\n",
       "      <td>66.39</td>\n",
       "      <td>66.46</td>\n",
       "      <td>66.39</td>\n",
       "      <td>66.46</td>\n",
       "      <td>14</td>\n",
       "    </tr>\n",
       "  </tbody>\n",
       "</table>\n",
       "</div>"
      ],
      "text/plain": [
       "            0      1      2      3      4      5    6\n",
       "0  09/27/2009  18:00  66.15  66.35  66.15  66.32   88\n",
       "1  09/27/2009  18:01  66.36  66.49  66.35  66.37  124\n",
       "2  09/27/2009  18:02  66.37  66.41  66.37  66.37   25\n",
       "3  09/27/2009  18:03  66.37  66.42  66.37  66.42   33\n",
       "4  09/27/2009  18:04  66.39  66.46  66.39  66.46   14"
      ]
     },
     "execution_count": 28,
     "metadata": {},
     "output_type": "execute_result"
    }
   ],
   "source": [
    "df.head()"
   ]
  },
  {
   "cell_type": "markdown",
   "metadata": {},
   "source": [
    "The same as continuous contracts 1 min"
   ]
  },
  {
   "cell_type": "markdown",
   "metadata": {},
   "source": [
    "# All_Futures_Continuous_Contracts_tick"
   ]
  },
  {
   "cell_type": "code",
   "execution_count": 29,
   "metadata": {
    "ExecuteTime": {
     "end_time": "2019-10-21T13:46:40.709022Z",
     "start_time": "2019-10-21T13:46:40.690813Z"
    }
   },
   "outputs": [
    {
     "data": {
      "text/plain": [
       "True"
      ]
     },
     "execution_count": 29,
     "metadata": {},
     "output_type": "execute_result"
    }
   ],
   "source": [
    "symbol = \"AD\"\n",
    "nrows = 10\n",
    "s3_path = hs3.get_path()\n",
    "file_name = \"kibot/All_Futures_Continuous_Contracts_tick/%s.csv.gz\" % symbol\n",
    "file_name in kibot_files"
   ]
  },
  {
   "cell_type": "code",
   "execution_count": 30,
   "metadata": {
    "ExecuteTime": {
     "end_time": "2019-10-21T13:46:40.727073Z",
     "start_time": "2019-10-21T13:46:40.710569Z"
    }
   },
   "outputs": [
    {
     "name": "stdout",
     "output_type": "stream",
     "text": [
      "s3://default00-bucket/kibot/All_Futures_Continuous_Contracts_tick/AD.csv.gz\n"
     ]
    }
   ],
   "source": [
    "file_name = os.path.join(hs3.get_path(), file_name)\n",
    "print(file_name)"
   ]
  },
  {
   "cell_type": "code",
   "execution_count": 31,
   "metadata": {
    "ExecuteTime": {
     "end_time": "2019-10-21T13:46:40.917175Z",
     "start_time": "2019-10-21T13:46:40.728752Z"
    }
   },
   "outputs": [
    {
     "name": "stdout",
     "output_type": "stream",
     "text": [
      "args=('s3://default00-bucket/kibot/All_Futures_Continuous_Contracts_tick/AD.csv.gz', 10) kwargs={}\n",
      "args=('s3://default00-bucket/kibot/All_Futures_Continuous_Contracts_tick/AD.csv.gz', 10) kwargs={}\n",
      "Reading file_name='s3://default00-bucket/kibot/All_Futures_Continuous_Contracts_tick/AD.csv.gz' nrows=10\n",
      "Reading only the first nrows=10 rows\n"
     ]
    },
    {
     "ename": "ValueError",
     "evalue": "Invalid dir_name='All_Futures_Continuous_Contracts_tick' in file_name='s3://default00-bucket/kibot/All_Futures_Continuous_Contracts_tick/AD.csv.gz'",
     "output_type": "error",
     "traceback": [
      "\u001b[0;31m---------------------------------------------------------------------------\u001b[0m",
      "\u001b[0;31mValueError\u001b[0m                                Traceback (most recent call last)",
      "\u001b[0;32m<ipython-input-31-5d21688b26a8>\u001b[0m in \u001b[0;36m<module>\u001b[0;34m\u001b[0m\n\u001b[0;32m----> 1\u001b[0;31m \u001b[0mdf\u001b[0m \u001b[0;34m=\u001b[0m \u001b[0mkut\u001b[0m\u001b[0;34m.\u001b[0m\u001b[0mread_data\u001b[0m\u001b[0;34m(\u001b[0m\u001b[0mfile_name\u001b[0m\u001b[0;34m,\u001b[0m \u001b[0mnrows\u001b[0m\u001b[0;34m)\u001b[0m\u001b[0;34m\u001b[0m\u001b[0;34m\u001b[0m\u001b[0m\n\u001b[0m\u001b[1;32m      2\u001b[0m \u001b[0mdf\u001b[0m\u001b[0;34m.\u001b[0m\u001b[0mhead\u001b[0m\u001b[0;34m(\u001b[0m\u001b[0;36m3\u001b[0m\u001b[0;34m)\u001b[0m\u001b[0;34m\u001b[0m\u001b[0;34m\u001b[0m\u001b[0m\n",
      "\u001b[0;32m~/.../amp/vendors2/kibot/utils.py\u001b[0m in \u001b[0;36mread_data\u001b[0;34m(*args, **kwargs)\u001b[0m\n\u001b[1;32m     77\u001b[0m \u001b[0;32mdef\u001b[0m \u001b[0mread_data\u001b[0m\u001b[0;34m(\u001b[0m\u001b[0;34m*\u001b[0m\u001b[0margs\u001b[0m\u001b[0;34m,\u001b[0m \u001b[0;34m**\u001b[0m\u001b[0mkwargs\u001b[0m\u001b[0;34m)\u001b[0m\u001b[0;34m:\u001b[0m\u001b[0;34m\u001b[0m\u001b[0;34m\u001b[0m\u001b[0m\n\u001b[1;32m     78\u001b[0m     \u001b[0m_LOG\u001b[0m\u001b[0;34m.\u001b[0m\u001b[0minfo\u001b[0m\u001b[0;34m(\u001b[0m\u001b[0;34m\"args=%s kwargs=%s\"\u001b[0m\u001b[0;34m,\u001b[0m \u001b[0mstr\u001b[0m\u001b[0;34m(\u001b[0m\u001b[0margs\u001b[0m\u001b[0;34m)\u001b[0m\u001b[0;34m,\u001b[0m \u001b[0mstr\u001b[0m\u001b[0;34m(\u001b[0m\u001b[0mkwargs\u001b[0m\u001b[0;34m)\u001b[0m\u001b[0;34m)\u001b[0m\u001b[0;34m\u001b[0m\u001b[0;34m\u001b[0m\u001b[0m\n\u001b[0;32m---> 79\u001b[0;31m     \u001b[0mobj\u001b[0m \u001b[0;34m=\u001b[0m \u001b[0m_read_data_from_disk_cache\u001b[0m\u001b[0;34m(\u001b[0m\u001b[0;34m*\u001b[0m\u001b[0margs\u001b[0m\u001b[0;34m,\u001b[0m \u001b[0;34m**\u001b[0m\u001b[0mkwargs\u001b[0m\u001b[0;34m)\u001b[0m\u001b[0;34m\u001b[0m\u001b[0;34m\u001b[0m\u001b[0m\n\u001b[0m\u001b[1;32m     80\u001b[0m     \u001b[0;32mreturn\u001b[0m \u001b[0mobj\u001b[0m\u001b[0;34m\u001b[0m\u001b[0;34m\u001b[0m\u001b[0m\n\u001b[1;32m     81\u001b[0m \u001b[0;34m\u001b[0m\u001b[0m\n",
      "\u001b[0;32m~/.conda/envs/develop/lib/python3.7/site-packages/joblib/memory.py\u001b[0m in \u001b[0;36m__call__\u001b[0;34m(self, *args, **kwargs)\u001b[0m\n\u001b[1;32m    566\u001b[0m \u001b[0;34m\u001b[0m\u001b[0m\n\u001b[1;32m    567\u001b[0m     \u001b[0;32mdef\u001b[0m \u001b[0m__call__\u001b[0m\u001b[0;34m(\u001b[0m\u001b[0mself\u001b[0m\u001b[0;34m,\u001b[0m \u001b[0;34m*\u001b[0m\u001b[0margs\u001b[0m\u001b[0;34m,\u001b[0m \u001b[0;34m**\u001b[0m\u001b[0mkwargs\u001b[0m\u001b[0;34m)\u001b[0m\u001b[0;34m:\u001b[0m\u001b[0;34m\u001b[0m\u001b[0;34m\u001b[0m\u001b[0m\n\u001b[0;32m--> 568\u001b[0;31m         \u001b[0;32mreturn\u001b[0m \u001b[0mself\u001b[0m\u001b[0;34m.\u001b[0m\u001b[0m_cached_call\u001b[0m\u001b[0;34m(\u001b[0m\u001b[0margs\u001b[0m\u001b[0;34m,\u001b[0m \u001b[0mkwargs\u001b[0m\u001b[0;34m)\u001b[0m\u001b[0;34m[\u001b[0m\u001b[0;36m0\u001b[0m\u001b[0;34m]\u001b[0m\u001b[0;34m\u001b[0m\u001b[0;34m\u001b[0m\u001b[0m\n\u001b[0m\u001b[1;32m    569\u001b[0m \u001b[0;34m\u001b[0m\u001b[0m\n\u001b[1;32m    570\u001b[0m     \u001b[0;32mdef\u001b[0m \u001b[0m__getstate__\u001b[0m\u001b[0;34m(\u001b[0m\u001b[0mself\u001b[0m\u001b[0;34m)\u001b[0m\u001b[0;34m:\u001b[0m\u001b[0;34m\u001b[0m\u001b[0;34m\u001b[0m\u001b[0m\n",
      "\u001b[0;32m~/.conda/envs/develop/lib/python3.7/site-packages/joblib/memory.py\u001b[0m in \u001b[0;36m_cached_call\u001b[0;34m(self, args, kwargs, shelving)\u001b[0m\n\u001b[1;32m    532\u001b[0m \u001b[0;34m\u001b[0m\u001b[0m\n\u001b[1;32m    533\u001b[0m         \u001b[0;32mif\u001b[0m \u001b[0mmust_call\u001b[0m\u001b[0;34m:\u001b[0m\u001b[0;34m\u001b[0m\u001b[0;34m\u001b[0m\u001b[0m\n\u001b[0;32m--> 534\u001b[0;31m             \u001b[0mout\u001b[0m\u001b[0;34m,\u001b[0m \u001b[0mmetadata\u001b[0m \u001b[0;34m=\u001b[0m \u001b[0mself\u001b[0m\u001b[0;34m.\u001b[0m\u001b[0mcall\u001b[0m\u001b[0;34m(\u001b[0m\u001b[0;34m*\u001b[0m\u001b[0margs\u001b[0m\u001b[0;34m,\u001b[0m \u001b[0;34m**\u001b[0m\u001b[0mkwargs\u001b[0m\u001b[0;34m)\u001b[0m\u001b[0;34m\u001b[0m\u001b[0;34m\u001b[0m\u001b[0m\n\u001b[0m\u001b[1;32m    535\u001b[0m             \u001b[0;32mif\u001b[0m \u001b[0mself\u001b[0m\u001b[0;34m.\u001b[0m\u001b[0mmmap_mode\u001b[0m \u001b[0;32mis\u001b[0m \u001b[0;32mnot\u001b[0m \u001b[0;32mNone\u001b[0m\u001b[0;34m:\u001b[0m\u001b[0;34m\u001b[0m\u001b[0;34m\u001b[0m\u001b[0m\n\u001b[1;32m    536\u001b[0m                 \u001b[0;31m# Memmap the output at the first call to be consistent with\u001b[0m\u001b[0;34m\u001b[0m\u001b[0;34m\u001b[0m\u001b[0;34m\u001b[0m\u001b[0m\n",
      "\u001b[0;32m~/.conda/envs/develop/lib/python3.7/site-packages/joblib/memory.py\u001b[0m in \u001b[0;36mcall\u001b[0;34m(self, *args, **kwargs)\u001b[0m\n\u001b[1;32m    732\u001b[0m         \u001b[0;32mif\u001b[0m \u001b[0mself\u001b[0m\u001b[0;34m.\u001b[0m\u001b[0m_verbose\u001b[0m \u001b[0;34m>\u001b[0m \u001b[0;36m0\u001b[0m\u001b[0;34m:\u001b[0m\u001b[0;34m\u001b[0m\u001b[0;34m\u001b[0m\u001b[0m\n\u001b[1;32m    733\u001b[0m             \u001b[0mprint\u001b[0m\u001b[0;34m(\u001b[0m\u001b[0mformat_call\u001b[0m\u001b[0;34m(\u001b[0m\u001b[0mself\u001b[0m\u001b[0;34m.\u001b[0m\u001b[0mfunc\u001b[0m\u001b[0;34m,\u001b[0m \u001b[0margs\u001b[0m\u001b[0;34m,\u001b[0m \u001b[0mkwargs\u001b[0m\u001b[0;34m)\u001b[0m\u001b[0;34m)\u001b[0m\u001b[0;34m\u001b[0m\u001b[0;34m\u001b[0m\u001b[0m\n\u001b[0;32m--> 734\u001b[0;31m         \u001b[0moutput\u001b[0m \u001b[0;34m=\u001b[0m \u001b[0mself\u001b[0m\u001b[0;34m.\u001b[0m\u001b[0mfunc\u001b[0m\u001b[0;34m(\u001b[0m\u001b[0;34m*\u001b[0m\u001b[0margs\u001b[0m\u001b[0;34m,\u001b[0m \u001b[0;34m**\u001b[0m\u001b[0mkwargs\u001b[0m\u001b[0;34m)\u001b[0m\u001b[0;34m\u001b[0m\u001b[0;34m\u001b[0m\u001b[0m\n\u001b[0m\u001b[1;32m    735\u001b[0m         self.store_backend.dump_item(\n\u001b[1;32m    736\u001b[0m             [func_id, args_id], output, verbose=self._verbose)\n",
      "\u001b[0;32m~/.../amp/vendors2/kibot/utils.py\u001b[0m in \u001b[0;36m_read_data_from_disk_cache\u001b[0;34m(*args, **kwargs)\u001b[0m\n\u001b[1;32m     70\u001b[0m \u001b[0;32mdef\u001b[0m \u001b[0m_read_data_from_disk_cache\u001b[0m\u001b[0;34m(\u001b[0m\u001b[0;34m*\u001b[0m\u001b[0margs\u001b[0m\u001b[0;34m,\u001b[0m \u001b[0;34m**\u001b[0m\u001b[0mkwargs\u001b[0m\u001b[0;34m)\u001b[0m\u001b[0;34m:\u001b[0m\u001b[0;34m\u001b[0m\u001b[0;34m\u001b[0m\u001b[0m\n\u001b[1;32m     71\u001b[0m     \u001b[0m_LOG\u001b[0m\u001b[0;34m.\u001b[0m\u001b[0minfo\u001b[0m\u001b[0;34m(\u001b[0m\u001b[0;34m\"args=%s kwargs=%s\"\u001b[0m\u001b[0;34m,\u001b[0m \u001b[0mstr\u001b[0m\u001b[0;34m(\u001b[0m\u001b[0margs\u001b[0m\u001b[0;34m)\u001b[0m\u001b[0;34m,\u001b[0m \u001b[0mstr\u001b[0m\u001b[0;34m(\u001b[0m\u001b[0mkwargs\u001b[0m\u001b[0;34m)\u001b[0m\u001b[0;34m)\u001b[0m\u001b[0;34m\u001b[0m\u001b[0;34m\u001b[0m\u001b[0m\n\u001b[0;32m---> 72\u001b[0;31m     \u001b[0mobj\u001b[0m \u001b[0;34m=\u001b[0m \u001b[0m_read_data\u001b[0m\u001b[0;34m(\u001b[0m\u001b[0;34m*\u001b[0m\u001b[0margs\u001b[0m\u001b[0;34m,\u001b[0m \u001b[0;34m**\u001b[0m\u001b[0mkwargs\u001b[0m\u001b[0;34m)\u001b[0m\u001b[0;34m\u001b[0m\u001b[0;34m\u001b[0m\u001b[0m\n\u001b[0m\u001b[1;32m     73\u001b[0m     \u001b[0;32mreturn\u001b[0m \u001b[0mobj\u001b[0m\u001b[0;34m\u001b[0m\u001b[0;34m\u001b[0m\u001b[0m\n\u001b[1;32m     74\u001b[0m \u001b[0;34m\u001b[0m\u001b[0m\n",
      "\u001b[0;32m~/.../amp/vendors2/kibot/utils.py\u001b[0m in \u001b[0;36m_read_data\u001b[0;34m(file_name, nrows)\u001b[0m\n\u001b[1;32m     57\u001b[0m     \u001b[0;32melse\u001b[0m\u001b[0;34m:\u001b[0m\u001b[0;34m\u001b[0m\u001b[0;34m\u001b[0m\u001b[0m\n\u001b[1;32m     58\u001b[0m         raise ValueError(\n\u001b[0;32m---> 59\u001b[0;31m             \u001b[0;34m\"Invalid dir_name='%s' in file_name='%s'\"\u001b[0m \u001b[0;34m%\u001b[0m \u001b[0;34m(\u001b[0m\u001b[0mdir_name\u001b[0m\u001b[0;34m,\u001b[0m \u001b[0mfile_name\u001b[0m\u001b[0;34m)\u001b[0m\u001b[0;34m\u001b[0m\u001b[0;34m\u001b[0m\u001b[0m\n\u001b[0m\u001b[1;32m     60\u001b[0m         )\n\u001b[1;32m     61\u001b[0m     \u001b[0mdbg\u001b[0m\u001b[0;34m.\u001b[0m\u001b[0mdassert\u001b[0m\u001b[0;34m(\u001b[0m\u001b[0mdf\u001b[0m\u001b[0;34m.\u001b[0m\u001b[0mindex\u001b[0m\u001b[0;34m.\u001b[0m\u001b[0mis_monotonic_increasing\u001b[0m\u001b[0;34m)\u001b[0m\u001b[0;34m\u001b[0m\u001b[0;34m\u001b[0m\u001b[0m\n",
      "\u001b[0;31mValueError\u001b[0m: Invalid dir_name='All_Futures_Continuous_Contracts_tick' in file_name='s3://default00-bucket/kibot/All_Futures_Continuous_Contracts_tick/AD.csv.gz'"
     ]
    }
   ],
   "source": [
    "df = kut.read_data(file_name, nrows)\n",
    "df.head(3)"
   ]
  },
  {
   "cell_type": "code",
   "execution_count": null,
   "metadata": {},
   "outputs": [],
   "source": []
  }
 ],
 "metadata": {
  "jupytext": {
   "text_representation": {
    "extension": ".py",
    "format_name": "percent",
    "format_version": "1.2",
    "jupytext_version": "1.2.4"
   }
  },
  "kernelspec": {
   "display_name": "Python [conda env:.conda-develop] *",
   "language": "python",
   "name": "conda-env-.conda-develop-py"
  },
  "language_info": {
   "codemirror_mode": {
    "name": "ipython",
    "version": 3
   },
   "file_extension": ".py",
   "mimetype": "text/x-python",
   "name": "python",
   "nbconvert_exporter": "python",
   "pygments_lexer": "ipython3",
   "version": "3.7.3"
  },
  "toc": {
   "base_numbering": 1,
   "nav_menu": {},
   "number_sections": true,
   "sideBar": true,
   "skip_h1_title": false,
   "title_cell": "Table of Contents",
   "title_sidebar": "Contents",
   "toc_cell": false,
   "toc_position": {},
   "toc_section_display": true,
   "toc_window_display": true
  }
 },
 "nbformat": 4,
 "nbformat_minor": 2
}
