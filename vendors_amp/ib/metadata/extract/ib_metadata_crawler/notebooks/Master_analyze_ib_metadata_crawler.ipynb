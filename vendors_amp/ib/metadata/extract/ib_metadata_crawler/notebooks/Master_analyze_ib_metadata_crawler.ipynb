{
 "cells": [
  {
   "cell_type": "code",
   "execution_count": 2,
   "metadata": {
    "ExecuteTime": {
     "end_time": "2021-03-11T20:30:44.113495Z",
     "start_time": "2021-03-11T20:30:43.524286Z"
    }
   },
   "outputs": [],
   "source": [
    "import os\n",
    "\n",
    "import pandas as pd"
   ]
  },
  {
   "cell_type": "code",
   "execution_count": 6,
   "metadata": {
    "ExecuteTime": {
     "end_time": "2021-03-11T20:31:12.868209Z",
     "start_time": "2021-03-11T20:31:12.745528Z"
    }
   },
   "outputs": [
    {
     "name": "stdout",
     "output_type": "stream",
     "text": [
      "exchanges.csv scrapy.log    symbols.csv\r\n"
     ]
    }
   ],
   "source": [
    "!ls ../log_2021_03_11"
   ]
  },
  {
   "cell_type": "code",
   "execution_count": 24,
   "metadata": {
    "ExecuteTime": {
     "end_time": "2021-03-11T20:40:08.008718Z",
     "start_time": "2021-03-11T20:40:07.623842Z"
    }
   },
   "outputs": [
    {
     "data": {
      "text/html": [
       "<div>\n",
       "<style scoped>\n",
       "    .dataframe tbody tr th:only-of-type {\n",
       "        vertical-align: middle;\n",
       "    }\n",
       "\n",
       "    .dataframe tbody tr th {\n",
       "        vertical-align: top;\n",
       "    }\n",
       "\n",
       "    .dataframe thead th {\n",
       "        text-align: right;\n",
       "    }\n",
       "</style>\n",
       "<table border=\"1\" class=\"dataframe\">\n",
       "  <thead>\n",
       "    <tr style=\"text-align: right;\">\n",
       "      <th></th>\n",
       "      <th>market</th>\n",
       "      <th>product</th>\n",
       "      <th>s_title</th>\n",
       "      <th>ib_symbol</th>\n",
       "      <th>symbol</th>\n",
       "      <th>currency</th>\n",
       "    </tr>\n",
       "  </thead>\n",
       "  <tbody>\n",
       "    <tr>\n",
       "      <th>0</th>\n",
       "      <td>Mexican Stock Exchange (MEXI)</td>\n",
       "      <td>Options</td>\n",
       "      <td>EUR/USD 1-month Realized Volatility Index</td>\n",
       "      <td>16E</td>\n",
       "      <td>16E</td>\n",
       "      <td>USD</td>\n",
       "    </tr>\n",
       "    <tr>\n",
       "      <th>1</th>\n",
       "      <td>Mexican Stock Exchange (MEXI)</td>\n",
       "      <td>Options</td>\n",
       "      <td>EUR/USD 3-month Realized Volatility Index</td>\n",
       "      <td>36E</td>\n",
       "      <td>36E</td>\n",
       "      <td>USD</td>\n",
       "    </tr>\n",
       "    <tr>\n",
       "      <th>2</th>\n",
       "      <td>Mexican Stock Exchange (MEXI)</td>\n",
       "      <td>Options</td>\n",
       "      <td>Australian Dollar / Canadian Dollar Cross Rate</td>\n",
       "      <td>ACD</td>\n",
       "      <td>ACD</td>\n",
       "      <td>CAD</td>\n",
       "    </tr>\n",
       "    <tr>\n",
       "      <th>3</th>\n",
       "      <td>Mexican Stock Exchange (MEXI)</td>\n",
       "      <td>Options</td>\n",
       "      <td>Australian Dollar / Japanese Yen Cross Rate</td>\n",
       "      <td>AJY</td>\n",
       "      <td>AJY</td>\n",
       "      <td>JPY</td>\n",
       "    </tr>\n",
       "    <tr>\n",
       "      <th>4</th>\n",
       "      <td>Mexican Stock Exchange (MEXI)</td>\n",
       "      <td>Options</td>\n",
       "      <td>Australian Dollar / New Zealand Dollar Cross Rate</td>\n",
       "      <td>ANE</td>\n",
       "      <td>ANE</td>\n",
       "      <td>NZD</td>\n",
       "    </tr>\n",
       "  </tbody>\n",
       "</table>\n",
       "</div>"
      ],
      "text/plain": [
       "                          market  product  \\\n",
       "0  Mexican Stock Exchange (MEXI)  Options   \n",
       "1  Mexican Stock Exchange (MEXI)  Options   \n",
       "2  Mexican Stock Exchange (MEXI)  Options   \n",
       "3  Mexican Stock Exchange (MEXI)  Options   \n",
       "4  Mexican Stock Exchange (MEXI)  Options   \n",
       "\n",
       "                                             s_title ib_symbol symbol currency  \n",
       "0          EUR/USD 1-month Realized Volatility Index       16E    16E      USD  \n",
       "1          EUR/USD 3-month Realized Volatility Index       36E    36E      USD  \n",
       "2     Australian Dollar / Canadian Dollar Cross Rate       ACD    ACD      CAD  \n",
       "3        Australian Dollar / Japanese Yen Cross Rate       AJY    AJY      JPY  \n",
       "4  Australian Dollar / New Zealand Dollar Cross Rate       ANE    ANE      NZD  "
      ]
     },
     "execution_count": 24,
     "metadata": {},
     "output_type": "execute_result"
    }
   ],
   "source": [
    "dir_name = \"../log_2021_03_11\"\n",
    "\n",
    "file_name = os.path.join(dir_name, \"symbols.csv\")\n",
    "symbols = pd.read_csv(file_name, sep=\"\\t\")\n",
    "\n",
    "symbols.head()"
   ]
  },
  {
   "cell_type": "code",
   "execution_count": 26,
   "metadata": {
    "ExecuteTime": {
     "end_time": "2021-03-11T20:40:46.794927Z",
     "start_time": "2021-03-11T20:40:46.780668Z"
    }
   },
   "outputs": [
    {
     "data": {
      "text/html": [
       "<div>\n",
       "<style scoped>\n",
       "    .dataframe tbody tr th:only-of-type {\n",
       "        vertical-align: middle;\n",
       "    }\n",
       "\n",
       "    .dataframe tbody tr th {\n",
       "        vertical-align: top;\n",
       "    }\n",
       "\n",
       "    .dataframe thead th {\n",
       "        text-align: right;\n",
       "    }\n",
       "</style>\n",
       "<table border=\"1\" class=\"dataframe\">\n",
       "  <thead>\n",
       "    <tr style=\"text-align: right;\">\n",
       "      <th></th>\n",
       "      <th>region</th>\n",
       "      <th>country</th>\n",
       "      <th>market</th>\n",
       "      <th>link</th>\n",
       "      <th>products</th>\n",
       "      <th>hours</th>\n",
       "    </tr>\n",
       "  </thead>\n",
       "  <tbody>\n",
       "    <tr>\n",
       "      <th>0</th>\n",
       "      <td>North America</td>\n",
       "      <td>Mexico</td>\n",
       "      <td>Mexican Stock Exchange (MEXI)</td>\n",
       "      <td>http://absoluteadvisers.com</td>\n",
       "      <td>ETFs,Stocks</td>\n",
       "      <td>Monday - Friday: 8:30-15:00</td>\n",
       "    </tr>\n",
       "    <tr>\n",
       "      <th>1</th>\n",
       "      <td>Asia/Pacific</td>\n",
       "      <td>South Korea</td>\n",
       "      <td>Korea Stock Exchange (KSE)</td>\n",
       "      <td>http://eng.krx.co.kr/</td>\n",
       "      <td>Futures (Equity Index, Single Stock),Indices,O...</td>\n",
       "      <td>Monday - Friday: 9:00-15:45</td>\n",
       "    </tr>\n",
       "    <tr>\n",
       "      <th>2</th>\n",
       "      <td>Europe</td>\n",
       "      <td>United Kingdom</td>\n",
       "      <td>LSE International Order Book (LSEIOB1)</td>\n",
       "      <td>http://www.borsaitalia.it</td>\n",
       "      <td>Stocks</td>\n",
       "      <td>Monday - Friday: 10:00-17:40</td>\n",
       "    </tr>\n",
       "    <tr>\n",
       "      <th>3</th>\n",
       "      <td>Global</td>\n",
       "      <td></td>\n",
       "      <td>IDEALPRO Metals</td>\n",
       "      <td>NaN</td>\n",
       "      <td>Metals</td>\n",
       "      <td>Sunday - Friday: 18:00 - 17:00 ET</td>\n",
       "    </tr>\n",
       "  </tbody>\n",
       "</table>\n",
       "</div>"
      ],
      "text/plain": [
       "          region         country                                  market  \\\n",
       "0  North America          Mexico           Mexican Stock Exchange (MEXI)   \n",
       "1   Asia/Pacific     South Korea              Korea Stock Exchange (KSE)   \n",
       "2         Europe  United Kingdom  LSE International Order Book (LSEIOB1)   \n",
       "3         Global                                         IDEALPRO Metals   \n",
       "\n",
       "                          link  \\\n",
       "0  http://absoluteadvisers.com   \n",
       "1        http://eng.krx.co.kr/   \n",
       "2    http://www.borsaitalia.it   \n",
       "3                          NaN   \n",
       "\n",
       "                                            products  \\\n",
       "0                                        ETFs,Stocks   \n",
       "1  Futures (Equity Index, Single Stock),Indices,O...   \n",
       "2                                             Stocks   \n",
       "3                                             Metals   \n",
       "\n",
       "                               hours  \n",
       "0        Monday - Friday: 8:30-15:00  \n",
       "1        Monday - Friday: 9:00-15:45  \n",
       "2       Monday - Friday: 10:00-17:40  \n",
       "3  Sunday - Friday: 18:00 - 17:00 ET  "
      ]
     },
     "execution_count": 26,
     "metadata": {},
     "output_type": "execute_result"
    }
   ],
   "source": [
    "file_name = os.path.join(dir_name, \"exchanges.csv\")\n",
    "exchanges = pd.read_csv(file_name, sep=\"\\t\")\n",
    "\n",
    "exchanges.head()"
   ]
  },
  {
   "cell_type": "code",
   "execution_count": 27,
   "metadata": {
    "ExecuteTime": {
     "end_time": "2021-03-11T20:40:57.236189Z",
     "start_time": "2021-03-11T20:40:57.214765Z"
    }
   },
   "outputs": [
    {
     "name": "stdout",
     "output_type": "stream",
     "text": [
      "Mexican Stock Exchange (MEXI)\n",
      "Korea Stock Exchange (KSE)\n",
      "LSE International Order Book (LSEIOB1)\n",
      "SMexican Stock Exchange (MEXI)\n"
     ]
    }
   ],
   "source": [
    "markets = symbols[\"market\"].unique()\n",
    "print(\"\\n\".join(markets))"
   ]
  },
  {
   "cell_type": "code",
   "execution_count": 28,
   "metadata": {
    "ExecuteTime": {
     "end_time": "2021-03-11T20:41:14.112476Z",
     "start_time": "2021-03-11T20:41:14.067611Z"
    }
   },
   "outputs": [
    {
     "data": {
      "text/html": [
       "<div>\n",
       "<style scoped>\n",
       "    .dataframe tbody tr th:only-of-type {\n",
       "        vertical-align: middle;\n",
       "    }\n",
       "\n",
       "    .dataframe tbody tr th {\n",
       "        vertical-align: top;\n",
       "    }\n",
       "\n",
       "    .dataframe thead th {\n",
       "        text-align: right;\n",
       "    }\n",
       "</style>\n",
       "<table border=\"1\" class=\"dataframe\">\n",
       "  <thead>\n",
       "    <tr style=\"text-align: right;\">\n",
       "      <th></th>\n",
       "      <th>product</th>\n",
       "    </tr>\n",
       "    <tr>\n",
       "      <th>market</th>\n",
       "      <th></th>\n",
       "    </tr>\n",
       "  </thead>\n",
       "  <tbody>\n",
       "    <tr>\n",
       "      <th>Korea Stock Exchange (KSE)</th>\n",
       "      <td>27203</td>\n",
       "    </tr>\n",
       "    <tr>\n",
       "      <th>LSE International Order Book (LSEIOB1)</th>\n",
       "      <td>55483</td>\n",
       "    </tr>\n",
       "    <tr>\n",
       "      <th>Mexican Stock Exchange (MEXI)</th>\n",
       "      <td>253217</td>\n",
       "    </tr>\n",
       "    <tr>\n",
       "      <th>SMexican Stock Exchange (MEXI)</th>\n",
       "      <td>1</td>\n",
       "    </tr>\n",
       "  </tbody>\n",
       "</table>\n",
       "</div>"
      ],
      "text/plain": [
       "                                        product\n",
       "market                                         \n",
       "Korea Stock Exchange (KSE)                27203\n",
       "LSE International Order Book (LSEIOB1)    55483\n",
       "Mexican Stock Exchange (MEXI)            253217\n",
       "SMexican Stock Exchange (MEXI)                1"
      ]
     },
     "execution_count": 28,
     "metadata": {},
     "output_type": "execute_result"
    }
   ],
   "source": [
    "grouped = symbols.groupby(\"market\")\n",
    "\n",
    "grouped[[\"product\"]].count()"
   ]
  },
  {
   "cell_type": "code",
   "execution_count": 23,
   "metadata": {
    "ExecuteTime": {
     "end_time": "2021-03-11T20:37:18.724631Z",
     "start_time": "2021-03-11T20:37:18.695336Z"
    }
   },
   "outputs": [
    {
     "name": "stdout",
     "output_type": "stream",
     "text": [
      "market= SMexican Stock Exchange (MEXI)\n"
     ]
    },
    {
     "data": {
      "text/html": [
       "<div>\n",
       "<style scoped>\n",
       "    .dataframe tbody tr th:only-of-type {\n",
       "        vertical-align: middle;\n",
       "    }\n",
       "\n",
       "    .dataframe tbody tr th {\n",
       "        vertical-align: top;\n",
       "    }\n",
       "\n",
       "    .dataframe thead th {\n",
       "        text-align: right;\n",
       "    }\n",
       "</style>\n",
       "<table border=\"1\" class=\"dataframe\">\n",
       "  <thead>\n",
       "    <tr style=\"text-align: right;\">\n",
       "      <th></th>\n",
       "      <th>product</th>\n",
       "    </tr>\n",
       "    <tr>\n",
       "      <th>product</th>\n",
       "      <th></th>\n",
       "    </tr>\n",
       "  </thead>\n",
       "  <tbody>\n",
       "    <tr>\n",
       "      <th>ETFs</th>\n",
       "      <td>1</td>\n",
       "    </tr>\n",
       "  </tbody>\n",
       "</table>\n",
       "</div>"
      ],
      "text/plain": [
       "         product\n",
       "product         \n",
       "ETFs           1"
      ]
     },
     "execution_count": 23,
     "metadata": {},
     "output_type": "execute_result"
    }
   ],
   "source": [
    "idx = 3\n",
    "print(\"market=\", markets[idx])\n",
    "mask = df[\"market\"] == markets[idx]\n",
    "symbols_tmp = symbols[mask]\n",
    "\n",
    "grouped = symbols_tmp.groupby(\"product\")\n",
    "\n",
    "grouped[[\"product\"]].count()"
   ]
  }
 ],
 "metadata": {
  "jupytext": {
   "text_representation": {
    "extension": ".py",
    "format_name": "percent",
    "format_version": "1.3",
    "jupytext_version": "1.4.2"
   }
  },
  "kernelspec": {
   "display_name": "Python [conda env:.conda-p1_develop] *",
   "language": "python",
   "name": "conda-env-.conda-p1_develop-py"
  },
  "language_info": {
   "codemirror_mode": {
    "name": "ipython",
    "version": 3
   },
   "file_extension": ".py",
   "mimetype": "text/x-python",
   "name": "python",
   "nbconvert_exporter": "python",
   "pygments_lexer": "ipython3",
   "version": "3.7.6"
  },
  "toc": {
   "base_numbering": 1,
   "nav_menu": {},
   "number_sections": true,
   "sideBar": true,
   "skip_h1_title": false,
   "title_cell": "Table of Contents",
   "title_sidebar": "Contents",
   "toc_cell": false,
   "toc_position": {},
   "toc_section_display": true,
   "toc_window_display": false
  }
 },
 "nbformat": 4,
 "nbformat_minor": 4
}
