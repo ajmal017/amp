{
 "cells": [
  {
   "cell_type": "markdown",
   "metadata": {},
   "source": [
    "# Imports"
   ]
  },
  {
   "cell_type": "code",
   "execution_count": 8,
   "metadata": {
    "ExecuteTime": {
     "end_time": "2021-02-27T17:48:32.156375Z",
     "start_time": "2021-02-27T17:48:32.116956Z"
    }
   },
   "outputs": [
    {
     "name": "stdout",
     "output_type": "stream",
     "text": [
      "The autoreload extension is already loaded. To reload it, use:\n",
      "  %reload_ext autoreload\n",
      "['util', 'Event', 'SoftDollarTier', 'PriceIncrement', 'Execution', 'CommissionReport', 'BarList', 'BarDataList', 'RealTimeBarList', 'BarData', 'RealTimeBar', 'HistogramData', 'NewsProvider', 'DepthMktDataDescription', 'ScannerSubscription', 'ScanDataList', 'FundamentalRatios', 'ExecutionFilter', 'PnL', 'PnLSingle', 'AccountValue', 'TickData', 'TickByTickAllLast', 'TickByTickBidAsk', 'TickByTickMidPoint', 'HistoricalTick', 'HistoricalTickBidAsk', 'HistoricalTickLast', 'TickAttrib', 'TickAttribBidAsk', 'TickAttribLast', 'MktDepthData', 'DOMLevel', 'TradeLogEntry', 'FamilyCode', 'SmartComponent', 'PortfolioItem', 'Position', 'Fill', 'OptionComputation', 'OptionChain', 'Dividends', 'NewsArticle', 'HistoricalNews', 'NewsTick', 'NewsBulletin', 'ConnectionStats', 'Contract', 'Stock', 'Option', 'Future', 'ContFuture', 'Forex', 'Index', 'CFD', 'Commodity', 'Bond', 'FuturesOption', 'MutualFund', 'Warrant', 'Bag', 'TagValue', 'ComboLeg', 'DeltaNeutralContract', 'ContractDetails', 'ContractDescription', 'ScanData', 'Trade', 'Order', 'OrderStatus', 'OrderState', 'OrderComboLeg', 'LimitOrder', 'MarketOrder', 'StopOrder', 'StopLimitOrder', 'BracketOrder', 'OrderCondition', 'ExecutionCondition', 'MarginCondition', 'TimeCondition', 'PriceCondition', 'PercentChangeCondition', 'VolumeCondition', 'Ticker', 'IB', 'Client', 'RequestError', 'Wrapper', 'FlexReport', 'FlexError', 'IBC', 'IBController', 'Watchdog']\n"
     ]
    }
   ],
   "source": [
    "%load_ext autoreload\n",
    "%autoreload 2\n",
    "\n",
    "import ib_insync\n",
    "print(ib_insync.__all__)\n",
    "\n",
    "import helpers.dbg as dbg\n",
    "import helpers.printing as pri\n",
    "import core.explore as exp\n",
    "import vendors_amp.ib_insync.utils as ibutils"
   ]
  },
  {
   "cell_type": "markdown",
   "metadata": {},
   "source": [
    "# Connect"
   ]
  },
  {
   "cell_type": "code",
   "execution_count": 9,
   "metadata": {
    "ExecuteTime": {
     "end_time": "2021-02-27T17:48:32.205478Z",
     "start_time": "2021-02-27T17:48:32.158172Z"
    }
   },
   "outputs": [],
   "source": [
    "ib = ibutils.ib_connect(client_id=32, is_notebook=True)"
   ]
  },
  {
   "cell_type": "markdown",
   "metadata": {},
   "source": [
    "# Basic"
   ]
  },
  {
   "cell_type": "code",
   "execution_count": 10,
   "metadata": {
    "ExecuteTime": {
     "end_time": "2021-02-27T17:48:32.245469Z",
     "start_time": "2021-02-27T17:48:32.207102Z"
    },
    "scrolled": true
   },
   "outputs": [],
   "source": [
    "#print(pri.obj_to_str(ib, attr_mode=\"dir\", callable_mode=\"all\"))"
   ]
  },
  {
   "cell_type": "code",
   "execution_count": 11,
   "metadata": {
    "ExecuteTime": {
     "end_time": "2021-02-27T17:48:32.288721Z",
     "start_time": "2021-02-27T17:48:32.247818Z"
    }
   },
   "outputs": [
    {
     "data": {
      "text/plain": [
       "[]"
      ]
     },
     "execution_count": 11,
     "metadata": {},
     "output_type": "execute_result"
    }
   ],
   "source": [
    "ib.positions()"
   ]
  },
  {
   "cell_type": "code",
   "execution_count": 12,
   "metadata": {
    "ExecuteTime": {
     "end_time": "2021-02-27T17:48:32.328505Z",
     "start_time": "2021-02-27T17:48:32.290526Z"
    }
   },
   "outputs": [
    {
     "data": {
      "text/plain": [
       "[AccountValue(account='DU3235841', tag='NetLiquidationByCurrency', value='1000013.20', currency='BASE', modelCode='')]"
      ]
     },
     "execution_count": 12,
     "metadata": {},
     "output_type": "execute_result"
    }
   ],
   "source": [
    "[v for v in ib.accountValues() if v.tag == 'NetLiquidationByCurrency' and v.currency == 'BASE']"
   ]
  },
  {
   "cell_type": "markdown",
   "metadata": {},
   "source": [
    "## Equity"
   ]
  },
  {
   "cell_type": "code",
   "execution_count": 13,
   "metadata": {
    "ExecuteTime": {
     "end_time": "2021-02-27T17:48:32.491011Z",
     "start_time": "2021-02-27T17:48:32.330218Z"
    }
   },
   "outputs": [
    {
     "name": "stdout",
     "output_type": "stream",
     "text": [
      "contract= (<class 'ib_insync.contract.Contract'>)\n",
      "\tContract(conId=270639)\n",
      "contract_details= (<class 'list'>)\n",
      "\t[ContractDetails(contract=Contract(secType='STK', conId=270639, symbol='INTC', exchange='SMART', primaryExchange='NASDAQ', currency='USD', localSymbol='INTC', tradingClass='NMS'), marketName='NMS', minTick=0.01, orderTypes='ACTIVETIM,AD,ADJUST,ALERT,ALGO,ALLOC,AVGCOST,BASKET,BENCHPX,CASHQTY,COND,CONDORDER,DARKONLY,DARKPOLL,DAY,DEACT,DEACTDIS,DEACTEOD,DIS,GAT,GTC,GTD,GTT,HID,IBKRATS,ICE,IMB,IOC,LIT,LMT,LOC,MIDPX,MIT,MKT,MOC,MTL,NGCOMB,NODARK,NONALGO,OCA,OPG,OPGREROUT,PEGBENCH,POSTONLY,PREOPGRTH,PRICECHK,REL,RPI,RTH,SCALE,SCALEODD,SCALERST,SIZECHK,SMARTSTG,SNAPMID,SNAPMKT,SNAPREL,STP,STPLMT,SWEEP,TRAIL,TRAILLIT,TRAILLMT,TRAILMIT,WHATIF', validExchanges='SMART,AMEX,NYSE,CBOE,PHLX,ISE,CHX,ARCA,ISLAND,DRCTEDGE,BEX,BATS,EDGEA,CSFBALGO,JEFFALGO,BYX,IEX,EDGX,FOXRIVER,PEARL,NYSENAT,LTSE,MEMX,PSX', priceMagnifier=1, underConId=0, longName='INTEL CORP', contractMonth='', industry='Technology', category='Semiconductors', subcategory='Electronic Compo-Semicon', timeZoneId='US/Eastern', tradingHours='20210227:CLOSED;20210228:CLOSED;20210301:0400-20210301:2000;20210302:0400-20210302:2000;20210303:0400-20210303:2000;20210304:0400-20210304:2000', liquidHours='20210227:CLOSED;20210228:CLOSED;20210301:0930-20210301:1600;20210302:0930-20210302:1600;20210303:0930-20210303:1600;20210304:0930-20210304:1600', evRule='', evMultiplier=0, mdSizeMultiplier=100, aggGroup=1, underSymbol='', underSecType='', marketRuleIds='26,26,26,26,26,26,26,26,26,26,26,26,26,26,26,26,26,26,26,26,26,26,26,26', secIdList=[TagValue(tag='ISIN', value='US4581401001')], realExpirationDate='', lastTradeTime='', stockType='COMMON', cusip='', ratings='', descAppend='', bondType='', couponType='', callable=False, putable=False, coupon=0, convertible=False, maturity='', issueDate='', nextOptionDate='', nextOptionType='', nextOptionPartial=False, notes='')]\n"
     ]
    }
   ],
   "source": [
    "# INTC\n",
    "contract = ib_insync.Contract(conId=270639)\n",
    "eq_contract = ibutils.to_contract_details(ib, contract)"
   ]
  },
  {
   "cell_type": "code",
   "execution_count": 14,
   "metadata": {
    "ExecuteTime": {
     "end_time": "2021-02-27T17:48:32.650803Z",
     "start_time": "2021-02-27T17:48:32.492730Z"
    }
   },
   "outputs": [
    {
     "name": "stdout",
     "output_type": "stream",
     "text": [
      "contract= (<class 'ib_insync.contract.Stock'>)\n",
      "\tStock(symbol='AMD', exchange='SMART', currency='USD')\n",
      "contract_details= (<class 'list'>)\n",
      "\t[ContractDetails(contract=Contract(secType='STK', conId=4391, symbol='AMD', exchange='SMART', primaryExchange='NASDAQ', currency='USD', localSymbol='AMD', tradingClass='NMS'), marketName='NMS', minTick=0.01, orderTypes='ACTIVETIM,AD,ADJUST,ALERT,ALGO,ALLOC,AVGCOST,BASKET,BENCHPX,CASHQTY,COND,CONDORDER,DARKONLY,DARKPOLL,DAY,DEACT,DEACTDIS,DEACTEOD,DIS,GAT,GTC,GTD,GTT,HID,IBKRATS,ICE,IMB,IOC,LIT,LMT,LOC,MIDPX,MIT,MKT,MOC,MTL,NGCOMB,NODARK,NONALGO,OCA,OPG,OPGREROUT,PEGBENCH,POSTONLY,PREOPGRTH,PRICECHK,REL,RPI,RTH,SCALE,SCALEODD,SCALERST,SIZECHK,SMARTSTG,SNAPMID,SNAPMKT,SNAPREL,STP,STPLMT,SWEEP,TRAIL,TRAILLIT,TRAILLMT,TRAILMIT,WHATIF', validExchanges='SMART,AMEX,NYSE,CBOE,PHLX,ISE,CHX,ARCA,ISLAND,DRCTEDGE,BEX,BATS,EDGEA,CSFBALGO,JEFFALGO,BYX,IEX,EDGX,FOXRIVER,PEARL,NYSENAT,LTSE,MEMX,PSX', priceMagnifier=1, underConId=0, longName='ADVANCED MICRO DEVICES', contractMonth='', industry='Technology', category='Semiconductors', subcategory='Electronic Compo-Semicon', timeZoneId='US/Eastern', tradingHours='20210227:CLOSED;20210228:CLOSED;20210301:0400-20210301:2000;20210302:0400-20210302:2000;20210303:0400-20210303:2000;20210304:0400-20210304:2000', liquidHours='20210227:CLOSED;20210228:CLOSED;20210301:0930-20210301:1600;20210302:0930-20210302:1600;20210303:0930-20210303:1600;20210304:0930-20210304:1600', evRule='', evMultiplier=0, mdSizeMultiplier=100, aggGroup=1, underSymbol='', underSecType='', marketRuleIds='26,26,26,26,26,26,26,26,26,26,26,26,26,26,26,26,26,26,26,26,26,26,26,26', secIdList=[TagValue(tag='ISIN', value='US0079031078')], realExpirationDate='', lastTradeTime='', stockType='COMMON', cusip='', ratings='', descAppend='', bondType='', couponType='', callable=False, putable=False, coupon=0, convertible=False, maturity='', issueDate='', nextOptionDate='', nextOptionType='', nextOptionPartial=False, notes='')]\n"
     ]
    }
   ],
   "source": [
    "contract = ib_insync.Stock('AMD', 'SMART', 'USD')\n",
    "eq_contract = ibutils.to_contract_details(ib, contract)"
   ]
  },
  {
   "cell_type": "code",
   "execution_count": 15,
   "metadata": {
    "ExecuteTime": {
     "end_time": "2021-02-27T17:48:32.720281Z",
     "start_time": "2021-02-27T17:48:32.652485Z"
    }
   },
   "outputs": [
    {
     "name": "stdout",
     "output_type": "stream",
     "text": [
      "contract= (<class 'ib_insync.contract.Stock'>)\n",
      "\tStock(symbol='INTC', exchange='SMART', primaryExchange='NASDAQ', currency='USD')\n",
      "contract_details= (<class 'list'>)\n",
      "\t[ContractDetails(contract=Contract(secType='STK', conId=270639, symbol='INTC', exchange='SMART', primaryExchange='NASDAQ', currency='USD', localSymbol='INTC', tradingClass='NMS'), marketName='NMS', minTick=0.01, orderTypes='ACTIVETIM,AD,ADJUST,ALERT,ALGO,ALLOC,AVGCOST,BASKET,BENCHPX,CASHQTY,COND,CONDORDER,DARKONLY,DARKPOLL,DAY,DEACT,DEACTDIS,DEACTEOD,DIS,GAT,GTC,GTD,GTT,HID,IBKRATS,ICE,IMB,IOC,LIT,LMT,LOC,MIDPX,MIT,MKT,MOC,MTL,NGCOMB,NODARK,NONALGO,OCA,OPG,OPGREROUT,PEGBENCH,POSTONLY,PREOPGRTH,PRICECHK,REL,RPI,RTH,SCALE,SCALEODD,SCALERST,SIZECHK,SMARTSTG,SNAPMID,SNAPMKT,SNAPREL,STP,STPLMT,SWEEP,TRAIL,TRAILLIT,TRAILLMT,TRAILMIT,WHATIF', validExchanges='SMART,AMEX,NYSE,CBOE,PHLX,ISE,CHX,ARCA,ISLAND,DRCTEDGE,BEX,BATS,EDGEA,CSFBALGO,JEFFALGO,BYX,IEX,EDGX,FOXRIVER,PEARL,NYSENAT,LTSE,MEMX,PSX', priceMagnifier=1, underConId=0, longName='INTEL CORP', contractMonth='', industry='Technology', category='Semiconductors', subcategory='Electronic Compo-Semicon', timeZoneId='US/Eastern', tradingHours='20210227:CLOSED;20210228:CLOSED;20210301:0400-20210301:2000;20210302:0400-20210302:2000;20210303:0400-20210303:2000;20210304:0400-20210304:2000', liquidHours='20210227:CLOSED;20210228:CLOSED;20210301:0930-20210301:1600;20210302:0930-20210302:1600;20210303:0930-20210303:1600;20210304:0930-20210304:1600', evRule='', evMultiplier=0, mdSizeMultiplier=100, aggGroup=1, underSymbol='', underSecType='', marketRuleIds='26,26,26,26,26,26,26,26,26,26,26,26,26,26,26,26,26,26,26,26,26,26,26,26', secIdList=[TagValue(tag='ISIN', value='US4581401001')], realExpirationDate='', lastTradeTime='', stockType='COMMON', cusip='', ratings='', descAppend='', bondType='', couponType='', callable=False, putable=False, coupon=0, convertible=False, maturity='', issueDate='', nextOptionDate='', nextOptionType='', nextOptionPartial=False, notes='')]\n"
     ]
    }
   ],
   "source": [
    "contract = ib_insync.Stock('INTC', 'SMART', 'USD', primaryExchange='NASDAQ')\n",
    "eq_contract = ibutils.to_contract_details(ib, contract)"
   ]
  },
  {
   "cell_type": "markdown",
   "metadata": {
    "ExecuteTime": {
     "end_time": "2021-02-07T02:05:20.405000Z",
     "start_time": "2021-02-07T02:05:20.002Z"
    }
   },
   "source": [
    "## Forex"
   ]
  },
  {
   "cell_type": "code",
   "execution_count": 16,
   "metadata": {
    "ExecuteTime": {
     "end_time": "2021-02-27T17:48:32.813437Z",
     "start_time": "2021-02-27T17:48:32.722382Z"
    }
   },
   "outputs": [
    {
     "name": "stdout",
     "output_type": "stream",
     "text": [
      "contract= (<class 'ib_insync.contract.Forex'>)\n",
      "\tForex('EURUSD', exchange='IDEALPRO')\n",
      "contract_details= (<class 'list'>)\n",
      "\t[ContractDetails(contract=Contract(secType='CASH', conId=12087792, symbol='EUR', exchange='IDEALPRO', currency='USD', localSymbol='EUR.USD', tradingClass='EUR.USD'), marketName='EUR.USD', minTick=5e-05, orderTypes='ACTIVETIM,AD,ADJUST,ALERT,ALGO,ALLOC,AVGCOST,BASKET,CASHQTY,COND,CONDORDER,DAY,DEACT,DEACTDIS,DEACTEOD,GAT,GTC,GTD,GTT,HID,IOC,LIT,LMT,MIT,MKT,NONALGO,OCA,REL,SCALE,SCALERST,STP,STPLMT,TRAIL,TRAILLIT,TRAILLMT,TRAILMIT,WHATIF', validExchanges='IDEALPRO', priceMagnifier=1, underConId=0, longName='European Monetary Union Euro', contractMonth='', industry='', category='', subcategory='', timeZoneId='US/Eastern', tradingHours='20210227:CLOSED;20210228:1715-20210301:1700;20210301:1715-20210302:1700;20210302:1715-20210303:1700;20210303:1715-20210304:1700;20210304:1715-20210305:1700', liquidHours='20210227:CLOSED;20210228:1715-20210301:1700;20210301:1715-20210302:1700;20210302:1715-20210303:1700;20210303:1715-20210304:1700;20210304:1715-20210305:1700', evRule='', evMultiplier=0, mdSizeMultiplier=1, aggGroup=4, underSymbol='', underSecType='', marketRuleIds='239', secIdList=[], realExpirationDate='', lastTradeTime='', stockType='', cusip='', ratings='', descAppend='', bondType='', couponType='', callable=False, putable=False, coupon=0, convertible=False, maturity='', issueDate='', nextOptionDate='', nextOptionType='', nextOptionPartial=False, notes='')]\n"
     ]
    }
   ],
   "source": [
    "contract = ib_insync.Forex('EURUSD')\n",
    "forex_contract = ibutils.to_contract_details(ib, contract)"
   ]
  },
  {
   "cell_type": "code",
   "execution_count": 17,
   "metadata": {
    "ExecuteTime": {
     "end_time": "2021-02-27T17:48:32.872200Z",
     "start_time": "2021-02-27T17:48:32.815184Z"
    },
    "scrolled": false
   },
   "outputs": [
    {
     "name": "stdout",
     "output_type": "stream",
     "text": [
      "aggGroup= 1\t\t\t\t\t\t      |\taggGroup= 4\n",
      "bondType= \t\t\t\t\t\t\tbondType= \n",
      "callable= False\t\t\t\t\t\t\tcallable= False\n",
      "category= Semiconductors\t\t\t\t      |\tcategory= \n",
      "contract= Contract(secType='STK', conId=270639, symbol='INTC' |\tcontract= Contract(secType='CASH', conId=12087792, symbol='EU\n",
      "contractMonth= \t\t\t\t\t\t\tcontractMonth= \n",
      "convertible= False\t\t\t\t\t\tconvertible= False\n",
      "coupon= 0\t\t\t\t\t\t\tcoupon= 0\n",
      "couponType= \t\t\t\t\t\t\tcouponType= \n",
      "cusip= \t\t\t\t\t\t\t\tcusip= \n",
      "descAppend= \t\t\t\t\t\t\tdescAppend= \n",
      "evMultiplier= 0\t\t\t\t\t\t\tevMultiplier= 0\n",
      "evRule= \t\t\t\t\t\t\tevRule= \n",
      "industry= Technology\t\t\t\t\t      |\tindustry= \n",
      "issueDate= \t\t\t\t\t\t\tissueDate= \n",
      "lastTradeTime= \t\t\t\t\t\t\tlastTradeTime= \n",
      "liquidHours= 20210227:CLOSED;20210228:CLOSED;20210301:0930-20 |\tliquidHours= 20210227:CLOSED;20210228:1715-20210301:1700;2021\n",
      "longName= INTEL CORP\t\t\t\t\t      |\tlongName= European Monetary Union Euro\n",
      "marketName= NMS\t\t\t\t\t\t      |\tmarketName= EUR.USD\n",
      "marketRuleIds= 26,26,26,26,26,26,26,26,26,26,26,26,26,26,26,2 |\tmarketRuleIds= 239\n",
      "maturity= \t\t\t\t\t\t\tmaturity= \n",
      "mdSizeMultiplier= 100\t\t\t\t\t      |\tmdSizeMultiplier= 1\n",
      "minTick= 0.01\t\t\t\t\t\t      |\tminTick= 5e-05\n",
      "nextOptionDate= \t\t\t\t\t\tnextOptionDate= \n",
      "nextOptionPartial= False\t\t\t\t\tnextOptionPartial= False\n",
      "nextOptionType= \t\t\t\t\t\tnextOptionType= \n",
      "notes= \t\t\t\t\t\t\t\tnotes= \n",
      "orderTypes= ACTIVETIM,AD,ADJUST,ALERT,ALGO,ALLOC,AVGCOST,BASK |\torderTypes= ACTIVETIM,AD,ADJUST,ALERT,ALGO,ALLOC,AVGCOST,BASK\n",
      "priceMagnifier= 1\t\t\t\t\t\tpriceMagnifier= 1\n",
      "putable= False\t\t\t\t\t\t\tputable= False\n",
      "ratings= \t\t\t\t\t\t\tratings= \n",
      "realExpirationDate= \t\t\t\t\t\trealExpirationDate= \n",
      "secIdList= [TagValue(tag='ISIN', value='US4581401001')]\t      |\tsecIdList= []\n",
      "stockType= COMMON\t\t\t\t\t      |\tstockType= \n",
      "subcategory= Electronic Compo-Semicon\t\t\t      |\tsubcategory= \n",
      "timeZoneId= US/Eastern\t\t\t\t\t\ttimeZoneId= US/Eastern\n",
      "tradingHours= 20210227:CLOSED;20210228:CLOSED;20210301:0400-2 |\ttradingHours= 20210227:CLOSED;20210228:1715-20210301:1700;202\n",
      "underConId= 0\t\t\t\t\t\t\tunderConId= 0\n",
      "underSecType= \t\t\t\t\t\t\tunderSecType= \n",
      "underSymbol= \t\t\t\t\t\t\tunderSymbol= \n",
      "validExchanges= SMART,AMEX,NYSE,CBOE,PHLX,ISE,CHX,ARCA,ISLAND |\tvalidExchanges= IDEALPRO\n"
     ]
    }
   ],
   "source": [
    "print(pri.diff_strings(eq_contract, forex_contract))"
   ]
  },
  {
   "cell_type": "markdown",
   "metadata": {},
   "source": [
    "## CFD (contract for difference)"
   ]
  },
  {
   "cell_type": "code",
   "execution_count": 18,
   "metadata": {
    "ExecuteTime": {
     "end_time": "2021-02-27T17:48:33.000476Z",
     "start_time": "2021-02-27T17:48:32.874284Z"
    }
   },
   "outputs": [
    {
     "name": "stdout",
     "output_type": "stream",
     "text": [
      "contract= (<class 'ib_insync.contract.CFD'>)\n",
      "\tCFD(symbol='IBUS30')\n",
      "contract_details= (<class 'list'>)\n",
      "\t[ContractDetails(contract=Contract(secType='CFD', conId=111767879, symbol='IBUS30', exchange='SMART', currency='USD', localSymbol='IBUS30', tradingClass='IBUS30'), marketName='IBUS30', minTick=0.01, orderTypes='ACTIVETIM,AD,ADJUST,ALERT,ALLOC,AVGCOST,BASKET,COND,CONDORDER,DAY,DEACT,DEACTDIS,DEACTEOD,GAT,GTC,GTD,GTT,HID,LIT,LMT,MIT,MKT,MTL,NGCOMB,NONALGO,OCA,OPG,PEGBENCH,SCALE,SCALERST,SNAPMID,SNAPMKT,SNAPREL,STP,STPLMT,TRAIL,TRAILLIT,TRAILLMT,TRAILMIT,USEMID,USESTKMD,WHATIF', validExchanges='SMART', priceMagnifier=1, underConId=111746713, longName='US 30', contractMonth='', industry='', category='', subcategory='', timeZoneId='GB-Eire', tradingHours='20210227:CLOSED;20210228:CLOSED;20210301:0800-20210301:2100;20210302:0800-20210302:2100;20210303:0800-20210303:2100;20210304:0800-20210304:2100', liquidHours='20210227:CLOSED;20210228:CLOSED;20210301:0800-20210301:2100;20210302:0800-20210302:2100;20210303:0800-20210303:2100;20210304:0800-20210304:2100', evRule='', evMultiplier=0, mdSizeMultiplier=1, aggGroup=15, underSymbol='IBUS30.', underSecType='IND', marketRuleIds='218', secIdList=[], realExpirationDate='', lastTradeTime='', stockType='', cusip='', ratings='', descAppend='', bondType='', couponType='', callable=False, putable=False, coupon=0, convertible=False, maturity='', issueDate='', nextOptionDate='', nextOptionType='', nextOptionPartial=False, notes='')]\n"
     ]
    }
   ],
   "source": [
    "contract = ib_insync.CFD('IBUS30')\n",
    "cfd_contract = ibutils.to_contract_details(ib, contract)"
   ]
  },
  {
   "cell_type": "code",
   "execution_count": 19,
   "metadata": {
    "ExecuteTime": {
     "end_time": "2021-02-27T17:48:33.053663Z",
     "start_time": "2021-02-27T17:48:33.002110Z"
    }
   },
   "outputs": [
    {
     "name": "stdout",
     "output_type": "stream",
     "text": [
      "aggGroup= 1\t\t\t\t\t\t      |\taggGroup= 15\n",
      "bondType= \t\t\t\t\t\t\tbondType= \n",
      "callable= False\t\t\t\t\t\t\tcallable= False\n",
      "category= Semiconductors\t\t\t\t      |\tcategory= \n",
      "contract= Contract(secType='STK', conId=270639, symbol='INTC' |\tcontract= Contract(secType='CFD', conId=111767879, symbol='IB\n",
      "contractMonth= \t\t\t\t\t\t\tcontractMonth= \n",
      "convertible= False\t\t\t\t\t\tconvertible= False\n",
      "coupon= 0\t\t\t\t\t\t\tcoupon= 0\n",
      "couponType= \t\t\t\t\t\t\tcouponType= \n",
      "cusip= \t\t\t\t\t\t\t\tcusip= \n",
      "descAppend= \t\t\t\t\t\t\tdescAppend= \n",
      "evMultiplier= 0\t\t\t\t\t\t\tevMultiplier= 0\n",
      "evRule= \t\t\t\t\t\t\tevRule= \n",
      "industry= Technology\t\t\t\t\t      |\tindustry= \n",
      "issueDate= \t\t\t\t\t\t\tissueDate= \n",
      "lastTradeTime= \t\t\t\t\t\t\tlastTradeTime= \n",
      "liquidHours= 20210227:CLOSED;20210228:CLOSED;20210301:0930-20 |\tliquidHours= 20210227:CLOSED;20210228:CLOSED;20210301:0800-20\n",
      "longName= INTEL CORP\t\t\t\t\t      |\tlongName= US 30\n",
      "marketName= NMS\t\t\t\t\t\t      |\tmarketName= IBUS30\n",
      "marketRuleIds= 26,26,26,26,26,26,26,26,26,26,26,26,26,26,26,2 |\tmarketRuleIds= 218\n",
      "maturity= \t\t\t\t\t\t\tmaturity= \n",
      "mdSizeMultiplier= 100\t\t\t\t\t      |\tmdSizeMultiplier= 1\n",
      "minTick= 0.01\t\t\t\t\t\t\tminTick= 0.01\n",
      "nextOptionDate= \t\t\t\t\t\tnextOptionDate= \n",
      "nextOptionPartial= False\t\t\t\t\tnextOptionPartial= False\n",
      "nextOptionType= \t\t\t\t\t\tnextOptionType= \n",
      "notes= \t\t\t\t\t\t\t\tnotes= \n",
      "orderTypes= ACTIVETIM,AD,ADJUST,ALERT,ALGO,ALLOC,AVGCOST,BASK |\torderTypes= ACTIVETIM,AD,ADJUST,ALERT,ALLOC,AVGCOST,BASKET,CO\n",
      "priceMagnifier= 1\t\t\t\t\t\tpriceMagnifier= 1\n",
      "putable= False\t\t\t\t\t\t\tputable= False\n",
      "ratings= \t\t\t\t\t\t\tratings= \n",
      "realExpirationDate= \t\t\t\t\t\trealExpirationDate= \n",
      "secIdList= [TagValue(tag='ISIN', value='US4581401001')]\t      |\tsecIdList= []\n",
      "stockType= COMMON\t\t\t\t\t      |\tstockType= \n",
      "subcategory= Electronic Compo-Semicon\t\t\t      |\tsubcategory= \n",
      "timeZoneId= US/Eastern\t\t\t\t\t      |\ttimeZoneId= GB-Eire\n",
      "tradingHours= 20210227:CLOSED;20210228:CLOSED;20210301:0400-2 |\ttradingHours= 20210227:CLOSED;20210228:CLOSED;20210301:0800-2\n",
      "underConId= 0\t\t\t\t\t\t      |\tunderConId= 111746713\n",
      "underSecType= \t\t\t\t\t\t      |\tunderSecType= IND\n",
      "underSymbol= \t\t\t\t\t\t      |\tunderSymbol= IBUS30.\n",
      "validExchanges= SMART,AMEX,NYSE,CBOE,PHLX,ISE,CHX,ARCA,ISLAND |\tvalidExchanges= SMART\n"
     ]
    }
   ],
   "source": [
    "print(pri.diff_strings(eq_contract, cfd_contract))"
   ]
  },
  {
   "cell_type": "markdown",
   "metadata": {
    "ExecuteTime": {
     "end_time": "2021-02-07T02:05:20.405816Z",
     "start_time": "2021-02-07T02:05:20.004Z"
    }
   },
   "source": [
    "## Futures"
   ]
  },
  {
   "cell_type": "code",
   "execution_count": 20,
   "metadata": {
    "ExecuteTime": {
     "end_time": "2021-02-27T17:48:33.149859Z",
     "start_time": "2021-02-27T17:48:33.055458Z"
    }
   },
   "outputs": [
    {
     "name": "stdout",
     "output_type": "stream",
     "text": [
      "contract= (<class 'ib_insync.contract.Future'>)\n",
      "\tFuture(symbol='ES', lastTradeDateOrContractMonth='202109', exchange='GLOBEX')\n",
      "contract_details= (<class 'list'>)\n",
      "\t[ContractDetails(contract=Contract(secType='FUT', conId=428520022, symbol='ES', lastTradeDateOrContractMonth='20210917', multiplier='50', exchange='GLOBEX', currency='USD', localSymbol='ESU1', tradingClass='ES'), marketName='ES', minTick=0.25, orderTypes='ACTIVETIM,AD,ADJUST,ALERT,ALGO,ALLOC,AVGCOST,BASKET,BENCHPX,COND,CONDORDER,DAY,DEACT,DEACTDIS,DEACTEOD,GAT,GTC,GTD,GTT,HID,ICE,IOC,LIT,LMT,LTH,MIT,MKT,MTL,NGCOMB,NONALGO,OCA,PEGBENCH,SCALE,SCALERST,SNAPMID,SNAPMKT,SNAPREL,STP,STPLMT,TRAIL,TRAILLIT,TRAILLMT,TRAILMIT,WHATIF', validExchanges='GLOBEX,QBALGO', priceMagnifier=1, underConId=11004968, longName='E-mini S&P 500', contractMonth='202109', industry='', category='', subcategory='', timeZoneId='US/Central', tradingHours='20210227:CLOSED;20210228:1700-20210301:1515;20210301:1530-20210301:1600;20210301:1700-20210302:1515;20210302:1530-20210302:1600;20210302:1700-20210303:1515;20210303:1530-20210303:1600;20210303:1700-20210304:1515;20210304:1530-20210304:1600;20210304:1700-20210305:1515;20210305:1530-20210305:1600', liquidHours='20210227:CLOSED;20210228:CLOSED;20210301:0830-20210301:1515;20210301:1530-20210301:1600;20210302:0830-20210302:1515;20210302:1530-20210302:1600;20210303:0830-20210303:1515;20210303:1530-20210303:1600;20210304:0830-20210304:1515;20210304:1530-20210304:1600;20210304:1700-20210305:1515;20210305:1530-20210305:1600', evRule='', evMultiplier=0, mdSizeMultiplier=1, aggGroup=2147483647, underSymbol='ES', underSecType='IND', marketRuleIds='67,67', secIdList=[], realExpirationDate='20210917', lastTradeTime='08:30', stockType='', cusip='', ratings='', descAppend='', bondType='', couponType='', callable=False, putable=False, coupon=0, convertible=False, maturity='', issueDate='', nextOptionDate='', nextOptionType='', nextOptionPartial=False, notes='')]\n"
     ]
    }
   ],
   "source": [
    "contract = ib_insync.Future('ES', '202109', 'GLOBEX')\n",
    "fut_contract = ibutils.to_contract_details(ib, contract)"
   ]
  },
  {
   "cell_type": "code",
   "execution_count": 21,
   "metadata": {
    "ExecuteTime": {
     "end_time": "2021-02-27T17:48:33.202834Z",
     "start_time": "2021-02-27T17:48:33.151428Z"
    }
   },
   "outputs": [
    {
     "name": "stdout",
     "output_type": "stream",
     "text": [
      "# eq\t\t\t\t\t\t\t      |\t# fut\n",
      "aggGroup= 1\t\t\t\t\t\t      |\taggGroup= 2147483647\n",
      "bondType= \t\t\t\t\t\t\tbondType= \n",
      "callable= False\t\t\t\t\t\t\tcallable= False\n",
      "category= Semiconductors\t\t\t\t      |\tcategory= \n",
      "contract= Contract(secType='STK', conId=270639, symbol='INTC' |\tcontract= Contract(secType='FUT', conId=428520022, symbol='ES\n",
      "contractMonth= \t\t\t\t\t\t      |\tcontractMonth= 202109\n",
      "convertible= False\t\t\t\t\t\tconvertible= False\n",
      "coupon= 0\t\t\t\t\t\t\tcoupon= 0\n",
      "couponType= \t\t\t\t\t\t\tcouponType= \n",
      "cusip= \t\t\t\t\t\t\t\tcusip= \n",
      "descAppend= \t\t\t\t\t\t\tdescAppend= \n",
      "evMultiplier= 0\t\t\t\t\t\t\tevMultiplier= 0\n",
      "evRule= \t\t\t\t\t\t\tevRule= \n",
      "industry= Technology\t\t\t\t\t      |\tindustry= \n",
      "issueDate= \t\t\t\t\t\t\tissueDate= \n",
      "lastTradeTime= \t\t\t\t\t\t      |\tlastTradeTime= 08:30\n",
      "liquidHours= 20210227:CLOSED;20210228:CLOSED;20210301:0930-20 |\tliquidHours= 20210227:CLOSED;20210228:CLOSED;20210301:0830-20\n",
      "longName= INTEL CORP\t\t\t\t\t      |\tlongName= E-mini S&P 500\n",
      "marketName= NMS\t\t\t\t\t\t      |\tmarketName= ES\n",
      "marketRuleIds= 26,26,26,26,26,26,26,26,26,26,26,26,26,26,26,2 |\tmarketRuleIds= 67,67\n",
      "maturity= \t\t\t\t\t\t\tmaturity= \n",
      "mdSizeMultiplier= 100\t\t\t\t\t      |\tmdSizeMultiplier= 1\n",
      "minTick= 0.01\t\t\t\t\t\t      |\tminTick= 0.25\n",
      "nextOptionDate= \t\t\t\t\t\tnextOptionDate= \n",
      "nextOptionPartial= False\t\t\t\t\tnextOptionPartial= False\n",
      "nextOptionType= \t\t\t\t\t\tnextOptionType= \n",
      "notes= \t\t\t\t\t\t\t\tnotes= \n",
      "orderTypes= ACTIVETIM,AD,ADJUST,ALERT,ALGO,ALLOC,AVGCOST,BASK |\torderTypes= ACTIVETIM,AD,ADJUST,ALERT,ALGO,ALLOC,AVGCOST,BASK\n",
      "priceMagnifier= 1\t\t\t\t\t\tpriceMagnifier= 1\n",
      "putable= False\t\t\t\t\t\t\tputable= False\n",
      "ratings= \t\t\t\t\t\t\tratings= \n",
      "realExpirationDate= \t\t\t\t\t      |\trealExpirationDate= 20210917\n",
      "secIdList= [TagValue(tag='ISIN', value='US4581401001')]\t      |\tsecIdList= []\n",
      "stockType= COMMON\t\t\t\t\t      |\tstockType= \n",
      "subcategory= Electronic Compo-Semicon\t\t\t      |\tsubcategory= \n",
      "timeZoneId= US/Eastern\t\t\t\t\t      |\ttimeZoneId= US/Central\n",
      "tradingHours= 20210227:CLOSED;20210228:CLOSED;20210301:0400-2 |\ttradingHours= 20210227:CLOSED;20210228:1700-20210301:1515;202\n",
      "underConId= 0\t\t\t\t\t\t      |\tunderConId= 11004968\n",
      "underSecType= \t\t\t\t\t\t      |\tunderSecType= IND\n",
      "underSymbol= \t\t\t\t\t\t      |\tunderSymbol= ES\n",
      "validExchanges= SMART,AMEX,NYSE,CBOE,PHLX,ISE,CHX,ARCA,ISLAND |\tvalidExchanges= GLOBEX,QBALGO\n"
     ]
    }
   ],
   "source": [
    "print(pri.diff_strings(eq_contract, fut_contract, \"eq\", \"fut\"))"
   ]
  },
  {
   "cell_type": "markdown",
   "metadata": {},
   "source": [
    "## Continuous Futures"
   ]
  },
  {
   "cell_type": "code",
   "execution_count": 25,
   "metadata": {
    "ExecuteTime": {
     "end_time": "2021-02-27T17:49:26.116390Z",
     "start_time": "2021-02-27T17:49:26.080011Z"
    }
   },
   "outputs": [],
   "source": [
    "#contract = ib_insync.ContFuture('ES', '202109', 'GLOBEX')\n",
    "#fut_contract = ibutils.to_contract_details(ib, contract)"
   ]
  },
  {
   "cell_type": "markdown",
   "metadata": {
    "ExecuteTime": {
     "end_time": "2021-02-07T02:05:20.406750Z",
     "start_time": "2021-02-07T02:05:20.005Z"
    }
   },
   "source": [
    "## Option"
   ]
  },
  {
   "cell_type": "code",
   "execution_count": null,
   "metadata": {
    "ExecuteTime": {
     "end_time": "2021-02-27T17:48:43.187990Z",
     "start_time": "2021-02-27T17:48:32.152Z"
    }
   },
   "outputs": [],
   "source": [
    "contract = ib_insync.Option('SPY', '202107', 240, 'C', 'SMART')\n",
    "opt_contract = ibutils.to_contract_details(ib, contract)"
   ]
  },
  {
   "cell_type": "markdown",
   "metadata": {
    "ExecuteTime": {
     "end_time": "2021-02-07T02:05:20.407691Z",
     "start_time": "2021-02-07T02:05:20.007Z"
    }
   },
   "source": [
    "## Bond"
   ]
  },
  {
   "cell_type": "code",
   "execution_count": null,
   "metadata": {
    "ExecuteTime": {
     "end_time": "2021-02-27T17:48:43.189409Z",
     "start_time": "2021-02-27T17:48:32.155Z"
    }
   },
   "outputs": [],
   "source": [
    "contract = Bond(secIdType='ISIN', secId='US03076KAA60')\n",
    "bond_contract = ibutils.to_contract_details(ib, contract)"
   ]
  },
  {
   "cell_type": "markdown",
   "metadata": {},
   "source": [
    "# Contract details"
   ]
  },
  {
   "cell_type": "markdown",
   "metadata": {},
   "source": [
    "## Equities"
   ]
  },
  {
   "cell_type": "code",
   "execution_count": 26,
   "metadata": {
    "ExecuteTime": {
     "end_time": "2021-02-27T17:49:30.173610Z",
     "start_time": "2021-02-27T17:49:29.152044Z"
    }
   },
   "outputs": [
    {
     "name": "stdout",
     "output_type": "stream",
     "text": [
      "num contracts= 38\n",
      "ContractDetails(contract=Contract(secType='STK', conId=4391, symbol='AMD', exchange='SMART', primaryExchange='NASDAQ', currency='USD', localSymbol='AMD', tradingClass='NMS'), marketName='NMS', minTick=0.01, orderTypes='ACTIVETIM,AD,ADJUST,ALERT,ALGO,ALLOC,AVGCOST,BASKET,BENCHPX,CASHQTY,COND,CONDORDER,DARKONLY,DARKPOLL,DAY,DEACT,DEACTDIS,DEACTEOD,DIS,GAT,GTC,GTD,GTT,HID,IBKRATS,ICE,IMB,IOC,LIT,LMT,LOC,MIDPX,MIT,MKT,MOC,MTL,NGCOMB,NODARK,NONALGO,OCA,OPG,OPGREROUT,PEGBENCH,POSTONLY,PREOPGRTH,PRICECHK,REL,RPI,RTH,SCALE,SCALEODD,SCALERST,SIZECHK,SMARTSTG,SNAPMID,SNAPMKT,SNAPREL,STP,STPLMT,SWEEP,TRAIL,TRAILLIT,TRAILLMT,TRAILMIT,WHATIF', validExchanges='SMART,AMEX,NYSE,CBOE,PHLX,ISE,CHX,ARCA,ISLAND,DRCTEDGE,BEX,BATS,EDGEA,CSFBALGO,JEFFALGO,BYX,IEX,EDGX,FOXRIVER,PEARL,NYSENAT,LTSE,MEMX,PSX', priceMagnifier=1, underConId=0, longName='ADVANCED MICRO DEVICES', contractMonth='', industry='Technology', category='Semiconductors', subcategory='Electronic Compo-Semicon', timeZoneId='US/Eastern', tradingHours='20210227:CLOSED;20210228:CLOSED;20210301:0400-20210301:2000;20210302:0400-20210302:2000;20210303:0400-20210303:2000;20210304:0400-20210304:2000', liquidHours='20210227:CLOSED;20210228:CLOSED;20210301:0930-20210301:1600;20210302:0930-20210302:1600;20210303:0930-20210303:1600;20210304:0930-20210304:1600', evRule='', evMultiplier=0, mdSizeMultiplier=100, aggGroup=1, underSymbol='', underSecType='', marketRuleIds='26,26,26,26,26,26,26,26,26,26,26,26,26,26,26,26,26,26,26,26,26,26,26,26', secIdList=[TagValue(tag='ISIN', value='US0079031078')], realExpirationDate='', lastTradeTime='', stockType='COMMON', cusip='', ratings='', descAppend='', bondType='', couponType='', callable=False, putable=False, coupon=0, convertible=False, maturity='', issueDate='', nextOptionDate='', nextOptionType='', nextOptionPartial=False, notes='')\n"
     ]
    }
   ],
   "source": [
    "# Look for Stocks matching AMD.\n",
    "asset = ib_insync.Stock(\"AMD\")\n",
    "cds = ib.reqContractDetails(asset)\n",
    "print(\"num contracts=\", len(cds))\n",
    "print(cds[0])"
   ]
  },
  {
   "cell_type": "code",
   "execution_count": 27,
   "metadata": {
    "ExecuteTime": {
     "end_time": "2021-02-27T17:49:31.308525Z",
     "start_time": "2021-02-27T17:49:31.227703Z"
    }
   },
   "outputs": [
    {
     "name": "stdout",
     "output_type": "stream",
     "text": [
      "Contract(secType='STK', conId=4391, symbol='AMD', exchange='SMART', primaryExchange='NASDAQ', currency='USD', localSymbol='AMD', tradingClass='NMS')\n"
     ]
    },
    {
     "data": {
      "text/html": [
       "<div>\n",
       "<style scoped>\n",
       "    .dataframe tbody tr th:only-of-type {\n",
       "        vertical-align: middle;\n",
       "    }\n",
       "\n",
       "    .dataframe tbody tr th {\n",
       "        vertical-align: top;\n",
       "    }\n",
       "\n",
       "    .dataframe thead th {\n",
       "        text-align: right;\n",
       "    }\n",
       "</style>\n",
       "<table border=\"1\" class=\"dataframe\">\n",
       "  <thead>\n",
       "    <tr style=\"text-align: right;\">\n",
       "      <th></th>\n",
       "      <th>secType</th>\n",
       "      <th>conId</th>\n",
       "      <th>symbol</th>\n",
       "      <th>lastTradeDateOrContractMonth</th>\n",
       "      <th>strike</th>\n",
       "      <th>right</th>\n",
       "      <th>multiplier</th>\n",
       "      <th>exchange</th>\n",
       "      <th>primaryExchange</th>\n",
       "      <th>currency</th>\n",
       "      <th>localSymbol</th>\n",
       "      <th>tradingClass</th>\n",
       "      <th>includeExpired</th>\n",
       "      <th>secIdType</th>\n",
       "      <th>secId</th>\n",
       "      <th>comboLegsDescrip</th>\n",
       "      <th>comboLegs</th>\n",
       "      <th>deltaNeutralContract</th>\n",
       "    </tr>\n",
       "  </thead>\n",
       "  <tbody>\n",
       "    <tr>\n",
       "      <th>0</th>\n",
       "      <td>STK</td>\n",
       "      <td>4391</td>\n",
       "      <td>AMD</td>\n",
       "      <td></td>\n",
       "      <td>0.0</td>\n",
       "      <td></td>\n",
       "      <td></td>\n",
       "      <td>SMART</td>\n",
       "      <td>NASDAQ</td>\n",
       "      <td>USD</td>\n",
       "      <td>AMD</td>\n",
       "      <td>NMS</td>\n",
       "      <td>False</td>\n",
       "      <td></td>\n",
       "      <td></td>\n",
       "      <td></td>\n",
       "      <td>[]</td>\n",
       "      <td>None</td>\n",
       "    </tr>\n",
       "    <tr>\n",
       "      <th>1</th>\n",
       "      <td>STK</td>\n",
       "      <td>4391</td>\n",
       "      <td>AMD</td>\n",
       "      <td></td>\n",
       "      <td>0.0</td>\n",
       "      <td></td>\n",
       "      <td></td>\n",
       "      <td>AMEX</td>\n",
       "      <td>NASDAQ</td>\n",
       "      <td>USD</td>\n",
       "      <td>AMD</td>\n",
       "      <td>NMS</td>\n",
       "      <td>False</td>\n",
       "      <td></td>\n",
       "      <td></td>\n",
       "      <td></td>\n",
       "      <td>[]</td>\n",
       "      <td>None</td>\n",
       "    </tr>\n",
       "    <tr>\n",
       "      <th>2</th>\n",
       "      <td>STK</td>\n",
       "      <td>32596680</td>\n",
       "      <td>AMD</td>\n",
       "      <td></td>\n",
       "      <td>0.0</td>\n",
       "      <td></td>\n",
       "      <td></td>\n",
       "      <td>SMART</td>\n",
       "      <td>IBIS</td>\n",
       "      <td>EUR</td>\n",
       "      <td>AMD</td>\n",
       "      <td>XETRA</td>\n",
       "      <td>False</td>\n",
       "      <td></td>\n",
       "      <td></td>\n",
       "      <td></td>\n",
       "      <td>[]</td>\n",
       "      <td>None</td>\n",
       "    </tr>\n",
       "    <tr>\n",
       "      <th>3</th>\n",
       "      <td>STK</td>\n",
       "      <td>4391</td>\n",
       "      <td>AMD</td>\n",
       "      <td></td>\n",
       "      <td>0.0</td>\n",
       "      <td></td>\n",
       "      <td></td>\n",
       "      <td>NYSE</td>\n",
       "      <td>NASDAQ</td>\n",
       "      <td>USD</td>\n",
       "      <td>AMD</td>\n",
       "      <td>NMS</td>\n",
       "      <td>False</td>\n",
       "      <td></td>\n",
       "      <td></td>\n",
       "      <td></td>\n",
       "      <td>[]</td>\n",
       "      <td>None</td>\n",
       "    </tr>\n",
       "    <tr>\n",
       "      <th>4</th>\n",
       "      <td>STK</td>\n",
       "      <td>4391</td>\n",
       "      <td>AMD</td>\n",
       "      <td></td>\n",
       "      <td>0.0</td>\n",
       "      <td></td>\n",
       "      <td></td>\n",
       "      <td>CBOE</td>\n",
       "      <td>NASDAQ</td>\n",
       "      <td>USD</td>\n",
       "      <td>AMD</td>\n",
       "      <td>NMS</td>\n",
       "      <td>False</td>\n",
       "      <td></td>\n",
       "      <td></td>\n",
       "      <td></td>\n",
       "      <td>[]</td>\n",
       "      <td>None</td>\n",
       "    </tr>\n",
       "    <tr>\n",
       "      <th>5</th>\n",
       "      <td>STK</td>\n",
       "      <td>4391</td>\n",
       "      <td>AMD</td>\n",
       "      <td></td>\n",
       "      <td>0.0</td>\n",
       "      <td></td>\n",
       "      <td></td>\n",
       "      <td>PHLX</td>\n",
       "      <td>NASDAQ</td>\n",
       "      <td>USD</td>\n",
       "      <td>AMD</td>\n",
       "      <td>NMS</td>\n",
       "      <td>False</td>\n",
       "      <td></td>\n",
       "      <td></td>\n",
       "      <td></td>\n",
       "      <td>[]</td>\n",
       "      <td>None</td>\n",
       "    </tr>\n",
       "    <tr>\n",
       "      <th>6</th>\n",
       "      <td>STK</td>\n",
       "      <td>4391</td>\n",
       "      <td>AMD</td>\n",
       "      <td></td>\n",
       "      <td>0.0</td>\n",
       "      <td></td>\n",
       "      <td></td>\n",
       "      <td>ISE</td>\n",
       "      <td>NASDAQ</td>\n",
       "      <td>USD</td>\n",
       "      <td>AMD</td>\n",
       "      <td>NMS</td>\n",
       "      <td>False</td>\n",
       "      <td></td>\n",
       "      <td></td>\n",
       "      <td></td>\n",
       "      <td>[]</td>\n",
       "      <td>None</td>\n",
       "    </tr>\n",
       "    <tr>\n",
       "      <th>7</th>\n",
       "      <td>STK</td>\n",
       "      <td>4391</td>\n",
       "      <td>AMD</td>\n",
       "      <td></td>\n",
       "      <td>0.0</td>\n",
       "      <td></td>\n",
       "      <td></td>\n",
       "      <td>CHX</td>\n",
       "      <td>NASDAQ</td>\n",
       "      <td>USD</td>\n",
       "      <td>AMD</td>\n",
       "      <td>NMS</td>\n",
       "      <td>False</td>\n",
       "      <td></td>\n",
       "      <td></td>\n",
       "      <td></td>\n",
       "      <td>[]</td>\n",
       "      <td>None</td>\n",
       "    </tr>\n",
       "    <tr>\n",
       "      <th>8</th>\n",
       "      <td>STK</td>\n",
       "      <td>4391</td>\n",
       "      <td>AMD</td>\n",
       "      <td></td>\n",
       "      <td>0.0</td>\n",
       "      <td></td>\n",
       "      <td></td>\n",
       "      <td>ARCA</td>\n",
       "      <td>NASDAQ</td>\n",
       "      <td>USD</td>\n",
       "      <td>AMD</td>\n",
       "      <td>NMS</td>\n",
       "      <td>False</td>\n",
       "      <td></td>\n",
       "      <td></td>\n",
       "      <td></td>\n",
       "      <td>[]</td>\n",
       "      <td>None</td>\n",
       "    </tr>\n",
       "    <tr>\n",
       "      <th>9</th>\n",
       "      <td>STK</td>\n",
       "      <td>4391</td>\n",
       "      <td>AMD</td>\n",
       "      <td></td>\n",
       "      <td>0.0</td>\n",
       "      <td></td>\n",
       "      <td></td>\n",
       "      <td>ISLAND</td>\n",
       "      <td>NASDAQ</td>\n",
       "      <td>USD</td>\n",
       "      <td>AMD</td>\n",
       "      <td>NMS</td>\n",
       "      <td>False</td>\n",
       "      <td></td>\n",
       "      <td></td>\n",
       "      <td></td>\n",
       "      <td>[]</td>\n",
       "      <td>None</td>\n",
       "    </tr>\n",
       "    <tr>\n",
       "      <th>10</th>\n",
       "      <td>STK</td>\n",
       "      <td>4391</td>\n",
       "      <td>AMD</td>\n",
       "      <td></td>\n",
       "      <td>0.0</td>\n",
       "      <td></td>\n",
       "      <td></td>\n",
       "      <td>DRCTEDGE</td>\n",
       "      <td>NASDAQ</td>\n",
       "      <td>USD</td>\n",
       "      <td>AMD</td>\n",
       "      <td>NMS</td>\n",
       "      <td>False</td>\n",
       "      <td></td>\n",
       "      <td></td>\n",
       "      <td></td>\n",
       "      <td>[]</td>\n",
       "      <td>None</td>\n",
       "    </tr>\n",
       "    <tr>\n",
       "      <th>11</th>\n",
       "      <td>STK</td>\n",
       "      <td>4391</td>\n",
       "      <td>AMD</td>\n",
       "      <td></td>\n",
       "      <td>0.0</td>\n",
       "      <td></td>\n",
       "      <td></td>\n",
       "      <td>BEX</td>\n",
       "      <td>NASDAQ</td>\n",
       "      <td>USD</td>\n",
       "      <td>AMD</td>\n",
       "      <td>NMS</td>\n",
       "      <td>False</td>\n",
       "      <td></td>\n",
       "      <td></td>\n",
       "      <td></td>\n",
       "      <td>[]</td>\n",
       "      <td>None</td>\n",
       "    </tr>\n",
       "    <tr>\n",
       "      <th>12</th>\n",
       "      <td>STK</td>\n",
       "      <td>4391</td>\n",
       "      <td>AMD</td>\n",
       "      <td></td>\n",
       "      <td>0.0</td>\n",
       "      <td></td>\n",
       "      <td></td>\n",
       "      <td>BATS</td>\n",
       "      <td>NASDAQ</td>\n",
       "      <td>USD</td>\n",
       "      <td>AMD</td>\n",
       "      <td>NMS</td>\n",
       "      <td>False</td>\n",
       "      <td></td>\n",
       "      <td></td>\n",
       "      <td></td>\n",
       "      <td>[]</td>\n",
       "      <td>None</td>\n",
       "    </tr>\n",
       "    <tr>\n",
       "      <th>13</th>\n",
       "      <td>STK</td>\n",
       "      <td>4391</td>\n",
       "      <td>AMD</td>\n",
       "      <td></td>\n",
       "      <td>0.0</td>\n",
       "      <td></td>\n",
       "      <td></td>\n",
       "      <td>EDGEA</td>\n",
       "      <td>NASDAQ</td>\n",
       "      <td>USD</td>\n",
       "      <td>AMD</td>\n",
       "      <td>NMS</td>\n",
       "      <td>False</td>\n",
       "      <td></td>\n",
       "      <td></td>\n",
       "      <td></td>\n",
       "      <td>[]</td>\n",
       "      <td>None</td>\n",
       "    </tr>\n",
       "    <tr>\n",
       "      <th>14</th>\n",
       "      <td>STK</td>\n",
       "      <td>4391</td>\n",
       "      <td>AMD</td>\n",
       "      <td></td>\n",
       "      <td>0.0</td>\n",
       "      <td></td>\n",
       "      <td></td>\n",
       "      <td>CSFBALGO</td>\n",
       "      <td>NASDAQ</td>\n",
       "      <td>USD</td>\n",
       "      <td>AMD</td>\n",
       "      <td>NMS</td>\n",
       "      <td>False</td>\n",
       "      <td></td>\n",
       "      <td></td>\n",
       "      <td></td>\n",
       "      <td>[]</td>\n",
       "      <td>None</td>\n",
       "    </tr>\n",
       "    <tr>\n",
       "      <th>15</th>\n",
       "      <td>STK</td>\n",
       "      <td>4391</td>\n",
       "      <td>AMD</td>\n",
       "      <td></td>\n",
       "      <td>0.0</td>\n",
       "      <td></td>\n",
       "      <td></td>\n",
       "      <td>JEFFALGO</td>\n",
       "      <td>NASDAQ</td>\n",
       "      <td>USD</td>\n",
       "      <td>AMD</td>\n",
       "      <td>NMS</td>\n",
       "      <td>False</td>\n",
       "      <td></td>\n",
       "      <td></td>\n",
       "      <td></td>\n",
       "      <td>[]</td>\n",
       "      <td>None</td>\n",
       "    </tr>\n",
       "    <tr>\n",
       "      <th>16</th>\n",
       "      <td>STK</td>\n",
       "      <td>4391</td>\n",
       "      <td>AMD</td>\n",
       "      <td></td>\n",
       "      <td>0.0</td>\n",
       "      <td></td>\n",
       "      <td></td>\n",
       "      <td>BYX</td>\n",
       "      <td>NASDAQ</td>\n",
       "      <td>USD</td>\n",
       "      <td>AMD</td>\n",
       "      <td>NMS</td>\n",
       "      <td>False</td>\n",
       "      <td></td>\n",
       "      <td></td>\n",
       "      <td></td>\n",
       "      <td>[]</td>\n",
       "      <td>None</td>\n",
       "    </tr>\n",
       "    <tr>\n",
       "      <th>17</th>\n",
       "      <td>STK</td>\n",
       "      <td>4391</td>\n",
       "      <td>AMD</td>\n",
       "      <td></td>\n",
       "      <td>0.0</td>\n",
       "      <td></td>\n",
       "      <td></td>\n",
       "      <td>IEX</td>\n",
       "      <td>NASDAQ</td>\n",
       "      <td>USD</td>\n",
       "      <td>AMD</td>\n",
       "      <td>NMS</td>\n",
       "      <td>False</td>\n",
       "      <td></td>\n",
       "      <td></td>\n",
       "      <td></td>\n",
       "      <td>[]</td>\n",
       "      <td>None</td>\n",
       "    </tr>\n",
       "    <tr>\n",
       "      <th>18</th>\n",
       "      <td>STK</td>\n",
       "      <td>4391</td>\n",
       "      <td>AMD</td>\n",
       "      <td></td>\n",
       "      <td>0.0</td>\n",
       "      <td></td>\n",
       "      <td></td>\n",
       "      <td>EDGX</td>\n",
       "      <td>NASDAQ</td>\n",
       "      <td>USD</td>\n",
       "      <td>AMD</td>\n",
       "      <td>NMS</td>\n",
       "      <td>False</td>\n",
       "      <td></td>\n",
       "      <td></td>\n",
       "      <td></td>\n",
       "      <td>[]</td>\n",
       "      <td>None</td>\n",
       "    </tr>\n",
       "    <tr>\n",
       "      <th>19</th>\n",
       "      <td>STK</td>\n",
       "      <td>4391</td>\n",
       "      <td>AMD</td>\n",
       "      <td></td>\n",
       "      <td>0.0</td>\n",
       "      <td></td>\n",
       "      <td></td>\n",
       "      <td>FOXRIVER</td>\n",
       "      <td>NASDAQ</td>\n",
       "      <td>USD</td>\n",
       "      <td>AMD</td>\n",
       "      <td>NMS</td>\n",
       "      <td>False</td>\n",
       "      <td></td>\n",
       "      <td></td>\n",
       "      <td></td>\n",
       "      <td>[]</td>\n",
       "      <td>None</td>\n",
       "    </tr>\n",
       "    <tr>\n",
       "      <th>20</th>\n",
       "      <td>STK</td>\n",
       "      <td>4391</td>\n",
       "      <td>AMD</td>\n",
       "      <td></td>\n",
       "      <td>0.0</td>\n",
       "      <td></td>\n",
       "      <td></td>\n",
       "      <td>PEARL</td>\n",
       "      <td>NASDAQ</td>\n",
       "      <td>USD</td>\n",
       "      <td>AMD</td>\n",
       "      <td>NMS</td>\n",
       "      <td>False</td>\n",
       "      <td></td>\n",
       "      <td></td>\n",
       "      <td></td>\n",
       "      <td>[]</td>\n",
       "      <td>None</td>\n",
       "    </tr>\n",
       "    <tr>\n",
       "      <th>21</th>\n",
       "      <td>STK</td>\n",
       "      <td>4391</td>\n",
       "      <td>AMD</td>\n",
       "      <td></td>\n",
       "      <td>0.0</td>\n",
       "      <td></td>\n",
       "      <td></td>\n",
       "      <td>NYSENAT</td>\n",
       "      <td>NASDAQ</td>\n",
       "      <td>USD</td>\n",
       "      <td>AMD</td>\n",
       "      <td>NMS</td>\n",
       "      <td>False</td>\n",
       "      <td></td>\n",
       "      <td></td>\n",
       "      <td></td>\n",
       "      <td>[]</td>\n",
       "      <td>None</td>\n",
       "    </tr>\n",
       "    <tr>\n",
       "      <th>22</th>\n",
       "      <td>STK</td>\n",
       "      <td>4391</td>\n",
       "      <td>AMD</td>\n",
       "      <td></td>\n",
       "      <td>0.0</td>\n",
       "      <td></td>\n",
       "      <td></td>\n",
       "      <td>LTSE</td>\n",
       "      <td>NASDAQ</td>\n",
       "      <td>USD</td>\n",
       "      <td>AMD</td>\n",
       "      <td>NMS</td>\n",
       "      <td>False</td>\n",
       "      <td></td>\n",
       "      <td></td>\n",
       "      <td></td>\n",
       "      <td>[]</td>\n",
       "      <td>None</td>\n",
       "    </tr>\n",
       "    <tr>\n",
       "      <th>23</th>\n",
       "      <td>STK</td>\n",
       "      <td>4391</td>\n",
       "      <td>AMD</td>\n",
       "      <td></td>\n",
       "      <td>0.0</td>\n",
       "      <td></td>\n",
       "      <td></td>\n",
       "      <td>MEMX</td>\n",
       "      <td>NASDAQ</td>\n",
       "      <td>USD</td>\n",
       "      <td>AMD</td>\n",
       "      <td>NMS</td>\n",
       "      <td>False</td>\n",
       "      <td></td>\n",
       "      <td></td>\n",
       "      <td></td>\n",
       "      <td>[]</td>\n",
       "      <td>None</td>\n",
       "    </tr>\n",
       "    <tr>\n",
       "      <th>24</th>\n",
       "      <td>STK</td>\n",
       "      <td>4391</td>\n",
       "      <td>AMD</td>\n",
       "      <td></td>\n",
       "      <td>0.0</td>\n",
       "      <td></td>\n",
       "      <td></td>\n",
       "      <td>PSX</td>\n",
       "      <td>NASDAQ</td>\n",
       "      <td>USD</td>\n",
       "      <td>AMD</td>\n",
       "      <td>NMS</td>\n",
       "      <td>False</td>\n",
       "      <td></td>\n",
       "      <td></td>\n",
       "      <td></td>\n",
       "      <td>[]</td>\n",
       "      <td>None</td>\n",
       "    </tr>\n",
       "    <tr>\n",
       "      <th>25</th>\n",
       "      <td>STK</td>\n",
       "      <td>32596680</td>\n",
       "      <td>AMD</td>\n",
       "      <td></td>\n",
       "      <td>0.0</td>\n",
       "      <td></td>\n",
       "      <td></td>\n",
       "      <td>FWB</td>\n",
       "      <td>IBIS</td>\n",
       "      <td>EUR</td>\n",
       "      <td>AMD</td>\n",
       "      <td>USSTARS</td>\n",
       "      <td>False</td>\n",
       "      <td></td>\n",
       "      <td></td>\n",
       "      <td></td>\n",
       "      <td>[]</td>\n",
       "      <td>None</td>\n",
       "    </tr>\n",
       "    <tr>\n",
       "      <th>26</th>\n",
       "      <td>STK</td>\n",
       "      <td>32596680</td>\n",
       "      <td>AMD</td>\n",
       "      <td></td>\n",
       "      <td>0.0</td>\n",
       "      <td></td>\n",
       "      <td></td>\n",
       "      <td>IBIS</td>\n",
       "      <td>IBIS</td>\n",
       "      <td>EUR</td>\n",
       "      <td>AMD</td>\n",
       "      <td>XETRA</td>\n",
       "      <td>False</td>\n",
       "      <td></td>\n",
       "      <td></td>\n",
       "      <td></td>\n",
       "      <td>[]</td>\n",
       "      <td>None</td>\n",
       "    </tr>\n",
       "    <tr>\n",
       "      <th>27</th>\n",
       "      <td>STK</td>\n",
       "      <td>32596680</td>\n",
       "      <td>AMD</td>\n",
       "      <td></td>\n",
       "      <td>0.0</td>\n",
       "      <td></td>\n",
       "      <td></td>\n",
       "      <td>BVME</td>\n",
       "      <td>IBIS</td>\n",
       "      <td>EUR</td>\n",
       "      <td>AMD</td>\n",
       "      <td>AMD</td>\n",
       "      <td>False</td>\n",
       "      <td></td>\n",
       "      <td></td>\n",
       "      <td></td>\n",
       "      <td>[]</td>\n",
       "      <td>None</td>\n",
       "    </tr>\n",
       "    <tr>\n",
       "      <th>28</th>\n",
       "      <td>STK</td>\n",
       "      <td>32596680</td>\n",
       "      <td>AMD</td>\n",
       "      <td></td>\n",
       "      <td>0.0</td>\n",
       "      <td></td>\n",
       "      <td></td>\n",
       "      <td>VSE</td>\n",
       "      <td>IBIS</td>\n",
       "      <td>EUR</td>\n",
       "      <td>AMD</td>\n",
       "      <td>AMD</td>\n",
       "      <td>False</td>\n",
       "      <td></td>\n",
       "      <td></td>\n",
       "      <td></td>\n",
       "      <td>[]</td>\n",
       "      <td>None</td>\n",
       "    </tr>\n",
       "    <tr>\n",
       "      <th>29</th>\n",
       "      <td>STK</td>\n",
       "      <td>32596680</td>\n",
       "      <td>AMD</td>\n",
       "      <td></td>\n",
       "      <td>0.0</td>\n",
       "      <td></td>\n",
       "      <td></td>\n",
       "      <td>SWB</td>\n",
       "      <td>IBIS</td>\n",
       "      <td>EUR</td>\n",
       "      <td>AMD</td>\n",
       "      <td>XETRA</td>\n",
       "      <td>False</td>\n",
       "      <td></td>\n",
       "      <td></td>\n",
       "      <td></td>\n",
       "      <td>[]</td>\n",
       "      <td>None</td>\n",
       "    </tr>\n",
       "    <tr>\n",
       "      <th>30</th>\n",
       "      <td>STK</td>\n",
       "      <td>32596680</td>\n",
       "      <td>AMD</td>\n",
       "      <td></td>\n",
       "      <td>0.0</td>\n",
       "      <td></td>\n",
       "      <td></td>\n",
       "      <td>TGATE</td>\n",
       "      <td>IBIS</td>\n",
       "      <td>EUR</td>\n",
       "      <td>AMD</td>\n",
       "      <td>AMD</td>\n",
       "      <td>False</td>\n",
       "      <td></td>\n",
       "      <td></td>\n",
       "      <td></td>\n",
       "      <td>[]</td>\n",
       "      <td>None</td>\n",
       "    </tr>\n",
       "    <tr>\n",
       "      <th>31</th>\n",
       "      <td>STK</td>\n",
       "      <td>32596680</td>\n",
       "      <td>AMD</td>\n",
       "      <td></td>\n",
       "      <td>0.0</td>\n",
       "      <td></td>\n",
       "      <td></td>\n",
       "      <td>GETTEX</td>\n",
       "      <td>IBIS</td>\n",
       "      <td>EUR</td>\n",
       "      <td>AMD</td>\n",
       "      <td>USSTARS</td>\n",
       "      <td>False</td>\n",
       "      <td></td>\n",
       "      <td></td>\n",
       "      <td></td>\n",
       "      <td>[]</td>\n",
       "      <td>None</td>\n",
       "    </tr>\n",
       "    <tr>\n",
       "      <th>32</th>\n",
       "      <td>STK</td>\n",
       "      <td>48818298</td>\n",
       "      <td>AMD</td>\n",
       "      <td></td>\n",
       "      <td>0.0</td>\n",
       "      <td></td>\n",
       "      <td></td>\n",
       "      <td>MEXI</td>\n",
       "      <td>MEXI</td>\n",
       "      <td>MXN</td>\n",
       "      <td>AMD</td>\n",
       "      <td>AMD</td>\n",
       "      <td>False</td>\n",
       "      <td></td>\n",
       "      <td></td>\n",
       "      <td></td>\n",
       "      <td>[]</td>\n",
       "      <td>None</td>\n",
       "    </tr>\n",
       "    <tr>\n",
       "      <th>33</th>\n",
       "      <td>STK</td>\n",
       "      <td>172603743</td>\n",
       "      <td>AMD</td>\n",
       "      <td></td>\n",
       "      <td>0.0</td>\n",
       "      <td></td>\n",
       "      <td></td>\n",
       "      <td>EBS</td>\n",
       "      <td>EBS</td>\n",
       "      <td>CHF</td>\n",
       "      <td>AMD</td>\n",
       "      <td>AMD</td>\n",
       "      <td>False</td>\n",
       "      <td></td>\n",
       "      <td></td>\n",
       "      <td></td>\n",
       "      <td>[]</td>\n",
       "      <td>None</td>\n",
       "    </tr>\n",
       "    <tr>\n",
       "      <th>34</th>\n",
       "      <td>STK</td>\n",
       "      <td>298633607</td>\n",
       "      <td>AMD</td>\n",
       "      <td></td>\n",
       "      <td>0.0</td>\n",
       "      <td></td>\n",
       "      <td></td>\n",
       "      <td>ASX</td>\n",
       "      <td>ASX</td>\n",
       "      <td>AUD</td>\n",
       "      <td>AMD</td>\n",
       "      <td>AMD</td>\n",
       "      <td>False</td>\n",
       "      <td></td>\n",
       "      <td></td>\n",
       "      <td></td>\n",
       "      <td>[]</td>\n",
       "      <td>None</td>\n",
       "    </tr>\n",
       "    <tr>\n",
       "      <th>35</th>\n",
       "      <td>STK</td>\n",
       "      <td>298633607</td>\n",
       "      <td>AMD</td>\n",
       "      <td></td>\n",
       "      <td>0.0</td>\n",
       "      <td></td>\n",
       "      <td></td>\n",
       "      <td>ASXCEN</td>\n",
       "      <td>ASX</td>\n",
       "      <td>AUD</td>\n",
       "      <td>AMD</td>\n",
       "      <td>AMD</td>\n",
       "      <td>False</td>\n",
       "      <td></td>\n",
       "      <td></td>\n",
       "      <td></td>\n",
       "      <td>[]</td>\n",
       "      <td>None</td>\n",
       "    </tr>\n",
       "    <tr>\n",
       "      <th>36</th>\n",
       "      <td>STK</td>\n",
       "      <td>172603743</td>\n",
       "      <td>AMD</td>\n",
       "      <td></td>\n",
       "      <td>0.0</td>\n",
       "      <td></td>\n",
       "      <td></td>\n",
       "      <td>SMART</td>\n",
       "      <td>EBS</td>\n",
       "      <td>CHF</td>\n",
       "      <td>AMD</td>\n",
       "      <td>AMD</td>\n",
       "      <td>False</td>\n",
       "      <td></td>\n",
       "      <td></td>\n",
       "      <td></td>\n",
       "      <td>[]</td>\n",
       "      <td>None</td>\n",
       "    </tr>\n",
       "    <tr>\n",
       "      <th>37</th>\n",
       "      <td>STK</td>\n",
       "      <td>298633607</td>\n",
       "      <td>AMD</td>\n",
       "      <td></td>\n",
       "      <td>0.0</td>\n",
       "      <td></td>\n",
       "      <td></td>\n",
       "      <td>SMART</td>\n",
       "      <td>ASX</td>\n",
       "      <td>AUD</td>\n",
       "      <td>AMD</td>\n",
       "      <td>AMD</td>\n",
       "      <td>False</td>\n",
       "      <td></td>\n",
       "      <td></td>\n",
       "      <td></td>\n",
       "      <td>[]</td>\n",
       "      <td>None</td>\n",
       "    </tr>\n",
       "  </tbody>\n",
       "</table>\n",
       "</div>"
      ],
      "text/plain": [
       "   secType      conId symbol lastTradeDateOrContractMonth  strike right  \\\n",
       "0      STK       4391    AMD                                  0.0         \n",
       "1      STK       4391    AMD                                  0.0         \n",
       "2      STK   32596680    AMD                                  0.0         \n",
       "3      STK       4391    AMD                                  0.0         \n",
       "4      STK       4391    AMD                                  0.0         \n",
       "5      STK       4391    AMD                                  0.0         \n",
       "6      STK       4391    AMD                                  0.0         \n",
       "7      STK       4391    AMD                                  0.0         \n",
       "8      STK       4391    AMD                                  0.0         \n",
       "9      STK       4391    AMD                                  0.0         \n",
       "10     STK       4391    AMD                                  0.0         \n",
       "11     STK       4391    AMD                                  0.0         \n",
       "12     STK       4391    AMD                                  0.0         \n",
       "13     STK       4391    AMD                                  0.0         \n",
       "14     STK       4391    AMD                                  0.0         \n",
       "15     STK       4391    AMD                                  0.0         \n",
       "16     STK       4391    AMD                                  0.0         \n",
       "17     STK       4391    AMD                                  0.0         \n",
       "18     STK       4391    AMD                                  0.0         \n",
       "19     STK       4391    AMD                                  0.0         \n",
       "20     STK       4391    AMD                                  0.0         \n",
       "21     STK       4391    AMD                                  0.0         \n",
       "22     STK       4391    AMD                                  0.0         \n",
       "23     STK       4391    AMD                                  0.0         \n",
       "24     STK       4391    AMD                                  0.0         \n",
       "25     STK   32596680    AMD                                  0.0         \n",
       "26     STK   32596680    AMD                                  0.0         \n",
       "27     STK   32596680    AMD                                  0.0         \n",
       "28     STK   32596680    AMD                                  0.0         \n",
       "29     STK   32596680    AMD                                  0.0         \n",
       "30     STK   32596680    AMD                                  0.0         \n",
       "31     STK   32596680    AMD                                  0.0         \n",
       "32     STK   48818298    AMD                                  0.0         \n",
       "33     STK  172603743    AMD                                  0.0         \n",
       "34     STK  298633607    AMD                                  0.0         \n",
       "35     STK  298633607    AMD                                  0.0         \n",
       "36     STK  172603743    AMD                                  0.0         \n",
       "37     STK  298633607    AMD                                  0.0         \n",
       "\n",
       "   multiplier  exchange primaryExchange currency localSymbol tradingClass  \\\n",
       "0                 SMART          NASDAQ      USD         AMD          NMS   \n",
       "1                  AMEX          NASDAQ      USD         AMD          NMS   \n",
       "2                 SMART            IBIS      EUR         AMD        XETRA   \n",
       "3                  NYSE          NASDAQ      USD         AMD          NMS   \n",
       "4                  CBOE          NASDAQ      USD         AMD          NMS   \n",
       "5                  PHLX          NASDAQ      USD         AMD          NMS   \n",
       "6                   ISE          NASDAQ      USD         AMD          NMS   \n",
       "7                   CHX          NASDAQ      USD         AMD          NMS   \n",
       "8                  ARCA          NASDAQ      USD         AMD          NMS   \n",
       "9                ISLAND          NASDAQ      USD         AMD          NMS   \n",
       "10             DRCTEDGE          NASDAQ      USD         AMD          NMS   \n",
       "11                  BEX          NASDAQ      USD         AMD          NMS   \n",
       "12                 BATS          NASDAQ      USD         AMD          NMS   \n",
       "13                EDGEA          NASDAQ      USD         AMD          NMS   \n",
       "14             CSFBALGO          NASDAQ      USD         AMD          NMS   \n",
       "15             JEFFALGO          NASDAQ      USD         AMD          NMS   \n",
       "16                  BYX          NASDAQ      USD         AMD          NMS   \n",
       "17                  IEX          NASDAQ      USD         AMD          NMS   \n",
       "18                 EDGX          NASDAQ      USD         AMD          NMS   \n",
       "19             FOXRIVER          NASDAQ      USD         AMD          NMS   \n",
       "20                PEARL          NASDAQ      USD         AMD          NMS   \n",
       "21              NYSENAT          NASDAQ      USD         AMD          NMS   \n",
       "22                 LTSE          NASDAQ      USD         AMD          NMS   \n",
       "23                 MEMX          NASDAQ      USD         AMD          NMS   \n",
       "24                  PSX          NASDAQ      USD         AMD          NMS   \n",
       "25                  FWB            IBIS      EUR         AMD      USSTARS   \n",
       "26                 IBIS            IBIS      EUR         AMD        XETRA   \n",
       "27                 BVME            IBIS      EUR         AMD          AMD   \n",
       "28                  VSE            IBIS      EUR         AMD          AMD   \n",
       "29                  SWB            IBIS      EUR         AMD        XETRA   \n",
       "30                TGATE            IBIS      EUR         AMD          AMD   \n",
       "31               GETTEX            IBIS      EUR         AMD      USSTARS   \n",
       "32                 MEXI            MEXI      MXN         AMD          AMD   \n",
       "33                  EBS             EBS      CHF         AMD          AMD   \n",
       "34                  ASX             ASX      AUD         AMD          AMD   \n",
       "35               ASXCEN             ASX      AUD         AMD          AMD   \n",
       "36                SMART             EBS      CHF         AMD          AMD   \n",
       "37                SMART             ASX      AUD         AMD          AMD   \n",
       "\n",
       "    includeExpired secIdType secId comboLegsDescrip comboLegs  \\\n",
       "0            False                                         []   \n",
       "1            False                                         []   \n",
       "2            False                                         []   \n",
       "3            False                                         []   \n",
       "4            False                                         []   \n",
       "5            False                                         []   \n",
       "6            False                                         []   \n",
       "7            False                                         []   \n",
       "8            False                                         []   \n",
       "9            False                                         []   \n",
       "10           False                                         []   \n",
       "11           False                                         []   \n",
       "12           False                                         []   \n",
       "13           False                                         []   \n",
       "14           False                                         []   \n",
       "15           False                                         []   \n",
       "16           False                                         []   \n",
       "17           False                                         []   \n",
       "18           False                                         []   \n",
       "19           False                                         []   \n",
       "20           False                                         []   \n",
       "21           False                                         []   \n",
       "22           False                                         []   \n",
       "23           False                                         []   \n",
       "24           False                                         []   \n",
       "25           False                                         []   \n",
       "26           False                                         []   \n",
       "27           False                                         []   \n",
       "28           False                                         []   \n",
       "29           False                                         []   \n",
       "30           False                                         []   \n",
       "31           False                                         []   \n",
       "32           False                                         []   \n",
       "33           False                                         []   \n",
       "34           False                                         []   \n",
       "35           False                                         []   \n",
       "36           False                                         []   \n",
       "37           False                                         []   \n",
       "\n",
       "   deltaNeutralContract  \n",
       "0                  None  \n",
       "1                  None  \n",
       "2                  None  \n",
       "3                  None  \n",
       "4                  None  \n",
       "5                  None  \n",
       "6                  None  \n",
       "7                  None  \n",
       "8                  None  \n",
       "9                  None  \n",
       "10                 None  \n",
       "11                 None  \n",
       "12                 None  \n",
       "13                 None  \n",
       "14                 None  \n",
       "15                 None  \n",
       "16                 None  \n",
       "17                 None  \n",
       "18                 None  \n",
       "19                 None  \n",
       "20                 None  \n",
       "21                 None  \n",
       "22                 None  \n",
       "23                 None  \n",
       "24                 None  \n",
       "25                 None  \n",
       "26                 None  \n",
       "27                 None  \n",
       "28                 None  \n",
       "29                 None  \n",
       "30                 None  \n",
       "31                 None  \n",
       "32                 None  \n",
       "33                 None  \n",
       "34                 None  \n",
       "35                 None  \n",
       "36                 None  \n",
       "37                 None  "
      ]
     },
     "execution_count": 27,
     "metadata": {},
     "output_type": "execute_result"
    }
   ],
   "source": [
    "contracts = [cd.contract for cd in cds]\n",
    "print(contracts[0])\n",
    "\n",
    "ib_insync.util.df(contracts)"
   ]
  },
  {
   "cell_type": "code",
   "execution_count": null,
   "metadata": {
    "ExecuteTime": {
     "end_time": "2021-02-27T17:48:43.192987Z",
     "start_time": "2021-02-27T17:48:32.164Z"
    }
   },
   "outputs": [],
   "source": [
    "# Show that there is a single AMD in US.\n",
    "asset = ib_insync.Stock(\"AMD\", \"SMART\", \"USD\")\n",
    "print(\"asset=\", asset)\n",
    "cds = ib.reqContractDetails(asset)\n",
    "print(\"num contracts=\", len(cds))\n",
    "dbg.dassert_eq(len(cds), 1)\n",
    "print(cds[0])"
   ]
  },
  {
   "cell_type": "code",
   "execution_count": null,
   "metadata": {
    "ExecuteTime": {
     "end_time": "2021-02-27T17:48:43.194218Z",
     "start_time": "2021-02-27T17:48:32.166Z"
    }
   },
   "outputs": [],
   "source": [
    "ib.qualifyContracts(asset)"
   ]
  },
  {
   "cell_type": "code",
   "execution_count": null,
   "metadata": {
    "ExecuteTime": {
     "end_time": "2021-02-27T17:48:43.195400Z",
     "start_time": "2021-02-27T17:48:32.169Z"
    }
   },
   "outputs": [],
   "source": [
    "# Request stocks that match a pattern.\n",
    "matches = ib.reqMatchingSymbols(\"intc\")\n",
    "contracts = [m.contract for m in matches]\n",
    "ib_insync.util.df(contracts)"
   ]
  },
  {
   "cell_type": "markdown",
   "metadata": {},
   "source": [
    "## Futures"
   ]
  },
  {
   "cell_type": "code",
   "execution_count": 31,
   "metadata": {
    "ExecuteTime": {
     "end_time": "2021-02-27T17:50:50.282166Z",
     "start_time": "2021-02-27T17:50:50.195862Z"
    },
    "lines_to_next_cell": 2,
    "scrolled": false
   },
   "outputs": [
    {
     "name": "stdout",
     "output_type": "stream",
     "text": [
      "num contracts= 26\n",
      "Contract(secType='FUT', conId=299552802, symbol='ES', lastTradeDateOrContractMonth='20190315', multiplier='50', exchange='GLOBEX', currency='USD', localSymbol='ESH9', tradingClass='ES')\n",
      "exchange= ['GLOBEX' 'QBALGO']\n"
     ]
    },
    {
     "data": {
      "text/html": [
       "<div>\n",
       "<style scoped>\n",
       "    .dataframe tbody tr th:only-of-type {\n",
       "        vertical-align: middle;\n",
       "    }\n",
       "\n",
       "    .dataframe tbody tr th {\n",
       "        vertical-align: top;\n",
       "    }\n",
       "\n",
       "    .dataframe thead th {\n",
       "        text-align: right;\n",
       "    }\n",
       "</style>\n",
       "<table border=\"1\" class=\"dataframe\">\n",
       "  <thead>\n",
       "    <tr style=\"text-align: right;\">\n",
       "      <th></th>\n",
       "      <th>conId</th>\n",
       "      <th>lastTradeDateOrContractMonth</th>\n",
       "      <th>localSymbol</th>\n",
       "    </tr>\n",
       "  </thead>\n",
       "  <tbody>\n",
       "    <tr>\n",
       "      <th>0</th>\n",
       "      <td>299552802</td>\n",
       "      <td>20190315</td>\n",
       "      <td>ESH9</td>\n",
       "    </tr>\n",
       "    <tr>\n",
       "      <th>2</th>\n",
       "      <td>310629209</td>\n",
       "      <td>20190621</td>\n",
       "      <td>ESM9</td>\n",
       "    </tr>\n",
       "    <tr>\n",
       "      <th>4</th>\n",
       "      <td>321454763</td>\n",
       "      <td>20190920</td>\n",
       "      <td>ESU9</td>\n",
       "    </tr>\n",
       "    <tr>\n",
       "      <th>6</th>\n",
       "      <td>334144679</td>\n",
       "      <td>20191220</td>\n",
       "      <td>ESZ9</td>\n",
       "    </tr>\n",
       "    <tr>\n",
       "      <th>8</th>\n",
       "      <td>346577697</td>\n",
       "      <td>20200320</td>\n",
       "      <td>ESH0</td>\n",
       "    </tr>\n",
       "    <tr>\n",
       "      <th>10</th>\n",
       "      <td>357283364</td>\n",
       "      <td>20200619</td>\n",
       "      <td>ESM0</td>\n",
       "    </tr>\n",
       "    <tr>\n",
       "      <th>13</th>\n",
       "      <td>371749798</td>\n",
       "      <td>20200918</td>\n",
       "      <td>ESU0</td>\n",
       "    </tr>\n",
       "    <tr>\n",
       "      <th>14</th>\n",
       "      <td>383974339</td>\n",
       "      <td>20201218</td>\n",
       "      <td>ESZ0</td>\n",
       "    </tr>\n",
       "    <tr>\n",
       "      <th>16</th>\n",
       "      <td>396336017</td>\n",
       "      <td>20210319</td>\n",
       "      <td>ESH1</td>\n",
       "    </tr>\n",
       "    <tr>\n",
       "      <th>18</th>\n",
       "      <td>412889032</td>\n",
       "      <td>20210618</td>\n",
       "      <td>ESM1</td>\n",
       "    </tr>\n",
       "    <tr>\n",
       "      <th>20</th>\n",
       "      <td>428520022</td>\n",
       "      <td>20210917</td>\n",
       "      <td>ESU1</td>\n",
       "    </tr>\n",
       "    <tr>\n",
       "      <th>22</th>\n",
       "      <td>446091461</td>\n",
       "      <td>20211217</td>\n",
       "      <td>ESZ1</td>\n",
       "    </tr>\n",
       "    <tr>\n",
       "      <th>24</th>\n",
       "      <td>461318816</td>\n",
       "      <td>20220317</td>\n",
       "      <td>ESH2</td>\n",
       "    </tr>\n",
       "  </tbody>\n",
       "</table>\n",
       "</div>"
      ],
      "text/plain": [
       "        conId lastTradeDateOrContractMonth localSymbol\n",
       "0   299552802                     20190315        ESH9\n",
       "2   310629209                     20190621        ESM9\n",
       "4   321454763                     20190920        ESU9\n",
       "6   334144679                     20191220        ESZ9\n",
       "8   346577697                     20200320        ESH0\n",
       "10  357283364                     20200619        ESM0\n",
       "13  371749798                     20200918        ESU0\n",
       "14  383974339                     20201218        ESZ0\n",
       "16  396336017                     20210319        ESH1\n",
       "18  412889032                     20210618        ESM1\n",
       "20  428520022                     20210917        ESU1\n",
       "22  446091461                     20211217        ESZ1\n",
       "24  461318816                     20220317        ESH2"
      ]
     },
     "metadata": {},
     "output_type": "display_data"
    }
   ],
   "source": [
    "# Look for ES.\n",
    "\n",
    "asset = ib_insync.Future(\"ES\", includeExpired=True)\n",
    "ibutils.get_contract_details(ib, asset)"
   ]
  },
  {
   "cell_type": "code",
   "execution_count": 39,
   "metadata": {
    "ExecuteTime": {
     "end_time": "2021-02-27T17:52:20.984886Z",
     "start_time": "2021-02-27T17:52:20.887767Z"
    }
   },
   "outputs": [
    {
     "data": {
      "text/html": [
       "<div>\n",
       "<style scoped>\n",
       "    .dataframe tbody tr th:only-of-type {\n",
       "        vertical-align: middle;\n",
       "    }\n",
       "\n",
       "    .dataframe tbody tr th {\n",
       "        vertical-align: top;\n",
       "    }\n",
       "\n",
       "    .dataframe thead th {\n",
       "        text-align: right;\n",
       "    }\n",
       "</style>\n",
       "<table border=\"1\" class=\"dataframe\">\n",
       "  <thead>\n",
       "    <tr style=\"text-align: right;\">\n",
       "      <th></th>\n",
       "      <th>secType</th>\n",
       "      <th>conId</th>\n",
       "      <th>symbol</th>\n",
       "      <th>lastTradeDateOrContractMonth</th>\n",
       "      <th>strike</th>\n",
       "      <th>right</th>\n",
       "      <th>multiplier</th>\n",
       "      <th>exchange</th>\n",
       "      <th>primaryExchange</th>\n",
       "      <th>currency</th>\n",
       "      <th>localSymbol</th>\n",
       "      <th>tradingClass</th>\n",
       "      <th>includeExpired</th>\n",
       "      <th>secIdType</th>\n",
       "      <th>secId</th>\n",
       "      <th>comboLegsDescrip</th>\n",
       "      <th>comboLegs</th>\n",
       "      <th>deltaNeutralContract</th>\n",
       "    </tr>\n",
       "  </thead>\n",
       "  <tbody>\n",
       "    <tr>\n",
       "      <th>0</th>\n",
       "      <td>FUT</td>\n",
       "      <td>299552802</td>\n",
       "      <td>ES</td>\n",
       "      <td>20190315</td>\n",
       "      <td>0.0</td>\n",
       "      <td></td>\n",
       "      <td>50</td>\n",
       "      <td>GLOBEX</td>\n",
       "      <td></td>\n",
       "      <td>USD</td>\n",
       "      <td>ESH9</td>\n",
       "      <td>ES</td>\n",
       "      <td>False</td>\n",
       "      <td></td>\n",
       "      <td></td>\n",
       "      <td></td>\n",
       "      <td>[]</td>\n",
       "      <td>None</td>\n",
       "    </tr>\n",
       "    <tr>\n",
       "      <th>1</th>\n",
       "      <td>FUT</td>\n",
       "      <td>299552802</td>\n",
       "      <td>ES</td>\n",
       "      <td>20190315</td>\n",
       "      <td>0.0</td>\n",
       "      <td></td>\n",
       "      <td>50</td>\n",
       "      <td>QBALGO</td>\n",
       "      <td></td>\n",
       "      <td>USD</td>\n",
       "      <td>ESH9</td>\n",
       "      <td>ES</td>\n",
       "      <td>False</td>\n",
       "      <td></td>\n",
       "      <td></td>\n",
       "      <td></td>\n",
       "      <td>[]</td>\n",
       "      <td>None</td>\n",
       "    </tr>\n",
       "    <tr>\n",
       "      <th>2</th>\n",
       "      <td>FUT</td>\n",
       "      <td>310629209</td>\n",
       "      <td>ES</td>\n",
       "      <td>20190621</td>\n",
       "      <td>0.0</td>\n",
       "      <td></td>\n",
       "      <td>50</td>\n",
       "      <td>GLOBEX</td>\n",
       "      <td></td>\n",
       "      <td>USD</td>\n",
       "      <td>ESM9</td>\n",
       "      <td>ES</td>\n",
       "      <td>False</td>\n",
       "      <td></td>\n",
       "      <td></td>\n",
       "      <td></td>\n",
       "      <td>[]</td>\n",
       "      <td>None</td>\n",
       "    </tr>\n",
       "    <tr>\n",
       "      <th>3</th>\n",
       "      <td>FUT</td>\n",
       "      <td>310629209</td>\n",
       "      <td>ES</td>\n",
       "      <td>20190621</td>\n",
       "      <td>0.0</td>\n",
       "      <td></td>\n",
       "      <td>50</td>\n",
       "      <td>QBALGO</td>\n",
       "      <td></td>\n",
       "      <td>USD</td>\n",
       "      <td>ESM9</td>\n",
       "      <td>ES</td>\n",
       "      <td>False</td>\n",
       "      <td></td>\n",
       "      <td></td>\n",
       "      <td></td>\n",
       "      <td>[]</td>\n",
       "      <td>None</td>\n",
       "    </tr>\n",
       "    <tr>\n",
       "      <th>4</th>\n",
       "      <td>FUT</td>\n",
       "      <td>321454763</td>\n",
       "      <td>ES</td>\n",
       "      <td>20190920</td>\n",
       "      <td>0.0</td>\n",
       "      <td></td>\n",
       "      <td>50</td>\n",
       "      <td>GLOBEX</td>\n",
       "      <td></td>\n",
       "      <td>USD</td>\n",
       "      <td>ESU9</td>\n",
       "      <td>ES</td>\n",
       "      <td>False</td>\n",
       "      <td></td>\n",
       "      <td></td>\n",
       "      <td></td>\n",
       "      <td>[]</td>\n",
       "      <td>None</td>\n",
       "    </tr>\n",
       "    <tr>\n",
       "      <th>5</th>\n",
       "      <td>FUT</td>\n",
       "      <td>321454763</td>\n",
       "      <td>ES</td>\n",
       "      <td>20190920</td>\n",
       "      <td>0.0</td>\n",
       "      <td></td>\n",
       "      <td>50</td>\n",
       "      <td>QBALGO</td>\n",
       "      <td></td>\n",
       "      <td>USD</td>\n",
       "      <td>ESU9</td>\n",
       "      <td>ES</td>\n",
       "      <td>False</td>\n",
       "      <td></td>\n",
       "      <td></td>\n",
       "      <td></td>\n",
       "      <td>[]</td>\n",
       "      <td>None</td>\n",
       "    </tr>\n",
       "    <tr>\n",
       "      <th>6</th>\n",
       "      <td>FUT</td>\n",
       "      <td>334144679</td>\n",
       "      <td>ES</td>\n",
       "      <td>20191220</td>\n",
       "      <td>0.0</td>\n",
       "      <td></td>\n",
       "      <td>50</td>\n",
       "      <td>GLOBEX</td>\n",
       "      <td></td>\n",
       "      <td>USD</td>\n",
       "      <td>ESZ9</td>\n",
       "      <td>ES</td>\n",
       "      <td>False</td>\n",
       "      <td></td>\n",
       "      <td></td>\n",
       "      <td></td>\n",
       "      <td>[]</td>\n",
       "      <td>None</td>\n",
       "    </tr>\n",
       "    <tr>\n",
       "      <th>7</th>\n",
       "      <td>FUT</td>\n",
       "      <td>334144679</td>\n",
       "      <td>ES</td>\n",
       "      <td>20191220</td>\n",
       "      <td>0.0</td>\n",
       "      <td></td>\n",
       "      <td>50</td>\n",
       "      <td>QBALGO</td>\n",
       "      <td></td>\n",
       "      <td>USD</td>\n",
       "      <td>ESZ9</td>\n",
       "      <td>ES</td>\n",
       "      <td>False</td>\n",
       "      <td></td>\n",
       "      <td></td>\n",
       "      <td></td>\n",
       "      <td>[]</td>\n",
       "      <td>None</td>\n",
       "    </tr>\n",
       "    <tr>\n",
       "      <th>8</th>\n",
       "      <td>FUT</td>\n",
       "      <td>346577697</td>\n",
       "      <td>ES</td>\n",
       "      <td>20200320</td>\n",
       "      <td>0.0</td>\n",
       "      <td></td>\n",
       "      <td>50</td>\n",
       "      <td>GLOBEX</td>\n",
       "      <td></td>\n",
       "      <td>USD</td>\n",
       "      <td>ESH0</td>\n",
       "      <td>ES</td>\n",
       "      <td>False</td>\n",
       "      <td></td>\n",
       "      <td></td>\n",
       "      <td></td>\n",
       "      <td>[]</td>\n",
       "      <td>None</td>\n",
       "    </tr>\n",
       "    <tr>\n",
       "      <th>9</th>\n",
       "      <td>FUT</td>\n",
       "      <td>346577697</td>\n",
       "      <td>ES</td>\n",
       "      <td>20200320</td>\n",
       "      <td>0.0</td>\n",
       "      <td></td>\n",
       "      <td>50</td>\n",
       "      <td>QBALGO</td>\n",
       "      <td></td>\n",
       "      <td>USD</td>\n",
       "      <td>ESH0</td>\n",
       "      <td>ES</td>\n",
       "      <td>False</td>\n",
       "      <td></td>\n",
       "      <td></td>\n",
       "      <td></td>\n",
       "      <td>[]</td>\n",
       "      <td>None</td>\n",
       "    </tr>\n",
       "    <tr>\n",
       "      <th>10</th>\n",
       "      <td>FUT</td>\n",
       "      <td>357283364</td>\n",
       "      <td>ES</td>\n",
       "      <td>20200619</td>\n",
       "      <td>0.0</td>\n",
       "      <td></td>\n",
       "      <td>50</td>\n",
       "      <td>GLOBEX</td>\n",
       "      <td></td>\n",
       "      <td>USD</td>\n",
       "      <td>ESM0</td>\n",
       "      <td>ES</td>\n",
       "      <td>False</td>\n",
       "      <td></td>\n",
       "      <td></td>\n",
       "      <td></td>\n",
       "      <td>[]</td>\n",
       "      <td>None</td>\n",
       "    </tr>\n",
       "    <tr>\n",
       "      <th>11</th>\n",
       "      <td>FUT</td>\n",
       "      <td>357283364</td>\n",
       "      <td>ES</td>\n",
       "      <td>20200619</td>\n",
       "      <td>0.0</td>\n",
       "      <td></td>\n",
       "      <td>50</td>\n",
       "      <td>QBALGO</td>\n",
       "      <td></td>\n",
       "      <td>USD</td>\n",
       "      <td>ESM0</td>\n",
       "      <td>ES</td>\n",
       "      <td>False</td>\n",
       "      <td></td>\n",
       "      <td></td>\n",
       "      <td></td>\n",
       "      <td>[]</td>\n",
       "      <td>None</td>\n",
       "    </tr>\n",
       "    <tr>\n",
       "      <th>12</th>\n",
       "      <td>FUT</td>\n",
       "      <td>371749798</td>\n",
       "      <td>ES</td>\n",
       "      <td>20200918</td>\n",
       "      <td>0.0</td>\n",
       "      <td></td>\n",
       "      <td>50</td>\n",
       "      <td>GLOBEX</td>\n",
       "      <td></td>\n",
       "      <td>USD</td>\n",
       "      <td>ESU0</td>\n",
       "      <td>ES</td>\n",
       "      <td>False</td>\n",
       "      <td></td>\n",
       "      <td></td>\n",
       "      <td></td>\n",
       "      <td>[]</td>\n",
       "      <td>None</td>\n",
       "    </tr>\n",
       "    <tr>\n",
       "      <th>13</th>\n",
       "      <td>FUT</td>\n",
       "      <td>371749798</td>\n",
       "      <td>ES</td>\n",
       "      <td>20200918</td>\n",
       "      <td>0.0</td>\n",
       "      <td></td>\n",
       "      <td>50</td>\n",
       "      <td>QBALGO</td>\n",
       "      <td></td>\n",
       "      <td>USD</td>\n",
       "      <td>ESU0</td>\n",
       "      <td>ES</td>\n",
       "      <td>False</td>\n",
       "      <td></td>\n",
       "      <td></td>\n",
       "      <td></td>\n",
       "      <td>[]</td>\n",
       "      <td>None</td>\n",
       "    </tr>\n",
       "    <tr>\n",
       "      <th>14</th>\n",
       "      <td>FUT</td>\n",
       "      <td>383974339</td>\n",
       "      <td>ES</td>\n",
       "      <td>20201218</td>\n",
       "      <td>0.0</td>\n",
       "      <td></td>\n",
       "      <td>50</td>\n",
       "      <td>GLOBEX</td>\n",
       "      <td></td>\n",
       "      <td>USD</td>\n",
       "      <td>ESZ0</td>\n",
       "      <td>ES</td>\n",
       "      <td>False</td>\n",
       "      <td></td>\n",
       "      <td></td>\n",
       "      <td></td>\n",
       "      <td>[]</td>\n",
       "      <td>None</td>\n",
       "    </tr>\n",
       "    <tr>\n",
       "      <th>15</th>\n",
       "      <td>FUT</td>\n",
       "      <td>383974339</td>\n",
       "      <td>ES</td>\n",
       "      <td>20201218</td>\n",
       "      <td>0.0</td>\n",
       "      <td></td>\n",
       "      <td>50</td>\n",
       "      <td>QBALGO</td>\n",
       "      <td></td>\n",
       "      <td>USD</td>\n",
       "      <td>ESZ0</td>\n",
       "      <td>ES</td>\n",
       "      <td>False</td>\n",
       "      <td></td>\n",
       "      <td></td>\n",
       "      <td></td>\n",
       "      <td>[]</td>\n",
       "      <td>None</td>\n",
       "    </tr>\n",
       "    <tr>\n",
       "      <th>16</th>\n",
       "      <td>FUT</td>\n",
       "      <td>396336017</td>\n",
       "      <td>ES</td>\n",
       "      <td>20210319</td>\n",
       "      <td>0.0</td>\n",
       "      <td></td>\n",
       "      <td>50</td>\n",
       "      <td>GLOBEX</td>\n",
       "      <td></td>\n",
       "      <td>USD</td>\n",
       "      <td>ESH1</td>\n",
       "      <td>ES</td>\n",
       "      <td>False</td>\n",
       "      <td></td>\n",
       "      <td></td>\n",
       "      <td></td>\n",
       "      <td>[]</td>\n",
       "      <td>None</td>\n",
       "    </tr>\n",
       "    <tr>\n",
       "      <th>17</th>\n",
       "      <td>FUT</td>\n",
       "      <td>396336017</td>\n",
       "      <td>ES</td>\n",
       "      <td>20210319</td>\n",
       "      <td>0.0</td>\n",
       "      <td></td>\n",
       "      <td>50</td>\n",
       "      <td>QBALGO</td>\n",
       "      <td></td>\n",
       "      <td>USD</td>\n",
       "      <td>ESH1</td>\n",
       "      <td>ES</td>\n",
       "      <td>False</td>\n",
       "      <td></td>\n",
       "      <td></td>\n",
       "      <td></td>\n",
       "      <td>[]</td>\n",
       "      <td>None</td>\n",
       "    </tr>\n",
       "    <tr>\n",
       "      <th>18</th>\n",
       "      <td>FUT</td>\n",
       "      <td>412889032</td>\n",
       "      <td>ES</td>\n",
       "      <td>20210618</td>\n",
       "      <td>0.0</td>\n",
       "      <td></td>\n",
       "      <td>50</td>\n",
       "      <td>GLOBEX</td>\n",
       "      <td></td>\n",
       "      <td>USD</td>\n",
       "      <td>ESM1</td>\n",
       "      <td>ES</td>\n",
       "      <td>False</td>\n",
       "      <td></td>\n",
       "      <td></td>\n",
       "      <td></td>\n",
       "      <td>[]</td>\n",
       "      <td>None</td>\n",
       "    </tr>\n",
       "    <tr>\n",
       "      <th>19</th>\n",
       "      <td>FUT</td>\n",
       "      <td>412889032</td>\n",
       "      <td>ES</td>\n",
       "      <td>20210618</td>\n",
       "      <td>0.0</td>\n",
       "      <td></td>\n",
       "      <td>50</td>\n",
       "      <td>QBALGO</td>\n",
       "      <td></td>\n",
       "      <td>USD</td>\n",
       "      <td>ESM1</td>\n",
       "      <td>ES</td>\n",
       "      <td>False</td>\n",
       "      <td></td>\n",
       "      <td></td>\n",
       "      <td></td>\n",
       "      <td>[]</td>\n",
       "      <td>None</td>\n",
       "    </tr>\n",
       "    <tr>\n",
       "      <th>20</th>\n",
       "      <td>FUT</td>\n",
       "      <td>428520022</td>\n",
       "      <td>ES</td>\n",
       "      <td>20210917</td>\n",
       "      <td>0.0</td>\n",
       "      <td></td>\n",
       "      <td>50</td>\n",
       "      <td>GLOBEX</td>\n",
       "      <td></td>\n",
       "      <td>USD</td>\n",
       "      <td>ESU1</td>\n",
       "      <td>ES</td>\n",
       "      <td>False</td>\n",
       "      <td></td>\n",
       "      <td></td>\n",
       "      <td></td>\n",
       "      <td>[]</td>\n",
       "      <td>None</td>\n",
       "    </tr>\n",
       "    <tr>\n",
       "      <th>21</th>\n",
       "      <td>FUT</td>\n",
       "      <td>428520022</td>\n",
       "      <td>ES</td>\n",
       "      <td>20210917</td>\n",
       "      <td>0.0</td>\n",
       "      <td></td>\n",
       "      <td>50</td>\n",
       "      <td>QBALGO</td>\n",
       "      <td></td>\n",
       "      <td>USD</td>\n",
       "      <td>ESU1</td>\n",
       "      <td>ES</td>\n",
       "      <td>False</td>\n",
       "      <td></td>\n",
       "      <td></td>\n",
       "      <td></td>\n",
       "      <td>[]</td>\n",
       "      <td>None</td>\n",
       "    </tr>\n",
       "    <tr>\n",
       "      <th>22</th>\n",
       "      <td>FUT</td>\n",
       "      <td>446091461</td>\n",
       "      <td>ES</td>\n",
       "      <td>20211217</td>\n",
       "      <td>0.0</td>\n",
       "      <td></td>\n",
       "      <td>50</td>\n",
       "      <td>GLOBEX</td>\n",
       "      <td></td>\n",
       "      <td>USD</td>\n",
       "      <td>ESZ1</td>\n",
       "      <td>ES</td>\n",
       "      <td>False</td>\n",
       "      <td></td>\n",
       "      <td></td>\n",
       "      <td></td>\n",
       "      <td>[]</td>\n",
       "      <td>None</td>\n",
       "    </tr>\n",
       "    <tr>\n",
       "      <th>23</th>\n",
       "      <td>FUT</td>\n",
       "      <td>446091461</td>\n",
       "      <td>ES</td>\n",
       "      <td>20211217</td>\n",
       "      <td>0.0</td>\n",
       "      <td></td>\n",
       "      <td>50</td>\n",
       "      <td>QBALGO</td>\n",
       "      <td></td>\n",
       "      <td>USD</td>\n",
       "      <td>ESZ1</td>\n",
       "      <td>ES</td>\n",
       "      <td>False</td>\n",
       "      <td></td>\n",
       "      <td></td>\n",
       "      <td></td>\n",
       "      <td>[]</td>\n",
       "      <td>None</td>\n",
       "    </tr>\n",
       "    <tr>\n",
       "      <th>24</th>\n",
       "      <td>FUT</td>\n",
       "      <td>461318816</td>\n",
       "      <td>ES</td>\n",
       "      <td>20220317</td>\n",
       "      <td>0.0</td>\n",
       "      <td></td>\n",
       "      <td>50</td>\n",
       "      <td>GLOBEX</td>\n",
       "      <td></td>\n",
       "      <td>USD</td>\n",
       "      <td>ESH2</td>\n",
       "      <td>ES</td>\n",
       "      <td>False</td>\n",
       "      <td></td>\n",
       "      <td></td>\n",
       "      <td></td>\n",
       "      <td>[]</td>\n",
       "      <td>None</td>\n",
       "    </tr>\n",
       "    <tr>\n",
       "      <th>25</th>\n",
       "      <td>FUT</td>\n",
       "      <td>461318816</td>\n",
       "      <td>ES</td>\n",
       "      <td>20220317</td>\n",
       "      <td>0.0</td>\n",
       "      <td></td>\n",
       "      <td>50</td>\n",
       "      <td>QBALGO</td>\n",
       "      <td></td>\n",
       "      <td>USD</td>\n",
       "      <td>ESH2</td>\n",
       "      <td>ES</td>\n",
       "      <td>False</td>\n",
       "      <td></td>\n",
       "      <td></td>\n",
       "      <td></td>\n",
       "      <td>[]</td>\n",
       "      <td>None</td>\n",
       "    </tr>\n",
       "  </tbody>\n",
       "</table>\n",
       "</div>"
      ],
      "text/plain": [
       "   secType      conId symbol lastTradeDateOrContractMonth  strike right  \\\n",
       "0      FUT  299552802     ES                     20190315     0.0         \n",
       "1      FUT  299552802     ES                     20190315     0.0         \n",
       "2      FUT  310629209     ES                     20190621     0.0         \n",
       "3      FUT  310629209     ES                     20190621     0.0         \n",
       "4      FUT  321454763     ES                     20190920     0.0         \n",
       "5      FUT  321454763     ES                     20190920     0.0         \n",
       "6      FUT  334144679     ES                     20191220     0.0         \n",
       "7      FUT  334144679     ES                     20191220     0.0         \n",
       "8      FUT  346577697     ES                     20200320     0.0         \n",
       "9      FUT  346577697     ES                     20200320     0.0         \n",
       "10     FUT  357283364     ES                     20200619     0.0         \n",
       "11     FUT  357283364     ES                     20200619     0.0         \n",
       "12     FUT  371749798     ES                     20200918     0.0         \n",
       "13     FUT  371749798     ES                     20200918     0.0         \n",
       "14     FUT  383974339     ES                     20201218     0.0         \n",
       "15     FUT  383974339     ES                     20201218     0.0         \n",
       "16     FUT  396336017     ES                     20210319     0.0         \n",
       "17     FUT  396336017     ES                     20210319     0.0         \n",
       "18     FUT  412889032     ES                     20210618     0.0         \n",
       "19     FUT  412889032     ES                     20210618     0.0         \n",
       "20     FUT  428520022     ES                     20210917     0.0         \n",
       "21     FUT  428520022     ES                     20210917     0.0         \n",
       "22     FUT  446091461     ES                     20211217     0.0         \n",
       "23     FUT  446091461     ES                     20211217     0.0         \n",
       "24     FUT  461318816     ES                     20220317     0.0         \n",
       "25     FUT  461318816     ES                     20220317     0.0         \n",
       "\n",
       "   multiplier exchange primaryExchange currency localSymbol tradingClass  \\\n",
       "0          50   GLOBEX                      USD        ESH9           ES   \n",
       "1          50   QBALGO                      USD        ESH9           ES   \n",
       "2          50   GLOBEX                      USD        ESM9           ES   \n",
       "3          50   QBALGO                      USD        ESM9           ES   \n",
       "4          50   GLOBEX                      USD        ESU9           ES   \n",
       "5          50   QBALGO                      USD        ESU9           ES   \n",
       "6          50   GLOBEX                      USD        ESZ9           ES   \n",
       "7          50   QBALGO                      USD        ESZ9           ES   \n",
       "8          50   GLOBEX                      USD        ESH0           ES   \n",
       "9          50   QBALGO                      USD        ESH0           ES   \n",
       "10         50   GLOBEX                      USD        ESM0           ES   \n",
       "11         50   QBALGO                      USD        ESM0           ES   \n",
       "12         50   GLOBEX                      USD        ESU0           ES   \n",
       "13         50   QBALGO                      USD        ESU0           ES   \n",
       "14         50   GLOBEX                      USD        ESZ0           ES   \n",
       "15         50   QBALGO                      USD        ESZ0           ES   \n",
       "16         50   GLOBEX                      USD        ESH1           ES   \n",
       "17         50   QBALGO                      USD        ESH1           ES   \n",
       "18         50   GLOBEX                      USD        ESM1           ES   \n",
       "19         50   QBALGO                      USD        ESM1           ES   \n",
       "20         50   GLOBEX                      USD        ESU1           ES   \n",
       "21         50   QBALGO                      USD        ESU1           ES   \n",
       "22         50   GLOBEX                      USD        ESZ1           ES   \n",
       "23         50   QBALGO                      USD        ESZ1           ES   \n",
       "24         50   GLOBEX                      USD        ESH2           ES   \n",
       "25         50   QBALGO                      USD        ESH2           ES   \n",
       "\n",
       "    includeExpired secIdType secId comboLegsDescrip comboLegs  \\\n",
       "0            False                                         []   \n",
       "1            False                                         []   \n",
       "2            False                                         []   \n",
       "3            False                                         []   \n",
       "4            False                                         []   \n",
       "5            False                                         []   \n",
       "6            False                                         []   \n",
       "7            False                                         []   \n",
       "8            False                                         []   \n",
       "9            False                                         []   \n",
       "10           False                                         []   \n",
       "11           False                                         []   \n",
       "12           False                                         []   \n",
       "13           False                                         []   \n",
       "14           False                                         []   \n",
       "15           False                                         []   \n",
       "16           False                                         []   \n",
       "17           False                                         []   \n",
       "18           False                                         []   \n",
       "19           False                                         []   \n",
       "20           False                                         []   \n",
       "21           False                                         []   \n",
       "22           False                                         []   \n",
       "23           False                                         []   \n",
       "24           False                                         []   \n",
       "25           False                                         []   \n",
       "\n",
       "   deltaNeutralContract  \n",
       "0                  None  \n",
       "1                  None  \n",
       "2                  None  \n",
       "3                  None  \n",
       "4                  None  \n",
       "5                  None  \n",
       "6                  None  \n",
       "7                  None  \n",
       "8                  None  \n",
       "9                  None  \n",
       "10                 None  \n",
       "11                 None  \n",
       "12                 None  \n",
       "13                 None  \n",
       "14                 None  \n",
       "15                 None  \n",
       "16                 None  \n",
       "17                 None  \n",
       "18                 None  \n",
       "19                 None  \n",
       "20                 None  \n",
       "21                 None  \n",
       "22                 None  \n",
       "23                 None  \n",
       "24                 None  \n",
       "25                 None  "
      ]
     },
     "execution_count": 39,
     "metadata": {},
     "output_type": "execute_result"
    }
   ],
   "source": [
    "cds = ib.reqContractDetails(asset)\n",
    "\n",
    "contracts = [cd.contract for cd in cds]\n",
    "\n",
    "ib_insync.util.df(contracts)"
   ]
  },
  {
   "cell_type": "markdown",
   "metadata": {},
   "source": [
    "## Cont futures"
   ]
  },
  {
   "cell_type": "code",
   "execution_count": null,
   "metadata": {
    "ExecuteTime": {
     "end_time": "2021-02-27T17:48:43.198053Z",
     "start_time": "2021-02-27T17:48:32.174Z"
    }
   },
   "outputs": [],
   "source": [
    "asset = ib_insync.ContFuture(\"ES\", \"Globex\", \"USD\")\n",
    "ibutils.get_contract_details(ib, asset)"
   ]
  },
  {
   "cell_type": "code",
   "execution_count": null,
   "metadata": {
    "ExecuteTime": {
     "end_time": "2021-02-27T17:48:43.199743Z",
     "start_time": "2021-02-27T17:48:32.176Z"
    }
   },
   "outputs": [],
   "source": [
    "ibutils.get_end_timestamp(ib, contract, 'TRADES', useRTH=True)"
   ]
  },
  {
   "cell_type": "markdown",
   "metadata": {},
   "source": [
    "# Option chain"
   ]
  },
  {
   "cell_type": "code",
   "execution_count": null,
   "metadata": {
    "ExecuteTime": {
     "end_time": "2021-02-27T17:48:43.200719Z",
     "start_time": "2021-02-27T17:48:32.179Z"
    }
   },
   "outputs": [],
   "source": [
    "# Options on SPX next 3 "
   ]
  },
  {
   "cell_type": "code",
   "execution_count": null,
   "metadata": {
    "ExecuteTime": {
     "end_time": "2021-02-27T17:48:43.201959Z",
     "start_time": "2021-02-27T17:48:32.181Z"
    }
   },
   "outputs": [],
   "source": [
    "spx = ib_insync.Index('SPX', 'CBOE')\n",
    "print(\"type=%s %s\" % (type(spx), spx))\n",
    "\n",
    "ib.qualifyContracts(spx)"
   ]
  },
  {
   "cell_type": "code",
   "execution_count": null,
   "metadata": {
    "ExecuteTime": {
     "end_time": "2021-02-27T17:48:43.202981Z",
     "start_time": "2021-02-27T17:48:32.183Z"
    }
   },
   "outputs": [],
   "source": [
    "# Use delayed data.\n",
    "ib.reqMarketDataType(4)\n",
    "tickers = ib.reqTickers(spx)\n",
    "assert len(tickers) == 1\n",
    "ticker = tickers[0]\n",
    "\n",
    "print(pri.type_obj_to_str(ticker))"
   ]
  },
  {
   "cell_type": "code",
   "execution_count": null,
   "metadata": {
    "ExecuteTime": {
     "end_time": "2021-02-27T17:48:43.204061Z",
     "start_time": "2021-02-27T17:48:32.184Z"
    }
   },
   "outputs": [],
   "source": [
    "spx_value = ticker.marketPrice()\n",
    "spx_value"
   ]
  },
  {
   "cell_type": "code",
   "execution_count": null,
   "metadata": {
    "ExecuteTime": {
     "end_time": "2021-02-27T17:48:43.205316Z",
     "start_time": "2021-02-27T17:48:32.186Z"
    }
   },
   "outputs": [],
   "source": [
    "# TODO: finish"
   ]
  },
  {
   "cell_type": "markdown",
   "metadata": {},
   "source": [
    "# Historical data"
   ]
  },
  {
   "cell_type": "code",
   "execution_count": null,
   "metadata": {
    "ExecuteTime": {
     "end_time": "2021-02-27T17:48:43.206415Z",
     "start_time": "2021-02-27T17:48:32.189Z"
    }
   },
   "outputs": [],
   "source": [
    "# 1 = Live\n",
    "# 2 = Frozen\n",
    "# 3 = Delayed\n",
    "# 4 = Delayed frozen\n",
    "ib.reqMarketDataType(4)\n",
    "\n",
    "if False:\n",
    "    contract = ib_insync.Stock('TSLA', 'SMART', 'USD')\n",
    "    whatToShow = 'TRADES'\n",
    "elif False:\n",
    "    contract = ib_insync.Future('ES', '202109', 'GLOBEX')\n",
    "    whatToShow = 'TRADES'\n",
    "elif True:\n",
    "    contract = ib_insync.ContFuture(\"ES\", \"GLOBEX\", \"USD\")\n",
    "    whatToShow = 'TRADES'\n",
    "else:\n",
    "    contract = ib_insync.Forex('EURUSD')\n",
    "    whatToShow = 'MIDPOINT'\n",
    "\n",
    "if False:\n",
    "    durationStr = '1 Y'\n",
    "    barSizeSetting = '1 day'\n",
    "    #barSizeSetting='1 hour'\n",
    "else:\n",
    "    durationStr = '1 D'\n",
    "    barSizeSetting = '1 hour'\n",
    "\n",
    "print(\"contract=\", contract)\n",
    "print(\"whatToShow=\", whatToShow)\n",
    "print(\"durationStr=\", durationStr)\n",
    "print(\"barSizeSetting=\", barSizeSetting)\n",
    "\n",
    "# Get the datetime of earliest available historical data for the contract.\n",
    "ts = ib.reqHeadTimeStamp(contract, whatToShow=whatToShow, useRTH=True)\n",
    "print(\"ts=\", ts)\n",
    "bars = ib.reqHistoricalData(\n",
    "    contract,\n",
    "    endDateTime='',\n",
    "    durationStr=durationStr,\n",
    "    barSizeSetting=barSizeSetting,\n",
    "    whatToShow=whatToShow,\n",
    "    useRTH=True,\n",
    "    formatDate=1)\n",
    "print(\"len(bars)=\", len(bars))\n",
    "print(ib_insync.util.df(bars))"
   ]
  },
  {
   "cell_type": "code",
   "execution_count": null,
   "metadata": {
    "ExecuteTime": {
     "end_time": "2021-02-27T17:48:43.207422Z",
     "start_time": "2021-02-27T17:48:32.191Z"
    }
   },
   "outputs": [],
   "source": [
    "#icontract = ib_insync.Stock('TSLA', 'SMART', 'USD')\n",
    "contract = ib_insync.Forex('EURUSD')\n",
    "\n",
    "# Get the datetime of earliest available historical data for the contract.\n",
    "ib.reqHeadTimeStamp(contract, whatToShow='TRADES', useRTH=True)"
   ]
  },
  {
   "cell_type": "code",
   "execution_count": null,
   "metadata": {
    "ExecuteTime": {
     "end_time": "2021-02-27T17:48:43.208518Z",
     "start_time": "2021-02-27T17:48:32.193Z"
    }
   },
   "outputs": [],
   "source": [
    "print(contract)\n",
    "ib.reqMarketDataType(4)\n",
    "bars = ib.reqHistoricalData(\n",
    "    contract,\n",
    "    endDateTime='20200101 01:01:01',\n",
    "    durationStr='60 D',\n",
    "    barSizeSetting='1 hour',\n",
    "    whatToShow='TRADES',\n",
    "    useRTH=True,\n",
    "    formatDate=1)"
   ]
  },
  {
   "cell_type": "code",
   "execution_count": null,
   "metadata": {
    "ExecuteTime": {
     "end_time": "2021-02-27T17:48:43.209518Z",
     "start_time": "2021-02-27T17:48:32.195Z"
    }
   },
   "outputs": [],
   "source": [
    "print(bars[0])\n",
    "df = util.df(bars)\n",
    "\n",
    "display(df.head())\n",
    "display(df.tail())"
   ]
  },
  {
   "cell_type": "markdown",
   "metadata": {},
   "source": [
    "## Historical data with RT updates"
   ]
  },
  {
   "cell_type": "code",
   "execution_count": null,
   "metadata": {
    "ExecuteTime": {
     "end_time": "2021-02-27T17:48:43.210544Z",
     "start_time": "2021-02-27T17:48:32.198Z"
    }
   },
   "outputs": [],
   "source": [
    "ib.reqMarketDataType(1)\n",
    "contract = ib_insync.Forex('EURUSD')\n",
    "\n",
    "bars = ib.reqHistoricalData(\n",
    "        contract,\n",
    "        endDateTime='',\n",
    "        durationStr='900 S',\n",
    "        barSizeSetting='10 secs',\n",
    "        whatToShow='MIDPOINT',\n",
    "        useRTH=True,\n",
    "        formatDate=1,\n",
    "        keepUpToDate=True)\n",
    "\n",
    "print(bars[-1])"
   ]
  },
  {
   "cell_type": "code",
   "execution_count": null,
   "metadata": {
    "ExecuteTime": {
     "end_time": "2021-02-27T17:48:43.211576Z",
     "start_time": "2021-02-27T17:48:32.200Z"
    }
   },
   "outputs": [],
   "source": [
    "from IPython.display import display, clear_output\n",
    "import matplotlib.pyplot as plt\n",
    "\n",
    "def onBarUpdate(bars, hasNewBar):\n",
    "    plt.close()\n",
    "    plot = ib_insync.util.barplot(bars)\n",
    "    clear_output(wait=True)\n",
    "    display(plot)\n",
    "\n",
    "bars.updateEvent += onBarUpdate\n",
    "\n",
    "ib.sleep(10)\n",
    "ib.cancelHistoricalData(bars)"
   ]
  },
  {
   "cell_type": "markdown",
   "metadata": {},
   "source": [
    "## Realtime bars"
   ]
  },
  {
   "cell_type": "code",
   "execution_count": null,
   "metadata": {
    "ExecuteTime": {
     "end_time": "2021-02-27T17:48:43.212525Z",
     "start_time": "2021-02-27T17:48:32.203Z"
    }
   },
   "outputs": [],
   "source": [
    "def onBarUpdate(bars, hasNewBar):\n",
    "    print(bars[-1])"
   ]
  },
  {
   "cell_type": "code",
   "execution_count": null,
   "metadata": {
    "ExecuteTime": {
     "end_time": "2021-02-27T17:48:43.213523Z",
     "start_time": "2021-02-27T17:48:32.205Z"
    }
   },
   "outputs": [],
   "source": [
    "bars = ib.reqRealTimeBars(contract, 5, 'MIDPOINT', False)\n",
    "bars.updateEvent += onBarUpdate"
   ]
  },
  {
   "cell_type": "code",
   "execution_count": null,
   "metadata": {
    "ExecuteTime": {
     "end_time": "2021-02-27T17:48:43.214774Z",
     "start_time": "2021-02-27T17:48:32.208Z"
    }
   },
   "outputs": [],
   "source": [
    "ib.sleep(10)\n",
    "ib.cancelRealTimeBars(bars)"
   ]
  },
  {
   "cell_type": "markdown",
   "metadata": {},
   "source": [
    "# Tick data"
   ]
  },
  {
   "cell_type": "markdown",
   "metadata": {},
   "source": [
    "## Streaming tick data"
   ]
  },
  {
   "cell_type": "code",
   "execution_count": null,
   "metadata": {
    "ExecuteTime": {
     "end_time": "2021-02-27T17:48:43.215859Z",
     "start_time": "2021-02-27T17:48:32.211Z"
    }
   },
   "outputs": [],
   "source": [
    "contracts = ('EURUSD', 'USDJPY', 'GBPUSD', 'USDCHF', 'USDCAD', 'AUDUSD')\n",
    "contracts = [ib_insync.Forex(p) for p in contracts]\n",
    "ib.qualifyContracts(*contracts)"
   ]
  },
  {
   "cell_type": "code",
   "execution_count": null,
   "metadata": {
    "ExecuteTime": {
     "end_time": "2021-02-27T17:48:43.216916Z",
     "start_time": "2021-02-27T17:48:32.213Z"
    }
   },
   "outputs": [],
   "source": [
    "# reqMktData: subscribe to tick data or request a snapshot.\n",
    "# https://interactivebrokers.github.io/tws-api/md_request.html\n",
    "\n",
    "for contract in contracts:\n",
    "    # https://ib-insync.readthedocs.io/api.html#ib_insync.ib.IB.reqMktData\n",
    "    genericTickList = ''\n",
    "    # Subscribe a stream of real time.\n",
    "    snapshot = False\n",
    "    # Request NBBO snapshot.\n",
    "    regulatory_snapshot = False\n",
    "    ib.reqMktData(contract, genericTickList, snapshot, regulatory_snapshot)"
   ]
  },
  {
   "cell_type": "code",
   "execution_count": null,
   "metadata": {
    "ExecuteTime": {
     "end_time": "2021-02-27T17:48:43.217939Z",
     "start_time": "2021-02-27T17:48:32.216Z"
    }
   },
   "outputs": [],
   "source": [
    "eurusd = contracts[1]\n",
    "ticker = ib.ticker(eurusd)\n",
    "print(ticker)\n",
    "print(ticker.midpoint())"
   ]
  },
  {
   "cell_type": "code",
   "execution_count": null,
   "metadata": {
    "ExecuteTime": {
     "end_time": "2021-02-27T17:48:43.218906Z",
     "start_time": "2021-02-27T17:48:32.218Z"
    }
   },
   "outputs": [],
   "source": [
    "#ticker.marketPrice()\n",
    "ticker.midpoint()"
   ]
  },
  {
   "cell_type": "code",
   "execution_count": null,
   "metadata": {
    "ExecuteTime": {
     "end_time": "2021-02-27T17:48:43.219885Z",
     "start_time": "2021-02-27T17:48:32.220Z"
    }
   },
   "outputs": [],
   "source": [
    "from IPython.display import display, clear_output\n",
    "import pandas as pd\n",
    "\n",
    "df = pd.DataFrame(\n",
    "    index=[c.pair() for c in contracts],\n",
    "    columns=['bidSize', 'bid', 'ask', 'askSize', 'high', 'low', 'close'])\n",
    "\n",
    "def onPendingTickers(tickers):\n",
    "    for t in tickers:\n",
    "        df.loc[t.contract.pair()] = (\n",
    "            t.bidSize, t.bid, t.ask, t.askSize, t.high, t.low, t.close)\n",
    "        clear_output(wait=True)\n",
    "    display(df)        \n",
    "\n",
    "ib.pendingTickersEvent += onPendingTickers\n",
    "ib.sleep(10)\n",
    "ib.pendingTickersEvent -= onPendingTickers\n",
    "print(\"DONE\")"
   ]
  },
  {
   "cell_type": "code",
   "execution_count": null,
   "metadata": {
    "ExecuteTime": {
     "end_time": "2021-02-27T17:48:43.220869Z",
     "start_time": "2021-02-27T17:48:32.222Z"
    }
   },
   "outputs": [],
   "source": [
    "# Stop the update.\n",
    "for contract in contracts:\n",
    "    ib.cancelMktData(contract)"
   ]
  },
  {
   "cell_type": "markdown",
   "metadata": {},
   "source": [
    "## Tick by tick data"
   ]
  },
  {
   "cell_type": "code",
   "execution_count": null,
   "metadata": {
    "ExecuteTime": {
     "end_time": "2021-02-27T17:48:43.221907Z",
     "start_time": "2021-02-27T17:48:32.224Z"
    }
   },
   "outputs": [],
   "source": [
    "# re\n",
    "# https://interactivebrokers.github.io/tws-api/tick_data.html"
   ]
  },
  {
   "cell_type": "code",
   "execution_count": null,
   "metadata": {
    "ExecuteTime": {
     "end_time": "2021-02-27T17:48:43.222856Z",
     "start_time": "2021-02-27T17:48:32.227Z"
    }
   },
   "outputs": [],
   "source": [
    "ticker = ib.reqTickByTickData(eurusd, 'BidAsk')\n",
    "ib.sleep(2)\n",
    "print(ticker)"
   ]
  },
  {
   "cell_type": "code",
   "execution_count": null,
   "metadata": {
    "ExecuteTime": {
     "end_time": "2021-02-27T17:48:43.223809Z",
     "start_time": "2021-02-27T17:48:32.230Z"
    }
   },
   "outputs": [],
   "source": [
    "ticker = ib.reqTickByTickData(eurusd, 'BidAsk')\n",
    "ib.sleep(2)\n",
    "print(ticker)"
   ]
  },
  {
   "cell_type": "code",
   "execution_count": null,
   "metadata": {
    "ExecuteTime": {
     "end_time": "2021-02-27T17:48:43.224809Z",
     "start_time": "2021-02-27T17:48:32.232Z"
    }
   },
   "outputs": [],
   "source": [
    "ib.cancelTickByTickData(ticker.contract, 'BidAsk')"
   ]
  },
  {
   "cell_type": "markdown",
   "metadata": {},
   "source": [
    "## Historical tick data"
   ]
  },
  {
   "cell_type": "code",
   "execution_count": null,
   "metadata": {
    "ExecuteTime": {
     "end_time": "2021-02-27T17:48:43.225802Z",
     "start_time": "2021-02-27T17:48:32.235Z"
    }
   },
   "outputs": [],
   "source": [
    "# reqHistoricalTicks(contract, startDateTime, endDateTime,\n",
    "#    numberOfTicks, whatToShow, useRth, ignoreSize=False, miscOptions=[]\n",
    "# Request historical ticks. The time resolution of the ticks is one second.\n",
    "# This method is blocking.\n",
    "# https://interactivebrokers.github.io/tws-api/historical_time_and_sales.html"
   ]
  },
  {
   "cell_type": "code",
   "execution_count": null,
   "metadata": {
    "ExecuteTime": {
     "end_time": "2021-02-27T17:48:43.226831Z",
     "start_time": "2021-02-27T17:48:32.238Z"
    }
   },
   "outputs": [],
   "source": [
    "import datetime\n",
    "\n",
    "start = ''\n",
    "end = datetime.datetime.now()\n",
    "print(start, end)\n",
    "number_of_ticks = 1000\n",
    "what_to_show = \"BID_ASK\"\n",
    "useRTH = False\n",
    "ticks = ib.reqHistoricalTicks(eurusd, start, end, number_of_ticks, what_to_show, useRTH)\n",
    "\n",
    "print(len(ticks))\n",
    "df = ib_insync.util.df(ticks)\n",
    "df.drop(columns=\"tickAttribBidAsk\", inplace=True)\n",
    "#df.index = [t.time for t in ticks]\n",
    "\n",
    "df.head(5)"
   ]
  },
  {
   "cell_type": "code",
   "execution_count": null,
   "metadata": {
    "ExecuteTime": {
     "end_time": "2021-02-27T17:48:43.227933Z",
     "start_time": "2021-02-27T17:48:32.241Z"
    }
   },
   "outputs": [],
   "source": [
    "print(str(ticks)[:1000])\n",
    "print(ticks[0].time, ticks[-1].time)"
   ]
  },
  {
   "cell_type": "markdown",
   "metadata": {},
   "source": [
    "# Market depth (order book)"
   ]
  },
  {
   "cell_type": "markdown",
   "metadata": {},
   "source": [
    "## Get exchange info"
   ]
  },
  {
   "cell_type": "code",
   "execution_count": null,
   "metadata": {
    "ExecuteTime": {
     "end_time": "2021-02-27T17:48:43.228947Z",
     "start_time": "2021-02-27T17:48:32.244Z"
    }
   },
   "outputs": [],
   "source": [
    "l = ib.reqMktDepthExchanges()\n",
    "print(\"num exchanges with market depth=\", len(l))\n",
    "print(\"\\n\".join(map(str, l[:5])))"
   ]
  },
  {
   "cell_type": "code",
   "execution_count": null,
   "metadata": {
    "ExecuteTime": {
     "end_time": "2021-02-27T17:48:43.229986Z",
     "start_time": "2021-02-27T17:48:32.247Z"
    }
   },
   "outputs": [],
   "source": [
    "df = ib_insync.util.df(l)\n",
    "display(df.head(5))\n",
    "print(\"secType=\", df[\"secType\"].unique())\n",
    "df.sort_values(\"secType\")\n",
    "print(len(df))\n",
    "\n",
    "df_fut = df[df[\"secType\"] == \"FUT\"].sort_values(\"exchange\")\n",
    "print(len(df_fut))\n",
    "display(df_fut)"
   ]
  },
  {
   "cell_type": "markdown",
   "metadata": {},
   "source": [
    "## Get the book"
   ]
  },
  {
   "cell_type": "code",
   "execution_count": null,
   "metadata": {
    "ExecuteTime": {
     "end_time": "2021-02-27T17:48:43.231051Z",
     "start_time": "2021-02-27T17:48:32.251Z"
    }
   },
   "outputs": [],
   "source": [
    "contract = ib_insync.Forex('EURUSD')\n",
    "ib.qualifyContracts(contract)\n",
    "ticker = ib.reqMktDepth(contract)"
   ]
  },
  {
   "cell_type": "code",
   "execution_count": null,
   "metadata": {
    "ExecuteTime": {
     "end_time": "2021-02-27T17:48:43.232090Z",
     "start_time": "2021-02-27T17:48:32.253Z"
    }
   },
   "outputs": [],
   "source": [
    "ticker"
   ]
  },
  {
   "cell_type": "code",
   "execution_count": null,
   "metadata": {
    "ExecuteTime": {
     "end_time": "2021-02-27T17:48:43.233471Z",
     "start_time": "2021-02-27T17:48:32.256Z"
    }
   },
   "outputs": [],
   "source": [
    "from IPython.display import display, clear_output\n",
    "import pandas as pd\n",
    "\n",
    "df = pd.DataFrame(index=range(5),\n",
    "        columns='bidSize bidPrice askPrice askSize'.split())\n",
    "\n",
    "def onTickerUpdate(ticker):\n",
    "    bids = ticker.domBids\n",
    "    for i in range(5):\n",
    "        df.iloc[i, 0] = bids[i].size if i < len(bids) else 0\n",
    "        df.iloc[i, 1] = bids[i].price if i < len(bids) else 0\n",
    "    asks = ticker.domAsks\n",
    "    for i in range(5):\n",
    "        df.iloc[i, 2] = asks[i].price if i < len(asks) else 0\n",
    "        df.iloc[i, 3] = asks[i].size if i < len(asks) else 0\n",
    "    clear_output(wait=True)\n",
    "    display(df)\n",
    "\n",
    "ticker.updateEvent += onTickerUpdate\n",
    "\n",
    "ib_insync.IB.sleep(15);"
   ]
  },
  {
   "cell_type": "code",
   "execution_count": null,
   "metadata": {
    "ExecuteTime": {
     "end_time": "2021-02-27T17:48:43.234548Z",
     "start_time": "2021-02-27T17:48:32.258Z"
    }
   },
   "outputs": [],
   "source": [
    "ib.cancelMktDepth(contract)"
   ]
  },
  {
   "cell_type": "code",
   "execution_count": 23,
   "metadata": {
    "ExecuteTime": {
     "end_time": "2021-02-27T17:48:51.628744Z",
     "start_time": "2021-02-27T17:48:51.586117Z"
    }
   },
   "outputs": [
    {
     "ename": "AssertionError",
     "evalue": "",
     "output_type": "error",
     "traceback": [
      "\u001b[0;31m---------------------------------------------------------------------------\u001b[0m",
      "\u001b[0;31mAssertionError\u001b[0m                            Traceback (most recent call last)",
      "\u001b[0;32m<ipython-input-23-29403cf677e6>\u001b[0m in \u001b[0;36m<module>\u001b[0;34m\u001b[0m\n\u001b[0;32m----> 1\u001b[0;31m \u001b[0;32massert\u001b[0m \u001b[0;36m0\u001b[0m\u001b[0;34m\u001b[0m\u001b[0;34m\u001b[0m\u001b[0m\n\u001b[0m",
      "\u001b[0;31mAssertionError\u001b[0m: "
     ]
    }
   ],
   "source": [
    "assert 0"
   ]
  },
  {
   "cell_type": "markdown",
   "metadata": {},
   "source": [
    "# Ordering"
   ]
  },
  {
   "cell_type": "markdown",
   "metadata": {},
   "source": [
    "## Account info"
   ]
  },
  {
   "cell_type": "code",
   "execution_count": null,
   "metadata": {
    "ExecuteTime": {
     "end_time": "2021-02-27T17:48:43.235517Z",
     "start_time": "2021-02-27T17:48:32.262Z"
    }
   },
   "outputs": [],
   "source": [
    "# List of positions for a given account.\n",
    "print(\"positions=\\n\\t\", \"\\n\\t\".join(map(str, ib.positions())))\n",
    "\n",
    "## List of all orders in current session.\n",
    "print(\"orders=\", ib.orders())\n",
    "\n",
    "## List of trades in current session.\n",
    "print(\"trades=\", ib.trades())"
   ]
  },
  {
   "cell_type": "markdown",
   "metadata": {},
   "source": [
    "## Order"
   ]
  },
  {
   "cell_type": "code",
   "execution_count": null,
   "metadata": {
    "ExecuteTime": {
     "end_time": "2021-02-27T17:48:43.236639Z",
     "start_time": "2021-02-27T17:48:32.265Z"
    }
   },
   "outputs": [],
   "source": [
    "if True:\n",
    "    contract = ib_insync.Forex(\"EURUSD\")\n",
    "    ib.qualifyContracts(contract)\n",
    "    print(\"contract=\", contract)\n",
    "    #\n",
    "    total_quantity = 2000\n",
    "    #total_quantity = 3900\n",
    "    limit_price = 1.1\n",
    "else:\n",
    "    contract = ib_insync.Future('ES', '202109', 'GLOBEX')\n",
    "    ib.qualifyContracts(contract)\n",
    "    print(\"contract=\", contract)\n",
    "    #\n",
    "    total_quantity = 2000\n",
    "    limit_price = 1.1"
   ]
  },
  {
   "cell_type": "code",
   "execution_count": null,
   "metadata": {},
   "outputs": [],
   "source": []
  },
  {
   "cell_type": "code",
   "execution_count": null,
   "metadata": {
    "ExecuteTime": {
     "end_time": "2021-02-27T17:48:43.237679Z",
     "start_time": "2021-02-27T17:48:32.269Z"
    }
   },
   "outputs": [],
   "source": [
    "%%time\n",
    "total_quantity = 3900\n",
    "#limit_price = 1.1\n",
    "limit_price = 100\n",
    "order = ib_insync.LimitOrder(\"BUY\", total_quantity, limit_price)\n",
    "print(\"order=\", order)"
   ]
  },
  {
   "cell_type": "code",
   "execution_count": null,
   "metadata": {
    "ExecuteTime": {
     "end_time": "2021-02-27T17:48:43.238684Z",
     "start_time": "2021-02-27T17:48:32.272Z"
    }
   },
   "outputs": [],
   "source": [
    "def print_trade(trade):\n",
    "    #print(\"trade=\", trade)\n",
    "    print(\"trade.contract=\", trade.contract)\n",
    "    print(\"trade.order=\", trade.order)\n",
    "    print(\"trade.orderStatus=\", trade.orderStatus)\n",
    "    print(\"log=\\n\\t%s\" % \"\\n\\t\".join(map(str, trade.log)))"
   ]
  },
  {
   "cell_type": "code",
   "execution_count": null,
   "metadata": {
    "ExecuteTime": {
     "end_time": "2021-02-27T17:48:43.239700Z",
     "start_time": "2021-02-27T17:48:32.274Z"
    }
   },
   "outputs": [],
   "source": [
    "trade = ib.placeOrder(contract, order)"
   ]
  },
  {
   "cell_type": "code",
   "execution_count": null,
   "metadata": {
    "ExecuteTime": {
     "end_time": "2021-02-27T17:48:43.240760Z",
     "start_time": "2021-02-27T17:48:32.276Z"
    }
   },
   "outputs": [],
   "source": [
    "print_trade(trade)"
   ]
  },
  {
   "cell_type": "code",
   "execution_count": null,
   "metadata": {
    "ExecuteTime": {
     "end_time": "2021-02-27T17:48:43.241756Z",
     "start_time": "2021-02-27T17:48:32.278Z"
    }
   },
   "outputs": [],
   "source": [
    "# The trade is in the trades.\n",
    "ib.trades()"
   ]
  },
  {
   "cell_type": "code",
   "execution_count": null,
   "metadata": {
    "ExecuteTime": {
     "end_time": "2021-02-27T17:48:43.242794Z",
     "start_time": "2021-02-27T17:48:32.280Z"
    }
   },
   "outputs": [],
   "source": [
    "ib.orders()"
   ]
  },
  {
   "cell_type": "markdown",
   "metadata": {},
   "source": [
    "## Order can't be filled."
   ]
  },
  {
   "cell_type": "code",
   "execution_count": null,
   "metadata": {
    "ExecuteTime": {
     "end_time": "2021-02-27T17:48:43.243842Z",
     "start_time": "2021-02-27T17:48:32.283Z"
    }
   },
   "outputs": [],
   "source": [
    "total_quantity = 2000\n",
    "limit_price = 1.1\n",
    "order = ib_insync.LimitOrder(\"SELL\", total_quantity, limit_price)\n",
    "print(\"order=\", order)"
   ]
  },
  {
   "cell_type": "code",
   "execution_count": null,
   "metadata": {
    "ExecuteTime": {
     "end_time": "2021-02-27T17:48:43.244812Z",
     "start_time": "2021-02-27T17:48:32.286Z"
    }
   },
   "outputs": [],
   "source": [
    "# Create a buy order with an irrealistic limit price (too low).\n",
    "print(\"contract=\", contract)\n",
    "total_quantity = 2000\n",
    "price = 0.05\n",
    "order = ib_insync.LimitOrder(\"BUY\", total_quantity, price)\n",
    "# placeOrder is not blocking.\n",
    "trade = ib.placeOrder(contract, order)\n",
    "\n",
    "print_trade(trade)"
   ]
  },
  {
   "cell_type": "code",
   "execution_count": null,
   "metadata": {
    "ExecuteTime": {
     "end_time": "2021-02-27T17:48:43.245750Z",
     "start_time": "2021-02-27T17:48:32.288Z"
    }
   },
   "outputs": [],
   "source": [
    "#print(ib.openTrades())\n",
    "print(trade.orderStatus.status)"
   ]
  },
  {
   "cell_type": "code",
   "execution_count": null,
   "metadata": {
    "ExecuteTime": {
     "end_time": "2021-02-27T17:48:43.246796Z",
     "start_time": "2021-02-27T17:48:32.290Z"
    }
   },
   "outputs": [],
   "source": [
    "print(trade.orderStatus.status)\n",
    "ib.cancelOrder(order)\n",
    "print(trade.orderStatus.status)"
   ]
  },
  {
   "cell_type": "code",
   "execution_count": null,
   "metadata": {
    "ExecuteTime": {
     "end_time": "2021-02-27T17:48:43.247887Z",
     "start_time": "2021-02-27T17:48:32.293Z"
    }
   },
   "outputs": [],
   "source": [
    "trade.log"
   ]
  },
  {
   "cell_type": "code",
   "execution_count": null,
   "metadata": {
    "ExecuteTime": {
     "end_time": "2021-02-27T17:48:43.248915Z",
     "start_time": "2021-02-27T17:48:32.295Z"
    }
   },
   "outputs": [],
   "source": [
    "%%time\n",
    "order = ib_insync.MarketOrder(\"BUY\", 100)\n",
    "\n",
    "trade = ib.placeOrder(contract, order)\n",
    "while not trade.isDone():\n",
    "    print(\"status=\", trade.orderStatus.status)\n",
    "    ib.waitOnUpdate()"
   ]
  },
  {
   "cell_type": "code",
   "execution_count": null,
   "metadata": {
    "ExecuteTime": {
     "end_time": "2021-02-27T17:48:43.249885Z",
     "start_time": "2021-02-27T17:48:32.297Z"
    }
   },
   "outputs": [],
   "source": [
    "ib.positions()"
   ]
  },
  {
   "cell_type": "code",
   "execution_count": null,
   "metadata": {
    "ExecuteTime": {
     "end_time": "2021-02-27T17:48:43.250890Z",
     "start_time": "2021-02-27T17:48:32.299Z"
    }
   },
   "outputs": [],
   "source": [
    "tot_commission = sum(fill.commissionReport.commission for fill in ib.fills())\n",
    "print(tot_commission)"
   ]
  },
  {
   "cell_type": "code",
   "execution_count": null,
   "metadata": {
    "ExecuteTime": {
     "end_time": "2021-02-27T17:48:43.251995Z",
     "start_time": "2021-02-27T17:48:32.301Z"
    }
   },
   "outputs": [],
   "source": [
    "# See commission and margin impact without sending order.\n",
    "order = ib_insync.MarketOrder('SELL', 20000)\n",
    "order_state = ib.whatIfOrder(contract, order)\n",
    "print(type(order_state))\n",
    "print(order_state)\n",
    "\n",
    "#str(order_state)"
   ]
  },
  {
   "cell_type": "code",
   "execution_count": null,
   "metadata": {
    "ExecuteTime": {
     "end_time": "2021-02-27T17:48:43.253102Z",
     "start_time": "2021-02-27T17:48:32.304Z"
    }
   },
   "outputs": [],
   "source": [
    "order_state.dict()"
   ]
  },
  {
   "cell_type": "markdown",
   "metadata": {},
   "source": [
    "# News articles"
   ]
  },
  {
   "cell_type": "code",
   "execution_count": null,
   "metadata": {
    "ExecuteTime": {
     "end_time": "2021-02-27T17:48:43.254138Z",
     "start_time": "2021-02-27T17:48:32.306Z"
    }
   },
   "outputs": [],
   "source": [
    "newsProviders = ib.reqNewsProviders()\n",
    "print(\"newsProviders=\", newsProviders)\n",
    "codes = '+'.join(np.code for np in newsProviders)\n",
    "\n",
    "#\n",
    "contract = ib_insync.Stock('AMD', 'SMART', 'USD')\n",
    "#contract = ib_insync.Future('ES')\n",
    "ib.qualifyContracts(contract)\n",
    "\n",
    "# reqHistoricalNews(conId, providerCodes, startDateTime, endDateTime, totalResults, historicalNewsOptions=None)\n",
    "startDateTime = ''\n",
    "endDateTime = ''\n",
    "totalResults = 10\n",
    "headlines = ib.reqHistoricalNews(contract.conId, codes, startDateTime, endDateTime, totalResults)\n",
    "\n",
    "print(\"\\nlen(headlines)=\", len(headlines))\n",
    "latest = headlines[0]\n",
    "print(\"\\nheadline=\", latest)\n",
    "\n",
    "# Retrieve the article.\n",
    "article = ib.reqNewsArticle(latest.providerCode, latest.articleId)\n",
    "print(\"\\narticle=\", article)"
   ]
  },
  {
   "cell_type": "markdown",
   "metadata": {},
   "source": [
    "# Scanner"
   ]
  },
  {
   "cell_type": "code",
   "execution_count": null,
   "metadata": {
    "ExecuteTime": {
     "end_time": "2021-02-27T17:48:43.255242Z",
     "start_time": "2021-02-27T17:48:32.309Z"
    }
   },
   "outputs": [],
   "source": [
    "# TODO"
   ]
  },
  {
   "cell_type": "markdown",
   "metadata": {},
   "source": [
    "# Code recipes"
   ]
  },
  {
   "cell_type": "markdown",
   "metadata": {},
   "source": [
    "## Fetching consecutive data"
   ]
  },
  {
   "cell_type": "code",
   "execution_count": null,
   "metadata": {
    "ExecuteTime": {
     "end_time": "2021-02-27T17:48:43.256281Z",
     "start_time": "2021-02-27T17:48:32.312Z"
    }
   },
   "outputs": [],
   "source": [
    "# 1 = Live\n",
    "# 2 = Frozen\n",
    "# 3 = Delayed\n",
    "# 4 = Delayed frozen\n",
    "ib.reqMarketDataType(4)\n",
    "\n",
    "if False:\n",
    "    durationStr = '1 Y'\n",
    "    barSizeSetting = '1 day'\n",
    "    #barSizeSetting='1 hour'\n",
    "else:\n",
    "    durationStr = '1 D'\n",
    "    barSizeSetting = '1 hour'\n",
    "\n",
    "if False:\n",
    "    contract = ib_insync.Stock('TSLA', 'SMART', 'USD')\n",
    "    whatToShow = 'TRADES'\n",
    "elif True:\n",
    "    contract = ib_insync.Future('ES', '202109', 'GLOBEX')\n",
    "    whatToShow = 'TRADES'\n",
    "else:\n",
    "    contract = ib_insync.Forex('EURUSD')\n",
    "    whatToShow = 'MIDPOINT'\n",
    "    \n",
    "print(\"contract=\", contract)\n",
    "print(\"whatToShow=\", whatToShow)\n",
    "print(\"durationStr=\", durationStr)\n",
    "print(\"barSizeSetting=\", barSizeSetting)\n",
    "\n",
    "# Get the datetime of earliest available historical data for the contract.\n",
    "ts = ib.reqHeadTimeStamp(contract, whatToShow=whatToShow, useRTH=True)\n",
    "print(\"ts=\", ts)\n",
    "bars = ib.reqHistoricalData(\n",
    "    contract,\n",
    "    endDateTime='',\n",
    "    durationStr=durationStr,\n",
    "    barSizeSetting=barSizeSetting,\n",
    "    whatToShow=whatToShow,\n",
    "    useRTH=True,\n",
    "    formatDate=1)\n",
    "print(\"len(bars)=\", len(bars))"
   ]
  },
  {
   "cell_type": "code",
   "execution_count": null,
   "metadata": {
    "ExecuteTime": {
     "end_time": "2021-02-27T17:48:43.257282Z",
     "start_time": "2021-02-27T17:48:32.314Z"
    }
   },
   "outputs": [],
   "source": [
    "#contract = Stock('TSLA', 'SMART', 'USD')\n",
    "contract = ib_insync.Forex(\"EURUSD\")\n",
    "whatToShow = 'MIDPOINT'\n",
    "ts = ib.reqHeadTimeStamp(contract, whatToShow=whatToShow, useRTH=True)\n",
    "print(ts)\n",
    "#assert 0\n",
    "\n",
    "num_iter = 0\n",
    "max_iter = 5\n",
    "dt = ''\n",
    "barsList = []\n",
    "while True:\n",
    "    bars = ib.reqHistoricalData(\n",
    "        contract,\n",
    "        endDateTime=dt,\n",
    "        durationStr='10 D',\n",
    "        barSizeSetting='1 min',\n",
    "        whatToShow='MIDPOINT',\n",
    "        useRTH=False,\n",
    "        formatDate=1)\n",
    "    if not bars:\n",
    "        break\n",
    "    barsList.append(bars)\n",
    "    dt = bars[0].date\n",
    "    print(dt, len(bars))\n",
    "    num_iter += 1\n",
    "    if num_iter > max_iter:\n",
    "        break\n",
    "\n",
    "# save to CSV file\n",
    "allBars = [b for bars in reversed(barsList) for b in bars]\n",
    "df = util.df(allBars)\n",
    "#df.to_csv(contract.symbol + '.csv')"
   ]
  }
 ],
 "metadata": {
  "jupytext": {
   "text_representation": {
    "extension": ".py",
    "format_name": "percent",
    "format_version": "1.3",
    "jupytext_version": "1.4.2"
   }
  },
  "kernelspec": {
   "display_name": "Python 3",
   "language": "python",
   "name": "python3"
  },
  "language_info": {
   "codemirror_mode": {
    "name": "ipython",
    "version": 3
   },
   "file_extension": ".py",
   "mimetype": "text/x-python",
   "name": "python",
   "nbconvert_exporter": "python",
   "pygments_lexer": "ipython3",
   "version": "3.7.6"
  },
  "toc": {
   "base_numbering": 1,
   "nav_menu": {},
   "number_sections": true,
   "sideBar": true,
   "skip_h1_title": false,
   "title_cell": "Table of Contents",
   "title_sidebar": "Contents",
   "toc_cell": false,
   "toc_position": {
    "height": "calc(100% - 180px)",
    "left": "10px",
    "top": "150px",
    "width": "218.188px"
   },
   "toc_section_display": true,
   "toc_window_display": true
  }
 },
 "nbformat": 4,
 "nbformat_minor": 5
}
